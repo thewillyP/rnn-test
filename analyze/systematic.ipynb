{
 "cells": [
  {
   "cell_type": "code",
   "execution_count": 1,
   "metadata": {},
   "outputs": [],
   "source": [
    "import os\n",
    "import sys\n",
    "sys.path.append(os.getcwd())\n",
    "sys.path.append(os.getcwd() + '/../src')"
   ]
  },
  {
   "cell_type": "code",
   "execution_count": 2,
   "metadata": {},
   "outputs": [],
   "source": [
    "import wandb\n",
    "import pandas as pd\n",
    "import numpy as np\n",
    "import json\n",
    "import matplotlib.pyplot as plt\n",
    "from matplotlib.animation import FuncAnimation\n",
    "import pickle\n",
    "from collections import deque\n",
    "from recurrent.parameters import AllLogs\n",
    "import jax \n",
    "jax.config.update(\"jax_platform_name\", \"cpu\")\n"
   ]
  },
  {
   "cell_type": "code",
   "execution_count": 3,
   "metadata": {},
   "outputs": [
    {
     "name": "stdout",
     "output_type": "stream",
     "text": [
      "Processing run: 83hjf1k8\n",
      "Downloading artifact: env_83hjf1k8:v0\n"
     ]
    },
    {
     "name": "stderr",
     "output_type": "stream",
     "text": [
      "\u001b[34m\u001b[1mwandb\u001b[0m: Using wandb-core as the SDK backend.  Please refer to https://wandb.me/wandb-core for more information.\n",
      "\u001b[34m\u001b[1mwandb\u001b[0m:   1 of 1 files downloaded.  \n"
     ]
    },
    {
     "name": "stdout",
     "output_type": "stream",
     "text": [
      "Downloaded env_83hjf1k8:v0 to downloaded_artifacts/83hjf1k8/env_83hjf1k8:v0\n",
      "Downloading artifact: env_83hjf1k8:v1\n"
     ]
    },
    {
     "name": "stderr",
     "output_type": "stream",
     "text": [
      "\u001b[34m\u001b[1mwandb\u001b[0m:   1 of 1 files downloaded.  \n"
     ]
    },
    {
     "name": "stdout",
     "output_type": "stream",
     "text": [
      "Downloaded env_83hjf1k8:v1 to downloaded_artifacts/83hjf1k8/env_83hjf1k8:v1\n",
      "Downloading artifact: logs_83hjf1k8:v0\n"
     ]
    },
    {
     "name": "stderr",
     "output_type": "stream",
     "text": [
      "\u001b[34m\u001b[1mwandb\u001b[0m:   1 of 1 files downloaded.  \n"
     ]
    },
    {
     "name": "stdout",
     "output_type": "stream",
     "text": [
      "Downloaded logs_83hjf1k8:v0 to downloaded_artifacts/83hjf1k8/logs_83hjf1k8:v0\n",
      "Downloading artifact: env_83hjf1k8:v2\n"
     ]
    },
    {
     "name": "stderr",
     "output_type": "stream",
     "text": [
      "\u001b[34m\u001b[1mwandb\u001b[0m:   1 of 1 files downloaded.  \n"
     ]
    },
    {
     "name": "stdout",
     "output_type": "stream",
     "text": [
      "Downloaded env_83hjf1k8:v2 to downloaded_artifacts/83hjf1k8/env_83hjf1k8:v2\n",
      "Processing run: gicdoysn\n",
      "Downloading artifact: env_gicdoysn:v0\n"
     ]
    },
    {
     "name": "stderr",
     "output_type": "stream",
     "text": [
      "\u001b[34m\u001b[1mwandb\u001b[0m:   1 of 1 files downloaded.  \n"
     ]
    },
    {
     "name": "stdout",
     "output_type": "stream",
     "text": [
      "Downloaded env_gicdoysn:v0 to downloaded_artifacts/gicdoysn/env_gicdoysn:v0\n",
      "Downloading artifact: env_gicdoysn:v1\n"
     ]
    },
    {
     "name": "stderr",
     "output_type": "stream",
     "text": [
      "\u001b[34m\u001b[1mwandb\u001b[0m:   1 of 1 files downloaded.  \n"
     ]
    },
    {
     "name": "stdout",
     "output_type": "stream",
     "text": [
      "Downloaded env_gicdoysn:v1 to downloaded_artifacts/gicdoysn/env_gicdoysn:v1\n",
      "Downloading artifact: logs_gicdoysn:v0\n"
     ]
    },
    {
     "name": "stderr",
     "output_type": "stream",
     "text": [
      "\u001b[34m\u001b[1mwandb\u001b[0m:   1 of 1 files downloaded.  \n"
     ]
    },
    {
     "name": "stdout",
     "output_type": "stream",
     "text": [
      "Downloaded logs_gicdoysn:v0 to downloaded_artifacts/gicdoysn/logs_gicdoysn:v0\n",
      "Downloading artifact: env_gicdoysn:v2\n"
     ]
    },
    {
     "name": "stderr",
     "output_type": "stream",
     "text": [
      "\u001b[34m\u001b[1mwandb\u001b[0m:   1 of 1 files downloaded.  \n"
     ]
    },
    {
     "name": "stdout",
     "output_type": "stream",
     "text": [
      "Downloaded env_gicdoysn:v2 to downloaded_artifacts/gicdoysn/env_gicdoysn:v2\n",
      "Processing run: lky8uxxr\n",
      "Downloading artifact: env_lky8uxxr:v0\n"
     ]
    },
    {
     "name": "stderr",
     "output_type": "stream",
     "text": [
      "\u001b[34m\u001b[1mwandb\u001b[0m:   1 of 1 files downloaded.  \n"
     ]
    },
    {
     "name": "stdout",
     "output_type": "stream",
     "text": [
      "Downloaded env_lky8uxxr:v0 to downloaded_artifacts/lky8uxxr/env_lky8uxxr:v0\n",
      "Downloading artifact: env_lky8uxxr:v1\n"
     ]
    },
    {
     "name": "stderr",
     "output_type": "stream",
     "text": [
      "\u001b[34m\u001b[1mwandb\u001b[0m:   1 of 1 files downloaded.  \n"
     ]
    },
    {
     "name": "stdout",
     "output_type": "stream",
     "text": [
      "Downloaded env_lky8uxxr:v1 to downloaded_artifacts/lky8uxxr/env_lky8uxxr:v1\n",
      "Downloading artifact: logs_lky8uxxr:v0\n"
     ]
    },
    {
     "name": "stderr",
     "output_type": "stream",
     "text": [
      "\u001b[34m\u001b[1mwandb\u001b[0m:   1 of 1 files downloaded.  \n"
     ]
    },
    {
     "name": "stdout",
     "output_type": "stream",
     "text": [
      "Downloaded logs_lky8uxxr:v0 to downloaded_artifacts/lky8uxxr/logs_lky8uxxr:v0\n",
      "Downloading artifact: env_lky8uxxr:v2\n"
     ]
    },
    {
     "name": "stderr",
     "output_type": "stream",
     "text": [
      "\u001b[34m\u001b[1mwandb\u001b[0m:   1 of 1 files downloaded.  \n"
     ]
    },
    {
     "name": "stdout",
     "output_type": "stream",
     "text": [
      "Downloaded env_lky8uxxr:v2 to downloaded_artifacts/lky8uxxr/env_lky8uxxr:v2\n",
      "Downloading artifact: run-lky8uxxr-history:v0\n"
     ]
    },
    {
     "name": "stderr",
     "output_type": "stream",
     "text": [
      "\u001b[34m\u001b[1mwandb\u001b[0m:   1 of 1 files downloaded.  \n"
     ]
    },
    {
     "name": "stdout",
     "output_type": "stream",
     "text": [
      "Downloaded run-lky8uxxr-history:v0 to downloaded_artifacts/lky8uxxr/run-lky8uxxr-history:v0\n",
      "Processing run: wgeu3744\n",
      "Downloading artifact: env_wgeu3744:v0\n"
     ]
    },
    {
     "name": "stderr",
     "output_type": "stream",
     "text": [
      "\u001b[34m\u001b[1mwandb\u001b[0m:   1 of 1 files downloaded.  \n"
     ]
    },
    {
     "name": "stdout",
     "output_type": "stream",
     "text": [
      "Downloaded env_wgeu3744:v0 to downloaded_artifacts/wgeu3744/env_wgeu3744:v0\n",
      "Downloading artifact: env_wgeu3744:v1\n"
     ]
    },
    {
     "name": "stderr",
     "output_type": "stream",
     "text": [
      "\u001b[34m\u001b[1mwandb\u001b[0m:   1 of 1 files downloaded.  \n"
     ]
    },
    {
     "name": "stdout",
     "output_type": "stream",
     "text": [
      "Downloaded env_wgeu3744:v1 to downloaded_artifacts/wgeu3744/env_wgeu3744:v1\n",
      "Downloading artifact: logs_wgeu3744:v0\n"
     ]
    },
    {
     "name": "stderr",
     "output_type": "stream",
     "text": [
      "\u001b[34m\u001b[1mwandb\u001b[0m:   1 of 1 files downloaded.  \n"
     ]
    },
    {
     "name": "stdout",
     "output_type": "stream",
     "text": [
      "Downloaded logs_wgeu3744:v0 to downloaded_artifacts/wgeu3744/logs_wgeu3744:v0\n",
      "Downloading artifact: env_wgeu3744:v2\n"
     ]
    },
    {
     "name": "stderr",
     "output_type": "stream",
     "text": [
      "\u001b[34m\u001b[1mwandb\u001b[0m:   1 of 1 files downloaded.  \n"
     ]
    },
    {
     "name": "stdout",
     "output_type": "stream",
     "text": [
      "Downloaded env_wgeu3744:v2 to downloaded_artifacts/wgeu3744/env_wgeu3744:v2\n",
      "Processing run: y6klzrn2\n",
      "Downloading artifact: env_y6klzrn2:v0\n"
     ]
    },
    {
     "name": "stderr",
     "output_type": "stream",
     "text": [
      "\u001b[34m\u001b[1mwandb\u001b[0m:   1 of 1 files downloaded.  \n"
     ]
    },
    {
     "name": "stdout",
     "output_type": "stream",
     "text": [
      "Downloaded env_y6klzrn2:v0 to downloaded_artifacts/y6klzrn2/env_y6klzrn2:v0\n",
      "Downloading artifact: env_y6klzrn2:v1\n"
     ]
    },
    {
     "name": "stderr",
     "output_type": "stream",
     "text": [
      "\u001b[34m\u001b[1mwandb\u001b[0m:   1 of 1 files downloaded.  \n"
     ]
    },
    {
     "name": "stdout",
     "output_type": "stream",
     "text": [
      "Downloaded env_y6klzrn2:v1 to downloaded_artifacts/y6klzrn2/env_y6klzrn2:v1\n",
      "Downloading artifact: logs_y6klzrn2:v0\n"
     ]
    },
    {
     "name": "stderr",
     "output_type": "stream",
     "text": [
      "\u001b[34m\u001b[1mwandb\u001b[0m:   1 of 1 files downloaded.  \n"
     ]
    },
    {
     "name": "stdout",
     "output_type": "stream",
     "text": [
      "Downloaded logs_y6klzrn2:v0 to downloaded_artifacts/y6klzrn2/logs_y6klzrn2:v0\n",
      "Downloading artifact: env_y6klzrn2:v2\n"
     ]
    },
    {
     "name": "stderr",
     "output_type": "stream",
     "text": [
      "\u001b[34m\u001b[1mwandb\u001b[0m:   1 of 1 files downloaded.  \n"
     ]
    },
    {
     "name": "stdout",
     "output_type": "stream",
     "text": [
      "Downloaded env_y6klzrn2:v2 to downloaded_artifacts/y6klzrn2/env_y6klzrn2:v2\n",
      "Processing run: 270lhq5v\n",
      "Downloading artifact: env_270lhq5v:v0\n"
     ]
    },
    {
     "name": "stderr",
     "output_type": "stream",
     "text": [
      "\u001b[34m\u001b[1mwandb\u001b[0m:   1 of 1 files downloaded.  \n"
     ]
    },
    {
     "name": "stdout",
     "output_type": "stream",
     "text": [
      "Downloaded env_270lhq5v:v0 to downloaded_artifacts/270lhq5v/env_270lhq5v:v0\n",
      "Downloading artifact: env_270lhq5v:v1\n"
     ]
    },
    {
     "name": "stderr",
     "output_type": "stream",
     "text": [
      "\u001b[34m\u001b[1mwandb\u001b[0m:   1 of 1 files downloaded.  \n"
     ]
    },
    {
     "name": "stdout",
     "output_type": "stream",
     "text": [
      "Downloaded env_270lhq5v:v1 to downloaded_artifacts/270lhq5v/env_270lhq5v:v1\n",
      "Downloading artifact: logs_270lhq5v:v0\n"
     ]
    },
    {
     "name": "stderr",
     "output_type": "stream",
     "text": [
      "\u001b[34m\u001b[1mwandb\u001b[0m:   1 of 1 files downloaded.  \n"
     ]
    },
    {
     "name": "stdout",
     "output_type": "stream",
     "text": [
      "Downloaded logs_270lhq5v:v0 to downloaded_artifacts/270lhq5v/logs_270lhq5v:v0\n",
      "Downloading artifact: env_270lhq5v:v2\n"
     ]
    },
    {
     "name": "stderr",
     "output_type": "stream",
     "text": [
      "\u001b[34m\u001b[1mwandb\u001b[0m:   1 of 1 files downloaded.  \n"
     ]
    },
    {
     "name": "stdout",
     "output_type": "stream",
     "text": [
      "Downloaded env_270lhq5v:v2 to downloaded_artifacts/270lhq5v/env_270lhq5v:v2\n",
      "Downloading artifact: run-270lhq5v-history:v0\n"
     ]
    },
    {
     "name": "stderr",
     "output_type": "stream",
     "text": [
      "\u001b[34m\u001b[1mwandb\u001b[0m:   1 of 1 files downloaded.  \n"
     ]
    },
    {
     "name": "stdout",
     "output_type": "stream",
     "text": [
      "Downloaded run-270lhq5v-history:v0 to downloaded_artifacts/270lhq5v/run-270lhq5v-history:v0\n",
      "Processing run: 9f568pgc\n",
      "Downloading artifact: env_9f568pgc:v0\n"
     ]
    },
    {
     "name": "stderr",
     "output_type": "stream",
     "text": [
      "\u001b[34m\u001b[1mwandb\u001b[0m:   1 of 1 files downloaded.  \n"
     ]
    },
    {
     "name": "stdout",
     "output_type": "stream",
     "text": [
      "Downloaded env_9f568pgc:v0 to downloaded_artifacts/9f568pgc/env_9f568pgc:v0\n",
      "Downloading artifact: env_9f568pgc:v1\n"
     ]
    },
    {
     "name": "stderr",
     "output_type": "stream",
     "text": [
      "\u001b[34m\u001b[1mwandb\u001b[0m:   1 of 1 files downloaded.  \n"
     ]
    },
    {
     "name": "stdout",
     "output_type": "stream",
     "text": [
      "Downloaded env_9f568pgc:v1 to downloaded_artifacts/9f568pgc/env_9f568pgc:v1\n",
      "Downloading artifact: logs_9f568pgc:v0\n"
     ]
    },
    {
     "name": "stderr",
     "output_type": "stream",
     "text": [
      "\u001b[34m\u001b[1mwandb\u001b[0m:   1 of 1 files downloaded.  \n"
     ]
    },
    {
     "name": "stdout",
     "output_type": "stream",
     "text": [
      "Downloaded logs_9f568pgc:v0 to downloaded_artifacts/9f568pgc/logs_9f568pgc:v0\n",
      "Downloading artifact: env_9f568pgc:v2\n"
     ]
    },
    {
     "name": "stderr",
     "output_type": "stream",
     "text": [
      "\u001b[34m\u001b[1mwandb\u001b[0m:   1 of 1 files downloaded.  \n"
     ]
    },
    {
     "name": "stdout",
     "output_type": "stream",
     "text": [
      "Downloaded env_9f568pgc:v2 to downloaded_artifacts/9f568pgc/env_9f568pgc:v2\n",
      "Processing run: drme1azv\n",
      "Downloading artifact: env_drme1azv:v0\n"
     ]
    },
    {
     "name": "stderr",
     "output_type": "stream",
     "text": [
      "\u001b[34m\u001b[1mwandb\u001b[0m:   1 of 1 files downloaded.  \n"
     ]
    },
    {
     "name": "stdout",
     "output_type": "stream",
     "text": [
      "Downloaded env_drme1azv:v0 to downloaded_artifacts/drme1azv/env_drme1azv:v0\n",
      "Downloading artifact: env_drme1azv:v1\n"
     ]
    },
    {
     "name": "stderr",
     "output_type": "stream",
     "text": [
      "\u001b[34m\u001b[1mwandb\u001b[0m:   1 of 1 files downloaded.  \n"
     ]
    },
    {
     "name": "stdout",
     "output_type": "stream",
     "text": [
      "Downloaded env_drme1azv:v1 to downloaded_artifacts/drme1azv/env_drme1azv:v1\n",
      "Downloading artifact: logs_drme1azv:v0\n"
     ]
    },
    {
     "name": "stderr",
     "output_type": "stream",
     "text": [
      "\u001b[34m\u001b[1mwandb\u001b[0m:   1 of 1 files downloaded.  \n"
     ]
    },
    {
     "name": "stdout",
     "output_type": "stream",
     "text": [
      "Downloaded logs_drme1azv:v0 to downloaded_artifacts/drme1azv/logs_drme1azv:v0\n",
      "Downloading artifact: env_drme1azv:v2\n"
     ]
    },
    {
     "name": "stderr",
     "output_type": "stream",
     "text": [
      "\u001b[34m\u001b[1mwandb\u001b[0m:   1 of 1 files downloaded.  \n"
     ]
    },
    {
     "name": "stdout",
     "output_type": "stream",
     "text": [
      "Downloaded env_drme1azv:v2 to downloaded_artifacts/drme1azv/env_drme1azv:v2\n",
      "Processing run: mgwak6ta\n",
      "Downloading artifact: env_mgwak6ta:v0\n"
     ]
    },
    {
     "name": "stderr",
     "output_type": "stream",
     "text": [
      "\u001b[34m\u001b[1mwandb\u001b[0m:   1 of 1 files downloaded.  \n"
     ]
    },
    {
     "name": "stdout",
     "output_type": "stream",
     "text": [
      "Downloaded env_mgwak6ta:v0 to downloaded_artifacts/mgwak6ta/env_mgwak6ta:v0\n",
      "Downloading artifact: env_mgwak6ta:v1\n"
     ]
    },
    {
     "name": "stderr",
     "output_type": "stream",
     "text": [
      "\u001b[34m\u001b[1mwandb\u001b[0m:   1 of 1 files downloaded.  \n"
     ]
    },
    {
     "name": "stdout",
     "output_type": "stream",
     "text": [
      "Downloaded env_mgwak6ta:v1 to downloaded_artifacts/mgwak6ta/env_mgwak6ta:v1\n",
      "Downloading artifact: logs_mgwak6ta:v0\n"
     ]
    },
    {
     "name": "stderr",
     "output_type": "stream",
     "text": [
      "\u001b[34m\u001b[1mwandb\u001b[0m:   1 of 1 files downloaded.  \n"
     ]
    },
    {
     "name": "stdout",
     "output_type": "stream",
     "text": [
      "Downloaded logs_mgwak6ta:v0 to downloaded_artifacts/mgwak6ta/logs_mgwak6ta:v0\n",
      "Downloading artifact: env_mgwak6ta:v2\n"
     ]
    },
    {
     "name": "stderr",
     "output_type": "stream",
     "text": [
      "\u001b[34m\u001b[1mwandb\u001b[0m:   1 of 1 files downloaded.  \n"
     ]
    },
    {
     "name": "stdout",
     "output_type": "stream",
     "text": [
      "Downloaded env_mgwak6ta:v2 to downloaded_artifacts/mgwak6ta/env_mgwak6ta:v2\n",
      "Processing run: vuae6fly\n",
      "Downloading artifact: env_vuae6fly:v0\n"
     ]
    },
    {
     "name": "stderr",
     "output_type": "stream",
     "text": [
      "\u001b[34m\u001b[1mwandb\u001b[0m:   1 of 1 files downloaded.  \n"
     ]
    },
    {
     "name": "stdout",
     "output_type": "stream",
     "text": [
      "Downloaded env_vuae6fly:v0 to downloaded_artifacts/vuae6fly/env_vuae6fly:v0\n",
      "Downloading artifact: env_vuae6fly:v1\n"
     ]
    },
    {
     "name": "stderr",
     "output_type": "stream",
     "text": [
      "\u001b[34m\u001b[1mwandb\u001b[0m:   1 of 1 files downloaded.  \n"
     ]
    },
    {
     "name": "stdout",
     "output_type": "stream",
     "text": [
      "Downloaded env_vuae6fly:v1 to downloaded_artifacts/vuae6fly/env_vuae6fly:v1\n",
      "Downloading artifact: logs_vuae6fly:v0\n"
     ]
    },
    {
     "name": "stderr",
     "output_type": "stream",
     "text": [
      "\u001b[34m\u001b[1mwandb\u001b[0m:   1 of 1 files downloaded.  \n"
     ]
    },
    {
     "name": "stdout",
     "output_type": "stream",
     "text": [
      "Downloaded logs_vuae6fly:v0 to downloaded_artifacts/vuae6fly/logs_vuae6fly:v0\n",
      "Downloading artifact: env_vuae6fly:v2\n"
     ]
    },
    {
     "name": "stderr",
     "output_type": "stream",
     "text": [
      "\u001b[34m\u001b[1mwandb\u001b[0m:   1 of 1 files downloaded.  \n"
     ]
    },
    {
     "name": "stdout",
     "output_type": "stream",
     "text": [
      "Downloaded env_vuae6fly:v2 to downloaded_artifacts/vuae6fly/env_vuae6fly:v2\n",
      "Downloading artifact: run-vuae6fly-history:v0\n"
     ]
    },
    {
     "name": "stderr",
     "output_type": "stream",
     "text": [
      "\u001b[34m\u001b[1mwandb\u001b[0m:   1 of 1 files downloaded.  \n"
     ]
    },
    {
     "name": "stdout",
     "output_type": "stream",
     "text": [
      "Downloaded run-vuae6fly-history:v0 to downloaded_artifacts/vuae6fly/run-vuae6fly-history:v0\n"
     ]
    }
   ],
   "source": [
    "api = wandb.Api()\n",
    "download_dir = \"downloaded_artifacts\"\n",
    "entity = \"wlp9800-new-york-university\" \n",
    "project_name = \"oho_exps\"\n",
    "group_name = \"mlr_search-1_aa9c06652fb34624bebe972b1fe7292f\"\n",
    "group_name = \"time_test_oho_d1efc05e0903463ca4e95a52714389a0\"\n",
    "\n",
    "os.makedirs(download_dir, exist_ok=True)\n",
    "\n",
    "# Query runs in the specified project and group\n",
    "runs = api.runs(\n",
    "    path=f\"{entity}/{project_name}\" if entity else project_name,\n",
    "    filters={\"group\": group_name}\n",
    ")\n",
    "\n",
    "for run in runs:\n",
    "    print(f\"Processing run: {run.id}\")\n",
    "    \n",
    "    # Get all artifacts logged by this run\n",
    "    artifact = run.use_artifact(f'{entity}/{project_name}/logs_{run.id}:v0', type='logs')\n",
    "    print(f\"Downloading artifact: {artifact.name}\")\n",
    "    # Construct a unique download path to avoid overwriting\n",
    "    artifact_dir = os.path.join(download_dir, artifact.name)\n",
    "    try:\n",
    "        # Download the artifact\n",
    "        artifact.download(root=artifact_dir)\n",
    "        print(f\"Downloaded {artifact.name} to {artifact_dir}\")\n",
    "    except Exception as e:\n",
    "        print(f\"Error downloading artifact {artifact.name}: {str(e)}\")"
   ]
  }
 ],
 "metadata": {
  "kernelspec": {
   "display_name": "Python 3",
   "language": "python",
   "name": "python3"
  },
  "language_info": {
   "codemirror_mode": {
    "name": "ipython",
    "version": 3
   },
   "file_extension": ".py",
   "mimetype": "text/x-python",
   "name": "python",
   "nbconvert_exporter": "python",
   "pygments_lexer": "ipython3",
   "version": "3.13.1"
  }
 },
 "nbformat": 4,
 "nbformat_minor": 2
}

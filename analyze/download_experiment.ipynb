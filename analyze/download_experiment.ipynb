{
 "cells": [
  {
   "cell_type": "code",
   "execution_count": 17,
   "metadata": {},
   "outputs": [],
   "source": [
    "import os\n",
    "import sys\n",
    "sys.path.append(os.getcwd())\n",
    "sys.path.append(os.getcwd() + '/../src')\n"
   ]
  },
  {
   "cell_type": "code",
   "execution_count": 18,
   "metadata": {},
   "outputs": [],
   "source": [
    "import logging\n",
    "import wandb\n",
    "from concurrent.futures import ThreadPoolExecutor\n",
    "import multiprocessing\n"
   ]
  },
  {
   "cell_type": "code",
   "execution_count": 19,
   "metadata": {},
   "outputs": [],
   "source": [
    "# Configure logging\n",
    "logging.basicConfig(\n",
    "    level=logging.INFO,\n",
    "    format='%(asctime)s - %(levelname)s - %(message)s',\n",
    "    handlers=[\n",
    "        logging.StreamHandler(sys.stdout),\n",
    "        logging.FileHandler('download.log')\n",
    "    ]\n",
    ")\n",
    "logger = logging.getLogger(__name__)\n",
    "\n",
    "# Set multiprocessing start method to 'spawn'\n",
    "multiprocessing.set_start_method(\"spawn\", force=True)"
   ]
  },
  {
   "cell_type": "code",
   "execution_count": 20,
   "metadata": {},
   "outputs": [],
   "source": [
    "# Configuration\n",
    "download_dir = \"/scratch/downloaded_artifacts\"\n",
    "entity = \"wlp9800-new-york-university\"\n",
    "project_name = \"oho_exps\"\n",
    "group_name = \"fixed_search-2_fd29c503918d4cc7ace8d3ee2a21778e\"\n",
    "max_download_workers = 20"
   ]
  },
  {
   "cell_type": "code",
   "execution_count": 21,
   "metadata": {},
   "outputs": [],
   "source": [
    "# Ensure download directory exists\n",
    "os.makedirs(download_dir, exist_ok=True)"
   ]
  },
  {
   "cell_type": "code",
   "execution_count": 22,
   "metadata": {},
   "outputs": [],
   "source": [
    "# Function to download a single run's artifact\n",
    "def download_artifact(run_data):\n",
    "    run_id = run_data[\"id\"]\n",
    "    config = run_data[\"config\"]\n",
    "    try:\n",
    "        api = wandb.Api()\n",
    "        artifact = api.artifact(f'{entity}/{project_name}/logs_{run_id}:v0')\n",
    "        artifact_dir = os.path.join(download_dir, artifact.name)\n",
    "        artifact.download(root=artifact_dir)\n",
    "        logger.info(f\"Downloaded {artifact.name} to {artifact_dir}\")\n",
    "        return {\n",
    "            \"run_id\": run_id,\n",
    "            \"artifact_dir\": artifact_dir,\n",
    "            \"config\": config,\n",
    "            \"status\": \"success\"\n",
    "        }\n",
    "    except Exception as e:\n",
    "        logger.error(f\"Error downloading artifact for run {run_id}: {str(e)}\")\n",
    "        return {\n",
    "            \"run_id\": run_id,\n",
    "            \"artifact_dir\": None,\n",
    "            \"config\": config,\n",
    "            \"status\": f\"error: {str(e)}\"\n",
    "        }"
   ]
  },
  {
   "cell_type": "code",
   "execution_count": 23,
   "metadata": {},
   "outputs": [
    {
     "name": "stdout",
     "output_type": "stream",
     "text": [
      "2025-04-21 03:43:07,597 - INFO - Found 2000 runs to download\n"
     ]
    }
   ],
   "source": [
    "api = wandb.Api()\n",
    "runs = api.runs(\n",
    "    path=f\"{entity}/{project_name}\",\n",
    "    filters={\"group\": group_name}\n",
    ")\n",
    "\n",
    "# Prepare run data\n",
    "run_data = [{\"id\": run.id, \"config\": run.config} for run in runs]\n",
    "logger.info(f\"Found {len(run_data)} runs to download\")\n"
   ]
  },
  {
   "cell_type": "code",
   "execution_count": 24,
   "metadata": {},
   "outputs": [
    {
     "name": "stderr",
     "output_type": "stream",
     "text": [
      "\u001b[34m\u001b[1mwandb\u001b[0m:   1 of 1 files downloaded.  \n"
     ]
    },
    {
     "name": "stdout",
     "output_type": "stream",
     "text": [
      "2025-04-21 03:43:10,352 - INFO - Downloaded logs_7rvtffzk:v0 to /scratch/downloaded_artifacts/logs_7rvtffzk:v0\n"
     ]
    },
    {
     "name": "stderr",
     "output_type": "stream",
     "text": [
      "\u001b[34m\u001b[1mwandb\u001b[0m:   1 of 1 files downloaded.  \n"
     ]
    },
    {
     "name": "stdout",
     "output_type": "stream",
     "text": [
      "2025-04-21 03:43:10,370 - INFO - Downloaded logs_12leuth0:v0 to /scratch/downloaded_artifacts/logs_12leuth0:v0\n"
     ]
    },
    {
     "name": "stderr",
     "output_type": "stream",
     "text": [
      "\u001b[34m\u001b[1mwandb\u001b[0m:   1 of 1 files downloaded.  \n"
     ]
    },
    {
     "name": "stdout",
     "output_type": "stream",
     "text": [
      "2025-04-21 03:43:10,389 - INFO - Downloaded logs_1qlo2ter:v0 to /scratch/downloaded_artifacts/logs_1qlo2ter:v0\n"
     ]
    },
    {
     "name": "stderr",
     "output_type": "stream",
     "text": [
      "\u001b[34m\u001b[1mwandb\u001b[0m:   1 of 1 files downloaded.  \n"
     ]
    },
    {
     "name": "stdout",
     "output_type": "stream",
     "text": [
      "2025-04-21 03:43:10,447 - INFO - Downloaded logs_1nz437ou:v0 to /scratch/downloaded_artifacts/logs_1nz437ou:v0\n"
     ]
    },
    {
     "name": "stderr",
     "output_type": "stream",
     "text": [
      "\u001b[34m\u001b[1mwandb\u001b[0m:   1 of 1 files downloaded.  \n",
      "\u001b[34m\u001b[1mwandb\u001b[0m:   1 of 1 files downloaded.  \n"
     ]
    },
    {
     "name": "stdout",
     "output_type": "stream",
     "text": [
      "2025-04-21 03:43:10,505 - INFO - Downloaded logs_ccl2qhbj:v0 to /scratch/downloaded_artifacts/logs_ccl2qhbj:v0\n",
      "2025-04-21 03:43:10,508 - INFO - Downloaded logs_f9reczmg:v0 to /scratch/downloaded_artifacts/logs_f9reczmg:v0\n"
     ]
    },
    {
     "name": "stderr",
     "output_type": "stream",
     "text": [
      "\u001b[34m\u001b[1mwandb\u001b[0m:   1 of 1 files downloaded.  \n"
     ]
    },
    {
     "name": "stdout",
     "output_type": "stream",
     "text": [
      "2025-04-21 03:43:10,536 - INFO - Downloaded logs_309qo4ew:v0 to /scratch/downloaded_artifacts/logs_309qo4ew:v0\n"
     ]
    },
    {
     "name": "stderr",
     "output_type": "stream",
     "text": [
      "\u001b[34m\u001b[1mwandb\u001b[0m:   1 of 1 files downloaded.  \n"
     ]
    },
    {
     "name": "stdout",
     "output_type": "stream",
     "text": [
      "2025-04-21 03:43:10,560 - INFO - Downloaded logs_bxewuhti:v0 to /scratch/downloaded_artifacts/logs_bxewuhti:v0\n"
     ]
    },
    {
     "name": "stderr",
     "output_type": "stream",
     "text": [
      "\u001b[34m\u001b[1mwandb\u001b[0m:   1 of 1 files downloaded.  \n"
     ]
    },
    {
     "name": "stdout",
     "output_type": "stream",
     "text": [
      "2025-04-21 03:43:10,584 - INFO - Downloaded logs_2tuv0rnu:v0 to /scratch/downloaded_artifacts/logs_2tuv0rnu:v0\n"
     ]
    },
    {
     "name": "stderr",
     "output_type": "stream",
     "text": [
      "\u001b[34m\u001b[1mwandb\u001b[0m:   1 of 1 files downloaded.  \n"
     ]
    },
    {
     "name": "stdout",
     "output_type": "stream",
     "text": [
      "2025-04-21 03:43:10,594 - INFO - Downloaded logs_0ssjgms0:v0 to /scratch/downloaded_artifacts/logs_0ssjgms0:v0\n"
     ]
    },
    {
     "name": "stderr",
     "output_type": "stream",
     "text": [
      "\u001b[34m\u001b[1mwandb\u001b[0m:   1 of 1 files downloaded.  \n"
     ]
    },
    {
     "name": "stdout",
     "output_type": "stream",
     "text": [
      "2025-04-21 03:43:10,601 - INFO - Downloaded logs_a4x5h8wz:v0 to /scratch/downloaded_artifacts/logs_a4x5h8wz:v0\n"
     ]
    },
    {
     "name": "stderr",
     "output_type": "stream",
     "text": [
      "\u001b[34m\u001b[1mwandb\u001b[0m:   1 of 1 files downloaded.  \n"
     ]
    },
    {
     "name": "stdout",
     "output_type": "stream",
     "text": [
      "2025-04-21 03:43:10,619 - INFO - Downloaded logs_gdeizi2a:v0 to /scratch/downloaded_artifacts/logs_gdeizi2a:v0\n"
     ]
    },
    {
     "name": "stderr",
     "output_type": "stream",
     "text": [
      "\u001b[34m\u001b[1mwandb\u001b[0m:   1 of 1 files downloaded.  \n",
      "\u001b[34m\u001b[1mwandb\u001b[0m:   1 of 1 files downloaded.  \n"
     ]
    },
    {
     "name": "stdout",
     "output_type": "stream",
     "text": [
      "2025-04-21 03:43:10,667 - INFO - Downloaded logs_6zrpts0s:v0 to /scratch/downloaded_artifacts/logs_6zrpts0s:v0\n"
     ]
    },
    {
     "name": "stderr",
     "output_type": "stream",
     "text": [
      "\u001b[34m\u001b[1mwandb\u001b[0m:   1 of 1 files downloaded.  \n"
     ]
    },
    {
     "name": "stdout",
     "output_type": "stream",
     "text": [
      "2025-04-21 03:43:10,673 - INFO - Downloaded logs_eqljyfo7:v0 to /scratch/downloaded_artifacts/logs_eqljyfo7:v0\n",
      "2025-04-21 03:43:10,683 - INFO - Downloaded logs_feomaa80:v0 to /scratch/downloaded_artifacts/logs_feomaa80:v0\n"
     ]
    },
    {
     "name": "stderr",
     "output_type": "stream",
     "text": [
      "\u001b[34m\u001b[1mwandb\u001b[0m:   1 of 1 files downloaded.  \n"
     ]
    },
    {
     "name": "stdout",
     "output_type": "stream",
     "text": [
      "2025-04-21 03:43:10,702 - INFO - Downloaded logs_dt1khhpf:v0 to /scratch/downloaded_artifacts/logs_dt1khhpf:v0\n"
     ]
    },
    {
     "name": "stderr",
     "output_type": "stream",
     "text": [
      "\u001b[34m\u001b[1mwandb\u001b[0m:   1 of 1 files downloaded.  \n"
     ]
    },
    {
     "name": "stdout",
     "output_type": "stream",
     "text": [
      "2025-04-21 03:43:10,798 - INFO - Downloaded logs_7zwk3ora:v0 to /scratch/downloaded_artifacts/logs_7zwk3ora:v0\n"
     ]
    },
    {
     "name": "stderr",
     "output_type": "stream",
     "text": [
      "\u001b[34m\u001b[1mwandb\u001b[0m:   1 of 1 files downloaded.  \n"
     ]
    },
    {
     "name": "stdout",
     "output_type": "stream",
     "text": [
      "2025-04-21 03:43:10,818 - INFO - Downloaded logs_aucoflpw:v0 to /scratch/downloaded_artifacts/logs_aucoflpw:v0\n"
     ]
    },
    {
     "name": "stderr",
     "output_type": "stream",
     "text": [
      "\u001b[34m\u001b[1mwandb\u001b[0m:   1 of 1 files downloaded.  \n"
     ]
    },
    {
     "name": "stdout",
     "output_type": "stream",
     "text": [
      "2025-04-21 03:43:10,854 - INFO - Downloaded logs_7pqnhsyn:v0 to /scratch/downloaded_artifacts/logs_7pqnhsyn:v0\n"
     ]
    },
    {
     "name": "stderr",
     "output_type": "stream",
     "text": [
      "\u001b[34m\u001b[1mwandb\u001b[0m:   1 of 1 files downloaded.  \n"
     ]
    },
    {
     "name": "stdout",
     "output_type": "stream",
     "text": [
      "2025-04-21 03:43:10,870 - INFO - Downloaded logs_bbye4la2:v0 to /scratch/downloaded_artifacts/logs_bbye4la2:v0\n"
     ]
    },
    {
     "name": "stderr",
     "output_type": "stream",
     "text": [
      "\u001b[34m\u001b[1mwandb\u001b[0m:   1 of 1 files downloaded.  \n"
     ]
    },
    {
     "name": "stdout",
     "output_type": "stream",
     "text": [
      "2025-04-21 03:43:13,026 - INFO - Downloaded logs_j85dhiu8:v0 to /scratch/downloaded_artifacts/logs_j85dhiu8:v0\n"
     ]
    },
    {
     "name": "stderr",
     "output_type": "stream",
     "text": [
      "\u001b[34m\u001b[1mwandb\u001b[0m:   1 of 1 files downloaded.  \n"
     ]
    },
    {
     "name": "stdout",
     "output_type": "stream",
     "text": [
      "2025-04-21 03:43:13,059 - INFO - Downloaded logs_jcnt0kk8:v0 to /scratch/downloaded_artifacts/logs_jcnt0kk8:v0\n"
     ]
    },
    {
     "name": "stderr",
     "output_type": "stream",
     "text": [
      "\u001b[34m\u001b[1mwandb\u001b[0m:   1 of 1 files downloaded.  \n"
     ]
    },
    {
     "name": "stdout",
     "output_type": "stream",
     "text": [
      "2025-04-21 03:43:13,077 - INFO - Downloaded logs_gdiut8rw:v0 to /scratch/downloaded_artifacts/logs_gdiut8rw:v0\n"
     ]
    },
    {
     "name": "stderr",
     "output_type": "stream",
     "text": [
      "\u001b[34m\u001b[1mwandb\u001b[0m:   1 of 1 files downloaded.  \n"
     ]
    },
    {
     "name": "stdout",
     "output_type": "stream",
     "text": [
      "2025-04-21 03:43:13,099 - INFO - Downloaded logs_klq68tcu:v0 to /scratch/downloaded_artifacts/logs_klq68tcu:v0\n"
     ]
    },
    {
     "name": "stderr",
     "output_type": "stream",
     "text": [
      "\u001b[34m\u001b[1mwandb\u001b[0m:   1 of 1 files downloaded.  \n"
     ]
    },
    {
     "name": "stdout",
     "output_type": "stream",
     "text": [
      "2025-04-21 03:43:13,162 - INFO - Downloaded logs_jukserf0:v0 to /scratch/downloaded_artifacts/logs_jukserf0:v0\n"
     ]
    },
    {
     "name": "stderr",
     "output_type": "stream",
     "text": [
      "\u001b[34m\u001b[1mwandb\u001b[0m:   1 of 1 files downloaded.  \n"
     ]
    },
    {
     "name": "stdout",
     "output_type": "stream",
     "text": [
      "2025-04-21 03:43:13,299 - INFO - Downloaded logs_loynb1kg:v0 to /scratch/downloaded_artifacts/logs_loynb1kg:v0\n"
     ]
    },
    {
     "name": "stderr",
     "output_type": "stream",
     "text": [
      "\u001b[34m\u001b[1mwandb\u001b[0m:   1 of 1 files downloaded.  \n"
     ]
    },
    {
     "name": "stdout",
     "output_type": "stream",
     "text": [
      "2025-04-21 03:43:13,310 - INFO - Downloaded logs_lij68pr5:v0 to /scratch/downloaded_artifacts/logs_lij68pr5:v0\n"
     ]
    },
    {
     "name": "stderr",
     "output_type": "stream",
     "text": [
      "\u001b[34m\u001b[1mwandb\u001b[0m:   1 of 1 files downloaded.  \n"
     ]
    },
    {
     "name": "stdout",
     "output_type": "stream",
     "text": [
      "2025-04-21 03:43:13,331 - INFO - Downloaded logs_lcv0dgrc:v0 to /scratch/downloaded_artifacts/logs_lcv0dgrc:v0\n"
     ]
    },
    {
     "name": "stderr",
     "output_type": "stream",
     "text": [
      "\u001b[34m\u001b[1mwandb\u001b[0m:   1 of 1 files downloaded.  \n"
     ]
    },
    {
     "name": "stdout",
     "output_type": "stream",
     "text": [
      "2025-04-21 03:43:13,361 - INFO - Downloaded logs_j95jyb8a:v0 to /scratch/downloaded_artifacts/logs_j95jyb8a:v0\n"
     ]
    },
    {
     "name": "stderr",
     "output_type": "stream",
     "text": [
      "\u001b[34m\u001b[1mwandb\u001b[0m:   1 of 1 files downloaded.  \n"
     ]
    },
    {
     "name": "stdout",
     "output_type": "stream",
     "text": [
      "2025-04-21 03:43:13,493 - INFO - Downloaded logs_n1n52f9y:v0 to /scratch/downloaded_artifacts/logs_n1n52f9y:v0\n"
     ]
    },
    {
     "name": "stderr",
     "output_type": "stream",
     "text": [
      "\u001b[34m\u001b[1mwandb\u001b[0m:   1 of 1 files downloaded.  \n"
     ]
    },
    {
     "name": "stdout",
     "output_type": "stream",
     "text": [
      "2025-04-21 03:43:13,583 - INFO - Downloaded logs_phxt2t54:v0 to /scratch/downloaded_artifacts/logs_phxt2t54:v0\n"
     ]
    },
    {
     "name": "stderr",
     "output_type": "stream",
     "text": [
      "\u001b[34m\u001b[1mwandb\u001b[0m:   1 of 1 files downloaded.  \n"
     ]
    },
    {
     "name": "stdout",
     "output_type": "stream",
     "text": [
      "2025-04-21 03:43:13,609 - INFO - Downloaded logs_md7milt8:v0 to /scratch/downloaded_artifacts/logs_md7milt8:v0\n"
     ]
    },
    {
     "name": "stderr",
     "output_type": "stream",
     "text": [
      "\u001b[34m\u001b[1mwandb\u001b[0m:   1 of 1 files downloaded.  \n"
     ]
    },
    {
     "name": "stdout",
     "output_type": "stream",
     "text": [
      "2025-04-21 03:43:13,651 - INFO - Downloaded logs_q4x8z043:v0 to /scratch/downloaded_artifacts/logs_q4x8z043:v0\n"
     ]
    },
    {
     "name": "stderr",
     "output_type": "stream",
     "text": [
      "\u001b[34m\u001b[1mwandb\u001b[0m:   1 of 1 files downloaded.  \n"
     ]
    },
    {
     "name": "stdout",
     "output_type": "stream",
     "text": [
      "2025-04-21 03:43:13,678 - INFO - Downloaded logs_orsoud6t:v0 to /scratch/downloaded_artifacts/logs_orsoud6t:v0\n"
     ]
    },
    {
     "name": "stderr",
     "output_type": "stream",
     "text": [
      "\u001b[34m\u001b[1mwandb\u001b[0m:   1 of 1 files downloaded.  \n"
     ]
    },
    {
     "name": "stdout",
     "output_type": "stream",
     "text": [
      "2025-04-21 03:43:13,705 - INFO - Downloaded logs_q9jkc40h:v0 to /scratch/downloaded_artifacts/logs_q9jkc40h:v0\n"
     ]
    },
    {
     "name": "stderr",
     "output_type": "stream",
     "text": [
      "\u001b[34m\u001b[1mwandb\u001b[0m:   1 of 1 files downloaded.  \n"
     ]
    },
    {
     "name": "stdout",
     "output_type": "stream",
     "text": [
      "2025-04-21 03:43:13,745 - INFO - Downloaded logs_omnnco3n:v0 to /scratch/downloaded_artifacts/logs_omnnco3n:v0\n"
     ]
    },
    {
     "name": "stderr",
     "output_type": "stream",
     "text": [
      "\u001b[34m\u001b[1mwandb\u001b[0m:   1 of 1 files downloaded.  \n"
     ]
    },
    {
     "name": "stdout",
     "output_type": "stream",
     "text": [
      "2025-04-21 03:43:13,777 - INFO - Downloaded logs_sy6dscjo:v0 to /scratch/downloaded_artifacts/logs_sy6dscjo:v0\n"
     ]
    },
    {
     "name": "stderr",
     "output_type": "stream",
     "text": [
      "\u001b[34m\u001b[1mwandb\u001b[0m:   1 of 1 files downloaded.  \n"
     ]
    },
    {
     "name": "stdout",
     "output_type": "stream",
     "text": [
      "2025-04-21 03:43:13,806 - INFO - Downloaded logs_okk0u6mg:v0 to /scratch/downloaded_artifacts/logs_okk0u6mg:v0\n"
     ]
    },
    {
     "name": "stderr",
     "output_type": "stream",
     "text": [
      "\u001b[34m\u001b[1mwandb\u001b[0m:   1 of 1 files downloaded.  \n"
     ]
    },
    {
     "name": "stdout",
     "output_type": "stream",
     "text": [
      "2025-04-21 03:43:13,818 - INFO - Downloaded logs_rqlc86vw:v0 to /scratch/downloaded_artifacts/logs_rqlc86vw:v0\n"
     ]
    },
    {
     "name": "stderr",
     "output_type": "stream",
     "text": [
      "\u001b[34m\u001b[1mwandb\u001b[0m:   1 of 1 files downloaded.  \n"
     ]
    },
    {
     "name": "stdout",
     "output_type": "stream",
     "text": [
      "2025-04-21 03:43:14,002 - INFO - Downloaded logs_q18d9of2:v0 to /scratch/downloaded_artifacts/logs_q18d9of2:v0\n"
     ]
    },
    {
     "name": "stderr",
     "output_type": "stream",
     "text": [
      "\u001b[34m\u001b[1mwandb\u001b[0m:   1 of 1 files downloaded.  \n"
     ]
    },
    {
     "name": "stdout",
     "output_type": "stream",
     "text": [
      "2025-04-21 03:43:14,924 - INFO - Downloaded logs_u8avbywg:v0 to /scratch/downloaded_artifacts/logs_u8avbywg:v0\n"
     ]
    },
    {
     "name": "stderr",
     "output_type": "stream",
     "text": [
      "\u001b[34m\u001b[1mwandb\u001b[0m:   1 of 1 files downloaded.  \n"
     ]
    },
    {
     "name": "stdout",
     "output_type": "stream",
     "text": [
      "2025-04-21 03:43:15,508 - INFO - Downloaded logs_w2snlnkk:v0 to /scratch/downloaded_artifacts/logs_w2snlnkk:v0\n"
     ]
    },
    {
     "name": "stderr",
     "output_type": "stream",
     "text": [
      "\u001b[34m\u001b[1mwandb\u001b[0m:   1 of 1 files downloaded.  \n"
     ]
    },
    {
     "name": "stdout",
     "output_type": "stream",
     "text": [
      "2025-04-21 03:43:15,533 - INFO - Downloaded logs_wo4hvv8p:v0 to /scratch/downloaded_artifacts/logs_wo4hvv8p:v0\n"
     ]
    },
    {
     "name": "stderr",
     "output_type": "stream",
     "text": [
      "\u001b[34m\u001b[1mwandb\u001b[0m:   1 of 1 files downloaded.  \n"
     ]
    },
    {
     "name": "stdout",
     "output_type": "stream",
     "text": [
      "2025-04-21 03:43:15,566 - INFO - Downloaded logs_uvbyawqt:v0 to /scratch/downloaded_artifacts/logs_uvbyawqt:v0\n"
     ]
    },
    {
     "name": "stderr",
     "output_type": "stream",
     "text": [
      "\u001b[34m\u001b[1mwandb\u001b[0m:   1 of 1 files downloaded.  \n"
     ]
    },
    {
     "name": "stdout",
     "output_type": "stream",
     "text": [
      "2025-04-21 03:43:15,611 - INFO - Downloaded logs_y74jtvj9:v0 to /scratch/downloaded_artifacts/logs_y74jtvj9:v0\n"
     ]
    },
    {
     "name": "stderr",
     "output_type": "stream",
     "text": [
      "\u001b[34m\u001b[1mwandb\u001b[0m:   1 of 1 files downloaded.  \n"
     ]
    },
    {
     "name": "stdout",
     "output_type": "stream",
     "text": [
      "2025-04-21 03:43:15,699 - INFO - Downloaded logs_y4vuj1nk:v0 to /scratch/downloaded_artifacts/logs_y4vuj1nk:v0\n"
     ]
    },
    {
     "name": "stderr",
     "output_type": "stream",
     "text": [
      "\u001b[34m\u001b[1mwandb\u001b[0m:   1 of 1 files downloaded.  \n"
     ]
    },
    {
     "name": "stdout",
     "output_type": "stream",
     "text": [
      "2025-04-21 03:43:15,805 - INFO - Downloaded logs_yl44zkgt:v0 to /scratch/downloaded_artifacts/logs_yl44zkgt:v0\n"
     ]
    },
    {
     "name": "stderr",
     "output_type": "stream",
     "text": [
      "\u001b[34m\u001b[1mwandb\u001b[0m:   1 of 1 files downloaded.  \n"
     ]
    },
    {
     "name": "stdout",
     "output_type": "stream",
     "text": [
      "2025-04-21 03:43:15,989 - INFO - Downloaded logs_y92w23j2:v0 to /scratch/downloaded_artifacts/logs_y92w23j2:v0\n"
     ]
    },
    {
     "name": "stderr",
     "output_type": "stream",
     "text": [
      "\u001b[34m\u001b[1mwandb\u001b[0m:   1 of 1 files downloaded.  \n"
     ]
    },
    {
     "name": "stdout",
     "output_type": "stream",
     "text": [
      "2025-04-21 03:43:16,040 - INFO - Downloaded logs_z6c4jai8:v0 to /scratch/downloaded_artifacts/logs_z6c4jai8:v0\n"
     ]
    },
    {
     "name": "stderr",
     "output_type": "stream",
     "text": [
      "\u001b[34m\u001b[1mwandb\u001b[0m:   1 of 1 files downloaded.  \n"
     ]
    },
    {
     "name": "stdout",
     "output_type": "stream",
     "text": [
      "2025-04-21 03:43:16,070 - INFO - Downloaded logs_z00drba6:v0 to /scratch/downloaded_artifacts/logs_z00drba6:v0\n"
     ]
    },
    {
     "name": "stderr",
     "output_type": "stream",
     "text": [
      "\u001b[34m\u001b[1mwandb\u001b[0m:   1 of 1 files downloaded.  \n"
     ]
    },
    {
     "name": "stdout",
     "output_type": "stream",
     "text": [
      "2025-04-21 03:43:16,270 - INFO - Downloaded logs_4wpjn6qn:v0 to /scratch/downloaded_artifacts/logs_4wpjn6qn:v0\n"
     ]
    },
    {
     "name": "stderr",
     "output_type": "stream",
     "text": [
      "\u001b[34m\u001b[1mwandb\u001b[0m:   1 of 1 files downloaded.  \n"
     ]
    },
    {
     "name": "stdout",
     "output_type": "stream",
     "text": [
      "2025-04-21 03:43:16,313 - INFO - Downloaded logs_ivvwypgp:v0 to /scratch/downloaded_artifacts/logs_ivvwypgp:v0\n"
     ]
    },
    {
     "name": "stderr",
     "output_type": "stream",
     "text": [
      "\u001b[34m\u001b[1mwandb\u001b[0m:   1 of 1 files downloaded.  \n"
     ]
    },
    {
     "name": "stdout",
     "output_type": "stream",
     "text": [
      "2025-04-21 03:43:16,386 - INFO - Downloaded logs_vlk20uj1:v0 to /scratch/downloaded_artifacts/logs_vlk20uj1:v0\n"
     ]
    },
    {
     "name": "stderr",
     "output_type": "stream",
     "text": [
      "\u001b[34m\u001b[1mwandb\u001b[0m:   1 of 1 files downloaded.  \n"
     ]
    },
    {
     "name": "stdout",
     "output_type": "stream",
     "text": [
      "2025-04-21 03:43:16,483 - INFO - Downloaded logs_vu4b771w:v0 to /scratch/downloaded_artifacts/logs_vu4b771w:v0\n"
     ]
    },
    {
     "name": "stderr",
     "output_type": "stream",
     "text": [
      "\u001b[34m\u001b[1mwandb\u001b[0m:   1 of 1 files downloaded.  \n"
     ]
    },
    {
     "name": "stdout",
     "output_type": "stream",
     "text": [
      "2025-04-21 03:43:16,638 - INFO - Downloaded logs_zq86jzfd:v0 to /scratch/downloaded_artifacts/logs_zq86jzfd:v0\n"
     ]
    },
    {
     "name": "stderr",
     "output_type": "stream",
     "text": [
      "\u001b[34m\u001b[1mwandb\u001b[0m:   1 of 1 files downloaded.  \n"
     ]
    },
    {
     "name": "stdout",
     "output_type": "stream",
     "text": [
      "2025-04-21 03:43:16,699 - INFO - Downloaded logs_2zwpo4z3:v0 to /scratch/downloaded_artifacts/logs_2zwpo4z3:v0\n"
     ]
    },
    {
     "name": "stderr",
     "output_type": "stream",
     "text": [
      "\u001b[34m\u001b[1mwandb\u001b[0m:   1 of 1 files downloaded.  \n"
     ]
    },
    {
     "name": "stdout",
     "output_type": "stream",
     "text": [
      "2025-04-21 03:43:16,858 - INFO - Downloaded logs_5vpuxd57:v0 to /scratch/downloaded_artifacts/logs_5vpuxd57:v0\n"
     ]
    },
    {
     "name": "stderr",
     "output_type": "stream",
     "text": [
      "\u001b[34m\u001b[1mwandb\u001b[0m:   1 of 1 files downloaded.  \n"
     ]
    },
    {
     "name": "stdout",
     "output_type": "stream",
     "text": [
      "2025-04-21 03:43:17,054 - INFO - Downloaded logs_membl9wg:v0 to /scratch/downloaded_artifacts/logs_membl9wg:v0\n"
     ]
    },
    {
     "name": "stderr",
     "output_type": "stream",
     "text": [
      "\u001b[34m\u001b[1mwandb\u001b[0m:   1 of 1 files downloaded.  \n"
     ]
    },
    {
     "name": "stdout",
     "output_type": "stream",
     "text": [
      "2025-04-21 03:43:17,101 - INFO - Downloaded logs_uek3x9em:v0 to /scratch/downloaded_artifacts/logs_uek3x9em:v0\n"
     ]
    },
    {
     "name": "stderr",
     "output_type": "stream",
     "text": [
      "\u001b[34m\u001b[1mwandb\u001b[0m:   1 of 1 files downloaded.  \n"
     ]
    },
    {
     "name": "stdout",
     "output_type": "stream",
     "text": [
      "2025-04-21 03:43:17,159 - INFO - Downloaded logs_573e0uwx:v0 to /scratch/downloaded_artifacts/logs_573e0uwx:v0\n"
     ]
    },
    {
     "name": "stderr",
     "output_type": "stream",
     "text": [
      "\u001b[34m\u001b[1mwandb\u001b[0m:   1 of 1 files downloaded.  \n"
     ]
    },
    {
     "name": "stdout",
     "output_type": "stream",
     "text": [
      "2025-04-21 03:43:17,427 - INFO - Downloaded logs_51nfvf9v:v0 to /scratch/downloaded_artifacts/logs_51nfvf9v:v0\n"
     ]
    },
    {
     "name": "stderr",
     "output_type": "stream",
     "text": [
      "\u001b[34m\u001b[1mwandb\u001b[0m:   1 of 1 files downloaded.  \n"
     ]
    },
    {
     "name": "stdout",
     "output_type": "stream",
     "text": [
      "2025-04-21 03:43:18,097 - INFO - Downloaded logs_e8nnq3gx:v0 to /scratch/downloaded_artifacts/logs_e8nnq3gx:v0\n"
     ]
    },
    {
     "name": "stderr",
     "output_type": "stream",
     "text": [
      "\u001b[34m\u001b[1mwandb\u001b[0m:   1 of 1 files downloaded.  \n"
     ]
    },
    {
     "name": "stdout",
     "output_type": "stream",
     "text": [
      "2025-04-21 03:43:18,214 - INFO - Downloaded logs_ki8f054b:v0 to /scratch/downloaded_artifacts/logs_ki8f054b:v0\n"
     ]
    },
    {
     "name": "stderr",
     "output_type": "stream",
     "text": [
      "\u001b[34m\u001b[1mwandb\u001b[0m:   1 of 1 files downloaded.  \n"
     ]
    },
    {
     "name": "stdout",
     "output_type": "stream",
     "text": [
      "2025-04-21 03:43:18,290 - INFO - Downloaded logs_lsdile6n:v0 to /scratch/downloaded_artifacts/logs_lsdile6n:v0\n"
     ]
    },
    {
     "name": "stderr",
     "output_type": "stream",
     "text": [
      "\u001b[34m\u001b[1mwandb\u001b[0m:   1 of 1 files downloaded.  \n"
     ]
    },
    {
     "name": "stdout",
     "output_type": "stream",
     "text": [
      "2025-04-21 03:43:18,303 - INFO - Downloaded logs_phlhrw20:v0 to /scratch/downloaded_artifacts/logs_phlhrw20:v0\n"
     ]
    },
    {
     "name": "stderr",
     "output_type": "stream",
     "text": [
      "\u001b[34m\u001b[1mwandb\u001b[0m:   1 of 1 files downloaded.  \n"
     ]
    },
    {
     "name": "stdout",
     "output_type": "stream",
     "text": [
      "2025-04-21 03:43:18,342 - INFO - Downloaded logs_hqu6lbiy:v0 to /scratch/downloaded_artifacts/logs_hqu6lbiy:v0\n"
     ]
    },
    {
     "name": "stderr",
     "output_type": "stream",
     "text": [
      "\u001b[34m\u001b[1mwandb\u001b[0m:   1 of 1 files downloaded.  \n"
     ]
    },
    {
     "name": "stdout",
     "output_type": "stream",
     "text": [
      "2025-04-21 03:43:18,412 - INFO - Downloaded logs_p716aai5:v0 to /scratch/downloaded_artifacts/logs_p716aai5:v0\n"
     ]
    },
    {
     "name": "stderr",
     "output_type": "stream",
     "text": [
      "\u001b[34m\u001b[1mwandb\u001b[0m:   1 of 1 files downloaded.  \n"
     ]
    },
    {
     "name": "stdout",
     "output_type": "stream",
     "text": [
      "2025-04-21 03:43:18,662 - INFO - Downloaded logs_uy436v38:v0 to /scratch/downloaded_artifacts/logs_uy436v38:v0\n"
     ]
    },
    {
     "name": "stderr",
     "output_type": "stream",
     "text": [
      "\u001b[34m\u001b[1mwandb\u001b[0m:   1 of 1 files downloaded.  \n"
     ]
    },
    {
     "name": "stdout",
     "output_type": "stream",
     "text": [
      "2025-04-21 03:43:18,682 - INFO - Downloaded logs_sxa0djqv:v0 to /scratch/downloaded_artifacts/logs_sxa0djqv:v0\n"
     ]
    },
    {
     "name": "stderr",
     "output_type": "stream",
     "text": [
      "\u001b[34m\u001b[1mwandb\u001b[0m:   1 of 1 files downloaded.  \n"
     ]
    },
    {
     "name": "stdout",
     "output_type": "stream",
     "text": [
      "2025-04-21 03:43:18,724 - INFO - Downloaded logs_wrm6inbr:v0 to /scratch/downloaded_artifacts/logs_wrm6inbr:v0\n"
     ]
    },
    {
     "name": "stderr",
     "output_type": "stream",
     "text": [
      "\u001b[34m\u001b[1mwandb\u001b[0m:   1 of 1 files downloaded.  \n"
     ]
    },
    {
     "name": "stdout",
     "output_type": "stream",
     "text": [
      "2025-04-21 03:43:18,915 - INFO - Downloaded logs_0ndz6ggl:v0 to /scratch/downloaded_artifacts/logs_0ndz6ggl:v0\n"
     ]
    },
    {
     "name": "stderr",
     "output_type": "stream",
     "text": [
      "\u001b[34m\u001b[1mwandb\u001b[0m:   1 of 1 files downloaded.  \n"
     ]
    },
    {
     "name": "stdout",
     "output_type": "stream",
     "text": [
      "2025-04-21 03:43:18,974 - INFO - Downloaded logs_xbllnubg:v0 to /scratch/downloaded_artifacts/logs_xbllnubg:v0\n"
     ]
    },
    {
     "name": "stderr",
     "output_type": "stream",
     "text": [
      "\u001b[34m\u001b[1mwandb\u001b[0m:   1 of 1 files downloaded.  \n"
     ]
    },
    {
     "name": "stdout",
     "output_type": "stream",
     "text": [
      "2025-04-21 03:43:19,066 - INFO - Downloaded logs_9o0ybbxu:v0 to /scratch/downloaded_artifacts/logs_9o0ybbxu:v0\n"
     ]
    },
    {
     "name": "stderr",
     "output_type": "stream",
     "text": [
      "\u001b[34m\u001b[1mwandb\u001b[0m:   1 of 1 files downloaded.  \n"
     ]
    },
    {
     "name": "stdout",
     "output_type": "stream",
     "text": [
      "2025-04-21 03:43:19,178 - INFO - Downloaded logs_a6vxyqoy:v0 to /scratch/downloaded_artifacts/logs_a6vxyqoy:v0\n"
     ]
    },
    {
     "name": "stderr",
     "output_type": "stream",
     "text": [
      "\u001b[34m\u001b[1mwandb\u001b[0m:   1 of 1 files downloaded.  \n"
     ]
    },
    {
     "name": "stdout",
     "output_type": "stream",
     "text": [
      "2025-04-21 03:43:19,223 - INFO - Downloaded logs_wrepm8kl:v0 to /scratch/downloaded_artifacts/logs_wrepm8kl:v0\n"
     ]
    },
    {
     "name": "stderr",
     "output_type": "stream",
     "text": [
      "\u001b[34m\u001b[1mwandb\u001b[0m:   1 of 1 files downloaded.  \n"
     ]
    },
    {
     "name": "stdout",
     "output_type": "stream",
     "text": [
      "2025-04-21 03:43:19,479 - INFO - Downloaded logs_ce54xpb9:v0 to /scratch/downloaded_artifacts/logs_ce54xpb9:v0\n"
     ]
    },
    {
     "name": "stderr",
     "output_type": "stream",
     "text": [
      "\u001b[34m\u001b[1mwandb\u001b[0m:   1 of 1 files downloaded.  \n"
     ]
    },
    {
     "name": "stdout",
     "output_type": "stream",
     "text": [
      "2025-04-21 03:43:19,524 - INFO - Downloaded logs_ekmz5lcx:v0 to /scratch/downloaded_artifacts/logs_ekmz5lcx:v0\n"
     ]
    },
    {
     "name": "stderr",
     "output_type": "stream",
     "text": [
      "\u001b[34m\u001b[1mwandb\u001b[0m:   1 of 1 files downloaded.  \n"
     ]
    },
    {
     "name": "stdout",
     "output_type": "stream",
     "text": [
      "2025-04-21 03:43:19,634 - INFO - Downloaded logs_525ivrz4:v0 to /scratch/downloaded_artifacts/logs_525ivrz4:v0\n"
     ]
    },
    {
     "name": "stderr",
     "output_type": "stream",
     "text": [
      "\u001b[34m\u001b[1mwandb\u001b[0m:   1 of 1 files downloaded.  \n"
     ]
    },
    {
     "name": "stdout",
     "output_type": "stream",
     "text": [
      "2025-04-21 03:43:19,740 - INFO - Downloaded logs_fft72cs1:v0 to /scratch/downloaded_artifacts/logs_fft72cs1:v0\n"
     ]
    },
    {
     "name": "stderr",
     "output_type": "stream",
     "text": [
      "\u001b[34m\u001b[1mwandb\u001b[0m:   1 of 1 files downloaded.  \n"
     ]
    },
    {
     "name": "stdout",
     "output_type": "stream",
     "text": [
      "2025-04-21 03:43:19,889 - INFO - Downloaded logs_b6eqi56v:v0 to /scratch/downloaded_artifacts/logs_b6eqi56v:v0\n"
     ]
    },
    {
     "name": "stderr",
     "output_type": "stream",
     "text": [
      "\u001b[34m\u001b[1mwandb\u001b[0m:   1 of 1 files downloaded.  \n"
     ]
    },
    {
     "name": "stdout",
     "output_type": "stream",
     "text": [
      "2025-04-21 03:43:20,116 - INFO - Downloaded logs_fwhe6deh:v0 to /scratch/downloaded_artifacts/logs_fwhe6deh:v0\n"
     ]
    },
    {
     "name": "stderr",
     "output_type": "stream",
     "text": [
      "\u001b[34m\u001b[1mwandb\u001b[0m:   1 of 1 files downloaded.  \n"
     ]
    },
    {
     "name": "stdout",
     "output_type": "stream",
     "text": [
      "2025-04-21 03:43:20,634 - INFO - Downloaded logs_ij7jz0tj:v0 to /scratch/downloaded_artifacts/logs_ij7jz0tj:v0\n"
     ]
    },
    {
     "name": "stderr",
     "output_type": "stream",
     "text": [
      "\u001b[34m\u001b[1mwandb\u001b[0m:   1 of 1 files downloaded.  \n"
     ]
    },
    {
     "name": "stdout",
     "output_type": "stream",
     "text": [
      "2025-04-21 03:43:20,647 - INFO - Downloaded logs_j9ulwcr8:v0 to /scratch/downloaded_artifacts/logs_j9ulwcr8:v0\n"
     ]
    },
    {
     "name": "stderr",
     "output_type": "stream",
     "text": [
      "\u001b[34m\u001b[1mwandb\u001b[0m:   1 of 1 files downloaded.  \n"
     ]
    },
    {
     "name": "stdout",
     "output_type": "stream",
     "text": [
      "2025-04-21 03:43:20,778 - INFO - Downloaded logs_m4y4dy7o:v0 to /scratch/downloaded_artifacts/logs_m4y4dy7o:v0\n"
     ]
    },
    {
     "name": "stderr",
     "output_type": "stream",
     "text": [
      "\u001b[34m\u001b[1mwandb\u001b[0m:   1 of 1 files downloaded.  \n"
     ]
    },
    {
     "name": "stdout",
     "output_type": "stream",
     "text": [
      "2025-04-21 03:43:20,967 - INFO - Downloaded logs_anyofm0u:v0 to /scratch/downloaded_artifacts/logs_anyofm0u:v0\n"
     ]
    },
    {
     "name": "stderr",
     "output_type": "stream",
     "text": [
      "\u001b[34m\u001b[1mwandb\u001b[0m:   1 of 1 files downloaded.  \n"
     ]
    },
    {
     "name": "stdout",
     "output_type": "stream",
     "text": [
      "2025-04-21 03:43:20,988 - INFO - Downloaded logs_ss3ozwst:v0 to /scratch/downloaded_artifacts/logs_ss3ozwst:v0\n"
     ]
    },
    {
     "name": "stderr",
     "output_type": "stream",
     "text": [
      "\u001b[34m\u001b[1mwandb\u001b[0m:   1 of 1 files downloaded.  \n"
     ]
    },
    {
     "name": "stdout",
     "output_type": "stream",
     "text": [
      "2025-04-21 03:43:21,362 - INFO - Downloaded logs_q28zmv1j:v0 to /scratch/downloaded_artifacts/logs_q28zmv1j:v0\n"
     ]
    },
    {
     "name": "stderr",
     "output_type": "stream",
     "text": [
      "\u001b[34m\u001b[1mwandb\u001b[0m:   1 of 1 files downloaded.  \n"
     ]
    },
    {
     "name": "stdout",
     "output_type": "stream",
     "text": [
      "2025-04-21 03:43:21,370 - INFO - Downloaded logs_x9bj7nji:v0 to /scratch/downloaded_artifacts/logs_x9bj7nji:v0\n"
     ]
    },
    {
     "name": "stderr",
     "output_type": "stream",
     "text": [
      "\u001b[34m\u001b[1mwandb\u001b[0m:   1 of 1 files downloaded.  \n"
     ]
    },
    {
     "name": "stdout",
     "output_type": "stream",
     "text": [
      "2025-04-21 03:43:21,374 - INFO - Downloaded logs_2c0dhc0y:v0 to /scratch/downloaded_artifacts/logs_2c0dhc0y:v0\n"
     ]
    },
    {
     "name": "stderr",
     "output_type": "stream",
     "text": [
      "\u001b[34m\u001b[1mwandb\u001b[0m:   1 of 1 files downloaded.  \n"
     ]
    },
    {
     "name": "stdout",
     "output_type": "stream",
     "text": [
      "2025-04-21 03:43:21,520 - INFO - Downloaded logs_0wbrh361:v0 to /scratch/downloaded_artifacts/logs_0wbrh361:v0\n"
     ]
    },
    {
     "name": "stderr",
     "output_type": "stream",
     "text": [
      "\u001b[34m\u001b[1mwandb\u001b[0m:   1 of 1 files downloaded.  \n"
     ]
    },
    {
     "name": "stdout",
     "output_type": "stream",
     "text": [
      "2025-04-21 03:43:21,616 - INFO - Downloaded logs_dtczcdf7:v0 to /scratch/downloaded_artifacts/logs_dtczcdf7:v0\n"
     ]
    },
    {
     "name": "stderr",
     "output_type": "stream",
     "text": [
      "\u001b[34m\u001b[1mwandb\u001b[0m:   1 of 1 files downloaded.  \n"
     ]
    },
    {
     "name": "stdout",
     "output_type": "stream",
     "text": [
      "2025-04-21 03:43:21,648 - INFO - Downloaded logs_ksfg9vn7:v0 to /scratch/downloaded_artifacts/logs_ksfg9vn7:v0\n"
     ]
    },
    {
     "name": "stderr",
     "output_type": "stream",
     "text": [
      "\u001b[34m\u001b[1mwandb\u001b[0m:   1 of 1 files downloaded.  \n"
     ]
    },
    {
     "name": "stdout",
     "output_type": "stream",
     "text": [
      "2025-04-21 03:43:21,722 - INFO - Downloaded logs_9e3dx6uj:v0 to /scratch/downloaded_artifacts/logs_9e3dx6uj:v0\n"
     ]
    },
    {
     "name": "stderr",
     "output_type": "stream",
     "text": [
      "\u001b[34m\u001b[1mwandb\u001b[0m:   1 of 1 files downloaded.  \n"
     ]
    },
    {
     "name": "stdout",
     "output_type": "stream",
     "text": [
      "2025-04-21 03:43:21,894 - INFO - Downloaded logs_h9ioi947:v0 to /scratch/downloaded_artifacts/logs_h9ioi947:v0\n"
     ]
    },
    {
     "name": "stderr",
     "output_type": "stream",
     "text": [
      "\u001b[34m\u001b[1mwandb\u001b[0m:   1 of 1 files downloaded.  \n"
     ]
    },
    {
     "name": "stdout",
     "output_type": "stream",
     "text": [
      "2025-04-21 03:43:22,025 - INFO - Downloaded logs_dpxptmh5:v0 to /scratch/downloaded_artifacts/logs_dpxptmh5:v0\n"
     ]
    },
    {
     "name": "stderr",
     "output_type": "stream",
     "text": [
      "\u001b[34m\u001b[1mwandb\u001b[0m:   1 of 1 files downloaded.  \n"
     ]
    },
    {
     "name": "stdout",
     "output_type": "stream",
     "text": [
      "2025-04-21 03:43:22,057 - INFO - Downloaded logs_m9224d9h:v0 to /scratch/downloaded_artifacts/logs_m9224d9h:v0\n"
     ]
    },
    {
     "name": "stderr",
     "output_type": "stream",
     "text": [
      "\u001b[34m\u001b[1mwandb\u001b[0m:   1 of 1 files downloaded.  \n"
     ]
    },
    {
     "name": "stdout",
     "output_type": "stream",
     "text": [
      "2025-04-21 03:43:22,199 - INFO - Downloaded logs_0mwsy7gs:v0 to /scratch/downloaded_artifacts/logs_0mwsy7gs:v0\n"
     ]
    },
    {
     "name": "stderr",
     "output_type": "stream",
     "text": [
      "\u001b[34m\u001b[1mwandb\u001b[0m:   1 of 1 files downloaded.  \n"
     ]
    },
    {
     "name": "stdout",
     "output_type": "stream",
     "text": [
      "2025-04-21 03:43:22,349 - INFO - Downloaded logs_10mr3b1q:v0 to /scratch/downloaded_artifacts/logs_10mr3b1q:v0\n"
     ]
    },
    {
     "name": "stderr",
     "output_type": "stream",
     "text": [
      "\u001b[34m\u001b[1mwandb\u001b[0m:   1 of 1 files downloaded.  \n"
     ]
    },
    {
     "name": "stdout",
     "output_type": "stream",
     "text": [
      "2025-04-21 03:43:22,401 - INFO - Downloaded logs_n6aaw361:v0 to /scratch/downloaded_artifacts/logs_n6aaw361:v0\n"
     ]
    },
    {
     "name": "stderr",
     "output_type": "stream",
     "text": [
      "\u001b[34m\u001b[1mwandb\u001b[0m:   1 of 1 files downloaded.  \n"
     ]
    },
    {
     "name": "stdout",
     "output_type": "stream",
     "text": [
      "2025-04-21 03:43:22,444 - INFO - Downloaded logs_0xfm68y6:v0 to /scratch/downloaded_artifacts/logs_0xfm68y6:v0\n"
     ]
    },
    {
     "name": "stderr",
     "output_type": "stream",
     "text": [
      "\u001b[34m\u001b[1mwandb\u001b[0m:   1 of 1 files downloaded.  \n"
     ]
    },
    {
     "name": "stdout",
     "output_type": "stream",
     "text": [
      "2025-04-21 03:43:22,449 - INFO - Downloaded logs_3vf8s3ll:v0 to /scratch/downloaded_artifacts/logs_3vf8s3ll:v0\n"
     ]
    },
    {
     "name": "stderr",
     "output_type": "stream",
     "text": [
      "\u001b[34m\u001b[1mwandb\u001b[0m:   1 of 1 files downloaded.  \n"
     ]
    },
    {
     "name": "stdout",
     "output_type": "stream",
     "text": [
      "2025-04-21 03:43:22,791 - INFO - Downloaded logs_7bsytedq:v0 to /scratch/downloaded_artifacts/logs_7bsytedq:v0\n"
     ]
    },
    {
     "name": "stderr",
     "output_type": "stream",
     "text": [
      "\u001b[34m\u001b[1mwandb\u001b[0m:   1 of 1 files downloaded.  \n"
     ]
    },
    {
     "name": "stdout",
     "output_type": "stream",
     "text": [
      "2025-04-21 03:43:22,837 - INFO - Downloaded logs_7widuiya:v0 to /scratch/downloaded_artifacts/logs_7widuiya:v0\n"
     ]
    },
    {
     "name": "stderr",
     "output_type": "stream",
     "text": [
      "\u001b[34m\u001b[1mwandb\u001b[0m:   1 of 1 files downloaded.  \n"
     ]
    },
    {
     "name": "stdout",
     "output_type": "stream",
     "text": [
      "2025-04-21 03:43:23,167 - INFO - Downloaded logs_f64w7gwg:v0 to /scratch/downloaded_artifacts/logs_f64w7gwg:v0\n"
     ]
    },
    {
     "name": "stderr",
     "output_type": "stream",
     "text": [
      "\u001b[34m\u001b[1mwandb\u001b[0m:   1 of 1 files downloaded.  \n"
     ]
    },
    {
     "name": "stdout",
     "output_type": "stream",
     "text": [
      "2025-04-21 03:43:23,538 - INFO - Downloaded logs_gknnj5hm:v0 to /scratch/downloaded_artifacts/logs_gknnj5hm:v0\n"
     ]
    },
    {
     "name": "stderr",
     "output_type": "stream",
     "text": [
      "\u001b[34m\u001b[1mwandb\u001b[0m:   1 of 1 files downloaded.  \n"
     ]
    },
    {
     "name": "stdout",
     "output_type": "stream",
     "text": [
      "2025-04-21 03:43:23,552 - INFO - Downloaded logs_gp4u77ns:v0 to /scratch/downloaded_artifacts/logs_gp4u77ns:v0\n"
     ]
    },
    {
     "name": "stderr",
     "output_type": "stream",
     "text": [
      "\u001b[34m\u001b[1mwandb\u001b[0m:   1 of 1 files downloaded.  \n"
     ]
    },
    {
     "name": "stdout",
     "output_type": "stream",
     "text": [
      "2025-04-21 03:43:23,795 - INFO - Downloaded logs_ikflfct3:v0 to /scratch/downloaded_artifacts/logs_ikflfct3:v0\n"
     ]
    },
    {
     "name": "stderr",
     "output_type": "stream",
     "text": [
      "\u001b[34m\u001b[1mwandb\u001b[0m:   1 of 1 files downloaded.  \n"
     ]
    },
    {
     "name": "stdout",
     "output_type": "stream",
     "text": [
      "2025-04-21 03:43:23,827 - INFO - Downloaded logs_hsfm78za:v0 to /scratch/downloaded_artifacts/logs_hsfm78za:v0\n"
     ]
    },
    {
     "name": "stderr",
     "output_type": "stream",
     "text": [
      "\u001b[34m\u001b[1mwandb\u001b[0m:   1 of 1 files downloaded.  \n"
     ]
    },
    {
     "name": "stdout",
     "output_type": "stream",
     "text": [
      "2025-04-21 03:43:24,125 - INFO - Downloaded logs_k82bzxk5:v0 to /scratch/downloaded_artifacts/logs_k82bzxk5:v0\n"
     ]
    },
    {
     "name": "stderr",
     "output_type": "stream",
     "text": [
      "\u001b[34m\u001b[1mwandb\u001b[0m:   1 of 1 files downloaded.  \n"
     ]
    },
    {
     "name": "stdout",
     "output_type": "stream",
     "text": [
      "2025-04-21 03:43:24,134 - INFO - Downloaded logs_jdn835s9:v0 to /scratch/downloaded_artifacts/logs_jdn835s9:v0\n"
     ]
    },
    {
     "name": "stderr",
     "output_type": "stream",
     "text": [
      "\u001b[34m\u001b[1mwandb\u001b[0m:   1 of 1 files downloaded.  \n"
     ]
    },
    {
     "name": "stdout",
     "output_type": "stream",
     "text": [
      "2025-04-21 03:43:24,185 - INFO - Downloaded logs_kitsk12s:v0 to /scratch/downloaded_artifacts/logs_kitsk12s:v0\n"
     ]
    },
    {
     "name": "stderr",
     "output_type": "stream",
     "text": [
      "\u001b[34m\u001b[1mwandb\u001b[0m:   1 of 1 files downloaded.  \n"
     ]
    },
    {
     "name": "stdout",
     "output_type": "stream",
     "text": [
      "2025-04-21 03:43:24,548 - INFO - Downloaded logs_l7x2u4ka:v0 to /scratch/downloaded_artifacts/logs_l7x2u4ka:v0\n"
     ]
    },
    {
     "name": "stderr",
     "output_type": "stream",
     "text": [
      "\u001b[34m\u001b[1mwandb\u001b[0m:   1 of 1 files downloaded.  \n"
     ]
    },
    {
     "name": "stdout",
     "output_type": "stream",
     "text": [
      "2025-04-21 03:43:24,847 - INFO - Downloaded logs_lkt5sfw4:v0 to /scratch/downloaded_artifacts/logs_lkt5sfw4:v0\n"
     ]
    },
    {
     "name": "stderr",
     "output_type": "stream",
     "text": [
      "\u001b[34m\u001b[1mwandb\u001b[0m:   1 of 1 files downloaded.  \n"
     ]
    },
    {
     "name": "stdout",
     "output_type": "stream",
     "text": [
      "2025-04-21 03:43:24,891 - INFO - Downloaded logs_mir034nb:v0 to /scratch/downloaded_artifacts/logs_mir034nb:v0\n"
     ]
    },
    {
     "name": "stderr",
     "output_type": "stream",
     "text": [
      "\u001b[34m\u001b[1mwandb\u001b[0m:   1 of 1 files downloaded.  \n"
     ]
    },
    {
     "name": "stdout",
     "output_type": "stream",
     "text": [
      "2025-04-21 03:43:25,047 - INFO - Downloaded logs_qj2pqqqp:v0 to /scratch/downloaded_artifacts/logs_qj2pqqqp:v0\n"
     ]
    },
    {
     "name": "stderr",
     "output_type": "stream",
     "text": [
      "\u001b[34m\u001b[1mwandb\u001b[0m:   1 of 1 files downloaded.  \n"
     ]
    },
    {
     "name": "stdout",
     "output_type": "stream",
     "text": [
      "2025-04-21 03:43:25,086 - INFO - Downloaded logs_v5ef4jl0:v0 to /scratch/downloaded_artifacts/logs_v5ef4jl0:v0\n"
     ]
    },
    {
     "name": "stderr",
     "output_type": "stream",
     "text": [
      "\u001b[34m\u001b[1mwandb\u001b[0m:   1 of 1 files downloaded.  \n"
     ]
    },
    {
     "name": "stdout",
     "output_type": "stream",
     "text": [
      "2025-04-21 03:43:25,091 - INFO - Downloaded logs_p8o4hvje:v0 to /scratch/downloaded_artifacts/logs_p8o4hvje:v0\n"
     ]
    },
    {
     "name": "stderr",
     "output_type": "stream",
     "text": [
      "\u001b[34m\u001b[1mwandb\u001b[0m:   1 of 1 files downloaded.  \n"
     ]
    },
    {
     "name": "stdout",
     "output_type": "stream",
     "text": [
      "2025-04-21 03:43:25,108 - INFO - Downloaded logs_dk2o97jh:v0 to /scratch/downloaded_artifacts/logs_dk2o97jh:v0\n"
     ]
    },
    {
     "name": "stderr",
     "output_type": "stream",
     "text": [
      "\u001b[34m\u001b[1mwandb\u001b[0m:   1 of 1 files downloaded.  \n"
     ]
    },
    {
     "name": "stdout",
     "output_type": "stream",
     "text": [
      "2025-04-21 03:43:25,161 - INFO - Downloaded logs_v6qj3euu:v0 to /scratch/downloaded_artifacts/logs_v6qj3euu:v0\n"
     ]
    },
    {
     "name": "stderr",
     "output_type": "stream",
     "text": [
      "\u001b[34m\u001b[1mwandb\u001b[0m:   1 of 1 files downloaded.  \n"
     ]
    },
    {
     "name": "stdout",
     "output_type": "stream",
     "text": [
      "2025-04-21 03:43:25,552 - INFO - Downloaded logs_6e7lmg2v:v0 to /scratch/downloaded_artifacts/logs_6e7lmg2v:v0\n"
     ]
    },
    {
     "name": "stderr",
     "output_type": "stream",
     "text": [
      "\u001b[34m\u001b[1mwandb\u001b[0m:   1 of 1 files downloaded.  \n"
     ]
    },
    {
     "name": "stdout",
     "output_type": "stream",
     "text": [
      "2025-04-21 03:43:25,557 - INFO - Downloaded logs_wkzjwwus:v0 to /scratch/downloaded_artifacts/logs_wkzjwwus:v0\n"
     ]
    },
    {
     "name": "stderr",
     "output_type": "stream",
     "text": [
      "\u001b[34m\u001b[1mwandb\u001b[0m:   1 of 1 files downloaded.  \n"
     ]
    },
    {
     "name": "stdout",
     "output_type": "stream",
     "text": [
      "2025-04-21 03:43:25,603 - INFO - Downloaded logs_xppwmj1d:v0 to /scratch/downloaded_artifacts/logs_xppwmj1d:v0\n"
     ]
    },
    {
     "name": "stderr",
     "output_type": "stream",
     "text": [
      "\u001b[34m\u001b[1mwandb\u001b[0m:   1 of 1 files downloaded.  \n"
     ]
    },
    {
     "name": "stdout",
     "output_type": "stream",
     "text": [
      "2025-04-21 03:43:26,234 - INFO - Downloaded logs_xqn99upa:v0 to /scratch/downloaded_artifacts/logs_xqn99upa:v0\n"
     ]
    },
    {
     "name": "stderr",
     "output_type": "stream",
     "text": [
      "\u001b[34m\u001b[1mwandb\u001b[0m: \u001b[33mWARNING\u001b[0m Cache size exceeded. Attempting to reclaim space...\n",
      "\u001b[34m\u001b[1mwandb\u001b[0m: \u001b[33mWARNING\u001b[0m Cache size exceeded. Attempting to reclaim space...\n",
      "\u001b[34m\u001b[1mwandb\u001b[0m: \u001b[33mWARNING\u001b[0m Cache contains 142.2MB of temporary files. Run `wandb artifact cleanup --remove-temp` to remove them.\n",
      "\u001b[34m\u001b[1mwandb\u001b[0m: \u001b[33mWARNING\u001b[0m Cache contains 142.6MB of temporary files. Run `wandb artifact cleanup --remove-temp` to remove them.\n"
     ]
    },
    {
     "name": "stdout",
     "output_type": "stream",
     "text": [
      "2025-04-21 03:43:26,267 - ERROR - Error downloading artifact for run lx9ynyfb: [Errno 28] No space left on device\n",
      "2025-04-21 03:43:26,268 - ERROR - Error downloading artifact for run 28k0uynj: [Errno 28] No space left on device\n"
     ]
    },
    {
     "name": "stderr",
     "output_type": "stream",
     "text": [
      "\u001b[34m\u001b[1mwandb\u001b[0m:   1 of 1 files downloaded.  \n"
     ]
    },
    {
     "name": "stdout",
     "output_type": "stream",
     "text": [
      "2025-04-21 03:43:26,268 - ERROR - Error downloading artifact for run zmwa0n66: [Errno 28] No space left on device\n",
      "2025-04-21 03:43:26,269 - ERROR - Error downloading artifact for run poyl9k7n: [Errno 28] No space left on device\n",
      "2025-04-21 03:43:26,270 - ERROR - Error downloading artifact for run hyo3ecv3: [Errno 28] No space left on device\n",
      "2025-04-21 03:43:26,270 - ERROR - Error downloading artifact for run 5g6ztzi7: [Errno 28] No space left on device\n",
      "2025-04-21 03:43:26,270 - ERROR - Error downloading artifact for run nmcax4ij: [Errno 28] No space left on device\n",
      "2025-04-21 03:43:26,270 - ERROR - Error downloading artifact for run nnp3hb5s: [Errno 28] No space left on device\n",
      "2025-04-21 03:43:26,271 - ERROR - Error downloading artifact for run y1t8h0oi: [Errno 28] No space left on device\n",
      "2025-04-21 03:43:26,274 - ERROR - Error downloading artifact for run uxufismy: [Errno 28] No space left on device\n",
      "2025-04-21 03:43:26,275 - INFO - Downloaded logs_sxbt0ax8:v0 to /scratch/downloaded_artifacts/logs_sxbt0ax8:v0\n"
     ]
    },
    {
     "name": "stderr",
     "output_type": "stream",
     "text": [
      "\u001b[34m\u001b[1mwandb\u001b[0m:   1 of 1 files downloaded.  \n"
     ]
    },
    {
     "name": "stdout",
     "output_type": "stream",
     "text": [
      "2025-04-21 03:43:27,755 - INFO - Downloaded logs_snq45lwc:v0 to /scratch/downloaded_artifacts/logs_snq45lwc:v0\n"
     ]
    },
    {
     "name": "stderr",
     "output_type": "stream",
     "text": [
      "\u001b[34m\u001b[1mwandb\u001b[0m:   1 of 1 files downloaded.  \n"
     ]
    },
    {
     "name": "stdout",
     "output_type": "stream",
     "text": [
      "2025-04-21 03:43:27,962 - INFO - Downloaded logs_oku93uj7:v0 to /scratch/downloaded_artifacts/logs_oku93uj7:v0\n"
     ]
    },
    {
     "name": "stderr",
     "output_type": "stream",
     "text": [
      "\u001b[34m\u001b[1mwandb\u001b[0m:   1 of 1 files downloaded.  \n"
     ]
    },
    {
     "name": "stdout",
     "output_type": "stream",
     "text": [
      "2025-04-21 03:43:27,969 - INFO - Downloaded logs_zmjjqfjd:v0 to /scratch/downloaded_artifacts/logs_zmjjqfjd:v0\n"
     ]
    },
    {
     "name": "stderr",
     "output_type": "stream",
     "text": [
      "\u001b[34m\u001b[1mwandb\u001b[0m:   1 of 1 files downloaded.  \n"
     ]
    },
    {
     "name": "stdout",
     "output_type": "stream",
     "text": [
      "2025-04-21 03:43:28,105 - INFO - Downloaded logs_vunr2qvq:v0 to /scratch/downloaded_artifacts/logs_vunr2qvq:v0\n"
     ]
    },
    {
     "name": "stderr",
     "output_type": "stream",
     "text": [
      "\u001b[34m\u001b[1mwandb\u001b[0m:   1 of 1 files downloaded.  \n"
     ]
    },
    {
     "name": "stdout",
     "output_type": "stream",
     "text": [
      "2025-04-21 03:43:28,362 - INFO - Downloaded logs_a23qrybz:v0 to /scratch/downloaded_artifacts/logs_a23qrybz:v0\n"
     ]
    },
    {
     "name": "stderr",
     "output_type": "stream",
     "text": [
      "\u001b[34m\u001b[1mwandb\u001b[0m:   1 of 1 files downloaded.  \n"
     ]
    },
    {
     "name": "stdout",
     "output_type": "stream",
     "text": [
      "2025-04-21 03:43:28,603 - INFO - Downloaded logs_elska3gq:v0 to /scratch/downloaded_artifacts/logs_elska3gq:v0\n"
     ]
    },
    {
     "name": "stderr",
     "output_type": "stream",
     "text": [
      "\u001b[34m\u001b[1mwandb\u001b[0m:   1 of 1 files downloaded.  \n"
     ]
    },
    {
     "name": "stdout",
     "output_type": "stream",
     "text": [
      "2025-04-21 03:43:28,612 - INFO - Downloaded logs_dkch7tql:v0 to /scratch/downloaded_artifacts/logs_dkch7tql:v0\n"
     ]
    },
    {
     "name": "stderr",
     "output_type": "stream",
     "text": [
      "\u001b[34m\u001b[1mwandb\u001b[0m:   1 of 1 files downloaded.  \n"
     ]
    },
    {
     "name": "stdout",
     "output_type": "stream",
     "text": [
      "2025-04-21 03:43:28,710 - INFO - Downloaded logs_f7dyowds:v0 to /scratch/downloaded_artifacts/logs_f7dyowds:v0\n"
     ]
    },
    {
     "name": "stderr",
     "output_type": "stream",
     "text": [
      "\u001b[34m\u001b[1mwandb\u001b[0m:   1 of 1 files downloaded.  \n"
     ]
    },
    {
     "name": "stdout",
     "output_type": "stream",
     "text": [
      "2025-04-21 03:43:28,954 - INFO - Downloaded logs_2gboymqj:v0 to /scratch/downloaded_artifacts/logs_2gboymqj:v0\n"
     ]
    },
    {
     "name": "stderr",
     "output_type": "stream",
     "text": [
      "\u001b[34m\u001b[1mwandb\u001b[0m:   1 of 1 files downloaded.  \n",
      "\u001b[34m\u001b[1mwandb\u001b[0m:   1 of 1 files downloaded.  \n"
     ]
    },
    {
     "name": "stdout",
     "output_type": "stream",
     "text": [
      "2025-04-21 03:43:28,971 - INFO - Downloaded logs_l3bng3dg:v0 to /scratch/downloaded_artifacts/logs_l3bng3dg:v0\n"
     ]
    },
    {
     "name": "stderr",
     "output_type": "stream",
     "text": [
      "\u001b[34m\u001b[1mwandb\u001b[0m:   1 of 1 files downloaded.  \n"
     ]
    },
    {
     "name": "stdout",
     "output_type": "stream",
     "text": [
      "2025-04-21 03:43:28,981 - INFO - Downloaded logs_jh8r0rp9:v0 to /scratch/downloaded_artifacts/logs_jh8r0rp9:v0\n",
      "2025-04-21 03:43:28,986 - INFO - Downloaded logs_f06v3hu1:v0 to /scratch/downloaded_artifacts/logs_f06v3hu1:v0\n"
     ]
    },
    {
     "name": "stderr",
     "output_type": "stream",
     "text": [
      "\u001b[34m\u001b[1mwandb\u001b[0m:   1 of 1 files downloaded.  \n"
     ]
    },
    {
     "name": "stdout",
     "output_type": "stream",
     "text": [
      "2025-04-21 03:43:29,064 - INFO - Downloaded logs_el20kyyk:v0 to /scratch/downloaded_artifacts/logs_el20kyyk:v0\n"
     ]
    },
    {
     "name": "stderr",
     "output_type": "stream",
     "text": [
      "\u001b[34m\u001b[1mwandb\u001b[0m:   1 of 1 files downloaded.  \n"
     ]
    },
    {
     "name": "stdout",
     "output_type": "stream",
     "text": [
      "2025-04-21 03:43:29,108 - INFO - Downloaded logs_ltdb1f9m:v0 to /scratch/downloaded_artifacts/logs_ltdb1f9m:v0\n"
     ]
    },
    {
     "name": "stderr",
     "output_type": "stream",
     "text": [
      "\u001b[34m\u001b[1mwandb\u001b[0m:   1 of 1 files downloaded.  \n"
     ]
    },
    {
     "name": "stdout",
     "output_type": "stream",
     "text": [
      "2025-04-21 03:43:29,190 - INFO - Downloaded logs_zn1pt5xr:v0 to /scratch/downloaded_artifacts/logs_zn1pt5xr:v0\n"
     ]
    },
    {
     "name": "stderr",
     "output_type": "stream",
     "text": [
      "\u001b[34m\u001b[1mwandb\u001b[0m:   1 of 1 files downloaded.  \n"
     ]
    },
    {
     "name": "stdout",
     "output_type": "stream",
     "text": [
      "2025-04-21 03:43:29,221 - INFO - Downloaded logs_fhras18v:v0 to /scratch/downloaded_artifacts/logs_fhras18v:v0\n"
     ]
    },
    {
     "name": "stderr",
     "output_type": "stream",
     "text": [
      "\u001b[34m\u001b[1mwandb\u001b[0m:   1 of 1 files downloaded.  \n",
      "\u001b[34m\u001b[1mwandb\u001b[0m:   1 of 1 files downloaded.  \n"
     ]
    },
    {
     "name": "stdout",
     "output_type": "stream",
     "text": [
      "2025-04-21 03:43:29,304 - INFO - Downloaded logs_nadf2bkr:v0 to /scratch/downloaded_artifacts/logs_nadf2bkr:v0\n",
      "2025-04-21 03:43:29,308 - INFO - Downloaded logs_p3tcqds4:v0 to /scratch/downloaded_artifacts/logs_p3tcqds4:v0\n"
     ]
    },
    {
     "name": "stderr",
     "output_type": "stream",
     "text": [
      "\u001b[34m\u001b[1mwandb\u001b[0m:   1 of 1 files downloaded.  \n"
     ]
    },
    {
     "name": "stdout",
     "output_type": "stream",
     "text": [
      "2025-04-21 03:43:29,373 - INFO - Downloaded logs_l45h67op:v0 to /scratch/downloaded_artifacts/logs_l45h67op:v0\n"
     ]
    },
    {
     "name": "stderr",
     "output_type": "stream",
     "text": [
      "\u001b[34m\u001b[1mwandb\u001b[0m:   1 of 1 files downloaded.  \n"
     ]
    },
    {
     "name": "stdout",
     "output_type": "stream",
     "text": [
      "2025-04-21 03:43:29,389 - INFO - Downloaded logs_mece19j0:v0 to /scratch/downloaded_artifacts/logs_mece19j0:v0\n"
     ]
    },
    {
     "name": "stderr",
     "output_type": "stream",
     "text": [
      "\u001b[34m\u001b[1mwandb\u001b[0m:   1 of 1 files downloaded.  \n"
     ]
    },
    {
     "name": "stdout",
     "output_type": "stream",
     "text": [
      "2025-04-21 03:43:30,105 - INFO - Downloaded logs_fffje0uf:v0 to /scratch/downloaded_artifacts/logs_fffje0uf:v0\n"
     ]
    },
    {
     "name": "stderr",
     "output_type": "stream",
     "text": [
      "\u001b[34m\u001b[1mwandb\u001b[0m:   1 of 1 files downloaded.  \n"
     ]
    },
    {
     "name": "stdout",
     "output_type": "stream",
     "text": [
      "2025-04-21 03:43:30,262 - INFO - Downloaded logs_pgyrbw13:v0 to /scratch/downloaded_artifacts/logs_pgyrbw13:v0\n"
     ]
    },
    {
     "name": "stderr",
     "output_type": "stream",
     "text": [
      "\u001b[34m\u001b[1mwandb\u001b[0m:   1 of 1 files downloaded.  \n"
     ]
    },
    {
     "name": "stdout",
     "output_type": "stream",
     "text": [
      "2025-04-21 03:43:30,327 - INFO - Downloaded logs_knmnixyi:v0 to /scratch/downloaded_artifacts/logs_knmnixyi:v0\n"
     ]
    },
    {
     "name": "stderr",
     "output_type": "stream",
     "text": [
      "\u001b[34m\u001b[1mwandb\u001b[0m:   1 of 1 files downloaded.  \n"
     ]
    },
    {
     "name": "stdout",
     "output_type": "stream",
     "text": [
      "2025-04-21 03:43:30,425 - INFO - Downloaded logs_4n1ip6du:v0 to /scratch/downloaded_artifacts/logs_4n1ip6du:v0\n"
     ]
    },
    {
     "name": "stderr",
     "output_type": "stream",
     "text": [
      "\u001b[34m\u001b[1mwandb\u001b[0m:   1 of 1 files downloaded.  \n"
     ]
    },
    {
     "name": "stdout",
     "output_type": "stream",
     "text": [
      "2025-04-21 03:43:30,875 - INFO - Downloaded logs_5bo8xy8t:v0 to /scratch/downloaded_artifacts/logs_5bo8xy8t:v0\n"
     ]
    },
    {
     "name": "stderr",
     "output_type": "stream",
     "text": [
      "\u001b[34m\u001b[1mwandb\u001b[0m:   1 of 1 files downloaded.  \n"
     ]
    },
    {
     "name": "stdout",
     "output_type": "stream",
     "text": [
      "2025-04-21 03:43:31,683 - INFO - Downloaded logs_7umd066d:v0 to /scratch/downloaded_artifacts/logs_7umd066d:v0\n"
     ]
    },
    {
     "name": "stderr",
     "output_type": "stream",
     "text": [
      "\u001b[34m\u001b[1mwandb\u001b[0m:   1 of 1 files downloaded.  \n"
     ]
    },
    {
     "name": "stdout",
     "output_type": "stream",
     "text": [
      "2025-04-21 03:43:31,714 - INFO - Downloaded logs_8ynkaq3q:v0 to /scratch/downloaded_artifacts/logs_8ynkaq3q:v0\n"
     ]
    },
    {
     "name": "stderr",
     "output_type": "stream",
     "text": [
      "\u001b[34m\u001b[1mwandb\u001b[0m:   1 of 1 files downloaded.  \n"
     ]
    },
    {
     "name": "stdout",
     "output_type": "stream",
     "text": [
      "2025-04-21 03:43:32,211 - INFO - Downloaded logs_8zkjnsac:v0 to /scratch/downloaded_artifacts/logs_8zkjnsac:v0\n"
     ]
    },
    {
     "name": "stderr",
     "output_type": "stream",
     "text": [
      "\u001b[34m\u001b[1mwandb\u001b[0m:   1 of 1 files downloaded.  \n",
      "\u001b[34m\u001b[1mwandb\u001b[0m:   1 of 1 files downloaded.  \n"
     ]
    },
    {
     "name": "stdout",
     "output_type": "stream",
     "text": [
      "2025-04-21 03:43:54,095 - INFO - Downloaded logs_j7sdbppv:v0 to /scratch/downloaded_artifacts/logs_j7sdbppv:v0\n",
      "2025-04-21 03:43:54,099 - INFO - Downloaded logs_b7pgo5yt:v0 to /scratch/downloaded_artifacts/logs_b7pgo5yt:v0\n"
     ]
    },
    {
     "name": "stderr",
     "output_type": "stream",
     "text": [
      "\u001b[34m\u001b[1mwandb\u001b[0m:   1 of 1 files downloaded.  \n"
     ]
    },
    {
     "name": "stdout",
     "output_type": "stream",
     "text": [
      "2025-04-21 03:43:54,295 - INFO - Downloaded logs_kwdvph60:v0 to /scratch/downloaded_artifacts/logs_kwdvph60:v0\n"
     ]
    },
    {
     "name": "stderr",
     "output_type": "stream",
     "text": [
      "\u001b[34m\u001b[1mwandb\u001b[0m:   1 of 1 files downloaded.  \n"
     ]
    },
    {
     "name": "stdout",
     "output_type": "stream",
     "text": [
      "2025-04-21 03:43:54,302 - INFO - Downloaded logs_loikqc1j:v0 to /scratch/downloaded_artifacts/logs_loikqc1j:v0\n"
     ]
    },
    {
     "name": "stderr",
     "output_type": "stream",
     "text": [
      "\u001b[34m\u001b[1mwandb\u001b[0m:   1 of 1 files downloaded.  \n"
     ]
    },
    {
     "name": "stdout",
     "output_type": "stream",
     "text": [
      "2025-04-21 03:43:54,553 - INFO - Downloaded logs_ksivwi70:v0 to /scratch/downloaded_artifacts/logs_ksivwi70:v0\n"
     ]
    },
    {
     "name": "stderr",
     "output_type": "stream",
     "text": [
      "\u001b[34m\u001b[1mwandb\u001b[0m:   1 of 1 files downloaded.  \n"
     ]
    },
    {
     "name": "stdout",
     "output_type": "stream",
     "text": [
      "2025-04-21 03:43:54,624 - INFO - Downloaded logs_f9zsqoy1:v0 to /scratch/downloaded_artifacts/logs_f9zsqoy1:v0\n"
     ]
    },
    {
     "name": "stderr",
     "output_type": "stream",
     "text": [
      "\u001b[34m\u001b[1mwandb\u001b[0m:   1 of 1 files downloaded.  \n"
     ]
    },
    {
     "name": "stdout",
     "output_type": "stream",
     "text": [
      "2025-04-21 03:43:54,717 - INFO - Downloaded logs_od0j59qx:v0 to /scratch/downloaded_artifacts/logs_od0j59qx:v0\n"
     ]
    },
    {
     "name": "stderr",
     "output_type": "stream",
     "text": [
      "\u001b[34m\u001b[1mwandb\u001b[0m:   1 of 1 files downloaded.  \n"
     ]
    },
    {
     "name": "stdout",
     "output_type": "stream",
     "text": [
      "2025-04-21 03:43:54,727 - INFO - Downloaded logs_kwjwcwjo:v0 to /scratch/downloaded_artifacts/logs_kwjwcwjo:v0\n"
     ]
    },
    {
     "name": "stderr",
     "output_type": "stream",
     "text": [
      "\u001b[34m\u001b[1mwandb\u001b[0m:   1 of 1 files downloaded.  \n"
     ]
    },
    {
     "name": "stdout",
     "output_type": "stream",
     "text": [
      "2025-04-21 03:43:54,750 - INFO - Downloaded logs_om14xus5:v0 to /scratch/downloaded_artifacts/logs_om14xus5:v0\n"
     ]
    },
    {
     "name": "stderr",
     "output_type": "stream",
     "text": [
      "\u001b[34m\u001b[1mwandb\u001b[0m:   1 of 1 files downloaded.  \n"
     ]
    },
    {
     "name": "stdout",
     "output_type": "stream",
     "text": [
      "2025-04-21 03:43:54,780 - INFO - Downloaded logs_3x6og5n7:v0 to /scratch/downloaded_artifacts/logs_3x6og5n7:v0\n"
     ]
    },
    {
     "name": "stderr",
     "output_type": "stream",
     "text": [
      "\u001b[34m\u001b[1mwandb\u001b[0m:   1 of 1 files downloaded.  \n"
     ]
    },
    {
     "name": "stdout",
     "output_type": "stream",
     "text": [
      "2025-04-21 03:43:54,902 - INFO - Downloaded logs_zc5ejxf2:v0 to /scratch/downloaded_artifacts/logs_zc5ejxf2:v0\n"
     ]
    },
    {
     "name": "stderr",
     "output_type": "stream",
     "text": [
      "\u001b[34m\u001b[1mwandb\u001b[0m:   1 of 1 files downloaded.  \n"
     ]
    },
    {
     "name": "stdout",
     "output_type": "stream",
     "text": [
      "2025-04-21 03:43:54,961 - INFO - Downloaded logs_hiqm4cwq:v0 to /scratch/downloaded_artifacts/logs_hiqm4cwq:v0\n"
     ]
    },
    {
     "name": "stderr",
     "output_type": "stream",
     "text": [
      "\u001b[34m\u001b[1mwandb\u001b[0m:   1 of 1 files downloaded.  \n"
     ]
    },
    {
     "name": "stdout",
     "output_type": "stream",
     "text": [
      "2025-04-21 03:43:55,007 - INFO - Downloaded logs_hfrbo80e:v0 to /scratch/downloaded_artifacts/logs_hfrbo80e:v0\n"
     ]
    },
    {
     "name": "stderr",
     "output_type": "stream",
     "text": [
      "\u001b[34m\u001b[1mwandb\u001b[0m:   1 of 1 files downloaded.  \n"
     ]
    },
    {
     "name": "stdout",
     "output_type": "stream",
     "text": [
      "2025-04-21 03:43:55,055 - INFO - Downloaded logs_1uh88b5g:v0 to /scratch/downloaded_artifacts/logs_1uh88b5g:v0\n"
     ]
    },
    {
     "name": "stderr",
     "output_type": "stream",
     "text": [
      "\u001b[34m\u001b[1mwandb\u001b[0m:   1 of 1 files downloaded.  \n"
     ]
    },
    {
     "name": "stdout",
     "output_type": "stream",
     "text": [
      "2025-04-21 03:43:55,211 - INFO - Downloaded logs_08fbd1rl:v0 to /scratch/downloaded_artifacts/logs_08fbd1rl:v0\n"
     ]
    },
    {
     "name": "stderr",
     "output_type": "stream",
     "text": [
      "\u001b[34m\u001b[1mwandb\u001b[0m:   1 of 1 files downloaded.  \n"
     ]
    },
    {
     "name": "stdout",
     "output_type": "stream",
     "text": [
      "2025-04-21 03:43:55,252 - INFO - Downloaded logs_b3op1hs4:v0 to /scratch/downloaded_artifacts/logs_b3op1hs4:v0\n"
     ]
    },
    {
     "name": "stderr",
     "output_type": "stream",
     "text": [
      "\u001b[34m\u001b[1mwandb\u001b[0m:   1 of 1 files downloaded.  \n"
     ]
    },
    {
     "name": "stdout",
     "output_type": "stream",
     "text": [
      "2025-04-21 03:43:55,303 - INFO - Downloaded logs_w24smbyq:v0 to /scratch/downloaded_artifacts/logs_w24smbyq:v0\n"
     ]
    },
    {
     "name": "stderr",
     "output_type": "stream",
     "text": [
      "\u001b[34m\u001b[1mwandb\u001b[0m:   1 of 1 files downloaded.  \n"
     ]
    },
    {
     "name": "stdout",
     "output_type": "stream",
     "text": [
      "2025-04-21 03:43:55,345 - INFO - Downloaded logs_0f0xmkm0:v0 to /scratch/downloaded_artifacts/logs_0f0xmkm0:v0\n"
     ]
    },
    {
     "name": "stderr",
     "output_type": "stream",
     "text": [
      "\u001b[34m\u001b[1mwandb\u001b[0m:   1 of 1 files downloaded.  \n"
     ]
    },
    {
     "name": "stdout",
     "output_type": "stream",
     "text": [
      "2025-04-21 03:43:55,371 - INFO - Downloaded logs_ktoglnwd:v0 to /scratch/downloaded_artifacts/logs_ktoglnwd:v0\n"
     ]
    },
    {
     "name": "stderr",
     "output_type": "stream",
     "text": [
      "\u001b[34m\u001b[1mwandb\u001b[0m:   1 of 1 files downloaded.  \n"
     ]
    },
    {
     "name": "stdout",
     "output_type": "stream",
     "text": [
      "2025-04-21 03:43:55,702 - INFO - Downloaded logs_2cn22ifu:v0 to /scratch/downloaded_artifacts/logs_2cn22ifu:v0\n"
     ]
    },
    {
     "name": "stderr",
     "output_type": "stream",
     "text": [
      "\u001b[34m\u001b[1mwandb\u001b[0m:   1 of 1 files downloaded.  \n"
     ]
    },
    {
     "name": "stdout",
     "output_type": "stream",
     "text": [
      "2025-04-21 03:43:56,262 - INFO - Downloaded logs_4zxklfdc:v0 to /scratch/downloaded_artifacts/logs_4zxklfdc:v0\n"
     ]
    },
    {
     "name": "stderr",
     "output_type": "stream",
     "text": [
      "\u001b[34m\u001b[1mwandb\u001b[0m:   1 of 1 files downloaded.  \n"
     ]
    },
    {
     "name": "stdout",
     "output_type": "stream",
     "text": [
      "2025-04-21 03:43:56,346 - INFO - Downloaded logs_4254xl5b:v0 to /scratch/downloaded_artifacts/logs_4254xl5b:v0\n"
     ]
    },
    {
     "name": "stderr",
     "output_type": "stream",
     "text": [
      "\u001b[34m\u001b[1mwandb\u001b[0m:   1 of 1 files downloaded.  \n"
     ]
    },
    {
     "name": "stdout",
     "output_type": "stream",
     "text": [
      "2025-04-21 03:43:56,475 - INFO - Downloaded logs_5gfcofwu:v0 to /scratch/downloaded_artifacts/logs_5gfcofwu:v0\n"
     ]
    },
    {
     "name": "stderr",
     "output_type": "stream",
     "text": [
      "\u001b[34m\u001b[1mwandb\u001b[0m:   1 of 1 files downloaded.  \n"
     ]
    },
    {
     "name": "stdout",
     "output_type": "stream",
     "text": [
      "2025-04-21 03:43:56,798 - INFO - Downloaded logs_68uys4i2:v0 to /scratch/downloaded_artifacts/logs_68uys4i2:v0\n"
     ]
    },
    {
     "name": "stderr",
     "output_type": "stream",
     "text": [
      "\u001b[34m\u001b[1mwandb\u001b[0m:   1 of 1 files downloaded.  \n"
     ]
    },
    {
     "name": "stdout",
     "output_type": "stream",
     "text": [
      "2025-04-21 03:43:56,929 - INFO - Downloaded logs_8xy3w0t6:v0 to /scratch/downloaded_artifacts/logs_8xy3w0t6:v0\n"
     ]
    },
    {
     "name": "stderr",
     "output_type": "stream",
     "text": [
      "\u001b[34m\u001b[1mwandb\u001b[0m:   1 of 1 files downloaded.  \n"
     ]
    },
    {
     "name": "stdout",
     "output_type": "stream",
     "text": [
      "2025-04-21 03:43:57,238 - INFO - Downloaded logs_98121afm:v0 to /scratch/downloaded_artifacts/logs_98121afm:v0\n"
     ]
    },
    {
     "name": "stderr",
     "output_type": "stream",
     "text": [
      "\u001b[34m\u001b[1mwandb\u001b[0m:   1 of 1 files downloaded.  \n"
     ]
    },
    {
     "name": "stdout",
     "output_type": "stream",
     "text": [
      "2025-04-21 03:43:57,253 - INFO - Downloaded logs_b7y32hig:v0 to /scratch/downloaded_artifacts/logs_b7y32hig:v0\n"
     ]
    },
    {
     "name": "stderr",
     "output_type": "stream",
     "text": [
      "\u001b[34m\u001b[1mwandb\u001b[0m:   1 of 1 files downloaded.  \n"
     ]
    },
    {
     "name": "stdout",
     "output_type": "stream",
     "text": [
      "2025-04-21 03:43:57,270 - INFO - Downloaded logs_b0l1flui:v0 to /scratch/downloaded_artifacts/logs_b0l1flui:v0\n"
     ]
    },
    {
     "name": "stderr",
     "output_type": "stream",
     "text": [
      "\u001b[34m\u001b[1mwandb\u001b[0m:   1 of 1 files downloaded.  \n"
     ]
    },
    {
     "name": "stdout",
     "output_type": "stream",
     "text": [
      "2025-04-21 03:43:57,353 - INFO - Downloaded logs_9vouaafv:v0 to /scratch/downloaded_artifacts/logs_9vouaafv:v0\n"
     ]
    },
    {
     "name": "stderr",
     "output_type": "stream",
     "text": [
      "\u001b[34m\u001b[1mwandb\u001b[0m:   1 of 1 files downloaded.  \n"
     ]
    },
    {
     "name": "stdout",
     "output_type": "stream",
     "text": [
      "2025-04-21 03:43:57,542 - INFO - Downloaded logs_czqwjbta:v0 to /scratch/downloaded_artifacts/logs_czqwjbta:v0\n"
     ]
    },
    {
     "name": "stderr",
     "output_type": "stream",
     "text": [
      "\u001b[34m\u001b[1mwandb\u001b[0m:   1 of 1 files downloaded.  \n"
     ]
    },
    {
     "name": "stdout",
     "output_type": "stream",
     "text": [
      "2025-04-21 03:43:57,575 - INFO - Downloaded logs_fbi5e4ka:v0 to /scratch/downloaded_artifacts/logs_fbi5e4ka:v0\n"
     ]
    },
    {
     "name": "stderr",
     "output_type": "stream",
     "text": [
      "\u001b[34m\u001b[1mwandb\u001b[0m:   1 of 1 files downloaded.  \n"
     ]
    },
    {
     "name": "stdout",
     "output_type": "stream",
     "text": [
      "2025-04-21 03:43:57,613 - INFO - Downloaded logs_fxgcr8hf:v0 to /scratch/downloaded_artifacts/logs_fxgcr8hf:v0\n"
     ]
    },
    {
     "name": "stderr",
     "output_type": "stream",
     "text": [
      "\u001b[34m\u001b[1mwandb\u001b[0m:   1 of 1 files downloaded.  \n"
     ]
    },
    {
     "name": "stdout",
     "output_type": "stream",
     "text": [
      "2025-04-21 03:43:57,755 - INFO - Downloaded logs_d1tiqbr6:v0 to /scratch/downloaded_artifacts/logs_d1tiqbr6:v0\n"
     ]
    },
    {
     "name": "stderr",
     "output_type": "stream",
     "text": [
      "\u001b[34m\u001b[1mwandb\u001b[0m:   1 of 1 files downloaded.  \n"
     ]
    },
    {
     "name": "stdout",
     "output_type": "stream",
     "text": [
      "2025-04-21 03:43:57,944 - INFO - Downloaded logs_gx0d6j5m:v0 to /scratch/downloaded_artifacts/logs_gx0d6j5m:v0\n"
     ]
    },
    {
     "name": "stderr",
     "output_type": "stream",
     "text": [
      "\u001b[34m\u001b[1mwandb\u001b[0m:   1 of 1 files downloaded.  \n"
     ]
    },
    {
     "name": "stdout",
     "output_type": "stream",
     "text": [
      "2025-04-21 03:43:57,978 - INFO - Downloaded logs_hlqt4fvg:v0 to /scratch/downloaded_artifacts/logs_hlqt4fvg:v0\n"
     ]
    },
    {
     "name": "stderr",
     "output_type": "stream",
     "text": [
      "\u001b[34m\u001b[1mwandb\u001b[0m:   1 of 1 files downloaded.  \n"
     ]
    },
    {
     "name": "stdout",
     "output_type": "stream",
     "text": [
      "2025-04-21 03:43:58,019 - INFO - Downloaded logs_hvr47tdy:v0 to /scratch/downloaded_artifacts/logs_hvr47tdy:v0\n"
     ]
    },
    {
     "name": "stderr",
     "output_type": "stream",
     "text": [
      "\u001b[34m\u001b[1mwandb\u001b[0m:   1 of 1 files downloaded.  \n",
      "\u001b[34m\u001b[1mwandb\u001b[0m:   1 of 1 files downloaded.  \n"
     ]
    },
    {
     "name": "stdout",
     "output_type": "stream",
     "text": [
      "2025-04-21 03:43:58,063 - INFO - Downloaded logs_oyn4q48w:v0 to /scratch/downloaded_artifacts/logs_oyn4q48w:v0\n",
      "2025-04-21 03:43:58,064 - INFO - Downloaded logs_j8srj1jk:v0 to /scratch/downloaded_artifacts/logs_j8srj1jk:v0\n"
     ]
    },
    {
     "name": "stderr",
     "output_type": "stream",
     "text": [
      "\u001b[34m\u001b[1mwandb\u001b[0m:   1 of 1 files downloaded.  \n"
     ]
    },
    {
     "name": "stdout",
     "output_type": "stream",
     "text": [
      "2025-04-21 03:43:58,119 - INFO - Downloaded logs_j1a7r4r0:v0 to /scratch/downloaded_artifacts/logs_j1a7r4r0:v0\n"
     ]
    },
    {
     "name": "stderr",
     "output_type": "stream",
     "text": [
      "\u001b[34m\u001b[1mwandb\u001b[0m:   1 of 1 files downloaded.  \n"
     ]
    },
    {
     "name": "stdout",
     "output_type": "stream",
     "text": [
      "2025-04-21 03:43:58,343 - INFO - Downloaded logs_suxjed10:v0 to /scratch/downloaded_artifacts/logs_suxjed10:v0\n"
     ]
    },
    {
     "name": "stderr",
     "output_type": "stream",
     "text": [
      "\u001b[34m\u001b[1mwandb\u001b[0m:   1 of 1 files downloaded.  \n"
     ]
    },
    {
     "name": "stdout",
     "output_type": "stream",
     "text": [
      "2025-04-21 03:43:58,761 - INFO - Downloaded logs_tmvroloe:v0 to /scratch/downloaded_artifacts/logs_tmvroloe:v0\n"
     ]
    },
    {
     "name": "stderr",
     "output_type": "stream",
     "text": [
      "\u001b[34m\u001b[1mwandb\u001b[0m:   1 of 1 files downloaded.  \n"
     ]
    },
    {
     "name": "stdout",
     "output_type": "stream",
     "text": [
      "2025-04-21 03:43:58,866 - INFO - Downloaded logs_v502ppko:v0 to /scratch/downloaded_artifacts/logs_v502ppko:v0\n"
     ]
    },
    {
     "name": "stderr",
     "output_type": "stream",
     "text": [
      "\u001b[34m\u001b[1mwandb\u001b[0m:   1 of 1 files downloaded.  \n"
     ]
    },
    {
     "name": "stdout",
     "output_type": "stream",
     "text": [
      "2025-04-21 03:43:58,966 - INFO - Downloaded logs_w6ad9vo1:v0 to /scratch/downloaded_artifacts/logs_w6ad9vo1:v0\n"
     ]
    },
    {
     "name": "stderr",
     "output_type": "stream",
     "text": [
      "\u001b[34m\u001b[1mwandb\u001b[0m:   1 of 1 files downloaded.  \n"
     ]
    },
    {
     "name": "stdout",
     "output_type": "stream",
     "text": [
      "2025-04-21 03:43:59,492 - INFO - Downloaded logs_2gux0ak6:v0 to /scratch/downloaded_artifacts/logs_2gux0ak6:v0\n"
     ]
    },
    {
     "name": "stderr",
     "output_type": "stream",
     "text": [
      "\u001b[34m\u001b[1mwandb\u001b[0m:   1 of 1 files downloaded.  \n"
     ]
    },
    {
     "name": "stdout",
     "output_type": "stream",
     "text": [
      "2025-04-21 03:43:59,635 - INFO - Downloaded logs_wbi1r5ti:v0 to /scratch/downloaded_artifacts/logs_wbi1r5ti:v0\n"
     ]
    },
    {
     "name": "stderr",
     "output_type": "stream",
     "text": [
      "\u001b[34m\u001b[1mwandb\u001b[0m:   1 of 1 files downloaded.  \n"
     ]
    },
    {
     "name": "stdout",
     "output_type": "stream",
     "text": [
      "2025-04-21 03:43:59,812 - INFO - Downloaded logs_xzvu6jx1:v0 to /scratch/downloaded_artifacts/logs_xzvu6jx1:v0\n"
     ]
    },
    {
     "name": "stderr",
     "output_type": "stream",
     "text": [
      "\u001b[34m\u001b[1mwandb\u001b[0m:   1 of 1 files downloaded.  \n"
     ]
    },
    {
     "name": "stdout",
     "output_type": "stream",
     "text": [
      "2025-04-21 03:43:59,831 - INFO - Downloaded logs_4lq0vpjs:v0 to /scratch/downloaded_artifacts/logs_4lq0vpjs:v0\n"
     ]
    },
    {
     "name": "stderr",
     "output_type": "stream",
     "text": [
      "\u001b[34m\u001b[1mwandb\u001b[0m:   1 of 1 files downloaded.  \n"
     ]
    },
    {
     "name": "stdout",
     "output_type": "stream",
     "text": [
      "2025-04-21 03:43:59,874 - INFO - Downloaded logs_4c0p01sw:v0 to /scratch/downloaded_artifacts/logs_4c0p01sw:v0\n"
     ]
    },
    {
     "name": "stderr",
     "output_type": "stream",
     "text": [
      "\u001b[34m\u001b[1mwandb\u001b[0m:   1 of 1 files downloaded.  \n"
     ]
    },
    {
     "name": "stdout",
     "output_type": "stream",
     "text": [
      "2025-04-21 03:44:00,278 - INFO - Downloaded logs_6o4sni1l:v0 to /scratch/downloaded_artifacts/logs_6o4sni1l:v0\n"
     ]
    },
    {
     "name": "stderr",
     "output_type": "stream",
     "text": [
      "\u001b[34m\u001b[1mwandb\u001b[0m:   1 of 1 files downloaded.  \n"
     ]
    },
    {
     "name": "stdout",
     "output_type": "stream",
     "text": [
      "2025-04-21 03:44:00,284 - INFO - Downloaded logs_ythghe70:v0 to /scratch/downloaded_artifacts/logs_ythghe70:v0\n"
     ]
    },
    {
     "name": "stderr",
     "output_type": "stream",
     "text": [
      "\u001b[34m\u001b[1mwandb\u001b[0m:   1 of 1 files downloaded.  \n"
     ]
    },
    {
     "name": "stdout",
     "output_type": "stream",
     "text": [
      "2025-04-21 03:44:00,331 - INFO - Downloaded logs_68lmbz2e:v0 to /scratch/downloaded_artifacts/logs_68lmbz2e:v0\n"
     ]
    },
    {
     "name": "stderr",
     "output_type": "stream",
     "text": [
      "\u001b[34m\u001b[1mwandb\u001b[0m:   1 of 1 files downloaded.  \n"
     ]
    },
    {
     "name": "stdout",
     "output_type": "stream",
     "text": [
      "2025-04-21 03:44:00,353 - INFO - Downloaded logs_7hk7h5eb:v0 to /scratch/downloaded_artifacts/logs_7hk7h5eb:v0\n"
     ]
    },
    {
     "name": "stderr",
     "output_type": "stream",
     "text": [
      "\u001b[34m\u001b[1mwandb\u001b[0m:   1 of 1 files downloaded.  \n"
     ]
    },
    {
     "name": "stdout",
     "output_type": "stream",
     "text": [
      "2025-04-21 03:44:00,509 - INFO - Downloaded logs_9y7x39x0:v0 to /scratch/downloaded_artifacts/logs_9y7x39x0:v0\n"
     ]
    },
    {
     "name": "stderr",
     "output_type": "stream",
     "text": [
      "\u001b[34m\u001b[1mwandb\u001b[0m:   1 of 1 files downloaded.  \n"
     ]
    },
    {
     "name": "stdout",
     "output_type": "stream",
     "text": [
      "2025-04-21 03:44:00,768 - INFO - Downloaded logs_ae006mg1:v0 to /scratch/downloaded_artifacts/logs_ae006mg1:v0\n"
     ]
    },
    {
     "name": "stderr",
     "output_type": "stream",
     "text": [
      "\u001b[34m\u001b[1mwandb\u001b[0m:   1 of 1 files downloaded.  \n"
     ]
    },
    {
     "name": "stdout",
     "output_type": "stream",
     "text": [
      "2025-04-21 03:44:00,775 - INFO - Downloaded logs_bof8spgn:v0 to /scratch/downloaded_artifacts/logs_bof8spgn:v0\n"
     ]
    },
    {
     "name": "stderr",
     "output_type": "stream",
     "text": [
      "\u001b[34m\u001b[1mwandb\u001b[0m:   1 of 1 files downloaded.  \n"
     ]
    },
    {
     "name": "stdout",
     "output_type": "stream",
     "text": [
      "2025-04-21 03:44:00,812 - INFO - Downloaded logs_binu13ep:v0 to /scratch/downloaded_artifacts/logs_binu13ep:v0\n"
     ]
    },
    {
     "name": "stderr",
     "output_type": "stream",
     "text": [
      "\u001b[34m\u001b[1mwandb\u001b[0m:   1 of 1 files downloaded.  \n"
     ]
    },
    {
     "name": "stdout",
     "output_type": "stream",
     "text": [
      "2025-04-21 03:44:00,856 - INFO - Downloaded logs_f385uweg:v0 to /scratch/downloaded_artifacts/logs_f385uweg:v0\n"
     ]
    },
    {
     "name": "stderr",
     "output_type": "stream",
     "text": [
      "\u001b[34m\u001b[1mwandb\u001b[0m:   1 of 1 files downloaded.  \n"
     ]
    },
    {
     "name": "stdout",
     "output_type": "stream",
     "text": [
      "2025-04-21 03:44:00,949 - INFO - Downloaded logs_clp0hq84:v0 to /scratch/downloaded_artifacts/logs_clp0hq84:v0\n"
     ]
    },
    {
     "name": "stderr",
     "output_type": "stream",
     "text": [
      "\u001b[34m\u001b[1mwandb\u001b[0m:   1 of 1 files downloaded.  \n",
      "\u001b[34m\u001b[1mwandb\u001b[0m:   1 of 1 files downloaded.  \n"
     ]
    },
    {
     "name": "stdout",
     "output_type": "stream",
     "text": [
      "2025-04-21 03:44:01,235 - INFO - Downloaded logs_ca1b55qr:v0 to /scratch/downloaded_artifacts/logs_ca1b55qr:v0\n",
      "2025-04-21 03:44:01,238 - INFO - Downloaded logs_fjltigmc:v0 to /scratch/downloaded_artifacts/logs_fjltigmc:v0\n"
     ]
    },
    {
     "name": "stderr",
     "output_type": "stream",
     "text": [
      "\u001b[34m\u001b[1mwandb\u001b[0m:   1 of 1 files downloaded.  \n"
     ]
    },
    {
     "name": "stdout",
     "output_type": "stream",
     "text": [
      "2025-04-21 03:44:01,442 - INFO - Downloaded logs_gheob2p5:v0 to /scratch/downloaded_artifacts/logs_gheob2p5:v0\n"
     ]
    },
    {
     "name": "stderr",
     "output_type": "stream",
     "text": [
      "\u001b[34m\u001b[1mwandb\u001b[0m:   1 of 1 files downloaded.  \n"
     ]
    },
    {
     "name": "stdout",
     "output_type": "stream",
     "text": [
      "2025-04-21 03:44:01,568 - INFO - Downloaded logs_ho3b550s:v0 to /scratch/downloaded_artifacts/logs_ho3b550s:v0\n"
     ]
    },
    {
     "name": "stderr",
     "output_type": "stream",
     "text": [
      "\u001b[34m\u001b[1mwandb\u001b[0m:   1 of 1 files downloaded.  \n"
     ]
    },
    {
     "name": "stdout",
     "output_type": "stream",
     "text": [
      "2025-04-21 03:44:01,685 - INFO - Downloaded logs_ivb8zyl2:v0 to /scratch/downloaded_artifacts/logs_ivb8zyl2:v0\n"
     ]
    },
    {
     "name": "stderr",
     "output_type": "stream",
     "text": [
      "\u001b[34m\u001b[1mwandb\u001b[0m:   1 of 1 files downloaded.  \n"
     ]
    },
    {
     "name": "stdout",
     "output_type": "stream",
     "text": [
      "2025-04-21 03:44:02,075 - INFO - Downloaded logs_j48inlfg:v0 to /scratch/downloaded_artifacts/logs_j48inlfg:v0\n"
     ]
    },
    {
     "name": "stderr",
     "output_type": "stream",
     "text": [
      "\u001b[34m\u001b[1mwandb\u001b[0m:   1 of 1 files downloaded.  \n"
     ]
    },
    {
     "name": "stdout",
     "output_type": "stream",
     "text": [
      "2025-04-21 03:44:02,273 - INFO - Downloaded logs_j6haegu1:v0 to /scratch/downloaded_artifacts/logs_j6haegu1:v0\n"
     ]
    },
    {
     "name": "stderr",
     "output_type": "stream",
     "text": [
      "\u001b[34m\u001b[1mwandb\u001b[0m:   1 of 1 files downloaded.  \n"
     ]
    },
    {
     "name": "stdout",
     "output_type": "stream",
     "text": [
      "2025-04-21 03:44:02,437 - INFO - Downloaded logs_keagt2it:v0 to /scratch/downloaded_artifacts/logs_keagt2it:v0\n"
     ]
    },
    {
     "name": "stderr",
     "output_type": "stream",
     "text": [
      "\u001b[34m\u001b[1mwandb\u001b[0m:   1 of 1 files downloaded.  \n"
     ]
    },
    {
     "name": "stdout",
     "output_type": "stream",
     "text": [
      "2025-04-21 03:44:02,483 - INFO - Downloaded logs_keuzur9e:v0 to /scratch/downloaded_artifacts/logs_keuzur9e:v0\n"
     ]
    },
    {
     "name": "stderr",
     "output_type": "stream",
     "text": [
      "\u001b[34m\u001b[1mwandb\u001b[0m:   1 of 1 files downloaded.  \n"
     ]
    },
    {
     "name": "stdout",
     "output_type": "stream",
     "text": [
      "2025-04-21 03:44:02,525 - INFO - Downloaded logs_kw3ltrt3:v0 to /scratch/downloaded_artifacts/logs_kw3ltrt3:v0\n"
     ]
    },
    {
     "name": "stderr",
     "output_type": "stream",
     "text": [
      "\u001b[34m\u001b[1mwandb\u001b[0m:   1 of 1 files downloaded.  \n"
     ]
    },
    {
     "name": "stdout",
     "output_type": "stream",
     "text": [
      "2025-04-21 03:44:02,959 - INFO - Downloaded logs_lywyg0yq:v0 to /scratch/downloaded_artifacts/logs_lywyg0yq:v0\n"
     ]
    },
    {
     "name": "stderr",
     "output_type": "stream",
     "text": [
      "\u001b[34m\u001b[1mwandb\u001b[0m:   1 of 1 files downloaded.  \n",
      "\u001b[34m\u001b[1mwandb\u001b[0m:   1 of 1 files downloaded.  \n"
     ]
    },
    {
     "name": "stdout",
     "output_type": "stream",
     "text": [
      "2025-04-21 03:44:03,057 - INFO - Downloaded logs_ot5xejxe:v0 to /scratch/downloaded_artifacts/logs_ot5xejxe:v0\n",
      "2025-04-21 03:44:03,060 - INFO - Downloaded logs_o4f2hl9l:v0 to /scratch/downloaded_artifacts/logs_o4f2hl9l:v0\n"
     ]
    },
    {
     "name": "stderr",
     "output_type": "stream",
     "text": [
      "\u001b[34m\u001b[1mwandb\u001b[0m:   1 of 1 files downloaded.  \n"
     ]
    },
    {
     "name": "stdout",
     "output_type": "stream",
     "text": [
      "2025-04-21 03:44:03,134 - INFO - Downloaded logs_r5ggrkl7:v0 to /scratch/downloaded_artifacts/logs_r5ggrkl7:v0\n"
     ]
    },
    {
     "name": "stderr",
     "output_type": "stream",
     "text": [
      "\u001b[34m\u001b[1mwandb\u001b[0m:   1 of 1 files downloaded.  \n"
     ]
    },
    {
     "name": "stdout",
     "output_type": "stream",
     "text": [
      "2025-04-21 03:44:03,232 - INFO - Downloaded logs_na4c7qco:v0 to /scratch/downloaded_artifacts/logs_na4c7qco:v0\n"
     ]
    },
    {
     "name": "stderr",
     "output_type": "stream",
     "text": [
      "\u001b[34m\u001b[1mwandb\u001b[0m:   1 of 1 files downloaded.  \n"
     ]
    },
    {
     "name": "stdout",
     "output_type": "stream",
     "text": [
      "2025-04-21 03:44:03,464 - INFO - Downloaded logs_sgo0ka1a:v0 to /scratch/downloaded_artifacts/logs_sgo0ka1a:v0\n"
     ]
    },
    {
     "name": "stderr",
     "output_type": "stream",
     "text": [
      "\u001b[34m\u001b[1mwandb\u001b[0m:   1 of 1 files downloaded.  \n"
     ]
    },
    {
     "name": "stdout",
     "output_type": "stream",
     "text": [
      "2025-04-21 03:44:03,505 - INFO - Downloaded logs_tf7dswob:v0 to /scratch/downloaded_artifacts/logs_tf7dswob:v0\n"
     ]
    },
    {
     "name": "stderr",
     "output_type": "stream",
     "text": [
      "\u001b[34m\u001b[1mwandb\u001b[0m:   1 of 1 files downloaded.  \n"
     ]
    },
    {
     "name": "stdout",
     "output_type": "stream",
     "text": [
      "2025-04-21 03:44:03,536 - INFO - Downloaded logs_vi1nraz9:v0 to /scratch/downloaded_artifacts/logs_vi1nraz9:v0\n"
     ]
    },
    {
     "name": "stderr",
     "output_type": "stream",
     "text": [
      "\u001b[34m\u001b[1mwandb\u001b[0m:   1 of 1 files downloaded.  \n"
     ]
    },
    {
     "name": "stdout",
     "output_type": "stream",
     "text": [
      "2025-04-21 03:44:03,623 - INFO - Downloaded logs_vkv64vwk:v0 to /scratch/downloaded_artifacts/logs_vkv64vwk:v0\n"
     ]
    },
    {
     "name": "stderr",
     "output_type": "stream",
     "text": [
      "\u001b[34m\u001b[1mwandb\u001b[0m:   1 of 1 files downloaded.  \n"
     ]
    },
    {
     "name": "stdout",
     "output_type": "stream",
     "text": [
      "2025-04-21 03:44:03,719 - INFO - Downloaded logs_wgurlw6u:v0 to /scratch/downloaded_artifacts/logs_wgurlw6u:v0\n"
     ]
    },
    {
     "name": "stderr",
     "output_type": "stream",
     "text": [
      "\u001b[34m\u001b[1mwandb\u001b[0m:   1 of 1 files downloaded.  \n"
     ]
    },
    {
     "name": "stdout",
     "output_type": "stream",
     "text": [
      "2025-04-21 03:44:03,913 - INFO - Downloaded logs_wh08a90v:v0 to /scratch/downloaded_artifacts/logs_wh08a90v:v0\n"
     ]
    },
    {
     "name": "stderr",
     "output_type": "stream",
     "text": [
      "\u001b[34m\u001b[1mwandb\u001b[0m:   1 of 1 files downloaded.  \n"
     ]
    },
    {
     "name": "stdout",
     "output_type": "stream",
     "text": [
      "2025-04-21 03:44:03,960 - INFO - Downloaded logs_wyt116t6:v0 to /scratch/downloaded_artifacts/logs_wyt116t6:v0\n"
     ]
    },
    {
     "name": "stderr",
     "output_type": "stream",
     "text": [
      "\u001b[34m\u001b[1mwandb\u001b[0m:   1 of 1 files downloaded.  \n"
     ]
    },
    {
     "name": "stdout",
     "output_type": "stream",
     "text": [
      "2025-04-21 03:44:04,184 - INFO - Downloaded logs_y8x3kbcs:v0 to /scratch/downloaded_artifacts/logs_y8x3kbcs:v0\n"
     ]
    },
    {
     "name": "stderr",
     "output_type": "stream",
     "text": [
      "\u001b[34m\u001b[1mwandb\u001b[0m:   1 of 1 files downloaded.  \n"
     ]
    },
    {
     "name": "stdout",
     "output_type": "stream",
     "text": [
      "2025-04-21 03:44:04,303 - INFO - Downloaded logs_ye3hopr0:v0 to /scratch/downloaded_artifacts/logs_ye3hopr0:v0\n"
     ]
    },
    {
     "name": "stderr",
     "output_type": "stream",
     "text": [
      "\u001b[34m\u001b[1mwandb\u001b[0m:   1 of 1 files downloaded.  \n"
     ]
    },
    {
     "name": "stdout",
     "output_type": "stream",
     "text": [
      "2025-04-21 03:44:04,389 - INFO - Downloaded logs_yui547bz:v0 to /scratch/downloaded_artifacts/logs_yui547bz:v0\n"
     ]
    },
    {
     "name": "stderr",
     "output_type": "stream",
     "text": [
      "\u001b[34m\u001b[1mwandb\u001b[0m:   1 of 1 files downloaded.  \n"
     ]
    },
    {
     "name": "stdout",
     "output_type": "stream",
     "text": [
      "2025-04-21 03:44:04,695 - INFO - Downloaded logs_z3frn3dr:v0 to /scratch/downloaded_artifacts/logs_z3frn3dr:v0\n"
     ]
    },
    {
     "name": "stderr",
     "output_type": "stream",
     "text": [
      "\u001b[34m\u001b[1mwandb\u001b[0m:   1 of 1 files downloaded.  \n"
     ]
    },
    {
     "name": "stdout",
     "output_type": "stream",
     "text": [
      "2025-04-21 03:44:05,078 - INFO - Downloaded logs_5txm9pp0:v0 to /scratch/downloaded_artifacts/logs_5txm9pp0:v0\n"
     ]
    },
    {
     "name": "stderr",
     "output_type": "stream",
     "text": [
      "\u001b[34m\u001b[1mwandb\u001b[0m:   1 of 1 files downloaded.  \n"
     ]
    },
    {
     "name": "stdout",
     "output_type": "stream",
     "text": [
      "2025-04-21 03:44:05,086 - INFO - Downloaded logs_zh0f835o:v0 to /scratch/downloaded_artifacts/logs_zh0f835o:v0\n"
     ]
    },
    {
     "name": "stderr",
     "output_type": "stream",
     "text": [
      "\u001b[34m\u001b[1mwandb\u001b[0m:   1 of 1 files downloaded.  \n"
     ]
    },
    {
     "name": "stdout",
     "output_type": "stream",
     "text": [
      "2025-04-21 03:44:05,140 - INFO - Downloaded logs_gjvrsin0:v0 to /scratch/downloaded_artifacts/logs_gjvrsin0:v0\n"
     ]
    },
    {
     "name": "stderr",
     "output_type": "stream",
     "text": [
      "\u001b[34m\u001b[1mwandb\u001b[0m:   1 of 1 files downloaded.  \n"
     ]
    },
    {
     "name": "stdout",
     "output_type": "stream",
     "text": [
      "2025-04-21 03:44:05,521 - INFO - Downloaded logs_zkuxxy42:v0 to /scratch/downloaded_artifacts/logs_zkuxxy42:v0\n"
     ]
    },
    {
     "name": "stderr",
     "output_type": "stream",
     "text": [
      "\u001b[34m\u001b[1mwandb\u001b[0m:   1 of 1 files downloaded.  \n"
     ]
    },
    {
     "name": "stdout",
     "output_type": "stream",
     "text": [
      "2025-04-21 03:44:05,664 - INFO - Downloaded logs_v0fgrpcw:v0 to /scratch/downloaded_artifacts/logs_v0fgrpcw:v0\n"
     ]
    },
    {
     "name": "stderr",
     "output_type": "stream",
     "text": [
      "\u001b[34m\u001b[1mwandb\u001b[0m:   1 of 1 files downloaded.  \n"
     ]
    },
    {
     "name": "stdout",
     "output_type": "stream",
     "text": [
      "2025-04-21 03:44:05,746 - INFO - Downloaded logs_yiqj3u12:v0 to /scratch/downloaded_artifacts/logs_yiqj3u12:v0\n"
     ]
    },
    {
     "name": "stderr",
     "output_type": "stream",
     "text": [
      "\u001b[34m\u001b[1mwandb\u001b[0m:   1 of 1 files downloaded.  \n"
     ]
    },
    {
     "name": "stdout",
     "output_type": "stream",
     "text": [
      "2025-04-21 03:44:05,900 - INFO - Downloaded logs_157y3jvz:v0 to /scratch/downloaded_artifacts/logs_157y3jvz:v0\n"
     ]
    },
    {
     "name": "stderr",
     "output_type": "stream",
     "text": [
      "\u001b[34m\u001b[1mwandb\u001b[0m:   1 of 1 files downloaded.  \n"
     ]
    },
    {
     "name": "stdout",
     "output_type": "stream",
     "text": [
      "2025-04-21 03:44:05,914 - INFO - Downloaded logs_020cvs15:v0 to /scratch/downloaded_artifacts/logs_020cvs15:v0\n"
     ]
    },
    {
     "name": "stderr",
     "output_type": "stream",
     "text": [
      "\u001b[34m\u001b[1mwandb\u001b[0m:   1 of 1 files downloaded.  \n"
     ]
    },
    {
     "name": "stdout",
     "output_type": "stream",
     "text": [
      "2025-04-21 03:44:06,345 - INFO - Downloaded logs_15uex2vt:v0 to /scratch/downloaded_artifacts/logs_15uex2vt:v0\n"
     ]
    },
    {
     "name": "stderr",
     "output_type": "stream",
     "text": [
      "\u001b[34m\u001b[1mwandb\u001b[0m:   1 of 1 files downloaded.  \n"
     ]
    },
    {
     "name": "stdout",
     "output_type": "stream",
     "text": [
      "2025-04-21 03:44:06,398 - INFO - Downloaded logs_8hr0w1x3:v0 to /scratch/downloaded_artifacts/logs_8hr0w1x3:v0\n"
     ]
    },
    {
     "name": "stderr",
     "output_type": "stream",
     "text": [
      "\u001b[34m\u001b[1mwandb\u001b[0m:   1 of 1 files downloaded.  \n"
     ]
    },
    {
     "name": "stdout",
     "output_type": "stream",
     "text": [
      "2025-04-21 03:44:06,506 - INFO - Downloaded logs_8yhsy392:v0 to /scratch/downloaded_artifacts/logs_8yhsy392:v0\n"
     ]
    },
    {
     "name": "stderr",
     "output_type": "stream",
     "text": [
      "\u001b[34m\u001b[1mwandb\u001b[0m:   1 of 1 files downloaded.  \n"
     ]
    },
    {
     "name": "stdout",
     "output_type": "stream",
     "text": [
      "2025-04-21 03:44:06,516 - INFO - Downloaded logs_b4yyni8r:v0 to /scratch/downloaded_artifacts/logs_b4yyni8r:v0\n"
     ]
    },
    {
     "name": "stderr",
     "output_type": "stream",
     "text": [
      "\u001b[34m\u001b[1mwandb\u001b[0m:   1 of 1 files downloaded.  \n"
     ]
    },
    {
     "name": "stdout",
     "output_type": "stream",
     "text": [
      "2025-04-21 03:44:06,672 - INFO - Downloaded logs_3oopxmwp:v0 to /scratch/downloaded_artifacts/logs_3oopxmwp:v0\n"
     ]
    },
    {
     "name": "stderr",
     "output_type": "stream",
     "text": [
      "\u001b[34m\u001b[1mwandb\u001b[0m:   1 of 1 files downloaded.  \n"
     ]
    },
    {
     "name": "stdout",
     "output_type": "stream",
     "text": [
      "2025-04-21 03:44:07,256 - INFO - Downloaded logs_5iwm2pgz:v0 to /scratch/downloaded_artifacts/logs_5iwm2pgz:v0\n"
     ]
    },
    {
     "name": "stderr",
     "output_type": "stream",
     "text": [
      "\u001b[34m\u001b[1mwandb\u001b[0m:   1 of 1 files downloaded.  \n"
     ]
    },
    {
     "name": "stdout",
     "output_type": "stream",
     "text": [
      "2025-04-21 03:44:07,592 - INFO - Downloaded logs_datyqpkp:v0 to /scratch/downloaded_artifacts/logs_datyqpkp:v0\n"
     ]
    },
    {
     "name": "stderr",
     "output_type": "stream",
     "text": [
      "\u001b[34m\u001b[1mwandb\u001b[0m:   1 of 1 files downloaded.  \n"
     ]
    },
    {
     "name": "stdout",
     "output_type": "stream",
     "text": [
      "2025-04-21 03:44:08,009 - INFO - Downloaded logs_gyya3x50:v0 to /scratch/downloaded_artifacts/logs_gyya3x50:v0\n"
     ]
    },
    {
     "name": "stderr",
     "output_type": "stream",
     "text": [
      "\u001b[34m\u001b[1mwandb\u001b[0m:   1 of 1 files downloaded.  \n"
     ]
    },
    {
     "name": "stdout",
     "output_type": "stream",
     "text": [
      "2025-04-21 03:44:08,243 - INFO - Downloaded logs_h014optm:v0 to /scratch/downloaded_artifacts/logs_h014optm:v0\n"
     ]
    },
    {
     "name": "stderr",
     "output_type": "stream",
     "text": [
      "\u001b[34m\u001b[1mwandb\u001b[0m:   1 of 1 files downloaded.  \n"
     ]
    },
    {
     "name": "stdout",
     "output_type": "stream",
     "text": [
      "2025-04-21 03:44:08,396 - INFO - Downloaded logs_heh4trh5:v0 to /scratch/downloaded_artifacts/logs_heh4trh5:v0\n"
     ]
    },
    {
     "name": "stderr",
     "output_type": "stream",
     "text": [
      "\u001b[34m\u001b[1mwandb\u001b[0m:   1 of 1 files downloaded.  \n"
     ]
    },
    {
     "name": "stdout",
     "output_type": "stream",
     "text": [
      "2025-04-21 03:44:08,724 - INFO - Downloaded logs_k8nvrezy:v0 to /scratch/downloaded_artifacts/logs_k8nvrezy:v0\n"
     ]
    },
    {
     "name": "stderr",
     "output_type": "stream",
     "text": [
      "\u001b[34m\u001b[1mwandb\u001b[0m:   1 of 1 files downloaded.  \n"
     ]
    },
    {
     "name": "stdout",
     "output_type": "stream",
     "text": [
      "2025-04-21 03:44:08,951 - INFO - Downloaded logs_kenroc6l:v0 to /scratch/downloaded_artifacts/logs_kenroc6l:v0\n"
     ]
    },
    {
     "name": "stderr",
     "output_type": "stream",
     "text": [
      "\u001b[34m\u001b[1mwandb\u001b[0m:   1 of 1 files downloaded.  \n"
     ]
    },
    {
     "name": "stdout",
     "output_type": "stream",
     "text": [
      "2025-04-21 03:44:09,235 - INFO - Downloaded logs_q71ib7n1:v0 to /scratch/downloaded_artifacts/logs_q71ib7n1:v0\n"
     ]
    },
    {
     "name": "stderr",
     "output_type": "stream",
     "text": [
      "\u001b[34m\u001b[1mwandb\u001b[0m:   1 of 1 files downloaded.  \n"
     ]
    },
    {
     "name": "stdout",
     "output_type": "stream",
     "text": [
      "2025-04-21 03:44:09,266 - INFO - Downloaded logs_q3mnt0gh:v0 to /scratch/downloaded_artifacts/logs_q3mnt0gh:v0\n"
     ]
    },
    {
     "name": "stderr",
     "output_type": "stream",
     "text": [
      "\u001b[34m\u001b[1mwandb\u001b[0m:   1 of 1 files downloaded.  \n"
     ]
    },
    {
     "name": "stdout",
     "output_type": "stream",
     "text": [
      "2025-04-21 03:44:09,308 - INFO - Downloaded logs_t97kqv5i:v0 to /scratch/downloaded_artifacts/logs_t97kqv5i:v0\n"
     ]
    },
    {
     "name": "stderr",
     "output_type": "stream",
     "text": [
      "\u001b[34m\u001b[1mwandb\u001b[0m:   1 of 1 files downloaded.  \n"
     ]
    },
    {
     "name": "stdout",
     "output_type": "stream",
     "text": [
      "2025-04-21 03:44:09,556 - INFO - Downloaded logs_u3ap7732:v0 to /scratch/downloaded_artifacts/logs_u3ap7732:v0\n"
     ]
    },
    {
     "name": "stderr",
     "output_type": "stream",
     "text": [
      "\u001b[34m\u001b[1mwandb\u001b[0m:   1 of 1 files downloaded.  \n"
     ]
    },
    {
     "name": "stdout",
     "output_type": "stream",
     "text": [
      "2025-04-21 03:44:09,801 - INFO - Downloaded logs_0pmyfj2o:v0 to /scratch/downloaded_artifacts/logs_0pmyfj2o:v0\n"
     ]
    },
    {
     "name": "stderr",
     "output_type": "stream",
     "text": [
      "\u001b[34m\u001b[1mwandb\u001b[0m:   1 of 1 files downloaded.  \n"
     ]
    },
    {
     "name": "stdout",
     "output_type": "stream",
     "text": [
      "2025-04-21 03:44:09,812 - INFO - Downloaded logs_xdt5l9rh:v0 to /scratch/downloaded_artifacts/logs_xdt5l9rh:v0\n"
     ]
    },
    {
     "name": "stderr",
     "output_type": "stream",
     "text": [
      "\u001b[34m\u001b[1mwandb\u001b[0m:   1 of 1 files downloaded.  \n"
     ]
    },
    {
     "name": "stdout",
     "output_type": "stream",
     "text": [
      "2025-04-21 03:44:09,825 - INFO - Downloaded logs_0gxf7ezz:v0 to /scratch/downloaded_artifacts/logs_0gxf7ezz:v0\n"
     ]
    },
    {
     "name": "stderr",
     "output_type": "stream",
     "text": [
      "\u001b[34m\u001b[1mwandb\u001b[0m:   1 of 1 files downloaded.  \n"
     ]
    },
    {
     "name": "stdout",
     "output_type": "stream",
     "text": [
      "2025-04-21 03:44:09,877 - INFO - Downloaded logs_w23pwd3b:v0 to /scratch/downloaded_artifacts/logs_w23pwd3b:v0\n"
     ]
    },
    {
     "name": "stderr",
     "output_type": "stream",
     "text": [
      "\u001b[34m\u001b[1mwandb\u001b[0m:   1 of 1 files downloaded.  \n"
     ]
    },
    {
     "name": "stdout",
     "output_type": "stream",
     "text": [
      "2025-04-21 03:44:09,894 - INFO - Downloaded logs_41qjs5ue:v0 to /scratch/downloaded_artifacts/logs_41qjs5ue:v0\n"
     ]
    },
    {
     "name": "stderr",
     "output_type": "stream",
     "text": [
      "\u001b[34m\u001b[1mwandb\u001b[0m:   1 of 1 files downloaded.  \n",
      "\u001b[34m\u001b[1mwandb\u001b[0m:   1 of 1 files downloaded.  \n"
     ]
    },
    {
     "name": "stdout",
     "output_type": "stream",
     "text": [
      "2025-04-21 03:44:09,974 - INFO - Downloaded logs_bzy7u07b:v0 to /scratch/downloaded_artifacts/logs_bzy7u07b:v0\n",
      "2025-04-21 03:44:09,975 - INFO - Downloaded logs_hxi7rza2:v0 to /scratch/downloaded_artifacts/logs_hxi7rza2:v0\n"
     ]
    },
    {
     "name": "stderr",
     "output_type": "stream",
     "text": [
      "\u001b[34m\u001b[1mwandb\u001b[0m:   1 of 1 files downloaded.  \n"
     ]
    },
    {
     "name": "stdout",
     "output_type": "stream",
     "text": [
      "2025-04-21 03:44:10,030 - INFO - Downloaded logs_emz1a2ua:v0 to /scratch/downloaded_artifacts/logs_emz1a2ua:v0\n"
     ]
    },
    {
     "name": "stderr",
     "output_type": "stream",
     "text": [
      "\u001b[34m\u001b[1mwandb\u001b[0m:   1 of 1 files downloaded.  \n"
     ]
    },
    {
     "name": "stdout",
     "output_type": "stream",
     "text": [
      "2025-04-21 03:44:10,039 - INFO - Downloaded logs_w75lauuv:v0 to /scratch/downloaded_artifacts/logs_w75lauuv:v0\n"
     ]
    },
    {
     "name": "stderr",
     "output_type": "stream",
     "text": [
      "\u001b[34m\u001b[1mwandb\u001b[0m:   1 of 1 files downloaded.  \n"
     ]
    },
    {
     "name": "stdout",
     "output_type": "stream",
     "text": [
      "2025-04-21 03:44:10,277 - INFO - Downloaded logs_k0nds2kb:v0 to /scratch/downloaded_artifacts/logs_k0nds2kb:v0\n"
     ]
    },
    {
     "name": "stderr",
     "output_type": "stream",
     "text": [
      "\u001b[34m\u001b[1mwandb\u001b[0m:   1 of 1 files downloaded.  \n"
     ]
    },
    {
     "name": "stdout",
     "output_type": "stream",
     "text": [
      "2025-04-21 03:44:10,434 - INFO - Downloaded logs_mdmk25v0:v0 to /scratch/downloaded_artifacts/logs_mdmk25v0:v0\n"
     ]
    },
    {
     "name": "stderr",
     "output_type": "stream",
     "text": [
      "\u001b[34m\u001b[1mwandb\u001b[0m:   1 of 1 files downloaded.  \n"
     ]
    },
    {
     "name": "stdout",
     "output_type": "stream",
     "text": [
      "2025-04-21 03:44:10,708 - INFO - Downloaded logs_mf8ufv2g:v0 to /scratch/downloaded_artifacts/logs_mf8ufv2g:v0\n"
     ]
    },
    {
     "name": "stderr",
     "output_type": "stream",
     "text": [
      "\u001b[34m\u001b[1mwandb\u001b[0m:   1 of 1 files downloaded.  \n"
     ]
    },
    {
     "name": "stdout",
     "output_type": "stream",
     "text": [
      "2025-04-21 03:44:10,869 - INFO - Downloaded logs_mq2twjvz:v0 to /scratch/downloaded_artifacts/logs_mq2twjvz:v0\n"
     ]
    },
    {
     "name": "stderr",
     "output_type": "stream",
     "text": [
      "\u001b[34m\u001b[1mwandb\u001b[0m:   1 of 1 files downloaded.  \n"
     ]
    },
    {
     "name": "stdout",
     "output_type": "stream",
     "text": [
      "2025-04-21 03:44:10,936 - INFO - Downloaded logs_ndsen954:v0 to /scratch/downloaded_artifacts/logs_ndsen954:v0\n"
     ]
    },
    {
     "name": "stderr",
     "output_type": "stream",
     "text": [
      "\u001b[34m\u001b[1mwandb\u001b[0m:   1 of 1 files downloaded.  \n"
     ]
    },
    {
     "name": "stdout",
     "output_type": "stream",
     "text": [
      "2025-04-21 03:44:11,288 - INFO - Downloaded logs_p0s2wzns:v0 to /scratch/downloaded_artifacts/logs_p0s2wzns:v0\n"
     ]
    },
    {
     "name": "stderr",
     "output_type": "stream",
     "text": [
      "\u001b[34m\u001b[1mwandb\u001b[0m:   1 of 1 files downloaded.  \n"
     ]
    },
    {
     "name": "stdout",
     "output_type": "stream",
     "text": [
      "2025-04-21 03:44:11,620 - INFO - Downloaded logs_pishsop3:v0 to /scratch/downloaded_artifacts/logs_pishsop3:v0\n"
     ]
    },
    {
     "name": "stderr",
     "output_type": "stream",
     "text": [
      "\u001b[34m\u001b[1mwandb\u001b[0m:   1 of 1 files downloaded.  \n"
     ]
    },
    {
     "name": "stdout",
     "output_type": "stream",
     "text": [
      "2025-04-21 03:44:11,751 - INFO - Downloaded logs_qz4u38vf:v0 to /scratch/downloaded_artifacts/logs_qz4u38vf:v0\n"
     ]
    },
    {
     "name": "stderr",
     "output_type": "stream",
     "text": [
      "\u001b[34m\u001b[1mwandb\u001b[0m:   1 of 1 files downloaded.  \n"
     ]
    },
    {
     "name": "stdout",
     "output_type": "stream",
     "text": [
      "2025-04-21 03:44:11,777 - INFO - Downloaded logs_rk9uwost:v0 to /scratch/downloaded_artifacts/logs_rk9uwost:v0\n"
     ]
    },
    {
     "name": "stderr",
     "output_type": "stream",
     "text": [
      "\u001b[34m\u001b[1mwandb\u001b[0m:   1 of 1 files downloaded.  \n"
     ]
    },
    {
     "name": "stdout",
     "output_type": "stream",
     "text": [
      "2025-04-21 03:44:12,035 - INFO - Downloaded logs_tavf4nnw:v0 to /scratch/downloaded_artifacts/logs_tavf4nnw:v0\n"
     ]
    },
    {
     "name": "stderr",
     "output_type": "stream",
     "text": [
      "\u001b[34m\u001b[1mwandb\u001b[0m:   1 of 1 files downloaded.  \n"
     ]
    },
    {
     "name": "stdout",
     "output_type": "stream",
     "text": [
      "2025-04-21 03:44:12,062 - INFO - Downloaded logs_u7fv8drz:v0 to /scratch/downloaded_artifacts/logs_u7fv8drz:v0\n"
     ]
    },
    {
     "name": "stderr",
     "output_type": "stream",
     "text": [
      "\u001b[34m\u001b[1mwandb\u001b[0m:   1 of 1 files downloaded.  \n"
     ]
    },
    {
     "name": "stdout",
     "output_type": "stream",
     "text": [
      "2025-04-21 03:44:12,887 - INFO - Downloaded logs_wfn4w4zk:v0 to /scratch/downloaded_artifacts/logs_wfn4w4zk:v0\n"
     ]
    },
    {
     "name": "stderr",
     "output_type": "stream",
     "text": [
      "\u001b[34m\u001b[1mwandb\u001b[0m:   1 of 1 files downloaded.  \n"
     ]
    },
    {
     "name": "stdout",
     "output_type": "stream",
     "text": [
      "2025-04-21 03:44:12,895 - INFO - Downloaded logs_x3zekidr:v0 to /scratch/downloaded_artifacts/logs_x3zekidr:v0\n"
     ]
    },
    {
     "name": "stderr",
     "output_type": "stream",
     "text": [
      "\u001b[34m\u001b[1mwandb\u001b[0m:   1 of 1 files downloaded.  \n"
     ]
    },
    {
     "name": "stdout",
     "output_type": "stream",
     "text": [
      "2025-04-21 03:44:12,951 - INFO - Downloaded logs_vttmi1of:v0 to /scratch/downloaded_artifacts/logs_vttmi1of:v0\n"
     ]
    },
    {
     "name": "stderr",
     "output_type": "stream",
     "text": [
      "\u001b[34m\u001b[1mwandb\u001b[0m:   1 of 1 files downloaded.  \n"
     ]
    },
    {
     "name": "stdout",
     "output_type": "stream",
     "text": [
      "2025-04-21 03:44:12,983 - INFO - Downloaded logs_yi3w8z2j:v0 to /scratch/downloaded_artifacts/logs_yi3w8z2j:v0\n"
     ]
    },
    {
     "name": "stderr",
     "output_type": "stream",
     "text": [
      "\u001b[34m\u001b[1mwandb\u001b[0m:   1 of 1 files downloaded.  \n"
     ]
    },
    {
     "name": "stdout",
     "output_type": "stream",
     "text": [
      "2025-04-21 03:44:13,023 - INFO - Downloaded logs_xdzsg7ca:v0 to /scratch/downloaded_artifacts/logs_xdzsg7ca:v0\n"
     ]
    },
    {
     "name": "stderr",
     "output_type": "stream",
     "text": [
      "\u001b[34m\u001b[1mwandb\u001b[0m:   1 of 1 files downloaded.  \n"
     ]
    },
    {
     "name": "stdout",
     "output_type": "stream",
     "text": [
      "2025-04-21 03:44:13,189 - INFO - Downloaded logs_2p9ec9va:v0 to /scratch/downloaded_artifacts/logs_2p9ec9va:v0\n"
     ]
    },
    {
     "name": "stderr",
     "output_type": "stream",
     "text": [
      "\u001b[34m\u001b[1mwandb\u001b[0m:   1 of 1 files downloaded.  \n"
     ]
    },
    {
     "name": "stdout",
     "output_type": "stream",
     "text": [
      "2025-04-21 03:44:13,206 - INFO - Downloaded logs_5ff5blcq:v0 to /scratch/downloaded_artifacts/logs_5ff5blcq:v0\n"
     ]
    },
    {
     "name": "stderr",
     "output_type": "stream",
     "text": [
      "\u001b[34m\u001b[1mwandb\u001b[0m:   1 of 1 files downloaded.  \n"
     ]
    },
    {
     "name": "stdout",
     "output_type": "stream",
     "text": [
      "2025-04-21 03:44:13,299 - INFO - Downloaded logs_0qp5nh16:v0 to /scratch/downloaded_artifacts/logs_0qp5nh16:v0\n"
     ]
    },
    {
     "name": "stderr",
     "output_type": "stream",
     "text": [
      "\u001b[34m\u001b[1mwandb\u001b[0m:   1 of 1 files downloaded.  \n"
     ]
    },
    {
     "name": "stdout",
     "output_type": "stream",
     "text": [
      "2025-04-21 03:44:13,431 - INFO - Downloaded logs_05avruoj:v0 to /scratch/downloaded_artifacts/logs_05avruoj:v0\n"
     ]
    },
    {
     "name": "stderr",
     "output_type": "stream",
     "text": [
      "\u001b[34m\u001b[1mwandb\u001b[0m:   1 of 1 files downloaded.  \n"
     ]
    },
    {
     "name": "stdout",
     "output_type": "stream",
     "text": [
      "2025-04-21 03:44:13,515 - INFO - Downloaded logs_2pkf8kh9:v0 to /scratch/downloaded_artifacts/logs_2pkf8kh9:v0\n"
     ]
    },
    {
     "name": "stderr",
     "output_type": "stream",
     "text": [
      "\u001b[34m\u001b[1mwandb\u001b[0m:   1 of 1 files downloaded.  \n"
     ]
    },
    {
     "name": "stdout",
     "output_type": "stream",
     "text": [
      "2025-04-21 03:44:13,784 - INFO - Downloaded logs_aak2l0et:v0 to /scratch/downloaded_artifacts/logs_aak2l0et:v0\n"
     ]
    },
    {
     "name": "stderr",
     "output_type": "stream",
     "text": [
      "\u001b[34m\u001b[1mwandb\u001b[0m:   1 of 1 files downloaded.  \n"
     ]
    },
    {
     "name": "stdout",
     "output_type": "stream",
     "text": [
      "2025-04-21 03:44:13,790 - INFO - Downloaded logs_5l2orp7g:v0 to /scratch/downloaded_artifacts/logs_5l2orp7g:v0\n"
     ]
    },
    {
     "name": "stderr",
     "output_type": "stream",
     "text": [
      "\u001b[34m\u001b[1mwandb\u001b[0m:   1 of 1 files downloaded.  \n"
     ]
    },
    {
     "name": "stdout",
     "output_type": "stream",
     "text": [
      "2025-04-21 03:44:14,034 - INFO - Downloaded logs_h3l5bti7:v0 to /scratch/downloaded_artifacts/logs_h3l5bti7:v0\n"
     ]
    },
    {
     "name": "stderr",
     "output_type": "stream",
     "text": [
      "\u001b[34m\u001b[1mwandb\u001b[0m:   1 of 1 files downloaded.  \n"
     ]
    },
    {
     "name": "stdout",
     "output_type": "stream",
     "text": [
      "2025-04-21 03:44:14,070 - INFO - Downloaded logs_i3y9obss:v0 to /scratch/downloaded_artifacts/logs_i3y9obss:v0\n"
     ]
    },
    {
     "name": "stderr",
     "output_type": "stream",
     "text": [
      "\u001b[34m\u001b[1mwandb\u001b[0m:   1 of 1 files downloaded.  \n"
     ]
    },
    {
     "name": "stdout",
     "output_type": "stream",
     "text": [
      "2025-04-21 03:44:14,420 - INFO - Downloaded logs_lzqe3863:v0 to /scratch/downloaded_artifacts/logs_lzqe3863:v0\n"
     ]
    },
    {
     "name": "stderr",
     "output_type": "stream",
     "text": [
      "\u001b[34m\u001b[1mwandb\u001b[0m:   1 of 1 files downloaded.  \n"
     ]
    },
    {
     "name": "stdout",
     "output_type": "stream",
     "text": [
      "2025-04-21 03:44:14,576 - INFO - Downloaded logs_yu7nybhu:v0 to /scratch/downloaded_artifacts/logs_yu7nybhu:v0\n"
     ]
    },
    {
     "name": "stderr",
     "output_type": "stream",
     "text": [
      "\u001b[34m\u001b[1mwandb\u001b[0m:   1 of 1 files downloaded.  \n",
      "\u001b[34m\u001b[1mwandb\u001b[0m:   1 of 1 files downloaded.  \n"
     ]
    },
    {
     "name": "stdout",
     "output_type": "stream",
     "text": [
      "2025-04-21 03:44:14,660 - INFO - Downloaded logs_7qeiofgu:v0 to /scratch/downloaded_artifacts/logs_7qeiofgu:v0\n",
      "2025-04-21 03:44:14,664 - INFO - Downloaded logs_8dor8vl6:v0 to /scratch/downloaded_artifacts/logs_8dor8vl6:v0\n"
     ]
    },
    {
     "name": "stderr",
     "output_type": "stream",
     "text": [
      "\u001b[34m\u001b[1mwandb\u001b[0m:   1 of 1 files downloaded.  \n"
     ]
    },
    {
     "name": "stdout",
     "output_type": "stream",
     "text": [
      "2025-04-21 03:44:14,939 - INFO - Downloaded logs_9c4eqxnh:v0 to /scratch/downloaded_artifacts/logs_9c4eqxnh:v0\n"
     ]
    },
    {
     "name": "stderr",
     "output_type": "stream",
     "text": [
      "\u001b[34m\u001b[1mwandb\u001b[0m:   1 of 1 files downloaded.  \n"
     ]
    },
    {
     "name": "stdout",
     "output_type": "stream",
     "text": [
      "2025-04-21 03:44:15,002 - INFO - Downloaded logs_8q13293s:v0 to /scratch/downloaded_artifacts/logs_8q13293s:v0\n"
     ]
    },
    {
     "name": "stderr",
     "output_type": "stream",
     "text": [
      "\u001b[34m\u001b[1mwandb\u001b[0m:   1 of 1 files downloaded.  \n"
     ]
    },
    {
     "name": "stdout",
     "output_type": "stream",
     "text": [
      "2025-04-21 03:44:15,574 - INFO - Downloaded logs_9qf689au:v0 to /scratch/downloaded_artifacts/logs_9qf689au:v0\n"
     ]
    },
    {
     "name": "stderr",
     "output_type": "stream",
     "text": [
      "\u001b[34m\u001b[1mwandb\u001b[0m:   1 of 1 files downloaded.  \n"
     ]
    },
    {
     "name": "stdout",
     "output_type": "stream",
     "text": [
      "2025-04-21 03:44:15,630 - INFO - Downloaded logs_ebe3qhuv:v0 to /scratch/downloaded_artifacts/logs_ebe3qhuv:v0\n"
     ]
    },
    {
     "name": "stderr",
     "output_type": "stream",
     "text": [
      "\u001b[34m\u001b[1mwandb\u001b[0m:   1 of 1 files downloaded.  \n"
     ]
    },
    {
     "name": "stdout",
     "output_type": "stream",
     "text": [
      "2025-04-21 03:44:15,794 - INFO - Downloaded logs_f0b2fkni:v0 to /scratch/downloaded_artifacts/logs_f0b2fkni:v0\n"
     ]
    },
    {
     "name": "stderr",
     "output_type": "stream",
     "text": [
      "\u001b[34m\u001b[1mwandb\u001b[0m:   1 of 1 files downloaded.  \n"
     ]
    },
    {
     "name": "stdout",
     "output_type": "stream",
     "text": [
      "2025-04-21 03:44:15,821 - INFO - Downloaded logs_9pbg6y9i:v0 to /scratch/downloaded_artifacts/logs_9pbg6y9i:v0\n"
     ]
    },
    {
     "name": "stderr",
     "output_type": "stream",
     "text": [
      "\u001b[34m\u001b[1mwandb\u001b[0m:   1 of 1 files downloaded.  \n"
     ]
    },
    {
     "name": "stdout",
     "output_type": "stream",
     "text": [
      "2025-04-21 03:44:15,912 - INFO - Downloaded logs_f6a8l9z0:v0 to /scratch/downloaded_artifacts/logs_f6a8l9z0:v0\n"
     ]
    },
    {
     "name": "stderr",
     "output_type": "stream",
     "text": [
      "\u001b[34m\u001b[1mwandb\u001b[0m:   1 of 1 files downloaded.  \n"
     ]
    },
    {
     "name": "stdout",
     "output_type": "stream",
     "text": [
      "2025-04-21 03:44:15,989 - INFO - Downloaded logs_eo99i9aq:v0 to /scratch/downloaded_artifacts/logs_eo99i9aq:v0\n"
     ]
    },
    {
     "name": "stderr",
     "output_type": "stream",
     "text": [
      "\u001b[34m\u001b[1mwandb\u001b[0m:   1 of 1 files downloaded.  \n"
     ]
    },
    {
     "name": "stdout",
     "output_type": "stream",
     "text": [
      "2025-04-21 03:44:15,998 - INFO - Downloaded logs_fyxowwqs:v0 to /scratch/downloaded_artifacts/logs_fyxowwqs:v0\n"
     ]
    },
    {
     "name": "stderr",
     "output_type": "stream",
     "text": [
      "\u001b[34m\u001b[1mwandb\u001b[0m:   1 of 1 files downloaded.  \n"
     ]
    },
    {
     "name": "stdout",
     "output_type": "stream",
     "text": [
      "2025-04-21 03:44:16,165 - INFO - Downloaded logs_hk575rn2:v0 to /scratch/downloaded_artifacts/logs_hk575rn2:v0\n"
     ]
    },
    {
     "name": "stderr",
     "output_type": "stream",
     "text": [
      "\u001b[34m\u001b[1mwandb\u001b[0m:   1 of 1 files downloaded.  \n"
     ]
    },
    {
     "name": "stdout",
     "output_type": "stream",
     "text": [
      "2025-04-21 03:44:16,324 - INFO - Downloaded logs_kvx3tc2p:v0 to /scratch/downloaded_artifacts/logs_kvx3tc2p:v0\n"
     ]
    },
    {
     "name": "stderr",
     "output_type": "stream",
     "text": [
      "\u001b[34m\u001b[1mwandb\u001b[0m:   1 of 1 files downloaded.  \n"
     ]
    },
    {
     "name": "stdout",
     "output_type": "stream",
     "text": [
      "2025-04-21 03:44:16,427 - INFO - Downloaded logs_kqxx866b:v0 to /scratch/downloaded_artifacts/logs_kqxx866b:v0\n"
     ]
    },
    {
     "name": "stderr",
     "output_type": "stream",
     "text": [
      "\u001b[34m\u001b[1mwandb\u001b[0m:   1 of 1 files downloaded.  \n"
     ]
    },
    {
     "name": "stdout",
     "output_type": "stream",
     "text": [
      "2025-04-21 03:44:16,568 - INFO - Downloaded logs_mczoyrqp:v0 to /scratch/downloaded_artifacts/logs_mczoyrqp:v0\n"
     ]
    },
    {
     "name": "stderr",
     "output_type": "stream",
     "text": [
      "\u001b[34m\u001b[1mwandb\u001b[0m:   1 of 1 files downloaded.  \n"
     ]
    },
    {
     "name": "stdout",
     "output_type": "stream",
     "text": [
      "2025-04-21 03:44:16,632 - INFO - Downloaded logs_l32x1yqy:v0 to /scratch/downloaded_artifacts/logs_l32x1yqy:v0\n"
     ]
    },
    {
     "name": "stderr",
     "output_type": "stream",
     "text": [
      "\u001b[34m\u001b[1mwandb\u001b[0m:   1 of 1 files downloaded.  \n"
     ]
    },
    {
     "name": "stdout",
     "output_type": "stream",
     "text": [
      "2025-04-21 03:44:16,865 - INFO - Downloaded logs_p5b7s8en:v0 to /scratch/downloaded_artifacts/logs_p5b7s8en:v0\n"
     ]
    },
    {
     "name": "stderr",
     "output_type": "stream",
     "text": [
      "\u001b[34m\u001b[1mwandb\u001b[0m:   1 of 1 files downloaded.  \n"
     ]
    },
    {
     "name": "stdout",
     "output_type": "stream",
     "text": [
      "2025-04-21 03:44:16,932 - INFO - Downloaded logs_ponujlmz:v0 to /scratch/downloaded_artifacts/logs_ponujlmz:v0\n"
     ]
    },
    {
     "name": "stderr",
     "output_type": "stream",
     "text": [
      "\u001b[34m\u001b[1mwandb\u001b[0m:   1 of 1 files downloaded.  \n"
     ]
    },
    {
     "name": "stdout",
     "output_type": "stream",
     "text": [
      "2025-04-21 03:44:17,139 - INFO - Downloaded logs_r5zs0jqf:v0 to /scratch/downloaded_artifacts/logs_r5zs0jqf:v0\n"
     ]
    },
    {
     "name": "stderr",
     "output_type": "stream",
     "text": [
      "\u001b[34m\u001b[1mwandb\u001b[0m:   1 of 1 files downloaded.  \n"
     ]
    },
    {
     "name": "stdout",
     "output_type": "stream",
     "text": [
      "2025-04-21 03:44:17,198 - INFO - Downloaded logs_wfgmchp2:v0 to /scratch/downloaded_artifacts/logs_wfgmchp2:v0\n"
     ]
    },
    {
     "name": "stderr",
     "output_type": "stream",
     "text": [
      "\u001b[34m\u001b[1mwandb\u001b[0m:   1 of 1 files downloaded.  \n"
     ]
    },
    {
     "name": "stdout",
     "output_type": "stream",
     "text": [
      "2025-04-21 03:44:17,350 - INFO - Downloaded logs_049z7tiz:v0 to /scratch/downloaded_artifacts/logs_049z7tiz:v0\n"
     ]
    },
    {
     "name": "stderr",
     "output_type": "stream",
     "text": [
      "\u001b[34m\u001b[1mwandb\u001b[0m:   1 of 1 files downloaded.  \n"
     ]
    },
    {
     "name": "stdout",
     "output_type": "stream",
     "text": [
      "2025-04-21 03:44:17,474 - INFO - Downloaded logs_y5bligeq:v0 to /scratch/downloaded_artifacts/logs_y5bligeq:v0\n"
     ]
    },
    {
     "name": "stderr",
     "output_type": "stream",
     "text": [
      "\u001b[34m\u001b[1mwandb\u001b[0m:   1 of 1 files downloaded.  \n"
     ]
    },
    {
     "name": "stdout",
     "output_type": "stream",
     "text": [
      "2025-04-21 03:44:17,635 - INFO - Downloaded logs_22pe6ga7:v0 to /scratch/downloaded_artifacts/logs_22pe6ga7:v0\n"
     ]
    },
    {
     "name": "stderr",
     "output_type": "stream",
     "text": [
      "\u001b[34m\u001b[1mwandb\u001b[0m:   1 of 1 files downloaded.  \n"
     ]
    },
    {
     "name": "stdout",
     "output_type": "stream",
     "text": [
      "2025-04-21 03:44:17,824 - INFO - Downloaded logs_1skqo0gh:v0 to /scratch/downloaded_artifacts/logs_1skqo0gh:v0\n"
     ]
    },
    {
     "name": "stderr",
     "output_type": "stream",
     "text": [
      "\u001b[34m\u001b[1mwandb\u001b[0m:   1 of 1 files downloaded.  \n"
     ]
    },
    {
     "name": "stdout",
     "output_type": "stream",
     "text": [
      "2025-04-21 03:44:18,136 - INFO - Downloaded logs_afs17b1z:v0 to /scratch/downloaded_artifacts/logs_afs17b1z:v0\n"
     ]
    },
    {
     "name": "stderr",
     "output_type": "stream",
     "text": [
      "\u001b[34m\u001b[1mwandb\u001b[0m:   1 of 1 files downloaded.  \n"
     ]
    },
    {
     "name": "stdout",
     "output_type": "stream",
     "text": [
      "2025-04-21 03:44:18,171 - INFO - Downloaded logs_ags3lgdv:v0 to /scratch/downloaded_artifacts/logs_ags3lgdv:v0\n"
     ]
    },
    {
     "name": "stderr",
     "output_type": "stream",
     "text": [
      "\u001b[34m\u001b[1mwandb\u001b[0m:   1 of 1 files downloaded.  \n"
     ]
    },
    {
     "name": "stdout",
     "output_type": "stream",
     "text": [
      "2025-04-21 03:44:18,431 - INFO - Downloaded logs_cw7dys3h:v0 to /scratch/downloaded_artifacts/logs_cw7dys3h:v0\n"
     ]
    },
    {
     "name": "stderr",
     "output_type": "stream",
     "text": [
      "\u001b[34m\u001b[1mwandb\u001b[0m:   1 of 1 files downloaded.  \n"
     ]
    },
    {
     "name": "stdout",
     "output_type": "stream",
     "text": [
      "2025-04-21 03:44:18,437 - INFO - Downloaded logs_ddxedgdp:v0 to /scratch/downloaded_artifacts/logs_ddxedgdp:v0\n"
     ]
    },
    {
     "name": "stderr",
     "output_type": "stream",
     "text": [
      "\u001b[34m\u001b[1mwandb\u001b[0m:   1 of 1 files downloaded.  \n"
     ]
    },
    {
     "name": "stdout",
     "output_type": "stream",
     "text": [
      "2025-04-21 03:44:18,547 - INFO - Downloaded logs_e5b934ga:v0 to /scratch/downloaded_artifacts/logs_e5b934ga:v0\n"
     ]
    },
    {
     "name": "stderr",
     "output_type": "stream",
     "text": [
      "\u001b[34m\u001b[1mwandb\u001b[0m:   1 of 1 files downloaded.  \n"
     ]
    },
    {
     "name": "stdout",
     "output_type": "stream",
     "text": [
      "2025-04-21 03:44:18,598 - INFO - Downloaded logs_cg4otf86:v0 to /scratch/downloaded_artifacts/logs_cg4otf86:v0\n"
     ]
    },
    {
     "name": "stderr",
     "output_type": "stream",
     "text": [
      "\u001b[34m\u001b[1mwandb\u001b[0m:   1 of 1 files downloaded.  \n"
     ]
    },
    {
     "name": "stdout",
     "output_type": "stream",
     "text": [
      "2025-04-21 03:44:18,766 - INFO - Downloaded logs_g09w7knl:v0 to /scratch/downloaded_artifacts/logs_g09w7knl:v0\n"
     ]
    },
    {
     "name": "stderr",
     "output_type": "stream",
     "text": [
      "\u001b[34m\u001b[1mwandb\u001b[0m:   1 of 1 files downloaded.  \n"
     ]
    },
    {
     "name": "stdout",
     "output_type": "stream",
     "text": [
      "2025-04-21 03:44:18,877 - INFO - Downloaded logs_ezl7ffhe:v0 to /scratch/downloaded_artifacts/logs_ezl7ffhe:v0\n"
     ]
    },
    {
     "name": "stderr",
     "output_type": "stream",
     "text": [
      "\u001b[34m\u001b[1mwandb\u001b[0m:   1 of 1 files downloaded.  \n"
     ]
    },
    {
     "name": "stdout",
     "output_type": "stream",
     "text": [
      "2025-04-21 03:44:19,180 - INFO - Downloaded logs_i1qoerku:v0 to /scratch/downloaded_artifacts/logs_i1qoerku:v0\n"
     ]
    },
    {
     "name": "stderr",
     "output_type": "stream",
     "text": [
      "\u001b[34m\u001b[1mwandb\u001b[0m:   1 of 1 files downloaded.  \n"
     ]
    },
    {
     "name": "stdout",
     "output_type": "stream",
     "text": [
      "2025-04-21 03:44:19,257 - INFO - Downloaded logs_h5vvm0u3:v0 to /scratch/downloaded_artifacts/logs_h5vvm0u3:v0\n"
     ]
    },
    {
     "name": "stderr",
     "output_type": "stream",
     "text": [
      "\u001b[34m\u001b[1mwandb\u001b[0m:   1 of 1 files downloaded.  \n"
     ]
    },
    {
     "name": "stdout",
     "output_type": "stream",
     "text": [
      "2025-04-21 03:44:19,328 - INFO - Downloaded logs_iutkxdr6:v0 to /scratch/downloaded_artifacts/logs_iutkxdr6:v0\n"
     ]
    },
    {
     "name": "stderr",
     "output_type": "stream",
     "text": [
      "\u001b[34m\u001b[1mwandb\u001b[0m:   1 of 1 files downloaded.  \n"
     ]
    },
    {
     "name": "stdout",
     "output_type": "stream",
     "text": [
      "2025-04-21 03:44:19,377 - INFO - Downloaded logs_kmpa4651:v0 to /scratch/downloaded_artifacts/logs_kmpa4651:v0\n"
     ]
    },
    {
     "name": "stderr",
     "output_type": "stream",
     "text": [
      "\u001b[34m\u001b[1mwandb\u001b[0m:   1 of 1 files downloaded.  \n"
     ]
    },
    {
     "name": "stdout",
     "output_type": "stream",
     "text": [
      "2025-04-21 03:44:19,634 - INFO - Downloaded logs_myyl5o4z:v0 to /scratch/downloaded_artifacts/logs_myyl5o4z:v0\n"
     ]
    },
    {
     "name": "stderr",
     "output_type": "stream",
     "text": [
      "\u001b[34m\u001b[1mwandb\u001b[0m:   1 of 1 files downloaded.  \n"
     ]
    },
    {
     "name": "stdout",
     "output_type": "stream",
     "text": [
      "2025-04-21 03:44:19,642 - INFO - Downloaded logs_pnt3ol27:v0 to /scratch/downloaded_artifacts/logs_pnt3ol27:v0\n"
     ]
    },
    {
     "name": "stderr",
     "output_type": "stream",
     "text": [
      "\u001b[34m\u001b[1mwandb\u001b[0m:   1 of 1 files downloaded.  \n"
     ]
    },
    {
     "name": "stdout",
     "output_type": "stream",
     "text": [
      "2025-04-21 03:44:19,839 - INFO - Downloaded logs_tsig9ghh:v0 to /scratch/downloaded_artifacts/logs_tsig9ghh:v0\n"
     ]
    },
    {
     "name": "stderr",
     "output_type": "stream",
     "text": [
      "\u001b[34m\u001b[1mwandb\u001b[0m:   1 of 1 files downloaded.  \n"
     ]
    },
    {
     "name": "stdout",
     "output_type": "stream",
     "text": [
      "2025-04-21 03:44:19,943 - INFO - Downloaded logs_t6lqptio:v0 to /scratch/downloaded_artifacts/logs_t6lqptio:v0\n"
     ]
    },
    {
     "name": "stderr",
     "output_type": "stream",
     "text": [
      "\u001b[34m\u001b[1mwandb\u001b[0m:   1 of 1 files downloaded.  \n"
     ]
    },
    {
     "name": "stdout",
     "output_type": "stream",
     "text": [
      "2025-04-21 03:44:20,041 - INFO - Downloaded logs_vb9p0uiy:v0 to /scratch/downloaded_artifacts/logs_vb9p0uiy:v0\n"
     ]
    },
    {
     "name": "stderr",
     "output_type": "stream",
     "text": [
      "\u001b[34m\u001b[1mwandb\u001b[0m:   1 of 1 files downloaded.  \n"
     ]
    },
    {
     "name": "stdout",
     "output_type": "stream",
     "text": [
      "2025-04-21 03:44:20,276 - INFO - Downloaded logs_wqvrdn8f:v0 to /scratch/downloaded_artifacts/logs_wqvrdn8f:v0\n"
     ]
    },
    {
     "name": "stderr",
     "output_type": "stream",
     "text": [
      "\u001b[34m\u001b[1mwandb\u001b[0m:   1 of 1 files downloaded.  \n"
     ]
    },
    {
     "name": "stdout",
     "output_type": "stream",
     "text": [
      "2025-04-21 03:44:20,287 - INFO - Downloaded logs_wr823376:v0 to /scratch/downloaded_artifacts/logs_wr823376:v0\n"
     ]
    },
    {
     "name": "stderr",
     "output_type": "stream",
     "text": [
      "\u001b[34m\u001b[1mwandb\u001b[0m:   1 of 1 files downloaded.  \n"
     ]
    },
    {
     "name": "stdout",
     "output_type": "stream",
     "text": [
      "2025-04-21 03:44:20,565 - INFO - Downloaded logs_xmkg2gkt:v0 to /scratch/downloaded_artifacts/logs_xmkg2gkt:v0\n"
     ]
    },
    {
     "name": "stderr",
     "output_type": "stream",
     "text": [
      "\u001b[34m\u001b[1mwandb\u001b[0m:   1 of 1 files downloaded.  \n"
     ]
    },
    {
     "name": "stdout",
     "output_type": "stream",
     "text": [
      "2025-04-21 03:44:20,776 - INFO - Downloaded logs_y8r1pmcy:v0 to /scratch/downloaded_artifacts/logs_y8r1pmcy:v0\n"
     ]
    },
    {
     "name": "stderr",
     "output_type": "stream",
     "text": [
      "\u001b[34m\u001b[1mwandb\u001b[0m:   1 of 1 files downloaded.  \n"
     ]
    },
    {
     "name": "stdout",
     "output_type": "stream",
     "text": [
      "2025-04-21 03:44:20,934 - INFO - Downloaded logs_xnf0cdn7:v0 to /scratch/downloaded_artifacts/logs_xnf0cdn7:v0\n"
     ]
    },
    {
     "name": "stderr",
     "output_type": "stream",
     "text": [
      "\u001b[34m\u001b[1mwandb\u001b[0m:   1 of 1 files downloaded.  \n"
     ]
    },
    {
     "name": "stdout",
     "output_type": "stream",
     "text": [
      "2025-04-21 03:44:21,050 - INFO - Downloaded logs_yszano1z:v0 to /scratch/downloaded_artifacts/logs_yszano1z:v0\n"
     ]
    },
    {
     "name": "stderr",
     "output_type": "stream",
     "text": [
      "\u001b[34m\u001b[1mwandb\u001b[0m:   1 of 1 files downloaded.  \n"
     ]
    },
    {
     "name": "stdout",
     "output_type": "stream",
     "text": [
      "2025-04-21 03:44:21,145 - INFO - Downloaded logs_ymx4p5pd:v0 to /scratch/downloaded_artifacts/logs_ymx4p5pd:v0\n"
     ]
    },
    {
     "name": "stderr",
     "output_type": "stream",
     "text": [
      "\u001b[34m\u001b[1mwandb\u001b[0m:   1 of 1 files downloaded.  \n"
     ]
    },
    {
     "name": "stdout",
     "output_type": "stream",
     "text": [
      "2025-04-21 03:44:21,192 - INFO - Downloaded logs_zg9o9mu4:v0 to /scratch/downloaded_artifacts/logs_zg9o9mu4:v0\n"
     ]
    },
    {
     "name": "stderr",
     "output_type": "stream",
     "text": [
      "\u001b[34m\u001b[1mwandb\u001b[0m:   1 of 1 files downloaded.  \n"
     ]
    },
    {
     "name": "stdout",
     "output_type": "stream",
     "text": [
      "2025-04-21 03:44:21,244 - INFO - Downloaded logs_2gbv4ggo:v0 to /scratch/downloaded_artifacts/logs_2gbv4ggo:v0\n"
     ]
    },
    {
     "name": "stderr",
     "output_type": "stream",
     "text": [
      "\u001b[34m\u001b[1mwandb\u001b[0m:   1 of 1 files downloaded.  \n"
     ]
    },
    {
     "name": "stdout",
     "output_type": "stream",
     "text": [
      "2025-04-21 03:44:21,503 - INFO - Downloaded logs_7dxnprjg:v0 to /scratch/downloaded_artifacts/logs_7dxnprjg:v0\n"
     ]
    },
    {
     "name": "stderr",
     "output_type": "stream",
     "text": [
      "\u001b[34m\u001b[1mwandb\u001b[0m:   1 of 1 files downloaded.  \n"
     ]
    },
    {
     "name": "stdout",
     "output_type": "stream",
     "text": [
      "2025-04-21 03:44:21,540 - INFO - Downloaded logs_2jr1nguz:v0 to /scratch/downloaded_artifacts/logs_2jr1nguz:v0\n"
     ]
    },
    {
     "name": "stderr",
     "output_type": "stream",
     "text": [
      "\u001b[34m\u001b[1mwandb\u001b[0m:   1 of 1 files downloaded.  \n"
     ]
    },
    {
     "name": "stdout",
     "output_type": "stream",
     "text": [
      "2025-04-21 03:44:21,785 - INFO - Downloaded logs_81zipj0b:v0 to /scratch/downloaded_artifacts/logs_81zipj0b:v0\n"
     ]
    },
    {
     "name": "stderr",
     "output_type": "stream",
     "text": [
      "\u001b[34m\u001b[1mwandb\u001b[0m:   1 of 1 files downloaded.  \n"
     ]
    },
    {
     "name": "stdout",
     "output_type": "stream",
     "text": [
      "2025-04-21 03:44:21,924 - INFO - Downloaded logs_g27yni3x:v0 to /scratch/downloaded_artifacts/logs_g27yni3x:v0\n"
     ]
    },
    {
     "name": "stderr",
     "output_type": "stream",
     "text": [
      "\u001b[34m\u001b[1mwandb\u001b[0m:   1 of 1 files downloaded.  \n"
     ]
    },
    {
     "name": "stdout",
     "output_type": "stream",
     "text": [
      "2025-04-21 03:44:22,019 - INFO - Downloaded logs_hgmly4t7:v0 to /scratch/downloaded_artifacts/logs_hgmly4t7:v0\n"
     ]
    },
    {
     "name": "stderr",
     "output_type": "stream",
     "text": [
      "\u001b[34m\u001b[1mwandb\u001b[0m:   1 of 1 files downloaded.  \n"
     ]
    },
    {
     "name": "stdout",
     "output_type": "stream",
     "text": [
      "2025-04-21 03:44:22,294 - INFO - Downloaded logs_gof34wsb:v0 to /scratch/downloaded_artifacts/logs_gof34wsb:v0\n"
     ]
    },
    {
     "name": "stderr",
     "output_type": "stream",
     "text": [
      "\u001b[34m\u001b[1mwandb\u001b[0m:   1 of 1 files downloaded.  \n"
     ]
    },
    {
     "name": "stdout",
     "output_type": "stream",
     "text": [
      "2025-04-21 03:44:22,353 - INFO - Downloaded logs_ho8bic7t:v0 to /scratch/downloaded_artifacts/logs_ho8bic7t:v0\n"
     ]
    },
    {
     "name": "stderr",
     "output_type": "stream",
     "text": [
      "\u001b[34m\u001b[1mwandb\u001b[0m:   1 of 1 files downloaded.  \n"
     ]
    },
    {
     "name": "stdout",
     "output_type": "stream",
     "text": [
      "2025-04-21 03:44:22,565 - INFO - Downloaded logs_ijupardg:v0 to /scratch/downloaded_artifacts/logs_ijupardg:v0\n"
     ]
    },
    {
     "name": "stderr",
     "output_type": "stream",
     "text": [
      "\u001b[34m\u001b[1mwandb\u001b[0m:   1 of 1 files downloaded.  \n"
     ]
    },
    {
     "name": "stdout",
     "output_type": "stream",
     "text": [
      "2025-04-21 03:44:22,575 - INFO - Downloaded logs_jjztsjpk:v0 to /scratch/downloaded_artifacts/logs_jjztsjpk:v0\n"
     ]
    },
    {
     "name": "stderr",
     "output_type": "stream",
     "text": [
      "\u001b[34m\u001b[1mwandb\u001b[0m:   1 of 1 files downloaded.  \n"
     ]
    },
    {
     "name": "stdout",
     "output_type": "stream",
     "text": [
      "2025-04-21 03:44:22,605 - INFO - Downloaded logs_jpf3g2km:v0 to /scratch/downloaded_artifacts/logs_jpf3g2km:v0\n"
     ]
    },
    {
     "name": "stderr",
     "output_type": "stream",
     "text": [
      "\u001b[34m\u001b[1mwandb\u001b[0m:   1 of 1 files downloaded.  \n"
     ]
    },
    {
     "name": "stdout",
     "output_type": "stream",
     "text": [
      "2025-04-21 03:44:22,898 - INFO - Downloaded logs_mvcicb8x:v0 to /scratch/downloaded_artifacts/logs_mvcicb8x:v0\n"
     ]
    },
    {
     "name": "stderr",
     "output_type": "stream",
     "text": [
      "\u001b[34m\u001b[1mwandb\u001b[0m:   1 of 1 files downloaded.  \n"
     ]
    },
    {
     "name": "stdout",
     "output_type": "stream",
     "text": [
      "2025-04-21 03:44:23,271 - INFO - Downloaded logs_r96085mv:v0 to /scratch/downloaded_artifacts/logs_r96085mv:v0\n"
     ]
    },
    {
     "name": "stderr",
     "output_type": "stream",
     "text": [
      "\u001b[34m\u001b[1mwandb\u001b[0m:   1 of 1 files downloaded.  \n"
     ]
    },
    {
     "name": "stdout",
     "output_type": "stream",
     "text": [
      "2025-04-21 03:44:23,297 - INFO - Downloaded logs_ple9g2cp:v0 to /scratch/downloaded_artifacts/logs_ple9g2cp:v0\n"
     ]
    },
    {
     "name": "stderr",
     "output_type": "stream",
     "text": [
      "\u001b[34m\u001b[1mwandb\u001b[0m:   1 of 1 files downloaded.  \n"
     ]
    },
    {
     "name": "stdout",
     "output_type": "stream",
     "text": [
      "2025-04-21 03:44:23,304 - INFO - Downloaded logs_uoascfnk:v0 to /scratch/downloaded_artifacts/logs_uoascfnk:v0\n"
     ]
    },
    {
     "name": "stderr",
     "output_type": "stream",
     "text": [
      "\u001b[34m\u001b[1mwandb\u001b[0m:   1 of 1 files downloaded.  \n"
     ]
    },
    {
     "name": "stdout",
     "output_type": "stream",
     "text": [
      "2025-04-21 03:44:23,526 - INFO - Downloaded logs_vv2cibyb:v0 to /scratch/downloaded_artifacts/logs_vv2cibyb:v0\n"
     ]
    },
    {
     "name": "stderr",
     "output_type": "stream",
     "text": [
      "\u001b[34m\u001b[1mwandb\u001b[0m:   1 of 1 files downloaded.  \n"
     ]
    },
    {
     "name": "stdout",
     "output_type": "stream",
     "text": [
      "2025-04-21 03:44:23,775 - INFO - Downloaded logs_xzb62lfa:v0 to /scratch/downloaded_artifacts/logs_xzb62lfa:v0\n"
     ]
    },
    {
     "name": "stderr",
     "output_type": "stream",
     "text": [
      "\u001b[34m\u001b[1mwandb\u001b[0m:   1 of 1 files downloaded.  \n",
      "\u001b[34m\u001b[1mwandb\u001b[0m:   1 of 1 files downloaded.  \n"
     ]
    },
    {
     "name": "stdout",
     "output_type": "stream",
     "text": [
      "2025-04-21 03:44:23,845 - INFO - Downloaded logs_zau00a19:v0 to /scratch/downloaded_artifacts/logs_zau00a19:v0\n",
      "2025-04-21 03:44:23,848 - INFO - Downloaded logs_zsm5xqal:v0 to /scratch/downloaded_artifacts/logs_zsm5xqal:v0\n"
     ]
    },
    {
     "name": "stderr",
     "output_type": "stream",
     "text": [
      "\u001b[34m\u001b[1mwandb\u001b[0m:   1 of 1 files downloaded.  \n"
     ]
    },
    {
     "name": "stdout",
     "output_type": "stream",
     "text": [
      "2025-04-21 03:44:24,006 - INFO - Downloaded logs_1ks865f6:v0 to /scratch/downloaded_artifacts/logs_1ks865f6:v0\n"
     ]
    },
    {
     "name": "stderr",
     "output_type": "stream",
     "text": [
      "\u001b[34m\u001b[1mwandb\u001b[0m:   1 of 1 files downloaded.  \n"
     ]
    },
    {
     "name": "stdout",
     "output_type": "stream",
     "text": [
      "2025-04-21 03:44:24,235 - INFO - Downloaded logs_54hetdzm:v0 to /scratch/downloaded_artifacts/logs_54hetdzm:v0\n"
     ]
    },
    {
     "name": "stderr",
     "output_type": "stream",
     "text": [
      "\u001b[34m\u001b[1mwandb\u001b[0m:   1 of 1 files downloaded.  \n"
     ]
    },
    {
     "name": "stdout",
     "output_type": "stream",
     "text": [
      "2025-04-21 03:44:24,254 - INFO - Downloaded logs_74a6e9ti:v0 to /scratch/downloaded_artifacts/logs_74a6e9ti:v0\n"
     ]
    },
    {
     "name": "stderr",
     "output_type": "stream",
     "text": [
      "\u001b[34m\u001b[1mwandb\u001b[0m:   1 of 1 files downloaded.  \n"
     ]
    },
    {
     "name": "stdout",
     "output_type": "stream",
     "text": [
      "2025-04-21 03:44:24,382 - INFO - Downloaded logs_7gyohp49:v0 to /scratch/downloaded_artifacts/logs_7gyohp49:v0\n"
     ]
    },
    {
     "name": "stderr",
     "output_type": "stream",
     "text": [
      "\u001b[34m\u001b[1mwandb\u001b[0m:   1 of 1 files downloaded.  \n"
     ]
    },
    {
     "name": "stdout",
     "output_type": "stream",
     "text": [
      "2025-04-21 03:44:24,556 - INFO - Downloaded logs_89vdeeqv:v0 to /scratch/downloaded_artifacts/logs_89vdeeqv:v0\n"
     ]
    },
    {
     "name": "stderr",
     "output_type": "stream",
     "text": [
      "\u001b[34m\u001b[1mwandb\u001b[0m:   1 of 1 files downloaded.  \n"
     ]
    },
    {
     "name": "stdout",
     "output_type": "stream",
     "text": [
      "2025-04-21 03:44:24,678 - INFO - Downloaded logs_8udqxnyj:v0 to /scratch/downloaded_artifacts/logs_8udqxnyj:v0\n"
     ]
    },
    {
     "name": "stderr",
     "output_type": "stream",
     "text": [
      "\u001b[34m\u001b[1mwandb\u001b[0m:   1 of 1 files downloaded.  \n"
     ]
    },
    {
     "name": "stdout",
     "output_type": "stream",
     "text": [
      "2025-04-21 03:44:24,776 - INFO - Downloaded logs_9tku2tbd:v0 to /scratch/downloaded_artifacts/logs_9tku2tbd:v0\n"
     ]
    },
    {
     "name": "stderr",
     "output_type": "stream",
     "text": [
      "\u001b[34m\u001b[1mwandb\u001b[0m:   1 of 1 files downloaded.  \n"
     ]
    },
    {
     "name": "stdout",
     "output_type": "stream",
     "text": [
      "2025-04-21 03:44:25,060 - INFO - Downloaded logs_b6vujucq:v0 to /scratch/downloaded_artifacts/logs_b6vujucq:v0\n"
     ]
    },
    {
     "name": "stderr",
     "output_type": "stream",
     "text": [
      "\u001b[34m\u001b[1mwandb\u001b[0m:   1 of 1 files downloaded.  \n"
     ]
    },
    {
     "name": "stdout",
     "output_type": "stream",
     "text": [
      "2025-04-21 03:44:25,222 - INFO - Downloaded logs_c1pzvxtb:v0 to /scratch/downloaded_artifacts/logs_c1pzvxtb:v0\n"
     ]
    },
    {
     "name": "stderr",
     "output_type": "stream",
     "text": [
      "\u001b[34m\u001b[1mwandb\u001b[0m:   1 of 1 files downloaded.  \n"
     ]
    },
    {
     "name": "stdout",
     "output_type": "stream",
     "text": [
      "2025-04-21 03:44:25,265 - INFO - Downloaded logs_a5k5s1w5:v0 to /scratch/downloaded_artifacts/logs_a5k5s1w5:v0\n"
     ]
    },
    {
     "name": "stderr",
     "output_type": "stream",
     "text": [
      "\u001b[34m\u001b[1mwandb\u001b[0m:   1 of 1 files downloaded.  \n"
     ]
    },
    {
     "name": "stdout",
     "output_type": "stream",
     "text": [
      "2025-04-21 03:44:25,337 - INFO - Downloaded logs_fzkb1lrn:v0 to /scratch/downloaded_artifacts/logs_fzkb1lrn:v0\n"
     ]
    },
    {
     "name": "stderr",
     "output_type": "stream",
     "text": [
      "\u001b[34m\u001b[1mwandb\u001b[0m:   1 of 1 files downloaded.  \n"
     ]
    },
    {
     "name": "stdout",
     "output_type": "stream",
     "text": [
      "2025-04-21 03:44:25,347 - INFO - Downloaded logs_dpd8yuca:v0 to /scratch/downloaded_artifacts/logs_dpd8yuca:v0\n"
     ]
    },
    {
     "name": "stderr",
     "output_type": "stream",
     "text": [
      "\u001b[34m\u001b[1mwandb\u001b[0m:   1 of 1 files downloaded.  \n"
     ]
    },
    {
     "name": "stdout",
     "output_type": "stream",
     "text": [
      "2025-04-21 03:44:25,498 - INFO - Downloaded logs_js02f34j:v0 to /scratch/downloaded_artifacts/logs_js02f34j:v0\n"
     ]
    },
    {
     "name": "stderr",
     "output_type": "stream",
     "text": [
      "\u001b[34m\u001b[1mwandb\u001b[0m:   1 of 1 files downloaded.  \n"
     ]
    },
    {
     "name": "stdout",
     "output_type": "stream",
     "text": [
      "2025-04-21 03:44:25,773 - INFO - Downloaded logs_jvzgo1vt:v0 to /scratch/downloaded_artifacts/logs_jvzgo1vt:v0\n"
     ]
    },
    {
     "name": "stderr",
     "output_type": "stream",
     "text": [
      "\u001b[34m\u001b[1mwandb\u001b[0m:   1 of 1 files downloaded.  \n"
     ]
    },
    {
     "name": "stdout",
     "output_type": "stream",
     "text": [
      "2025-04-21 03:44:25,799 - INFO - Downloaded logs_khdhjsl4:v0 to /scratch/downloaded_artifacts/logs_khdhjsl4:v0\n"
     ]
    },
    {
     "name": "stderr",
     "output_type": "stream",
     "text": [
      "\u001b[34m\u001b[1mwandb\u001b[0m:   1 of 1 files downloaded.  \n"
     ]
    },
    {
     "name": "stdout",
     "output_type": "stream",
     "text": [
      "2025-04-21 03:44:25,833 - INFO - Downloaded logs_ll6jc3jn:v0 to /scratch/downloaded_artifacts/logs_ll6jc3jn:v0\n"
     ]
    },
    {
     "name": "stderr",
     "output_type": "stream",
     "text": [
      "\u001b[34m\u001b[1mwandb\u001b[0m:   1 of 1 files downloaded.  \n"
     ]
    },
    {
     "name": "stdout",
     "output_type": "stream",
     "text": [
      "2025-04-21 03:44:25,980 - INFO - Downloaded logs_kegw40qc:v0 to /scratch/downloaded_artifacts/logs_kegw40qc:v0\n"
     ]
    },
    {
     "name": "stderr",
     "output_type": "stream",
     "text": [
      "\u001b[34m\u001b[1mwandb\u001b[0m:   1 of 1 files downloaded.  \n"
     ]
    },
    {
     "name": "stdout",
     "output_type": "stream",
     "text": [
      "2025-04-21 03:44:26,031 - INFO - Downloaded logs_q4dzp7oo:v0 to /scratch/downloaded_artifacts/logs_q4dzp7oo:v0\n"
     ]
    },
    {
     "name": "stderr",
     "output_type": "stream",
     "text": [
      "\u001b[34m\u001b[1mwandb\u001b[0m:   1 of 1 files downloaded.  \n"
     ]
    },
    {
     "name": "stdout",
     "output_type": "stream",
     "text": [
      "2025-04-21 03:44:26,068 - INFO - Downloaded logs_owpmcrj3:v0 to /scratch/downloaded_artifacts/logs_owpmcrj3:v0\n"
     ]
    },
    {
     "name": "stderr",
     "output_type": "stream",
     "text": [
      "\u001b[34m\u001b[1mwandb\u001b[0m:   1 of 1 files downloaded.  \n"
     ]
    },
    {
     "name": "stdout",
     "output_type": "stream",
     "text": [
      "2025-04-21 03:44:26,173 - INFO - Downloaded logs_pbqhjmq2:v0 to /scratch/downloaded_artifacts/logs_pbqhjmq2:v0\n"
     ]
    },
    {
     "name": "stderr",
     "output_type": "stream",
     "text": [
      "\u001b[34m\u001b[1mwandb\u001b[0m:   1 of 1 files downloaded.  \n"
     ]
    },
    {
     "name": "stdout",
     "output_type": "stream",
     "text": [
      "2025-04-21 03:44:26,215 - INFO - Downloaded logs_s40o2mwx:v0 to /scratch/downloaded_artifacts/logs_s40o2mwx:v0\n"
     ]
    },
    {
     "name": "stderr",
     "output_type": "stream",
     "text": [
      "\u001b[34m\u001b[1mwandb\u001b[0m:   1 of 1 files downloaded.  \n"
     ]
    },
    {
     "name": "stdout",
     "output_type": "stream",
     "text": [
      "2025-04-21 03:44:26,243 - INFO - Downloaded logs_rv8ubuna:v0 to /scratch/downloaded_artifacts/logs_rv8ubuna:v0\n"
     ]
    },
    {
     "name": "stderr",
     "output_type": "stream",
     "text": [
      "\u001b[34m\u001b[1mwandb\u001b[0m:   1 of 1 files downloaded.  \n"
     ]
    },
    {
     "name": "stdout",
     "output_type": "stream",
     "text": [
      "2025-04-21 03:44:26,288 - INFO - Downloaded logs_qachrauv:v0 to /scratch/downloaded_artifacts/logs_qachrauv:v0\n"
     ]
    },
    {
     "name": "stderr",
     "output_type": "stream",
     "text": [
      "\u001b[34m\u001b[1mwandb\u001b[0m:   1 of 1 files downloaded.  \n"
     ]
    },
    {
     "name": "stdout",
     "output_type": "stream",
     "text": [
      "2025-04-21 03:44:27,183 - INFO - Downloaded logs_tsgbqpnt:v0 to /scratch/downloaded_artifacts/logs_tsgbqpnt:v0\n"
     ]
    },
    {
     "name": "stderr",
     "output_type": "stream",
     "text": [
      "\u001b[34m\u001b[1mwandb\u001b[0m:   1 of 1 files downloaded.  \n"
     ]
    },
    {
     "name": "stdout",
     "output_type": "stream",
     "text": [
      "2025-04-21 03:44:27,450 - INFO - Downloaded logs_uxbq0qt6:v0 to /scratch/downloaded_artifacts/logs_uxbq0qt6:v0\n"
     ]
    },
    {
     "name": "stderr",
     "output_type": "stream",
     "text": [
      "\u001b[34m\u001b[1mwandb\u001b[0m:   1 of 1 files downloaded.  \n"
     ]
    },
    {
     "name": "stdout",
     "output_type": "stream",
     "text": [
      "2025-04-21 03:44:27,634 - INFO - Downloaded logs_wfu7wlko:v0 to /scratch/downloaded_artifacts/logs_wfu7wlko:v0\n"
     ]
    },
    {
     "name": "stderr",
     "output_type": "stream",
     "text": [
      "\u001b[34m\u001b[1mwandb\u001b[0m:   1 of 1 files downloaded.  \n"
     ]
    },
    {
     "name": "stdout",
     "output_type": "stream",
     "text": [
      "2025-04-21 03:44:28,351 - INFO - Downloaded logs_ynua74ms:v0 to /scratch/downloaded_artifacts/logs_ynua74ms:v0\n"
     ]
    },
    {
     "name": "stderr",
     "output_type": "stream",
     "text": [
      "\u001b[34m\u001b[1mwandb\u001b[0m:   1 of 1 files downloaded.  \n"
     ]
    },
    {
     "name": "stdout",
     "output_type": "stream",
     "text": [
      "2025-04-21 03:44:28,369 - INFO - Downloaded logs_yzjn3jwe:v0 to /scratch/downloaded_artifacts/logs_yzjn3jwe:v0\n"
     ]
    },
    {
     "name": "stderr",
     "output_type": "stream",
     "text": [
      "\u001b[34m\u001b[1mwandb\u001b[0m:   1 of 1 files downloaded.  \n"
     ]
    },
    {
     "name": "stdout",
     "output_type": "stream",
     "text": [
      "2025-04-21 03:44:28,575 - INFO - Downloaded logs_vexs4rw5:v0 to /scratch/downloaded_artifacts/logs_vexs4rw5:v0\n"
     ]
    },
    {
     "name": "stderr",
     "output_type": "stream",
     "text": [
      "\u001b[34m\u001b[1mwandb\u001b[0m:   1 of 1 files downloaded.  \n"
     ]
    },
    {
     "name": "stdout",
     "output_type": "stream",
     "text": [
      "2025-04-21 03:44:28,707 - INFO - Downloaded logs_10uolxzu:v0 to /scratch/downloaded_artifacts/logs_10uolxzu:v0\n"
     ]
    },
    {
     "name": "stderr",
     "output_type": "stream",
     "text": [
      "\u001b[34m\u001b[1mwandb\u001b[0m:   1 of 1 files downloaded.  \n"
     ]
    },
    {
     "name": "stdout",
     "output_type": "stream",
     "text": [
      "2025-04-21 03:44:28,717 - INFO - Downloaded logs_u5hdn2kx:v0 to /scratch/downloaded_artifacts/logs_u5hdn2kx:v0\n"
     ]
    },
    {
     "name": "stderr",
     "output_type": "stream",
     "text": [
      "\u001b[34m\u001b[1mwandb\u001b[0m:   1 of 1 files downloaded.  \n"
     ]
    },
    {
     "name": "stdout",
     "output_type": "stream",
     "text": [
      "2025-04-21 03:44:28,770 - INFO - Downloaded logs_wjffi7rq:v0 to /scratch/downloaded_artifacts/logs_wjffi7rq:v0\n"
     ]
    },
    {
     "name": "stderr",
     "output_type": "stream",
     "text": [
      "\u001b[34m\u001b[1mwandb\u001b[0m:   1 of 1 files downloaded.  \n"
     ]
    },
    {
     "name": "stdout",
     "output_type": "stream",
     "text": [
      "2025-04-21 03:44:28,830 - INFO - Downloaded logs_1essm6nr:v0 to /scratch/downloaded_artifacts/logs_1essm6nr:v0\n"
     ]
    },
    {
     "name": "stderr",
     "output_type": "stream",
     "text": [
      "\u001b[34m\u001b[1mwandb\u001b[0m:   1 of 1 files downloaded.  \n"
     ]
    },
    {
     "name": "stdout",
     "output_type": "stream",
     "text": [
      "2025-04-21 03:44:28,834 - INFO - Downloaded logs_8l1ftcrb:v0 to /scratch/downloaded_artifacts/logs_8l1ftcrb:v0\n"
     ]
    },
    {
     "name": "stderr",
     "output_type": "stream",
     "text": [
      "\u001b[34m\u001b[1mwandb\u001b[0m:   1 of 1 files downloaded.  \n"
     ]
    },
    {
     "name": "stdout",
     "output_type": "stream",
     "text": [
      "2025-04-21 03:44:28,978 - INFO - Downloaded logs_51bas4kc:v0 to /scratch/downloaded_artifacts/logs_51bas4kc:v0\n"
     ]
    },
    {
     "name": "stderr",
     "output_type": "stream",
     "text": [
      "\u001b[34m\u001b[1mwandb\u001b[0m:   1 of 1 files downloaded.  \n"
     ]
    },
    {
     "name": "stdout",
     "output_type": "stream",
     "text": [
      "2025-04-21 03:44:29,012 - INFO - Downloaded logs_wtam6jju:v0 to /scratch/downloaded_artifacts/logs_wtam6jju:v0\n"
     ]
    },
    {
     "name": "stderr",
     "output_type": "stream",
     "text": [
      "\u001b[34m\u001b[1mwandb\u001b[0m:   1 of 1 files downloaded.  \n"
     ]
    },
    {
     "name": "stdout",
     "output_type": "stream",
     "text": [
      "2025-04-21 03:44:29,065 - INFO - Downloaded logs_49wvqsbx:v0 to /scratch/downloaded_artifacts/logs_49wvqsbx:v0\n"
     ]
    },
    {
     "name": "stderr",
     "output_type": "stream",
     "text": [
      "\u001b[34m\u001b[1mwandb\u001b[0m:   1 of 1 files downloaded.  \n"
     ]
    },
    {
     "name": "stdout",
     "output_type": "stream",
     "text": [
      "2025-04-21 03:44:29,143 - INFO - Downloaded logs_y8kdqbu6:v0 to /scratch/downloaded_artifacts/logs_y8kdqbu6:v0\n"
     ]
    },
    {
     "name": "stderr",
     "output_type": "stream",
     "text": [
      "\u001b[34m\u001b[1mwandb\u001b[0m:   1 of 1 files downloaded.  \n"
     ]
    },
    {
     "name": "stdout",
     "output_type": "stream",
     "text": [
      "2025-04-21 03:44:29,211 - INFO - Downloaded logs_xkc2ccru:v0 to /scratch/downloaded_artifacts/logs_xkc2ccru:v0\n"
     ]
    },
    {
     "name": "stderr",
     "output_type": "stream",
     "text": [
      "\u001b[34m\u001b[1mwandb\u001b[0m:   1 of 1 files downloaded.  \n"
     ]
    },
    {
     "name": "stdout",
     "output_type": "stream",
     "text": [
      "2025-04-21 03:44:29,220 - INFO - Downloaded logs_wtq4cwyz:v0 to /scratch/downloaded_artifacts/logs_wtq4cwyz:v0\n"
     ]
    },
    {
     "name": "stderr",
     "output_type": "stream",
     "text": [
      "\u001b[34m\u001b[1mwandb\u001b[0m:   1 of 1 files downloaded.  \n"
     ]
    },
    {
     "name": "stdout",
     "output_type": "stream",
     "text": [
      "2025-04-21 03:44:29,305 - INFO - Downloaded logs_4ar8irsu:v0 to /scratch/downloaded_artifacts/logs_4ar8irsu:v0\n"
     ]
    },
    {
     "name": "stderr",
     "output_type": "stream",
     "text": [
      "\u001b[34m\u001b[1mwandb\u001b[0m:   1 of 1 files downloaded.  \n"
     ]
    },
    {
     "name": "stdout",
     "output_type": "stream",
     "text": [
      "2025-04-21 03:44:29,316 - INFO - Downloaded logs_5xbyxvhr:v0 to /scratch/downloaded_artifacts/logs_5xbyxvhr:v0\n"
     ]
    },
    {
     "name": "stderr",
     "output_type": "stream",
     "text": [
      "\u001b[34m\u001b[1mwandb\u001b[0m:   1 of 1 files downloaded.  \n"
     ]
    },
    {
     "name": "stdout",
     "output_type": "stream",
     "text": [
      "2025-04-21 03:44:29,350 - INFO - Downloaded logs_ct98q3fl:v0 to /scratch/downloaded_artifacts/logs_ct98q3fl:v0\n"
     ]
    },
    {
     "name": "stderr",
     "output_type": "stream",
     "text": [
      "\u001b[34m\u001b[1mwandb\u001b[0m:   1 of 1 files downloaded.  \n"
     ]
    },
    {
     "name": "stdout",
     "output_type": "stream",
     "text": [
      "2025-04-21 03:44:29,669 - INFO - Downloaded logs_73egatu9:v0 to /scratch/downloaded_artifacts/logs_73egatu9:v0\n"
     ]
    },
    {
     "name": "stderr",
     "output_type": "stream",
     "text": [
      "\u001b[34m\u001b[1mwandb\u001b[0m:   1 of 1 files downloaded.  \n"
     ]
    },
    {
     "name": "stdout",
     "output_type": "stream",
     "text": [
      "2025-04-21 03:44:29,818 - INFO - Downloaded logs_ax7o1nto:v0 to /scratch/downloaded_artifacts/logs_ax7o1nto:v0\n"
     ]
    },
    {
     "name": "stderr",
     "output_type": "stream",
     "text": [
      "\u001b[34m\u001b[1mwandb\u001b[0m:   1 of 1 files downloaded.  \n"
     ]
    },
    {
     "name": "stdout",
     "output_type": "stream",
     "text": [
      "2025-04-21 03:44:29,966 - INFO - Downloaded logs_e11xj9wf:v0 to /scratch/downloaded_artifacts/logs_e11xj9wf:v0\n"
     ]
    },
    {
     "name": "stderr",
     "output_type": "stream",
     "text": [
      "\u001b[34m\u001b[1mwandb\u001b[0m:   1 of 1 files downloaded.  \n"
     ]
    },
    {
     "name": "stdout",
     "output_type": "stream",
     "text": [
      "2025-04-21 03:44:30,579 - INFO - Downloaded logs_lxwgejig:v0 to /scratch/downloaded_artifacts/logs_lxwgejig:v0\n"
     ]
    },
    {
     "name": "stderr",
     "output_type": "stream",
     "text": [
      "\u001b[34m\u001b[1mwandb\u001b[0m:   1 of 1 files downloaded.  \n"
     ]
    },
    {
     "name": "stdout",
     "output_type": "stream",
     "text": [
      "2025-04-21 03:44:30,600 - INFO - Downloaded logs_e67e4ghm:v0 to /scratch/downloaded_artifacts/logs_e67e4ghm:v0\n"
     ]
    },
    {
     "name": "stderr",
     "output_type": "stream",
     "text": [
      "\u001b[34m\u001b[1mwandb\u001b[0m:   1 of 1 files downloaded.  \n"
     ]
    },
    {
     "name": "stdout",
     "output_type": "stream",
     "text": [
      "2025-04-21 03:44:31,006 - INFO - Downloaded logs_p8p123hf:v0 to /scratch/downloaded_artifacts/logs_p8p123hf:v0\n"
     ]
    },
    {
     "name": "stderr",
     "output_type": "stream",
     "text": [
      "\u001b[34m\u001b[1mwandb\u001b[0m:   1 of 1 files downloaded.  \n"
     ]
    },
    {
     "name": "stdout",
     "output_type": "stream",
     "text": [
      "2025-04-21 03:44:31,248 - INFO - Downloaded logs_rm9uwy3x:v0 to /scratch/downloaded_artifacts/logs_rm9uwy3x:v0\n"
     ]
    },
    {
     "name": "stderr",
     "output_type": "stream",
     "text": [
      "\u001b[34m\u001b[1mwandb\u001b[0m:   1 of 1 files downloaded.  \n"
     ]
    },
    {
     "name": "stdout",
     "output_type": "stream",
     "text": [
      "2025-04-21 03:44:31,313 - INFO - Downloaded logs_54rnhjim:v0 to /scratch/downloaded_artifacts/logs_54rnhjim:v0\n"
     ]
    },
    {
     "name": "stderr",
     "output_type": "stream",
     "text": [
      "\u001b[34m\u001b[1mwandb\u001b[0m:   1 of 1 files downloaded.  \n"
     ]
    },
    {
     "name": "stdout",
     "output_type": "stream",
     "text": [
      "2025-04-21 03:44:31,328 - INFO - Downloaded logs_s6vypqia:v0 to /scratch/downloaded_artifacts/logs_s6vypqia:v0\n"
     ]
    },
    {
     "name": "stderr",
     "output_type": "stream",
     "text": [
      "\u001b[34m\u001b[1mwandb\u001b[0m:   1 of 1 files downloaded.  \n"
     ]
    },
    {
     "name": "stdout",
     "output_type": "stream",
     "text": [
      "2025-04-21 03:44:31,347 - INFO - Downloaded logs_rn872ef5:v0 to /scratch/downloaded_artifacts/logs_rn872ef5:v0\n"
     ]
    },
    {
     "name": "stderr",
     "output_type": "stream",
     "text": [
      "\u001b[34m\u001b[1mwandb\u001b[0m:   1 of 1 files downloaded.  \n"
     ]
    },
    {
     "name": "stdout",
     "output_type": "stream",
     "text": [
      "2025-04-21 03:44:31,761 - INFO - Downloaded logs_uawh7ltg:v0 to /scratch/downloaded_artifacts/logs_uawh7ltg:v0\n"
     ]
    },
    {
     "name": "stderr",
     "output_type": "stream",
     "text": [
      "\u001b[34m\u001b[1mwandb\u001b[0m:   1 of 1 files downloaded.  \n"
     ]
    },
    {
     "name": "stdout",
     "output_type": "stream",
     "text": [
      "2025-04-21 03:44:31,918 - INFO - Downloaded logs_7kr14al3:v0 to /scratch/downloaded_artifacts/logs_7kr14al3:v0\n"
     ]
    },
    {
     "name": "stderr",
     "output_type": "stream",
     "text": [
      "\u001b[34m\u001b[1mwandb\u001b[0m:   1 of 1 files downloaded.  \n"
     ]
    },
    {
     "name": "stdout",
     "output_type": "stream",
     "text": [
      "2025-04-21 03:44:31,957 - INFO - Downloaded logs_8u8xs4yd:v0 to /scratch/downloaded_artifacts/logs_8u8xs4yd:v0\n"
     ]
    },
    {
     "name": "stderr",
     "output_type": "stream",
     "text": [
      "\u001b[34m\u001b[1mwandb\u001b[0m:   1 of 1 files downloaded.  \n",
      "\u001b[34m\u001b[1mwandb\u001b[0m:   1 of 1 files downloaded.  \n"
     ]
    },
    {
     "name": "stdout",
     "output_type": "stream",
     "text": [
      "2025-04-21 03:44:31,991 - INFO - Downloaded logs_831z849u:v0 to /scratch/downloaded_artifacts/logs_831z849u:v0\n",
      "2025-04-21 03:44:31,996 - INFO - Downloaded logs_v4a8wkxw:v0 to /scratch/downloaded_artifacts/logs_v4a8wkxw:v0\n"
     ]
    },
    {
     "name": "stderr",
     "output_type": "stream",
     "text": [
      "\u001b[34m\u001b[1mwandb\u001b[0m:   1 of 1 files downloaded.  \n"
     ]
    },
    {
     "name": "stdout",
     "output_type": "stream",
     "text": [
      "2025-04-21 03:44:32,030 - INFO - Downloaded logs_8uqi4owo:v0 to /scratch/downloaded_artifacts/logs_8uqi4owo:v0\n"
     ]
    },
    {
     "name": "stderr",
     "output_type": "stream",
     "text": [
      "\u001b[34m\u001b[1mwandb\u001b[0m:   1 of 1 files downloaded.  \n",
      "\u001b[34m\u001b[1mwandb\u001b[0m:   1 of 1 files downloaded.  \n"
     ]
    },
    {
     "name": "stdout",
     "output_type": "stream",
     "text": [
      "2025-04-21 03:44:32,171 - INFO - Downloaded logs_5upx2j14:v0 to /scratch/downloaded_artifacts/logs_5upx2j14:v0\n",
      "2025-04-21 03:44:32,171 - INFO - Downloaded logs_al807cqb:v0 to /scratch/downloaded_artifacts/logs_al807cqb:v0\n"
     ]
    },
    {
     "name": "stderr",
     "output_type": "stream",
     "text": [
      "\u001b[34m\u001b[1mwandb\u001b[0m:   1 of 1 files downloaded.  \n"
     ]
    },
    {
     "name": "stdout",
     "output_type": "stream",
     "text": [
      "2025-04-21 03:44:32,222 - INFO - Downloaded logs_a54i018b:v0 to /scratch/downloaded_artifacts/logs_a54i018b:v0\n"
     ]
    },
    {
     "name": "stderr",
     "output_type": "stream",
     "text": [
      "\u001b[34m\u001b[1mwandb\u001b[0m:   1 of 1 files downloaded.  \n"
     ]
    },
    {
     "name": "stdout",
     "output_type": "stream",
     "text": [
      "2025-04-21 03:44:32,234 - INFO - Downloaded logs_by4l7y2h:v0 to /scratch/downloaded_artifacts/logs_by4l7y2h:v0\n"
     ]
    },
    {
     "name": "stderr",
     "output_type": "stream",
     "text": [
      "\u001b[34m\u001b[1mwandb\u001b[0m:   1 of 1 files downloaded.  \n"
     ]
    },
    {
     "name": "stdout",
     "output_type": "stream",
     "text": [
      "2025-04-21 03:44:32,523 - INFO - Downloaded logs_f6nnamfs:v0 to /scratch/downloaded_artifacts/logs_f6nnamfs:v0\n"
     ]
    },
    {
     "name": "stderr",
     "output_type": "stream",
     "text": [
      "\u001b[34m\u001b[1mwandb\u001b[0m:   1 of 1 files downloaded.  \n"
     ]
    },
    {
     "name": "stdout",
     "output_type": "stream",
     "text": [
      "2025-04-21 03:44:32,635 - INFO - Downloaded logs_fdhbzi4g:v0 to /scratch/downloaded_artifacts/logs_fdhbzi4g:v0\n"
     ]
    },
    {
     "name": "stderr",
     "output_type": "stream",
     "text": [
      "\u001b[34m\u001b[1mwandb\u001b[0m:   1 of 1 files downloaded.  \n"
     ]
    },
    {
     "name": "stdout",
     "output_type": "stream",
     "text": [
      "2025-04-21 03:44:32,671 - INFO - Downloaded logs_d7u4ewrn:v0 to /scratch/downloaded_artifacts/logs_d7u4ewrn:v0\n"
     ]
    },
    {
     "name": "stderr",
     "output_type": "stream",
     "text": [
      "\u001b[34m\u001b[1mwandb\u001b[0m:   1 of 1 files downloaded.  \n"
     ]
    },
    {
     "name": "stdout",
     "output_type": "stream",
     "text": [
      "2025-04-21 03:44:33,021 - INFO - Downloaded logs_h39pfwso:v0 to /scratch/downloaded_artifacts/logs_h39pfwso:v0\n"
     ]
    },
    {
     "name": "stderr",
     "output_type": "stream",
     "text": [
      "\u001b[34m\u001b[1mwandb\u001b[0m:   1 of 1 files downloaded.  \n"
     ]
    },
    {
     "name": "stdout",
     "output_type": "stream",
     "text": [
      "2025-04-21 03:44:33,329 - INFO - Downloaded logs_hdaxofve:v0 to /scratch/downloaded_artifacts/logs_hdaxofve:v0\n"
     ]
    },
    {
     "name": "stderr",
     "output_type": "stream",
     "text": [
      "\u001b[34m\u001b[1mwandb\u001b[0m:   1 of 1 files downloaded.  \n"
     ]
    },
    {
     "name": "stdout",
     "output_type": "stream",
     "text": [
      "2025-04-21 03:44:33,372 - INFO - Downloaded logs_ijatfjxk:v0 to /scratch/downloaded_artifacts/logs_ijatfjxk:v0\n"
     ]
    },
    {
     "name": "stderr",
     "output_type": "stream",
     "text": [
      "\u001b[34m\u001b[1mwandb\u001b[0m:   1 of 1 files downloaded.  \n"
     ]
    },
    {
     "name": "stdout",
     "output_type": "stream",
     "text": [
      "2025-04-21 03:44:33,576 - INFO - Downloaded logs_kkwpa2r0:v0 to /scratch/downloaded_artifacts/logs_kkwpa2r0:v0\n"
     ]
    },
    {
     "name": "stderr",
     "output_type": "stream",
     "text": [
      "\u001b[34m\u001b[1mwandb\u001b[0m:   1 of 1 files downloaded.  \n"
     ]
    },
    {
     "name": "stdout",
     "output_type": "stream",
     "text": [
      "2025-04-21 03:44:33,719 - INFO - Downloaded logs_lt65ujo8:v0 to /scratch/downloaded_artifacts/logs_lt65ujo8:v0\n"
     ]
    },
    {
     "name": "stderr",
     "output_type": "stream",
     "text": [
      "\u001b[34m\u001b[1mwandb\u001b[0m:   1 of 1 files downloaded.  \n"
     ]
    },
    {
     "name": "stdout",
     "output_type": "stream",
     "text": [
      "2025-04-21 03:44:33,732 - INFO - Downloaded logs_pg79y6mf:v0 to /scratch/downloaded_artifacts/logs_pg79y6mf:v0\n"
     ]
    },
    {
     "name": "stderr",
     "output_type": "stream",
     "text": [
      "\u001b[34m\u001b[1mwandb\u001b[0m:   1 of 1 files downloaded.  \n"
     ]
    },
    {
     "name": "stdout",
     "output_type": "stream",
     "text": [
      "2025-04-21 03:44:33,778 - INFO - Downloaded logs_ph5xj7bz:v0 to /scratch/downloaded_artifacts/logs_ph5xj7bz:v0\n"
     ]
    },
    {
     "name": "stderr",
     "output_type": "stream",
     "text": [
      "\u001b[34m\u001b[1mwandb\u001b[0m:   1 of 1 files downloaded.  \n"
     ]
    },
    {
     "name": "stdout",
     "output_type": "stream",
     "text": [
      "2025-04-21 03:44:34,250 - INFO - Downloaded logs_r4q9prnp:v0 to /scratch/downloaded_artifacts/logs_r4q9prnp:v0\n"
     ]
    },
    {
     "name": "stderr",
     "output_type": "stream",
     "text": [
      "\u001b[34m\u001b[1mwandb\u001b[0m:   1 of 1 files downloaded.  \n"
     ]
    },
    {
     "name": "stdout",
     "output_type": "stream",
     "text": [
      "2025-04-21 03:44:34,607 - INFO - Downloaded logs_vgtowgs1:v0 to /scratch/downloaded_artifacts/logs_vgtowgs1:v0\n"
     ]
    },
    {
     "name": "stderr",
     "output_type": "stream",
     "text": [
      "\u001b[34m\u001b[1mwandb\u001b[0m:   1 of 1 files downloaded.  \n"
     ]
    },
    {
     "name": "stdout",
     "output_type": "stream",
     "text": [
      "2025-04-21 03:44:34,631 - INFO - Downloaded logs_0j6p1hrr:v0 to /scratch/downloaded_artifacts/logs_0j6p1hrr:v0\n"
     ]
    },
    {
     "name": "stderr",
     "output_type": "stream",
     "text": [
      "\u001b[34m\u001b[1mwandb\u001b[0m:   1 of 1 files downloaded.  \n"
     ]
    },
    {
     "name": "stdout",
     "output_type": "stream",
     "text": [
      "2025-04-21 03:44:34,691 - INFO - Downloaded logs_x6j1et5t:v0 to /scratch/downloaded_artifacts/logs_x6j1et5t:v0\n"
     ]
    },
    {
     "name": "stderr",
     "output_type": "stream",
     "text": [
      "\u001b[34m\u001b[1mwandb\u001b[0m:   1 of 1 files downloaded.  \n"
     ]
    },
    {
     "name": "stdout",
     "output_type": "stream",
     "text": [
      "2025-04-21 03:44:34,729 - INFO - Downloaded logs_xzog9ha4:v0 to /scratch/downloaded_artifacts/logs_xzog9ha4:v0\n"
     ]
    },
    {
     "name": "stderr",
     "output_type": "stream",
     "text": [
      "\u001b[34m\u001b[1mwandb\u001b[0m:   1 of 1 files downloaded.  \n"
     ]
    },
    {
     "name": "stdout",
     "output_type": "stream",
     "text": [
      "2025-04-21 03:44:34,966 - INFO - Downloaded logs_0nh3mi5a:v0 to /scratch/downloaded_artifacts/logs_0nh3mi5a:v0\n"
     ]
    },
    {
     "name": "stderr",
     "output_type": "stream",
     "text": [
      "\u001b[34m\u001b[1mwandb\u001b[0m:   1 of 1 files downloaded.  \n"
     ]
    },
    {
     "name": "stdout",
     "output_type": "stream",
     "text": [
      "2025-04-21 03:44:35,041 - INFO - Downloaded logs_y7q4g7m5:v0 to /scratch/downloaded_artifacts/logs_y7q4g7m5:v0\n"
     ]
    },
    {
     "name": "stderr",
     "output_type": "stream",
     "text": [
      "\u001b[34m\u001b[1mwandb\u001b[0m:   1 of 1 files downloaded.  \n"
     ]
    },
    {
     "name": "stdout",
     "output_type": "stream",
     "text": [
      "2025-04-21 03:44:35,055 - INFO - Downloaded logs_0qn5ih1v:v0 to /scratch/downloaded_artifacts/logs_0qn5ih1v:v0\n"
     ]
    },
    {
     "name": "stderr",
     "output_type": "stream",
     "text": [
      "\u001b[34m\u001b[1mwandb\u001b[0m:   1 of 1 files downloaded.  \n"
     ]
    },
    {
     "name": "stdout",
     "output_type": "stream",
     "text": [
      "2025-04-21 03:44:35,183 - INFO - Downloaded logs_0kpgscu5:v0 to /scratch/downloaded_artifacts/logs_0kpgscu5:v0\n"
     ]
    },
    {
     "name": "stderr",
     "output_type": "stream",
     "text": [
      "\u001b[34m\u001b[1mwandb\u001b[0m:   1 of 1 files downloaded.  \n"
     ]
    },
    {
     "name": "stdout",
     "output_type": "stream",
     "text": [
      "2025-04-21 03:44:35,223 - INFO - Downloaded logs_3kh2dmey:v0 to /scratch/downloaded_artifacts/logs_3kh2dmey:v0\n"
     ]
    },
    {
     "name": "stderr",
     "output_type": "stream",
     "text": [
      "\u001b[34m\u001b[1mwandb\u001b[0m:   1 of 1 files downloaded.  \n"
     ]
    },
    {
     "name": "stdout",
     "output_type": "stream",
     "text": [
      "2025-04-21 03:44:35,323 - INFO - Downloaded logs_dzhvkw66:v0 to /scratch/downloaded_artifacts/logs_dzhvkw66:v0\n"
     ]
    },
    {
     "name": "stderr",
     "output_type": "stream",
     "text": [
      "\u001b[34m\u001b[1mwandb\u001b[0m:   1 of 1 files downloaded.  \n"
     ]
    },
    {
     "name": "stdout",
     "output_type": "stream",
     "text": [
      "2025-04-21 03:44:35,473 - INFO - Downloaded logs_e1ajlvby:v0 to /scratch/downloaded_artifacts/logs_e1ajlvby:v0\n"
     ]
    },
    {
     "name": "stderr",
     "output_type": "stream",
     "text": [
      "\u001b[34m\u001b[1mwandb\u001b[0m:   1 of 1 files downloaded.  \n"
     ]
    },
    {
     "name": "stdout",
     "output_type": "stream",
     "text": [
      "2025-04-21 03:44:35,519 - INFO - Downloaded logs_e5hsec6x:v0 to /scratch/downloaded_artifacts/logs_e5hsec6x:v0\n"
     ]
    },
    {
     "name": "stderr",
     "output_type": "stream",
     "text": [
      "\u001b[34m\u001b[1mwandb\u001b[0m:   1 of 1 files downloaded.  \n"
     ]
    },
    {
     "name": "stdout",
     "output_type": "stream",
     "text": [
      "2025-04-21 03:44:36,337 - INFO - Downloaded logs_fnrn8rrt:v0 to /scratch/downloaded_artifacts/logs_fnrn8rrt:v0\n"
     ]
    },
    {
     "name": "stderr",
     "output_type": "stream",
     "text": [
      "\u001b[34m\u001b[1mwandb\u001b[0m:   1 of 1 files downloaded.  \n"
     ]
    },
    {
     "name": "stdout",
     "output_type": "stream",
     "text": [
      "2025-04-21 03:44:36,479 - INFO - Downloaded logs_gcq9nsbq:v0 to /scratch/downloaded_artifacts/logs_gcq9nsbq:v0\n"
     ]
    },
    {
     "name": "stderr",
     "output_type": "stream",
     "text": [
      "\u001b[34m\u001b[1mwandb\u001b[0m:   1 of 1 files downloaded.  \n"
     ]
    },
    {
     "name": "stdout",
     "output_type": "stream",
     "text": [
      "2025-04-21 03:44:36,625 - INFO - Downloaded logs_i0y4hqqa:v0 to /scratch/downloaded_artifacts/logs_i0y4hqqa:v0\n"
     ]
    },
    {
     "name": "stderr",
     "output_type": "stream",
     "text": [
      "\u001b[34m\u001b[1mwandb\u001b[0m:   1 of 1 files downloaded.  \n"
     ]
    },
    {
     "name": "stdout",
     "output_type": "stream",
     "text": [
      "2025-04-21 03:44:36,652 - INFO - Downloaded logs_k300z2ca:v0 to /scratch/downloaded_artifacts/logs_k300z2ca:v0\n"
     ]
    },
    {
     "name": "stderr",
     "output_type": "stream",
     "text": [
      "\u001b[34m\u001b[1mwandb\u001b[0m:   1 of 1 files downloaded.  \n"
     ]
    },
    {
     "name": "stdout",
     "output_type": "stream",
     "text": [
      "2025-04-21 03:44:36,895 - INFO - Downloaded logs_kx8smap7:v0 to /scratch/downloaded_artifacts/logs_kx8smap7:v0\n"
     ]
    },
    {
     "name": "stderr",
     "output_type": "stream",
     "text": [
      "\u001b[34m\u001b[1mwandb\u001b[0m:   1 of 1 files downloaded.  \n"
     ]
    },
    {
     "name": "stdout",
     "output_type": "stream",
     "text": [
      "2025-04-21 03:44:36,906 - INFO - Downloaded logs_ksaeaehh:v0 to /scratch/downloaded_artifacts/logs_ksaeaehh:v0\n"
     ]
    },
    {
     "name": "stderr",
     "output_type": "stream",
     "text": [
      "\u001b[34m\u001b[1mwandb\u001b[0m:   1 of 1 files downloaded.  \n"
     ]
    },
    {
     "name": "stdout",
     "output_type": "stream",
     "text": [
      "2025-04-21 03:44:36,918 - INFO - Downloaded logs_kco96huv:v0 to /scratch/downloaded_artifacts/logs_kco96huv:v0\n"
     ]
    },
    {
     "name": "stderr",
     "output_type": "stream",
     "text": [
      "\u001b[34m\u001b[1mwandb\u001b[0m:   1 of 1 files downloaded.  \n"
     ]
    },
    {
     "name": "stdout",
     "output_type": "stream",
     "text": [
      "2025-04-21 03:44:37,299 - INFO - Downloaded logs_m7cbus6k:v0 to /scratch/downloaded_artifacts/logs_m7cbus6k:v0\n"
     ]
    },
    {
     "name": "stderr",
     "output_type": "stream",
     "text": [
      "\u001b[34m\u001b[1mwandb\u001b[0m:   1 of 1 files downloaded.  \n"
     ]
    },
    {
     "name": "stdout",
     "output_type": "stream",
     "text": [
      "2025-04-21 03:44:37,628 - INFO - Downloaded logs_n1hqwdgw:v0 to /scratch/downloaded_artifacts/logs_n1hqwdgw:v0\n"
     ]
    },
    {
     "name": "stderr",
     "output_type": "stream",
     "text": [
      "\u001b[34m\u001b[1mwandb\u001b[0m: \u001b[33mWARNING\u001b[0m Cache size exceeded. Attempting to reclaim space...\n",
      "\u001b[34m\u001b[1mwandb\u001b[0m: \u001b[33mWARNING\u001b[0m Cache contains 285.8MB of temporary files. Run `wandb artifact cleanup --remove-temp` to remove them.\n",
      "\u001b[34m\u001b[1mwandb\u001b[0m: \u001b[33mWARNING\u001b[0m Cache size exceeded. Attempting to reclaim space...\n"
     ]
    },
    {
     "name": "stdout",
     "output_type": "stream",
     "text": [
      "2025-04-21 03:44:37,809 - ERROR - Error downloading artifact for run ylmcdf6s: [Errno 28] No space left on device\n",
      "2025-04-21 03:44:37,809 - ERROR - Error downloading artifact for run xanvbd9e: [Errno 28] No space left on device\n",
      "2025-04-21 03:44:37,809 - ERROR - Error downloading artifact for run pwgn83jq: [Errno 28] No space left on device\n",
      "2025-04-21 03:44:37,810 - ERROR - Error downloading artifact for run 0vavdlti: [Errno 28] No space left on device\n",
      "2025-04-21 03:44:37,810 - ERROR - Error downloading artifact for run 57qwa714: [Errno 28] No space left on device\n",
      "2025-04-21 03:44:37,810 - ERROR - Error downloading artifact for run wphscsks: [Errno 28] No space left on device\n",
      "2025-04-21 03:44:37,810 - ERROR - Error downloading artifact for run nr3ab10g: [Errno 28] No space left on device\n",
      "2025-04-21 03:44:37,810 - ERROR - Error downloading artifact for run txyill9d: [Errno 28] No space left on device\n",
      "2025-04-21 03:44:37,810 - ERROR - Error downloading artifact for run exxwg72h: [Errno 28] No space left on device\n",
      "2025-04-21 03:44:37,810 - ERROR - Error downloading artifact for run sww01fx5: [Errno 28] No space left on device\n",
      "2025-04-21 03:44:37,810 - ERROR - Error downloading artifact for run 12g9i0tz: [Errno 28] No space left on device\n",
      "2025-04-21 03:44:37,810 - ERROR - Error downloading artifact for run n2vs5q0w: [Errno 28] No space left on device\n",
      "2025-04-21 03:44:37,810 - ERROR - Error downloading artifact for run pxwt46p6: [Errno 28] No space left on device\n",
      "2025-04-21 03:44:37,811 - ERROR - Error downloading artifact for run qd7xlaw9: [Errno 28] No space left on device\n",
      "2025-04-21 03:44:37,811 - ERROR - Error downloading artifact for run f0utbaj5: [Errno 2] No such file or directory: '/home/wlp9800/.cache/wandb/artifacts/tmp/tmpxa44v3gw'\n",
      "2025-04-21 03:44:37,811 - ERROR - Error downloading artifact for run si3mxsma: [Errno 28] No space left on device\n",
      "2025-04-21 03:44:37,813 - ERROR - Error downloading artifact for run 3kwiqcrs: [Errno 28] No space left on device\n"
     ]
    },
    {
     "name": "stderr",
     "output_type": "stream",
     "text": [
      "\u001b[34m\u001b[1mwandb\u001b[0m:   1 of 1 files downloaded.  \n"
     ]
    },
    {
     "name": "stdout",
     "output_type": "stream",
     "text": [
      "2025-04-21 03:44:39,122 - INFO - Downloaded logs_h5q5wcjr:v0 to /scratch/downloaded_artifacts/logs_h5q5wcjr:v0\n"
     ]
    },
    {
     "name": "stderr",
     "output_type": "stream",
     "text": [
      "\u001b[34m\u001b[1mwandb\u001b[0m:   1 of 1 files downloaded.  \n"
     ]
    },
    {
     "name": "stdout",
     "output_type": "stream",
     "text": [
      "2025-04-21 03:44:39,182 - INFO - Downloaded logs_71l4f56i:v0 to /scratch/downloaded_artifacts/logs_71l4f56i:v0\n"
     ]
    },
    {
     "name": "stderr",
     "output_type": "stream",
     "text": [
      "\u001b[34m\u001b[1mwandb\u001b[0m:   1 of 1 files downloaded.  \n"
     ]
    },
    {
     "name": "stdout",
     "output_type": "stream",
     "text": [
      "2025-04-21 03:44:39,839 - INFO - Downloaded logs_hoqo5boj:v0 to /scratch/downloaded_artifacts/logs_hoqo5boj:v0\n"
     ]
    },
    {
     "name": "stderr",
     "output_type": "stream",
     "text": [
      "\u001b[34m\u001b[1mwandb\u001b[0m:   1 of 1 files downloaded.  \n"
     ]
    },
    {
     "name": "stdout",
     "output_type": "stream",
     "text": [
      "2025-04-21 03:44:40,490 - INFO - Downloaded logs_jlns94qo:v0 to /scratch/downloaded_artifacts/logs_jlns94qo:v0\n"
     ]
    },
    {
     "name": "stderr",
     "output_type": "stream",
     "text": [
      "\u001b[34m\u001b[1mwandb\u001b[0m:   1 of 1 files downloaded.  \n"
     ]
    },
    {
     "name": "stdout",
     "output_type": "stream",
     "text": [
      "2025-04-21 03:44:40,498 - INFO - Downloaded logs_ju6h6k8h:v0 to /scratch/downloaded_artifacts/logs_ju6h6k8h:v0\n"
     ]
    },
    {
     "name": "stderr",
     "output_type": "stream",
     "text": [
      "\u001b[34m\u001b[1mwandb\u001b[0m:   1 of 1 files downloaded.  \n"
     ]
    },
    {
     "name": "stdout",
     "output_type": "stream",
     "text": [
      "2025-04-21 03:44:40,548 - INFO - Downloaded logs_254vhw1g:v0 to /scratch/downloaded_artifacts/logs_254vhw1g:v0\n"
     ]
    },
    {
     "name": "stderr",
     "output_type": "stream",
     "text": [
      "\u001b[34m\u001b[1mwandb\u001b[0m:   1 of 1 files downloaded.  \n"
     ]
    },
    {
     "name": "stdout",
     "output_type": "stream",
     "text": [
      "2025-04-21 03:44:40,580 - INFO - Downloaded logs_txvh44v8:v0 to /scratch/downloaded_artifacts/logs_txvh44v8:v0\n"
     ]
    },
    {
     "name": "stderr",
     "output_type": "stream",
     "text": [
      "\u001b[34m\u001b[1mwandb\u001b[0m:   1 of 1 files downloaded.  \n"
     ]
    },
    {
     "name": "stdout",
     "output_type": "stream",
     "text": [
      "2025-04-21 03:44:40,595 - INFO - Downloaded logs_1mvems9h:v0 to /scratch/downloaded_artifacts/logs_1mvems9h:v0\n"
     ]
    },
    {
     "name": "stderr",
     "output_type": "stream",
     "text": [
      "\u001b[34m\u001b[1mwandb\u001b[0m:   1 of 1 files downloaded.  \n"
     ]
    },
    {
     "name": "stdout",
     "output_type": "stream",
     "text": [
      "2025-04-21 03:44:40,634 - INFO - Downloaded logs_2jp9w6ll:v0 to /scratch/downloaded_artifacts/logs_2jp9w6ll:v0\n"
     ]
    },
    {
     "name": "stderr",
     "output_type": "stream",
     "text": [
      "\u001b[34m\u001b[1mwandb\u001b[0m:   1 of 1 files downloaded.  \n"
     ]
    },
    {
     "name": "stdout",
     "output_type": "stream",
     "text": [
      "2025-04-21 03:44:40,670 - INFO - Downloaded logs_0xq03wd8:v0 to /scratch/downloaded_artifacts/logs_0xq03wd8:v0\n"
     ]
    },
    {
     "name": "stderr",
     "output_type": "stream",
     "text": [
      "\u001b[34m\u001b[1mwandb\u001b[0m:   1 of 1 files downloaded.  \n",
      "\u001b[34m\u001b[1mwandb\u001b[0m:   1 of 1 files downloaded.  \n"
     ]
    },
    {
     "name": "stdout",
     "output_type": "stream",
     "text": [
      "2025-04-21 03:44:40,680 - INFO - Downloaded logs_2d933dbl:v0 to /scratch/downloaded_artifacts/logs_2d933dbl:v0\n",
      "2025-04-21 03:44:40,683 - INFO - Downloaded logs_idi00shi:v0 to /scratch/downloaded_artifacts/logs_idi00shi:v0\n"
     ]
    },
    {
     "name": "stderr",
     "output_type": "stream",
     "text": [
      "\u001b[34m\u001b[1mwandb\u001b[0m:   1 of 1 files downloaded.  \n",
      "\u001b[34m\u001b[1mwandb\u001b[0m:   1 of 1 files downloaded.  \n"
     ]
    },
    {
     "name": "stdout",
     "output_type": "stream",
     "text": [
      "2025-04-21 03:44:40,776 - INFO - Downloaded logs_zmx31t6x:v0 to /scratch/downloaded_artifacts/logs_zmx31t6x:v0\n",
      "2025-04-21 03:44:40,778 - INFO - Downloaded logs_3i779yzf:v0 to /scratch/downloaded_artifacts/logs_3i779yzf:v0\n"
     ]
    },
    {
     "name": "stderr",
     "output_type": "stream",
     "text": [
      "\u001b[34m\u001b[1mwandb\u001b[0m:   1 of 1 files downloaded.  \n"
     ]
    },
    {
     "name": "stdout",
     "output_type": "stream",
     "text": [
      "2025-04-21 03:44:40,789 - INFO - Downloaded logs_l9veng54:v0 to /scratch/downloaded_artifacts/logs_l9veng54:v0\n"
     ]
    },
    {
     "name": "stderr",
     "output_type": "stream",
     "text": [
      "\u001b[34m\u001b[1mwandb\u001b[0m:   1 of 1 files downloaded.  \n"
     ]
    },
    {
     "name": "stdout",
     "output_type": "stream",
     "text": [
      "2025-04-21 03:44:40,804 - INFO - Downloaded logs_wutpzrre:v0 to /scratch/downloaded_artifacts/logs_wutpzrre:v0\n"
     ]
    },
    {
     "name": "stderr",
     "output_type": "stream",
     "text": [
      "\u001b[34m\u001b[1mwandb\u001b[0m:   1 of 1 files downloaded.  \n"
     ]
    },
    {
     "name": "stdout",
     "output_type": "stream",
     "text": [
      "2025-04-21 03:44:40,841 - INFO - Downloaded logs_phzflbcd:v0 to /scratch/downloaded_artifacts/logs_phzflbcd:v0\n"
     ]
    },
    {
     "name": "stderr",
     "output_type": "stream",
     "text": [
      "\u001b[34m\u001b[1mwandb\u001b[0m:   1 of 1 files downloaded.  \n"
     ]
    },
    {
     "name": "stdout",
     "output_type": "stream",
     "text": [
      "2025-04-21 03:44:40,858 - INFO - Downloaded logs_up0lfpxo:v0 to /scratch/downloaded_artifacts/logs_up0lfpxo:v0\n"
     ]
    },
    {
     "name": "stderr",
     "output_type": "stream",
     "text": [
      "\u001b[34m\u001b[1mwandb\u001b[0m:   1 of 1 files downloaded.  \n"
     ]
    },
    {
     "name": "stdout",
     "output_type": "stream",
     "text": [
      "2025-04-21 03:44:40,921 - INFO - Downloaded logs_5685fhsz:v0 to /scratch/downloaded_artifacts/logs_5685fhsz:v0\n"
     ]
    },
    {
     "name": "stderr",
     "output_type": "stream",
     "text": [
      "\u001b[34m\u001b[1mwandb\u001b[0m:   1 of 1 files downloaded.  \n"
     ]
    },
    {
     "name": "stdout",
     "output_type": "stream",
     "text": [
      "2025-04-21 03:44:41,037 - INFO - Downloaded logs_tebv6wqo:v0 to /scratch/downloaded_artifacts/logs_tebv6wqo:v0\n"
     ]
    },
    {
     "name": "stderr",
     "output_type": "stream",
     "text": [
      "\u001b[34m\u001b[1mwandb\u001b[0m:   1 of 1 files downloaded.  \n"
     ]
    },
    {
     "name": "stdout",
     "output_type": "stream",
     "text": [
      "2025-04-21 03:44:41,385 - INFO - Downloaded logs_6qg834dt:v0 to /scratch/downloaded_artifacts/logs_6qg834dt:v0\n"
     ]
    },
    {
     "name": "stderr",
     "output_type": "stream",
     "text": [
      "\u001b[34m\u001b[1mwandb\u001b[0m:   1 of 1 files downloaded.  \n"
     ]
    },
    {
     "name": "stdout",
     "output_type": "stream",
     "text": [
      "2025-04-21 03:44:41,391 - INFO - Downloaded logs_79pvjp9e:v0 to /scratch/downloaded_artifacts/logs_79pvjp9e:v0\n"
     ]
    },
    {
     "name": "stderr",
     "output_type": "stream",
     "text": [
      "\u001b[34m\u001b[1mwandb\u001b[0m:   1 of 1 files downloaded.  \n"
     ]
    },
    {
     "name": "stdout",
     "output_type": "stream",
     "text": [
      "2025-04-21 03:44:41,641 - INFO - Downloaded logs_7q5aksa2:v0 to /scratch/downloaded_artifacts/logs_7q5aksa2:v0\n"
     ]
    },
    {
     "name": "stderr",
     "output_type": "stream",
     "text": [
      "\u001b[34m\u001b[1mwandb\u001b[0m:   1 of 1 files downloaded.  \n"
     ]
    },
    {
     "name": "stdout",
     "output_type": "stream",
     "text": [
      "2025-04-21 03:44:42,565 - INFO - Downloaded logs_b7wrm46e:v0 to /scratch/downloaded_artifacts/logs_b7wrm46e:v0\n"
     ]
    },
    {
     "name": "stderr",
     "output_type": "stream",
     "text": [
      "\u001b[34m\u001b[1mwandb\u001b[0m:   1 of 1 files downloaded.  \n"
     ]
    },
    {
     "name": "stdout",
     "output_type": "stream",
     "text": [
      "2025-04-21 03:44:42,977 - INFO - Downloaded logs_a6cug8ci:v0 to /scratch/downloaded_artifacts/logs_a6cug8ci:v0\n"
     ]
    },
    {
     "name": "stderr",
     "output_type": "stream",
     "text": [
      "\u001b[34m\u001b[1mwandb\u001b[0m:   1 of 1 files downloaded.  \n"
     ]
    },
    {
     "name": "stdout",
     "output_type": "stream",
     "text": [
      "2025-04-21 03:44:43,976 - INFO - Downloaded logs_9kspl9fj:v0 to /scratch/downloaded_artifacts/logs_9kspl9fj:v0\n"
     ]
    },
    {
     "name": "stderr",
     "output_type": "stream",
     "text": [
      "\u001b[34m\u001b[1mwandb\u001b[0m:   1 of 1 files downloaded.  \n"
     ]
    },
    {
     "name": "stdout",
     "output_type": "stream",
     "text": [
      "2025-04-21 03:45:00,189 - INFO - Downloaded logs_coemhxd6:v0 to /scratch/downloaded_artifacts/logs_coemhxd6:v0\n"
     ]
    },
    {
     "name": "stderr",
     "output_type": "stream",
     "text": [
      "\u001b[34m\u001b[1mwandb\u001b[0m:   1 of 1 files downloaded.  \n"
     ]
    },
    {
     "name": "stdout",
     "output_type": "stream",
     "text": [
      "2025-04-21 03:45:00,297 - INFO - Downloaded logs_cwjf66ja:v0 to /scratch/downloaded_artifacts/logs_cwjf66ja:v0\n"
     ]
    },
    {
     "name": "stderr",
     "output_type": "stream",
     "text": [
      "\u001b[34m\u001b[1mwandb\u001b[0m:   1 of 1 files downloaded.  \n"
     ]
    },
    {
     "name": "stdout",
     "output_type": "stream",
     "text": [
      "2025-04-21 03:45:00,335 - INFO - Downloaded logs_ef0151e3:v0 to /scratch/downloaded_artifacts/logs_ef0151e3:v0\n"
     ]
    },
    {
     "name": "stderr",
     "output_type": "stream",
     "text": [
      "\u001b[34m\u001b[1mwandb\u001b[0m:   1 of 1 files downloaded.  \n"
     ]
    },
    {
     "name": "stdout",
     "output_type": "stream",
     "text": [
      "2025-04-21 03:45:00,516 - INFO - Downloaded logs_it14s03v:v0 to /scratch/downloaded_artifacts/logs_it14s03v:v0\n"
     ]
    },
    {
     "name": "stderr",
     "output_type": "stream",
     "text": [
      "\u001b[34m\u001b[1mwandb\u001b[0m:   1 of 1 files downloaded.  \n"
     ]
    },
    {
     "name": "stdout",
     "output_type": "stream",
     "text": [
      "2025-04-21 03:45:00,558 - INFO - Downloaded logs_iba3yyx9:v0 to /scratch/downloaded_artifacts/logs_iba3yyx9:v0\n"
     ]
    },
    {
     "name": "stderr",
     "output_type": "stream",
     "text": [
      "\u001b[34m\u001b[1mwandb\u001b[0m:   1 of 1 files downloaded.  \n",
      "\u001b[34m\u001b[1mwandb\u001b[0m:   1 of 1 files downloaded.  \n"
     ]
    },
    {
     "name": "stdout",
     "output_type": "stream",
     "text": [
      "2025-04-21 03:45:00,807 - INFO - Downloaded logs_hz9vyx1w:v0 to /scratch/downloaded_artifacts/logs_hz9vyx1w:v0\n",
      "2025-04-21 03:45:00,810 - INFO - Downloaded logs_l22u0fmk:v0 to /scratch/downloaded_artifacts/logs_l22u0fmk:v0\n"
     ]
    },
    {
     "name": "stderr",
     "output_type": "stream",
     "text": [
      "\u001b[34m\u001b[1mwandb\u001b[0m:   1 of 1 files downloaded.  \n"
     ]
    },
    {
     "name": "stdout",
     "output_type": "stream",
     "text": [
      "2025-04-21 03:45:00,824 - INFO - Downloaded logs_iz0ovqsm:v0 to /scratch/downloaded_artifacts/logs_iz0ovqsm:v0\n"
     ]
    },
    {
     "name": "stderr",
     "output_type": "stream",
     "text": [
      "\u001b[34m\u001b[1mwandb\u001b[0m:   1 of 1 files downloaded.  \n"
     ]
    },
    {
     "name": "stdout",
     "output_type": "stream",
     "text": [
      "2025-04-21 03:45:00,891 - INFO - Downloaded logs_o2o67sao:v0 to /scratch/downloaded_artifacts/logs_o2o67sao:v0\n"
     ]
    },
    {
     "name": "stderr",
     "output_type": "stream",
     "text": [
      "\u001b[34m\u001b[1mwandb\u001b[0m:   1 of 1 files downloaded.  \n"
     ]
    },
    {
     "name": "stdout",
     "output_type": "stream",
     "text": [
      "2025-04-21 03:45:00,937 - INFO - Downloaded logs_mnzzac2a:v0 to /scratch/downloaded_artifacts/logs_mnzzac2a:v0\n"
     ]
    },
    {
     "name": "stderr",
     "output_type": "stream",
     "text": [
      "\u001b[34m\u001b[1mwandb\u001b[0m:   1 of 1 files downloaded.  \n"
     ]
    },
    {
     "name": "stdout",
     "output_type": "stream",
     "text": [
      "2025-04-21 03:45:00,973 - INFO - Downloaded logs_o0vnh1vu:v0 to /scratch/downloaded_artifacts/logs_o0vnh1vu:v0\n"
     ]
    },
    {
     "name": "stderr",
     "output_type": "stream",
     "text": [
      "\u001b[34m\u001b[1mwandb\u001b[0m:   1 of 1 files downloaded.  \n"
     ]
    },
    {
     "name": "stdout",
     "output_type": "stream",
     "text": [
      "2025-04-21 03:45:01,011 - INFO - Downloaded logs_msum1cuk:v0 to /scratch/downloaded_artifacts/logs_msum1cuk:v0\n"
     ]
    },
    {
     "name": "stderr",
     "output_type": "stream",
     "text": [
      "\u001b[34m\u001b[1mwandb\u001b[0m:   1 of 1 files downloaded.  \n"
     ]
    },
    {
     "name": "stdout",
     "output_type": "stream",
     "text": [
      "2025-04-21 03:45:01,041 - INFO - Downloaded logs_o2fr9p33:v0 to /scratch/downloaded_artifacts/logs_o2fr9p33:v0\n"
     ]
    },
    {
     "name": "stderr",
     "output_type": "stream",
     "text": [
      "\u001b[34m\u001b[1mwandb\u001b[0m:   1 of 1 files downloaded.  \n"
     ]
    },
    {
     "name": "stdout",
     "output_type": "stream",
     "text": [
      "2025-04-21 03:45:01,057 - INFO - Downloaded logs_gj40bown:v0 to /scratch/downloaded_artifacts/logs_gj40bown:v0\n"
     ]
    },
    {
     "name": "stderr",
     "output_type": "stream",
     "text": [
      "\u001b[34m\u001b[1mwandb\u001b[0m:   1 of 1 files downloaded.  \n"
     ]
    },
    {
     "name": "stdout",
     "output_type": "stream",
     "text": [
      "2025-04-21 03:45:01,282 - INFO - Downloaded logs_pgjz62oh:v0 to /scratch/downloaded_artifacts/logs_pgjz62oh:v0\n"
     ]
    },
    {
     "name": "stderr",
     "output_type": "stream",
     "text": [
      "\u001b[34m\u001b[1mwandb\u001b[0m:   1 of 1 files downloaded.  \n"
     ]
    },
    {
     "name": "stdout",
     "output_type": "stream",
     "text": [
      "2025-04-21 03:45:01,362 - INFO - Downloaded logs_t06ssfet:v0 to /scratch/downloaded_artifacts/logs_t06ssfet:v0\n"
     ]
    },
    {
     "name": "stderr",
     "output_type": "stream",
     "text": [
      "\u001b[34m\u001b[1mwandb\u001b[0m:   1 of 1 files downloaded.  \n"
     ]
    },
    {
     "name": "stdout",
     "output_type": "stream",
     "text": [
      "2025-04-21 03:45:01,509 - INFO - Downloaded logs_p4k8980x:v0 to /scratch/downloaded_artifacts/logs_p4k8980x:v0\n"
     ]
    },
    {
     "name": "stderr",
     "output_type": "stream",
     "text": [
      "\u001b[34m\u001b[1mwandb\u001b[0m:   1 of 1 files downloaded.  \n"
     ]
    },
    {
     "name": "stdout",
     "output_type": "stream",
     "text": [
      "2025-04-21 03:45:01,562 - INFO - Downloaded logs_v2juu8tk:v0 to /scratch/downloaded_artifacts/logs_v2juu8tk:v0\n"
     ]
    },
    {
     "name": "stderr",
     "output_type": "stream",
     "text": [
      "\u001b[34m\u001b[1mwandb\u001b[0m:   1 of 1 files downloaded.  \n"
     ]
    },
    {
     "name": "stdout",
     "output_type": "stream",
     "text": [
      "2025-04-21 03:45:01,626 - INFO - Downloaded logs_v962g7kr:v0 to /scratch/downloaded_artifacts/logs_v962g7kr:v0\n"
     ]
    },
    {
     "name": "stderr",
     "output_type": "stream",
     "text": [
      "\u001b[34m\u001b[1mwandb\u001b[0m:   1 of 1 files downloaded.  \n"
     ]
    },
    {
     "name": "stdout",
     "output_type": "stream",
     "text": [
      "2025-04-21 03:45:02,052 - INFO - Downloaded logs_wjhuwbnk:v0 to /scratch/downloaded_artifacts/logs_wjhuwbnk:v0\n"
     ]
    },
    {
     "name": "stderr",
     "output_type": "stream",
     "text": [
      "\u001b[34m\u001b[1mwandb\u001b[0m:   1 of 1 files downloaded.  \n"
     ]
    },
    {
     "name": "stdout",
     "output_type": "stream",
     "text": [
      "2025-04-21 03:45:02,102 - INFO - Downloaded logs_ykvv5mia:v0 to /scratch/downloaded_artifacts/logs_ykvv5mia:v0\n"
     ]
    },
    {
     "name": "stderr",
     "output_type": "stream",
     "text": [
      "\u001b[34m\u001b[1mwandb\u001b[0m:   1 of 1 files downloaded.  \n"
     ]
    },
    {
     "name": "stdout",
     "output_type": "stream",
     "text": [
      "2025-04-21 03:45:02,388 - INFO - Downloaded logs_19aklkef:v0 to /scratch/downloaded_artifacts/logs_19aklkef:v0\n"
     ]
    },
    {
     "name": "stderr",
     "output_type": "stream",
     "text": [
      "\u001b[34m\u001b[1mwandb\u001b[0m:   1 of 1 files downloaded.  \n"
     ]
    },
    {
     "name": "stdout",
     "output_type": "stream",
     "text": [
      "2025-04-21 03:45:02,466 - INFO - Downloaded logs_061sdyaz:v0 to /scratch/downloaded_artifacts/logs_061sdyaz:v0\n"
     ]
    },
    {
     "name": "stderr",
     "output_type": "stream",
     "text": [
      "\u001b[34m\u001b[1mwandb\u001b[0m:   1 of 1 files downloaded.  \n"
     ]
    },
    {
     "name": "stdout",
     "output_type": "stream",
     "text": [
      "2025-04-21 03:45:02,850 - INFO - Downloaded logs_2c3tgtuu:v0 to /scratch/downloaded_artifacts/logs_2c3tgtuu:v0\n"
     ]
    },
    {
     "name": "stderr",
     "output_type": "stream",
     "text": [
      "\u001b[34m\u001b[1mwandb\u001b[0m:   1 of 1 files downloaded.  \n"
     ]
    },
    {
     "name": "stdout",
     "output_type": "stream",
     "text": [
      "2025-04-21 03:45:02,928 - INFO - Downloaded logs_26ady7k1:v0 to /scratch/downloaded_artifacts/logs_26ady7k1:v0\n"
     ]
    },
    {
     "name": "stderr",
     "output_type": "stream",
     "text": [
      "\u001b[34m\u001b[1mwandb\u001b[0m:   1 of 1 files downloaded.  \n"
     ]
    },
    {
     "name": "stdout",
     "output_type": "stream",
     "text": [
      "2025-04-21 03:45:03,434 - INFO - Downloaded logs_6v4nzfrv:v0 to /scratch/downloaded_artifacts/logs_6v4nzfrv:v0\n"
     ]
    },
    {
     "name": "stderr",
     "output_type": "stream",
     "text": [
      "\u001b[34m\u001b[1mwandb\u001b[0m:   1 of 1 files downloaded.  \n"
     ]
    },
    {
     "name": "stdout",
     "output_type": "stream",
     "text": [
      "2025-04-21 03:45:03,459 - INFO - Downloaded logs_61fmxfxg:v0 to /scratch/downloaded_artifacts/logs_61fmxfxg:v0\n"
     ]
    },
    {
     "name": "stderr",
     "output_type": "stream",
     "text": [
      "\u001b[34m\u001b[1mwandb\u001b[0m:   1 of 1 files downloaded.  \n"
     ]
    },
    {
     "name": "stdout",
     "output_type": "stream",
     "text": [
      "2025-04-21 03:45:03,519 - INFO - Downloaded logs_5xybq1iy:v0 to /scratch/downloaded_artifacts/logs_5xybq1iy:v0\n"
     ]
    },
    {
     "name": "stderr",
     "output_type": "stream",
     "text": [
      "\u001b[34m\u001b[1mwandb\u001b[0m:   1 of 1 files downloaded.  \n"
     ]
    },
    {
     "name": "stdout",
     "output_type": "stream",
     "text": [
      "2025-04-21 03:45:03,558 - INFO - Downloaded logs_919agnj1:v0 to /scratch/downloaded_artifacts/logs_919agnj1:v0\n"
     ]
    },
    {
     "name": "stderr",
     "output_type": "stream",
     "text": [
      "\u001b[34m\u001b[1mwandb\u001b[0m:   1 of 1 files downloaded.  \n"
     ]
    },
    {
     "name": "stdout",
     "output_type": "stream",
     "text": [
      "2025-04-21 03:45:03,624 - INFO - Downloaded logs_bdz8vum8:v0 to /scratch/downloaded_artifacts/logs_bdz8vum8:v0\n"
     ]
    },
    {
     "name": "stderr",
     "output_type": "stream",
     "text": [
      "\u001b[34m\u001b[1mwandb\u001b[0m:   1 of 1 files downloaded.  \n"
     ]
    },
    {
     "name": "stdout",
     "output_type": "stream",
     "text": [
      "2025-04-21 03:45:03,676 - INFO - Downloaded logs_c3cceyjx:v0 to /scratch/downloaded_artifacts/logs_c3cceyjx:v0\n"
     ]
    },
    {
     "name": "stderr",
     "output_type": "stream",
     "text": [
      "\u001b[34m\u001b[1mwandb\u001b[0m:   1 of 1 files downloaded.  \n"
     ]
    },
    {
     "name": "stdout",
     "output_type": "stream",
     "text": [
      "2025-04-21 03:45:03,792 - INFO - Downloaded logs_errtrhhx:v0 to /scratch/downloaded_artifacts/logs_errtrhhx:v0\n"
     ]
    },
    {
     "name": "stderr",
     "output_type": "stream",
     "text": [
      "\u001b[34m\u001b[1mwandb\u001b[0m:   1 of 1 files downloaded.  \n"
     ]
    },
    {
     "name": "stdout",
     "output_type": "stream",
     "text": [
      "2025-04-21 03:45:03,811 - INFO - Downloaded logs_f69yexh7:v0 to /scratch/downloaded_artifacts/logs_f69yexh7:v0\n"
     ]
    },
    {
     "name": "stderr",
     "output_type": "stream",
     "text": [
      "\u001b[34m\u001b[1mwandb\u001b[0m:   1 of 1 files downloaded.  \n"
     ]
    },
    {
     "name": "stdout",
     "output_type": "stream",
     "text": [
      "2025-04-21 03:45:03,973 - INFO - Downloaded logs_d9sd7vdb:v0 to /scratch/downloaded_artifacts/logs_d9sd7vdb:v0\n"
     ]
    },
    {
     "name": "stderr",
     "output_type": "stream",
     "text": [
      "\u001b[34m\u001b[1mwandb\u001b[0m:   1 of 1 files downloaded.  \n"
     ]
    },
    {
     "name": "stdout",
     "output_type": "stream",
     "text": [
      "2025-04-21 03:45:04,123 - INFO - Downloaded logs_f8flqx9w:v0 to /scratch/downloaded_artifacts/logs_f8flqx9w:v0\n"
     ]
    },
    {
     "name": "stderr",
     "output_type": "stream",
     "text": [
      "\u001b[34m\u001b[1mwandb\u001b[0m:   1 of 1 files downloaded.  \n"
     ]
    },
    {
     "name": "stdout",
     "output_type": "stream",
     "text": [
      "2025-04-21 03:45:04,207 - INFO - Downloaded logs_ms8lgtg6:v0 to /scratch/downloaded_artifacts/logs_ms8lgtg6:v0\n"
     ]
    },
    {
     "name": "stderr",
     "output_type": "stream",
     "text": [
      "\u001b[34m\u001b[1mwandb\u001b[0m:   1 of 1 files downloaded.  \n"
     ]
    },
    {
     "name": "stdout",
     "output_type": "stream",
     "text": [
      "2025-04-21 03:45:04,340 - INFO - Downloaded logs_otcg15zm:v0 to /scratch/downloaded_artifacts/logs_otcg15zm:v0\n"
     ]
    },
    {
     "name": "stderr",
     "output_type": "stream",
     "text": [
      "\u001b[34m\u001b[1mwandb\u001b[0m:   1 of 1 files downloaded.  \n"
     ]
    },
    {
     "name": "stdout",
     "output_type": "stream",
     "text": [
      "2025-04-21 03:45:04,370 - INFO - Downloaded logs_povw9rqp:v0 to /scratch/downloaded_artifacts/logs_povw9rqp:v0\n"
     ]
    },
    {
     "name": "stderr",
     "output_type": "stream",
     "text": [
      "\u001b[34m\u001b[1mwandb\u001b[0m:   1 of 1 files downloaded.  \n"
     ]
    },
    {
     "name": "stdout",
     "output_type": "stream",
     "text": [
      "2025-04-21 03:45:04,398 - INFO - Downloaded logs_r0vxmkrj:v0 to /scratch/downloaded_artifacts/logs_r0vxmkrj:v0\n"
     ]
    },
    {
     "name": "stderr",
     "output_type": "stream",
     "text": [
      "\u001b[34m\u001b[1mwandb\u001b[0m:   1 of 1 files downloaded.  \n"
     ]
    },
    {
     "name": "stdout",
     "output_type": "stream",
     "text": [
      "2025-04-21 03:45:04,687 - INFO - Downloaded logs_sdtiava5:v0 to /scratch/downloaded_artifacts/logs_sdtiava5:v0\n"
     ]
    },
    {
     "name": "stderr",
     "output_type": "stream",
     "text": [
      "\u001b[34m\u001b[1mwandb\u001b[0m:   1 of 1 files downloaded.  \n"
     ]
    },
    {
     "name": "stdout",
     "output_type": "stream",
     "text": [
      "2025-04-21 03:45:04,745 - INFO - Downloaded logs_rvcswj23:v0 to /scratch/downloaded_artifacts/logs_rvcswj23:v0\n"
     ]
    },
    {
     "name": "stderr",
     "output_type": "stream",
     "text": [
      "\u001b[34m\u001b[1mwandb\u001b[0m:   1 of 1 files downloaded.  \n"
     ]
    },
    {
     "name": "stdout",
     "output_type": "stream",
     "text": [
      "2025-04-21 03:45:04,905 - INFO - Downloaded logs_zw4qmc0e:v0 to /scratch/downloaded_artifacts/logs_zw4qmc0e:v0\n"
     ]
    },
    {
     "name": "stderr",
     "output_type": "stream",
     "text": [
      "\u001b[34m\u001b[1mwandb\u001b[0m:   1 of 1 files downloaded.  \n"
     ]
    },
    {
     "name": "stdout",
     "output_type": "stream",
     "text": [
      "2025-04-21 03:45:05,024 - INFO - Downloaded logs_01eba4e0:v0 to /scratch/downloaded_artifacts/logs_01eba4e0:v0\n"
     ]
    },
    {
     "name": "stderr",
     "output_type": "stream",
     "text": [
      "\u001b[34m\u001b[1mwandb\u001b[0m:   1 of 1 files downloaded.  \n"
     ]
    },
    {
     "name": "stdout",
     "output_type": "stream",
     "text": [
      "2025-04-21 03:45:05,284 - INFO - Downloaded logs_0m0gnxwe:v0 to /scratch/downloaded_artifacts/logs_0m0gnxwe:v0\n"
     ]
    },
    {
     "name": "stderr",
     "output_type": "stream",
     "text": [
      "\u001b[34m\u001b[1mwandb\u001b[0m:   1 of 1 files downloaded.  \n"
     ]
    },
    {
     "name": "stdout",
     "output_type": "stream",
     "text": [
      "2025-04-21 03:45:05,382 - INFO - Downloaded logs_2ipl9zem:v0 to /scratch/downloaded_artifacts/logs_2ipl9zem:v0\n"
     ]
    },
    {
     "name": "stderr",
     "output_type": "stream",
     "text": [
      "\u001b[34m\u001b[1mwandb\u001b[0m:   1 of 1 files downloaded.  \n"
     ]
    },
    {
     "name": "stdout",
     "output_type": "stream",
     "text": [
      "2025-04-21 03:45:05,901 - INFO - Downloaded logs_3shilxug:v0 to /scratch/downloaded_artifacts/logs_3shilxug:v0\n"
     ]
    },
    {
     "name": "stderr",
     "output_type": "stream",
     "text": [
      "\u001b[34m\u001b[1mwandb\u001b[0m:   1 of 1 files downloaded.  \n"
     ]
    },
    {
     "name": "stdout",
     "output_type": "stream",
     "text": [
      "2025-04-21 03:45:06,100 - INFO - Downloaded logs_55d4842r:v0 to /scratch/downloaded_artifacts/logs_55d4842r:v0\n"
     ]
    },
    {
     "name": "stderr",
     "output_type": "stream",
     "text": [
      "\u001b[34m\u001b[1mwandb\u001b[0m:   1 of 1 files downloaded.  \n"
     ]
    },
    {
     "name": "stdout",
     "output_type": "stream",
     "text": [
      "2025-04-21 03:45:06,203 - INFO - Downloaded logs_5o30fthv:v0 to /scratch/downloaded_artifacts/logs_5o30fthv:v0\n"
     ]
    },
    {
     "name": "stderr",
     "output_type": "stream",
     "text": [
      "\u001b[34m\u001b[1mwandb\u001b[0m:   1 of 1 files downloaded.  \n"
     ]
    },
    {
     "name": "stdout",
     "output_type": "stream",
     "text": [
      "2025-04-21 03:45:06,208 - INFO - Downloaded logs_76wsiy7f:v0 to /scratch/downloaded_artifacts/logs_76wsiy7f:v0\n"
     ]
    },
    {
     "name": "stderr",
     "output_type": "stream",
     "text": [
      "\u001b[34m\u001b[1mwandb\u001b[0m:   1 of 1 files downloaded.  \n"
     ]
    },
    {
     "name": "stdout",
     "output_type": "stream",
     "text": [
      "2025-04-21 03:45:06,290 - INFO - Downloaded logs_51jy6mkn:v0 to /scratch/downloaded_artifacts/logs_51jy6mkn:v0\n"
     ]
    },
    {
     "name": "stderr",
     "output_type": "stream",
     "text": [
      "\u001b[34m\u001b[1mwandb\u001b[0m:   1 of 1 files downloaded.  \n"
     ]
    },
    {
     "name": "stdout",
     "output_type": "stream",
     "text": [
      "2025-04-21 03:45:06,325 - INFO - Downloaded logs_5zy9l5b5:v0 to /scratch/downloaded_artifacts/logs_5zy9l5b5:v0\n"
     ]
    },
    {
     "name": "stderr",
     "output_type": "stream",
     "text": [
      "\u001b[34m\u001b[1mwandb\u001b[0m:   1 of 1 files downloaded.  \n"
     ]
    },
    {
     "name": "stdout",
     "output_type": "stream",
     "text": [
      "2025-04-21 03:45:06,517 - INFO - Downloaded logs_7roa47b3:v0 to /scratch/downloaded_artifacts/logs_7roa47b3:v0\n"
     ]
    },
    {
     "name": "stderr",
     "output_type": "stream",
     "text": [
      "\u001b[34m\u001b[1mwandb\u001b[0m:   1 of 1 files downloaded.  \n"
     ]
    },
    {
     "name": "stdout",
     "output_type": "stream",
     "text": [
      "2025-04-21 03:45:06,532 - INFO - Downloaded logs_7p1giwuv:v0 to /scratch/downloaded_artifacts/logs_7p1giwuv:v0\n"
     ]
    },
    {
     "name": "stderr",
     "output_type": "stream",
     "text": [
      "\u001b[34m\u001b[1mwandb\u001b[0m:   1 of 1 files downloaded.  \n"
     ]
    },
    {
     "name": "stdout",
     "output_type": "stream",
     "text": [
      "2025-04-21 03:45:06,670 - INFO - Downloaded logs_apwmvgad:v0 to /scratch/downloaded_artifacts/logs_apwmvgad:v0\n"
     ]
    },
    {
     "name": "stderr",
     "output_type": "stream",
     "text": [
      "\u001b[34m\u001b[1mwandb\u001b[0m:   1 of 1 files downloaded.  \n"
     ]
    },
    {
     "name": "stdout",
     "output_type": "stream",
     "text": [
      "2025-04-21 03:45:06,876 - INFO - Downloaded logs_byuasv0g:v0 to /scratch/downloaded_artifacts/logs_byuasv0g:v0\n"
     ]
    },
    {
     "name": "stderr",
     "output_type": "stream",
     "text": [
      "\u001b[34m\u001b[1mwandb\u001b[0m:   1 of 1 files downloaded.  \n"
     ]
    },
    {
     "name": "stdout",
     "output_type": "stream",
     "text": [
      "2025-04-21 03:45:06,947 - INFO - Downloaded logs_aqkkhuqy:v0 to /scratch/downloaded_artifacts/logs_aqkkhuqy:v0\n"
     ]
    },
    {
     "name": "stderr",
     "output_type": "stream",
     "text": [
      "\u001b[34m\u001b[1mwandb\u001b[0m:   1 of 1 files downloaded.  \n"
     ]
    },
    {
     "name": "stdout",
     "output_type": "stream",
     "text": [
      "2025-04-21 03:45:07,203 - INFO - Downloaded logs_fd35l6su:v0 to /scratch/downloaded_artifacts/logs_fd35l6su:v0\n"
     ]
    },
    {
     "name": "stderr",
     "output_type": "stream",
     "text": [
      "\u001b[34m\u001b[1mwandb\u001b[0m:   1 of 1 files downloaded.  \n"
     ]
    },
    {
     "name": "stdout",
     "output_type": "stream",
     "text": [
      "2025-04-21 03:45:07,276 - INFO - Downloaded logs_fc1s0kwv:v0 to /scratch/downloaded_artifacts/logs_fc1s0kwv:v0\n"
     ]
    },
    {
     "name": "stderr",
     "output_type": "stream",
     "text": [
      "\u001b[34m\u001b[1mwandb\u001b[0m:   1 of 1 files downloaded.  \n"
     ]
    },
    {
     "name": "stdout",
     "output_type": "stream",
     "text": [
      "2025-04-21 03:45:07,339 - INFO - Downloaded logs_f9l2uih1:v0 to /scratch/downloaded_artifacts/logs_f9l2uih1:v0\n"
     ]
    },
    {
     "name": "stderr",
     "output_type": "stream",
     "text": [
      "\u001b[34m\u001b[1mwandb\u001b[0m:   1 of 1 files downloaded.  \n"
     ]
    },
    {
     "name": "stdout",
     "output_type": "stream",
     "text": [
      "2025-04-21 03:45:07,546 - INFO - Downloaded logs_g3y62p1z:v0 to /scratch/downloaded_artifacts/logs_g3y62p1z:v0\n"
     ]
    },
    {
     "name": "stderr",
     "output_type": "stream",
     "text": [
      "\u001b[34m\u001b[1mwandb\u001b[0m:   1 of 1 files downloaded.  \n"
     ]
    },
    {
     "name": "stdout",
     "output_type": "stream",
     "text": [
      "2025-04-21 03:45:07,694 - INFO - Downloaded logs_hihf3ol3:v0 to /scratch/downloaded_artifacts/logs_hihf3ol3:v0\n"
     ]
    },
    {
     "name": "stderr",
     "output_type": "stream",
     "text": [
      "\u001b[34m\u001b[1mwandb\u001b[0m:   1 of 1 files downloaded.  \n"
     ]
    },
    {
     "name": "stdout",
     "output_type": "stream",
     "text": [
      "2025-04-21 03:45:07,727 - INFO - Downloaded logs_fh7yoden:v0 to /scratch/downloaded_artifacts/logs_fh7yoden:v0\n"
     ]
    },
    {
     "name": "stderr",
     "output_type": "stream",
     "text": [
      "\u001b[34m\u001b[1mwandb\u001b[0m:   1 of 1 files downloaded.  \n"
     ]
    },
    {
     "name": "stdout",
     "output_type": "stream",
     "text": [
      "2025-04-21 03:45:07,784 - INFO - Downloaded logs_hz5kj6gf:v0 to /scratch/downloaded_artifacts/logs_hz5kj6gf:v0\n"
     ]
    },
    {
     "name": "stderr",
     "output_type": "stream",
     "text": [
      "\u001b[34m\u001b[1mwandb\u001b[0m:   1 of 1 files downloaded.  \n"
     ]
    },
    {
     "name": "stdout",
     "output_type": "stream",
     "text": [
      "2025-04-21 03:45:08,035 - INFO - Downloaded logs_ilnibp85:v0 to /scratch/downloaded_artifacts/logs_ilnibp85:v0\n"
     ]
    },
    {
     "name": "stderr",
     "output_type": "stream",
     "text": [
      "\u001b[34m\u001b[1mwandb\u001b[0m:   1 of 1 files downloaded.  \n"
     ]
    },
    {
     "name": "stdout",
     "output_type": "stream",
     "text": [
      "2025-04-21 03:45:08,100 - INFO - Downloaded logs_ittmbpen:v0 to /scratch/downloaded_artifacts/logs_ittmbpen:v0\n"
     ]
    },
    {
     "name": "stderr",
     "output_type": "stream",
     "text": [
      "\u001b[34m\u001b[1mwandb\u001b[0m:   1 of 1 files downloaded.  \n"
     ]
    },
    {
     "name": "stdout",
     "output_type": "stream",
     "text": [
      "2025-04-21 03:45:08,549 - INFO - Downloaded logs_ixavbstd:v0 to /scratch/downloaded_artifacts/logs_ixavbstd:v0\n"
     ]
    },
    {
     "name": "stderr",
     "output_type": "stream",
     "text": [
      "\u001b[34m\u001b[1mwandb\u001b[0m:   1 of 1 files downloaded.  \n"
     ]
    },
    {
     "name": "stdout",
     "output_type": "stream",
     "text": [
      "2025-04-21 03:45:08,728 - INFO - Downloaded logs_jpiwrbjs:v0 to /scratch/downloaded_artifacts/logs_jpiwrbjs:v0\n"
     ]
    },
    {
     "name": "stderr",
     "output_type": "stream",
     "text": [
      "\u001b[34m\u001b[1mwandb\u001b[0m:   1 of 1 files downloaded.  \n"
     ]
    },
    {
     "name": "stdout",
     "output_type": "stream",
     "text": [
      "2025-04-21 03:45:08,829 - INFO - Downloaded logs_koye4dsl:v0 to /scratch/downloaded_artifacts/logs_koye4dsl:v0\n"
     ]
    },
    {
     "name": "stderr",
     "output_type": "stream",
     "text": [
      "\u001b[34m\u001b[1mwandb\u001b[0m:   1 of 1 files downloaded.  \n"
     ]
    },
    {
     "name": "stdout",
     "output_type": "stream",
     "text": [
      "2025-04-21 03:45:08,957 - INFO - Downloaded logs_n47o776g:v0 to /scratch/downloaded_artifacts/logs_n47o776g:v0\n"
     ]
    },
    {
     "name": "stderr",
     "output_type": "stream",
     "text": [
      "\u001b[34m\u001b[1mwandb\u001b[0m:   1 of 1 files downloaded.  \n"
     ]
    },
    {
     "name": "stdout",
     "output_type": "stream",
     "text": [
      "2025-04-21 03:45:08,983 - INFO - Downloaded logs_nib9thgt:v0 to /scratch/downloaded_artifacts/logs_nib9thgt:v0\n"
     ]
    },
    {
     "name": "stderr",
     "output_type": "stream",
     "text": [
      "\u001b[34m\u001b[1mwandb\u001b[0m:   1 of 1 files downloaded.  \n"
     ]
    },
    {
     "name": "stdout",
     "output_type": "stream",
     "text": [
      "2025-04-21 03:45:08,987 - INFO - Downloaded logs_o2abdgxd:v0 to /scratch/downloaded_artifacts/logs_o2abdgxd:v0\n"
     ]
    },
    {
     "name": "stderr",
     "output_type": "stream",
     "text": [
      "\u001b[34m\u001b[1mwandb\u001b[0m:   1 of 1 files downloaded.  \n"
     ]
    },
    {
     "name": "stdout",
     "output_type": "stream",
     "text": [
      "2025-04-21 03:45:09,094 - INFO - Downloaded logs_o61iwlgx:v0 to /scratch/downloaded_artifacts/logs_o61iwlgx:v0\n"
     ]
    },
    {
     "name": "stderr",
     "output_type": "stream",
     "text": [
      "\u001b[34m\u001b[1mwandb\u001b[0m:   1 of 1 files downloaded.  \n"
     ]
    },
    {
     "name": "stdout",
     "output_type": "stream",
     "text": [
      "2025-04-21 03:45:09,353 - INFO - Downloaded logs_osdhrpbj:v0 to /scratch/downloaded_artifacts/logs_osdhrpbj:v0\n"
     ]
    },
    {
     "name": "stderr",
     "output_type": "stream",
     "text": [
      "\u001b[34m\u001b[1mwandb\u001b[0m:   1 of 1 files downloaded.  \n"
     ]
    },
    {
     "name": "stdout",
     "output_type": "stream",
     "text": [
      "2025-04-21 03:45:09,521 - INFO - Downloaded logs_py0hxyf9:v0 to /scratch/downloaded_artifacts/logs_py0hxyf9:v0\n"
     ]
    },
    {
     "name": "stderr",
     "output_type": "stream",
     "text": [
      "\u001b[34m\u001b[1mwandb\u001b[0m:   1 of 1 files downloaded.  \n"
     ]
    },
    {
     "name": "stdout",
     "output_type": "stream",
     "text": [
      "2025-04-21 03:45:09,558 - INFO - Downloaded logs_r9jzcmpf:v0 to /scratch/downloaded_artifacts/logs_r9jzcmpf:v0\n"
     ]
    },
    {
     "name": "stderr",
     "output_type": "stream",
     "text": [
      "\u001b[34m\u001b[1mwandb\u001b[0m:   1 of 1 files downloaded.  \n"
     ]
    },
    {
     "name": "stdout",
     "output_type": "stream",
     "text": [
      "2025-04-21 03:45:09,640 - INFO - Downloaded logs_re64v7m5:v0 to /scratch/downloaded_artifacts/logs_re64v7m5:v0\n"
     ]
    },
    {
     "name": "stderr",
     "output_type": "stream",
     "text": [
      "\u001b[34m\u001b[1mwandb\u001b[0m:   1 of 1 files downloaded.  \n"
     ]
    },
    {
     "name": "stdout",
     "output_type": "stream",
     "text": [
      "2025-04-21 03:45:09,877 - INFO - Downloaded logs_seafaj5j:v0 to /scratch/downloaded_artifacts/logs_seafaj5j:v0\n"
     ]
    },
    {
     "name": "stderr",
     "output_type": "stream",
     "text": [
      "\u001b[34m\u001b[1mwandb\u001b[0m:   1 of 1 files downloaded.  \n"
     ]
    },
    {
     "name": "stdout",
     "output_type": "stream",
     "text": [
      "2025-04-21 03:45:09,982 - INFO - Downloaded logs_s4rfmoeh:v0 to /scratch/downloaded_artifacts/logs_s4rfmoeh:v0\n"
     ]
    },
    {
     "name": "stderr",
     "output_type": "stream",
     "text": [
      "\u001b[34m\u001b[1mwandb\u001b[0m:   1 of 1 files downloaded.  \n"
     ]
    },
    {
     "name": "stdout",
     "output_type": "stream",
     "text": [
      "2025-04-21 03:45:10,006 - INFO - Downloaded logs_sr8cj52k:v0 to /scratch/downloaded_artifacts/logs_sr8cj52k:v0\n"
     ]
    },
    {
     "name": "stderr",
     "output_type": "stream",
     "text": [
      "\u001b[34m\u001b[1mwandb\u001b[0m:   1 of 1 files downloaded.  \n"
     ]
    },
    {
     "name": "stdout",
     "output_type": "stream",
     "text": [
      "2025-04-21 03:45:10,288 - INFO - Downloaded logs_t5imci4v:v0 to /scratch/downloaded_artifacts/logs_t5imci4v:v0\n"
     ]
    },
    {
     "name": "stderr",
     "output_type": "stream",
     "text": [
      "\u001b[34m\u001b[1mwandb\u001b[0m:   1 of 1 files downloaded.  \n"
     ]
    },
    {
     "name": "stdout",
     "output_type": "stream",
     "text": [
      "2025-04-21 03:45:10,335 - INFO - Downloaded logs_u0dei2fo:v0 to /scratch/downloaded_artifacts/logs_u0dei2fo:v0\n"
     ]
    },
    {
     "name": "stderr",
     "output_type": "stream",
     "text": [
      "\u001b[34m\u001b[1mwandb\u001b[0m:   1 of 1 files downloaded.  \n"
     ]
    },
    {
     "name": "stdout",
     "output_type": "stream",
     "text": [
      "2025-04-21 03:45:10,420 - INFO - Downloaded logs_va0pe4cy:v0 to /scratch/downloaded_artifacts/logs_va0pe4cy:v0\n"
     ]
    },
    {
     "name": "stderr",
     "output_type": "stream",
     "text": [
      "\u001b[34m\u001b[1mwandb\u001b[0m:   1 of 1 files downloaded.  \n"
     ]
    },
    {
     "name": "stdout",
     "output_type": "stream",
     "text": [
      "2025-04-21 03:45:10,522 - INFO - Downloaded logs_vi4iooqt:v0 to /scratch/downloaded_artifacts/logs_vi4iooqt:v0\n"
     ]
    },
    {
     "name": "stderr",
     "output_type": "stream",
     "text": [
      "\u001b[34m\u001b[1mwandb\u001b[0m:   1 of 1 files downloaded.  \n"
     ]
    },
    {
     "name": "stdout",
     "output_type": "stream",
     "text": [
      "2025-04-21 03:45:10,771 - INFO - Downloaded logs_xbnhacrq:v0 to /scratch/downloaded_artifacts/logs_xbnhacrq:v0\n"
     ]
    },
    {
     "name": "stderr",
     "output_type": "stream",
     "text": [
      "\u001b[34m\u001b[1mwandb\u001b[0m:   1 of 1 files downloaded.  \n"
     ]
    },
    {
     "name": "stdout",
     "output_type": "stream",
     "text": [
      "2025-04-21 03:45:10,847 - INFO - Downloaded logs_whwpah7w:v0 to /scratch/downloaded_artifacts/logs_whwpah7w:v0\n"
     ]
    },
    {
     "name": "stderr",
     "output_type": "stream",
     "text": [
      "\u001b[34m\u001b[1mwandb\u001b[0m:   1 of 1 files downloaded.  \n"
     ]
    },
    {
     "name": "stdout",
     "output_type": "stream",
     "text": [
      "2025-04-21 03:45:11,142 - INFO - Downloaded logs_yi9zcn21:v0 to /scratch/downloaded_artifacts/logs_yi9zcn21:v0\n"
     ]
    },
    {
     "name": "stderr",
     "output_type": "stream",
     "text": [
      "\u001b[34m\u001b[1mwandb\u001b[0m:   1 of 1 files downloaded.  \n"
     ]
    },
    {
     "name": "stdout",
     "output_type": "stream",
     "text": [
      "2025-04-21 03:45:11,307 - INFO - Downloaded logs_yks88ogd:v0 to /scratch/downloaded_artifacts/logs_yks88ogd:v0\n"
     ]
    },
    {
     "name": "stderr",
     "output_type": "stream",
     "text": [
      "\u001b[34m\u001b[1mwandb\u001b[0m:   1 of 1 files downloaded.  \n"
     ]
    },
    {
     "name": "stdout",
     "output_type": "stream",
     "text": [
      "2025-04-21 03:45:11,598 - INFO - Downloaded logs_yqfndwca:v0 to /scratch/downloaded_artifacts/logs_yqfndwca:v0\n"
     ]
    },
    {
     "name": "stderr",
     "output_type": "stream",
     "text": [
      "\u001b[34m\u001b[1mwandb\u001b[0m:   1 of 1 files downloaded.  \n"
     ]
    },
    {
     "name": "stdout",
     "output_type": "stream",
     "text": [
      "2025-04-21 03:45:11,639 - INFO - Downloaded logs_z1982sfi:v0 to /scratch/downloaded_artifacts/logs_z1982sfi:v0\n"
     ]
    },
    {
     "name": "stderr",
     "output_type": "stream",
     "text": [
      "\u001b[34m\u001b[1mwandb\u001b[0m:   1 of 1 files downloaded.  \n"
     ]
    },
    {
     "name": "stdout",
     "output_type": "stream",
     "text": [
      "2025-04-21 03:45:11,703 - INFO - Downloaded logs_zd78rnnc:v0 to /scratch/downloaded_artifacts/logs_zd78rnnc:v0\n"
     ]
    },
    {
     "name": "stderr",
     "output_type": "stream",
     "text": [
      "\u001b[34m\u001b[1mwandb\u001b[0m:   1 of 1 files downloaded.  \n"
     ]
    },
    {
     "name": "stdout",
     "output_type": "stream",
     "text": [
      "2025-04-21 03:45:11,752 - INFO - Downloaded logs_yzqzot6n:v0 to /scratch/downloaded_artifacts/logs_yzqzot6n:v0\n"
     ]
    },
    {
     "name": "stderr",
     "output_type": "stream",
     "text": [
      "\u001b[34m\u001b[1mwandb\u001b[0m:   1 of 1 files downloaded.  \n"
     ]
    },
    {
     "name": "stdout",
     "output_type": "stream",
     "text": [
      "2025-04-21 03:45:12,092 - INFO - Downloaded logs_6xl0v66g:v0 to /scratch/downloaded_artifacts/logs_6xl0v66g:v0\n"
     ]
    },
    {
     "name": "stderr",
     "output_type": "stream",
     "text": [
      "\u001b[34m\u001b[1mwandb\u001b[0m:   1 of 1 files downloaded.  \n"
     ]
    },
    {
     "name": "stdout",
     "output_type": "stream",
     "text": [
      "2025-04-21 03:45:12,162 - INFO - Downloaded logs_k68i0vkm:v0 to /scratch/downloaded_artifacts/logs_k68i0vkm:v0\n"
     ]
    },
    {
     "name": "stderr",
     "output_type": "stream",
     "text": [
      "\u001b[34m\u001b[1mwandb\u001b[0m:   1 of 1 files downloaded.  \n"
     ]
    },
    {
     "name": "stdout",
     "output_type": "stream",
     "text": [
      "2025-04-21 03:45:12,307 - INFO - Downloaded logs_5my43hb3:v0 to /scratch/downloaded_artifacts/logs_5my43hb3:v0\n"
     ]
    },
    {
     "name": "stderr",
     "output_type": "stream",
     "text": [
      "\u001b[34m\u001b[1mwandb\u001b[0m:   1 of 1 files downloaded.  \n"
     ]
    },
    {
     "name": "stdout",
     "output_type": "stream",
     "text": [
      "2025-04-21 03:45:12,388 - INFO - Downloaded logs_5e7424c0:v0 to /scratch/downloaded_artifacts/logs_5e7424c0:v0\n"
     ]
    },
    {
     "name": "stderr",
     "output_type": "stream",
     "text": [
      "\u001b[34m\u001b[1mwandb\u001b[0m:   1 of 1 files downloaded.  \n"
     ]
    },
    {
     "name": "stdout",
     "output_type": "stream",
     "text": [
      "2025-04-21 03:45:12,424 - INFO - Downloaded logs_30mdb2x8:v0 to /scratch/downloaded_artifacts/logs_30mdb2x8:v0\n"
     ]
    },
    {
     "name": "stderr",
     "output_type": "stream",
     "text": [
      "\u001b[34m\u001b[1mwandb\u001b[0m:   1 of 1 files downloaded.  \n"
     ]
    },
    {
     "name": "stdout",
     "output_type": "stream",
     "text": [
      "2025-04-21 03:45:12,727 - INFO - Downloaded logs_60ennwqx:v0 to /scratch/downloaded_artifacts/logs_60ennwqx:v0\n"
     ]
    },
    {
     "name": "stderr",
     "output_type": "stream",
     "text": [
      "\u001b[34m\u001b[1mwandb\u001b[0m:   1 of 1 files downloaded.  \n"
     ]
    },
    {
     "name": "stdout",
     "output_type": "stream",
     "text": [
      "2025-04-21 03:45:12,755 - INFO - Downloaded logs_khthdla7:v0 to /scratch/downloaded_artifacts/logs_khthdla7:v0\n"
     ]
    },
    {
     "name": "stderr",
     "output_type": "stream",
     "text": [
      "\u001b[34m\u001b[1mwandb\u001b[0m:   1 of 1 files downloaded.  \n"
     ]
    },
    {
     "name": "stdout",
     "output_type": "stream",
     "text": [
      "2025-04-21 03:45:12,765 - INFO - Downloaded logs_91pcnhub:v0 to /scratch/downloaded_artifacts/logs_91pcnhub:v0\n"
     ]
    },
    {
     "name": "stderr",
     "output_type": "stream",
     "text": [
      "\u001b[34m\u001b[1mwandb\u001b[0m:   1 of 1 files downloaded.  \n"
     ]
    },
    {
     "name": "stdout",
     "output_type": "stream",
     "text": [
      "2025-04-21 03:45:13,056 - INFO - Downloaded logs_952sght9:v0 to /scratch/downloaded_artifacts/logs_952sght9:v0\n"
     ]
    },
    {
     "name": "stderr",
     "output_type": "stream",
     "text": [
      "\u001b[34m\u001b[1mwandb\u001b[0m:   1 of 1 files downloaded.  \n"
     ]
    },
    {
     "name": "stdout",
     "output_type": "stream",
     "text": [
      "2025-04-21 03:45:13,168 - INFO - Downloaded logs_avaqvn0o:v0 to /scratch/downloaded_artifacts/logs_avaqvn0o:v0\n"
     ]
    },
    {
     "name": "stderr",
     "output_type": "stream",
     "text": [
      "\u001b[34m\u001b[1mwandb\u001b[0m:   1 of 1 files downloaded.  \n"
     ]
    },
    {
     "name": "stdout",
     "output_type": "stream",
     "text": [
      "2025-04-21 03:45:13,200 - INFO - Downloaded logs_aewf8r6l:v0 to /scratch/downloaded_artifacts/logs_aewf8r6l:v0\n"
     ]
    },
    {
     "name": "stderr",
     "output_type": "stream",
     "text": [
      "\u001b[34m\u001b[1mwandb\u001b[0m:   1 of 1 files downloaded.  \n"
     ]
    },
    {
     "name": "stdout",
     "output_type": "stream",
     "text": [
      "2025-04-21 03:45:13,484 - INFO - Downloaded logs_cyrywrm1:v0 to /scratch/downloaded_artifacts/logs_cyrywrm1:v0\n"
     ]
    },
    {
     "name": "stderr",
     "output_type": "stream",
     "text": [
      "\u001b[34m\u001b[1mwandb\u001b[0m:   1 of 1 files downloaded.  \n"
     ]
    },
    {
     "name": "stdout",
     "output_type": "stream",
     "text": [
      "2025-04-21 03:45:13,496 - INFO - Downloaded logs_d0socnje:v0 to /scratch/downloaded_artifacts/logs_d0socnje:v0\n"
     ]
    },
    {
     "name": "stderr",
     "output_type": "stream",
     "text": [
      "\u001b[34m\u001b[1mwandb\u001b[0m:   1 of 1 files downloaded.  \n"
     ]
    },
    {
     "name": "stdout",
     "output_type": "stream",
     "text": [
      "2025-04-21 03:45:13,557 - INFO - Downloaded logs_d6rdomkp:v0 to /scratch/downloaded_artifacts/logs_d6rdomkp:v0\n"
     ]
    },
    {
     "name": "stderr",
     "output_type": "stream",
     "text": [
      "\u001b[34m\u001b[1mwandb\u001b[0m:   1 of 1 files downloaded.  \n"
     ]
    },
    {
     "name": "stdout",
     "output_type": "stream",
     "text": [
      "2025-04-21 03:45:13,819 - INFO - Downloaded logs_evpmdpnm:v0 to /scratch/downloaded_artifacts/logs_evpmdpnm:v0\n"
     ]
    },
    {
     "name": "stderr",
     "output_type": "stream",
     "text": [
      "\u001b[34m\u001b[1mwandb\u001b[0m:   1 of 1 files downloaded.  \n"
     ]
    },
    {
     "name": "stdout",
     "output_type": "stream",
     "text": [
      "2025-04-21 03:45:13,961 - INFO - Downloaded logs_fcy6uik1:v0 to /scratch/downloaded_artifacts/logs_fcy6uik1:v0\n"
     ]
    },
    {
     "name": "stderr",
     "output_type": "stream",
     "text": [
      "\u001b[34m\u001b[1mwandb\u001b[0m:   1 of 1 files downloaded.  \n"
     ]
    },
    {
     "name": "stdout",
     "output_type": "stream",
     "text": [
      "2025-04-21 03:45:14,246 - INFO - Downloaded logs_i0lqeee2:v0 to /scratch/downloaded_artifacts/logs_i0lqeee2:v0\n"
     ]
    },
    {
     "name": "stderr",
     "output_type": "stream",
     "text": [
      "\u001b[34m\u001b[1mwandb\u001b[0m:   1 of 1 files downloaded.  \n"
     ]
    },
    {
     "name": "stdout",
     "output_type": "stream",
     "text": [
      "2025-04-21 03:45:14,282 - INFO - Downloaded logs_mgehm9sf:v0 to /scratch/downloaded_artifacts/logs_mgehm9sf:v0\n"
     ]
    },
    {
     "name": "stderr",
     "output_type": "stream",
     "text": [
      "\u001b[34m\u001b[1mwandb\u001b[0m:   1 of 1 files downloaded.  \n"
     ]
    },
    {
     "name": "stdout",
     "output_type": "stream",
     "text": [
      "2025-04-21 03:45:14,414 - INFO - Downloaded logs_s6hxikeb:v0 to /scratch/downloaded_artifacts/logs_s6hxikeb:v0\n"
     ]
    },
    {
     "name": "stderr",
     "output_type": "stream",
     "text": [
      "\u001b[34m\u001b[1mwandb\u001b[0m:   1 of 1 files downloaded.  \n"
     ]
    },
    {
     "name": "stdout",
     "output_type": "stream",
     "text": [
      "2025-04-21 03:45:14,498 - INFO - Downloaded logs_s4c8xyv1:v0 to /scratch/downloaded_artifacts/logs_s4c8xyv1:v0\n"
     ]
    },
    {
     "name": "stderr",
     "output_type": "stream",
     "text": [
      "\u001b[34m\u001b[1mwandb\u001b[0m:   1 of 1 files downloaded.  \n"
     ]
    },
    {
     "name": "stdout",
     "output_type": "stream",
     "text": [
      "2025-04-21 03:45:14,774 - INFO - Downloaded logs_sco57k23:v0 to /scratch/downloaded_artifacts/logs_sco57k23:v0\n"
     ]
    },
    {
     "name": "stderr",
     "output_type": "stream",
     "text": [
      "\u001b[34m\u001b[1mwandb\u001b[0m:   1 of 1 files downloaded.  \n"
     ]
    },
    {
     "name": "stdout",
     "output_type": "stream",
     "text": [
      "2025-04-21 03:45:15,001 - INFO - Downloaded logs_273yi63b:v0 to /scratch/downloaded_artifacts/logs_273yi63b:v0\n"
     ]
    },
    {
     "name": "stderr",
     "output_type": "stream",
     "text": [
      "\u001b[34m\u001b[1mwandb\u001b[0m:   1 of 1 files downloaded.  \n"
     ]
    },
    {
     "name": "stdout",
     "output_type": "stream",
     "text": [
      "2025-04-21 03:45:15,026 - INFO - Downloaded logs_28u19eir:v0 to /scratch/downloaded_artifacts/logs_28u19eir:v0\n"
     ]
    },
    {
     "name": "stderr",
     "output_type": "stream",
     "text": [
      "\u001b[34m\u001b[1mwandb\u001b[0m:   1 of 1 files downloaded.  \n"
     ]
    },
    {
     "name": "stdout",
     "output_type": "stream",
     "text": [
      "2025-04-21 03:45:15,035 - INFO - Downloaded logs_2avn758k:v0 to /scratch/downloaded_artifacts/logs_2avn758k:v0\n"
     ]
    },
    {
     "name": "stderr",
     "output_type": "stream",
     "text": [
      "\u001b[34m\u001b[1mwandb\u001b[0m:   1 of 1 files downloaded.  \n"
     ]
    },
    {
     "name": "stdout",
     "output_type": "stream",
     "text": [
      "2025-04-21 03:45:15,077 - INFO - Downloaded logs_t0sf5n6h:v0 to /scratch/downloaded_artifacts/logs_t0sf5n6h:v0\n"
     ]
    },
    {
     "name": "stderr",
     "output_type": "stream",
     "text": [
      "\u001b[34m\u001b[1mwandb\u001b[0m:   1 of 1 files downloaded.  \n"
     ]
    },
    {
     "name": "stdout",
     "output_type": "stream",
     "text": [
      "2025-04-21 03:45:15,419 - INFO - Downloaded logs_ywyp9u57:v0 to /scratch/downloaded_artifacts/logs_ywyp9u57:v0\n"
     ]
    },
    {
     "name": "stderr",
     "output_type": "stream",
     "text": [
      "\u001b[34m\u001b[1mwandb\u001b[0m:   1 of 1 files downloaded.  \n"
     ]
    },
    {
     "name": "stdout",
     "output_type": "stream",
     "text": [
      "2025-04-21 03:45:15,544 - INFO - Downloaded logs_4bxstk5c:v0 to /scratch/downloaded_artifacts/logs_4bxstk5c:v0\n"
     ]
    },
    {
     "name": "stderr",
     "output_type": "stream",
     "text": [
      "\u001b[34m\u001b[1mwandb\u001b[0m:   1 of 1 files downloaded.  \n"
     ]
    },
    {
     "name": "stdout",
     "output_type": "stream",
     "text": [
      "2025-04-21 03:45:15,689 - INFO - Downloaded logs_yscztp4x:v0 to /scratch/downloaded_artifacts/logs_yscztp4x:v0\n"
     ]
    },
    {
     "name": "stderr",
     "output_type": "stream",
     "text": [
      "\u001b[34m\u001b[1mwandb\u001b[0m:   1 of 1 files downloaded.  \n"
     ]
    },
    {
     "name": "stdout",
     "output_type": "stream",
     "text": [
      "2025-04-21 03:45:16,111 - INFO - Downloaded logs_505goaz4:v0 to /scratch/downloaded_artifacts/logs_505goaz4:v0\n"
     ]
    },
    {
     "name": "stderr",
     "output_type": "stream",
     "text": [
      "\u001b[34m\u001b[1mwandb\u001b[0m:   1 of 1 files downloaded.  \n"
     ]
    },
    {
     "name": "stdout",
     "output_type": "stream",
     "text": [
      "2025-04-21 03:45:16,470 - INFO - Downloaded logs_5wbm4srb:v0 to /scratch/downloaded_artifacts/logs_5wbm4srb:v0\n"
     ]
    },
    {
     "name": "stderr",
     "output_type": "stream",
     "text": [
      "\u001b[34m\u001b[1mwandb\u001b[0m:   1 of 1 files downloaded.  \n"
     ]
    },
    {
     "name": "stdout",
     "output_type": "stream",
     "text": [
      "2025-04-21 03:45:16,492 - INFO - Downloaded logs_9cquqwar:v0 to /scratch/downloaded_artifacts/logs_9cquqwar:v0\n"
     ]
    },
    {
     "name": "stderr",
     "output_type": "stream",
     "text": [
      "\u001b[34m\u001b[1mwandb\u001b[0m:   1 of 1 files downloaded.  \n"
     ]
    },
    {
     "name": "stdout",
     "output_type": "stream",
     "text": [
      "2025-04-21 03:45:16,672 - INFO - Downloaded logs_9gtbdc5f:v0 to /scratch/downloaded_artifacts/logs_9gtbdc5f:v0\n"
     ]
    },
    {
     "name": "stderr",
     "output_type": "stream",
     "text": [
      "\u001b[34m\u001b[1mwandb\u001b[0m:   1 of 1 files downloaded.  \n"
     ]
    },
    {
     "name": "stdout",
     "output_type": "stream",
     "text": [
      "2025-04-21 03:45:16,756 - INFO - Downloaded logs_ac52tx5w:v0 to /scratch/downloaded_artifacts/logs_ac52tx5w:v0\n"
     ]
    },
    {
     "name": "stderr",
     "output_type": "stream",
     "text": [
      "\u001b[34m\u001b[1mwandb\u001b[0m:   1 of 1 files downloaded.  \n"
     ]
    },
    {
     "name": "stdout",
     "output_type": "stream",
     "text": [
      "2025-04-21 03:45:16,896 - INFO - Downloaded logs_cd5e75s6:v0 to /scratch/downloaded_artifacts/logs_cd5e75s6:v0\n"
     ]
    },
    {
     "name": "stderr",
     "output_type": "stream",
     "text": [
      "\u001b[34m\u001b[1mwandb\u001b[0m:   1 of 1 files downloaded.  \n"
     ]
    },
    {
     "name": "stdout",
     "output_type": "stream",
     "text": [
      "2025-04-21 03:45:17,068 - INFO - Downloaded logs_ftxkftae:v0 to /scratch/downloaded_artifacts/logs_ftxkftae:v0\n"
     ]
    },
    {
     "name": "stderr",
     "output_type": "stream",
     "text": [
      "\u001b[34m\u001b[1mwandb\u001b[0m:   1 of 1 files downloaded.  \n"
     ]
    },
    {
     "name": "stdout",
     "output_type": "stream",
     "text": [
      "2025-04-21 03:45:17,106 - INFO - Downloaded logs_gezdm3s0:v0 to /scratch/downloaded_artifacts/logs_gezdm3s0:v0\n"
     ]
    },
    {
     "name": "stderr",
     "output_type": "stream",
     "text": [
      "\u001b[34m\u001b[1mwandb\u001b[0m:   1 of 1 files downloaded.  \n"
     ]
    },
    {
     "name": "stdout",
     "output_type": "stream",
     "text": [
      "2025-04-21 03:45:17,451 - INFO - Downloaded logs_gp4q8y4v:v0 to /scratch/downloaded_artifacts/logs_gp4q8y4v:v0\n"
     ]
    },
    {
     "name": "stderr",
     "output_type": "stream",
     "text": [
      "\u001b[34m\u001b[1mwandb\u001b[0m:   1 of 1 files downloaded.  \n"
     ]
    },
    {
     "name": "stdout",
     "output_type": "stream",
     "text": [
      "2025-04-21 03:45:17,489 - INFO - Downloaded logs_hql5x3kf:v0 to /scratch/downloaded_artifacts/logs_hql5x3kf:v0\n"
     ]
    },
    {
     "name": "stderr",
     "output_type": "stream",
     "text": [
      "\u001b[34m\u001b[1mwandb\u001b[0m:   1 of 1 files downloaded.  \n"
     ]
    },
    {
     "name": "stdout",
     "output_type": "stream",
     "text": [
      "2025-04-21 03:45:17,630 - INFO - Downloaded logs_i7z35vco:v0 to /scratch/downloaded_artifacts/logs_i7z35vco:v0\n"
     ]
    },
    {
     "name": "stderr",
     "output_type": "stream",
     "text": [
      "\u001b[34m\u001b[1mwandb\u001b[0m:   1 of 1 files downloaded.  \n"
     ]
    },
    {
     "name": "stdout",
     "output_type": "stream",
     "text": [
      "2025-04-21 03:45:17,645 - INFO - Downloaded logs_jih1q7cn:v0 to /scratch/downloaded_artifacts/logs_jih1q7cn:v0\n"
     ]
    },
    {
     "name": "stderr",
     "output_type": "stream",
     "text": [
      "\u001b[34m\u001b[1mwandb\u001b[0m:   1 of 1 files downloaded.  \n"
     ]
    },
    {
     "name": "stdout",
     "output_type": "stream",
     "text": [
      "2025-04-21 03:45:17,916 - INFO - Downloaded logs_kzl7vpm6:v0 to /scratch/downloaded_artifacts/logs_kzl7vpm6:v0\n"
     ]
    },
    {
     "name": "stderr",
     "output_type": "stream",
     "text": [
      "\u001b[34m\u001b[1mwandb\u001b[0m:   1 of 1 files downloaded.  \n"
     ]
    },
    {
     "name": "stdout",
     "output_type": "stream",
     "text": [
      "2025-04-21 03:45:17,948 - INFO - Downloaded logs_l789ee05:v0 to /scratch/downloaded_artifacts/logs_l789ee05:v0\n"
     ]
    },
    {
     "name": "stderr",
     "output_type": "stream",
     "text": [
      "\u001b[34m\u001b[1mwandb\u001b[0m:   1 of 1 files downloaded.  \n"
     ]
    },
    {
     "name": "stdout",
     "output_type": "stream",
     "text": [
      "2025-04-21 03:45:18,067 - INFO - Downloaded logs_ns4c45i6:v0 to /scratch/downloaded_artifacts/logs_ns4c45i6:v0\n"
     ]
    },
    {
     "name": "stderr",
     "output_type": "stream",
     "text": [
      "\u001b[34m\u001b[1mwandb\u001b[0m:   1 of 1 files downloaded.  \n"
     ]
    },
    {
     "name": "stdout",
     "output_type": "stream",
     "text": [
      "2025-04-21 03:45:18,102 - INFO - Downloaded logs_lobftdhv:v0 to /scratch/downloaded_artifacts/logs_lobftdhv:v0\n"
     ]
    },
    {
     "name": "stderr",
     "output_type": "stream",
     "text": [
      "\u001b[34m\u001b[1mwandb\u001b[0m:   1 of 1 files downloaded.  \n"
     ]
    },
    {
     "name": "stdout",
     "output_type": "stream",
     "text": [
      "2025-04-21 03:45:18,162 - INFO - Downloaded logs_onz9rpqn:v0 to /scratch/downloaded_artifacts/logs_onz9rpqn:v0\n"
     ]
    },
    {
     "name": "stderr",
     "output_type": "stream",
     "text": [
      "\u001b[34m\u001b[1mwandb\u001b[0m:   1 of 1 files downloaded.  \n"
     ]
    },
    {
     "name": "stdout",
     "output_type": "stream",
     "text": [
      "2025-04-21 03:45:18,448 - INFO - Downloaded logs_reh41eym:v0 to /scratch/downloaded_artifacts/logs_reh41eym:v0\n"
     ]
    },
    {
     "name": "stderr",
     "output_type": "stream",
     "text": [
      "\u001b[34m\u001b[1mwandb\u001b[0m:   1 of 1 files downloaded.  \n"
     ]
    },
    {
     "name": "stdout",
     "output_type": "stream",
     "text": [
      "2025-04-21 03:45:18,539 - INFO - Downloaded logs_sx5nt2gk:v0 to /scratch/downloaded_artifacts/logs_sx5nt2gk:v0\n"
     ]
    },
    {
     "name": "stderr",
     "output_type": "stream",
     "text": [
      "\u001b[34m\u001b[1mwandb\u001b[0m:   1 of 1 files downloaded.  \n"
     ]
    },
    {
     "name": "stdout",
     "output_type": "stream",
     "text": [
      "2025-04-21 03:45:18,547 - INFO - Downloaded logs_qut8v7xs:v0 to /scratch/downloaded_artifacts/logs_qut8v7xs:v0\n"
     ]
    },
    {
     "name": "stderr",
     "output_type": "stream",
     "text": [
      "\u001b[34m\u001b[1mwandb\u001b[0m:   1 of 1 files downloaded.  \n"
     ]
    },
    {
     "name": "stdout",
     "output_type": "stream",
     "text": [
      "2025-04-21 03:45:18,731 - INFO - Downloaded logs_t400mwrv:v0 to /scratch/downloaded_artifacts/logs_t400mwrv:v0\n"
     ]
    },
    {
     "name": "stderr",
     "output_type": "stream",
     "text": [
      "\u001b[34m\u001b[1mwandb\u001b[0m:   1 of 1 files downloaded.  \n"
     ]
    },
    {
     "name": "stdout",
     "output_type": "stream",
     "text": [
      "2025-04-21 03:45:19,091 - INFO - Downloaded logs_4svfy8zi:v0 to /scratch/downloaded_artifacts/logs_4svfy8zi:v0\n"
     ]
    },
    {
     "name": "stderr",
     "output_type": "stream",
     "text": [
      "\u001b[34m\u001b[1mwandb\u001b[0m:   1 of 1 files downloaded.  \n"
     ]
    },
    {
     "name": "stdout",
     "output_type": "stream",
     "text": [
      "2025-04-21 03:45:19,144 - INFO - Downloaded logs_tw0cbd19:v0 to /scratch/downloaded_artifacts/logs_tw0cbd19:v0\n"
     ]
    },
    {
     "name": "stderr",
     "output_type": "stream",
     "text": [
      "\u001b[34m\u001b[1mwandb\u001b[0m:   1 of 1 files downloaded.  \n"
     ]
    },
    {
     "name": "stdout",
     "output_type": "stream",
     "text": [
      "2025-04-21 03:45:19,272 - INFO - Downloaded logs_yt8eso8c:v0 to /scratch/downloaded_artifacts/logs_yt8eso8c:v0\n"
     ]
    },
    {
     "name": "stderr",
     "output_type": "stream",
     "text": [
      "\u001b[34m\u001b[1mwandb\u001b[0m:   1 of 1 files downloaded.  \n"
     ]
    },
    {
     "name": "stdout",
     "output_type": "stream",
     "text": [
      "2025-04-21 03:45:19,690 - INFO - Downloaded logs_yzek0n7l:v0 to /scratch/downloaded_artifacts/logs_yzek0n7l:v0\n"
     ]
    },
    {
     "name": "stderr",
     "output_type": "stream",
     "text": [
      "\u001b[34m\u001b[1mwandb\u001b[0m:   1 of 1 files downloaded.  \n"
     ]
    },
    {
     "name": "stdout",
     "output_type": "stream",
     "text": [
      "2025-04-21 03:45:19,731 - INFO - Downloaded logs_zdh0s4lw:v0 to /scratch/downloaded_artifacts/logs_zdh0s4lw:v0\n"
     ]
    },
    {
     "name": "stderr",
     "output_type": "stream",
     "text": [
      "\u001b[34m\u001b[1mwandb\u001b[0m:   1 of 1 files downloaded.  \n"
     ]
    },
    {
     "name": "stdout",
     "output_type": "stream",
     "text": [
      "2025-04-21 03:45:19,928 - INFO - Downloaded logs_z97t40dy:v0 to /scratch/downloaded_artifacts/logs_z97t40dy:v0\n"
     ]
    },
    {
     "name": "stderr",
     "output_type": "stream",
     "text": [
      "\u001b[34m\u001b[1mwandb\u001b[0m:   1 of 1 files downloaded.  \n"
     ]
    },
    {
     "name": "stdout",
     "output_type": "stream",
     "text": [
      "2025-04-21 03:45:20,029 - INFO - Downloaded logs_237qn8es:v0 to /scratch/downloaded_artifacts/logs_237qn8es:v0\n"
     ]
    },
    {
     "name": "stderr",
     "output_type": "stream",
     "text": [
      "\u001b[34m\u001b[1mwandb\u001b[0m:   1 of 1 files downloaded.  \n"
     ]
    },
    {
     "name": "stdout",
     "output_type": "stream",
     "text": [
      "2025-04-21 03:45:20,122 - INFO - Downloaded logs_ztviaodr:v0 to /scratch/downloaded_artifacts/logs_ztviaodr:v0\n"
     ]
    },
    {
     "name": "stderr",
     "output_type": "stream",
     "text": [
      "\u001b[34m\u001b[1mwandb\u001b[0m:   1 of 1 files downloaded.  \n"
     ]
    },
    {
     "name": "stdout",
     "output_type": "stream",
     "text": [
      "2025-04-21 03:45:20,131 - INFO - Downloaded logs_3fuo38bt:v0 to /scratch/downloaded_artifacts/logs_3fuo38bt:v0\n"
     ]
    },
    {
     "name": "stderr",
     "output_type": "stream",
     "text": [
      "\u001b[34m\u001b[1mwandb\u001b[0m:   1 of 1 files downloaded.  \n"
     ]
    },
    {
     "name": "stdout",
     "output_type": "stream",
     "text": [
      "2025-04-21 03:45:20,254 - INFO - Downloaded logs_3mzc1xlb:v0 to /scratch/downloaded_artifacts/logs_3mzc1xlb:v0\n"
     ]
    },
    {
     "name": "stderr",
     "output_type": "stream",
     "text": [
      "\u001b[34m\u001b[1mwandb\u001b[0m:   1 of 1 files downloaded.  \n"
     ]
    },
    {
     "name": "stdout",
     "output_type": "stream",
     "text": [
      "2025-04-21 03:45:20,559 - INFO - Downloaded logs_8enlw20f:v0 to /scratch/downloaded_artifacts/logs_8enlw20f:v0\n"
     ]
    },
    {
     "name": "stderr",
     "output_type": "stream",
     "text": [
      "\u001b[34m\u001b[1mwandb\u001b[0m:   1 of 1 files downloaded.  \n"
     ]
    },
    {
     "name": "stdout",
     "output_type": "stream",
     "text": [
      "2025-04-21 03:45:20,654 - INFO - Downloaded logs_99i06g1c:v0 to /scratch/downloaded_artifacts/logs_99i06g1c:v0\n"
     ]
    },
    {
     "name": "stderr",
     "output_type": "stream",
     "text": [
      "\u001b[34m\u001b[1mwandb\u001b[0m:   1 of 1 files downloaded.  \n"
     ]
    },
    {
     "name": "stdout",
     "output_type": "stream",
     "text": [
      "2025-04-21 03:45:20,844 - INFO - Downloaded logs_d0k2wbcv:v0 to /scratch/downloaded_artifacts/logs_d0k2wbcv:v0\n"
     ]
    },
    {
     "name": "stderr",
     "output_type": "stream",
     "text": [
      "\u001b[34m\u001b[1mwandb\u001b[0m:   1 of 1 files downloaded.  \n"
     ]
    },
    {
     "name": "stdout",
     "output_type": "stream",
     "text": [
      "2025-04-21 03:45:20,925 - INFO - Downloaded logs_90ulnde5:v0 to /scratch/downloaded_artifacts/logs_90ulnde5:v0\n"
     ]
    },
    {
     "name": "stderr",
     "output_type": "stream",
     "text": [
      "\u001b[34m\u001b[1mwandb\u001b[0m:   1 of 1 files downloaded.  \n"
     ]
    },
    {
     "name": "stdout",
     "output_type": "stream",
     "text": [
      "2025-04-21 03:45:20,969 - INFO - Downloaded logs_gptwxsbf:v0 to /scratch/downloaded_artifacts/logs_gptwxsbf:v0\n"
     ]
    },
    {
     "name": "stderr",
     "output_type": "stream",
     "text": [
      "\u001b[34m\u001b[1mwandb\u001b[0m:   1 of 1 files downloaded.  \n"
     ]
    },
    {
     "name": "stdout",
     "output_type": "stream",
     "text": [
      "2025-04-21 03:45:21,092 - INFO - Downloaded logs_b0lawkki:v0 to /scratch/downloaded_artifacts/logs_b0lawkki:v0\n"
     ]
    },
    {
     "name": "stderr",
     "output_type": "stream",
     "text": [
      "\u001b[34m\u001b[1mwandb\u001b[0m:   1 of 1 files downloaded.  \n"
     ]
    },
    {
     "name": "stdout",
     "output_type": "stream",
     "text": [
      "2025-04-21 03:45:21,148 - INFO - Downloaded logs_ifwicwbp:v0 to /scratch/downloaded_artifacts/logs_ifwicwbp:v0\n"
     ]
    },
    {
     "name": "stderr",
     "output_type": "stream",
     "text": [
      "\u001b[34m\u001b[1mwandb\u001b[0m:   1 of 1 files downloaded.  \n"
     ]
    },
    {
     "name": "stdout",
     "output_type": "stream",
     "text": [
      "2025-04-21 03:45:21,312 - INFO - Downloaded logs_lmjwx19m:v0 to /scratch/downloaded_artifacts/logs_lmjwx19m:v0\n"
     ]
    },
    {
     "name": "stderr",
     "output_type": "stream",
     "text": [
      "\u001b[34m\u001b[1mwandb\u001b[0m:   1 of 1 files downloaded.  \n"
     ]
    },
    {
     "name": "stdout",
     "output_type": "stream",
     "text": [
      "2025-04-21 03:45:21,626 - INFO - Downloaded logs_kv4am6oe:v0 to /scratch/downloaded_artifacts/logs_kv4am6oe:v0\n"
     ]
    },
    {
     "name": "stderr",
     "output_type": "stream",
     "text": [
      "\u001b[34m\u001b[1mwandb\u001b[0m:   1 of 1 files downloaded.  \n"
     ]
    },
    {
     "name": "stdout",
     "output_type": "stream",
     "text": [
      "2025-04-21 03:45:21,731 - INFO - Downloaded logs_n62nixwc:v0 to /scratch/downloaded_artifacts/logs_n62nixwc:v0\n"
     ]
    },
    {
     "name": "stderr",
     "output_type": "stream",
     "text": [
      "\u001b[34m\u001b[1mwandb\u001b[0m:   1 of 1 files downloaded.  \n"
     ]
    },
    {
     "name": "stdout",
     "output_type": "stream",
     "text": [
      "2025-04-21 03:45:21,824 - INFO - Downloaded logs_omf4k1p7:v0 to /scratch/downloaded_artifacts/logs_omf4k1p7:v0\n"
     ]
    },
    {
     "name": "stderr",
     "output_type": "stream",
     "text": [
      "\u001b[34m\u001b[1mwandb\u001b[0m:   1 of 1 files downloaded.  \n"
     ]
    },
    {
     "name": "stdout",
     "output_type": "stream",
     "text": [
      "2025-04-21 03:45:21,949 - INFO - Downloaded logs_oxjjinsl:v0 to /scratch/downloaded_artifacts/logs_oxjjinsl:v0\n"
     ]
    },
    {
     "name": "stderr",
     "output_type": "stream",
     "text": [
      "\u001b[34m\u001b[1mwandb\u001b[0m:   1 of 1 files downloaded.  \n"
     ]
    },
    {
     "name": "stdout",
     "output_type": "stream",
     "text": [
      "2025-04-21 03:45:22,057 - INFO - Downloaded logs_ovnr50t3:v0 to /scratch/downloaded_artifacts/logs_ovnr50t3:v0\n"
     ]
    },
    {
     "name": "stderr",
     "output_type": "stream",
     "text": [
      "\u001b[34m\u001b[1mwandb\u001b[0m:   1 of 1 files downloaded.  \n"
     ]
    },
    {
     "name": "stdout",
     "output_type": "stream",
     "text": [
      "2025-04-21 03:45:22,380 - INFO - Downloaded logs_qasatupj:v0 to /scratch/downloaded_artifacts/logs_qasatupj:v0\n"
     ]
    },
    {
     "name": "stderr",
     "output_type": "stream",
     "text": [
      "\u001b[34m\u001b[1mwandb\u001b[0m:   1 of 1 files downloaded.  \n"
     ]
    },
    {
     "name": "stdout",
     "output_type": "stream",
     "text": [
      "2025-04-21 03:45:22,447 - INFO - Downloaded logs_qbbbf6dv:v0 to /scratch/downloaded_artifacts/logs_qbbbf6dv:v0\n"
     ]
    },
    {
     "name": "stderr",
     "output_type": "stream",
     "text": [
      "\u001b[34m\u001b[1mwandb\u001b[0m:   1 of 1 files downloaded.  \n"
     ]
    },
    {
     "name": "stdout",
     "output_type": "stream",
     "text": [
      "2025-04-21 03:45:22,629 - INFO - Downloaded logs_rp2seqfo:v0 to /scratch/downloaded_artifacts/logs_rp2seqfo:v0\n"
     ]
    },
    {
     "name": "stderr",
     "output_type": "stream",
     "text": [
      "\u001b[34m\u001b[1mwandb\u001b[0m:   1 of 1 files downloaded.  \n"
     ]
    },
    {
     "name": "stdout",
     "output_type": "stream",
     "text": [
      "2025-04-21 03:45:22,702 - INFO - Downloaded logs_qh7qghx2:v0 to /scratch/downloaded_artifacts/logs_qh7qghx2:v0\n"
     ]
    },
    {
     "name": "stderr",
     "output_type": "stream",
     "text": [
      "\u001b[34m\u001b[1mwandb\u001b[0m:   1 of 1 files downloaded.  \n"
     ]
    },
    {
     "name": "stdout",
     "output_type": "stream",
     "text": [
      "2025-04-21 03:45:22,728 - INFO - Downloaded logs_x7qgsowo:v0 to /scratch/downloaded_artifacts/logs_x7qgsowo:v0\n"
     ]
    },
    {
     "name": "stderr",
     "output_type": "stream",
     "text": [
      "\u001b[34m\u001b[1mwandb\u001b[0m:   1 of 1 files downloaded.  \n"
     ]
    },
    {
     "name": "stdout",
     "output_type": "stream",
     "text": [
      "2025-04-21 03:45:23,012 - INFO - Downloaded logs_xz9o4192:v0 to /scratch/downloaded_artifacts/logs_xz9o4192:v0\n"
     ]
    },
    {
     "name": "stderr",
     "output_type": "stream",
     "text": [
      "\u001b[34m\u001b[1mwandb\u001b[0m:   1 of 1 files downloaded.  \n"
     ]
    },
    {
     "name": "stdout",
     "output_type": "stream",
     "text": [
      "2025-04-21 03:45:23,081 - INFO - Downloaded logs_y569s1el:v0 to /scratch/downloaded_artifacts/logs_y569s1el:v0\n"
     ]
    },
    {
     "name": "stderr",
     "output_type": "stream",
     "text": [
      "\u001b[34m\u001b[1mwandb\u001b[0m:   1 of 1 files downloaded.  \n"
     ]
    },
    {
     "name": "stdout",
     "output_type": "stream",
     "text": [
      "2025-04-21 03:45:23,426 - INFO - Downloaded logs_z2ykodal:v0 to /scratch/downloaded_artifacts/logs_z2ykodal:v0\n"
     ]
    },
    {
     "name": "stderr",
     "output_type": "stream",
     "text": [
      "\u001b[34m\u001b[1mwandb\u001b[0m:   1 of 1 files downloaded.  \n"
     ]
    },
    {
     "name": "stdout",
     "output_type": "stream",
     "text": [
      "2025-04-21 03:45:23,444 - INFO - Downloaded logs_0rkln44p:v0 to /scratch/downloaded_artifacts/logs_0rkln44p:v0\n"
     ]
    },
    {
     "name": "stderr",
     "output_type": "stream",
     "text": [
      "\u001b[34m\u001b[1mwandb\u001b[0m:   1 of 1 files downloaded.  \n"
     ]
    },
    {
     "name": "stdout",
     "output_type": "stream",
     "text": [
      "2025-04-21 03:45:23,741 - INFO - Downloaded logs_9d2on6de:v0 to /scratch/downloaded_artifacts/logs_9d2on6de:v0\n"
     ]
    },
    {
     "name": "stderr",
     "output_type": "stream",
     "text": [
      "\u001b[34m\u001b[1mwandb\u001b[0m:   1 of 1 files downloaded.  \n"
     ]
    },
    {
     "name": "stdout",
     "output_type": "stream",
     "text": [
      "2025-04-21 03:45:23,796 - INFO - Downloaded logs_9wd60f6k:v0 to /scratch/downloaded_artifacts/logs_9wd60f6k:v0\n"
     ]
    },
    {
     "name": "stderr",
     "output_type": "stream",
     "text": [
      "\u001b[34m\u001b[1mwandb\u001b[0m:   1 of 1 files downloaded.  \n"
     ]
    },
    {
     "name": "stdout",
     "output_type": "stream",
     "text": [
      "2025-04-21 03:45:23,874 - INFO - Downloaded logs_1hastci2:v0 to /scratch/downloaded_artifacts/logs_1hastci2:v0\n"
     ]
    },
    {
     "name": "stderr",
     "output_type": "stream",
     "text": [
      "\u001b[34m\u001b[1mwandb\u001b[0m:   1 of 1 files downloaded.  \n"
     ]
    },
    {
     "name": "stdout",
     "output_type": "stream",
     "text": [
      "2025-04-21 03:45:23,889 - INFO - Downloaded logs_dkffajhq:v0 to /scratch/downloaded_artifacts/logs_dkffajhq:v0\n"
     ]
    },
    {
     "name": "stderr",
     "output_type": "stream",
     "text": [
      "\u001b[34m\u001b[1mwandb\u001b[0m:   1 of 1 files downloaded.  \n"
     ]
    },
    {
     "name": "stdout",
     "output_type": "stream",
     "text": [
      "2025-04-21 03:45:23,990 - INFO - Downloaded logs_dsr7tpve:v0 to /scratch/downloaded_artifacts/logs_dsr7tpve:v0\n"
     ]
    },
    {
     "name": "stderr",
     "output_type": "stream",
     "text": [
      "\u001b[34m\u001b[1mwandb\u001b[0m:   1 of 1 files downloaded.  \n"
     ]
    },
    {
     "name": "stdout",
     "output_type": "stream",
     "text": [
      "2025-04-21 03:45:24,202 - INFO - Downloaded logs_evr9jrwn:v0 to /scratch/downloaded_artifacts/logs_evr9jrwn:v0\n"
     ]
    },
    {
     "name": "stderr",
     "output_type": "stream",
     "text": [
      "\u001b[34m\u001b[1mwandb\u001b[0m:   1 of 1 files downloaded.  \n"
     ]
    },
    {
     "name": "stdout",
     "output_type": "stream",
     "text": [
      "2025-04-21 03:45:24,525 - INFO - Downloaded logs_f531e0gn:v0 to /scratch/downloaded_artifacts/logs_f531e0gn:v0\n"
     ]
    },
    {
     "name": "stderr",
     "output_type": "stream",
     "text": [
      "\u001b[34m\u001b[1mwandb\u001b[0m:   1 of 1 files downloaded.  \n"
     ]
    },
    {
     "name": "stdout",
     "output_type": "stream",
     "text": [
      "2025-04-21 03:45:24,539 - INFO - Downloaded logs_dugburm9:v0 to /scratch/downloaded_artifacts/logs_dugburm9:v0\n"
     ]
    },
    {
     "name": "stderr",
     "output_type": "stream",
     "text": [
      "\u001b[34m\u001b[1mwandb\u001b[0m:   1 of 1 files downloaded.  \n"
     ]
    },
    {
     "name": "stdout",
     "output_type": "stream",
     "text": [
      "2025-04-21 03:45:24,715 - INFO - Downloaded logs_gll2a4y2:v0 to /scratch/downloaded_artifacts/logs_gll2a4y2:v0\n"
     ]
    },
    {
     "name": "stderr",
     "output_type": "stream",
     "text": [
      "\u001b[34m\u001b[1mwandb\u001b[0m:   1 of 1 files downloaded.  \n"
     ]
    },
    {
     "name": "stdout",
     "output_type": "stream",
     "text": [
      "2025-04-21 03:45:24,828 - INFO - Downloaded logs_fh52nzic:v0 to /scratch/downloaded_artifacts/logs_fh52nzic:v0\n"
     ]
    },
    {
     "name": "stderr",
     "output_type": "stream",
     "text": [
      "\u001b[34m\u001b[1mwandb\u001b[0m:   1 of 1 files downloaded.  \n"
     ]
    },
    {
     "name": "stdout",
     "output_type": "stream",
     "text": [
      "2025-04-21 03:45:25,042 - INFO - Downloaded logs_kgg582xw:v0 to /scratch/downloaded_artifacts/logs_kgg582xw:v0\n"
     ]
    },
    {
     "name": "stderr",
     "output_type": "stream",
     "text": [
      "\u001b[34m\u001b[1mwandb\u001b[0m:   1 of 1 files downloaded.  \n"
     ]
    },
    {
     "name": "stdout",
     "output_type": "stream",
     "text": [
      "2025-04-21 03:45:25,106 - INFO - Downloaded logs_lnv8xc90:v0 to /scratch/downloaded_artifacts/logs_lnv8xc90:v0\n"
     ]
    },
    {
     "name": "stderr",
     "output_type": "stream",
     "text": [
      "\u001b[34m\u001b[1mwandb\u001b[0m:   1 of 1 files downloaded.  \n"
     ]
    },
    {
     "name": "stdout",
     "output_type": "stream",
     "text": [
      "2025-04-21 03:45:25,160 - INFO - Downloaded logs_mc5beou2:v0 to /scratch/downloaded_artifacts/logs_mc5beou2:v0\n"
     ]
    },
    {
     "name": "stderr",
     "output_type": "stream",
     "text": [
      "\u001b[34m\u001b[1mwandb\u001b[0m:   1 of 1 files downloaded.  \n"
     ]
    },
    {
     "name": "stdout",
     "output_type": "stream",
     "text": [
      "2025-04-21 03:45:25,328 - INFO - Downloaded logs_nkgb5o4m:v0 to /scratch/downloaded_artifacts/logs_nkgb5o4m:v0\n"
     ]
    },
    {
     "name": "stderr",
     "output_type": "stream",
     "text": [
      "\u001b[34m\u001b[1mwandb\u001b[0m:   1 of 1 files downloaded.  \n"
     ]
    },
    {
     "name": "stdout",
     "output_type": "stream",
     "text": [
      "2025-04-21 03:45:25,429 - INFO - Downloaded logs_qol090c4:v0 to /scratch/downloaded_artifacts/logs_qol090c4:v0\n"
     ]
    },
    {
     "name": "stderr",
     "output_type": "stream",
     "text": [
      "\u001b[34m\u001b[1mwandb\u001b[0m:   1 of 1 files downloaded.  \n"
     ]
    },
    {
     "name": "stdout",
     "output_type": "stream",
     "text": [
      "2025-04-21 03:45:25,443 - INFO - Downloaded logs_r2v6vyt6:v0 to /scratch/downloaded_artifacts/logs_r2v6vyt6:v0\n"
     ]
    },
    {
     "name": "stderr",
     "output_type": "stream",
     "text": [
      "\u001b[34m\u001b[1mwandb\u001b[0m:   1 of 1 files downloaded.  \n"
     ]
    },
    {
     "name": "stdout",
     "output_type": "stream",
     "text": [
      "2025-04-21 03:45:25,683 - INFO - Downloaded logs_r3iqagri:v0 to /scratch/downloaded_artifacts/logs_r3iqagri:v0\n"
     ]
    },
    {
     "name": "stderr",
     "output_type": "stream",
     "text": [
      "\u001b[34m\u001b[1mwandb\u001b[0m:   1 of 1 files downloaded.  \n"
     ]
    },
    {
     "name": "stdout",
     "output_type": "stream",
     "text": [
      "2025-04-21 03:45:25,761 - INFO - Downloaded logs_s0fawrg7:v0 to /scratch/downloaded_artifacts/logs_s0fawrg7:v0\n"
     ]
    },
    {
     "name": "stderr",
     "output_type": "stream",
     "text": [
      "\u001b[34m\u001b[1mwandb\u001b[0m:   1 of 1 files downloaded.  \n"
     ]
    },
    {
     "name": "stdout",
     "output_type": "stream",
     "text": [
      "2025-04-21 03:45:26,082 - INFO - Downloaded logs_ut4iqfz8:v0 to /scratch/downloaded_artifacts/logs_ut4iqfz8:v0\n"
     ]
    },
    {
     "name": "stderr",
     "output_type": "stream",
     "text": [
      "\u001b[34m\u001b[1mwandb\u001b[0m:   1 of 1 files downloaded.  \n"
     ]
    },
    {
     "name": "stdout",
     "output_type": "stream",
     "text": [
      "2025-04-21 03:45:26,115 - INFO - Downloaded logs_tbvffcoa:v0 to /scratch/downloaded_artifacts/logs_tbvffcoa:v0\n"
     ]
    },
    {
     "name": "stderr",
     "output_type": "stream",
     "text": [
      "\u001b[34m\u001b[1mwandb\u001b[0m:   1 of 1 files downloaded.  \n"
     ]
    },
    {
     "name": "stdout",
     "output_type": "stream",
     "text": [
      "2025-04-21 03:45:26,444 - INFO - Downloaded logs_wof5tl5z:v0 to /scratch/downloaded_artifacts/logs_wof5tl5z:v0\n"
     ]
    },
    {
     "name": "stderr",
     "output_type": "stream",
     "text": [
      "\u001b[34m\u001b[1mwandb\u001b[0m:   1 of 1 files downloaded.  \n"
     ]
    },
    {
     "name": "stdout",
     "output_type": "stream",
     "text": [
      "2025-04-21 03:45:26,575 - INFO - Downloaded logs_xth52f1f:v0 to /scratch/downloaded_artifacts/logs_xth52f1f:v0\n"
     ]
    },
    {
     "name": "stderr",
     "output_type": "stream",
     "text": [
      "\u001b[34m\u001b[1mwandb\u001b[0m:   1 of 1 files downloaded.  \n"
     ]
    },
    {
     "name": "stdout",
     "output_type": "stream",
     "text": [
      "2025-04-21 03:45:26,627 - INFO - Downloaded logs_wmcnn8ad:v0 to /scratch/downloaded_artifacts/logs_wmcnn8ad:v0\n"
     ]
    },
    {
     "name": "stderr",
     "output_type": "stream",
     "text": [
      "\u001b[34m\u001b[1mwandb\u001b[0m:   1 of 1 files downloaded.  \n"
     ]
    },
    {
     "name": "stdout",
     "output_type": "stream",
     "text": [
      "2025-04-21 03:45:26,691 - INFO - Downloaded logs_xe2s4h0k:v0 to /scratch/downloaded_artifacts/logs_xe2s4h0k:v0\n"
     ]
    },
    {
     "name": "stderr",
     "output_type": "stream",
     "text": [
      "\u001b[34m\u001b[1mwandb\u001b[0m:   1 of 1 files downloaded.  \n"
     ]
    },
    {
     "name": "stdout",
     "output_type": "stream",
     "text": [
      "2025-04-21 03:45:27,032 - INFO - Downloaded logs_0sgo0tul:v0 to /scratch/downloaded_artifacts/logs_0sgo0tul:v0\n"
     ]
    },
    {
     "name": "stderr",
     "output_type": "stream",
     "text": [
      "\u001b[34m\u001b[1mwandb\u001b[0m:   1 of 1 files downloaded.  \n"
     ]
    },
    {
     "name": "stdout",
     "output_type": "stream",
     "text": [
      "2025-04-21 03:45:27,326 - INFO - Downloaded logs_kjrohxko:v0 to /scratch/downloaded_artifacts/logs_kjrohxko:v0\n"
     ]
    },
    {
     "name": "stderr",
     "output_type": "stream",
     "text": [
      "\u001b[34m\u001b[1mwandb\u001b[0m:   1 of 1 files downloaded.  \n"
     ]
    },
    {
     "name": "stdout",
     "output_type": "stream",
     "text": [
      "2025-04-21 03:45:27,364 - INFO - Downloaded logs_my89nuyj:v0 to /scratch/downloaded_artifacts/logs_my89nuyj:v0\n"
     ]
    },
    {
     "name": "stderr",
     "output_type": "stream",
     "text": [
      "\u001b[34m\u001b[1mwandb\u001b[0m:   1 of 1 files downloaded.  \n"
     ]
    },
    {
     "name": "stdout",
     "output_type": "stream",
     "text": [
      "2025-04-21 03:45:27,385 - INFO - Downloaded logs_vkap1i6i:v0 to /scratch/downloaded_artifacts/logs_vkap1i6i:v0\n"
     ]
    },
    {
     "name": "stderr",
     "output_type": "stream",
     "text": [
      "\u001b[34m\u001b[1mwandb\u001b[0m:   1 of 1 files downloaded.  \n"
     ]
    },
    {
     "name": "stdout",
     "output_type": "stream",
     "text": [
      "2025-04-21 03:45:27,509 - INFO - Downloaded logs_05qshjsv:v0 to /scratch/downloaded_artifacts/logs_05qshjsv:v0\n"
     ]
    },
    {
     "name": "stderr",
     "output_type": "stream",
     "text": [
      "\u001b[34m\u001b[1mwandb\u001b[0m:   1 of 1 files downloaded.  \n"
     ]
    },
    {
     "name": "stdout",
     "output_type": "stream",
     "text": [
      "2025-04-21 03:45:27,590 - INFO - Downloaded logs_0f4xl11c:v0 to /scratch/downloaded_artifacts/logs_0f4xl11c:v0\n"
     ]
    },
    {
     "name": "stderr",
     "output_type": "stream",
     "text": [
      "\u001b[34m\u001b[1mwandb\u001b[0m:   1 of 1 files downloaded.  \n"
     ]
    },
    {
     "name": "stdout",
     "output_type": "stream",
     "text": [
      "2025-04-21 03:45:27,915 - INFO - Downloaded logs_4tgpk5gh:v0 to /scratch/downloaded_artifacts/logs_4tgpk5gh:v0\n"
     ]
    },
    {
     "name": "stderr",
     "output_type": "stream",
     "text": [
      "\u001b[34m\u001b[1mwandb\u001b[0m:   1 of 1 files downloaded.  \n"
     ]
    },
    {
     "name": "stdout",
     "output_type": "stream",
     "text": [
      "2025-04-21 03:45:27,986 - INFO - Downloaded logs_1jsaga3w:v0 to /scratch/downloaded_artifacts/logs_1jsaga3w:v0\n"
     ]
    },
    {
     "name": "stderr",
     "output_type": "stream",
     "text": [
      "\u001b[34m\u001b[1mwandb\u001b[0m:   1 of 1 files downloaded.  \n"
     ]
    },
    {
     "name": "stdout",
     "output_type": "stream",
     "text": [
      "2025-04-21 03:45:28,144 - INFO - Downloaded logs_50xh91oi:v0 to /scratch/downloaded_artifacts/logs_50xh91oi:v0\n"
     ]
    },
    {
     "name": "stderr",
     "output_type": "stream",
     "text": [
      "\u001b[34m\u001b[1mwandb\u001b[0m:   1 of 1 files downloaded.  \n"
     ]
    },
    {
     "name": "stdout",
     "output_type": "stream",
     "text": [
      "2025-04-21 03:45:28,251 - INFO - Downloaded logs_5mxpc6ss:v0 to /scratch/downloaded_artifacts/logs_5mxpc6ss:v0\n"
     ]
    },
    {
     "name": "stderr",
     "output_type": "stream",
     "text": [
      "\u001b[34m\u001b[1mwandb\u001b[0m:   1 of 1 files downloaded.  \n"
     ]
    },
    {
     "name": "stdout",
     "output_type": "stream",
     "text": [
      "2025-04-21 03:45:28,331 - INFO - Downloaded logs_4w0sahqy:v0 to /scratch/downloaded_artifacts/logs_4w0sahqy:v0\n"
     ]
    },
    {
     "name": "stderr",
     "output_type": "stream",
     "text": [
      "\u001b[34m\u001b[1mwandb\u001b[0m:   1 of 1 files downloaded.  \n"
     ]
    },
    {
     "name": "stdout",
     "output_type": "stream",
     "text": [
      "2025-04-21 03:45:28,356 - INFO - Downloaded logs_65vrwyod:v0 to /scratch/downloaded_artifacts/logs_65vrwyod:v0\n"
     ]
    },
    {
     "name": "stderr",
     "output_type": "stream",
     "text": [
      "\u001b[34m\u001b[1mwandb\u001b[0m:   1 of 1 files downloaded.  \n"
     ]
    },
    {
     "name": "stdout",
     "output_type": "stream",
     "text": [
      "2025-04-21 03:45:28,477 - INFO - Downloaded logs_aop1wavn:v0 to /scratch/downloaded_artifacts/logs_aop1wavn:v0\n"
     ]
    },
    {
     "name": "stderr",
     "output_type": "stream",
     "text": [
      "\u001b[34m\u001b[1mwandb\u001b[0m:   1 of 1 files downloaded.  \n"
     ]
    },
    {
     "name": "stdout",
     "output_type": "stream",
     "text": [
      "2025-04-21 03:45:28,565 - INFO - Downloaded logs_arb6h8fz:v0 to /scratch/downloaded_artifacts/logs_arb6h8fz:v0\n"
     ]
    },
    {
     "name": "stderr",
     "output_type": "stream",
     "text": [
      "\u001b[34m\u001b[1mwandb\u001b[0m:   1 of 1 files downloaded.  \n"
     ]
    },
    {
     "name": "stdout",
     "output_type": "stream",
     "text": [
      "2025-04-21 03:45:28,883 - INFO - Downloaded logs_bwamq9ea:v0 to /scratch/downloaded_artifacts/logs_bwamq9ea:v0\n"
     ]
    },
    {
     "name": "stderr",
     "output_type": "stream",
     "text": [
      "\u001b[34m\u001b[1mwandb\u001b[0m:   1 of 1 files downloaded.  \n"
     ]
    },
    {
     "name": "stdout",
     "output_type": "stream",
     "text": [
      "2025-04-21 03:45:28,943 - INFO - Downloaded logs_cs77bfxr:v0 to /scratch/downloaded_artifacts/logs_cs77bfxr:v0\n"
     ]
    },
    {
     "name": "stderr",
     "output_type": "stream",
     "text": [
      "\u001b[34m\u001b[1mwandb\u001b[0m:   1 of 1 files downloaded.  \n"
     ]
    },
    {
     "name": "stdout",
     "output_type": "stream",
     "text": [
      "2025-04-21 03:45:29,176 - INFO - Downloaded logs_gtow34ar:v0 to /scratch/downloaded_artifacts/logs_gtow34ar:v0\n"
     ]
    },
    {
     "name": "stderr",
     "output_type": "stream",
     "text": [
      "\u001b[34m\u001b[1mwandb\u001b[0m:   1 of 1 files downloaded.  \n"
     ]
    },
    {
     "name": "stdout",
     "output_type": "stream",
     "text": [
      "2025-04-21 03:45:29,234 - INFO - Downloaded logs_hut2ib9g:v0 to /scratch/downloaded_artifacts/logs_hut2ib9g:v0\n"
     ]
    },
    {
     "name": "stderr",
     "output_type": "stream",
     "text": [
      "\u001b[34m\u001b[1mwandb\u001b[0m:   1 of 1 files downloaded.  \n"
     ]
    },
    {
     "name": "stdout",
     "output_type": "stream",
     "text": [
      "2025-04-21 03:45:29,348 - INFO - Downloaded logs_iuxf410y:v0 to /scratch/downloaded_artifacts/logs_iuxf410y:v0\n"
     ]
    },
    {
     "name": "stderr",
     "output_type": "stream",
     "text": [
      "\u001b[34m\u001b[1mwandb\u001b[0m:   1 of 1 files downloaded.  \n"
     ]
    },
    {
     "name": "stdout",
     "output_type": "stream",
     "text": [
      "2025-04-21 03:45:29,550 - INFO - Downloaded logs_iz9oo1ld:v0 to /scratch/downloaded_artifacts/logs_iz9oo1ld:v0\n"
     ]
    },
    {
     "name": "stderr",
     "output_type": "stream",
     "text": [
      "\u001b[34m\u001b[1mwandb\u001b[0m:   1 of 1 files downloaded.  \n"
     ]
    },
    {
     "name": "stdout",
     "output_type": "stream",
     "text": [
      "2025-04-21 03:45:29,662 - INFO - Downloaded logs_jes6doov:v0 to /scratch/downloaded_artifacts/logs_jes6doov:v0\n"
     ]
    },
    {
     "name": "stderr",
     "output_type": "stream",
     "text": [
      "\u001b[34m\u001b[1mwandb\u001b[0m:   1 of 1 files downloaded.  \n"
     ]
    },
    {
     "name": "stdout",
     "output_type": "stream",
     "text": [
      "2025-04-21 03:45:29,999 - INFO - Downloaded logs_o1yxlaoh:v0 to /scratch/downloaded_artifacts/logs_o1yxlaoh:v0\n"
     ]
    },
    {
     "name": "stderr",
     "output_type": "stream",
     "text": [
      "\u001b[34m\u001b[1mwandb\u001b[0m:   1 of 1 files downloaded.  \n"
     ]
    },
    {
     "name": "stdout",
     "output_type": "stream",
     "text": [
      "2025-04-21 03:45:30,023 - INFO - Downloaded logs_pvljv9uv:v0 to /scratch/downloaded_artifacts/logs_pvljv9uv:v0\n"
     ]
    },
    {
     "name": "stderr",
     "output_type": "stream",
     "text": [
      "\u001b[34m\u001b[1mwandb\u001b[0m:   1 of 1 files downloaded.  \n",
      "\u001b[34m\u001b[1mwandb\u001b[0m:   1 of 1 files downloaded.  \n"
     ]
    },
    {
     "name": "stdout",
     "output_type": "stream",
     "text": [
      "2025-04-21 03:45:30,252 - INFO - Downloaded logs_s9h4sabu:v0 to /scratch/downloaded_artifacts/logs_s9h4sabu:v0\n",
      "2025-04-21 03:45:30,254 - INFO - Downloaded logs_j0mcdhpy:v0 to /scratch/downloaded_artifacts/logs_j0mcdhpy:v0\n"
     ]
    },
    {
     "name": "stderr",
     "output_type": "stream",
     "text": [
      "\u001b[34m\u001b[1mwandb\u001b[0m:   1 of 1 files downloaded.  \n"
     ]
    },
    {
     "name": "stdout",
     "output_type": "stream",
     "text": [
      "2025-04-21 03:45:30,297 - INFO - Downloaded logs_s6txmp31:v0 to /scratch/downloaded_artifacts/logs_s6txmp31:v0\n"
     ]
    },
    {
     "name": "stderr",
     "output_type": "stream",
     "text": [
      "\u001b[34m\u001b[1mwandb\u001b[0m:   1 of 1 files downloaded.  \n"
     ]
    },
    {
     "name": "stdout",
     "output_type": "stream",
     "text": [
      "2025-04-21 03:45:30,603 - INFO - Downloaded logs_t72moiwo:v0 to /scratch/downloaded_artifacts/logs_t72moiwo:v0\n"
     ]
    },
    {
     "name": "stderr",
     "output_type": "stream",
     "text": [
      "\u001b[34m\u001b[1mwandb\u001b[0m:   1 of 1 files downloaded.  \n"
     ]
    },
    {
     "name": "stdout",
     "output_type": "stream",
     "text": [
      "2025-04-21 03:45:30,641 - INFO - Downloaded logs_ts62w36s:v0 to /scratch/downloaded_artifacts/logs_ts62w36s:v0\n"
     ]
    },
    {
     "name": "stderr",
     "output_type": "stream",
     "text": [
      "\u001b[34m\u001b[1mwandb\u001b[0m:   1 of 1 files downloaded.  \n"
     ]
    },
    {
     "name": "stdout",
     "output_type": "stream",
     "text": [
      "2025-04-21 03:45:30,886 - INFO - Downloaded logs_uxvq3ojw:v0 to /scratch/downloaded_artifacts/logs_uxvq3ojw:v0\n"
     ]
    },
    {
     "name": "stderr",
     "output_type": "stream",
     "text": [
      "\u001b[34m\u001b[1mwandb\u001b[0m:   1 of 1 files downloaded.  \n"
     ]
    },
    {
     "name": "stdout",
     "output_type": "stream",
     "text": [
      "2025-04-21 03:45:30,965 - INFO - Downloaded logs_wqoj74qj:v0 to /scratch/downloaded_artifacts/logs_wqoj74qj:v0\n"
     ]
    },
    {
     "name": "stderr",
     "output_type": "stream",
     "text": [
      "\u001b[34m\u001b[1mwandb\u001b[0m:   1 of 1 files downloaded.  \n"
     ]
    },
    {
     "name": "stdout",
     "output_type": "stream",
     "text": [
      "2025-04-21 03:45:31,021 - INFO - Downloaded logs_x6vz8w0i:v0 to /scratch/downloaded_artifacts/logs_x6vz8w0i:v0\n"
     ]
    },
    {
     "name": "stderr",
     "output_type": "stream",
     "text": [
      "\u001b[34m\u001b[1mwandb\u001b[0m:   1 of 1 files downloaded.  \n"
     ]
    },
    {
     "name": "stdout",
     "output_type": "stream",
     "text": [
      "2025-04-21 03:45:31,215 - INFO - Downloaded logs_pq0f860v:v0 to /scratch/downloaded_artifacts/logs_pq0f860v:v0\n"
     ]
    },
    {
     "name": "stderr",
     "output_type": "stream",
     "text": [
      "\u001b[34m\u001b[1mwandb\u001b[0m:   1 of 1 files downloaded.  \n"
     ]
    },
    {
     "name": "stdout",
     "output_type": "stream",
     "text": [
      "2025-04-21 03:45:31,276 - INFO - Downloaded logs_z41va28p:v0 to /scratch/downloaded_artifacts/logs_z41va28p:v0\n"
     ]
    },
    {
     "name": "stderr",
     "output_type": "stream",
     "text": [
      "\u001b[34m\u001b[1mwandb\u001b[0m:   1 of 1 files downloaded.  \n"
     ]
    },
    {
     "name": "stdout",
     "output_type": "stream",
     "text": [
      "2025-04-21 03:45:31,395 - INFO - Downloaded logs_l57wyode:v0 to /scratch/downloaded_artifacts/logs_l57wyode:v0\n"
     ]
    },
    {
     "name": "stderr",
     "output_type": "stream",
     "text": [
      "\u001b[34m\u001b[1mwandb\u001b[0m:   1 of 1 files downloaded.  \n"
     ]
    },
    {
     "name": "stdout",
     "output_type": "stream",
     "text": [
      "2025-04-21 03:45:31,639 - INFO - Downloaded logs_ziwmxq1s:v0 to /scratch/downloaded_artifacts/logs_ziwmxq1s:v0\n"
     ]
    },
    {
     "name": "stderr",
     "output_type": "stream",
     "text": [
      "\u001b[34m\u001b[1mwandb\u001b[0m:   1 of 1 files downloaded.  \n"
     ]
    },
    {
     "name": "stdout",
     "output_type": "stream",
     "text": [
      "2025-04-21 03:45:31,683 - INFO - Downloaded logs_0fkcycsx:v0 to /scratch/downloaded_artifacts/logs_0fkcycsx:v0\n"
     ]
    },
    {
     "name": "stderr",
     "output_type": "stream",
     "text": [
      "\u001b[34m\u001b[1mwandb\u001b[0m:   1 of 1 files downloaded.  \n"
     ]
    },
    {
     "name": "stdout",
     "output_type": "stream",
     "text": [
      "2025-04-21 03:45:31,926 - INFO - Downloaded logs_tpfu55wh:v0 to /scratch/downloaded_artifacts/logs_tpfu55wh:v0\n"
     ]
    },
    {
     "name": "stderr",
     "output_type": "stream",
     "text": [
      "\u001b[34m\u001b[1mwandb\u001b[0m:   1 of 1 files downloaded.  \n"
     ]
    },
    {
     "name": "stdout",
     "output_type": "stream",
     "text": [
      "2025-04-21 03:45:32,002 - INFO - Downloaded logs_108lj8ro:v0 to /scratch/downloaded_artifacts/logs_108lj8ro:v0\n"
     ]
    },
    {
     "name": "stderr",
     "output_type": "stream",
     "text": [
      "\u001b[34m\u001b[1mwandb\u001b[0m:   1 of 1 files downloaded.  \n"
     ]
    },
    {
     "name": "stdout",
     "output_type": "stream",
     "text": [
      "2025-04-21 03:45:32,120 - INFO - Downloaded logs_4btwzq9l:v0 to /scratch/downloaded_artifacts/logs_4btwzq9l:v0\n"
     ]
    },
    {
     "name": "stderr",
     "output_type": "stream",
     "text": [
      "\u001b[34m\u001b[1mwandb\u001b[0m:   1 of 1 files downloaded.  \n"
     ]
    },
    {
     "name": "stdout",
     "output_type": "stream",
     "text": [
      "2025-04-21 03:45:32,250 - INFO - Downloaded logs_925w225h:v0 to /scratch/downloaded_artifacts/logs_925w225h:v0\n"
     ]
    },
    {
     "name": "stderr",
     "output_type": "stream",
     "text": [
      "\u001b[34m\u001b[1mwandb\u001b[0m:   1 of 1 files downloaded.  \n"
     ]
    },
    {
     "name": "stdout",
     "output_type": "stream",
     "text": [
      "2025-04-21 03:45:32,351 - INFO - Downloaded logs_9wnls4bk:v0 to /scratch/downloaded_artifacts/logs_9wnls4bk:v0\n"
     ]
    },
    {
     "name": "stderr",
     "output_type": "stream",
     "text": [
      "\u001b[34m\u001b[1mwandb\u001b[0m:   1 of 1 files downloaded.  \n"
     ]
    },
    {
     "name": "stdout",
     "output_type": "stream",
     "text": [
      "2025-04-21 03:45:32,531 - INFO - Downloaded logs_ayucy0cv:v0 to /scratch/downloaded_artifacts/logs_ayucy0cv:v0\n"
     ]
    },
    {
     "name": "stderr",
     "output_type": "stream",
     "text": [
      "\u001b[34m\u001b[1mwandb\u001b[0m:   1 of 1 files downloaded.  \n"
     ]
    },
    {
     "name": "stdout",
     "output_type": "stream",
     "text": [
      "2025-04-21 03:45:32,663 - INFO - Downloaded logs_bpff928o:v0 to /scratch/downloaded_artifacts/logs_bpff928o:v0\n"
     ]
    },
    {
     "name": "stderr",
     "output_type": "stream",
     "text": [
      "\u001b[34m\u001b[1mwandb\u001b[0m:   1 of 1 files downloaded.  \n"
     ]
    },
    {
     "name": "stdout",
     "output_type": "stream",
     "text": [
      "2025-04-21 03:45:32,909 - INFO - Downloaded logs_extfvbg8:v0 to /scratch/downloaded_artifacts/logs_extfvbg8:v0\n"
     ]
    },
    {
     "name": "stderr",
     "output_type": "stream",
     "text": [
      "\u001b[34m\u001b[1mwandb\u001b[0m:   1 of 1 files downloaded.  \n"
     ]
    },
    {
     "name": "stdout",
     "output_type": "stream",
     "text": [
      "2025-04-21 03:45:33,022 - INFO - Downloaded logs_cnty1t2f:v0 to /scratch/downloaded_artifacts/logs_cnty1t2f:v0\n"
     ]
    },
    {
     "name": "stderr",
     "output_type": "stream",
     "text": [
      "\u001b[34m\u001b[1mwandb\u001b[0m:   1 of 1 files downloaded.  \n"
     ]
    },
    {
     "name": "stdout",
     "output_type": "stream",
     "text": [
      "2025-04-21 03:45:33,054 - INFO - Downloaded logs_fwcpir92:v0 to /scratch/downloaded_artifacts/logs_fwcpir92:v0\n"
     ]
    },
    {
     "name": "stderr",
     "output_type": "stream",
     "text": [
      "\u001b[34m\u001b[1mwandb\u001b[0m:   1 of 1 files downloaded.  \n"
     ]
    },
    {
     "name": "stdout",
     "output_type": "stream",
     "text": [
      "2025-04-21 03:45:33,293 - INFO - Downloaded logs_kd9aufa3:v0 to /scratch/downloaded_artifacts/logs_kd9aufa3:v0\n"
     ]
    },
    {
     "name": "stderr",
     "output_type": "stream",
     "text": [
      "\u001b[34m\u001b[1mwandb\u001b[0m:   1 of 1 files downloaded.  \n"
     ]
    },
    {
     "name": "stdout",
     "output_type": "stream",
     "text": [
      "2025-04-21 03:45:33,335 - INFO - Downloaded logs_jryexf61:v0 to /scratch/downloaded_artifacts/logs_jryexf61:v0\n"
     ]
    },
    {
     "name": "stderr",
     "output_type": "stream",
     "text": [
      "\u001b[34m\u001b[1mwandb\u001b[0m:   1 of 1 files downloaded.  \n"
     ]
    },
    {
     "name": "stdout",
     "output_type": "stream",
     "text": [
      "2025-04-21 03:45:33,588 - INFO - Downloaded logs_n26srcda:v0 to /scratch/downloaded_artifacts/logs_n26srcda:v0\n"
     ]
    },
    {
     "name": "stderr",
     "output_type": "stream",
     "text": [
      "\u001b[34m\u001b[1mwandb\u001b[0m:   1 of 1 files downloaded.  \n"
     ]
    },
    {
     "name": "stdout",
     "output_type": "stream",
     "text": [
      "2025-04-21 03:45:33,777 - INFO - Downloaded logs_ue87h05u:v0 to /scratch/downloaded_artifacts/logs_ue87h05u:v0\n"
     ]
    },
    {
     "name": "stderr",
     "output_type": "stream",
     "text": [
      "\u001b[34m\u001b[1mwandb\u001b[0m:   1 of 1 files downloaded.  \n"
     ]
    },
    {
     "name": "stdout",
     "output_type": "stream",
     "text": [
      "2025-04-21 03:45:33,995 - INFO - Downloaded logs_ur4b2szh:v0 to /scratch/downloaded_artifacts/logs_ur4b2szh:v0\n"
     ]
    },
    {
     "name": "stderr",
     "output_type": "stream",
     "text": [
      "\u001b[34m\u001b[1mwandb\u001b[0m:   1 of 1 files downloaded.  \n"
     ]
    },
    {
     "name": "stdout",
     "output_type": "stream",
     "text": [
      "2025-04-21 03:45:34,000 - INFO - Downloaded logs_ua23ibz2:v0 to /scratch/downloaded_artifacts/logs_ua23ibz2:v0\n"
     ]
    },
    {
     "name": "stderr",
     "output_type": "stream",
     "text": [
      "\u001b[34m\u001b[1mwandb\u001b[0m:   1 of 1 files downloaded.  \n"
     ]
    },
    {
     "name": "stdout",
     "output_type": "stream",
     "text": [
      "2025-04-21 03:45:34,074 - INFO - Downloaded logs_vwrj32g7:v0 to /scratch/downloaded_artifacts/logs_vwrj32g7:v0\n"
     ]
    },
    {
     "name": "stderr",
     "output_type": "stream",
     "text": [
      "\u001b[34m\u001b[1mwandb\u001b[0m:   1 of 1 files downloaded.  \n"
     ]
    },
    {
     "name": "stdout",
     "output_type": "stream",
     "text": [
      "2025-04-21 03:45:34,124 - INFO - Downloaded logs_w76jtzgs:v0 to /scratch/downloaded_artifacts/logs_w76jtzgs:v0\n"
     ]
    },
    {
     "name": "stderr",
     "output_type": "stream",
     "text": [
      "\u001b[34m\u001b[1mwandb\u001b[0m:   1 of 1 files downloaded.  \n"
     ]
    },
    {
     "name": "stdout",
     "output_type": "stream",
     "text": [
      "2025-04-21 03:45:34,411 - INFO - Downloaded logs_2xq6063f:v0 to /scratch/downloaded_artifacts/logs_2xq6063f:v0\n"
     ]
    },
    {
     "name": "stderr",
     "output_type": "stream",
     "text": [
      "\u001b[34m\u001b[1mwandb\u001b[0m:   1 of 1 files downloaded.  \n"
     ]
    },
    {
     "name": "stdout",
     "output_type": "stream",
     "text": [
      "2025-04-21 03:45:34,455 - INFO - Downloaded logs_1f95i0x1:v0 to /scratch/downloaded_artifacts/logs_1f95i0x1:v0\n"
     ]
    },
    {
     "name": "stderr",
     "output_type": "stream",
     "text": [
      "\u001b[34m\u001b[1mwandb\u001b[0m:   1 of 1 files downloaded.  \n"
     ]
    },
    {
     "name": "stdout",
     "output_type": "stream",
     "text": [
      "2025-04-21 03:45:34,675 - INFO - Downloaded logs_5rrqzbh1:v0 to /scratch/downloaded_artifacts/logs_5rrqzbh1:v0\n"
     ]
    },
    {
     "name": "stderr",
     "output_type": "stream",
     "text": [
      "\u001b[34m\u001b[1mwandb\u001b[0m:   1 of 1 files downloaded.  \n"
     ]
    },
    {
     "name": "stdout",
     "output_type": "stream",
     "text": [
      "2025-04-21 03:45:34,747 - INFO - Downloaded logs_5q0mepju:v0 to /scratch/downloaded_artifacts/logs_5q0mepju:v0\n"
     ]
    },
    {
     "name": "stderr",
     "output_type": "stream",
     "text": [
      "\u001b[34m\u001b[1mwandb\u001b[0m:   1 of 1 files downloaded.  \n"
     ]
    },
    {
     "name": "stdout",
     "output_type": "stream",
     "text": [
      "2025-04-21 03:45:34,879 - INFO - Downloaded logs_6q50vnv6:v0 to /scratch/downloaded_artifacts/logs_6q50vnv6:v0\n"
     ]
    },
    {
     "name": "stderr",
     "output_type": "stream",
     "text": [
      "\u001b[34m\u001b[1mwandb\u001b[0m:   1 of 1 files downloaded.  \n"
     ]
    },
    {
     "name": "stdout",
     "output_type": "stream",
     "text": [
      "2025-04-21 03:45:35,154 - INFO - Downloaded logs_8tpz3b74:v0 to /scratch/downloaded_artifacts/logs_8tpz3b74:v0\n"
     ]
    },
    {
     "name": "stderr",
     "output_type": "stream",
     "text": [
      "\u001b[34m\u001b[1mwandb\u001b[0m:   1 of 1 files downloaded.  \n"
     ]
    },
    {
     "name": "stdout",
     "output_type": "stream",
     "text": [
      "2025-04-21 03:45:35,224 - INFO - Downloaded logs_6rs1c3h1:v0 to /scratch/downloaded_artifacts/logs_6rs1c3h1:v0\n"
     ]
    },
    {
     "name": "stderr",
     "output_type": "stream",
     "text": [
      "\u001b[34m\u001b[1mwandb\u001b[0m:   1 of 1 files downloaded.  \n"
     ]
    },
    {
     "name": "stdout",
     "output_type": "stream",
     "text": [
      "2025-04-21 03:45:35,311 - INFO - Downloaded logs_i8edosl8:v0 to /scratch/downloaded_artifacts/logs_i8edosl8:v0\n"
     ]
    },
    {
     "name": "stderr",
     "output_type": "stream",
     "text": [
      "\u001b[34m\u001b[1mwandb\u001b[0m:   1 of 1 files downloaded.  \n"
     ]
    },
    {
     "name": "stdout",
     "output_type": "stream",
     "text": [
      "2025-04-21 03:45:35,394 - INFO - Downloaded logs_h44uaicm:v0 to /scratch/downloaded_artifacts/logs_h44uaicm:v0\n"
     ]
    },
    {
     "name": "stderr",
     "output_type": "stream",
     "text": [
      "\u001b[34m\u001b[1mwandb\u001b[0m:   1 of 1 files downloaded.  \n"
     ]
    },
    {
     "name": "stdout",
     "output_type": "stream",
     "text": [
      "2025-04-21 03:45:35,507 - INFO - Downloaded logs_l4id1im8:v0 to /scratch/downloaded_artifacts/logs_l4id1im8:v0\n"
     ]
    },
    {
     "name": "stderr",
     "output_type": "stream",
     "text": [
      "\u001b[34m\u001b[1mwandb\u001b[0m:   1 of 1 files downloaded.  \n"
     ]
    },
    {
     "name": "stdout",
     "output_type": "stream",
     "text": [
      "2025-04-21 03:45:35,792 - INFO - Downloaded logs_jmetj8x1:v0 to /scratch/downloaded_artifacts/logs_jmetj8x1:v0\n"
     ]
    },
    {
     "name": "stderr",
     "output_type": "stream",
     "text": [
      "\u001b[34m\u001b[1mwandb\u001b[0m:   1 of 1 files downloaded.  \n"
     ]
    },
    {
     "name": "stdout",
     "output_type": "stream",
     "text": [
      "2025-04-21 03:45:35,802 - INFO - Downloaded logs_is5gsb9t:v0 to /scratch/downloaded_artifacts/logs_is5gsb9t:v0\n"
     ]
    },
    {
     "name": "stderr",
     "output_type": "stream",
     "text": [
      "\u001b[34m\u001b[1mwandb\u001b[0m:   1 of 1 files downloaded.  \n"
     ]
    },
    {
     "name": "stdout",
     "output_type": "stream",
     "text": [
      "2025-04-21 03:45:36,030 - INFO - Downloaded logs_mhttkc91:v0 to /scratch/downloaded_artifacts/logs_mhttkc91:v0\n"
     ]
    },
    {
     "name": "stderr",
     "output_type": "stream",
     "text": [
      "\u001b[34m\u001b[1mwandb\u001b[0m:   1 of 1 files downloaded.  \n"
     ]
    },
    {
     "name": "stdout",
     "output_type": "stream",
     "text": [
      "2025-04-21 03:45:36,213 - INFO - Downloaded logs_lrcl9j4a:v0 to /scratch/downloaded_artifacts/logs_lrcl9j4a:v0\n"
     ]
    },
    {
     "name": "stderr",
     "output_type": "stream",
     "text": [
      "\u001b[34m\u001b[1mwandb\u001b[0m:   1 of 1 files downloaded.  \n"
     ]
    },
    {
     "name": "stdout",
     "output_type": "stream",
     "text": [
      "2025-04-21 03:45:36,262 - INFO - Downloaded logs_ob64zlac:v0 to /scratch/downloaded_artifacts/logs_ob64zlac:v0\n"
     ]
    },
    {
     "name": "stderr",
     "output_type": "stream",
     "text": [
      "\u001b[34m\u001b[1mwandb\u001b[0m:   1 of 1 files downloaded.  \n"
     ]
    },
    {
     "name": "stdout",
     "output_type": "stream",
     "text": [
      "2025-04-21 03:45:36,522 - INFO - Downloaded logs_qj5dtc3z:v0 to /scratch/downloaded_artifacts/logs_qj5dtc3z:v0\n"
     ]
    },
    {
     "name": "stderr",
     "output_type": "stream",
     "text": [
      "\u001b[34m\u001b[1mwandb\u001b[0m:   1 of 1 files downloaded.  \n"
     ]
    },
    {
     "name": "stdout",
     "output_type": "stream",
     "text": [
      "2025-04-21 03:45:36,642 - INFO - Downloaded logs_tgx6vgc8:v0 to /scratch/downloaded_artifacts/logs_tgx6vgc8:v0\n"
     ]
    },
    {
     "name": "stderr",
     "output_type": "stream",
     "text": [
      "\u001b[34m\u001b[1mwandb\u001b[0m:   1 of 1 files downloaded.  \n"
     ]
    },
    {
     "name": "stdout",
     "output_type": "stream",
     "text": [
      "2025-04-21 03:45:36,646 - INFO - Downloaded logs_wb9ka8u7:v0 to /scratch/downloaded_artifacts/logs_wb9ka8u7:v0\n"
     ]
    },
    {
     "name": "stderr",
     "output_type": "stream",
     "text": [
      "\u001b[34m\u001b[1mwandb\u001b[0m:   1 of 1 files downloaded.  \n"
     ]
    },
    {
     "name": "stdout",
     "output_type": "stream",
     "text": [
      "2025-04-21 03:45:36,770 - INFO - Downloaded logs_xduvalcp:v0 to /scratch/downloaded_artifacts/logs_xduvalcp:v0\n"
     ]
    },
    {
     "name": "stderr",
     "output_type": "stream",
     "text": [
      "\u001b[34m\u001b[1mwandb\u001b[0m:   1 of 1 files downloaded.  \n"
     ]
    },
    {
     "name": "stdout",
     "output_type": "stream",
     "text": [
      "2025-04-21 03:45:36,835 - INFO - Downloaded logs_z2icx6pj:v0 to /scratch/downloaded_artifacts/logs_z2icx6pj:v0\n"
     ]
    },
    {
     "name": "stderr",
     "output_type": "stream",
     "text": [
      "\u001b[34m\u001b[1mwandb\u001b[0m:   1 of 1 files downloaded.  \n"
     ]
    },
    {
     "name": "stdout",
     "output_type": "stream",
     "text": [
      "2025-04-21 03:45:37,041 - INFO - Downloaded logs_ztqcaay7:v0 to /scratch/downloaded_artifacts/logs_ztqcaay7:v0\n"
     ]
    },
    {
     "name": "stderr",
     "output_type": "stream",
     "text": [
      "\u001b[34m\u001b[1mwandb\u001b[0m:   1 of 1 files downloaded.  \n"
     ]
    },
    {
     "name": "stdout",
     "output_type": "stream",
     "text": [
      "2025-04-21 03:45:37,107 - INFO - Downloaded logs_j90aw0uf:v0 to /scratch/downloaded_artifacts/logs_j90aw0uf:v0\n"
     ]
    },
    {
     "name": "stderr",
     "output_type": "stream",
     "text": [
      "\u001b[34m\u001b[1mwandb\u001b[0m:   1 of 1 files downloaded.  \n",
      "\u001b[34m\u001b[1mwandb\u001b[0m:   1 of 1 files downloaded.  \n"
     ]
    },
    {
     "name": "stdout",
     "output_type": "stream",
     "text": [
      "2025-04-21 03:45:37,506 - INFO - Downloaded logs_0fzqm83c:v0 to /scratch/downloaded_artifacts/logs_0fzqm83c:v0\n",
      "2025-04-21 03:45:37,507 - INFO - Downloaded logs_26lrg0mj:v0 to /scratch/downloaded_artifacts/logs_26lrg0mj:v0\n"
     ]
    },
    {
     "name": "stderr",
     "output_type": "stream",
     "text": [
      "\u001b[34m\u001b[1mwandb\u001b[0m:   1 of 1 files downloaded.  \n"
     ]
    },
    {
     "name": "stdout",
     "output_type": "stream",
     "text": [
      "2025-04-21 03:45:37,520 - INFO - Downloaded logs_3nztn0gf:v0 to /scratch/downloaded_artifacts/logs_3nztn0gf:v0\n"
     ]
    },
    {
     "name": "stderr",
     "output_type": "stream",
     "text": [
      "\u001b[34m\u001b[1mwandb\u001b[0m:   1 of 1 files downloaded.  \n"
     ]
    },
    {
     "name": "stdout",
     "output_type": "stream",
     "text": [
      "2025-04-21 03:45:37,764 - INFO - Downloaded logs_9ycdm9nf:v0 to /scratch/downloaded_artifacts/logs_9ycdm9nf:v0\n"
     ]
    },
    {
     "name": "stderr",
     "output_type": "stream",
     "text": [
      "\u001b[34m\u001b[1mwandb\u001b[0m:   1 of 1 files downloaded.  \n"
     ]
    },
    {
     "name": "stdout",
     "output_type": "stream",
     "text": [
      "2025-04-21 03:45:37,942 - INFO - Downloaded logs_8eg3a6d5:v0 to /scratch/downloaded_artifacts/logs_8eg3a6d5:v0\n"
     ]
    },
    {
     "name": "stderr",
     "output_type": "stream",
     "text": [
      "\u001b[34m\u001b[1mwandb\u001b[0m:   1 of 1 files downloaded.  \n"
     ]
    },
    {
     "name": "stdout",
     "output_type": "stream",
     "text": [
      "2025-04-21 03:45:38,033 - INFO - Downloaded logs_a8v4gteg:v0 to /scratch/downloaded_artifacts/logs_a8v4gteg:v0\n"
     ]
    },
    {
     "name": "stderr",
     "output_type": "stream",
     "text": [
      "\u001b[34m\u001b[1mwandb\u001b[0m:   1 of 1 files downloaded.  \n"
     ]
    },
    {
     "name": "stdout",
     "output_type": "stream",
     "text": [
      "2025-04-21 03:45:38,120 - INFO - Downloaded logs_ag2ybql8:v0 to /scratch/downloaded_artifacts/logs_ag2ybql8:v0\n"
     ]
    },
    {
     "name": "stderr",
     "output_type": "stream",
     "text": [
      "\u001b[34m\u001b[1mwandb\u001b[0m:   1 of 1 files downloaded.  \n"
     ]
    },
    {
     "name": "stdout",
     "output_type": "stream",
     "text": [
      "2025-04-21 03:45:38,195 - INFO - Downloaded logs_cntzps7q:v0 to /scratch/downloaded_artifacts/logs_cntzps7q:v0\n"
     ]
    },
    {
     "name": "stderr",
     "output_type": "stream",
     "text": [
      "\u001b[34m\u001b[1mwandb\u001b[0m:   1 of 1 files downloaded.  \n"
     ]
    },
    {
     "name": "stdout",
     "output_type": "stream",
     "text": [
      "2025-04-21 03:45:38,468 - INFO - Downloaded logs_k65spog7:v0 to /scratch/downloaded_artifacts/logs_k65spog7:v0\n"
     ]
    },
    {
     "name": "stderr",
     "output_type": "stream",
     "text": [
      "\u001b[34m\u001b[1mwandb\u001b[0m:   1 of 1 files downloaded.  \n"
     ]
    },
    {
     "name": "stdout",
     "output_type": "stream",
     "text": [
      "2025-04-21 03:45:38,707 - INFO - Downloaded logs_m9poxg06:v0 to /scratch/downloaded_artifacts/logs_m9poxg06:v0\n"
     ]
    },
    {
     "name": "stderr",
     "output_type": "stream",
     "text": [
      "\u001b[34m\u001b[1mwandb\u001b[0m:   1 of 1 files downloaded.  \n"
     ]
    },
    {
     "name": "stdout",
     "output_type": "stream",
     "text": [
      "2025-04-21 03:45:38,721 - INFO - Downloaded logs_qeckwlgs:v0 to /scratch/downloaded_artifacts/logs_qeckwlgs:v0\n"
     ]
    },
    {
     "name": "stderr",
     "output_type": "stream",
     "text": [
      "\u001b[34m\u001b[1mwandb\u001b[0m:   1 of 1 files downloaded.  \n"
     ]
    },
    {
     "name": "stdout",
     "output_type": "stream",
     "text": [
      "2025-04-21 03:45:38,806 - INFO - Downloaded logs_y57d3ngh:v0 to /scratch/downloaded_artifacts/logs_y57d3ngh:v0\n"
     ]
    },
    {
     "name": "stderr",
     "output_type": "stream",
     "text": [
      "\u001b[34m\u001b[1mwandb\u001b[0m:   1 of 1 files downloaded.  \n"
     ]
    },
    {
     "name": "stdout",
     "output_type": "stream",
     "text": [
      "2025-04-21 03:45:38,975 - INFO - Downloaded logs_yhie3f1b:v0 to /scratch/downloaded_artifacts/logs_yhie3f1b:v0\n"
     ]
    },
    {
     "name": "stderr",
     "output_type": "stream",
     "text": [
      "\u001b[34m\u001b[1mwandb\u001b[0m:   1 of 1 files downloaded.  \n"
     ]
    },
    {
     "name": "stdout",
     "output_type": "stream",
     "text": [
      "2025-04-21 03:45:39,214 - INFO - Downloaded logs_0he2kgft:v0 to /scratch/downloaded_artifacts/logs_0he2kgft:v0\n"
     ]
    },
    {
     "name": "stderr",
     "output_type": "stream",
     "text": [
      "\u001b[34m\u001b[1mwandb\u001b[0m:   1 of 1 files downloaded.  \n"
     ]
    },
    {
     "name": "stdout",
     "output_type": "stream",
     "text": [
      "2025-04-21 03:45:39,262 - INFO - Downloaded logs_zsmyvmb1:v0 to /scratch/downloaded_artifacts/logs_zsmyvmb1:v0\n"
     ]
    },
    {
     "name": "stderr",
     "output_type": "stream",
     "text": [
      "\u001b[34m\u001b[1mwandb\u001b[0m:   1 of 1 files downloaded.  \n"
     ]
    },
    {
     "name": "stdout",
     "output_type": "stream",
     "text": [
      "2025-04-21 03:45:39,403 - INFO - Downloaded logs_1yjw1r05:v0 to /scratch/downloaded_artifacts/logs_1yjw1r05:v0\n"
     ]
    },
    {
     "name": "stderr",
     "output_type": "stream",
     "text": [
      "\u001b[34m\u001b[1mwandb\u001b[0m:   1 of 1 files downloaded.  \n"
     ]
    },
    {
     "name": "stdout",
     "output_type": "stream",
     "text": [
      "2025-04-21 03:45:39,529 - INFO - Downloaded logs_69ec6mnw:v0 to /scratch/downloaded_artifacts/logs_69ec6mnw:v0\n"
     ]
    },
    {
     "name": "stderr",
     "output_type": "stream",
     "text": [
      "\u001b[34m\u001b[1mwandb\u001b[0m:   1 of 1 files downloaded.  \n"
     ]
    },
    {
     "name": "stdout",
     "output_type": "stream",
     "text": [
      "2025-04-21 03:45:39,864 - INFO - Downloaded logs_3bqhayw7:v0 to /scratch/downloaded_artifacts/logs_3bqhayw7:v0\n"
     ]
    },
    {
     "name": "stderr",
     "output_type": "stream",
     "text": [
      "\u001b[34m\u001b[1mwandb\u001b[0m:   1 of 1 files downloaded.  \n"
     ]
    },
    {
     "name": "stdout",
     "output_type": "stream",
     "text": [
      "2025-04-21 03:45:40,119 - INFO - Downloaded logs_6v6js3bm:v0 to /scratch/downloaded_artifacts/logs_6v6js3bm:v0\n"
     ]
    },
    {
     "name": "stderr",
     "output_type": "stream",
     "text": [
      "\u001b[34m\u001b[1mwandb\u001b[0m:   1 of 1 files downloaded.  \n"
     ]
    },
    {
     "name": "stdout",
     "output_type": "stream",
     "text": [
      "2025-04-21 03:45:40,177 - INFO - Downloaded logs_7oubqp1h:v0 to /scratch/downloaded_artifacts/logs_7oubqp1h:v0\n"
     ]
    },
    {
     "name": "stderr",
     "output_type": "stream",
     "text": [
      "\u001b[34m\u001b[1mwandb\u001b[0m:   1 of 1 files downloaded.  \n"
     ]
    },
    {
     "name": "stdout",
     "output_type": "stream",
     "text": [
      "2025-04-21 03:45:40,630 - INFO - Downloaded logs_7t251g82:v0 to /scratch/downloaded_artifacts/logs_7t251g82:v0\n"
     ]
    },
    {
     "name": "stderr",
     "output_type": "stream",
     "text": [
      "\u001b[34m\u001b[1mwandb\u001b[0m:   1 of 1 files downloaded.  \n"
     ]
    },
    {
     "name": "stdout",
     "output_type": "stream",
     "text": [
      "2025-04-21 03:45:40,648 - INFO - Downloaded logs_7owp91yc:v0 to /scratch/downloaded_artifacts/logs_7owp91yc:v0\n"
     ]
    },
    {
     "name": "stderr",
     "output_type": "stream",
     "text": [
      "\u001b[34m\u001b[1mwandb\u001b[0m:   1 of 1 files downloaded.  \n"
     ]
    },
    {
     "name": "stdout",
     "output_type": "stream",
     "text": [
      "2025-04-21 03:45:40,788 - INFO - Downloaded logs_7xsiw9a0:v0 to /scratch/downloaded_artifacts/logs_7xsiw9a0:v0\n"
     ]
    },
    {
     "name": "stderr",
     "output_type": "stream",
     "text": [
      "\u001b[34m\u001b[1mwandb\u001b[0m:   1 of 1 files downloaded.  \n"
     ]
    },
    {
     "name": "stdout",
     "output_type": "stream",
     "text": [
      "2025-04-21 03:45:40,889 - INFO - Downloaded logs_81gihmq3:v0 to /scratch/downloaded_artifacts/logs_81gihmq3:v0\n"
     ]
    },
    {
     "name": "stderr",
     "output_type": "stream",
     "text": [
      "\u001b[34m\u001b[1mwandb\u001b[0m:   1 of 1 files downloaded.  \n"
     ]
    },
    {
     "name": "stdout",
     "output_type": "stream",
     "text": [
      "2025-04-21 03:45:41,071 - INFO - Downloaded logs_9jlak359:v0 to /scratch/downloaded_artifacts/logs_9jlak359:v0\n"
     ]
    },
    {
     "name": "stderr",
     "output_type": "stream",
     "text": [
      "\u001b[34m\u001b[1mwandb\u001b[0m:   1 of 1 files downloaded.  \n",
      "\u001b[34m\u001b[1mwandb\u001b[0m:   1 of 1 files downloaded.  \n"
     ]
    },
    {
     "name": "stdout",
     "output_type": "stream",
     "text": [
      "2025-04-21 03:45:41,285 - INFO - Downloaded logs_a441i94q:v0 to /scratch/downloaded_artifacts/logs_a441i94q:v0\n",
      "2025-04-21 03:45:41,288 - INFO - Downloaded logs_b5uzcduk:v0 to /scratch/downloaded_artifacts/logs_b5uzcduk:v0\n"
     ]
    },
    {
     "name": "stderr",
     "output_type": "stream",
     "text": [
      "\u001b[34m\u001b[1mwandb\u001b[0m:   1 of 1 files downloaded.  \n"
     ]
    },
    {
     "name": "stdout",
     "output_type": "stream",
     "text": [
      "2025-04-21 03:45:41,390 - INFO - Downloaded logs_bfehxf94:v0 to /scratch/downloaded_artifacts/logs_bfehxf94:v0\n"
     ]
    },
    {
     "name": "stderr",
     "output_type": "stream",
     "text": [
      "\u001b[34m\u001b[1mwandb\u001b[0m:   1 of 1 files downloaded.  \n"
     ]
    },
    {
     "name": "stdout",
     "output_type": "stream",
     "text": [
      "2025-04-21 03:45:41,686 - INFO - Downloaded logs_czod3o08:v0 to /scratch/downloaded_artifacts/logs_czod3o08:v0\n"
     ]
    },
    {
     "name": "stderr",
     "output_type": "stream",
     "text": [
      "\u001b[34m\u001b[1mwandb\u001b[0m:   1 of 1 files downloaded.  \n"
     ]
    },
    {
     "name": "stdout",
     "output_type": "stream",
     "text": [
      "2025-04-21 03:45:41,755 - INFO - Downloaded logs_g768u700:v0 to /scratch/downloaded_artifacts/logs_g768u700:v0\n"
     ]
    },
    {
     "name": "stderr",
     "output_type": "stream",
     "text": [
      "\u001b[34m\u001b[1mwandb\u001b[0m:   1 of 1 files downloaded.  \n"
     ]
    },
    {
     "name": "stdout",
     "output_type": "stream",
     "text": [
      "2025-04-21 03:45:41,917 - INFO - Downloaded logs_ka7c61p4:v0 to /scratch/downloaded_artifacts/logs_ka7c61p4:v0\n"
     ]
    },
    {
     "name": "stderr",
     "output_type": "stream",
     "text": [
      "\u001b[34m\u001b[1mwandb\u001b[0m:   1 of 1 files downloaded.  \n"
     ]
    },
    {
     "name": "stdout",
     "output_type": "stream",
     "text": [
      "2025-04-21 03:45:42,016 - INFO - Downloaded logs_iri5a12c:v0 to /scratch/downloaded_artifacts/logs_iri5a12c:v0\n"
     ]
    },
    {
     "name": "stderr",
     "output_type": "stream",
     "text": [
      "\u001b[34m\u001b[1mwandb\u001b[0m:   1 of 1 files downloaded.  \n"
     ]
    },
    {
     "name": "stdout",
     "output_type": "stream",
     "text": [
      "2025-04-21 03:45:42,036 - INFO - Downloaded logs_j4coo3cj:v0 to /scratch/downloaded_artifacts/logs_j4coo3cj:v0\n"
     ]
    },
    {
     "name": "stderr",
     "output_type": "stream",
     "text": [
      "\u001b[34m\u001b[1mwandb\u001b[0m:   1 of 1 files downloaded.  \n"
     ]
    },
    {
     "name": "stdout",
     "output_type": "stream",
     "text": [
      "2025-04-21 03:45:42,324 - INFO - Downloaded logs_m8vu5pwd:v0 to /scratch/downloaded_artifacts/logs_m8vu5pwd:v0\n"
     ]
    },
    {
     "name": "stderr",
     "output_type": "stream",
     "text": [
      "\u001b[34m\u001b[1mwandb\u001b[0m:   1 of 1 files downloaded.  \n"
     ]
    },
    {
     "name": "stdout",
     "output_type": "stream",
     "text": [
      "2025-04-21 03:45:42,531 - INFO - Downloaded logs_mbwkoxbb:v0 to /scratch/downloaded_artifacts/logs_mbwkoxbb:v0\n"
     ]
    },
    {
     "name": "stderr",
     "output_type": "stream",
     "text": [
      "\u001b[34m\u001b[1mwandb\u001b[0m:   1 of 1 files downloaded.  \n"
     ]
    },
    {
     "name": "stdout",
     "output_type": "stream",
     "text": [
      "2025-04-21 03:45:42,553 - INFO - Downloaded logs_m4xwn6nu:v0 to /scratch/downloaded_artifacts/logs_m4xwn6nu:v0\n"
     ]
    },
    {
     "name": "stderr",
     "output_type": "stream",
     "text": [
      "\u001b[34m\u001b[1mwandb\u001b[0m:   1 of 1 files downloaded.  \n"
     ]
    },
    {
     "name": "stdout",
     "output_type": "stream",
     "text": [
      "2025-04-21 03:45:42,583 - INFO - Downloaded logs_n4iubyj0:v0 to /scratch/downloaded_artifacts/logs_n4iubyj0:v0\n"
     ]
    },
    {
     "name": "stderr",
     "output_type": "stream",
     "text": [
      "\u001b[34m\u001b[1mwandb\u001b[0m:   1 of 1 files downloaded.  \n"
     ]
    },
    {
     "name": "stdout",
     "output_type": "stream",
     "text": [
      "2025-04-21 03:45:42,605 - INFO - Downloaded logs_n8atxqix:v0 to /scratch/downloaded_artifacts/logs_n8atxqix:v0\n"
     ]
    },
    {
     "name": "stderr",
     "output_type": "stream",
     "text": [
      "\u001b[34m\u001b[1mwandb\u001b[0m:   1 of 1 files downloaded.  \n"
     ]
    },
    {
     "name": "stdout",
     "output_type": "stream",
     "text": [
      "2025-04-21 03:45:42,791 - INFO - Downloaded logs_nv46j5h6:v0 to /scratch/downloaded_artifacts/logs_nv46j5h6:v0\n"
     ]
    },
    {
     "name": "stderr",
     "output_type": "stream",
     "text": [
      "\u001b[34m\u001b[1mwandb\u001b[0m:   1 of 1 files downloaded.  \n"
     ]
    },
    {
     "name": "stdout",
     "output_type": "stream",
     "text": [
      "2025-04-21 03:45:42,803 - INFO - Downloaded logs_o4q7w0f8:v0 to /scratch/downloaded_artifacts/logs_o4q7w0f8:v0\n"
     ]
    },
    {
     "name": "stderr",
     "output_type": "stream",
     "text": [
      "\u001b[34m\u001b[1mwandb\u001b[0m:   1 of 1 files downloaded.  \n"
     ]
    },
    {
     "name": "stdout",
     "output_type": "stream",
     "text": [
      "2025-04-21 03:45:43,184 - INFO - Downloaded logs_phvcdzhn:v0 to /scratch/downloaded_artifacts/logs_phvcdzhn:v0\n"
     ]
    },
    {
     "name": "stderr",
     "output_type": "stream",
     "text": [
      "\u001b[34m\u001b[1mwandb\u001b[0m:   1 of 1 files downloaded.  \n"
     ]
    },
    {
     "name": "stdout",
     "output_type": "stream",
     "text": [
      "2025-04-21 03:45:43,223 - INFO - Downloaded logs_oo6g8tv3:v0 to /scratch/downloaded_artifacts/logs_oo6g8tv3:v0\n"
     ]
    },
    {
     "name": "stderr",
     "output_type": "stream",
     "text": [
      "\u001b[34m\u001b[1mwandb\u001b[0m: \u001b[33mWARNING\u001b[0m Cache size exceeded. Attempting to reclaim space...\n",
      "\u001b[34m\u001b[1mwandb\u001b[0m: \u001b[33mWARNING\u001b[0m Cache contains 199.6MB of temporary files. Run `wandb artifact cleanup --remove-temp` to remove them.\n"
     ]
    },
    {
     "name": "stdout",
     "output_type": "stream",
     "text": [
      "2025-04-21 03:45:43,383 - ERROR - Error downloading artifact for run 19m5yceo: [Errno 28] No space left on device\n",
      "2025-04-21 03:45:43,384 - ERROR - Error downloading artifact for run sahqc80k: [Errno 28] No space left on device\n",
      "2025-04-21 03:45:43,384 - ERROR - Error downloading artifact for run r6q8nnwp: [Errno 28] No space left on device\n",
      "2025-04-21 03:45:43,384 - ERROR - Error downloading artifact for run 3iz28l9i: [Errno 28] No space left on device\n",
      "2025-04-21 03:45:43,384 - ERROR - Error downloading artifact for run 4l2ij0iq: [Errno 28] No space left on device\n",
      "2025-04-21 03:45:43,384 - ERROR - Error downloading artifact for run qc4kd5y3: [Errno 28] No space left on device\n",
      "2025-04-21 03:45:43,384 - ERROR - Error downloading artifact for run vaus5ryd: [Errno 28] No space left on device\n",
      "2025-04-21 03:45:43,384 - ERROR - Error downloading artifact for run ss6osdyx: [Errno 28] No space left on device\n",
      "2025-04-21 03:45:43,384 - ERROR - Error downloading artifact for run 4g64bm7u: [Errno 28] No space left on device\n",
      "2025-04-21 03:45:43,386 - ERROR - Error downloading artifact for run 08y0byn1: [Errno 28] No space left on device\n",
      "2025-04-21 03:45:43,386 - ERROR - Error downloading artifact for run w1rxg8kq: [Errno 28] No space left on device\n",
      "2025-04-21 03:45:43,386 - ERROR - Error downloading artifact for run u9lfky9e: [Errno 28] No space left on device\n"
     ]
    },
    {
     "name": "stderr",
     "output_type": "stream",
     "text": [
      "\u001b[34m\u001b[1mwandb\u001b[0m:   1 of 1 files downloaded.  \n"
     ]
    },
    {
     "name": "stdout",
     "output_type": "stream",
     "text": [
      "2025-04-21 03:45:44,447 - INFO - Downloaded logs_y7x5ulr3:v0 to /scratch/downloaded_artifacts/logs_y7x5ulr3:v0\n"
     ]
    },
    {
     "name": "stderr",
     "output_type": "stream",
     "text": [
      "\u001b[34m\u001b[1mwandb\u001b[0m:   1 of 1 files downloaded.  \n"
     ]
    },
    {
     "name": "stdout",
     "output_type": "stream",
     "text": [
      "2025-04-21 03:45:44,901 - INFO - Downloaded logs_powu0hao:v0 to /scratch/downloaded_artifacts/logs_powu0hao:v0\n"
     ]
    },
    {
     "name": "stderr",
     "output_type": "stream",
     "text": [
      "\u001b[34m\u001b[1mwandb\u001b[0m:   1 of 1 files downloaded.  \n"
     ]
    },
    {
     "name": "stdout",
     "output_type": "stream",
     "text": [
      "2025-04-21 03:45:44,911 - INFO - Downloaded logs_wx42crd2:v0 to /scratch/downloaded_artifacts/logs_wx42crd2:v0\n"
     ]
    },
    {
     "name": "stderr",
     "output_type": "stream",
     "text": [
      "\u001b[34m\u001b[1mwandb\u001b[0m:   1 of 1 files downloaded.  \n"
     ]
    },
    {
     "name": "stdout",
     "output_type": "stream",
     "text": [
      "2025-04-21 03:45:45,203 - INFO - Downloaded logs_6v1pbe9i:v0 to /scratch/downloaded_artifacts/logs_6v1pbe9i:v0\n"
     ]
    },
    {
     "name": "stderr",
     "output_type": "stream",
     "text": [
      "\u001b[34m\u001b[1mwandb\u001b[0m:   1 of 1 files downloaded.  \n"
     ]
    },
    {
     "name": "stdout",
     "output_type": "stream",
     "text": [
      "2025-04-21 03:45:45,240 - INFO - Downloaded logs_7wyb5q5n:v0 to /scratch/downloaded_artifacts/logs_7wyb5q5n:v0\n"
     ]
    },
    {
     "name": "stderr",
     "output_type": "stream",
     "text": [
      "\u001b[34m\u001b[1mwandb\u001b[0m:   1 of 1 files downloaded.  \n"
     ]
    },
    {
     "name": "stdout",
     "output_type": "stream",
     "text": [
      "2025-04-21 03:45:45,371 - INFO - Downloaded logs_z0o0sffe:v0 to /scratch/downloaded_artifacts/logs_z0o0sffe:v0\n"
     ]
    },
    {
     "name": "stderr",
     "output_type": "stream",
     "text": [
      "\u001b[34m\u001b[1mwandb\u001b[0m:   1 of 1 files downloaded.  \n"
     ]
    },
    {
     "name": "stdout",
     "output_type": "stream",
     "text": [
      "2025-04-21 03:45:46,060 - INFO - Downloaded logs_91c0vpmi:v0 to /scratch/downloaded_artifacts/logs_91c0vpmi:v0\n"
     ]
    },
    {
     "name": "stderr",
     "output_type": "stream",
     "text": [
      "\u001b[34m\u001b[1mwandb\u001b[0m:   1 of 1 files downloaded.  \n"
     ]
    },
    {
     "name": "stdout",
     "output_type": "stream",
     "text": [
      "2025-04-21 03:45:46,170 - INFO - Downloaded logs_a9lc8sqd:v0 to /scratch/downloaded_artifacts/logs_a9lc8sqd:v0\n"
     ]
    },
    {
     "name": "stderr",
     "output_type": "stream",
     "text": [
      "\u001b[34m\u001b[1mwandb\u001b[0m:   1 of 1 files downloaded.  \n"
     ]
    },
    {
     "name": "stdout",
     "output_type": "stream",
     "text": [
      "2025-04-21 03:45:46,524 - INFO - Downloaded logs_hgsilt2g:v0 to /scratch/downloaded_artifacts/logs_hgsilt2g:v0\n"
     ]
    },
    {
     "name": "stderr",
     "output_type": "stream",
     "text": [
      "\u001b[34m\u001b[1mwandb\u001b[0m:   1 of 1 files downloaded.  \n"
     ]
    },
    {
     "name": "stdout",
     "output_type": "stream",
     "text": [
      "2025-04-21 03:45:46,537 - INFO - Downloaded logs_h02ugla7:v0 to /scratch/downloaded_artifacts/logs_h02ugla7:v0\n"
     ]
    },
    {
     "name": "stderr",
     "output_type": "stream",
     "text": [
      "\u001b[34m\u001b[1mwandb\u001b[0m:   1 of 1 files downloaded.  \n"
     ]
    },
    {
     "name": "stdout",
     "output_type": "stream",
     "text": [
      "2025-04-21 03:45:46,539 - INFO - Downloaded logs_lzxc2vaf:v0 to /scratch/downloaded_artifacts/logs_lzxc2vaf:v0\n"
     ]
    },
    {
     "name": "stderr",
     "output_type": "stream",
     "text": [
      "\u001b[34m\u001b[1mwandb\u001b[0m:   1 of 1 files downloaded.  \n"
     ]
    },
    {
     "name": "stdout",
     "output_type": "stream",
     "text": [
      "2025-04-21 03:45:46,763 - INFO - Downloaded logs_eam8edrc:v0 to /scratch/downloaded_artifacts/logs_eam8edrc:v0\n"
     ]
    },
    {
     "name": "stderr",
     "output_type": "stream",
     "text": [
      "\u001b[34m\u001b[1mwandb\u001b[0m:   1 of 1 files downloaded.  \n"
     ]
    },
    {
     "name": "stdout",
     "output_type": "stream",
     "text": [
      "2025-04-21 03:45:46,902 - INFO - Downloaded logs_hz11h4jv:v0 to /scratch/downloaded_artifacts/logs_hz11h4jv:v0\n"
     ]
    },
    {
     "name": "stderr",
     "output_type": "stream",
     "text": [
      "\u001b[34m\u001b[1mwandb\u001b[0m:   1 of 1 files downloaded.  \n"
     ]
    },
    {
     "name": "stdout",
     "output_type": "stream",
     "text": [
      "2025-04-21 03:45:46,968 - INFO - Downloaded logs_up66lj83:v0 to /scratch/downloaded_artifacts/logs_up66lj83:v0\n"
     ]
    },
    {
     "name": "stderr",
     "output_type": "stream",
     "text": [
      "\u001b[34m\u001b[1mwandb\u001b[0m:   1 of 1 files downloaded.  \n"
     ]
    },
    {
     "name": "stdout",
     "output_type": "stream",
     "text": [
      "2025-04-21 03:45:47,076 - INFO - Downloaded logs_v492cphv:v0 to /scratch/downloaded_artifacts/logs_v492cphv:v0\n"
     ]
    },
    {
     "name": "stderr",
     "output_type": "stream",
     "text": [
      "\u001b[34m\u001b[1mwandb\u001b[0m:   1 of 1 files downloaded.  \n"
     ]
    },
    {
     "name": "stdout",
     "output_type": "stream",
     "text": [
      "2025-04-21 03:45:47,101 - INFO - Downloaded logs_vmeyalkj:v0 to /scratch/downloaded_artifacts/logs_vmeyalkj:v0\n"
     ]
    },
    {
     "name": "stderr",
     "output_type": "stream",
     "text": [
      "\u001b[34m\u001b[1mwandb\u001b[0m:   1 of 1 files downloaded.  \n"
     ]
    },
    {
     "name": "stdout",
     "output_type": "stream",
     "text": [
      "2025-04-21 03:45:47,134 - INFO - Downloaded logs_lu7uvxwc:v0 to /scratch/downloaded_artifacts/logs_lu7uvxwc:v0\n"
     ]
    },
    {
     "name": "stderr",
     "output_type": "stream",
     "text": [
      "\u001b[34m\u001b[1mwandb\u001b[0m:   1 of 1 files downloaded.  \n"
     ]
    },
    {
     "name": "stdout",
     "output_type": "stream",
     "text": [
      "2025-04-21 03:45:47,303 - INFO - Downloaded logs_z2m7v7jn:v0 to /scratch/downloaded_artifacts/logs_z2m7v7jn:v0\n"
     ]
    },
    {
     "name": "stderr",
     "output_type": "stream",
     "text": [
      "\u001b[34m\u001b[1mwandb\u001b[0m:   1 of 1 files downloaded.  \n"
     ]
    },
    {
     "name": "stdout",
     "output_type": "stream",
     "text": [
      "2025-04-21 03:45:47,395 - INFO - Downloaded logs_eqlv3yta:v0 to /scratch/downloaded_artifacts/logs_eqlv3yta:v0\n"
     ]
    },
    {
     "name": "stderr",
     "output_type": "stream",
     "text": [
      "\u001b[34m\u001b[1mwandb\u001b[0m:   1 of 1 files downloaded.  \n"
     ]
    },
    {
     "name": "stdout",
     "output_type": "stream",
     "text": [
      "2025-04-21 03:45:47,551 - INFO - Downloaded logs_xfmhw96g:v0 to /scratch/downloaded_artifacts/logs_xfmhw96g:v0\n"
     ]
    },
    {
     "name": "stderr",
     "output_type": "stream",
     "text": [
      "\u001b[34m\u001b[1mwandb\u001b[0m:   1 of 1 files downloaded.  \n"
     ]
    },
    {
     "name": "stdout",
     "output_type": "stream",
     "text": [
      "2025-04-21 03:45:49,796 - INFO - Downloaded logs_42jqhoj5:v0 to /scratch/downloaded_artifacts/logs_42jqhoj5:v0\n"
     ]
    },
    {
     "name": "stderr",
     "output_type": "stream",
     "text": [
      "\u001b[34m\u001b[1mwandb\u001b[0m:   1 of 1 files downloaded.  \n"
     ]
    },
    {
     "name": "stdout",
     "output_type": "stream",
     "text": [
      "2025-04-21 03:45:50,289 - INFO - Downloaded logs_077ykc5b:v0 to /scratch/downloaded_artifacts/logs_077ykc5b:v0\n"
     ]
    },
    {
     "name": "stderr",
     "output_type": "stream",
     "text": [
      "\u001b[34m\u001b[1mwandb\u001b[0m:   1 of 1 files downloaded.  \n"
     ]
    },
    {
     "name": "stdout",
     "output_type": "stream",
     "text": [
      "2025-04-21 03:45:50,926 - INFO - Downloaded logs_1nus1nve:v0 to /scratch/downloaded_artifacts/logs_1nus1nve:v0\n"
     ]
    },
    {
     "name": "stderr",
     "output_type": "stream",
     "text": [
      "\u001b[34m\u001b[1mwandb\u001b[0m:   1 of 1 files downloaded.  \n"
     ]
    },
    {
     "name": "stdout",
     "output_type": "stream",
     "text": [
      "2025-04-21 03:45:51,284 - INFO - Downloaded logs_0qh6p6ye:v0 to /scratch/downloaded_artifacts/logs_0qh6p6ye:v0\n"
     ]
    },
    {
     "name": "stderr",
     "output_type": "stream",
     "text": [
      "\u001b[34m\u001b[1mwandb\u001b[0m:   1 of 1 files downloaded.  \n"
     ]
    },
    {
     "name": "stdout",
     "output_type": "stream",
     "text": [
      "2025-04-21 03:45:51,850 - INFO - Downloaded logs_25odd901:v0 to /scratch/downloaded_artifacts/logs_25odd901:v0\n"
     ]
    },
    {
     "name": "stderr",
     "output_type": "stream",
     "text": [
      "\u001b[34m\u001b[1mwandb\u001b[0m:   1 of 1 files downloaded.  \n"
     ]
    },
    {
     "name": "stdout",
     "output_type": "stream",
     "text": [
      "2025-04-21 03:45:51,996 - INFO - Downloaded logs_mfv6vcnx:v0 to /scratch/downloaded_artifacts/logs_mfv6vcnx:v0\n"
     ]
    },
    {
     "name": "stderr",
     "output_type": "stream",
     "text": [
      "\u001b[34m\u001b[1mwandb\u001b[0m:   1 of 1 files downloaded.  \n"
     ]
    },
    {
     "name": "stdout",
     "output_type": "stream",
     "text": [
      "2025-04-21 03:45:52,146 - INFO - Downloaded logs_1q35j0hm:v0 to /scratch/downloaded_artifacts/logs_1q35j0hm:v0\n"
     ]
    },
    {
     "name": "stderr",
     "output_type": "stream",
     "text": [
      "\u001b[34m\u001b[1mwandb\u001b[0m:   1 of 1 files downloaded.  \n"
     ]
    },
    {
     "name": "stdout",
     "output_type": "stream",
     "text": [
      "2025-04-21 03:46:10,004 - INFO - Downloaded logs_akf7xazl:v0 to /scratch/downloaded_artifacts/logs_akf7xazl:v0\n"
     ]
    },
    {
     "name": "stderr",
     "output_type": "stream",
     "text": [
      "\u001b[34m\u001b[1mwandb\u001b[0m:   1 of 1 files downloaded.  \n"
     ]
    },
    {
     "name": "stdout",
     "output_type": "stream",
     "text": [
      "2025-04-21 03:46:10,371 - INFO - Downloaded logs_fnlcq0jc:v0 to /scratch/downloaded_artifacts/logs_fnlcq0jc:v0\n"
     ]
    },
    {
     "name": "stderr",
     "output_type": "stream",
     "text": [
      "\u001b[34m\u001b[1mwandb\u001b[0m:   1 of 1 files downloaded.  \n"
     ]
    },
    {
     "name": "stdout",
     "output_type": "stream",
     "text": [
      "2025-04-21 03:46:10,385 - INFO - Downloaded logs_6nda230p:v0 to /scratch/downloaded_artifacts/logs_6nda230p:v0\n"
     ]
    },
    {
     "name": "stderr",
     "output_type": "stream",
     "text": [
      "\u001b[34m\u001b[1mwandb\u001b[0m:   1 of 1 files downloaded.  \n"
     ]
    },
    {
     "name": "stdout",
     "output_type": "stream",
     "text": [
      "2025-04-21 03:46:10,529 - INFO - Downloaded logs_l09eszof:v0 to /scratch/downloaded_artifacts/logs_l09eszof:v0\n"
     ]
    },
    {
     "name": "stderr",
     "output_type": "stream",
     "text": [
      "\u001b[34m\u001b[1mwandb\u001b[0m:   1 of 1 files downloaded.  \n"
     ]
    },
    {
     "name": "stdout",
     "output_type": "stream",
     "text": [
      "2025-04-21 03:46:10,579 - INFO - Downloaded logs_eiviwu3p:v0 to /scratch/downloaded_artifacts/logs_eiviwu3p:v0\n"
     ]
    },
    {
     "name": "stderr",
     "output_type": "stream",
     "text": [
      "\u001b[34m\u001b[1mwandb\u001b[0m:   1 of 1 files downloaded.  \n"
     ]
    },
    {
     "name": "stdout",
     "output_type": "stream",
     "text": [
      "2025-04-21 03:46:10,606 - INFO - Downloaded logs_kp4rw6wu:v0 to /scratch/downloaded_artifacts/logs_kp4rw6wu:v0\n"
     ]
    },
    {
     "name": "stderr",
     "output_type": "stream",
     "text": [
      "\u001b[34m\u001b[1mwandb\u001b[0m:   1 of 1 files downloaded.  \n"
     ]
    },
    {
     "name": "stdout",
     "output_type": "stream",
     "text": [
      "2025-04-21 03:46:10,710 - INFO - Downloaded logs_m6f0eucu:v0 to /scratch/downloaded_artifacts/logs_m6f0eucu:v0\n"
     ]
    },
    {
     "name": "stderr",
     "output_type": "stream",
     "text": [
      "\u001b[34m\u001b[1mwandb\u001b[0m:   1 of 1 files downloaded.  \n"
     ]
    },
    {
     "name": "stdout",
     "output_type": "stream",
     "text": [
      "2025-04-21 03:46:10,718 - INFO - Downloaded logs_nmxnv5ja:v0 to /scratch/downloaded_artifacts/logs_nmxnv5ja:v0\n"
     ]
    },
    {
     "name": "stderr",
     "output_type": "stream",
     "text": [
      "\u001b[34m\u001b[1mwandb\u001b[0m:   1 of 1 files downloaded.  \n"
     ]
    },
    {
     "name": "stdout",
     "output_type": "stream",
     "text": [
      "2025-04-21 03:46:10,769 - INFO - Downloaded logs_6jjtctzc:v0 to /scratch/downloaded_artifacts/logs_6jjtctzc:v0\n"
     ]
    },
    {
     "name": "stderr",
     "output_type": "stream",
     "text": [
      "\u001b[34m\u001b[1mwandb\u001b[0m:   1 of 1 files downloaded.  \n"
     ]
    },
    {
     "name": "stdout",
     "output_type": "stream",
     "text": [
      "2025-04-21 03:46:10,788 - INFO - Downloaded logs_mfzzi3m9:v0 to /scratch/downloaded_artifacts/logs_mfzzi3m9:v0\n"
     ]
    },
    {
     "name": "stderr",
     "output_type": "stream",
     "text": [
      "\u001b[34m\u001b[1mwandb\u001b[0m:   1 of 1 files downloaded.  \n"
     ]
    },
    {
     "name": "stdout",
     "output_type": "stream",
     "text": [
      "2025-04-21 03:46:10,841 - INFO - Downloaded logs_9i6o73c3:v0 to /scratch/downloaded_artifacts/logs_9i6o73c3:v0\n"
     ]
    },
    {
     "name": "stderr",
     "output_type": "stream",
     "text": [
      "\u001b[34m\u001b[1mwandb\u001b[0m:   1 of 1 files downloaded.  \n"
     ]
    },
    {
     "name": "stdout",
     "output_type": "stream",
     "text": [
      "2025-04-21 03:46:10,993 - INFO - Downloaded logs_mrnf6l1j:v0 to /scratch/downloaded_artifacts/logs_mrnf6l1j:v0\n"
     ]
    },
    {
     "name": "stderr",
     "output_type": "stream",
     "text": [
      "\u001b[34m\u001b[1mwandb\u001b[0m:   1 of 1 files downloaded.  \n"
     ]
    },
    {
     "name": "stdout",
     "output_type": "stream",
     "text": [
      "2025-04-21 03:46:11,233 - INFO - Downloaded logs_hwvv3qqc:v0 to /scratch/downloaded_artifacts/logs_hwvv3qqc:v0\n"
     ]
    },
    {
     "name": "stderr",
     "output_type": "stream",
     "text": [
      "\u001b[34m\u001b[1mwandb\u001b[0m:   1 of 1 files downloaded.  \n"
     ]
    },
    {
     "name": "stdout",
     "output_type": "stream",
     "text": [
      "2025-04-21 03:46:11,572 - INFO - Downloaded logs_no3tkpvj:v0 to /scratch/downloaded_artifacts/logs_no3tkpvj:v0\n"
     ]
    },
    {
     "name": "stderr",
     "output_type": "stream",
     "text": [
      "\u001b[34m\u001b[1mwandb\u001b[0m:   1 of 1 files downloaded.  \n"
     ]
    },
    {
     "name": "stdout",
     "output_type": "stream",
     "text": [
      "2025-04-21 03:46:11,654 - INFO - Downloaded logs_p7rm1vy2:v0 to /scratch/downloaded_artifacts/logs_p7rm1vy2:v0\n"
     ]
    },
    {
     "name": "stderr",
     "output_type": "stream",
     "text": [
      "\u001b[34m\u001b[1mwandb\u001b[0m:   1 of 1 files downloaded.  \n"
     ]
    },
    {
     "name": "stdout",
     "output_type": "stream",
     "text": [
      "2025-04-21 03:46:11,754 - INFO - Downloaded logs_qyjrmkyq:v0 to /scratch/downloaded_artifacts/logs_qyjrmkyq:v0\n"
     ]
    },
    {
     "name": "stderr",
     "output_type": "stream",
     "text": [
      "\u001b[34m\u001b[1mwandb\u001b[0m:   1 of 1 files downloaded.  \n"
     ]
    },
    {
     "name": "stdout",
     "output_type": "stream",
     "text": [
      "2025-04-21 03:46:12,082 - INFO - Downloaded logs_qug31l7i:v0 to /scratch/downloaded_artifacts/logs_qug31l7i:v0\n"
     ]
    },
    {
     "name": "stderr",
     "output_type": "stream",
     "text": [
      "\u001b[34m\u001b[1mwandb\u001b[0m:   1 of 1 files downloaded.  \n"
     ]
    },
    {
     "name": "stdout",
     "output_type": "stream",
     "text": [
      "2025-04-21 03:46:12,247 - INFO - Downloaded logs_vdj9carx:v0 to /scratch/downloaded_artifacts/logs_vdj9carx:v0\n"
     ]
    },
    {
     "name": "stderr",
     "output_type": "stream",
     "text": [
      "\u001b[34m\u001b[1mwandb\u001b[0m:   1 of 1 files downloaded.  \n",
      "\u001b[34m\u001b[1mwandb\u001b[0m:   1 of 1 files downloaded.  \n"
     ]
    },
    {
     "name": "stdout",
     "output_type": "stream",
     "text": [
      "2025-04-21 03:46:12,286 - INFO - Downloaded logs_skaf7nbu:v0 to /scratch/downloaded_artifacts/logs_skaf7nbu:v0\n",
      "2025-04-21 03:46:12,287 - INFO - Downloaded logs_tdisf9aw:v0 to /scratch/downloaded_artifacts/logs_tdisf9aw:v0\n"
     ]
    },
    {
     "name": "stderr",
     "output_type": "stream",
     "text": [
      "\u001b[34m\u001b[1mwandb\u001b[0m:   1 of 1 files downloaded.  \n"
     ]
    },
    {
     "name": "stdout",
     "output_type": "stream",
     "text": [
      "2025-04-21 03:46:12,785 - INFO - Downloaded logs_viuuoyj1:v0 to /scratch/downloaded_artifacts/logs_viuuoyj1:v0\n"
     ]
    },
    {
     "name": "stderr",
     "output_type": "stream",
     "text": [
      "\u001b[34m\u001b[1mwandb\u001b[0m:   1 of 1 files downloaded.  \n"
     ]
    },
    {
     "name": "stdout",
     "output_type": "stream",
     "text": [
      "2025-04-21 03:46:13,055 - INFO - Downloaded logs_wi7qtp4v:v0 to /scratch/downloaded_artifacts/logs_wi7qtp4v:v0\n"
     ]
    },
    {
     "name": "stderr",
     "output_type": "stream",
     "text": [
      "\u001b[34m\u001b[1mwandb\u001b[0m:   1 of 1 files downloaded.  \n"
     ]
    },
    {
     "name": "stdout",
     "output_type": "stream",
     "text": [
      "2025-04-21 03:46:13,071 - INFO - Downloaded logs_ws73s1oo:v0 to /scratch/downloaded_artifacts/logs_ws73s1oo:v0\n"
     ]
    },
    {
     "name": "stderr",
     "output_type": "stream",
     "text": [
      "\u001b[34m\u001b[1mwandb\u001b[0m:   1 of 1 files downloaded.  \n"
     ]
    },
    {
     "name": "stdout",
     "output_type": "stream",
     "text": [
      "2025-04-21 03:46:13,312 - INFO - Downloaded logs_55c824if:v0 to /scratch/downloaded_artifacts/logs_55c824if:v0\n"
     ]
    },
    {
     "name": "stderr",
     "output_type": "stream",
     "text": [
      "\u001b[34m\u001b[1mwandb\u001b[0m:   1 of 1 files downloaded.  \n"
     ]
    },
    {
     "name": "stdout",
     "output_type": "stream",
     "text": [
      "2025-04-21 03:46:13,365 - INFO - Downloaded logs_xc59i1lf:v0 to /scratch/downloaded_artifacts/logs_xc59i1lf:v0\n"
     ]
    },
    {
     "name": "stderr",
     "output_type": "stream",
     "text": [
      "\u001b[34m\u001b[1mwandb\u001b[0m:   1 of 1 files downloaded.  \n"
     ]
    },
    {
     "name": "stdout",
     "output_type": "stream",
     "text": [
      "2025-04-21 03:46:13,512 - INFO - Downloaded logs_8w75o1cg:v0 to /scratch/downloaded_artifacts/logs_8w75o1cg:v0\n"
     ]
    },
    {
     "name": "stderr",
     "output_type": "stream",
     "text": [
      "\u001b[34m\u001b[1mwandb\u001b[0m:   1 of 1 files downloaded.  \n",
      "\u001b[34m\u001b[1mwandb\u001b[0m:   1 of 1 files downloaded.  \n"
     ]
    },
    {
     "name": "stdout",
     "output_type": "stream",
     "text": [
      "2025-04-21 03:46:13,519 - INFO - Downloaded logs_wtjob8im:v0 to /scratch/downloaded_artifacts/logs_wtjob8im:v0\n",
      "2025-04-21 03:46:13,522 - INFO - Downloaded logs_70przm5g:v0 to /scratch/downloaded_artifacts/logs_70przm5g:v0\n"
     ]
    },
    {
     "name": "stderr",
     "output_type": "stream",
     "text": [
      "\u001b[34m\u001b[1mwandb\u001b[0m:   1 of 1 files downloaded.  \n"
     ]
    },
    {
     "name": "stdout",
     "output_type": "stream",
     "text": [
      "2025-04-21 03:46:13,574 - INFO - Downloaded logs_cfrmphmy:v0 to /scratch/downloaded_artifacts/logs_cfrmphmy:v0\n"
     ]
    },
    {
     "name": "stderr",
     "output_type": "stream",
     "text": [
      "\u001b[34m\u001b[1mwandb\u001b[0m:   1 of 1 files downloaded.  \n"
     ]
    },
    {
     "name": "stdout",
     "output_type": "stream",
     "text": [
      "2025-04-21 03:46:13,579 - INFO - Downloaded logs_cf0qxf48:v0 to /scratch/downloaded_artifacts/logs_cf0qxf48:v0\n"
     ]
    },
    {
     "name": "stderr",
     "output_type": "stream",
     "text": [
      "\u001b[34m\u001b[1mwandb\u001b[0m:   1 of 1 files downloaded.  \n"
     ]
    },
    {
     "name": "stdout",
     "output_type": "stream",
     "text": [
      "2025-04-21 03:46:13,664 - INFO - Downloaded logs_bpftxq2r:v0 to /scratch/downloaded_artifacts/logs_bpftxq2r:v0\n"
     ]
    },
    {
     "name": "stderr",
     "output_type": "stream",
     "text": [
      "\u001b[34m\u001b[1mwandb\u001b[0m:   1 of 1 files downloaded.  \n"
     ]
    },
    {
     "name": "stdout",
     "output_type": "stream",
     "text": [
      "2025-04-21 03:46:13,878 - INFO - Downloaded logs_hc8g2j2m:v0 to /scratch/downloaded_artifacts/logs_hc8g2j2m:v0\n"
     ]
    },
    {
     "name": "stderr",
     "output_type": "stream",
     "text": [
      "\u001b[34m\u001b[1mwandb\u001b[0m:   1 of 1 files downloaded.  \n"
     ]
    },
    {
     "name": "stdout",
     "output_type": "stream",
     "text": [
      "2025-04-21 03:46:13,942 - INFO - Downloaded logs_ignridfo:v0 to /scratch/downloaded_artifacts/logs_ignridfo:v0\n"
     ]
    },
    {
     "name": "stderr",
     "output_type": "stream",
     "text": [
      "\u001b[34m\u001b[1mwandb\u001b[0m:   1 of 1 files downloaded.  \n"
     ]
    },
    {
     "name": "stdout",
     "output_type": "stream",
     "text": [
      "2025-04-21 03:46:14,245 - INFO - Downloaded logs_kkvdmfn7:v0 to /scratch/downloaded_artifacts/logs_kkvdmfn7:v0\n"
     ]
    },
    {
     "name": "stderr",
     "output_type": "stream",
     "text": [
      "\u001b[34m\u001b[1mwandb\u001b[0m:   1 of 1 files downloaded.  \n"
     ]
    },
    {
     "name": "stdout",
     "output_type": "stream",
     "text": [
      "2025-04-21 03:46:14,355 - INFO - Downloaded logs_mitfpxb2:v0 to /scratch/downloaded_artifacts/logs_mitfpxb2:v0\n"
     ]
    },
    {
     "name": "stderr",
     "output_type": "stream",
     "text": [
      "\u001b[34m\u001b[1mwandb\u001b[0m:   1 of 1 files downloaded.  \n"
     ]
    },
    {
     "name": "stdout",
     "output_type": "stream",
     "text": [
      "2025-04-21 03:46:14,434 - INFO - Downloaded logs_nv665yb4:v0 to /scratch/downloaded_artifacts/logs_nv665yb4:v0\n"
     ]
    },
    {
     "name": "stderr",
     "output_type": "stream",
     "text": [
      "\u001b[34m\u001b[1mwandb\u001b[0m:   1 of 1 files downloaded.  \n"
     ]
    },
    {
     "name": "stdout",
     "output_type": "stream",
     "text": [
      "2025-04-21 03:46:14,816 - INFO - Downloaded logs_nymprtw6:v0 to /scratch/downloaded_artifacts/logs_nymprtw6:v0\n"
     ]
    },
    {
     "name": "stderr",
     "output_type": "stream",
     "text": [
      "\u001b[34m\u001b[1mwandb\u001b[0m:   1 of 1 files downloaded.  \n"
     ]
    },
    {
     "name": "stdout",
     "output_type": "stream",
     "text": [
      "2025-04-21 03:46:14,855 - INFO - Downloaded logs_o0b2d3sr:v0 to /scratch/downloaded_artifacts/logs_o0b2d3sr:v0\n"
     ]
    },
    {
     "name": "stderr",
     "output_type": "stream",
     "text": [
      "\u001b[34m\u001b[1mwandb\u001b[0m:   1 of 1 files downloaded.  \n"
     ]
    },
    {
     "name": "stdout",
     "output_type": "stream",
     "text": [
      "2025-04-21 03:46:14,903 - INFO - Downloaded logs_pmisaay3:v0 to /scratch/downloaded_artifacts/logs_pmisaay3:v0\n"
     ]
    },
    {
     "name": "stderr",
     "output_type": "stream",
     "text": [
      "\u001b[34m\u001b[1mwandb\u001b[0m:   1 of 1 files downloaded.  \n"
     ]
    },
    {
     "name": "stdout",
     "output_type": "stream",
     "text": [
      "2025-04-21 03:46:14,955 - INFO - Downloaded logs_qnugeje9:v0 to /scratch/downloaded_artifacts/logs_qnugeje9:v0\n"
     ]
    },
    {
     "name": "stderr",
     "output_type": "stream",
     "text": [
      "\u001b[34m\u001b[1mwandb\u001b[0m:   1 of 1 files downloaded.  \n"
     ]
    },
    {
     "name": "stdout",
     "output_type": "stream",
     "text": [
      "2025-04-21 03:46:15,432 - INFO - Downloaded logs_qu4c26a0:v0 to /scratch/downloaded_artifacts/logs_qu4c26a0:v0\n"
     ]
    },
    {
     "name": "stderr",
     "output_type": "stream",
     "text": [
      "\u001b[34m\u001b[1mwandb\u001b[0m:   1 of 1 files downloaded.  \n"
     ]
    },
    {
     "name": "stdout",
     "output_type": "stream",
     "text": [
      "2025-04-21 03:46:15,730 - INFO - Downloaded logs_ssxu5adl:v0 to /scratch/downloaded_artifacts/logs_ssxu5adl:v0\n"
     ]
    },
    {
     "name": "stderr",
     "output_type": "stream",
     "text": [
      "\u001b[34m\u001b[1mwandb\u001b[0m:   1 of 1 files downloaded.  \n"
     ]
    },
    {
     "name": "stdout",
     "output_type": "stream",
     "text": [
      "2025-04-21 03:46:15,988 - INFO - Downloaded logs_u22wa4s7:v0 to /scratch/downloaded_artifacts/logs_u22wa4s7:v0\n"
     ]
    },
    {
     "name": "stderr",
     "output_type": "stream",
     "text": [
      "\u001b[34m\u001b[1mwandb\u001b[0m:   1 of 1 files downloaded.  \n"
     ]
    },
    {
     "name": "stdout",
     "output_type": "stream",
     "text": [
      "2025-04-21 03:46:16,065 - INFO - Downloaded logs_w3i7mh74:v0 to /scratch/downloaded_artifacts/logs_w3i7mh74:v0\n"
     ]
    },
    {
     "name": "stderr",
     "output_type": "stream",
     "text": [
      "\u001b[34m\u001b[1mwandb\u001b[0m:   1 of 1 files downloaded.  \n"
     ]
    },
    {
     "name": "stdout",
     "output_type": "stream",
     "text": [
      "2025-04-21 03:46:16,225 - INFO - Downloaded logs_uq5k5ghf:v0 to /scratch/downloaded_artifacts/logs_uq5k5ghf:v0\n"
     ]
    },
    {
     "name": "stderr",
     "output_type": "stream",
     "text": [
      "\u001b[34m\u001b[1mwandb\u001b[0m:   1 of 1 files downloaded.  \n"
     ]
    },
    {
     "name": "stdout",
     "output_type": "stream",
     "text": [
      "2025-04-21 03:46:16,276 - INFO - Downloaded logs_zgf5laju:v0 to /scratch/downloaded_artifacts/logs_zgf5laju:v0\n"
     ]
    },
    {
     "name": "stderr",
     "output_type": "stream",
     "text": [
      "\u001b[34m\u001b[1mwandb\u001b[0m:   1 of 1 files downloaded.  \n"
     ]
    },
    {
     "name": "stdout",
     "output_type": "stream",
     "text": [
      "2025-04-21 03:46:16,416 - INFO - Downloaded logs_4cfdl5sg:v0 to /scratch/downloaded_artifacts/logs_4cfdl5sg:v0\n"
     ]
    },
    {
     "name": "stderr",
     "output_type": "stream",
     "text": [
      "\u001b[34m\u001b[1mwandb\u001b[0m:   1 of 1 files downloaded.  \n"
     ]
    },
    {
     "name": "stdout",
     "output_type": "stream",
     "text": [
      "2025-04-21 03:46:16,488 - INFO - Downloaded logs_xddxbc1j:v0 to /scratch/downloaded_artifacts/logs_xddxbc1j:v0\n"
     ]
    },
    {
     "name": "stderr",
     "output_type": "stream",
     "text": [
      "\u001b[34m\u001b[1mwandb\u001b[0m:   1 of 1 files downloaded.  \n",
      "\u001b[34m\u001b[1mwandb\u001b[0m:   1 of 1 files downloaded.  \n"
     ]
    },
    {
     "name": "stdout",
     "output_type": "stream",
     "text": [
      "2025-04-21 03:46:16,499 - INFO - Downloaded logs_275oynsq:v0 to /scratch/downloaded_artifacts/logs_275oynsq:v0\n",
      "2025-04-21 03:46:16,502 - INFO - Downloaded logs_5vkm6mwa:v0 to /scratch/downloaded_artifacts/logs_5vkm6mwa:v0\n"
     ]
    },
    {
     "name": "stderr",
     "output_type": "stream",
     "text": [
      "\u001b[34m\u001b[1mwandb\u001b[0m:   1 of 1 files downloaded.  \n"
     ]
    },
    {
     "name": "stdout",
     "output_type": "stream",
     "text": [
      "2025-04-21 03:46:16,662 - INFO - Downloaded logs_w9t1vt2l:v0 to /scratch/downloaded_artifacts/logs_w9t1vt2l:v0\n"
     ]
    },
    {
     "name": "stderr",
     "output_type": "stream",
     "text": [
      "\u001b[34m\u001b[1mwandb\u001b[0m:   1 of 1 files downloaded.  \n"
     ]
    },
    {
     "name": "stdout",
     "output_type": "stream",
     "text": [
      "2025-04-21 03:46:16,782 - INFO - Downloaded logs_yc78xepu:v0 to /scratch/downloaded_artifacts/logs_yc78xepu:v0\n"
     ]
    },
    {
     "name": "stderr",
     "output_type": "stream",
     "text": [
      "\u001b[34m\u001b[1mwandb\u001b[0m:   1 of 1 files downloaded.  \n"
     ]
    },
    {
     "name": "stdout",
     "output_type": "stream",
     "text": [
      "2025-04-21 03:46:16,797 - INFO - Downloaded logs_6pp242yc:v0 to /scratch/downloaded_artifacts/logs_6pp242yc:v0\n"
     ]
    },
    {
     "name": "stderr",
     "output_type": "stream",
     "text": [
      "\u001b[34m\u001b[1mwandb\u001b[0m:   1 of 1 files downloaded.  \n"
     ]
    },
    {
     "name": "stdout",
     "output_type": "stream",
     "text": [
      "2025-04-21 03:46:17,144 - INFO - Downloaded logs_6teqnzq8:v0 to /scratch/downloaded_artifacts/logs_6teqnzq8:v0\n"
     ]
    },
    {
     "name": "stderr",
     "output_type": "stream",
     "text": [
      "\u001b[34m\u001b[1mwandb\u001b[0m:   1 of 1 files downloaded.  \n"
     ]
    },
    {
     "name": "stdout",
     "output_type": "stream",
     "text": [
      "2025-04-21 03:46:17,198 - INFO - Downloaded logs_7hzz4vk0:v0 to /scratch/downloaded_artifacts/logs_7hzz4vk0:v0\n"
     ]
    },
    {
     "name": "stderr",
     "output_type": "stream",
     "text": [
      "\u001b[34m\u001b[1mwandb\u001b[0m:   1 of 1 files downloaded.  \n"
     ]
    },
    {
     "name": "stdout",
     "output_type": "stream",
     "text": [
      "2025-04-21 03:46:17,274 - INFO - Downloaded logs_8rawql4h:v0 to /scratch/downloaded_artifacts/logs_8rawql4h:v0\n"
     ]
    },
    {
     "name": "stderr",
     "output_type": "stream",
     "text": [
      "\u001b[34m\u001b[1mwandb\u001b[0m:   1 of 1 files downloaded.  \n"
     ]
    },
    {
     "name": "stdout",
     "output_type": "stream",
     "text": [
      "2025-04-21 03:46:17,515 - INFO - Downloaded logs_9mwrvj69:v0 to /scratch/downloaded_artifacts/logs_9mwrvj69:v0\n"
     ]
    },
    {
     "name": "stderr",
     "output_type": "stream",
     "text": [
      "\u001b[34m\u001b[1mwandb\u001b[0m:   1 of 1 files downloaded.  \n"
     ]
    },
    {
     "name": "stdout",
     "output_type": "stream",
     "text": [
      "2025-04-21 03:46:17,553 - INFO - Downloaded logs_a9y5eyeq:v0 to /scratch/downloaded_artifacts/logs_a9y5eyeq:v0\n"
     ]
    },
    {
     "name": "stderr",
     "output_type": "stream",
     "text": [
      "\u001b[34m\u001b[1mwandb\u001b[0m:   1 of 1 files downloaded.  \n"
     ]
    },
    {
     "name": "stdout",
     "output_type": "stream",
     "text": [
      "2025-04-21 03:46:17,667 - INFO - Downloaded logs_ble3q8hl:v0 to /scratch/downloaded_artifacts/logs_ble3q8hl:v0\n"
     ]
    },
    {
     "name": "stderr",
     "output_type": "stream",
     "text": [
      "\u001b[34m\u001b[1mwandb\u001b[0m:   1 of 1 files downloaded.  \n"
     ]
    },
    {
     "name": "stdout",
     "output_type": "stream",
     "text": [
      "2025-04-21 03:46:17,696 - INFO - Downloaded logs_9xjb2j5o:v0 to /scratch/downloaded_artifacts/logs_9xjb2j5o:v0\n"
     ]
    },
    {
     "name": "stderr",
     "output_type": "stream",
     "text": [
      "\u001b[34m\u001b[1mwandb\u001b[0m:   1 of 1 files downloaded.  \n"
     ]
    },
    {
     "name": "stdout",
     "output_type": "stream",
     "text": [
      "2025-04-21 03:46:18,056 - INFO - Downloaded logs_e74797nx:v0 to /scratch/downloaded_artifacts/logs_e74797nx:v0\n"
     ]
    },
    {
     "name": "stderr",
     "output_type": "stream",
     "text": [
      "\u001b[34m\u001b[1mwandb\u001b[0m:   1 of 1 files downloaded.  \n"
     ]
    },
    {
     "name": "stdout",
     "output_type": "stream",
     "text": [
      "2025-04-21 03:46:18,426 - INFO - Downloaded logs_e8i785xd:v0 to /scratch/downloaded_artifacts/logs_e8i785xd:v0\n"
     ]
    },
    {
     "name": "stderr",
     "output_type": "stream",
     "text": [
      "\u001b[34m\u001b[1mwandb\u001b[0m:   1 of 1 files downloaded.  \n"
     ]
    },
    {
     "name": "stdout",
     "output_type": "stream",
     "text": [
      "2025-04-21 03:46:18,689 - INFO - Downloaded logs_ec7k71p2:v0 to /scratch/downloaded_artifacts/logs_ec7k71p2:v0\n"
     ]
    },
    {
     "name": "stderr",
     "output_type": "stream",
     "text": [
      "\u001b[34m\u001b[1mwandb\u001b[0m:   1 of 1 files downloaded.  \n"
     ]
    },
    {
     "name": "stdout",
     "output_type": "stream",
     "text": [
      "2025-04-21 03:46:18,744 - INFO - Downloaded logs_f9lr88xe:v0 to /scratch/downloaded_artifacts/logs_f9lr88xe:v0\n"
     ]
    },
    {
     "name": "stderr",
     "output_type": "stream",
     "text": [
      "\u001b[34m\u001b[1mwandb\u001b[0m:   1 of 1 files downloaded.  \n"
     ]
    },
    {
     "name": "stdout",
     "output_type": "stream",
     "text": [
      "2025-04-21 03:46:18,961 - INFO - Downloaded logs_fgy9zrlr:v0 to /scratch/downloaded_artifacts/logs_fgy9zrlr:v0\n"
     ]
    },
    {
     "name": "stderr",
     "output_type": "stream",
     "text": [
      "\u001b[34m\u001b[1mwandb\u001b[0m:   1 of 1 files downloaded.  \n"
     ]
    },
    {
     "name": "stdout",
     "output_type": "stream",
     "text": [
      "2025-04-21 03:46:18,997 - INFO - Downloaded logs_flen3sqh:v0 to /scratch/downloaded_artifacts/logs_flen3sqh:v0\n"
     ]
    },
    {
     "name": "stderr",
     "output_type": "stream",
     "text": [
      "\u001b[34m\u001b[1mwandb\u001b[0m:   1 of 1 files downloaded.  \n"
     ]
    },
    {
     "name": "stdout",
     "output_type": "stream",
     "text": [
      "2025-04-21 03:46:19,236 - INFO - Downloaded logs_hnqwhdpj:v0 to /scratch/downloaded_artifacts/logs_hnqwhdpj:v0\n"
     ]
    },
    {
     "name": "stderr",
     "output_type": "stream",
     "text": [
      "\u001b[34m\u001b[1mwandb\u001b[0m:   1 of 1 files downloaded.  \n"
     ]
    },
    {
     "name": "stdout",
     "output_type": "stream",
     "text": [
      "2025-04-21 03:46:19,242 - INFO - Downloaded logs_ehl5qxcp:v0 to /scratch/downloaded_artifacts/logs_ehl5qxcp:v0\n"
     ]
    },
    {
     "name": "stderr",
     "output_type": "stream",
     "text": [
      "\u001b[34m\u001b[1mwandb\u001b[0m:   1 of 1 files downloaded.  \n"
     ]
    },
    {
     "name": "stdout",
     "output_type": "stream",
     "text": [
      "2025-04-21 03:46:19,296 - INFO - Downloaded logs_gmk877a8:v0 to /scratch/downloaded_artifacts/logs_gmk877a8:v0\n"
     ]
    },
    {
     "name": "stderr",
     "output_type": "stream",
     "text": [
      "\u001b[34m\u001b[1mwandb\u001b[0m:   1 of 1 files downloaded.  \n"
     ]
    },
    {
     "name": "stdout",
     "output_type": "stream",
     "text": [
      "2025-04-21 03:46:19,469 - INFO - Downloaded logs_l2oy3po9:v0 to /scratch/downloaded_artifacts/logs_l2oy3po9:v0\n"
     ]
    },
    {
     "name": "stderr",
     "output_type": "stream",
     "text": [
      "\u001b[34m\u001b[1mwandb\u001b[0m:   1 of 1 files downloaded.  \n"
     ]
    },
    {
     "name": "stdout",
     "output_type": "stream",
     "text": [
      "2025-04-21 03:46:19,570 - INFO - Downloaded logs_hfb9fiyp:v0 to /scratch/downloaded_artifacts/logs_hfb9fiyp:v0\n"
     ]
    },
    {
     "name": "stderr",
     "output_type": "stream",
     "text": [
      "\u001b[34m\u001b[1mwandb\u001b[0m:   1 of 1 files downloaded.  \n"
     ]
    },
    {
     "name": "stdout",
     "output_type": "stream",
     "text": [
      "2025-04-21 03:46:19,706 - INFO - Downloaded logs_lfjmhkm0:v0 to /scratch/downloaded_artifacts/logs_lfjmhkm0:v0\n"
     ]
    },
    {
     "name": "stderr",
     "output_type": "stream",
     "text": [
      "\u001b[34m\u001b[1mwandb\u001b[0m:   1 of 1 files downloaded.  \n"
     ]
    },
    {
     "name": "stdout",
     "output_type": "stream",
     "text": [
      "2025-04-21 03:46:19,781 - INFO - Downloaded logs_ldmnphn6:v0 to /scratch/downloaded_artifacts/logs_ldmnphn6:v0\n"
     ]
    },
    {
     "name": "stderr",
     "output_type": "stream",
     "text": [
      "\u001b[34m\u001b[1mwandb\u001b[0m:   1 of 1 files downloaded.  \n"
     ]
    },
    {
     "name": "stdout",
     "output_type": "stream",
     "text": [
      "2025-04-21 03:46:19,859 - INFO - Downloaded logs_n4puy781:v0 to /scratch/downloaded_artifacts/logs_n4puy781:v0\n"
     ]
    },
    {
     "name": "stderr",
     "output_type": "stream",
     "text": [
      "\u001b[34m\u001b[1mwandb\u001b[0m:   1 of 1 files downloaded.  \n"
     ]
    },
    {
     "name": "stdout",
     "output_type": "stream",
     "text": [
      "2025-04-21 03:46:19,929 - INFO - Downloaded logs_qujfwo7h:v0 to /scratch/downloaded_artifacts/logs_qujfwo7h:v0\n"
     ]
    },
    {
     "name": "stderr",
     "output_type": "stream",
     "text": [
      "\u001b[34m\u001b[1mwandb\u001b[0m:   1 of 1 files downloaded.  \n"
     ]
    },
    {
     "name": "stdout",
     "output_type": "stream",
     "text": [
      "2025-04-21 03:46:19,946 - INFO - Downloaded logs_ot529e8e:v0 to /scratch/downloaded_artifacts/logs_ot529e8e:v0\n"
     ]
    },
    {
     "name": "stderr",
     "output_type": "stream",
     "text": [
      "\u001b[34m\u001b[1mwandb\u001b[0m:   1 of 1 files downloaded.  \n"
     ]
    },
    {
     "name": "stdout",
     "output_type": "stream",
     "text": [
      "2025-04-21 03:46:20,373 - INFO - Downloaded logs_r0ojmlf5:v0 to /scratch/downloaded_artifacts/logs_r0ojmlf5:v0\n"
     ]
    },
    {
     "name": "stderr",
     "output_type": "stream",
     "text": [
      "\u001b[34m\u001b[1mwandb\u001b[0m:   1 of 1 files downloaded.  \n"
     ]
    },
    {
     "name": "stdout",
     "output_type": "stream",
     "text": [
      "2025-04-21 03:46:20,530 - INFO - Downloaded logs_sz3wu3sh:v0 to /scratch/downloaded_artifacts/logs_sz3wu3sh:v0\n"
     ]
    },
    {
     "name": "stderr",
     "output_type": "stream",
     "text": [
      "\u001b[34m\u001b[1mwandb\u001b[0m:   1 of 1 files downloaded.  \n"
     ]
    },
    {
     "name": "stdout",
     "output_type": "stream",
     "text": [
      "2025-04-21 03:46:20,586 - INFO - Downloaded logs_u8k04hwz:v0 to /scratch/downloaded_artifacts/logs_u8k04hwz:v0\n"
     ]
    },
    {
     "name": "stderr",
     "output_type": "stream",
     "text": [
      "\u001b[34m\u001b[1mwandb\u001b[0m:   1 of 1 files downloaded.  \n"
     ]
    },
    {
     "name": "stdout",
     "output_type": "stream",
     "text": [
      "2025-04-21 03:46:20,829 - INFO - Downloaded logs_riqf2eo4:v0 to /scratch/downloaded_artifacts/logs_riqf2eo4:v0\n"
     ]
    },
    {
     "name": "stderr",
     "output_type": "stream",
     "text": [
      "\u001b[34m\u001b[1mwandb\u001b[0m:   1 of 1 files downloaded.  \n"
     ]
    },
    {
     "name": "stdout",
     "output_type": "stream",
     "text": [
      "2025-04-21 03:46:20,928 - INFO - Downloaded logs_uz7g5mly:v0 to /scratch/downloaded_artifacts/logs_uz7g5mly:v0\n"
     ]
    },
    {
     "name": "stderr",
     "output_type": "stream",
     "text": [
      "\u001b[34m\u001b[1mwandb\u001b[0m:   1 of 1 files downloaded.  \n"
     ]
    },
    {
     "name": "stdout",
     "output_type": "stream",
     "text": [
      "2025-04-21 03:46:21,066 - INFO - Downloaded logs_w01fkx0r:v0 to /scratch/downloaded_artifacts/logs_w01fkx0r:v0\n"
     ]
    },
    {
     "name": "stderr",
     "output_type": "stream",
     "text": [
      "\u001b[34m\u001b[1mwandb\u001b[0m:   1 of 1 files downloaded.  \n"
     ]
    },
    {
     "name": "stdout",
     "output_type": "stream",
     "text": [
      "2025-04-21 03:46:21,317 - INFO - Downloaded logs_wcemtvh3:v0 to /scratch/downloaded_artifacts/logs_wcemtvh3:v0\n"
     ]
    },
    {
     "name": "stderr",
     "output_type": "stream",
     "text": [
      "\u001b[34m\u001b[1mwandb\u001b[0m:   1 of 1 files downloaded.  \n"
     ]
    },
    {
     "name": "stdout",
     "output_type": "stream",
     "text": [
      "2025-04-21 03:46:21,372 - INFO - Downloaded logs_wnsez2vj:v0 to /scratch/downloaded_artifacts/logs_wnsez2vj:v0\n"
     ]
    },
    {
     "name": "stderr",
     "output_type": "stream",
     "text": [
      "\u001b[34m\u001b[1mwandb\u001b[0m:   1 of 1 files downloaded.  \n"
     ]
    },
    {
     "name": "stdout",
     "output_type": "stream",
     "text": [
      "2025-04-21 03:46:21,550 - INFO - Downloaded logs_yowgttw9:v0 to /scratch/downloaded_artifacts/logs_yowgttw9:v0\n"
     ]
    },
    {
     "name": "stderr",
     "output_type": "stream",
     "text": [
      "\u001b[34m\u001b[1mwandb\u001b[0m:   1 of 1 files downloaded.  \n"
     ]
    },
    {
     "name": "stdout",
     "output_type": "stream",
     "text": [
      "2025-04-21 03:46:21,758 - INFO - Downloaded logs_xa857l3j:v0 to /scratch/downloaded_artifacts/logs_xa857l3j:v0\n"
     ]
    },
    {
     "name": "stderr",
     "output_type": "stream",
     "text": [
      "\u001b[34m\u001b[1mwandb\u001b[0m:   1 of 1 files downloaded.  \n"
     ]
    },
    {
     "name": "stdout",
     "output_type": "stream",
     "text": [
      "2025-04-21 03:46:21,768 - INFO - Downloaded logs_yp4sns6n:v0 to /scratch/downloaded_artifacts/logs_yp4sns6n:v0\n"
     ]
    },
    {
     "name": "stderr",
     "output_type": "stream",
     "text": [
      "\u001b[34m\u001b[1mwandb\u001b[0m:   1 of 1 files downloaded.  \n"
     ]
    },
    {
     "name": "stdout",
     "output_type": "stream",
     "text": [
      "2025-04-21 03:46:21,839 - INFO - Downloaded logs_z7spd899:v0 to /scratch/downloaded_artifacts/logs_z7spd899:v0\n"
     ]
    },
    {
     "name": "stderr",
     "output_type": "stream",
     "text": [
      "\u001b[34m\u001b[1mwandb\u001b[0m:   1 of 1 files downloaded.  \n"
     ]
    },
    {
     "name": "stdout",
     "output_type": "stream",
     "text": [
      "2025-04-21 03:46:21,930 - INFO - Downloaded logs_2zw1ibup:v0 to /scratch/downloaded_artifacts/logs_2zw1ibup:v0\n"
     ]
    },
    {
     "name": "stderr",
     "output_type": "stream",
     "text": [
      "\u001b[34m\u001b[1mwandb\u001b[0m:   1 of 1 files downloaded.  \n"
     ]
    },
    {
     "name": "stdout",
     "output_type": "stream",
     "text": [
      "2025-04-21 03:46:22,070 - INFO - Downloaded logs_704brmna:v0 to /scratch/downloaded_artifacts/logs_704brmna:v0\n"
     ]
    },
    {
     "name": "stderr",
     "output_type": "stream",
     "text": [
      "\u001b[34m\u001b[1mwandb\u001b[0m:   1 of 1 files downloaded.  \n"
     ]
    },
    {
     "name": "stdout",
     "output_type": "stream",
     "text": [
      "2025-04-21 03:46:22,313 - INFO - Downloaded logs_okujrnxl:v0 to /scratch/downloaded_artifacts/logs_okujrnxl:v0\n"
     ]
    },
    {
     "name": "stderr",
     "output_type": "stream",
     "text": [
      "\u001b[34m\u001b[1mwandb\u001b[0m:   1 of 1 files downloaded.  \n"
     ]
    },
    {
     "name": "stdout",
     "output_type": "stream",
     "text": [
      "2025-04-21 03:46:22,387 - INFO - Downloaded logs_1o23vup2:v0 to /scratch/downloaded_artifacts/logs_1o23vup2:v0\n"
     ]
    },
    {
     "name": "stderr",
     "output_type": "stream",
     "text": [
      "\u001b[34m\u001b[1mwandb\u001b[0m:   1 of 1 files downloaded.  \n"
     ]
    },
    {
     "name": "stdout",
     "output_type": "stream",
     "text": [
      "2025-04-21 03:46:22,431 - INFO - Downloaded logs_dsx7eukm:v0 to /scratch/downloaded_artifacts/logs_dsx7eukm:v0\n"
     ]
    },
    {
     "name": "stderr",
     "output_type": "stream",
     "text": [
      "\u001b[34m\u001b[1mwandb\u001b[0m:   1 of 1 files downloaded.  \n"
     ]
    },
    {
     "name": "stdout",
     "output_type": "stream",
     "text": [
      "2025-04-21 03:46:22,498 - INFO - Downloaded logs_4cmws5z6:v0 to /scratch/downloaded_artifacts/logs_4cmws5z6:v0\n"
     ]
    },
    {
     "name": "stderr",
     "output_type": "stream",
     "text": [
      "\u001b[34m\u001b[1mwandb\u001b[0m:   1 of 1 files downloaded.  \n"
     ]
    },
    {
     "name": "stdout",
     "output_type": "stream",
     "text": [
      "2025-04-21 03:46:22,564 - INFO - Downloaded logs_mszfuve5:v0 to /scratch/downloaded_artifacts/logs_mszfuve5:v0\n"
     ]
    },
    {
     "name": "stderr",
     "output_type": "stream",
     "text": [
      "\u001b[34m\u001b[1mwandb\u001b[0m:   1 of 1 files downloaded.  \n"
     ]
    },
    {
     "name": "stdout",
     "output_type": "stream",
     "text": [
      "2025-04-21 03:46:22,576 - INFO - Downloaded logs_g26iedy5:v0 to /scratch/downloaded_artifacts/logs_g26iedy5:v0\n"
     ]
    },
    {
     "name": "stderr",
     "output_type": "stream",
     "text": [
      "\u001b[34m\u001b[1mwandb\u001b[0m:   1 of 1 files downloaded.  \n"
     ]
    },
    {
     "name": "stdout",
     "output_type": "stream",
     "text": [
      "2025-04-21 03:46:22,885 - INFO - Downloaded logs_nu5vns73:v0 to /scratch/downloaded_artifacts/logs_nu5vns73:v0\n"
     ]
    },
    {
     "name": "stderr",
     "output_type": "stream",
     "text": [
      "\u001b[34m\u001b[1mwandb\u001b[0m:   1 of 1 files downloaded.  \n"
     ]
    },
    {
     "name": "stdout",
     "output_type": "stream",
     "text": [
      "2025-04-21 03:46:23,061 - INFO - Downloaded logs_2i0b8vpc:v0 to /scratch/downloaded_artifacts/logs_2i0b8vpc:v0\n"
     ]
    },
    {
     "name": "stderr",
     "output_type": "stream",
     "text": [
      "\u001b[34m\u001b[1mwandb\u001b[0m:   1 of 1 files downloaded.  \n"
     ]
    },
    {
     "name": "stdout",
     "output_type": "stream",
     "text": [
      "2025-04-21 03:46:23,130 - INFO - Downloaded logs_gc3s8noj:v0 to /scratch/downloaded_artifacts/logs_gc3s8noj:v0\n"
     ]
    },
    {
     "name": "stderr",
     "output_type": "stream",
     "text": [
      "\u001b[34m\u001b[1mwandb\u001b[0m:   1 of 1 files downloaded.  \n"
     ]
    },
    {
     "name": "stdout",
     "output_type": "stream",
     "text": [
      "2025-04-21 03:46:23,483 - INFO - Downloaded logs_irvx2ba8:v0 to /scratch/downloaded_artifacts/logs_irvx2ba8:v0\n"
     ]
    },
    {
     "name": "stderr",
     "output_type": "stream",
     "text": [
      "\u001b[34m\u001b[1mwandb\u001b[0m:   1 of 1 files downloaded.  \n"
     ]
    },
    {
     "name": "stdout",
     "output_type": "stream",
     "text": [
      "2025-04-21 03:46:23,508 - INFO - Downloaded logs_mqi1fgoa:v0 to /scratch/downloaded_artifacts/logs_mqi1fgoa:v0\n"
     ]
    },
    {
     "name": "stderr",
     "output_type": "stream",
     "text": [
      "\u001b[34m\u001b[1mwandb\u001b[0m:   1 of 1 files downloaded.  \n"
     ]
    },
    {
     "name": "stdout",
     "output_type": "stream",
     "text": [
      "2025-04-21 03:46:23,574 - INFO - Downloaded logs_ml6s8k2u:v0 to /scratch/downloaded_artifacts/logs_ml6s8k2u:v0\n"
     ]
    },
    {
     "name": "stderr",
     "output_type": "stream",
     "text": [
      "\u001b[34m\u001b[1mwandb\u001b[0m:   1 of 1 files downloaded.  \n"
     ]
    },
    {
     "name": "stdout",
     "output_type": "stream",
     "text": [
      "2025-04-21 03:46:24,158 - INFO - Downloaded logs_p41wlo1i:v0 to /scratch/downloaded_artifacts/logs_p41wlo1i:v0\n"
     ]
    },
    {
     "name": "stderr",
     "output_type": "stream",
     "text": [
      "\u001b[34m\u001b[1mwandb\u001b[0m:   1 of 1 files downloaded.  \n"
     ]
    },
    {
     "name": "stdout",
     "output_type": "stream",
     "text": [
      "2025-04-21 03:46:24,238 - INFO - Downloaded logs_p255zz4w:v0 to /scratch/downloaded_artifacts/logs_p255zz4w:v0\n"
     ]
    },
    {
     "name": "stderr",
     "output_type": "stream",
     "text": [
      "\u001b[34m\u001b[1mwandb\u001b[0m:   1 of 1 files downloaded.  \n"
     ]
    },
    {
     "name": "stdout",
     "output_type": "stream",
     "text": [
      "2025-04-21 03:46:24,389 - INFO - Downloaded logs_py5wajkc:v0 to /scratch/downloaded_artifacts/logs_py5wajkc:v0\n"
     ]
    },
    {
     "name": "stderr",
     "output_type": "stream",
     "text": [
      "\u001b[34m\u001b[1mwandb\u001b[0m:   1 of 1 files downloaded.  \n",
      "\u001b[34m\u001b[1mwandb\u001b[0m:   1 of 1 files downloaded.  \n"
     ]
    },
    {
     "name": "stdout",
     "output_type": "stream",
     "text": [
      "2025-04-21 03:46:24,633 - INFO - Downloaded logs_0ixqpk5d:v0 to /scratch/downloaded_artifacts/logs_0ixqpk5d:v0\n",
      "2025-04-21 03:46:24,635 - INFO - Downloaded logs_zso2pg8a:v0 to /scratch/downloaded_artifacts/logs_zso2pg8a:v0\n"
     ]
    },
    {
     "name": "stderr",
     "output_type": "stream",
     "text": [
      "\u001b[34m\u001b[1mwandb\u001b[0m:   1 of 1 files downloaded.  \n"
     ]
    },
    {
     "name": "stdout",
     "output_type": "stream",
     "text": [
      "2025-04-21 03:46:24,838 - INFO - Downloaded logs_1aatk8ed:v0 to /scratch/downloaded_artifacts/logs_1aatk8ed:v0\n"
     ]
    },
    {
     "name": "stderr",
     "output_type": "stream",
     "text": [
      "\u001b[34m\u001b[1mwandb\u001b[0m:   1 of 1 files downloaded.  \n"
     ]
    },
    {
     "name": "stdout",
     "output_type": "stream",
     "text": [
      "2025-04-21 03:46:24,877 - INFO - Downloaded logs_0aenk3fy:v0 to /scratch/downloaded_artifacts/logs_0aenk3fy:v0\n"
     ]
    },
    {
     "name": "stderr",
     "output_type": "stream",
     "text": [
      "\u001b[34m\u001b[1mwandb\u001b[0m:   1 of 1 files downloaded.  \n"
     ]
    },
    {
     "name": "stdout",
     "output_type": "stream",
     "text": [
      "2025-04-21 03:46:25,062 - INFO - Downloaded logs_1tqwslkz:v0 to /scratch/downloaded_artifacts/logs_1tqwslkz:v0\n"
     ]
    },
    {
     "name": "stderr",
     "output_type": "stream",
     "text": [
      "\u001b[34m\u001b[1mwandb\u001b[0m:   1 of 1 files downloaded.  \n"
     ]
    },
    {
     "name": "stdout",
     "output_type": "stream",
     "text": [
      "2025-04-21 03:46:25,201 - INFO - Downloaded logs_385keh31:v0 to /scratch/downloaded_artifacts/logs_385keh31:v0\n"
     ]
    },
    {
     "name": "stderr",
     "output_type": "stream",
     "text": [
      "\u001b[34m\u001b[1mwandb\u001b[0m:   1 of 1 files downloaded.  \n"
     ]
    },
    {
     "name": "stdout",
     "output_type": "stream",
     "text": [
      "2025-04-21 03:46:25,293 - INFO - Downloaded logs_3ge0yxs3:v0 to /scratch/downloaded_artifacts/logs_3ge0yxs3:v0\n"
     ]
    },
    {
     "name": "stderr",
     "output_type": "stream",
     "text": [
      "\u001b[34m\u001b[1mwandb\u001b[0m:   1 of 1 files downloaded.  \n"
     ]
    },
    {
     "name": "stdout",
     "output_type": "stream",
     "text": [
      "2025-04-21 03:46:25,339 - INFO - Downloaded logs_3w44n80a:v0 to /scratch/downloaded_artifacts/logs_3w44n80a:v0\n"
     ]
    },
    {
     "name": "stderr",
     "output_type": "stream",
     "text": [
      "\u001b[34m\u001b[1mwandb\u001b[0m:   1 of 1 files downloaded.  \n"
     ]
    },
    {
     "name": "stdout",
     "output_type": "stream",
     "text": [
      "2025-04-21 03:46:25,457 - INFO - Downloaded logs_7oyv3l8s:v0 to /scratch/downloaded_artifacts/logs_7oyv3l8s:v0\n"
     ]
    },
    {
     "name": "stderr",
     "output_type": "stream",
     "text": [
      "\u001b[34m\u001b[1mwandb\u001b[0m:   1 of 1 files downloaded.  \n"
     ]
    },
    {
     "name": "stdout",
     "output_type": "stream",
     "text": [
      "2025-04-21 03:46:25,506 - INFO - Downloaded logs_54m5sk8z:v0 to /scratch/downloaded_artifacts/logs_54m5sk8z:v0\n"
     ]
    },
    {
     "name": "stderr",
     "output_type": "stream",
     "text": [
      "\u001b[34m\u001b[1mwandb\u001b[0m:   1 of 1 files downloaded.  \n"
     ]
    },
    {
     "name": "stdout",
     "output_type": "stream",
     "text": [
      "2025-04-21 03:46:25,531 - INFO - Downloaded logs_6sg3mxnk:v0 to /scratch/downloaded_artifacts/logs_6sg3mxnk:v0\n"
     ]
    },
    {
     "name": "stderr",
     "output_type": "stream",
     "text": [
      "\u001b[34m\u001b[1mwandb\u001b[0m:   1 of 1 files downloaded.  \n"
     ]
    },
    {
     "name": "stdout",
     "output_type": "stream",
     "text": [
      "2025-04-21 03:46:25,802 - INFO - Downloaded logs_9ofiy45a:v0 to /scratch/downloaded_artifacts/logs_9ofiy45a:v0\n"
     ]
    },
    {
     "name": "stderr",
     "output_type": "stream",
     "text": [
      "\u001b[34m\u001b[1mwandb\u001b[0m:   1 of 1 files downloaded.  \n"
     ]
    },
    {
     "name": "stdout",
     "output_type": "stream",
     "text": [
      "2025-04-21 03:46:25,882 - INFO - Downloaded logs_9mc5l6qd:v0 to /scratch/downloaded_artifacts/logs_9mc5l6qd:v0\n"
     ]
    },
    {
     "name": "stderr",
     "output_type": "stream",
     "text": [
      "\u001b[34m\u001b[1mwandb\u001b[0m:   1 of 1 files downloaded.  \n"
     ]
    },
    {
     "name": "stdout",
     "output_type": "stream",
     "text": [
      "2025-04-21 03:46:25,935 - INFO - Downloaded logs_a75tbu0o:v0 to /scratch/downloaded_artifacts/logs_a75tbu0o:v0\n"
     ]
    },
    {
     "name": "stderr",
     "output_type": "stream",
     "text": [
      "\u001b[34m\u001b[1mwandb\u001b[0m:   1 of 1 files downloaded.  \n"
     ]
    },
    {
     "name": "stdout",
     "output_type": "stream",
     "text": [
      "2025-04-21 03:46:26,192 - INFO - Downloaded logs_clqpgddd:v0 to /scratch/downloaded_artifacts/logs_clqpgddd:v0\n"
     ]
    },
    {
     "name": "stderr",
     "output_type": "stream",
     "text": [
      "\u001b[34m\u001b[1mwandb\u001b[0m:   1 of 1 files downloaded.  \n"
     ]
    },
    {
     "name": "stdout",
     "output_type": "stream",
     "text": [
      "2025-04-21 03:46:26,366 - INFO - Downloaded logs_dq1b3ik5:v0 to /scratch/downloaded_artifacts/logs_dq1b3ik5:v0\n"
     ]
    },
    {
     "name": "stderr",
     "output_type": "stream",
     "text": [
      "\u001b[34m\u001b[1mwandb\u001b[0m:   1 of 1 files downloaded.  \n",
      "\u001b[34m\u001b[1mwandb\u001b[0m:   1 of 1 files downloaded.  \n"
     ]
    },
    {
     "name": "stdout",
     "output_type": "stream",
     "text": [
      "2025-04-21 03:46:26,564 - INFO - Downloaded logs_e2515l3w:v0 to /scratch/downloaded_artifacts/logs_e2515l3w:v0\n",
      "2025-04-21 03:46:26,567 - INFO - Downloaded logs_diujnnsr:v0 to /scratch/downloaded_artifacts/logs_diujnnsr:v0\n"
     ]
    },
    {
     "name": "stderr",
     "output_type": "stream",
     "text": [
      "\u001b[34m\u001b[1mwandb\u001b[0m:   1 of 1 files downloaded.  \n"
     ]
    },
    {
     "name": "stdout",
     "output_type": "stream",
     "text": [
      "2025-04-21 03:46:26,699 - INFO - Downloaded logs_f127pwce:v0 to /scratch/downloaded_artifacts/logs_f127pwce:v0\n"
     ]
    },
    {
     "name": "stderr",
     "output_type": "stream",
     "text": [
      "\u001b[34m\u001b[1mwandb\u001b[0m:   1 of 1 files downloaded.  \n"
     ]
    },
    {
     "name": "stdout",
     "output_type": "stream",
     "text": [
      "2025-04-21 03:46:26,771 - INFO - Downloaded logs_flrrso3y:v0 to /scratch/downloaded_artifacts/logs_flrrso3y:v0\n"
     ]
    },
    {
     "name": "stderr",
     "output_type": "stream",
     "text": [
      "\u001b[34m\u001b[1mwandb\u001b[0m:   1 of 1 files downloaded.  \n"
     ]
    },
    {
     "name": "stdout",
     "output_type": "stream",
     "text": [
      "2025-04-21 03:46:26,978 - INFO - Downloaded logs_gv9we4lm:v0 to /scratch/downloaded_artifacts/logs_gv9we4lm:v0\n"
     ]
    },
    {
     "name": "stderr",
     "output_type": "stream",
     "text": [
      "\u001b[34m\u001b[1mwandb\u001b[0m:   1 of 1 files downloaded.  \n"
     ]
    },
    {
     "name": "stdout",
     "output_type": "stream",
     "text": [
      "2025-04-21 03:46:26,991 - INFO - Downloaded logs_gcg8v1bh:v0 to /scratch/downloaded_artifacts/logs_gcg8v1bh:v0\n"
     ]
    },
    {
     "name": "stderr",
     "output_type": "stream",
     "text": [
      "\u001b[34m\u001b[1mwandb\u001b[0m:   1 of 1 files downloaded.  \n"
     ]
    },
    {
     "name": "stdout",
     "output_type": "stream",
     "text": [
      "2025-04-21 03:46:27,350 - INFO - Downloaded logs_h5zqlgrr:v0 to /scratch/downloaded_artifacts/logs_h5zqlgrr:v0\n"
     ]
    },
    {
     "name": "stderr",
     "output_type": "stream",
     "text": [
      "\u001b[34m\u001b[1mwandb\u001b[0m:   1 of 1 files downloaded.  \n"
     ]
    },
    {
     "name": "stdout",
     "output_type": "stream",
     "text": [
      "2025-04-21 03:46:27,428 - INFO - Downloaded logs_iuii1vx8:v0 to /scratch/downloaded_artifacts/logs_iuii1vx8:v0\n"
     ]
    },
    {
     "name": "stderr",
     "output_type": "stream",
     "text": [
      "\u001b[34m\u001b[1mwandb\u001b[0m:   1 of 1 files downloaded.  \n"
     ]
    },
    {
     "name": "stdout",
     "output_type": "stream",
     "text": [
      "2025-04-21 03:46:27,584 - INFO - Downloaded logs_iz2kq1lz:v0 to /scratch/downloaded_artifacts/logs_iz2kq1lz:v0\n"
     ]
    },
    {
     "name": "stderr",
     "output_type": "stream",
     "text": [
      "\u001b[34m\u001b[1mwandb\u001b[0m:   1 of 1 files downloaded.  \n"
     ]
    },
    {
     "name": "stdout",
     "output_type": "stream",
     "text": [
      "2025-04-21 03:46:27,796 - INFO - Downloaded logs_kicdpbd0:v0 to /scratch/downloaded_artifacts/logs_kicdpbd0:v0\n"
     ]
    },
    {
     "name": "stderr",
     "output_type": "stream",
     "text": [
      "\u001b[34m\u001b[1mwandb\u001b[0m:   1 of 1 files downloaded.  \n"
     ]
    },
    {
     "name": "stdout",
     "output_type": "stream",
     "text": [
      "2025-04-21 03:46:27,811 - INFO - Downloaded logs_k5popep2:v0 to /scratch/downloaded_artifacts/logs_k5popep2:v0\n"
     ]
    },
    {
     "name": "stderr",
     "output_type": "stream",
     "text": [
      "\u001b[34m\u001b[1mwandb\u001b[0m:   1 of 1 files downloaded.  \n"
     ]
    },
    {
     "name": "stdout",
     "output_type": "stream",
     "text": [
      "2025-04-21 03:46:27,939 - INFO - Downloaded logs_j9kz6fid:v0 to /scratch/downloaded_artifacts/logs_j9kz6fid:v0\n"
     ]
    },
    {
     "name": "stderr",
     "output_type": "stream",
     "text": [
      "\u001b[34m\u001b[1mwandb\u001b[0m:   1 of 1 files downloaded.  \n"
     ]
    },
    {
     "name": "stdout",
     "output_type": "stream",
     "text": [
      "2025-04-21 03:46:27,971 - INFO - Downloaded logs_lw6kl4v7:v0 to /scratch/downloaded_artifacts/logs_lw6kl4v7:v0\n"
     ]
    },
    {
     "name": "stderr",
     "output_type": "stream",
     "text": [
      "\u001b[34m\u001b[1mwandb\u001b[0m:   1 of 1 files downloaded.  \n"
     ]
    },
    {
     "name": "stdout",
     "output_type": "stream",
     "text": [
      "2025-04-21 03:46:28,070 - INFO - Downloaded logs_lqagg0bk:v0 to /scratch/downloaded_artifacts/logs_lqagg0bk:v0\n"
     ]
    },
    {
     "name": "stderr",
     "output_type": "stream",
     "text": [
      "\u001b[34m\u001b[1mwandb\u001b[0m:   1 of 1 files downloaded.  \n"
     ]
    },
    {
     "name": "stdout",
     "output_type": "stream",
     "text": [
      "2025-04-21 03:46:28,093 - INFO - Downloaded logs_nllci14c:v0 to /scratch/downloaded_artifacts/logs_nllci14c:v0\n"
     ]
    },
    {
     "name": "stderr",
     "output_type": "stream",
     "text": [
      "\u001b[34m\u001b[1mwandb\u001b[0m:   1 of 1 files downloaded.  \n"
     ]
    },
    {
     "name": "stdout",
     "output_type": "stream",
     "text": [
      "2025-04-21 03:46:28,374 - INFO - Downloaded logs_pk88y93d:v0 to /scratch/downloaded_artifacts/logs_pk88y93d:v0\n"
     ]
    },
    {
     "name": "stderr",
     "output_type": "stream",
     "text": [
      "\u001b[34m\u001b[1mwandb\u001b[0m:   1 of 1 files downloaded.  \n"
     ]
    },
    {
     "name": "stdout",
     "output_type": "stream",
     "text": [
      "2025-04-21 03:46:28,403 - INFO - Downloaded logs_pqjgzzn5:v0 to /scratch/downloaded_artifacts/logs_pqjgzzn5:v0\n"
     ]
    },
    {
     "name": "stderr",
     "output_type": "stream",
     "text": [
      "\u001b[34m\u001b[1mwandb\u001b[0m:   1 of 1 files downloaded.  \n"
     ]
    },
    {
     "name": "stdout",
     "output_type": "stream",
     "text": [
      "2025-04-21 03:46:28,615 - INFO - Downloaded logs_oswl3vsc:v0 to /scratch/downloaded_artifacts/logs_oswl3vsc:v0\n"
     ]
    },
    {
     "name": "stderr",
     "output_type": "stream",
     "text": [
      "\u001b[34m\u001b[1mwandb\u001b[0m:   1 of 1 files downloaded.  \n"
     ]
    },
    {
     "name": "stdout",
     "output_type": "stream",
     "text": [
      "2025-04-21 03:46:28,764 - INFO - Downloaded logs_qpczweqv:v0 to /scratch/downloaded_artifacts/logs_qpczweqv:v0\n"
     ]
    },
    {
     "name": "stderr",
     "output_type": "stream",
     "text": [
      "\u001b[34m\u001b[1mwandb\u001b[0m:   1 of 1 files downloaded.  \n"
     ]
    },
    {
     "name": "stdout",
     "output_type": "stream",
     "text": [
      "2025-04-21 03:46:28,849 - INFO - Downloaded logs_t9cpb70n:v0 to /scratch/downloaded_artifacts/logs_t9cpb70n:v0\n"
     ]
    },
    {
     "name": "stderr",
     "output_type": "stream",
     "text": [
      "\u001b[34m\u001b[1mwandb\u001b[0m:   1 of 1 files downloaded.  \n"
     ]
    },
    {
     "name": "stdout",
     "output_type": "stream",
     "text": [
      "2025-04-21 03:46:28,986 - INFO - Downloaded logs_tvxvas5i:v0 to /scratch/downloaded_artifacts/logs_tvxvas5i:v0\n"
     ]
    },
    {
     "name": "stderr",
     "output_type": "stream",
     "text": [
      "\u001b[34m\u001b[1mwandb\u001b[0m:   1 of 1 files downloaded.  \n"
     ]
    },
    {
     "name": "stdout",
     "output_type": "stream",
     "text": [
      "2025-04-21 03:46:29,055 - INFO - Downloaded logs_uxb3yimn:v0 to /scratch/downloaded_artifacts/logs_uxb3yimn:v0\n"
     ]
    },
    {
     "name": "stderr",
     "output_type": "stream",
     "text": [
      "\u001b[34m\u001b[1mwandb\u001b[0m:   1 of 1 files downloaded.  \n"
     ]
    },
    {
     "name": "stdout",
     "output_type": "stream",
     "text": [
      "2025-04-21 03:46:29,140 - INFO - Downloaded logs_tbk3g8t5:v0 to /scratch/downloaded_artifacts/logs_tbk3g8t5:v0\n"
     ]
    },
    {
     "name": "stderr",
     "output_type": "stream",
     "text": [
      "\u001b[34m\u001b[1mwandb\u001b[0m:   1 of 1 files downloaded.  \n"
     ]
    },
    {
     "name": "stdout",
     "output_type": "stream",
     "text": [
      "2025-04-21 03:46:29,181 - INFO - Downloaded logs_xs2r8muu:v0 to /scratch/downloaded_artifacts/logs_xs2r8muu:v0\n"
     ]
    },
    {
     "name": "stderr",
     "output_type": "stream",
     "text": [
      "\u001b[34m\u001b[1mwandb\u001b[0m:   1 of 1 files downloaded.  \n"
     ]
    },
    {
     "name": "stdout",
     "output_type": "stream",
     "text": [
      "2025-04-21 03:46:29,416 - INFO - Downloaded logs_0sosiodk:v0 to /scratch/downloaded_artifacts/logs_0sosiodk:v0\n"
     ]
    },
    {
     "name": "stderr",
     "output_type": "stream",
     "text": [
      "\u001b[34m\u001b[1mwandb\u001b[0m:   1 of 1 files downloaded.  \n"
     ]
    },
    {
     "name": "stdout",
     "output_type": "stream",
     "text": [
      "2025-04-21 03:46:29,518 - INFO - Downloaded logs_0o9l2u65:v0 to /scratch/downloaded_artifacts/logs_0o9l2u65:v0\n"
     ]
    },
    {
     "name": "stderr",
     "output_type": "stream",
     "text": [
      "\u001b[34m\u001b[1mwandb\u001b[0m:   1 of 1 files downloaded.  \n"
     ]
    },
    {
     "name": "stdout",
     "output_type": "stream",
     "text": [
      "2025-04-21 03:46:29,769 - INFO - Downloaded logs_vvdxult9:v0 to /scratch/downloaded_artifacts/logs_vvdxult9:v0\n"
     ]
    },
    {
     "name": "stderr",
     "output_type": "stream",
     "text": [
      "\u001b[34m\u001b[1mwandb\u001b[0m:   1 of 1 files downloaded.  \n"
     ]
    },
    {
     "name": "stdout",
     "output_type": "stream",
     "text": [
      "2025-04-21 03:46:29,830 - INFO - Downloaded logs_xugvx96p:v0 to /scratch/downloaded_artifacts/logs_xugvx96p:v0\n"
     ]
    },
    {
     "name": "stderr",
     "output_type": "stream",
     "text": [
      "\u001b[34m\u001b[1mwandb\u001b[0m:   1 of 1 files downloaded.  \n"
     ]
    },
    {
     "name": "stdout",
     "output_type": "stream",
     "text": [
      "2025-04-21 03:46:30,092 - INFO - Downloaded logs_xwze331a:v0 to /scratch/downloaded_artifacts/logs_xwze331a:v0\n"
     ]
    },
    {
     "name": "stderr",
     "output_type": "stream",
     "text": [
      "\u001b[34m\u001b[1mwandb\u001b[0m:   1 of 1 files downloaded.  \n"
     ]
    },
    {
     "name": "stdout",
     "output_type": "stream",
     "text": [
      "2025-04-21 03:46:30,237 - INFO - Downloaded logs_1jdywwy1:v0 to /scratch/downloaded_artifacts/logs_1jdywwy1:v0\n"
     ]
    },
    {
     "name": "stderr",
     "output_type": "stream",
     "text": [
      "\u001b[34m\u001b[1mwandb\u001b[0m:   1 of 1 files downloaded.  \n"
     ]
    },
    {
     "name": "stdout",
     "output_type": "stream",
     "text": [
      "2025-04-21 03:46:30,419 - INFO - Downloaded logs_8c2lhk20:v0 to /scratch/downloaded_artifacts/logs_8c2lhk20:v0\n"
     ]
    },
    {
     "name": "stderr",
     "output_type": "stream",
     "text": [
      "\u001b[34m\u001b[1mwandb\u001b[0m:   1 of 1 files downloaded.  \n"
     ]
    },
    {
     "name": "stdout",
     "output_type": "stream",
     "text": [
      "2025-04-21 03:46:30,430 - INFO - Downloaded logs_0xvr7c3u:v0 to /scratch/downloaded_artifacts/logs_0xvr7c3u:v0\n"
     ]
    },
    {
     "name": "stderr",
     "output_type": "stream",
     "text": [
      "\u001b[34m\u001b[1mwandb\u001b[0m:   1 of 1 files downloaded.  \n",
      "\u001b[34m\u001b[1mwandb\u001b[0m:   1 of 1 files downloaded.  \n"
     ]
    },
    {
     "name": "stdout",
     "output_type": "stream",
     "text": [
      "2025-04-21 03:46:30,528 - INFO - Downloaded logs_8227gzz6:v0 to /scratch/downloaded_artifacts/logs_8227gzz6:v0\n",
      "2025-04-21 03:46:30,529 - INFO - Downloaded logs_9yv4c7nh:v0 to /scratch/downloaded_artifacts/logs_9yv4c7nh:v0\n"
     ]
    },
    {
     "name": "stderr",
     "output_type": "stream",
     "text": [
      "\u001b[34m\u001b[1mwandb\u001b[0m:   1 of 1 files downloaded.  \n"
     ]
    },
    {
     "name": "stdout",
     "output_type": "stream",
     "text": [
      "2025-04-21 03:46:30,574 - INFO - Downloaded logs_3oej0cyh:v0 to /scratch/downloaded_artifacts/logs_3oej0cyh:v0\n"
     ]
    },
    {
     "name": "stderr",
     "output_type": "stream",
     "text": [
      "\u001b[34m\u001b[1mwandb\u001b[0m:   1 of 1 files downloaded.  \n"
     ]
    },
    {
     "name": "stdout",
     "output_type": "stream",
     "text": [
      "2025-04-21 03:46:30,841 - INFO - Downloaded logs_cjiqad6y:v0 to /scratch/downloaded_artifacts/logs_cjiqad6y:v0\n"
     ]
    },
    {
     "name": "stderr",
     "output_type": "stream",
     "text": [
      "\u001b[34m\u001b[1mwandb\u001b[0m:   1 of 1 files downloaded.  \n"
     ]
    },
    {
     "name": "stdout",
     "output_type": "stream",
     "text": [
      "2025-04-21 03:46:30,861 - INFO - Downloaded logs_b1cyiu4s:v0 to /scratch/downloaded_artifacts/logs_b1cyiu4s:v0\n"
     ]
    },
    {
     "name": "stderr",
     "output_type": "stream",
     "text": [
      "\u001b[34m\u001b[1mwandb\u001b[0m:   1 of 1 files downloaded.  \n"
     ]
    },
    {
     "name": "stdout",
     "output_type": "stream",
     "text": [
      "2025-04-21 03:46:31,163 - INFO - Downloaded logs_dfpw801e:v0 to /scratch/downloaded_artifacts/logs_dfpw801e:v0\n"
     ]
    },
    {
     "name": "stderr",
     "output_type": "stream",
     "text": [
      "\u001b[34m\u001b[1mwandb\u001b[0m:   1 of 1 files downloaded.  \n"
     ]
    },
    {
     "name": "stdout",
     "output_type": "stream",
     "text": [
      "2025-04-21 03:46:31,192 - INFO - Downloaded logs_f1hwwft7:v0 to /scratch/downloaded_artifacts/logs_f1hwwft7:v0\n"
     ]
    },
    {
     "name": "stderr",
     "output_type": "stream",
     "text": [
      "\u001b[34m\u001b[1mwandb\u001b[0m:   1 of 1 files downloaded.  \n"
     ]
    },
    {
     "name": "stdout",
     "output_type": "stream",
     "text": [
      "2025-04-21 03:46:31,310 - INFO - Downloaded logs_gf0nh87b:v0 to /scratch/downloaded_artifacts/logs_gf0nh87b:v0\n"
     ]
    },
    {
     "name": "stderr",
     "output_type": "stream",
     "text": [
      "\u001b[34m\u001b[1mwandb\u001b[0m:   1 of 1 files downloaded.  \n"
     ]
    },
    {
     "name": "stdout",
     "output_type": "stream",
     "text": [
      "2025-04-21 03:46:31,404 - INFO - Downloaded logs_m13wim40:v0 to /scratch/downloaded_artifacts/logs_m13wim40:v0\n"
     ]
    },
    {
     "name": "stderr",
     "output_type": "stream",
     "text": [
      "\u001b[34m\u001b[1mwandb\u001b[0m:   1 of 1 files downloaded.  \n"
     ]
    },
    {
     "name": "stdout",
     "output_type": "stream",
     "text": [
      "2025-04-21 03:46:31,441 - INFO - Downloaded logs_mtobwjr8:v0 to /scratch/downloaded_artifacts/logs_mtobwjr8:v0\n"
     ]
    },
    {
     "name": "stderr",
     "output_type": "stream",
     "text": [
      "\u001b[34m\u001b[1mwandb\u001b[0m:   1 of 1 files downloaded.  \n"
     ]
    },
    {
     "name": "stdout",
     "output_type": "stream",
     "text": [
      "2025-04-21 03:46:31,482 - INFO - Downloaded logs_m7dhf763:v0 to /scratch/downloaded_artifacts/logs_m7dhf763:v0\n"
     ]
    },
    {
     "name": "stderr",
     "output_type": "stream",
     "text": [
      "\u001b[34m\u001b[1mwandb\u001b[0m:   1 of 1 files downloaded.  \n"
     ]
    },
    {
     "name": "stdout",
     "output_type": "stream",
     "text": [
      "2025-04-21 03:46:31,591 - INFO - Downloaded logs_nk075kq5:v0 to /scratch/downloaded_artifacts/logs_nk075kq5:v0\n"
     ]
    },
    {
     "name": "stderr",
     "output_type": "stream",
     "text": [
      "\u001b[34m\u001b[1mwandb\u001b[0m:   1 of 1 files downloaded.  \n"
     ]
    },
    {
     "name": "stdout",
     "output_type": "stream",
     "text": [
      "2025-04-21 03:46:31,675 - INFO - Downloaded logs_nv5zhq1f:v0 to /scratch/downloaded_artifacts/logs_nv5zhq1f:v0\n"
     ]
    },
    {
     "name": "stderr",
     "output_type": "stream",
     "text": [
      "\u001b[34m\u001b[1mwandb\u001b[0m:   1 of 1 files downloaded.  \n"
     ]
    },
    {
     "name": "stdout",
     "output_type": "stream",
     "text": [
      "2025-04-21 03:46:31,800 - INFO - Downloaded logs_tucbkt2u:v0 to /scratch/downloaded_artifacts/logs_tucbkt2u:v0\n"
     ]
    },
    {
     "name": "stderr",
     "output_type": "stream",
     "text": [
      "\u001b[34m\u001b[1mwandb\u001b[0m:   1 of 1 files downloaded.  \n"
     ]
    },
    {
     "name": "stdout",
     "output_type": "stream",
     "text": [
      "2025-04-21 03:46:31,944 - INFO - Downloaded logs_vqxg3g9x:v0 to /scratch/downloaded_artifacts/logs_vqxg3g9x:v0\n"
     ]
    },
    {
     "name": "stderr",
     "output_type": "stream",
     "text": [
      "\u001b[34m\u001b[1mwandb\u001b[0m:   1 of 1 files downloaded.  \n"
     ]
    },
    {
     "name": "stdout",
     "output_type": "stream",
     "text": [
      "2025-04-21 03:46:32,002 - INFO - Downloaded logs_uqguiuoo:v0 to /scratch/downloaded_artifacts/logs_uqguiuoo:v0\n"
     ]
    },
    {
     "name": "stderr",
     "output_type": "stream",
     "text": [
      "\u001b[34m\u001b[1mwandb\u001b[0m:   1 of 1 files downloaded.  \n"
     ]
    },
    {
     "name": "stdout",
     "output_type": "stream",
     "text": [
      "2025-04-21 03:46:32,423 - INFO - Downloaded logs_wxtpg33a:v0 to /scratch/downloaded_artifacts/logs_wxtpg33a:v0\n"
     ]
    },
    {
     "name": "stderr",
     "output_type": "stream",
     "text": [
      "\u001b[34m\u001b[1mwandb\u001b[0m:   1 of 1 files downloaded.  \n"
     ]
    },
    {
     "name": "stdout",
     "output_type": "stream",
     "text": [
      "2025-04-21 03:46:32,504 - INFO - Downloaded logs_w9tahgxy:v0 to /scratch/downloaded_artifacts/logs_w9tahgxy:v0\n"
     ]
    },
    {
     "name": "stderr",
     "output_type": "stream",
     "text": [
      "\u001b[34m\u001b[1mwandb\u001b[0m:   1 of 1 files downloaded.  \n"
     ]
    },
    {
     "name": "stdout",
     "output_type": "stream",
     "text": [
      "2025-04-21 03:46:32,674 - INFO - Downloaded logs_0hxsq5r4:v0 to /scratch/downloaded_artifacts/logs_0hxsq5r4:v0\n"
     ]
    },
    {
     "name": "stderr",
     "output_type": "stream",
     "text": [
      "\u001b[34m\u001b[1mwandb\u001b[0m:   1 of 1 files downloaded.  \n"
     ]
    },
    {
     "name": "stdout",
     "output_type": "stream",
     "text": [
      "2025-04-21 03:46:32,802 - INFO - Downloaded logs_x77gaf8c:v0 to /scratch/downloaded_artifacts/logs_x77gaf8c:v0\n"
     ]
    },
    {
     "name": "stderr",
     "output_type": "stream",
     "text": [
      "\u001b[34m\u001b[1mwandb\u001b[0m:   1 of 1 files downloaded.  \n"
     ]
    },
    {
     "name": "stdout",
     "output_type": "stream",
     "text": [
      "2025-04-21 03:46:32,890 - INFO - Downloaded logs_y68kl10f:v0 to /scratch/downloaded_artifacts/logs_y68kl10f:v0\n"
     ]
    },
    {
     "name": "stderr",
     "output_type": "stream",
     "text": [
      "\u001b[34m\u001b[1mwandb\u001b[0m:   1 of 1 files downloaded.  \n"
     ]
    },
    {
     "name": "stdout",
     "output_type": "stream",
     "text": [
      "2025-04-21 03:46:33,061 - INFO - Downloaded logs_1mmjga9u:v0 to /scratch/downloaded_artifacts/logs_1mmjga9u:v0\n"
     ]
    },
    {
     "name": "stderr",
     "output_type": "stream",
     "text": [
      "\u001b[34m\u001b[1mwandb\u001b[0m:   1 of 1 files downloaded.  \n"
     ]
    },
    {
     "name": "stdout",
     "output_type": "stream",
     "text": [
      "2025-04-21 03:46:33,284 - INFO - Downloaded logs_y7dqr0za:v0 to /scratch/downloaded_artifacts/logs_y7dqr0za:v0\n"
     ]
    },
    {
     "name": "stderr",
     "output_type": "stream",
     "text": [
      "\u001b[34m\u001b[1mwandb\u001b[0m:   1 of 1 files downloaded.  \n"
     ]
    },
    {
     "name": "stdout",
     "output_type": "stream",
     "text": [
      "2025-04-21 03:46:33,665 - INFO - Downloaded logs_6x260oze:v0 to /scratch/downloaded_artifacts/logs_6x260oze:v0\n"
     ]
    },
    {
     "name": "stderr",
     "output_type": "stream",
     "text": [
      "\u001b[34m\u001b[1mwandb\u001b[0m:   1 of 1 files downloaded.  \n"
     ]
    },
    {
     "name": "stdout",
     "output_type": "stream",
     "text": [
      "2025-04-21 03:46:33,716 - INFO - Downloaded logs_2iawtlte:v0 to /scratch/downloaded_artifacts/logs_2iawtlte:v0\n"
     ]
    },
    {
     "name": "stderr",
     "output_type": "stream",
     "text": [
      "\u001b[34m\u001b[1mwandb\u001b[0m:   1 of 1 files downloaded.  \n"
     ]
    },
    {
     "name": "stdout",
     "output_type": "stream",
     "text": [
      "2025-04-21 03:46:33,758 - INFO - Downloaded logs_2u1ubuva:v0 to /scratch/downloaded_artifacts/logs_2u1ubuva:v0\n"
     ]
    },
    {
     "name": "stderr",
     "output_type": "stream",
     "text": [
      "\u001b[34m\u001b[1mwandb\u001b[0m:   1 of 1 files downloaded.  \n"
     ]
    },
    {
     "name": "stdout",
     "output_type": "stream",
     "text": [
      "2025-04-21 03:46:33,802 - INFO - Downloaded logs_5br85zcj:v0 to /scratch/downloaded_artifacts/logs_5br85zcj:v0\n"
     ]
    },
    {
     "name": "stderr",
     "output_type": "stream",
     "text": [
      "\u001b[34m\u001b[1mwandb\u001b[0m:   1 of 1 files downloaded.  \n"
     ]
    },
    {
     "name": "stdout",
     "output_type": "stream",
     "text": [
      "2025-04-21 03:46:34,020 - INFO - Downloaded logs_chk4a5m4:v0 to /scratch/downloaded_artifacts/logs_chk4a5m4:v0\n"
     ]
    },
    {
     "name": "stderr",
     "output_type": "stream",
     "text": [
      "\u001b[34m\u001b[1mwandb\u001b[0m:   1 of 1 files downloaded.  \n"
     ]
    },
    {
     "name": "stdout",
     "output_type": "stream",
     "text": [
      "2025-04-21 03:46:34,039 - INFO - Downloaded logs_eb4k6a0j:v0 to /scratch/downloaded_artifacts/logs_eb4k6a0j:v0\n"
     ]
    },
    {
     "name": "stderr",
     "output_type": "stream",
     "text": [
      "\u001b[34m\u001b[1mwandb\u001b[0m:   1 of 1 files downloaded.  \n"
     ]
    },
    {
     "name": "stdout",
     "output_type": "stream",
     "text": [
      "2025-04-21 03:46:34,068 - INFO - Downloaded logs_et17jtmw:v0 to /scratch/downloaded_artifacts/logs_et17jtmw:v0\n"
     ]
    },
    {
     "name": "stderr",
     "output_type": "stream",
     "text": [
      "\u001b[34m\u001b[1mwandb\u001b[0m:   1 of 1 files downloaded.  \n"
     ]
    },
    {
     "name": "stdout",
     "output_type": "stream",
     "text": [
      "2025-04-21 03:46:34,145 - INFO - Downloaded logs_dyv508qy:v0 to /scratch/downloaded_artifacts/logs_dyv508qy:v0\n"
     ]
    },
    {
     "name": "stderr",
     "output_type": "stream",
     "text": [
      "\u001b[34m\u001b[1mwandb\u001b[0m:   1 of 1 files downloaded.  \n"
     ]
    },
    {
     "name": "stdout",
     "output_type": "stream",
     "text": [
      "2025-04-21 03:46:34,150 - INFO - Downloaded logs_hetspprh:v0 to /scratch/downloaded_artifacts/logs_hetspprh:v0\n"
     ]
    },
    {
     "name": "stderr",
     "output_type": "stream",
     "text": [
      "\u001b[34m\u001b[1mwandb\u001b[0m:   1 of 1 files downloaded.  \n"
     ]
    },
    {
     "name": "stdout",
     "output_type": "stream",
     "text": [
      "2025-04-21 03:46:34,234 - INFO - Downloaded logs_i1j8ecm9:v0 to /scratch/downloaded_artifacts/logs_i1j8ecm9:v0\n"
     ]
    },
    {
     "name": "stderr",
     "output_type": "stream",
     "text": [
      "\u001b[34m\u001b[1mwandb\u001b[0m:   1 of 1 files downloaded.  \n"
     ]
    },
    {
     "name": "stdout",
     "output_type": "stream",
     "text": [
      "2025-04-21 03:46:34,439 - INFO - Downloaded logs_i4sbajsm:v0 to /scratch/downloaded_artifacts/logs_i4sbajsm:v0\n"
     ]
    },
    {
     "name": "stderr",
     "output_type": "stream",
     "text": [
      "\u001b[34m\u001b[1mwandb\u001b[0m:   1 of 1 files downloaded.  \n"
     ]
    },
    {
     "name": "stdout",
     "output_type": "stream",
     "text": [
      "2025-04-21 03:46:34,467 - INFO - Downloaded logs_jcx4fdzi:v0 to /scratch/downloaded_artifacts/logs_jcx4fdzi:v0\n"
     ]
    },
    {
     "name": "stderr",
     "output_type": "stream",
     "text": [
      "\u001b[34m\u001b[1mwandb\u001b[0m:   1 of 1 files downloaded.  \n"
     ]
    },
    {
     "name": "stdout",
     "output_type": "stream",
     "text": [
      "2025-04-21 03:46:34,495 - INFO - Downloaded logs_kcz7vrgi:v0 to /scratch/downloaded_artifacts/logs_kcz7vrgi:v0\n"
     ]
    },
    {
     "name": "stderr",
     "output_type": "stream",
     "text": [
      "\u001b[34m\u001b[1mwandb\u001b[0m:   1 of 1 files downloaded.  \n"
     ]
    },
    {
     "name": "stdout",
     "output_type": "stream",
     "text": [
      "2025-04-21 03:46:34,801 - INFO - Downloaded logs_n1nvkfly:v0 to /scratch/downloaded_artifacts/logs_n1nvkfly:v0\n"
     ]
    },
    {
     "name": "stderr",
     "output_type": "stream",
     "text": [
      "\u001b[34m\u001b[1mwandb\u001b[0m:   1 of 1 files downloaded.  \n"
     ]
    },
    {
     "name": "stdout",
     "output_type": "stream",
     "text": [
      "2025-04-21 03:46:34,848 - INFO - Downloaded logs_nyyziphu:v0 to /scratch/downloaded_artifacts/logs_nyyziphu:v0\n"
     ]
    },
    {
     "name": "stderr",
     "output_type": "stream",
     "text": [
      "\u001b[34m\u001b[1mwandb\u001b[0m:   1 of 1 files downloaded.  \n"
     ]
    },
    {
     "name": "stdout",
     "output_type": "stream",
     "text": [
      "2025-04-21 03:46:34,930 - INFO - Downloaded logs_oiwbs4mq:v0 to /scratch/downloaded_artifacts/logs_oiwbs4mq:v0\n"
     ]
    },
    {
     "name": "stderr",
     "output_type": "stream",
     "text": [
      "\u001b[34m\u001b[1mwandb\u001b[0m:   1 of 1 files downloaded.  \n"
     ]
    },
    {
     "name": "stdout",
     "output_type": "stream",
     "text": [
      "2025-04-21 03:46:35,039 - INFO - Downloaded logs_oqzhlakw:v0 to /scratch/downloaded_artifacts/logs_oqzhlakw:v0\n"
     ]
    },
    {
     "name": "stderr",
     "output_type": "stream",
     "text": [
      "\u001b[34m\u001b[1mwandb\u001b[0m:   1 of 1 files downloaded.  \n"
     ]
    },
    {
     "name": "stdout",
     "output_type": "stream",
     "text": [
      "2025-04-21 03:46:35,099 - INFO - Downloaded logs_p1wz24ur:v0 to /scratch/downloaded_artifacts/logs_p1wz24ur:v0\n"
     ]
    },
    {
     "name": "stderr",
     "output_type": "stream",
     "text": [
      "\u001b[34m\u001b[1mwandb\u001b[0m:   1 of 1 files downloaded.  \n"
     ]
    },
    {
     "name": "stdout",
     "output_type": "stream",
     "text": [
      "2025-04-21 03:46:35,234 - INFO - Downloaded logs_pqrmypzh:v0 to /scratch/downloaded_artifacts/logs_pqrmypzh:v0\n"
     ]
    },
    {
     "name": "stderr",
     "output_type": "stream",
     "text": [
      "\u001b[34m\u001b[1mwandb\u001b[0m:   1 of 1 files downloaded.  \n"
     ]
    },
    {
     "name": "stdout",
     "output_type": "stream",
     "text": [
      "2025-04-21 03:46:35,588 - INFO - Downloaded logs_qqi48el2:v0 to /scratch/downloaded_artifacts/logs_qqi48el2:v0\n"
     ]
    },
    {
     "name": "stderr",
     "output_type": "stream",
     "text": [
      "\u001b[34m\u001b[1mwandb\u001b[0m:   1 of 1 files downloaded.  \n"
     ]
    },
    {
     "name": "stdout",
     "output_type": "stream",
     "text": [
      "2025-04-21 03:46:36,108 - INFO - Downloaded logs_slru2zml:v0 to /scratch/downloaded_artifacts/logs_slru2zml:v0\n"
     ]
    },
    {
     "name": "stderr",
     "output_type": "stream",
     "text": [
      "\u001b[34m\u001b[1mwandb\u001b[0m:   1 of 1 files downloaded.  \n"
     ]
    },
    {
     "name": "stdout",
     "output_type": "stream",
     "text": [
      "2025-04-21 03:46:36,150 - INFO - Downloaded logs_vyasf7w6:v0 to /scratch/downloaded_artifacts/logs_vyasf7w6:v0\n"
     ]
    },
    {
     "name": "stderr",
     "output_type": "stream",
     "text": [
      "\u001b[34m\u001b[1mwandb\u001b[0m:   1 of 1 files downloaded.  \n"
     ]
    },
    {
     "name": "stdout",
     "output_type": "stream",
     "text": [
      "2025-04-21 03:46:36,171 - INFO - Downloaded logs_vukljcai:v0 to /scratch/downloaded_artifacts/logs_vukljcai:v0\n"
     ]
    },
    {
     "name": "stderr",
     "output_type": "stream",
     "text": [
      "\u001b[34m\u001b[1mwandb\u001b[0m:   1 of 1 files downloaded.  \n"
     ]
    },
    {
     "name": "stdout",
     "output_type": "stream",
     "text": [
      "2025-04-21 03:46:36,255 - INFO - Downloaded logs_snn0vjlc:v0 to /scratch/downloaded_artifacts/logs_snn0vjlc:v0\n"
     ]
    },
    {
     "name": "stderr",
     "output_type": "stream",
     "text": [
      "\u001b[34m\u001b[1mwandb\u001b[0m:   1 of 1 files downloaded.  \n"
     ]
    },
    {
     "name": "stdout",
     "output_type": "stream",
     "text": [
      "2025-04-21 03:46:36,453 - INFO - Downloaded logs_we4z40e2:v0 to /scratch/downloaded_artifacts/logs_we4z40e2:v0\n"
     ]
    },
    {
     "name": "stderr",
     "output_type": "stream",
     "text": [
      "\u001b[34m\u001b[1mwandb\u001b[0m:   1 of 1 files downloaded.  \n"
     ]
    },
    {
     "name": "stdout",
     "output_type": "stream",
     "text": [
      "2025-04-21 03:46:36,577 - INFO - Downloaded logs_02vzuila:v0 to /scratch/downloaded_artifacts/logs_02vzuila:v0\n"
     ]
    },
    {
     "name": "stderr",
     "output_type": "stream",
     "text": [
      "\u001b[34m\u001b[1mwandb\u001b[0m:   1 of 1 files downloaded.  \n"
     ]
    },
    {
     "name": "stdout",
     "output_type": "stream",
     "text": [
      "2025-04-21 03:46:36,709 - INFO - Downloaded logs_30tmzacz:v0 to /scratch/downloaded_artifacts/logs_30tmzacz:v0\n"
     ]
    },
    {
     "name": "stderr",
     "output_type": "stream",
     "text": [
      "\u001b[34m\u001b[1mwandb\u001b[0m:   1 of 1 files downloaded.  \n"
     ]
    },
    {
     "name": "stdout",
     "output_type": "stream",
     "text": [
      "2025-04-21 03:46:36,715 - INFO - Downloaded logs_wq3d36ho:v0 to /scratch/downloaded_artifacts/logs_wq3d36ho:v0\n"
     ]
    },
    {
     "name": "stderr",
     "output_type": "stream",
     "text": [
      "\u001b[34m\u001b[1mwandb\u001b[0m:   1 of 1 files downloaded.  \n"
     ]
    },
    {
     "name": "stdout",
     "output_type": "stream",
     "text": [
      "2025-04-21 03:46:36,780 - INFO - Downloaded logs_35fslqbf:v0 to /scratch/downloaded_artifacts/logs_35fslqbf:v0\n"
     ]
    },
    {
     "name": "stderr",
     "output_type": "stream",
     "text": [
      "\u001b[34m\u001b[1mwandb\u001b[0m:   1 of 1 files downloaded.  \n"
     ]
    },
    {
     "name": "stdout",
     "output_type": "stream",
     "text": [
      "2025-04-21 03:46:36,815 - INFO - Downloaded logs_par6a14o:v0 to /scratch/downloaded_artifacts/logs_par6a14o:v0\n"
     ]
    },
    {
     "name": "stderr",
     "output_type": "stream",
     "text": [
      "\u001b[34m\u001b[1mwandb\u001b[0m:   1 of 1 files downloaded.  \n"
     ]
    },
    {
     "name": "stdout",
     "output_type": "stream",
     "text": [
      "2025-04-21 03:46:36,863 - INFO - Downloaded logs_3b06ulrj:v0 to /scratch/downloaded_artifacts/logs_3b06ulrj:v0\n"
     ]
    },
    {
     "name": "stderr",
     "output_type": "stream",
     "text": [
      "\u001b[34m\u001b[1mwandb\u001b[0m:   1 of 1 files downloaded.  \n"
     ]
    },
    {
     "name": "stdout",
     "output_type": "stream",
     "text": [
      "2025-04-21 03:46:36,978 - INFO - Downloaded logs_5r3olipf:v0 to /scratch/downloaded_artifacts/logs_5r3olipf:v0\n"
     ]
    },
    {
     "name": "stderr",
     "output_type": "stream",
     "text": [
      "\u001b[34m\u001b[1mwandb\u001b[0m:   1 of 1 files downloaded.  \n"
     ]
    },
    {
     "name": "stdout",
     "output_type": "stream",
     "text": [
      "2025-04-21 03:46:37,101 - INFO - Downloaded logs_5ntjkxf0:v0 to /scratch/downloaded_artifacts/logs_5ntjkxf0:v0\n"
     ]
    },
    {
     "name": "stderr",
     "output_type": "stream",
     "text": [
      "\u001b[34m\u001b[1mwandb\u001b[0m:   1 of 1 files downloaded.  \n"
     ]
    },
    {
     "name": "stdout",
     "output_type": "stream",
     "text": [
      "2025-04-21 03:46:37,220 - INFO - Downloaded logs_7llbzmem:v0 to /scratch/downloaded_artifacts/logs_7llbzmem:v0\n"
     ]
    },
    {
     "name": "stderr",
     "output_type": "stream",
     "text": [
      "\u001b[34m\u001b[1mwandb\u001b[0m:   1 of 1 files downloaded.  \n"
     ]
    },
    {
     "name": "stdout",
     "output_type": "stream",
     "text": [
      "2025-04-21 03:46:37,254 - INFO - Downloaded logs_9etr0urm:v0 to /scratch/downloaded_artifacts/logs_9etr0urm:v0\n"
     ]
    },
    {
     "name": "stderr",
     "output_type": "stream",
     "text": [
      "\u001b[34m\u001b[1mwandb\u001b[0m:   1 of 1 files downloaded.  \n"
     ]
    },
    {
     "name": "stdout",
     "output_type": "stream",
     "text": [
      "2025-04-21 03:46:37,303 - INFO - Downloaded logs_94yl2v10:v0 to /scratch/downloaded_artifacts/logs_94yl2v10:v0\n"
     ]
    },
    {
     "name": "stderr",
     "output_type": "stream",
     "text": [
      "\u001b[34m\u001b[1mwandb\u001b[0m:   1 of 1 files downloaded.  \n"
     ]
    },
    {
     "name": "stdout",
     "output_type": "stream",
     "text": [
      "2025-04-21 03:46:37,493 - INFO - Downloaded logs_bjm35wfl:v0 to /scratch/downloaded_artifacts/logs_bjm35wfl:v0\n"
     ]
    },
    {
     "name": "stderr",
     "output_type": "stream",
     "text": [
      "\u001b[34m\u001b[1mwandb\u001b[0m:   1 of 1 files downloaded.  \n"
     ]
    },
    {
     "name": "stdout",
     "output_type": "stream",
     "text": [
      "2025-04-21 03:46:37,533 - INFO - Downloaded logs_awy0kwhb:v0 to /scratch/downloaded_artifacts/logs_awy0kwhb:v0\n"
     ]
    },
    {
     "name": "stderr",
     "output_type": "stream",
     "text": [
      "\u001b[34m\u001b[1mwandb\u001b[0m:   1 of 1 files downloaded.  \n"
     ]
    },
    {
     "name": "stdout",
     "output_type": "stream",
     "text": [
      "2025-04-21 03:46:37,562 - INFO - Downloaded logs_c33js7jg:v0 to /scratch/downloaded_artifacts/logs_c33js7jg:v0\n"
     ]
    },
    {
     "name": "stderr",
     "output_type": "stream",
     "text": [
      "\u001b[34m\u001b[1mwandb\u001b[0m:   1 of 1 files downloaded.  \n"
     ]
    },
    {
     "name": "stdout",
     "output_type": "stream",
     "text": [
      "2025-04-21 03:46:37,758 - INFO - Downloaded logs_fz7oevns:v0 to /scratch/downloaded_artifacts/logs_fz7oevns:v0\n"
     ]
    },
    {
     "name": "stderr",
     "output_type": "stream",
     "text": [
      "\u001b[34m\u001b[1mwandb\u001b[0m:   1 of 1 files downloaded.  \n"
     ]
    },
    {
     "name": "stdout",
     "output_type": "stream",
     "text": [
      "2025-04-21 03:46:38,462 - INFO - Downloaded logs_ienvrl3p:v0 to /scratch/downloaded_artifacts/logs_ienvrl3p:v0\n"
     ]
    },
    {
     "name": "stderr",
     "output_type": "stream",
     "text": [
      "\u001b[34m\u001b[1mwandb\u001b[0m:   1 of 1 files downloaded.  \n"
     ]
    },
    {
     "name": "stdout",
     "output_type": "stream",
     "text": [
      "2025-04-21 03:46:38,531 - INFO - Downloaded logs_mf45rmz3:v0 to /scratch/downloaded_artifacts/logs_mf45rmz3:v0\n"
     ]
    },
    {
     "name": "stderr",
     "output_type": "stream",
     "text": [
      "\u001b[34m\u001b[1mwandb\u001b[0m:   1 of 1 files downloaded.  \n"
     ]
    },
    {
     "name": "stdout",
     "output_type": "stream",
     "text": [
      "2025-04-21 03:46:38,612 - INFO - Downloaded logs_ia4kkz5x:v0 to /scratch/downloaded_artifacts/logs_ia4kkz5x:v0\n"
     ]
    },
    {
     "name": "stderr",
     "output_type": "stream",
     "text": [
      "\u001b[34m\u001b[1mwandb\u001b[0m:   1 of 1 files downloaded.  \n"
     ]
    },
    {
     "name": "stdout",
     "output_type": "stream",
     "text": [
      "2025-04-21 03:46:38,632 - INFO - Downloaded logs_lgqxpozd:v0 to /scratch/downloaded_artifacts/logs_lgqxpozd:v0\n"
     ]
    },
    {
     "name": "stderr",
     "output_type": "stream",
     "text": [
      "\u001b[34m\u001b[1mwandb\u001b[0m:   1 of 1 files downloaded.  \n"
     ]
    },
    {
     "name": "stdout",
     "output_type": "stream",
     "text": [
      "2025-04-21 03:46:38,829 - INFO - Downloaded logs_qc4fezj5:v0 to /scratch/downloaded_artifacts/logs_qc4fezj5:v0\n"
     ]
    },
    {
     "name": "stderr",
     "output_type": "stream",
     "text": [
      "\u001b[34m\u001b[1mwandb\u001b[0m:   1 of 1 files downloaded.  \n"
     ]
    },
    {
     "name": "stdout",
     "output_type": "stream",
     "text": [
      "2025-04-21 03:46:39,117 - INFO - Downloaded logs_w2nqh10z:v0 to /scratch/downloaded_artifacts/logs_w2nqh10z:v0\n"
     ]
    },
    {
     "name": "stderr",
     "output_type": "stream",
     "text": [
      "\u001b[34m\u001b[1mwandb\u001b[0m:   1 of 1 files downloaded.  \n"
     ]
    },
    {
     "name": "stdout",
     "output_type": "stream",
     "text": [
      "2025-04-21 03:46:39,125 - INFO - Downloaded logs_w45h47pb:v0 to /scratch/downloaded_artifacts/logs_w45h47pb:v0\n"
     ]
    },
    {
     "name": "stderr",
     "output_type": "stream",
     "text": [
      "\u001b[34m\u001b[1mwandb\u001b[0m:   1 of 1 files downloaded.  \n"
     ]
    },
    {
     "name": "stdout",
     "output_type": "stream",
     "text": [
      "2025-04-21 03:46:39,241 - INFO - Downloaded logs_sxaiqw1u:v0 to /scratch/downloaded_artifacts/logs_sxaiqw1u:v0\n"
     ]
    },
    {
     "name": "stderr",
     "output_type": "stream",
     "text": [
      "\u001b[34m\u001b[1mwandb\u001b[0m:   1 of 1 files downloaded.  \n"
     ]
    },
    {
     "name": "stdout",
     "output_type": "stream",
     "text": [
      "2025-04-21 03:46:39,305 - INFO - Downloaded logs_wx300cc7:v0 to /scratch/downloaded_artifacts/logs_wx300cc7:v0\n"
     ]
    },
    {
     "name": "stderr",
     "output_type": "stream",
     "text": [
      "\u001b[34m\u001b[1mwandb\u001b[0m:   1 of 1 files downloaded.  \n"
     ]
    },
    {
     "name": "stdout",
     "output_type": "stream",
     "text": [
      "2025-04-21 03:46:39,359 - INFO - Downloaded logs_wbdfvw99:v0 to /scratch/downloaded_artifacts/logs_wbdfvw99:v0\n"
     ]
    },
    {
     "name": "stderr",
     "output_type": "stream",
     "text": [
      "\u001b[34m\u001b[1mwandb\u001b[0m:   1 of 1 files downloaded.  \n"
     ]
    },
    {
     "name": "stdout",
     "output_type": "stream",
     "text": [
      "2025-04-21 03:46:39,518 - INFO - Downloaded logs_zbnz4nwk:v0 to /scratch/downloaded_artifacts/logs_zbnz4nwk:v0\n"
     ]
    },
    {
     "name": "stderr",
     "output_type": "stream",
     "text": [
      "\u001b[34m\u001b[1mwandb\u001b[0m:   1 of 1 files downloaded.  \n"
     ]
    },
    {
     "name": "stdout",
     "output_type": "stream",
     "text": [
      "2025-04-21 03:46:39,554 - INFO - Downloaded logs_z22ye1hk:v0 to /scratch/downloaded_artifacts/logs_z22ye1hk:v0\n"
     ]
    },
    {
     "name": "stderr",
     "output_type": "stream",
     "text": [
      "\u001b[34m\u001b[1mwandb\u001b[0m:   1 of 1 files downloaded.  \n"
     ]
    },
    {
     "name": "stdout",
     "output_type": "stream",
     "text": [
      "2025-04-21 03:46:39,823 - INFO - Downloaded logs_2pwx0u7c:v0 to /scratch/downloaded_artifacts/logs_2pwx0u7c:v0\n"
     ]
    },
    {
     "name": "stderr",
     "output_type": "stream",
     "text": [
      "\u001b[34m\u001b[1mwandb\u001b[0m:   1 of 1 files downloaded.  \n"
     ]
    },
    {
     "name": "stdout",
     "output_type": "stream",
     "text": [
      "2025-04-21 03:46:39,840 - INFO - Downloaded logs_zqdznujs:v0 to /scratch/downloaded_artifacts/logs_zqdznujs:v0\n"
     ]
    },
    {
     "name": "stderr",
     "output_type": "stream",
     "text": [
      "\u001b[34m\u001b[1mwandb\u001b[0m:   1 of 1 files downloaded.  \n"
     ]
    },
    {
     "name": "stdout",
     "output_type": "stream",
     "text": [
      "2025-04-21 03:46:39,893 - INFO - Downloaded logs_zyf8ieyc:v0 to /scratch/downloaded_artifacts/logs_zyf8ieyc:v0\n"
     ]
    },
    {
     "name": "stderr",
     "output_type": "stream",
     "text": [
      "\u001b[34m\u001b[1mwandb\u001b[0m:   1 of 1 files downloaded.  \n"
     ]
    },
    {
     "name": "stdout",
     "output_type": "stream",
     "text": [
      "2025-04-21 03:46:39,973 - INFO - Downloaded logs_2j5r1d5k:v0 to /scratch/downloaded_artifacts/logs_2j5r1d5k:v0\n"
     ]
    },
    {
     "name": "stderr",
     "output_type": "stream",
     "text": [
      "\u001b[34m\u001b[1mwandb\u001b[0m:   1 of 1 files downloaded.  \n"
     ]
    },
    {
     "name": "stdout",
     "output_type": "stream",
     "text": [
      "2025-04-21 03:46:40,079 - INFO - Downloaded logs_2zxks5oy:v0 to /scratch/downloaded_artifacts/logs_2zxks5oy:v0\n"
     ]
    },
    {
     "name": "stderr",
     "output_type": "stream",
     "text": [
      "\u001b[34m\u001b[1mwandb\u001b[0m:   1 of 1 files downloaded.  \n"
     ]
    },
    {
     "name": "stdout",
     "output_type": "stream",
     "text": [
      "2025-04-21 03:46:40,092 - INFO - Downloaded logs_31o55oys:v0 to /scratch/downloaded_artifacts/logs_31o55oys:v0\n"
     ]
    },
    {
     "name": "stderr",
     "output_type": "stream",
     "text": [
      "\u001b[34m\u001b[1mwandb\u001b[0m:   1 of 1 files downloaded.  \n"
     ]
    },
    {
     "name": "stdout",
     "output_type": "stream",
     "text": [
      "2025-04-21 03:46:40,287 - INFO - Downloaded logs_5uumu4hm:v0 to /scratch/downloaded_artifacts/logs_5uumu4hm:v0\n"
     ]
    },
    {
     "name": "stderr",
     "output_type": "stream",
     "text": [
      "\u001b[34m\u001b[1mwandb\u001b[0m:   1 of 1 files downloaded.  \n"
     ]
    },
    {
     "name": "stdout",
     "output_type": "stream",
     "text": [
      "2025-04-21 03:46:40,368 - INFO - Downloaded logs_3iokkvce:v0 to /scratch/downloaded_artifacts/logs_3iokkvce:v0\n"
     ]
    },
    {
     "name": "stderr",
     "output_type": "stream",
     "text": [
      "\u001b[34m\u001b[1mwandb\u001b[0m:   1 of 1 files downloaded.  \n"
     ]
    },
    {
     "name": "stdout",
     "output_type": "stream",
     "text": [
      "2025-04-21 03:46:40,828 - INFO - Downloaded logs_6dz0hcxf:v0 to /scratch/downloaded_artifacts/logs_6dz0hcxf:v0\n"
     ]
    },
    {
     "name": "stderr",
     "output_type": "stream",
     "text": [
      "\u001b[34m\u001b[1mwandb\u001b[0m:   1 of 1 files downloaded.  \n"
     ]
    },
    {
     "name": "stdout",
     "output_type": "stream",
     "text": [
      "2025-04-21 03:46:40,839 - INFO - Downloaded logs_7i92pxbr:v0 to /scratch/downloaded_artifacts/logs_7i92pxbr:v0\n"
     ]
    },
    {
     "name": "stderr",
     "output_type": "stream",
     "text": [
      "\u001b[34m\u001b[1mwandb\u001b[0m:   1 of 1 files downloaded.  \n"
     ]
    },
    {
     "name": "stdout",
     "output_type": "stream",
     "text": [
      "2025-04-21 03:46:40,992 - INFO - Downloaded logs_8srepsv1:v0 to /scratch/downloaded_artifacts/logs_8srepsv1:v0\n"
     ]
    },
    {
     "name": "stderr",
     "output_type": "stream",
     "text": [
      "\u001b[34m\u001b[1mwandb\u001b[0m:   1 of 1 files downloaded.  \n"
     ]
    },
    {
     "name": "stdout",
     "output_type": "stream",
     "text": [
      "2025-04-21 03:46:41,032 - INFO - Downloaded logs_8gjfpcfr:v0 to /scratch/downloaded_artifacts/logs_8gjfpcfr:v0\n"
     ]
    },
    {
     "name": "stderr",
     "output_type": "stream",
     "text": [
      "\u001b[34m\u001b[1mwandb\u001b[0m:   1 of 1 files downloaded.  \n"
     ]
    },
    {
     "name": "stdout",
     "output_type": "stream",
     "text": [
      "2025-04-21 03:46:41,164 - INFO - Downloaded logs_8xvxt9zz:v0 to /scratch/downloaded_artifacts/logs_8xvxt9zz:v0\n"
     ]
    },
    {
     "name": "stderr",
     "output_type": "stream",
     "text": [
      "\u001b[34m\u001b[1mwandb\u001b[0m:   1 of 1 files downloaded.  \n"
     ]
    },
    {
     "name": "stdout",
     "output_type": "stream",
     "text": [
      "2025-04-21 03:46:41,383 - INFO - Downloaded logs_9fywk63n:v0 to /scratch/downloaded_artifacts/logs_9fywk63n:v0\n"
     ]
    },
    {
     "name": "stderr",
     "output_type": "stream",
     "text": [
      "\u001b[34m\u001b[1mwandb\u001b[0m:   1 of 1 files downloaded.  \n"
     ]
    },
    {
     "name": "stdout",
     "output_type": "stream",
     "text": [
      "2025-04-21 03:46:41,588 - INFO - Downloaded logs_9kn7o7ei:v0 to /scratch/downloaded_artifacts/logs_9kn7o7ei:v0\n"
     ]
    },
    {
     "name": "stderr",
     "output_type": "stream",
     "text": [
      "\u001b[34m\u001b[1mwandb\u001b[0m:   1 of 1 files downloaded.  \n"
     ]
    },
    {
     "name": "stdout",
     "output_type": "stream",
     "text": [
      "2025-04-21 03:46:41,619 - INFO - Downloaded logs_abosgqdr:v0 to /scratch/downloaded_artifacts/logs_abosgqdr:v0\n"
     ]
    },
    {
     "name": "stderr",
     "output_type": "stream",
     "text": [
      "\u001b[34m\u001b[1mwandb\u001b[0m:   1 of 1 files downloaded.  \n"
     ]
    },
    {
     "name": "stdout",
     "output_type": "stream",
     "text": [
      "2025-04-21 03:46:41,712 - INFO - Downloaded logs_bz4iv7eh:v0 to /scratch/downloaded_artifacts/logs_bz4iv7eh:v0\n"
     ]
    },
    {
     "name": "stderr",
     "output_type": "stream",
     "text": [
      "\u001b[34m\u001b[1mwandb\u001b[0m:   1 of 1 files downloaded.  \n"
     ]
    },
    {
     "name": "stdout",
     "output_type": "stream",
     "text": [
      "2025-04-21 03:46:42,031 - INFO - Downloaded logs_efkl209h:v0 to /scratch/downloaded_artifacts/logs_efkl209h:v0\n"
     ]
    },
    {
     "name": "stderr",
     "output_type": "stream",
     "text": [
      "\u001b[34m\u001b[1mwandb\u001b[0m:   1 of 1 files downloaded.  \n"
     ]
    },
    {
     "name": "stdout",
     "output_type": "stream",
     "text": [
      "2025-04-21 03:46:42,052 - INFO - Downloaded logs_csgcnac6:v0 to /scratch/downloaded_artifacts/logs_csgcnac6:v0\n"
     ]
    },
    {
     "name": "stderr",
     "output_type": "stream",
     "text": [
      "\u001b[34m\u001b[1mwandb\u001b[0m:   1 of 1 files downloaded.  \n"
     ]
    },
    {
     "name": "stdout",
     "output_type": "stream",
     "text": [
      "2025-04-21 03:46:42,066 - INFO - Downloaded logs_ecprz59w:v0 to /scratch/downloaded_artifacts/logs_ecprz59w:v0\n"
     ]
    },
    {
     "name": "stderr",
     "output_type": "stream",
     "text": [
      "\u001b[34m\u001b[1mwandb\u001b[0m:   1 of 1 files downloaded.  \n"
     ]
    },
    {
     "name": "stdout",
     "output_type": "stream",
     "text": [
      "2025-04-21 03:46:42,232 - INFO - Downloaded logs_er0f04ts:v0 to /scratch/downloaded_artifacts/logs_er0f04ts:v0\n"
     ]
    },
    {
     "name": "stderr",
     "output_type": "stream",
     "text": [
      "\u001b[34m\u001b[1mwandb\u001b[0m:   1 of 1 files downloaded.  \n"
     ]
    },
    {
     "name": "stdout",
     "output_type": "stream",
     "text": [
      "2025-04-21 03:46:42,318 - INFO - Downloaded logs_fjjre9n3:v0 to /scratch/downloaded_artifacts/logs_fjjre9n3:v0\n"
     ]
    },
    {
     "name": "stderr",
     "output_type": "stream",
     "text": [
      "\u001b[34m\u001b[1mwandb\u001b[0m:   1 of 1 files downloaded.  \n"
     ]
    },
    {
     "name": "stdout",
     "output_type": "stream",
     "text": [
      "2025-04-21 03:46:42,435 - INFO - Downloaded logs_eh5w2n40:v0 to /scratch/downloaded_artifacts/logs_eh5w2n40:v0\n"
     ]
    },
    {
     "name": "stderr",
     "output_type": "stream",
     "text": [
      "\u001b[34m\u001b[1mwandb\u001b[0m:   1 of 1 files downloaded.  \n"
     ]
    },
    {
     "name": "stdout",
     "output_type": "stream",
     "text": [
      "2025-04-21 03:46:42,484 - INFO - Downloaded logs_fs9xirra:v0 to /scratch/downloaded_artifacts/logs_fs9xirra:v0\n"
     ]
    },
    {
     "name": "stderr",
     "output_type": "stream",
     "text": [
      "\u001b[34m\u001b[1mwandb\u001b[0m:   1 of 1 files downloaded.  \n"
     ]
    },
    {
     "name": "stdout",
     "output_type": "stream",
     "text": [
      "2025-04-21 03:46:42,582 - INFO - Downloaded logs_g8omjjzx:v0 to /scratch/downloaded_artifacts/logs_g8omjjzx:v0\n"
     ]
    },
    {
     "name": "stderr",
     "output_type": "stream",
     "text": [
      "\u001b[34m\u001b[1mwandb\u001b[0m:   1 of 1 files downloaded.  \n"
     ]
    },
    {
     "name": "stdout",
     "output_type": "stream",
     "text": [
      "2025-04-21 03:46:42,635 - INFO - Downloaded logs_g15m8jty:v0 to /scratch/downloaded_artifacts/logs_g15m8jty:v0\n"
     ]
    },
    {
     "name": "stderr",
     "output_type": "stream",
     "text": [
      "\u001b[34m\u001b[1mwandb\u001b[0m:   1 of 1 files downloaded.  \n"
     ]
    },
    {
     "name": "stdout",
     "output_type": "stream",
     "text": [
      "2025-04-21 03:46:42,700 - INFO - Downloaded logs_h4bkvjkf:v0 to /scratch/downloaded_artifacts/logs_h4bkvjkf:v0\n"
     ]
    },
    {
     "name": "stderr",
     "output_type": "stream",
     "text": [
      "\u001b[34m\u001b[1mwandb\u001b[0m:   1 of 1 files downloaded.  \n"
     ]
    },
    {
     "name": "stdout",
     "output_type": "stream",
     "text": [
      "2025-04-21 03:46:42,905 - INFO - Downloaded logs_hkfy6i90:v0 to /scratch/downloaded_artifacts/logs_hkfy6i90:v0\n"
     ]
    },
    {
     "name": "stderr",
     "output_type": "stream",
     "text": [
      "\u001b[34m\u001b[1mwandb\u001b[0m:   1 of 1 files downloaded.  \n"
     ]
    },
    {
     "name": "stdout",
     "output_type": "stream",
     "text": [
      "2025-04-21 03:46:43,213 - INFO - Downloaded logs_hqgxjz6x:v0 to /scratch/downloaded_artifacts/logs_hqgxjz6x:v0\n"
     ]
    },
    {
     "name": "stderr",
     "output_type": "stream",
     "text": [
      "\u001b[34m\u001b[1mwandb\u001b[0m:   1 of 1 files downloaded.  \n"
     ]
    },
    {
     "name": "stdout",
     "output_type": "stream",
     "text": [
      "2025-04-21 03:46:43,364 - INFO - Downloaded logs_ko3a9v0k:v0 to /scratch/downloaded_artifacts/logs_ko3a9v0k:v0\n"
     ]
    },
    {
     "name": "stderr",
     "output_type": "stream",
     "text": [
      "\u001b[34m\u001b[1mwandb\u001b[0m:   1 of 1 files downloaded.  \n"
     ]
    },
    {
     "name": "stdout",
     "output_type": "stream",
     "text": [
      "2025-04-21 03:46:43,439 - INFO - Downloaded logs_ju6y3u93:v0 to /scratch/downloaded_artifacts/logs_ju6y3u93:v0\n"
     ]
    },
    {
     "name": "stderr",
     "output_type": "stream",
     "text": [
      "\u001b[34m\u001b[1mwandb\u001b[0m:   1 of 1 files downloaded.  \n"
     ]
    },
    {
     "name": "stdout",
     "output_type": "stream",
     "text": [
      "2025-04-21 03:46:43,452 - INFO - Downloaded logs_mj4xyds3:v0 to /scratch/downloaded_artifacts/logs_mj4xyds3:v0\n"
     ]
    },
    {
     "name": "stderr",
     "output_type": "stream",
     "text": [
      "\u001b[34m\u001b[1mwandb\u001b[0m:   1 of 1 files downloaded.  \n"
     ]
    },
    {
     "name": "stdout",
     "output_type": "stream",
     "text": [
      "2025-04-21 03:46:43,650 - INFO - Downloaded logs_mu1x1675:v0 to /scratch/downloaded_artifacts/logs_mu1x1675:v0\n"
     ]
    },
    {
     "name": "stderr",
     "output_type": "stream",
     "text": [
      "\u001b[34m\u001b[1mwandb\u001b[0m:   1 of 1 files downloaded.  \n"
     ]
    },
    {
     "name": "stdout",
     "output_type": "stream",
     "text": [
      "2025-04-21 03:46:43,721 - INFO - Downloaded logs_o5njdz5i:v0 to /scratch/downloaded_artifacts/logs_o5njdz5i:v0\n"
     ]
    },
    {
     "name": "stderr",
     "output_type": "stream",
     "text": [
      "\u001b[34m\u001b[1mwandb\u001b[0m:   1 of 1 files downloaded.  \n"
     ]
    },
    {
     "name": "stdout",
     "output_type": "stream",
     "text": [
      "2025-04-21 03:46:43,978 - INFO - Downloaded logs_pqcaspff:v0 to /scratch/downloaded_artifacts/logs_pqcaspff:v0\n"
     ]
    },
    {
     "name": "stderr",
     "output_type": "stream",
     "text": [
      "\u001b[34m\u001b[1mwandb\u001b[0m:   1 of 1 files downloaded.  \n"
     ]
    },
    {
     "name": "stdout",
     "output_type": "stream",
     "text": [
      "2025-04-21 03:46:44,029 - INFO - Downloaded logs_ps4hl35q:v0 to /scratch/downloaded_artifacts/logs_ps4hl35q:v0\n"
     ]
    },
    {
     "name": "stderr",
     "output_type": "stream",
     "text": [
      "\u001b[34m\u001b[1mwandb\u001b[0m:   1 of 1 files downloaded.  \n"
     ]
    },
    {
     "name": "stdout",
     "output_type": "stream",
     "text": [
      "2025-04-21 03:46:44,164 - INFO - Downloaded logs_pvxn6ij4:v0 to /scratch/downloaded_artifacts/logs_pvxn6ij4:v0\n"
     ]
    },
    {
     "name": "stderr",
     "output_type": "stream",
     "text": [
      "\u001b[34m\u001b[1mwandb\u001b[0m:   1 of 1 files downloaded.  \n",
      "\u001b[34m\u001b[1mwandb\u001b[0m:   1 of 1 files downloaded.  \n"
     ]
    },
    {
     "name": "stdout",
     "output_type": "stream",
     "text": [
      "2025-04-21 03:46:44,480 - INFO - Downloaded logs_scu7pfrk:v0 to /scratch/downloaded_artifacts/logs_scu7pfrk:v0\n",
      "2025-04-21 03:46:44,482 - INFO - Downloaded logs_rur9av7j:v0 to /scratch/downloaded_artifacts/logs_rur9av7j:v0\n"
     ]
    },
    {
     "name": "stderr",
     "output_type": "stream",
     "text": [
      "\u001b[34m\u001b[1mwandb\u001b[0m:   1 of 1 files downloaded.  \n"
     ]
    },
    {
     "name": "stdout",
     "output_type": "stream",
     "text": [
      "2025-04-21 03:46:44,572 - INFO - Downloaded logs_r7w1xpmx:v0 to /scratch/downloaded_artifacts/logs_r7w1xpmx:v0\n"
     ]
    },
    {
     "name": "stderr",
     "output_type": "stream",
     "text": [
      "\u001b[34m\u001b[1mwandb\u001b[0m:   1 of 1 files downloaded.  \n"
     ]
    },
    {
     "name": "stdout",
     "output_type": "stream",
     "text": [
      "2025-04-21 03:46:44,759 - INFO - Downloaded logs_xhnee7ji:v0 to /scratch/downloaded_artifacts/logs_xhnee7ji:v0\n"
     ]
    },
    {
     "name": "stderr",
     "output_type": "stream",
     "text": [
      "\u001b[34m\u001b[1mwandb\u001b[0m:   1 of 1 files downloaded.  \n"
     ]
    },
    {
     "name": "stdout",
     "output_type": "stream",
     "text": [
      "2025-04-21 03:46:44,886 - INFO - Downloaded logs_7j9l61q6:v0 to /scratch/downloaded_artifacts/logs_7j9l61q6:v0\n"
     ]
    },
    {
     "name": "stderr",
     "output_type": "stream",
     "text": [
      "\u001b[34m\u001b[1mwandb\u001b[0m:   1 of 1 files downloaded.  \n"
     ]
    },
    {
     "name": "stdout",
     "output_type": "stream",
     "text": [
      "2025-04-21 03:46:44,987 - INFO - Downloaded logs_drunc31y:v0 to /scratch/downloaded_artifacts/logs_drunc31y:v0\n"
     ]
    },
    {
     "name": "stderr",
     "output_type": "stream",
     "text": [
      "\u001b[34m\u001b[1mwandb\u001b[0m:   1 of 1 files downloaded.  \n"
     ]
    },
    {
     "name": "stdout",
     "output_type": "stream",
     "text": [
      "2025-04-21 03:46:45,051 - INFO - Downloaded logs_gbphodaf:v0 to /scratch/downloaded_artifacts/logs_gbphodaf:v0\n"
     ]
    },
    {
     "name": "stderr",
     "output_type": "stream",
     "text": [
      "\u001b[34m\u001b[1mwandb\u001b[0m:   1 of 1 files downloaded.  \n"
     ]
    },
    {
     "name": "stdout",
     "output_type": "stream",
     "text": [
      "2025-04-21 03:46:45,076 - INFO - Downloaded logs_1vg0t68v:v0 to /scratch/downloaded_artifacts/logs_1vg0t68v:v0\n"
     ]
    },
    {
     "name": "stderr",
     "output_type": "stream",
     "text": [
      "\u001b[34m\u001b[1mwandb\u001b[0m:   1 of 1 files downloaded.  \n",
      "\u001b[34m\u001b[1mwandb\u001b[0m:   1 of 1 files downloaded.  \n"
     ]
    },
    {
     "name": "stdout",
     "output_type": "stream",
     "text": [
      "2025-04-21 03:46:45,498 - INFO - Downloaded logs_czv4ozgs:v0 to /scratch/downloaded_artifacts/logs_czv4ozgs:v0\n",
      "2025-04-21 03:46:45,501 - INFO - Downloaded logs_0mzs4cha:v0 to /scratch/downloaded_artifacts/logs_0mzs4cha:v0\n"
     ]
    },
    {
     "name": "stderr",
     "output_type": "stream",
     "text": [
      "\u001b[34m\u001b[1mwandb\u001b[0m:   1 of 1 files downloaded.  \n"
     ]
    },
    {
     "name": "stdout",
     "output_type": "stream",
     "text": [
      "2025-04-21 03:46:45,762 - INFO - Downloaded logs_tmtqk3uw:v0 to /scratch/downloaded_artifacts/logs_tmtqk3uw:v0\n"
     ]
    },
    {
     "name": "stderr",
     "output_type": "stream",
     "text": [
      "\u001b[34m\u001b[1mwandb\u001b[0m:   1 of 1 files downloaded.  \n"
     ]
    },
    {
     "name": "stdout",
     "output_type": "stream",
     "text": [
      "2025-04-21 03:46:46,069 - INFO - Downloaded logs_4f8xgs3q:v0 to /scratch/downloaded_artifacts/logs_4f8xgs3q:v0\n"
     ]
    },
    {
     "name": "stderr",
     "output_type": "stream",
     "text": [
      "\u001b[34m\u001b[1mwandb\u001b[0m:   1 of 1 files downloaded.  \n"
     ]
    },
    {
     "name": "stdout",
     "output_type": "stream",
     "text": [
      "2025-04-21 03:46:46,258 - INFO - Downloaded logs_atnj6vo5:v0 to /scratch/downloaded_artifacts/logs_atnj6vo5:v0\n"
     ]
    },
    {
     "name": "stderr",
     "output_type": "stream",
     "text": [
      "\u001b[34m\u001b[1mwandb\u001b[0m:   1 of 1 files downloaded.  \n"
     ]
    },
    {
     "name": "stdout",
     "output_type": "stream",
     "text": [
      "2025-04-21 03:46:46,273 - INFO - Downloaded logs_5s7c4wj6:v0 to /scratch/downloaded_artifacts/logs_5s7c4wj6:v0\n"
     ]
    },
    {
     "name": "stderr",
     "output_type": "stream",
     "text": [
      "\u001b[34m\u001b[1mwandb\u001b[0m:   1 of 1 files downloaded.  \n"
     ]
    },
    {
     "name": "stdout",
     "output_type": "stream",
     "text": [
      "2025-04-21 03:46:46,449 - INFO - Downloaded logs_a386royh:v0 to /scratch/downloaded_artifacts/logs_a386royh:v0\n"
     ]
    },
    {
     "name": "stderr",
     "output_type": "stream",
     "text": [
      "\u001b[34m\u001b[1mwandb\u001b[0m:   1 of 1 files downloaded.  \n"
     ]
    },
    {
     "name": "stdout",
     "output_type": "stream",
     "text": [
      "2025-04-21 03:46:46,481 - INFO - Downloaded logs_aussufn1:v0 to /scratch/downloaded_artifacts/logs_aussufn1:v0\n"
     ]
    },
    {
     "name": "stderr",
     "output_type": "stream",
     "text": [
      "\u001b[34m\u001b[1mwandb\u001b[0m:   1 of 1 files downloaded.  \n"
     ]
    },
    {
     "name": "stdout",
     "output_type": "stream",
     "text": [
      "2025-04-21 03:46:46,522 - INFO - Downloaded logs_ax3m7i25:v0 to /scratch/downloaded_artifacts/logs_ax3m7i25:v0\n"
     ]
    },
    {
     "name": "stderr",
     "output_type": "stream",
     "text": [
      "\u001b[34m\u001b[1mwandb\u001b[0m:   1 of 1 files downloaded.  \n"
     ]
    },
    {
     "name": "stdout",
     "output_type": "stream",
     "text": [
      "2025-04-21 03:46:46,802 - INFO - Downloaded logs_mmpt3x1e:v0 to /scratch/downloaded_artifacts/logs_mmpt3x1e:v0\n"
     ]
    },
    {
     "name": "stderr",
     "output_type": "stream",
     "text": [
      "\u001b[34m\u001b[1mwandb\u001b[0m:   1 of 1 files downloaded.  \n"
     ]
    },
    {
     "name": "stdout",
     "output_type": "stream",
     "text": [
      "2025-04-21 03:46:46,861 - INFO - Downloaded logs_ez13osm5:v0 to /scratch/downloaded_artifacts/logs_ez13osm5:v0\n"
     ]
    },
    {
     "name": "stderr",
     "output_type": "stream",
     "text": [
      "\u001b[34m\u001b[1mwandb\u001b[0m:   1 of 1 files downloaded.  \n"
     ]
    },
    {
     "name": "stdout",
     "output_type": "stream",
     "text": [
      "2025-04-21 03:46:47,002 - INFO - Downloaded logs_pmiqd2b3:v0 to /scratch/downloaded_artifacts/logs_pmiqd2b3:v0\n"
     ]
    },
    {
     "name": "stderr",
     "output_type": "stream",
     "text": [
      "\u001b[34m\u001b[1mwandb\u001b[0m:   1 of 1 files downloaded.  \n"
     ]
    },
    {
     "name": "stdout",
     "output_type": "stream",
     "text": [
      "2025-04-21 03:46:47,143 - INFO - Downloaded logs_0bkwivte:v0 to /scratch/downloaded_artifacts/logs_0bkwivte:v0\n"
     ]
    },
    {
     "name": "stderr",
     "output_type": "stream",
     "text": [
      "\u001b[34m\u001b[1mwandb\u001b[0m:   1 of 1 files downloaded.  \n"
     ]
    },
    {
     "name": "stdout",
     "output_type": "stream",
     "text": [
      "2025-04-21 03:46:47,326 - INFO - Downloaded logs_0ixj17oj:v0 to /scratch/downloaded_artifacts/logs_0ixj17oj:v0\n"
     ]
    },
    {
     "name": "stderr",
     "output_type": "stream",
     "text": [
      "\u001b[34m\u001b[1mwandb\u001b[0m:   1 of 1 files downloaded.  \n"
     ]
    },
    {
     "name": "stdout",
     "output_type": "stream",
     "text": [
      "2025-04-21 03:46:47,387 - INFO - Downloaded logs_tgf7khm4:v0 to /scratch/downloaded_artifacts/logs_tgf7khm4:v0\n"
     ]
    },
    {
     "name": "stderr",
     "output_type": "stream",
     "text": [
      "\u001b[34m\u001b[1mwandb\u001b[0m:   1 of 1 files downloaded.  \n"
     ]
    },
    {
     "name": "stdout",
     "output_type": "stream",
     "text": [
      "2025-04-21 03:46:47,478 - INFO - Downloaded logs_rld1gvbw:v0 to /scratch/downloaded_artifacts/logs_rld1gvbw:v0\n"
     ]
    },
    {
     "name": "stderr",
     "output_type": "stream",
     "text": [
      "\u001b[34m\u001b[1mwandb\u001b[0m:   1 of 1 files downloaded.  \n"
     ]
    },
    {
     "name": "stdout",
     "output_type": "stream",
     "text": [
      "2025-04-21 03:46:47,698 - INFO - Downloaded logs_2181k5hd:v0 to /scratch/downloaded_artifacts/logs_2181k5hd:v0\n"
     ]
    },
    {
     "name": "stderr",
     "output_type": "stream",
     "text": [
      "\u001b[34m\u001b[1mwandb\u001b[0m:   1 of 1 files downloaded.  \n"
     ]
    },
    {
     "name": "stdout",
     "output_type": "stream",
     "text": [
      "2025-04-21 03:46:47,772 - INFO - Downloaded logs_38b8wuxg:v0 to /scratch/downloaded_artifacts/logs_38b8wuxg:v0\n"
     ]
    },
    {
     "name": "stderr",
     "output_type": "stream",
     "text": [
      "\u001b[34m\u001b[1mwandb\u001b[0m:   1 of 1 files downloaded.  \n"
     ]
    },
    {
     "name": "stdout",
     "output_type": "stream",
     "text": [
      "2025-04-21 03:46:47,900 - INFO - Downloaded logs_vmoxswja:v0 to /scratch/downloaded_artifacts/logs_vmoxswja:v0\n"
     ]
    },
    {
     "name": "stderr",
     "output_type": "stream",
     "text": [
      "\u001b[34m\u001b[1mwandb\u001b[0m:   1 of 1 files downloaded.  \n"
     ]
    },
    {
     "name": "stdout",
     "output_type": "stream",
     "text": [
      "2025-04-21 03:46:47,983 - INFO - Downloaded logs_3bi68cno:v0 to /scratch/downloaded_artifacts/logs_3bi68cno:v0\n"
     ]
    },
    {
     "name": "stderr",
     "output_type": "stream",
     "text": [
      "\u001b[34m\u001b[1mwandb\u001b[0m:   1 of 1 files downloaded.  \n"
     ]
    },
    {
     "name": "stdout",
     "output_type": "stream",
     "text": [
      "2025-04-21 03:46:48,048 - INFO - Downloaded logs_4gb03tmg:v0 to /scratch/downloaded_artifacts/logs_4gb03tmg:v0\n"
     ]
    },
    {
     "name": "stderr",
     "output_type": "stream",
     "text": [
      "\u001b[34m\u001b[1mwandb\u001b[0m:   1 of 1 files downloaded.  \n"
     ]
    },
    {
     "name": "stdout",
     "output_type": "stream",
     "text": [
      "2025-04-21 03:46:48,281 - INFO - Downloaded logs_22qwk0pz:v0 to /scratch/downloaded_artifacts/logs_22qwk0pz:v0\n"
     ]
    },
    {
     "name": "stderr",
     "output_type": "stream",
     "text": [
      "\u001b[34m\u001b[1mwandb\u001b[0m:   1 of 1 files downloaded.  \n"
     ]
    },
    {
     "name": "stdout",
     "output_type": "stream",
     "text": [
      "2025-04-21 03:46:48,489 - INFO - Downloaded logs_4j1nfwr9:v0 to /scratch/downloaded_artifacts/logs_4j1nfwr9:v0\n"
     ]
    },
    {
     "name": "stderr",
     "output_type": "stream",
     "text": [
      "\u001b[34m\u001b[1mwandb\u001b[0m:   1 of 1 files downloaded.  \n"
     ]
    },
    {
     "name": "stdout",
     "output_type": "stream",
     "text": [
      "2025-04-21 03:46:48,537 - INFO - Downloaded logs_4ntl8dms:v0 to /scratch/downloaded_artifacts/logs_4ntl8dms:v0\n"
     ]
    },
    {
     "name": "stderr",
     "output_type": "stream",
     "text": [
      "\u001b[34m\u001b[1mwandb\u001b[0m:   1 of 1 files downloaded.  \n"
     ]
    },
    {
     "name": "stdout",
     "output_type": "stream",
     "text": [
      "2025-04-21 03:46:48,700 - INFO - Downloaded logs_5u5b3x10:v0 to /scratch/downloaded_artifacts/logs_5u5b3x10:v0\n"
     ]
    },
    {
     "name": "stderr",
     "output_type": "stream",
     "text": [
      "\u001b[34m\u001b[1mwandb\u001b[0m:   1 of 1 files downloaded.  \n"
     ]
    },
    {
     "name": "stdout",
     "output_type": "stream",
     "text": [
      "2025-04-21 03:46:48,778 - INFO - Downloaded logs_4y3bqvfl:v0 to /scratch/downloaded_artifacts/logs_4y3bqvfl:v0\n"
     ]
    },
    {
     "name": "stderr",
     "output_type": "stream",
     "text": [
      "\u001b[34m\u001b[1mwandb\u001b[0m:   1 of 1 files downloaded.  \n"
     ]
    },
    {
     "name": "stdout",
     "output_type": "stream",
     "text": [
      "2025-04-21 03:46:49,520 - INFO - Downloaded logs_6t5k1v9s:v0 to /scratch/downloaded_artifacts/logs_6t5k1v9s:v0\n"
     ]
    },
    {
     "name": "stderr",
     "output_type": "stream",
     "text": [
      "\u001b[34m\u001b[1mwandb\u001b[0m:   1 of 1 files downloaded.  \n"
     ]
    },
    {
     "name": "stdout",
     "output_type": "stream",
     "text": [
      "2025-04-21 03:46:49,569 - INFO - Downloaded logs_7qfnxjx0:v0 to /scratch/downloaded_artifacts/logs_7qfnxjx0:v0\n"
     ]
    },
    {
     "name": "stderr",
     "output_type": "stream",
     "text": [
      "\u001b[34m\u001b[1mwandb\u001b[0m:   1 of 1 files downloaded.  \n"
     ]
    },
    {
     "name": "stdout",
     "output_type": "stream",
     "text": [
      "2025-04-21 03:46:50,484 - INFO - Downloaded logs_abkps4gw:v0 to /scratch/downloaded_artifacts/logs_abkps4gw:v0\n"
     ]
    },
    {
     "name": "stderr",
     "output_type": "stream",
     "text": [
      "\u001b[34m\u001b[1mwandb\u001b[0m:   1 of 1 files downloaded.  \n"
     ]
    },
    {
     "name": "stdout",
     "output_type": "stream",
     "text": [
      "2025-04-21 03:46:50,616 - INFO - Downloaded logs_a2ky7o07:v0 to /scratch/downloaded_artifacts/logs_a2ky7o07:v0\n"
     ]
    },
    {
     "name": "stderr",
     "output_type": "stream",
     "text": [
      "\u001b[34m\u001b[1mwandb\u001b[0m:   1 of 1 files downloaded.  \n"
     ]
    },
    {
     "name": "stdout",
     "output_type": "stream",
     "text": [
      "2025-04-21 03:46:50,824 - INFO - Downloaded logs_auk8b9id:v0 to /scratch/downloaded_artifacts/logs_auk8b9id:v0\n"
     ]
    },
    {
     "name": "stderr",
     "output_type": "stream",
     "text": [
      "\u001b[34m\u001b[1mwandb\u001b[0m:   1 of 1 files downloaded.  \n"
     ]
    },
    {
     "name": "stdout",
     "output_type": "stream",
     "text": [
      "2025-04-21 03:46:50,848 - INFO - Downloaded logs_bretiybb:v0 to /scratch/downloaded_artifacts/logs_bretiybb:v0\n"
     ]
    },
    {
     "name": "stderr",
     "output_type": "stream",
     "text": [
      "\u001b[34m\u001b[1mwandb\u001b[0m:   1 of 1 files downloaded.  \n"
     ]
    },
    {
     "name": "stdout",
     "output_type": "stream",
     "text": [
      "2025-04-21 03:46:52,959 - INFO - Downloaded logs_ebzr8kib:v0 to /scratch/downloaded_artifacts/logs_ebzr8kib:v0\n"
     ]
    },
    {
     "name": "stderr",
     "output_type": "stream",
     "text": [
      "\u001b[34m\u001b[1mwandb\u001b[0m:   1 of 1 files downloaded.  \n"
     ]
    },
    {
     "name": "stdout",
     "output_type": "stream",
     "text": [
      "2025-04-21 03:46:52,977 - INFO - Downloaded logs_dg9665gg:v0 to /scratch/downloaded_artifacts/logs_dg9665gg:v0\n"
     ]
    },
    {
     "name": "stderr",
     "output_type": "stream",
     "text": [
      "\u001b[34m\u001b[1mwandb\u001b[0m:   1 of 1 files downloaded.  \n"
     ]
    },
    {
     "name": "stdout",
     "output_type": "stream",
     "text": [
      "2025-04-21 03:46:52,985 - INFO - Downloaded logs_dre4dn6g:v0 to /scratch/downloaded_artifacts/logs_dre4dn6g:v0\n",
      "2025-04-21 03:46:53,020 - ERROR - Error downloading artifact for run k384hotv: [Errno 28] No space left on device\n",
      "2025-04-21 03:46:53,021 - ERROR - Error downloading artifact for run r2tvv2lx: [Errno 28] No space left on device\n",
      "2025-04-21 03:46:53,021 - ERROR - Error downloading artifact for run jacbdpvc: [Errno 28] No space left on device\n",
      "2025-04-21 03:46:53,021 - ERROR - Error downloading artifact for run r42ez6b2: [Errno 28] No space left on device\n",
      "2025-04-21 03:46:53,021 - ERROR - Error downloading artifact for run jhelgsy3: [Errno 28] No space left on device\n",
      "2025-04-21 03:46:53,021 - ERROR - Error downloading artifact for run yoa95twp: [Errno 28] No space left on device\n",
      "2025-04-21 03:46:53,021 - ERROR - Error downloading artifact for run leq8jxgg: [Errno 28] No space left on device\n",
      "2025-04-21 03:46:53,021 - ERROR - Error downloading artifact for run rshmq61v: [Errno 28] No space left on device\n",
      "2025-04-21 03:46:53,021 - ERROR - Error downloading artifact for run xjiyjdcx: [Errno 28] No space left on device\n",
      "2025-04-21 03:46:53,022 - ERROR - Error downloading artifact for run fs3pa3zw: [Errno 28] No space left on device\n",
      "2025-04-21 03:46:53,022 - ERROR - Error downloading artifact for run v0m0l3pe: [Errno 28] No space left on device\n",
      "2025-04-21 03:46:53,022 - ERROR - Error downloading artifact for run om0f03ls: [Errno 28] No space left on device\n",
      "2025-04-21 03:46:53,022 - ERROR - Error downloading artifact for run ei0zq17w: [Errno 28] No space left on device\n",
      "2025-04-21 03:46:53,022 - ERROR - Error downloading artifact for run oxknhb61: [Errno 28] No space left on device\n",
      "2025-04-21 03:46:53,023 - ERROR - Error downloading artifact for run or5bv84t: [Errno 28] No space left on device\n",
      "2025-04-21 03:46:53,023 - ERROR - Error downloading artifact for run r4d5y7xn: [Errno 28] No space left on device\n",
      "2025-04-21 03:46:53,026 - ERROR - Error downloading artifact for run vqbjro8q: [Errno 28] No space left on device\n"
     ]
    },
    {
     "name": "stderr",
     "output_type": "stream",
     "text": [
      "\u001b[34m\u001b[1mwandb\u001b[0m: \u001b[33mWARNING\u001b[0m Cache size exceeded. Attempting to reclaim space...\n",
      "\u001b[34m\u001b[1mwandb\u001b[0m:   1 of 1 files downloaded.  \n"
     ]
    },
    {
     "name": "stdout",
     "output_type": "stream",
     "text": [
      "2025-04-21 03:46:57,238 - INFO - Downloaded logs_2mdu993g:v0 to /scratch/downloaded_artifacts/logs_2mdu993g:v0\n"
     ]
    },
    {
     "name": "stderr",
     "output_type": "stream",
     "text": [
      "\u001b[34m\u001b[1mwandb\u001b[0m:   1 of 1 files downloaded.  \n"
     ]
    },
    {
     "name": "stdout",
     "output_type": "stream",
     "text": [
      "2025-04-21 03:46:57,432 - INFO - Downloaded logs_5pu4drk4:v0 to /scratch/downloaded_artifacts/logs_5pu4drk4:v0\n"
     ]
    },
    {
     "name": "stderr",
     "output_type": "stream",
     "text": [
      "\u001b[34m\u001b[1mwandb\u001b[0m:   1 of 1 files downloaded.  \n"
     ]
    },
    {
     "name": "stdout",
     "output_type": "stream",
     "text": [
      "2025-04-21 03:46:57,745 - INFO - Downloaded logs_djzfhu7w:v0 to /scratch/downloaded_artifacts/logs_djzfhu7w:v0\n"
     ]
    },
    {
     "name": "stderr",
     "output_type": "stream",
     "text": [
      "\u001b[34m\u001b[1mwandb\u001b[0m:   1 of 1 files downloaded.  \n"
     ]
    },
    {
     "name": "stdout",
     "output_type": "stream",
     "text": [
      "2025-04-21 03:46:57,783 - INFO - Downloaded logs_biqtzqox:v0 to /scratch/downloaded_artifacts/logs_biqtzqox:v0\n"
     ]
    },
    {
     "name": "stderr",
     "output_type": "stream",
     "text": [
      "\u001b[34m\u001b[1mwandb\u001b[0m:   1 of 1 files downloaded.  \n"
     ]
    },
    {
     "name": "stdout",
     "output_type": "stream",
     "text": [
      "2025-04-21 03:46:57,796 - INFO - Downloaded logs_bl9f5833:v0 to /scratch/downloaded_artifacts/logs_bl9f5833:v0\n"
     ]
    },
    {
     "name": "stderr",
     "output_type": "stream",
     "text": [
      "\u001b[34m\u001b[1mwandb\u001b[0m:   1 of 1 files downloaded.  \n"
     ]
    },
    {
     "name": "stdout",
     "output_type": "stream",
     "text": [
      "2025-04-21 03:46:57,801 - INFO - Downloaded logs_47t77m9b:v0 to /scratch/downloaded_artifacts/logs_47t77m9b:v0\n"
     ]
    },
    {
     "name": "stderr",
     "output_type": "stream",
     "text": [
      "\u001b[34m\u001b[1mwandb\u001b[0m:   1 of 1 files downloaded.  \n"
     ]
    },
    {
     "name": "stdout",
     "output_type": "stream",
     "text": [
      "2025-04-21 03:46:57,815 - INFO - Downloaded logs_c4xfc8e7:v0 to /scratch/downloaded_artifacts/logs_c4xfc8e7:v0\n"
     ]
    },
    {
     "name": "stderr",
     "output_type": "stream",
     "text": [
      "\u001b[34m\u001b[1mwandb\u001b[0m:   1 of 1 files downloaded.  \n"
     ]
    },
    {
     "name": "stdout",
     "output_type": "stream",
     "text": [
      "2025-04-21 03:46:57,826 - INFO - Downloaded logs_9jbfvugb:v0 to /scratch/downloaded_artifacts/logs_9jbfvugb:v0\n"
     ]
    },
    {
     "name": "stderr",
     "output_type": "stream",
     "text": [
      "\u001b[34m\u001b[1mwandb\u001b[0m:   1 of 1 files downloaded.  \n"
     ]
    },
    {
     "name": "stdout",
     "output_type": "stream",
     "text": [
      "2025-04-21 03:46:57,924 - INFO - Downloaded logs_5oharnmn:v0 to /scratch/downloaded_artifacts/logs_5oharnmn:v0\n"
     ]
    },
    {
     "name": "stderr",
     "output_type": "stream",
     "text": [
      "\u001b[34m\u001b[1mwandb\u001b[0m:   1 of 1 files downloaded.  \n"
     ]
    },
    {
     "name": "stdout",
     "output_type": "stream",
     "text": [
      "2025-04-21 03:46:57,957 - INFO - Downloaded logs_zoennrr2:v0 to /scratch/downloaded_artifacts/logs_zoennrr2:v0\n"
     ]
    },
    {
     "name": "stderr",
     "output_type": "stream",
     "text": [
      "\u001b[34m\u001b[1mwandb\u001b[0m:   1 of 1 files downloaded.  \n"
     ]
    },
    {
     "name": "stdout",
     "output_type": "stream",
     "text": [
      "2025-04-21 03:46:57,962 - INFO - Downloaded logs_ji7ocyne:v0 to /scratch/downloaded_artifacts/logs_ji7ocyne:v0\n"
     ]
    },
    {
     "name": "stderr",
     "output_type": "stream",
     "text": [
      "\u001b[34m\u001b[1mwandb\u001b[0m:   1 of 1 files downloaded.  \n"
     ]
    },
    {
     "name": "stdout",
     "output_type": "stream",
     "text": [
      "2025-04-21 03:46:58,002 - INFO - Downloaded logs_fdhkdtcc:v0 to /scratch/downloaded_artifacts/logs_fdhkdtcc:v0\n"
     ]
    },
    {
     "name": "stderr",
     "output_type": "stream",
     "text": [
      "\u001b[34m\u001b[1mwandb\u001b[0m:   1 of 1 files downloaded.  \n"
     ]
    },
    {
     "name": "stdout",
     "output_type": "stream",
     "text": [
      "2025-04-21 03:46:58,011 - INFO - Downloaded logs_jv0jmyco:v0 to /scratch/downloaded_artifacts/logs_jv0jmyco:v0\n"
     ]
    },
    {
     "name": "stderr",
     "output_type": "stream",
     "text": [
      "\u001b[34m\u001b[1mwandb\u001b[0m:   1 of 1 files downloaded.  \n"
     ]
    },
    {
     "name": "stdout",
     "output_type": "stream",
     "text": [
      "2025-04-21 03:46:58,016 - INFO - Downloaded logs_kie123i0:v0 to /scratch/downloaded_artifacts/logs_kie123i0:v0\n"
     ]
    },
    {
     "name": "stderr",
     "output_type": "stream",
     "text": [
      "\u001b[34m\u001b[1mwandb\u001b[0m:   1 of 1 files downloaded.  \n"
     ]
    },
    {
     "name": "stdout",
     "output_type": "stream",
     "text": [
      "2025-04-21 03:46:58,186 - INFO - Downloaded logs_evk138kp:v0 to /scratch/downloaded_artifacts/logs_evk138kp:v0\n"
     ]
    },
    {
     "name": "stderr",
     "output_type": "stream",
     "text": [
      "\u001b[34m\u001b[1mwandb\u001b[0m:   1 of 1 files downloaded.  \n"
     ]
    },
    {
     "name": "stdout",
     "output_type": "stream",
     "text": [
      "2025-04-21 03:46:58,227 - INFO - Downloaded logs_6m8slyvt:v0 to /scratch/downloaded_artifacts/logs_6m8slyvt:v0\n"
     ]
    },
    {
     "name": "stderr",
     "output_type": "stream",
     "text": [
      "\u001b[34m\u001b[1mwandb\u001b[0m:   1 of 1 files downloaded.  \n"
     ]
    },
    {
     "name": "stdout",
     "output_type": "stream",
     "text": [
      "2025-04-21 03:46:58,286 - INFO - Downloaded logs_7ggqz5mc:v0 to /scratch/downloaded_artifacts/logs_7ggqz5mc:v0\n"
     ]
    },
    {
     "name": "stderr",
     "output_type": "stream",
     "text": [
      "\u001b[34m\u001b[1mwandb\u001b[0m:   1 of 1 files downloaded.  \n"
     ]
    },
    {
     "name": "stdout",
     "output_type": "stream",
     "text": [
      "2025-04-21 03:46:58,378 - INFO - Downloaded logs_culwu5nv:v0 to /scratch/downloaded_artifacts/logs_culwu5nv:v0\n"
     ]
    },
    {
     "name": "stderr",
     "output_type": "stream",
     "text": [
      "\u001b[34m\u001b[1mwandb\u001b[0m:   1 of 1 files downloaded.  \n"
     ]
    },
    {
     "name": "stdout",
     "output_type": "stream",
     "text": [
      "2025-04-21 03:46:58,442 - INFO - Downloaded logs_4f9urn64:v0 to /scratch/downloaded_artifacts/logs_4f9urn64:v0\n"
     ]
    },
    {
     "name": "stderr",
     "output_type": "stream",
     "text": [
      "\u001b[34m\u001b[1mwandb\u001b[0m:   1 of 1 files downloaded.  \n"
     ]
    },
    {
     "name": "stdout",
     "output_type": "stream",
     "text": [
      "2025-04-21 03:46:58,905 - INFO - Downloaded logs_3i4bresh:v0 to /scratch/downloaded_artifacts/logs_3i4bresh:v0\n"
     ]
    },
    {
     "name": "stderr",
     "output_type": "stream",
     "text": [
      "\u001b[34m\u001b[1mwandb\u001b[0m:   1 of 1 files downloaded.  \n"
     ]
    },
    {
     "name": "stdout",
     "output_type": "stream",
     "text": [
      "2025-04-21 03:47:06,721 - INFO - Downloaded logs_kyhu5g55:v0 to /scratch/downloaded_artifacts/logs_kyhu5g55:v0\n"
     ]
    },
    {
     "name": "stderr",
     "output_type": "stream",
     "text": [
      "\u001b[34m\u001b[1mwandb\u001b[0m:   1 of 1 files downloaded.  \n"
     ]
    },
    {
     "name": "stdout",
     "output_type": "stream",
     "text": [
      "2025-04-21 03:47:08,171 - INFO - Downloaded logs_jxjflnaw:v0 to /scratch/downloaded_artifacts/logs_jxjflnaw:v0\n"
     ]
    },
    {
     "name": "stderr",
     "output_type": "stream",
     "text": [
      "\u001b[34m\u001b[1mwandb\u001b[0m:   1 of 1 files downloaded.  \n"
     ]
    },
    {
     "name": "stdout",
     "output_type": "stream",
     "text": [
      "2025-04-21 03:47:08,338 - INFO - Downloaded logs_g6hl73ai:v0 to /scratch/downloaded_artifacts/logs_g6hl73ai:v0\n"
     ]
    },
    {
     "name": "stderr",
     "output_type": "stream",
     "text": [
      "\u001b[34m\u001b[1mwandb\u001b[0m:   1 of 1 files downloaded.  \n"
     ]
    },
    {
     "name": "stdout",
     "output_type": "stream",
     "text": [
      "2025-04-21 03:47:08,560 - INFO - Downloaded logs_5cmfi06i:v0 to /scratch/downloaded_artifacts/logs_5cmfi06i:v0\n"
     ]
    },
    {
     "name": "stderr",
     "output_type": "stream",
     "text": [
      "\u001b[34m\u001b[1mwandb\u001b[0m:   1 of 1 files downloaded.  \n"
     ]
    },
    {
     "name": "stdout",
     "output_type": "stream",
     "text": [
      "2025-04-21 03:47:27,059 - INFO - Downloaded logs_ompq8aib:v0 to /scratch/downloaded_artifacts/logs_ompq8aib:v0\n"
     ]
    },
    {
     "name": "stderr",
     "output_type": "stream",
     "text": [
      "\u001b[34m\u001b[1mwandb\u001b[0m:   1 of 1 files downloaded.  \n"
     ]
    },
    {
     "name": "stdout",
     "output_type": "stream",
     "text": [
      "2025-04-21 03:47:27,088 - INFO - Downloaded logs_cem1zg3c:v0 to /scratch/downloaded_artifacts/logs_cem1zg3c:v0\n"
     ]
    },
    {
     "name": "stderr",
     "output_type": "stream",
     "text": [
      "\u001b[34m\u001b[1mwandb\u001b[0m:   1 of 1 files downloaded.  \n"
     ]
    },
    {
     "name": "stdout",
     "output_type": "stream",
     "text": [
      "2025-04-21 03:47:27,120 - INFO - Downloaded logs_68m76dxp:v0 to /scratch/downloaded_artifacts/logs_68m76dxp:v0\n"
     ]
    },
    {
     "name": "stderr",
     "output_type": "stream",
     "text": [
      "\u001b[34m\u001b[1mwandb\u001b[0m:   1 of 1 files downloaded.  \n"
     ]
    },
    {
     "name": "stdout",
     "output_type": "stream",
     "text": [
      "2025-04-21 03:47:27,147 - INFO - Downloaded logs_sqylz9oh:v0 to /scratch/downloaded_artifacts/logs_sqylz9oh:v0\n"
     ]
    },
    {
     "name": "stderr",
     "output_type": "stream",
     "text": [
      "\u001b[34m\u001b[1mwandb\u001b[0m:   1 of 1 files downloaded.  \n"
     ]
    },
    {
     "name": "stdout",
     "output_type": "stream",
     "text": [
      "2025-04-21 03:47:27,240 - INFO - Downloaded logs_0czf9mhr:v0 to /scratch/downloaded_artifacts/logs_0czf9mhr:v0\n"
     ]
    },
    {
     "name": "stderr",
     "output_type": "stream",
     "text": [
      "\u001b[34m\u001b[1mwandb\u001b[0m:   1 of 1 files downloaded.  \n"
     ]
    },
    {
     "name": "stdout",
     "output_type": "stream",
     "text": [
      "2025-04-21 03:47:27,280 - INFO - Downloaded logs_uo7zv5ts:v0 to /scratch/downloaded_artifacts/logs_uo7zv5ts:v0\n"
     ]
    },
    {
     "name": "stderr",
     "output_type": "stream",
     "text": [
      "\u001b[34m\u001b[1mwandb\u001b[0m:   1 of 1 files downloaded.  \n",
      "\u001b[34m\u001b[1mwandb\u001b[0m:   1 of 1 files downloaded.  \n"
     ]
    },
    {
     "name": "stdout",
     "output_type": "stream",
     "text": [
      "2025-04-21 03:47:27,342 - INFO - Downloaded logs_9spb75ud:v0 to /scratch/downloaded_artifacts/logs_9spb75ud:v0\n",
      "2025-04-21 03:47:27,345 - INFO - Downloaded logs_4mwcpfow:v0 to /scratch/downloaded_artifacts/logs_4mwcpfow:v0\n"
     ]
    },
    {
     "name": "stderr",
     "output_type": "stream",
     "text": [
      "\u001b[34m\u001b[1mwandb\u001b[0m:   1 of 1 files downloaded.  \n"
     ]
    },
    {
     "name": "stdout",
     "output_type": "stream",
     "text": [
      "2025-04-21 03:47:27,449 - INFO - Downloaded logs_8uzg6tak:v0 to /scratch/downloaded_artifacts/logs_8uzg6tak:v0\n"
     ]
    },
    {
     "name": "stderr",
     "output_type": "stream",
     "text": [
      "\u001b[34m\u001b[1mwandb\u001b[0m:   1 of 1 files downloaded.  \n"
     ]
    },
    {
     "name": "stdout",
     "output_type": "stream",
     "text": [
      "2025-04-21 03:47:27,547 - INFO - Downloaded logs_7z4rmxjq:v0 to /scratch/downloaded_artifacts/logs_7z4rmxjq:v0\n"
     ]
    },
    {
     "name": "stderr",
     "output_type": "stream",
     "text": [
      "\u001b[34m\u001b[1mwandb\u001b[0m:   1 of 1 files downloaded.  \n"
     ]
    },
    {
     "name": "stdout",
     "output_type": "stream",
     "text": [
      "2025-04-21 03:47:27,629 - INFO - Downloaded logs_573n969b:v0 to /scratch/downloaded_artifacts/logs_573n969b:v0\n"
     ]
    },
    {
     "name": "stderr",
     "output_type": "stream",
     "text": [
      "\u001b[34m\u001b[1mwandb\u001b[0m:   1 of 1 files downloaded.  \n",
      "\u001b[34m\u001b[1mwandb\u001b[0m:   1 of 1 files downloaded.  \n"
     ]
    },
    {
     "name": "stdout",
     "output_type": "stream",
     "text": [
      "2025-04-21 03:47:27,662 - INFO - Downloaded logs_bn1008l6:v0 to /scratch/downloaded_artifacts/logs_bn1008l6:v0\n"
     ]
    },
    {
     "name": "stderr",
     "output_type": "stream",
     "text": [
      "\u001b[34m\u001b[1mwandb\u001b[0m:   1 of 1 files downloaded.  \n"
     ]
    },
    {
     "name": "stdout",
     "output_type": "stream",
     "text": [
      "2025-04-21 03:47:27,668 - INFO - Downloaded logs_23j7tmio:v0 to /scratch/downloaded_artifacts/logs_23j7tmio:v0\n",
      "2025-04-21 03:47:27,673 - INFO - Downloaded logs_0admnsjd:v0 to /scratch/downloaded_artifacts/logs_0admnsjd:v0\n"
     ]
    },
    {
     "name": "stderr",
     "output_type": "stream",
     "text": [
      "\u001b[34m\u001b[1mwandb\u001b[0m:   1 of 1 files downloaded.  \n"
     ]
    },
    {
     "name": "stdout",
     "output_type": "stream",
     "text": [
      "2025-04-21 03:47:27,797 - INFO - Downloaded logs_dteby6qr:v0 to /scratch/downloaded_artifacts/logs_dteby6qr:v0\n"
     ]
    },
    {
     "name": "stderr",
     "output_type": "stream",
     "text": [
      "\u001b[34m\u001b[1mwandb\u001b[0m:   1 of 1 files downloaded.  \n"
     ]
    },
    {
     "name": "stdout",
     "output_type": "stream",
     "text": [
      "2025-04-21 03:47:27,866 - INFO - Downloaded logs_gj107b72:v0 to /scratch/downloaded_artifacts/logs_gj107b72:v0\n"
     ]
    },
    {
     "name": "stderr",
     "output_type": "stream",
     "text": [
      "\u001b[34m\u001b[1mwandb\u001b[0m:   1 of 1 files downloaded.  \n"
     ]
    },
    {
     "name": "stdout",
     "output_type": "stream",
     "text": [
      "2025-04-21 03:47:28,231 - INFO - Downloaded logs_gm04ozbw:v0 to /scratch/downloaded_artifacts/logs_gm04ozbw:v0\n"
     ]
    },
    {
     "name": "stderr",
     "output_type": "stream",
     "text": [
      "\u001b[34m\u001b[1mwandb\u001b[0m:   1 of 1 files downloaded.  \n"
     ]
    },
    {
     "name": "stdout",
     "output_type": "stream",
     "text": [
      "2025-04-21 03:47:28,336 - INFO - Downloaded logs_ht8kxt2g:v0 to /scratch/downloaded_artifacts/logs_ht8kxt2g:v0\n"
     ]
    },
    {
     "name": "stderr",
     "output_type": "stream",
     "text": [
      "\u001b[34m\u001b[1mwandb\u001b[0m:   1 of 1 files downloaded.  \n"
     ]
    },
    {
     "name": "stdout",
     "output_type": "stream",
     "text": [
      "2025-04-21 03:47:28,671 - INFO - Downloaded logs_kjdcozf9:v0 to /scratch/downloaded_artifacts/logs_kjdcozf9:v0\n"
     ]
    },
    {
     "name": "stderr",
     "output_type": "stream",
     "text": [
      "\u001b[34m\u001b[1mwandb\u001b[0m:   1 of 1 files downloaded.  \n"
     ]
    },
    {
     "name": "stdout",
     "output_type": "stream",
     "text": [
      "2025-04-21 03:47:28,701 - INFO - Downloaded logs_h46osxag:v0 to /scratch/downloaded_artifacts/logs_h46osxag:v0\n"
     ]
    },
    {
     "name": "stderr",
     "output_type": "stream",
     "text": [
      "\u001b[34m\u001b[1mwandb\u001b[0m:   1 of 1 files downloaded.  \n"
     ]
    },
    {
     "name": "stdout",
     "output_type": "stream",
     "text": [
      "2025-04-21 03:47:29,170 - INFO - Downloaded logs_loms1m5g:v0 to /scratch/downloaded_artifacts/logs_loms1m5g:v0\n"
     ]
    },
    {
     "name": "stderr",
     "output_type": "stream",
     "text": [
      "\u001b[34m\u001b[1mwandb\u001b[0m:   1 of 1 files downloaded.  \n"
     ]
    },
    {
     "name": "stdout",
     "output_type": "stream",
     "text": [
      "2025-04-21 03:47:29,471 - INFO - Downloaded logs_ow4f3k2r:v0 to /scratch/downloaded_artifacts/logs_ow4f3k2r:v0\n"
     ]
    },
    {
     "name": "stderr",
     "output_type": "stream",
     "text": [
      "\u001b[34m\u001b[1mwandb\u001b[0m:   1 of 1 files downloaded.  \n"
     ]
    },
    {
     "name": "stdout",
     "output_type": "stream",
     "text": [
      "2025-04-21 03:47:29,614 - INFO - Downloaded logs_m781n7kt:v0 to /scratch/downloaded_artifacts/logs_m781n7kt:v0\n"
     ]
    },
    {
     "name": "stderr",
     "output_type": "stream",
     "text": [
      "\u001b[34m\u001b[1mwandb\u001b[0m:   1 of 1 files downloaded.  \n"
     ]
    },
    {
     "name": "stdout",
     "output_type": "stream",
     "text": [
      "2025-04-21 03:47:29,667 - INFO - Downloaded logs_lhd6cx7x:v0 to /scratch/downloaded_artifacts/logs_lhd6cx7x:v0\n"
     ]
    },
    {
     "name": "stderr",
     "output_type": "stream",
     "text": [
      "\u001b[34m\u001b[1mwandb\u001b[0m:   1 of 1 files downloaded.  \n"
     ]
    },
    {
     "name": "stdout",
     "output_type": "stream",
     "text": [
      "2025-04-21 03:47:29,765 - INFO - Downloaded logs_ozirue45:v0 to /scratch/downloaded_artifacts/logs_ozirue45:v0\n"
     ]
    },
    {
     "name": "stderr",
     "output_type": "stream",
     "text": [
      "\u001b[34m\u001b[1mwandb\u001b[0m:   1 of 1 files downloaded.  \n"
     ]
    },
    {
     "name": "stdout",
     "output_type": "stream",
     "text": [
      "2025-04-21 03:47:29,800 - INFO - Downloaded logs_pqnhfe8o:v0 to /scratch/downloaded_artifacts/logs_pqnhfe8o:v0\n"
     ]
    },
    {
     "name": "stderr",
     "output_type": "stream",
     "text": [
      "\u001b[34m\u001b[1mwandb\u001b[0m:   1 of 1 files downloaded.  \n"
     ]
    },
    {
     "name": "stdout",
     "output_type": "stream",
     "text": [
      "2025-04-21 03:47:30,018 - INFO - Downloaded logs_rrrnu4lb:v0 to /scratch/downloaded_artifacts/logs_rrrnu4lb:v0\n"
     ]
    },
    {
     "name": "stderr",
     "output_type": "stream",
     "text": [
      "\u001b[34m\u001b[1mwandb\u001b[0m:   1 of 1 files downloaded.  \n"
     ]
    },
    {
     "name": "stdout",
     "output_type": "stream",
     "text": [
      "2025-04-21 03:47:30,027 - INFO - Downloaded logs_rnpxrxd4:v0 to /scratch/downloaded_artifacts/logs_rnpxrxd4:v0\n"
     ]
    },
    {
     "name": "stderr",
     "output_type": "stream",
     "text": [
      "\u001b[34m\u001b[1mwandb\u001b[0m:   1 of 1 files downloaded.  \n"
     ]
    },
    {
     "name": "stdout",
     "output_type": "stream",
     "text": [
      "2025-04-21 03:47:30,306 - INFO - Downloaded logs_ugpx3yre:v0 to /scratch/downloaded_artifacts/logs_ugpx3yre:v0\n"
     ]
    },
    {
     "name": "stderr",
     "output_type": "stream",
     "text": [
      "\u001b[34m\u001b[1mwandb\u001b[0m:   1 of 1 files downloaded.  \n"
     ]
    },
    {
     "name": "stdout",
     "output_type": "stream",
     "text": [
      "2025-04-21 03:47:30,317 - INFO - Downloaded logs_tj2jsb91:v0 to /scratch/downloaded_artifacts/logs_tj2jsb91:v0\n"
     ]
    },
    {
     "name": "stderr",
     "output_type": "stream",
     "text": [
      "\u001b[34m\u001b[1mwandb\u001b[0m:   1 of 1 files downloaded.  \n"
     ]
    },
    {
     "name": "stdout",
     "output_type": "stream",
     "text": [
      "2025-04-21 03:47:30,346 - INFO - Downloaded logs_s2dolos5:v0 to /scratch/downloaded_artifacts/logs_s2dolos5:v0\n"
     ]
    },
    {
     "name": "stderr",
     "output_type": "stream",
     "text": [
      "\u001b[34m\u001b[1mwandb\u001b[0m:   1 of 1 files downloaded.  \n"
     ]
    },
    {
     "name": "stdout",
     "output_type": "stream",
     "text": [
      "2025-04-21 03:47:30,453 - INFO - Downloaded logs_wn9zvh81:v0 to /scratch/downloaded_artifacts/logs_wn9zvh81:v0\n"
     ]
    },
    {
     "name": "stderr",
     "output_type": "stream",
     "text": [
      "\u001b[34m\u001b[1mwandb\u001b[0m:   1 of 1 files downloaded.  \n"
     ]
    },
    {
     "name": "stdout",
     "output_type": "stream",
     "text": [
      "2025-04-21 03:47:30,536 - INFO - Downloaded logs_xvnbry3q:v0 to /scratch/downloaded_artifacts/logs_xvnbry3q:v0\n"
     ]
    },
    {
     "name": "stderr",
     "output_type": "stream",
     "text": [
      "\u001b[34m\u001b[1mwandb\u001b[0m:   1 of 1 files downloaded.  \n"
     ]
    },
    {
     "name": "stdout",
     "output_type": "stream",
     "text": [
      "2025-04-21 03:47:30,546 - INFO - Downloaded logs_zclpt8s7:v0 to /scratch/downloaded_artifacts/logs_zclpt8s7:v0\n"
     ]
    },
    {
     "name": "stderr",
     "output_type": "stream",
     "text": [
      "\u001b[34m\u001b[1mwandb\u001b[0m:   1 of 1 files downloaded.  \n"
     ]
    },
    {
     "name": "stdout",
     "output_type": "stream",
     "text": [
      "2025-04-21 03:47:30,629 - INFO - Downloaded logs_yrvdited:v0 to /scratch/downloaded_artifacts/logs_yrvdited:v0\n"
     ]
    },
    {
     "name": "stderr",
     "output_type": "stream",
     "text": [
      "\u001b[34m\u001b[1mwandb\u001b[0m:   1 of 1 files downloaded.  \n"
     ]
    },
    {
     "name": "stdout",
     "output_type": "stream",
     "text": [
      "2025-04-21 03:47:30,718 - INFO - Downloaded logs_zix6kqxi:v0 to /scratch/downloaded_artifacts/logs_zix6kqxi:v0\n"
     ]
    },
    {
     "name": "stderr",
     "output_type": "stream",
     "text": [
      "\u001b[34m\u001b[1mwandb\u001b[0m:   1 of 1 files downloaded.  \n"
     ]
    },
    {
     "name": "stdout",
     "output_type": "stream",
     "text": [
      "2025-04-21 03:47:30,917 - INFO - Downloaded logs_28yjjt8u:v0 to /scratch/downloaded_artifacts/logs_28yjjt8u:v0\n"
     ]
    },
    {
     "name": "stderr",
     "output_type": "stream",
     "text": [
      "\u001b[34m\u001b[1mwandb\u001b[0m:   1 of 1 files downloaded.  \n"
     ]
    },
    {
     "name": "stdout",
     "output_type": "stream",
     "text": [
      "2025-04-21 03:47:30,986 - INFO - Downloaded logs_2i3efa32:v0 to /scratch/downloaded_artifacts/logs_2i3efa32:v0\n"
     ]
    },
    {
     "name": "stderr",
     "output_type": "stream",
     "text": [
      "\u001b[34m\u001b[1mwandb\u001b[0m:   1 of 1 files downloaded.  \n"
     ]
    },
    {
     "name": "stdout",
     "output_type": "stream",
     "text": [
      "2025-04-21 03:47:31,194 - INFO - Downloaded logs_2x0grnxl:v0 to /scratch/downloaded_artifacts/logs_2x0grnxl:v0\n"
     ]
    },
    {
     "name": "stderr",
     "output_type": "stream",
     "text": [
      "\u001b[34m\u001b[1mwandb\u001b[0m:   1 of 1 files downloaded.  \n"
     ]
    },
    {
     "name": "stdout",
     "output_type": "stream",
     "text": [
      "2025-04-21 03:47:31,296 - INFO - Downloaded logs_30foqqy6:v0 to /scratch/downloaded_artifacts/logs_30foqqy6:v0\n"
     ]
    },
    {
     "name": "stderr",
     "output_type": "stream",
     "text": [
      "\u001b[34m\u001b[1mwandb\u001b[0m:   1 of 1 files downloaded.  \n"
     ]
    },
    {
     "name": "stdout",
     "output_type": "stream",
     "text": [
      "2025-04-21 03:47:31,586 - INFO - Downloaded logs_4bp5conc:v0 to /scratch/downloaded_artifacts/logs_4bp5conc:v0\n"
     ]
    },
    {
     "name": "stderr",
     "output_type": "stream",
     "text": [
      "\u001b[34m\u001b[1mwandb\u001b[0m:   1 of 1 files downloaded.  \n"
     ]
    },
    {
     "name": "stdout",
     "output_type": "stream",
     "text": [
      "2025-04-21 03:47:31,706 - INFO - Downloaded logs_5t1jnj71:v0 to /scratch/downloaded_artifacts/logs_5t1jnj71:v0\n"
     ]
    },
    {
     "name": "stderr",
     "output_type": "stream",
     "text": [
      "\u001b[34m\u001b[1mwandb\u001b[0m:   1 of 1 files downloaded.  \n"
     ]
    },
    {
     "name": "stdout",
     "output_type": "stream",
     "text": [
      "2025-04-21 03:47:32,045 - INFO - Downloaded logs_8xxvu8mv:v0 to /scratch/downloaded_artifacts/logs_8xxvu8mv:v0\n"
     ]
    },
    {
     "name": "stderr",
     "output_type": "stream",
     "text": [
      "\u001b[34m\u001b[1mwandb\u001b[0m:   1 of 1 files downloaded.  \n"
     ]
    },
    {
     "name": "stdout",
     "output_type": "stream",
     "text": [
      "2025-04-21 03:47:32,068 - INFO - Downloaded logs_8h6du37u:v0 to /scratch/downloaded_artifacts/logs_8h6du37u:v0\n"
     ]
    },
    {
     "name": "stderr",
     "output_type": "stream",
     "text": [
      "\u001b[34m\u001b[1mwandb\u001b[0m:   1 of 1 files downloaded.  \n"
     ]
    },
    {
     "name": "stdout",
     "output_type": "stream",
     "text": [
      "2025-04-21 03:47:32,272 - INFO - Downloaded logs_99jzsny6:v0 to /scratch/downloaded_artifacts/logs_99jzsny6:v0\n"
     ]
    },
    {
     "name": "stderr",
     "output_type": "stream",
     "text": [
      "\u001b[34m\u001b[1mwandb\u001b[0m:   1 of 1 files downloaded.  \n"
     ]
    },
    {
     "name": "stdout",
     "output_type": "stream",
     "text": [
      "2025-04-21 03:47:32,495 - INFO - Downloaded logs_9abhy6rp:v0 to /scratch/downloaded_artifacts/logs_9abhy6rp:v0\n"
     ]
    },
    {
     "name": "stderr",
     "output_type": "stream",
     "text": [
      "\u001b[34m\u001b[1mwandb\u001b[0m:   1 of 1 files downloaded.  \n"
     ]
    },
    {
     "name": "stdout",
     "output_type": "stream",
     "text": [
      "2025-04-21 03:47:32,724 - INFO - Downloaded logs_c1f1apbd:v0 to /scratch/downloaded_artifacts/logs_c1f1apbd:v0\n"
     ]
    },
    {
     "name": "stderr",
     "output_type": "stream",
     "text": [
      "\u001b[34m\u001b[1mwandb\u001b[0m:   1 of 1 files downloaded.  \n"
     ]
    },
    {
     "name": "stdout",
     "output_type": "stream",
     "text": [
      "2025-04-21 03:47:32,728 - INFO - Downloaded logs_93lnqhae:v0 to /scratch/downloaded_artifacts/logs_93lnqhae:v0\n"
     ]
    },
    {
     "name": "stderr",
     "output_type": "stream",
     "text": [
      "\u001b[34m\u001b[1mwandb\u001b[0m:   1 of 1 files downloaded.  \n"
     ]
    },
    {
     "name": "stdout",
     "output_type": "stream",
     "text": [
      "2025-04-21 03:47:32,807 - INFO - Downloaded logs_dcjrzzk8:v0 to /scratch/downloaded_artifacts/logs_dcjrzzk8:v0\n"
     ]
    },
    {
     "name": "stderr",
     "output_type": "stream",
     "text": [
      "\u001b[34m\u001b[1mwandb\u001b[0m:   1 of 1 files downloaded.  \n"
     ]
    },
    {
     "name": "stdout",
     "output_type": "stream",
     "text": [
      "2025-04-21 03:47:32,816 - INFO - Downloaded logs_g3w1yul8:v0 to /scratch/downloaded_artifacts/logs_g3w1yul8:v0\n"
     ]
    },
    {
     "name": "stderr",
     "output_type": "stream",
     "text": [
      "\u001b[34m\u001b[1mwandb\u001b[0m:   1 of 1 files downloaded.  \n"
     ]
    },
    {
     "name": "stdout",
     "output_type": "stream",
     "text": [
      "2025-04-21 03:47:32,832 - INFO - Downloaded logs_i4tykuye:v0 to /scratch/downloaded_artifacts/logs_i4tykuye:v0\n"
     ]
    },
    {
     "name": "stderr",
     "output_type": "stream",
     "text": [
      "\u001b[34m\u001b[1mwandb\u001b[0m:   1 of 1 files downloaded.  \n"
     ]
    },
    {
     "name": "stdout",
     "output_type": "stream",
     "text": [
      "2025-04-21 03:47:32,980 - INFO - Downloaded logs_ii9rz64o:v0 to /scratch/downloaded_artifacts/logs_ii9rz64o:v0\n"
     ]
    },
    {
     "name": "stderr",
     "output_type": "stream",
     "text": [
      "\u001b[34m\u001b[1mwandb\u001b[0m:   1 of 1 files downloaded.  \n"
     ]
    },
    {
     "name": "stdout",
     "output_type": "stream",
     "text": [
      "2025-04-21 03:47:33,078 - INFO - Downloaded logs_jjq0g5n7:v0 to /scratch/downloaded_artifacts/logs_jjq0g5n7:v0\n"
     ]
    },
    {
     "name": "stderr",
     "output_type": "stream",
     "text": [
      "\u001b[34m\u001b[1mwandb\u001b[0m:   1 of 1 files downloaded.  \n"
     ]
    },
    {
     "name": "stdout",
     "output_type": "stream",
     "text": [
      "2025-04-21 03:47:33,130 - INFO - Downloaded logs_knhfvtoh:v0 to /scratch/downloaded_artifacts/logs_knhfvtoh:v0\n"
     ]
    },
    {
     "name": "stderr",
     "output_type": "stream",
     "text": [
      "\u001b[34m\u001b[1mwandb\u001b[0m:   1 of 1 files downloaded.  \n"
     ]
    },
    {
     "name": "stdout",
     "output_type": "stream",
     "text": [
      "2025-04-21 03:47:33,237 - INFO - Downloaded logs_nhq5nh4k:v0 to /scratch/downloaded_artifacts/logs_nhq5nh4k:v0\n"
     ]
    },
    {
     "name": "stderr",
     "output_type": "stream",
     "text": [
      "\u001b[34m\u001b[1mwandb\u001b[0m:   1 of 1 files downloaded.  \n"
     ]
    },
    {
     "name": "stdout",
     "output_type": "stream",
     "text": [
      "2025-04-21 03:47:33,369 - INFO - Downloaded logs_o3xotx2j:v0 to /scratch/downloaded_artifacts/logs_o3xotx2j:v0\n"
     ]
    },
    {
     "name": "stderr",
     "output_type": "stream",
     "text": [
      "\u001b[34m\u001b[1mwandb\u001b[0m:   1 of 1 files downloaded.  \n"
     ]
    },
    {
     "name": "stdout",
     "output_type": "stream",
     "text": [
      "2025-04-21 03:47:33,447 - INFO - Downloaded logs_oqswgwvj:v0 to /scratch/downloaded_artifacts/logs_oqswgwvj:v0\n"
     ]
    },
    {
     "name": "stderr",
     "output_type": "stream",
     "text": [
      "\u001b[34m\u001b[1mwandb\u001b[0m:   1 of 1 files downloaded.  \n"
     ]
    },
    {
     "name": "stdout",
     "output_type": "stream",
     "text": [
      "2025-04-21 03:47:33,641 - INFO - Downloaded logs_p0myywag:v0 to /scratch/downloaded_artifacts/logs_p0myywag:v0\n"
     ]
    },
    {
     "name": "stderr",
     "output_type": "stream",
     "text": [
      "\u001b[34m\u001b[1mwandb\u001b[0m:   1 of 1 files downloaded.  \n"
     ]
    },
    {
     "name": "stdout",
     "output_type": "stream",
     "text": [
      "2025-04-21 03:47:33,647 - INFO - Downloaded logs_ov84k1x1:v0 to /scratch/downloaded_artifacts/logs_ov84k1x1:v0\n"
     ]
    },
    {
     "name": "stderr",
     "output_type": "stream",
     "text": [
      "\u001b[34m\u001b[1mwandb\u001b[0m:   1 of 1 files downloaded.  \n"
     ]
    },
    {
     "name": "stdout",
     "output_type": "stream",
     "text": [
      "2025-04-21 03:47:33,743 - INFO - Downloaded logs_p2mh32nl:v0 to /scratch/downloaded_artifacts/logs_p2mh32nl:v0\n"
     ]
    },
    {
     "name": "stderr",
     "output_type": "stream",
     "text": [
      "\u001b[34m\u001b[1mwandb\u001b[0m:   1 of 1 files downloaded.  \n"
     ]
    },
    {
     "name": "stdout",
     "output_type": "stream",
     "text": [
      "2025-04-21 03:47:33,894 - INFO - Downloaded logs_u22wg12a:v0 to /scratch/downloaded_artifacts/logs_u22wg12a:v0\n"
     ]
    },
    {
     "name": "stderr",
     "output_type": "stream",
     "text": [
      "\u001b[34m\u001b[1mwandb\u001b[0m:   1 of 1 files downloaded.  \n"
     ]
    },
    {
     "name": "stdout",
     "output_type": "stream",
     "text": [
      "2025-04-21 03:47:34,139 - INFO - Downloaded logs_p5znwic0:v0 to /scratch/downloaded_artifacts/logs_p5znwic0:v0\n"
     ]
    },
    {
     "name": "stderr",
     "output_type": "stream",
     "text": [
      "\u001b[34m\u001b[1mwandb\u001b[0m:   1 of 1 files downloaded.  \n"
     ]
    },
    {
     "name": "stdout",
     "output_type": "stream",
     "text": [
      "2025-04-21 03:47:34,383 - INFO - Downloaded logs_0yg27sk2:v0 to /scratch/downloaded_artifacts/logs_0yg27sk2:v0\n"
     ]
    },
    {
     "name": "stderr",
     "output_type": "stream",
     "text": [
      "\u001b[34m\u001b[1mwandb\u001b[0m:   1 of 1 files downloaded.  \n"
     ]
    },
    {
     "name": "stdout",
     "output_type": "stream",
     "text": [
      "2025-04-21 03:47:34,389 - INFO - Downloaded logs_2034aw79:v0 to /scratch/downloaded_artifacts/logs_2034aw79:v0\n"
     ]
    },
    {
     "name": "stderr",
     "output_type": "stream",
     "text": [
      "\u001b[34m\u001b[1mwandb\u001b[0m:   1 of 1 files downloaded.  \n"
     ]
    },
    {
     "name": "stdout",
     "output_type": "stream",
     "text": [
      "2025-04-21 03:47:34,634 - INFO - Downloaded logs_34sldxgk:v0 to /scratch/downloaded_artifacts/logs_34sldxgk:v0\n"
     ]
    },
    {
     "name": "stderr",
     "output_type": "stream",
     "text": [
      "\u001b[34m\u001b[1mwandb\u001b[0m:   1 of 1 files downloaded.  \n"
     ]
    },
    {
     "name": "stdout",
     "output_type": "stream",
     "text": [
      "2025-04-21 03:47:35,086 - INFO - Downloaded logs_unnts9rz:v0 to /scratch/downloaded_artifacts/logs_unnts9rz:v0\n"
     ]
    },
    {
     "name": "stderr",
     "output_type": "stream",
     "text": [
      "\u001b[34m\u001b[1mwandb\u001b[0m:   1 of 1 files downloaded.  \n"
     ]
    },
    {
     "name": "stdout",
     "output_type": "stream",
     "text": [
      "2025-04-21 03:47:35,206 - INFO - Downloaded logs_ylt1c9xl:v0 to /scratch/downloaded_artifacts/logs_ylt1c9xl:v0\n"
     ]
    },
    {
     "name": "stderr",
     "output_type": "stream",
     "text": [
      "\u001b[34m\u001b[1mwandb\u001b[0m:   1 of 1 files downloaded.  \n"
     ]
    },
    {
     "name": "stdout",
     "output_type": "stream",
     "text": [
      "2025-04-21 03:47:35,263 - INFO - Downloaded logs_6dmoj6yf:v0 to /scratch/downloaded_artifacts/logs_6dmoj6yf:v0\n"
     ]
    },
    {
     "name": "stderr",
     "output_type": "stream",
     "text": [
      "\u001b[34m\u001b[1mwandb\u001b[0m:   1 of 1 files downloaded.  \n"
     ]
    },
    {
     "name": "stdout",
     "output_type": "stream",
     "text": [
      "2025-04-21 03:47:35,305 - INFO - Downloaded logs_zb97cwak:v0 to /scratch/downloaded_artifacts/logs_zb97cwak:v0\n"
     ]
    },
    {
     "name": "stderr",
     "output_type": "stream",
     "text": [
      "\u001b[34m\u001b[1mwandb\u001b[0m:   1 of 1 files downloaded.  \n"
     ]
    },
    {
     "name": "stdout",
     "output_type": "stream",
     "text": [
      "2025-04-21 03:47:35,441 - INFO - Downloaded logs_498hz576:v0 to /scratch/downloaded_artifacts/logs_498hz576:v0\n"
     ]
    },
    {
     "name": "stderr",
     "output_type": "stream",
     "text": [
      "\u001b[34m\u001b[1mwandb\u001b[0m:   1 of 1 files downloaded.  \n"
     ]
    },
    {
     "name": "stdout",
     "output_type": "stream",
     "text": [
      "2025-04-21 03:47:35,471 - INFO - Downloaded logs_69sfv8pu:v0 to /scratch/downloaded_artifacts/logs_69sfv8pu:v0\n"
     ]
    },
    {
     "name": "stderr",
     "output_type": "stream",
     "text": [
      "\u001b[34m\u001b[1mwandb\u001b[0m:   1 of 1 files downloaded.  \n"
     ]
    },
    {
     "name": "stdout",
     "output_type": "stream",
     "text": [
      "2025-04-21 03:47:35,678 - INFO - Downloaded logs_a8nhz1cd:v0 to /scratch/downloaded_artifacts/logs_a8nhz1cd:v0\n"
     ]
    },
    {
     "name": "stderr",
     "output_type": "stream",
     "text": [
      "\u001b[34m\u001b[1mwandb\u001b[0m:   1 of 1 files downloaded.  \n",
      "\u001b[34m\u001b[1mwandb\u001b[0m:   1 of 1 files downloaded.  \n"
     ]
    },
    {
     "name": "stdout",
     "output_type": "stream",
     "text": [
      "2025-04-21 03:47:35,722 - INFO - Downloaded logs_8vtsw66t:v0 to /scratch/downloaded_artifacts/logs_8vtsw66t:v0\n",
      "2025-04-21 03:47:35,722 - INFO - Downloaded logs_9dbrr9b3:v0 to /scratch/downloaded_artifacts/logs_9dbrr9b3:v0\n"
     ]
    },
    {
     "name": "stderr",
     "output_type": "stream",
     "text": [
      "\u001b[34m\u001b[1mwandb\u001b[0m:   1 of 1 files downloaded.  \n"
     ]
    },
    {
     "name": "stdout",
     "output_type": "stream",
     "text": [
      "2025-04-21 03:47:36,020 - INFO - Downloaded logs_d2e0o54x:v0 to /scratch/downloaded_artifacts/logs_d2e0o54x:v0\n"
     ]
    },
    {
     "name": "stderr",
     "output_type": "stream",
     "text": [
      "\u001b[34m\u001b[1mwandb\u001b[0m:   1 of 1 files downloaded.  \n"
     ]
    },
    {
     "name": "stdout",
     "output_type": "stream",
     "text": [
      "2025-04-21 03:47:36,034 - INFO - Downloaded logs_docb99im:v0 to /scratch/downloaded_artifacts/logs_docb99im:v0\n"
     ]
    },
    {
     "name": "stderr",
     "output_type": "stream",
     "text": [
      "\u001b[34m\u001b[1mwandb\u001b[0m:   1 of 1 files downloaded.  \n"
     ]
    },
    {
     "name": "stdout",
     "output_type": "stream",
     "text": [
      "2025-04-21 03:47:36,091 - INFO - Downloaded logs_dh58f5hw:v0 to /scratch/downloaded_artifacts/logs_dh58f5hw:v0\n"
     ]
    },
    {
     "name": "stderr",
     "output_type": "stream",
     "text": [
      "\u001b[34m\u001b[1mwandb\u001b[0m:   1 of 1 files downloaded.  \n"
     ]
    },
    {
     "name": "stdout",
     "output_type": "stream",
     "text": [
      "2025-04-21 03:47:36,234 - INFO - Downloaded logs_dtnyou4a:v0 to /scratch/downloaded_artifacts/logs_dtnyou4a:v0\n"
     ]
    },
    {
     "name": "stderr",
     "output_type": "stream",
     "text": [
      "\u001b[34m\u001b[1mwandb\u001b[0m:   1 of 1 files downloaded.  \n"
     ]
    },
    {
     "name": "stdout",
     "output_type": "stream",
     "text": [
      "2025-04-21 03:47:36,286 - INFO - Downloaded logs_e9oc1ump:v0 to /scratch/downloaded_artifacts/logs_e9oc1ump:v0\n"
     ]
    },
    {
     "name": "stderr",
     "output_type": "stream",
     "text": [
      "\u001b[34m\u001b[1mwandb\u001b[0m:   1 of 1 files downloaded.  \n"
     ]
    },
    {
     "name": "stdout",
     "output_type": "stream",
     "text": [
      "2025-04-21 03:47:36,347 - INFO - Downloaded logs_fucngj2s:v0 to /scratch/downloaded_artifacts/logs_fucngj2s:v0\n"
     ]
    },
    {
     "name": "stderr",
     "output_type": "stream",
     "text": [
      "\u001b[34m\u001b[1mwandb\u001b[0m:   1 of 1 files downloaded.  \n"
     ]
    },
    {
     "name": "stdout",
     "output_type": "stream",
     "text": [
      "2025-04-21 03:47:36,594 - INFO - Downloaded logs_gl03vpsw:v0 to /scratch/downloaded_artifacts/logs_gl03vpsw:v0\n"
     ]
    },
    {
     "name": "stderr",
     "output_type": "stream",
     "text": [
      "\u001b[34m\u001b[1mwandb\u001b[0m:   1 of 1 files downloaded.  \n"
     ]
    },
    {
     "name": "stdout",
     "output_type": "stream",
     "text": [
      "2025-04-21 03:47:36,713 - INFO - Downloaded logs_h6f6akdw:v0 to /scratch/downloaded_artifacts/logs_h6f6akdw:v0\n"
     ]
    },
    {
     "name": "stderr",
     "output_type": "stream",
     "text": [
      "\u001b[34m\u001b[1mwandb\u001b[0m:   1 of 1 files downloaded.  \n"
     ]
    },
    {
     "name": "stdout",
     "output_type": "stream",
     "text": [
      "2025-04-21 03:47:36,895 - INFO - Downloaded logs_jhtjy1mn:v0 to /scratch/downloaded_artifacts/logs_jhtjy1mn:v0\n"
     ]
    },
    {
     "name": "stderr",
     "output_type": "stream",
     "text": [
      "\u001b[34m\u001b[1mwandb\u001b[0m:   1 of 1 files downloaded.  \n",
      "\u001b[34m\u001b[1mwandb\u001b[0m:   1 of 1 files downloaded.  \n"
     ]
    },
    {
     "name": "stdout",
     "output_type": "stream",
     "text": [
      "2025-04-21 03:47:37,093 - INFO - Downloaded logs_kf6d8jmc:v0 to /scratch/downloaded_artifacts/logs_kf6d8jmc:v0\n",
      "2025-04-21 03:47:37,094 - INFO - Downloaded logs_hf37r8by:v0 to /scratch/downloaded_artifacts/logs_hf37r8by:v0\n"
     ]
    },
    {
     "name": "stderr",
     "output_type": "stream",
     "text": [
      "\u001b[34m\u001b[1mwandb\u001b[0m:   1 of 1 files downloaded.  \n"
     ]
    },
    {
     "name": "stdout",
     "output_type": "stream",
     "text": [
      "2025-04-21 03:47:37,649 - INFO - Downloaded logs_llx6ftnm:v0 to /scratch/downloaded_artifacts/logs_llx6ftnm:v0\n"
     ]
    },
    {
     "name": "stderr",
     "output_type": "stream",
     "text": [
      "\u001b[34m\u001b[1mwandb\u001b[0m:   1 of 1 files downloaded.  \n"
     ]
    },
    {
     "name": "stdout",
     "output_type": "stream",
     "text": [
      "2025-04-21 03:47:37,686 - INFO - Downloaded logs_m0228p26:v0 to /scratch/downloaded_artifacts/logs_m0228p26:v0\n"
     ]
    },
    {
     "name": "stderr",
     "output_type": "stream",
     "text": [
      "\u001b[34m\u001b[1mwandb\u001b[0m:   1 of 1 files downloaded.  \n"
     ]
    },
    {
     "name": "stdout",
     "output_type": "stream",
     "text": [
      "2025-04-21 03:47:37,851 - INFO - Downloaded logs_mg8g761g:v0 to /scratch/downloaded_artifacts/logs_mg8g761g:v0\n"
     ]
    },
    {
     "name": "stderr",
     "output_type": "stream",
     "text": [
      "\u001b[34m\u001b[1mwandb\u001b[0m:   1 of 1 files downloaded.  \n"
     ]
    },
    {
     "name": "stdout",
     "output_type": "stream",
     "text": [
      "2025-04-21 03:47:37,961 - INFO - Downloaded logs_mljczl9y:v0 to /scratch/downloaded_artifacts/logs_mljczl9y:v0\n"
     ]
    },
    {
     "name": "stderr",
     "output_type": "stream",
     "text": [
      "\u001b[34m\u001b[1mwandb\u001b[0m:   1 of 1 files downloaded.  \n"
     ]
    },
    {
     "name": "stdout",
     "output_type": "stream",
     "text": [
      "2025-04-21 03:47:38,027 - INFO - Downloaded logs_r2og860g:v0 to /scratch/downloaded_artifacts/logs_r2og860g:v0\n"
     ]
    },
    {
     "name": "stderr",
     "output_type": "stream",
     "text": [
      "\u001b[34m\u001b[1mwandb\u001b[0m:   1 of 1 files downloaded.  \n"
     ]
    },
    {
     "name": "stdout",
     "output_type": "stream",
     "text": [
      "2025-04-21 03:47:38,196 - INFO - Downloaded logs_pswseuhq:v0 to /scratch/downloaded_artifacts/logs_pswseuhq:v0\n"
     ]
    },
    {
     "name": "stderr",
     "output_type": "stream",
     "text": [
      "\u001b[34m\u001b[1mwandb\u001b[0m:   1 of 1 files downloaded.  \n"
     ]
    },
    {
     "name": "stdout",
     "output_type": "stream",
     "text": [
      "2025-04-21 03:47:38,318 - INFO - Downloaded logs_urzudnpv:v0 to /scratch/downloaded_artifacts/logs_urzudnpv:v0\n"
     ]
    },
    {
     "name": "stderr",
     "output_type": "stream",
     "text": [
      "\u001b[34m\u001b[1mwandb\u001b[0m:   1 of 1 files downloaded.  \n"
     ]
    },
    {
     "name": "stdout",
     "output_type": "stream",
     "text": [
      "2025-04-21 03:47:38,344 - INFO - Downloaded logs_vbw642ar:v0 to /scratch/downloaded_artifacts/logs_vbw642ar:v0\n"
     ]
    },
    {
     "name": "stderr",
     "output_type": "stream",
     "text": [
      "\u001b[34m\u001b[1mwandb\u001b[0m:   1 of 1 files downloaded.  \n"
     ]
    },
    {
     "name": "stdout",
     "output_type": "stream",
     "text": [
      "2025-04-21 03:47:38,761 - INFO - Downloaded logs_smegs39v:v0 to /scratch/downloaded_artifacts/logs_smegs39v:v0\n"
     ]
    },
    {
     "name": "stderr",
     "output_type": "stream",
     "text": [
      "\u001b[34m\u001b[1mwandb\u001b[0m:   1 of 1 files downloaded.  \n"
     ]
    },
    {
     "name": "stdout",
     "output_type": "stream",
     "text": [
      "2025-04-21 03:47:38,940 - INFO - Downloaded logs_weejcbqv:v0 to /scratch/downloaded_artifacts/logs_weejcbqv:v0\n"
     ]
    },
    {
     "name": "stderr",
     "output_type": "stream",
     "text": [
      "\u001b[34m\u001b[1mwandb\u001b[0m:   1 of 1 files downloaded.  \n"
     ]
    },
    {
     "name": "stdout",
     "output_type": "stream",
     "text": [
      "2025-04-21 03:47:39,092 - INFO - Downloaded logs_w2cozfxy:v0 to /scratch/downloaded_artifacts/logs_w2cozfxy:v0\n"
     ]
    },
    {
     "name": "stderr",
     "output_type": "stream",
     "text": [
      "\u001b[34m\u001b[1mwandb\u001b[0m:   1 of 1 files downloaded.  \n",
      "\u001b[34m\u001b[1mwandb\u001b[0m:   1 of 1 files downloaded.  \n"
     ]
    },
    {
     "name": "stdout",
     "output_type": "stream",
     "text": [
      "2025-04-21 03:47:39,125 - INFO - Downloaded logs_4ltr2y2f:v0 to /scratch/downloaded_artifacts/logs_4ltr2y2f:v0\n",
      "2025-04-21 03:47:39,128 - INFO - Downloaded logs_x34spmyu:v0 to /scratch/downloaded_artifacts/logs_x34spmyu:v0\n"
     ]
    },
    {
     "name": "stderr",
     "output_type": "stream",
     "text": [
      "\u001b[34m\u001b[1mwandb\u001b[0m:   1 of 1 files downloaded.  \n"
     ]
    },
    {
     "name": "stdout",
     "output_type": "stream",
     "text": [
      "2025-04-21 03:47:39,190 - INFO - Downloaded logs_8vjsdabl:v0 to /scratch/downloaded_artifacts/logs_8vjsdabl:v0\n"
     ]
    },
    {
     "name": "stderr",
     "output_type": "stream",
     "text": [
      "\u001b[34m\u001b[1mwandb\u001b[0m:   1 of 1 files downloaded.  \n"
     ]
    },
    {
     "name": "stdout",
     "output_type": "stream",
     "text": [
      "2025-04-21 03:47:39,269 - INFO - Downloaded logs_bzicfarl:v0 to /scratch/downloaded_artifacts/logs_bzicfarl:v0\n"
     ]
    },
    {
     "name": "stderr",
     "output_type": "stream",
     "text": [
      "\u001b[34m\u001b[1mwandb\u001b[0m:   1 of 1 files downloaded.  \n"
     ]
    },
    {
     "name": "stdout",
     "output_type": "stream",
     "text": [
      "2025-04-21 03:47:39,531 - INFO - Downloaded logs_i9izto1l:v0 to /scratch/downloaded_artifacts/logs_i9izto1l:v0\n"
     ]
    },
    {
     "name": "stderr",
     "output_type": "stream",
     "text": [
      "\u001b[34m\u001b[1mwandb\u001b[0m:   1 of 1 files downloaded.  \n"
     ]
    },
    {
     "name": "stdout",
     "output_type": "stream",
     "text": [
      "2025-04-21 03:47:39,560 - INFO - Downloaded logs_xo2t9hwp:v0 to /scratch/downloaded_artifacts/logs_xo2t9hwp:v0\n"
     ]
    },
    {
     "name": "stderr",
     "output_type": "stream",
     "text": [
      "\u001b[34m\u001b[1mwandb\u001b[0m:   1 of 1 files downloaded.  \n"
     ]
    },
    {
     "name": "stdout",
     "output_type": "stream",
     "text": [
      "2025-04-21 03:47:39,777 - INFO - Downloaded logs_k9hrgdsq:v0 to /scratch/downloaded_artifacts/logs_k9hrgdsq:v0\n"
     ]
    },
    {
     "name": "stderr",
     "output_type": "stream",
     "text": [
      "\u001b[34m\u001b[1mwandb\u001b[0m:   1 of 1 files downloaded.  \n"
     ]
    },
    {
     "name": "stdout",
     "output_type": "stream",
     "text": [
      "2025-04-21 03:47:39,851 - INFO - Downloaded logs_08aj45lw:v0 to /scratch/downloaded_artifacts/logs_08aj45lw:v0\n"
     ]
    },
    {
     "name": "stderr",
     "output_type": "stream",
     "text": [
      "\u001b[34m\u001b[1mwandb\u001b[0m:   1 of 1 files downloaded.  \n"
     ]
    },
    {
     "name": "stdout",
     "output_type": "stream",
     "text": [
      "2025-04-21 03:47:39,876 - INFO - Downloaded logs_0x0f0jvq:v0 to /scratch/downloaded_artifacts/logs_0x0f0jvq:v0\n"
     ]
    },
    {
     "name": "stderr",
     "output_type": "stream",
     "text": [
      "\u001b[34m\u001b[1mwandb\u001b[0m:   1 of 1 files downloaded.  \n"
     ]
    },
    {
     "name": "stdout",
     "output_type": "stream",
     "text": [
      "2025-04-21 03:47:40,497 - INFO - Downloaded logs_2i68r2z2:v0 to /scratch/downloaded_artifacts/logs_2i68r2z2:v0\n"
     ]
    },
    {
     "name": "stderr",
     "output_type": "stream",
     "text": [
      "\u001b[34m\u001b[1mwandb\u001b[0m:   1 of 1 files downloaded.  \n",
      "\u001b[34m\u001b[1mwandb\u001b[0m:   1 of 1 files downloaded.  \n"
     ]
    },
    {
     "name": "stdout",
     "output_type": "stream",
     "text": [
      "2025-04-21 03:47:40,508 - INFO - Downloaded logs_7be86ts2:v0 to /scratch/downloaded_artifacts/logs_7be86ts2:v0\n",
      "2025-04-21 03:47:40,510 - INFO - Downloaded logs_csal656a:v0 to /scratch/downloaded_artifacts/logs_csal656a:v0\n"
     ]
    },
    {
     "name": "stderr",
     "output_type": "stream",
     "text": [
      "\u001b[34m\u001b[1mwandb\u001b[0m:   1 of 1 files downloaded.  \n"
     ]
    },
    {
     "name": "stdout",
     "output_type": "stream",
     "text": [
      "2025-04-21 03:47:40,735 - INFO - Downloaded logs_b93yxpdn:v0 to /scratch/downloaded_artifacts/logs_b93yxpdn:v0\n"
     ]
    },
    {
     "name": "stderr",
     "output_type": "stream",
     "text": [
      "\u001b[34m\u001b[1mwandb\u001b[0m:   1 of 1 files downloaded.  \n"
     ]
    },
    {
     "name": "stdout",
     "output_type": "stream",
     "text": [
      "2025-04-21 03:47:40,975 - INFO - Downloaded logs_kdd29v7c:v0 to /scratch/downloaded_artifacts/logs_kdd29v7c:v0\n"
     ]
    },
    {
     "name": "stderr",
     "output_type": "stream",
     "text": [
      "\u001b[34m\u001b[1mwandb\u001b[0m:   1 of 1 files downloaded.  \n"
     ]
    },
    {
     "name": "stdout",
     "output_type": "stream",
     "text": [
      "2025-04-21 03:47:40,996 - INFO - Downloaded logs_kc0y021r:v0 to /scratch/downloaded_artifacts/logs_kc0y021r:v0\n"
     ]
    },
    {
     "name": "stderr",
     "output_type": "stream",
     "text": [
      "\u001b[34m\u001b[1mwandb\u001b[0m:   1 of 1 files downloaded.  \n"
     ]
    },
    {
     "name": "stdout",
     "output_type": "stream",
     "text": [
      "2025-04-21 03:47:41,005 - INFO - Downloaded logs_ddka26na:v0 to /scratch/downloaded_artifacts/logs_ddka26na:v0\n"
     ]
    },
    {
     "name": "stderr",
     "output_type": "stream",
     "text": [
      "\u001b[34m\u001b[1mwandb\u001b[0m:   1 of 1 files downloaded.  \n"
     ]
    },
    {
     "name": "stdout",
     "output_type": "stream",
     "text": [
      "2025-04-21 03:47:41,036 - INFO - Downloaded logs_kdpzf29u:v0 to /scratch/downloaded_artifacts/logs_kdpzf29u:v0\n"
     ]
    },
    {
     "name": "stderr",
     "output_type": "stream",
     "text": [
      "\u001b[34m\u001b[1mwandb\u001b[0m:   1 of 1 files downloaded.  \n"
     ]
    },
    {
     "name": "stdout",
     "output_type": "stream",
     "text": [
      "2025-04-21 03:47:41,179 - INFO - Downloaded logs_o2pryu95:v0 to /scratch/downloaded_artifacts/logs_o2pryu95:v0\n"
     ]
    },
    {
     "name": "stderr",
     "output_type": "stream",
     "text": [
      "\u001b[34m\u001b[1mwandb\u001b[0m:   1 of 1 files downloaded.  \n"
     ]
    },
    {
     "name": "stdout",
     "output_type": "stream",
     "text": [
      "2025-04-21 03:47:41,544 - INFO - Downloaded logs_pidf3css:v0 to /scratch/downloaded_artifacts/logs_pidf3css:v0\n"
     ]
    },
    {
     "name": "stderr",
     "output_type": "stream",
     "text": [
      "\u001b[34m\u001b[1mwandb\u001b[0m:   1 of 1 files downloaded.  \n"
     ]
    },
    {
     "name": "stdout",
     "output_type": "stream",
     "text": [
      "2025-04-21 03:47:41,596 - INFO - Downloaded logs_qybuv9m0:v0 to /scratch/downloaded_artifacts/logs_qybuv9m0:v0\n"
     ]
    },
    {
     "name": "stderr",
     "output_type": "stream",
     "text": [
      "\u001b[34m\u001b[1mwandb\u001b[0m:   1 of 1 files downloaded.  \n"
     ]
    },
    {
     "name": "stdout",
     "output_type": "stream",
     "text": [
      "2025-04-21 03:47:41,611 - INFO - Downloaded logs_qz6vwgi4:v0 to /scratch/downloaded_artifacts/logs_qz6vwgi4:v0\n"
     ]
    },
    {
     "name": "stderr",
     "output_type": "stream",
     "text": [
      "\u001b[34m\u001b[1mwandb\u001b[0m:   1 of 1 files downloaded.  \n"
     ]
    },
    {
     "name": "stdout",
     "output_type": "stream",
     "text": [
      "2025-04-21 03:47:41,766 - INFO - Downloaded logs_2q2g6m4w:v0 to /scratch/downloaded_artifacts/logs_2q2g6m4w:v0\n"
     ]
    },
    {
     "name": "stderr",
     "output_type": "stream",
     "text": [
      "\u001b[34m\u001b[1mwandb\u001b[0m:   1 of 1 files downloaded.  \n"
     ]
    },
    {
     "name": "stdout",
     "output_type": "stream",
     "text": [
      "2025-04-21 03:47:41,791 - INFO - Downloaded logs_1bykwkei:v0 to /scratch/downloaded_artifacts/logs_1bykwkei:v0\n"
     ]
    },
    {
     "name": "stderr",
     "output_type": "stream",
     "text": [
      "\u001b[34m\u001b[1mwandb\u001b[0m:   1 of 1 files downloaded.  \n"
     ]
    },
    {
     "name": "stdout",
     "output_type": "stream",
     "text": [
      "2025-04-21 03:47:41,804 - INFO - Downloaded logs_vp7ayhc2:v0 to /scratch/downloaded_artifacts/logs_vp7ayhc2:v0\n"
     ]
    },
    {
     "name": "stderr",
     "output_type": "stream",
     "text": [
      "\u001b[34m\u001b[1mwandb\u001b[0m:   1 of 1 files downloaded.  \n"
     ]
    },
    {
     "name": "stdout",
     "output_type": "stream",
     "text": [
      "2025-04-21 03:47:41,935 - INFO - Downloaded logs_xq5w89hr:v0 to /scratch/downloaded_artifacts/logs_xq5w89hr:v0\n"
     ]
    },
    {
     "name": "stderr",
     "output_type": "stream",
     "text": [
      "\u001b[34m\u001b[1mwandb\u001b[0m:   1 of 1 files downloaded.  \n"
     ]
    },
    {
     "name": "stdout",
     "output_type": "stream",
     "text": [
      "2025-04-21 03:47:42,037 - INFO - Downloaded logs_4ia09egt:v0 to /scratch/downloaded_artifacts/logs_4ia09egt:v0\n"
     ]
    },
    {
     "name": "stderr",
     "output_type": "stream",
     "text": [
      "\u001b[34m\u001b[1mwandb\u001b[0m:   1 of 1 files downloaded.  \n"
     ]
    },
    {
     "name": "stdout",
     "output_type": "stream",
     "text": [
      "2025-04-21 03:47:42,210 - INFO - Downloaded logs_6tg5lwhm:v0 to /scratch/downloaded_artifacts/logs_6tg5lwhm:v0\n"
     ]
    },
    {
     "name": "stderr",
     "output_type": "stream",
     "text": [
      "\u001b[34m\u001b[1mwandb\u001b[0m:   1 of 1 files downloaded.  \n"
     ]
    },
    {
     "name": "stdout",
     "output_type": "stream",
     "text": [
      "2025-04-21 03:47:42,375 - INFO - Downloaded logs_4l4i9chh:v0 to /scratch/downloaded_artifacts/logs_4l4i9chh:v0\n"
     ]
    },
    {
     "name": "stderr",
     "output_type": "stream",
     "text": [
      "\u001b[34m\u001b[1mwandb\u001b[0m:   1 of 1 files downloaded.  \n"
     ]
    },
    {
     "name": "stdout",
     "output_type": "stream",
     "text": [
      "2025-04-21 03:47:42,395 - INFO - Downloaded logs_98uifx8p:v0 to /scratch/downloaded_artifacts/logs_98uifx8p:v0\n"
     ]
    },
    {
     "name": "stderr",
     "output_type": "stream",
     "text": [
      "\u001b[34m\u001b[1mwandb\u001b[0m:   1 of 1 files downloaded.  \n"
     ]
    },
    {
     "name": "stdout",
     "output_type": "stream",
     "text": [
      "2025-04-21 03:47:42,912 - INFO - Downloaded logs_cxqtltku:v0 to /scratch/downloaded_artifacts/logs_cxqtltku:v0\n"
     ]
    },
    {
     "name": "stderr",
     "output_type": "stream",
     "text": [
      "\u001b[34m\u001b[1mwandb\u001b[0m:   1 of 1 files downloaded.  \n"
     ]
    },
    {
     "name": "stdout",
     "output_type": "stream",
     "text": [
      "2025-04-21 03:47:42,951 - INFO - Downloaded logs_cmayq5vy:v0 to /scratch/downloaded_artifacts/logs_cmayq5vy:v0\n"
     ]
    },
    {
     "name": "stderr",
     "output_type": "stream",
     "text": [
      "\u001b[34m\u001b[1mwandb\u001b[0m:   1 of 1 files downloaded.  \n"
     ]
    },
    {
     "name": "stdout",
     "output_type": "stream",
     "text": [
      "2025-04-21 03:47:42,962 - INFO - Downloaded logs_cwcqswm7:v0 to /scratch/downloaded_artifacts/logs_cwcqswm7:v0\n"
     ]
    },
    {
     "name": "stderr",
     "output_type": "stream",
     "text": [
      "\u001b[34m\u001b[1mwandb\u001b[0m:   1 of 1 files downloaded.  \n"
     ]
    },
    {
     "name": "stdout",
     "output_type": "stream",
     "text": [
      "2025-04-21 03:47:43,229 - INFO - Downloaded logs_d10lhp8u:v0 to /scratch/downloaded_artifacts/logs_d10lhp8u:v0\n"
     ]
    },
    {
     "name": "stderr",
     "output_type": "stream",
     "text": [
      "\u001b[34m\u001b[1mwandb\u001b[0m:   1 of 1 files downloaded.  \n"
     ]
    },
    {
     "name": "stdout",
     "output_type": "stream",
     "text": [
      "2025-04-21 03:47:43,395 - INFO - Downloaded logs_dar9qkxn:v0 to /scratch/downloaded_artifacts/logs_dar9qkxn:v0\n"
     ]
    },
    {
     "name": "stderr",
     "output_type": "stream",
     "text": [
      "\u001b[34m\u001b[1mwandb\u001b[0m:   1 of 1 files downloaded.  \n"
     ]
    },
    {
     "name": "stdout",
     "output_type": "stream",
     "text": [
      "2025-04-21 03:47:43,432 - INFO - Downloaded logs_hlsdrho5:v0 to /scratch/downloaded_artifacts/logs_hlsdrho5:v0\n"
     ]
    },
    {
     "name": "stderr",
     "output_type": "stream",
     "text": [
      "\u001b[34m\u001b[1mwandb\u001b[0m:   1 of 1 files downloaded.  \n"
     ]
    },
    {
     "name": "stdout",
     "output_type": "stream",
     "text": [
      "2025-04-21 03:47:43,455 - INFO - Downloaded logs_hlo0a121:v0 to /scratch/downloaded_artifacts/logs_hlo0a121:v0\n"
     ]
    },
    {
     "name": "stderr",
     "output_type": "stream",
     "text": [
      "\u001b[34m\u001b[1mwandb\u001b[0m:   1 of 1 files downloaded.  \n"
     ]
    },
    {
     "name": "stdout",
     "output_type": "stream",
     "text": [
      "2025-04-21 03:47:43,504 - INFO - Downloaded logs_h0z8xz5l:v0 to /scratch/downloaded_artifacts/logs_h0z8xz5l:v0\n"
     ]
    },
    {
     "name": "stderr",
     "output_type": "stream",
     "text": [
      "\u001b[34m\u001b[1mwandb\u001b[0m:   1 of 1 files downloaded.  \n"
     ]
    },
    {
     "name": "stdout",
     "output_type": "stream",
     "text": [
      "2025-04-21 03:47:43,600 - INFO - Downloaded logs_hyespn4d:v0 to /scratch/downloaded_artifacts/logs_hyespn4d:v0\n"
     ]
    },
    {
     "name": "stderr",
     "output_type": "stream",
     "text": [
      "\u001b[34m\u001b[1mwandb\u001b[0m:   1 of 1 files downloaded.  \n"
     ]
    },
    {
     "name": "stdout",
     "output_type": "stream",
     "text": [
      "2025-04-21 03:47:43,917 - INFO - Downloaded logs_j3c0nbr8:v0 to /scratch/downloaded_artifacts/logs_j3c0nbr8:v0\n"
     ]
    },
    {
     "name": "stderr",
     "output_type": "stream",
     "text": [
      "\u001b[34m\u001b[1mwandb\u001b[0m:   1 of 1 files downloaded.  \n"
     ]
    },
    {
     "name": "stdout",
     "output_type": "stream",
     "text": [
      "2025-04-21 03:47:44,101 - INFO - Downloaded logs_i4v600bs:v0 to /scratch/downloaded_artifacts/logs_i4v600bs:v0\n"
     ]
    },
    {
     "name": "stderr",
     "output_type": "stream",
     "text": [
      "\u001b[34m\u001b[1mwandb\u001b[0m:   1 of 1 files downloaded.  \n"
     ]
    },
    {
     "name": "stdout",
     "output_type": "stream",
     "text": [
      "2025-04-21 03:47:44,237 - INFO - Downloaded logs_jeu65fu2:v0 to /scratch/downloaded_artifacts/logs_jeu65fu2:v0\n"
     ]
    },
    {
     "name": "stderr",
     "output_type": "stream",
     "text": [
      "\u001b[34m\u001b[1mwandb\u001b[0m:   1 of 1 files downloaded.  \n"
     ]
    },
    {
     "name": "stdout",
     "output_type": "stream",
     "text": [
      "2025-04-21 03:47:44,246 - INFO - Downloaded logs_l5870d0o:v0 to /scratch/downloaded_artifacts/logs_l5870d0o:v0\n"
     ]
    },
    {
     "name": "stderr",
     "output_type": "stream",
     "text": [
      "\u001b[34m\u001b[1mwandb\u001b[0m:   1 of 1 files downloaded.  \n"
     ]
    },
    {
     "name": "stdout",
     "output_type": "stream",
     "text": [
      "2025-04-21 03:47:44,281 - INFO - Downloaded logs_jxfo9lef:v0 to /scratch/downloaded_artifacts/logs_jxfo9lef:v0\n"
     ]
    },
    {
     "name": "stderr",
     "output_type": "stream",
     "text": [
      "\u001b[34m\u001b[1mwandb\u001b[0m:   1 of 1 files downloaded.  \n"
     ]
    },
    {
     "name": "stdout",
     "output_type": "stream",
     "text": [
      "2025-04-21 03:47:44,357 - INFO - Downloaded logs_msa6hczb:v0 to /scratch/downloaded_artifacts/logs_msa6hczb:v0\n"
     ]
    },
    {
     "name": "stderr",
     "output_type": "stream",
     "text": [
      "\u001b[34m\u001b[1mwandb\u001b[0m:   1 of 1 files downloaded.  \n"
     ]
    },
    {
     "name": "stdout",
     "output_type": "stream",
     "text": [
      "2025-04-21 03:47:44,394 - INFO - Downloaded logs_n9b8rs66:v0 to /scratch/downloaded_artifacts/logs_n9b8rs66:v0\n"
     ]
    },
    {
     "name": "stderr",
     "output_type": "stream",
     "text": [
      "\u001b[34m\u001b[1mwandb\u001b[0m:   1 of 1 files downloaded.  \n"
     ]
    },
    {
     "name": "stdout",
     "output_type": "stream",
     "text": [
      "2025-04-21 03:47:44,532 - INFO - Downloaded logs_o4epalni:v0 to /scratch/downloaded_artifacts/logs_o4epalni:v0\n"
     ]
    },
    {
     "name": "stderr",
     "output_type": "stream",
     "text": [
      "\u001b[34m\u001b[1mwandb\u001b[0m:   1 of 1 files downloaded.  \n"
     ]
    },
    {
     "name": "stdout",
     "output_type": "stream",
     "text": [
      "2025-04-21 03:47:44,595 - INFO - Downloaded logs_obgxj4cp:v0 to /scratch/downloaded_artifacts/logs_obgxj4cp:v0\n"
     ]
    },
    {
     "name": "stderr",
     "output_type": "stream",
     "text": [
      "\u001b[34m\u001b[1mwandb\u001b[0m:   1 of 1 files downloaded.  \n"
     ]
    },
    {
     "name": "stdout",
     "output_type": "stream",
     "text": [
      "2025-04-21 03:47:44,826 - INFO - Downloaded logs_oov2681s:v0 to /scratch/downloaded_artifacts/logs_oov2681s:v0\n"
     ]
    },
    {
     "name": "stderr",
     "output_type": "stream",
     "text": [
      "\u001b[34m\u001b[1mwandb\u001b[0m:   1 of 1 files downloaded.  \n"
     ]
    },
    {
     "name": "stdout",
     "output_type": "stream",
     "text": [
      "2025-04-21 03:47:44,889 - INFO - Downloaded logs_oj679uuz:v0 to /scratch/downloaded_artifacts/logs_oj679uuz:v0\n"
     ]
    },
    {
     "name": "stderr",
     "output_type": "stream",
     "text": [
      "\u001b[34m\u001b[1mwandb\u001b[0m:   1 of 1 files downloaded.  \n"
     ]
    },
    {
     "name": "stdout",
     "output_type": "stream",
     "text": [
      "2025-04-21 03:47:45,288 - INFO - Downloaded logs_p5ghh66e:v0 to /scratch/downloaded_artifacts/logs_p5ghh66e:v0\n"
     ]
    },
    {
     "name": "stderr",
     "output_type": "stream",
     "text": [
      "\u001b[34m\u001b[1mwandb\u001b[0m:   1 of 1 files downloaded.  \n"
     ]
    },
    {
     "name": "stdout",
     "output_type": "stream",
     "text": [
      "2025-04-21 03:47:45,309 - INFO - Downloaded logs_rnzungp5:v0 to /scratch/downloaded_artifacts/logs_rnzungp5:v0\n"
     ]
    },
    {
     "name": "stderr",
     "output_type": "stream",
     "text": [
      "\u001b[34m\u001b[1mwandb\u001b[0m:   1 of 1 files downloaded.  \n"
     ]
    },
    {
     "name": "stdout",
     "output_type": "stream",
     "text": [
      "2025-04-21 03:47:45,313 - INFO - Downloaded logs_qklepqu5:v0 to /scratch/downloaded_artifacts/logs_qklepqu5:v0\n"
     ]
    },
    {
     "name": "stderr",
     "output_type": "stream",
     "text": [
      "\u001b[34m\u001b[1mwandb\u001b[0m:   1 of 1 files downloaded.  \n"
     ]
    },
    {
     "name": "stdout",
     "output_type": "stream",
     "text": [
      "2025-04-21 03:47:45,554 - INFO - Downloaded logs_s4ole5gm:v0 to /scratch/downloaded_artifacts/logs_s4ole5gm:v0\n"
     ]
    },
    {
     "name": "stderr",
     "output_type": "stream",
     "text": [
      "\u001b[34m\u001b[1mwandb\u001b[0m:   1 of 1 files downloaded.  \n"
     ]
    },
    {
     "name": "stdout",
     "output_type": "stream",
     "text": [
      "2025-04-21 03:47:45,772 - INFO - Downloaded logs_v7sex03g:v0 to /scratch/downloaded_artifacts/logs_v7sex03g:v0\n"
     ]
    },
    {
     "name": "stderr",
     "output_type": "stream",
     "text": [
      "\u001b[34m\u001b[1mwandb\u001b[0m:   1 of 1 files downloaded.  \n"
     ]
    },
    {
     "name": "stdout",
     "output_type": "stream",
     "text": [
      "2025-04-21 03:47:45,849 - INFO - Downloaded logs_dreqzl2g:v0 to /scratch/downloaded_artifacts/logs_dreqzl2g:v0\n"
     ]
    },
    {
     "name": "stderr",
     "output_type": "stream",
     "text": [
      "\u001b[34m\u001b[1mwandb\u001b[0m:   1 of 1 files downloaded.  \n"
     ]
    },
    {
     "name": "stdout",
     "output_type": "stream",
     "text": [
      "2025-04-21 03:47:45,885 - INFO - Downloaded logs_w47hyk09:v0 to /scratch/downloaded_artifacts/logs_w47hyk09:v0\n"
     ]
    },
    {
     "name": "stderr",
     "output_type": "stream",
     "text": [
      "\u001b[34m\u001b[1mwandb\u001b[0m:   1 of 1 files downloaded.  \n"
     ]
    },
    {
     "name": "stdout",
     "output_type": "stream",
     "text": [
      "2025-04-21 03:47:46,044 - INFO - Downloaded logs_ypt8p602:v0 to /scratch/downloaded_artifacts/logs_ypt8p602:v0\n"
     ]
    },
    {
     "name": "stderr",
     "output_type": "stream",
     "text": [
      "\u001b[34m\u001b[1mwandb\u001b[0m:   1 of 1 files downloaded.  \n"
     ]
    },
    {
     "name": "stdout",
     "output_type": "stream",
     "text": [
      "2025-04-21 03:47:46,300 - INFO - Downloaded logs_xfboo4pt:v0 to /scratch/downloaded_artifacts/logs_xfboo4pt:v0\n"
     ]
    },
    {
     "name": "stderr",
     "output_type": "stream",
     "text": [
      "\u001b[34m\u001b[1mwandb\u001b[0m:   1 of 1 files downloaded.  \n"
     ]
    },
    {
     "name": "stdout",
     "output_type": "stream",
     "text": [
      "2025-04-21 03:47:46,491 - INFO - Downloaded logs_z8zc5p7l:v0 to /scratch/downloaded_artifacts/logs_z8zc5p7l:v0\n"
     ]
    },
    {
     "name": "stderr",
     "output_type": "stream",
     "text": [
      "\u001b[34m\u001b[1mwandb\u001b[0m:   1 of 1 files downloaded.  \n"
     ]
    },
    {
     "name": "stdout",
     "output_type": "stream",
     "text": [
      "2025-04-21 03:47:46,537 - INFO - Downloaded logs_ytr5tvim:v0 to /scratch/downloaded_artifacts/logs_ytr5tvim:v0\n"
     ]
    },
    {
     "name": "stderr",
     "output_type": "stream",
     "text": [
      "\u001b[34m\u001b[1mwandb\u001b[0m:   1 of 1 files downloaded.  \n"
     ]
    },
    {
     "name": "stdout",
     "output_type": "stream",
     "text": [
      "2025-04-21 03:47:46,803 - INFO - Downloaded logs_mdhdsn22:v0 to /scratch/downloaded_artifacts/logs_mdhdsn22:v0\n"
     ]
    },
    {
     "name": "stderr",
     "output_type": "stream",
     "text": [
      "\u001b[34m\u001b[1mwandb\u001b[0m:   1 of 1 files downloaded.  \n"
     ]
    },
    {
     "name": "stdout",
     "output_type": "stream",
     "text": [
      "2025-04-21 03:47:46,840 - INFO - Downloaded logs_onel1zvx:v0 to /scratch/downloaded_artifacts/logs_onel1zvx:v0\n"
     ]
    },
    {
     "name": "stderr",
     "output_type": "stream",
     "text": [
      "\u001b[34m\u001b[1mwandb\u001b[0m:   1 of 1 files downloaded.  \n"
     ]
    },
    {
     "name": "stdout",
     "output_type": "stream",
     "text": [
      "2025-04-21 03:47:46,846 - INFO - Downloaded logs_gsia29uz:v0 to /scratch/downloaded_artifacts/logs_gsia29uz:v0\n"
     ]
    },
    {
     "name": "stderr",
     "output_type": "stream",
     "text": [
      "\u001b[34m\u001b[1mwandb\u001b[0m:   1 of 1 files downloaded.  \n"
     ]
    },
    {
     "name": "stdout",
     "output_type": "stream",
     "text": [
      "2025-04-21 03:47:46,876 - INFO - Downloaded logs_fmgit1ge:v0 to /scratch/downloaded_artifacts/logs_fmgit1ge:v0\n"
     ]
    },
    {
     "name": "stderr",
     "output_type": "stream",
     "text": [
      "\u001b[34m\u001b[1mwandb\u001b[0m:   1 of 1 files downloaded.  \n"
     ]
    },
    {
     "name": "stdout",
     "output_type": "stream",
     "text": [
      "2025-04-21 03:47:46,930 - INFO - Downloaded logs_428y9of7:v0 to /scratch/downloaded_artifacts/logs_428y9of7:v0\n"
     ]
    },
    {
     "name": "stderr",
     "output_type": "stream",
     "text": [
      "\u001b[34m\u001b[1mwandb\u001b[0m:   1 of 1 files downloaded.  \n"
     ]
    },
    {
     "name": "stdout",
     "output_type": "stream",
     "text": [
      "2025-04-21 03:47:47,071 - INFO - Downloaded logs_599w5wvl:v0 to /scratch/downloaded_artifacts/logs_599w5wvl:v0\n"
     ]
    },
    {
     "name": "stderr",
     "output_type": "stream",
     "text": [
      "\u001b[34m\u001b[1mwandb\u001b[0m:   1 of 1 files downloaded.  \n"
     ]
    },
    {
     "name": "stdout",
     "output_type": "stream",
     "text": [
      "2025-04-21 03:47:47,185 - INFO - Downloaded logs_44ggjofx:v0 to /scratch/downloaded_artifacts/logs_44ggjofx:v0\n"
     ]
    },
    {
     "name": "stderr",
     "output_type": "stream",
     "text": [
      "\u001b[34m\u001b[1mwandb\u001b[0m:   1 of 1 files downloaded.  \n"
     ]
    },
    {
     "name": "stdout",
     "output_type": "stream",
     "text": [
      "2025-04-21 03:47:47,361 - INFO - Downloaded logs_5lxlvyy6:v0 to /scratch/downloaded_artifacts/logs_5lxlvyy6:v0\n"
     ]
    },
    {
     "name": "stderr",
     "output_type": "stream",
     "text": [
      "\u001b[34m\u001b[1mwandb\u001b[0m:   1 of 1 files downloaded.  \n"
     ]
    },
    {
     "name": "stdout",
     "output_type": "stream",
     "text": [
      "2025-04-21 03:47:47,370 - INFO - Downloaded logs_6gwbofvi:v0 to /scratch/downloaded_artifacts/logs_6gwbofvi:v0\n"
     ]
    },
    {
     "name": "stderr",
     "output_type": "stream",
     "text": [
      "\u001b[34m\u001b[1mwandb\u001b[0m:   1 of 1 files downloaded.  \n"
     ]
    },
    {
     "name": "stdout",
     "output_type": "stream",
     "text": [
      "2025-04-21 03:47:47,746 - INFO - Downloaded logs_6kpafs2k:v0 to /scratch/downloaded_artifacts/logs_6kpafs2k:v0\n"
     ]
    },
    {
     "name": "stderr",
     "output_type": "stream",
     "text": [
      "\u001b[34m\u001b[1mwandb\u001b[0m:   1 of 1 files downloaded.  \n"
     ]
    },
    {
     "name": "stdout",
     "output_type": "stream",
     "text": [
      "2025-04-21 03:47:47,757 - INFO - Downloaded logs_8rpbol39:v0 to /scratch/downloaded_artifacts/logs_8rpbol39:v0\n"
     ]
    },
    {
     "name": "stderr",
     "output_type": "stream",
     "text": [
      "\u001b[34m\u001b[1mwandb\u001b[0m:   1 of 1 files downloaded.  \n"
     ]
    },
    {
     "name": "stdout",
     "output_type": "stream",
     "text": [
      "2025-04-21 03:47:47,931 - INFO - Downloaded logs_6occekwm:v0 to /scratch/downloaded_artifacts/logs_6occekwm:v0\n"
     ]
    },
    {
     "name": "stderr",
     "output_type": "stream",
     "text": [
      "\u001b[34m\u001b[1mwandb\u001b[0m:   1 of 1 files downloaded.  \n"
     ]
    },
    {
     "name": "stdout",
     "output_type": "stream",
     "text": [
      "2025-04-21 03:47:48,037 - INFO - Downloaded logs_9akt1p6h:v0 to /scratch/downloaded_artifacts/logs_9akt1p6h:v0\n"
     ]
    },
    {
     "name": "stderr",
     "output_type": "stream",
     "text": [
      "\u001b[34m\u001b[1mwandb\u001b[0m:   1 of 1 files downloaded.  \n"
     ]
    },
    {
     "name": "stdout",
     "output_type": "stream",
     "text": [
      "2025-04-21 03:47:48,070 - INFO - Downloaded logs_9f7xz961:v0 to /scratch/downloaded_artifacts/logs_9f7xz961:v0\n"
     ]
    },
    {
     "name": "stderr",
     "output_type": "stream",
     "text": [
      "\u001b[34m\u001b[1mwandb\u001b[0m:   1 of 1 files downloaded.  \n"
     ]
    },
    {
     "name": "stdout",
     "output_type": "stream",
     "text": [
      "2025-04-21 03:47:48,292 - INFO - Downloaded logs_abn8rl8n:v0 to /scratch/downloaded_artifacts/logs_abn8rl8n:v0\n"
     ]
    },
    {
     "name": "stderr",
     "output_type": "stream",
     "text": [
      "\u001b[34m\u001b[1mwandb\u001b[0m:   1 of 1 files downloaded.  \n"
     ]
    },
    {
     "name": "stdout",
     "output_type": "stream",
     "text": [
      "2025-04-21 03:47:48,441 - INFO - Downloaded logs_c1vvda5p:v0 to /scratch/downloaded_artifacts/logs_c1vvda5p:v0\n"
     ]
    },
    {
     "name": "stderr",
     "output_type": "stream",
     "text": [
      "\u001b[34m\u001b[1mwandb\u001b[0m:   1 of 1 files downloaded.  \n"
     ]
    },
    {
     "name": "stdout",
     "output_type": "stream",
     "text": [
      "2025-04-21 03:47:48,523 - INFO - Downloaded logs_c5dvk7ey:v0 to /scratch/downloaded_artifacts/logs_c5dvk7ey:v0\n"
     ]
    },
    {
     "name": "stderr",
     "output_type": "stream",
     "text": [
      "\u001b[34m\u001b[1mwandb\u001b[0m:   1 of 1 files downloaded.  \n"
     ]
    },
    {
     "name": "stdout",
     "output_type": "stream",
     "text": [
      "2025-04-21 03:47:48,810 - INFO - Downloaded logs_ewx7hiij:v0 to /scratch/downloaded_artifacts/logs_ewx7hiij:v0\n"
     ]
    },
    {
     "name": "stderr",
     "output_type": "stream",
     "text": [
      "\u001b[34m\u001b[1mwandb\u001b[0m:   1 of 1 files downloaded.  \n"
     ]
    },
    {
     "name": "stdout",
     "output_type": "stream",
     "text": [
      "2025-04-21 03:47:48,950 - INFO - Downloaded logs_fcvn0mmn:v0 to /scratch/downloaded_artifacts/logs_fcvn0mmn:v0\n"
     ]
    },
    {
     "name": "stderr",
     "output_type": "stream",
     "text": [
      "\u001b[34m\u001b[1mwandb\u001b[0m:   1 of 1 files downloaded.  \n"
     ]
    },
    {
     "name": "stdout",
     "output_type": "stream",
     "text": [
      "2025-04-21 03:47:49,082 - INFO - Downloaded logs_hep2o6ef:v0 to /scratch/downloaded_artifacts/logs_hep2o6ef:v0\n"
     ]
    },
    {
     "name": "stderr",
     "output_type": "stream",
     "text": [
      "\u001b[34m\u001b[1mwandb\u001b[0m:   1 of 1 files downloaded.  \n"
     ]
    },
    {
     "name": "stdout",
     "output_type": "stream",
     "text": [
      "2025-04-21 03:47:49,312 - INFO - Downloaded logs_hpxqsmvt:v0 to /scratch/downloaded_artifacts/logs_hpxqsmvt:v0\n"
     ]
    },
    {
     "name": "stderr",
     "output_type": "stream",
     "text": [
      "\u001b[34m\u001b[1mwandb\u001b[0m:   1 of 1 files downloaded.  \n"
     ]
    },
    {
     "name": "stdout",
     "output_type": "stream",
     "text": [
      "2025-04-21 03:47:49,322 - INFO - Downloaded logs_mnjhna96:v0 to /scratch/downloaded_artifacts/logs_mnjhna96:v0\n"
     ]
    },
    {
     "name": "stderr",
     "output_type": "stream",
     "text": [
      "\u001b[34m\u001b[1mwandb\u001b[0m:   1 of 1 files downloaded.  \n"
     ]
    },
    {
     "name": "stdout",
     "output_type": "stream",
     "text": [
      "2025-04-21 03:47:49,338 - INFO - Downloaded logs_huwir56d:v0 to /scratch/downloaded_artifacts/logs_huwir56d:v0\n"
     ]
    },
    {
     "name": "stderr",
     "output_type": "stream",
     "text": [
      "\u001b[34m\u001b[1mwandb\u001b[0m:   1 of 1 files downloaded.  \n"
     ]
    },
    {
     "name": "stdout",
     "output_type": "stream",
     "text": [
      "2025-04-21 03:47:49,378 - INFO - Downloaded logs_nmh4h87e:v0 to /scratch/downloaded_artifacts/logs_nmh4h87e:v0\n"
     ]
    },
    {
     "name": "stderr",
     "output_type": "stream",
     "text": [
      "\u001b[34m\u001b[1mwandb\u001b[0m:   1 of 1 files downloaded.  \n"
     ]
    },
    {
     "name": "stdout",
     "output_type": "stream",
     "text": [
      "2025-04-21 03:47:49,428 - INFO - Downloaded logs_jn383lkn:v0 to /scratch/downloaded_artifacts/logs_jn383lkn:v0\n"
     ]
    },
    {
     "name": "stderr",
     "output_type": "stream",
     "text": [
      "\u001b[34m\u001b[1mwandb\u001b[0m:   1 of 1 files downloaded.  \n"
     ]
    },
    {
     "name": "stdout",
     "output_type": "stream",
     "text": [
      "2025-04-21 03:47:49,632 - INFO - Downloaded logs_oyryn6sl:v0 to /scratch/downloaded_artifacts/logs_oyryn6sl:v0\n"
     ]
    },
    {
     "name": "stderr",
     "output_type": "stream",
     "text": [
      "\u001b[34m\u001b[1mwandb\u001b[0m:   1 of 1 files downloaded.  \n"
     ]
    },
    {
     "name": "stdout",
     "output_type": "stream",
     "text": [
      "2025-04-21 03:47:49,652 - INFO - Downloaded logs_odigizge:v0 to /scratch/downloaded_artifacts/logs_odigizge:v0\n"
     ]
    },
    {
     "name": "stderr",
     "output_type": "stream",
     "text": [
      "\u001b[34m\u001b[1mwandb\u001b[0m:   1 of 1 files downloaded.  \n"
     ]
    },
    {
     "name": "stdout",
     "output_type": "stream",
     "text": [
      "2025-04-21 03:47:49,821 - INFO - Downloaded logs_sb97jc9e:v0 to /scratch/downloaded_artifacts/logs_sb97jc9e:v0\n"
     ]
    },
    {
     "name": "stderr",
     "output_type": "stream",
     "text": [
      "\u001b[34m\u001b[1mwandb\u001b[0m:   1 of 1 files downloaded.  \n"
     ]
    },
    {
     "name": "stdout",
     "output_type": "stream",
     "text": [
      "2025-04-21 03:47:49,915 - INFO - Downloaded logs_u6ltx5n1:v0 to /scratch/downloaded_artifacts/logs_u6ltx5n1:v0\n"
     ]
    },
    {
     "name": "stderr",
     "output_type": "stream",
     "text": [
      "\u001b[34m\u001b[1mwandb\u001b[0m:   1 of 1 files downloaded.  \n"
     ]
    },
    {
     "name": "stdout",
     "output_type": "stream",
     "text": [
      "2025-04-21 03:47:50,172 - INFO - Downloaded logs_umfeh9jf:v0 to /scratch/downloaded_artifacts/logs_umfeh9jf:v0\n"
     ]
    },
    {
     "name": "stderr",
     "output_type": "stream",
     "text": [
      "\u001b[34m\u001b[1mwandb\u001b[0m:   1 of 1 files downloaded.  \n"
     ]
    },
    {
     "name": "stdout",
     "output_type": "stream",
     "text": [
      "2025-04-21 03:47:50,212 - INFO - Downloaded logs_0ui605lg:v0 to /scratch/downloaded_artifacts/logs_0ui605lg:v0\n"
     ]
    },
    {
     "name": "stderr",
     "output_type": "stream",
     "text": [
      "\u001b[34m\u001b[1mwandb\u001b[0m:   1 of 1 files downloaded.  \n"
     ]
    },
    {
     "name": "stdout",
     "output_type": "stream",
     "text": [
      "2025-04-21 03:47:50,427 - INFO - Downloaded logs_6vcthoer:v0 to /scratch/downloaded_artifacts/logs_6vcthoer:v0\n"
     ]
    },
    {
     "name": "stderr",
     "output_type": "stream",
     "text": [
      "\u001b[34m\u001b[1mwandb\u001b[0m:   1 of 1 files downloaded.  \n",
      "\u001b[34m\u001b[1mwandb\u001b[0m:   1 of 1 files downloaded.  \n"
     ]
    },
    {
     "name": "stdout",
     "output_type": "stream",
     "text": [
      "2025-04-21 03:47:50,430 - INFO - Downloaded logs_7qyiyrv6:v0 to /scratch/downloaded_artifacts/logs_7qyiyrv6:v0\n",
      "2025-04-21 03:47:50,432 - INFO - Downloaded logs_18ictp13:v0 to /scratch/downloaded_artifacts/logs_18ictp13:v0\n"
     ]
    },
    {
     "name": "stderr",
     "output_type": "stream",
     "text": [
      "\u001b[34m\u001b[1mwandb\u001b[0m:   1 of 1 files downloaded.  \n"
     ]
    },
    {
     "name": "stdout",
     "output_type": "stream",
     "text": [
      "2025-04-21 03:47:50,683 - INFO - Downloaded logs_90cdqay0:v0 to /scratch/downloaded_artifacts/logs_90cdqay0:v0\n"
     ]
    },
    {
     "name": "stderr",
     "output_type": "stream",
     "text": [
      "\u001b[34m\u001b[1mwandb\u001b[0m:   1 of 1 files downloaded.  \n"
     ]
    },
    {
     "name": "stdout",
     "output_type": "stream",
     "text": [
      "2025-04-21 03:47:50,808 - INFO - Downloaded logs_wffrpwsv:v0 to /scratch/downloaded_artifacts/logs_wffrpwsv:v0\n"
     ]
    },
    {
     "name": "stderr",
     "output_type": "stream",
     "text": [
      "\u001b[34m\u001b[1mwandb\u001b[0m:   1 of 1 files downloaded.  \n"
     ]
    },
    {
     "name": "stdout",
     "output_type": "stream",
     "text": [
      "2025-04-21 03:47:51,071 - INFO - Downloaded logs_y7wklypt:v0 to /scratch/downloaded_artifacts/logs_y7wklypt:v0\n"
     ]
    },
    {
     "name": "stderr",
     "output_type": "stream",
     "text": [
      "\u001b[34m\u001b[1mwandb\u001b[0m:   1 of 1 files downloaded.  \n"
     ]
    },
    {
     "name": "stdout",
     "output_type": "stream",
     "text": [
      "2025-04-21 03:47:51,158 - INFO - Downloaded logs_bxxmkl9u:v0 to /scratch/downloaded_artifacts/logs_bxxmkl9u:v0\n"
     ]
    },
    {
     "name": "stderr",
     "output_type": "stream",
     "text": [
      "\u001b[34m\u001b[1mwandb\u001b[0m:   1 of 1 files downloaded.  \n"
     ]
    },
    {
     "name": "stdout",
     "output_type": "stream",
     "text": [
      "2025-04-21 03:47:51,282 - INFO - Downloaded logs_co9apnre:v0 to /scratch/downloaded_artifacts/logs_co9apnre:v0\n"
     ]
    },
    {
     "name": "stderr",
     "output_type": "stream",
     "text": [
      "\u001b[34m\u001b[1mwandb\u001b[0m:   1 of 1 files downloaded.  \n"
     ]
    },
    {
     "name": "stdout",
     "output_type": "stream",
     "text": [
      "2025-04-21 03:47:51,520 - INFO - Downloaded logs_cpxalk5w:v0 to /scratch/downloaded_artifacts/logs_cpxalk5w:v0\n"
     ]
    },
    {
     "name": "stderr",
     "output_type": "stream",
     "text": [
      "\u001b[34m\u001b[1mwandb\u001b[0m:   1 of 1 files downloaded.  \n"
     ]
    },
    {
     "name": "stdout",
     "output_type": "stream",
     "text": [
      "2025-04-21 03:47:51,724 - INFO - Downloaded logs_e0vk0b5q:v0 to /scratch/downloaded_artifacts/logs_e0vk0b5q:v0\n"
     ]
    },
    {
     "name": "stderr",
     "output_type": "stream",
     "text": [
      "\u001b[34m\u001b[1mwandb\u001b[0m:   1 of 1 files downloaded.  \n"
     ]
    },
    {
     "name": "stdout",
     "output_type": "stream",
     "text": [
      "2025-04-21 03:47:51,775 - INFO - Downloaded logs_h14n6hg4:v0 to /scratch/downloaded_artifacts/logs_h14n6hg4:v0\n"
     ]
    },
    {
     "name": "stderr",
     "output_type": "stream",
     "text": [
      "\u001b[34m\u001b[1mwandb\u001b[0m:   1 of 1 files downloaded.  \n"
     ]
    },
    {
     "name": "stdout",
     "output_type": "stream",
     "text": [
      "2025-04-21 03:47:51,835 - INFO - Downloaded logs_g3so3x3d:v0 to /scratch/downloaded_artifacts/logs_g3so3x3d:v0\n"
     ]
    },
    {
     "name": "stderr",
     "output_type": "stream",
     "text": [
      "\u001b[34m\u001b[1mwandb\u001b[0m:   1 of 1 files downloaded.  \n"
     ]
    },
    {
     "name": "stdout",
     "output_type": "stream",
     "text": [
      "2025-04-21 03:47:51,889 - INFO - Downloaded logs_htcy8lqb:v0 to /scratch/downloaded_artifacts/logs_htcy8lqb:v0\n"
     ]
    },
    {
     "name": "stderr",
     "output_type": "stream",
     "text": [
      "\u001b[34m\u001b[1mwandb\u001b[0m:   1 of 1 files downloaded.  \n"
     ]
    },
    {
     "name": "stdout",
     "output_type": "stream",
     "text": [
      "2025-04-21 03:47:52,049 - INFO - Downloaded logs_hfdmwulv:v0 to /scratch/downloaded_artifacts/logs_hfdmwulv:v0\n"
     ]
    },
    {
     "name": "stderr",
     "output_type": "stream",
     "text": [
      "\u001b[34m\u001b[1mwandb\u001b[0m:   1 of 1 files downloaded.  \n"
     ]
    },
    {
     "name": "stdout",
     "output_type": "stream",
     "text": [
      "2025-04-21 03:47:52,084 - INFO - Downloaded logs_inbfmtm2:v0 to /scratch/downloaded_artifacts/logs_inbfmtm2:v0\n"
     ]
    },
    {
     "name": "stderr",
     "output_type": "stream",
     "text": [
      "\u001b[34m\u001b[1mwandb\u001b[0m:   1 of 1 files downloaded.  \n"
     ]
    },
    {
     "name": "stdout",
     "output_type": "stream",
     "text": [
      "2025-04-21 03:47:52,207 - INFO - Downloaded logs_ln9nry7v:v0 to /scratch/downloaded_artifacts/logs_ln9nry7v:v0\n"
     ]
    },
    {
     "name": "stderr",
     "output_type": "stream",
     "text": [
      "\u001b[34m\u001b[1mwandb\u001b[0m:   1 of 1 files downloaded.  \n"
     ]
    },
    {
     "name": "stdout",
     "output_type": "stream",
     "text": [
      "2025-04-21 03:47:52,238 - INFO - Downloaded logs_lrj6bb8u:v0 to /scratch/downloaded_artifacts/logs_lrj6bb8u:v0\n"
     ]
    },
    {
     "name": "stderr",
     "output_type": "stream",
     "text": [
      "\u001b[34m\u001b[1mwandb\u001b[0m:   1 of 1 files downloaded.  \n"
     ]
    },
    {
     "name": "stdout",
     "output_type": "stream",
     "text": [
      "2025-04-21 03:47:52,463 - INFO - Downloaded logs_lyds61hs:v0 to /scratch/downloaded_artifacts/logs_lyds61hs:v0\n"
     ]
    },
    {
     "name": "stderr",
     "output_type": "stream",
     "text": [
      "\u001b[34m\u001b[1mwandb\u001b[0m:   1 of 1 files downloaded.  \n"
     ]
    },
    {
     "name": "stdout",
     "output_type": "stream",
     "text": [
      "2025-04-21 03:47:52,580 - INFO - Downloaded logs_mr1shdwd:v0 to /scratch/downloaded_artifacts/logs_mr1shdwd:v0\n"
     ]
    },
    {
     "name": "stderr",
     "output_type": "stream",
     "text": [
      "\u001b[34m\u001b[1mwandb\u001b[0m:   1 of 1 files downloaded.  \n"
     ]
    },
    {
     "name": "stdout",
     "output_type": "stream",
     "text": [
      "2025-04-21 03:47:52,624 - INFO - Downloaded logs_n5s4okfj:v0 to /scratch/downloaded_artifacts/logs_n5s4okfj:v0\n"
     ]
    },
    {
     "name": "stderr",
     "output_type": "stream",
     "text": [
      "\u001b[34m\u001b[1mwandb\u001b[0m:   1 of 1 files downloaded.  \n"
     ]
    },
    {
     "name": "stdout",
     "output_type": "stream",
     "text": [
      "2025-04-21 03:47:52,815 - INFO - Downloaded logs_t87w7x97:v0 to /scratch/downloaded_artifacts/logs_t87w7x97:v0\n"
     ]
    },
    {
     "name": "stderr",
     "output_type": "stream",
     "text": [
      "\u001b[34m\u001b[1mwandb\u001b[0m:   1 of 1 files downloaded.  \n"
     ]
    },
    {
     "name": "stdout",
     "output_type": "stream",
     "text": [
      "2025-04-21 03:47:52,942 - INFO - Downloaded logs_oyd1xfd4:v0 to /scratch/downloaded_artifacts/logs_oyd1xfd4:v0\n"
     ]
    },
    {
     "name": "stderr",
     "output_type": "stream",
     "text": [
      "\u001b[34m\u001b[1mwandb\u001b[0m:   1 of 1 files downloaded.  \n"
     ]
    },
    {
     "name": "stdout",
     "output_type": "stream",
     "text": [
      "2025-04-21 03:47:53,030 - INFO - Downloaded logs_s0unkuqr:v0 to /scratch/downloaded_artifacts/logs_s0unkuqr:v0\n"
     ]
    },
    {
     "name": "stderr",
     "output_type": "stream",
     "text": [
      "\u001b[34m\u001b[1mwandb\u001b[0m:   1 of 1 files downloaded.  \n"
     ]
    },
    {
     "name": "stdout",
     "output_type": "stream",
     "text": [
      "2025-04-21 03:47:53,235 - INFO - Downloaded logs_welaksng:v0 to /scratch/downloaded_artifacts/logs_welaksng:v0\n"
     ]
    },
    {
     "name": "stderr",
     "output_type": "stream",
     "text": [
      "\u001b[34m\u001b[1mwandb\u001b[0m:   1 of 1 files downloaded.  \n"
     ]
    },
    {
     "name": "stdout",
     "output_type": "stream",
     "text": [
      "2025-04-21 03:47:53,379 - INFO - Downloaded logs_tamrynt0:v0 to /scratch/downloaded_artifacts/logs_tamrynt0:v0\n"
     ]
    },
    {
     "name": "stderr",
     "output_type": "stream",
     "text": [
      "\u001b[34m\u001b[1mwandb\u001b[0m:   1 of 1 files downloaded.  \n"
     ]
    },
    {
     "name": "stdout",
     "output_type": "stream",
     "text": [
      "2025-04-21 03:47:53,457 - INFO - Downloaded logs_yclmyg8t:v0 to /scratch/downloaded_artifacts/logs_yclmyg8t:v0\n"
     ]
    },
    {
     "name": "stderr",
     "output_type": "stream",
     "text": [
      "\u001b[34m\u001b[1mwandb\u001b[0m:   1 of 1 files downloaded.  \n"
     ]
    },
    {
     "name": "stdout",
     "output_type": "stream",
     "text": [
      "2025-04-21 03:47:53,533 - INFO - Downloaded logs_4etcers0:v0 to /scratch/downloaded_artifacts/logs_4etcers0:v0\n"
     ]
    },
    {
     "name": "stderr",
     "output_type": "stream",
     "text": [
      "\u001b[34m\u001b[1mwandb\u001b[0m:   1 of 1 files downloaded.  \n"
     ]
    },
    {
     "name": "stdout",
     "output_type": "stream",
     "text": [
      "2025-04-21 03:47:53,837 - INFO - Downloaded logs_787ns6p6:v0 to /scratch/downloaded_artifacts/logs_787ns6p6:v0\n"
     ]
    },
    {
     "name": "stderr",
     "output_type": "stream",
     "text": [
      "\u001b[34m\u001b[1mwandb\u001b[0m:   1 of 1 files downloaded.  \n"
     ]
    },
    {
     "name": "stdout",
     "output_type": "stream",
     "text": [
      "2025-04-21 03:47:53,909 - INFO - Downloaded logs_52wgbg6u:v0 to /scratch/downloaded_artifacts/logs_52wgbg6u:v0\n"
     ]
    },
    {
     "name": "stderr",
     "output_type": "stream",
     "text": [
      "\u001b[34m\u001b[1mwandb\u001b[0m:   1 of 1 files downloaded.  \n"
     ]
    },
    {
     "name": "stdout",
     "output_type": "stream",
     "text": [
      "2025-04-21 03:47:54,157 - INFO - Downloaded logs_7lgukq1h:v0 to /scratch/downloaded_artifacts/logs_7lgukq1h:v0\n"
     ]
    },
    {
     "name": "stderr",
     "output_type": "stream",
     "text": [
      "\u001b[34m\u001b[1mwandb\u001b[0m:   1 of 1 files downloaded.  \n"
     ]
    },
    {
     "name": "stdout",
     "output_type": "stream",
     "text": [
      "2025-04-21 03:47:54,226 - INFO - Downloaded logs_8dnl8rr0:v0 to /scratch/downloaded_artifacts/logs_8dnl8rr0:v0\n"
     ]
    },
    {
     "name": "stderr",
     "output_type": "stream",
     "text": [
      "\u001b[34m\u001b[1mwandb\u001b[0m:   1 of 1 files downloaded.  \n"
     ]
    },
    {
     "name": "stdout",
     "output_type": "stream",
     "text": [
      "2025-04-21 03:47:54,302 - INFO - Downloaded logs_8hpn3792:v0 to /scratch/downloaded_artifacts/logs_8hpn3792:v0\n"
     ]
    },
    {
     "name": "stderr",
     "output_type": "stream",
     "text": [
      "\u001b[34m\u001b[1mwandb\u001b[0m:   1 of 1 files downloaded.  \n"
     ]
    },
    {
     "name": "stdout",
     "output_type": "stream",
     "text": [
      "2025-04-21 03:47:54,367 - INFO - Downloaded logs_bdl8fifu:v0 to /scratch/downloaded_artifacts/logs_bdl8fifu:v0\n"
     ]
    },
    {
     "name": "stderr",
     "output_type": "stream",
     "text": [
      "\u001b[34m\u001b[1mwandb\u001b[0m:   1 of 1 files downloaded.  \n"
     ]
    },
    {
     "name": "stdout",
     "output_type": "stream",
     "text": [
      "2025-04-21 03:47:54,483 - INFO - Downloaded logs_d4t4k6pb:v0 to /scratch/downloaded_artifacts/logs_d4t4k6pb:v0\n"
     ]
    },
    {
     "name": "stderr",
     "output_type": "stream",
     "text": [
      "\u001b[34m\u001b[1mwandb\u001b[0m:   1 of 1 files downloaded.  \n"
     ]
    },
    {
     "name": "stdout",
     "output_type": "stream",
     "text": [
      "2025-04-21 03:47:54,628 - INFO - Downloaded logs_e3kshfaa:v0 to /scratch/downloaded_artifacts/logs_e3kshfaa:v0\n"
     ]
    },
    {
     "name": "stderr",
     "output_type": "stream",
     "text": [
      "\u001b[34m\u001b[1mwandb\u001b[0m:   1 of 1 files downloaded.  \n"
     ]
    },
    {
     "name": "stdout",
     "output_type": "stream",
     "text": [
      "2025-04-21 03:47:54,632 - INFO - Downloaded logs_hc547uyq:v0 to /scratch/downloaded_artifacts/logs_hc547uyq:v0\n"
     ]
    },
    {
     "name": "stderr",
     "output_type": "stream",
     "text": [
      "\u001b[34m\u001b[1mwandb\u001b[0m:   1 of 1 files downloaded.  \n"
     ]
    },
    {
     "name": "stdout",
     "output_type": "stream",
     "text": [
      "2025-04-21 03:47:54,771 - INFO - Downloaded logs_fm0cvllu:v0 to /scratch/downloaded_artifacts/logs_fm0cvllu:v0\n"
     ]
    },
    {
     "name": "stderr",
     "output_type": "stream",
     "text": [
      "\u001b[34m\u001b[1mwandb\u001b[0m:   1 of 1 files downloaded.  \n"
     ]
    },
    {
     "name": "stdout",
     "output_type": "stream",
     "text": [
      "2025-04-21 03:47:55,001 - INFO - Downloaded logs_lrr0ib8k:v0 to /scratch/downloaded_artifacts/logs_lrr0ib8k:v0\n"
     ]
    },
    {
     "name": "stderr",
     "output_type": "stream",
     "text": [
      "\u001b[34m\u001b[1mwandb\u001b[0m:   1 of 1 files downloaded.  \n"
     ]
    },
    {
     "name": "stdout",
     "output_type": "stream",
     "text": [
      "2025-04-21 03:47:55,048 - INFO - Downloaded logs_npumqf2w:v0 to /scratch/downloaded_artifacts/logs_npumqf2w:v0\n"
     ]
    },
    {
     "name": "stderr",
     "output_type": "stream",
     "text": [
      "\u001b[34m\u001b[1mwandb\u001b[0m:   1 of 1 files downloaded.  \n"
     ]
    },
    {
     "name": "stdout",
     "output_type": "stream",
     "text": [
      "2025-04-21 03:47:55,090 - INFO - Downloaded logs_n3cd6huw:v0 to /scratch/downloaded_artifacts/logs_n3cd6huw:v0\n"
     ]
    },
    {
     "name": "stderr",
     "output_type": "stream",
     "text": [
      "\u001b[34m\u001b[1mwandb\u001b[0m:   1 of 1 files downloaded.  \n"
     ]
    },
    {
     "name": "stdout",
     "output_type": "stream",
     "text": [
      "2025-04-21 03:47:55,282 - INFO - Downloaded logs_pc6yrh5e:v0 to /scratch/downloaded_artifacts/logs_pc6yrh5e:v0\n"
     ]
    },
    {
     "name": "stderr",
     "output_type": "stream",
     "text": [
      "\u001b[34m\u001b[1mwandb\u001b[0m:   1 of 1 files downloaded.  \n"
     ]
    },
    {
     "name": "stdout",
     "output_type": "stream",
     "text": [
      "2025-04-21 03:47:55,403 - INFO - Downloaded logs_pd5zm7cb:v0 to /scratch/downloaded_artifacts/logs_pd5zm7cb:v0\n"
     ]
    },
    {
     "name": "stderr",
     "output_type": "stream",
     "text": [
      "\u001b[34m\u001b[1mwandb\u001b[0m:   1 of 1 files downloaded.  \n"
     ]
    },
    {
     "name": "stdout",
     "output_type": "stream",
     "text": [
      "2025-04-21 03:47:55,583 - INFO - Downloaded logs_qehox5cs:v0 to /scratch/downloaded_artifacts/logs_qehox5cs:v0\n"
     ]
    },
    {
     "name": "stderr",
     "output_type": "stream",
     "text": [
      "\u001b[34m\u001b[1mwandb\u001b[0m:   1 of 1 files downloaded.  \n"
     ]
    },
    {
     "name": "stdout",
     "output_type": "stream",
     "text": [
      "2025-04-21 03:47:55,656 - INFO - Downloaded logs_r0x1ug4y:v0 to /scratch/downloaded_artifacts/logs_r0x1ug4y:v0\n"
     ]
    },
    {
     "name": "stderr",
     "output_type": "stream",
     "text": [
      "\u001b[34m\u001b[1mwandb\u001b[0m:   1 of 1 files downloaded.  \n"
     ]
    },
    {
     "name": "stdout",
     "output_type": "stream",
     "text": [
      "2025-04-21 03:47:55,861 - INFO - Downloaded logs_rlg57yp5:v0 to /scratch/downloaded_artifacts/logs_rlg57yp5:v0\n"
     ]
    },
    {
     "name": "stderr",
     "output_type": "stream",
     "text": [
      "\u001b[34m\u001b[1mwandb\u001b[0m:   1 of 1 files downloaded.  \n"
     ]
    },
    {
     "name": "stdout",
     "output_type": "stream",
     "text": [
      "2025-04-21 03:47:55,901 - INFO - Downloaded logs_r7hs5lll:v0 to /scratch/downloaded_artifacts/logs_r7hs5lll:v0\n"
     ]
    },
    {
     "name": "stderr",
     "output_type": "stream",
     "text": [
      "\u001b[34m\u001b[1mwandb\u001b[0m:   1 of 1 files downloaded.  \n"
     ]
    },
    {
     "name": "stdout",
     "output_type": "stream",
     "text": [
      "2025-04-21 03:47:55,988 - INFO - Downloaded logs_rq3onhd9:v0 to /scratch/downloaded_artifacts/logs_rq3onhd9:v0\n"
     ]
    },
    {
     "name": "stderr",
     "output_type": "stream",
     "text": [
      "\u001b[34m\u001b[1mwandb\u001b[0m:   1 of 1 files downloaded.  \n"
     ]
    },
    {
     "name": "stdout",
     "output_type": "stream",
     "text": [
      "2025-04-21 03:47:56,334 - INFO - Downloaded logs_rwks2344:v0 to /scratch/downloaded_artifacts/logs_rwks2344:v0\n"
     ]
    },
    {
     "name": "stderr",
     "output_type": "stream",
     "text": [
      "\u001b[34m\u001b[1mwandb\u001b[0m:   1 of 1 files downloaded.  \n"
     ]
    },
    {
     "name": "stdout",
     "output_type": "stream",
     "text": [
      "2025-04-21 03:47:56,433 - INFO - Downloaded logs_vr5ng2bg:v0 to /scratch/downloaded_artifacts/logs_vr5ng2bg:v0\n"
     ]
    },
    {
     "name": "stderr",
     "output_type": "stream",
     "text": [
      "\u001b[34m\u001b[1mwandb\u001b[0m:   1 of 1 files downloaded.  \n"
     ]
    },
    {
     "name": "stdout",
     "output_type": "stream",
     "text": [
      "2025-04-21 03:47:56,631 - INFO - Downloaded logs_wi4h4bqm:v0 to /scratch/downloaded_artifacts/logs_wi4h4bqm:v0\n"
     ]
    },
    {
     "name": "stderr",
     "output_type": "stream",
     "text": [
      "\u001b[34m\u001b[1mwandb\u001b[0m:   1 of 1 files downloaded.  \n"
     ]
    },
    {
     "name": "stdout",
     "output_type": "stream",
     "text": [
      "2025-04-21 03:47:56,665 - INFO - Downloaded logs_wxv0vub0:v0 to /scratch/downloaded_artifacts/logs_wxv0vub0:v0\n"
     ]
    },
    {
     "name": "stderr",
     "output_type": "stream",
     "text": [
      "\u001b[34m\u001b[1mwandb\u001b[0m:   1 of 1 files downloaded.  \n"
     ]
    },
    {
     "name": "stdout",
     "output_type": "stream",
     "text": [
      "2025-04-21 03:47:56,845 - INFO - Downloaded logs_wzb0gecm:v0 to /scratch/downloaded_artifacts/logs_wzb0gecm:v0\n"
     ]
    },
    {
     "name": "stderr",
     "output_type": "stream",
     "text": [
      "\u001b[34m\u001b[1mwandb\u001b[0m:   1 of 1 files downloaded.  \n"
     ]
    },
    {
     "name": "stdout",
     "output_type": "stream",
     "text": [
      "2025-04-21 03:47:56,875 - INFO - Downloaded logs_swgtzjuj:v0 to /scratch/downloaded_artifacts/logs_swgtzjuj:v0\n"
     ]
    },
    {
     "name": "stderr",
     "output_type": "stream",
     "text": [
      "\u001b[34m\u001b[1mwandb\u001b[0m:   1 of 1 files downloaded.  \n"
     ]
    },
    {
     "name": "stdout",
     "output_type": "stream",
     "text": [
      "2025-04-21 03:47:56,917 - INFO - Downloaded logs_06wb09rl:v0 to /scratch/downloaded_artifacts/logs_06wb09rl:v0\n"
     ]
    },
    {
     "name": "stderr",
     "output_type": "stream",
     "text": [
      "\u001b[34m\u001b[1mwandb\u001b[0m:   1 of 1 files downloaded.  \n"
     ]
    },
    {
     "name": "stdout",
     "output_type": "stream",
     "text": [
      "2025-04-21 03:47:57,085 - INFO - Downloaded logs_0bvrb9ic:v0 to /scratch/downloaded_artifacts/logs_0bvrb9ic:v0\n"
     ]
    },
    {
     "name": "stderr",
     "output_type": "stream",
     "text": [
      "\u001b[34m\u001b[1mwandb\u001b[0m:   1 of 1 files downloaded.  \n"
     ]
    },
    {
     "name": "stdout",
     "output_type": "stream",
     "text": [
      "2025-04-21 03:47:57,115 - INFO - Downloaded logs_2rhvax2x:v0 to /scratch/downloaded_artifacts/logs_2rhvax2x:v0\n"
     ]
    },
    {
     "name": "stderr",
     "output_type": "stream",
     "text": [
      "\u001b[34m\u001b[1mwandb\u001b[0m:   1 of 1 files downloaded.  \n"
     ]
    },
    {
     "name": "stdout",
     "output_type": "stream",
     "text": [
      "2025-04-21 03:47:57,279 - INFO - Downloaded logs_2mt58rz8:v0 to /scratch/downloaded_artifacts/logs_2mt58rz8:v0\n"
     ]
    },
    {
     "name": "stderr",
     "output_type": "stream",
     "text": [
      "\u001b[34m\u001b[1mwandb\u001b[0m:   1 of 1 files downloaded.  \n"
     ]
    },
    {
     "name": "stdout",
     "output_type": "stream",
     "text": [
      "2025-04-21 03:47:57,521 - INFO - Downloaded logs_2wmqkvke:v0 to /scratch/downloaded_artifacts/logs_2wmqkvke:v0\n"
     ]
    },
    {
     "name": "stderr",
     "output_type": "stream",
     "text": [
      "\u001b[34m\u001b[1mwandb\u001b[0m:   1 of 1 files downloaded.  \n"
     ]
    },
    {
     "name": "stdout",
     "output_type": "stream",
     "text": [
      "2025-04-21 03:47:57,559 - INFO - Downloaded logs_59zrlpli:v0 to /scratch/downloaded_artifacts/logs_59zrlpli:v0\n"
     ]
    },
    {
     "name": "stderr",
     "output_type": "stream",
     "text": [
      "\u001b[34m\u001b[1mwandb\u001b[0m:   1 of 1 files downloaded.  \n"
     ]
    },
    {
     "name": "stdout",
     "output_type": "stream",
     "text": [
      "2025-04-21 03:47:57,739 - INFO - Downloaded logs_3eikp47g:v0 to /scratch/downloaded_artifacts/logs_3eikp47g:v0\n"
     ]
    },
    {
     "name": "stderr",
     "output_type": "stream",
     "text": [
      "\u001b[34m\u001b[1mwandb\u001b[0m:   1 of 1 files downloaded.  \n"
     ]
    },
    {
     "name": "stdout",
     "output_type": "stream",
     "text": [
      "2025-04-21 03:47:57,794 - INFO - Downloaded logs_62k6mz0b:v0 to /scratch/downloaded_artifacts/logs_62k6mz0b:v0\n"
     ]
    },
    {
     "name": "stderr",
     "output_type": "stream",
     "text": [
      "\u001b[34m\u001b[1mwandb\u001b[0m:   1 of 1 files downloaded.  \n"
     ]
    },
    {
     "name": "stdout",
     "output_type": "stream",
     "text": [
      "2025-04-21 03:47:57,936 - INFO - Downloaded logs_7mkiu6d9:v0 to /scratch/downloaded_artifacts/logs_7mkiu6d9:v0\n"
     ]
    },
    {
     "name": "stderr",
     "output_type": "stream",
     "text": [
      "\u001b[34m\u001b[1mwandb\u001b[0m:   1 of 1 files downloaded.  \n"
     ]
    },
    {
     "name": "stdout",
     "output_type": "stream",
     "text": [
      "2025-04-21 03:47:58,040 - INFO - Downloaded logs_aax2gz5s:v0 to /scratch/downloaded_artifacts/logs_aax2gz5s:v0\n"
     ]
    },
    {
     "name": "stderr",
     "output_type": "stream",
     "text": [
      "\u001b[34m\u001b[1mwandb\u001b[0m:   1 of 1 files downloaded.  \n"
     ]
    },
    {
     "name": "stdout",
     "output_type": "stream",
     "text": [
      "2025-04-21 03:47:58,215 - INFO - Downloaded logs_blsq3qd1:v0 to /scratch/downloaded_artifacts/logs_blsq3qd1:v0\n"
     ]
    },
    {
     "name": "stderr",
     "output_type": "stream",
     "text": [
      "\u001b[34m\u001b[1mwandb\u001b[0m:   1 of 1 files downloaded.  \n"
     ]
    },
    {
     "name": "stdout",
     "output_type": "stream",
     "text": [
      "2025-04-21 03:47:58,344 - INFO - Downloaded logs_cvhjxp8w:v0 to /scratch/downloaded_artifacts/logs_cvhjxp8w:v0\n"
     ]
    },
    {
     "name": "stderr",
     "output_type": "stream",
     "text": [
      "\u001b[34m\u001b[1mwandb\u001b[0m:   1 of 1 files downloaded.  \n"
     ]
    },
    {
     "name": "stdout",
     "output_type": "stream",
     "text": [
      "2025-04-21 03:47:58,485 - INFO - Downloaded logs_bsuqgtpq:v0 to /scratch/downloaded_artifacts/logs_bsuqgtpq:v0\n"
     ]
    },
    {
     "name": "stderr",
     "output_type": "stream",
     "text": [
      "\u001b[34m\u001b[1mwandb\u001b[0m:   1 of 1 files downloaded.  \n"
     ]
    },
    {
     "name": "stdout",
     "output_type": "stream",
     "text": [
      "2025-04-21 03:47:58,521 - INFO - Downloaded logs_dy7j2pmw:v0 to /scratch/downloaded_artifacts/logs_dy7j2pmw:v0\n"
     ]
    },
    {
     "name": "stderr",
     "output_type": "stream",
     "text": [
      "\u001b[34m\u001b[1mwandb\u001b[0m:   1 of 1 files downloaded.  \n"
     ]
    },
    {
     "name": "stdout",
     "output_type": "stream",
     "text": [
      "2025-04-21 03:47:58,742 - INFO - Downloaded logs_gq0fvoj4:v0 to /scratch/downloaded_artifacts/logs_gq0fvoj4:v0\n"
     ]
    },
    {
     "name": "stderr",
     "output_type": "stream",
     "text": [
      "\u001b[34m\u001b[1mwandb\u001b[0m:   1 of 1 files downloaded.  \n"
     ]
    },
    {
     "name": "stdout",
     "output_type": "stream",
     "text": [
      "2025-04-21 03:47:58,845 - INFO - Downloaded logs_i0wro6w7:v0 to /scratch/downloaded_artifacts/logs_i0wro6w7:v0\n"
     ]
    },
    {
     "name": "stderr",
     "output_type": "stream",
     "text": [
      "\u001b[34m\u001b[1mwandb\u001b[0m:   1 of 1 files downloaded.  \n"
     ]
    },
    {
     "name": "stdout",
     "output_type": "stream",
     "text": [
      "2025-04-21 03:47:59,148 - INFO - Downloaded logs_iiadjhhv:v0 to /scratch/downloaded_artifacts/logs_iiadjhhv:v0\n"
     ]
    },
    {
     "name": "stderr",
     "output_type": "stream",
     "text": [
      "\u001b[34m\u001b[1mwandb\u001b[0m:   1 of 1 files downloaded.  \n"
     ]
    },
    {
     "name": "stdout",
     "output_type": "stream",
     "text": [
      "2025-04-21 03:47:59,281 - INFO - Downloaded logs_j5zrnyd5:v0 to /scratch/downloaded_artifacts/logs_j5zrnyd5:v0\n"
     ]
    },
    {
     "name": "stderr",
     "output_type": "stream",
     "text": [
      "\u001b[34m\u001b[1mwandb\u001b[0m:   1 of 1 files downloaded.  \n"
     ]
    },
    {
     "name": "stdout",
     "output_type": "stream",
     "text": [
      "2025-04-21 03:47:59,329 - INFO - Downloaded logs_iidrgnal:v0 to /scratch/downloaded_artifacts/logs_iidrgnal:v0\n"
     ]
    },
    {
     "name": "stderr",
     "output_type": "stream",
     "text": [
      "\u001b[34m\u001b[1mwandb\u001b[0m:   1 of 1 files downloaded.  \n"
     ]
    },
    {
     "name": "stdout",
     "output_type": "stream",
     "text": [
      "2025-04-21 03:47:59,396 - INFO - Downloaded logs_mz7n3f8c:v0 to /scratch/downloaded_artifacts/logs_mz7n3f8c:v0\n"
     ]
    },
    {
     "name": "stderr",
     "output_type": "stream",
     "text": [
      "\u001b[34m\u001b[1mwandb\u001b[0m:   1 of 1 files downloaded.  \n"
     ]
    },
    {
     "name": "stdout",
     "output_type": "stream",
     "text": [
      "2025-04-21 03:47:59,421 - INFO - Downloaded logs_kk9qvutt:v0 to /scratch/downloaded_artifacts/logs_kk9qvutt:v0\n"
     ]
    },
    {
     "name": "stderr",
     "output_type": "stream",
     "text": [
      "\u001b[34m\u001b[1mwandb\u001b[0m:   1 of 1 files downloaded.  \n"
     ]
    },
    {
     "name": "stdout",
     "output_type": "stream",
     "text": [
      "2025-04-21 03:47:59,788 - INFO - Downloaded logs_nf84quch:v0 to /scratch/downloaded_artifacts/logs_nf84quch:v0\n"
     ]
    },
    {
     "name": "stderr",
     "output_type": "stream",
     "text": [
      "\u001b[34m\u001b[1mwandb\u001b[0m:   1 of 1 files downloaded.  \n"
     ]
    },
    {
     "name": "stdout",
     "output_type": "stream",
     "text": [
      "2025-04-21 03:47:59,950 - INFO - Downloaded logs_qjsqz1ej:v0 to /scratch/downloaded_artifacts/logs_qjsqz1ej:v0\n"
     ]
    },
    {
     "name": "stderr",
     "output_type": "stream",
     "text": [
      "\u001b[34m\u001b[1mwandb\u001b[0m:   1 of 1 files downloaded.  \n"
     ]
    },
    {
     "name": "stdout",
     "output_type": "stream",
     "text": [
      "2025-04-21 03:48:00,065 - INFO - Downloaded logs_rek6z4rg:v0 to /scratch/downloaded_artifacts/logs_rek6z4rg:v0\n"
     ]
    },
    {
     "name": "stderr",
     "output_type": "stream",
     "text": [
      "\u001b[34m\u001b[1mwandb\u001b[0m:   1 of 1 files downloaded.  \n"
     ]
    },
    {
     "name": "stdout",
     "output_type": "stream",
     "text": [
      "2025-04-21 03:48:00,513 - INFO - Downloaded logs_sgd1q96j:v0 to /scratch/downloaded_artifacts/logs_sgd1q96j:v0\n"
     ]
    },
    {
     "name": "stderr",
     "output_type": "stream",
     "text": [
      "\u001b[34m\u001b[1mwandb\u001b[0m:   1 of 1 files downloaded.  \n"
     ]
    },
    {
     "name": "stdout",
     "output_type": "stream",
     "text": [
      "2025-04-21 03:48:01,084 - INFO - Downloaded logs_sn3ybvue:v0 to /scratch/downloaded_artifacts/logs_sn3ybvue:v0\n"
     ]
    },
    {
     "name": "stderr",
     "output_type": "stream",
     "text": [
      "\u001b[34m\u001b[1mwandb\u001b[0m:   1 of 1 files downloaded.  \n"
     ]
    },
    {
     "name": "stdout",
     "output_type": "stream",
     "text": [
      "2025-04-21 03:48:01,418 - INFO - Downloaded logs_uksdnhxp:v0 to /scratch/downloaded_artifacts/logs_uksdnhxp:v0\n"
     ]
    },
    {
     "name": "stderr",
     "output_type": "stream",
     "text": [
      "\u001b[34m\u001b[1mwandb\u001b[0m:   1 of 1 files downloaded.  \n"
     ]
    },
    {
     "name": "stdout",
     "output_type": "stream",
     "text": [
      "2025-04-21 03:48:01,453 - INFO - Downloaded logs_tslthkwz:v0 to /scratch/downloaded_artifacts/logs_tslthkwz:v0\n"
     ]
    },
    {
     "name": "stderr",
     "output_type": "stream",
     "text": [
      "\u001b[34m\u001b[1mwandb\u001b[0m:   1 of 1 files downloaded.  \n"
     ]
    },
    {
     "name": "stdout",
     "output_type": "stream",
     "text": [
      "2025-04-21 03:48:01,490 - INFO - Downloaded logs_uxs30i7e:v0 to /scratch/downloaded_artifacts/logs_uxs30i7e:v0\n"
     ]
    },
    {
     "name": "stderr",
     "output_type": "stream",
     "text": [
      "\u001b[34m\u001b[1mwandb\u001b[0m:   1 of 1 files downloaded.  \n"
     ]
    },
    {
     "name": "stdout",
     "output_type": "stream",
     "text": [
      "2025-04-21 03:48:02,181 - INFO - Downloaded logs_zqf97rlv:v0 to /scratch/downloaded_artifacts/logs_zqf97rlv:v0\n"
     ]
    },
    {
     "name": "stderr",
     "output_type": "stream",
     "text": [
      "\u001b[34m\u001b[1mwandb\u001b[0m:   1 of 1 files downloaded.  \n"
     ]
    },
    {
     "name": "stdout",
     "output_type": "stream",
     "text": [
      "2025-04-21 03:48:02,247 - INFO - Downloaded logs_x389383k:v0 to /scratch/downloaded_artifacts/logs_x389383k:v0\n"
     ]
    },
    {
     "name": "stderr",
     "output_type": "stream",
     "text": [
      "\u001b[34m\u001b[1mwandb\u001b[0m:   1 of 1 files downloaded.  \n"
     ]
    },
    {
     "name": "stdout",
     "output_type": "stream",
     "text": [
      "2025-04-21 03:48:02,426 - INFO - Downloaded logs_yc0imuqg:v0 to /scratch/downloaded_artifacts/logs_yc0imuqg:v0\n"
     ]
    },
    {
     "name": "stderr",
     "output_type": "stream",
     "text": [
      "\u001b[34m\u001b[1mwandb\u001b[0m:   1 of 1 files downloaded.  \n"
     ]
    },
    {
     "name": "stdout",
     "output_type": "stream",
     "text": [
      "2025-04-21 03:48:02,614 - INFO - Downloaded logs_zoktvoho:v0 to /scratch/downloaded_artifacts/logs_zoktvoho:v0\n"
     ]
    },
    {
     "name": "stderr",
     "output_type": "stream",
     "text": [
      "\u001b[34m\u001b[1mwandb\u001b[0m:   1 of 1 files downloaded.  \n"
     ]
    },
    {
     "name": "stdout",
     "output_type": "stream",
     "text": [
      "2025-04-21 03:48:02,868 - INFO - Downloaded logs_iwsno2bi:v0 to /scratch/downloaded_artifacts/logs_iwsno2bi:v0\n"
     ]
    },
    {
     "name": "stderr",
     "output_type": "stream",
     "text": [
      "\u001b[34m\u001b[1mwandb\u001b[0m:   1 of 1 files downloaded.  \n"
     ]
    },
    {
     "name": "stdout",
     "output_type": "stream",
     "text": [
      "2025-04-21 03:48:02,998 - INFO - Downloaded logs_zwwj504f:v0 to /scratch/downloaded_artifacts/logs_zwwj504f:v0\n"
     ]
    },
    {
     "name": "stderr",
     "output_type": "stream",
     "text": [
      "\u001b[34m\u001b[1mwandb\u001b[0m:   1 of 1 files downloaded.  \n"
     ]
    },
    {
     "name": "stdout",
     "output_type": "stream",
     "text": [
      "2025-04-21 03:48:03,015 - INFO - Downloaded logs_6440uf5x:v0 to /scratch/downloaded_artifacts/logs_6440uf5x:v0\n"
     ]
    },
    {
     "name": "stderr",
     "output_type": "stream",
     "text": [
      "\u001b[34m\u001b[1mwandb\u001b[0m:   1 of 1 files downloaded.  \n"
     ]
    },
    {
     "name": "stdout",
     "output_type": "stream",
     "text": [
      "2025-04-21 03:48:03,189 - INFO - Downloaded logs_ulwwepl7:v0 to /scratch/downloaded_artifacts/logs_ulwwepl7:v0\n"
     ]
    },
    {
     "name": "stderr",
     "output_type": "stream",
     "text": [
      "\u001b[34m\u001b[1mwandb\u001b[0m:   1 of 1 files downloaded.  \n"
     ]
    },
    {
     "name": "stdout",
     "output_type": "stream",
     "text": [
      "2025-04-21 03:48:03,298 - INFO - Downloaded logs_rrdf5ehm:v0 to /scratch/downloaded_artifacts/logs_rrdf5ehm:v0\n"
     ]
    },
    {
     "name": "stderr",
     "output_type": "stream",
     "text": [
      "\u001b[34m\u001b[1mwandb\u001b[0m:   1 of 1 files downloaded.  \n"
     ]
    },
    {
     "name": "stdout",
     "output_type": "stream",
     "text": [
      "2025-04-21 03:48:03,306 - INFO - Downloaded logs_1ix19itg:v0 to /scratch/downloaded_artifacts/logs_1ix19itg:v0\n"
     ]
    },
    {
     "name": "stderr",
     "output_type": "stream",
     "text": [
      "\u001b[34m\u001b[1mwandb\u001b[0m:   1 of 1 files downloaded.  \n"
     ]
    },
    {
     "name": "stdout",
     "output_type": "stream",
     "text": [
      "2025-04-21 03:48:03,422 - INFO - Downloaded logs_0mvrbiub:v0 to /scratch/downloaded_artifacts/logs_0mvrbiub:v0\n"
     ]
    },
    {
     "name": "stderr",
     "output_type": "stream",
     "text": [
      "\u001b[34m\u001b[1mwandb\u001b[0m:   1 of 1 files downloaded.  \n"
     ]
    },
    {
     "name": "stdout",
     "output_type": "stream",
     "text": [
      "2025-04-21 03:48:03,477 - INFO - Downloaded logs_yl5cjfa7:v0 to /scratch/downloaded_artifacts/logs_yl5cjfa7:v0\n"
     ]
    },
    {
     "name": "stderr",
     "output_type": "stream",
     "text": [
      "\u001b[34m\u001b[1mwandb\u001b[0m:   1 of 1 files downloaded.  \n"
     ]
    },
    {
     "name": "stdout",
     "output_type": "stream",
     "text": [
      "2025-04-21 03:48:03,507 - INFO - Downloaded logs_10z63o1k:v0 to /scratch/downloaded_artifacts/logs_10z63o1k:v0\n"
     ]
    },
    {
     "name": "stderr",
     "output_type": "stream",
     "text": [
      "\u001b[34m\u001b[1mwandb\u001b[0m:   1 of 1 files downloaded.  \n"
     ]
    },
    {
     "name": "stdout",
     "output_type": "stream",
     "text": [
      "2025-04-21 03:48:03,514 - INFO - Downloaded logs_r4xuevgc:v0 to /scratch/downloaded_artifacts/logs_r4xuevgc:v0\n"
     ]
    },
    {
     "name": "stderr",
     "output_type": "stream",
     "text": [
      "\u001b[34m\u001b[1mwandb\u001b[0m:   1 of 1 files downloaded.  \n"
     ]
    },
    {
     "name": "stdout",
     "output_type": "stream",
     "text": [
      "2025-04-21 03:48:03,680 - INFO - Downloaded logs_30db4uui:v0 to /scratch/downloaded_artifacts/logs_30db4uui:v0\n"
     ]
    },
    {
     "name": "stderr",
     "output_type": "stream",
     "text": [
      "\u001b[34m\u001b[1mwandb\u001b[0m:   1 of 1 files downloaded.  \n"
     ]
    },
    {
     "name": "stdout",
     "output_type": "stream",
     "text": [
      "2025-04-21 03:48:03,712 - INFO - Downloaded logs_3gt95c0r:v0 to /scratch/downloaded_artifacts/logs_3gt95c0r:v0\n"
     ]
    },
    {
     "name": "stderr",
     "output_type": "stream",
     "text": [
      "\u001b[34m\u001b[1mwandb\u001b[0m:   1 of 1 files downloaded.  \n"
     ]
    },
    {
     "name": "stdout",
     "output_type": "stream",
     "text": [
      "2025-04-21 03:48:03,760 - INFO - Downloaded logs_drj8td6e:v0 to /scratch/downloaded_artifacts/logs_drj8td6e:v0\n"
     ]
    },
    {
     "name": "stderr",
     "output_type": "stream",
     "text": [
      "\u001b[34m\u001b[1mwandb\u001b[0m:   1 of 1 files downloaded.  \n"
     ]
    },
    {
     "name": "stdout",
     "output_type": "stream",
     "text": [
      "2025-04-21 03:48:03,879 - INFO - Downloaded logs_4hqk17y5:v0 to /scratch/downloaded_artifacts/logs_4hqk17y5:v0\n"
     ]
    },
    {
     "name": "stderr",
     "output_type": "stream",
     "text": [
      "\u001b[34m\u001b[1mwandb\u001b[0m:   1 of 1 files downloaded.  \n"
     ]
    },
    {
     "name": "stdout",
     "output_type": "stream",
     "text": [
      "2025-04-21 03:48:03,929 - INFO - Downloaded logs_4l79vosb:v0 to /scratch/downloaded_artifacts/logs_4l79vosb:v0\n"
     ]
    },
    {
     "name": "stderr",
     "output_type": "stream",
     "text": [
      "\u001b[34m\u001b[1mwandb\u001b[0m:   1 of 1 files downloaded.  \n"
     ]
    },
    {
     "name": "stdout",
     "output_type": "stream",
     "text": [
      "2025-04-21 03:48:04,014 - INFO - Downloaded logs_3tl8hag9:v0 to /scratch/downloaded_artifacts/logs_3tl8hag9:v0\n"
     ]
    },
    {
     "name": "stderr",
     "output_type": "stream",
     "text": [
      "\u001b[34m\u001b[1mwandb\u001b[0m:   1 of 1 files downloaded.  \n"
     ]
    },
    {
     "name": "stdout",
     "output_type": "stream",
     "text": [
      "2025-04-21 03:48:05,824 - INFO - Downloaded logs_7cy0aple:v0 to /scratch/downloaded_artifacts/logs_7cy0aple:v0\n"
     ]
    },
    {
     "name": "stderr",
     "output_type": "stream",
     "text": [
      "\u001b[34m\u001b[1mwandb\u001b[0m:   1 of 1 files downloaded.  \n"
     ]
    },
    {
     "name": "stdout",
     "output_type": "stream",
     "text": [
      "2025-04-21 03:48:05,859 - INFO - Downloaded logs_4m9we0rb:v0 to /scratch/downloaded_artifacts/logs_4m9we0rb:v0\n"
     ]
    },
    {
     "name": "stderr",
     "output_type": "stream",
     "text": [
      "\u001b[34m\u001b[1mwandb\u001b[0m:   1 of 1 files downloaded.  \n"
     ]
    },
    {
     "name": "stdout",
     "output_type": "stream",
     "text": [
      "2025-04-21 03:48:05,940 - INFO - Downloaded logs_5w5n4xg5:v0 to /scratch/downloaded_artifacts/logs_5w5n4xg5:v0\n"
     ]
    },
    {
     "name": "stderr",
     "output_type": "stream",
     "text": [
      "\u001b[34m\u001b[1mwandb\u001b[0m:   1 of 1 files downloaded.  \n"
     ]
    },
    {
     "name": "stdout",
     "output_type": "stream",
     "text": [
      "2025-04-21 03:48:07,225 - INFO - Downloaded logs_7f4brhuy:v0 to /scratch/downloaded_artifacts/logs_7f4brhuy:v0\n"
     ]
    },
    {
     "name": "stderr",
     "output_type": "stream",
     "text": [
      "\u001b[34m\u001b[1mwandb\u001b[0m:   1 of 1 files downloaded.  \n"
     ]
    },
    {
     "name": "stdout",
     "output_type": "stream",
     "text": [
      "2025-04-21 03:48:08,527 - INFO - Downloaded logs_kozydbio:v0 to /scratch/downloaded_artifacts/logs_kozydbio:v0\n"
     ]
    },
    {
     "name": "stderr",
     "output_type": "stream",
     "text": [
      "\u001b[34m\u001b[1mwandb\u001b[0m:   1 of 1 files downloaded.  \n"
     ]
    },
    {
     "name": "stdout",
     "output_type": "stream",
     "text": [
      "2025-04-21 03:48:08,880 - INFO - Downloaded logs_carv5g3l:v0 to /scratch/downloaded_artifacts/logs_carv5g3l:v0\n"
     ]
    },
    {
     "name": "stderr",
     "output_type": "stream",
     "text": [
      "\u001b[34m\u001b[1mwandb\u001b[0m:   1 of 1 files downloaded.  \n"
     ]
    },
    {
     "name": "stdout",
     "output_type": "stream",
     "text": [
      "2025-04-21 03:48:09,011 - INFO - Downloaded logs_hykqduwz:v0 to /scratch/downloaded_artifacts/logs_hykqduwz:v0\n"
     ]
    },
    {
     "name": "stderr",
     "output_type": "stream",
     "text": [
      "\u001b[34m\u001b[1mwandb\u001b[0m:   1 of 1 files downloaded.  \n"
     ]
    },
    {
     "name": "stdout",
     "output_type": "stream",
     "text": [
      "2025-04-21 03:48:09,457 - INFO - Downloaded logs_azxt25jd:v0 to /scratch/downloaded_artifacts/logs_azxt25jd:v0\n"
     ]
    },
    {
     "name": "stderr",
     "output_type": "stream",
     "text": [
      "\u001b[34m\u001b[1mwandb\u001b[0m:   1 of 1 files downloaded.  \n"
     ]
    },
    {
     "name": "stdout",
     "output_type": "stream",
     "text": [
      "2025-04-21 03:48:09,524 - INFO - Downloaded logs_8qde2upx:v0 to /scratch/downloaded_artifacts/logs_8qde2upx:v0\n"
     ]
    },
    {
     "name": "stderr",
     "output_type": "stream",
     "text": [
      "\u001b[34m\u001b[1mwandb\u001b[0m:   1 of 1 files downloaded.  \n"
     ]
    },
    {
     "name": "stdout",
     "output_type": "stream",
     "text": [
      "2025-04-21 03:48:09,584 - INFO - Downloaded logs_hn3m8s0f:v0 to /scratch/downloaded_artifacts/logs_hn3m8s0f:v0\n"
     ]
    },
    {
     "name": "stderr",
     "output_type": "stream",
     "text": [
      "\u001b[34m\u001b[1mwandb\u001b[0m:   1 of 1 files downloaded.  \n"
     ]
    },
    {
     "name": "stdout",
     "output_type": "stream",
     "text": [
      "2025-04-21 03:48:09,656 - INFO - Downloaded logs_8nevwi1b:v0 to /scratch/downloaded_artifacts/logs_8nevwi1b:v0\n"
     ]
    },
    {
     "name": "stderr",
     "output_type": "stream",
     "text": [
      "\u001b[34m\u001b[1mwandb\u001b[0m:   1 of 1 files downloaded.  \n"
     ]
    },
    {
     "name": "stdout",
     "output_type": "stream",
     "text": [
      "2025-04-21 03:48:09,737 - INFO - Downloaded logs_g9yadvtp:v0 to /scratch/downloaded_artifacts/logs_g9yadvtp:v0\n"
     ]
    },
    {
     "name": "stderr",
     "output_type": "stream",
     "text": [
      "\u001b[34m\u001b[1mwandb\u001b[0m:   1 of 1 files downloaded.  \n"
     ]
    },
    {
     "name": "stdout",
     "output_type": "stream",
     "text": [
      "2025-04-21 03:48:09,772 - INFO - Downloaded logs_7thqjb6n:v0 to /scratch/downloaded_artifacts/logs_7thqjb6n:v0\n"
     ]
    },
    {
     "name": "stderr",
     "output_type": "stream",
     "text": [
      "\u001b[34m\u001b[1mwandb\u001b[0m:   1 of 1 files downloaded.  \n"
     ]
    },
    {
     "name": "stdout",
     "output_type": "stream",
     "text": [
      "2025-04-21 03:48:10,107 - INFO - Downloaded logs_c1z6w39k:v0 to /scratch/downloaded_artifacts/logs_c1z6w39k:v0\n"
     ]
    },
    {
     "name": "stderr",
     "output_type": "stream",
     "text": [
      "\u001b[34m\u001b[1mwandb\u001b[0m:   1 of 1 files downloaded.  \n"
     ]
    },
    {
     "name": "stdout",
     "output_type": "stream",
     "text": [
      "2025-04-21 03:48:10,278 - INFO - Downloaded logs_f4abk9hs:v0 to /scratch/downloaded_artifacts/logs_f4abk9hs:v0\n"
     ]
    },
    {
     "name": "stderr",
     "output_type": "stream",
     "text": [
      "\u001b[34m\u001b[1mwandb\u001b[0m:   1 of 1 files downloaded.  \n"
     ]
    },
    {
     "name": "stdout",
     "output_type": "stream",
     "text": [
      "2025-04-21 03:48:10,357 - INFO - Downloaded logs_cojheucg:v0 to /scratch/downloaded_artifacts/logs_cojheucg:v0\n"
     ]
    },
    {
     "name": "stderr",
     "output_type": "stream",
     "text": [
      "\u001b[34m\u001b[1mwandb\u001b[0m:   1 of 1 files downloaded.  \n"
     ]
    },
    {
     "name": "stdout",
     "output_type": "stream",
     "text": [
      "2025-04-21 03:48:10,379 - INFO - Downloaded logs_9gb00pyq:v0 to /scratch/downloaded_artifacts/logs_9gb00pyq:v0\n"
     ]
    },
    {
     "name": "stderr",
     "output_type": "stream",
     "text": [
      "\u001b[34m\u001b[1mwandb\u001b[0m:   1 of 1 files downloaded.  \n"
     ]
    },
    {
     "name": "stdout",
     "output_type": "stream",
     "text": [
      "2025-04-21 03:48:10,538 - INFO - Downloaded logs_hvezyd5n:v0 to /scratch/downloaded_artifacts/logs_hvezyd5n:v0\n"
     ]
    },
    {
     "name": "stderr",
     "output_type": "stream",
     "text": [
      "\u001b[34m\u001b[1mwandb\u001b[0m:   1 of 1 files downloaded.  \n"
     ]
    },
    {
     "name": "stdout",
     "output_type": "stream",
     "text": [
      "2025-04-21 03:48:11,715 - INFO - Downloaded logs_ejeyxi9p:v0 to /scratch/downloaded_artifacts/logs_ejeyxi9p:v0\n"
     ]
    },
    {
     "name": "stderr",
     "output_type": "stream",
     "text": [
      "\u001b[34m\u001b[1mwandb\u001b[0m:   1 of 1 files downloaded.  \n"
     ]
    },
    {
     "name": "stdout",
     "output_type": "stream",
     "text": [
      "2025-04-21 03:48:11,880 - INFO - Downloaded logs_fw5zuvnu:v0 to /scratch/downloaded_artifacts/logs_fw5zuvnu:v0\n"
     ]
    },
    {
     "name": "stderr",
     "output_type": "stream",
     "text": [
      "\u001b[34m\u001b[1mwandb\u001b[0m:   1 of 1 files downloaded.  \n"
     ]
    },
    {
     "name": "stdout",
     "output_type": "stream",
     "text": [
      "2025-04-21 03:48:12,885 - INFO - Downloaded logs_kx3gbi1v:v0 to /scratch/downloaded_artifacts/logs_kx3gbi1v:v0\n"
     ]
    },
    {
     "name": "stderr",
     "output_type": "stream",
     "text": [
      "\u001b[34m\u001b[1mwandb\u001b[0m:   1 of 1 files downloaded.  \n"
     ]
    },
    {
     "name": "stdout",
     "output_type": "stream",
     "text": [
      "2025-04-21 03:48:13,197 - INFO - Downloaded logs_n047zgti:v0 to /scratch/downloaded_artifacts/logs_n047zgti:v0\n",
      "2025-04-21 03:48:13,291 - ERROR - Error downloading artifact for run uhs2zpu5: [Errno 28] No space left on device\n",
      "2025-04-21 03:48:13,291 - ERROR - Error downloading artifact for run oexor8r6: [Errno 28] No space left on device\n",
      "2025-04-21 03:48:13,299 - ERROR - Error downloading artifact for run sc6ninma: [Errno 28] No space left on device\n",
      "2025-04-21 03:48:13,306 - ERROR - Error downloading artifact for run t88isknb: [Errno 28] No space left on device\n",
      "2025-04-21 03:48:13,308 - ERROR - Error downloading artifact for run xc96ezrh: [Errno 28] No space left on device\n",
      "2025-04-21 03:48:13,308 - ERROR - Error downloading artifact for run tkh2th2m: [Errno 28] No space left on device\n",
      "2025-04-21 03:48:13,308 - ERROR - Error downloading artifact for run t7jpwdbe: [Errno 28] No space left on device\n",
      "2025-04-21 03:48:13,315 - ERROR - Error downloading artifact for run tzm8hbvr: [Errno 28] No space left on device\n",
      "2025-04-21 03:48:13,322 - ERROR - Error downloading artifact for run p68j09c5: [Errno 28] No space left on device\n",
      "2025-04-21 03:48:13,323 - ERROR - Error downloading artifact for run vgn500o5: [Errno 28] No space left on device\n",
      "2025-04-21 03:48:13,324 - ERROR - Error downloading artifact for run s3sk204g: [Errno 28] No space left on device\n",
      "2025-04-21 03:48:13,339 - ERROR - Error downloading artifact for run kwvluehh: [Errno 28] No space left on device\n",
      "2025-04-21 03:48:13,339 - ERROR - Error downloading artifact for run nk258iyx: [Errno 28] No space left on device\n",
      "2025-04-21 03:48:13,352 - ERROR - Error downloading artifact for run vlb546d4: [Errno 28] No space left on device\n",
      "2025-04-21 03:48:13,386 - ERROR - Error downloading artifact for run un9le84l: [Errno 28] No space left on device\n",
      "2025-04-21 03:48:13,386 - ERROR - Error downloading artifact for run po07i7iq: [Errno 28] No space left on device\n",
      "2025-04-21 03:48:13,387 - ERROR - Error downloading artifact for run w0ukmuc3: [Errno 28] No space left on device\n",
      "2025-04-21 03:48:13,388 - ERROR - Error downloading artifact for run syb04npf: [Errno 28] No space left on device\n"
     ]
    },
    {
     "name": "stderr",
     "output_type": "stream",
     "text": [
      "\u001b[34m\u001b[1mwandb\u001b[0m: \u001b[33mWARNING\u001b[0m Cache size exceeded. Attempting to reclaim space...\n",
      "\u001b[34m\u001b[1mwandb\u001b[0m: \u001b[33mWARNING\u001b[0m Cache size exceeded. Attempting to reclaim space...\n",
      "\u001b[34m\u001b[1mwandb\u001b[0m: \u001b[33mWARNING\u001b[0m Cache contains 23.0MB of temporary files. Run `wandb artifact cleanup --remove-temp` to remove them.\n",
      "\u001b[34m\u001b[1mwandb\u001b[0m: \u001b[33mWARNING\u001b[0m Cache contains 23.1MB of temporary files. Run `wandb artifact cleanup --remove-temp` to remove them.\n",
      "\u001b[34m\u001b[1mwandb\u001b[0m: \u001b[33mWARNING\u001b[0m Cache size exceeded. Attempting to reclaim space...\n",
      "\u001b[34m\u001b[1mwandb\u001b[0m: \u001b[33mWARNING\u001b[0m Cache contains 26.7MB of temporary files. Run `wandb artifact cleanup --remove-temp` to remove them.\n",
      "\u001b[34m\u001b[1mwandb\u001b[0m: \u001b[33mWARNING\u001b[0m Cache size exceeded. Attempting to reclaim space...\n",
      "\u001b[34m\u001b[1mwandb\u001b[0m: \u001b[33mWARNING\u001b[0m Cache size exceeded. Attempting to reclaim space...\n",
      "\u001b[34m\u001b[1mwandb\u001b[0m: \u001b[33mWARNING\u001b[0m Cache contains 32.7MB of temporary files. Run `wandb artifact cleanup --remove-temp` to remove them.\n",
      "\u001b[34m\u001b[1mwandb\u001b[0m: \u001b[33mWARNING\u001b[0m Cache contains 33.0MB of temporary files. Run `wandb artifact cleanup --remove-temp` to remove them.\n",
      "\u001b[34m\u001b[1mwandb\u001b[0m: \u001b[33mWARNING\u001b[0m Cache size exceeded. Attempting to reclaim space...\n",
      "\u001b[34m\u001b[1mwandb\u001b[0m: \u001b[33mWARNING\u001b[0m Cache contains 40.4MB of temporary files. Run `wandb artifact cleanup --remove-temp` to remove them.\n",
      "\u001b[34m\u001b[1mwandb\u001b[0m:   1 of 1 files downloaded.  \n"
     ]
    },
    {
     "name": "stdout",
     "output_type": "stream",
     "text": [
      "2025-04-21 03:48:16,113 - INFO - Downloaded logs_51hrbtph:v0 to /scratch/downloaded_artifacts/logs_51hrbtph:v0\n"
     ]
    },
    {
     "name": "stderr",
     "output_type": "stream",
     "text": [
      "\u001b[34m\u001b[1mwandb\u001b[0m:   1 of 1 files downloaded.  \n"
     ]
    },
    {
     "name": "stdout",
     "output_type": "stream",
     "text": [
      "2025-04-21 03:48:16,118 - INFO - Downloaded logs_a4xio0j5:v0 to /scratch/downloaded_artifacts/logs_a4xio0j5:v0\n"
     ]
    },
    {
     "name": "stderr",
     "output_type": "stream",
     "text": [
      "\u001b[34m\u001b[1mwandb\u001b[0m:   1 of 1 files downloaded.  \n"
     ]
    },
    {
     "name": "stdout",
     "output_type": "stream",
     "text": [
      "2025-04-21 03:48:16,143 - INFO - Downloaded logs_7xkhzfjn:v0 to /scratch/downloaded_artifacts/logs_7xkhzfjn:v0\n"
     ]
    },
    {
     "name": "stderr",
     "output_type": "stream",
     "text": [
      "\u001b[34m\u001b[1mwandb\u001b[0m:   1 of 1 files downloaded.  \n"
     ]
    },
    {
     "name": "stdout",
     "output_type": "stream",
     "text": [
      "2025-04-21 03:48:16,155 - INFO - Downloaded logs_6hiuuo9g:v0 to /scratch/downloaded_artifacts/logs_6hiuuo9g:v0\n"
     ]
    },
    {
     "name": "stderr",
     "output_type": "stream",
     "text": [
      "\u001b[34m\u001b[1mwandb\u001b[0m:   1 of 1 files downloaded.  \n"
     ]
    },
    {
     "name": "stdout",
     "output_type": "stream",
     "text": [
      "2025-04-21 03:48:16,228 - INFO - Downloaded logs_8dfty28y:v0 to /scratch/downloaded_artifacts/logs_8dfty28y:v0\n"
     ]
    },
    {
     "name": "stderr",
     "output_type": "stream",
     "text": [
      "\u001b[34m\u001b[1mwandb\u001b[0m:   1 of 1 files downloaded.  \n"
     ]
    },
    {
     "name": "stdout",
     "output_type": "stream",
     "text": [
      "2025-04-21 03:48:16,344 - INFO - Downloaded logs_y2lqpsw7:v0 to /scratch/downloaded_artifacts/logs_y2lqpsw7:v0\n"
     ]
    },
    {
     "name": "stderr",
     "output_type": "stream",
     "text": [
      "\u001b[34m\u001b[1mwandb\u001b[0m:   1 of 1 files downloaded.  \n"
     ]
    },
    {
     "name": "stdout",
     "output_type": "stream",
     "text": [
      "2025-04-21 03:48:17,466 - INFO - Downloaded logs_c2vhvds9:v0 to /scratch/downloaded_artifacts/logs_c2vhvds9:v0\n"
     ]
    },
    {
     "name": "stderr",
     "output_type": "stream",
     "text": [
      "\u001b[34m\u001b[1mwandb\u001b[0m:   1 of 1 files downloaded.  \n"
     ]
    },
    {
     "name": "stdout",
     "output_type": "stream",
     "text": [
      "2025-04-21 03:48:17,575 - INFO - Downloaded logs_c9dz4u5i:v0 to /scratch/downloaded_artifacts/logs_c9dz4u5i:v0\n"
     ]
    },
    {
     "name": "stderr",
     "output_type": "stream",
     "text": [
      "\u001b[34m\u001b[1mwandb\u001b[0m:   1 of 1 files downloaded.  \n"
     ]
    },
    {
     "name": "stdout",
     "output_type": "stream",
     "text": [
      "2025-04-21 03:48:17,609 - INFO - Downloaded logs_chvja0k7:v0 to /scratch/downloaded_artifacts/logs_chvja0k7:v0\n"
     ]
    },
    {
     "name": "stderr",
     "output_type": "stream",
     "text": [
      "\u001b[34m\u001b[1mwandb\u001b[0m:   1 of 1 files downloaded.  \n"
     ]
    },
    {
     "name": "stdout",
     "output_type": "stream",
     "text": [
      "2025-04-21 03:48:17,703 - INFO - Downloaded logs_i3qmx0yb:v0 to /scratch/downloaded_artifacts/logs_i3qmx0yb:v0\n"
     ]
    },
    {
     "name": "stderr",
     "output_type": "stream",
     "text": [
      "\u001b[34m\u001b[1mwandb\u001b[0m:   1 of 1 files downloaded.  \n"
     ]
    },
    {
     "name": "stdout",
     "output_type": "stream",
     "text": [
      "2025-04-21 03:48:17,814 - INFO - Downloaded logs_e142xhfp:v0 to /scratch/downloaded_artifacts/logs_e142xhfp:v0\n"
     ]
    },
    {
     "name": "stderr",
     "output_type": "stream",
     "text": [
      "\u001b[34m\u001b[1mwandb\u001b[0m:   1 of 1 files downloaded.  \n"
     ]
    },
    {
     "name": "stdout",
     "output_type": "stream",
     "text": [
      "2025-04-21 03:48:18,285 - INFO - Downloaded logs_ii8ltyph:v0 to /scratch/downloaded_artifacts/logs_ii8ltyph:v0\n"
     ]
    },
    {
     "name": "stderr",
     "output_type": "stream",
     "text": [
      "\u001b[34m\u001b[1mwandb\u001b[0m:   1 of 1 files downloaded.  \n"
     ]
    },
    {
     "name": "stdout",
     "output_type": "stream",
     "text": [
      "2025-04-21 03:48:18,894 - INFO - Downloaded logs_jeza7xw4:v0 to /scratch/downloaded_artifacts/logs_jeza7xw4:v0\n"
     ]
    },
    {
     "name": "stderr",
     "output_type": "stream",
     "text": [
      "\u001b[34m\u001b[1mwandb\u001b[0m:   1 of 1 files downloaded.  \n"
     ]
    },
    {
     "name": "stdout",
     "output_type": "stream",
     "text": [
      "2025-04-21 03:48:19,038 - INFO - Downloaded logs_k1ba55rn:v0 to /scratch/downloaded_artifacts/logs_k1ba55rn:v0\n"
     ]
    },
    {
     "name": "stderr",
     "output_type": "stream",
     "text": [
      "\u001b[34m\u001b[1mwandb\u001b[0m:   1 of 1 files downloaded.  \n"
     ]
    },
    {
     "name": "stdout",
     "output_type": "stream",
     "text": [
      "2025-04-21 03:48:19,179 - INFO - Downloaded logs_k0ty1yw8:v0 to /scratch/downloaded_artifacts/logs_k0ty1yw8:v0\n"
     ]
    },
    {
     "name": "stderr",
     "output_type": "stream",
     "text": [
      "\u001b[34m\u001b[1mwandb\u001b[0m:   1 of 1 files downloaded.  \n"
     ]
    },
    {
     "name": "stdout",
     "output_type": "stream",
     "text": [
      "2025-04-21 03:48:19,513 - INFO - Downloaded logs_kb12do85:v0 to /scratch/downloaded_artifacts/logs_kb12do85:v0\n"
     ]
    },
    {
     "name": "stderr",
     "output_type": "stream",
     "text": [
      "\u001b[34m\u001b[1mwandb\u001b[0m:   1 of 1 files downloaded.  \n"
     ]
    },
    {
     "name": "stdout",
     "output_type": "stream",
     "text": [
      "2025-04-21 03:48:19,676 - INFO - Downloaded logs_l7p0djsv:v0 to /scratch/downloaded_artifacts/logs_l7p0djsv:v0\n"
     ]
    },
    {
     "name": "stderr",
     "output_type": "stream",
     "text": [
      "\u001b[34m\u001b[1mwandb\u001b[0m:   1 of 1 files downloaded.  \n"
     ]
    },
    {
     "name": "stdout",
     "output_type": "stream",
     "text": [
      "2025-04-21 03:48:20,247 - INFO - Downloaded logs_lzszgc4i:v0 to /scratch/downloaded_artifacts/logs_lzszgc4i:v0\n"
     ]
    },
    {
     "name": "stderr",
     "output_type": "stream",
     "text": [
      "\u001b[34m\u001b[1mwandb\u001b[0m:   1 of 1 files downloaded.  \n"
     ]
    },
    {
     "name": "stdout",
     "output_type": "stream",
     "text": [
      "2025-04-21 03:48:20,634 - INFO - Downloaded logs_o0z3go9n:v0 to /scratch/downloaded_artifacts/logs_o0z3go9n:v0\n"
     ]
    },
    {
     "name": "stderr",
     "output_type": "stream",
     "text": [
      "\u001b[34m\u001b[1mwandb\u001b[0m:   1 of 1 files downloaded.  \n"
     ]
    },
    {
     "name": "stdout",
     "output_type": "stream",
     "text": [
      "2025-04-21 03:48:20,872 - INFO - Downloaded logs_ps46is8a:v0 to /scratch/downloaded_artifacts/logs_ps46is8a:v0\n"
     ]
    },
    {
     "name": "stderr",
     "output_type": "stream",
     "text": [
      "\u001b[34m\u001b[1mwandb\u001b[0m:   1 of 1 files downloaded.  \n"
     ]
    },
    {
     "name": "stdout",
     "output_type": "stream",
     "text": [
      "2025-04-21 03:48:20,951 - INFO - Downloaded logs_q2ns5dn1:v0 to /scratch/downloaded_artifacts/logs_q2ns5dn1:v0\n"
     ]
    },
    {
     "name": "stderr",
     "output_type": "stream",
     "text": [
      "\u001b[34m\u001b[1mwandb\u001b[0m:   1 of 1 files downloaded.  \n"
     ]
    },
    {
     "name": "stdout",
     "output_type": "stream",
     "text": [
      "2025-04-21 03:48:21,140 - INFO - Downloaded logs_qfrmegzm:v0 to /scratch/downloaded_artifacts/logs_qfrmegzm:v0\n"
     ]
    },
    {
     "name": "stderr",
     "output_type": "stream",
     "text": [
      "\u001b[34m\u001b[1mwandb\u001b[0m:   1 of 1 files downloaded.  \n"
     ]
    },
    {
     "name": "stdout",
     "output_type": "stream",
     "text": [
      "2025-04-21 03:48:21,326 - INFO - Downloaded logs_uxjll8yb:v0 to /scratch/downloaded_artifacts/logs_uxjll8yb:v0\n"
     ]
    },
    {
     "name": "stderr",
     "output_type": "stream",
     "text": [
      "\u001b[34m\u001b[1mwandb\u001b[0m:   1 of 1 files downloaded.  \n"
     ]
    },
    {
     "name": "stdout",
     "output_type": "stream",
     "text": [
      "2025-04-21 03:48:21,644 - INFO - Downloaded logs_w3t8c01i:v0 to /scratch/downloaded_artifacts/logs_w3t8c01i:v0\n"
     ]
    },
    {
     "name": "stderr",
     "output_type": "stream",
     "text": [
      "\u001b[34m\u001b[1mwandb\u001b[0m:   1 of 1 files downloaded.  \n"
     ]
    },
    {
     "name": "stdout",
     "output_type": "stream",
     "text": [
      "2025-04-21 03:48:22,074 - INFO - Downloaded logs_waspqrmp:v0 to /scratch/downloaded_artifacts/logs_waspqrmp:v0\n"
     ]
    },
    {
     "name": "stderr",
     "output_type": "stream",
     "text": [
      "\u001b[34m\u001b[1mwandb\u001b[0m:   1 of 1 files downloaded.  \n"
     ]
    },
    {
     "name": "stdout",
     "output_type": "stream",
     "text": [
      "2025-04-21 03:48:22,250 - INFO - Downloaded logs_xl3o8m40:v0 to /scratch/downloaded_artifacts/logs_xl3o8m40:v0\n"
     ]
    },
    {
     "name": "stderr",
     "output_type": "stream",
     "text": [
      "\u001b[34m\u001b[1mwandb\u001b[0m:   1 of 1 files downloaded.  \n"
     ]
    },
    {
     "name": "stdout",
     "output_type": "stream",
     "text": [
      "2025-04-21 03:48:22,390 - INFO - Downloaded logs_1r56zhj2:v0 to /scratch/downloaded_artifacts/logs_1r56zhj2:v0\n"
     ]
    },
    {
     "name": "stderr",
     "output_type": "stream",
     "text": [
      "\u001b[34m\u001b[1mwandb\u001b[0m:   1 of 1 files downloaded.  \n"
     ]
    },
    {
     "name": "stdout",
     "output_type": "stream",
     "text": [
      "2025-04-21 03:48:22,726 - INFO - Downloaded logs_251disqq:v0 to /scratch/downloaded_artifacts/logs_251disqq:v0\n"
     ]
    },
    {
     "name": "stderr",
     "output_type": "stream",
     "text": [
      "\u001b[34m\u001b[1mwandb\u001b[0m:   1 of 1 files downloaded.  \n"
     ]
    },
    {
     "name": "stdout",
     "output_type": "stream",
     "text": [
      "2025-04-21 03:48:22,787 - INFO - Downloaded logs_2op565lt:v0 to /scratch/downloaded_artifacts/logs_2op565lt:v0\n"
     ]
    },
    {
     "name": "stderr",
     "output_type": "stream",
     "text": [
      "\u001b[34m\u001b[1mwandb\u001b[0m:   1 of 1 files downloaded.  \n"
     ]
    },
    {
     "name": "stdout",
     "output_type": "stream",
     "text": [
      "2025-04-21 03:48:23,284 - INFO - Downloaded logs_3ids44kd:v0 to /scratch/downloaded_artifacts/logs_3ids44kd:v0\n"
     ]
    },
    {
     "name": "stderr",
     "output_type": "stream",
     "text": [
      "\u001b[34m\u001b[1mwandb\u001b[0m:   1 of 1 files downloaded.  \n"
     ]
    },
    {
     "name": "stdout",
     "output_type": "stream",
     "text": [
      "2025-04-21 03:48:24,006 - INFO - Downloaded logs_4wtsxvrl:v0 to /scratch/downloaded_artifacts/logs_4wtsxvrl:v0\n"
     ]
    },
    {
     "name": "stderr",
     "output_type": "stream",
     "text": [
      "\u001b[34m\u001b[1mwandb\u001b[0m:   1 of 1 files downloaded.  \n"
     ]
    },
    {
     "name": "stdout",
     "output_type": "stream",
     "text": [
      "2025-04-21 03:48:24,027 - INFO - Downloaded logs_4koveiv6:v0 to /scratch/downloaded_artifacts/logs_4koveiv6:v0\n"
     ]
    },
    {
     "name": "stderr",
     "output_type": "stream",
     "text": [
      "\u001b[34m\u001b[1mwandb\u001b[0m:   1 of 1 files downloaded.  \n"
     ]
    },
    {
     "name": "stdout",
     "output_type": "stream",
     "text": [
      "2025-04-21 03:48:24,449 - INFO - Downloaded logs_6ggggkld:v0 to /scratch/downloaded_artifacts/logs_6ggggkld:v0\n"
     ]
    },
    {
     "name": "stderr",
     "output_type": "stream",
     "text": [
      "\u001b[34m\u001b[1mwandb\u001b[0m:   1 of 1 files downloaded.  \n"
     ]
    },
    {
     "name": "stdout",
     "output_type": "stream",
     "text": [
      "2025-04-21 03:48:45,042 - INFO - Downloaded logs_6nf97cu1:v0 to /scratch/downloaded_artifacts/logs_6nf97cu1:v0\n"
     ]
    },
    {
     "name": "stderr",
     "output_type": "stream",
     "text": [
      "\u001b[34m\u001b[1mwandb\u001b[0m:   1 of 1 files downloaded.  \n"
     ]
    },
    {
     "name": "stdout",
     "output_type": "stream",
     "text": [
      "2025-04-21 03:48:45,123 - INFO - Downloaded logs_7dgriwhh:v0 to /scratch/downloaded_artifacts/logs_7dgriwhh:v0\n"
     ]
    },
    {
     "name": "stderr",
     "output_type": "stream",
     "text": [
      "\u001b[34m\u001b[1mwandb\u001b[0m:   1 of 1 files downloaded.  \n"
     ]
    },
    {
     "name": "stdout",
     "output_type": "stream",
     "text": [
      "2025-04-21 03:48:45,311 - INFO - Downloaded logs_yqu6gu8e:v0 to /scratch/downloaded_artifacts/logs_yqu6gu8e:v0\n"
     ]
    },
    {
     "name": "stderr",
     "output_type": "stream",
     "text": [
      "\u001b[34m\u001b[1mwandb\u001b[0m:   1 of 1 files downloaded.  \n"
     ]
    },
    {
     "name": "stdout",
     "output_type": "stream",
     "text": [
      "2025-04-21 03:48:45,885 - INFO - Downloaded logs_7eq87sxy:v0 to /scratch/downloaded_artifacts/logs_7eq87sxy:v0\n"
     ]
    },
    {
     "name": "stderr",
     "output_type": "stream",
     "text": [
      "\u001b[34m\u001b[1mwandb\u001b[0m:   1 of 1 files downloaded.  \n"
     ]
    },
    {
     "name": "stdout",
     "output_type": "stream",
     "text": [
      "2025-04-21 03:48:46,254 - INFO - Downloaded logs_j41y97bt:v0 to /scratch/downloaded_artifacts/logs_j41y97bt:v0\n"
     ]
    },
    {
     "name": "stderr",
     "output_type": "stream",
     "text": [
      "\u001b[34m\u001b[1mwandb\u001b[0m:   1 of 1 files downloaded.  \n"
     ]
    },
    {
     "name": "stdout",
     "output_type": "stream",
     "text": [
      "2025-04-21 03:48:46,286 - INFO - Downloaded logs_4piz29n9:v0 to /scratch/downloaded_artifacts/logs_4piz29n9:v0\n"
     ]
    },
    {
     "name": "stderr",
     "output_type": "stream",
     "text": [
      "\u001b[34m\u001b[1mwandb\u001b[0m:   1 of 1 files downloaded.  \n"
     ]
    },
    {
     "name": "stdout",
     "output_type": "stream",
     "text": [
      "2025-04-21 03:48:46,330 - INFO - Downloaded logs_9457dr9z:v0 to /scratch/downloaded_artifacts/logs_9457dr9z:v0\n"
     ]
    },
    {
     "name": "stderr",
     "output_type": "stream",
     "text": [
      "\u001b[34m\u001b[1mwandb\u001b[0m:   1 of 1 files downloaded.  \n"
     ]
    },
    {
     "name": "stdout",
     "output_type": "stream",
     "text": [
      "2025-04-21 03:48:46,362 - INFO - Downloaded logs_kqjg4zie:v0 to /scratch/downloaded_artifacts/logs_kqjg4zie:v0\n"
     ]
    },
    {
     "name": "stderr",
     "output_type": "stream",
     "text": [
      "\u001b[34m\u001b[1mwandb\u001b[0m:   1 of 1 files downloaded.  \n"
     ]
    },
    {
     "name": "stdout",
     "output_type": "stream",
     "text": [
      "2025-04-21 03:48:46,405 - INFO - Downloaded logs_wtwniutb:v0 to /scratch/downloaded_artifacts/logs_wtwniutb:v0\n"
     ]
    },
    {
     "name": "stderr",
     "output_type": "stream",
     "text": [
      "\u001b[34m\u001b[1mwandb\u001b[0m:   1 of 1 files downloaded.  \n"
     ]
    },
    {
     "name": "stdout",
     "output_type": "stream",
     "text": [
      "2025-04-21 03:48:46,432 - INFO - Downloaded logs_m7sqt2dn:v0 to /scratch/downloaded_artifacts/logs_m7sqt2dn:v0\n"
     ]
    },
    {
     "name": "stderr",
     "output_type": "stream",
     "text": [
      "\u001b[34m\u001b[1mwandb\u001b[0m:   1 of 1 files downloaded.  \n"
     ]
    },
    {
     "name": "stdout",
     "output_type": "stream",
     "text": [
      "2025-04-21 03:48:46,517 - INFO - Downloaded logs_tzkfllom:v0 to /scratch/downloaded_artifacts/logs_tzkfllom:v0\n"
     ]
    },
    {
     "name": "stderr",
     "output_type": "stream",
     "text": [
      "\u001b[34m\u001b[1mwandb\u001b[0m:   1 of 1 files downloaded.  \n"
     ]
    },
    {
     "name": "stdout",
     "output_type": "stream",
     "text": [
      "2025-04-21 03:48:46,578 - INFO - Downloaded logs_9v1k56t9:v0 to /scratch/downloaded_artifacts/logs_9v1k56t9:v0\n"
     ]
    },
    {
     "name": "stderr",
     "output_type": "stream",
     "text": [
      "\u001b[34m\u001b[1mwandb\u001b[0m:   1 of 1 files downloaded.  \n"
     ]
    },
    {
     "name": "stdout",
     "output_type": "stream",
     "text": [
      "2025-04-21 03:48:46,597 - INFO - Downloaded logs_swxi2jld:v0 to /scratch/downloaded_artifacts/logs_swxi2jld:v0\n"
     ]
    },
    {
     "name": "stderr",
     "output_type": "stream",
     "text": [
      "\u001b[34m\u001b[1mwandb\u001b[0m:   1 of 1 files downloaded.  \n"
     ]
    },
    {
     "name": "stdout",
     "output_type": "stream",
     "text": [
      "2025-04-21 03:48:46,608 - INFO - Downloaded logs_jvluamch:v0 to /scratch/downloaded_artifacts/logs_jvluamch:v0\n"
     ]
    },
    {
     "name": "stderr",
     "output_type": "stream",
     "text": [
      "\u001b[34m\u001b[1mwandb\u001b[0m:   1 of 1 files downloaded.  \n",
      "\u001b[34m\u001b[1mwandb\u001b[0m:   1 of 1 files downloaded.  \n"
     ]
    },
    {
     "name": "stdout",
     "output_type": "stream",
     "text": [
      "2025-04-21 03:48:46,620 - INFO - Downloaded logs_ow403n5u:v0 to /scratch/downloaded_artifacts/logs_ow403n5u:v0\n",
      "2025-04-21 03:48:46,623 - INFO - Downloaded logs_yy7le2qv:v0 to /scratch/downloaded_artifacts/logs_yy7le2qv:v0\n"
     ]
    },
    {
     "name": "stderr",
     "output_type": "stream",
     "text": [
      "\u001b[34m\u001b[1mwandb\u001b[0m:   1 of 1 files downloaded.  \n"
     ]
    },
    {
     "name": "stdout",
     "output_type": "stream",
     "text": [
      "2025-04-21 03:48:46,645 - INFO - Downloaded logs_xni34lzx:v0 to /scratch/downloaded_artifacts/logs_xni34lzx:v0\n"
     ]
    },
    {
     "name": "stderr",
     "output_type": "stream",
     "text": [
      "\u001b[34m\u001b[1mwandb\u001b[0m:   1 of 1 files downloaded.  \n"
     ]
    },
    {
     "name": "stdout",
     "output_type": "stream",
     "text": [
      "2025-04-21 03:48:46,654 - INFO - Downloaded logs_6tzbqgac:v0 to /scratch/downloaded_artifacts/logs_6tzbqgac:v0\n"
     ]
    },
    {
     "name": "stderr",
     "output_type": "stream",
     "text": [
      "\u001b[34m\u001b[1mwandb\u001b[0m:   1 of 1 files downloaded.  \n"
     ]
    },
    {
     "name": "stdout",
     "output_type": "stream",
     "text": [
      "2025-04-21 03:48:46,703 - INFO - Downloaded logs_9gwnp7eh:v0 to /scratch/downloaded_artifacts/logs_9gwnp7eh:v0\n"
     ]
    },
    {
     "name": "stderr",
     "output_type": "stream",
     "text": [
      "\u001b[34m\u001b[1mwandb\u001b[0m:   1 of 1 files downloaded.  \n"
     ]
    },
    {
     "name": "stdout",
     "output_type": "stream",
     "text": [
      "2025-04-21 03:48:46,846 - INFO - Downloaded logs_akinitka:v0 to /scratch/downloaded_artifacts/logs_akinitka:v0\n"
     ]
    },
    {
     "name": "stderr",
     "output_type": "stream",
     "text": [
      "\u001b[34m\u001b[1mwandb\u001b[0m:   1 of 1 files downloaded.  \n"
     ]
    },
    {
     "name": "stdout",
     "output_type": "stream",
     "text": [
      "2025-04-21 03:48:47,178 - INFO - Downloaded logs_bksxwdp1:v0 to /scratch/downloaded_artifacts/logs_bksxwdp1:v0\n"
     ]
    },
    {
     "name": "stderr",
     "output_type": "stream",
     "text": [
      "\u001b[34m\u001b[1mwandb\u001b[0m:   1 of 1 files downloaded.  \n"
     ]
    },
    {
     "name": "stdout",
     "output_type": "stream",
     "text": [
      "2025-04-21 03:48:47,214 - INFO - Downloaded logs_c2apmyo2:v0 to /scratch/downloaded_artifacts/logs_c2apmyo2:v0\n"
     ]
    },
    {
     "name": "stderr",
     "output_type": "stream",
     "text": [
      "\u001b[34m\u001b[1mwandb\u001b[0m:   1 of 1 files downloaded.  \n"
     ]
    },
    {
     "name": "stdout",
     "output_type": "stream",
     "text": [
      "2025-04-21 03:48:47,399 - INFO - Downloaded logs_c91y8bm6:v0 to /scratch/downloaded_artifacts/logs_c91y8bm6:v0\n"
     ]
    },
    {
     "name": "stderr",
     "output_type": "stream",
     "text": [
      "\u001b[34m\u001b[1mwandb\u001b[0m:   1 of 1 files downloaded.  \n"
     ]
    },
    {
     "name": "stdout",
     "output_type": "stream",
     "text": [
      "2025-04-21 03:48:47,739 - INFO - Downloaded logs_cf1jx05v:v0 to /scratch/downloaded_artifacts/logs_cf1jx05v:v0\n"
     ]
    },
    {
     "name": "stderr",
     "output_type": "stream",
     "text": [
      "\u001b[34m\u001b[1mwandb\u001b[0m:   1 of 1 files downloaded.  \n"
     ]
    },
    {
     "name": "stdout",
     "output_type": "stream",
     "text": [
      "2025-04-21 03:48:48,520 - INFO - Downloaded logs_delxb2pu:v0 to /scratch/downloaded_artifacts/logs_delxb2pu:v0\n"
     ]
    },
    {
     "name": "stderr",
     "output_type": "stream",
     "text": [
      "\u001b[34m\u001b[1mwandb\u001b[0m:   1 of 1 files downloaded.  \n"
     ]
    },
    {
     "name": "stdout",
     "output_type": "stream",
     "text": [
      "2025-04-21 03:48:48,529 - INFO - Downloaded logs_d9fcb7r3:v0 to /scratch/downloaded_artifacts/logs_d9fcb7r3:v0\n"
     ]
    },
    {
     "name": "stderr",
     "output_type": "stream",
     "text": [
      "\u001b[34m\u001b[1mwandb\u001b[0m:   1 of 1 files downloaded.  \n"
     ]
    },
    {
     "name": "stdout",
     "output_type": "stream",
     "text": [
      "2025-04-21 03:48:48,815 - INFO - Downloaded logs_ex8sik4r:v0 to /scratch/downloaded_artifacts/logs_ex8sik4r:v0\n"
     ]
    },
    {
     "name": "stderr",
     "output_type": "stream",
     "text": [
      "\u001b[34m\u001b[1mwandb\u001b[0m:   1 of 1 files downloaded.  \n"
     ]
    },
    {
     "name": "stdout",
     "output_type": "stream",
     "text": [
      "2025-04-21 03:48:48,920 - INFO - Downloaded logs_dol0upxh:v0 to /scratch/downloaded_artifacts/logs_dol0upxh:v0\n"
     ]
    },
    {
     "name": "stderr",
     "output_type": "stream",
     "text": [
      "\u001b[34m\u001b[1mwandb\u001b[0m:   1 of 1 files downloaded.  \n"
     ]
    },
    {
     "name": "stdout",
     "output_type": "stream",
     "text": [
      "2025-04-21 03:48:48,957 - INFO - Downloaded logs_dnz8sqr1:v0 to /scratch/downloaded_artifacts/logs_dnz8sqr1:v0\n"
     ]
    },
    {
     "name": "stderr",
     "output_type": "stream",
     "text": [
      "\u001b[34m\u001b[1mwandb\u001b[0m:   1 of 1 files downloaded.  \n"
     ]
    },
    {
     "name": "stdout",
     "output_type": "stream",
     "text": [
      "2025-04-21 03:48:48,970 - INFO - Downloaded logs_fux864u5:v0 to /scratch/downloaded_artifacts/logs_fux864u5:v0\n"
     ]
    },
    {
     "name": "stderr",
     "output_type": "stream",
     "text": [
      "\u001b[34m\u001b[1mwandb\u001b[0m:   1 of 1 files downloaded.  \n"
     ]
    },
    {
     "name": "stdout",
     "output_type": "stream",
     "text": [
      "2025-04-21 03:48:49,202 - INFO - Downloaded logs_kts9mdjx:v0 to /scratch/downloaded_artifacts/logs_kts9mdjx:v0\n"
     ]
    },
    {
     "name": "stderr",
     "output_type": "stream",
     "text": [
      "\u001b[34m\u001b[1mwandb\u001b[0m:   1 of 1 files downloaded.  \n"
     ]
    },
    {
     "name": "stdout",
     "output_type": "stream",
     "text": [
      "2025-04-21 03:48:49,241 - INFO - Downloaded logs_nhzqo3uw:v0 to /scratch/downloaded_artifacts/logs_nhzqo3uw:v0\n"
     ]
    },
    {
     "name": "stderr",
     "output_type": "stream",
     "text": [
      "\u001b[34m\u001b[1mwandb\u001b[0m:   1 of 1 files downloaded.  \n"
     ]
    },
    {
     "name": "stdout",
     "output_type": "stream",
     "text": [
      "2025-04-21 03:48:49,270 - INFO - Downloaded logs_ux8air03:v0 to /scratch/downloaded_artifacts/logs_ux8air03:v0\n"
     ]
    },
    {
     "name": "stderr",
     "output_type": "stream",
     "text": [
      "\u001b[34m\u001b[1mwandb\u001b[0m:   1 of 1 files downloaded.  \n"
     ]
    },
    {
     "name": "stdout",
     "output_type": "stream",
     "text": [
      "2025-04-21 03:48:49,283 - INFO - Downloaded logs_sg9g470m:v0 to /scratch/downloaded_artifacts/logs_sg9g470m:v0\n"
     ]
    },
    {
     "name": "stderr",
     "output_type": "stream",
     "text": [
      "\u001b[34m\u001b[1mwandb\u001b[0m:   1 of 1 files downloaded.  \n"
     ]
    },
    {
     "name": "stdout",
     "output_type": "stream",
     "text": [
      "2025-04-21 03:48:49,322 - INFO - Downloaded logs_qr9lbv9o:v0 to /scratch/downloaded_artifacts/logs_qr9lbv9o:v0\n"
     ]
    },
    {
     "name": "stderr",
     "output_type": "stream",
     "text": [
      "\u001b[34m\u001b[1mwandb\u001b[0m:   1 of 1 files downloaded.  \n"
     ]
    },
    {
     "name": "stdout",
     "output_type": "stream",
     "text": [
      "2025-04-21 03:48:49,358 - INFO - Downloaded logs_vf0x78we:v0 to /scratch/downloaded_artifacts/logs_vf0x78we:v0\n"
     ]
    },
    {
     "name": "stderr",
     "output_type": "stream",
     "text": [
      "\u001b[34m\u001b[1mwandb\u001b[0m:   1 of 1 files downloaded.  \n"
     ]
    },
    {
     "name": "stdout",
     "output_type": "stream",
     "text": [
      "2025-04-21 03:48:49,372 - INFO - Downloaded logs_rxijv0ut:v0 to /scratch/downloaded_artifacts/logs_rxijv0ut:v0\n"
     ]
    },
    {
     "name": "stderr",
     "output_type": "stream",
     "text": [
      "\u001b[34m\u001b[1mwandb\u001b[0m:   1 of 1 files downloaded.  \n",
      "\u001b[34m\u001b[1mwandb\u001b[0m:   1 of 1 files downloaded.  \n"
     ]
    },
    {
     "name": "stdout",
     "output_type": "stream",
     "text": [
      "2025-04-21 03:48:49,435 - INFO - Downloaded logs_u28iqrq3:v0 to /scratch/downloaded_artifacts/logs_u28iqrq3:v0\n",
      "2025-04-21 03:48:49,436 - INFO - Downloaded logs_mfn1y3bn:v0 to /scratch/downloaded_artifacts/logs_mfn1y3bn:v0\n"
     ]
    },
    {
     "name": "stderr",
     "output_type": "stream",
     "text": [
      "\u001b[34m\u001b[1mwandb\u001b[0m:   1 of 1 files downloaded.  \n"
     ]
    },
    {
     "name": "stdout",
     "output_type": "stream",
     "text": [
      "2025-04-21 03:48:49,488 - INFO - Downloaded logs_viota552:v0 to /scratch/downloaded_artifacts/logs_viota552:v0\n"
     ]
    },
    {
     "name": "stderr",
     "output_type": "stream",
     "text": [
      "\u001b[34m\u001b[1mwandb\u001b[0m:   1 of 1 files downloaded.  \n"
     ]
    },
    {
     "name": "stdout",
     "output_type": "stream",
     "text": [
      "2025-04-21 03:48:49,688 - INFO - Downloaded logs_w3b2937l:v0 to /scratch/downloaded_artifacts/logs_w3b2937l:v0\n"
     ]
    },
    {
     "name": "stderr",
     "output_type": "stream",
     "text": [
      "\u001b[34m\u001b[1mwandb\u001b[0m:   1 of 1 files downloaded.  \n"
     ]
    },
    {
     "name": "stdout",
     "output_type": "stream",
     "text": [
      "2025-04-21 03:48:49,784 - INFO - Downloaded logs_wlg1u29j:v0 to /scratch/downloaded_artifacts/logs_wlg1u29j:v0\n"
     ]
    },
    {
     "name": "stderr",
     "output_type": "stream",
     "text": [
      "\u001b[34m\u001b[1mwandb\u001b[0m:   1 of 1 files downloaded.  \n"
     ]
    },
    {
     "name": "stdout",
     "output_type": "stream",
     "text": [
      "2025-04-21 03:48:49,908 - INFO - Downloaded logs_z7cgyi9g:v0 to /scratch/downloaded_artifacts/logs_z7cgyi9g:v0\n"
     ]
    },
    {
     "name": "stderr",
     "output_type": "stream",
     "text": [
      "\u001b[34m\u001b[1mwandb\u001b[0m:   1 of 1 files downloaded.  \n"
     ]
    },
    {
     "name": "stdout",
     "output_type": "stream",
     "text": [
      "2025-04-21 03:48:50,003 - INFO - Downloaded logs_0xmp30t7:v0 to /scratch/downloaded_artifacts/logs_0xmp30t7:v0\n"
     ]
    },
    {
     "name": "stderr",
     "output_type": "stream",
     "text": [
      "\u001b[34m\u001b[1mwandb\u001b[0m:   1 of 1 files downloaded.  \n"
     ]
    },
    {
     "name": "stdout",
     "output_type": "stream",
     "text": [
      "2025-04-21 03:48:50,445 - INFO - Downloaded logs_7ekj2thz:v0 to /scratch/downloaded_artifacts/logs_7ekj2thz:v0\n"
     ]
    },
    {
     "name": "stderr",
     "output_type": "stream",
     "text": [
      "\u001b[34m\u001b[1mwandb\u001b[0m:   1 of 1 files downloaded.  \n"
     ]
    },
    {
     "name": "stdout",
     "output_type": "stream",
     "text": [
      "2025-04-21 03:48:50,500 - INFO - Downloaded logs_92sxgpcp:v0 to /scratch/downloaded_artifacts/logs_92sxgpcp:v0\n"
     ]
    },
    {
     "name": "stderr",
     "output_type": "stream",
     "text": [
      "\u001b[34m\u001b[1mwandb\u001b[0m:   1 of 1 files downloaded.  \n"
     ]
    },
    {
     "name": "stdout",
     "output_type": "stream",
     "text": [
      "2025-04-21 03:48:50,976 - INFO - Downloaded logs_lkb0oe6v:v0 to /scratch/downloaded_artifacts/logs_lkb0oe6v:v0\n"
     ]
    },
    {
     "name": "stderr",
     "output_type": "stream",
     "text": [
      "\u001b[34m\u001b[1mwandb\u001b[0m:   1 of 1 files downloaded.  \n"
     ]
    },
    {
     "name": "stdout",
     "output_type": "stream",
     "text": [
      "2025-04-21 03:48:51,007 - INFO - Downloaded logs_0nay7dhy:v0 to /scratch/downloaded_artifacts/logs_0nay7dhy:v0\n"
     ]
    },
    {
     "name": "stderr",
     "output_type": "stream",
     "text": [
      "\u001b[34m\u001b[1mwandb\u001b[0m:   1 of 1 files downloaded.  \n"
     ]
    },
    {
     "name": "stdout",
     "output_type": "stream",
     "text": [
      "2025-04-21 03:48:51,287 - INFO - Downloaded logs_0x63uhon:v0 to /scratch/downloaded_artifacts/logs_0x63uhon:v0\n"
     ]
    },
    {
     "name": "stderr",
     "output_type": "stream",
     "text": [
      "\u001b[34m\u001b[1mwandb\u001b[0m:   1 of 1 files downloaded.  \n"
     ]
    },
    {
     "name": "stdout",
     "output_type": "stream",
     "text": [
      "2025-04-21 03:48:51,414 - INFO - Downloaded logs_wlnam24z:v0 to /scratch/downloaded_artifacts/logs_wlnam24z:v0\n"
     ]
    },
    {
     "name": "stderr",
     "output_type": "stream",
     "text": [
      "\u001b[34m\u001b[1mwandb\u001b[0m:   1 of 1 files downloaded.  \n"
     ]
    },
    {
     "name": "stdout",
     "output_type": "stream",
     "text": [
      "2025-04-21 03:48:51,655 - INFO - Downloaded logs_0zh8jbii:v0 to /scratch/downloaded_artifacts/logs_0zh8jbii:v0\n"
     ]
    },
    {
     "name": "stderr",
     "output_type": "stream",
     "text": [
      "\u001b[34m\u001b[1mwandb\u001b[0m:   1 of 1 files downloaded.  \n"
     ]
    },
    {
     "name": "stdout",
     "output_type": "stream",
     "text": [
      "2025-04-21 03:48:51,676 - INFO - Downloaded logs_1euzepcg:v0 to /scratch/downloaded_artifacts/logs_1euzepcg:v0\n"
     ]
    },
    {
     "name": "stderr",
     "output_type": "stream",
     "text": [
      "\u001b[34m\u001b[1mwandb\u001b[0m:   1 of 1 files downloaded.  \n"
     ]
    },
    {
     "name": "stdout",
     "output_type": "stream",
     "text": [
      "2025-04-21 03:48:51,698 - INFO - Downloaded logs_1tzthzro:v0 to /scratch/downloaded_artifacts/logs_1tzthzro:v0\n"
     ]
    },
    {
     "name": "stderr",
     "output_type": "stream",
     "text": [
      "\u001b[34m\u001b[1mwandb\u001b[0m:   1 of 1 files downloaded.  \n"
     ]
    },
    {
     "name": "stdout",
     "output_type": "stream",
     "text": [
      "2025-04-21 03:48:51,812 - INFO - Downloaded logs_2nwojikx:v0 to /scratch/downloaded_artifacts/logs_2nwojikx:v0\n"
     ]
    },
    {
     "name": "stderr",
     "output_type": "stream",
     "text": [
      "\u001b[34m\u001b[1mwandb\u001b[0m:   1 of 1 files downloaded.  \n"
     ]
    },
    {
     "name": "stdout",
     "output_type": "stream",
     "text": [
      "2025-04-21 03:48:51,822 - INFO - Downloaded logs_2njybcdo:v0 to /scratch/downloaded_artifacts/logs_2njybcdo:v0\n"
     ]
    },
    {
     "name": "stderr",
     "output_type": "stream",
     "text": [
      "\u001b[34m\u001b[1mwandb\u001b[0m:   1 of 1 files downloaded.  \n"
     ]
    },
    {
     "name": "stdout",
     "output_type": "stream",
     "text": [
      "2025-04-21 03:48:51,828 - INFO - Downloaded logs_48641mqq:v0 to /scratch/downloaded_artifacts/logs_48641mqq:v0\n"
     ]
    },
    {
     "name": "stderr",
     "output_type": "stream",
     "text": [
      "\u001b[34m\u001b[1mwandb\u001b[0m:   1 of 1 files downloaded.  \n"
     ]
    },
    {
     "name": "stdout",
     "output_type": "stream",
     "text": [
      "2025-04-21 03:48:52,001 - INFO - Downloaded logs_3flbeumi:v0 to /scratch/downloaded_artifacts/logs_3flbeumi:v0\n"
     ]
    },
    {
     "name": "stderr",
     "output_type": "stream",
     "text": [
      "\u001b[34m\u001b[1mwandb\u001b[0m:   1 of 1 files downloaded.  \n",
      "\u001b[34m\u001b[1mwandb\u001b[0m:   1 of 1 files downloaded.  \n"
     ]
    },
    {
     "name": "stdout",
     "output_type": "stream",
     "text": [
      "2025-04-21 03:48:52,166 - INFO - Downloaded logs_4w5htw5d:v0 to /scratch/downloaded_artifacts/logs_4w5htw5d:v0\n",
      "2025-04-21 03:48:52,171 - INFO - Downloaded logs_508cqugq:v0 to /scratch/downloaded_artifacts/logs_508cqugq:v0\n"
     ]
    },
    {
     "name": "stderr",
     "output_type": "stream",
     "text": [
      "\u001b[34m\u001b[1mwandb\u001b[0m:   1 of 1 files downloaded.  \n"
     ]
    },
    {
     "name": "stdout",
     "output_type": "stream",
     "text": [
      "2025-04-21 03:48:52,254 - INFO - Downloaded logs_4xs381ks:v0 to /scratch/downloaded_artifacts/logs_4xs381ks:v0\n"
     ]
    },
    {
     "name": "stderr",
     "output_type": "stream",
     "text": [
      "\u001b[34m\u001b[1mwandb\u001b[0m:   1 of 1 files downloaded.  \n"
     ]
    },
    {
     "name": "stdout",
     "output_type": "stream",
     "text": [
      "2025-04-21 03:48:52,316 - INFO - Downloaded logs_56h3m84d:v0 to /scratch/downloaded_artifacts/logs_56h3m84d:v0\n"
     ]
    },
    {
     "name": "stderr",
     "output_type": "stream",
     "text": [
      "\u001b[34m\u001b[1mwandb\u001b[0m:   1 of 1 files downloaded.  \n"
     ]
    },
    {
     "name": "stdout",
     "output_type": "stream",
     "text": [
      "2025-04-21 03:48:52,455 - INFO - Downloaded logs_5dfkx33s:v0 to /scratch/downloaded_artifacts/logs_5dfkx33s:v0\n"
     ]
    },
    {
     "name": "stderr",
     "output_type": "stream",
     "text": [
      "\u001b[34m\u001b[1mwandb\u001b[0m:   1 of 1 files downloaded.  \n"
     ]
    },
    {
     "name": "stdout",
     "output_type": "stream",
     "text": [
      "2025-04-21 03:48:52,491 - INFO - Downloaded logs_63gb7vwe:v0 to /scratch/downloaded_artifacts/logs_63gb7vwe:v0\n"
     ]
    },
    {
     "name": "stderr",
     "output_type": "stream",
     "text": [
      "\u001b[34m\u001b[1mwandb\u001b[0m:   1 of 1 files downloaded.  \n"
     ]
    },
    {
     "name": "stdout",
     "output_type": "stream",
     "text": [
      "2025-04-21 03:48:52,497 - INFO - Downloaded logs_5x0fm77k:v0 to /scratch/downloaded_artifacts/logs_5x0fm77k:v0\n"
     ]
    },
    {
     "name": "stderr",
     "output_type": "stream",
     "text": [
      "\u001b[34m\u001b[1mwandb\u001b[0m:   1 of 1 files downloaded.  \n"
     ]
    },
    {
     "name": "stdout",
     "output_type": "stream",
     "text": [
      "2025-04-21 03:48:52,817 - INFO - Downloaded logs_6hv2ri4g:v0 to /scratch/downloaded_artifacts/logs_6hv2ri4g:v0\n"
     ]
    },
    {
     "name": "stderr",
     "output_type": "stream",
     "text": [
      "\u001b[34m\u001b[1mwandb\u001b[0m:   1 of 1 files downloaded.  \n"
     ]
    },
    {
     "name": "stdout",
     "output_type": "stream",
     "text": [
      "2025-04-21 03:48:52,947 - INFO - Downloaded logs_6ru1b018:v0 to /scratch/downloaded_artifacts/logs_6ru1b018:v0\n"
     ]
    },
    {
     "name": "stderr",
     "output_type": "stream",
     "text": [
      "\u001b[34m\u001b[1mwandb\u001b[0m:   1 of 1 files downloaded.  \n"
     ]
    },
    {
     "name": "stdout",
     "output_type": "stream",
     "text": [
      "2025-04-21 03:48:53,572 - INFO - Downloaded logs_75gjq2yk:v0 to /scratch/downloaded_artifacts/logs_75gjq2yk:v0\n"
     ]
    },
    {
     "name": "stderr",
     "output_type": "stream",
     "text": [
      "\u001b[34m\u001b[1mwandb\u001b[0m:   1 of 1 files downloaded.  \n"
     ]
    },
    {
     "name": "stdout",
     "output_type": "stream",
     "text": [
      "2025-04-21 03:48:53,734 - INFO - Downloaded logs_8gcb0ox4:v0 to /scratch/downloaded_artifacts/logs_8gcb0ox4:v0\n"
     ]
    },
    {
     "name": "stderr",
     "output_type": "stream",
     "text": [
      "\u001b[34m\u001b[1mwandb\u001b[0m:   1 of 1 files downloaded.  \n"
     ]
    },
    {
     "name": "stdout",
     "output_type": "stream",
     "text": [
      "2025-04-21 03:48:53,983 - INFO - Downloaded logs_8lpl87mt:v0 to /scratch/downloaded_artifacts/logs_8lpl87mt:v0\n"
     ]
    },
    {
     "name": "stderr",
     "output_type": "stream",
     "text": [
      "\u001b[34m\u001b[1mwandb\u001b[0m:   1 of 1 files downloaded.  \n"
     ]
    },
    {
     "name": "stdout",
     "output_type": "stream",
     "text": [
      "2025-04-21 03:48:54,058 - INFO - Downloaded logs_8ztmmv3d:v0 to /scratch/downloaded_artifacts/logs_8ztmmv3d:v0\n"
     ]
    },
    {
     "name": "stderr",
     "output_type": "stream",
     "text": [
      "\u001b[34m\u001b[1mwandb\u001b[0m:   1 of 1 files downloaded.  \n"
     ]
    },
    {
     "name": "stdout",
     "output_type": "stream",
     "text": [
      "2025-04-21 03:48:54,524 - INFO - Downloaded logs_aymzzqol:v0 to /scratch/downloaded_artifacts/logs_aymzzqol:v0\n"
     ]
    },
    {
     "name": "stderr",
     "output_type": "stream",
     "text": [
      "\u001b[34m\u001b[1mwandb\u001b[0m:   1 of 1 files downloaded.  \n"
     ]
    },
    {
     "name": "stdout",
     "output_type": "stream",
     "text": [
      "2025-04-21 03:48:54,642 - INFO - Downloaded logs_bor3v39e:v0 to /scratch/downloaded_artifacts/logs_bor3v39e:v0\n"
     ]
    },
    {
     "name": "stderr",
     "output_type": "stream",
     "text": [
      "\u001b[34m\u001b[1mwandb\u001b[0m:   1 of 1 files downloaded.  \n"
     ]
    },
    {
     "name": "stdout",
     "output_type": "stream",
     "text": [
      "2025-04-21 03:48:55,122 - INFO - Downloaded logs_bzqza4j3:v0 to /scratch/downloaded_artifacts/logs_bzqza4j3:v0\n"
     ]
    },
    {
     "name": "stderr",
     "output_type": "stream",
     "text": [
      "\u001b[34m\u001b[1mwandb\u001b[0m:   1 of 1 files downloaded.  \n",
      "\u001b[34m\u001b[1mwandb\u001b[0m:   1 of 1 files downloaded.  \n"
     ]
    },
    {
     "name": "stdout",
     "output_type": "stream",
     "text": [
      "2025-04-21 03:48:55,204 - INFO - Downloaded logs_dgi91zrc:v0 to /scratch/downloaded_artifacts/logs_dgi91zrc:v0\n"
     ]
    },
    {
     "name": "stderr",
     "output_type": "stream",
     "text": [
      "\u001b[34m\u001b[1mwandb\u001b[0m:   1 of 1 files downloaded.  \n"
     ]
    },
    {
     "name": "stdout",
     "output_type": "stream",
     "text": [
      "2025-04-21 03:48:55,209 - INFO - Downloaded logs_ctow9tje:v0 to /scratch/downloaded_artifacts/logs_ctow9tje:v0\n",
      "2025-04-21 03:48:55,213 - INFO - Downloaded logs_cw2sv0w4:v0 to /scratch/downloaded_artifacts/logs_cw2sv0w4:v0\n"
     ]
    },
    {
     "name": "stderr",
     "output_type": "stream",
     "text": [
      "\u001b[34m\u001b[1mwandb\u001b[0m:   1 of 1 files downloaded.  \n"
     ]
    },
    {
     "name": "stdout",
     "output_type": "stream",
     "text": [
      "2025-04-21 03:48:55,231 - INFO - Downloaded logs_d9sgp4j4:v0 to /scratch/downloaded_artifacts/logs_d9sgp4j4:v0\n"
     ]
    },
    {
     "name": "stderr",
     "output_type": "stream",
     "text": [
      "\u001b[34m\u001b[1mwandb\u001b[0m:   1 of 1 files downloaded.  \n"
     ]
    },
    {
     "name": "stdout",
     "output_type": "stream",
     "text": [
      "2025-04-21 03:48:55,461 - INFO - Downloaded logs_eouqpgta:v0 to /scratch/downloaded_artifacts/logs_eouqpgta:v0\n"
     ]
    },
    {
     "name": "stderr",
     "output_type": "stream",
     "text": [
      "\u001b[34m\u001b[1mwandb\u001b[0m:   1 of 1 files downloaded.  \n"
     ]
    },
    {
     "name": "stdout",
     "output_type": "stream",
     "text": [
      "2025-04-21 03:48:55,469 - INFO - Downloaded logs_iipeaqeo:v0 to /scratch/downloaded_artifacts/logs_iipeaqeo:v0\n"
     ]
    },
    {
     "name": "stderr",
     "output_type": "stream",
     "text": [
      "\u001b[34m\u001b[1mwandb\u001b[0m:   1 of 1 files downloaded.  \n"
     ]
    },
    {
     "name": "stdout",
     "output_type": "stream",
     "text": [
      "2025-04-21 03:48:55,506 - INFO - Downloaded logs_f7s8v8qr:v0 to /scratch/downloaded_artifacts/logs_f7s8v8qr:v0\n"
     ]
    },
    {
     "name": "stderr",
     "output_type": "stream",
     "text": [
      "\u001b[34m\u001b[1mwandb\u001b[0m:   1 of 1 files downloaded.  \n"
     ]
    },
    {
     "name": "stdout",
     "output_type": "stream",
     "text": [
      "2025-04-21 03:48:55,513 - INFO - Downloaded logs_fws1qi8t:v0 to /scratch/downloaded_artifacts/logs_fws1qi8t:v0\n"
     ]
    },
    {
     "name": "stderr",
     "output_type": "stream",
     "text": [
      "\u001b[34m\u001b[1mwandb\u001b[0m:   1 of 1 files downloaded.  \n"
     ]
    },
    {
     "name": "stdout",
     "output_type": "stream",
     "text": [
      "2025-04-21 03:48:55,557 - INFO - Downloaded logs_edvd5oqb:v0 to /scratch/downloaded_artifacts/logs_edvd5oqb:v0\n"
     ]
    },
    {
     "name": "stderr",
     "output_type": "stream",
     "text": [
      "\u001b[34m\u001b[1mwandb\u001b[0m:   1 of 1 files downloaded.  \n"
     ]
    },
    {
     "name": "stdout",
     "output_type": "stream",
     "text": [
      "2025-04-21 03:48:55,583 - INFO - Downloaded logs_hcitx7zn:v0 to /scratch/downloaded_artifacts/logs_hcitx7zn:v0\n"
     ]
    },
    {
     "name": "stderr",
     "output_type": "stream",
     "text": [
      "\u001b[34m\u001b[1mwandb\u001b[0m:   1 of 1 files downloaded.  \n"
     ]
    },
    {
     "name": "stdout",
     "output_type": "stream",
     "text": [
      "2025-04-21 03:48:55,995 - INFO - Downloaded logs_jyq36xid:v0 to /scratch/downloaded_artifacts/logs_jyq36xid:v0\n"
     ]
    },
    {
     "name": "stderr",
     "output_type": "stream",
     "text": [
      "\u001b[34m\u001b[1mwandb\u001b[0m:   1 of 1 files downloaded.  \n"
     ]
    },
    {
     "name": "stdout",
     "output_type": "stream",
     "text": [
      "2025-04-21 03:48:56,013 - INFO - Downloaded logs_ifts614r:v0 to /scratch/downloaded_artifacts/logs_ifts614r:v0\n"
     ]
    },
    {
     "name": "stderr",
     "output_type": "stream",
     "text": [
      "\u001b[34m\u001b[1mwandb\u001b[0m:   1 of 1 files downloaded.  \n"
     ]
    },
    {
     "name": "stdout",
     "output_type": "stream",
     "text": [
      "2025-04-21 03:48:56,082 - INFO - Downloaded logs_l70c93o0:v0 to /scratch/downloaded_artifacts/logs_l70c93o0:v0\n"
     ]
    },
    {
     "name": "stderr",
     "output_type": "stream",
     "text": [
      "\u001b[34m\u001b[1mwandb\u001b[0m:   1 of 1 files downloaded.  \n"
     ]
    },
    {
     "name": "stdout",
     "output_type": "stream",
     "text": [
      "2025-04-21 03:48:56,319 - INFO - Downloaded logs_lg9t0al3:v0 to /scratch/downloaded_artifacts/logs_lg9t0al3:v0\n"
     ]
    },
    {
     "name": "stderr",
     "output_type": "stream",
     "text": [
      "\u001b[34m\u001b[1mwandb\u001b[0m:   1 of 1 files downloaded.  \n"
     ]
    },
    {
     "name": "stdout",
     "output_type": "stream",
     "text": [
      "2025-04-21 03:48:56,397 - INFO - Downloaded logs_lmeydcu9:v0 to /scratch/downloaded_artifacts/logs_lmeydcu9:v0\n"
     ]
    },
    {
     "name": "stderr",
     "output_type": "stream",
     "text": [
      "\u001b[34m\u001b[1mwandb\u001b[0m:   1 of 1 files downloaded.  \n"
     ]
    },
    {
     "name": "stdout",
     "output_type": "stream",
     "text": [
      "2025-04-21 03:48:56,552 - INFO - Downloaded logs_me329b9p:v0 to /scratch/downloaded_artifacts/logs_me329b9p:v0\n"
     ]
    },
    {
     "name": "stderr",
     "output_type": "stream",
     "text": [
      "\u001b[34m\u001b[1mwandb\u001b[0m:   1 of 1 files downloaded.  \n"
     ]
    },
    {
     "name": "stdout",
     "output_type": "stream",
     "text": [
      "2025-04-21 03:48:56,636 - INFO - Downloaded logs_ms3z1o98:v0 to /scratch/downloaded_artifacts/logs_ms3z1o98:v0\n"
     ]
    },
    {
     "name": "stderr",
     "output_type": "stream",
     "text": [
      "\u001b[34m\u001b[1mwandb\u001b[0m:   1 of 1 files downloaded.  \n"
     ]
    },
    {
     "name": "stdout",
     "output_type": "stream",
     "text": [
      "2025-04-21 03:48:56,990 - INFO - Downloaded logs_n4ekf8zm:v0 to /scratch/downloaded_artifacts/logs_n4ekf8zm:v0\n"
     ]
    },
    {
     "name": "stderr",
     "output_type": "stream",
     "text": [
      "\u001b[34m\u001b[1mwandb\u001b[0m:   1 of 1 files downloaded.  \n"
     ]
    },
    {
     "name": "stdout",
     "output_type": "stream",
     "text": [
      "2025-04-21 03:48:57,113 - INFO - Downloaded logs_nweljmk2:v0 to /scratch/downloaded_artifacts/logs_nweljmk2:v0\n"
     ]
    },
    {
     "name": "stderr",
     "output_type": "stream",
     "text": [
      "\u001b[34m\u001b[1mwandb\u001b[0m:   1 of 1 files downloaded.  \n"
     ]
    },
    {
     "name": "stdout",
     "output_type": "stream",
     "text": [
      "2025-04-21 03:48:57,743 - INFO - Downloaded logs_ocd1m4z2:v0 to /scratch/downloaded_artifacts/logs_ocd1m4z2:v0\n"
     ]
    },
    {
     "name": "stderr",
     "output_type": "stream",
     "text": [
      "\u001b[34m\u001b[1mwandb\u001b[0m:   1 of 1 files downloaded.  \n"
     ]
    },
    {
     "name": "stdout",
     "output_type": "stream",
     "text": [
      "2025-04-21 03:48:57,803 - INFO - Downloaded logs_oxroxlhz:v0 to /scratch/downloaded_artifacts/logs_oxroxlhz:v0\n"
     ]
    },
    {
     "name": "stderr",
     "output_type": "stream",
     "text": [
      "\u001b[34m\u001b[1mwandb\u001b[0m:   1 of 1 files downloaded.  \n"
     ]
    },
    {
     "name": "stdout",
     "output_type": "stream",
     "text": [
      "2025-04-21 03:48:57,879 - INFO - Downloaded logs_u2ljaqtx:v0 to /scratch/downloaded_artifacts/logs_u2ljaqtx:v0\n"
     ]
    },
    {
     "name": "stderr",
     "output_type": "stream",
     "text": [
      "\u001b[34m\u001b[1mwandb\u001b[0m:   1 of 1 files downloaded.  \n"
     ]
    },
    {
     "name": "stdout",
     "output_type": "stream",
     "text": [
      "2025-04-21 03:48:57,954 - INFO - Downloaded logs_t7cxhcqh:v0 to /scratch/downloaded_artifacts/logs_t7cxhcqh:v0\n"
     ]
    },
    {
     "name": "stderr",
     "output_type": "stream",
     "text": [
      "\u001b[34m\u001b[1mwandb\u001b[0m:   1 of 1 files downloaded.  \n"
     ]
    },
    {
     "name": "stdout",
     "output_type": "stream",
     "text": [
      "2025-04-21 03:48:58,064 - INFO - Downloaded logs_qytvbo16:v0 to /scratch/downloaded_artifacts/logs_qytvbo16:v0\n"
     ]
    },
    {
     "name": "stderr",
     "output_type": "stream",
     "text": [
      "\u001b[34m\u001b[1mwandb\u001b[0m:   1 of 1 files downloaded.  \n"
     ]
    },
    {
     "name": "stdout",
     "output_type": "stream",
     "text": [
      "2025-04-21 03:48:58,101 - INFO - Downloaded logs_u6rnqtbu:v0 to /scratch/downloaded_artifacts/logs_u6rnqtbu:v0\n"
     ]
    },
    {
     "name": "stderr",
     "output_type": "stream",
     "text": [
      "\u001b[34m\u001b[1mwandb\u001b[0m:   1 of 1 files downloaded.  \n"
     ]
    },
    {
     "name": "stdout",
     "output_type": "stream",
     "text": [
      "2025-04-21 03:48:58,168 - INFO - Downloaded logs_08k0io5d:v0 to /scratch/downloaded_artifacts/logs_08k0io5d:v0\n"
     ]
    },
    {
     "name": "stderr",
     "output_type": "stream",
     "text": [
      "\u001b[34m\u001b[1mwandb\u001b[0m:   1 of 1 files downloaded.  \n"
     ]
    },
    {
     "name": "stdout",
     "output_type": "stream",
     "text": [
      "2025-04-21 03:48:58,231 - INFO - Downloaded logs_vxq7j5py:v0 to /scratch/downloaded_artifacts/logs_vxq7j5py:v0\n"
     ]
    },
    {
     "name": "stderr",
     "output_type": "stream",
     "text": [
      "\u001b[34m\u001b[1mwandb\u001b[0m:   1 of 1 files downloaded.  \n"
     ]
    },
    {
     "name": "stdout",
     "output_type": "stream",
     "text": [
      "2025-04-21 03:48:58,299 - INFO - Downloaded logs_ybn1be2o:v0 to /scratch/downloaded_artifacts/logs_ybn1be2o:v0\n"
     ]
    },
    {
     "name": "stderr",
     "output_type": "stream",
     "text": [
      "\u001b[34m\u001b[1mwandb\u001b[0m:   1 of 1 files downloaded.  \n"
     ]
    },
    {
     "name": "stdout",
     "output_type": "stream",
     "text": [
      "2025-04-21 03:48:58,346 - INFO - Downloaded logs_0x58mcqm:v0 to /scratch/downloaded_artifacts/logs_0x58mcqm:v0\n"
     ]
    },
    {
     "name": "stderr",
     "output_type": "stream",
     "text": [
      "\u001b[34m\u001b[1mwandb\u001b[0m:   1 of 1 files downloaded.  \n"
     ]
    },
    {
     "name": "stdout",
     "output_type": "stream",
     "text": [
      "2025-04-21 03:48:58,405 - INFO - Downloaded logs_yqwdib47:v0 to /scratch/downloaded_artifacts/logs_yqwdib47:v0\n"
     ]
    },
    {
     "name": "stderr",
     "output_type": "stream",
     "text": [
      "\u001b[34m\u001b[1mwandb\u001b[0m:   1 of 1 files downloaded.  \n"
     ]
    },
    {
     "name": "stdout",
     "output_type": "stream",
     "text": [
      "2025-04-21 03:48:58,694 - INFO - Downloaded logs_15500hei:v0 to /scratch/downloaded_artifacts/logs_15500hei:v0\n"
     ]
    },
    {
     "name": "stderr",
     "output_type": "stream",
     "text": [
      "\u001b[34m\u001b[1mwandb\u001b[0m:   1 of 1 files downloaded.  \n"
     ]
    },
    {
     "name": "stdout",
     "output_type": "stream",
     "text": [
      "2025-04-21 03:48:58,747 - INFO - Downloaded logs_6mph8ff4:v0 to /scratch/downloaded_artifacts/logs_6mph8ff4:v0\n"
     ]
    },
    {
     "name": "stderr",
     "output_type": "stream",
     "text": [
      "\u001b[34m\u001b[1mwandb\u001b[0m:   1 of 1 files downloaded.  \n"
     ]
    },
    {
     "name": "stdout",
     "output_type": "stream",
     "text": [
      "2025-04-21 03:48:58,835 - INFO - Downloaded logs_ckb91z6t:v0 to /scratch/downloaded_artifacts/logs_ckb91z6t:v0\n"
     ]
    },
    {
     "name": "stderr",
     "output_type": "stream",
     "text": [
      "\u001b[34m\u001b[1mwandb\u001b[0m:   1 of 1 files downloaded.  \n"
     ]
    },
    {
     "name": "stdout",
     "output_type": "stream",
     "text": [
      "2025-04-21 03:48:58,972 - INFO - Downloaded logs_h2nno4kn:v0 to /scratch/downloaded_artifacts/logs_h2nno4kn:v0\n"
     ]
    },
    {
     "name": "stderr",
     "output_type": "stream",
     "text": [
      "\u001b[34m\u001b[1mwandb\u001b[0m:   1 of 1 files downloaded.  \n"
     ]
    },
    {
     "name": "stdout",
     "output_type": "stream",
     "text": [
      "2025-04-21 03:48:59,149 - INFO - Downloaded logs_15t4n4dt:v0 to /scratch/downloaded_artifacts/logs_15t4n4dt:v0\n"
     ]
    },
    {
     "name": "stderr",
     "output_type": "stream",
     "text": [
      "\u001b[34m\u001b[1mwandb\u001b[0m:   1 of 1 files downloaded.  \n"
     ]
    },
    {
     "name": "stdout",
     "output_type": "stream",
     "text": [
      "2025-04-21 03:48:59,220 - INFO - Downloaded logs_kpm4evrg:v0 to /scratch/downloaded_artifacts/logs_kpm4evrg:v0\n"
     ]
    },
    {
     "name": "stderr",
     "output_type": "stream",
     "text": [
      "\u001b[34m\u001b[1mwandb\u001b[0m:   1 of 1 files downloaded.  \n"
     ]
    },
    {
     "name": "stdout",
     "output_type": "stream",
     "text": [
      "2025-04-21 03:48:59,240 - INFO - Downloaded logs_ssu43g39:v0 to /scratch/downloaded_artifacts/logs_ssu43g39:v0\n"
     ]
    },
    {
     "name": "stderr",
     "output_type": "stream",
     "text": [
      "\u001b[34m\u001b[1mwandb\u001b[0m:   1 of 1 files downloaded.  \n"
     ]
    },
    {
     "name": "stdout",
     "output_type": "stream",
     "text": [
      "2025-04-21 03:48:59,552 - INFO - Downloaded logs_xiibgflq:v0 to /scratch/downloaded_artifacts/logs_xiibgflq:v0\n"
     ]
    },
    {
     "name": "stderr",
     "output_type": "stream",
     "text": [
      "\u001b[34m\u001b[1mwandb\u001b[0m:   1 of 1 files downloaded.  \n"
     ]
    },
    {
     "name": "stdout",
     "output_type": "stream",
     "text": [
      "2025-04-21 03:48:59,612 - INFO - Downloaded logs_ygjgxahs:v0 to /scratch/downloaded_artifacts/logs_ygjgxahs:v0\n"
     ]
    },
    {
     "name": "stderr",
     "output_type": "stream",
     "text": [
      "\u001b[34m\u001b[1mwandb\u001b[0m:   1 of 1 files downloaded.  \n"
     ]
    },
    {
     "name": "stdout",
     "output_type": "stream",
     "text": [
      "2025-04-21 03:49:00,247 - INFO - Downloaded logs_zf8c03n4:v0 to /scratch/downloaded_artifacts/logs_zf8c03n4:v0\n"
     ]
    },
    {
     "name": "stderr",
     "output_type": "stream",
     "text": [
      "\u001b[34m\u001b[1mwandb\u001b[0m:   1 of 1 files downloaded.  \n",
      "\u001b[34m\u001b[1mwandb\u001b[0m:   1 of 1 files downloaded.  \n"
     ]
    },
    {
     "name": "stdout",
     "output_type": "stream",
     "text": [
      "2025-04-21 03:49:00,403 - INFO - Downloaded logs_6gokfad9:v0 to /scratch/downloaded_artifacts/logs_6gokfad9:v0\n",
      "2025-04-21 03:49:00,409 - INFO - Downloaded logs_193fvd00:v0 to /scratch/downloaded_artifacts/logs_193fvd00:v0\n"
     ]
    },
    {
     "name": "stderr",
     "output_type": "stream",
     "text": [
      "\u001b[34m\u001b[1mwandb\u001b[0m:   1 of 1 files downloaded.  \n"
     ]
    },
    {
     "name": "stdout",
     "output_type": "stream",
     "text": [
      "2025-04-21 03:49:00,684 - INFO - Downloaded logs_77vzlvyh:v0 to /scratch/downloaded_artifacts/logs_77vzlvyh:v0\n"
     ]
    },
    {
     "name": "stderr",
     "output_type": "stream",
     "text": [
      "\u001b[34m\u001b[1mwandb\u001b[0m:   1 of 1 files downloaded.  \n",
      "\u001b[34m\u001b[1mwandb\u001b[0m:   1 of 1 files downloaded.  \n"
     ]
    },
    {
     "name": "stdout",
     "output_type": "stream",
     "text": [
      "2025-04-21 03:49:00,860 - INFO - Downloaded logs_7r0mk918:v0 to /scratch/downloaded_artifacts/logs_7r0mk918:v0\n",
      "2025-04-21 03:49:00,860 - INFO - Downloaded logs_6tm2scd4:v0 to /scratch/downloaded_artifacts/logs_6tm2scd4:v0\n"
     ]
    },
    {
     "name": "stderr",
     "output_type": "stream",
     "text": [
      "\u001b[34m\u001b[1mwandb\u001b[0m:   1 of 1 files downloaded.  \n"
     ]
    },
    {
     "name": "stdout",
     "output_type": "stream",
     "text": [
      "2025-04-21 03:49:01,038 - INFO - Downloaded logs_cy32terl:v0 to /scratch/downloaded_artifacts/logs_cy32terl:v0\n"
     ]
    },
    {
     "name": "stderr",
     "output_type": "stream",
     "text": [
      "\u001b[34m\u001b[1mwandb\u001b[0m:   1 of 1 files downloaded.  \n"
     ]
    },
    {
     "name": "stdout",
     "output_type": "stream",
     "text": [
      "2025-04-21 03:49:01,075 - INFO - Downloaded logs_coq4g3bz:v0 to /scratch/downloaded_artifacts/logs_coq4g3bz:v0\n"
     ]
    },
    {
     "name": "stderr",
     "output_type": "stream",
     "text": [
      "\u001b[34m\u001b[1mwandb\u001b[0m:   1 of 1 files downloaded.  \n"
     ]
    },
    {
     "name": "stdout",
     "output_type": "stream",
     "text": [
      "2025-04-21 03:49:01,120 - INFO - Downloaded logs_9k2i4uso:v0 to /scratch/downloaded_artifacts/logs_9k2i4uso:v0\n"
     ]
    },
    {
     "name": "stderr",
     "output_type": "stream",
     "text": [
      "\u001b[34m\u001b[1mwandb\u001b[0m:   1 of 1 files downloaded.  \n"
     ]
    },
    {
     "name": "stdout",
     "output_type": "stream",
     "text": [
      "2025-04-21 03:49:01,161 - INFO - Downloaded logs_iqkse4a2:v0 to /scratch/downloaded_artifacts/logs_iqkse4a2:v0\n"
     ]
    },
    {
     "name": "stderr",
     "output_type": "stream",
     "text": [
      "\u001b[34m\u001b[1mwandb\u001b[0m:   1 of 1 files downloaded.  \n"
     ]
    },
    {
     "name": "stdout",
     "output_type": "stream",
     "text": [
      "2025-04-21 03:49:01,349 - INFO - Downloaded logs_kse9lxcs:v0 to /scratch/downloaded_artifacts/logs_kse9lxcs:v0\n"
     ]
    },
    {
     "name": "stderr",
     "output_type": "stream",
     "text": [
      "\u001b[34m\u001b[1mwandb\u001b[0m:   1 of 1 files downloaded.  \n"
     ]
    },
    {
     "name": "stdout",
     "output_type": "stream",
     "text": [
      "2025-04-21 03:49:01,484 - INFO - Downloaded logs_ksbdw5ra:v0 to /scratch/downloaded_artifacts/logs_ksbdw5ra:v0\n"
     ]
    },
    {
     "name": "stderr",
     "output_type": "stream",
     "text": [
      "\u001b[34m\u001b[1mwandb\u001b[0m:   1 of 1 files downloaded.  \n"
     ]
    },
    {
     "name": "stdout",
     "output_type": "stream",
     "text": [
      "2025-04-21 03:49:01,667 - INFO - Downloaded logs_lwuhe100:v0 to /scratch/downloaded_artifacts/logs_lwuhe100:v0\n"
     ]
    },
    {
     "name": "stderr",
     "output_type": "stream",
     "text": [
      "\u001b[34m\u001b[1mwandb\u001b[0m:   1 of 1 files downloaded.  \n"
     ]
    },
    {
     "name": "stdout",
     "output_type": "stream",
     "text": [
      "2025-04-21 03:49:01,685 - INFO - Downloaded logs_mfgxxmb1:v0 to /scratch/downloaded_artifacts/logs_mfgxxmb1:v0\n"
     ]
    },
    {
     "name": "stderr",
     "output_type": "stream",
     "text": [
      "\u001b[34m\u001b[1mwandb\u001b[0m:   1 of 1 files downloaded.  \n"
     ]
    },
    {
     "name": "stdout",
     "output_type": "stream",
     "text": [
      "2025-04-21 03:49:01,779 - INFO - Downloaded logs_oel5m3wx:v0 to /scratch/downloaded_artifacts/logs_oel5m3wx:v0\n"
     ]
    },
    {
     "name": "stderr",
     "output_type": "stream",
     "text": [
      "\u001b[34m\u001b[1mwandb\u001b[0m:   1 of 1 files downloaded.  \n"
     ]
    },
    {
     "name": "stdout",
     "output_type": "stream",
     "text": [
      "2025-04-21 03:49:01,992 - INFO - Downloaded logs_p4yl85ny:v0 to /scratch/downloaded_artifacts/logs_p4yl85ny:v0\n"
     ]
    },
    {
     "name": "stderr",
     "output_type": "stream",
     "text": [
      "\u001b[34m\u001b[1mwandb\u001b[0m:   1 of 1 files downloaded.  \n"
     ]
    },
    {
     "name": "stdout",
     "output_type": "stream",
     "text": [
      "2025-04-21 03:49:02,070 - INFO - Downloaded logs_pgs3f8ru:v0 to /scratch/downloaded_artifacts/logs_pgs3f8ru:v0\n"
     ]
    },
    {
     "name": "stderr",
     "output_type": "stream",
     "text": [
      "\u001b[34m\u001b[1mwandb\u001b[0m:   1 of 1 files downloaded.  \n"
     ]
    },
    {
     "name": "stdout",
     "output_type": "stream",
     "text": [
      "2025-04-21 03:49:02,085 - INFO - Downloaded logs_vukdl01n:v0 to /scratch/downloaded_artifacts/logs_vukdl01n:v0\n"
     ]
    },
    {
     "name": "stderr",
     "output_type": "stream",
     "text": [
      "\u001b[34m\u001b[1mwandb\u001b[0m:   1 of 1 files downloaded.  \n"
     ]
    },
    {
     "name": "stdout",
     "output_type": "stream",
     "text": [
      "2025-04-21 03:49:02,334 - INFO - Downloaded logs_wa9l9p3h:v0 to /scratch/downloaded_artifacts/logs_wa9l9p3h:v0\n"
     ]
    },
    {
     "name": "stderr",
     "output_type": "stream",
     "text": [
      "\u001b[34m\u001b[1mwandb\u001b[0m:   1 of 1 files downloaded.  \n"
     ]
    },
    {
     "name": "stdout",
     "output_type": "stream",
     "text": [
      "2025-04-21 03:49:02,607 - INFO - Downloaded logs_wet79h0x:v0 to /scratch/downloaded_artifacts/logs_wet79h0x:v0\n"
     ]
    },
    {
     "name": "stderr",
     "output_type": "stream",
     "text": [
      "\u001b[34m\u001b[1mwandb\u001b[0m:   1 of 1 files downloaded.  \n"
     ]
    },
    {
     "name": "stdout",
     "output_type": "stream",
     "text": [
      "2025-04-21 03:49:02,946 - INFO - Downloaded logs_ya5bba5f:v0 to /scratch/downloaded_artifacts/logs_ya5bba5f:v0\n"
     ]
    },
    {
     "name": "stderr",
     "output_type": "stream",
     "text": [
      "\u001b[34m\u001b[1mwandb\u001b[0m:   1 of 1 files downloaded.  \n"
     ]
    },
    {
     "name": "stdout",
     "output_type": "stream",
     "text": [
      "2025-04-21 03:49:03,004 - INFO - Downloaded logs_yeec04lg:v0 to /scratch/downloaded_artifacts/logs_yeec04lg:v0\n"
     ]
    },
    {
     "name": "stderr",
     "output_type": "stream",
     "text": [
      "\u001b[34m\u001b[1mwandb\u001b[0m:   1 of 1 files downloaded.  \n"
     ]
    },
    {
     "name": "stdout",
     "output_type": "stream",
     "text": [
      "2025-04-21 03:49:03,051 - INFO - Downloaded logs_yw6tf9om:v0 to /scratch/downloaded_artifacts/logs_yw6tf9om:v0\n"
     ]
    },
    {
     "name": "stderr",
     "output_type": "stream",
     "text": [
      "\u001b[34m\u001b[1mwandb\u001b[0m:   1 of 1 files downloaded.  \n"
     ]
    },
    {
     "name": "stdout",
     "output_type": "stream",
     "text": [
      "2025-04-21 03:49:03,433 - INFO - Downloaded logs_dsdbweno:v0 to /scratch/downloaded_artifacts/logs_dsdbweno:v0\n"
     ]
    },
    {
     "name": "stderr",
     "output_type": "stream",
     "text": [
      "\u001b[34m\u001b[1mwandb\u001b[0m:   1 of 1 files downloaded.  \n"
     ]
    },
    {
     "name": "stdout",
     "output_type": "stream",
     "text": [
      "2025-04-21 03:49:03,556 - INFO - Downloaded logs_zz1lnb7q:v0 to /scratch/downloaded_artifacts/logs_zz1lnb7q:v0\n"
     ]
    },
    {
     "name": "stderr",
     "output_type": "stream",
     "text": [
      "\u001b[34m\u001b[1mwandb\u001b[0m:   1 of 1 files downloaded.  \n"
     ]
    },
    {
     "name": "stdout",
     "output_type": "stream",
     "text": [
      "2025-04-21 03:49:03,659 - INFO - Downloaded logs_fzo5u7ki:v0 to /scratch/downloaded_artifacts/logs_fzo5u7ki:v0\n"
     ]
    },
    {
     "name": "stderr",
     "output_type": "stream",
     "text": [
      "\u001b[34m\u001b[1mwandb\u001b[0m:   1 of 1 files downloaded.  \n"
     ]
    },
    {
     "name": "stdout",
     "output_type": "stream",
     "text": [
      "2025-04-21 03:49:03,715 - INFO - Downloaded logs_bdvu5oco:v0 to /scratch/downloaded_artifacts/logs_bdvu5oco:v0\n"
     ]
    },
    {
     "name": "stderr",
     "output_type": "stream",
     "text": [
      "\u001b[34m\u001b[1mwandb\u001b[0m:   1 of 1 files downloaded.  \n"
     ]
    },
    {
     "name": "stdout",
     "output_type": "stream",
     "text": [
      "2025-04-21 03:49:03,878 - INFO - Downloaded logs_55zyfnyc:v0 to /scratch/downloaded_artifacts/logs_55zyfnyc:v0\n"
     ]
    },
    {
     "name": "stderr",
     "output_type": "stream",
     "text": [
      "\u001b[34m\u001b[1mwandb\u001b[0m:   1 of 1 files downloaded.  \n"
     ]
    },
    {
     "name": "stdout",
     "output_type": "stream",
     "text": [
      "2025-04-21 03:49:03,894 - INFO - Downloaded logs_d7mlfbtf:v0 to /scratch/downloaded_artifacts/logs_d7mlfbtf:v0\n"
     ]
    },
    {
     "name": "stderr",
     "output_type": "stream",
     "text": [
      "\u001b[34m\u001b[1mwandb\u001b[0m:   1 of 1 files downloaded.  \n"
     ]
    },
    {
     "name": "stdout",
     "output_type": "stream",
     "text": [
      "2025-04-21 03:49:03,943 - INFO - Downloaded logs_bmpsqwy2:v0 to /scratch/downloaded_artifacts/logs_bmpsqwy2:v0\n"
     ]
    },
    {
     "name": "stderr",
     "output_type": "stream",
     "text": [
      "\u001b[34m\u001b[1mwandb\u001b[0m:   1 of 1 files downloaded.  \n"
     ]
    },
    {
     "name": "stdout",
     "output_type": "stream",
     "text": [
      "2025-04-21 03:49:04,144 - INFO - Downloaded logs_e657rgqe:v0 to /scratch/downloaded_artifacts/logs_e657rgqe:v0\n"
     ]
    },
    {
     "name": "stderr",
     "output_type": "stream",
     "text": [
      "\u001b[34m\u001b[1mwandb\u001b[0m:   1 of 1 files downloaded.  \n",
      "\u001b[34m\u001b[1mwandb\u001b[0m:   1 of 1 files downloaded.  \n"
     ]
    },
    {
     "name": "stdout",
     "output_type": "stream",
     "text": [
      "2025-04-21 03:49:04,458 - INFO - Downloaded logs_6dwy85cn:v0 to /scratch/downloaded_artifacts/logs_6dwy85cn:v0\n"
     ]
    },
    {
     "name": "stderr",
     "output_type": "stream",
     "text": [
      "\u001b[34m\u001b[1mwandb\u001b[0m:   1 of 1 files downloaded.  \n"
     ]
    },
    {
     "name": "stdout",
     "output_type": "stream",
     "text": [
      "2025-04-21 03:49:04,460 - INFO - Downloaded logs_ga58jf5a:v0 to /scratch/downloaded_artifacts/logs_ga58jf5a:v0\n",
      "2025-04-21 03:49:04,461 - INFO - Downloaded logs_ixaq2kog:v0 to /scratch/downloaded_artifacts/logs_ixaq2kog:v0\n"
     ]
    },
    {
     "name": "stderr",
     "output_type": "stream",
     "text": [
      "\u001b[34m\u001b[1mwandb\u001b[0m:   1 of 1 files downloaded.  \n"
     ]
    },
    {
     "name": "stdout",
     "output_type": "stream",
     "text": [
      "2025-04-21 03:49:04,724 - INFO - Downloaded logs_oiejrtxc:v0 to /scratch/downloaded_artifacts/logs_oiejrtxc:v0\n"
     ]
    },
    {
     "name": "stderr",
     "output_type": "stream",
     "text": [
      "\u001b[34m\u001b[1mwandb\u001b[0m:   1 of 1 files downloaded.  \n"
     ]
    },
    {
     "name": "stdout",
     "output_type": "stream",
     "text": [
      "2025-04-21 03:49:04,770 - INFO - Downloaded logs_qf1j3skz:v0 to /scratch/downloaded_artifacts/logs_qf1j3skz:v0\n"
     ]
    },
    {
     "name": "stderr",
     "output_type": "stream",
     "text": [
      "\u001b[34m\u001b[1mwandb\u001b[0m:   1 of 1 files downloaded.  \n"
     ]
    },
    {
     "name": "stdout",
     "output_type": "stream",
     "text": [
      "2025-04-21 03:49:04,881 - INFO - Downloaded logs_48sjd4aw:v0 to /scratch/downloaded_artifacts/logs_48sjd4aw:v0\n"
     ]
    },
    {
     "name": "stderr",
     "output_type": "stream",
     "text": [
      "\u001b[34m\u001b[1mwandb\u001b[0m:   1 of 1 files downloaded.  \n"
     ]
    },
    {
     "name": "stdout",
     "output_type": "stream",
     "text": [
      "2025-04-21 03:49:05,034 - INFO - Downloaded logs_aq2cvt6d:v0 to /scratch/downloaded_artifacts/logs_aq2cvt6d:v0\n"
     ]
    },
    {
     "name": "stderr",
     "output_type": "stream",
     "text": [
      "\u001b[34m\u001b[1mwandb\u001b[0m:   1 of 1 files downloaded.  \n"
     ]
    },
    {
     "name": "stdout",
     "output_type": "stream",
     "text": [
      "2025-04-21 03:49:05,047 - INFO - Downloaded logs_ou3m9u58:v0 to /scratch/downloaded_artifacts/logs_ou3m9u58:v0\n"
     ]
    },
    {
     "name": "stderr",
     "output_type": "stream",
     "text": [
      "\u001b[34m\u001b[1mwandb\u001b[0m:   1 of 1 files downloaded.  \n"
     ]
    },
    {
     "name": "stdout",
     "output_type": "stream",
     "text": [
      "2025-04-21 03:49:05,329 - INFO - Downloaded logs_m2bvjusd:v0 to /scratch/downloaded_artifacts/logs_m2bvjusd:v0\n"
     ]
    },
    {
     "name": "stderr",
     "output_type": "stream",
     "text": [
      "\u001b[34m\u001b[1mwandb\u001b[0m:   1 of 1 files downloaded.  \n"
     ]
    },
    {
     "name": "stdout",
     "output_type": "stream",
     "text": [
      "2025-04-21 03:49:05,666 - INFO - Downloaded logs_bvsftuq3:v0 to /scratch/downloaded_artifacts/logs_bvsftuq3:v0\n"
     ]
    },
    {
     "name": "stderr",
     "output_type": "stream",
     "text": [
      "\u001b[34m\u001b[1mwandb\u001b[0m:   1 of 1 files downloaded.  \n",
      "\u001b[34m\u001b[1mwandb\u001b[0m:   1 of 1 files downloaded.  \n"
     ]
    },
    {
     "name": "stdout",
     "output_type": "stream",
     "text": [
      "2025-04-21 03:49:05,731 - INFO - Downloaded logs_e92gvp5u:v0 to /scratch/downloaded_artifacts/logs_e92gvp5u:v0\n",
      "2025-04-21 03:49:05,734 - INFO - Downloaded logs_hqt6ttqy:v0 to /scratch/downloaded_artifacts/logs_hqt6ttqy:v0\n"
     ]
    },
    {
     "name": "stderr",
     "output_type": "stream",
     "text": [
      "\u001b[34m\u001b[1mwandb\u001b[0m:   1 of 1 files downloaded.  \n"
     ]
    },
    {
     "name": "stdout",
     "output_type": "stream",
     "text": [
      "2025-04-21 03:49:06,181 - INFO - Downloaded logs_r7g75jtb:v0 to /scratch/downloaded_artifacts/logs_r7g75jtb:v0\n"
     ]
    },
    {
     "name": "stderr",
     "output_type": "stream",
     "text": [
      "\u001b[34m\u001b[1mwandb\u001b[0m:   1 of 1 files downloaded.  \n"
     ]
    },
    {
     "name": "stdout",
     "output_type": "stream",
     "text": [
      "2025-04-21 03:49:06,213 - INFO - Downloaded logs_0474tzp2:v0 to /scratch/downloaded_artifacts/logs_0474tzp2:v0\n"
     ]
    },
    {
     "name": "stderr",
     "output_type": "stream",
     "text": [
      "\u001b[34m\u001b[1mwandb\u001b[0m:   1 of 1 files downloaded.  \n"
     ]
    },
    {
     "name": "stdout",
     "output_type": "stream",
     "text": [
      "2025-04-21 03:49:06,367 - INFO - Downloaded logs_ieghv62g:v0 to /scratch/downloaded_artifacts/logs_ieghv62g:v0\n"
     ]
    },
    {
     "name": "stderr",
     "output_type": "stream",
     "text": [
      "\u001b[34m\u001b[1mwandb\u001b[0m:   1 of 1 files downloaded.  \n"
     ]
    },
    {
     "name": "stdout",
     "output_type": "stream",
     "text": [
      "2025-04-21 03:49:06,591 - INFO - Downloaded logs_nb0jmikk:v0 to /scratch/downloaded_artifacts/logs_nb0jmikk:v0\n"
     ]
    },
    {
     "name": "stderr",
     "output_type": "stream",
     "text": [
      "\u001b[34m\u001b[1mwandb\u001b[0m:   1 of 1 files downloaded.  \n",
      "\u001b[34m\u001b[1mwandb\u001b[0m:   1 of 1 files downloaded.  \n"
     ]
    },
    {
     "name": "stdout",
     "output_type": "stream",
     "text": [
      "2025-04-21 03:49:06,628 - INFO - Downloaded logs_imjfi5xr:v0 to /scratch/downloaded_artifacts/logs_imjfi5xr:v0\n",
      "2025-04-21 03:49:06,631 - INFO - Downloaded logs_qrpca4sl:v0 to /scratch/downloaded_artifacts/logs_qrpca4sl:v0\n"
     ]
    },
    {
     "name": "stderr",
     "output_type": "stream",
     "text": [
      "\u001b[34m\u001b[1mwandb\u001b[0m:   1 of 1 files downloaded.  \n"
     ]
    },
    {
     "name": "stdout",
     "output_type": "stream",
     "text": [
      "2025-04-21 03:49:06,826 - INFO - Downloaded logs_37bsw9go:v0 to /scratch/downloaded_artifacts/logs_37bsw9go:v0\n"
     ]
    },
    {
     "name": "stderr",
     "output_type": "stream",
     "text": [
      "\u001b[34m\u001b[1mwandb\u001b[0m:   1 of 1 files downloaded.  \n"
     ]
    },
    {
     "name": "stdout",
     "output_type": "stream",
     "text": [
      "2025-04-21 03:49:06,911 - INFO - Downloaded logs_3wodafj9:v0 to /scratch/downloaded_artifacts/logs_3wodafj9:v0\n"
     ]
    },
    {
     "name": "stderr",
     "output_type": "stream",
     "text": [
      "\u001b[34m\u001b[1mwandb\u001b[0m:   1 of 1 files downloaded.  \n"
     ]
    },
    {
     "name": "stdout",
     "output_type": "stream",
     "text": [
      "2025-04-21 03:49:07,193 - INFO - Downloaded logs_5oi72ad4:v0 to /scratch/downloaded_artifacts/logs_5oi72ad4:v0\n"
     ]
    },
    {
     "name": "stderr",
     "output_type": "stream",
     "text": [
      "\u001b[34m\u001b[1mwandb\u001b[0m:   1 of 1 files downloaded.  \n"
     ]
    },
    {
     "name": "stdout",
     "output_type": "stream",
     "text": [
      "2025-04-21 03:49:07,273 - INFO - Downloaded logs_4jf5yd45:v0 to /scratch/downloaded_artifacts/logs_4jf5yd45:v0\n"
     ]
    },
    {
     "name": "stderr",
     "output_type": "stream",
     "text": [
      "\u001b[34m\u001b[1mwandb\u001b[0m:   1 of 1 files downloaded.  \n"
     ]
    },
    {
     "name": "stdout",
     "output_type": "stream",
     "text": [
      "2025-04-21 03:49:07,419 - INFO - Downloaded logs_4q123pw9:v0 to /scratch/downloaded_artifacts/logs_4q123pw9:v0\n"
     ]
    },
    {
     "name": "stderr",
     "output_type": "stream",
     "text": [
      "\u001b[34m\u001b[1mwandb\u001b[0m:   1 of 1 files downloaded.  \n"
     ]
    },
    {
     "name": "stdout",
     "output_type": "stream",
     "text": [
      "2025-04-21 03:49:07,577 - INFO - Downloaded logs_avw0g0qy:v0 to /scratch/downloaded_artifacts/logs_avw0g0qy:v0\n"
     ]
    },
    {
     "name": "stderr",
     "output_type": "stream",
     "text": [
      "\u001b[34m\u001b[1mwandb\u001b[0m:   1 of 1 files downloaded.  \n"
     ]
    },
    {
     "name": "stdout",
     "output_type": "stream",
     "text": [
      "2025-04-21 03:49:07,587 - INFO - Downloaded logs_8jjb4ygd:v0 to /scratch/downloaded_artifacts/logs_8jjb4ygd:v0\n"
     ]
    },
    {
     "name": "stderr",
     "output_type": "stream",
     "text": [
      "\u001b[34m\u001b[1mwandb\u001b[0m:   1 of 1 files downloaded.  \n",
      "\u001b[34m\u001b[1mwandb\u001b[0m:   1 of 1 files downloaded.  \n"
     ]
    },
    {
     "name": "stdout",
     "output_type": "stream",
     "text": [
      "2025-04-21 03:49:07,738 - INFO - Downloaded logs_cgzhbve3:v0 to /scratch/downloaded_artifacts/logs_cgzhbve3:v0\n",
      "2025-04-21 03:49:07,741 - INFO - Downloaded logs_bcl5132j:v0 to /scratch/downloaded_artifacts/logs_bcl5132j:v0\n"
     ]
    },
    {
     "name": "stderr",
     "output_type": "stream",
     "text": [
      "\u001b[34m\u001b[1mwandb\u001b[0m:   1 of 1 files downloaded.  \n"
     ]
    },
    {
     "name": "stdout",
     "output_type": "stream",
     "text": [
      "2025-04-21 03:49:07,768 - INFO - Downloaded logs_nqlzq8ze:v0 to /scratch/downloaded_artifacts/logs_nqlzq8ze:v0\n"
     ]
    },
    {
     "name": "stderr",
     "output_type": "stream",
     "text": [
      "\u001b[34m\u001b[1mwandb\u001b[0m:   1 of 1 files downloaded.  \n"
     ]
    },
    {
     "name": "stdout",
     "output_type": "stream",
     "text": [
      "2025-04-21 03:49:08,082 - INFO - Downloaded logs_gism7yiz:v0 to /scratch/downloaded_artifacts/logs_gism7yiz:v0\n"
     ]
    },
    {
     "name": "stderr",
     "output_type": "stream",
     "text": [
      "\u001b[34m\u001b[1mwandb\u001b[0m:   1 of 1 files downloaded.  \n"
     ]
    },
    {
     "name": "stdout",
     "output_type": "stream",
     "text": [
      "2025-04-21 03:49:08,393 - INFO - Downloaded logs_o5k821ps:v0 to /scratch/downloaded_artifacts/logs_o5k821ps:v0\n"
     ]
    },
    {
     "name": "stderr",
     "output_type": "stream",
     "text": [
      "\u001b[34m\u001b[1mwandb\u001b[0m:   1 of 1 files downloaded.  \n"
     ]
    },
    {
     "name": "stdout",
     "output_type": "stream",
     "text": [
      "2025-04-21 03:49:08,420 - INFO - Downloaded logs_oimminw4:v0 to /scratch/downloaded_artifacts/logs_oimminw4:v0\n"
     ]
    },
    {
     "name": "stderr",
     "output_type": "stream",
     "text": [
      "\u001b[34m\u001b[1mwandb\u001b[0m:   1 of 1 files downloaded.  \n"
     ]
    },
    {
     "name": "stdout",
     "output_type": "stream",
     "text": [
      "2025-04-21 03:49:08,597 - INFO - Downloaded logs_00uzp0k5:v0 to /scratch/downloaded_artifacts/logs_00uzp0k5:v0\n"
     ]
    },
    {
     "name": "stderr",
     "output_type": "stream",
     "text": [
      "\u001b[34m\u001b[1mwandb\u001b[0m:   1 of 1 files downloaded.  \n"
     ]
    },
    {
     "name": "stdout",
     "output_type": "stream",
     "text": [
      "2025-04-21 03:49:08,885 - INFO - Downloaded logs_02yqf5pn:v0 to /scratch/downloaded_artifacts/logs_02yqf5pn:v0\n"
     ]
    },
    {
     "name": "stderr",
     "output_type": "stream",
     "text": [
      "\u001b[34m\u001b[1mwandb\u001b[0m:   1 of 1 files downloaded.  \n"
     ]
    },
    {
     "name": "stdout",
     "output_type": "stream",
     "text": [
      "2025-04-21 03:49:08,932 - INFO - Downloaded logs_2aop47kv:v0 to /scratch/downloaded_artifacts/logs_2aop47kv:v0\n"
     ]
    },
    {
     "name": "stderr",
     "output_type": "stream",
     "text": [
      "\u001b[34m\u001b[1mwandb\u001b[0m:   1 of 1 files downloaded.  \n"
     ]
    },
    {
     "name": "stdout",
     "output_type": "stream",
     "text": [
      "2025-04-21 03:49:09,015 - INFO - Downloaded logs_qudgntyu:v0 to /scratch/downloaded_artifacts/logs_qudgntyu:v0\n"
     ]
    },
    {
     "name": "stderr",
     "output_type": "stream",
     "text": [
      "\u001b[34m\u001b[1mwandb\u001b[0m:   1 of 1 files downloaded.  \n"
     ]
    },
    {
     "name": "stdout",
     "output_type": "stream",
     "text": [
      "2025-04-21 03:49:09,235 - INFO - Downloaded logs_3zfnjkgp:v0 to /scratch/downloaded_artifacts/logs_3zfnjkgp:v0\n"
     ]
    },
    {
     "name": "stderr",
     "output_type": "stream",
     "text": [
      "\u001b[34m\u001b[1mwandb\u001b[0m:   1 of 1 files downloaded.  \n"
     ]
    },
    {
     "name": "stdout",
     "output_type": "stream",
     "text": [
      "2025-04-21 03:49:09,262 - INFO - Downloaded logs_rz72skng:v0 to /scratch/downloaded_artifacts/logs_rz72skng:v0\n"
     ]
    },
    {
     "name": "stderr",
     "output_type": "stream",
     "text": [
      "\u001b[34m\u001b[1mwandb\u001b[0m:   1 of 1 files downloaded.  \n"
     ]
    },
    {
     "name": "stdout",
     "output_type": "stream",
     "text": [
      "2025-04-21 03:49:09,299 - INFO - Downloaded logs_yymtu0yh:v0 to /scratch/downloaded_artifacts/logs_yymtu0yh:v0\n"
     ]
    },
    {
     "name": "stderr",
     "output_type": "stream",
     "text": [
      "\u001b[34m\u001b[1mwandb\u001b[0m:   1 of 1 files downloaded.  \n"
     ]
    },
    {
     "name": "stdout",
     "output_type": "stream",
     "text": [
      "2025-04-21 03:49:09,534 - INFO - Downloaded logs_45j2b1i6:v0 to /scratch/downloaded_artifacts/logs_45j2b1i6:v0\n"
     ]
    },
    {
     "name": "stderr",
     "output_type": "stream",
     "text": [
      "\u001b[34m\u001b[1mwandb\u001b[0m:   1 of 1 files downloaded.  \n"
     ]
    },
    {
     "name": "stdout",
     "output_type": "stream",
     "text": [
      "2025-04-21 03:49:09,678 - INFO - Downloaded logs_4sxwl0hn:v0 to /scratch/downloaded_artifacts/logs_4sxwl0hn:v0\n"
     ]
    },
    {
     "name": "stderr",
     "output_type": "stream",
     "text": [
      "\u001b[34m\u001b[1mwandb\u001b[0m:   1 of 1 files downloaded.  \n"
     ]
    },
    {
     "name": "stdout",
     "output_type": "stream",
     "text": [
      "2025-04-21 03:49:09,981 - INFO - Downloaded logs_4wpi8muo:v0 to /scratch/downloaded_artifacts/logs_4wpi8muo:v0\n"
     ]
    },
    {
     "name": "stderr",
     "output_type": "stream",
     "text": [
      "\u001b[34m\u001b[1mwandb\u001b[0m:   1 of 1 files downloaded.  \n"
     ]
    },
    {
     "name": "stdout",
     "output_type": "stream",
     "text": [
      "2025-04-21 03:49:10,024 - INFO - Downloaded logs_51hqnp6i:v0 to /scratch/downloaded_artifacts/logs_51hqnp6i:v0\n"
     ]
    },
    {
     "name": "stderr",
     "output_type": "stream",
     "text": [
      "\u001b[34m\u001b[1mwandb\u001b[0m:   1 of 1 files downloaded.  \n"
     ]
    },
    {
     "name": "stdout",
     "output_type": "stream",
     "text": [
      "2025-04-21 03:49:10,241 - INFO - Downloaded logs_5lrat8qz:v0 to /scratch/downloaded_artifacts/logs_5lrat8qz:v0\n"
     ]
    },
    {
     "name": "stderr",
     "output_type": "stream",
     "text": [
      "\u001b[34m\u001b[1mwandb\u001b[0m:   1 of 1 files downloaded.  \n"
     ]
    },
    {
     "name": "stdout",
     "output_type": "stream",
     "text": [
      "2025-04-21 03:49:10,426 - INFO - Downloaded logs_5re531v2:v0 to /scratch/downloaded_artifacts/logs_5re531v2:v0\n"
     ]
    },
    {
     "name": "stderr",
     "output_type": "stream",
     "text": [
      "\u001b[34m\u001b[1mwandb\u001b[0m:   1 of 1 files downloaded.  \n"
     ]
    },
    {
     "name": "stdout",
     "output_type": "stream",
     "text": [
      "2025-04-21 03:49:10,491 - INFO - Downloaded logs_60qvp5qh:v0 to /scratch/downloaded_artifacts/logs_60qvp5qh:v0\n"
     ]
    },
    {
     "name": "stderr",
     "output_type": "stream",
     "text": [
      "\u001b[34m\u001b[1mwandb\u001b[0m:   1 of 1 files downloaded.  \n"
     ]
    },
    {
     "name": "stdout",
     "output_type": "stream",
     "text": [
      "2025-04-21 03:49:10,497 - INFO - Downloaded logs_6miirjn4:v0 to /scratch/downloaded_artifacts/logs_6miirjn4:v0\n"
     ]
    },
    {
     "name": "stderr",
     "output_type": "stream",
     "text": [
      "\u001b[34m\u001b[1mwandb\u001b[0m:   1 of 1 files downloaded.  \n"
     ]
    },
    {
     "name": "stdout",
     "output_type": "stream",
     "text": [
      "2025-04-21 03:49:10,830 - INFO - Downloaded logs_7p6okgl6:v0 to /scratch/downloaded_artifacts/logs_7p6okgl6:v0\n"
     ]
    },
    {
     "name": "stderr",
     "output_type": "stream",
     "text": [
      "\u001b[34m\u001b[1mwandb\u001b[0m:   1 of 1 files downloaded.  \n"
     ]
    },
    {
     "name": "stdout",
     "output_type": "stream",
     "text": [
      "2025-04-21 03:49:10,923 - INFO - Downloaded logs_6t6999m5:v0 to /scratch/downloaded_artifacts/logs_6t6999m5:v0\n"
     ]
    },
    {
     "name": "stderr",
     "output_type": "stream",
     "text": [
      "\u001b[34m\u001b[1mwandb\u001b[0m:   1 of 1 files downloaded.  \n"
     ]
    },
    {
     "name": "stdout",
     "output_type": "stream",
     "text": [
      "2025-04-21 03:49:10,977 - INFO - Downloaded logs_9pci90cv:v0 to /scratch/downloaded_artifacts/logs_9pci90cv:v0\n"
     ]
    },
    {
     "name": "stderr",
     "output_type": "stream",
     "text": [
      "\u001b[34m\u001b[1mwandb\u001b[0m:   1 of 1 files downloaded.  \n"
     ]
    },
    {
     "name": "stdout",
     "output_type": "stream",
     "text": [
      "2025-04-21 03:49:11,296 - INFO - Downloaded logs_a8tb9tvn:v0 to /scratch/downloaded_artifacts/logs_a8tb9tvn:v0\n"
     ]
    },
    {
     "name": "stderr",
     "output_type": "stream",
     "text": [
      "\u001b[34m\u001b[1mwandb\u001b[0m:   1 of 1 files downloaded.  \n"
     ]
    },
    {
     "name": "stdout",
     "output_type": "stream",
     "text": [
      "2025-04-21 03:49:11,361 - INFO - Downloaded logs_aj37pqoj:v0 to /scratch/downloaded_artifacts/logs_aj37pqoj:v0\n"
     ]
    },
    {
     "name": "stderr",
     "output_type": "stream",
     "text": [
      "\u001b[34m\u001b[1mwandb\u001b[0m:   1 of 1 files downloaded.  \n"
     ]
    },
    {
     "name": "stdout",
     "output_type": "stream",
     "text": [
      "2025-04-21 03:49:11,505 - INFO - Downloaded logs_c8end284:v0 to /scratch/downloaded_artifacts/logs_c8end284:v0\n"
     ]
    },
    {
     "name": "stderr",
     "output_type": "stream",
     "text": [
      "\u001b[34m\u001b[1mwandb\u001b[0m:   1 of 1 files downloaded.  \n"
     ]
    },
    {
     "name": "stdout",
     "output_type": "stream",
     "text": [
      "2025-04-21 03:49:11,708 - INFO - Downloaded logs_d0stkbz2:v0 to /scratch/downloaded_artifacts/logs_d0stkbz2:v0\n"
     ]
    },
    {
     "name": "stderr",
     "output_type": "stream",
     "text": [
      "\u001b[34m\u001b[1mwandb\u001b[0m:   1 of 1 files downloaded.  \n"
     ]
    },
    {
     "name": "stdout",
     "output_type": "stream",
     "text": [
      "2025-04-21 03:49:11,739 - INFO - Downloaded logs_dhfhdo4p:v0 to /scratch/downloaded_artifacts/logs_dhfhdo4p:v0\n"
     ]
    },
    {
     "name": "stderr",
     "output_type": "stream",
     "text": [
      "\u001b[34m\u001b[1mwandb\u001b[0m:   1 of 1 files downloaded.  \n"
     ]
    },
    {
     "name": "stdout",
     "output_type": "stream",
     "text": [
      "2025-04-21 03:49:11,947 - INFO - Downloaded logs_drdcbgan:v0 to /scratch/downloaded_artifacts/logs_drdcbgan:v0\n"
     ]
    },
    {
     "name": "stderr",
     "output_type": "stream",
     "text": [
      "\u001b[34m\u001b[1mwandb\u001b[0m:   1 of 1 files downloaded.  \n"
     ]
    },
    {
     "name": "stdout",
     "output_type": "stream",
     "text": [
      "2025-04-21 03:49:12,067 - INFO - Downloaded logs_f9270qbz:v0 to /scratch/downloaded_artifacts/logs_f9270qbz:v0\n"
     ]
    },
    {
     "name": "stderr",
     "output_type": "stream",
     "text": [
      "\u001b[34m\u001b[1mwandb\u001b[0m:   1 of 1 files downloaded.  \n"
     ]
    },
    {
     "name": "stdout",
     "output_type": "stream",
     "text": [
      "2025-04-21 03:49:12,088 - INFO - Downloaded logs_fcqd7bja:v0 to /scratch/downloaded_artifacts/logs_fcqd7bja:v0\n"
     ]
    },
    {
     "name": "stderr",
     "output_type": "stream",
     "text": [
      "\u001b[34m\u001b[1mwandb\u001b[0m:   1 of 1 files downloaded.  \n"
     ]
    },
    {
     "name": "stdout",
     "output_type": "stream",
     "text": [
      "2025-04-21 03:49:12,210 - INFO - Downloaded logs_iqhs0zyn:v0 to /scratch/downloaded_artifacts/logs_iqhs0zyn:v0\n"
     ]
    },
    {
     "name": "stderr",
     "output_type": "stream",
     "text": [
      "\u001b[34m\u001b[1mwandb\u001b[0m:   1 of 1 files downloaded.  \n"
     ]
    },
    {
     "name": "stdout",
     "output_type": "stream",
     "text": [
      "2025-04-21 03:49:12,480 - INFO - Downloaded logs_jmratvzt:v0 to /scratch/downloaded_artifacts/logs_jmratvzt:v0\n"
     ]
    },
    {
     "name": "stderr",
     "output_type": "stream",
     "text": [
      "\u001b[34m\u001b[1mwandb\u001b[0m:   1 of 1 files downloaded.  \n"
     ]
    },
    {
     "name": "stdout",
     "output_type": "stream",
     "text": [
      "2025-04-21 03:49:12,489 - INFO - Downloaded logs_lahoi0kn:v0 to /scratch/downloaded_artifacts/logs_lahoi0kn:v0\n"
     ]
    },
    {
     "name": "stderr",
     "output_type": "stream",
     "text": [
      "\u001b[34m\u001b[1mwandb\u001b[0m:   1 of 1 files downloaded.  \n"
     ]
    },
    {
     "name": "stdout",
     "output_type": "stream",
     "text": [
      "2025-04-21 03:49:12,695 - INFO - Downloaded logs_lwmp52tx:v0 to /scratch/downloaded_artifacts/logs_lwmp52tx:v0\n"
     ]
    },
    {
     "name": "stderr",
     "output_type": "stream",
     "text": [
      "\u001b[34m\u001b[1mwandb\u001b[0m:   1 of 1 files downloaded.  \n"
     ]
    },
    {
     "name": "stdout",
     "output_type": "stream",
     "text": [
      "2025-04-21 03:49:12,745 - INFO - Downloaded logs_m4b4g4qs:v0 to /scratch/downloaded_artifacts/logs_m4b4g4qs:v0\n"
     ]
    },
    {
     "name": "stderr",
     "output_type": "stream",
     "text": [
      "\u001b[34m\u001b[1mwandb\u001b[0m:   1 of 1 files downloaded.  \n"
     ]
    },
    {
     "name": "stdout",
     "output_type": "stream",
     "text": [
      "2025-04-21 03:49:12,932 - INFO - Downloaded logs_m5ffeppw:v0 to /scratch/downloaded_artifacts/logs_m5ffeppw:v0\n"
     ]
    },
    {
     "name": "stderr",
     "output_type": "stream",
     "text": [
      "\u001b[34m\u001b[1mwandb\u001b[0m:   1 of 1 files downloaded.  \n"
     ]
    },
    {
     "name": "stdout",
     "output_type": "stream",
     "text": [
      "2025-04-21 03:49:13,012 - INFO - Downloaded logs_nth9dnbf:v0 to /scratch/downloaded_artifacts/logs_nth9dnbf:v0\n"
     ]
    },
    {
     "name": "stderr",
     "output_type": "stream",
     "text": [
      "\u001b[34m\u001b[1mwandb\u001b[0m:   1 of 1 files downloaded.  \n"
     ]
    },
    {
     "name": "stdout",
     "output_type": "stream",
     "text": [
      "2025-04-21 03:49:13,156 - INFO - Downloaded logs_t03gv9x0:v0 to /scratch/downloaded_artifacts/logs_t03gv9x0:v0\n"
     ]
    },
    {
     "name": "stderr",
     "output_type": "stream",
     "text": [
      "\u001b[34m\u001b[1mwandb\u001b[0m:   1 of 1 files downloaded.  \n"
     ]
    },
    {
     "name": "stdout",
     "output_type": "stream",
     "text": [
      "2025-04-21 03:49:13,241 - INFO - Downloaded logs_t91kzd7f:v0 to /scratch/downloaded_artifacts/logs_t91kzd7f:v0\n"
     ]
    },
    {
     "name": "stderr",
     "output_type": "stream",
     "text": [
      "\u001b[34m\u001b[1mwandb\u001b[0m:   1 of 1 files downloaded.  \n"
     ]
    },
    {
     "name": "stdout",
     "output_type": "stream",
     "text": [
      "2025-04-21 03:49:13,529 - INFO - Downloaded logs_tbyiks5o:v0 to /scratch/downloaded_artifacts/logs_tbyiks5o:v0\n"
     ]
    },
    {
     "name": "stderr",
     "output_type": "stream",
     "text": [
      "\u001b[34m\u001b[1mwandb\u001b[0m:   1 of 1 files downloaded.  \n"
     ]
    },
    {
     "name": "stdout",
     "output_type": "stream",
     "text": [
      "2025-04-21 03:49:13,545 - INFO - Downloaded logs_u8vldv9m:v0 to /scratch/downloaded_artifacts/logs_u8vldv9m:v0\n"
     ]
    },
    {
     "name": "stderr",
     "output_type": "stream",
     "text": [
      "\u001b[34m\u001b[1mwandb\u001b[0m:   1 of 1 files downloaded.  \n"
     ]
    },
    {
     "name": "stdout",
     "output_type": "stream",
     "text": [
      "2025-04-21 03:49:13,627 - INFO - Downloaded logs_utsrv8ww:v0 to /scratch/downloaded_artifacts/logs_utsrv8ww:v0\n"
     ]
    },
    {
     "name": "stderr",
     "output_type": "stream",
     "text": [
      "\u001b[34m\u001b[1mwandb\u001b[0m:   1 of 1 files downloaded.  \n"
     ]
    },
    {
     "name": "stdout",
     "output_type": "stream",
     "text": [
      "2025-04-21 03:49:13,954 - INFO - Downloaded logs_vgwxj92d:v0 to /scratch/downloaded_artifacts/logs_vgwxj92d:v0\n"
     ]
    },
    {
     "name": "stderr",
     "output_type": "stream",
     "text": [
      "\u001b[34m\u001b[1mwandb\u001b[0m:   1 of 1 files downloaded.  \n"
     ]
    },
    {
     "name": "stdout",
     "output_type": "stream",
     "text": [
      "2025-04-21 03:49:14,032 - INFO - Downloaded logs_ux2gc4ri:v0 to /scratch/downloaded_artifacts/logs_ux2gc4ri:v0\n"
     ]
    },
    {
     "name": "stderr",
     "output_type": "stream",
     "text": [
      "\u001b[34m\u001b[1mwandb\u001b[0m:   1 of 1 files downloaded.  \n"
     ]
    },
    {
     "name": "stdout",
     "output_type": "stream",
     "text": [
      "2025-04-21 03:49:14,101 - INFO - Downloaded logs_vh8rqzyv:v0 to /scratch/downloaded_artifacts/logs_vh8rqzyv:v0\n"
     ]
    },
    {
     "name": "stderr",
     "output_type": "stream",
     "text": [
      "\u001b[34m\u001b[1mwandb\u001b[0m:   1 of 1 files downloaded.  \n"
     ]
    },
    {
     "name": "stdout",
     "output_type": "stream",
     "text": [
      "2025-04-21 03:49:14,453 - INFO - Downloaded logs_w55ibnla:v0 to /scratch/downloaded_artifacts/logs_w55ibnla:v0\n"
     ]
    },
    {
     "name": "stderr",
     "output_type": "stream",
     "text": [
      "\u001b[34m\u001b[1mwandb\u001b[0m:   1 of 1 files downloaded.  \n"
     ]
    },
    {
     "name": "stdout",
     "output_type": "stream",
     "text": [
      "2025-04-21 03:49:14,620 - INFO - Downloaded logs_w5d68vpo:v0 to /scratch/downloaded_artifacts/logs_w5d68vpo:v0\n"
     ]
    },
    {
     "name": "stderr",
     "output_type": "stream",
     "text": [
      "\u001b[34m\u001b[1mwandb\u001b[0m:   1 of 1 files downloaded.  \n"
     ]
    },
    {
     "name": "stdout",
     "output_type": "stream",
     "text": [
      "2025-04-21 03:49:14,635 - INFO - Downloaded logs_w6nxb3rq:v0 to /scratch/downloaded_artifacts/logs_w6nxb3rq:v0\n"
     ]
    },
    {
     "name": "stderr",
     "output_type": "stream",
     "text": [
      "\u001b[34m\u001b[1mwandb\u001b[0m:   1 of 1 files downloaded.  \n"
     ]
    },
    {
     "name": "stdout",
     "output_type": "stream",
     "text": [
      "2025-04-21 03:49:14,667 - INFO - Downloaded logs_z6he2vht:v0 to /scratch/downloaded_artifacts/logs_z6he2vht:v0\n"
     ]
    },
    {
     "name": "stderr",
     "output_type": "stream",
     "text": [
      "\u001b[34m\u001b[1mwandb\u001b[0m:   1 of 1 files downloaded.  \n"
     ]
    },
    {
     "name": "stdout",
     "output_type": "stream",
     "text": [
      "2025-04-21 03:49:14,947 - INFO - Downloaded logs_wctfz9xq:v0 to /scratch/downloaded_artifacts/logs_wctfz9xq:v0\n"
     ]
    },
    {
     "name": "stderr",
     "output_type": "stream",
     "text": [
      "\u001b[34m\u001b[1mwandb\u001b[0m:   1 of 1 files downloaded.  \n"
     ]
    },
    {
     "name": "stdout",
     "output_type": "stream",
     "text": [
      "2025-04-21 03:49:15,070 - INFO - Downloaded logs_wuslkbrk:v0 to /scratch/downloaded_artifacts/logs_wuslkbrk:v0\n"
     ]
    },
    {
     "name": "stderr",
     "output_type": "stream",
     "text": [
      "\u001b[34m\u001b[1mwandb\u001b[0m:   1 of 1 files downloaded.  \n"
     ]
    },
    {
     "name": "stdout",
     "output_type": "stream",
     "text": [
      "2025-04-21 03:49:15,214 - INFO - Downloaded logs_0ne49bx8:v0 to /scratch/downloaded_artifacts/logs_0ne49bx8:v0\n"
     ]
    },
    {
     "name": "stderr",
     "output_type": "stream",
     "text": [
      "\u001b[34m\u001b[1mwandb\u001b[0m:   1 of 1 files downloaded.  \n"
     ]
    },
    {
     "name": "stdout",
     "output_type": "stream",
     "text": [
      "2025-04-21 03:49:15,342 - INFO - Downloaded logs_zavvk7yr:v0 to /scratch/downloaded_artifacts/logs_zavvk7yr:v0\n"
     ]
    },
    {
     "name": "stderr",
     "output_type": "stream",
     "text": [
      "\u001b[34m\u001b[1mwandb\u001b[0m:   1 of 1 files downloaded.  \n"
     ]
    },
    {
     "name": "stdout",
     "output_type": "stream",
     "text": [
      "2025-04-21 03:49:15,473 - INFO - Downloaded logs_11av2ibg:v0 to /scratch/downloaded_artifacts/logs_11av2ibg:v0\n"
     ]
    },
    {
     "name": "stderr",
     "output_type": "stream",
     "text": [
      "\u001b[34m\u001b[1mwandb\u001b[0m:   1 of 1 files downloaded.  \n"
     ]
    },
    {
     "name": "stdout",
     "output_type": "stream",
     "text": [
      "2025-04-21 03:49:15,606 - INFO - Downloaded logs_2my79c28:v0 to /scratch/downloaded_artifacts/logs_2my79c28:v0\n"
     ]
    },
    {
     "name": "stderr",
     "output_type": "stream",
     "text": [
      "\u001b[34m\u001b[1mwandb\u001b[0m:   1 of 1 files downloaded.  \n"
     ]
    },
    {
     "name": "stdout",
     "output_type": "stream",
     "text": [
      "2025-04-21 03:49:15,686 - INFO - Downloaded logs_3ueeyxrq:v0 to /scratch/downloaded_artifacts/logs_3ueeyxrq:v0\n"
     ]
    },
    {
     "name": "stderr",
     "output_type": "stream",
     "text": [
      "\u001b[34m\u001b[1mwandb\u001b[0m:   1 of 1 files downloaded.  \n"
     ]
    },
    {
     "name": "stdout",
     "output_type": "stream",
     "text": [
      "2025-04-21 03:49:15,729 - INFO - Downloaded logs_4srmndc8:v0 to /scratch/downloaded_artifacts/logs_4srmndc8:v0\n"
     ]
    },
    {
     "name": "stderr",
     "output_type": "stream",
     "text": [
      "\u001b[34m\u001b[1mwandb\u001b[0m:   1 of 1 files downloaded.  \n"
     ]
    },
    {
     "name": "stdout",
     "output_type": "stream",
     "text": [
      "2025-04-21 03:49:15,979 - INFO - Downloaded logs_yzi5vqry:v0 to /scratch/downloaded_artifacts/logs_yzi5vqry:v0\n"
     ]
    },
    {
     "name": "stderr",
     "output_type": "stream",
     "text": [
      "\u001b[34m\u001b[1mwandb\u001b[0m:   1 of 1 files downloaded.  \n"
     ]
    },
    {
     "name": "stdout",
     "output_type": "stream",
     "text": [
      "2025-04-21 03:49:16,050 - INFO - Downloaded logs_85tgoyw8:v0 to /scratch/downloaded_artifacts/logs_85tgoyw8:v0\n"
     ]
    },
    {
     "name": "stderr",
     "output_type": "stream",
     "text": [
      "\u001b[34m\u001b[1mwandb\u001b[0m:   1 of 1 files downloaded.  \n"
     ]
    },
    {
     "name": "stdout",
     "output_type": "stream",
     "text": [
      "2025-04-21 03:49:16,188 - INFO - Downloaded logs_c7j7ikj1:v0 to /scratch/downloaded_artifacts/logs_c7j7ikj1:v0\n"
     ]
    },
    {
     "name": "stderr",
     "output_type": "stream",
     "text": [
      "\u001b[34m\u001b[1mwandb\u001b[0m:   1 of 1 files downloaded.  \n"
     ]
    },
    {
     "name": "stdout",
     "output_type": "stream",
     "text": [
      "2025-04-21 03:49:16,199 - INFO - Downloaded logs_df9oeg36:v0 to /scratch/downloaded_artifacts/logs_df9oeg36:v0\n"
     ]
    },
    {
     "name": "stderr",
     "output_type": "stream",
     "text": [
      "\u001b[34m\u001b[1mwandb\u001b[0m:   1 of 1 files downloaded.  \n"
     ]
    },
    {
     "name": "stdout",
     "output_type": "stream",
     "text": [
      "2025-04-21 03:49:16,426 - INFO - Downloaded logs_gg0xxoa9:v0 to /scratch/downloaded_artifacts/logs_gg0xxoa9:v0\n"
     ]
    },
    {
     "name": "stderr",
     "output_type": "stream",
     "text": [
      "\u001b[34m\u001b[1mwandb\u001b[0m:   1 of 1 files downloaded.  \n"
     ]
    },
    {
     "name": "stdout",
     "output_type": "stream",
     "text": [
      "2025-04-21 03:49:16,682 - INFO - Downloaded logs_lb80x055:v0 to /scratch/downloaded_artifacts/logs_lb80x055:v0\n"
     ]
    },
    {
     "name": "stderr",
     "output_type": "stream",
     "text": [
      "\u001b[34m\u001b[1mwandb\u001b[0m:   1 of 1 files downloaded.  \n"
     ]
    },
    {
     "name": "stdout",
     "output_type": "stream",
     "text": [
      "2025-04-21 03:49:16,707 - INFO - Downloaded logs_p7in0hir:v0 to /scratch/downloaded_artifacts/logs_p7in0hir:v0\n"
     ]
    },
    {
     "name": "stderr",
     "output_type": "stream",
     "text": [
      "\u001b[34m\u001b[1mwandb\u001b[0m:   1 of 1 files downloaded.  \n"
     ]
    },
    {
     "name": "stdout",
     "output_type": "stream",
     "text": [
      "2025-04-21 03:49:17,027 - INFO - Downloaded logs_rsf8hyb2:v0 to /scratch/downloaded_artifacts/logs_rsf8hyb2:v0\n"
     ]
    },
    {
     "name": "stderr",
     "output_type": "stream",
     "text": [
      "\u001b[34m\u001b[1mwandb\u001b[0m:   1 of 1 files downloaded.  \n"
     ]
    },
    {
     "name": "stdout",
     "output_type": "stream",
     "text": [
      "2025-04-21 03:49:17,401 - INFO - Downloaded logs_txe9cxs4:v0 to /scratch/downloaded_artifacts/logs_txe9cxs4:v0\n"
     ]
    },
    {
     "name": "stderr",
     "output_type": "stream",
     "text": [
      "\u001b[34m\u001b[1mwandb\u001b[0m:   1 of 1 files downloaded.  \n"
     ]
    },
    {
     "name": "stdout",
     "output_type": "stream",
     "text": [
      "2025-04-21 03:49:17,711 - INFO - Downloaded logs_w5usfu44:v0 to /scratch/downloaded_artifacts/logs_w5usfu44:v0\n"
     ]
    },
    {
     "name": "stderr",
     "output_type": "stream",
     "text": [
      "\u001b[34m\u001b[1mwandb\u001b[0m:   1 of 1 files downloaded.  \n"
     ]
    },
    {
     "name": "stdout",
     "output_type": "stream",
     "text": [
      "2025-04-21 03:49:17,752 - INFO - Downloaded logs_vq1cn7nw:v0 to /scratch/downloaded_artifacts/logs_vq1cn7nw:v0\n"
     ]
    },
    {
     "name": "stderr",
     "output_type": "stream",
     "text": [
      "\u001b[34m\u001b[1mwandb\u001b[0m:   1 of 1 files downloaded.  \n"
     ]
    },
    {
     "name": "stdout",
     "output_type": "stream",
     "text": [
      "2025-04-21 03:49:17,763 - INFO - Downloaded logs_0a8g28h6:v0 to /scratch/downloaded_artifacts/logs_0a8g28h6:v0\n"
     ]
    },
    {
     "name": "stderr",
     "output_type": "stream",
     "text": [
      "\u001b[34m\u001b[1mwandb\u001b[0m:   1 of 1 files downloaded.  \n"
     ]
    },
    {
     "name": "stdout",
     "output_type": "stream",
     "text": [
      "2025-04-21 03:49:18,093 - INFO - Downloaded logs_y3v4gkx0:v0 to /scratch/downloaded_artifacts/logs_y3v4gkx0:v0\n"
     ]
    },
    {
     "name": "stderr",
     "output_type": "stream",
     "text": [
      "\u001b[34m\u001b[1mwandb\u001b[0m:   1 of 1 files downloaded.  \n"
     ]
    },
    {
     "name": "stdout",
     "output_type": "stream",
     "text": [
      "2025-04-21 03:49:18,341 - INFO - Downloaded logs_1kzx7ysi:v0 to /scratch/downloaded_artifacts/logs_1kzx7ysi:v0\n"
     ]
    },
    {
     "name": "stderr",
     "output_type": "stream",
     "text": [
      "\u001b[34m\u001b[1mwandb\u001b[0m:   1 of 1 files downloaded.  \n"
     ]
    },
    {
     "name": "stdout",
     "output_type": "stream",
     "text": [
      "2025-04-21 03:49:18,380 - INFO - Downloaded logs_3dw5stl1:v0 to /scratch/downloaded_artifacts/logs_3dw5stl1:v0\n"
     ]
    },
    {
     "name": "stderr",
     "output_type": "stream",
     "text": [
      "\u001b[34m\u001b[1mwandb\u001b[0m:   1 of 1 files downloaded.  \n"
     ]
    },
    {
     "name": "stdout",
     "output_type": "stream",
     "text": [
      "2025-04-21 03:49:18,534 - INFO - Downloaded logs_49xqqvhs:v0 to /scratch/downloaded_artifacts/logs_49xqqvhs:v0\n"
     ]
    },
    {
     "name": "stderr",
     "output_type": "stream",
     "text": [
      "\u001b[34m\u001b[1mwandb\u001b[0m:   1 of 1 files downloaded.  \n"
     ]
    },
    {
     "name": "stdout",
     "output_type": "stream",
     "text": [
      "2025-04-21 03:49:18,691 - INFO - Downloaded logs_4dnwnoaf:v0 to /scratch/downloaded_artifacts/logs_4dnwnoaf:v0\n"
     ]
    },
    {
     "name": "stderr",
     "output_type": "stream",
     "text": [
      "\u001b[34m\u001b[1mwandb\u001b[0m:   1 of 1 files downloaded.  \n"
     ]
    },
    {
     "name": "stdout",
     "output_type": "stream",
     "text": [
      "2025-04-21 03:49:18,927 - INFO - Downloaded logs_5ib35v4u:v0 to /scratch/downloaded_artifacts/logs_5ib35v4u:v0\n"
     ]
    },
    {
     "name": "stderr",
     "output_type": "stream",
     "text": [
      "\u001b[34m\u001b[1mwandb\u001b[0m:   1 of 1 files downloaded.  \n"
     ]
    },
    {
     "name": "stdout",
     "output_type": "stream",
     "text": [
      "2025-04-21 03:49:18,963 - INFO - Downloaded logs_6uvmnv05:v0 to /scratch/downloaded_artifacts/logs_6uvmnv05:v0\n"
     ]
    },
    {
     "name": "stderr",
     "output_type": "stream",
     "text": [
      "\u001b[34m\u001b[1mwandb\u001b[0m:   1 of 1 files downloaded.  \n"
     ]
    },
    {
     "name": "stdout",
     "output_type": "stream",
     "text": [
      "2025-04-21 03:49:19,002 - INFO - Downloaded logs_4lhuo7m5:v0 to /scratch/downloaded_artifacts/logs_4lhuo7m5:v0\n"
     ]
    },
    {
     "name": "stderr",
     "output_type": "stream",
     "text": [
      "\u001b[34m\u001b[1mwandb\u001b[0m:   1 of 1 files downloaded.  \n"
     ]
    },
    {
     "name": "stdout",
     "output_type": "stream",
     "text": [
      "2025-04-21 03:49:19,251 - INFO - Downloaded logs_9jnjiamw:v0 to /scratch/downloaded_artifacts/logs_9jnjiamw:v0\n"
     ]
    },
    {
     "name": "stderr",
     "output_type": "stream",
     "text": [
      "\u001b[34m\u001b[1mwandb\u001b[0m:   1 of 1 files downloaded.  \n"
     ]
    },
    {
     "name": "stdout",
     "output_type": "stream",
     "text": [
      "2025-04-21 03:49:19,439 - INFO - Downloaded logs_8qyv96hs:v0 to /scratch/downloaded_artifacts/logs_8qyv96hs:v0\n"
     ]
    },
    {
     "name": "stderr",
     "output_type": "stream",
     "text": [
      "\u001b[34m\u001b[1mwandb\u001b[0m:   1 of 1 files downloaded.  \n"
     ]
    },
    {
     "name": "stdout",
     "output_type": "stream",
     "text": [
      "2025-04-21 03:49:19,668 - INFO - Downloaded logs_b1c8irv9:v0 to /scratch/downloaded_artifacts/logs_b1c8irv9:v0\n"
     ]
    },
    {
     "name": "stderr",
     "output_type": "stream",
     "text": [
      "\u001b[34m\u001b[1mwandb\u001b[0m:   1 of 1 files downloaded.  \n"
     ]
    },
    {
     "name": "stdout",
     "output_type": "stream",
     "text": [
      "2025-04-21 03:49:19,710 - INFO - Downloaded logs_9l5py085:v0 to /scratch/downloaded_artifacts/logs_9l5py085:v0\n"
     ]
    },
    {
     "name": "stderr",
     "output_type": "stream",
     "text": [
      "\u001b[34m\u001b[1mwandb\u001b[0m:   1 of 1 files downloaded.  \n"
     ]
    },
    {
     "name": "stdout",
     "output_type": "stream",
     "text": [
      "2025-04-21 03:49:19,794 - INFO - Downloaded logs_c8bzz68z:v0 to /scratch/downloaded_artifacts/logs_c8bzz68z:v0\n"
     ]
    },
    {
     "name": "stderr",
     "output_type": "stream",
     "text": [
      "\u001b[34m\u001b[1mwandb\u001b[0m:   1 of 1 files downloaded.  \n"
     ]
    },
    {
     "name": "stdout",
     "output_type": "stream",
     "text": [
      "2025-04-21 03:49:19,864 - INFO - Downloaded logs_bxhwkwo4:v0 to /scratch/downloaded_artifacts/logs_bxhwkwo4:v0\n"
     ]
    },
    {
     "name": "stderr",
     "output_type": "stream",
     "text": [
      "\u001b[34m\u001b[1mwandb\u001b[0m:   1 of 1 files downloaded.  \n"
     ]
    },
    {
     "name": "stdout",
     "output_type": "stream",
     "text": [
      "2025-04-21 03:49:20,137 - INFO - Downloaded logs_cbp3cudq:v0 to /scratch/downloaded_artifacts/logs_cbp3cudq:v0\n"
     ]
    },
    {
     "name": "stderr",
     "output_type": "stream",
     "text": [
      "\u001b[34m\u001b[1mwandb\u001b[0m:   1 of 1 files downloaded.  \n"
     ]
    },
    {
     "name": "stdout",
     "output_type": "stream",
     "text": [
      "2025-04-21 03:49:20,418 - INFO - Downloaded logs_dlngr0j3:v0 to /scratch/downloaded_artifacts/logs_dlngr0j3:v0\n"
     ]
    },
    {
     "name": "stderr",
     "output_type": "stream",
     "text": [
      "\u001b[34m\u001b[1mwandb\u001b[0m:   1 of 1 files downloaded.  \n"
     ]
    },
    {
     "name": "stdout",
     "output_type": "stream",
     "text": [
      "2025-04-21 03:49:20,492 - INFO - Downloaded logs_f0wdpcjq:v0 to /scratch/downloaded_artifacts/logs_f0wdpcjq:v0\n"
     ]
    },
    {
     "name": "stderr",
     "output_type": "stream",
     "text": [
      "\u001b[34m\u001b[1mwandb\u001b[0m:   1 of 1 files downloaded.  \n"
     ]
    },
    {
     "name": "stdout",
     "output_type": "stream",
     "text": [
      "2025-04-21 03:49:20,562 - INFO - Downloaded logs_d7gnqn7b:v0 to /scratch/downloaded_artifacts/logs_d7gnqn7b:v0\n"
     ]
    },
    {
     "name": "stderr",
     "output_type": "stream",
     "text": [
      "\u001b[34m\u001b[1mwandb\u001b[0m:   1 of 1 files downloaded.  \n"
     ]
    },
    {
     "name": "stdout",
     "output_type": "stream",
     "text": [
      "2025-04-21 03:49:20,589 - INFO - Downloaded logs_eb2d3ysr:v0 to /scratch/downloaded_artifacts/logs_eb2d3ysr:v0\n"
     ]
    },
    {
     "name": "stderr",
     "output_type": "stream",
     "text": [
      "\u001b[34m\u001b[1mwandb\u001b[0m:   1 of 1 files downloaded.  \n"
     ]
    },
    {
     "name": "stdout",
     "output_type": "stream",
     "text": [
      "2025-04-21 03:49:20,646 - INFO - Downloaded logs_fs8nabyn:v0 to /scratch/downloaded_artifacts/logs_fs8nabyn:v0\n"
     ]
    },
    {
     "name": "stderr",
     "output_type": "stream",
     "text": [
      "\u001b[34m\u001b[1mwandb\u001b[0m:   1 of 1 files downloaded.  \n"
     ]
    },
    {
     "name": "stdout",
     "output_type": "stream",
     "text": [
      "2025-04-21 03:49:21,005 - INFO - Downloaded logs_gzavm3tl:v0 to /scratch/downloaded_artifacts/logs_gzavm3tl:v0\n"
     ]
    },
    {
     "name": "stderr",
     "output_type": "stream",
     "text": [
      "\u001b[34m\u001b[1mwandb\u001b[0m:   1 of 1 files downloaded.  \n"
     ]
    },
    {
     "name": "stdout",
     "output_type": "stream",
     "text": [
      "2025-04-21 03:49:21,060 - INFO - Downloaded logs_hb6wa9zd:v0 to /scratch/downloaded_artifacts/logs_hb6wa9zd:v0\n"
     ]
    },
    {
     "name": "stderr",
     "output_type": "stream",
     "text": [
      "\u001b[34m\u001b[1mwandb\u001b[0m:   1 of 1 files downloaded.  \n"
     ]
    },
    {
     "name": "stdout",
     "output_type": "stream",
     "text": [
      "2025-04-21 03:49:21,096 - INFO - Downloaded logs_i0k696e9:v0 to /scratch/downloaded_artifacts/logs_i0k696e9:v0\n"
     ]
    },
    {
     "name": "stderr",
     "output_type": "stream",
     "text": [
      "\u001b[34m\u001b[1mwandb\u001b[0m:   1 of 1 files downloaded.  \n"
     ]
    },
    {
     "name": "stdout",
     "output_type": "stream",
     "text": [
      "2025-04-21 03:49:21,556 - INFO - Downloaded logs_k4rvrzc5:v0 to /scratch/downloaded_artifacts/logs_k4rvrzc5:v0\n"
     ]
    },
    {
     "name": "stderr",
     "output_type": "stream",
     "text": [
      "\u001b[34m\u001b[1mwandb\u001b[0m:   1 of 1 files downloaded.  \n"
     ]
    },
    {
     "name": "stdout",
     "output_type": "stream",
     "text": [
      "2025-04-21 03:49:21,694 - INFO - Downloaded logs_ko5dv6l4:v0 to /scratch/downloaded_artifacts/logs_ko5dv6l4:v0\n"
     ]
    },
    {
     "name": "stderr",
     "output_type": "stream",
     "text": [
      "\u001b[34m\u001b[1mwandb\u001b[0m:   1 of 1 files downloaded.  \n"
     ]
    },
    {
     "name": "stdout",
     "output_type": "stream",
     "text": [
      "2025-04-21 03:49:21,708 - INFO - Downloaded logs_kj8lbvp4:v0 to /scratch/downloaded_artifacts/logs_kj8lbvp4:v0\n"
     ]
    },
    {
     "name": "stderr",
     "output_type": "stream",
     "text": [
      "\u001b[34m\u001b[1mwandb\u001b[0m:   1 of 1 files downloaded.  \n"
     ]
    },
    {
     "name": "stdout",
     "output_type": "stream",
     "text": [
      "2025-04-21 03:49:21,869 - INFO - Downloaded logs_p8z8jcl7:v0 to /scratch/downloaded_artifacts/logs_p8z8jcl7:v0\n"
     ]
    },
    {
     "name": "stderr",
     "output_type": "stream",
     "text": [
      "\u001b[34m\u001b[1mwandb\u001b[0m:   1 of 1 files downloaded.  \n"
     ]
    },
    {
     "name": "stdout",
     "output_type": "stream",
     "text": [
      "2025-04-21 03:49:21,916 - INFO - Downloaded logs_l6jbmsgv:v0 to /scratch/downloaded_artifacts/logs_l6jbmsgv:v0\n"
     ]
    },
    {
     "name": "stderr",
     "output_type": "stream",
     "text": [
      "\u001b[34m\u001b[1mwandb\u001b[0m:   1 of 1 files downloaded.  \n"
     ]
    },
    {
     "name": "stdout",
     "output_type": "stream",
     "text": [
      "2025-04-21 03:49:22,274 - INFO - Downloaded logs_qb1se1op:v0 to /scratch/downloaded_artifacts/logs_qb1se1op:v0\n"
     ]
    },
    {
     "name": "stderr",
     "output_type": "stream",
     "text": [
      "\u001b[34m\u001b[1mwandb\u001b[0m:   1 of 1 files downloaded.  \n"
     ]
    },
    {
     "name": "stdout",
     "output_type": "stream",
     "text": [
      "2025-04-21 03:49:22,316 - INFO - Downloaded logs_pxh2egdv:v0 to /scratch/downloaded_artifacts/logs_pxh2egdv:v0\n"
     ]
    },
    {
     "name": "stderr",
     "output_type": "stream",
     "text": [
      "\u001b[34m\u001b[1mwandb\u001b[0m:   1 of 1 files downloaded.  \n"
     ]
    },
    {
     "name": "stdout",
     "output_type": "stream",
     "text": [
      "2025-04-21 03:49:22,516 - INFO - Downloaded logs_t6zujcs1:v0 to /scratch/downloaded_artifacts/logs_t6zujcs1:v0\n"
     ]
    },
    {
     "name": "stderr",
     "output_type": "stream",
     "text": [
      "\u001b[34m\u001b[1mwandb\u001b[0m:   1 of 1 files downloaded.  \n"
     ]
    },
    {
     "name": "stdout",
     "output_type": "stream",
     "text": [
      "2025-04-21 03:49:22,607 - INFO - Downloaded logs_t0ainfaw:v0 to /scratch/downloaded_artifacts/logs_t0ainfaw:v0\n"
     ]
    },
    {
     "name": "stderr",
     "output_type": "stream",
     "text": [
      "\u001b[34m\u001b[1mwandb\u001b[0m:   1 of 1 files downloaded.  \n"
     ]
    },
    {
     "name": "stdout",
     "output_type": "stream",
     "text": [
      "2025-04-21 03:49:22,693 - INFO - Downloaded logs_umgdm9ut:v0 to /scratch/downloaded_artifacts/logs_umgdm9ut:v0\n"
     ]
    },
    {
     "name": "stderr",
     "output_type": "stream",
     "text": [
      "\u001b[34m\u001b[1mwandb\u001b[0m:   1 of 1 files downloaded.  \n"
     ]
    },
    {
     "name": "stdout",
     "output_type": "stream",
     "text": [
      "2025-04-21 03:49:22,862 - INFO - Downloaded logs_tmikledx:v0 to /scratch/downloaded_artifacts/logs_tmikledx:v0\n"
     ]
    },
    {
     "name": "stderr",
     "output_type": "stream",
     "text": [
      "\u001b[34m\u001b[1mwandb\u001b[0m:   1 of 1 files downloaded.  \n"
     ]
    },
    {
     "name": "stdout",
     "output_type": "stream",
     "text": [
      "2025-04-21 03:49:23,331 - INFO - Downloaded logs_ygjals37:v0 to /scratch/downloaded_artifacts/logs_ygjals37:v0\n"
     ]
    },
    {
     "name": "stderr",
     "output_type": "stream",
     "text": [
      "\u001b[34m\u001b[1mwandb\u001b[0m:   1 of 1 files downloaded.  \n"
     ]
    },
    {
     "name": "stdout",
     "output_type": "stream",
     "text": [
      "2025-04-21 03:49:23,343 - INFO - Downloaded logs_z6mmopjm:v0 to /scratch/downloaded_artifacts/logs_z6mmopjm:v0\n"
     ]
    },
    {
     "name": "stderr",
     "output_type": "stream",
     "text": [
      "\u001b[34m\u001b[1mwandb\u001b[0m:   1 of 1 files downloaded.  \n"
     ]
    },
    {
     "name": "stdout",
     "output_type": "stream",
     "text": [
      "2025-04-21 03:49:23,409 - INFO - Downloaded logs_y77g0ktg:v0 to /scratch/downloaded_artifacts/logs_y77g0ktg:v0\n"
     ]
    },
    {
     "name": "stderr",
     "output_type": "stream",
     "text": [
      "\u001b[34m\u001b[1mwandb\u001b[0m:   1 of 1 files downloaded.  \n"
     ]
    },
    {
     "name": "stdout",
     "output_type": "stream",
     "text": [
      "2025-04-21 03:49:23,486 - INFO - Downloaded logs_ybbkolmz:v0 to /scratch/downloaded_artifacts/logs_ybbkolmz:v0\n"
     ]
    },
    {
     "name": "stderr",
     "output_type": "stream",
     "text": [
      "\u001b[34m\u001b[1mwandb\u001b[0m:   1 of 1 files downloaded.  \n",
      "\u001b[34m\u001b[1mwandb\u001b[0m:   1 of 1 files downloaded.  \n"
     ]
    },
    {
     "name": "stdout",
     "output_type": "stream",
     "text": [
      "2025-04-21 03:49:23,771 - INFO - Downloaded logs_7x4orodi:v0 to /scratch/downloaded_artifacts/logs_7x4orodi:v0\n",
      "2025-04-21 03:49:23,775 - INFO - Downloaded logs_zv575wxh:v0 to /scratch/downloaded_artifacts/logs_zv575wxh:v0\n"
     ]
    },
    {
     "name": "stderr",
     "output_type": "stream",
     "text": [
      "\u001b[34m\u001b[1mwandb\u001b[0m:   1 of 1 files downloaded.  \n"
     ]
    },
    {
     "name": "stdout",
     "output_type": "stream",
     "text": [
      "2025-04-21 03:49:23,856 - INFO - Downloaded logs_1he8ttt4:v0 to /scratch/downloaded_artifacts/logs_1he8ttt4:v0\n"
     ]
    },
    {
     "name": "stderr",
     "output_type": "stream",
     "text": [
      "\u001b[34m\u001b[1mwandb\u001b[0m:   1 of 1 files downloaded.  \n"
     ]
    },
    {
     "name": "stdout",
     "output_type": "stream",
     "text": [
      "2025-04-21 03:49:23,927 - INFO - Downloaded logs_u79d3ilg:v0 to /scratch/downloaded_artifacts/logs_u79d3ilg:v0\n"
     ]
    },
    {
     "name": "stderr",
     "output_type": "stream",
     "text": [
      "\u001b[34m\u001b[1mwandb\u001b[0m:   1 of 1 files downloaded.  \n"
     ]
    },
    {
     "name": "stdout",
     "output_type": "stream",
     "text": [
      "2025-04-21 03:49:23,994 - INFO - Downloaded logs_5cg1t7na:v0 to /scratch/downloaded_artifacts/logs_5cg1t7na:v0\n"
     ]
    },
    {
     "name": "stderr",
     "output_type": "stream",
     "text": [
      "\u001b[34m\u001b[1mwandb\u001b[0m:   1 of 1 files downloaded.  \n"
     ]
    },
    {
     "name": "stdout",
     "output_type": "stream",
     "text": [
      "2025-04-21 03:49:24,365 - INFO - Downloaded logs_5v2ep4xv:v0 to /scratch/downloaded_artifacts/logs_5v2ep4xv:v0\n"
     ]
    },
    {
     "name": "stderr",
     "output_type": "stream",
     "text": [
      "\u001b[34m\u001b[1mwandb\u001b[0m:   1 of 1 files downloaded.  \n"
     ]
    },
    {
     "name": "stdout",
     "output_type": "stream",
     "text": [
      "2025-04-21 03:49:24,439 - INFO - Downloaded logs_d1szb7b9:v0 to /scratch/downloaded_artifacts/logs_d1szb7b9:v0\n"
     ]
    },
    {
     "name": "stderr",
     "output_type": "stream",
     "text": [
      "\u001b[34m\u001b[1mwandb\u001b[0m:   1 of 1 files downloaded.  \n"
     ]
    },
    {
     "name": "stdout",
     "output_type": "stream",
     "text": [
      "2025-04-21 03:49:24,586 - INFO - Downloaded logs_bc8xn9mp:v0 to /scratch/downloaded_artifacts/logs_bc8xn9mp:v0\n"
     ]
    },
    {
     "name": "stderr",
     "output_type": "stream",
     "text": [
      "\u001b[34m\u001b[1mwandb\u001b[0m:   1 of 1 files downloaded.  \n"
     ]
    },
    {
     "name": "stdout",
     "output_type": "stream",
     "text": [
      "2025-04-21 03:49:24,680 - INFO - Downloaded logs_ddzn9lh7:v0 to /scratch/downloaded_artifacts/logs_ddzn9lh7:v0\n"
     ]
    },
    {
     "name": "stderr",
     "output_type": "stream",
     "text": [
      "\u001b[34m\u001b[1mwandb\u001b[0m:   1 of 1 files downloaded.  \n"
     ]
    },
    {
     "name": "stdout",
     "output_type": "stream",
     "text": [
      "2025-04-21 03:49:24,707 - INFO - Downloaded logs_dtg9xctv:v0 to /scratch/downloaded_artifacts/logs_dtg9xctv:v0\n"
     ]
    },
    {
     "name": "stderr",
     "output_type": "stream",
     "text": [
      "\u001b[34m\u001b[1mwandb\u001b[0m:   1 of 1 files downloaded.  \n"
     ]
    },
    {
     "name": "stdout",
     "output_type": "stream",
     "text": [
      "2025-04-21 03:49:24,999 - INFO - Downloaded logs_ekcxs1hp:v0 to /scratch/downloaded_artifacts/logs_ekcxs1hp:v0\n"
     ]
    },
    {
     "name": "stderr",
     "output_type": "stream",
     "text": [
      "\u001b[34m\u001b[1mwandb\u001b[0m:   1 of 1 files downloaded.  \n"
     ]
    },
    {
     "name": "stdout",
     "output_type": "stream",
     "text": [
      "2025-04-21 03:49:25,016 - INFO - Downloaded logs_fh5p190g:v0 to /scratch/downloaded_artifacts/logs_fh5p190g:v0\n"
     ]
    },
    {
     "name": "stderr",
     "output_type": "stream",
     "text": [
      "\u001b[34m\u001b[1mwandb\u001b[0m:   1 of 1 files downloaded.  \n"
     ]
    },
    {
     "name": "stdout",
     "output_type": "stream",
     "text": [
      "2025-04-21 03:49:25,264 - INFO - Downloaded logs_fu52s8y9:v0 to /scratch/downloaded_artifacts/logs_fu52s8y9:v0\n"
     ]
    },
    {
     "name": "stderr",
     "output_type": "stream",
     "text": [
      "\u001b[34m\u001b[1mwandb\u001b[0m:   1 of 1 files downloaded.  \n"
     ]
    },
    {
     "name": "stdout",
     "output_type": "stream",
     "text": [
      "2025-04-21 03:49:25,273 - INFO - Downloaded logs_g4zos9ol:v0 to /scratch/downloaded_artifacts/logs_g4zos9ol:v0\n"
     ]
    },
    {
     "name": "stderr",
     "output_type": "stream",
     "text": [
      "\u001b[34m\u001b[1mwandb\u001b[0m:   1 of 1 files downloaded.  \n"
     ]
    },
    {
     "name": "stdout",
     "output_type": "stream",
     "text": [
      "2025-04-21 03:49:25,532 - INFO - Downloaded logs_gf88z5n9:v0 to /scratch/downloaded_artifacts/logs_gf88z5n9:v0\n"
     ]
    },
    {
     "name": "stderr",
     "output_type": "stream",
     "text": [
      "\u001b[34m\u001b[1mwandb\u001b[0m:   1 of 1 files downloaded.  \n"
     ]
    },
    {
     "name": "stdout",
     "output_type": "stream",
     "text": [
      "2025-04-21 03:49:25,578 - INFO - Downloaded logs_jjyla8un:v0 to /scratch/downloaded_artifacts/logs_jjyla8un:v0\n"
     ]
    },
    {
     "name": "stderr",
     "output_type": "stream",
     "text": [
      "\u001b[34m\u001b[1mwandb\u001b[0m:   1 of 1 files downloaded.  \n"
     ]
    },
    {
     "name": "stdout",
     "output_type": "stream",
     "text": [
      "2025-04-21 03:49:25,958 - INFO - Downloaded logs_seebwwqi:v0 to /scratch/downloaded_artifacts/logs_seebwwqi:v0\n"
     ]
    },
    {
     "name": "stderr",
     "output_type": "stream",
     "text": [
      "\u001b[34m\u001b[1mwandb\u001b[0m:   1 of 1 files downloaded.  \n"
     ]
    },
    {
     "name": "stdout",
     "output_type": "stream",
     "text": [
      "2025-04-21 03:49:26,006 - INFO - Downloaded logs_qw8t76ss:v0 to /scratch/downloaded_artifacts/logs_qw8t76ss:v0\n"
     ]
    },
    {
     "name": "stderr",
     "output_type": "stream",
     "text": [
      "\u001b[34m\u001b[1mwandb\u001b[0m:   1 of 1 files downloaded.  \n"
     ]
    },
    {
     "name": "stdout",
     "output_type": "stream",
     "text": [
      "2025-04-21 03:49:26,019 - INFO - Downloaded logs_trzvkhtv:v0 to /scratch/downloaded_artifacts/logs_trzvkhtv:v0\n"
     ]
    },
    {
     "name": "stderr",
     "output_type": "stream",
     "text": [
      "\u001b[34m\u001b[1mwandb\u001b[0m:   1 of 1 files downloaded.  \n"
     ]
    },
    {
     "name": "stdout",
     "output_type": "stream",
     "text": [
      "2025-04-21 03:49:26,175 - INFO - Downloaded logs_umg0ujy1:v0 to /scratch/downloaded_artifacts/logs_umg0ujy1:v0\n"
     ]
    },
    {
     "name": "stderr",
     "output_type": "stream",
     "text": [
      "\u001b[34m\u001b[1mwandb\u001b[0m:   1 of 1 files downloaded.  \n"
     ]
    },
    {
     "name": "stdout",
     "output_type": "stream",
     "text": [
      "2025-04-21 03:49:26,508 - INFO - Downloaded logs_xzbzdsfa:v0 to /scratch/downloaded_artifacts/logs_xzbzdsfa:v0\n"
     ]
    },
    {
     "name": "stderr",
     "output_type": "stream",
     "text": [
      "\u001b[34m\u001b[1mwandb\u001b[0m:   1 of 1 files downloaded.  \n"
     ]
    },
    {
     "name": "stdout",
     "output_type": "stream",
     "text": [
      "2025-04-21 03:49:26,517 - INFO - Downloaded logs_y1i749fc:v0 to /scratch/downloaded_artifacts/logs_y1i749fc:v0\n"
     ]
    },
    {
     "name": "stderr",
     "output_type": "stream",
     "text": [
      "\u001b[34m\u001b[1mwandb\u001b[0m:   1 of 1 files downloaded.  \n"
     ]
    },
    {
     "name": "stdout",
     "output_type": "stream",
     "text": [
      "2025-04-21 03:49:26,585 - INFO - Downloaded logs_zqnhj979:v0 to /scratch/downloaded_artifacts/logs_zqnhj979:v0\n"
     ]
    },
    {
     "name": "stderr",
     "output_type": "stream",
     "text": [
      "\u001b[34m\u001b[1mwandb\u001b[0m:   1 of 1 files downloaded.  \n"
     ]
    },
    {
     "name": "stdout",
     "output_type": "stream",
     "text": [
      "2025-04-21 03:49:26,705 - INFO - Downloaded logs_yu889l6g:v0 to /scratch/downloaded_artifacts/logs_yu889l6g:v0\n"
     ]
    },
    {
     "name": "stderr",
     "output_type": "stream",
     "text": [
      "\u001b[34m\u001b[1mwandb\u001b[0m:   1 of 1 files downloaded.  \n"
     ]
    },
    {
     "name": "stdout",
     "output_type": "stream",
     "text": [
      "2025-04-21 03:49:26,907 - INFO - Downloaded logs_0n2urvle:v0 to /scratch/downloaded_artifacts/logs_0n2urvle:v0\n"
     ]
    },
    {
     "name": "stderr",
     "output_type": "stream",
     "text": [
      "\u001b[34m\u001b[1mwandb\u001b[0m:   1 of 1 files downloaded.  \n"
     ]
    },
    {
     "name": "stdout",
     "output_type": "stream",
     "text": [
      "2025-04-21 03:49:27,096 - INFO - Downloaded logs_1z3mouwy:v0 to /scratch/downloaded_artifacts/logs_1z3mouwy:v0\n"
     ]
    },
    {
     "name": "stderr",
     "output_type": "stream",
     "text": [
      "\u001b[34m\u001b[1mwandb\u001b[0m:   1 of 1 files downloaded.  \n"
     ]
    },
    {
     "name": "stdout",
     "output_type": "stream",
     "text": [
      "2025-04-21 03:49:27,150 - INFO - Downloaded logs_1qahfdh2:v0 to /scratch/downloaded_artifacts/logs_1qahfdh2:v0\n"
     ]
    },
    {
     "name": "stderr",
     "output_type": "stream",
     "text": [
      "\u001b[34m\u001b[1mwandb\u001b[0m:   1 of 1 files downloaded.  \n"
     ]
    },
    {
     "name": "stdout",
     "output_type": "stream",
     "text": [
      "2025-04-21 03:49:27,444 - INFO - Downloaded logs_5rah9k35:v0 to /scratch/downloaded_artifacts/logs_5rah9k35:v0\n"
     ]
    },
    {
     "name": "stderr",
     "output_type": "stream",
     "text": [
      "\u001b[34m\u001b[1mwandb\u001b[0m:   1 of 1 files downloaded.  \n"
     ]
    },
    {
     "name": "stdout",
     "output_type": "stream",
     "text": [
      "2025-04-21 03:49:27,505 - INFO - Downloaded logs_3o1dlqwg:v0 to /scratch/downloaded_artifacts/logs_3o1dlqwg:v0\n"
     ]
    },
    {
     "name": "stderr",
     "output_type": "stream",
     "text": [
      "\u001b[34m\u001b[1mwandb\u001b[0m:   1 of 1 files downloaded.  \n"
     ]
    },
    {
     "name": "stdout",
     "output_type": "stream",
     "text": [
      "2025-04-21 03:49:27,774 - INFO - Downloaded logs_6lc62rmf:v0 to /scratch/downloaded_artifacts/logs_6lc62rmf:v0\n"
     ]
    },
    {
     "name": "stderr",
     "output_type": "stream",
     "text": [
      "\u001b[34m\u001b[1mwandb\u001b[0m:   1 of 1 files downloaded.  \n"
     ]
    },
    {
     "name": "stdout",
     "output_type": "stream",
     "text": [
      "2025-04-21 03:49:27,790 - INFO - Downloaded logs_8uiu15z2:v0 to /scratch/downloaded_artifacts/logs_8uiu15z2:v0\n"
     ]
    },
    {
     "name": "stderr",
     "output_type": "stream",
     "text": [
      "\u001b[34m\u001b[1mwandb\u001b[0m:   1 of 1 files downloaded.  \n"
     ]
    },
    {
     "name": "stdout",
     "output_type": "stream",
     "text": [
      "2025-04-21 03:49:27,924 - INFO - Downloaded logs_9xr2ejfm:v0 to /scratch/downloaded_artifacts/logs_9xr2ejfm:v0\n"
     ]
    },
    {
     "name": "stderr",
     "output_type": "stream",
     "text": [
      "\u001b[34m\u001b[1mwandb\u001b[0m:   1 of 1 files downloaded.  \n",
      "\u001b[34m\u001b[1mwandb\u001b[0m:   1 of 1 files downloaded.  \n"
     ]
    },
    {
     "name": "stdout",
     "output_type": "stream",
     "text": [
      "2025-04-21 03:49:28,001 - INFO - Downloaded logs_anyyknkf:v0 to /scratch/downloaded_artifacts/logs_anyyknkf:v0\n",
      "2025-04-21 03:49:28,003 - INFO - Downloaded logs_dcsqa44e:v0 to /scratch/downloaded_artifacts/logs_dcsqa44e:v0\n"
     ]
    },
    {
     "name": "stderr",
     "output_type": "stream",
     "text": [
      "\u001b[34m\u001b[1mwandb\u001b[0m: \u001b[33mWARNING\u001b[0m Cache size exceeded. Attempting to reclaim space...\n",
      "\u001b[34m\u001b[1mwandb\u001b[0m: \u001b[33mWARNING\u001b[0m Cache contains 188.2MB of temporary files. Run `wandb artifact cleanup --remove-temp` to remove them.\n",
      "\u001b[34m\u001b[1mwandb\u001b[0m: \u001b[33mWARNING\u001b[0m Cache size exceeded. Attempting to reclaim space...\n",
      "\u001b[34m\u001b[1mwandb\u001b[0m: \u001b[33mWARNING\u001b[0m Cache contains 214.6MB of temporary files. Run `wandb artifact cleanup --remove-temp` to remove them.\n"
     ]
    },
    {
     "name": "stdout",
     "output_type": "stream",
     "text": [
      "2025-04-21 03:49:28,309 - ERROR - Error downloading artifact for run jxkaid80: [Errno 28] No space left on device\n",
      "2025-04-21 03:49:28,309 - ERROR - Error downloading artifact for run js2qgv6o: [Errno 28] No space left on device\n",
      "2025-04-21 03:49:28,309 - ERROR - Error downloading artifact for run deygm6le: [Errno 28] No space left on device\n",
      "2025-04-21 03:49:28,309 - ERROR - Error downloading artifact for run orzdc9uo: [Errno 28] No space left on device\n",
      "2025-04-21 03:49:28,310 - ERROR - Error downloading artifact for run ooyg01ob: [Errno 28] No space left on device\n",
      "2025-04-21 03:49:28,310 - ERROR - Error downloading artifact for run i95krcht: [Errno 28] No space left on device\n",
      "2025-04-21 03:49:28,310 - ERROR - Error downloading artifact for run mnk1rw6w: [Errno 28] No space left on device\n",
      "2025-04-21 03:49:28,310 - ERROR - Error downloading artifact for run krvict5p: [Errno 28] No space left on device\n",
      "2025-04-21 03:49:28,310 - ERROR - Error downloading artifact for run konkknaw: [Errno 28] No space left on device\n",
      "2025-04-21 03:49:28,310 - ERROR - Error downloading artifact for run gr1h4fv8: [Errno 28] No space left on device\n",
      "2025-04-21 03:49:28,310 - ERROR - Error downloading artifact for run druc910g: [Errno 28] No space left on device\n",
      "2025-04-21 03:49:28,312 - ERROR - Error downloading artifact for run p30ujcrx: [Errno 28] No space left on device\n"
     ]
    },
    {
     "name": "stderr",
     "output_type": "stream",
     "text": [
      "\u001b[34m\u001b[1mwandb\u001b[0m:   1 of 1 files downloaded.  \n"
     ]
    },
    {
     "name": "stdout",
     "output_type": "stream",
     "text": [
      "2025-04-21 03:49:29,244 - INFO - Downloaded logs_qo0v916i:v0 to /scratch/downloaded_artifacts/logs_qo0v916i:v0\n"
     ]
    },
    {
     "name": "stderr",
     "output_type": "stream",
     "text": [
      "\u001b[34m\u001b[1mwandb\u001b[0m:   1 of 1 files downloaded.  \n"
     ]
    },
    {
     "name": "stdout",
     "output_type": "stream",
     "text": [
      "2025-04-21 03:49:29,558 - INFO - Downloaded logs_qfolwg2d:v0 to /scratch/downloaded_artifacts/logs_qfolwg2d:v0\n"
     ]
    },
    {
     "name": "stderr",
     "output_type": "stream",
     "text": [
      "\u001b[34m\u001b[1mwandb\u001b[0m:   1 of 1 files downloaded.  \n"
     ]
    },
    {
     "name": "stdout",
     "output_type": "stream",
     "text": [
      "2025-04-21 03:49:29,717 - INFO - Downloaded logs_pxhmwyzx:v0 to /scratch/downloaded_artifacts/logs_pxhmwyzx:v0\n"
     ]
    },
    {
     "name": "stderr",
     "output_type": "stream",
     "text": [
      "\u001b[34m\u001b[1mwandb\u001b[0m:   1 of 1 files downloaded.  \n"
     ]
    },
    {
     "name": "stdout",
     "output_type": "stream",
     "text": [
      "2025-04-21 03:49:30,134 - INFO - Downloaded logs_r42ohqq5:v0 to /scratch/downloaded_artifacts/logs_r42ohqq5:v0\n"
     ]
    },
    {
     "name": "stderr",
     "output_type": "stream",
     "text": [
      "\u001b[34m\u001b[1mwandb\u001b[0m:   1 of 1 files downloaded.  \n"
     ]
    },
    {
     "name": "stdout",
     "output_type": "stream",
     "text": [
      "2025-04-21 03:49:30,305 - INFO - Downloaded logs_rl8p6v4d:v0 to /scratch/downloaded_artifacts/logs_rl8p6v4d:v0\n"
     ]
    },
    {
     "name": "stderr",
     "output_type": "stream",
     "text": [
      "\u001b[34m\u001b[1mwandb\u001b[0m:   1 of 1 files downloaded.  \n"
     ]
    },
    {
     "name": "stdout",
     "output_type": "stream",
     "text": [
      "2025-04-21 03:49:30,323 - INFO - Downloaded logs_rs6kflby:v0 to /scratch/downloaded_artifacts/logs_rs6kflby:v0\n"
     ]
    },
    {
     "name": "stderr",
     "output_type": "stream",
     "text": [
      "\u001b[34m\u001b[1mwandb\u001b[0m:   1 of 1 files downloaded.  \n"
     ]
    },
    {
     "name": "stdout",
     "output_type": "stream",
     "text": [
      "2025-04-21 03:49:30,662 - INFO - Downloaded logs_s92bkjz1:v0 to /scratch/downloaded_artifacts/logs_s92bkjz1:v0\n"
     ]
    },
    {
     "name": "stderr",
     "output_type": "stream",
     "text": [
      "\u001b[34m\u001b[1mwandb\u001b[0m:   1 of 1 files downloaded.  \n"
     ]
    },
    {
     "name": "stdout",
     "output_type": "stream",
     "text": [
      "2025-04-21 03:49:30,740 - INFO - Downloaded logs_t09savrw:v0 to /scratch/downloaded_artifacts/logs_t09savrw:v0\n"
     ]
    },
    {
     "name": "stderr",
     "output_type": "stream",
     "text": [
      "\u001b[34m\u001b[1mwandb\u001b[0m:   1 of 1 files downloaded.  \n"
     ]
    },
    {
     "name": "stdout",
     "output_type": "stream",
     "text": [
      "2025-04-21 03:49:31,263 - INFO - Downloaded logs_tq92cerk:v0 to /scratch/downloaded_artifacts/logs_tq92cerk:v0\n"
     ]
    },
    {
     "name": "stderr",
     "output_type": "stream",
     "text": [
      "\u001b[34m\u001b[1mwandb\u001b[0m:   1 of 1 files downloaded.  \n"
     ]
    },
    {
     "name": "stdout",
     "output_type": "stream",
     "text": [
      "2025-04-21 03:49:31,502 - INFO - Downloaded logs_xop2wr06:v0 to /scratch/downloaded_artifacts/logs_xop2wr06:v0\n"
     ]
    },
    {
     "name": "stderr",
     "output_type": "stream",
     "text": [
      "\u001b[34m\u001b[1mwandb\u001b[0m:   1 of 1 files downloaded.  \n"
     ]
    },
    {
     "name": "stdout",
     "output_type": "stream",
     "text": [
      "2025-04-21 03:49:31,739 - INFO - Downloaded logs_x9yi8o22:v0 to /scratch/downloaded_artifacts/logs_x9yi8o22:v0\n"
     ]
    },
    {
     "name": "stderr",
     "output_type": "stream",
     "text": [
      "\u001b[34m\u001b[1mwandb\u001b[0m:   1 of 1 files downloaded.  \n"
     ]
    },
    {
     "name": "stdout",
     "output_type": "stream",
     "text": [
      "2025-04-21 03:49:31,911 - INFO - Downloaded logs_vyekkl6k:v0 to /scratch/downloaded_artifacts/logs_vyekkl6k:v0\n"
     ]
    },
    {
     "name": "stderr",
     "output_type": "stream",
     "text": [
      "\u001b[34m\u001b[1mwandb\u001b[0m:   1 of 1 files downloaded.  \n"
     ]
    },
    {
     "name": "stdout",
     "output_type": "stream",
     "text": [
      "2025-04-21 03:49:32,070 - INFO - Downloaded logs_73qunvh3:v0 to /scratch/downloaded_artifacts/logs_73qunvh3:v0\n"
     ]
    },
    {
     "name": "stderr",
     "output_type": "stream",
     "text": [
      "\u001b[34m\u001b[1mwandb\u001b[0m:   1 of 1 files downloaded.  \n"
     ]
    },
    {
     "name": "stdout",
     "output_type": "stream",
     "text": [
      "2025-04-21 03:49:32,087 - INFO - Downloaded logs_xlxy33ov:v0 to /scratch/downloaded_artifacts/logs_xlxy33ov:v0\n"
     ]
    },
    {
     "name": "stderr",
     "output_type": "stream",
     "text": [
      "\u001b[34m\u001b[1mwandb\u001b[0m:   1 of 1 files downloaded.  \n"
     ]
    },
    {
     "name": "stdout",
     "output_type": "stream",
     "text": [
      "2025-04-21 03:49:32,111 - INFO - Downloaded logs_u0fqv9cs:v0 to /scratch/downloaded_artifacts/logs_u0fqv9cs:v0\n"
     ]
    },
    {
     "name": "stderr",
     "output_type": "stream",
     "text": [
      "\u001b[34m\u001b[1mwandb\u001b[0m:   1 of 1 files downloaded.  \n"
     ]
    },
    {
     "name": "stdout",
     "output_type": "stream",
     "text": [
      "2025-04-21 03:49:32,183 - INFO - Downloaded logs_ab6qw8c3:v0 to /scratch/downloaded_artifacts/logs_ab6qw8c3:v0\n"
     ]
    },
    {
     "name": "stderr",
     "output_type": "stream",
     "text": [
      "\u001b[34m\u001b[1mwandb\u001b[0m:   1 of 1 files downloaded.  \n"
     ]
    },
    {
     "name": "stdout",
     "output_type": "stream",
     "text": [
      "2025-04-21 03:49:32,260 - INFO - Downloaded logs_2am8aucq:v0 to /scratch/downloaded_artifacts/logs_2am8aucq:v0\n"
     ]
    },
    {
     "name": "stderr",
     "output_type": "stream",
     "text": [
      "\u001b[34m\u001b[1mwandb\u001b[0m:   1 of 1 files downloaded.  \n"
     ]
    },
    {
     "name": "stdout",
     "output_type": "stream",
     "text": [
      "2025-04-21 03:49:32,265 - INFO - Downloaded logs_xxggq83b:v0 to /scratch/downloaded_artifacts/logs_xxggq83b:v0\n"
     ]
    },
    {
     "name": "stderr",
     "output_type": "stream",
     "text": [
      "\u001b[34m\u001b[1mwandb\u001b[0m:   1 of 1 files downloaded.  \n"
     ]
    },
    {
     "name": "stdout",
     "output_type": "stream",
     "text": [
      "2025-04-21 03:49:32,329 - INFO - Downloaded logs_4v8tfac5:v0 to /scratch/downloaded_artifacts/logs_4v8tfac5:v0\n"
     ]
    },
    {
     "name": "stderr",
     "output_type": "stream",
     "text": [
      "\u001b[34m\u001b[1mwandb\u001b[0m:   1 of 1 files downloaded.  \n"
     ]
    },
    {
     "name": "stdout",
     "output_type": "stream",
     "text": [
      "2025-04-21 03:49:32,443 - INFO - Downloaded logs_tuxcnp4g:v0 to /scratch/downloaded_artifacts/logs_tuxcnp4g:v0\n"
     ]
    },
    {
     "name": "stderr",
     "output_type": "stream",
     "text": [
      "\u001b[34m\u001b[1mwandb\u001b[0m:   1 of 1 files downloaded.  \n"
     ]
    },
    {
     "name": "stdout",
     "output_type": "stream",
     "text": [
      "2025-04-21 03:49:34,593 - INFO - Downloaded logs_cqrtfo9t:v0 to /scratch/downloaded_artifacts/logs_cqrtfo9t:v0\n"
     ]
    },
    {
     "name": "stderr",
     "output_type": "stream",
     "text": [
      "\u001b[34m\u001b[1mwandb\u001b[0m:   1 of 1 files downloaded.  \n"
     ]
    },
    {
     "name": "stdout",
     "output_type": "stream",
     "text": [
      "2025-04-21 03:49:36,574 - INFO - Downloaded logs_d2smw7gm:v0 to /scratch/downloaded_artifacts/logs_d2smw7gm:v0\n"
     ]
    },
    {
     "name": "stderr",
     "output_type": "stream",
     "text": [
      "\u001b[34m\u001b[1mwandb\u001b[0m:   1 of 1 files downloaded.  \n"
     ]
    },
    {
     "name": "stdout",
     "output_type": "stream",
     "text": [
      "2025-04-21 03:49:37,089 - INFO - Downloaded logs_f14vnzt4:v0 to /scratch/downloaded_artifacts/logs_f14vnzt4:v0\n"
     ]
    },
    {
     "name": "stderr",
     "output_type": "stream",
     "text": [
      "\u001b[34m\u001b[1mwandb\u001b[0m:   1 of 1 files downloaded.  \n"
     ]
    },
    {
     "name": "stdout",
     "output_type": "stream",
     "text": [
      "2025-04-21 03:49:37,160 - INFO - Downloaded logs_k9no7e94:v0 to /scratch/downloaded_artifacts/logs_k9no7e94:v0\n"
     ]
    },
    {
     "name": "stderr",
     "output_type": "stream",
     "text": [
      "\u001b[34m\u001b[1mwandb\u001b[0m:   1 of 1 files downloaded.  \n"
     ]
    },
    {
     "name": "stdout",
     "output_type": "stream",
     "text": [
      "2025-04-21 03:49:37,360 - INFO - Downloaded logs_kdxsjktn:v0 to /scratch/downloaded_artifacts/logs_kdxsjktn:v0\n"
     ]
    },
    {
     "name": "stderr",
     "output_type": "stream",
     "text": [
      "\u001b[34m\u001b[1mwandb\u001b[0m:   1 of 1 files downloaded.  \n"
     ]
    },
    {
     "name": "stdout",
     "output_type": "stream",
     "text": [
      "2025-04-21 03:49:37,399 - INFO - Downloaded logs_eps20evh:v0 to /scratch/downloaded_artifacts/logs_eps20evh:v0\n"
     ]
    },
    {
     "name": "stderr",
     "output_type": "stream",
     "text": [
      "\u001b[34m\u001b[1mwandb\u001b[0m:   1 of 1 files downloaded.  \n"
     ]
    },
    {
     "name": "stdout",
     "output_type": "stream",
     "text": [
      "2025-04-21 03:49:54,174 - INFO - Downloaded logs_v0m73h5a:v0 to /scratch/downloaded_artifacts/logs_v0m73h5a:v0\n"
     ]
    },
    {
     "name": "stderr",
     "output_type": "stream",
     "text": [
      "\u001b[34m\u001b[1mwandb\u001b[0m:   1 of 1 files downloaded.  \n"
     ]
    },
    {
     "name": "stdout",
     "output_type": "stream",
     "text": [
      "2025-04-21 03:49:54,200 - INFO - Downloaded logs_e1t3iayk:v0 to /scratch/downloaded_artifacts/logs_e1t3iayk:v0\n"
     ]
    },
    {
     "name": "stderr",
     "output_type": "stream",
     "text": [
      "\u001b[34m\u001b[1mwandb\u001b[0m:   1 of 1 files downloaded.  \n"
     ]
    },
    {
     "name": "stdout",
     "output_type": "stream",
     "text": [
      "2025-04-21 03:49:54,264 - INFO - Downloaded logs_fmyn485u:v0 to /scratch/downloaded_artifacts/logs_fmyn485u:v0\n"
     ]
    },
    {
     "name": "stderr",
     "output_type": "stream",
     "text": [
      "\u001b[34m\u001b[1mwandb\u001b[0m:   1 of 1 files downloaded.  \n"
     ]
    },
    {
     "name": "stdout",
     "output_type": "stream",
     "text": [
      "2025-04-21 03:49:54,302 - INFO - Downloaded logs_l8263f50:v0 to /scratch/downloaded_artifacts/logs_l8263f50:v0\n"
     ]
    },
    {
     "name": "stderr",
     "output_type": "stream",
     "text": [
      "\u001b[34m\u001b[1mwandb\u001b[0m:   1 of 1 files downloaded.  \n"
     ]
    },
    {
     "name": "stdout",
     "output_type": "stream",
     "text": [
      "2025-04-21 03:49:54,506 - INFO - Downloaded logs_ldpmcqpj:v0 to /scratch/downloaded_artifacts/logs_ldpmcqpj:v0\n"
     ]
    },
    {
     "name": "stderr",
     "output_type": "stream",
     "text": [
      "\u001b[34m\u001b[1mwandb\u001b[0m:   1 of 1 files downloaded.  \n"
     ]
    },
    {
     "name": "stdout",
     "output_type": "stream",
     "text": [
      "2025-04-21 03:49:54,538 - INFO - Downloaded logs_gv8fexoi:v0 to /scratch/downloaded_artifacts/logs_gv8fexoi:v0\n"
     ]
    },
    {
     "name": "stderr",
     "output_type": "stream",
     "text": [
      "\u001b[34m\u001b[1mwandb\u001b[0m:   1 of 1 files downloaded.  \n"
     ]
    },
    {
     "name": "stdout",
     "output_type": "stream",
     "text": [
      "2025-04-21 03:49:54,548 - INFO - Downloaded logs_idwuiies:v0 to /scratch/downloaded_artifacts/logs_idwuiies:v0\n"
     ]
    },
    {
     "name": "stderr",
     "output_type": "stream",
     "text": [
      "\u001b[34m\u001b[1mwandb\u001b[0m:   1 of 1 files downloaded.  \n"
     ]
    },
    {
     "name": "stdout",
     "output_type": "stream",
     "text": [
      "2025-04-21 03:49:54,764 - INFO - Downloaded logs_u7xobvcd:v0 to /scratch/downloaded_artifacts/logs_u7xobvcd:v0\n"
     ]
    },
    {
     "name": "stderr",
     "output_type": "stream",
     "text": [
      "\u001b[34m\u001b[1mwandb\u001b[0m:   1 of 1 files downloaded.  \n"
     ]
    },
    {
     "name": "stdout",
     "output_type": "stream",
     "text": [
      "2025-04-21 03:49:54,837 - INFO - Downloaded logs_nhc30dud:v0 to /scratch/downloaded_artifacts/logs_nhc30dud:v0\n"
     ]
    },
    {
     "name": "stderr",
     "output_type": "stream",
     "text": [
      "\u001b[34m\u001b[1mwandb\u001b[0m:   1 of 1 files downloaded.  \n"
     ]
    },
    {
     "name": "stdout",
     "output_type": "stream",
     "text": [
      "2025-04-21 03:49:54,927 - INFO - Downloaded logs_svif2zcu:v0 to /scratch/downloaded_artifacts/logs_svif2zcu:v0\n"
     ]
    },
    {
     "name": "stderr",
     "output_type": "stream",
     "text": [
      "\u001b[34m\u001b[1mwandb\u001b[0m:   1 of 1 files downloaded.  \n"
     ]
    },
    {
     "name": "stdout",
     "output_type": "stream",
     "text": [
      "2025-04-21 03:49:55,100 - INFO - Downloaded logs_pvowvtif:v0 to /scratch/downloaded_artifacts/logs_pvowvtif:v0\n"
     ]
    },
    {
     "name": "stderr",
     "output_type": "stream",
     "text": [
      "\u001b[34m\u001b[1mwandb\u001b[0m:   1 of 1 files downloaded.  \n"
     ]
    },
    {
     "name": "stdout",
     "output_type": "stream",
     "text": [
      "2025-04-21 03:49:55,148 - INFO - Downloaded logs_psdyugtq:v0 to /scratch/downloaded_artifacts/logs_psdyugtq:v0\n"
     ]
    },
    {
     "name": "stderr",
     "output_type": "stream",
     "text": [
      "\u001b[34m\u001b[1mwandb\u001b[0m:   1 of 1 files downloaded.  \n"
     ]
    },
    {
     "name": "stdout",
     "output_type": "stream",
     "text": [
      "2025-04-21 03:49:55,326 - INFO - Downloaded logs_q0f3hjl4:v0 to /scratch/downloaded_artifacts/logs_q0f3hjl4:v0\n"
     ]
    },
    {
     "name": "stderr",
     "output_type": "stream",
     "text": [
      "\u001b[34m\u001b[1mwandb\u001b[0m:   1 of 1 files downloaded.  \n"
     ]
    },
    {
     "name": "stdout",
     "output_type": "stream",
     "text": [
      "2025-04-21 03:49:55,364 - INFO - Downloaded logs_q7bqrrq0:v0 to /scratch/downloaded_artifacts/logs_q7bqrrq0:v0\n"
     ]
    },
    {
     "name": "stderr",
     "output_type": "stream",
     "text": [
      "\u001b[34m\u001b[1mwandb\u001b[0m:   1 of 1 files downloaded.  \n"
     ]
    },
    {
     "name": "stdout",
     "output_type": "stream",
     "text": [
      "2025-04-21 03:49:55,600 - INFO - Downloaded logs_v7wio1qc:v0 to /scratch/downloaded_artifacts/logs_v7wio1qc:v0\n"
     ]
    },
    {
     "name": "stderr",
     "output_type": "stream",
     "text": [
      "\u001b[34m\u001b[1mwandb\u001b[0m:   1 of 1 files downloaded.  \n"
     ]
    },
    {
     "name": "stdout",
     "output_type": "stream",
     "text": [
      "2025-04-21 03:49:56,009 - INFO - Downloaded logs_21di90qe:v0 to /scratch/downloaded_artifacts/logs_21di90qe:v0\n"
     ]
    },
    {
     "name": "stderr",
     "output_type": "stream",
     "text": [
      "\u001b[34m\u001b[1mwandb\u001b[0m:   1 of 1 files downloaded.  \n"
     ]
    },
    {
     "name": "stdout",
     "output_type": "stream",
     "text": [
      "2025-04-21 03:49:56,076 - INFO - Downloaded logs_vk87ft9h:v0 to /scratch/downloaded_artifacts/logs_vk87ft9h:v0\n"
     ]
    },
    {
     "name": "stderr",
     "output_type": "stream",
     "text": [
      "\u001b[34m\u001b[1mwandb\u001b[0m:   1 of 1 files downloaded.  \n"
     ]
    },
    {
     "name": "stdout",
     "output_type": "stream",
     "text": [
      "2025-04-21 03:49:56,325 - INFO - Downloaded logs_0qnw8fhn:v0 to /scratch/downloaded_artifacts/logs_0qnw8fhn:v0\n"
     ]
    },
    {
     "name": "stderr",
     "output_type": "stream",
     "text": [
      "\u001b[34m\u001b[1mwandb\u001b[0m:   1 of 1 files downloaded.  \n",
      "\u001b[34m\u001b[1mwandb\u001b[0m:   1 of 1 files downloaded.  \n"
     ]
    },
    {
     "name": "stdout",
     "output_type": "stream",
     "text": [
      "2025-04-21 03:49:56,344 - INFO - Downloaded logs_xvzcge0z:v0 to /scratch/downloaded_artifacts/logs_xvzcge0z:v0\n",
      "2025-04-21 03:49:56,350 - INFO - Downloaded logs_wrp50rsx:v0 to /scratch/downloaded_artifacts/logs_wrp50rsx:v0\n"
     ]
    },
    {
     "name": "stderr",
     "output_type": "stream",
     "text": [
      "\u001b[34m\u001b[1mwandb\u001b[0m:   1 of 1 files downloaded.  \n"
     ]
    },
    {
     "name": "stdout",
     "output_type": "stream",
     "text": [
      "2025-04-21 03:49:56,978 - INFO - Downloaded logs_3dafp4c7:v0 to /scratch/downloaded_artifacts/logs_3dafp4c7:v0\n"
     ]
    },
    {
     "name": "stderr",
     "output_type": "stream",
     "text": [
      "\u001b[34m\u001b[1mwandb\u001b[0m:   1 of 1 files downloaded.  \n"
     ]
    },
    {
     "name": "stdout",
     "output_type": "stream",
     "text": [
      "2025-04-21 03:49:56,996 - INFO - Downloaded logs_32gxfww4:v0 to /scratch/downloaded_artifacts/logs_32gxfww4:v0\n"
     ]
    },
    {
     "name": "stderr",
     "output_type": "stream",
     "text": [
      "\u001b[34m\u001b[1mwandb\u001b[0m:   1 of 1 files downloaded.  \n"
     ]
    },
    {
     "name": "stdout",
     "output_type": "stream",
     "text": [
      "2025-04-21 03:49:57,040 - INFO - Downloaded logs_2khsz2ol:v0 to /scratch/downloaded_artifacts/logs_2khsz2ol:v0\n"
     ]
    },
    {
     "name": "stderr",
     "output_type": "stream",
     "text": [
      "\u001b[34m\u001b[1mwandb\u001b[0m:   1 of 1 files downloaded.  \n"
     ]
    },
    {
     "name": "stdout",
     "output_type": "stream",
     "text": [
      "2025-04-21 03:49:57,102 - INFO - Downloaded logs_4xvm72uz:v0 to /scratch/downloaded_artifacts/logs_4xvm72uz:v0\n"
     ]
    },
    {
     "name": "stderr",
     "output_type": "stream",
     "text": [
      "\u001b[34m\u001b[1mwandb\u001b[0m:   1 of 1 files downloaded.  \n"
     ]
    },
    {
     "name": "stdout",
     "output_type": "stream",
     "text": [
      "2025-04-21 03:49:57,367 - INFO - Downloaded logs_5ea6g1g6:v0 to /scratch/downloaded_artifacts/logs_5ea6g1g6:v0\n"
     ]
    },
    {
     "name": "stderr",
     "output_type": "stream",
     "text": [
      "\u001b[34m\u001b[1mwandb\u001b[0m:   1 of 1 files downloaded.  \n"
     ]
    },
    {
     "name": "stdout",
     "output_type": "stream",
     "text": [
      "2025-04-21 03:49:57,441 - INFO - Downloaded logs_9ad45ceh:v0 to /scratch/downloaded_artifacts/logs_9ad45ceh:v0\n"
     ]
    },
    {
     "name": "stderr",
     "output_type": "stream",
     "text": [
      "\u001b[34m\u001b[1mwandb\u001b[0m:   1 of 1 files downloaded.  \n"
     ]
    },
    {
     "name": "stdout",
     "output_type": "stream",
     "text": [
      "2025-04-21 03:49:57,545 - INFO - Downloaded logs_64d2aanz:v0 to /scratch/downloaded_artifacts/logs_64d2aanz:v0\n"
     ]
    },
    {
     "name": "stderr",
     "output_type": "stream",
     "text": [
      "\u001b[34m\u001b[1mwandb\u001b[0m:   1 of 1 files downloaded.  \n"
     ]
    },
    {
     "name": "stdout",
     "output_type": "stream",
     "text": [
      "2025-04-21 03:49:57,674 - INFO - Downloaded logs_anvn8x86:v0 to /scratch/downloaded_artifacts/logs_anvn8x86:v0\n"
     ]
    },
    {
     "name": "stderr",
     "output_type": "stream",
     "text": [
      "\u001b[34m\u001b[1mwandb\u001b[0m:   1 of 1 files downloaded.  \n"
     ]
    },
    {
     "name": "stdout",
     "output_type": "stream",
     "text": [
      "2025-04-21 03:49:57,781 - INFO - Downloaded logs_arm0vk0m:v0 to /scratch/downloaded_artifacts/logs_arm0vk0m:v0\n"
     ]
    },
    {
     "name": "stderr",
     "output_type": "stream",
     "text": [
      "\u001b[34m\u001b[1mwandb\u001b[0m:   1 of 1 files downloaded.  \n"
     ]
    },
    {
     "name": "stdout",
     "output_type": "stream",
     "text": [
      "2025-04-21 03:49:57,787 - INFO - Downloaded logs_aaot7f9d:v0 to /scratch/downloaded_artifacts/logs_aaot7f9d:v0\n"
     ]
    },
    {
     "name": "stderr",
     "output_type": "stream",
     "text": [
      "\u001b[34m\u001b[1mwandb\u001b[0m:   1 of 1 files downloaded.  \n"
     ]
    },
    {
     "name": "stdout",
     "output_type": "stream",
     "text": [
      "2025-04-21 03:49:57,943 - INFO - Downloaded logs_f8p5q28f:v0 to /scratch/downloaded_artifacts/logs_f8p5q28f:v0\n"
     ]
    },
    {
     "name": "stderr",
     "output_type": "stream",
     "text": [
      "\u001b[34m\u001b[1mwandb\u001b[0m:   1 of 1 files downloaded.  \n"
     ]
    },
    {
     "name": "stdout",
     "output_type": "stream",
     "text": [
      "2025-04-21 03:49:57,985 - INFO - Downloaded logs_enbo3i7p:v0 to /scratch/downloaded_artifacts/logs_enbo3i7p:v0\n"
     ]
    },
    {
     "name": "stderr",
     "output_type": "stream",
     "text": [
      "\u001b[34m\u001b[1mwandb\u001b[0m:   1 of 1 files downloaded.  \n"
     ]
    },
    {
     "name": "stdout",
     "output_type": "stream",
     "text": [
      "2025-04-21 03:49:58,182 - INFO - Downloaded logs_eqybogl6:v0 to /scratch/downloaded_artifacts/logs_eqybogl6:v0\n"
     ]
    },
    {
     "name": "stderr",
     "output_type": "stream",
     "text": [
      "\u001b[34m\u001b[1mwandb\u001b[0m:   1 of 1 files downloaded.  \n"
     ]
    },
    {
     "name": "stdout",
     "output_type": "stream",
     "text": [
      "2025-04-21 03:49:58,229 - INFO - Downloaded logs_fedmfpzo:v0 to /scratch/downloaded_artifacts/logs_fedmfpzo:v0\n"
     ]
    },
    {
     "name": "stderr",
     "output_type": "stream",
     "text": [
      "\u001b[34m\u001b[1mwandb\u001b[0m:   1 of 1 files downloaded.  \n"
     ]
    },
    {
     "name": "stdout",
     "output_type": "stream",
     "text": [
      "2025-04-21 03:49:58,400 - INFO - Downloaded logs_ffs8t7sw:v0 to /scratch/downloaded_artifacts/logs_ffs8t7sw:v0\n"
     ]
    },
    {
     "name": "stderr",
     "output_type": "stream",
     "text": [
      "\u001b[34m\u001b[1mwandb\u001b[0m:   1 of 1 files downloaded.  \n"
     ]
    },
    {
     "name": "stdout",
     "output_type": "stream",
     "text": [
      "2025-04-21 03:49:58,716 - INFO - Downloaded logs_gi63d3r5:v0 to /scratch/downloaded_artifacts/logs_gi63d3r5:v0\n"
     ]
    },
    {
     "name": "stderr",
     "output_type": "stream",
     "text": [
      "\u001b[34m\u001b[1mwandb\u001b[0m:   1 of 1 files downloaded.  \n"
     ]
    },
    {
     "name": "stdout",
     "output_type": "stream",
     "text": [
      "2025-04-21 03:49:58,773 - INFO - Downloaded logs_h3s0xfop:v0 to /scratch/downloaded_artifacts/logs_h3s0xfop:v0\n"
     ]
    },
    {
     "name": "stderr",
     "output_type": "stream",
     "text": [
      "\u001b[34m\u001b[1mwandb\u001b[0m:   1 of 1 files downloaded.  \n"
     ]
    },
    {
     "name": "stdout",
     "output_type": "stream",
     "text": [
      "2025-04-21 03:49:58,982 - INFO - Downloaded logs_iq5rlww2:v0 to /scratch/downloaded_artifacts/logs_iq5rlww2:v0\n"
     ]
    },
    {
     "name": "stderr",
     "output_type": "stream",
     "text": [
      "\u001b[34m\u001b[1mwandb\u001b[0m:   1 of 1 files downloaded.  \n"
     ]
    },
    {
     "name": "stdout",
     "output_type": "stream",
     "text": [
      "2025-04-21 03:49:59,042 - INFO - Downloaded logs_i0uyfiev:v0 to /scratch/downloaded_artifacts/logs_i0uyfiev:v0\n"
     ]
    },
    {
     "name": "stderr",
     "output_type": "stream",
     "text": [
      "\u001b[34m\u001b[1mwandb\u001b[0m:   1 of 1 files downloaded.  \n"
     ]
    },
    {
     "name": "stdout",
     "output_type": "stream",
     "text": [
      "2025-04-21 03:49:59,048 - INFO - Downloaded logs_je5dgwnn:v0 to /scratch/downloaded_artifacts/logs_je5dgwnn:v0\n"
     ]
    },
    {
     "name": "stderr",
     "output_type": "stream",
     "text": [
      "\u001b[34m\u001b[1mwandb\u001b[0m:   1 of 1 files downloaded.  \n"
     ]
    },
    {
     "name": "stdout",
     "output_type": "stream",
     "text": [
      "2025-04-21 03:49:59,643 - INFO - Downloaded logs_niq8nxcd:v0 to /scratch/downloaded_artifacts/logs_niq8nxcd:v0\n"
     ]
    },
    {
     "name": "stderr",
     "output_type": "stream",
     "text": [
      "\u001b[34m\u001b[1mwandb\u001b[0m:   1 of 1 files downloaded.  \n"
     ]
    },
    {
     "name": "stdout",
     "output_type": "stream",
     "text": [
      "2025-04-21 03:49:59,728 - INFO - Downloaded logs_pjm6x85a:v0 to /scratch/downloaded_artifacts/logs_pjm6x85a:v0\n"
     ]
    },
    {
     "name": "stderr",
     "output_type": "stream",
     "text": [
      "\u001b[34m\u001b[1mwandb\u001b[0m:   1 of 1 files downloaded.  \n"
     ]
    },
    {
     "name": "stdout",
     "output_type": "stream",
     "text": [
      "2025-04-21 03:49:59,758 - INFO - Downloaded logs_pslw060j:v0 to /scratch/downloaded_artifacts/logs_pslw060j:v0\n"
     ]
    },
    {
     "name": "stderr",
     "output_type": "stream",
     "text": [
      "\u001b[34m\u001b[1mwandb\u001b[0m:   1 of 1 files downloaded.  \n"
     ]
    },
    {
     "name": "stdout",
     "output_type": "stream",
     "text": [
      "2025-04-21 03:49:59,962 - INFO - Downloaded logs_pl9ells4:v0 to /scratch/downloaded_artifacts/logs_pl9ells4:v0\n"
     ]
    },
    {
     "name": "stderr",
     "output_type": "stream",
     "text": [
      "\u001b[34m\u001b[1mwandb\u001b[0m:   1 of 1 files downloaded.  \n"
     ]
    },
    {
     "name": "stdout",
     "output_type": "stream",
     "text": [
      "2025-04-21 03:50:00,120 - INFO - Downloaded logs_tdmezum8:v0 to /scratch/downloaded_artifacts/logs_tdmezum8:v0\n"
     ]
    },
    {
     "name": "stderr",
     "output_type": "stream",
     "text": [
      "\u001b[34m\u001b[1mwandb\u001b[0m:   1 of 1 files downloaded.  \n"
     ]
    },
    {
     "name": "stdout",
     "output_type": "stream",
     "text": [
      "2025-04-21 03:50:00,204 - INFO - Downloaded logs_uea89oqe:v0 to /scratch/downloaded_artifacts/logs_uea89oqe:v0\n"
     ]
    },
    {
     "name": "stderr",
     "output_type": "stream",
     "text": [
      "\u001b[34m\u001b[1mwandb\u001b[0m:   1 of 1 files downloaded.  \n"
     ]
    },
    {
     "name": "stdout",
     "output_type": "stream",
     "text": [
      "2025-04-21 03:50:00,239 - INFO - Downloaded logs_wng7j5ah:v0 to /scratch/downloaded_artifacts/logs_wng7j5ah:v0\n"
     ]
    },
    {
     "name": "stderr",
     "output_type": "stream",
     "text": [
      "\u001b[34m\u001b[1mwandb\u001b[0m:   1 of 1 files downloaded.  \n"
     ]
    },
    {
     "name": "stdout",
     "output_type": "stream",
     "text": [
      "2025-04-21 03:50:00,418 - INFO - Downloaded logs_xr6y3m6q:v0 to /scratch/downloaded_artifacts/logs_xr6y3m6q:v0\n"
     ]
    },
    {
     "name": "stderr",
     "output_type": "stream",
     "text": [
      "\u001b[34m\u001b[1mwandb\u001b[0m:   1 of 1 files downloaded.  \n"
     ]
    },
    {
     "name": "stdout",
     "output_type": "stream",
     "text": [
      "2025-04-21 03:50:00,575 - INFO - Downloaded logs_zjwdfeh6:v0 to /scratch/downloaded_artifacts/logs_zjwdfeh6:v0\n"
     ]
    },
    {
     "name": "stderr",
     "output_type": "stream",
     "text": [
      "\u001b[34m\u001b[1mwandb\u001b[0m:   1 of 1 files downloaded.  \n"
     ]
    },
    {
     "name": "stdout",
     "output_type": "stream",
     "text": [
      "2025-04-21 03:50:00,624 - INFO - Downloaded logs_zthbrvdu:v0 to /scratch/downloaded_artifacts/logs_zthbrvdu:v0\n"
     ]
    },
    {
     "name": "stderr",
     "output_type": "stream",
     "text": [
      "\u001b[34m\u001b[1mwandb\u001b[0m:   1 of 1 files downloaded.  \n"
     ]
    },
    {
     "name": "stdout",
     "output_type": "stream",
     "text": [
      "2025-04-21 03:50:00,768 - INFO - Downloaded logs_9tns9pwp:v0 to /scratch/downloaded_artifacts/logs_9tns9pwp:v0\n"
     ]
    },
    {
     "name": "stderr",
     "output_type": "stream",
     "text": [
      "\u001b[34m\u001b[1mwandb\u001b[0m:   1 of 1 files downloaded.  \n"
     ]
    },
    {
     "name": "stdout",
     "output_type": "stream",
     "text": [
      "2025-04-21 03:50:00,842 - INFO - Downloaded logs_hiky0hch:v0 to /scratch/downloaded_artifacts/logs_hiky0hch:v0\n"
     ]
    },
    {
     "name": "stderr",
     "output_type": "stream",
     "text": [
      "\u001b[34m\u001b[1mwandb\u001b[0m:   1 of 1 files downloaded.  \n"
     ]
    },
    {
     "name": "stdout",
     "output_type": "stream",
     "text": [
      "2025-04-21 03:50:00,932 - INFO - Downloaded logs_kh0fsc3x:v0 to /scratch/downloaded_artifacts/logs_kh0fsc3x:v0\n"
     ]
    },
    {
     "name": "stderr",
     "output_type": "stream",
     "text": [
      "\u001b[34m\u001b[1mwandb\u001b[0m:   1 of 1 files downloaded.  \n"
     ]
    },
    {
     "name": "stdout",
     "output_type": "stream",
     "text": [
      "2025-04-21 03:50:01,038 - INFO - Downloaded logs_7wxwfqqx:v0 to /scratch/downloaded_artifacts/logs_7wxwfqqx:v0\n"
     ]
    },
    {
     "name": "stderr",
     "output_type": "stream",
     "text": [
      "\u001b[34m\u001b[1mwandb\u001b[0m:   1 of 1 files downloaded.  \n"
     ]
    },
    {
     "name": "stdout",
     "output_type": "stream",
     "text": [
      "2025-04-21 03:50:01,558 - INFO - Downloaded logs_8r3zbndn:v0 to /scratch/downloaded_artifacts/logs_8r3zbndn:v0\n"
     ]
    },
    {
     "name": "stderr",
     "output_type": "stream",
     "text": [
      "\u001b[34m\u001b[1mwandb\u001b[0m:   1 of 1 files downloaded.  \n"
     ]
    },
    {
     "name": "stdout",
     "output_type": "stream",
     "text": [
      "2025-04-21 03:50:01,972 - INFO - Downloaded logs_apdol8dq:v0 to /scratch/downloaded_artifacts/logs_apdol8dq:v0\n"
     ]
    },
    {
     "name": "stderr",
     "output_type": "stream",
     "text": [
      "\u001b[34m\u001b[1mwandb\u001b[0m:   1 of 1 files downloaded.  \n"
     ]
    },
    {
     "name": "stdout",
     "output_type": "stream",
     "text": [
      "2025-04-21 03:50:02,069 - INFO - Downloaded logs_ai30l3dx:v0 to /scratch/downloaded_artifacts/logs_ai30l3dx:v0\n"
     ]
    },
    {
     "name": "stderr",
     "output_type": "stream",
     "text": [
      "\u001b[34m\u001b[1mwandb\u001b[0m:   1 of 1 files downloaded.  \n"
     ]
    },
    {
     "name": "stdout",
     "output_type": "stream",
     "text": [
      "2025-04-21 03:50:02,207 - INFO - Downloaded logs_nplg41w8:v0 to /scratch/downloaded_artifacts/logs_nplg41w8:v0\n"
     ]
    },
    {
     "name": "stderr",
     "output_type": "stream",
     "text": [
      "\u001b[34m\u001b[1mwandb\u001b[0m:   1 of 1 files downloaded.  \n"
     ]
    },
    {
     "name": "stdout",
     "output_type": "stream",
     "text": [
      "2025-04-21 03:50:02,265 - INFO - Downloaded logs_dh2463o6:v0 to /scratch/downloaded_artifacts/logs_dh2463o6:v0\n"
     ]
    },
    {
     "name": "stderr",
     "output_type": "stream",
     "text": [
      "\u001b[34m\u001b[1mwandb\u001b[0m:   1 of 1 files downloaded.  \n"
     ]
    },
    {
     "name": "stdout",
     "output_type": "stream",
     "text": [
      "2025-04-21 03:50:02,272 - INFO - Downloaded logs_et3c48c7:v0 to /scratch/downloaded_artifacts/logs_et3c48c7:v0\n"
     ]
    },
    {
     "name": "stderr",
     "output_type": "stream",
     "text": [
      "\u001b[34m\u001b[1mwandb\u001b[0m:   1 of 1 files downloaded.  \n"
     ]
    },
    {
     "name": "stdout",
     "output_type": "stream",
     "text": [
      "2025-04-21 03:50:02,650 - INFO - Downloaded logs_nywo5pmv:v0 to /scratch/downloaded_artifacts/logs_nywo5pmv:v0\n"
     ]
    },
    {
     "name": "stderr",
     "output_type": "stream",
     "text": [
      "\u001b[34m\u001b[1mwandb\u001b[0m:   1 of 1 files downloaded.  \n"
     ]
    },
    {
     "name": "stdout",
     "output_type": "stream",
     "text": [
      "2025-04-21 03:50:02,812 - INFO - Downloaded logs_qbdee8fb:v0 to /scratch/downloaded_artifacts/logs_qbdee8fb:v0\n"
     ]
    },
    {
     "name": "stderr",
     "output_type": "stream",
     "text": [
      "\u001b[34m\u001b[1mwandb\u001b[0m:   1 of 1 files downloaded.  \n"
     ]
    },
    {
     "name": "stdout",
     "output_type": "stream",
     "text": [
      "2025-04-21 03:50:02,848 - INFO - Downloaded logs_o2pfsdn5:v0 to /scratch/downloaded_artifacts/logs_o2pfsdn5:v0\n"
     ]
    },
    {
     "name": "stderr",
     "output_type": "stream",
     "text": [
      "\u001b[34m\u001b[1mwandb\u001b[0m:   1 of 1 files downloaded.  \n"
     ]
    },
    {
     "name": "stdout",
     "output_type": "stream",
     "text": [
      "2025-04-21 03:50:03,104 - INFO - Downloaded logs_t2g4r099:v0 to /scratch/downloaded_artifacts/logs_t2g4r099:v0\n"
     ]
    },
    {
     "name": "stderr",
     "output_type": "stream",
     "text": [
      "\u001b[34m\u001b[1mwandb\u001b[0m:   1 of 1 files downloaded.  \n"
     ]
    },
    {
     "name": "stdout",
     "output_type": "stream",
     "text": [
      "2025-04-21 03:50:03,130 - INFO - Downloaded logs_qmr96fjt:v0 to /scratch/downloaded_artifacts/logs_qmr96fjt:v0\n"
     ]
    },
    {
     "name": "stderr",
     "output_type": "stream",
     "text": [
      "\u001b[34m\u001b[1mwandb\u001b[0m:   1 of 1 files downloaded.  \n"
     ]
    },
    {
     "name": "stdout",
     "output_type": "stream",
     "text": [
      "2025-04-21 03:50:03,317 - INFO - Downloaded logs_3ok0pr9b:v0 to /scratch/downloaded_artifacts/logs_3ok0pr9b:v0\n"
     ]
    },
    {
     "name": "stderr",
     "output_type": "stream",
     "text": [
      "\u001b[34m\u001b[1mwandb\u001b[0m:   1 of 1 files downloaded.  \n"
     ]
    },
    {
     "name": "stdout",
     "output_type": "stream",
     "text": [
      "2025-04-21 03:50:03,334 - INFO - Downloaded logs_5mklyrl6:v0 to /scratch/downloaded_artifacts/logs_5mklyrl6:v0\n"
     ]
    },
    {
     "name": "stderr",
     "output_type": "stream",
     "text": [
      "\u001b[34m\u001b[1mwandb\u001b[0m:   1 of 1 files downloaded.  \n"
     ]
    },
    {
     "name": "stdout",
     "output_type": "stream",
     "text": [
      "2025-04-21 03:50:03,345 - INFO - Downloaded logs_1v7z6trp:v0 to /scratch/downloaded_artifacts/logs_1v7z6trp:v0\n"
     ]
    },
    {
     "name": "stderr",
     "output_type": "stream",
     "text": [
      "\u001b[34m\u001b[1mwandb\u001b[0m:   1 of 1 files downloaded.  \n"
     ]
    },
    {
     "name": "stdout",
     "output_type": "stream",
     "text": [
      "2025-04-21 03:50:03,383 - INFO - Downloaded logs_ayt6ch75:v0 to /scratch/downloaded_artifacts/logs_ayt6ch75:v0\n"
     ]
    },
    {
     "name": "stderr",
     "output_type": "stream",
     "text": [
      "\u001b[34m\u001b[1mwandb\u001b[0m:   1 of 1 files downloaded.  \n"
     ]
    },
    {
     "name": "stdout",
     "output_type": "stream",
     "text": [
      "2025-04-21 03:50:03,415 - INFO - Downloaded logs_f64qfxpl:v0 to /scratch/downloaded_artifacts/logs_f64qfxpl:v0\n"
     ]
    },
    {
     "name": "stderr",
     "output_type": "stream",
     "text": [
      "\u001b[34m\u001b[1mwandb\u001b[0m:   1 of 1 files downloaded.  \n"
     ]
    },
    {
     "name": "stdout",
     "output_type": "stream",
     "text": [
      "2025-04-21 03:50:03,434 - INFO - Downloaded logs_eukv9sr9:v0 to /scratch/downloaded_artifacts/logs_eukv9sr9:v0\n"
     ]
    },
    {
     "name": "stderr",
     "output_type": "stream",
     "text": [
      "\u001b[34m\u001b[1mwandb\u001b[0m:   1 of 1 files downloaded.  \n"
     ]
    },
    {
     "name": "stdout",
     "output_type": "stream",
     "text": [
      "2025-04-21 03:50:03,447 - INFO - Downloaded logs_p2oxaa9q:v0 to /scratch/downloaded_artifacts/logs_p2oxaa9q:v0\n"
     ]
    },
    {
     "name": "stderr",
     "output_type": "stream",
     "text": [
      "\u001b[34m\u001b[1mwandb\u001b[0m:   1 of 1 files downloaded.  \n"
     ]
    },
    {
     "name": "stdout",
     "output_type": "stream",
     "text": [
      "2025-04-21 03:50:03,467 - INFO - Downloaded logs_m80phxh8:v0 to /scratch/downloaded_artifacts/logs_m80phxh8:v0\n"
     ]
    },
    {
     "name": "stderr",
     "output_type": "stream",
     "text": [
      "\u001b[34m\u001b[1mwandb\u001b[0m:   1 of 1 files downloaded.  \n"
     ]
    },
    {
     "name": "stdout",
     "output_type": "stream",
     "text": [
      "2025-04-21 03:50:03,485 - INFO - Downloaded logs_p8apgtw3:v0 to /scratch/downloaded_artifacts/logs_p8apgtw3:v0\n"
     ]
    },
    {
     "name": "stderr",
     "output_type": "stream",
     "text": [
      "\u001b[34m\u001b[1mwandb\u001b[0m:   1 of 1 files downloaded.  \n"
     ]
    },
    {
     "name": "stdout",
     "output_type": "stream",
     "text": [
      "2025-04-21 03:50:03,639 - INFO - Downloaded logs_hvmcqo0c:v0 to /scratch/downloaded_artifacts/logs_hvmcqo0c:v0\n"
     ]
    }
   ],
   "source": [
    "with ThreadPoolExecutor(max_workers=max_download_workers) as executor:\n",
    "    download_results = list(executor.map(download_artifact, run_data))"
   ]
  },
  {
   "cell_type": "code",
   "execution_count": 25,
   "metadata": {},
   "outputs": [
    {
     "name": "stdout",
     "output_type": "stream",
     "text": [
      "2025-04-21 03:50:03,723 - INFO - Saved download results to /scratch/downloaded_artifacts/download_results_fixed_search-2_fd29c503918d4cc7ace8d3ee2a21778e.pkl\n"
     ]
    }
   ],
   "source": [
    "# Save download results for the processing script, including group name\n",
    "import pickle\n",
    "results_file = os.path.join(download_dir, f'download_results_{group_name}.pkl')\n",
    "with open(results_file, 'wb') as f:\n",
    "    pickle.dump(download_results, f)\n",
    "logger.info(f\"Saved download results to {results_file}\")"
   ]
  }
 ],
 "metadata": {
  "kernelspec": {
   "display_name": "Python 3",
   "language": "python",
   "name": "python3"
  },
  "language_info": {
   "codemirror_mode": {
    "name": "ipython",
    "version": 3
   },
   "file_extension": ".py",
   "mimetype": "text/x-python",
   "name": "python",
   "nbconvert_exporter": "python",
   "pygments_lexer": "ipython3",
   "version": "3.13.1"
  }
 },
 "nbformat": 4,
 "nbformat_minor": 2
}

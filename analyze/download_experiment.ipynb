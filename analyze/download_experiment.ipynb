{
 "cells": [
  {
   "cell_type": "code",
   "execution_count": 10,
   "metadata": {},
   "outputs": [],
   "source": [
    "import os\n",
    "import sys\n",
    "sys.path.append(os.getcwd())\n",
    "sys.path.append(os.getcwd() + '/../src')\n"
   ]
  },
  {
   "cell_type": "code",
   "execution_count": 11,
   "metadata": {},
   "outputs": [],
   "source": [
    "import logging\n",
    "import wandb\n",
    "from concurrent.futures import ThreadPoolExecutor\n",
    "import multiprocessing\n"
   ]
  },
  {
   "cell_type": "code",
   "execution_count": 12,
   "metadata": {},
   "outputs": [],
   "source": [
    "# Configure logging\n",
    "logging.basicConfig(\n",
    "    level=logging.INFO,\n",
    "    format='%(asctime)s - %(levelname)s - %(message)s',\n",
    "    handlers=[\n",
    "        logging.StreamHandler(sys.stdout),\n",
    "        logging.FileHandler('download.log')\n",
    "    ]\n",
    ")\n",
    "logger = logging.getLogger(__name__)\n",
    "\n",
    "# Set multiprocessing start method to 'spawn'\n",
    "multiprocessing.set_start_method(\"spawn\", force=True)"
   ]
  },
  {
   "cell_type": "code",
   "execution_count": 13,
   "metadata": {},
   "outputs": [],
   "source": [
    "# Configuration\n",
    "download_dir = \"/scratch/downloaded_artifacts\"\n",
    "entity = \"wlp9800-new-york-university\"\n",
    "project_name = \"oho_exps\"\n",
    "group_name = \"batched_bptt_mnist-fixed-1_7b11a6cf504f46bc93a041cf1ffcf207\"\n",
    "max_download_workers = 20"
   ]
  },
  {
   "cell_type": "code",
   "execution_count": 14,
   "metadata": {},
   "outputs": [],
   "source": [
    "# Ensure download directory exists\n",
    "os.makedirs(download_dir, exist_ok=True)"
   ]
  },
  {
   "cell_type": "code",
   "execution_count": 15,
   "metadata": {},
   "outputs": [],
   "source": [
    "# Function to download a single run's artifact\n",
    "def download_artifact(run_data):\n",
    "    run_id = run_data[\"id\"]\n",
    "    config = run_data[\"config\"]\n",
    "    try:\n",
    "        api = wandb.Api()\n",
    "        artifact = api.artifact(f'{entity}/{project_name}/logs_{run_id}:v0')\n",
    "        artifact_dir = os.path.join(download_dir, artifact.name)\n",
    "        artifact.download(root=artifact_dir)\n",
    "        logger.info(f\"Downloaded {artifact.name} to {artifact_dir}\")\n",
    "        return {\n",
    "            \"run_id\": run_id,\n",
    "            \"artifact_dir\": artifact_dir,\n",
    "            \"config\": config,\n",
    "            \"summary\": run_data[\"summary\"],\n",
    "            \"status\": \"success\"\n",
    "        }\n",
    "    except Exception as e:\n",
    "        logger.error(f\"Error downloading artifact for run {run_id}: {str(e)}\")\n",
    "        return {\n",
    "            \"run_id\": run_id,\n",
    "            \"artifact_dir\": None,\n",
    "            \"config\": config,\n",
    "            \"status\": f\"error: {str(e)}\"\n",
    "        }"
   ]
  },
  {
   "cell_type": "code",
   "execution_count": 16,
   "metadata": {},
   "outputs": [
    {
     "name": "stdout",
     "output_type": "stream",
     "text": [
      "2025-04-30 16:31:03,603 - INFO - Found 100 runs to download\n"
     ]
    }
   ],
   "source": [
    "api = wandb.Api()\n",
    "runs = api.runs(\n",
    "    path=f\"{entity}/{project_name}\",\n",
    "    filters={\"group\": group_name}\n",
    ")\n",
    "\n",
    "# Prepare run data\n",
    "run_data = [{\"id\": run.id, \"config\": run.config} for run in runs]\n",
    "logger.info(f\"Found {len(run_data)} runs to download\")\n"
   ]
  },
  {
   "cell_type": "code",
   "execution_count": 17,
   "metadata": {},
   "outputs": [
    {
     "name": "stdout",
     "output_type": "stream",
     "text": [
      "2025-04-30 16:31:03,926 - ERROR - Error downloading artifact for run re8zu2b3: HTTP 404: failed to find artifact collection logs_re8zu2b3\n"
     ]
    },
    {
     "name": "stderr",
     "output_type": "stream",
     "text": [
      "\u001b[34m\u001b[1mwandb\u001b[0m: Downloading large artifact logs_akta8vmn:v0, 58.75MB. 1 files... \n",
      "\u001b[34m\u001b[1mwandb\u001b[0m: Downloading large artifact logs_3dm43avs:v0, 58.75MB. 1 files... \n",
      "\u001b[34m\u001b[1mwandb\u001b[0m: Downloading large artifact logs_0qoyxlle:v0, 58.75MB. 1 files... \n",
      "\u001b[34m\u001b[1mwandb\u001b[0m: Downloading large artifact logs_n95bo8vu:v0, 58.75MB. 1 files... \n",
      "\u001b[34m\u001b[1mwandb\u001b[0m: Downloading large artifact logs_ft1lxip6:v0, 58.75MB. 1 files... \n",
      "\u001b[34m\u001b[1mwandb\u001b[0m: Downloading large artifact logs_beg2r84h:v0, 58.75MB. 1 files... \n",
      "\u001b[34m\u001b[1mwandb\u001b[0m: Downloading large artifact logs_ljkww0uu:v0, 58.75MB. 1 files... \n",
      "\u001b[34m\u001b[1mwandb\u001b[0m: Downloading large artifact logs_p3nm17w9:v0, 58.75MB. 1 files... \n",
      "\u001b[34m\u001b[1mwandb\u001b[0m: Downloading large artifact logs_jwm36ml2:v0, 58.75MB. 1 files... \n",
      "\u001b[34m\u001b[1mwandb\u001b[0m: Downloading large artifact logs_d9caj7ve:v0, 58.75MB. 1 files... \n",
      "\u001b[34m\u001b[1mwandb\u001b[0m: Downloading large artifact logs_qw142rem:v0, 58.75MB. 1 files... \n",
      "\u001b[34m\u001b[1mwandb\u001b[0m: Downloading large artifact logs_tt2z1d30:v0, 58.75MB. 1 files... \n",
      "\u001b[34m\u001b[1mwandb\u001b[0m: Downloading large artifact logs_wz2ln8y6:v0, 58.75MB. 1 files... \n",
      "\u001b[34m\u001b[1mwandb\u001b[0m: Downloading large artifact logs_qc7teymp:v0, 58.75MB. 1 files... \n",
      "\u001b[34m\u001b[1mwandb\u001b[0m: Downloading large artifact logs_avctuqxw:v0, 58.75MB. 1 files... \n",
      "\u001b[34m\u001b[1mwandb\u001b[0m: Downloading large artifact logs_jsf2ceg6:v0, 58.75MB. 1 files... \n",
      "\u001b[34m\u001b[1mwandb\u001b[0m: Downloading large artifact logs_rmlmwuqo:v0, 58.75MB. 1 files... \n",
      "\u001b[34m\u001b[1mwandb\u001b[0m: Downloading large artifact logs_5xyeubsa:v0, 58.75MB. 1 files... \n",
      "\u001b[34m\u001b[1mwandb\u001b[0m: Downloading large artifact logs_wzoulf0u:v0, 58.75MB. 1 files... \n",
      "\u001b[34m\u001b[1mwandb\u001b[0m:   1 of 1 files downloaded.  \n",
      "\u001b[34m\u001b[1mwandb\u001b[0m:   1 of 1 files downloaded.  \n",
      "Done. 0:0:1.5\n"
     ]
    },
    {
     "name": "stdout",
     "output_type": "stream",
     "text": [
      "2025-04-30 16:31:05,733 - INFO - Downloaded logs_p3nm17w9:v0 to /scratch/downloaded_artifacts/logs_p3nm17w9:v0\n",
      "2025-04-30 16:31:05,734 - ERROR - Error downloading artifact for run p3nm17w9: 'summary'\n"
     ]
    },
    {
     "name": "stderr",
     "output_type": "stream",
     "text": [
      "\u001b[34m\u001b[1mwandb\u001b[0m:   1 of 1 files downloaded.  \n",
      "Done. 0:0:1.6\n"
     ]
    },
    {
     "name": "stdout",
     "output_type": "stream",
     "text": [
      "2025-04-30 16:31:05,802 - INFO - Downloaded logs_avctuqxw:v0 to /scratch/downloaded_artifacts/logs_avctuqxw:v0\n"
     ]
    },
    {
     "name": "stderr",
     "output_type": "stream",
     "text": [
      "Done. 0:0:1.7\n"
     ]
    },
    {
     "name": "stdout",
     "output_type": "stream",
     "text": [
      "2025-04-30 16:31:05,811 - ERROR - Error downloading artifact for run avctuqxw: 'summary'\n",
      "2025-04-30 16:31:05,811 - INFO - Downloaded logs_akta8vmn:v0 to /scratch/downloaded_artifacts/logs_akta8vmn:v0\n",
      "2025-04-30 16:31:05,816 - ERROR - Error downloading artifact for run akta8vmn: 'summary'\n"
     ]
    },
    {
     "name": "stderr",
     "output_type": "stream",
     "text": [
      "\u001b[34m\u001b[1mwandb\u001b[0m:   1 of 1 files downloaded.  \n",
      "\u001b[34m\u001b[1mwandb\u001b[0m:   1 of 1 files downloaded.  \n",
      "\u001b[34m\u001b[1mwandb\u001b[0m:   1 of 1 files downloaded.  \n",
      "Done. 0:0:1.8\n"
     ]
    },
    {
     "name": "stdout",
     "output_type": "stream",
     "text": [
      "2025-04-30 16:31:05,923 - INFO - Downloaded logs_3dm43avs:v0 to /scratch/downloaded_artifacts/logs_3dm43avs:v0\n"
     ]
    },
    {
     "name": "stderr",
     "output_type": "stream",
     "text": [
      "Done. 0:0:1.7\n",
      "Done. 0:0:1.8\n"
     ]
    },
    {
     "name": "stdout",
     "output_type": "stream",
     "text": [
      "2025-04-30 16:31:05,925 - INFO - Downloaded logs_rmlmwuqo:v0 to /scratch/downloaded_artifacts/logs_rmlmwuqo:v0\n",
      "2025-04-30 16:31:05,926 - INFO - Downloaded logs_ljkww0uu:v0 to /scratch/downloaded_artifacts/logs_ljkww0uu:v0\n",
      "2025-04-30 16:31:05,926 - ERROR - Error downloading artifact for run 3dm43avs: 'summary'\n",
      "2025-04-30 16:31:05,926 - ERROR - Error downloading artifact for run rmlmwuqo: 'summary'\n",
      "2025-04-30 16:31:05,927 - ERROR - Error downloading artifact for run ljkww0uu: 'summary'\n"
     ]
    },
    {
     "name": "stderr",
     "output_type": "stream",
     "text": [
      "\u001b[34m\u001b[1mwandb\u001b[0m:   1 of 1 files downloaded.  \n",
      "Done. 0:0:1.8\n"
     ]
    },
    {
     "name": "stdout",
     "output_type": "stream",
     "text": [
      "2025-04-30 16:31:05,979 - INFO - Downloaded logs_jsf2ceg6:v0 to /scratch/downloaded_artifacts/logs_jsf2ceg6:v0\n",
      "2025-04-30 16:31:05,987 - ERROR - Error downloading artifact for run jsf2ceg6: 'summary'\n"
     ]
    },
    {
     "name": "stderr",
     "output_type": "stream",
     "text": [
      "\u001b[34m\u001b[1mwandb\u001b[0m:   1 of 1 files downloaded.  \n",
      "Done. 0:0:1.9\n"
     ]
    },
    {
     "name": "stdout",
     "output_type": "stream",
     "text": [
      "2025-04-30 16:31:06,007 - INFO - Downloaded logs_d9caj7ve:v0 to /scratch/downloaded_artifacts/logs_d9caj7ve:v0\n",
      "2025-04-30 16:31:06,007 - ERROR - Error downloading artifact for run d9caj7ve: 'summary'\n"
     ]
    },
    {
     "name": "stderr",
     "output_type": "stream",
     "text": [
      "\u001b[34m\u001b[1mwandb\u001b[0m:   1 of 1 files downloaded.  \n",
      "\u001b[34m\u001b[1mwandb\u001b[0m:   1 of 1 files downloaded.  \n",
      "Done. 0:0:1.9\n"
     ]
    },
    {
     "name": "stdout",
     "output_type": "stream",
     "text": [
      "2025-04-30 16:31:06,102 - INFO - Downloaded logs_qc7teymp:v0 to /scratch/downloaded_artifacts/logs_qc7teymp:v0\n"
     ]
    },
    {
     "name": "stderr",
     "output_type": "stream",
     "text": [
      "\u001b[34m\u001b[1mwandb\u001b[0m:   1 of 1 files downloaded.  \n"
     ]
    },
    {
     "name": "stdout",
     "output_type": "stream",
     "text": [
      "2025-04-30 16:31:06,105 - ERROR - Error downloading artifact for run qc7teymp: 'summary'\n"
     ]
    },
    {
     "name": "stderr",
     "output_type": "stream",
     "text": [
      "Done. 0:0:1.9\n"
     ]
    },
    {
     "name": "stdout",
     "output_type": "stream",
     "text": [
      "2025-04-30 16:31:06,112 - INFO - Downloaded logs_tt2z1d30:v0 to /scratch/downloaded_artifacts/logs_tt2z1d30:v0\n",
      "2025-04-30 16:31:06,113 - ERROR - Error downloading artifact for run tt2z1d30: 'summary'\n"
     ]
    },
    {
     "name": "stderr",
     "output_type": "stream",
     "text": [
      "Done. 0:0:2.0\n"
     ]
    },
    {
     "name": "stdout",
     "output_type": "stream",
     "text": [
      "2025-04-30 16:31:06,140 - INFO - Downloaded logs_qw142rem:v0 to /scratch/downloaded_artifacts/logs_qw142rem:v0\n",
      "2025-04-30 16:31:06,148 - ERROR - Error downloading artifact for run qw142rem: 'summary'\n"
     ]
    },
    {
     "name": "stderr",
     "output_type": "stream",
     "text": [
      "\u001b[34m\u001b[1mwandb\u001b[0m:   1 of 1 files downloaded.  \n",
      "Done. 0:0:2.1\n"
     ]
    },
    {
     "name": "stdout",
     "output_type": "stream",
     "text": [
      "2025-04-30 16:31:06,206 - INFO - Downloaded logs_beg2r84h:v0 to /scratch/downloaded_artifacts/logs_beg2r84h:v0\n",
      "2025-04-30 16:31:06,207 - ERROR - Error downloading artifact for run beg2r84h: 'summary'\n"
     ]
    },
    {
     "name": "stderr",
     "output_type": "stream",
     "text": [
      "\u001b[34m\u001b[1mwandb\u001b[0m:   1 of 1 files downloaded.  \n",
      "Done. 0:0:2.1\n"
     ]
    },
    {
     "name": "stdout",
     "output_type": "stream",
     "text": [
      "2025-04-30 16:31:06,212 - INFO - Downloaded logs_n95bo8vu:v0 to /scratch/downloaded_artifacts/logs_n95bo8vu:v0\n",
      "2025-04-30 16:31:06,213 - ERROR - Error downloading artifact for run n95bo8vu: 'summary'\n"
     ]
    },
    {
     "name": "stderr",
     "output_type": "stream",
     "text": [
      "\u001b[34m\u001b[1mwandb\u001b[0m: Downloading large artifact logs_z78o8r9c:v0, 58.75MB. 1 files... \n",
      "\u001b[34m\u001b[1mwandb\u001b[0m:   1 of 1 files downloaded.  \n",
      "Done. 0:0:2.2\n"
     ]
    },
    {
     "name": "stdout",
     "output_type": "stream",
     "text": [
      "2025-04-30 16:31:06,282 - INFO - Downloaded logs_ft1lxip6:v0 to /scratch/downloaded_artifacts/logs_ft1lxip6:v0\n",
      "2025-04-30 16:31:06,283 - ERROR - Error downloading artifact for run ft1lxip6: 'summary'\n"
     ]
    },
    {
     "name": "stderr",
     "output_type": "stream",
     "text": [
      "\u001b[34m\u001b[1mwandb\u001b[0m:   1 of 1 files downloaded.  \n",
      "Done. 0:0:2.2\n"
     ]
    },
    {
     "name": "stdout",
     "output_type": "stream",
     "text": [
      "2025-04-30 16:31:06,305 - INFO - Downloaded logs_0qoyxlle:v0 to /scratch/downloaded_artifacts/logs_0qoyxlle:v0\n",
      "2025-04-30 16:31:06,306 - ERROR - Error downloading artifact for run 0qoyxlle: 'summary'\n"
     ]
    },
    {
     "name": "stderr",
     "output_type": "stream",
     "text": [
      "\u001b[34m\u001b[1mwandb\u001b[0m:   1 of 1 files downloaded.  \n",
      "\u001b[34m\u001b[1mwandb\u001b[0m:   1 of 1 files downloaded.  \n",
      "Done. 0:0:2.1\n"
     ]
    },
    {
     "name": "stdout",
     "output_type": "stream",
     "text": [
      "2025-04-30 16:31:06,349 - INFO - Downloaded logs_wz2ln8y6:v0 to /scratch/downloaded_artifacts/logs_wz2ln8y6:v0\n"
     ]
    },
    {
     "name": "stderr",
     "output_type": "stream",
     "text": [
      "\u001b[34m\u001b[1mwandb\u001b[0m:   1 of 1 files downloaded.  \n"
     ]
    },
    {
     "name": "stdout",
     "output_type": "stream",
     "text": [
      "2025-04-30 16:31:06,360 - ERROR - Error downloading artifact for run wz2ln8y6: 'summary'\n"
     ]
    },
    {
     "name": "stderr",
     "output_type": "stream",
     "text": [
      "\u001b[34m\u001b[1mwandb\u001b[0m: Downloading large artifact logs_3o20joiu:v0, 58.75MB. 1 files... \n",
      "Done. 0:0:2.1\n",
      "Done. 0:0:1.9\n"
     ]
    },
    {
     "name": "stdout",
     "output_type": "stream",
     "text": [
      "2025-04-30 16:31:06,366 - INFO - Downloaded logs_5xyeubsa:v0 to /scratch/downloaded_artifacts/logs_5xyeubsa:v0\n",
      "2025-04-30 16:31:06,367 - ERROR - Error downloading artifact for run 5xyeubsa: 'summary'\n",
      "2025-04-30 16:31:06,367 - INFO - Downloaded logs_wzoulf0u:v0 to /scratch/downloaded_artifacts/logs_wzoulf0u:v0\n",
      "2025-04-30 16:31:06,372 - ERROR - Error downloading artifact for run wzoulf0u: 'summary'\n"
     ]
    },
    {
     "name": "stderr",
     "output_type": "stream",
     "text": [
      "\u001b[34m\u001b[1mwandb\u001b[0m: Downloading large artifact logs_2hr9dcq7:v0, 58.75MB. 1 files... \n",
      "\u001b[34m\u001b[1mwandb\u001b[0m:   1 of 1 files downloaded.  \n",
      "\u001b[34m\u001b[1mwandb\u001b[0m: Downloading large artifact logs_cq705wo5:v0, 58.75MB. 1 files... \n",
      "Done. 0:0:2.3\n"
     ]
    },
    {
     "name": "stdout",
     "output_type": "stream",
     "text": [
      "2025-04-30 16:31:06,398 - INFO - Downloaded logs_jwm36ml2:v0 to /scratch/downloaded_artifacts/logs_jwm36ml2:v0\n",
      "2025-04-30 16:31:06,398 - ERROR - Error downloading artifact for run jwm36ml2: 'summary'\n"
     ]
    },
    {
     "name": "stderr",
     "output_type": "stream",
     "text": [
      "\u001b[34m\u001b[1mwandb\u001b[0m: Downloading large artifact logs_mfxgmyr4:v0, 58.75MB. 1 files... \n",
      "\u001b[34m\u001b[1mwandb\u001b[0m: Downloading large artifact logs_psuya4xj:v0, 58.75MB. 1 files... \n",
      "\u001b[34m\u001b[1mwandb\u001b[0m: Downloading large artifact logs_slvvfdb9:v0, 58.75MB. 1 files... \n",
      "\u001b[34m\u001b[1mwandb\u001b[0m: Downloading large artifact logs_sgncc8l2:v0, 58.75MB. 1 files... \n",
      "\u001b[34m\u001b[1mwandb\u001b[0m: Downloading large artifact logs_v4eirpat:v0, 58.75MB. 1 files... \n",
      "\u001b[34m\u001b[1mwandb\u001b[0m: Downloading large artifact logs_rqtkcrds:v0, 58.75MB. 1 files... \n",
      "\u001b[34m\u001b[1mwandb\u001b[0m: Downloading large artifact logs_90b6kbz1:v0, 58.75MB. 1 files... \n",
      "\u001b[34m\u001b[1mwandb\u001b[0m: Downloading large artifact logs_da0ifo8l:v0, 58.75MB. 1 files... \n",
      "\u001b[34m\u001b[1mwandb\u001b[0m: Downloading large artifact logs_l3kxvfmc:v0, 58.75MB. 1 files... \n",
      "\u001b[34m\u001b[1mwandb\u001b[0m: Downloading large artifact logs_dxb3go37:v0, 58.75MB. 1 files... \n",
      "\u001b[34m\u001b[1mwandb\u001b[0m: Downloading large artifact logs_13tmdkcy:v0, 58.75MB. 1 files... \n",
      "\u001b[34m\u001b[1mwandb\u001b[0m: Downloading large artifact logs_1575vip6:v0, 58.75MB. 1 files... \n",
      "\u001b[34m\u001b[1mwandb\u001b[0m: Downloading large artifact logs_0k1aj7ye:v0, 58.75MB. 1 files... \n",
      "\u001b[34m\u001b[1mwandb\u001b[0m: Downloading large artifact logs_09x5pnel:v0, 58.75MB. 1 files... \n",
      "\u001b[34m\u001b[1mwandb\u001b[0m:   1 of 1 files downloaded.  \n",
      "Done. 0:0:1.0\n"
     ]
    },
    {
     "name": "stdout",
     "output_type": "stream",
     "text": [
      "2025-04-30 16:31:07,270 - INFO - Downloaded logs_z78o8r9c:v0 to /scratch/downloaded_artifacts/logs_z78o8r9c:v0\n"
     ]
    },
    {
     "name": "stderr",
     "output_type": "stream",
     "text": [
      "\u001b[34m\u001b[1mwandb\u001b[0m:   1 of 1 files downloaded.  \n"
     ]
    },
    {
     "name": "stdout",
     "output_type": "stream",
     "text": [
      "2025-04-30 16:31:07,271 - ERROR - Error downloading artifact for run z78o8r9c: 'summary'\n"
     ]
    },
    {
     "name": "stderr",
     "output_type": "stream",
     "text": [
      "\u001b[34m\u001b[1mwandb\u001b[0m:   1 of 1 files downloaded.  \n",
      "Done. 0:0:0.9\n"
     ]
    },
    {
     "name": "stdout",
     "output_type": "stream",
     "text": [
      "2025-04-30 16:31:07,311 - INFO - Downloaded logs_2hr9dcq7:v0 to /scratch/downloaded_artifacts/logs_2hr9dcq7:v0\n"
     ]
    },
    {
     "name": "stderr",
     "output_type": "stream",
     "text": [
      "\u001b[34m\u001b[1mwandb\u001b[0m:   1 of 1 files downloaded.  \n"
     ]
    },
    {
     "name": "stdout",
     "output_type": "stream",
     "text": [
      "2025-04-30 16:31:07,313 - ERROR - Error downloading artifact for run 2hr9dcq7: 'summary'\n"
     ]
    },
    {
     "name": "stderr",
     "output_type": "stream",
     "text": [
      "Done. 0:0:0.9\n",
      "Done. 0:0:0.9\n"
     ]
    },
    {
     "name": "stdout",
     "output_type": "stream",
     "text": [
      "2025-04-30 16:31:07,317 - INFO - Downloaded logs_psuya4xj:v0 to /scratch/downloaded_artifacts/logs_psuya4xj:v0\n",
      "2025-04-30 16:31:07,318 - ERROR - Error downloading artifact for run psuya4xj: 'summary'\n",
      "2025-04-30 16:31:07,318 - INFO - Downloaded logs_cq705wo5:v0 to /scratch/downloaded_artifacts/logs_cq705wo5:v0\n",
      "2025-04-30 16:31:07,386 - ERROR - Error downloading artifact for run cq705wo5: 'summary'\n"
     ]
    },
    {
     "name": "stderr",
     "output_type": "stream",
     "text": [
      "\u001b[34m\u001b[1mwandb\u001b[0m:   1 of 1 files downloaded.  \n",
      "\u001b[34m\u001b[1mwandb\u001b[0m: Downloading large artifact logs_gmsyugzu:v0, 58.75MB. 1 files... \n",
      "Done. 0:0:1.2\n"
     ]
    },
    {
     "name": "stdout",
     "output_type": "stream",
     "text": [
      "2025-04-30 16:31:07,624 - INFO - Downloaded logs_3o20joiu:v0 to /scratch/downloaded_artifacts/logs_3o20joiu:v0\n"
     ]
    },
    {
     "name": "stderr",
     "output_type": "stream",
     "text": [
      "\u001b[34m\u001b[1mwandb\u001b[0m:   1 of 1 files downloaded.  \n",
      "Done. 0:0:1.2\n"
     ]
    },
    {
     "name": "stdout",
     "output_type": "stream",
     "text": [
      "2025-04-30 16:31:07,637 - ERROR - Error downloading artifact for run 3o20joiu: 'summary'\n",
      "2025-04-30 16:31:07,774 - INFO - Downloaded logs_mfxgmyr4:v0 to /scratch/downloaded_artifacts/logs_mfxgmyr4:v0\n",
      "2025-04-30 16:31:07,777 - ERROR - Error downloading artifact for run mfxgmyr4: 'summary'\n"
     ]
    },
    {
     "name": "stderr",
     "output_type": "stream",
     "text": [
      "\u001b[34m\u001b[1mwandb\u001b[0m:   1 of 1 files downloaded.  \n",
      "Done. 0:0:1.4\n"
     ]
    },
    {
     "name": "stdout",
     "output_type": "stream",
     "text": [
      "2025-04-30 16:31:07,983 - INFO - Downloaded logs_slvvfdb9:v0 to /scratch/downloaded_artifacts/logs_slvvfdb9:v0\n",
      "2025-04-30 16:31:07,984 - ERROR - Error downloading artifact for run slvvfdb9: 'summary'\n"
     ]
    },
    {
     "name": "stderr",
     "output_type": "stream",
     "text": [
      "\u001b[34m\u001b[1mwandb\u001b[0m:   1 of 1 files downloaded.  \n",
      "Done. 0:0:1.6\n"
     ]
    },
    {
     "name": "stdout",
     "output_type": "stream",
     "text": [
      "2025-04-30 16:31:08,185 - INFO - Downloaded logs_sgncc8l2:v0 to /scratch/downloaded_artifacts/logs_sgncc8l2:v0\n",
      "2025-04-30 16:31:08,185 - ERROR - Error downloading artifact for run sgncc8l2: 'summary'\n"
     ]
    },
    {
     "name": "stderr",
     "output_type": "stream",
     "text": [
      "\u001b[34m\u001b[1mwandb\u001b[0m:   1 of 1 files downloaded.  \n",
      "\u001b[34m\u001b[1mwandb\u001b[0m: Downloading large artifact logs_tqa6bpkw:v0, 58.75MB. 1 files... \n",
      "\u001b[34m\u001b[1mwandb\u001b[0m: Downloading large artifact logs_vq5cs2ng:v0, 58.75MB. 1 files... \n",
      "Done. 0:0:1.6\n"
     ]
    },
    {
     "name": "stdout",
     "output_type": "stream",
     "text": [
      "2025-04-30 16:31:08,351 - INFO - Downloaded logs_v4eirpat:v0 to /scratch/downloaded_artifacts/logs_v4eirpat:v0\n",
      "2025-04-30 16:31:08,352 - ERROR - Error downloading artifact for run v4eirpat: 'summary'\n"
     ]
    },
    {
     "name": "stderr",
     "output_type": "stream",
     "text": [
      "\u001b[34m\u001b[1mwandb\u001b[0m:   1 of 1 files downloaded.  \n",
      "Done. 0:0:1.4\n"
     ]
    },
    {
     "name": "stdout",
     "output_type": "stream",
     "text": [
      "2025-04-30 16:31:08,383 - INFO - Downloaded logs_da0ifo8l:v0 to /scratch/downloaded_artifacts/logs_da0ifo8l:v0\n"
     ]
    },
    {
     "name": "stderr",
     "output_type": "stream",
     "text": [
      "\u001b[34m\u001b[1mwandb\u001b[0m:   1 of 1 files downloaded.  \n",
      "Done. 0:0:1.3\n"
     ]
    },
    {
     "name": "stdout",
     "output_type": "stream",
     "text": [
      "2025-04-30 16:31:08,388 - ERROR - Error downloading artifact for run da0ifo8l: 'summary'\n",
      "2025-04-30 16:31:08,398 - INFO - Downloaded logs_dxb3go37:v0 to /scratch/downloaded_artifacts/logs_dxb3go37:v0\n",
      "2025-04-30 16:31:08,402 - ERROR - Error downloading artifact for run dxb3go37: 'summary'\n"
     ]
    },
    {
     "name": "stderr",
     "output_type": "stream",
     "text": [
      "\u001b[34m\u001b[1mwandb\u001b[0m: Downloading large artifact logs_ovzdccyy:v0, 58.75MB. 1 files... \n",
      "\u001b[34m\u001b[1mwandb\u001b[0m:   1 of 1 files downloaded.  \n",
      "\u001b[34m\u001b[1mwandb\u001b[0m: Downloading large artifact logs_1mufahd4:v0, 58.75MB. 1 files... \n",
      "Done. 0:0:1.7\n"
     ]
    },
    {
     "name": "stdout",
     "output_type": "stream",
     "text": [
      "2025-04-30 16:31:08,485 - INFO - Downloaded logs_90b6kbz1:v0 to /scratch/downloaded_artifacts/logs_90b6kbz1:v0\n"
     ]
    },
    {
     "name": "stderr",
     "output_type": "stream",
     "text": [
      "\u001b[34m\u001b[1mwandb\u001b[0m:   1 of 1 files downloaded.  \n"
     ]
    },
    {
     "name": "stdout",
     "output_type": "stream",
     "text": [
      "2025-04-30 16:31:08,486 - ERROR - Error downloading artifact for run 90b6kbz1: 'summary'\n"
     ]
    },
    {
     "name": "stderr",
     "output_type": "stream",
     "text": [
      "\u001b[34m\u001b[1mwandb\u001b[0m:   1 of 1 files downloaded.  \n",
      "\u001b[34m\u001b[1mwandb\u001b[0m: Downloading large artifact logs_z9x2ezda:v0, 58.75MB. 1 files... \n",
      "Done. 0:0:1.4\n"
     ]
    },
    {
     "name": "stdout",
     "output_type": "stream",
     "text": [
      "2025-04-30 16:31:08,514 - INFO - Downloaded logs_1575vip6:v0 to /scratch/downloaded_artifacts/logs_1575vip6:v0\n"
     ]
    },
    {
     "name": "stderr",
     "output_type": "stream",
     "text": [
      "\u001b[34m\u001b[1mwandb\u001b[0m:   1 of 1 files downloaded.  \n"
     ]
    },
    {
     "name": "stdout",
     "output_type": "stream",
     "text": [
      "2025-04-30 16:31:08,515 - ERROR - Error downloading artifact for run 1575vip6: 'summary'\n"
     ]
    },
    {
     "name": "stderr",
     "output_type": "stream",
     "text": [
      "Done. 0:0:1.4\n",
      "\u001b[34m\u001b[1mwandb\u001b[0m:   1 of 1 files downloaded.  \n"
     ]
    },
    {
     "name": "stdout",
     "output_type": "stream",
     "text": [
      "2025-04-30 16:31:08,516 - INFO - Downloaded logs_0k1aj7ye:v0 to /scratch/downloaded_artifacts/logs_0k1aj7ye:v0\n"
     ]
    },
    {
     "name": "stderr",
     "output_type": "stream",
     "text": [
      "\u001b[34m\u001b[1mwandb\u001b[0m:   1 of 1 files downloaded.  \n"
     ]
    },
    {
     "name": "stdout",
     "output_type": "stream",
     "text": [
      "2025-04-30 16:31:08,532 - ERROR - Error downloading artifact for run 0k1aj7ye: 'summary'\n"
     ]
    },
    {
     "name": "stderr",
     "output_type": "stream",
     "text": [
      "Done. 0:0:1.3\n"
     ]
    },
    {
     "name": "stdout",
     "output_type": "stream",
     "text": [
      "2025-04-30 16:31:08,537 - INFO - Downloaded logs_09x5pnel:v0 to /scratch/downloaded_artifacts/logs_09x5pnel:v0\n"
     ]
    },
    {
     "name": "stderr",
     "output_type": "stream",
     "text": [
      "Done. 0:0:1.4\n",
      "Done. 0:0:1.8\n"
     ]
    },
    {
     "name": "stdout",
     "output_type": "stream",
     "text": [
      "2025-04-30 16:31:08,544 - ERROR - Error downloading artifact for run 09x5pnel: 'summary'\n"
     ]
    },
    {
     "name": "stderr",
     "output_type": "stream",
     "text": [
      "\u001b[34m\u001b[1mwandb\u001b[0m:   1 of 1 files downloaded.  \n"
     ]
    },
    {
     "name": "stdout",
     "output_type": "stream",
     "text": [
      "2025-04-30 16:31:08,544 - INFO - Downloaded logs_rqtkcrds:v0 to /scratch/downloaded_artifacts/logs_rqtkcrds:v0\n",
      "2025-04-30 16:31:08,539 - INFO - Downloaded logs_l3kxvfmc:v0 to /scratch/downloaded_artifacts/logs_l3kxvfmc:v0\n"
     ]
    },
    {
     "name": "stderr",
     "output_type": "stream",
     "text": [
      "\u001b[34m\u001b[1mwandb\u001b[0m: Downloading large artifact logs_kat631r7:v0, 58.75MB. 1 files... \n"
     ]
    },
    {
     "name": "stdout",
     "output_type": "stream",
     "text": [
      "2025-04-30 16:31:08,572 - ERROR - Error downloading artifact for run l3kxvfmc: 'summary'\n"
     ]
    },
    {
     "name": "stderr",
     "output_type": "stream",
     "text": [
      "Done. 0:0:1.5\n"
     ]
    },
    {
     "name": "stdout",
     "output_type": "stream",
     "text": [
      "2025-04-30 16:31:08,563 - ERROR - Error downloading artifact for run rqtkcrds: 'summary'\n"
     ]
    },
    {
     "name": "stderr",
     "output_type": "stream",
     "text": [
      "\u001b[34m\u001b[1mwandb\u001b[0m: Downloading large artifact logs_4lvetcmt:v0, 58.75MB. 1 files... \n"
     ]
    },
    {
     "name": "stdout",
     "output_type": "stream",
     "text": [
      "2025-04-30 16:31:08,583 - INFO - Downloaded logs_13tmdkcy:v0 to /scratch/downloaded_artifacts/logs_13tmdkcy:v0\n"
     ]
    },
    {
     "name": "stderr",
     "output_type": "stream",
     "text": [
      "\u001b[34m\u001b[1mwandb\u001b[0m:   1 of 1 files downloaded.  \n"
     ]
    },
    {
     "name": "stdout",
     "output_type": "stream",
     "text": [
      "2025-04-30 16:31:08,599 - ERROR - Error downloading artifact for run 13tmdkcy: 'summary'\n"
     ]
    },
    {
     "name": "stderr",
     "output_type": "stream",
     "text": [
      "Done. 0:0:1.1\n"
     ]
    },
    {
     "name": "stdout",
     "output_type": "stream",
     "text": [
      "2025-04-30 16:31:08,611 - INFO - Downloaded logs_gmsyugzu:v0 to /scratch/downloaded_artifacts/logs_gmsyugzu:v0\n",
      "2025-04-30 16:31:08,626 - ERROR - Error downloading artifact for run gmsyugzu: 'summary'\n"
     ]
    },
    {
     "name": "stderr",
     "output_type": "stream",
     "text": [
      "\u001b[34m\u001b[1mwandb\u001b[0m: Downloading large artifact logs_ooauyzyo:v0, 58.75MB. 1 files... \n"
     ]
    },
    {
     "name": "stdout",
     "output_type": "stream",
     "text": [
      "2025-04-30 16:31:09,213 - ERROR - Error downloading artifact for run s4ghvnu9: HTTP 404: failed to find artifact collection logs_s4ghvnu9\n"
     ]
    },
    {
     "name": "stderr",
     "output_type": "stream",
     "text": [
      "\u001b[34m\u001b[1mwandb\u001b[0m: Downloading large artifact logs_i0vxtywr:v0, 58.75MB. 1 files... \n",
      "\u001b[34m\u001b[1mwandb\u001b[0m:   1 of 1 files downloaded.  \n",
      "\u001b[34m\u001b[1mwandb\u001b[0m:   1 of 1 files downloaded.  \n",
      "\u001b[34m\u001b[1mwandb\u001b[0m:   1 of 1 files downloaded.  \n",
      "Done. 0:0:0.9\n",
      "\u001b[34m\u001b[1mwandb\u001b[0m: Downloading large artifact logs_0x5tklwj:v0, 58.75MB. 1 files... \n"
     ]
    },
    {
     "name": "stdout",
     "output_type": "stream",
     "text": [
      "2025-04-30 16:31:09,435 - INFO - Downloaded logs_1mufahd4:v0 to /scratch/downloaded_artifacts/logs_1mufahd4:v0\n",
      "2025-04-30 16:31:09,441 - ERROR - Error downloading artifact for run 1mufahd4: 'summary'\n"
     ]
    },
    {
     "name": "stderr",
     "output_type": "stream",
     "text": [
      "Done. 0:0:1.1\n"
     ]
    },
    {
     "name": "stdout",
     "output_type": "stream",
     "text": [
      "2025-04-30 16:31:09,448 - INFO - Downloaded logs_tqa6bpkw:v0 to /scratch/downloaded_artifacts/logs_tqa6bpkw:v0\n"
     ]
    },
    {
     "name": "stderr",
     "output_type": "stream",
     "text": [
      "\u001b[34m\u001b[1mwandb\u001b[0m:   1 of 1 files downloaded.  \n"
     ]
    },
    {
     "name": "stdout",
     "output_type": "stream",
     "text": [
      "2025-04-30 16:31:09,454 - ERROR - Error downloading artifact for run tqa6bpkw: 'summary'\n"
     ]
    },
    {
     "name": "stderr",
     "output_type": "stream",
     "text": [
      "\u001b[34m\u001b[1mwandb\u001b[0m: Downloading large artifact logs_4amzsw11:v0, 58.75MB. 1 files... \n",
      "\u001b[34m\u001b[1mwandb\u001b[0m:   1 of 1 files downloaded.  \n",
      "Done. 0:0:1.1\n",
      "\u001b[34m\u001b[1mwandb\u001b[0m:   1 of 1 files downloaded.  \n"
     ]
    },
    {
     "name": "stdout",
     "output_type": "stream",
     "text": [
      "2025-04-30 16:31:09,516 - INFO - Downloaded logs_vq5cs2ng:v0 to /scratch/downloaded_artifacts/logs_vq5cs2ng:v0\n"
     ]
    },
    {
     "name": "stderr",
     "output_type": "stream",
     "text": [
      "Done. 0:0:1.1\n",
      "Done. 0:0:1.0\n"
     ]
    },
    {
     "name": "stdout",
     "output_type": "stream",
     "text": [
      "2025-04-30 16:31:09,537 - INFO - Downloaded logs_ovzdccyy:v0 to /scratch/downloaded_artifacts/logs_ovzdccyy:v0\n"
     ]
    },
    {
     "name": "stderr",
     "output_type": "stream",
     "text": [
      "Done. 0:0:0.9\n",
      "\u001b[34m\u001b[1mwandb\u001b[0m:   1 of 1 files downloaded.  \n"
     ]
    },
    {
     "name": "stdout",
     "output_type": "stream",
     "text": [
      "2025-04-30 16:31:09,543 - INFO - Downloaded logs_z9x2ezda:v0 to /scratch/downloaded_artifacts/logs_z9x2ezda:v0\n",
      "2025-04-30 16:31:09,558 - ERROR - Error downloading artifact for run z9x2ezda: 'summary'\n"
     ]
    },
    {
     "name": "stderr",
     "output_type": "stream",
     "text": [
      "Done. 0:0:1.0\n"
     ]
    },
    {
     "name": "stdout",
     "output_type": "stream",
     "text": [
      "2025-04-30 16:31:09,552 - INFO - Downloaded logs_4lvetcmt:v0 to /scratch/downloaded_artifacts/logs_4lvetcmt:v0\n",
      "2025-04-30 16:31:09,563 - ERROR - Error downloading artifact for run 4lvetcmt: 'summary'\n",
      "2025-04-30 16:31:09,543 - ERROR - Error downloading artifact for run vq5cs2ng: 'summary'\n",
      "2025-04-30 16:31:09,562 - INFO - Downloaded logs_kat631r7:v0 to /scratch/downloaded_artifacts/logs_kat631r7:v0\n",
      "2025-04-30 16:31:09,553 - ERROR - Error downloading artifact for run ovzdccyy: 'summary'\n"
     ]
    },
    {
     "name": "stderr",
     "output_type": "stream",
     "text": [
      "\u001b[34m\u001b[1mwandb\u001b[0m: Downloading large artifact logs_m9ezyoem:v0, 58.75MB. 1 files... \n"
     ]
    },
    {
     "name": "stdout",
     "output_type": "stream",
     "text": [
      "2025-04-30 16:31:09,639 - ERROR - Error downloading artifact for run kat631r7: 'summary'\n"
     ]
    },
    {
     "name": "stderr",
     "output_type": "stream",
     "text": [
      "\u001b[34m\u001b[1mwandb\u001b[0m: Downloading large artifact logs_g8wz4w90:v0, 58.75MB. 1 files... \n",
      "\u001b[34m\u001b[1mwandb\u001b[0m: Downloading large artifact logs_cqz151yq:v0, 58.75MB. 1 files... \n",
      "\u001b[34m\u001b[1mwandb\u001b[0m: Downloading large artifact logs_lgvucloh:v0, 58.75MB. 1 files... \n",
      "\u001b[34m\u001b[1mwandb\u001b[0m: Downloading large artifact logs_ruilawug:v0, 58.75MB. 1 files... \n",
      "\u001b[34m\u001b[1mwandb\u001b[0m: Downloading large artifact logs_lg4bk40o:v0, 58.75MB. 1 files... \n",
      "\u001b[34m\u001b[1mwandb\u001b[0m:   1 of 1 files downloaded.  \n",
      "\u001b[34m\u001b[1mwandb\u001b[0m: Downloading large artifact logs_tqp3mrls:v0, 58.75MB. 1 files... \n",
      "\u001b[34m\u001b[1mwandb\u001b[0m: Downloading large artifact logs_t3ztmegb:v0, 58.75MB. 1 files... \n",
      "Done. 0:0:1.1\n"
     ]
    },
    {
     "name": "stdout",
     "output_type": "stream",
     "text": [
      "2025-04-30 16:31:09,861 - INFO - Downloaded logs_ooauyzyo:v0 to /scratch/downloaded_artifacts/logs_ooauyzyo:v0\n",
      "2025-04-30 16:31:09,862 - ERROR - Error downloading artifact for run ooauyzyo: 'summary'\n"
     ]
    },
    {
     "name": "stderr",
     "output_type": "stream",
     "text": [
      "\u001b[34m\u001b[1mwandb\u001b[0m: Downloading large artifact logs_x6g40ss6:v0, 58.75MB. 1 files... \n",
      "\u001b[34m\u001b[1mwandb\u001b[0m: Downloading large artifact logs_3gntps7a:v0, 58.75MB. 1 files... \n",
      "\u001b[34m\u001b[1mwandb\u001b[0m: Downloading large artifact logs_fuyck6hi:v0, 58.75MB. 1 files... \n",
      "\u001b[34m\u001b[1mwandb\u001b[0m: Downloading large artifact logs_a09d355m:v0, 58.75MB. 1 files... \n",
      "\u001b[34m\u001b[1mwandb\u001b[0m: Downloading large artifact logs_c3pgqmn7:v0, 58.75MB. 1 files... \n",
      "\u001b[34m\u001b[1mwandb\u001b[0m: Downloading large artifact logs_zckuw809:v0, 58.75MB. 1 files... \n",
      "\u001b[34m\u001b[1mwandb\u001b[0m: Downloading large artifact logs_q3l66i71:v0, 58.75MB. 1 files... \n",
      "\u001b[34m\u001b[1mwandb\u001b[0m:   1 of 1 files downloaded.  \n",
      "\u001b[34m\u001b[1mwandb\u001b[0m: Downloading large artifact logs_33nluspv:v0, 58.75MB. 1 files... \n",
      "Done. 0:0:1.2\n"
     ]
    },
    {
     "name": "stdout",
     "output_type": "stream",
     "text": [
      "2025-04-30 16:31:10,455 - INFO - Downloaded logs_i0vxtywr:v0 to /scratch/downloaded_artifacts/logs_i0vxtywr:v0\n",
      "2025-04-30 16:31:10,456 - ERROR - Error downloading artifact for run i0vxtywr: 'summary'\n"
     ]
    },
    {
     "name": "stderr",
     "output_type": "stream",
     "text": [
      "\u001b[34m\u001b[1mwandb\u001b[0m:   1 of 1 files downloaded.  \n",
      "Done. 0:0:1.0\n"
     ]
    },
    {
     "name": "stdout",
     "output_type": "stream",
     "text": [
      "2025-04-30 16:31:10,464 - INFO - Downloaded logs_0x5tklwj:v0 to /scratch/downloaded_artifacts/logs_0x5tklwj:v0\n",
      "2025-04-30 16:31:10,464 - ERROR - Error downloading artifact for run 0x5tklwj: 'summary'\n"
     ]
    },
    {
     "name": "stderr",
     "output_type": "stream",
     "text": [
      "\u001b[34m\u001b[1mwandb\u001b[0m:   1 of 1 files downloaded.  \n",
      "Done. 0:0:1.0\n"
     ]
    },
    {
     "name": "stdout",
     "output_type": "stream",
     "text": [
      "2025-04-30 16:31:10,471 - INFO - Downloaded logs_4amzsw11:v0 to /scratch/downloaded_artifacts/logs_4amzsw11:v0\n",
      "2025-04-30 16:31:10,471 - ERROR - Error downloading artifact for run 4amzsw11: 'summary'\n"
     ]
    },
    {
     "name": "stderr",
     "output_type": "stream",
     "text": [
      "\u001b[34m\u001b[1mwandb\u001b[0m: Downloading large artifact logs_6yby5air:v0, 58.75MB. 1 files... \n",
      "\u001b[34m\u001b[1mwandb\u001b[0m:   1 of 1 files downloaded.  \n",
      "Done. 0:0:0.9\n"
     ]
    },
    {
     "name": "stdout",
     "output_type": "stream",
     "text": [
      "2025-04-30 16:31:10,511 - INFO - Downloaded logs_m9ezyoem:v0 to /scratch/downloaded_artifacts/logs_m9ezyoem:v0\n",
      "2025-04-30 16:31:10,512 - ERROR - Error downloading artifact for run m9ezyoem: 'summary'\n"
     ]
    },
    {
     "name": "stderr",
     "output_type": "stream",
     "text": [
      "\u001b[34m\u001b[1mwandb\u001b[0m:   1 of 1 files downloaded.  \n",
      "Done. 0:0:0.9\n"
     ]
    },
    {
     "name": "stdout",
     "output_type": "stream",
     "text": [
      "2025-04-30 16:31:10,532 - INFO - Downloaded logs_cqz151yq:v0 to /scratch/downloaded_artifacts/logs_cqz151yq:v0\n",
      "2025-04-30 16:31:10,532 - ERROR - Error downloading artifact for run cqz151yq: 'summary'\n"
     ]
    },
    {
     "name": "stderr",
     "output_type": "stream",
     "text": [
      "\u001b[34m\u001b[1mwandb\u001b[0m:   1 of 1 files downloaded.  \n",
      "Done. 0:0:1.1\n",
      "\u001b[34m\u001b[1mwandb\u001b[0m:   1 of 1 files downloaded.  \n"
     ]
    },
    {
     "name": "stdout",
     "output_type": "stream",
     "text": [
      "2025-04-30 16:31:10,811 - INFO - Downloaded logs_lg4bk40o:v0 to /scratch/downloaded_artifacts/logs_lg4bk40o:v0\n"
     ]
    },
    {
     "name": "stderr",
     "output_type": "stream",
     "text": [
      "\u001b[34m\u001b[1mwandb\u001b[0m:   1 of 1 files downloaded.  \n"
     ]
    },
    {
     "name": "stdout",
     "output_type": "stream",
     "text": [
      "2025-04-30 16:31:10,880 - ERROR - Error downloading artifact for run lg4bk40o: 'summary'\n"
     ]
    },
    {
     "name": "stderr",
     "output_type": "stream",
     "text": [
      "\u001b[34m\u001b[1mwandb\u001b[0m:   1 of 1 files downloaded.  \n",
      "\u001b[34m\u001b[1mwandb\u001b[0m:   1 of 1 files downloaded.  \n",
      "Done. 0:0:1.2\n",
      "Done. 0:0:1.2\n"
     ]
    },
    {
     "name": "stdout",
     "output_type": "stream",
     "text": [
      "2025-04-30 16:31:11,157 - INFO - Downloaded logs_lgvucloh:v0 to /scratch/downloaded_artifacts/logs_lgvucloh:v0\n"
     ]
    },
    {
     "name": "stderr",
     "output_type": "stream",
     "text": [
      "Done. 0:0:1.3\n"
     ]
    },
    {
     "name": "stdout",
     "output_type": "stream",
     "text": [
      "2025-04-30 16:31:11,158 - ERROR - Error downloading artifact for run lgvucloh: 'summary'\n"
     ]
    },
    {
     "name": "stderr",
     "output_type": "stream",
     "text": [
      "Done. 0:0:1.4\n"
     ]
    },
    {
     "name": "stdout",
     "output_type": "stream",
     "text": [
      "2025-04-30 16:31:11,158 - INFO - Downloaded logs_g8wz4w90:v0 to /scratch/downloaded_artifacts/logs_g8wz4w90:v0\n",
      "2025-04-30 16:31:11,163 - ERROR - Error downloading artifact for run g8wz4w90: 'summary'\n",
      "2025-04-30 16:31:11,163 - INFO - Downloaded logs_tqp3mrls:v0 to /scratch/downloaded_artifacts/logs_tqp3mrls:v0\n",
      "2025-04-30 16:31:11,184 - ERROR - Error downloading artifact for run tqp3mrls: 'summary'\n",
      "2025-04-30 16:31:11,159 - INFO - Downloaded logs_ruilawug:v0 to /scratch/downloaded_artifacts/logs_ruilawug:v0\n",
      "2025-04-30 16:31:11,194 - ERROR - Error downloading artifact for run ruilawug: 'summary'\n"
     ]
    },
    {
     "name": "stderr",
     "output_type": "stream",
     "text": [
      "\u001b[34m\u001b[1mwandb\u001b[0m:   1 of 1 files downloaded.  \n",
      "Done. 0:0:1.4\n"
     ]
    },
    {
     "name": "stdout",
     "output_type": "stream",
     "text": [
      "2025-04-30 16:31:11,266 - INFO - Downloaded logs_t3ztmegb:v0 to /scratch/downloaded_artifacts/logs_t3ztmegb:v0\n",
      "2025-04-30 16:31:11,267 - ERROR - Error downloading artifact for run t3ztmegb: 'summary'\n"
     ]
    },
    {
     "name": "stderr",
     "output_type": "stream",
     "text": [
      "\u001b[34m\u001b[1mwandb\u001b[0m: Downloading large artifact logs_d19yscxu:v0, 58.75MB. 1 files... \n",
      "\u001b[34m\u001b[1mwandb\u001b[0m: Downloading large artifact logs_g8pkm2fw:v0, 58.75MB. 1 files... \n",
      "\u001b[34m\u001b[1mwandb\u001b[0m:   1 of 1 files downloaded.  \n",
      "Done. 0:0:1.0\n"
     ]
    },
    {
     "name": "stdout",
     "output_type": "stream",
     "text": [
      "2025-04-30 16:31:11,357 - INFO - Downloaded logs_c3pgqmn7:v0 to /scratch/downloaded_artifacts/logs_c3pgqmn7:v0\n",
      "2025-04-30 16:31:11,358 - ERROR - Error downloading artifact for run c3pgqmn7: 'summary'\n"
     ]
    },
    {
     "name": "stderr",
     "output_type": "stream",
     "text": [
      "\u001b[34m\u001b[1mwandb\u001b[0m:   1 of 1 files downloaded.  \n",
      "Done. 0:0:1.1\n"
     ]
    },
    {
     "name": "stdout",
     "output_type": "stream",
     "text": [
      "2025-04-30 16:31:11,428 - INFO - Downloaded logs_fuyck6hi:v0 to /scratch/downloaded_artifacts/logs_fuyck6hi:v0\n",
      "2025-04-30 16:31:11,429 - ERROR - Error downloading artifact for run fuyck6hi: 'summary'\n"
     ]
    },
    {
     "name": "stderr",
     "output_type": "stream",
     "text": [
      "\u001b[34m\u001b[1mwandb\u001b[0m: Downloading large artifact logs_xhhop4vf:v0, 58.75MB. 1 files... \n",
      "\u001b[34m\u001b[1mwandb\u001b[0m: Downloading large artifact logs_gl6nnhpy:v0, 58.75MB. 1 files... \n",
      "\u001b[34m\u001b[1mwandb\u001b[0m:   1 of 1 files downloaded.  \n",
      "\u001b[34m\u001b[1mwandb\u001b[0m:   1 of 1 files downloaded.  \n",
      "\u001b[34m\u001b[1mwandb\u001b[0m:   1 of 1 files downloaded.  \n",
      "Done. 0:0:1.2\n"
     ]
    },
    {
     "name": "stdout",
     "output_type": "stream",
     "text": [
      "2025-04-30 16:31:11,465 - INFO - Downloaded logs_x6g40ss6:v0 to /scratch/downloaded_artifacts/logs_x6g40ss6:v0\n"
     ]
    },
    {
     "name": "stderr",
     "output_type": "stream",
     "text": [
      "\u001b[34m\u001b[1mwandb\u001b[0m:   1 of 1 files downloaded.  \n"
     ]
    },
    {
     "name": "stdout",
     "output_type": "stream",
     "text": [
      "2025-04-30 16:31:11,467 - ERROR - Error downloading artifact for run x6g40ss6: 'summary'\n"
     ]
    },
    {
     "name": "stderr",
     "output_type": "stream",
     "text": [
      "Done. 0:0:1.0\n"
     ]
    },
    {
     "name": "stdout",
     "output_type": "stream",
     "text": [
      "2025-04-30 16:31:11,469 - INFO - Downloaded logs_q3l66i71:v0 to /scratch/downloaded_artifacts/logs_q3l66i71:v0\n"
     ]
    },
    {
     "name": "stderr",
     "output_type": "stream",
     "text": [
      "Done. 0:0:1.1\n"
     ]
    },
    {
     "name": "stdout",
     "output_type": "stream",
     "text": [
      "2025-04-30 16:31:11,470 - INFO - Downloaded logs_zckuw809:v0 to /scratch/downloaded_artifacts/logs_zckuw809:v0\n"
     ]
    },
    {
     "name": "stderr",
     "output_type": "stream",
     "text": [
      "Done. 0:0:1.2\n"
     ]
    },
    {
     "name": "stdout",
     "output_type": "stream",
     "text": [
      "2025-04-30 16:31:11,470 - ERROR - Error downloading artifact for run q3l66i71: 'summary'\n",
      "2025-04-30 16:31:11,471 - INFO - Downloaded logs_a09d355m:v0 to /scratch/downloaded_artifacts/logs_a09d355m:v0\n",
      "2025-04-30 16:31:11,472 - ERROR - Error downloading artifact for run zckuw809: 'summary'\n",
      "2025-04-30 16:31:11,475 - ERROR - Error downloading artifact for run a09d355m: 'summary'\n"
     ]
    },
    {
     "name": "stderr",
     "output_type": "stream",
     "text": [
      "\u001b[34m\u001b[1mwandb\u001b[0m:   1 of 1 files downloaded.  \n",
      "Done. 0:0:1.0\n"
     ]
    },
    {
     "name": "stdout",
     "output_type": "stream",
     "text": [
      "2025-04-30 16:31:11,482 - INFO - Downloaded logs_33nluspv:v0 to /scratch/downloaded_artifacts/logs_33nluspv:v0\n"
     ]
    },
    {
     "name": "stderr",
     "output_type": "stream",
     "text": [
      "\u001b[34m\u001b[1mwandb\u001b[0m:   1 of 1 files downloaded.  \n",
      "Done. 0:0:1.2\n"
     ]
    },
    {
     "name": "stdout",
     "output_type": "stream",
     "text": [
      "2025-04-30 16:31:11,484 - ERROR - Error downloading artifact for run 33nluspv: 'summary'\n",
      "2025-04-30 16:31:11,488 - INFO - Downloaded logs_3gntps7a:v0 to /scratch/downloaded_artifacts/logs_3gntps7a:v0\n"
     ]
    },
    {
     "name": "stderr",
     "output_type": "stream",
     "text": [
      "\u001b[34m\u001b[1mwandb\u001b[0m:   1 of 1 files downloaded.  \n",
      "Done. 0:0:1.1\n"
     ]
    },
    {
     "name": "stdout",
     "output_type": "stream",
     "text": [
      "2025-04-30 16:31:11,606 - ERROR - Error downloading artifact for run 3gntps7a: 'summary'\n",
      "2025-04-30 16:31:11,607 - INFO - Downloaded logs_6yby5air:v0 to /scratch/downloaded_artifacts/logs_6yby5air:v0\n"
     ]
    },
    {
     "name": "stderr",
     "output_type": "stream",
     "text": [
      "\u001b[34m\u001b[1mwandb\u001b[0m: Downloading large artifact logs_zqywfaiu:v0, 58.75MB. 1 files... \n"
     ]
    },
    {
     "name": "stdout",
     "output_type": "stream",
     "text": [
      "2025-04-30 16:31:11,616 - ERROR - Error downloading artifact for run 6yby5air: 'summary'\n"
     ]
    },
    {
     "name": "stderr",
     "output_type": "stream",
     "text": [
      "\u001b[34m\u001b[1mwandb\u001b[0m: Downloading large artifact logs_v2htrae0:v0, 58.75MB. 1 files... \n",
      "\u001b[34m\u001b[1mwandb\u001b[0m: Downloading large artifact logs_i79e2k9b:v0, 58.75MB. 1 files... \n",
      "\u001b[34m\u001b[1mwandb\u001b[0m: Downloading large artifact logs_11uqrt80:v0, 58.75MB. 1 files... \n",
      "\u001b[34m\u001b[1mwandb\u001b[0m: Downloading large artifact logs_7di1k7v7:v0, 58.75MB. 1 files... \n",
      "\u001b[34m\u001b[1mwandb\u001b[0m: Downloading large artifact logs_x1c8gtlg:v0, 58.75MB. 1 files... \n",
      "\u001b[34m\u001b[1mwandb\u001b[0m: Downloading large artifact logs_157vtnpu:v0, 58.75MB. 1 files... \n",
      "\u001b[34m\u001b[1mwandb\u001b[0m:   1 of 1 files downloaded.  \n",
      "\u001b[34m\u001b[1mwandb\u001b[0m: Downloading large artifact logs_l8i5090q:v0, 58.75MB. 1 files... \n",
      "\u001b[34m\u001b[1mwandb\u001b[0m:   1 of 1 files downloaded.  \n",
      "Done. 0:0:0.6\n"
     ]
    },
    {
     "name": "stdout",
     "output_type": "stream",
     "text": [
      "2025-04-30 16:31:11,912 - INFO - Downloaded logs_g8pkm2fw:v0 to /scratch/downloaded_artifacts/logs_g8pkm2fw:v0\n"
     ]
    },
    {
     "name": "stderr",
     "output_type": "stream",
     "text": [
      "Done. 0:0:0.6\n"
     ]
    },
    {
     "name": "stdout",
     "output_type": "stream",
     "text": [
      "2025-04-30 16:31:11,913 - ERROR - Error downloading artifact for run g8pkm2fw: 'summary'\n",
      "2025-04-30 16:31:11,913 - INFO - Downloaded logs_d19yscxu:v0 to /scratch/downloaded_artifacts/logs_d19yscxu:v0\n",
      "2025-04-30 16:31:11,916 - ERROR - Error downloading artifact for run d19yscxu: 'summary'\n"
     ]
    },
    {
     "name": "stderr",
     "output_type": "stream",
     "text": [
      "\u001b[34m\u001b[1mwandb\u001b[0m: Downloading large artifact logs_3xqy12c9:v0, 58.75MB. 1 files... \n",
      "\u001b[34m\u001b[1mwandb\u001b[0m: Downloading large artifact logs_4mbt03xj:v0, 58.75MB. 1 files... \n",
      "\u001b[34m\u001b[1mwandb\u001b[0m: Downloading large artifact logs_5knla8xm:v0, 58.75MB. 1 files... \n",
      "\u001b[34m\u001b[1mwandb\u001b[0m: Downloading large artifact logs_n77uiy7i:v0, 58.75MB. 1 files... \n",
      "\u001b[34m\u001b[1mwandb\u001b[0m: Downloading large artifact logs_dwhotbok:v0, 58.75MB. 1 files... \n",
      "\u001b[34m\u001b[1mwandb\u001b[0m: Downloading large artifact logs_n71qxdfh:v0, 58.75MB. 1 files... \n",
      "\u001b[34m\u001b[1mwandb\u001b[0m: Downloading large artifact logs_h67ixl39:v0, 58.75MB. 1 files... \n",
      "\u001b[34m\u001b[1mwandb\u001b[0m:   1 of 1 files downloaded.  \n",
      "Done. 0:0:1.4\n"
     ]
    },
    {
     "name": "stdout",
     "output_type": "stream",
     "text": [
      "2025-04-30 16:31:12,894 - INFO - Downloaded logs_xhhop4vf:v0 to /scratch/downloaded_artifacts/logs_xhhop4vf:v0\n",
      "2025-04-30 16:31:12,915 - ERROR - Error downloading artifact for run xhhop4vf: 'summary'\n"
     ]
    },
    {
     "name": "stderr",
     "output_type": "stream",
     "text": [
      "\u001b[34m\u001b[1mwandb\u001b[0m: Downloading large artifact logs_8bk7ipcv:v0, 58.75MB. 1 files... \n",
      "\u001b[34m\u001b[1mwandb\u001b[0m:   1 of 1 files downloaded.  \n",
      "Done. 0:0:1.4\n"
     ]
    },
    {
     "name": "stdout",
     "output_type": "stream",
     "text": [
      "2025-04-30 16:31:12,995 - INFO - Downloaded logs_zqywfaiu:v0 to /scratch/downloaded_artifacts/logs_zqywfaiu:v0\n",
      "2025-04-30 16:31:12,995 - ERROR - Error downloading artifact for run zqywfaiu: 'summary'\n"
     ]
    },
    {
     "name": "stderr",
     "output_type": "stream",
     "text": [
      "\u001b[34m\u001b[1mwandb\u001b[0m:   1 of 1 files downloaded.  \n",
      "Done. 0:0:1.6\n"
     ]
    },
    {
     "name": "stdout",
     "output_type": "stream",
     "text": [
      "2025-04-30 16:31:13,040 - INFO - Downloaded logs_gl6nnhpy:v0 to /scratch/downloaded_artifacts/logs_gl6nnhpy:v0\n",
      "2025-04-30 16:31:13,049 - ERROR - Error downloading artifact for run gl6nnhpy: 'summary'\n"
     ]
    },
    {
     "name": "stderr",
     "output_type": "stream",
     "text": [
      "\u001b[34m\u001b[1mwandb\u001b[0m:   1 of 1 files downloaded.  \n",
      "\u001b[34m\u001b[1mwandb\u001b[0m:   1 of 1 files downloaded.  \n",
      "\u001b[34m\u001b[1mwandb\u001b[0m:   1 of 1 files downloaded.  \n",
      "Done. 0:0:1.3\n"
     ]
    },
    {
     "name": "stdout",
     "output_type": "stream",
     "text": [
      "2025-04-30 16:31:13,090 - INFO - Downloaded logs_i79e2k9b:v0 to /scratch/downloaded_artifacts/logs_i79e2k9b:v0\n"
     ]
    },
    {
     "name": "stderr",
     "output_type": "stream",
     "text": [
      "Done. 0:0:1.3\n"
     ]
    },
    {
     "name": "stdout",
     "output_type": "stream",
     "text": [
      "2025-04-30 16:31:13,091 - ERROR - Error downloading artifact for run i79e2k9b: 'summary'\n",
      "2025-04-30 16:31:13,091 - INFO - Downloaded logs_x1c8gtlg:v0 to /scratch/downloaded_artifacts/logs_x1c8gtlg:v0\n",
      "2025-04-30 16:31:13,099 - ERROR - Error downloading artifact for run x1c8gtlg: 'summary'\n"
     ]
    },
    {
     "name": "stderr",
     "output_type": "stream",
     "text": [
      "Done. 0:0:1.4\n"
     ]
    },
    {
     "name": "stdout",
     "output_type": "stream",
     "text": [
      "2025-04-30 16:31:13,108 - INFO - Downloaded logs_v2htrae0:v0 to /scratch/downloaded_artifacts/logs_v2htrae0:v0\n",
      "2025-04-30 16:31:13,108 - ERROR - Error downloading artifact for run v2htrae0: 'summary'\n"
     ]
    },
    {
     "name": "stderr",
     "output_type": "stream",
     "text": [
      "\u001b[34m\u001b[1mwandb\u001b[0m:   1 of 1 files downloaded.  \n",
      "\u001b[34m\u001b[1mwandb\u001b[0m: Downloading large artifact logs_pmt9yqj6:v0, 58.75MB. 1 files... \n",
      "Done. 0:0:1.5\n"
     ]
    },
    {
     "name": "stdout",
     "output_type": "stream",
     "text": [
      "2025-04-30 16:31:13,253 - INFO - Downloaded logs_11uqrt80:v0 to /scratch/downloaded_artifacts/logs_11uqrt80:v0\n",
      "2025-04-30 16:31:13,253 - ERROR - Error downloading artifact for run 11uqrt80: 'summary'\n"
     ]
    },
    {
     "name": "stderr",
     "output_type": "stream",
     "text": [
      "\u001b[34m\u001b[1mwandb\u001b[0m:   1 of 1 files downloaded.  \n",
      "Done. 0:0:1.6\n"
     ]
    },
    {
     "name": "stdout",
     "output_type": "stream",
     "text": [
      "2025-04-30 16:31:13,328 - INFO - Downloaded logs_7di1k7v7:v0 to /scratch/downloaded_artifacts/logs_7di1k7v7:v0\n",
      "2025-04-30 16:31:13,332 - ERROR - Error downloading artifact for run 7di1k7v7: 'summary'\n"
     ]
    },
    {
     "name": "stderr",
     "output_type": "stream",
     "text": [
      "\u001b[34m\u001b[1mwandb\u001b[0m:   1 of 1 files downloaded.  \n",
      "Done. 0:0:1.5\n"
     ]
    },
    {
     "name": "stdout",
     "output_type": "stream",
     "text": [
      "2025-04-30 16:31:13,350 - INFO - Downloaded logs_157vtnpu:v0 to /scratch/downloaded_artifacts/logs_157vtnpu:v0\n",
      "2025-04-30 16:31:13,351 - ERROR - Error downloading artifact for run 157vtnpu: 'summary'\n"
     ]
    },
    {
     "name": "stderr",
     "output_type": "stream",
     "text": [
      "\u001b[34m\u001b[1mwandb\u001b[0m:   1 of 1 files downloaded.  \n",
      "Done. 0:0:1.3\n"
     ]
    },
    {
     "name": "stdout",
     "output_type": "stream",
     "text": [
      "2025-04-30 16:31:13,396 - INFO - Downloaded logs_5knla8xm:v0 to /scratch/downloaded_artifacts/logs_5knla8xm:v0\n",
      "2025-04-30 16:31:13,397 - ERROR - Error downloading artifact for run 5knla8xm: 'summary'\n"
     ]
    },
    {
     "name": "stderr",
     "output_type": "stream",
     "text": [
      "\u001b[34m\u001b[1mwandb\u001b[0m:   1 of 1 files downloaded.  \n",
      "Done. 0:0:1.5\n"
     ]
    },
    {
     "name": "stdout",
     "output_type": "stream",
     "text": [
      "2025-04-30 16:31:13,415 - INFO - Downloaded logs_l8i5090q:v0 to /scratch/downloaded_artifacts/logs_l8i5090q:v0\n",
      "2025-04-30 16:31:13,416 - ERROR - Error downloading artifact for run l8i5090q: 'summary'\n"
     ]
    },
    {
     "name": "stderr",
     "output_type": "stream",
     "text": [
      "\u001b[34m\u001b[1mwandb\u001b[0m:   1 of 1 files downloaded.  \n",
      "\u001b[34m\u001b[1mwandb\u001b[0m:   1 of 1 files downloaded.  \n",
      "Done. 0:0:1.3\n"
     ]
    },
    {
     "name": "stdout",
     "output_type": "stream",
     "text": [
      "2025-04-30 16:31:13,440 - INFO - Downloaded logs_n77uiy7i:v0 to /scratch/downloaded_artifacts/logs_n77uiy7i:v0\n",
      "2025-04-30 16:31:13,441 - ERROR - Error downloading artifact for run n77uiy7i: 'summary'\n"
     ]
    },
    {
     "name": "stderr",
     "output_type": "stream",
     "text": [
      "Done. 0:0:1.5\n"
     ]
    },
    {
     "name": "stdout",
     "output_type": "stream",
     "text": [
      "2025-04-30 16:31:13,443 - INFO - Downloaded logs_3xqy12c9:v0 to /scratch/downloaded_artifacts/logs_3xqy12c9:v0\n",
      "2025-04-30 16:31:13,443 - ERROR - Error downloading artifact for run 3xqy12c9: 'summary'\n"
     ]
    },
    {
     "name": "stderr",
     "output_type": "stream",
     "text": [
      "\u001b[34m\u001b[1mwandb\u001b[0m: Downloading large artifact logs_8wod9ha3:v0, 58.75MB. 1 files... \n",
      "\u001b[34m\u001b[1mwandb\u001b[0m:   1 of 1 files downloaded.  \n",
      "Done. 0:0:1.3\n"
     ]
    },
    {
     "name": "stdout",
     "output_type": "stream",
     "text": [
      "2025-04-30 16:31:13,552 - INFO - Downloaded logs_dwhotbok:v0 to /scratch/downloaded_artifacts/logs_dwhotbok:v0\n",
      "2025-04-30 16:31:13,557 - ERROR - Error downloading artifact for run dwhotbok: 'summary'\n"
     ]
    },
    {
     "name": "stderr",
     "output_type": "stream",
     "text": [
      "\u001b[34m\u001b[1mwandb\u001b[0m: Downloading large artifact logs_9z947o34:v0, 58.75MB. 1 files... \n",
      "\u001b[34m\u001b[1mwandb\u001b[0m:   1 of 1 files downloaded.  \n",
      "Done. 0:0:1.7\n"
     ]
    },
    {
     "name": "stdout",
     "output_type": "stream",
     "text": [
      "2025-04-30 16:31:13,645 - INFO - Downloaded logs_4mbt03xj:v0 to /scratch/downloaded_artifacts/logs_4mbt03xj:v0\n",
      "2025-04-30 16:31:13,648 - ERROR - Error downloading artifact for run 4mbt03xj: 'summary'\n"
     ]
    },
    {
     "name": "stderr",
     "output_type": "stream",
     "text": [
      "\u001b[34m\u001b[1mwandb\u001b[0m:   1 of 1 files downloaded.  \n",
      "Done. 0:0:1.0\n"
     ]
    },
    {
     "name": "stdout",
     "output_type": "stream",
     "text": [
      "2025-04-30 16:31:13,711 - INFO - Downloaded logs_n71qxdfh:v0 to /scratch/downloaded_artifacts/logs_n71qxdfh:v0\n",
      "2025-04-30 16:31:13,712 - ERROR - Error downloading artifact for run n71qxdfh: 'summary'\n"
     ]
    },
    {
     "name": "stderr",
     "output_type": "stream",
     "text": [
      "\u001b[34m\u001b[1mwandb\u001b[0m: Downloading large artifact logs_0dg8zi98:v0, 58.75MB. 1 files... \n",
      "\u001b[34m\u001b[1mwandb\u001b[0m: Downloading large artifact logs_3ok27zbc:v0, 58.75MB. 1 files... \n",
      "\u001b[34m\u001b[1mwandb\u001b[0m: Downloading large artifact logs_tkgvm9ww:v0, 58.75MB. 1 files... \n",
      "\u001b[34m\u001b[1mwandb\u001b[0m:   1 of 1 files downloaded.  \n",
      "\u001b[34m\u001b[1mwandb\u001b[0m: Downloading large artifact logs_wdb1s719:v0, 58.75MB. 1 files... \n",
      "\u001b[34m\u001b[1mwandb\u001b[0m:   1 of 1 files downloaded.  \n",
      "\u001b[34m\u001b[1mwandb\u001b[0m: Downloading large artifact logs_2ar3992z:v0, 58.75MB. 1 files... \n",
      "Done. 0:0:0.8\n",
      "Done. 0:0:1.1\n"
     ]
    },
    {
     "name": "stdout",
     "output_type": "stream",
     "text": [
      "2025-04-30 16:31:13,810 - INFO - Downloaded logs_8bk7ipcv:v0 to /scratch/downloaded_artifacts/logs_8bk7ipcv:v0\n",
      "2025-04-30 16:31:13,811 - ERROR - Error downloading artifact for run 8bk7ipcv: 'summary'\n",
      "2025-04-30 16:31:13,811 - INFO - Downloaded logs_h67ixl39:v0 to /scratch/downloaded_artifacts/logs_h67ixl39:v0\n",
      "2025-04-30 16:31:13,812 - ERROR - Error downloading artifact for run h67ixl39: 'summary'\n"
     ]
    },
    {
     "name": "stderr",
     "output_type": "stream",
     "text": [
      "\u001b[34m\u001b[1mwandb\u001b[0m: Downloading large artifact logs_3i7gcr38:v0, 58.75MB. 1 files... \n",
      "\u001b[34m\u001b[1mwandb\u001b[0m: Downloading large artifact logs_nzmzzf0p:v0, 58.75MB. 1 files... \n",
      "\u001b[34m\u001b[1mwandb\u001b[0m: Downloading large artifact logs_w0m5e60i:v0, 58.75MB. 1 files... \n",
      "\u001b[34m\u001b[1mwandb\u001b[0m:   1 of 1 files downloaded.  \n",
      "Done. 0:0:0.8\n"
     ]
    },
    {
     "name": "stdout",
     "output_type": "stream",
     "text": [
      "2025-04-30 16:31:14,015 - INFO - Downloaded logs_pmt9yqj6:v0 to /scratch/downloaded_artifacts/logs_pmt9yqj6:v0\n",
      "2025-04-30 16:31:14,016 - ERROR - Error downloading artifact for run pmt9yqj6: 'summary'\n"
     ]
    },
    {
     "name": "stderr",
     "output_type": "stream",
     "text": [
      "\u001b[34m\u001b[1mwandb\u001b[0m:   1 of 1 files downloaded.  \n",
      "Done. 0:0:1.0\n"
     ]
    },
    {
     "name": "stdout",
     "output_type": "stream",
     "text": [
      "2025-04-30 16:31:14,484 - INFO - Downloaded logs_8wod9ha3:v0 to /scratch/downloaded_artifacts/logs_8wod9ha3:v0\n",
      "2025-04-30 16:31:14,485 - ERROR - Error downloading artifact for run 8wod9ha3: 'summary'\n"
     ]
    },
    {
     "name": "stderr",
     "output_type": "stream",
     "text": [
      "\u001b[34m\u001b[1mwandb\u001b[0m:   1 of 1 files downloaded.  \n",
      "Done. 0:0:1.0\n"
     ]
    },
    {
     "name": "stdout",
     "output_type": "stream",
     "text": [
      "2025-04-30 16:31:14,522 - INFO - Downloaded logs_9z947o34:v0 to /scratch/downloaded_artifacts/logs_9z947o34:v0\n",
      "2025-04-30 16:31:14,523 - ERROR - Error downloading artifact for run 9z947o34: 'summary'\n"
     ]
    },
    {
     "name": "stderr",
     "output_type": "stream",
     "text": [
      "\u001b[34m\u001b[1mwandb\u001b[0m:   1 of 1 files downloaded.  \n",
      "Done. 0:0:0.8\n"
     ]
    },
    {
     "name": "stdout",
     "output_type": "stream",
     "text": [
      "2025-04-30 16:31:14,574 - INFO - Downloaded logs_3i7gcr38:v0 to /scratch/downloaded_artifacts/logs_3i7gcr38:v0\n",
      "2025-04-30 16:31:14,575 - ERROR - Error downloading artifact for run 3i7gcr38: 'summary'\n"
     ]
    },
    {
     "name": "stderr",
     "output_type": "stream",
     "text": [
      "\u001b[34m\u001b[1mwandb\u001b[0m:   1 of 1 files downloaded.  \n",
      "Done. 0:0:0.9\n"
     ]
    },
    {
     "name": "stdout",
     "output_type": "stream",
     "text": [
      "2025-04-30 16:31:14,585 - INFO - Downloaded logs_0dg8zi98:v0 to /scratch/downloaded_artifacts/logs_0dg8zi98:v0\n",
      "2025-04-30 16:31:14,585 - ERROR - Error downloading artifact for run 0dg8zi98: 'summary'\n"
     ]
    },
    {
     "name": "stderr",
     "output_type": "stream",
     "text": [
      "\u001b[34m\u001b[1mwandb\u001b[0m:   1 of 1 files downloaded.  \n",
      "\u001b[34m\u001b[1mwandb\u001b[0m:   1 of 1 files downloaded.  \n",
      "Done. 0:0:0.9\n"
     ]
    },
    {
     "name": "stdout",
     "output_type": "stream",
     "text": [
      "2025-04-30 16:31:14,603 - INFO - Downloaded logs_3ok27zbc:v0 to /scratch/downloaded_artifacts/logs_3ok27zbc:v0\n"
     ]
    },
    {
     "name": "stderr",
     "output_type": "stream",
     "text": [
      "Done. 0:0:0.8\n"
     ]
    },
    {
     "name": "stdout",
     "output_type": "stream",
     "text": [
      "2025-04-30 16:31:14,604 - INFO - Downloaded logs_2ar3992z:v0 to /scratch/downloaded_artifacts/logs_2ar3992z:v0\n",
      "2025-04-30 16:31:14,604 - ERROR - Error downloading artifact for run 3ok27zbc: 'summary'\n",
      "2025-04-30 16:31:14,605 - ERROR - Error downloading artifact for run 2ar3992z: 'summary'\n"
     ]
    },
    {
     "name": "stderr",
     "output_type": "stream",
     "text": [
      "\u001b[34m\u001b[1mwandb\u001b[0m:   1 of 1 files downloaded.  \n",
      "Done. 0:0:0.8\n"
     ]
    },
    {
     "name": "stdout",
     "output_type": "stream",
     "text": [
      "2025-04-30 16:31:14,615 - INFO - Downloaded logs_wdb1s719:v0 to /scratch/downloaded_artifacts/logs_wdb1s719:v0\n",
      "2025-04-30 16:31:14,615 - ERROR - Error downloading artifact for run wdb1s719: 'summary'\n"
     ]
    },
    {
     "name": "stderr",
     "output_type": "stream",
     "text": [
      "\u001b[34m\u001b[1mwandb\u001b[0m:   1 of 1 files downloaded.  \n",
      "Done. 0:0:0.9\n"
     ]
    },
    {
     "name": "stdout",
     "output_type": "stream",
     "text": [
      "2025-04-30 16:31:14,633 - INFO - Downloaded logs_tkgvm9ww:v0 to /scratch/downloaded_artifacts/logs_tkgvm9ww:v0\n",
      "2025-04-30 16:31:14,633 - ERROR - Error downloading artifact for run tkgvm9ww: 'summary'\n"
     ]
    },
    {
     "name": "stderr",
     "output_type": "stream",
     "text": [
      "\u001b[34m\u001b[1mwandb\u001b[0m:   1 of 1 files downloaded.  \n",
      "Done. 0:0:0.8\n"
     ]
    },
    {
     "name": "stdout",
     "output_type": "stream",
     "text": [
      "2025-04-30 16:31:14,648 - INFO - Downloaded logs_nzmzzf0p:v0 to /scratch/downloaded_artifacts/logs_nzmzzf0p:v0\n",
      "2025-04-30 16:31:14,648 - ERROR - Error downloading artifact for run nzmzzf0p: 'summary'\n"
     ]
    },
    {
     "name": "stderr",
     "output_type": "stream",
     "text": [
      "\u001b[34m\u001b[1mwandb\u001b[0m:   1 of 1 files downloaded.  \n",
      "Done. 0:0:0.7\n"
     ]
    },
    {
     "name": "stdout",
     "output_type": "stream",
     "text": [
      "2025-04-30 16:31:14,668 - INFO - Downloaded logs_w0m5e60i:v0 to /scratch/downloaded_artifacts/logs_w0m5e60i:v0\n",
      "2025-04-30 16:31:14,668 - ERROR - Error downloading artifact for run w0m5e60i: 'summary'\n"
     ]
    },
    {
     "name": "stderr",
     "output_type": "stream",
     "text": [
      "\u001b[34m\u001b[1mwandb\u001b[0m: Downloading large artifact logs_py1cdgbz:v0, 58.75MB. 1 files... \n",
      "\u001b[34m\u001b[1mwandb\u001b[0m:   1 of 1 files downloaded.  \n",
      "Done. 0:0:0.5\n"
     ]
    },
    {
     "name": "stdout",
     "output_type": "stream",
     "text": [
      "2025-04-30 16:31:16,500 - INFO - Downloaded logs_py1cdgbz:v0 to /scratch/downloaded_artifacts/logs_py1cdgbz:v0\n",
      "2025-04-30 16:31:16,500 - ERROR - Error downloading artifact for run py1cdgbz: 'summary'\n"
     ]
    }
   ],
   "source": [
    "with ThreadPoolExecutor(max_workers=max_download_workers) as executor:\n",
    "    download_results = list(executor.map(download_artifact, run_data))"
   ]
  },
  {
   "cell_type": "code",
   "execution_count": 18,
   "metadata": {},
   "outputs": [
    {
     "name": "stdout",
     "output_type": "stream",
     "text": [
      "2025-04-30 16:31:16,512 - INFO - Saved download results to /scratch/downloaded_artifacts/download_results_batched_bptt_mnist-fixed-1_7b11a6cf504f46bc93a041cf1ffcf207.pkl\n"
     ]
    }
   ],
   "source": [
    "# Save download results for the processing script, including group name\n",
    "import pickle\n",
    "results_file = os.path.join(download_dir, f'download_results_{group_name}.pkl')\n",
    "with open(results_file, 'wb') as f:\n",
    "    pickle.dump(download_results, f)\n",
    "logger.info(f\"Saved download results to {results_file}\")"
   ]
  }
 ],
 "metadata": {
  "kernelspec": {
   "display_name": "Python 3",
   "language": "python",
   "name": "python3"
  },
  "language_info": {
   "codemirror_mode": {
    "name": "ipython",
    "version": 3
   },
   "file_extension": ".py",
   "mimetype": "text/x-python",
   "name": "python",
   "nbconvert_exporter": "python",
   "pygments_lexer": "ipython3",
   "version": "3.13.1"
  }
 },
 "nbformat": 4,
 "nbformat_minor": 2
}

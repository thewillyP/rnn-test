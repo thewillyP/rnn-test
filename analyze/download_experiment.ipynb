{
 "cells": [
  {
   "cell_type": "code",
   "execution_count": 1,
   "metadata": {},
   "outputs": [],
   "source": [
    "import os\n",
    "import sys\n",
    "sys.path.append(os.getcwd())\n",
    "sys.path.append(os.getcwd() + '/../src')\n"
   ]
  },
  {
   "cell_type": "code",
   "execution_count": 2,
   "metadata": {},
   "outputs": [],
   "source": [
    "import logging\n",
    "import wandb\n",
    "from concurrent.futures import ThreadPoolExecutor\n",
    "import multiprocessing\n"
   ]
  },
  {
   "cell_type": "code",
   "execution_count": 3,
   "metadata": {},
   "outputs": [],
   "source": [
    "# Configure logging\n",
    "logging.basicConfig(\n",
    "    level=logging.INFO,\n",
    "    format='%(asctime)s - %(levelname)s - %(message)s',\n",
    "    handlers=[\n",
    "        logging.StreamHandler(sys.stdout),\n",
    "        logging.FileHandler('download.log')\n",
    "    ]\n",
    ")\n",
    "logger = logging.getLogger(__name__)\n",
    "\n",
    "# Set multiprocessing start method to 'spawn'\n",
    "multiprocessing.set_start_method(\"spawn\", force=True)"
   ]
  },
  {
   "cell_type": "code",
   "execution_count": 4,
   "metadata": {},
   "outputs": [],
   "source": [
    "# Configuration\n",
    "download_dir = \"/scratch/downloaded_artifacts\"\n",
    "entity = \"wlp9800-new-york-university\"\n",
    "project_name = \"oho_exps\"\n",
    "group_name = \"fixed_search-1_209e70fddac44ed4a229a4267c6f1976\"\n",
    "max_download_workers = 20"
   ]
  },
  {
   "cell_type": "code",
   "execution_count": 5,
   "metadata": {},
   "outputs": [],
   "source": [
    "# Ensure download directory exists\n",
    "os.makedirs(download_dir, exist_ok=True)"
   ]
  },
  {
   "cell_type": "code",
   "execution_count": 6,
   "metadata": {},
   "outputs": [],
   "source": [
    "# Function to download a single run's artifact\n",
    "def download_artifact(run_data):\n",
    "    run_id = run_data[\"id\"]\n",
    "    config = run_data[\"config\"]\n",
    "    try:\n",
    "        api = wandb.Api()\n",
    "        artifact = api.artifact(f'{entity}/{project_name}/logs_{run_id}:v0')\n",
    "        artifact_dir = os.path.join(download_dir, artifact.name)\n",
    "        artifact.download(root=artifact_dir)\n",
    "        logger.info(f\"Downloaded {artifact.name} to {artifact_dir}\")\n",
    "        return {\n",
    "            \"run_id\": run_id,\n",
    "            \"artifact_dir\": artifact_dir,\n",
    "            \"config\": config,\n",
    "            \"status\": \"success\"\n",
    "        }\n",
    "    except Exception as e:\n",
    "        logger.error(f\"Error downloading artifact for run {run_id}: {str(e)}\")\n",
    "        return {\n",
    "            \"run_id\": run_id,\n",
    "            \"artifact_dir\": None,\n",
    "            \"config\": config,\n",
    "            \"status\": f\"error: {str(e)}\"\n",
    "        }"
   ]
  },
  {
   "cell_type": "code",
   "execution_count": 7,
   "metadata": {},
   "outputs": [
    {
     "name": "stdout",
     "output_type": "stream",
     "text": [
      "2025-04-20 13:06:25,214 - INFO - Found 2400 runs to download\n"
     ]
    }
   ],
   "source": [
    "api = wandb.Api()\n",
    "runs = api.runs(\n",
    "    path=f\"{entity}/{project_name}\",\n",
    "    filters={\"group\": group_name}\n",
    ")\n",
    "\n",
    "# Prepare run data\n",
    "run_data = [{\"id\": run.id, \"config\": run.config} for run in runs]\n",
    "logger.info(f\"Found {len(run_data)} runs to download\")\n"
   ]
  },
  {
   "cell_type": "code",
   "execution_count": 8,
   "metadata": {},
   "outputs": [
    {
     "name": "stderr",
     "output_type": "stream",
     "text": [
      "\u001b[34m\u001b[1mwandb\u001b[0m: Using wandb-core as the SDK backend.  Please refer to https://wandb.me/wandb-core for more information.\n",
      "\u001b[34m\u001b[1mwandb\u001b[0m:   1 of 1 files downloaded.  \n"
     ]
    },
    {
     "name": "stdout",
     "output_type": "stream",
     "text": [
      "2025-04-20 13:06:27,507 - INFO - Downloaded logs_13ddsopj:v0 to /scratch/downloaded_artifacts/logs_13ddsopj:v0\n"
     ]
    },
    {
     "name": "stderr",
     "output_type": "stream",
     "text": [
      "\u001b[34m\u001b[1mwandb\u001b[0m:   1 of 1 files downloaded.  \n"
     ]
    },
    {
     "name": "stdout",
     "output_type": "stream",
     "text": [
      "2025-04-20 13:06:27,535 - INFO - Downloaded logs_naq52dsf:v0 to /scratch/downloaded_artifacts/logs_naq52dsf:v0\n"
     ]
    },
    {
     "name": "stderr",
     "output_type": "stream",
     "text": [
      "\u001b[34m\u001b[1mwandb\u001b[0m:   1 of 1 files downloaded.  \n"
     ]
    },
    {
     "name": "stdout",
     "output_type": "stream",
     "text": [
      "2025-04-20 13:06:27,638 - INFO - Downloaded logs_vfhiq3l0:v0 to /scratch/downloaded_artifacts/logs_vfhiq3l0:v0\n"
     ]
    },
    {
     "name": "stderr",
     "output_type": "stream",
     "text": [
      "\u001b[34m\u001b[1mwandb\u001b[0m:   1 of 1 files downloaded.  \n"
     ]
    },
    {
     "name": "stdout",
     "output_type": "stream",
     "text": [
      "2025-04-20 13:06:27,938 - INFO - Downloaded logs_s85g5fxr:v0 to /scratch/downloaded_artifacts/logs_s85g5fxr:v0\n"
     ]
    },
    {
     "name": "stderr",
     "output_type": "stream",
     "text": [
      "\u001b[34m\u001b[1mwandb\u001b[0m:   1 of 1 files downloaded.  \n"
     ]
    },
    {
     "name": "stdout",
     "output_type": "stream",
     "text": [
      "2025-04-20 13:06:28,047 - INFO - Downloaded logs_k47uk0b7:v0 to /scratch/downloaded_artifacts/logs_k47uk0b7:v0\n"
     ]
    },
    {
     "name": "stderr",
     "output_type": "stream",
     "text": [
      "\u001b[34m\u001b[1mwandb\u001b[0m:   1 of 1 files downloaded.  \n"
     ]
    },
    {
     "name": "stdout",
     "output_type": "stream",
     "text": [
      "2025-04-20 13:06:28,076 - INFO - Downloaded logs_s7kv66jm:v0 to /scratch/downloaded_artifacts/logs_s7kv66jm:v0\n"
     ]
    },
    {
     "name": "stderr",
     "output_type": "stream",
     "text": [
      "\u001b[34m\u001b[1mwandb\u001b[0m:   1 of 1 files downloaded.  \n"
     ]
    },
    {
     "name": "stdout",
     "output_type": "stream",
     "text": [
      "2025-04-20 13:06:28,137 - INFO - Downloaded logs_8dsff0nn:v0 to /scratch/downloaded_artifacts/logs_8dsff0nn:v0\n"
     ]
    },
    {
     "name": "stderr",
     "output_type": "stream",
     "text": [
      "\u001b[34m\u001b[1mwandb\u001b[0m:   1 of 1 files downloaded.  \n"
     ]
    },
    {
     "name": "stdout",
     "output_type": "stream",
     "text": [
      "2025-04-20 13:06:28,246 - INFO - Downloaded logs_064xikfd:v0 to /scratch/downloaded_artifacts/logs_064xikfd:v0\n"
     ]
    },
    {
     "name": "stderr",
     "output_type": "stream",
     "text": [
      "\u001b[34m\u001b[1mwandb\u001b[0m:   1 of 1 files downloaded.  \n",
      "\u001b[34m\u001b[1mwandb\u001b[0m:   1 of 1 files downloaded.  \n"
     ]
    },
    {
     "name": "stdout",
     "output_type": "stream",
     "text": [
      "2025-04-20 13:06:28,329 - INFO - Downloaded logs_xlkq8wzf:v0 to /scratch/downloaded_artifacts/logs_xlkq8wzf:v0\n",
      "2025-04-20 13:06:28,332 - INFO - Downloaded logs_q6obxm5h:v0 to /scratch/downloaded_artifacts/logs_q6obxm5h:v0\n"
     ]
    },
    {
     "name": "stderr",
     "output_type": "stream",
     "text": [
      "\u001b[34m\u001b[1mwandb\u001b[0m:   1 of 1 files downloaded.  \n"
     ]
    },
    {
     "name": "stdout",
     "output_type": "stream",
     "text": [
      "2025-04-20 13:06:28,495 - INFO - Downloaded logs_3niw68p3:v0 to /scratch/downloaded_artifacts/logs_3niw68p3:v0\n"
     ]
    },
    {
     "name": "stderr",
     "output_type": "stream",
     "text": [
      "\u001b[34m\u001b[1mwandb\u001b[0m:   1 of 1 files downloaded.  \n"
     ]
    },
    {
     "name": "stdout",
     "output_type": "stream",
     "text": [
      "2025-04-20 13:06:28,500 - INFO - Downloaded logs_uym2l57w:v0 to /scratch/downloaded_artifacts/logs_uym2l57w:v0\n"
     ]
    },
    {
     "name": "stderr",
     "output_type": "stream",
     "text": [
      "\u001b[34m\u001b[1mwandb\u001b[0m:   1 of 1 files downloaded.  \n"
     ]
    },
    {
     "name": "stdout",
     "output_type": "stream",
     "text": [
      "2025-04-20 13:06:28,513 - INFO - Downloaded logs_1zuko15r:v0 to /scratch/downloaded_artifacts/logs_1zuko15r:v0\n"
     ]
    },
    {
     "name": "stderr",
     "output_type": "stream",
     "text": [
      "\u001b[34m\u001b[1mwandb\u001b[0m:   1 of 1 files downloaded.  \n",
      "\u001b[34m\u001b[1mwandb\u001b[0m:   1 of 1 files downloaded.  \n"
     ]
    },
    {
     "name": "stdout",
     "output_type": "stream",
     "text": [
      "2025-04-20 13:06:28,542 - INFO - Downloaded logs_inu643zs:v0 to /scratch/downloaded_artifacts/logs_inu643zs:v0\n",
      "2025-04-20 13:06:28,545 - INFO - Downloaded logs_nowocf97:v0 to /scratch/downloaded_artifacts/logs_nowocf97:v0\n"
     ]
    },
    {
     "name": "stderr",
     "output_type": "stream",
     "text": [
      "\u001b[34m\u001b[1mwandb\u001b[0m:   1 of 1 files downloaded.  \n",
      "\u001b[34m\u001b[1mwandb\u001b[0m:   1 of 1 files downloaded.  \n"
     ]
    },
    {
     "name": "stdout",
     "output_type": "stream",
     "text": [
      "2025-04-20 13:06:28,575 - INFO - Downloaded logs_50k1yy2b:v0 to /scratch/downloaded_artifacts/logs_50k1yy2b:v0\n",
      "2025-04-20 13:06:28,576 - INFO - Downloaded logs_sblc4dl5:v0 to /scratch/downloaded_artifacts/logs_sblc4dl5:v0\n"
     ]
    },
    {
     "name": "stderr",
     "output_type": "stream",
     "text": [
      "\u001b[34m\u001b[1mwandb\u001b[0m:   1 of 1 files downloaded.  \n"
     ]
    },
    {
     "name": "stdout",
     "output_type": "stream",
     "text": [
      "2025-04-20 13:06:28,598 - INFO - Downloaded logs_be0cvx1e:v0 to /scratch/downloaded_artifacts/logs_be0cvx1e:v0\n"
     ]
    },
    {
     "name": "stderr",
     "output_type": "stream",
     "text": [
      "\u001b[34m\u001b[1mwandb\u001b[0m:   1 of 1 files downloaded.  \n"
     ]
    },
    {
     "name": "stdout",
     "output_type": "stream",
     "text": [
      "2025-04-20 13:06:28,619 - INFO - Downloaded logs_tr4cljq0:v0 to /scratch/downloaded_artifacts/logs_tr4cljq0:v0\n"
     ]
    },
    {
     "name": "stderr",
     "output_type": "stream",
     "text": [
      "\u001b[34m\u001b[1mwandb\u001b[0m:   1 of 1 files downloaded.  \n"
     ]
    },
    {
     "name": "stdout",
     "output_type": "stream",
     "text": [
      "2025-04-20 13:06:28,679 - INFO - Downloaded logs_8vmysoek:v0 to /scratch/downloaded_artifacts/logs_8vmysoek:v0\n"
     ]
    },
    {
     "name": "stderr",
     "output_type": "stream",
     "text": [
      "\u001b[34m\u001b[1mwandb\u001b[0m:   1 of 1 files downloaded.  \n"
     ]
    },
    {
     "name": "stdout",
     "output_type": "stream",
     "text": [
      "2025-04-20 13:06:28,872 - INFO - Downloaded logs_rgueq36v:v0 to /scratch/downloaded_artifacts/logs_rgueq36v:v0\n"
     ]
    },
    {
     "name": "stderr",
     "output_type": "stream",
     "text": [
      "\u001b[34m\u001b[1mwandb\u001b[0m:   1 of 1 files downloaded.  \n",
      "\u001b[34m\u001b[1mwandb\u001b[0m:   1 of 1 files downloaded.  \n"
     ]
    },
    {
     "name": "stdout",
     "output_type": "stream",
     "text": [
      "2025-04-20 13:06:29,052 - INFO - Downloaded logs_iwsj8cwn:v0 to /scratch/downloaded_artifacts/logs_iwsj8cwn:v0\n",
      "2025-04-20 13:06:29,053 - INFO - Downloaded logs_116zi0l3:v0 to /scratch/downloaded_artifacts/logs_116zi0l3:v0\n"
     ]
    },
    {
     "name": "stderr",
     "output_type": "stream",
     "text": [
      "\u001b[34m\u001b[1mwandb\u001b[0m:   1 of 1 files downloaded.  \n"
     ]
    },
    {
     "name": "stdout",
     "output_type": "stream",
     "text": [
      "2025-04-20 13:06:29,303 - INFO - Downloaded logs_1cjybjax:v0 to /scratch/downloaded_artifacts/logs_1cjybjax:v0\n"
     ]
    },
    {
     "name": "stderr",
     "output_type": "stream",
     "text": [
      "\u001b[34m\u001b[1mwandb\u001b[0m:   1 of 1 files downloaded.  \n",
      "\u001b[34m\u001b[1mwandb\u001b[0m:   1 of 1 files downloaded.  \n"
     ]
    },
    {
     "name": "stdout",
     "output_type": "stream",
     "text": [
      "2025-04-20 13:06:29,637 - INFO - Downloaded logs_4zsbredc:v0 to /scratch/downloaded_artifacts/logs_4zsbredc:v0\n",
      "2025-04-20 13:06:29,639 - INFO - Downloaded logs_fvy2znr9:v0 to /scratch/downloaded_artifacts/logs_fvy2znr9:v0\n"
     ]
    },
    {
     "name": "stderr",
     "output_type": "stream",
     "text": [
      "\u001b[34m\u001b[1mwandb\u001b[0m:   1 of 1 files downloaded.  \n"
     ]
    },
    {
     "name": "stdout",
     "output_type": "stream",
     "text": [
      "2025-04-20 13:06:29,642 - INFO - Downloaded logs_afy685ky:v0 to /scratch/downloaded_artifacts/logs_afy685ky:v0\n"
     ]
    },
    {
     "name": "stderr",
     "output_type": "stream",
     "text": [
      "\u001b[34m\u001b[1mwandb\u001b[0m:   1 of 1 files downloaded.  \n"
     ]
    },
    {
     "name": "stdout",
     "output_type": "stream",
     "text": [
      "2025-04-20 13:06:29,788 - INFO - Downloaded logs_60ggetjv:v0 to /scratch/downloaded_artifacts/logs_60ggetjv:v0\n"
     ]
    },
    {
     "name": "stderr",
     "output_type": "stream",
     "text": [
      "\u001b[34m\u001b[1mwandb\u001b[0m:   1 of 1 files downloaded.  \n"
     ]
    },
    {
     "name": "stdout",
     "output_type": "stream",
     "text": [
      "2025-04-20 13:06:29,886 - INFO - Downloaded logs_bjkhc8nd:v0 to /scratch/downloaded_artifacts/logs_bjkhc8nd:v0\n"
     ]
    },
    {
     "name": "stderr",
     "output_type": "stream",
     "text": [
      "\u001b[34m\u001b[1mwandb\u001b[0m:   1 of 1 files downloaded.  \n"
     ]
    },
    {
     "name": "stdout",
     "output_type": "stream",
     "text": [
      "2025-04-20 13:06:29,983 - INFO - Downloaded logs_gh19xldn:v0 to /scratch/downloaded_artifacts/logs_gh19xldn:v0\n"
     ]
    },
    {
     "name": "stderr",
     "output_type": "stream",
     "text": [
      "\u001b[34m\u001b[1mwandb\u001b[0m:   1 of 1 files downloaded.  \n"
     ]
    },
    {
     "name": "stdout",
     "output_type": "stream",
     "text": [
      "2025-04-20 13:06:30,001 - INFO - Downloaded logs_zo6dfgjd:v0 to /scratch/downloaded_artifacts/logs_zo6dfgjd:v0\n"
     ]
    },
    {
     "name": "stderr",
     "output_type": "stream",
     "text": [
      "\u001b[34m\u001b[1mwandb\u001b[0m:   1 of 1 files downloaded.  \n"
     ]
    },
    {
     "name": "stdout",
     "output_type": "stream",
     "text": [
      "2025-04-20 13:06:30,007 - INFO - Downloaded logs_zuvb836p:v0 to /scratch/downloaded_artifacts/logs_zuvb836p:v0\n"
     ]
    },
    {
     "name": "stderr",
     "output_type": "stream",
     "text": [
      "\u001b[34m\u001b[1mwandb\u001b[0m:   1 of 1 files downloaded.  \n"
     ]
    },
    {
     "name": "stdout",
     "output_type": "stream",
     "text": [
      "2025-04-20 13:06:30,016 - INFO - Downloaded logs_cq4nswnz:v0 to /scratch/downloaded_artifacts/logs_cq4nswnz:v0\n"
     ]
    },
    {
     "name": "stderr",
     "output_type": "stream",
     "text": [
      "\u001b[34m\u001b[1mwandb\u001b[0m:   1 of 1 files downloaded.  \n"
     ]
    },
    {
     "name": "stdout",
     "output_type": "stream",
     "text": [
      "2025-04-20 13:06:30,093 - INFO - Downloaded logs_quhdkpkc:v0 to /scratch/downloaded_artifacts/logs_quhdkpkc:v0\n"
     ]
    },
    {
     "name": "stderr",
     "output_type": "stream",
     "text": [
      "\u001b[34m\u001b[1mwandb\u001b[0m:   1 of 1 files downloaded.  \n"
     ]
    },
    {
     "name": "stdout",
     "output_type": "stream",
     "text": [
      "2025-04-20 13:06:30,133 - INFO - Downloaded logs_hhdiiyfj:v0 to /scratch/downloaded_artifacts/logs_hhdiiyfj:v0\n"
     ]
    },
    {
     "name": "stderr",
     "output_type": "stream",
     "text": [
      "\u001b[34m\u001b[1mwandb\u001b[0m:   1 of 1 files downloaded.  \n"
     ]
    },
    {
     "name": "stdout",
     "output_type": "stream",
     "text": [
      "2025-04-20 13:06:30,392 - INFO - Downloaded logs_ivr9cbiw:v0 to /scratch/downloaded_artifacts/logs_ivr9cbiw:v0\n"
     ]
    },
    {
     "name": "stderr",
     "output_type": "stream",
     "text": [
      "\u001b[34m\u001b[1mwandb\u001b[0m:   1 of 1 files downloaded.  \n"
     ]
    },
    {
     "name": "stdout",
     "output_type": "stream",
     "text": [
      "2025-04-20 13:06:30,686 - INFO - Downloaded logs_gflktakp:v0 to /scratch/downloaded_artifacts/logs_gflktakp:v0\n"
     ]
    },
    {
     "name": "stderr",
     "output_type": "stream",
     "text": [
      "\u001b[34m\u001b[1mwandb\u001b[0m:   1 of 1 files downloaded.  \n",
      "\u001b[34m\u001b[1mwandb\u001b[0m:   1 of 1 files downloaded.  \n"
     ]
    },
    {
     "name": "stdout",
     "output_type": "stream",
     "text": [
      "2025-04-20 13:06:30,689 - INFO - Downloaded logs_3epgoyhb:v0 to /scratch/downloaded_artifacts/logs_3epgoyhb:v0\n"
     ]
    },
    {
     "name": "stderr",
     "output_type": "stream",
     "text": [
      "\u001b[34m\u001b[1mwandb\u001b[0m:   1 of 1 files downloaded.  \n",
      "\u001b[34m\u001b[1mwandb\u001b[0m:   1 of 1 files downloaded.  \n"
     ]
    },
    {
     "name": "stdout",
     "output_type": "stream",
     "text": [
      "2025-04-20 13:06:30,692 - INFO - Downloaded logs_9ssozymq:v0 to /scratch/downloaded_artifacts/logs_9ssozymq:v0\n",
      "2025-04-20 13:06:30,695 - INFO - Downloaded logs_mty6wunm:v0 to /scratch/downloaded_artifacts/logs_mty6wunm:v0\n",
      "2025-04-20 13:06:30,697 - INFO - Downloaded logs_1gqxcu07:v0 to /scratch/downloaded_artifacts/logs_1gqxcu07:v0\n"
     ]
    },
    {
     "name": "stderr",
     "output_type": "stream",
     "text": [
      "\u001b[34m\u001b[1mwandb\u001b[0m:   1 of 1 files downloaded.  \n"
     ]
    },
    {
     "name": "stdout",
     "output_type": "stream",
     "text": [
      "2025-04-20 13:06:31,127 - INFO - Downloaded logs_0zg4a6jx:v0 to /scratch/downloaded_artifacts/logs_0zg4a6jx:v0\n"
     ]
    },
    {
     "name": "stderr",
     "output_type": "stream",
     "text": [
      "\u001b[34m\u001b[1mwandb\u001b[0m:   1 of 1 files downloaded.  \n"
     ]
    },
    {
     "name": "stdout",
     "output_type": "stream",
     "text": [
      "2025-04-20 13:06:31,129 - INFO - Downloaded logs_alnyienm:v0 to /scratch/downloaded_artifacts/logs_alnyienm:v0\n"
     ]
    },
    {
     "name": "stderr",
     "output_type": "stream",
     "text": [
      "\u001b[34m\u001b[1mwandb\u001b[0m:   1 of 1 files downloaded.  \n"
     ]
    },
    {
     "name": "stdout",
     "output_type": "stream",
     "text": [
      "2025-04-20 13:06:31,533 - INFO - Downloaded logs_cqjth78k:v0 to /scratch/downloaded_artifacts/logs_cqjth78k:v0\n"
     ]
    },
    {
     "name": "stderr",
     "output_type": "stream",
     "text": [
      "\u001b[34m\u001b[1mwandb\u001b[0m:   1 of 1 files downloaded.  \n",
      "\u001b[34m\u001b[1mwandb\u001b[0m:   1 of 1 files downloaded.  \n"
     ]
    },
    {
     "name": "stdout",
     "output_type": "stream",
     "text": [
      "2025-04-20 13:06:31,536 - INFO - Downloaded logs_ovirls5s:v0 to /scratch/downloaded_artifacts/logs_ovirls5s:v0\n",
      "2025-04-20 13:06:31,537 - INFO - Downloaded logs_di09ffcv:v0 to /scratch/downloaded_artifacts/logs_di09ffcv:v0\n"
     ]
    },
    {
     "name": "stderr",
     "output_type": "stream",
     "text": [
      "\u001b[34m\u001b[1mwandb\u001b[0m:   1 of 1 files downloaded.  \n"
     ]
    },
    {
     "name": "stdout",
     "output_type": "stream",
     "text": [
      "2025-04-20 13:06:31,988 - INFO - Downloaded logs_oxtrw50t:v0 to /scratch/downloaded_artifacts/logs_oxtrw50t:v0\n"
     ]
    },
    {
     "name": "stderr",
     "output_type": "stream",
     "text": [
      "\u001b[34m\u001b[1mwandb\u001b[0m:   1 of 1 files downloaded.  \n",
      "\u001b[34m\u001b[1mwandb\u001b[0m:   1 of 1 files downloaded.  \n"
     ]
    },
    {
     "name": "stdout",
     "output_type": "stream",
     "text": [
      "2025-04-20 13:06:31,990 - INFO - Downloaded logs_tfcly3pw:v0 to /scratch/downloaded_artifacts/logs_tfcly3pw:v0\n",
      "2025-04-20 13:06:31,990 - INFO - Downloaded logs_skfx8xq1:v0 to /scratch/downloaded_artifacts/logs_skfx8xq1:v0\n"
     ]
    },
    {
     "name": "stderr",
     "output_type": "stream",
     "text": [
      "\u001b[34m\u001b[1mwandb\u001b[0m:   1 of 1 files downloaded.  \n"
     ]
    },
    {
     "name": "stdout",
     "output_type": "stream",
     "text": [
      "2025-04-20 13:06:32,009 - INFO - Downloaded logs_bw292nj2:v0 to /scratch/downloaded_artifacts/logs_bw292nj2:v0\n"
     ]
    },
    {
     "name": "stderr",
     "output_type": "stream",
     "text": [
      "\u001b[34m\u001b[1mwandb\u001b[0m:   1 of 1 files downloaded.  \n"
     ]
    },
    {
     "name": "stdout",
     "output_type": "stream",
     "text": [
      "2025-04-20 13:06:32,087 - INFO - Downloaded logs_frtrcsqg:v0 to /scratch/downloaded_artifacts/logs_frtrcsqg:v0\n"
     ]
    },
    {
     "name": "stderr",
     "output_type": "stream",
     "text": [
      "\u001b[34m\u001b[1mwandb\u001b[0m:   1 of 1 files downloaded.  \n"
     ]
    },
    {
     "name": "stdout",
     "output_type": "stream",
     "text": [
      "2025-04-20 13:06:32,105 - INFO - Downloaded logs_wd7jgfa4:v0 to /scratch/downloaded_artifacts/logs_wd7jgfa4:v0\n"
     ]
    },
    {
     "name": "stderr",
     "output_type": "stream",
     "text": [
      "\u001b[34m\u001b[1mwandb\u001b[0m:   1 of 1 files downloaded.  \n"
     ]
    },
    {
     "name": "stdout",
     "output_type": "stream",
     "text": [
      "2025-04-20 13:06:32,390 - INFO - Downloaded logs_0ir4j8dh:v0 to /scratch/downloaded_artifacts/logs_0ir4j8dh:v0\n"
     ]
    },
    {
     "name": "stderr",
     "output_type": "stream",
     "text": [
      "\u001b[34m\u001b[1mwandb\u001b[0m:   1 of 1 files downloaded.  \n"
     ]
    },
    {
     "name": "stdout",
     "output_type": "stream",
     "text": [
      "2025-04-20 13:06:32,457 - INFO - Downloaded logs_td9mp5vk:v0 to /scratch/downloaded_artifacts/logs_td9mp5vk:v0\n"
     ]
    },
    {
     "name": "stderr",
     "output_type": "stream",
     "text": [
      "\u001b[34m\u001b[1mwandb\u001b[0m:   1 of 1 files downloaded.  \n"
     ]
    },
    {
     "name": "stdout",
     "output_type": "stream",
     "text": [
      "2025-04-20 13:06:32,565 - INFO - Downloaded logs_n3e86i0e:v0 to /scratch/downloaded_artifacts/logs_n3e86i0e:v0\n"
     ]
    },
    {
     "name": "stderr",
     "output_type": "stream",
     "text": [
      "\u001b[34m\u001b[1mwandb\u001b[0m:   1 of 1 files downloaded.  \n"
     ]
    },
    {
     "name": "stdout",
     "output_type": "stream",
     "text": [
      "2025-04-20 13:06:32,589 - INFO - Downloaded logs_a8unks1p:v0 to /scratch/downloaded_artifacts/logs_a8unks1p:v0\n"
     ]
    },
    {
     "name": "stderr",
     "output_type": "stream",
     "text": [
      "\u001b[34m\u001b[1mwandb\u001b[0m:   1 of 1 files downloaded.  \n"
     ]
    },
    {
     "name": "stdout",
     "output_type": "stream",
     "text": [
      "2025-04-20 13:06:32,789 - INFO - Downloaded logs_36svoyjr:v0 to /scratch/downloaded_artifacts/logs_36svoyjr:v0\n"
     ]
    },
    {
     "name": "stderr",
     "output_type": "stream",
     "text": [
      "\u001b[34m\u001b[1mwandb\u001b[0m:   1 of 1 files downloaded.  \n"
     ]
    },
    {
     "name": "stdout",
     "output_type": "stream",
     "text": [
      "2025-04-20 13:06:32,894 - INFO - Downloaded logs_2znog2uc:v0 to /scratch/downloaded_artifacts/logs_2znog2uc:v0\n"
     ]
    },
    {
     "name": "stderr",
     "output_type": "stream",
     "text": [
      "\u001b[34m\u001b[1mwandb\u001b[0m:   1 of 1 files downloaded.  \n"
     ]
    },
    {
     "name": "stdout",
     "output_type": "stream",
     "text": [
      "2025-04-20 13:06:32,961 - INFO - Downloaded logs_ilebhqyg:v0 to /scratch/downloaded_artifacts/logs_ilebhqyg:v0\n"
     ]
    },
    {
     "name": "stderr",
     "output_type": "stream",
     "text": [
      "\u001b[34m\u001b[1mwandb\u001b[0m:   1 of 1 files downloaded.  \n",
      "\u001b[34m\u001b[1mwandb\u001b[0m:   1 of 1 files downloaded.  \n"
     ]
    },
    {
     "name": "stdout",
     "output_type": "stream",
     "text": [
      "2025-04-20 13:06:33,060 - INFO - Downloaded logs_1aa2myjx:v0 to /scratch/downloaded_artifacts/logs_1aa2myjx:v0\n",
      "2025-04-20 13:06:33,061 - INFO - Downloaded logs_6dv27upx:v0 to /scratch/downloaded_artifacts/logs_6dv27upx:v0\n"
     ]
    },
    {
     "name": "stderr",
     "output_type": "stream",
     "text": [
      "\u001b[34m\u001b[1mwandb\u001b[0m:   1 of 1 files downloaded.  \n"
     ]
    },
    {
     "name": "stdout",
     "output_type": "stream",
     "text": [
      "2025-04-20 13:06:33,155 - INFO - Downloaded logs_3ack8gsr:v0 to /scratch/downloaded_artifacts/logs_3ack8gsr:v0\n"
     ]
    },
    {
     "name": "stderr",
     "output_type": "stream",
     "text": [
      "\u001b[34m\u001b[1mwandb\u001b[0m:   1 of 1 files downloaded.  \n"
     ]
    },
    {
     "name": "stdout",
     "output_type": "stream",
     "text": [
      "2025-04-20 13:06:33,313 - INFO - Downloaded logs_dhtzaces:v0 to /scratch/downloaded_artifacts/logs_dhtzaces:v0\n"
     ]
    },
    {
     "name": "stderr",
     "output_type": "stream",
     "text": [
      "\u001b[34m\u001b[1mwandb\u001b[0m:   1 of 1 files downloaded.  \n"
     ]
    },
    {
     "name": "stdout",
     "output_type": "stream",
     "text": [
      "2025-04-20 13:06:33,385 - INFO - Downloaded logs_85kr24mt:v0 to /scratch/downloaded_artifacts/logs_85kr24mt:v0\n"
     ]
    },
    {
     "name": "stderr",
     "output_type": "stream",
     "text": [
      "\u001b[34m\u001b[1mwandb\u001b[0m:   1 of 1 files downloaded.  \n"
     ]
    },
    {
     "name": "stdout",
     "output_type": "stream",
     "text": [
      "2025-04-20 13:06:33,509 - INFO - Downloaded logs_cbsvw2vj:v0 to /scratch/downloaded_artifacts/logs_cbsvw2vj:v0\n"
     ]
    },
    {
     "name": "stderr",
     "output_type": "stream",
     "text": [
      "\u001b[34m\u001b[1mwandb\u001b[0m:   1 of 1 files downloaded.  \n"
     ]
    },
    {
     "name": "stdout",
     "output_type": "stream",
     "text": [
      "2025-04-20 13:06:33,528 - INFO - Downloaded logs_62alqvhe:v0 to /scratch/downloaded_artifacts/logs_62alqvhe:v0\n"
     ]
    },
    {
     "name": "stderr",
     "output_type": "stream",
     "text": [
      "\u001b[34m\u001b[1mwandb\u001b[0m:   1 of 1 files downloaded.  \n"
     ]
    },
    {
     "name": "stdout",
     "output_type": "stream",
     "text": [
      "2025-04-20 13:06:33,613 - INFO - Downloaded logs_cmbsmbhh:v0 to /scratch/downloaded_artifacts/logs_cmbsmbhh:v0\n"
     ]
    },
    {
     "name": "stderr",
     "output_type": "stream",
     "text": [
      "\u001b[34m\u001b[1mwandb\u001b[0m:   1 of 1 files downloaded.  \n"
     ]
    },
    {
     "name": "stdout",
     "output_type": "stream",
     "text": [
      "2025-04-20 13:06:33,703 - INFO - Downloaded logs_hcmwfr0q:v0 to /scratch/downloaded_artifacts/logs_hcmwfr0q:v0\n"
     ]
    },
    {
     "name": "stderr",
     "output_type": "stream",
     "text": [
      "\u001b[34m\u001b[1mwandb\u001b[0m:   1 of 1 files downloaded.  \n"
     ]
    },
    {
     "name": "stdout",
     "output_type": "stream",
     "text": [
      "2025-04-20 13:06:33,726 - INFO - Downloaded logs_hx7iqwhv:v0 to /scratch/downloaded_artifacts/logs_hx7iqwhv:v0\n"
     ]
    },
    {
     "name": "stderr",
     "output_type": "stream",
     "text": [
      "\u001b[34m\u001b[1mwandb\u001b[0m:   1 of 1 files downloaded.  \n"
     ]
    },
    {
     "name": "stdout",
     "output_type": "stream",
     "text": [
      "2025-04-20 13:06:34,560 - INFO - Downloaded logs_489sjajq:v0 to /scratch/downloaded_artifacts/logs_489sjajq:v0\n"
     ]
    },
    {
     "name": "stderr",
     "output_type": "stream",
     "text": [
      "\u001b[34m\u001b[1mwandb\u001b[0m:   1 of 1 files downloaded.  \n"
     ]
    },
    {
     "name": "stdout",
     "output_type": "stream",
     "text": [
      "2025-04-20 13:06:34,563 - INFO - Downloaded logs_ra8wn8fe:v0 to /scratch/downloaded_artifacts/logs_ra8wn8fe:v0\n"
     ]
    },
    {
     "name": "stderr",
     "output_type": "stream",
     "text": [
      "\u001b[34m\u001b[1mwandb\u001b[0m:   1 of 1 files downloaded.  \n"
     ]
    },
    {
     "name": "stdout",
     "output_type": "stream",
     "text": [
      "2025-04-20 13:06:34,651 - INFO - Downloaded logs_2ro97y19:v0 to /scratch/downloaded_artifacts/logs_2ro97y19:v0\n"
     ]
    },
    {
     "name": "stderr",
     "output_type": "stream",
     "text": [
      "\u001b[34m\u001b[1mwandb\u001b[0m:   1 of 1 files downloaded.  \n"
     ]
    },
    {
     "name": "stdout",
     "output_type": "stream",
     "text": [
      "2025-04-20 13:06:34,655 - INFO - Downloaded logs_yhsdzu9d:v0 to /scratch/downloaded_artifacts/logs_yhsdzu9d:v0\n"
     ]
    },
    {
     "name": "stderr",
     "output_type": "stream",
     "text": [
      "\u001b[34m\u001b[1mwandb\u001b[0m:   1 of 1 files downloaded.  \n"
     ]
    },
    {
     "name": "stdout",
     "output_type": "stream",
     "text": [
      "2025-04-20 13:06:34,734 - INFO - Downloaded logs_x0aa7nzt:v0 to /scratch/downloaded_artifacts/logs_x0aa7nzt:v0\n"
     ]
    },
    {
     "name": "stderr",
     "output_type": "stream",
     "text": [
      "\u001b[34m\u001b[1mwandb\u001b[0m:   1 of 1 files downloaded.  \n",
      "\u001b[34m\u001b[1mwandb\u001b[0m:   1 of 1 files downloaded.  \n"
     ]
    },
    {
     "name": "stdout",
     "output_type": "stream",
     "text": [
      "2025-04-20 13:06:34,949 - INFO - Downloaded logs_6uc5xjb3:v0 to /scratch/downloaded_artifacts/logs_6uc5xjb3:v0\n",
      "2025-04-20 13:06:34,951 - INFO - Downloaded logs_k2m98dcs:v0 to /scratch/downloaded_artifacts/logs_k2m98dcs:v0\n"
     ]
    },
    {
     "name": "stderr",
     "output_type": "stream",
     "text": [
      "\u001b[34m\u001b[1mwandb\u001b[0m:   1 of 1 files downloaded.  \n",
      "\u001b[34m\u001b[1mwandb\u001b[0m:   1 of 1 files downloaded.  \n"
     ]
    },
    {
     "name": "stdout",
     "output_type": "stream",
     "text": [
      "2025-04-20 13:06:34,952 - INFO - Downloaded logs_56bi7gfr:v0 to /scratch/downloaded_artifacts/logs_56bi7gfr:v0\n",
      "2025-04-20 13:06:34,956 - INFO - Downloaded logs_024m3mdi:v0 to /scratch/downloaded_artifacts/logs_024m3mdi:v0\n"
     ]
    },
    {
     "name": "stderr",
     "output_type": "stream",
     "text": [
      "\u001b[34m\u001b[1mwandb\u001b[0m:   1 of 1 files downloaded.  \n"
     ]
    },
    {
     "name": "stdout",
     "output_type": "stream",
     "text": [
      "2025-04-20 13:06:34,992 - INFO - Downloaded logs_9i8g3ig1:v0 to /scratch/downloaded_artifacts/logs_9i8g3ig1:v0\n"
     ]
    },
    {
     "name": "stderr",
     "output_type": "stream",
     "text": [
      "\u001b[34m\u001b[1mwandb\u001b[0m:   1 of 1 files downloaded.  \n"
     ]
    },
    {
     "name": "stdout",
     "output_type": "stream",
     "text": [
      "2025-04-20 13:06:35,031 - INFO - Downloaded logs_5yv65lga:v0 to /scratch/downloaded_artifacts/logs_5yv65lga:v0\n"
     ]
    },
    {
     "name": "stderr",
     "output_type": "stream",
     "text": [
      "\u001b[34m\u001b[1mwandb\u001b[0m:   1 of 1 files downloaded.  \n"
     ]
    },
    {
     "name": "stdout",
     "output_type": "stream",
     "text": [
      "2025-04-20 13:06:35,095 - INFO - Downloaded logs_8jrpotjc:v0 to /scratch/downloaded_artifacts/logs_8jrpotjc:v0\n"
     ]
    },
    {
     "name": "stderr",
     "output_type": "stream",
     "text": [
      "\u001b[34m\u001b[1mwandb\u001b[0m:   1 of 1 files downloaded.  \n",
      "\u001b[34m\u001b[1mwandb\u001b[0m:   1 of 1 files downloaded.  \n"
     ]
    },
    {
     "name": "stdout",
     "output_type": "stream",
     "text": [
      "2025-04-20 13:06:35,548 - INFO - Downloaded logs_fz6c6dge:v0 to /scratch/downloaded_artifacts/logs_fz6c6dge:v0\n"
     ]
    },
    {
     "name": "stderr",
     "output_type": "stream",
     "text": [
      "\u001b[34m\u001b[1mwandb\u001b[0m:   1 of 1 files downloaded.  \n"
     ]
    },
    {
     "name": "stdout",
     "output_type": "stream",
     "text": [
      "2025-04-20 13:06:35,549 - INFO - Downloaded logs_ce40t1q7:v0 to /scratch/downloaded_artifacts/logs_ce40t1q7:v0\n",
      "2025-04-20 13:06:35,549 - INFO - Downloaded logs_sgbrvk2k:v0 to /scratch/downloaded_artifacts/logs_sgbrvk2k:v0\n"
     ]
    },
    {
     "name": "stderr",
     "output_type": "stream",
     "text": [
      "\u001b[34m\u001b[1mwandb\u001b[0m:   1 of 1 files downloaded.  \n"
     ]
    },
    {
     "name": "stdout",
     "output_type": "stream",
     "text": [
      "2025-04-20 13:06:35,821 - INFO - Downloaded logs_6dhiv29z:v0 to /scratch/downloaded_artifacts/logs_6dhiv29z:v0\n"
     ]
    },
    {
     "name": "stderr",
     "output_type": "stream",
     "text": [
      "\u001b[34m\u001b[1mwandb\u001b[0m:   1 of 1 files downloaded.  \n"
     ]
    },
    {
     "name": "stdout",
     "output_type": "stream",
     "text": [
      "2025-04-20 13:06:35,851 - INFO - Downloaded logs_wtby1efy:v0 to /scratch/downloaded_artifacts/logs_wtby1efy:v0\n"
     ]
    },
    {
     "name": "stderr",
     "output_type": "stream",
     "text": [
      "\u001b[34m\u001b[1mwandb\u001b[0m:   1 of 1 files downloaded.  \n"
     ]
    },
    {
     "name": "stdout",
     "output_type": "stream",
     "text": [
      "2025-04-20 13:06:36,002 - INFO - Downloaded logs_rxv24htl:v0 to /scratch/downloaded_artifacts/logs_rxv24htl:v0\n"
     ]
    },
    {
     "name": "stderr",
     "output_type": "stream",
     "text": [
      "\u001b[34m\u001b[1mwandb\u001b[0m:   1 of 1 files downloaded.  \n"
     ]
    },
    {
     "name": "stdout",
     "output_type": "stream",
     "text": [
      "2025-04-20 13:06:36,164 - INFO - Downloaded logs_ul9t988i:v0 to /scratch/downloaded_artifacts/logs_ul9t988i:v0\n"
     ]
    },
    {
     "name": "stderr",
     "output_type": "stream",
     "text": [
      "\u001b[34m\u001b[1mwandb\u001b[0m:   1 of 1 files downloaded.  \n"
     ]
    },
    {
     "name": "stdout",
     "output_type": "stream",
     "text": [
      "2025-04-20 13:06:36,568 - INFO - Downloaded logs_jjloe6vd:v0 to /scratch/downloaded_artifacts/logs_jjloe6vd:v0\n"
     ]
    },
    {
     "name": "stderr",
     "output_type": "stream",
     "text": [
      "\u001b[34m\u001b[1mwandb\u001b[0m:   1 of 1 files downloaded.  \n",
      "\u001b[34m\u001b[1mwandb\u001b[0m:   1 of 1 files downloaded.  \n"
     ]
    },
    {
     "name": "stdout",
     "output_type": "stream",
     "text": [
      "2025-04-20 13:06:36,768 - INFO - Downloaded logs_2spdgqkm:v0 to /scratch/downloaded_artifacts/logs_2spdgqkm:v0\n"
     ]
    },
    {
     "name": "stderr",
     "output_type": "stream",
     "text": [
      "\u001b[34m\u001b[1mwandb\u001b[0m:   1 of 1 files downloaded.  \n"
     ]
    },
    {
     "name": "stdout",
     "output_type": "stream",
     "text": [
      "2025-04-20 13:06:36,769 - INFO - Downloaded logs_0f89if9c:v0 to /scratch/downloaded_artifacts/logs_0f89if9c:v0\n"
     ]
    },
    {
     "name": "stderr",
     "output_type": "stream",
     "text": [
      "\u001b[34m\u001b[1mwandb\u001b[0m:   1 of 1 files downloaded.  \n",
      "\u001b[34m\u001b[1mwandb\u001b[0m:   1 of 1 files downloaded.  \n"
     ]
    },
    {
     "name": "stdout",
     "output_type": "stream",
     "text": [
      "2025-04-20 13:06:36,771 - INFO - Downloaded logs_ycze2mqm:v0 to /scratch/downloaded_artifacts/logs_ycze2mqm:v0\n"
     ]
    },
    {
     "name": "stderr",
     "output_type": "stream",
     "text": [
      "\u001b[34m\u001b[1mwandb\u001b[0m:   1 of 1 files downloaded.  \n"
     ]
    },
    {
     "name": "stdout",
     "output_type": "stream",
     "text": [
      "2025-04-20 13:06:36,774 - INFO - Downloaded logs_pz6aw80i:v0 to /scratch/downloaded_artifacts/logs_pz6aw80i:v0\n"
     ]
    },
    {
     "name": "stderr",
     "output_type": "stream",
     "text": [
      "\u001b[34m\u001b[1mwandb\u001b[0m:   1 of 1 files downloaded.  \n",
      "\u001b[34m\u001b[1mwandb\u001b[0m:   1 of 1 files downloaded.  \n"
     ]
    },
    {
     "name": "stdout",
     "output_type": "stream",
     "text": [
      "2025-04-20 13:06:36,775 - INFO - Downloaded logs_wlf65j00:v0 to /scratch/downloaded_artifacts/logs_wlf65j00:v0\n"
     ]
    },
    {
     "name": "stderr",
     "output_type": "stream",
     "text": [
      "\u001b[34m\u001b[1mwandb\u001b[0m:   1 of 1 files downloaded.  \n",
      "\u001b[34m\u001b[1mwandb\u001b[0m:   1 of 1 files downloaded.  \n"
     ]
    },
    {
     "name": "stdout",
     "output_type": "stream",
     "text": [
      "2025-04-20 13:06:36,777 - INFO - Downloaded logs_0pzg3t5g:v0 to /scratch/downloaded_artifacts/logs_0pzg3t5g:v0\n",
      "2025-04-20 13:06:36,778 - INFO - Downloaded logs_e4fnabas:v0 to /scratch/downloaded_artifacts/logs_e4fnabas:v0\n",
      "2025-04-20 13:06:36,780 - INFO - Downloaded logs_mfmy0z1h:v0 to /scratch/downloaded_artifacts/logs_mfmy0z1h:v0\n",
      "2025-04-20 13:06:36,783 - INFO - Downloaded logs_b5bdx16v:v0 to /scratch/downloaded_artifacts/logs_b5bdx16v:v0\n",
      "2025-04-20 13:06:36,784 - INFO - Downloaded logs_shna0qnf:v0 to /scratch/downloaded_artifacts/logs_shna0qnf:v0\n"
     ]
    },
    {
     "name": "stderr",
     "output_type": "stream",
     "text": [
      "\u001b[34m\u001b[1mwandb\u001b[0m:   1 of 1 files downloaded.  \n"
     ]
    },
    {
     "name": "stdout",
     "output_type": "stream",
     "text": [
      "2025-04-20 13:06:37,285 - INFO - Downloaded logs_4hbbeb1k:v0 to /scratch/downloaded_artifacts/logs_4hbbeb1k:v0\n"
     ]
    },
    {
     "name": "stderr",
     "output_type": "stream",
     "text": [
      "\u001b[34m\u001b[1mwandb\u001b[0m:   1 of 1 files downloaded.  \n"
     ]
    },
    {
     "name": "stdout",
     "output_type": "stream",
     "text": [
      "2025-04-20 13:06:37,326 - INFO - Downloaded logs_6jz6u4ou:v0 to /scratch/downloaded_artifacts/logs_6jz6u4ou:v0\n"
     ]
    },
    {
     "name": "stderr",
     "output_type": "stream",
     "text": [
      "\u001b[34m\u001b[1mwandb\u001b[0m:   1 of 1 files downloaded.  \n"
     ]
    },
    {
     "name": "stdout",
     "output_type": "stream",
     "text": [
      "2025-04-20 13:06:37,346 - INFO - Downloaded logs_f757o46b:v0 to /scratch/downloaded_artifacts/logs_f757o46b:v0\n"
     ]
    },
    {
     "name": "stderr",
     "output_type": "stream",
     "text": [
      "\u001b[34m\u001b[1mwandb\u001b[0m:   1 of 1 files downloaded.  \n"
     ]
    },
    {
     "name": "stdout",
     "output_type": "stream",
     "text": [
      "2025-04-20 13:06:37,784 - INFO - Downloaded logs_lzi16ylk:v0 to /scratch/downloaded_artifacts/logs_lzi16ylk:v0\n"
     ]
    },
    {
     "name": "stderr",
     "output_type": "stream",
     "text": [
      "\u001b[34m\u001b[1mwandb\u001b[0m:   1 of 1 files downloaded.  \n"
     ]
    },
    {
     "name": "stdout",
     "output_type": "stream",
     "text": [
      "2025-04-20 13:06:38,124 - INFO - Downloaded logs_fwcagamg:v0 to /scratch/downloaded_artifacts/logs_fwcagamg:v0\n"
     ]
    },
    {
     "name": "stderr",
     "output_type": "stream",
     "text": [
      "\u001b[34m\u001b[1mwandb\u001b[0m:   1 of 1 files downloaded.  \n",
      "\u001b[34m\u001b[1mwandb\u001b[0m:   1 of 1 files downloaded.  \n"
     ]
    },
    {
     "name": "stdout",
     "output_type": "stream",
     "text": [
      "2025-04-20 13:06:38,126 - INFO - Downloaded logs_t3o4g7xe:v0 to /scratch/downloaded_artifacts/logs_t3o4g7xe:v0\n"
     ]
    },
    {
     "name": "stderr",
     "output_type": "stream",
     "text": [
      "\u001b[34m\u001b[1mwandb\u001b[0m:   1 of 1 files downloaded.  \n"
     ]
    },
    {
     "name": "stdout",
     "output_type": "stream",
     "text": [
      "2025-04-20 13:06:38,127 - INFO - Downloaded logs_0ub3jvjr:v0 to /scratch/downloaded_artifacts/logs_0ub3jvjr:v0\n"
     ]
    },
    {
     "name": "stderr",
     "output_type": "stream",
     "text": [
      "\u001b[34m\u001b[1mwandb\u001b[0m:   1 of 1 files downloaded.  \n"
     ]
    },
    {
     "name": "stdout",
     "output_type": "stream",
     "text": [
      "2025-04-20 13:06:38,129 - INFO - Downloaded logs_on94eup5:v0 to /scratch/downloaded_artifacts/logs_on94eup5:v0\n",
      "2025-04-20 13:06:38,130 - INFO - Downloaded logs_6sj9xygc:v0 to /scratch/downloaded_artifacts/logs_6sj9xygc:v0\n"
     ]
    },
    {
     "name": "stderr",
     "output_type": "stream",
     "text": [
      "\u001b[34m\u001b[1mwandb\u001b[0m:   1 of 1 files downloaded.  \n"
     ]
    },
    {
     "name": "stdout",
     "output_type": "stream",
     "text": [
      "2025-04-20 13:06:38,159 - INFO - Downloaded logs_wr2tfk50:v0 to /scratch/downloaded_artifacts/logs_wr2tfk50:v0\n"
     ]
    },
    {
     "name": "stderr",
     "output_type": "stream",
     "text": [
      "\u001b[34m\u001b[1mwandb\u001b[0m:   1 of 1 files downloaded.  \n"
     ]
    },
    {
     "name": "stdout",
     "output_type": "stream",
     "text": [
      "2025-04-20 13:06:38,173 - INFO - Downloaded logs_km305220:v0 to /scratch/downloaded_artifacts/logs_km305220:v0\n"
     ]
    },
    {
     "name": "stderr",
     "output_type": "stream",
     "text": [
      "\u001b[34m\u001b[1mwandb\u001b[0m:   1 of 1 files downloaded.  \n"
     ]
    },
    {
     "name": "stdout",
     "output_type": "stream",
     "text": [
      "2025-04-20 13:06:38,900 - INFO - Downloaded logs_g9jid7tm:v0 to /scratch/downloaded_artifacts/logs_g9jid7tm:v0\n"
     ]
    },
    {
     "name": "stderr",
     "output_type": "stream",
     "text": [
      "\u001b[34m\u001b[1mwandb\u001b[0m:   1 of 1 files downloaded.  \n",
      "\u001b[34m\u001b[1mwandb\u001b[0m:   1 of 1 files downloaded.  \n",
      "\u001b[34m\u001b[1mwandb\u001b[0m:   1 of 1 files downloaded.  \n"
     ]
    },
    {
     "name": "stdout",
     "output_type": "stream",
     "text": [
      "2025-04-20 13:06:38,903 - INFO - Downloaded logs_p9vr13wt:v0 to /scratch/downloaded_artifacts/logs_p9vr13wt:v0\n",
      "2025-04-20 13:06:38,904 - INFO - Downloaded logs_mpejt9bt:v0 to /scratch/downloaded_artifacts/logs_mpejt9bt:v0\n"
     ]
    },
    {
     "name": "stderr",
     "output_type": "stream",
     "text": [
      "\u001b[34m\u001b[1mwandb\u001b[0m:   1 of 1 files downloaded.  \n"
     ]
    },
    {
     "name": "stdout",
     "output_type": "stream",
     "text": [
      "2025-04-20 13:06:38,906 - INFO - Downloaded logs_nugodieb:v0 to /scratch/downloaded_artifacts/logs_nugodieb:v0\n",
      "2025-04-20 13:06:38,908 - INFO - Downloaded logs_4r76src0:v0 to /scratch/downloaded_artifacts/logs_4r76src0:v0\n"
     ]
    },
    {
     "name": "stderr",
     "output_type": "stream",
     "text": [
      "\u001b[34m\u001b[1mwandb\u001b[0m:   1 of 1 files downloaded.  \n"
     ]
    },
    {
     "name": "stdout",
     "output_type": "stream",
     "text": [
      "2025-04-20 13:06:38,983 - INFO - Downloaded logs_9a088e5o:v0 to /scratch/downloaded_artifacts/logs_9a088e5o:v0\n"
     ]
    },
    {
     "name": "stderr",
     "output_type": "stream",
     "text": [
      "\u001b[34m\u001b[1mwandb\u001b[0m:   1 of 1 files downloaded.  \n"
     ]
    },
    {
     "name": "stdout",
     "output_type": "stream",
     "text": [
      "2025-04-20 13:06:39,435 - INFO - Downloaded logs_b4q1qp35:v0 to /scratch/downloaded_artifacts/logs_b4q1qp35:v0\n"
     ]
    },
    {
     "name": "stderr",
     "output_type": "stream",
     "text": [
      "\u001b[34m\u001b[1mwandb\u001b[0m:   1 of 1 files downloaded.  \n",
      "\u001b[34m\u001b[1mwandb\u001b[0m:   1 of 1 files downloaded.  \n"
     ]
    },
    {
     "name": "stdout",
     "output_type": "stream",
     "text": [
      "2025-04-20 13:06:39,437 - INFO - Downloaded logs_4v0atju4:v0 to /scratch/downloaded_artifacts/logs_4v0atju4:v0\n",
      "2025-04-20 13:06:39,440 - INFO - Downloaded logs_hvdyqm53:v0 to /scratch/downloaded_artifacts/logs_hvdyqm53:v0\n"
     ]
    },
    {
     "name": "stderr",
     "output_type": "stream",
     "text": [
      "\u001b[34m\u001b[1mwandb\u001b[0m:   1 of 1 files downloaded.  \n"
     ]
    },
    {
     "name": "stdout",
     "output_type": "stream",
     "text": [
      "2025-04-20 13:06:40,320 - INFO - Downloaded logs_ys2iosq4:v0 to /scratch/downloaded_artifacts/logs_ys2iosq4:v0\n"
     ]
    },
    {
     "name": "stderr",
     "output_type": "stream",
     "text": [
      "\u001b[34m\u001b[1mwandb\u001b[0m:   1 of 1 files downloaded.  \n"
     ]
    },
    {
     "name": "stdout",
     "output_type": "stream",
     "text": [
      "2025-04-20 13:06:41,388 - INFO - Downloaded logs_p5pithvg:v0 to /scratch/downloaded_artifacts/logs_p5pithvg:v0\n"
     ]
    },
    {
     "name": "stderr",
     "output_type": "stream",
     "text": [
      "\u001b[34m\u001b[1mwandb\u001b[0m:   1 of 1 files downloaded.  \n"
     ]
    },
    {
     "name": "stdout",
     "output_type": "stream",
     "text": [
      "2025-04-20 13:06:41,780 - INFO - Downloaded logs_rvoh9ymm:v0 to /scratch/downloaded_artifacts/logs_rvoh9ymm:v0\n"
     ]
    },
    {
     "name": "stderr",
     "output_type": "stream",
     "text": [
      "\u001b[34m\u001b[1mwandb\u001b[0m:   1 of 1 files downloaded.  \n"
     ]
    },
    {
     "name": "stdout",
     "output_type": "stream",
     "text": [
      "2025-04-20 13:06:41,868 - INFO - Downloaded logs_ngyxdrpf:v0 to /scratch/downloaded_artifacts/logs_ngyxdrpf:v0\n"
     ]
    },
    {
     "name": "stderr",
     "output_type": "stream",
     "text": [
      "\u001b[34m\u001b[1mwandb\u001b[0m:   1 of 1 files downloaded.  \n"
     ]
    },
    {
     "name": "stdout",
     "output_type": "stream",
     "text": [
      "2025-04-20 13:06:41,956 - INFO - Downloaded logs_uiblutx3:v0 to /scratch/downloaded_artifacts/logs_uiblutx3:v0\n"
     ]
    },
    {
     "name": "stderr",
     "output_type": "stream",
     "text": [
      "\u001b[34m\u001b[1mwandb\u001b[0m:   1 of 1 files downloaded.  \n"
     ]
    },
    {
     "name": "stdout",
     "output_type": "stream",
     "text": [
      "2025-04-20 13:06:44,338 - INFO - Downloaded logs_k1w2u473:v0 to /scratch/downloaded_artifacts/logs_k1w2u473:v0\n"
     ]
    },
    {
     "name": "stderr",
     "output_type": "stream",
     "text": [
      "\u001b[34m\u001b[1mwandb\u001b[0m:   1 of 1 files downloaded.  \n"
     ]
    },
    {
     "name": "stdout",
     "output_type": "stream",
     "text": [
      "2025-04-20 13:06:44,348 - INFO - Downloaded logs_x5z93c21:v0 to /scratch/downloaded_artifacts/logs_x5z93c21:v0\n"
     ]
    },
    {
     "name": "stderr",
     "output_type": "stream",
     "text": [
      "\u001b[34m\u001b[1mwandb\u001b[0m:   1 of 1 files downloaded.  \n"
     ]
    },
    {
     "name": "stdout",
     "output_type": "stream",
     "text": [
      "2025-04-20 13:06:44,391 - INFO - Downloaded logs_x6ergmsx:v0 to /scratch/downloaded_artifacts/logs_x6ergmsx:v0\n"
     ]
    },
    {
     "name": "stderr",
     "output_type": "stream",
     "text": [
      "\u001b[34m\u001b[1mwandb\u001b[0m:   1 of 1 files downloaded.  \n"
     ]
    },
    {
     "name": "stdout",
     "output_type": "stream",
     "text": [
      "2025-04-20 13:06:46,360 - INFO - Downloaded logs_4icuvn0h:v0 to /scratch/downloaded_artifacts/logs_4icuvn0h:v0\n"
     ]
    },
    {
     "name": "stderr",
     "output_type": "stream",
     "text": [
      "\u001b[34m\u001b[1mwandb\u001b[0m:   1 of 1 files downloaded.  \n"
     ]
    },
    {
     "name": "stdout",
     "output_type": "stream",
     "text": [
      "2025-04-20 13:06:46,366 - INFO - Downloaded logs_2f7c9brk:v0 to /scratch/downloaded_artifacts/logs_2f7c9brk:v0\n"
     ]
    },
    {
     "name": "stderr",
     "output_type": "stream",
     "text": [
      "\u001b[34m\u001b[1mwandb\u001b[0m:   1 of 1 files downloaded.  \n"
     ]
    },
    {
     "name": "stdout",
     "output_type": "stream",
     "text": [
      "2025-04-20 13:06:47,464 - INFO - Downloaded logs_b9x84oys:v0 to /scratch/downloaded_artifacts/logs_b9x84oys:v0\n"
     ]
    },
    {
     "name": "stderr",
     "output_type": "stream",
     "text": [
      "\u001b[34m\u001b[1mwandb\u001b[0m:   1 of 1 files downloaded.  \n"
     ]
    },
    {
     "name": "stdout",
     "output_type": "stream",
     "text": [
      "2025-04-20 13:06:47,571 - INFO - Downloaded logs_s59i1gri:v0 to /scratch/downloaded_artifacts/logs_s59i1gri:v0\n"
     ]
    },
    {
     "name": "stderr",
     "output_type": "stream",
     "text": [
      "\u001b[34m\u001b[1mwandb\u001b[0m:   1 of 1 files downloaded.  \n"
     ]
    },
    {
     "name": "stdout",
     "output_type": "stream",
     "text": [
      "2025-04-20 13:06:47,619 - INFO - Downloaded logs_sd7y3guf:v0 to /scratch/downloaded_artifacts/logs_sd7y3guf:v0\n"
     ]
    },
    {
     "name": "stderr",
     "output_type": "stream",
     "text": [
      "\u001b[34m\u001b[1mwandb\u001b[0m:   1 of 1 files downloaded.  \n"
     ]
    },
    {
     "name": "stdout",
     "output_type": "stream",
     "text": [
      "2025-04-20 13:06:47,621 - INFO - Downloaded logs_o6ngvfvz:v0 to /scratch/downloaded_artifacts/logs_o6ngvfvz:v0\n"
     ]
    },
    {
     "name": "stderr",
     "output_type": "stream",
     "text": [
      "\u001b[34m\u001b[1mwandb\u001b[0m:   1 of 1 files downloaded.  \n"
     ]
    },
    {
     "name": "stdout",
     "output_type": "stream",
     "text": [
      "2025-04-20 13:06:47,659 - INFO - Downloaded logs_umeqvtoh:v0 to /scratch/downloaded_artifacts/logs_umeqvtoh:v0\n"
     ]
    },
    {
     "name": "stderr",
     "output_type": "stream",
     "text": [
      "\u001b[34m\u001b[1mwandb\u001b[0m:   1 of 1 files downloaded.  \n"
     ]
    },
    {
     "name": "stdout",
     "output_type": "stream",
     "text": [
      "2025-04-20 13:06:47,692 - INFO - Downloaded logs_uugl5zv3:v0 to /scratch/downloaded_artifacts/logs_uugl5zv3:v0\n"
     ]
    },
    {
     "name": "stderr",
     "output_type": "stream",
     "text": [
      "\u001b[34m\u001b[1mwandb\u001b[0m:   1 of 1 files downloaded.  \n"
     ]
    },
    {
     "name": "stdout",
     "output_type": "stream",
     "text": [
      "2025-04-20 13:06:47,696 - INFO - Downloaded logs_3peu1ow9:v0 to /scratch/downloaded_artifacts/logs_3peu1ow9:v0\n"
     ]
    },
    {
     "name": "stderr",
     "output_type": "stream",
     "text": [
      "\u001b[34m\u001b[1mwandb\u001b[0m:   1 of 1 files downloaded.  \n"
     ]
    },
    {
     "name": "stdout",
     "output_type": "stream",
     "text": [
      "2025-04-20 13:06:47,707 - INFO - Downloaded logs_adimwjvx:v0 to /scratch/downloaded_artifacts/logs_adimwjvx:v0\n"
     ]
    },
    {
     "name": "stderr",
     "output_type": "stream",
     "text": [
      "\u001b[34m\u001b[1mwandb\u001b[0m:   1 of 1 files downloaded.  \n"
     ]
    },
    {
     "name": "stdout",
     "output_type": "stream",
     "text": [
      "2025-04-20 13:06:47,997 - INFO - Downloaded logs_bbwsi2f6:v0 to /scratch/downloaded_artifacts/logs_bbwsi2f6:v0\n"
     ]
    },
    {
     "name": "stderr",
     "output_type": "stream",
     "text": [
      "\u001b[34m\u001b[1mwandb\u001b[0m:   1 of 1 files downloaded.  \n"
     ]
    },
    {
     "name": "stdout",
     "output_type": "stream",
     "text": [
      "2025-04-20 13:06:48,060 - INFO - Downloaded logs_e5t53r2s:v0 to /scratch/downloaded_artifacts/logs_e5t53r2s:v0\n"
     ]
    },
    {
     "name": "stderr",
     "output_type": "stream",
     "text": [
      "\u001b[34m\u001b[1mwandb\u001b[0m:   1 of 1 files downloaded.  \n"
     ]
    },
    {
     "name": "stdout",
     "output_type": "stream",
     "text": [
      "2025-04-20 13:06:48,532 - INFO - Downloaded logs_h2qk43d3:v0 to /scratch/downloaded_artifacts/logs_h2qk43d3:v0\n"
     ]
    },
    {
     "name": "stderr",
     "output_type": "stream",
     "text": [
      "\u001b[34m\u001b[1mwandb\u001b[0m:   1 of 1 files downloaded.  \n"
     ]
    },
    {
     "name": "stdout",
     "output_type": "stream",
     "text": [
      "2025-04-20 13:06:48,600 - INFO - Downloaded logs_hyg17jyw:v0 to /scratch/downloaded_artifacts/logs_hyg17jyw:v0\n"
     ]
    },
    {
     "name": "stderr",
     "output_type": "stream",
     "text": [
      "\u001b[34m\u001b[1mwandb\u001b[0m:   1 of 1 files downloaded.  \n"
     ]
    },
    {
     "name": "stdout",
     "output_type": "stream",
     "text": [
      "2025-04-20 13:06:48,650 - INFO - Downloaded logs_pg7g4fkx:v0 to /scratch/downloaded_artifacts/logs_pg7g4fkx:v0\n"
     ]
    },
    {
     "name": "stderr",
     "output_type": "stream",
     "text": [
      "\u001b[34m\u001b[1mwandb\u001b[0m:   1 of 1 files downloaded.  \n"
     ]
    },
    {
     "name": "stdout",
     "output_type": "stream",
     "text": [
      "2025-04-20 13:06:48,653 - INFO - Downloaded logs_i4rml2yc:v0 to /scratch/downloaded_artifacts/logs_i4rml2yc:v0\n"
     ]
    },
    {
     "name": "stderr",
     "output_type": "stream",
     "text": [
      "\u001b[34m\u001b[1mwandb\u001b[0m:   1 of 1 files downloaded.  \n"
     ]
    },
    {
     "name": "stdout",
     "output_type": "stream",
     "text": [
      "2025-04-20 13:06:48,695 - INFO - Downloaded logs_0rizw8yh:v0 to /scratch/downloaded_artifacts/logs_0rizw8yh:v0\n"
     ]
    },
    {
     "name": "stderr",
     "output_type": "stream",
     "text": [
      "\u001b[34m\u001b[1mwandb\u001b[0m:   1 of 1 files downloaded.  \n"
     ]
    },
    {
     "name": "stdout",
     "output_type": "stream",
     "text": [
      "2025-04-20 13:06:48,873 - INFO - Downloaded logs_721mbha6:v0 to /scratch/downloaded_artifacts/logs_721mbha6:v0\n"
     ]
    },
    {
     "name": "stderr",
     "output_type": "stream",
     "text": [
      "\u001b[34m\u001b[1mwandb\u001b[0m:   1 of 1 files downloaded.  \n"
     ]
    },
    {
     "name": "stdout",
     "output_type": "stream",
     "text": [
      "2025-04-20 13:06:48,902 - INFO - Downloaded logs_3bfl1u7d:v0 to /scratch/downloaded_artifacts/logs_3bfl1u7d:v0\n"
     ]
    },
    {
     "name": "stderr",
     "output_type": "stream",
     "text": [
      "\u001b[34m\u001b[1mwandb\u001b[0m:   1 of 1 files downloaded.  \n"
     ]
    },
    {
     "name": "stdout",
     "output_type": "stream",
     "text": [
      "2025-04-20 13:06:48,950 - INFO - Downloaded logs_5tyze1sa:v0 to /scratch/downloaded_artifacts/logs_5tyze1sa:v0\n"
     ]
    },
    {
     "name": "stderr",
     "output_type": "stream",
     "text": [
      "\u001b[34m\u001b[1mwandb\u001b[0m:   1 of 1 files downloaded.  \n"
     ]
    },
    {
     "name": "stdout",
     "output_type": "stream",
     "text": [
      "2025-04-20 13:06:50,225 - INFO - Downloaded logs_ehu3h7aw:v0 to /scratch/downloaded_artifacts/logs_ehu3h7aw:v0\n"
     ]
    },
    {
     "name": "stderr",
     "output_type": "stream",
     "text": [
      "\u001b[34m\u001b[1mwandb\u001b[0m:   1 of 1 files downloaded.  \n"
     ]
    },
    {
     "name": "stdout",
     "output_type": "stream",
     "text": [
      "2025-04-20 13:06:50,229 - INFO - Downloaded logs_i61tgmz1:v0 to /scratch/downloaded_artifacts/logs_i61tgmz1:v0\n"
     ]
    },
    {
     "name": "stderr",
     "output_type": "stream",
     "text": [
      "\u001b[34m\u001b[1mwandb\u001b[0m:   1 of 1 files downloaded.  \n"
     ]
    },
    {
     "name": "stdout",
     "output_type": "stream",
     "text": [
      "2025-04-20 13:06:51,465 - INFO - Downloaded logs_1xi1rubc:v0 to /scratch/downloaded_artifacts/logs_1xi1rubc:v0\n"
     ]
    },
    {
     "name": "stderr",
     "output_type": "stream",
     "text": [
      "\u001b[34m\u001b[1mwandb\u001b[0m:   1 of 1 files downloaded.  \n"
     ]
    },
    {
     "name": "stdout",
     "output_type": "stream",
     "text": [
      "2025-04-20 13:06:51,732 - INFO - Downloaded logs_c3jk8511:v0 to /scratch/downloaded_artifacts/logs_c3jk8511:v0\n"
     ]
    },
    {
     "name": "stderr",
     "output_type": "stream",
     "text": [
      "\u001b[34m\u001b[1mwandb\u001b[0m:   1 of 1 files downloaded.  \n"
     ]
    },
    {
     "name": "stdout",
     "output_type": "stream",
     "text": [
      "2025-04-20 13:06:51,832 - INFO - Downloaded logs_mgubwnhp:v0 to /scratch/downloaded_artifacts/logs_mgubwnhp:v0\n"
     ]
    },
    {
     "name": "stderr",
     "output_type": "stream",
     "text": [
      "\u001b[34m\u001b[1mwandb\u001b[0m:   1 of 1 files downloaded.  \n",
      "\u001b[34m\u001b[1mwandb\u001b[0m:   1 of 1 files downloaded.  \n",
      "\u001b[34m\u001b[1mwandb\u001b[0m:   1 of 1 files downloaded.  \n"
     ]
    },
    {
     "name": "stdout",
     "output_type": "stream",
     "text": [
      "2025-04-20 13:06:52,170 - INFO - Downloaded logs_s6p971bv:v0 to /scratch/downloaded_artifacts/logs_s6p971bv:v0\n"
     ]
    },
    {
     "name": "stderr",
     "output_type": "stream",
     "text": [
      "\u001b[34m\u001b[1mwandb\u001b[0m:   1 of 1 files downloaded.  \n"
     ]
    },
    {
     "name": "stdout",
     "output_type": "stream",
     "text": [
      "2025-04-20 13:06:52,171 - INFO - Downloaded logs_hidr9lhl:v0 to /scratch/downloaded_artifacts/logs_hidr9lhl:v0\n",
      "2025-04-20 13:06:52,172 - INFO - Downloaded logs_txrgwjvs:v0 to /scratch/downloaded_artifacts/logs_txrgwjvs:v0\n",
      "2025-04-20 13:06:52,172 - INFO - Downloaded logs_29yzoseq:v0 to /scratch/downloaded_artifacts/logs_29yzoseq:v0\n"
     ]
    },
    {
     "name": "stderr",
     "output_type": "stream",
     "text": [
      "\u001b[34m\u001b[1mwandb\u001b[0m:   1 of 1 files downloaded.  \n"
     ]
    },
    {
     "name": "stdout",
     "output_type": "stream",
     "text": [
      "2025-04-20 13:06:52,479 - INFO - Downloaded logs_77nwp9oq:v0 to /scratch/downloaded_artifacts/logs_77nwp9oq:v0\n"
     ]
    },
    {
     "name": "stderr",
     "output_type": "stream",
     "text": [
      "\u001b[34m\u001b[1mwandb\u001b[0m:   1 of 1 files downloaded.  \n"
     ]
    },
    {
     "name": "stdout",
     "output_type": "stream",
     "text": [
      "2025-04-20 13:06:52,486 - INFO - Downloaded logs_005xng91:v0 to /scratch/downloaded_artifacts/logs_005xng91:v0\n"
     ]
    },
    {
     "name": "stderr",
     "output_type": "stream",
     "text": [
      "\u001b[34m\u001b[1mwandb\u001b[0m:   1 of 1 files downloaded.  \n"
     ]
    },
    {
     "name": "stdout",
     "output_type": "stream",
     "text": [
      "2025-04-20 13:06:52,663 - INFO - Downloaded logs_bj8ppqo4:v0 to /scratch/downloaded_artifacts/logs_bj8ppqo4:v0\n"
     ]
    },
    {
     "name": "stderr",
     "output_type": "stream",
     "text": [
      "\u001b[34m\u001b[1mwandb\u001b[0m:   1 of 1 files downloaded.  \n"
     ]
    },
    {
     "name": "stdout",
     "output_type": "stream",
     "text": [
      "2025-04-20 13:06:53,149 - INFO - Downloaded logs_h3zt6mnv:v0 to /scratch/downloaded_artifacts/logs_h3zt6mnv:v0\n"
     ]
    },
    {
     "name": "stderr",
     "output_type": "stream",
     "text": [
      "\u001b[34m\u001b[1mwandb\u001b[0m:   1 of 1 files downloaded.  \n"
     ]
    },
    {
     "name": "stdout",
     "output_type": "stream",
     "text": [
      "2025-04-20 13:06:53,169 - INFO - Downloaded logs_n4skqpj7:v0 to /scratch/downloaded_artifacts/logs_n4skqpj7:v0\n"
     ]
    },
    {
     "name": "stderr",
     "output_type": "stream",
     "text": [
      "\u001b[34m\u001b[1mwandb\u001b[0m:   1 of 1 files downloaded.  \n"
     ]
    },
    {
     "name": "stdout",
     "output_type": "stream",
     "text": [
      "2025-04-20 13:06:53,196 - INFO - Downloaded logs_h6kq73bm:v0 to /scratch/downloaded_artifacts/logs_h6kq73bm:v0\n"
     ]
    },
    {
     "name": "stderr",
     "output_type": "stream",
     "text": [
      "\u001b[34m\u001b[1mwandb\u001b[0m:   1 of 1 files downloaded.  \n"
     ]
    },
    {
     "name": "stdout",
     "output_type": "stream",
     "text": [
      "2025-04-20 13:06:53,327 - INFO - Downloaded logs_l4cl6i4o:v0 to /scratch/downloaded_artifacts/logs_l4cl6i4o:v0\n"
     ]
    },
    {
     "name": "stderr",
     "output_type": "stream",
     "text": [
      "\u001b[34m\u001b[1mwandb\u001b[0m:   1 of 1 files downloaded.  \n"
     ]
    },
    {
     "name": "stdout",
     "output_type": "stream",
     "text": [
      "2025-04-20 13:06:53,374 - INFO - Downloaded logs_q1d6g1yf:v0 to /scratch/downloaded_artifacts/logs_q1d6g1yf:v0\n"
     ]
    },
    {
     "name": "stderr",
     "output_type": "stream",
     "text": [
      "\u001b[34m\u001b[1mwandb\u001b[0m:   1 of 1 files downloaded.  \n"
     ]
    },
    {
     "name": "stdout",
     "output_type": "stream",
     "text": [
      "2025-04-20 13:06:53,380 - INFO - Downloaded logs_nmdmr6d9:v0 to /scratch/downloaded_artifacts/logs_nmdmr6d9:v0\n"
     ]
    },
    {
     "name": "stderr",
     "output_type": "stream",
     "text": [
      "\u001b[34m\u001b[1mwandb\u001b[0m:   1 of 1 files downloaded.  \n"
     ]
    },
    {
     "name": "stdout",
     "output_type": "stream",
     "text": [
      "2025-04-20 13:06:53,400 - INFO - Downloaded logs_ra2kfn47:v0 to /scratch/downloaded_artifacts/logs_ra2kfn47:v0\n"
     ]
    },
    {
     "name": "stderr",
     "output_type": "stream",
     "text": [
      "\u001b[34m\u001b[1mwandb\u001b[0m:   1 of 1 files downloaded.  \n"
     ]
    },
    {
     "name": "stdout",
     "output_type": "stream",
     "text": [
      "2025-04-20 13:06:53,735 - INFO - Downloaded logs_rhiag96z:v0 to /scratch/downloaded_artifacts/logs_rhiag96z:v0\n"
     ]
    },
    {
     "name": "stderr",
     "output_type": "stream",
     "text": [
      "\u001b[34m\u001b[1mwandb\u001b[0m:   1 of 1 files downloaded.  \n"
     ]
    },
    {
     "name": "stdout",
     "output_type": "stream",
     "text": [
      "2025-04-20 13:06:54,493 - INFO - Downloaded logs_4ne8wgw3:v0 to /scratch/downloaded_artifacts/logs_4ne8wgw3:v0\n"
     ]
    },
    {
     "name": "stderr",
     "output_type": "stream",
     "text": [
      "\u001b[34m\u001b[1mwandb\u001b[0m:   1 of 1 files downloaded.  \n"
     ]
    },
    {
     "name": "stdout",
     "output_type": "stream",
     "text": [
      "2025-04-20 13:06:54,674 - INFO - Downloaded logs_bipatpzp:v0 to /scratch/downloaded_artifacts/logs_bipatpzp:v0\n"
     ]
    },
    {
     "name": "stderr",
     "output_type": "stream",
     "text": [
      "\u001b[34m\u001b[1mwandb\u001b[0m:   1 of 1 files downloaded.  \n"
     ]
    },
    {
     "name": "stdout",
     "output_type": "stream",
     "text": [
      "2025-04-20 13:06:55,639 - INFO - Downloaded logs_dlw17z01:v0 to /scratch/downloaded_artifacts/logs_dlw17z01:v0\n"
     ]
    },
    {
     "name": "stderr",
     "output_type": "stream",
     "text": [
      "\u001b[34m\u001b[1mwandb\u001b[0m:   1 of 1 files downloaded.  \n"
     ]
    },
    {
     "name": "stdout",
     "output_type": "stream",
     "text": [
      "2025-04-20 13:06:55,788 - INFO - Downloaded logs_5n8e01h5:v0 to /scratch/downloaded_artifacts/logs_5n8e01h5:v0\n"
     ]
    },
    {
     "name": "stderr",
     "output_type": "stream",
     "text": [
      "\u001b[34m\u001b[1mwandb\u001b[0m:   1 of 1 files downloaded.  \n"
     ]
    },
    {
     "name": "stdout",
     "output_type": "stream",
     "text": [
      "2025-04-20 13:06:55,853 - INFO - Downloaded logs_ygdcvfu0:v0 to /scratch/downloaded_artifacts/logs_ygdcvfu0:v0\n"
     ]
    },
    {
     "name": "stderr",
     "output_type": "stream",
     "text": [
      "\u001b[34m\u001b[1mwandb\u001b[0m:   1 of 1 files downloaded.  \n"
     ]
    },
    {
     "name": "stdout",
     "output_type": "stream",
     "text": [
      "2025-04-20 13:06:56,248 - INFO - Downloaded logs_5o48snaq:v0 to /scratch/downloaded_artifacts/logs_5o48snaq:v0\n"
     ]
    },
    {
     "name": "stderr",
     "output_type": "stream",
     "text": [
      "\u001b[34m\u001b[1mwandb\u001b[0m:   1 of 1 files downloaded.  \n"
     ]
    },
    {
     "name": "stdout",
     "output_type": "stream",
     "text": [
      "2025-04-20 13:06:56,259 - INFO - Downloaded logs_5qiyosq0:v0 to /scratch/downloaded_artifacts/logs_5qiyosq0:v0\n"
     ]
    },
    {
     "name": "stderr",
     "output_type": "stream",
     "text": [
      "\u001b[34m\u001b[1mwandb\u001b[0m:   1 of 1 files downloaded.  \n"
     ]
    },
    {
     "name": "stdout",
     "output_type": "stream",
     "text": [
      "2025-04-20 13:06:56,360 - INFO - Downloaded logs_7t397kg5:v0 to /scratch/downloaded_artifacts/logs_7t397kg5:v0\n"
     ]
    },
    {
     "name": "stderr",
     "output_type": "stream",
     "text": [
      "\u001b[34m\u001b[1mwandb\u001b[0m:   1 of 1 files downloaded.  \n"
     ]
    },
    {
     "name": "stdout",
     "output_type": "stream",
     "text": [
      "2025-04-20 13:06:56,363 - INFO - Downloaded logs_889ikpbe:v0 to /scratch/downloaded_artifacts/logs_889ikpbe:v0\n"
     ]
    },
    {
     "name": "stderr",
     "output_type": "stream",
     "text": [
      "\u001b[34m\u001b[1mwandb\u001b[0m:   1 of 1 files downloaded.  \n"
     ]
    },
    {
     "name": "stdout",
     "output_type": "stream",
     "text": [
      "2025-04-20 13:06:56,669 - INFO - Downloaded logs_906enwzx:v0 to /scratch/downloaded_artifacts/logs_906enwzx:v0\n"
     ]
    },
    {
     "name": "stderr",
     "output_type": "stream",
     "text": [
      "\u001b[34m\u001b[1mwandb\u001b[0m:   1 of 1 files downloaded.  \n"
     ]
    },
    {
     "name": "stdout",
     "output_type": "stream",
     "text": [
      "2025-04-20 13:06:56,960 - INFO - Downloaded logs_9uqeih1u:v0 to /scratch/downloaded_artifacts/logs_9uqeih1u:v0\n"
     ]
    },
    {
     "name": "stderr",
     "output_type": "stream",
     "text": [
      "\u001b[34m\u001b[1mwandb\u001b[0m:   1 of 1 files downloaded.  \n"
     ]
    },
    {
     "name": "stdout",
     "output_type": "stream",
     "text": [
      "2025-04-20 13:06:57,020 - INFO - Downloaded logs_8ibuuibo:v0 to /scratch/downloaded_artifacts/logs_8ibuuibo:v0\n"
     ]
    },
    {
     "name": "stderr",
     "output_type": "stream",
     "text": [
      "\u001b[34m\u001b[1mwandb\u001b[0m:   1 of 1 files downloaded.  \n"
     ]
    },
    {
     "name": "stdout",
     "output_type": "stream",
     "text": [
      "2025-04-20 13:06:57,447 - INFO - Downloaded logs_kl95f70i:v0 to /scratch/downloaded_artifacts/logs_kl95f70i:v0\n"
     ]
    },
    {
     "name": "stderr",
     "output_type": "stream",
     "text": [
      "\u001b[34m\u001b[1mwandb\u001b[0m:   1 of 1 files downloaded.  \n"
     ]
    },
    {
     "name": "stdout",
     "output_type": "stream",
     "text": [
      "2025-04-20 13:06:57,598 - INFO - Downloaded logs_kx2knaht:v0 to /scratch/downloaded_artifacts/logs_kx2knaht:v0\n"
     ]
    },
    {
     "name": "stderr",
     "output_type": "stream",
     "text": [
      "\u001b[34m\u001b[1mwandb\u001b[0m:   1 of 1 files downloaded.  \n"
     ]
    },
    {
     "name": "stdout",
     "output_type": "stream",
     "text": [
      "2025-04-20 13:06:57,734 - INFO - Downloaded logs_kut4e8d0:v0 to /scratch/downloaded_artifacts/logs_kut4e8d0:v0\n"
     ]
    },
    {
     "name": "stderr",
     "output_type": "stream",
     "text": [
      "\u001b[34m\u001b[1mwandb\u001b[0m:   1 of 1 files downloaded.  \n"
     ]
    },
    {
     "name": "stdout",
     "output_type": "stream",
     "text": [
      "2025-04-20 13:06:57,763 - INFO - Downloaded logs_lc7kb0w1:v0 to /scratch/downloaded_artifacts/logs_lc7kb0w1:v0\n"
     ]
    },
    {
     "name": "stderr",
     "output_type": "stream",
     "text": [
      "\u001b[34m\u001b[1mwandb\u001b[0m:   1 of 1 files downloaded.  \n"
     ]
    },
    {
     "name": "stdout",
     "output_type": "stream",
     "text": [
      "2025-04-20 13:06:57,822 - INFO - Downloaded logs_0v9wf3sf:v0 to /scratch/downloaded_artifacts/logs_0v9wf3sf:v0\n"
     ]
    },
    {
     "name": "stderr",
     "output_type": "stream",
     "text": [
      "\u001b[34m\u001b[1mwandb\u001b[0m:   1 of 1 files downloaded.  \n"
     ]
    },
    {
     "name": "stdout",
     "output_type": "stream",
     "text": [
      "2025-04-20 13:06:57,836 - INFO - Downloaded logs_ou9p54qi:v0 to /scratch/downloaded_artifacts/logs_ou9p54qi:v0\n"
     ]
    },
    {
     "name": "stderr",
     "output_type": "stream",
     "text": [
      "\u001b[34m\u001b[1mwandb\u001b[0m:   1 of 1 files downloaded.  \n"
     ]
    },
    {
     "name": "stdout",
     "output_type": "stream",
     "text": [
      "2025-04-20 13:06:57,838 - INFO - Downloaded logs_s4wuip7a:v0 to /scratch/downloaded_artifacts/logs_s4wuip7a:v0\n"
     ]
    },
    {
     "name": "stderr",
     "output_type": "stream",
     "text": [
      "\u001b[34m\u001b[1mwandb\u001b[0m:   1 of 1 files downloaded.  \n"
     ]
    },
    {
     "name": "stdout",
     "output_type": "stream",
     "text": [
      "2025-04-20 13:06:58,190 - INFO - Downloaded logs_gfmz5dss:v0 to /scratch/downloaded_artifacts/logs_gfmz5dss:v0\n"
     ]
    },
    {
     "name": "stderr",
     "output_type": "stream",
     "text": [
      "\u001b[34m\u001b[1mwandb\u001b[0m:   1 of 1 files downloaded.  \n"
     ]
    },
    {
     "name": "stdout",
     "output_type": "stream",
     "text": [
      "2025-04-20 13:06:58,710 - INFO - Downloaded logs_v7gsoksn:v0 to /scratch/downloaded_artifacts/logs_v7gsoksn:v0\n"
     ]
    },
    {
     "name": "stderr",
     "output_type": "stream",
     "text": [
      "\u001b[34m\u001b[1mwandb\u001b[0m:   1 of 1 files downloaded.  \n"
     ]
    },
    {
     "name": "stdout",
     "output_type": "stream",
     "text": [
      "2025-04-20 13:06:58,884 - INFO - Downloaded logs_y38rn4qj:v0 to /scratch/downloaded_artifacts/logs_y38rn4qj:v0\n"
     ]
    },
    {
     "name": "stderr",
     "output_type": "stream",
     "text": [
      "\u001b[34m\u001b[1mwandb\u001b[0m:   1 of 1 files downloaded.  \n"
     ]
    },
    {
     "name": "stdout",
     "output_type": "stream",
     "text": [
      "2025-04-20 13:06:59,478 - INFO - Downloaded logs_zi7qewvs:v0 to /scratch/downloaded_artifacts/logs_zi7qewvs:v0\n"
     ]
    },
    {
     "name": "stderr",
     "output_type": "stream",
     "text": [
      "\u001b[34m\u001b[1mwandb\u001b[0m:   1 of 1 files downloaded.  \n"
     ]
    },
    {
     "name": "stdout",
     "output_type": "stream",
     "text": [
      "2025-04-20 13:06:59,626 - INFO - Downloaded logs_gflowyd4:v0 to /scratch/downloaded_artifacts/logs_gflowyd4:v0\n"
     ]
    },
    {
     "name": "stderr",
     "output_type": "stream",
     "text": [
      "\u001b[34m\u001b[1mwandb\u001b[0m:   1 of 1 files downloaded.  \n"
     ]
    },
    {
     "name": "stdout",
     "output_type": "stream",
     "text": [
      "2025-04-20 13:06:59,836 - INFO - Downloaded logs_4qq2r2h9:v0 to /scratch/downloaded_artifacts/logs_4qq2r2h9:v0\n"
     ]
    },
    {
     "name": "stderr",
     "output_type": "stream",
     "text": [
      "\u001b[34m\u001b[1mwandb\u001b[0m:   1 of 1 files downloaded.  \n"
     ]
    },
    {
     "name": "stdout",
     "output_type": "stream",
     "text": [
      "2025-04-20 13:06:59,855 - INFO - Downloaded logs_r7zy7xma:v0 to /scratch/downloaded_artifacts/logs_r7zy7xma:v0\n"
     ]
    },
    {
     "name": "stderr",
     "output_type": "stream",
     "text": [
      "\u001b[34m\u001b[1mwandb\u001b[0m:   1 of 1 files downloaded.  \n"
     ]
    },
    {
     "name": "stdout",
     "output_type": "stream",
     "text": [
      "2025-04-20 13:06:59,884 - INFO - Downloaded logs_67gjh3iw:v0 to /scratch/downloaded_artifacts/logs_67gjh3iw:v0\n"
     ]
    },
    {
     "name": "stderr",
     "output_type": "stream",
     "text": [
      "\u001b[34m\u001b[1mwandb\u001b[0m:   1 of 1 files downloaded.  \n"
     ]
    },
    {
     "name": "stdout",
     "output_type": "stream",
     "text": [
      "2025-04-20 13:06:59,908 - INFO - Downloaded logs_8rw2ikon:v0 to /scratch/downloaded_artifacts/logs_8rw2ikon:v0\n"
     ]
    },
    {
     "name": "stderr",
     "output_type": "stream",
     "text": [
      "\u001b[34m\u001b[1mwandb\u001b[0m:   1 of 1 files downloaded.  \n"
     ]
    },
    {
     "name": "stdout",
     "output_type": "stream",
     "text": [
      "2025-04-20 13:07:00,045 - INFO - Downloaded logs_75a2th19:v0 to /scratch/downloaded_artifacts/logs_75a2th19:v0\n"
     ]
    },
    {
     "name": "stderr",
     "output_type": "stream",
     "text": [
      "\u001b[34m\u001b[1mwandb\u001b[0m:   1 of 1 files downloaded.  \n"
     ]
    },
    {
     "name": "stdout",
     "output_type": "stream",
     "text": [
      "2025-04-20 13:07:00,215 - INFO - Downloaded logs_93v3bj9q:v0 to /scratch/downloaded_artifacts/logs_93v3bj9q:v0\n"
     ]
    },
    {
     "name": "stderr",
     "output_type": "stream",
     "text": [
      "\u001b[34m\u001b[1mwandb\u001b[0m:   1 of 1 files downloaded.  \n"
     ]
    },
    {
     "name": "stdout",
     "output_type": "stream",
     "text": [
      "2025-04-20 13:07:00,374 - INFO - Downloaded logs_fa9nqvzx:v0 to /scratch/downloaded_artifacts/logs_fa9nqvzx:v0\n"
     ]
    },
    {
     "name": "stderr",
     "output_type": "stream",
     "text": [
      "\u001b[34m\u001b[1mwandb\u001b[0m:   1 of 1 files downloaded.  \n"
     ]
    },
    {
     "name": "stdout",
     "output_type": "stream",
     "text": [
      "2025-04-20 13:07:00,423 - INFO - Downloaded logs_akpjt8z5:v0 to /scratch/downloaded_artifacts/logs_akpjt8z5:v0\n"
     ]
    },
    {
     "name": "stderr",
     "output_type": "stream",
     "text": [
      "\u001b[34m\u001b[1mwandb\u001b[0m: \u001b[33mWARNING\u001b[0m Cache size exceeded. Attempting to reclaim space...\n",
      "\u001b[34m\u001b[1mwandb\u001b[0m: \u001b[33mWARNING\u001b[0m Cache size exceeded. Attempting to reclaim space...\n",
      "\u001b[34m\u001b[1mwandb\u001b[0m: \u001b[33mWARNING\u001b[0m Cache size exceeded. Attempting to reclaim space...\n",
      "\u001b[34m\u001b[1mwandb\u001b[0m: \u001b[33mWARNING\u001b[0m Cache size exceeded. Attempting to reclaim space...\n",
      "\u001b[34m\u001b[1mwandb\u001b[0m: \u001b[33mWARNING\u001b[0m Cache contains 195.1MB of temporary files. Run `wandb artifact cleanup --remove-temp` to remove them.\n",
      "\u001b[34m\u001b[1mwandb\u001b[0m: \u001b[33mWARNING\u001b[0m Cache contains 195.4MB of temporary files. Run `wandb artifact cleanup --remove-temp` to remove them.\n",
      "\u001b[34m\u001b[1mwandb\u001b[0m: \u001b[33mWARNING\u001b[0m Cache contains 200.5MB of temporary files. Run `wandb artifact cleanup --remove-temp` to remove them.\n",
      "\u001b[34m\u001b[1mwandb\u001b[0m: \u001b[33mWARNING\u001b[0m Cache contains 200.5MB of temporary files. Run `wandb artifact cleanup --remove-temp` to remove them.\n",
      "\u001b[34m\u001b[1mwandb\u001b[0m:   1 of 1 files downloaded.  \n"
     ]
    },
    {
     "name": "stdout",
     "output_type": "stream",
     "text": [
      "2025-04-20 13:07:00,840 - INFO - Downloaded logs_h6u18g2y:v0 to /scratch/downloaded_artifacts/logs_h6u18g2y:v0\n",
      "2025-04-20 13:07:01,056 - ERROR - Error downloading artifact for run u9djo7gn: [Errno 28] No space left on device\n",
      "2025-04-20 13:07:01,056 - ERROR - Error downloading artifact for run z2qj2x4g: [Errno 28] No space left on device\n",
      "2025-04-20 13:07:01,056 - ERROR - Error downloading artifact for run y0vb0ikw: [Errno 28] No space left on device\n",
      "2025-04-20 13:07:01,056 - ERROR - Error downloading artifact for run ufbdh5ei: [Errno 28] No space left on device\n",
      "2025-04-20 13:07:01,056 - ERROR - Error downloading artifact for run za58rdrx: [Errno 28] No space left on device\n",
      "2025-04-20 13:07:01,056 - ERROR - Error downloading artifact for run z2nsswpc: [Errno 28] No space left on device\n",
      "2025-04-20 13:07:01,057 - ERROR - Error downloading artifact for run owi998z5: [Errno 28] No space left on device\n",
      "2025-04-20 13:07:01,057 - ERROR - Error downloading artifact for run 4hshm7eb: [Errno 28] No space left on device\n",
      "2025-04-20 13:07:01,057 - ERROR - Error downloading artifact for run xjcga8q5: [Errno 28] No space left on device\n",
      "2025-04-20 13:07:01,057 - ERROR - Error downloading artifact for run sy1j16ns: [Errno 28] No space left on device\n"
     ]
    },
    {
     "name": "stderr",
     "output_type": "stream",
     "text": [
      "\u001b[34m\u001b[1mwandb\u001b[0m: \u001b[33mWARNING\u001b[0m Cache size exceeded. Attempting to reclaim space...\n",
      "\u001b[34m\u001b[1mwandb\u001b[0m: \u001b[33mWARNING\u001b[0m Cache contains 49.9MB of temporary files. Run `wandb artifact cleanup --remove-temp` to remove them.\n",
      "\u001b[34m\u001b[1mwandb\u001b[0m: \u001b[33mWARNING\u001b[0m Cache size exceeded. Attempting to reclaim space...\n",
      "\u001b[34m\u001b[1mwandb\u001b[0m: \u001b[33mWARNING\u001b[0m Cache contains 49.9MB of temporary files. Run `wandb artifact cleanup --remove-temp` to remove them.\n",
      "\u001b[34m\u001b[1mwandb\u001b[0m: \u001b[33mWARNING\u001b[0m Cache size exceeded. Attempting to reclaim space...\n",
      "\u001b[34m\u001b[1mwandb\u001b[0m: \u001b[33mWARNING\u001b[0m Cache contains 49.9MB of temporary files. Run `wandb artifact cleanup --remove-temp` to remove them.\n",
      "\u001b[34m\u001b[1mwandb\u001b[0m: \u001b[33mWARNING\u001b[0m Cache size exceeded. Attempting to reclaim space...\n",
      "\u001b[34m\u001b[1mwandb\u001b[0m: \u001b[33mWARNING\u001b[0m Cache contains 49.9MB of temporary files. Run `wandb artifact cleanup --remove-temp` to remove them.\n",
      "\u001b[34m\u001b[1mwandb\u001b[0m: \u001b[33mWARNING\u001b[0m Cache size exceeded. Attempting to reclaim space...\n",
      "\u001b[34m\u001b[1mwandb\u001b[0m: \u001b[33mWARNING\u001b[0m Cache contains 49.9MB of temporary files. Run `wandb artifact cleanup --remove-temp` to remove them.\n",
      "\u001b[34m\u001b[1mwandb\u001b[0m: \u001b[33mWARNING\u001b[0m Cache size exceeded. Attempting to reclaim space...\n",
      "\u001b[34m\u001b[1mwandb\u001b[0m: \u001b[33mWARNING\u001b[0m Cache contains 49.9MB of temporary files. Run `wandb artifact cleanup --remove-temp` to remove them.\n",
      "\u001b[34m\u001b[1mwandb\u001b[0m: \u001b[33mWARNING\u001b[0m Cache size exceeded. Attempting to reclaim space...\n",
      "\u001b[34m\u001b[1mwandb\u001b[0m: \u001b[33mWARNING\u001b[0m Cache contains 49.9MB of temporary files. Run `wandb artifact cleanup --remove-temp` to remove them.\n",
      "\u001b[34m\u001b[1mwandb\u001b[0m: \u001b[33mWARNING\u001b[0m Cache size exceeded. Attempting to reclaim space...\n",
      "\u001b[34m\u001b[1mwandb\u001b[0m: \u001b[33mWARNING\u001b[0m Cache contains 49.9MB of temporary files. Run `wandb artifact cleanup --remove-temp` to remove them.\n",
      "\u001b[34m\u001b[1mwandb\u001b[0m: \u001b[33mWARNING\u001b[0m Cache size exceeded. Attempting to reclaim space...\n",
      "\u001b[34m\u001b[1mwandb\u001b[0m: \u001b[33mWARNING\u001b[0m Cache contains 49.9MB of temporary files. Run `wandb artifact cleanup --remove-temp` to remove them.\n",
      "\u001b[34m\u001b[1mwandb\u001b[0m: \u001b[33mWARNING\u001b[0m Cache size exceeded. Attempting to reclaim space...\n",
      "\u001b[34m\u001b[1mwandb\u001b[0m: \u001b[33mWARNING\u001b[0m Cache contains 49.9MB of temporary files. Run `wandb artifact cleanup --remove-temp` to remove them.\n",
      "\u001b[34m\u001b[1mwandb\u001b[0m: \u001b[33mWARNING\u001b[0m Cache size exceeded. Attempting to reclaim space...\n",
      "\u001b[34m\u001b[1mwandb\u001b[0m: \u001b[33mWARNING\u001b[0m Cache contains 49.9MB of temporary files. Run `wandb artifact cleanup --remove-temp` to remove them.\n",
      "\u001b[34m\u001b[1mwandb\u001b[0m: \u001b[33mWARNING\u001b[0m Cache size exceeded. Attempting to reclaim space...\n",
      "\u001b[34m\u001b[1mwandb\u001b[0m: \u001b[33mWARNING\u001b[0m Cache contains 49.9MB of temporary files. Run `wandb artifact cleanup --remove-temp` to remove them.\n"
     ]
    },
    {
     "name": "stdout",
     "output_type": "stream",
     "text": [
      "2025-04-20 13:07:02,092 - ERROR - Error downloading artifact for run ih2ans47: [Errno 28] No space left on device\n"
     ]
    },
    {
     "name": "stderr",
     "output_type": "stream",
     "text": [
      "\u001b[34m\u001b[1mwandb\u001b[0m: \u001b[33mWARNING\u001b[0m Cache size exceeded. Attempting to reclaim space...\n",
      "\u001b[34m\u001b[1mwandb\u001b[0m: \u001b[33mWARNING\u001b[0m Cache contains 50.0MB of temporary files. Run `wandb artifact cleanup --remove-temp` to remove them.\n",
      "\u001b[34m\u001b[1mwandb\u001b[0m: \u001b[33mWARNING\u001b[0m Cache size exceeded. Attempting to reclaim space...\n",
      "\u001b[34m\u001b[1mwandb\u001b[0m: \u001b[33mWARNING\u001b[0m Cache contains 63.5MB of temporary files. Run `wandb artifact cleanup --remove-temp` to remove them.\n",
      "\u001b[34m\u001b[1mwandb\u001b[0m:   1 of 1 files downloaded.  \n"
     ]
    },
    {
     "name": "stdout",
     "output_type": "stream",
     "text": [
      "2025-04-20 13:07:06,748 - INFO - Downloaded logs_05u8qo9r:v0 to /scratch/downloaded_artifacts/logs_05u8qo9r:v0\n"
     ]
    },
    {
     "name": "stderr",
     "output_type": "stream",
     "text": [
      "\u001b[34m\u001b[1mwandb\u001b[0m:   1 of 1 files downloaded.  \n"
     ]
    },
    {
     "name": "stdout",
     "output_type": "stream",
     "text": [
      "2025-04-20 13:07:06,772 - INFO - Downloaded logs_qagc4itv:v0 to /scratch/downloaded_artifacts/logs_qagc4itv:v0\n"
     ]
    },
    {
     "name": "stderr",
     "output_type": "stream",
     "text": [
      "\u001b[34m\u001b[1mwandb\u001b[0m:   1 of 1 files downloaded.  \n"
     ]
    },
    {
     "name": "stdout",
     "output_type": "stream",
     "text": [
      "2025-04-20 13:07:06,819 - INFO - Downloaded logs_0iw7bnlc:v0 to /scratch/downloaded_artifacts/logs_0iw7bnlc:v0\n"
     ]
    },
    {
     "name": "stderr",
     "output_type": "stream",
     "text": [
      "\u001b[34m\u001b[1mwandb\u001b[0m:   1 of 1 files downloaded.  \n"
     ]
    },
    {
     "name": "stdout",
     "output_type": "stream",
     "text": [
      "2025-04-20 13:07:06,976 - INFO - Downloaded logs_dmx5sgsd:v0 to /scratch/downloaded_artifacts/logs_dmx5sgsd:v0\n"
     ]
    },
    {
     "name": "stderr",
     "output_type": "stream",
     "text": [
      "\u001b[34m\u001b[1mwandb\u001b[0m:   1 of 1 files downloaded.  \n"
     ]
    },
    {
     "name": "stdout",
     "output_type": "stream",
     "text": [
      "2025-04-20 13:07:06,985 - INFO - Downloaded logs_dved6u8j:v0 to /scratch/downloaded_artifacts/logs_dved6u8j:v0\n"
     ]
    },
    {
     "name": "stderr",
     "output_type": "stream",
     "text": [
      "\u001b[34m\u001b[1mwandb\u001b[0m:   1 of 1 files downloaded.  \n"
     ]
    },
    {
     "name": "stdout",
     "output_type": "stream",
     "text": [
      "2025-04-20 13:07:06,996 - INFO - Downloaded logs_nsr1qr98:v0 to /scratch/downloaded_artifacts/logs_nsr1qr98:v0\n"
     ]
    },
    {
     "name": "stderr",
     "output_type": "stream",
     "text": [
      "\u001b[34m\u001b[1mwandb\u001b[0m:   1 of 1 files downloaded.  \n"
     ]
    },
    {
     "name": "stdout",
     "output_type": "stream",
     "text": [
      "2025-04-20 13:07:07,000 - INFO - Downloaded logs_qr8kgdhc:v0 to /scratch/downloaded_artifacts/logs_qr8kgdhc:v0\n"
     ]
    },
    {
     "name": "stderr",
     "output_type": "stream",
     "text": [
      "\u001b[34m\u001b[1mwandb\u001b[0m:   1 of 1 files downloaded.  \n"
     ]
    },
    {
     "name": "stdout",
     "output_type": "stream",
     "text": [
      "2025-04-20 13:07:07,008 - INFO - Downloaded logs_i3hgfwwb:v0 to /scratch/downloaded_artifacts/logs_i3hgfwwb:v0\n"
     ]
    },
    {
     "name": "stderr",
     "output_type": "stream",
     "text": [
      "\u001b[34m\u001b[1mwandb\u001b[0m:   1 of 1 files downloaded.  \n",
      "\u001b[34m\u001b[1mwandb\u001b[0m:   1 of 1 files downloaded.  \n"
     ]
    },
    {
     "name": "stdout",
     "output_type": "stream",
     "text": [
      "2025-04-20 13:07:07,013 - INFO - Downloaded logs_s8b8uxl7:v0 to /scratch/downloaded_artifacts/logs_s8b8uxl7:v0\n",
      "2025-04-20 13:07:07,015 - INFO - Downloaded logs_s1dc5fob:v0 to /scratch/downloaded_artifacts/logs_s1dc5fob:v0\n"
     ]
    },
    {
     "name": "stderr",
     "output_type": "stream",
     "text": [
      "\u001b[34m\u001b[1mwandb\u001b[0m:   1 of 1 files downloaded.  \n"
     ]
    },
    {
     "name": "stdout",
     "output_type": "stream",
     "text": [
      "2025-04-20 13:07:07,024 - INFO - Downloaded logs_qwe8i0q4:v0 to /scratch/downloaded_artifacts/logs_qwe8i0q4:v0\n"
     ]
    },
    {
     "name": "stderr",
     "output_type": "stream",
     "text": [
      "\u001b[34m\u001b[1mwandb\u001b[0m:   1 of 1 files downloaded.  \n"
     ]
    },
    {
     "name": "stdout",
     "output_type": "stream",
     "text": [
      "2025-04-20 13:07:07,040 - INFO - Downloaded logs_6e07gb3m:v0 to /scratch/downloaded_artifacts/logs_6e07gb3m:v0\n"
     ]
    },
    {
     "name": "stderr",
     "output_type": "stream",
     "text": [
      "\u001b[34m\u001b[1mwandb\u001b[0m:   1 of 1 files downloaded.  \n"
     ]
    },
    {
     "name": "stdout",
     "output_type": "stream",
     "text": [
      "2025-04-20 13:07:07,044 - INFO - Downloaded logs_d3hjz9u0:v0 to /scratch/downloaded_artifacts/logs_d3hjz9u0:v0\n"
     ]
    },
    {
     "name": "stderr",
     "output_type": "stream",
     "text": [
      "\u001b[34m\u001b[1mwandb\u001b[0m:   1 of 1 files downloaded.  \n"
     ]
    },
    {
     "name": "stdout",
     "output_type": "stream",
     "text": [
      "2025-04-20 13:07:07,065 - INFO - Downloaded logs_ixwjdxpc:v0 to /scratch/downloaded_artifacts/logs_ixwjdxpc:v0\n"
     ]
    },
    {
     "name": "stderr",
     "output_type": "stream",
     "text": [
      "\u001b[34m\u001b[1mwandb\u001b[0m:   1 of 1 files downloaded.  \n"
     ]
    },
    {
     "name": "stdout",
     "output_type": "stream",
     "text": [
      "2025-04-20 13:07:07,074 - INFO - Downloaded logs_h12xcg2x:v0 to /scratch/downloaded_artifacts/logs_h12xcg2x:v0\n"
     ]
    },
    {
     "name": "stderr",
     "output_type": "stream",
     "text": [
      "\u001b[34m\u001b[1mwandb\u001b[0m:   1 of 1 files downloaded.  \n"
     ]
    },
    {
     "name": "stdout",
     "output_type": "stream",
     "text": [
      "2025-04-20 13:07:07,111 - INFO - Downloaded logs_rkk8tp0w:v0 to /scratch/downloaded_artifacts/logs_rkk8tp0w:v0\n"
     ]
    },
    {
     "name": "stderr",
     "output_type": "stream",
     "text": [
      "\u001b[34m\u001b[1mwandb\u001b[0m:   1 of 1 files downloaded.  \n"
     ]
    },
    {
     "name": "stdout",
     "output_type": "stream",
     "text": [
      "2025-04-20 13:07:07,158 - INFO - Downloaded logs_myhxrk4w:v0 to /scratch/downloaded_artifacts/logs_myhxrk4w:v0\n"
     ]
    },
    {
     "name": "stderr",
     "output_type": "stream",
     "text": [
      "\u001b[34m\u001b[1mwandb\u001b[0m:   1 of 1 files downloaded.  \n"
     ]
    },
    {
     "name": "stdout",
     "output_type": "stream",
     "text": [
      "2025-04-20 13:07:07,212 - INFO - Downloaded logs_dncxezdo:v0 to /scratch/downloaded_artifacts/logs_dncxezdo:v0\n"
     ]
    },
    {
     "name": "stderr",
     "output_type": "stream",
     "text": [
      "\u001b[34m\u001b[1mwandb\u001b[0m:   1 of 1 files downloaded.  \n"
     ]
    },
    {
     "name": "stdout",
     "output_type": "stream",
     "text": [
      "2025-04-20 13:07:09,683 - INFO - Downloaded logs_06i55dvd:v0 to /scratch/downloaded_artifacts/logs_06i55dvd:v0\n"
     ]
    },
    {
     "name": "stderr",
     "output_type": "stream",
     "text": [
      "\u001b[34m\u001b[1mwandb\u001b[0m:   1 of 1 files downloaded.  \n"
     ]
    },
    {
     "name": "stdout",
     "output_type": "stream",
     "text": [
      "2025-04-20 13:07:10,018 - INFO - Downloaded logs_1pssfwkl:v0 to /scratch/downloaded_artifacts/logs_1pssfwkl:v0\n"
     ]
    },
    {
     "name": "stderr",
     "output_type": "stream",
     "text": [
      "\u001b[34m\u001b[1mwandb\u001b[0m:   1 of 1 files downloaded.  \n"
     ]
    },
    {
     "name": "stdout",
     "output_type": "stream",
     "text": [
      "2025-04-20 13:07:10,224 - INFO - Downloaded logs_t3m1aojo:v0 to /scratch/downloaded_artifacts/logs_t3m1aojo:v0\n"
     ]
    },
    {
     "name": "stderr",
     "output_type": "stream",
     "text": [
      "\u001b[34m\u001b[1mwandb\u001b[0m:   1 of 1 files downloaded.  \n"
     ]
    },
    {
     "name": "stdout",
     "output_type": "stream",
     "text": [
      "2025-04-20 13:07:10,550 - INFO - Downloaded logs_dzezujkq:v0 to /scratch/downloaded_artifacts/logs_dzezujkq:v0\n"
     ]
    },
    {
     "name": "stderr",
     "output_type": "stream",
     "text": [
      "\u001b[34m\u001b[1mwandb\u001b[0m:   1 of 1 files downloaded.  \n"
     ]
    },
    {
     "name": "stdout",
     "output_type": "stream",
     "text": [
      "2025-04-20 13:07:10,663 - INFO - Downloaded logs_g6wrv7dy:v0 to /scratch/downloaded_artifacts/logs_g6wrv7dy:v0\n"
     ]
    },
    {
     "name": "stderr",
     "output_type": "stream",
     "text": [
      "\u001b[34m\u001b[1mwandb\u001b[0m:   1 of 1 files downloaded.  \n"
     ]
    },
    {
     "name": "stdout",
     "output_type": "stream",
     "text": [
      "2025-04-20 13:07:10,885 - INFO - Downloaded logs_70w20icj:v0 to /scratch/downloaded_artifacts/logs_70w20icj:v0\n"
     ]
    },
    {
     "name": "stderr",
     "output_type": "stream",
     "text": [
      "\u001b[34m\u001b[1mwandb\u001b[0m:   1 of 1 files downloaded.  \n"
     ]
    },
    {
     "name": "stdout",
     "output_type": "stream",
     "text": [
      "2025-04-20 13:07:10,934 - INFO - Downloaded logs_51zr8w89:v0 to /scratch/downloaded_artifacts/logs_51zr8w89:v0\n"
     ]
    },
    {
     "name": "stderr",
     "output_type": "stream",
     "text": [
      "\u001b[34m\u001b[1mwandb\u001b[0m:   1 of 1 files downloaded.  \n"
     ]
    },
    {
     "name": "stdout",
     "output_type": "stream",
     "text": [
      "2025-04-20 13:07:10,936 - INFO - Downloaded logs_rrtd5x2r:v0 to /scratch/downloaded_artifacts/logs_rrtd5x2r:v0\n"
     ]
    },
    {
     "name": "stderr",
     "output_type": "stream",
     "text": [
      "\u001b[34m\u001b[1mwandb\u001b[0m:   1 of 1 files downloaded.  \n"
     ]
    },
    {
     "name": "stdout",
     "output_type": "stream",
     "text": [
      "2025-04-20 13:07:11,108 - INFO - Downloaded logs_mstsuesg:v0 to /scratch/downloaded_artifacts/logs_mstsuesg:v0\n"
     ]
    },
    {
     "name": "stderr",
     "output_type": "stream",
     "text": [
      "\u001b[34m\u001b[1mwandb\u001b[0m:   1 of 1 files downloaded.  \n"
     ]
    },
    {
     "name": "stdout",
     "output_type": "stream",
     "text": [
      "2025-04-20 13:07:11,240 - INFO - Downloaded logs_38yrzagz:v0 to /scratch/downloaded_artifacts/logs_38yrzagz:v0\n"
     ]
    },
    {
     "name": "stderr",
     "output_type": "stream",
     "text": [
      "\u001b[34m\u001b[1mwandb\u001b[0m:   1 of 1 files downloaded.  \n"
     ]
    },
    {
     "name": "stdout",
     "output_type": "stream",
     "text": [
      "2025-04-20 13:07:11,249 - INFO - Downloaded logs_jd1x8gy9:v0 to /scratch/downloaded_artifacts/logs_jd1x8gy9:v0\n"
     ]
    },
    {
     "name": "stderr",
     "output_type": "stream",
     "text": [
      "\u001b[34m\u001b[1mwandb\u001b[0m:   1 of 1 files downloaded.  \n"
     ]
    },
    {
     "name": "stdout",
     "output_type": "stream",
     "text": [
      "2025-04-20 13:07:11,318 - INFO - Downloaded logs_791unepo:v0 to /scratch/downloaded_artifacts/logs_791unepo:v0\n"
     ]
    },
    {
     "name": "stderr",
     "output_type": "stream",
     "text": [
      "\u001b[34m\u001b[1mwandb\u001b[0m:   1 of 1 files downloaded.  \n"
     ]
    },
    {
     "name": "stdout",
     "output_type": "stream",
     "text": [
      "2025-04-20 13:07:11,381 - INFO - Downloaded logs_0pcfxm5v:v0 to /scratch/downloaded_artifacts/logs_0pcfxm5v:v0\n"
     ]
    },
    {
     "name": "stderr",
     "output_type": "stream",
     "text": [
      "\u001b[34m\u001b[1mwandb\u001b[0m:   1 of 1 files downloaded.  \n"
     ]
    },
    {
     "name": "stdout",
     "output_type": "stream",
     "text": [
      "2025-04-20 13:07:11,419 - INFO - Downloaded logs_a0p79wvx:v0 to /scratch/downloaded_artifacts/logs_a0p79wvx:v0\n"
     ]
    },
    {
     "name": "stderr",
     "output_type": "stream",
     "text": [
      "\u001b[34m\u001b[1mwandb\u001b[0m:   1 of 1 files downloaded.  \n"
     ]
    },
    {
     "name": "stdout",
     "output_type": "stream",
     "text": [
      "2025-04-20 13:07:11,699 - INFO - Downloaded logs_8xipun1a:v0 to /scratch/downloaded_artifacts/logs_8xipun1a:v0\n"
     ]
    },
    {
     "name": "stderr",
     "output_type": "stream",
     "text": [
      "\u001b[34m\u001b[1mwandb\u001b[0m:   1 of 1 files downloaded.  \n"
     ]
    },
    {
     "name": "stdout",
     "output_type": "stream",
     "text": [
      "2025-04-20 13:07:11,853 - INFO - Downloaded logs_0svpics5:v0 to /scratch/downloaded_artifacts/logs_0svpics5:v0\n"
     ]
    },
    {
     "name": "stderr",
     "output_type": "stream",
     "text": [
      "\u001b[34m\u001b[1mwandb\u001b[0m:   1 of 1 files downloaded.  \n"
     ]
    },
    {
     "name": "stdout",
     "output_type": "stream",
     "text": [
      "2025-04-20 13:07:11,913 - INFO - Downloaded logs_m6ulvwgi:v0 to /scratch/downloaded_artifacts/logs_m6ulvwgi:v0\n"
     ]
    },
    {
     "name": "stderr",
     "output_type": "stream",
     "text": [
      "\u001b[34m\u001b[1mwandb\u001b[0m:   1 of 1 files downloaded.  \n"
     ]
    },
    {
     "name": "stdout",
     "output_type": "stream",
     "text": [
      "2025-04-20 13:07:11,954 - INFO - Downloaded logs_u8u1as57:v0 to /scratch/downloaded_artifacts/logs_u8u1as57:v0\n"
     ]
    },
    {
     "name": "stderr",
     "output_type": "stream",
     "text": [
      "\u001b[34m\u001b[1mwandb\u001b[0m:   1 of 1 files downloaded.  \n"
     ]
    },
    {
     "name": "stdout",
     "output_type": "stream",
     "text": [
      "2025-04-20 13:07:15,472 - INFO - Downloaded logs_81sgsnax:v0 to /scratch/downloaded_artifacts/logs_81sgsnax:v0\n"
     ]
    },
    {
     "name": "stderr",
     "output_type": "stream",
     "text": [
      "\u001b[34m\u001b[1mwandb\u001b[0m:   1 of 1 files downloaded.  \n"
     ]
    },
    {
     "name": "stdout",
     "output_type": "stream",
     "text": [
      "2025-04-20 13:07:16,194 - INFO - Downloaded logs_psw20r2z:v0 to /scratch/downloaded_artifacts/logs_psw20r2z:v0\n"
     ]
    },
    {
     "name": "stderr",
     "output_type": "stream",
     "text": [
      "\u001b[34m\u001b[1mwandb\u001b[0m:   1 of 1 files downloaded.  \n"
     ]
    },
    {
     "name": "stdout",
     "output_type": "stream",
     "text": [
      "2025-04-20 13:07:16,261 - INFO - Downloaded logs_7nxfhvrm:v0 to /scratch/downloaded_artifacts/logs_7nxfhvrm:v0\n"
     ]
    },
    {
     "name": "stderr",
     "output_type": "stream",
     "text": [
      "\u001b[34m\u001b[1mwandb\u001b[0m:   1 of 1 files downloaded.  \n"
     ]
    },
    {
     "name": "stdout",
     "output_type": "stream",
     "text": [
      "2025-04-20 13:07:16,822 - INFO - Downloaded logs_ph4r8al2:v0 to /scratch/downloaded_artifacts/logs_ph4r8al2:v0\n"
     ]
    },
    {
     "name": "stderr",
     "output_type": "stream",
     "text": [
      "\u001b[34m\u001b[1mwandb\u001b[0m:   1 of 1 files downloaded.  \n"
     ]
    },
    {
     "name": "stdout",
     "output_type": "stream",
     "text": [
      "2025-04-20 13:07:17,133 - INFO - Downloaded logs_i4gz42ak:v0 to /scratch/downloaded_artifacts/logs_i4gz42ak:v0\n"
     ]
    },
    {
     "name": "stderr",
     "output_type": "stream",
     "text": [
      "\u001b[34m\u001b[1mwandb\u001b[0m:   1 of 1 files downloaded.  \n"
     ]
    },
    {
     "name": "stdout",
     "output_type": "stream",
     "text": [
      "2025-04-20 13:07:17,698 - INFO - Downloaded logs_q9arwvlc:v0 to /scratch/downloaded_artifacts/logs_q9arwvlc:v0\n"
     ]
    },
    {
     "name": "stderr",
     "output_type": "stream",
     "text": [
      "\u001b[34m\u001b[1mwandb\u001b[0m:   1 of 1 files downloaded.  \n"
     ]
    },
    {
     "name": "stdout",
     "output_type": "stream",
     "text": [
      "2025-04-20 13:07:17,926 - INFO - Downloaded logs_ai4rbj1r:v0 to /scratch/downloaded_artifacts/logs_ai4rbj1r:v0\n"
     ]
    },
    {
     "name": "stderr",
     "output_type": "stream",
     "text": [
      "\u001b[34m\u001b[1mwandb\u001b[0m:   1 of 1 files downloaded.  \n"
     ]
    },
    {
     "name": "stdout",
     "output_type": "stream",
     "text": [
      "2025-04-20 13:07:18,069 - INFO - Downloaded logs_cg1l0p94:v0 to /scratch/downloaded_artifacts/logs_cg1l0p94:v0\n"
     ]
    },
    {
     "name": "stderr",
     "output_type": "stream",
     "text": [
      "\u001b[34m\u001b[1mwandb\u001b[0m:   1 of 1 files downloaded.  \n"
     ]
    },
    {
     "name": "stdout",
     "output_type": "stream",
     "text": [
      "2025-04-20 13:07:18,261 - INFO - Downloaded logs_dr69nru6:v0 to /scratch/downloaded_artifacts/logs_dr69nru6:v0\n"
     ]
    },
    {
     "name": "stderr",
     "output_type": "stream",
     "text": [
      "\u001b[34m\u001b[1mwandb\u001b[0m:   1 of 1 files downloaded.  \n"
     ]
    },
    {
     "name": "stdout",
     "output_type": "stream",
     "text": [
      "2025-04-20 13:07:18,573 - INFO - Downloaded logs_n81fs5dc:v0 to /scratch/downloaded_artifacts/logs_n81fs5dc:v0\n"
     ]
    },
    {
     "name": "stderr",
     "output_type": "stream",
     "text": [
      "\u001b[34m\u001b[1mwandb\u001b[0m:   1 of 1 files downloaded.  \n"
     ]
    },
    {
     "name": "stdout",
     "output_type": "stream",
     "text": [
      "2025-04-20 13:07:18,701 - INFO - Downloaded logs_nfj5x2x1:v0 to /scratch/downloaded_artifacts/logs_nfj5x2x1:v0\n"
     ]
    },
    {
     "name": "stderr",
     "output_type": "stream",
     "text": [
      "\u001b[34m\u001b[1mwandb\u001b[0m:   1 of 1 files downloaded.  \n"
     ]
    },
    {
     "name": "stdout",
     "output_type": "stream",
     "text": [
      "2025-04-20 13:07:18,940 - INFO - Downloaded logs_he5tm75k:v0 to /scratch/downloaded_artifacts/logs_he5tm75k:v0\n"
     ]
    },
    {
     "name": "stderr",
     "output_type": "stream",
     "text": [
      "\u001b[34m\u001b[1mwandb\u001b[0m:   1 of 1 files downloaded.  \n"
     ]
    },
    {
     "name": "stdout",
     "output_type": "stream",
     "text": [
      "2025-04-20 13:07:18,981 - INFO - Downloaded logs_ojev6jqk:v0 to /scratch/downloaded_artifacts/logs_ojev6jqk:v0\n"
     ]
    },
    {
     "name": "stderr",
     "output_type": "stream",
     "text": [
      "\u001b[34m\u001b[1mwandb\u001b[0m:   1 of 1 files downloaded.  \n"
     ]
    },
    {
     "name": "stdout",
     "output_type": "stream",
     "text": [
      "2025-04-20 13:07:18,983 - INFO - Downloaded logs_hkuspygb:v0 to /scratch/downloaded_artifacts/logs_hkuspygb:v0\n"
     ]
    },
    {
     "name": "stderr",
     "output_type": "stream",
     "text": [
      "\u001b[34m\u001b[1mwandb\u001b[0m:   1 of 1 files downloaded.  \n"
     ]
    },
    {
     "name": "stdout",
     "output_type": "stream",
     "text": [
      "2025-04-20 13:07:19,222 - INFO - Downloaded logs_q98c1it7:v0 to /scratch/downloaded_artifacts/logs_q98c1it7:v0\n"
     ]
    },
    {
     "name": "stderr",
     "output_type": "stream",
     "text": [
      "\u001b[34m\u001b[1mwandb\u001b[0m:   1 of 1 files downloaded.  \n"
     ]
    },
    {
     "name": "stdout",
     "output_type": "stream",
     "text": [
      "2025-04-20 13:07:19,461 - INFO - Downloaded logs_x1p9rju0:v0 to /scratch/downloaded_artifacts/logs_x1p9rju0:v0\n"
     ]
    },
    {
     "name": "stderr",
     "output_type": "stream",
     "text": [
      "\u001b[34m\u001b[1mwandb\u001b[0m:   1 of 1 files downloaded.  \n"
     ]
    },
    {
     "name": "stdout",
     "output_type": "stream",
     "text": [
      "2025-04-20 13:07:19,557 - INFO - Downloaded logs_ygxz43ja:v0 to /scratch/downloaded_artifacts/logs_ygxz43ja:v0\n"
     ]
    },
    {
     "name": "stderr",
     "output_type": "stream",
     "text": [
      "\u001b[34m\u001b[1mwandb\u001b[0m:   1 of 1 files downloaded.  \n"
     ]
    },
    {
     "name": "stdout",
     "output_type": "stream",
     "text": [
      "2025-04-20 13:07:19,597 - INFO - Downloaded logs_bjp015li:v0 to /scratch/downloaded_artifacts/logs_bjp015li:v0\n"
     ]
    },
    {
     "name": "stderr",
     "output_type": "stream",
     "text": [
      "\u001b[34m\u001b[1mwandb\u001b[0m:   1 of 1 files downloaded.  \n"
     ]
    },
    {
     "name": "stdout",
     "output_type": "stream",
     "text": [
      "2025-04-20 13:07:24,774 - INFO - Downloaded logs_h1i94ngh:v0 to /scratch/downloaded_artifacts/logs_h1i94ngh:v0\n"
     ]
    },
    {
     "name": "stderr",
     "output_type": "stream",
     "text": [
      "\u001b[34m\u001b[1mwandb\u001b[0m:   1 of 1 files downloaded.  \n"
     ]
    },
    {
     "name": "stdout",
     "output_type": "stream",
     "text": [
      "2025-04-20 13:07:24,900 - INFO - Downloaded logs_ohu2yd7a:v0 to /scratch/downloaded_artifacts/logs_ohu2yd7a:v0\n"
     ]
    },
    {
     "name": "stderr",
     "output_type": "stream",
     "text": [
      "\u001b[34m\u001b[1mwandb\u001b[0m:   1 of 1 files downloaded.  \n"
     ]
    },
    {
     "name": "stdout",
     "output_type": "stream",
     "text": [
      "2025-04-20 13:07:25,006 - INFO - Downloaded logs_ymvziau8:v0 to /scratch/downloaded_artifacts/logs_ymvziau8:v0\n"
     ]
    },
    {
     "name": "stderr",
     "output_type": "stream",
     "text": [
      "\u001b[34m\u001b[1mwandb\u001b[0m:   1 of 1 files downloaded.  \n"
     ]
    },
    {
     "name": "stdout",
     "output_type": "stream",
     "text": [
      "2025-04-20 13:07:25,223 - INFO - Downloaded logs_x0p5n25v:v0 to /scratch/downloaded_artifacts/logs_x0p5n25v:v0\n"
     ]
    },
    {
     "name": "stderr",
     "output_type": "stream",
     "text": [
      "\u001b[34m\u001b[1mwandb\u001b[0m:   1 of 1 files downloaded.  \n"
     ]
    },
    {
     "name": "stdout",
     "output_type": "stream",
     "text": [
      "2025-04-20 13:07:25,326 - INFO - Downloaded logs_5cisw4gx:v0 to /scratch/downloaded_artifacts/logs_5cisw4gx:v0\n"
     ]
    },
    {
     "name": "stderr",
     "output_type": "stream",
     "text": [
      "\u001b[34m\u001b[1mwandb\u001b[0m:   1 of 1 files downloaded.  \n"
     ]
    },
    {
     "name": "stdout",
     "output_type": "stream",
     "text": [
      "2025-04-20 13:07:25,733 - INFO - Downloaded logs_727d4yey:v0 to /scratch/downloaded_artifacts/logs_727d4yey:v0\n"
     ]
    },
    {
     "name": "stderr",
     "output_type": "stream",
     "text": [
      "\u001b[34m\u001b[1mwandb\u001b[0m:   1 of 1 files downloaded.  \n"
     ]
    },
    {
     "name": "stdout",
     "output_type": "stream",
     "text": [
      "2025-04-20 13:07:25,795 - INFO - Downloaded logs_7cei24op:v0 to /scratch/downloaded_artifacts/logs_7cei24op:v0\n"
     ]
    },
    {
     "name": "stderr",
     "output_type": "stream",
     "text": [
      "\u001b[34m\u001b[1mwandb\u001b[0m:   1 of 1 files downloaded.  \n"
     ]
    },
    {
     "name": "stdout",
     "output_type": "stream",
     "text": [
      "2025-04-20 13:07:25,857 - INFO - Downloaded logs_7cn4sp2u:v0 to /scratch/downloaded_artifacts/logs_7cn4sp2u:v0\n"
     ]
    },
    {
     "name": "stderr",
     "output_type": "stream",
     "text": [
      "\u001b[34m\u001b[1mwandb\u001b[0m:   1 of 1 files downloaded.  \n"
     ]
    },
    {
     "name": "stdout",
     "output_type": "stream",
     "text": [
      "2025-04-20 13:07:25,942 - INFO - Downloaded logs_9l45t5z7:v0 to /scratch/downloaded_artifacts/logs_9l45t5z7:v0\n"
     ]
    },
    {
     "name": "stderr",
     "output_type": "stream",
     "text": [
      "\u001b[34m\u001b[1mwandb\u001b[0m:   1 of 1 files downloaded.  \n"
     ]
    },
    {
     "name": "stdout",
     "output_type": "stream",
     "text": [
      "2025-04-20 13:07:26,173 - INFO - Downloaded logs_9qzjmg5y:v0 to /scratch/downloaded_artifacts/logs_9qzjmg5y:v0\n"
     ]
    },
    {
     "name": "stderr",
     "output_type": "stream",
     "text": [
      "\u001b[34m\u001b[1mwandb\u001b[0m:   1 of 1 files downloaded.  \n"
     ]
    },
    {
     "name": "stdout",
     "output_type": "stream",
     "text": [
      "2025-04-20 13:07:26,476 - INFO - Downloaded logs_c8phx6ab:v0 to /scratch/downloaded_artifacts/logs_c8phx6ab:v0\n"
     ]
    },
    {
     "name": "stderr",
     "output_type": "stream",
     "text": [
      "\u001b[34m\u001b[1mwandb\u001b[0m:   1 of 1 files downloaded.  \n"
     ]
    },
    {
     "name": "stdout",
     "output_type": "stream",
     "text": [
      "2025-04-20 13:07:26,533 - INFO - Downloaded logs_hw7irat0:v0 to /scratch/downloaded_artifacts/logs_hw7irat0:v0\n"
     ]
    },
    {
     "name": "stderr",
     "output_type": "stream",
     "text": [
      "\u001b[34m\u001b[1mwandb\u001b[0m:   1 of 1 files downloaded.  \n"
     ]
    },
    {
     "name": "stdout",
     "output_type": "stream",
     "text": [
      "2025-04-20 13:07:26,550 - INFO - Downloaded logs_cjrgc5dj:v0 to /scratch/downloaded_artifacts/logs_cjrgc5dj:v0\n"
     ]
    },
    {
     "name": "stderr",
     "output_type": "stream",
     "text": [
      "\u001b[34m\u001b[1mwandb\u001b[0m:   1 of 1 files downloaded.  \n"
     ]
    },
    {
     "name": "stdout",
     "output_type": "stream",
     "text": [
      "2025-04-20 13:07:26,641 - INFO - Downloaded logs_gi6qno3q:v0 to /scratch/downloaded_artifacts/logs_gi6qno3q:v0\n"
     ]
    },
    {
     "name": "stderr",
     "output_type": "stream",
     "text": [
      "\u001b[34m\u001b[1mwandb\u001b[0m:   1 of 1 files downloaded.  \n"
     ]
    },
    {
     "name": "stdout",
     "output_type": "stream",
     "text": [
      "2025-04-20 13:07:26,937 - INFO - Downloaded logs_jicxsgcc:v0 to /scratch/downloaded_artifacts/logs_jicxsgcc:v0\n"
     ]
    },
    {
     "name": "stderr",
     "output_type": "stream",
     "text": [
      "\u001b[34m\u001b[1mwandb\u001b[0m:   1 of 1 files downloaded.  \n",
      "\u001b[34m\u001b[1mwandb\u001b[0m:   1 of 1 files downloaded.  \n"
     ]
    },
    {
     "name": "stdout",
     "output_type": "stream",
     "text": [
      "2025-04-20 13:07:53,436 - INFO - Downloaded logs_qje43uhi:v0 to /scratch/downloaded_artifacts/logs_qje43uhi:v0\n",
      "2025-04-20 13:07:53,439 - INFO - Downloaded logs_k6gbduoz:v0 to /scratch/downloaded_artifacts/logs_k6gbduoz:v0\n"
     ]
    },
    {
     "name": "stderr",
     "output_type": "stream",
     "text": [
      "\u001b[34m\u001b[1mwandb\u001b[0m:   1 of 1 files downloaded.  \n"
     ]
    },
    {
     "name": "stdout",
     "output_type": "stream",
     "text": [
      "2025-04-20 13:07:53,444 - INFO - Downloaded logs_png9u13p:v0 to /scratch/downloaded_artifacts/logs_png9u13p:v0\n"
     ]
    },
    {
     "name": "stderr",
     "output_type": "stream",
     "text": [
      "\u001b[34m\u001b[1mwandb\u001b[0m:   1 of 1 files downloaded.  \n"
     ]
    },
    {
     "name": "stdout",
     "output_type": "stream",
     "text": [
      "2025-04-20 13:07:53,867 - INFO - Downloaded logs_5m4tpch2:v0 to /scratch/downloaded_artifacts/logs_5m4tpch2:v0\n"
     ]
    },
    {
     "name": "stderr",
     "output_type": "stream",
     "text": [
      "\u001b[34m\u001b[1mwandb\u001b[0m:   1 of 1 files downloaded.  \n"
     ]
    },
    {
     "name": "stdout",
     "output_type": "stream",
     "text": [
      "2025-04-20 13:07:53,896 - INFO - Downloaded logs_o55onra0:v0 to /scratch/downloaded_artifacts/logs_o55onra0:v0\n"
     ]
    },
    {
     "name": "stderr",
     "output_type": "stream",
     "text": [
      "\u001b[34m\u001b[1mwandb\u001b[0m:   1 of 1 files downloaded.  \n"
     ]
    },
    {
     "name": "stdout",
     "output_type": "stream",
     "text": [
      "2025-04-20 13:07:54,117 - INFO - Downloaded logs_tpt8qh6p:v0 to /scratch/downloaded_artifacts/logs_tpt8qh6p:v0\n"
     ]
    },
    {
     "name": "stderr",
     "output_type": "stream",
     "text": [
      "\u001b[34m\u001b[1mwandb\u001b[0m:   1 of 1 files downloaded.  \n"
     ]
    },
    {
     "name": "stdout",
     "output_type": "stream",
     "text": [
      "2025-04-20 13:07:54,124 - INFO - Downloaded logs_rl5s7lm9:v0 to /scratch/downloaded_artifacts/logs_rl5s7lm9:v0\n"
     ]
    },
    {
     "name": "stderr",
     "output_type": "stream",
     "text": [
      "\u001b[34m\u001b[1mwandb\u001b[0m:   1 of 1 files downloaded.  \n"
     ]
    },
    {
     "name": "stdout",
     "output_type": "stream",
     "text": [
      "2025-04-20 13:07:54,214 - INFO - Downloaded logs_1kadlhl1:v0 to /scratch/downloaded_artifacts/logs_1kadlhl1:v0\n"
     ]
    },
    {
     "name": "stderr",
     "output_type": "stream",
     "text": [
      "\u001b[34m\u001b[1mwandb\u001b[0m:   1 of 1 files downloaded.  \n"
     ]
    },
    {
     "name": "stdout",
     "output_type": "stream",
     "text": [
      "2025-04-20 13:07:54,228 - INFO - Downloaded logs_dwvy3d9a:v0 to /scratch/downloaded_artifacts/logs_dwvy3d9a:v0\n"
     ]
    },
    {
     "name": "stderr",
     "output_type": "stream",
     "text": [
      "\u001b[34m\u001b[1mwandb\u001b[0m:   1 of 1 files downloaded.  \n"
     ]
    },
    {
     "name": "stdout",
     "output_type": "stream",
     "text": [
      "2025-04-20 13:07:54,258 - INFO - Downloaded logs_m06qgizz:v0 to /scratch/downloaded_artifacts/logs_m06qgizz:v0\n"
     ]
    },
    {
     "name": "stderr",
     "output_type": "stream",
     "text": [
      "\u001b[34m\u001b[1mwandb\u001b[0m:   1 of 1 files downloaded.  \n"
     ]
    },
    {
     "name": "stdout",
     "output_type": "stream",
     "text": [
      "2025-04-20 13:07:54,287 - INFO - Downloaded logs_wqued2vt:v0 to /scratch/downloaded_artifacts/logs_wqued2vt:v0\n"
     ]
    },
    {
     "name": "stderr",
     "output_type": "stream",
     "text": [
      "\u001b[34m\u001b[1mwandb\u001b[0m:   1 of 1 files downloaded.  \n"
     ]
    },
    {
     "name": "stdout",
     "output_type": "stream",
     "text": [
      "2025-04-20 13:07:54,325 - INFO - Downloaded logs_8v2c454r:v0 to /scratch/downloaded_artifacts/logs_8v2c454r:v0\n"
     ]
    },
    {
     "name": "stderr",
     "output_type": "stream",
     "text": [
      "\u001b[34m\u001b[1mwandb\u001b[0m:   1 of 1 files downloaded.  \n"
     ]
    },
    {
     "name": "stdout",
     "output_type": "stream",
     "text": [
      "2025-04-20 13:07:54,372 - INFO - Downloaded logs_5byfl6g8:v0 to /scratch/downloaded_artifacts/logs_5byfl6g8:v0\n"
     ]
    },
    {
     "name": "stderr",
     "output_type": "stream",
     "text": [
      "\u001b[34m\u001b[1mwandb\u001b[0m:   1 of 1 files downloaded.  \n"
     ]
    },
    {
     "name": "stdout",
     "output_type": "stream",
     "text": [
      "2025-04-20 13:07:54,376 - INFO - Downloaded logs_5qes1wdh:v0 to /scratch/downloaded_artifacts/logs_5qes1wdh:v0\n"
     ]
    },
    {
     "name": "stderr",
     "output_type": "stream",
     "text": [
      "\u001b[34m\u001b[1mwandb\u001b[0m:   1 of 1 files downloaded.  \n"
     ]
    },
    {
     "name": "stdout",
     "output_type": "stream",
     "text": [
      "2025-04-20 13:07:54,428 - INFO - Downloaded logs_b5yw4pgs:v0 to /scratch/downloaded_artifacts/logs_b5yw4pgs:v0\n"
     ]
    },
    {
     "name": "stderr",
     "output_type": "stream",
     "text": [
      "\u001b[34m\u001b[1mwandb\u001b[0m:   1 of 1 files downloaded.  \n"
     ]
    },
    {
     "name": "stdout",
     "output_type": "stream",
     "text": [
      "2025-04-20 13:07:54,439 - INFO - Downloaded logs_l6y4g4mj:v0 to /scratch/downloaded_artifacts/logs_l6y4g4mj:v0\n"
     ]
    },
    {
     "name": "stderr",
     "output_type": "stream",
     "text": [
      "\u001b[34m\u001b[1mwandb\u001b[0m:   1 of 1 files downloaded.  \n",
      "\u001b[34m\u001b[1mwandb\u001b[0m:   1 of 1 files downloaded.  \n"
     ]
    },
    {
     "name": "stdout",
     "output_type": "stream",
     "text": [
      "2025-04-20 13:07:54,473 - INFO - Downloaded logs_n73j23kt:v0 to /scratch/downloaded_artifacts/logs_n73j23kt:v0\n",
      "2025-04-20 13:07:54,475 - INFO - Downloaded logs_c478tsdl:v0 to /scratch/downloaded_artifacts/logs_c478tsdl:v0\n"
     ]
    },
    {
     "name": "stderr",
     "output_type": "stream",
     "text": [
      "\u001b[34m\u001b[1mwandb\u001b[0m:   1 of 1 files downloaded.  \n"
     ]
    },
    {
     "name": "stdout",
     "output_type": "stream",
     "text": [
      "2025-04-20 13:07:54,481 - INFO - Downloaded logs_i5kvf5xu:v0 to /scratch/downloaded_artifacts/logs_i5kvf5xu:v0\n"
     ]
    },
    {
     "name": "stderr",
     "output_type": "stream",
     "text": [
      "\u001b[34m\u001b[1mwandb\u001b[0m:   1 of 1 files downloaded.  \n"
     ]
    },
    {
     "name": "stdout",
     "output_type": "stream",
     "text": [
      "2025-04-20 13:07:54,500 - INFO - Downloaded logs_nol3gggn:v0 to /scratch/downloaded_artifacts/logs_nol3gggn:v0\n"
     ]
    },
    {
     "name": "stderr",
     "output_type": "stream",
     "text": [
      "\u001b[34m\u001b[1mwandb\u001b[0m:   1 of 1 files downloaded.  \n"
     ]
    },
    {
     "name": "stdout",
     "output_type": "stream",
     "text": [
      "2025-04-20 13:07:54,748 - INFO - Downloaded logs_pdbt5amz:v0 to /scratch/downloaded_artifacts/logs_pdbt5amz:v0\n"
     ]
    },
    {
     "name": "stderr",
     "output_type": "stream",
     "text": [
      "\u001b[34m\u001b[1mwandb\u001b[0m:   1 of 1 files downloaded.  \n"
     ]
    },
    {
     "name": "stdout",
     "output_type": "stream",
     "text": [
      "2025-04-20 13:07:54,837 - INFO - Downloaded logs_opt278o3:v0 to /scratch/downloaded_artifacts/logs_opt278o3:v0\n"
     ]
    },
    {
     "name": "stderr",
     "output_type": "stream",
     "text": [
      "\u001b[34m\u001b[1mwandb\u001b[0m:   1 of 1 files downloaded.  \n"
     ]
    },
    {
     "name": "stdout",
     "output_type": "stream",
     "text": [
      "2025-04-20 13:07:54,841 - INFO - Downloaded logs_qith0vg2:v0 to /scratch/downloaded_artifacts/logs_qith0vg2:v0\n"
     ]
    },
    {
     "name": "stderr",
     "output_type": "stream",
     "text": [
      "\u001b[34m\u001b[1mwandb\u001b[0m:   1 of 1 files downloaded.  \n"
     ]
    },
    {
     "name": "stdout",
     "output_type": "stream",
     "text": [
      "2025-04-20 13:07:55,177 - INFO - Downloaded logs_vmkp4skz:v0 to /scratch/downloaded_artifacts/logs_vmkp4skz:v0\n"
     ]
    },
    {
     "name": "stderr",
     "output_type": "stream",
     "text": [
      "\u001b[34m\u001b[1mwandb\u001b[0m:   1 of 1 files downloaded.  \n"
     ]
    },
    {
     "name": "stdout",
     "output_type": "stream",
     "text": [
      "2025-04-20 13:07:55,233 - INFO - Downloaded logs_xy3ixcrk:v0 to /scratch/downloaded_artifacts/logs_xy3ixcrk:v0\n"
     ]
    },
    {
     "name": "stderr",
     "output_type": "stream",
     "text": [
      "\u001b[34m\u001b[1mwandb\u001b[0m:   1 of 1 files downloaded.  \n"
     ]
    },
    {
     "name": "stdout",
     "output_type": "stream",
     "text": [
      "2025-04-20 13:07:55,540 - INFO - Downloaded logs_vuvf7vuu:v0 to /scratch/downloaded_artifacts/logs_vuvf7vuu:v0\n"
     ]
    },
    {
     "name": "stderr",
     "output_type": "stream",
     "text": [
      "\u001b[34m\u001b[1mwandb\u001b[0m:   1 of 1 files downloaded.  \n"
     ]
    },
    {
     "name": "stdout",
     "output_type": "stream",
     "text": [
      "2025-04-20 13:07:55,574 - INFO - Downloaded logs_ynv7qw9c:v0 to /scratch/downloaded_artifacts/logs_ynv7qw9c:v0\n"
     ]
    },
    {
     "name": "stderr",
     "output_type": "stream",
     "text": [
      "\u001b[34m\u001b[1mwandb\u001b[0m:   1 of 1 files downloaded.  \n"
     ]
    },
    {
     "name": "stdout",
     "output_type": "stream",
     "text": [
      "2025-04-20 13:07:55,588 - INFO - Downloaded logs_dh7py5wk:v0 to /scratch/downloaded_artifacts/logs_dh7py5wk:v0\n"
     ]
    },
    {
     "name": "stderr",
     "output_type": "stream",
     "text": [
      "\u001b[34m\u001b[1mwandb\u001b[0m:   1 of 1 files downloaded.  \n"
     ]
    },
    {
     "name": "stdout",
     "output_type": "stream",
     "text": [
      "2025-04-20 13:07:55,724 - INFO - Downloaded logs_8vxyv07o:v0 to /scratch/downloaded_artifacts/logs_8vxyv07o:v0\n"
     ]
    },
    {
     "name": "stderr",
     "output_type": "stream",
     "text": [
      "\u001b[34m\u001b[1mwandb\u001b[0m:   1 of 1 files downloaded.  \n"
     ]
    },
    {
     "name": "stdout",
     "output_type": "stream",
     "text": [
      "2025-04-20 13:07:55,826 - INFO - Downloaded logs_q3txlbdv:v0 to /scratch/downloaded_artifacts/logs_q3txlbdv:v0\n"
     ]
    },
    {
     "name": "stderr",
     "output_type": "stream",
     "text": [
      "\u001b[34m\u001b[1mwandb\u001b[0m:   1 of 1 files downloaded.  \n"
     ]
    },
    {
     "name": "stdout",
     "output_type": "stream",
     "text": [
      "2025-04-20 13:07:55,856 - INFO - Downloaded logs_sey73cfz:v0 to /scratch/downloaded_artifacts/logs_sey73cfz:v0\n"
     ]
    },
    {
     "name": "stderr",
     "output_type": "stream",
     "text": [
      "\u001b[34m\u001b[1mwandb\u001b[0m:   1 of 1 files downloaded.  \n"
     ]
    },
    {
     "name": "stdout",
     "output_type": "stream",
     "text": [
      "2025-04-20 13:07:55,918 - INFO - Downloaded logs_bai3ptcn:v0 to /scratch/downloaded_artifacts/logs_bai3ptcn:v0\n"
     ]
    },
    {
     "name": "stderr",
     "output_type": "stream",
     "text": [
      "\u001b[34m\u001b[1mwandb\u001b[0m:   1 of 1 files downloaded.  \n"
     ]
    },
    {
     "name": "stdout",
     "output_type": "stream",
     "text": [
      "2025-04-20 13:07:55,932 - INFO - Downloaded logs_ai74a686:v0 to /scratch/downloaded_artifacts/logs_ai74a686:v0\n"
     ]
    },
    {
     "name": "stderr",
     "output_type": "stream",
     "text": [
      "\u001b[34m\u001b[1mwandb\u001b[0m:   1 of 1 files downloaded.  \n"
     ]
    },
    {
     "name": "stdout",
     "output_type": "stream",
     "text": [
      "2025-04-20 13:07:56,020 - INFO - Downloaded logs_q926h6g4:v0 to /scratch/downloaded_artifacts/logs_q926h6g4:v0\n"
     ]
    },
    {
     "name": "stderr",
     "output_type": "stream",
     "text": [
      "\u001b[34m\u001b[1mwandb\u001b[0m:   1 of 1 files downloaded.  \n"
     ]
    },
    {
     "name": "stdout",
     "output_type": "stream",
     "text": [
      "2025-04-20 13:07:56,040 - INFO - Downloaded logs_agv52e6a:v0 to /scratch/downloaded_artifacts/logs_agv52e6a:v0\n"
     ]
    },
    {
     "name": "stderr",
     "output_type": "stream",
     "text": [
      "\u001b[34m\u001b[1mwandb\u001b[0m:   1 of 1 files downloaded.  \n"
     ]
    },
    {
     "name": "stdout",
     "output_type": "stream",
     "text": [
      "2025-04-20 13:07:56,056 - INFO - Downloaded logs_a1csz1it:v0 to /scratch/downloaded_artifacts/logs_a1csz1it:v0\n"
     ]
    },
    {
     "name": "stderr",
     "output_type": "stream",
     "text": [
      "\u001b[34m\u001b[1mwandb\u001b[0m:   1 of 1 files downloaded.  \n"
     ]
    },
    {
     "name": "stdout",
     "output_type": "stream",
     "text": [
      "2025-04-20 13:07:56,083 - INFO - Downloaded logs_bcalk8r1:v0 to /scratch/downloaded_artifacts/logs_bcalk8r1:v0\n"
     ]
    },
    {
     "name": "stderr",
     "output_type": "stream",
     "text": [
      "\u001b[34m\u001b[1mwandb\u001b[0m:   1 of 1 files downloaded.  \n"
     ]
    },
    {
     "name": "stdout",
     "output_type": "stream",
     "text": [
      "2025-04-20 13:07:56,114 - INFO - Downloaded logs_z475vj7f:v0 to /scratch/downloaded_artifacts/logs_z475vj7f:v0\n"
     ]
    },
    {
     "name": "stderr",
     "output_type": "stream",
     "text": [
      "\u001b[34m\u001b[1mwandb\u001b[0m:   1 of 1 files downloaded.  \n"
     ]
    },
    {
     "name": "stdout",
     "output_type": "stream",
     "text": [
      "2025-04-20 13:07:56,190 - INFO - Downloaded logs_3x9cf2ib:v0 to /scratch/downloaded_artifacts/logs_3x9cf2ib:v0\n"
     ]
    },
    {
     "name": "stderr",
     "output_type": "stream",
     "text": [
      "\u001b[34m\u001b[1mwandb\u001b[0m:   1 of 1 files downloaded.  \n"
     ]
    },
    {
     "name": "stdout",
     "output_type": "stream",
     "text": [
      "2025-04-20 13:07:56,210 - INFO - Downloaded logs_fle578jk:v0 to /scratch/downloaded_artifacts/logs_fle578jk:v0\n"
     ]
    },
    {
     "name": "stderr",
     "output_type": "stream",
     "text": [
      "\u001b[34m\u001b[1mwandb\u001b[0m:   1 of 1 files downloaded.  \n"
     ]
    },
    {
     "name": "stdout",
     "output_type": "stream",
     "text": [
      "2025-04-20 13:07:56,307 - INFO - Downloaded logs_hllhq3yb:v0 to /scratch/downloaded_artifacts/logs_hllhq3yb:v0\n"
     ]
    },
    {
     "name": "stderr",
     "output_type": "stream",
     "text": [
      "\u001b[34m\u001b[1mwandb\u001b[0m:   1 of 1 files downloaded.  \n"
     ]
    },
    {
     "name": "stdout",
     "output_type": "stream",
     "text": [
      "2025-04-20 13:07:56,343 - INFO - Downloaded logs_crbsy8zk:v0 to /scratch/downloaded_artifacts/logs_crbsy8zk:v0\n"
     ]
    },
    {
     "name": "stderr",
     "output_type": "stream",
     "text": [
      "\u001b[34m\u001b[1mwandb\u001b[0m:   1 of 1 files downloaded.  \n"
     ]
    },
    {
     "name": "stdout",
     "output_type": "stream",
     "text": [
      "2025-04-20 13:07:56,367 - INFO - Downloaded logs_mvp23b32:v0 to /scratch/downloaded_artifacts/logs_mvp23b32:v0\n"
     ]
    },
    {
     "name": "stderr",
     "output_type": "stream",
     "text": [
      "\u001b[34m\u001b[1mwandb\u001b[0m:   1 of 1 files downloaded.  \n"
     ]
    },
    {
     "name": "stdout",
     "output_type": "stream",
     "text": [
      "2025-04-20 13:07:56,504 - INFO - Downloaded logs_nrnb02lg:v0 to /scratch/downloaded_artifacts/logs_nrnb02lg:v0\n"
     ]
    },
    {
     "name": "stderr",
     "output_type": "stream",
     "text": [
      "\u001b[34m\u001b[1mwandb\u001b[0m:   1 of 1 files downloaded.  \n"
     ]
    },
    {
     "name": "stdout",
     "output_type": "stream",
     "text": [
      "2025-04-20 13:07:56,540 - INFO - Downloaded logs_w8rhkeop:v0 to /scratch/downloaded_artifacts/logs_w8rhkeop:v0\n"
     ]
    },
    {
     "name": "stderr",
     "output_type": "stream",
     "text": [
      "\u001b[34m\u001b[1mwandb\u001b[0m:   1 of 1 files downloaded.  \n"
     ]
    },
    {
     "name": "stdout",
     "output_type": "stream",
     "text": [
      "2025-04-20 13:07:56,968 - INFO - Downloaded logs_ei9b6s8n:v0 to /scratch/downloaded_artifacts/logs_ei9b6s8n:v0\n"
     ]
    },
    {
     "name": "stderr",
     "output_type": "stream",
     "text": [
      "\u001b[34m\u001b[1mwandb\u001b[0m:   1 of 1 files downloaded.  \n"
     ]
    },
    {
     "name": "stdout",
     "output_type": "stream",
     "text": [
      "2025-04-20 13:07:56,990 - INFO - Downloaded logs_y91x03ti:v0 to /scratch/downloaded_artifacts/logs_y91x03ti:v0\n"
     ]
    },
    {
     "name": "stderr",
     "output_type": "stream",
     "text": [
      "\u001b[34m\u001b[1mwandb\u001b[0m:   1 of 1 files downloaded.  \n"
     ]
    },
    {
     "name": "stdout",
     "output_type": "stream",
     "text": [
      "2025-04-20 13:07:57,031 - INFO - Downloaded logs_wcl2z9je:v0 to /scratch/downloaded_artifacts/logs_wcl2z9je:v0\n"
     ]
    },
    {
     "name": "stderr",
     "output_type": "stream",
     "text": [
      "\u001b[34m\u001b[1mwandb\u001b[0m:   1 of 1 files downloaded.  \n"
     ]
    },
    {
     "name": "stdout",
     "output_type": "stream",
     "text": [
      "2025-04-20 13:07:57,049 - INFO - Downloaded logs_epv6vwru:v0 to /scratch/downloaded_artifacts/logs_epv6vwru:v0\n"
     ]
    },
    {
     "name": "stderr",
     "output_type": "stream",
     "text": [
      "\u001b[34m\u001b[1mwandb\u001b[0m:   1 of 1 files downloaded.  \n"
     ]
    },
    {
     "name": "stdout",
     "output_type": "stream",
     "text": [
      "2025-04-20 13:07:57,129 - INFO - Downloaded logs_txeh5vii:v0 to /scratch/downloaded_artifacts/logs_txeh5vii:v0\n"
     ]
    },
    {
     "name": "stderr",
     "output_type": "stream",
     "text": [
      "\u001b[34m\u001b[1mwandb\u001b[0m:   1 of 1 files downloaded.  \n"
     ]
    },
    {
     "name": "stdout",
     "output_type": "stream",
     "text": [
      "2025-04-20 13:07:57,214 - INFO - Downloaded logs_k7leshyg:v0 to /scratch/downloaded_artifacts/logs_k7leshyg:v0\n"
     ]
    },
    {
     "name": "stderr",
     "output_type": "stream",
     "text": [
      "\u001b[34m\u001b[1mwandb\u001b[0m:   1 of 1 files downloaded.  \n"
     ]
    },
    {
     "name": "stdout",
     "output_type": "stream",
     "text": [
      "2025-04-20 13:07:57,306 - INFO - Downloaded logs_uxthzejc:v0 to /scratch/downloaded_artifacts/logs_uxthzejc:v0\n"
     ]
    },
    {
     "name": "stderr",
     "output_type": "stream",
     "text": [
      "\u001b[34m\u001b[1mwandb\u001b[0m:   1 of 1 files downloaded.  \n"
     ]
    },
    {
     "name": "stdout",
     "output_type": "stream",
     "text": [
      "2025-04-20 13:07:57,312 - INFO - Downloaded logs_0rkgq0cd:v0 to /scratch/downloaded_artifacts/logs_0rkgq0cd:v0\n"
     ]
    },
    {
     "name": "stderr",
     "output_type": "stream",
     "text": [
      "\u001b[34m\u001b[1mwandb\u001b[0m:   1 of 1 files downloaded.  \n"
     ]
    },
    {
     "name": "stdout",
     "output_type": "stream",
     "text": [
      "2025-04-20 13:07:57,503 - INFO - Downloaded logs_z3o357bm:v0 to /scratch/downloaded_artifacts/logs_z3o357bm:v0\n"
     ]
    },
    {
     "name": "stderr",
     "output_type": "stream",
     "text": [
      "\u001b[34m\u001b[1mwandb\u001b[0m:   1 of 1 files downloaded.  \n"
     ]
    },
    {
     "name": "stdout",
     "output_type": "stream",
     "text": [
      "2025-04-20 13:07:57,544 - INFO - Downloaded logs_9kqxdvno:v0 to /scratch/downloaded_artifacts/logs_9kqxdvno:v0\n"
     ]
    },
    {
     "name": "stderr",
     "output_type": "stream",
     "text": [
      "\u001b[34m\u001b[1mwandb\u001b[0m:   1 of 1 files downloaded.  \n"
     ]
    },
    {
     "name": "stdout",
     "output_type": "stream",
     "text": [
      "2025-04-20 13:07:57,577 - INFO - Downloaded logs_8vm88duy:v0 to /scratch/downloaded_artifacts/logs_8vm88duy:v0\n"
     ]
    },
    {
     "name": "stderr",
     "output_type": "stream",
     "text": [
      "\u001b[34m\u001b[1mwandb\u001b[0m:   1 of 1 files downloaded.  \n"
     ]
    },
    {
     "name": "stdout",
     "output_type": "stream",
     "text": [
      "2025-04-20 13:07:57,693 - INFO - Downloaded logs_n7fbuquo:v0 to /scratch/downloaded_artifacts/logs_n7fbuquo:v0\n"
     ]
    },
    {
     "name": "stderr",
     "output_type": "stream",
     "text": [
      "\u001b[34m\u001b[1mwandb\u001b[0m:   1 of 1 files downloaded.  \n"
     ]
    },
    {
     "name": "stdout",
     "output_type": "stream",
     "text": [
      "2025-04-20 13:07:57,715 - INFO - Downloaded logs_nxcdg4bh:v0 to /scratch/downloaded_artifacts/logs_nxcdg4bh:v0\n"
     ]
    },
    {
     "name": "stderr",
     "output_type": "stream",
     "text": [
      "\u001b[34m\u001b[1mwandb\u001b[0m:   1 of 1 files downloaded.  \n"
     ]
    },
    {
     "name": "stdout",
     "output_type": "stream",
     "text": [
      "2025-04-20 13:07:57,741 - INFO - Downloaded logs_lbr68fsh:v0 to /scratch/downloaded_artifacts/logs_lbr68fsh:v0\n"
     ]
    },
    {
     "name": "stderr",
     "output_type": "stream",
     "text": [
      "\u001b[34m\u001b[1mwandb\u001b[0m:   1 of 1 files downloaded.  \n"
     ]
    },
    {
     "name": "stdout",
     "output_type": "stream",
     "text": [
      "2025-04-20 13:07:57,749 - INFO - Downloaded logs_smvio2pl:v0 to /scratch/downloaded_artifacts/logs_smvio2pl:v0\n"
     ]
    },
    {
     "name": "stderr",
     "output_type": "stream",
     "text": [
      "\u001b[34m\u001b[1mwandb\u001b[0m:   1 of 1 files downloaded.  \n"
     ]
    },
    {
     "name": "stdout",
     "output_type": "stream",
     "text": [
      "2025-04-20 13:07:57,770 - INFO - Downloaded logs_x1ctm2k4:v0 to /scratch/downloaded_artifacts/logs_x1ctm2k4:v0\n"
     ]
    },
    {
     "name": "stderr",
     "output_type": "stream",
     "text": [
      "\u001b[34m\u001b[1mwandb\u001b[0m:   1 of 1 files downloaded.  \n"
     ]
    },
    {
     "name": "stdout",
     "output_type": "stream",
     "text": [
      "2025-04-20 13:07:57,789 - INFO - Downloaded logs_tm0d1ewk:v0 to /scratch/downloaded_artifacts/logs_tm0d1ewk:v0\n"
     ]
    },
    {
     "name": "stderr",
     "output_type": "stream",
     "text": [
      "\u001b[34m\u001b[1mwandb\u001b[0m:   1 of 1 files downloaded.  \n"
     ]
    },
    {
     "name": "stdout",
     "output_type": "stream",
     "text": [
      "2025-04-20 13:07:57,890 - INFO - Downloaded logs_xcumzrkl:v0 to /scratch/downloaded_artifacts/logs_xcumzrkl:v0\n"
     ]
    },
    {
     "name": "stderr",
     "output_type": "stream",
     "text": [
      "\u001b[34m\u001b[1mwandb\u001b[0m:   1 of 1 files downloaded.  \n"
     ]
    },
    {
     "name": "stdout",
     "output_type": "stream",
     "text": [
      "2025-04-20 13:07:57,915 - INFO - Downloaded logs_zil9qkqk:v0 to /scratch/downloaded_artifacts/logs_zil9qkqk:v0\n"
     ]
    },
    {
     "name": "stderr",
     "output_type": "stream",
     "text": [
      "\u001b[34m\u001b[1mwandb\u001b[0m:   1 of 1 files downloaded.  \n"
     ]
    },
    {
     "name": "stdout",
     "output_type": "stream",
     "text": [
      "2025-04-20 13:07:58,001 - INFO - Downloaded logs_8artejer:v0 to /scratch/downloaded_artifacts/logs_8artejer:v0\n"
     ]
    },
    {
     "name": "stderr",
     "output_type": "stream",
     "text": [
      "\u001b[34m\u001b[1mwandb\u001b[0m:   1 of 1 files downloaded.  \n"
     ]
    },
    {
     "name": "stdout",
     "output_type": "stream",
     "text": [
      "2025-04-20 13:07:58,245 - INFO - Downloaded logs_7g71xn9x:v0 to /scratch/downloaded_artifacts/logs_7g71xn9x:v0\n"
     ]
    },
    {
     "name": "stderr",
     "output_type": "stream",
     "text": [
      "\u001b[34m\u001b[1mwandb\u001b[0m:   1 of 1 files downloaded.  \n"
     ]
    },
    {
     "name": "stdout",
     "output_type": "stream",
     "text": [
      "2025-04-20 13:07:58,290 - INFO - Downloaded logs_4expts4a:v0 to /scratch/downloaded_artifacts/logs_4expts4a:v0\n"
     ]
    },
    {
     "name": "stderr",
     "output_type": "stream",
     "text": [
      "\u001b[34m\u001b[1mwandb\u001b[0m:   1 of 1 files downloaded.  \n"
     ]
    },
    {
     "name": "stdout",
     "output_type": "stream",
     "text": [
      "2025-04-20 13:07:58,320 - INFO - Downloaded logs_radom9xg:v0 to /scratch/downloaded_artifacts/logs_radom9xg:v0\n"
     ]
    },
    {
     "name": "stderr",
     "output_type": "stream",
     "text": [
      "\u001b[34m\u001b[1mwandb\u001b[0m:   1 of 1 files downloaded.  \n"
     ]
    },
    {
     "name": "stdout",
     "output_type": "stream",
     "text": [
      "2025-04-20 13:07:58,467 - INFO - Downloaded logs_cawahog3:v0 to /scratch/downloaded_artifacts/logs_cawahog3:v0\n"
     ]
    },
    {
     "name": "stderr",
     "output_type": "stream",
     "text": [
      "\u001b[34m\u001b[1mwandb\u001b[0m:   1 of 1 files downloaded.  \n"
     ]
    },
    {
     "name": "stdout",
     "output_type": "stream",
     "text": [
      "2025-04-20 13:07:58,594 - INFO - Downloaded logs_4c7ywp8v:v0 to /scratch/downloaded_artifacts/logs_4c7ywp8v:v0\n"
     ]
    },
    {
     "name": "stderr",
     "output_type": "stream",
     "text": [
      "\u001b[34m\u001b[1mwandb\u001b[0m:   1 of 1 files downloaded.  \n"
     ]
    },
    {
     "name": "stdout",
     "output_type": "stream",
     "text": [
      "2025-04-20 13:07:58,602 - INFO - Downloaded logs_yej8bo2r:v0 to /scratch/downloaded_artifacts/logs_yej8bo2r:v0\n"
     ]
    },
    {
     "name": "stderr",
     "output_type": "stream",
     "text": [
      "\u001b[34m\u001b[1mwandb\u001b[0m:   1 of 1 files downloaded.  \n"
     ]
    },
    {
     "name": "stdout",
     "output_type": "stream",
     "text": [
      "2025-04-20 13:07:58,817 - INFO - Downloaded logs_vtznud8c:v0 to /scratch/downloaded_artifacts/logs_vtznud8c:v0\n"
     ]
    },
    {
     "name": "stderr",
     "output_type": "stream",
     "text": [
      "\u001b[34m\u001b[1mwandb\u001b[0m:   1 of 1 files downloaded.  \n"
     ]
    },
    {
     "name": "stdout",
     "output_type": "stream",
     "text": [
      "2025-04-20 13:07:58,833 - INFO - Downloaded logs_gcdyurvu:v0 to /scratch/downloaded_artifacts/logs_gcdyurvu:v0\n"
     ]
    },
    {
     "name": "stderr",
     "output_type": "stream",
     "text": [
      "\u001b[34m\u001b[1mwandb\u001b[0m:   1 of 1 files downloaded.  \n"
     ]
    },
    {
     "name": "stdout",
     "output_type": "stream",
     "text": [
      "2025-04-20 13:07:58,841 - INFO - Downloaded logs_54s0uiky:v0 to /scratch/downloaded_artifacts/logs_54s0uiky:v0\n"
     ]
    },
    {
     "name": "stderr",
     "output_type": "stream",
     "text": [
      "\u001b[34m\u001b[1mwandb\u001b[0m:   1 of 1 files downloaded.  \n"
     ]
    },
    {
     "name": "stdout",
     "output_type": "stream",
     "text": [
      "2025-04-20 13:07:58,866 - INFO - Downloaded logs_awx7abtm:v0 to /scratch/downloaded_artifacts/logs_awx7abtm:v0\n"
     ]
    },
    {
     "name": "stderr",
     "output_type": "stream",
     "text": [
      "\u001b[34m\u001b[1mwandb\u001b[0m:   1 of 1 files downloaded.  \n"
     ]
    },
    {
     "name": "stdout",
     "output_type": "stream",
     "text": [
      "2025-04-20 13:07:58,954 - INFO - Downloaded logs_75rentk6:v0 to /scratch/downloaded_artifacts/logs_75rentk6:v0\n"
     ]
    },
    {
     "name": "stderr",
     "output_type": "stream",
     "text": [
      "\u001b[34m\u001b[1mwandb\u001b[0m:   1 of 1 files downloaded.  \n"
     ]
    },
    {
     "name": "stdout",
     "output_type": "stream",
     "text": [
      "2025-04-20 13:07:59,252 - INFO - Downloaded logs_gekqvofm:v0 to /scratch/downloaded_artifacts/logs_gekqvofm:v0\n"
     ]
    },
    {
     "name": "stderr",
     "output_type": "stream",
     "text": [
      "\u001b[34m\u001b[1mwandb\u001b[0m:   1 of 1 files downloaded.  \n"
     ]
    },
    {
     "name": "stdout",
     "output_type": "stream",
     "text": [
      "2025-04-20 13:07:59,409 - INFO - Downloaded logs_o13qcclv:v0 to /scratch/downloaded_artifacts/logs_o13qcclv:v0\n"
     ]
    },
    {
     "name": "stderr",
     "output_type": "stream",
     "text": [
      "\u001b[34m\u001b[1mwandb\u001b[0m:   1 of 1 files downloaded.  \n",
      "\u001b[34m\u001b[1mwandb\u001b[0m:   1 of 1 files downloaded.  \n"
     ]
    },
    {
     "name": "stdout",
     "output_type": "stream",
     "text": [
      "2025-04-20 13:07:59,501 - INFO - Downloaded logs_odygc43z:v0 to /scratch/downloaded_artifacts/logs_odygc43z:v0\n",
      "2025-04-20 13:07:59,503 - INFO - Downloaded logs_oj0iyl6q:v0 to /scratch/downloaded_artifacts/logs_oj0iyl6q:v0\n"
     ]
    },
    {
     "name": "stderr",
     "output_type": "stream",
     "text": [
      "\u001b[34m\u001b[1mwandb\u001b[0m:   1 of 1 files downloaded.  \n"
     ]
    },
    {
     "name": "stdout",
     "output_type": "stream",
     "text": [
      "2025-04-20 13:07:59,582 - INFO - Downloaded logs_0kc6e653:v0 to /scratch/downloaded_artifacts/logs_0kc6e653:v0\n"
     ]
    },
    {
     "name": "stderr",
     "output_type": "stream",
     "text": [
      "\u001b[34m\u001b[1mwandb\u001b[0m:   1 of 1 files downloaded.  \n"
     ]
    },
    {
     "name": "stdout",
     "output_type": "stream",
     "text": [
      "2025-04-20 13:07:59,638 - INFO - Downloaded logs_oebbiuaz:v0 to /scratch/downloaded_artifacts/logs_oebbiuaz:v0\n"
     ]
    },
    {
     "name": "stderr",
     "output_type": "stream",
     "text": [
      "\u001b[34m\u001b[1mwandb\u001b[0m:   1 of 1 files downloaded.  \n"
     ]
    },
    {
     "name": "stdout",
     "output_type": "stream",
     "text": [
      "2025-04-20 13:07:59,662 - INFO - Downloaded logs_ybs2z2w0:v0 to /scratch/downloaded_artifacts/logs_ybs2z2w0:v0\n"
     ]
    },
    {
     "name": "stderr",
     "output_type": "stream",
     "text": [
      "\u001b[34m\u001b[1mwandb\u001b[0m:   1 of 1 files downloaded.  \n"
     ]
    },
    {
     "name": "stdout",
     "output_type": "stream",
     "text": [
      "2025-04-20 13:07:59,774 - INFO - Downloaded logs_idob6r5o:v0 to /scratch/downloaded_artifacts/logs_idob6r5o:v0\n"
     ]
    },
    {
     "name": "stderr",
     "output_type": "stream",
     "text": [
      "\u001b[34m\u001b[1mwandb\u001b[0m:   1 of 1 files downloaded.  \n"
     ]
    },
    {
     "name": "stdout",
     "output_type": "stream",
     "text": [
      "2025-04-20 13:07:59,823 - INFO - Downloaded logs_zcywlzud:v0 to /scratch/downloaded_artifacts/logs_zcywlzud:v0\n"
     ]
    },
    {
     "name": "stderr",
     "output_type": "stream",
     "text": [
      "\u001b[34m\u001b[1mwandb\u001b[0m:   1 of 1 files downloaded.  \n",
      "\u001b[34m\u001b[1mwandb\u001b[0m:   1 of 1 files downloaded.  \n"
     ]
    },
    {
     "name": "stdout",
     "output_type": "stream",
     "text": [
      "2025-04-20 13:07:59,916 - INFO - Downloaded logs_lmc6x4z6:v0 to /scratch/downloaded_artifacts/logs_lmc6x4z6:v0\n",
      "2025-04-20 13:07:59,918 - INFO - Downloaded logs_0kt640mj:v0 to /scratch/downloaded_artifacts/logs_0kt640mj:v0\n"
     ]
    },
    {
     "name": "stderr",
     "output_type": "stream",
     "text": [
      "\u001b[34m\u001b[1mwandb\u001b[0m:   1 of 1 files downloaded.  \n"
     ]
    },
    {
     "name": "stdout",
     "output_type": "stream",
     "text": [
      "2025-04-20 13:07:59,979 - INFO - Downloaded logs_dybqabag:v0 to /scratch/downloaded_artifacts/logs_dybqabag:v0\n"
     ]
    },
    {
     "name": "stderr",
     "output_type": "stream",
     "text": [
      "\u001b[34m\u001b[1mwandb\u001b[0m:   1 of 1 files downloaded.  \n"
     ]
    },
    {
     "name": "stdout",
     "output_type": "stream",
     "text": [
      "2025-04-20 13:07:59,996 - INFO - Downloaded logs_4u5lm9wh:v0 to /scratch/downloaded_artifacts/logs_4u5lm9wh:v0\n"
     ]
    },
    {
     "name": "stderr",
     "output_type": "stream",
     "text": [
      "\u001b[34m\u001b[1mwandb\u001b[0m:   1 of 1 files downloaded.  \n"
     ]
    },
    {
     "name": "stdout",
     "output_type": "stream",
     "text": [
      "2025-04-20 13:08:00,107 - INFO - Downloaded logs_e3sfsmhm:v0 to /scratch/downloaded_artifacts/logs_e3sfsmhm:v0\n"
     ]
    },
    {
     "name": "stderr",
     "output_type": "stream",
     "text": [
      "\u001b[34m\u001b[1mwandb\u001b[0m:   1 of 1 files downloaded.  \n"
     ]
    },
    {
     "name": "stdout",
     "output_type": "stream",
     "text": [
      "2025-04-20 13:08:00,149 - INFO - Downloaded logs_k3iyjmbk:v0 to /scratch/downloaded_artifacts/logs_k3iyjmbk:v0\n"
     ]
    },
    {
     "name": "stderr",
     "output_type": "stream",
     "text": [
      "\u001b[34m\u001b[1mwandb\u001b[0m:   1 of 1 files downloaded.  \n"
     ]
    },
    {
     "name": "stdout",
     "output_type": "stream",
     "text": [
      "2025-04-20 13:08:00,229 - INFO - Downloaded logs_wft0x0uq:v0 to /scratch/downloaded_artifacts/logs_wft0x0uq:v0\n"
     ]
    },
    {
     "name": "stderr",
     "output_type": "stream",
     "text": [
      "\u001b[34m\u001b[1mwandb\u001b[0m:   1 of 1 files downloaded.  \n"
     ]
    },
    {
     "name": "stdout",
     "output_type": "stream",
     "text": [
      "2025-04-20 13:08:00,239 - INFO - Downloaded logs_zt8yuthi:v0 to /scratch/downloaded_artifacts/logs_zt8yuthi:v0\n"
     ]
    },
    {
     "name": "stderr",
     "output_type": "stream",
     "text": [
      "\u001b[34m\u001b[1mwandb\u001b[0m:   1 of 1 files downloaded.  \n"
     ]
    },
    {
     "name": "stdout",
     "output_type": "stream",
     "text": [
      "2025-04-20 13:08:00,270 - INFO - Downloaded logs_6thu4o9b:v0 to /scratch/downloaded_artifacts/logs_6thu4o9b:v0\n"
     ]
    },
    {
     "name": "stderr",
     "output_type": "stream",
     "text": [
      "\u001b[34m\u001b[1mwandb\u001b[0m:   1 of 1 files downloaded.  \n"
     ]
    },
    {
     "name": "stdout",
     "output_type": "stream",
     "text": [
      "2025-04-20 13:08:00,484 - INFO - Downloaded logs_w4tfhxg3:v0 to /scratch/downloaded_artifacts/logs_w4tfhxg3:v0\n"
     ]
    },
    {
     "name": "stderr",
     "output_type": "stream",
     "text": [
      "\u001b[34m\u001b[1mwandb\u001b[0m:   1 of 1 files downloaded.  \n",
      "\u001b[34m\u001b[1mwandb\u001b[0m:   1 of 1 files downloaded.  \n"
     ]
    },
    {
     "name": "stdout",
     "output_type": "stream",
     "text": [
      "2025-04-20 13:08:00,635 - INFO - Downloaded logs_7onuww61:v0 to /scratch/downloaded_artifacts/logs_7onuww61:v0\n",
      "2025-04-20 13:08:00,636 - INFO - Downloaded logs_9qb3aved:v0 to /scratch/downloaded_artifacts/logs_9qb3aved:v0\n"
     ]
    },
    {
     "name": "stderr",
     "output_type": "stream",
     "text": [
      "\u001b[34m\u001b[1mwandb\u001b[0m:   1 of 1 files downloaded.  \n"
     ]
    },
    {
     "name": "stdout",
     "output_type": "stream",
     "text": [
      "2025-04-20 13:08:00,664 - INFO - Downloaded logs_ais576u0:v0 to /scratch/downloaded_artifacts/logs_ais576u0:v0\n"
     ]
    },
    {
     "name": "stderr",
     "output_type": "stream",
     "text": [
      "\u001b[34m\u001b[1mwandb\u001b[0m:   1 of 1 files downloaded.  \n"
     ]
    },
    {
     "name": "stdout",
     "output_type": "stream",
     "text": [
      "2025-04-20 13:08:00,703 - INFO - Downloaded logs_6xrrmnik:v0 to /scratch/downloaded_artifacts/logs_6xrrmnik:v0\n"
     ]
    },
    {
     "name": "stderr",
     "output_type": "stream",
     "text": [
      "\u001b[34m\u001b[1mwandb\u001b[0m:   1 of 1 files downloaded.  \n"
     ]
    },
    {
     "name": "stdout",
     "output_type": "stream",
     "text": [
      "2025-04-20 13:08:00,814 - INFO - Downloaded logs_fywuenih:v0 to /scratch/downloaded_artifacts/logs_fywuenih:v0\n"
     ]
    },
    {
     "name": "stderr",
     "output_type": "stream",
     "text": [
      "\u001b[34m\u001b[1mwandb\u001b[0m:   1 of 1 files downloaded.  \n"
     ]
    },
    {
     "name": "stdout",
     "output_type": "stream",
     "text": [
      "2025-04-20 13:08:00,839 - INFO - Downloaded logs_j8edytr5:v0 to /scratch/downloaded_artifacts/logs_j8edytr5:v0\n"
     ]
    },
    {
     "name": "stderr",
     "output_type": "stream",
     "text": [
      "\u001b[34m\u001b[1mwandb\u001b[0m:   1 of 1 files downloaded.  \n"
     ]
    },
    {
     "name": "stdout",
     "output_type": "stream",
     "text": [
      "2025-04-20 13:08:01,226 - INFO - Downloaded logs_t4q2cu2s:v0 to /scratch/downloaded_artifacts/logs_t4q2cu2s:v0\n"
     ]
    },
    {
     "name": "stderr",
     "output_type": "stream",
     "text": [
      "\u001b[34m\u001b[1mwandb\u001b[0m:   1 of 1 files downloaded.  \n"
     ]
    },
    {
     "name": "stdout",
     "output_type": "stream",
     "text": [
      "2025-04-20 13:08:01,335 - INFO - Downloaded logs_t3nk7475:v0 to /scratch/downloaded_artifacts/logs_t3nk7475:v0\n"
     ]
    },
    {
     "name": "stderr",
     "output_type": "stream",
     "text": [
      "\u001b[34m\u001b[1mwandb\u001b[0m:   1 of 1 files downloaded.  \n"
     ]
    },
    {
     "name": "stdout",
     "output_type": "stream",
     "text": [
      "2025-04-20 13:08:01,363 - INFO - Downloaded logs_jl2um32v:v0 to /scratch/downloaded_artifacts/logs_jl2um32v:v0\n"
     ]
    },
    {
     "name": "stderr",
     "output_type": "stream",
     "text": [
      "\u001b[34m\u001b[1mwandb\u001b[0m:   1 of 1 files downloaded.  \n"
     ]
    },
    {
     "name": "stdout",
     "output_type": "stream",
     "text": [
      "2025-04-20 13:08:01,380 - INFO - Downloaded logs_6l6dm9vc:v0 to /scratch/downloaded_artifacts/logs_6l6dm9vc:v0\n"
     ]
    },
    {
     "name": "stderr",
     "output_type": "stream",
     "text": [
      "\u001b[34m\u001b[1mwandb\u001b[0m:   1 of 1 files downloaded.  \n"
     ]
    },
    {
     "name": "stdout",
     "output_type": "stream",
     "text": [
      "2025-04-20 13:08:01,403 - INFO - Downloaded logs_ibr6yvmp:v0 to /scratch/downloaded_artifacts/logs_ibr6yvmp:v0\n"
     ]
    },
    {
     "name": "stderr",
     "output_type": "stream",
     "text": [
      "\u001b[34m\u001b[1mwandb\u001b[0m:   1 of 1 files downloaded.  \n"
     ]
    },
    {
     "name": "stdout",
     "output_type": "stream",
     "text": [
      "2025-04-20 13:08:01,494 - INFO - Downloaded logs_z9wufuhi:v0 to /scratch/downloaded_artifacts/logs_z9wufuhi:v0\n"
     ]
    },
    {
     "name": "stderr",
     "output_type": "stream",
     "text": [
      "\u001b[34m\u001b[1mwandb\u001b[0m:   1 of 1 files downloaded.  \n"
     ]
    },
    {
     "name": "stdout",
     "output_type": "stream",
     "text": [
      "2025-04-20 13:08:01,696 - INFO - Downloaded logs_9y9z80vg:v0 to /scratch/downloaded_artifacts/logs_9y9z80vg:v0\n"
     ]
    },
    {
     "name": "stderr",
     "output_type": "stream",
     "text": [
      "\u001b[34m\u001b[1mwandb\u001b[0m:   1 of 1 files downloaded.  \n"
     ]
    },
    {
     "name": "stdout",
     "output_type": "stream",
     "text": [
      "2025-04-20 13:08:01,709 - INFO - Downloaded logs_6cansp99:v0 to /scratch/downloaded_artifacts/logs_6cansp99:v0\n"
     ]
    },
    {
     "name": "stderr",
     "output_type": "stream",
     "text": [
      "\u001b[34m\u001b[1mwandb\u001b[0m:   1 of 1 files downloaded.  \n"
     ]
    },
    {
     "name": "stdout",
     "output_type": "stream",
     "text": [
      "2025-04-20 13:08:01,808 - INFO - Downloaded logs_gsiymi7p:v0 to /scratch/downloaded_artifacts/logs_gsiymi7p:v0\n"
     ]
    },
    {
     "name": "stderr",
     "output_type": "stream",
     "text": [
      "\u001b[34m\u001b[1mwandb\u001b[0m:   1 of 1 files downloaded.  \n"
     ]
    },
    {
     "name": "stdout",
     "output_type": "stream",
     "text": [
      "2025-04-20 13:08:01,952 - INFO - Downloaded logs_90joclvk:v0 to /scratch/downloaded_artifacts/logs_90joclvk:v0\n"
     ]
    },
    {
     "name": "stderr",
     "output_type": "stream",
     "text": [
      "\u001b[34m\u001b[1mwandb\u001b[0m:   1 of 1 files downloaded.  \n"
     ]
    },
    {
     "name": "stdout",
     "output_type": "stream",
     "text": [
      "2025-04-20 13:08:01,987 - INFO - Downloaded logs_h3xzli5k:v0 to /scratch/downloaded_artifacts/logs_h3xzli5k:v0\n"
     ]
    },
    {
     "name": "stderr",
     "output_type": "stream",
     "text": [
      "\u001b[34m\u001b[1mwandb\u001b[0m:   1 of 1 files downloaded.  \n",
      "\u001b[34m\u001b[1mwandb\u001b[0m:   1 of 1 files downloaded.  \n"
     ]
    },
    {
     "name": "stdout",
     "output_type": "stream",
     "text": [
      "2025-04-20 13:08:02,090 - INFO - Downloaded logs_jgj5gfus:v0 to /scratch/downloaded_artifacts/logs_jgj5gfus:v0\n",
      "2025-04-20 13:08:02,091 - INFO - Downloaded logs_jhwnx2de:v0 to /scratch/downloaded_artifacts/logs_jhwnx2de:v0\n"
     ]
    },
    {
     "name": "stderr",
     "output_type": "stream",
     "text": [
      "\u001b[34m\u001b[1mwandb\u001b[0m:   1 of 1 files downloaded.  \n"
     ]
    },
    {
     "name": "stdout",
     "output_type": "stream",
     "text": [
      "2025-04-20 13:08:02,164 - INFO - Downloaded logs_p6qdwcnz:v0 to /scratch/downloaded_artifacts/logs_p6qdwcnz:v0\n"
     ]
    },
    {
     "name": "stderr",
     "output_type": "stream",
     "text": [
      "\u001b[34m\u001b[1mwandb\u001b[0m:   1 of 1 files downloaded.  \n"
     ]
    },
    {
     "name": "stdout",
     "output_type": "stream",
     "text": [
      "2025-04-20 13:08:02,169 - INFO - Downloaded logs_r7vz5hw8:v0 to /scratch/downloaded_artifacts/logs_r7vz5hw8:v0\n"
     ]
    },
    {
     "name": "stderr",
     "output_type": "stream",
     "text": [
      "\u001b[34m\u001b[1mwandb\u001b[0m:   1 of 1 files downloaded.  \n"
     ]
    },
    {
     "name": "stdout",
     "output_type": "stream",
     "text": [
      "2025-04-20 13:08:02,205 - INFO - Downloaded logs_4swz3mhp:v0 to /scratch/downloaded_artifacts/logs_4swz3mhp:v0\n"
     ]
    },
    {
     "name": "stderr",
     "output_type": "stream",
     "text": [
      "\u001b[34m\u001b[1mwandb\u001b[0m:   1 of 1 files downloaded.  \n"
     ]
    },
    {
     "name": "stdout",
     "output_type": "stream",
     "text": [
      "2025-04-20 13:08:02,252 - INFO - Downloaded logs_wm7cx81k:v0 to /scratch/downloaded_artifacts/logs_wm7cx81k:v0\n"
     ]
    },
    {
     "name": "stderr",
     "output_type": "stream",
     "text": [
      "\u001b[34m\u001b[1mwandb\u001b[0m:   1 of 1 files downloaded.  \n"
     ]
    },
    {
     "name": "stdout",
     "output_type": "stream",
     "text": [
      "2025-04-20 13:08:02,365 - INFO - Downloaded logs_ra4z4shq:v0 to /scratch/downloaded_artifacts/logs_ra4z4shq:v0\n"
     ]
    },
    {
     "name": "stderr",
     "output_type": "stream",
     "text": [
      "\u001b[34m\u001b[1mwandb\u001b[0m:   1 of 1 files downloaded.  \n"
     ]
    },
    {
     "name": "stdout",
     "output_type": "stream",
     "text": [
      "2025-04-20 13:08:02,417 - INFO - Downloaded logs_tchrc8h3:v0 to /scratch/downloaded_artifacts/logs_tchrc8h3:v0\n"
     ]
    },
    {
     "name": "stderr",
     "output_type": "stream",
     "text": [
      "\u001b[34m\u001b[1mwandb\u001b[0m:   1 of 1 files downloaded.  \n"
     ]
    },
    {
     "name": "stdout",
     "output_type": "stream",
     "text": [
      "2025-04-20 13:08:02,624 - INFO - Downloaded logs_zh3ltxsm:v0 to /scratch/downloaded_artifacts/logs_zh3ltxsm:v0\n"
     ]
    },
    {
     "name": "stderr",
     "output_type": "stream",
     "text": [
      "\u001b[34m\u001b[1mwandb\u001b[0m:   1 of 1 files downloaded.  \n"
     ]
    },
    {
     "name": "stdout",
     "output_type": "stream",
     "text": [
      "2025-04-20 13:08:02,635 - INFO - Downloaded logs_lbnh5lfy:v0 to /scratch/downloaded_artifacts/logs_lbnh5lfy:v0\n"
     ]
    },
    {
     "name": "stderr",
     "output_type": "stream",
     "text": [
      "\u001b[34m\u001b[1mwandb\u001b[0m:   1 of 1 files downloaded.  \n"
     ]
    },
    {
     "name": "stdout",
     "output_type": "stream",
     "text": [
      "2025-04-20 13:08:02,709 - INFO - Downloaded logs_z71x18ix:v0 to /scratch/downloaded_artifacts/logs_z71x18ix:v0\n"
     ]
    },
    {
     "name": "stderr",
     "output_type": "stream",
     "text": [
      "\u001b[34m\u001b[1mwandb\u001b[0m:   1 of 1 files downloaded.  \n"
     ]
    },
    {
     "name": "stdout",
     "output_type": "stream",
     "text": [
      "2025-04-20 13:08:02,746 - INFO - Downloaded logs_lxdzjxg7:v0 to /scratch/downloaded_artifacts/logs_lxdzjxg7:v0\n"
     ]
    },
    {
     "name": "stderr",
     "output_type": "stream",
     "text": [
      "\u001b[34m\u001b[1mwandb\u001b[0m:   1 of 1 files downloaded.  \n"
     ]
    },
    {
     "name": "stdout",
     "output_type": "stream",
     "text": [
      "2025-04-20 13:08:02,779 - INFO - Downloaded logs_vlsgmnrj:v0 to /scratch/downloaded_artifacts/logs_vlsgmnrj:v0\n"
     ]
    },
    {
     "name": "stderr",
     "output_type": "stream",
     "text": [
      "\u001b[34m\u001b[1mwandb\u001b[0m:   1 of 1 files downloaded.  \n"
     ]
    },
    {
     "name": "stdout",
     "output_type": "stream",
     "text": [
      "2025-04-20 13:08:02,841 - INFO - Downloaded logs_zjygtnwk:v0 to /scratch/downloaded_artifacts/logs_zjygtnwk:v0\n"
     ]
    },
    {
     "name": "stderr",
     "output_type": "stream",
     "text": [
      "\u001b[34m\u001b[1mwandb\u001b[0m:   1 of 1 files downloaded.  \n"
     ]
    },
    {
     "name": "stdout",
     "output_type": "stream",
     "text": [
      "2025-04-20 13:08:02,875 - INFO - Downloaded logs_14a6k4zk:v0 to /scratch/downloaded_artifacts/logs_14a6k4zk:v0\n"
     ]
    },
    {
     "name": "stderr",
     "output_type": "stream",
     "text": [
      "\u001b[34m\u001b[1mwandb\u001b[0m:   1 of 1 files downloaded.  \n"
     ]
    },
    {
     "name": "stdout",
     "output_type": "stream",
     "text": [
      "2025-04-20 13:08:03,042 - INFO - Downloaded logs_7u2vyjdo:v0 to /scratch/downloaded_artifacts/logs_7u2vyjdo:v0\n"
     ]
    },
    {
     "name": "stderr",
     "output_type": "stream",
     "text": [
      "\u001b[34m\u001b[1mwandb\u001b[0m:   1 of 1 files downloaded.  \n"
     ]
    },
    {
     "name": "stdout",
     "output_type": "stream",
     "text": [
      "2025-04-20 13:08:03,064 - INFO - Downloaded logs_5pa8k862:v0 to /scratch/downloaded_artifacts/logs_5pa8k862:v0\n"
     ]
    },
    {
     "name": "stderr",
     "output_type": "stream",
     "text": [
      "\u001b[34m\u001b[1mwandb\u001b[0m:   1 of 1 files downloaded.  \n"
     ]
    },
    {
     "name": "stdout",
     "output_type": "stream",
     "text": [
      "2025-04-20 13:08:03,098 - INFO - Downloaded logs_cpv99d45:v0 to /scratch/downloaded_artifacts/logs_cpv99d45:v0\n"
     ]
    },
    {
     "name": "stderr",
     "output_type": "stream",
     "text": [
      "\u001b[34m\u001b[1mwandb\u001b[0m:   1 of 1 files downloaded.  \n"
     ]
    },
    {
     "name": "stdout",
     "output_type": "stream",
     "text": [
      "2025-04-20 13:08:03,270 - INFO - Downloaded logs_szk8ut8v:v0 to /scratch/downloaded_artifacts/logs_szk8ut8v:v0\n"
     ]
    },
    {
     "name": "stderr",
     "output_type": "stream",
     "text": [
      "\u001b[34m\u001b[1mwandb\u001b[0m:   1 of 1 files downloaded.  \n"
     ]
    },
    {
     "name": "stdout",
     "output_type": "stream",
     "text": [
      "2025-04-20 13:08:03,481 - INFO - Downloaded logs_jlne6qad:v0 to /scratch/downloaded_artifacts/logs_jlne6qad:v0\n"
     ]
    },
    {
     "name": "stderr",
     "output_type": "stream",
     "text": [
      "\u001b[34m\u001b[1mwandb\u001b[0m:   1 of 1 files downloaded.  \n"
     ]
    },
    {
     "name": "stdout",
     "output_type": "stream",
     "text": [
      "2025-04-20 13:08:03,552 - INFO - Downloaded logs_3mutr5qx:v0 to /scratch/downloaded_artifacts/logs_3mutr5qx:v0\n"
     ]
    },
    {
     "name": "stderr",
     "output_type": "stream",
     "text": [
      "\u001b[34m\u001b[1mwandb\u001b[0m:   1 of 1 files downloaded.  \n"
     ]
    },
    {
     "name": "stdout",
     "output_type": "stream",
     "text": [
      "2025-04-20 13:08:03,575 - INFO - Downloaded logs_9gbq990e:v0 to /scratch/downloaded_artifacts/logs_9gbq990e:v0\n"
     ]
    },
    {
     "name": "stderr",
     "output_type": "stream",
     "text": [
      "\u001b[34m\u001b[1mwandb\u001b[0m:   1 of 1 files downloaded.  \n"
     ]
    },
    {
     "name": "stdout",
     "output_type": "stream",
     "text": [
      "2025-04-20 13:08:03,583 - INFO - Downloaded logs_dbyraxin:v0 to /scratch/downloaded_artifacts/logs_dbyraxin:v0\n"
     ]
    },
    {
     "name": "stderr",
     "output_type": "stream",
     "text": [
      "\u001b[34m\u001b[1mwandb\u001b[0m:   1 of 1 files downloaded.  \n"
     ]
    },
    {
     "name": "stdout",
     "output_type": "stream",
     "text": [
      "2025-04-20 13:08:03,672 - INFO - Downloaded logs_dgo813gv:v0 to /scratch/downloaded_artifacts/logs_dgo813gv:v0\n"
     ]
    },
    {
     "name": "stderr",
     "output_type": "stream",
     "text": [
      "\u001b[34m\u001b[1mwandb\u001b[0m:   1 of 1 files downloaded.  \n"
     ]
    },
    {
     "name": "stdout",
     "output_type": "stream",
     "text": [
      "2025-04-20 13:08:03,755 - INFO - Downloaded logs_elbj461v:v0 to /scratch/downloaded_artifacts/logs_elbj461v:v0\n"
     ]
    },
    {
     "name": "stderr",
     "output_type": "stream",
     "text": [
      "\u001b[34m\u001b[1mwandb\u001b[0m:   1 of 1 files downloaded.  \n"
     ]
    },
    {
     "name": "stdout",
     "output_type": "stream",
     "text": [
      "2025-04-20 13:08:03,761 - INFO - Downloaded logs_i8bssdh9:v0 to /scratch/downloaded_artifacts/logs_i8bssdh9:v0\n"
     ]
    },
    {
     "name": "stderr",
     "output_type": "stream",
     "text": [
      "\u001b[34m\u001b[1mwandb\u001b[0m:   1 of 1 files downloaded.  \n"
     ]
    },
    {
     "name": "stdout",
     "output_type": "stream",
     "text": [
      "2025-04-20 13:08:03,843 - INFO - Downloaded logs_tvfqcx7h:v0 to /scratch/downloaded_artifacts/logs_tvfqcx7h:v0\n"
     ]
    },
    {
     "name": "stderr",
     "output_type": "stream",
     "text": [
      "\u001b[34m\u001b[1mwandb\u001b[0m:   1 of 1 files downloaded.  \n"
     ]
    },
    {
     "name": "stdout",
     "output_type": "stream",
     "text": [
      "2025-04-20 13:08:03,913 - INFO - Downloaded logs_601fh332:v0 to /scratch/downloaded_artifacts/logs_601fh332:v0\n"
     ]
    },
    {
     "name": "stderr",
     "output_type": "stream",
     "text": [
      "\u001b[34m\u001b[1mwandb\u001b[0m:   1 of 1 files downloaded.  \n"
     ]
    },
    {
     "name": "stdout",
     "output_type": "stream",
     "text": [
      "2025-04-20 13:08:04,051 - INFO - Downloaded logs_nhwissjh:v0 to /scratch/downloaded_artifacts/logs_nhwissjh:v0\n"
     ]
    },
    {
     "name": "stderr",
     "output_type": "stream",
     "text": [
      "\u001b[34m\u001b[1mwandb\u001b[0m:   1 of 1 files downloaded.  \n",
      "\u001b[34m\u001b[1mwandb\u001b[0m:   1 of 1 files downloaded.  \n"
     ]
    },
    {
     "name": "stdout",
     "output_type": "stream",
     "text": [
      "2025-04-20 13:08:04,115 - INFO - Downloaded logs_m91ml7ld:v0 to /scratch/downloaded_artifacts/logs_m91ml7ld:v0\n",
      "2025-04-20 13:08:04,117 - INFO - Downloaded logs_r18dhs6y:v0 to /scratch/downloaded_artifacts/logs_r18dhs6y:v0\n"
     ]
    },
    {
     "name": "stderr",
     "output_type": "stream",
     "text": [
      "\u001b[34m\u001b[1mwandb\u001b[0m:   1 of 1 files downloaded.  \n"
     ]
    },
    {
     "name": "stdout",
     "output_type": "stream",
     "text": [
      "2025-04-20 13:08:04,227 - INFO - Downloaded logs_zu1qbhp3:v0 to /scratch/downloaded_artifacts/logs_zu1qbhp3:v0\n"
     ]
    },
    {
     "name": "stderr",
     "output_type": "stream",
     "text": [
      "\u001b[34m\u001b[1mwandb\u001b[0m:   1 of 1 files downloaded.  \n"
     ]
    },
    {
     "name": "stdout",
     "output_type": "stream",
     "text": [
      "2025-04-20 13:08:04,271 - INFO - Downloaded logs_uv05l25a:v0 to /scratch/downloaded_artifacts/logs_uv05l25a:v0\n"
     ]
    },
    {
     "name": "stderr",
     "output_type": "stream",
     "text": [
      "\u001b[34m\u001b[1mwandb\u001b[0m:   1 of 1 files downloaded.  \n"
     ]
    },
    {
     "name": "stdout",
     "output_type": "stream",
     "text": [
      "2025-04-20 13:08:04,299 - INFO - Downloaded logs_nndvmswb:v0 to /scratch/downloaded_artifacts/logs_nndvmswb:v0\n"
     ]
    },
    {
     "name": "stderr",
     "output_type": "stream",
     "text": [
      "\u001b[34m\u001b[1mwandb\u001b[0m:   1 of 1 files downloaded.  \n"
     ]
    },
    {
     "name": "stdout",
     "output_type": "stream",
     "text": [
      "2025-04-20 13:08:04,356 - INFO - Downloaded logs_8zx0oteg:v0 to /scratch/downloaded_artifacts/logs_8zx0oteg:v0\n"
     ]
    },
    {
     "name": "stderr",
     "output_type": "stream",
     "text": [
      "\u001b[34m\u001b[1mwandb\u001b[0m:   1 of 1 files downloaded.  \n"
     ]
    },
    {
     "name": "stdout",
     "output_type": "stream",
     "text": [
      "2025-04-20 13:08:04,431 - INFO - Downloaded logs_noyscbry:v0 to /scratch/downloaded_artifacts/logs_noyscbry:v0\n"
     ]
    },
    {
     "name": "stderr",
     "output_type": "stream",
     "text": [
      "\u001b[34m\u001b[1mwandb\u001b[0m:   1 of 1 files downloaded.  \n"
     ]
    },
    {
     "name": "stdout",
     "output_type": "stream",
     "text": [
      "2025-04-20 13:08:04,436 - INFO - Downloaded logs_tkwl2ui1:v0 to /scratch/downloaded_artifacts/logs_tkwl2ui1:v0\n"
     ]
    },
    {
     "name": "stderr",
     "output_type": "stream",
     "text": [
      "\u001b[34m\u001b[1mwandb\u001b[0m:   1 of 1 files downloaded.  \n"
     ]
    },
    {
     "name": "stdout",
     "output_type": "stream",
     "text": [
      "2025-04-20 13:08:04,462 - INFO - Downloaded logs_162m8bga:v0 to /scratch/downloaded_artifacts/logs_162m8bga:v0\n"
     ]
    },
    {
     "name": "stderr",
     "output_type": "stream",
     "text": [
      "\u001b[34m\u001b[1mwandb\u001b[0m:   1 of 1 files downloaded.  \n"
     ]
    },
    {
     "name": "stdout",
     "output_type": "stream",
     "text": [
      "2025-04-20 13:08:04,641 - INFO - Downloaded logs_1taf0i2q:v0 to /scratch/downloaded_artifacts/logs_1taf0i2q:v0\n"
     ]
    },
    {
     "name": "stderr",
     "output_type": "stream",
     "text": [
      "\u001b[34m\u001b[1mwandb\u001b[0m:   1 of 1 files downloaded.  \n"
     ]
    },
    {
     "name": "stdout",
     "output_type": "stream",
     "text": [
      "2025-04-20 13:08:04,757 - INFO - Downloaded logs_42vdhfui:v0 to /scratch/downloaded_artifacts/logs_42vdhfui:v0\n"
     ]
    },
    {
     "name": "stderr",
     "output_type": "stream",
     "text": [
      "\u001b[34m\u001b[1mwandb\u001b[0m:   1 of 1 files downloaded.  \n"
     ]
    },
    {
     "name": "stdout",
     "output_type": "stream",
     "text": [
      "2025-04-20 13:08:04,865 - INFO - Downloaded logs_apg8k5s6:v0 to /scratch/downloaded_artifacts/logs_apg8k5s6:v0\n"
     ]
    },
    {
     "name": "stderr",
     "output_type": "stream",
     "text": [
      "\u001b[34m\u001b[1mwandb\u001b[0m:   1 of 1 files downloaded.  \n"
     ]
    },
    {
     "name": "stdout",
     "output_type": "stream",
     "text": [
      "2025-04-20 13:08:04,951 - INFO - Downloaded logs_ciyk9ue2:v0 to /scratch/downloaded_artifacts/logs_ciyk9ue2:v0\n"
     ]
    },
    {
     "name": "stderr",
     "output_type": "stream",
     "text": [
      "\u001b[34m\u001b[1mwandb\u001b[0m:   1 of 1 files downloaded.  \n"
     ]
    },
    {
     "name": "stdout",
     "output_type": "stream",
     "text": [
      "2025-04-20 13:08:04,958 - INFO - Downloaded logs_je11l6u6:v0 to /scratch/downloaded_artifacts/logs_je11l6u6:v0\n"
     ]
    },
    {
     "name": "stderr",
     "output_type": "stream",
     "text": [
      "\u001b[34m\u001b[1mwandb\u001b[0m:   1 of 1 files downloaded.  \n"
     ]
    },
    {
     "name": "stdout",
     "output_type": "stream",
     "text": [
      "2025-04-20 13:08:05,074 - INFO - Downloaded logs_jrdc2jfq:v0 to /scratch/downloaded_artifacts/logs_jrdc2jfq:v0\n"
     ]
    },
    {
     "name": "stderr",
     "output_type": "stream",
     "text": [
      "\u001b[34m\u001b[1mwandb\u001b[0m:   1 of 1 files downloaded.  \n"
     ]
    },
    {
     "name": "stdout",
     "output_type": "stream",
     "text": [
      "2025-04-20 13:08:05,095 - INFO - Downloaded logs_jryozqmh:v0 to /scratch/downloaded_artifacts/logs_jryozqmh:v0\n"
     ]
    },
    {
     "name": "stderr",
     "output_type": "stream",
     "text": [
      "\u001b[34m\u001b[1mwandb\u001b[0m:   1 of 1 files downloaded.  \n"
     ]
    },
    {
     "name": "stdout",
     "output_type": "stream",
     "text": [
      "2025-04-20 13:08:05,111 - INFO - Downloaded logs_olht3cdw:v0 to /scratch/downloaded_artifacts/logs_olht3cdw:v0\n"
     ]
    },
    {
     "name": "stderr",
     "output_type": "stream",
     "text": [
      "\u001b[34m\u001b[1mwandb\u001b[0m:   1 of 1 files downloaded.  \n"
     ]
    },
    {
     "name": "stdout",
     "output_type": "stream",
     "text": [
      "2025-04-20 13:08:05,142 - INFO - Downloaded logs_tg5ncho8:v0 to /scratch/downloaded_artifacts/logs_tg5ncho8:v0\n"
     ]
    },
    {
     "name": "stderr",
     "output_type": "stream",
     "text": [
      "\u001b[34m\u001b[1mwandb\u001b[0m:   1 of 1 files downloaded.  \n"
     ]
    },
    {
     "name": "stdout",
     "output_type": "stream",
     "text": [
      "2025-04-20 13:08:05,231 - INFO - Downloaded logs_soxp84ba:v0 to /scratch/downloaded_artifacts/logs_soxp84ba:v0\n"
     ]
    },
    {
     "name": "stderr",
     "output_type": "stream",
     "text": [
      "\u001b[34m\u001b[1mwandb\u001b[0m:   1 of 1 files downloaded.  \n"
     ]
    },
    {
     "name": "stdout",
     "output_type": "stream",
     "text": [
      "2025-04-20 13:08:05,470 - INFO - Downloaded logs_wgushw31:v0 to /scratch/downloaded_artifacts/logs_wgushw31:v0\n"
     ]
    },
    {
     "name": "stderr",
     "output_type": "stream",
     "text": [
      "\u001b[34m\u001b[1mwandb\u001b[0m:   1 of 1 files downloaded.  \n"
     ]
    },
    {
     "name": "stdout",
     "output_type": "stream",
     "text": [
      "2025-04-20 13:08:05,492 - INFO - Downloaded logs_w8imrrs0:v0 to /scratch/downloaded_artifacts/logs_w8imrrs0:v0\n"
     ]
    },
    {
     "name": "stderr",
     "output_type": "stream",
     "text": [
      "\u001b[34m\u001b[1mwandb\u001b[0m:   1 of 1 files downloaded.  \n"
     ]
    },
    {
     "name": "stdout",
     "output_type": "stream",
     "text": [
      "2025-04-20 13:08:05,611 - INFO - Downloaded logs_uxc4e2m5:v0 to /scratch/downloaded_artifacts/logs_uxc4e2m5:v0\n"
     ]
    },
    {
     "name": "stderr",
     "output_type": "stream",
     "text": [
      "\u001b[34m\u001b[1mwandb\u001b[0m:   1 of 1 files downloaded.  \n"
     ]
    },
    {
     "name": "stdout",
     "output_type": "stream",
     "text": [
      "2025-04-20 13:08:05,656 - INFO - Downloaded logs_xk0nay0d:v0 to /scratch/downloaded_artifacts/logs_xk0nay0d:v0\n"
     ]
    },
    {
     "name": "stderr",
     "output_type": "stream",
     "text": [
      "\u001b[34m\u001b[1mwandb\u001b[0m:   1 of 1 files downloaded.  \n"
     ]
    },
    {
     "name": "stdout",
     "output_type": "stream",
     "text": [
      "2025-04-20 13:08:05,794 - INFO - Downloaded logs_y2is85s8:v0 to /scratch/downloaded_artifacts/logs_y2is85s8:v0\n"
     ]
    },
    {
     "name": "stderr",
     "output_type": "stream",
     "text": [
      "\u001b[34m\u001b[1mwandb\u001b[0m:   1 of 1 files downloaded.  \n"
     ]
    },
    {
     "name": "stdout",
     "output_type": "stream",
     "text": [
      "2025-04-20 13:08:05,809 - INFO - Downloaded logs_e944ozgi:v0 to /scratch/downloaded_artifacts/logs_e944ozgi:v0\n"
     ]
    },
    {
     "name": "stderr",
     "output_type": "stream",
     "text": [
      "\u001b[34m\u001b[1mwandb\u001b[0m:   1 of 1 files downloaded.  \n"
     ]
    },
    {
     "name": "stdout",
     "output_type": "stream",
     "text": [
      "2025-04-20 13:08:05,836 - INFO - Downloaded logs_78xarzoy:v0 to /scratch/downloaded_artifacts/logs_78xarzoy:v0\n"
     ]
    },
    {
     "name": "stderr",
     "output_type": "stream",
     "text": [
      "\u001b[34m\u001b[1mwandb\u001b[0m:   1 of 1 files downloaded.  \n",
      "\u001b[34m\u001b[1mwandb\u001b[0m:   1 of 1 files downloaded.  \n"
     ]
    },
    {
     "name": "stdout",
     "output_type": "stream",
     "text": [
      "2025-04-20 13:08:05,930 - INFO - Downloaded logs_2cxrdkd6:v0 to /scratch/downloaded_artifacts/logs_2cxrdkd6:v0\n",
      "2025-04-20 13:08:05,930 - INFO - Downloaded logs_b7ir0y5r:v0 to /scratch/downloaded_artifacts/logs_b7ir0y5r:v0\n"
     ]
    },
    {
     "name": "stderr",
     "output_type": "stream",
     "text": [
      "\u001b[34m\u001b[1mwandb\u001b[0m:   1 of 1 files downloaded.  \n"
     ]
    },
    {
     "name": "stdout",
     "output_type": "stream",
     "text": [
      "2025-04-20 13:08:06,033 - INFO - Downloaded logs_oakmdje0:v0 to /scratch/downloaded_artifacts/logs_oakmdje0:v0\n"
     ]
    },
    {
     "name": "stderr",
     "output_type": "stream",
     "text": [
      "\u001b[34m\u001b[1mwandb\u001b[0m:   1 of 1 files downloaded.  \n"
     ]
    },
    {
     "name": "stdout",
     "output_type": "stream",
     "text": [
      "2025-04-20 13:08:06,051 - INFO - Downloaded logs_f36d07y7:v0 to /scratch/downloaded_artifacts/logs_f36d07y7:v0\n"
     ]
    },
    {
     "name": "stderr",
     "output_type": "stream",
     "text": [
      "\u001b[34m\u001b[1mwandb\u001b[0m:   1 of 1 files downloaded.  \n"
     ]
    },
    {
     "name": "stdout",
     "output_type": "stream",
     "text": [
      "2025-04-20 13:08:06,063 - INFO - Downloaded logs_ehemg57q:v0 to /scratch/downloaded_artifacts/logs_ehemg57q:v0\n"
     ]
    },
    {
     "name": "stderr",
     "output_type": "stream",
     "text": [
      "\u001b[34m\u001b[1mwandb\u001b[0m:   1 of 1 files downloaded.  \n"
     ]
    },
    {
     "name": "stdout",
     "output_type": "stream",
     "text": [
      "2025-04-20 13:08:06,176 - INFO - Downloaded logs_lqi5jx92:v0 to /scratch/downloaded_artifacts/logs_lqi5jx92:v0\n"
     ]
    },
    {
     "name": "stderr",
     "output_type": "stream",
     "text": [
      "\u001b[34m\u001b[1mwandb\u001b[0m:   1 of 1 files downloaded.  \n"
     ]
    },
    {
     "name": "stdout",
     "output_type": "stream",
     "text": [
      "2025-04-20 13:08:06,321 - INFO - Downloaded logs_7mvri2hh:v0 to /scratch/downloaded_artifacts/logs_7mvri2hh:v0\n"
     ]
    },
    {
     "name": "stderr",
     "output_type": "stream",
     "text": [
      "\u001b[34m\u001b[1mwandb\u001b[0m:   1 of 1 files downloaded.  \n"
     ]
    },
    {
     "name": "stdout",
     "output_type": "stream",
     "text": [
      "2025-04-20 13:08:06,426 - INFO - Downloaded logs_cjn68kw4:v0 to /scratch/downloaded_artifacts/logs_cjn68kw4:v0\n"
     ]
    },
    {
     "name": "stderr",
     "output_type": "stream",
     "text": [
      "\u001b[34m\u001b[1mwandb\u001b[0m:   1 of 1 files downloaded.  \n"
     ]
    },
    {
     "name": "stdout",
     "output_type": "stream",
     "text": [
      "2025-04-20 13:08:06,451 - INFO - Downloaded logs_uxt2aroj:v0 to /scratch/downloaded_artifacts/logs_uxt2aroj:v0\n"
     ]
    },
    {
     "name": "stderr",
     "output_type": "stream",
     "text": [
      "\u001b[34m\u001b[1mwandb\u001b[0m:   1 of 1 files downloaded.  \n"
     ]
    },
    {
     "name": "stdout",
     "output_type": "stream",
     "text": [
      "2025-04-20 13:08:06,534 - INFO - Downloaded logs_htrd27am:v0 to /scratch/downloaded_artifacts/logs_htrd27am:v0\n"
     ]
    },
    {
     "name": "stderr",
     "output_type": "stream",
     "text": [
      "\u001b[34m\u001b[1mwandb\u001b[0m:   1 of 1 files downloaded.  \n"
     ]
    },
    {
     "name": "stdout",
     "output_type": "stream",
     "text": [
      "2025-04-20 13:08:06,600 - INFO - Downloaded logs_x2xthvrt:v0 to /scratch/downloaded_artifacts/logs_x2xthvrt:v0\n"
     ]
    },
    {
     "name": "stderr",
     "output_type": "stream",
     "text": [
      "\u001b[34m\u001b[1mwandb\u001b[0m:   1 of 1 files downloaded.  \n"
     ]
    },
    {
     "name": "stdout",
     "output_type": "stream",
     "text": [
      "2025-04-20 13:08:06,627 - INFO - Downloaded logs_y64c3esg:v0 to /scratch/downloaded_artifacts/logs_y64c3esg:v0\n"
     ]
    },
    {
     "name": "stderr",
     "output_type": "stream",
     "text": [
      "\u001b[34m\u001b[1mwandb\u001b[0m:   1 of 1 files downloaded.  \n"
     ]
    },
    {
     "name": "stdout",
     "output_type": "stream",
     "text": [
      "2025-04-20 13:08:06,703 - INFO - Downloaded logs_cp3b1w0p:v0 to /scratch/downloaded_artifacts/logs_cp3b1w0p:v0\n"
     ]
    },
    {
     "name": "stderr",
     "output_type": "stream",
     "text": [
      "\u001b[34m\u001b[1mwandb\u001b[0m:   1 of 1 files downloaded.  \n"
     ]
    },
    {
     "name": "stdout",
     "output_type": "stream",
     "text": [
      "2025-04-20 13:08:06,741 - INFO - Downloaded logs_ne7akt7j:v0 to /scratch/downloaded_artifacts/logs_ne7akt7j:v0\n"
     ]
    },
    {
     "name": "stderr",
     "output_type": "stream",
     "text": [
      "\u001b[34m\u001b[1mwandb\u001b[0m:   1 of 1 files downloaded.  \n"
     ]
    },
    {
     "name": "stdout",
     "output_type": "stream",
     "text": [
      "2025-04-20 13:08:06,761 - INFO - Downloaded logs_l6m7dmjc:v0 to /scratch/downloaded_artifacts/logs_l6m7dmjc:v0\n"
     ]
    },
    {
     "name": "stderr",
     "output_type": "stream",
     "text": [
      "\u001b[34m\u001b[1mwandb\u001b[0m:   1 of 1 files downloaded.  \n"
     ]
    },
    {
     "name": "stdout",
     "output_type": "stream",
     "text": [
      "2025-04-20 13:08:06,931 - INFO - Downloaded logs_08ru6bt1:v0 to /scratch/downloaded_artifacts/logs_08ru6bt1:v0\n"
     ]
    },
    {
     "name": "stderr",
     "output_type": "stream",
     "text": [
      "\u001b[34m\u001b[1mwandb\u001b[0m:   1 of 1 files downloaded.  \n"
     ]
    },
    {
     "name": "stdout",
     "output_type": "stream",
     "text": [
      "2025-04-20 13:08:07,142 - INFO - Downloaded logs_thaoyagn:v0 to /scratch/downloaded_artifacts/logs_thaoyagn:v0\n"
     ]
    },
    {
     "name": "stderr",
     "output_type": "stream",
     "text": [
      "\u001b[34m\u001b[1mwandb\u001b[0m:   1 of 1 files downloaded.  \n"
     ]
    },
    {
     "name": "stdout",
     "output_type": "stream",
     "text": [
      "2025-04-20 13:08:07,204 - INFO - Downloaded logs_zc9dvsnh:v0 to /scratch/downloaded_artifacts/logs_zc9dvsnh:v0\n"
     ]
    },
    {
     "name": "stderr",
     "output_type": "stream",
     "text": [
      "\u001b[34m\u001b[1mwandb\u001b[0m:   1 of 1 files downloaded.  \n"
     ]
    },
    {
     "name": "stdout",
     "output_type": "stream",
     "text": [
      "2025-04-20 13:08:07,253 - INFO - Downloaded logs_g21bbh0f:v0 to /scratch/downloaded_artifacts/logs_g21bbh0f:v0\n"
     ]
    },
    {
     "name": "stderr",
     "output_type": "stream",
     "text": [
      "\u001b[34m\u001b[1mwandb\u001b[0m:   1 of 1 files downloaded.  \n"
     ]
    },
    {
     "name": "stdout",
     "output_type": "stream",
     "text": [
      "2025-04-20 13:08:07,326 - INFO - Downloaded logs_klc4dznn:v0 to /scratch/downloaded_artifacts/logs_klc4dznn:v0\n"
     ]
    },
    {
     "name": "stderr",
     "output_type": "stream",
     "text": [
      "\u001b[34m\u001b[1mwandb\u001b[0m:   1 of 1 files downloaded.  \n"
     ]
    },
    {
     "name": "stdout",
     "output_type": "stream",
     "text": [
      "2025-04-20 13:08:07,351 - INFO - Downloaded logs_gb3jnlgi:v0 to /scratch/downloaded_artifacts/logs_gb3jnlgi:v0\n"
     ]
    },
    {
     "name": "stderr",
     "output_type": "stream",
     "text": [
      "\u001b[34m\u001b[1mwandb\u001b[0m:   1 of 1 files downloaded.  \n"
     ]
    },
    {
     "name": "stdout",
     "output_type": "stream",
     "text": [
      "2025-04-20 13:08:07,527 - INFO - Downloaded logs_wefw571z:v0 to /scratch/downloaded_artifacts/logs_wefw571z:v0\n"
     ]
    },
    {
     "name": "stderr",
     "output_type": "stream",
     "text": [
      "\u001b[34m\u001b[1mwandb\u001b[0m:   1 of 1 files downloaded.  \n"
     ]
    },
    {
     "name": "stdout",
     "output_type": "stream",
     "text": [
      "2025-04-20 13:08:07,552 - INFO - Downloaded logs_egz7tzed:v0 to /scratch/downloaded_artifacts/logs_egz7tzed:v0\n"
     ]
    },
    {
     "name": "stderr",
     "output_type": "stream",
     "text": [
      "\u001b[34m\u001b[1mwandb\u001b[0m:   1 of 1 files downloaded.  \n"
     ]
    },
    {
     "name": "stdout",
     "output_type": "stream",
     "text": [
      "2025-04-20 13:08:07,561 - INFO - Downloaded logs_up79r8o7:v0 to /scratch/downloaded_artifacts/logs_up79r8o7:v0\n"
     ]
    },
    {
     "name": "stderr",
     "output_type": "stream",
     "text": [
      "\u001b[34m\u001b[1mwandb\u001b[0m:   1 of 1 files downloaded.  \n"
     ]
    },
    {
     "name": "stdout",
     "output_type": "stream",
     "text": [
      "2025-04-20 13:08:07,791 - INFO - Downloaded logs_1rm66qzz:v0 to /scratch/downloaded_artifacts/logs_1rm66qzz:v0\n"
     ]
    },
    {
     "name": "stderr",
     "output_type": "stream",
     "text": [
      "\u001b[34m\u001b[1mwandb\u001b[0m:   1 of 1 files downloaded.  \n"
     ]
    },
    {
     "name": "stdout",
     "output_type": "stream",
     "text": [
      "2025-04-20 13:08:07,909 - INFO - Downloaded logs_9whinx2z:v0 to /scratch/downloaded_artifacts/logs_9whinx2z:v0\n"
     ]
    },
    {
     "name": "stderr",
     "output_type": "stream",
     "text": [
      "\u001b[34m\u001b[1mwandb\u001b[0m:   1 of 1 files downloaded.  \n"
     ]
    },
    {
     "name": "stdout",
     "output_type": "stream",
     "text": [
      "2025-04-20 13:08:07,928 - INFO - Downloaded logs_wpbg5jh0:v0 to /scratch/downloaded_artifacts/logs_wpbg5jh0:v0\n"
     ]
    },
    {
     "name": "stderr",
     "output_type": "stream",
     "text": [
      "\u001b[34m\u001b[1mwandb\u001b[0m:   1 of 1 files downloaded.  \n"
     ]
    },
    {
     "name": "stdout",
     "output_type": "stream",
     "text": [
      "2025-04-20 13:08:07,944 - INFO - Downloaded logs_6qpk4cgr:v0 to /scratch/downloaded_artifacts/logs_6qpk4cgr:v0\n"
     ]
    },
    {
     "name": "stderr",
     "output_type": "stream",
     "text": [
      "\u001b[34m\u001b[1mwandb\u001b[0m:   1 of 1 files downloaded.  \n",
      "\u001b[34m\u001b[1mwandb\u001b[0m:   1 of 1 files downloaded.  \n"
     ]
    },
    {
     "name": "stdout",
     "output_type": "stream",
     "text": [
      "2025-04-20 13:08:07,992 - INFO - Downloaded logs_bzwekdi2:v0 to /scratch/downloaded_artifacts/logs_bzwekdi2:v0\n",
      "2025-04-20 13:08:07,994 - INFO - Downloaded logs_uqw28clg:v0 to /scratch/downloaded_artifacts/logs_uqw28clg:v0\n"
     ]
    },
    {
     "name": "stderr",
     "output_type": "stream",
     "text": [
      "\u001b[34m\u001b[1mwandb\u001b[0m:   1 of 1 files downloaded.  \n"
     ]
    },
    {
     "name": "stdout",
     "output_type": "stream",
     "text": [
      "2025-04-20 13:08:08,194 - INFO - Downloaded logs_xjfjdyhx:v0 to /scratch/downloaded_artifacts/logs_xjfjdyhx:v0\n"
     ]
    },
    {
     "name": "stderr",
     "output_type": "stream",
     "text": [
      "\u001b[34m\u001b[1mwandb\u001b[0m:   1 of 1 files downloaded.  \n",
      "\u001b[34m\u001b[1mwandb\u001b[0m:   1 of 1 files downloaded.  \n"
     ]
    },
    {
     "name": "stdout",
     "output_type": "stream",
     "text": [
      "2025-04-20 13:08:08,256 - INFO - Downloaded logs_jagdbm50:v0 to /scratch/downloaded_artifacts/logs_jagdbm50:v0\n",
      "2025-04-20 13:08:08,258 - INFO - Downloaded logs_usacmvz7:v0 to /scratch/downloaded_artifacts/logs_usacmvz7:v0\n"
     ]
    },
    {
     "name": "stderr",
     "output_type": "stream",
     "text": [
      "\u001b[34m\u001b[1mwandb\u001b[0m:   1 of 1 files downloaded.  \n"
     ]
    },
    {
     "name": "stdout",
     "output_type": "stream",
     "text": [
      "2025-04-20 13:08:08,276 - INFO - Downloaded logs_ksli5l5l:v0 to /scratch/downloaded_artifacts/logs_ksli5l5l:v0\n"
     ]
    },
    {
     "name": "stderr",
     "output_type": "stream",
     "text": [
      "\u001b[34m\u001b[1mwandb\u001b[0m:   1 of 1 files downloaded.  \n"
     ]
    },
    {
     "name": "stdout",
     "output_type": "stream",
     "text": [
      "2025-04-20 13:08:08,328 - INFO - Downloaded logs_bf3ydg75:v0 to /scratch/downloaded_artifacts/logs_bf3ydg75:v0\n"
     ]
    },
    {
     "name": "stderr",
     "output_type": "stream",
     "text": [
      "\u001b[34m\u001b[1mwandb\u001b[0m:   1 of 1 files downloaded.  \n"
     ]
    },
    {
     "name": "stdout",
     "output_type": "stream",
     "text": [
      "2025-04-20 13:08:08,492 - INFO - Downloaded logs_o3hrbpkd:v0 to /scratch/downloaded_artifacts/logs_o3hrbpkd:v0\n"
     ]
    },
    {
     "name": "stderr",
     "output_type": "stream",
     "text": [
      "\u001b[34m\u001b[1mwandb\u001b[0m:   1 of 1 files downloaded.  \n"
     ]
    },
    {
     "name": "stdout",
     "output_type": "stream",
     "text": [
      "2025-04-20 13:08:08,671 - INFO - Downloaded logs_xh29e5bm:v0 to /scratch/downloaded_artifacts/logs_xh29e5bm:v0\n"
     ]
    },
    {
     "name": "stderr",
     "output_type": "stream",
     "text": [
      "\u001b[34m\u001b[1mwandb\u001b[0m:   1 of 1 files downloaded.  \n"
     ]
    },
    {
     "name": "stdout",
     "output_type": "stream",
     "text": [
      "2025-04-20 13:08:08,680 - INFO - Downloaded logs_9b7mmiah:v0 to /scratch/downloaded_artifacts/logs_9b7mmiah:v0\n"
     ]
    },
    {
     "name": "stderr",
     "output_type": "stream",
     "text": [
      "\u001b[34m\u001b[1mwandb\u001b[0m:   1 of 1 files downloaded.  \n"
     ]
    },
    {
     "name": "stdout",
     "output_type": "stream",
     "text": [
      "2025-04-20 13:08:08,891 - INFO - Downloaded logs_inerylvx:v0 to /scratch/downloaded_artifacts/logs_inerylvx:v0\n"
     ]
    },
    {
     "name": "stderr",
     "output_type": "stream",
     "text": [
      "\u001b[34m\u001b[1mwandb\u001b[0m:   1 of 1 files downloaded.  \n"
     ]
    },
    {
     "name": "stdout",
     "output_type": "stream",
     "text": [
      "2025-04-20 13:08:08,908 - INFO - Downloaded logs_iaqkwhrs:v0 to /scratch/downloaded_artifacts/logs_iaqkwhrs:v0\n"
     ]
    },
    {
     "name": "stderr",
     "output_type": "stream",
     "text": [
      "\u001b[34m\u001b[1mwandb\u001b[0m:   1 of 1 files downloaded.  \n"
     ]
    },
    {
     "name": "stdout",
     "output_type": "stream",
     "text": [
      "2025-04-20 13:08:09,177 - INFO - Downloaded logs_6l9r82gi:v0 to /scratch/downloaded_artifacts/logs_6l9r82gi:v0\n"
     ]
    },
    {
     "name": "stderr",
     "output_type": "stream",
     "text": [
      "\u001b[34m\u001b[1mwandb\u001b[0m:   1 of 1 files downloaded.  \n"
     ]
    },
    {
     "name": "stdout",
     "output_type": "stream",
     "text": [
      "2025-04-20 13:08:09,226 - INFO - Downloaded logs_5h8tcw95:v0 to /scratch/downloaded_artifacts/logs_5h8tcw95:v0\n"
     ]
    },
    {
     "name": "stderr",
     "output_type": "stream",
     "text": [
      "\u001b[34m\u001b[1mwandb\u001b[0m:   1 of 1 files downloaded.  \n"
     ]
    },
    {
     "name": "stdout",
     "output_type": "stream",
     "text": [
      "2025-04-20 13:08:09,268 - INFO - Downloaded logs_qhs3hg33:v0 to /scratch/downloaded_artifacts/logs_qhs3hg33:v0\n"
     ]
    },
    {
     "name": "stderr",
     "output_type": "stream",
     "text": [
      "\u001b[34m\u001b[1mwandb\u001b[0m:   1 of 1 files downloaded.  \n"
     ]
    },
    {
     "name": "stdout",
     "output_type": "stream",
     "text": [
      "2025-04-20 13:08:09,304 - INFO - Downloaded logs_y1uf1aj1:v0 to /scratch/downloaded_artifacts/logs_y1uf1aj1:v0\n"
     ]
    },
    {
     "name": "stderr",
     "output_type": "stream",
     "text": [
      "\u001b[34m\u001b[1mwandb\u001b[0m: \u001b[32m\u001b[41mERROR\u001b[0m Error while calling W&B API: rate limit exceeded (<Response [429]>)\n",
      "\u001b[34m\u001b[1mwandb\u001b[0m: \u001b[32m\u001b[41mERROR\u001b[0m Error while calling W&B API: rate limit exceeded (<Response [429]>)\n",
      "\u001b[34m\u001b[1mwandb\u001b[0m:   1 of 1 files downloaded.  \n",
      "\u001b[34m\u001b[1mwandb\u001b[0m:   1 of 1 files downloaded.  \n"
     ]
    },
    {
     "name": "stdout",
     "output_type": "stream",
     "text": [
      "2025-04-20 13:08:09,485 - INFO - Downloaded logs_0mf2g1wt:v0 to /scratch/downloaded_artifacts/logs_0mf2g1wt:v0\n",
      "2025-04-20 13:08:09,485 - INFO - Downloaded logs_gjlrbluf:v0 to /scratch/downloaded_artifacts/logs_gjlrbluf:v0\n"
     ]
    },
    {
     "name": "stderr",
     "output_type": "stream",
     "text": [
      "\u001b[34m\u001b[1mwandb\u001b[0m:   1 of 1 files downloaded.  \n"
     ]
    },
    {
     "name": "stdout",
     "output_type": "stream",
     "text": [
      "2025-04-20 13:08:09,562 - INFO - Downloaded logs_va5uvapg:v0 to /scratch/downloaded_artifacts/logs_va5uvapg:v0\n"
     ]
    },
    {
     "name": "stderr",
     "output_type": "stream",
     "text": [
      "\u001b[34m\u001b[1mwandb\u001b[0m:   1 of 1 files downloaded.  \n"
     ]
    },
    {
     "name": "stdout",
     "output_type": "stream",
     "text": [
      "2025-04-20 13:08:09,573 - INFO - Downloaded logs_vt9v04rk:v0 to /scratch/downloaded_artifacts/logs_vt9v04rk:v0\n"
     ]
    },
    {
     "name": "stderr",
     "output_type": "stream",
     "text": [
      "\u001b[34m\u001b[1mwandb\u001b[0m:   1 of 1 files downloaded.  \n"
     ]
    },
    {
     "name": "stdout",
     "output_type": "stream",
     "text": [
      "2025-04-20 13:08:09,613 - INFO - Downloaded logs_p5zs6m3g:v0 to /scratch/downloaded_artifacts/logs_p5zs6m3g:v0\n"
     ]
    },
    {
     "name": "stderr",
     "output_type": "stream",
     "text": [
      "\u001b[34m\u001b[1mwandb\u001b[0m:   1 of 1 files downloaded.  \n"
     ]
    },
    {
     "name": "stdout",
     "output_type": "stream",
     "text": [
      "2025-04-20 13:08:09,627 - INFO - Downloaded logs_216y3ac8:v0 to /scratch/downloaded_artifacts/logs_216y3ac8:v0\n"
     ]
    },
    {
     "name": "stderr",
     "output_type": "stream",
     "text": [
      "\u001b[34m\u001b[1mwandb\u001b[0m: \u001b[32m\u001b[41mERROR\u001b[0m Error while calling W&B API: rate limit exceeded (<Response [429]>)\n",
      "\u001b[34m\u001b[1mwandb\u001b[0m:   1 of 1 files downloaded.  \n"
     ]
    },
    {
     "name": "stdout",
     "output_type": "stream",
     "text": [
      "2025-04-20 13:08:09,747 - INFO - Downloaded logs_99pwdmwp:v0 to /scratch/downloaded_artifacts/logs_99pwdmwp:v0\n"
     ]
    },
    {
     "name": "stderr",
     "output_type": "stream",
     "text": [
      "\u001b[34m\u001b[1mwandb\u001b[0m:   1 of 1 files downloaded.  \n"
     ]
    },
    {
     "name": "stdout",
     "output_type": "stream",
     "text": [
      "2025-04-20 13:08:09,777 - INFO - Downloaded logs_ipv23hxf:v0 to /scratch/downloaded_artifacts/logs_ipv23hxf:v0\n"
     ]
    },
    {
     "name": "stderr",
     "output_type": "stream",
     "text": [
      "\u001b[34m\u001b[1mwandb\u001b[0m:   1 of 1 files downloaded.  \n"
     ]
    },
    {
     "name": "stdout",
     "output_type": "stream",
     "text": [
      "2025-04-20 13:08:09,781 - INFO - Downloaded logs_9rde311v:v0 to /scratch/downloaded_artifacts/logs_9rde311v:v0\n"
     ]
    },
    {
     "name": "stderr",
     "output_type": "stream",
     "text": [
      "\u001b[34m\u001b[1mwandb\u001b[0m:   1 of 1 files downloaded.  \n"
     ]
    },
    {
     "name": "stdout",
     "output_type": "stream",
     "text": [
      "2025-04-20 13:08:09,785 - INFO - Downloaded logs_xj6nb0zw:v0 to /scratch/downloaded_artifacts/logs_xj6nb0zw:v0\n"
     ]
    },
    {
     "name": "stderr",
     "output_type": "stream",
     "text": [
      "\u001b[34m\u001b[1mwandb\u001b[0m:   1 of 1 files downloaded.  \n"
     ]
    },
    {
     "name": "stdout",
     "output_type": "stream",
     "text": [
      "2025-04-20 13:08:09,802 - INFO - Downloaded logs_o62ei7rz:v0 to /scratch/downloaded_artifacts/logs_o62ei7rz:v0\n"
     ]
    },
    {
     "name": "stderr",
     "output_type": "stream",
     "text": [
      "\u001b[34m\u001b[1mwandb\u001b[0m:   1 of 1 files downloaded.  \n"
     ]
    },
    {
     "name": "stdout",
     "output_type": "stream",
     "text": [
      "2025-04-20 13:08:09,936 - INFO - Downloaded logs_4iricl4l:v0 to /scratch/downloaded_artifacts/logs_4iricl4l:v0\n"
     ]
    },
    {
     "name": "stderr",
     "output_type": "stream",
     "text": [
      "\u001b[34m\u001b[1mwandb\u001b[0m:   1 of 1 files downloaded.  \n"
     ]
    },
    {
     "name": "stdout",
     "output_type": "stream",
     "text": [
      "2025-04-20 13:08:09,941 - INFO - Downloaded logs_0lnwq0tz:v0 to /scratch/downloaded_artifacts/logs_0lnwq0tz:v0\n"
     ]
    },
    {
     "name": "stderr",
     "output_type": "stream",
     "text": [
      "\u001b[34m\u001b[1mwandb\u001b[0m:   1 of 1 files downloaded.  \n"
     ]
    },
    {
     "name": "stdout",
     "output_type": "stream",
     "text": [
      "2025-04-20 13:08:09,990 - INFO - Downloaded logs_1pltyu9c:v0 to /scratch/downloaded_artifacts/logs_1pltyu9c:v0\n"
     ]
    },
    {
     "name": "stderr",
     "output_type": "stream",
     "text": [
      "\u001b[34m\u001b[1mwandb\u001b[0m: \u001b[32m\u001b[41mERROR\u001b[0m Error while calling W&B API: rate limit exceeded (<Response [429]>)\n",
      "\u001b[34m\u001b[1mwandb\u001b[0m: \u001b[32m\u001b[41mERROR\u001b[0m Error while calling W&B API: rate limit exceeded (<Response [429]>)\n",
      "\u001b[34m\u001b[1mwandb\u001b[0m: \u001b[32m\u001b[41mERROR\u001b[0m Error while calling W&B API: rate limit exceeded (<Response [429]>)\n",
      "\u001b[34m\u001b[1mwandb\u001b[0m: \u001b[32m\u001b[41mERROR\u001b[0m Error while calling W&B API: rate limit exceeded (<Response [429]>)\n",
      "\u001b[34m\u001b[1mwandb\u001b[0m: Network error (HTTPError), entering retry loop.\n",
      "\u001b[34m\u001b[1mwandb\u001b[0m: \u001b[32m\u001b[41mERROR\u001b[0m Error while calling W&B API: rate limit exceeded (<Response [429]>)\n",
      "\u001b[34m\u001b[1mwandb\u001b[0m: Network error (HTTPError), entering retry loop.\n",
      "\u001b[34m\u001b[1mwandb\u001b[0m: \u001b[32m\u001b[41mERROR\u001b[0m Error while calling W&B API: rate limit exceeded (<Response [429]>)\n",
      "\u001b[34m\u001b[1mwandb\u001b[0m: Network error (HTTPError), entering retry loop.\n",
      "\u001b[34m\u001b[1mwandb\u001b[0m:   1 of 1 files downloaded.  \n"
     ]
    },
    {
     "name": "stdout",
     "output_type": "stream",
     "text": [
      "2025-04-20 13:08:17,895 - INFO - Downloaded logs_9eljvfzr:v0 to /scratch/downloaded_artifacts/logs_9eljvfzr:v0\n"
     ]
    },
    {
     "name": "stderr",
     "output_type": "stream",
     "text": [
      "\u001b[34m\u001b[1mwandb\u001b[0m:   1 of 1 files downloaded.  \n"
     ]
    },
    {
     "name": "stdout",
     "output_type": "stream",
     "text": [
      "2025-04-20 13:08:18,059 - INFO - Downloaded logs_8uiyjmg1:v0 to /scratch/downloaded_artifacts/logs_8uiyjmg1:v0\n"
     ]
    },
    {
     "name": "stderr",
     "output_type": "stream",
     "text": [
      "\u001b[34m\u001b[1mwandb\u001b[0m:   1 of 1 files downloaded.  \n"
     ]
    },
    {
     "name": "stdout",
     "output_type": "stream",
     "text": [
      "2025-04-20 13:08:18,142 - INFO - Downloaded logs_j59gdsg1:v0 to /scratch/downloaded_artifacts/logs_j59gdsg1:v0\n"
     ]
    },
    {
     "name": "stderr",
     "output_type": "stream",
     "text": [
      "\u001b[34m\u001b[1mwandb\u001b[0m:   1 of 1 files downloaded.  \n"
     ]
    },
    {
     "name": "stdout",
     "output_type": "stream",
     "text": [
      "2025-04-20 13:08:18,223 - INFO - Downloaded logs_7ga2uy7t:v0 to /scratch/downloaded_artifacts/logs_7ga2uy7t:v0\n"
     ]
    },
    {
     "name": "stderr",
     "output_type": "stream",
     "text": [
      "\u001b[34m\u001b[1mwandb\u001b[0m:   1 of 1 files downloaded.  \n"
     ]
    },
    {
     "name": "stdout",
     "output_type": "stream",
     "text": [
      "2025-04-20 13:08:18,406 - INFO - Downloaded logs_9jex871l:v0 to /scratch/downloaded_artifacts/logs_9jex871l:v0\n"
     ]
    },
    {
     "name": "stderr",
     "output_type": "stream",
     "text": [
      "\u001b[34m\u001b[1mwandb\u001b[0m:   1 of 1 files downloaded.  \n"
     ]
    },
    {
     "name": "stdout",
     "output_type": "stream",
     "text": [
      "2025-04-20 13:08:18,545 - INFO - Downloaded logs_z6dlndlg:v0 to /scratch/downloaded_artifacts/logs_z6dlndlg:v0\n"
     ]
    },
    {
     "name": "stderr",
     "output_type": "stream",
     "text": [
      "\u001b[34m\u001b[1mwandb\u001b[0m:   1 of 1 files downloaded.  \n"
     ]
    },
    {
     "name": "stdout",
     "output_type": "stream",
     "text": [
      "2025-04-20 13:08:18,737 - INFO - Downloaded logs_hodj0y1b:v0 to /scratch/downloaded_artifacts/logs_hodj0y1b:v0\n"
     ]
    },
    {
     "name": "stderr",
     "output_type": "stream",
     "text": [
      "\u001b[34m\u001b[1mwandb\u001b[0m:   1 of 1 files downloaded.  \n"
     ]
    },
    {
     "name": "stdout",
     "output_type": "stream",
     "text": [
      "2025-04-20 13:08:18,840 - INFO - Downloaded logs_4kjff7cv:v0 to /scratch/downloaded_artifacts/logs_4kjff7cv:v0\n"
     ]
    },
    {
     "name": "stderr",
     "output_type": "stream",
     "text": [
      "\u001b[34m\u001b[1mwandb\u001b[0m:   1 of 1 files downloaded.  \n"
     ]
    },
    {
     "name": "stdout",
     "output_type": "stream",
     "text": [
      "2025-04-20 13:08:18,884 - INFO - Downloaded logs_lcwoz6qe:v0 to /scratch/downloaded_artifacts/logs_lcwoz6qe:v0\n"
     ]
    },
    {
     "name": "stderr",
     "output_type": "stream",
     "text": [
      "\u001b[34m\u001b[1mwandb\u001b[0m:   1 of 1 files downloaded.  \n"
     ]
    },
    {
     "name": "stdout",
     "output_type": "stream",
     "text": [
      "2025-04-20 13:08:19,006 - INFO - Downloaded logs_dn2wjra4:v0 to /scratch/downloaded_artifacts/logs_dn2wjra4:v0\n"
     ]
    },
    {
     "name": "stderr",
     "output_type": "stream",
     "text": [
      "\u001b[34m\u001b[1mwandb\u001b[0m:   1 of 1 files downloaded.  \n"
     ]
    },
    {
     "name": "stdout",
     "output_type": "stream",
     "text": [
      "2025-04-20 13:08:19,098 - INFO - Downloaded logs_1sllqpnx:v0 to /scratch/downloaded_artifacts/logs_1sllqpnx:v0\n"
     ]
    },
    {
     "name": "stderr",
     "output_type": "stream",
     "text": [
      "\u001b[34m\u001b[1mwandb\u001b[0m:   1 of 1 files downloaded.  \n"
     ]
    },
    {
     "name": "stdout",
     "output_type": "stream",
     "text": [
      "2025-04-20 13:08:19,107 - INFO - Downloaded logs_r1aehi2d:v0 to /scratch/downloaded_artifacts/logs_r1aehi2d:v0\n"
     ]
    },
    {
     "name": "stderr",
     "output_type": "stream",
     "text": [
      "\u001b[34m\u001b[1mwandb\u001b[0m:   1 of 1 files downloaded.  \n"
     ]
    },
    {
     "name": "stdout",
     "output_type": "stream",
     "text": [
      "2025-04-20 13:08:19,169 - INFO - Downloaded logs_ukwvm4y4:v0 to /scratch/downloaded_artifacts/logs_ukwvm4y4:v0\n"
     ]
    },
    {
     "name": "stderr",
     "output_type": "stream",
     "text": [
      "\u001b[34m\u001b[1mwandb\u001b[0m:   1 of 1 files downloaded.  \n"
     ]
    },
    {
     "name": "stdout",
     "output_type": "stream",
     "text": [
      "2025-04-20 13:08:19,238 - INFO - Downloaded logs_9l54ienm:v0 to /scratch/downloaded_artifacts/logs_9l54ienm:v0\n"
     ]
    },
    {
     "name": "stderr",
     "output_type": "stream",
     "text": [
      "\u001b[34m\u001b[1mwandb\u001b[0m:   1 of 1 files downloaded.  \n"
     ]
    },
    {
     "name": "stdout",
     "output_type": "stream",
     "text": [
      "2025-04-20 13:08:19,288 - INFO - Downloaded logs_auhq7d2a:v0 to /scratch/downloaded_artifacts/logs_auhq7d2a:v0\n"
     ]
    },
    {
     "name": "stderr",
     "output_type": "stream",
     "text": [
      "\u001b[34m\u001b[1mwandb\u001b[0m:   1 of 1 files downloaded.  \n"
     ]
    },
    {
     "name": "stdout",
     "output_type": "stream",
     "text": [
      "2025-04-20 13:08:19,415 - INFO - Downloaded logs_aiml2ldx:v0 to /scratch/downloaded_artifacts/logs_aiml2ldx:v0\n"
     ]
    },
    {
     "name": "stderr",
     "output_type": "stream",
     "text": [
      "\u001b[34m\u001b[1mwandb\u001b[0m:   1 of 1 files downloaded.  \n"
     ]
    },
    {
     "name": "stdout",
     "output_type": "stream",
     "text": [
      "2025-04-20 13:08:19,583 - INFO - Downloaded logs_wkxryrzi:v0 to /scratch/downloaded_artifacts/logs_wkxryrzi:v0\n"
     ]
    },
    {
     "name": "stderr",
     "output_type": "stream",
     "text": [
      "\u001b[34m\u001b[1mwandb\u001b[0m:   1 of 1 files downloaded.  \n"
     ]
    },
    {
     "name": "stdout",
     "output_type": "stream",
     "text": [
      "2025-04-20 13:08:19,601 - INFO - Downloaded logs_4ufoigj9:v0 to /scratch/downloaded_artifacts/logs_4ufoigj9:v0\n"
     ]
    },
    {
     "name": "stderr",
     "output_type": "stream",
     "text": [
      "\u001b[34m\u001b[1mwandb\u001b[0m:   1 of 1 files downloaded.  \n"
     ]
    },
    {
     "name": "stdout",
     "output_type": "stream",
     "text": [
      "2025-04-20 13:08:19,638 - INFO - Downloaded logs_ovbmu9r7:v0 to /scratch/downloaded_artifacts/logs_ovbmu9r7:v0\n"
     ]
    },
    {
     "name": "stderr",
     "output_type": "stream",
     "text": [
      "\u001b[34m\u001b[1mwandb\u001b[0m:   1 of 1 files downloaded.  \n"
     ]
    },
    {
     "name": "stdout",
     "output_type": "stream",
     "text": [
      "2025-04-20 13:08:19,677 - INFO - Downloaded logs_bevp20lw:v0 to /scratch/downloaded_artifacts/logs_bevp20lw:v0\n"
     ]
    },
    {
     "name": "stderr",
     "output_type": "stream",
     "text": [
      "\u001b[34m\u001b[1mwandb\u001b[0m:   1 of 1 files downloaded.  \n"
     ]
    },
    {
     "name": "stdout",
     "output_type": "stream",
     "text": [
      "2025-04-20 13:08:19,742 - INFO - Downloaded logs_y82r54tv:v0 to /scratch/downloaded_artifacts/logs_y82r54tv:v0\n"
     ]
    },
    {
     "name": "stderr",
     "output_type": "stream",
     "text": [
      "\u001b[34m\u001b[1mwandb\u001b[0m:   1 of 1 files downloaded.  \n"
     ]
    },
    {
     "name": "stdout",
     "output_type": "stream",
     "text": [
      "2025-04-20 13:08:19,933 - INFO - Downloaded logs_645z656l:v0 to /scratch/downloaded_artifacts/logs_645z656l:v0\n"
     ]
    },
    {
     "name": "stderr",
     "output_type": "stream",
     "text": [
      "\u001b[34m\u001b[1mwandb\u001b[0m:   1 of 1 files downloaded.  \n",
      "\u001b[34m\u001b[1mwandb\u001b[0m:   1 of 1 files downloaded.  \n"
     ]
    },
    {
     "name": "stdout",
     "output_type": "stream",
     "text": [
      "2025-04-20 13:08:20,177 - INFO - Downloaded logs_dnfw1u91:v0 to /scratch/downloaded_artifacts/logs_dnfw1u91:v0\n",
      "2025-04-20 13:08:20,178 - INFO - Downloaded logs_p38p6nvl:v0 to /scratch/downloaded_artifacts/logs_p38p6nvl:v0\n"
     ]
    },
    {
     "name": "stderr",
     "output_type": "stream",
     "text": [
      "\u001b[34m\u001b[1mwandb\u001b[0m:   1 of 1 files downloaded.  \n"
     ]
    },
    {
     "name": "stdout",
     "output_type": "stream",
     "text": [
      "2025-04-20 13:08:20,188 - INFO - Downloaded logs_nuz4u7c3:v0 to /scratch/downloaded_artifacts/logs_nuz4u7c3:v0\n"
     ]
    },
    {
     "name": "stderr",
     "output_type": "stream",
     "text": [
      "\u001b[34m\u001b[1mwandb\u001b[0m:   1 of 1 files downloaded.  \n"
     ]
    },
    {
     "name": "stdout",
     "output_type": "stream",
     "text": [
      "2025-04-20 13:08:20,258 - INFO - Downloaded logs_lqd5q3ne:v0 to /scratch/downloaded_artifacts/logs_lqd5q3ne:v0\n"
     ]
    },
    {
     "name": "stderr",
     "output_type": "stream",
     "text": [
      "\u001b[34m\u001b[1mwandb\u001b[0m:   1 of 1 files downloaded.  \n"
     ]
    },
    {
     "name": "stdout",
     "output_type": "stream",
     "text": [
      "2025-04-20 13:08:20,417 - INFO - Downloaded logs_mt7c1auq:v0 to /scratch/downloaded_artifacts/logs_mt7c1auq:v0\n"
     ]
    },
    {
     "name": "stderr",
     "output_type": "stream",
     "text": [
      "\u001b[34m\u001b[1mwandb\u001b[0m:   1 of 1 files downloaded.  \n"
     ]
    },
    {
     "name": "stdout",
     "output_type": "stream",
     "text": [
      "2025-04-20 13:08:20,470 - INFO - Downloaded logs_va4nlzvq:v0 to /scratch/downloaded_artifacts/logs_va4nlzvq:v0\n"
     ]
    },
    {
     "name": "stderr",
     "output_type": "stream",
     "text": [
      "\u001b[34m\u001b[1mwandb\u001b[0m:   1 of 1 files downloaded.  \n"
     ]
    },
    {
     "name": "stdout",
     "output_type": "stream",
     "text": [
      "2025-04-20 13:08:20,560 - INFO - Downloaded logs_5zyeoj7u:v0 to /scratch/downloaded_artifacts/logs_5zyeoj7u:v0\n"
     ]
    },
    {
     "name": "stderr",
     "output_type": "stream",
     "text": [
      "\u001b[34m\u001b[1mwandb\u001b[0m:   1 of 1 files downloaded.  \n"
     ]
    },
    {
     "name": "stdout",
     "output_type": "stream",
     "text": [
      "2025-04-20 13:08:20,591 - INFO - Downloaded logs_5kv7qkhf:v0 to /scratch/downloaded_artifacts/logs_5kv7qkhf:v0\n"
     ]
    },
    {
     "name": "stderr",
     "output_type": "stream",
     "text": [
      "\u001b[34m\u001b[1mwandb\u001b[0m:   1 of 1 files downloaded.  \n"
     ]
    },
    {
     "name": "stdout",
     "output_type": "stream",
     "text": [
      "2025-04-20 13:08:20,604 - INFO - Downloaded logs_9wj1ltrf:v0 to /scratch/downloaded_artifacts/logs_9wj1ltrf:v0\n"
     ]
    },
    {
     "name": "stderr",
     "output_type": "stream",
     "text": [
      "\u001b[34m\u001b[1mwandb\u001b[0m:   1 of 1 files downloaded.  \n",
      "\u001b[34m\u001b[1mwandb\u001b[0m:   1 of 1 files downloaded.  \n"
     ]
    },
    {
     "name": "stdout",
     "output_type": "stream",
     "text": [
      "2025-04-20 13:08:20,690 - INFO - Downloaded logs_7udijk5u:v0 to /scratch/downloaded_artifacts/logs_7udijk5u:v0\n",
      "2025-04-20 13:08:20,690 - INFO - Downloaded logs_znkauho3:v0 to /scratch/downloaded_artifacts/logs_znkauho3:v0\n"
     ]
    },
    {
     "name": "stderr",
     "output_type": "stream",
     "text": [
      "\u001b[34m\u001b[1mwandb\u001b[0m:   1 of 1 files downloaded.  \n"
     ]
    },
    {
     "name": "stdout",
     "output_type": "stream",
     "text": [
      "2025-04-20 13:08:20,699 - INFO - Downloaded logs_jgd9anig:v0 to /scratch/downloaded_artifacts/logs_jgd9anig:v0\n"
     ]
    },
    {
     "name": "stderr",
     "output_type": "stream",
     "text": [
      "\u001b[34m\u001b[1mwandb\u001b[0m:   1 of 1 files downloaded.  \n"
     ]
    },
    {
     "name": "stdout",
     "output_type": "stream",
     "text": [
      "2025-04-20 13:08:20,923 - INFO - Downloaded logs_m9bthxw3:v0 to /scratch/downloaded_artifacts/logs_m9bthxw3:v0\n"
     ]
    },
    {
     "name": "stderr",
     "output_type": "stream",
     "text": [
      "\u001b[34m\u001b[1mwandb\u001b[0m:   1 of 1 files downloaded.  \n"
     ]
    },
    {
     "name": "stdout",
     "output_type": "stream",
     "text": [
      "2025-04-20 13:08:20,932 - INFO - Downloaded logs_lv2gdu4q:v0 to /scratch/downloaded_artifacts/logs_lv2gdu4q:v0\n"
     ]
    },
    {
     "name": "stderr",
     "output_type": "stream",
     "text": [
      "\u001b[34m\u001b[1mwandb\u001b[0m:   1 of 1 files downloaded.  \n"
     ]
    },
    {
     "name": "stdout",
     "output_type": "stream",
     "text": [
      "2025-04-20 13:08:21,041 - INFO - Downloaded logs_oxm2skmr:v0 to /scratch/downloaded_artifacts/logs_oxm2skmr:v0\n"
     ]
    },
    {
     "name": "stderr",
     "output_type": "stream",
     "text": [
      "\u001b[34m\u001b[1mwandb\u001b[0m:   1 of 1 files downloaded.  \n"
     ]
    },
    {
     "name": "stdout",
     "output_type": "stream",
     "text": [
      "2025-04-20 13:08:21,136 - INFO - Downloaded logs_scs0yb2u:v0 to /scratch/downloaded_artifacts/logs_scs0yb2u:v0\n"
     ]
    },
    {
     "name": "stderr",
     "output_type": "stream",
     "text": [
      "\u001b[34m\u001b[1mwandb\u001b[0m:   1 of 1 files downloaded.  \n"
     ]
    },
    {
     "name": "stdout",
     "output_type": "stream",
     "text": [
      "2025-04-20 13:08:21,175 - INFO - Downloaded logs_os8psdga:v0 to /scratch/downloaded_artifacts/logs_os8psdga:v0\n"
     ]
    },
    {
     "name": "stderr",
     "output_type": "stream",
     "text": [
      "\u001b[34m\u001b[1mwandb\u001b[0m:   1 of 1 files downloaded.  \n"
     ]
    },
    {
     "name": "stdout",
     "output_type": "stream",
     "text": [
      "2025-04-20 13:08:21,214 - INFO - Downloaded logs_sf1ro79g:v0 to /scratch/downloaded_artifacts/logs_sf1ro79g:v0\n"
     ]
    },
    {
     "name": "stderr",
     "output_type": "stream",
     "text": [
      "\u001b[34m\u001b[1mwandb\u001b[0m:   1 of 1 files downloaded.  \n"
     ]
    },
    {
     "name": "stdout",
     "output_type": "stream",
     "text": [
      "2025-04-20 13:08:21,216 - INFO - Downloaded logs_w930sk3w:v0 to /scratch/downloaded_artifacts/logs_w930sk3w:v0\n"
     ]
    },
    {
     "name": "stderr",
     "output_type": "stream",
     "text": [
      "\u001b[34m\u001b[1mwandb\u001b[0m:   1 of 1 files downloaded.  \n"
     ]
    },
    {
     "name": "stdout",
     "output_type": "stream",
     "text": [
      "2025-04-20 13:08:21,378 - INFO - Downloaded logs_pq4knmb3:v0 to /scratch/downloaded_artifacts/logs_pq4knmb3:v0\n"
     ]
    },
    {
     "name": "stderr",
     "output_type": "stream",
     "text": [
      "\u001b[34m\u001b[1mwandb\u001b[0m:   1 of 1 files downloaded.  \n"
     ]
    },
    {
     "name": "stdout",
     "output_type": "stream",
     "text": [
      "2025-04-20 13:08:21,486 - INFO - Downloaded logs_5xmggeln:v0 to /scratch/downloaded_artifacts/logs_5xmggeln:v0\n"
     ]
    },
    {
     "name": "stderr",
     "output_type": "stream",
     "text": [
      "\u001b[34m\u001b[1mwandb\u001b[0m:   1 of 1 files downloaded.  \n"
     ]
    },
    {
     "name": "stdout",
     "output_type": "stream",
     "text": [
      "2025-04-20 13:08:21,550 - INFO - Downloaded logs_oypri5zg:v0 to /scratch/downloaded_artifacts/logs_oypri5zg:v0\n"
     ]
    },
    {
     "name": "stderr",
     "output_type": "stream",
     "text": [
      "\u001b[34m\u001b[1mwandb\u001b[0m:   1 of 1 files downloaded.  \n"
     ]
    },
    {
     "name": "stdout",
     "output_type": "stream",
     "text": [
      "2025-04-20 13:08:21,596 - INFO - Downloaded logs_4jyroau0:v0 to /scratch/downloaded_artifacts/logs_4jyroau0:v0\n"
     ]
    },
    {
     "name": "stderr",
     "output_type": "stream",
     "text": [
      "\u001b[34m\u001b[1mwandb\u001b[0m:   1 of 1 files downloaded.  \n"
     ]
    },
    {
     "name": "stdout",
     "output_type": "stream",
     "text": [
      "2025-04-20 13:08:21,838 - INFO - Downloaded logs_r3rc96ge:v0 to /scratch/downloaded_artifacts/logs_r3rc96ge:v0\n"
     ]
    },
    {
     "name": "stderr",
     "output_type": "stream",
     "text": [
      "\u001b[34m\u001b[1mwandb\u001b[0m:   1 of 1 files downloaded.  \n"
     ]
    },
    {
     "name": "stdout",
     "output_type": "stream",
     "text": [
      "2025-04-20 13:08:21,936 - INFO - Downloaded logs_xu6w7hga:v0 to /scratch/downloaded_artifacts/logs_xu6w7hga:v0\n"
     ]
    },
    {
     "name": "stderr",
     "output_type": "stream",
     "text": [
      "\u001b[34m\u001b[1mwandb\u001b[0m:   1 of 1 files downloaded.  \n"
     ]
    },
    {
     "name": "stdout",
     "output_type": "stream",
     "text": [
      "2025-04-20 13:08:21,999 - INFO - Downloaded logs_5npjy859:v0 to /scratch/downloaded_artifacts/logs_5npjy859:v0\n"
     ]
    },
    {
     "name": "stderr",
     "output_type": "stream",
     "text": [
      "\u001b[34m\u001b[1mwandb\u001b[0m:   1 of 1 files downloaded.  \n",
      "\u001b[34m\u001b[1mwandb\u001b[0m:   1 of 1 files downloaded.  \n"
     ]
    },
    {
     "name": "stdout",
     "output_type": "stream",
     "text": [
      "2025-04-20 13:08:22,059 - INFO - Downloaded logs_ah63jt1u:v0 to /scratch/downloaded_artifacts/logs_ah63jt1u:v0\n",
      "2025-04-20 13:08:22,060 - INFO - Downloaded logs_uvznrs3h:v0 to /scratch/downloaded_artifacts/logs_uvznrs3h:v0\n"
     ]
    },
    {
     "name": "stderr",
     "output_type": "stream",
     "text": [
      "\u001b[34m\u001b[1mwandb\u001b[0m:   1 of 1 files downloaded.  \n"
     ]
    },
    {
     "name": "stdout",
     "output_type": "stream",
     "text": [
      "2025-04-20 13:08:22,077 - INFO - Downloaded logs_0p5dueay:v0 to /scratch/downloaded_artifacts/logs_0p5dueay:v0\n"
     ]
    },
    {
     "name": "stderr",
     "output_type": "stream",
     "text": [
      "\u001b[34m\u001b[1mwandb\u001b[0m:   1 of 1 files downloaded.  \n"
     ]
    },
    {
     "name": "stdout",
     "output_type": "stream",
     "text": [
      "2025-04-20 13:08:22,080 - INFO - Downloaded logs_73s589u0:v0 to /scratch/downloaded_artifacts/logs_73s589u0:v0\n"
     ]
    },
    {
     "name": "stderr",
     "output_type": "stream",
     "text": [
      "\u001b[34m\u001b[1mwandb\u001b[0m:   1 of 1 files downloaded.  \n"
     ]
    },
    {
     "name": "stdout",
     "output_type": "stream",
     "text": [
      "2025-04-20 13:08:22,090 - INFO - Downloaded logs_z4jpjlpy:v0 to /scratch/downloaded_artifacts/logs_z4jpjlpy:v0\n"
     ]
    },
    {
     "name": "stderr",
     "output_type": "stream",
     "text": [
      "\u001b[34m\u001b[1mwandb\u001b[0m:   1 of 1 files downloaded.  \n"
     ]
    },
    {
     "name": "stdout",
     "output_type": "stream",
     "text": [
      "2025-04-20 13:08:22,164 - INFO - Downloaded logs_97ik6lmq:v0 to /scratch/downloaded_artifacts/logs_97ik6lmq:v0\n"
     ]
    },
    {
     "name": "stderr",
     "output_type": "stream",
     "text": [
      "\u001b[34m\u001b[1mwandb\u001b[0m:   1 of 1 files downloaded.  \n"
     ]
    },
    {
     "name": "stdout",
     "output_type": "stream",
     "text": [
      "2025-04-20 13:08:22,438 - INFO - Downloaded logs_4u3r3cym:v0 to /scratch/downloaded_artifacts/logs_4u3r3cym:v0\n"
     ]
    },
    {
     "name": "stderr",
     "output_type": "stream",
     "text": [
      "\u001b[34m\u001b[1mwandb\u001b[0m:   1 of 1 files downloaded.  \n"
     ]
    },
    {
     "name": "stdout",
     "output_type": "stream",
     "text": [
      "2025-04-20 13:08:22,448 - INFO - Downloaded logs_69y7rpyx:v0 to /scratch/downloaded_artifacts/logs_69y7rpyx:v0\n"
     ]
    },
    {
     "name": "stderr",
     "output_type": "stream",
     "text": [
      "\u001b[34m\u001b[1mwandb\u001b[0m:   1 of 1 files downloaded.  \n"
     ]
    },
    {
     "name": "stdout",
     "output_type": "stream",
     "text": [
      "2025-04-20 13:08:22,465 - INFO - Downloaded logs_aql8mszh:v0 to /scratch/downloaded_artifacts/logs_aql8mszh:v0\n"
     ]
    },
    {
     "name": "stderr",
     "output_type": "stream",
     "text": [
      "\u001b[34m\u001b[1mwandb\u001b[0m:   1 of 1 files downloaded.  \n"
     ]
    },
    {
     "name": "stdout",
     "output_type": "stream",
     "text": [
      "2025-04-20 13:08:22,486 - INFO - Downloaded logs_9j19wqs7:v0 to /scratch/downloaded_artifacts/logs_9j19wqs7:v0\n"
     ]
    },
    {
     "name": "stderr",
     "output_type": "stream",
     "text": [
      "\u001b[34m\u001b[1mwandb\u001b[0m:   1 of 1 files downloaded.  \n"
     ]
    },
    {
     "name": "stdout",
     "output_type": "stream",
     "text": [
      "2025-04-20 13:08:22,532 - INFO - Downloaded logs_7kx0x5e8:v0 to /scratch/downloaded_artifacts/logs_7kx0x5e8:v0\n"
     ]
    },
    {
     "name": "stderr",
     "output_type": "stream",
     "text": [
      "\u001b[34m\u001b[1mwandb\u001b[0m:   1 of 1 files downloaded.  \n"
     ]
    },
    {
     "name": "stdout",
     "output_type": "stream",
     "text": [
      "2025-04-20 13:08:22,644 - INFO - Downloaded logs_bbno8jp1:v0 to /scratch/downloaded_artifacts/logs_bbno8jp1:v0\n"
     ]
    },
    {
     "name": "stderr",
     "output_type": "stream",
     "text": [
      "\u001b[34m\u001b[1mwandb\u001b[0m:   1 of 1 files downloaded.  \n"
     ]
    },
    {
     "name": "stdout",
     "output_type": "stream",
     "text": [
      "2025-04-20 13:08:22,678 - INFO - Downloaded logs_aq8powe2:v0 to /scratch/downloaded_artifacts/logs_aq8powe2:v0\n"
     ]
    },
    {
     "name": "stderr",
     "output_type": "stream",
     "text": [
      "\u001b[34m\u001b[1mwandb\u001b[0m:   1 of 1 files downloaded.  \n"
     ]
    },
    {
     "name": "stdout",
     "output_type": "stream",
     "text": [
      "2025-04-20 13:08:22,754 - INFO - Downloaded logs_d7qzq43x:v0 to /scratch/downloaded_artifacts/logs_d7qzq43x:v0\n"
     ]
    },
    {
     "name": "stderr",
     "output_type": "stream",
     "text": [
      "\u001b[34m\u001b[1mwandb\u001b[0m:   1 of 1 files downloaded.  \n"
     ]
    },
    {
     "name": "stdout",
     "output_type": "stream",
     "text": [
      "2025-04-20 13:08:22,894 - INFO - Downloaded logs_o4f40182:v0 to /scratch/downloaded_artifacts/logs_o4f40182:v0\n"
     ]
    },
    {
     "name": "stderr",
     "output_type": "stream",
     "text": [
      "\u001b[34m\u001b[1mwandb\u001b[0m:   1 of 1 files downloaded.  \n"
     ]
    },
    {
     "name": "stdout",
     "output_type": "stream",
     "text": [
      "2025-04-20 13:08:22,897 - INFO - Downloaded logs_gfdf598u:v0 to /scratch/downloaded_artifacts/logs_gfdf598u:v0\n"
     ]
    },
    {
     "name": "stderr",
     "output_type": "stream",
     "text": [
      "\u001b[34m\u001b[1mwandb\u001b[0m:   1 of 1 files downloaded.  \n"
     ]
    },
    {
     "name": "stdout",
     "output_type": "stream",
     "text": [
      "2025-04-20 13:08:23,026 - INFO - Downloaded logs_ha1ib40l:v0 to /scratch/downloaded_artifacts/logs_ha1ib40l:v0\n"
     ]
    },
    {
     "name": "stderr",
     "output_type": "stream",
     "text": [
      "\u001b[34m\u001b[1mwandb\u001b[0m:   1 of 1 files downloaded.  \n"
     ]
    },
    {
     "name": "stdout",
     "output_type": "stream",
     "text": [
      "2025-04-20 13:08:23,197 - INFO - Downloaded logs_sicp0r5u:v0 to /scratch/downloaded_artifacts/logs_sicp0r5u:v0\n"
     ]
    },
    {
     "name": "stderr",
     "output_type": "stream",
     "text": [
      "\u001b[34m\u001b[1mwandb\u001b[0m:   1 of 1 files downloaded.  \n"
     ]
    },
    {
     "name": "stdout",
     "output_type": "stream",
     "text": [
      "2025-04-20 13:08:23,231 - INFO - Downloaded logs_s73mbaj5:v0 to /scratch/downloaded_artifacts/logs_s73mbaj5:v0\n"
     ]
    },
    {
     "name": "stderr",
     "output_type": "stream",
     "text": [
      "\u001b[34m\u001b[1mwandb\u001b[0m:   1 of 1 files downloaded.  \n"
     ]
    },
    {
     "name": "stdout",
     "output_type": "stream",
     "text": [
      "2025-04-20 13:08:23,428 - INFO - Downloaded logs_we817n0c:v0 to /scratch/downloaded_artifacts/logs_we817n0c:v0\n"
     ]
    },
    {
     "name": "stderr",
     "output_type": "stream",
     "text": [
      "\u001b[34m\u001b[1mwandb\u001b[0m:   1 of 1 files downloaded.  \n"
     ]
    },
    {
     "name": "stdout",
     "output_type": "stream",
     "text": [
      "2025-04-20 13:08:24,341 - INFO - Downloaded logs_whgppgze:v0 to /scratch/downloaded_artifacts/logs_whgppgze:v0\n"
     ]
    },
    {
     "name": "stderr",
     "output_type": "stream",
     "text": [
      "\u001b[34m\u001b[1mwandb\u001b[0m:   1 of 1 files downloaded.  \n"
     ]
    },
    {
     "name": "stdout",
     "output_type": "stream",
     "text": [
      "2025-04-20 13:08:24,861 - INFO - Downloaded logs_286s3spv:v0 to /scratch/downloaded_artifacts/logs_286s3spv:v0\n"
     ]
    },
    {
     "name": "stderr",
     "output_type": "stream",
     "text": [
      "\u001b[34m\u001b[1mwandb\u001b[0m:   1 of 1 files downloaded.  \n"
     ]
    },
    {
     "name": "stdout",
     "output_type": "stream",
     "text": [
      "2025-04-20 13:08:25,148 - INFO - Downloaded logs_5202xyth:v0 to /scratch/downloaded_artifacts/logs_5202xyth:v0\n"
     ]
    },
    {
     "name": "stderr",
     "output_type": "stream",
     "text": [
      "\u001b[34m\u001b[1mwandb\u001b[0m:   1 of 1 files downloaded.  \n"
     ]
    },
    {
     "name": "stdout",
     "output_type": "stream",
     "text": [
      "2025-04-20 13:08:25,313 - INFO - Downloaded logs_hnknunxe:v0 to /scratch/downloaded_artifacts/logs_hnknunxe:v0\n"
     ]
    },
    {
     "name": "stderr",
     "output_type": "stream",
     "text": [
      "\u001b[34m\u001b[1mwandb\u001b[0m:   1 of 1 files downloaded.  \n"
     ]
    },
    {
     "name": "stdout",
     "output_type": "stream",
     "text": [
      "2025-04-20 13:08:25,518 - INFO - Downloaded logs_y5p3z1ib:v0 to /scratch/downloaded_artifacts/logs_y5p3z1ib:v0\n"
     ]
    },
    {
     "name": "stderr",
     "output_type": "stream",
     "text": [
      "\u001b[34m\u001b[1mwandb\u001b[0m:   1 of 1 files downloaded.  \n"
     ]
    },
    {
     "name": "stdout",
     "output_type": "stream",
     "text": [
      "2025-04-20 13:08:25,602 - INFO - Downloaded logs_d4bdreig:v0 to /scratch/downloaded_artifacts/logs_d4bdreig:v0\n"
     ]
    },
    {
     "name": "stderr",
     "output_type": "stream",
     "text": [
      "\u001b[34m\u001b[1mwandb\u001b[0m:   1 of 1 files downloaded.  \n"
     ]
    },
    {
     "name": "stdout",
     "output_type": "stream",
     "text": [
      "2025-04-20 13:08:25,849 - INFO - Downloaded logs_p4nkmkl9:v0 to /scratch/downloaded_artifacts/logs_p4nkmkl9:v0\n"
     ]
    },
    {
     "name": "stderr",
     "output_type": "stream",
     "text": [
      "\u001b[34m\u001b[1mwandb\u001b[0m:   1 of 1 files downloaded.  \n"
     ]
    },
    {
     "name": "stdout",
     "output_type": "stream",
     "text": [
      "2025-04-20 13:08:25,886 - INFO - Downloaded logs_rd7lvtoy:v0 to /scratch/downloaded_artifacts/logs_rd7lvtoy:v0\n"
     ]
    },
    {
     "name": "stderr",
     "output_type": "stream",
     "text": [
      "\u001b[34m\u001b[1mwandb\u001b[0m:   1 of 1 files downloaded.  \n"
     ]
    },
    {
     "name": "stdout",
     "output_type": "stream",
     "text": [
      "2025-04-20 13:08:25,900 - INFO - Downloaded logs_to0b0506:v0 to /scratch/downloaded_artifacts/logs_to0b0506:v0\n"
     ]
    },
    {
     "name": "stderr",
     "output_type": "stream",
     "text": [
      "\u001b[34m\u001b[1mwandb\u001b[0m:   1 of 1 files downloaded.  \n"
     ]
    },
    {
     "name": "stdout",
     "output_type": "stream",
     "text": [
      "2025-04-20 13:08:26,026 - INFO - Downloaded logs_mfcsxrxc:v0 to /scratch/downloaded_artifacts/logs_mfcsxrxc:v0\n"
     ]
    },
    {
     "name": "stderr",
     "output_type": "stream",
     "text": [
      "\u001b[34m\u001b[1mwandb\u001b[0m:   1 of 1 files downloaded.  \n"
     ]
    },
    {
     "name": "stdout",
     "output_type": "stream",
     "text": [
      "2025-04-20 13:08:26,089 - INFO - Downloaded logs_id4y3xq3:v0 to /scratch/downloaded_artifacts/logs_id4y3xq3:v0\n"
     ]
    },
    {
     "name": "stderr",
     "output_type": "stream",
     "text": [
      "\u001b[34m\u001b[1mwandb\u001b[0m:   1 of 1 files downloaded.  \n"
     ]
    },
    {
     "name": "stdout",
     "output_type": "stream",
     "text": [
      "2025-04-20 13:08:26,093 - INFO - Downloaded logs_ep871b6n:v0 to /scratch/downloaded_artifacts/logs_ep871b6n:v0\n"
     ]
    },
    {
     "name": "stderr",
     "output_type": "stream",
     "text": [
      "\u001b[34m\u001b[1mwandb\u001b[0m:   1 of 1 files downloaded.  \n"
     ]
    },
    {
     "name": "stdout",
     "output_type": "stream",
     "text": [
      "2025-04-20 13:08:26,137 - INFO - Downloaded logs_l6kbggiv:v0 to /scratch/downloaded_artifacts/logs_l6kbggiv:v0\n"
     ]
    },
    {
     "name": "stderr",
     "output_type": "stream",
     "text": [
      "\u001b[34m\u001b[1mwandb\u001b[0m:   1 of 1 files downloaded.  \n"
     ]
    },
    {
     "name": "stdout",
     "output_type": "stream",
     "text": [
      "2025-04-20 13:08:26,177 - INFO - Downloaded logs_whpz4xsh:v0 to /scratch/downloaded_artifacts/logs_whpz4xsh:v0\n"
     ]
    },
    {
     "name": "stderr",
     "output_type": "stream",
     "text": [
      "\u001b[34m\u001b[1mwandb\u001b[0m:   1 of 1 files downloaded.  \n"
     ]
    },
    {
     "name": "stdout",
     "output_type": "stream",
     "text": [
      "2025-04-20 13:08:26,216 - INFO - Downloaded logs_p3dj33wt:v0 to /scratch/downloaded_artifacts/logs_p3dj33wt:v0\n"
     ]
    },
    {
     "name": "stderr",
     "output_type": "stream",
     "text": [
      "\u001b[34m\u001b[1mwandb\u001b[0m:   1 of 1 files downloaded.  \n"
     ]
    },
    {
     "name": "stdout",
     "output_type": "stream",
     "text": [
      "2025-04-20 13:08:26,234 - INFO - Downloaded logs_5se7ezvg:v0 to /scratch/downloaded_artifacts/logs_5se7ezvg:v0\n"
     ]
    },
    {
     "name": "stderr",
     "output_type": "stream",
     "text": [
      "\u001b[34m\u001b[1mwandb\u001b[0m:   1 of 1 files downloaded.  \n"
     ]
    },
    {
     "name": "stdout",
     "output_type": "stream",
     "text": [
      "2025-04-20 13:08:26,253 - INFO - Downloaded logs_iax37b0i:v0 to /scratch/downloaded_artifacts/logs_iax37b0i:v0\n"
     ]
    },
    {
     "name": "stderr",
     "output_type": "stream",
     "text": [
      "\u001b[34m\u001b[1mwandb\u001b[0m:   1 of 1 files downloaded.  \n"
     ]
    },
    {
     "name": "stdout",
     "output_type": "stream",
     "text": [
      "2025-04-20 13:08:26,266 - INFO - Downloaded logs_54ic4ulv:v0 to /scratch/downloaded_artifacts/logs_54ic4ulv:v0\n"
     ]
    },
    {
     "name": "stderr",
     "output_type": "stream",
     "text": [
      "\u001b[34m\u001b[1mwandb\u001b[0m:   1 of 1 files downloaded.  \n"
     ]
    },
    {
     "name": "stdout",
     "output_type": "stream",
     "text": [
      "2025-04-20 13:08:26,275 - INFO - Downloaded logs_gm3ld6n0:v0 to /scratch/downloaded_artifacts/logs_gm3ld6n0:v0\n"
     ]
    },
    {
     "name": "stderr",
     "output_type": "stream",
     "text": [
      "\u001b[34m\u001b[1mwandb\u001b[0m:   1 of 1 files downloaded.  \n"
     ]
    },
    {
     "name": "stdout",
     "output_type": "stream",
     "text": [
      "2025-04-20 13:08:26,317 - INFO - Downloaded logs_yu767zf7:v0 to /scratch/downloaded_artifacts/logs_yu767zf7:v0\n"
     ]
    },
    {
     "name": "stderr",
     "output_type": "stream",
     "text": [
      "\u001b[34m\u001b[1mwandb\u001b[0m:   1 of 1 files downloaded.  \n"
     ]
    },
    {
     "name": "stdout",
     "output_type": "stream",
     "text": [
      "2025-04-20 13:08:26,375 - INFO - Downloaded logs_jp6jid4u:v0 to /scratch/downloaded_artifacts/logs_jp6jid4u:v0\n"
     ]
    },
    {
     "name": "stderr",
     "output_type": "stream",
     "text": [
      "\u001b[34m\u001b[1mwandb\u001b[0m:   1 of 1 files downloaded.  \n"
     ]
    },
    {
     "name": "stdout",
     "output_type": "stream",
     "text": [
      "2025-04-20 13:08:26,487 - INFO - Downloaded logs_lch8rciu:v0 to /scratch/downloaded_artifacts/logs_lch8rciu:v0\n"
     ]
    },
    {
     "name": "stderr",
     "output_type": "stream",
     "text": [
      "\u001b[34m\u001b[1mwandb\u001b[0m:   1 of 1 files downloaded.  \n"
     ]
    },
    {
     "name": "stdout",
     "output_type": "stream",
     "text": [
      "2025-04-20 13:08:26,509 - INFO - Downloaded logs_lr0utx1i:v0 to /scratch/downloaded_artifacts/logs_lr0utx1i:v0\n"
     ]
    },
    {
     "name": "stderr",
     "output_type": "stream",
     "text": [
      "\u001b[34m\u001b[1mwandb\u001b[0m:   1 of 1 files downloaded.  \n"
     ]
    },
    {
     "name": "stdout",
     "output_type": "stream",
     "text": [
      "2025-04-20 13:08:26,676 - INFO - Downloaded logs_5ehp5rcy:v0 to /scratch/downloaded_artifacts/logs_5ehp5rcy:v0\n"
     ]
    },
    {
     "name": "stderr",
     "output_type": "stream",
     "text": [
      "\u001b[34m\u001b[1mwandb\u001b[0m:   1 of 1 files downloaded.  \n"
     ]
    },
    {
     "name": "stdout",
     "output_type": "stream",
     "text": [
      "2025-04-20 13:08:26,727 - INFO - Downloaded logs_01fazm62:v0 to /scratch/downloaded_artifacts/logs_01fazm62:v0\n"
     ]
    },
    {
     "name": "stderr",
     "output_type": "stream",
     "text": [
      "\u001b[34m\u001b[1mwandb\u001b[0m:   1 of 1 files downloaded.  \n"
     ]
    },
    {
     "name": "stdout",
     "output_type": "stream",
     "text": [
      "2025-04-20 13:08:27,073 - INFO - Downloaded logs_be20aay2:v0 to /scratch/downloaded_artifacts/logs_be20aay2:v0\n"
     ]
    },
    {
     "name": "stderr",
     "output_type": "stream",
     "text": [
      "\u001b[34m\u001b[1mwandb\u001b[0m:   1 of 1 files downloaded.  \n"
     ]
    },
    {
     "name": "stdout",
     "output_type": "stream",
     "text": [
      "2025-04-20 13:08:27,232 - INFO - Downloaded logs_jymdkn58:v0 to /scratch/downloaded_artifacts/logs_jymdkn58:v0\n"
     ]
    },
    {
     "name": "stderr",
     "output_type": "stream",
     "text": [
      "\u001b[34m\u001b[1mwandb\u001b[0m:   1 of 1 files downloaded.  \n"
     ]
    },
    {
     "name": "stdout",
     "output_type": "stream",
     "text": [
      "2025-04-20 13:08:27,258 - INFO - Downloaded logs_o7pzjk1z:v0 to /scratch/downloaded_artifacts/logs_o7pzjk1z:v0\n"
     ]
    },
    {
     "name": "stderr",
     "output_type": "stream",
     "text": [
      "\u001b[34m\u001b[1mwandb\u001b[0m:   1 of 1 files downloaded.  \n"
     ]
    },
    {
     "name": "stdout",
     "output_type": "stream",
     "text": [
      "2025-04-20 13:08:27,353 - INFO - Downloaded logs_n8shxagb:v0 to /scratch/downloaded_artifacts/logs_n8shxagb:v0\n"
     ]
    },
    {
     "name": "stderr",
     "output_type": "stream",
     "text": [
      "\u001b[34m\u001b[1mwandb\u001b[0m:   1 of 1 files downloaded.  \n"
     ]
    },
    {
     "name": "stdout",
     "output_type": "stream",
     "text": [
      "2025-04-20 13:08:27,405 - INFO - Downloaded logs_rbe11s22:v0 to /scratch/downloaded_artifacts/logs_rbe11s22:v0\n"
     ]
    },
    {
     "name": "stderr",
     "output_type": "stream",
     "text": [
      "\u001b[34m\u001b[1mwandb\u001b[0m:   1 of 1 files downloaded.  \n"
     ]
    },
    {
     "name": "stdout",
     "output_type": "stream",
     "text": [
      "2025-04-20 13:08:27,616 - INFO - Downloaded logs_khpmudh6:v0 to /scratch/downloaded_artifacts/logs_khpmudh6:v0\n"
     ]
    },
    {
     "name": "stderr",
     "output_type": "stream",
     "text": [
      "\u001b[34m\u001b[1mwandb\u001b[0m:   1 of 1 files downloaded.  \n"
     ]
    },
    {
     "name": "stdout",
     "output_type": "stream",
     "text": [
      "2025-04-20 13:08:27,626 - INFO - Downloaded logs_jtqmhr3h:v0 to /scratch/downloaded_artifacts/logs_jtqmhr3h:v0\n"
     ]
    },
    {
     "name": "stderr",
     "output_type": "stream",
     "text": [
      "\u001b[34m\u001b[1mwandb\u001b[0m:   1 of 1 files downloaded.  \n",
      "\u001b[34m\u001b[1mwandb\u001b[0m:   1 of 1 files downloaded.  \n"
     ]
    },
    {
     "name": "stdout",
     "output_type": "stream",
     "text": [
      "2025-04-20 13:08:27,644 - INFO - Downloaded logs_mwynteh7:v0 to /scratch/downloaded_artifacts/logs_mwynteh7:v0\n",
      "2025-04-20 13:08:27,646 - INFO - Downloaded logs_dlhutmp9:v0 to /scratch/downloaded_artifacts/logs_dlhutmp9:v0\n"
     ]
    },
    {
     "name": "stderr",
     "output_type": "stream",
     "text": [
      "\u001b[34m\u001b[1mwandb\u001b[0m:   1 of 1 files downloaded.  \n"
     ]
    },
    {
     "name": "stdout",
     "output_type": "stream",
     "text": [
      "2025-04-20 13:08:27,847 - INFO - Downloaded logs_ahxnkcre:v0 to /scratch/downloaded_artifacts/logs_ahxnkcre:v0\n"
     ]
    },
    {
     "name": "stderr",
     "output_type": "stream",
     "text": [
      "\u001b[34m\u001b[1mwandb\u001b[0m:   1 of 1 files downloaded.  \n"
     ]
    },
    {
     "name": "stdout",
     "output_type": "stream",
     "text": [
      "2025-04-20 13:08:27,897 - INFO - Downloaded logs_8md7qoat:v0 to /scratch/downloaded_artifacts/logs_8md7qoat:v0\n"
     ]
    },
    {
     "name": "stderr",
     "output_type": "stream",
     "text": [
      "\u001b[34m\u001b[1mwandb\u001b[0m:   1 of 1 files downloaded.  \n"
     ]
    },
    {
     "name": "stdout",
     "output_type": "stream",
     "text": [
      "2025-04-20 13:08:27,908 - INFO - Downloaded logs_1fs5svsx:v0 to /scratch/downloaded_artifacts/logs_1fs5svsx:v0\n"
     ]
    },
    {
     "name": "stderr",
     "output_type": "stream",
     "text": [
      "\u001b[34m\u001b[1mwandb\u001b[0m:   1 of 1 files downloaded.  \n"
     ]
    },
    {
     "name": "stdout",
     "output_type": "stream",
     "text": [
      "2025-04-20 13:08:27,947 - INFO - Downloaded logs_rn8w2leb:v0 to /scratch/downloaded_artifacts/logs_rn8w2leb:v0\n"
     ]
    },
    {
     "name": "stderr",
     "output_type": "stream",
     "text": [
      "\u001b[34m\u001b[1mwandb\u001b[0m:   1 of 1 files downloaded.  \n"
     ]
    },
    {
     "name": "stdout",
     "output_type": "stream",
     "text": [
      "2025-04-20 13:08:28,010 - INFO - Downloaded logs_bealrx5h:v0 to /scratch/downloaded_artifacts/logs_bealrx5h:v0\n"
     ]
    },
    {
     "name": "stderr",
     "output_type": "stream",
     "text": [
      "\u001b[34m\u001b[1mwandb\u001b[0m:   1 of 1 files downloaded.  \n"
     ]
    },
    {
     "name": "stdout",
     "output_type": "stream",
     "text": [
      "2025-04-20 13:08:28,029 - INFO - Downloaded logs_97bzjzm4:v0 to /scratch/downloaded_artifacts/logs_97bzjzm4:v0\n"
     ]
    },
    {
     "name": "stderr",
     "output_type": "stream",
     "text": [
      "\u001b[34m\u001b[1mwandb\u001b[0m:   1 of 1 files downloaded.  \n"
     ]
    },
    {
     "name": "stdout",
     "output_type": "stream",
     "text": [
      "2025-04-20 13:08:28,046 - INFO - Downloaded logs_cvvbclfk:v0 to /scratch/downloaded_artifacts/logs_cvvbclfk:v0\n"
     ]
    },
    {
     "name": "stderr",
     "output_type": "stream",
     "text": [
      "\u001b[34m\u001b[1mwandb\u001b[0m:   1 of 1 files downloaded.  \n"
     ]
    },
    {
     "name": "stdout",
     "output_type": "stream",
     "text": [
      "2025-04-20 13:08:28,069 - INFO - Downloaded logs_cqbxgfod:v0 to /scratch/downloaded_artifacts/logs_cqbxgfod:v0\n"
     ]
    },
    {
     "name": "stderr",
     "output_type": "stream",
     "text": [
      "\u001b[34m\u001b[1mwandb\u001b[0m:   1 of 1 files downloaded.  \n"
     ]
    },
    {
     "name": "stdout",
     "output_type": "stream",
     "text": [
      "2025-04-20 13:08:28,116 - INFO - Downloaded logs_ugcilitf:v0 to /scratch/downloaded_artifacts/logs_ugcilitf:v0\n"
     ]
    },
    {
     "name": "stderr",
     "output_type": "stream",
     "text": [
      "\u001b[34m\u001b[1mwandb\u001b[0m:   1 of 1 files downloaded.  \n"
     ]
    },
    {
     "name": "stdout",
     "output_type": "stream",
     "text": [
      "2025-04-20 13:08:28,161 - INFO - Downloaded logs_drthbsqb:v0 to /scratch/downloaded_artifacts/logs_drthbsqb:v0\n"
     ]
    },
    {
     "name": "stderr",
     "output_type": "stream",
     "text": [
      "\u001b[34m\u001b[1mwandb\u001b[0m:   1 of 1 files downloaded.  \n"
     ]
    },
    {
     "name": "stdout",
     "output_type": "stream",
     "text": [
      "2025-04-20 13:08:28,253 - INFO - Downloaded logs_d5ss3mpl:v0 to /scratch/downloaded_artifacts/logs_d5ss3mpl:v0\n"
     ]
    },
    {
     "name": "stderr",
     "output_type": "stream",
     "text": [
      "\u001b[34m\u001b[1mwandb\u001b[0m: \u001b[32m\u001b[41mERROR\u001b[0m Error while calling W&B API: rate limit exceeded (<Response [429]>)\n",
      "\u001b[34m\u001b[1mwandb\u001b[0m: \u001b[32m\u001b[41mERROR\u001b[0m Error while calling W&B API: rate limit exceeded (<Response [429]>)\n",
      "\u001b[34m\u001b[1mwandb\u001b[0m: \u001b[32m\u001b[41mERROR\u001b[0m Error while calling W&B API: rate limit exceeded (<Response [429]>)\n",
      "\u001b[34m\u001b[1mwandb\u001b[0m: \u001b[32m\u001b[41mERROR\u001b[0m Error while calling W&B API: rate limit exceeded (<Response [429]>)\n",
      "\u001b[34m\u001b[1mwandb\u001b[0m: \u001b[32m\u001b[41mERROR\u001b[0m Error while calling W&B API: rate limit exceeded (<Response [429]>)\n",
      "\u001b[34m\u001b[1mwandb\u001b[0m: \u001b[32m\u001b[41mERROR\u001b[0m Error while calling W&B API: rate limit exceeded (<Response [429]>)\n",
      "\u001b[34m\u001b[1mwandb\u001b[0m: \u001b[32m\u001b[41mERROR\u001b[0m Error while calling W&B API: rate limit exceeded (<Response [429]>)\n",
      "\u001b[34m\u001b[1mwandb\u001b[0m: \u001b[32m\u001b[41mERROR\u001b[0m Error while calling W&B API: rate limit exceeded (<Response [429]>)\n",
      "\u001b[34m\u001b[1mwandb\u001b[0m:   1 of 1 files downloaded.  \n"
     ]
    },
    {
     "name": "stdout",
     "output_type": "stream",
     "text": [
      "2025-04-20 13:08:28,507 - INFO - Downloaded logs_kg79oqi1:v0 to /scratch/downloaded_artifacts/logs_kg79oqi1:v0\n"
     ]
    },
    {
     "name": "stderr",
     "output_type": "stream",
     "text": [
      "\u001b[34m\u001b[1mwandb\u001b[0m:   1 of 1 files downloaded.  \n"
     ]
    },
    {
     "name": "stdout",
     "output_type": "stream",
     "text": [
      "2025-04-20 13:08:28,561 - INFO - Downloaded logs_rw42sj6l:v0 to /scratch/downloaded_artifacts/logs_rw42sj6l:v0\n"
     ]
    },
    {
     "name": "stderr",
     "output_type": "stream",
     "text": [
      "\u001b[34m\u001b[1mwandb\u001b[0m:   1 of 1 files downloaded.  \n"
     ]
    },
    {
     "name": "stdout",
     "output_type": "stream",
     "text": [
      "2025-04-20 13:08:28,609 - INFO - Downloaded logs_nblja90q:v0 to /scratch/downloaded_artifacts/logs_nblja90q:v0\n"
     ]
    },
    {
     "name": "stderr",
     "output_type": "stream",
     "text": [
      "\u001b[34m\u001b[1mwandb\u001b[0m:   1 of 1 files downloaded.  \n"
     ]
    },
    {
     "name": "stdout",
     "output_type": "stream",
     "text": [
      "2025-04-20 13:08:28,627 - INFO - Downloaded logs_z4wqxdxp:v0 to /scratch/downloaded_artifacts/logs_z4wqxdxp:v0\n"
     ]
    },
    {
     "name": "stderr",
     "output_type": "stream",
     "text": [
      "\u001b[34m\u001b[1mwandb\u001b[0m:   1 of 1 files downloaded.  \n"
     ]
    },
    {
     "name": "stdout",
     "output_type": "stream",
     "text": [
      "2025-04-20 13:08:28,800 - INFO - Downloaded logs_bo4z7gvh:v0 to /scratch/downloaded_artifacts/logs_bo4z7gvh:v0\n"
     ]
    },
    {
     "name": "stderr",
     "output_type": "stream",
     "text": [
      "\u001b[34m\u001b[1mwandb\u001b[0m:   1 of 1 files downloaded.  \n"
     ]
    },
    {
     "name": "stdout",
     "output_type": "stream",
     "text": [
      "2025-04-20 13:08:28,842 - INFO - Downloaded logs_thet21qr:v0 to /scratch/downloaded_artifacts/logs_thet21qr:v0\n"
     ]
    },
    {
     "name": "stderr",
     "output_type": "stream",
     "text": [
      "\u001b[34m\u001b[1mwandb\u001b[0m:   1 of 1 files downloaded.  \n"
     ]
    },
    {
     "name": "stdout",
     "output_type": "stream",
     "text": [
      "2025-04-20 13:08:28,879 - INFO - Downloaded logs_569j7vc7:v0 to /scratch/downloaded_artifacts/logs_569j7vc7:v0\n"
     ]
    },
    {
     "name": "stderr",
     "output_type": "stream",
     "text": [
      "\u001b[34m\u001b[1mwandb\u001b[0m:   1 of 1 files downloaded.  \n"
     ]
    },
    {
     "name": "stdout",
     "output_type": "stream",
     "text": [
      "2025-04-20 13:08:28,968 - INFO - Downloaded logs_gx2o7z6b:v0 to /scratch/downloaded_artifacts/logs_gx2o7z6b:v0\n"
     ]
    },
    {
     "name": "stderr",
     "output_type": "stream",
     "text": [
      "\u001b[34m\u001b[1mwandb\u001b[0m:   1 of 1 files downloaded.  \n"
     ]
    },
    {
     "name": "stdout",
     "output_type": "stream",
     "text": [
      "2025-04-20 13:08:29,052 - INFO - Downloaded logs_h1ju1sgp:v0 to /scratch/downloaded_artifacts/logs_h1ju1sgp:v0\n"
     ]
    },
    {
     "name": "stderr",
     "output_type": "stream",
     "text": [
      "\u001b[34m\u001b[1mwandb\u001b[0m: \u001b[32m\u001b[41mERROR\u001b[0m Error while calling W&B API: rate limit exceeded (<Response [429]>)\n",
      "\u001b[34m\u001b[1mwandb\u001b[0m: \u001b[32m\u001b[41mERROR\u001b[0m Error while calling W&B API: rate limit exceeded (<Response [429]>)\n",
      "\u001b[34m\u001b[1mwandb\u001b[0m: Network error (HTTPError), entering retry loop.\n",
      "\u001b[34m\u001b[1mwandb\u001b[0m: \u001b[32m\u001b[41mERROR\u001b[0m Error while calling W&B API: rate limit exceeded (<Response [429]>)\n",
      "\u001b[34m\u001b[1mwandb\u001b[0m: \u001b[32m\u001b[41mERROR\u001b[0m Error while calling W&B API: rate limit exceeded (<Response [429]>)\n",
      "\u001b[34m\u001b[1mwandb\u001b[0m: \u001b[32m\u001b[41mERROR\u001b[0m Error while calling W&B API: rate limit exceeded (<Response [429]>)\n",
      "\u001b[34m\u001b[1mwandb\u001b[0m: \u001b[32m\u001b[41mERROR\u001b[0m Error while calling W&B API: rate limit exceeded (<Response [429]>)\n",
      "\u001b[34m\u001b[1mwandb\u001b[0m: \u001b[32m\u001b[41mERROR\u001b[0m Error while calling W&B API: rate limit exceeded (<Response [429]>)\n",
      "\u001b[34m\u001b[1mwandb\u001b[0m: \u001b[32m\u001b[41mERROR\u001b[0m Error while calling W&B API: rate limit exceeded (<Response [429]>)\n",
      "\u001b[34m\u001b[1mwandb\u001b[0m:   1 of 1 files downloaded.  \n"
     ]
    },
    {
     "name": "stdout",
     "output_type": "stream",
     "text": [
      "2025-04-20 13:08:31,208 - INFO - Downloaded logs_u4294k6u:v0 to /scratch/downloaded_artifacts/logs_u4294k6u:v0\n"
     ]
    },
    {
     "name": "stderr",
     "output_type": "stream",
     "text": [
      "\u001b[34m\u001b[1mwandb\u001b[0m:   1 of 1 files downloaded.  \n"
     ]
    },
    {
     "name": "stdout",
     "output_type": "stream",
     "text": [
      "2025-04-20 13:08:31,266 - INFO - Downloaded logs_uqcjl3oc:v0 to /scratch/downloaded_artifacts/logs_uqcjl3oc:v0\n"
     ]
    },
    {
     "name": "stderr",
     "output_type": "stream",
     "text": [
      "\u001b[34m\u001b[1mwandb\u001b[0m:   1 of 1 files downloaded.  \n"
     ]
    },
    {
     "name": "stdout",
     "output_type": "stream",
     "text": [
      "2025-04-20 13:08:31,272 - INFO - Downloaded logs_2whiod0u:v0 to /scratch/downloaded_artifacts/logs_2whiod0u:v0\n"
     ]
    },
    {
     "name": "stderr",
     "output_type": "stream",
     "text": [
      "\u001b[34m\u001b[1mwandb\u001b[0m:   1 of 1 files downloaded.  \n"
     ]
    },
    {
     "name": "stdout",
     "output_type": "stream",
     "text": [
      "2025-04-20 13:08:31,434 - INFO - Downloaded logs_zrwwmawq:v0 to /scratch/downloaded_artifacts/logs_zrwwmawq:v0\n"
     ]
    },
    {
     "name": "stderr",
     "output_type": "stream",
     "text": [
      "\u001b[34m\u001b[1mwandb\u001b[0m:   1 of 1 files downloaded.  \n"
     ]
    },
    {
     "name": "stdout",
     "output_type": "stream",
     "text": [
      "2025-04-20 13:08:31,466 - INFO - Downloaded logs_vnrtwfc5:v0 to /scratch/downloaded_artifacts/logs_vnrtwfc5:v0\n"
     ]
    },
    {
     "name": "stderr",
     "output_type": "stream",
     "text": [
      "\u001b[34m\u001b[1mwandb\u001b[0m:   1 of 1 files downloaded.  \n"
     ]
    },
    {
     "name": "stdout",
     "output_type": "stream",
     "text": [
      "2025-04-20 13:08:32,459 - INFO - Downloaded logs_8mkj4hd1:v0 to /scratch/downloaded_artifacts/logs_8mkj4hd1:v0\n"
     ]
    },
    {
     "name": "stderr",
     "output_type": "stream",
     "text": [
      "\u001b[34m\u001b[1mwandb\u001b[0m:   1 of 1 files downloaded.  \n"
     ]
    },
    {
     "name": "stdout",
     "output_type": "stream",
     "text": [
      "2025-04-20 13:08:32,503 - INFO - Downloaded logs_z6kyr8jj:v0 to /scratch/downloaded_artifacts/logs_z6kyr8jj:v0\n"
     ]
    },
    {
     "name": "stderr",
     "output_type": "stream",
     "text": [
      "\u001b[34m\u001b[1mwandb\u001b[0m:   1 of 1 files downloaded.  \n"
     ]
    },
    {
     "name": "stdout",
     "output_type": "stream",
     "text": [
      "2025-04-20 13:08:32,594 - INFO - Downloaded logs_l57m5jlu:v0 to /scratch/downloaded_artifacts/logs_l57m5jlu:v0\n"
     ]
    },
    {
     "name": "stderr",
     "output_type": "stream",
     "text": [
      "\u001b[34m\u001b[1mwandb\u001b[0m:   1 of 1 files downloaded.  \n"
     ]
    },
    {
     "name": "stdout",
     "output_type": "stream",
     "text": [
      "2025-04-20 13:08:32,684 - INFO - Downloaded logs_fjvw4z6w:v0 to /scratch/downloaded_artifacts/logs_fjvw4z6w:v0\n"
     ]
    },
    {
     "name": "stderr",
     "output_type": "stream",
     "text": [
      "\u001b[34m\u001b[1mwandb\u001b[0m:   1 of 1 files downloaded.  \n"
     ]
    },
    {
     "name": "stdout",
     "output_type": "stream",
     "text": [
      "2025-04-20 13:08:32,805 - INFO - Downloaded logs_2x6ssweq:v0 to /scratch/downloaded_artifacts/logs_2x6ssweq:v0\n"
     ]
    },
    {
     "name": "stderr",
     "output_type": "stream",
     "text": [
      "\u001b[34m\u001b[1mwandb\u001b[0m:   1 of 1 files downloaded.  \n"
     ]
    },
    {
     "name": "stdout",
     "output_type": "stream",
     "text": [
      "2025-04-20 13:08:32,903 - INFO - Downloaded logs_5f11x48j:v0 to /scratch/downloaded_artifacts/logs_5f11x48j:v0\n"
     ]
    },
    {
     "name": "stderr",
     "output_type": "stream",
     "text": [
      "\u001b[34m\u001b[1mwandb\u001b[0m:   1 of 1 files downloaded.  \n"
     ]
    },
    {
     "name": "stdout",
     "output_type": "stream",
     "text": [
      "2025-04-20 13:08:32,923 - INFO - Downloaded logs_gqwcw4fg:v0 to /scratch/downloaded_artifacts/logs_gqwcw4fg:v0\n"
     ]
    },
    {
     "name": "stderr",
     "output_type": "stream",
     "text": [
      "\u001b[34m\u001b[1mwandb\u001b[0m:   1 of 1 files downloaded.  \n"
     ]
    },
    {
     "name": "stdout",
     "output_type": "stream",
     "text": [
      "2025-04-20 13:08:32,941 - INFO - Downloaded logs_t8bbc8ez:v0 to /scratch/downloaded_artifacts/logs_t8bbc8ez:v0\n"
     ]
    },
    {
     "name": "stderr",
     "output_type": "stream",
     "text": [
      "\u001b[34m\u001b[1mwandb\u001b[0m:   1 of 1 files downloaded.  \n"
     ]
    },
    {
     "name": "stdout",
     "output_type": "stream",
     "text": [
      "2025-04-20 13:08:32,954 - INFO - Downloaded logs_ty3on9y9:v0 to /scratch/downloaded_artifacts/logs_ty3on9y9:v0\n"
     ]
    },
    {
     "name": "stderr",
     "output_type": "stream",
     "text": [
      "\u001b[34m\u001b[1mwandb\u001b[0m:   1 of 1 files downloaded.  \n"
     ]
    },
    {
     "name": "stdout",
     "output_type": "stream",
     "text": [
      "2025-04-20 13:08:33,160 - INFO - Downloaded logs_6oguna2p:v0 to /scratch/downloaded_artifacts/logs_6oguna2p:v0\n"
     ]
    },
    {
     "name": "stderr",
     "output_type": "stream",
     "text": [
      "\u001b[34m\u001b[1mwandb\u001b[0m:   1 of 1 files downloaded.  \n"
     ]
    },
    {
     "name": "stdout",
     "output_type": "stream",
     "text": [
      "2025-04-20 13:08:33,176 - INFO - Downloaded logs_yy3089n4:v0 to /scratch/downloaded_artifacts/logs_yy3089n4:v0\n"
     ]
    },
    {
     "name": "stderr",
     "output_type": "stream",
     "text": [
      "\u001b[34m\u001b[1mwandb\u001b[0m:   1 of 1 files downloaded.  \n"
     ]
    },
    {
     "name": "stdout",
     "output_type": "stream",
     "text": [
      "2025-04-20 13:08:33,184 - INFO - Downloaded logs_myrs4zdm:v0 to /scratch/downloaded_artifacts/logs_myrs4zdm:v0\n"
     ]
    },
    {
     "name": "stderr",
     "output_type": "stream",
     "text": [
      "\u001b[34m\u001b[1mwandb\u001b[0m:   1 of 1 files downloaded.  \n"
     ]
    },
    {
     "name": "stdout",
     "output_type": "stream",
     "text": [
      "2025-04-20 13:08:33,239 - INFO - Downloaded logs_7goqchzz:v0 to /scratch/downloaded_artifacts/logs_7goqchzz:v0\n"
     ]
    },
    {
     "name": "stderr",
     "output_type": "stream",
     "text": [
      "\u001b[34m\u001b[1mwandb\u001b[0m:   1 of 1 files downloaded.  \n"
     ]
    },
    {
     "name": "stdout",
     "output_type": "stream",
     "text": [
      "2025-04-20 13:08:33,255 - INFO - Downloaded logs_pde77vj9:v0 to /scratch/downloaded_artifacts/logs_pde77vj9:v0\n"
     ]
    },
    {
     "name": "stderr",
     "output_type": "stream",
     "text": [
      "\u001b[34m\u001b[1mwandb\u001b[0m:   1 of 1 files downloaded.  \n"
     ]
    },
    {
     "name": "stdout",
     "output_type": "stream",
     "text": [
      "2025-04-20 13:08:33,362 - INFO - Downloaded logs_om1k3wsw:v0 to /scratch/downloaded_artifacts/logs_om1k3wsw:v0\n"
     ]
    },
    {
     "name": "stderr",
     "output_type": "stream",
     "text": [
      "\u001b[34m\u001b[1mwandb\u001b[0m:   1 of 1 files downloaded.  \n"
     ]
    },
    {
     "name": "stdout",
     "output_type": "stream",
     "text": [
      "2025-04-20 13:08:33,366 - INFO - Downloaded logs_p0x40j8x:v0 to /scratch/downloaded_artifacts/logs_p0x40j8x:v0\n"
     ]
    },
    {
     "name": "stderr",
     "output_type": "stream",
     "text": [
      "\u001b[34m\u001b[1mwandb\u001b[0m:   1 of 1 files downloaded.  \n"
     ]
    },
    {
     "name": "stdout",
     "output_type": "stream",
     "text": [
      "2025-04-20 13:08:33,457 - INFO - Downloaded logs_r48i65ra:v0 to /scratch/downloaded_artifacts/logs_r48i65ra:v0\n"
     ]
    },
    {
     "name": "stderr",
     "output_type": "stream",
     "text": [
      "\u001b[34m\u001b[1mwandb\u001b[0m:   1 of 1 files downloaded.  \n"
     ]
    },
    {
     "name": "stdout",
     "output_type": "stream",
     "text": [
      "2025-04-20 13:08:33,587 - INFO - Downloaded logs_2vhkxy4e:v0 to /scratch/downloaded_artifacts/logs_2vhkxy4e:v0\n"
     ]
    },
    {
     "name": "stderr",
     "output_type": "stream",
     "text": [
      "\u001b[34m\u001b[1mwandb\u001b[0m:   1 of 1 files downloaded.  \n"
     ]
    },
    {
     "name": "stdout",
     "output_type": "stream",
     "text": [
      "2025-04-20 13:08:33,592 - INFO - Downloaded logs_tf74l61u:v0 to /scratch/downloaded_artifacts/logs_tf74l61u:v0\n"
     ]
    },
    {
     "name": "stderr",
     "output_type": "stream",
     "text": [
      "\u001b[34m\u001b[1mwandb\u001b[0m:   1 of 1 files downloaded.  \n"
     ]
    },
    {
     "name": "stdout",
     "output_type": "stream",
     "text": [
      "2025-04-20 13:08:33,746 - INFO - Downloaded logs_3r5e01io:v0 to /scratch/downloaded_artifacts/logs_3r5e01io:v0\n"
     ]
    },
    {
     "name": "stderr",
     "output_type": "stream",
     "text": [
      "\u001b[34m\u001b[1mwandb\u001b[0m:   1 of 1 files downloaded.  \n"
     ]
    },
    {
     "name": "stdout",
     "output_type": "stream",
     "text": [
      "2025-04-20 13:08:33,759 - INFO - Downloaded logs_s233sjiz:v0 to /scratch/downloaded_artifacts/logs_s233sjiz:v0\n"
     ]
    },
    {
     "name": "stderr",
     "output_type": "stream",
     "text": [
      "\u001b[34m\u001b[1mwandb\u001b[0m:   1 of 1 files downloaded.  \n"
     ]
    },
    {
     "name": "stdout",
     "output_type": "stream",
     "text": [
      "2025-04-20 13:08:33,946 - INFO - Downloaded logs_3yr5r92b:v0 to /scratch/downloaded_artifacts/logs_3yr5r92b:v0\n"
     ]
    },
    {
     "name": "stderr",
     "output_type": "stream",
     "text": [
      "\u001b[34m\u001b[1mwandb\u001b[0m:   1 of 1 files downloaded.  \n"
     ]
    },
    {
     "name": "stdout",
     "output_type": "stream",
     "text": [
      "2025-04-20 13:08:34,020 - INFO - Downloaded logs_9ts7mo86:v0 to /scratch/downloaded_artifacts/logs_9ts7mo86:v0\n"
     ]
    },
    {
     "name": "stderr",
     "output_type": "stream",
     "text": [
      "\u001b[34m\u001b[1mwandb\u001b[0m:   1 of 1 files downloaded.  \n"
     ]
    },
    {
     "name": "stdout",
     "output_type": "stream",
     "text": [
      "2025-04-20 13:08:34,026 - INFO - Downloaded logs_a7g5lce4:v0 to /scratch/downloaded_artifacts/logs_a7g5lce4:v0\n"
     ]
    },
    {
     "name": "stderr",
     "output_type": "stream",
     "text": [
      "\u001b[34m\u001b[1mwandb\u001b[0m:   1 of 1 files downloaded.  \n"
     ]
    },
    {
     "name": "stdout",
     "output_type": "stream",
     "text": [
      "2025-04-20 13:08:34,029 - INFO - Downloaded logs_8bat1gh3:v0 to /scratch/downloaded_artifacts/logs_8bat1gh3:v0\n"
     ]
    },
    {
     "name": "stderr",
     "output_type": "stream",
     "text": [
      "\u001b[34m\u001b[1mwandb\u001b[0m:   1 of 1 files downloaded.  \n"
     ]
    },
    {
     "name": "stdout",
     "output_type": "stream",
     "text": [
      "2025-04-20 13:08:34,203 - INFO - Downloaded logs_iwqg3bkj:v0 to /scratch/downloaded_artifacts/logs_iwqg3bkj:v0\n"
     ]
    },
    {
     "name": "stderr",
     "output_type": "stream",
     "text": [
      "\u001b[34m\u001b[1mwandb\u001b[0m:   1 of 1 files downloaded.  \n"
     ]
    },
    {
     "name": "stdout",
     "output_type": "stream",
     "text": [
      "2025-04-20 13:08:34,260 - INFO - Downloaded logs_kfanmy5z:v0 to /scratch/downloaded_artifacts/logs_kfanmy5z:v0\n"
     ]
    },
    {
     "name": "stderr",
     "output_type": "stream",
     "text": [
      "\u001b[34m\u001b[1mwandb\u001b[0m:   1 of 1 files downloaded.  \n"
     ]
    },
    {
     "name": "stdout",
     "output_type": "stream",
     "text": [
      "2025-04-20 13:08:34,262 - INFO - Downloaded logs_ilkrb8v9:v0 to /scratch/downloaded_artifacts/logs_ilkrb8v9:v0\n"
     ]
    },
    {
     "name": "stderr",
     "output_type": "stream",
     "text": [
      "\u001b[34m\u001b[1mwandb\u001b[0m:   1 of 1 files downloaded.  \n"
     ]
    },
    {
     "name": "stdout",
     "output_type": "stream",
     "text": [
      "2025-04-20 13:08:34,345 - INFO - Downloaded logs_a9br0slo:v0 to /scratch/downloaded_artifacts/logs_a9br0slo:v0\n"
     ]
    },
    {
     "name": "stderr",
     "output_type": "stream",
     "text": [
      "\u001b[34m\u001b[1mwandb\u001b[0m:   1 of 1 files downloaded.  \n"
     ]
    },
    {
     "name": "stdout",
     "output_type": "stream",
     "text": [
      "2025-04-20 13:08:34,443 - INFO - Downloaded logs_lssnmmt1:v0 to /scratch/downloaded_artifacts/logs_lssnmmt1:v0\n"
     ]
    },
    {
     "name": "stderr",
     "output_type": "stream",
     "text": [
      "\u001b[34m\u001b[1mwandb\u001b[0m:   1 of 1 files downloaded.  \n"
     ]
    },
    {
     "name": "stdout",
     "output_type": "stream",
     "text": [
      "2025-04-20 13:08:34,450 - INFO - Downloaded logs_l4h8hjm1:v0 to /scratch/downloaded_artifacts/logs_l4h8hjm1:v0\n"
     ]
    },
    {
     "name": "stderr",
     "output_type": "stream",
     "text": [
      "\u001b[34m\u001b[1mwandb\u001b[0m:   1 of 1 files downloaded.  \n"
     ]
    },
    {
     "name": "stdout",
     "output_type": "stream",
     "text": [
      "2025-04-20 13:08:34,621 - INFO - Downloaded logs_p8q3fm4c:v0 to /scratch/downloaded_artifacts/logs_p8q3fm4c:v0\n"
     ]
    },
    {
     "name": "stderr",
     "output_type": "stream",
     "text": [
      "\u001b[34m\u001b[1mwandb\u001b[0m:   1 of 1 files downloaded.  \n"
     ]
    },
    {
     "name": "stdout",
     "output_type": "stream",
     "text": [
      "2025-04-20 13:08:34,701 - INFO - Downloaded logs_nbpnvnqu:v0 to /scratch/downloaded_artifacts/logs_nbpnvnqu:v0\n"
     ]
    },
    {
     "name": "stderr",
     "output_type": "stream",
     "text": [
      "\u001b[34m\u001b[1mwandb\u001b[0m:   1 of 1 files downloaded.  \n"
     ]
    },
    {
     "name": "stdout",
     "output_type": "stream",
     "text": [
      "2025-04-20 13:08:34,793 - INFO - Downloaded logs_whob6z8e:v0 to /scratch/downloaded_artifacts/logs_whob6z8e:v0\n"
     ]
    },
    {
     "name": "stderr",
     "output_type": "stream",
     "text": [
      "\u001b[34m\u001b[1mwandb\u001b[0m:   1 of 1 files downloaded.  \n"
     ]
    },
    {
     "name": "stdout",
     "output_type": "stream",
     "text": [
      "2025-04-20 13:08:34,884 - INFO - Downloaded logs_vxskakbz:v0 to /scratch/downloaded_artifacts/logs_vxskakbz:v0\n"
     ]
    },
    {
     "name": "stderr",
     "output_type": "stream",
     "text": [
      "\u001b[34m\u001b[1mwandb\u001b[0m:   1 of 1 files downloaded.  \n"
     ]
    },
    {
     "name": "stdout",
     "output_type": "stream",
     "text": [
      "2025-04-20 13:08:34,888 - INFO - Downloaded logs_o03owm1v:v0 to /scratch/downloaded_artifacts/logs_o03owm1v:v0\n"
     ]
    },
    {
     "name": "stderr",
     "output_type": "stream",
     "text": [
      "\u001b[34m\u001b[1mwandb\u001b[0m:   1 of 1 files downloaded.  \n"
     ]
    },
    {
     "name": "stdout",
     "output_type": "stream",
     "text": [
      "2025-04-20 13:08:34,902 - INFO - Downloaded logs_tp02qrbh:v0 to /scratch/downloaded_artifacts/logs_tp02qrbh:v0\n"
     ]
    },
    {
     "name": "stderr",
     "output_type": "stream",
     "text": [
      "\u001b[34m\u001b[1mwandb\u001b[0m:   1 of 1 files downloaded.  \n"
     ]
    },
    {
     "name": "stdout",
     "output_type": "stream",
     "text": [
      "2025-04-20 13:08:34,920 - INFO - Downloaded logs_40kv0z7k:v0 to /scratch/downloaded_artifacts/logs_40kv0z7k:v0\n"
     ]
    },
    {
     "name": "stderr",
     "output_type": "stream",
     "text": [
      "\u001b[34m\u001b[1mwandb\u001b[0m:   1 of 1 files downloaded.  \n"
     ]
    },
    {
     "name": "stdout",
     "output_type": "stream",
     "text": [
      "2025-04-20 13:08:34,978 - INFO - Downloaded logs_whiu4ss1:v0 to /scratch/downloaded_artifacts/logs_whiu4ss1:v0\n"
     ]
    },
    {
     "name": "stderr",
     "output_type": "stream",
     "text": [
      "\u001b[34m\u001b[1mwandb\u001b[0m:   1 of 1 files downloaded.  \n"
     ]
    },
    {
     "name": "stdout",
     "output_type": "stream",
     "text": [
      "2025-04-20 13:08:35,135 - INFO - Downloaded logs_g62vyqbv:v0 to /scratch/downloaded_artifacts/logs_g62vyqbv:v0\n"
     ]
    },
    {
     "name": "stderr",
     "output_type": "stream",
     "text": [
      "\u001b[34m\u001b[1mwandb\u001b[0m:   1 of 1 files downloaded.  \n"
     ]
    },
    {
     "name": "stdout",
     "output_type": "stream",
     "text": [
      "2025-04-20 13:08:35,295 - INFO - Downloaded logs_c7ip0rb9:v0 to /scratch/downloaded_artifacts/logs_c7ip0rb9:v0\n"
     ]
    },
    {
     "name": "stderr",
     "output_type": "stream",
     "text": [
      "\u001b[34m\u001b[1mwandb\u001b[0m:   1 of 1 files downloaded.  \n"
     ]
    },
    {
     "name": "stdout",
     "output_type": "stream",
     "text": [
      "2025-04-20 13:08:35,374 - INFO - Downloaded logs_m1tkwaie:v0 to /scratch/downloaded_artifacts/logs_m1tkwaie:v0\n"
     ]
    },
    {
     "name": "stderr",
     "output_type": "stream",
     "text": [
      "\u001b[34m\u001b[1mwandb\u001b[0m:   1 of 1 files downloaded.  \n"
     ]
    },
    {
     "name": "stdout",
     "output_type": "stream",
     "text": [
      "2025-04-20 13:08:35,384 - INFO - Downloaded logs_k80tks7x:v0 to /scratch/downloaded_artifacts/logs_k80tks7x:v0\n"
     ]
    },
    {
     "name": "stderr",
     "output_type": "stream",
     "text": [
      "\u001b[34m\u001b[1mwandb\u001b[0m:   1 of 1 files downloaded.  \n"
     ]
    },
    {
     "name": "stdout",
     "output_type": "stream",
     "text": [
      "2025-04-20 13:08:35,404 - INFO - Downloaded logs_1yfjrywx:v0 to /scratch/downloaded_artifacts/logs_1yfjrywx:v0\n"
     ]
    },
    {
     "name": "stderr",
     "output_type": "stream",
     "text": [
      "\u001b[34m\u001b[1mwandb\u001b[0m:   1 of 1 files downloaded.  \n"
     ]
    },
    {
     "name": "stdout",
     "output_type": "stream",
     "text": [
      "2025-04-20 13:08:35,562 - INFO - Downloaded logs_389hyfh8:v0 to /scratch/downloaded_artifacts/logs_389hyfh8:v0\n"
     ]
    },
    {
     "name": "stderr",
     "output_type": "stream",
     "text": [
      "\u001b[34m\u001b[1mwandb\u001b[0m:   1 of 1 files downloaded.  \n"
     ]
    },
    {
     "name": "stdout",
     "output_type": "stream",
     "text": [
      "2025-04-20 13:08:35,580 - INFO - Downloaded logs_79y7ga61:v0 to /scratch/downloaded_artifacts/logs_79y7ga61:v0\n"
     ]
    },
    {
     "name": "stderr",
     "output_type": "stream",
     "text": [
      "\u001b[34m\u001b[1mwandb\u001b[0m:   1 of 1 files downloaded.  \n"
     ]
    },
    {
     "name": "stdout",
     "output_type": "stream",
     "text": [
      "2025-04-20 13:08:35,616 - INFO - Downloaded logs_mqf970gi:v0 to /scratch/downloaded_artifacts/logs_mqf970gi:v0\n"
     ]
    },
    {
     "name": "stderr",
     "output_type": "stream",
     "text": [
      "\u001b[34m\u001b[1mwandb\u001b[0m:   1 of 1 files downloaded.  \n"
     ]
    },
    {
     "name": "stdout",
     "output_type": "stream",
     "text": [
      "2025-04-20 13:08:35,701 - INFO - Downloaded logs_8p5g4suj:v0 to /scratch/downloaded_artifacts/logs_8p5g4suj:v0\n"
     ]
    },
    {
     "name": "stderr",
     "output_type": "stream",
     "text": [
      "\u001b[34m\u001b[1mwandb\u001b[0m:   1 of 1 files downloaded.  \n"
     ]
    },
    {
     "name": "stdout",
     "output_type": "stream",
     "text": [
      "2025-04-20 13:08:35,743 - INFO - Downloaded logs_qtoj5jk0:v0 to /scratch/downloaded_artifacts/logs_qtoj5jk0:v0\n"
     ]
    },
    {
     "name": "stderr",
     "output_type": "stream",
     "text": [
      "\u001b[34m\u001b[1mwandb\u001b[0m:   1 of 1 files downloaded.  \n"
     ]
    },
    {
     "name": "stdout",
     "output_type": "stream",
     "text": [
      "2025-04-20 13:08:35,818 - INFO - Downloaded logs_9g9s8rzz:v0 to /scratch/downloaded_artifacts/logs_9g9s8rzz:v0\n"
     ]
    },
    {
     "name": "stderr",
     "output_type": "stream",
     "text": [
      "\u001b[34m\u001b[1mwandb\u001b[0m:   1 of 1 files downloaded.  \n"
     ]
    },
    {
     "name": "stdout",
     "output_type": "stream",
     "text": [
      "2025-04-20 13:08:35,990 - INFO - Downloaded logs_cpflkqco:v0 to /scratch/downloaded_artifacts/logs_cpflkqco:v0\n"
     ]
    },
    {
     "name": "stderr",
     "output_type": "stream",
     "text": [
      "\u001b[34m\u001b[1mwandb\u001b[0m:   1 of 1 files downloaded.  \n"
     ]
    },
    {
     "name": "stdout",
     "output_type": "stream",
     "text": [
      "2025-04-20 13:08:36,025 - INFO - Downloaded logs_eqgl9665:v0 to /scratch/downloaded_artifacts/logs_eqgl9665:v0\n"
     ]
    },
    {
     "name": "stderr",
     "output_type": "stream",
     "text": [
      "\u001b[34m\u001b[1mwandb\u001b[0m:   1 of 1 files downloaded.  \n"
     ]
    },
    {
     "name": "stdout",
     "output_type": "stream",
     "text": [
      "2025-04-20 13:08:36,158 - INFO - Downloaded logs_g5e9a9el:v0 to /scratch/downloaded_artifacts/logs_g5e9a9el:v0\n"
     ]
    },
    {
     "name": "stderr",
     "output_type": "stream",
     "text": [
      "\u001b[34m\u001b[1mwandb\u001b[0m:   1 of 1 files downloaded.  \n"
     ]
    },
    {
     "name": "stdout",
     "output_type": "stream",
     "text": [
      "2025-04-20 13:08:36,170 - INFO - Downloaded logs_hq0rnd0o:v0 to /scratch/downloaded_artifacts/logs_hq0rnd0o:v0\n"
     ]
    },
    {
     "name": "stderr",
     "output_type": "stream",
     "text": [
      "\u001b[34m\u001b[1mwandb\u001b[0m:   1 of 1 files downloaded.  \n"
     ]
    },
    {
     "name": "stdout",
     "output_type": "stream",
     "text": [
      "2025-04-20 13:08:36,233 - INFO - Downloaded logs_l6nac7ch:v0 to /scratch/downloaded_artifacts/logs_l6nac7ch:v0\n"
     ]
    },
    {
     "name": "stderr",
     "output_type": "stream",
     "text": [
      "\u001b[34m\u001b[1mwandb\u001b[0m:   1 of 1 files downloaded.  \n"
     ]
    },
    {
     "name": "stdout",
     "output_type": "stream",
     "text": [
      "2025-04-20 13:08:36,305 - INFO - Downloaded logs_rzsunvng:v0 to /scratch/downloaded_artifacts/logs_rzsunvng:v0\n"
     ]
    },
    {
     "name": "stderr",
     "output_type": "stream",
     "text": [
      "\u001b[34m\u001b[1mwandb\u001b[0m:   1 of 1 files downloaded.  \n"
     ]
    },
    {
     "name": "stdout",
     "output_type": "stream",
     "text": [
      "2025-04-20 13:08:36,310 - INFO - Downloaded logs_5h4uuek5:v0 to /scratch/downloaded_artifacts/logs_5h4uuek5:v0\n"
     ]
    },
    {
     "name": "stderr",
     "output_type": "stream",
     "text": [
      "\u001b[34m\u001b[1mwandb\u001b[0m:   1 of 1 files downloaded.  \n"
     ]
    },
    {
     "name": "stdout",
     "output_type": "stream",
     "text": [
      "2025-04-20 13:08:36,352 - INFO - Downloaded logs_iolz3wqw:v0 to /scratch/downloaded_artifacts/logs_iolz3wqw:v0\n"
     ]
    },
    {
     "name": "stderr",
     "output_type": "stream",
     "text": [
      "\u001b[34m\u001b[1mwandb\u001b[0m:   1 of 1 files downloaded.  \n"
     ]
    },
    {
     "name": "stdout",
     "output_type": "stream",
     "text": [
      "2025-04-20 13:08:36,515 - INFO - Downloaded logs_9ea016gs:v0 to /scratch/downloaded_artifacts/logs_9ea016gs:v0\n"
     ]
    },
    {
     "name": "stderr",
     "output_type": "stream",
     "text": [
      "\u001b[34m\u001b[1mwandb\u001b[0m:   1 of 1 files downloaded.  \n"
     ]
    },
    {
     "name": "stdout",
     "output_type": "stream",
     "text": [
      "2025-04-20 13:08:36,570 - INFO - Downloaded logs_v5xav1vn:v0 to /scratch/downloaded_artifacts/logs_v5xav1vn:v0\n"
     ]
    },
    {
     "name": "stderr",
     "output_type": "stream",
     "text": [
      "\u001b[34m\u001b[1mwandb\u001b[0m:   1 of 1 files downloaded.  \n"
     ]
    },
    {
     "name": "stdout",
     "output_type": "stream",
     "text": [
      "2025-04-20 13:08:36,687 - INFO - Downloaded logs_csvr90gm:v0 to /scratch/downloaded_artifacts/logs_csvr90gm:v0\n"
     ]
    },
    {
     "name": "stderr",
     "output_type": "stream",
     "text": [
      "\u001b[34m\u001b[1mwandb\u001b[0m:   1 of 1 files downloaded.  \n"
     ]
    },
    {
     "name": "stdout",
     "output_type": "stream",
     "text": [
      "2025-04-20 13:08:36,743 - INFO - Downloaded logs_g3h64uut:v0 to /scratch/downloaded_artifacts/logs_g3h64uut:v0\n"
     ]
    },
    {
     "name": "stderr",
     "output_type": "stream",
     "text": [
      "\u001b[34m\u001b[1mwandb\u001b[0m:   1 of 1 files downloaded.  \n"
     ]
    },
    {
     "name": "stdout",
     "output_type": "stream",
     "text": [
      "2025-04-20 13:08:36,889 - INFO - Downloaded logs_xtfet5ha:v0 to /scratch/downloaded_artifacts/logs_xtfet5ha:v0\n"
     ]
    },
    {
     "name": "stderr",
     "output_type": "stream",
     "text": [
      "\u001b[34m\u001b[1mwandb\u001b[0m:   1 of 1 files downloaded.  \n"
     ]
    },
    {
     "name": "stdout",
     "output_type": "stream",
     "text": [
      "2025-04-20 13:08:36,919 - INFO - Downloaded logs_xfr30wxr:v0 to /scratch/downloaded_artifacts/logs_xfr30wxr:v0\n"
     ]
    },
    {
     "name": "stderr",
     "output_type": "stream",
     "text": [
      "\u001b[34m\u001b[1mwandb\u001b[0m:   1 of 1 files downloaded.  \n"
     ]
    },
    {
     "name": "stdout",
     "output_type": "stream",
     "text": [
      "2025-04-20 13:08:37,224 - INFO - Downloaded logs_zuakqh2n:v0 to /scratch/downloaded_artifacts/logs_zuakqh2n:v0\n"
     ]
    },
    {
     "name": "stderr",
     "output_type": "stream",
     "text": [
      "\u001b[34m\u001b[1mwandb\u001b[0m:   1 of 1 files downloaded.  \n"
     ]
    },
    {
     "name": "stdout",
     "output_type": "stream",
     "text": [
      "2025-04-20 13:08:37,288 - INFO - Downloaded logs_ou4ge30m:v0 to /scratch/downloaded_artifacts/logs_ou4ge30m:v0\n"
     ]
    },
    {
     "name": "stderr",
     "output_type": "stream",
     "text": [
      "\u001b[34m\u001b[1mwandb\u001b[0m:   1 of 1 files downloaded.  \n"
     ]
    },
    {
     "name": "stdout",
     "output_type": "stream",
     "text": [
      "2025-04-20 13:08:37,483 - INFO - Downloaded logs_1515b3sn:v0 to /scratch/downloaded_artifacts/logs_1515b3sn:v0\n"
     ]
    },
    {
     "name": "stderr",
     "output_type": "stream",
     "text": [
      "\u001b[34m\u001b[1mwandb\u001b[0m:   1 of 1 files downloaded.  \n"
     ]
    },
    {
     "name": "stdout",
     "output_type": "stream",
     "text": [
      "2025-04-20 13:08:37,551 - INFO - Downloaded logs_yq1nvduh:v0 to /scratch/downloaded_artifacts/logs_yq1nvduh:v0\n"
     ]
    },
    {
     "name": "stderr",
     "output_type": "stream",
     "text": [
      "\u001b[34m\u001b[1mwandb\u001b[0m:   1 of 1 files downloaded.  \n"
     ]
    },
    {
     "name": "stdout",
     "output_type": "stream",
     "text": [
      "2025-04-20 13:08:37,595 - INFO - Downloaded logs_5b12mxf4:v0 to /scratch/downloaded_artifacts/logs_5b12mxf4:v0\n"
     ]
    },
    {
     "name": "stderr",
     "output_type": "stream",
     "text": [
      "\u001b[34m\u001b[1mwandb\u001b[0m:   1 of 1 files downloaded.  \n"
     ]
    },
    {
     "name": "stdout",
     "output_type": "stream",
     "text": [
      "2025-04-20 13:08:37,659 - INFO - Downloaded logs_5rep6nzb:v0 to /scratch/downloaded_artifacts/logs_5rep6nzb:v0\n"
     ]
    },
    {
     "name": "stderr",
     "output_type": "stream",
     "text": [
      "\u001b[34m\u001b[1mwandb\u001b[0m:   1 of 1 files downloaded.  \n"
     ]
    },
    {
     "name": "stdout",
     "output_type": "stream",
     "text": [
      "2025-04-20 13:08:37,709 - INFO - Downloaded logs_z9palbnn:v0 to /scratch/downloaded_artifacts/logs_z9palbnn:v0\n"
     ]
    },
    {
     "name": "stderr",
     "output_type": "stream",
     "text": [
      "\u001b[34m\u001b[1mwandb\u001b[0m:   1 of 1 files downloaded.  \n"
     ]
    },
    {
     "name": "stdout",
     "output_type": "stream",
     "text": [
      "2025-04-20 13:08:37,873 - INFO - Downloaded logs_4wjx0ikv:v0 to /scratch/downloaded_artifacts/logs_4wjx0ikv:v0\n"
     ]
    },
    {
     "name": "stderr",
     "output_type": "stream",
     "text": [
      "\u001b[34m\u001b[1mwandb\u001b[0m:   1 of 1 files downloaded.  \n"
     ]
    },
    {
     "name": "stdout",
     "output_type": "stream",
     "text": [
      "2025-04-20 13:08:37,909 - INFO - Downloaded logs_5w397fb9:v0 to /scratch/downloaded_artifacts/logs_5w397fb9:v0\n"
     ]
    },
    {
     "name": "stderr",
     "output_type": "stream",
     "text": [
      "\u001b[34m\u001b[1mwandb\u001b[0m:   1 of 1 files downloaded.  \n"
     ]
    },
    {
     "name": "stdout",
     "output_type": "stream",
     "text": [
      "2025-04-20 13:08:37,941 - INFO - Downloaded logs_axok191o:v0 to /scratch/downloaded_artifacts/logs_axok191o:v0\n"
     ]
    },
    {
     "name": "stderr",
     "output_type": "stream",
     "text": [
      "\u001b[34m\u001b[1mwandb\u001b[0m:   1 of 1 files downloaded.  \n"
     ]
    },
    {
     "name": "stdout",
     "output_type": "stream",
     "text": [
      "2025-04-20 13:08:38,029 - INFO - Downloaded logs_ajzz3pcj:v0 to /scratch/downloaded_artifacts/logs_ajzz3pcj:v0\n"
     ]
    },
    {
     "name": "stderr",
     "output_type": "stream",
     "text": [
      "\u001b[34m\u001b[1mwandb\u001b[0m:   1 of 1 files downloaded.  \n"
     ]
    },
    {
     "name": "stdout",
     "output_type": "stream",
     "text": [
      "2025-04-20 13:08:38,067 - INFO - Downloaded logs_dad3nk1f:v0 to /scratch/downloaded_artifacts/logs_dad3nk1f:v0\n"
     ]
    },
    {
     "name": "stderr",
     "output_type": "stream",
     "text": [
      "\u001b[34m\u001b[1mwandb\u001b[0m:   1 of 1 files downloaded.  \n"
     ]
    },
    {
     "name": "stdout",
     "output_type": "stream",
     "text": [
      "2025-04-20 13:08:38,159 - INFO - Downloaded logs_c5y7qhyv:v0 to /scratch/downloaded_artifacts/logs_c5y7qhyv:v0\n"
     ]
    },
    {
     "name": "stderr",
     "output_type": "stream",
     "text": [
      "\u001b[34m\u001b[1mwandb\u001b[0m:   1 of 1 files downloaded.  \n"
     ]
    },
    {
     "name": "stdout",
     "output_type": "stream",
     "text": [
      "2025-04-20 13:08:38,215 - INFO - Downloaded logs_fmts6v02:v0 to /scratch/downloaded_artifacts/logs_fmts6v02:v0\n"
     ]
    },
    {
     "name": "stderr",
     "output_type": "stream",
     "text": [
      "\u001b[34m\u001b[1mwandb\u001b[0m:   1 of 1 files downloaded.  \n"
     ]
    },
    {
     "name": "stdout",
     "output_type": "stream",
     "text": [
      "2025-04-20 13:08:38,243 - INFO - Downloaded logs_o1y4p8xr:v0 to /scratch/downloaded_artifacts/logs_o1y4p8xr:v0\n"
     ]
    },
    {
     "name": "stderr",
     "output_type": "stream",
     "text": [
      "\u001b[34m\u001b[1mwandb\u001b[0m:   1 of 1 files downloaded.  \n"
     ]
    },
    {
     "name": "stdout",
     "output_type": "stream",
     "text": [
      "2025-04-20 13:08:38,272 - INFO - Downloaded logs_kry4ct8w:v0 to /scratch/downloaded_artifacts/logs_kry4ct8w:v0\n"
     ]
    },
    {
     "name": "stderr",
     "output_type": "stream",
     "text": [
      "\u001b[34m\u001b[1mwandb\u001b[0m:   1 of 1 files downloaded.  \n"
     ]
    },
    {
     "name": "stdout",
     "output_type": "stream",
     "text": [
      "2025-04-20 13:08:38,326 - INFO - Downloaded logs_mhxiu3ey:v0 to /scratch/downloaded_artifacts/logs_mhxiu3ey:v0\n"
     ]
    },
    {
     "name": "stderr",
     "output_type": "stream",
     "text": [
      "\u001b[34m\u001b[1mwandb\u001b[0m:   1 of 1 files downloaded.  \n"
     ]
    },
    {
     "name": "stdout",
     "output_type": "stream",
     "text": [
      "2025-04-20 13:08:38,381 - INFO - Downloaded logs_pajkev8a:v0 to /scratch/downloaded_artifacts/logs_pajkev8a:v0\n"
     ]
    },
    {
     "name": "stderr",
     "output_type": "stream",
     "text": [
      "\u001b[34m\u001b[1mwandb\u001b[0m:   1 of 1 files downloaded.  \n"
     ]
    },
    {
     "name": "stdout",
     "output_type": "stream",
     "text": [
      "2025-04-20 13:08:38,472 - INFO - Downloaded logs_wosp2xyj:v0 to /scratch/downloaded_artifacts/logs_wosp2xyj:v0\n"
     ]
    },
    {
     "name": "stderr",
     "output_type": "stream",
     "text": [
      "\u001b[34m\u001b[1mwandb\u001b[0m:   1 of 1 files downloaded.  \n"
     ]
    },
    {
     "name": "stdout",
     "output_type": "stream",
     "text": [
      "2025-04-20 13:08:38,614 - INFO - Downloaded logs_qszunbih:v0 to /scratch/downloaded_artifacts/logs_qszunbih:v0\n"
     ]
    },
    {
     "name": "stderr",
     "output_type": "stream",
     "text": [
      "\u001b[34m\u001b[1mwandb\u001b[0m:   1 of 1 files downloaded.  \n"
     ]
    },
    {
     "name": "stdout",
     "output_type": "stream",
     "text": [
      "2025-04-20 13:08:38,808 - INFO - Downloaded logs_2vme2efa:v0 to /scratch/downloaded_artifacts/logs_2vme2efa:v0\n"
     ]
    },
    {
     "name": "stderr",
     "output_type": "stream",
     "text": [
      "\u001b[34m\u001b[1mwandb\u001b[0m:   1 of 1 files downloaded.  \n"
     ]
    },
    {
     "name": "stdout",
     "output_type": "stream",
     "text": [
      "2025-04-20 13:08:38,912 - INFO - Downloaded logs_czathie1:v0 to /scratch/downloaded_artifacts/logs_czathie1:v0\n"
     ]
    },
    {
     "name": "stderr",
     "output_type": "stream",
     "text": [
      "\u001b[34m\u001b[1mwandb\u001b[0m:   1 of 1 files downloaded.  \n"
     ]
    },
    {
     "name": "stdout",
     "output_type": "stream",
     "text": [
      "2025-04-20 13:08:38,922 - INFO - Downloaded logs_4dkwkstz:v0 to /scratch/downloaded_artifacts/logs_4dkwkstz:v0\n"
     ]
    },
    {
     "name": "stderr",
     "output_type": "stream",
     "text": [
      "\u001b[34m\u001b[1mwandb\u001b[0m:   1 of 1 files downloaded.  \n"
     ]
    },
    {
     "name": "stdout",
     "output_type": "stream",
     "text": [
      "2025-04-20 13:08:38,931 - INFO - Downloaded logs_6o6mmya5:v0 to /scratch/downloaded_artifacts/logs_6o6mmya5:v0\n"
     ]
    },
    {
     "name": "stderr",
     "output_type": "stream",
     "text": [
      "\u001b[34m\u001b[1mwandb\u001b[0m:   1 of 1 files downloaded.  \n"
     ]
    },
    {
     "name": "stdout",
     "output_type": "stream",
     "text": [
      "2025-04-20 13:08:39,080 - INFO - Downloaded logs_q0k1n7ny:v0 to /scratch/downloaded_artifacts/logs_q0k1n7ny:v0\n"
     ]
    },
    {
     "name": "stderr",
     "output_type": "stream",
     "text": [
      "\u001b[34m\u001b[1mwandb\u001b[0m:   1 of 1 files downloaded.  \n"
     ]
    },
    {
     "name": "stdout",
     "output_type": "stream",
     "text": [
      "2025-04-20 13:08:39,134 - INFO - Downloaded logs_blxlzfyz:v0 to /scratch/downloaded_artifacts/logs_blxlzfyz:v0\n"
     ]
    },
    {
     "name": "stderr",
     "output_type": "stream",
     "text": [
      "\u001b[34m\u001b[1mwandb\u001b[0m:   1 of 1 files downloaded.  \n"
     ]
    },
    {
     "name": "stdout",
     "output_type": "stream",
     "text": [
      "2025-04-20 13:08:39,181 - INFO - Downloaded logs_i4vqw7n0:v0 to /scratch/downloaded_artifacts/logs_i4vqw7n0:v0\n"
     ]
    },
    {
     "name": "stderr",
     "output_type": "stream",
     "text": [
      "\u001b[34m\u001b[1mwandb\u001b[0m:   1 of 1 files downloaded.  \n"
     ]
    },
    {
     "name": "stdout",
     "output_type": "stream",
     "text": [
      "2025-04-20 13:08:39,249 - INFO - Downloaded logs_stm9bb4o:v0 to /scratch/downloaded_artifacts/logs_stm9bb4o:v0\n"
     ]
    },
    {
     "name": "stderr",
     "output_type": "stream",
     "text": [
      "\u001b[34m\u001b[1mwandb\u001b[0m:   1 of 1 files downloaded.  \n"
     ]
    },
    {
     "name": "stdout",
     "output_type": "stream",
     "text": [
      "2025-04-20 13:08:39,270 - INFO - Downloaded logs_2scyebnm:v0 to /scratch/downloaded_artifacts/logs_2scyebnm:v0\n"
     ]
    },
    {
     "name": "stderr",
     "output_type": "stream",
     "text": [
      "\u001b[34m\u001b[1mwandb\u001b[0m:   1 of 1 files downloaded.  \n"
     ]
    },
    {
     "name": "stdout",
     "output_type": "stream",
     "text": [
      "2025-04-20 13:08:39,390 - INFO - Downloaded logs_rjir0ul3:v0 to /scratch/downloaded_artifacts/logs_rjir0ul3:v0\n"
     ]
    },
    {
     "name": "stderr",
     "output_type": "stream",
     "text": [
      "\u001b[34m\u001b[1mwandb\u001b[0m:   1 of 1 files downloaded.  \n"
     ]
    },
    {
     "name": "stdout",
     "output_type": "stream",
     "text": [
      "2025-04-20 13:08:39,510 - INFO - Downloaded logs_lbj1spec:v0 to /scratch/downloaded_artifacts/logs_lbj1spec:v0\n"
     ]
    },
    {
     "name": "stderr",
     "output_type": "stream",
     "text": [
      "\u001b[34m\u001b[1mwandb\u001b[0m:   1 of 1 files downloaded.  \n"
     ]
    },
    {
     "name": "stdout",
     "output_type": "stream",
     "text": [
      "2025-04-20 13:08:39,526 - INFO - Downloaded logs_8avsjt91:v0 to /scratch/downloaded_artifacts/logs_8avsjt91:v0\n"
     ]
    },
    {
     "name": "stderr",
     "output_type": "stream",
     "text": [
      "\u001b[34m\u001b[1mwandb\u001b[0m:   1 of 1 files downloaded.  \n"
     ]
    },
    {
     "name": "stdout",
     "output_type": "stream",
     "text": [
      "2025-04-20 13:08:39,598 - INFO - Downloaded logs_x6serd0w:v0 to /scratch/downloaded_artifacts/logs_x6serd0w:v0\n"
     ]
    },
    {
     "name": "stderr",
     "output_type": "stream",
     "text": [
      "\u001b[34m\u001b[1mwandb\u001b[0m:   1 of 1 files downloaded.  \n",
      "\u001b[34m\u001b[1mwandb\u001b[0m:   1 of 1 files downloaded.  \n"
     ]
    },
    {
     "name": "stdout",
     "output_type": "stream",
     "text": [
      "2025-04-20 13:08:39,660 - INFO - Downloaded logs_esbl8mhc:v0 to /scratch/downloaded_artifacts/logs_esbl8mhc:v0\n",
      "2025-04-20 13:08:39,661 - INFO - Downloaded logs_du3kovth:v0 to /scratch/downloaded_artifacts/logs_du3kovth:v0\n"
     ]
    },
    {
     "name": "stderr",
     "output_type": "stream",
     "text": [
      "\u001b[34m\u001b[1mwandb\u001b[0m:   1 of 1 files downloaded.  \n"
     ]
    },
    {
     "name": "stdout",
     "output_type": "stream",
     "text": [
      "2025-04-20 13:08:39,684 - INFO - Downloaded logs_8z346xih:v0 to /scratch/downloaded_artifacts/logs_8z346xih:v0\n"
     ]
    },
    {
     "name": "stderr",
     "output_type": "stream",
     "text": [
      "\u001b[34m\u001b[1mwandb\u001b[0m:   1 of 1 files downloaded.  \n"
     ]
    },
    {
     "name": "stdout",
     "output_type": "stream",
     "text": [
      "2025-04-20 13:08:39,717 - INFO - Downloaded logs_ik0boko8:v0 to /scratch/downloaded_artifacts/logs_ik0boko8:v0\n"
     ]
    },
    {
     "name": "stderr",
     "output_type": "stream",
     "text": [
      "\u001b[34m\u001b[1mwandb\u001b[0m:   1 of 1 files downloaded.  \n"
     ]
    },
    {
     "name": "stdout",
     "output_type": "stream",
     "text": [
      "2025-04-20 13:08:39,756 - INFO - Downloaded logs_hrh4qz64:v0 to /scratch/downloaded_artifacts/logs_hrh4qz64:v0\n"
     ]
    },
    {
     "name": "stderr",
     "output_type": "stream",
     "text": [
      "\u001b[34m\u001b[1mwandb\u001b[0m:   1 of 1 files downloaded.  \n"
     ]
    },
    {
     "name": "stdout",
     "output_type": "stream",
     "text": [
      "2025-04-20 13:08:39,858 - INFO - Downloaded logs_lk9fn34t:v0 to /scratch/downloaded_artifacts/logs_lk9fn34t:v0\n"
     ]
    },
    {
     "name": "stderr",
     "output_type": "stream",
     "text": [
      "\u001b[34m\u001b[1mwandb\u001b[0m:   1 of 1 files downloaded.  \n"
     ]
    },
    {
     "name": "stdout",
     "output_type": "stream",
     "text": [
      "2025-04-20 13:08:40,125 - INFO - Downloaded logs_rpdf5uji:v0 to /scratch/downloaded_artifacts/logs_rpdf5uji:v0\n"
     ]
    },
    {
     "name": "stderr",
     "output_type": "stream",
     "text": [
      "\u001b[34m\u001b[1mwandb\u001b[0m:   1 of 1 files downloaded.  \n"
     ]
    },
    {
     "name": "stdout",
     "output_type": "stream",
     "text": [
      "2025-04-20 13:08:40,313 - INFO - Downloaded logs_y6tjzb5g:v0 to /scratch/downloaded_artifacts/logs_y6tjzb5g:v0\n"
     ]
    },
    {
     "name": "stderr",
     "output_type": "stream",
     "text": [
      "\u001b[34m\u001b[1mwandb\u001b[0m:   1 of 1 files downloaded.  \n"
     ]
    },
    {
     "name": "stdout",
     "output_type": "stream",
     "text": [
      "2025-04-20 13:08:40,361 - INFO - Downloaded logs_tfi2xjs1:v0 to /scratch/downloaded_artifacts/logs_tfi2xjs1:v0\n"
     ]
    },
    {
     "name": "stderr",
     "output_type": "stream",
     "text": [
      "\u001b[34m\u001b[1mwandb\u001b[0m:   1 of 1 files downloaded.  \n"
     ]
    },
    {
     "name": "stdout",
     "output_type": "stream",
     "text": [
      "2025-04-20 13:08:40,381 - INFO - Downloaded logs_uhpf03q2:v0 to /scratch/downloaded_artifacts/logs_uhpf03q2:v0\n"
     ]
    },
    {
     "name": "stderr",
     "output_type": "stream",
     "text": [
      "\u001b[34m\u001b[1mwandb\u001b[0m:   1 of 1 files downloaded.  \n"
     ]
    },
    {
     "name": "stdout",
     "output_type": "stream",
     "text": [
      "2025-04-20 13:08:40,584 - INFO - Downloaded logs_0y9a6hrk:v0 to /scratch/downloaded_artifacts/logs_0y9a6hrk:v0\n"
     ]
    },
    {
     "name": "stderr",
     "output_type": "stream",
     "text": [
      "\u001b[34m\u001b[1mwandb\u001b[0m:   1 of 1 files downloaded.  \n"
     ]
    },
    {
     "name": "stdout",
     "output_type": "stream",
     "text": [
      "2025-04-20 13:08:40,606 - INFO - Downloaded logs_8yr9ybap:v0 to /scratch/downloaded_artifacts/logs_8yr9ybap:v0\n"
     ]
    },
    {
     "name": "stderr",
     "output_type": "stream",
     "text": [
      "\u001b[34m\u001b[1mwandb\u001b[0m:   1 of 1 files downloaded.  \n"
     ]
    },
    {
     "name": "stdout",
     "output_type": "stream",
     "text": [
      "2025-04-20 13:08:40,633 - INFO - Downloaded logs_nakndd3v:v0 to /scratch/downloaded_artifacts/logs_nakndd3v:v0\n"
     ]
    },
    {
     "name": "stderr",
     "output_type": "stream",
     "text": [
      "\u001b[34m\u001b[1mwandb\u001b[0m: \u001b[32m\u001b[41mERROR\u001b[0m Error while calling W&B API: rate limit exceeded (<Response [429]>)\n",
      "\u001b[34m\u001b[1mwandb\u001b[0m:   1 of 1 files downloaded.  \n"
     ]
    },
    {
     "name": "stdout",
     "output_type": "stream",
     "text": [
      "2025-04-20 13:08:40,717 - INFO - Downloaded logs_z8ve8oln:v0 to /scratch/downloaded_artifacts/logs_z8ve8oln:v0\n"
     ]
    },
    {
     "name": "stderr",
     "output_type": "stream",
     "text": [
      "\u001b[34m\u001b[1mwandb\u001b[0m: \u001b[32m\u001b[41mERROR\u001b[0m Error while calling W&B API: rate limit exceeded (<Response [429]>)\n",
      "\u001b[34m\u001b[1mwandb\u001b[0m: \u001b[32m\u001b[41mERROR\u001b[0m Error while calling W&B API: rate limit exceeded (<Response [429]>)\n",
      "\u001b[34m\u001b[1mwandb\u001b[0m:   1 of 1 files downloaded.  \n"
     ]
    },
    {
     "name": "stdout",
     "output_type": "stream",
     "text": [
      "2025-04-20 13:08:40,774 - INFO - Downloaded logs_3lgsomm4:v0 to /scratch/downloaded_artifacts/logs_3lgsomm4:v0\n"
     ]
    },
    {
     "name": "stderr",
     "output_type": "stream",
     "text": [
      "\u001b[34m\u001b[1mwandb\u001b[0m:   1 of 1 files downloaded.  \n"
     ]
    },
    {
     "name": "stdout",
     "output_type": "stream",
     "text": [
      "2025-04-20 13:08:40,822 - INFO - Downloaded logs_pfzzl4kw:v0 to /scratch/downloaded_artifacts/logs_pfzzl4kw:v0\n"
     ]
    },
    {
     "name": "stderr",
     "output_type": "stream",
     "text": [
      "\u001b[34m\u001b[1mwandb\u001b[0m: \u001b[32m\u001b[41mERROR\u001b[0m Error while calling W&B API: rate limit exceeded (<Response [429]>)\n",
      "\u001b[34m\u001b[1mwandb\u001b[0m: \u001b[32m\u001b[41mERROR\u001b[0m Error while calling W&B API: rate limit exceeded (<Response [429]>)\n",
      "\u001b[34m\u001b[1mwandb\u001b[0m:   1 of 1 files downloaded.  \n"
     ]
    },
    {
     "name": "stdout",
     "output_type": "stream",
     "text": [
      "2025-04-20 13:08:40,893 - INFO - Downloaded logs_wcuueytl:v0 to /scratch/downloaded_artifacts/logs_wcuueytl:v0\n"
     ]
    },
    {
     "name": "stderr",
     "output_type": "stream",
     "text": [
      "\u001b[34m\u001b[1mwandb\u001b[0m:   1 of 1 files downloaded.  \n"
     ]
    },
    {
     "name": "stdout",
     "output_type": "stream",
     "text": [
      "2025-04-20 13:08:40,995 - INFO - Downloaded logs_yqzxid7l:v0 to /scratch/downloaded_artifacts/logs_yqzxid7l:v0\n"
     ]
    },
    {
     "name": "stderr",
     "output_type": "stream",
     "text": [
      "\u001b[34m\u001b[1mwandb\u001b[0m:   1 of 1 files downloaded.  \n"
     ]
    },
    {
     "name": "stdout",
     "output_type": "stream",
     "text": [
      "2025-04-20 13:08:41,004 - INFO - Downloaded logs_wlehr2lx:v0 to /scratch/downloaded_artifacts/logs_wlehr2lx:v0\n"
     ]
    },
    {
     "name": "stderr",
     "output_type": "stream",
     "text": [
      "\u001b[34m\u001b[1mwandb\u001b[0m:   1 of 1 files downloaded.  \n"
     ]
    },
    {
     "name": "stdout",
     "output_type": "stream",
     "text": [
      "2025-04-20 13:08:41,130 - INFO - Downloaded logs_5of33964:v0 to /scratch/downloaded_artifacts/logs_5of33964:v0\n"
     ]
    },
    {
     "name": "stderr",
     "output_type": "stream",
     "text": [
      "\u001b[34m\u001b[1mwandb\u001b[0m:   1 of 1 files downloaded.  \n"
     ]
    },
    {
     "name": "stdout",
     "output_type": "stream",
     "text": [
      "2025-04-20 13:08:41,137 - INFO - Downloaded logs_ed8h6ji3:v0 to /scratch/downloaded_artifacts/logs_ed8h6ji3:v0\n"
     ]
    },
    {
     "name": "stderr",
     "output_type": "stream",
     "text": [
      "\u001b[34m\u001b[1mwandb\u001b[0m:   1 of 1 files downloaded.  \n"
     ]
    },
    {
     "name": "stdout",
     "output_type": "stream",
     "text": [
      "2025-04-20 13:08:41,162 - INFO - Downloaded logs_0qbxqdkw:v0 to /scratch/downloaded_artifacts/logs_0qbxqdkw:v0\n"
     ]
    },
    {
     "name": "stderr",
     "output_type": "stream",
     "text": [
      "\u001b[34m\u001b[1mwandb\u001b[0m:   1 of 1 files downloaded.  \n"
     ]
    },
    {
     "name": "stdout",
     "output_type": "stream",
     "text": [
      "2025-04-20 13:08:41,178 - INFO - Downloaded logs_xjz6rwbg:v0 to /scratch/downloaded_artifacts/logs_xjz6rwbg:v0\n"
     ]
    },
    {
     "name": "stderr",
     "output_type": "stream",
     "text": [
      "\u001b[34m\u001b[1mwandb\u001b[0m:   1 of 1 files downloaded.  \n"
     ]
    },
    {
     "name": "stdout",
     "output_type": "stream",
     "text": [
      "2025-04-20 13:08:41,233 - INFO - Downloaded logs_iqikoeh7:v0 to /scratch/downloaded_artifacts/logs_iqikoeh7:v0\n"
     ]
    },
    {
     "name": "stderr",
     "output_type": "stream",
     "text": [
      "\u001b[34m\u001b[1mwandb\u001b[0m:   1 of 1 files downloaded.  \n"
     ]
    },
    {
     "name": "stdout",
     "output_type": "stream",
     "text": [
      "2025-04-20 13:08:41,236 - INFO - Downloaded logs_6ndwlavt:v0 to /scratch/downloaded_artifacts/logs_6ndwlavt:v0\n"
     ]
    },
    {
     "name": "stderr",
     "output_type": "stream",
     "text": [
      "\u001b[34m\u001b[1mwandb\u001b[0m:   1 of 1 files downloaded.  \n"
     ]
    },
    {
     "name": "stdout",
     "output_type": "stream",
     "text": [
      "2025-04-20 13:08:41,481 - INFO - Downloaded logs_9562suq7:v0 to /scratch/downloaded_artifacts/logs_9562suq7:v0\n"
     ]
    },
    {
     "name": "stderr",
     "output_type": "stream",
     "text": [
      "\u001b[34m\u001b[1mwandb\u001b[0m:   1 of 1 files downloaded.  \n"
     ]
    },
    {
     "name": "stdout",
     "output_type": "stream",
     "text": [
      "2025-04-20 13:08:41,732 - INFO - Downloaded logs_any4xycq:v0 to /scratch/downloaded_artifacts/logs_any4xycq:v0\n"
     ]
    },
    {
     "name": "stderr",
     "output_type": "stream",
     "text": [
      "\u001b[34m\u001b[1mwandb\u001b[0m: \u001b[32m\u001b[41mERROR\u001b[0m Error while calling W&B API: rate limit exceeded (<Response [429]>)\n",
      "\u001b[34m\u001b[1mwandb\u001b[0m: \u001b[32m\u001b[41mERROR\u001b[0m Error while calling W&B API: rate limit exceeded (<Response [429]>)\n",
      "\u001b[34m\u001b[1mwandb\u001b[0m: \u001b[32m\u001b[41mERROR\u001b[0m Error while calling W&B API: rate limit exceeded (<Response [429]>)\n",
      "\u001b[34m\u001b[1mwandb\u001b[0m: Network error (HTTPError), entering retry loop.\n",
      "\u001b[34m\u001b[1mwandb\u001b[0m: \u001b[32m\u001b[41mERROR\u001b[0m Error while calling W&B API: rate limit exceeded (<Response [429]>)\n",
      "\u001b[34m\u001b[1mwandb\u001b[0m: \u001b[32m\u001b[41mERROR\u001b[0m Error while calling W&B API: rate limit exceeded (<Response [429]>)\n",
      "\u001b[34m\u001b[1mwandb\u001b[0m: \u001b[32m\u001b[41mERROR\u001b[0m Error while calling W&B API: rate limit exceeded (<Response [429]>)\n",
      "\u001b[34m\u001b[1mwandb\u001b[0m: Network error (HTTPError), entering retry loop.\n",
      "\u001b[34m\u001b[1mwandb\u001b[0m: \u001b[32m\u001b[41mERROR\u001b[0m Error while calling W&B API: rate limit exceeded (<Response [429]>)\n",
      "\u001b[34m\u001b[1mwandb\u001b[0m: Network error (HTTPError), entering retry loop.\n",
      "\u001b[34m\u001b[1mwandb\u001b[0m: \u001b[32m\u001b[41mERROR\u001b[0m Error while calling W&B API: rate limit exceeded (<Response [429]>)\n",
      "\u001b[34m\u001b[1mwandb\u001b[0m: Network error (HTTPError), entering retry loop.\n",
      "\u001b[34m\u001b[1mwandb\u001b[0m: \u001b[32m\u001b[41mERROR\u001b[0m Error while calling W&B API: rate limit exceeded (<Response [429]>)\n",
      "\u001b[34m\u001b[1mwandb\u001b[0m: Network error (HTTPError), entering retry loop.\n",
      "\u001b[34m\u001b[1mwandb\u001b[0m: \u001b[32m\u001b[41mERROR\u001b[0m Error while calling W&B API: rate limit exceeded (<Response [429]>)\n",
      "\u001b[34m\u001b[1mwandb\u001b[0m: Network error (HTTPError), entering retry loop.\n",
      "\u001b[34m\u001b[1mwandb\u001b[0m:   1 of 1 files downloaded.  \n"
     ]
    },
    {
     "name": "stdout",
     "output_type": "stream",
     "text": [
      "2025-04-20 13:08:46,505 - INFO - Downloaded logs_wh403fsh:v0 to /scratch/downloaded_artifacts/logs_wh403fsh:v0\n"
     ]
    },
    {
     "name": "stderr",
     "output_type": "stream",
     "text": [
      "\u001b[34m\u001b[1mwandb\u001b[0m:   1 of 1 files downloaded.  \n"
     ]
    },
    {
     "name": "stdout",
     "output_type": "stream",
     "text": [
      "2025-04-20 13:08:46,610 - INFO - Downloaded logs_znxx2lxz:v0 to /scratch/downloaded_artifacts/logs_znxx2lxz:v0\n"
     ]
    },
    {
     "name": "stderr",
     "output_type": "stream",
     "text": [
      "\u001b[34m\u001b[1mwandb\u001b[0m:   1 of 1 files downloaded.  \n"
     ]
    },
    {
     "name": "stdout",
     "output_type": "stream",
     "text": [
      "2025-04-20 13:08:47,655 - INFO - Downloaded logs_8qu9cqik:v0 to /scratch/downloaded_artifacts/logs_8qu9cqik:v0\n"
     ]
    },
    {
     "name": "stderr",
     "output_type": "stream",
     "text": [
      "\u001b[34m\u001b[1mwandb\u001b[0m:   1 of 1 files downloaded.  \n"
     ]
    },
    {
     "name": "stdout",
     "output_type": "stream",
     "text": [
      "2025-04-20 13:08:47,869 - INFO - Downloaded logs_b9igtt8g:v0 to /scratch/downloaded_artifacts/logs_b9igtt8g:v0\n"
     ]
    },
    {
     "name": "stderr",
     "output_type": "stream",
     "text": [
      "\u001b[34m\u001b[1mwandb\u001b[0m:   1 of 1 files downloaded.  \n"
     ]
    },
    {
     "name": "stdout",
     "output_type": "stream",
     "text": [
      "2025-04-20 13:08:48,917 - INFO - Downloaded logs_eqykmqt3:v0 to /scratch/downloaded_artifacts/logs_eqykmqt3:v0\n"
     ]
    },
    {
     "name": "stderr",
     "output_type": "stream",
     "text": [
      "\u001b[34m\u001b[1mwandb\u001b[0m:   1 of 1 files downloaded.  \n"
     ]
    },
    {
     "name": "stdout",
     "output_type": "stream",
     "text": [
      "2025-04-20 13:08:49,107 - INFO - Downloaded logs_p6yqiyee:v0 to /scratch/downloaded_artifacts/logs_p6yqiyee:v0\n"
     ]
    },
    {
     "name": "stderr",
     "output_type": "stream",
     "text": [
      "\u001b[34m\u001b[1mwandb\u001b[0m:   1 of 1 files downloaded.  \n"
     ]
    },
    {
     "name": "stdout",
     "output_type": "stream",
     "text": [
      "2025-04-20 13:08:49,177 - INFO - Downloaded logs_cbsn1mr6:v0 to /scratch/downloaded_artifacts/logs_cbsn1mr6:v0\n"
     ]
    },
    {
     "name": "stderr",
     "output_type": "stream",
     "text": [
      "\u001b[34m\u001b[1mwandb\u001b[0m:   1 of 1 files downloaded.  \n"
     ]
    },
    {
     "name": "stdout",
     "output_type": "stream",
     "text": [
      "2025-04-20 13:08:49,704 - INFO - Downloaded logs_0bpea1ea:v0 to /scratch/downloaded_artifacts/logs_0bpea1ea:v0\n"
     ]
    },
    {
     "name": "stderr",
     "output_type": "stream",
     "text": [
      "\u001b[34m\u001b[1mwandb\u001b[0m:   1 of 1 files downloaded.  \n"
     ]
    },
    {
     "name": "stdout",
     "output_type": "stream",
     "text": [
      "2025-04-20 13:08:49,758 - INFO - Downloaded logs_s2q95v4a:v0 to /scratch/downloaded_artifacts/logs_s2q95v4a:v0\n"
     ]
    },
    {
     "name": "stderr",
     "output_type": "stream",
     "text": [
      "\u001b[34m\u001b[1mwandb\u001b[0m:   1 of 1 files downloaded.  \n"
     ]
    },
    {
     "name": "stdout",
     "output_type": "stream",
     "text": [
      "2025-04-20 13:08:49,792 - INFO - Downloaded logs_m8f5qud8:v0 to /scratch/downloaded_artifacts/logs_m8f5qud8:v0\n"
     ]
    },
    {
     "name": "stderr",
     "output_type": "stream",
     "text": [
      "\u001b[34m\u001b[1mwandb\u001b[0m:   1 of 1 files downloaded.  \n"
     ]
    },
    {
     "name": "stdout",
     "output_type": "stream",
     "text": [
      "2025-04-20 13:08:49,869 - INFO - Downloaded logs_2faxq9p5:v0 to /scratch/downloaded_artifacts/logs_2faxq9p5:v0\n"
     ]
    },
    {
     "name": "stderr",
     "output_type": "stream",
     "text": [
      "\u001b[34m\u001b[1mwandb\u001b[0m:   1 of 1 files downloaded.  \n"
     ]
    },
    {
     "name": "stdout",
     "output_type": "stream",
     "text": [
      "2025-04-20 13:08:49,900 - INFO - Downloaded logs_pcji7jnw:v0 to /scratch/downloaded_artifacts/logs_pcji7jnw:v0\n"
     ]
    },
    {
     "name": "stderr",
     "output_type": "stream",
     "text": [
      "\u001b[34m\u001b[1mwandb\u001b[0m:   1 of 1 files downloaded.  \n"
     ]
    },
    {
     "name": "stdout",
     "output_type": "stream",
     "text": [
      "2025-04-20 13:08:50,049 - INFO - Downloaded logs_h6vfx2yp:v0 to /scratch/downloaded_artifacts/logs_h6vfx2yp:v0\n"
     ]
    },
    {
     "name": "stderr",
     "output_type": "stream",
     "text": [
      "\u001b[34m\u001b[1mwandb\u001b[0m:   1 of 1 files downloaded.  \n"
     ]
    },
    {
     "name": "stdout",
     "output_type": "stream",
     "text": [
      "2025-04-20 13:08:50,140 - INFO - Downloaded logs_oi7agvqx:v0 to /scratch/downloaded_artifacts/logs_oi7agvqx:v0\n"
     ]
    },
    {
     "name": "stderr",
     "output_type": "stream",
     "text": [
      "\u001b[34m\u001b[1mwandb\u001b[0m:   1 of 1 files downloaded.  \n"
     ]
    },
    {
     "name": "stdout",
     "output_type": "stream",
     "text": [
      "2025-04-20 13:08:50,247 - INFO - Downloaded logs_8pzhzpli:v0 to /scratch/downloaded_artifacts/logs_8pzhzpli:v0\n"
     ]
    },
    {
     "name": "stderr",
     "output_type": "stream",
     "text": [
      "\u001b[34m\u001b[1mwandb\u001b[0m:   1 of 1 files downloaded.  \n"
     ]
    },
    {
     "name": "stdout",
     "output_type": "stream",
     "text": [
      "2025-04-20 13:08:50,287 - INFO - Downloaded logs_asimxkte:v0 to /scratch/downloaded_artifacts/logs_asimxkte:v0\n"
     ]
    },
    {
     "name": "stderr",
     "output_type": "stream",
     "text": [
      "\u001b[34m\u001b[1mwandb\u001b[0m:   1 of 1 files downloaded.  \n"
     ]
    },
    {
     "name": "stdout",
     "output_type": "stream",
     "text": [
      "2025-04-20 13:08:50,318 - INFO - Downloaded logs_2asxg356:v0 to /scratch/downloaded_artifacts/logs_2asxg356:v0\n"
     ]
    },
    {
     "name": "stderr",
     "output_type": "stream",
     "text": [
      "\u001b[34m\u001b[1mwandb\u001b[0m:   1 of 1 files downloaded.  \n"
     ]
    },
    {
     "name": "stdout",
     "output_type": "stream",
     "text": [
      "2025-04-20 13:08:50,330 - INFO - Downloaded logs_uekc0gj2:v0 to /scratch/downloaded_artifacts/logs_uekc0gj2:v0\n"
     ]
    },
    {
     "name": "stderr",
     "output_type": "stream",
     "text": [
      "\u001b[34m\u001b[1mwandb\u001b[0m:   1 of 1 files downloaded.  \n"
     ]
    },
    {
     "name": "stdout",
     "output_type": "stream",
     "text": [
      "2025-04-20 13:08:50,434 - INFO - Downloaded logs_nzjdzqaw:v0 to /scratch/downloaded_artifacts/logs_nzjdzqaw:v0\n"
     ]
    },
    {
     "name": "stderr",
     "output_type": "stream",
     "text": [
      "\u001b[34m\u001b[1mwandb\u001b[0m:   1 of 1 files downloaded.  \n"
     ]
    },
    {
     "name": "stdout",
     "output_type": "stream",
     "text": [
      "2025-04-20 13:08:50,530 - INFO - Downloaded logs_241hxy7b:v0 to /scratch/downloaded_artifacts/logs_241hxy7b:v0\n"
     ]
    },
    {
     "name": "stderr",
     "output_type": "stream",
     "text": [
      "\u001b[34m\u001b[1mwandb\u001b[0m:   1 of 1 files downloaded.  \n"
     ]
    },
    {
     "name": "stdout",
     "output_type": "stream",
     "text": [
      "2025-04-20 13:08:50,579 - INFO - Downloaded logs_x6xdfvqp:v0 to /scratch/downloaded_artifacts/logs_x6xdfvqp:v0\n"
     ]
    },
    {
     "name": "stderr",
     "output_type": "stream",
     "text": [
      "\u001b[34m\u001b[1mwandb\u001b[0m:   1 of 1 files downloaded.  \n"
     ]
    },
    {
     "name": "stdout",
     "output_type": "stream",
     "text": [
      "2025-04-20 13:08:50,593 - INFO - Downloaded logs_3ozm0672:v0 to /scratch/downloaded_artifacts/logs_3ozm0672:v0\n"
     ]
    },
    {
     "name": "stderr",
     "output_type": "stream",
     "text": [
      "\u001b[34m\u001b[1mwandb\u001b[0m:   1 of 1 files downloaded.  \n"
     ]
    },
    {
     "name": "stdout",
     "output_type": "stream",
     "text": [
      "2025-04-20 13:08:50,595 - INFO - Downloaded logs_hyg2nqjh:v0 to /scratch/downloaded_artifacts/logs_hyg2nqjh:v0\n"
     ]
    },
    {
     "name": "stderr",
     "output_type": "stream",
     "text": [
      "\u001b[34m\u001b[1mwandb\u001b[0m:   1 of 1 files downloaded.  \n"
     ]
    },
    {
     "name": "stdout",
     "output_type": "stream",
     "text": [
      "2025-04-20 13:08:50,678 - INFO - Downloaded logs_nl4f5avt:v0 to /scratch/downloaded_artifacts/logs_nl4f5avt:v0\n"
     ]
    },
    {
     "name": "stderr",
     "output_type": "stream",
     "text": [
      "\u001b[34m\u001b[1mwandb\u001b[0m:   1 of 1 files downloaded.  \n"
     ]
    },
    {
     "name": "stdout",
     "output_type": "stream",
     "text": [
      "2025-04-20 13:08:50,710 - INFO - Downloaded logs_711jtcki:v0 to /scratch/downloaded_artifacts/logs_711jtcki:v0\n"
     ]
    },
    {
     "name": "stderr",
     "output_type": "stream",
     "text": [
      "\u001b[34m\u001b[1mwandb\u001b[0m:   1 of 1 files downloaded.  \n"
     ]
    },
    {
     "name": "stdout",
     "output_type": "stream",
     "text": [
      "2025-04-20 13:08:50,734 - INFO - Downloaded logs_qyofe5ua:v0 to /scratch/downloaded_artifacts/logs_qyofe5ua:v0\n"
     ]
    },
    {
     "name": "stderr",
     "output_type": "stream",
     "text": [
      "\u001b[34m\u001b[1mwandb\u001b[0m:   1 of 1 files downloaded.  \n"
     ]
    },
    {
     "name": "stdout",
     "output_type": "stream",
     "text": [
      "2025-04-20 13:08:51,047 - INFO - Downloaded logs_j6m4x1v1:v0 to /scratch/downloaded_artifacts/logs_j6m4x1v1:v0\n"
     ]
    },
    {
     "name": "stderr",
     "output_type": "stream",
     "text": [
      "\u001b[34m\u001b[1mwandb\u001b[0m:   1 of 1 files downloaded.  \n"
     ]
    },
    {
     "name": "stdout",
     "output_type": "stream",
     "text": [
      "2025-04-20 13:08:51,056 - INFO - Downloaded logs_5r5rkhzi:v0 to /scratch/downloaded_artifacts/logs_5r5rkhzi:v0\n"
     ]
    },
    {
     "name": "stderr",
     "output_type": "stream",
     "text": [
      "\u001b[34m\u001b[1mwandb\u001b[0m:   1 of 1 files downloaded.  \n"
     ]
    },
    {
     "name": "stdout",
     "output_type": "stream",
     "text": [
      "2025-04-20 13:08:51,077 - INFO - Downloaded logs_2wm1a46s:v0 to /scratch/downloaded_artifacts/logs_2wm1a46s:v0\n"
     ]
    },
    {
     "name": "stderr",
     "output_type": "stream",
     "text": [
      "\u001b[34m\u001b[1mwandb\u001b[0m:   1 of 1 files downloaded.  \n"
     ]
    },
    {
     "name": "stdout",
     "output_type": "stream",
     "text": [
      "2025-04-20 13:08:51,108 - INFO - Downloaded logs_6wodbeys:v0 to /scratch/downloaded_artifacts/logs_6wodbeys:v0\n"
     ]
    },
    {
     "name": "stderr",
     "output_type": "stream",
     "text": [
      "\u001b[34m\u001b[1mwandb\u001b[0m:   1 of 1 files downloaded.  \n"
     ]
    },
    {
     "name": "stdout",
     "output_type": "stream",
     "text": [
      "2025-04-20 13:08:51,245 - INFO - Downloaded logs_iig5zivf:v0 to /scratch/downloaded_artifacts/logs_iig5zivf:v0\n"
     ]
    },
    {
     "name": "stderr",
     "output_type": "stream",
     "text": [
      "\u001b[34m\u001b[1mwandb\u001b[0m:   1 of 1 files downloaded.  \n"
     ]
    },
    {
     "name": "stdout",
     "output_type": "stream",
     "text": [
      "2025-04-20 13:08:51,395 - INFO - Downloaded logs_d2so6qjy:v0 to /scratch/downloaded_artifacts/logs_d2so6qjy:v0\n"
     ]
    },
    {
     "name": "stderr",
     "output_type": "stream",
     "text": [
      "\u001b[34m\u001b[1mwandb\u001b[0m:   1 of 1 files downloaded.  \n"
     ]
    },
    {
     "name": "stdout",
     "output_type": "stream",
     "text": [
      "2025-04-20 13:08:51,561 - INFO - Downloaded logs_dpgmggoj:v0 to /scratch/downloaded_artifacts/logs_dpgmggoj:v0\n"
     ]
    },
    {
     "name": "stderr",
     "output_type": "stream",
     "text": [
      "\u001b[34m\u001b[1mwandb\u001b[0m:   1 of 1 files downloaded.  \n"
     ]
    },
    {
     "name": "stdout",
     "output_type": "stream",
     "text": [
      "2025-04-20 13:08:51,588 - INFO - Downloaded logs_rctc91n5:v0 to /scratch/downloaded_artifacts/logs_rctc91n5:v0\n"
     ]
    },
    {
     "name": "stderr",
     "output_type": "stream",
     "text": [
      "\u001b[34m\u001b[1mwandb\u001b[0m:   1 of 1 files downloaded.  \n"
     ]
    },
    {
     "name": "stdout",
     "output_type": "stream",
     "text": [
      "2025-04-20 13:08:51,620 - INFO - Downloaded logs_x7wlikj0:v0 to /scratch/downloaded_artifacts/logs_x7wlikj0:v0\n"
     ]
    },
    {
     "name": "stderr",
     "output_type": "stream",
     "text": [
      "\u001b[34m\u001b[1mwandb\u001b[0m:   1 of 1 files downloaded.  \n"
     ]
    },
    {
     "name": "stdout",
     "output_type": "stream",
     "text": [
      "2025-04-20 13:08:51,625 - INFO - Downloaded logs_jc8j8q26:v0 to /scratch/downloaded_artifacts/logs_jc8j8q26:v0\n"
     ]
    },
    {
     "name": "stderr",
     "output_type": "stream",
     "text": [
      "\u001b[34m\u001b[1mwandb\u001b[0m:   1 of 1 files downloaded.  \n"
     ]
    },
    {
     "name": "stdout",
     "output_type": "stream",
     "text": [
      "2025-04-20 13:08:51,664 - INFO - Downloaded logs_klnxcvke:v0 to /scratch/downloaded_artifacts/logs_klnxcvke:v0\n"
     ]
    },
    {
     "name": "stderr",
     "output_type": "stream",
     "text": [
      "\u001b[34m\u001b[1mwandb\u001b[0m:   1 of 1 files downloaded.  \n"
     ]
    },
    {
     "name": "stdout",
     "output_type": "stream",
     "text": [
      "2025-04-20 13:08:51,753 - INFO - Downloaded logs_lyc1k2zd:v0 to /scratch/downloaded_artifacts/logs_lyc1k2zd:v0\n"
     ]
    },
    {
     "name": "stderr",
     "output_type": "stream",
     "text": [
      "\u001b[34m\u001b[1mwandb\u001b[0m:   1 of 1 files downloaded.  \n"
     ]
    },
    {
     "name": "stdout",
     "output_type": "stream",
     "text": [
      "2025-04-20 13:08:51,855 - INFO - Downloaded logs_k81fjcf3:v0 to /scratch/downloaded_artifacts/logs_k81fjcf3:v0\n"
     ]
    },
    {
     "name": "stderr",
     "output_type": "stream",
     "text": [
      "\u001b[34m\u001b[1mwandb\u001b[0m:   1 of 1 files downloaded.  \n"
     ]
    },
    {
     "name": "stdout",
     "output_type": "stream",
     "text": [
      "2025-04-20 13:08:51,991 - INFO - Downloaded logs_22grn6kk:v0 to /scratch/downloaded_artifacts/logs_22grn6kk:v0\n"
     ]
    },
    {
     "name": "stderr",
     "output_type": "stream",
     "text": [
      "\u001b[34m\u001b[1mwandb\u001b[0m:   1 of 1 files downloaded.  \n"
     ]
    },
    {
     "name": "stdout",
     "output_type": "stream",
     "text": [
      "2025-04-20 13:08:52,029 - INFO - Downloaded logs_0yk3la4h:v0 to /scratch/downloaded_artifacts/logs_0yk3la4h:v0\n"
     ]
    },
    {
     "name": "stderr",
     "output_type": "stream",
     "text": [
      "\u001b[34m\u001b[1mwandb\u001b[0m:   1 of 1 files downloaded.  \n"
     ]
    },
    {
     "name": "stdout",
     "output_type": "stream",
     "text": [
      "2025-04-20 13:08:52,062 - INFO - Downloaded logs_4mjnaj19:v0 to /scratch/downloaded_artifacts/logs_4mjnaj19:v0\n"
     ]
    },
    {
     "name": "stderr",
     "output_type": "stream",
     "text": [
      "\u001b[34m\u001b[1mwandb\u001b[0m:   1 of 1 files downloaded.  \n"
     ]
    },
    {
     "name": "stdout",
     "output_type": "stream",
     "text": [
      "2025-04-20 13:08:52,140 - INFO - Downloaded logs_ryhtfbua:v0 to /scratch/downloaded_artifacts/logs_ryhtfbua:v0\n"
     ]
    },
    {
     "name": "stderr",
     "output_type": "stream",
     "text": [
      "\u001b[34m\u001b[1mwandb\u001b[0m:   1 of 1 files downloaded.  \n"
     ]
    },
    {
     "name": "stdout",
     "output_type": "stream",
     "text": [
      "2025-04-20 13:08:52,180 - INFO - Downloaded logs_8uuf87cn:v0 to /scratch/downloaded_artifacts/logs_8uuf87cn:v0\n"
     ]
    },
    {
     "name": "stderr",
     "output_type": "stream",
     "text": [
      "\u001b[34m\u001b[1mwandb\u001b[0m:   1 of 1 files downloaded.  \n"
     ]
    },
    {
     "name": "stdout",
     "output_type": "stream",
     "text": [
      "2025-04-20 13:08:52,285 - INFO - Downloaded logs_hs8ajw6s:v0 to /scratch/downloaded_artifacts/logs_hs8ajw6s:v0\n"
     ]
    },
    {
     "name": "stderr",
     "output_type": "stream",
     "text": [
      "\u001b[34m\u001b[1mwandb\u001b[0m:   1 of 1 files downloaded.  \n"
     ]
    },
    {
     "name": "stdout",
     "output_type": "stream",
     "text": [
      "2025-04-20 13:08:52,292 - INFO - Downloaded logs_dnnvbxla:v0 to /scratch/downloaded_artifacts/logs_dnnvbxla:v0\n"
     ]
    },
    {
     "name": "stderr",
     "output_type": "stream",
     "text": [
      "\u001b[34m\u001b[1mwandb\u001b[0m:   1 of 1 files downloaded.  \n"
     ]
    },
    {
     "name": "stdout",
     "output_type": "stream",
     "text": [
      "2025-04-20 13:08:52,405 - INFO - Downloaded logs_j3b8w661:v0 to /scratch/downloaded_artifacts/logs_j3b8w661:v0\n"
     ]
    },
    {
     "name": "stderr",
     "output_type": "stream",
     "text": [
      "\u001b[34m\u001b[1mwandb\u001b[0m:   1 of 1 files downloaded.  \n"
     ]
    },
    {
     "name": "stdout",
     "output_type": "stream",
     "text": [
      "2025-04-20 13:08:52,513 - INFO - Downloaded logs_wd3c18sw:v0 to /scratch/downloaded_artifacts/logs_wd3c18sw:v0\n"
     ]
    },
    {
     "name": "stderr",
     "output_type": "stream",
     "text": [
      "\u001b[34m\u001b[1mwandb\u001b[0m:   1 of 1 files downloaded.  \n"
     ]
    },
    {
     "name": "stdout",
     "output_type": "stream",
     "text": [
      "2025-04-20 13:08:52,598 - INFO - Downloaded logs_qyvbn6re:v0 to /scratch/downloaded_artifacts/logs_qyvbn6re:v0\n"
     ]
    },
    {
     "name": "stderr",
     "output_type": "stream",
     "text": [
      "\u001b[34m\u001b[1mwandb\u001b[0m:   1 of 1 files downloaded.  \n"
     ]
    },
    {
     "name": "stdout",
     "output_type": "stream",
     "text": [
      "2025-04-20 13:08:52,608 - INFO - Downloaded logs_w3vgedjc:v0 to /scratch/downloaded_artifacts/logs_w3vgedjc:v0\n"
     ]
    },
    {
     "name": "stderr",
     "output_type": "stream",
     "text": [
      "\u001b[34m\u001b[1mwandb\u001b[0m:   1 of 1 files downloaded.  \n"
     ]
    },
    {
     "name": "stdout",
     "output_type": "stream",
     "text": [
      "2025-04-20 13:08:52,694 - INFO - Downloaded logs_v9ertr50:v0 to /scratch/downloaded_artifacts/logs_v9ertr50:v0\n"
     ]
    },
    {
     "name": "stderr",
     "output_type": "stream",
     "text": [
      "\u001b[34m\u001b[1mwandb\u001b[0m:   1 of 1 files downloaded.  \n"
     ]
    },
    {
     "name": "stdout",
     "output_type": "stream",
     "text": [
      "2025-04-20 13:08:52,779 - INFO - Downloaded logs_wuqz3coc:v0 to /scratch/downloaded_artifacts/logs_wuqz3coc:v0\n"
     ]
    },
    {
     "name": "stderr",
     "output_type": "stream",
     "text": [
      "\u001b[34m\u001b[1mwandb\u001b[0m:   1 of 1 files downloaded.  \n"
     ]
    },
    {
     "name": "stdout",
     "output_type": "stream",
     "text": [
      "2025-04-20 13:08:52,898 - INFO - Downloaded logs_8lprvymb:v0 to /scratch/downloaded_artifacts/logs_8lprvymb:v0\n"
     ]
    },
    {
     "name": "stderr",
     "output_type": "stream",
     "text": [
      "\u001b[34m\u001b[1mwandb\u001b[0m:   1 of 1 files downloaded.  \n"
     ]
    },
    {
     "name": "stdout",
     "output_type": "stream",
     "text": [
      "2025-04-20 13:08:52,934 - INFO - Downloaded logs_wt5021i6:v0 to /scratch/downloaded_artifacts/logs_wt5021i6:v0\n"
     ]
    },
    {
     "name": "stderr",
     "output_type": "stream",
     "text": [
      "\u001b[34m\u001b[1mwandb\u001b[0m:   1 of 1 files downloaded.  \n"
     ]
    },
    {
     "name": "stdout",
     "output_type": "stream",
     "text": [
      "2025-04-20 13:08:53,028 - INFO - Downloaded logs_mky7n22j:v0 to /scratch/downloaded_artifacts/logs_mky7n22j:v0\n"
     ]
    },
    {
     "name": "stderr",
     "output_type": "stream",
     "text": [
      "\u001b[34m\u001b[1mwandb\u001b[0m:   1 of 1 files downloaded.  \n"
     ]
    },
    {
     "name": "stdout",
     "output_type": "stream",
     "text": [
      "2025-04-20 13:08:53,087 - INFO - Downloaded logs_au8q026y:v0 to /scratch/downloaded_artifacts/logs_au8q026y:v0\n"
     ]
    },
    {
     "name": "stderr",
     "output_type": "stream",
     "text": [
      "\u001b[34m\u001b[1mwandb\u001b[0m:   1 of 1 files downloaded.  \n"
     ]
    },
    {
     "name": "stdout",
     "output_type": "stream",
     "text": [
      "2025-04-20 13:08:53,120 - INFO - Downloaded logs_diqqht70:v0 to /scratch/downloaded_artifacts/logs_diqqht70:v0\n"
     ]
    },
    {
     "name": "stderr",
     "output_type": "stream",
     "text": [
      "\u001b[34m\u001b[1mwandb\u001b[0m:   1 of 1 files downloaded.  \n"
     ]
    },
    {
     "name": "stdout",
     "output_type": "stream",
     "text": [
      "2025-04-20 13:08:53,241 - INFO - Downloaded logs_hv164vdq:v0 to /scratch/downloaded_artifacts/logs_hv164vdq:v0\n"
     ]
    },
    {
     "name": "stderr",
     "output_type": "stream",
     "text": [
      "\u001b[34m\u001b[1mwandb\u001b[0m:   1 of 1 files downloaded.  \n"
     ]
    },
    {
     "name": "stdout",
     "output_type": "stream",
     "text": [
      "2025-04-20 13:08:53,256 - INFO - Downloaded logs_2iy86d0j:v0 to /scratch/downloaded_artifacts/logs_2iy86d0j:v0\n"
     ]
    },
    {
     "name": "stderr",
     "output_type": "stream",
     "text": [
      "\u001b[34m\u001b[1mwandb\u001b[0m:   1 of 1 files downloaded.  \n"
     ]
    },
    {
     "name": "stdout",
     "output_type": "stream",
     "text": [
      "2025-04-20 13:08:53,402 - INFO - Downloaded logs_l5dp71nb:v0 to /scratch/downloaded_artifacts/logs_l5dp71nb:v0\n"
     ]
    },
    {
     "name": "stderr",
     "output_type": "stream",
     "text": [
      "\u001b[34m\u001b[1mwandb\u001b[0m:   1 of 1 files downloaded.  \n"
     ]
    },
    {
     "name": "stdout",
     "output_type": "stream",
     "text": [
      "2025-04-20 13:08:53,450 - INFO - Downloaded logs_n0vd6l1i:v0 to /scratch/downloaded_artifacts/logs_n0vd6l1i:v0\n"
     ]
    },
    {
     "name": "stderr",
     "output_type": "stream",
     "text": [
      "\u001b[34m\u001b[1mwandb\u001b[0m:   1 of 1 files downloaded.  \n"
     ]
    },
    {
     "name": "stdout",
     "output_type": "stream",
     "text": [
      "2025-04-20 13:08:53,488 - INFO - Downloaded logs_wyahh7xu:v0 to /scratch/downloaded_artifacts/logs_wyahh7xu:v0\n"
     ]
    },
    {
     "name": "stderr",
     "output_type": "stream",
     "text": [
      "\u001b[34m\u001b[1mwandb\u001b[0m:   1 of 1 files downloaded.  \n"
     ]
    },
    {
     "name": "stdout",
     "output_type": "stream",
     "text": [
      "2025-04-20 13:08:53,494 - INFO - Downloaded logs_sqojf8lx:v0 to /scratch/downloaded_artifacts/logs_sqojf8lx:v0\n"
     ]
    },
    {
     "name": "stderr",
     "output_type": "stream",
     "text": [
      "\u001b[34m\u001b[1mwandb\u001b[0m:   1 of 1 files downloaded.  \n"
     ]
    },
    {
     "name": "stdout",
     "output_type": "stream",
     "text": [
      "2025-04-20 13:08:53,584 - INFO - Downloaded logs_qg8grm2h:v0 to /scratch/downloaded_artifacts/logs_qg8grm2h:v0\n"
     ]
    },
    {
     "name": "stderr",
     "output_type": "stream",
     "text": [
      "\u001b[34m\u001b[1mwandb\u001b[0m:   1 of 1 files downloaded.  \n"
     ]
    },
    {
     "name": "stdout",
     "output_type": "stream",
     "text": [
      "2025-04-20 13:08:53,657 - INFO - Downloaded logs_xgxs75j4:v0 to /scratch/downloaded_artifacts/logs_xgxs75j4:v0\n"
     ]
    },
    {
     "name": "stderr",
     "output_type": "stream",
     "text": [
      "\u001b[34m\u001b[1mwandb\u001b[0m:   1 of 1 files downloaded.  \n"
     ]
    },
    {
     "name": "stdout",
     "output_type": "stream",
     "text": [
      "2025-04-20 13:08:53,724 - INFO - Downloaded logs_1085wwp3:v0 to /scratch/downloaded_artifacts/logs_1085wwp3:v0\n"
     ]
    },
    {
     "name": "stderr",
     "output_type": "stream",
     "text": [
      "\u001b[34m\u001b[1mwandb\u001b[0m:   1 of 1 files downloaded.  \n"
     ]
    },
    {
     "name": "stdout",
     "output_type": "stream",
     "text": [
      "2025-04-20 13:08:53,789 - INFO - Downloaded logs_19mau6z3:v0 to /scratch/downloaded_artifacts/logs_19mau6z3:v0\n"
     ]
    },
    {
     "name": "stderr",
     "output_type": "stream",
     "text": [
      "\u001b[34m\u001b[1mwandb\u001b[0m:   1 of 1 files downloaded.  \n"
     ]
    },
    {
     "name": "stdout",
     "output_type": "stream",
     "text": [
      "2025-04-20 13:08:53,889 - INFO - Downloaded logs_3v9jxdid:v0 to /scratch/downloaded_artifacts/logs_3v9jxdid:v0\n"
     ]
    },
    {
     "name": "stderr",
     "output_type": "stream",
     "text": [
      "\u001b[34m\u001b[1mwandb\u001b[0m:   1 of 1 files downloaded.  \n"
     ]
    },
    {
     "name": "stdout",
     "output_type": "stream",
     "text": [
      "2025-04-20 13:08:53,971 - INFO - Downloaded logs_24blisgw:v0 to /scratch/downloaded_artifacts/logs_24blisgw:v0\n"
     ]
    },
    {
     "name": "stderr",
     "output_type": "stream",
     "text": [
      "\u001b[34m\u001b[1mwandb\u001b[0m:   1 of 1 files downloaded.  \n"
     ]
    },
    {
     "name": "stdout",
     "output_type": "stream",
     "text": [
      "2025-04-20 13:08:54,050 - INFO - Downloaded logs_91p5f3ex:v0 to /scratch/downloaded_artifacts/logs_91p5f3ex:v0\n"
     ]
    },
    {
     "name": "stderr",
     "output_type": "stream",
     "text": [
      "\u001b[34m\u001b[1mwandb\u001b[0m:   1 of 1 files downloaded.  \n"
     ]
    },
    {
     "name": "stdout",
     "output_type": "stream",
     "text": [
      "2025-04-20 13:08:54,092 - INFO - Downloaded logs_laemo7c5:v0 to /scratch/downloaded_artifacts/logs_laemo7c5:v0\n"
     ]
    },
    {
     "name": "stderr",
     "output_type": "stream",
     "text": [
      "\u001b[34m\u001b[1mwandb\u001b[0m:   1 of 1 files downloaded.  \n"
     ]
    },
    {
     "name": "stdout",
     "output_type": "stream",
     "text": [
      "2025-04-20 13:08:54,169 - INFO - Downloaded logs_5adkolkj:v0 to /scratch/downloaded_artifacts/logs_5adkolkj:v0\n"
     ]
    },
    {
     "name": "stderr",
     "output_type": "stream",
     "text": [
      "\u001b[34m\u001b[1mwandb\u001b[0m:   1 of 1 files downloaded.  \n"
     ]
    },
    {
     "name": "stdout",
     "output_type": "stream",
     "text": [
      "2025-04-20 13:08:54,205 - INFO - Downloaded logs_terxvxfc:v0 to /scratch/downloaded_artifacts/logs_terxvxfc:v0\n"
     ]
    },
    {
     "name": "stderr",
     "output_type": "stream",
     "text": [
      "\u001b[34m\u001b[1mwandb\u001b[0m:   1 of 1 files downloaded.  \n"
     ]
    },
    {
     "name": "stdout",
     "output_type": "stream",
     "text": [
      "2025-04-20 13:08:54,323 - INFO - Downloaded logs_nr93du57:v0 to /scratch/downloaded_artifacts/logs_nr93du57:v0\n"
     ]
    },
    {
     "name": "stderr",
     "output_type": "stream",
     "text": [
      "\u001b[34m\u001b[1mwandb\u001b[0m:   1 of 1 files downloaded.  \n"
     ]
    },
    {
     "name": "stdout",
     "output_type": "stream",
     "text": [
      "2025-04-20 13:08:54,503 - INFO - Downloaded logs_82vmjmvq:v0 to /scratch/downloaded_artifacts/logs_82vmjmvq:v0\n"
     ]
    },
    {
     "name": "stderr",
     "output_type": "stream",
     "text": [
      "\u001b[34m\u001b[1mwandb\u001b[0m:   1 of 1 files downloaded.  \n"
     ]
    },
    {
     "name": "stdout",
     "output_type": "stream",
     "text": [
      "2025-04-20 13:08:54,519 - INFO - Downloaded logs_u9tk69um:v0 to /scratch/downloaded_artifacts/logs_u9tk69um:v0\n"
     ]
    },
    {
     "name": "stderr",
     "output_type": "stream",
     "text": [
      "\u001b[34m\u001b[1mwandb\u001b[0m:   1 of 1 files downloaded.  \n"
     ]
    },
    {
     "name": "stdout",
     "output_type": "stream",
     "text": [
      "2025-04-20 13:08:54,578 - INFO - Downloaded logs_v8mg38pp:v0 to /scratch/downloaded_artifacts/logs_v8mg38pp:v0\n"
     ]
    },
    {
     "name": "stderr",
     "output_type": "stream",
     "text": [
      "\u001b[34m\u001b[1mwandb\u001b[0m:   1 of 1 files downloaded.  \n"
     ]
    },
    {
     "name": "stdout",
     "output_type": "stream",
     "text": [
      "2025-04-20 13:08:54,602 - INFO - Downloaded logs_2dnhqmoj:v0 to /scratch/downloaded_artifacts/logs_2dnhqmoj:v0\n"
     ]
    },
    {
     "name": "stderr",
     "output_type": "stream",
     "text": [
      "\u001b[34m\u001b[1mwandb\u001b[0m:   1 of 1 files downloaded.  \n"
     ]
    },
    {
     "name": "stdout",
     "output_type": "stream",
     "text": [
      "2025-04-20 13:08:54,794 - INFO - Downloaded logs_vvzzp4t8:v0 to /scratch/downloaded_artifacts/logs_vvzzp4t8:v0\n"
     ]
    },
    {
     "name": "stderr",
     "output_type": "stream",
     "text": [
      "\u001b[34m\u001b[1mwandb\u001b[0m:   1 of 1 files downloaded.  \n"
     ]
    },
    {
     "name": "stdout",
     "output_type": "stream",
     "text": [
      "2025-04-20 13:08:54,804 - INFO - Downloaded logs_vcgxmjeo:v0 to /scratch/downloaded_artifacts/logs_vcgxmjeo:v0\n"
     ]
    },
    {
     "name": "stderr",
     "output_type": "stream",
     "text": [
      "\u001b[34m\u001b[1mwandb\u001b[0m:   1 of 1 files downloaded.  \n",
      "\u001b[34m\u001b[1mwandb\u001b[0m:   1 of 1 files downloaded.  \n"
     ]
    },
    {
     "name": "stdout",
     "output_type": "stream",
     "text": [
      "2025-04-20 13:08:54,962 - INFO - Downloaded logs_4jigb87b:v0 to /scratch/downloaded_artifacts/logs_4jigb87b:v0\n",
      "2025-04-20 13:08:54,964 - INFO - Downloaded logs_2dq4n76n:v0 to /scratch/downloaded_artifacts/logs_2dq4n76n:v0\n"
     ]
    },
    {
     "name": "stderr",
     "output_type": "stream",
     "text": [
      "\u001b[34m\u001b[1mwandb\u001b[0m:   1 of 1 files downloaded.  \n"
     ]
    },
    {
     "name": "stdout",
     "output_type": "stream",
     "text": [
      "2025-04-20 13:08:54,975 - INFO - Downloaded logs_vmebzurp:v0 to /scratch/downloaded_artifacts/logs_vmebzurp:v0\n"
     ]
    },
    {
     "name": "stderr",
     "output_type": "stream",
     "text": [
      "\u001b[34m\u001b[1mwandb\u001b[0m:   1 of 1 files downloaded.  \n",
      "\u001b[34m\u001b[1mwandb\u001b[0m:   1 of 1 files downloaded.  \n"
     ]
    },
    {
     "name": "stdout",
     "output_type": "stream",
     "text": [
      "2025-04-20 13:08:55,087 - INFO - Downloaded logs_8dlt7z1w:v0 to /scratch/downloaded_artifacts/logs_8dlt7z1w:v0\n",
      "2025-04-20 13:08:55,088 - INFO - Downloaded logs_kvtxw1cp:v0 to /scratch/downloaded_artifacts/logs_kvtxw1cp:v0\n"
     ]
    },
    {
     "name": "stderr",
     "output_type": "stream",
     "text": [
      "\u001b[34m\u001b[1mwandb\u001b[0m:   1 of 1 files downloaded.  \n"
     ]
    },
    {
     "name": "stdout",
     "output_type": "stream",
     "text": [
      "2025-04-20 13:08:55,193 - INFO - Downloaded logs_0fkag10k:v0 to /scratch/downloaded_artifacts/logs_0fkag10k:v0\n"
     ]
    },
    {
     "name": "stderr",
     "output_type": "stream",
     "text": [
      "\u001b[34m\u001b[1mwandb\u001b[0m:   1 of 1 files downloaded.  \n"
     ]
    },
    {
     "name": "stdout",
     "output_type": "stream",
     "text": [
      "2025-04-20 13:08:55,334 - INFO - Downloaded logs_vzqttj9e:v0 to /scratch/downloaded_artifacts/logs_vzqttj9e:v0\n"
     ]
    },
    {
     "name": "stderr",
     "output_type": "stream",
     "text": [
      "\u001b[34m\u001b[1mwandb\u001b[0m:   1 of 1 files downloaded.  \n"
     ]
    },
    {
     "name": "stdout",
     "output_type": "stream",
     "text": [
      "2025-04-20 13:08:55,343 - INFO - Downloaded logs_6bwz77gu:v0 to /scratch/downloaded_artifacts/logs_6bwz77gu:v0\n"
     ]
    },
    {
     "name": "stderr",
     "output_type": "stream",
     "text": [
      "\u001b[34m\u001b[1mwandb\u001b[0m:   1 of 1 files downloaded.  \n"
     ]
    },
    {
     "name": "stdout",
     "output_type": "stream",
     "text": [
      "2025-04-20 13:08:55,378 - INFO - Downloaded logs_6r46bk8i:v0 to /scratch/downloaded_artifacts/logs_6r46bk8i:v0\n"
     ]
    },
    {
     "name": "stderr",
     "output_type": "stream",
     "text": [
      "\u001b[34m\u001b[1mwandb\u001b[0m:   1 of 1 files downloaded.  \n"
     ]
    },
    {
     "name": "stdout",
     "output_type": "stream",
     "text": [
      "2025-04-20 13:08:55,519 - INFO - Downloaded logs_7bsxijkq:v0 to /scratch/downloaded_artifacts/logs_7bsxijkq:v0\n"
     ]
    },
    {
     "name": "stderr",
     "output_type": "stream",
     "text": [
      "\u001b[34m\u001b[1mwandb\u001b[0m:   1 of 1 files downloaded.  \n"
     ]
    },
    {
     "name": "stdout",
     "output_type": "stream",
     "text": [
      "2025-04-20 13:08:55,616 - INFO - Downloaded logs_9w0lqfv2:v0 to /scratch/downloaded_artifacts/logs_9w0lqfv2:v0\n"
     ]
    },
    {
     "name": "stderr",
     "output_type": "stream",
     "text": [
      "\u001b[34m\u001b[1mwandb\u001b[0m:   1 of 1 files downloaded.  \n"
     ]
    },
    {
     "name": "stdout",
     "output_type": "stream",
     "text": [
      "2025-04-20 13:08:55,649 - INFO - Downloaded logs_910i3ta7:v0 to /scratch/downloaded_artifacts/logs_910i3ta7:v0\n"
     ]
    },
    {
     "name": "stderr",
     "output_type": "stream",
     "text": [
      "\u001b[34m\u001b[1mwandb\u001b[0m:   1 of 1 files downloaded.  \n"
     ]
    },
    {
     "name": "stdout",
     "output_type": "stream",
     "text": [
      "2025-04-20 13:08:55,756 - INFO - Downloaded logs_6uh4j2a0:v0 to /scratch/downloaded_artifacts/logs_6uh4j2a0:v0\n"
     ]
    },
    {
     "name": "stderr",
     "output_type": "stream",
     "text": [
      "\u001b[34m\u001b[1mwandb\u001b[0m:   1 of 1 files downloaded.  \n"
     ]
    },
    {
     "name": "stdout",
     "output_type": "stream",
     "text": [
      "2025-04-20 13:08:55,903 - INFO - Downloaded logs_alpljmy7:v0 to /scratch/downloaded_artifacts/logs_alpljmy7:v0\n"
     ]
    },
    {
     "name": "stderr",
     "output_type": "stream",
     "text": [
      "\u001b[34m\u001b[1mwandb\u001b[0m:   1 of 1 files downloaded.  \n"
     ]
    },
    {
     "name": "stdout",
     "output_type": "stream",
     "text": [
      "2025-04-20 13:08:55,999 - INFO - Downloaded logs_hb70fqhp:v0 to /scratch/downloaded_artifacts/logs_hb70fqhp:v0\n"
     ]
    },
    {
     "name": "stderr",
     "output_type": "stream",
     "text": [
      "\u001b[34m\u001b[1mwandb\u001b[0m:   1 of 1 files downloaded.  \n"
     ]
    },
    {
     "name": "stdout",
     "output_type": "stream",
     "text": [
      "2025-04-20 13:08:56,073 - INFO - Downloaded logs_p0h9bk3c:v0 to /scratch/downloaded_artifacts/logs_p0h9bk3c:v0\n"
     ]
    },
    {
     "name": "stderr",
     "output_type": "stream",
     "text": [
      "\u001b[34m\u001b[1mwandb\u001b[0m:   1 of 1 files downloaded.  \n",
      "\u001b[34m\u001b[1mwandb\u001b[0m:   1 of 1 files downloaded.  \n"
     ]
    },
    {
     "name": "stdout",
     "output_type": "stream",
     "text": [
      "2025-04-20 13:08:56,102 - INFO - Downloaded logs_hzyn03vx:v0 to /scratch/downloaded_artifacts/logs_hzyn03vx:v0\n",
      "2025-04-20 13:08:56,103 - INFO - Downloaded logs_q4721hp7:v0 to /scratch/downloaded_artifacts/logs_q4721hp7:v0\n"
     ]
    },
    {
     "name": "stderr",
     "output_type": "stream",
     "text": [
      "\u001b[34m\u001b[1mwandb\u001b[0m:   1 of 1 files downloaded.  \n"
     ]
    },
    {
     "name": "stdout",
     "output_type": "stream",
     "text": [
      "2025-04-20 13:08:56,336 - INFO - Downloaded logs_qvrj68a1:v0 to /scratch/downloaded_artifacts/logs_qvrj68a1:v0\n"
     ]
    },
    {
     "name": "stderr",
     "output_type": "stream",
     "text": [
      "\u001b[34m\u001b[1mwandb\u001b[0m:   1 of 1 files downloaded.  \n"
     ]
    },
    {
     "name": "stdout",
     "output_type": "stream",
     "text": [
      "2025-04-20 13:08:56,358 - INFO - Downloaded logs_0ncyq2qp:v0 to /scratch/downloaded_artifacts/logs_0ncyq2qp:v0\n"
     ]
    },
    {
     "name": "stderr",
     "output_type": "stream",
     "text": [
      "\u001b[34m\u001b[1mwandb\u001b[0m:   1 of 1 files downloaded.  \n"
     ]
    },
    {
     "name": "stdout",
     "output_type": "stream",
     "text": [
      "2025-04-20 13:08:56,364 - INFO - Downloaded logs_tjmozuhs:v0 to /scratch/downloaded_artifacts/logs_tjmozuhs:v0\n"
     ]
    },
    {
     "name": "stderr",
     "output_type": "stream",
     "text": [
      "\u001b[34m\u001b[1mwandb\u001b[0m:   1 of 1 files downloaded.  \n"
     ]
    },
    {
     "name": "stdout",
     "output_type": "stream",
     "text": [
      "2025-04-20 13:08:56,455 - INFO - Downloaded logs_tt3go66v:v0 to /scratch/downloaded_artifacts/logs_tt3go66v:v0\n"
     ]
    },
    {
     "name": "stderr",
     "output_type": "stream",
     "text": [
      "\u001b[34m\u001b[1mwandb\u001b[0m:   1 of 1 files downloaded.  \n"
     ]
    },
    {
     "name": "stdout",
     "output_type": "stream",
     "text": [
      "2025-04-20 13:08:56,604 - INFO - Downloaded logs_a4iby5kk:v0 to /scratch/downloaded_artifacts/logs_a4iby5kk:v0\n"
     ]
    },
    {
     "name": "stderr",
     "output_type": "stream",
     "text": [
      "\u001b[34m\u001b[1mwandb\u001b[0m:   1 of 1 files downloaded.  \n"
     ]
    },
    {
     "name": "stdout",
     "output_type": "stream",
     "text": [
      "2025-04-20 13:08:56,637 - INFO - Downloaded logs_5d5d71tw:v0 to /scratch/downloaded_artifacts/logs_5d5d71tw:v0\n"
     ]
    },
    {
     "name": "stderr",
     "output_type": "stream",
     "text": [
      "\u001b[34m\u001b[1mwandb\u001b[0m:   1 of 1 files downloaded.  \n"
     ]
    },
    {
     "name": "stdout",
     "output_type": "stream",
     "text": [
      "2025-04-20 13:08:56,675 - INFO - Downloaded logs_7yw08let:v0 to /scratch/downloaded_artifacts/logs_7yw08let:v0\n"
     ]
    },
    {
     "name": "stderr",
     "output_type": "stream",
     "text": [
      "\u001b[34m\u001b[1mwandb\u001b[0m:   1 of 1 files downloaded.  \n"
     ]
    },
    {
     "name": "stdout",
     "output_type": "stream",
     "text": [
      "2025-04-20 13:08:56,818 - INFO - Downloaded logs_smmpeyox:v0 to /scratch/downloaded_artifacts/logs_smmpeyox:v0\n"
     ]
    },
    {
     "name": "stderr",
     "output_type": "stream",
     "text": [
      "\u001b[34m\u001b[1mwandb\u001b[0m:   1 of 1 files downloaded.  \n"
     ]
    },
    {
     "name": "stdout",
     "output_type": "stream",
     "text": [
      "2025-04-20 13:08:56,847 - INFO - Downloaded logs_aticoqp3:v0 to /scratch/downloaded_artifacts/logs_aticoqp3:v0\n"
     ]
    },
    {
     "name": "stderr",
     "output_type": "stream",
     "text": [
      "\u001b[34m\u001b[1mwandb\u001b[0m:   1 of 1 files downloaded.  \n"
     ]
    },
    {
     "name": "stdout",
     "output_type": "stream",
     "text": [
      "2025-04-20 13:08:56,968 - INFO - Downloaded logs_anwa125z:v0 to /scratch/downloaded_artifacts/logs_anwa125z:v0\n"
     ]
    },
    {
     "name": "stderr",
     "output_type": "stream",
     "text": [
      "\u001b[34m\u001b[1mwandb\u001b[0m:   1 of 1 files downloaded.  \n"
     ]
    },
    {
     "name": "stdout",
     "output_type": "stream",
     "text": [
      "2025-04-20 13:08:57,111 - INFO - Downloaded logs_w78i4t8h:v0 to /scratch/downloaded_artifacts/logs_w78i4t8h:v0\n"
     ]
    },
    {
     "name": "stderr",
     "output_type": "stream",
     "text": [
      "\u001b[34m\u001b[1mwandb\u001b[0m:   1 of 1 files downloaded.  \n"
     ]
    },
    {
     "name": "stdout",
     "output_type": "stream",
     "text": [
      "2025-04-20 13:08:57,200 - INFO - Downloaded logs_c91elcul:v0 to /scratch/downloaded_artifacts/logs_c91elcul:v0\n"
     ]
    },
    {
     "name": "stderr",
     "output_type": "stream",
     "text": [
      "\u001b[34m\u001b[1mwandb\u001b[0m: \u001b[32m\u001b[41mERROR\u001b[0m Error while calling W&B API: rate limit exceeded (<Response [429]>)\n",
      "\u001b[34m\u001b[1mwandb\u001b[0m: \u001b[32m\u001b[41mERROR\u001b[0m Error while calling W&B API: rate limit exceeded (<Response [429]>)\n",
      "\u001b[34m\u001b[1mwandb\u001b[0m: \u001b[32m\u001b[41mERROR\u001b[0m Error while calling W&B API: rate limit exceeded (<Response [429]>)\n",
      "\u001b[34m\u001b[1mwandb\u001b[0m: \u001b[32m\u001b[41mERROR\u001b[0m Error while calling W&B API: rate limit exceeded (<Response [429]>)\n",
      "\u001b[34m\u001b[1mwandb\u001b[0m:   1 of 1 files downloaded.  \n"
     ]
    },
    {
     "name": "stdout",
     "output_type": "stream",
     "text": [
      "2025-04-20 13:08:57,771 - INFO - Downloaded logs_x1nvd9jm:v0 to /scratch/downloaded_artifacts/logs_x1nvd9jm:v0\n"
     ]
    },
    {
     "name": "stderr",
     "output_type": "stream",
     "text": [
      "\u001b[34m\u001b[1mwandb\u001b[0m:   1 of 1 files downloaded.  \n"
     ]
    },
    {
     "name": "stdout",
     "output_type": "stream",
     "text": [
      "2025-04-20 13:08:57,850 - INFO - Downloaded logs_e9ztk7wb:v0 to /scratch/downloaded_artifacts/logs_e9ztk7wb:v0\n"
     ]
    },
    {
     "name": "stderr",
     "output_type": "stream",
     "text": [
      "\u001b[34m\u001b[1mwandb\u001b[0m:   1 of 1 files downloaded.  \n"
     ]
    },
    {
     "name": "stdout",
     "output_type": "stream",
     "text": [
      "2025-04-20 13:08:57,855 - INFO - Downloaded logs_w8l2jy3i:v0 to /scratch/downloaded_artifacts/logs_w8l2jy3i:v0\n"
     ]
    },
    {
     "name": "stderr",
     "output_type": "stream",
     "text": [
      "\u001b[34m\u001b[1mwandb\u001b[0m: \u001b[32m\u001b[41mERROR\u001b[0m Error while calling W&B API: rate limit exceeded (<Response [429]>)\n",
      "\u001b[34m\u001b[1mwandb\u001b[0m: \u001b[32m\u001b[41mERROR\u001b[0m Error while calling W&B API: rate limit exceeded (<Response [429]>)\n",
      "\u001b[34m\u001b[1mwandb\u001b[0m:   1 of 1 files downloaded.  \n"
     ]
    },
    {
     "name": "stdout",
     "output_type": "stream",
     "text": [
      "2025-04-20 13:08:58,514 - INFO - Downloaded logs_8sf4tclv:v0 to /scratch/downloaded_artifacts/logs_8sf4tclv:v0\n"
     ]
    },
    {
     "name": "stderr",
     "output_type": "stream",
     "text": [
      "\u001b[34m\u001b[1mwandb\u001b[0m: \u001b[32m\u001b[41mERROR\u001b[0m Error while calling W&B API: rate limit exceeded (<Response [429]>)\n",
      "\u001b[34m\u001b[1mwandb\u001b[0m:   1 of 1 files downloaded.  \n"
     ]
    },
    {
     "name": "stdout",
     "output_type": "stream",
     "text": [
      "2025-04-20 13:08:58,646 - INFO - Downloaded logs_0mzddi0o:v0 to /scratch/downloaded_artifacts/logs_0mzddi0o:v0\n"
     ]
    },
    {
     "name": "stderr",
     "output_type": "stream",
     "text": [
      "\u001b[34m\u001b[1mwandb\u001b[0m: \u001b[32m\u001b[41mERROR\u001b[0m Error while calling W&B API: rate limit exceeded (<Response [429]>)\n",
      "\u001b[34m\u001b[1mwandb\u001b[0m:   1 of 1 files downloaded.  \n"
     ]
    },
    {
     "name": "stdout",
     "output_type": "stream",
     "text": [
      "2025-04-20 13:08:58,720 - INFO - Downloaded logs_bcvk2hra:v0 to /scratch/downloaded_artifacts/logs_bcvk2hra:v0\n"
     ]
    },
    {
     "name": "stderr",
     "output_type": "stream",
     "text": [
      "\u001b[34m\u001b[1mwandb\u001b[0m:   1 of 1 files downloaded.  \n"
     ]
    },
    {
     "name": "stdout",
     "output_type": "stream",
     "text": [
      "2025-04-20 13:08:58,772 - INFO - Downloaded logs_95t6xkor:v0 to /scratch/downloaded_artifacts/logs_95t6xkor:v0\n"
     ]
    },
    {
     "name": "stderr",
     "output_type": "stream",
     "text": [
      "\u001b[34m\u001b[1mwandb\u001b[0m:   1 of 1 files downloaded.  \n"
     ]
    },
    {
     "name": "stdout",
     "output_type": "stream",
     "text": [
      "2025-04-20 13:08:58,964 - INFO - Downloaded logs_g1iqc7hw:v0 to /scratch/downloaded_artifacts/logs_g1iqc7hw:v0\n"
     ]
    },
    {
     "name": "stderr",
     "output_type": "stream",
     "text": [
      "\u001b[34m\u001b[1mwandb\u001b[0m:   1 of 1 files downloaded.  \n"
     ]
    },
    {
     "name": "stdout",
     "output_type": "stream",
     "text": [
      "2025-04-20 13:08:58,965 - INFO - Downloaded logs_91wiwoyq:v0 to /scratch/downloaded_artifacts/logs_91wiwoyq:v0\n"
     ]
    },
    {
     "name": "stderr",
     "output_type": "stream",
     "text": [
      "\u001b[34m\u001b[1mwandb\u001b[0m:   1 of 1 files downloaded.  \n"
     ]
    },
    {
     "name": "stdout",
     "output_type": "stream",
     "text": [
      "2025-04-20 13:08:59,029 - INFO - Downloaded logs_qghy3kyh:v0 to /scratch/downloaded_artifacts/logs_qghy3kyh:v0\n"
     ]
    },
    {
     "name": "stderr",
     "output_type": "stream",
     "text": [
      "\u001b[34m\u001b[1mwandb\u001b[0m:   1 of 1 files downloaded.  \n"
     ]
    },
    {
     "name": "stdout",
     "output_type": "stream",
     "text": [
      "2025-04-20 13:08:59,087 - INFO - Downloaded logs_g8l3aexw:v0 to /scratch/downloaded_artifacts/logs_g8l3aexw:v0\n"
     ]
    },
    {
     "name": "stderr",
     "output_type": "stream",
     "text": [
      "\u001b[34m\u001b[1mwandb\u001b[0m:   1 of 1 files downloaded.  \n"
     ]
    },
    {
     "name": "stdout",
     "output_type": "stream",
     "text": [
      "2025-04-20 13:08:59,128 - INFO - Downloaded logs_01dsc1by:v0 to /scratch/downloaded_artifacts/logs_01dsc1by:v0\n"
     ]
    },
    {
     "name": "stderr",
     "output_type": "stream",
     "text": [
      "\u001b[34m\u001b[1mwandb\u001b[0m:   1 of 1 files downloaded.  \n"
     ]
    },
    {
     "name": "stdout",
     "output_type": "stream",
     "text": [
      "2025-04-20 13:08:59,133 - INFO - Downloaded logs_o7ozb9ps:v0 to /scratch/downloaded_artifacts/logs_o7ozb9ps:v0\n"
     ]
    },
    {
     "name": "stderr",
     "output_type": "stream",
     "text": [
      "\u001b[34m\u001b[1mwandb\u001b[0m:   1 of 1 files downloaded.  \n"
     ]
    },
    {
     "name": "stdout",
     "output_type": "stream",
     "text": [
      "2025-04-20 13:08:59,145 - INFO - Downloaded logs_970v9nam:v0 to /scratch/downloaded_artifacts/logs_970v9nam:v0\n"
     ]
    },
    {
     "name": "stderr",
     "output_type": "stream",
     "text": [
      "\u001b[34m\u001b[1mwandb\u001b[0m:   1 of 1 files downloaded.  \n"
     ]
    },
    {
     "name": "stdout",
     "output_type": "stream",
     "text": [
      "2025-04-20 13:08:59,215 - INFO - Downloaded logs_p0yqggsc:v0 to /scratch/downloaded_artifacts/logs_p0yqggsc:v0\n"
     ]
    },
    {
     "name": "stderr",
     "output_type": "stream",
     "text": [
      "\u001b[34m\u001b[1mwandb\u001b[0m: Network error (HTTPError), entering retry loop.\n",
      "\u001b[34m\u001b[1mwandb\u001b[0m:   1 of 1 files downloaded.  \n"
     ]
    },
    {
     "name": "stdout",
     "output_type": "stream",
     "text": [
      "2025-04-20 13:09:01,306 - INFO - Downloaded logs_vafy5g8v:v0 to /scratch/downloaded_artifacts/logs_vafy5g8v:v0\n"
     ]
    },
    {
     "name": "stderr",
     "output_type": "stream",
     "text": [
      "\u001b[34m\u001b[1mwandb\u001b[0m:   1 of 1 files downloaded.  \n"
     ]
    },
    {
     "name": "stdout",
     "output_type": "stream",
     "text": [
      "2025-04-20 13:09:01,397 - INFO - Downloaded logs_eed0si79:v0 to /scratch/downloaded_artifacts/logs_eed0si79:v0\n"
     ]
    },
    {
     "name": "stderr",
     "output_type": "stream",
     "text": [
      "\u001b[34m\u001b[1mwandb\u001b[0m:   1 of 1 files downloaded.  \n",
      "\u001b[34m\u001b[1mwandb\u001b[0m:   1 of 1 files downloaded.  \n"
     ]
    },
    {
     "name": "stdout",
     "output_type": "stream",
     "text": [
      "2025-04-20 13:09:01,635 - INFO - Downloaded logs_lb5wb6pb:v0 to /scratch/downloaded_artifacts/logs_lb5wb6pb:v0\n",
      "2025-04-20 13:09:01,636 - INFO - Downloaded logs_ljhfeag7:v0 to /scratch/downloaded_artifacts/logs_ljhfeag7:v0\n",
      "2025-04-20 13:09:01,668 - ERROR - Error downloading artifact for run non37e8n: [Errno 28] No space left on device\n",
      "2025-04-20 13:09:01,669 - ERROR - Error downloading artifact for run d5rfx8ps: [Errno 28] No space left on device\n",
      "2025-04-20 13:09:01,671 - ERROR - Error downloading artifact for run cbzpo153: [Errno 28] No space left on device\n",
      "2025-04-20 13:09:01,675 - ERROR - Error downloading artifact for run qrh8sixb: [Errno 28] No space left on device\n",
      "2025-04-20 13:09:01,677 - ERROR - Error downloading artifact for run yl69w9jx: [Errno 28] No space left on device\n",
      "2025-04-20 13:09:01,680 - ERROR - Error downloading artifact for run gnjeotma: [Errno 28] No space left on device\n",
      "2025-04-20 13:09:01,685 - ERROR - Error downloading artifact for run 2gneqwcy: [Errno 28] No space left on device\n",
      "2025-04-20 13:09:01,686 - ERROR - Error downloading artifact for run 7556vb4f: [Errno 28] No space left on device\n",
      "2025-04-20 13:09:01,686 - ERROR - Error downloading artifact for run nhlq2qf9: [Errno 28] No space left on device\n"
     ]
    },
    {
     "name": "stderr",
     "output_type": "stream",
     "text": [
      "\u001b[34m\u001b[1mwandb\u001b[0m: \u001b[33mWARNING\u001b[0m Cache size exceeded. Attempting to reclaim space...\n",
      "\u001b[34m\u001b[1mwandb\u001b[0m: \u001b[33mWARNING\u001b[0m Cache contains 101.9MB of temporary files. Run `wandb artifact cleanup --remove-temp` to remove them.\n",
      "\u001b[34m\u001b[1mwandb\u001b[0m: \u001b[33mWARNING\u001b[0m Cache size exceeded. Attempting to reclaim space...\n",
      "\u001b[34m\u001b[1mwandb\u001b[0m: \u001b[33mWARNING\u001b[0m Cache contains 110.7MB of temporary files. Run `wandb artifact cleanup --remove-temp` to remove them.\n",
      "\u001b[34m\u001b[1mwandb\u001b[0m: \u001b[33mWARNING\u001b[0m Cache size exceeded. Attempting to reclaim space...\n",
      "\u001b[34m\u001b[1mwandb\u001b[0m: \u001b[33mWARNING\u001b[0m Cache contains 110.7MB of temporary files. Run `wandb artifact cleanup --remove-temp` to remove them.\n",
      "\u001b[34m\u001b[1mwandb\u001b[0m:   1 of 1 files downloaded.  \n"
     ]
    },
    {
     "name": "stdout",
     "output_type": "stream",
     "text": [
      "2025-04-20 13:09:03,629 - INFO - Downloaded logs_17iv3z60:v0 to /scratch/downloaded_artifacts/logs_17iv3z60:v0\n"
     ]
    },
    {
     "name": "stderr",
     "output_type": "stream",
     "text": [
      "\u001b[34m\u001b[1mwandb\u001b[0m:   1 of 1 files downloaded.  \n"
     ]
    },
    {
     "name": "stdout",
     "output_type": "stream",
     "text": [
      "2025-04-20 13:09:03,738 - INFO - Downloaded logs_4wn6an8b:v0 to /scratch/downloaded_artifacts/logs_4wn6an8b:v0\n"
     ]
    },
    {
     "name": "stderr",
     "output_type": "stream",
     "text": [
      "\u001b[34m\u001b[1mwandb\u001b[0m:   1 of 1 files downloaded.  \n"
     ]
    },
    {
     "name": "stdout",
     "output_type": "stream",
     "text": [
      "2025-04-20 13:09:04,931 - INFO - Downloaded logs_5z9l833w:v0 to /scratch/downloaded_artifacts/logs_5z9l833w:v0\n"
     ]
    },
    {
     "name": "stderr",
     "output_type": "stream",
     "text": [
      "\u001b[34m\u001b[1mwandb\u001b[0m:   1 of 1 files downloaded.  \n"
     ]
    },
    {
     "name": "stdout",
     "output_type": "stream",
     "text": [
      "2025-04-20 13:09:04,960 - INFO - Downloaded logs_zwrl1k3d:v0 to /scratch/downloaded_artifacts/logs_zwrl1k3d:v0\n"
     ]
    },
    {
     "name": "stderr",
     "output_type": "stream",
     "text": [
      "\u001b[34m\u001b[1mwandb\u001b[0m:   1 of 1 files downloaded.  \n"
     ]
    },
    {
     "name": "stdout",
     "output_type": "stream",
     "text": [
      "2025-04-20 13:09:06,071 - INFO - Downloaded logs_dxo9ly52:v0 to /scratch/downloaded_artifacts/logs_dxo9ly52:v0\n"
     ]
    },
    {
     "name": "stderr",
     "output_type": "stream",
     "text": [
      "\u001b[34m\u001b[1mwandb\u001b[0m:   1 of 1 files downloaded.  \n"
     ]
    },
    {
     "name": "stdout",
     "output_type": "stream",
     "text": [
      "2025-04-20 13:09:06,307 - INFO - Downloaded logs_e8cd7hac:v0 to /scratch/downloaded_artifacts/logs_e8cd7hac:v0\n"
     ]
    },
    {
     "name": "stderr",
     "output_type": "stream",
     "text": [
      "\u001b[34m\u001b[1mwandb\u001b[0m:   1 of 1 files downloaded.  \n"
     ]
    },
    {
     "name": "stdout",
     "output_type": "stream",
     "text": [
      "2025-04-20 13:09:07,447 - INFO - Downloaded logs_iso35b1l:v0 to /scratch/downloaded_artifacts/logs_iso35b1l:v0\n"
     ]
    },
    {
     "name": "stderr",
     "output_type": "stream",
     "text": [
      "\u001b[34m\u001b[1mwandb\u001b[0m:   1 of 1 files downloaded.  \n"
     ]
    },
    {
     "name": "stdout",
     "output_type": "stream",
     "text": [
      "2025-04-20 13:09:07,602 - INFO - Downloaded logs_nfkaqs1w:v0 to /scratch/downloaded_artifacts/logs_nfkaqs1w:v0\n"
     ]
    },
    {
     "name": "stderr",
     "output_type": "stream",
     "text": [
      "\u001b[34m\u001b[1mwandb\u001b[0m:   1 of 1 files downloaded.  \n"
     ]
    },
    {
     "name": "stdout",
     "output_type": "stream",
     "text": [
      "2025-04-20 13:09:08,729 - INFO - Downloaded logs_pk1wv22c:v0 to /scratch/downloaded_artifacts/logs_pk1wv22c:v0\n"
     ]
    },
    {
     "name": "stderr",
     "output_type": "stream",
     "text": [
      "\u001b[34m\u001b[1mwandb\u001b[0m:   1 of 1 files downloaded.  \n"
     ]
    },
    {
     "name": "stdout",
     "output_type": "stream",
     "text": [
      "2025-04-20 13:09:08,836 - INFO - Downloaded logs_u0emw7pc:v0 to /scratch/downloaded_artifacts/logs_u0emw7pc:v0\n"
     ]
    },
    {
     "name": "stderr",
     "output_type": "stream",
     "text": [
      "\u001b[34m\u001b[1mwandb\u001b[0m:   1 of 1 files downloaded.  \n"
     ]
    },
    {
     "name": "stdout",
     "output_type": "stream",
     "text": [
      "2025-04-20 13:09:09,235 - INFO - Downloaded logs_v7ae8cq7:v0 to /scratch/downloaded_artifacts/logs_v7ae8cq7:v0\n"
     ]
    },
    {
     "name": "stderr",
     "output_type": "stream",
     "text": [
      "\u001b[34m\u001b[1mwandb\u001b[0m:   1 of 1 files downloaded.  \n"
     ]
    },
    {
     "name": "stdout",
     "output_type": "stream",
     "text": [
      "2025-04-20 13:09:09,298 - INFO - Downloaded logs_5i3gih4s:v0 to /scratch/downloaded_artifacts/logs_5i3gih4s:v0\n"
     ]
    },
    {
     "name": "stderr",
     "output_type": "stream",
     "text": [
      "\u001b[34m\u001b[1mwandb\u001b[0m:   1 of 1 files downloaded.  \n"
     ]
    },
    {
     "name": "stdout",
     "output_type": "stream",
     "text": [
      "2025-04-20 13:09:09,641 - INFO - Downloaded logs_12txpjjv:v0 to /scratch/downloaded_artifacts/logs_12txpjjv:v0\n"
     ]
    },
    {
     "name": "stderr",
     "output_type": "stream",
     "text": [
      "\u001b[34m\u001b[1mwandb\u001b[0m:   1 of 1 files downloaded.  \n"
     ]
    },
    {
     "name": "stdout",
     "output_type": "stream",
     "text": [
      "2025-04-20 13:09:10,068 - INFO - Downloaded logs_9xsnsd9m:v0 to /scratch/downloaded_artifacts/logs_9xsnsd9m:v0\n"
     ]
    },
    {
     "name": "stderr",
     "output_type": "stream",
     "text": [
      "\u001b[34m\u001b[1mwandb\u001b[0m:   1 of 1 files downloaded.  \n"
     ]
    },
    {
     "name": "stdout",
     "output_type": "stream",
     "text": [
      "2025-04-20 13:09:10,274 - INFO - Downloaded logs_17uwqkcf:v0 to /scratch/downloaded_artifacts/logs_17uwqkcf:v0\n"
     ]
    },
    {
     "name": "stderr",
     "output_type": "stream",
     "text": [
      "\u001b[34m\u001b[1mwandb\u001b[0m:   1 of 1 files downloaded.  \n"
     ]
    },
    {
     "name": "stdout",
     "output_type": "stream",
     "text": [
      "2025-04-20 13:09:10,647 - INFO - Downloaded logs_v1abfazc:v0 to /scratch/downloaded_artifacts/logs_v1abfazc:v0\n"
     ]
    },
    {
     "name": "stderr",
     "output_type": "stream",
     "text": [
      "\u001b[34m\u001b[1mwandb\u001b[0m:   1 of 1 files downloaded.  \n"
     ]
    },
    {
     "name": "stdout",
     "output_type": "stream",
     "text": [
      "2025-04-20 13:09:10,666 - INFO - Downloaded logs_exgf6fdz:v0 to /scratch/downloaded_artifacts/logs_exgf6fdz:v0\n"
     ]
    },
    {
     "name": "stderr",
     "output_type": "stream",
     "text": [
      "\u001b[34m\u001b[1mwandb\u001b[0m:   1 of 1 files downloaded.  \n"
     ]
    },
    {
     "name": "stdout",
     "output_type": "stream",
     "text": [
      "2025-04-20 13:09:10,832 - INFO - Downloaded logs_vf4d2a54:v0 to /scratch/downloaded_artifacts/logs_vf4d2a54:v0\n"
     ]
    },
    {
     "name": "stderr",
     "output_type": "stream",
     "text": [
      "\u001b[34m\u001b[1mwandb\u001b[0m:   1 of 1 files downloaded.  \n"
     ]
    },
    {
     "name": "stdout",
     "output_type": "stream",
     "text": [
      "2025-04-20 13:09:11,291 - INFO - Downloaded logs_wj16rz60:v0 to /scratch/downloaded_artifacts/logs_wj16rz60:v0\n"
     ]
    },
    {
     "name": "stderr",
     "output_type": "stream",
     "text": [
      "\u001b[34m\u001b[1mwandb\u001b[0m:   1 of 1 files downloaded.  \n"
     ]
    },
    {
     "name": "stdout",
     "output_type": "stream",
     "text": [
      "2025-04-20 13:09:11,724 - INFO - Downloaded logs_x4s3lxo3:v0 to /scratch/downloaded_artifacts/logs_x4s3lxo3:v0\n"
     ]
    },
    {
     "name": "stderr",
     "output_type": "stream",
     "text": [
      "\u001b[34m\u001b[1mwandb\u001b[0m:   1 of 1 files downloaded.  \n"
     ]
    },
    {
     "name": "stdout",
     "output_type": "stream",
     "text": [
      "2025-04-20 13:09:11,913 - INFO - Downloaded logs_eemmscro:v0 to /scratch/downloaded_artifacts/logs_eemmscro:v0\n"
     ]
    },
    {
     "name": "stderr",
     "output_type": "stream",
     "text": [
      "\u001b[34m\u001b[1mwandb\u001b[0m:   1 of 1 files downloaded.  \n"
     ]
    },
    {
     "name": "stdout",
     "output_type": "stream",
     "text": [
      "2025-04-20 13:09:11,971 - INFO - Downloaded logs_lp8p5lot:v0 to /scratch/downloaded_artifacts/logs_lp8p5lot:v0\n"
     ]
    },
    {
     "name": "stderr",
     "output_type": "stream",
     "text": [
      "\u001b[34m\u001b[1mwandb\u001b[0m:   1 of 1 files downloaded.  \n"
     ]
    },
    {
     "name": "stdout",
     "output_type": "stream",
     "text": [
      "2025-04-20 13:09:12,053 - INFO - Downloaded logs_4bn6lrwj:v0 to /scratch/downloaded_artifacts/logs_4bn6lrwj:v0\n"
     ]
    },
    {
     "name": "stderr",
     "output_type": "stream",
     "text": [
      "\u001b[34m\u001b[1mwandb\u001b[0m:   1 of 1 files downloaded.  \n"
     ]
    },
    {
     "name": "stdout",
     "output_type": "stream",
     "text": [
      "2025-04-20 13:09:12,519 - INFO - Downloaded logs_pa9r9gdh:v0 to /scratch/downloaded_artifacts/logs_pa9r9gdh:v0\n"
     ]
    },
    {
     "name": "stderr",
     "output_type": "stream",
     "text": [
      "\u001b[34m\u001b[1mwandb\u001b[0m:   1 of 1 files downloaded.  \n"
     ]
    },
    {
     "name": "stdout",
     "output_type": "stream",
     "text": [
      "2025-04-20 13:09:13,134 - INFO - Downloaded logs_wdw5jdx4:v0 to /scratch/downloaded_artifacts/logs_wdw5jdx4:v0\n"
     ]
    },
    {
     "name": "stderr",
     "output_type": "stream",
     "text": [
      "\u001b[34m\u001b[1mwandb\u001b[0m:   1 of 1 files downloaded.  \n"
     ]
    },
    {
     "name": "stdout",
     "output_type": "stream",
     "text": [
      "2025-04-20 13:09:13,185 - INFO - Downloaded logs_wo7f6vje:v0 to /scratch/downloaded_artifacts/logs_wo7f6vje:v0\n"
     ]
    },
    {
     "name": "stderr",
     "output_type": "stream",
     "text": [
      "\u001b[34m\u001b[1mwandb\u001b[0m:   1 of 1 files downloaded.  \n"
     ]
    },
    {
     "name": "stdout",
     "output_type": "stream",
     "text": [
      "2025-04-20 13:09:13,248 - INFO - Downloaded logs_x1n39cek:v0 to /scratch/downloaded_artifacts/logs_x1n39cek:v0\n"
     ]
    },
    {
     "name": "stderr",
     "output_type": "stream",
     "text": [
      "\u001b[34m\u001b[1mwandb\u001b[0m:   1 of 1 files downloaded.  \n"
     ]
    },
    {
     "name": "stdout",
     "output_type": "stream",
     "text": [
      "2025-04-20 13:09:13,385 - INFO - Downloaded logs_tepquugk:v0 to /scratch/downloaded_artifacts/logs_tepquugk:v0\n"
     ]
    },
    {
     "name": "stderr",
     "output_type": "stream",
     "text": [
      "\u001b[34m\u001b[1mwandb\u001b[0m:   1 of 1 files downloaded.  \n"
     ]
    },
    {
     "name": "stdout",
     "output_type": "stream",
     "text": [
      "2025-04-20 13:09:13,794 - INFO - Downloaded logs_y01chiju:v0 to /scratch/downloaded_artifacts/logs_y01chiju:v0\n"
     ]
    },
    {
     "name": "stderr",
     "output_type": "stream",
     "text": [
      "\u001b[34m\u001b[1mwandb\u001b[0m:   1 of 1 files downloaded.  \n"
     ]
    },
    {
     "name": "stdout",
     "output_type": "stream",
     "text": [
      "2025-04-20 13:09:14,432 - INFO - Downloaded logs_yrd3hdxf:v0 to /scratch/downloaded_artifacts/logs_yrd3hdxf:v0\n"
     ]
    },
    {
     "name": "stderr",
     "output_type": "stream",
     "text": [
      "\u001b[34m\u001b[1mwandb\u001b[0m:   1 of 1 files downloaded.  \n"
     ]
    },
    {
     "name": "stdout",
     "output_type": "stream",
     "text": [
      "2025-04-20 13:09:14,590 - INFO - Downloaded logs_42sdtkdg:v0 to /scratch/downloaded_artifacts/logs_42sdtkdg:v0\n"
     ]
    },
    {
     "name": "stderr",
     "output_type": "stream",
     "text": [
      "\u001b[34m\u001b[1mwandb\u001b[0m:   1 of 1 files downloaded.  \n"
     ]
    },
    {
     "name": "stdout",
     "output_type": "stream",
     "text": [
      "2025-04-20 13:09:14,660 - INFO - Downloaded logs_3mp5kbi4:v0 to /scratch/downloaded_artifacts/logs_3mp5kbi4:v0\n"
     ]
    },
    {
     "name": "stderr",
     "output_type": "stream",
     "text": [
      "\u001b[34m\u001b[1mwandb\u001b[0m:   1 of 1 files downloaded.  \n"
     ]
    },
    {
     "name": "stdout",
     "output_type": "stream",
     "text": [
      "2025-04-20 13:09:14,732 - INFO - Downloaded logs_0qh1a1ou:v0 to /scratch/downloaded_artifacts/logs_0qh1a1ou:v0\n"
     ]
    },
    {
     "name": "stderr",
     "output_type": "stream",
     "text": [
      "\u001b[34m\u001b[1mwandb\u001b[0m:   1 of 1 files downloaded.  \n"
     ]
    },
    {
     "name": "stdout",
     "output_type": "stream",
     "text": [
      "2025-04-20 13:09:15,019 - INFO - Downloaded logs_7ne6906x:v0 to /scratch/downloaded_artifacts/logs_7ne6906x:v0\n"
     ]
    },
    {
     "name": "stderr",
     "output_type": "stream",
     "text": [
      "\u001b[34m\u001b[1mwandb\u001b[0m:   1 of 1 files downloaded.  \n"
     ]
    },
    {
     "name": "stdout",
     "output_type": "stream",
     "text": [
      "2025-04-20 13:09:15,590 - INFO - Downloaded logs_8u86ejvo:v0 to /scratch/downloaded_artifacts/logs_8u86ejvo:v0\n"
     ]
    },
    {
     "name": "stderr",
     "output_type": "stream",
     "text": [
      "\u001b[34m\u001b[1mwandb\u001b[0m:   1 of 1 files downloaded.  \n"
     ]
    },
    {
     "name": "stdout",
     "output_type": "stream",
     "text": [
      "2025-04-20 13:09:15,794 - INFO - Downloaded logs_biewdyog:v0 to /scratch/downloaded_artifacts/logs_biewdyog:v0\n"
     ]
    },
    {
     "name": "stderr",
     "output_type": "stream",
     "text": [
      "\u001b[34m\u001b[1mwandb\u001b[0m:   1 of 1 files downloaded.  \n"
     ]
    },
    {
     "name": "stdout",
     "output_type": "stream",
     "text": [
      "2025-04-20 13:09:15,902 - INFO - Downloaded logs_kcjgtobh:v0 to /scratch/downloaded_artifacts/logs_kcjgtobh:v0\n"
     ]
    },
    {
     "name": "stderr",
     "output_type": "stream",
     "text": [
      "\u001b[34m\u001b[1mwandb\u001b[0m:   1 of 1 files downloaded.  \n"
     ]
    },
    {
     "name": "stdout",
     "output_type": "stream",
     "text": [
      "2025-04-20 13:09:16,159 - INFO - Downloaded logs_w2wzqau6:v0 to /scratch/downloaded_artifacts/logs_w2wzqau6:v0\n"
     ]
    },
    {
     "name": "stderr",
     "output_type": "stream",
     "text": [
      "\u001b[34m\u001b[1mwandb\u001b[0m:   1 of 1 files downloaded.  \n"
     ]
    },
    {
     "name": "stdout",
     "output_type": "stream",
     "text": [
      "2025-04-20 13:09:16,550 - INFO - Downloaded logs_ziv2wjqc:v0 to /scratch/downloaded_artifacts/logs_ziv2wjqc:v0\n"
     ]
    },
    {
     "name": "stderr",
     "output_type": "stream",
     "text": [
      "\u001b[34m\u001b[1mwandb\u001b[0m:   1 of 1 files downloaded.  \n"
     ]
    },
    {
     "name": "stdout",
     "output_type": "stream",
     "text": [
      "2025-04-20 13:09:16,789 - INFO - Downloaded logs_zwdi1xmb:v0 to /scratch/downloaded_artifacts/logs_zwdi1xmb:v0\n"
     ]
    },
    {
     "name": "stderr",
     "output_type": "stream",
     "text": [
      "\u001b[34m\u001b[1mwandb\u001b[0m:   1 of 1 files downloaded.  \n"
     ]
    },
    {
     "name": "stdout",
     "output_type": "stream",
     "text": [
      "2025-04-20 13:09:17,008 - INFO - Downloaded logs_ckm1z7lp:v0 to /scratch/downloaded_artifacts/logs_ckm1z7lp:v0\n"
     ]
    },
    {
     "name": "stderr",
     "output_type": "stream",
     "text": [
      "\u001b[34m\u001b[1mwandb\u001b[0m:   1 of 1 files downloaded.  \n"
     ]
    },
    {
     "name": "stdout",
     "output_type": "stream",
     "text": [
      "2025-04-20 13:09:17,332 - INFO - Downloaded logs_08a8nepa:v0 to /scratch/downloaded_artifacts/logs_08a8nepa:v0\n"
     ]
    },
    {
     "name": "stderr",
     "output_type": "stream",
     "text": [
      "\u001b[34m\u001b[1mwandb\u001b[0m:   1 of 1 files downloaded.  \n"
     ]
    },
    {
     "name": "stdout",
     "output_type": "stream",
     "text": [
      "2025-04-20 13:09:17,385 - INFO - Downloaded logs_216yfsth:v0 to /scratch/downloaded_artifacts/logs_216yfsth:v0\n"
     ]
    },
    {
     "name": "stderr",
     "output_type": "stream",
     "text": [
      "\u001b[34m\u001b[1mwandb\u001b[0m:   1 of 1 files downloaded.  \n"
     ]
    },
    {
     "name": "stdout",
     "output_type": "stream",
     "text": [
      "2025-04-20 13:09:17,780 - INFO - Downloaded logs_2aenetsz:v0 to /scratch/downloaded_artifacts/logs_2aenetsz:v0\n"
     ]
    },
    {
     "name": "stderr",
     "output_type": "stream",
     "text": [
      "\u001b[34m\u001b[1mwandb\u001b[0m:   1 of 1 files downloaded.  \n"
     ]
    },
    {
     "name": "stdout",
     "output_type": "stream",
     "text": [
      "2025-04-20 13:09:18,115 - INFO - Downloaded logs_4dv9qgfg:v0 to /scratch/downloaded_artifacts/logs_4dv9qgfg:v0\n"
     ]
    },
    {
     "name": "stderr",
     "output_type": "stream",
     "text": [
      "\u001b[34m\u001b[1mwandb\u001b[0m:   1 of 1 files downloaded.  \n"
     ]
    },
    {
     "name": "stdout",
     "output_type": "stream",
     "text": [
      "2025-04-20 13:09:18,164 - INFO - Downloaded logs_atg0619o:v0 to /scratch/downloaded_artifacts/logs_atg0619o:v0\n"
     ]
    },
    {
     "name": "stderr",
     "output_type": "stream",
     "text": [
      "\u001b[34m\u001b[1mwandb\u001b[0m:   1 of 1 files downloaded.  \n"
     ]
    },
    {
     "name": "stdout",
     "output_type": "stream",
     "text": [
      "2025-04-20 13:09:18,553 - INFO - Downloaded logs_cgp4aqkr:v0 to /scratch/downloaded_artifacts/logs_cgp4aqkr:v0\n"
     ]
    },
    {
     "name": "stderr",
     "output_type": "stream",
     "text": [
      "\u001b[34m\u001b[1mwandb\u001b[0m:   1 of 1 files downloaded.  \n"
     ]
    },
    {
     "name": "stdout",
     "output_type": "stream",
     "text": [
      "2025-04-20 13:09:18,825 - INFO - Downloaded logs_el7svtok:v0 to /scratch/downloaded_artifacts/logs_el7svtok:v0\n"
     ]
    },
    {
     "name": "stderr",
     "output_type": "stream",
     "text": [
      "\u001b[34m\u001b[1mwandb\u001b[0m:   1 of 1 files downloaded.  \n"
     ]
    },
    {
     "name": "stdout",
     "output_type": "stream",
     "text": [
      "2025-04-20 13:09:19,221 - INFO - Downloaded logs_fbfgsgg6:v0 to /scratch/downloaded_artifacts/logs_fbfgsgg6:v0\n"
     ]
    },
    {
     "name": "stderr",
     "output_type": "stream",
     "text": [
      "\u001b[34m\u001b[1mwandb\u001b[0m:   1 of 1 files downloaded.  \n"
     ]
    },
    {
     "name": "stdout",
     "output_type": "stream",
     "text": [
      "2025-04-20 13:09:19,355 - INFO - Downloaded logs_i50obtfp:v0 to /scratch/downloaded_artifacts/logs_i50obtfp:v0\n"
     ]
    },
    {
     "name": "stderr",
     "output_type": "stream",
     "text": [
      "\u001b[34m\u001b[1mwandb\u001b[0m:   1 of 1 files downloaded.  \n"
     ]
    },
    {
     "name": "stdout",
     "output_type": "stream",
     "text": [
      "2025-04-20 13:09:19,525 - INFO - Downloaded logs_r9vnhide:v0 to /scratch/downloaded_artifacts/logs_r9vnhide:v0\n"
     ]
    },
    {
     "name": "stderr",
     "output_type": "stream",
     "text": [
      "\u001b[34m\u001b[1mwandb\u001b[0m:   1 of 1 files downloaded.  \n"
     ]
    },
    {
     "name": "stdout",
     "output_type": "stream",
     "text": [
      "2025-04-20 13:09:19,784 - INFO - Downloaded logs_v3cs3zyc:v0 to /scratch/downloaded_artifacts/logs_v3cs3zyc:v0\n"
     ]
    },
    {
     "name": "stderr",
     "output_type": "stream",
     "text": [
      "\u001b[34m\u001b[1mwandb\u001b[0m:   1 of 1 files downloaded.  \n"
     ]
    },
    {
     "name": "stdout",
     "output_type": "stream",
     "text": [
      "2025-04-20 13:09:20,054 - INFO - Downloaded logs_vv4lt43w:v0 to /scratch/downloaded_artifacts/logs_vv4lt43w:v0\n"
     ]
    },
    {
     "name": "stderr",
     "output_type": "stream",
     "text": [
      "\u001b[34m\u001b[1mwandb\u001b[0m:   1 of 1 files downloaded.  \n"
     ]
    },
    {
     "name": "stdout",
     "output_type": "stream",
     "text": [
      "2025-04-20 13:09:20,552 - INFO - Downloaded logs_5y5r4amg:v0 to /scratch/downloaded_artifacts/logs_5y5r4amg:v0\n"
     ]
    },
    {
     "name": "stderr",
     "output_type": "stream",
     "text": [
      "\u001b[34m\u001b[1mwandb\u001b[0m:   1 of 1 files downloaded.  \n"
     ]
    },
    {
     "name": "stdout",
     "output_type": "stream",
     "text": [
      "2025-04-20 13:09:20,640 - INFO - Downloaded logs_gzmt65zx:v0 to /scratch/downloaded_artifacts/logs_gzmt65zx:v0\n"
     ]
    },
    {
     "name": "stderr",
     "output_type": "stream",
     "text": [
      "\u001b[34m\u001b[1mwandb\u001b[0m:   1 of 1 files downloaded.  \n"
     ]
    },
    {
     "name": "stdout",
     "output_type": "stream",
     "text": [
      "2025-04-20 13:09:20,658 - INFO - Downloaded logs_8wbafkec:v0 to /scratch/downloaded_artifacts/logs_8wbafkec:v0\n"
     ]
    },
    {
     "name": "stderr",
     "output_type": "stream",
     "text": [
      "\u001b[34m\u001b[1mwandb\u001b[0m:   1 of 1 files downloaded.  \n"
     ]
    },
    {
     "name": "stdout",
     "output_type": "stream",
     "text": [
      "2025-04-20 13:09:21,004 - INFO - Downloaded logs_l1c4c37e:v0 to /scratch/downloaded_artifacts/logs_l1c4c37e:v0\n"
     ]
    },
    {
     "name": "stderr",
     "output_type": "stream",
     "text": [
      "\u001b[34m\u001b[1mwandb\u001b[0m:   1 of 1 files downloaded.  \n"
     ]
    },
    {
     "name": "stdout",
     "output_type": "stream",
     "text": [
      "2025-04-20 13:09:21,370 - INFO - Downloaded logs_lhqtxzlz:v0 to /scratch/downloaded_artifacts/logs_lhqtxzlz:v0\n"
     ]
    },
    {
     "name": "stderr",
     "output_type": "stream",
     "text": [
      "\u001b[34m\u001b[1mwandb\u001b[0m:   1 of 1 files downloaded.  \n"
     ]
    },
    {
     "name": "stdout",
     "output_type": "stream",
     "text": [
      "2025-04-20 13:09:21,747 - INFO - Downloaded logs_tv0xawm2:v0 to /scratch/downloaded_artifacts/logs_tv0xawm2:v0\n"
     ]
    },
    {
     "name": "stderr",
     "output_type": "stream",
     "text": [
      "\u001b[34m\u001b[1mwandb\u001b[0m:   1 of 1 files downloaded.  \n"
     ]
    },
    {
     "name": "stdout",
     "output_type": "stream",
     "text": [
      "2025-04-20 13:09:21,899 - INFO - Downloaded logs_va7w61z2:v0 to /scratch/downloaded_artifacts/logs_va7w61z2:v0\n"
     ]
    },
    {
     "name": "stderr",
     "output_type": "stream",
     "text": [
      "\u001b[34m\u001b[1mwandb\u001b[0m:   1 of 1 files downloaded.  \n"
     ]
    },
    {
     "name": "stdout",
     "output_type": "stream",
     "text": [
      "2025-04-20 13:09:21,948 - INFO - Downloaded logs_uldlbltc:v0 to /scratch/downloaded_artifacts/logs_uldlbltc:v0\n"
     ]
    },
    {
     "name": "stderr",
     "output_type": "stream",
     "text": [
      "\u001b[34m\u001b[1mwandb\u001b[0m:   1 of 1 files downloaded.  \n"
     ]
    },
    {
     "name": "stdout",
     "output_type": "stream",
     "text": [
      "2025-04-20 13:09:22,335 - INFO - Downloaded logs_xdajf5t7:v0 to /scratch/downloaded_artifacts/logs_xdajf5t7:v0\n"
     ]
    },
    {
     "name": "stderr",
     "output_type": "stream",
     "text": [
      "\u001b[34m\u001b[1mwandb\u001b[0m:   1 of 1 files downloaded.  \n"
     ]
    },
    {
     "name": "stdout",
     "output_type": "stream",
     "text": [
      "2025-04-20 13:09:22,502 - INFO - Downloaded logs_8pi3zaox:v0 to /scratch/downloaded_artifacts/logs_8pi3zaox:v0\n"
     ]
    },
    {
     "name": "stderr",
     "output_type": "stream",
     "text": [
      "\u001b[34m\u001b[1mwandb\u001b[0m:   1 of 1 files downloaded.  \n"
     ]
    },
    {
     "name": "stdout",
     "output_type": "stream",
     "text": [
      "2025-04-20 13:09:22,932 - INFO - Downloaded logs_xrd0fwpk:v0 to /scratch/downloaded_artifacts/logs_xrd0fwpk:v0\n"
     ]
    },
    {
     "name": "stderr",
     "output_type": "stream",
     "text": [
      "\u001b[34m\u001b[1mwandb\u001b[0m:   1 of 1 files downloaded.  \n"
     ]
    },
    {
     "name": "stdout",
     "output_type": "stream",
     "text": [
      "2025-04-20 13:09:23,125 - INFO - Downloaded logs_ymsebdzn:v0 to /scratch/downloaded_artifacts/logs_ymsebdzn:v0\n"
     ]
    },
    {
     "name": "stderr",
     "output_type": "stream",
     "text": [
      "\u001b[34m\u001b[1mwandb\u001b[0m:   1 of 1 files downloaded.  \n"
     ]
    },
    {
     "name": "stdout",
     "output_type": "stream",
     "text": [
      "2025-04-20 13:09:23,184 - INFO - Downloaded logs_zlwzelmg:v0 to /scratch/downloaded_artifacts/logs_zlwzelmg:v0\n"
     ]
    },
    {
     "name": "stderr",
     "output_type": "stream",
     "text": [
      "\u001b[34m\u001b[1mwandb\u001b[0m:   1 of 1 files downloaded.  \n"
     ]
    },
    {
     "name": "stdout",
     "output_type": "stream",
     "text": [
      "2025-04-20 13:09:23,515 - INFO - Downloaded logs_80xaqkah:v0 to /scratch/downloaded_artifacts/logs_80xaqkah:v0\n"
     ]
    },
    {
     "name": "stderr",
     "output_type": "stream",
     "text": [
      "\u001b[34m\u001b[1mwandb\u001b[0m:   1 of 1 files downloaded.  \n"
     ]
    },
    {
     "name": "stdout",
     "output_type": "stream",
     "text": [
      "2025-04-20 13:09:23,698 - INFO - Downloaded logs_8abf95fp:v0 to /scratch/downloaded_artifacts/logs_8abf95fp:v0\n"
     ]
    },
    {
     "name": "stderr",
     "output_type": "stream",
     "text": [
      "\u001b[34m\u001b[1mwandb\u001b[0m:   1 of 1 files downloaded.  \n"
     ]
    },
    {
     "name": "stdout",
     "output_type": "stream",
     "text": [
      "2025-04-20 13:09:24,159 - INFO - Downloaded logs_9q8k8qoa:v0 to /scratch/downloaded_artifacts/logs_9q8k8qoa:v0\n"
     ]
    },
    {
     "name": "stderr",
     "output_type": "stream",
     "text": [
      "\u001b[34m\u001b[1mwandb\u001b[0m:   1 of 1 files downloaded.  \n"
     ]
    },
    {
     "name": "stdout",
     "output_type": "stream",
     "text": [
      "2025-04-20 13:09:52,931 - INFO - Downloaded logs_me7epgzh:v0 to /scratch/downloaded_artifacts/logs_me7epgzh:v0\n"
     ]
    },
    {
     "name": "stderr",
     "output_type": "stream",
     "text": [
      "\u001b[34m\u001b[1mwandb\u001b[0m:   1 of 1 files downloaded.  \n"
     ]
    },
    {
     "name": "stdout",
     "output_type": "stream",
     "text": [
      "2025-04-20 13:09:52,948 - INFO - Downloaded logs_rm9ski0g:v0 to /scratch/downloaded_artifacts/logs_rm9ski0g:v0\n"
     ]
    },
    {
     "name": "stderr",
     "output_type": "stream",
     "text": [
      "\u001b[34m\u001b[1mwandb\u001b[0m:   1 of 1 files downloaded.  \n"
     ]
    },
    {
     "name": "stdout",
     "output_type": "stream",
     "text": [
      "2025-04-20 13:09:53,059 - INFO - Downloaded logs_i6lm8owt:v0 to /scratch/downloaded_artifacts/logs_i6lm8owt:v0\n"
     ]
    },
    {
     "name": "stderr",
     "output_type": "stream",
     "text": [
      "\u001b[34m\u001b[1mwandb\u001b[0m:   1 of 1 files downloaded.  \n"
     ]
    },
    {
     "name": "stdout",
     "output_type": "stream",
     "text": [
      "2025-04-20 13:09:53,431 - INFO - Downloaded logs_ucum1zc1:v0 to /scratch/downloaded_artifacts/logs_ucum1zc1:v0\n"
     ]
    },
    {
     "name": "stderr",
     "output_type": "stream",
     "text": [
      "\u001b[34m\u001b[1mwandb\u001b[0m:   1 of 1 files downloaded.  \n"
     ]
    },
    {
     "name": "stdout",
     "output_type": "stream",
     "text": [
      "2025-04-20 13:09:53,471 - INFO - Downloaded logs_eovq6v13:v0 to /scratch/downloaded_artifacts/logs_eovq6v13:v0\n"
     ]
    },
    {
     "name": "stderr",
     "output_type": "stream",
     "text": [
      "\u001b[34m\u001b[1mwandb\u001b[0m:   1 of 1 files downloaded.  \n"
     ]
    },
    {
     "name": "stdout",
     "output_type": "stream",
     "text": [
      "2025-04-20 13:09:53,735 - INFO - Downloaded logs_vi4fare6:v0 to /scratch/downloaded_artifacts/logs_vi4fare6:v0\n"
     ]
    },
    {
     "name": "stderr",
     "output_type": "stream",
     "text": [
      "\u001b[34m\u001b[1mwandb\u001b[0m:   1 of 1 files downloaded.  \n"
     ]
    },
    {
     "name": "stdout",
     "output_type": "stream",
     "text": [
      "2025-04-20 13:09:53,766 - INFO - Downloaded logs_z0hr0e0l:v0 to /scratch/downloaded_artifacts/logs_z0hr0e0l:v0\n"
     ]
    },
    {
     "name": "stderr",
     "output_type": "stream",
     "text": [
      "\u001b[34m\u001b[1mwandb\u001b[0m:   1 of 1 files downloaded.  \n"
     ]
    },
    {
     "name": "stdout",
     "output_type": "stream",
     "text": [
      "2025-04-20 13:09:53,799 - INFO - Downloaded logs_yhue55pb:v0 to /scratch/downloaded_artifacts/logs_yhue55pb:v0\n"
     ]
    },
    {
     "name": "stderr",
     "output_type": "stream",
     "text": [
      "\u001b[34m\u001b[1mwandb\u001b[0m:   1 of 1 files downloaded.  \n"
     ]
    },
    {
     "name": "stdout",
     "output_type": "stream",
     "text": [
      "2025-04-20 13:09:53,803 - INFO - Downloaded logs_x6vh5yzf:v0 to /scratch/downloaded_artifacts/logs_x6vh5yzf:v0\n"
     ]
    },
    {
     "name": "stderr",
     "output_type": "stream",
     "text": [
      "\u001b[34m\u001b[1mwandb\u001b[0m:   1 of 1 files downloaded.  \n"
     ]
    },
    {
     "name": "stdout",
     "output_type": "stream",
     "text": [
      "2025-04-20 13:09:53,877 - INFO - Downloaded logs_f2thgzq0:v0 to /scratch/downloaded_artifacts/logs_f2thgzq0:v0\n"
     ]
    },
    {
     "name": "stderr",
     "output_type": "stream",
     "text": [
      "\u001b[34m\u001b[1mwandb\u001b[0m:   1 of 1 files downloaded.  \n"
     ]
    },
    {
     "name": "stdout",
     "output_type": "stream",
     "text": [
      "2025-04-20 13:09:53,935 - INFO - Downloaded logs_obye02bo:v0 to /scratch/downloaded_artifacts/logs_obye02bo:v0\n"
     ]
    },
    {
     "name": "stderr",
     "output_type": "stream",
     "text": [
      "\u001b[34m\u001b[1mwandb\u001b[0m:   1 of 1 files downloaded.  \n"
     ]
    },
    {
     "name": "stdout",
     "output_type": "stream",
     "text": [
      "2025-04-20 13:09:53,978 - INFO - Downloaded logs_r3q23fp6:v0 to /scratch/downloaded_artifacts/logs_r3q23fp6:v0\n"
     ]
    },
    {
     "name": "stderr",
     "output_type": "stream",
     "text": [
      "\u001b[34m\u001b[1mwandb\u001b[0m:   1 of 1 files downloaded.  \n"
     ]
    },
    {
     "name": "stdout",
     "output_type": "stream",
     "text": [
      "2025-04-20 13:09:54,022 - INFO - Downloaded logs_136i8hr6:v0 to /scratch/downloaded_artifacts/logs_136i8hr6:v0\n"
     ]
    },
    {
     "name": "stderr",
     "output_type": "stream",
     "text": [
      "\u001b[34m\u001b[1mwandb\u001b[0m:   1 of 1 files downloaded.  \n"
     ]
    },
    {
     "name": "stdout",
     "output_type": "stream",
     "text": [
      "2025-04-20 13:09:54,029 - INFO - Downloaded logs_4oizz06n:v0 to /scratch/downloaded_artifacts/logs_4oizz06n:v0\n"
     ]
    },
    {
     "name": "stderr",
     "output_type": "stream",
     "text": [
      "\u001b[34m\u001b[1mwandb\u001b[0m:   1 of 1 files downloaded.  \n"
     ]
    },
    {
     "name": "stdout",
     "output_type": "stream",
     "text": [
      "2025-04-20 13:09:54,035 - INFO - Downloaded logs_khjs4fxq:v0 to /scratch/downloaded_artifacts/logs_khjs4fxq:v0\n"
     ]
    },
    {
     "name": "stderr",
     "output_type": "stream",
     "text": [
      "\u001b[34m\u001b[1mwandb\u001b[0m:   1 of 1 files downloaded.  \n",
      "\u001b[34m\u001b[1mwandb\u001b[0m:   1 of 1 files downloaded.  \n"
     ]
    },
    {
     "name": "stdout",
     "output_type": "stream",
     "text": [
      "2025-04-20 13:09:54,093 - INFO - Downloaded logs_vcpx3diy:v0 to /scratch/downloaded_artifacts/logs_vcpx3diy:v0\n"
     ]
    },
    {
     "name": "stderr",
     "output_type": "stream",
     "text": [
      "\u001b[34m\u001b[1mwandb\u001b[0m:   1 of 1 files downloaded.  \n"
     ]
    },
    {
     "name": "stdout",
     "output_type": "stream",
     "text": [
      "2025-04-20 13:09:54,094 - INFO - Downloaded logs_be0mcmec:v0 to /scratch/downloaded_artifacts/logs_be0mcmec:v0\n",
      "2025-04-20 13:09:54,102 - INFO - Downloaded logs_ols407n4:v0 to /scratch/downloaded_artifacts/logs_ols407n4:v0\n"
     ]
    },
    {
     "name": "stderr",
     "output_type": "stream",
     "text": [
      "\u001b[34m\u001b[1mwandb\u001b[0m:   1 of 1 files downloaded.  \n"
     ]
    },
    {
     "name": "stdout",
     "output_type": "stream",
     "text": [
      "2025-04-20 13:09:54,140 - INFO - Downloaded logs_1682j20l:v0 to /scratch/downloaded_artifacts/logs_1682j20l:v0\n"
     ]
    },
    {
     "name": "stderr",
     "output_type": "stream",
     "text": [
      "\u001b[34m\u001b[1mwandb\u001b[0m:   1 of 1 files downloaded.  \n"
     ]
    },
    {
     "name": "stdout",
     "output_type": "stream",
     "text": [
      "2025-04-20 13:09:54,182 - INFO - Downloaded logs_72u88usn:v0 to /scratch/downloaded_artifacts/logs_72u88usn:v0\n"
     ]
    },
    {
     "name": "stderr",
     "output_type": "stream",
     "text": [
      "\u001b[34m\u001b[1mwandb\u001b[0m:   1 of 1 files downloaded.  \n"
     ]
    },
    {
     "name": "stdout",
     "output_type": "stream",
     "text": [
      "2025-04-20 13:09:54,352 - INFO - Downloaded logs_7ekr0ep3:v0 to /scratch/downloaded_artifacts/logs_7ekr0ep3:v0\n"
     ]
    },
    {
     "name": "stderr",
     "output_type": "stream",
     "text": [
      "\u001b[34m\u001b[1mwandb\u001b[0m:   1 of 1 files downloaded.  \n"
     ]
    },
    {
     "name": "stdout",
     "output_type": "stream",
     "text": [
      "2025-04-20 13:09:54,360 - INFO - Downloaded logs_8rd56m72:v0 to /scratch/downloaded_artifacts/logs_8rd56m72:v0\n"
     ]
    },
    {
     "name": "stderr",
     "output_type": "stream",
     "text": [
      "\u001b[34m\u001b[1mwandb\u001b[0m:   1 of 1 files downloaded.  \n"
     ]
    },
    {
     "name": "stdout",
     "output_type": "stream",
     "text": [
      "2025-04-20 13:09:54,478 - INFO - Downloaded logs_zb3o82te:v0 to /scratch/downloaded_artifacts/logs_zb3o82te:v0\n"
     ]
    },
    {
     "name": "stderr",
     "output_type": "stream",
     "text": [
      "\u001b[34m\u001b[1mwandb\u001b[0m:   1 of 1 files downloaded.  \n"
     ]
    },
    {
     "name": "stdout",
     "output_type": "stream",
     "text": [
      "2025-04-20 13:09:54,715 - INFO - Downloaded logs_ddwjkagr:v0 to /scratch/downloaded_artifacts/logs_ddwjkagr:v0\n"
     ]
    },
    {
     "name": "stderr",
     "output_type": "stream",
     "text": [
      "\u001b[34m\u001b[1mwandb\u001b[0m:   1 of 1 files downloaded.  \n"
     ]
    },
    {
     "name": "stdout",
     "output_type": "stream",
     "text": [
      "2025-04-20 13:09:54,747 - INFO - Downloaded logs_9pb1omwl:v0 to /scratch/downloaded_artifacts/logs_9pb1omwl:v0\n"
     ]
    },
    {
     "name": "stderr",
     "output_type": "stream",
     "text": [
      "\u001b[34m\u001b[1mwandb\u001b[0m:   1 of 1 files downloaded.  \n"
     ]
    },
    {
     "name": "stdout",
     "output_type": "stream",
     "text": [
      "2025-04-20 13:09:55,007 - INFO - Downloaded logs_ikgryz4x:v0 to /scratch/downloaded_artifacts/logs_ikgryz4x:v0\n"
     ]
    },
    {
     "name": "stderr",
     "output_type": "stream",
     "text": [
      "\u001b[34m\u001b[1mwandb\u001b[0m:   1 of 1 files downloaded.  \n"
     ]
    },
    {
     "name": "stdout",
     "output_type": "stream",
     "text": [
      "2025-04-20 13:09:55,016 - INFO - Downloaded logs_ihtpn4lg:v0 to /scratch/downloaded_artifacts/logs_ihtpn4lg:v0\n"
     ]
    },
    {
     "name": "stderr",
     "output_type": "stream",
     "text": [
      "\u001b[34m\u001b[1mwandb\u001b[0m:   1 of 1 files downloaded.  \n"
     ]
    },
    {
     "name": "stdout",
     "output_type": "stream",
     "text": [
      "2025-04-20 13:09:55,040 - INFO - Downloaded logs_qchzu3mt:v0 to /scratch/downloaded_artifacts/logs_qchzu3mt:v0\n"
     ]
    },
    {
     "name": "stderr",
     "output_type": "stream",
     "text": [
      "\u001b[34m\u001b[1mwandb\u001b[0m:   1 of 1 files downloaded.  \n"
     ]
    },
    {
     "name": "stdout",
     "output_type": "stream",
     "text": [
      "2025-04-20 13:09:55,138 - INFO - Downloaded logs_lw6i2ugc:v0 to /scratch/downloaded_artifacts/logs_lw6i2ugc:v0\n"
     ]
    },
    {
     "name": "stderr",
     "output_type": "stream",
     "text": [
      "\u001b[34m\u001b[1mwandb\u001b[0m:   1 of 1 files downloaded.  \n"
     ]
    },
    {
     "name": "stdout",
     "output_type": "stream",
     "text": [
      "2025-04-20 13:09:55,204 - INFO - Downloaded logs_rx2a4vf9:v0 to /scratch/downloaded_artifacts/logs_rx2a4vf9:v0\n"
     ]
    },
    {
     "name": "stderr",
     "output_type": "stream",
     "text": [
      "\u001b[34m\u001b[1mwandb\u001b[0m:   1 of 1 files downloaded.  \n"
     ]
    },
    {
     "name": "stdout",
     "output_type": "stream",
     "text": [
      "2025-04-20 13:09:55,344 - INFO - Downloaded logs_131j4099:v0 to /scratch/downloaded_artifacts/logs_131j4099:v0\n"
     ]
    },
    {
     "name": "stderr",
     "output_type": "stream",
     "text": [
      "\u001b[34m\u001b[1mwandb\u001b[0m:   1 of 1 files downloaded.  \n"
     ]
    },
    {
     "name": "stdout",
     "output_type": "stream",
     "text": [
      "2025-04-20 13:09:55,497 - INFO - Downloaded logs_w0dsy0uj:v0 to /scratch/downloaded_artifacts/logs_w0dsy0uj:v0\n"
     ]
    },
    {
     "name": "stderr",
     "output_type": "stream",
     "text": [
      "\u001b[34m\u001b[1mwandb\u001b[0m:   1 of 1 files downloaded.  \n"
     ]
    },
    {
     "name": "stdout",
     "output_type": "stream",
     "text": [
      "2025-04-20 13:09:55,529 - INFO - Downloaded logs_yfueq562:v0 to /scratch/downloaded_artifacts/logs_yfueq562:v0\n"
     ]
    },
    {
     "name": "stderr",
     "output_type": "stream",
     "text": [
      "\u001b[34m\u001b[1mwandb\u001b[0m:   1 of 1 files downloaded.  \n"
     ]
    },
    {
     "name": "stdout",
     "output_type": "stream",
     "text": [
      "2025-04-20 13:09:55,585 - INFO - Downloaded logs_3mj5roau:v0 to /scratch/downloaded_artifacts/logs_3mj5roau:v0\n"
     ]
    },
    {
     "name": "stderr",
     "output_type": "stream",
     "text": [
      "\u001b[34m\u001b[1mwandb\u001b[0m:   1 of 1 files downloaded.  \n"
     ]
    },
    {
     "name": "stdout",
     "output_type": "stream",
     "text": [
      "2025-04-20 13:09:55,684 - INFO - Downloaded logs_7lldyg4a:v0 to /scratch/downloaded_artifacts/logs_7lldyg4a:v0\n"
     ]
    },
    {
     "name": "stderr",
     "output_type": "stream",
     "text": [
      "\u001b[34m\u001b[1mwandb\u001b[0m:   1 of 1 files downloaded.  \n"
     ]
    },
    {
     "name": "stdout",
     "output_type": "stream",
     "text": [
      "2025-04-20 13:09:55,703 - INFO - Downloaded logs_9k3z1kr8:v0 to /scratch/downloaded_artifacts/logs_9k3z1kr8:v0\n"
     ]
    },
    {
     "name": "stderr",
     "output_type": "stream",
     "text": [
      "\u001b[34m\u001b[1mwandb\u001b[0m:   1 of 1 files downloaded.  \n",
      "\u001b[34m\u001b[1mwandb\u001b[0m:   1 of 1 files downloaded.  \n"
     ]
    },
    {
     "name": "stdout",
     "output_type": "stream",
     "text": [
      "2025-04-20 13:09:55,708 - INFO - Downloaded logs_dssnps76:v0 to /scratch/downloaded_artifacts/logs_dssnps76:v0\n",
      "2025-04-20 13:09:55,710 - INFO - Downloaded logs_yi3s1ios:v0 to /scratch/downloaded_artifacts/logs_yi3s1ios:v0\n"
     ]
    },
    {
     "name": "stderr",
     "output_type": "stream",
     "text": [
      "\u001b[34m\u001b[1mwandb\u001b[0m:   1 of 1 files downloaded.  \n"
     ]
    },
    {
     "name": "stdout",
     "output_type": "stream",
     "text": [
      "2025-04-20 13:09:55,728 - INFO - Downloaded logs_3n4njlnq:v0 to /scratch/downloaded_artifacts/logs_3n4njlnq:v0\n"
     ]
    },
    {
     "name": "stderr",
     "output_type": "stream",
     "text": [
      "\u001b[34m\u001b[1mwandb\u001b[0m:   1 of 1 files downloaded.  \n"
     ]
    },
    {
     "name": "stdout",
     "output_type": "stream",
     "text": [
      "2025-04-20 13:09:55,730 - INFO - Downloaded logs_ykt2ydrv:v0 to /scratch/downloaded_artifacts/logs_ykt2ydrv:v0\n"
     ]
    },
    {
     "name": "stderr",
     "output_type": "stream",
     "text": [
      "\u001b[34m\u001b[1mwandb\u001b[0m:   1 of 1 files downloaded.  \n"
     ]
    },
    {
     "name": "stdout",
     "output_type": "stream",
     "text": [
      "2025-04-20 13:09:55,847 - INFO - Downloaded logs_emoubf2o:v0 to /scratch/downloaded_artifacts/logs_emoubf2o:v0\n"
     ]
    },
    {
     "name": "stderr",
     "output_type": "stream",
     "text": [
      "\u001b[34m\u001b[1mwandb\u001b[0m:   1 of 1 files downloaded.  \n"
     ]
    },
    {
     "name": "stdout",
     "output_type": "stream",
     "text": [
      "2025-04-20 13:09:55,902 - INFO - Downloaded logs_g2snsfzf:v0 to /scratch/downloaded_artifacts/logs_g2snsfzf:v0\n"
     ]
    },
    {
     "name": "stderr",
     "output_type": "stream",
     "text": [
      "\u001b[34m\u001b[1mwandb\u001b[0m:   1 of 1 files downloaded.  \n"
     ]
    },
    {
     "name": "stdout",
     "output_type": "stream",
     "text": [
      "2025-04-20 13:09:55,968 - INFO - Downloaded logs_jmdhp51z:v0 to /scratch/downloaded_artifacts/logs_jmdhp51z:v0\n"
     ]
    },
    {
     "name": "stderr",
     "output_type": "stream",
     "text": [
      "\u001b[34m\u001b[1mwandb\u001b[0m:   1 of 1 files downloaded.  \n"
     ]
    },
    {
     "name": "stdout",
     "output_type": "stream",
     "text": [
      "2025-04-20 13:09:56,034 - INFO - Downloaded logs_mea6v5m3:v0 to /scratch/downloaded_artifacts/logs_mea6v5m3:v0\n"
     ]
    },
    {
     "name": "stderr",
     "output_type": "stream",
     "text": [
      "\u001b[34m\u001b[1mwandb\u001b[0m:   1 of 1 files downloaded.  \n"
     ]
    },
    {
     "name": "stdout",
     "output_type": "stream",
     "text": [
      "2025-04-20 13:09:56,362 - INFO - Downloaded logs_vm1ac91b:v0 to /scratch/downloaded_artifacts/logs_vm1ac91b:v0\n"
     ]
    },
    {
     "name": "stderr",
     "output_type": "stream",
     "text": [
      "\u001b[34m\u001b[1mwandb\u001b[0m:   1 of 1 files downloaded.  \n"
     ]
    },
    {
     "name": "stdout",
     "output_type": "stream",
     "text": [
      "2025-04-20 13:09:56,385 - INFO - Downloaded logs_mqf3de18:v0 to /scratch/downloaded_artifacts/logs_mqf3de18:v0\n"
     ]
    },
    {
     "name": "stderr",
     "output_type": "stream",
     "text": [
      "\u001b[34m\u001b[1mwandb\u001b[0m:   1 of 1 files downloaded.  \n"
     ]
    },
    {
     "name": "stdout",
     "output_type": "stream",
     "text": [
      "2025-04-20 13:09:56,390 - INFO - Downloaded logs_i1aa20ps:v0 to /scratch/downloaded_artifacts/logs_i1aa20ps:v0\n"
     ]
    },
    {
     "name": "stderr",
     "output_type": "stream",
     "text": [
      "\u001b[34m\u001b[1mwandb\u001b[0m:   1 of 1 files downloaded.  \n"
     ]
    },
    {
     "name": "stdout",
     "output_type": "stream",
     "text": [
      "2025-04-20 13:09:56,439 - INFO - Downloaded logs_th2am9zk:v0 to /scratch/downloaded_artifacts/logs_th2am9zk:v0\n"
     ]
    },
    {
     "name": "stderr",
     "output_type": "stream",
     "text": [
      "\u001b[34m\u001b[1mwandb\u001b[0m:   1 of 1 files downloaded.  \n"
     ]
    },
    {
     "name": "stdout",
     "output_type": "stream",
     "text": [
      "2025-04-20 13:09:56,563 - INFO - Downloaded logs_zq4jvcwl:v0 to /scratch/downloaded_artifacts/logs_zq4jvcwl:v0\n"
     ]
    },
    {
     "name": "stderr",
     "output_type": "stream",
     "text": [
      "\u001b[34m\u001b[1mwandb\u001b[0m:   1 of 1 files downloaded.  \n"
     ]
    },
    {
     "name": "stdout",
     "output_type": "stream",
     "text": [
      "2025-04-20 13:09:56,594 - INFO - Downloaded logs_1chljxv4:v0 to /scratch/downloaded_artifacts/logs_1chljxv4:v0\n"
     ]
    },
    {
     "name": "stderr",
     "output_type": "stream",
     "text": [
      "\u001b[34m\u001b[1mwandb\u001b[0m:   1 of 1 files downloaded.  \n"
     ]
    },
    {
     "name": "stdout",
     "output_type": "stream",
     "text": [
      "2025-04-20 13:09:56,672 - INFO - Downloaded logs_d0ze3h1v:v0 to /scratch/downloaded_artifacts/logs_d0ze3h1v:v0\n"
     ]
    },
    {
     "name": "stderr",
     "output_type": "stream",
     "text": [
      "\u001b[34m\u001b[1mwandb\u001b[0m:   1 of 1 files downloaded.  \n"
     ]
    },
    {
     "name": "stdout",
     "output_type": "stream",
     "text": [
      "2025-04-20 13:09:56,779 - INFO - Downloaded logs_ha0fk900:v0 to /scratch/downloaded_artifacts/logs_ha0fk900:v0\n"
     ]
    },
    {
     "name": "stderr",
     "output_type": "stream",
     "text": [
      "\u001b[34m\u001b[1mwandb\u001b[0m:   1 of 1 files downloaded.  \n"
     ]
    },
    {
     "name": "stdout",
     "output_type": "stream",
     "text": [
      "2025-04-20 13:09:56,897 - INFO - Downloaded logs_fusevhre:v0 to /scratch/downloaded_artifacts/logs_fusevhre:v0\n"
     ]
    },
    {
     "name": "stderr",
     "output_type": "stream",
     "text": [
      "\u001b[34m\u001b[1mwandb\u001b[0m:   1 of 1 files downloaded.  \n"
     ]
    },
    {
     "name": "stdout",
     "output_type": "stream",
     "text": [
      "2025-04-20 13:09:57,069 - INFO - Downloaded logs_yjmtem44:v0 to /scratch/downloaded_artifacts/logs_yjmtem44:v0\n"
     ]
    },
    {
     "name": "stderr",
     "output_type": "stream",
     "text": [
      "\u001b[34m\u001b[1mwandb\u001b[0m:   1 of 1 files downloaded.  \n"
     ]
    },
    {
     "name": "stdout",
     "output_type": "stream",
     "text": [
      "2025-04-20 13:09:57,119 - INFO - Downloaded logs_rhykw6tt:v0 to /scratch/downloaded_artifacts/logs_rhykw6tt:v0\n"
     ]
    },
    {
     "name": "stderr",
     "output_type": "stream",
     "text": [
      "\u001b[34m\u001b[1mwandb\u001b[0m:   1 of 1 files downloaded.  \n"
     ]
    },
    {
     "name": "stdout",
     "output_type": "stream",
     "text": [
      "2025-04-20 13:09:57,179 - INFO - Downloaded logs_xedk0jsq:v0 to /scratch/downloaded_artifacts/logs_xedk0jsq:v0\n"
     ]
    },
    {
     "name": "stderr",
     "output_type": "stream",
     "text": [
      "\u001b[34m\u001b[1mwandb\u001b[0m:   1 of 1 files downloaded.  \n"
     ]
    },
    {
     "name": "stdout",
     "output_type": "stream",
     "text": [
      "2025-04-20 13:09:57,280 - INFO - Downloaded logs_nqyc5s3o:v0 to /scratch/downloaded_artifacts/logs_nqyc5s3o:v0\n"
     ]
    },
    {
     "name": "stderr",
     "output_type": "stream",
     "text": [
      "\u001b[34m\u001b[1mwandb\u001b[0m:   1 of 1 files downloaded.  \n"
     ]
    },
    {
     "name": "stdout",
     "output_type": "stream",
     "text": [
      "2025-04-20 13:09:57,284 - INFO - Downloaded logs_th8ur355:v0 to /scratch/downloaded_artifacts/logs_th8ur355:v0\n"
     ]
    },
    {
     "name": "stderr",
     "output_type": "stream",
     "text": [
      "\u001b[34m\u001b[1mwandb\u001b[0m:   1 of 1 files downloaded.  \n"
     ]
    },
    {
     "name": "stdout",
     "output_type": "stream",
     "text": [
      "2025-04-20 13:09:57,295 - INFO - Downloaded logs_3sd1mlcz:v0 to /scratch/downloaded_artifacts/logs_3sd1mlcz:v0\n"
     ]
    },
    {
     "name": "stderr",
     "output_type": "stream",
     "text": [
      "\u001b[34m\u001b[1mwandb\u001b[0m:   1 of 1 files downloaded.  \n",
      "\u001b[34m\u001b[1mwandb\u001b[0m:   1 of 1 files downloaded.  \n"
     ]
    },
    {
     "name": "stdout",
     "output_type": "stream",
     "text": [
      "2025-04-20 13:09:57,345 - INFO - Downloaded logs_3wdqddmv:v0 to /scratch/downloaded_artifacts/logs_3wdqddmv:v0\n",
      "2025-04-20 13:09:57,346 - INFO - Downloaded logs_e2mc5qkv:v0 to /scratch/downloaded_artifacts/logs_e2mc5qkv:v0\n"
     ]
    },
    {
     "name": "stderr",
     "output_type": "stream",
     "text": [
      "\u001b[34m\u001b[1mwandb\u001b[0m:   1 of 1 files downloaded.  \n",
      "\u001b[34m\u001b[1mwandb\u001b[0m:   1 of 1 files downloaded.  \n"
     ]
    },
    {
     "name": "stdout",
     "output_type": "stream",
     "text": [
      "2025-04-20 13:09:57,460 - INFO - Downloaded logs_92c8ze8l:v0 to /scratch/downloaded_artifacts/logs_92c8ze8l:v0\n",
      "2025-04-20 13:09:57,461 - INFO - Downloaded logs_ag4vb9qq:v0 to /scratch/downloaded_artifacts/logs_ag4vb9qq:v0\n"
     ]
    },
    {
     "name": "stderr",
     "output_type": "stream",
     "text": [
      "\u001b[34m\u001b[1mwandb\u001b[0m:   1 of 1 files downloaded.  \n"
     ]
    },
    {
     "name": "stdout",
     "output_type": "stream",
     "text": [
      "2025-04-20 13:09:57,594 - INFO - Downloaded logs_wf9xhhjc:v0 to /scratch/downloaded_artifacts/logs_wf9xhhjc:v0\n"
     ]
    },
    {
     "name": "stderr",
     "output_type": "stream",
     "text": [
      "\u001b[34m\u001b[1mwandb\u001b[0m:   1 of 1 files downloaded.  \n"
     ]
    },
    {
     "name": "stdout",
     "output_type": "stream",
     "text": [
      "2025-04-20 13:09:57,697 - INFO - Downloaded logs_jye9jtgj:v0 to /scratch/downloaded_artifacts/logs_jye9jtgj:v0\n"
     ]
    },
    {
     "name": "stderr",
     "output_type": "stream",
     "text": [
      "\u001b[34m\u001b[1mwandb\u001b[0m:   1 of 1 files downloaded.  \n"
     ]
    },
    {
     "name": "stdout",
     "output_type": "stream",
     "text": [
      "2025-04-20 13:09:57,745 - INFO - Downloaded logs_38k02w4n:v0 to /scratch/downloaded_artifacts/logs_38k02w4n:v0\n"
     ]
    },
    {
     "name": "stderr",
     "output_type": "stream",
     "text": [
      "\u001b[34m\u001b[1mwandb\u001b[0m:   1 of 1 files downloaded.  \n"
     ]
    },
    {
     "name": "stdout",
     "output_type": "stream",
     "text": [
      "2025-04-20 13:09:57,760 - INFO - Downloaded logs_ngggsb7u:v0 to /scratch/downloaded_artifacts/logs_ngggsb7u:v0\n"
     ]
    },
    {
     "name": "stderr",
     "output_type": "stream",
     "text": [
      "\u001b[34m\u001b[1mwandb\u001b[0m:   1 of 1 files downloaded.  \n"
     ]
    },
    {
     "name": "stdout",
     "output_type": "stream",
     "text": [
      "2025-04-20 13:09:57,946 - INFO - Downloaded logs_4phd41fq:v0 to /scratch/downloaded_artifacts/logs_4phd41fq:v0\n"
     ]
    },
    {
     "name": "stderr",
     "output_type": "stream",
     "text": [
      "\u001b[34m\u001b[1mwandb\u001b[0m:   1 of 1 files downloaded.  \n"
     ]
    },
    {
     "name": "stdout",
     "output_type": "stream",
     "text": [
      "2025-04-20 13:09:57,960 - INFO - Downloaded logs_5mk1j9d5:v0 to /scratch/downloaded_artifacts/logs_5mk1j9d5:v0\n"
     ]
    },
    {
     "name": "stderr",
     "output_type": "stream",
     "text": [
      "\u001b[34m\u001b[1mwandb\u001b[0m:   1 of 1 files downloaded.  \n"
     ]
    },
    {
     "name": "stdout",
     "output_type": "stream",
     "text": [
      "2025-04-20 13:09:57,979 - INFO - Downloaded logs_vvamq56h:v0 to /scratch/downloaded_artifacts/logs_vvamq56h:v0\n"
     ]
    },
    {
     "name": "stderr",
     "output_type": "stream",
     "text": [
      "\u001b[34m\u001b[1mwandb\u001b[0m:   1 of 1 files downloaded.  \n"
     ]
    },
    {
     "name": "stdout",
     "output_type": "stream",
     "text": [
      "2025-04-20 13:09:58,179 - INFO - Downloaded logs_neitvbnh:v0 to /scratch/downloaded_artifacts/logs_neitvbnh:v0\n"
     ]
    },
    {
     "name": "stderr",
     "output_type": "stream",
     "text": [
      "\u001b[34m\u001b[1mwandb\u001b[0m:   1 of 1 files downloaded.  \n"
     ]
    },
    {
     "name": "stdout",
     "output_type": "stream",
     "text": [
      "2025-04-20 13:09:58,378 - INFO - Downloaded logs_8kcnj90j:v0 to /scratch/downloaded_artifacts/logs_8kcnj90j:v0\n"
     ]
    },
    {
     "name": "stderr",
     "output_type": "stream",
     "text": [
      "\u001b[34m\u001b[1mwandb\u001b[0m:   1 of 1 files downloaded.  \n"
     ]
    },
    {
     "name": "stdout",
     "output_type": "stream",
     "text": [
      "2025-04-20 13:09:58,396 - INFO - Downloaded logs_ab0y6n9t:v0 to /scratch/downloaded_artifacts/logs_ab0y6n9t:v0\n"
     ]
    },
    {
     "name": "stderr",
     "output_type": "stream",
     "text": [
      "\u001b[34m\u001b[1mwandb\u001b[0m:   1 of 1 files downloaded.  \n"
     ]
    },
    {
     "name": "stdout",
     "output_type": "stream",
     "text": [
      "2025-04-20 13:09:58,777 - INFO - Downloaded logs_e45nt53x:v0 to /scratch/downloaded_artifacts/logs_e45nt53x:v0\n"
     ]
    },
    {
     "name": "stderr",
     "output_type": "stream",
     "text": [
      "\u001b[34m\u001b[1mwandb\u001b[0m:   1 of 1 files downloaded.  \n"
     ]
    },
    {
     "name": "stdout",
     "output_type": "stream",
     "text": [
      "2025-04-20 13:09:58,857 - INFO - Downloaded logs_udk9p5b9:v0 to /scratch/downloaded_artifacts/logs_udk9p5b9:v0\n"
     ]
    },
    {
     "name": "stderr",
     "output_type": "stream",
     "text": [
      "\u001b[34m\u001b[1mwandb\u001b[0m:   1 of 1 files downloaded.  \n"
     ]
    },
    {
     "name": "stdout",
     "output_type": "stream",
     "text": [
      "2025-04-20 13:09:58,886 - INFO - Downloaded logs_i71h3ano:v0 to /scratch/downloaded_artifacts/logs_i71h3ano:v0\n"
     ]
    },
    {
     "name": "stderr",
     "output_type": "stream",
     "text": [
      "\u001b[34m\u001b[1mwandb\u001b[0m:   1 of 1 files downloaded.  \n"
     ]
    },
    {
     "name": "stdout",
     "output_type": "stream",
     "text": [
      "2025-04-20 13:09:59,041 - INFO - Downloaded logs_71tzd3jl:v0 to /scratch/downloaded_artifacts/logs_71tzd3jl:v0\n"
     ]
    },
    {
     "name": "stderr",
     "output_type": "stream",
     "text": [
      "\u001b[34m\u001b[1mwandb\u001b[0m:   1 of 1 files downloaded.  \n"
     ]
    },
    {
     "name": "stdout",
     "output_type": "stream",
     "text": [
      "2025-04-20 13:09:59,105 - INFO - Downloaded logs_q7vfn7nf:v0 to /scratch/downloaded_artifacts/logs_q7vfn7nf:v0\n"
     ]
    },
    {
     "name": "stderr",
     "output_type": "stream",
     "text": [
      "\u001b[34m\u001b[1mwandb\u001b[0m:   1 of 1 files downloaded.  \n"
     ]
    },
    {
     "name": "stdout",
     "output_type": "stream",
     "text": [
      "2025-04-20 13:09:59,114 - INFO - Downloaded logs_ndnq7nti:v0 to /scratch/downloaded_artifacts/logs_ndnq7nti:v0\n"
     ]
    },
    {
     "name": "stderr",
     "output_type": "stream",
     "text": [
      "\u001b[34m\u001b[1mwandb\u001b[0m:   1 of 1 files downloaded.  \n"
     ]
    },
    {
     "name": "stdout",
     "output_type": "stream",
     "text": [
      "2025-04-20 13:09:59,140 - INFO - Downloaded logs_cwr0owl5:v0 to /scratch/downloaded_artifacts/logs_cwr0owl5:v0\n"
     ]
    },
    {
     "name": "stderr",
     "output_type": "stream",
     "text": [
      "\u001b[34m\u001b[1mwandb\u001b[0m:   1 of 1 files downloaded.  \n"
     ]
    },
    {
     "name": "stdout",
     "output_type": "stream",
     "text": [
      "2025-04-20 13:09:59,173 - INFO - Downloaded logs_m1c45szi:v0 to /scratch/downloaded_artifacts/logs_m1c45szi:v0\n"
     ]
    },
    {
     "name": "stderr",
     "output_type": "stream",
     "text": [
      "\u001b[34m\u001b[1mwandb\u001b[0m:   1 of 1 files downloaded.  \n"
     ]
    },
    {
     "name": "stdout",
     "output_type": "stream",
     "text": [
      "2025-04-20 13:09:59,179 - INFO - Downloaded logs_vzrqu75k:v0 to /scratch/downloaded_artifacts/logs_vzrqu75k:v0\n"
     ]
    },
    {
     "name": "stderr",
     "output_type": "stream",
     "text": [
      "\u001b[34m\u001b[1mwandb\u001b[0m:   1 of 1 files downloaded.  \n"
     ]
    },
    {
     "name": "stdout",
     "output_type": "stream",
     "text": [
      "2025-04-20 13:09:59,203 - INFO - Downloaded logs_ez5emhia:v0 to /scratch/downloaded_artifacts/logs_ez5emhia:v0\n"
     ]
    },
    {
     "name": "stderr",
     "output_type": "stream",
     "text": [
      "\u001b[34m\u001b[1mwandb\u001b[0m:   1 of 1 files downloaded.  \n"
     ]
    },
    {
     "name": "stdout",
     "output_type": "stream",
     "text": [
      "2025-04-20 13:09:59,354 - INFO - Downloaded logs_4ud85mxb:v0 to /scratch/downloaded_artifacts/logs_4ud85mxb:v0\n"
     ]
    },
    {
     "name": "stderr",
     "output_type": "stream",
     "text": [
      "\u001b[34m\u001b[1mwandb\u001b[0m:   1 of 1 files downloaded.  \n"
     ]
    },
    {
     "name": "stdout",
     "output_type": "stream",
     "text": [
      "2025-04-20 13:09:59,367 - INFO - Downloaded logs_njh9u2o5:v0 to /scratch/downloaded_artifacts/logs_njh9u2o5:v0\n"
     ]
    },
    {
     "name": "stderr",
     "output_type": "stream",
     "text": [
      "\u001b[34m\u001b[1mwandb\u001b[0m:   1 of 1 files downloaded.  \n"
     ]
    },
    {
     "name": "stdout",
     "output_type": "stream",
     "text": [
      "2025-04-20 13:09:59,609 - INFO - Downloaded logs_nvxjd27i:v0 to /scratch/downloaded_artifacts/logs_nvxjd27i:v0\n"
     ]
    },
    {
     "name": "stderr",
     "output_type": "stream",
     "text": [
      "\u001b[34m\u001b[1mwandb\u001b[0m:   1 of 1 files downloaded.  \n"
     ]
    },
    {
     "name": "stdout",
     "output_type": "stream",
     "text": [
      "2025-04-20 13:09:59,644 - INFO - Downloaded logs_2tldv66a:v0 to /scratch/downloaded_artifacts/logs_2tldv66a:v0\n"
     ]
    },
    {
     "name": "stderr",
     "output_type": "stream",
     "text": [
      "\u001b[34m\u001b[1mwandb\u001b[0m:   1 of 1 files downloaded.  \n"
     ]
    },
    {
     "name": "stdout",
     "output_type": "stream",
     "text": [
      "2025-04-20 13:09:59,690 - INFO - Downloaded logs_8go85oc5:v0 to /scratch/downloaded_artifacts/logs_8go85oc5:v0\n"
     ]
    },
    {
     "name": "stderr",
     "output_type": "stream",
     "text": [
      "\u001b[34m\u001b[1mwandb\u001b[0m:   1 of 1 files downloaded.  \n"
     ]
    },
    {
     "name": "stdout",
     "output_type": "stream",
     "text": [
      "2025-04-20 13:09:59,710 - INFO - Downloaded logs_0857x2bz:v0 to /scratch/downloaded_artifacts/logs_0857x2bz:v0\n"
     ]
    },
    {
     "name": "stderr",
     "output_type": "stream",
     "text": [
      "\u001b[34m\u001b[1mwandb\u001b[0m:   1 of 1 files downloaded.  \n"
     ]
    },
    {
     "name": "stdout",
     "output_type": "stream",
     "text": [
      "2025-04-20 13:09:59,740 - INFO - Downloaded logs_9xxc9wfk:v0 to /scratch/downloaded_artifacts/logs_9xxc9wfk:v0\n"
     ]
    },
    {
     "name": "stderr",
     "output_type": "stream",
     "text": [
      "\u001b[34m\u001b[1mwandb\u001b[0m:   1 of 1 files downloaded.  \n"
     ]
    },
    {
     "name": "stdout",
     "output_type": "stream",
     "text": [
      "2025-04-20 13:09:59,748 - INFO - Downloaded logs_cb2m7ngu:v0 to /scratch/downloaded_artifacts/logs_cb2m7ngu:v0\n"
     ]
    },
    {
     "name": "stderr",
     "output_type": "stream",
     "text": [
      "\u001b[34m\u001b[1mwandb\u001b[0m:   1 of 1 files downloaded.  \n"
     ]
    },
    {
     "name": "stdout",
     "output_type": "stream",
     "text": [
      "2025-04-20 13:09:59,782 - INFO - Downloaded logs_ghmydmvj:v0 to /scratch/downloaded_artifacts/logs_ghmydmvj:v0\n"
     ]
    },
    {
     "name": "stderr",
     "output_type": "stream",
     "text": [
      "\u001b[34m\u001b[1mwandb\u001b[0m:   1 of 1 files downloaded.  \n"
     ]
    },
    {
     "name": "stdout",
     "output_type": "stream",
     "text": [
      "2025-04-20 13:09:59,898 - INFO - Downloaded logs_jrmosayj:v0 to /scratch/downloaded_artifacts/logs_jrmosayj:v0\n"
     ]
    },
    {
     "name": "stderr",
     "output_type": "stream",
     "text": [
      "\u001b[34m\u001b[1mwandb\u001b[0m:   1 of 1 files downloaded.  \n"
     ]
    },
    {
     "name": "stdout",
     "output_type": "stream",
     "text": [
      "2025-04-20 13:10:00,173 - INFO - Downloaded logs_pw2cbz5c:v0 to /scratch/downloaded_artifacts/logs_pw2cbz5c:v0\n"
     ]
    },
    {
     "name": "stderr",
     "output_type": "stream",
     "text": [
      "\u001b[34m\u001b[1mwandb\u001b[0m:   1 of 1 files downloaded.  \n"
     ]
    },
    {
     "name": "stdout",
     "output_type": "stream",
     "text": [
      "2025-04-20 13:10:00,181 - INFO - Downloaded logs_rv6lboc3:v0 to /scratch/downloaded_artifacts/logs_rv6lboc3:v0\n"
     ]
    },
    {
     "name": "stderr",
     "output_type": "stream",
     "text": [
      "\u001b[34m\u001b[1mwandb\u001b[0m:   1 of 1 files downloaded.  \n"
     ]
    },
    {
     "name": "stdout",
     "output_type": "stream",
     "text": [
      "2025-04-20 13:10:00,248 - INFO - Downloaded logs_mqzvvs5w:v0 to /scratch/downloaded_artifacts/logs_mqzvvs5w:v0\n"
     ]
    },
    {
     "name": "stderr",
     "output_type": "stream",
     "text": [
      "\u001b[34m\u001b[1mwandb\u001b[0m:   1 of 1 files downloaded.  \n"
     ]
    },
    {
     "name": "stdout",
     "output_type": "stream",
     "text": [
      "2025-04-20 13:10:00,372 - INFO - Downloaded logs_3f4p5tl9:v0 to /scratch/downloaded_artifacts/logs_3f4p5tl9:v0\n"
     ]
    },
    {
     "name": "stderr",
     "output_type": "stream",
     "text": [
      "\u001b[34m\u001b[1mwandb\u001b[0m:   1 of 1 files downloaded.  \n"
     ]
    },
    {
     "name": "stdout",
     "output_type": "stream",
     "text": [
      "2025-04-20 13:10:00,488 - INFO - Downloaded logs_hpfgncr4:v0 to /scratch/downloaded_artifacts/logs_hpfgncr4:v0\n"
     ]
    },
    {
     "name": "stderr",
     "output_type": "stream",
     "text": [
      "\u001b[34m\u001b[1mwandb\u001b[0m:   1 of 1 files downloaded.  \n"
     ]
    },
    {
     "name": "stdout",
     "output_type": "stream",
     "text": [
      "2025-04-20 13:10:00,534 - INFO - Downloaded logs_kppohi4r:v0 to /scratch/downloaded_artifacts/logs_kppohi4r:v0\n"
     ]
    },
    {
     "name": "stderr",
     "output_type": "stream",
     "text": [
      "\u001b[34m\u001b[1mwandb\u001b[0m:   1 of 1 files downloaded.  \n"
     ]
    },
    {
     "name": "stdout",
     "output_type": "stream",
     "text": [
      "2025-04-20 13:10:00,543 - INFO - Downloaded logs_cfexpe5m:v0 to /scratch/downloaded_artifacts/logs_cfexpe5m:v0\n"
     ]
    },
    {
     "name": "stderr",
     "output_type": "stream",
     "text": [
      "\u001b[34m\u001b[1mwandb\u001b[0m:   1 of 1 files downloaded.  \n"
     ]
    },
    {
     "name": "stdout",
     "output_type": "stream",
     "text": [
      "2025-04-20 13:10:00,593 - INFO - Downloaded logs_qajmav6g:v0 to /scratch/downloaded_artifacts/logs_qajmav6g:v0\n"
     ]
    },
    {
     "name": "stderr",
     "output_type": "stream",
     "text": [
      "\u001b[34m\u001b[1mwandb\u001b[0m:   1 of 1 files downloaded.  \n"
     ]
    },
    {
     "name": "stdout",
     "output_type": "stream",
     "text": [
      "2025-04-20 13:10:00,798 - INFO - Downloaded logs_atgrugnr:v0 to /scratch/downloaded_artifacts/logs_atgrugnr:v0\n"
     ]
    },
    {
     "name": "stderr",
     "output_type": "stream",
     "text": [
      "\u001b[34m\u001b[1mwandb\u001b[0m:   1 of 1 files downloaded.  \n"
     ]
    },
    {
     "name": "stdout",
     "output_type": "stream",
     "text": [
      "2025-04-20 13:10:00,813 - INFO - Downloaded logs_n6vh1v48:v0 to /scratch/downloaded_artifacts/logs_n6vh1v48:v0\n"
     ]
    },
    {
     "name": "stderr",
     "output_type": "stream",
     "text": [
      "\u001b[34m\u001b[1mwandb\u001b[0m:   1 of 1 files downloaded.  \n"
     ]
    },
    {
     "name": "stdout",
     "output_type": "stream",
     "text": [
      "2025-04-20 13:10:00,860 - INFO - Downloaded logs_afkgkgom:v0 to /scratch/downloaded_artifacts/logs_afkgkgom:v0\n"
     ]
    },
    {
     "name": "stderr",
     "output_type": "stream",
     "text": [
      "\u001b[34m\u001b[1mwandb\u001b[0m:   1 of 1 files downloaded.  \n"
     ]
    },
    {
     "name": "stdout",
     "output_type": "stream",
     "text": [
      "2025-04-20 13:10:00,872 - INFO - Downloaded logs_t6nqcnqe:v0 to /scratch/downloaded_artifacts/logs_t6nqcnqe:v0\n"
     ]
    },
    {
     "name": "stderr",
     "output_type": "stream",
     "text": [
      "\u001b[34m\u001b[1mwandb\u001b[0m:   1 of 1 files downloaded.  \n"
     ]
    },
    {
     "name": "stdout",
     "output_type": "stream",
     "text": [
      "2025-04-20 13:10:01,034 - INFO - Downloaded logs_sfuk6x1w:v0 to /scratch/downloaded_artifacts/logs_sfuk6x1w:v0\n"
     ]
    },
    {
     "name": "stderr",
     "output_type": "stream",
     "text": [
      "\u001b[34m\u001b[1mwandb\u001b[0m:   1 of 1 files downloaded.  \n"
     ]
    },
    {
     "name": "stdout",
     "output_type": "stream",
     "text": [
      "2025-04-20 13:10:01,047 - INFO - Downloaded logs_fc5jqx4y:v0 to /scratch/downloaded_artifacts/logs_fc5jqx4y:v0\n"
     ]
    },
    {
     "name": "stderr",
     "output_type": "stream",
     "text": [
      "\u001b[34m\u001b[1mwandb\u001b[0m:   1 of 1 files downloaded.  \n"
     ]
    },
    {
     "name": "stdout",
     "output_type": "stream",
     "text": [
      "2025-04-20 13:10:01,072 - INFO - Downloaded logs_zuncayb2:v0 to /scratch/downloaded_artifacts/logs_zuncayb2:v0\n"
     ]
    },
    {
     "name": "stderr",
     "output_type": "stream",
     "text": [
      "\u001b[34m\u001b[1mwandb\u001b[0m:   1 of 1 files downloaded.  \n"
     ]
    },
    {
     "name": "stdout",
     "output_type": "stream",
     "text": [
      "2025-04-20 13:10:01,232 - INFO - Downloaded logs_4lfarmvz:v0 to /scratch/downloaded_artifacts/logs_4lfarmvz:v0\n"
     ]
    },
    {
     "name": "stderr",
     "output_type": "stream",
     "text": [
      "\u001b[34m\u001b[1mwandb\u001b[0m:   1 of 1 files downloaded.  \n"
     ]
    },
    {
     "name": "stdout",
     "output_type": "stream",
     "text": [
      "2025-04-20 13:10:01,249 - INFO - Downloaded logs_10e4kfbo:v0 to /scratch/downloaded_artifacts/logs_10e4kfbo:v0\n"
     ]
    },
    {
     "name": "stderr",
     "output_type": "stream",
     "text": [
      "\u001b[34m\u001b[1mwandb\u001b[0m:   1 of 1 files downloaded.  \n"
     ]
    },
    {
     "name": "stdout",
     "output_type": "stream",
     "text": [
      "2025-04-20 13:10:01,252 - INFO - Downloaded logs_9qm40f2f:v0 to /scratch/downloaded_artifacts/logs_9qm40f2f:v0\n"
     ]
    },
    {
     "name": "stderr",
     "output_type": "stream",
     "text": [
      "\u001b[34m\u001b[1mwandb\u001b[0m:   1 of 1 files downloaded.  \n"
     ]
    },
    {
     "name": "stdout",
     "output_type": "stream",
     "text": [
      "2025-04-20 13:10:01,368 - INFO - Downloaded logs_j2vb18mz:v0 to /scratch/downloaded_artifacts/logs_j2vb18mz:v0\n"
     ]
    },
    {
     "name": "stderr",
     "output_type": "stream",
     "text": [
      "\u001b[34m\u001b[1mwandb\u001b[0m:   1 of 1 files downloaded.  \n"
     ]
    },
    {
     "name": "stdout",
     "output_type": "stream",
     "text": [
      "2025-04-20 13:10:01,374 - INFO - Downloaded logs_f10nueqx:v0 to /scratch/downloaded_artifacts/logs_f10nueqx:v0\n"
     ]
    },
    {
     "name": "stderr",
     "output_type": "stream",
     "text": [
      "\u001b[34m\u001b[1mwandb\u001b[0m:   1 of 1 files downloaded.  \n"
     ]
    },
    {
     "name": "stdout",
     "output_type": "stream",
     "text": [
      "2025-04-20 13:10:01,391 - INFO - Downloaded logs_q04uwj5h:v0 to /scratch/downloaded_artifacts/logs_q04uwj5h:v0\n"
     ]
    },
    {
     "name": "stderr",
     "output_type": "stream",
     "text": [
      "\u001b[34m\u001b[1mwandb\u001b[0m:   1 of 1 files downloaded.  \n"
     ]
    },
    {
     "name": "stdout",
     "output_type": "stream",
     "text": [
      "2025-04-20 13:10:01,540 - INFO - Downloaded logs_q3mr7c83:v0 to /scratch/downloaded_artifacts/logs_q3mr7c83:v0\n"
     ]
    },
    {
     "name": "stderr",
     "output_type": "stream",
     "text": [
      "\u001b[34m\u001b[1mwandb\u001b[0m:   1 of 1 files downloaded.  \n"
     ]
    },
    {
     "name": "stdout",
     "output_type": "stream",
     "text": [
      "2025-04-20 13:10:01,611 - INFO - Downloaded logs_us8l6b6n:v0 to /scratch/downloaded_artifacts/logs_us8l6b6n:v0\n"
     ]
    },
    {
     "name": "stderr",
     "output_type": "stream",
     "text": [
      "\u001b[34m\u001b[1mwandb\u001b[0m:   1 of 1 files downloaded.  \n"
     ]
    },
    {
     "name": "stdout",
     "output_type": "stream",
     "text": [
      "2025-04-20 13:10:01,809 - INFO - Downloaded logs_w8wrw8sp:v0 to /scratch/downloaded_artifacts/logs_w8wrw8sp:v0\n"
     ]
    },
    {
     "name": "stderr",
     "output_type": "stream",
     "text": [
      "\u001b[34m\u001b[1mwandb\u001b[0m:   1 of 1 files downloaded.  \n"
     ]
    },
    {
     "name": "stdout",
     "output_type": "stream",
     "text": [
      "2025-04-20 13:10:01,856 - INFO - Downloaded logs_ufs9smkt:v0 to /scratch/downloaded_artifacts/logs_ufs9smkt:v0\n"
     ]
    },
    {
     "name": "stderr",
     "output_type": "stream",
     "text": [
      "\u001b[34m\u001b[1mwandb\u001b[0m:   1 of 1 files downloaded.  \n"
     ]
    },
    {
     "name": "stdout",
     "output_type": "stream",
     "text": [
      "2025-04-20 13:10:01,881 - INFO - Downloaded logs_vd20s0rl:v0 to /scratch/downloaded_artifacts/logs_vd20s0rl:v0\n"
     ]
    },
    {
     "name": "stderr",
     "output_type": "stream",
     "text": [
      "\u001b[34m\u001b[1mwandb\u001b[0m:   1 of 1 files downloaded.  \n"
     ]
    },
    {
     "name": "stdout",
     "output_type": "stream",
     "text": [
      "2025-04-20 13:10:01,953 - INFO - Downloaded logs_xp8avf6f:v0 to /scratch/downloaded_artifacts/logs_xp8avf6f:v0\n"
     ]
    },
    {
     "name": "stderr",
     "output_type": "stream",
     "text": [
      "\u001b[34m\u001b[1mwandb\u001b[0m:   1 of 1 files downloaded.  \n",
      "\u001b[34m\u001b[1mwandb\u001b[0m:   1 of 1 files downloaded.  \n"
     ]
    },
    {
     "name": "stdout",
     "output_type": "stream",
     "text": [
      "2025-04-20 13:10:02,036 - INFO - Downloaded logs_efs332zz:v0 to /scratch/downloaded_artifacts/logs_efs332zz:v0\n",
      "2025-04-20 13:10:02,037 - INFO - Downloaded logs_vtcrda3t:v0 to /scratch/downloaded_artifacts/logs_vtcrda3t:v0\n"
     ]
    },
    {
     "name": "stderr",
     "output_type": "stream",
     "text": [
      "\u001b[34m\u001b[1mwandb\u001b[0m:   1 of 1 files downloaded.  \n"
     ]
    },
    {
     "name": "stdout",
     "output_type": "stream",
     "text": [
      "2025-04-20 13:10:02,253 - INFO - Downloaded logs_tiuwihix:v0 to /scratch/downloaded_artifacts/logs_tiuwihix:v0\n"
     ]
    },
    {
     "name": "stderr",
     "output_type": "stream",
     "text": [
      "\u001b[34m\u001b[1mwandb\u001b[0m:   1 of 1 files downloaded.  \n"
     ]
    },
    {
     "name": "stdout",
     "output_type": "stream",
     "text": [
      "2025-04-20 13:10:02,346 - INFO - Downloaded logs_94d444xh:v0 to /scratch/downloaded_artifacts/logs_94d444xh:v0\n"
     ]
    },
    {
     "name": "stderr",
     "output_type": "stream",
     "text": [
      "\u001b[34m\u001b[1mwandb\u001b[0m:   1 of 1 files downloaded.  \n"
     ]
    },
    {
     "name": "stdout",
     "output_type": "stream",
     "text": [
      "2025-04-20 13:10:02,350 - INFO - Downloaded logs_ty92dja1:v0 to /scratch/downloaded_artifacts/logs_ty92dja1:v0\n"
     ]
    },
    {
     "name": "stderr",
     "output_type": "stream",
     "text": [
      "\u001b[34m\u001b[1mwandb\u001b[0m:   1 of 1 files downloaded.  \n"
     ]
    },
    {
     "name": "stdout",
     "output_type": "stream",
     "text": [
      "2025-04-20 13:10:02,445 - INFO - Downloaded logs_mxi9ifle:v0 to /scratch/downloaded_artifacts/logs_mxi9ifle:v0\n"
     ]
    },
    {
     "name": "stderr",
     "output_type": "stream",
     "text": [
      "\u001b[34m\u001b[1mwandb\u001b[0m:   1 of 1 files downloaded.  \n"
     ]
    },
    {
     "name": "stdout",
     "output_type": "stream",
     "text": [
      "2025-04-20 13:10:02,502 - INFO - Downloaded logs_uqtimd11:v0 to /scratch/downloaded_artifacts/logs_uqtimd11:v0\n"
     ]
    },
    {
     "name": "stderr",
     "output_type": "stream",
     "text": [
      "\u001b[34m\u001b[1mwandb\u001b[0m:   1 of 1 files downloaded.  \n"
     ]
    },
    {
     "name": "stdout",
     "output_type": "stream",
     "text": [
      "2025-04-20 13:10:02,622 - INFO - Downloaded logs_mu46rt5o:v0 to /scratch/downloaded_artifacts/logs_mu46rt5o:v0\n"
     ]
    },
    {
     "name": "stderr",
     "output_type": "stream",
     "text": [
      "\u001b[34m\u001b[1mwandb\u001b[0m:   1 of 1 files downloaded.  \n"
     ]
    },
    {
     "name": "stdout",
     "output_type": "stream",
     "text": [
      "2025-04-20 13:10:02,700 - INFO - Downloaded logs_pju324bk:v0 to /scratch/downloaded_artifacts/logs_pju324bk:v0\n"
     ]
    },
    {
     "name": "stderr",
     "output_type": "stream",
     "text": [
      "\u001b[34m\u001b[1mwandb\u001b[0m:   1 of 1 files downloaded.  \n"
     ]
    },
    {
     "name": "stdout",
     "output_type": "stream",
     "text": [
      "2025-04-20 13:10:02,708 - INFO - Downloaded logs_yxw4z4ak:v0 to /scratch/downloaded_artifacts/logs_yxw4z4ak:v0\n"
     ]
    },
    {
     "name": "stderr",
     "output_type": "stream",
     "text": [
      "\u001b[34m\u001b[1mwandb\u001b[0m:   1 of 1 files downloaded.  \n"
     ]
    },
    {
     "name": "stdout",
     "output_type": "stream",
     "text": [
      "2025-04-20 13:10:02,809 - INFO - Downloaded logs_d06p5gvq:v0 to /scratch/downloaded_artifacts/logs_d06p5gvq:v0\n"
     ]
    },
    {
     "name": "stderr",
     "output_type": "stream",
     "text": [
      "\u001b[34m\u001b[1mwandb\u001b[0m:   1 of 1 files downloaded.  \n"
     ]
    },
    {
     "name": "stdout",
     "output_type": "stream",
     "text": [
      "2025-04-20 13:10:02,859 - INFO - Downloaded logs_axeccd9h:v0 to /scratch/downloaded_artifacts/logs_axeccd9h:v0\n"
     ]
    },
    {
     "name": "stderr",
     "output_type": "stream",
     "text": [
      "\u001b[34m\u001b[1mwandb\u001b[0m:   1 of 1 files downloaded.  \n"
     ]
    },
    {
     "name": "stdout",
     "output_type": "stream",
     "text": [
      "2025-04-20 13:10:02,892 - INFO - Downloaded logs_8p6ymbp0:v0 to /scratch/downloaded_artifacts/logs_8p6ymbp0:v0\n"
     ]
    },
    {
     "name": "stderr",
     "output_type": "stream",
     "text": [
      "\u001b[34m\u001b[1mwandb\u001b[0m:   1 of 1 files downloaded.  \n"
     ]
    },
    {
     "name": "stdout",
     "output_type": "stream",
     "text": [
      "2025-04-20 13:10:02,913 - INFO - Downloaded logs_554gltnb:v0 to /scratch/downloaded_artifacts/logs_554gltnb:v0\n"
     ]
    },
    {
     "name": "stderr",
     "output_type": "stream",
     "text": [
      "\u001b[34m\u001b[1mwandb\u001b[0m:   1 of 1 files downloaded.  \n"
     ]
    },
    {
     "name": "stdout",
     "output_type": "stream",
     "text": [
      "2025-04-20 13:10:03,097 - INFO - Downloaded logs_v85qz2i5:v0 to /scratch/downloaded_artifacts/logs_v85qz2i5:v0\n"
     ]
    },
    {
     "name": "stderr",
     "output_type": "stream",
     "text": [
      "\u001b[34m\u001b[1mwandb\u001b[0m:   1 of 1 files downloaded.  \n"
     ]
    },
    {
     "name": "stdout",
     "output_type": "stream",
     "text": [
      "2025-04-20 13:10:03,108 - INFO - Downloaded logs_n26zt3oo:v0 to /scratch/downloaded_artifacts/logs_n26zt3oo:v0\n"
     ]
    },
    {
     "name": "stderr",
     "output_type": "stream",
     "text": [
      "\u001b[34m\u001b[1mwandb\u001b[0m:   1 of 1 files downloaded.  \n"
     ]
    },
    {
     "name": "stdout",
     "output_type": "stream",
     "text": [
      "2025-04-20 13:10:03,262 - INFO - Downloaded logs_1hcd60v3:v0 to /scratch/downloaded_artifacts/logs_1hcd60v3:v0\n"
     ]
    },
    {
     "name": "stderr",
     "output_type": "stream",
     "text": [
      "\u001b[34m\u001b[1mwandb\u001b[0m:   1 of 1 files downloaded.  \n"
     ]
    },
    {
     "name": "stdout",
     "output_type": "stream",
     "text": [
      "2025-04-20 13:10:03,268 - INFO - Downloaded logs_xltfv8qo:v0 to /scratch/downloaded_artifacts/logs_xltfv8qo:v0\n"
     ]
    },
    {
     "name": "stderr",
     "output_type": "stream",
     "text": [
      "\u001b[34m\u001b[1mwandb\u001b[0m:   1 of 1 files downloaded.  \n"
     ]
    },
    {
     "name": "stdout",
     "output_type": "stream",
     "text": [
      "2025-04-20 13:10:03,312 - INFO - Downloaded logs_9uemi7w0:v0 to /scratch/downloaded_artifacts/logs_9uemi7w0:v0\n"
     ]
    },
    {
     "name": "stderr",
     "output_type": "stream",
     "text": [
      "\u001b[34m\u001b[1mwandb\u001b[0m:   1 of 1 files downloaded.  \n"
     ]
    },
    {
     "name": "stdout",
     "output_type": "stream",
     "text": [
      "2025-04-20 13:10:03,334 - INFO - Downloaded logs_cp1rp6lx:v0 to /scratch/downloaded_artifacts/logs_cp1rp6lx:v0\n"
     ]
    },
    {
     "name": "stderr",
     "output_type": "stream",
     "text": [
      "\u001b[34m\u001b[1mwandb\u001b[0m:   1 of 1 files downloaded.  \n"
     ]
    },
    {
     "name": "stdout",
     "output_type": "stream",
     "text": [
      "2025-04-20 13:10:03,392 - INFO - Downloaded logs_cxkgj5a3:v0 to /scratch/downloaded_artifacts/logs_cxkgj5a3:v0\n"
     ]
    },
    {
     "name": "stderr",
     "output_type": "stream",
     "text": [
      "\u001b[34m\u001b[1mwandb\u001b[0m:   1 of 1 files downloaded.  \n"
     ]
    },
    {
     "name": "stdout",
     "output_type": "stream",
     "text": [
      "2025-04-20 13:10:03,441 - INFO - Downloaded logs_e1pq42b4:v0 to /scratch/downloaded_artifacts/logs_e1pq42b4:v0\n"
     ]
    },
    {
     "name": "stderr",
     "output_type": "stream",
     "text": [
      "\u001b[34m\u001b[1mwandb\u001b[0m:   1 of 1 files downloaded.  \n"
     ]
    },
    {
     "name": "stdout",
     "output_type": "stream",
     "text": [
      "2025-04-20 13:10:03,695 - INFO - Downloaded logs_hofsvwde:v0 to /scratch/downloaded_artifacts/logs_hofsvwde:v0\n"
     ]
    },
    {
     "name": "stderr",
     "output_type": "stream",
     "text": [
      "\u001b[34m\u001b[1mwandb\u001b[0m:   1 of 1 files downloaded.  \n"
     ]
    },
    {
     "name": "stdout",
     "output_type": "stream",
     "text": [
      "2025-04-20 13:10:03,755 - INFO - Downloaded logs_ije8oty6:v0 to /scratch/downloaded_artifacts/logs_ije8oty6:v0\n"
     ]
    },
    {
     "name": "stderr",
     "output_type": "stream",
     "text": [
      "\u001b[34m\u001b[1mwandb\u001b[0m:   1 of 1 files downloaded.  \n"
     ]
    },
    {
     "name": "stdout",
     "output_type": "stream",
     "text": [
      "2025-04-20 13:10:03,784 - INFO - Downloaded logs_ruls4vgw:v0 to /scratch/downloaded_artifacts/logs_ruls4vgw:v0\n"
     ]
    },
    {
     "name": "stderr",
     "output_type": "stream",
     "text": [
      "\u001b[34m\u001b[1mwandb\u001b[0m:   1 of 1 files downloaded.  \n"
     ]
    },
    {
     "name": "stdout",
     "output_type": "stream",
     "text": [
      "2025-04-20 13:10:03,805 - INFO - Downloaded logs_te1vha36:v0 to /scratch/downloaded_artifacts/logs_te1vha36:v0\n"
     ]
    },
    {
     "name": "stderr",
     "output_type": "stream",
     "text": [
      "\u001b[34m\u001b[1mwandb\u001b[0m:   1 of 1 files downloaded.  \n"
     ]
    },
    {
     "name": "stdout",
     "output_type": "stream",
     "text": [
      "2025-04-20 13:10:03,935 - INFO - Downloaded logs_ispygumg:v0 to /scratch/downloaded_artifacts/logs_ispygumg:v0\n"
     ]
    },
    {
     "name": "stderr",
     "output_type": "stream",
     "text": [
      "\u001b[34m\u001b[1mwandb\u001b[0m:   1 of 1 files downloaded.  \n"
     ]
    },
    {
     "name": "stdout",
     "output_type": "stream",
     "text": [
      "2025-04-20 13:10:03,990 - INFO - Downloaded logs_v4gfww0h:v0 to /scratch/downloaded_artifacts/logs_v4gfww0h:v0\n"
     ]
    },
    {
     "name": "stderr",
     "output_type": "stream",
     "text": [
      "\u001b[34m\u001b[1mwandb\u001b[0m:   1 of 1 files downloaded.  \n"
     ]
    },
    {
     "name": "stdout",
     "output_type": "stream",
     "text": [
      "2025-04-20 13:10:04,041 - INFO - Downloaded logs_vkrsyt4v:v0 to /scratch/downloaded_artifacts/logs_vkrsyt4v:v0\n"
     ]
    },
    {
     "name": "stderr",
     "output_type": "stream",
     "text": [
      "\u001b[34m\u001b[1mwandb\u001b[0m:   1 of 1 files downloaded.  \n"
     ]
    },
    {
     "name": "stdout",
     "output_type": "stream",
     "text": [
      "2025-04-20 13:10:04,224 - INFO - Downloaded logs_a125l99l:v0 to /scratch/downloaded_artifacts/logs_a125l99l:v0\n"
     ]
    },
    {
     "name": "stderr",
     "output_type": "stream",
     "text": [
      "\u001b[34m\u001b[1mwandb\u001b[0m:   1 of 1 files downloaded.  \n"
     ]
    },
    {
     "name": "stdout",
     "output_type": "stream",
     "text": [
      "2025-04-20 13:10:04,266 - INFO - Downloaded logs_7tsw6pd2:v0 to /scratch/downloaded_artifacts/logs_7tsw6pd2:v0\n"
     ]
    },
    {
     "name": "stderr",
     "output_type": "stream",
     "text": [
      "\u001b[34m\u001b[1mwandb\u001b[0m:   1 of 1 files downloaded.  \n"
     ]
    },
    {
     "name": "stdout",
     "output_type": "stream",
     "text": [
      "2025-04-20 13:10:04,269 - INFO - Downloaded logs_11oehnp2:v0 to /scratch/downloaded_artifacts/logs_11oehnp2:v0\n"
     ]
    },
    {
     "name": "stderr",
     "output_type": "stream",
     "text": [
      "\u001b[34m\u001b[1mwandb\u001b[0m:   1 of 1 files downloaded.  \n"
     ]
    },
    {
     "name": "stdout",
     "output_type": "stream",
     "text": [
      "2025-04-20 13:10:04,307 - INFO - Downloaded logs_x6560coc:v0 to /scratch/downloaded_artifacts/logs_x6560coc:v0\n"
     ]
    },
    {
     "name": "stderr",
     "output_type": "stream",
     "text": [
      "\u001b[34m\u001b[1mwandb\u001b[0m:   1 of 1 files downloaded.  \n",
      "\u001b[34m\u001b[1mwandb\u001b[0m:   1 of 1 files downloaded.  \n"
     ]
    },
    {
     "name": "stdout",
     "output_type": "stream",
     "text": [
      "2025-04-20 13:10:04,444 - INFO - Downloaded logs_1v9bzh28:v0 to /scratch/downloaded_artifacts/logs_1v9bzh28:v0\n",
      "2025-04-20 13:10:04,445 - INFO - Downloaded logs_bqxrcqpm:v0 to /scratch/downloaded_artifacts/logs_bqxrcqpm:v0\n"
     ]
    },
    {
     "name": "stderr",
     "output_type": "stream",
     "text": [
      "\u001b[34m\u001b[1mwandb\u001b[0m:   1 of 1 files downloaded.  \n"
     ]
    },
    {
     "name": "stdout",
     "output_type": "stream",
     "text": [
      "2025-04-20 13:10:04,506 - INFO - Downloaded logs_jmhuo1mb:v0 to /scratch/downloaded_artifacts/logs_jmhuo1mb:v0\n"
     ]
    },
    {
     "name": "stderr",
     "output_type": "stream",
     "text": [
      "\u001b[34m\u001b[1mwandb\u001b[0m:   1 of 1 files downloaded.  \n"
     ]
    },
    {
     "name": "stdout",
     "output_type": "stream",
     "text": [
      "2025-04-20 13:10:04,644 - INFO - Downloaded logs_1dzi1e3e:v0 to /scratch/downloaded_artifacts/logs_1dzi1e3e:v0\n"
     ]
    },
    {
     "name": "stderr",
     "output_type": "stream",
     "text": [
      "\u001b[34m\u001b[1mwandb\u001b[0m:   1 of 1 files downloaded.  \n"
     ]
    },
    {
     "name": "stdout",
     "output_type": "stream",
     "text": [
      "2025-04-20 13:10:04,688 - INFO - Downloaded logs_6p4o2t5u:v0 to /scratch/downloaded_artifacts/logs_6p4o2t5u:v0\n"
     ]
    },
    {
     "name": "stderr",
     "output_type": "stream",
     "text": [
      "\u001b[34m\u001b[1mwandb\u001b[0m:   1 of 1 files downloaded.  \n"
     ]
    },
    {
     "name": "stdout",
     "output_type": "stream",
     "text": [
      "2025-04-20 13:10:04,716 - INFO - Downloaded logs_j35mbhi5:v0 to /scratch/downloaded_artifacts/logs_j35mbhi5:v0\n"
     ]
    },
    {
     "name": "stderr",
     "output_type": "stream",
     "text": [
      "\u001b[34m\u001b[1mwandb\u001b[0m:   1 of 1 files downloaded.  \n"
     ]
    },
    {
     "name": "stdout",
     "output_type": "stream",
     "text": [
      "2025-04-20 13:10:04,792 - INFO - Downloaded logs_y6pg5a0u:v0 to /scratch/downloaded_artifacts/logs_y6pg5a0u:v0\n"
     ]
    },
    {
     "name": "stderr",
     "output_type": "stream",
     "text": [
      "\u001b[34m\u001b[1mwandb\u001b[0m:   1 of 1 files downloaded.  \n"
     ]
    },
    {
     "name": "stdout",
     "output_type": "stream",
     "text": [
      "2025-04-20 13:10:04,815 - INFO - Downloaded logs_ucth219n:v0 to /scratch/downloaded_artifacts/logs_ucth219n:v0\n"
     ]
    },
    {
     "name": "stderr",
     "output_type": "stream",
     "text": [
      "\u001b[34m\u001b[1mwandb\u001b[0m:   1 of 1 files downloaded.  \n"
     ]
    },
    {
     "name": "stdout",
     "output_type": "stream",
     "text": [
      "2025-04-20 13:10:04,852 - INFO - Downloaded logs_32kjqc4t:v0 to /scratch/downloaded_artifacts/logs_32kjqc4t:v0\n"
     ]
    },
    {
     "name": "stderr",
     "output_type": "stream",
     "text": [
      "\u001b[34m\u001b[1mwandb\u001b[0m:   1 of 1 files downloaded.  \n"
     ]
    },
    {
     "name": "stdout",
     "output_type": "stream",
     "text": [
      "2025-04-20 13:10:05,025 - INFO - Downloaded logs_yd3y047c:v0 to /scratch/downloaded_artifacts/logs_yd3y047c:v0\n"
     ]
    },
    {
     "name": "stderr",
     "output_type": "stream",
     "text": [
      "\u001b[34m\u001b[1mwandb\u001b[0m:   1 of 1 files downloaded.  \n"
     ]
    },
    {
     "name": "stdout",
     "output_type": "stream",
     "text": [
      "2025-04-20 13:10:05,169 - INFO - Downloaded logs_4p4oaqnq:v0 to /scratch/downloaded_artifacts/logs_4p4oaqnq:v0\n"
     ]
    },
    {
     "name": "stderr",
     "output_type": "stream",
     "text": [
      "\u001b[34m\u001b[1mwandb\u001b[0m:   1 of 1 files downloaded.  \n"
     ]
    },
    {
     "name": "stdout",
     "output_type": "stream",
     "text": [
      "2025-04-20 13:10:05,193 - INFO - Downloaded logs_5h12jvxh:v0 to /scratch/downloaded_artifacts/logs_5h12jvxh:v0\n"
     ]
    },
    {
     "name": "stderr",
     "output_type": "stream",
     "text": [
      "\u001b[34m\u001b[1mwandb\u001b[0m:   1 of 1 files downloaded.  \n"
     ]
    },
    {
     "name": "stdout",
     "output_type": "stream",
     "text": [
      "2025-04-20 13:10:05,240 - INFO - Downloaded logs_54iqmzp8:v0 to /scratch/downloaded_artifacts/logs_54iqmzp8:v0\n"
     ]
    },
    {
     "name": "stderr",
     "output_type": "stream",
     "text": [
      "\u001b[34m\u001b[1mwandb\u001b[0m:   1 of 1 files downloaded.  \n"
     ]
    },
    {
     "name": "stdout",
     "output_type": "stream",
     "text": [
      "2025-04-20 13:10:05,352 - INFO - Downloaded logs_8e10rv8g:v0 to /scratch/downloaded_artifacts/logs_8e10rv8g:v0\n"
     ]
    },
    {
     "name": "stderr",
     "output_type": "stream",
     "text": [
      "\u001b[34m\u001b[1mwandb\u001b[0m:   1 of 1 files downloaded.  \n"
     ]
    },
    {
     "name": "stdout",
     "output_type": "stream",
     "text": [
      "2025-04-20 13:10:05,356 - INFO - Downloaded logs_6xiffowz:v0 to /scratch/downloaded_artifacts/logs_6xiffowz:v0\n"
     ]
    },
    {
     "name": "stderr",
     "output_type": "stream",
     "text": [
      "\u001b[34m\u001b[1mwandb\u001b[0m:   1 of 1 files downloaded.  \n"
     ]
    },
    {
     "name": "stdout",
     "output_type": "stream",
     "text": [
      "2025-04-20 13:10:05,358 - INFO - Downloaded logs_68qyrqut:v0 to /scratch/downloaded_artifacts/logs_68qyrqut:v0\n"
     ]
    },
    {
     "name": "stderr",
     "output_type": "stream",
     "text": [
      "\u001b[34m\u001b[1mwandb\u001b[0m:   1 of 1 files downloaded.  \n"
     ]
    },
    {
     "name": "stdout",
     "output_type": "stream",
     "text": [
      "2025-04-20 13:10:05,596 - INFO - Downloaded logs_nxgtnnjg:v0 to /scratch/downloaded_artifacts/logs_nxgtnnjg:v0\n"
     ]
    },
    {
     "name": "stderr",
     "output_type": "stream",
     "text": [
      "\u001b[34m\u001b[1mwandb\u001b[0m:   1 of 1 files downloaded.  \n"
     ]
    },
    {
     "name": "stdout",
     "output_type": "stream",
     "text": [
      "2025-04-20 13:10:05,658 - INFO - Downloaded logs_gaw0ibpr:v0 to /scratch/downloaded_artifacts/logs_gaw0ibpr:v0\n"
     ]
    },
    {
     "name": "stderr",
     "output_type": "stream",
     "text": [
      "\u001b[34m\u001b[1mwandb\u001b[0m:   1 of 1 files downloaded.  \n"
     ]
    },
    {
     "name": "stdout",
     "output_type": "stream",
     "text": [
      "2025-04-20 13:10:05,704 - INFO - Downloaded logs_9ihklqwn:v0 to /scratch/downloaded_artifacts/logs_9ihklqwn:v0\n"
     ]
    },
    {
     "name": "stderr",
     "output_type": "stream",
     "text": [
      "\u001b[34m\u001b[1mwandb\u001b[0m:   1 of 1 files downloaded.  \n"
     ]
    },
    {
     "name": "stdout",
     "output_type": "stream",
     "text": [
      "2025-04-20 13:10:05,716 - INFO - Downloaded logs_mszunol1:v0 to /scratch/downloaded_artifacts/logs_mszunol1:v0\n"
     ]
    },
    {
     "name": "stderr",
     "output_type": "stream",
     "text": [
      "\u001b[34m\u001b[1mwandb\u001b[0m:   1 of 1 files downloaded.  \n"
     ]
    },
    {
     "name": "stdout",
     "output_type": "stream",
     "text": [
      "2025-04-20 13:10:05,887 - INFO - Downloaded logs_obngem3i:v0 to /scratch/downloaded_artifacts/logs_obngem3i:v0\n"
     ]
    },
    {
     "name": "stderr",
     "output_type": "stream",
     "text": [
      "\u001b[34m\u001b[1mwandb\u001b[0m:   1 of 1 files downloaded.  \n"
     ]
    },
    {
     "name": "stdout",
     "output_type": "stream",
     "text": [
      "2025-04-20 13:10:05,961 - INFO - Downloaded logs_o1azjx19:v0 to /scratch/downloaded_artifacts/logs_o1azjx19:v0\n"
     ]
    },
    {
     "name": "stderr",
     "output_type": "stream",
     "text": [
      "\u001b[34m\u001b[1mwandb\u001b[0m:   1 of 1 files downloaded.  \n"
     ]
    },
    {
     "name": "stdout",
     "output_type": "stream",
     "text": [
      "2025-04-20 13:10:06,122 - INFO - Downloaded logs_vlxa6z80:v0 to /scratch/downloaded_artifacts/logs_vlxa6z80:v0\n"
     ]
    },
    {
     "name": "stderr",
     "output_type": "stream",
     "text": [
      "\u001b[34m\u001b[1mwandb\u001b[0m:   1 of 1 files downloaded.  \n"
     ]
    },
    {
     "name": "stdout",
     "output_type": "stream",
     "text": [
      "2025-04-20 13:10:06,125 - INFO - Downloaded logs_xsdtofce:v0 to /scratch/downloaded_artifacts/logs_xsdtofce:v0\n"
     ]
    },
    {
     "name": "stderr",
     "output_type": "stream",
     "text": [
      "\u001b[34m\u001b[1mwandb\u001b[0m:   1 of 1 files downloaded.  \n"
     ]
    },
    {
     "name": "stdout",
     "output_type": "stream",
     "text": [
      "2025-04-20 13:10:06,173 - INFO - Downloaded logs_wqwrw7v6:v0 to /scratch/downloaded_artifacts/logs_wqwrw7v6:v0\n"
     ]
    },
    {
     "name": "stderr",
     "output_type": "stream",
     "text": [
      "\u001b[34m\u001b[1mwandb\u001b[0m:   1 of 1 files downloaded.  \n"
     ]
    },
    {
     "name": "stdout",
     "output_type": "stream",
     "text": [
      "2025-04-20 13:10:06,223 - INFO - Downloaded logs_e1kal1vr:v0 to /scratch/downloaded_artifacts/logs_e1kal1vr:v0\n"
     ]
    },
    {
     "name": "stderr",
     "output_type": "stream",
     "text": [
      "\u001b[34m\u001b[1mwandb\u001b[0m:   1 of 1 files downloaded.  \n"
     ]
    },
    {
     "name": "stdout",
     "output_type": "stream",
     "text": [
      "2025-04-20 13:10:06,258 - INFO - Downloaded logs_dlslnoo5:v0 to /scratch/downloaded_artifacts/logs_dlslnoo5:v0\n"
     ]
    },
    {
     "name": "stderr",
     "output_type": "stream",
     "text": [
      "\u001b[34m\u001b[1mwandb\u001b[0m:   1 of 1 files downloaded.  \n"
     ]
    },
    {
     "name": "stdout",
     "output_type": "stream",
     "text": [
      "2025-04-20 13:10:06,287 - INFO - Downloaded logs_9l2bv4nw:v0 to /scratch/downloaded_artifacts/logs_9l2bv4nw:v0\n"
     ]
    },
    {
     "name": "stderr",
     "output_type": "stream",
     "text": [
      "\u001b[34m\u001b[1mwandb\u001b[0m:   1 of 1 files downloaded.  \n"
     ]
    },
    {
     "name": "stdout",
     "output_type": "stream",
     "text": [
      "2025-04-20 13:10:06,347 - INFO - Downloaded logs_tq0tq2lf:v0 to /scratch/downloaded_artifacts/logs_tq0tq2lf:v0\n"
     ]
    },
    {
     "name": "stderr",
     "output_type": "stream",
     "text": [
      "\u001b[34m\u001b[1mwandb\u001b[0m:   1 of 1 files downloaded.  \n"
     ]
    },
    {
     "name": "stdout",
     "output_type": "stream",
     "text": [
      "2025-04-20 13:10:06,390 - INFO - Downloaded logs_bpwss7mo:v0 to /scratch/downloaded_artifacts/logs_bpwss7mo:v0\n"
     ]
    },
    {
     "name": "stderr",
     "output_type": "stream",
     "text": [
      "\u001b[34m\u001b[1mwandb\u001b[0m:   1 of 1 files downloaded.  \n"
     ]
    },
    {
     "name": "stdout",
     "output_type": "stream",
     "text": [
      "2025-04-20 13:10:06,557 - INFO - Downloaded logs_ot16fwrt:v0 to /scratch/downloaded_artifacts/logs_ot16fwrt:v0\n"
     ]
    },
    {
     "name": "stderr",
     "output_type": "stream",
     "text": [
      "\u001b[34m\u001b[1mwandb\u001b[0m:   1 of 1 files downloaded.  \n"
     ]
    },
    {
     "name": "stdout",
     "output_type": "stream",
     "text": [
      "2025-04-20 13:10:06,708 - INFO - Downloaded logs_o8z33k96:v0 to /scratch/downloaded_artifacts/logs_o8z33k96:v0\n"
     ]
    },
    {
     "name": "stderr",
     "output_type": "stream",
     "text": [
      "\u001b[34m\u001b[1mwandb\u001b[0m:   1 of 1 files downloaded.  \n"
     ]
    },
    {
     "name": "stdout",
     "output_type": "stream",
     "text": [
      "2025-04-20 13:10:06,716 - INFO - Downloaded logs_q9fdx8h8:v0 to /scratch/downloaded_artifacts/logs_q9fdx8h8:v0\n"
     ]
    },
    {
     "name": "stderr",
     "output_type": "stream",
     "text": [
      "\u001b[34m\u001b[1mwandb\u001b[0m:   1 of 1 files downloaded.  \n"
     ]
    },
    {
     "name": "stdout",
     "output_type": "stream",
     "text": [
      "2025-04-20 13:10:06,762 - INFO - Downloaded logs_8qkpc5g5:v0 to /scratch/downloaded_artifacts/logs_8qkpc5g5:v0\n"
     ]
    },
    {
     "name": "stderr",
     "output_type": "stream",
     "text": [
      "\u001b[34m\u001b[1mwandb\u001b[0m:   1 of 1 files downloaded.  \n"
     ]
    },
    {
     "name": "stdout",
     "output_type": "stream",
     "text": [
      "2025-04-20 13:10:06,822 - INFO - Downloaded logs_28ohru2a:v0 to /scratch/downloaded_artifacts/logs_28ohru2a:v0\n"
     ]
    },
    {
     "name": "stderr",
     "output_type": "stream",
     "text": [
      "\u001b[34m\u001b[1mwandb\u001b[0m:   1 of 1 files downloaded.  \n"
     ]
    },
    {
     "name": "stdout",
     "output_type": "stream",
     "text": [
      "2025-04-20 13:10:06,911 - INFO - Downloaded logs_3956el7e:v0 to /scratch/downloaded_artifacts/logs_3956el7e:v0\n"
     ]
    },
    {
     "name": "stderr",
     "output_type": "stream",
     "text": [
      "\u001b[34m\u001b[1mwandb\u001b[0m:   1 of 1 files downloaded.  \n"
     ]
    },
    {
     "name": "stdout",
     "output_type": "stream",
     "text": [
      "2025-04-20 13:10:06,982 - INFO - Downloaded logs_g6f4c7tt:v0 to /scratch/downloaded_artifacts/logs_g6f4c7tt:v0\n"
     ]
    },
    {
     "name": "stderr",
     "output_type": "stream",
     "text": [
      "\u001b[34m\u001b[1mwandb\u001b[0m:   1 of 1 files downloaded.  \n"
     ]
    },
    {
     "name": "stdout",
     "output_type": "stream",
     "text": [
      "2025-04-20 13:10:06,987 - INFO - Downloaded logs_cf6xg41y:v0 to /scratch/downloaded_artifacts/logs_cf6xg41y:v0\n"
     ]
    },
    {
     "name": "stderr",
     "output_type": "stream",
     "text": [
      "\u001b[34m\u001b[1mwandb\u001b[0m:   1 of 1 files downloaded.  \n"
     ]
    },
    {
     "name": "stdout",
     "output_type": "stream",
     "text": [
      "2025-04-20 13:10:07,052 - INFO - Downloaded logs_he6eqd10:v0 to /scratch/downloaded_artifacts/logs_he6eqd10:v0\n"
     ]
    },
    {
     "name": "stderr",
     "output_type": "stream",
     "text": [
      "\u001b[34m\u001b[1mwandb\u001b[0m:   1 of 1 files downloaded.  \n"
     ]
    },
    {
     "name": "stdout",
     "output_type": "stream",
     "text": [
      "2025-04-20 13:10:07,191 - INFO - Downloaded logs_foy3insk:v0 to /scratch/downloaded_artifacts/logs_foy3insk:v0\n"
     ]
    },
    {
     "name": "stderr",
     "output_type": "stream",
     "text": [
      "\u001b[34m\u001b[1mwandb\u001b[0m:   1 of 1 files downloaded.  \n"
     ]
    },
    {
     "name": "stdout",
     "output_type": "stream",
     "text": [
      "2025-04-20 13:10:07,380 - INFO - Downloaded logs_iv8w5xnu:v0 to /scratch/downloaded_artifacts/logs_iv8w5xnu:v0\n"
     ]
    },
    {
     "name": "stderr",
     "output_type": "stream",
     "text": [
      "\u001b[34m\u001b[1mwandb\u001b[0m:   1 of 1 files downloaded.  \n"
     ]
    },
    {
     "name": "stdout",
     "output_type": "stream",
     "text": [
      "2025-04-20 13:10:07,388 - INFO - Downloaded logs_igc0nyb0:v0 to /scratch/downloaded_artifacts/logs_igc0nyb0:v0\n"
     ]
    },
    {
     "name": "stderr",
     "output_type": "stream",
     "text": [
      "\u001b[34m\u001b[1mwandb\u001b[0m:   1 of 1 files downloaded.  \n"
     ]
    },
    {
     "name": "stdout",
     "output_type": "stream",
     "text": [
      "2025-04-20 13:10:07,505 - INFO - Downloaded logs_n8cimzuo:v0 to /scratch/downloaded_artifacts/logs_n8cimzuo:v0\n"
     ]
    },
    {
     "name": "stderr",
     "output_type": "stream",
     "text": [
      "\u001b[34m\u001b[1mwandb\u001b[0m:   1 of 1 files downloaded.  \n"
     ]
    },
    {
     "name": "stdout",
     "output_type": "stream",
     "text": [
      "2025-04-20 13:10:07,624 - INFO - Downloaded logs_i1zzinv5:v0 to /scratch/downloaded_artifacts/logs_i1zzinv5:v0\n"
     ]
    },
    {
     "name": "stderr",
     "output_type": "stream",
     "text": [
      "\u001b[34m\u001b[1mwandb\u001b[0m:   1 of 1 files downloaded.  \n",
      "\u001b[34m\u001b[1mwandb\u001b[0m:   1 of 1 files downloaded.  \n"
     ]
    },
    {
     "name": "stdout",
     "output_type": "stream",
     "text": [
      "2025-04-20 13:10:07,659 - INFO - Downloaded logs_q26juf24:v0 to /scratch/downloaded_artifacts/logs_q26juf24:v0\n",
      "2025-04-20 13:10:07,662 - INFO - Downloaded logs_9879snzz:v0 to /scratch/downloaded_artifacts/logs_9879snzz:v0\n"
     ]
    },
    {
     "name": "stderr",
     "output_type": "stream",
     "text": [
      "\u001b[34m\u001b[1mwandb\u001b[0m:   1 of 1 files downloaded.  \n"
     ]
    },
    {
     "name": "stdout",
     "output_type": "stream",
     "text": [
      "2025-04-20 13:10:07,790 - INFO - Downloaded logs_oma8n7wh:v0 to /scratch/downloaded_artifacts/logs_oma8n7wh:v0\n"
     ]
    },
    {
     "name": "stderr",
     "output_type": "stream",
     "text": [
      "\u001b[34m\u001b[1mwandb\u001b[0m:   1 of 1 files downloaded.  \n"
     ]
    },
    {
     "name": "stdout",
     "output_type": "stream",
     "text": [
      "2025-04-20 13:10:07,843 - INFO - Downloaded logs_qbmiakcl:v0 to /scratch/downloaded_artifacts/logs_qbmiakcl:v0\n"
     ]
    },
    {
     "name": "stderr",
     "output_type": "stream",
     "text": [
      "\u001b[34m\u001b[1mwandb\u001b[0m:   1 of 1 files downloaded.  \n"
     ]
    },
    {
     "name": "stdout",
     "output_type": "stream",
     "text": [
      "2025-04-20 13:10:07,861 - INFO - Downloaded logs_xgw8ipul:v0 to /scratch/downloaded_artifacts/logs_xgw8ipul:v0\n"
     ]
    },
    {
     "name": "stderr",
     "output_type": "stream",
     "text": [
      "\u001b[34m\u001b[1mwandb\u001b[0m:   1 of 1 files downloaded.  \n"
     ]
    },
    {
     "name": "stdout",
     "output_type": "stream",
     "text": [
      "2025-04-20 13:10:07,867 - INFO - Downloaded logs_xr4nobg9:v0 to /scratch/downloaded_artifacts/logs_xr4nobg9:v0\n"
     ]
    },
    {
     "name": "stderr",
     "output_type": "stream",
     "text": [
      "\u001b[34m\u001b[1mwandb\u001b[0m:   1 of 1 files downloaded.  \n"
     ]
    },
    {
     "name": "stdout",
     "output_type": "stream",
     "text": [
      "2025-04-20 13:10:07,991 - INFO - Downloaded logs_9rvwezph:v0 to /scratch/downloaded_artifacts/logs_9rvwezph:v0\n"
     ]
    },
    {
     "name": "stderr",
     "output_type": "stream",
     "text": [
      "\u001b[34m\u001b[1mwandb\u001b[0m:   1 of 1 files downloaded.  \n"
     ]
    },
    {
     "name": "stdout",
     "output_type": "stream",
     "text": [
      "2025-04-20 13:10:08,000 - INFO - Downloaded logs_ooex5yra:v0 to /scratch/downloaded_artifacts/logs_ooex5yra:v0\n"
     ]
    },
    {
     "name": "stderr",
     "output_type": "stream",
     "text": [
      "\u001b[34m\u001b[1mwandb\u001b[0m:   1 of 1 files downloaded.  \n"
     ]
    },
    {
     "name": "stdout",
     "output_type": "stream",
     "text": [
      "2025-04-20 13:10:08,122 - INFO - Downloaded logs_3as6mrna:v0 to /scratch/downloaded_artifacts/logs_3as6mrna:v0\n"
     ]
    },
    {
     "name": "stderr",
     "output_type": "stream",
     "text": [
      "\u001b[34m\u001b[1mwandb\u001b[0m:   1 of 1 files downloaded.  \n"
     ]
    },
    {
     "name": "stdout",
     "output_type": "stream",
     "text": [
      "2025-04-20 13:10:08,278 - INFO - Downloaded logs_hykoeq19:v0 to /scratch/downloaded_artifacts/logs_hykoeq19:v0\n"
     ]
    },
    {
     "name": "stderr",
     "output_type": "stream",
     "text": [
      "\u001b[34m\u001b[1mwandb\u001b[0m:   1 of 1 files downloaded.  \n",
      "\u001b[34m\u001b[1mwandb\u001b[0m:   1 of 1 files downloaded.  \n"
     ]
    },
    {
     "name": "stdout",
     "output_type": "stream",
     "text": [
      "2025-04-20 13:10:08,327 - INFO - Downloaded logs_ueybtd7n:v0 to /scratch/downloaded_artifacts/logs_ueybtd7n:v0\n",
      "2025-04-20 13:10:08,329 - INFO - Downloaded logs_5m8mgchu:v0 to /scratch/downloaded_artifacts/logs_5m8mgchu:v0\n"
     ]
    },
    {
     "name": "stderr",
     "output_type": "stream",
     "text": [
      "\u001b[34m\u001b[1mwandb\u001b[0m:   1 of 1 files downloaded.  \n"
     ]
    },
    {
     "name": "stdout",
     "output_type": "stream",
     "text": [
      "2025-04-20 13:10:08,361 - INFO - Downloaded logs_opdp0hze:v0 to /scratch/downloaded_artifacts/logs_opdp0hze:v0\n"
     ]
    },
    {
     "name": "stderr",
     "output_type": "stream",
     "text": [
      "\u001b[34m\u001b[1mwandb\u001b[0m:   1 of 1 files downloaded.  \n"
     ]
    },
    {
     "name": "stdout",
     "output_type": "stream",
     "text": [
      "2025-04-20 13:10:08,396 - INFO - Downloaded logs_q2g80t3g:v0 to /scratch/downloaded_artifacts/logs_q2g80t3g:v0\n"
     ]
    },
    {
     "name": "stderr",
     "output_type": "stream",
     "text": [
      "\u001b[34m\u001b[1mwandb\u001b[0m:   1 of 1 files downloaded.  \n"
     ]
    },
    {
     "name": "stdout",
     "output_type": "stream",
     "text": [
      "2025-04-20 13:10:08,411 - INFO - Downloaded logs_2vctks5q:v0 to /scratch/downloaded_artifacts/logs_2vctks5q:v0\n"
     ]
    },
    {
     "name": "stderr",
     "output_type": "stream",
     "text": [
      "\u001b[34m\u001b[1mwandb\u001b[0m:   1 of 1 files downloaded.  \n"
     ]
    },
    {
     "name": "stdout",
     "output_type": "stream",
     "text": [
      "2025-04-20 13:10:08,561 - INFO - Downloaded logs_8l9gs557:v0 to /scratch/downloaded_artifacts/logs_8l9gs557:v0\n"
     ]
    },
    {
     "name": "stderr",
     "output_type": "stream",
     "text": [
      "\u001b[34m\u001b[1mwandb\u001b[0m:   1 of 1 files downloaded.  \n"
     ]
    },
    {
     "name": "stdout",
     "output_type": "stream",
     "text": [
      "2025-04-20 13:10:08,816 - INFO - Downloaded logs_ddi25rg8:v0 to /scratch/downloaded_artifacts/logs_ddi25rg8:v0\n"
     ]
    },
    {
     "name": "stderr",
     "output_type": "stream",
     "text": [
      "\u001b[34m\u001b[1mwandb\u001b[0m:   1 of 1 files downloaded.  \n"
     ]
    },
    {
     "name": "stdout",
     "output_type": "stream",
     "text": [
      "2025-04-20 13:10:08,862 - INFO - Downloaded logs_csexdw6r:v0 to /scratch/downloaded_artifacts/logs_csexdw6r:v0\n"
     ]
    },
    {
     "name": "stderr",
     "output_type": "stream",
     "text": [
      "\u001b[34m\u001b[1mwandb\u001b[0m:   1 of 1 files downloaded.  \n",
      "\u001b[34m\u001b[1mwandb\u001b[0m:   1 of 1 files downloaded.  \n"
     ]
    },
    {
     "name": "stdout",
     "output_type": "stream",
     "text": [
      "2025-04-20 13:10:08,898 - INFO - Downloaded logs_8nzo3cyp:v0 to /scratch/downloaded_artifacts/logs_8nzo3cyp:v0\n",
      "2025-04-20 13:10:08,899 - INFO - Downloaded logs_fj4aaoce:v0 to /scratch/downloaded_artifacts/logs_fj4aaoce:v0\n"
     ]
    },
    {
     "name": "stderr",
     "output_type": "stream",
     "text": [
      "\u001b[34m\u001b[1mwandb\u001b[0m:   1 of 1 files downloaded.  \n"
     ]
    },
    {
     "name": "stdout",
     "output_type": "stream",
     "text": [
      "2025-04-20 13:10:08,942 - INFO - Downloaded logs_ijm2nvoq:v0 to /scratch/downloaded_artifacts/logs_ijm2nvoq:v0\n"
     ]
    },
    {
     "name": "stderr",
     "output_type": "stream",
     "text": [
      "\u001b[34m\u001b[1mwandb\u001b[0m:   1 of 1 files downloaded.  \n"
     ]
    },
    {
     "name": "stdout",
     "output_type": "stream",
     "text": [
      "2025-04-20 13:10:09,045 - INFO - Downloaded logs_jcw5opzv:v0 to /scratch/downloaded_artifacts/logs_jcw5opzv:v0\n"
     ]
    },
    {
     "name": "stderr",
     "output_type": "stream",
     "text": [
      "\u001b[34m\u001b[1mwandb\u001b[0m: \u001b[32m\u001b[41mERROR\u001b[0m Error while calling W&B API: rate limit exceeded (<Response [429]>)\n",
      "\u001b[34m\u001b[1mwandb\u001b[0m: \u001b[32m\u001b[41mERROR\u001b[0m Error while calling W&B API: rate limit exceeded (<Response [429]>)\n",
      "\u001b[34m\u001b[1mwandb\u001b[0m: \u001b[32m\u001b[41mERROR\u001b[0m Error while calling W&B API: rate limit exceeded (<Response [429]>)\n",
      "\u001b[34m\u001b[1mwandb\u001b[0m:   1 of 1 files downloaded.  \n"
     ]
    },
    {
     "name": "stdout",
     "output_type": "stream",
     "text": [
      "2025-04-20 13:10:09,132 - INFO - Downloaded logs_vw0l2crw:v0 to /scratch/downloaded_artifacts/logs_vw0l2crw:v0\n"
     ]
    },
    {
     "name": "stderr",
     "output_type": "stream",
     "text": [
      "\u001b[34m\u001b[1mwandb\u001b[0m:   1 of 1 files downloaded.  \n"
     ]
    },
    {
     "name": "stdout",
     "output_type": "stream",
     "text": [
      "2025-04-20 13:10:09,159 - INFO - Downloaded logs_q63z4ih4:v0 to /scratch/downloaded_artifacts/logs_q63z4ih4:v0\n"
     ]
    },
    {
     "name": "stderr",
     "output_type": "stream",
     "text": [
      "\u001b[34m\u001b[1mwandb\u001b[0m: \u001b[32m\u001b[41mERROR\u001b[0m Error while calling W&B API: rate limit exceeded (<Response [429]>)\n",
      "\u001b[34m\u001b[1mwandb\u001b[0m:   1 of 1 files downloaded.  \n"
     ]
    },
    {
     "name": "stdout",
     "output_type": "stream",
     "text": [
      "2025-04-20 13:10:09,305 - INFO - Downloaded logs_tnw7jtko:v0 to /scratch/downloaded_artifacts/logs_tnw7jtko:v0\n"
     ]
    },
    {
     "name": "stderr",
     "output_type": "stream",
     "text": [
      "\u001b[34m\u001b[1mwandb\u001b[0m:   1 of 1 files downloaded.  \n"
     ]
    },
    {
     "name": "stdout",
     "output_type": "stream",
     "text": [
      "2025-04-20 13:10:09,392 - INFO - Downloaded logs_xq8d8byd:v0 to /scratch/downloaded_artifacts/logs_xq8d8byd:v0\n"
     ]
    },
    {
     "name": "stderr",
     "output_type": "stream",
     "text": [
      "\u001b[34m\u001b[1mwandb\u001b[0m:   1 of 1 files downloaded.  \n"
     ]
    },
    {
     "name": "stdout",
     "output_type": "stream",
     "text": [
      "2025-04-20 13:10:09,448 - INFO - Downloaded logs_kdey0r6b:v0 to /scratch/downloaded_artifacts/logs_kdey0r6b:v0\n"
     ]
    },
    {
     "name": "stderr",
     "output_type": "stream",
     "text": [
      "\u001b[34m\u001b[1mwandb\u001b[0m:   1 of 1 files downloaded.  \n"
     ]
    },
    {
     "name": "stdout",
     "output_type": "stream",
     "text": [
      "2025-04-20 13:10:09,494 - INFO - Downloaded logs_z0fowmhq:v0 to /scratch/downloaded_artifacts/logs_z0fowmhq:v0\n"
     ]
    },
    {
     "name": "stderr",
     "output_type": "stream",
     "text": [
      "\u001b[34m\u001b[1mwandb\u001b[0m:   1 of 1 files downloaded.  \n"
     ]
    },
    {
     "name": "stdout",
     "output_type": "stream",
     "text": [
      "2025-04-20 13:10:09,514 - INFO - Downloaded logs_r4266k9t:v0 to /scratch/downloaded_artifacts/logs_r4266k9t:v0\n"
     ]
    },
    {
     "name": "stderr",
     "output_type": "stream",
     "text": [
      "\u001b[34m\u001b[1mwandb\u001b[0m:   1 of 1 files downloaded.  \n"
     ]
    },
    {
     "name": "stdout",
     "output_type": "stream",
     "text": [
      "2025-04-20 13:10:09,541 - INFO - Downloaded logs_9e14fvyo:v0 to /scratch/downloaded_artifacts/logs_9e14fvyo:v0\n"
     ]
    },
    {
     "name": "stderr",
     "output_type": "stream",
     "text": [
      "\u001b[34m\u001b[1mwandb\u001b[0m:   1 of 1 files downloaded.  \n"
     ]
    },
    {
     "name": "stdout",
     "output_type": "stream",
     "text": [
      "2025-04-20 13:10:09,561 - INFO - Downloaded logs_chvrc4qk:v0 to /scratch/downloaded_artifacts/logs_chvrc4qk:v0\n"
     ]
    },
    {
     "name": "stderr",
     "output_type": "stream",
     "text": [
      "\u001b[34m\u001b[1mwandb\u001b[0m:   1 of 1 files downloaded.  \n"
     ]
    },
    {
     "name": "stdout",
     "output_type": "stream",
     "text": [
      "2025-04-20 13:10:09,656 - INFO - Downloaded logs_xuux80j2:v0 to /scratch/downloaded_artifacts/logs_xuux80j2:v0\n"
     ]
    },
    {
     "name": "stderr",
     "output_type": "stream",
     "text": [
      "\u001b[34m\u001b[1mwandb\u001b[0m:   1 of 1 files downloaded.  \n"
     ]
    },
    {
     "name": "stdout",
     "output_type": "stream",
     "text": [
      "2025-04-20 13:10:09,707 - INFO - Downloaded logs_38cm1sf7:v0 to /scratch/downloaded_artifacts/logs_38cm1sf7:v0\n"
     ]
    },
    {
     "name": "stderr",
     "output_type": "stream",
     "text": [
      "\u001b[34m\u001b[1mwandb\u001b[0m:   1 of 1 files downloaded.  \n"
     ]
    },
    {
     "name": "stdout",
     "output_type": "stream",
     "text": [
      "2025-04-20 13:10:09,730 - INFO - Downloaded logs_fnesd318:v0 to /scratch/downloaded_artifacts/logs_fnesd318:v0\n"
     ]
    },
    {
     "name": "stderr",
     "output_type": "stream",
     "text": [
      "\u001b[34m\u001b[1mwandb\u001b[0m:   1 of 1 files downloaded.  \n"
     ]
    },
    {
     "name": "stdout",
     "output_type": "stream",
     "text": [
      "2025-04-20 13:10:09,743 - INFO - Downloaded logs_ittrgyi0:v0 to /scratch/downloaded_artifacts/logs_ittrgyi0:v0\n"
     ]
    },
    {
     "name": "stderr",
     "output_type": "stream",
     "text": [
      "\u001b[34m\u001b[1mwandb\u001b[0m: \u001b[32m\u001b[41mERROR\u001b[0m Error while calling W&B API: rate limit exceeded (<Response [429]>)\n",
      "\u001b[34m\u001b[1mwandb\u001b[0m: Network error (HTTPError), entering retry loop.\n",
      "\u001b[34m\u001b[1mwandb\u001b[0m: \u001b[32m\u001b[41mERROR\u001b[0m Error while calling W&B API: rate limit exceeded (<Response [429]>)\n",
      "\u001b[34m\u001b[1mwandb\u001b[0m: \u001b[32m\u001b[41mERROR\u001b[0m Error while calling W&B API: rate limit exceeded (<Response [429]>)\n",
      "\u001b[34m\u001b[1mwandb\u001b[0m: \u001b[32m\u001b[41mERROR\u001b[0m Error while calling W&B API: rate limit exceeded (<Response [429]>)\n",
      "\u001b[34m\u001b[1mwandb\u001b[0m: \u001b[32m\u001b[41mERROR\u001b[0m Error while calling W&B API: rate limit exceeded (<Response [429]>)\n",
      "\u001b[34m\u001b[1mwandb\u001b[0m: Network error (HTTPError), entering retry loop.\n",
      "\u001b[34m\u001b[1mwandb\u001b[0m: \u001b[32m\u001b[41mERROR\u001b[0m Error while calling W&B API: rate limit exceeded (<Response [429]>)\n",
      "\u001b[34m\u001b[1mwandb\u001b[0m: Network error (HTTPError), entering retry loop.\n",
      "\u001b[34m\u001b[1mwandb\u001b[0m: \u001b[32m\u001b[41mERROR\u001b[0m Error while calling W&B API: rate limit exceeded (<Response [429]>)\n",
      "\u001b[34m\u001b[1mwandb\u001b[0m: Network error (HTTPError), entering retry loop.\n",
      "\u001b[34m\u001b[1mwandb\u001b[0m: \u001b[32m\u001b[41mERROR\u001b[0m Error while calling W&B API: rate limit exceeded (<Response [429]>)\n",
      "\u001b[34m\u001b[1mwandb\u001b[0m: Network error (HTTPError), entering retry loop.\n",
      "\u001b[34m\u001b[1mwandb\u001b[0m:   1 of 1 files downloaded.  \n"
     ]
    },
    {
     "name": "stdout",
     "output_type": "stream",
     "text": [
      "2025-04-20 13:10:17,610 - INFO - Downloaded logs_5emf4f3u:v0 to /scratch/downloaded_artifacts/logs_5emf4f3u:v0\n"
     ]
    },
    {
     "name": "stderr",
     "output_type": "stream",
     "text": [
      "\u001b[34m\u001b[1mwandb\u001b[0m:   1 of 1 files downloaded.  \n"
     ]
    },
    {
     "name": "stdout",
     "output_type": "stream",
     "text": [
      "2025-04-20 13:10:17,719 - INFO - Downloaded logs_832rancx:v0 to /scratch/downloaded_artifacts/logs_832rancx:v0\n"
     ]
    },
    {
     "name": "stderr",
     "output_type": "stream",
     "text": [
      "\u001b[34m\u001b[1mwandb\u001b[0m:   1 of 1 files downloaded.  \n"
     ]
    },
    {
     "name": "stdout",
     "output_type": "stream",
     "text": [
      "2025-04-20 13:10:17,810 - INFO - Downloaded logs_r4dh2k6j:v0 to /scratch/downloaded_artifacts/logs_r4dh2k6j:v0\n"
     ]
    },
    {
     "name": "stderr",
     "output_type": "stream",
     "text": [
      "\u001b[34m\u001b[1mwandb\u001b[0m:   1 of 1 files downloaded.  \n"
     ]
    },
    {
     "name": "stdout",
     "output_type": "stream",
     "text": [
      "2025-04-20 13:10:17,881 - INFO - Downloaded logs_1klpzc52:v0 to /scratch/downloaded_artifacts/logs_1klpzc52:v0\n"
     ]
    },
    {
     "name": "stderr",
     "output_type": "stream",
     "text": [
      "\u001b[34m\u001b[1mwandb\u001b[0m:   1 of 1 files downloaded.  \n"
     ]
    },
    {
     "name": "stdout",
     "output_type": "stream",
     "text": [
      "2025-04-20 13:10:17,894 - INFO - Downloaded logs_lhx0lzwd:v0 to /scratch/downloaded_artifacts/logs_lhx0lzwd:v0\n"
     ]
    },
    {
     "name": "stderr",
     "output_type": "stream",
     "text": [
      "\u001b[34m\u001b[1mwandb\u001b[0m:   1 of 1 files downloaded.  \n"
     ]
    },
    {
     "name": "stdout",
     "output_type": "stream",
     "text": [
      "2025-04-20 13:10:17,924 - INFO - Downloaded logs_ps0jlzqi:v0 to /scratch/downloaded_artifacts/logs_ps0jlzqi:v0\n"
     ]
    },
    {
     "name": "stderr",
     "output_type": "stream",
     "text": [
      "\u001b[34m\u001b[1mwandb\u001b[0m:   1 of 1 files downloaded.  \n"
     ]
    },
    {
     "name": "stdout",
     "output_type": "stream",
     "text": [
      "2025-04-20 13:10:18,005 - INFO - Downloaded logs_z5doyh9b:v0 to /scratch/downloaded_artifacts/logs_z5doyh9b:v0\n"
     ]
    },
    {
     "name": "stderr",
     "output_type": "stream",
     "text": [
      "\u001b[34m\u001b[1mwandb\u001b[0m:   1 of 1 files downloaded.  \n"
     ]
    },
    {
     "name": "stdout",
     "output_type": "stream",
     "text": [
      "2025-04-20 13:10:18,378 - INFO - Downloaded logs_qzll893w:v0 to /scratch/downloaded_artifacts/logs_qzll893w:v0\n"
     ]
    },
    {
     "name": "stderr",
     "output_type": "stream",
     "text": [
      "\u001b[34m\u001b[1mwandb\u001b[0m:   1 of 1 files downloaded.  \n"
     ]
    },
    {
     "name": "stdout",
     "output_type": "stream",
     "text": [
      "2025-04-20 13:10:18,430 - INFO - Downloaded logs_2gdm3ec2:v0 to /scratch/downloaded_artifacts/logs_2gdm3ec2:v0\n"
     ]
    },
    {
     "name": "stderr",
     "output_type": "stream",
     "text": [
      "\u001b[34m\u001b[1mwandb\u001b[0m:   1 of 1 files downloaded.  \n"
     ]
    },
    {
     "name": "stdout",
     "output_type": "stream",
     "text": [
      "2025-04-20 13:10:18,457 - INFO - Downloaded logs_sjz6arif:v0 to /scratch/downloaded_artifacts/logs_sjz6arif:v0\n"
     ]
    },
    {
     "name": "stderr",
     "output_type": "stream",
     "text": [
      "\u001b[34m\u001b[1mwandb\u001b[0m:   1 of 1 files downloaded.  \n"
     ]
    },
    {
     "name": "stdout",
     "output_type": "stream",
     "text": [
      "2025-04-20 13:10:18,912 - INFO - Downloaded logs_l75wa0p8:v0 to /scratch/downloaded_artifacts/logs_l75wa0p8:v0\n"
     ]
    },
    {
     "name": "stderr",
     "output_type": "stream",
     "text": [
      "\u001b[34m\u001b[1mwandb\u001b[0m:   1 of 1 files downloaded.  \n"
     ]
    },
    {
     "name": "stdout",
     "output_type": "stream",
     "text": [
      "2025-04-20 13:10:18,967 - INFO - Downloaded logs_q1rubf7y:v0 to /scratch/downloaded_artifacts/logs_q1rubf7y:v0\n"
     ]
    },
    {
     "name": "stderr",
     "output_type": "stream",
     "text": [
      "\u001b[34m\u001b[1mwandb\u001b[0m:   1 of 1 files downloaded.  \n"
     ]
    },
    {
     "name": "stdout",
     "output_type": "stream",
     "text": [
      "2025-04-20 13:10:19,076 - INFO - Downloaded logs_2sz5jo3u:v0 to /scratch/downloaded_artifacts/logs_2sz5jo3u:v0\n"
     ]
    },
    {
     "name": "stderr",
     "output_type": "stream",
     "text": [
      "\u001b[34m\u001b[1mwandb\u001b[0m:   1 of 1 files downloaded.  \n"
     ]
    },
    {
     "name": "stdout",
     "output_type": "stream",
     "text": [
      "2025-04-20 13:10:19,459 - INFO - Downloaded logs_0350uwbv:v0 to /scratch/downloaded_artifacts/logs_0350uwbv:v0\n"
     ]
    },
    {
     "name": "stderr",
     "output_type": "stream",
     "text": [
      "\u001b[34m\u001b[1mwandb\u001b[0m:   1 of 1 files downloaded.  \n"
     ]
    },
    {
     "name": "stdout",
     "output_type": "stream",
     "text": [
      "2025-04-20 13:10:19,546 - INFO - Downloaded logs_qhs2jpkr:v0 to /scratch/downloaded_artifacts/logs_qhs2jpkr:v0\n"
     ]
    },
    {
     "name": "stderr",
     "output_type": "stream",
     "text": [
      "\u001b[34m\u001b[1mwandb\u001b[0m:   1 of 1 files downloaded.  \n"
     ]
    },
    {
     "name": "stdout",
     "output_type": "stream",
     "text": [
      "2025-04-20 13:10:19,559 - INFO - Downloaded logs_2w6z4tnk:v0 to /scratch/downloaded_artifacts/logs_2w6z4tnk:v0\n"
     ]
    },
    {
     "name": "stderr",
     "output_type": "stream",
     "text": [
      "\u001b[34m\u001b[1mwandb\u001b[0m:   1 of 1 files downloaded.  \n"
     ]
    },
    {
     "name": "stdout",
     "output_type": "stream",
     "text": [
      "2025-04-20 13:10:19,565 - INFO - Downloaded logs_xd21c4za:v0 to /scratch/downloaded_artifacts/logs_xd21c4za:v0\n"
     ]
    },
    {
     "name": "stderr",
     "output_type": "stream",
     "text": [
      "\u001b[34m\u001b[1mwandb\u001b[0m:   1 of 1 files downloaded.  \n"
     ]
    },
    {
     "name": "stdout",
     "output_type": "stream",
     "text": [
      "2025-04-20 13:10:19,596 - INFO - Downloaded logs_cd3dn3js:v0 to /scratch/downloaded_artifacts/logs_cd3dn3js:v0\n"
     ]
    },
    {
     "name": "stderr",
     "output_type": "stream",
     "text": [
      "\u001b[34m\u001b[1mwandb\u001b[0m:   1 of 1 files downloaded.  \n"
     ]
    },
    {
     "name": "stdout",
     "output_type": "stream",
     "text": [
      "2025-04-20 13:10:19,618 - INFO - Downloaded logs_61b3bkl1:v0 to /scratch/downloaded_artifacts/logs_61b3bkl1:v0\n"
     ]
    },
    {
     "name": "stderr",
     "output_type": "stream",
     "text": [
      "\u001b[34m\u001b[1mwandb\u001b[0m:   1 of 1 files downloaded.  \n"
     ]
    },
    {
     "name": "stdout",
     "output_type": "stream",
     "text": [
      "2025-04-20 13:10:19,642 - INFO - Downloaded logs_yigtyy7l:v0 to /scratch/downloaded_artifacts/logs_yigtyy7l:v0\n"
     ]
    },
    {
     "name": "stderr",
     "output_type": "stream",
     "text": [
      "\u001b[34m\u001b[1mwandb\u001b[0m:   1 of 1 files downloaded.  \n"
     ]
    },
    {
     "name": "stdout",
     "output_type": "stream",
     "text": [
      "2025-04-20 13:10:19,764 - INFO - Downloaded logs_imja3wjh:v0 to /scratch/downloaded_artifacts/logs_imja3wjh:v0\n"
     ]
    },
    {
     "name": "stderr",
     "output_type": "stream",
     "text": [
      "\u001b[34m\u001b[1mwandb\u001b[0m:   1 of 1 files downloaded.  \n"
     ]
    },
    {
     "name": "stdout",
     "output_type": "stream",
     "text": [
      "2025-04-20 13:10:19,803 - INFO - Downloaded logs_0znda0ee:v0 to /scratch/downloaded_artifacts/logs_0znda0ee:v0\n"
     ]
    },
    {
     "name": "stderr",
     "output_type": "stream",
     "text": [
      "\u001b[34m\u001b[1mwandb\u001b[0m:   1 of 1 files downloaded.  \n"
     ]
    },
    {
     "name": "stdout",
     "output_type": "stream",
     "text": [
      "2025-04-20 13:10:19,820 - INFO - Downloaded logs_pklavgch:v0 to /scratch/downloaded_artifacts/logs_pklavgch:v0\n"
     ]
    },
    {
     "name": "stderr",
     "output_type": "stream",
     "text": [
      "\u001b[34m\u001b[1mwandb\u001b[0m:   1 of 1 files downloaded.  \n"
     ]
    },
    {
     "name": "stdout",
     "output_type": "stream",
     "text": [
      "2025-04-20 13:10:19,832 - INFO - Downloaded logs_ohtmu0se:v0 to /scratch/downloaded_artifacts/logs_ohtmu0se:v0\n"
     ]
    },
    {
     "name": "stderr",
     "output_type": "stream",
     "text": [
      "\u001b[34m\u001b[1mwandb\u001b[0m:   1 of 1 files downloaded.  \n"
     ]
    },
    {
     "name": "stdout",
     "output_type": "stream",
     "text": [
      "2025-04-20 13:10:19,874 - INFO - Downloaded logs_c93roha7:v0 to /scratch/downloaded_artifacts/logs_c93roha7:v0\n"
     ]
    },
    {
     "name": "stderr",
     "output_type": "stream",
     "text": [
      "\u001b[34m\u001b[1mwandb\u001b[0m:   1 of 1 files downloaded.  \n"
     ]
    },
    {
     "name": "stdout",
     "output_type": "stream",
     "text": [
      "2025-04-20 13:10:19,895 - INFO - Downloaded logs_p7mxn46a:v0 to /scratch/downloaded_artifacts/logs_p7mxn46a:v0\n"
     ]
    },
    {
     "name": "stderr",
     "output_type": "stream",
     "text": [
      "\u001b[34m\u001b[1mwandb\u001b[0m:   1 of 1 files downloaded.  \n"
     ]
    },
    {
     "name": "stdout",
     "output_type": "stream",
     "text": [
      "2025-04-20 13:10:19,942 - INFO - Downloaded logs_xohaljpg:v0 to /scratch/downloaded_artifacts/logs_xohaljpg:v0\n"
     ]
    },
    {
     "name": "stderr",
     "output_type": "stream",
     "text": [
      "\u001b[34m\u001b[1mwandb\u001b[0m:   1 of 1 files downloaded.  \n"
     ]
    },
    {
     "name": "stdout",
     "output_type": "stream",
     "text": [
      "2025-04-20 13:10:20,152 - INFO - Downloaded logs_2f974rcf:v0 to /scratch/downloaded_artifacts/logs_2f974rcf:v0\n"
     ]
    },
    {
     "name": "stderr",
     "output_type": "stream",
     "text": [
      "\u001b[34m\u001b[1mwandb\u001b[0m:   1 of 1 files downloaded.  \n"
     ]
    },
    {
     "name": "stdout",
     "output_type": "stream",
     "text": [
      "2025-04-20 13:10:20,160 - INFO - Downloaded logs_enp35vnl:v0 to /scratch/downloaded_artifacts/logs_enp35vnl:v0\n"
     ]
    },
    {
     "name": "stderr",
     "output_type": "stream",
     "text": [
      "\u001b[34m\u001b[1mwandb\u001b[0m:   1 of 1 files downloaded.  \n"
     ]
    },
    {
     "name": "stdout",
     "output_type": "stream",
     "text": [
      "2025-04-20 13:10:20,208 - INFO - Downloaded logs_4qfauqgw:v0 to /scratch/downloaded_artifacts/logs_4qfauqgw:v0\n"
     ]
    },
    {
     "name": "stderr",
     "output_type": "stream",
     "text": [
      "\u001b[34m\u001b[1mwandb\u001b[0m:   1 of 1 files downloaded.  \n"
     ]
    },
    {
     "name": "stdout",
     "output_type": "stream",
     "text": [
      "2025-04-20 13:10:20,291 - INFO - Downloaded logs_8sd415cl:v0 to /scratch/downloaded_artifacts/logs_8sd415cl:v0\n"
     ]
    },
    {
     "name": "stderr",
     "output_type": "stream",
     "text": [
      "\u001b[34m\u001b[1mwandb\u001b[0m:   1 of 1 files downloaded.  \n"
     ]
    },
    {
     "name": "stdout",
     "output_type": "stream",
     "text": [
      "2025-04-20 13:10:20,299 - INFO - Downloaded logs_geebva2v:v0 to /scratch/downloaded_artifacts/logs_geebva2v:v0\n"
     ]
    },
    {
     "name": "stderr",
     "output_type": "stream",
     "text": [
      "\u001b[34m\u001b[1mwandb\u001b[0m:   1 of 1 files downloaded.  \n"
     ]
    },
    {
     "name": "stdout",
     "output_type": "stream",
     "text": [
      "2025-04-20 13:10:20,377 - INFO - Downloaded logs_sp962ib4:v0 to /scratch/downloaded_artifacts/logs_sp962ib4:v0\n"
     ]
    },
    {
     "name": "stderr",
     "output_type": "stream",
     "text": [
      "\u001b[34m\u001b[1mwandb\u001b[0m:   1 of 1 files downloaded.  \n"
     ]
    },
    {
     "name": "stdout",
     "output_type": "stream",
     "text": [
      "2025-04-20 13:10:20,873 - INFO - Downloaded logs_vo0o6lt3:v0 to /scratch/downloaded_artifacts/logs_vo0o6lt3:v0\n"
     ]
    },
    {
     "name": "stderr",
     "output_type": "stream",
     "text": [
      "\u001b[34m\u001b[1mwandb\u001b[0m:   1 of 1 files downloaded.  \n"
     ]
    },
    {
     "name": "stdout",
     "output_type": "stream",
     "text": [
      "2025-04-20 13:10:21,041 - INFO - Downloaded logs_wl8n5cr1:v0 to /scratch/downloaded_artifacts/logs_wl8n5cr1:v0\n"
     ]
    },
    {
     "name": "stderr",
     "output_type": "stream",
     "text": [
      "\u001b[34m\u001b[1mwandb\u001b[0m:   1 of 1 files downloaded.  \n"
     ]
    },
    {
     "name": "stdout",
     "output_type": "stream",
     "text": [
      "2025-04-20 13:10:21,117 - INFO - Downloaded logs_brg1dslh:v0 to /scratch/downloaded_artifacts/logs_brg1dslh:v0\n"
     ]
    },
    {
     "name": "stderr",
     "output_type": "stream",
     "text": [
      "\u001b[34m\u001b[1mwandb\u001b[0m:   1 of 1 files downloaded.  \n"
     ]
    },
    {
     "name": "stdout",
     "output_type": "stream",
     "text": [
      "2025-04-20 13:10:21,140 - INFO - Downloaded logs_lm0quhha:v0 to /scratch/downloaded_artifacts/logs_lm0quhha:v0\n"
     ]
    },
    {
     "name": "stderr",
     "output_type": "stream",
     "text": [
      "\u001b[34m\u001b[1mwandb\u001b[0m:   1 of 1 files downloaded.  \n"
     ]
    },
    {
     "name": "stdout",
     "output_type": "stream",
     "text": [
      "2025-04-20 13:10:21,188 - INFO - Downloaded logs_ksh3k28b:v0 to /scratch/downloaded_artifacts/logs_ksh3k28b:v0\n"
     ]
    },
    {
     "name": "stderr",
     "output_type": "stream",
     "text": [
      "\u001b[34m\u001b[1mwandb\u001b[0m:   1 of 1 files downloaded.  \n"
     ]
    },
    {
     "name": "stdout",
     "output_type": "stream",
     "text": [
      "2025-04-20 13:10:21,199 - INFO - Downloaded logs_eplhm8aw:v0 to /scratch/downloaded_artifacts/logs_eplhm8aw:v0\n"
     ]
    },
    {
     "name": "stderr",
     "output_type": "stream",
     "text": [
      "\u001b[34m\u001b[1mwandb\u001b[0m:   1 of 1 files downloaded.  \n"
     ]
    },
    {
     "name": "stdout",
     "output_type": "stream",
     "text": [
      "2025-04-20 13:10:21,243 - INFO - Downloaded logs_cou0fv3f:v0 to /scratch/downloaded_artifacts/logs_cou0fv3f:v0\n"
     ]
    },
    {
     "name": "stderr",
     "output_type": "stream",
     "text": [
      "\u001b[34m\u001b[1mwandb\u001b[0m:   1 of 1 files downloaded.  \n"
     ]
    },
    {
     "name": "stdout",
     "output_type": "stream",
     "text": [
      "2025-04-20 13:10:21,310 - INFO - Downloaded logs_ps1d3ie3:v0 to /scratch/downloaded_artifacts/logs_ps1d3ie3:v0\n"
     ]
    },
    {
     "name": "stderr",
     "output_type": "stream",
     "text": [
      "\u001b[34m\u001b[1mwandb\u001b[0m:   1 of 1 files downloaded.  \n"
     ]
    },
    {
     "name": "stdout",
     "output_type": "stream",
     "text": [
      "2025-04-20 13:10:21,369 - INFO - Downloaded logs_zi68pker:v0 to /scratch/downloaded_artifacts/logs_zi68pker:v0\n"
     ]
    },
    {
     "name": "stderr",
     "output_type": "stream",
     "text": [
      "\u001b[34m\u001b[1mwandb\u001b[0m:   1 of 1 files downloaded.  \n"
     ]
    },
    {
     "name": "stdout",
     "output_type": "stream",
     "text": [
      "2025-04-20 13:10:21,459 - INFO - Downloaded logs_ev8j7mf3:v0 to /scratch/downloaded_artifacts/logs_ev8j7mf3:v0\n"
     ]
    },
    {
     "name": "stderr",
     "output_type": "stream",
     "text": [
      "\u001b[34m\u001b[1mwandb\u001b[0m:   1 of 1 files downloaded.  \n"
     ]
    },
    {
     "name": "stdout",
     "output_type": "stream",
     "text": [
      "2025-04-20 13:10:21,467 - INFO - Downloaded logs_7yebg0jl:v0 to /scratch/downloaded_artifacts/logs_7yebg0jl:v0\n"
     ]
    },
    {
     "name": "stderr",
     "output_type": "stream",
     "text": [
      "\u001b[34m\u001b[1mwandb\u001b[0m:   1 of 1 files downloaded.  \n",
      "\u001b[34m\u001b[1mwandb\u001b[0m:   1 of 1 files downloaded.  \n"
     ]
    },
    {
     "name": "stdout",
     "output_type": "stream",
     "text": [
      "2025-04-20 13:10:21,510 - INFO - Downloaded logs_84c99wfk:v0 to /scratch/downloaded_artifacts/logs_84c99wfk:v0\n",
      "2025-04-20 13:10:21,510 - INFO - Downloaded logs_yv6315k4:v0 to /scratch/downloaded_artifacts/logs_yv6315k4:v0\n"
     ]
    },
    {
     "name": "stderr",
     "output_type": "stream",
     "text": [
      "\u001b[34m\u001b[1mwandb\u001b[0m:   1 of 1 files downloaded.  \n"
     ]
    },
    {
     "name": "stdout",
     "output_type": "stream",
     "text": [
      "2025-04-20 13:10:21,686 - INFO - Downloaded logs_b3vk1yn8:v0 to /scratch/downloaded_artifacts/logs_b3vk1yn8:v0\n"
     ]
    },
    {
     "name": "stderr",
     "output_type": "stream",
     "text": [
      "\u001b[34m\u001b[1mwandb\u001b[0m:   1 of 1 files downloaded.  \n"
     ]
    },
    {
     "name": "stdout",
     "output_type": "stream",
     "text": [
      "2025-04-20 13:10:21,743 - INFO - Downloaded logs_f92xedbc:v0 to /scratch/downloaded_artifacts/logs_f92xedbc:v0\n"
     ]
    },
    {
     "name": "stderr",
     "output_type": "stream",
     "text": [
      "\u001b[34m\u001b[1mwandb\u001b[0m:   1 of 1 files downloaded.  \n"
     ]
    },
    {
     "name": "stdout",
     "output_type": "stream",
     "text": [
      "2025-04-20 13:10:21,770 - INFO - Downloaded logs_em29gjua:v0 to /scratch/downloaded_artifacts/logs_em29gjua:v0\n"
     ]
    },
    {
     "name": "stderr",
     "output_type": "stream",
     "text": [
      "\u001b[34m\u001b[1mwandb\u001b[0m:   1 of 1 files downloaded.  \n"
     ]
    },
    {
     "name": "stdout",
     "output_type": "stream",
     "text": [
      "2025-04-20 13:10:21,777 - INFO - Downloaded logs_ji1guvh7:v0 to /scratch/downloaded_artifacts/logs_ji1guvh7:v0\n"
     ]
    },
    {
     "name": "stderr",
     "output_type": "stream",
     "text": [
      "\u001b[34m\u001b[1mwandb\u001b[0m:   1 of 1 files downloaded.  \n"
     ]
    },
    {
     "name": "stdout",
     "output_type": "stream",
     "text": [
      "2025-04-20 13:10:21,793 - INFO - Downloaded logs_qtda5zsp:v0 to /scratch/downloaded_artifacts/logs_qtda5zsp:v0\n"
     ]
    },
    {
     "name": "stderr",
     "output_type": "stream",
     "text": [
      "\u001b[34m\u001b[1mwandb\u001b[0m:   1 of 1 files downloaded.  \n"
     ]
    },
    {
     "name": "stdout",
     "output_type": "stream",
     "text": [
      "2025-04-20 13:10:21,816 - INFO - Downloaded logs_e0mtzxjd:v0 to /scratch/downloaded_artifacts/logs_e0mtzxjd:v0\n"
     ]
    },
    {
     "name": "stderr",
     "output_type": "stream",
     "text": [
      "\u001b[34m\u001b[1mwandb\u001b[0m:   1 of 1 files downloaded.  \n"
     ]
    },
    {
     "name": "stdout",
     "output_type": "stream",
     "text": [
      "2025-04-20 13:10:21,853 - INFO - Downloaded logs_sb1km1q4:v0 to /scratch/downloaded_artifacts/logs_sb1km1q4:v0\n"
     ]
    },
    {
     "name": "stderr",
     "output_type": "stream",
     "text": [
      "\u001b[34m\u001b[1mwandb\u001b[0m:   1 of 1 files downloaded.  \n"
     ]
    },
    {
     "name": "stdout",
     "output_type": "stream",
     "text": [
      "2025-04-20 13:10:22,281 - INFO - Downloaded logs_adl37fvz:v0 to /scratch/downloaded_artifacts/logs_adl37fvz:v0\n"
     ]
    },
    {
     "name": "stderr",
     "output_type": "stream",
     "text": [
      "\u001b[34m\u001b[1mwandb\u001b[0m:   1 of 1 files downloaded.  \n"
     ]
    },
    {
     "name": "stdout",
     "output_type": "stream",
     "text": [
      "2025-04-20 13:10:22,393 - INFO - Downloaded logs_2t0dn15k:v0 to /scratch/downloaded_artifacts/logs_2t0dn15k:v0\n"
     ]
    },
    {
     "name": "stderr",
     "output_type": "stream",
     "text": [
      "\u001b[34m\u001b[1mwandb\u001b[0m:   1 of 1 files downloaded.  \n"
     ]
    },
    {
     "name": "stdout",
     "output_type": "stream",
     "text": [
      "2025-04-20 13:10:22,482 - INFO - Downloaded logs_k32nsc28:v0 to /scratch/downloaded_artifacts/logs_k32nsc28:v0\n"
     ]
    },
    {
     "name": "stderr",
     "output_type": "stream",
     "text": [
      "\u001b[34m\u001b[1mwandb\u001b[0m:   1 of 1 files downloaded.  \n"
     ]
    },
    {
     "name": "stdout",
     "output_type": "stream",
     "text": [
      "2025-04-20 13:10:22,542 - INFO - Downloaded logs_kyhwapy8:v0 to /scratch/downloaded_artifacts/logs_kyhwapy8:v0\n"
     ]
    },
    {
     "name": "stderr",
     "output_type": "stream",
     "text": [
      "\u001b[34m\u001b[1mwandb\u001b[0m:   1 of 1 files downloaded.  \n"
     ]
    },
    {
     "name": "stdout",
     "output_type": "stream",
     "text": [
      "2025-04-20 13:10:22,546 - INFO - Downloaded logs_dhao7hbs:v0 to /scratch/downloaded_artifacts/logs_dhao7hbs:v0\n"
     ]
    },
    {
     "name": "stderr",
     "output_type": "stream",
     "text": [
      "\u001b[34m\u001b[1mwandb\u001b[0m:   1 of 1 files downloaded.  \n"
     ]
    },
    {
     "name": "stdout",
     "output_type": "stream",
     "text": [
      "2025-04-20 13:10:22,599 - INFO - Downloaded logs_bsant99p:v0 to /scratch/downloaded_artifacts/logs_bsant99p:v0\n"
     ]
    },
    {
     "name": "stderr",
     "output_type": "stream",
     "text": [
      "\u001b[34m\u001b[1mwandb\u001b[0m:   1 of 1 files downloaded.  \n"
     ]
    },
    {
     "name": "stdout",
     "output_type": "stream",
     "text": [
      "2025-04-20 13:10:22,644 - INFO - Downloaded logs_w1u8lk2c:v0 to /scratch/downloaded_artifacts/logs_w1u8lk2c:v0\n"
     ]
    },
    {
     "name": "stderr",
     "output_type": "stream",
     "text": [
      "\u001b[34m\u001b[1mwandb\u001b[0m:   1 of 1 files downloaded.  \n"
     ]
    },
    {
     "name": "stdout",
     "output_type": "stream",
     "text": [
      "2025-04-20 13:10:22,812 - INFO - Downloaded logs_q1benlrw:v0 to /scratch/downloaded_artifacts/logs_q1benlrw:v0\n"
     ]
    },
    {
     "name": "stderr",
     "output_type": "stream",
     "text": [
      "\u001b[34m\u001b[1mwandb\u001b[0m:   1 of 1 files downloaded.  \n"
     ]
    },
    {
     "name": "stdout",
     "output_type": "stream",
     "text": [
      "2025-04-20 13:10:23,021 - INFO - Downloaded logs_zjf5v2el:v0 to /scratch/downloaded_artifacts/logs_zjf5v2el:v0\n"
     ]
    },
    {
     "name": "stderr",
     "output_type": "stream",
     "text": [
      "\u001b[34m\u001b[1mwandb\u001b[0m:   1 of 1 files downloaded.  \n"
     ]
    },
    {
     "name": "stdout",
     "output_type": "stream",
     "text": [
      "2025-04-20 13:10:23,073 - INFO - Downloaded logs_ym3xaiv2:v0 to /scratch/downloaded_artifacts/logs_ym3xaiv2:v0\n"
     ]
    },
    {
     "name": "stderr",
     "output_type": "stream",
     "text": [
      "\u001b[34m\u001b[1mwandb\u001b[0m:   1 of 1 files downloaded.  \n"
     ]
    },
    {
     "name": "stdout",
     "output_type": "stream",
     "text": [
      "2025-04-20 13:10:23,093 - INFO - Downloaded logs_wog4hj20:v0 to /scratch/downloaded_artifacts/logs_wog4hj20:v0\n"
     ]
    },
    {
     "name": "stderr",
     "output_type": "stream",
     "text": [
      "\u001b[34m\u001b[1mwandb\u001b[0m:   1 of 1 files downloaded.  \n"
     ]
    },
    {
     "name": "stdout",
     "output_type": "stream",
     "text": [
      "2025-04-20 13:10:23,114 - INFO - Downloaded logs_910cbw5i:v0 to /scratch/downloaded_artifacts/logs_910cbw5i:v0\n"
     ]
    },
    {
     "name": "stderr",
     "output_type": "stream",
     "text": [
      "\u001b[34m\u001b[1mwandb\u001b[0m:   1 of 1 files downloaded.  \n"
     ]
    },
    {
     "name": "stdout",
     "output_type": "stream",
     "text": [
      "2025-04-20 13:10:23,177 - INFO - Downloaded logs_8guyu4ux:v0 to /scratch/downloaded_artifacts/logs_8guyu4ux:v0\n"
     ]
    },
    {
     "name": "stderr",
     "output_type": "stream",
     "text": [
      "\u001b[34m\u001b[1mwandb\u001b[0m:   1 of 1 files downloaded.  \n"
     ]
    },
    {
     "name": "stdout",
     "output_type": "stream",
     "text": [
      "2025-04-20 13:10:23,242 - INFO - Downloaded logs_zoiwgr4q:v0 to /scratch/downloaded_artifacts/logs_zoiwgr4q:v0\n"
     ]
    },
    {
     "name": "stderr",
     "output_type": "stream",
     "text": [
      "\u001b[34m\u001b[1mwandb\u001b[0m:   1 of 1 files downloaded.  \n"
     ]
    },
    {
     "name": "stdout",
     "output_type": "stream",
     "text": [
      "2025-04-20 13:10:23,283 - INFO - Downloaded logs_120m9pl7:v0 to /scratch/downloaded_artifacts/logs_120m9pl7:v0\n"
     ]
    },
    {
     "name": "stderr",
     "output_type": "stream",
     "text": [
      "\u001b[34m\u001b[1mwandb\u001b[0m:   1 of 1 files downloaded.  \n"
     ]
    },
    {
     "name": "stdout",
     "output_type": "stream",
     "text": [
      "2025-04-20 13:10:23,312 - INFO - Downloaded logs_6ww0t7zp:v0 to /scratch/downloaded_artifacts/logs_6ww0t7zp:v0\n"
     ]
    },
    {
     "name": "stderr",
     "output_type": "stream",
     "text": [
      "\u001b[34m\u001b[1mwandb\u001b[0m:   1 of 1 files downloaded.  \n"
     ]
    },
    {
     "name": "stdout",
     "output_type": "stream",
     "text": [
      "2025-04-20 13:10:23,328 - INFO - Downloaded logs_20mqje9k:v0 to /scratch/downloaded_artifacts/logs_20mqje9k:v0\n"
     ]
    },
    {
     "name": "stderr",
     "output_type": "stream",
     "text": [
      "\u001b[34m\u001b[1mwandb\u001b[0m:   1 of 1 files downloaded.  \n"
     ]
    },
    {
     "name": "stdout",
     "output_type": "stream",
     "text": [
      "2025-04-20 13:10:23,340 - INFO - Downloaded logs_balqs12d:v0 to /scratch/downloaded_artifacts/logs_balqs12d:v0\n"
     ]
    },
    {
     "name": "stderr",
     "output_type": "stream",
     "text": [
      "\u001b[34m\u001b[1mwandb\u001b[0m:   1 of 1 files downloaded.  \n"
     ]
    },
    {
     "name": "stdout",
     "output_type": "stream",
     "text": [
      "2025-04-20 13:10:23,367 - INFO - Downloaded logs_w3yxse06:v0 to /scratch/downloaded_artifacts/logs_w3yxse06:v0\n"
     ]
    },
    {
     "name": "stderr",
     "output_type": "stream",
     "text": [
      "\u001b[34m\u001b[1mwandb\u001b[0m:   1 of 1 files downloaded.  \n"
     ]
    },
    {
     "name": "stdout",
     "output_type": "stream",
     "text": [
      "2025-04-20 13:10:23,417 - INFO - Downloaded logs_6autnsdd:v0 to /scratch/downloaded_artifacts/logs_6autnsdd:v0\n"
     ]
    },
    {
     "name": "stderr",
     "output_type": "stream",
     "text": [
      "\u001b[34m\u001b[1mwandb\u001b[0m:   1 of 1 files downloaded.  \n"
     ]
    },
    {
     "name": "stdout",
     "output_type": "stream",
     "text": [
      "2025-04-20 13:10:23,614 - INFO - Downloaded logs_i49g0c15:v0 to /scratch/downloaded_artifacts/logs_i49g0c15:v0\n"
     ]
    },
    {
     "name": "stderr",
     "output_type": "stream",
     "text": [
      "\u001b[34m\u001b[1mwandb\u001b[0m:   1 of 1 files downloaded.  \n"
     ]
    },
    {
     "name": "stdout",
     "output_type": "stream",
     "text": [
      "2025-04-20 13:10:23,673 - INFO - Downloaded logs_idsuh1iv:v0 to /scratch/downloaded_artifacts/logs_idsuh1iv:v0\n"
     ]
    },
    {
     "name": "stderr",
     "output_type": "stream",
     "text": [
      "\u001b[34m\u001b[1mwandb\u001b[0m:   1 of 1 files downloaded.  \n"
     ]
    },
    {
     "name": "stdout",
     "output_type": "stream",
     "text": [
      "2025-04-20 13:10:23,780 - INFO - Downloaded logs_lbp314hu:v0 to /scratch/downloaded_artifacts/logs_lbp314hu:v0\n"
     ]
    },
    {
     "name": "stderr",
     "output_type": "stream",
     "text": [
      "\u001b[34m\u001b[1mwandb\u001b[0m:   1 of 1 files downloaded.  \n"
     ]
    },
    {
     "name": "stdout",
     "output_type": "stream",
     "text": [
      "2025-04-20 13:10:23,850 - INFO - Downloaded logs_p4vkgrc0:v0 to /scratch/downloaded_artifacts/logs_p4vkgrc0:v0\n"
     ]
    },
    {
     "name": "stderr",
     "output_type": "stream",
     "text": [
      "\u001b[34m\u001b[1mwandb\u001b[0m:   1 of 1 files downloaded.  \n"
     ]
    },
    {
     "name": "stdout",
     "output_type": "stream",
     "text": [
      "2025-04-20 13:10:24,029 - INFO - Downloaded logs_7rqa46qq:v0 to /scratch/downloaded_artifacts/logs_7rqa46qq:v0\n"
     ]
    },
    {
     "name": "stderr",
     "output_type": "stream",
     "text": [
      "\u001b[34m\u001b[1mwandb\u001b[0m:   1 of 1 files downloaded.  \n"
     ]
    },
    {
     "name": "stdout",
     "output_type": "stream",
     "text": [
      "2025-04-20 13:10:24,071 - INFO - Downloaded logs_722aauq8:v0 to /scratch/downloaded_artifacts/logs_722aauq8:v0\n"
     ]
    },
    {
     "name": "stderr",
     "output_type": "stream",
     "text": [
      "\u001b[34m\u001b[1mwandb\u001b[0m:   1 of 1 files downloaded.  \n"
     ]
    },
    {
     "name": "stdout",
     "output_type": "stream",
     "text": [
      "2025-04-20 13:10:24,189 - INFO - Downloaded logs_69izbov6:v0 to /scratch/downloaded_artifacts/logs_69izbov6:v0\n"
     ]
    },
    {
     "name": "stderr",
     "output_type": "stream",
     "text": [
      "\u001b[34m\u001b[1mwandb\u001b[0m:   1 of 1 files downloaded.  \n"
     ]
    },
    {
     "name": "stdout",
     "output_type": "stream",
     "text": [
      "2025-04-20 13:10:24,246 - INFO - Downloaded logs_6d546761:v0 to /scratch/downloaded_artifacts/logs_6d546761:v0\n"
     ]
    },
    {
     "name": "stderr",
     "output_type": "stream",
     "text": [
      "\u001b[34m\u001b[1mwandb\u001b[0m:   1 of 1 files downloaded.  \n"
     ]
    },
    {
     "name": "stdout",
     "output_type": "stream",
     "text": [
      "2025-04-20 13:10:24,256 - INFO - Downloaded logs_cano2j9r:v0 to /scratch/downloaded_artifacts/logs_cano2j9r:v0\n"
     ]
    },
    {
     "name": "stderr",
     "output_type": "stream",
     "text": [
      "\u001b[34m\u001b[1mwandb\u001b[0m:   1 of 1 files downloaded.  \n"
     ]
    },
    {
     "name": "stdout",
     "output_type": "stream",
     "text": [
      "2025-04-20 13:10:24,355 - INFO - Downloaded logs_fnos4p5e:v0 to /scratch/downloaded_artifacts/logs_fnos4p5e:v0\n"
     ]
    },
    {
     "name": "stderr",
     "output_type": "stream",
     "text": [
      "\u001b[34m\u001b[1mwandb\u001b[0m:   1 of 1 files downloaded.  \n"
     ]
    },
    {
     "name": "stdout",
     "output_type": "stream",
     "text": [
      "2025-04-20 13:10:24,541 - INFO - Downloaded logs_kvqe7es3:v0 to /scratch/downloaded_artifacts/logs_kvqe7es3:v0\n"
     ]
    },
    {
     "name": "stderr",
     "output_type": "stream",
     "text": [
      "\u001b[34m\u001b[1mwandb\u001b[0m:   1 of 1 files downloaded.  \n"
     ]
    },
    {
     "name": "stdout",
     "output_type": "stream",
     "text": [
      "2025-04-20 13:10:24,556 - INFO - Downloaded logs_dhtssk07:v0 to /scratch/downloaded_artifacts/logs_dhtssk07:v0\n"
     ]
    },
    {
     "name": "stderr",
     "output_type": "stream",
     "text": [
      "\u001b[34m\u001b[1mwandb\u001b[0m:   1 of 1 files downloaded.  \n"
     ]
    },
    {
     "name": "stdout",
     "output_type": "stream",
     "text": [
      "2025-04-20 13:10:24,778 - INFO - Downloaded logs_007cgnsg:v0 to /scratch/downloaded_artifacts/logs_007cgnsg:v0\n"
     ]
    },
    {
     "name": "stderr",
     "output_type": "stream",
     "text": [
      "\u001b[34m\u001b[1mwandb\u001b[0m:   1 of 1 files downloaded.  \n"
     ]
    },
    {
     "name": "stdout",
     "output_type": "stream",
     "text": [
      "2025-04-20 13:10:24,786 - INFO - Downloaded logs_o6wx3bdt:v0 to /scratch/downloaded_artifacts/logs_o6wx3bdt:v0\n"
     ]
    },
    {
     "name": "stderr",
     "output_type": "stream",
     "text": [
      "\u001b[34m\u001b[1mwandb\u001b[0m:   1 of 1 files downloaded.  \n"
     ]
    },
    {
     "name": "stdout",
     "output_type": "stream",
     "text": [
      "2025-04-20 13:10:24,815 - INFO - Downloaded logs_xrchfmrf:v0 to /scratch/downloaded_artifacts/logs_xrchfmrf:v0\n"
     ]
    },
    {
     "name": "stderr",
     "output_type": "stream",
     "text": [
      "\u001b[34m\u001b[1mwandb\u001b[0m:   1 of 1 files downloaded.  \n"
     ]
    },
    {
     "name": "stdout",
     "output_type": "stream",
     "text": [
      "2025-04-20 13:10:24,830 - INFO - Downloaded logs_unw86zg7:v0 to /scratch/downloaded_artifacts/logs_unw86zg7:v0\n"
     ]
    },
    {
     "name": "stderr",
     "output_type": "stream",
     "text": [
      "\u001b[34m\u001b[1mwandb\u001b[0m:   1 of 1 files downloaded.  \n"
     ]
    },
    {
     "name": "stdout",
     "output_type": "stream",
     "text": [
      "2025-04-20 13:10:24,862 - INFO - Downloaded logs_uh48tr7r:v0 to /scratch/downloaded_artifacts/logs_uh48tr7r:v0\n"
     ]
    },
    {
     "name": "stderr",
     "output_type": "stream",
     "text": [
      "\u001b[34m\u001b[1mwandb\u001b[0m:   1 of 1 files downloaded.  \n"
     ]
    },
    {
     "name": "stdout",
     "output_type": "stream",
     "text": [
      "2025-04-20 13:10:24,872 - INFO - Downloaded logs_qfkazy6h:v0 to /scratch/downloaded_artifacts/logs_qfkazy6h:v0\n"
     ]
    },
    {
     "name": "stderr",
     "output_type": "stream",
     "text": [
      "\u001b[34m\u001b[1mwandb\u001b[0m:   1 of 1 files downloaded.  \n"
     ]
    },
    {
     "name": "stdout",
     "output_type": "stream",
     "text": [
      "2025-04-20 13:10:24,987 - INFO - Downloaded logs_1waimrck:v0 to /scratch/downloaded_artifacts/logs_1waimrck:v0\n"
     ]
    },
    {
     "name": "stderr",
     "output_type": "stream",
     "text": [
      "\u001b[34m\u001b[1mwandb\u001b[0m:   1 of 1 files downloaded.  \n"
     ]
    },
    {
     "name": "stdout",
     "output_type": "stream",
     "text": [
      "2025-04-20 13:10:25,010 - INFO - Downloaded logs_7qym0xat:v0 to /scratch/downloaded_artifacts/logs_7qym0xat:v0\n"
     ]
    },
    {
     "name": "stderr",
     "output_type": "stream",
     "text": [
      "\u001b[34m\u001b[1mwandb\u001b[0m:   1 of 1 files downloaded.  \n"
     ]
    },
    {
     "name": "stdout",
     "output_type": "stream",
     "text": [
      "2025-04-20 13:10:25,142 - INFO - Downloaded logs_3dxahx1k:v0 to /scratch/downloaded_artifacts/logs_3dxahx1k:v0\n"
     ]
    },
    {
     "name": "stderr",
     "output_type": "stream",
     "text": [
      "\u001b[34m\u001b[1mwandb\u001b[0m:   1 of 1 files downloaded.  \n"
     ]
    },
    {
     "name": "stdout",
     "output_type": "stream",
     "text": [
      "2025-04-20 13:10:25,222 - INFO - Downloaded logs_yxyh7r54:v0 to /scratch/downloaded_artifacts/logs_yxyh7r54:v0\n"
     ]
    },
    {
     "name": "stderr",
     "output_type": "stream",
     "text": [
      "\u001b[34m\u001b[1mwandb\u001b[0m:   1 of 1 files downloaded.  \n"
     ]
    },
    {
     "name": "stdout",
     "output_type": "stream",
     "text": [
      "2025-04-20 13:10:25,309 - INFO - Downloaded logs_jds5zsbw:v0 to /scratch/downloaded_artifacts/logs_jds5zsbw:v0\n"
     ]
    },
    {
     "name": "stderr",
     "output_type": "stream",
     "text": [
      "\u001b[34m\u001b[1mwandb\u001b[0m:   1 of 1 files downloaded.  \n"
     ]
    },
    {
     "name": "stdout",
     "output_type": "stream",
     "text": [
      "2025-04-20 13:10:25,322 - INFO - Downloaded logs_d5rkdpny:v0 to /scratch/downloaded_artifacts/logs_d5rkdpny:v0\n"
     ]
    },
    {
     "name": "stderr",
     "output_type": "stream",
     "text": [
      "\u001b[34m\u001b[1mwandb\u001b[0m:   1 of 1 files downloaded.  \n"
     ]
    },
    {
     "name": "stdout",
     "output_type": "stream",
     "text": [
      "2025-04-20 13:10:25,485 - INFO - Downloaded logs_0q6pnt32:v0 to /scratch/downloaded_artifacts/logs_0q6pnt32:v0\n"
     ]
    },
    {
     "name": "stderr",
     "output_type": "stream",
     "text": [
      "\u001b[34m\u001b[1mwandb\u001b[0m:   1 of 1 files downloaded.  \n"
     ]
    },
    {
     "name": "stdout",
     "output_type": "stream",
     "text": [
      "2025-04-20 13:10:25,509 - INFO - Downloaded logs_7kj0uquv:v0 to /scratch/downloaded_artifacts/logs_7kj0uquv:v0\n"
     ]
    },
    {
     "name": "stderr",
     "output_type": "stream",
     "text": [
      "\u001b[34m\u001b[1mwandb\u001b[0m:   1 of 1 files downloaded.  \n"
     ]
    },
    {
     "name": "stdout",
     "output_type": "stream",
     "text": [
      "2025-04-20 13:10:25,526 - INFO - Downloaded logs_02duu404:v0 to /scratch/downloaded_artifacts/logs_02duu404:v0\n"
     ]
    },
    {
     "name": "stderr",
     "output_type": "stream",
     "text": [
      "\u001b[34m\u001b[1mwandb\u001b[0m:   1 of 1 files downloaded.  \n"
     ]
    },
    {
     "name": "stdout",
     "output_type": "stream",
     "text": [
      "2025-04-20 13:10:25,531 - INFO - Downloaded logs_enzogaqx:v0 to /scratch/downloaded_artifacts/logs_enzogaqx:v0\n"
     ]
    },
    {
     "name": "stderr",
     "output_type": "stream",
     "text": [
      "\u001b[34m\u001b[1mwandb\u001b[0m:   1 of 1 files downloaded.  \n"
     ]
    },
    {
     "name": "stdout",
     "output_type": "stream",
     "text": [
      "2025-04-20 13:10:25,537 - INFO - Downloaded logs_5xwe7t7e:v0 to /scratch/downloaded_artifacts/logs_5xwe7t7e:v0\n"
     ]
    },
    {
     "name": "stderr",
     "output_type": "stream",
     "text": [
      "\u001b[34m\u001b[1mwandb\u001b[0m:   1 of 1 files downloaded.  \n"
     ]
    },
    {
     "name": "stdout",
     "output_type": "stream",
     "text": [
      "2025-04-20 13:10:25,557 - INFO - Downloaded logs_fl7i2jh4:v0 to /scratch/downloaded_artifacts/logs_fl7i2jh4:v0\n"
     ]
    },
    {
     "name": "stderr",
     "output_type": "stream",
     "text": [
      "\u001b[34m\u001b[1mwandb\u001b[0m:   1 of 1 files downloaded.  \n"
     ]
    },
    {
     "name": "stdout",
     "output_type": "stream",
     "text": [
      "2025-04-20 13:10:25,924 - INFO - Downloaded logs_hzlzvqcl:v0 to /scratch/downloaded_artifacts/logs_hzlzvqcl:v0\n"
     ]
    },
    {
     "name": "stderr",
     "output_type": "stream",
     "text": [
      "\u001b[34m\u001b[1mwandb\u001b[0m:   1 of 1 files downloaded.  \n"
     ]
    },
    {
     "name": "stdout",
     "output_type": "stream",
     "text": [
      "2025-04-20 13:10:25,989 - INFO - Downloaded logs_l690vjk6:v0 to /scratch/downloaded_artifacts/logs_l690vjk6:v0\n"
     ]
    },
    {
     "name": "stderr",
     "output_type": "stream",
     "text": [
      "\u001b[34m\u001b[1mwandb\u001b[0m:   1 of 1 files downloaded.  \n"
     ]
    },
    {
     "name": "stdout",
     "output_type": "stream",
     "text": [
      "2025-04-20 13:10:26,075 - INFO - Downloaded logs_lwxoqgil:v0 to /scratch/downloaded_artifacts/logs_lwxoqgil:v0\n"
     ]
    },
    {
     "name": "stderr",
     "output_type": "stream",
     "text": [
      "\u001b[34m\u001b[1mwandb\u001b[0m:   1 of 1 files downloaded.  \n"
     ]
    },
    {
     "name": "stdout",
     "output_type": "stream",
     "text": [
      "2025-04-20 13:10:26,207 - INFO - Downloaded logs_lo6vofhk:v0 to /scratch/downloaded_artifacts/logs_lo6vofhk:v0\n"
     ]
    },
    {
     "name": "stderr",
     "output_type": "stream",
     "text": [
      "\u001b[34m\u001b[1mwandb\u001b[0m:   1 of 1 files downloaded.  \n"
     ]
    },
    {
     "name": "stdout",
     "output_type": "stream",
     "text": [
      "2025-04-20 13:10:26,230 - INFO - Downloaded logs_ofkacfgc:v0 to /scratch/downloaded_artifacts/logs_ofkacfgc:v0\n"
     ]
    },
    {
     "name": "stderr",
     "output_type": "stream",
     "text": [
      "\u001b[34m\u001b[1mwandb\u001b[0m:   1 of 1 files downloaded.  \n"
     ]
    },
    {
     "name": "stdout",
     "output_type": "stream",
     "text": [
      "2025-04-20 13:10:26,272 - INFO - Downloaded logs_ouoh4cvi:v0 to /scratch/downloaded_artifacts/logs_ouoh4cvi:v0\n"
     ]
    },
    {
     "name": "stderr",
     "output_type": "stream",
     "text": [
      "\u001b[34m\u001b[1mwandb\u001b[0m:   1 of 1 files downloaded.  \n"
     ]
    },
    {
     "name": "stdout",
     "output_type": "stream",
     "text": [
      "2025-04-20 13:10:26,333 - INFO - Downloaded logs_qluj2s5s:v0 to /scratch/downloaded_artifacts/logs_qluj2s5s:v0\n"
     ]
    },
    {
     "name": "stderr",
     "output_type": "stream",
     "text": [
      "\u001b[34m\u001b[1mwandb\u001b[0m:   1 of 1 files downloaded.  \n"
     ]
    },
    {
     "name": "stdout",
     "output_type": "stream",
     "text": [
      "2025-04-20 13:10:26,449 - INFO - Downloaded logs_xbk7dgxc:v0 to /scratch/downloaded_artifacts/logs_xbk7dgxc:v0\n"
     ]
    },
    {
     "name": "stderr",
     "output_type": "stream",
     "text": [
      "\u001b[34m\u001b[1mwandb\u001b[0m:   1 of 1 files downloaded.  \n"
     ]
    },
    {
     "name": "stdout",
     "output_type": "stream",
     "text": [
      "2025-04-20 13:10:26,578 - INFO - Downloaded logs_onaoefve:v0 to /scratch/downloaded_artifacts/logs_onaoefve:v0\n"
     ]
    },
    {
     "name": "stderr",
     "output_type": "stream",
     "text": [
      "\u001b[34m\u001b[1mwandb\u001b[0m:   1 of 1 files downloaded.  \n"
     ]
    },
    {
     "name": "stdout",
     "output_type": "stream",
     "text": [
      "2025-04-20 13:10:26,584 - INFO - Downloaded logs_c475b1by:v0 to /scratch/downloaded_artifacts/logs_c475b1by:v0\n"
     ]
    },
    {
     "name": "stderr",
     "output_type": "stream",
     "text": [
      "\u001b[34m\u001b[1mwandb\u001b[0m: \u001b[32m\u001b[41mERROR\u001b[0m Error while calling W&B API: rate limit exceeded (<Response [429]>)\n",
      "\u001b[34m\u001b[1mwandb\u001b[0m:   1 of 1 files downloaded.  \n",
      "\u001b[34m\u001b[1mwandb\u001b[0m:   1 of 1 files downloaded.  \n"
     ]
    },
    {
     "name": "stdout",
     "output_type": "stream",
     "text": [
      "2025-04-20 13:10:26,679 - INFO - Downloaded logs_w8vbs2ec:v0 to /scratch/downloaded_artifacts/logs_w8vbs2ec:v0\n",
      "2025-04-20 13:10:26,680 - INFO - Downloaded logs_f2on74ph:v0 to /scratch/downloaded_artifacts/logs_f2on74ph:v0\n"
     ]
    },
    {
     "name": "stderr",
     "output_type": "stream",
     "text": [
      "\u001b[34m\u001b[1mwandb\u001b[0m: \u001b[32m\u001b[41mERROR\u001b[0m Error while calling W&B API: rate limit exceeded (<Response [429]>)\n",
      "\u001b[34m\u001b[1mwandb\u001b[0m: \u001b[32m\u001b[41mERROR\u001b[0m Error while calling W&B API: rate limit exceeded (<Response [429]>)\n",
      "\u001b[34m\u001b[1mwandb\u001b[0m: \u001b[32m\u001b[41mERROR\u001b[0m Error while calling W&B API: rate limit exceeded (<Response [429]>)\n",
      "\u001b[34m\u001b[1mwandb\u001b[0m:   1 of 1 files downloaded.  \n"
     ]
    },
    {
     "name": "stdout",
     "output_type": "stream",
     "text": [
      "2025-04-20 13:10:26,762 - INFO - Downloaded logs_ohxrpgbh:v0 to /scratch/downloaded_artifacts/logs_ohxrpgbh:v0\n"
     ]
    },
    {
     "name": "stderr",
     "output_type": "stream",
     "text": [
      "\u001b[34m\u001b[1mwandb\u001b[0m:   1 of 1 files downloaded.  \n"
     ]
    },
    {
     "name": "stdout",
     "output_type": "stream",
     "text": [
      "2025-04-20 13:10:26,816 - INFO - Downloaded logs_38ll0kp2:v0 to /scratch/downloaded_artifacts/logs_38ll0kp2:v0\n"
     ]
    },
    {
     "name": "stderr",
     "output_type": "stream",
     "text": [
      "\u001b[34m\u001b[1mwandb\u001b[0m:   1 of 1 files downloaded.  \n"
     ]
    },
    {
     "name": "stdout",
     "output_type": "stream",
     "text": [
      "2025-04-20 13:10:26,834 - INFO - Downloaded logs_ewgajif5:v0 to /scratch/downloaded_artifacts/logs_ewgajif5:v0\n"
     ]
    },
    {
     "name": "stderr",
     "output_type": "stream",
     "text": [
      "\u001b[34m\u001b[1mwandb\u001b[0m:   1 of 1 files downloaded.  \n"
     ]
    },
    {
     "name": "stdout",
     "output_type": "stream",
     "text": [
      "2025-04-20 13:10:26,839 - INFO - Downloaded logs_hcumvfg7:v0 to /scratch/downloaded_artifacts/logs_hcumvfg7:v0\n"
     ]
    },
    {
     "name": "stderr",
     "output_type": "stream",
     "text": [
      "\u001b[34m\u001b[1mwandb\u001b[0m:   1 of 1 files downloaded.  \n"
     ]
    },
    {
     "name": "stdout",
     "output_type": "stream",
     "text": [
      "2025-04-20 13:10:26,859 - INFO - Downloaded logs_n802nopu:v0 to /scratch/downloaded_artifacts/logs_n802nopu:v0\n"
     ]
    },
    {
     "name": "stderr",
     "output_type": "stream",
     "text": [
      "\u001b[34m\u001b[1mwandb\u001b[0m:   1 of 1 files downloaded.  \n"
     ]
    },
    {
     "name": "stdout",
     "output_type": "stream",
     "text": [
      "2025-04-20 13:10:26,874 - INFO - Downloaded logs_vofsdi1z:v0 to /scratch/downloaded_artifacts/logs_vofsdi1z:v0\n"
     ]
    },
    {
     "name": "stderr",
     "output_type": "stream",
     "text": [
      "\u001b[34m\u001b[1mwandb\u001b[0m:   1 of 1 files downloaded.  \n"
     ]
    },
    {
     "name": "stdout",
     "output_type": "stream",
     "text": [
      "2025-04-20 13:10:26,919 - INFO - Downloaded logs_w38g99cd:v0 to /scratch/downloaded_artifacts/logs_w38g99cd:v0\n"
     ]
    },
    {
     "name": "stderr",
     "output_type": "stream",
     "text": [
      "\u001b[34m\u001b[1mwandb\u001b[0m:   1 of 1 files downloaded.  \n"
     ]
    },
    {
     "name": "stdout",
     "output_type": "stream",
     "text": [
      "2025-04-20 13:10:26,939 - INFO - Downloaded logs_l36rrr9j:v0 to /scratch/downloaded_artifacts/logs_l36rrr9j:v0\n"
     ]
    },
    {
     "name": "stderr",
     "output_type": "stream",
     "text": [
      "\u001b[34m\u001b[1mwandb\u001b[0m:   1 of 1 files downloaded.  \n"
     ]
    },
    {
     "name": "stdout",
     "output_type": "stream",
     "text": [
      "2025-04-20 13:10:27,249 - INFO - Downloaded logs_ymza5jis:v0 to /scratch/downloaded_artifacts/logs_ymza5jis:v0\n"
     ]
    },
    {
     "name": "stderr",
     "output_type": "stream",
     "text": [
      "\u001b[34m\u001b[1mwandb\u001b[0m: Network error (HTTPError), entering retry loop.\n",
      "\u001b[34m\u001b[1mwandb\u001b[0m: \u001b[32m\u001b[41mERROR\u001b[0m Error while calling W&B API: rate limit exceeded (<Response [429]>)\n",
      "\u001b[34m\u001b[1mwandb\u001b[0m: \u001b[32m\u001b[41mERROR\u001b[0m Error while calling W&B API: rate limit exceeded (<Response [429]>)\n",
      "\u001b[34m\u001b[1mwandb\u001b[0m: \u001b[32m\u001b[41mERROR\u001b[0m Error while calling W&B API: rate limit exceeded (<Response [429]>)\n",
      "\u001b[34m\u001b[1mwandb\u001b[0m: \u001b[32m\u001b[41mERROR\u001b[0m Error while calling W&B API: rate limit exceeded (<Response [429]>)\n",
      "\u001b[34m\u001b[1mwandb\u001b[0m: \u001b[32m\u001b[41mERROR\u001b[0m Error while calling W&B API: rate limit exceeded (<Response [429]>)\n",
      "\u001b[34m\u001b[1mwandb\u001b[0m: Network error (HTTPError), entering retry loop.\n",
      "\u001b[34m\u001b[1mwandb\u001b[0m:   1 of 1 files downloaded.  \n"
     ]
    },
    {
     "name": "stdout",
     "output_type": "stream",
     "text": [
      "2025-04-20 13:10:30,870 - INFO - Downloaded logs_9md0w5nt:v0 to /scratch/downloaded_artifacts/logs_9md0w5nt:v0\n"
     ]
    },
    {
     "name": "stderr",
     "output_type": "stream",
     "text": [
      "\u001b[34m\u001b[1mwandb\u001b[0m:   1 of 1 files downloaded.  \n"
     ]
    },
    {
     "name": "stdout",
     "output_type": "stream",
     "text": [
      "2025-04-20 13:10:30,940 - INFO - Downloaded logs_0hqfbnq2:v0 to /scratch/downloaded_artifacts/logs_0hqfbnq2:v0\n"
     ]
    },
    {
     "name": "stderr",
     "output_type": "stream",
     "text": [
      "\u001b[34m\u001b[1mwandb\u001b[0m:   1 of 1 files downloaded.  \n"
     ]
    },
    {
     "name": "stdout",
     "output_type": "stream",
     "text": [
      "2025-04-20 13:10:31,000 - INFO - Downloaded logs_7078fqs4:v0 to /scratch/downloaded_artifacts/logs_7078fqs4:v0\n"
     ]
    },
    {
     "name": "stderr",
     "output_type": "stream",
     "text": [
      "\u001b[34m\u001b[1mwandb\u001b[0m:   1 of 1 files downloaded.  \n"
     ]
    },
    {
     "name": "stdout",
     "output_type": "stream",
     "text": [
      "2025-04-20 13:10:31,040 - INFO - Downloaded logs_9xq0gjtq:v0 to /scratch/downloaded_artifacts/logs_9xq0gjtq:v0\n"
     ]
    },
    {
     "name": "stderr",
     "output_type": "stream",
     "text": [
      "\u001b[34m\u001b[1mwandb\u001b[0m:   1 of 1 files downloaded.  \n"
     ]
    },
    {
     "name": "stdout",
     "output_type": "stream",
     "text": [
      "2025-04-20 13:10:31,275 - INFO - Downloaded logs_er17q1wo:v0 to /scratch/downloaded_artifacts/logs_er17q1wo:v0\n"
     ]
    },
    {
     "name": "stderr",
     "output_type": "stream",
     "text": [
      "\u001b[34m\u001b[1mwandb\u001b[0m:   1 of 1 files downloaded.  \n"
     ]
    },
    {
     "name": "stdout",
     "output_type": "stream",
     "text": [
      "2025-04-20 13:10:31,363 - INFO - Downloaded logs_brmi624n:v0 to /scratch/downloaded_artifacts/logs_brmi624n:v0\n"
     ]
    },
    {
     "name": "stderr",
     "output_type": "stream",
     "text": [
      "\u001b[34m\u001b[1mwandb\u001b[0m:   1 of 1 files downloaded.  \n"
     ]
    },
    {
     "name": "stdout",
     "output_type": "stream",
     "text": [
      "2025-04-20 13:10:31,371 - INFO - Downloaded logs_yxzmsv4z:v0 to /scratch/downloaded_artifacts/logs_yxzmsv4z:v0\n"
     ]
    },
    {
     "name": "stderr",
     "output_type": "stream",
     "text": [
      "\u001b[34m\u001b[1mwandb\u001b[0m:   1 of 1 files downloaded.  \n"
     ]
    },
    {
     "name": "stdout",
     "output_type": "stream",
     "text": [
      "2025-04-20 13:10:31,420 - INFO - Downloaded logs_wyvzxi07:v0 to /scratch/downloaded_artifacts/logs_wyvzxi07:v0\n"
     ]
    },
    {
     "name": "stderr",
     "output_type": "stream",
     "text": [
      "\u001b[34m\u001b[1mwandb\u001b[0m:   1 of 1 files downloaded.  \n"
     ]
    },
    {
     "name": "stdout",
     "output_type": "stream",
     "text": [
      "2025-04-20 13:10:31,478 - INFO - Downloaded logs_s11b16w2:v0 to /scratch/downloaded_artifacts/logs_s11b16w2:v0\n"
     ]
    },
    {
     "name": "stderr",
     "output_type": "stream",
     "text": [
      "\u001b[34m\u001b[1mwandb\u001b[0m:   1 of 1 files downloaded.  \n"
     ]
    },
    {
     "name": "stdout",
     "output_type": "stream",
     "text": [
      "2025-04-20 13:10:31,499 - INFO - Downloaded logs_k63eegly:v0 to /scratch/downloaded_artifacts/logs_k63eegly:v0\n"
     ]
    },
    {
     "name": "stderr",
     "output_type": "stream",
     "text": [
      "\u001b[34m\u001b[1mwandb\u001b[0m:   1 of 1 files downloaded.  \n"
     ]
    },
    {
     "name": "stdout",
     "output_type": "stream",
     "text": [
      "2025-04-20 13:10:31,551 - INFO - Downloaded logs_1snw0d7v:v0 to /scratch/downloaded_artifacts/logs_1snw0d7v:v0\n"
     ]
    },
    {
     "name": "stderr",
     "output_type": "stream",
     "text": [
      "\u001b[34m\u001b[1mwandb\u001b[0m:   1 of 1 files downloaded.  \n"
     ]
    },
    {
     "name": "stdout",
     "output_type": "stream",
     "text": [
      "2025-04-20 13:10:31,696 - INFO - Downloaded logs_0rt3k4vu:v0 to /scratch/downloaded_artifacts/logs_0rt3k4vu:v0\n"
     ]
    },
    {
     "name": "stderr",
     "output_type": "stream",
     "text": [
      "\u001b[34m\u001b[1mwandb\u001b[0m:   1 of 1 files downloaded.  \n"
     ]
    },
    {
     "name": "stdout",
     "output_type": "stream",
     "text": [
      "2025-04-20 13:10:31,785 - INFO - Downloaded logs_j90n682m:v0 to /scratch/downloaded_artifacts/logs_j90n682m:v0\n"
     ]
    },
    {
     "name": "stderr",
     "output_type": "stream",
     "text": [
      "\u001b[34m\u001b[1mwandb\u001b[0m:   1 of 1 files downloaded.  \n"
     ]
    },
    {
     "name": "stdout",
     "output_type": "stream",
     "text": [
      "2025-04-20 13:10:32,029 - INFO - Downloaded logs_ithfqzeu:v0 to /scratch/downloaded_artifacts/logs_ithfqzeu:v0\n"
     ]
    },
    {
     "name": "stderr",
     "output_type": "stream",
     "text": [
      "\u001b[34m\u001b[1mwandb\u001b[0m:   1 of 1 files downloaded.  \n"
     ]
    },
    {
     "name": "stdout",
     "output_type": "stream",
     "text": [
      "2025-04-20 13:10:32,113 - INFO - Downloaded logs_7qtymn8w:v0 to /scratch/downloaded_artifacts/logs_7qtymn8w:v0\n"
     ]
    },
    {
     "name": "stderr",
     "output_type": "stream",
     "text": [
      "\u001b[34m\u001b[1mwandb\u001b[0m:   1 of 1 files downloaded.  \n"
     ]
    },
    {
     "name": "stdout",
     "output_type": "stream",
     "text": [
      "2025-04-20 13:10:32,276 - INFO - Downloaded logs_mhvnlhdd:v0 to /scratch/downloaded_artifacts/logs_mhvnlhdd:v0\n"
     ]
    },
    {
     "name": "stderr",
     "output_type": "stream",
     "text": [
      "\u001b[34m\u001b[1mwandb\u001b[0m:   1 of 1 files downloaded.  \n"
     ]
    },
    {
     "name": "stdout",
     "output_type": "stream",
     "text": [
      "2025-04-20 13:10:32,425 - INFO - Downloaded logs_0rpoxm2f:v0 to /scratch/downloaded_artifacts/logs_0rpoxm2f:v0\n"
     ]
    },
    {
     "name": "stderr",
     "output_type": "stream",
     "text": [
      "\u001b[34m\u001b[1mwandb\u001b[0m:   1 of 1 files downloaded.  \n"
     ]
    },
    {
     "name": "stdout",
     "output_type": "stream",
     "text": [
      "2025-04-20 13:10:32,435 - INFO - Downloaded logs_bjo0hwz6:v0 to /scratch/downloaded_artifacts/logs_bjo0hwz6:v0\n"
     ]
    },
    {
     "name": "stderr",
     "output_type": "stream",
     "text": [
      "\u001b[34m\u001b[1mwandb\u001b[0m:   1 of 1 files downloaded.  \n"
     ]
    },
    {
     "name": "stdout",
     "output_type": "stream",
     "text": [
      "2025-04-20 13:10:32,547 - INFO - Downloaded logs_42muc5k2:v0 to /scratch/downloaded_artifacts/logs_42muc5k2:v0\n"
     ]
    },
    {
     "name": "stderr",
     "output_type": "stream",
     "text": [
      "\u001b[34m\u001b[1mwandb\u001b[0m:   1 of 1 files downloaded.  \n"
     ]
    },
    {
     "name": "stdout",
     "output_type": "stream",
     "text": [
      "2025-04-20 13:10:32,573 - INFO - Downloaded logs_4um87vdg:v0 to /scratch/downloaded_artifacts/logs_4um87vdg:v0\n"
     ]
    },
    {
     "name": "stderr",
     "output_type": "stream",
     "text": [
      "\u001b[34m\u001b[1mwandb\u001b[0m:   1 of 1 files downloaded.  \n"
     ]
    },
    {
     "name": "stdout",
     "output_type": "stream",
     "text": [
      "2025-04-20 13:10:32,615 - INFO - Downloaded logs_ps8vdrwr:v0 to /scratch/downloaded_artifacts/logs_ps8vdrwr:v0\n"
     ]
    },
    {
     "name": "stderr",
     "output_type": "stream",
     "text": [
      "\u001b[34m\u001b[1mwandb\u001b[0m:   1 of 1 files downloaded.  \n"
     ]
    },
    {
     "name": "stdout",
     "output_type": "stream",
     "text": [
      "2025-04-20 13:10:32,624 - INFO - Downloaded logs_mo2gd4tx:v0 to /scratch/downloaded_artifacts/logs_mo2gd4tx:v0\n"
     ]
    },
    {
     "name": "stderr",
     "output_type": "stream",
     "text": [
      "\u001b[34m\u001b[1mwandb\u001b[0m:   1 of 1 files downloaded.  \n"
     ]
    },
    {
     "name": "stdout",
     "output_type": "stream",
     "text": [
      "2025-04-20 13:10:32,636 - INFO - Downloaded logs_5xl2u5d8:v0 to /scratch/downloaded_artifacts/logs_5xl2u5d8:v0\n"
     ]
    },
    {
     "name": "stderr",
     "output_type": "stream",
     "text": [
      "\u001b[34m\u001b[1mwandb\u001b[0m:   1 of 1 files downloaded.  \n"
     ]
    },
    {
     "name": "stdout",
     "output_type": "stream",
     "text": [
      "2025-04-20 13:10:32,650 - INFO - Downloaded logs_b455jvld:v0 to /scratch/downloaded_artifacts/logs_b455jvld:v0\n"
     ]
    },
    {
     "name": "stderr",
     "output_type": "stream",
     "text": [
      "\u001b[34m\u001b[1mwandb\u001b[0m:   1 of 1 files downloaded.  \n"
     ]
    },
    {
     "name": "stdout",
     "output_type": "stream",
     "text": [
      "2025-04-20 13:10:32,818 - INFO - Downloaded logs_cxcawqgo:v0 to /scratch/downloaded_artifacts/logs_cxcawqgo:v0\n"
     ]
    },
    {
     "name": "stderr",
     "output_type": "stream",
     "text": [
      "\u001b[34m\u001b[1mwandb\u001b[0m:   1 of 1 files downloaded.  \n"
     ]
    },
    {
     "name": "stdout",
     "output_type": "stream",
     "text": [
      "2025-04-20 13:10:32,873 - INFO - Downloaded logs_al6fdk9z:v0 to /scratch/downloaded_artifacts/logs_al6fdk9z:v0\n"
     ]
    },
    {
     "name": "stderr",
     "output_type": "stream",
     "text": [
      "\u001b[34m\u001b[1mwandb\u001b[0m:   1 of 1 files downloaded.  \n"
     ]
    },
    {
     "name": "stdout",
     "output_type": "stream",
     "text": [
      "2025-04-20 13:10:32,988 - INFO - Downloaded logs_dnnzk4bb:v0 to /scratch/downloaded_artifacts/logs_dnnzk4bb:v0\n"
     ]
    },
    {
     "name": "stderr",
     "output_type": "stream",
     "text": [
      "\u001b[34m\u001b[1mwandb\u001b[0m:   1 of 1 files downloaded.  \n"
     ]
    },
    {
     "name": "stdout",
     "output_type": "stream",
     "text": [
      "2025-04-20 13:10:33,069 - INFO - Downloaded logs_d3kpsogw:v0 to /scratch/downloaded_artifacts/logs_d3kpsogw:v0\n"
     ]
    },
    {
     "name": "stderr",
     "output_type": "stream",
     "text": [
      "\u001b[34m\u001b[1mwandb\u001b[0m:   1 of 1 files downloaded.  \n"
     ]
    },
    {
     "name": "stdout",
     "output_type": "stream",
     "text": [
      "2025-04-20 13:10:33,376 - INFO - Downloaded logs_ihxc62oj:v0 to /scratch/downloaded_artifacts/logs_ihxc62oj:v0\n"
     ]
    },
    {
     "name": "stderr",
     "output_type": "stream",
     "text": [
      "\u001b[34m\u001b[1mwandb\u001b[0m:   1 of 1 files downloaded.  \n"
     ]
    },
    {
     "name": "stdout",
     "output_type": "stream",
     "text": [
      "2025-04-20 13:10:33,482 - INFO - Downloaded logs_gzl7ladn:v0 to /scratch/downloaded_artifacts/logs_gzl7ladn:v0\n"
     ]
    },
    {
     "name": "stderr",
     "output_type": "stream",
     "text": [
      "\u001b[34m\u001b[1mwandb\u001b[0m:   1 of 1 files downloaded.  \n"
     ]
    },
    {
     "name": "stdout",
     "output_type": "stream",
     "text": [
      "2025-04-20 13:10:33,502 - INFO - Downloaded logs_je3lmwjx:v0 to /scratch/downloaded_artifacts/logs_je3lmwjx:v0\n"
     ]
    },
    {
     "name": "stderr",
     "output_type": "stream",
     "text": [
      "\u001b[34m\u001b[1mwandb\u001b[0m:   1 of 1 files downloaded.  \n"
     ]
    },
    {
     "name": "stdout",
     "output_type": "stream",
     "text": [
      "2025-04-20 13:10:33,674 - INFO - Downloaded logs_n9je6bdm:v0 to /scratch/downloaded_artifacts/logs_n9je6bdm:v0\n"
     ]
    },
    {
     "name": "stderr",
     "output_type": "stream",
     "text": [
      "\u001b[34m\u001b[1mwandb\u001b[0m:   1 of 1 files downloaded.  \n"
     ]
    },
    {
     "name": "stdout",
     "output_type": "stream",
     "text": [
      "2025-04-20 13:10:33,689 - INFO - Downloaded logs_v7jzguri:v0 to /scratch/downloaded_artifacts/logs_v7jzguri:v0\n"
     ]
    },
    {
     "name": "stderr",
     "output_type": "stream",
     "text": [
      "\u001b[34m\u001b[1mwandb\u001b[0m:   1 of 1 files downloaded.  \n",
      "\u001b[34m\u001b[1mwandb\u001b[0m:   1 of 1 files downloaded.  \n"
     ]
    },
    {
     "name": "stdout",
     "output_type": "stream",
     "text": [
      "2025-04-20 13:10:33,920 - INFO - Downloaded logs_vah8c0zf:v0 to /scratch/downloaded_artifacts/logs_vah8c0zf:v0\n",
      "2025-04-20 13:10:33,921 - INFO - Downloaded logs_59alyib8:v0 to /scratch/downloaded_artifacts/logs_59alyib8:v0\n"
     ]
    },
    {
     "name": "stderr",
     "output_type": "stream",
     "text": [
      "\u001b[34m\u001b[1mwandb\u001b[0m:   1 of 1 files downloaded.  \n"
     ]
    },
    {
     "name": "stdout",
     "output_type": "stream",
     "text": [
      "2025-04-20 13:10:33,946 - INFO - Downloaded logs_52hreouj:v0 to /scratch/downloaded_artifacts/logs_52hreouj:v0\n"
     ]
    },
    {
     "name": "stderr",
     "output_type": "stream",
     "text": [
      "\u001b[34m\u001b[1mwandb\u001b[0m:   1 of 1 files downloaded.  \n"
     ]
    },
    {
     "name": "stdout",
     "output_type": "stream",
     "text": [
      "2025-04-20 13:10:33,980 - INFO - Downloaded logs_lpwt1jxq:v0 to /scratch/downloaded_artifacts/logs_lpwt1jxq:v0\n"
     ]
    },
    {
     "name": "stderr",
     "output_type": "stream",
     "text": [
      "\u001b[34m\u001b[1mwandb\u001b[0m:   1 of 1 files downloaded.  \n"
     ]
    },
    {
     "name": "stdout",
     "output_type": "stream",
     "text": [
      "2025-04-20 13:10:34,090 - INFO - Downloaded logs_7qsxgqit:v0 to /scratch/downloaded_artifacts/logs_7qsxgqit:v0\n"
     ]
    },
    {
     "name": "stderr",
     "output_type": "stream",
     "text": [
      "\u001b[34m\u001b[1mwandb\u001b[0m:   1 of 1 files downloaded.  \n"
     ]
    },
    {
     "name": "stdout",
     "output_type": "stream",
     "text": [
      "2025-04-20 13:10:34,098 - INFO - Downloaded logs_52p501ti:v0 to /scratch/downloaded_artifacts/logs_52p501ti:v0\n"
     ]
    },
    {
     "name": "stderr",
     "output_type": "stream",
     "text": [
      "\u001b[34m\u001b[1mwandb\u001b[0m:   1 of 1 files downloaded.  \n"
     ]
    },
    {
     "name": "stdout",
     "output_type": "stream",
     "text": [
      "2025-04-20 13:10:34,133 - INFO - Downloaded logs_672lg99q:v0 to /scratch/downloaded_artifacts/logs_672lg99q:v0\n"
     ]
    },
    {
     "name": "stderr",
     "output_type": "stream",
     "text": [
      "\u001b[34m\u001b[1mwandb\u001b[0m:   1 of 1 files downloaded.  \n"
     ]
    },
    {
     "name": "stdout",
     "output_type": "stream",
     "text": [
      "2025-04-20 13:10:34,167 - INFO - Downloaded logs_76l2wjq2:v0 to /scratch/downloaded_artifacts/logs_76l2wjq2:v0\n"
     ]
    },
    {
     "name": "stderr",
     "output_type": "stream",
     "text": [
      "\u001b[34m\u001b[1mwandb\u001b[0m:   1 of 1 files downloaded.  \n"
     ]
    },
    {
     "name": "stdout",
     "output_type": "stream",
     "text": [
      "2025-04-20 13:10:34,176 - INFO - Downloaded logs_9s4f5cxh:v0 to /scratch/downloaded_artifacts/logs_9s4f5cxh:v0\n"
     ]
    },
    {
     "name": "stderr",
     "output_type": "stream",
     "text": [
      "\u001b[34m\u001b[1mwandb\u001b[0m:   1 of 1 files downloaded.  \n"
     ]
    },
    {
     "name": "stdout",
     "output_type": "stream",
     "text": [
      "2025-04-20 13:10:34,404 - INFO - Downloaded logs_a64bc85y:v0 to /scratch/downloaded_artifacts/logs_a64bc85y:v0\n"
     ]
    },
    {
     "name": "stderr",
     "output_type": "stream",
     "text": [
      "\u001b[34m\u001b[1mwandb\u001b[0m:   1 of 1 files downloaded.  \n"
     ]
    },
    {
     "name": "stdout",
     "output_type": "stream",
     "text": [
      "2025-04-20 13:10:34,712 - INFO - Downloaded logs_je73a0kk:v0 to /scratch/downloaded_artifacts/logs_je73a0kk:v0\n"
     ]
    },
    {
     "name": "stderr",
     "output_type": "stream",
     "text": [
      "\u001b[34m\u001b[1mwandb\u001b[0m:   1 of 1 files downloaded.  \n"
     ]
    },
    {
     "name": "stdout",
     "output_type": "stream",
     "text": [
      "2025-04-20 13:10:34,758 - INFO - Downloaded logs_iwguvnmf:v0 to /scratch/downloaded_artifacts/logs_iwguvnmf:v0\n"
     ]
    },
    {
     "name": "stderr",
     "output_type": "stream",
     "text": [
      "\u001b[34m\u001b[1mwandb\u001b[0m:   1 of 1 files downloaded.  \n"
     ]
    },
    {
     "name": "stdout",
     "output_type": "stream",
     "text": [
      "2025-04-20 13:10:34,797 - INFO - Downloaded logs_eslaa3en:v0 to /scratch/downloaded_artifacts/logs_eslaa3en:v0\n"
     ]
    },
    {
     "name": "stderr",
     "output_type": "stream",
     "text": [
      "\u001b[34m\u001b[1mwandb\u001b[0m:   1 of 1 files downloaded.  \n"
     ]
    },
    {
     "name": "stdout",
     "output_type": "stream",
     "text": [
      "2025-04-20 13:10:34,952 - INFO - Downloaded logs_v94mc48b:v0 to /scratch/downloaded_artifacts/logs_v94mc48b:v0\n"
     ]
    },
    {
     "name": "stderr",
     "output_type": "stream",
     "text": [
      "\u001b[34m\u001b[1mwandb\u001b[0m:   1 of 1 files downloaded.  \n"
     ]
    },
    {
     "name": "stdout",
     "output_type": "stream",
     "text": [
      "2025-04-20 13:10:35,190 - INFO - Downloaded logs_m1vtrl0j:v0 to /scratch/downloaded_artifacts/logs_m1vtrl0j:v0\n"
     ]
    },
    {
     "name": "stderr",
     "output_type": "stream",
     "text": [
      "\u001b[34m\u001b[1mwandb\u001b[0m:   1 of 1 files downloaded.  \n"
     ]
    },
    {
     "name": "stdout",
     "output_type": "stream",
     "text": [
      "2025-04-20 13:10:35,239 - INFO - Downloaded logs_xzp4azyu:v0 to /scratch/downloaded_artifacts/logs_xzp4azyu:v0\n"
     ]
    },
    {
     "name": "stderr",
     "output_type": "stream",
     "text": [
      "\u001b[34m\u001b[1mwandb\u001b[0m:   1 of 1 files downloaded.  \n",
      "\u001b[34m\u001b[1mwandb\u001b[0m:   1 of 1 files downloaded.  \n"
     ]
    },
    {
     "name": "stdout",
     "output_type": "stream",
     "text": [
      "2025-04-20 13:10:35,380 - INFO - Downloaded logs_2u2e9vc5:v0 to /scratch/downloaded_artifacts/logs_2u2e9vc5:v0\n",
      "2025-04-20 13:10:35,383 - INFO - Downloaded logs_wyhmg8u4:v0 to /scratch/downloaded_artifacts/logs_wyhmg8u4:v0\n"
     ]
    },
    {
     "name": "stderr",
     "output_type": "stream",
     "text": [
      "\u001b[34m\u001b[1mwandb\u001b[0m:   1 of 1 files downloaded.  \n"
     ]
    },
    {
     "name": "stdout",
     "output_type": "stream",
     "text": [
      "2025-04-20 13:10:35,428 - INFO - Downloaded logs_f0y2ihmb:v0 to /scratch/downloaded_artifacts/logs_f0y2ihmb:v0\n"
     ]
    },
    {
     "name": "stderr",
     "output_type": "stream",
     "text": [
      "\u001b[34m\u001b[1mwandb\u001b[0m:   1 of 1 files downloaded.  \n"
     ]
    },
    {
     "name": "stdout",
     "output_type": "stream",
     "text": [
      "2025-04-20 13:10:35,534 - INFO - Downloaded logs_8n3lzuvy:v0 to /scratch/downloaded_artifacts/logs_8n3lzuvy:v0\n"
     ]
    },
    {
     "name": "stderr",
     "output_type": "stream",
     "text": [
      "\u001b[34m\u001b[1mwandb\u001b[0m:   1 of 1 files downloaded.  \n"
     ]
    },
    {
     "name": "stdout",
     "output_type": "stream",
     "text": [
      "2025-04-20 13:10:35,577 - INFO - Downloaded logs_o4ta9han:v0 to /scratch/downloaded_artifacts/logs_o4ta9han:v0\n"
     ]
    },
    {
     "name": "stderr",
     "output_type": "stream",
     "text": [
      "\u001b[34m\u001b[1mwandb\u001b[0m:   1 of 1 files downloaded.  \n"
     ]
    },
    {
     "name": "stdout",
     "output_type": "stream",
     "text": [
      "2025-04-20 13:10:35,609 - INFO - Downloaded logs_05x9i8f1:v0 to /scratch/downloaded_artifacts/logs_05x9i8f1:v0\n"
     ]
    },
    {
     "name": "stderr",
     "output_type": "stream",
     "text": [
      "\u001b[34m\u001b[1mwandb\u001b[0m:   1 of 1 files downloaded.  \n"
     ]
    },
    {
     "name": "stdout",
     "output_type": "stream",
     "text": [
      "2025-04-20 13:10:35,615 - INFO - Downloaded logs_sd025uym:v0 to /scratch/downloaded_artifacts/logs_sd025uym:v0\n"
     ]
    },
    {
     "name": "stderr",
     "output_type": "stream",
     "text": [
      "\u001b[34m\u001b[1mwandb\u001b[0m:   1 of 1 files downloaded.  \n"
     ]
    },
    {
     "name": "stdout",
     "output_type": "stream",
     "text": [
      "2025-04-20 13:10:35,670 - INFO - Downloaded logs_gurkq8ox:v0 to /scratch/downloaded_artifacts/logs_gurkq8ox:v0\n"
     ]
    },
    {
     "name": "stderr",
     "output_type": "stream",
     "text": [
      "\u001b[34m\u001b[1mwandb\u001b[0m:   1 of 1 files downloaded.  \n"
     ]
    },
    {
     "name": "stdout",
     "output_type": "stream",
     "text": [
      "2025-04-20 13:10:35,953 - INFO - Downloaded logs_u5kmmx70:v0 to /scratch/downloaded_artifacts/logs_u5kmmx70:v0\n"
     ]
    },
    {
     "name": "stderr",
     "output_type": "stream",
     "text": [
      "\u001b[34m\u001b[1mwandb\u001b[0m:   1 of 1 files downloaded.  \n"
     ]
    },
    {
     "name": "stdout",
     "output_type": "stream",
     "text": [
      "2025-04-20 13:10:36,141 - INFO - Downloaded logs_9nfs34q5:v0 to /scratch/downloaded_artifacts/logs_9nfs34q5:v0\n"
     ]
    },
    {
     "name": "stderr",
     "output_type": "stream",
     "text": [
      "\u001b[34m\u001b[1mwandb\u001b[0m:   1 of 1 files downloaded.  \n"
     ]
    },
    {
     "name": "stdout",
     "output_type": "stream",
     "text": [
      "2025-04-20 13:10:36,258 - INFO - Downloaded logs_fkgjblt3:v0 to /scratch/downloaded_artifacts/logs_fkgjblt3:v0\n"
     ]
    },
    {
     "name": "stderr",
     "output_type": "stream",
     "text": [
      "\u001b[34m\u001b[1mwandb\u001b[0m:   1 of 1 files downloaded.  \n"
     ]
    },
    {
     "name": "stdout",
     "output_type": "stream",
     "text": [
      "2025-04-20 13:10:36,328 - INFO - Downloaded logs_n6amljrs:v0 to /scratch/downloaded_artifacts/logs_n6amljrs:v0\n"
     ]
    },
    {
     "name": "stderr",
     "output_type": "stream",
     "text": [
      "\u001b[34m\u001b[1mwandb\u001b[0m:   1 of 1 files downloaded.  \n"
     ]
    },
    {
     "name": "stdout",
     "output_type": "stream",
     "text": [
      "2025-04-20 13:10:36,405 - INFO - Downloaded logs_l232u0mi:v0 to /scratch/downloaded_artifacts/logs_l232u0mi:v0\n"
     ]
    },
    {
     "name": "stderr",
     "output_type": "stream",
     "text": [
      "\u001b[34m\u001b[1mwandb\u001b[0m:   1 of 1 files downloaded.  \n"
     ]
    },
    {
     "name": "stdout",
     "output_type": "stream",
     "text": [
      "2025-04-20 13:10:36,414 - INFO - Downloaded logs_xd2ityow:v0 to /scratch/downloaded_artifacts/logs_xd2ityow:v0\n"
     ]
    },
    {
     "name": "stderr",
     "output_type": "stream",
     "text": [
      "\u001b[34m\u001b[1mwandb\u001b[0m:   1 of 1 files downloaded.  \n"
     ]
    },
    {
     "name": "stdout",
     "output_type": "stream",
     "text": [
      "2025-04-20 13:10:36,524 - INFO - Downloaded logs_0s7vatqy:v0 to /scratch/downloaded_artifacts/logs_0s7vatqy:v0\n"
     ]
    },
    {
     "name": "stderr",
     "output_type": "stream",
     "text": [
      "\u001b[34m\u001b[1mwandb\u001b[0m:   1 of 1 files downloaded.  \n"
     ]
    },
    {
     "name": "stdout",
     "output_type": "stream",
     "text": [
      "2025-04-20 13:10:36,548 - INFO - Downloaded logs_thvqr1sj:v0 to /scratch/downloaded_artifacts/logs_thvqr1sj:v0\n"
     ]
    },
    {
     "name": "stderr",
     "output_type": "stream",
     "text": [
      "\u001b[34m\u001b[1mwandb\u001b[0m:   1 of 1 files downloaded.  \n"
     ]
    },
    {
     "name": "stdout",
     "output_type": "stream",
     "text": [
      "2025-04-20 13:10:36,570 - INFO - Downloaded logs_04hfxds6:v0 to /scratch/downloaded_artifacts/logs_04hfxds6:v0\n"
     ]
    },
    {
     "name": "stderr",
     "output_type": "stream",
     "text": [
      "\u001b[34m\u001b[1mwandb\u001b[0m:   1 of 1 files downloaded.  \n"
     ]
    },
    {
     "name": "stdout",
     "output_type": "stream",
     "text": [
      "2025-04-20 13:10:36,723 - INFO - Downloaded logs_zbx8j0kr:v0 to /scratch/downloaded_artifacts/logs_zbx8j0kr:v0\n"
     ]
    },
    {
     "name": "stderr",
     "output_type": "stream",
     "text": [
      "\u001b[34m\u001b[1mwandb\u001b[0m:   1 of 1 files downloaded.  \n"
     ]
    },
    {
     "name": "stdout",
     "output_type": "stream",
     "text": [
      "2025-04-20 13:10:36,763 - INFO - Downloaded logs_67vorej3:v0 to /scratch/downloaded_artifacts/logs_67vorej3:v0\n"
     ]
    },
    {
     "name": "stderr",
     "output_type": "stream",
     "text": [
      "\u001b[34m\u001b[1mwandb\u001b[0m:   1 of 1 files downloaded.  \n"
     ]
    },
    {
     "name": "stdout",
     "output_type": "stream",
     "text": [
      "2025-04-20 13:10:36,782 - INFO - Downloaded logs_316k4or0:v0 to /scratch/downloaded_artifacts/logs_316k4or0:v0\n"
     ]
    },
    {
     "name": "stderr",
     "output_type": "stream",
     "text": [
      "\u001b[34m\u001b[1mwandb\u001b[0m:   1 of 1 files downloaded.  \n"
     ]
    },
    {
     "name": "stdout",
     "output_type": "stream",
     "text": [
      "2025-04-20 13:10:36,864 - INFO - Downloaded logs_6h4o3gw1:v0 to /scratch/downloaded_artifacts/logs_6h4o3gw1:v0\n"
     ]
    },
    {
     "name": "stderr",
     "output_type": "stream",
     "text": [
      "\u001b[34m\u001b[1mwandb\u001b[0m:   1 of 1 files downloaded.  \n"
     ]
    },
    {
     "name": "stdout",
     "output_type": "stream",
     "text": [
      "2025-04-20 13:10:36,944 - INFO - Downloaded logs_0qvegcjm:v0 to /scratch/downloaded_artifacts/logs_0qvegcjm:v0\n"
     ]
    },
    {
     "name": "stderr",
     "output_type": "stream",
     "text": [
      "\u001b[34m\u001b[1mwandb\u001b[0m:   1 of 1 files downloaded.  \n"
     ]
    },
    {
     "name": "stdout",
     "output_type": "stream",
     "text": [
      "2025-04-20 13:10:36,986 - INFO - Downloaded logs_4owj6eq6:v0 to /scratch/downloaded_artifacts/logs_4owj6eq6:v0\n"
     ]
    },
    {
     "name": "stderr",
     "output_type": "stream",
     "text": [
      "\u001b[34m\u001b[1mwandb\u001b[0m:   1 of 1 files downloaded.  \n"
     ]
    },
    {
     "name": "stdout",
     "output_type": "stream",
     "text": [
      "2025-04-20 13:10:37,110 - INFO - Downloaded logs_k5ji3sdy:v0 to /scratch/downloaded_artifacts/logs_k5ji3sdy:v0\n"
     ]
    },
    {
     "name": "stderr",
     "output_type": "stream",
     "text": [
      "\u001b[34m\u001b[1mwandb\u001b[0m:   1 of 1 files downloaded.  \n"
     ]
    },
    {
     "name": "stdout",
     "output_type": "stream",
     "text": [
      "2025-04-20 13:10:37,185 - INFO - Downloaded logs_bbr0rbfh:v0 to /scratch/downloaded_artifacts/logs_bbr0rbfh:v0\n"
     ]
    },
    {
     "name": "stderr",
     "output_type": "stream",
     "text": [
      "\u001b[34m\u001b[1mwandb\u001b[0m:   1 of 1 files downloaded.  \n"
     ]
    },
    {
     "name": "stdout",
     "output_type": "stream",
     "text": [
      "2025-04-20 13:10:37,189 - INFO - Downloaded logs_agbr6e6t:v0 to /scratch/downloaded_artifacts/logs_agbr6e6t:v0\n"
     ]
    },
    {
     "name": "stderr",
     "output_type": "stream",
     "text": [
      "\u001b[34m\u001b[1mwandb\u001b[0m:   1 of 1 files downloaded.  \n"
     ]
    },
    {
     "name": "stdout",
     "output_type": "stream",
     "text": [
      "2025-04-20 13:10:37,234 - INFO - Downloaded logs_ch21wl4h:v0 to /scratch/downloaded_artifacts/logs_ch21wl4h:v0\n"
     ]
    },
    {
     "name": "stderr",
     "output_type": "stream",
     "text": [
      "\u001b[34m\u001b[1mwandb\u001b[0m:   1 of 1 files downloaded.  \n"
     ]
    },
    {
     "name": "stdout",
     "output_type": "stream",
     "text": [
      "2025-04-20 13:10:37,274 - INFO - Downloaded logs_5x5pf3oa:v0 to /scratch/downloaded_artifacts/logs_5x5pf3oa:v0\n"
     ]
    },
    {
     "name": "stderr",
     "output_type": "stream",
     "text": [
      "\u001b[34m\u001b[1mwandb\u001b[0m:   1 of 1 files downloaded.  \n"
     ]
    },
    {
     "name": "stdout",
     "output_type": "stream",
     "text": [
      "2025-04-20 13:10:37,323 - INFO - Downloaded logs_8wo9g0cu:v0 to /scratch/downloaded_artifacts/logs_8wo9g0cu:v0\n"
     ]
    },
    {
     "name": "stderr",
     "output_type": "stream",
     "text": [
      "\u001b[34m\u001b[1mwandb\u001b[0m:   1 of 1 files downloaded.  \n"
     ]
    },
    {
     "name": "stdout",
     "output_type": "stream",
     "text": [
      "2025-04-20 13:10:37,589 - INFO - Downloaded logs_fdfjtukp:v0 to /scratch/downloaded_artifacts/logs_fdfjtukp:v0\n"
     ]
    },
    {
     "name": "stderr",
     "output_type": "stream",
     "text": [
      "\u001b[34m\u001b[1mwandb\u001b[0m:   1 of 1 files downloaded.  \n"
     ]
    },
    {
     "name": "stdout",
     "output_type": "stream",
     "text": [
      "2025-04-20 13:10:37,713 - INFO - Downloaded logs_m3p7xm43:v0 to /scratch/downloaded_artifacts/logs_m3p7xm43:v0\n"
     ]
    },
    {
     "name": "stderr",
     "output_type": "stream",
     "text": [
      "\u001b[34m\u001b[1mwandb\u001b[0m:   1 of 1 files downloaded.  \n"
     ]
    },
    {
     "name": "stdout",
     "output_type": "stream",
     "text": [
      "2025-04-20 13:10:37,716 - INFO - Downloaded logs_q9brd6h4:v0 to /scratch/downloaded_artifacts/logs_q9brd6h4:v0\n"
     ]
    },
    {
     "name": "stderr",
     "output_type": "stream",
     "text": [
      "\u001b[34m\u001b[1mwandb\u001b[0m:   1 of 1 files downloaded.  \n"
     ]
    },
    {
     "name": "stdout",
     "output_type": "stream",
     "text": [
      "2025-04-20 13:10:37,749 - INFO - Downloaded logs_k7fd19el:v0 to /scratch/downloaded_artifacts/logs_k7fd19el:v0\n"
     ]
    },
    {
     "name": "stderr",
     "output_type": "stream",
     "text": [
      "\u001b[34m\u001b[1mwandb\u001b[0m:   1 of 1 files downloaded.  \n"
     ]
    },
    {
     "name": "stdout",
     "output_type": "stream",
     "text": [
      "2025-04-20 13:10:37,937 - INFO - Downloaded logs_txnismqw:v0 to /scratch/downloaded_artifacts/logs_txnismqw:v0\n"
     ]
    },
    {
     "name": "stderr",
     "output_type": "stream",
     "text": [
      "\u001b[34m\u001b[1mwandb\u001b[0m:   1 of 1 files downloaded.  \n"
     ]
    },
    {
     "name": "stdout",
     "output_type": "stream",
     "text": [
      "2025-04-20 13:10:37,961 - INFO - Downloaded logs_uk0s9efv:v0 to /scratch/downloaded_artifacts/logs_uk0s9efv:v0\n"
     ]
    },
    {
     "name": "stderr",
     "output_type": "stream",
     "text": [
      "\u001b[34m\u001b[1mwandb\u001b[0m:   1 of 1 files downloaded.  \n",
      "\u001b[34m\u001b[1mwandb\u001b[0m:   1 of 1 files downloaded.  \n"
     ]
    },
    {
     "name": "stdout",
     "output_type": "stream",
     "text": [
      "2025-04-20 13:10:38,010 - INFO - Downloaded logs_pdz0cxsl:v0 to /scratch/downloaded_artifacts/logs_pdz0cxsl:v0\n",
      "2025-04-20 13:10:38,014 - INFO - Downloaded logs_s1itlkji:v0 to /scratch/downloaded_artifacts/logs_s1itlkji:v0\n"
     ]
    },
    {
     "name": "stderr",
     "output_type": "stream",
     "text": [
      "\u001b[34m\u001b[1mwandb\u001b[0m:   1 of 1 files downloaded.  \n"
     ]
    },
    {
     "name": "stdout",
     "output_type": "stream",
     "text": [
      "2025-04-20 13:10:38,083 - INFO - Downloaded logs_rs5xlmg2:v0 to /scratch/downloaded_artifacts/logs_rs5xlmg2:v0\n"
     ]
    },
    {
     "name": "stderr",
     "output_type": "stream",
     "text": [
      "\u001b[34m\u001b[1mwandb\u001b[0m:   1 of 1 files downloaded.  \n"
     ]
    },
    {
     "name": "stdout",
     "output_type": "stream",
     "text": [
      "2025-04-20 13:10:38,196 - INFO - Downloaded logs_0pnl74y0:v0 to /scratch/downloaded_artifacts/logs_0pnl74y0:v0\n"
     ]
    },
    {
     "name": "stderr",
     "output_type": "stream",
     "text": [
      "\u001b[34m\u001b[1mwandb\u001b[0m:   1 of 1 files downloaded.  \n"
     ]
    },
    {
     "name": "stdout",
     "output_type": "stream",
     "text": [
      "2025-04-20 13:10:38,237 - INFO - Downloaded logs_hep26ncz:v0 to /scratch/downloaded_artifacts/logs_hep26ncz:v0\n"
     ]
    },
    {
     "name": "stderr",
     "output_type": "stream",
     "text": [
      "\u001b[34m\u001b[1mwandb\u001b[0m:   1 of 1 files downloaded.  \n"
     ]
    },
    {
     "name": "stdout",
     "output_type": "stream",
     "text": [
      "2025-04-20 13:10:38,317 - INFO - Downloaded logs_usj2qo26:v0 to /scratch/downloaded_artifacts/logs_usj2qo26:v0\n"
     ]
    },
    {
     "name": "stderr",
     "output_type": "stream",
     "text": [
      "\u001b[34m\u001b[1mwandb\u001b[0m:   1 of 1 files downloaded.  \n"
     ]
    },
    {
     "name": "stdout",
     "output_type": "stream",
     "text": [
      "2025-04-20 13:10:38,369 - INFO - Downloaded logs_34xw75od:v0 to /scratch/downloaded_artifacts/logs_34xw75od:v0\n"
     ]
    },
    {
     "name": "stderr",
     "output_type": "stream",
     "text": [
      "\u001b[34m\u001b[1mwandb\u001b[0m:   1 of 1 files downloaded.  \n"
     ]
    },
    {
     "name": "stdout",
     "output_type": "stream",
     "text": [
      "2025-04-20 13:10:38,428 - INFO - Downloaded logs_zat9514g:v0 to /scratch/downloaded_artifacts/logs_zat9514g:v0\n"
     ]
    },
    {
     "name": "stderr",
     "output_type": "stream",
     "text": [
      "\u001b[34m\u001b[1mwandb\u001b[0m:   1 of 1 files downloaded.  \n"
     ]
    },
    {
     "name": "stdout",
     "output_type": "stream",
     "text": [
      "2025-04-20 13:10:38,571 - INFO - Downloaded logs_5qngbtlx:v0 to /scratch/downloaded_artifacts/logs_5qngbtlx:v0\n"
     ]
    },
    {
     "name": "stderr",
     "output_type": "stream",
     "text": [
      "\u001b[34m\u001b[1mwandb\u001b[0m:   1 of 1 files downloaded.  \n"
     ]
    },
    {
     "name": "stdout",
     "output_type": "stream",
     "text": [
      "2025-04-20 13:10:38,683 - INFO - Downloaded logs_7tvdemqx:v0 to /scratch/downloaded_artifacts/logs_7tvdemqx:v0\n"
     ]
    },
    {
     "name": "stderr",
     "output_type": "stream",
     "text": [
      "\u001b[34m\u001b[1mwandb\u001b[0m:   1 of 1 files downloaded.  \n"
     ]
    },
    {
     "name": "stdout",
     "output_type": "stream",
     "text": [
      "2025-04-20 13:10:38,701 - INFO - Downloaded logs_jjapw72o:v0 to /scratch/downloaded_artifacts/logs_jjapw72o:v0\n"
     ]
    },
    {
     "name": "stderr",
     "output_type": "stream",
     "text": [
      "\u001b[34m\u001b[1mwandb\u001b[0m:   1 of 1 files downloaded.  \n",
      "\u001b[34m\u001b[1mwandb\u001b[0m:   1 of 1 files downloaded.  \n"
     ]
    },
    {
     "name": "stdout",
     "output_type": "stream",
     "text": [
      "2025-04-20 13:10:38,721 - INFO - Downloaded logs_v5g2hod8:v0 to /scratch/downloaded_artifacts/logs_v5g2hod8:v0\n",
      "2025-04-20 13:10:38,722 - INFO - Downloaded logs_8dnlfuyn:v0 to /scratch/downloaded_artifacts/logs_8dnlfuyn:v0\n"
     ]
    },
    {
     "name": "stderr",
     "output_type": "stream",
     "text": [
      "\u001b[34m\u001b[1mwandb\u001b[0m:   1 of 1 files downloaded.  \n"
     ]
    },
    {
     "name": "stdout",
     "output_type": "stream",
     "text": [
      "2025-04-20 13:10:38,756 - INFO - Downloaded logs_js62virs:v0 to /scratch/downloaded_artifacts/logs_js62virs:v0\n"
     ]
    },
    {
     "name": "stderr",
     "output_type": "stream",
     "text": [
      "\u001b[34m\u001b[1mwandb\u001b[0m:   1 of 1 files downloaded.  \n"
     ]
    },
    {
     "name": "stdout",
     "output_type": "stream",
     "text": [
      "2025-04-20 13:10:38,928 - INFO - Downloaded logs_mtomckkg:v0 to /scratch/downloaded_artifacts/logs_mtomckkg:v0\n"
     ]
    },
    {
     "name": "stderr",
     "output_type": "stream",
     "text": [
      "\u001b[34m\u001b[1mwandb\u001b[0m:   1 of 1 files downloaded.  \n"
     ]
    },
    {
     "name": "stdout",
     "output_type": "stream",
     "text": [
      "2025-04-20 13:10:38,968 - INFO - Downloaded logs_17ecguef:v0 to /scratch/downloaded_artifacts/logs_17ecguef:v0\n"
     ]
    },
    {
     "name": "stderr",
     "output_type": "stream",
     "text": [
      "\u001b[34m\u001b[1mwandb\u001b[0m:   1 of 1 files downloaded.  \n"
     ]
    },
    {
     "name": "stdout",
     "output_type": "stream",
     "text": [
      "2025-04-20 13:10:39,012 - INFO - Downloaded logs_77c9491m:v0 to /scratch/downloaded_artifacts/logs_77c9491m:v0\n"
     ]
    },
    {
     "name": "stderr",
     "output_type": "stream",
     "text": [
      "\u001b[34m\u001b[1mwandb\u001b[0m:   1 of 1 files downloaded.  \n"
     ]
    },
    {
     "name": "stdout",
     "output_type": "stream",
     "text": [
      "2025-04-20 13:10:39,029 - INFO - Downloaded logs_3e40la40:v0 to /scratch/downloaded_artifacts/logs_3e40la40:v0\n"
     ]
    },
    {
     "name": "stderr",
     "output_type": "stream",
     "text": [
      "\u001b[34m\u001b[1mwandb\u001b[0m:   1 of 1 files downloaded.  \n"
     ]
    },
    {
     "name": "stdout",
     "output_type": "stream",
     "text": [
      "2025-04-20 13:10:39,240 - INFO - Downloaded logs_ibi1i1ft:v0 to /scratch/downloaded_artifacts/logs_ibi1i1ft:v0\n"
     ]
    },
    {
     "name": "stderr",
     "output_type": "stream",
     "text": [
      "\u001b[34m\u001b[1mwandb\u001b[0m:   1 of 1 files downloaded.  \n"
     ]
    },
    {
     "name": "stdout",
     "output_type": "stream",
     "text": [
      "2025-04-20 13:10:39,483 - INFO - Downloaded logs_2e2gx22m:v0 to /scratch/downloaded_artifacts/logs_2e2gx22m:v0\n"
     ]
    },
    {
     "name": "stderr",
     "output_type": "stream",
     "text": [
      "\u001b[34m\u001b[1mwandb\u001b[0m:   1 of 1 files downloaded.  \n",
      "\u001b[34m\u001b[1mwandb\u001b[0m:   1 of 1 files downloaded.  \n"
     ]
    },
    {
     "name": "stdout",
     "output_type": "stream",
     "text": [
      "2025-04-20 13:10:39,486 - INFO - Downloaded logs_irnfcgzi:v0 to /scratch/downloaded_artifacts/logs_irnfcgzi:v0\n",
      "2025-04-20 13:10:39,487 - INFO - Downloaded logs_j7d5vme8:v0 to /scratch/downloaded_artifacts/logs_j7d5vme8:v0\n"
     ]
    },
    {
     "name": "stderr",
     "output_type": "stream",
     "text": [
      "\u001b[34m\u001b[1mwandb\u001b[0m:   1 of 1 files downloaded.  \n"
     ]
    },
    {
     "name": "stdout",
     "output_type": "stream",
     "text": [
      "2025-04-20 13:10:39,563 - INFO - Downloaded logs_nymggngf:v0 to /scratch/downloaded_artifacts/logs_nymggngf:v0\n"
     ]
    },
    {
     "name": "stderr",
     "output_type": "stream",
     "text": [
      "\u001b[34m\u001b[1mwandb\u001b[0m:   1 of 1 files downloaded.  \n"
     ]
    },
    {
     "name": "stdout",
     "output_type": "stream",
     "text": [
      "2025-04-20 13:10:39,566 - INFO - Downloaded logs_b1t9lwk1:v0 to /scratch/downloaded_artifacts/logs_b1t9lwk1:v0\n"
     ]
    },
    {
     "name": "stderr",
     "output_type": "stream",
     "text": [
      "\u001b[34m\u001b[1mwandb\u001b[0m:   1 of 1 files downloaded.  \n"
     ]
    },
    {
     "name": "stdout",
     "output_type": "stream",
     "text": [
      "2025-04-20 13:10:39,641 - INFO - Downloaded logs_hayaqmd8:v0 to /scratch/downloaded_artifacts/logs_hayaqmd8:v0\n"
     ]
    },
    {
     "name": "stderr",
     "output_type": "stream",
     "text": [
      "\u001b[34m\u001b[1mwandb\u001b[0m:   1 of 1 files downloaded.  \n"
     ]
    },
    {
     "name": "stdout",
     "output_type": "stream",
     "text": [
      "2025-04-20 13:10:39,670 - INFO - Downloaded logs_jfo9ejur:v0 to /scratch/downloaded_artifacts/logs_jfo9ejur:v0\n"
     ]
    },
    {
     "name": "stderr",
     "output_type": "stream",
     "text": [
      "\u001b[34m\u001b[1mwandb\u001b[0m:   1 of 1 files downloaded.  \n"
     ]
    },
    {
     "name": "stdout",
     "output_type": "stream",
     "text": [
      "2025-04-20 13:10:39,742 - INFO - Downloaded logs_vsmt1zq3:v0 to /scratch/downloaded_artifacts/logs_vsmt1zq3:v0\n"
     ]
    },
    {
     "name": "stderr",
     "output_type": "stream",
     "text": [
      "\u001b[34m\u001b[1mwandb\u001b[0m:   1 of 1 files downloaded.  \n"
     ]
    },
    {
     "name": "stdout",
     "output_type": "stream",
     "text": [
      "2025-04-20 13:10:39,791 - INFO - Downloaded logs_zbywyvah:v0 to /scratch/downloaded_artifacts/logs_zbywyvah:v0\n"
     ]
    },
    {
     "name": "stderr",
     "output_type": "stream",
     "text": [
      "\u001b[34m\u001b[1mwandb\u001b[0m:   1 of 1 files downloaded.  \n"
     ]
    },
    {
     "name": "stdout",
     "output_type": "stream",
     "text": [
      "2025-04-20 13:10:39,942 - INFO - Downloaded logs_k82gqo8w:v0 to /scratch/downloaded_artifacts/logs_k82gqo8w:v0\n"
     ]
    },
    {
     "name": "stderr",
     "output_type": "stream",
     "text": [
      "\u001b[34m\u001b[1mwandb\u001b[0m: \u001b[32m\u001b[41mERROR\u001b[0m Error while calling W&B API: rate limit exceeded (<Response [429]>)\n",
      "\u001b[34m\u001b[1mwandb\u001b[0m: \u001b[32m\u001b[41mERROR\u001b[0m Error while calling W&B API: rate limit exceeded (<Response [429]>)\n",
      "\u001b[34m\u001b[1mwandb\u001b[0m: \u001b[32m\u001b[41mERROR\u001b[0m Error while calling W&B API: rate limit exceeded (<Response [429]>)\n",
      "\u001b[34m\u001b[1mwandb\u001b[0m: \u001b[32m\u001b[41mERROR\u001b[0m Error while calling W&B API: rate limit exceeded (<Response [429]>)\n",
      "\u001b[34m\u001b[1mwandb\u001b[0m:   1 of 1 files downloaded.  \n"
     ]
    },
    {
     "name": "stdout",
     "output_type": "stream",
     "text": [
      "2025-04-20 13:10:40,110 - INFO - Downloaded logs_zqda73z8:v0 to /scratch/downloaded_artifacts/logs_zqda73z8:v0\n"
     ]
    },
    {
     "name": "stderr",
     "output_type": "stream",
     "text": [
      "\u001b[34m\u001b[1mwandb\u001b[0m:   1 of 1 files downloaded.  \n"
     ]
    },
    {
     "name": "stdout",
     "output_type": "stream",
     "text": [
      "2025-04-20 13:10:40,114 - INFO - Downloaded logs_x82k6tli:v0 to /scratch/downloaded_artifacts/logs_x82k6tli:v0\n"
     ]
    },
    {
     "name": "stderr",
     "output_type": "stream",
     "text": [
      "\u001b[34m\u001b[1mwandb\u001b[0m:   1 of 1 files downloaded.  \n"
     ]
    },
    {
     "name": "stdout",
     "output_type": "stream",
     "text": [
      "2025-04-20 13:10:40,119 - INFO - Downloaded logs_yqpf7cyf:v0 to /scratch/downloaded_artifacts/logs_yqpf7cyf:v0\n"
     ]
    },
    {
     "name": "stderr",
     "output_type": "stream",
     "text": [
      "\u001b[34m\u001b[1mwandb\u001b[0m:   1 of 1 files downloaded.  \n"
     ]
    },
    {
     "name": "stdout",
     "output_type": "stream",
     "text": [
      "2025-04-20 13:10:40,139 - INFO - Downloaded logs_201sl00i:v0 to /scratch/downloaded_artifacts/logs_201sl00i:v0\n"
     ]
    },
    {
     "name": "stderr",
     "output_type": "stream",
     "text": [
      "\u001b[34m\u001b[1mwandb\u001b[0m: \u001b[32m\u001b[41mERROR\u001b[0m Error while calling W&B API: rate limit exceeded (<Response [429]>)\n",
      "\u001b[34m\u001b[1mwandb\u001b[0m:   1 of 1 files downloaded.  \n"
     ]
    },
    {
     "name": "stdout",
     "output_type": "stream",
     "text": [
      "2025-04-20 13:10:40,152 - INFO - Downloaded logs_1qmzt7hc:v0 to /scratch/downloaded_artifacts/logs_1qmzt7hc:v0\n"
     ]
    },
    {
     "name": "stderr",
     "output_type": "stream",
     "text": [
      "\u001b[34m\u001b[1mwandb\u001b[0m:   1 of 1 files downloaded.  \n"
     ]
    },
    {
     "name": "stdout",
     "output_type": "stream",
     "text": [
      "2025-04-20 13:10:40,258 - INFO - Downloaded logs_34dfk6yh:v0 to /scratch/downloaded_artifacts/logs_34dfk6yh:v0\n"
     ]
    },
    {
     "name": "stderr",
     "output_type": "stream",
     "text": [
      "\u001b[34m\u001b[1mwandb\u001b[0m:   1 of 1 files downloaded.  \n"
     ]
    },
    {
     "name": "stdout",
     "output_type": "stream",
     "text": [
      "2025-04-20 13:10:40,355 - INFO - Downloaded logs_38leq2ab:v0 to /scratch/downloaded_artifacts/logs_38leq2ab:v0\n"
     ]
    },
    {
     "name": "stderr",
     "output_type": "stream",
     "text": [
      "\u001b[34m\u001b[1mwandb\u001b[0m:   1 of 1 files downloaded.  \n"
     ]
    },
    {
     "name": "stdout",
     "output_type": "stream",
     "text": [
      "2025-04-20 13:10:40,362 - INFO - Downloaded logs_54vc2vjr:v0 to /scratch/downloaded_artifacts/logs_54vc2vjr:v0\n"
     ]
    },
    {
     "name": "stderr",
     "output_type": "stream",
     "text": [
      "\u001b[34m\u001b[1mwandb\u001b[0m:   1 of 1 files downloaded.  \n"
     ]
    },
    {
     "name": "stdout",
     "output_type": "stream",
     "text": [
      "2025-04-20 13:10:40,403 - INFO - Downloaded logs_6gomxktg:v0 to /scratch/downloaded_artifacts/logs_6gomxktg:v0\n"
     ]
    },
    {
     "name": "stderr",
     "output_type": "stream",
     "text": [
      "\u001b[34m\u001b[1mwandb\u001b[0m:   1 of 1 files downloaded.  \n"
     ]
    },
    {
     "name": "stdout",
     "output_type": "stream",
     "text": [
      "2025-04-20 13:10:40,639 - INFO - Downloaded logs_9hc9blgy:v0 to /scratch/downloaded_artifacts/logs_9hc9blgy:v0\n"
     ]
    },
    {
     "name": "stderr",
     "output_type": "stream",
     "text": [
      "\u001b[34m\u001b[1mwandb\u001b[0m: Network error (HTTPError), entering retry loop.\n",
      "\u001b[34m\u001b[1mwandb\u001b[0m: \u001b[32m\u001b[41mERROR\u001b[0m Error while calling W&B API: rate limit exceeded (<Response [429]>)\n",
      "\u001b[34m\u001b[1mwandb\u001b[0m: \u001b[32m\u001b[41mERROR\u001b[0m Error while calling W&B API: rate limit exceeded (<Response [429]>)\n",
      "\u001b[34m\u001b[1mwandb\u001b[0m: \u001b[32m\u001b[41mERROR\u001b[0m Error while calling W&B API: rate limit exceeded (<Response [429]>)\n",
      "\u001b[34m\u001b[1mwandb\u001b[0m: \u001b[32m\u001b[41mERROR\u001b[0m Error while calling W&B API: rate limit exceeded (<Response [429]>)\n",
      "\u001b[34m\u001b[1mwandb\u001b[0m: \u001b[32m\u001b[41mERROR\u001b[0m Error while calling W&B API: rate limit exceeded (<Response [429]>)\n",
      "\u001b[34m\u001b[1mwandb\u001b[0m: \u001b[32m\u001b[41mERROR\u001b[0m Error while calling W&B API: rate limit exceeded (<Response [429]>)\n",
      "\u001b[34m\u001b[1mwandb\u001b[0m: Network error (HTTPError), entering retry loop.\n",
      "\u001b[34m\u001b[1mwandb\u001b[0m: \u001b[32m\u001b[41mERROR\u001b[0m Error while calling W&B API: rate limit exceeded (<Response [429]>)\n",
      "\u001b[34m\u001b[1mwandb\u001b[0m: Network error (HTTPError), entering retry loop.\n",
      "\u001b[34m\u001b[1mwandb\u001b[0m: \u001b[32m\u001b[41mERROR\u001b[0m Error while calling W&B API: rate limit exceeded (<Response [429]>)\n",
      "\u001b[34m\u001b[1mwandb\u001b[0m: Network error (HTTPError), entering retry loop.\n",
      "\u001b[34m\u001b[1mwandb\u001b[0m: \u001b[32m\u001b[41mERROR\u001b[0m Error while calling W&B API: rate limit exceeded (<Response [429]>)\n",
      "\u001b[34m\u001b[1mwandb\u001b[0m: Network error (HTTPError), entering retry loop.\n",
      "\u001b[34m\u001b[1mwandb\u001b[0m: \u001b[32m\u001b[41mERROR\u001b[0m Error while calling W&B API: rate limit exceeded (<Response [429]>)\n",
      "\u001b[34m\u001b[1mwandb\u001b[0m: Network error (HTTPError), entering retry loop.\n",
      "\u001b[34m\u001b[1mwandb\u001b[0m:   1 of 1 files downloaded.  \n"
     ]
    },
    {
     "name": "stdout",
     "output_type": "stream",
     "text": [
      "2025-04-20 13:10:48,336 - INFO - Downloaded logs_goy2fgbl:v0 to /scratch/downloaded_artifacts/logs_goy2fgbl:v0\n"
     ]
    },
    {
     "name": "stderr",
     "output_type": "stream",
     "text": [
      "\u001b[34m\u001b[1mwandb\u001b[0m:   1 of 1 files downloaded.  \n"
     ]
    },
    {
     "name": "stdout",
     "output_type": "stream",
     "text": [
      "2025-04-20 13:10:48,434 - INFO - Downloaded logs_tjkuf4yb:v0 to /scratch/downloaded_artifacts/logs_tjkuf4yb:v0\n"
     ]
    },
    {
     "name": "stderr",
     "output_type": "stream",
     "text": [
      "\u001b[34m\u001b[1mwandb\u001b[0m:   1 of 1 files downloaded.  \n"
     ]
    },
    {
     "name": "stdout",
     "output_type": "stream",
     "text": [
      "2025-04-20 13:10:48,910 - INFO - Downloaded logs_a5kdz76z:v0 to /scratch/downloaded_artifacts/logs_a5kdz76z:v0\n"
     ]
    },
    {
     "name": "stderr",
     "output_type": "stream",
     "text": [
      "\u001b[34m\u001b[1mwandb\u001b[0m:   1 of 1 files downloaded.  \n"
     ]
    },
    {
     "name": "stdout",
     "output_type": "stream",
     "text": [
      "2025-04-20 13:10:48,937 - INFO - Downloaded logs_ppregu3d:v0 to /scratch/downloaded_artifacts/logs_ppregu3d:v0\n"
     ]
    },
    {
     "name": "stderr",
     "output_type": "stream",
     "text": [
      "\u001b[34m\u001b[1mwandb\u001b[0m:   1 of 1 files downloaded.  \n"
     ]
    },
    {
     "name": "stdout",
     "output_type": "stream",
     "text": [
      "2025-04-20 13:10:48,966 - INFO - Downloaded logs_vdryy4p6:v0 to /scratch/downloaded_artifacts/logs_vdryy4p6:v0\n"
     ]
    },
    {
     "name": "stderr",
     "output_type": "stream",
     "text": [
      "\u001b[34m\u001b[1mwandb\u001b[0m:   1 of 1 files downloaded.  \n"
     ]
    },
    {
     "name": "stdout",
     "output_type": "stream",
     "text": [
      "2025-04-20 13:10:49,003 - INFO - Downloaded logs_b9ylbeut:v0 to /scratch/downloaded_artifacts/logs_b9ylbeut:v0\n"
     ]
    },
    {
     "name": "stderr",
     "output_type": "stream",
     "text": [
      "\u001b[34m\u001b[1mwandb\u001b[0m:   1 of 1 files downloaded.  \n"
     ]
    },
    {
     "name": "stdout",
     "output_type": "stream",
     "text": [
      "2025-04-20 13:10:49,079 - INFO - Downloaded logs_mgny80ny:v0 to /scratch/downloaded_artifacts/logs_mgny80ny:v0\n"
     ]
    },
    {
     "name": "stderr",
     "output_type": "stream",
     "text": [
      "\u001b[34m\u001b[1mwandb\u001b[0m:   1 of 1 files downloaded.  \n"
     ]
    },
    {
     "name": "stdout",
     "output_type": "stream",
     "text": [
      "2025-04-20 13:10:49,156 - INFO - Downloaded logs_yf3um4wr:v0 to /scratch/downloaded_artifacts/logs_yf3um4wr:v0\n"
     ]
    },
    {
     "name": "stderr",
     "output_type": "stream",
     "text": [
      "\u001b[34m\u001b[1mwandb\u001b[0m:   1 of 1 files downloaded.  \n"
     ]
    },
    {
     "name": "stdout",
     "output_type": "stream",
     "text": [
      "2025-04-20 13:10:49,280 - INFO - Downloaded logs_5jrr4ycr:v0 to /scratch/downloaded_artifacts/logs_5jrr4ycr:v0\n"
     ]
    },
    {
     "name": "stderr",
     "output_type": "stream",
     "text": [
      "\u001b[34m\u001b[1mwandb\u001b[0m:   1 of 1 files downloaded.  \n"
     ]
    },
    {
     "name": "stdout",
     "output_type": "stream",
     "text": [
      "2025-04-20 13:10:49,304 - INFO - Downloaded logs_flknq479:v0 to /scratch/downloaded_artifacts/logs_flknq479:v0\n"
     ]
    },
    {
     "name": "stderr",
     "output_type": "stream",
     "text": [
      "\u001b[34m\u001b[1mwandb\u001b[0m:   1 of 1 files downloaded.  \n"
     ]
    },
    {
     "name": "stdout",
     "output_type": "stream",
     "text": [
      "2025-04-20 13:10:49,310 - INFO - Downloaded logs_9ht1mwj5:v0 to /scratch/downloaded_artifacts/logs_9ht1mwj5:v0\n"
     ]
    },
    {
     "name": "stderr",
     "output_type": "stream",
     "text": [
      "\u001b[34m\u001b[1mwandb\u001b[0m:   1 of 1 files downloaded.  \n"
     ]
    },
    {
     "name": "stdout",
     "output_type": "stream",
     "text": [
      "2025-04-20 13:10:49,422 - INFO - Downloaded logs_qlwar5b6:v0 to /scratch/downloaded_artifacts/logs_qlwar5b6:v0\n"
     ]
    },
    {
     "name": "stderr",
     "output_type": "stream",
     "text": [
      "\u001b[34m\u001b[1mwandb\u001b[0m:   1 of 1 files downloaded.  \n"
     ]
    },
    {
     "name": "stdout",
     "output_type": "stream",
     "text": [
      "2025-04-20 13:10:49,459 - INFO - Downloaded logs_7u9lbcxu:v0 to /scratch/downloaded_artifacts/logs_7u9lbcxu:v0\n"
     ]
    },
    {
     "name": "stderr",
     "output_type": "stream",
     "text": [
      "\u001b[34m\u001b[1mwandb\u001b[0m:   1 of 1 files downloaded.  \n"
     ]
    },
    {
     "name": "stdout",
     "output_type": "stream",
     "text": [
      "2025-04-20 13:10:49,653 - INFO - Downloaded logs_5a3oing6:v0 to /scratch/downloaded_artifacts/logs_5a3oing6:v0\n"
     ]
    },
    {
     "name": "stderr",
     "output_type": "stream",
     "text": [
      "\u001b[34m\u001b[1mwandb\u001b[0m:   1 of 1 files downloaded.  \n"
     ]
    },
    {
     "name": "stdout",
     "output_type": "stream",
     "text": [
      "2025-04-20 13:10:49,708 - INFO - Downloaded logs_2kcf5p7x:v0 to /scratch/downloaded_artifacts/logs_2kcf5p7x:v0\n"
     ]
    },
    {
     "name": "stderr",
     "output_type": "stream",
     "text": [
      "\u001b[34m\u001b[1mwandb\u001b[0m:   1 of 1 files downloaded.  \n"
     ]
    },
    {
     "name": "stdout",
     "output_type": "stream",
     "text": [
      "2025-04-20 13:10:49,757 - INFO - Downloaded logs_fqcir1g3:v0 to /scratch/downloaded_artifacts/logs_fqcir1g3:v0\n"
     ]
    },
    {
     "name": "stderr",
     "output_type": "stream",
     "text": [
      "\u001b[34m\u001b[1mwandb\u001b[0m:   1 of 1 files downloaded.  \n"
     ]
    },
    {
     "name": "stdout",
     "output_type": "stream",
     "text": [
      "2025-04-20 13:10:49,807 - INFO - Downloaded logs_1lcd4jgv:v0 to /scratch/downloaded_artifacts/logs_1lcd4jgv:v0\n"
     ]
    },
    {
     "name": "stderr",
     "output_type": "stream",
     "text": [
      "\u001b[34m\u001b[1mwandb\u001b[0m:   1 of 1 files downloaded.  \n"
     ]
    },
    {
     "name": "stdout",
     "output_type": "stream",
     "text": [
      "2025-04-20 13:10:49,824 - INFO - Downloaded logs_tdx34kh9:v0 to /scratch/downloaded_artifacts/logs_tdx34kh9:v0\n"
     ]
    },
    {
     "name": "stderr",
     "output_type": "stream",
     "text": [
      "\u001b[34m\u001b[1mwandb\u001b[0m:   1 of 1 files downloaded.  \n"
     ]
    },
    {
     "name": "stdout",
     "output_type": "stream",
     "text": [
      "2025-04-20 13:10:49,829 - INFO - Downloaded logs_fd0oee6i:v0 to /scratch/downloaded_artifacts/logs_fd0oee6i:v0\n"
     ]
    },
    {
     "name": "stderr",
     "output_type": "stream",
     "text": [
      "\u001b[34m\u001b[1mwandb\u001b[0m:   1 of 1 files downloaded.  \n"
     ]
    },
    {
     "name": "stdout",
     "output_type": "stream",
     "text": [
      "2025-04-20 13:10:49,869 - INFO - Downloaded logs_gkegj0ld:v0 to /scratch/downloaded_artifacts/logs_gkegj0ld:v0\n"
     ]
    },
    {
     "name": "stderr",
     "output_type": "stream",
     "text": [
      "\u001b[34m\u001b[1mwandb\u001b[0m:   1 of 1 files downloaded.  \n"
     ]
    },
    {
     "name": "stdout",
     "output_type": "stream",
     "text": [
      "2025-04-20 13:10:50,062 - INFO - Downloaded logs_er2h4x06:v0 to /scratch/downloaded_artifacts/logs_er2h4x06:v0\n"
     ]
    },
    {
     "name": "stderr",
     "output_type": "stream",
     "text": [
      "\u001b[34m\u001b[1mwandb\u001b[0m:   1 of 1 files downloaded.  \n"
     ]
    },
    {
     "name": "stdout",
     "output_type": "stream",
     "text": [
      "2025-04-20 13:10:50,107 - INFO - Downloaded logs_fvkmfmrz:v0 to /scratch/downloaded_artifacts/logs_fvkmfmrz:v0\n"
     ]
    },
    {
     "name": "stderr",
     "output_type": "stream",
     "text": [
      "\u001b[34m\u001b[1mwandb\u001b[0m:   1 of 1 files downloaded.  \n"
     ]
    },
    {
     "name": "stdout",
     "output_type": "stream",
     "text": [
      "2025-04-20 13:10:50,226 - INFO - Downloaded logs_gruwgtah:v0 to /scratch/downloaded_artifacts/logs_gruwgtah:v0\n"
     ]
    },
    {
     "name": "stderr",
     "output_type": "stream",
     "text": [
      "\u001b[34m\u001b[1mwandb\u001b[0m:   1 of 1 files downloaded.  \n"
     ]
    },
    {
     "name": "stdout",
     "output_type": "stream",
     "text": [
      "2025-04-20 13:10:50,271 - INFO - Downloaded logs_j0vjxg8x:v0 to /scratch/downloaded_artifacts/logs_j0vjxg8x:v0\n"
     ]
    },
    {
     "name": "stderr",
     "output_type": "stream",
     "text": [
      "\u001b[34m\u001b[1mwandb\u001b[0m:   1 of 1 files downloaded.  \n"
     ]
    },
    {
     "name": "stdout",
     "output_type": "stream",
     "text": [
      "2025-04-20 13:10:50,299 - INFO - Downloaded logs_lr2yolew:v0 to /scratch/downloaded_artifacts/logs_lr2yolew:v0\n"
     ]
    },
    {
     "name": "stderr",
     "output_type": "stream",
     "text": [
      "\u001b[34m\u001b[1mwandb\u001b[0m:   1 of 1 files downloaded.  \n"
     ]
    },
    {
     "name": "stdout",
     "output_type": "stream",
     "text": [
      "2025-04-20 13:10:50,316 - INFO - Downloaded logs_ry7uimfi:v0 to /scratch/downloaded_artifacts/logs_ry7uimfi:v0\n"
     ]
    },
    {
     "name": "stderr",
     "output_type": "stream",
     "text": [
      "\u001b[34m\u001b[1mwandb\u001b[0m:   1 of 1 files downloaded.  \n"
     ]
    },
    {
     "name": "stdout",
     "output_type": "stream",
     "text": [
      "2025-04-20 13:10:50,495 - INFO - Downloaded logs_trvhi6a4:v0 to /scratch/downloaded_artifacts/logs_trvhi6a4:v0\n"
     ]
    },
    {
     "name": "stderr",
     "output_type": "stream",
     "text": [
      "\u001b[34m\u001b[1mwandb\u001b[0m:   1 of 1 files downloaded.  \n"
     ]
    },
    {
     "name": "stdout",
     "output_type": "stream",
     "text": [
      "2025-04-20 13:10:50,586 - INFO - Downloaded logs_uwdal1i1:v0 to /scratch/downloaded_artifacts/logs_uwdal1i1:v0\n"
     ]
    },
    {
     "name": "stderr",
     "output_type": "stream",
     "text": [
      "\u001b[34m\u001b[1mwandb\u001b[0m:   1 of 1 files downloaded.  \n"
     ]
    },
    {
     "name": "stdout",
     "output_type": "stream",
     "text": [
      "2025-04-20 13:10:50,664 - INFO - Downloaded logs_xtfwys5s:v0 to /scratch/downloaded_artifacts/logs_xtfwys5s:v0\n"
     ]
    },
    {
     "name": "stderr",
     "output_type": "stream",
     "text": [
      "\u001b[34m\u001b[1mwandb\u001b[0m:   1 of 1 files downloaded.  \n"
     ]
    },
    {
     "name": "stdout",
     "output_type": "stream",
     "text": [
      "2025-04-20 13:10:50,704 - INFO - Downloaded logs_z5ksu2tz:v0 to /scratch/downloaded_artifacts/logs_z5ksu2tz:v0\n"
     ]
    },
    {
     "name": "stderr",
     "output_type": "stream",
     "text": [
      "\u001b[34m\u001b[1mwandb\u001b[0m:   1 of 1 files downloaded.  \n"
     ]
    },
    {
     "name": "stdout",
     "output_type": "stream",
     "text": [
      "2025-04-20 13:10:50,762 - INFO - Downloaded logs_trve2gt1:v0 to /scratch/downloaded_artifacts/logs_trve2gt1:v0\n"
     ]
    },
    {
     "name": "stderr",
     "output_type": "stream",
     "text": [
      "\u001b[34m\u001b[1mwandb\u001b[0m:   1 of 1 files downloaded.  \n"
     ]
    },
    {
     "name": "stdout",
     "output_type": "stream",
     "text": [
      "2025-04-20 13:10:50,862 - INFO - Downloaded logs_17qz3j8z:v0 to /scratch/downloaded_artifacts/logs_17qz3j8z:v0\n"
     ]
    },
    {
     "name": "stderr",
     "output_type": "stream",
     "text": [
      "\u001b[34m\u001b[1mwandb\u001b[0m:   1 of 1 files downloaded.  \n"
     ]
    },
    {
     "name": "stdout",
     "output_type": "stream",
     "text": [
      "2025-04-20 13:10:50,901 - INFO - Downloaded logs_z7285lt7:v0 to /scratch/downloaded_artifacts/logs_z7285lt7:v0\n"
     ]
    },
    {
     "name": "stderr",
     "output_type": "stream",
     "text": [
      "\u001b[34m\u001b[1mwandb\u001b[0m:   1 of 1 files downloaded.  \n"
     ]
    },
    {
     "name": "stdout",
     "output_type": "stream",
     "text": [
      "2025-04-20 13:10:51,039 - INFO - Downloaded logs_zhkhdz4c:v0 to /scratch/downloaded_artifacts/logs_zhkhdz4c:v0\n"
     ]
    },
    {
     "name": "stderr",
     "output_type": "stream",
     "text": [
      "\u001b[34m\u001b[1mwandb\u001b[0m:   1 of 1 files downloaded.  \n"
     ]
    },
    {
     "name": "stdout",
     "output_type": "stream",
     "text": [
      "2025-04-20 13:10:51,108 - INFO - Downloaded logs_0yaixrq7:v0 to /scratch/downloaded_artifacts/logs_0yaixrq7:v0\n"
     ]
    },
    {
     "name": "stderr",
     "output_type": "stream",
     "text": [
      "\u001b[34m\u001b[1mwandb\u001b[0m:   1 of 1 files downloaded.  \n"
     ]
    },
    {
     "name": "stdout",
     "output_type": "stream",
     "text": [
      "2025-04-20 13:10:51,166 - INFO - Downloaded logs_ewac7ywn:v0 to /scratch/downloaded_artifacts/logs_ewac7ywn:v0\n"
     ]
    },
    {
     "name": "stderr",
     "output_type": "stream",
     "text": [
      "\u001b[34m\u001b[1mwandb\u001b[0m:   1 of 1 files downloaded.  \n"
     ]
    },
    {
     "name": "stdout",
     "output_type": "stream",
     "text": [
      "2025-04-20 13:10:51,172 - INFO - Downloaded logs_4a795hto:v0 to /scratch/downloaded_artifacts/logs_4a795hto:v0\n"
     ]
    },
    {
     "name": "stderr",
     "output_type": "stream",
     "text": [
      "\u001b[34m\u001b[1mwandb\u001b[0m:   1 of 1 files downloaded.  \n"
     ]
    },
    {
     "name": "stdout",
     "output_type": "stream",
     "text": [
      "2025-04-20 13:10:51,296 - INFO - Downloaded logs_h02bifbj:v0 to /scratch/downloaded_artifacts/logs_h02bifbj:v0\n"
     ]
    },
    {
     "name": "stderr",
     "output_type": "stream",
     "text": [
      "\u001b[34m\u001b[1mwandb\u001b[0m:   1 of 1 files downloaded.  \n"
     ]
    },
    {
     "name": "stdout",
     "output_type": "stream",
     "text": [
      "2025-04-20 13:10:51,328 - INFO - Downloaded logs_81mbt3mu:v0 to /scratch/downloaded_artifacts/logs_81mbt3mu:v0\n"
     ]
    },
    {
     "name": "stderr",
     "output_type": "stream",
     "text": [
      "\u001b[34m\u001b[1mwandb\u001b[0m:   1 of 1 files downloaded.  \n"
     ]
    },
    {
     "name": "stdout",
     "output_type": "stream",
     "text": [
      "2025-04-20 13:10:51,382 - INFO - Downloaded logs_8wa97vjp:v0 to /scratch/downloaded_artifacts/logs_8wa97vjp:v0\n"
     ]
    },
    {
     "name": "stderr",
     "output_type": "stream",
     "text": [
      "\u001b[34m\u001b[1mwandb\u001b[0m:   1 of 1 files downloaded.  \n"
     ]
    },
    {
     "name": "stdout",
     "output_type": "stream",
     "text": [
      "2025-04-20 13:10:51,607 - INFO - Downloaded logs_o8phhj38:v0 to /scratch/downloaded_artifacts/logs_o8phhj38:v0\n"
     ]
    },
    {
     "name": "stderr",
     "output_type": "stream",
     "text": [
      "\u001b[34m\u001b[1mwandb\u001b[0m:   1 of 1 files downloaded.  \n"
     ]
    },
    {
     "name": "stdout",
     "output_type": "stream",
     "text": [
      "2025-04-20 13:10:51,641 - INFO - Downloaded logs_mnwnsfct:v0 to /scratch/downloaded_artifacts/logs_mnwnsfct:v0\n"
     ]
    },
    {
     "name": "stderr",
     "output_type": "stream",
     "text": [
      "\u001b[34m\u001b[1mwandb\u001b[0m:   1 of 1 files downloaded.  \n"
     ]
    },
    {
     "name": "stdout",
     "output_type": "stream",
     "text": [
      "2025-04-20 13:10:51,647 - INFO - Downloaded logs_04j06a7o:v0 to /scratch/downloaded_artifacts/logs_04j06a7o:v0\n"
     ]
    },
    {
     "name": "stderr",
     "output_type": "stream",
     "text": [
      "\u001b[34m\u001b[1mwandb\u001b[0m:   1 of 1 files downloaded.  \n"
     ]
    },
    {
     "name": "stdout",
     "output_type": "stream",
     "text": [
      "2025-04-20 13:10:51,679 - INFO - Downloaded logs_pxminm8o:v0 to /scratch/downloaded_artifacts/logs_pxminm8o:v0\n"
     ]
    },
    {
     "name": "stderr",
     "output_type": "stream",
     "text": [
      "\u001b[34m\u001b[1mwandb\u001b[0m:   1 of 1 files downloaded.  \n"
     ]
    },
    {
     "name": "stdout",
     "output_type": "stream",
     "text": [
      "2025-04-20 13:10:51,800 - INFO - Downloaded logs_60s4y2xi:v0 to /scratch/downloaded_artifacts/logs_60s4y2xi:v0\n"
     ]
    },
    {
     "name": "stderr",
     "output_type": "stream",
     "text": [
      "\u001b[34m\u001b[1mwandb\u001b[0m:   1 of 1 files downloaded.  \n"
     ]
    },
    {
     "name": "stdout",
     "output_type": "stream",
     "text": [
      "2025-04-20 13:10:51,833 - INFO - Downloaded logs_15xfiykn:v0 to /scratch/downloaded_artifacts/logs_15xfiykn:v0\n"
     ]
    },
    {
     "name": "stderr",
     "output_type": "stream",
     "text": [
      "\u001b[34m\u001b[1mwandb\u001b[0m:   1 of 1 files downloaded.  \n"
     ]
    },
    {
     "name": "stdout",
     "output_type": "stream",
     "text": [
      "2025-04-20 13:10:51,951 - INFO - Downloaded logs_7t9d31pa:v0 to /scratch/downloaded_artifacts/logs_7t9d31pa:v0\n"
     ]
    },
    {
     "name": "stderr",
     "output_type": "stream",
     "text": [
      "\u001b[34m\u001b[1mwandb\u001b[0m:   1 of 1 files downloaded.  \n"
     ]
    },
    {
     "name": "stdout",
     "output_type": "stream",
     "text": [
      "2025-04-20 13:10:52,046 - INFO - Downloaded logs_fv8ln44n:v0 to /scratch/downloaded_artifacts/logs_fv8ln44n:v0\n"
     ]
    },
    {
     "name": "stderr",
     "output_type": "stream",
     "text": [
      "\u001b[34m\u001b[1mwandb\u001b[0m:   1 of 1 files downloaded.  \n"
     ]
    },
    {
     "name": "stdout",
     "output_type": "stream",
     "text": [
      "2025-04-20 13:10:52,125 - INFO - Downloaded logs_go49ntgp:v0 to /scratch/downloaded_artifacts/logs_go49ntgp:v0\n"
     ]
    },
    {
     "name": "stderr",
     "output_type": "stream",
     "text": [
      "\u001b[34m\u001b[1mwandb\u001b[0m:   1 of 1 files downloaded.  \n"
     ]
    },
    {
     "name": "stdout",
     "output_type": "stream",
     "text": [
      "2025-04-20 13:10:52,211 - INFO - Downloaded logs_i72uhc6n:v0 to /scratch/downloaded_artifacts/logs_i72uhc6n:v0\n"
     ]
    },
    {
     "name": "stderr",
     "output_type": "stream",
     "text": [
      "\u001b[34m\u001b[1mwandb\u001b[0m:   1 of 1 files downloaded.  \n"
     ]
    },
    {
     "name": "stdout",
     "output_type": "stream",
     "text": [
      "2025-04-20 13:10:52,236 - INFO - Downloaded logs_pxp0xt93:v0 to /scratch/downloaded_artifacts/logs_pxp0xt93:v0\n"
     ]
    },
    {
     "name": "stderr",
     "output_type": "stream",
     "text": [
      "\u001b[34m\u001b[1mwandb\u001b[0m:   1 of 1 files downloaded.  \n"
     ]
    },
    {
     "name": "stdout",
     "output_type": "stream",
     "text": [
      "2025-04-20 13:10:52,247 - INFO - Downloaded logs_ccxy4ujr:v0 to /scratch/downloaded_artifacts/logs_ccxy4ujr:v0\n"
     ]
    },
    {
     "name": "stderr",
     "output_type": "stream",
     "text": [
      "\u001b[34m\u001b[1mwandb\u001b[0m:   1 of 1 files downloaded.  \n"
     ]
    },
    {
     "name": "stdout",
     "output_type": "stream",
     "text": [
      "2025-04-20 13:10:52,378 - INFO - Downloaded logs_imda0th5:v0 to /scratch/downloaded_artifacts/logs_imda0th5:v0\n"
     ]
    },
    {
     "name": "stderr",
     "output_type": "stream",
     "text": [
      "\u001b[34m\u001b[1mwandb\u001b[0m:   1 of 1 files downloaded.  \n"
     ]
    },
    {
     "name": "stdout",
     "output_type": "stream",
     "text": [
      "2025-04-20 13:10:52,418 - INFO - Downloaded logs_ruh9g08d:v0 to /scratch/downloaded_artifacts/logs_ruh9g08d:v0\n"
     ]
    },
    {
     "name": "stderr",
     "output_type": "stream",
     "text": [
      "\u001b[34m\u001b[1mwandb\u001b[0m:   1 of 1 files downloaded.  \n"
     ]
    },
    {
     "name": "stdout",
     "output_type": "stream",
     "text": [
      "2025-04-20 13:10:52,499 - INFO - Downloaded logs_rtuti6j1:v0 to /scratch/downloaded_artifacts/logs_rtuti6j1:v0\n"
     ]
    },
    {
     "name": "stderr",
     "output_type": "stream",
     "text": [
      "\u001b[34m\u001b[1mwandb\u001b[0m:   1 of 1 files downloaded.  \n"
     ]
    },
    {
     "name": "stdout",
     "output_type": "stream",
     "text": [
      "2025-04-20 13:10:52,527 - INFO - Downloaded logs_w8g41poo:v0 to /scratch/downloaded_artifacts/logs_w8g41poo:v0\n"
     ]
    },
    {
     "name": "stderr",
     "output_type": "stream",
     "text": [
      "\u001b[34m\u001b[1mwandb\u001b[0m:   1 of 1 files downloaded.  \n"
     ]
    },
    {
     "name": "stdout",
     "output_type": "stream",
     "text": [
      "2025-04-20 13:10:52,606 - INFO - Downloaded logs_y7jahj84:v0 to /scratch/downloaded_artifacts/logs_y7jahj84:v0\n"
     ]
    },
    {
     "name": "stderr",
     "output_type": "stream",
     "text": [
      "\u001b[34m\u001b[1mwandb\u001b[0m:   1 of 1 files downloaded.  \n"
     ]
    },
    {
     "name": "stdout",
     "output_type": "stream",
     "text": [
      "2025-04-20 13:10:52,661 - INFO - Downloaded logs_emcwcjc6:v0 to /scratch/downloaded_artifacts/logs_emcwcjc6:v0\n"
     ]
    },
    {
     "name": "stderr",
     "output_type": "stream",
     "text": [
      "\u001b[34m\u001b[1mwandb\u001b[0m:   1 of 1 files downloaded.  \n"
     ]
    },
    {
     "name": "stdout",
     "output_type": "stream",
     "text": [
      "2025-04-20 13:10:52,680 - INFO - Downloaded logs_nsrefxum:v0 to /scratch/downloaded_artifacts/logs_nsrefxum:v0\n"
     ]
    },
    {
     "name": "stderr",
     "output_type": "stream",
     "text": [
      "\u001b[34m\u001b[1mwandb\u001b[0m:   1 of 1 files downloaded.  \n"
     ]
    },
    {
     "name": "stdout",
     "output_type": "stream",
     "text": [
      "2025-04-20 13:10:52,752 - INFO - Downloaded logs_3vg64v8v:v0 to /scratch/downloaded_artifacts/logs_3vg64v8v:v0\n"
     ]
    },
    {
     "name": "stderr",
     "output_type": "stream",
     "text": [
      "\u001b[34m\u001b[1mwandb\u001b[0m:   1 of 1 files downloaded.  \n"
     ]
    },
    {
     "name": "stdout",
     "output_type": "stream",
     "text": [
      "2025-04-20 13:10:52,929 - INFO - Downloaded logs_3zqscd40:v0 to /scratch/downloaded_artifacts/logs_3zqscd40:v0\n"
     ]
    },
    {
     "name": "stderr",
     "output_type": "stream",
     "text": [
      "\u001b[34m\u001b[1mwandb\u001b[0m:   1 of 1 files downloaded.  \n"
     ]
    },
    {
     "name": "stdout",
     "output_type": "stream",
     "text": [
      "2025-04-20 13:10:53,049 - INFO - Downloaded logs_54m41feb:v0 to /scratch/downloaded_artifacts/logs_54m41feb:v0\n"
     ]
    },
    {
     "name": "stderr",
     "output_type": "stream",
     "text": [
      "\u001b[34m\u001b[1mwandb\u001b[0m:   1 of 1 files downloaded.  \n"
     ]
    },
    {
     "name": "stdout",
     "output_type": "stream",
     "text": [
      "2025-04-20 13:10:53,085 - INFO - Downloaded logs_5snegqit:v0 to /scratch/downloaded_artifacts/logs_5snegqit:v0\n"
     ]
    },
    {
     "name": "stderr",
     "output_type": "stream",
     "text": [
      "\u001b[34m\u001b[1mwandb\u001b[0m:   1 of 1 files downloaded.  \n"
     ]
    },
    {
     "name": "stdout",
     "output_type": "stream",
     "text": [
      "2025-04-20 13:10:53,123 - INFO - Downloaded logs_71pue2sh:v0 to /scratch/downloaded_artifacts/logs_71pue2sh:v0\n"
     ]
    },
    {
     "name": "stderr",
     "output_type": "stream",
     "text": [
      "\u001b[34m\u001b[1mwandb\u001b[0m:   1 of 1 files downloaded.  \n"
     ]
    },
    {
     "name": "stdout",
     "output_type": "stream",
     "text": [
      "2025-04-20 13:10:53,157 - INFO - Downloaded logs_f4jm3sk0:v0 to /scratch/downloaded_artifacts/logs_f4jm3sk0:v0\n"
     ]
    },
    {
     "name": "stderr",
     "output_type": "stream",
     "text": [
      "\u001b[34m\u001b[1mwandb\u001b[0m:   1 of 1 files downloaded.  \n"
     ]
    },
    {
     "name": "stdout",
     "output_type": "stream",
     "text": [
      "2025-04-20 13:10:53,202 - INFO - Downloaded logs_iygv5zpf:v0 to /scratch/downloaded_artifacts/logs_iygv5zpf:v0\n"
     ]
    },
    {
     "name": "stderr",
     "output_type": "stream",
     "text": [
      "\u001b[34m\u001b[1mwandb\u001b[0m:   1 of 1 files downloaded.  \n"
     ]
    },
    {
     "name": "stdout",
     "output_type": "stream",
     "text": [
      "2025-04-20 13:10:53,440 - INFO - Downloaded logs_r3u9erio:v0 to /scratch/downloaded_artifacts/logs_r3u9erio:v0\n"
     ]
    },
    {
     "name": "stderr",
     "output_type": "stream",
     "text": [
      "\u001b[34m\u001b[1mwandb\u001b[0m:   1 of 1 files downloaded.  \n"
     ]
    },
    {
     "name": "stdout",
     "output_type": "stream",
     "text": [
      "2025-04-20 13:10:53,560 - INFO - Downloaded logs_34v4rbo4:v0 to /scratch/downloaded_artifacts/logs_34v4rbo4:v0\n"
     ]
    },
    {
     "name": "stderr",
     "output_type": "stream",
     "text": [
      "\u001b[34m\u001b[1mwandb\u001b[0m:   1 of 1 files downloaded.  \n"
     ]
    },
    {
     "name": "stdout",
     "output_type": "stream",
     "text": [
      "2025-04-20 13:10:53,607 - INFO - Downloaded logs_a9my61sd:v0 to /scratch/downloaded_artifacts/logs_a9my61sd:v0\n"
     ]
    },
    {
     "name": "stderr",
     "output_type": "stream",
     "text": [
      "\u001b[34m\u001b[1mwandb\u001b[0m:   1 of 1 files downloaded.  \n"
     ]
    },
    {
     "name": "stdout",
     "output_type": "stream",
     "text": [
      "2025-04-20 13:10:53,622 - INFO - Downloaded logs_b2162jbs:v0 to /scratch/downloaded_artifacts/logs_b2162jbs:v0\n"
     ]
    },
    {
     "name": "stderr",
     "output_type": "stream",
     "text": [
      "\u001b[34m\u001b[1mwandb\u001b[0m:   1 of 1 files downloaded.  \n"
     ]
    },
    {
     "name": "stdout",
     "output_type": "stream",
     "text": [
      "2025-04-20 13:10:53,628 - INFO - Downloaded logs_yr9llrms:v0 to /scratch/downloaded_artifacts/logs_yr9llrms:v0\n"
     ]
    },
    {
     "name": "stderr",
     "output_type": "stream",
     "text": [
      "\u001b[34m\u001b[1mwandb\u001b[0m:   1 of 1 files downloaded.  \n"
     ]
    },
    {
     "name": "stdout",
     "output_type": "stream",
     "text": [
      "2025-04-20 13:10:53,647 - INFO - Downloaded logs_8r4aqay4:v0 to /scratch/downloaded_artifacts/logs_8r4aqay4:v0\n"
     ]
    },
    {
     "name": "stderr",
     "output_type": "stream",
     "text": [
      "\u001b[34m\u001b[1mwandb\u001b[0m:   1 of 1 files downloaded.  \n"
     ]
    },
    {
     "name": "stdout",
     "output_type": "stream",
     "text": [
      "2025-04-20 13:10:53,674 - INFO - Downloaded logs_fm76w1xg:v0 to /scratch/downloaded_artifacts/logs_fm76w1xg:v0\n"
     ]
    },
    {
     "name": "stderr",
     "output_type": "stream",
     "text": [
      "\u001b[34m\u001b[1mwandb\u001b[0m:   1 of 1 files downloaded.  \n"
     ]
    },
    {
     "name": "stdout",
     "output_type": "stream",
     "text": [
      "2025-04-20 13:10:53,859 - INFO - Downloaded logs_ghpxf7ti:v0 to /scratch/downloaded_artifacts/logs_ghpxf7ti:v0\n"
     ]
    },
    {
     "name": "stderr",
     "output_type": "stream",
     "text": [
      "\u001b[34m\u001b[1mwandb\u001b[0m:   1 of 1 files downloaded.  \n"
     ]
    },
    {
     "name": "stdout",
     "output_type": "stream",
     "text": [
      "2025-04-20 13:10:54,001 - INFO - Downloaded logs_mrhk07ns:v0 to /scratch/downloaded_artifacts/logs_mrhk07ns:v0\n"
     ]
    },
    {
     "name": "stderr",
     "output_type": "stream",
     "text": [
      "\u001b[34m\u001b[1mwandb\u001b[0m:   1 of 1 files downloaded.  \n"
     ]
    },
    {
     "name": "stdout",
     "output_type": "stream",
     "text": [
      "2025-04-20 13:10:54,017 - INFO - Downloaded logs_j8nw9762:v0 to /scratch/downloaded_artifacts/logs_j8nw9762:v0\n"
     ]
    },
    {
     "name": "stderr",
     "output_type": "stream",
     "text": [
      "\u001b[34m\u001b[1mwandb\u001b[0m:   1 of 1 files downloaded.  \n"
     ]
    },
    {
     "name": "stdout",
     "output_type": "stream",
     "text": [
      "2025-04-20 13:10:54,096 - INFO - Downloaded logs_njbk8wxe:v0 to /scratch/downloaded_artifacts/logs_njbk8wxe:v0\n"
     ]
    },
    {
     "name": "stderr",
     "output_type": "stream",
     "text": [
      "\u001b[34m\u001b[1mwandb\u001b[0m:   1 of 1 files downloaded.  \n"
     ]
    },
    {
     "name": "stdout",
     "output_type": "stream",
     "text": [
      "2025-04-20 13:10:54,100 - INFO - Downloaded logs_no3rmedb:v0 to /scratch/downloaded_artifacts/logs_no3rmedb:v0\n"
     ]
    },
    {
     "name": "stderr",
     "output_type": "stream",
     "text": [
      "\u001b[34m\u001b[1mwandb\u001b[0m:   1 of 1 files downloaded.  \n"
     ]
    },
    {
     "name": "stdout",
     "output_type": "stream",
     "text": [
      "2025-04-20 13:10:54,219 - INFO - Downloaded logs_prk0epa9:v0 to /scratch/downloaded_artifacts/logs_prk0epa9:v0\n"
     ]
    },
    {
     "name": "stderr",
     "output_type": "stream",
     "text": [
      "\u001b[34m\u001b[1mwandb\u001b[0m:   1 of 1 files downloaded.  \n"
     ]
    },
    {
     "name": "stdout",
     "output_type": "stream",
     "text": [
      "2025-04-20 13:10:54,268 - INFO - Downloaded logs_pq00jpj2:v0 to /scratch/downloaded_artifacts/logs_pq00jpj2:v0\n"
     ]
    },
    {
     "name": "stderr",
     "output_type": "stream",
     "text": [
      "\u001b[34m\u001b[1mwandb\u001b[0m:   1 of 1 files downloaded.  \n"
     ]
    },
    {
     "name": "stdout",
     "output_type": "stream",
     "text": [
      "2025-04-20 13:10:54,384 - INFO - Downloaded logs_w77kccq2:v0 to /scratch/downloaded_artifacts/logs_w77kccq2:v0\n"
     ]
    },
    {
     "name": "stderr",
     "output_type": "stream",
     "text": [
      "\u001b[34m\u001b[1mwandb\u001b[0m:   1 of 1 files downloaded.  \n"
     ]
    },
    {
     "name": "stdout",
     "output_type": "stream",
     "text": [
      "2025-04-20 13:10:54,401 - INFO - Downloaded logs_2c8l1v7p:v0 to /scratch/downloaded_artifacts/logs_2c8l1v7p:v0\n"
     ]
    },
    {
     "name": "stderr",
     "output_type": "stream",
     "text": [
      "\u001b[34m\u001b[1mwandb\u001b[0m:   1 of 1 files downloaded.  \n"
     ]
    },
    {
     "name": "stdout",
     "output_type": "stream",
     "text": [
      "2025-04-20 13:10:54,462 - INFO - Downloaded logs_7b9zqc9x:v0 to /scratch/downloaded_artifacts/logs_7b9zqc9x:v0\n"
     ]
    },
    {
     "name": "stderr",
     "output_type": "stream",
     "text": [
      "\u001b[34m\u001b[1mwandb\u001b[0m:   1 of 1 files downloaded.  \n"
     ]
    },
    {
     "name": "stdout",
     "output_type": "stream",
     "text": [
      "2025-04-20 13:10:54,496 - INFO - Downloaded logs_46cjurxw:v0 to /scratch/downloaded_artifacts/logs_46cjurxw:v0\n"
     ]
    },
    {
     "name": "stderr",
     "output_type": "stream",
     "text": [
      "\u001b[34m\u001b[1mwandb\u001b[0m:   1 of 1 files downloaded.  \n"
     ]
    },
    {
     "name": "stdout",
     "output_type": "stream",
     "text": [
      "2025-04-20 13:10:54,509 - INFO - Downloaded logs_8fk91w60:v0 to /scratch/downloaded_artifacts/logs_8fk91w60:v0\n"
     ]
    },
    {
     "name": "stderr",
     "output_type": "stream",
     "text": [
      "\u001b[34m\u001b[1mwandb\u001b[0m:   1 of 1 files downloaded.  \n"
     ]
    },
    {
     "name": "stdout",
     "output_type": "stream",
     "text": [
      "2025-04-20 13:10:54,544 - INFO - Downloaded logs_kz3aewr6:v0 to /scratch/downloaded_artifacts/logs_kz3aewr6:v0\n"
     ]
    },
    {
     "name": "stderr",
     "output_type": "stream",
     "text": [
      "\u001b[34m\u001b[1mwandb\u001b[0m:   1 of 1 files downloaded.  \n"
     ]
    },
    {
     "name": "stdout",
     "output_type": "stream",
     "text": [
      "2025-04-20 13:10:54,658 - INFO - Downloaded logs_d5ev0dme:v0 to /scratch/downloaded_artifacts/logs_d5ev0dme:v0\n"
     ]
    },
    {
     "name": "stderr",
     "output_type": "stream",
     "text": [
      "\u001b[34m\u001b[1mwandb\u001b[0m:   1 of 1 files downloaded.  \n"
     ]
    },
    {
     "name": "stdout",
     "output_type": "stream",
     "text": [
      "2025-04-20 13:10:54,856 - INFO - Downloaded logs_e1c74d8n:v0 to /scratch/downloaded_artifacts/logs_e1c74d8n:v0\n"
     ]
    },
    {
     "name": "stderr",
     "output_type": "stream",
     "text": [
      "\u001b[34m\u001b[1mwandb\u001b[0m:   1 of 1 files downloaded.  \n"
     ]
    },
    {
     "name": "stdout",
     "output_type": "stream",
     "text": [
      "2025-04-20 13:10:54,894 - INFO - Downloaded logs_h9d3ni4h:v0 to /scratch/downloaded_artifacts/logs_h9d3ni4h:v0\n"
     ]
    },
    {
     "name": "stderr",
     "output_type": "stream",
     "text": [
      "\u001b[34m\u001b[1mwandb\u001b[0m:   1 of 1 files downloaded.  \n"
     ]
    },
    {
     "name": "stdout",
     "output_type": "stream",
     "text": [
      "2025-04-20 13:10:55,058 - INFO - Downloaded logs_k40w9w19:v0 to /scratch/downloaded_artifacts/logs_k40w9w19:v0\n"
     ]
    },
    {
     "name": "stderr",
     "output_type": "stream",
     "text": [
      "\u001b[34m\u001b[1mwandb\u001b[0m:   1 of 1 files downloaded.  \n"
     ]
    },
    {
     "name": "stdout",
     "output_type": "stream",
     "text": [
      "2025-04-20 13:10:55,089 - INFO - Downloaded logs_fh0c2b6v:v0 to /scratch/downloaded_artifacts/logs_fh0c2b6v:v0\n"
     ]
    },
    {
     "name": "stderr",
     "output_type": "stream",
     "text": [
      "\u001b[34m\u001b[1mwandb\u001b[0m:   1 of 1 files downloaded.  \n"
     ]
    },
    {
     "name": "stdout",
     "output_type": "stream",
     "text": [
      "2025-04-20 13:10:55,097 - INFO - Downloaded logs_j5t1yzns:v0 to /scratch/downloaded_artifacts/logs_j5t1yzns:v0\n"
     ]
    },
    {
     "name": "stderr",
     "output_type": "stream",
     "text": [
      "\u001b[34m\u001b[1mwandb\u001b[0m:   1 of 1 files downloaded.  \n"
     ]
    },
    {
     "name": "stdout",
     "output_type": "stream",
     "text": [
      "2025-04-20 13:10:55,202 - INFO - Downloaded logs_g52uilto:v0 to /scratch/downloaded_artifacts/logs_g52uilto:v0\n"
     ]
    },
    {
     "name": "stderr",
     "output_type": "stream",
     "text": [
      "\u001b[34m\u001b[1mwandb\u001b[0m:   1 of 1 files downloaded.  \n"
     ]
    },
    {
     "name": "stdout",
     "output_type": "stream",
     "text": [
      "2025-04-20 13:10:55,349 - INFO - Downloaded logs_mrsxtmh3:v0 to /scratch/downloaded_artifacts/logs_mrsxtmh3:v0\n"
     ]
    },
    {
     "name": "stderr",
     "output_type": "stream",
     "text": [
      "\u001b[34m\u001b[1mwandb\u001b[0m:   1 of 1 files downloaded.  \n"
     ]
    },
    {
     "name": "stdout",
     "output_type": "stream",
     "text": [
      "2025-04-20 13:10:55,363 - INFO - Downloaded logs_mfny70s8:v0 to /scratch/downloaded_artifacts/logs_mfny70s8:v0\n"
     ]
    },
    {
     "name": "stderr",
     "output_type": "stream",
     "text": [
      "\u001b[34m\u001b[1mwandb\u001b[0m:   1 of 1 files downloaded.  \n"
     ]
    },
    {
     "name": "stdout",
     "output_type": "stream",
     "text": [
      "2025-04-20 13:10:55,396 - INFO - Downloaded logs_2oaqk3gd:v0 to /scratch/downloaded_artifacts/logs_2oaqk3gd:v0\n"
     ]
    },
    {
     "name": "stderr",
     "output_type": "stream",
     "text": [
      "\u001b[34m\u001b[1mwandb\u001b[0m:   1 of 1 files downloaded.  \n"
     ]
    },
    {
     "name": "stdout",
     "output_type": "stream",
     "text": [
      "2025-04-20 13:10:55,500 - INFO - Downloaded logs_rf16lwdj:v0 to /scratch/downloaded_artifacts/logs_rf16lwdj:v0\n"
     ]
    },
    {
     "name": "stderr",
     "output_type": "stream",
     "text": [
      "\u001b[34m\u001b[1mwandb\u001b[0m:   1 of 1 files downloaded.  \n"
     ]
    },
    {
     "name": "stdout",
     "output_type": "stream",
     "text": [
      "2025-04-20 13:10:55,650 - INFO - Downloaded logs_9a7wqrqy:v0 to /scratch/downloaded_artifacts/logs_9a7wqrqy:v0\n"
     ]
    },
    {
     "name": "stderr",
     "output_type": "stream",
     "text": [
      "\u001b[34m\u001b[1mwandb\u001b[0m:   1 of 1 files downloaded.  \n"
     ]
    },
    {
     "name": "stdout",
     "output_type": "stream",
     "text": [
      "2025-04-20 13:10:55,687 - INFO - Downloaded logs_itmeqp7x:v0 to /scratch/downloaded_artifacts/logs_itmeqp7x:v0\n"
     ]
    },
    {
     "name": "stderr",
     "output_type": "stream",
     "text": [
      "\u001b[34m\u001b[1mwandb\u001b[0m:   1 of 1 files downloaded.  \n",
      "\u001b[34m\u001b[1mwandb\u001b[0m:   1 of 1 files downloaded.  \n"
     ]
    },
    {
     "name": "stdout",
     "output_type": "stream",
     "text": [
      "2025-04-20 13:10:55,842 - INFO - Downloaded logs_q60ots1z:v0 to /scratch/downloaded_artifacts/logs_q60ots1z:v0\n",
      "2025-04-20 13:10:55,844 - INFO - Downloaded logs_o6jea6zt:v0 to /scratch/downloaded_artifacts/logs_o6jea6zt:v0\n"
     ]
    },
    {
     "name": "stderr",
     "output_type": "stream",
     "text": [
      "\u001b[34m\u001b[1mwandb\u001b[0m:   1 of 1 files downloaded.  \n"
     ]
    },
    {
     "name": "stdout",
     "output_type": "stream",
     "text": [
      "2025-04-20 13:10:55,869 - INFO - Downloaded logs_i8usaf55:v0 to /scratch/downloaded_artifacts/logs_i8usaf55:v0\n"
     ]
    },
    {
     "name": "stderr",
     "output_type": "stream",
     "text": [
      "\u001b[34m\u001b[1mwandb\u001b[0m:   1 of 1 files downloaded.  \n"
     ]
    },
    {
     "name": "stdout",
     "output_type": "stream",
     "text": [
      "2025-04-20 13:10:55,925 - INFO - Downloaded logs_xa7h7uyl:v0 to /scratch/downloaded_artifacts/logs_xa7h7uyl:v0\n"
     ]
    },
    {
     "name": "stderr",
     "output_type": "stream",
     "text": [
      "\u001b[34m\u001b[1mwandb\u001b[0m:   1 of 1 files downloaded.  \n"
     ]
    },
    {
     "name": "stdout",
     "output_type": "stream",
     "text": [
      "2025-04-20 13:10:56,136 - INFO - Downloaded logs_qr8ranj6:v0 to /scratch/downloaded_artifacts/logs_qr8ranj6:v0\n"
     ]
    },
    {
     "name": "stderr",
     "output_type": "stream",
     "text": [
      "\u001b[34m\u001b[1mwandb\u001b[0m:   1 of 1 files downloaded.  \n"
     ]
    },
    {
     "name": "stdout",
     "output_type": "stream",
     "text": [
      "2025-04-20 13:10:56,160 - INFO - Downloaded logs_32q8w8t9:v0 to /scratch/downloaded_artifacts/logs_32q8w8t9:v0\n"
     ]
    },
    {
     "name": "stderr",
     "output_type": "stream",
     "text": [
      "\u001b[34m\u001b[1mwandb\u001b[0m:   1 of 1 files downloaded.  \n"
     ]
    },
    {
     "name": "stdout",
     "output_type": "stream",
     "text": [
      "2025-04-20 13:10:56,207 - INFO - Downloaded logs_o6ddp68o:v0 to /scratch/downloaded_artifacts/logs_o6ddp68o:v0\n"
     ]
    },
    {
     "name": "stderr",
     "output_type": "stream",
     "text": [
      "\u001b[34m\u001b[1mwandb\u001b[0m:   1 of 1 files downloaded.  \n"
     ]
    },
    {
     "name": "stdout",
     "output_type": "stream",
     "text": [
      "2025-04-20 13:10:56,385 - INFO - Downloaded logs_4jajnkp9:v0 to /scratch/downloaded_artifacts/logs_4jajnkp9:v0\n"
     ]
    },
    {
     "name": "stderr",
     "output_type": "stream",
     "text": [
      "\u001b[34m\u001b[1mwandb\u001b[0m:   1 of 1 files downloaded.  \n"
     ]
    },
    {
     "name": "stdout",
     "output_type": "stream",
     "text": [
      "2025-04-20 13:10:56,715 - INFO - Downloaded logs_i72d0zvw:v0 to /scratch/downloaded_artifacts/logs_i72d0zvw:v0\n"
     ]
    },
    {
     "name": "stderr",
     "output_type": "stream",
     "text": [
      "\u001b[34m\u001b[1mwandb\u001b[0m:   1 of 1 files downloaded.  \n"
     ]
    },
    {
     "name": "stdout",
     "output_type": "stream",
     "text": [
      "2025-04-20 13:10:56,757 - INFO - Downloaded logs_g161efz8:v0 to /scratch/downloaded_artifacts/logs_g161efz8:v0\n"
     ]
    },
    {
     "name": "stderr",
     "output_type": "stream",
     "text": [
      "\u001b[34m\u001b[1mwandb\u001b[0m:   1 of 1 files downloaded.  \n",
      "\u001b[34m\u001b[1mwandb\u001b[0m:   1 of 1 files downloaded.  \n"
     ]
    },
    {
     "name": "stdout",
     "output_type": "stream",
     "text": [
      "2025-04-20 13:10:56,819 - INFO - Downloaded logs_14h3pcvf:v0 to /scratch/downloaded_artifacts/logs_14h3pcvf:v0\n",
      "2025-04-20 13:10:56,821 - INFO - Downloaded logs_kljjto65:v0 to /scratch/downloaded_artifacts/logs_kljjto65:v0\n"
     ]
    },
    {
     "name": "stderr",
     "output_type": "stream",
     "text": [
      "\u001b[34m\u001b[1mwandb\u001b[0m:   1 of 1 files downloaded.  \n"
     ]
    },
    {
     "name": "stdout",
     "output_type": "stream",
     "text": [
      "2025-04-20 13:10:56,835 - INFO - Downloaded logs_nerisxlr:v0 to /scratch/downloaded_artifacts/logs_nerisxlr:v0\n"
     ]
    },
    {
     "name": "stderr",
     "output_type": "stream",
     "text": [
      "\u001b[34m\u001b[1mwandb\u001b[0m:   1 of 1 files downloaded.  \n"
     ]
    },
    {
     "name": "stdout",
     "output_type": "stream",
     "text": [
      "2025-04-20 13:10:56,838 - INFO - Downloaded logs_nb8wh5zg:v0 to /scratch/downloaded_artifacts/logs_nb8wh5zg:v0\n"
     ]
    },
    {
     "name": "stderr",
     "output_type": "stream",
     "text": [
      "\u001b[34m\u001b[1mwandb\u001b[0m:   1 of 1 files downloaded.  \n"
     ]
    },
    {
     "name": "stdout",
     "output_type": "stream",
     "text": [
      "2025-04-20 13:10:57,031 - INFO - Downloaded logs_ufh1aqqm:v0 to /scratch/downloaded_artifacts/logs_ufh1aqqm:v0\n"
     ]
    },
    {
     "name": "stderr",
     "output_type": "stream",
     "text": [
      "\u001b[34m\u001b[1mwandb\u001b[0m:   1 of 1 files downloaded.  \n"
     ]
    },
    {
     "name": "stdout",
     "output_type": "stream",
     "text": [
      "2025-04-20 13:10:57,035 - INFO - Downloaded logs_nnpw9gkf:v0 to /scratch/downloaded_artifacts/logs_nnpw9gkf:v0\n"
     ]
    },
    {
     "name": "stderr",
     "output_type": "stream",
     "text": [
      "\u001b[34m\u001b[1mwandb\u001b[0m:   1 of 1 files downloaded.  \n"
     ]
    },
    {
     "name": "stdout",
     "output_type": "stream",
     "text": [
      "2025-04-20 13:10:57,050 - INFO - Downloaded logs_4c0f5w3m:v0 to /scratch/downloaded_artifacts/logs_4c0f5w3m:v0\n"
     ]
    },
    {
     "name": "stderr",
     "output_type": "stream",
     "text": [
      "\u001b[34m\u001b[1mwandb\u001b[0m:   1 of 1 files downloaded.  \n"
     ]
    },
    {
     "name": "stdout",
     "output_type": "stream",
     "text": [
      "2025-04-20 13:10:57,088 - INFO - Downloaded logs_4l0481g7:v0 to /scratch/downloaded_artifacts/logs_4l0481g7:v0\n"
     ]
    },
    {
     "name": "stderr",
     "output_type": "stream",
     "text": [
      "\u001b[34m\u001b[1mwandb\u001b[0m: \u001b[32m\u001b[41mERROR\u001b[0m Error while calling W&B API: rate limit exceeded (<Response [429]>)\n",
      "\u001b[34m\u001b[1mwandb\u001b[0m: \u001b[32m\u001b[41mERROR\u001b[0m Error while calling W&B API: rate limit exceeded (<Response [429]>)\n",
      "\u001b[34m\u001b[1mwandb\u001b[0m:   1 of 1 files downloaded.  \n"
     ]
    },
    {
     "name": "stdout",
     "output_type": "stream",
     "text": [
      "2025-04-20 13:10:57,256 - INFO - Downloaded logs_50nys4bj:v0 to /scratch/downloaded_artifacts/logs_50nys4bj:v0\n"
     ]
    },
    {
     "name": "stderr",
     "output_type": "stream",
     "text": [
      "\u001b[34m\u001b[1mwandb\u001b[0m: \u001b[32m\u001b[41mERROR\u001b[0m Error while calling W&B API: rate limit exceeded (<Response [429]>)\n",
      "\u001b[34m\u001b[1mwandb\u001b[0m: \u001b[32m\u001b[41mERROR\u001b[0m Error while calling W&B API: rate limit exceeded (<Response [429]>)\n",
      "\u001b[34m\u001b[1mwandb\u001b[0m: \u001b[32m\u001b[41mERROR\u001b[0m Error while calling W&B API: rate limit exceeded (<Response [429]>)\n",
      "\u001b[34m\u001b[1mwandb\u001b[0m:   1 of 1 files downloaded.  \n"
     ]
    },
    {
     "name": "stdout",
     "output_type": "stream",
     "text": [
      "2025-04-20 13:10:57,302 - INFO - Downloaded logs_9v5xnkkv:v0 to /scratch/downloaded_artifacts/logs_9v5xnkkv:v0\n"
     ]
    },
    {
     "name": "stderr",
     "output_type": "stream",
     "text": [
      "\u001b[34m\u001b[1mwandb\u001b[0m: \u001b[32m\u001b[41mERROR\u001b[0m Error while calling W&B API: rate limit exceeded (<Response [429]>)\n",
      "\u001b[34m\u001b[1mwandb\u001b[0m:   1 of 1 files downloaded.  \n"
     ]
    },
    {
     "name": "stdout",
     "output_type": "stream",
     "text": [
      "2025-04-20 13:10:57,350 - INFO - Downloaded logs_cgz1jexv:v0 to /scratch/downloaded_artifacts/logs_cgz1jexv:v0\n"
     ]
    },
    {
     "name": "stderr",
     "output_type": "stream",
     "text": [
      "\u001b[34m\u001b[1mwandb\u001b[0m:   1 of 1 files downloaded.  \n"
     ]
    },
    {
     "name": "stdout",
     "output_type": "stream",
     "text": [
      "2025-04-20 13:10:57,354 - INFO - Downloaded logs_h2rmvskm:v0 to /scratch/downloaded_artifacts/logs_h2rmvskm:v0\n"
     ]
    },
    {
     "name": "stderr",
     "output_type": "stream",
     "text": [
      "\u001b[34m\u001b[1mwandb\u001b[0m:   1 of 1 files downloaded.  \n"
     ]
    },
    {
     "name": "stdout",
     "output_type": "stream",
     "text": [
      "2025-04-20 13:10:57,407 - INFO - Downloaded logs_ls5a998x:v0 to /scratch/downloaded_artifacts/logs_ls5a998x:v0\n"
     ]
    },
    {
     "name": "stderr",
     "output_type": "stream",
     "text": [
      "\u001b[34m\u001b[1mwandb\u001b[0m:   1 of 1 files downloaded.  \n"
     ]
    },
    {
     "name": "stdout",
     "output_type": "stream",
     "text": [
      "2025-04-20 13:10:57,625 - INFO - Downloaded logs_rrs05xd8:v0 to /scratch/downloaded_artifacts/logs_rrs05xd8:v0\n"
     ]
    },
    {
     "name": "stderr",
     "output_type": "stream",
     "text": [
      "\u001b[34m\u001b[1mwandb\u001b[0m:   1 of 1 files downloaded.  \n"
     ]
    },
    {
     "name": "stdout",
     "output_type": "stream",
     "text": [
      "2025-04-20 13:10:57,653 - INFO - Downloaded logs_mun657t3:v0 to /scratch/downloaded_artifacts/logs_mun657t3:v0\n"
     ]
    },
    {
     "name": "stderr",
     "output_type": "stream",
     "text": [
      "\u001b[34m\u001b[1mwandb\u001b[0m:   1 of 1 files downloaded.  \n"
     ]
    },
    {
     "name": "stdout",
     "output_type": "stream",
     "text": [
      "2025-04-20 13:10:57,744 - INFO - Downloaded logs_ueq8hxii:v0 to /scratch/downloaded_artifacts/logs_ueq8hxii:v0\n"
     ]
    },
    {
     "name": "stderr",
     "output_type": "stream",
     "text": [
      "\u001b[34m\u001b[1mwandb\u001b[0m:   1 of 1 files downloaded.  \n"
     ]
    },
    {
     "name": "stdout",
     "output_type": "stream",
     "text": [
      "2025-04-20 13:10:57,756 - INFO - Downloaded logs_tapqchok:v0 to /scratch/downloaded_artifacts/logs_tapqchok:v0\n"
     ]
    },
    {
     "name": "stderr",
     "output_type": "stream",
     "text": [
      "\u001b[34m\u001b[1mwandb\u001b[0m:   1 of 1 files downloaded.  \n"
     ]
    },
    {
     "name": "stdout",
     "output_type": "stream",
     "text": [
      "2025-04-20 13:10:57,921 - INFO - Downloaded logs_xf289xx9:v0 to /scratch/downloaded_artifacts/logs_xf289xx9:v0\n"
     ]
    },
    {
     "name": "stderr",
     "output_type": "stream",
     "text": [
      "\u001b[34m\u001b[1mwandb\u001b[0m: \u001b[32m\u001b[41mERROR\u001b[0m Error while calling W&B API: rate limit exceeded (<Response [429]>)\n",
      "\u001b[34m\u001b[1mwandb\u001b[0m: \u001b[32m\u001b[41mERROR\u001b[0m Error while calling W&B API: rate limit exceeded (<Response [429]>)\n",
      "\u001b[34m\u001b[1mwandb\u001b[0m: \u001b[32m\u001b[41mERROR\u001b[0m Error while calling W&B API: rate limit exceeded (<Response [429]>)\n",
      "\u001b[34m\u001b[1mwandb\u001b[0m: \u001b[32m\u001b[41mERROR\u001b[0m Error while calling W&B API: rate limit exceeded (<Response [429]>)\n",
      "\u001b[34m\u001b[1mwandb\u001b[0m: \u001b[32m\u001b[41mERROR\u001b[0m Error while calling W&B API: rate limit exceeded (<Response [429]>)\n",
      "\u001b[34m\u001b[1mwandb\u001b[0m: \u001b[32m\u001b[41mERROR\u001b[0m Error while calling W&B API: rate limit exceeded (<Response [429]>)\n",
      "\u001b[34m\u001b[1mwandb\u001b[0m: \u001b[33mWARNING\u001b[0m Cache size exceeded. Attempting to reclaim space...\n",
      "\u001b[34m\u001b[1mwandb\u001b[0m: \u001b[33mWARNING\u001b[0m Cache contains 65.2MB of temporary files. Run `wandb artifact cleanup --remove-temp` to remove them.\n",
      "\u001b[34m\u001b[1mwandb\u001b[0m:   1 of 1 files downloaded.  \n"
     ]
    },
    {
     "name": "stdout",
     "output_type": "stream",
     "text": [
      "2025-04-20 13:11:01,311 - INFO - Downloaded logs_1uqzdnjq:v0 to /scratch/downloaded_artifacts/logs_1uqzdnjq:v0\n"
     ]
    },
    {
     "name": "stderr",
     "output_type": "stream",
     "text": [
      "\u001b[34m\u001b[1mwandb\u001b[0m:   1 of 1 files downloaded.  \n"
     ]
    },
    {
     "name": "stdout",
     "output_type": "stream",
     "text": [
      "2025-04-20 13:11:01,476 - INFO - Downloaded logs_d885u67w:v0 to /scratch/downloaded_artifacts/logs_d885u67w:v0\n"
     ]
    },
    {
     "name": "stderr",
     "output_type": "stream",
     "text": [
      "\u001b[34m\u001b[1mwandb\u001b[0m:   1 of 1 files downloaded.  \n"
     ]
    },
    {
     "name": "stdout",
     "output_type": "stream",
     "text": [
      "2025-04-20 13:11:01,564 - INFO - Downloaded logs_xf43sadu:v0 to /scratch/downloaded_artifacts/logs_xf43sadu:v0\n"
     ]
    },
    {
     "name": "stderr",
     "output_type": "stream",
     "text": [
      "\u001b[34m\u001b[1mwandb\u001b[0m:   1 of 1 files downloaded.  \n"
     ]
    },
    {
     "name": "stdout",
     "output_type": "stream",
     "text": [
      "2025-04-20 13:11:01,829 - INFO - Downloaded logs_2l085dvq:v0 to /scratch/downloaded_artifacts/logs_2l085dvq:v0\n"
     ]
    },
    {
     "name": "stderr",
     "output_type": "stream",
     "text": [
      "\u001b[34m\u001b[1mwandb\u001b[0m:   1 of 1 files downloaded.  \n"
     ]
    },
    {
     "name": "stdout",
     "output_type": "stream",
     "text": [
      "2025-04-20 13:11:01,868 - INFO - Downloaded logs_1dqcztco:v0 to /scratch/downloaded_artifacts/logs_1dqcztco:v0\n"
     ]
    },
    {
     "name": "stderr",
     "output_type": "stream",
     "text": [
      "\u001b[34m\u001b[1mwandb\u001b[0m:   1 of 1 files downloaded.  \n"
     ]
    },
    {
     "name": "stdout",
     "output_type": "stream",
     "text": [
      "2025-04-20 13:11:01,961 - INFO - Downloaded logs_m4n9bwqg:v0 to /scratch/downloaded_artifacts/logs_m4n9bwqg:v0\n"
     ]
    },
    {
     "name": "stderr",
     "output_type": "stream",
     "text": [
      "\u001b[34m\u001b[1mwandb\u001b[0m:   1 of 1 files downloaded.  \n"
     ]
    },
    {
     "name": "stdout",
     "output_type": "stream",
     "text": [
      "2025-04-20 13:11:02,072 - INFO - Downloaded logs_yy8zkr3g:v0 to /scratch/downloaded_artifacts/logs_yy8zkr3g:v0\n"
     ]
    },
    {
     "name": "stderr",
     "output_type": "stream",
     "text": [
      "\u001b[34m\u001b[1mwandb\u001b[0m:   1 of 1 files downloaded.  \n"
     ]
    },
    {
     "name": "stdout",
     "output_type": "stream",
     "text": [
      "2025-04-20 13:11:02,082 - INFO - Downloaded logs_ieajewxc:v0 to /scratch/downloaded_artifacts/logs_ieajewxc:v0\n"
     ]
    },
    {
     "name": "stderr",
     "output_type": "stream",
     "text": [
      "\u001b[34m\u001b[1mwandb\u001b[0m:   1 of 1 files downloaded.  \n"
     ]
    },
    {
     "name": "stdout",
     "output_type": "stream",
     "text": [
      "2025-04-20 13:11:02,105 - INFO - Downloaded logs_tsiqqh43:v0 to /scratch/downloaded_artifacts/logs_tsiqqh43:v0\n"
     ]
    },
    {
     "name": "stderr",
     "output_type": "stream",
     "text": [
      "\u001b[34m\u001b[1mwandb\u001b[0m:   1 of 1 files downloaded.  \n"
     ]
    },
    {
     "name": "stdout",
     "output_type": "stream",
     "text": [
      "2025-04-20 13:11:02,218 - INFO - Downloaded logs_fyo4vzo8:v0 to /scratch/downloaded_artifacts/logs_fyo4vzo8:v0\n"
     ]
    },
    {
     "name": "stderr",
     "output_type": "stream",
     "text": [
      "\u001b[34m\u001b[1mwandb\u001b[0m:   1 of 1 files downloaded.  \n"
     ]
    },
    {
     "name": "stdout",
     "output_type": "stream",
     "text": [
      "2025-04-20 13:11:02,266 - INFO - Downloaded logs_pazrjxwz:v0 to /scratch/downloaded_artifacts/logs_pazrjxwz:v0\n"
     ]
    },
    {
     "name": "stderr",
     "output_type": "stream",
     "text": [
      "\u001b[34m\u001b[1mwandb\u001b[0m:   1 of 1 files downloaded.  \n"
     ]
    },
    {
     "name": "stdout",
     "output_type": "stream",
     "text": [
      "2025-04-20 13:11:02,316 - INFO - Downloaded logs_waylrgho:v0 to /scratch/downloaded_artifacts/logs_waylrgho:v0\n"
     ]
    },
    {
     "name": "stderr",
     "output_type": "stream",
     "text": [
      "\u001b[34m\u001b[1mwandb\u001b[0m:   1 of 1 files downloaded.  \n"
     ]
    },
    {
     "name": "stdout",
     "output_type": "stream",
     "text": [
      "2025-04-20 13:11:02,443 - INFO - Downloaded logs_7nfm8qau:v0 to /scratch/downloaded_artifacts/logs_7nfm8qau:v0\n"
     ]
    },
    {
     "name": "stderr",
     "output_type": "stream",
     "text": [
      "\u001b[34m\u001b[1mwandb\u001b[0m:   1 of 1 files downloaded.  \n"
     ]
    },
    {
     "name": "stdout",
     "output_type": "stream",
     "text": [
      "2025-04-20 13:11:02,446 - INFO - Downloaded logs_u3i8v2zg:v0 to /scratch/downloaded_artifacts/logs_u3i8v2zg:v0\n"
     ]
    },
    {
     "name": "stderr",
     "output_type": "stream",
     "text": [
      "\u001b[34m\u001b[1mwandb\u001b[0m:   1 of 1 files downloaded.  \n"
     ]
    },
    {
     "name": "stdout",
     "output_type": "stream",
     "text": [
      "2025-04-20 13:11:02,479 - INFO - Downloaded logs_1surnoq7:v0 to /scratch/downloaded_artifacts/logs_1surnoq7:v0\n"
     ]
    },
    {
     "name": "stderr",
     "output_type": "stream",
     "text": [
      "\u001b[34m\u001b[1mwandb\u001b[0m:   1 of 1 files downloaded.  \n"
     ]
    },
    {
     "name": "stdout",
     "output_type": "stream",
     "text": [
      "2025-04-20 13:11:02,567 - INFO - Downloaded logs_dnep2tvm:v0 to /scratch/downloaded_artifacts/logs_dnep2tvm:v0\n"
     ]
    },
    {
     "name": "stderr",
     "output_type": "stream",
     "text": [
      "\u001b[34m\u001b[1mwandb\u001b[0m:   1 of 1 files downloaded.  \n"
     ]
    },
    {
     "name": "stdout",
     "output_type": "stream",
     "text": [
      "2025-04-20 13:11:02,657 - INFO - Downloaded logs_db2by8to:v0 to /scratch/downloaded_artifacts/logs_db2by8to:v0\n"
     ]
    },
    {
     "name": "stderr",
     "output_type": "stream",
     "text": [
      "\u001b[34m\u001b[1mwandb\u001b[0m:   1 of 1 files downloaded.  \n"
     ]
    },
    {
     "name": "stdout",
     "output_type": "stream",
     "text": [
      "2025-04-20 13:11:02,689 - INFO - Downloaded logs_nfvvyfh1:v0 to /scratch/downloaded_artifacts/logs_nfvvyfh1:v0\n"
     ]
    },
    {
     "name": "stderr",
     "output_type": "stream",
     "text": [
      "\u001b[34m\u001b[1mwandb\u001b[0m:   1 of 1 files downloaded.  \n"
     ]
    },
    {
     "name": "stdout",
     "output_type": "stream",
     "text": [
      "2025-04-20 13:11:02,715 - INFO - Downloaded logs_b5u589kr:v0 to /scratch/downloaded_artifacts/logs_b5u589kr:v0\n"
     ]
    },
    {
     "name": "stderr",
     "output_type": "stream",
     "text": [
      "\u001b[34m\u001b[1mwandb\u001b[0m:   1 of 1 files downloaded.  \n"
     ]
    },
    {
     "name": "stdout",
     "output_type": "stream",
     "text": [
      "2025-04-20 13:11:02,723 - INFO - Downloaded logs_fnl2yy69:v0 to /scratch/downloaded_artifacts/logs_fnl2yy69:v0\n"
     ]
    },
    {
     "name": "stderr",
     "output_type": "stream",
     "text": [
      "\u001b[34m\u001b[1mwandb\u001b[0m:   1 of 1 files downloaded.  \n"
     ]
    },
    {
     "name": "stdout",
     "output_type": "stream",
     "text": [
      "2025-04-20 13:11:02,901 - INFO - Downloaded logs_tu1kuriw:v0 to /scratch/downloaded_artifacts/logs_tu1kuriw:v0\n"
     ]
    },
    {
     "name": "stderr",
     "output_type": "stream",
     "text": [
      "\u001b[34m\u001b[1mwandb\u001b[0m:   1 of 1 files downloaded.  \n"
     ]
    },
    {
     "name": "stdout",
     "output_type": "stream",
     "text": [
      "2025-04-20 13:11:03,009 - INFO - Downloaded logs_t1sk5j2p:v0 to /scratch/downloaded_artifacts/logs_t1sk5j2p:v0\n"
     ]
    },
    {
     "name": "stderr",
     "output_type": "stream",
     "text": [
      "\u001b[34m\u001b[1mwandb\u001b[0m:   1 of 1 files downloaded.  \n"
     ]
    },
    {
     "name": "stdout",
     "output_type": "stream",
     "text": [
      "2025-04-20 13:11:03,160 - INFO - Downloaded logs_fr9s84tm:v0 to /scratch/downloaded_artifacts/logs_fr9s84tm:v0\n"
     ]
    },
    {
     "name": "stderr",
     "output_type": "stream",
     "text": [
      "\u001b[34m\u001b[1mwandb\u001b[0m:   1 of 1 files downloaded.  \n"
     ]
    },
    {
     "name": "stdout",
     "output_type": "stream",
     "text": [
      "2025-04-20 13:11:03,173 - INFO - Downloaded logs_ux5joj1p:v0 to /scratch/downloaded_artifacts/logs_ux5joj1p:v0\n"
     ]
    },
    {
     "name": "stderr",
     "output_type": "stream",
     "text": [
      "\u001b[34m\u001b[1mwandb\u001b[0m:   1 of 1 files downloaded.  \n"
     ]
    },
    {
     "name": "stdout",
     "output_type": "stream",
     "text": [
      "2025-04-20 13:11:03,265 - INFO - Downloaded logs_0akekfti:v0 to /scratch/downloaded_artifacts/logs_0akekfti:v0\n"
     ]
    },
    {
     "name": "stderr",
     "output_type": "stream",
     "text": [
      "\u001b[34m\u001b[1mwandb\u001b[0m:   1 of 1 files downloaded.  \n"
     ]
    },
    {
     "name": "stdout",
     "output_type": "stream",
     "text": [
      "2025-04-20 13:11:03,319 - INFO - Downloaded logs_1nb06rq2:v0 to /scratch/downloaded_artifacts/logs_1nb06rq2:v0\n"
     ]
    },
    {
     "name": "stderr",
     "output_type": "stream",
     "text": [
      "\u001b[34m\u001b[1mwandb\u001b[0m:   1 of 1 files downloaded.  \n"
     ]
    },
    {
     "name": "stdout",
     "output_type": "stream",
     "text": [
      "2025-04-20 13:11:03,722 - INFO - Downloaded logs_f9bb6oad:v0 to /scratch/downloaded_artifacts/logs_f9bb6oad:v0\n"
     ]
    },
    {
     "name": "stderr",
     "output_type": "stream",
     "text": [
      "\u001b[34m\u001b[1mwandb\u001b[0m:   1 of 1 files downloaded.  \n"
     ]
    },
    {
     "name": "stdout",
     "output_type": "stream",
     "text": [
      "2025-04-20 13:11:04,479 - INFO - Downloaded logs_ftdfokw9:v0 to /scratch/downloaded_artifacts/logs_ftdfokw9:v0\n"
     ]
    },
    {
     "name": "stderr",
     "output_type": "stream",
     "text": [
      "\u001b[34m\u001b[1mwandb\u001b[0m:   1 of 1 files downloaded.  \n"
     ]
    },
    {
     "name": "stdout",
     "output_type": "stream",
     "text": [
      "2025-04-20 13:11:04,796 - INFO - Downloaded logs_gwwyd1eb:v0 to /scratch/downloaded_artifacts/logs_gwwyd1eb:v0\n"
     ]
    },
    {
     "name": "stderr",
     "output_type": "stream",
     "text": [
      "\u001b[34m\u001b[1mwandb\u001b[0m:   1 of 1 files downloaded.  \n"
     ]
    },
    {
     "name": "stdout",
     "output_type": "stream",
     "text": [
      "2025-04-20 13:11:04,975 - INFO - Downloaded logs_5e8xfij9:v0 to /scratch/downloaded_artifacts/logs_5e8xfij9:v0\n"
     ]
    },
    {
     "name": "stderr",
     "output_type": "stream",
     "text": [
      "\u001b[34m\u001b[1mwandb\u001b[0m:   1 of 1 files downloaded.  \n"
     ]
    },
    {
     "name": "stdout",
     "output_type": "stream",
     "text": [
      "2025-04-20 13:11:05,039 - INFO - Downloaded logs_jf80k94e:v0 to /scratch/downloaded_artifacts/logs_jf80k94e:v0\n"
     ]
    },
    {
     "name": "stderr",
     "output_type": "stream",
     "text": [
      "\u001b[34m\u001b[1mwandb\u001b[0m:   1 of 1 files downloaded.  \n"
     ]
    },
    {
     "name": "stdout",
     "output_type": "stream",
     "text": [
      "2025-04-20 13:11:05,366 - INFO - Downloaded logs_mhrbswqc:v0 to /scratch/downloaded_artifacts/logs_mhrbswqc:v0\n"
     ]
    },
    {
     "name": "stderr",
     "output_type": "stream",
     "text": [
      "\u001b[34m\u001b[1mwandb\u001b[0m:   1 of 1 files downloaded.  \n"
     ]
    },
    {
     "name": "stdout",
     "output_type": "stream",
     "text": [
      "2025-04-20 13:11:06,596 - INFO - Downloaded logs_873sx5v2:v0 to /scratch/downloaded_artifacts/logs_873sx5v2:v0\n"
     ]
    },
    {
     "name": "stderr",
     "output_type": "stream",
     "text": [
      "\u001b[34m\u001b[1mwandb\u001b[0m:   1 of 1 files downloaded.  \n"
     ]
    },
    {
     "name": "stdout",
     "output_type": "stream",
     "text": [
      "2025-04-20 13:11:07,135 - INFO - Downloaded logs_q80ublrx:v0 to /scratch/downloaded_artifacts/logs_q80ublrx:v0\n"
     ]
    },
    {
     "name": "stderr",
     "output_type": "stream",
     "text": [
      "\u001b[34m\u001b[1mwandb\u001b[0m:   1 of 1 files downloaded.  \n"
     ]
    },
    {
     "name": "stdout",
     "output_type": "stream",
     "text": [
      "2025-04-20 13:11:07,256 - INFO - Downloaded logs_5b79kjk7:v0 to /scratch/downloaded_artifacts/logs_5b79kjk7:v0\n"
     ]
    },
    {
     "name": "stderr",
     "output_type": "stream",
     "text": [
      "\u001b[34m\u001b[1mwandb\u001b[0m:   1 of 1 files downloaded.  \n"
     ]
    },
    {
     "name": "stdout",
     "output_type": "stream",
     "text": [
      "2025-04-20 13:11:07,486 - INFO - Downloaded logs_r69uaw1n:v0 to /scratch/downloaded_artifacts/logs_r69uaw1n:v0\n"
     ]
    },
    {
     "name": "stderr",
     "output_type": "stream",
     "text": [
      "\u001b[34m\u001b[1mwandb\u001b[0m:   1 of 1 files downloaded.  \n"
     ]
    },
    {
     "name": "stdout",
     "output_type": "stream",
     "text": [
      "2025-04-20 13:11:08,124 - INFO - Downloaded logs_cd7rh223:v0 to /scratch/downloaded_artifacts/logs_cd7rh223:v0\n"
     ]
    },
    {
     "name": "stderr",
     "output_type": "stream",
     "text": [
      "\u001b[34m\u001b[1mwandb\u001b[0m:   1 of 1 files downloaded.  \n"
     ]
    },
    {
     "name": "stdout",
     "output_type": "stream",
     "text": [
      "2025-04-20 13:11:08,132 - INFO - Downloaded logs_xcy57396:v0 to /scratch/downloaded_artifacts/logs_xcy57396:v0\n"
     ]
    },
    {
     "name": "stderr",
     "output_type": "stream",
     "text": [
      "\u001b[34m\u001b[1mwandb\u001b[0m:   1 of 1 files downloaded.  \n"
     ]
    },
    {
     "name": "stdout",
     "output_type": "stream",
     "text": [
      "2025-04-20 13:11:08,173 - INFO - Downloaded logs_d2363uzf:v0 to /scratch/downloaded_artifacts/logs_d2363uzf:v0\n"
     ]
    },
    {
     "name": "stderr",
     "output_type": "stream",
     "text": [
      "\u001b[34m\u001b[1mwandb\u001b[0m:   1 of 1 files downloaded.  \n"
     ]
    },
    {
     "name": "stdout",
     "output_type": "stream",
     "text": [
      "2025-04-20 13:11:08,231 - INFO - Downloaded logs_b22ivqqi:v0 to /scratch/downloaded_artifacts/logs_b22ivqqi:v0\n"
     ]
    },
    {
     "name": "stderr",
     "output_type": "stream",
     "text": [
      "\u001b[34m\u001b[1mwandb\u001b[0m:   1 of 1 files downloaded.  \n"
     ]
    },
    {
     "name": "stdout",
     "output_type": "stream",
     "text": [
      "2025-04-20 13:11:08,250 - INFO - Downloaded logs_e9do3bjy:v0 to /scratch/downloaded_artifacts/logs_e9do3bjy:v0\n"
     ]
    },
    {
     "name": "stderr",
     "output_type": "stream",
     "text": [
      "\u001b[34m\u001b[1mwandb\u001b[0m:   1 of 1 files downloaded.  \n"
     ]
    },
    {
     "name": "stdout",
     "output_type": "stream",
     "text": [
      "2025-04-20 13:11:08,272 - INFO - Downloaded logs_bk9b5s2r:v0 to /scratch/downloaded_artifacts/logs_bk9b5s2r:v0\n"
     ]
    },
    {
     "name": "stderr",
     "output_type": "stream",
     "text": [
      "\u001b[34m\u001b[1mwandb\u001b[0m:   1 of 1 files downloaded.  \n"
     ]
    },
    {
     "name": "stdout",
     "output_type": "stream",
     "text": [
      "2025-04-20 13:11:08,412 - INFO - Downloaded logs_5gbcidkn:v0 to /scratch/downloaded_artifacts/logs_5gbcidkn:v0\n"
     ]
    },
    {
     "name": "stderr",
     "output_type": "stream",
     "text": [
      "\u001b[34m\u001b[1mwandb\u001b[0m:   1 of 1 files downloaded.  \n"
     ]
    },
    {
     "name": "stdout",
     "output_type": "stream",
     "text": [
      "2025-04-20 13:11:08,424 - INFO - Downloaded logs_287tolk9:v0 to /scratch/downloaded_artifacts/logs_287tolk9:v0\n"
     ]
    },
    {
     "name": "stderr",
     "output_type": "stream",
     "text": [
      "\u001b[34m\u001b[1mwandb\u001b[0m:   1 of 1 files downloaded.  \n"
     ]
    },
    {
     "name": "stdout",
     "output_type": "stream",
     "text": [
      "2025-04-20 13:11:08,941 - INFO - Downloaded logs_iksy3onv:v0 to /scratch/downloaded_artifacts/logs_iksy3onv:v0\n"
     ]
    },
    {
     "name": "stderr",
     "output_type": "stream",
     "text": [
      "\u001b[34m\u001b[1mwandb\u001b[0m:   1 of 1 files downloaded.  \n"
     ]
    },
    {
     "name": "stdout",
     "output_type": "stream",
     "text": [
      "2025-04-20 13:11:08,958 - INFO - Downloaded logs_gzqwlman:v0 to /scratch/downloaded_artifacts/logs_gzqwlman:v0\n"
     ]
    },
    {
     "name": "stderr",
     "output_type": "stream",
     "text": [
      "\u001b[34m\u001b[1mwandb\u001b[0m:   1 of 1 files downloaded.  \n"
     ]
    },
    {
     "name": "stdout",
     "output_type": "stream",
     "text": [
      "2025-04-20 13:11:09,034 - INFO - Downloaded logs_7baxu0ut:v0 to /scratch/downloaded_artifacts/logs_7baxu0ut:v0\n"
     ]
    },
    {
     "name": "stderr",
     "output_type": "stream",
     "text": [
      "\u001b[34m\u001b[1mwandb\u001b[0m:   1 of 1 files downloaded.  \n"
     ]
    },
    {
     "name": "stdout",
     "output_type": "stream",
     "text": [
      "2025-04-20 13:11:10,110 - INFO - Downloaded logs_cuesxhk8:v0 to /scratch/downloaded_artifacts/logs_cuesxhk8:v0\n"
     ]
    },
    {
     "name": "stderr",
     "output_type": "stream",
     "text": [
      "\u001b[34m\u001b[1mwandb\u001b[0m:   1 of 1 files downloaded.  \n"
     ]
    },
    {
     "name": "stdout",
     "output_type": "stream",
     "text": [
      "2025-04-20 13:11:11,496 - INFO - Downloaded logs_d1wmfggw:v0 to /scratch/downloaded_artifacts/logs_d1wmfggw:v0\n"
     ]
    },
    {
     "name": "stderr",
     "output_type": "stream",
     "text": [
      "\u001b[34m\u001b[1mwandb\u001b[0m:   1 of 1 files downloaded.  \n"
     ]
    },
    {
     "name": "stdout",
     "output_type": "stream",
     "text": [
      "2025-04-20 13:11:11,518 - INFO - Downloaded logs_uttcjm7g:v0 to /scratch/downloaded_artifacts/logs_uttcjm7g:v0\n"
     ]
    },
    {
     "name": "stderr",
     "output_type": "stream",
     "text": [
      "\u001b[34m\u001b[1mwandb\u001b[0m:   1 of 1 files downloaded.  \n"
     ]
    },
    {
     "name": "stdout",
     "output_type": "stream",
     "text": [
      "2025-04-20 13:11:11,631 - INFO - Downloaded logs_xl9picy3:v0 to /scratch/downloaded_artifacts/logs_xl9picy3:v0\n"
     ]
    },
    {
     "name": "stderr",
     "output_type": "stream",
     "text": [
      "\u001b[34m\u001b[1mwandb\u001b[0m:   1 of 1 files downloaded.  \n"
     ]
    },
    {
     "name": "stdout",
     "output_type": "stream",
     "text": [
      "2025-04-20 13:11:12,071 - INFO - Downloaded logs_l6fnnvc9:v0 to /scratch/downloaded_artifacts/logs_l6fnnvc9:v0\n"
     ]
    },
    {
     "name": "stderr",
     "output_type": "stream",
     "text": [
      "\u001b[34m\u001b[1mwandb\u001b[0m:   1 of 1 files downloaded.  \n"
     ]
    },
    {
     "name": "stdout",
     "output_type": "stream",
     "text": [
      "2025-04-20 13:11:12,194 - INFO - Downloaded logs_im4heb66:v0 to /scratch/downloaded_artifacts/logs_im4heb66:v0\n"
     ]
    },
    {
     "name": "stderr",
     "output_type": "stream",
     "text": [
      "\u001b[34m\u001b[1mwandb\u001b[0m:   1 of 1 files downloaded.  \n"
     ]
    },
    {
     "name": "stdout",
     "output_type": "stream",
     "text": [
      "2025-04-20 13:11:12,378 - INFO - Downloaded logs_wbgt9unq:v0 to /scratch/downloaded_artifacts/logs_wbgt9unq:v0\n"
     ]
    },
    {
     "name": "stderr",
     "output_type": "stream",
     "text": [
      "\u001b[34m\u001b[1mwandb\u001b[0m:   1 of 1 files downloaded.  \n"
     ]
    },
    {
     "name": "stdout",
     "output_type": "stream",
     "text": [
      "2025-04-20 13:11:12,414 - INFO - Downloaded logs_lzr2yvyx:v0 to /scratch/downloaded_artifacts/logs_lzr2yvyx:v0\n"
     ]
    },
    {
     "name": "stderr",
     "output_type": "stream",
     "text": [
      "\u001b[34m\u001b[1mwandb\u001b[0m:   1 of 1 files downloaded.  \n"
     ]
    },
    {
     "name": "stdout",
     "output_type": "stream",
     "text": [
      "2025-04-20 13:11:13,126 - INFO - Downloaded logs_4ar4iphz:v0 to /scratch/downloaded_artifacts/logs_4ar4iphz:v0\n"
     ]
    },
    {
     "name": "stderr",
     "output_type": "stream",
     "text": [
      "\u001b[34m\u001b[1mwandb\u001b[0m:   1 of 1 files downloaded.  \n"
     ]
    },
    {
     "name": "stdout",
     "output_type": "stream",
     "text": [
      "2025-04-20 13:11:14,440 - INFO - Downloaded logs_bf79z6nl:v0 to /scratch/downloaded_artifacts/logs_bf79z6nl:v0\n"
     ]
    },
    {
     "name": "stderr",
     "output_type": "stream",
     "text": [
      "\u001b[34m\u001b[1mwandb\u001b[0m:   1 of 1 files downloaded.  \n"
     ]
    },
    {
     "name": "stdout",
     "output_type": "stream",
     "text": [
      "2025-04-20 13:11:14,630 - INFO - Downloaded logs_5kzao55j:v0 to /scratch/downloaded_artifacts/logs_5kzao55j:v0\n"
     ]
    },
    {
     "name": "stderr",
     "output_type": "stream",
     "text": [
      "\u001b[34m\u001b[1mwandb\u001b[0m:   1 of 1 files downloaded.  \n"
     ]
    },
    {
     "name": "stdout",
     "output_type": "stream",
     "text": [
      "2025-04-20 13:11:14,669 - INFO - Downloaded logs_4mud1x4h:v0 to /scratch/downloaded_artifacts/logs_4mud1x4h:v0\n"
     ]
    },
    {
     "name": "stderr",
     "output_type": "stream",
     "text": [
      "\u001b[34m\u001b[1mwandb\u001b[0m:   1 of 1 files downloaded.  \n"
     ]
    },
    {
     "name": "stdout",
     "output_type": "stream",
     "text": [
      "2025-04-20 13:11:15,025 - INFO - Downloaded logs_d2ptffns:v0 to /scratch/downloaded_artifacts/logs_d2ptffns:v0\n"
     ]
    },
    {
     "name": "stderr",
     "output_type": "stream",
     "text": [
      "\u001b[34m\u001b[1mwandb\u001b[0m:   1 of 1 files downloaded.  \n"
     ]
    },
    {
     "name": "stdout",
     "output_type": "stream",
     "text": [
      "2025-04-20 13:11:15,043 - INFO - Downloaded logs_h7gmslce:v0 to /scratch/downloaded_artifacts/logs_h7gmslce:v0\n"
     ]
    },
    {
     "name": "stderr",
     "output_type": "stream",
     "text": [
      "\u001b[34m\u001b[1mwandb\u001b[0m:   1 of 1 files downloaded.  \n"
     ]
    },
    {
     "name": "stdout",
     "output_type": "stream",
     "text": [
      "2025-04-20 13:11:15,056 - INFO - Downloaded logs_4q1t2v0q:v0 to /scratch/downloaded_artifacts/logs_4q1t2v0q:v0\n"
     ]
    },
    {
     "name": "stderr",
     "output_type": "stream",
     "text": [
      "\u001b[34m\u001b[1mwandb\u001b[0m:   1 of 1 files downloaded.  \n"
     ]
    },
    {
     "name": "stdout",
     "output_type": "stream",
     "text": [
      "2025-04-20 13:11:15,058 - INFO - Downloaded logs_97ajhxct:v0 to /scratch/downloaded_artifacts/logs_97ajhxct:v0\n"
     ]
    },
    {
     "name": "stderr",
     "output_type": "stream",
     "text": [
      "\u001b[34m\u001b[1mwandb\u001b[0m:   1 of 1 files downloaded.  \n"
     ]
    },
    {
     "name": "stdout",
     "output_type": "stream",
     "text": [
      "2025-04-20 13:11:15,083 - INFO - Downloaded logs_fmwm42c1:v0 to /scratch/downloaded_artifacts/logs_fmwm42c1:v0\n"
     ]
    },
    {
     "name": "stderr",
     "output_type": "stream",
     "text": [
      "\u001b[34m\u001b[1mwandb\u001b[0m:   1 of 1 files downloaded.  \n"
     ]
    },
    {
     "name": "stdout",
     "output_type": "stream",
     "text": [
      "2025-04-20 13:11:15,533 - INFO - Downloaded logs_lox0uyg8:v0 to /scratch/downloaded_artifacts/logs_lox0uyg8:v0\n"
     ]
    },
    {
     "name": "stderr",
     "output_type": "stream",
     "text": [
      "\u001b[34m\u001b[1mwandb\u001b[0m:   1 of 1 files downloaded.  \n"
     ]
    },
    {
     "name": "stdout",
     "output_type": "stream",
     "text": [
      "2025-04-20 13:11:15,581 - INFO - Downloaded logs_ldxzq5ac:v0 to /scratch/downloaded_artifacts/logs_ldxzq5ac:v0\n"
     ]
    },
    {
     "name": "stderr",
     "output_type": "stream",
     "text": [
      "\u001b[34m\u001b[1mwandb\u001b[0m:   1 of 1 files downloaded.  \n"
     ]
    },
    {
     "name": "stdout",
     "output_type": "stream",
     "text": [
      "2025-04-20 13:11:15,658 - INFO - Downloaded logs_ktc97cw7:v0 to /scratch/downloaded_artifacts/logs_ktc97cw7:v0\n"
     ]
    },
    {
     "name": "stderr",
     "output_type": "stream",
     "text": [
      "\u001b[34m\u001b[1mwandb\u001b[0m:   1 of 1 files downloaded.  \n"
     ]
    },
    {
     "name": "stdout",
     "output_type": "stream",
     "text": [
      "2025-04-20 13:11:16,358 - INFO - Downloaded logs_uqyvlony:v0 to /scratch/downloaded_artifacts/logs_uqyvlony:v0\n"
     ]
    },
    {
     "name": "stderr",
     "output_type": "stream",
     "text": [
      "\u001b[34m\u001b[1mwandb\u001b[0m:   1 of 1 files downloaded.  \n",
      "\u001b[34m\u001b[1mwandb\u001b[0m:   1 of 1 files downloaded.  \n"
     ]
    },
    {
     "name": "stdout",
     "output_type": "stream",
     "text": [
      "2025-04-20 13:11:49,859 - INFO - Downloaded logs_1dz8bm4v:v0 to /scratch/downloaded_artifacts/logs_1dz8bm4v:v0\n"
     ]
    },
    {
     "name": "stderr",
     "output_type": "stream",
     "text": [
      "\u001b[34m\u001b[1mwandb\u001b[0m:   1 of 1 files downloaded.  \n"
     ]
    },
    {
     "name": "stdout",
     "output_type": "stream",
     "text": [
      "2025-04-20 13:11:49,861 - INFO - Downloaded logs_xz6zsi15:v0 to /scratch/downloaded_artifacts/logs_xz6zsi15:v0\n",
      "2025-04-20 13:11:49,864 - INFO - Downloaded logs_yx1wlghh:v0 to /scratch/downloaded_artifacts/logs_yx1wlghh:v0\n"
     ]
    },
    {
     "name": "stderr",
     "output_type": "stream",
     "text": [
      "\u001b[34m\u001b[1mwandb\u001b[0m:   1 of 1 files downloaded.  \n"
     ]
    },
    {
     "name": "stdout",
     "output_type": "stream",
     "text": [
      "2025-04-20 13:11:49,877 - INFO - Downloaded logs_bc87qplt:v0 to /scratch/downloaded_artifacts/logs_bc87qplt:v0\n"
     ]
    },
    {
     "name": "stderr",
     "output_type": "stream",
     "text": [
      "\u001b[34m\u001b[1mwandb\u001b[0m:   1 of 1 files downloaded.  \n"
     ]
    },
    {
     "name": "stdout",
     "output_type": "stream",
     "text": [
      "2025-04-20 13:11:50,055 - INFO - Downloaded logs_50o623fq:v0 to /scratch/downloaded_artifacts/logs_50o623fq:v0\n"
     ]
    },
    {
     "name": "stderr",
     "output_type": "stream",
     "text": [
      "\u001b[34m\u001b[1mwandb\u001b[0m:   1 of 1 files downloaded.  \n"
     ]
    },
    {
     "name": "stdout",
     "output_type": "stream",
     "text": [
      "2025-04-20 13:11:50,072 - INFO - Downloaded logs_ej933cdt:v0 to /scratch/downloaded_artifacts/logs_ej933cdt:v0\n"
     ]
    },
    {
     "name": "stderr",
     "output_type": "stream",
     "text": [
      "\u001b[34m\u001b[1mwandb\u001b[0m:   1 of 1 files downloaded.  \n"
     ]
    },
    {
     "name": "stdout",
     "output_type": "stream",
     "text": [
      "2025-04-20 13:11:50,084 - INFO - Downloaded logs_d31y5cxs:v0 to /scratch/downloaded_artifacts/logs_d31y5cxs:v0\n"
     ]
    },
    {
     "name": "stderr",
     "output_type": "stream",
     "text": [
      "\u001b[34m\u001b[1mwandb\u001b[0m:   1 of 1 files downloaded.  \n"
     ]
    },
    {
     "name": "stdout",
     "output_type": "stream",
     "text": [
      "2025-04-20 13:11:50,149 - INFO - Downloaded logs_fv8whn7v:v0 to /scratch/downloaded_artifacts/logs_fv8whn7v:v0\n"
     ]
    },
    {
     "name": "stderr",
     "output_type": "stream",
     "text": [
      "\u001b[34m\u001b[1mwandb\u001b[0m:   1 of 1 files downloaded.  \n"
     ]
    },
    {
     "name": "stdout",
     "output_type": "stream",
     "text": [
      "2025-04-20 13:11:50,353 - INFO - Downloaded logs_j6vo8sik:v0 to /scratch/downloaded_artifacts/logs_j6vo8sik:v0\n"
     ]
    },
    {
     "name": "stderr",
     "output_type": "stream",
     "text": [
      "\u001b[34m\u001b[1mwandb\u001b[0m:   1 of 1 files downloaded.  \n"
     ]
    },
    {
     "name": "stdout",
     "output_type": "stream",
     "text": [
      "2025-04-20 13:11:50,375 - INFO - Downloaded logs_tyig28ka:v0 to /scratch/downloaded_artifacts/logs_tyig28ka:v0\n"
     ]
    },
    {
     "name": "stderr",
     "output_type": "stream",
     "text": [
      "\u001b[34m\u001b[1mwandb\u001b[0m:   1 of 1 files downloaded.  \n"
     ]
    },
    {
     "name": "stdout",
     "output_type": "stream",
     "text": [
      "2025-04-20 13:11:50,389 - INFO - Downloaded logs_hthpaeui:v0 to /scratch/downloaded_artifacts/logs_hthpaeui:v0\n"
     ]
    },
    {
     "name": "stderr",
     "output_type": "stream",
     "text": [
      "\u001b[34m\u001b[1mwandb\u001b[0m:   1 of 1 files downloaded.  \n"
     ]
    },
    {
     "name": "stdout",
     "output_type": "stream",
     "text": [
      "2025-04-20 13:11:50,405 - INFO - Downloaded logs_zrraks38:v0 to /scratch/downloaded_artifacts/logs_zrraks38:v0\n"
     ]
    },
    {
     "name": "stderr",
     "output_type": "stream",
     "text": [
      "\u001b[34m\u001b[1mwandb\u001b[0m:   1 of 1 files downloaded.  \n"
     ]
    },
    {
     "name": "stdout",
     "output_type": "stream",
     "text": [
      "2025-04-20 13:11:50,431 - INFO - Downloaded logs_knhpvgeo:v0 to /scratch/downloaded_artifacts/logs_knhpvgeo:v0\n"
     ]
    },
    {
     "name": "stderr",
     "output_type": "stream",
     "text": [
      "\u001b[34m\u001b[1mwandb\u001b[0m:   1 of 1 files downloaded.  \n"
     ]
    },
    {
     "name": "stdout",
     "output_type": "stream",
     "text": [
      "2025-04-20 13:11:50,434 - INFO - Downloaded logs_x8k6scor:v0 to /scratch/downloaded_artifacts/logs_x8k6scor:v0\n"
     ]
    },
    {
     "name": "stderr",
     "output_type": "stream",
     "text": [
      "\u001b[34m\u001b[1mwandb\u001b[0m:   1 of 1 files downloaded.  \n"
     ]
    },
    {
     "name": "stdout",
     "output_type": "stream",
     "text": [
      "2025-04-20 13:11:50,448 - INFO - Downloaded logs_gyd6rufp:v0 to /scratch/downloaded_artifacts/logs_gyd6rufp:v0\n"
     ]
    },
    {
     "name": "stderr",
     "output_type": "stream",
     "text": [
      "\u001b[34m\u001b[1mwandb\u001b[0m:   1 of 1 files downloaded.  \n"
     ]
    },
    {
     "name": "stdout",
     "output_type": "stream",
     "text": [
      "2025-04-20 13:11:50,460 - INFO - Downloaded logs_16wv32is:v0 to /scratch/downloaded_artifacts/logs_16wv32is:v0\n"
     ]
    },
    {
     "name": "stderr",
     "output_type": "stream",
     "text": [
      "\u001b[34m\u001b[1mwandb\u001b[0m:   1 of 1 files downloaded.  \n"
     ]
    },
    {
     "name": "stdout",
     "output_type": "stream",
     "text": [
      "2025-04-20 13:11:50,476 - INFO - Downloaded logs_4rztj5m0:v0 to /scratch/downloaded_artifacts/logs_4rztj5m0:v0\n"
     ]
    },
    {
     "name": "stderr",
     "output_type": "stream",
     "text": [
      "\u001b[34m\u001b[1mwandb\u001b[0m:   1 of 1 files downloaded.  \n"
     ]
    },
    {
     "name": "stdout",
     "output_type": "stream",
     "text": [
      "2025-04-20 13:11:50,477 - INFO - Downloaded logs_k8s1kdsn:v0 to /scratch/downloaded_artifacts/logs_k8s1kdsn:v0\n"
     ]
    },
    {
     "name": "stderr",
     "output_type": "stream",
     "text": [
      "\u001b[34m\u001b[1mwandb\u001b[0m:   1 of 1 files downloaded.  \n"
     ]
    },
    {
     "name": "stdout",
     "output_type": "stream",
     "text": [
      "2025-04-20 13:11:50,546 - INFO - Downloaded logs_ujto49gy:v0 to /scratch/downloaded_artifacts/logs_ujto49gy:v0\n"
     ]
    },
    {
     "name": "stderr",
     "output_type": "stream",
     "text": [
      "\u001b[34m\u001b[1mwandb\u001b[0m:   1 of 1 files downloaded.  \n"
     ]
    },
    {
     "name": "stdout",
     "output_type": "stream",
     "text": [
      "2025-04-20 13:11:50,741 - INFO - Downloaded logs_loko2q7a:v0 to /scratch/downloaded_artifacts/logs_loko2q7a:v0\n"
     ]
    },
    {
     "name": "stderr",
     "output_type": "stream",
     "text": [
      "\u001b[34m\u001b[1mwandb\u001b[0m:   1 of 1 files downloaded.  \n"
     ]
    },
    {
     "name": "stdout",
     "output_type": "stream",
     "text": [
      "2025-04-20 13:11:51,119 - INFO - Downloaded logs_sgiqn4dh:v0 to /scratch/downloaded_artifacts/logs_sgiqn4dh:v0\n"
     ]
    },
    {
     "name": "stderr",
     "output_type": "stream",
     "text": [
      "\u001b[34m\u001b[1mwandb\u001b[0m:   1 of 1 files downloaded.  \n"
     ]
    },
    {
     "name": "stdout",
     "output_type": "stream",
     "text": [
      "2025-04-20 13:11:51,135 - INFO - Downloaded logs_psw917sq:v0 to /scratch/downloaded_artifacts/logs_psw917sq:v0\n"
     ]
    },
    {
     "name": "stderr",
     "output_type": "stream",
     "text": [
      "\u001b[34m\u001b[1mwandb\u001b[0m:   1 of 1 files downloaded.  \n"
     ]
    },
    {
     "name": "stdout",
     "output_type": "stream",
     "text": [
      "2025-04-20 13:11:51,239 - INFO - Downloaded logs_6pm15uke:v0 to /scratch/downloaded_artifacts/logs_6pm15uke:v0\n"
     ]
    },
    {
     "name": "stderr",
     "output_type": "stream",
     "text": [
      "\u001b[34m\u001b[1mwandb\u001b[0m:   1 of 1 files downloaded.  \n"
     ]
    },
    {
     "name": "stdout",
     "output_type": "stream",
     "text": [
      "2025-04-20 13:11:51,283 - INFO - Downloaded logs_wvlt56z3:v0 to /scratch/downloaded_artifacts/logs_wvlt56z3:v0\n"
     ]
    },
    {
     "name": "stderr",
     "output_type": "stream",
     "text": [
      "\u001b[34m\u001b[1mwandb\u001b[0m:   1 of 1 files downloaded.  \n"
     ]
    },
    {
     "name": "stdout",
     "output_type": "stream",
     "text": [
      "2025-04-20 13:11:51,472 - INFO - Downloaded logs_pzw3ig92:v0 to /scratch/downloaded_artifacts/logs_pzw3ig92:v0\n"
     ]
    },
    {
     "name": "stderr",
     "output_type": "stream",
     "text": [
      "\u001b[34m\u001b[1mwandb\u001b[0m:   1 of 1 files downloaded.  \n"
     ]
    },
    {
     "name": "stdout",
     "output_type": "stream",
     "text": [
      "2025-04-20 13:11:51,478 - INFO - Downloaded logs_c1l82us0:v0 to /scratch/downloaded_artifacts/logs_c1l82us0:v0\n"
     ]
    },
    {
     "name": "stderr",
     "output_type": "stream",
     "text": [
      "\u001b[34m\u001b[1mwandb\u001b[0m:   1 of 1 files downloaded.  \n"
     ]
    },
    {
     "name": "stdout",
     "output_type": "stream",
     "text": [
      "2025-04-20 13:11:51,500 - INFO - Downloaded logs_24yinl2p:v0 to /scratch/downloaded_artifacts/logs_24yinl2p:v0\n"
     ]
    },
    {
     "name": "stderr",
     "output_type": "stream",
     "text": [
      "\u001b[34m\u001b[1mwandb\u001b[0m:   1 of 1 files downloaded.  \n"
     ]
    },
    {
     "name": "stdout",
     "output_type": "stream",
     "text": [
      "2025-04-20 13:11:51,526 - INFO - Downloaded logs_0tf0szve:v0 to /scratch/downloaded_artifacts/logs_0tf0szve:v0\n"
     ]
    },
    {
     "name": "stderr",
     "output_type": "stream",
     "text": [
      "\u001b[34m\u001b[1mwandb\u001b[0m:   1 of 1 files downloaded.  \n"
     ]
    },
    {
     "name": "stdout",
     "output_type": "stream",
     "text": [
      "2025-04-20 13:11:51,839 - INFO - Downloaded logs_jf8tqr7s:v0 to /scratch/downloaded_artifacts/logs_jf8tqr7s:v0\n"
     ]
    },
    {
     "name": "stderr",
     "output_type": "stream",
     "text": [
      "\u001b[34m\u001b[1mwandb\u001b[0m:   1 of 1 files downloaded.  \n"
     ]
    },
    {
     "name": "stdout",
     "output_type": "stream",
     "text": [
      "2025-04-20 13:11:51,880 - INFO - Downloaded logs_3sz18upd:v0 to /scratch/downloaded_artifacts/logs_3sz18upd:v0\n"
     ]
    },
    {
     "name": "stderr",
     "output_type": "stream",
     "text": [
      "\u001b[34m\u001b[1mwandb\u001b[0m:   1 of 1 files downloaded.  \n"
     ]
    },
    {
     "name": "stdout",
     "output_type": "stream",
     "text": [
      "2025-04-20 13:11:51,948 - INFO - Downloaded logs_mkdb92up:v0 to /scratch/downloaded_artifacts/logs_mkdb92up:v0\n"
     ]
    },
    {
     "name": "stderr",
     "output_type": "stream",
     "text": [
      "\u001b[34m\u001b[1mwandb\u001b[0m:   1 of 1 files downloaded.  \n"
     ]
    },
    {
     "name": "stdout",
     "output_type": "stream",
     "text": [
      "2025-04-20 13:11:51,976 - INFO - Downloaded logs_3gli5xlw:v0 to /scratch/downloaded_artifacts/logs_3gli5xlw:v0\n"
     ]
    },
    {
     "name": "stderr",
     "output_type": "stream",
     "text": [
      "\u001b[34m\u001b[1mwandb\u001b[0m:   1 of 1 files downloaded.  \n"
     ]
    },
    {
     "name": "stdout",
     "output_type": "stream",
     "text": [
      "2025-04-20 13:11:52,047 - INFO - Downloaded logs_6z7ch4mz:v0 to /scratch/downloaded_artifacts/logs_6z7ch4mz:v0\n"
     ]
    },
    {
     "name": "stderr",
     "output_type": "stream",
     "text": [
      "\u001b[34m\u001b[1mwandb\u001b[0m:   1 of 1 files downloaded.  \n"
     ]
    },
    {
     "name": "stdout",
     "output_type": "stream",
     "text": [
      "2025-04-20 13:11:52,058 - INFO - Downloaded logs_68zndw97:v0 to /scratch/downloaded_artifacts/logs_68zndw97:v0\n"
     ]
    },
    {
     "name": "stderr",
     "output_type": "stream",
     "text": [
      "\u001b[34m\u001b[1mwandb\u001b[0m:   1 of 1 files downloaded.  \n"
     ]
    },
    {
     "name": "stdout",
     "output_type": "stream",
     "text": [
      "2025-04-20 13:11:52,067 - INFO - Downloaded logs_6yfwd8zv:v0 to /scratch/downloaded_artifacts/logs_6yfwd8zv:v0\n"
     ]
    },
    {
     "name": "stderr",
     "output_type": "stream",
     "text": [
      "\u001b[34m\u001b[1mwandb\u001b[0m:   1 of 1 files downloaded.  \n"
     ]
    },
    {
     "name": "stdout",
     "output_type": "stream",
     "text": [
      "2025-04-20 13:11:52,082 - INFO - Downloaded logs_da0amdy0:v0 to /scratch/downloaded_artifacts/logs_da0amdy0:v0\n"
     ]
    },
    {
     "name": "stderr",
     "output_type": "stream",
     "text": [
      "\u001b[34m\u001b[1mwandb\u001b[0m:   1 of 1 files downloaded.  \n"
     ]
    },
    {
     "name": "stdout",
     "output_type": "stream",
     "text": [
      "2025-04-20 13:11:52,101 - INFO - Downloaded logs_n9nilkaf:v0 to /scratch/downloaded_artifacts/logs_n9nilkaf:v0\n"
     ]
    },
    {
     "name": "stderr",
     "output_type": "stream",
     "text": [
      "\u001b[34m\u001b[1mwandb\u001b[0m:   1 of 1 files downloaded.  \n"
     ]
    },
    {
     "name": "stdout",
     "output_type": "stream",
     "text": [
      "2025-04-20 13:11:52,175 - INFO - Downloaded logs_l3w2cava:v0 to /scratch/downloaded_artifacts/logs_l3w2cava:v0\n"
     ]
    },
    {
     "name": "stderr",
     "output_type": "stream",
     "text": [
      "\u001b[34m\u001b[1mwandb\u001b[0m:   1 of 1 files downloaded.  \n"
     ]
    },
    {
     "name": "stdout",
     "output_type": "stream",
     "text": [
      "2025-04-20 13:11:52,183 - INFO - Downloaded logs_ekr4i6qv:v0 to /scratch/downloaded_artifacts/logs_ekr4i6qv:v0\n"
     ]
    },
    {
     "name": "stderr",
     "output_type": "stream",
     "text": [
      "\u001b[34m\u001b[1mwandb\u001b[0m:   1 of 1 files downloaded.  \n"
     ]
    },
    {
     "name": "stdout",
     "output_type": "stream",
     "text": [
      "2025-04-20 13:11:52,368 - INFO - Downloaded logs_fks5i8vy:v0 to /scratch/downloaded_artifacts/logs_fks5i8vy:v0\n"
     ]
    },
    {
     "name": "stderr",
     "output_type": "stream",
     "text": [
      "\u001b[34m\u001b[1mwandb\u001b[0m:   1 of 1 files downloaded.  \n"
     ]
    },
    {
     "name": "stdout",
     "output_type": "stream",
     "text": [
      "2025-04-20 13:11:52,397 - INFO - Downloaded logs_fl3byiqh:v0 to /scratch/downloaded_artifacts/logs_fl3byiqh:v0\n"
     ]
    },
    {
     "name": "stderr",
     "output_type": "stream",
     "text": [
      "\u001b[34m\u001b[1mwandb\u001b[0m:   1 of 1 files downloaded.  \n"
     ]
    },
    {
     "name": "stdout",
     "output_type": "stream",
     "text": [
      "2025-04-20 13:11:52,399 - INFO - Downloaded logs_ma9h8nux:v0 to /scratch/downloaded_artifacts/logs_ma9h8nux:v0\n"
     ]
    },
    {
     "name": "stderr",
     "output_type": "stream",
     "text": [
      "\u001b[34m\u001b[1mwandb\u001b[0m:   1 of 1 files downloaded.  \n"
     ]
    },
    {
     "name": "stdout",
     "output_type": "stream",
     "text": [
      "2025-04-20 13:11:52,566 - INFO - Downloaded logs_qurx5g45:v0 to /scratch/downloaded_artifacts/logs_qurx5g45:v0\n"
     ]
    },
    {
     "name": "stderr",
     "output_type": "stream",
     "text": [
      "\u001b[34m\u001b[1mwandb\u001b[0m:   1 of 1 files downloaded.  \n"
     ]
    },
    {
     "name": "stdout",
     "output_type": "stream",
     "text": [
      "2025-04-20 13:11:52,673 - INFO - Downloaded logs_nsk1dkne:v0 to /scratch/downloaded_artifacts/logs_nsk1dkne:v0\n"
     ]
    },
    {
     "name": "stderr",
     "output_type": "stream",
     "text": [
      "\u001b[34m\u001b[1mwandb\u001b[0m:   1 of 1 files downloaded.  \n"
     ]
    },
    {
     "name": "stdout",
     "output_type": "stream",
     "text": [
      "2025-04-20 13:11:52,739 - INFO - Downloaded logs_z3l88pxf:v0 to /scratch/downloaded_artifacts/logs_z3l88pxf:v0\n"
     ]
    },
    {
     "name": "stderr",
     "output_type": "stream",
     "text": [
      "\u001b[34m\u001b[1mwandb\u001b[0m:   1 of 1 files downloaded.  \n"
     ]
    },
    {
     "name": "stdout",
     "output_type": "stream",
     "text": [
      "2025-04-20 13:11:52,871 - INFO - Downloaded logs_zgo42rwd:v0 to /scratch/downloaded_artifacts/logs_zgo42rwd:v0\n"
     ]
    },
    {
     "name": "stderr",
     "output_type": "stream",
     "text": [
      "\u001b[34m\u001b[1mwandb\u001b[0m:   1 of 1 files downloaded.  \n"
     ]
    },
    {
     "name": "stdout",
     "output_type": "stream",
     "text": [
      "2025-04-20 13:11:52,920 - INFO - Downloaded logs_sd87o55h:v0 to /scratch/downloaded_artifacts/logs_sd87o55h:v0\n"
     ]
    },
    {
     "name": "stderr",
     "output_type": "stream",
     "text": [
      "\u001b[34m\u001b[1mwandb\u001b[0m:   1 of 1 files downloaded.  \n"
     ]
    },
    {
     "name": "stdout",
     "output_type": "stream",
     "text": [
      "2025-04-20 13:11:53,166 - INFO - Downloaded logs_4erm3098:v0 to /scratch/downloaded_artifacts/logs_4erm3098:v0\n"
     ]
    },
    {
     "name": "stderr",
     "output_type": "stream",
     "text": [
      "\u001b[34m\u001b[1mwandb\u001b[0m:   1 of 1 files downloaded.  \n"
     ]
    },
    {
     "name": "stdout",
     "output_type": "stream",
     "text": [
      "2025-04-20 13:11:53,176 - INFO - Downloaded logs_02xfh3pn:v0 to /scratch/downloaded_artifacts/logs_02xfh3pn:v0\n"
     ]
    },
    {
     "name": "stderr",
     "output_type": "stream",
     "text": [
      "\u001b[34m\u001b[1mwandb\u001b[0m:   1 of 1 files downloaded.  \n"
     ]
    },
    {
     "name": "stdout",
     "output_type": "stream",
     "text": [
      "2025-04-20 13:11:53,197 - INFO - Downloaded logs_2yfyrym7:v0 to /scratch/downloaded_artifacts/logs_2yfyrym7:v0\n"
     ]
    },
    {
     "name": "stderr",
     "output_type": "stream",
     "text": [
      "\u001b[34m\u001b[1mwandb\u001b[0m:   1 of 1 files downloaded.  \n"
     ]
    },
    {
     "name": "stdout",
     "output_type": "stream",
     "text": [
      "2025-04-20 13:11:53,387 - INFO - Downloaded logs_dxeqzbre:v0 to /scratch/downloaded_artifacts/logs_dxeqzbre:v0\n"
     ]
    },
    {
     "name": "stderr",
     "output_type": "stream",
     "text": [
      "\u001b[34m\u001b[1mwandb\u001b[0m:   1 of 1 files downloaded.  \n"
     ]
    },
    {
     "name": "stdout",
     "output_type": "stream",
     "text": [
      "2025-04-20 13:11:53,424 - INFO - Downloaded logs_52mcvary:v0 to /scratch/downloaded_artifacts/logs_52mcvary:v0\n"
     ]
    },
    {
     "name": "stderr",
     "output_type": "stream",
     "text": [
      "\u001b[34m\u001b[1mwandb\u001b[0m:   1 of 1 files downloaded.  \n"
     ]
    },
    {
     "name": "stdout",
     "output_type": "stream",
     "text": [
      "2025-04-20 13:11:53,484 - INFO - Downloaded logs_eknlb9q6:v0 to /scratch/downloaded_artifacts/logs_eknlb9q6:v0\n"
     ]
    },
    {
     "name": "stderr",
     "output_type": "stream",
     "text": [
      "\u001b[34m\u001b[1mwandb\u001b[0m:   1 of 1 files downloaded.  \n"
     ]
    },
    {
     "name": "stdout",
     "output_type": "stream",
     "text": [
      "2025-04-20 13:11:53,643 - INFO - Downloaded logs_hy5xo8rz:v0 to /scratch/downloaded_artifacts/logs_hy5xo8rz:v0\n"
     ]
    },
    {
     "name": "stderr",
     "output_type": "stream",
     "text": [
      "\u001b[34m\u001b[1mwandb\u001b[0m:   1 of 1 files downloaded.  \n"
     ]
    },
    {
     "name": "stdout",
     "output_type": "stream",
     "text": [
      "2025-04-20 13:11:53,715 - INFO - Downloaded logs_nwephskf:v0 to /scratch/downloaded_artifacts/logs_nwephskf:v0\n"
     ]
    },
    {
     "name": "stderr",
     "output_type": "stream",
     "text": [
      "\u001b[34m\u001b[1mwandb\u001b[0m:   1 of 1 files downloaded.  \n"
     ]
    },
    {
     "name": "stdout",
     "output_type": "stream",
     "text": [
      "2025-04-20 13:11:53,736 - INFO - Downloaded logs_lluav781:v0 to /scratch/downloaded_artifacts/logs_lluav781:v0\n"
     ]
    },
    {
     "name": "stderr",
     "output_type": "stream",
     "text": [
      "\u001b[34m\u001b[1mwandb\u001b[0m:   1 of 1 files downloaded.  \n"
     ]
    },
    {
     "name": "stdout",
     "output_type": "stream",
     "text": [
      "2025-04-20 13:11:53,753 - INFO - Downloaded logs_pu05nmsq:v0 to /scratch/downloaded_artifacts/logs_pu05nmsq:v0\n"
     ]
    },
    {
     "name": "stderr",
     "output_type": "stream",
     "text": [
      "\u001b[34m\u001b[1mwandb\u001b[0m:   1 of 1 files downloaded.  \n"
     ]
    },
    {
     "name": "stdout",
     "output_type": "stream",
     "text": [
      "2025-04-20 13:11:53,761 - INFO - Downloaded logs_ng6gaml4:v0 to /scratch/downloaded_artifacts/logs_ng6gaml4:v0\n"
     ]
    },
    {
     "name": "stderr",
     "output_type": "stream",
     "text": [
      "\u001b[34m\u001b[1mwandb\u001b[0m:   1 of 1 files downloaded.  \n"
     ]
    },
    {
     "name": "stdout",
     "output_type": "stream",
     "text": [
      "2025-04-20 13:11:53,775 - INFO - Downloaded logs_qycc5zrt:v0 to /scratch/downloaded_artifacts/logs_qycc5zrt:v0\n"
     ]
    },
    {
     "name": "stderr",
     "output_type": "stream",
     "text": [
      "\u001b[34m\u001b[1mwandb\u001b[0m:   1 of 1 files downloaded.  \n"
     ]
    },
    {
     "name": "stdout",
     "output_type": "stream",
     "text": [
      "2025-04-20 13:11:53,906 - INFO - Downloaded logs_xv6jfsno:v0 to /scratch/downloaded_artifacts/logs_xv6jfsno:v0\n"
     ]
    },
    {
     "name": "stderr",
     "output_type": "stream",
     "text": [
      "\u001b[34m\u001b[1mwandb\u001b[0m:   1 of 1 files downloaded.  \n"
     ]
    },
    {
     "name": "stdout",
     "output_type": "stream",
     "text": [
      "2025-04-20 13:11:53,992 - INFO - Downloaded logs_7a32dbxw:v0 to /scratch/downloaded_artifacts/logs_7a32dbxw:v0\n"
     ]
    },
    {
     "name": "stderr",
     "output_type": "stream",
     "text": [
      "\u001b[34m\u001b[1mwandb\u001b[0m:   1 of 1 files downloaded.  \n"
     ]
    },
    {
     "name": "stdout",
     "output_type": "stream",
     "text": [
      "2025-04-20 13:11:54,017 - INFO - Downloaded logs_559siplf:v0 to /scratch/downloaded_artifacts/logs_559siplf:v0\n"
     ]
    },
    {
     "name": "stderr",
     "output_type": "stream",
     "text": [
      "\u001b[34m\u001b[1mwandb\u001b[0m:   1 of 1 files downloaded.  \n"
     ]
    },
    {
     "name": "stdout",
     "output_type": "stream",
     "text": [
      "2025-04-20 13:11:54,118 - INFO - Downloaded logs_extewx42:v0 to /scratch/downloaded_artifacts/logs_extewx42:v0\n"
     ]
    },
    {
     "name": "stderr",
     "output_type": "stream",
     "text": [
      "\u001b[34m\u001b[1mwandb\u001b[0m:   1 of 1 files downloaded.  \n"
     ]
    },
    {
     "name": "stdout",
     "output_type": "stream",
     "text": [
      "2025-04-20 13:11:54,158 - INFO - Downloaded logs_hlpy39nv:v0 to /scratch/downloaded_artifacts/logs_hlpy39nv:v0\n"
     ]
    },
    {
     "name": "stderr",
     "output_type": "stream",
     "text": [
      "\u001b[34m\u001b[1mwandb\u001b[0m:   1 of 1 files downloaded.  \n"
     ]
    },
    {
     "name": "stdout",
     "output_type": "stream",
     "text": [
      "2025-04-20 13:11:54,249 - INFO - Downloaded logs_hhyew7i8:v0 to /scratch/downloaded_artifacts/logs_hhyew7i8:v0\n"
     ]
    },
    {
     "name": "stderr",
     "output_type": "stream",
     "text": [
      "\u001b[34m\u001b[1mwandb\u001b[0m:   1 of 1 files downloaded.  \n"
     ]
    },
    {
     "name": "stdout",
     "output_type": "stream",
     "text": [
      "2025-04-20 13:11:54,328 - INFO - Downloaded logs_mdqru39y:v0 to /scratch/downloaded_artifacts/logs_mdqru39y:v0\n"
     ]
    },
    {
     "name": "stderr",
     "output_type": "stream",
     "text": [
      "\u001b[34m\u001b[1mwandb\u001b[0m:   1 of 1 files downloaded.  \n"
     ]
    },
    {
     "name": "stdout",
     "output_type": "stream",
     "text": [
      "2025-04-20 13:11:54,335 - INFO - Downloaded logs_9fftf8e3:v0 to /scratch/downloaded_artifacts/logs_9fftf8e3:v0\n"
     ]
    },
    {
     "name": "stderr",
     "output_type": "stream",
     "text": [
      "\u001b[34m\u001b[1mwandb\u001b[0m:   1 of 1 files downloaded.  \n"
     ]
    },
    {
     "name": "stdout",
     "output_type": "stream",
     "text": [
      "2025-04-20 13:11:54,406 - INFO - Downloaded logs_jj46d87u:v0 to /scratch/downloaded_artifacts/logs_jj46d87u:v0\n"
     ]
    },
    {
     "name": "stderr",
     "output_type": "stream",
     "text": [
      "\u001b[34m\u001b[1mwandb\u001b[0m:   1 of 1 files downloaded.  \n"
     ]
    },
    {
     "name": "stdout",
     "output_type": "stream",
     "text": [
      "2025-04-20 13:11:54,461 - INFO - Downloaded logs_mbh5fd1b:v0 to /scratch/downloaded_artifacts/logs_mbh5fd1b:v0\n"
     ]
    },
    {
     "name": "stderr",
     "output_type": "stream",
     "text": [
      "\u001b[34m\u001b[1mwandb\u001b[0m:   1 of 1 files downloaded.  \n"
     ]
    },
    {
     "name": "stdout",
     "output_type": "stream",
     "text": [
      "2025-04-20 13:11:54,609 - INFO - Downloaded logs_v2q8a6su:v0 to /scratch/downloaded_artifacts/logs_v2q8a6su:v0\n"
     ]
    },
    {
     "name": "stderr",
     "output_type": "stream",
     "text": [
      "\u001b[34m\u001b[1mwandb\u001b[0m:   1 of 1 files downloaded.  \n"
     ]
    },
    {
     "name": "stdout",
     "output_type": "stream",
     "text": [
      "2025-04-20 13:11:54,738 - INFO - Downloaded logs_bvl66vrb:v0 to /scratch/downloaded_artifacts/logs_bvl66vrb:v0\n"
     ]
    },
    {
     "name": "stderr",
     "output_type": "stream",
     "text": [
      "\u001b[34m\u001b[1mwandb\u001b[0m:   1 of 1 files downloaded.  \n"
     ]
    },
    {
     "name": "stdout",
     "output_type": "stream",
     "text": [
      "2025-04-20 13:11:54,852 - INFO - Downloaded logs_x2zmfn4j:v0 to /scratch/downloaded_artifacts/logs_x2zmfn4j:v0\n"
     ]
    },
    {
     "name": "stderr",
     "output_type": "stream",
     "text": [
      "\u001b[34m\u001b[1mwandb\u001b[0m:   1 of 1 files downloaded.  \n"
     ]
    },
    {
     "name": "stdout",
     "output_type": "stream",
     "text": [
      "2025-04-20 13:11:55,038 - INFO - Downloaded logs_ae5qs7xk:v0 to /scratch/downloaded_artifacts/logs_ae5qs7xk:v0\n"
     ]
    },
    {
     "name": "stderr",
     "output_type": "stream",
     "text": [
      "\u001b[34m\u001b[1mwandb\u001b[0m:   1 of 1 files downloaded.  \n"
     ]
    },
    {
     "name": "stdout",
     "output_type": "stream",
     "text": [
      "2025-04-20 13:11:55,074 - INFO - Downloaded logs_e5vtr6q2:v0 to /scratch/downloaded_artifacts/logs_e5vtr6q2:v0\n"
     ]
    },
    {
     "name": "stderr",
     "output_type": "stream",
     "text": [
      "\u001b[34m\u001b[1mwandb\u001b[0m:   1 of 1 files downloaded.  \n"
     ]
    },
    {
     "name": "stdout",
     "output_type": "stream",
     "text": [
      "2025-04-20 13:11:55,130 - INFO - Downloaded logs_wxwqw0d5:v0 to /scratch/downloaded_artifacts/logs_wxwqw0d5:v0\n"
     ]
    },
    {
     "name": "stderr",
     "output_type": "stream",
     "text": [
      "\u001b[34m\u001b[1mwandb\u001b[0m:   1 of 1 files downloaded.  \n"
     ]
    },
    {
     "name": "stdout",
     "output_type": "stream",
     "text": [
      "2025-04-20 13:11:55,136 - INFO - Downloaded logs_socuoghe:v0 to /scratch/downloaded_artifacts/logs_socuoghe:v0\n"
     ]
    },
    {
     "name": "stderr",
     "output_type": "stream",
     "text": [
      "\u001b[34m\u001b[1mwandb\u001b[0m:   1 of 1 files downloaded.  \n"
     ]
    },
    {
     "name": "stdout",
     "output_type": "stream",
     "text": [
      "2025-04-20 13:11:55,208 - INFO - Downloaded logs_6oxam24c:v0 to /scratch/downloaded_artifacts/logs_6oxam24c:v0\n"
     ]
    },
    {
     "name": "stderr",
     "output_type": "stream",
     "text": [
      "\u001b[34m\u001b[1mwandb\u001b[0m:   1 of 1 files downloaded.  \n"
     ]
    },
    {
     "name": "stdout",
     "output_type": "stream",
     "text": [
      "2025-04-20 13:11:55,216 - INFO - Downloaded logs_y65chpmu:v0 to /scratch/downloaded_artifacts/logs_y65chpmu:v0\n"
     ]
    },
    {
     "name": "stderr",
     "output_type": "stream",
     "text": [
      "\u001b[34m\u001b[1mwandb\u001b[0m:   1 of 1 files downloaded.  \n"
     ]
    },
    {
     "name": "stdout",
     "output_type": "stream",
     "text": [
      "2025-04-20 13:11:55,256 - INFO - Downloaded logs_cgwuufqm:v0 to /scratch/downloaded_artifacts/logs_cgwuufqm:v0\n"
     ]
    },
    {
     "name": "stderr",
     "output_type": "stream",
     "text": [
      "\u001b[34m\u001b[1mwandb\u001b[0m:   1 of 1 files downloaded.  \n"
     ]
    },
    {
     "name": "stdout",
     "output_type": "stream",
     "text": [
      "2025-04-20 13:11:55,602 - INFO - Downloaded logs_dezgocj6:v0 to /scratch/downloaded_artifacts/logs_dezgocj6:v0\n"
     ]
    },
    {
     "name": "stderr",
     "output_type": "stream",
     "text": [
      "\u001b[34m\u001b[1mwandb\u001b[0m:   1 of 1 files downloaded.  \n"
     ]
    },
    {
     "name": "stdout",
     "output_type": "stream",
     "text": [
      "2025-04-20 13:11:55,766 - INFO - Downloaded logs_lh1om88u:v0 to /scratch/downloaded_artifacts/logs_lh1om88u:v0\n"
     ]
    },
    {
     "name": "stderr",
     "output_type": "stream",
     "text": [
      "\u001b[34m\u001b[1mwandb\u001b[0m:   1 of 1 files downloaded.  \n"
     ]
    },
    {
     "name": "stdout",
     "output_type": "stream",
     "text": [
      "2025-04-20 13:11:55,802 - INFO - Downloaded logs_e9w5x6k0:v0 to /scratch/downloaded_artifacts/logs_e9w5x6k0:v0\n"
     ]
    },
    {
     "name": "stderr",
     "output_type": "stream",
     "text": [
      "\u001b[34m\u001b[1mwandb\u001b[0m:   1 of 1 files downloaded.  \n"
     ]
    },
    {
     "name": "stdout",
     "output_type": "stream",
     "text": [
      "2025-04-20 13:11:55,817 - INFO - Downloaded logs_g13z1oiq:v0 to /scratch/downloaded_artifacts/logs_g13z1oiq:v0\n"
     ]
    },
    {
     "name": "stderr",
     "output_type": "stream",
     "text": [
      "\u001b[34m\u001b[1mwandb\u001b[0m:   1 of 1 files downloaded.  \n"
     ]
    },
    {
     "name": "stdout",
     "output_type": "stream",
     "text": [
      "2025-04-20 13:11:56,080 - INFO - Downloaded logs_phhkp83u:v0 to /scratch/downloaded_artifacts/logs_phhkp83u:v0\n"
     ]
    },
    {
     "name": "stderr",
     "output_type": "stream",
     "text": [
      "\u001b[34m\u001b[1mwandb\u001b[0m:   1 of 1 files downloaded.  \n"
     ]
    },
    {
     "name": "stdout",
     "output_type": "stream",
     "text": [
      "2025-04-20 13:11:56,116 - INFO - Downloaded logs_hsj5jhid:v0 to /scratch/downloaded_artifacts/logs_hsj5jhid:v0\n"
     ]
    },
    {
     "name": "stderr",
     "output_type": "stream",
     "text": [
      "\u001b[34m\u001b[1mwandb\u001b[0m:   1 of 1 files downloaded.  \n"
     ]
    },
    {
     "name": "stdout",
     "output_type": "stream",
     "text": [
      "2025-04-20 13:11:56,141 - INFO - Downloaded logs_o3kkdbrd:v0 to /scratch/downloaded_artifacts/logs_o3kkdbrd:v0\n"
     ]
    },
    {
     "name": "stderr",
     "output_type": "stream",
     "text": [
      "\u001b[34m\u001b[1mwandb\u001b[0m:   1 of 1 files downloaded.  \n"
     ]
    },
    {
     "name": "stdout",
     "output_type": "stream",
     "text": [
      "2025-04-20 13:11:56,166 - INFO - Downloaded logs_shswpe25:v0 to /scratch/downloaded_artifacts/logs_shswpe25:v0\n"
     ]
    },
    {
     "name": "stderr",
     "output_type": "stream",
     "text": [
      "\u001b[34m\u001b[1mwandb\u001b[0m:   1 of 1 files downloaded.  \n"
     ]
    },
    {
     "name": "stdout",
     "output_type": "stream",
     "text": [
      "2025-04-20 13:11:56,217 - INFO - Downloaded logs_rbmqx4d1:v0 to /scratch/downloaded_artifacts/logs_rbmqx4d1:v0\n"
     ]
    },
    {
     "name": "stderr",
     "output_type": "stream",
     "text": [
      "\u001b[34m\u001b[1mwandb\u001b[0m:   1 of 1 files downloaded.  \n"
     ]
    },
    {
     "name": "stdout",
     "output_type": "stream",
     "text": [
      "2025-04-20 13:11:56,260 - INFO - Downloaded logs_vqhi20pq:v0 to /scratch/downloaded_artifacts/logs_vqhi20pq:v0\n"
     ]
    },
    {
     "name": "stderr",
     "output_type": "stream",
     "text": [
      "\u001b[34m\u001b[1mwandb\u001b[0m:   1 of 1 files downloaded.  \n"
     ]
    },
    {
     "name": "stdout",
     "output_type": "stream",
     "text": [
      "2025-04-20 13:11:56,298 - INFO - Downloaded logs_thp4elo5:v0 to /scratch/downloaded_artifacts/logs_thp4elo5:v0\n"
     ]
    },
    {
     "name": "stderr",
     "output_type": "stream",
     "text": [
      "\u001b[34m\u001b[1mwandb\u001b[0m:   1 of 1 files downloaded.  \n"
     ]
    },
    {
     "name": "stdout",
     "output_type": "stream",
     "text": [
      "2025-04-20 13:11:56,342 - INFO - Downloaded logs_vuk0jtfe:v0 to /scratch/downloaded_artifacts/logs_vuk0jtfe:v0\n"
     ]
    },
    {
     "name": "stderr",
     "output_type": "stream",
     "text": [
      "\u001b[34m\u001b[1mwandb\u001b[0m:   1 of 1 files downloaded.  \n"
     ]
    },
    {
     "name": "stdout",
     "output_type": "stream",
     "text": [
      "2025-04-20 13:11:56,463 - INFO - Downloaded logs_z2ha418o:v0 to /scratch/downloaded_artifacts/logs_z2ha418o:v0\n"
     ]
    },
    {
     "name": "stderr",
     "output_type": "stream",
     "text": [
      "\u001b[34m\u001b[1mwandb\u001b[0m:   1 of 1 files downloaded.  \n"
     ]
    },
    {
     "name": "stdout",
     "output_type": "stream",
     "text": [
      "2025-04-20 13:11:56,651 - INFO - Downloaded logs_zhlov9rc:v0 to /scratch/downloaded_artifacts/logs_zhlov9rc:v0\n"
     ]
    },
    {
     "name": "stderr",
     "output_type": "stream",
     "text": [
      "\u001b[34m\u001b[1mwandb\u001b[0m:   1 of 1 files downloaded.  \n"
     ]
    },
    {
     "name": "stdout",
     "output_type": "stream",
     "text": [
      "2025-04-20 13:11:56,693 - INFO - Downloaded logs_xuwqzvfc:v0 to /scratch/downloaded_artifacts/logs_xuwqzvfc:v0\n"
     ]
    },
    {
     "name": "stderr",
     "output_type": "stream",
     "text": [
      "\u001b[34m\u001b[1mwandb\u001b[0m:   1 of 1 files downloaded.  \n"
     ]
    },
    {
     "name": "stdout",
     "output_type": "stream",
     "text": [
      "2025-04-20 13:11:56,698 - INFO - Downloaded logs_8pq1kc16:v0 to /scratch/downloaded_artifacts/logs_8pq1kc16:v0\n"
     ]
    },
    {
     "name": "stderr",
     "output_type": "stream",
     "text": [
      "\u001b[34m\u001b[1mwandb\u001b[0m:   1 of 1 files downloaded.  \n"
     ]
    },
    {
     "name": "stdout",
     "output_type": "stream",
     "text": [
      "2025-04-20 13:11:56,835 - INFO - Downloaded logs_9dby0orz:v0 to /scratch/downloaded_artifacts/logs_9dby0orz:v0\n"
     ]
    },
    {
     "name": "stderr",
     "output_type": "stream",
     "text": [
      "\u001b[34m\u001b[1mwandb\u001b[0m:   1 of 1 files downloaded.  \n"
     ]
    },
    {
     "name": "stdout",
     "output_type": "stream",
     "text": [
      "2025-04-20 13:11:56,854 - INFO - Downloaded logs_5ag85vqv:v0 to /scratch/downloaded_artifacts/logs_5ag85vqv:v0\n"
     ]
    },
    {
     "name": "stderr",
     "output_type": "stream",
     "text": [
      "\u001b[34m\u001b[1mwandb\u001b[0m:   1 of 1 files downloaded.  \n"
     ]
    },
    {
     "name": "stdout",
     "output_type": "stream",
     "text": [
      "2025-04-20 13:11:56,863 - INFO - Downloaded logs_40llpv0f:v0 to /scratch/downloaded_artifacts/logs_40llpv0f:v0\n"
     ]
    },
    {
     "name": "stderr",
     "output_type": "stream",
     "text": [
      "\u001b[34m\u001b[1mwandb\u001b[0m:   1 of 1 files downloaded.  \n"
     ]
    },
    {
     "name": "stdout",
     "output_type": "stream",
     "text": [
      "2025-04-20 13:11:56,895 - INFO - Downloaded logs_944sygfv:v0 to /scratch/downloaded_artifacts/logs_944sygfv:v0\n"
     ]
    },
    {
     "name": "stderr",
     "output_type": "stream",
     "text": [
      "\u001b[34m\u001b[1mwandb\u001b[0m:   1 of 1 files downloaded.  \n"
     ]
    },
    {
     "name": "stdout",
     "output_type": "stream",
     "text": [
      "2025-04-20 13:11:57,021 - INFO - Downloaded logs_dhwwvd4j:v0 to /scratch/downloaded_artifacts/logs_dhwwvd4j:v0\n"
     ]
    },
    {
     "name": "stderr",
     "output_type": "stream",
     "text": [
      "\u001b[34m\u001b[1mwandb\u001b[0m:   1 of 1 files downloaded.  \n"
     ]
    },
    {
     "name": "stdout",
     "output_type": "stream",
     "text": [
      "2025-04-20 13:11:57,144 - INFO - Downloaded logs_ig54saco:v0 to /scratch/downloaded_artifacts/logs_ig54saco:v0\n"
     ]
    },
    {
     "name": "stderr",
     "output_type": "stream",
     "text": [
      "\u001b[34m\u001b[1mwandb\u001b[0m:   1 of 1 files downloaded.  \n"
     ]
    },
    {
     "name": "stdout",
     "output_type": "stream",
     "text": [
      "2025-04-20 13:11:57,245 - INFO - Downloaded logs_fcd17jlb:v0 to /scratch/downloaded_artifacts/logs_fcd17jlb:v0\n"
     ]
    },
    {
     "name": "stderr",
     "output_type": "stream",
     "text": [
      "\u001b[34m\u001b[1mwandb\u001b[0m:   1 of 1 files downloaded.  \n"
     ]
    },
    {
     "name": "stdout",
     "output_type": "stream",
     "text": [
      "2025-04-20 13:11:57,307 - INFO - Downloaded logs_p1nquria:v0 to /scratch/downloaded_artifacts/logs_p1nquria:v0\n"
     ]
    },
    {
     "name": "stderr",
     "output_type": "stream",
     "text": [
      "\u001b[34m\u001b[1mwandb\u001b[0m:   1 of 1 files downloaded.  \n"
     ]
    },
    {
     "name": "stdout",
     "output_type": "stream",
     "text": [
      "2025-04-20 13:11:57,324 - INFO - Downloaded logs_jrko2c0k:v0 to /scratch/downloaded_artifacts/logs_jrko2c0k:v0\n"
     ]
    },
    {
     "name": "stderr",
     "output_type": "stream",
     "text": [
      "\u001b[34m\u001b[1mwandb\u001b[0m:   1 of 1 files downloaded.  \n"
     ]
    },
    {
     "name": "stdout",
     "output_type": "stream",
     "text": [
      "2025-04-20 13:11:57,510 - INFO - Downloaded logs_s8lh10dm:v0 to /scratch/downloaded_artifacts/logs_s8lh10dm:v0\n"
     ]
    },
    {
     "name": "stderr",
     "output_type": "stream",
     "text": [
      "\u001b[34m\u001b[1mwandb\u001b[0m:   1 of 1 files downloaded.  \n"
     ]
    },
    {
     "name": "stdout",
     "output_type": "stream",
     "text": [
      "2025-04-20 13:11:57,631 - INFO - Downloaded logs_qetd7u0c:v0 to /scratch/downloaded_artifacts/logs_qetd7u0c:v0\n"
     ]
    },
    {
     "name": "stderr",
     "output_type": "stream",
     "text": [
      "\u001b[34m\u001b[1mwandb\u001b[0m:   1 of 1 files downloaded.  \n"
     ]
    },
    {
     "name": "stdout",
     "output_type": "stream",
     "text": [
      "2025-04-20 13:11:57,656 - INFO - Downloaded logs_8kf8sjci:v0 to /scratch/downloaded_artifacts/logs_8kf8sjci:v0\n"
     ]
    },
    {
     "name": "stderr",
     "output_type": "stream",
     "text": [
      "\u001b[34m\u001b[1mwandb\u001b[0m:   1 of 1 files downloaded.  \n"
     ]
    },
    {
     "name": "stdout",
     "output_type": "stream",
     "text": [
      "2025-04-20 13:11:57,744 - INFO - Downloaded logs_tuxxq79l:v0 to /scratch/downloaded_artifacts/logs_tuxxq79l:v0\n"
     ]
    },
    {
     "name": "stderr",
     "output_type": "stream",
     "text": [
      "\u001b[34m\u001b[1mwandb\u001b[0m:   1 of 1 files downloaded.  \n"
     ]
    },
    {
     "name": "stdout",
     "output_type": "stream",
     "text": [
      "2025-04-20 13:11:57,764 - INFO - Downloaded logs_tbts0oy7:v0 to /scratch/downloaded_artifacts/logs_tbts0oy7:v0\n"
     ]
    },
    {
     "name": "stderr",
     "output_type": "stream",
     "text": [
      "\u001b[34m\u001b[1mwandb\u001b[0m:   1 of 1 files downloaded.  \n"
     ]
    },
    {
     "name": "stdout",
     "output_type": "stream",
     "text": [
      "2025-04-20 13:11:57,813 - INFO - Downloaded logs_c9gt5qvq:v0 to /scratch/downloaded_artifacts/logs_c9gt5qvq:v0\n"
     ]
    },
    {
     "name": "stderr",
     "output_type": "stream",
     "text": [
      "\u001b[34m\u001b[1mwandb\u001b[0m:   1 of 1 files downloaded.  \n"
     ]
    },
    {
     "name": "stdout",
     "output_type": "stream",
     "text": [
      "2025-04-20 13:11:57,820 - INFO - Downloaded logs_8oz8qsrj:v0 to /scratch/downloaded_artifacts/logs_8oz8qsrj:v0\n"
     ]
    },
    {
     "name": "stderr",
     "output_type": "stream",
     "text": [
      "\u001b[34m\u001b[1mwandb\u001b[0m:   1 of 1 files downloaded.  \n"
     ]
    },
    {
     "name": "stdout",
     "output_type": "stream",
     "text": [
      "2025-04-20 13:11:57,933 - INFO - Downloaded logs_dc53ac5z:v0 to /scratch/downloaded_artifacts/logs_dc53ac5z:v0\n"
     ]
    },
    {
     "name": "stderr",
     "output_type": "stream",
     "text": [
      "\u001b[34m\u001b[1mwandb\u001b[0m:   1 of 1 files downloaded.  \n"
     ]
    },
    {
     "name": "stdout",
     "output_type": "stream",
     "text": [
      "2025-04-20 13:11:58,165 - INFO - Downloaded logs_fi0ugu6z:v0 to /scratch/downloaded_artifacts/logs_fi0ugu6z:v0\n"
     ]
    },
    {
     "name": "stderr",
     "output_type": "stream",
     "text": [
      "\u001b[34m\u001b[1mwandb\u001b[0m:   1 of 1 files downloaded.  \n"
     ]
    },
    {
     "name": "stdout",
     "output_type": "stream",
     "text": [
      "2025-04-20 13:11:58,182 - INFO - Downloaded logs_vkni6t9s:v0 to /scratch/downloaded_artifacts/logs_vkni6t9s:v0\n"
     ]
    },
    {
     "name": "stderr",
     "output_type": "stream",
     "text": [
      "\u001b[34m\u001b[1mwandb\u001b[0m:   1 of 1 files downloaded.  \n"
     ]
    },
    {
     "name": "stdout",
     "output_type": "stream",
     "text": [
      "2025-04-20 13:11:58,209 - INFO - Downloaded logs_s7sfc634:v0 to /scratch/downloaded_artifacts/logs_s7sfc634:v0\n"
     ]
    },
    {
     "name": "stderr",
     "output_type": "stream",
     "text": [
      "\u001b[34m\u001b[1mwandb\u001b[0m:   1 of 1 files downloaded.  \n"
     ]
    },
    {
     "name": "stdout",
     "output_type": "stream",
     "text": [
      "2025-04-20 13:11:58,237 - INFO - Downloaded logs_klis41rs:v0 to /scratch/downloaded_artifacts/logs_klis41rs:v0\n"
     ]
    },
    {
     "name": "stderr",
     "output_type": "stream",
     "text": [
      "\u001b[34m\u001b[1mwandb\u001b[0m:   1 of 1 files downloaded.  \n"
     ]
    },
    {
     "name": "stdout",
     "output_type": "stream",
     "text": [
      "2025-04-20 13:11:58,305 - INFO - Downloaded logs_z1cmqysk:v0 to /scratch/downloaded_artifacts/logs_z1cmqysk:v0\n"
     ]
    },
    {
     "name": "stderr",
     "output_type": "stream",
     "text": [
      "\u001b[34m\u001b[1mwandb\u001b[0m:   1 of 1 files downloaded.  \n"
     ]
    },
    {
     "name": "stdout",
     "output_type": "stream",
     "text": [
      "2025-04-20 13:11:58,337 - INFO - Downloaded logs_0z6bydxy:v0 to /scratch/downloaded_artifacts/logs_0z6bydxy:v0\n"
     ]
    },
    {
     "name": "stderr",
     "output_type": "stream",
     "text": [
      "\u001b[34m\u001b[1mwandb\u001b[0m:   1 of 1 files downloaded.  \n"
     ]
    },
    {
     "name": "stdout",
     "output_type": "stream",
     "text": [
      "2025-04-20 13:11:58,431 - INFO - Downloaded logs_aygsmlg8:v0 to /scratch/downloaded_artifacts/logs_aygsmlg8:v0\n"
     ]
    },
    {
     "name": "stderr",
     "output_type": "stream",
     "text": [
      "\u001b[34m\u001b[1mwandb\u001b[0m:   1 of 1 files downloaded.  \n"
     ]
    },
    {
     "name": "stdout",
     "output_type": "stream",
     "text": [
      "2025-04-20 13:11:58,478 - INFO - Downloaded logs_mmwvici9:v0 to /scratch/downloaded_artifacts/logs_mmwvici9:v0\n"
     ]
    },
    {
     "name": "stderr",
     "output_type": "stream",
     "text": [
      "\u001b[34m\u001b[1mwandb\u001b[0m:   1 of 1 files downloaded.  \n"
     ]
    },
    {
     "name": "stdout",
     "output_type": "stream",
     "text": [
      "2025-04-20 13:11:58,550 - INFO - Downloaded logs_dofi3d4d:v0 to /scratch/downloaded_artifacts/logs_dofi3d4d:v0\n"
     ]
    },
    {
     "name": "stderr",
     "output_type": "stream",
     "text": [
      "\u001b[34m\u001b[1mwandb\u001b[0m:   1 of 1 files downloaded.  \n"
     ]
    },
    {
     "name": "stdout",
     "output_type": "stream",
     "text": [
      "2025-04-20 13:11:58,628 - INFO - Downloaded logs_k9cwf7hh:v0 to /scratch/downloaded_artifacts/logs_k9cwf7hh:v0\n"
     ]
    },
    {
     "name": "stderr",
     "output_type": "stream",
     "text": [
      "\u001b[34m\u001b[1mwandb\u001b[0m:   1 of 1 files downloaded.  \n"
     ]
    },
    {
     "name": "stdout",
     "output_type": "stream",
     "text": [
      "2025-04-20 13:11:58,679 - INFO - Downloaded logs_gg6msox8:v0 to /scratch/downloaded_artifacts/logs_gg6msox8:v0\n"
     ]
    },
    {
     "name": "stderr",
     "output_type": "stream",
     "text": [
      "\u001b[34m\u001b[1mwandb\u001b[0m:   1 of 1 files downloaded.  \n"
     ]
    },
    {
     "name": "stdout",
     "output_type": "stream",
     "text": [
      "2025-04-20 13:11:58,793 - INFO - Downloaded logs_lva4uwwh:v0 to /scratch/downloaded_artifacts/logs_lva4uwwh:v0\n"
     ]
    },
    {
     "name": "stderr",
     "output_type": "stream",
     "text": [
      "\u001b[34m\u001b[1mwandb\u001b[0m:   1 of 1 files downloaded.  \n"
     ]
    },
    {
     "name": "stdout",
     "output_type": "stream",
     "text": [
      "2025-04-20 13:11:58,876 - INFO - Downloaded logs_jpnpjvlb:v0 to /scratch/downloaded_artifacts/logs_jpnpjvlb:v0\n"
     ]
    },
    {
     "name": "stderr",
     "output_type": "stream",
     "text": [
      "\u001b[34m\u001b[1mwandb\u001b[0m:   1 of 1 files downloaded.  \n"
     ]
    },
    {
     "name": "stdout",
     "output_type": "stream",
     "text": [
      "2025-04-20 13:11:58,977 - INFO - Downloaded logs_1fes8rfv:v0 to /scratch/downloaded_artifacts/logs_1fes8rfv:v0\n"
     ]
    },
    {
     "name": "stderr",
     "output_type": "stream",
     "text": [
      "\u001b[34m\u001b[1mwandb\u001b[0m:   1 of 1 files downloaded.  \n"
     ]
    },
    {
     "name": "stdout",
     "output_type": "stream",
     "text": [
      "2025-04-20 13:11:59,107 - INFO - Downloaded logs_bb2ueexk:v0 to /scratch/downloaded_artifacts/logs_bb2ueexk:v0\n"
     ]
    },
    {
     "name": "stderr",
     "output_type": "stream",
     "text": [
      "\u001b[34m\u001b[1mwandb\u001b[0m:   1 of 1 files downloaded.  \n"
     ]
    },
    {
     "name": "stdout",
     "output_type": "stream",
     "text": [
      "2025-04-20 13:11:59,117 - INFO - Downloaded logs_1go9b8n8:v0 to /scratch/downloaded_artifacts/logs_1go9b8n8:v0\n"
     ]
    },
    {
     "name": "stderr",
     "output_type": "stream",
     "text": [
      "\u001b[34m\u001b[1mwandb\u001b[0m:   1 of 1 files downloaded.  \n"
     ]
    },
    {
     "name": "stdout",
     "output_type": "stream",
     "text": [
      "2025-04-20 13:11:59,184 - INFO - Downloaded logs_e0tcvft8:v0 to /scratch/downloaded_artifacts/logs_e0tcvft8:v0\n"
     ]
    },
    {
     "name": "stderr",
     "output_type": "stream",
     "text": [
      "\u001b[34m\u001b[1mwandb\u001b[0m:   1 of 1 files downloaded.  \n"
     ]
    },
    {
     "name": "stdout",
     "output_type": "stream",
     "text": [
      "2025-04-20 13:11:59,206 - INFO - Downloaded logs_enu273dv:v0 to /scratch/downloaded_artifacts/logs_enu273dv:v0\n"
     ]
    },
    {
     "name": "stderr",
     "output_type": "stream",
     "text": [
      "\u001b[34m\u001b[1mwandb\u001b[0m: \u001b[32m\u001b[41mERROR\u001b[0m Error while calling W&B API: rate limit exceeded (<Response [429]>)\n",
      "\u001b[34m\u001b[1mwandb\u001b[0m: \u001b[32m\u001b[41mERROR\u001b[0m Error while calling W&B API: rate limit exceeded (<Response [429]>)\n",
      "\u001b[34m\u001b[1mwandb\u001b[0m: \u001b[32m\u001b[41mERROR\u001b[0m Error while calling W&B API: rate limit exceeded (<Response [429]>)\n",
      "\u001b[34m\u001b[1mwandb\u001b[0m:   1 of 1 files downloaded.  \n"
     ]
    },
    {
     "name": "stdout",
     "output_type": "stream",
     "text": [
      "2025-04-20 13:11:59,350 - INFO - Downloaded logs_fp7f8te6:v0 to /scratch/downloaded_artifacts/logs_fp7f8te6:v0\n"
     ]
    },
    {
     "name": "stderr",
     "output_type": "stream",
     "text": [
      "\u001b[34m\u001b[1mwandb\u001b[0m:   1 of 1 files downloaded.  \n"
     ]
    },
    {
     "name": "stdout",
     "output_type": "stream",
     "text": [
      "2025-04-20 13:11:59,378 - INFO - Downloaded logs_d8eink88:v0 to /scratch/downloaded_artifacts/logs_d8eink88:v0\n"
     ]
    },
    {
     "name": "stderr",
     "output_type": "stream",
     "text": [
      "\u001b[34m\u001b[1mwandb\u001b[0m:   1 of 1 files downloaded.  \n"
     ]
    },
    {
     "name": "stdout",
     "output_type": "stream",
     "text": [
      "2025-04-20 13:11:59,404 - INFO - Downloaded logs_2irrl34f:v0 to /scratch/downloaded_artifacts/logs_2irrl34f:v0\n"
     ]
    },
    {
     "name": "stderr",
     "output_type": "stream",
     "text": [
      "\u001b[34m\u001b[1mwandb\u001b[0m: \u001b[32m\u001b[41mERROR\u001b[0m Error while calling W&B API: rate limit exceeded (<Response [429]>)\n",
      "\u001b[34m\u001b[1mwandb\u001b[0m:   1 of 1 files downloaded.  \n"
     ]
    },
    {
     "name": "stdout",
     "output_type": "stream",
     "text": [
      "2025-04-20 13:11:59,591 - INFO - Downloaded logs_igh7p704:v0 to /scratch/downloaded_artifacts/logs_igh7p704:v0\n"
     ]
    },
    {
     "name": "stderr",
     "output_type": "stream",
     "text": [
      "\u001b[34m\u001b[1mwandb\u001b[0m: \u001b[32m\u001b[41mERROR\u001b[0m Error while calling W&B API: rate limit exceeded (<Response [429]>)\n",
      "\u001b[34m\u001b[1mwandb\u001b[0m:   1 of 1 files downloaded.  \n"
     ]
    },
    {
     "name": "stdout",
     "output_type": "stream",
     "text": [
      "2025-04-20 13:11:59,617 - INFO - Downloaded logs_vk7ah9nv:v0 to /scratch/downloaded_artifacts/logs_vk7ah9nv:v0\n"
     ]
    },
    {
     "name": "stderr",
     "output_type": "stream",
     "text": [
      "\u001b[34m\u001b[1mwandb\u001b[0m:   1 of 1 files downloaded.  \n"
     ]
    },
    {
     "name": "stdout",
     "output_type": "stream",
     "text": [
      "2025-04-20 13:11:59,698 - INFO - Downloaded logs_ix8h2hfz:v0 to /scratch/downloaded_artifacts/logs_ix8h2hfz:v0\n"
     ]
    },
    {
     "name": "stderr",
     "output_type": "stream",
     "text": [
      "\u001b[34m\u001b[1mwandb\u001b[0m:   1 of 1 files downloaded.  \n"
     ]
    },
    {
     "name": "stdout",
     "output_type": "stream",
     "text": [
      "2025-04-20 13:11:59,710 - INFO - Downloaded logs_rpapa3n5:v0 to /scratch/downloaded_artifacts/logs_rpapa3n5:v0\n"
     ]
    },
    {
     "name": "stderr",
     "output_type": "stream",
     "text": [
      "\u001b[34m\u001b[1mwandb\u001b[0m:   1 of 1 files downloaded.  \n"
     ]
    },
    {
     "name": "stdout",
     "output_type": "stream",
     "text": [
      "2025-04-20 13:11:59,758 - INFO - Downloaded logs_n8ummlv4:v0 to /scratch/downloaded_artifacts/logs_n8ummlv4:v0\n"
     ]
    },
    {
     "name": "stderr",
     "output_type": "stream",
     "text": [
      "\u001b[34m\u001b[1mwandb\u001b[0m:   1 of 1 files downloaded.  \n",
      "\u001b[34m\u001b[1mwandb\u001b[0m:   1 of 1 files downloaded.  \n"
     ]
    },
    {
     "name": "stdout",
     "output_type": "stream",
     "text": [
      "2025-04-20 13:11:59,821 - INFO - Downloaded logs_w9ceuzry:v0 to /scratch/downloaded_artifacts/logs_w9ceuzry:v0\n",
      "2025-04-20 13:11:59,822 - INFO - Downloaded logs_k73z2oz2:v0 to /scratch/downloaded_artifacts/logs_k73z2oz2:v0\n"
     ]
    },
    {
     "name": "stderr",
     "output_type": "stream",
     "text": [
      "\u001b[34m\u001b[1mwandb\u001b[0m:   1 of 1 files downloaded.  \n"
     ]
    },
    {
     "name": "stdout",
     "output_type": "stream",
     "text": [
      "2025-04-20 13:12:00,051 - INFO - Downloaded logs_4373xeqr:v0 to /scratch/downloaded_artifacts/logs_4373xeqr:v0\n"
     ]
    },
    {
     "name": "stderr",
     "output_type": "stream",
     "text": [
      "\u001b[34m\u001b[1mwandb\u001b[0m:   1 of 1 files downloaded.  \n"
     ]
    },
    {
     "name": "stdout",
     "output_type": "stream",
     "text": [
      "2025-04-20 13:12:01,187 - INFO - Downloaded logs_6lr0nmyu:v0 to /scratch/downloaded_artifacts/logs_6lr0nmyu:v0\n"
     ]
    },
    {
     "name": "stderr",
     "output_type": "stream",
     "text": [
      "\u001b[34m\u001b[1mwandb\u001b[0m:   1 of 1 files downloaded.  \n"
     ]
    },
    {
     "name": "stdout",
     "output_type": "stream",
     "text": [
      "2025-04-20 13:12:01,196 - INFO - Downloaded logs_6e0vax0a:v0 to /scratch/downloaded_artifacts/logs_6e0vax0a:v0\n"
     ]
    },
    {
     "name": "stderr",
     "output_type": "stream",
     "text": [
      "\u001b[34m\u001b[1mwandb\u001b[0m:   1 of 1 files downloaded.  \n"
     ]
    },
    {
     "name": "stdout",
     "output_type": "stream",
     "text": [
      "2025-04-20 13:12:01,243 - INFO - Downloaded logs_0wo1gjaq:v0 to /scratch/downloaded_artifacts/logs_0wo1gjaq:v0\n"
     ]
    },
    {
     "name": "stderr",
     "output_type": "stream",
     "text": [
      "\u001b[34m\u001b[1mwandb\u001b[0m:   1 of 1 files downloaded.  \n"
     ]
    },
    {
     "name": "stdout",
     "output_type": "stream",
     "text": [
      "2025-04-20 13:12:01,257 - INFO - Downloaded logs_rdjcm1id:v0 to /scratch/downloaded_artifacts/logs_rdjcm1id:v0\n"
     ]
    },
    {
     "name": "stderr",
     "output_type": "stream",
     "text": [
      "\u001b[34m\u001b[1mwandb\u001b[0m:   1 of 1 files downloaded.  \n"
     ]
    },
    {
     "name": "stdout",
     "output_type": "stream",
     "text": [
      "2025-04-20 13:12:01,442 - INFO - Downloaded logs_0xkiedr7:v0 to /scratch/downloaded_artifacts/logs_0xkiedr7:v0\n"
     ]
    },
    {
     "name": "stderr",
     "output_type": "stream",
     "text": [
      "\u001b[34m\u001b[1mwandb\u001b[0m:   1 of 1 files downloaded.  \n"
     ]
    },
    {
     "name": "stdout",
     "output_type": "stream",
     "text": [
      "2025-04-20 13:12:01,536 - INFO - Downloaded logs_c7rxcpy7:v0 to /scratch/downloaded_artifacts/logs_c7rxcpy7:v0\n"
     ]
    },
    {
     "name": "stderr",
     "output_type": "stream",
     "text": [
      "\u001b[34m\u001b[1mwandb\u001b[0m:   1 of 1 files downloaded.  \n"
     ]
    },
    {
     "name": "stdout",
     "output_type": "stream",
     "text": [
      "2025-04-20 13:12:01,739 - INFO - Downloaded logs_hokz28o0:v0 to /scratch/downloaded_artifacts/logs_hokz28o0:v0\n"
     ]
    },
    {
     "name": "stderr",
     "output_type": "stream",
     "text": [
      "\u001b[34m\u001b[1mwandb\u001b[0m:   1 of 1 files downloaded.  \n"
     ]
    },
    {
     "name": "stdout",
     "output_type": "stream",
     "text": [
      "2025-04-20 13:12:01,769 - INFO - Downloaded logs_c3fwxs36:v0 to /scratch/downloaded_artifacts/logs_c3fwxs36:v0\n"
     ]
    },
    {
     "name": "stderr",
     "output_type": "stream",
     "text": [
      "\u001b[34m\u001b[1mwandb\u001b[0m:   1 of 1 files downloaded.  \n"
     ]
    },
    {
     "name": "stdout",
     "output_type": "stream",
     "text": [
      "2025-04-20 13:12:01,933 - INFO - Downloaded logs_ago3kh8j:v0 to /scratch/downloaded_artifacts/logs_ago3kh8j:v0\n"
     ]
    },
    {
     "name": "stderr",
     "output_type": "stream",
     "text": [
      "\u001b[34m\u001b[1mwandb\u001b[0m:   1 of 1 files downloaded.  \n"
     ]
    },
    {
     "name": "stdout",
     "output_type": "stream",
     "text": [
      "2025-04-20 13:12:01,947 - INFO - Downloaded logs_1tz5x4yf:v0 to /scratch/downloaded_artifacts/logs_1tz5x4yf:v0\n"
     ]
    },
    {
     "name": "stderr",
     "output_type": "stream",
     "text": [
      "\u001b[34m\u001b[1mwandb\u001b[0m:   1 of 1 files downloaded.  \n"
     ]
    },
    {
     "name": "stdout",
     "output_type": "stream",
     "text": [
      "2025-04-20 13:12:02,024 - INFO - Downloaded logs_xhq7q8fi:v0 to /scratch/downloaded_artifacts/logs_xhq7q8fi:v0\n"
     ]
    },
    {
     "name": "stderr",
     "output_type": "stream",
     "text": [
      "\u001b[34m\u001b[1mwandb\u001b[0m:   1 of 1 files downloaded.  \n"
     ]
    },
    {
     "name": "stdout",
     "output_type": "stream",
     "text": [
      "2025-04-20 13:12:02,097 - INFO - Downloaded logs_8a5ntlmc:v0 to /scratch/downloaded_artifacts/logs_8a5ntlmc:v0\n"
     ]
    },
    {
     "name": "stderr",
     "output_type": "stream",
     "text": [
      "\u001b[34m\u001b[1mwandb\u001b[0m:   1 of 1 files downloaded.  \n"
     ]
    },
    {
     "name": "stdout",
     "output_type": "stream",
     "text": [
      "2025-04-20 13:12:02,139 - INFO - Downloaded logs_lsw6ghx4:v0 to /scratch/downloaded_artifacts/logs_lsw6ghx4:v0\n"
     ]
    },
    {
     "name": "stderr",
     "output_type": "stream",
     "text": [
      "\u001b[34m\u001b[1mwandb\u001b[0m:   1 of 1 files downloaded.  \n"
     ]
    },
    {
     "name": "stdout",
     "output_type": "stream",
     "text": [
      "2025-04-20 13:12:02,147 - INFO - Downloaded logs_i1r9th4t:v0 to /scratch/downloaded_artifacts/logs_i1r9th4t:v0\n"
     ]
    },
    {
     "name": "stderr",
     "output_type": "stream",
     "text": [
      "\u001b[34m\u001b[1mwandb\u001b[0m:   1 of 1 files downloaded.  \n"
     ]
    },
    {
     "name": "stdout",
     "output_type": "stream",
     "text": [
      "2025-04-20 13:12:02,275 - INFO - Downloaded logs_cys9ssci:v0 to /scratch/downloaded_artifacts/logs_cys9ssci:v0\n"
     ]
    },
    {
     "name": "stderr",
     "output_type": "stream",
     "text": [
      "\u001b[34m\u001b[1mwandb\u001b[0m:   1 of 1 files downloaded.  \n"
     ]
    },
    {
     "name": "stdout",
     "output_type": "stream",
     "text": [
      "2025-04-20 13:12:02,368 - INFO - Downloaded logs_g135dipv:v0 to /scratch/downloaded_artifacts/logs_g135dipv:v0\n"
     ]
    },
    {
     "name": "stderr",
     "output_type": "stream",
     "text": [
      "\u001b[34m\u001b[1mwandb\u001b[0m:   1 of 1 files downloaded.  \n"
     ]
    },
    {
     "name": "stdout",
     "output_type": "stream",
     "text": [
      "2025-04-20 13:12:02,380 - INFO - Downloaded logs_emhzf7a3:v0 to /scratch/downloaded_artifacts/logs_emhzf7a3:v0\n"
     ]
    },
    {
     "name": "stderr",
     "output_type": "stream",
     "text": [
      "\u001b[34m\u001b[1mwandb\u001b[0m:   1 of 1 files downloaded.  \n"
     ]
    },
    {
     "name": "stdout",
     "output_type": "stream",
     "text": [
      "2025-04-20 13:12:02,481 - INFO - Downloaded logs_nd0gddtf:v0 to /scratch/downloaded_artifacts/logs_nd0gddtf:v0\n"
     ]
    },
    {
     "name": "stderr",
     "output_type": "stream",
     "text": [
      "\u001b[34m\u001b[1mwandb\u001b[0m:   1 of 1 files downloaded.  \n"
     ]
    },
    {
     "name": "stdout",
     "output_type": "stream",
     "text": [
      "2025-04-20 13:12:02,537 - INFO - Downloaded logs_o1r0snxo:v0 to /scratch/downloaded_artifacts/logs_o1r0snxo:v0\n"
     ]
    },
    {
     "name": "stderr",
     "output_type": "stream",
     "text": [
      "\u001b[34m\u001b[1mwandb\u001b[0m:   1 of 1 files downloaded.  \n"
     ]
    },
    {
     "name": "stdout",
     "output_type": "stream",
     "text": [
      "2025-04-20 13:12:02,595 - INFO - Downloaded logs_lyd1kes5:v0 to /scratch/downloaded_artifacts/logs_lyd1kes5:v0\n"
     ]
    },
    {
     "name": "stderr",
     "output_type": "stream",
     "text": [
      "\u001b[34m\u001b[1mwandb\u001b[0m:   1 of 1 files downloaded.  \n"
     ]
    },
    {
     "name": "stdout",
     "output_type": "stream",
     "text": [
      "2025-04-20 13:12:02,684 - INFO - Downloaded logs_vog0yi9y:v0 to /scratch/downloaded_artifacts/logs_vog0yi9y:v0\n"
     ]
    },
    {
     "name": "stderr",
     "output_type": "stream",
     "text": [
      "\u001b[34m\u001b[1mwandb\u001b[0m:   1 of 1 files downloaded.  \n"
     ]
    },
    {
     "name": "stdout",
     "output_type": "stream",
     "text": [
      "2025-04-20 13:12:02,702 - INFO - Downloaded logs_th645r3p:v0 to /scratch/downloaded_artifacts/logs_th645r3p:v0\n"
     ]
    },
    {
     "name": "stderr",
     "output_type": "stream",
     "text": [
      "\u001b[34m\u001b[1mwandb\u001b[0m:   1 of 1 files downloaded.  \n"
     ]
    },
    {
     "name": "stdout",
     "output_type": "stream",
     "text": [
      "2025-04-20 13:12:02,707 - INFO - Downloaded logs_wpx82vhy:v0 to /scratch/downloaded_artifacts/logs_wpx82vhy:v0\n"
     ]
    },
    {
     "name": "stderr",
     "output_type": "stream",
     "text": [
      "\u001b[34m\u001b[1mwandb\u001b[0m:   1 of 1 files downloaded.  \n"
     ]
    },
    {
     "name": "stdout",
     "output_type": "stream",
     "text": [
      "2025-04-20 13:12:02,803 - INFO - Downloaded logs_1n3f6ohn:v0 to /scratch/downloaded_artifacts/logs_1n3f6ohn:v0\n"
     ]
    },
    {
     "name": "stderr",
     "output_type": "stream",
     "text": [
      "\u001b[34m\u001b[1mwandb\u001b[0m:   1 of 1 files downloaded.  \n"
     ]
    },
    {
     "name": "stdout",
     "output_type": "stream",
     "text": [
      "2025-04-20 13:12:02,932 - INFO - Downloaded logs_xsitkz4e:v0 to /scratch/downloaded_artifacts/logs_xsitkz4e:v0\n"
     ]
    },
    {
     "name": "stderr",
     "output_type": "stream",
     "text": [
      "\u001b[34m\u001b[1mwandb\u001b[0m:   1 of 1 files downloaded.  \n"
     ]
    },
    {
     "name": "stdout",
     "output_type": "stream",
     "text": [
      "2025-04-20 13:12:03,051 - INFO - Downloaded logs_421gkcu3:v0 to /scratch/downloaded_artifacts/logs_421gkcu3:v0\n"
     ]
    },
    {
     "name": "stderr",
     "output_type": "stream",
     "text": [
      "\u001b[34m\u001b[1mwandb\u001b[0m:   1 of 1 files downloaded.  \n"
     ]
    },
    {
     "name": "stdout",
     "output_type": "stream",
     "text": [
      "2025-04-20 13:12:03,192 - INFO - Downloaded logs_7sja6orf:v0 to /scratch/downloaded_artifacts/logs_7sja6orf:v0\n"
     ]
    },
    {
     "name": "stderr",
     "output_type": "stream",
     "text": [
      "\u001b[34m\u001b[1mwandb\u001b[0m:   1 of 1 files downloaded.  \n"
     ]
    },
    {
     "name": "stdout",
     "output_type": "stream",
     "text": [
      "2025-04-20 13:12:03,322 - INFO - Downloaded logs_fcoir7e4:v0 to /scratch/downloaded_artifacts/logs_fcoir7e4:v0\n"
     ]
    },
    {
     "name": "stderr",
     "output_type": "stream",
     "text": [
      "\u001b[34m\u001b[1mwandb\u001b[0m:   1 of 1 files downloaded.  \n"
     ]
    },
    {
     "name": "stdout",
     "output_type": "stream",
     "text": [
      "2025-04-20 13:12:03,396 - INFO - Downloaded logs_kru66y32:v0 to /scratch/downloaded_artifacts/logs_kru66y32:v0\n"
     ]
    },
    {
     "name": "stderr",
     "output_type": "stream",
     "text": [
      "\u001b[34m\u001b[1mwandb\u001b[0m:   1 of 1 files downloaded.  \n"
     ]
    },
    {
     "name": "stdout",
     "output_type": "stream",
     "text": [
      "2025-04-20 13:12:03,417 - INFO - Downloaded logs_1wh63p5f:v0 to /scratch/downloaded_artifacts/logs_1wh63p5f:v0\n"
     ]
    },
    {
     "name": "stderr",
     "output_type": "stream",
     "text": [
      "\u001b[34m\u001b[1mwandb\u001b[0m:   1 of 1 files downloaded.  \n"
     ]
    },
    {
     "name": "stdout",
     "output_type": "stream",
     "text": [
      "2025-04-20 13:12:03,421 - INFO - Downloaded logs_32svdt8l:v0 to /scratch/downloaded_artifacts/logs_32svdt8l:v0\n"
     ]
    },
    {
     "name": "stderr",
     "output_type": "stream",
     "text": [
      "\u001b[34m\u001b[1mwandb\u001b[0m:   1 of 1 files downloaded.  \n"
     ]
    },
    {
     "name": "stdout",
     "output_type": "stream",
     "text": [
      "2025-04-20 13:12:03,509 - INFO - Downloaded logs_50v3tl07:v0 to /scratch/downloaded_artifacts/logs_50v3tl07:v0\n"
     ]
    },
    {
     "name": "stderr",
     "output_type": "stream",
     "text": [
      "\u001b[34m\u001b[1mwandb\u001b[0m:   1 of 1 files downloaded.  \n"
     ]
    },
    {
     "name": "stdout",
     "output_type": "stream",
     "text": [
      "2025-04-20 13:12:03,564 - INFO - Downloaded logs_sw0bo4yn:v0 to /scratch/downloaded_artifacts/logs_sw0bo4yn:v0\n"
     ]
    },
    {
     "name": "stderr",
     "output_type": "stream",
     "text": [
      "\u001b[34m\u001b[1mwandb\u001b[0m:   1 of 1 files downloaded.  \n"
     ]
    },
    {
     "name": "stdout",
     "output_type": "stream",
     "text": [
      "2025-04-20 13:12:03,618 - INFO - Downloaded logs_5ywxgyfb:v0 to /scratch/downloaded_artifacts/logs_5ywxgyfb:v0\n"
     ]
    },
    {
     "name": "stderr",
     "output_type": "stream",
     "text": [
      "\u001b[34m\u001b[1mwandb\u001b[0m:   1 of 1 files downloaded.  \n"
     ]
    },
    {
     "name": "stdout",
     "output_type": "stream",
     "text": [
      "2025-04-20 13:12:03,765 - INFO - Downloaded logs_e2wkm0ng:v0 to /scratch/downloaded_artifacts/logs_e2wkm0ng:v0\n"
     ]
    },
    {
     "name": "stderr",
     "output_type": "stream",
     "text": [
      "\u001b[34m\u001b[1mwandb\u001b[0m:   1 of 1 files downloaded.  \n"
     ]
    },
    {
     "name": "stdout",
     "output_type": "stream",
     "text": [
      "2025-04-20 13:12:03,815 - INFO - Downloaded logs_9l6984cz:v0 to /scratch/downloaded_artifacts/logs_9l6984cz:v0\n"
     ]
    },
    {
     "name": "stderr",
     "output_type": "stream",
     "text": [
      "\u001b[34m\u001b[1mwandb\u001b[0m:   1 of 1 files downloaded.  \n"
     ]
    },
    {
     "name": "stdout",
     "output_type": "stream",
     "text": [
      "2025-04-20 13:12:03,922 - INFO - Downloaded logs_m3ehmsv7:v0 to /scratch/downloaded_artifacts/logs_m3ehmsv7:v0\n"
     ]
    },
    {
     "name": "stderr",
     "output_type": "stream",
     "text": [
      "\u001b[34m\u001b[1mwandb\u001b[0m:   1 of 1 files downloaded.  \n"
     ]
    },
    {
     "name": "stdout",
     "output_type": "stream",
     "text": [
      "2025-04-20 13:12:03,982 - INFO - Downloaded logs_wxqlrmj2:v0 to /scratch/downloaded_artifacts/logs_wxqlrmj2:v0\n"
     ]
    },
    {
     "name": "stderr",
     "output_type": "stream",
     "text": [
      "\u001b[34m\u001b[1mwandb\u001b[0m:   1 of 1 files downloaded.  \n"
     ]
    },
    {
     "name": "stdout",
     "output_type": "stream",
     "text": [
      "2025-04-20 13:12:04,036 - INFO - Downloaded logs_xmhxj3to:v0 to /scratch/downloaded_artifacts/logs_xmhxj3to:v0\n"
     ]
    },
    {
     "name": "stderr",
     "output_type": "stream",
     "text": [
      "\u001b[34m\u001b[1mwandb\u001b[0m:   1 of 1 files downloaded.  \n"
     ]
    },
    {
     "name": "stdout",
     "output_type": "stream",
     "text": [
      "2025-04-20 13:12:04,064 - INFO - Downloaded logs_lzc7b9yh:v0 to /scratch/downloaded_artifacts/logs_lzc7b9yh:v0\n"
     ]
    },
    {
     "name": "stderr",
     "output_type": "stream",
     "text": [
      "\u001b[34m\u001b[1mwandb\u001b[0m:   1 of 1 files downloaded.  \n"
     ]
    },
    {
     "name": "stdout",
     "output_type": "stream",
     "text": [
      "2025-04-20 13:12:04,151 - INFO - Downloaded logs_hp3rowt1:v0 to /scratch/downloaded_artifacts/logs_hp3rowt1:v0\n"
     ]
    },
    {
     "name": "stderr",
     "output_type": "stream",
     "text": [
      "\u001b[34m\u001b[1mwandb\u001b[0m:   1 of 1 files downloaded.  \n"
     ]
    },
    {
     "name": "stdout",
     "output_type": "stream",
     "text": [
      "2025-04-20 13:12:04,166 - INFO - Downloaded logs_swexc6dx:v0 to /scratch/downloaded_artifacts/logs_swexc6dx:v0\n"
     ]
    },
    {
     "name": "stderr",
     "output_type": "stream",
     "text": [
      "\u001b[34m\u001b[1mwandb\u001b[0m:   1 of 1 files downloaded.  \n"
     ]
    },
    {
     "name": "stdout",
     "output_type": "stream",
     "text": [
      "2025-04-20 13:12:04,232 - INFO - Downloaded logs_a7xwk2fp:v0 to /scratch/downloaded_artifacts/logs_a7xwk2fp:v0\n"
     ]
    },
    {
     "name": "stderr",
     "output_type": "stream",
     "text": [
      "\u001b[34m\u001b[1mwandb\u001b[0m:   1 of 1 files downloaded.  \n"
     ]
    },
    {
     "name": "stdout",
     "output_type": "stream",
     "text": [
      "2025-04-20 13:12:04,372 - INFO - Downloaded logs_kelntj46:v0 to /scratch/downloaded_artifacts/logs_kelntj46:v0\n"
     ]
    },
    {
     "name": "stderr",
     "output_type": "stream",
     "text": [
      "\u001b[34m\u001b[1mwandb\u001b[0m:   1 of 1 files downloaded.  \n"
     ]
    },
    {
     "name": "stdout",
     "output_type": "stream",
     "text": [
      "2025-04-20 13:12:04,380 - INFO - Downloaded logs_vm5f55p6:v0 to /scratch/downloaded_artifacts/logs_vm5f55p6:v0\n"
     ]
    },
    {
     "name": "stderr",
     "output_type": "stream",
     "text": [
      "\u001b[34m\u001b[1mwandb\u001b[0m:   1 of 1 files downloaded.  \n"
     ]
    },
    {
     "name": "stdout",
     "output_type": "stream",
     "text": [
      "2025-04-20 13:12:04,401 - INFO - Downloaded logs_7h7teibt:v0 to /scratch/downloaded_artifacts/logs_7h7teibt:v0\n"
     ]
    },
    {
     "name": "stderr",
     "output_type": "stream",
     "text": [
      "\u001b[34m\u001b[1mwandb\u001b[0m:   1 of 1 files downloaded.  \n"
     ]
    },
    {
     "name": "stdout",
     "output_type": "stream",
     "text": [
      "2025-04-20 13:12:04,600 - INFO - Downloaded logs_5pddlic8:v0 to /scratch/downloaded_artifacts/logs_5pddlic8:v0\n"
     ]
    },
    {
     "name": "stderr",
     "output_type": "stream",
     "text": [
      "\u001b[34m\u001b[1mwandb\u001b[0m:   1 of 1 files downloaded.  \n"
     ]
    },
    {
     "name": "stdout",
     "output_type": "stream",
     "text": [
      "2025-04-20 13:12:04,605 - INFO - Downloaded logs_64g3j6nr:v0 to /scratch/downloaded_artifacts/logs_64g3j6nr:v0\n"
     ]
    },
    {
     "name": "stderr",
     "output_type": "stream",
     "text": [
      "\u001b[34m\u001b[1mwandb\u001b[0m:   1 of 1 files downloaded.  \n"
     ]
    },
    {
     "name": "stdout",
     "output_type": "stream",
     "text": [
      "2025-04-20 13:12:04,776 - INFO - Downloaded logs_5du944sb:v0 to /scratch/downloaded_artifacts/logs_5du944sb:v0\n"
     ]
    },
    {
     "name": "stderr",
     "output_type": "stream",
     "text": [
      "\u001b[34m\u001b[1mwandb\u001b[0m:   1 of 1 files downloaded.  \n"
     ]
    },
    {
     "name": "stdout",
     "output_type": "stream",
     "text": [
      "2025-04-20 13:12:04,795 - INFO - Downloaded logs_azxjfksz:v0 to /scratch/downloaded_artifacts/logs_azxjfksz:v0\n"
     ]
    },
    {
     "name": "stderr",
     "output_type": "stream",
     "text": [
      "\u001b[34m\u001b[1mwandb\u001b[0m:   1 of 1 files downloaded.  \n"
     ]
    },
    {
     "name": "stdout",
     "output_type": "stream",
     "text": [
      "2025-04-20 13:12:04,851 - INFO - Downloaded logs_cj2nzkgb:v0 to /scratch/downloaded_artifacts/logs_cj2nzkgb:v0\n"
     ]
    },
    {
     "name": "stderr",
     "output_type": "stream",
     "text": [
      "\u001b[34m\u001b[1mwandb\u001b[0m:   1 of 1 files downloaded.  \n"
     ]
    },
    {
     "name": "stdout",
     "output_type": "stream",
     "text": [
      "2025-04-20 13:12:04,862 - INFO - Downloaded logs_78c63o4d:v0 to /scratch/downloaded_artifacts/logs_78c63o4d:v0\n"
     ]
    },
    {
     "name": "stderr",
     "output_type": "stream",
     "text": [
      "\u001b[34m\u001b[1mwandb\u001b[0m:   1 of 1 files downloaded.  \n"
     ]
    },
    {
     "name": "stdout",
     "output_type": "stream",
     "text": [
      "2025-04-20 13:12:04,886 - INFO - Downloaded logs_dnjemt37:v0 to /scratch/downloaded_artifacts/logs_dnjemt37:v0\n"
     ]
    },
    {
     "name": "stderr",
     "output_type": "stream",
     "text": [
      "\u001b[34m\u001b[1mwandb\u001b[0m:   1 of 1 files downloaded.  \n"
     ]
    },
    {
     "name": "stdout",
     "output_type": "stream",
     "text": [
      "2025-04-20 13:12:04,982 - INFO - Downloaded logs_g4adh74p:v0 to /scratch/downloaded_artifacts/logs_g4adh74p:v0\n"
     ]
    },
    {
     "name": "stderr",
     "output_type": "stream",
     "text": [
      "\u001b[34m\u001b[1mwandb\u001b[0m:   1 of 1 files downloaded.  \n"
     ]
    },
    {
     "name": "stdout",
     "output_type": "stream",
     "text": [
      "2025-04-20 13:12:05,103 - INFO - Downloaded logs_to7h4xrw:v0 to /scratch/downloaded_artifacts/logs_to7h4xrw:v0\n"
     ]
    },
    {
     "name": "stderr",
     "output_type": "stream",
     "text": [
      "\u001b[34m\u001b[1mwandb\u001b[0m:   1 of 1 files downloaded.  \n"
     ]
    },
    {
     "name": "stdout",
     "output_type": "stream",
     "text": [
      "2025-04-20 13:12:05,145 - INFO - Downloaded logs_uwb0nc8r:v0 to /scratch/downloaded_artifacts/logs_uwb0nc8r:v0\n"
     ]
    },
    {
     "name": "stderr",
     "output_type": "stream",
     "text": [
      "\u001b[34m\u001b[1mwandb\u001b[0m:   1 of 1 files downloaded.  \n"
     ]
    },
    {
     "name": "stdout",
     "output_type": "stream",
     "text": [
      "2025-04-20 13:12:05,281 - INFO - Downloaded logs_durljfps:v0 to /scratch/downloaded_artifacts/logs_durljfps:v0\n"
     ]
    },
    {
     "name": "stderr",
     "output_type": "stream",
     "text": [
      "\u001b[34m\u001b[1mwandb\u001b[0m:   1 of 1 files downloaded.  \n",
      "\u001b[34m\u001b[1mwandb\u001b[0m:   1 of 1 files downloaded.  \n"
     ]
    },
    {
     "name": "stdout",
     "output_type": "stream",
     "text": [
      "2025-04-20 13:12:05,423 - INFO - Downloaded logs_q4ucexkr:v0 to /scratch/downloaded_artifacts/logs_q4ucexkr:v0\n",
      "2025-04-20 13:12:05,423 - INFO - Downloaded logs_nigytn3z:v0 to /scratch/downloaded_artifacts/logs_nigytn3z:v0\n"
     ]
    },
    {
     "name": "stderr",
     "output_type": "stream",
     "text": [
      "\u001b[34m\u001b[1mwandb\u001b[0m:   1 of 1 files downloaded.  \n"
     ]
    },
    {
     "name": "stdout",
     "output_type": "stream",
     "text": [
      "2025-04-20 13:12:05,540 - INFO - Downloaded logs_uh6z5yg6:v0 to /scratch/downloaded_artifacts/logs_uh6z5yg6:v0\n"
     ]
    },
    {
     "name": "stderr",
     "output_type": "stream",
     "text": [
      "\u001b[34m\u001b[1mwandb\u001b[0m:   1 of 1 files downloaded.  \n"
     ]
    },
    {
     "name": "stdout",
     "output_type": "stream",
     "text": [
      "2025-04-20 13:12:05,550 - INFO - Downloaded logs_y9rhew8s:v0 to /scratch/downloaded_artifacts/logs_y9rhew8s:v0\n"
     ]
    },
    {
     "name": "stderr",
     "output_type": "stream",
     "text": [
      "\u001b[34m\u001b[1mwandb\u001b[0m:   1 of 1 files downloaded.  \n"
     ]
    },
    {
     "name": "stdout",
     "output_type": "stream",
     "text": [
      "2025-04-20 13:12:05,640 - INFO - Downloaded logs_spfnwd7x:v0 to /scratch/downloaded_artifacts/logs_spfnwd7x:v0\n"
     ]
    },
    {
     "name": "stderr",
     "output_type": "stream",
     "text": [
      "\u001b[34m\u001b[1mwandb\u001b[0m:   1 of 1 files downloaded.  \n"
     ]
    },
    {
     "name": "stdout",
     "output_type": "stream",
     "text": [
      "2025-04-20 13:12:05,711 - INFO - Downloaded logs_v054sfuj:v0 to /scratch/downloaded_artifacts/logs_v054sfuj:v0\n"
     ]
    },
    {
     "name": "stderr",
     "output_type": "stream",
     "text": [
      "\u001b[34m\u001b[1mwandb\u001b[0m:   1 of 1 files downloaded.  \n"
     ]
    },
    {
     "name": "stdout",
     "output_type": "stream",
     "text": [
      "2025-04-20 13:12:05,764 - INFO - Downloaded logs_z24iuzou:v0 to /scratch/downloaded_artifacts/logs_z24iuzou:v0\n"
     ]
    },
    {
     "name": "stderr",
     "output_type": "stream",
     "text": [
      "\u001b[34m\u001b[1mwandb\u001b[0m:   1 of 1 files downloaded.  \n"
     ]
    },
    {
     "name": "stdout",
     "output_type": "stream",
     "text": [
      "2025-04-20 13:12:05,773 - INFO - Downloaded logs_qj5t96ld:v0 to /scratch/downloaded_artifacts/logs_qj5t96ld:v0\n"
     ]
    },
    {
     "name": "stderr",
     "output_type": "stream",
     "text": [
      "\u001b[34m\u001b[1mwandb\u001b[0m:   1 of 1 files downloaded.  \n"
     ]
    },
    {
     "name": "stdout",
     "output_type": "stream",
     "text": [
      "2025-04-20 13:12:05,843 - INFO - Downloaded logs_rl1hn5dr:v0 to /scratch/downloaded_artifacts/logs_rl1hn5dr:v0\n"
     ]
    },
    {
     "name": "stderr",
     "output_type": "stream",
     "text": [
      "\u001b[34m\u001b[1mwandb\u001b[0m:   1 of 1 files downloaded.  \n"
     ]
    },
    {
     "name": "stdout",
     "output_type": "stream",
     "text": [
      "2025-04-20 13:12:05,945 - INFO - Downloaded logs_qivnmyci:v0 to /scratch/downloaded_artifacts/logs_qivnmyci:v0\n"
     ]
    },
    {
     "name": "stderr",
     "output_type": "stream",
     "text": [
      "\u001b[34m\u001b[1mwandb\u001b[0m:   1 of 1 files downloaded.  \n"
     ]
    },
    {
     "name": "stdout",
     "output_type": "stream",
     "text": [
      "2025-04-20 13:12:06,005 - INFO - Downloaded logs_uiioxomc:v0 to /scratch/downloaded_artifacts/logs_uiioxomc:v0\n"
     ]
    },
    {
     "name": "stderr",
     "output_type": "stream",
     "text": [
      "\u001b[34m\u001b[1mwandb\u001b[0m:   1 of 1 files downloaded.  \n"
     ]
    },
    {
     "name": "stdout",
     "output_type": "stream",
     "text": [
      "2025-04-20 13:12:06,195 - INFO - Downloaded logs_xat9e2nz:v0 to /scratch/downloaded_artifacts/logs_xat9e2nz:v0\n"
     ]
    },
    {
     "name": "stderr",
     "output_type": "stream",
     "text": [
      "\u001b[34m\u001b[1mwandb\u001b[0m:   1 of 1 files downloaded.  \n"
     ]
    },
    {
     "name": "stdout",
     "output_type": "stream",
     "text": [
      "2025-04-20 13:12:06,252 - INFO - Downloaded logs_9x3rih45:v0 to /scratch/downloaded_artifacts/logs_9x3rih45:v0\n"
     ]
    },
    {
     "name": "stderr",
     "output_type": "stream",
     "text": [
      "\u001b[34m\u001b[1mwandb\u001b[0m:   1 of 1 files downloaded.  \n"
     ]
    },
    {
     "name": "stdout",
     "output_type": "stream",
     "text": [
      "2025-04-20 13:12:06,258 - INFO - Downloaded logs_4vasshx5:v0 to /scratch/downloaded_artifacts/logs_4vasshx5:v0\n"
     ]
    },
    {
     "name": "stderr",
     "output_type": "stream",
     "text": [
      "\u001b[34m\u001b[1mwandb\u001b[0m:   1 of 1 files downloaded.  \n"
     ]
    },
    {
     "name": "stdout",
     "output_type": "stream",
     "text": [
      "2025-04-20 13:12:06,310 - INFO - Downloaded logs_4v8fmumm:v0 to /scratch/downloaded_artifacts/logs_4v8fmumm:v0\n"
     ]
    },
    {
     "name": "stderr",
     "output_type": "stream",
     "text": [
      "\u001b[34m\u001b[1mwandb\u001b[0m:   1 of 1 files downloaded.  \n"
     ]
    },
    {
     "name": "stdout",
     "output_type": "stream",
     "text": [
      "2025-04-20 13:12:06,362 - INFO - Downloaded logs_y7e6hax9:v0 to /scratch/downloaded_artifacts/logs_y7e6hax9:v0\n"
     ]
    },
    {
     "name": "stderr",
     "output_type": "stream",
     "text": [
      "\u001b[34m\u001b[1mwandb\u001b[0m:   1 of 1 files downloaded.  \n"
     ]
    },
    {
     "name": "stdout",
     "output_type": "stream",
     "text": [
      "2025-04-20 13:12:06,392 - INFO - Downloaded logs_8mbpot4u:v0 to /scratch/downloaded_artifacts/logs_8mbpot4u:v0\n"
     ]
    },
    {
     "name": "stderr",
     "output_type": "stream",
     "text": [
      "\u001b[34m\u001b[1mwandb\u001b[0m:   1 of 1 files downloaded.  \n"
     ]
    },
    {
     "name": "stdout",
     "output_type": "stream",
     "text": [
      "2025-04-20 13:12:06,559 - INFO - Downloaded logs_lbktb4px:v0 to /scratch/downloaded_artifacts/logs_lbktb4px:v0\n"
     ]
    },
    {
     "name": "stderr",
     "output_type": "stream",
     "text": [
      "\u001b[34m\u001b[1mwandb\u001b[0m:   1 of 1 files downloaded.  \n"
     ]
    },
    {
     "name": "stdout",
     "output_type": "stream",
     "text": [
      "2025-04-20 13:12:06,666 - INFO - Downloaded logs_pvh1etvs:v0 to /scratch/downloaded_artifacts/logs_pvh1etvs:v0\n"
     ]
    },
    {
     "name": "stderr",
     "output_type": "stream",
     "text": [
      "\u001b[34m\u001b[1mwandb\u001b[0m:   1 of 1 files downloaded.  \n"
     ]
    },
    {
     "name": "stdout",
     "output_type": "stream",
     "text": [
      "2025-04-20 13:12:06,690 - INFO - Downloaded logs_qx59u5wh:v0 to /scratch/downloaded_artifacts/logs_qx59u5wh:v0\n"
     ]
    },
    {
     "name": "stderr",
     "output_type": "stream",
     "text": [
      "\u001b[34m\u001b[1mwandb\u001b[0m:   1 of 1 files downloaded.  \n"
     ]
    },
    {
     "name": "stdout",
     "output_type": "stream",
     "text": [
      "2025-04-20 13:12:06,825 - INFO - Downloaded logs_wya1uvri:v0 to /scratch/downloaded_artifacts/logs_wya1uvri:v0\n"
     ]
    },
    {
     "name": "stderr",
     "output_type": "stream",
     "text": [
      "\u001b[34m\u001b[1mwandb\u001b[0m:   1 of 1 files downloaded.  \n"
     ]
    },
    {
     "name": "stdout",
     "output_type": "stream",
     "text": [
      "2025-04-20 13:12:07,000 - INFO - Downloaded logs_6y8tc46b:v0 to /scratch/downloaded_artifacts/logs_6y8tc46b:v0\n"
     ]
    },
    {
     "name": "stderr",
     "output_type": "stream",
     "text": [
      "\u001b[34m\u001b[1mwandb\u001b[0m:   1 of 1 files downloaded.  \n"
     ]
    },
    {
     "name": "stdout",
     "output_type": "stream",
     "text": [
      "2025-04-20 13:12:07,054 - INFO - Downloaded logs_7bqy0yvy:v0 to /scratch/downloaded_artifacts/logs_7bqy0yvy:v0\n"
     ]
    },
    {
     "name": "stderr",
     "output_type": "stream",
     "text": [
      "\u001b[34m\u001b[1mwandb\u001b[0m:   1 of 1 files downloaded.  \n"
     ]
    },
    {
     "name": "stdout",
     "output_type": "stream",
     "text": [
      "2025-04-20 13:12:07,130 - INFO - Downloaded logs_yu2bqx90:v0 to /scratch/downloaded_artifacts/logs_yu2bqx90:v0\n"
     ]
    },
    {
     "name": "stderr",
     "output_type": "stream",
     "text": [
      "\u001b[34m\u001b[1mwandb\u001b[0m:   1 of 1 files downloaded.  \n"
     ]
    },
    {
     "name": "stdout",
     "output_type": "stream",
     "text": [
      "2025-04-20 13:12:07,156 - INFO - Downloaded logs_bgq2l6fr:v0 to /scratch/downloaded_artifacts/logs_bgq2l6fr:v0\n"
     ]
    },
    {
     "name": "stderr",
     "output_type": "stream",
     "text": [
      "\u001b[34m\u001b[1mwandb\u001b[0m:   1 of 1 files downloaded.  \n"
     ]
    },
    {
     "name": "stdout",
     "output_type": "stream",
     "text": [
      "2025-04-20 13:12:07,171 - INFO - Downloaded logs_335c3nat:v0 to /scratch/downloaded_artifacts/logs_335c3nat:v0\n"
     ]
    },
    {
     "name": "stderr",
     "output_type": "stream",
     "text": [
      "\u001b[34m\u001b[1mwandb\u001b[0m:   1 of 1 files downloaded.  \n"
     ]
    },
    {
     "name": "stdout",
     "output_type": "stream",
     "text": [
      "2025-04-20 13:12:07,242 - INFO - Downloaded logs_yjwpu622:v0 to /scratch/downloaded_artifacts/logs_yjwpu622:v0\n"
     ]
    },
    {
     "name": "stderr",
     "output_type": "stream",
     "text": [
      "\u001b[34m\u001b[1mwandb\u001b[0m:   1 of 1 files downloaded.  \n"
     ]
    },
    {
     "name": "stdout",
     "output_type": "stream",
     "text": [
      "2025-04-20 13:12:07,250 - INFO - Downloaded logs_dg6d5jl8:v0 to /scratch/downloaded_artifacts/logs_dg6d5jl8:v0\n"
     ]
    },
    {
     "name": "stderr",
     "output_type": "stream",
     "text": [
      "\u001b[34m\u001b[1mwandb\u001b[0m:   1 of 1 files downloaded.  \n"
     ]
    },
    {
     "name": "stdout",
     "output_type": "stream",
     "text": [
      "2025-04-20 13:12:07,280 - INFO - Downloaded logs_fg7r8djn:v0 to /scratch/downloaded_artifacts/logs_fg7r8djn:v0\n"
     ]
    },
    {
     "name": "stderr",
     "output_type": "stream",
     "text": [
      "\u001b[34m\u001b[1mwandb\u001b[0m:   1 of 1 files downloaded.  \n"
     ]
    },
    {
     "name": "stdout",
     "output_type": "stream",
     "text": [
      "2025-04-20 13:12:07,423 - INFO - Downloaded logs_etq4htw3:v0 to /scratch/downloaded_artifacts/logs_etq4htw3:v0\n"
     ]
    },
    {
     "name": "stderr",
     "output_type": "stream",
     "text": [
      "\u001b[34m\u001b[1mwandb\u001b[0m:   1 of 1 files downloaded.  \n"
     ]
    },
    {
     "name": "stdout",
     "output_type": "stream",
     "text": [
      "2025-04-20 13:12:07,461 - INFO - Downloaded logs_iabqz9aa:v0 to /scratch/downloaded_artifacts/logs_iabqz9aa:v0\n"
     ]
    },
    {
     "name": "stderr",
     "output_type": "stream",
     "text": [
      "\u001b[34m\u001b[1mwandb\u001b[0m:   1 of 1 files downloaded.  \n"
     ]
    },
    {
     "name": "stdout",
     "output_type": "stream",
     "text": [
      "2025-04-20 13:12:07,659 - INFO - Downloaded logs_s7w638vj:v0 to /scratch/downloaded_artifacts/logs_s7w638vj:v0\n"
     ]
    },
    {
     "name": "stderr",
     "output_type": "stream",
     "text": [
      "\u001b[34m\u001b[1mwandb\u001b[0m:   1 of 1 files downloaded.  \n"
     ]
    },
    {
     "name": "stdout",
     "output_type": "stream",
     "text": [
      "2025-04-20 13:12:07,681 - INFO - Downloaded logs_qeq974rk:v0 to /scratch/downloaded_artifacts/logs_qeq974rk:v0\n"
     ]
    },
    {
     "name": "stderr",
     "output_type": "stream",
     "text": [
      "\u001b[34m\u001b[1mwandb\u001b[0m:   1 of 1 files downloaded.  \n"
     ]
    },
    {
     "name": "stdout",
     "output_type": "stream",
     "text": [
      "2025-04-20 13:12:07,746 - INFO - Downloaded logs_ksittbnj:v0 to /scratch/downloaded_artifacts/logs_ksittbnj:v0\n"
     ]
    },
    {
     "name": "stderr",
     "output_type": "stream",
     "text": [
      "\u001b[34m\u001b[1mwandb\u001b[0m:   1 of 1 files downloaded.  \n"
     ]
    },
    {
     "name": "stdout",
     "output_type": "stream",
     "text": [
      "2025-04-20 13:12:07,792 - INFO - Downloaded logs_tpwhk964:v0 to /scratch/downloaded_artifacts/logs_tpwhk964:v0\n"
     ]
    },
    {
     "name": "stderr",
     "output_type": "stream",
     "text": [
      "\u001b[34m\u001b[1mwandb\u001b[0m:   1 of 1 files downloaded.  \n"
     ]
    },
    {
     "name": "stdout",
     "output_type": "stream",
     "text": [
      "2025-04-20 13:12:07,857 - INFO - Downloaded logs_wui206q0:v0 to /scratch/downloaded_artifacts/logs_wui206q0:v0\n"
     ]
    },
    {
     "name": "stderr",
     "output_type": "stream",
     "text": [
      "\u001b[34m\u001b[1mwandb\u001b[0m:   1 of 1 files downloaded.  \n"
     ]
    },
    {
     "name": "stdout",
     "output_type": "stream",
     "text": [
      "2025-04-20 13:12:07,872 - INFO - Downloaded logs_7txx1h2m:v0 to /scratch/downloaded_artifacts/logs_7txx1h2m:v0\n"
     ]
    },
    {
     "name": "stderr",
     "output_type": "stream",
     "text": [
      "\u001b[34m\u001b[1mwandb\u001b[0m:   1 of 1 files downloaded.  \n"
     ]
    },
    {
     "name": "stdout",
     "output_type": "stream",
     "text": [
      "2025-04-20 13:12:07,928 - INFO - Downloaded logs_8m874gcp:v0 to /scratch/downloaded_artifacts/logs_8m874gcp:v0\n"
     ]
    },
    {
     "name": "stderr",
     "output_type": "stream",
     "text": [
      "\u001b[34m\u001b[1mwandb\u001b[0m:   1 of 1 files downloaded.  \n"
     ]
    },
    {
     "name": "stdout",
     "output_type": "stream",
     "text": [
      "2025-04-20 13:12:08,052 - INFO - Downloaded logs_qszfvhxx:v0 to /scratch/downloaded_artifacts/logs_qszfvhxx:v0\n"
     ]
    },
    {
     "name": "stderr",
     "output_type": "stream",
     "text": [
      "\u001b[34m\u001b[1mwandb\u001b[0m:   1 of 1 files downloaded.  \n"
     ]
    },
    {
     "name": "stdout",
     "output_type": "stream",
     "text": [
      "2025-04-20 13:12:08,232 - INFO - Downloaded logs_j50hi1zf:v0 to /scratch/downloaded_artifacts/logs_j50hi1zf:v0\n"
     ]
    },
    {
     "name": "stderr",
     "output_type": "stream",
     "text": [
      "\u001b[34m\u001b[1mwandb\u001b[0m:   1 of 1 files downloaded.  \n"
     ]
    },
    {
     "name": "stdout",
     "output_type": "stream",
     "text": [
      "2025-04-20 13:12:08,288 - INFO - Downloaded logs_m9gu8cst:v0 to /scratch/downloaded_artifacts/logs_m9gu8cst:v0\n"
     ]
    },
    {
     "name": "stderr",
     "output_type": "stream",
     "text": [
      "\u001b[34m\u001b[1mwandb\u001b[0m:   1 of 1 files downloaded.  \n"
     ]
    },
    {
     "name": "stdout",
     "output_type": "stream",
     "text": [
      "2025-04-20 13:12:08,308 - INFO - Downloaded logs_fv2onwpi:v0 to /scratch/downloaded_artifacts/logs_fv2onwpi:v0\n"
     ]
    },
    {
     "name": "stderr",
     "output_type": "stream",
     "text": [
      "\u001b[34m\u001b[1mwandb\u001b[0m:   1 of 1 files downloaded.  \n"
     ]
    },
    {
     "name": "stdout",
     "output_type": "stream",
     "text": [
      "2025-04-20 13:12:08,442 - INFO - Downloaded logs_noqh58jh:v0 to /scratch/downloaded_artifacts/logs_noqh58jh:v0\n"
     ]
    },
    {
     "name": "stderr",
     "output_type": "stream",
     "text": [
      "\u001b[34m\u001b[1mwandb\u001b[0m:   1 of 1 files downloaded.  \n"
     ]
    },
    {
     "name": "stdout",
     "output_type": "stream",
     "text": [
      "2025-04-20 13:12:08,457 - INFO - Downloaded logs_y5saww71:v0 to /scratch/downloaded_artifacts/logs_y5saww71:v0\n"
     ]
    },
    {
     "name": "stderr",
     "output_type": "stream",
     "text": [
      "\u001b[34m\u001b[1mwandb\u001b[0m:   1 of 1 files downloaded.  \n"
     ]
    },
    {
     "name": "stdout",
     "output_type": "stream",
     "text": [
      "2025-04-20 13:12:08,569 - INFO - Downloaded logs_5qs806vj:v0 to /scratch/downloaded_artifacts/logs_5qs806vj:v0\n"
     ]
    },
    {
     "name": "stderr",
     "output_type": "stream",
     "text": [
      "\u001b[34m\u001b[1mwandb\u001b[0m:   1 of 1 files downloaded.  \n"
     ]
    },
    {
     "name": "stdout",
     "output_type": "stream",
     "text": [
      "2025-04-20 13:12:08,610 - INFO - Downloaded logs_47vhu1sg:v0 to /scratch/downloaded_artifacts/logs_47vhu1sg:v0\n"
     ]
    },
    {
     "name": "stderr",
     "output_type": "stream",
     "text": [
      "\u001b[34m\u001b[1mwandb\u001b[0m:   1 of 1 files downloaded.  \n"
     ]
    },
    {
     "name": "stdout",
     "output_type": "stream",
     "text": [
      "2025-04-20 13:12:08,657 - INFO - Downloaded logs_bj44fyjk:v0 to /scratch/downloaded_artifacts/logs_bj44fyjk:v0\n"
     ]
    },
    {
     "name": "stderr",
     "output_type": "stream",
     "text": [
      "\u001b[34m\u001b[1mwandb\u001b[0m:   1 of 1 files downloaded.  \n"
     ]
    },
    {
     "name": "stdout",
     "output_type": "stream",
     "text": [
      "2025-04-20 13:12:08,690 - INFO - Downloaded logs_bjfg4r0y:v0 to /scratch/downloaded_artifacts/logs_bjfg4r0y:v0\n"
     ]
    },
    {
     "name": "stderr",
     "output_type": "stream",
     "text": [
      "\u001b[34m\u001b[1mwandb\u001b[0m:   1 of 1 files downloaded.  \n"
     ]
    },
    {
     "name": "stdout",
     "output_type": "stream",
     "text": [
      "2025-04-20 13:12:08,702 - INFO - Downloaded logs_z747teoo:v0 to /scratch/downloaded_artifacts/logs_z747teoo:v0\n"
     ]
    },
    {
     "name": "stderr",
     "output_type": "stream",
     "text": [
      "\u001b[34m\u001b[1mwandb\u001b[0m:   1 of 1 files downloaded.  \n"
     ]
    },
    {
     "name": "stdout",
     "output_type": "stream",
     "text": [
      "2025-04-20 13:12:08,782 - INFO - Downloaded logs_pp6lp0xd:v0 to /scratch/downloaded_artifacts/logs_pp6lp0xd:v0\n"
     ]
    },
    {
     "name": "stderr",
     "output_type": "stream",
     "text": [
      "\u001b[34m\u001b[1mwandb\u001b[0m:   1 of 1 files downloaded.  \n"
     ]
    },
    {
     "name": "stdout",
     "output_type": "stream",
     "text": [
      "2025-04-20 13:12:08,966 - INFO - Downloaded logs_cfzh6jx6:v0 to /scratch/downloaded_artifacts/logs_cfzh6jx6:v0\n"
     ]
    },
    {
     "name": "stderr",
     "output_type": "stream",
     "text": [
      "\u001b[34m\u001b[1mwandb\u001b[0m:   1 of 1 files downloaded.  \n",
      "\u001b[34m\u001b[1mwandb\u001b[0m:   1 of 1 files downloaded.  \n"
     ]
    },
    {
     "name": "stdout",
     "output_type": "stream",
     "text": [
      "2025-04-20 13:12:09,244 - INFO - Downloaded logs_cku35rkm:v0 to /scratch/downloaded_artifacts/logs_cku35rkm:v0\n",
      "2025-04-20 13:12:09,246 - INFO - Downloaded logs_glvstzou:v0 to /scratch/downloaded_artifacts/logs_glvstzou:v0\n"
     ]
    },
    {
     "name": "stderr",
     "output_type": "stream",
     "text": [
      "\u001b[34m\u001b[1mwandb\u001b[0m:   1 of 1 files downloaded.  \n"
     ]
    },
    {
     "name": "stdout",
     "output_type": "stream",
     "text": [
      "2025-04-20 13:12:09,525 - INFO - Downloaded logs_i9sspa94:v0 to /scratch/downloaded_artifacts/logs_i9sspa94:v0\n"
     ]
    },
    {
     "name": "stderr",
     "output_type": "stream",
     "text": [
      "\u001b[34m\u001b[1mwandb\u001b[0m:   1 of 1 files downloaded.  \n"
     ]
    },
    {
     "name": "stdout",
     "output_type": "stream",
     "text": [
      "2025-04-20 13:12:09,530 - INFO - Downloaded logs_j6di0z1j:v0 to /scratch/downloaded_artifacts/logs_j6di0z1j:v0\n"
     ]
    },
    {
     "name": "stderr",
     "output_type": "stream",
     "text": [
      "\u001b[34m\u001b[1mwandb\u001b[0m:   1 of 1 files downloaded.  \n"
     ]
    },
    {
     "name": "stdout",
     "output_type": "stream",
     "text": [
      "2025-04-20 13:12:09,544 - INFO - Downloaded logs_loex72y9:v0 to /scratch/downloaded_artifacts/logs_loex72y9:v0\n"
     ]
    },
    {
     "name": "stderr",
     "output_type": "stream",
     "text": [
      "\u001b[34m\u001b[1mwandb\u001b[0m: \u001b[32m\u001b[41mERROR\u001b[0m Error while calling W&B API: rate limit exceeded (<Response [429]>)\n",
      "\u001b[34m\u001b[1mwandb\u001b[0m:   1 of 1 files downloaded.  \n"
     ]
    },
    {
     "name": "stdout",
     "output_type": "stream",
     "text": [
      "2025-04-20 13:12:09,734 - INFO - Downloaded logs_o727nxxv:v0 to /scratch/downloaded_artifacts/logs_o727nxxv:v0\n"
     ]
    },
    {
     "name": "stderr",
     "output_type": "stream",
     "text": [
      "\u001b[34m\u001b[1mwandb\u001b[0m:   1 of 1 files downloaded.  \n"
     ]
    },
    {
     "name": "stdout",
     "output_type": "stream",
     "text": [
      "2025-04-20 13:12:09,741 - INFO - Downloaded logs_tfonsh4m:v0 to /scratch/downloaded_artifacts/logs_tfonsh4m:v0\n"
     ]
    },
    {
     "name": "stderr",
     "output_type": "stream",
     "text": [
      "\u001b[34m\u001b[1mwandb\u001b[0m:   1 of 1 files downloaded.  \n"
     ]
    },
    {
     "name": "stdout",
     "output_type": "stream",
     "text": [
      "2025-04-20 13:12:09,759 - INFO - Downloaded logs_p7sp94x3:v0 to /scratch/downloaded_artifacts/logs_p7sp94x3:v0\n"
     ]
    },
    {
     "name": "stderr",
     "output_type": "stream",
     "text": [
      "\u001b[34m\u001b[1mwandb\u001b[0m: \u001b[32m\u001b[41mERROR\u001b[0m Error while calling W&B API: rate limit exceeded (<Response [429]>)\n",
      "\u001b[34m\u001b[1mwandb\u001b[0m: \u001b[32m\u001b[41mERROR\u001b[0m Error while calling W&B API: rate limit exceeded (<Response [429]>)\n",
      "\u001b[34m\u001b[1mwandb\u001b[0m:   1 of 1 files downloaded.  \n"
     ]
    },
    {
     "name": "stdout",
     "output_type": "stream",
     "text": [
      "2025-04-20 13:12:09,902 - INFO - Downloaded logs_8jwskbku:v0 to /scratch/downloaded_artifacts/logs_8jwskbku:v0\n"
     ]
    },
    {
     "name": "stderr",
     "output_type": "stream",
     "text": [
      "\u001b[34m\u001b[1mwandb\u001b[0m:   1 of 1 files downloaded.  \n"
     ]
    },
    {
     "name": "stdout",
     "output_type": "stream",
     "text": [
      "2025-04-20 13:12:09,969 - INFO - Downloaded logs_yyax7zuf:v0 to /scratch/downloaded_artifacts/logs_yyax7zuf:v0\n"
     ]
    },
    {
     "name": "stderr",
     "output_type": "stream",
     "text": [
      "\u001b[34m\u001b[1mwandb\u001b[0m:   1 of 1 files downloaded.  \n"
     ]
    },
    {
     "name": "stdout",
     "output_type": "stream",
     "text": [
      "2025-04-20 13:12:10,010 - INFO - Downloaded logs_o0w7ptec:v0 to /scratch/downloaded_artifacts/logs_o0w7ptec:v0\n"
     ]
    },
    {
     "name": "stderr",
     "output_type": "stream",
     "text": [
      "\u001b[34m\u001b[1mwandb\u001b[0m:   1 of 1 files downloaded.  \n"
     ]
    },
    {
     "name": "stdout",
     "output_type": "stream",
     "text": [
      "2025-04-20 13:12:10,056 - INFO - Downloaded logs_uwhghu79:v0 to /scratch/downloaded_artifacts/logs_uwhghu79:v0\n"
     ]
    },
    {
     "name": "stderr",
     "output_type": "stream",
     "text": [
      "\u001b[34m\u001b[1mwandb\u001b[0m:   1 of 1 files downloaded.  \n"
     ]
    },
    {
     "name": "stdout",
     "output_type": "stream",
     "text": [
      "2025-04-20 13:12:10,107 - INFO - Downloaded logs_iw9ymm5t:v0 to /scratch/downloaded_artifacts/logs_iw9ymm5t:v0\n"
     ]
    },
    {
     "name": "stderr",
     "output_type": "stream",
     "text": [
      "\u001b[34m\u001b[1mwandb\u001b[0m:   1 of 1 files downloaded.  \n"
     ]
    },
    {
     "name": "stdout",
     "output_type": "stream",
     "text": [
      "2025-04-20 13:12:10,123 - INFO - Downloaded logs_n91hoif7:v0 to /scratch/downloaded_artifacts/logs_n91hoif7:v0\n"
     ]
    },
    {
     "name": "stderr",
     "output_type": "stream",
     "text": [
      "\u001b[34m\u001b[1mwandb\u001b[0m:   1 of 1 files downloaded.  \n"
     ]
    },
    {
     "name": "stdout",
     "output_type": "stream",
     "text": [
      "2025-04-20 13:12:10,145 - INFO - Downloaded logs_0dkwrdnt:v0 to /scratch/downloaded_artifacts/logs_0dkwrdnt:v0\n"
     ]
    },
    {
     "name": "stderr",
     "output_type": "stream",
     "text": [
      "\u001b[34m\u001b[1mwandb\u001b[0m:   1 of 1 files downloaded.  \n"
     ]
    },
    {
     "name": "stdout",
     "output_type": "stream",
     "text": [
      "2025-04-20 13:12:10,167 - INFO - Downloaded logs_7chwhtc2:v0 to /scratch/downloaded_artifacts/logs_7chwhtc2:v0\n"
     ]
    },
    {
     "name": "stderr",
     "output_type": "stream",
     "text": [
      "\u001b[34m\u001b[1mwandb\u001b[0m:   1 of 1 files downloaded.  \n"
     ]
    },
    {
     "name": "stdout",
     "output_type": "stream",
     "text": [
      "2025-04-20 13:12:10,171 - INFO - Downloaded logs_vr9a1plv:v0 to /scratch/downloaded_artifacts/logs_vr9a1plv:v0\n"
     ]
    },
    {
     "name": "stderr",
     "output_type": "stream",
     "text": [
      "\u001b[34m\u001b[1mwandb\u001b[0m:   1 of 1 files downloaded.  \n"
     ]
    },
    {
     "name": "stdout",
     "output_type": "stream",
     "text": [
      "2025-04-20 13:12:10,225 - INFO - Downloaded logs_qucybfua:v0 to /scratch/downloaded_artifacts/logs_qucybfua:v0\n"
     ]
    },
    {
     "name": "stderr",
     "output_type": "stream",
     "text": [
      "\u001b[34m\u001b[1mwandb\u001b[0m:   1 of 1 files downloaded.  \n"
     ]
    },
    {
     "name": "stdout",
     "output_type": "stream",
     "text": [
      "2025-04-20 13:12:10,236 - INFO - Downloaded logs_7q8e4ohy:v0 to /scratch/downloaded_artifacts/logs_7q8e4ohy:v0\n"
     ]
    },
    {
     "name": "stderr",
     "output_type": "stream",
     "text": [
      "\u001b[34m\u001b[1mwandb\u001b[0m: Network error (HTTPError), entering retry loop.\n",
      "\u001b[34m\u001b[1mwandb\u001b[0m: \u001b[32m\u001b[41mERROR\u001b[0m Error while calling W&B API: rate limit exceeded (<Response [429]>)\n",
      "\u001b[34m\u001b[1mwandb\u001b[0m: \u001b[32m\u001b[41mERROR\u001b[0m Error while calling W&B API: rate limit exceeded (<Response [429]>)\n",
      "\u001b[34m\u001b[1mwandb\u001b[0m: \u001b[32m\u001b[41mERROR\u001b[0m Error while calling W&B API: rate limit exceeded (<Response [429]>)\n",
      "\u001b[34m\u001b[1mwandb\u001b[0m: \u001b[32m\u001b[41mERROR\u001b[0m Error while calling W&B API: rate limit exceeded (<Response [429]>)\n",
      "\u001b[34m\u001b[1mwandb\u001b[0m: Network error (HTTPError), entering retry loop.\n",
      "\u001b[34m\u001b[1mwandb\u001b[0m: \u001b[32m\u001b[41mERROR\u001b[0m Error while calling W&B API: rate limit exceeded (<Response [429]>)\n",
      "\u001b[34m\u001b[1mwandb\u001b[0m: Network error (HTTPError), entering retry loop.\n",
      "\u001b[34m\u001b[1mwandb\u001b[0m: \u001b[32m\u001b[41mERROR\u001b[0m Error while calling W&B API: rate limit exceeded (<Response [429]>)\n",
      "\u001b[34m\u001b[1mwandb\u001b[0m: Network error (HTTPError), entering retry loop.\n",
      "\u001b[34m\u001b[1mwandb\u001b[0m:   1 of 1 files downloaded.  \n"
     ]
    },
    {
     "name": "stdout",
     "output_type": "stream",
     "text": [
      "2025-04-20 13:12:18,162 - INFO - Downloaded logs_7er2whxf:v0 to /scratch/downloaded_artifacts/logs_7er2whxf:v0\n"
     ]
    },
    {
     "name": "stderr",
     "output_type": "stream",
     "text": [
      "\u001b[34m\u001b[1mwandb\u001b[0m:   1 of 1 files downloaded.  \n"
     ]
    },
    {
     "name": "stdout",
     "output_type": "stream",
     "text": [
      "2025-04-20 13:12:18,246 - INFO - Downloaded logs_xjfggh6z:v0 to /scratch/downloaded_artifacts/logs_xjfggh6z:v0\n"
     ]
    },
    {
     "name": "stderr",
     "output_type": "stream",
     "text": [
      "\u001b[34m\u001b[1mwandb\u001b[0m:   1 of 1 files downloaded.  \n"
     ]
    },
    {
     "name": "stdout",
     "output_type": "stream",
     "text": [
      "2025-04-20 13:12:18,646 - INFO - Downloaded logs_jilr3ntv:v0 to /scratch/downloaded_artifacts/logs_jilr3ntv:v0\n"
     ]
    },
    {
     "name": "stderr",
     "output_type": "stream",
     "text": [
      "\u001b[34m\u001b[1mwandb\u001b[0m:   1 of 1 files downloaded.  \n"
     ]
    },
    {
     "name": "stdout",
     "output_type": "stream",
     "text": [
      "2025-04-20 13:12:18,673 - INFO - Downloaded logs_syx79v1o:v0 to /scratch/downloaded_artifacts/logs_syx79v1o:v0\n"
     ]
    },
    {
     "name": "stderr",
     "output_type": "stream",
     "text": [
      "\u001b[34m\u001b[1mwandb\u001b[0m:   1 of 1 files downloaded.  \n"
     ]
    },
    {
     "name": "stdout",
     "output_type": "stream",
     "text": [
      "2025-04-20 13:12:18,811 - INFO - Downloaded logs_dq5989sj:v0 to /scratch/downloaded_artifacts/logs_dq5989sj:v0\n"
     ]
    },
    {
     "name": "stderr",
     "output_type": "stream",
     "text": [
      "\u001b[34m\u001b[1mwandb\u001b[0m:   1 of 1 files downloaded.  \n"
     ]
    },
    {
     "name": "stdout",
     "output_type": "stream",
     "text": [
      "2025-04-20 13:12:18,883 - INFO - Downloaded logs_2shi5i36:v0 to /scratch/downloaded_artifacts/logs_2shi5i36:v0\n"
     ]
    },
    {
     "name": "stderr",
     "output_type": "stream",
     "text": [
      "\u001b[34m\u001b[1mwandb\u001b[0m:   1 of 1 files downloaded.  \n"
     ]
    },
    {
     "name": "stdout",
     "output_type": "stream",
     "text": [
      "2025-04-20 13:12:19,014 - INFO - Downloaded logs_hf44k74q:v0 to /scratch/downloaded_artifacts/logs_hf44k74q:v0\n"
     ]
    },
    {
     "name": "stderr",
     "output_type": "stream",
     "text": [
      "\u001b[34m\u001b[1mwandb\u001b[0m:   1 of 1 files downloaded.  \n"
     ]
    },
    {
     "name": "stdout",
     "output_type": "stream",
     "text": [
      "2025-04-20 13:12:19,070 - INFO - Downloaded logs_ln12j6y0:v0 to /scratch/downloaded_artifacts/logs_ln12j6y0:v0\n"
     ]
    },
    {
     "name": "stderr",
     "output_type": "stream",
     "text": [
      "\u001b[34m\u001b[1mwandb\u001b[0m:   1 of 1 files downloaded.  \n"
     ]
    },
    {
     "name": "stdout",
     "output_type": "stream",
     "text": [
      "2025-04-20 13:12:19,139 - INFO - Downloaded logs_ffeo6kfu:v0 to /scratch/downloaded_artifacts/logs_ffeo6kfu:v0\n"
     ]
    },
    {
     "name": "stderr",
     "output_type": "stream",
     "text": [
      "\u001b[34m\u001b[1mwandb\u001b[0m:   1 of 1 files downloaded.  \n"
     ]
    },
    {
     "name": "stdout",
     "output_type": "stream",
     "text": [
      "2025-04-20 13:12:19,268 - INFO - Downloaded logs_pitcca2g:v0 to /scratch/downloaded_artifacts/logs_pitcca2g:v0\n"
     ]
    },
    {
     "name": "stderr",
     "output_type": "stream",
     "text": [
      "\u001b[34m\u001b[1mwandb\u001b[0m:   1 of 1 files downloaded.  \n"
     ]
    },
    {
     "name": "stdout",
     "output_type": "stream",
     "text": [
      "2025-04-20 13:12:19,401 - INFO - Downloaded logs_jfx4gpd4:v0 to /scratch/downloaded_artifacts/logs_jfx4gpd4:v0\n"
     ]
    },
    {
     "name": "stderr",
     "output_type": "stream",
     "text": [
      "\u001b[34m\u001b[1mwandb\u001b[0m:   1 of 1 files downloaded.  \n"
     ]
    },
    {
     "name": "stdout",
     "output_type": "stream",
     "text": [
      "2025-04-20 13:12:19,446 - INFO - Downloaded logs_g3co1fog:v0 to /scratch/downloaded_artifacts/logs_g3co1fog:v0\n"
     ]
    },
    {
     "name": "stderr",
     "output_type": "stream",
     "text": [
      "\u001b[34m\u001b[1mwandb\u001b[0m:   1 of 1 files downloaded.  \n"
     ]
    },
    {
     "name": "stdout",
     "output_type": "stream",
     "text": [
      "2025-04-20 13:12:19,459 - INFO - Downloaded logs_cduah2tl:v0 to /scratch/downloaded_artifacts/logs_cduah2tl:v0\n"
     ]
    },
    {
     "name": "stderr",
     "output_type": "stream",
     "text": [
      "\u001b[34m\u001b[1mwandb\u001b[0m:   1 of 1 files downloaded.  \n"
     ]
    },
    {
     "name": "stdout",
     "output_type": "stream",
     "text": [
      "2025-04-20 13:12:19,557 - INFO - Downloaded logs_bwzaxxt7:v0 to /scratch/downloaded_artifacts/logs_bwzaxxt7:v0\n"
     ]
    },
    {
     "name": "stderr",
     "output_type": "stream",
     "text": [
      "\u001b[34m\u001b[1mwandb\u001b[0m:   1 of 1 files downloaded.  \n"
     ]
    },
    {
     "name": "stdout",
     "output_type": "stream",
     "text": [
      "2025-04-20 13:12:19,683 - INFO - Downloaded logs_jerltc8l:v0 to /scratch/downloaded_artifacts/logs_jerltc8l:v0\n"
     ]
    },
    {
     "name": "stderr",
     "output_type": "stream",
     "text": [
      "\u001b[34m\u001b[1mwandb\u001b[0m:   1 of 1 files downloaded.  \n"
     ]
    },
    {
     "name": "stdout",
     "output_type": "stream",
     "text": [
      "2025-04-20 13:12:19,715 - INFO - Downloaded logs_y0v5qe7t:v0 to /scratch/downloaded_artifacts/logs_y0v5qe7t:v0\n"
     ]
    },
    {
     "name": "stderr",
     "output_type": "stream",
     "text": [
      "\u001b[34m\u001b[1mwandb\u001b[0m:   1 of 1 files downloaded.  \n"
     ]
    },
    {
     "name": "stdout",
     "output_type": "stream",
     "text": [
      "2025-04-20 13:12:19,744 - INFO - Downloaded logs_q63dv7i8:v0 to /scratch/downloaded_artifacts/logs_q63dv7i8:v0\n"
     ]
    },
    {
     "name": "stderr",
     "output_type": "stream",
     "text": [
      "\u001b[34m\u001b[1mwandb\u001b[0m:   1 of 1 files downloaded.  \n"
     ]
    },
    {
     "name": "stdout",
     "output_type": "stream",
     "text": [
      "2025-04-20 13:12:19,783 - INFO - Downloaded logs_g4tr3mj5:v0 to /scratch/downloaded_artifacts/logs_g4tr3mj5:v0\n"
     ]
    },
    {
     "name": "stderr",
     "output_type": "stream",
     "text": [
      "\u001b[34m\u001b[1mwandb\u001b[0m:   1 of 1 files downloaded.  \n"
     ]
    },
    {
     "name": "stdout",
     "output_type": "stream",
     "text": [
      "2025-04-20 13:12:19,804 - INFO - Downloaded logs_1kb3ztco:v0 to /scratch/downloaded_artifacts/logs_1kb3ztco:v0\n"
     ]
    },
    {
     "name": "stderr",
     "output_type": "stream",
     "text": [
      "\u001b[34m\u001b[1mwandb\u001b[0m:   1 of 1 files downloaded.  \n"
     ]
    },
    {
     "name": "stdout",
     "output_type": "stream",
     "text": [
      "2025-04-20 13:12:19,834 - INFO - Downloaded logs_tnje36bx:v0 to /scratch/downloaded_artifacts/logs_tnje36bx:v0\n"
     ]
    },
    {
     "name": "stderr",
     "output_type": "stream",
     "text": [
      "\u001b[34m\u001b[1mwandb\u001b[0m:   1 of 1 files downloaded.  \n"
     ]
    },
    {
     "name": "stdout",
     "output_type": "stream",
     "text": [
      "2025-04-20 13:12:19,935 - INFO - Downloaded logs_tk7lyfzo:v0 to /scratch/downloaded_artifacts/logs_tk7lyfzo:v0\n"
     ]
    },
    {
     "name": "stderr",
     "output_type": "stream",
     "text": [
      "\u001b[34m\u001b[1mwandb\u001b[0m:   1 of 1 files downloaded.  \n"
     ]
    },
    {
     "name": "stdout",
     "output_type": "stream",
     "text": [
      "2025-04-20 13:12:20,080 - INFO - Downloaded logs_jrteseeh:v0 to /scratch/downloaded_artifacts/logs_jrteseeh:v0\n"
     ]
    },
    {
     "name": "stderr",
     "output_type": "stream",
     "text": [
      "\u001b[34m\u001b[1mwandb\u001b[0m:   1 of 1 files downloaded.  \n"
     ]
    },
    {
     "name": "stdout",
     "output_type": "stream",
     "text": [
      "2025-04-20 13:12:20,103 - INFO - Downloaded logs_w8azuwsb:v0 to /scratch/downloaded_artifacts/logs_w8azuwsb:v0\n"
     ]
    },
    {
     "name": "stderr",
     "output_type": "stream",
     "text": [
      "\u001b[34m\u001b[1mwandb\u001b[0m:   1 of 1 files downloaded.  \n"
     ]
    },
    {
     "name": "stdout",
     "output_type": "stream",
     "text": [
      "2025-04-20 13:12:20,147 - INFO - Downloaded logs_0e363yu2:v0 to /scratch/downloaded_artifacts/logs_0e363yu2:v0\n"
     ]
    },
    {
     "name": "stderr",
     "output_type": "stream",
     "text": [
      "\u001b[34m\u001b[1mwandb\u001b[0m:   1 of 1 files downloaded.  \n"
     ]
    },
    {
     "name": "stdout",
     "output_type": "stream",
     "text": [
      "2025-04-20 13:12:20,178 - INFO - Downloaded logs_nwte1hsg:v0 to /scratch/downloaded_artifacts/logs_nwte1hsg:v0\n"
     ]
    },
    {
     "name": "stderr",
     "output_type": "stream",
     "text": [
      "\u001b[34m\u001b[1mwandb\u001b[0m:   1 of 1 files downloaded.  \n"
     ]
    },
    {
     "name": "stdout",
     "output_type": "stream",
     "text": [
      "2025-04-20 13:12:20,245 - INFO - Downloaded logs_7ma7yj8r:v0 to /scratch/downloaded_artifacts/logs_7ma7yj8r:v0\n"
     ]
    },
    {
     "name": "stderr",
     "output_type": "stream",
     "text": [
      "\u001b[34m\u001b[1mwandb\u001b[0m:   1 of 1 files downloaded.  \n"
     ]
    },
    {
     "name": "stdout",
     "output_type": "stream",
     "text": [
      "2025-04-20 13:12:20,347 - INFO - Downloaded logs_dxih76jr:v0 to /scratch/downloaded_artifacts/logs_dxih76jr:v0\n"
     ]
    },
    {
     "name": "stderr",
     "output_type": "stream",
     "text": [
      "\u001b[34m\u001b[1mwandb\u001b[0m:   1 of 1 files downloaded.  \n"
     ]
    },
    {
     "name": "stdout",
     "output_type": "stream",
     "text": [
      "2025-04-20 13:12:20,375 - INFO - Downloaded logs_7yxkoabp:v0 to /scratch/downloaded_artifacts/logs_7yxkoabp:v0\n"
     ]
    },
    {
     "name": "stderr",
     "output_type": "stream",
     "text": [
      "\u001b[34m\u001b[1mwandb\u001b[0m:   1 of 1 files downloaded.  \n"
     ]
    },
    {
     "name": "stdout",
     "output_type": "stream",
     "text": [
      "2025-04-20 13:12:20,443 - INFO - Downloaded logs_ejd1l5pc:v0 to /scratch/downloaded_artifacts/logs_ejd1l5pc:v0\n"
     ]
    },
    {
     "name": "stderr",
     "output_type": "stream",
     "text": [
      "\u001b[34m\u001b[1mwandb\u001b[0m:   1 of 1 files downloaded.  \n"
     ]
    },
    {
     "name": "stdout",
     "output_type": "stream",
     "text": [
      "2025-04-20 13:12:20,606 - INFO - Downloaded logs_fmtz1i1o:v0 to /scratch/downloaded_artifacts/logs_fmtz1i1o:v0\n"
     ]
    },
    {
     "name": "stderr",
     "output_type": "stream",
     "text": [
      "\u001b[34m\u001b[1mwandb\u001b[0m:   1 of 1 files downloaded.  \n"
     ]
    },
    {
     "name": "stdout",
     "output_type": "stream",
     "text": [
      "2025-04-20 13:12:20,726 - INFO - Downloaded logs_frp5zak6:v0 to /scratch/downloaded_artifacts/logs_frp5zak6:v0\n"
     ]
    },
    {
     "name": "stderr",
     "output_type": "stream",
     "text": [
      "\u001b[34m\u001b[1mwandb\u001b[0m:   1 of 1 files downloaded.  \n"
     ]
    },
    {
     "name": "stdout",
     "output_type": "stream",
     "text": [
      "2025-04-20 13:12:20,854 - INFO - Downloaded logs_hzhm1yzh:v0 to /scratch/downloaded_artifacts/logs_hzhm1yzh:v0\n"
     ]
    },
    {
     "name": "stderr",
     "output_type": "stream",
     "text": [
      "\u001b[34m\u001b[1mwandb\u001b[0m:   1 of 1 files downloaded.  \n"
     ]
    },
    {
     "name": "stdout",
     "output_type": "stream",
     "text": [
      "2025-04-20 13:12:20,873 - INFO - Downloaded logs_gtej44ws:v0 to /scratch/downloaded_artifacts/logs_gtej44ws:v0\n"
     ]
    },
    {
     "name": "stderr",
     "output_type": "stream",
     "text": [
      "\u001b[34m\u001b[1mwandb\u001b[0m:   1 of 1 files downloaded.  \n"
     ]
    },
    {
     "name": "stdout",
     "output_type": "stream",
     "text": [
      "2025-04-20 13:12:20,998 - INFO - Downloaded logs_lpsksghk:v0 to /scratch/downloaded_artifacts/logs_lpsksghk:v0\n"
     ]
    },
    {
     "name": "stderr",
     "output_type": "stream",
     "text": [
      "\u001b[34m\u001b[1mwandb\u001b[0m:   1 of 1 files downloaded.  \n",
      "\u001b[34m\u001b[1mwandb\u001b[0m:   1 of 1 files downloaded.  \n"
     ]
    },
    {
     "name": "stdout",
     "output_type": "stream",
     "text": [
      "2025-04-20 13:12:21,202 - INFO - Downloaded logs_mndf6k3p:v0 to /scratch/downloaded_artifacts/logs_mndf6k3p:v0\n",
      "2025-04-20 13:12:21,202 - INFO - Downloaded logs_io9zj21t:v0 to /scratch/downloaded_artifacts/logs_io9zj21t:v0\n"
     ]
    },
    {
     "name": "stderr",
     "output_type": "stream",
     "text": [
      "\u001b[34m\u001b[1mwandb\u001b[0m:   1 of 1 files downloaded.  \n"
     ]
    },
    {
     "name": "stdout",
     "output_type": "stream",
     "text": [
      "2025-04-20 13:12:21,216 - INFO - Downloaded logs_sqb8dilq:v0 to /scratch/downloaded_artifacts/logs_sqb8dilq:v0\n"
     ]
    },
    {
     "name": "stderr",
     "output_type": "stream",
     "text": [
      "\u001b[34m\u001b[1mwandb\u001b[0m:   1 of 1 files downloaded.  \n"
     ]
    },
    {
     "name": "stdout",
     "output_type": "stream",
     "text": [
      "2025-04-20 13:12:21,218 - INFO - Downloaded logs_8k7rzx3q:v0 to /scratch/downloaded_artifacts/logs_8k7rzx3q:v0\n"
     ]
    },
    {
     "name": "stderr",
     "output_type": "stream",
     "text": [
      "\u001b[34m\u001b[1mwandb\u001b[0m:   1 of 1 files downloaded.  \n"
     ]
    },
    {
     "name": "stdout",
     "output_type": "stream",
     "text": [
      "2025-04-20 13:12:21,267 - INFO - Downloaded logs_kk0h4048:v0 to /scratch/downloaded_artifacts/logs_kk0h4048:v0\n"
     ]
    },
    {
     "name": "stderr",
     "output_type": "stream",
     "text": [
      "\u001b[34m\u001b[1mwandb\u001b[0m:   1 of 1 files downloaded.  \n"
     ]
    },
    {
     "name": "stdout",
     "output_type": "stream",
     "text": [
      "2025-04-20 13:12:21,402 - INFO - Downloaded logs_w5wlzw5i:v0 to /scratch/downloaded_artifacts/logs_w5wlzw5i:v0\n"
     ]
    },
    {
     "name": "stderr",
     "output_type": "stream",
     "text": [
      "\u001b[34m\u001b[1mwandb\u001b[0m:   1 of 1 files downloaded.  \n"
     ]
    },
    {
     "name": "stdout",
     "output_type": "stream",
     "text": [
      "2025-04-20 13:12:21,509 - INFO - Downloaded logs_rii3dafl:v0 to /scratch/downloaded_artifacts/logs_rii3dafl:v0\n"
     ]
    },
    {
     "name": "stderr",
     "output_type": "stream",
     "text": [
      "\u001b[34m\u001b[1mwandb\u001b[0m:   1 of 1 files downloaded.  \n"
     ]
    },
    {
     "name": "stdout",
     "output_type": "stream",
     "text": [
      "2025-04-20 13:12:21,519 - INFO - Downloaded logs_92zgmqhs:v0 to /scratch/downloaded_artifacts/logs_92zgmqhs:v0\n"
     ]
    },
    {
     "name": "stderr",
     "output_type": "stream",
     "text": [
      "\u001b[34m\u001b[1mwandb\u001b[0m:   1 of 1 files downloaded.  \n"
     ]
    },
    {
     "name": "stdout",
     "output_type": "stream",
     "text": [
      "2025-04-20 13:12:21,632 - INFO - Downloaded logs_7rfmsi3y:v0 to /scratch/downloaded_artifacts/logs_7rfmsi3y:v0\n"
     ]
    },
    {
     "name": "stderr",
     "output_type": "stream",
     "text": [
      "\u001b[34m\u001b[1mwandb\u001b[0m:   1 of 1 files downloaded.  \n"
     ]
    },
    {
     "name": "stdout",
     "output_type": "stream",
     "text": [
      "2025-04-20 13:12:21,648 - INFO - Downloaded logs_3m1h740z:v0 to /scratch/downloaded_artifacts/logs_3m1h740z:v0\n"
     ]
    },
    {
     "name": "stderr",
     "output_type": "stream",
     "text": [
      "\u001b[34m\u001b[1mwandb\u001b[0m:   1 of 1 files downloaded.  \n"
     ]
    },
    {
     "name": "stdout",
     "output_type": "stream",
     "text": [
      "2025-04-20 13:12:21,655 - INFO - Downloaded logs_esiz3qd6:v0 to /scratch/downloaded_artifacts/logs_esiz3qd6:v0\n"
     ]
    },
    {
     "name": "stderr",
     "output_type": "stream",
     "text": [
      "\u001b[34m\u001b[1mwandb\u001b[0m:   1 of 1 files downloaded.  \n"
     ]
    },
    {
     "name": "stdout",
     "output_type": "stream",
     "text": [
      "2025-04-20 13:12:21,731 - INFO - Downloaded logs_ynmwho94:v0 to /scratch/downloaded_artifacts/logs_ynmwho94:v0\n"
     ]
    },
    {
     "name": "stderr",
     "output_type": "stream",
     "text": [
      "\u001b[34m\u001b[1mwandb\u001b[0m:   1 of 1 files downloaded.  \n"
     ]
    },
    {
     "name": "stdout",
     "output_type": "stream",
     "text": [
      "2025-04-20 13:12:21,770 - INFO - Downloaded logs_gsdxwqab:v0 to /scratch/downloaded_artifacts/logs_gsdxwqab:v0\n"
     ]
    },
    {
     "name": "stderr",
     "output_type": "stream",
     "text": [
      "\u001b[34m\u001b[1mwandb\u001b[0m:   1 of 1 files downloaded.  \n"
     ]
    },
    {
     "name": "stdout",
     "output_type": "stream",
     "text": [
      "2025-04-20 13:12:21,848 - INFO - Downloaded logs_vs3q8oj4:v0 to /scratch/downloaded_artifacts/logs_vs3q8oj4:v0\n"
     ]
    },
    {
     "name": "stderr",
     "output_type": "stream",
     "text": [
      "\u001b[34m\u001b[1mwandb\u001b[0m:   1 of 1 files downloaded.  \n"
     ]
    },
    {
     "name": "stdout",
     "output_type": "stream",
     "text": [
      "2025-04-20 13:12:21,977 - INFO - Downloaded logs_4k32ik5u:v0 to /scratch/downloaded_artifacts/logs_4k32ik5u:v0\n"
     ]
    },
    {
     "name": "stderr",
     "output_type": "stream",
     "text": [
      "\u001b[34m\u001b[1mwandb\u001b[0m:   1 of 1 files downloaded.  \n"
     ]
    },
    {
     "name": "stdout",
     "output_type": "stream",
     "text": [
      "2025-04-20 13:12:22,045 - INFO - Downloaded logs_6jweav2q:v0 to /scratch/downloaded_artifacts/logs_6jweav2q:v0\n"
     ]
    },
    {
     "name": "stderr",
     "output_type": "stream",
     "text": [
      "\u001b[34m\u001b[1mwandb\u001b[0m:   1 of 1 files downloaded.  \n"
     ]
    },
    {
     "name": "stdout",
     "output_type": "stream",
     "text": [
      "2025-04-20 13:12:22,137 - INFO - Downloaded logs_2zix85no:v0 to /scratch/downloaded_artifacts/logs_2zix85no:v0\n"
     ]
    },
    {
     "name": "stderr",
     "output_type": "stream",
     "text": [
      "\u001b[34m\u001b[1mwandb\u001b[0m:   1 of 1 files downloaded.  \n"
     ]
    },
    {
     "name": "stdout",
     "output_type": "stream",
     "text": [
      "2025-04-20 13:12:22,232 - INFO - Downloaded logs_70k56wbp:v0 to /scratch/downloaded_artifacts/logs_70k56wbp:v0\n"
     ]
    },
    {
     "name": "stderr",
     "output_type": "stream",
     "text": [
      "\u001b[34m\u001b[1mwandb\u001b[0m:   1 of 1 files downloaded.  \n"
     ]
    },
    {
     "name": "stdout",
     "output_type": "stream",
     "text": [
      "2025-04-20 13:12:22,234 - INFO - Downloaded logs_7egrn2nu:v0 to /scratch/downloaded_artifacts/logs_7egrn2nu:v0\n"
     ]
    },
    {
     "name": "stderr",
     "output_type": "stream",
     "text": [
      "\u001b[34m\u001b[1mwandb\u001b[0m:   1 of 1 files downloaded.  \n"
     ]
    },
    {
     "name": "stdout",
     "output_type": "stream",
     "text": [
      "2025-04-20 13:12:22,317 - INFO - Downloaded logs_dsf28wsn:v0 to /scratch/downloaded_artifacts/logs_dsf28wsn:v0\n"
     ]
    },
    {
     "name": "stderr",
     "output_type": "stream",
     "text": [
      "\u001b[34m\u001b[1mwandb\u001b[0m:   1 of 1 files downloaded.  \n"
     ]
    },
    {
     "name": "stdout",
     "output_type": "stream",
     "text": [
      "2025-04-20 13:12:22,570 - INFO - Downloaded logs_f6a69gk4:v0 to /scratch/downloaded_artifacts/logs_f6a69gk4:v0\n"
     ]
    },
    {
     "name": "stderr",
     "output_type": "stream",
     "text": [
      "\u001b[34m\u001b[1mwandb\u001b[0m:   1 of 1 files downloaded.  \n"
     ]
    },
    {
     "name": "stdout",
     "output_type": "stream",
     "text": [
      "2025-04-20 13:12:22,580 - INFO - Downloaded logs_wlozixdc:v0 to /scratch/downloaded_artifacts/logs_wlozixdc:v0\n"
     ]
    },
    {
     "name": "stderr",
     "output_type": "stream",
     "text": [
      "\u001b[34m\u001b[1mwandb\u001b[0m:   1 of 1 files downloaded.  \n"
     ]
    },
    {
     "name": "stdout",
     "output_type": "stream",
     "text": [
      "2025-04-20 13:12:22,600 - INFO - Downloaded logs_p0ho7jhz:v0 to /scratch/downloaded_artifacts/logs_p0ho7jhz:v0\n"
     ]
    },
    {
     "name": "stderr",
     "output_type": "stream",
     "text": [
      "\u001b[34m\u001b[1mwandb\u001b[0m:   1 of 1 files downloaded.  \n"
     ]
    },
    {
     "name": "stdout",
     "output_type": "stream",
     "text": [
      "2025-04-20 13:12:22,610 - INFO - Downloaded logs_x79ig167:v0 to /scratch/downloaded_artifacts/logs_x79ig167:v0\n"
     ]
    },
    {
     "name": "stderr",
     "output_type": "stream",
     "text": [
      "\u001b[34m\u001b[1mwandb\u001b[0m:   1 of 1 files downloaded.  \n"
     ]
    },
    {
     "name": "stdout",
     "output_type": "stream",
     "text": [
      "2025-04-20 13:12:22,763 - INFO - Downloaded logs_re0cqzh0:v0 to /scratch/downloaded_artifacts/logs_re0cqzh0:v0\n"
     ]
    },
    {
     "name": "stderr",
     "output_type": "stream",
     "text": [
      "\u001b[34m\u001b[1mwandb\u001b[0m:   1 of 1 files downloaded.  \n"
     ]
    },
    {
     "name": "stdout",
     "output_type": "stream",
     "text": [
      "2025-04-20 13:12:22,870 - INFO - Downloaded logs_ongbo2c8:v0 to /scratch/downloaded_artifacts/logs_ongbo2c8:v0\n"
     ]
    },
    {
     "name": "stderr",
     "output_type": "stream",
     "text": [
      "\u001b[34m\u001b[1mwandb\u001b[0m:   1 of 1 files downloaded.  \n"
     ]
    },
    {
     "name": "stdout",
     "output_type": "stream",
     "text": [
      "2025-04-20 13:12:22,894 - INFO - Downloaded logs_tr4aru4k:v0 to /scratch/downloaded_artifacts/logs_tr4aru4k:v0\n"
     ]
    },
    {
     "name": "stderr",
     "output_type": "stream",
     "text": [
      "\u001b[34m\u001b[1mwandb\u001b[0m:   1 of 1 files downloaded.  \n"
     ]
    },
    {
     "name": "stdout",
     "output_type": "stream",
     "text": [
      "2025-04-20 13:12:22,977 - INFO - Downloaded logs_hp5s5uhq:v0 to /scratch/downloaded_artifacts/logs_hp5s5uhq:v0\n"
     ]
    },
    {
     "name": "stderr",
     "output_type": "stream",
     "text": [
      "\u001b[34m\u001b[1mwandb\u001b[0m:   1 of 1 files downloaded.  \n"
     ]
    },
    {
     "name": "stdout",
     "output_type": "stream",
     "text": [
      "2025-04-20 13:12:23,042 - INFO - Downloaded logs_g1vbvs83:v0 to /scratch/downloaded_artifacts/logs_g1vbvs83:v0\n"
     ]
    },
    {
     "name": "stderr",
     "output_type": "stream",
     "text": [
      "\u001b[34m\u001b[1mwandb\u001b[0m:   1 of 1 files downloaded.  \n"
     ]
    },
    {
     "name": "stdout",
     "output_type": "stream",
     "text": [
      "2025-04-20 13:12:23,064 - INFO - Downloaded logs_q6egk0vk:v0 to /scratch/downloaded_artifacts/logs_q6egk0vk:v0\n"
     ]
    },
    {
     "name": "stderr",
     "output_type": "stream",
     "text": [
      "\u001b[34m\u001b[1mwandb\u001b[0m:   1 of 1 files downloaded.  \n"
     ]
    },
    {
     "name": "stdout",
     "output_type": "stream",
     "text": [
      "2025-04-20 13:12:23,210 - INFO - Downloaded logs_x7z57o29:v0 to /scratch/downloaded_artifacts/logs_x7z57o29:v0\n"
     ]
    },
    {
     "name": "stderr",
     "output_type": "stream",
     "text": [
      "\u001b[34m\u001b[1mwandb\u001b[0m:   1 of 1 files downloaded.  \n"
     ]
    },
    {
     "name": "stdout",
     "output_type": "stream",
     "text": [
      "2025-04-20 13:12:23,237 - INFO - Downloaded logs_5y45h9pj:v0 to /scratch/downloaded_artifacts/logs_5y45h9pj:v0\n"
     ]
    },
    {
     "name": "stderr",
     "output_type": "stream",
     "text": [
      "\u001b[34m\u001b[1mwandb\u001b[0m:   1 of 1 files downloaded.  \n"
     ]
    },
    {
     "name": "stdout",
     "output_type": "stream",
     "text": [
      "2025-04-20 13:12:23,267 - INFO - Downloaded logs_s3u3ez46:v0 to /scratch/downloaded_artifacts/logs_s3u3ez46:v0\n"
     ]
    },
    {
     "name": "stderr",
     "output_type": "stream",
     "text": [
      "\u001b[34m\u001b[1mwandb\u001b[0m:   1 of 1 files downloaded.  \n"
     ]
    },
    {
     "name": "stdout",
     "output_type": "stream",
     "text": [
      "2025-04-20 13:12:23,346 - INFO - Downloaded logs_5efhc7w4:v0 to /scratch/downloaded_artifacts/logs_5efhc7w4:v0\n"
     ]
    },
    {
     "name": "stderr",
     "output_type": "stream",
     "text": [
      "\u001b[34m\u001b[1mwandb\u001b[0m:   1 of 1 files downloaded.  \n"
     ]
    },
    {
     "name": "stdout",
     "output_type": "stream",
     "text": [
      "2025-04-20 13:12:23,403 - INFO - Downloaded logs_7ojpnbxe:v0 to /scratch/downloaded_artifacts/logs_7ojpnbxe:v0\n"
     ]
    },
    {
     "name": "stderr",
     "output_type": "stream",
     "text": [
      "\u001b[34m\u001b[1mwandb\u001b[0m:   1 of 1 files downloaded.  \n"
     ]
    },
    {
     "name": "stdout",
     "output_type": "stream",
     "text": [
      "2025-04-20 13:12:23,423 - INFO - Downloaded logs_7ut1p8d8:v0 to /scratch/downloaded_artifacts/logs_7ut1p8d8:v0\n"
     ]
    },
    {
     "name": "stderr",
     "output_type": "stream",
     "text": [
      "\u001b[34m\u001b[1mwandb\u001b[0m:   1 of 1 files downloaded.  \n"
     ]
    },
    {
     "name": "stdout",
     "output_type": "stream",
     "text": [
      "2025-04-20 13:12:23,507 - INFO - Downloaded logs_7yn1wpz8:v0 to /scratch/downloaded_artifacts/logs_7yn1wpz8:v0\n"
     ]
    },
    {
     "name": "stderr",
     "output_type": "stream",
     "text": [
      "\u001b[34m\u001b[1mwandb\u001b[0m:   1 of 1 files downloaded.  \n"
     ]
    },
    {
     "name": "stdout",
     "output_type": "stream",
     "text": [
      "2025-04-20 13:12:23,546 - INFO - Downloaded logs_8ow9gx2v:v0 to /scratch/downloaded_artifacts/logs_8ow9gx2v:v0\n"
     ]
    },
    {
     "name": "stderr",
     "output_type": "stream",
     "text": [
      "\u001b[34m\u001b[1mwandb\u001b[0m:   1 of 1 files downloaded.  \n"
     ]
    },
    {
     "name": "stdout",
     "output_type": "stream",
     "text": [
      "2025-04-20 13:12:23,626 - INFO - Downloaded logs_d60zgq7u:v0 to /scratch/downloaded_artifacts/logs_d60zgq7u:v0\n"
     ]
    },
    {
     "name": "stderr",
     "output_type": "stream",
     "text": [
      "\u001b[34m\u001b[1mwandb\u001b[0m:   1 of 1 files downloaded.  \n"
     ]
    },
    {
     "name": "stdout",
     "output_type": "stream",
     "text": [
      "2025-04-20 13:12:23,851 - INFO - Downloaded logs_e12qgr72:v0 to /scratch/downloaded_artifacts/logs_e12qgr72:v0\n"
     ]
    },
    {
     "name": "stderr",
     "output_type": "stream",
     "text": [
      "\u001b[34m\u001b[1mwandb\u001b[0m:   1 of 1 files downloaded.  \n"
     ]
    },
    {
     "name": "stdout",
     "output_type": "stream",
     "text": [
      "2025-04-20 13:12:23,869 - INFO - Downloaded logs_cmprnlgd:v0 to /scratch/downloaded_artifacts/logs_cmprnlgd:v0\n"
     ]
    },
    {
     "name": "stderr",
     "output_type": "stream",
     "text": [
      "\u001b[34m\u001b[1mwandb\u001b[0m:   1 of 1 files downloaded.  \n"
     ]
    },
    {
     "name": "stdout",
     "output_type": "stream",
     "text": [
      "2025-04-20 13:12:23,890 - INFO - Downloaded logs_t9el74ay:v0 to /scratch/downloaded_artifacts/logs_t9el74ay:v0\n"
     ]
    },
    {
     "name": "stderr",
     "output_type": "stream",
     "text": [
      "\u001b[34m\u001b[1mwandb\u001b[0m:   1 of 1 files downloaded.  \n"
     ]
    },
    {
     "name": "stdout",
     "output_type": "stream",
     "text": [
      "2025-04-20 13:12:23,910 - INFO - Downloaded logs_pp829s8u:v0 to /scratch/downloaded_artifacts/logs_pp829s8u:v0\n"
     ]
    },
    {
     "name": "stderr",
     "output_type": "stream",
     "text": [
      "\u001b[34m\u001b[1mwandb\u001b[0m:   1 of 1 files downloaded.  \n"
     ]
    },
    {
     "name": "stdout",
     "output_type": "stream",
     "text": [
      "2025-04-20 13:12:24,121 - INFO - Downloaded logs_gwiw30jy:v0 to /scratch/downloaded_artifacts/logs_gwiw30jy:v0\n"
     ]
    },
    {
     "name": "stderr",
     "output_type": "stream",
     "text": [
      "\u001b[34m\u001b[1mwandb\u001b[0m:   1 of 1 files downloaded.  \n"
     ]
    },
    {
     "name": "stdout",
     "output_type": "stream",
     "text": [
      "2025-04-20 13:12:24,123 - INFO - Downloaded logs_tv4mvjxd:v0 to /scratch/downloaded_artifacts/logs_tv4mvjxd:v0\n"
     ]
    },
    {
     "name": "stderr",
     "output_type": "stream",
     "text": [
      "\u001b[34m\u001b[1mwandb\u001b[0m:   1 of 1 files downloaded.  \n"
     ]
    },
    {
     "name": "stdout",
     "output_type": "stream",
     "text": [
      "2025-04-20 13:12:24,312 - INFO - Downloaded logs_zlwwzqxy:v0 to /scratch/downloaded_artifacts/logs_zlwwzqxy:v0\n"
     ]
    },
    {
     "name": "stderr",
     "output_type": "stream",
     "text": [
      "\u001b[34m\u001b[1mwandb\u001b[0m:   1 of 1 files downloaded.  \n"
     ]
    },
    {
     "name": "stdout",
     "output_type": "stream",
     "text": [
      "2025-04-20 13:12:24,328 - INFO - Downloaded logs_74clqdjh:v0 to /scratch/downloaded_artifacts/logs_74clqdjh:v0\n"
     ]
    },
    {
     "name": "stderr",
     "output_type": "stream",
     "text": [
      "\u001b[34m\u001b[1mwandb\u001b[0m:   1 of 1 files downloaded.  \n"
     ]
    },
    {
     "name": "stdout",
     "output_type": "stream",
     "text": [
      "2025-04-20 13:12:24,406 - INFO - Downloaded logs_a997b2oa:v0 to /scratch/downloaded_artifacts/logs_a997b2oa:v0\n"
     ]
    },
    {
     "name": "stderr",
     "output_type": "stream",
     "text": [
      "\u001b[34m\u001b[1mwandb\u001b[0m:   1 of 1 files downloaded.  \n"
     ]
    },
    {
     "name": "stdout",
     "output_type": "stream",
     "text": [
      "2025-04-20 13:12:24,451 - INFO - Downloaded logs_drlr230a:v0 to /scratch/downloaded_artifacts/logs_drlr230a:v0\n"
     ]
    },
    {
     "name": "stderr",
     "output_type": "stream",
     "text": [
      "\u001b[34m\u001b[1mwandb\u001b[0m:   1 of 1 files downloaded.  \n"
     ]
    },
    {
     "name": "stdout",
     "output_type": "stream",
     "text": [
      "2025-04-20 13:12:24,458 - INFO - Downloaded logs_vlr9960s:v0 to /scratch/downloaded_artifacts/logs_vlr9960s:v0\n"
     ]
    },
    {
     "name": "stderr",
     "output_type": "stream",
     "text": [
      "\u001b[34m\u001b[1mwandb\u001b[0m:   1 of 1 files downloaded.  \n"
     ]
    },
    {
     "name": "stdout",
     "output_type": "stream",
     "text": [
      "2025-04-20 13:12:24,676 - INFO - Downloaded logs_zm60ey1v:v0 to /scratch/downloaded_artifacts/logs_zm60ey1v:v0\n"
     ]
    },
    {
     "name": "stderr",
     "output_type": "stream",
     "text": [
      "\u001b[34m\u001b[1mwandb\u001b[0m:   1 of 1 files downloaded.  \n"
     ]
    },
    {
     "name": "stdout",
     "output_type": "stream",
     "text": [
      "2025-04-20 13:12:24,719 - INFO - Downloaded logs_uuy8vr8i:v0 to /scratch/downloaded_artifacts/logs_uuy8vr8i:v0\n"
     ]
    },
    {
     "name": "stderr",
     "output_type": "stream",
     "text": [
      "\u001b[34m\u001b[1mwandb\u001b[0m:   1 of 1 files downloaded.  \n"
     ]
    },
    {
     "name": "stdout",
     "output_type": "stream",
     "text": [
      "2025-04-20 13:12:24,890 - INFO - Downloaded logs_s8su62mh:v0 to /scratch/downloaded_artifacts/logs_s8su62mh:v0\n"
     ]
    },
    {
     "name": "stderr",
     "output_type": "stream",
     "text": [
      "\u001b[34m\u001b[1mwandb\u001b[0m:   1 of 1 files downloaded.  \n"
     ]
    },
    {
     "name": "stdout",
     "output_type": "stream",
     "text": [
      "2025-04-20 13:12:24,946 - INFO - Downloaded logs_zt3mml5e:v0 to /scratch/downloaded_artifacts/logs_zt3mml5e:v0\n"
     ]
    },
    {
     "name": "stderr",
     "output_type": "stream",
     "text": [
      "\u001b[34m\u001b[1mwandb\u001b[0m:   1 of 1 files downloaded.  \n"
     ]
    },
    {
     "name": "stdout",
     "output_type": "stream",
     "text": [
      "2025-04-20 13:12:24,957 - INFO - Downloaded logs_4ds4paul:v0 to /scratch/downloaded_artifacts/logs_4ds4paul:v0\n"
     ]
    },
    {
     "name": "stderr",
     "output_type": "stream",
     "text": [
      "\u001b[34m\u001b[1mwandb\u001b[0m:   1 of 1 files downloaded.  \n"
     ]
    },
    {
     "name": "stdout",
     "output_type": "stream",
     "text": [
      "2025-04-20 13:12:24,968 - INFO - Downloaded logs_2ly5vfvo:v0 to /scratch/downloaded_artifacts/logs_2ly5vfvo:v0\n"
     ]
    },
    {
     "name": "stderr",
     "output_type": "stream",
     "text": [
      "\u001b[34m\u001b[1mwandb\u001b[0m:   1 of 1 files downloaded.  \n"
     ]
    },
    {
     "name": "stdout",
     "output_type": "stream",
     "text": [
      "2025-04-20 13:12:25,024 - INFO - Downloaded logs_7gyeibvo:v0 to /scratch/downloaded_artifacts/logs_7gyeibvo:v0\n"
     ]
    },
    {
     "name": "stderr",
     "output_type": "stream",
     "text": [
      "\u001b[34m\u001b[1mwandb\u001b[0m:   1 of 1 files downloaded.  \n"
     ]
    },
    {
     "name": "stdout",
     "output_type": "stream",
     "text": [
      "2025-04-20 13:12:25,027 - INFO - Downloaded logs_7pkbflq1:v0 to /scratch/downloaded_artifacts/logs_7pkbflq1:v0\n"
     ]
    },
    {
     "name": "stderr",
     "output_type": "stream",
     "text": [
      "\u001b[34m\u001b[1mwandb\u001b[0m:   1 of 1 files downloaded.  \n"
     ]
    },
    {
     "name": "stdout",
     "output_type": "stream",
     "text": [
      "2025-04-20 13:12:25,124 - INFO - Downloaded logs_2kefovbb:v0 to /scratch/downloaded_artifacts/logs_2kefovbb:v0\n"
     ]
    },
    {
     "name": "stderr",
     "output_type": "stream",
     "text": [
      "\u001b[34m\u001b[1mwandb\u001b[0m:   1 of 1 files downloaded.  \n"
     ]
    },
    {
     "name": "stdout",
     "output_type": "stream",
     "text": [
      "2025-04-20 13:12:25,194 - INFO - Downloaded logs_e2kv7e7h:v0 to /scratch/downloaded_artifacts/logs_e2kv7e7h:v0\n"
     ]
    },
    {
     "name": "stderr",
     "output_type": "stream",
     "text": [
      "\u001b[34m\u001b[1mwandb\u001b[0m:   1 of 1 files downloaded.  \n"
     ]
    },
    {
     "name": "stdout",
     "output_type": "stream",
     "text": [
      "2025-04-20 13:12:25,291 - INFO - Downloaded logs_fiegt5wl:v0 to /scratch/downloaded_artifacts/logs_fiegt5wl:v0\n"
     ]
    },
    {
     "name": "stderr",
     "output_type": "stream",
     "text": [
      "\u001b[34m\u001b[1mwandb\u001b[0m:   1 of 1 files downloaded.  \n"
     ]
    },
    {
     "name": "stdout",
     "output_type": "stream",
     "text": [
      "2025-04-20 13:12:25,299 - INFO - Downloaded logs_esbrk7zh:v0 to /scratch/downloaded_artifacts/logs_esbrk7zh:v0\n"
     ]
    },
    {
     "name": "stderr",
     "output_type": "stream",
     "text": [
      "\u001b[34m\u001b[1mwandb\u001b[0m:   1 of 1 files downloaded.  \n"
     ]
    },
    {
     "name": "stdout",
     "output_type": "stream",
     "text": [
      "2025-04-20 13:12:25,341 - INFO - Downloaded logs_8sdlp2tb:v0 to /scratch/downloaded_artifacts/logs_8sdlp2tb:v0\n"
     ]
    },
    {
     "name": "stderr",
     "output_type": "stream",
     "text": [
      "\u001b[34m\u001b[1mwandb\u001b[0m:   1 of 1 files downloaded.  \n"
     ]
    },
    {
     "name": "stdout",
     "output_type": "stream",
     "text": [
      "2025-04-20 13:12:25,477 - INFO - Downloaded logs_iyig8dpg:v0 to /scratch/downloaded_artifacts/logs_iyig8dpg:v0\n"
     ]
    },
    {
     "name": "stderr",
     "output_type": "stream",
     "text": [
      "\u001b[34m\u001b[1mwandb\u001b[0m:   1 of 1 files downloaded.  \n"
     ]
    },
    {
     "name": "stdout",
     "output_type": "stream",
     "text": [
      "2025-04-20 13:12:25,542 - INFO - Downloaded logs_iihcfm3c:v0 to /scratch/downloaded_artifacts/logs_iihcfm3c:v0\n"
     ]
    },
    {
     "name": "stderr",
     "output_type": "stream",
     "text": [
      "\u001b[34m\u001b[1mwandb\u001b[0m:   1 of 1 files downloaded.  \n"
     ]
    },
    {
     "name": "stdout",
     "output_type": "stream",
     "text": [
      "2025-04-20 13:12:25,672 - INFO - Downloaded logs_rfddyk35:v0 to /scratch/downloaded_artifacts/logs_rfddyk35:v0\n"
     ]
    },
    {
     "name": "stderr",
     "output_type": "stream",
     "text": [
      "\u001b[34m\u001b[1mwandb\u001b[0m:   1 of 1 files downloaded.  \n"
     ]
    },
    {
     "name": "stdout",
     "output_type": "stream",
     "text": [
      "2025-04-20 13:12:25,749 - INFO - Downloaded logs_2dkprkuy:v0 to /scratch/downloaded_artifacts/logs_2dkprkuy:v0\n"
     ]
    },
    {
     "name": "stderr",
     "output_type": "stream",
     "text": [
      "\u001b[34m\u001b[1mwandb\u001b[0m:   1 of 1 files downloaded.  \n"
     ]
    },
    {
     "name": "stdout",
     "output_type": "stream",
     "text": [
      "2025-04-20 13:12:25,792 - INFO - Downloaded logs_y5zz3jy0:v0 to /scratch/downloaded_artifacts/logs_y5zz3jy0:v0\n"
     ]
    },
    {
     "name": "stderr",
     "output_type": "stream",
     "text": [
      "\u001b[34m\u001b[1mwandb\u001b[0m:   1 of 1 files downloaded.  \n"
     ]
    },
    {
     "name": "stdout",
     "output_type": "stream",
     "text": [
      "2025-04-20 13:12:25,800 - INFO - Downloaded logs_1xz2tv0b:v0 to /scratch/downloaded_artifacts/logs_1xz2tv0b:v0\n"
     ]
    },
    {
     "name": "stderr",
     "output_type": "stream",
     "text": [
      "\u001b[34m\u001b[1mwandb\u001b[0m:   1 of 1 files downloaded.  \n"
     ]
    },
    {
     "name": "stdout",
     "output_type": "stream",
     "text": [
      "2025-04-20 13:12:25,914 - INFO - Downloaded logs_oo8zwz1c:v0 to /scratch/downloaded_artifacts/logs_oo8zwz1c:v0\n"
     ]
    },
    {
     "name": "stderr",
     "output_type": "stream",
     "text": [
      "\u001b[34m\u001b[1mwandb\u001b[0m:   1 of 1 files downloaded.  \n"
     ]
    },
    {
     "name": "stdout",
     "output_type": "stream",
     "text": [
      "2025-04-20 13:12:25,948 - INFO - Downloaded logs_alkhaxnp:v0 to /scratch/downloaded_artifacts/logs_alkhaxnp:v0\n"
     ]
    },
    {
     "name": "stderr",
     "output_type": "stream",
     "text": [
      "\u001b[34m\u001b[1mwandb\u001b[0m:   1 of 1 files downloaded.  \n"
     ]
    },
    {
     "name": "stdout",
     "output_type": "stream",
     "text": [
      "2025-04-20 13:12:26,104 - INFO - Downloaded logs_vryq784o:v0 to /scratch/downloaded_artifacts/logs_vryq784o:v0\n"
     ]
    },
    {
     "name": "stderr",
     "output_type": "stream",
     "text": [
      "\u001b[34m\u001b[1mwandb\u001b[0m:   1 of 1 files downloaded.  \n"
     ]
    },
    {
     "name": "stdout",
     "output_type": "stream",
     "text": [
      "2025-04-20 13:12:26,171 - INFO - Downloaded logs_qcz9sa6h:v0 to /scratch/downloaded_artifacts/logs_qcz9sa6h:v0\n"
     ]
    },
    {
     "name": "stderr",
     "output_type": "stream",
     "text": [
      "\u001b[34m\u001b[1mwandb\u001b[0m:   1 of 1 files downloaded.  \n"
     ]
    },
    {
     "name": "stdout",
     "output_type": "stream",
     "text": [
      "2025-04-20 13:12:26,350 - INFO - Downloaded logs_b22fbb71:v0 to /scratch/downloaded_artifacts/logs_b22fbb71:v0\n"
     ]
    },
    {
     "name": "stderr",
     "output_type": "stream",
     "text": [
      "\u001b[34m\u001b[1mwandb\u001b[0m:   1 of 1 files downloaded.  \n"
     ]
    },
    {
     "name": "stdout",
     "output_type": "stream",
     "text": [
      "2025-04-20 13:12:26,380 - INFO - Downloaded logs_wxyt9jta:v0 to /scratch/downloaded_artifacts/logs_wxyt9jta:v0\n"
     ]
    },
    {
     "name": "stderr",
     "output_type": "stream",
     "text": [
      "\u001b[34m\u001b[1mwandb\u001b[0m:   1 of 1 files downloaded.  \n"
     ]
    },
    {
     "name": "stdout",
     "output_type": "stream",
     "text": [
      "2025-04-20 13:12:26,385 - INFO - Downloaded logs_5b8uvpha:v0 to /scratch/downloaded_artifacts/logs_5b8uvpha:v0\n"
     ]
    },
    {
     "name": "stderr",
     "output_type": "stream",
     "text": [
      "\u001b[34m\u001b[1mwandb\u001b[0m:   1 of 1 files downloaded.  \n"
     ]
    },
    {
     "name": "stdout",
     "output_type": "stream",
     "text": [
      "2025-04-20 13:12:26,467 - INFO - Downloaded logs_yncmltlw:v0 to /scratch/downloaded_artifacts/logs_yncmltlw:v0\n"
     ]
    },
    {
     "name": "stderr",
     "output_type": "stream",
     "text": [
      "\u001b[34m\u001b[1mwandb\u001b[0m:   1 of 1 files downloaded.  \n"
     ]
    },
    {
     "name": "stdout",
     "output_type": "stream",
     "text": [
      "2025-04-20 13:12:26,487 - INFO - Downloaded logs_2qiys05i:v0 to /scratch/downloaded_artifacts/logs_2qiys05i:v0\n"
     ]
    },
    {
     "name": "stderr",
     "output_type": "stream",
     "text": [
      "\u001b[34m\u001b[1mwandb\u001b[0m: \u001b[32m\u001b[41mERROR\u001b[0m Error while calling W&B API: rate limit exceeded (<Response [429]>)\n",
      "\u001b[34m\u001b[1mwandb\u001b[0m: \u001b[32m\u001b[41mERROR\u001b[0m Error while calling W&B API: rate limit exceeded (<Response [429]>)\n",
      "\u001b[34m\u001b[1mwandb\u001b[0m: \u001b[32m\u001b[41mERROR\u001b[0m Error while calling W&B API: rate limit exceeded (<Response [429]>)\n",
      "\u001b[34m\u001b[1mwandb\u001b[0m:   1 of 1 files downloaded.  \n"
     ]
    },
    {
     "name": "stdout",
     "output_type": "stream",
     "text": [
      "2025-04-20 13:12:26,534 - INFO - Downloaded logs_04wgnigl:v0 to /scratch/downloaded_artifacts/logs_04wgnigl:v0\n"
     ]
    },
    {
     "name": "stderr",
     "output_type": "stream",
     "text": [
      "\u001b[34m\u001b[1mwandb\u001b[0m: \u001b[32m\u001b[41mERROR\u001b[0m Error while calling W&B API: rate limit exceeded (<Response [429]>)\n",
      "\u001b[34m\u001b[1mwandb\u001b[0m:   1 of 1 files downloaded.  \n"
     ]
    },
    {
     "name": "stdout",
     "output_type": "stream",
     "text": [
      "2025-04-20 13:12:26,625 - INFO - Downloaded logs_5cuyg8qa:v0 to /scratch/downloaded_artifacts/logs_5cuyg8qa:v0\n"
     ]
    },
    {
     "name": "stderr",
     "output_type": "stream",
     "text": [
      "\u001b[34m\u001b[1mwandb\u001b[0m: \u001b[32m\u001b[41mERROR\u001b[0m Error while calling W&B API: rate limit exceeded (<Response [429]>)\n",
      "\u001b[34m\u001b[1mwandb\u001b[0m:   1 of 1 files downloaded.  \n"
     ]
    },
    {
     "name": "stdout",
     "output_type": "stream",
     "text": [
      "2025-04-20 13:12:26,674 - INFO - Downloaded logs_8kxgocrp:v0 to /scratch/downloaded_artifacts/logs_8kxgocrp:v0\n"
     ]
    },
    {
     "name": "stderr",
     "output_type": "stream",
     "text": [
      "\u001b[34m\u001b[1mwandb\u001b[0m:   1 of 1 files downloaded.  \n"
     ]
    },
    {
     "name": "stdout",
     "output_type": "stream",
     "text": [
      "2025-04-20 13:12:26,676 - INFO - Downloaded logs_rvyi9acx:v0 to /scratch/downloaded_artifacts/logs_rvyi9acx:v0\n"
     ]
    },
    {
     "name": "stderr",
     "output_type": "stream",
     "text": [
      "\u001b[34m\u001b[1mwandb\u001b[0m:   1 of 1 files downloaded.  \n"
     ]
    },
    {
     "name": "stdout",
     "output_type": "stream",
     "text": [
      "2025-04-20 13:12:26,858 - INFO - Downloaded logs_zb5ldowr:v0 to /scratch/downloaded_artifacts/logs_zb5ldowr:v0\n"
     ]
    },
    {
     "name": "stderr",
     "output_type": "stream",
     "text": [
      "\u001b[34m\u001b[1mwandb\u001b[0m:   1 of 1 files downloaded.  \n"
     ]
    },
    {
     "name": "stdout",
     "output_type": "stream",
     "text": [
      "2025-04-20 13:12:26,865 - INFO - Downloaded logs_4m6l02kd:v0 to /scratch/downloaded_artifacts/logs_4m6l02kd:v0\n"
     ]
    },
    {
     "name": "stderr",
     "output_type": "stream",
     "text": [
      "\u001b[34m\u001b[1mwandb\u001b[0m:   1 of 1 files downloaded.  \n"
     ]
    },
    {
     "name": "stdout",
     "output_type": "stream",
     "text": [
      "2025-04-20 13:12:26,872 - INFO - Downloaded logs_7ppautwb:v0 to /scratch/downloaded_artifacts/logs_7ppautwb:v0\n"
     ]
    },
    {
     "name": "stderr",
     "output_type": "stream",
     "text": [
      "\u001b[34m\u001b[1mwandb\u001b[0m:   1 of 1 files downloaded.  \n"
     ]
    },
    {
     "name": "stdout",
     "output_type": "stream",
     "text": [
      "2025-04-20 13:12:26,963 - INFO - Downloaded logs_c9pdhx0p:v0 to /scratch/downloaded_artifacts/logs_c9pdhx0p:v0\n"
     ]
    },
    {
     "name": "stderr",
     "output_type": "stream",
     "text": [
      "\u001b[34m\u001b[1mwandb\u001b[0m:   1 of 1 files downloaded.  \n"
     ]
    },
    {
     "name": "stdout",
     "output_type": "stream",
     "text": [
      "2025-04-20 13:12:26,983 - INFO - Downloaded logs_929xclng:v0 to /scratch/downloaded_artifacts/logs_929xclng:v0\n"
     ]
    },
    {
     "name": "stderr",
     "output_type": "stream",
     "text": [
      "\u001b[34m\u001b[1mwandb\u001b[0m:   1 of 1 files downloaded.  \n"
     ]
    },
    {
     "name": "stdout",
     "output_type": "stream",
     "text": [
      "2025-04-20 13:12:27,088 - INFO - Downloaded logs_euvj7blp:v0 to /scratch/downloaded_artifacts/logs_euvj7blp:v0\n"
     ]
    },
    {
     "name": "stderr",
     "output_type": "stream",
     "text": [
      "\u001b[34m\u001b[1mwandb\u001b[0m:   1 of 1 files downloaded.  \n"
     ]
    },
    {
     "name": "stdout",
     "output_type": "stream",
     "text": [
      "2025-04-20 13:12:27,164 - INFO - Downloaded logs_csiixzle:v0 to /scratch/downloaded_artifacts/logs_csiixzle:v0\n"
     ]
    },
    {
     "name": "stderr",
     "output_type": "stream",
     "text": [
      "\u001b[34m\u001b[1mwandb\u001b[0m:   1 of 1 files downloaded.  \n"
     ]
    },
    {
     "name": "stdout",
     "output_type": "stream",
     "text": [
      "2025-04-20 13:12:27,199 - INFO - Downloaded logs_jfxziyl0:v0 to /scratch/downloaded_artifacts/logs_jfxziyl0:v0\n"
     ]
    },
    {
     "name": "stderr",
     "output_type": "stream",
     "text": [
      "\u001b[34m\u001b[1mwandb\u001b[0m:   1 of 1 files downloaded.  \n"
     ]
    },
    {
     "name": "stdout",
     "output_type": "stream",
     "text": [
      "2025-04-20 13:12:27,302 - INFO - Downloaded logs_f8bhzeps:v0 to /scratch/downloaded_artifacts/logs_f8bhzeps:v0\n"
     ]
    },
    {
     "name": "stderr",
     "output_type": "stream",
     "text": [
      "\u001b[34m\u001b[1mwandb\u001b[0m: \u001b[32m\u001b[41mERROR\u001b[0m Error while calling W&B API: rate limit exceeded (<Response [429]>)\n",
      "\u001b[34m\u001b[1mwandb\u001b[0m: \u001b[32m\u001b[41mERROR\u001b[0m Error while calling W&B API: rate limit exceeded (<Response [429]>)\n",
      "\u001b[34m\u001b[1mwandb\u001b[0m: \u001b[32m\u001b[41mERROR\u001b[0m Error while calling W&B API: rate limit exceeded (<Response [429]>)\n",
      "\u001b[34m\u001b[1mwandb\u001b[0m: \u001b[32m\u001b[41mERROR\u001b[0m Error while calling W&B API: rate limit exceeded (<Response [429]>)\n",
      "\u001b[34m\u001b[1mwandb\u001b[0m: \u001b[32m\u001b[41mERROR\u001b[0m Error while calling W&B API: rate limit exceeded (<Response [429]>)\n",
      "\u001b[34m\u001b[1mwandb\u001b[0m: Network error (HTTPError), entering retry loop.\n",
      "\u001b[34m\u001b[1mwandb\u001b[0m: \u001b[32m\u001b[41mERROR\u001b[0m Error while calling W&B API: rate limit exceeded (<Response [429]>)\n",
      "\u001b[34m\u001b[1mwandb\u001b[0m: Network error (HTTPError), entering retry loop.\n",
      "\u001b[34m\u001b[1mwandb\u001b[0m: \u001b[32m\u001b[41mERROR\u001b[0m Error while calling W&B API: rate limit exceeded (<Response [429]>)\n",
      "\u001b[34m\u001b[1mwandb\u001b[0m: Network error (HTTPError), entering retry loop.\n",
      "\u001b[34m\u001b[1mwandb\u001b[0m: \u001b[32m\u001b[41mERROR\u001b[0m Error while calling W&B API: rate limit exceeded (<Response [429]>)\n",
      "\u001b[34m\u001b[1mwandb\u001b[0m: Network error (HTTPError), entering retry loop.\n",
      "\u001b[34m\u001b[1mwandb\u001b[0m:   1 of 1 files downloaded.  \n"
     ]
    },
    {
     "name": "stdout",
     "output_type": "stream",
     "text": [
      "2025-04-20 13:12:31,192 - INFO - Downloaded logs_ttl00tpk:v0 to /scratch/downloaded_artifacts/logs_ttl00tpk:v0\n"
     ]
    },
    {
     "name": "stderr",
     "output_type": "stream",
     "text": [
      "\u001b[34m\u001b[1mwandb\u001b[0m:   1 of 1 files downloaded.  \n"
     ]
    },
    {
     "name": "stdout",
     "output_type": "stream",
     "text": [
      "2025-04-20 13:12:31,381 - INFO - Downloaded logs_tr37d3aa:v0 to /scratch/downloaded_artifacts/logs_tr37d3aa:v0\n"
     ]
    },
    {
     "name": "stderr",
     "output_type": "stream",
     "text": [
      "\u001b[34m\u001b[1mwandb\u001b[0m:   1 of 1 files downloaded.  \n"
     ]
    },
    {
     "name": "stdout",
     "output_type": "stream",
     "text": [
      "2025-04-20 13:12:31,422 - INFO - Downloaded logs_ww2h99uc:v0 to /scratch/downloaded_artifacts/logs_ww2h99uc:v0\n"
     ]
    },
    {
     "name": "stderr",
     "output_type": "stream",
     "text": [
      "\u001b[34m\u001b[1mwandb\u001b[0m:   1 of 1 files downloaded.  \n"
     ]
    },
    {
     "name": "stdout",
     "output_type": "stream",
     "text": [
      "2025-04-20 13:12:31,521 - INFO - Downloaded logs_4pvxsdic:v0 to /scratch/downloaded_artifacts/logs_4pvxsdic:v0\n"
     ]
    },
    {
     "name": "stderr",
     "output_type": "stream",
     "text": [
      "\u001b[34m\u001b[1mwandb\u001b[0m:   1 of 1 files downloaded.  \n"
     ]
    },
    {
     "name": "stdout",
     "output_type": "stream",
     "text": [
      "2025-04-20 13:12:31,564 - INFO - Downloaded logs_wfnj6ipo:v0 to /scratch/downloaded_artifacts/logs_wfnj6ipo:v0\n"
     ]
    },
    {
     "name": "stderr",
     "output_type": "stream",
     "text": [
      "\u001b[34m\u001b[1mwandb\u001b[0m:   1 of 1 files downloaded.  \n"
     ]
    },
    {
     "name": "stdout",
     "output_type": "stream",
     "text": [
      "2025-04-20 13:12:31,574 - INFO - Downloaded logs_6czr1cxf:v0 to /scratch/downloaded_artifacts/logs_6czr1cxf:v0\n"
     ]
    },
    {
     "name": "stderr",
     "output_type": "stream",
     "text": [
      "\u001b[34m\u001b[1mwandb\u001b[0m:   1 of 1 files downloaded.  \n"
     ]
    },
    {
     "name": "stdout",
     "output_type": "stream",
     "text": [
      "2025-04-20 13:12:31,623 - INFO - Downloaded logs_iwwz8ysp:v0 to /scratch/downloaded_artifacts/logs_iwwz8ysp:v0\n"
     ]
    },
    {
     "name": "stderr",
     "output_type": "stream",
     "text": [
      "\u001b[34m\u001b[1mwandb\u001b[0m:   1 of 1 files downloaded.  \n"
     ]
    },
    {
     "name": "stdout",
     "output_type": "stream",
     "text": [
      "2025-04-20 13:12:31,651 - INFO - Downloaded logs_ascy1xo0:v0 to /scratch/downloaded_artifacts/logs_ascy1xo0:v0\n"
     ]
    },
    {
     "name": "stderr",
     "output_type": "stream",
     "text": [
      "\u001b[34m\u001b[1mwandb\u001b[0m:   1 of 1 files downloaded.  \n"
     ]
    },
    {
     "name": "stdout",
     "output_type": "stream",
     "text": [
      "2025-04-20 13:12:31,695 - INFO - Downloaded logs_yqbklsb4:v0 to /scratch/downloaded_artifacts/logs_yqbklsb4:v0\n"
     ]
    },
    {
     "name": "stderr",
     "output_type": "stream",
     "text": [
      "\u001b[34m\u001b[1mwandb\u001b[0m:   1 of 1 files downloaded.  \n"
     ]
    },
    {
     "name": "stdout",
     "output_type": "stream",
     "text": [
      "2025-04-20 13:12:31,706 - INFO - Downloaded logs_maafesl6:v0 to /scratch/downloaded_artifacts/logs_maafesl6:v0\n"
     ]
    },
    {
     "name": "stderr",
     "output_type": "stream",
     "text": [
      "\u001b[34m\u001b[1mwandb\u001b[0m:   1 of 1 files downloaded.  \n"
     ]
    },
    {
     "name": "stdout",
     "output_type": "stream",
     "text": [
      "2025-04-20 13:12:31,743 - INFO - Downloaded logs_fa6auw9s:v0 to /scratch/downloaded_artifacts/logs_fa6auw9s:v0\n"
     ]
    },
    {
     "name": "stderr",
     "output_type": "stream",
     "text": [
      "\u001b[34m\u001b[1mwandb\u001b[0m:   1 of 1 files downloaded.  \n"
     ]
    },
    {
     "name": "stdout",
     "output_type": "stream",
     "text": [
      "2025-04-20 13:12:31,778 - INFO - Downloaded logs_5xx4y81q:v0 to /scratch/downloaded_artifacts/logs_5xx4y81q:v0\n"
     ]
    },
    {
     "name": "stderr",
     "output_type": "stream",
     "text": [
      "\u001b[34m\u001b[1mwandb\u001b[0m:   1 of 1 files downloaded.  \n"
     ]
    },
    {
     "name": "stdout",
     "output_type": "stream",
     "text": [
      "2025-04-20 13:12:31,910 - INFO - Downloaded logs_f2hrzlx6:v0 to /scratch/downloaded_artifacts/logs_f2hrzlx6:v0\n"
     ]
    },
    {
     "name": "stderr",
     "output_type": "stream",
     "text": [
      "\u001b[34m\u001b[1mwandb\u001b[0m:   1 of 1 files downloaded.  \n"
     ]
    },
    {
     "name": "stdout",
     "output_type": "stream",
     "text": [
      "2025-04-20 13:12:31,985 - INFO - Downloaded logs_1qsq3jbv:v0 to /scratch/downloaded_artifacts/logs_1qsq3jbv:v0\n"
     ]
    },
    {
     "name": "stderr",
     "output_type": "stream",
     "text": [
      "\u001b[34m\u001b[1mwandb\u001b[0m:   1 of 1 files downloaded.  \n"
     ]
    },
    {
     "name": "stdout",
     "output_type": "stream",
     "text": [
      "2025-04-20 13:12:32,005 - INFO - Downloaded logs_97yuz3p7:v0 to /scratch/downloaded_artifacts/logs_97yuz3p7:v0\n"
     ]
    },
    {
     "name": "stderr",
     "output_type": "stream",
     "text": [
      "\u001b[34m\u001b[1mwandb\u001b[0m:   1 of 1 files downloaded.  \n"
     ]
    },
    {
     "name": "stdout",
     "output_type": "stream",
     "text": [
      "2025-04-20 13:12:32,027 - INFO - Downloaded logs_b0dllrww:v0 to /scratch/downloaded_artifacts/logs_b0dllrww:v0\n"
     ]
    },
    {
     "name": "stderr",
     "output_type": "stream",
     "text": [
      "\u001b[34m\u001b[1mwandb\u001b[0m:   1 of 1 files downloaded.  \n"
     ]
    },
    {
     "name": "stdout",
     "output_type": "stream",
     "text": [
      "2025-04-20 13:12:32,427 - INFO - Downloaded logs_ip7uf910:v0 to /scratch/downloaded_artifacts/logs_ip7uf910:v0\n"
     ]
    },
    {
     "name": "stderr",
     "output_type": "stream",
     "text": [
      "\u001b[34m\u001b[1mwandb\u001b[0m:   1 of 1 files downloaded.  \n"
     ]
    },
    {
     "name": "stdout",
     "output_type": "stream",
     "text": [
      "2025-04-20 13:12:32,639 - INFO - Downloaded logs_j7lb0mxh:v0 to /scratch/downloaded_artifacts/logs_j7lb0mxh:v0\n"
     ]
    },
    {
     "name": "stderr",
     "output_type": "stream",
     "text": [
      "\u001b[34m\u001b[1mwandb\u001b[0m:   1 of 1 files downloaded.  \n"
     ]
    },
    {
     "name": "stdout",
     "output_type": "stream",
     "text": [
      "2025-04-20 13:12:32,720 - INFO - Downloaded logs_mrc8evsc:v0 to /scratch/downloaded_artifacts/logs_mrc8evsc:v0\n"
     ]
    },
    {
     "name": "stderr",
     "output_type": "stream",
     "text": [
      "\u001b[34m\u001b[1mwandb\u001b[0m:   1 of 1 files downloaded.  \n"
     ]
    },
    {
     "name": "stdout",
     "output_type": "stream",
     "text": [
      "2025-04-20 13:12:33,025 - INFO - Downloaded logs_yj0cqeob:v0 to /scratch/downloaded_artifacts/logs_yj0cqeob:v0\n"
     ]
    },
    {
     "name": "stderr",
     "output_type": "stream",
     "text": [
      "\u001b[34m\u001b[1mwandb\u001b[0m:   1 of 1 files downloaded.  \n"
     ]
    },
    {
     "name": "stdout",
     "output_type": "stream",
     "text": [
      "2025-04-20 13:12:33,051 - INFO - Downloaded logs_wrfz5yix:v0 to /scratch/downloaded_artifacts/logs_wrfz5yix:v0\n"
     ]
    },
    {
     "name": "stderr",
     "output_type": "stream",
     "text": [
      "\u001b[34m\u001b[1mwandb\u001b[0m:   1 of 1 files downloaded.  \n"
     ]
    },
    {
     "name": "stdout",
     "output_type": "stream",
     "text": [
      "2025-04-20 13:12:33,110 - INFO - Downloaded logs_sy7l98ib:v0 to /scratch/downloaded_artifacts/logs_sy7l98ib:v0\n"
     ]
    },
    {
     "name": "stderr",
     "output_type": "stream",
     "text": [
      "\u001b[34m\u001b[1mwandb\u001b[0m:   1 of 1 files downloaded.  \n"
     ]
    },
    {
     "name": "stdout",
     "output_type": "stream",
     "text": [
      "2025-04-20 13:12:33,138 - INFO - Downloaded logs_syuvaaso:v0 to /scratch/downloaded_artifacts/logs_syuvaaso:v0\n"
     ]
    },
    {
     "name": "stderr",
     "output_type": "stream",
     "text": [
      "\u001b[34m\u001b[1mwandb\u001b[0m:   1 of 1 files downloaded.  \n"
     ]
    },
    {
     "name": "stdout",
     "output_type": "stream",
     "text": [
      "2025-04-20 13:12:33,156 - INFO - Downloaded logs_z1zrqf8w:v0 to /scratch/downloaded_artifacts/logs_z1zrqf8w:v0\n"
     ]
    },
    {
     "name": "stderr",
     "output_type": "stream",
     "text": [
      "\u001b[34m\u001b[1mwandb\u001b[0m:   1 of 1 files downloaded.  \n"
     ]
    },
    {
     "name": "stdout",
     "output_type": "stream",
     "text": [
      "2025-04-20 13:12:33,167 - INFO - Downloaded logs_xrkb8np5:v0 to /scratch/downloaded_artifacts/logs_xrkb8np5:v0\n"
     ]
    },
    {
     "name": "stderr",
     "output_type": "stream",
     "text": [
      "\u001b[34m\u001b[1mwandb\u001b[0m:   1 of 1 files downloaded.  \n"
     ]
    },
    {
     "name": "stdout",
     "output_type": "stream",
     "text": [
      "2025-04-20 13:12:33,223 - INFO - Downloaded logs_y019q51n:v0 to /scratch/downloaded_artifacts/logs_y019q51n:v0\n"
     ]
    },
    {
     "name": "stderr",
     "output_type": "stream",
     "text": [
      "\u001b[34m\u001b[1mwandb\u001b[0m:   1 of 1 files downloaded.  \n"
     ]
    },
    {
     "name": "stdout",
     "output_type": "stream",
     "text": [
      "2025-04-20 13:12:33,232 - INFO - Downloaded logs_u2j30nuf:v0 to /scratch/downloaded_artifacts/logs_u2j30nuf:v0\n"
     ]
    },
    {
     "name": "stderr",
     "output_type": "stream",
     "text": [
      "\u001b[34m\u001b[1mwandb\u001b[0m:   1 of 1 files downloaded.  \n"
     ]
    },
    {
     "name": "stdout",
     "output_type": "stream",
     "text": [
      "2025-04-20 13:12:33,285 - INFO - Downloaded logs_e5xevr85:v0 to /scratch/downloaded_artifacts/logs_e5xevr85:v0\n"
     ]
    },
    {
     "name": "stderr",
     "output_type": "stream",
     "text": [
      "\u001b[34m\u001b[1mwandb\u001b[0m:   1 of 1 files downloaded.  \n"
     ]
    },
    {
     "name": "stdout",
     "output_type": "stream",
     "text": [
      "2025-04-20 13:12:33,297 - INFO - Downloaded logs_69vksvau:v0 to /scratch/downloaded_artifacts/logs_69vksvau:v0\n"
     ]
    },
    {
     "name": "stderr",
     "output_type": "stream",
     "text": [
      "\u001b[34m\u001b[1mwandb\u001b[0m:   1 of 1 files downloaded.  \n"
     ]
    },
    {
     "name": "stdout",
     "output_type": "stream",
     "text": [
      "2025-04-20 13:12:33,354 - INFO - Downloaded logs_mqv518rp:v0 to /scratch/downloaded_artifacts/logs_mqv518rp:v0\n"
     ]
    },
    {
     "name": "stderr",
     "output_type": "stream",
     "text": [
      "\u001b[34m\u001b[1mwandb\u001b[0m:   1 of 1 files downloaded.  \n"
     ]
    },
    {
     "name": "stdout",
     "output_type": "stream",
     "text": [
      "2025-04-20 13:12:33,363 - INFO - Downloaded logs_0v23qosm:v0 to /scratch/downloaded_artifacts/logs_0v23qosm:v0\n"
     ]
    },
    {
     "name": "stderr",
     "output_type": "stream",
     "text": [
      "\u001b[34m\u001b[1mwandb\u001b[0m:   1 of 1 files downloaded.  \n"
     ]
    },
    {
     "name": "stdout",
     "output_type": "stream",
     "text": [
      "2025-04-20 13:12:33,399 - INFO - Downloaded logs_229xecfv:v0 to /scratch/downloaded_artifacts/logs_229xecfv:v0\n"
     ]
    },
    {
     "name": "stderr",
     "output_type": "stream",
     "text": [
      "\u001b[34m\u001b[1mwandb\u001b[0m:   1 of 1 files downloaded.  \n"
     ]
    },
    {
     "name": "stdout",
     "output_type": "stream",
     "text": [
      "2025-04-20 13:12:33,876 - INFO - Downloaded logs_38aq2sr0:v0 to /scratch/downloaded_artifacts/logs_38aq2sr0:v0\n"
     ]
    },
    {
     "name": "stderr",
     "output_type": "stream",
     "text": [
      "\u001b[34m\u001b[1mwandb\u001b[0m:   1 of 1 files downloaded.  \n"
     ]
    },
    {
     "name": "stdout",
     "output_type": "stream",
     "text": [
      "2025-04-20 13:12:34,002 - INFO - Downloaded logs_8fbb6pge:v0 to /scratch/downloaded_artifacts/logs_8fbb6pge:v0\n"
     ]
    },
    {
     "name": "stderr",
     "output_type": "stream",
     "text": [
      "\u001b[34m\u001b[1mwandb\u001b[0m:   1 of 1 files downloaded.  \n"
     ]
    },
    {
     "name": "stdout",
     "output_type": "stream",
     "text": [
      "2025-04-20 13:12:34,165 - INFO - Downloaded logs_hugdvra5:v0 to /scratch/downloaded_artifacts/logs_hugdvra5:v0\n"
     ]
    },
    {
     "name": "stderr",
     "output_type": "stream",
     "text": [
      "\u001b[34m\u001b[1mwandb\u001b[0m:   1 of 1 files downloaded.  \n"
     ]
    },
    {
     "name": "stdout",
     "output_type": "stream",
     "text": [
      "2025-04-20 13:12:34,416 - INFO - Downloaded logs_7nk79amh:v0 to /scratch/downloaded_artifacts/logs_7nk79amh:v0\n"
     ]
    },
    {
     "name": "stderr",
     "output_type": "stream",
     "text": [
      "\u001b[34m\u001b[1mwandb\u001b[0m:   1 of 1 files downloaded.  \n"
     ]
    },
    {
     "name": "stdout",
     "output_type": "stream",
     "text": [
      "2025-04-20 13:12:34,494 - INFO - Downloaded logs_eacqd0a2:v0 to /scratch/downloaded_artifacts/logs_eacqd0a2:v0\n"
     ]
    },
    {
     "name": "stderr",
     "output_type": "stream",
     "text": [
      "\u001b[34m\u001b[1mwandb\u001b[0m:   1 of 1 files downloaded.  \n"
     ]
    },
    {
     "name": "stdout",
     "output_type": "stream",
     "text": [
      "2025-04-20 13:12:34,559 - INFO - Downloaded logs_egojrwi5:v0 to /scratch/downloaded_artifacts/logs_egojrwi5:v0\n"
     ]
    },
    {
     "name": "stderr",
     "output_type": "stream",
     "text": [
      "\u001b[34m\u001b[1mwandb\u001b[0m:   1 of 1 files downloaded.  \n"
     ]
    },
    {
     "name": "stdout",
     "output_type": "stream",
     "text": [
      "2025-04-20 13:12:34,659 - INFO - Downloaded logs_akt2fof8:v0 to /scratch/downloaded_artifacts/logs_akt2fof8:v0\n"
     ]
    },
    {
     "name": "stderr",
     "output_type": "stream",
     "text": [
      "\u001b[34m\u001b[1mwandb\u001b[0m:   1 of 1 files downloaded.  \n"
     ]
    },
    {
     "name": "stdout",
     "output_type": "stream",
     "text": [
      "2025-04-20 13:12:34,684 - INFO - Downloaded logs_hic8rg4a:v0 to /scratch/downloaded_artifacts/logs_hic8rg4a:v0\n"
     ]
    },
    {
     "name": "stderr",
     "output_type": "stream",
     "text": [
      "\u001b[34m\u001b[1mwandb\u001b[0m:   1 of 1 files downloaded.  \n"
     ]
    },
    {
     "name": "stdout",
     "output_type": "stream",
     "text": [
      "2025-04-20 13:12:34,775 - INFO - Downloaded logs_bmdjxm6n:v0 to /scratch/downloaded_artifacts/logs_bmdjxm6n:v0\n"
     ]
    },
    {
     "name": "stderr",
     "output_type": "stream",
     "text": [
      "\u001b[34m\u001b[1mwandb\u001b[0m:   1 of 1 files downloaded.  \n"
     ]
    },
    {
     "name": "stdout",
     "output_type": "stream",
     "text": [
      "2025-04-20 13:12:34,826 - INFO - Downloaded logs_i6yzv4cz:v0 to /scratch/downloaded_artifacts/logs_i6yzv4cz:v0\n"
     ]
    },
    {
     "name": "stderr",
     "output_type": "stream",
     "text": [
      "\u001b[34m\u001b[1mwandb\u001b[0m:   1 of 1 files downloaded.  \n"
     ]
    },
    {
     "name": "stdout",
     "output_type": "stream",
     "text": [
      "2025-04-20 13:12:34,915 - INFO - Downloaded logs_jjxyhyzm:v0 to /scratch/downloaded_artifacts/logs_jjxyhyzm:v0\n"
     ]
    },
    {
     "name": "stderr",
     "output_type": "stream",
     "text": [
      "\u001b[34m\u001b[1mwandb\u001b[0m:   1 of 1 files downloaded.  \n"
     ]
    },
    {
     "name": "stdout",
     "output_type": "stream",
     "text": [
      "2025-04-20 13:12:34,950 - INFO - Downloaded logs_eqb0yutd:v0 to /scratch/downloaded_artifacts/logs_eqb0yutd:v0\n"
     ]
    },
    {
     "name": "stderr",
     "output_type": "stream",
     "text": [
      "\u001b[34m\u001b[1mwandb\u001b[0m:   1 of 1 files downloaded.  \n"
     ]
    },
    {
     "name": "stdout",
     "output_type": "stream",
     "text": [
      "2025-04-20 13:12:35,031 - INFO - Downloaded logs_t2av26co:v0 to /scratch/downloaded_artifacts/logs_t2av26co:v0\n"
     ]
    },
    {
     "name": "stderr",
     "output_type": "stream",
     "text": [
      "\u001b[34m\u001b[1mwandb\u001b[0m:   1 of 1 files downloaded.  \n"
     ]
    },
    {
     "name": "stdout",
     "output_type": "stream",
     "text": [
      "2025-04-20 13:12:35,095 - INFO - Downloaded logs_ehx0ki5h:v0 to /scratch/downloaded_artifacts/logs_ehx0ki5h:v0\n"
     ]
    },
    {
     "name": "stderr",
     "output_type": "stream",
     "text": [
      "\u001b[34m\u001b[1mwandb\u001b[0m:   1 of 1 files downloaded.  \n"
     ]
    },
    {
     "name": "stdout",
     "output_type": "stream",
     "text": [
      "2025-04-20 13:12:35,175 - INFO - Downloaded logs_xp3uevrd:v0 to /scratch/downloaded_artifacts/logs_xp3uevrd:v0\n"
     ]
    },
    {
     "name": "stderr",
     "output_type": "stream",
     "text": [
      "\u001b[34m\u001b[1mwandb\u001b[0m:   1 of 1 files downloaded.  \n"
     ]
    },
    {
     "name": "stdout",
     "output_type": "stream",
     "text": [
      "2025-04-20 13:12:35,259 - INFO - Downloaded logs_eq43ewys:v0 to /scratch/downloaded_artifacts/logs_eq43ewys:v0\n"
     ]
    },
    {
     "name": "stderr",
     "output_type": "stream",
     "text": [
      "\u001b[34m\u001b[1mwandb\u001b[0m:   1 of 1 files downloaded.  \n"
     ]
    },
    {
     "name": "stdout",
     "output_type": "stream",
     "text": [
      "2025-04-20 13:12:35,323 - INFO - Downloaded logs_t9muoltc:v0 to /scratch/downloaded_artifacts/logs_t9muoltc:v0\n"
     ]
    },
    {
     "name": "stderr",
     "output_type": "stream",
     "text": [
      "\u001b[34m\u001b[1mwandb\u001b[0m:   1 of 1 files downloaded.  \n"
     ]
    },
    {
     "name": "stdout",
     "output_type": "stream",
     "text": [
      "2025-04-20 13:12:35,340 - INFO - Downloaded logs_plza1co4:v0 to /scratch/downloaded_artifacts/logs_plza1co4:v0\n"
     ]
    },
    {
     "name": "stderr",
     "output_type": "stream",
     "text": [
      "\u001b[34m\u001b[1mwandb\u001b[0m:   1 of 1 files downloaded.  \n"
     ]
    },
    {
     "name": "stdout",
     "output_type": "stream",
     "text": [
      "2025-04-20 13:12:35,479 - INFO - Downloaded logs_ezz8q1k1:v0 to /scratch/downloaded_artifacts/logs_ezz8q1k1:v0\n"
     ]
    },
    {
     "name": "stderr",
     "output_type": "stream",
     "text": [
      "\u001b[34m\u001b[1mwandb\u001b[0m:   1 of 1 files downloaded.  \n"
     ]
    },
    {
     "name": "stdout",
     "output_type": "stream",
     "text": [
      "2025-04-20 13:12:35,503 - INFO - Downloaded logs_usra99l0:v0 to /scratch/downloaded_artifacts/logs_usra99l0:v0\n"
     ]
    },
    {
     "name": "stderr",
     "output_type": "stream",
     "text": [
      "\u001b[34m\u001b[1mwandb\u001b[0m:   1 of 1 files downloaded.  \n"
     ]
    },
    {
     "name": "stdout",
     "output_type": "stream",
     "text": [
      "2025-04-20 13:12:35,534 - INFO - Downloaded logs_lcxlqcnc:v0 to /scratch/downloaded_artifacts/logs_lcxlqcnc:v0\n"
     ]
    },
    {
     "name": "stderr",
     "output_type": "stream",
     "text": [
      "\u001b[34m\u001b[1mwandb\u001b[0m:   1 of 1 files downloaded.  \n"
     ]
    },
    {
     "name": "stdout",
     "output_type": "stream",
     "text": [
      "2025-04-20 13:12:35,571 - INFO - Downloaded logs_y6zzm0ph:v0 to /scratch/downloaded_artifacts/logs_y6zzm0ph:v0\n"
     ]
    },
    {
     "name": "stderr",
     "output_type": "stream",
     "text": [
      "\u001b[34m\u001b[1mwandb\u001b[0m:   1 of 1 files downloaded.  \n"
     ]
    },
    {
     "name": "stdout",
     "output_type": "stream",
     "text": [
      "2025-04-20 13:12:35,716 - INFO - Downloaded logs_kq7aidq1:v0 to /scratch/downloaded_artifacts/logs_kq7aidq1:v0\n"
     ]
    },
    {
     "name": "stderr",
     "output_type": "stream",
     "text": [
      "\u001b[34m\u001b[1mwandb\u001b[0m:   1 of 1 files downloaded.  \n"
     ]
    },
    {
     "name": "stdout",
     "output_type": "stream",
     "text": [
      "2025-04-20 13:12:35,860 - INFO - Downloaded logs_nhbutkce:v0 to /scratch/downloaded_artifacts/logs_nhbutkce:v0\n"
     ]
    },
    {
     "name": "stderr",
     "output_type": "stream",
     "text": [
      "\u001b[34m\u001b[1mwandb\u001b[0m:   1 of 1 files downloaded.  \n"
     ]
    },
    {
     "name": "stdout",
     "output_type": "stream",
     "text": [
      "2025-04-20 13:12:35,910 - INFO - Downloaded logs_kw3ouk4h:v0 to /scratch/downloaded_artifacts/logs_kw3ouk4h:v0\n"
     ]
    },
    {
     "name": "stderr",
     "output_type": "stream",
     "text": [
      "\u001b[34m\u001b[1mwandb\u001b[0m:   1 of 1 files downloaded.  \n"
     ]
    },
    {
     "name": "stdout",
     "output_type": "stream",
     "text": [
      "2025-04-20 13:12:35,917 - INFO - Downloaded logs_z970zyus:v0 to /scratch/downloaded_artifacts/logs_z970zyus:v0\n"
     ]
    },
    {
     "name": "stderr",
     "output_type": "stream",
     "text": [
      "\u001b[34m\u001b[1mwandb\u001b[0m:   1 of 1 files downloaded.  \n"
     ]
    },
    {
     "name": "stdout",
     "output_type": "stream",
     "text": [
      "2025-04-20 13:12:35,950 - INFO - Downloaded logs_s8vl374o:v0 to /scratch/downloaded_artifacts/logs_s8vl374o:v0\n"
     ]
    },
    {
     "name": "stderr",
     "output_type": "stream",
     "text": [
      "\u001b[34m\u001b[1mwandb\u001b[0m:   1 of 1 files downloaded.  \n"
     ]
    },
    {
     "name": "stdout",
     "output_type": "stream",
     "text": [
      "2025-04-20 13:12:36,012 - INFO - Downloaded logs_2qen34sf:v0 to /scratch/downloaded_artifacts/logs_2qen34sf:v0\n"
     ]
    },
    {
     "name": "stderr",
     "output_type": "stream",
     "text": [
      "\u001b[34m\u001b[1mwandb\u001b[0m:   1 of 1 files downloaded.  \n"
     ]
    },
    {
     "name": "stdout",
     "output_type": "stream",
     "text": [
      "2025-04-20 13:12:36,188 - INFO - Downloaded logs_50h7qmf4:v0 to /scratch/downloaded_artifacts/logs_50h7qmf4:v0\n"
     ]
    },
    {
     "name": "stderr",
     "output_type": "stream",
     "text": [
      "\u001b[34m\u001b[1mwandb\u001b[0m:   1 of 1 files downloaded.  \n"
     ]
    },
    {
     "name": "stdout",
     "output_type": "stream",
     "text": [
      "2025-04-20 13:12:36,289 - INFO - Downloaded logs_50puq0gy:v0 to /scratch/downloaded_artifacts/logs_50puq0gy:v0\n"
     ]
    },
    {
     "name": "stderr",
     "output_type": "stream",
     "text": [
      "\u001b[34m\u001b[1mwandb\u001b[0m:   1 of 1 files downloaded.  \n"
     ]
    },
    {
     "name": "stdout",
     "output_type": "stream",
     "text": [
      "2025-04-20 13:12:36,338 - INFO - Downloaded logs_4d4okqjc:v0 to /scratch/downloaded_artifacts/logs_4d4okqjc:v0\n"
     ]
    },
    {
     "name": "stderr",
     "output_type": "stream",
     "text": [
      "\u001b[34m\u001b[1mwandb\u001b[0m:   1 of 1 files downloaded.  \n"
     ]
    },
    {
     "name": "stdout",
     "output_type": "stream",
     "text": [
      "2025-04-20 13:12:36,369 - INFO - Downloaded logs_003ks3ll:v0 to /scratch/downloaded_artifacts/logs_003ks3ll:v0\n"
     ]
    },
    {
     "name": "stderr",
     "output_type": "stream",
     "text": [
      "\u001b[34m\u001b[1mwandb\u001b[0m:   1 of 1 files downloaded.  \n"
     ]
    },
    {
     "name": "stdout",
     "output_type": "stream",
     "text": [
      "2025-04-20 13:12:36,408 - INFO - Downloaded logs_82rz4flf:v0 to /scratch/downloaded_artifacts/logs_82rz4flf:v0\n"
     ]
    },
    {
     "name": "stderr",
     "output_type": "stream",
     "text": [
      "\u001b[34m\u001b[1mwandb\u001b[0m:   1 of 1 files downloaded.  \n"
     ]
    },
    {
     "name": "stdout",
     "output_type": "stream",
     "text": [
      "2025-04-20 13:12:36,582 - INFO - Downloaded logs_99im8499:v0 to /scratch/downloaded_artifacts/logs_99im8499:v0\n"
     ]
    },
    {
     "name": "stderr",
     "output_type": "stream",
     "text": [
      "\u001b[34m\u001b[1mwandb\u001b[0m:   1 of 1 files downloaded.  \n"
     ]
    },
    {
     "name": "stdout",
     "output_type": "stream",
     "text": [
      "2025-04-20 13:12:36,599 - INFO - Downloaded logs_bvwf93x5:v0 to /scratch/downloaded_artifacts/logs_bvwf93x5:v0\n"
     ]
    },
    {
     "name": "stderr",
     "output_type": "stream",
     "text": [
      "\u001b[34m\u001b[1mwandb\u001b[0m:   1 of 1 files downloaded.  \n"
     ]
    },
    {
     "name": "stdout",
     "output_type": "stream",
     "text": [
      "2025-04-20 13:12:36,698 - INFO - Downloaded logs_eo13zih7:v0 to /scratch/downloaded_artifacts/logs_eo13zih7:v0\n"
     ]
    },
    {
     "name": "stderr",
     "output_type": "stream",
     "text": [
      "\u001b[34m\u001b[1mwandb\u001b[0m:   1 of 1 files downloaded.  \n"
     ]
    },
    {
     "name": "stdout",
     "output_type": "stream",
     "text": [
      "2025-04-20 13:12:36,755 - INFO - Downloaded logs_i00nrkaf:v0 to /scratch/downloaded_artifacts/logs_i00nrkaf:v0\n"
     ]
    },
    {
     "name": "stderr",
     "output_type": "stream",
     "text": [
      "\u001b[34m\u001b[1mwandb\u001b[0m:   1 of 1 files downloaded.  \n"
     ]
    },
    {
     "name": "stdout",
     "output_type": "stream",
     "text": [
      "2025-04-20 13:12:36,896 - INFO - Downloaded logs_jswnw7cs:v0 to /scratch/downloaded_artifacts/logs_jswnw7cs:v0\n"
     ]
    },
    {
     "name": "stderr",
     "output_type": "stream",
     "text": [
      "\u001b[34m\u001b[1mwandb\u001b[0m:   1 of 1 files downloaded.  \n"
     ]
    },
    {
     "name": "stdout",
     "output_type": "stream",
     "text": [
      "2025-04-20 13:12:36,921 - INFO - Downloaded logs_hr47c8e1:v0 to /scratch/downloaded_artifacts/logs_hr47c8e1:v0\n"
     ]
    },
    {
     "name": "stderr",
     "output_type": "stream",
     "text": [
      "\u001b[34m\u001b[1mwandb\u001b[0m:   1 of 1 files downloaded.  \n"
     ]
    },
    {
     "name": "stdout",
     "output_type": "stream",
     "text": [
      "2025-04-20 13:12:36,950 - INFO - Downloaded logs_m29ib5u5:v0 to /scratch/downloaded_artifacts/logs_m29ib5u5:v0\n"
     ]
    },
    {
     "name": "stderr",
     "output_type": "stream",
     "text": [
      "\u001b[34m\u001b[1mwandb\u001b[0m:   1 of 1 files downloaded.  \n"
     ]
    },
    {
     "name": "stdout",
     "output_type": "stream",
     "text": [
      "2025-04-20 13:12:36,959 - INFO - Downloaded logs_mtw0d1op:v0 to /scratch/downloaded_artifacts/logs_mtw0d1op:v0\n"
     ]
    },
    {
     "name": "stderr",
     "output_type": "stream",
     "text": [
      "\u001b[34m\u001b[1mwandb\u001b[0m:   1 of 1 files downloaded.  \n"
     ]
    },
    {
     "name": "stdout",
     "output_type": "stream",
     "text": [
      "2025-04-20 13:12:36,971 - INFO - Downloaded logs_n3r17xoi:v0 to /scratch/downloaded_artifacts/logs_n3r17xoi:v0\n"
     ]
    },
    {
     "name": "stderr",
     "output_type": "stream",
     "text": [
      "\u001b[34m\u001b[1mwandb\u001b[0m:   1 of 1 files downloaded.  \n"
     ]
    },
    {
     "name": "stdout",
     "output_type": "stream",
     "text": [
      "2025-04-20 13:12:37,273 - INFO - Downloaded logs_nqunrwpv:v0 to /scratch/downloaded_artifacts/logs_nqunrwpv:v0\n"
     ]
    },
    {
     "name": "stderr",
     "output_type": "stream",
     "text": [
      "\u001b[34m\u001b[1mwandb\u001b[0m:   1 of 1 files downloaded.  \n"
     ]
    },
    {
     "name": "stdout",
     "output_type": "stream",
     "text": [
      "2025-04-20 13:12:37,304 - INFO - Downloaded logs_tdstk89k:v0 to /scratch/downloaded_artifacts/logs_tdstk89k:v0\n"
     ]
    },
    {
     "name": "stderr",
     "output_type": "stream",
     "text": [
      "\u001b[34m\u001b[1mwandb\u001b[0m:   1 of 1 files downloaded.  \n"
     ]
    },
    {
     "name": "stdout",
     "output_type": "stream",
     "text": [
      "2025-04-20 13:12:37,315 - INFO - Downloaded logs_w5kf1iet:v0 to /scratch/downloaded_artifacts/logs_w5kf1iet:v0\n"
     ]
    },
    {
     "name": "stderr",
     "output_type": "stream",
     "text": [
      "\u001b[34m\u001b[1mwandb\u001b[0m:   1 of 1 files downloaded.  \n"
     ]
    },
    {
     "name": "stdout",
     "output_type": "stream",
     "text": [
      "2025-04-20 13:12:37,380 - INFO - Downloaded logs_wx474hqp:v0 to /scratch/downloaded_artifacts/logs_wx474hqp:v0\n"
     ]
    },
    {
     "name": "stderr",
     "output_type": "stream",
     "text": [
      "\u001b[34m\u001b[1mwandb\u001b[0m:   1 of 1 files downloaded.  \n"
     ]
    },
    {
     "name": "stdout",
     "output_type": "stream",
     "text": [
      "2025-04-20 13:12:37,399 - INFO - Downloaded logs_nlpqdxbl:v0 to /scratch/downloaded_artifacts/logs_nlpqdxbl:v0\n"
     ]
    },
    {
     "name": "stderr",
     "output_type": "stream",
     "text": [
      "\u001b[34m\u001b[1mwandb\u001b[0m:   1 of 1 files downloaded.  \n"
     ]
    },
    {
     "name": "stdout",
     "output_type": "stream",
     "text": [
      "2025-04-20 13:12:37,481 - INFO - Downloaded logs_6bkam4vo:v0 to /scratch/downloaded_artifacts/logs_6bkam4vo:v0\n"
     ]
    },
    {
     "name": "stderr",
     "output_type": "stream",
     "text": [
      "\u001b[34m\u001b[1mwandb\u001b[0m:   1 of 1 files downloaded.  \n"
     ]
    },
    {
     "name": "stdout",
     "output_type": "stream",
     "text": [
      "2025-04-20 13:12:37,567 - INFO - Downloaded logs_wx4zpioq:v0 to /scratch/downloaded_artifacts/logs_wx4zpioq:v0\n"
     ]
    },
    {
     "name": "stderr",
     "output_type": "stream",
     "text": [
      "\u001b[34m\u001b[1mwandb\u001b[0m:   1 of 1 files downloaded.  \n"
     ]
    },
    {
     "name": "stdout",
     "output_type": "stream",
     "text": [
      "2025-04-20 13:12:37,692 - INFO - Downloaded logs_6hv3zaop:v0 to /scratch/downloaded_artifacts/logs_6hv3zaop:v0\n"
     ]
    },
    {
     "name": "stderr",
     "output_type": "stream",
     "text": [
      "\u001b[34m\u001b[1mwandb\u001b[0m:   1 of 1 files downloaded.  \n"
     ]
    },
    {
     "name": "stdout",
     "output_type": "stream",
     "text": [
      "2025-04-20 13:12:37,700 - INFO - Downloaded logs_4c8yqw61:v0 to /scratch/downloaded_artifacts/logs_4c8yqw61:v0\n"
     ]
    },
    {
     "name": "stderr",
     "output_type": "stream",
     "text": [
      "\u001b[34m\u001b[1mwandb\u001b[0m:   1 of 1 files downloaded.  \n"
     ]
    },
    {
     "name": "stdout",
     "output_type": "stream",
     "text": [
      "2025-04-20 13:12:37,755 - INFO - Downloaded logs_ke2eito8:v0 to /scratch/downloaded_artifacts/logs_ke2eito8:v0\n"
     ]
    },
    {
     "name": "stderr",
     "output_type": "stream",
     "text": [
      "\u001b[34m\u001b[1mwandb\u001b[0m:   1 of 1 files downloaded.  \n"
     ]
    },
    {
     "name": "stdout",
     "output_type": "stream",
     "text": [
      "2025-04-20 13:12:37,891 - INFO - Downloaded logs_5qhlrgxl:v0 to /scratch/downloaded_artifacts/logs_5qhlrgxl:v0\n"
     ]
    },
    {
     "name": "stderr",
     "output_type": "stream",
     "text": [
      "\u001b[34m\u001b[1mwandb\u001b[0m:   1 of 1 files downloaded.  \n"
     ]
    },
    {
     "name": "stdout",
     "output_type": "stream",
     "text": [
      "2025-04-20 13:12:37,911 - INFO - Downloaded logs_1yy9mzxu:v0 to /scratch/downloaded_artifacts/logs_1yy9mzxu:v0\n"
     ]
    },
    {
     "name": "stderr",
     "output_type": "stream",
     "text": [
      "\u001b[34m\u001b[1mwandb\u001b[0m:   1 of 1 files downloaded.  \n"
     ]
    },
    {
     "name": "stdout",
     "output_type": "stream",
     "text": [
      "2025-04-20 13:12:38,004 - INFO - Downloaded logs_wpm4t57o:v0 to /scratch/downloaded_artifacts/logs_wpm4t57o:v0\n"
     ]
    },
    {
     "name": "stderr",
     "output_type": "stream",
     "text": [
      "\u001b[34m\u001b[1mwandb\u001b[0m:   1 of 1 files downloaded.  \n"
     ]
    },
    {
     "name": "stdout",
     "output_type": "stream",
     "text": [
      "2025-04-20 13:12:38,102 - INFO - Downloaded logs_533lfdjy:v0 to /scratch/downloaded_artifacts/logs_533lfdjy:v0\n"
     ]
    },
    {
     "name": "stderr",
     "output_type": "stream",
     "text": [
      "\u001b[34m\u001b[1mwandb\u001b[0m:   1 of 1 files downloaded.  \n"
     ]
    },
    {
     "name": "stdout",
     "output_type": "stream",
     "text": [
      "2025-04-20 13:12:38,244 - INFO - Downloaded logs_j4zzq34j:v0 to /scratch/downloaded_artifacts/logs_j4zzq34j:v0\n"
     ]
    },
    {
     "name": "stderr",
     "output_type": "stream",
     "text": [
      "\u001b[34m\u001b[1mwandb\u001b[0m:   1 of 1 files downloaded.  \n"
     ]
    },
    {
     "name": "stdout",
     "output_type": "stream",
     "text": [
      "2025-04-20 13:12:38,278 - INFO - Downloaded logs_gsq1pbdx:v0 to /scratch/downloaded_artifacts/logs_gsq1pbdx:v0\n"
     ]
    },
    {
     "name": "stderr",
     "output_type": "stream",
     "text": [
      "\u001b[34m\u001b[1mwandb\u001b[0m:   1 of 1 files downloaded.  \n"
     ]
    },
    {
     "name": "stdout",
     "output_type": "stream",
     "text": [
      "2025-04-20 13:12:38,285 - INFO - Downloaded logs_xrztui27:v0 to /scratch/downloaded_artifacts/logs_xrztui27:v0\n"
     ]
    },
    {
     "name": "stderr",
     "output_type": "stream",
     "text": [
      "\u001b[34m\u001b[1mwandb\u001b[0m:   1 of 1 files downloaded.  \n"
     ]
    },
    {
     "name": "stdout",
     "output_type": "stream",
     "text": [
      "2025-04-20 13:12:38,350 - INFO - Downloaded logs_l6qttyhh:v0 to /scratch/downloaded_artifacts/logs_l6qttyhh:v0\n"
     ]
    },
    {
     "name": "stderr",
     "output_type": "stream",
     "text": [
      "\u001b[34m\u001b[1mwandb\u001b[0m:   1 of 1 files downloaded.  \n"
     ]
    },
    {
     "name": "stdout",
     "output_type": "stream",
     "text": [
      "2025-04-20 13:12:38,458 - INFO - Downloaded logs_ehyknagv:v0 to /scratch/downloaded_artifacts/logs_ehyknagv:v0\n"
     ]
    },
    {
     "name": "stderr",
     "output_type": "stream",
     "text": [
      "\u001b[34m\u001b[1mwandb\u001b[0m:   1 of 1 files downloaded.  \n"
     ]
    },
    {
     "name": "stdout",
     "output_type": "stream",
     "text": [
      "2025-04-20 13:12:38,543 - INFO - Downloaded logs_hsvxnwzg:v0 to /scratch/downloaded_artifacts/logs_hsvxnwzg:v0\n"
     ]
    },
    {
     "name": "stderr",
     "output_type": "stream",
     "text": [
      "\u001b[34m\u001b[1mwandb\u001b[0m:   1 of 1 files downloaded.  \n"
     ]
    },
    {
     "name": "stdout",
     "output_type": "stream",
     "text": [
      "2025-04-20 13:12:38,728 - INFO - Downloaded logs_qazjo683:v0 to /scratch/downloaded_artifacts/logs_qazjo683:v0\n"
     ]
    },
    {
     "name": "stderr",
     "output_type": "stream",
     "text": [
      "\u001b[34m\u001b[1mwandb\u001b[0m:   1 of 1 files downloaded.  \n"
     ]
    },
    {
     "name": "stdout",
     "output_type": "stream",
     "text": [
      "2025-04-20 13:12:38,764 - INFO - Downloaded logs_psrw4mkr:v0 to /scratch/downloaded_artifacts/logs_psrw4mkr:v0\n"
     ]
    },
    {
     "name": "stderr",
     "output_type": "stream",
     "text": [
      "\u001b[34m\u001b[1mwandb\u001b[0m:   1 of 1 files downloaded.  \n"
     ]
    },
    {
     "name": "stdout",
     "output_type": "stream",
     "text": [
      "2025-04-20 13:12:38,805 - INFO - Downloaded logs_p9zg2rte:v0 to /scratch/downloaded_artifacts/logs_p9zg2rte:v0\n"
     ]
    },
    {
     "name": "stderr",
     "output_type": "stream",
     "text": [
      "\u001b[34m\u001b[1mwandb\u001b[0m:   1 of 1 files downloaded.  \n"
     ]
    },
    {
     "name": "stdout",
     "output_type": "stream",
     "text": [
      "2025-04-20 13:12:38,864 - INFO - Downloaded logs_rqdsy2my:v0 to /scratch/downloaded_artifacts/logs_rqdsy2my:v0\n"
     ]
    },
    {
     "name": "stderr",
     "output_type": "stream",
     "text": [
      "\u001b[34m\u001b[1mwandb\u001b[0m:   1 of 1 files downloaded.  \n"
     ]
    },
    {
     "name": "stdout",
     "output_type": "stream",
     "text": [
      "2025-04-20 13:12:38,897 - INFO - Downloaded logs_tyj6ibet:v0 to /scratch/downloaded_artifacts/logs_tyj6ibet:v0\n"
     ]
    },
    {
     "name": "stderr",
     "output_type": "stream",
     "text": [
      "\u001b[34m\u001b[1mwandb\u001b[0m:   1 of 1 files downloaded.  \n"
     ]
    },
    {
     "name": "stdout",
     "output_type": "stream",
     "text": [
      "2025-04-20 13:12:38,909 - INFO - Downloaded logs_s6vbk0jk:v0 to /scratch/downloaded_artifacts/logs_s6vbk0jk:v0\n"
     ]
    },
    {
     "name": "stderr",
     "output_type": "stream",
     "text": [
      "\u001b[34m\u001b[1mwandb\u001b[0m:   1 of 1 files downloaded.  \n"
     ]
    },
    {
     "name": "stdout",
     "output_type": "stream",
     "text": [
      "2025-04-20 13:12:38,997 - INFO - Downloaded logs_uvb134gn:v0 to /scratch/downloaded_artifacts/logs_uvb134gn:v0\n"
     ]
    },
    {
     "name": "stderr",
     "output_type": "stream",
     "text": [
      "\u001b[34m\u001b[1mwandb\u001b[0m:   1 of 1 files downloaded.  \n"
     ]
    },
    {
     "name": "stdout",
     "output_type": "stream",
     "text": [
      "2025-04-20 13:12:39,122 - INFO - Downloaded logs_71xqr350:v0 to /scratch/downloaded_artifacts/logs_71xqr350:v0\n"
     ]
    },
    {
     "name": "stderr",
     "output_type": "stream",
     "text": [
      "\u001b[34m\u001b[1mwandb\u001b[0m:   1 of 1 files downloaded.  \n"
     ]
    },
    {
     "name": "stdout",
     "output_type": "stream",
     "text": [
      "2025-04-20 13:12:39,177 - INFO - Downloaded logs_vnrjief2:v0 to /scratch/downloaded_artifacts/logs_vnrjief2:v0\n"
     ]
    },
    {
     "name": "stderr",
     "output_type": "stream",
     "text": [
      "\u001b[34m\u001b[1mwandb\u001b[0m:   1 of 1 files downloaded.  \n",
      "\u001b[34m\u001b[1mwandb\u001b[0m:   1 of 1 files downloaded.  \n"
     ]
    },
    {
     "name": "stdout",
     "output_type": "stream",
     "text": [
      "2025-04-20 13:12:39,275 - INFO - Downloaded logs_ugv8moa5:v0 to /scratch/downloaded_artifacts/logs_ugv8moa5:v0\n",
      "2025-04-20 13:12:39,276 - INFO - Downloaded logs_isecr00e:v0 to /scratch/downloaded_artifacts/logs_isecr00e:v0\n"
     ]
    },
    {
     "name": "stderr",
     "output_type": "stream",
     "text": [
      "\u001b[34m\u001b[1mwandb\u001b[0m:   1 of 1 files downloaded.  \n"
     ]
    },
    {
     "name": "stdout",
     "output_type": "stream",
     "text": [
      "2025-04-20 13:12:39,301 - INFO - Downloaded logs_87o3fhv3:v0 to /scratch/downloaded_artifacts/logs_87o3fhv3:v0\n"
     ]
    },
    {
     "name": "stderr",
     "output_type": "stream",
     "text": [
      "\u001b[34m\u001b[1mwandb\u001b[0m:   1 of 1 files downloaded.  \n"
     ]
    },
    {
     "name": "stdout",
     "output_type": "stream",
     "text": [
      "2025-04-20 13:12:39,484 - INFO - Downloaded logs_ltjns9n5:v0 to /scratch/downloaded_artifacts/logs_ltjns9n5:v0\n"
     ]
    },
    {
     "name": "stderr",
     "output_type": "stream",
     "text": [
      "\u001b[34m\u001b[1mwandb\u001b[0m:   1 of 1 files downloaded.  \n"
     ]
    },
    {
     "name": "stdout",
     "output_type": "stream",
     "text": [
      "2025-04-20 13:12:39,524 - INFO - Downloaded logs_ka8x7jm3:v0 to /scratch/downloaded_artifacts/logs_ka8x7jm3:v0\n"
     ]
    },
    {
     "name": "stderr",
     "output_type": "stream",
     "text": [
      "\u001b[34m\u001b[1mwandb\u001b[0m:   1 of 1 files downloaded.  \n"
     ]
    },
    {
     "name": "stdout",
     "output_type": "stream",
     "text": [
      "2025-04-20 13:12:39,700 - INFO - Downloaded logs_nxaz4c7n:v0 to /scratch/downloaded_artifacts/logs_nxaz4c7n:v0\n"
     ]
    },
    {
     "name": "stderr",
     "output_type": "stream",
     "text": [
      "\u001b[34m\u001b[1mwandb\u001b[0m:   1 of 1 files downloaded.  \n"
     ]
    },
    {
     "name": "stdout",
     "output_type": "stream",
     "text": [
      "2025-04-20 13:12:39,708 - INFO - Downloaded logs_sizn7yiv:v0 to /scratch/downloaded_artifacts/logs_sizn7yiv:v0\n"
     ]
    },
    {
     "name": "stderr",
     "output_type": "stream",
     "text": [
      "\u001b[34m\u001b[1mwandb\u001b[0m:   1 of 1 files downloaded.  \n"
     ]
    },
    {
     "name": "stdout",
     "output_type": "stream",
     "text": [
      "2025-04-20 13:12:39,716 - INFO - Downloaded logs_boy3s1zg:v0 to /scratch/downloaded_artifacts/logs_boy3s1zg:v0\n"
     ]
    },
    {
     "name": "stderr",
     "output_type": "stream",
     "text": [
      "\u001b[34m\u001b[1mwandb\u001b[0m: \u001b[32m\u001b[41mERROR\u001b[0m Error while calling W&B API: rate limit exceeded (<Response [429]>)\n",
      "\u001b[34m\u001b[1mwandb\u001b[0m: \u001b[32m\u001b[41mERROR\u001b[0m Error while calling W&B API: rate limit exceeded (<Response [429]>)\n",
      "\u001b[34m\u001b[1mwandb\u001b[0m:   1 of 1 files downloaded.  \n"
     ]
    },
    {
     "name": "stdout",
     "output_type": "stream",
     "text": [
      "2025-04-20 13:12:39,820 - INFO - Downloaded logs_hjxiasnp:v0 to /scratch/downloaded_artifacts/logs_hjxiasnp:v0\n"
     ]
    },
    {
     "name": "stderr",
     "output_type": "stream",
     "text": [
      "\u001b[34m\u001b[1mwandb\u001b[0m: \u001b[32m\u001b[41mERROR\u001b[0m Error while calling W&B API: rate limit exceeded (<Response [429]>)\n",
      "\u001b[34m\u001b[1mwandb\u001b[0m:   1 of 1 files downloaded.  \n"
     ]
    },
    {
     "name": "stdout",
     "output_type": "stream",
     "text": [
      "2025-04-20 13:12:39,958 - INFO - Downloaded logs_80k5bmtc:v0 to /scratch/downloaded_artifacts/logs_80k5bmtc:v0\n"
     ]
    },
    {
     "name": "stderr",
     "output_type": "stream",
     "text": [
      "\u001b[34m\u001b[1mwandb\u001b[0m: \u001b[32m\u001b[41mERROR\u001b[0m Error while calling W&B API: rate limit exceeded (<Response [429]>)\n",
      "\u001b[34m\u001b[1mwandb\u001b[0m:   1 of 1 files downloaded.  \n"
     ]
    },
    {
     "name": "stdout",
     "output_type": "stream",
     "text": [
      "2025-04-20 13:12:39,988 - INFO - Downloaded logs_vn8g4eqx:v0 to /scratch/downloaded_artifacts/logs_vn8g4eqx:v0\n"
     ]
    },
    {
     "name": "stderr",
     "output_type": "stream",
     "text": [
      "\u001b[34m\u001b[1mwandb\u001b[0m:   1 of 1 files downloaded.  \n"
     ]
    },
    {
     "name": "stdout",
     "output_type": "stream",
     "text": [
      "2025-04-20 13:12:40,010 - INFO - Downloaded logs_z1zx8shm:v0 to /scratch/downloaded_artifacts/logs_z1zx8shm:v0\n"
     ]
    },
    {
     "name": "stderr",
     "output_type": "stream",
     "text": [
      "\u001b[34m\u001b[1mwandb\u001b[0m:   1 of 1 files downloaded.  \n"
     ]
    },
    {
     "name": "stdout",
     "output_type": "stream",
     "text": [
      "2025-04-20 13:12:40,035 - INFO - Downloaded logs_65ggmahy:v0 to /scratch/downloaded_artifacts/logs_65ggmahy:v0\n"
     ]
    },
    {
     "name": "stderr",
     "output_type": "stream",
     "text": [
      "\u001b[34m\u001b[1mwandb\u001b[0m:   1 of 1 files downloaded.  \n"
     ]
    },
    {
     "name": "stdout",
     "output_type": "stream",
     "text": [
      "2025-04-20 13:12:40,048 - INFO - Downloaded logs_o42crv8e:v0 to /scratch/downloaded_artifacts/logs_o42crv8e:v0\n"
     ]
    },
    {
     "name": "stderr",
     "output_type": "stream",
     "text": [
      "\u001b[34m\u001b[1mwandb\u001b[0m:   1 of 1 files downloaded.  \n"
     ]
    },
    {
     "name": "stdout",
     "output_type": "stream",
     "text": [
      "2025-04-20 13:12:40,089 - INFO - Downloaded logs_p8kxs9xp:v0 to /scratch/downloaded_artifacts/logs_p8kxs9xp:v0\n"
     ]
    },
    {
     "name": "stderr",
     "output_type": "stream",
     "text": [
      "\u001b[34m\u001b[1mwandb\u001b[0m:   1 of 1 files downloaded.  \n"
     ]
    },
    {
     "name": "stdout",
     "output_type": "stream",
     "text": [
      "2025-04-20 13:12:40,121 - INFO - Downloaded logs_93gqg7ix:v0 to /scratch/downloaded_artifacts/logs_93gqg7ix:v0\n"
     ]
    },
    {
     "name": "stderr",
     "output_type": "stream",
     "text": [
      "\u001b[34m\u001b[1mwandb\u001b[0m:   1 of 1 files downloaded.  \n"
     ]
    },
    {
     "name": "stdout",
     "output_type": "stream",
     "text": [
      "2025-04-20 13:12:40,257 - INFO - Downloaded logs_pf1atdww:v0 to /scratch/downloaded_artifacts/logs_pf1atdww:v0\n"
     ]
    },
    {
     "name": "stderr",
     "output_type": "stream",
     "text": [
      "\u001b[34m\u001b[1mwandb\u001b[0m:   1 of 1 files downloaded.  \n"
     ]
    },
    {
     "name": "stdout",
     "output_type": "stream",
     "text": [
      "2025-04-20 13:12:40,318 - INFO - Downloaded logs_vn8rjasv:v0 to /scratch/downloaded_artifacts/logs_vn8rjasv:v0\n"
     ]
    },
    {
     "name": "stderr",
     "output_type": "stream",
     "text": [
      "\u001b[34m\u001b[1mwandb\u001b[0m:   1 of 1 files downloaded.  \n"
     ]
    },
    {
     "name": "stdout",
     "output_type": "stream",
     "text": [
      "2025-04-20 13:12:40,326 - INFO - Downloaded logs_vttb5dh3:v0 to /scratch/downloaded_artifacts/logs_vttb5dh3:v0\n"
     ]
    },
    {
     "name": "stderr",
     "output_type": "stream",
     "text": [
      "\u001b[34m\u001b[1mwandb\u001b[0m:   1 of 1 files downloaded.  \n"
     ]
    },
    {
     "name": "stdout",
     "output_type": "stream",
     "text": [
      "2025-04-20 13:12:40,369 - INFO - Downloaded logs_gvm0hp63:v0 to /scratch/downloaded_artifacts/logs_gvm0hp63:v0\n"
     ]
    },
    {
     "name": "stderr",
     "output_type": "stream",
     "text": [
      "\u001b[34m\u001b[1mwandb\u001b[0m:   1 of 1 files downloaded.  \n"
     ]
    },
    {
     "name": "stdout",
     "output_type": "stream",
     "text": [
      "2025-04-20 13:12:40,584 - INFO - Downloaded logs_o837ls3b:v0 to /scratch/downloaded_artifacts/logs_o837ls3b:v0\n"
     ]
    },
    {
     "name": "stderr",
     "output_type": "stream",
     "text": [
      "\u001b[34m\u001b[1mwandb\u001b[0m: \u001b[32m\u001b[41mERROR\u001b[0m Error while calling W&B API: rate limit exceeded (<Response [429]>)\n",
      "\u001b[34m\u001b[1mwandb\u001b[0m: Network error (HTTPError), entering retry loop.\n",
      "\u001b[34m\u001b[1mwandb\u001b[0m: Network error (HTTPError), entering retry loop.\n",
      "\u001b[34m\u001b[1mwandb\u001b[0m: \u001b[32m\u001b[41mERROR\u001b[0m Error while calling W&B API: rate limit exceeded (<Response [429]>)\n",
      "\u001b[34m\u001b[1mwandb\u001b[0m: \u001b[32m\u001b[41mERROR\u001b[0m Error while calling W&B API: rate limit exceeded (<Response [429]>)\n",
      "\u001b[34m\u001b[1mwandb\u001b[0m: \u001b[32m\u001b[41mERROR\u001b[0m Error while calling W&B API: rate limit exceeded (<Response [429]>)\n",
      "\u001b[34m\u001b[1mwandb\u001b[0m: \u001b[32m\u001b[41mERROR\u001b[0m Error while calling W&B API: rate limit exceeded (<Response [429]>)\n",
      "\u001b[34m\u001b[1mwandb\u001b[0m: Network error (HTTPError), entering retry loop.\n",
      "\u001b[34m\u001b[1mwandb\u001b[0m: \u001b[32m\u001b[41mERROR\u001b[0m Error while calling W&B API: rate limit exceeded (<Response [429]>)\n",
      "\u001b[34m\u001b[1mwandb\u001b[0m: Network error (HTTPError), entering retry loop.\n",
      "\u001b[34m\u001b[1mwandb\u001b[0m: \u001b[32m\u001b[41mERROR\u001b[0m Error while calling W&B API: rate limit exceeded (<Response [429]>)\n",
      "\u001b[34m\u001b[1mwandb\u001b[0m: Network error (HTTPError), entering retry loop.\n",
      "\u001b[34m\u001b[1mwandb\u001b[0m: \u001b[32m\u001b[41mERROR\u001b[0m Error while calling W&B API: rate limit exceeded (<Response [429]>)\n",
      "\u001b[34m\u001b[1mwandb\u001b[0m: Network error (HTTPError), entering retry loop.\n",
      "\u001b[34m\u001b[1mwandb\u001b[0m:   1 of 1 files downloaded.  \n"
     ]
    },
    {
     "name": "stdout",
     "output_type": "stream",
     "text": [
      "2025-04-20 13:12:48,249 - INFO - Downloaded logs_uajo27c7:v0 to /scratch/downloaded_artifacts/logs_uajo27c7:v0\n"
     ]
    },
    {
     "name": "stderr",
     "output_type": "stream",
     "text": [
      "\u001b[34m\u001b[1mwandb\u001b[0m:   1 of 1 files downloaded.  \n"
     ]
    },
    {
     "name": "stdout",
     "output_type": "stream",
     "text": [
      "2025-04-20 13:12:48,267 - INFO - Downloaded logs_at3bzrtl:v0 to /scratch/downloaded_artifacts/logs_at3bzrtl:v0\n"
     ]
    },
    {
     "name": "stderr",
     "output_type": "stream",
     "text": [
      "\u001b[34m\u001b[1mwandb\u001b[0m:   1 of 1 files downloaded.  \n"
     ]
    },
    {
     "name": "stdout",
     "output_type": "stream",
     "text": [
      "2025-04-20 13:12:48,301 - INFO - Downloaded logs_z4daq1tx:v0 to /scratch/downloaded_artifacts/logs_z4daq1tx:v0\n"
     ]
    },
    {
     "name": "stderr",
     "output_type": "stream",
     "text": [
      "\u001b[34m\u001b[1mwandb\u001b[0m:   1 of 1 files downloaded.  \n"
     ]
    },
    {
     "name": "stdout",
     "output_type": "stream",
     "text": [
      "2025-04-20 13:12:48,360 - INFO - Downloaded logs_f2u2qd4g:v0 to /scratch/downloaded_artifacts/logs_f2u2qd4g:v0\n"
     ]
    },
    {
     "name": "stderr",
     "output_type": "stream",
     "text": [
      "\u001b[34m\u001b[1mwandb\u001b[0m:   1 of 1 files downloaded.  \n"
     ]
    },
    {
     "name": "stdout",
     "output_type": "stream",
     "text": [
      "2025-04-20 13:12:48,814 - INFO - Downloaded logs_0byq9phs:v0 to /scratch/downloaded_artifacts/logs_0byq9phs:v0\n"
     ]
    },
    {
     "name": "stderr",
     "output_type": "stream",
     "text": [
      "\u001b[34m\u001b[1mwandb\u001b[0m:   1 of 1 files downloaded.  \n"
     ]
    },
    {
     "name": "stdout",
     "output_type": "stream",
     "text": [
      "2025-04-20 13:12:48,864 - INFO - Downloaded logs_f5sflfe4:v0 to /scratch/downloaded_artifacts/logs_f5sflfe4:v0\n"
     ]
    },
    {
     "name": "stderr",
     "output_type": "stream",
     "text": [
      "\u001b[34m\u001b[1mwandb\u001b[0m:   1 of 1 files downloaded.  \n"
     ]
    },
    {
     "name": "stdout",
     "output_type": "stream",
     "text": [
      "2025-04-20 13:12:48,969 - INFO - Downloaded logs_9rdtw53f:v0 to /scratch/downloaded_artifacts/logs_9rdtw53f:v0\n"
     ]
    },
    {
     "name": "stderr",
     "output_type": "stream",
     "text": [
      "\u001b[34m\u001b[1mwandb\u001b[0m:   1 of 1 files downloaded.  \n"
     ]
    },
    {
     "name": "stdout",
     "output_type": "stream",
     "text": [
      "2025-04-20 13:12:49,040 - INFO - Downloaded logs_huqmjj8o:v0 to /scratch/downloaded_artifacts/logs_huqmjj8o:v0\n"
     ]
    },
    {
     "name": "stderr",
     "output_type": "stream",
     "text": [
      "\u001b[34m\u001b[1mwandb\u001b[0m:   1 of 1 files downloaded.  \n"
     ]
    },
    {
     "name": "stdout",
     "output_type": "stream",
     "text": [
      "2025-04-20 13:12:49,064 - INFO - Downloaded logs_ljmnda74:v0 to /scratch/downloaded_artifacts/logs_ljmnda74:v0\n"
     ]
    },
    {
     "name": "stderr",
     "output_type": "stream",
     "text": [
      "\u001b[34m\u001b[1mwandb\u001b[0m:   1 of 1 files downloaded.  \n"
     ]
    },
    {
     "name": "stdout",
     "output_type": "stream",
     "text": [
      "2025-04-20 13:12:49,182 - INFO - Downloaded logs_gx4xdn3t:v0 to /scratch/downloaded_artifacts/logs_gx4xdn3t:v0\n"
     ]
    },
    {
     "name": "stderr",
     "output_type": "stream",
     "text": [
      "\u001b[34m\u001b[1mwandb\u001b[0m:   1 of 1 files downloaded.  \n"
     ]
    },
    {
     "name": "stdout",
     "output_type": "stream",
     "text": [
      "2025-04-20 13:12:49,356 - INFO - Downloaded logs_ibc4vx0o:v0 to /scratch/downloaded_artifacts/logs_ibc4vx0o:v0\n"
     ]
    },
    {
     "name": "stderr",
     "output_type": "stream",
     "text": [
      "\u001b[34m\u001b[1mwandb\u001b[0m:   1 of 1 files downloaded.  \n"
     ]
    },
    {
     "name": "stdout",
     "output_type": "stream",
     "text": [
      "2025-04-20 13:12:49,361 - INFO - Downloaded logs_qrxdk4ax:v0 to /scratch/downloaded_artifacts/logs_qrxdk4ax:v0\n"
     ]
    },
    {
     "name": "stderr",
     "output_type": "stream",
     "text": [
      "\u001b[34m\u001b[1mwandb\u001b[0m:   1 of 1 files downloaded.  \n"
     ]
    },
    {
     "name": "stdout",
     "output_type": "stream",
     "text": [
      "2025-04-20 13:12:49,526 - INFO - Downloaded logs_86cz3siv:v0 to /scratch/downloaded_artifacts/logs_86cz3siv:v0\n"
     ]
    },
    {
     "name": "stderr",
     "output_type": "stream",
     "text": [
      "\u001b[34m\u001b[1mwandb\u001b[0m:   1 of 1 files downloaded.  \n"
     ]
    },
    {
     "name": "stdout",
     "output_type": "stream",
     "text": [
      "2025-04-20 13:12:49,597 - INFO - Downloaded logs_grypn7vr:v0 to /scratch/downloaded_artifacts/logs_grypn7vr:v0\n"
     ]
    },
    {
     "name": "stderr",
     "output_type": "stream",
     "text": [
      "\u001b[34m\u001b[1mwandb\u001b[0m:   1 of 1 files downloaded.  \n"
     ]
    },
    {
     "name": "stdout",
     "output_type": "stream",
     "text": [
      "2025-04-20 13:12:49,780 - INFO - Downloaded logs_o7yxtccb:v0 to /scratch/downloaded_artifacts/logs_o7yxtccb:v0\n"
     ]
    },
    {
     "name": "stderr",
     "output_type": "stream",
     "text": [
      "\u001b[34m\u001b[1mwandb\u001b[0m:   1 of 1 files downloaded.  \n"
     ]
    },
    {
     "name": "stdout",
     "output_type": "stream",
     "text": [
      "2025-04-20 13:12:49,813 - INFO - Downloaded logs_uv9lie4r:v0 to /scratch/downloaded_artifacts/logs_uv9lie4r:v0\n"
     ]
    },
    {
     "name": "stderr",
     "output_type": "stream",
     "text": [
      "\u001b[34m\u001b[1mwandb\u001b[0m:   1 of 1 files downloaded.  \n"
     ]
    },
    {
     "name": "stdout",
     "output_type": "stream",
     "text": [
      "2025-04-20 13:12:49,826 - INFO - Downloaded logs_2h8o7fic:v0 to /scratch/downloaded_artifacts/logs_2h8o7fic:v0\n"
     ]
    },
    {
     "name": "stderr",
     "output_type": "stream",
     "text": [
      "\u001b[34m\u001b[1mwandb\u001b[0m:   1 of 1 files downloaded.  \n"
     ]
    },
    {
     "name": "stdout",
     "output_type": "stream",
     "text": [
      "2025-04-20 13:12:49,871 - INFO - Downloaded logs_hkw4zvxs:v0 to /scratch/downloaded_artifacts/logs_hkw4zvxs:v0\n"
     ]
    },
    {
     "name": "stderr",
     "output_type": "stream",
     "text": [
      "\u001b[34m\u001b[1mwandb\u001b[0m:   1 of 1 files downloaded.  \n"
     ]
    },
    {
     "name": "stdout",
     "output_type": "stream",
     "text": [
      "2025-04-20 13:12:49,883 - INFO - Downloaded logs_gmgl3dr9:v0 to /scratch/downloaded_artifacts/logs_gmgl3dr9:v0\n"
     ]
    },
    {
     "name": "stderr",
     "output_type": "stream",
     "text": [
      "\u001b[34m\u001b[1mwandb\u001b[0m:   1 of 1 files downloaded.  \n"
     ]
    },
    {
     "name": "stdout",
     "output_type": "stream",
     "text": [
      "2025-04-20 13:12:49,889 - INFO - Downloaded logs_c4impo89:v0 to /scratch/downloaded_artifacts/logs_c4impo89:v0\n"
     ]
    },
    {
     "name": "stderr",
     "output_type": "stream",
     "text": [
      "\u001b[34m\u001b[1mwandb\u001b[0m:   1 of 1 files downloaded.  \n"
     ]
    },
    {
     "name": "stdout",
     "output_type": "stream",
     "text": [
      "2025-04-20 13:12:49,951 - INFO - Downloaded logs_yw1v9no1:v0 to /scratch/downloaded_artifacts/logs_yw1v9no1:v0\n"
     ]
    },
    {
     "name": "stderr",
     "output_type": "stream",
     "text": [
      "\u001b[34m\u001b[1mwandb\u001b[0m:   1 of 1 files downloaded.  \n"
     ]
    },
    {
     "name": "stdout",
     "output_type": "stream",
     "text": [
      "2025-04-20 13:12:50,057 - INFO - Downloaded logs_ah7m3lbl:v0 to /scratch/downloaded_artifacts/logs_ah7m3lbl:v0\n"
     ]
    },
    {
     "name": "stderr",
     "output_type": "stream",
     "text": [
      "\u001b[34m\u001b[1mwandb\u001b[0m:   1 of 1 files downloaded.  \n"
     ]
    },
    {
     "name": "stdout",
     "output_type": "stream",
     "text": [
      "2025-04-20 13:12:50,174 - INFO - Downloaded logs_ses77cxv:v0 to /scratch/downloaded_artifacts/logs_ses77cxv:v0\n"
     ]
    },
    {
     "name": "stderr",
     "output_type": "stream",
     "text": [
      "\u001b[34m\u001b[1mwandb\u001b[0m:   1 of 1 files downloaded.  \n"
     ]
    },
    {
     "name": "stdout",
     "output_type": "stream",
     "text": [
      "2025-04-20 13:12:50,244 - INFO - Downloaded logs_tbr5c5c5:v0 to /scratch/downloaded_artifacts/logs_tbr5c5c5:v0\n"
     ]
    },
    {
     "name": "stderr",
     "output_type": "stream",
     "text": [
      "\u001b[34m\u001b[1mwandb\u001b[0m:   1 of 1 files downloaded.  \n"
     ]
    },
    {
     "name": "stdout",
     "output_type": "stream",
     "text": [
      "2025-04-20 13:12:50,293 - INFO - Downloaded logs_ueg5pvpm:v0 to /scratch/downloaded_artifacts/logs_ueg5pvpm:v0\n"
     ]
    },
    {
     "name": "stderr",
     "output_type": "stream",
     "text": [
      "\u001b[34m\u001b[1mwandb\u001b[0m:   1 of 1 files downloaded.  \n"
     ]
    },
    {
     "name": "stdout",
     "output_type": "stream",
     "text": [
      "2025-04-20 13:12:50,334 - INFO - Downloaded logs_y7w8mabw:v0 to /scratch/downloaded_artifacts/logs_y7w8mabw:v0\n"
     ]
    },
    {
     "name": "stderr",
     "output_type": "stream",
     "text": [
      "\u001b[34m\u001b[1mwandb\u001b[0m:   1 of 1 files downloaded.  \n"
     ]
    },
    {
     "name": "stdout",
     "output_type": "stream",
     "text": [
      "2025-04-20 13:12:50,360 - INFO - Downloaded logs_19vcs9j0:v0 to /scratch/downloaded_artifacts/logs_19vcs9j0:v0\n"
     ]
    },
    {
     "name": "stderr",
     "output_type": "stream",
     "text": [
      "\u001b[34m\u001b[1mwandb\u001b[0m:   1 of 1 files downloaded.  \n"
     ]
    },
    {
     "name": "stdout",
     "output_type": "stream",
     "text": [
      "2025-04-20 13:12:50,446 - INFO - Downloaded logs_1g9qrshv:v0 to /scratch/downloaded_artifacts/logs_1g9qrshv:v0\n"
     ]
    },
    {
     "name": "stderr",
     "output_type": "stream",
     "text": [
      "\u001b[34m\u001b[1mwandb\u001b[0m:   1 of 1 files downloaded.  \n"
     ]
    },
    {
     "name": "stdout",
     "output_type": "stream",
     "text": [
      "2025-04-20 13:12:50,486 - INFO - Downloaded logs_hddpck37:v0 to /scratch/downloaded_artifacts/logs_hddpck37:v0\n"
     ]
    },
    {
     "name": "stderr",
     "output_type": "stream",
     "text": [
      "\u001b[34m\u001b[1mwandb\u001b[0m:   1 of 1 files downloaded.  \n"
     ]
    },
    {
     "name": "stdout",
     "output_type": "stream",
     "text": [
      "2025-04-20 13:12:50,539 - INFO - Downloaded logs_3603ycjn:v0 to /scratch/downloaded_artifacts/logs_3603ycjn:v0\n"
     ]
    },
    {
     "name": "stderr",
     "output_type": "stream",
     "text": [
      "\u001b[34m\u001b[1mwandb\u001b[0m:   1 of 1 files downloaded.  \n"
     ]
    },
    {
     "name": "stdout",
     "output_type": "stream",
     "text": [
      "2025-04-20 13:12:50,613 - INFO - Downloaded logs_6tz71p3o:v0 to /scratch/downloaded_artifacts/logs_6tz71p3o:v0\n"
     ]
    },
    {
     "name": "stderr",
     "output_type": "stream",
     "text": [
      "\u001b[34m\u001b[1mwandb\u001b[0m:   1 of 1 files downloaded.  \n"
     ]
    },
    {
     "name": "stdout",
     "output_type": "stream",
     "text": [
      "2025-04-20 13:12:50,684 - INFO - Downloaded logs_6l34xilw:v0 to /scratch/downloaded_artifacts/logs_6l34xilw:v0\n"
     ]
    },
    {
     "name": "stderr",
     "output_type": "stream",
     "text": [
      "\u001b[34m\u001b[1mwandb\u001b[0m:   1 of 1 files downloaded.  \n"
     ]
    },
    {
     "name": "stdout",
     "output_type": "stream",
     "text": [
      "2025-04-20 13:12:50,779 - INFO - Downloaded logs_8qzv8jiu:v0 to /scratch/downloaded_artifacts/logs_8qzv8jiu:v0\n"
     ]
    },
    {
     "name": "stderr",
     "output_type": "stream",
     "text": [
      "\u001b[34m\u001b[1mwandb\u001b[0m:   1 of 1 files downloaded.  \n"
     ]
    },
    {
     "name": "stdout",
     "output_type": "stream",
     "text": [
      "2025-04-20 13:12:50,952 - INFO - Downloaded logs_fcmgi907:v0 to /scratch/downloaded_artifacts/logs_fcmgi907:v0\n"
     ]
    },
    {
     "name": "stderr",
     "output_type": "stream",
     "text": [
      "\u001b[34m\u001b[1mwandb\u001b[0m:   1 of 1 files downloaded.  \n"
     ]
    },
    {
     "name": "stdout",
     "output_type": "stream",
     "text": [
      "2025-04-20 13:12:50,976 - INFO - Downloaded logs_dtg0q86z:v0 to /scratch/downloaded_artifacts/logs_dtg0q86z:v0\n"
     ]
    },
    {
     "name": "stderr",
     "output_type": "stream",
     "text": [
      "\u001b[34m\u001b[1mwandb\u001b[0m:   1 of 1 files downloaded.  \n"
     ]
    },
    {
     "name": "stdout",
     "output_type": "stream",
     "text": [
      "2025-04-20 13:12:51,132 - INFO - Downloaded logs_fezn89ck:v0 to /scratch/downloaded_artifacts/logs_fezn89ck:v0\n"
     ]
    },
    {
     "name": "stderr",
     "output_type": "stream",
     "text": [
      "\u001b[34m\u001b[1mwandb\u001b[0m:   1 of 1 files downloaded.  \n"
     ]
    },
    {
     "name": "stdout",
     "output_type": "stream",
     "text": [
      "2025-04-20 13:12:51,194 - INFO - Downloaded logs_hbm56pv6:v0 to /scratch/downloaded_artifacts/logs_hbm56pv6:v0\n"
     ]
    },
    {
     "name": "stderr",
     "output_type": "stream",
     "text": [
      "\u001b[34m\u001b[1mwandb\u001b[0m:   1 of 1 files downloaded.  \n"
     ]
    },
    {
     "name": "stdout",
     "output_type": "stream",
     "text": [
      "2025-04-20 13:12:51,225 - INFO - Downloaded logs_lnhxafxn:v0 to /scratch/downloaded_artifacts/logs_lnhxafxn:v0\n"
     ]
    },
    {
     "name": "stderr",
     "output_type": "stream",
     "text": [
      "\u001b[34m\u001b[1mwandb\u001b[0m:   1 of 1 files downloaded.  \n"
     ]
    },
    {
     "name": "stdout",
     "output_type": "stream",
     "text": [
      "2025-04-20 13:12:51,339 - INFO - Downloaded logs_m84ug7cg:v0 to /scratch/downloaded_artifacts/logs_m84ug7cg:v0\n"
     ]
    },
    {
     "name": "stderr",
     "output_type": "stream",
     "text": [
      "\u001b[34m\u001b[1mwandb\u001b[0m:   1 of 1 files downloaded.  \n"
     ]
    },
    {
     "name": "stdout",
     "output_type": "stream",
     "text": [
      "2025-04-20 13:12:51,428 - INFO - Downloaded logs_lr7taetr:v0 to /scratch/downloaded_artifacts/logs_lr7taetr:v0\n"
     ]
    },
    {
     "name": "stderr",
     "output_type": "stream",
     "text": [
      "\u001b[34m\u001b[1mwandb\u001b[0m:   1 of 1 files downloaded.  \n"
     ]
    },
    {
     "name": "stdout",
     "output_type": "stream",
     "text": [
      "2025-04-20 13:12:51,555 - INFO - Downloaded logs_m9wa4e2p:v0 to /scratch/downloaded_artifacts/logs_m9wa4e2p:v0\n"
     ]
    },
    {
     "name": "stderr",
     "output_type": "stream",
     "text": [
      "\u001b[34m\u001b[1mwandb\u001b[0m:   1 of 1 files downloaded.  \n"
     ]
    },
    {
     "name": "stdout",
     "output_type": "stream",
     "text": [
      "2025-04-20 13:12:51,608 - INFO - Downloaded logs_jiio76ac:v0 to /scratch/downloaded_artifacts/logs_jiio76ac:v0\n"
     ]
    },
    {
     "name": "stderr",
     "output_type": "stream",
     "text": [
      "\u001b[34m\u001b[1mwandb\u001b[0m:   1 of 1 files downloaded.  \n"
     ]
    },
    {
     "name": "stdout",
     "output_type": "stream",
     "text": [
      "2025-04-20 13:12:51,632 - INFO - Downloaded logs_mwxp3hvr:v0 to /scratch/downloaded_artifacts/logs_mwxp3hvr:v0\n"
     ]
    },
    {
     "name": "stderr",
     "output_type": "stream",
     "text": [
      "\u001b[34m\u001b[1mwandb\u001b[0m:   1 of 1 files downloaded.  \n"
     ]
    },
    {
     "name": "stdout",
     "output_type": "stream",
     "text": [
      "2025-04-20 13:12:51,747 - INFO - Downloaded logs_ui1b5vnp:v0 to /scratch/downloaded_artifacts/logs_ui1b5vnp:v0\n"
     ]
    },
    {
     "name": "stderr",
     "output_type": "stream",
     "text": [
      "\u001b[34m\u001b[1mwandb\u001b[0m:   1 of 1 files downloaded.  \n"
     ]
    },
    {
     "name": "stdout",
     "output_type": "stream",
     "text": [
      "2025-04-20 13:12:51,796 - INFO - Downloaded logs_x3uljoej:v0 to /scratch/downloaded_artifacts/logs_x3uljoej:v0\n"
     ]
    },
    {
     "name": "stderr",
     "output_type": "stream",
     "text": [
      "\u001b[34m\u001b[1mwandb\u001b[0m:   1 of 1 files downloaded.  \n"
     ]
    },
    {
     "name": "stdout",
     "output_type": "stream",
     "text": [
      "2025-04-20 13:12:51,895 - INFO - Downloaded logs_uhlctuiv:v0 to /scratch/downloaded_artifacts/logs_uhlctuiv:v0\n"
     ]
    },
    {
     "name": "stderr",
     "output_type": "stream",
     "text": [
      "\u001b[34m\u001b[1mwandb\u001b[0m:   1 of 1 files downloaded.  \n"
     ]
    },
    {
     "name": "stdout",
     "output_type": "stream",
     "text": [
      "2025-04-20 13:12:51,902 - INFO - Downloaded logs_z2a50frj:v0 to /scratch/downloaded_artifacts/logs_z2a50frj:v0\n"
     ]
    },
    {
     "name": "stderr",
     "output_type": "stream",
     "text": [
      "\u001b[34m\u001b[1mwandb\u001b[0m:   1 of 1 files downloaded.  \n"
     ]
    },
    {
     "name": "stdout",
     "output_type": "stream",
     "text": [
      "2025-04-20 13:12:51,933 - INFO - Downloaded logs_sjg2ajjk:v0 to /scratch/downloaded_artifacts/logs_sjg2ajjk:v0\n"
     ]
    },
    {
     "name": "stderr",
     "output_type": "stream",
     "text": [
      "\u001b[34m\u001b[1mwandb\u001b[0m:   1 of 1 files downloaded.  \n"
     ]
    },
    {
     "name": "stdout",
     "output_type": "stream",
     "text": [
      "2025-04-20 13:12:51,975 - INFO - Downloaded logs_tjhklfpn:v0 to /scratch/downloaded_artifacts/logs_tjhklfpn:v0\n"
     ]
    },
    {
     "name": "stderr",
     "output_type": "stream",
     "text": [
      "\u001b[34m\u001b[1mwandb\u001b[0m:   1 of 1 files downloaded.  \n"
     ]
    },
    {
     "name": "stdout",
     "output_type": "stream",
     "text": [
      "2025-04-20 13:12:52,101 - INFO - Downloaded logs_wdfaxy67:v0 to /scratch/downloaded_artifacts/logs_wdfaxy67:v0\n"
     ]
    },
    {
     "name": "stderr",
     "output_type": "stream",
     "text": [
      "\u001b[34m\u001b[1mwandb\u001b[0m:   1 of 1 files downloaded.  \n"
     ]
    },
    {
     "name": "stdout",
     "output_type": "stream",
     "text": [
      "2025-04-20 13:12:52,217 - INFO - Downloaded logs_kt49bxfo:v0 to /scratch/downloaded_artifacts/logs_kt49bxfo:v0\n"
     ]
    },
    {
     "name": "stderr",
     "output_type": "stream",
     "text": [
      "\u001b[34m\u001b[1mwandb\u001b[0m:   1 of 1 files downloaded.  \n"
     ]
    },
    {
     "name": "stdout",
     "output_type": "stream",
     "text": [
      "2025-04-20 13:12:52,260 - INFO - Downloaded logs_4o20zh95:v0 to /scratch/downloaded_artifacts/logs_4o20zh95:v0\n"
     ]
    },
    {
     "name": "stderr",
     "output_type": "stream",
     "text": [
      "\u001b[34m\u001b[1mwandb\u001b[0m:   1 of 1 files downloaded.  \n"
     ]
    },
    {
     "name": "stdout",
     "output_type": "stream",
     "text": [
      "2025-04-20 13:12:52,368 - INFO - Downloaded logs_1hf0hqr6:v0 to /scratch/downloaded_artifacts/logs_1hf0hqr6:v0\n"
     ]
    },
    {
     "name": "stderr",
     "output_type": "stream",
     "text": [
      "\u001b[34m\u001b[1mwandb\u001b[0m:   1 of 1 files downloaded.  \n"
     ]
    },
    {
     "name": "stdout",
     "output_type": "stream",
     "text": [
      "2025-04-20 13:12:52,438 - INFO - Downloaded logs_zsa8gj90:v0 to /scratch/downloaded_artifacts/logs_zsa8gj90:v0\n"
     ]
    },
    {
     "name": "stderr",
     "output_type": "stream",
     "text": [
      "\u001b[34m\u001b[1mwandb\u001b[0m:   1 of 1 files downloaded.  \n",
      "\u001b[34m\u001b[1mwandb\u001b[0m:   1 of 1 files downloaded.  \n"
     ]
    },
    {
     "name": "stdout",
     "output_type": "stream",
     "text": [
      "2025-04-20 13:12:52,513 - INFO - Downloaded logs_2qjplpuj:v0 to /scratch/downloaded_artifacts/logs_2qjplpuj:v0\n",
      "2025-04-20 13:12:52,513 - INFO - Downloaded logs_6u9c0lu4:v0 to /scratch/downloaded_artifacts/logs_6u9c0lu4:v0\n"
     ]
    },
    {
     "name": "stderr",
     "output_type": "stream",
     "text": [
      "\u001b[34m\u001b[1mwandb\u001b[0m:   1 of 1 files downloaded.  \n"
     ]
    },
    {
     "name": "stdout",
     "output_type": "stream",
     "text": [
      "2025-04-20 13:12:52,522 - INFO - Downloaded logs_uff8goc2:v0 to /scratch/downloaded_artifacts/logs_uff8goc2:v0\n"
     ]
    },
    {
     "name": "stderr",
     "output_type": "stream",
     "text": [
      "\u001b[34m\u001b[1mwandb\u001b[0m:   1 of 1 files downloaded.  \n"
     ]
    },
    {
     "name": "stdout",
     "output_type": "stream",
     "text": [
      "2025-04-20 13:12:52,542 - INFO - Downloaded logs_4rgy39x5:v0 to /scratch/downloaded_artifacts/logs_4rgy39x5:v0\n"
     ]
    },
    {
     "name": "stderr",
     "output_type": "stream",
     "text": [
      "\u001b[34m\u001b[1mwandb\u001b[0m:   1 of 1 files downloaded.  \n"
     ]
    },
    {
     "name": "stdout",
     "output_type": "stream",
     "text": [
      "2025-04-20 13:12:52,641 - INFO - Downloaded logs_cdwd92pl:v0 to /scratch/downloaded_artifacts/logs_cdwd92pl:v0\n"
     ]
    },
    {
     "name": "stderr",
     "output_type": "stream",
     "text": [
      "\u001b[34m\u001b[1mwandb\u001b[0m:   1 of 1 files downloaded.  \n"
     ]
    },
    {
     "name": "stdout",
     "output_type": "stream",
     "text": [
      "2025-04-20 13:12:52,834 - INFO - Downloaded logs_dk5unv15:v0 to /scratch/downloaded_artifacts/logs_dk5unv15:v0\n"
     ]
    },
    {
     "name": "stderr",
     "output_type": "stream",
     "text": [
      "\u001b[34m\u001b[1mwandb\u001b[0m:   1 of 1 files downloaded.  \n"
     ]
    },
    {
     "name": "stdout",
     "output_type": "stream",
     "text": [
      "2025-04-20 13:12:52,887 - INFO - Downloaded logs_l9dl654h:v0 to /scratch/downloaded_artifacts/logs_l9dl654h:v0\n"
     ]
    },
    {
     "name": "stderr",
     "output_type": "stream",
     "text": [
      "\u001b[34m\u001b[1mwandb\u001b[0m:   1 of 1 files downloaded.  \n"
     ]
    },
    {
     "name": "stdout",
     "output_type": "stream",
     "text": [
      "2025-04-20 13:12:52,990 - INFO - Downloaded logs_mscftafd:v0 to /scratch/downloaded_artifacts/logs_mscftafd:v0\n"
     ]
    },
    {
     "name": "stderr",
     "output_type": "stream",
     "text": [
      "\u001b[34m\u001b[1mwandb\u001b[0m:   1 of 1 files downloaded.  \n"
     ]
    },
    {
     "name": "stdout",
     "output_type": "stream",
     "text": [
      "2025-04-20 13:12:53,040 - INFO - Downloaded logs_nso0ewxq:v0 to /scratch/downloaded_artifacts/logs_nso0ewxq:v0\n"
     ]
    },
    {
     "name": "stderr",
     "output_type": "stream",
     "text": [
      "\u001b[34m\u001b[1mwandb\u001b[0m:   1 of 1 files downloaded.  \n"
     ]
    },
    {
     "name": "stdout",
     "output_type": "stream",
     "text": [
      "2025-04-20 13:12:53,211 - INFO - Downloaded logs_oqxg7v5f:v0 to /scratch/downloaded_artifacts/logs_oqxg7v5f:v0\n"
     ]
    },
    {
     "name": "stderr",
     "output_type": "stream",
     "text": [
      "\u001b[34m\u001b[1mwandb\u001b[0m:   1 of 1 files downloaded.  \n"
     ]
    },
    {
     "name": "stdout",
     "output_type": "stream",
     "text": [
      "2025-04-20 13:12:53,218 - INFO - Downloaded logs_pwpcey1y:v0 to /scratch/downloaded_artifacts/logs_pwpcey1y:v0\n"
     ]
    },
    {
     "name": "stderr",
     "output_type": "stream",
     "text": [
      "\u001b[34m\u001b[1mwandb\u001b[0m:   1 of 1 files downloaded.  \n"
     ]
    },
    {
     "name": "stdout",
     "output_type": "stream",
     "text": [
      "2025-04-20 13:12:53,235 - INFO - Downloaded logs_s72r0oa6:v0 to /scratch/downloaded_artifacts/logs_s72r0oa6:v0\n"
     ]
    },
    {
     "name": "stderr",
     "output_type": "stream",
     "text": [
      "\u001b[34m\u001b[1mwandb\u001b[0m:   1 of 1 files downloaded.  \n"
     ]
    },
    {
     "name": "stdout",
     "output_type": "stream",
     "text": [
      "2025-04-20 13:12:53,287 - INFO - Downloaded logs_snip2tcg:v0 to /scratch/downloaded_artifacts/logs_snip2tcg:v0\n"
     ]
    },
    {
     "name": "stderr",
     "output_type": "stream",
     "text": [
      "\u001b[34m\u001b[1mwandb\u001b[0m:   1 of 1 files downloaded.  \n"
     ]
    },
    {
     "name": "stdout",
     "output_type": "stream",
     "text": [
      "2025-04-20 13:12:53,384 - INFO - Downloaded logs_qhw0ynbl:v0 to /scratch/downloaded_artifacts/logs_qhw0ynbl:v0\n"
     ]
    },
    {
     "name": "stderr",
     "output_type": "stream",
     "text": [
      "\u001b[34m\u001b[1mwandb\u001b[0m:   1 of 1 files downloaded.  \n"
     ]
    },
    {
     "name": "stdout",
     "output_type": "stream",
     "text": [
      "2025-04-20 13:12:53,435 - INFO - Downloaded logs_sv5899gi:v0 to /scratch/downloaded_artifacts/logs_sv5899gi:v0\n"
     ]
    },
    {
     "name": "stderr",
     "output_type": "stream",
     "text": [
      "\u001b[34m\u001b[1mwandb\u001b[0m:   1 of 1 files downloaded.  \n"
     ]
    },
    {
     "name": "stdout",
     "output_type": "stream",
     "text": [
      "2025-04-20 13:12:53,547 - INFO - Downloaded logs_bxvjdrzo:v0 to /scratch/downloaded_artifacts/logs_bxvjdrzo:v0\n"
     ]
    },
    {
     "name": "stderr",
     "output_type": "stream",
     "text": [
      "\u001b[34m\u001b[1mwandb\u001b[0m:   1 of 1 files downloaded.  \n"
     ]
    },
    {
     "name": "stdout",
     "output_type": "stream",
     "text": [
      "2025-04-20 13:12:53,689 - INFO - Downloaded logs_wn1dexz1:v0 to /scratch/downloaded_artifacts/logs_wn1dexz1:v0\n"
     ]
    },
    {
     "name": "stderr",
     "output_type": "stream",
     "text": [
      "\u001b[34m\u001b[1mwandb\u001b[0m:   1 of 1 files downloaded.  \n"
     ]
    },
    {
     "name": "stdout",
     "output_type": "stream",
     "text": [
      "2025-04-20 13:12:53,760 - INFO - Downloaded logs_ek9htrs4:v0 to /scratch/downloaded_artifacts/logs_ek9htrs4:v0\n"
     ]
    },
    {
     "name": "stderr",
     "output_type": "stream",
     "text": [
      "\u001b[34m\u001b[1mwandb\u001b[0m:   1 of 1 files downloaded.  \n"
     ]
    },
    {
     "name": "stdout",
     "output_type": "stream",
     "text": [
      "2025-04-20 13:12:53,787 - INFO - Downloaded logs_slr4fdbp:v0 to /scratch/downloaded_artifacts/logs_slr4fdbp:v0\n"
     ]
    },
    {
     "name": "stderr",
     "output_type": "stream",
     "text": [
      "\u001b[34m\u001b[1mwandb\u001b[0m:   1 of 1 files downloaded.  \n"
     ]
    },
    {
     "name": "stdout",
     "output_type": "stream",
     "text": [
      "2025-04-20 13:12:53,832 - INFO - Downloaded logs_v7w8hovr:v0 to /scratch/downloaded_artifacts/logs_v7w8hovr:v0\n"
     ]
    },
    {
     "name": "stderr",
     "output_type": "stream",
     "text": [
      "\u001b[34m\u001b[1mwandb\u001b[0m:   1 of 1 files downloaded.  \n"
     ]
    },
    {
     "name": "stdout",
     "output_type": "stream",
     "text": [
      "2025-04-20 13:12:53,873 - INFO - Downloaded logs_nl3pbi5b:v0 to /scratch/downloaded_artifacts/logs_nl3pbi5b:v0\n"
     ]
    },
    {
     "name": "stderr",
     "output_type": "stream",
     "text": [
      "\u001b[34m\u001b[1mwandb\u001b[0m:   1 of 1 files downloaded.  \n"
     ]
    },
    {
     "name": "stdout",
     "output_type": "stream",
     "text": [
      "2025-04-20 13:12:53,992 - INFO - Downloaded logs_44v28a0k:v0 to /scratch/downloaded_artifacts/logs_44v28a0k:v0\n"
     ]
    },
    {
     "name": "stderr",
     "output_type": "stream",
     "text": [
      "\u001b[34m\u001b[1mwandb\u001b[0m:   1 of 1 files downloaded.  \n"
     ]
    },
    {
     "name": "stdout",
     "output_type": "stream",
     "text": [
      "2025-04-20 13:12:54,030 - INFO - Downloaded logs_ontl0cck:v0 to /scratch/downloaded_artifacts/logs_ontl0cck:v0\n"
     ]
    },
    {
     "name": "stderr",
     "output_type": "stream",
     "text": [
      "\u001b[34m\u001b[1mwandb\u001b[0m:   1 of 1 files downloaded.  \n"
     ]
    },
    {
     "name": "stdout",
     "output_type": "stream",
     "text": [
      "2025-04-20 13:12:54,255 - INFO - Downloaded logs_23dqh4ac:v0 to /scratch/downloaded_artifacts/logs_23dqh4ac:v0\n"
     ]
    },
    {
     "name": "stderr",
     "output_type": "stream",
     "text": [
      "\u001b[34m\u001b[1mwandb\u001b[0m:   1 of 1 files downloaded.  \n"
     ]
    },
    {
     "name": "stdout",
     "output_type": "stream",
     "text": [
      "2025-04-20 13:12:54,411 - INFO - Downloaded logs_4uvqepr8:v0 to /scratch/downloaded_artifacts/logs_4uvqepr8:v0\n"
     ]
    },
    {
     "name": "stderr",
     "output_type": "stream",
     "text": [
      "\u001b[34m\u001b[1mwandb\u001b[0m:   1 of 1 files downloaded.  \n"
     ]
    },
    {
     "name": "stdout",
     "output_type": "stream",
     "text": [
      "2025-04-20 13:12:54,514 - INFO - Downloaded logs_50nh0iou:v0 to /scratch/downloaded_artifacts/logs_50nh0iou:v0\n"
     ]
    },
    {
     "name": "stderr",
     "output_type": "stream",
     "text": [
      "\u001b[34m\u001b[1mwandb\u001b[0m:   1 of 1 files downloaded.  \n"
     ]
    },
    {
     "name": "stdout",
     "output_type": "stream",
     "text": [
      "2025-04-20 13:12:54,709 - INFO - Downloaded logs_xunig01z:v0 to /scratch/downloaded_artifacts/logs_xunig01z:v0\n"
     ]
    },
    {
     "name": "stderr",
     "output_type": "stream",
     "text": [
      "\u001b[34m\u001b[1mwandb\u001b[0m: \u001b[33mWARNING\u001b[0m Cache size exceeded. Attempting to reclaim space...\n",
      "\u001b[34m\u001b[1mwandb\u001b[0m: \u001b[33mWARNING\u001b[0m Cache contains 137.7MB of temporary files. Run `wandb artifact cleanup --remove-temp` to remove them.\n",
      "\u001b[34m\u001b[1mwandb\u001b[0m: \u001b[33mWARNING\u001b[0m Cache size exceeded. Attempting to reclaim space...\n",
      "\u001b[34m\u001b[1mwandb\u001b[0m: \u001b[33mWARNING\u001b[0m Cache size exceeded. Attempting to reclaim space...\n",
      "\u001b[34m\u001b[1mwandb\u001b[0m: \u001b[33mWARNING\u001b[0m Cache contains 139.4MB of temporary files. Run `wandb artifact cleanup --remove-temp` to remove them.\n",
      "\u001b[34m\u001b[1mwandb\u001b[0m: \u001b[33mWARNING\u001b[0m Cache contains 140.0MB of temporary files. Run `wandb artifact cleanup --remove-temp` to remove them.\n",
      "\u001b[34m\u001b[1mwandb\u001b[0m:   1 of 1 files downloaded.  \n"
     ]
    },
    {
     "name": "stdout",
     "output_type": "stream",
     "text": [
      "2025-04-20 13:12:54,863 - INFO - Downloaded logs_7oae6nhn:v0 to /scratch/downloaded_artifacts/logs_7oae6nhn:v0\n",
      "2025-04-20 13:12:54,866 - ERROR - Error downloading artifact for run bwmvhwfk: [Errno 28] No space left on device\n",
      "2025-04-20 13:12:54,866 - ERROR - Error downloading artifact for run decy7ng9: [Errno 28] No space left on device\n"
     ]
    },
    {
     "name": "stderr",
     "output_type": "stream",
     "text": [
      "\u001b[34m\u001b[1mwandb\u001b[0m:   1 of 1 files downloaded.  \n"
     ]
    },
    {
     "name": "stdout",
     "output_type": "stream",
     "text": [
      "2025-04-20 13:12:54,866 - ERROR - Error downloading artifact for run j02siqfk: [Errno 28] No space left on device\n",
      "2025-04-20 13:12:54,867 - ERROR - Error downloading artifact for run frvsurre: [Errno 28] No space left on device\n"
     ]
    },
    {
     "name": "stderr",
     "output_type": "stream",
     "text": [
      "\u001b[34m\u001b[1mwandb\u001b[0m: \u001b[33mWARNING\u001b[0m Cache size exceeded. Attempting to reclaim space...\n"
     ]
    },
    {
     "name": "stdout",
     "output_type": "stream",
     "text": [
      "2025-04-20 13:12:54,867 - ERROR - Error downloading artifact for run i050yueo: [Errno 28] No space left on device\n",
      "2025-04-20 13:12:54,867 - ERROR - Error downloading artifact for run gv5nhej7: [Errno 28] No space left on device\n",
      "2025-04-20 13:12:54,870 - INFO - Downloaded logs_62gvj7my:v0 to /scratch/downloaded_artifacts/logs_62gvj7my:v0\n",
      "2025-04-20 13:12:54,871 - ERROR - Error downloading artifact for run rtk5925j: [Errno 28] No space left on device\n"
     ]
    },
    {
     "name": "stderr",
     "output_type": "stream",
     "text": [
      "\u001b[34m\u001b[1mwandb\u001b[0m: \u001b[33mWARNING\u001b[0m Cache contains 49.9MB of temporary files. Run `wandb artifact cleanup --remove-temp` to remove them.\n"
     ]
    },
    {
     "name": "stdout",
     "output_type": "stream",
     "text": [
      "2025-04-20 13:12:54,874 - ERROR - Error downloading artifact for run oz5av4v4: [Errno 28] No space left on device\n"
     ]
    },
    {
     "name": "stderr",
     "output_type": "stream",
     "text": [
      "\u001b[34m\u001b[1mwandb\u001b[0m: \u001b[33mWARNING\u001b[0m Cache size exceeded. Attempting to reclaim space...\n",
      "\u001b[34m\u001b[1mwandb\u001b[0m: \u001b[33mWARNING\u001b[0m Cache contains 49.9MB of temporary files. Run `wandb artifact cleanup --remove-temp` to remove them.\n",
      "\u001b[34m\u001b[1mwandb\u001b[0m: \u001b[33mWARNING\u001b[0m Cache size exceeded. Attempting to reclaim space...\n",
      "\u001b[34m\u001b[1mwandb\u001b[0m: \u001b[33mWARNING\u001b[0m Cache contains 49.9MB of temporary files. Run `wandb artifact cleanup --remove-temp` to remove them.\n",
      "\u001b[34m\u001b[1mwandb\u001b[0m:   1 of 1 files downloaded.  \n",
      "\u001b[34m\u001b[1mwandb\u001b[0m:   1 of 1 files downloaded.  \n"
     ]
    },
    {
     "name": "stdout",
     "output_type": "stream",
     "text": [
      "2025-04-20 13:12:55,734 - INFO - Downloaded logs_11wiez0s:v0 to /scratch/downloaded_artifacts/logs_11wiez0s:v0\n",
      "2025-04-20 13:12:55,736 - INFO - Downloaded logs_xw6sroru:v0 to /scratch/downloaded_artifacts/logs_xw6sroru:v0\n"
     ]
    },
    {
     "name": "stderr",
     "output_type": "stream",
     "text": [
      "\u001b[34m\u001b[1mwandb\u001b[0m:   1 of 1 files downloaded.  \n"
     ]
    },
    {
     "name": "stdout",
     "output_type": "stream",
     "text": [
      "2025-04-20 13:12:55,740 - INFO - Downloaded logs_yx9w90ut:v0 to /scratch/downloaded_artifacts/logs_yx9w90ut:v0\n"
     ]
    },
    {
     "name": "stderr",
     "output_type": "stream",
     "text": [
      "\u001b[34m\u001b[1mwandb\u001b[0m:   1 of 1 files downloaded.  \n"
     ]
    },
    {
     "name": "stdout",
     "output_type": "stream",
     "text": [
      "2025-04-20 13:12:55,746 - INFO - Downloaded logs_axxd214h:v0 to /scratch/downloaded_artifacts/logs_axxd214h:v0\n"
     ]
    },
    {
     "name": "stderr",
     "output_type": "stream",
     "text": [
      "\u001b[34m\u001b[1mwandb\u001b[0m:   1 of 1 files downloaded.  \n"
     ]
    },
    {
     "name": "stdout",
     "output_type": "stream",
     "text": [
      "2025-04-20 13:12:55,756 - INFO - Downloaded logs_y82m5l9z:v0 to /scratch/downloaded_artifacts/logs_y82m5l9z:v0\n"
     ]
    },
    {
     "name": "stderr",
     "output_type": "stream",
     "text": [
      "\u001b[34m\u001b[1mwandb\u001b[0m:   1 of 1 files downloaded.  \n"
     ]
    },
    {
     "name": "stdout",
     "output_type": "stream",
     "text": [
      "2025-04-20 13:12:55,791 - INFO - Downloaded logs_adb4l2xw:v0 to /scratch/downloaded_artifacts/logs_adb4l2xw:v0\n"
     ]
    },
    {
     "name": "stderr",
     "output_type": "stream",
     "text": [
      "\u001b[34m\u001b[1mwandb\u001b[0m:   1 of 1 files downloaded.  \n"
     ]
    },
    {
     "name": "stdout",
     "output_type": "stream",
     "text": [
      "2025-04-20 13:12:55,808 - INFO - Downloaded logs_g0a8h377:v0 to /scratch/downloaded_artifacts/logs_g0a8h377:v0\n"
     ]
    },
    {
     "name": "stderr",
     "output_type": "stream",
     "text": [
      "\u001b[34m\u001b[1mwandb\u001b[0m:   1 of 1 files downloaded.  \n"
     ]
    },
    {
     "name": "stdout",
     "output_type": "stream",
     "text": [
      "2025-04-20 13:12:55,935 - INFO - Downloaded logs_ha2dh0gd:v0 to /scratch/downloaded_artifacts/logs_ha2dh0gd:v0\n"
     ]
    },
    {
     "name": "stderr",
     "output_type": "stream",
     "text": [
      "\u001b[34m\u001b[1mwandb\u001b[0m:   1 of 1 files downloaded.  \n"
     ]
    },
    {
     "name": "stdout",
     "output_type": "stream",
     "text": [
      "2025-04-20 13:12:55,997 - INFO - Downloaded logs_s17tddnu:v0 to /scratch/downloaded_artifacts/logs_s17tddnu:v0\n"
     ]
    },
    {
     "name": "stderr",
     "output_type": "stream",
     "text": [
      "\u001b[34m\u001b[1mwandb\u001b[0m:   1 of 1 files downloaded.  \n"
     ]
    },
    {
     "name": "stdout",
     "output_type": "stream",
     "text": [
      "2025-04-20 13:12:56,351 - INFO - Downloaded logs_56a5isqf:v0 to /scratch/downloaded_artifacts/logs_56a5isqf:v0\n"
     ]
    },
    {
     "name": "stderr",
     "output_type": "stream",
     "text": [
      "\u001b[34m\u001b[1mwandb\u001b[0m:   1 of 1 files downloaded.  \n"
     ]
    },
    {
     "name": "stdout",
     "output_type": "stream",
     "text": [
      "2025-04-20 13:12:56,456 - INFO - Downloaded logs_1ystpq0x:v0 to /scratch/downloaded_artifacts/logs_1ystpq0x:v0\n"
     ]
    },
    {
     "name": "stderr",
     "output_type": "stream",
     "text": [
      "\u001b[34m\u001b[1mwandb\u001b[0m:   1 of 1 files downloaded.  \n"
     ]
    },
    {
     "name": "stdout",
     "output_type": "stream",
     "text": [
      "2025-04-20 13:12:56,483 - INFO - Downloaded logs_jxncb9pv:v0 to /scratch/downloaded_artifacts/logs_jxncb9pv:v0\n"
     ]
    },
    {
     "name": "stderr",
     "output_type": "stream",
     "text": [
      "\u001b[34m\u001b[1mwandb\u001b[0m:   1 of 1 files downloaded.  \n"
     ]
    },
    {
     "name": "stdout",
     "output_type": "stream",
     "text": [
      "2025-04-20 13:12:56,489 - INFO - Downloaded logs_588zqxr8:v0 to /scratch/downloaded_artifacts/logs_588zqxr8:v0\n"
     ]
    },
    {
     "name": "stderr",
     "output_type": "stream",
     "text": [
      "\u001b[34m\u001b[1mwandb\u001b[0m:   1 of 1 files downloaded.  \n"
     ]
    },
    {
     "name": "stdout",
     "output_type": "stream",
     "text": [
      "2025-04-20 13:12:56,503 - INFO - Downloaded logs_ld71nqa9:v0 to /scratch/downloaded_artifacts/logs_ld71nqa9:v0\n"
     ]
    },
    {
     "name": "stderr",
     "output_type": "stream",
     "text": [
      "\u001b[34m\u001b[1mwandb\u001b[0m:   1 of 1 files downloaded.  \n"
     ]
    },
    {
     "name": "stdout",
     "output_type": "stream",
     "text": [
      "2025-04-20 13:12:56,521 - INFO - Downloaded logs_5ilapvye:v0 to /scratch/downloaded_artifacts/logs_5ilapvye:v0\n"
     ]
    },
    {
     "name": "stderr",
     "output_type": "stream",
     "text": [
      "\u001b[34m\u001b[1mwandb\u001b[0m:   1 of 1 files downloaded.  \n"
     ]
    },
    {
     "name": "stdout",
     "output_type": "stream",
     "text": [
      "2025-04-20 13:12:56,552 - INFO - Downloaded logs_x6kytdeg:v0 to /scratch/downloaded_artifacts/logs_x6kytdeg:v0\n"
     ]
    },
    {
     "name": "stderr",
     "output_type": "stream",
     "text": [
      "\u001b[34m\u001b[1mwandb\u001b[0m:   1 of 1 files downloaded.  \n"
     ]
    },
    {
     "name": "stdout",
     "output_type": "stream",
     "text": [
      "2025-04-20 13:12:56,555 - INFO - Downloaded logs_v7ax406u:v0 to /scratch/downloaded_artifacts/logs_v7ax406u:v0\n"
     ]
    },
    {
     "name": "stderr",
     "output_type": "stream",
     "text": [
      "\u001b[34m\u001b[1mwandb\u001b[0m:   1 of 1 files downloaded.  \n"
     ]
    },
    {
     "name": "stdout",
     "output_type": "stream",
     "text": [
      "2025-04-20 13:12:56,559 - INFO - Downloaded logs_8a7efe77:v0 to /scratch/downloaded_artifacts/logs_8a7efe77:v0\n"
     ]
    },
    {
     "name": "stderr",
     "output_type": "stream",
     "text": [
      "\u001b[34m\u001b[1mwandb\u001b[0m:   1 of 1 files downloaded.  \n"
     ]
    },
    {
     "name": "stdout",
     "output_type": "stream",
     "text": [
      "2025-04-20 13:12:56,567 - INFO - Downloaded logs_5meulycc:v0 to /scratch/downloaded_artifacts/logs_5meulycc:v0\n"
     ]
    },
    {
     "name": "stderr",
     "output_type": "stream",
     "text": [
      "\u001b[34m\u001b[1mwandb\u001b[0m:   1 of 1 files downloaded.  \n"
     ]
    },
    {
     "name": "stdout",
     "output_type": "stream",
     "text": [
      "2025-04-20 13:12:56,598 - INFO - Downloaded logs_yek0b0ma:v0 to /scratch/downloaded_artifacts/logs_yek0b0ma:v0\n"
     ]
    },
    {
     "name": "stderr",
     "output_type": "stream",
     "text": [
      "\u001b[34m\u001b[1mwandb\u001b[0m: \u001b[32m\u001b[41mERROR\u001b[0m Error while calling W&B API: rate limit exceeded (<Response [429]>)\n",
      "\u001b[34m\u001b[1mwandb\u001b[0m: \u001b[32m\u001b[41mERROR\u001b[0m Error while calling W&B API: rate limit exceeded (<Response [429]>)\n",
      "\u001b[34m\u001b[1mwandb\u001b[0m: \u001b[32m\u001b[41mERROR\u001b[0m Error while calling W&B API: rate limit exceeded (<Response [429]>)\n",
      "\u001b[34m\u001b[1mwandb\u001b[0m:   1 of 1 files downloaded.  \n"
     ]
    },
    {
     "name": "stdout",
     "output_type": "stream",
     "text": [
      "2025-04-20 13:12:57,026 - INFO - Downloaded logs_ivbs3i9z:v0 to /scratch/downloaded_artifacts/logs_ivbs3i9z:v0\n"
     ]
    },
    {
     "name": "stderr",
     "output_type": "stream",
     "text": [
      "\u001b[34m\u001b[1mwandb\u001b[0m: \u001b[32m\u001b[41mERROR\u001b[0m Error while calling W&B API: rate limit exceeded (<Response [429]>)\n",
      "\u001b[34m\u001b[1mwandb\u001b[0m: \u001b[32m\u001b[41mERROR\u001b[0m Error while calling W&B API: rate limit exceeded (<Response [429]>)\n",
      "\u001b[34m\u001b[1mwandb\u001b[0m:   1 of 1 files downloaded.  \n"
     ]
    },
    {
     "name": "stdout",
     "output_type": "stream",
     "text": [
      "2025-04-20 13:12:57,072 - INFO - Downloaded logs_cg04ui06:v0 to /scratch/downloaded_artifacts/logs_cg04ui06:v0\n"
     ]
    },
    {
     "name": "stderr",
     "output_type": "stream",
     "text": [
      "\u001b[34m\u001b[1mwandb\u001b[0m: \u001b[32m\u001b[41mERROR\u001b[0m Error while calling W&B API: rate limit exceeded (<Response [429]>)\n",
      "\u001b[34m\u001b[1mwandb\u001b[0m: \u001b[32m\u001b[41mERROR\u001b[0m Error while calling W&B API: rate limit exceeded (<Response [429]>)\n",
      "\u001b[34m\u001b[1mwandb\u001b[0m:   1 of 1 files downloaded.  \n"
     ]
    },
    {
     "name": "stdout",
     "output_type": "stream",
     "text": [
      "2025-04-20 13:12:57,104 - INFO - Downloaded logs_dsplgyiz:v0 to /scratch/downloaded_artifacts/logs_dsplgyiz:v0\n"
     ]
    },
    {
     "name": "stderr",
     "output_type": "stream",
     "text": [
      "\u001b[34m\u001b[1mwandb\u001b[0m:   1 of 1 files downloaded.  \n"
     ]
    },
    {
     "name": "stdout",
     "output_type": "stream",
     "text": [
      "2025-04-20 13:12:57,124 - INFO - Downloaded logs_gfezgbjy:v0 to /scratch/downloaded_artifacts/logs_gfezgbjy:v0\n"
     ]
    },
    {
     "name": "stderr",
     "output_type": "stream",
     "text": [
      "\u001b[34m\u001b[1mwandb\u001b[0m:   1 of 1 files downloaded.  \n"
     ]
    },
    {
     "name": "stdout",
     "output_type": "stream",
     "text": [
      "2025-04-20 13:12:57,129 - INFO - Downloaded logs_jq0icctf:v0 to /scratch/downloaded_artifacts/logs_jq0icctf:v0\n"
     ]
    },
    {
     "name": "stderr",
     "output_type": "stream",
     "text": [
      "\u001b[34m\u001b[1mwandb\u001b[0m: \u001b[32m\u001b[41mERROR\u001b[0m Error while calling W&B API: rate limit exceeded (<Response [429]>)\n",
      "\u001b[34m\u001b[1mwandb\u001b[0m:   1 of 1 files downloaded.  \n"
     ]
    },
    {
     "name": "stdout",
     "output_type": "stream",
     "text": [
      "2025-04-20 13:12:57,230 - INFO - Downloaded logs_4tu536l8:v0 to /scratch/downloaded_artifacts/logs_4tu536l8:v0\n"
     ]
    },
    {
     "name": "stderr",
     "output_type": "stream",
     "text": [
      "\u001b[34m\u001b[1mwandb\u001b[0m:   1 of 1 files downloaded.  \n"
     ]
    },
    {
     "name": "stdout",
     "output_type": "stream",
     "text": [
      "2025-04-20 13:12:57,234 - INFO - Downloaded logs_8n55vgwr:v0 to /scratch/downloaded_artifacts/logs_8n55vgwr:v0\n"
     ]
    },
    {
     "name": "stderr",
     "output_type": "stream",
     "text": [
      "\u001b[34m\u001b[1mwandb\u001b[0m:   1 of 1 files downloaded.  \n"
     ]
    },
    {
     "name": "stdout",
     "output_type": "stream",
     "text": [
      "2025-04-20 13:12:57,354 - INFO - Downloaded logs_lajezfl3:v0 to /scratch/downloaded_artifacts/logs_lajezfl3:v0\n"
     ]
    },
    {
     "name": "stderr",
     "output_type": "stream",
     "text": [
      "\u001b[34m\u001b[1mwandb\u001b[0m:   1 of 1 files downloaded.  \n"
     ]
    },
    {
     "name": "stdout",
     "output_type": "stream",
     "text": [
      "2025-04-20 13:12:57,557 - INFO - Downloaded logs_mzggjtjs:v0 to /scratch/downloaded_artifacts/logs_mzggjtjs:v0\n"
     ]
    },
    {
     "name": "stderr",
     "output_type": "stream",
     "text": [
      "\u001b[34m\u001b[1mwandb\u001b[0m:   1 of 1 files downloaded.  \n"
     ]
    },
    {
     "name": "stdout",
     "output_type": "stream",
     "text": [
      "2025-04-20 13:12:57,885 - INFO - Downloaded logs_3gapsceh:v0 to /scratch/downloaded_artifacts/logs_3gapsceh:v0\n"
     ]
    },
    {
     "name": "stderr",
     "output_type": "stream",
     "text": [
      "\u001b[34m\u001b[1mwandb\u001b[0m: \u001b[32m\u001b[41mERROR\u001b[0m Error while calling W&B API: rate limit exceeded (<Response [429]>)\n",
      "\u001b[34m\u001b[1mwandb\u001b[0m: \u001b[32m\u001b[41mERROR\u001b[0m Error while calling W&B API: rate limit exceeded (<Response [429]>)\n",
      "\u001b[34m\u001b[1mwandb\u001b[0m: \u001b[32m\u001b[41mERROR\u001b[0m Error while calling W&B API: rate limit exceeded (<Response [429]>)\n",
      "\u001b[34m\u001b[1mwandb\u001b[0m: Network error (HTTPError), entering retry loop.\n",
      "\u001b[34m\u001b[1mwandb\u001b[0m: \u001b[32m\u001b[41mERROR\u001b[0m Error while calling W&B API: rate limit exceeded (<Response [429]>)\n",
      "\u001b[34m\u001b[1mwandb\u001b[0m: \u001b[32m\u001b[41mERROR\u001b[0m Error while calling W&B API: rate limit exceeded (<Response [429]>)\n",
      "\u001b[34m\u001b[1mwandb\u001b[0m: \u001b[32m\u001b[41mERROR\u001b[0m Error while calling W&B API: rate limit exceeded (<Response [429]>)\n",
      "\u001b[34m\u001b[1mwandb\u001b[0m: \u001b[32m\u001b[41mERROR\u001b[0m Error while calling W&B API: rate limit exceeded (<Response [429]>)\n",
      "\u001b[34m\u001b[1mwandb\u001b[0m: \u001b[32m\u001b[41mERROR\u001b[0m Error while calling W&B API: rate limit exceeded (<Response [429]>)\n",
      "\u001b[34m\u001b[1mwandb\u001b[0m:   1 of 1 files downloaded.  \n"
     ]
    },
    {
     "name": "stdout",
     "output_type": "stream",
     "text": [
      "2025-04-20 13:13:01,019 - INFO - Downloaded logs_ukkcqepy:v0 to /scratch/downloaded_artifacts/logs_ukkcqepy:v0\n"
     ]
    },
    {
     "name": "stderr",
     "output_type": "stream",
     "text": [
      "\u001b[34m\u001b[1mwandb\u001b[0m:   1 of 1 files downloaded.  \n"
     ]
    },
    {
     "name": "stdout",
     "output_type": "stream",
     "text": [
      "2025-04-20 13:13:01,095 - INFO - Downloaded logs_dq5i1cgb:v0 to /scratch/downloaded_artifacts/logs_dq5i1cgb:v0\n"
     ]
    },
    {
     "name": "stderr",
     "output_type": "stream",
     "text": [
      "\u001b[34m\u001b[1mwandb\u001b[0m:   1 of 1 files downloaded.  \n"
     ]
    },
    {
     "name": "stdout",
     "output_type": "stream",
     "text": [
      "2025-04-20 13:13:01,234 - INFO - Downloaded logs_62pjffcs:v0 to /scratch/downloaded_artifacts/logs_62pjffcs:v0\n"
     ]
    },
    {
     "name": "stderr",
     "output_type": "stream",
     "text": [
      "\u001b[34m\u001b[1mwandb\u001b[0m:   1 of 1 files downloaded.  \n"
     ]
    },
    {
     "name": "stdout",
     "output_type": "stream",
     "text": [
      "2025-04-20 13:13:01,348 - INFO - Downloaded logs_gi1ks2z4:v0 to /scratch/downloaded_artifacts/logs_gi1ks2z4:v0\n"
     ]
    },
    {
     "name": "stderr",
     "output_type": "stream",
     "text": [
      "\u001b[34m\u001b[1mwandb\u001b[0m:   1 of 1 files downloaded.  \n"
     ]
    },
    {
     "name": "stdout",
     "output_type": "stream",
     "text": [
      "2025-04-20 13:13:01,367 - INFO - Downloaded logs_0kyk2zg9:v0 to /scratch/downloaded_artifacts/logs_0kyk2zg9:v0\n"
     ]
    },
    {
     "name": "stderr",
     "output_type": "stream",
     "text": [
      "\u001b[34m\u001b[1mwandb\u001b[0m:   1 of 1 files downloaded.  \n"
     ]
    },
    {
     "name": "stdout",
     "output_type": "stream",
     "text": [
      "2025-04-20 13:13:01,393 - INFO - Downloaded logs_c7qatwz1:v0 to /scratch/downloaded_artifacts/logs_c7qatwz1:v0\n"
     ]
    },
    {
     "name": "stderr",
     "output_type": "stream",
     "text": [
      "\u001b[34m\u001b[1mwandb\u001b[0m:   1 of 1 files downloaded.  \n"
     ]
    },
    {
     "name": "stdout",
     "output_type": "stream",
     "text": [
      "2025-04-20 13:13:01,422 - INFO - Downloaded logs_vqudcyaq:v0 to /scratch/downloaded_artifacts/logs_vqudcyaq:v0\n"
     ]
    },
    {
     "name": "stderr",
     "output_type": "stream",
     "text": [
      "\u001b[34m\u001b[1mwandb\u001b[0m:   1 of 1 files downloaded.  \n"
     ]
    },
    {
     "name": "stdout",
     "output_type": "stream",
     "text": [
      "2025-04-20 13:13:01,436 - INFO - Downloaded logs_di53nyu5:v0 to /scratch/downloaded_artifacts/logs_di53nyu5:v0\n"
     ]
    },
    {
     "name": "stderr",
     "output_type": "stream",
     "text": [
      "\u001b[34m\u001b[1mwandb\u001b[0m:   1 of 1 files downloaded.  \n"
     ]
    },
    {
     "name": "stdout",
     "output_type": "stream",
     "text": [
      "2025-04-20 13:13:01,496 - INFO - Downloaded logs_48t2zo7b:v0 to /scratch/downloaded_artifacts/logs_48t2zo7b:v0\n"
     ]
    },
    {
     "name": "stderr",
     "output_type": "stream",
     "text": [
      "\u001b[34m\u001b[1mwandb\u001b[0m:   1 of 1 files downloaded.  \n"
     ]
    },
    {
     "name": "stdout",
     "output_type": "stream",
     "text": [
      "2025-04-20 13:13:01,676 - INFO - Downloaded logs_69bis7f1:v0 to /scratch/downloaded_artifacts/logs_69bis7f1:v0\n"
     ]
    },
    {
     "name": "stderr",
     "output_type": "stream",
     "text": [
      "\u001b[34m\u001b[1mwandb\u001b[0m:   1 of 1 files downloaded.  \n"
     ]
    },
    {
     "name": "stdout",
     "output_type": "stream",
     "text": [
      "2025-04-20 13:13:01,904 - INFO - Downloaded logs_o5xzgn1e:v0 to /scratch/downloaded_artifacts/logs_o5xzgn1e:v0\n"
     ]
    },
    {
     "name": "stderr",
     "output_type": "stream",
     "text": [
      "\u001b[34m\u001b[1mwandb\u001b[0m:   1 of 1 files downloaded.  \n"
     ]
    },
    {
     "name": "stdout",
     "output_type": "stream",
     "text": [
      "2025-04-20 13:13:02,026 - INFO - Downloaded logs_g14bidcz:v0 to /scratch/downloaded_artifacts/logs_g14bidcz:v0\n"
     ]
    },
    {
     "name": "stderr",
     "output_type": "stream",
     "text": [
      "\u001b[34m\u001b[1mwandb\u001b[0m:   1 of 1 files downloaded.  \n"
     ]
    },
    {
     "name": "stdout",
     "output_type": "stream",
     "text": [
      "2025-04-20 13:13:02,037 - INFO - Downloaded logs_r5ts302h:v0 to /scratch/downloaded_artifacts/logs_r5ts302h:v0\n"
     ]
    },
    {
     "name": "stderr",
     "output_type": "stream",
     "text": [
      "\u001b[34m\u001b[1mwandb\u001b[0m:   1 of 1 files downloaded.  \n"
     ]
    },
    {
     "name": "stdout",
     "output_type": "stream",
     "text": [
      "2025-04-20 13:13:02,061 - INFO - Downloaded logs_w7enpebx:v0 to /scratch/downloaded_artifacts/logs_w7enpebx:v0\n"
     ]
    },
    {
     "name": "stderr",
     "output_type": "stream",
     "text": [
      "\u001b[34m\u001b[1mwandb\u001b[0m:   1 of 1 files downloaded.  \n"
     ]
    },
    {
     "name": "stdout",
     "output_type": "stream",
     "text": [
      "2025-04-20 13:13:02,151 - INFO - Downloaded logs_omnhpuam:v0 to /scratch/downloaded_artifacts/logs_omnhpuam:v0\n"
     ]
    },
    {
     "name": "stderr",
     "output_type": "stream",
     "text": [
      "\u001b[34m\u001b[1mwandb\u001b[0m:   1 of 1 files downloaded.  \n"
     ]
    },
    {
     "name": "stdout",
     "output_type": "stream",
     "text": [
      "2025-04-20 13:13:02,167 - INFO - Downloaded logs_lenpkf31:v0 to /scratch/downloaded_artifacts/logs_lenpkf31:v0\n"
     ]
    },
    {
     "name": "stderr",
     "output_type": "stream",
     "text": [
      "\u001b[34m\u001b[1mwandb\u001b[0m:   1 of 1 files downloaded.  \n"
     ]
    },
    {
     "name": "stdout",
     "output_type": "stream",
     "text": [
      "2025-04-20 13:13:02,172 - INFO - Downloaded logs_4hhe64x4:v0 to /scratch/downloaded_artifacts/logs_4hhe64x4:v0\n"
     ]
    },
    {
     "name": "stderr",
     "output_type": "stream",
     "text": [
      "\u001b[34m\u001b[1mwandb\u001b[0m:   1 of 1 files downloaded.  \n"
     ]
    },
    {
     "name": "stdout",
     "output_type": "stream",
     "text": [
      "2025-04-20 13:13:02,216 - INFO - Downloaded logs_w8c97vjv:v0 to /scratch/downloaded_artifacts/logs_w8c97vjv:v0\n"
     ]
    },
    {
     "name": "stderr",
     "output_type": "stream",
     "text": [
      "\u001b[34m\u001b[1mwandb\u001b[0m:   1 of 1 files downloaded.  \n"
     ]
    },
    {
     "name": "stdout",
     "output_type": "stream",
     "text": [
      "2025-04-20 13:13:04,514 - INFO - Downloaded logs_79nm0sp5:v0 to /scratch/downloaded_artifacts/logs_79nm0sp5:v0\n"
     ]
    },
    {
     "name": "stderr",
     "output_type": "stream",
     "text": [
      "\u001b[34m\u001b[1mwandb\u001b[0m:   1 of 1 files downloaded.  \n"
     ]
    },
    {
     "name": "stdout",
     "output_type": "stream",
     "text": [
      "2025-04-20 13:13:04,516 - INFO - Downloaded logs_hwffp1a1:v0 to /scratch/downloaded_artifacts/logs_hwffp1a1:v0\n"
     ]
    },
    {
     "name": "stderr",
     "output_type": "stream",
     "text": [
      "\u001b[34m\u001b[1mwandb\u001b[0m:   1 of 1 files downloaded.  \n"
     ]
    },
    {
     "name": "stdout",
     "output_type": "stream",
     "text": [
      "2025-04-20 13:13:04,672 - INFO - Downloaded logs_o9jdm65a:v0 to /scratch/downloaded_artifacts/logs_o9jdm65a:v0\n"
     ]
    },
    {
     "name": "stderr",
     "output_type": "stream",
     "text": [
      "\u001b[34m\u001b[1mwandb\u001b[0m:   1 of 1 files downloaded.  \n"
     ]
    },
    {
     "name": "stdout",
     "output_type": "stream",
     "text": [
      "2025-04-20 13:13:04,801 - INFO - Downloaded logs_7zyua9h3:v0 to /scratch/downloaded_artifacts/logs_7zyua9h3:v0\n"
     ]
    },
    {
     "name": "stderr",
     "output_type": "stream",
     "text": [
      "\u001b[34m\u001b[1mwandb\u001b[0m:   1 of 1 files downloaded.  \n"
     ]
    },
    {
     "name": "stdout",
     "output_type": "stream",
     "text": [
      "2025-04-20 13:13:06,799 - INFO - Downloaded logs_3pp9q24b:v0 to /scratch/downloaded_artifacts/logs_3pp9q24b:v0\n"
     ]
    },
    {
     "name": "stderr",
     "output_type": "stream",
     "text": [
      "\u001b[34m\u001b[1mwandb\u001b[0m:   1 of 1 files downloaded.  \n"
     ]
    },
    {
     "name": "stdout",
     "output_type": "stream",
     "text": [
      "2025-04-20 13:13:06,830 - INFO - Downloaded logs_yaxzzzgr:v0 to /scratch/downloaded_artifacts/logs_yaxzzzgr:v0\n"
     ]
    },
    {
     "name": "stderr",
     "output_type": "stream",
     "text": [
      "\u001b[34m\u001b[1mwandb\u001b[0m:   1 of 1 files downloaded.  \n"
     ]
    },
    {
     "name": "stdout",
     "output_type": "stream",
     "text": [
      "2025-04-20 13:13:06,911 - INFO - Downloaded logs_xr5e6dcj:v0 to /scratch/downloaded_artifacts/logs_xr5e6dcj:v0\n"
     ]
    },
    {
     "name": "stderr",
     "output_type": "stream",
     "text": [
      "\u001b[34m\u001b[1mwandb\u001b[0m:   1 of 1 files downloaded.  \n"
     ]
    },
    {
     "name": "stdout",
     "output_type": "stream",
     "text": [
      "2025-04-20 13:13:07,422 - INFO - Downloaded logs_9vmqlybr:v0 to /scratch/downloaded_artifacts/logs_9vmqlybr:v0\n"
     ]
    },
    {
     "name": "stderr",
     "output_type": "stream",
     "text": [
      "\u001b[34m\u001b[1mwandb\u001b[0m:   1 of 1 files downloaded.  \n"
     ]
    },
    {
     "name": "stdout",
     "output_type": "stream",
     "text": [
      "2025-04-20 13:13:07,467 - INFO - Downloaded logs_hx0ejuyw:v0 to /scratch/downloaded_artifacts/logs_hx0ejuyw:v0\n"
     ]
    },
    {
     "name": "stderr",
     "output_type": "stream",
     "text": [
      "\u001b[34m\u001b[1mwandb\u001b[0m:   1 of 1 files downloaded.  \n"
     ]
    },
    {
     "name": "stdout",
     "output_type": "stream",
     "text": [
      "2025-04-20 13:13:07,494 - INFO - Downloaded logs_6nwakyb4:v0 to /scratch/downloaded_artifacts/logs_6nwakyb4:v0\n"
     ]
    },
    {
     "name": "stderr",
     "output_type": "stream",
     "text": [
      "\u001b[34m\u001b[1mwandb\u001b[0m:   1 of 1 files downloaded.  \n"
     ]
    },
    {
     "name": "stdout",
     "output_type": "stream",
     "text": [
      "2025-04-20 13:13:07,569 - INFO - Downloaded logs_fe1ex80t:v0 to /scratch/downloaded_artifacts/logs_fe1ex80t:v0\n"
     ]
    },
    {
     "name": "stderr",
     "output_type": "stream",
     "text": [
      "\u001b[34m\u001b[1mwandb\u001b[0m:   1 of 1 files downloaded.  \n"
     ]
    },
    {
     "name": "stdout",
     "output_type": "stream",
     "text": [
      "2025-04-20 13:13:07,796 - INFO - Downloaded logs_h44mno4o:v0 to /scratch/downloaded_artifacts/logs_h44mno4o:v0\n"
     ]
    },
    {
     "name": "stderr",
     "output_type": "stream",
     "text": [
      "\u001b[34m\u001b[1mwandb\u001b[0m:   1 of 1 files downloaded.  \n"
     ]
    },
    {
     "name": "stdout",
     "output_type": "stream",
     "text": [
      "2025-04-20 13:13:08,184 - INFO - Downloaded logs_inluguqk:v0 to /scratch/downloaded_artifacts/logs_inluguqk:v0\n"
     ]
    },
    {
     "name": "stderr",
     "output_type": "stream",
     "text": [
      "\u001b[34m\u001b[1mwandb\u001b[0m:   1 of 1 files downloaded.  \n"
     ]
    },
    {
     "name": "stdout",
     "output_type": "stream",
     "text": [
      "2025-04-20 13:13:08,626 - INFO - Downloaded logs_m4lv3kef:v0 to /scratch/downloaded_artifacts/logs_m4lv3kef:v0\n"
     ]
    },
    {
     "name": "stderr",
     "output_type": "stream",
     "text": [
      "\u001b[34m\u001b[1mwandb\u001b[0m:   1 of 1 files downloaded.  \n"
     ]
    },
    {
     "name": "stdout",
     "output_type": "stream",
     "text": [
      "2025-04-20 13:13:08,761 - INFO - Downloaded logs_on9x7f49:v0 to /scratch/downloaded_artifacts/logs_on9x7f49:v0\n"
     ]
    },
    {
     "name": "stderr",
     "output_type": "stream",
     "text": [
      "\u001b[34m\u001b[1mwandb\u001b[0m:   1 of 1 files downloaded.  \n"
     ]
    },
    {
     "name": "stdout",
     "output_type": "stream",
     "text": [
      "2025-04-20 13:13:08,852 - INFO - Downloaded logs_0jpnuh7g:v0 to /scratch/downloaded_artifacts/logs_0jpnuh7g:v0\n"
     ]
    },
    {
     "name": "stderr",
     "output_type": "stream",
     "text": [
      "\u001b[34m\u001b[1mwandb\u001b[0m:   1 of 1 files downloaded.  \n"
     ]
    },
    {
     "name": "stdout",
     "output_type": "stream",
     "text": [
      "2025-04-20 13:13:08,879 - INFO - Downloaded logs_0j5vgy9y:v0 to /scratch/downloaded_artifacts/logs_0j5vgy9y:v0\n"
     ]
    },
    {
     "name": "stderr",
     "output_type": "stream",
     "text": [
      "\u001b[34m\u001b[1mwandb\u001b[0m:   1 of 1 files downloaded.  \n"
     ]
    },
    {
     "name": "stdout",
     "output_type": "stream",
     "text": [
      "2025-04-20 13:13:08,885 - INFO - Downloaded logs_7sbqoict:v0 to /scratch/downloaded_artifacts/logs_7sbqoict:v0\n"
     ]
    },
    {
     "name": "stderr",
     "output_type": "stream",
     "text": [
      "\u001b[34m\u001b[1mwandb\u001b[0m:   1 of 1 files downloaded.  \n"
     ]
    },
    {
     "name": "stdout",
     "output_type": "stream",
     "text": [
      "2025-04-20 13:13:09,454 - INFO - Downloaded logs_vwmmyd2e:v0 to /scratch/downloaded_artifacts/logs_vwmmyd2e:v0\n"
     ]
    },
    {
     "name": "stderr",
     "output_type": "stream",
     "text": [
      "\u001b[34m\u001b[1mwandb\u001b[0m:   1 of 1 files downloaded.  \n"
     ]
    },
    {
     "name": "stdout",
     "output_type": "stream",
     "text": [
      "2025-04-20 13:13:09,636 - INFO - Downloaded logs_nvx6b8fv:v0 to /scratch/downloaded_artifacts/logs_nvx6b8fv:v0\n"
     ]
    },
    {
     "name": "stderr",
     "output_type": "stream",
     "text": [
      "\u001b[34m\u001b[1mwandb\u001b[0m:   1 of 1 files downloaded.  \n"
     ]
    },
    {
     "name": "stdout",
     "output_type": "stream",
     "text": [
      "2025-04-20 13:13:42,619 - INFO - Downloaded logs_8b4ferxc:v0 to /scratch/downloaded_artifacts/logs_8b4ferxc:v0\n"
     ]
    },
    {
     "name": "stderr",
     "output_type": "stream",
     "text": [
      "\u001b[34m\u001b[1mwandb\u001b[0m:   1 of 1 files downloaded.  \n"
     ]
    },
    {
     "name": "stdout",
     "output_type": "stream",
     "text": [
      "2025-04-20 13:13:42,660 - INFO - Downloaded logs_keo8y46h:v0 to /scratch/downloaded_artifacts/logs_keo8y46h:v0\n"
     ]
    },
    {
     "name": "stderr",
     "output_type": "stream",
     "text": [
      "\u001b[34m\u001b[1mwandb\u001b[0m:   1 of 1 files downloaded.  \n"
     ]
    },
    {
     "name": "stdout",
     "output_type": "stream",
     "text": [
      "2025-04-20 13:13:42,751 - INFO - Downloaded logs_euy1jc4t:v0 to /scratch/downloaded_artifacts/logs_euy1jc4t:v0\n"
     ]
    },
    {
     "name": "stderr",
     "output_type": "stream",
     "text": [
      "\u001b[34m\u001b[1mwandb\u001b[0m:   1 of 1 files downloaded.  \n"
     ]
    },
    {
     "name": "stdout",
     "output_type": "stream",
     "text": [
      "2025-04-20 13:13:42,820 - INFO - Downloaded logs_gvq9xcgw:v0 to /scratch/downloaded_artifacts/logs_gvq9xcgw:v0\n"
     ]
    },
    {
     "name": "stderr",
     "output_type": "stream",
     "text": [
      "\u001b[34m\u001b[1mwandb\u001b[0m:   1 of 1 files downloaded.  \n"
     ]
    },
    {
     "name": "stdout",
     "output_type": "stream",
     "text": [
      "2025-04-20 13:13:42,997 - INFO - Downloaded logs_nxjog17j:v0 to /scratch/downloaded_artifacts/logs_nxjog17j:v0\n"
     ]
    },
    {
     "name": "stderr",
     "output_type": "stream",
     "text": [
      "\u001b[34m\u001b[1mwandb\u001b[0m:   1 of 1 files downloaded.  \n"
     ]
    },
    {
     "name": "stdout",
     "output_type": "stream",
     "text": [
      "2025-04-20 13:13:43,004 - INFO - Downloaded logs_pm8ny6e5:v0 to /scratch/downloaded_artifacts/logs_pm8ny6e5:v0\n"
     ]
    },
    {
     "name": "stderr",
     "output_type": "stream",
     "text": [
      "\u001b[34m\u001b[1mwandb\u001b[0m:   1 of 1 files downloaded.  \n"
     ]
    },
    {
     "name": "stdout",
     "output_type": "stream",
     "text": [
      "2025-04-20 13:13:43,046 - INFO - Downloaded logs_mw73kg7f:v0 to /scratch/downloaded_artifacts/logs_mw73kg7f:v0\n"
     ]
    },
    {
     "name": "stderr",
     "output_type": "stream",
     "text": [
      "\u001b[34m\u001b[1mwandb\u001b[0m:   1 of 1 files downloaded.  \n"
     ]
    },
    {
     "name": "stdout",
     "output_type": "stream",
     "text": [
      "2025-04-20 13:13:43,100 - INFO - Downloaded logs_2ath7kk6:v0 to /scratch/downloaded_artifacts/logs_2ath7kk6:v0\n"
     ]
    },
    {
     "name": "stderr",
     "output_type": "stream",
     "text": [
      "\u001b[34m\u001b[1mwandb\u001b[0m:   1 of 1 files downloaded.  \n"
     ]
    },
    {
     "name": "stdout",
     "output_type": "stream",
     "text": [
      "2025-04-20 13:13:43,117 - INFO - Downloaded logs_qvwidamp:v0 to /scratch/downloaded_artifacts/logs_qvwidamp:v0\n"
     ]
    },
    {
     "name": "stderr",
     "output_type": "stream",
     "text": [
      "\u001b[34m\u001b[1mwandb\u001b[0m:   1 of 1 files downloaded.  \n"
     ]
    },
    {
     "name": "stdout",
     "output_type": "stream",
     "text": [
      "2025-04-20 13:13:43,128 - INFO - Downloaded logs_zgwo1jez:v0 to /scratch/downloaded_artifacts/logs_zgwo1jez:v0\n"
     ]
    },
    {
     "name": "stderr",
     "output_type": "stream",
     "text": [
      "\u001b[34m\u001b[1mwandb\u001b[0m:   1 of 1 files downloaded.  \n"
     ]
    },
    {
     "name": "stdout",
     "output_type": "stream",
     "text": [
      "2025-04-20 13:13:43,138 - INFO - Downloaded logs_692chln3:v0 to /scratch/downloaded_artifacts/logs_692chln3:v0\n"
     ]
    },
    {
     "name": "stderr",
     "output_type": "stream",
     "text": [
      "\u001b[34m\u001b[1mwandb\u001b[0m:   1 of 1 files downloaded.  \n"
     ]
    },
    {
     "name": "stdout",
     "output_type": "stream",
     "text": [
      "2025-04-20 13:13:43,198 - INFO - Downloaded logs_ftr5r8ui:v0 to /scratch/downloaded_artifacts/logs_ftr5r8ui:v0\n"
     ]
    },
    {
     "name": "stderr",
     "output_type": "stream",
     "text": [
      "\u001b[34m\u001b[1mwandb\u001b[0m:   1 of 1 files downloaded.  \n"
     ]
    },
    {
     "name": "stdout",
     "output_type": "stream",
     "text": [
      "2025-04-20 13:13:43,214 - INFO - Downloaded logs_02qilr9u:v0 to /scratch/downloaded_artifacts/logs_02qilr9u:v0\n"
     ]
    },
    {
     "name": "stderr",
     "output_type": "stream",
     "text": [
      "\u001b[34m\u001b[1mwandb\u001b[0m:   1 of 1 files downloaded.  \n"
     ]
    },
    {
     "name": "stdout",
     "output_type": "stream",
     "text": [
      "2025-04-20 13:13:43,238 - INFO - Downloaded logs_80vpun4i:v0 to /scratch/downloaded_artifacts/logs_80vpun4i:v0\n"
     ]
    },
    {
     "name": "stderr",
     "output_type": "stream",
     "text": [
      "\u001b[34m\u001b[1mwandb\u001b[0m:   1 of 1 files downloaded.  \n"
     ]
    },
    {
     "name": "stdout",
     "output_type": "stream",
     "text": [
      "2025-04-20 13:13:43,258 - INFO - Downloaded logs_ozu2aocw:v0 to /scratch/downloaded_artifacts/logs_ozu2aocw:v0\n"
     ]
    },
    {
     "name": "stderr",
     "output_type": "stream",
     "text": [
      "\u001b[34m\u001b[1mwandb\u001b[0m:   1 of 1 files downloaded.  \n"
     ]
    },
    {
     "name": "stdout",
     "output_type": "stream",
     "text": [
      "2025-04-20 13:13:43,281 - INFO - Downloaded logs_1vmu159f:v0 to /scratch/downloaded_artifacts/logs_1vmu159f:v0\n"
     ]
    },
    {
     "name": "stderr",
     "output_type": "stream",
     "text": [
      "\u001b[34m\u001b[1mwandb\u001b[0m:   1 of 1 files downloaded.  \n"
     ]
    },
    {
     "name": "stdout",
     "output_type": "stream",
     "text": [
      "2025-04-20 13:13:43,298 - INFO - Downloaded logs_197ayuwn:v0 to /scratch/downloaded_artifacts/logs_197ayuwn:v0\n"
     ]
    },
    {
     "name": "stderr",
     "output_type": "stream",
     "text": [
      "\u001b[34m\u001b[1mwandb\u001b[0m:   1 of 1 files downloaded.  \n"
     ]
    },
    {
     "name": "stdout",
     "output_type": "stream",
     "text": [
      "2025-04-20 13:13:43,346 - INFO - Downloaded logs_gp0ha7c5:v0 to /scratch/downloaded_artifacts/logs_gp0ha7c5:v0\n"
     ]
    },
    {
     "name": "stderr",
     "output_type": "stream",
     "text": [
      "\u001b[34m\u001b[1mwandb\u001b[0m:   1 of 1 files downloaded.  \n"
     ]
    },
    {
     "name": "stdout",
     "output_type": "stream",
     "text": [
      "2025-04-20 13:13:43,383 - INFO - Downloaded logs_46y87lwm:v0 to /scratch/downloaded_artifacts/logs_46y87lwm:v0\n"
     ]
    },
    {
     "name": "stderr",
     "output_type": "stream",
     "text": [
      "\u001b[34m\u001b[1mwandb\u001b[0m:   1 of 1 files downloaded.  \n"
     ]
    },
    {
     "name": "stdout",
     "output_type": "stream",
     "text": [
      "2025-04-20 13:13:43,387 - INFO - Downloaded logs_5tzzqdno:v0 to /scratch/downloaded_artifacts/logs_5tzzqdno:v0\n"
     ]
    },
    {
     "name": "stderr",
     "output_type": "stream",
     "text": [
      "\u001b[34m\u001b[1mwandb\u001b[0m:   1 of 1 files downloaded.  \n"
     ]
    },
    {
     "name": "stdout",
     "output_type": "stream",
     "text": [
      "2025-04-20 13:13:43,833 - INFO - Downloaded logs_s22qxfcm:v0 to /scratch/downloaded_artifacts/logs_s22qxfcm:v0\n"
     ]
    },
    {
     "name": "stderr",
     "output_type": "stream",
     "text": [
      "\u001b[34m\u001b[1mwandb\u001b[0m:   1 of 1 files downloaded.  \n"
     ]
    },
    {
     "name": "stdout",
     "output_type": "stream",
     "text": [
      "2025-04-20 13:13:43,960 - INFO - Downloaded logs_lizo9saf:v0 to /scratch/downloaded_artifacts/logs_lizo9saf:v0\n"
     ]
    },
    {
     "name": "stderr",
     "output_type": "stream",
     "text": [
      "\u001b[34m\u001b[1mwandb\u001b[0m:   1 of 1 files downloaded.  \n"
     ]
    },
    {
     "name": "stdout",
     "output_type": "stream",
     "text": [
      "2025-04-20 13:13:44,121 - INFO - Downloaded logs_crat1j9f:v0 to /scratch/downloaded_artifacts/logs_crat1j9f:v0\n"
     ]
    },
    {
     "name": "stderr",
     "output_type": "stream",
     "text": [
      "\u001b[34m\u001b[1mwandb\u001b[0m:   1 of 1 files downloaded.  \n"
     ]
    },
    {
     "name": "stdout",
     "output_type": "stream",
     "text": [
      "2025-04-20 13:13:44,307 - INFO - Downloaded logs_lxa904vl:v0 to /scratch/downloaded_artifacts/logs_lxa904vl:v0\n"
     ]
    },
    {
     "name": "stderr",
     "output_type": "stream",
     "text": [
      "\u001b[34m\u001b[1mwandb\u001b[0m:   1 of 1 files downloaded.  \n"
     ]
    },
    {
     "name": "stdout",
     "output_type": "stream",
     "text": [
      "2025-04-20 13:13:44,417 - INFO - Downloaded logs_ro2unu29:v0 to /scratch/downloaded_artifacts/logs_ro2unu29:v0\n"
     ]
    },
    {
     "name": "stderr",
     "output_type": "stream",
     "text": [
      "\u001b[34m\u001b[1mwandb\u001b[0m:   1 of 1 files downloaded.  \n"
     ]
    },
    {
     "name": "stdout",
     "output_type": "stream",
     "text": [
      "2025-04-20 13:13:44,495 - INFO - Downloaded logs_pp8sek88:v0 to /scratch/downloaded_artifacts/logs_pp8sek88:v0\n"
     ]
    },
    {
     "name": "stderr",
     "output_type": "stream",
     "text": [
      "\u001b[34m\u001b[1mwandb\u001b[0m:   1 of 1 files downloaded.  \n"
     ]
    },
    {
     "name": "stdout",
     "output_type": "stream",
     "text": [
      "2025-04-20 13:13:44,520 - INFO - Downloaded logs_mlmks35z:v0 to /scratch/downloaded_artifacts/logs_mlmks35z:v0\n"
     ]
    },
    {
     "name": "stderr",
     "output_type": "stream",
     "text": [
      "\u001b[34m\u001b[1mwandb\u001b[0m:   1 of 1 files downloaded.  \n"
     ]
    },
    {
     "name": "stdout",
     "output_type": "stream",
     "text": [
      "2025-04-20 13:13:44,702 - INFO - Downloaded logs_r1uf0gxt:v0 to /scratch/downloaded_artifacts/logs_r1uf0gxt:v0\n"
     ]
    },
    {
     "name": "stderr",
     "output_type": "stream",
     "text": [
      "\u001b[34m\u001b[1mwandb\u001b[0m:   1 of 1 files downloaded.  \n"
     ]
    },
    {
     "name": "stdout",
     "output_type": "stream",
     "text": [
      "2025-04-20 13:13:44,782 - INFO - Downloaded logs_9rxjmo11:v0 to /scratch/downloaded_artifacts/logs_9rxjmo11:v0\n"
     ]
    },
    {
     "name": "stderr",
     "output_type": "stream",
     "text": [
      "\u001b[34m\u001b[1mwandb\u001b[0m:   1 of 1 files downloaded.  \n"
     ]
    },
    {
     "name": "stdout",
     "output_type": "stream",
     "text": [
      "2025-04-20 13:13:44,813 - INFO - Downloaded logs_okhdyi95:v0 to /scratch/downloaded_artifacts/logs_okhdyi95:v0\n"
     ]
    },
    {
     "name": "stderr",
     "output_type": "stream",
     "text": [
      "\u001b[34m\u001b[1mwandb\u001b[0m:   1 of 1 files downloaded.  \n"
     ]
    },
    {
     "name": "stdout",
     "output_type": "stream",
     "text": [
      "2025-04-20 13:13:44,827 - INFO - Downloaded logs_s2he9wsm:v0 to /scratch/downloaded_artifacts/logs_s2he9wsm:v0\n"
     ]
    },
    {
     "name": "stderr",
     "output_type": "stream",
     "text": [
      "\u001b[34m\u001b[1mwandb\u001b[0m:   1 of 1 files downloaded.  \n"
     ]
    },
    {
     "name": "stdout",
     "output_type": "stream",
     "text": [
      "2025-04-20 13:13:44,875 - INFO - Downloaded logs_9nga6kvm:v0 to /scratch/downloaded_artifacts/logs_9nga6kvm:v0\n"
     ]
    },
    {
     "name": "stderr",
     "output_type": "stream",
     "text": [
      "\u001b[34m\u001b[1mwandb\u001b[0m:   1 of 1 files downloaded.  \n"
     ]
    },
    {
     "name": "stdout",
     "output_type": "stream",
     "text": [
      "2025-04-20 13:13:44,920 - INFO - Downloaded logs_9o5kdnos:v0 to /scratch/downloaded_artifacts/logs_9o5kdnos:v0\n"
     ]
    },
    {
     "name": "stderr",
     "output_type": "stream",
     "text": [
      "\u001b[34m\u001b[1mwandb\u001b[0m:   1 of 1 files downloaded.  \n"
     ]
    },
    {
     "name": "stdout",
     "output_type": "stream",
     "text": [
      "2025-04-20 13:13:44,925 - INFO - Downloaded logs_smq8gl2l:v0 to /scratch/downloaded_artifacts/logs_smq8gl2l:v0\n"
     ]
    },
    {
     "name": "stderr",
     "output_type": "stream",
     "text": [
      "\u001b[34m\u001b[1mwandb\u001b[0m:   1 of 1 files downloaded.  \n"
     ]
    },
    {
     "name": "stdout",
     "output_type": "stream",
     "text": [
      "2025-04-20 13:13:44,934 - INFO - Downloaded logs_ch1uvnl4:v0 to /scratch/downloaded_artifacts/logs_ch1uvnl4:v0\n"
     ]
    },
    {
     "name": "stderr",
     "output_type": "stream",
     "text": [
      "\u001b[34m\u001b[1mwandb\u001b[0m:   1 of 1 files downloaded.  \n",
      "\u001b[34m\u001b[1mwandb\u001b[0m:   1 of 1 files downloaded.  \n"
     ]
    },
    {
     "name": "stdout",
     "output_type": "stream",
     "text": [
      "2025-04-20 13:13:44,982 - INFO - Downloaded logs_h213lseh:v0 to /scratch/downloaded_artifacts/logs_h213lseh:v0\n",
      "2025-04-20 13:13:44,986 - INFO - Downloaded logs_wp73s0d3:v0 to /scratch/downloaded_artifacts/logs_wp73s0d3:v0\n"
     ]
    },
    {
     "name": "stderr",
     "output_type": "stream",
     "text": [
      "\u001b[34m\u001b[1mwandb\u001b[0m:   1 of 1 files downloaded.  \n"
     ]
    },
    {
     "name": "stdout",
     "output_type": "stream",
     "text": [
      "2025-04-20 13:13:45,037 - INFO - Downloaded logs_pp8uadyp:v0 to /scratch/downloaded_artifacts/logs_pp8uadyp:v0\n"
     ]
    },
    {
     "name": "stderr",
     "output_type": "stream",
     "text": [
      "\u001b[34m\u001b[1mwandb\u001b[0m:   1 of 1 files downloaded.  \n"
     ]
    },
    {
     "name": "stdout",
     "output_type": "stream",
     "text": [
      "2025-04-20 13:13:45,041 - INFO - Downloaded logs_n4ry9dwg:v0 to /scratch/downloaded_artifacts/logs_n4ry9dwg:v0\n"
     ]
    },
    {
     "name": "stderr",
     "output_type": "stream",
     "text": [
      "\u001b[34m\u001b[1mwandb\u001b[0m:   1 of 1 files downloaded.  \n"
     ]
    },
    {
     "name": "stdout",
     "output_type": "stream",
     "text": [
      "2025-04-20 13:13:45,047 - INFO - Downloaded logs_oay0hd9g:v0 to /scratch/downloaded_artifacts/logs_oay0hd9g:v0\n"
     ]
    },
    {
     "name": "stderr",
     "output_type": "stream",
     "text": [
      "\u001b[34m\u001b[1mwandb\u001b[0m:   1 of 1 files downloaded.  \n"
     ]
    },
    {
     "name": "stdout",
     "output_type": "stream",
     "text": [
      "2025-04-20 13:13:45,244 - INFO - Downloaded logs_118x3j42:v0 to /scratch/downloaded_artifacts/logs_118x3j42:v0\n"
     ]
    },
    {
     "name": "stderr",
     "output_type": "stream",
     "text": [
      "\u001b[34m\u001b[1mwandb\u001b[0m:   1 of 1 files downloaded.  \n"
     ]
    },
    {
     "name": "stdout",
     "output_type": "stream",
     "text": [
      "2025-04-20 13:13:45,406 - INFO - Downloaded logs_z668rit0:v0 to /scratch/downloaded_artifacts/logs_z668rit0:v0\n"
     ]
    },
    {
     "name": "stderr",
     "output_type": "stream",
     "text": [
      "\u001b[34m\u001b[1mwandb\u001b[0m:   1 of 1 files downloaded.  \n"
     ]
    },
    {
     "name": "stdout",
     "output_type": "stream",
     "text": [
      "2025-04-20 13:13:45,592 - INFO - Downloaded logs_32h0p8zv:v0 to /scratch/downloaded_artifacts/logs_32h0p8zv:v0\n"
     ]
    },
    {
     "name": "stderr",
     "output_type": "stream",
     "text": [
      "\u001b[34m\u001b[1mwandb\u001b[0m:   1 of 1 files downloaded.  \n"
     ]
    },
    {
     "name": "stdout",
     "output_type": "stream",
     "text": [
      "2025-04-20 13:13:45,647 - INFO - Downloaded logs_3du6q0ug:v0 to /scratch/downloaded_artifacts/logs_3du6q0ug:v0\n"
     ]
    },
    {
     "name": "stderr",
     "output_type": "stream",
     "text": [
      "\u001b[34m\u001b[1mwandb\u001b[0m:   1 of 1 files downloaded.  \n"
     ]
    },
    {
     "name": "stdout",
     "output_type": "stream",
     "text": [
      "2025-04-20 13:13:45,780 - INFO - Downloaded logs_772c7oz6:v0 to /scratch/downloaded_artifacts/logs_772c7oz6:v0\n"
     ]
    },
    {
     "name": "stderr",
     "output_type": "stream",
     "text": [
      "\u001b[34m\u001b[1mwandb\u001b[0m:   1 of 1 files downloaded.  \n"
     ]
    },
    {
     "name": "stdout",
     "output_type": "stream",
     "text": [
      "2025-04-20 13:13:45,892 - INFO - Downloaded logs_53p8qdvr:v0 to /scratch/downloaded_artifacts/logs_53p8qdvr:v0\n"
     ]
    },
    {
     "name": "stderr",
     "output_type": "stream",
     "text": [
      "\u001b[34m\u001b[1mwandb\u001b[0m:   1 of 1 files downloaded.  \n"
     ]
    },
    {
     "name": "stdout",
     "output_type": "stream",
     "text": [
      "2025-04-20 13:13:45,910 - INFO - Downloaded logs_593hvtlr:v0 to /scratch/downloaded_artifacts/logs_593hvtlr:v0\n"
     ]
    },
    {
     "name": "stderr",
     "output_type": "stream",
     "text": [
      "\u001b[34m\u001b[1mwandb\u001b[0m:   1 of 1 files downloaded.  \n"
     ]
    },
    {
     "name": "stdout",
     "output_type": "stream",
     "text": [
      "2025-04-20 13:13:46,001 - INFO - Downloaded logs_c56vav8d:v0 to /scratch/downloaded_artifacts/logs_c56vav8d:v0\n"
     ]
    },
    {
     "name": "stderr",
     "output_type": "stream",
     "text": [
      "\u001b[34m\u001b[1mwandb\u001b[0m:   1 of 1 files downloaded.  \n"
     ]
    },
    {
     "name": "stdout",
     "output_type": "stream",
     "text": [
      "2025-04-20 13:13:46,024 - INFO - Downloaded logs_8tej5tyl:v0 to /scratch/downloaded_artifacts/logs_8tej5tyl:v0\n"
     ]
    },
    {
     "name": "stderr",
     "output_type": "stream",
     "text": [
      "\u001b[34m\u001b[1mwandb\u001b[0m:   1 of 1 files downloaded.  \n"
     ]
    },
    {
     "name": "stdout",
     "output_type": "stream",
     "text": [
      "2025-04-20 13:13:46,382 - INFO - Downloaded logs_f3u1hqlm:v0 to /scratch/downloaded_artifacts/logs_f3u1hqlm:v0\n"
     ]
    },
    {
     "name": "stderr",
     "output_type": "stream",
     "text": [
      "\u001b[34m\u001b[1mwandb\u001b[0m:   1 of 1 files downloaded.  \n"
     ]
    },
    {
     "name": "stdout",
     "output_type": "stream",
     "text": [
      "2025-04-20 13:13:46,453 - INFO - Downloaded logs_sq0ivqwh:v0 to /scratch/downloaded_artifacts/logs_sq0ivqwh:v0\n"
     ]
    },
    {
     "name": "stderr",
     "output_type": "stream",
     "text": [
      "\u001b[34m\u001b[1mwandb\u001b[0m:   1 of 1 files downloaded.  \n"
     ]
    },
    {
     "name": "stdout",
     "output_type": "stream",
     "text": [
      "2025-04-20 13:13:46,466 - INFO - Downloaded logs_z16cb20z:v0 to /scratch/downloaded_artifacts/logs_z16cb20z:v0\n"
     ]
    },
    {
     "name": "stderr",
     "output_type": "stream",
     "text": [
      "\u001b[34m\u001b[1mwandb\u001b[0m:   1 of 1 files downloaded.  \n"
     ]
    },
    {
     "name": "stdout",
     "output_type": "stream",
     "text": [
      "2025-04-20 13:13:46,557 - INFO - Downloaded logs_69g4wptk:v0 to /scratch/downloaded_artifacts/logs_69g4wptk:v0\n"
     ]
    },
    {
     "name": "stderr",
     "output_type": "stream",
     "text": [
      "\u001b[34m\u001b[1mwandb\u001b[0m:   1 of 1 files downloaded.  \n"
     ]
    },
    {
     "name": "stdout",
     "output_type": "stream",
     "text": [
      "2025-04-20 13:13:46,608 - INFO - Downloaded logs_6323vxjd:v0 to /scratch/downloaded_artifacts/logs_6323vxjd:v0\n"
     ]
    },
    {
     "name": "stderr",
     "output_type": "stream",
     "text": [
      "\u001b[34m\u001b[1mwandb\u001b[0m:   1 of 1 files downloaded.  \n"
     ]
    },
    {
     "name": "stdout",
     "output_type": "stream",
     "text": [
      "2025-04-20 13:13:46,612 - INFO - Downloaded logs_fh7uwwwq:v0 to /scratch/downloaded_artifacts/logs_fh7uwwwq:v0\n"
     ]
    },
    {
     "name": "stderr",
     "output_type": "stream",
     "text": [
      "\u001b[34m\u001b[1mwandb\u001b[0m:   1 of 1 files downloaded.  \n"
     ]
    },
    {
     "name": "stdout",
     "output_type": "stream",
     "text": [
      "2025-04-20 13:13:46,622 - INFO - Downloaded logs_3ypaswxt:v0 to /scratch/downloaded_artifacts/logs_3ypaswxt:v0\n"
     ]
    },
    {
     "name": "stderr",
     "output_type": "stream",
     "text": [
      "\u001b[34m\u001b[1mwandb\u001b[0m:   1 of 1 files downloaded.  \n"
     ]
    },
    {
     "name": "stdout",
     "output_type": "stream",
     "text": [
      "2025-04-20 13:13:46,637 - INFO - Downloaded logs_gxqxkfos:v0 to /scratch/downloaded_artifacts/logs_gxqxkfos:v0\n"
     ]
    },
    {
     "name": "stderr",
     "output_type": "stream",
     "text": [
      "\u001b[34m\u001b[1mwandb\u001b[0m:   1 of 1 files downloaded.  \n"
     ]
    },
    {
     "name": "stdout",
     "output_type": "stream",
     "text": [
      "2025-04-20 13:13:46,653 - INFO - Downloaded logs_gyz8orgw:v0 to /scratch/downloaded_artifacts/logs_gyz8orgw:v0\n"
     ]
    },
    {
     "name": "stderr",
     "output_type": "stream",
     "text": [
      "\u001b[34m\u001b[1mwandb\u001b[0m:   1 of 1 files downloaded.  \n"
     ]
    },
    {
     "name": "stdout",
     "output_type": "stream",
     "text": [
      "2025-04-20 13:13:46,689 - INFO - Downloaded logs_0meho5rq:v0 to /scratch/downloaded_artifacts/logs_0meho5rq:v0\n"
     ]
    },
    {
     "name": "stderr",
     "output_type": "stream",
     "text": [
      "\u001b[34m\u001b[1mwandb\u001b[0m:   1 of 1 files downloaded.  \n"
     ]
    },
    {
     "name": "stdout",
     "output_type": "stream",
     "text": [
      "2025-04-20 13:13:46,691 - INFO - Downloaded logs_0peigy8u:v0 to /scratch/downloaded_artifacts/logs_0peigy8u:v0\n"
     ]
    },
    {
     "name": "stderr",
     "output_type": "stream",
     "text": [
      "\u001b[34m\u001b[1mwandb\u001b[0m:   1 of 1 files downloaded.  \n"
     ]
    },
    {
     "name": "stdout",
     "output_type": "stream",
     "text": [
      "2025-04-20 13:13:46,790 - INFO - Downloaded logs_9hhwy12z:v0 to /scratch/downloaded_artifacts/logs_9hhwy12z:v0\n"
     ]
    },
    {
     "name": "stderr",
     "output_type": "stream",
     "text": [
      "\u001b[34m\u001b[1mwandb\u001b[0m:   1 of 1 files downloaded.  \n"
     ]
    },
    {
     "name": "stdout",
     "output_type": "stream",
     "text": [
      "2025-04-20 13:13:46,991 - INFO - Downloaded logs_dxuqpc9e:v0 to /scratch/downloaded_artifacts/logs_dxuqpc9e:v0\n"
     ]
    },
    {
     "name": "stderr",
     "output_type": "stream",
     "text": [
      "\u001b[34m\u001b[1mwandb\u001b[0m:   1 of 1 files downloaded.  \n"
     ]
    },
    {
     "name": "stdout",
     "output_type": "stream",
     "text": [
      "2025-04-20 13:13:47,002 - INFO - Downloaded logs_ko23ty36:v0 to /scratch/downloaded_artifacts/logs_ko23ty36:v0\n"
     ]
    },
    {
     "name": "stderr",
     "output_type": "stream",
     "text": [
      "\u001b[34m\u001b[1mwandb\u001b[0m:   1 of 1 files downloaded.  \n"
     ]
    },
    {
     "name": "stdout",
     "output_type": "stream",
     "text": [
      "2025-04-20 13:13:47,029 - INFO - Downloaded logs_0dpemf6m:v0 to /scratch/downloaded_artifacts/logs_0dpemf6m:v0\n"
     ]
    },
    {
     "name": "stderr",
     "output_type": "stream",
     "text": [
      "\u001b[34m\u001b[1mwandb\u001b[0m:   1 of 1 files downloaded.  \n"
     ]
    },
    {
     "name": "stdout",
     "output_type": "stream",
     "text": [
      "2025-04-20 13:13:47,123 - INFO - Downloaded logs_0te02csz:v0 to /scratch/downloaded_artifacts/logs_0te02csz:v0\n"
     ]
    },
    {
     "name": "stderr",
     "output_type": "stream",
     "text": [
      "\u001b[34m\u001b[1mwandb\u001b[0m:   1 of 1 files downloaded.  \n"
     ]
    },
    {
     "name": "stdout",
     "output_type": "stream",
     "text": [
      "2025-04-20 13:13:47,224 - INFO - Downloaded logs_ck8d8lzo:v0 to /scratch/downloaded_artifacts/logs_ck8d8lzo:v0\n"
     ]
    },
    {
     "name": "stderr",
     "output_type": "stream",
     "text": [
      "\u001b[34m\u001b[1mwandb\u001b[0m:   1 of 1 files downloaded.  \n"
     ]
    },
    {
     "name": "stdout",
     "output_type": "stream",
     "text": [
      "2025-04-20 13:13:47,270 - INFO - Downloaded logs_g41ateft:v0 to /scratch/downloaded_artifacts/logs_g41ateft:v0\n"
     ]
    },
    {
     "name": "stderr",
     "output_type": "stream",
     "text": [
      "\u001b[34m\u001b[1mwandb\u001b[0m:   1 of 1 files downloaded.  \n"
     ]
    },
    {
     "name": "stdout",
     "output_type": "stream",
     "text": [
      "2025-04-20 13:13:47,337 - INFO - Downloaded logs_dyu392in:v0 to /scratch/downloaded_artifacts/logs_dyu392in:v0\n"
     ]
    },
    {
     "name": "stderr",
     "output_type": "stream",
     "text": [
      "\u001b[34m\u001b[1mwandb\u001b[0m:   1 of 1 files downloaded.  \n"
     ]
    },
    {
     "name": "stdout",
     "output_type": "stream",
     "text": [
      "2025-04-20 13:13:47,352 - INFO - Downloaded logs_8fyb45nq:v0 to /scratch/downloaded_artifacts/logs_8fyb45nq:v0\n"
     ]
    },
    {
     "name": "stderr",
     "output_type": "stream",
     "text": [
      "\u001b[34m\u001b[1mwandb\u001b[0m:   1 of 1 files downloaded.  \n"
     ]
    },
    {
     "name": "stdout",
     "output_type": "stream",
     "text": [
      "2025-04-20 13:13:47,686 - INFO - Downloaded logs_lzhd23e4:v0 to /scratch/downloaded_artifacts/logs_lzhd23e4:v0\n"
     ]
    },
    {
     "name": "stderr",
     "output_type": "stream",
     "text": [
      "\u001b[34m\u001b[1mwandb\u001b[0m:   1 of 1 files downloaded.  \n"
     ]
    },
    {
     "name": "stdout",
     "output_type": "stream",
     "text": [
      "2025-04-20 13:13:47,817 - INFO - Downloaded logs_iv4gzrf3:v0 to /scratch/downloaded_artifacts/logs_iv4gzrf3:v0\n"
     ]
    },
    {
     "name": "stderr",
     "output_type": "stream",
     "text": [
      "\u001b[34m\u001b[1mwandb\u001b[0m:   1 of 1 files downloaded.  \n"
     ]
    },
    {
     "name": "stdout",
     "output_type": "stream",
     "text": [
      "2025-04-20 13:13:47,894 - INFO - Downloaded logs_kc3d1pt4:v0 to /scratch/downloaded_artifacts/logs_kc3d1pt4:v0\n"
     ]
    },
    {
     "name": "stderr",
     "output_type": "stream",
     "text": [
      "\u001b[34m\u001b[1mwandb\u001b[0m:   1 of 1 files downloaded.  \n"
     ]
    },
    {
     "name": "stdout",
     "output_type": "stream",
     "text": [
      "2025-04-20 13:13:47,902 - INFO - Downloaded logs_q17ultrm:v0 to /scratch/downloaded_artifacts/logs_q17ultrm:v0\n"
     ]
    },
    {
     "name": "stderr",
     "output_type": "stream",
     "text": [
      "\u001b[34m\u001b[1mwandb\u001b[0m:   1 of 1 files downloaded.  \n"
     ]
    },
    {
     "name": "stdout",
     "output_type": "stream",
     "text": [
      "2025-04-20 13:13:47,914 - INFO - Downloaded logs_g5f78yii:v0 to /scratch/downloaded_artifacts/logs_g5f78yii:v0\n"
     ]
    },
    {
     "name": "stderr",
     "output_type": "stream",
     "text": [
      "\u001b[34m\u001b[1mwandb\u001b[0m:   1 of 1 files downloaded.  \n"
     ]
    },
    {
     "name": "stdout",
     "output_type": "stream",
     "text": [
      "2025-04-20 13:13:47,930 - INFO - Downloaded logs_ku3wmble:v0 to /scratch/downloaded_artifacts/logs_ku3wmble:v0\n"
     ]
    },
    {
     "name": "stderr",
     "output_type": "stream",
     "text": [
      "\u001b[34m\u001b[1mwandb\u001b[0m:   1 of 1 files downloaded.  \n"
     ]
    },
    {
     "name": "stdout",
     "output_type": "stream",
     "text": [
      "2025-04-20 13:13:48,027 - INFO - Downloaded logs_nr4co622:v0 to /scratch/downloaded_artifacts/logs_nr4co622:v0\n"
     ]
    },
    {
     "name": "stderr",
     "output_type": "stream",
     "text": [
      "\u001b[34m\u001b[1mwandb\u001b[0m:   1 of 1 files downloaded.  \n"
     ]
    },
    {
     "name": "stdout",
     "output_type": "stream",
     "text": [
      "2025-04-20 13:13:48,043 - INFO - Downloaded logs_z5p9vh59:v0 to /scratch/downloaded_artifacts/logs_z5p9vh59:v0\n"
     ]
    },
    {
     "name": "stderr",
     "output_type": "stream",
     "text": [
      "\u001b[34m\u001b[1mwandb\u001b[0m:   1 of 1 files downloaded.  \n"
     ]
    },
    {
     "name": "stdout",
     "output_type": "stream",
     "text": [
      "2025-04-20 13:13:48,074 - INFO - Downloaded logs_zg5xp1bm:v0 to /scratch/downloaded_artifacts/logs_zg5xp1bm:v0\n"
     ]
    },
    {
     "name": "stderr",
     "output_type": "stream",
     "text": [
      "\u001b[34m\u001b[1mwandb\u001b[0m:   1 of 1 files downloaded.  \n"
     ]
    },
    {
     "name": "stdout",
     "output_type": "stream",
     "text": [
      "2025-04-20 13:13:48,108 - INFO - Downloaded logs_qkkuene5:v0 to /scratch/downloaded_artifacts/logs_qkkuene5:v0\n"
     ]
    },
    {
     "name": "stderr",
     "output_type": "stream",
     "text": [
      "\u001b[34m\u001b[1mwandb\u001b[0m:   1 of 1 files downloaded.  \n"
     ]
    },
    {
     "name": "stdout",
     "output_type": "stream",
     "text": [
      "2025-04-20 13:13:48,169 - INFO - Downloaded logs_59mebhmp:v0 to /scratch/downloaded_artifacts/logs_59mebhmp:v0\n"
     ]
    },
    {
     "name": "stderr",
     "output_type": "stream",
     "text": [
      "\u001b[34m\u001b[1mwandb\u001b[0m:   1 of 1 files downloaded.  \n"
     ]
    },
    {
     "name": "stdout",
     "output_type": "stream",
     "text": [
      "2025-04-20 13:13:48,197 - INFO - Downloaded logs_hihiyhqq:v0 to /scratch/downloaded_artifacts/logs_hihiyhqq:v0\n"
     ]
    },
    {
     "name": "stderr",
     "output_type": "stream",
     "text": [
      "\u001b[34m\u001b[1mwandb\u001b[0m:   1 of 1 files downloaded.  \n"
     ]
    },
    {
     "name": "stdout",
     "output_type": "stream",
     "text": [
      "2025-04-20 13:13:48,229 - INFO - Downloaded logs_v805clne:v0 to /scratch/downloaded_artifacts/logs_v805clne:v0\n"
     ]
    },
    {
     "name": "stderr",
     "output_type": "stream",
     "text": [
      "\u001b[34m\u001b[1mwandb\u001b[0m:   1 of 1 files downloaded.  \n"
     ]
    },
    {
     "name": "stdout",
     "output_type": "stream",
     "text": [
      "2025-04-20 13:13:48,299 - INFO - Downloaded logs_mzpg1w8w:v0 to /scratch/downloaded_artifacts/logs_mzpg1w8w:v0\n"
     ]
    },
    {
     "name": "stderr",
     "output_type": "stream",
     "text": [
      "\u001b[34m\u001b[1mwandb\u001b[0m:   1 of 1 files downloaded.  \n"
     ]
    },
    {
     "name": "stdout",
     "output_type": "stream",
     "text": [
      "2025-04-20 13:13:48,301 - INFO - Downloaded logs_mxw2byj3:v0 to /scratch/downloaded_artifacts/logs_mxw2byj3:v0\n"
     ]
    },
    {
     "name": "stderr",
     "output_type": "stream",
     "text": [
      "\u001b[34m\u001b[1mwandb\u001b[0m:   1 of 1 files downloaded.  \n"
     ]
    },
    {
     "name": "stdout",
     "output_type": "stream",
     "text": [
      "2025-04-20 13:13:48,460 - INFO - Downloaded logs_o379bzn7:v0 to /scratch/downloaded_artifacts/logs_o379bzn7:v0\n"
     ]
    },
    {
     "name": "stderr",
     "output_type": "stream",
     "text": [
      "\u001b[34m\u001b[1mwandb\u001b[0m:   1 of 1 files downloaded.  \n"
     ]
    },
    {
     "name": "stdout",
     "output_type": "stream",
     "text": [
      "2025-04-20 13:13:48,561 - INFO - Downloaded logs_144mqhuw:v0 to /scratch/downloaded_artifacts/logs_144mqhuw:v0\n"
     ]
    },
    {
     "name": "stderr",
     "output_type": "stream",
     "text": [
      "\u001b[34m\u001b[1mwandb\u001b[0m:   1 of 1 files downloaded.  \n"
     ]
    },
    {
     "name": "stdout",
     "output_type": "stream",
     "text": [
      "2025-04-20 13:13:48,759 - INFO - Downloaded logs_qtkxx2uy:v0 to /scratch/downloaded_artifacts/logs_qtkxx2uy:v0\n"
     ]
    }
   ],
   "source": [
    "with ThreadPoolExecutor(max_workers=max_download_workers) as executor:\n",
    "    download_results = list(executor.map(download_artifact, run_data))"
   ]
  },
  {
   "cell_type": "code",
   "execution_count": 9,
   "metadata": {},
   "outputs": [
    {
     "name": "stdout",
     "output_type": "stream",
     "text": [
      "2025-04-20 13:13:48,804 - INFO - Saved download results to /scratch/downloaded_artifacts/download_results_fixed_search-1_209e70fddac44ed4a229a4267c6f1976.pkl\n"
     ]
    }
   ],
   "source": [
    "# Save download results for the processing script, including group name\n",
    "import pickle\n",
    "results_file = os.path.join(download_dir, f'download_results_{group_name}.pkl')\n",
    "with open(results_file, 'wb') as f:\n",
    "    pickle.dump(download_results, f)\n",
    "logger.info(f\"Saved download results to {results_file}\")"
   ]
  }
 ],
 "metadata": {
  "kernelspec": {
   "display_name": "Python 3",
   "language": "python",
   "name": "python3"
  },
  "language_info": {
   "codemirror_mode": {
    "name": "ipython",
    "version": 3
   },
   "file_extension": ".py",
   "mimetype": "text/x-python",
   "name": "python",
   "nbconvert_exporter": "python",
   "pygments_lexer": "ipython3",
   "version": "3.13.1"
  }
 },
 "nbformat": 4,
 "nbformat_minor": 2
}

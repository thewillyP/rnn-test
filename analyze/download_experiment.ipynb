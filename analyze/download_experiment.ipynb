{
 "cells": [
  {
   "cell_type": "code",
   "execution_count": null,
   "metadata": {},
   "outputs": [],
   "source": [
    "import os\n",
    "import sys\n",
    "sys.path.append(os.getcwd())\n",
    "sys.path.append(os.getcwd() + '/../src')\n"
   ]
  },
  {
   "cell_type": "code",
   "execution_count": null,
   "metadata": {},
   "outputs": [],
   "source": [
    "import logging\n",
    "import wandb\n",
    "from concurrent.futures import ThreadPoolExecutor\n",
    "import multiprocessing\n"
   ]
  },
  {
   "cell_type": "code",
   "execution_count": null,
   "metadata": {},
   "outputs": [],
   "source": [
    "# Configure logging\n",
    "logging.basicConfig(\n",
    "    level=logging.INFO,\n",
    "    format='%(asctime)s - %(levelname)s - %(message)s',\n",
    "    handlers=[\n",
    "        logging.StreamHandler(sys.stdout),\n",
    "        logging.FileHandler('download.log')\n",
    "    ]\n",
    ")\n",
    "logger = logging.getLogger(__name__)\n",
    "\n",
    "# Set multiprocessing start method to 'spawn'\n",
    "multiprocessing.set_start_method(\"spawn\", force=True)"
   ]
  },
  {
   "cell_type": "code",
   "execution_count": null,
   "metadata": {},
   "outputs": [],
   "source": [
    "# Configuration\n",
    "download_dir = \"/scratch/downloaded_artifacts\"\n",
    "entity = \"wlp9800-new-york-university\"\n",
    "project_name = \"oho_exps\"\n",
    "group_name = \"mlr_search-1_aa9c06652fb34624bebe972b1fe7292f\"\n",
    "max_download_workers = 20"
   ]
  },
  {
   "cell_type": "code",
   "execution_count": null,
   "metadata": {},
   "outputs": [],
   "source": [
    "# Ensure download directory exists\n",
    "os.makedirs(download_dir, exist_ok=True)"
   ]
  },
  {
   "cell_type": "code",
   "execution_count": null,
   "metadata": {},
   "outputs": [],
   "source": [
    "# Function to download a single run's artifact\n",
    "def download_artifact(run_data):\n",
    "    run_id = run_data[\"id\"]\n",
    "    config = run_data[\"config\"]\n",
    "    try:\n",
    "        api = wandb.Api()\n",
    "        artifact = api.artifact(f'{entity}/{project_name}/logs_{run_id}:v0')\n",
    "        artifact_dir = os.path.join(download_dir, artifact.name)\n",
    "        artifact.download(root=artifact_dir)\n",
    "        logger.info(f\"Downloaded {artifact.name} to {artifact_dir}\")\n",
    "        return {\n",
    "            \"run_id\": run_id,\n",
    "            \"artifact_dir\": artifact_dir,\n",
    "            \"config\": config,\n",
    "            \"status\": \"success\"\n",
    "        }\n",
    "    except Exception as e:\n",
    "        logger.error(f\"Error downloading artifact for run {run_id}: {str(e)}\")\n",
    "        return {\n",
    "            \"run_id\": run_id,\n",
    "            \"artifact_dir\": None,\n",
    "            \"config\": config,\n",
    "            \"status\": f\"error: {str(e)}\"\n",
    "        }"
   ]
  },
  {
   "cell_type": "code",
   "execution_count": null,
   "metadata": {},
   "outputs": [],
   "source": [
    "api = wandb.Api()\n",
    "runs = api.runs(\n",
    "    path=f\"{entity}/{project_name}\",\n",
    "    filters={\"group\": group_name}\n",
    ")\n",
    "\n",
    "# Prepare run data\n",
    "run_data = [{\"id\": run.id, \"config\": run.config} for run in runs]\n",
    "logger.info(f\"Found {len(run_data)} runs to download\")\n",
    "\n",
    "# Download artifacts\n",
    "with ThreadPoolExecutor(max_workers=max_download_workers) as executor:\n",
    "    download_results = list(executor.map(download_artifact, run_data))\n",
    "\n",
    "# Save download results for the processing script, including group name\n",
    "import pickle\n",
    "results_file = os.path.join(download_dir, f'download_results_{group_name}.pkl')\n",
    "with open(results_file, 'wb') as f:\n",
    "    pickle.dump(download_results, f)\n",
    "logger.info(f\"Saved download results to {results_file}\")"
   ]
  }
 ],
 "metadata": {
  "language_info": {
   "name": "python"
  }
 },
 "nbformat": 4,
 "nbformat_minor": 2
}

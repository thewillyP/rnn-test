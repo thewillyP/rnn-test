{
 "cells": [
  {
   "cell_type": "code",
   "execution_count": 13,
   "metadata": {},
   "outputs": [],
   "source": [
    "import os\n",
    "import sys\n",
    "sys.path.append(os.getcwd())\n",
    "sys.path.append(os.getcwd() + '/../src')\n"
   ]
  },
  {
   "cell_type": "code",
   "execution_count": 14,
   "metadata": {},
   "outputs": [],
   "source": [
    "import logging\n",
    "import wandb\n",
    "from concurrent.futures import ThreadPoolExecutor\n",
    "import multiprocessing\n"
   ]
  },
  {
   "cell_type": "code",
   "execution_count": 15,
   "metadata": {},
   "outputs": [],
   "source": [
    "# Configure logging\n",
    "logging.basicConfig(\n",
    "    level=logging.INFO,\n",
    "    format='%(asctime)s - %(levelname)s - %(message)s',\n",
    "    handlers=[\n",
    "        logging.StreamHandler(sys.stdout),\n",
    "        logging.FileHandler('download.log')\n",
    "    ]\n",
    ")\n",
    "logger = logging.getLogger(__name__)\n",
    "\n",
    "# Set multiprocessing start method to 'spawn'\n",
    "multiprocessing.set_start_method(\"spawn\", force=True)"
   ]
  },
  {
   "cell_type": "code",
   "execution_count": 16,
   "metadata": {},
   "outputs": [],
   "source": [
    "# Configuration\n",
    "download_dir = \"/scratch/downloaded_artifacts\"\n",
    "entity = \"wlp9800-new-york-university\"\n",
    "project_name = \"oho_exps\"\n",
    "group_name = \"fixed_search-1\"\n",
    "max_download_workers = 20"
   ]
  },
  {
   "cell_type": "code",
   "execution_count": 17,
   "metadata": {},
   "outputs": [],
   "source": [
    "# Ensure download directory exists\n",
    "os.makedirs(download_dir, exist_ok=True)"
   ]
  },
  {
   "cell_type": "code",
   "execution_count": 18,
   "metadata": {},
   "outputs": [],
   "source": [
    "# Function to download a single run's artifact\n",
    "def download_artifact(run_data):\n",
    "    run_id = run_data[\"id\"]\n",
    "    config = run_data[\"config\"]\n",
    "    try:\n",
    "        api = wandb.Api()\n",
    "        artifact = api.artifact(f'{entity}/{project_name}/logs_{run_id}:v0')\n",
    "        artifact_dir = os.path.join(download_dir, artifact.name)\n",
    "        artifact.download(root=artifact_dir)\n",
    "        logger.info(f\"Downloaded {artifact.name} to {artifact_dir}\")\n",
    "        return {\n",
    "            \"run_id\": run_id,\n",
    "            \"artifact_dir\": artifact_dir,\n",
    "            \"config\": config,\n",
    "            \"status\": \"success\"\n",
    "        }\n",
    "    except Exception as e:\n",
    "        logger.error(f\"Error downloading artifact for run {run_id}: {str(e)}\")\n",
    "        return {\n",
    "            \"run_id\": run_id,\n",
    "            \"artifact_dir\": None,\n",
    "            \"config\": config,\n",
    "            \"status\": f\"error: {str(e)}\"\n",
    "        }"
   ]
  },
  {
   "cell_type": "code",
   "execution_count": 19,
   "metadata": {},
   "outputs": [
    {
     "name": "stdout",
     "output_type": "stream",
     "text": [
      "2025-04-19 22:57:39,951 - INFO - Found 1200 runs to download\n"
     ]
    }
   ],
   "source": [
    "api = wandb.Api()\n",
    "runs = api.runs(\n",
    "    path=f\"{entity}/{project_name}\",\n",
    "    filters={\"group\": group_name}\n",
    ")\n",
    "\n",
    "# Prepare run data\n",
    "run_data = [{\"id\": run.id, \"config\": run.config} for run in runs]\n",
    "logger.info(f\"Found {len(run_data)} runs to download\")\n"
   ]
  },
  {
   "cell_type": "code",
   "execution_count": 20,
   "metadata": {},
   "outputs": [
    {
     "name": "stderr",
     "output_type": "stream",
     "text": [
      "\u001b[34m\u001b[1mwandb\u001b[0m:   1 of 1 files downloaded.  \n"
     ]
    },
    {
     "name": "stdout",
     "output_type": "stream",
     "text": [
      "2025-04-19 22:57:42,673 - INFO - Downloaded logs_8kmson5q:v0 to /scratch/downloaded_artifacts/logs_8kmson5q:v0\n"
     ]
    },
    {
     "name": "stderr",
     "output_type": "stream",
     "text": [
      "\u001b[34m\u001b[1mwandb\u001b[0m:   1 of 1 files downloaded.  \n"
     ]
    },
    {
     "name": "stdout",
     "output_type": "stream",
     "text": [
      "2025-04-19 22:57:42,771 - INFO - Downloaded logs_ypcx8gcz:v0 to /scratch/downloaded_artifacts/logs_ypcx8gcz:v0\n"
     ]
    },
    {
     "name": "stderr",
     "output_type": "stream",
     "text": [
      "\u001b[34m\u001b[1mwandb\u001b[0m:   1 of 1 files downloaded.  \n"
     ]
    },
    {
     "name": "stdout",
     "output_type": "stream",
     "text": [
      "2025-04-19 22:57:42,955 - INFO - Downloaded logs_qnkrewkt:v0 to /scratch/downloaded_artifacts/logs_qnkrewkt:v0\n"
     ]
    },
    {
     "name": "stderr",
     "output_type": "stream",
     "text": [
      "\u001b[34m\u001b[1mwandb\u001b[0m:   1 of 1 files downloaded.  \n"
     ]
    },
    {
     "name": "stdout",
     "output_type": "stream",
     "text": [
      "2025-04-19 22:57:43,020 - INFO - Downloaded logs_oa7fbyyu:v0 to /scratch/downloaded_artifacts/logs_oa7fbyyu:v0\n"
     ]
    },
    {
     "name": "stderr",
     "output_type": "stream",
     "text": [
      "\u001b[34m\u001b[1mwandb\u001b[0m:   1 of 1 files downloaded.  \n"
     ]
    },
    {
     "name": "stdout",
     "output_type": "stream",
     "text": [
      "2025-04-19 22:57:43,025 - INFO - Downloaded logs_te8w4qdc:v0 to /scratch/downloaded_artifacts/logs_te8w4qdc:v0\n"
     ]
    },
    {
     "name": "stderr",
     "output_type": "stream",
     "text": [
      "\u001b[34m\u001b[1mwandb\u001b[0m:   1 of 1 files downloaded.  \n"
     ]
    },
    {
     "name": "stdout",
     "output_type": "stream",
     "text": [
      "2025-04-19 22:57:43,097 - INFO - Downloaded logs_b8uorl16:v0 to /scratch/downloaded_artifacts/logs_b8uorl16:v0\n"
     ]
    },
    {
     "name": "stderr",
     "output_type": "stream",
     "text": [
      "\u001b[34m\u001b[1mwandb\u001b[0m:   1 of 1 files downloaded.  \n"
     ]
    },
    {
     "name": "stdout",
     "output_type": "stream",
     "text": [
      "2025-04-19 22:57:43,238 - INFO - Downloaded logs_kt3m6wp6:v0 to /scratch/downloaded_artifacts/logs_kt3m6wp6:v0\n"
     ]
    },
    {
     "name": "stderr",
     "output_type": "stream",
     "text": [
      "\u001b[34m\u001b[1mwandb\u001b[0m:   1 of 1 files downloaded.  \n",
      "\u001b[34m\u001b[1mwandb\u001b[0m:   1 of 1 files downloaded.  \n"
     ]
    },
    {
     "name": "stdout",
     "output_type": "stream",
     "text": [
      "2025-04-19 22:57:43,241 - INFO - Downloaded logs_zrqs179i:v0 to /scratch/downloaded_artifacts/logs_zrqs179i:v0\n"
     ]
    },
    {
     "name": "stderr",
     "output_type": "stream",
     "text": [
      "\u001b[34m\u001b[1mwandb\u001b[0m:   1 of 1 files downloaded.  \n"
     ]
    },
    {
     "name": "stdout",
     "output_type": "stream",
     "text": [
      "2025-04-19 22:57:43,243 - INFO - Downloaded logs_l9t9hqx5:v0 to /scratch/downloaded_artifacts/logs_l9t9hqx5:v0\n",
      "2025-04-19 22:57:43,244 - INFO - Downloaded logs_40oysllb:v0 to /scratch/downloaded_artifacts/logs_40oysllb:v0\n"
     ]
    },
    {
     "name": "stderr",
     "output_type": "stream",
     "text": [
      "\u001b[34m\u001b[1mwandb\u001b[0m:   1 of 1 files downloaded.  \n",
      "\u001b[34m\u001b[1mwandb\u001b[0m:   1 of 1 files downloaded.  \n"
     ]
    },
    {
     "name": "stdout",
     "output_type": "stream",
     "text": [
      "2025-04-19 22:57:43,464 - INFO - Downloaded logs_1mevs9g7:v0 to /scratch/downloaded_artifacts/logs_1mevs9g7:v0\n",
      "2025-04-19 22:57:43,464 - INFO - Downloaded logs_c0xu2bcm:v0 to /scratch/downloaded_artifacts/logs_c0xu2bcm:v0\n"
     ]
    },
    {
     "name": "stderr",
     "output_type": "stream",
     "text": [
      "\u001b[34m\u001b[1mwandb\u001b[0m:   1 of 1 files downloaded.  \n"
     ]
    },
    {
     "name": "stdout",
     "output_type": "stream",
     "text": [
      "2025-04-19 22:57:43,575 - INFO - Downloaded logs_2mq9sqcp:v0 to /scratch/downloaded_artifacts/logs_2mq9sqcp:v0\n"
     ]
    },
    {
     "name": "stderr",
     "output_type": "stream",
     "text": [
      "\u001b[34m\u001b[1mwandb\u001b[0m:   1 of 1 files downloaded.  \n"
     ]
    },
    {
     "name": "stdout",
     "output_type": "stream",
     "text": [
      "2025-04-19 22:57:43,683 - INFO - Downloaded logs_blfycwso:v0 to /scratch/downloaded_artifacts/logs_blfycwso:v0\n"
     ]
    },
    {
     "name": "stderr",
     "output_type": "stream",
     "text": [
      "\u001b[34m\u001b[1mwandb\u001b[0m:   1 of 1 files downloaded.  \n"
     ]
    },
    {
     "name": "stdout",
     "output_type": "stream",
     "text": [
      "2025-04-19 22:57:43,760 - INFO - Downloaded logs_yvmu49t6:v0 to /scratch/downloaded_artifacts/logs_yvmu49t6:v0\n"
     ]
    },
    {
     "name": "stderr",
     "output_type": "stream",
     "text": [
      "\u001b[34m\u001b[1mwandb\u001b[0m:   1 of 1 files downloaded.  \n"
     ]
    },
    {
     "name": "stdout",
     "output_type": "stream",
     "text": [
      "2025-04-19 22:57:43,888 - INFO - Downloaded logs_rsy3y3op:v0 to /scratch/downloaded_artifacts/logs_rsy3y3op:v0\n"
     ]
    },
    {
     "name": "stderr",
     "output_type": "stream",
     "text": [
      "\u001b[34m\u001b[1mwandb\u001b[0m:   1 of 1 files downloaded.  \n",
      "\u001b[34m\u001b[1mwandb\u001b[0m:   1 of 1 files downloaded.  \n"
     ]
    },
    {
     "name": "stdout",
     "output_type": "stream",
     "text": [
      "2025-04-19 22:57:43,892 - INFO - Downloaded logs_1in3ydxv:v0 to /scratch/downloaded_artifacts/logs_1in3ydxv:v0\n"
     ]
    },
    {
     "name": "stderr",
     "output_type": "stream",
     "text": [
      "\u001b[34m\u001b[1mwandb\u001b[0m:   1 of 1 files downloaded.  \n"
     ]
    },
    {
     "name": "stdout",
     "output_type": "stream",
     "text": [
      "2025-04-19 22:57:43,894 - INFO - Downloaded logs_ufnaw9h9:v0 to /scratch/downloaded_artifacts/logs_ufnaw9h9:v0\n",
      "2025-04-19 22:57:43,895 - INFO - Downloaded logs_q80r4dt0:v0 to /scratch/downloaded_artifacts/logs_q80r4dt0:v0\n"
     ]
    },
    {
     "name": "stderr",
     "output_type": "stream",
     "text": [
      "\u001b[34m\u001b[1mwandb\u001b[0m:   1 of 1 files downloaded.  \n"
     ]
    },
    {
     "name": "stdout",
     "output_type": "stream",
     "text": [
      "2025-04-19 22:57:44,013 - INFO - Downloaded logs_zgggwv4z:v0 to /scratch/downloaded_artifacts/logs_zgggwv4z:v0\n"
     ]
    },
    {
     "name": "stderr",
     "output_type": "stream",
     "text": [
      "\u001b[34m\u001b[1mwandb\u001b[0m:   1 of 1 files downloaded.  \n"
     ]
    },
    {
     "name": "stdout",
     "output_type": "stream",
     "text": [
      "2025-04-19 22:57:44,293 - INFO - Downloaded logs_drv9q5m4:v0 to /scratch/downloaded_artifacts/logs_drv9q5m4:v0\n"
     ]
    },
    {
     "name": "stderr",
     "output_type": "stream",
     "text": [
      "\u001b[34m\u001b[1mwandb\u001b[0m:   1 of 1 files downloaded.  \n"
     ]
    },
    {
     "name": "stdout",
     "output_type": "stream",
     "text": [
      "2025-04-19 22:57:44,404 - INFO - Downloaded logs_kqpoo6t1:v0 to /scratch/downloaded_artifacts/logs_kqpoo6t1:v0\n"
     ]
    },
    {
     "name": "stderr",
     "output_type": "stream",
     "text": [
      "\u001b[34m\u001b[1mwandb\u001b[0m:   1 of 1 files downloaded.  \n"
     ]
    },
    {
     "name": "stdout",
     "output_type": "stream",
     "text": [
      "2025-04-19 22:57:44,510 - INFO - Downloaded logs_9f50wh3a:v0 to /scratch/downloaded_artifacts/logs_9f50wh3a:v0\n"
     ]
    },
    {
     "name": "stderr",
     "output_type": "stream",
     "text": [
      "\u001b[34m\u001b[1mwandb\u001b[0m:   1 of 1 files downloaded.  \n"
     ]
    },
    {
     "name": "stdout",
     "output_type": "stream",
     "text": [
      "2025-04-19 22:57:44,649 - INFO - Downloaded logs_0m4t9mxy:v0 to /scratch/downloaded_artifacts/logs_0m4t9mxy:v0\n"
     ]
    },
    {
     "name": "stderr",
     "output_type": "stream",
     "text": [
      "\u001b[34m\u001b[1mwandb\u001b[0m:   1 of 1 files downloaded.  \n"
     ]
    },
    {
     "name": "stdout",
     "output_type": "stream",
     "text": [
      "2025-04-19 22:57:44,697 - INFO - Downloaded logs_ie3oszej:v0 to /scratch/downloaded_artifacts/logs_ie3oszej:v0\n"
     ]
    },
    {
     "name": "stderr",
     "output_type": "stream",
     "text": [
      "\u001b[34m\u001b[1mwandb\u001b[0m:   1 of 1 files downloaded.  \n"
     ]
    },
    {
     "name": "stdout",
     "output_type": "stream",
     "text": [
      "2025-04-19 22:57:44,713 - INFO - Downloaded logs_y6525sfd:v0 to /scratch/downloaded_artifacts/logs_y6525sfd:v0\n"
     ]
    },
    {
     "name": "stderr",
     "output_type": "stream",
     "text": [
      "\u001b[34m\u001b[1mwandb\u001b[0m:   1 of 1 files downloaded.  \n"
     ]
    },
    {
     "name": "stdout",
     "output_type": "stream",
     "text": [
      "2025-04-19 22:57:45,050 - INFO - Downloaded logs_mag0yzrt:v0 to /scratch/downloaded_artifacts/logs_mag0yzrt:v0\n"
     ]
    },
    {
     "name": "stderr",
     "output_type": "stream",
     "text": [
      "\u001b[34m\u001b[1mwandb\u001b[0m:   1 of 1 files downloaded.  \n"
     ]
    },
    {
     "name": "stdout",
     "output_type": "stream",
     "text": [
      "2025-04-19 22:57:45,146 - INFO - Downloaded logs_33nufz8a:v0 to /scratch/downloaded_artifacts/logs_33nufz8a:v0\n"
     ]
    },
    {
     "name": "stderr",
     "output_type": "stream",
     "text": [
      "\u001b[34m\u001b[1mwandb\u001b[0m:   1 of 1 files downloaded.  \n",
      "\u001b[34m\u001b[1mwandb\u001b[0m:   1 of 1 files downloaded.  \n"
     ]
    },
    {
     "name": "stdout",
     "output_type": "stream",
     "text": [
      "2025-04-19 22:57:45,240 - INFO - Downloaded logs_sdwxrs3u:v0 to /scratch/downloaded_artifacts/logs_sdwxrs3u:v0\n",
      "2025-04-19 22:57:45,241 - INFO - Downloaded logs_wqhaitav:v0 to /scratch/downloaded_artifacts/logs_wqhaitav:v0\n"
     ]
    },
    {
     "name": "stderr",
     "output_type": "stream",
     "text": [
      "\u001b[34m\u001b[1mwandb\u001b[0m:   1 of 1 files downloaded.  \n"
     ]
    },
    {
     "name": "stdout",
     "output_type": "stream",
     "text": [
      "2025-04-19 22:57:45,283 - INFO - Downloaded logs_3kq3mceq:v0 to /scratch/downloaded_artifacts/logs_3kq3mceq:v0\n"
     ]
    },
    {
     "name": "stderr",
     "output_type": "stream",
     "text": [
      "\u001b[34m\u001b[1mwandb\u001b[0m:   1 of 1 files downloaded.  \n"
     ]
    },
    {
     "name": "stdout",
     "output_type": "stream",
     "text": [
      "2025-04-19 22:57:45,322 - INFO - Downloaded logs_bdxi32ht:v0 to /scratch/downloaded_artifacts/logs_bdxi32ht:v0\n"
     ]
    },
    {
     "name": "stderr",
     "output_type": "stream",
     "text": [
      "\u001b[34m\u001b[1mwandb\u001b[0m:   1 of 1 files downloaded.  \n"
     ]
    },
    {
     "name": "stdout",
     "output_type": "stream",
     "text": [
      "2025-04-19 22:57:45,445 - INFO - Downloaded logs_hglw9rg8:v0 to /scratch/downloaded_artifacts/logs_hglw9rg8:v0\n"
     ]
    },
    {
     "name": "stderr",
     "output_type": "stream",
     "text": [
      "\u001b[34m\u001b[1mwandb\u001b[0m:   1 of 1 files downloaded.  \n"
     ]
    },
    {
     "name": "stdout",
     "output_type": "stream",
     "text": [
      "2025-04-19 22:57:45,593 - INFO - Downloaded logs_f9dqthom:v0 to /scratch/downloaded_artifacts/logs_f9dqthom:v0\n"
     ]
    },
    {
     "name": "stderr",
     "output_type": "stream",
     "text": [
      "\u001b[34m\u001b[1mwandb\u001b[0m:   1 of 1 files downloaded.  \n"
     ]
    },
    {
     "name": "stdout",
     "output_type": "stream",
     "text": [
      "2025-04-19 22:57:45,644 - INFO - Downloaded logs_6rgfh2uu:v0 to /scratch/downloaded_artifacts/logs_6rgfh2uu:v0\n"
     ]
    },
    {
     "name": "stderr",
     "output_type": "stream",
     "text": [
      "\u001b[34m\u001b[1mwandb\u001b[0m:   1 of 1 files downloaded.  \n",
      "\u001b[34m\u001b[1mwandb\u001b[0m:   1 of 1 files downloaded.  \n",
      "\u001b[34m\u001b[1mwandb\u001b[0m:   1 of 1 files downloaded.  \n"
     ]
    },
    {
     "name": "stdout",
     "output_type": "stream",
     "text": [
      "2025-04-19 22:57:45,913 - INFO - Downloaded logs_26gfrvr2:v0 to /scratch/downloaded_artifacts/logs_26gfrvr2:v0\n"
     ]
    },
    {
     "name": "stderr",
     "output_type": "stream",
     "text": [
      "\u001b[34m\u001b[1mwandb\u001b[0m:   1 of 1 files downloaded.  \n"
     ]
    },
    {
     "name": "stdout",
     "output_type": "stream",
     "text": [
      "2025-04-19 22:57:45,914 - INFO - Downloaded logs_l5fcq7qf:v0 to /scratch/downloaded_artifacts/logs_l5fcq7qf:v0\n",
      "2025-04-19 22:57:45,916 - INFO - Downloaded logs_meb8ba8d:v0 to /scratch/downloaded_artifacts/logs_meb8ba8d:v0\n"
     ]
    },
    {
     "name": "stderr",
     "output_type": "stream",
     "text": [
      "\u001b[34m\u001b[1mwandb\u001b[0m:   1 of 1 files downloaded.  \n"
     ]
    },
    {
     "name": "stdout",
     "output_type": "stream",
     "text": [
      "2025-04-19 22:57:45,922 - INFO - Downloaded logs_d2ffm20o:v0 to /scratch/downloaded_artifacts/logs_d2ffm20o:v0\n",
      "2025-04-19 22:57:45,923 - INFO - Downloaded logs_tyzc3ofx:v0 to /scratch/downloaded_artifacts/logs_tyzc3ofx:v0\n"
     ]
    },
    {
     "name": "stderr",
     "output_type": "stream",
     "text": [
      "\u001b[34m\u001b[1mwandb\u001b[0m:   1 of 1 files downloaded.  \n"
     ]
    },
    {
     "name": "stdout",
     "output_type": "stream",
     "text": [
      "2025-04-19 22:57:46,415 - INFO - Downloaded logs_084f57k3:v0 to /scratch/downloaded_artifacts/logs_084f57k3:v0\n"
     ]
    },
    {
     "name": "stderr",
     "output_type": "stream",
     "text": [
      "\u001b[34m\u001b[1mwandb\u001b[0m:   1 of 1 files downloaded.  \n"
     ]
    },
    {
     "name": "stdout",
     "output_type": "stream",
     "text": [
      "2025-04-19 22:57:46,443 - INFO - Downloaded logs_2kxp1eec:v0 to /scratch/downloaded_artifacts/logs_2kxp1eec:v0\n"
     ]
    },
    {
     "name": "stderr",
     "output_type": "stream",
     "text": [
      "\u001b[34m\u001b[1mwandb\u001b[0m: \u001b[33mWARNING\u001b[0m Cache size exceeded. Attempting to reclaim space...\n",
      "\u001b[34m\u001b[1mwandb\u001b[0m: \u001b[33mWARNING\u001b[0m Cache size exceeded. Attempting to reclaim space...\n"
     ]
    },
    {
     "name": "stdout",
     "output_type": "stream",
     "text": [
      "2025-04-19 22:57:46,617 - ERROR - Error downloading artifact for run xe2hmr8h: [Errno 2] No such file or directory: '/home/wlp9800/.cache/wandb/artifacts/tmp/tmprjpjsgve'\n",
      "2025-04-19 22:57:46,618 - ERROR - Error downloading artifact for run 3913a52z: [Errno 2] No such file or directory: '/home/wlp9800/.cache/wandb/artifacts/tmp/tmppt2sx8su'\n"
     ]
    },
    {
     "name": "stderr",
     "output_type": "stream",
     "text": [
      "\u001b[34m\u001b[1mwandb\u001b[0m:   1 of 1 files downloaded.  \n",
      "\u001b[34m\u001b[1mwandb\u001b[0m:   1 of 1 files downloaded.  \n"
     ]
    },
    {
     "name": "stdout",
     "output_type": "stream",
     "text": [
      "2025-04-19 22:57:46,627 - INFO - Downloaded logs_w6b2yvb0:v0 to /scratch/downloaded_artifacts/logs_w6b2yvb0:v0\n"
     ]
    },
    {
     "name": "stderr",
     "output_type": "stream",
     "text": [
      "\u001b[34m\u001b[1mwandb\u001b[0m:   1 of 1 files downloaded.  \n"
     ]
    },
    {
     "name": "stdout",
     "output_type": "stream",
     "text": [
      "2025-04-19 22:57:46,628 - INFO - Downloaded logs_a21db7qj:v0 to /scratch/downloaded_artifacts/logs_a21db7qj:v0\n",
      "2025-04-19 22:57:46,629 - INFO - Downloaded logs_0hbm50g2:v0 to /scratch/downloaded_artifacts/logs_0hbm50g2:v0\n"
     ]
    },
    {
     "name": "stderr",
     "output_type": "stream",
     "text": [
      "\u001b[34m\u001b[1mwandb\u001b[0m:   1 of 1 files downloaded.  \n"
     ]
    },
    {
     "name": "stdout",
     "output_type": "stream",
     "text": [
      "2025-04-19 22:57:46,667 - INFO - Downloaded logs_429cr517:v0 to /scratch/downloaded_artifacts/logs_429cr517:v0\n"
     ]
    },
    {
     "name": "stderr",
     "output_type": "stream",
     "text": [
      "\u001b[34m\u001b[1mwandb\u001b[0m: \u001b[33mWARNING\u001b[0m Cache size exceeded. Attempting to reclaim space...\n",
      "\u001b[34m\u001b[1mwandb\u001b[0m: \u001b[33mWARNING\u001b[0m Cache contains 85.4MB of temporary files. Run `wandb artifact cleanup --remove-temp` to remove them.\n",
      "\u001b[34m\u001b[1mwandb\u001b[0m: \u001b[33mWARNING\u001b[0m Cache size exceeded. Attempting to reclaim space...\n",
      "\u001b[34m\u001b[1mwandb\u001b[0m: \u001b[33mWARNING\u001b[0m Cache contains 85.4MB of temporary files. Run `wandb artifact cleanup --remove-temp` to remove them.\n",
      "\u001b[34m\u001b[1mwandb\u001b[0m: \u001b[33mWARNING\u001b[0m Cache size exceeded. Attempting to reclaim space...\n",
      "\u001b[34m\u001b[1mwandb\u001b[0m: \u001b[33mWARNING\u001b[0m Cache contains 85.4MB of temporary files. Run `wandb artifact cleanup --remove-temp` to remove them.\n",
      "\u001b[34m\u001b[1mwandb\u001b[0m: \u001b[33mWARNING\u001b[0m Cache size exceeded. Attempting to reclaim space...\n",
      "\u001b[34m\u001b[1mwandb\u001b[0m: \u001b[33mWARNING\u001b[0m Cache contains 85.4MB of temporary files. Run `wandb artifact cleanup --remove-temp` to remove them.\n",
      "\u001b[34m\u001b[1mwandb\u001b[0m: \u001b[33mWARNING\u001b[0m Cache size exceeded. Attempting to reclaim space...\n",
      "\u001b[34m\u001b[1mwandb\u001b[0m: \u001b[33mWARNING\u001b[0m Cache contains 85.4MB of temporary files. Run `wandb artifact cleanup --remove-temp` to remove them.\n",
      "\u001b[34m\u001b[1mwandb\u001b[0m: \u001b[33mWARNING\u001b[0m Cache size exceeded. Attempting to reclaim space...\n",
      "\u001b[34m\u001b[1mwandb\u001b[0m: \u001b[33mWARNING\u001b[0m Cache contains 85.4MB of temporary files. Run `wandb artifact cleanup --remove-temp` to remove them.\n",
      "\u001b[34m\u001b[1mwandb\u001b[0m: \u001b[33mWARNING\u001b[0m Cache size exceeded. Attempting to reclaim space...\n",
      "\u001b[34m\u001b[1mwandb\u001b[0m: \u001b[33mWARNING\u001b[0m Cache contains 85.4MB of temporary files. Run `wandb artifact cleanup --remove-temp` to remove them.\n",
      "\u001b[34m\u001b[1mwandb\u001b[0m: \u001b[33mWARNING\u001b[0m Cache size exceeded. Attempting to reclaim space...\n",
      "\u001b[34m\u001b[1mwandb\u001b[0m: \u001b[33mWARNING\u001b[0m Cache contains 85.4MB of temporary files. Run `wandb artifact cleanup --remove-temp` to remove them.\n",
      "\u001b[34m\u001b[1mwandb\u001b[0m: \u001b[33mWARNING\u001b[0m Cache size exceeded. Attempting to reclaim space...\n",
      "\u001b[34m\u001b[1mwandb\u001b[0m: \u001b[33mWARNING\u001b[0m Cache contains 85.4MB of temporary files. Run `wandb artifact cleanup --remove-temp` to remove them.\n",
      "\u001b[34m\u001b[1mwandb\u001b[0m: \u001b[33mWARNING\u001b[0m Cache size exceeded. Attempting to reclaim space...\n",
      "\u001b[34m\u001b[1mwandb\u001b[0m: \u001b[33mWARNING\u001b[0m Cache contains 85.4MB of temporary files. Run `wandb artifact cleanup --remove-temp` to remove them.\n",
      "\u001b[34m\u001b[1mwandb\u001b[0m: \u001b[33mWARNING\u001b[0m Cache size exceeded. Attempting to reclaim space...\n",
      "\u001b[34m\u001b[1mwandb\u001b[0m: \u001b[33mWARNING\u001b[0m Cache contains 85.4MB of temporary files. Run `wandb artifact cleanup --remove-temp` to remove them.\n",
      "\u001b[34m\u001b[1mwandb\u001b[0m: \u001b[33mWARNING\u001b[0m Cache size exceeded. Attempting to reclaim space...\n",
      "\u001b[34m\u001b[1mwandb\u001b[0m: \u001b[33mWARNING\u001b[0m Cache contains 85.4MB of temporary files. Run `wandb artifact cleanup --remove-temp` to remove them.\n",
      "\u001b[34m\u001b[1mwandb\u001b[0m: \u001b[33mWARNING\u001b[0m Cache size exceeded. Attempting to reclaim space...\n",
      "\u001b[34m\u001b[1mwandb\u001b[0m: \u001b[33mWARNING\u001b[0m Cache contains 85.4MB of temporary files. Run `wandb artifact cleanup --remove-temp` to remove them.\n",
      "\u001b[34m\u001b[1mwandb\u001b[0m:   1 of 1 files downloaded.  \n"
     ]
    },
    {
     "name": "stdout",
     "output_type": "stream",
     "text": [
      "2025-04-19 22:57:58,167 - INFO - Downloaded logs_ea54l0mg:v0 to /scratch/downloaded_artifacts/logs_ea54l0mg:v0\n"
     ]
    },
    {
     "name": "stderr",
     "output_type": "stream",
     "text": [
      "\u001b[34m\u001b[1mwandb\u001b[0m:   1 of 1 files downloaded.  \n"
     ]
    },
    {
     "name": "stdout",
     "output_type": "stream",
     "text": [
      "2025-04-19 22:57:58,171 - INFO - Downloaded logs_ob9rfzhn:v0 to /scratch/downloaded_artifacts/logs_ob9rfzhn:v0\n"
     ]
    },
    {
     "name": "stderr",
     "output_type": "stream",
     "text": [
      "\u001b[34m\u001b[1mwandb\u001b[0m:   1 of 1 files downloaded.  \n",
      "\u001b[34m\u001b[1mwandb\u001b[0m:   1 of 1 files downloaded.  \n"
     ]
    },
    {
     "name": "stdout",
     "output_type": "stream",
     "text": [
      "2025-04-19 22:57:58,218 - INFO - Downloaded logs_izmlc1hq:v0 to /scratch/downloaded_artifacts/logs_izmlc1hq:v0\n",
      "2025-04-19 22:57:58,222 - INFO - Downloaded logs_khvirhqs:v0 to /scratch/downloaded_artifacts/logs_khvirhqs:v0\n"
     ]
    },
    {
     "name": "stderr",
     "output_type": "stream",
     "text": [
      "\u001b[34m\u001b[1mwandb\u001b[0m:   1 of 1 files downloaded.  \n"
     ]
    },
    {
     "name": "stdout",
     "output_type": "stream",
     "text": [
      "2025-04-19 22:57:58,274 - INFO - Downloaded logs_i5ysdjmr:v0 to /scratch/downloaded_artifacts/logs_i5ysdjmr:v0\n"
     ]
    },
    {
     "name": "stderr",
     "output_type": "stream",
     "text": [
      "\u001b[34m\u001b[1mwandb\u001b[0m:   1 of 1 files downloaded.  \n"
     ]
    },
    {
     "name": "stdout",
     "output_type": "stream",
     "text": [
      "2025-04-19 22:57:58,282 - INFO - Downloaded logs_deildjhy:v0 to /scratch/downloaded_artifacts/logs_deildjhy:v0\n"
     ]
    },
    {
     "name": "stderr",
     "output_type": "stream",
     "text": [
      "\u001b[34m\u001b[1mwandb\u001b[0m:   1 of 1 files downloaded.  \n"
     ]
    },
    {
     "name": "stdout",
     "output_type": "stream",
     "text": [
      "2025-04-19 22:57:58,311 - INFO - Downloaded logs_g75pv6ki:v0 to /scratch/downloaded_artifacts/logs_g75pv6ki:v0\n"
     ]
    },
    {
     "name": "stderr",
     "output_type": "stream",
     "text": [
      "\u001b[34m\u001b[1mwandb\u001b[0m:   1 of 1 files downloaded.  \n"
     ]
    },
    {
     "name": "stdout",
     "output_type": "stream",
     "text": [
      "2025-04-19 22:57:58,323 - INFO - Downloaded logs_eg4ovcxj:v0 to /scratch/downloaded_artifacts/logs_eg4ovcxj:v0\n"
     ]
    },
    {
     "name": "stderr",
     "output_type": "stream",
     "text": [
      "\u001b[34m\u001b[1mwandb\u001b[0m:   1 of 1 files downloaded.  \n"
     ]
    },
    {
     "name": "stdout",
     "output_type": "stream",
     "text": [
      "2025-04-19 22:57:58,333 - INFO - Downloaded logs_9pndrq2h:v0 to /scratch/downloaded_artifacts/logs_9pndrq2h:v0\n"
     ]
    },
    {
     "name": "stderr",
     "output_type": "stream",
     "text": [
      "\u001b[34m\u001b[1mwandb\u001b[0m:   1 of 1 files downloaded.  \n"
     ]
    },
    {
     "name": "stdout",
     "output_type": "stream",
     "text": [
      "2025-04-19 22:57:58,339 - INFO - Downloaded logs_62vyrnzq:v0 to /scratch/downloaded_artifacts/logs_62vyrnzq:v0\n"
     ]
    },
    {
     "name": "stderr",
     "output_type": "stream",
     "text": [
      "\u001b[34m\u001b[1mwandb\u001b[0m:   1 of 1 files downloaded.  \n"
     ]
    },
    {
     "name": "stdout",
     "output_type": "stream",
     "text": [
      "2025-04-19 22:57:58,352 - INFO - Downloaded logs_dwk4jkpy:v0 to /scratch/downloaded_artifacts/logs_dwk4jkpy:v0\n"
     ]
    },
    {
     "name": "stderr",
     "output_type": "stream",
     "text": [
      "\u001b[34m\u001b[1mwandb\u001b[0m:   1 of 1 files downloaded.  \n"
     ]
    },
    {
     "name": "stdout",
     "output_type": "stream",
     "text": [
      "2025-04-19 22:57:58,370 - INFO - Downloaded logs_blb65h5n:v0 to /scratch/downloaded_artifacts/logs_blb65h5n:v0\n"
     ]
    },
    {
     "name": "stderr",
     "output_type": "stream",
     "text": [
      "\u001b[34m\u001b[1mwandb\u001b[0m:   1 of 1 files downloaded.  \n"
     ]
    },
    {
     "name": "stdout",
     "output_type": "stream",
     "text": [
      "2025-04-19 22:57:58,385 - INFO - Downloaded logs_87w7nckz:v0 to /scratch/downloaded_artifacts/logs_87w7nckz:v0\n"
     ]
    },
    {
     "name": "stderr",
     "output_type": "stream",
     "text": [
      "\u001b[34m\u001b[1mwandb\u001b[0m:   1 of 1 files downloaded.  \n"
     ]
    },
    {
     "name": "stdout",
     "output_type": "stream",
     "text": [
      "2025-04-19 22:58:00,854 - INFO - Downloaded logs_6sm4a2vd:v0 to /scratch/downloaded_artifacts/logs_6sm4a2vd:v0\n"
     ]
    },
    {
     "name": "stderr",
     "output_type": "stream",
     "text": [
      "\u001b[34m\u001b[1mwandb\u001b[0m:   1 of 1 files downloaded.  \n"
     ]
    },
    {
     "name": "stdout",
     "output_type": "stream",
     "text": [
      "2025-04-19 22:58:00,902 - INFO - Downloaded logs_42p3w07o:v0 to /scratch/downloaded_artifacts/logs_42p3w07o:v0\n"
     ]
    },
    {
     "name": "stderr",
     "output_type": "stream",
     "text": [
      "\u001b[34m\u001b[1mwandb\u001b[0m:   1 of 1 files downloaded.  \n"
     ]
    },
    {
     "name": "stdout",
     "output_type": "stream",
     "text": [
      "2025-04-19 22:58:01,143 - INFO - Downloaded logs_qpt6or9s:v0 to /scratch/downloaded_artifacts/logs_qpt6or9s:v0\n"
     ]
    },
    {
     "name": "stderr",
     "output_type": "stream",
     "text": [
      "\u001b[34m\u001b[1mwandb\u001b[0m:   1 of 1 files downloaded.  \n"
     ]
    },
    {
     "name": "stdout",
     "output_type": "stream",
     "text": [
      "2025-04-19 22:58:01,332 - INFO - Downloaded logs_iimkp5tj:v0 to /scratch/downloaded_artifacts/logs_iimkp5tj:v0\n"
     ]
    },
    {
     "name": "stderr",
     "output_type": "stream",
     "text": [
      "\u001b[34m\u001b[1mwandb\u001b[0m:   1 of 1 files downloaded.  \n"
     ]
    },
    {
     "name": "stdout",
     "output_type": "stream",
     "text": [
      "2025-04-19 22:58:01,436 - INFO - Downloaded logs_9j2jszbv:v0 to /scratch/downloaded_artifacts/logs_9j2jszbv:v0\n"
     ]
    },
    {
     "name": "stderr",
     "output_type": "stream",
     "text": [
      "\u001b[34m\u001b[1mwandb\u001b[0m:   1 of 1 files downloaded.  \n",
      "\u001b[34m\u001b[1mwandb\u001b[0m:   1 of 1 files downloaded.  \n"
     ]
    },
    {
     "name": "stdout",
     "output_type": "stream",
     "text": [
      "2025-04-19 22:58:01,487 - INFO - Downloaded logs_jn8df4lw:v0 to /scratch/downloaded_artifacts/logs_jn8df4lw:v0\n",
      "2025-04-19 22:58:01,495 - INFO - Downloaded logs_gkb884j3:v0 to /scratch/downloaded_artifacts/logs_gkb884j3:v0\n"
     ]
    },
    {
     "name": "stderr",
     "output_type": "stream",
     "text": [
      "\u001b[34m\u001b[1mwandb\u001b[0m:   1 of 1 files downloaded.  \n"
     ]
    },
    {
     "name": "stdout",
     "output_type": "stream",
     "text": [
      "2025-04-19 22:58:01,593 - INFO - Downloaded logs_p8mb0tbc:v0 to /scratch/downloaded_artifacts/logs_p8mb0tbc:v0\n"
     ]
    },
    {
     "name": "stderr",
     "output_type": "stream",
     "text": [
      "\u001b[34m\u001b[1mwandb\u001b[0m:   1 of 1 files downloaded.  \n"
     ]
    },
    {
     "name": "stdout",
     "output_type": "stream",
     "text": [
      "2025-04-19 22:58:01,604 - INFO - Downloaded logs_erb8rrkq:v0 to /scratch/downloaded_artifacts/logs_erb8rrkq:v0\n"
     ]
    },
    {
     "name": "stderr",
     "output_type": "stream",
     "text": [
      "\u001b[34m\u001b[1mwandb\u001b[0m:   1 of 1 files downloaded.  \n"
     ]
    },
    {
     "name": "stdout",
     "output_type": "stream",
     "text": [
      "2025-04-19 22:58:01,637 - INFO - Downloaded logs_pur1cc8r:v0 to /scratch/downloaded_artifacts/logs_pur1cc8r:v0\n"
     ]
    },
    {
     "name": "stderr",
     "output_type": "stream",
     "text": [
      "\u001b[34m\u001b[1mwandb\u001b[0m:   1 of 1 files downloaded.  \n"
     ]
    },
    {
     "name": "stdout",
     "output_type": "stream",
     "text": [
      "2025-04-19 22:58:01,654 - INFO - Downloaded logs_t4t4h9sh:v0 to /scratch/downloaded_artifacts/logs_t4t4h9sh:v0\n"
     ]
    },
    {
     "name": "stderr",
     "output_type": "stream",
     "text": [
      "\u001b[34m\u001b[1mwandb\u001b[0m:   1 of 1 files downloaded.  \n"
     ]
    },
    {
     "name": "stdout",
     "output_type": "stream",
     "text": [
      "2025-04-19 22:58:01,664 - INFO - Downloaded logs_gy2ijrco:v0 to /scratch/downloaded_artifacts/logs_gy2ijrco:v0\n"
     ]
    },
    {
     "name": "stderr",
     "output_type": "stream",
     "text": [
      "\u001b[34m\u001b[1mwandb\u001b[0m:   1 of 1 files downloaded.  \n"
     ]
    },
    {
     "name": "stdout",
     "output_type": "stream",
     "text": [
      "2025-04-19 22:58:01,676 - INFO - Downloaded logs_jx664bvy:v0 to /scratch/downloaded_artifacts/logs_jx664bvy:v0\n"
     ]
    },
    {
     "name": "stderr",
     "output_type": "stream",
     "text": [
      "\u001b[34m\u001b[1mwandb\u001b[0m:   1 of 1 files downloaded.  \n"
     ]
    },
    {
     "name": "stdout",
     "output_type": "stream",
     "text": [
      "2025-04-19 22:58:01,690 - INFO - Downloaded logs_epqf8pa1:v0 to /scratch/downloaded_artifacts/logs_epqf8pa1:v0\n"
     ]
    },
    {
     "name": "stderr",
     "output_type": "stream",
     "text": [
      "\u001b[34m\u001b[1mwandb\u001b[0m:   1 of 1 files downloaded.  \n"
     ]
    },
    {
     "name": "stdout",
     "output_type": "stream",
     "text": [
      "2025-04-19 22:58:01,708 - INFO - Downloaded logs_jg0vtzqc:v0 to /scratch/downloaded_artifacts/logs_jg0vtzqc:v0\n"
     ]
    },
    {
     "name": "stderr",
     "output_type": "stream",
     "text": [
      "\u001b[34m\u001b[1mwandb\u001b[0m:   1 of 1 files downloaded.  \n"
     ]
    },
    {
     "name": "stdout",
     "output_type": "stream",
     "text": [
      "2025-04-19 22:58:01,714 - INFO - Downloaded logs_amkfw064:v0 to /scratch/downloaded_artifacts/logs_amkfw064:v0\n"
     ]
    },
    {
     "name": "stderr",
     "output_type": "stream",
     "text": [
      "\u001b[34m\u001b[1mwandb\u001b[0m:   1 of 1 files downloaded.  \n"
     ]
    },
    {
     "name": "stdout",
     "output_type": "stream",
     "text": [
      "2025-04-19 22:58:01,753 - INFO - Downloaded logs_qouanujk:v0 to /scratch/downloaded_artifacts/logs_qouanujk:v0\n"
     ]
    },
    {
     "name": "stderr",
     "output_type": "stream",
     "text": [
      "\u001b[34m\u001b[1mwandb\u001b[0m:   1 of 1 files downloaded.  \n"
     ]
    },
    {
     "name": "stdout",
     "output_type": "stream",
     "text": [
      "2025-04-19 22:58:01,783 - INFO - Downloaded logs_a3aiyzox:v0 to /scratch/downloaded_artifacts/logs_a3aiyzox:v0\n"
     ]
    },
    {
     "name": "stderr",
     "output_type": "stream",
     "text": [
      "\u001b[34m\u001b[1mwandb\u001b[0m:   1 of 1 files downloaded.  \n"
     ]
    },
    {
     "name": "stdout",
     "output_type": "stream",
     "text": [
      "2025-04-19 22:58:01,791 - INFO - Downloaded logs_j131na2c:v0 to /scratch/downloaded_artifacts/logs_j131na2c:v0\n"
     ]
    },
    {
     "name": "stderr",
     "output_type": "stream",
     "text": [
      "\u001b[34m\u001b[1mwandb\u001b[0m:   1 of 1 files downloaded.  \n"
     ]
    },
    {
     "name": "stdout",
     "output_type": "stream",
     "text": [
      "2025-04-19 22:58:01,796 - INFO - Downloaded logs_zwitjjjf:v0 to /scratch/downloaded_artifacts/logs_zwitjjjf:v0\n"
     ]
    },
    {
     "name": "stderr",
     "output_type": "stream",
     "text": [
      "\u001b[34m\u001b[1mwandb\u001b[0m:   1 of 1 files downloaded.  \n"
     ]
    },
    {
     "name": "stdout",
     "output_type": "stream",
     "text": [
      "2025-04-19 22:58:02,201 - INFO - Downloaded logs_yrvivap6:v0 to /scratch/downloaded_artifacts/logs_yrvivap6:v0\n"
     ]
    },
    {
     "name": "stderr",
     "output_type": "stream",
     "text": [
      "\u001b[34m\u001b[1mwandb\u001b[0m:   1 of 1 files downloaded.  \n"
     ]
    },
    {
     "name": "stdout",
     "output_type": "stream",
     "text": [
      "2025-04-19 22:58:02,246 - INFO - Downloaded logs_uuuruuuy:v0 to /scratch/downloaded_artifacts/logs_uuuruuuy:v0\n"
     ]
    },
    {
     "name": "stderr",
     "output_type": "stream",
     "text": [
      "\u001b[34m\u001b[1mwandb\u001b[0m:   1 of 1 files downloaded.  \n"
     ]
    },
    {
     "name": "stdout",
     "output_type": "stream",
     "text": [
      "2025-04-19 22:58:02,684 - INFO - Downloaded logs_2eeifh6i:v0 to /scratch/downloaded_artifacts/logs_2eeifh6i:v0\n"
     ]
    },
    {
     "name": "stderr",
     "output_type": "stream",
     "text": [
      "\u001b[34m\u001b[1mwandb\u001b[0m:   1 of 1 files downloaded.  \n"
     ]
    },
    {
     "name": "stdout",
     "output_type": "stream",
     "text": [
      "2025-04-19 22:58:02,845 - INFO - Downloaded logs_a6jqfsn4:v0 to /scratch/downloaded_artifacts/logs_a6jqfsn4:v0\n"
     ]
    },
    {
     "name": "stderr",
     "output_type": "stream",
     "text": [
      "\u001b[34m\u001b[1mwandb\u001b[0m:   1 of 1 files downloaded.  \n"
     ]
    },
    {
     "name": "stdout",
     "output_type": "stream",
     "text": [
      "2025-04-19 22:58:03,004 - INFO - Downloaded logs_brhtgun2:v0 to /scratch/downloaded_artifacts/logs_brhtgun2:v0\n"
     ]
    },
    {
     "name": "stderr",
     "output_type": "stream",
     "text": [
      "\u001b[34m\u001b[1mwandb\u001b[0m:   1 of 1 files downloaded.  \n"
     ]
    },
    {
     "name": "stdout",
     "output_type": "stream",
     "text": [
      "2025-04-19 22:58:03,365 - INFO - Downloaded logs_cngdoz0d:v0 to /scratch/downloaded_artifacts/logs_cngdoz0d:v0\n"
     ]
    },
    {
     "name": "stderr",
     "output_type": "stream",
     "text": [
      "\u001b[34m\u001b[1mwandb\u001b[0m:   1 of 1 files downloaded.  \n"
     ]
    },
    {
     "name": "stdout",
     "output_type": "stream",
     "text": [
      "2025-04-19 22:58:03,517 - INFO - Downloaded logs_3cy8dd12:v0 to /scratch/downloaded_artifacts/logs_3cy8dd12:v0\n"
     ]
    },
    {
     "name": "stderr",
     "output_type": "stream",
     "text": [
      "\u001b[34m\u001b[1mwandb\u001b[0m:   1 of 1 files downloaded.  \n"
     ]
    },
    {
     "name": "stdout",
     "output_type": "stream",
     "text": [
      "2025-04-19 22:58:03,522 - INFO - Downloaded logs_2afnvzm4:v0 to /scratch/downloaded_artifacts/logs_2afnvzm4:v0\n"
     ]
    },
    {
     "name": "stderr",
     "output_type": "stream",
     "text": [
      "\u001b[34m\u001b[1mwandb\u001b[0m:   1 of 1 files downloaded.  \n"
     ]
    },
    {
     "name": "stdout",
     "output_type": "stream",
     "text": [
      "2025-04-19 22:58:03,593 - INFO - Downloaded logs_jnlhxm2t:v0 to /scratch/downloaded_artifacts/logs_jnlhxm2t:v0\n"
     ]
    },
    {
     "name": "stderr",
     "output_type": "stream",
     "text": [
      "\u001b[34m\u001b[1mwandb\u001b[0m:   1 of 1 files downloaded.  \n",
      "\u001b[34m\u001b[1mwandb\u001b[0m:   1 of 1 files downloaded.  \n"
     ]
    },
    {
     "name": "stdout",
     "output_type": "stream",
     "text": [
      "2025-04-19 22:58:03,676 - INFO - Downloaded logs_0fv0ztyb:v0 to /scratch/downloaded_artifacts/logs_0fv0ztyb:v0\n",
      "2025-04-19 22:58:03,681 - INFO - Downloaded logs_s6y7al5z:v0 to /scratch/downloaded_artifacts/logs_s6y7al5z:v0\n"
     ]
    },
    {
     "name": "stderr",
     "output_type": "stream",
     "text": [
      "\u001b[34m\u001b[1mwandb\u001b[0m:   1 of 1 files downloaded.  \n"
     ]
    },
    {
     "name": "stdout",
     "output_type": "stream",
     "text": [
      "2025-04-19 22:58:03,726 - INFO - Downloaded logs_4yf5qbr7:v0 to /scratch/downloaded_artifacts/logs_4yf5qbr7:v0\n"
     ]
    },
    {
     "name": "stderr",
     "output_type": "stream",
     "text": [
      "\u001b[34m\u001b[1mwandb\u001b[0m:   1 of 1 files downloaded.  \n"
     ]
    },
    {
     "name": "stdout",
     "output_type": "stream",
     "text": [
      "2025-04-19 22:58:03,746 - INFO - Downloaded logs_fbx1lufp:v0 to /scratch/downloaded_artifacts/logs_fbx1lufp:v0\n"
     ]
    },
    {
     "name": "stderr",
     "output_type": "stream",
     "text": [
      "\u001b[34m\u001b[1mwandb\u001b[0m:   1 of 1 files downloaded.  \n"
     ]
    },
    {
     "name": "stdout",
     "output_type": "stream",
     "text": [
      "2025-04-19 22:58:03,774 - INFO - Downloaded logs_gc3rgltp:v0 to /scratch/downloaded_artifacts/logs_gc3rgltp:v0\n"
     ]
    },
    {
     "name": "stderr",
     "output_type": "stream",
     "text": [
      "\u001b[34m\u001b[1mwandb\u001b[0m:   1 of 1 files downloaded.  \n"
     ]
    },
    {
     "name": "stdout",
     "output_type": "stream",
     "text": [
      "2025-04-19 22:58:03,810 - INFO - Downloaded logs_0xgi10xo:v0 to /scratch/downloaded_artifacts/logs_0xgi10xo:v0\n"
     ]
    },
    {
     "name": "stderr",
     "output_type": "stream",
     "text": [
      "\u001b[34m\u001b[1mwandb\u001b[0m:   1 of 1 files downloaded.  \n"
     ]
    },
    {
     "name": "stdout",
     "output_type": "stream",
     "text": [
      "2025-04-19 22:58:03,828 - INFO - Downloaded logs_wt7ioh6f:v0 to /scratch/downloaded_artifacts/logs_wt7ioh6f:v0\n"
     ]
    },
    {
     "name": "stderr",
     "output_type": "stream",
     "text": [
      "\u001b[34m\u001b[1mwandb\u001b[0m:   1 of 1 files downloaded.  \n",
      "\u001b[34m\u001b[1mwandb\u001b[0m:   1 of 1 files downloaded.  \n"
     ]
    },
    {
     "name": "stdout",
     "output_type": "stream",
     "text": [
      "2025-04-19 22:58:03,842 - INFO - Downloaded logs_fuiepbua:v0 to /scratch/downloaded_artifacts/logs_fuiepbua:v0\n",
      "2025-04-19 22:58:03,844 - INFO - Downloaded logs_0cvw483u:v0 to /scratch/downloaded_artifacts/logs_0cvw483u:v0\n"
     ]
    },
    {
     "name": "stderr",
     "output_type": "stream",
     "text": [
      "\u001b[34m\u001b[1mwandb\u001b[0m:   1 of 1 files downloaded.  \n"
     ]
    },
    {
     "name": "stdout",
     "output_type": "stream",
     "text": [
      "2025-04-19 22:58:03,902 - INFO - Downloaded logs_myasfcr5:v0 to /scratch/downloaded_artifacts/logs_myasfcr5:v0\n"
     ]
    },
    {
     "name": "stderr",
     "output_type": "stream",
     "text": [
      "\u001b[34m\u001b[1mwandb\u001b[0m:   1 of 1 files downloaded.  \n"
     ]
    },
    {
     "name": "stdout",
     "output_type": "stream",
     "text": [
      "2025-04-19 22:58:03,962 - INFO - Downloaded logs_kc4d4bpn:v0 to /scratch/downloaded_artifacts/logs_kc4d4bpn:v0\n"
     ]
    },
    {
     "name": "stderr",
     "output_type": "stream",
     "text": [
      "\u001b[34m\u001b[1mwandb\u001b[0m:   1 of 1 files downloaded.  \n"
     ]
    },
    {
     "name": "stdout",
     "output_type": "stream",
     "text": [
      "2025-04-19 22:58:04,134 - INFO - Downloaded logs_apaotm3h:v0 to /scratch/downloaded_artifacts/logs_apaotm3h:v0\n"
     ]
    },
    {
     "name": "stderr",
     "output_type": "stream",
     "text": [
      "\u001b[34m\u001b[1mwandb\u001b[0m:   1 of 1 files downloaded.  \n"
     ]
    },
    {
     "name": "stdout",
     "output_type": "stream",
     "text": [
      "2025-04-19 22:58:04,166 - INFO - Downloaded logs_3lydemke:v0 to /scratch/downloaded_artifacts/logs_3lydemke:v0\n"
     ]
    },
    {
     "name": "stderr",
     "output_type": "stream",
     "text": [
      "\u001b[34m\u001b[1mwandb\u001b[0m:   1 of 1 files downloaded.  \n"
     ]
    },
    {
     "name": "stdout",
     "output_type": "stream",
     "text": [
      "2025-04-19 22:58:04,383 - INFO - Downloaded logs_2vluy32f:v0 to /scratch/downloaded_artifacts/logs_2vluy32f:v0\n"
     ]
    },
    {
     "name": "stderr",
     "output_type": "stream",
     "text": [
      "\u001b[34m\u001b[1mwandb\u001b[0m:   1 of 1 files downloaded.  \n"
     ]
    },
    {
     "name": "stdout",
     "output_type": "stream",
     "text": [
      "2025-04-19 22:58:04,428 - INFO - Downloaded logs_4xit7f72:v0 to /scratch/downloaded_artifacts/logs_4xit7f72:v0\n"
     ]
    },
    {
     "name": "stderr",
     "output_type": "stream",
     "text": [
      "\u001b[34m\u001b[1mwandb\u001b[0m:   1 of 1 files downloaded.  \n"
     ]
    },
    {
     "name": "stdout",
     "output_type": "stream",
     "text": [
      "2025-04-19 22:58:04,439 - INFO - Downloaded logs_ukye5emc:v0 to /scratch/downloaded_artifacts/logs_ukye5emc:v0\n"
     ]
    },
    {
     "name": "stderr",
     "output_type": "stream",
     "text": [
      "\u001b[34m\u001b[1mwandb\u001b[0m:   1 of 1 files downloaded.  \n"
     ]
    },
    {
     "name": "stdout",
     "output_type": "stream",
     "text": [
      "2025-04-19 22:58:04,909 - INFO - Downloaded logs_7n0subez:v0 to /scratch/downloaded_artifacts/logs_7n0subez:v0\n"
     ]
    },
    {
     "name": "stderr",
     "output_type": "stream",
     "text": [
      "\u001b[34m\u001b[1mwandb\u001b[0m:   1 of 1 files downloaded.  \n"
     ]
    },
    {
     "name": "stdout",
     "output_type": "stream",
     "text": [
      "2025-04-19 22:58:04,966 - INFO - Downloaded logs_856t448b:v0 to /scratch/downloaded_artifacts/logs_856t448b:v0\n"
     ]
    },
    {
     "name": "stderr",
     "output_type": "stream",
     "text": [
      "\u001b[34m\u001b[1mwandb\u001b[0m:   1 of 1 files downloaded.  \n"
     ]
    },
    {
     "name": "stdout",
     "output_type": "stream",
     "text": [
      "2025-04-19 22:58:05,399 - INFO - Downloaded logs_bmzzfboh:v0 to /scratch/downloaded_artifacts/logs_bmzzfboh:v0\n"
     ]
    },
    {
     "name": "stderr",
     "output_type": "stream",
     "text": [
      "\u001b[34m\u001b[1mwandb\u001b[0m:   1 of 1 files downloaded.  \n"
     ]
    },
    {
     "name": "stdout",
     "output_type": "stream",
     "text": [
      "2025-04-19 22:58:05,449 - INFO - Downloaded logs_nywsrzbx:v0 to /scratch/downloaded_artifacts/logs_nywsrzbx:v0\n"
     ]
    },
    {
     "name": "stderr",
     "output_type": "stream",
     "text": [
      "\u001b[34m\u001b[1mwandb\u001b[0m:   1 of 1 files downloaded.  \n"
     ]
    },
    {
     "name": "stdout",
     "output_type": "stream",
     "text": [
      "2025-04-19 22:58:05,541 - INFO - Downloaded logs_oe1a9hv5:v0 to /scratch/downloaded_artifacts/logs_oe1a9hv5:v0\n"
     ]
    },
    {
     "name": "stderr",
     "output_type": "stream",
     "text": [
      "\u001b[34m\u001b[1mwandb\u001b[0m:   1 of 1 files downloaded.  \n"
     ]
    },
    {
     "name": "stdout",
     "output_type": "stream",
     "text": [
      "2025-04-19 22:58:05,570 - INFO - Downloaded logs_0tlgv97b:v0 to /scratch/downloaded_artifacts/logs_0tlgv97b:v0\n"
     ]
    },
    {
     "name": "stderr",
     "output_type": "stream",
     "text": [
      "\u001b[34m\u001b[1mwandb\u001b[0m:   1 of 1 files downloaded.  \n"
     ]
    },
    {
     "name": "stdout",
     "output_type": "stream",
     "text": [
      "2025-04-19 22:58:05,663 - INFO - Downloaded logs_nem0cyjb:v0 to /scratch/downloaded_artifacts/logs_nem0cyjb:v0\n"
     ]
    },
    {
     "name": "stderr",
     "output_type": "stream",
     "text": [
      "\u001b[34m\u001b[1mwandb\u001b[0m:   1 of 1 files downloaded.  \n"
     ]
    },
    {
     "name": "stdout",
     "output_type": "stream",
     "text": [
      "2025-04-19 22:58:05,684 - INFO - Downloaded logs_aijczfk6:v0 to /scratch/downloaded_artifacts/logs_aijczfk6:v0\n"
     ]
    },
    {
     "name": "stderr",
     "output_type": "stream",
     "text": [
      "\u001b[34m\u001b[1mwandb\u001b[0m:   1 of 1 files downloaded.  \n"
     ]
    },
    {
     "name": "stdout",
     "output_type": "stream",
     "text": [
      "2025-04-19 22:58:05,766 - INFO - Downloaded logs_6i9ehq06:v0 to /scratch/downloaded_artifacts/logs_6i9ehq06:v0\n"
     ]
    },
    {
     "name": "stderr",
     "output_type": "stream",
     "text": [
      "\u001b[34m\u001b[1mwandb\u001b[0m:   1 of 1 files downloaded.  \n"
     ]
    },
    {
     "name": "stdout",
     "output_type": "stream",
     "text": [
      "2025-04-19 22:58:05,780 - INFO - Downloaded logs_61cpglu8:v0 to /scratch/downloaded_artifacts/logs_61cpglu8:v0\n"
     ]
    },
    {
     "name": "stderr",
     "output_type": "stream",
     "text": [
      "\u001b[34m\u001b[1mwandb\u001b[0m:   1 of 1 files downloaded.  \n",
      "\u001b[34m\u001b[1mwandb\u001b[0m:   1 of 1 files downloaded.  \n"
     ]
    },
    {
     "name": "stdout",
     "output_type": "stream",
     "text": [
      "2025-04-19 22:58:05,844 - INFO - Downloaded logs_ym76nqq5:v0 to /scratch/downloaded_artifacts/logs_ym76nqq5:v0\n",
      "2025-04-19 22:58:05,844 - INFO - Downloaded logs_orze6zao:v0 to /scratch/downloaded_artifacts/logs_orze6zao:v0\n"
     ]
    },
    {
     "name": "stderr",
     "output_type": "stream",
     "text": [
      "\u001b[34m\u001b[1mwandb\u001b[0m:   1 of 1 files downloaded.  \n"
     ]
    },
    {
     "name": "stdout",
     "output_type": "stream",
     "text": [
      "2025-04-19 22:58:05,884 - INFO - Downloaded logs_vh3c44i7:v0 to /scratch/downloaded_artifacts/logs_vh3c44i7:v0\n"
     ]
    },
    {
     "name": "stderr",
     "output_type": "stream",
     "text": [
      "\u001b[34m\u001b[1mwandb\u001b[0m:   1 of 1 files downloaded.  \n"
     ]
    },
    {
     "name": "stdout",
     "output_type": "stream",
     "text": [
      "2025-04-19 22:58:05,969 - INFO - Downloaded logs_78rzg4ne:v0 to /scratch/downloaded_artifacts/logs_78rzg4ne:v0\n"
     ]
    },
    {
     "name": "stderr",
     "output_type": "stream",
     "text": [
      "\u001b[34m\u001b[1mwandb\u001b[0m:   1 of 1 files downloaded.  \n"
     ]
    },
    {
     "name": "stdout",
     "output_type": "stream",
     "text": [
      "2025-04-19 22:58:06,105 - INFO - Downloaded logs_ioznmeql:v0 to /scratch/downloaded_artifacts/logs_ioznmeql:v0\n"
     ]
    },
    {
     "name": "stderr",
     "output_type": "stream",
     "text": [
      "\u001b[34m\u001b[1mwandb\u001b[0m:   1 of 1 files downloaded.  \n"
     ]
    },
    {
     "name": "stdout",
     "output_type": "stream",
     "text": [
      "2025-04-19 22:58:06,194 - INFO - Downloaded logs_et2rrdz8:v0 to /scratch/downloaded_artifacts/logs_et2rrdz8:v0\n"
     ]
    },
    {
     "name": "stderr",
     "output_type": "stream",
     "text": [
      "\u001b[34m\u001b[1mwandb\u001b[0m:   1 of 1 files downloaded.  \n"
     ]
    },
    {
     "name": "stdout",
     "output_type": "stream",
     "text": [
      "2025-04-19 22:58:06,212 - INFO - Downloaded logs_6zqgfup0:v0 to /scratch/downloaded_artifacts/logs_6zqgfup0:v0\n"
     ]
    },
    {
     "name": "stderr",
     "output_type": "stream",
     "text": [
      "\u001b[34m\u001b[1mwandb\u001b[0m:   1 of 1 files downloaded.  \n"
     ]
    },
    {
     "name": "stdout",
     "output_type": "stream",
     "text": [
      "2025-04-19 22:58:06,309 - INFO - Downloaded logs_n5tvsywg:v0 to /scratch/downloaded_artifacts/logs_n5tvsywg:v0\n"
     ]
    },
    {
     "name": "stderr",
     "output_type": "stream",
     "text": [
      "\u001b[34m\u001b[1mwandb\u001b[0m:   1 of 1 files downloaded.  \n"
     ]
    },
    {
     "name": "stdout",
     "output_type": "stream",
     "text": [
      "2025-04-19 22:58:06,335 - INFO - Downloaded logs_ogpuohob:v0 to /scratch/downloaded_artifacts/logs_ogpuohob:v0\n"
     ]
    },
    {
     "name": "stderr",
     "output_type": "stream",
     "text": [
      "\u001b[34m\u001b[1mwandb\u001b[0m:   1 of 1 files downloaded.  \n"
     ]
    },
    {
     "name": "stdout",
     "output_type": "stream",
     "text": [
      "2025-04-19 22:58:06,389 - INFO - Downloaded logs_oieqvkny:v0 to /scratch/downloaded_artifacts/logs_oieqvkny:v0\n"
     ]
    },
    {
     "name": "stderr",
     "output_type": "stream",
     "text": [
      "\u001b[34m\u001b[1mwandb\u001b[0m:   1 of 1 files downloaded.  \n"
     ]
    },
    {
     "name": "stdout",
     "output_type": "stream",
     "text": [
      "2025-04-19 22:58:06,536 - INFO - Downloaded logs_ui5mw6o3:v0 to /scratch/downloaded_artifacts/logs_ui5mw6o3:v0\n"
     ]
    },
    {
     "name": "stderr",
     "output_type": "stream",
     "text": [
      "\u001b[34m\u001b[1mwandb\u001b[0m:   1 of 1 files downloaded.  \n"
     ]
    },
    {
     "name": "stdout",
     "output_type": "stream",
     "text": [
      "2025-04-19 22:58:06,553 - INFO - Downloaded logs_s43nh0jc:v0 to /scratch/downloaded_artifacts/logs_s43nh0jc:v0\n"
     ]
    },
    {
     "name": "stderr",
     "output_type": "stream",
     "text": [
      "\u001b[34m\u001b[1mwandb\u001b[0m:   1 of 1 files downloaded.  \n"
     ]
    },
    {
     "name": "stdout",
     "output_type": "stream",
     "text": [
      "2025-04-19 22:58:06,986 - INFO - Downloaded logs_vjanyd8s:v0 to /scratch/downloaded_artifacts/logs_vjanyd8s:v0\n"
     ]
    },
    {
     "name": "stderr",
     "output_type": "stream",
     "text": [
      "\u001b[34m\u001b[1mwandb\u001b[0m:   1 of 1 files downloaded.  \n"
     ]
    },
    {
     "name": "stdout",
     "output_type": "stream",
     "text": [
      "2025-04-19 22:58:07,120 - INFO - Downloaded logs_vswpbttf:v0 to /scratch/downloaded_artifacts/logs_vswpbttf:v0\n"
     ]
    },
    {
     "name": "stderr",
     "output_type": "stream",
     "text": [
      "\u001b[34m\u001b[1mwandb\u001b[0m:   1 of 1 files downloaded.  \n"
     ]
    },
    {
     "name": "stdout",
     "output_type": "stream",
     "text": [
      "2025-04-19 22:58:07,413 - INFO - Downloaded logs_w0d0fypj:v0 to /scratch/downloaded_artifacts/logs_w0d0fypj:v0\n"
     ]
    },
    {
     "name": "stderr",
     "output_type": "stream",
     "text": [
      "\u001b[34m\u001b[1mwandb\u001b[0m:   1 of 1 files downloaded.  \n"
     ]
    },
    {
     "name": "stdout",
     "output_type": "stream",
     "text": [
      "2025-04-19 22:58:07,522 - INFO - Downloaded logs_vuv9jqbs:v0 to /scratch/downloaded_artifacts/logs_vuv9jqbs:v0\n"
     ]
    },
    {
     "name": "stderr",
     "output_type": "stream",
     "text": [
      "\u001b[34m\u001b[1mwandb\u001b[0m:   1 of 1 files downloaded.  \n"
     ]
    },
    {
     "name": "stdout",
     "output_type": "stream",
     "text": [
      "2025-04-19 22:58:07,591 - INFO - Downloaded logs_y2tgoosu:v0 to /scratch/downloaded_artifacts/logs_y2tgoosu:v0\n"
     ]
    },
    {
     "name": "stderr",
     "output_type": "stream",
     "text": [
      "\u001b[34m\u001b[1mwandb\u001b[0m:   1 of 1 files downloaded.  \n"
     ]
    },
    {
     "name": "stdout",
     "output_type": "stream",
     "text": [
      "2025-04-19 22:58:07,615 - INFO - Downloaded logs_w15qbmuy:v0 to /scratch/downloaded_artifacts/logs_w15qbmuy:v0\n"
     ]
    },
    {
     "name": "stderr",
     "output_type": "stream",
     "text": [
      "\u001b[34m\u001b[1mwandb\u001b[0m:   1 of 1 files downloaded.  \n"
     ]
    },
    {
     "name": "stdout",
     "output_type": "stream",
     "text": [
      "2025-04-19 22:58:07,678 - INFO - Downloaded logs_5b26pnkh:v0 to /scratch/downloaded_artifacts/logs_5b26pnkh:v0\n"
     ]
    },
    {
     "name": "stderr",
     "output_type": "stream",
     "text": [
      "\u001b[34m\u001b[1mwandb\u001b[0m:   1 of 1 files downloaded.  \n"
     ]
    },
    {
     "name": "stdout",
     "output_type": "stream",
     "text": [
      "2025-04-19 22:58:07,729 - INFO - Downloaded logs_x822cwlj:v0 to /scratch/downloaded_artifacts/logs_x822cwlj:v0\n"
     ]
    },
    {
     "name": "stderr",
     "output_type": "stream",
     "text": [
      "\u001b[34m\u001b[1mwandb\u001b[0m:   1 of 1 files downloaded.  \n"
     ]
    },
    {
     "name": "stdout",
     "output_type": "stream",
     "text": [
      "2025-04-19 22:58:07,830 - INFO - Downloaded logs_e7mrx6y5:v0 to /scratch/downloaded_artifacts/logs_e7mrx6y5:v0\n"
     ]
    },
    {
     "name": "stderr",
     "output_type": "stream",
     "text": [
      "\u001b[34m\u001b[1mwandb\u001b[0m:   1 of 1 files downloaded.  \n"
     ]
    },
    {
     "name": "stdout",
     "output_type": "stream",
     "text": [
      "2025-04-19 22:58:07,898 - INFO - Downloaded logs_c0rmdsz7:v0 to /scratch/downloaded_artifacts/logs_c0rmdsz7:v0\n"
     ]
    },
    {
     "name": "stderr",
     "output_type": "stream",
     "text": [
      "\u001b[34m\u001b[1mwandb\u001b[0m:   1 of 1 files downloaded.  \n"
     ]
    },
    {
     "name": "stdout",
     "output_type": "stream",
     "text": [
      "2025-04-19 22:58:07,948 - INFO - Downloaded logs_f9jg4f3g:v0 to /scratch/downloaded_artifacts/logs_f9jg4f3g:v0\n"
     ]
    },
    {
     "name": "stderr",
     "output_type": "stream",
     "text": [
      "\u001b[34m\u001b[1mwandb\u001b[0m:   1 of 1 files downloaded.  \n",
      "\u001b[34m\u001b[1mwandb\u001b[0m:   1 of 1 files downloaded.  \n"
     ]
    },
    {
     "name": "stdout",
     "output_type": "stream",
     "text": [
      "2025-04-19 22:58:08,169 - INFO - Downloaded logs_n3g9y1tz:v0 to /scratch/downloaded_artifacts/logs_n3g9y1tz:v0\n",
      "2025-04-19 22:58:08,172 - INFO - Downloaded logs_kf63y9jo:v0 to /scratch/downloaded_artifacts/logs_kf63y9jo:v0\n"
     ]
    },
    {
     "name": "stderr",
     "output_type": "stream",
     "text": [
      "\u001b[34m\u001b[1mwandb\u001b[0m:   1 of 1 files downloaded.  \n"
     ]
    },
    {
     "name": "stdout",
     "output_type": "stream",
     "text": [
      "2025-04-19 22:58:08,199 - INFO - Downloaded logs_7s48gbhi:v0 to /scratch/downloaded_artifacts/logs_7s48gbhi:v0\n"
     ]
    },
    {
     "name": "stderr",
     "output_type": "stream",
     "text": [
      "\u001b[34m\u001b[1mwandb\u001b[0m:   1 of 1 files downloaded.  \n"
     ]
    },
    {
     "name": "stdout",
     "output_type": "stream",
     "text": [
      "2025-04-19 22:58:08,220 - INFO - Downloaded logs_9ryouznn:v0 to /scratch/downloaded_artifacts/logs_9ryouznn:v0\n"
     ]
    },
    {
     "name": "stderr",
     "output_type": "stream",
     "text": [
      "\u001b[34m\u001b[1mwandb\u001b[0m:   1 of 1 files downloaded.  \n"
     ]
    },
    {
     "name": "stdout",
     "output_type": "stream",
     "text": [
      "2025-04-19 22:58:08,228 - INFO - Downloaded logs_cboioz7r:v0 to /scratch/downloaded_artifacts/logs_cboioz7r:v0\n"
     ]
    },
    {
     "name": "stderr",
     "output_type": "stream",
     "text": [
      "\u001b[34m\u001b[1mwandb\u001b[0m:   1 of 1 files downloaded.  \n"
     ]
    },
    {
     "name": "stdout",
     "output_type": "stream",
     "text": [
      "2025-04-19 22:58:08,307 - INFO - Downloaded logs_dg1l6wm3:v0 to /scratch/downloaded_artifacts/logs_dg1l6wm3:v0\n"
     ]
    },
    {
     "name": "stderr",
     "output_type": "stream",
     "text": [
      "\u001b[34m\u001b[1mwandb\u001b[0m:   1 of 1 files downloaded.  \n"
     ]
    },
    {
     "name": "stdout",
     "output_type": "stream",
     "text": [
      "2025-04-19 22:58:08,367 - INFO - Downloaded logs_dlv64f7t:v0 to /scratch/downloaded_artifacts/logs_dlv64f7t:v0\n"
     ]
    },
    {
     "name": "stderr",
     "output_type": "stream",
     "text": [
      "\u001b[34m\u001b[1mwandb\u001b[0m:   1 of 1 files downloaded.  \n"
     ]
    },
    {
     "name": "stdout",
     "output_type": "stream",
     "text": [
      "2025-04-19 22:58:08,398 - INFO - Downloaded logs_kg4s5118:v0 to /scratch/downloaded_artifacts/logs_kg4s5118:v0\n"
     ]
    },
    {
     "name": "stderr",
     "output_type": "stream",
     "text": [
      "\u001b[34m\u001b[1mwandb\u001b[0m:   1 of 1 files downloaded.  \n"
     ]
    },
    {
     "name": "stdout",
     "output_type": "stream",
     "text": [
      "2025-04-19 22:58:08,401 - INFO - Downloaded logs_hv8qsyrs:v0 to /scratch/downloaded_artifacts/logs_hv8qsyrs:v0\n"
     ]
    },
    {
     "name": "stderr",
     "output_type": "stream",
     "text": [
      "\u001b[34m\u001b[1mwandb\u001b[0m:   1 of 1 files downloaded.  \n"
     ]
    },
    {
     "name": "stdout",
     "output_type": "stream",
     "text": [
      "2025-04-19 22:58:08,559 - INFO - Downloaded logs_mhno31z9:v0 to /scratch/downloaded_artifacts/logs_mhno31z9:v0\n"
     ]
    },
    {
     "name": "stderr",
     "output_type": "stream",
     "text": [
      "\u001b[34m\u001b[1mwandb\u001b[0m:   1 of 1 files downloaded.  \n"
     ]
    },
    {
     "name": "stdout",
     "output_type": "stream",
     "text": [
      "2025-04-19 22:58:08,867 - INFO - Downloaded logs_owngofoj:v0 to /scratch/downloaded_artifacts/logs_owngofoj:v0\n"
     ]
    },
    {
     "name": "stderr",
     "output_type": "stream",
     "text": [
      "\u001b[34m\u001b[1mwandb\u001b[0m:   1 of 1 files downloaded.  \n"
     ]
    },
    {
     "name": "stdout",
     "output_type": "stream",
     "text": [
      "2025-04-19 22:58:08,981 - INFO - Downloaded logs_zqo41vnk:v0 to /scratch/downloaded_artifacts/logs_zqo41vnk:v0\n"
     ]
    },
    {
     "name": "stderr",
     "output_type": "stream",
     "text": [
      "\u001b[34m\u001b[1mwandb\u001b[0m:   1 of 1 files downloaded.  \n"
     ]
    },
    {
     "name": "stdout",
     "output_type": "stream",
     "text": [
      "2025-04-19 22:58:09,127 - INFO - Downloaded logs_xjsc59jh:v0 to /scratch/downloaded_artifacts/logs_xjsc59jh:v0\n"
     ]
    },
    {
     "name": "stderr",
     "output_type": "stream",
     "text": [
      "\u001b[34m\u001b[1mwandb\u001b[0m:   1 of 1 files downloaded.  \n"
     ]
    },
    {
     "name": "stdout",
     "output_type": "stream",
     "text": [
      "2025-04-19 22:58:09,178 - INFO - Downloaded logs_0iirrv9w:v0 to /scratch/downloaded_artifacts/logs_0iirrv9w:v0\n"
     ]
    },
    {
     "name": "stderr",
     "output_type": "stream",
     "text": [
      "\u001b[34m\u001b[1mwandb\u001b[0m:   1 of 1 files downloaded.  \n"
     ]
    },
    {
     "name": "stdout",
     "output_type": "stream",
     "text": [
      "2025-04-19 22:58:09,228 - INFO - Downloaded logs_eexcvcbm:v0 to /scratch/downloaded_artifacts/logs_eexcvcbm:v0\n"
     ]
    },
    {
     "name": "stderr",
     "output_type": "stream",
     "text": [
      "\u001b[34m\u001b[1mwandb\u001b[0m:   1 of 1 files downloaded.  \n",
      "\u001b[34m\u001b[1mwandb\u001b[0m:   1 of 1 files downloaded.  \n"
     ]
    },
    {
     "name": "stdout",
     "output_type": "stream",
     "text": [
      "2025-04-19 22:58:09,477 - INFO - Downloaded logs_8tsxvlnq:v0 to /scratch/downloaded_artifacts/logs_8tsxvlnq:v0\n",
      "2025-04-19 22:58:09,479 - INFO - Downloaded logs_8kimegsc:v0 to /scratch/downloaded_artifacts/logs_8kimegsc:v0\n"
     ]
    },
    {
     "name": "stderr",
     "output_type": "stream",
     "text": [
      "\u001b[34m\u001b[1mwandb\u001b[0m:   1 of 1 files downloaded.  \n"
     ]
    },
    {
     "name": "stdout",
     "output_type": "stream",
     "text": [
      "2025-04-19 22:58:09,692 - INFO - Downloaded logs_9xsdnj2r:v0 to /scratch/downloaded_artifacts/logs_9xsdnj2r:v0\n"
     ]
    },
    {
     "name": "stderr",
     "output_type": "stream",
     "text": [
      "\u001b[34m\u001b[1mwandb\u001b[0m:   1 of 1 files downloaded.  \n"
     ]
    },
    {
     "name": "stdout",
     "output_type": "stream",
     "text": [
      "2025-04-19 22:58:09,856 - INFO - Downloaded logs_ambgj86h:v0 to /scratch/downloaded_artifacts/logs_ambgj86h:v0\n"
     ]
    },
    {
     "name": "stderr",
     "output_type": "stream",
     "text": [
      "\u001b[34m\u001b[1mwandb\u001b[0m:   1 of 1 files downloaded.  \n"
     ]
    },
    {
     "name": "stdout",
     "output_type": "stream",
     "text": [
      "2025-04-19 22:58:09,962 - INFO - Downloaded logs_eepl7tzp:v0 to /scratch/downloaded_artifacts/logs_eepl7tzp:v0\n"
     ]
    },
    {
     "name": "stderr",
     "output_type": "stream",
     "text": [
      "\u001b[34m\u001b[1mwandb\u001b[0m:   1 of 1 files downloaded.  \n"
     ]
    },
    {
     "name": "stdout",
     "output_type": "stream",
     "text": [
      "2025-04-19 22:58:10,001 - INFO - Downloaded logs_bljyok64:v0 to /scratch/downloaded_artifacts/logs_bljyok64:v0\n"
     ]
    },
    {
     "name": "stderr",
     "output_type": "stream",
     "text": [
      "\u001b[34m\u001b[1mwandb\u001b[0m:   1 of 1 files downloaded.  \n"
     ]
    },
    {
     "name": "stdout",
     "output_type": "stream",
     "text": [
      "2025-04-19 22:58:10,098 - INFO - Downloaded logs_el6c1wjk:v0 to /scratch/downloaded_artifacts/logs_el6c1wjk:v0\n"
     ]
    },
    {
     "name": "stderr",
     "output_type": "stream",
     "text": [
      "\u001b[34m\u001b[1mwandb\u001b[0m:   1 of 1 files downloaded.  \n"
     ]
    },
    {
     "name": "stdout",
     "output_type": "stream",
     "text": [
      "2025-04-19 22:58:10,154 - INFO - Downloaded logs_mrlnsbdd:v0 to /scratch/downloaded_artifacts/logs_mrlnsbdd:v0\n"
     ]
    },
    {
     "name": "stderr",
     "output_type": "stream",
     "text": [
      "\u001b[34m\u001b[1mwandb\u001b[0m:   1 of 1 files downloaded.  \n"
     ]
    },
    {
     "name": "stdout",
     "output_type": "stream",
     "text": [
      "2025-04-19 22:58:10,186 - INFO - Downloaded logs_its52ma7:v0 to /scratch/downloaded_artifacts/logs_its52ma7:v0\n"
     ]
    },
    {
     "name": "stderr",
     "output_type": "stream",
     "text": [
      "\u001b[34m\u001b[1mwandb\u001b[0m:   1 of 1 files downloaded.  \n"
     ]
    },
    {
     "name": "stdout",
     "output_type": "stream",
     "text": [
      "2025-04-19 22:58:10,214 - INFO - Downloaded logs_iylwe2xf:v0 to /scratch/downloaded_artifacts/logs_iylwe2xf:v0\n"
     ]
    },
    {
     "name": "stderr",
     "output_type": "stream",
     "text": [
      "\u001b[34m\u001b[1mwandb\u001b[0m:   1 of 1 files downloaded.  \n"
     ]
    },
    {
     "name": "stdout",
     "output_type": "stream",
     "text": [
      "2025-04-19 22:58:10,242 - INFO - Downloaded logs_ressffms:v0 to /scratch/downloaded_artifacts/logs_ressffms:v0\n"
     ]
    },
    {
     "name": "stderr",
     "output_type": "stream",
     "text": [
      "\u001b[34m\u001b[1mwandb\u001b[0m:   1 of 1 files downloaded.  \n"
     ]
    },
    {
     "name": "stdout",
     "output_type": "stream",
     "text": [
      "2025-04-19 22:58:10,260 - INFO - Downloaded logs_pbgpjl1d:v0 to /scratch/downloaded_artifacts/logs_pbgpjl1d:v0\n"
     ]
    },
    {
     "name": "stderr",
     "output_type": "stream",
     "text": [
      "\u001b[34m\u001b[1mwandb\u001b[0m:   1 of 1 files downloaded.  \n"
     ]
    },
    {
     "name": "stdout",
     "output_type": "stream",
     "text": [
      "2025-04-19 22:58:10,287 - INFO - Downloaded logs_vjyiuenj:v0 to /scratch/downloaded_artifacts/logs_vjyiuenj:v0\n"
     ]
    },
    {
     "name": "stderr",
     "output_type": "stream",
     "text": [
      "\u001b[34m\u001b[1mwandb\u001b[0m:   1 of 1 files downloaded.  \n"
     ]
    },
    {
     "name": "stdout",
     "output_type": "stream",
     "text": [
      "2025-04-19 22:58:10,388 - INFO - Downloaded logs_w5lbj1r3:v0 to /scratch/downloaded_artifacts/logs_w5lbj1r3:v0\n"
     ]
    },
    {
     "name": "stderr",
     "output_type": "stream",
     "text": [
      "\u001b[34m\u001b[1mwandb\u001b[0m:   1 of 1 files downloaded.  \n"
     ]
    },
    {
     "name": "stdout",
     "output_type": "stream",
     "text": [
      "2025-04-19 22:58:10,467 - INFO - Downloaded logs_ohk9k92g:v0 to /scratch/downloaded_artifacts/logs_ohk9k92g:v0\n"
     ]
    },
    {
     "name": "stderr",
     "output_type": "stream",
     "text": [
      "\u001b[34m\u001b[1mwandb\u001b[0m:   1 of 1 files downloaded.  \n"
     ]
    },
    {
     "name": "stdout",
     "output_type": "stream",
     "text": [
      "2025-04-19 22:58:10,730 - INFO - Downloaded logs_olpwzpwf:v0 to /scratch/downloaded_artifacts/logs_olpwzpwf:v0\n"
     ]
    },
    {
     "name": "stderr",
     "output_type": "stream",
     "text": [
      "\u001b[34m\u001b[1mwandb\u001b[0m:   1 of 1 files downloaded.  \n"
     ]
    },
    {
     "name": "stdout",
     "output_type": "stream",
     "text": [
      "2025-04-19 22:58:10,846 - INFO - Downloaded logs_qteedf1m:v0 to /scratch/downloaded_artifacts/logs_qteedf1m:v0\n"
     ]
    },
    {
     "name": "stderr",
     "output_type": "stream",
     "text": [
      "\u001b[34m\u001b[1mwandb\u001b[0m:   1 of 1 files downloaded.  \n"
     ]
    },
    {
     "name": "stdout",
     "output_type": "stream",
     "text": [
      "2025-04-19 22:58:10,883 - INFO - Downloaded logs_7mq94ol7:v0 to /scratch/downloaded_artifacts/logs_7mq94ol7:v0\n"
     ]
    },
    {
     "name": "stderr",
     "output_type": "stream",
     "text": [
      "\u001b[34m\u001b[1mwandb\u001b[0m:   1 of 1 files downloaded.  \n"
     ]
    },
    {
     "name": "stdout",
     "output_type": "stream",
     "text": [
      "2025-04-19 22:58:10,934 - INFO - Downloaded logs_hla2hjko:v0 to /scratch/downloaded_artifacts/logs_hla2hjko:v0\n"
     ]
    },
    {
     "name": "stderr",
     "output_type": "stream",
     "text": [
      "\u001b[34m\u001b[1mwandb\u001b[0m:   1 of 1 files downloaded.  \n"
     ]
    },
    {
     "name": "stdout",
     "output_type": "stream",
     "text": [
      "2025-04-19 22:58:10,970 - INFO - Downloaded logs_6xbrahe1:v0 to /scratch/downloaded_artifacts/logs_6xbrahe1:v0\n"
     ]
    },
    {
     "name": "stderr",
     "output_type": "stream",
     "text": [
      "\u001b[34m\u001b[1mwandb\u001b[0m:   1 of 1 files downloaded.  \n"
     ]
    },
    {
     "name": "stdout",
     "output_type": "stream",
     "text": [
      "2025-04-19 22:58:11,176 - INFO - Downloaded logs_dbmcnumf:v0 to /scratch/downloaded_artifacts/logs_dbmcnumf:v0\n"
     ]
    },
    {
     "name": "stderr",
     "output_type": "stream",
     "text": [
      "\u001b[34m\u001b[1mwandb\u001b[0m:   1 of 1 files downloaded.  \n"
     ]
    },
    {
     "name": "stdout",
     "output_type": "stream",
     "text": [
      "2025-04-19 22:58:11,227 - INFO - Downloaded logs_7zvgmdkg:v0 to /scratch/downloaded_artifacts/logs_7zvgmdkg:v0\n"
     ]
    },
    {
     "name": "stderr",
     "output_type": "stream",
     "text": [
      "\u001b[34m\u001b[1mwandb\u001b[0m:   1 of 1 files downloaded.  \n"
     ]
    },
    {
     "name": "stdout",
     "output_type": "stream",
     "text": [
      "2025-04-19 22:58:11,625 - INFO - Downloaded logs_hky30xqr:v0 to /scratch/downloaded_artifacts/logs_hky30xqr:v0\n"
     ]
    },
    {
     "name": "stderr",
     "output_type": "stream",
     "text": [
      "\u001b[34m\u001b[1mwandb\u001b[0m:   1 of 1 files downloaded.  \n"
     ]
    },
    {
     "name": "stdout",
     "output_type": "stream",
     "text": [
      "2025-04-19 22:58:11,717 - INFO - Downloaded logs_k5n536sy:v0 to /scratch/downloaded_artifacts/logs_k5n536sy:v0\n"
     ]
    },
    {
     "name": "stderr",
     "output_type": "stream",
     "text": [
      "\u001b[34m\u001b[1mwandb\u001b[0m:   1 of 1 files downloaded.  \n"
     ]
    },
    {
     "name": "stdout",
     "output_type": "stream",
     "text": [
      "2025-04-19 22:58:11,928 - INFO - Downloaded logs_oyiyk1gb:v0 to /scratch/downloaded_artifacts/logs_oyiyk1gb:v0\n"
     ]
    },
    {
     "name": "stderr",
     "output_type": "stream",
     "text": [
      "\u001b[34m\u001b[1mwandb\u001b[0m:   1 of 1 files downloaded.  \n",
      "\u001b[34m\u001b[1mwandb\u001b[0m:   1 of 1 files downloaded.  \n"
     ]
    },
    {
     "name": "stdout",
     "output_type": "stream",
     "text": [
      "2025-04-19 22:58:11,953 - INFO - Downloaded logs_uy0c4ocb:v0 to /scratch/downloaded_artifacts/logs_uy0c4ocb:v0\n",
      "2025-04-19 22:58:11,956 - INFO - Downloaded logs_o7oqjmt6:v0 to /scratch/downloaded_artifacts/logs_o7oqjmt6:v0\n"
     ]
    },
    {
     "name": "stderr",
     "output_type": "stream",
     "text": [
      "\u001b[34m\u001b[1mwandb\u001b[0m:   1 of 1 files downloaded.  \n"
     ]
    },
    {
     "name": "stdout",
     "output_type": "stream",
     "text": [
      "2025-04-19 22:58:12,159 - INFO - Downloaded logs_yjk694dk:v0 to /scratch/downloaded_artifacts/logs_yjk694dk:v0\n"
     ]
    },
    {
     "name": "stderr",
     "output_type": "stream",
     "text": [
      "\u001b[34m\u001b[1mwandb\u001b[0m:   1 of 1 files downloaded.  \n"
     ]
    },
    {
     "name": "stdout",
     "output_type": "stream",
     "text": [
      "2025-04-19 22:58:12,259 - INFO - Downloaded logs_listqp3c:v0 to /scratch/downloaded_artifacts/logs_listqp3c:v0\n"
     ]
    },
    {
     "name": "stderr",
     "output_type": "stream",
     "text": [
      "\u001b[34m\u001b[1mwandb\u001b[0m:   1 of 1 files downloaded.  \n"
     ]
    },
    {
     "name": "stdout",
     "output_type": "stream",
     "text": [
      "2025-04-19 22:58:12,293 - INFO - Downloaded logs_17j1sup4:v0 to /scratch/downloaded_artifacts/logs_17j1sup4:v0\n"
     ]
    },
    {
     "name": "stderr",
     "output_type": "stream",
     "text": [
      "\u001b[34m\u001b[1mwandb\u001b[0m:   1 of 1 files downloaded.  \n"
     ]
    },
    {
     "name": "stdout",
     "output_type": "stream",
     "text": [
      "2025-04-19 22:58:12,319 - INFO - Downloaded logs_zukwrfuu:v0 to /scratch/downloaded_artifacts/logs_zukwrfuu:v0\n"
     ]
    },
    {
     "name": "stderr",
     "output_type": "stream",
     "text": [
      "\u001b[34m\u001b[1mwandb\u001b[0m:   1 of 1 files downloaded.  \n"
     ]
    },
    {
     "name": "stdout",
     "output_type": "stream",
     "text": [
      "2025-04-19 22:58:12,333 - INFO - Downloaded logs_qidcw1w4:v0 to /scratch/downloaded_artifacts/logs_qidcw1w4:v0\n"
     ]
    },
    {
     "name": "stderr",
     "output_type": "stream",
     "text": [
      "\u001b[34m\u001b[1mwandb\u001b[0m:   1 of 1 files downloaded.  \n"
     ]
    },
    {
     "name": "stdout",
     "output_type": "stream",
     "text": [
      "2025-04-19 22:58:12,363 - INFO - Downloaded logs_ep13bnby:v0 to /scratch/downloaded_artifacts/logs_ep13bnby:v0\n"
     ]
    },
    {
     "name": "stderr",
     "output_type": "stream",
     "text": [
      "\u001b[34m\u001b[1mwandb\u001b[0m:   1 of 1 files downloaded.  \n"
     ]
    },
    {
     "name": "stdout",
     "output_type": "stream",
     "text": [
      "2025-04-19 22:58:12,417 - INFO - Downloaded logs_zohkekch:v0 to /scratch/downloaded_artifacts/logs_zohkekch:v0\n"
     ]
    },
    {
     "name": "stderr",
     "output_type": "stream",
     "text": [
      "\u001b[34m\u001b[1mwandb\u001b[0m:   1 of 1 files downloaded.  \n"
     ]
    },
    {
     "name": "stdout",
     "output_type": "stream",
     "text": [
      "2025-04-19 22:58:12,474 - INFO - Downloaded logs_k91cczyr:v0 to /scratch/downloaded_artifacts/logs_k91cczyr:v0\n"
     ]
    },
    {
     "name": "stderr",
     "output_type": "stream",
     "text": [
      "\u001b[34m\u001b[1mwandb\u001b[0m: \u001b[32m\u001b[41mERROR\u001b[0m Error while calling W&B API: rate limit exceeded (<Response [429]>)\n",
      "\u001b[34m\u001b[1mwandb\u001b[0m: \u001b[32m\u001b[41mERROR\u001b[0m Error while calling W&B API: rate limit exceeded (<Response [429]>)\n",
      "\u001b[34m\u001b[1mwandb\u001b[0m:   1 of 1 files downloaded.  \n"
     ]
    },
    {
     "name": "stdout",
     "output_type": "stream",
     "text": [
      "2025-04-19 22:58:12,697 - INFO - Downloaded logs_kaageyw9:v0 to /scratch/downloaded_artifacts/logs_kaageyw9:v0\n"
     ]
    },
    {
     "name": "stderr",
     "output_type": "stream",
     "text": [
      "\u001b[34m\u001b[1mwandb\u001b[0m: \u001b[32m\u001b[41mERROR\u001b[0m Error while calling W&B API: rate limit exceeded (<Response [429]>)\n",
      "\u001b[34m\u001b[1mwandb\u001b[0m: \u001b[32m\u001b[41mERROR\u001b[0m Error while calling W&B API: rate limit exceeded (<Response [429]>)\n",
      "\u001b[34m\u001b[1mwandb\u001b[0m:   1 of 1 files downloaded.  \n"
     ]
    },
    {
     "name": "stdout",
     "output_type": "stream",
     "text": [
      "2025-04-19 22:58:12,845 - INFO - Downloaded logs_n9u2kk9s:v0 to /scratch/downloaded_artifacts/logs_n9u2kk9s:v0\n"
     ]
    },
    {
     "name": "stderr",
     "output_type": "stream",
     "text": [
      "\u001b[34m\u001b[1mwandb\u001b[0m:   1 of 1 files downloaded.  \n"
     ]
    },
    {
     "name": "stdout",
     "output_type": "stream",
     "text": [
      "2025-04-19 22:58:12,849 - INFO - Downloaded logs_cluhlkbp:v0 to /scratch/downloaded_artifacts/logs_cluhlkbp:v0\n"
     ]
    },
    {
     "name": "stderr",
     "output_type": "stream",
     "text": [
      "\u001b[34m\u001b[1mwandb\u001b[0m: \u001b[32m\u001b[41mERROR\u001b[0m Error while calling W&B API: rate limit exceeded (<Response [429]>)\n",
      "\u001b[34m\u001b[1mwandb\u001b[0m: \u001b[32m\u001b[41mERROR\u001b[0m Error while calling W&B API: rate limit exceeded (<Response [429]>)\n",
      "\u001b[34m\u001b[1mwandb\u001b[0m: \u001b[32m\u001b[41mERROR\u001b[0m Error while calling W&B API: rate limit exceeded (<Response [429]>)\n",
      "\u001b[34m\u001b[1mwandb\u001b[0m: \u001b[32m\u001b[41mERROR\u001b[0m Error while calling W&B API: rate limit exceeded (<Response [429]>)\n",
      "\u001b[34m\u001b[1mwandb\u001b[0m:   1 of 1 files downloaded.  \n"
     ]
    },
    {
     "name": "stdout",
     "output_type": "stream",
     "text": [
      "2025-04-19 22:58:12,916 - INFO - Downloaded logs_qh3o2295:v0 to /scratch/downloaded_artifacts/logs_qh3o2295:v0\n"
     ]
    },
    {
     "name": "stderr",
     "output_type": "stream",
     "text": [
      "\u001b[34m\u001b[1mwandb\u001b[0m:   1 of 1 files downloaded.  \n"
     ]
    },
    {
     "name": "stdout",
     "output_type": "stream",
     "text": [
      "2025-04-19 22:58:12,924 - INFO - Downloaded logs_92wn1416:v0 to /scratch/downloaded_artifacts/logs_92wn1416:v0\n"
     ]
    },
    {
     "name": "stderr",
     "output_type": "stream",
     "text": [
      "\u001b[34m\u001b[1mwandb\u001b[0m:   1 of 1 files downloaded.  \n"
     ]
    },
    {
     "name": "stdout",
     "output_type": "stream",
     "text": [
      "2025-04-19 22:58:12,948 - INFO - Downloaded logs_u12mtubg:v0 to /scratch/downloaded_artifacts/logs_u12mtubg:v0\n"
     ]
    },
    {
     "name": "stderr",
     "output_type": "stream",
     "text": [
      "\u001b[34m\u001b[1mwandb\u001b[0m:   1 of 1 files downloaded.  \n"
     ]
    },
    {
     "name": "stdout",
     "output_type": "stream",
     "text": [
      "2025-04-19 22:58:12,976 - INFO - Downloaded logs_xeytt4oo:v0 to /scratch/downloaded_artifacts/logs_xeytt4oo:v0\n"
     ]
    },
    {
     "name": "stderr",
     "output_type": "stream",
     "text": [
      "\u001b[34m\u001b[1mwandb\u001b[0m:   1 of 1 files downloaded.  \n"
     ]
    },
    {
     "name": "stdout",
     "output_type": "stream",
     "text": [
      "2025-04-19 22:58:13,066 - INFO - Downloaded logs_1x3t4u6m:v0 to /scratch/downloaded_artifacts/logs_1x3t4u6m:v0\n"
     ]
    },
    {
     "name": "stderr",
     "output_type": "stream",
     "text": [
      "\u001b[34m\u001b[1mwandb\u001b[0m:   1 of 1 files downloaded.  \n"
     ]
    },
    {
     "name": "stdout",
     "output_type": "stream",
     "text": [
      "2025-04-19 22:58:13,110 - INFO - Downloaded logs_tgr7d90w:v0 to /scratch/downloaded_artifacts/logs_tgr7d90w:v0\n"
     ]
    },
    {
     "name": "stderr",
     "output_type": "stream",
     "text": [
      "\u001b[34m\u001b[1mwandb\u001b[0m:   1 of 1 files downloaded.  \n"
     ]
    },
    {
     "name": "stdout",
     "output_type": "stream",
     "text": [
      "2025-04-19 22:58:13,262 - INFO - Downloaded logs_qu6co6c2:v0 to /scratch/downloaded_artifacts/logs_qu6co6c2:v0\n"
     ]
    },
    {
     "name": "stderr",
     "output_type": "stream",
     "text": [
      "\u001b[34m\u001b[1mwandb\u001b[0m:   1 of 1 files downloaded.  \n"
     ]
    },
    {
     "name": "stdout",
     "output_type": "stream",
     "text": [
      "2025-04-19 22:58:13,319 - INFO - Downloaded logs_ican4ath:v0 to /scratch/downloaded_artifacts/logs_ican4ath:v0\n"
     ]
    },
    {
     "name": "stderr",
     "output_type": "stream",
     "text": [
      "\u001b[34m\u001b[1mwandb\u001b[0m:   1 of 1 files downloaded.  \n"
     ]
    },
    {
     "name": "stdout",
     "output_type": "stream",
     "text": [
      "2025-04-19 22:58:13,367 - INFO - Downloaded logs_q8xcgtf6:v0 to /scratch/downloaded_artifacts/logs_q8xcgtf6:v0\n"
     ]
    },
    {
     "name": "stderr",
     "output_type": "stream",
     "text": [
      "\u001b[34m\u001b[1mwandb\u001b[0m: \u001b[32m\u001b[41mERROR\u001b[0m Error while calling W&B API: rate limit exceeded (<Response [429]>)\n",
      "\u001b[34m\u001b[1mwandb\u001b[0m: \u001b[32m\u001b[41mERROR\u001b[0m Error while calling W&B API: rate limit exceeded (<Response [429]>)\n",
      "\u001b[34m\u001b[1mwandb\u001b[0m: \u001b[32m\u001b[41mERROR\u001b[0m Error while calling W&B API: rate limit exceeded (<Response [429]>)\n",
      "\u001b[34m\u001b[1mwandb\u001b[0m: \u001b[32m\u001b[41mERROR\u001b[0m Error while calling W&B API: rate limit exceeded (<Response [429]>)\n",
      "\u001b[34m\u001b[1mwandb\u001b[0m: Network error (HTTPError), entering retry loop.\n",
      "\u001b[34m\u001b[1mwandb\u001b[0m: Network error (HTTPError), entering retry loop.\n",
      "\u001b[34m\u001b[1mwandb\u001b[0m: \u001b[32m\u001b[41mERROR\u001b[0m Error while calling W&B API: rate limit exceeded (<Response [429]>)\n",
      "\u001b[34m\u001b[1mwandb\u001b[0m: \u001b[32m\u001b[41mERROR\u001b[0m Error while calling W&B API: rate limit exceeded (<Response [429]>)\n",
      "\u001b[34m\u001b[1mwandb\u001b[0m: \u001b[32m\u001b[41mERROR\u001b[0m Error while calling W&B API: rate limit exceeded (<Response [429]>)\n",
      "\u001b[34m\u001b[1mwandb\u001b[0m: \u001b[32m\u001b[41mERROR\u001b[0m Error while calling W&B API: rate limit exceeded (<Response [429]>)\n",
      "\u001b[34m\u001b[1mwandb\u001b[0m:   1 of 1 files downloaded.  \n"
     ]
    },
    {
     "name": "stdout",
     "output_type": "stream",
     "text": [
      "2025-04-19 22:58:16,959 - INFO - Downloaded logs_tzl45viz:v0 to /scratch/downloaded_artifacts/logs_tzl45viz:v0\n"
     ]
    },
    {
     "name": "stderr",
     "output_type": "stream",
     "text": [
      "\u001b[34m\u001b[1mwandb\u001b[0m:   1 of 1 files downloaded.  \n"
     ]
    },
    {
     "name": "stdout",
     "output_type": "stream",
     "text": [
      "2025-04-19 22:58:16,990 - INFO - Downloaded logs_eg78nf0o:v0 to /scratch/downloaded_artifacts/logs_eg78nf0o:v0\n"
     ]
    },
    {
     "name": "stderr",
     "output_type": "stream",
     "text": [
      "\u001b[34m\u001b[1mwandb\u001b[0m:   1 of 1 files downloaded.  \n"
     ]
    },
    {
     "name": "stdout",
     "output_type": "stream",
     "text": [
      "2025-04-19 22:58:17,447 - INFO - Downloaded logs_1j5bnzm7:v0 to /scratch/downloaded_artifacts/logs_1j5bnzm7:v0\n"
     ]
    },
    {
     "name": "stderr",
     "output_type": "stream",
     "text": [
      "\u001b[34m\u001b[1mwandb\u001b[0m:   1 of 1 files downloaded.  \n"
     ]
    },
    {
     "name": "stdout",
     "output_type": "stream",
     "text": [
      "2025-04-19 22:58:17,511 - INFO - Downloaded logs_okj79a65:v0 to /scratch/downloaded_artifacts/logs_okj79a65:v0\n"
     ]
    },
    {
     "name": "stderr",
     "output_type": "stream",
     "text": [
      "\u001b[34m\u001b[1mwandb\u001b[0m:   1 of 1 files downloaded.  \n"
     ]
    },
    {
     "name": "stdout",
     "output_type": "stream",
     "text": [
      "2025-04-19 22:58:17,626 - INFO - Downloaded logs_21mrm697:v0 to /scratch/downloaded_artifacts/logs_21mrm697:v0\n"
     ]
    },
    {
     "name": "stderr",
     "output_type": "stream",
     "text": [
      "\u001b[34m\u001b[1mwandb\u001b[0m:   1 of 1 files downloaded.  \n"
     ]
    },
    {
     "name": "stdout",
     "output_type": "stream",
     "text": [
      "2025-04-19 22:58:17,631 - INFO - Downloaded logs_8hxuuh1m:v0 to /scratch/downloaded_artifacts/logs_8hxuuh1m:v0\n"
     ]
    },
    {
     "name": "stderr",
     "output_type": "stream",
     "text": [
      "\u001b[34m\u001b[1mwandb\u001b[0m:   1 of 1 files downloaded.  \n"
     ]
    },
    {
     "name": "stdout",
     "output_type": "stream",
     "text": [
      "2025-04-19 22:58:17,689 - INFO - Downloaded logs_nyc24y13:v0 to /scratch/downloaded_artifacts/logs_nyc24y13:v0\n"
     ]
    },
    {
     "name": "stderr",
     "output_type": "stream",
     "text": [
      "\u001b[34m\u001b[1mwandb\u001b[0m:   1 of 1 files downloaded.  \n"
     ]
    },
    {
     "name": "stdout",
     "output_type": "stream",
     "text": [
      "2025-04-19 22:58:17,873 - INFO - Downloaded logs_caowesqv:v0 to /scratch/downloaded_artifacts/logs_caowesqv:v0\n"
     ]
    },
    {
     "name": "stderr",
     "output_type": "stream",
     "text": [
      "\u001b[34m\u001b[1mwandb\u001b[0m:   1 of 1 files downloaded.  \n"
     ]
    },
    {
     "name": "stdout",
     "output_type": "stream",
     "text": [
      "2025-04-19 22:58:17,923 - INFO - Downloaded logs_3pz9w0s5:v0 to /scratch/downloaded_artifacts/logs_3pz9w0s5:v0\n"
     ]
    },
    {
     "name": "stderr",
     "output_type": "stream",
     "text": [
      "\u001b[34m\u001b[1mwandb\u001b[0m:   1 of 1 files downloaded.  \n"
     ]
    },
    {
     "name": "stdout",
     "output_type": "stream",
     "text": [
      "2025-04-19 22:58:17,976 - INFO - Downloaded logs_ge8yp1xe:v0 to /scratch/downloaded_artifacts/logs_ge8yp1xe:v0\n"
     ]
    },
    {
     "name": "stderr",
     "output_type": "stream",
     "text": [
      "\u001b[34m\u001b[1mwandb\u001b[0m:   1 of 1 files downloaded.  \n"
     ]
    },
    {
     "name": "stdout",
     "output_type": "stream",
     "text": [
      "2025-04-19 22:58:18,047 - INFO - Downloaded logs_z6p4i3ib:v0 to /scratch/downloaded_artifacts/logs_z6p4i3ib:v0\n"
     ]
    },
    {
     "name": "stderr",
     "output_type": "stream",
     "text": [
      "\u001b[34m\u001b[1mwandb\u001b[0m:   1 of 1 files downloaded.  \n"
     ]
    },
    {
     "name": "stdout",
     "output_type": "stream",
     "text": [
      "2025-04-19 22:58:18,158 - INFO - Downloaded logs_ip4cuzn4:v0 to /scratch/downloaded_artifacts/logs_ip4cuzn4:v0\n"
     ]
    },
    {
     "name": "stderr",
     "output_type": "stream",
     "text": [
      "\u001b[34m\u001b[1mwandb\u001b[0m:   1 of 1 files downloaded.  \n"
     ]
    },
    {
     "name": "stdout",
     "output_type": "stream",
     "text": [
      "2025-04-19 22:58:18,211 - INFO - Downloaded logs_24qh2zxt:v0 to /scratch/downloaded_artifacts/logs_24qh2zxt:v0\n"
     ]
    },
    {
     "name": "stderr",
     "output_type": "stream",
     "text": [
      "\u001b[34m\u001b[1mwandb\u001b[0m:   1 of 1 files downloaded.  \n"
     ]
    },
    {
     "name": "stdout",
     "output_type": "stream",
     "text": [
      "2025-04-19 22:58:18,310 - INFO - Downloaded logs_7a5njqz8:v0 to /scratch/downloaded_artifacts/logs_7a5njqz8:v0\n"
     ]
    },
    {
     "name": "stderr",
     "output_type": "stream",
     "text": [
      "\u001b[34m\u001b[1mwandb\u001b[0m:   1 of 1 files downloaded.  \n"
     ]
    },
    {
     "name": "stdout",
     "output_type": "stream",
     "text": [
      "2025-04-19 22:58:18,353 - INFO - Downloaded logs_ctlv3tgq:v0 to /scratch/downloaded_artifacts/logs_ctlv3tgq:v0\n"
     ]
    },
    {
     "name": "stderr",
     "output_type": "stream",
     "text": [
      "\u001b[34m\u001b[1mwandb\u001b[0m:   1 of 1 files downloaded.  \n"
     ]
    },
    {
     "name": "stdout",
     "output_type": "stream",
     "text": [
      "2025-04-19 22:58:18,436 - INFO - Downloaded logs_ng2jv4gc:v0 to /scratch/downloaded_artifacts/logs_ng2jv4gc:v0\n"
     ]
    },
    {
     "name": "stderr",
     "output_type": "stream",
     "text": [
      "\u001b[34m\u001b[1mwandb\u001b[0m:   1 of 1 files downloaded.  \n"
     ]
    },
    {
     "name": "stdout",
     "output_type": "stream",
     "text": [
      "2025-04-19 22:58:18,445 - INFO - Downloaded logs_aog31ccx:v0 to /scratch/downloaded_artifacts/logs_aog31ccx:v0\n"
     ]
    },
    {
     "name": "stderr",
     "output_type": "stream",
     "text": [
      "\u001b[34m\u001b[1mwandb\u001b[0m:   1 of 1 files downloaded.  \n"
     ]
    },
    {
     "name": "stdout",
     "output_type": "stream",
     "text": [
      "2025-04-19 22:58:18,580 - INFO - Downloaded logs_a5flzuna:v0 to /scratch/downloaded_artifacts/logs_a5flzuna:v0\n"
     ]
    },
    {
     "name": "stderr",
     "output_type": "stream",
     "text": [
      "\u001b[34m\u001b[1mwandb\u001b[0m:   1 of 1 files downloaded.  \n"
     ]
    },
    {
     "name": "stdout",
     "output_type": "stream",
     "text": [
      "2025-04-19 22:58:19,090 - INFO - Downloaded logs_0fw3nxfo:v0 to /scratch/downloaded_artifacts/logs_0fw3nxfo:v0\n"
     ]
    },
    {
     "name": "stderr",
     "output_type": "stream",
     "text": [
      "\u001b[34m\u001b[1mwandb\u001b[0m:   1 of 1 files downloaded.  \n"
     ]
    },
    {
     "name": "stdout",
     "output_type": "stream",
     "text": [
      "2025-04-19 22:58:19,306 - INFO - Downloaded logs_nezfzgpv:v0 to /scratch/downloaded_artifacts/logs_nezfzgpv:v0\n"
     ]
    },
    {
     "name": "stderr",
     "output_type": "stream",
     "text": [
      "\u001b[34m\u001b[1mwandb\u001b[0m:   1 of 1 files downloaded.  \n"
     ]
    },
    {
     "name": "stdout",
     "output_type": "stream",
     "text": [
      "2025-04-19 22:58:19,350 - INFO - Downloaded logs_227dfhjk:v0 to /scratch/downloaded_artifacts/logs_227dfhjk:v0\n"
     ]
    },
    {
     "name": "stderr",
     "output_type": "stream",
     "text": [
      "\u001b[34m\u001b[1mwandb\u001b[0m:   1 of 1 files downloaded.  \n"
     ]
    },
    {
     "name": "stdout",
     "output_type": "stream",
     "text": [
      "2025-04-19 22:58:19,371 - INFO - Downloaded logs_2iom4ik5:v0 to /scratch/downloaded_artifacts/logs_2iom4ik5:v0\n"
     ]
    },
    {
     "name": "stderr",
     "output_type": "stream",
     "text": [
      "\u001b[34m\u001b[1mwandb\u001b[0m:   1 of 1 files downloaded.  \n"
     ]
    },
    {
     "name": "stdout",
     "output_type": "stream",
     "text": [
      "2025-04-19 22:58:19,718 - INFO - Downloaded logs_gxuolttq:v0 to /scratch/downloaded_artifacts/logs_gxuolttq:v0\n"
     ]
    },
    {
     "name": "stderr",
     "output_type": "stream",
     "text": [
      "\u001b[34m\u001b[1mwandb\u001b[0m:   1 of 1 files downloaded.  \n"
     ]
    },
    {
     "name": "stdout",
     "output_type": "stream",
     "text": [
      "2025-04-19 22:58:19,931 - INFO - Downloaded logs_xn0l4hst:v0 to /scratch/downloaded_artifacts/logs_xn0l4hst:v0\n"
     ]
    },
    {
     "name": "stderr",
     "output_type": "stream",
     "text": [
      "\u001b[34m\u001b[1mwandb\u001b[0m:   1 of 1 files downloaded.  \n"
     ]
    },
    {
     "name": "stdout",
     "output_type": "stream",
     "text": [
      "2025-04-19 22:58:19,977 - INFO - Downloaded logs_3qp93qvo:v0 to /scratch/downloaded_artifacts/logs_3qp93qvo:v0\n"
     ]
    },
    {
     "name": "stderr",
     "output_type": "stream",
     "text": [
      "\u001b[34m\u001b[1mwandb\u001b[0m:   1 of 1 files downloaded.  \n"
     ]
    },
    {
     "name": "stdout",
     "output_type": "stream",
     "text": [
      "2025-04-19 22:58:19,984 - INFO - Downloaded logs_9rxf2b9p:v0 to /scratch/downloaded_artifacts/logs_9rxf2b9p:v0\n"
     ]
    },
    {
     "name": "stderr",
     "output_type": "stream",
     "text": [
      "\u001b[34m\u001b[1mwandb\u001b[0m:   1 of 1 files downloaded.  \n"
     ]
    },
    {
     "name": "stdout",
     "output_type": "stream",
     "text": [
      "2025-04-19 22:58:20,016 - INFO - Downloaded logs_8uepxcve:v0 to /scratch/downloaded_artifacts/logs_8uepxcve:v0\n"
     ]
    },
    {
     "name": "stderr",
     "output_type": "stream",
     "text": [
      "\u001b[34m\u001b[1mwandb\u001b[0m:   1 of 1 files downloaded.  \n"
     ]
    },
    {
     "name": "stdout",
     "output_type": "stream",
     "text": [
      "2025-04-19 22:58:20,173 - INFO - Downloaded logs_p87hxgg4:v0 to /scratch/downloaded_artifacts/logs_p87hxgg4:v0\n"
     ]
    },
    {
     "name": "stderr",
     "output_type": "stream",
     "text": [
      "\u001b[34m\u001b[1mwandb\u001b[0m:   1 of 1 files downloaded.  \n"
     ]
    },
    {
     "name": "stdout",
     "output_type": "stream",
     "text": [
      "2025-04-19 22:58:20,191 - INFO - Downloaded logs_m2n5fr0y:v0 to /scratch/downloaded_artifacts/logs_m2n5fr0y:v0\n"
     ]
    },
    {
     "name": "stderr",
     "output_type": "stream",
     "text": [
      "\u001b[34m\u001b[1mwandb\u001b[0m:   1 of 1 files downloaded.  \n"
     ]
    },
    {
     "name": "stdout",
     "output_type": "stream",
     "text": [
      "2025-04-19 22:58:20,223 - INFO - Downloaded logs_mhlqhbdn:v0 to /scratch/downloaded_artifacts/logs_mhlqhbdn:v0\n"
     ]
    },
    {
     "name": "stderr",
     "output_type": "stream",
     "text": [
      "\u001b[34m\u001b[1mwandb\u001b[0m:   1 of 1 files downloaded.  \n"
     ]
    },
    {
     "name": "stdout",
     "output_type": "stream",
     "text": [
      "2025-04-19 22:58:20,465 - INFO - Downloaded logs_okk5e7u9:v0 to /scratch/downloaded_artifacts/logs_okk5e7u9:v0\n"
     ]
    },
    {
     "name": "stderr",
     "output_type": "stream",
     "text": [
      "\u001b[34m\u001b[1mwandb\u001b[0m:   1 of 1 files downloaded.  \n"
     ]
    },
    {
     "name": "stdout",
     "output_type": "stream",
     "text": [
      "2025-04-19 22:58:20,501 - INFO - Downloaded logs_p9scokan:v0 to /scratch/downloaded_artifacts/logs_p9scokan:v0\n"
     ]
    },
    {
     "name": "stderr",
     "output_type": "stream",
     "text": [
      "\u001b[34m\u001b[1mwandb\u001b[0m:   1 of 1 files downloaded.  \n"
     ]
    },
    {
     "name": "stdout",
     "output_type": "stream",
     "text": [
      "2025-04-19 22:58:20,574 - INFO - Downloaded logs_somkir91:v0 to /scratch/downloaded_artifacts/logs_somkir91:v0\n"
     ]
    },
    {
     "name": "stderr",
     "output_type": "stream",
     "text": [
      "\u001b[34m\u001b[1mwandb\u001b[0m:   1 of 1 files downloaded.  \n"
     ]
    },
    {
     "name": "stdout",
     "output_type": "stream",
     "text": [
      "2025-04-19 22:58:20,617 - INFO - Downloaded logs_0rnbk33w:v0 to /scratch/downloaded_artifacts/logs_0rnbk33w:v0\n"
     ]
    },
    {
     "name": "stderr",
     "output_type": "stream",
     "text": [
      "\u001b[34m\u001b[1mwandb\u001b[0m:   1 of 1 files downloaded.  \n",
      "\u001b[34m\u001b[1mwandb\u001b[0m:   1 of 1 files downloaded.  \n"
     ]
    },
    {
     "name": "stdout",
     "output_type": "stream",
     "text": [
      "2025-04-19 22:58:20,802 - INFO - Downloaded logs_0u04pvn8:v0 to /scratch/downloaded_artifacts/logs_0u04pvn8:v0\n",
      "2025-04-19 22:58:20,802 - INFO - Downloaded logs_x3myk1r7:v0 to /scratch/downloaded_artifacts/logs_x3myk1r7:v0\n"
     ]
    },
    {
     "name": "stderr",
     "output_type": "stream",
     "text": [
      "\u001b[34m\u001b[1mwandb\u001b[0m:   1 of 1 files downloaded.  \n"
     ]
    },
    {
     "name": "stdout",
     "output_type": "stream",
     "text": [
      "2025-04-19 22:58:20,815 - INFO - Downloaded logs_1yxklavj:v0 to /scratch/downloaded_artifacts/logs_1yxklavj:v0\n"
     ]
    },
    {
     "name": "stderr",
     "output_type": "stream",
     "text": [
      "\u001b[34m\u001b[1mwandb\u001b[0m:   1 of 1 files downloaded.  \n"
     ]
    },
    {
     "name": "stdout",
     "output_type": "stream",
     "text": [
      "2025-04-19 22:58:21,008 - INFO - Downloaded logs_ofbwro0h:v0 to /scratch/downloaded_artifacts/logs_ofbwro0h:v0\n"
     ]
    },
    {
     "name": "stderr",
     "output_type": "stream",
     "text": [
      "\u001b[34m\u001b[1mwandb\u001b[0m:   1 of 1 files downloaded.  \n"
     ]
    },
    {
     "name": "stdout",
     "output_type": "stream",
     "text": [
      "2025-04-19 22:58:21,013 - INFO - Downloaded logs_gsd6smyg:v0 to /scratch/downloaded_artifacts/logs_gsd6smyg:v0\n"
     ]
    },
    {
     "name": "stderr",
     "output_type": "stream",
     "text": [
      "\u001b[34m\u001b[1mwandb\u001b[0m:   1 of 1 files downloaded.  \n",
      "\u001b[34m\u001b[1mwandb\u001b[0m:   1 of 1 files downloaded.  \n"
     ]
    },
    {
     "name": "stdout",
     "output_type": "stream",
     "text": [
      "2025-04-19 22:58:21,111 - INFO - Downloaded logs_pdu5ptki:v0 to /scratch/downloaded_artifacts/logs_pdu5ptki:v0\n",
      "2025-04-19 22:58:21,111 - INFO - Downloaded logs_8fwpshsp:v0 to /scratch/downloaded_artifacts/logs_8fwpshsp:v0\n"
     ]
    },
    {
     "name": "stderr",
     "output_type": "stream",
     "text": [
      "\u001b[34m\u001b[1mwandb\u001b[0m:   1 of 1 files downloaded.  \n"
     ]
    },
    {
     "name": "stdout",
     "output_type": "stream",
     "text": [
      "2025-04-19 22:58:21,135 - INFO - Downloaded logs_on8y9emc:v0 to /scratch/downloaded_artifacts/logs_on8y9emc:v0\n"
     ]
    },
    {
     "name": "stderr",
     "output_type": "stream",
     "text": [
      "\u001b[34m\u001b[1mwandb\u001b[0m:   1 of 1 files downloaded.  \n"
     ]
    },
    {
     "name": "stdout",
     "output_type": "stream",
     "text": [
      "2025-04-19 22:58:21,455 - INFO - Downloaded logs_c0dghb9r:v0 to /scratch/downloaded_artifacts/logs_c0dghb9r:v0\n"
     ]
    },
    {
     "name": "stderr",
     "output_type": "stream",
     "text": [
      "\u001b[34m\u001b[1mwandb\u001b[0m:   1 of 1 files downloaded.  \n"
     ]
    },
    {
     "name": "stdout",
     "output_type": "stream",
     "text": [
      "2025-04-19 22:58:21,663 - INFO - Downloaded logs_912quv9l:v0 to /scratch/downloaded_artifacts/logs_912quv9l:v0\n"
     ]
    },
    {
     "name": "stderr",
     "output_type": "stream",
     "text": [
      "\u001b[34m\u001b[1mwandb\u001b[0m:   1 of 1 files downloaded.  \n"
     ]
    },
    {
     "name": "stdout",
     "output_type": "stream",
     "text": [
      "2025-04-19 22:58:21,712 - INFO - Downloaded logs_mct50rus:v0 to /scratch/downloaded_artifacts/logs_mct50rus:v0\n"
     ]
    },
    {
     "name": "stderr",
     "output_type": "stream",
     "text": [
      "\u001b[34m\u001b[1mwandb\u001b[0m:   1 of 1 files downloaded.  \n"
     ]
    },
    {
     "name": "stdout",
     "output_type": "stream",
     "text": [
      "2025-04-19 22:58:21,731 - INFO - Downloaded logs_8hnfwfic:v0 to /scratch/downloaded_artifacts/logs_8hnfwfic:v0\n"
     ]
    },
    {
     "name": "stderr",
     "output_type": "stream",
     "text": [
      "\u001b[34m\u001b[1mwandb\u001b[0m:   1 of 1 files downloaded.  \n"
     ]
    },
    {
     "name": "stdout",
     "output_type": "stream",
     "text": [
      "2025-04-19 22:58:21,742 - INFO - Downloaded logs_r2v5wyso:v0 to /scratch/downloaded_artifacts/logs_r2v5wyso:v0\n"
     ]
    },
    {
     "name": "stderr",
     "output_type": "stream",
     "text": [
      "\u001b[34m\u001b[1mwandb\u001b[0m:   1 of 1 files downloaded.  \n"
     ]
    },
    {
     "name": "stdout",
     "output_type": "stream",
     "text": [
      "2025-04-19 22:58:21,859 - INFO - Downloaded logs_x9sxauwi:v0 to /scratch/downloaded_artifacts/logs_x9sxauwi:v0\n"
     ]
    },
    {
     "name": "stderr",
     "output_type": "stream",
     "text": [
      "\u001b[34m\u001b[1mwandb\u001b[0m:   1 of 1 files downloaded.  \n"
     ]
    },
    {
     "name": "stdout",
     "output_type": "stream",
     "text": [
      "2025-04-19 22:58:22,018 - INFO - Downloaded logs_42g3eobw:v0 to /scratch/downloaded_artifacts/logs_42g3eobw:v0\n"
     ]
    },
    {
     "name": "stderr",
     "output_type": "stream",
     "text": [
      "\u001b[34m\u001b[1mwandb\u001b[0m:   1 of 1 files downloaded.  \n"
     ]
    },
    {
     "name": "stdout",
     "output_type": "stream",
     "text": [
      "2025-04-19 22:58:22,133 - INFO - Downloaded logs_zpnng80u:v0 to /scratch/downloaded_artifacts/logs_zpnng80u:v0\n"
     ]
    },
    {
     "name": "stderr",
     "output_type": "stream",
     "text": [
      "\u001b[34m\u001b[1mwandb\u001b[0m:   1 of 1 files downloaded.  \n"
     ]
    },
    {
     "name": "stdout",
     "output_type": "stream",
     "text": [
      "2025-04-19 22:58:22,326 - INFO - Downloaded logs_5a9po60t:v0 to /scratch/downloaded_artifacts/logs_5a9po60t:v0\n"
     ]
    },
    {
     "name": "stderr",
     "output_type": "stream",
     "text": [
      "\u001b[34m\u001b[1mwandb\u001b[0m:   1 of 1 files downloaded.  \n"
     ]
    },
    {
     "name": "stdout",
     "output_type": "stream",
     "text": [
      "2025-04-19 22:58:22,331 - INFO - Downloaded logs_6m5toja5:v0 to /scratch/downloaded_artifacts/logs_6m5toja5:v0\n"
     ]
    },
    {
     "name": "stderr",
     "output_type": "stream",
     "text": [
      "\u001b[34m\u001b[1mwandb\u001b[0m:   1 of 1 files downloaded.  \n"
     ]
    },
    {
     "name": "stdout",
     "output_type": "stream",
     "text": [
      "2025-04-19 22:58:22,566 - INFO - Downloaded logs_fz7xrq92:v0 to /scratch/downloaded_artifacts/logs_fz7xrq92:v0\n"
     ]
    },
    {
     "name": "stderr",
     "output_type": "stream",
     "text": [
      "\u001b[34m\u001b[1mwandb\u001b[0m:   1 of 1 files downloaded.  \n"
     ]
    },
    {
     "name": "stdout",
     "output_type": "stream",
     "text": [
      "2025-04-19 22:58:22,599 - INFO - Downloaded logs_fung2bwq:v0 to /scratch/downloaded_artifacts/logs_fung2bwq:v0\n"
     ]
    },
    {
     "name": "stderr",
     "output_type": "stream",
     "text": [
      "\u001b[34m\u001b[1mwandb\u001b[0m:   1 of 1 files downloaded.  \n"
     ]
    },
    {
     "name": "stdout",
     "output_type": "stream",
     "text": [
      "2025-04-19 22:58:22,635 - INFO - Downloaded logs_re5c7ldg:v0 to /scratch/downloaded_artifacts/logs_re5c7ldg:v0\n"
     ]
    },
    {
     "name": "stderr",
     "output_type": "stream",
     "text": [
      "\u001b[34m\u001b[1mwandb\u001b[0m:   1 of 1 files downloaded.  \n"
     ]
    },
    {
     "name": "stdout",
     "output_type": "stream",
     "text": [
      "2025-04-19 22:58:22,749 - INFO - Downloaded logs_njntul14:v0 to /scratch/downloaded_artifacts/logs_njntul14:v0\n"
     ]
    },
    {
     "name": "stderr",
     "output_type": "stream",
     "text": [
      "\u001b[34m\u001b[1mwandb\u001b[0m:   1 of 1 files downloaded.  \n"
     ]
    },
    {
     "name": "stdout",
     "output_type": "stream",
     "text": [
      "2025-04-19 22:58:22,818 - INFO - Downloaded logs_pie3xfvv:v0 to /scratch/downloaded_artifacts/logs_pie3xfvv:v0\n"
     ]
    },
    {
     "name": "stderr",
     "output_type": "stream",
     "text": [
      "\u001b[34m\u001b[1mwandb\u001b[0m:   1 of 1 files downloaded.  \n"
     ]
    },
    {
     "name": "stdout",
     "output_type": "stream",
     "text": [
      "2025-04-19 22:58:22,884 - INFO - Downloaded logs_4j71k596:v0 to /scratch/downloaded_artifacts/logs_4j71k596:v0\n"
     ]
    },
    {
     "name": "stderr",
     "output_type": "stream",
     "text": [
      "\u001b[34m\u001b[1mwandb\u001b[0m:   1 of 1 files downloaded.  \n"
     ]
    },
    {
     "name": "stdout",
     "output_type": "stream",
     "text": [
      "2025-04-19 22:58:22,972 - INFO - Downloaded logs_q72ffjd9:v0 to /scratch/downloaded_artifacts/logs_q72ffjd9:v0\n"
     ]
    },
    {
     "name": "stderr",
     "output_type": "stream",
     "text": [
      "\u001b[34m\u001b[1mwandb\u001b[0m:   1 of 1 files downloaded.  \n"
     ]
    },
    {
     "name": "stdout",
     "output_type": "stream",
     "text": [
      "2025-04-19 22:58:22,997 - INFO - Downloaded logs_vdgof40y:v0 to /scratch/downloaded_artifacts/logs_vdgof40y:v0\n"
     ]
    },
    {
     "name": "stderr",
     "output_type": "stream",
     "text": [
      "\u001b[34m\u001b[1mwandb\u001b[0m:   1 of 1 files downloaded.  \n"
     ]
    },
    {
     "name": "stdout",
     "output_type": "stream",
     "text": [
      "2025-04-19 22:58:23,035 - INFO - Downloaded logs_66fw0a9d:v0 to /scratch/downloaded_artifacts/logs_66fw0a9d:v0\n"
     ]
    },
    {
     "name": "stderr",
     "output_type": "stream",
     "text": [
      "\u001b[34m\u001b[1mwandb\u001b[0m:   1 of 1 files downloaded.  \n"
     ]
    },
    {
     "name": "stdout",
     "output_type": "stream",
     "text": [
      "2025-04-19 22:58:23,250 - INFO - Downloaded logs_whh39pgr:v0 to /scratch/downloaded_artifacts/logs_whh39pgr:v0\n"
     ]
    },
    {
     "name": "stderr",
     "output_type": "stream",
     "text": [
      "\u001b[34m\u001b[1mwandb\u001b[0m:   1 of 1 files downloaded.  \n"
     ]
    },
    {
     "name": "stdout",
     "output_type": "stream",
     "text": [
      "2025-04-19 22:58:23,318 - INFO - Downloaded logs_87uimf7x:v0 to /scratch/downloaded_artifacts/logs_87uimf7x:v0\n"
     ]
    },
    {
     "name": "stderr",
     "output_type": "stream",
     "text": [
      "\u001b[34m\u001b[1mwandb\u001b[0m:   1 of 1 files downloaded.  \n"
     ]
    },
    {
     "name": "stdout",
     "output_type": "stream",
     "text": [
      "2025-04-19 22:58:23,534 - INFO - Downloaded logs_hd35zg2i:v0 to /scratch/downloaded_artifacts/logs_hd35zg2i:v0\n"
     ]
    },
    {
     "name": "stderr",
     "output_type": "stream",
     "text": [
      "\u001b[34m\u001b[1mwandb\u001b[0m:   1 of 1 files downloaded.  \n"
     ]
    },
    {
     "name": "stdout",
     "output_type": "stream",
     "text": [
      "2025-04-19 22:58:23,582 - INFO - Downloaded logs_38n8el1h:v0 to /scratch/downloaded_artifacts/logs_38n8el1h:v0\n"
     ]
    },
    {
     "name": "stderr",
     "output_type": "stream",
     "text": [
      "\u001b[34m\u001b[1mwandb\u001b[0m:   1 of 1 files downloaded.  \n"
     ]
    },
    {
     "name": "stdout",
     "output_type": "stream",
     "text": [
      "2025-04-19 22:58:23,620 - INFO - Downloaded logs_p4trelm6:v0 to /scratch/downloaded_artifacts/logs_p4trelm6:v0\n"
     ]
    },
    {
     "name": "stderr",
     "output_type": "stream",
     "text": [
      "\u001b[34m\u001b[1mwandb\u001b[0m:   1 of 1 files downloaded.  \n"
     ]
    },
    {
     "name": "stdout",
     "output_type": "stream",
     "text": [
      "2025-04-19 22:58:23,743 - INFO - Downloaded logs_0k357kmw:v0 to /scratch/downloaded_artifacts/logs_0k357kmw:v0\n"
     ]
    },
    {
     "name": "stderr",
     "output_type": "stream",
     "text": [
      "\u001b[34m\u001b[1mwandb\u001b[0m:   1 of 1 files downloaded.  \n"
     ]
    },
    {
     "name": "stdout",
     "output_type": "stream",
     "text": [
      "2025-04-19 22:58:23,815 - INFO - Downloaded logs_3m6eqyry:v0 to /scratch/downloaded_artifacts/logs_3m6eqyry:v0\n"
     ]
    },
    {
     "name": "stderr",
     "output_type": "stream",
     "text": [
      "\u001b[34m\u001b[1mwandb\u001b[0m:   1 of 1 files downloaded.  \n"
     ]
    },
    {
     "name": "stdout",
     "output_type": "stream",
     "text": [
      "2025-04-19 22:58:23,963 - INFO - Downloaded logs_4yrp8mvb:v0 to /scratch/downloaded_artifacts/logs_4yrp8mvb:v0\n"
     ]
    },
    {
     "name": "stderr",
     "output_type": "stream",
     "text": [
      "\u001b[34m\u001b[1mwandb\u001b[0m:   1 of 1 files downloaded.  \n"
     ]
    },
    {
     "name": "stdout",
     "output_type": "stream",
     "text": [
      "2025-04-19 22:58:24,126 - INFO - Downloaded logs_5inn374c:v0 to /scratch/downloaded_artifacts/logs_5inn374c:v0\n"
     ]
    },
    {
     "name": "stderr",
     "output_type": "stream",
     "text": [
      "\u001b[34m\u001b[1mwandb\u001b[0m:   1 of 1 files downloaded.  \n"
     ]
    },
    {
     "name": "stdout",
     "output_type": "stream",
     "text": [
      "2025-04-19 22:58:24,177 - INFO - Downloaded logs_625lm4kh:v0 to /scratch/downloaded_artifacts/logs_625lm4kh:v0\n"
     ]
    },
    {
     "name": "stderr",
     "output_type": "stream",
     "text": [
      "\u001b[34m\u001b[1mwandb\u001b[0m:   1 of 1 files downloaded.  \n"
     ]
    },
    {
     "name": "stdout",
     "output_type": "stream",
     "text": [
      "2025-04-19 22:58:24,245 - INFO - Downloaded logs_6x4oioor:v0 to /scratch/downloaded_artifacts/logs_6x4oioor:v0\n"
     ]
    },
    {
     "name": "stderr",
     "output_type": "stream",
     "text": [
      "\u001b[34m\u001b[1mwandb\u001b[0m:   1 of 1 files downloaded.  \n"
     ]
    },
    {
     "name": "stdout",
     "output_type": "stream",
     "text": [
      "2025-04-19 22:58:24,447 - INFO - Downloaded logs_fx66nbc4:v0 to /scratch/downloaded_artifacts/logs_fx66nbc4:v0\n"
     ]
    },
    {
     "name": "stderr",
     "output_type": "stream",
     "text": [
      "\u001b[34m\u001b[1mwandb\u001b[0m:   1 of 1 files downloaded.  \n"
     ]
    },
    {
     "name": "stdout",
     "output_type": "stream",
     "text": [
      "2025-04-19 22:58:24,496 - INFO - Downloaded logs_h7inohjo:v0 to /scratch/downloaded_artifacts/logs_h7inohjo:v0\n"
     ]
    },
    {
     "name": "stderr",
     "output_type": "stream",
     "text": [
      "\u001b[34m\u001b[1mwandb\u001b[0m:   1 of 1 files downloaded.  \n"
     ]
    },
    {
     "name": "stdout",
     "output_type": "stream",
     "text": [
      "2025-04-19 22:58:24,536 - INFO - Downloaded logs_glp4j3dg:v0 to /scratch/downloaded_artifacts/logs_glp4j3dg:v0\n"
     ]
    },
    {
     "name": "stderr",
     "output_type": "stream",
     "text": [
      "\u001b[34m\u001b[1mwandb\u001b[0m:   1 of 1 files downloaded.  \n"
     ]
    },
    {
     "name": "stdout",
     "output_type": "stream",
     "text": [
      "2025-04-19 22:58:24,621 - INFO - Downloaded logs_peagt5or:v0 to /scratch/downloaded_artifacts/logs_peagt5or:v0\n"
     ]
    },
    {
     "name": "stderr",
     "output_type": "stream",
     "text": [
      "\u001b[34m\u001b[1mwandb\u001b[0m:   1 of 1 files downloaded.  \n"
     ]
    },
    {
     "name": "stdout",
     "output_type": "stream",
     "text": [
      "2025-04-19 22:58:24,671 - INFO - Downloaded logs_hf6y79r7:v0 to /scratch/downloaded_artifacts/logs_hf6y79r7:v0\n"
     ]
    },
    {
     "name": "stderr",
     "output_type": "stream",
     "text": [
      "\u001b[34m\u001b[1mwandb\u001b[0m:   1 of 1 files downloaded.  \n"
     ]
    },
    {
     "name": "stdout",
     "output_type": "stream",
     "text": [
      "2025-04-19 22:58:24,759 - INFO - Downloaded logs_q4jlwxmj:v0 to /scratch/downloaded_artifacts/logs_q4jlwxmj:v0\n"
     ]
    },
    {
     "name": "stderr",
     "output_type": "stream",
     "text": [
      "\u001b[34m\u001b[1mwandb\u001b[0m:   1 of 1 files downloaded.  \n"
     ]
    },
    {
     "name": "stdout",
     "output_type": "stream",
     "text": [
      "2025-04-19 22:58:24,872 - INFO - Downloaded logs_urtj6p9r:v0 to /scratch/downloaded_artifacts/logs_urtj6p9r:v0\n"
     ]
    },
    {
     "name": "stderr",
     "output_type": "stream",
     "text": [
      "\u001b[34m\u001b[1mwandb\u001b[0m:   1 of 1 files downloaded.  \n"
     ]
    },
    {
     "name": "stdout",
     "output_type": "stream",
     "text": [
      "2025-04-19 22:58:24,882 - INFO - Downloaded logs_3ni1n07e:v0 to /scratch/downloaded_artifacts/logs_3ni1n07e:v0\n"
     ]
    },
    {
     "name": "stderr",
     "output_type": "stream",
     "text": [
      "\u001b[34m\u001b[1mwandb\u001b[0m:   1 of 1 files downloaded.  \n"
     ]
    },
    {
     "name": "stdout",
     "output_type": "stream",
     "text": [
      "2025-04-19 22:58:25,033 - INFO - Downloaded logs_84me03we:v0 to /scratch/downloaded_artifacts/logs_84me03we:v0\n"
     ]
    },
    {
     "name": "stderr",
     "output_type": "stream",
     "text": [
      "\u001b[34m\u001b[1mwandb\u001b[0m:   1 of 1 files downloaded.  \n"
     ]
    },
    {
     "name": "stdout",
     "output_type": "stream",
     "text": [
      "2025-04-19 22:58:25,172 - INFO - Downloaded logs_9pvgdga4:v0 to /scratch/downloaded_artifacts/logs_9pvgdga4:v0\n"
     ]
    },
    {
     "name": "stderr",
     "output_type": "stream",
     "text": [
      "\u001b[34m\u001b[1mwandb\u001b[0m:   1 of 1 files downloaded.  \n"
     ]
    },
    {
     "name": "stdout",
     "output_type": "stream",
     "text": [
      "2025-04-19 22:58:25,300 - INFO - Downloaded logs_ph6bcf96:v0 to /scratch/downloaded_artifacts/logs_ph6bcf96:v0\n"
     ]
    },
    {
     "name": "stderr",
     "output_type": "stream",
     "text": [
      "\u001b[34m\u001b[1mwandb\u001b[0m:   1 of 1 files downloaded.  \n"
     ]
    },
    {
     "name": "stdout",
     "output_type": "stream",
     "text": [
      "2025-04-19 22:58:25,391 - INFO - Downloaded logs_v5vni2ps:v0 to /scratch/downloaded_artifacts/logs_v5vni2ps:v0\n"
     ]
    },
    {
     "name": "stderr",
     "output_type": "stream",
     "text": [
      "\u001b[34m\u001b[1mwandb\u001b[0m:   1 of 1 files downloaded.  \n"
     ]
    },
    {
     "name": "stdout",
     "output_type": "stream",
     "text": [
      "2025-04-19 22:58:25,409 - INFO - Downloaded logs_1paw58t0:v0 to /scratch/downloaded_artifacts/logs_1paw58t0:v0\n"
     ]
    },
    {
     "name": "stderr",
     "output_type": "stream",
     "text": [
      "\u001b[34m\u001b[1mwandb\u001b[0m:   1 of 1 files downloaded.  \n"
     ]
    },
    {
     "name": "stdout",
     "output_type": "stream",
     "text": [
      "2025-04-19 22:58:25,444 - INFO - Downloaded logs_1raavwic:v0 to /scratch/downloaded_artifacts/logs_1raavwic:v0\n"
     ]
    },
    {
     "name": "stderr",
     "output_type": "stream",
     "text": [
      "\u001b[34m\u001b[1mwandb\u001b[0m:   1 of 1 files downloaded.  \n"
     ]
    },
    {
     "name": "stdout",
     "output_type": "stream",
     "text": [
      "2025-04-19 22:58:25,558 - INFO - Downloaded logs_4hmw6yim:v0 to /scratch/downloaded_artifacts/logs_4hmw6yim:v0\n"
     ]
    },
    {
     "name": "stderr",
     "output_type": "stream",
     "text": [
      "\u001b[34m\u001b[1mwandb\u001b[0m:   1 of 1 files downloaded.  \n"
     ]
    },
    {
     "name": "stdout",
     "output_type": "stream",
     "text": [
      "2025-04-19 22:58:25,624 - INFO - Downloaded logs_4uivx59a:v0 to /scratch/downloaded_artifacts/logs_4uivx59a:v0\n"
     ]
    },
    {
     "name": "stderr",
     "output_type": "stream",
     "text": [
      "\u001b[34m\u001b[1mwandb\u001b[0m:   1 of 1 files downloaded.  \n"
     ]
    },
    {
     "name": "stdout",
     "output_type": "stream",
     "text": [
      "2025-04-19 22:58:25,801 - INFO - Downloaded logs_fv4lgxo7:v0 to /scratch/downloaded_artifacts/logs_fv4lgxo7:v0\n"
     ]
    },
    {
     "name": "stderr",
     "output_type": "stream",
     "text": [
      "\u001b[34m\u001b[1mwandb\u001b[0m:   1 of 1 files downloaded.  \n"
     ]
    },
    {
     "name": "stdout",
     "output_type": "stream",
     "text": [
      "2025-04-19 22:58:25,950 - INFO - Downloaded logs_7zcq6kph:v0 to /scratch/downloaded_artifacts/logs_7zcq6kph:v0\n"
     ]
    },
    {
     "name": "stderr",
     "output_type": "stream",
     "text": [
      "\u001b[34m\u001b[1mwandb\u001b[0m:   1 of 1 files downloaded.  \n"
     ]
    },
    {
     "name": "stdout",
     "output_type": "stream",
     "text": [
      "2025-04-19 22:58:26,000 - INFO - Downloaded logs_giyug9dq:v0 to /scratch/downloaded_artifacts/logs_giyug9dq:v0\n"
     ]
    },
    {
     "name": "stderr",
     "output_type": "stream",
     "text": [
      "\u001b[34m\u001b[1mwandb\u001b[0m:   1 of 1 files downloaded.  \n"
     ]
    },
    {
     "name": "stdout",
     "output_type": "stream",
     "text": [
      "2025-04-19 22:58:26,069 - INFO - Downloaded logs_8lvdxzcr:v0 to /scratch/downloaded_artifacts/logs_8lvdxzcr:v0\n"
     ]
    },
    {
     "name": "stderr",
     "output_type": "stream",
     "text": [
      "\u001b[34m\u001b[1mwandb\u001b[0m:   1 of 1 files downloaded.  \n"
     ]
    },
    {
     "name": "stdout",
     "output_type": "stream",
     "text": [
      "2025-04-19 22:58:26,217 - INFO - Downloaded logs_lqocjgn8:v0 to /scratch/downloaded_artifacts/logs_lqocjgn8:v0\n"
     ]
    },
    {
     "name": "stderr",
     "output_type": "stream",
     "text": [
      "\u001b[34m\u001b[1mwandb\u001b[0m:   1 of 1 files downloaded.  \n"
     ]
    },
    {
     "name": "stdout",
     "output_type": "stream",
     "text": [
      "2025-04-19 22:58:26,263 - INFO - Downloaded logs_pw9rg4la:v0 to /scratch/downloaded_artifacts/logs_pw9rg4la:v0\n"
     ]
    },
    {
     "name": "stderr",
     "output_type": "stream",
     "text": [
      "\u001b[34m\u001b[1mwandb\u001b[0m:   1 of 1 files downloaded.  \n"
     ]
    },
    {
     "name": "stdout",
     "output_type": "stream",
     "text": [
      "2025-04-19 22:58:26,459 - INFO - Downloaded logs_pygpbu7k:v0 to /scratch/downloaded_artifacts/logs_pygpbu7k:v0\n"
     ]
    },
    {
     "name": "stderr",
     "output_type": "stream",
     "text": [
      "\u001b[34m\u001b[1mwandb\u001b[0m:   1 of 1 files downloaded.  \n"
     ]
    },
    {
     "name": "stdout",
     "output_type": "stream",
     "text": [
      "2025-04-19 22:58:26,635 - INFO - Downloaded logs_t1bcfgoh:v0 to /scratch/downloaded_artifacts/logs_t1bcfgoh:v0\n"
     ]
    },
    {
     "name": "stderr",
     "output_type": "stream",
     "text": [
      "\u001b[34m\u001b[1mwandb\u001b[0m:   1 of 1 files downloaded.  \n"
     ]
    },
    {
     "name": "stdout",
     "output_type": "stream",
     "text": [
      "2025-04-19 22:58:26,696 - INFO - Downloaded logs_yd6s8nge:v0 to /scratch/downloaded_artifacts/logs_yd6s8nge:v0\n"
     ]
    },
    {
     "name": "stderr",
     "output_type": "stream",
     "text": [
      "\u001b[34m\u001b[1mwandb\u001b[0m:   1 of 1 files downloaded.  \n"
     ]
    },
    {
     "name": "stdout",
     "output_type": "stream",
     "text": [
      "2025-04-19 22:58:26,777 - INFO - Downloaded logs_ultfeokq:v0 to /scratch/downloaded_artifacts/logs_ultfeokq:v0\n"
     ]
    },
    {
     "name": "stderr",
     "output_type": "stream",
     "text": [
      "\u001b[34m\u001b[1mwandb\u001b[0m:   1 of 1 files downloaded.  \n"
     ]
    },
    {
     "name": "stdout",
     "output_type": "stream",
     "text": [
      "2025-04-19 22:58:26,899 - INFO - Downloaded logs_28gfaiq8:v0 to /scratch/downloaded_artifacts/logs_28gfaiq8:v0\n"
     ]
    },
    {
     "name": "stderr",
     "output_type": "stream",
     "text": [
      "\u001b[34m\u001b[1mwandb\u001b[0m:   1 of 1 files downloaded.  \n"
     ]
    },
    {
     "name": "stdout",
     "output_type": "stream",
     "text": [
      "2025-04-19 22:58:26,945 - INFO - Downloaded logs_qcqsl8ia:v0 to /scratch/downloaded_artifacts/logs_qcqsl8ia:v0\n"
     ]
    },
    {
     "name": "stderr",
     "output_type": "stream",
     "text": [
      "\u001b[34m\u001b[1mwandb\u001b[0m:   1 of 1 files downloaded.  \n"
     ]
    },
    {
     "name": "stdout",
     "output_type": "stream",
     "text": [
      "2025-04-19 22:58:27,052 - INFO - Downloaded logs_2f2le9aa:v0 to /scratch/downloaded_artifacts/logs_2f2le9aa:v0\n"
     ]
    },
    {
     "name": "stderr",
     "output_type": "stream",
     "text": [
      "\u001b[34m\u001b[1mwandb\u001b[0m:   1 of 1 files downloaded.  \n"
     ]
    },
    {
     "name": "stdout",
     "output_type": "stream",
     "text": [
      "2025-04-19 22:58:27,106 - INFO - Downloaded logs_5ls5zpl3:v0 to /scratch/downloaded_artifacts/logs_5ls5zpl3:v0\n"
     ]
    },
    {
     "name": "stderr",
     "output_type": "stream",
     "text": [
      "\u001b[34m\u001b[1mwandb\u001b[0m:   1 of 1 files downloaded.  \n"
     ]
    },
    {
     "name": "stdout",
     "output_type": "stream",
     "text": [
      "2025-04-19 22:58:27,322 - INFO - Downloaded logs_74xjy76b:v0 to /scratch/downloaded_artifacts/logs_74xjy76b:v0\n"
     ]
    },
    {
     "name": "stderr",
     "output_type": "stream",
     "text": [
      "\u001b[34m\u001b[1mwandb\u001b[0m:   1 of 1 files downloaded.  \n"
     ]
    },
    {
     "name": "stdout",
     "output_type": "stream",
     "text": [
      "2025-04-19 22:58:27,362 - INFO - Downloaded logs_9u5wpcxr:v0 to /scratch/downloaded_artifacts/logs_9u5wpcxr:v0\n"
     ]
    },
    {
     "name": "stderr",
     "output_type": "stream",
     "text": [
      "\u001b[34m\u001b[1mwandb\u001b[0m:   1 of 1 files downloaded.  \n"
     ]
    },
    {
     "name": "stdout",
     "output_type": "stream",
     "text": [
      "2025-04-19 22:58:27,431 - INFO - Downloaded logs_apfov6zp:v0 to /scratch/downloaded_artifacts/logs_apfov6zp:v0\n"
     ]
    },
    {
     "name": "stderr",
     "output_type": "stream",
     "text": [
      "\u001b[34m\u001b[1mwandb\u001b[0m:   1 of 1 files downloaded.  \n"
     ]
    },
    {
     "name": "stdout",
     "output_type": "stream",
     "text": [
      "2025-04-19 22:58:27,589 - INFO - Downloaded logs_gy58lhbu:v0 to /scratch/downloaded_artifacts/logs_gy58lhbu:v0\n"
     ]
    },
    {
     "name": "stderr",
     "output_type": "stream",
     "text": [
      "\u001b[34m\u001b[1mwandb\u001b[0m:   1 of 1 files downloaded.  \n"
     ]
    },
    {
     "name": "stdout",
     "output_type": "stream",
     "text": [
      "2025-04-19 22:58:27,629 - INFO - Downloaded logs_gj13ksrg:v0 to /scratch/downloaded_artifacts/logs_gj13ksrg:v0\n"
     ]
    },
    {
     "name": "stderr",
     "output_type": "stream",
     "text": [
      "\u001b[34m\u001b[1mwandb\u001b[0m:   1 of 1 files downloaded.  \n"
     ]
    },
    {
     "name": "stdout",
     "output_type": "stream",
     "text": [
      "2025-04-19 22:58:27,636 - INFO - Downloaded logs_8hb03wz7:v0 to /scratch/downloaded_artifacts/logs_8hb03wz7:v0\n"
     ]
    },
    {
     "name": "stderr",
     "output_type": "stream",
     "text": [
      "\u001b[34m\u001b[1mwandb\u001b[0m:   1 of 1 files downloaded.  \n"
     ]
    },
    {
     "name": "stdout",
     "output_type": "stream",
     "text": [
      "2025-04-19 22:58:27,798 - INFO - Downloaded logs_hq79ik30:v0 to /scratch/downloaded_artifacts/logs_hq79ik30:v0\n"
     ]
    },
    {
     "name": "stderr",
     "output_type": "stream",
     "text": [
      "\u001b[34m\u001b[1mwandb\u001b[0m:   1 of 1 files downloaded.  \n"
     ]
    },
    {
     "name": "stdout",
     "output_type": "stream",
     "text": [
      "2025-04-19 22:58:27,931 - INFO - Downloaded logs_o2quf1o5:v0 to /scratch/downloaded_artifacts/logs_o2quf1o5:v0\n"
     ]
    },
    {
     "name": "stderr",
     "output_type": "stream",
     "text": [
      "\u001b[34m\u001b[1mwandb\u001b[0m:   1 of 1 files downloaded.  \n"
     ]
    },
    {
     "name": "stdout",
     "output_type": "stream",
     "text": [
      "2025-04-19 22:58:28,036 - INFO - Downloaded logs_p1bhf410:v0 to /scratch/downloaded_artifacts/logs_p1bhf410:v0\n"
     ]
    },
    {
     "name": "stderr",
     "output_type": "stream",
     "text": [
      "\u001b[34m\u001b[1mwandb\u001b[0m:   1 of 1 files downloaded.  \n"
     ]
    },
    {
     "name": "stdout",
     "output_type": "stream",
     "text": [
      "2025-04-19 22:58:28,165 - INFO - Downloaded logs_rsowr7ih:v0 to /scratch/downloaded_artifacts/logs_rsowr7ih:v0\n"
     ]
    },
    {
     "name": "stderr",
     "output_type": "stream",
     "text": [
      "\u001b[34m\u001b[1mwandb\u001b[0m:   1 of 1 files downloaded.  \n"
     ]
    },
    {
     "name": "stdout",
     "output_type": "stream",
     "text": [
      "2025-04-19 22:58:28,185 - INFO - Downloaded logs_qymnjb3t:v0 to /scratch/downloaded_artifacts/logs_qymnjb3t:v0\n"
     ]
    },
    {
     "name": "stderr",
     "output_type": "stream",
     "text": [
      "\u001b[34m\u001b[1mwandb\u001b[0m:   1 of 1 files downloaded.  \n"
     ]
    },
    {
     "name": "stdout",
     "output_type": "stream",
     "text": [
      "2025-04-19 22:58:28,228 - INFO - Downloaded logs_tbdfl95b:v0 to /scratch/downloaded_artifacts/logs_tbdfl95b:v0\n"
     ]
    },
    {
     "name": "stderr",
     "output_type": "stream",
     "text": [
      "\u001b[34m\u001b[1mwandb\u001b[0m: \u001b[32m\u001b[41mERROR\u001b[0m Error while calling W&B API: rate limit exceeded (<Response [429]>)\n",
      "\u001b[34m\u001b[1mwandb\u001b[0m:   1 of 1 files downloaded.  \n"
     ]
    },
    {
     "name": "stdout",
     "output_type": "stream",
     "text": [
      "2025-04-19 22:58:28,327 - INFO - Downloaded logs_tbne0s4d:v0 to /scratch/downloaded_artifacts/logs_tbne0s4d:v0\n"
     ]
    },
    {
     "name": "stderr",
     "output_type": "stream",
     "text": [
      "\u001b[34m\u001b[1mwandb\u001b[0m: \u001b[32m\u001b[41mERROR\u001b[0m Error while calling W&B API: rate limit exceeded (<Response [429]>)\n",
      "\u001b[34m\u001b[1mwandb\u001b[0m:   1 of 1 files downloaded.  \n"
     ]
    },
    {
     "name": "stdout",
     "output_type": "stream",
     "text": [
      "2025-04-19 22:58:28,390 - INFO - Downloaded logs_vbol7pgb:v0 to /scratch/downloaded_artifacts/logs_vbol7pgb:v0\n"
     ]
    },
    {
     "name": "stderr",
     "output_type": "stream",
     "text": [
      "\u001b[34m\u001b[1mwandb\u001b[0m: \u001b[32m\u001b[41mERROR\u001b[0m Error while calling W&B API: rate limit exceeded (<Response [429]>)\n",
      "\u001b[34m\u001b[1mwandb\u001b[0m:   1 of 1 files downloaded.  \n",
      "\u001b[34m\u001b[1mwandb\u001b[0m:   1 of 1 files downloaded.  \n"
     ]
    },
    {
     "name": "stdout",
     "output_type": "stream",
     "text": [
      "2025-04-19 22:58:28,533 - INFO - Downloaded logs_jaoxjqzc:v0 to /scratch/downloaded_artifacts/logs_jaoxjqzc:v0\n",
      "2025-04-19 22:58:28,535 - INFO - Downloaded logs_5q3e2p72:v0 to /scratch/downloaded_artifacts/logs_5q3e2p72:v0\n"
     ]
    },
    {
     "name": "stderr",
     "output_type": "stream",
     "text": [
      "\u001b[34m\u001b[1mwandb\u001b[0m:   1 of 1 files downloaded.  \n"
     ]
    },
    {
     "name": "stdout",
     "output_type": "stream",
     "text": [
      "2025-04-19 22:58:28,620 - INFO - Downloaded logs_b4llgh0a:v0 to /scratch/downloaded_artifacts/logs_b4llgh0a:v0\n"
     ]
    },
    {
     "name": "stderr",
     "output_type": "stream",
     "text": [
      "\u001b[34m\u001b[1mwandb\u001b[0m:   1 of 1 files downloaded.  \n"
     ]
    },
    {
     "name": "stdout",
     "output_type": "stream",
     "text": [
      "2025-04-19 22:58:28,653 - INFO - Downloaded logs_bkqe2h5u:v0 to /scratch/downloaded_artifacts/logs_bkqe2h5u:v0\n"
     ]
    },
    {
     "name": "stderr",
     "output_type": "stream",
     "text": [
      "\u001b[34m\u001b[1mwandb\u001b[0m:   1 of 1 files downloaded.  \n"
     ]
    },
    {
     "name": "stdout",
     "output_type": "stream",
     "text": [
      "2025-04-19 22:58:28,676 - INFO - Downloaded logs_ayx3k7ih:v0 to /scratch/downloaded_artifacts/logs_ayx3k7ih:v0\n"
     ]
    },
    {
     "name": "stderr",
     "output_type": "stream",
     "text": [
      "\u001b[34m\u001b[1mwandb\u001b[0m:   1 of 1 files downloaded.  \n"
     ]
    },
    {
     "name": "stdout",
     "output_type": "stream",
     "text": [
      "2025-04-19 22:58:28,689 - INFO - Downloaded logs_z0ee7xsd:v0 to /scratch/downloaded_artifacts/logs_z0ee7xsd:v0\n"
     ]
    },
    {
     "name": "stderr",
     "output_type": "stream",
     "text": [
      "\u001b[34m\u001b[1mwandb\u001b[0m:   1 of 1 files downloaded.  \n"
     ]
    },
    {
     "name": "stdout",
     "output_type": "stream",
     "text": [
      "2025-04-19 22:58:28,798 - INFO - Downloaded logs_ht6dsp8n:v0 to /scratch/downloaded_artifacts/logs_ht6dsp8n:v0\n"
     ]
    },
    {
     "name": "stderr",
     "output_type": "stream",
     "text": [
      "\u001b[34m\u001b[1mwandb\u001b[0m:   1 of 1 files downloaded.  \n"
     ]
    },
    {
     "name": "stdout",
     "output_type": "stream",
     "text": [
      "2025-04-19 22:58:28,857 - INFO - Downloaded logs_cel8udsa:v0 to /scratch/downloaded_artifacts/logs_cel8udsa:v0\n"
     ]
    },
    {
     "name": "stderr",
     "output_type": "stream",
     "text": [
      "\u001b[34m\u001b[1mwandb\u001b[0m:   1 of 1 files downloaded.  \n"
     ]
    },
    {
     "name": "stdout",
     "output_type": "stream",
     "text": [
      "2025-04-19 22:58:28,888 - INFO - Downloaded logs_ig7j9pue:v0 to /scratch/downloaded_artifacts/logs_ig7j9pue:v0\n"
     ]
    },
    {
     "name": "stderr",
     "output_type": "stream",
     "text": [
      "\u001b[34m\u001b[1mwandb\u001b[0m:   1 of 1 files downloaded.  \n"
     ]
    },
    {
     "name": "stdout",
     "output_type": "stream",
     "text": [
      "2025-04-19 22:58:28,923 - INFO - Downloaded logs_kzdh1ypb:v0 to /scratch/downloaded_artifacts/logs_kzdh1ypb:v0\n"
     ]
    },
    {
     "name": "stderr",
     "output_type": "stream",
     "text": [
      "\u001b[34m\u001b[1mwandb\u001b[0m:   1 of 1 files downloaded.  \n"
     ]
    },
    {
     "name": "stdout",
     "output_type": "stream",
     "text": [
      "2025-04-19 22:58:28,975 - INFO - Downloaded logs_jebhf09i:v0 to /scratch/downloaded_artifacts/logs_jebhf09i:v0\n"
     ]
    },
    {
     "name": "stderr",
     "output_type": "stream",
     "text": [
      "\u001b[34m\u001b[1mwandb\u001b[0m:   1 of 1 files downloaded.  \n"
     ]
    },
    {
     "name": "stdout",
     "output_type": "stream",
     "text": [
      "2025-04-19 22:58:29,035 - INFO - Downloaded logs_jalubi5h:v0 to /scratch/downloaded_artifacts/logs_jalubi5h:v0\n"
     ]
    },
    {
     "name": "stderr",
     "output_type": "stream",
     "text": [
      "\u001b[34m\u001b[1mwandb\u001b[0m: \u001b[32m\u001b[41mERROR\u001b[0m Error while calling W&B API: rate limit exceeded (<Response [429]>)\n",
      "\u001b[34m\u001b[1mwandb\u001b[0m: \u001b[32m\u001b[41mERROR\u001b[0m Error while calling W&B API: rate limit exceeded (<Response [429]>)\n",
      "\u001b[34m\u001b[1mwandb\u001b[0m: \u001b[32m\u001b[41mERROR\u001b[0m Error while calling W&B API: rate limit exceeded (<Response [429]>)\n",
      "\u001b[34m\u001b[1mwandb\u001b[0m:   1 of 1 files downloaded.  \n"
     ]
    },
    {
     "name": "stdout",
     "output_type": "stream",
     "text": [
      "2025-04-19 22:58:31,219 - INFO - Downloaded logs_7lvzvxcf:v0 to /scratch/downloaded_artifacts/logs_7lvzvxcf:v0\n"
     ]
    },
    {
     "name": "stderr",
     "output_type": "stream",
     "text": [
      "\u001b[34m\u001b[1mwandb\u001b[0m:   1 of 1 files downloaded.  \n"
     ]
    },
    {
     "name": "stdout",
     "output_type": "stream",
     "text": [
      "2025-04-19 22:58:31,325 - INFO - Downloaded logs_534hjjd6:v0 to /scratch/downloaded_artifacts/logs_534hjjd6:v0\n"
     ]
    },
    {
     "name": "stderr",
     "output_type": "stream",
     "text": [
      "\u001b[34m\u001b[1mwandb\u001b[0m:   1 of 1 files downloaded.  \n"
     ]
    },
    {
     "name": "stdout",
     "output_type": "stream",
     "text": [
      "2025-04-19 22:58:31,368 - INFO - Downloaded logs_cfva6iw2:v0 to /scratch/downloaded_artifacts/logs_cfva6iw2:v0\n"
     ]
    },
    {
     "name": "stderr",
     "output_type": "stream",
     "text": [
      "\u001b[34m\u001b[1mwandb\u001b[0m:   1 of 1 files downloaded.  \n"
     ]
    },
    {
     "name": "stdout",
     "output_type": "stream",
     "text": [
      "2025-04-19 22:58:31,422 - INFO - Downloaded logs_bptlrwfp:v0 to /scratch/downloaded_artifacts/logs_bptlrwfp:v0\n"
     ]
    },
    {
     "name": "stderr",
     "output_type": "stream",
     "text": [
      "\u001b[34m\u001b[1mwandb\u001b[0m:   1 of 1 files downloaded.  \n"
     ]
    },
    {
     "name": "stdout",
     "output_type": "stream",
     "text": [
      "2025-04-19 22:58:31,440 - INFO - Downloaded logs_6079bt17:v0 to /scratch/downloaded_artifacts/logs_6079bt17:v0\n"
     ]
    },
    {
     "name": "stderr",
     "output_type": "stream",
     "text": [
      "\u001b[34m\u001b[1mwandb\u001b[0m:   1 of 1 files downloaded.  \n",
      "\u001b[34m\u001b[1mwandb\u001b[0m:   1 of 1 files downloaded.  \n"
     ]
    },
    {
     "name": "stdout",
     "output_type": "stream",
     "text": [
      "2025-04-19 22:58:41,939 - INFO - Downloaded logs_o6dee60t:v0 to /scratch/downloaded_artifacts/logs_o6dee60t:v0\n"
     ]
    },
    {
     "name": "stderr",
     "output_type": "stream",
     "text": [
      "\u001b[34m\u001b[1mwandb\u001b[0m:   1 of 1 files downloaded.  \n"
     ]
    },
    {
     "name": "stdout",
     "output_type": "stream",
     "text": [
      "2025-04-19 22:58:41,940 - INFO - Downloaded logs_zkpu57hh:v0 to /scratch/downloaded_artifacts/logs_zkpu57hh:v0\n"
     ]
    },
    {
     "name": "stderr",
     "output_type": "stream",
     "text": [
      "\u001b[34m\u001b[1mwandb\u001b[0m:   1 of 1 files downloaded.  \n",
      "\u001b[34m\u001b[1mwandb\u001b[0m:   1 of 1 files downloaded.  \n"
     ]
    },
    {
     "name": "stdout",
     "output_type": "stream",
     "text": [
      "2025-04-19 22:58:41,945 - INFO - Downloaded logs_enb54pdg:v0 to /scratch/downloaded_artifacts/logs_enb54pdg:v0\n"
     ]
    },
    {
     "name": "stderr",
     "output_type": "stream",
     "text": [
      "\u001b[34m\u001b[1mwandb\u001b[0m:   1 of 1 files downloaded.  \n"
     ]
    },
    {
     "name": "stdout",
     "output_type": "stream",
     "text": [
      "2025-04-19 22:58:41,947 - INFO - Downloaded logs_hppg358r:v0 to /scratch/downloaded_artifacts/logs_hppg358r:v0\n"
     ]
    },
    {
     "name": "stderr",
     "output_type": "stream",
     "text": [
      "\u001b[34m\u001b[1mwandb\u001b[0m:   1 of 1 files downloaded.  \n"
     ]
    },
    {
     "name": "stdout",
     "output_type": "stream",
     "text": [
      "2025-04-19 22:58:41,948 - INFO - Downloaded logs_cn22c3rr:v0 to /scratch/downloaded_artifacts/logs_cn22c3rr:v0\n"
     ]
    },
    {
     "name": "stderr",
     "output_type": "stream",
     "text": [
      "\u001b[34m\u001b[1mwandb\u001b[0m:   1 of 1 files downloaded.  \n"
     ]
    },
    {
     "name": "stdout",
     "output_type": "stream",
     "text": [
      "2025-04-19 22:58:41,948 - INFO - Downloaded logs_ettiazwr:v0 to /scratch/downloaded_artifacts/logs_ettiazwr:v0\n"
     ]
    },
    {
     "name": "stderr",
     "output_type": "stream",
     "text": [
      "\u001b[34m\u001b[1mwandb\u001b[0m:   1 of 1 files downloaded.  \n",
      "\u001b[34m\u001b[1mwandb\u001b[0m:   1 of 1 files downloaded.  \n"
     ]
    },
    {
     "name": "stdout",
     "output_type": "stream",
     "text": [
      "2025-04-19 22:58:41,952 - INFO - Downloaded logs_ouhmcmvy:v0 to /scratch/downloaded_artifacts/logs_ouhmcmvy:v0\n"
     ]
    },
    {
     "name": "stderr",
     "output_type": "stream",
     "text": [
      "\u001b[34m\u001b[1mwandb\u001b[0m:   1 of 1 files downloaded.  \n",
      "\u001b[34m\u001b[1mwandb\u001b[0m:   1 of 1 files downloaded.  \n"
     ]
    },
    {
     "name": "stdout",
     "output_type": "stream",
     "text": [
      "2025-04-19 22:58:41,957 - INFO - Downloaded logs_or816u4e:v0 to /scratch/downloaded_artifacts/logs_or816u4e:v0\n"
     ]
    },
    {
     "name": "stderr",
     "output_type": "stream",
     "text": [
      "\u001b[34m\u001b[1mwandb\u001b[0m:   1 of 1 files downloaded.  \n",
      "\u001b[34m\u001b[1mwandb\u001b[0m:   1 of 1 files downloaded.  \n"
     ]
    },
    {
     "name": "stdout",
     "output_type": "stream",
     "text": [
      "2025-04-19 22:58:41,959 - INFO - Downloaded logs_juzwots6:v0 to /scratch/downloaded_artifacts/logs_juzwots6:v0\n"
     ]
    },
    {
     "name": "stderr",
     "output_type": "stream",
     "text": [
      "\u001b[34m\u001b[1mwandb\u001b[0m:   1 of 1 files downloaded.  \n",
      "\u001b[34m\u001b[1mwandb\u001b[0m:   1 of 1 files downloaded.  \n"
     ]
    },
    {
     "name": "stdout",
     "output_type": "stream",
     "text": [
      "2025-04-19 22:58:41,961 - INFO - Downloaded logs_t48kgqji:v0 to /scratch/downloaded_artifacts/logs_t48kgqji:v0\n"
     ]
    },
    {
     "name": "stderr",
     "output_type": "stream",
     "text": [
      "\u001b[34m\u001b[1mwandb\u001b[0m:   1 of 1 files downloaded.  \n"
     ]
    },
    {
     "name": "stdout",
     "output_type": "stream",
     "text": [
      "2025-04-19 22:58:41,961 - INFO - Downloaded logs_yn0evh4g:v0 to /scratch/downloaded_artifacts/logs_yn0evh4g:v0\n"
     ]
    },
    {
     "name": "stderr",
     "output_type": "stream",
     "text": [
      "\u001b[34m\u001b[1mwandb\u001b[0m:   1 of 1 files downloaded.  \n"
     ]
    },
    {
     "name": "stdout",
     "output_type": "stream",
     "text": [
      "2025-04-19 22:58:41,966 - INFO - Downloaded logs_u9mrbmhs:v0 to /scratch/downloaded_artifacts/logs_u9mrbmhs:v0\n"
     ]
    },
    {
     "name": "stderr",
     "output_type": "stream",
     "text": [
      "\u001b[34m\u001b[1mwandb\u001b[0m:   1 of 1 files downloaded.  \n"
     ]
    },
    {
     "name": "stdout",
     "output_type": "stream",
     "text": [
      "2025-04-19 22:58:41,968 - INFO - Downloaded logs_zwd41oxe:v0 to /scratch/downloaded_artifacts/logs_zwd41oxe:v0\n"
     ]
    },
    {
     "name": "stderr",
     "output_type": "stream",
     "text": [
      "\u001b[34m\u001b[1mwandb\u001b[0m:   1 of 1 files downloaded.  \n"
     ]
    },
    {
     "name": "stdout",
     "output_type": "stream",
     "text": [
      "2025-04-19 22:58:41,970 - INFO - Downloaded logs_l13062ne:v0 to /scratch/downloaded_artifacts/logs_l13062ne:v0\n",
      "2025-04-19 22:58:41,973 - INFO - Downloaded logs_o1ig3rzm:v0 to /scratch/downloaded_artifacts/logs_o1ig3rzm:v0\n",
      "2025-04-19 22:58:41,976 - INFO - Downloaded logs_um4we2js:v0 to /scratch/downloaded_artifacts/logs_um4we2js:v0\n",
      "2025-04-19 22:58:41,980 - INFO - Downloaded logs_2yahjbid:v0 to /scratch/downloaded_artifacts/logs_2yahjbid:v0\n",
      "2025-04-19 22:58:41,981 - INFO - Downloaded logs_b0o2raw7:v0 to /scratch/downloaded_artifacts/logs_b0o2raw7:v0\n",
      "2025-04-19 22:58:41,984 - INFO - Downloaded logs_u58xrjh6:v0 to /scratch/downloaded_artifacts/logs_u58xrjh6:v0\n",
      "2025-04-19 22:58:41,986 - INFO - Downloaded logs_r73aeakc:v0 to /scratch/downloaded_artifacts/logs_r73aeakc:v0\n"
     ]
    },
    {
     "name": "stderr",
     "output_type": "stream",
     "text": [
      "\u001b[34m\u001b[1mwandb\u001b[0m:   1 of 1 files downloaded.  \n"
     ]
    },
    {
     "name": "stdout",
     "output_type": "stream",
     "text": [
      "2025-04-19 22:58:43,568 - INFO - Downloaded logs_vozy3zng:v0 to /scratch/downloaded_artifacts/logs_vozy3zng:v0\n"
     ]
    },
    {
     "name": "stderr",
     "output_type": "stream",
     "text": [
      "\u001b[34m\u001b[1mwandb\u001b[0m:   1 of 1 files downloaded.  \n"
     ]
    },
    {
     "name": "stdout",
     "output_type": "stream",
     "text": [
      "2025-04-19 22:58:43,764 - INFO - Downloaded logs_wvvv9h47:v0 to /scratch/downloaded_artifacts/logs_wvvv9h47:v0\n"
     ]
    },
    {
     "name": "stderr",
     "output_type": "stream",
     "text": [
      "\u001b[34m\u001b[1mwandb\u001b[0m:   1 of 1 files downloaded.  \n"
     ]
    },
    {
     "name": "stdout",
     "output_type": "stream",
     "text": [
      "2025-04-19 22:58:43,782 - INFO - Downloaded logs_kk6ldza4:v0 to /scratch/downloaded_artifacts/logs_kk6ldza4:v0\n"
     ]
    },
    {
     "name": "stderr",
     "output_type": "stream",
     "text": [
      "\u001b[34m\u001b[1mwandb\u001b[0m:   1 of 1 files downloaded.  \n"
     ]
    },
    {
     "name": "stdout",
     "output_type": "stream",
     "text": [
      "2025-04-19 22:58:43,879 - INFO - Downloaded logs_1kowyn0j:v0 to /scratch/downloaded_artifacts/logs_1kowyn0j:v0\n"
     ]
    },
    {
     "name": "stderr",
     "output_type": "stream",
     "text": [
      "\u001b[34m\u001b[1mwandb\u001b[0m:   1 of 1 files downloaded.  \n"
     ]
    },
    {
     "name": "stdout",
     "output_type": "stream",
     "text": [
      "2025-04-19 22:58:44,013 - INFO - Downloaded logs_0s17qlkx:v0 to /scratch/downloaded_artifacts/logs_0s17qlkx:v0\n"
     ]
    },
    {
     "name": "stderr",
     "output_type": "stream",
     "text": [
      "\u001b[34m\u001b[1mwandb\u001b[0m:   1 of 1 files downloaded.  \n"
     ]
    },
    {
     "name": "stdout",
     "output_type": "stream",
     "text": [
      "2025-04-19 22:58:44,069 - INFO - Downloaded logs_rfjvq3gf:v0 to /scratch/downloaded_artifacts/logs_rfjvq3gf:v0\n"
     ]
    },
    {
     "name": "stderr",
     "output_type": "stream",
     "text": [
      "\u001b[34m\u001b[1mwandb\u001b[0m:   1 of 1 files downloaded.  \n",
      "\u001b[34m\u001b[1mwandb\u001b[0m:   1 of 1 files downloaded.  \n"
     ]
    },
    {
     "name": "stdout",
     "output_type": "stream",
     "text": [
      "2025-04-19 22:58:44,085 - INFO - Downloaded logs_uvtlnzui:v0 to /scratch/downloaded_artifacts/logs_uvtlnzui:v0\n",
      "2025-04-19 22:58:44,089 - INFO - Downloaded logs_vmlzzh4z:v0 to /scratch/downloaded_artifacts/logs_vmlzzh4z:v0\n"
     ]
    },
    {
     "name": "stderr",
     "output_type": "stream",
     "text": [
      "\u001b[34m\u001b[1mwandb\u001b[0m:   1 of 1 files downloaded.  \n"
     ]
    },
    {
     "name": "stdout",
     "output_type": "stream",
     "text": [
      "2025-04-19 22:58:44,102 - INFO - Downloaded logs_lb8wcu42:v0 to /scratch/downloaded_artifacts/logs_lb8wcu42:v0\n"
     ]
    },
    {
     "name": "stderr",
     "output_type": "stream",
     "text": [
      "\u001b[34m\u001b[1mwandb\u001b[0m:   1 of 1 files downloaded.  \n"
     ]
    },
    {
     "name": "stdout",
     "output_type": "stream",
     "text": [
      "2025-04-19 22:58:44,108 - INFO - Downloaded logs_p25pbt0w:v0 to /scratch/downloaded_artifacts/logs_p25pbt0w:v0\n"
     ]
    },
    {
     "name": "stderr",
     "output_type": "stream",
     "text": [
      "\u001b[34m\u001b[1mwandb\u001b[0m:   1 of 1 files downloaded.  \n"
     ]
    },
    {
     "name": "stdout",
     "output_type": "stream",
     "text": [
      "2025-04-19 22:58:44,147 - INFO - Downloaded logs_sv48gyyj:v0 to /scratch/downloaded_artifacts/logs_sv48gyyj:v0\n"
     ]
    },
    {
     "name": "stderr",
     "output_type": "stream",
     "text": [
      "\u001b[34m\u001b[1mwandb\u001b[0m:   1 of 1 files downloaded.  \n"
     ]
    },
    {
     "name": "stdout",
     "output_type": "stream",
     "text": [
      "2025-04-19 22:58:44,167 - INFO - Downloaded logs_9n1s0d6g:v0 to /scratch/downloaded_artifacts/logs_9n1s0d6g:v0\n"
     ]
    },
    {
     "name": "stderr",
     "output_type": "stream",
     "text": [
      "\u001b[34m\u001b[1mwandb\u001b[0m:   1 of 1 files downloaded.  \n"
     ]
    },
    {
     "name": "stdout",
     "output_type": "stream",
     "text": [
      "2025-04-19 22:58:44,175 - INFO - Downloaded logs_hzvpi2lz:v0 to /scratch/downloaded_artifacts/logs_hzvpi2lz:v0\n"
     ]
    },
    {
     "name": "stderr",
     "output_type": "stream",
     "text": [
      "\u001b[34m\u001b[1mwandb\u001b[0m:   1 of 1 files downloaded.  \n"
     ]
    },
    {
     "name": "stdout",
     "output_type": "stream",
     "text": [
      "2025-04-19 22:58:44,189 - INFO - Downloaded logs_ohwwwe4n:v0 to /scratch/downloaded_artifacts/logs_ohwwwe4n:v0\n"
     ]
    },
    {
     "name": "stderr",
     "output_type": "stream",
     "text": [
      "\u001b[34m\u001b[1mwandb\u001b[0m:   1 of 1 files downloaded.  \n"
     ]
    },
    {
     "name": "stdout",
     "output_type": "stream",
     "text": [
      "2025-04-19 22:58:44,208 - INFO - Downloaded logs_2mxhmmfl:v0 to /scratch/downloaded_artifacts/logs_2mxhmmfl:v0\n"
     ]
    },
    {
     "name": "stderr",
     "output_type": "stream",
     "text": [
      "\u001b[34m\u001b[1mwandb\u001b[0m:   1 of 1 files downloaded.  \n"
     ]
    },
    {
     "name": "stdout",
     "output_type": "stream",
     "text": [
      "2025-04-19 22:58:44,220 - INFO - Downloaded logs_u17yi7s5:v0 to /scratch/downloaded_artifacts/logs_u17yi7s5:v0\n"
     ]
    },
    {
     "name": "stderr",
     "output_type": "stream",
     "text": [
      "\u001b[34m\u001b[1mwandb\u001b[0m:   1 of 1 files downloaded.  \n"
     ]
    },
    {
     "name": "stdout",
     "output_type": "stream",
     "text": [
      "2025-04-19 22:58:44,229 - INFO - Downloaded logs_lpm596xw:v0 to /scratch/downloaded_artifacts/logs_lpm596xw:v0\n"
     ]
    },
    {
     "name": "stderr",
     "output_type": "stream",
     "text": [
      "\u001b[34m\u001b[1mwandb\u001b[0m:   1 of 1 files downloaded.  \n"
     ]
    },
    {
     "name": "stdout",
     "output_type": "stream",
     "text": [
      "2025-04-19 22:58:44,259 - INFO - Downloaded logs_b0towxp2:v0 to /scratch/downloaded_artifacts/logs_b0towxp2:v0\n"
     ]
    },
    {
     "name": "stderr",
     "output_type": "stream",
     "text": [
      "\u001b[34m\u001b[1mwandb\u001b[0m:   1 of 1 files downloaded.  \n"
     ]
    },
    {
     "name": "stdout",
     "output_type": "stream",
     "text": [
      "2025-04-19 22:58:44,282 - INFO - Downloaded logs_fe5el27c:v0 to /scratch/downloaded_artifacts/logs_fe5el27c:v0\n"
     ]
    },
    {
     "name": "stderr",
     "output_type": "stream",
     "text": [
      "\u001b[34m\u001b[1mwandb\u001b[0m:   1 of 1 files downloaded.  \n"
     ]
    },
    {
     "name": "stdout",
     "output_type": "stream",
     "text": [
      "2025-04-19 22:58:44,305 - INFO - Downloaded logs_p646r37n:v0 to /scratch/downloaded_artifacts/logs_p646r37n:v0\n"
     ]
    },
    {
     "name": "stderr",
     "output_type": "stream",
     "text": [
      "\u001b[34m\u001b[1mwandb\u001b[0m:   1 of 1 files downloaded.  \n"
     ]
    },
    {
     "name": "stdout",
     "output_type": "stream",
     "text": [
      "2025-04-19 22:58:44,927 - INFO - Downloaded logs_yizesn7q:v0 to /scratch/downloaded_artifacts/logs_yizesn7q:v0\n"
     ]
    },
    {
     "name": "stderr",
     "output_type": "stream",
     "text": [
      "\u001b[34m\u001b[1mwandb\u001b[0m:   1 of 1 files downloaded.  \n"
     ]
    },
    {
     "name": "stdout",
     "output_type": "stream",
     "text": [
      "2025-04-19 22:58:45,222 - INFO - Downloaded logs_dt4almbb:v0 to /scratch/downloaded_artifacts/logs_dt4almbb:v0\n"
     ]
    },
    {
     "name": "stderr",
     "output_type": "stream",
     "text": [
      "\u001b[34m\u001b[1mwandb\u001b[0m:   1 of 1 files downloaded.  \n",
      "\u001b[34m\u001b[1mwandb\u001b[0m:   1 of 1 files downloaded.  \n"
     ]
    },
    {
     "name": "stdout",
     "output_type": "stream",
     "text": [
      "2025-04-19 22:58:45,508 - INFO - Downloaded logs_e1g9ksp4:v0 to /scratch/downloaded_artifacts/logs_e1g9ksp4:v0\n",
      "2025-04-19 22:58:45,514 - INFO - Downloaded logs_6wk57o6u:v0 to /scratch/downloaded_artifacts/logs_6wk57o6u:v0\n"
     ]
    },
    {
     "name": "stderr",
     "output_type": "stream",
     "text": [
      "\u001b[34m\u001b[1mwandb\u001b[0m:   1 of 1 files downloaded.  \n"
     ]
    },
    {
     "name": "stdout",
     "output_type": "stream",
     "text": [
      "2025-04-19 22:58:45,559 - INFO - Downloaded logs_2vty7l5h:v0 to /scratch/downloaded_artifacts/logs_2vty7l5h:v0\n"
     ]
    },
    {
     "name": "stderr",
     "output_type": "stream",
     "text": [
      "\u001b[34m\u001b[1mwandb\u001b[0m:   1 of 1 files downloaded.  \n"
     ]
    },
    {
     "name": "stdout",
     "output_type": "stream",
     "text": [
      "2025-04-19 22:58:45,821 - INFO - Downloaded logs_0f1gq6pa:v0 to /scratch/downloaded_artifacts/logs_0f1gq6pa:v0\n"
     ]
    },
    {
     "name": "stderr",
     "output_type": "stream",
     "text": [
      "\u001b[34m\u001b[1mwandb\u001b[0m:   1 of 1 files downloaded.  \n"
     ]
    },
    {
     "name": "stdout",
     "output_type": "stream",
     "text": [
      "2025-04-19 22:58:45,971 - INFO - Downloaded logs_21u6lhoc:v0 to /scratch/downloaded_artifacts/logs_21u6lhoc:v0\n"
     ]
    },
    {
     "name": "stderr",
     "output_type": "stream",
     "text": [
      "\u001b[34m\u001b[1mwandb\u001b[0m:   1 of 1 files downloaded.  \n"
     ]
    },
    {
     "name": "stdout",
     "output_type": "stream",
     "text": [
      "2025-04-19 22:58:46,000 - INFO - Downloaded logs_9elm2ild:v0 to /scratch/downloaded_artifacts/logs_9elm2ild:v0\n"
     ]
    },
    {
     "name": "stderr",
     "output_type": "stream",
     "text": [
      "\u001b[34m\u001b[1mwandb\u001b[0m:   1 of 1 files downloaded.  \n"
     ]
    },
    {
     "name": "stdout",
     "output_type": "stream",
     "text": [
      "2025-04-19 22:58:46,065 - INFO - Downloaded logs_5y5dweqi:v0 to /scratch/downloaded_artifacts/logs_5y5dweqi:v0\n"
     ]
    },
    {
     "name": "stderr",
     "output_type": "stream",
     "text": [
      "\u001b[34m\u001b[1mwandb\u001b[0m:   1 of 1 files downloaded.  \n"
     ]
    },
    {
     "name": "stdout",
     "output_type": "stream",
     "text": [
      "2025-04-19 22:58:46,175 - INFO - Downloaded logs_ohoyvth0:v0 to /scratch/downloaded_artifacts/logs_ohoyvth0:v0\n"
     ]
    },
    {
     "name": "stderr",
     "output_type": "stream",
     "text": [
      "\u001b[34m\u001b[1mwandb\u001b[0m:   1 of 1 files downloaded.  \n"
     ]
    },
    {
     "name": "stdout",
     "output_type": "stream",
     "text": [
      "2025-04-19 22:58:46,200 - INFO - Downloaded logs_gl6jt65m:v0 to /scratch/downloaded_artifacts/logs_gl6jt65m:v0\n"
     ]
    },
    {
     "name": "stderr",
     "output_type": "stream",
     "text": [
      "\u001b[34m\u001b[1mwandb\u001b[0m:   1 of 1 files downloaded.  \n"
     ]
    },
    {
     "name": "stdout",
     "output_type": "stream",
     "text": [
      "2025-04-19 22:58:46,219 - INFO - Downloaded logs_ci8v4lgr:v0 to /scratch/downloaded_artifacts/logs_ci8v4lgr:v0\n"
     ]
    },
    {
     "name": "stderr",
     "output_type": "stream",
     "text": [
      "\u001b[34m\u001b[1mwandb\u001b[0m:   1 of 1 files downloaded.  \n"
     ]
    },
    {
     "name": "stdout",
     "output_type": "stream",
     "text": [
      "2025-04-19 22:58:46,243 - INFO - Downloaded logs_5xcb81bo:v0 to /scratch/downloaded_artifacts/logs_5xcb81bo:v0\n"
     ]
    },
    {
     "name": "stderr",
     "output_type": "stream",
     "text": [
      "\u001b[34m\u001b[1mwandb\u001b[0m:   1 of 1 files downloaded.  \n"
     ]
    },
    {
     "name": "stdout",
     "output_type": "stream",
     "text": [
      "2025-04-19 22:58:46,273 - INFO - Downloaded logs_641qliip:v0 to /scratch/downloaded_artifacts/logs_641qliip:v0\n"
     ]
    },
    {
     "name": "stderr",
     "output_type": "stream",
     "text": [
      "\u001b[34m\u001b[1mwandb\u001b[0m:   1 of 1 files downloaded.  \n"
     ]
    },
    {
     "name": "stdout",
     "output_type": "stream",
     "text": [
      "2025-04-19 22:58:46,277 - INFO - Downloaded logs_r39pk5zz:v0 to /scratch/downloaded_artifacts/logs_r39pk5zz:v0\n"
     ]
    },
    {
     "name": "stderr",
     "output_type": "stream",
     "text": [
      "\u001b[34m\u001b[1mwandb\u001b[0m:   1 of 1 files downloaded.  \n"
     ]
    },
    {
     "name": "stdout",
     "output_type": "stream",
     "text": [
      "2025-04-19 22:58:46,344 - INFO - Downloaded logs_orieza9a:v0 to /scratch/downloaded_artifacts/logs_orieza9a:v0\n"
     ]
    },
    {
     "name": "stderr",
     "output_type": "stream",
     "text": [
      "\u001b[34m\u001b[1mwandb\u001b[0m:   1 of 1 files downloaded.  \n"
     ]
    },
    {
     "name": "stdout",
     "output_type": "stream",
     "text": [
      "2025-04-19 22:58:46,364 - INFO - Downloaded logs_ldqnfl9k:v0 to /scratch/downloaded_artifacts/logs_ldqnfl9k:v0\n"
     ]
    },
    {
     "name": "stderr",
     "output_type": "stream",
     "text": [
      "\u001b[34m\u001b[1mwandb\u001b[0m:   1 of 1 files downloaded.  \n"
     ]
    },
    {
     "name": "stdout",
     "output_type": "stream",
     "text": [
      "2025-04-19 22:58:46,411 - INFO - Downloaded logs_z8d4bxwz:v0 to /scratch/downloaded_artifacts/logs_z8d4bxwz:v0\n"
     ]
    },
    {
     "name": "stderr",
     "output_type": "stream",
     "text": [
      "\u001b[34m\u001b[1mwandb\u001b[0m:   1 of 1 files downloaded.  \n"
     ]
    },
    {
     "name": "stdout",
     "output_type": "stream",
     "text": [
      "2025-04-19 22:58:46,424 - INFO - Downloaded logs_cukp5ydc:v0 to /scratch/downloaded_artifacts/logs_cukp5ydc:v0\n"
     ]
    },
    {
     "name": "stderr",
     "output_type": "stream",
     "text": [
      "\u001b[34m\u001b[1mwandb\u001b[0m:   1 of 1 files downloaded.  \n"
     ]
    },
    {
     "name": "stdout",
     "output_type": "stream",
     "text": [
      "2025-04-19 22:58:46,754 - INFO - Downloaded logs_mvr73zz7:v0 to /scratch/downloaded_artifacts/logs_mvr73zz7:v0\n"
     ]
    },
    {
     "name": "stderr",
     "output_type": "stream",
     "text": [
      "\u001b[34m\u001b[1mwandb\u001b[0m:   1 of 1 files downloaded.  \n"
     ]
    },
    {
     "name": "stdout",
     "output_type": "stream",
     "text": [
      "2025-04-19 22:58:47,211 - INFO - Downloaded logs_4sa8zii6:v0 to /scratch/downloaded_artifacts/logs_4sa8zii6:v0\n"
     ]
    },
    {
     "name": "stderr",
     "output_type": "stream",
     "text": [
      "\u001b[34m\u001b[1mwandb\u001b[0m:   1 of 1 files downloaded.  \n"
     ]
    },
    {
     "name": "stdout",
     "output_type": "stream",
     "text": [
      "2025-04-19 22:58:47,334 - INFO - Downloaded logs_7eu28d61:v0 to /scratch/downloaded_artifacts/logs_7eu28d61:v0\n"
     ]
    },
    {
     "name": "stderr",
     "output_type": "stream",
     "text": [
      "\u001b[34m\u001b[1mwandb\u001b[0m:   1 of 1 files downloaded.  \n"
     ]
    },
    {
     "name": "stdout",
     "output_type": "stream",
     "text": [
      "2025-04-19 22:58:47,500 - INFO - Downloaded logs_7unywru7:v0 to /scratch/downloaded_artifacts/logs_7unywru7:v0\n"
     ]
    },
    {
     "name": "stderr",
     "output_type": "stream",
     "text": [
      "\u001b[34m\u001b[1mwandb\u001b[0m:   1 of 1 files downloaded.  \n",
      "\u001b[34m\u001b[1mwandb\u001b[0m:   1 of 1 files downloaded.  \n"
     ]
    },
    {
     "name": "stdout",
     "output_type": "stream",
     "text": [
      "2025-04-19 22:58:47,598 - INFO - Downloaded logs_nkyq11dm:v0 to /scratch/downloaded_artifacts/logs_nkyq11dm:v0\n",
      "2025-04-19 22:58:47,599 - INFO - Downloaded logs_grb5oi6t:v0 to /scratch/downloaded_artifacts/logs_grb5oi6t:v0\n"
     ]
    },
    {
     "name": "stderr",
     "output_type": "stream",
     "text": [
      "\u001b[34m\u001b[1mwandb\u001b[0m:   1 of 1 files downloaded.  \n"
     ]
    },
    {
     "name": "stdout",
     "output_type": "stream",
     "text": [
      "2025-04-19 22:58:47,716 - INFO - Downloaded logs_plgvjidy:v0 to /scratch/downloaded_artifacts/logs_plgvjidy:v0\n"
     ]
    },
    {
     "name": "stderr",
     "output_type": "stream",
     "text": [
      "\u001b[34m\u001b[1mwandb\u001b[0m:   1 of 1 files downloaded.  \n"
     ]
    },
    {
     "name": "stdout",
     "output_type": "stream",
     "text": [
      "2025-04-19 22:58:48,005 - INFO - Downloaded logs_7tylfv12:v0 to /scratch/downloaded_artifacts/logs_7tylfv12:v0\n"
     ]
    },
    {
     "name": "stderr",
     "output_type": "stream",
     "text": [
      "\u001b[34m\u001b[1mwandb\u001b[0m:   1 of 1 files downloaded.  \n"
     ]
    },
    {
     "name": "stdout",
     "output_type": "stream",
     "text": [
      "2025-04-19 22:58:48,056 - INFO - Downloaded logs_p500tscp:v0 to /scratch/downloaded_artifacts/logs_p500tscp:v0\n"
     ]
    },
    {
     "name": "stderr",
     "output_type": "stream",
     "text": [
      "\u001b[34m\u001b[1mwandb\u001b[0m:   1 of 1 files downloaded.  \n"
     ]
    },
    {
     "name": "stdout",
     "output_type": "stream",
     "text": [
      "2025-04-19 22:58:48,076 - INFO - Downloaded logs_32b9ae0i:v0 to /scratch/downloaded_artifacts/logs_32b9ae0i:v0\n"
     ]
    },
    {
     "name": "stderr",
     "output_type": "stream",
     "text": [
      "\u001b[34m\u001b[1mwandb\u001b[0m:   1 of 1 files downloaded.  \n"
     ]
    },
    {
     "name": "stdout",
     "output_type": "stream",
     "text": [
      "2025-04-19 22:58:48,330 - INFO - Downloaded logs_d9ywihyb:v0 to /scratch/downloaded_artifacts/logs_d9ywihyb:v0\n"
     ]
    },
    {
     "name": "stderr",
     "output_type": "stream",
     "text": [
      "\u001b[34m\u001b[1mwandb\u001b[0m:   1 of 1 files downloaded.  \n"
     ]
    },
    {
     "name": "stdout",
     "output_type": "stream",
     "text": [
      "2025-04-19 22:58:48,423 - INFO - Downloaded logs_z82ns2c4:v0 to /scratch/downloaded_artifacts/logs_z82ns2c4:v0\n"
     ]
    },
    {
     "name": "stderr",
     "output_type": "stream",
     "text": [
      "\u001b[34m\u001b[1mwandb\u001b[0m:   1 of 1 files downloaded.  \n"
     ]
    },
    {
     "name": "stdout",
     "output_type": "stream",
     "text": [
      "2025-04-19 22:58:48,439 - INFO - Downloaded logs_8itesmhp:v0 to /scratch/downloaded_artifacts/logs_8itesmhp:v0\n"
     ]
    },
    {
     "name": "stderr",
     "output_type": "stream",
     "text": [
      "\u001b[34m\u001b[1mwandb\u001b[0m:   1 of 1 files downloaded.  \n"
     ]
    },
    {
     "name": "stdout",
     "output_type": "stream",
     "text": [
      "2025-04-19 22:58:48,449 - INFO - Downloaded logs_cl5ihuql:v0 to /scratch/downloaded_artifacts/logs_cl5ihuql:v0\n"
     ]
    },
    {
     "name": "stderr",
     "output_type": "stream",
     "text": [
      "\u001b[34m\u001b[1mwandb\u001b[0m:   1 of 1 files downloaded.  \n"
     ]
    },
    {
     "name": "stdout",
     "output_type": "stream",
     "text": [
      "2025-04-19 22:58:48,600 - INFO - Downloaded logs_pj12q40a:v0 to /scratch/downloaded_artifacts/logs_pj12q40a:v0\n"
     ]
    },
    {
     "name": "stderr",
     "output_type": "stream",
     "text": [
      "\u001b[34m\u001b[1mwandb\u001b[0m:   1 of 1 files downloaded.  \n"
     ]
    },
    {
     "name": "stdout",
     "output_type": "stream",
     "text": [
      "2025-04-19 22:58:48,652 - INFO - Downloaded logs_hfe0n455:v0 to /scratch/downloaded_artifacts/logs_hfe0n455:v0\n"
     ]
    },
    {
     "name": "stderr",
     "output_type": "stream",
     "text": [
      "\u001b[34m\u001b[1mwandb\u001b[0m:   1 of 1 files downloaded.  \n",
      "\u001b[34m\u001b[1mwandb\u001b[0m:   1 of 1 files downloaded.  \n"
     ]
    },
    {
     "name": "stdout",
     "output_type": "stream",
     "text": [
      "2025-04-19 22:58:48,684 - INFO - Downloaded logs_y9epag9j:v0 to /scratch/downloaded_artifacts/logs_y9epag9j:v0\n",
      "2025-04-19 22:58:48,687 - INFO - Downloaded logs_umew7o6i:v0 to /scratch/downloaded_artifacts/logs_umew7o6i:v0\n"
     ]
    },
    {
     "name": "stderr",
     "output_type": "stream",
     "text": [
      "\u001b[34m\u001b[1mwandb\u001b[0m:   1 of 1 files downloaded.  \n"
     ]
    },
    {
     "name": "stdout",
     "output_type": "stream",
     "text": [
      "2025-04-19 22:58:48,822 - INFO - Downloaded logs_ik1s080a:v0 to /scratch/downloaded_artifacts/logs_ik1s080a:v0\n"
     ]
    },
    {
     "name": "stderr",
     "output_type": "stream",
     "text": [
      "\u001b[34m\u001b[1mwandb\u001b[0m:   1 of 1 files downloaded.  \n"
     ]
    },
    {
     "name": "stdout",
     "output_type": "stream",
     "text": [
      "2025-04-19 22:58:48,841 - INFO - Downloaded logs_wamsxhaz:v0 to /scratch/downloaded_artifacts/logs_wamsxhaz:v0\n"
     ]
    },
    {
     "name": "stderr",
     "output_type": "stream",
     "text": [
      "\u001b[34m\u001b[1mwandb\u001b[0m:   1 of 1 files downloaded.  \n"
     ]
    },
    {
     "name": "stdout",
     "output_type": "stream",
     "text": [
      "2025-04-19 22:58:48,878 - INFO - Downloaded logs_mt3pbrwa:v0 to /scratch/downloaded_artifacts/logs_mt3pbrwa:v0\n"
     ]
    },
    {
     "name": "stderr",
     "output_type": "stream",
     "text": [
      "\u001b[34m\u001b[1mwandb\u001b[0m:   1 of 1 files downloaded.  \n"
     ]
    },
    {
     "name": "stdout",
     "output_type": "stream",
     "text": [
      "2025-04-19 22:58:49,073 - INFO - Downloaded logs_jhfkkq5t:v0 to /scratch/downloaded_artifacts/logs_jhfkkq5t:v0\n"
     ]
    },
    {
     "name": "stderr",
     "output_type": "stream",
     "text": [
      "\u001b[34m\u001b[1mwandb\u001b[0m:   1 of 1 files downloaded.  \n"
     ]
    },
    {
     "name": "stdout",
     "output_type": "stream",
     "text": [
      "2025-04-19 22:58:49,145 - INFO - Downloaded logs_rwjxk4ve:v0 to /scratch/downloaded_artifacts/logs_rwjxk4ve:v0\n"
     ]
    },
    {
     "name": "stderr",
     "output_type": "stream",
     "text": [
      "\u001b[34m\u001b[1mwandb\u001b[0m:   1 of 1 files downloaded.  \n"
     ]
    },
    {
     "name": "stdout",
     "output_type": "stream",
     "text": [
      "2025-04-19 22:58:49,252 - INFO - Downloaded logs_twx55elu:v0 to /scratch/downloaded_artifacts/logs_twx55elu:v0\n"
     ]
    },
    {
     "name": "stderr",
     "output_type": "stream",
     "text": [
      "\u001b[34m\u001b[1mwandb\u001b[0m:   1 of 1 files downloaded.  \n"
     ]
    },
    {
     "name": "stdout",
     "output_type": "stream",
     "text": [
      "2025-04-19 22:58:49,287 - INFO - Downloaded logs_1xkplnvf:v0 to /scratch/downloaded_artifacts/logs_1xkplnvf:v0\n"
     ]
    },
    {
     "name": "stderr",
     "output_type": "stream",
     "text": [
      "\u001b[34m\u001b[1mwandb\u001b[0m:   1 of 1 files downloaded.  \n"
     ]
    },
    {
     "name": "stdout",
     "output_type": "stream",
     "text": [
      "2025-04-19 22:58:49,362 - INFO - Downloaded logs_6zfj3yw0:v0 to /scratch/downloaded_artifacts/logs_6zfj3yw0:v0\n"
     ]
    },
    {
     "name": "stderr",
     "output_type": "stream",
     "text": [
      "\u001b[34m\u001b[1mwandb\u001b[0m:   1 of 1 files downloaded.  \n"
     ]
    },
    {
     "name": "stdout",
     "output_type": "stream",
     "text": [
      "2025-04-19 22:58:49,369 - INFO - Downloaded logs_1zxi6p8d:v0 to /scratch/downloaded_artifacts/logs_1zxi6p8d:v0\n"
     ]
    },
    {
     "name": "stderr",
     "output_type": "stream",
     "text": [
      "\u001b[34m\u001b[1mwandb\u001b[0m:   1 of 1 files downloaded.  \n"
     ]
    },
    {
     "name": "stdout",
     "output_type": "stream",
     "text": [
      "2025-04-19 22:58:49,693 - INFO - Downloaded logs_lqw54gcd:v0 to /scratch/downloaded_artifacts/logs_lqw54gcd:v0\n"
     ]
    },
    {
     "name": "stderr",
     "output_type": "stream",
     "text": [
      "\u001b[34m\u001b[1mwandb\u001b[0m:   1 of 1 files downloaded.  \n"
     ]
    },
    {
     "name": "stdout",
     "output_type": "stream",
     "text": [
      "2025-04-19 22:58:49,759 - INFO - Downloaded logs_xfl3fboj:v0 to /scratch/downloaded_artifacts/logs_xfl3fboj:v0\n"
     ]
    },
    {
     "name": "stderr",
     "output_type": "stream",
     "text": [
      "\u001b[34m\u001b[1mwandb\u001b[0m:   1 of 1 files downloaded.  \n"
     ]
    },
    {
     "name": "stdout",
     "output_type": "stream",
     "text": [
      "2025-04-19 22:58:49,796 - INFO - Downloaded logs_6durjhpj:v0 to /scratch/downloaded_artifacts/logs_6durjhpj:v0\n"
     ]
    },
    {
     "name": "stderr",
     "output_type": "stream",
     "text": [
      "\u001b[34m\u001b[1mwandb\u001b[0m:   1 of 1 files downloaded.  \n"
     ]
    },
    {
     "name": "stdout",
     "output_type": "stream",
     "text": [
      "2025-04-19 22:58:50,066 - INFO - Downloaded logs_lr6y09c7:v0 to /scratch/downloaded_artifacts/logs_lr6y09c7:v0\n"
     ]
    },
    {
     "name": "stderr",
     "output_type": "stream",
     "text": [
      "\u001b[34m\u001b[1mwandb\u001b[0m:   1 of 1 files downloaded.  \n"
     ]
    },
    {
     "name": "stdout",
     "output_type": "stream",
     "text": [
      "2025-04-19 22:58:50,170 - INFO - Downloaded logs_qkqcruib:v0 to /scratch/downloaded_artifacts/logs_qkqcruib:v0\n"
     ]
    },
    {
     "name": "stderr",
     "output_type": "stream",
     "text": [
      "\u001b[34m\u001b[1mwandb\u001b[0m:   1 of 1 files downloaded.  \n"
     ]
    },
    {
     "name": "stdout",
     "output_type": "stream",
     "text": [
      "2025-04-19 22:58:50,214 - INFO - Downloaded logs_7n5dny9g:v0 to /scratch/downloaded_artifacts/logs_7n5dny9g:v0\n"
     ]
    },
    {
     "name": "stderr",
     "output_type": "stream",
     "text": [
      "\u001b[34m\u001b[1mwandb\u001b[0m:   1 of 1 files downloaded.  \n"
     ]
    },
    {
     "name": "stdout",
     "output_type": "stream",
     "text": [
      "2025-04-19 22:58:50,356 - INFO - Downloaded logs_2ebcaxn7:v0 to /scratch/downloaded_artifacts/logs_2ebcaxn7:v0\n"
     ]
    },
    {
     "name": "stderr",
     "output_type": "stream",
     "text": [
      "\u001b[34m\u001b[1mwandb\u001b[0m:   1 of 1 files downloaded.  \n"
     ]
    },
    {
     "name": "stdout",
     "output_type": "stream",
     "text": [
      "2025-04-19 22:58:50,502 - INFO - Downloaded logs_j1p9six9:v0 to /scratch/downloaded_artifacts/logs_j1p9six9:v0\n"
     ]
    },
    {
     "name": "stderr",
     "output_type": "stream",
     "text": [
      "\u001b[34m\u001b[1mwandb\u001b[0m:   1 of 1 files downloaded.  \n"
     ]
    },
    {
     "name": "stdout",
     "output_type": "stream",
     "text": [
      "2025-04-19 22:58:50,515 - INFO - Downloaded logs_q50rwivy:v0 to /scratch/downloaded_artifacts/logs_q50rwivy:v0\n"
     ]
    },
    {
     "name": "stderr",
     "output_type": "stream",
     "text": [
      "\u001b[34m\u001b[1mwandb\u001b[0m:   1 of 1 files downloaded.  \n"
     ]
    },
    {
     "name": "stdout",
     "output_type": "stream",
     "text": [
      "2025-04-19 22:58:50,545 - INFO - Downloaded logs_cxsb1v0r:v0 to /scratch/downloaded_artifacts/logs_cxsb1v0r:v0\n"
     ]
    },
    {
     "name": "stderr",
     "output_type": "stream",
     "text": [
      "\u001b[34m\u001b[1mwandb\u001b[0m:   1 of 1 files downloaded.  \n"
     ]
    },
    {
     "name": "stdout",
     "output_type": "stream",
     "text": [
      "2025-04-19 22:58:50,563 - INFO - Downloaded logs_vk2ix2ot:v0 to /scratch/downloaded_artifacts/logs_vk2ix2ot:v0\n"
     ]
    },
    {
     "name": "stderr",
     "output_type": "stream",
     "text": [
      "\u001b[34m\u001b[1mwandb\u001b[0m:   1 of 1 files downloaded.  \n"
     ]
    },
    {
     "name": "stdout",
     "output_type": "stream",
     "text": [
      "2025-04-19 22:58:50,788 - INFO - Downloaded logs_5zt470es:v0 to /scratch/downloaded_artifacts/logs_5zt470es:v0\n"
     ]
    },
    {
     "name": "stderr",
     "output_type": "stream",
     "text": [
      "\u001b[34m\u001b[1mwandb\u001b[0m:   1 of 1 files downloaded.  \n"
     ]
    },
    {
     "name": "stdout",
     "output_type": "stream",
     "text": [
      "2025-04-19 22:58:50,808 - INFO - Downloaded logs_3laumhna:v0 to /scratch/downloaded_artifacts/logs_3laumhna:v0\n"
     ]
    },
    {
     "name": "stderr",
     "output_type": "stream",
     "text": [
      "\u001b[34m\u001b[1mwandb\u001b[0m:   1 of 1 files downloaded.  \n"
     ]
    },
    {
     "name": "stdout",
     "output_type": "stream",
     "text": [
      "2025-04-19 22:58:50,874 - INFO - Downloaded logs_wwyqb3ji:v0 to /scratch/downloaded_artifacts/logs_wwyqb3ji:v0\n"
     ]
    },
    {
     "name": "stderr",
     "output_type": "stream",
     "text": [
      "\u001b[34m\u001b[1mwandb\u001b[0m:   1 of 1 files downloaded.  \n"
     ]
    },
    {
     "name": "stdout",
     "output_type": "stream",
     "text": [
      "2025-04-19 22:58:50,951 - INFO - Downloaded logs_nl3jochc:v0 to /scratch/downloaded_artifacts/logs_nl3jochc:v0\n"
     ]
    },
    {
     "name": "stderr",
     "output_type": "stream",
     "text": [
      "\u001b[34m\u001b[1mwandb\u001b[0m:   1 of 1 files downloaded.  \n"
     ]
    },
    {
     "name": "stdout",
     "output_type": "stream",
     "text": [
      "2025-04-19 22:58:51,071 - INFO - Downloaded logs_o72e9ijo:v0 to /scratch/downloaded_artifacts/logs_o72e9ijo:v0\n"
     ]
    },
    {
     "name": "stderr",
     "output_type": "stream",
     "text": [
      "\u001b[34m\u001b[1mwandb\u001b[0m:   1 of 1 files downloaded.  \n"
     ]
    },
    {
     "name": "stdout",
     "output_type": "stream",
     "text": [
      "2025-04-19 22:58:51,236 - INFO - Downloaded logs_3mog8voy:v0 to /scratch/downloaded_artifacts/logs_3mog8voy:v0\n"
     ]
    },
    {
     "name": "stderr",
     "output_type": "stream",
     "text": [
      "\u001b[34m\u001b[1mwandb\u001b[0m:   1 of 1 files downloaded.  \n"
     ]
    },
    {
     "name": "stdout",
     "output_type": "stream",
     "text": [
      "2025-04-19 22:58:51,253 - INFO - Downloaded logs_0q3zeq4p:v0 to /scratch/downloaded_artifacts/logs_0q3zeq4p:v0\n"
     ]
    },
    {
     "name": "stderr",
     "output_type": "stream",
     "text": [
      "\u001b[34m\u001b[1mwandb\u001b[0m:   1 of 1 files downloaded.  \n"
     ]
    },
    {
     "name": "stdout",
     "output_type": "stream",
     "text": [
      "2025-04-19 22:58:51,308 - INFO - Downloaded logs_zu6p4alu:v0 to /scratch/downloaded_artifacts/logs_zu6p4alu:v0\n"
     ]
    },
    {
     "name": "stderr",
     "output_type": "stream",
     "text": [
      "\u001b[34m\u001b[1mwandb\u001b[0m:   1 of 1 files downloaded.  \n"
     ]
    },
    {
     "name": "stdout",
     "output_type": "stream",
     "text": [
      "2025-04-19 22:58:51,315 - INFO - Downloaded logs_po447ngx:v0 to /scratch/downloaded_artifacts/logs_po447ngx:v0\n"
     ]
    },
    {
     "name": "stderr",
     "output_type": "stream",
     "text": [
      "\u001b[34m\u001b[1mwandb\u001b[0m:   1 of 1 files downloaded.  \n"
     ]
    },
    {
     "name": "stdout",
     "output_type": "stream",
     "text": [
      "2025-04-19 22:58:51,441 - INFO - Downloaded logs_7g4lraa1:v0 to /scratch/downloaded_artifacts/logs_7g4lraa1:v0\n"
     ]
    },
    {
     "name": "stderr",
     "output_type": "stream",
     "text": [
      "\u001b[34m\u001b[1mwandb\u001b[0m:   1 of 1 files downloaded.  \n"
     ]
    },
    {
     "name": "stdout",
     "output_type": "stream",
     "text": [
      "2025-04-19 22:58:51,518 - INFO - Downloaded logs_7s9irgmv:v0 to /scratch/downloaded_artifacts/logs_7s9irgmv:v0\n"
     ]
    },
    {
     "name": "stderr",
     "output_type": "stream",
     "text": [
      "\u001b[34m\u001b[1mwandb\u001b[0m:   1 of 1 files downloaded.  \n"
     ]
    },
    {
     "name": "stdout",
     "output_type": "stream",
     "text": [
      "2025-04-19 22:58:51,615 - INFO - Downloaded logs_9h34h1ql:v0 to /scratch/downloaded_artifacts/logs_9h34h1ql:v0\n"
     ]
    },
    {
     "name": "stderr",
     "output_type": "stream",
     "text": [
      "\u001b[34m\u001b[1mwandb\u001b[0m:   1 of 1 files downloaded.  \n"
     ]
    },
    {
     "name": "stdout",
     "output_type": "stream",
     "text": [
      "2025-04-19 22:58:51,776 - INFO - Downloaded logs_ba5d1491:v0 to /scratch/downloaded_artifacts/logs_ba5d1491:v0\n"
     ]
    },
    {
     "name": "stderr",
     "output_type": "stream",
     "text": [
      "\u001b[34m\u001b[1mwandb\u001b[0m:   1 of 1 files downloaded.  \n"
     ]
    },
    {
     "name": "stdout",
     "output_type": "stream",
     "text": [
      "2025-04-19 22:58:51,843 - INFO - Downloaded logs_ewbm7i3n:v0 to /scratch/downloaded_artifacts/logs_ewbm7i3n:v0\n"
     ]
    },
    {
     "name": "stderr",
     "output_type": "stream",
     "text": [
      "\u001b[34m\u001b[1mwandb\u001b[0m:   1 of 1 files downloaded.  \n"
     ]
    },
    {
     "name": "stdout",
     "output_type": "stream",
     "text": [
      "2025-04-19 22:58:51,931 - INFO - Downloaded logs_gik9xcsu:v0 to /scratch/downloaded_artifacts/logs_gik9xcsu:v0\n"
     ]
    },
    {
     "name": "stderr",
     "output_type": "stream",
     "text": [
      "\u001b[34m\u001b[1mwandb\u001b[0m:   1 of 1 files downloaded.  \n"
     ]
    },
    {
     "name": "stdout",
     "output_type": "stream",
     "text": [
      "2025-04-19 22:58:52,173 - INFO - Downloaded logs_jrv1pmy9:v0 to /scratch/downloaded_artifacts/logs_jrv1pmy9:v0\n"
     ]
    },
    {
     "name": "stderr",
     "output_type": "stream",
     "text": [
      "\u001b[34m\u001b[1mwandb\u001b[0m:   1 of 1 files downloaded.  \n"
     ]
    },
    {
     "name": "stdout",
     "output_type": "stream",
     "text": [
      "2025-04-19 22:58:52,212 - INFO - Downloaded logs_zjjzl6ou:v0 to /scratch/downloaded_artifacts/logs_zjjzl6ou:v0\n"
     ]
    },
    {
     "name": "stderr",
     "output_type": "stream",
     "text": [
      "\u001b[34m\u001b[1mwandb\u001b[0m:   1 of 1 files downloaded.  \n"
     ]
    },
    {
     "name": "stdout",
     "output_type": "stream",
     "text": [
      "2025-04-19 22:58:52,236 - INFO - Downloaded logs_lyfjcjsd:v0 to /scratch/downloaded_artifacts/logs_lyfjcjsd:v0\n"
     ]
    },
    {
     "name": "stderr",
     "output_type": "stream",
     "text": [
      "\u001b[34m\u001b[1mwandb\u001b[0m:   1 of 1 files downloaded.  \n"
     ]
    },
    {
     "name": "stdout",
     "output_type": "stream",
     "text": [
      "2025-04-19 22:58:52,359 - INFO - Downloaded logs_zea6o6xv:v0 to /scratch/downloaded_artifacts/logs_zea6o6xv:v0\n"
     ]
    },
    {
     "name": "stderr",
     "output_type": "stream",
     "text": [
      "\u001b[34m\u001b[1mwandb\u001b[0m:   1 of 1 files downloaded.  \n"
     ]
    },
    {
     "name": "stdout",
     "output_type": "stream",
     "text": [
      "2025-04-19 22:58:52,378 - INFO - Downloaded logs_yc5nhmdc:v0 to /scratch/downloaded_artifacts/logs_yc5nhmdc:v0\n"
     ]
    },
    {
     "name": "stderr",
     "output_type": "stream",
     "text": [
      "\u001b[34m\u001b[1mwandb\u001b[0m:   1 of 1 files downloaded.  \n"
     ]
    },
    {
     "name": "stdout",
     "output_type": "stream",
     "text": [
      "2025-04-19 22:58:52,577 - INFO - Downloaded logs_dg1e1d3w:v0 to /scratch/downloaded_artifacts/logs_dg1e1d3w:v0\n"
     ]
    },
    {
     "name": "stderr",
     "output_type": "stream",
     "text": [
      "\u001b[34m\u001b[1mwandb\u001b[0m:   1 of 1 files downloaded.  \n"
     ]
    },
    {
     "name": "stdout",
     "output_type": "stream",
     "text": [
      "2025-04-19 22:58:52,613 - INFO - Downloaded logs_goe50gk9:v0 to /scratch/downloaded_artifacts/logs_goe50gk9:v0\n"
     ]
    },
    {
     "name": "stderr",
     "output_type": "stream",
     "text": [
      "\u001b[34m\u001b[1mwandb\u001b[0m:   1 of 1 files downloaded.  \n"
     ]
    },
    {
     "name": "stdout",
     "output_type": "stream",
     "text": [
      "2025-04-19 22:58:52,729 - INFO - Downloaded logs_gz0csplc:v0 to /scratch/downloaded_artifacts/logs_gz0csplc:v0\n"
     ]
    },
    {
     "name": "stderr",
     "output_type": "stream",
     "text": [
      "\u001b[34m\u001b[1mwandb\u001b[0m:   1 of 1 files downloaded.  \n"
     ]
    },
    {
     "name": "stdout",
     "output_type": "stream",
     "text": [
      "2025-04-19 22:58:52,828 - INFO - Downloaded logs_nnfdiqit:v0 to /scratch/downloaded_artifacts/logs_nnfdiqit:v0\n"
     ]
    },
    {
     "name": "stderr",
     "output_type": "stream",
     "text": [
      "\u001b[34m\u001b[1mwandb\u001b[0m:   1 of 1 files downloaded.  \n"
     ]
    },
    {
     "name": "stdout",
     "output_type": "stream",
     "text": [
      "2025-04-19 22:58:52,915 - INFO - Downloaded logs_ocoqt1lz:v0 to /scratch/downloaded_artifacts/logs_ocoqt1lz:v0\n"
     ]
    },
    {
     "name": "stderr",
     "output_type": "stream",
     "text": [
      "\u001b[34m\u001b[1mwandb\u001b[0m:   1 of 1 files downloaded.  \n",
      "\u001b[34m\u001b[1mwandb\u001b[0m:   1 of 1 files downloaded.  \n"
     ]
    },
    {
     "name": "stdout",
     "output_type": "stream",
     "text": [
      "2025-04-19 22:58:53,150 - INFO - Downloaded logs_kwktjl3e:v0 to /scratch/downloaded_artifacts/logs_kwktjl3e:v0\n",
      "2025-04-19 22:58:53,153 - INFO - Downloaded logs_v3eb05wk:v0 to /scratch/downloaded_artifacts/logs_v3eb05wk:v0\n"
     ]
    },
    {
     "name": "stderr",
     "output_type": "stream",
     "text": [
      "\u001b[34m\u001b[1mwandb\u001b[0m:   1 of 1 files downloaded.  \n"
     ]
    },
    {
     "name": "stdout",
     "output_type": "stream",
     "text": [
      "2025-04-19 22:58:53,247 - INFO - Downloaded logs_17k252ks:v0 to /scratch/downloaded_artifacts/logs_17k252ks:v0\n"
     ]
    },
    {
     "name": "stderr",
     "output_type": "stream",
     "text": [
      "\u001b[34m\u001b[1mwandb\u001b[0m:   1 of 1 files downloaded.  \n"
     ]
    },
    {
     "name": "stdout",
     "output_type": "stream",
     "text": [
      "2025-04-19 22:58:53,258 - INFO - Downloaded logs_udri3u28:v0 to /scratch/downloaded_artifacts/logs_udri3u28:v0\n"
     ]
    },
    {
     "name": "stderr",
     "output_type": "stream",
     "text": [
      "\u001b[34m\u001b[1mwandb\u001b[0m:   1 of 1 files downloaded.  \n"
     ]
    },
    {
     "name": "stdout",
     "output_type": "stream",
     "text": [
      "2025-04-19 22:58:53,449 - INFO - Downloaded logs_07sc74i4:v0 to /scratch/downloaded_artifacts/logs_07sc74i4:v0\n"
     ]
    },
    {
     "name": "stderr",
     "output_type": "stream",
     "text": [
      "\u001b[34m\u001b[1mwandb\u001b[0m:   1 of 1 files downloaded.  \n"
     ]
    },
    {
     "name": "stdout",
     "output_type": "stream",
     "text": [
      "2025-04-19 22:58:53,514 - INFO - Downloaded logs_53z3fde0:v0 to /scratch/downloaded_artifacts/logs_53z3fde0:v0\n"
     ]
    },
    {
     "name": "stderr",
     "output_type": "stream",
     "text": [
      "\u001b[34m\u001b[1mwandb\u001b[0m:   1 of 1 files downloaded.  \n"
     ]
    },
    {
     "name": "stdout",
     "output_type": "stream",
     "text": [
      "2025-04-19 22:58:53,530 - INFO - Downloaded logs_8gujih76:v0 to /scratch/downloaded_artifacts/logs_8gujih76:v0\n"
     ]
    },
    {
     "name": "stderr",
     "output_type": "stream",
     "text": [
      "\u001b[34m\u001b[1mwandb\u001b[0m:   1 of 1 files downloaded.  \n"
     ]
    },
    {
     "name": "stdout",
     "output_type": "stream",
     "text": [
      "2025-04-19 22:58:53,774 - INFO - Downloaded logs_qo5wzptk:v0 to /scratch/downloaded_artifacts/logs_qo5wzptk:v0\n"
     ]
    },
    {
     "name": "stderr",
     "output_type": "stream",
     "text": [
      "\u001b[34m\u001b[1mwandb\u001b[0m:   1 of 1 files downloaded.  \n"
     ]
    },
    {
     "name": "stdout",
     "output_type": "stream",
     "text": [
      "2025-04-19 22:58:53,871 - INFO - Downloaded logs_tcko6km4:v0 to /scratch/downloaded_artifacts/logs_tcko6km4:v0\n"
     ]
    },
    {
     "name": "stderr",
     "output_type": "stream",
     "text": [
      "\u001b[34m\u001b[1mwandb\u001b[0m:   1 of 1 files downloaded.  \n"
     ]
    },
    {
     "name": "stdout",
     "output_type": "stream",
     "text": [
      "2025-04-19 22:58:53,876 - INFO - Downloaded logs_ixua03ck:v0 to /scratch/downloaded_artifacts/logs_ixua03ck:v0\n"
     ]
    },
    {
     "name": "stderr",
     "output_type": "stream",
     "text": [
      "\u001b[34m\u001b[1mwandb\u001b[0m:   1 of 1 files downloaded.  \n"
     ]
    },
    {
     "name": "stdout",
     "output_type": "stream",
     "text": [
      "2025-04-19 22:58:54,106 - INFO - Downloaded logs_vbgihd3r:v0 to /scratch/downloaded_artifacts/logs_vbgihd3r:v0\n"
     ]
    },
    {
     "name": "stderr",
     "output_type": "stream",
     "text": [
      "\u001b[34m\u001b[1mwandb\u001b[0m:   1 of 1 files downloaded.  \n",
      "\u001b[34m\u001b[1mwandb\u001b[0m:   1 of 1 files downloaded.  \n"
     ]
    },
    {
     "name": "stdout",
     "output_type": "stream",
     "text": [
      "2025-04-19 22:58:54,122 - INFO - Downloaded logs_tqnmhz4e:v0 to /scratch/downloaded_artifacts/logs_tqnmhz4e:v0\n",
      "2025-04-19 22:58:54,124 - INFO - Downloaded logs_ogp9iwk6:v0 to /scratch/downloaded_artifacts/logs_ogp9iwk6:v0\n"
     ]
    },
    {
     "name": "stderr",
     "output_type": "stream",
     "text": [
      "\u001b[34m\u001b[1mwandb\u001b[0m:   1 of 1 files downloaded.  \n"
     ]
    },
    {
     "name": "stdout",
     "output_type": "stream",
     "text": [
      "2025-04-19 22:58:54,162 - INFO - Downloaded logs_wrng13tv:v0 to /scratch/downloaded_artifacts/logs_wrng13tv:v0\n"
     ]
    },
    {
     "name": "stderr",
     "output_type": "stream",
     "text": [
      "\u001b[34m\u001b[1mwandb\u001b[0m:   1 of 1 files downloaded.  \n"
     ]
    },
    {
     "name": "stdout",
     "output_type": "stream",
     "text": [
      "2025-04-19 22:58:54,325 - INFO - Downloaded logs_ym27632s:v0 to /scratch/downloaded_artifacts/logs_ym27632s:v0\n"
     ]
    },
    {
     "name": "stderr",
     "output_type": "stream",
     "text": [
      "\u001b[34m\u001b[1mwandb\u001b[0m:   1 of 1 files downloaded.  \n"
     ]
    },
    {
     "name": "stdout",
     "output_type": "stream",
     "text": [
      "2025-04-19 22:58:54,381 - INFO - Downloaded logs_2lewkqv5:v0 to /scratch/downloaded_artifacts/logs_2lewkqv5:v0\n"
     ]
    },
    {
     "name": "stderr",
     "output_type": "stream",
     "text": [
      "\u001b[34m\u001b[1mwandb\u001b[0m:   1 of 1 files downloaded.  \n"
     ]
    },
    {
     "name": "stdout",
     "output_type": "stream",
     "text": [
      "2025-04-19 22:58:54,427 - INFO - Downloaded logs_3o1qf86l:v0 to /scratch/downloaded_artifacts/logs_3o1qf86l:v0\n"
     ]
    },
    {
     "name": "stderr",
     "output_type": "stream",
     "text": [
      "\u001b[34m\u001b[1mwandb\u001b[0m:   1 of 1 files downloaded.  \n"
     ]
    },
    {
     "name": "stdout",
     "output_type": "stream",
     "text": [
      "2025-04-19 22:58:54,696 - INFO - Downloaded logs_64g9g5v1:v0 to /scratch/downloaded_artifacts/logs_64g9g5v1:v0\n"
     ]
    },
    {
     "name": "stderr",
     "output_type": "stream",
     "text": [
      "\u001b[34m\u001b[1mwandb\u001b[0m:   1 of 1 files downloaded.  \n"
     ]
    },
    {
     "name": "stdout",
     "output_type": "stream",
     "text": [
      "2025-04-19 22:58:54,703 - INFO - Downloaded logs_5n3bgefj:v0 to /scratch/downloaded_artifacts/logs_5n3bgefj:v0\n"
     ]
    },
    {
     "name": "stderr",
     "output_type": "stream",
     "text": [
      "\u001b[34m\u001b[1mwandb\u001b[0m:   1 of 1 files downloaded.  \n"
     ]
    },
    {
     "name": "stdout",
     "output_type": "stream",
     "text": [
      "2025-04-19 22:58:54,827 - INFO - Downloaded logs_62fvpvm4:v0 to /scratch/downloaded_artifacts/logs_62fvpvm4:v0\n"
     ]
    },
    {
     "name": "stderr",
     "output_type": "stream",
     "text": [
      "\u001b[34m\u001b[1mwandb\u001b[0m:   1 of 1 files downloaded.  \n"
     ]
    },
    {
     "name": "stdout",
     "output_type": "stream",
     "text": [
      "2025-04-19 22:58:54,940 - INFO - Downloaded logs_7etol2gr:v0 to /scratch/downloaded_artifacts/logs_7etol2gr:v0\n"
     ]
    },
    {
     "name": "stderr",
     "output_type": "stream",
     "text": [
      "\u001b[34m\u001b[1mwandb\u001b[0m:   1 of 1 files downloaded.  \n"
     ]
    },
    {
     "name": "stdout",
     "output_type": "stream",
     "text": [
      "2025-04-19 22:58:55,000 - INFO - Downloaded logs_6yew0cyi:v0 to /scratch/downloaded_artifacts/logs_6yew0cyi:v0\n"
     ]
    },
    {
     "name": "stderr",
     "output_type": "stream",
     "text": [
      "\u001b[34m\u001b[1mwandb\u001b[0m:   1 of 1 files downloaded.  \n"
     ]
    },
    {
     "name": "stdout",
     "output_type": "stream",
     "text": [
      "2025-04-19 22:58:55,069 - INFO - Downloaded logs_gbvm1yml:v0 to /scratch/downloaded_artifacts/logs_gbvm1yml:v0\n"
     ]
    },
    {
     "name": "stderr",
     "output_type": "stream",
     "text": [
      "\u001b[34m\u001b[1mwandb\u001b[0m:   1 of 1 files downloaded.  \n"
     ]
    },
    {
     "name": "stdout",
     "output_type": "stream",
     "text": [
      "2025-04-19 22:58:55,099 - INFO - Downloaded logs_kfzdwlwl:v0 to /scratch/downloaded_artifacts/logs_kfzdwlwl:v0\n"
     ]
    },
    {
     "name": "stderr",
     "output_type": "stream",
     "text": [
      "\u001b[34m\u001b[1mwandb\u001b[0m:   1 of 1 files downloaded.  \n"
     ]
    },
    {
     "name": "stdout",
     "output_type": "stream",
     "text": [
      "2025-04-19 22:58:55,285 - INFO - Downloaded logs_ldwd1j3d:v0 to /scratch/downloaded_artifacts/logs_ldwd1j3d:v0\n"
     ]
    },
    {
     "name": "stderr",
     "output_type": "stream",
     "text": [
      "\u001b[34m\u001b[1mwandb\u001b[0m:   1 of 1 files downloaded.  \n"
     ]
    },
    {
     "name": "stdout",
     "output_type": "stream",
     "text": [
      "2025-04-19 22:58:55,321 - INFO - Downloaded logs_pho28uxh:v0 to /scratch/downloaded_artifacts/logs_pho28uxh:v0\n"
     ]
    },
    {
     "name": "stderr",
     "output_type": "stream",
     "text": [
      "\u001b[34m\u001b[1mwandb\u001b[0m:   1 of 1 files downloaded.  \n"
     ]
    },
    {
     "name": "stdout",
     "output_type": "stream",
     "text": [
      "2025-04-19 22:58:55,406 - INFO - Downloaded logs_x4lcaz96:v0 to /scratch/downloaded_artifacts/logs_x4lcaz96:v0\n"
     ]
    },
    {
     "name": "stderr",
     "output_type": "stream",
     "text": [
      "\u001b[34m\u001b[1mwandb\u001b[0m:   1 of 1 files downloaded.  \n"
     ]
    },
    {
     "name": "stdout",
     "output_type": "stream",
     "text": [
      "2025-04-19 22:58:55,755 - INFO - Downloaded logs_ch8dksxy:v0 to /scratch/downloaded_artifacts/logs_ch8dksxy:v0\n"
     ]
    },
    {
     "name": "stderr",
     "output_type": "stream",
     "text": [
      "\u001b[34m\u001b[1mwandb\u001b[0m:   1 of 1 files downloaded.  \n"
     ]
    },
    {
     "name": "stdout",
     "output_type": "stream",
     "text": [
      "2025-04-19 22:58:55,773 - INFO - Downloaded logs_xg6dpbcv:v0 to /scratch/downloaded_artifacts/logs_xg6dpbcv:v0\n"
     ]
    },
    {
     "name": "stderr",
     "output_type": "stream",
     "text": [
      "\u001b[34m\u001b[1mwandb\u001b[0m:   1 of 1 files downloaded.  \n"
     ]
    },
    {
     "name": "stdout",
     "output_type": "stream",
     "text": [
      "2025-04-19 22:58:55,850 - INFO - Downloaded logs_5wn7u5zc:v0 to /scratch/downloaded_artifacts/logs_5wn7u5zc:v0\n"
     ]
    },
    {
     "name": "stderr",
     "output_type": "stream",
     "text": [
      "\u001b[34m\u001b[1mwandb\u001b[0m:   1 of 1 files downloaded.  \n"
     ]
    },
    {
     "name": "stdout",
     "output_type": "stream",
     "text": [
      "2025-04-19 22:58:55,952 - INFO - Downloaded logs_gutlepx1:v0 to /scratch/downloaded_artifacts/logs_gutlepx1:v0\n"
     ]
    },
    {
     "name": "stderr",
     "output_type": "stream",
     "text": [
      "\u001b[34m\u001b[1mwandb\u001b[0m:   1 of 1 files downloaded.  \n"
     ]
    },
    {
     "name": "stdout",
     "output_type": "stream",
     "text": [
      "2025-04-19 22:58:55,966 - INFO - Downloaded logs_ptxoj3v7:v0 to /scratch/downloaded_artifacts/logs_ptxoj3v7:v0\n"
     ]
    },
    {
     "name": "stderr",
     "output_type": "stream",
     "text": [
      "\u001b[34m\u001b[1mwandb\u001b[0m:   1 of 1 files downloaded.  \n"
     ]
    },
    {
     "name": "stdout",
     "output_type": "stream",
     "text": [
      "2025-04-19 22:58:56,040 - INFO - Downloaded logs_zvt4mebx:v0 to /scratch/downloaded_artifacts/logs_zvt4mebx:v0\n"
     ]
    },
    {
     "name": "stderr",
     "output_type": "stream",
     "text": [
      "\u001b[34m\u001b[1mwandb\u001b[0m:   1 of 1 files downloaded.  \n"
     ]
    },
    {
     "name": "stdout",
     "output_type": "stream",
     "text": [
      "2025-04-19 22:58:56,101 - INFO - Downloaded logs_8xld4a02:v0 to /scratch/downloaded_artifacts/logs_8xld4a02:v0\n"
     ]
    },
    {
     "name": "stderr",
     "output_type": "stream",
     "text": [
      "\u001b[34m\u001b[1mwandb\u001b[0m:   1 of 1 files downloaded.  \n"
     ]
    },
    {
     "name": "stdout",
     "output_type": "stream",
     "text": [
      "2025-04-19 22:58:56,247 - INFO - Downloaded logs_9xo1yy9l:v0 to /scratch/downloaded_artifacts/logs_9xo1yy9l:v0\n"
     ]
    },
    {
     "name": "stderr",
     "output_type": "stream",
     "text": [
      "\u001b[34m\u001b[1mwandb\u001b[0m:   1 of 1 files downloaded.  \n"
     ]
    },
    {
     "name": "stdout",
     "output_type": "stream",
     "text": [
      "2025-04-19 22:58:56,280 - INFO - Downloaded logs_lset380i:v0 to /scratch/downloaded_artifacts/logs_lset380i:v0\n"
     ]
    },
    {
     "name": "stderr",
     "output_type": "stream",
     "text": [
      "\u001b[34m\u001b[1mwandb\u001b[0m:   1 of 1 files downloaded.  \n",
      "\u001b[34m\u001b[1mwandb\u001b[0m:   1 of 1 files downloaded.  \n"
     ]
    },
    {
     "name": "stdout",
     "output_type": "stream",
     "text": [
      "2025-04-19 22:58:56,550 - INFO - Downloaded logs_dxfe3bsa:v0 to /scratch/downloaded_artifacts/logs_dxfe3bsa:v0\n",
      "2025-04-19 22:58:56,552 - INFO - Downloaded logs_6przv9k4:v0 to /scratch/downloaded_artifacts/logs_6przv9k4:v0\n"
     ]
    },
    {
     "name": "stderr",
     "output_type": "stream",
     "text": [
      "\u001b[34m\u001b[1mwandb\u001b[0m:   1 of 1 files downloaded.  \n"
     ]
    },
    {
     "name": "stdout",
     "output_type": "stream",
     "text": [
      "2025-04-19 22:58:56,614 - INFO - Downloaded logs_mgiet9u1:v0 to /scratch/downloaded_artifacts/logs_mgiet9u1:v0\n"
     ]
    },
    {
     "name": "stderr",
     "output_type": "stream",
     "text": [
      "\u001b[34m\u001b[1mwandb\u001b[0m:   1 of 1 files downloaded.  \n"
     ]
    },
    {
     "name": "stdout",
     "output_type": "stream",
     "text": [
      "2025-04-19 22:58:56,640 - INFO - Downloaded logs_mmspsy1d:v0 to /scratch/downloaded_artifacts/logs_mmspsy1d:v0\n"
     ]
    },
    {
     "name": "stderr",
     "output_type": "stream",
     "text": [
      "\u001b[34m\u001b[1mwandb\u001b[0m:   1 of 1 files downloaded.  \n"
     ]
    },
    {
     "name": "stdout",
     "output_type": "stream",
     "text": [
      "2025-04-19 22:58:56,865 - INFO - Downloaded logs_o68lccj9:v0 to /scratch/downloaded_artifacts/logs_o68lccj9:v0\n"
     ]
    },
    {
     "name": "stderr",
     "output_type": "stream",
     "text": [
      "\u001b[34m\u001b[1mwandb\u001b[0m:   1 of 1 files downloaded.  \n"
     ]
    },
    {
     "name": "stdout",
     "output_type": "stream",
     "text": [
      "2025-04-19 22:58:56,868 - INFO - Downloaded logs_8f93izkm:v0 to /scratch/downloaded_artifacts/logs_8f93izkm:v0\n"
     ]
    },
    {
     "name": "stderr",
     "output_type": "stream",
     "text": [
      "\u001b[34m\u001b[1mwandb\u001b[0m:   1 of 1 files downloaded.  \n"
     ]
    },
    {
     "name": "stdout",
     "output_type": "stream",
     "text": [
      "2025-04-19 22:58:56,953 - INFO - Downloaded logs_ruerk0u3:v0 to /scratch/downloaded_artifacts/logs_ruerk0u3:v0\n"
     ]
    },
    {
     "name": "stderr",
     "output_type": "stream",
     "text": [
      "\u001b[34m\u001b[1mwandb\u001b[0m:   1 of 1 files downloaded.  \n"
     ]
    },
    {
     "name": "stdout",
     "output_type": "stream",
     "text": [
      "2025-04-19 22:58:57,001 - INFO - Downloaded logs_8xv5j16v:v0 to /scratch/downloaded_artifacts/logs_8xv5j16v:v0\n"
     ]
    },
    {
     "name": "stderr",
     "output_type": "stream",
     "text": [
      "\u001b[34m\u001b[1mwandb\u001b[0m:   1 of 1 files downloaded.  \n"
     ]
    },
    {
     "name": "stdout",
     "output_type": "stream",
     "text": [
      "2025-04-19 22:58:57,128 - INFO - Downloaded logs_awzv44ox:v0 to /scratch/downloaded_artifacts/logs_awzv44ox:v0\n"
     ]
    },
    {
     "name": "stderr",
     "output_type": "stream",
     "text": [
      "\u001b[34m\u001b[1mwandb\u001b[0m:   1 of 1 files downloaded.  \n"
     ]
    },
    {
     "name": "stdout",
     "output_type": "stream",
     "text": [
      "2025-04-19 22:58:57,142 - INFO - Downloaded logs_9pni9r9p:v0 to /scratch/downloaded_artifacts/logs_9pni9r9p:v0\n"
     ]
    },
    {
     "name": "stderr",
     "output_type": "stream",
     "text": [
      "\u001b[34m\u001b[1mwandb\u001b[0m:   1 of 1 files downloaded.  \n"
     ]
    },
    {
     "name": "stdout",
     "output_type": "stream",
     "text": [
      "2025-04-19 22:58:57,227 - INFO - Downloaded logs_b8tlia3b:v0 to /scratch/downloaded_artifacts/logs_b8tlia3b:v0\n"
     ]
    },
    {
     "name": "stderr",
     "output_type": "stream",
     "text": [
      "\u001b[34m\u001b[1mwandb\u001b[0m: \u001b[32m\u001b[41mERROR\u001b[0m Error while calling W&B API: rate limit exceeded (<Response [429]>)\n",
      "\u001b[34m\u001b[1mwandb\u001b[0m: \u001b[32m\u001b[41mERROR\u001b[0m Error while calling W&B API: rate limit exceeded (<Response [429]>)\n",
      "\u001b[34m\u001b[1mwandb\u001b[0m: \u001b[32m\u001b[41mERROR\u001b[0m Error while calling W&B API: rate limit exceeded (<Response [429]>)\n",
      "\u001b[34m\u001b[1mwandb\u001b[0m: \u001b[32m\u001b[41mERROR\u001b[0m Error while calling W&B API: rate limit exceeded (<Response [429]>)\n",
      "\u001b[34m\u001b[1mwandb\u001b[0m:   1 of 1 files downloaded.  \n"
     ]
    },
    {
     "name": "stdout",
     "output_type": "stream",
     "text": [
      "2025-04-19 22:58:57,433 - INFO - Downloaded logs_geu53aqw:v0 to /scratch/downloaded_artifacts/logs_geu53aqw:v0\n"
     ]
    },
    {
     "name": "stderr",
     "output_type": "stream",
     "text": [
      "\u001b[34m\u001b[1mwandb\u001b[0m: \u001b[32m\u001b[41mERROR\u001b[0m Error while calling W&B API: rate limit exceeded (<Response [429]>)\n",
      "\u001b[34m\u001b[1mwandb\u001b[0m: \u001b[32m\u001b[41mERROR\u001b[0m Error while calling W&B API: rate limit exceeded (<Response [429]>)\n",
      "\u001b[34m\u001b[1mwandb\u001b[0m:   1 of 1 files downloaded.  \n"
     ]
    },
    {
     "name": "stdout",
     "output_type": "stream",
     "text": [
      "2025-04-19 22:58:57,553 - INFO - Downloaded logs_kpo4r20p:v0 to /scratch/downloaded_artifacts/logs_kpo4r20p:v0\n"
     ]
    },
    {
     "name": "stderr",
     "output_type": "stream",
     "text": [
      "\u001b[34m\u001b[1mwandb\u001b[0m:   1 of 1 files downloaded.  \n"
     ]
    },
    {
     "name": "stdout",
     "output_type": "stream",
     "text": [
      "2025-04-19 22:58:57,604 - INFO - Downloaded logs_m75sb2nd:v0 to /scratch/downloaded_artifacts/logs_m75sb2nd:v0\n"
     ]
    },
    {
     "name": "stderr",
     "output_type": "stream",
     "text": [
      "\u001b[34m\u001b[1mwandb\u001b[0m:   1 of 1 files downloaded.  \n"
     ]
    },
    {
     "name": "stdout",
     "output_type": "stream",
     "text": [
      "2025-04-19 22:58:57,657 - INFO - Downloaded logs_rz0ljr8z:v0 to /scratch/downloaded_artifacts/logs_rz0ljr8z:v0\n"
     ]
    },
    {
     "name": "stderr",
     "output_type": "stream",
     "text": [
      "\u001b[34m\u001b[1mwandb\u001b[0m:   1 of 1 files downloaded.  \n"
     ]
    },
    {
     "name": "stdout",
     "output_type": "stream",
     "text": [
      "2025-04-19 22:58:57,747 - INFO - Downloaded logs_30zrftmu:v0 to /scratch/downloaded_artifacts/logs_30zrftmu:v0\n"
     ]
    },
    {
     "name": "stderr",
     "output_type": "stream",
     "text": [
      "\u001b[34m\u001b[1mwandb\u001b[0m:   1 of 1 files downloaded.  \n"
     ]
    },
    {
     "name": "stdout",
     "output_type": "stream",
     "text": [
      "2025-04-19 22:58:57,759 - INFO - Downloaded logs_z3zkn29d:v0 to /scratch/downloaded_artifacts/logs_z3zkn29d:v0\n"
     ]
    },
    {
     "name": "stderr",
     "output_type": "stream",
     "text": [
      "\u001b[34m\u001b[1mwandb\u001b[0m:   1 of 1 files downloaded.  \n"
     ]
    },
    {
     "name": "stdout",
     "output_type": "stream",
     "text": [
      "2025-04-19 22:58:57,808 - INFO - Downloaded logs_zpd1jkdh:v0 to /scratch/downloaded_artifacts/logs_zpd1jkdh:v0\n"
     ]
    },
    {
     "name": "stderr",
     "output_type": "stream",
     "text": [
      "\u001b[34m\u001b[1mwandb\u001b[0m:   1 of 1 files downloaded.  \n"
     ]
    },
    {
     "name": "stdout",
     "output_type": "stream",
     "text": [
      "2025-04-19 22:58:57,876 - INFO - Downloaded logs_40iovyvi:v0 to /scratch/downloaded_artifacts/logs_40iovyvi:v0\n"
     ]
    },
    {
     "name": "stderr",
     "output_type": "stream",
     "text": [
      "\u001b[34m\u001b[1mwandb\u001b[0m:   1 of 1 files downloaded.  \n"
     ]
    },
    {
     "name": "stdout",
     "output_type": "stream",
     "text": [
      "2025-04-19 22:58:57,954 - INFO - Downloaded logs_5m5uyvml:v0 to /scratch/downloaded_artifacts/logs_5m5uyvml:v0\n"
     ]
    },
    {
     "name": "stderr",
     "output_type": "stream",
     "text": [
      "\u001b[34m\u001b[1mwandb\u001b[0m:   1 of 1 files downloaded.  \n"
     ]
    },
    {
     "name": "stdout",
     "output_type": "stream",
     "text": [
      "2025-04-19 22:58:57,967 - INFO - Downloaded logs_8tcednfp:v0 to /scratch/downloaded_artifacts/logs_8tcednfp:v0\n"
     ]
    },
    {
     "name": "stderr",
     "output_type": "stream",
     "text": [
      "\u001b[34m\u001b[1mwandb\u001b[0m:   1 of 1 files downloaded.  \n"
     ]
    },
    {
     "name": "stdout",
     "output_type": "stream",
     "text": [
      "2025-04-19 22:58:58,055 - INFO - Downloaded logs_brv52fus:v0 to /scratch/downloaded_artifacts/logs_brv52fus:v0\n"
     ]
    },
    {
     "name": "stderr",
     "output_type": "stream",
     "text": [
      "\u001b[34m\u001b[1mwandb\u001b[0m:   1 of 1 files downloaded.  \n"
     ]
    },
    {
     "name": "stdout",
     "output_type": "stream",
     "text": [
      "2025-04-19 22:58:58,100 - INFO - Downloaded logs_aaa8a1dm:v0 to /scratch/downloaded_artifacts/logs_aaa8a1dm:v0\n"
     ]
    },
    {
     "name": "stderr",
     "output_type": "stream",
     "text": [
      "\u001b[34m\u001b[1mwandb\u001b[0m:   1 of 1 files downloaded.  \n"
     ]
    },
    {
     "name": "stdout",
     "output_type": "stream",
     "text": [
      "2025-04-19 22:58:58,188 - INFO - Downloaded logs_kammmf9w:v0 to /scratch/downloaded_artifacts/logs_kammmf9w:v0\n"
     ]
    },
    {
     "name": "stderr",
     "output_type": "stream",
     "text": [
      "\u001b[34m\u001b[1mwandb\u001b[0m: \u001b[32m\u001b[41mERROR\u001b[0m Error while calling W&B API: rate limit exceeded (<Response [429]>)\n",
      "\u001b[34m\u001b[1mwandb\u001b[0m: \u001b[32m\u001b[41mERROR\u001b[0m Error while calling W&B API: rate limit exceeded (<Response [429]>)\n",
      "\u001b[34m\u001b[1mwandb\u001b[0m: \u001b[32m\u001b[41mERROR\u001b[0m Error while calling W&B API: rate limit exceeded (<Response [429]>)\n",
      "\u001b[34m\u001b[1mwandb\u001b[0m: \u001b[32m\u001b[41mERROR\u001b[0m Error while calling W&B API: rate limit exceeded (<Response [429]>)\n",
      "\u001b[34m\u001b[1mwandb\u001b[0m: \u001b[32m\u001b[41mERROR\u001b[0m Error while calling W&B API: rate limit exceeded (<Response [429]>)\n",
      "\u001b[34m\u001b[1mwandb\u001b[0m: Network error (HTTPError), entering retry loop.\n",
      "\u001b[34m\u001b[1mwandb\u001b[0m: \u001b[32m\u001b[41mERROR\u001b[0m Error while calling W&B API: rate limit exceeded (<Response [429]>)\n",
      "\u001b[34m\u001b[1mwandb\u001b[0m:   1 of 1 files downloaded.  \n"
     ]
    },
    {
     "name": "stdout",
     "output_type": "stream",
     "text": [
      "2025-04-19 22:59:01,851 - INFO - Downloaded logs_mhkcrfot:v0 to /scratch/downloaded_artifacts/logs_mhkcrfot:v0\n"
     ]
    },
    {
     "name": "stderr",
     "output_type": "stream",
     "text": [
      "\u001b[34m\u001b[1mwandb\u001b[0m:   1 of 1 files downloaded.  \n"
     ]
    },
    {
     "name": "stdout",
     "output_type": "stream",
     "text": [
      "2025-04-19 22:59:01,947 - INFO - Downloaded logs_o7h217zz:v0 to /scratch/downloaded_artifacts/logs_o7h217zz:v0\n"
     ]
    },
    {
     "name": "stderr",
     "output_type": "stream",
     "text": [
      "\u001b[34m\u001b[1mwandb\u001b[0m:   1 of 1 files downloaded.  \n"
     ]
    },
    {
     "name": "stdout",
     "output_type": "stream",
     "text": [
      "2025-04-19 22:59:02,116 - INFO - Downloaded logs_b0vatm7a:v0 to /scratch/downloaded_artifacts/logs_b0vatm7a:v0\n"
     ]
    },
    {
     "name": "stderr",
     "output_type": "stream",
     "text": [
      "\u001b[34m\u001b[1mwandb\u001b[0m:   1 of 1 files downloaded.  \n"
     ]
    },
    {
     "name": "stdout",
     "output_type": "stream",
     "text": [
      "2025-04-19 22:59:02,156 - INFO - Downloaded logs_vel7yrgb:v0 to /scratch/downloaded_artifacts/logs_vel7yrgb:v0\n"
     ]
    },
    {
     "name": "stderr",
     "output_type": "stream",
     "text": [
      "\u001b[34m\u001b[1mwandb\u001b[0m:   1 of 1 files downloaded.  \n"
     ]
    },
    {
     "name": "stdout",
     "output_type": "stream",
     "text": [
      "2025-04-19 22:59:02,201 - INFO - Downloaded logs_wk7yq4qj:v0 to /scratch/downloaded_artifacts/logs_wk7yq4qj:v0\n"
     ]
    },
    {
     "name": "stderr",
     "output_type": "stream",
     "text": [
      "\u001b[34m\u001b[1mwandb\u001b[0m:   1 of 1 files downloaded.  \n"
     ]
    },
    {
     "name": "stdout",
     "output_type": "stream",
     "text": [
      "2025-04-19 22:59:02,205 - INFO - Downloaded logs_pqemo85o:v0 to /scratch/downloaded_artifacts/logs_pqemo85o:v0\n"
     ]
    },
    {
     "name": "stderr",
     "output_type": "stream",
     "text": [
      "\u001b[34m\u001b[1mwandb\u001b[0m:   1 of 1 files downloaded.  \n"
     ]
    },
    {
     "name": "stdout",
     "output_type": "stream",
     "text": [
      "2025-04-19 22:59:02,246 - INFO - Downloaded logs_6n52ao55:v0 to /scratch/downloaded_artifacts/logs_6n52ao55:v0\n"
     ]
    },
    {
     "name": "stderr",
     "output_type": "stream",
     "text": [
      "\u001b[34m\u001b[1mwandb\u001b[0m:   1 of 1 files downloaded.  \n"
     ]
    },
    {
     "name": "stdout",
     "output_type": "stream",
     "text": [
      "2025-04-19 22:59:02,467 - INFO - Downloaded logs_3uu68il4:v0 to /scratch/downloaded_artifacts/logs_3uu68il4:v0\n"
     ]
    },
    {
     "name": "stderr",
     "output_type": "stream",
     "text": [
      "\u001b[34m\u001b[1mwandb\u001b[0m:   1 of 1 files downloaded.  \n"
     ]
    },
    {
     "name": "stdout",
     "output_type": "stream",
     "text": [
      "2025-04-19 22:59:02,777 - INFO - Downloaded logs_m1lsc0sr:v0 to /scratch/downloaded_artifacts/logs_m1lsc0sr:v0\n"
     ]
    },
    {
     "name": "stderr",
     "output_type": "stream",
     "text": [
      "\u001b[34m\u001b[1mwandb\u001b[0m:   1 of 1 files downloaded.  \n"
     ]
    },
    {
     "name": "stdout",
     "output_type": "stream",
     "text": [
      "2025-04-19 22:59:02,946 - INFO - Downloaded logs_0w2z7o0e:v0 to /scratch/downloaded_artifacts/logs_0w2z7o0e:v0\n"
     ]
    },
    {
     "name": "stderr",
     "output_type": "stream",
     "text": [
      "\u001b[34m\u001b[1mwandb\u001b[0m:   1 of 1 files downloaded.  \n"
     ]
    },
    {
     "name": "stdout",
     "output_type": "stream",
     "text": [
      "2025-04-19 22:59:02,955 - INFO - Downloaded logs_ndsnd1bz:v0 to /scratch/downloaded_artifacts/logs_ndsnd1bz:v0\n"
     ]
    },
    {
     "name": "stderr",
     "output_type": "stream",
     "text": [
      "\u001b[34m\u001b[1mwandb\u001b[0m:   1 of 1 files downloaded.  \n"
     ]
    },
    {
     "name": "stdout",
     "output_type": "stream",
     "text": [
      "2025-04-19 22:59:02,959 - INFO - Downloaded logs_xw1x3sk4:v0 to /scratch/downloaded_artifacts/logs_xw1x3sk4:v0\n"
     ]
    },
    {
     "name": "stderr",
     "output_type": "stream",
     "text": [
      "\u001b[34m\u001b[1mwandb\u001b[0m:   1 of 1 files downloaded.  \n"
     ]
    },
    {
     "name": "stdout",
     "output_type": "stream",
     "text": [
      "2025-04-19 22:59:02,973 - INFO - Downloaded logs_mpic02sy:v0 to /scratch/downloaded_artifacts/logs_mpic02sy:v0\n"
     ]
    },
    {
     "name": "stderr",
     "output_type": "stream",
     "text": [
      "\u001b[34m\u001b[1mwandb\u001b[0m:   1 of 1 files downloaded.  \n"
     ]
    },
    {
     "name": "stdout",
     "output_type": "stream",
     "text": [
      "2025-04-19 22:59:03,204 - INFO - Downloaded logs_5y3b38ax:v0 to /scratch/downloaded_artifacts/logs_5y3b38ax:v0\n"
     ]
    },
    {
     "name": "stderr",
     "output_type": "stream",
     "text": [
      "\u001b[34m\u001b[1mwandb\u001b[0m:   1 of 1 files downloaded.  \n"
     ]
    },
    {
     "name": "stdout",
     "output_type": "stream",
     "text": [
      "2025-04-19 22:59:03,216 - INFO - Downloaded logs_58z5p6zd:v0 to /scratch/downloaded_artifacts/logs_58z5p6zd:v0\n"
     ]
    },
    {
     "name": "stderr",
     "output_type": "stream",
     "text": [
      "\u001b[34m\u001b[1mwandb\u001b[0m:   1 of 1 files downloaded.  \n"
     ]
    },
    {
     "name": "stdout",
     "output_type": "stream",
     "text": [
      "2025-04-19 22:59:03,280 - INFO - Downloaded logs_vptv8gqu:v0 to /scratch/downloaded_artifacts/logs_vptv8gqu:v0\n"
     ]
    },
    {
     "name": "stderr",
     "output_type": "stream",
     "text": [
      "\u001b[34m\u001b[1mwandb\u001b[0m:   1 of 1 files downloaded.  \n"
     ]
    },
    {
     "name": "stdout",
     "output_type": "stream",
     "text": [
      "2025-04-19 22:59:03,301 - INFO - Downloaded logs_anp59pf2:v0 to /scratch/downloaded_artifacts/logs_anp59pf2:v0\n"
     ]
    },
    {
     "name": "stderr",
     "output_type": "stream",
     "text": [
      "\u001b[34m\u001b[1mwandb\u001b[0m:   1 of 1 files downloaded.  \n"
     ]
    },
    {
     "name": "stdout",
     "output_type": "stream",
     "text": [
      "2025-04-19 22:59:03,396 - INFO - Downloaded logs_6fplxrco:v0 to /scratch/downloaded_artifacts/logs_6fplxrco:v0\n"
     ]
    },
    {
     "name": "stderr",
     "output_type": "stream",
     "text": [
      "\u001b[34m\u001b[1mwandb\u001b[0m:   1 of 1 files downloaded.  \n"
     ]
    },
    {
     "name": "stdout",
     "output_type": "stream",
     "text": [
      "2025-04-19 22:59:03,463 - INFO - Downloaded logs_vm5h1xd1:v0 to /scratch/downloaded_artifacts/logs_vm5h1xd1:v0\n"
     ]
    },
    {
     "name": "stderr",
     "output_type": "stream",
     "text": [
      "\u001b[34m\u001b[1mwandb\u001b[0m:   1 of 1 files downloaded.  \n"
     ]
    },
    {
     "name": "stdout",
     "output_type": "stream",
     "text": [
      "2025-04-19 22:59:03,662 - INFO - Downloaded logs_rznbqilk:v0 to /scratch/downloaded_artifacts/logs_rznbqilk:v0\n"
     ]
    },
    {
     "name": "stderr",
     "output_type": "stream",
     "text": [
      "\u001b[34m\u001b[1mwandb\u001b[0m:   1 of 1 files downloaded.  \n"
     ]
    },
    {
     "name": "stdout",
     "output_type": "stream",
     "text": [
      "2025-04-19 22:59:03,834 - INFO - Downloaded logs_87fu9lo7:v0 to /scratch/downloaded_artifacts/logs_87fu9lo7:v0\n"
     ]
    },
    {
     "name": "stderr",
     "output_type": "stream",
     "text": [
      "\u001b[34m\u001b[1mwandb\u001b[0m:   1 of 1 files downloaded.  \n"
     ]
    },
    {
     "name": "stdout",
     "output_type": "stream",
     "text": [
      "2025-04-19 22:59:03,847 - INFO - Downloaded logs_9vdv2ww4:v0 to /scratch/downloaded_artifacts/logs_9vdv2ww4:v0\n"
     ]
    },
    {
     "name": "stderr",
     "output_type": "stream",
     "text": [
      "\u001b[34m\u001b[1mwandb\u001b[0m:   1 of 1 files downloaded.  \n"
     ]
    },
    {
     "name": "stdout",
     "output_type": "stream",
     "text": [
      "2025-04-19 22:59:03,983 - INFO - Downloaded logs_ad74iimo:v0 to /scratch/downloaded_artifacts/logs_ad74iimo:v0\n"
     ]
    },
    {
     "name": "stderr",
     "output_type": "stream",
     "text": [
      "\u001b[34m\u001b[1mwandb\u001b[0m:   1 of 1 files downloaded.  \n"
     ]
    },
    {
     "name": "stdout",
     "output_type": "stream",
     "text": [
      "2025-04-19 22:59:04,000 - INFO - Downloaded logs_cbog617l:v0 to /scratch/downloaded_artifacts/logs_cbog617l:v0\n"
     ]
    },
    {
     "name": "stderr",
     "output_type": "stream",
     "text": [
      "\u001b[34m\u001b[1mwandb\u001b[0m:   1 of 1 files downloaded.  \n"
     ]
    },
    {
     "name": "stdout",
     "output_type": "stream",
     "text": [
      "2025-04-19 22:59:04,055 - INFO - Downloaded logs_ixta0lik:v0 to /scratch/downloaded_artifacts/logs_ixta0lik:v0\n"
     ]
    },
    {
     "name": "stderr",
     "output_type": "stream",
     "text": [
      "\u001b[34m\u001b[1mwandb\u001b[0m:   1 of 1 files downloaded.  \n"
     ]
    },
    {
     "name": "stdout",
     "output_type": "stream",
     "text": [
      "2025-04-19 22:59:04,103 - INFO - Downloaded logs_jolsiamu:v0 to /scratch/downloaded_artifacts/logs_jolsiamu:v0\n"
     ]
    },
    {
     "name": "stderr",
     "output_type": "stream",
     "text": [
      "\u001b[34m\u001b[1mwandb\u001b[0m:   1 of 1 files downloaded.  \n"
     ]
    },
    {
     "name": "stdout",
     "output_type": "stream",
     "text": [
      "2025-04-19 22:59:04,212 - INFO - Downloaded logs_qhbznnt5:v0 to /scratch/downloaded_artifacts/logs_qhbznnt5:v0\n"
     ]
    },
    {
     "name": "stderr",
     "output_type": "stream",
     "text": [
      "\u001b[34m\u001b[1mwandb\u001b[0m:   1 of 1 files downloaded.  \n"
     ]
    },
    {
     "name": "stdout",
     "output_type": "stream",
     "text": [
      "2025-04-19 22:59:04,227 - INFO - Downloaded logs_o7vc7f7k:v0 to /scratch/downloaded_artifacts/logs_o7vc7f7k:v0\n"
     ]
    },
    {
     "name": "stderr",
     "output_type": "stream",
     "text": [
      "\u001b[34m\u001b[1mwandb\u001b[0m:   1 of 1 files downloaded.  \n"
     ]
    },
    {
     "name": "stdout",
     "output_type": "stream",
     "text": [
      "2025-04-19 22:59:04,479 - INFO - Downloaded logs_sv5y4y7u:v0 to /scratch/downloaded_artifacts/logs_sv5y4y7u:v0\n"
     ]
    },
    {
     "name": "stderr",
     "output_type": "stream",
     "text": [
      "\u001b[34m\u001b[1mwandb\u001b[0m:   1 of 1 files downloaded.  \n",
      "\u001b[34m\u001b[1mwandb\u001b[0m:   1 of 1 files downloaded.  \n"
     ]
    },
    {
     "name": "stdout",
     "output_type": "stream",
     "text": [
      "2025-04-19 22:59:04,761 - INFO - Downloaded logs_6z1qwfyt:v0 to /scratch/downloaded_artifacts/logs_6z1qwfyt:v0\n",
      "2025-04-19 22:59:04,763 - INFO - Downloaded logs_ei71jma1:v0 to /scratch/downloaded_artifacts/logs_ei71jma1:v0\n"
     ]
    },
    {
     "name": "stderr",
     "output_type": "stream",
     "text": [
      "\u001b[34m\u001b[1mwandb\u001b[0m:   1 of 1 files downloaded.  \n"
     ]
    },
    {
     "name": "stdout",
     "output_type": "stream",
     "text": [
      "2025-04-19 22:59:04,826 - INFO - Downloaded logs_u99gpj4b:v0 to /scratch/downloaded_artifacts/logs_u99gpj4b:v0\n"
     ]
    },
    {
     "name": "stderr",
     "output_type": "stream",
     "text": [
      "\u001b[34m\u001b[1mwandb\u001b[0m:   1 of 1 files downloaded.  \n"
     ]
    },
    {
     "name": "stdout",
     "output_type": "stream",
     "text": [
      "2025-04-19 22:59:04,836 - INFO - Downloaded logs_zcv3kneq:v0 to /scratch/downloaded_artifacts/logs_zcv3kneq:v0\n"
     ]
    },
    {
     "name": "stderr",
     "output_type": "stream",
     "text": [
      "\u001b[34m\u001b[1mwandb\u001b[0m:   1 of 1 files downloaded.  \n"
     ]
    },
    {
     "name": "stdout",
     "output_type": "stream",
     "text": [
      "2025-04-19 22:59:05,053 - INFO - Downloaded logs_esla6qlt:v0 to /scratch/downloaded_artifacts/logs_esla6qlt:v0\n"
     ]
    },
    {
     "name": "stderr",
     "output_type": "stream",
     "text": [
      "\u001b[34m\u001b[1mwandb\u001b[0m:   1 of 1 files downloaded.  \n"
     ]
    },
    {
     "name": "stdout",
     "output_type": "stream",
     "text": [
      "2025-04-19 22:59:05,090 - INFO - Downloaded logs_jy6trzqw:v0 to /scratch/downloaded_artifacts/logs_jy6trzqw:v0\n"
     ]
    },
    {
     "name": "stderr",
     "output_type": "stream",
     "text": [
      "\u001b[34m\u001b[1mwandb\u001b[0m:   1 of 1 files downloaded.  \n",
      "\u001b[34m\u001b[1mwandb\u001b[0m:   1 of 1 files downloaded.  \n"
     ]
    },
    {
     "name": "stdout",
     "output_type": "stream",
     "text": [
      "2025-04-19 22:59:05,192 - INFO - Downloaded logs_627pypwl:v0 to /scratch/downloaded_artifacts/logs_627pypwl:v0\n",
      "2025-04-19 22:59:05,195 - INFO - Downloaded logs_o9h1lxwu:v0 to /scratch/downloaded_artifacts/logs_o9h1lxwu:v0\n"
     ]
    },
    {
     "name": "stderr",
     "output_type": "stream",
     "text": [
      "\u001b[34m\u001b[1mwandb\u001b[0m:   1 of 1 files downloaded.  \n"
     ]
    },
    {
     "name": "stdout",
     "output_type": "stream",
     "text": [
      "2025-04-19 22:59:05,304 - INFO - Downloaded logs_fh90gp5o:v0 to /scratch/downloaded_artifacts/logs_fh90gp5o:v0\n"
     ]
    },
    {
     "name": "stderr",
     "output_type": "stream",
     "text": [
      "\u001b[34m\u001b[1mwandb\u001b[0m:   1 of 1 files downloaded.  \n"
     ]
    },
    {
     "name": "stdout",
     "output_type": "stream",
     "text": [
      "2025-04-19 22:59:05,432 - INFO - Downloaded logs_bi8ab0bh:v0 to /scratch/downloaded_artifacts/logs_bi8ab0bh:v0\n"
     ]
    },
    {
     "name": "stderr",
     "output_type": "stream",
     "text": [
      "\u001b[34m\u001b[1mwandb\u001b[0m:   1 of 1 files downloaded.  \n"
     ]
    },
    {
     "name": "stdout",
     "output_type": "stream",
     "text": [
      "2025-04-19 22:59:05,587 - INFO - Downloaded logs_ter238nv:v0 to /scratch/downloaded_artifacts/logs_ter238nv:v0\n"
     ]
    },
    {
     "name": "stderr",
     "output_type": "stream",
     "text": [
      "\u001b[34m\u001b[1mwandb\u001b[0m:   1 of 1 files downloaded.  \n"
     ]
    },
    {
     "name": "stdout",
     "output_type": "stream",
     "text": [
      "2025-04-19 22:59:05,689 - INFO - Downloaded logs_0dveqvo6:v0 to /scratch/downloaded_artifacts/logs_0dveqvo6:v0\n"
     ]
    },
    {
     "name": "stderr",
     "output_type": "stream",
     "text": [
      "\u001b[34m\u001b[1mwandb\u001b[0m:   1 of 1 files downloaded.  \n"
     ]
    },
    {
     "name": "stdout",
     "output_type": "stream",
     "text": [
      "2025-04-19 22:59:05,827 - INFO - Downloaded logs_375kxmxh:v0 to /scratch/downloaded_artifacts/logs_375kxmxh:v0\n"
     ]
    },
    {
     "name": "stderr",
     "output_type": "stream",
     "text": [
      "\u001b[34m\u001b[1mwandb\u001b[0m:   1 of 1 files downloaded.  \n"
     ]
    },
    {
     "name": "stdout",
     "output_type": "stream",
     "text": [
      "2025-04-19 22:59:05,873 - INFO - Downloaded logs_vjxsciee:v0 to /scratch/downloaded_artifacts/logs_vjxsciee:v0\n"
     ]
    },
    {
     "name": "stderr",
     "output_type": "stream",
     "text": [
      "\u001b[34m\u001b[1mwandb\u001b[0m:   1 of 1 files downloaded.  \n"
     ]
    },
    {
     "name": "stdout",
     "output_type": "stream",
     "text": [
      "2025-04-19 22:59:05,998 - INFO - Downloaded logs_dbbalal8:v0 to /scratch/downloaded_artifacts/logs_dbbalal8:v0\n"
     ]
    },
    {
     "name": "stderr",
     "output_type": "stream",
     "text": [
      "\u001b[34m\u001b[1mwandb\u001b[0m:   1 of 1 files downloaded.  \n"
     ]
    },
    {
     "name": "stdout",
     "output_type": "stream",
     "text": [
      "2025-04-19 22:59:06,067 - INFO - Downloaded logs_92dlhqne:v0 to /scratch/downloaded_artifacts/logs_92dlhqne:v0\n"
     ]
    },
    {
     "name": "stderr",
     "output_type": "stream",
     "text": [
      "\u001b[34m\u001b[1mwandb\u001b[0m:   1 of 1 files downloaded.  \n"
     ]
    },
    {
     "name": "stdout",
     "output_type": "stream",
     "text": [
      "2025-04-19 22:59:06,127 - INFO - Downloaded logs_5dea36k3:v0 to /scratch/downloaded_artifacts/logs_5dea36k3:v0\n"
     ]
    },
    {
     "name": "stderr",
     "output_type": "stream",
     "text": [
      "\u001b[34m\u001b[1mwandb\u001b[0m:   1 of 1 files downloaded.  \n"
     ]
    },
    {
     "name": "stdout",
     "output_type": "stream",
     "text": [
      "2025-04-19 22:59:06,226 - INFO - Downloaded logs_i8vfcn8v:v0 to /scratch/downloaded_artifacts/logs_i8vfcn8v:v0\n"
     ]
    },
    {
     "name": "stderr",
     "output_type": "stream",
     "text": [
      "\u001b[34m\u001b[1mwandb\u001b[0m:   1 of 1 files downloaded.  \n"
     ]
    },
    {
     "name": "stdout",
     "output_type": "stream",
     "text": [
      "2025-04-19 22:59:06,238 - INFO - Downloaded logs_aho6g2gc:v0 to /scratch/downloaded_artifacts/logs_aho6g2gc:v0\n"
     ]
    },
    {
     "name": "stderr",
     "output_type": "stream",
     "text": [
      "\u001b[34m\u001b[1mwandb\u001b[0m:   1 of 1 files downloaded.  \n"
     ]
    },
    {
     "name": "stdout",
     "output_type": "stream",
     "text": [
      "2025-04-19 22:59:06,744 - INFO - Downloaded logs_fh1j77uz:v0 to /scratch/downloaded_artifacts/logs_fh1j77uz:v0\n"
     ]
    },
    {
     "name": "stderr",
     "output_type": "stream",
     "text": [
      "\u001b[34m\u001b[1mwandb\u001b[0m:   1 of 1 files downloaded.  \n"
     ]
    },
    {
     "name": "stdout",
     "output_type": "stream",
     "text": [
      "2025-04-19 22:59:07,184 - INFO - Downloaded logs_lexyvmzj:v0 to /scratch/downloaded_artifacts/logs_lexyvmzj:v0\n"
     ]
    },
    {
     "name": "stderr",
     "output_type": "stream",
     "text": [
      "\u001b[34m\u001b[1mwandb\u001b[0m:   1 of 1 files downloaded.  \n"
     ]
    },
    {
     "name": "stdout",
     "output_type": "stream",
     "text": [
      "2025-04-19 22:59:07,211 - INFO - Downloaded logs_4pc5wzs6:v0 to /scratch/downloaded_artifacts/logs_4pc5wzs6:v0\n"
     ]
    },
    {
     "name": "stderr",
     "output_type": "stream",
     "text": [
      "\u001b[34m\u001b[1mwandb\u001b[0m:   1 of 1 files downloaded.  \n"
     ]
    },
    {
     "name": "stdout",
     "output_type": "stream",
     "text": [
      "2025-04-19 22:59:07,220 - INFO - Downloaded logs_wckx8zo8:v0 to /scratch/downloaded_artifacts/logs_wckx8zo8:v0\n"
     ]
    },
    {
     "name": "stderr",
     "output_type": "stream",
     "text": [
      "\u001b[34m\u001b[1mwandb\u001b[0m:   1 of 1 files downloaded.  \n"
     ]
    },
    {
     "name": "stdout",
     "output_type": "stream",
     "text": [
      "2025-04-19 22:59:07,320 - INFO - Downloaded logs_74zvxrdt:v0 to /scratch/downloaded_artifacts/logs_74zvxrdt:v0\n"
     ]
    },
    {
     "name": "stderr",
     "output_type": "stream",
     "text": [
      "\u001b[34m\u001b[1mwandb\u001b[0m:   1 of 1 files downloaded.  \n"
     ]
    },
    {
     "name": "stdout",
     "output_type": "stream",
     "text": [
      "2025-04-19 22:59:07,339 - INFO - Downloaded logs_8tb66mn2:v0 to /scratch/downloaded_artifacts/logs_8tb66mn2:v0\n"
     ]
    },
    {
     "name": "stderr",
     "output_type": "stream",
     "text": [
      "\u001b[34m\u001b[1mwandb\u001b[0m:   1 of 1 files downloaded.  \n"
     ]
    },
    {
     "name": "stdout",
     "output_type": "stream",
     "text": [
      "2025-04-19 22:59:07,552 - INFO - Downloaded logs_708mmo2k:v0 to /scratch/downloaded_artifacts/logs_708mmo2k:v0\n"
     ]
    },
    {
     "name": "stderr",
     "output_type": "stream",
     "text": [
      "\u001b[34m\u001b[1mwandb\u001b[0m:   1 of 1 files downloaded.  \n"
     ]
    },
    {
     "name": "stdout",
     "output_type": "stream",
     "text": [
      "2025-04-19 22:59:07,560 - INFO - Downloaded logs_679r0smn:v0 to /scratch/downloaded_artifacts/logs_679r0smn:v0\n"
     ]
    },
    {
     "name": "stderr",
     "output_type": "stream",
     "text": [
      "\u001b[34m\u001b[1mwandb\u001b[0m:   1 of 1 files downloaded.  \n"
     ]
    },
    {
     "name": "stdout",
     "output_type": "stream",
     "text": [
      "2025-04-19 22:59:07,611 - INFO - Downloaded logs_lb1n1rfb:v0 to /scratch/downloaded_artifacts/logs_lb1n1rfb:v0\n"
     ]
    },
    {
     "name": "stderr",
     "output_type": "stream",
     "text": [
      "\u001b[34m\u001b[1mwandb\u001b[0m:   1 of 1 files downloaded.  \n"
     ]
    },
    {
     "name": "stdout",
     "output_type": "stream",
     "text": [
      "2025-04-19 22:59:07,626 - INFO - Downloaded logs_lei6qsw0:v0 to /scratch/downloaded_artifacts/logs_lei6qsw0:v0\n"
     ]
    },
    {
     "name": "stderr",
     "output_type": "stream",
     "text": [
      "\u001b[34m\u001b[1mwandb\u001b[0m:   1 of 1 files downloaded.  \n"
     ]
    },
    {
     "name": "stdout",
     "output_type": "stream",
     "text": [
      "2025-04-19 22:59:07,855 - INFO - Downloaded logs_74r3x9fq:v0 to /scratch/downloaded_artifacts/logs_74r3x9fq:v0\n"
     ]
    },
    {
     "name": "stderr",
     "output_type": "stream",
     "text": [
      "\u001b[34m\u001b[1mwandb\u001b[0m:   1 of 1 files downloaded.  \n"
     ]
    },
    {
     "name": "stdout",
     "output_type": "stream",
     "text": [
      "2025-04-19 22:59:07,889 - INFO - Downloaded logs_7i3imge5:v0 to /scratch/downloaded_artifacts/logs_7i3imge5:v0\n"
     ]
    },
    {
     "name": "stderr",
     "output_type": "stream",
     "text": [
      "\u001b[34m\u001b[1mwandb\u001b[0m:   1 of 1 files downloaded.  \n",
      "\u001b[34m\u001b[1mwandb\u001b[0m:   1 of 1 files downloaded.  \n"
     ]
    },
    {
     "name": "stdout",
     "output_type": "stream",
     "text": [
      "2025-04-19 22:59:08,143 - INFO - Downloaded logs_9k7h2eh8:v0 to /scratch/downloaded_artifacts/logs_9k7h2eh8:v0\n",
      "2025-04-19 22:59:08,143 - INFO - Downloaded logs_7wzajnap:v0 to /scratch/downloaded_artifacts/logs_7wzajnap:v0\n"
     ]
    },
    {
     "name": "stderr",
     "output_type": "stream",
     "text": [
      "\u001b[34m\u001b[1mwandb\u001b[0m:   1 of 1 files downloaded.  \n"
     ]
    },
    {
     "name": "stdout",
     "output_type": "stream",
     "text": [
      "2025-04-19 22:59:08,227 - INFO - Downloaded logs_bnbzvw8k:v0 to /scratch/downloaded_artifacts/logs_bnbzvw8k:v0\n"
     ]
    },
    {
     "name": "stderr",
     "output_type": "stream",
     "text": [
      "\u001b[34m\u001b[1mwandb\u001b[0m:   1 of 1 files downloaded.  \n"
     ]
    },
    {
     "name": "stdout",
     "output_type": "stream",
     "text": [
      "2025-04-19 22:59:08,249 - INFO - Downloaded logs_as4d8o1i:v0 to /scratch/downloaded_artifacts/logs_as4d8o1i:v0\n"
     ]
    },
    {
     "name": "stderr",
     "output_type": "stream",
     "text": [
      "\u001b[34m\u001b[1mwandb\u001b[0m:   1 of 1 files downloaded.  \n"
     ]
    },
    {
     "name": "stdout",
     "output_type": "stream",
     "text": [
      "2025-04-19 22:59:08,304 - INFO - Downloaded logs_fy1js838:v0 to /scratch/downloaded_artifacts/logs_fy1js838:v0\n"
     ]
    },
    {
     "name": "stderr",
     "output_type": "stream",
     "text": [
      "\u001b[34m\u001b[1mwandb\u001b[0m:   1 of 1 files downloaded.  \n"
     ]
    },
    {
     "name": "stdout",
     "output_type": "stream",
     "text": [
      "2025-04-19 22:59:08,516 - INFO - Downloaded logs_kug7ni1p:v0 to /scratch/downloaded_artifacts/logs_kug7ni1p:v0\n"
     ]
    },
    {
     "name": "stderr",
     "output_type": "stream",
     "text": [
      "\u001b[34m\u001b[1mwandb\u001b[0m:   1 of 1 files downloaded.  \n"
     ]
    },
    {
     "name": "stdout",
     "output_type": "stream",
     "text": [
      "2025-04-19 22:59:08,595 - INFO - Downloaded logs_g3toks2u:v0 to /scratch/downloaded_artifacts/logs_g3toks2u:v0\n"
     ]
    },
    {
     "name": "stderr",
     "output_type": "stream",
     "text": [
      "\u001b[34m\u001b[1mwandb\u001b[0m:   1 of 1 files downloaded.  \n"
     ]
    },
    {
     "name": "stdout",
     "output_type": "stream",
     "text": [
      "2025-04-19 22:59:08,617 - INFO - Downloaded logs_h9w92rqb:v0 to /scratch/downloaded_artifacts/logs_h9w92rqb:v0\n"
     ]
    },
    {
     "name": "stderr",
     "output_type": "stream",
     "text": [
      "\u001b[34m\u001b[1mwandb\u001b[0m:   1 of 1 files downloaded.  \n"
     ]
    },
    {
     "name": "stdout",
     "output_type": "stream",
     "text": [
      "2025-04-19 22:59:08,871 - INFO - Downloaded logs_rxqeysvx:v0 to /scratch/downloaded_artifacts/logs_rxqeysvx:v0\n"
     ]
    },
    {
     "name": "stderr",
     "output_type": "stream",
     "text": [
      "\u001b[34m\u001b[1mwandb\u001b[0m:   1 of 1 files downloaded.  \n"
     ]
    },
    {
     "name": "stdout",
     "output_type": "stream",
     "text": [
      "2025-04-19 22:59:09,136 - INFO - Downloaded logs_idvnz6ng:v0 to /scratch/downloaded_artifacts/logs_idvnz6ng:v0\n"
     ]
    },
    {
     "name": "stderr",
     "output_type": "stream",
     "text": [
      "\u001b[34m\u001b[1mwandb\u001b[0m:   1 of 1 files downloaded.  \n",
      "\u001b[34m\u001b[1mwandb\u001b[0m:   1 of 1 files downloaded.  \n"
     ]
    },
    {
     "name": "stdout",
     "output_type": "stream",
     "text": [
      "2025-04-19 22:59:09,175 - INFO - Downloaded logs_zrv7d7rc:v0 to /scratch/downloaded_artifacts/logs_zrv7d7rc:v0\n",
      "2025-04-19 22:59:09,177 - INFO - Downloaded logs_0fu9lwt9:v0 to /scratch/downloaded_artifacts/logs_0fu9lwt9:v0\n"
     ]
    },
    {
     "name": "stderr",
     "output_type": "stream",
     "text": [
      "\u001b[34m\u001b[1mwandb\u001b[0m:   1 of 1 files downloaded.  \n"
     ]
    },
    {
     "name": "stdout",
     "output_type": "stream",
     "text": [
      "2025-04-19 22:59:09,230 - INFO - Downloaded logs_1ps83vb7:v0 to /scratch/downloaded_artifacts/logs_1ps83vb7:v0\n"
     ]
    },
    {
     "name": "stderr",
     "output_type": "stream",
     "text": [
      "\u001b[34m\u001b[1mwandb\u001b[0m:   1 of 1 files downloaded.  \n"
     ]
    },
    {
     "name": "stdout",
     "output_type": "stream",
     "text": [
      "2025-04-19 22:59:09,401 - INFO - Downloaded logs_tmhf9xtu:v0 to /scratch/downloaded_artifacts/logs_tmhf9xtu:v0\n"
     ]
    },
    {
     "name": "stderr",
     "output_type": "stream",
     "text": [
      "\u001b[34m\u001b[1mwandb\u001b[0m:   1 of 1 files downloaded.  \n"
     ]
    },
    {
     "name": "stdout",
     "output_type": "stream",
     "text": [
      "2025-04-19 22:59:09,409 - INFO - Downloaded logs_8jf6prci:v0 to /scratch/downloaded_artifacts/logs_8jf6prci:v0\n"
     ]
    },
    {
     "name": "stderr",
     "output_type": "stream",
     "text": [
      "\u001b[34m\u001b[1mwandb\u001b[0m:   1 of 1 files downloaded.  \n"
     ]
    },
    {
     "name": "stdout",
     "output_type": "stream",
     "text": [
      "2025-04-19 22:59:09,426 - INFO - Downloaded logs_zebw56wf:v0 to /scratch/downloaded_artifacts/logs_zebw56wf:v0\n"
     ]
    },
    {
     "name": "stderr",
     "output_type": "stream",
     "text": [
      "\u001b[34m\u001b[1mwandb\u001b[0m:   1 of 1 files downloaded.  \n"
     ]
    },
    {
     "name": "stdout",
     "output_type": "stream",
     "text": [
      "2025-04-19 22:59:09,428 - INFO - Downloaded logs_qdl3m8j9:v0 to /scratch/downloaded_artifacts/logs_qdl3m8j9:v0\n"
     ]
    },
    {
     "name": "stderr",
     "output_type": "stream",
     "text": [
      "\u001b[34m\u001b[1mwandb\u001b[0m:   1 of 1 files downloaded.  \n"
     ]
    },
    {
     "name": "stdout",
     "output_type": "stream",
     "text": [
      "2025-04-19 22:59:09,438 - INFO - Downloaded logs_ioacrixc:v0 to /scratch/downloaded_artifacts/logs_ioacrixc:v0\n"
     ]
    },
    {
     "name": "stderr",
     "output_type": "stream",
     "text": [
      "\u001b[34m\u001b[1mwandb\u001b[0m:   1 of 1 files downloaded.  \n"
     ]
    },
    {
     "name": "stdout",
     "output_type": "stream",
     "text": [
      "2025-04-19 22:59:10,383 - INFO - Downloaded logs_1d7z9uav:v0 to /scratch/downloaded_artifacts/logs_1d7z9uav:v0\n"
     ]
    },
    {
     "name": "stderr",
     "output_type": "stream",
     "text": [
      "\u001b[34m\u001b[1mwandb\u001b[0m:   1 of 1 files downloaded.  \n"
     ]
    },
    {
     "name": "stdout",
     "output_type": "stream",
     "text": [
      "2025-04-19 22:59:10,645 - INFO - Downloaded logs_9hu5ymmn:v0 to /scratch/downloaded_artifacts/logs_9hu5ymmn:v0\n"
     ]
    },
    {
     "name": "stderr",
     "output_type": "stream",
     "text": [
      "\u001b[34m\u001b[1mwandb\u001b[0m:   1 of 1 files downloaded.  \n",
      "\u001b[34m\u001b[1mwandb\u001b[0m:   1 of 1 files downloaded.  \n"
     ]
    },
    {
     "name": "stdout",
     "output_type": "stream",
     "text": [
      "2025-04-19 22:59:11,651 - INFO - Downloaded logs_94v19l19:v0 to /scratch/downloaded_artifacts/logs_94v19l19:v0\n",
      "2025-04-19 22:59:11,653 - INFO - Downloaded logs_a4h3wf1i:v0 to /scratch/downloaded_artifacts/logs_a4h3wf1i:v0\n"
     ]
    },
    {
     "name": "stderr",
     "output_type": "stream",
     "text": [
      "\u001b[34m\u001b[1mwandb\u001b[0m:   1 of 1 files downloaded.  \n"
     ]
    },
    {
     "name": "stdout",
     "output_type": "stream",
     "text": [
      "2025-04-19 22:59:11,697 - INFO - Downloaded logs_qiwhjntl:v0 to /scratch/downloaded_artifacts/logs_qiwhjntl:v0\n"
     ]
    },
    {
     "name": "stderr",
     "output_type": "stream",
     "text": [
      "\u001b[34m\u001b[1mwandb\u001b[0m:   1 of 1 files downloaded.  \n"
     ]
    },
    {
     "name": "stdout",
     "output_type": "stream",
     "text": [
      "2025-04-19 22:59:11,711 - INFO - Downloaded logs_mbknp578:v0 to /scratch/downloaded_artifacts/logs_mbknp578:v0\n"
     ]
    },
    {
     "name": "stderr",
     "output_type": "stream",
     "text": [
      "\u001b[34m\u001b[1mwandb\u001b[0m:   1 of 1 files downloaded.  \n"
     ]
    },
    {
     "name": "stdout",
     "output_type": "stream",
     "text": [
      "2025-04-19 22:59:11,830 - INFO - Downloaded logs_qldzp4lt:v0 to /scratch/downloaded_artifacts/logs_qldzp4lt:v0\n"
     ]
    },
    {
     "name": "stderr",
     "output_type": "stream",
     "text": [
      "\u001b[34m\u001b[1mwandb\u001b[0m:   1 of 1 files downloaded.  \n"
     ]
    },
    {
     "name": "stdout",
     "output_type": "stream",
     "text": [
      "2025-04-19 22:59:11,918 - INFO - Downloaded logs_i6f5ve3v:v0 to /scratch/downloaded_artifacts/logs_i6f5ve3v:v0\n"
     ]
    },
    {
     "name": "stderr",
     "output_type": "stream",
     "text": [
      "\u001b[34m\u001b[1mwandb\u001b[0m:   1 of 1 files downloaded.  \n"
     ]
    },
    {
     "name": "stdout",
     "output_type": "stream",
     "text": [
      "2025-04-19 22:59:11,946 - INFO - Downloaded logs_tgubyb32:v0 to /scratch/downloaded_artifacts/logs_tgubyb32:v0\n"
     ]
    },
    {
     "name": "stderr",
     "output_type": "stream",
     "text": [
      "\u001b[34m\u001b[1mwandb\u001b[0m:   1 of 1 files downloaded.  \n"
     ]
    },
    {
     "name": "stdout",
     "output_type": "stream",
     "text": [
      "2025-04-19 22:59:12,035 - INFO - Downloaded logs_zxo6h014:v0 to /scratch/downloaded_artifacts/logs_zxo6h014:v0\n"
     ]
    },
    {
     "name": "stderr",
     "output_type": "stream",
     "text": [
      "\u001b[34m\u001b[1mwandb\u001b[0m:   1 of 1 files downloaded.  \n"
     ]
    },
    {
     "name": "stdout",
     "output_type": "stream",
     "text": [
      "2025-04-19 22:59:12,090 - INFO - Downloaded logs_vvnsjdw4:v0 to /scratch/downloaded_artifacts/logs_vvnsjdw4:v0\n"
     ]
    },
    {
     "name": "stderr",
     "output_type": "stream",
     "text": [
      "\u001b[34m\u001b[1mwandb\u001b[0m:   1 of 1 files downloaded.  \n"
     ]
    },
    {
     "name": "stdout",
     "output_type": "stream",
     "text": [
      "2025-04-19 22:59:12,185 - INFO - Downloaded logs_8mbweeg3:v0 to /scratch/downloaded_artifacts/logs_8mbweeg3:v0\n"
     ]
    },
    {
     "name": "stderr",
     "output_type": "stream",
     "text": [
      "\u001b[34m\u001b[1mwandb\u001b[0m:   1 of 1 files downloaded.  \n"
     ]
    },
    {
     "name": "stdout",
     "output_type": "stream",
     "text": [
      "2025-04-19 22:59:12,201 - INFO - Downloaded logs_9mig1rey:v0 to /scratch/downloaded_artifacts/logs_9mig1rey:v0\n"
     ]
    },
    {
     "name": "stderr",
     "output_type": "stream",
     "text": [
      "\u001b[34m\u001b[1mwandb\u001b[0m:   1 of 1 files downloaded.  \n"
     ]
    },
    {
     "name": "stdout",
     "output_type": "stream",
     "text": [
      "2025-04-19 22:59:12,311 - INFO - Downloaded logs_k0sec5ut:v0 to /scratch/downloaded_artifacts/logs_k0sec5ut:v0\n"
     ]
    },
    {
     "name": "stderr",
     "output_type": "stream",
     "text": [
      "\u001b[34m\u001b[1mwandb\u001b[0m:   1 of 1 files downloaded.  \n",
      "\u001b[34m\u001b[1mwandb\u001b[0m:   1 of 1 files downloaded.  \n"
     ]
    },
    {
     "name": "stdout",
     "output_type": "stream",
     "text": [
      "2025-04-19 22:59:12,319 - INFO - Downloaded logs_kkr1ne1z:v0 to /scratch/downloaded_artifacts/logs_kkr1ne1z:v0\n"
     ]
    },
    {
     "name": "stderr",
     "output_type": "stream",
     "text": [
      "\u001b[34m\u001b[1mwandb\u001b[0m:   1 of 1 files downloaded.  \n"
     ]
    },
    {
     "name": "stdout",
     "output_type": "stream",
     "text": [
      "2025-04-19 22:59:12,319 - INFO - Downloaded logs_hqyvaowt:v0 to /scratch/downloaded_artifacts/logs_hqyvaowt:v0\n",
      "2025-04-19 22:59:12,328 - INFO - Downloaded logs_a67nmt1b:v0 to /scratch/downloaded_artifacts/logs_a67nmt1b:v0\n"
     ]
    },
    {
     "name": "stderr",
     "output_type": "stream",
     "text": [
      "\u001b[34m\u001b[1mwandb\u001b[0m:   1 of 1 files downloaded.  \n"
     ]
    },
    {
     "name": "stdout",
     "output_type": "stream",
     "text": [
      "2025-04-19 22:59:12,337 - INFO - Downloaded logs_v3gkidpm:v0 to /scratch/downloaded_artifacts/logs_v3gkidpm:v0\n"
     ]
    },
    {
     "name": "stderr",
     "output_type": "stream",
     "text": [
      "\u001b[34m\u001b[1mwandb\u001b[0m:   1 of 1 files downloaded.  \n"
     ]
    },
    {
     "name": "stdout",
     "output_type": "stream",
     "text": [
      "2025-04-19 22:59:12,345 - INFO - Downloaded logs_h2e1uk88:v0 to /scratch/downloaded_artifacts/logs_h2e1uk88:v0\n"
     ]
    },
    {
     "name": "stderr",
     "output_type": "stream",
     "text": [
      "\u001b[34m\u001b[1mwandb\u001b[0m:   1 of 1 files downloaded.  \n"
     ]
    },
    {
     "name": "stdout",
     "output_type": "stream",
     "text": [
      "2025-04-19 22:59:12,370 - INFO - Downloaded logs_u2xfb1kf:v0 to /scratch/downloaded_artifacts/logs_u2xfb1kf:v0\n"
     ]
    },
    {
     "name": "stderr",
     "output_type": "stream",
     "text": [
      "\u001b[34m\u001b[1mwandb\u001b[0m:   1 of 1 files downloaded.  \n"
     ]
    },
    {
     "name": "stdout",
     "output_type": "stream",
     "text": [
      "2025-04-19 22:59:12,431 - INFO - Downloaded logs_x9nibn1c:v0 to /scratch/downloaded_artifacts/logs_x9nibn1c:v0\n"
     ]
    },
    {
     "name": "stderr",
     "output_type": "stream",
     "text": [
      "\u001b[34m\u001b[1mwandb\u001b[0m:   1 of 1 files downloaded.  \n"
     ]
    },
    {
     "name": "stdout",
     "output_type": "stream",
     "text": [
      "2025-04-19 22:59:12,517 - INFO - Downloaded logs_50bxexja:v0 to /scratch/downloaded_artifacts/logs_50bxexja:v0\n"
     ]
    },
    {
     "name": "stderr",
     "output_type": "stream",
     "text": [
      "\u001b[34m\u001b[1mwandb\u001b[0m:   1 of 1 files downloaded.  \n"
     ]
    },
    {
     "name": "stdout",
     "output_type": "stream",
     "text": [
      "2025-04-19 22:59:13,087 - INFO - Downloaded logs_g03xfqgc:v0 to /scratch/downloaded_artifacts/logs_g03xfqgc:v0\n"
     ]
    },
    {
     "name": "stderr",
     "output_type": "stream",
     "text": [
      "\u001b[34m\u001b[1mwandb\u001b[0m:   1 of 1 files downloaded.  \n"
     ]
    },
    {
     "name": "stdout",
     "output_type": "stream",
     "text": [
      "2025-04-19 22:59:13,095 - INFO - Downloaded logs_df7rdxm0:v0 to /scratch/downloaded_artifacts/logs_df7rdxm0:v0\n"
     ]
    },
    {
     "name": "stderr",
     "output_type": "stream",
     "text": [
      "\u001b[34m\u001b[1mwandb\u001b[0m:   1 of 1 files downloaded.  \n"
     ]
    },
    {
     "name": "stdout",
     "output_type": "stream",
     "text": [
      "2025-04-19 22:59:13,102 - INFO - Downloaded logs_79650wxf:v0 to /scratch/downloaded_artifacts/logs_79650wxf:v0\n"
     ]
    },
    {
     "name": "stderr",
     "output_type": "stream",
     "text": [
      "\u001b[34m\u001b[1mwandb\u001b[0m:   1 of 1 files downloaded.  \n"
     ]
    },
    {
     "name": "stdout",
     "output_type": "stream",
     "text": [
      "2025-04-19 22:59:13,137 - INFO - Downloaded logs_dkcynzt3:v0 to /scratch/downloaded_artifacts/logs_dkcynzt3:v0\n"
     ]
    },
    {
     "name": "stderr",
     "output_type": "stream",
     "text": [
      "\u001b[34m\u001b[1mwandb\u001b[0m:   1 of 1 files downloaded.  \n"
     ]
    },
    {
     "name": "stdout",
     "output_type": "stream",
     "text": [
      "2025-04-19 22:59:13,612 - INFO - Downloaded logs_hfwfb2jq:v0 to /scratch/downloaded_artifacts/logs_hfwfb2jq:v0\n"
     ]
    },
    {
     "name": "stderr",
     "output_type": "stream",
     "text": [
      "\u001b[34m\u001b[1mwandb\u001b[0m:   1 of 1 files downloaded.  \n"
     ]
    },
    {
     "name": "stdout",
     "output_type": "stream",
     "text": [
      "2025-04-19 22:59:13,700 - INFO - Downloaded logs_nqvs5hd3:v0 to /scratch/downloaded_artifacts/logs_nqvs5hd3:v0\n"
     ]
    },
    {
     "name": "stderr",
     "output_type": "stream",
     "text": [
      "\u001b[34m\u001b[1mwandb\u001b[0m:   1 of 1 files downloaded.  \n"
     ]
    },
    {
     "name": "stdout",
     "output_type": "stream",
     "text": [
      "2025-04-19 22:59:13,750 - INFO - Downloaded logs_8fup0e1v:v0 to /scratch/downloaded_artifacts/logs_8fup0e1v:v0\n"
     ]
    },
    {
     "name": "stderr",
     "output_type": "stream",
     "text": [
      "\u001b[34m\u001b[1mwandb\u001b[0m:   1 of 1 files downloaded.  \n"
     ]
    },
    {
     "name": "stdout",
     "output_type": "stream",
     "text": [
      "2025-04-19 22:59:13,873 - INFO - Downloaded logs_wa0bsfps:v0 to /scratch/downloaded_artifacts/logs_wa0bsfps:v0\n"
     ]
    },
    {
     "name": "stderr",
     "output_type": "stream",
     "text": [
      "\u001b[34m\u001b[1mwandb\u001b[0m:   1 of 1 files downloaded.  \n"
     ]
    },
    {
     "name": "stdout",
     "output_type": "stream",
     "text": [
      "2025-04-19 22:59:13,905 - INFO - Downloaded logs_qljiyfcj:v0 to /scratch/downloaded_artifacts/logs_qljiyfcj:v0\n"
     ]
    },
    {
     "name": "stderr",
     "output_type": "stream",
     "text": [
      "\u001b[34m\u001b[1mwandb\u001b[0m:   1 of 1 files downloaded.  \n"
     ]
    },
    {
     "name": "stdout",
     "output_type": "stream",
     "text": [
      "2025-04-19 22:59:14,058 - INFO - Downloaded logs_24upnsoh:v0 to /scratch/downloaded_artifacts/logs_24upnsoh:v0\n"
     ]
    },
    {
     "name": "stderr",
     "output_type": "stream",
     "text": [
      "\u001b[34m\u001b[1mwandb\u001b[0m:   1 of 1 files downloaded.  \n"
     ]
    },
    {
     "name": "stdout",
     "output_type": "stream",
     "text": [
      "2025-04-19 22:59:14,138 - INFO - Downloaded logs_gxnoiijn:v0 to /scratch/downloaded_artifacts/logs_gxnoiijn:v0\n"
     ]
    },
    {
     "name": "stderr",
     "output_type": "stream",
     "text": [
      "\u001b[34m\u001b[1mwandb\u001b[0m:   1 of 1 files downloaded.  \n"
     ]
    },
    {
     "name": "stdout",
     "output_type": "stream",
     "text": [
      "2025-04-19 22:59:14,187 - INFO - Downloaded logs_ax4n10f3:v0 to /scratch/downloaded_artifacts/logs_ax4n10f3:v0\n"
     ]
    },
    {
     "name": "stderr",
     "output_type": "stream",
     "text": [
      "\u001b[34m\u001b[1mwandb\u001b[0m: \u001b[32m\u001b[41mERROR\u001b[0m Error while calling W&B API: rate limit exceeded (<Response [429]>)\n",
      "\u001b[34m\u001b[1mwandb\u001b[0m: \u001b[32m\u001b[41mERROR\u001b[0m Error while calling W&B API: rate limit exceeded (<Response [429]>)\n",
      "\u001b[34m\u001b[1mwandb\u001b[0m:   1 of 1 files downloaded.  \n",
      "\u001b[34m\u001b[1mwandb\u001b[0m: \u001b[32m\u001b[41mERROR\u001b[0m Error while calling W&B API: rate limit exceeded (<Response [429]>)\n"
     ]
    },
    {
     "name": "stdout",
     "output_type": "stream",
     "text": [
      "2025-04-19 22:59:14,295 - INFO - Downloaded logs_wt7dkean:v0 to /scratch/downloaded_artifacts/logs_wt7dkean:v0\n"
     ]
    },
    {
     "name": "stderr",
     "output_type": "stream",
     "text": [
      "\u001b[34m\u001b[1mwandb\u001b[0m: \u001b[32m\u001b[41mERROR\u001b[0m Error while calling W&B API: rate limit exceeded (<Response [429]>)\n",
      "\u001b[34m\u001b[1mwandb\u001b[0m:   1 of 1 files downloaded.  \n",
      "\u001b[34m\u001b[1mwandb\u001b[0m:   1 of 1 files downloaded.  \n"
     ]
    },
    {
     "name": "stdout",
     "output_type": "stream",
     "text": [
      "2025-04-19 22:59:14,327 - INFO - Downloaded logs_chy80qpm:v0 to /scratch/downloaded_artifacts/logs_chy80qpm:v0\n",
      "2025-04-19 22:59:14,334 - INFO - Downloaded logs_b457twjs:v0 to /scratch/downloaded_artifacts/logs_b457twjs:v0\n"
     ]
    },
    {
     "name": "stderr",
     "output_type": "stream",
     "text": [
      "\u001b[34m\u001b[1mwandb\u001b[0m:   1 of 1 files downloaded.  \n"
     ]
    },
    {
     "name": "stdout",
     "output_type": "stream",
     "text": [
      "2025-04-19 22:59:14,382 - INFO - Downloaded logs_1qv2f0pv:v0 to /scratch/downloaded_artifacts/logs_1qv2f0pv:v0\n"
     ]
    },
    {
     "name": "stderr",
     "output_type": "stream",
     "text": [
      "\u001b[34m\u001b[1mwandb\u001b[0m: \u001b[32m\u001b[41mERROR\u001b[0m Error while calling W&B API: rate limit exceeded (<Response [429]>)\n",
      "\u001b[34m\u001b[1mwandb\u001b[0m:   1 of 1 files downloaded.  \n"
     ]
    },
    {
     "name": "stdout",
     "output_type": "stream",
     "text": [
      "2025-04-19 22:59:14,402 - INFO - Downloaded logs_7tfi477f:v0 to /scratch/downloaded_artifacts/logs_7tfi477f:v0\n"
     ]
    },
    {
     "name": "stderr",
     "output_type": "stream",
     "text": [
      "\u001b[34m\u001b[1mwandb\u001b[0m:   1 of 1 files downloaded.  \n"
     ]
    },
    {
     "name": "stdout",
     "output_type": "stream",
     "text": [
      "2025-04-19 22:59:14,439 - INFO - Downloaded logs_f33nc5je:v0 to /scratch/downloaded_artifacts/logs_f33nc5je:v0\n"
     ]
    },
    {
     "name": "stderr",
     "output_type": "stream",
     "text": [
      "\u001b[34m\u001b[1mwandb\u001b[0m:   1 of 1 files downloaded.  \n"
     ]
    },
    {
     "name": "stdout",
     "output_type": "stream",
     "text": [
      "2025-04-19 22:59:14,455 - INFO - Downloaded logs_gbnm3hgc:v0 to /scratch/downloaded_artifacts/logs_gbnm3hgc:v0\n"
     ]
    },
    {
     "name": "stderr",
     "output_type": "stream",
     "text": [
      "\u001b[34m\u001b[1mwandb\u001b[0m:   1 of 1 files downloaded.  \n"
     ]
    },
    {
     "name": "stdout",
     "output_type": "stream",
     "text": [
      "2025-04-19 22:59:14,461 - INFO - Downloaded logs_ey3o6faj:v0 to /scratch/downloaded_artifacts/logs_ey3o6faj:v0\n"
     ]
    },
    {
     "name": "stderr",
     "output_type": "stream",
     "text": [
      "\u001b[34m\u001b[1mwandb\u001b[0m: \u001b[32m\u001b[41mERROR\u001b[0m Error while calling W&B API: rate limit exceeded (<Response [429]>)\n",
      "\u001b[34m\u001b[1mwandb\u001b[0m:   1 of 1 files downloaded.  \n"
     ]
    },
    {
     "name": "stdout",
     "output_type": "stream",
     "text": [
      "2025-04-19 22:59:14,591 - INFO - Downloaded logs_r0pjmcpy:v0 to /scratch/downloaded_artifacts/logs_r0pjmcpy:v0\n"
     ]
    },
    {
     "name": "stderr",
     "output_type": "stream",
     "text": [
      "\u001b[34m\u001b[1mwandb\u001b[0m:   1 of 1 files downloaded.  \n"
     ]
    },
    {
     "name": "stdout",
     "output_type": "stream",
     "text": [
      "2025-04-19 22:59:14,631 - INFO - Downloaded logs_lmhmagfc:v0 to /scratch/downloaded_artifacts/logs_lmhmagfc:v0\n"
     ]
    },
    {
     "name": "stderr",
     "output_type": "stream",
     "text": [
      "\u001b[34m\u001b[1mwandb\u001b[0m:   1 of 1 files downloaded.  \n"
     ]
    },
    {
     "name": "stdout",
     "output_type": "stream",
     "text": [
      "2025-04-19 22:59:14,654 - INFO - Downloaded logs_ri8l4wgo:v0 to /scratch/downloaded_artifacts/logs_ri8l4wgo:v0\n"
     ]
    },
    {
     "name": "stderr",
     "output_type": "stream",
     "text": [
      "\u001b[34m\u001b[1mwandb\u001b[0m:   1 of 1 files downloaded.  \n"
     ]
    },
    {
     "name": "stdout",
     "output_type": "stream",
     "text": [
      "2025-04-19 22:59:14,684 - INFO - Downloaded logs_pnjif7xr:v0 to /scratch/downloaded_artifacts/logs_pnjif7xr:v0\n"
     ]
    },
    {
     "name": "stderr",
     "output_type": "stream",
     "text": [
      "\u001b[34m\u001b[1mwandb\u001b[0m:   1 of 1 files downloaded.  \n"
     ]
    },
    {
     "name": "stdout",
     "output_type": "stream",
     "text": [
      "2025-04-19 22:59:15,145 - INFO - Downloaded logs_v2yzmkg5:v0 to /scratch/downloaded_artifacts/logs_v2yzmkg5:v0\n"
     ]
    },
    {
     "name": "stderr",
     "output_type": "stream",
     "text": [
      "\u001b[34m\u001b[1mwandb\u001b[0m:   1 of 1 files downloaded.  \n"
     ]
    },
    {
     "name": "stdout",
     "output_type": "stream",
     "text": [
      "2025-04-19 22:59:16,245 - INFO - Downloaded logs_zuqcb97m:v0 to /scratch/downloaded_artifacts/logs_zuqcb97m:v0\n"
     ]
    },
    {
     "name": "stderr",
     "output_type": "stream",
     "text": [
      "\u001b[34m\u001b[1mwandb\u001b[0m:   1 of 1 files downloaded.  \n"
     ]
    },
    {
     "name": "stdout",
     "output_type": "stream",
     "text": [
      "2025-04-19 22:59:16,370 - INFO - Downloaded logs_yqdph819:v0 to /scratch/downloaded_artifacts/logs_yqdph819:v0\n"
     ]
    },
    {
     "name": "stderr",
     "output_type": "stream",
     "text": [
      "\u001b[34m\u001b[1mwandb\u001b[0m:   1 of 1 files downloaded.  \n"
     ]
    },
    {
     "name": "stdout",
     "output_type": "stream",
     "text": [
      "2025-04-19 22:59:16,381 - INFO - Downloaded logs_a6y8mlco:v0 to /scratch/downloaded_artifacts/logs_a6y8mlco:v0\n"
     ]
    },
    {
     "name": "stderr",
     "output_type": "stream",
     "text": [
      "\u001b[34m\u001b[1mwandb\u001b[0m:   1 of 1 files downloaded.  \n"
     ]
    },
    {
     "name": "stdout",
     "output_type": "stream",
     "text": [
      "2025-04-19 22:59:16,546 - INFO - Downloaded logs_u8uytf27:v0 to /scratch/downloaded_artifacts/logs_u8uytf27:v0\n"
     ]
    },
    {
     "name": "stderr",
     "output_type": "stream",
     "text": [
      "\u001b[34m\u001b[1mwandb\u001b[0m:   1 of 1 files downloaded.  \n",
      "\u001b[34m\u001b[1mwandb\u001b[0m:   1 of 1 files downloaded.  \n"
     ]
    },
    {
     "name": "stdout",
     "output_type": "stream",
     "text": [
      "2025-04-19 22:59:16,996 - INFO - Downloaded logs_62fq3okj:v0 to /scratch/downloaded_artifacts/logs_62fq3okj:v0\n",
      "2025-04-19 22:59:16,996 - INFO - Downloaded logs_pb0qnpsi:v0 to /scratch/downloaded_artifacts/logs_pb0qnpsi:v0\n"
     ]
    },
    {
     "name": "stderr",
     "output_type": "stream",
     "text": [
      "\u001b[34m\u001b[1mwandb\u001b[0m:   1 of 1 files downloaded.  \n"
     ]
    },
    {
     "name": "stdout",
     "output_type": "stream",
     "text": [
      "2025-04-19 22:59:17,040 - INFO - Downloaded logs_98rd4g7z:v0 to /scratch/downloaded_artifacts/logs_98rd4g7z:v0\n"
     ]
    },
    {
     "name": "stderr",
     "output_type": "stream",
     "text": [
      "\u001b[34m\u001b[1mwandb\u001b[0m:   1 of 1 files downloaded.  \n"
     ]
    },
    {
     "name": "stdout",
     "output_type": "stream",
     "text": [
      "2025-04-19 22:59:17,239 - INFO - Downloaded logs_r3a6mdqq:v0 to /scratch/downloaded_artifacts/logs_r3a6mdqq:v0\n"
     ]
    },
    {
     "name": "stderr",
     "output_type": "stream",
     "text": [
      "\u001b[34m\u001b[1mwandb\u001b[0m:   1 of 1 files downloaded.  \n"
     ]
    },
    {
     "name": "stdout",
     "output_type": "stream",
     "text": [
      "2025-04-19 22:59:17,290 - INFO - Downloaded logs_ieur2m4r:v0 to /scratch/downloaded_artifacts/logs_ieur2m4r:v0\n"
     ]
    },
    {
     "name": "stderr",
     "output_type": "stream",
     "text": [
      "\u001b[34m\u001b[1mwandb\u001b[0m:   1 of 1 files downloaded.  \n"
     ]
    },
    {
     "name": "stdout",
     "output_type": "stream",
     "text": [
      "2025-04-19 22:59:17,388 - INFO - Downloaded logs_qcw7dmzi:v0 to /scratch/downloaded_artifacts/logs_qcw7dmzi:v0\n"
     ]
    },
    {
     "name": "stderr",
     "output_type": "stream",
     "text": [
      "\u001b[34m\u001b[1mwandb\u001b[0m:   1 of 1 files downloaded.  \n"
     ]
    },
    {
     "name": "stdout",
     "output_type": "stream",
     "text": [
      "2025-04-19 22:59:17,395 - INFO - Downloaded logs_exz4idwi:v0 to /scratch/downloaded_artifacts/logs_exz4idwi:v0\n"
     ]
    },
    {
     "name": "stderr",
     "output_type": "stream",
     "text": [
      "\u001b[34m\u001b[1mwandb\u001b[0m:   1 of 1 files downloaded.  \n",
      "\u001b[34m\u001b[1mwandb\u001b[0m:   1 of 1 files downloaded.  \n"
     ]
    },
    {
     "name": "stdout",
     "output_type": "stream",
     "text": [
      "2025-04-19 22:59:17,462 - INFO - Downloaded logs_9ccei999:v0 to /scratch/downloaded_artifacts/logs_9ccei999:v0\n",
      "2025-04-19 22:59:17,467 - INFO - Downloaded logs_rxf8w10p:v0 to /scratch/downloaded_artifacts/logs_rxf8w10p:v0\n"
     ]
    },
    {
     "name": "stderr",
     "output_type": "stream",
     "text": [
      "\u001b[34m\u001b[1mwandb\u001b[0m:   1 of 1 files downloaded.  \n"
     ]
    },
    {
     "name": "stdout",
     "output_type": "stream",
     "text": [
      "2025-04-19 22:59:17,549 - INFO - Downloaded logs_frkfvyz0:v0 to /scratch/downloaded_artifacts/logs_frkfvyz0:v0\n"
     ]
    },
    {
     "name": "stderr",
     "output_type": "stream",
     "text": [
      "\u001b[34m\u001b[1mwandb\u001b[0m:   1 of 1 files downloaded.  \n"
     ]
    },
    {
     "name": "stdout",
     "output_type": "stream",
     "text": [
      "2025-04-19 22:59:17,626 - INFO - Downloaded logs_wpnvkak7:v0 to /scratch/downloaded_artifacts/logs_wpnvkak7:v0\n"
     ]
    },
    {
     "name": "stderr",
     "output_type": "stream",
     "text": [
      "\u001b[34m\u001b[1mwandb\u001b[0m:   1 of 1 files downloaded.  \n"
     ]
    },
    {
     "name": "stdout",
     "output_type": "stream",
     "text": [
      "2025-04-19 22:59:17,698 - INFO - Downloaded logs_yu366px2:v0 to /scratch/downloaded_artifacts/logs_yu366px2:v0\n"
     ]
    },
    {
     "name": "stderr",
     "output_type": "stream",
     "text": [
      "\u001b[34m\u001b[1mwandb\u001b[0m:   1 of 1 files downloaded.  \n"
     ]
    },
    {
     "name": "stdout",
     "output_type": "stream",
     "text": [
      "2025-04-19 22:59:17,741 - INFO - Downloaded logs_w7riw2rt:v0 to /scratch/downloaded_artifacts/logs_w7riw2rt:v0\n"
     ]
    },
    {
     "name": "stderr",
     "output_type": "stream",
     "text": [
      "\u001b[34m\u001b[1mwandb\u001b[0m:   1 of 1 files downloaded.  \n"
     ]
    },
    {
     "name": "stdout",
     "output_type": "stream",
     "text": [
      "2025-04-19 22:59:17,744 - INFO - Downloaded logs_301chdsz:v0 to /scratch/downloaded_artifacts/logs_301chdsz:v0\n"
     ]
    },
    {
     "name": "stderr",
     "output_type": "stream",
     "text": [
      "\u001b[34m\u001b[1mwandb\u001b[0m:   1 of 1 files downloaded.  \n"
     ]
    },
    {
     "name": "stdout",
     "output_type": "stream",
     "text": [
      "2025-04-19 22:59:17,751 - INFO - Downloaded logs_wfyzokwx:v0 to /scratch/downloaded_artifacts/logs_wfyzokwx:v0\n"
     ]
    },
    {
     "name": "stderr",
     "output_type": "stream",
     "text": [
      "\u001b[34m\u001b[1mwandb\u001b[0m:   1 of 1 files downloaded.  \n"
     ]
    },
    {
     "name": "stdout",
     "output_type": "stream",
     "text": [
      "2025-04-19 22:59:17,853 - INFO - Downloaded logs_wuy4i225:v0 to /scratch/downloaded_artifacts/logs_wuy4i225:v0\n"
     ]
    },
    {
     "name": "stderr",
     "output_type": "stream",
     "text": [
      "\u001b[34m\u001b[1mwandb\u001b[0m:   1 of 1 files downloaded.  \n",
      "\u001b[34m\u001b[1mwandb\u001b[0m:   1 of 1 files downloaded.  \n"
     ]
    },
    {
     "name": "stdout",
     "output_type": "stream",
     "text": [
      "2025-04-19 22:59:18,109 - INFO - Downloaded logs_6w7oxxc9:v0 to /scratch/downloaded_artifacts/logs_6w7oxxc9:v0\n",
      "2025-04-19 22:59:18,112 - INFO - Downloaded logs_8hawj6eh:v0 to /scratch/downloaded_artifacts/logs_8hawj6eh:v0\n"
     ]
    },
    {
     "name": "stderr",
     "output_type": "stream",
     "text": [
      "\u001b[34m\u001b[1mwandb\u001b[0m:   1 of 1 files downloaded.  \n"
     ]
    },
    {
     "name": "stdout",
     "output_type": "stream",
     "text": [
      "2025-04-19 22:59:18,203 - INFO - Downloaded logs_bdndqusv:v0 to /scratch/downloaded_artifacts/logs_bdndqusv:v0\n"
     ]
    },
    {
     "name": "stderr",
     "output_type": "stream",
     "text": [
      "\u001b[34m\u001b[1mwandb\u001b[0m:   1 of 1 files downloaded.  \n"
     ]
    },
    {
     "name": "stdout",
     "output_type": "stream",
     "text": [
      "2025-04-19 22:59:18,258 - INFO - Downloaded logs_fzyq99dv:v0 to /scratch/downloaded_artifacts/logs_fzyq99dv:v0\n"
     ]
    },
    {
     "name": "stderr",
     "output_type": "stream",
     "text": [
      "\u001b[34m\u001b[1mwandb\u001b[0m:   1 of 1 files downloaded.  \n"
     ]
    },
    {
     "name": "stdout",
     "output_type": "stream",
     "text": [
      "2025-04-19 22:59:18,567 - INFO - Downloaded logs_fnuiaexf:v0 to /scratch/downloaded_artifacts/logs_fnuiaexf:v0\n"
     ]
    },
    {
     "name": "stderr",
     "output_type": "stream",
     "text": [
      "\u001b[34m\u001b[1mwandb\u001b[0m:   1 of 1 files downloaded.  \n"
     ]
    },
    {
     "name": "stdout",
     "output_type": "stream",
     "text": [
      "2025-04-19 22:59:18,637 - INFO - Downloaded logs_qntdzxe4:v0 to /scratch/downloaded_artifacts/logs_qntdzxe4:v0\n"
     ]
    },
    {
     "name": "stderr",
     "output_type": "stream",
     "text": [
      "\u001b[34m\u001b[1mwandb\u001b[0m:   1 of 1 files downloaded.  \n"
     ]
    },
    {
     "name": "stdout",
     "output_type": "stream",
     "text": [
      "2025-04-19 22:59:18,699 - INFO - Downloaded logs_jmq0k9y6:v0 to /scratch/downloaded_artifacts/logs_jmq0k9y6:v0\n"
     ]
    },
    {
     "name": "stderr",
     "output_type": "stream",
     "text": [
      "\u001b[34m\u001b[1mwandb\u001b[0m:   1 of 1 files downloaded.  \n"
     ]
    },
    {
     "name": "stdout",
     "output_type": "stream",
     "text": [
      "2025-04-19 22:59:18,919 - INFO - Downloaded logs_3cya898s:v0 to /scratch/downloaded_artifacts/logs_3cya898s:v0\n"
     ]
    },
    {
     "name": "stderr",
     "output_type": "stream",
     "text": [
      "\u001b[34m\u001b[1mwandb\u001b[0m:   1 of 1 files downloaded.  \n"
     ]
    },
    {
     "name": "stdout",
     "output_type": "stream",
     "text": [
      "2025-04-19 22:59:18,952 - INFO - Downloaded logs_22ez2vp5:v0 to /scratch/downloaded_artifacts/logs_22ez2vp5:v0\n"
     ]
    },
    {
     "name": "stderr",
     "output_type": "stream",
     "text": [
      "\u001b[34m\u001b[1mwandb\u001b[0m:   1 of 1 files downloaded.  \n"
     ]
    },
    {
     "name": "stdout",
     "output_type": "stream",
     "text": [
      "2025-04-19 22:59:19,006 - INFO - Downloaded logs_9h57hzrh:v0 to /scratch/downloaded_artifacts/logs_9h57hzrh:v0\n"
     ]
    },
    {
     "name": "stderr",
     "output_type": "stream",
     "text": [
      "\u001b[34m\u001b[1mwandb\u001b[0m:   1 of 1 files downloaded.  \n"
     ]
    },
    {
     "name": "stdout",
     "output_type": "stream",
     "text": [
      "2025-04-19 22:59:19,037 - INFO - Downloaded logs_v3ksc2wf:v0 to /scratch/downloaded_artifacts/logs_v3ksc2wf:v0\n"
     ]
    },
    {
     "name": "stderr",
     "output_type": "stream",
     "text": [
      "\u001b[34m\u001b[1mwandb\u001b[0m:   1 of 1 files downloaded.  \n"
     ]
    },
    {
     "name": "stdout",
     "output_type": "stream",
     "text": [
      "2025-04-19 22:59:19,412 - INFO - Downloaded logs_kncf06ff:v0 to /scratch/downloaded_artifacts/logs_kncf06ff:v0\n"
     ]
    },
    {
     "name": "stderr",
     "output_type": "stream",
     "text": [
      "\u001b[34m\u001b[1mwandb\u001b[0m:   1 of 1 files downloaded.  \n"
     ]
    },
    {
     "name": "stdout",
     "output_type": "stream",
     "text": [
      "2025-04-19 22:59:19,488 - INFO - Downloaded logs_t9k1h7xo:v0 to /scratch/downloaded_artifacts/logs_t9k1h7xo:v0\n"
     ]
    },
    {
     "name": "stderr",
     "output_type": "stream",
     "text": [
      "\u001b[34m\u001b[1mwandb\u001b[0m:   1 of 1 files downloaded.  \n"
     ]
    },
    {
     "name": "stdout",
     "output_type": "stream",
     "text": [
      "2025-04-19 22:59:19,684 - INFO - Downloaded logs_nyabdm68:v0 to /scratch/downloaded_artifacts/logs_nyabdm68:v0\n"
     ]
    },
    {
     "name": "stderr",
     "output_type": "stream",
     "text": [
      "\u001b[34m\u001b[1mwandb\u001b[0m:   1 of 1 files downloaded.  \n"
     ]
    },
    {
     "name": "stdout",
     "output_type": "stream",
     "text": [
      "2025-04-19 22:59:19,700 - INFO - Downloaded logs_l043cyzw:v0 to /scratch/downloaded_artifacts/logs_l043cyzw:v0\n"
     ]
    },
    {
     "name": "stderr",
     "output_type": "stream",
     "text": [
      "\u001b[34m\u001b[1mwandb\u001b[0m:   1 of 1 files downloaded.  \n"
     ]
    },
    {
     "name": "stdout",
     "output_type": "stream",
     "text": [
      "2025-04-19 22:59:20,468 - INFO - Downloaded logs_txmp3wto:v0 to /scratch/downloaded_artifacts/logs_txmp3wto:v0\n"
     ]
    },
    {
     "name": "stderr",
     "output_type": "stream",
     "text": [
      "\u001b[34m\u001b[1mwandb\u001b[0m:   1 of 1 files downloaded.  \n"
     ]
    },
    {
     "name": "stdout",
     "output_type": "stream",
     "text": [
      "2025-04-19 22:59:20,532 - INFO - Downloaded logs_50f0re6a:v0 to /scratch/downloaded_artifacts/logs_50f0re6a:v0\n"
     ]
    },
    {
     "name": "stderr",
     "output_type": "stream",
     "text": [
      "\u001b[34m\u001b[1mwandb\u001b[0m:   1 of 1 files downloaded.  \n"
     ]
    },
    {
     "name": "stdout",
     "output_type": "stream",
     "text": [
      "2025-04-19 22:59:20,545 - INFO - Downloaded logs_xyhrluno:v0 to /scratch/downloaded_artifacts/logs_xyhrluno:v0\n"
     ]
    },
    {
     "name": "stderr",
     "output_type": "stream",
     "text": [
      "\u001b[34m\u001b[1mwandb\u001b[0m:   1 of 1 files downloaded.  \n"
     ]
    },
    {
     "name": "stdout",
     "output_type": "stream",
     "text": [
      "2025-04-19 22:59:20,989 - INFO - Downloaded logs_c78t1mcf:v0 to /scratch/downloaded_artifacts/logs_c78t1mcf:v0\n"
     ]
    },
    {
     "name": "stderr",
     "output_type": "stream",
     "text": [
      "\u001b[34m\u001b[1mwandb\u001b[0m:   1 of 1 files downloaded.  \n"
     ]
    },
    {
     "name": "stdout",
     "output_type": "stream",
     "text": [
      "2025-04-19 22:59:21,327 - INFO - Downloaded logs_uq1ldyat:v0 to /scratch/downloaded_artifacts/logs_uq1ldyat:v0\n"
     ]
    },
    {
     "name": "stderr",
     "output_type": "stream",
     "text": [
      "\u001b[34m\u001b[1mwandb\u001b[0m:   1 of 1 files downloaded.  \n"
     ]
    },
    {
     "name": "stdout",
     "output_type": "stream",
     "text": [
      "2025-04-19 22:59:21,332 - INFO - Downloaded logs_o3u96aac:v0 to /scratch/downloaded_artifacts/logs_o3u96aac:v0\n"
     ]
    },
    {
     "name": "stderr",
     "output_type": "stream",
     "text": [
      "\u001b[34m\u001b[1mwandb\u001b[0m:   1 of 1 files downloaded.  \n"
     ]
    },
    {
     "name": "stdout",
     "output_type": "stream",
     "text": [
      "2025-04-19 22:59:21,675 - INFO - Downloaded logs_a3j4j38l:v0 to /scratch/downloaded_artifacts/logs_a3j4j38l:v0\n"
     ]
    },
    {
     "name": "stderr",
     "output_type": "stream",
     "text": [
      "\u001b[34m\u001b[1mwandb\u001b[0m:   1 of 1 files downloaded.  \n"
     ]
    },
    {
     "name": "stdout",
     "output_type": "stream",
     "text": [
      "2025-04-19 22:59:21,767 - INFO - Downloaded logs_fm79ry9r:v0 to /scratch/downloaded_artifacts/logs_fm79ry9r:v0\n"
     ]
    },
    {
     "name": "stderr",
     "output_type": "stream",
     "text": [
      "\u001b[34m\u001b[1mwandb\u001b[0m:   1 of 1 files downloaded.  \n"
     ]
    },
    {
     "name": "stdout",
     "output_type": "stream",
     "text": [
      "2025-04-19 22:59:22,215 - INFO - Downloaded logs_htiohigi:v0 to /scratch/downloaded_artifacts/logs_htiohigi:v0\n"
     ]
    },
    {
     "name": "stderr",
     "output_type": "stream",
     "text": [
      "\u001b[34m\u001b[1mwandb\u001b[0m:   1 of 1 files downloaded.  \n"
     ]
    },
    {
     "name": "stdout",
     "output_type": "stream",
     "text": [
      "2025-04-19 22:59:22,416 - INFO - Downloaded logs_1i946oxd:v0 to /scratch/downloaded_artifacts/logs_1i946oxd:v0\n"
     ]
    },
    {
     "name": "stderr",
     "output_type": "stream",
     "text": [
      "\u001b[34m\u001b[1mwandb\u001b[0m:   1 of 1 files downloaded.  \n"
     ]
    },
    {
     "name": "stdout",
     "output_type": "stream",
     "text": [
      "2025-04-19 22:59:22,459 - INFO - Downloaded logs_sdqp3qse:v0 to /scratch/downloaded_artifacts/logs_sdqp3qse:v0\n"
     ]
    },
    {
     "name": "stderr",
     "output_type": "stream",
     "text": [
      "\u001b[34m\u001b[1mwandb\u001b[0m:   1 of 1 files downloaded.  \n"
     ]
    },
    {
     "name": "stdout",
     "output_type": "stream",
     "text": [
      "2025-04-19 22:59:22,508 - INFO - Downloaded logs_85drc8q0:v0 to /scratch/downloaded_artifacts/logs_85drc8q0:v0\n"
     ]
    },
    {
     "name": "stderr",
     "output_type": "stream",
     "text": [
      "\u001b[34m\u001b[1mwandb\u001b[0m:   1 of 1 files downloaded.  \n"
     ]
    },
    {
     "name": "stdout",
     "output_type": "stream",
     "text": [
      "2025-04-19 22:59:22,516 - INFO - Downloaded logs_sihfdkk9:v0 to /scratch/downloaded_artifacts/logs_sihfdkk9:v0\n"
     ]
    },
    {
     "name": "stderr",
     "output_type": "stream",
     "text": [
      "\u001b[34m\u001b[1mwandb\u001b[0m:   1 of 1 files downloaded.  \n"
     ]
    },
    {
     "name": "stdout",
     "output_type": "stream",
     "text": [
      "2025-04-19 22:59:22,543 - INFO - Downloaded logs_25q6hq2r:v0 to /scratch/downloaded_artifacts/logs_25q6hq2r:v0\n"
     ]
    },
    {
     "name": "stderr",
     "output_type": "stream",
     "text": [
      "\u001b[34m\u001b[1mwandb\u001b[0m:   1 of 1 files downloaded.  \n"
     ]
    },
    {
     "name": "stdout",
     "output_type": "stream",
     "text": [
      "2025-04-19 22:59:22,639 - INFO - Downloaded logs_1jgi09o8:v0 to /scratch/downloaded_artifacts/logs_1jgi09o8:v0\n"
     ]
    },
    {
     "name": "stderr",
     "output_type": "stream",
     "text": [
      "\u001b[34m\u001b[1mwandb\u001b[0m:   1 of 1 files downloaded.  \n"
     ]
    },
    {
     "name": "stdout",
     "output_type": "stream",
     "text": [
      "2025-04-19 22:59:22,672 - INFO - Downloaded logs_q2hd2m68:v0 to /scratch/downloaded_artifacts/logs_q2hd2m68:v0\n"
     ]
    },
    {
     "name": "stderr",
     "output_type": "stream",
     "text": [
      "\u001b[34m\u001b[1mwandb\u001b[0m:   1 of 1 files downloaded.  \n"
     ]
    },
    {
     "name": "stdout",
     "output_type": "stream",
     "text": [
      "2025-04-19 22:59:22,866 - INFO - Downloaded logs_d9xkxnzt:v0 to /scratch/downloaded_artifacts/logs_d9xkxnzt:v0\n"
     ]
    },
    {
     "name": "stderr",
     "output_type": "stream",
     "text": [
      "\u001b[34m\u001b[1mwandb\u001b[0m:   1 of 1 files downloaded.  \n"
     ]
    },
    {
     "name": "stdout",
     "output_type": "stream",
     "text": [
      "2025-04-19 22:59:22,902 - INFO - Downloaded logs_rohh03zi:v0 to /scratch/downloaded_artifacts/logs_rohh03zi:v0\n"
     ]
    },
    {
     "name": "stderr",
     "output_type": "stream",
     "text": [
      "\u001b[34m\u001b[1mwandb\u001b[0m:   1 of 1 files downloaded.  \n"
     ]
    },
    {
     "name": "stdout",
     "output_type": "stream",
     "text": [
      "2025-04-19 22:59:23,007 - INFO - Downloaded logs_jf7uso35:v0 to /scratch/downloaded_artifacts/logs_jf7uso35:v0\n"
     ]
    },
    {
     "name": "stderr",
     "output_type": "stream",
     "text": [
      "\u001b[34m\u001b[1mwandb\u001b[0m:   1 of 1 files downloaded.  \n"
     ]
    },
    {
     "name": "stdout",
     "output_type": "stream",
     "text": [
      "2025-04-19 22:59:23,059 - INFO - Downloaded logs_pqhtwr8r:v0 to /scratch/downloaded_artifacts/logs_pqhtwr8r:v0\n"
     ]
    },
    {
     "name": "stderr",
     "output_type": "stream",
     "text": [
      "\u001b[34m\u001b[1mwandb\u001b[0m:   1 of 1 files downloaded.  \n"
     ]
    },
    {
     "name": "stdout",
     "output_type": "stream",
     "text": [
      "2025-04-19 22:59:23,135 - INFO - Downloaded logs_b9cntpxb:v0 to /scratch/downloaded_artifacts/logs_b9cntpxb:v0\n"
     ]
    },
    {
     "name": "stderr",
     "output_type": "stream",
     "text": [
      "\u001b[34m\u001b[1mwandb\u001b[0m:   1 of 1 files downloaded.  \n"
     ]
    },
    {
     "name": "stdout",
     "output_type": "stream",
     "text": [
      "2025-04-19 22:59:23,235 - INFO - Downloaded logs_w6ah2bpc:v0 to /scratch/downloaded_artifacts/logs_w6ah2bpc:v0\n"
     ]
    },
    {
     "name": "stderr",
     "output_type": "stream",
     "text": [
      "\u001b[34m\u001b[1mwandb\u001b[0m:   1 of 1 files downloaded.  \n"
     ]
    },
    {
     "name": "stdout",
     "output_type": "stream",
     "text": [
      "2025-04-19 22:59:23,245 - INFO - Downloaded logs_znr1twf1:v0 to /scratch/downloaded_artifacts/logs_znr1twf1:v0\n"
     ]
    },
    {
     "name": "stderr",
     "output_type": "stream",
     "text": [
      "\u001b[34m\u001b[1mwandb\u001b[0m:   1 of 1 files downloaded.  \n"
     ]
    },
    {
     "name": "stdout",
     "output_type": "stream",
     "text": [
      "2025-04-19 22:59:23,300 - INFO - Downloaded logs_4vmwrk9d:v0 to /scratch/downloaded_artifacts/logs_4vmwrk9d:v0\n"
     ]
    },
    {
     "name": "stderr",
     "output_type": "stream",
     "text": [
      "\u001b[34m\u001b[1mwandb\u001b[0m:   1 of 1 files downloaded.  \n"
     ]
    },
    {
     "name": "stdout",
     "output_type": "stream",
     "text": [
      "2025-04-19 22:59:23,304 - INFO - Downloaded logs_05o767m2:v0 to /scratch/downloaded_artifacts/logs_05o767m2:v0\n"
     ]
    },
    {
     "name": "stderr",
     "output_type": "stream",
     "text": [
      "\u001b[34m\u001b[1mwandb\u001b[0m:   1 of 1 files downloaded.  \n"
     ]
    },
    {
     "name": "stdout",
     "output_type": "stream",
     "text": [
      "2025-04-19 22:59:23,334 - INFO - Downloaded logs_8mp11tkn:v0 to /scratch/downloaded_artifacts/logs_8mp11tkn:v0\n"
     ]
    },
    {
     "name": "stderr",
     "output_type": "stream",
     "text": [
      "\u001b[34m\u001b[1mwandb\u001b[0m:   1 of 1 files downloaded.  \n"
     ]
    },
    {
     "name": "stdout",
     "output_type": "stream",
     "text": [
      "2025-04-19 22:59:23,520 - INFO - Downloaded logs_9z2kfxh7:v0 to /scratch/downloaded_artifacts/logs_9z2kfxh7:v0\n"
     ]
    },
    {
     "name": "stderr",
     "output_type": "stream",
     "text": [
      "\u001b[34m\u001b[1mwandb\u001b[0m:   1 of 1 files downloaded.  \n"
     ]
    },
    {
     "name": "stdout",
     "output_type": "stream",
     "text": [
      "2025-04-19 22:59:23,530 - INFO - Downloaded logs_8sndigug:v0 to /scratch/downloaded_artifacts/logs_8sndigug:v0\n"
     ]
    },
    {
     "name": "stderr",
     "output_type": "stream",
     "text": [
      "\u001b[34m\u001b[1mwandb\u001b[0m:   1 of 1 files downloaded.  \n"
     ]
    },
    {
     "name": "stdout",
     "output_type": "stream",
     "text": [
      "2025-04-19 22:59:23,815 - INFO - Downloaded logs_aewgkbrq:v0 to /scratch/downloaded_artifacts/logs_aewgkbrq:v0\n"
     ]
    },
    {
     "name": "stderr",
     "output_type": "stream",
     "text": [
      "\u001b[34m\u001b[1mwandb\u001b[0m:   1 of 1 files downloaded.  \n"
     ]
    },
    {
     "name": "stdout",
     "output_type": "stream",
     "text": [
      "2025-04-19 22:59:24,029 - INFO - Downloaded logs_do3enjq4:v0 to /scratch/downloaded_artifacts/logs_do3enjq4:v0\n"
     ]
    },
    {
     "name": "stderr",
     "output_type": "stream",
     "text": [
      "\u001b[34m\u001b[1mwandb\u001b[0m:   1 of 1 files downloaded.  \n"
     ]
    },
    {
     "name": "stdout",
     "output_type": "stream",
     "text": [
      "2025-04-19 22:59:24,063 - INFO - Downloaded logs_b3zhki6w:v0 to /scratch/downloaded_artifacts/logs_b3zhki6w:v0\n"
     ]
    },
    {
     "name": "stderr",
     "output_type": "stream",
     "text": [
      "\u001b[34m\u001b[1mwandb\u001b[0m:   1 of 1 files downloaded.  \n"
     ]
    },
    {
     "name": "stdout",
     "output_type": "stream",
     "text": [
      "2025-04-19 22:59:24,191 - INFO - Downloaded logs_iorb1pfa:v0 to /scratch/downloaded_artifacts/logs_iorb1pfa:v0\n"
     ]
    },
    {
     "name": "stderr",
     "output_type": "stream",
     "text": [
      "\u001b[34m\u001b[1mwandb\u001b[0m:   1 of 1 files downloaded.  \n"
     ]
    },
    {
     "name": "stdout",
     "output_type": "stream",
     "text": [
      "2025-04-19 22:59:24,217 - INFO - Downloaded logs_gtjxwjr8:v0 to /scratch/downloaded_artifacts/logs_gtjxwjr8:v0\n"
     ]
    },
    {
     "name": "stderr",
     "output_type": "stream",
     "text": [
      "\u001b[34m\u001b[1mwandb\u001b[0m:   1 of 1 files downloaded.  \n"
     ]
    },
    {
     "name": "stdout",
     "output_type": "stream",
     "text": [
      "2025-04-19 22:59:24,234 - INFO - Downloaded logs_ec0neq83:v0 to /scratch/downloaded_artifacts/logs_ec0neq83:v0\n"
     ]
    },
    {
     "name": "stderr",
     "output_type": "stream",
     "text": [
      "\u001b[34m\u001b[1mwandb\u001b[0m:   1 of 1 files downloaded.  \n"
     ]
    },
    {
     "name": "stdout",
     "output_type": "stream",
     "text": [
      "2025-04-19 22:59:24,385 - INFO - Downloaded logs_o484sumu:v0 to /scratch/downloaded_artifacts/logs_o484sumu:v0\n"
     ]
    },
    {
     "name": "stderr",
     "output_type": "stream",
     "text": [
      "\u001b[34m\u001b[1mwandb\u001b[0m:   1 of 1 files downloaded.  \n"
     ]
    },
    {
     "name": "stdout",
     "output_type": "stream",
     "text": [
      "2025-04-19 22:59:24,417 - INFO - Downloaded logs_w2mczflp:v0 to /scratch/downloaded_artifacts/logs_w2mczflp:v0\n"
     ]
    },
    {
     "name": "stderr",
     "output_type": "stream",
     "text": [
      "\u001b[34m\u001b[1mwandb\u001b[0m:   1 of 1 files downloaded.  \n"
     ]
    },
    {
     "name": "stdout",
     "output_type": "stream",
     "text": [
      "2025-04-19 22:59:24,788 - INFO - Downloaded logs_xhmc5m3s:v0 to /scratch/downloaded_artifacts/logs_xhmc5m3s:v0\n"
     ]
    },
    {
     "name": "stderr",
     "output_type": "stream",
     "text": [
      "\u001b[34m\u001b[1mwandb\u001b[0m:   1 of 1 files downloaded.  \n"
     ]
    },
    {
     "name": "stdout",
     "output_type": "stream",
     "text": [
      "2025-04-19 22:59:24,813 - INFO - Downloaded logs_y4sim8o6:v0 to /scratch/downloaded_artifacts/logs_y4sim8o6:v0\n"
     ]
    },
    {
     "name": "stderr",
     "output_type": "stream",
     "text": [
      "\u001b[34m\u001b[1mwandb\u001b[0m:   1 of 1 files downloaded.  \n"
     ]
    },
    {
     "name": "stdout",
     "output_type": "stream",
     "text": [
      "2025-04-19 22:59:24,890 - INFO - Downloaded logs_5btzi2ez:v0 to /scratch/downloaded_artifacts/logs_5btzi2ez:v0\n"
     ]
    },
    {
     "name": "stderr",
     "output_type": "stream",
     "text": [
      "\u001b[34m\u001b[1mwandb\u001b[0m:   1 of 1 files downloaded.  \n"
     ]
    },
    {
     "name": "stdout",
     "output_type": "stream",
     "text": [
      "2025-04-19 22:59:24,974 - INFO - Downloaded logs_b10ftyza:v0 to /scratch/downloaded_artifacts/logs_b10ftyza:v0\n"
     ]
    },
    {
     "name": "stderr",
     "output_type": "stream",
     "text": [
      "\u001b[34m\u001b[1mwandb\u001b[0m: \u001b[33mWARNING\u001b[0m Cache size exceeded. Attempting to reclaim space...\n",
      "\u001b[34m\u001b[1mwandb\u001b[0m: \u001b[33mWARNING\u001b[0m Cache contains 172.8MB of temporary files. Run `wandb artifact cleanup --remove-temp` to remove them.\n",
      "\u001b[34m\u001b[1mwandb\u001b[0m: \u001b[33mWARNING\u001b[0m Cache size exceeded. Attempting to reclaim space...\n",
      "\u001b[34m\u001b[1mwandb\u001b[0m: \u001b[33mWARNING\u001b[0m Cache contains 175.3MB of temporary files. Run `wandb artifact cleanup --remove-temp` to remove them.\n"
     ]
    },
    {
     "name": "stdout",
     "output_type": "stream",
     "text": [
      "2025-04-19 22:59:25,095 - ERROR - Error downloading artifact for run 2ktqpy8r: [Errno 28] No space left on device\n",
      "2025-04-19 22:59:25,095 - ERROR - Error downloading artifact for run ari0dlbz: [Errno 28] No space left on device\n",
      "2025-04-19 22:59:25,095 - ERROR - Error downloading artifact for run 4pew85i4: [Errno 28] No space left on device\n",
      "2025-04-19 22:59:25,096 - ERROR - Error downloading artifact for run 6xmhweux: [Errno 28] No space left on device\n",
      "2025-04-19 22:59:25,096 - ERROR - Error downloading artifact for run rllns0sh: [Errno 28] No space left on device\n"
     ]
    },
    {
     "name": "stderr",
     "output_type": "stream",
     "text": [
      "\u001b[34m\u001b[1mwandb\u001b[0m:   1 of 1 files downloaded.  \n"
     ]
    },
    {
     "name": "stdout",
     "output_type": "stream",
     "text": [
      "2025-04-19 22:59:25,096 - ERROR - Error downloading artifact for run sncepu9i: [Errno 28] No space left on device\n",
      "2025-04-19 22:59:25,097 - ERROR - Error downloading artifact for run 3c1y9io2: [Errno 28] No space left on device\n",
      "2025-04-19 22:59:25,097 - ERROR - Error downloading artifact for run 6sawc4av: [Errno 28] No space left on device\n",
      "2025-04-19 22:59:25,097 - ERROR - Error downloading artifact for run bsu2leyl: [Errno 28] No space left on device\n",
      "2025-04-19 22:59:25,097 - ERROR - Error downloading artifact for run a78iv4cl: [Errno 28] No space left on device\n",
      "2025-04-19 22:59:25,099 - ERROR - Error downloading artifact for run i9h3lse6: [Errno 28] No space left on device\n",
      "2025-04-19 22:59:25,116 - INFO - Downloaded logs_u7gyuqka:v0 to /scratch/downloaded_artifacts/logs_u7gyuqka:v0\n"
     ]
    },
    {
     "name": "stderr",
     "output_type": "stream",
     "text": [
      "\u001b[34m\u001b[1mwandb\u001b[0m:   1 of 1 files downloaded.  \n"
     ]
    },
    {
     "name": "stdout",
     "output_type": "stream",
     "text": [
      "2025-04-19 22:59:25,762 - INFO - Downloaded logs_le357jh3:v0 to /scratch/downloaded_artifacts/logs_le357jh3:v0\n"
     ]
    },
    {
     "name": "stderr",
     "output_type": "stream",
     "text": [
      "\u001b[34m\u001b[1mwandb\u001b[0m:   1 of 1 files downloaded.  \n"
     ]
    },
    {
     "name": "stdout",
     "output_type": "stream",
     "text": [
      "2025-04-19 22:59:26,144 - INFO - Downloaded logs_mrgrn2yt:v0 to /scratch/downloaded_artifacts/logs_mrgrn2yt:v0\n"
     ]
    },
    {
     "name": "stderr",
     "output_type": "stream",
     "text": [
      "\u001b[34m\u001b[1mwandb\u001b[0m:   1 of 1 files downloaded.  \n"
     ]
    },
    {
     "name": "stdout",
     "output_type": "stream",
     "text": [
      "2025-04-19 22:59:26,727 - INFO - Downloaded logs_el7ry3dv:v0 to /scratch/downloaded_artifacts/logs_el7ry3dv:v0\n"
     ]
    },
    {
     "name": "stderr",
     "output_type": "stream",
     "text": [
      "\u001b[34m\u001b[1mwandb\u001b[0m:   1 of 1 files downloaded.  \n"
     ]
    },
    {
     "name": "stdout",
     "output_type": "stream",
     "text": [
      "2025-04-19 22:59:26,860 - INFO - Downloaded logs_upwrivqh:v0 to /scratch/downloaded_artifacts/logs_upwrivqh:v0\n"
     ]
    },
    {
     "name": "stderr",
     "output_type": "stream",
     "text": [
      "\u001b[34m\u001b[1mwandb\u001b[0m:   1 of 1 files downloaded.  \n"
     ]
    },
    {
     "name": "stdout",
     "output_type": "stream",
     "text": [
      "2025-04-19 22:59:27,030 - INFO - Downloaded logs_39m8dnvd:v0 to /scratch/downloaded_artifacts/logs_39m8dnvd:v0\n"
     ]
    },
    {
     "name": "stderr",
     "output_type": "stream",
     "text": [
      "\u001b[34m\u001b[1mwandb\u001b[0m:   1 of 1 files downloaded.  \n"
     ]
    },
    {
     "name": "stdout",
     "output_type": "stream",
     "text": [
      "2025-04-19 22:59:27,255 - INFO - Downloaded logs_lgg0cngw:v0 to /scratch/downloaded_artifacts/logs_lgg0cngw:v0\n"
     ]
    },
    {
     "name": "stderr",
     "output_type": "stream",
     "text": [
      "\u001b[34m\u001b[1mwandb\u001b[0m:   1 of 1 files downloaded.  \n"
     ]
    },
    {
     "name": "stdout",
     "output_type": "stream",
     "text": [
      "2025-04-19 22:59:27,366 - INFO - Downloaded logs_c1izf15x:v0 to /scratch/downloaded_artifacts/logs_c1izf15x:v0\n"
     ]
    },
    {
     "name": "stderr",
     "output_type": "stream",
     "text": [
      "\u001b[34m\u001b[1mwandb\u001b[0m:   1 of 1 files downloaded.  \n"
     ]
    },
    {
     "name": "stdout",
     "output_type": "stream",
     "text": [
      "2025-04-19 22:59:27,489 - INFO - Downloaded logs_lqzd50jm:v0 to /scratch/downloaded_artifacts/logs_lqzd50jm:v0\n"
     ]
    },
    {
     "name": "stderr",
     "output_type": "stream",
     "text": [
      "\u001b[34m\u001b[1mwandb\u001b[0m:   1 of 1 files downloaded.  \n"
     ]
    },
    {
     "name": "stdout",
     "output_type": "stream",
     "text": [
      "2025-04-19 22:59:27,516 - INFO - Downloaded logs_ctmafb13:v0 to /scratch/downloaded_artifacts/logs_ctmafb13:v0\n"
     ]
    },
    {
     "name": "stderr",
     "output_type": "stream",
     "text": [
      "\u001b[34m\u001b[1mwandb\u001b[0m:   1 of 1 files downloaded.  \n"
     ]
    },
    {
     "name": "stdout",
     "output_type": "stream",
     "text": [
      "2025-04-19 22:59:27,523 - INFO - Downloaded logs_0f1rlw45:v0 to /scratch/downloaded_artifacts/logs_0f1rlw45:v0\n"
     ]
    },
    {
     "name": "stderr",
     "output_type": "stream",
     "text": [
      "\u001b[34m\u001b[1mwandb\u001b[0m:   1 of 1 files downloaded.  \n"
     ]
    },
    {
     "name": "stdout",
     "output_type": "stream",
     "text": [
      "2025-04-19 22:59:27,540 - INFO - Downloaded logs_7u5vyogc:v0 to /scratch/downloaded_artifacts/logs_7u5vyogc:v0\n"
     ]
    },
    {
     "name": "stderr",
     "output_type": "stream",
     "text": [
      "\u001b[34m\u001b[1mwandb\u001b[0m:   1 of 1 files downloaded.  \n"
     ]
    },
    {
     "name": "stdout",
     "output_type": "stream",
     "text": [
      "2025-04-19 22:59:27,557 - INFO - Downloaded logs_d071w0ca:v0 to /scratch/downloaded_artifacts/logs_d071w0ca:v0\n"
     ]
    },
    {
     "name": "stderr",
     "output_type": "stream",
     "text": [
      "\u001b[34m\u001b[1mwandb\u001b[0m:   1 of 1 files downloaded.  \n"
     ]
    },
    {
     "name": "stdout",
     "output_type": "stream",
     "text": [
      "2025-04-19 22:59:27,583 - INFO - Downloaded logs_h0yiry1n:v0 to /scratch/downloaded_artifacts/logs_h0yiry1n:v0\n"
     ]
    },
    {
     "name": "stderr",
     "output_type": "stream",
     "text": [
      "\u001b[34m\u001b[1mwandb\u001b[0m:   1 of 1 files downloaded.  \n"
     ]
    },
    {
     "name": "stdout",
     "output_type": "stream",
     "text": [
      "2025-04-19 22:59:27,617 - INFO - Downloaded logs_hp6qvh5l:v0 to /scratch/downloaded_artifacts/logs_hp6qvh5l:v0\n"
     ]
    },
    {
     "name": "stderr",
     "output_type": "stream",
     "text": [
      "\u001b[34m\u001b[1mwandb\u001b[0m:   1 of 1 files downloaded.  \n"
     ]
    },
    {
     "name": "stdout",
     "output_type": "stream",
     "text": [
      "2025-04-19 22:59:27,635 - INFO - Downloaded logs_qyk2l9s2:v0 to /scratch/downloaded_artifacts/logs_qyk2l9s2:v0\n"
     ]
    },
    {
     "name": "stderr",
     "output_type": "stream",
     "text": [
      "\u001b[34m\u001b[1mwandb\u001b[0m:   1 of 1 files downloaded.  \n"
     ]
    },
    {
     "name": "stdout",
     "output_type": "stream",
     "text": [
      "2025-04-19 22:59:27,696 - INFO - Downloaded logs_q7x1xhdb:v0 to /scratch/downloaded_artifacts/logs_q7x1xhdb:v0\n"
     ]
    },
    {
     "name": "stderr",
     "output_type": "stream",
     "text": [
      "\u001b[34m\u001b[1mwandb\u001b[0m:   1 of 1 files downloaded.  \n"
     ]
    },
    {
     "name": "stdout",
     "output_type": "stream",
     "text": [
      "2025-04-19 22:59:27,767 - INFO - Downloaded logs_tp9v16fl:v0 to /scratch/downloaded_artifacts/logs_tp9v16fl:v0\n"
     ]
    },
    {
     "name": "stderr",
     "output_type": "stream",
     "text": [
      "\u001b[34m\u001b[1mwandb\u001b[0m:   1 of 1 files downloaded.  \n"
     ]
    },
    {
     "name": "stdout",
     "output_type": "stream",
     "text": [
      "2025-04-19 22:59:27,815 - INFO - Downloaded logs_o3nyk8ej:v0 to /scratch/downloaded_artifacts/logs_o3nyk8ej:v0\n"
     ]
    },
    {
     "name": "stderr",
     "output_type": "stream",
     "text": [
      "\u001b[34m\u001b[1mwandb\u001b[0m:   1 of 1 files downloaded.  \n"
     ]
    },
    {
     "name": "stdout",
     "output_type": "stream",
     "text": [
      "2025-04-19 22:59:28,019 - INFO - Downloaded logs_23n3gdm0:v0 to /scratch/downloaded_artifacts/logs_23n3gdm0:v0\n"
     ]
    },
    {
     "name": "stderr",
     "output_type": "stream",
     "text": [
      "\u001b[34m\u001b[1mwandb\u001b[0m:   1 of 1 files downloaded.  \n"
     ]
    },
    {
     "name": "stdout",
     "output_type": "stream",
     "text": [
      "2025-04-19 22:59:28,665 - INFO - Downloaded logs_0fv5d5r9:v0 to /scratch/downloaded_artifacts/logs_0fv5d5r9:v0\n"
     ]
    },
    {
     "name": "stderr",
     "output_type": "stream",
     "text": [
      "\u001b[34m\u001b[1mwandb\u001b[0m:   1 of 1 files downloaded.  \n"
     ]
    },
    {
     "name": "stdout",
     "output_type": "stream",
     "text": [
      "2025-04-19 22:59:30,273 - INFO - Downloaded logs_4ejtoqe2:v0 to /scratch/downloaded_artifacts/logs_4ejtoqe2:v0\n"
     ]
    },
    {
     "name": "stderr",
     "output_type": "stream",
     "text": [
      "\u001b[34m\u001b[1mwandb\u001b[0m:   1 of 1 files downloaded.  \n"
     ]
    },
    {
     "name": "stdout",
     "output_type": "stream",
     "text": [
      "2025-04-19 22:59:31,475 - INFO - Downloaded logs_tlak9l1x:v0 to /scratch/downloaded_artifacts/logs_tlak9l1x:v0\n"
     ]
    },
    {
     "name": "stderr",
     "output_type": "stream",
     "text": [
      "\u001b[34m\u001b[1mwandb\u001b[0m:   1 of 1 files downloaded.  \n"
     ]
    },
    {
     "name": "stdout",
     "output_type": "stream",
     "text": [
      "2025-04-19 22:59:31,524 - INFO - Downloaded logs_0x78mcoo:v0 to /scratch/downloaded_artifacts/logs_0x78mcoo:v0\n"
     ]
    },
    {
     "name": "stderr",
     "output_type": "stream",
     "text": [
      "\u001b[34m\u001b[1mwandb\u001b[0m:   1 of 1 files downloaded.  \n"
     ]
    },
    {
     "name": "stdout",
     "output_type": "stream",
     "text": [
      "2025-04-19 22:59:31,585 - INFO - Downloaded logs_agaa6g4b:v0 to /scratch/downloaded_artifacts/logs_agaa6g4b:v0\n"
     ]
    },
    {
     "name": "stderr",
     "output_type": "stream",
     "text": [
      "\u001b[34m\u001b[1mwandb\u001b[0m:   1 of 1 files downloaded.  \n"
     ]
    },
    {
     "name": "stdout",
     "output_type": "stream",
     "text": [
      "2025-04-19 22:59:31,795 - INFO - Downloaded logs_9i81pnwt:v0 to /scratch/downloaded_artifacts/logs_9i81pnwt:v0\n"
     ]
    },
    {
     "name": "stderr",
     "output_type": "stream",
     "text": [
      "\u001b[34m\u001b[1mwandb\u001b[0m:   1 of 1 files downloaded.  \n"
     ]
    },
    {
     "name": "stdout",
     "output_type": "stream",
     "text": [
      "2025-04-19 22:59:31,878 - INFO - Downloaded logs_bzj8jonx:v0 to /scratch/downloaded_artifacts/logs_bzj8jonx:v0\n"
     ]
    },
    {
     "name": "stderr",
     "output_type": "stream",
     "text": [
      "\u001b[34m\u001b[1mwandb\u001b[0m:   1 of 1 files downloaded.  \n"
     ]
    },
    {
     "name": "stdout",
     "output_type": "stream",
     "text": [
      "2025-04-19 22:59:31,901 - INFO - Downloaded logs_rg14r1vb:v0 to /scratch/downloaded_artifacts/logs_rg14r1vb:v0\n"
     ]
    },
    {
     "name": "stderr",
     "output_type": "stream",
     "text": [
      "\u001b[34m\u001b[1mwandb\u001b[0m:   1 of 1 files downloaded.  \n"
     ]
    },
    {
     "name": "stdout",
     "output_type": "stream",
     "text": [
      "2025-04-19 22:59:31,928 - INFO - Downloaded logs_5yrs8392:v0 to /scratch/downloaded_artifacts/logs_5yrs8392:v0\n"
     ]
    },
    {
     "name": "stderr",
     "output_type": "stream",
     "text": [
      "\u001b[34m\u001b[1mwandb\u001b[0m:   1 of 1 files downloaded.  \n"
     ]
    },
    {
     "name": "stdout",
     "output_type": "stream",
     "text": [
      "2025-04-19 22:59:31,956 - INFO - Downloaded logs_5u50hm1u:v0 to /scratch/downloaded_artifacts/logs_5u50hm1u:v0\n"
     ]
    },
    {
     "name": "stderr",
     "output_type": "stream",
     "text": [
      "\u001b[34m\u001b[1mwandb\u001b[0m:   1 of 1 files downloaded.  \n"
     ]
    },
    {
     "name": "stdout",
     "output_type": "stream",
     "text": [
      "2025-04-19 22:59:31,980 - INFO - Downloaded logs_c7licy9m:v0 to /scratch/downloaded_artifacts/logs_c7licy9m:v0\n"
     ]
    },
    {
     "name": "stderr",
     "output_type": "stream",
     "text": [
      "\u001b[34m\u001b[1mwandb\u001b[0m:   1 of 1 files downloaded.  \n"
     ]
    },
    {
     "name": "stdout",
     "output_type": "stream",
     "text": [
      "2025-04-19 22:59:32,324 - INFO - Downloaded logs_h4aslfbv:v0 to /scratch/downloaded_artifacts/logs_h4aslfbv:v0\n"
     ]
    },
    {
     "name": "stderr",
     "output_type": "stream",
     "text": [
      "\u001b[34m\u001b[1mwandb\u001b[0m:   1 of 1 files downloaded.  \n"
     ]
    },
    {
     "name": "stdout",
     "output_type": "stream",
     "text": [
      "2025-04-19 22:59:32,421 - INFO - Downloaded logs_mx3ntwfy:v0 to /scratch/downloaded_artifacts/logs_mx3ntwfy:v0\n"
     ]
    },
    {
     "name": "stderr",
     "output_type": "stream",
     "text": [
      "\u001b[34m\u001b[1mwandb\u001b[0m:   1 of 1 files downloaded.  \n",
      "\u001b[34m\u001b[1mwandb\u001b[0m:   1 of 1 files downloaded.  \n"
     ]
    },
    {
     "name": "stdout",
     "output_type": "stream",
     "text": [
      "2025-04-19 22:59:32,621 - INFO - Downloaded logs_agx1s2oz:v0 to /scratch/downloaded_artifacts/logs_agx1s2oz:v0\n",
      "2025-04-19 22:59:32,623 - INFO - Downloaded logs_imxizuhc:v0 to /scratch/downloaded_artifacts/logs_imxizuhc:v0\n"
     ]
    },
    {
     "name": "stderr",
     "output_type": "stream",
     "text": [
      "\u001b[34m\u001b[1mwandb\u001b[0m:   1 of 1 files downloaded.  \n"
     ]
    },
    {
     "name": "stdout",
     "output_type": "stream",
     "text": [
      "2025-04-19 22:59:32,694 - INFO - Downloaded logs_7xax6zi7:v0 to /scratch/downloaded_artifacts/logs_7xax6zi7:v0\n"
     ]
    },
    {
     "name": "stderr",
     "output_type": "stream",
     "text": [
      "\u001b[34m\u001b[1mwandb\u001b[0m:   1 of 1 files downloaded.  \n"
     ]
    },
    {
     "name": "stdout",
     "output_type": "stream",
     "text": [
      "2025-04-19 22:59:32,902 - INFO - Downloaded logs_0mmv06rh:v0 to /scratch/downloaded_artifacts/logs_0mmv06rh:v0\n"
     ]
    },
    {
     "name": "stderr",
     "output_type": "stream",
     "text": [
      "\u001b[34m\u001b[1mwandb\u001b[0m:   1 of 1 files downloaded.  \n"
     ]
    },
    {
     "name": "stdout",
     "output_type": "stream",
     "text": [
      "2025-04-19 22:59:32,934 - INFO - Downloaded logs_mifm74t8:v0 to /scratch/downloaded_artifacts/logs_mifm74t8:v0\n"
     ]
    },
    {
     "name": "stderr",
     "output_type": "stream",
     "text": [
      "\u001b[34m\u001b[1mwandb\u001b[0m:   1 of 1 files downloaded.  \n"
     ]
    },
    {
     "name": "stdout",
     "output_type": "stream",
     "text": [
      "2025-04-19 22:59:33,195 - INFO - Downloaded logs_pw22emt6:v0 to /scratch/downloaded_artifacts/logs_pw22emt6:v0\n"
     ]
    },
    {
     "name": "stderr",
     "output_type": "stream",
     "text": [
      "\u001b[34m\u001b[1mwandb\u001b[0m:   1 of 1 files downloaded.  \n"
     ]
    },
    {
     "name": "stdout",
     "output_type": "stream",
     "text": [
      "2025-04-19 22:59:33,210 - INFO - Downloaded logs_j0vjgf06:v0 to /scratch/downloaded_artifacts/logs_j0vjgf06:v0\n"
     ]
    },
    {
     "name": "stderr",
     "output_type": "stream",
     "text": [
      "\u001b[34m\u001b[1mwandb\u001b[0m:   1 of 1 files downloaded.  \n"
     ]
    },
    {
     "name": "stdout",
     "output_type": "stream",
     "text": [
      "2025-04-19 22:59:33,304 - INFO - Downloaded logs_ks799538:v0 to /scratch/downloaded_artifacts/logs_ks799538:v0\n"
     ]
    },
    {
     "name": "stderr",
     "output_type": "stream",
     "text": [
      "\u001b[34m\u001b[1mwandb\u001b[0m:   1 of 1 files downloaded.  \n"
     ]
    },
    {
     "name": "stdout",
     "output_type": "stream",
     "text": [
      "2025-04-19 22:59:33,690 - INFO - Downloaded logs_thul3slz:v0 to /scratch/downloaded_artifacts/logs_thul3slz:v0\n"
     ]
    },
    {
     "name": "stderr",
     "output_type": "stream",
     "text": [
      "\u001b[34m\u001b[1mwandb\u001b[0m:   1 of 1 files downloaded.  \n",
      "\u001b[34m\u001b[1mwandb\u001b[0m:   1 of 1 files downloaded.  \n"
     ]
    },
    {
     "name": "stdout",
     "output_type": "stream",
     "text": [
      "2025-04-19 22:59:34,902 - INFO - Downloaded logs_r3il6u03:v0 to /scratch/downloaded_artifacts/logs_r3il6u03:v0\n",
      "2025-04-19 22:59:34,906 - INFO - Downloaded logs_iicndqt7:v0 to /scratch/downloaded_artifacts/logs_iicndqt7:v0\n"
     ]
    },
    {
     "name": "stderr",
     "output_type": "stream",
     "text": [
      "\u001b[34m\u001b[1mwandb\u001b[0m:   1 of 1 files downloaded.  \n",
      "\u001b[34m\u001b[1mwandb\u001b[0m:   1 of 1 files downloaded.  \n"
     ]
    },
    {
     "name": "stdout",
     "output_type": "stream",
     "text": [
      "2025-04-19 22:59:34,993 - INFO - Downloaded logs_59e3lskq:v0 to /scratch/downloaded_artifacts/logs_59e3lskq:v0\n",
      "2025-04-19 22:59:34,996 - INFO - Downloaded logs_a5ecvont:v0 to /scratch/downloaded_artifacts/logs_a5ecvont:v0\n"
     ]
    },
    {
     "name": "stderr",
     "output_type": "stream",
     "text": [
      "\u001b[34m\u001b[1mwandb\u001b[0m:   1 of 1 files downloaded.  \n"
     ]
    },
    {
     "name": "stdout",
     "output_type": "stream",
     "text": [
      "2025-04-19 22:59:35,017 - INFO - Downloaded logs_mleihey5:v0 to /scratch/downloaded_artifacts/logs_mleihey5:v0\n"
     ]
    },
    {
     "name": "stderr",
     "output_type": "stream",
     "text": [
      "\u001b[34m\u001b[1mwandb\u001b[0m:   1 of 1 files downloaded.  \n"
     ]
    },
    {
     "name": "stdout",
     "output_type": "stream",
     "text": [
      "2025-04-19 22:59:35,114 - INFO - Downloaded logs_986av6cg:v0 to /scratch/downloaded_artifacts/logs_986av6cg:v0\n"
     ]
    },
    {
     "name": "stderr",
     "output_type": "stream",
     "text": [
      "\u001b[34m\u001b[1mwandb\u001b[0m:   1 of 1 files downloaded.  \n"
     ]
    },
    {
     "name": "stdout",
     "output_type": "stream",
     "text": [
      "2025-04-19 22:59:35,126 - INFO - Downloaded logs_avtjz15r:v0 to /scratch/downloaded_artifacts/logs_avtjz15r:v0\n"
     ]
    },
    {
     "name": "stderr",
     "output_type": "stream",
     "text": [
      "\u001b[34m\u001b[1mwandb\u001b[0m:   1 of 1 files downloaded.  \n"
     ]
    },
    {
     "name": "stdout",
     "output_type": "stream",
     "text": [
      "2025-04-19 22:59:35,302 - INFO - Downloaded logs_fkhsiefl:v0 to /scratch/downloaded_artifacts/logs_fkhsiefl:v0\n"
     ]
    },
    {
     "name": "stderr",
     "output_type": "stream",
     "text": [
      "\u001b[34m\u001b[1mwandb\u001b[0m:   1 of 1 files downloaded.  \n"
     ]
    },
    {
     "name": "stdout",
     "output_type": "stream",
     "text": [
      "2025-04-19 22:59:35,674 - INFO - Downloaded logs_rjj9xzvd:v0 to /scratch/downloaded_artifacts/logs_rjj9xzvd:v0\n"
     ]
    },
    {
     "name": "stderr",
     "output_type": "stream",
     "text": [
      "\u001b[34m\u001b[1mwandb\u001b[0m:   1 of 1 files downloaded.  \n"
     ]
    },
    {
     "name": "stdout",
     "output_type": "stream",
     "text": [
      "2025-04-19 22:59:36,042 - INFO - Downloaded logs_cip2gq2y:v0 to /scratch/downloaded_artifacts/logs_cip2gq2y:v0\n"
     ]
    },
    {
     "name": "stderr",
     "output_type": "stream",
     "text": [
      "\u001b[34m\u001b[1mwandb\u001b[0m:   1 of 1 files downloaded.  \n"
     ]
    },
    {
     "name": "stdout",
     "output_type": "stream",
     "text": [
      "2025-04-19 22:59:36,071 - INFO - Downloaded logs_f7gcuk8g:v0 to /scratch/downloaded_artifacts/logs_f7gcuk8g:v0\n"
     ]
    },
    {
     "name": "stderr",
     "output_type": "stream",
     "text": [
      "\u001b[34m\u001b[1mwandb\u001b[0m:   1 of 1 files downloaded.  \n"
     ]
    },
    {
     "name": "stdout",
     "output_type": "stream",
     "text": [
      "2025-04-19 22:59:36,129 - INFO - Downloaded logs_cnsgof83:v0 to /scratch/downloaded_artifacts/logs_cnsgof83:v0\n"
     ]
    },
    {
     "name": "stderr",
     "output_type": "stream",
     "text": [
      "\u001b[34m\u001b[1mwandb\u001b[0m:   1 of 1 files downloaded.  \n"
     ]
    },
    {
     "name": "stdout",
     "output_type": "stream",
     "text": [
      "2025-04-19 22:59:36,139 - INFO - Downloaded logs_dh8d3u7a:v0 to /scratch/downloaded_artifacts/logs_dh8d3u7a:v0\n"
     ]
    },
    {
     "name": "stderr",
     "output_type": "stream",
     "text": [
      "\u001b[34m\u001b[1mwandb\u001b[0m:   1 of 1 files downloaded.  \n"
     ]
    },
    {
     "name": "stdout",
     "output_type": "stream",
     "text": [
      "2025-04-19 22:59:36,204 - INFO - Downloaded logs_aal5fzft:v0 to /scratch/downloaded_artifacts/logs_aal5fzft:v0\n"
     ]
    },
    {
     "name": "stderr",
     "output_type": "stream",
     "text": [
      "\u001b[34m\u001b[1mwandb\u001b[0m:   1 of 1 files downloaded.  \n"
     ]
    },
    {
     "name": "stdout",
     "output_type": "stream",
     "text": [
      "2025-04-19 22:59:36,711 - INFO - Downloaded logs_iegcdqhx:v0 to /scratch/downloaded_artifacts/logs_iegcdqhx:v0\n"
     ]
    },
    {
     "name": "stderr",
     "output_type": "stream",
     "text": [
      "\u001b[34m\u001b[1mwandb\u001b[0m:   1 of 1 files downloaded.  \n"
     ]
    },
    {
     "name": "stdout",
     "output_type": "stream",
     "text": [
      "2025-04-19 22:59:37,110 - INFO - Downloaded logs_o35war91:v0 to /scratch/downloaded_artifacts/logs_o35war91:v0\n"
     ]
    },
    {
     "name": "stderr",
     "output_type": "stream",
     "text": [
      "\u001b[34m\u001b[1mwandb\u001b[0m:   1 of 1 files downloaded.  \n"
     ]
    },
    {
     "name": "stdout",
     "output_type": "stream",
     "text": [
      "2025-04-19 22:59:37,229 - INFO - Downloaded logs_rsy7ov83:v0 to /scratch/downloaded_artifacts/logs_rsy7ov83:v0\n"
     ]
    },
    {
     "name": "stderr",
     "output_type": "stream",
     "text": [
      "\u001b[34m\u001b[1mwandb\u001b[0m:   1 of 1 files downloaded.  \n"
     ]
    },
    {
     "name": "stdout",
     "output_type": "stream",
     "text": [
      "2025-04-19 22:59:37,309 - INFO - Downloaded logs_xz1hcrqc:v0 to /scratch/downloaded_artifacts/logs_xz1hcrqc:v0\n"
     ]
    },
    {
     "name": "stderr",
     "output_type": "stream",
     "text": [
      "\u001b[34m\u001b[1mwandb\u001b[0m:   1 of 1 files downloaded.  \n"
     ]
    },
    {
     "name": "stdout",
     "output_type": "stream",
     "text": [
      "2025-04-19 22:59:37,329 - INFO - Downloaded logs_sbdk7vw4:v0 to /scratch/downloaded_artifacts/logs_sbdk7vw4:v0\n"
     ]
    },
    {
     "name": "stderr",
     "output_type": "stream",
     "text": [
      "\u001b[34m\u001b[1mwandb\u001b[0m:   1 of 1 files downloaded.  \n"
     ]
    },
    {
     "name": "stdout",
     "output_type": "stream",
     "text": [
      "2025-04-19 22:59:37,461 - INFO - Downloaded logs_2jiun78n:v0 to /scratch/downloaded_artifacts/logs_2jiun78n:v0\n"
     ]
    },
    {
     "name": "stderr",
     "output_type": "stream",
     "text": [
      "\u001b[34m\u001b[1mwandb\u001b[0m:   1 of 1 files downloaded.  \n"
     ]
    },
    {
     "name": "stdout",
     "output_type": "stream",
     "text": [
      "2025-04-19 22:59:39,198 - INFO - Downloaded logs_tf5mdrpl:v0 to /scratch/downloaded_artifacts/logs_tf5mdrpl:v0\n"
     ]
    },
    {
     "name": "stderr",
     "output_type": "stream",
     "text": [
      "\u001b[34m\u001b[1mwandb\u001b[0m:   1 of 1 files downloaded.  \n",
      "\u001b[34m\u001b[1mwandb\u001b[0m:   1 of 1 files downloaded.  \n"
     ]
    },
    {
     "name": "stdout",
     "output_type": "stream",
     "text": [
      "2025-04-19 22:59:51,970 - INFO - Downloaded logs_9zzqeybu:v0 to /scratch/downloaded_artifacts/logs_9zzqeybu:v0\n"
     ]
    },
    {
     "name": "stderr",
     "output_type": "stream",
     "text": [
      "\u001b[34m\u001b[1mwandb\u001b[0m:   1 of 1 files downloaded.  \n",
      "\u001b[34m\u001b[1mwandb\u001b[0m:   1 of 1 files downloaded.  \n",
      "\u001b[34m\u001b[1mwandb\u001b[0m:   1 of 1 files downloaded.  \n"
     ]
    },
    {
     "name": "stdout",
     "output_type": "stream",
     "text": [
      "2025-04-19 22:59:51,971 - INFO - Downloaded logs_u0tfvnfh:v0 to /scratch/downloaded_artifacts/logs_u0tfvnfh:v0\n"
     ]
    },
    {
     "name": "stderr",
     "output_type": "stream",
     "text": [
      "\u001b[34m\u001b[1mwandb\u001b[0m:   1 of 1 files downloaded.  \n",
      "\u001b[34m\u001b[1mwandb\u001b[0m:   1 of 1 files downloaded.  \n"
     ]
    },
    {
     "name": "stdout",
     "output_type": "stream",
     "text": [
      "2025-04-19 22:59:51,972 - INFO - Downloaded logs_fn55rwmw:v0 to /scratch/downloaded_artifacts/logs_fn55rwmw:v0\n"
     ]
    },
    {
     "name": "stderr",
     "output_type": "stream",
     "text": [
      "\u001b[34m\u001b[1mwandb\u001b[0m:   1 of 1 files downloaded.  \n"
     ]
    },
    {
     "name": "stdout",
     "output_type": "stream",
     "text": [
      "2025-04-19 22:59:51,974 - INFO - Downloaded logs_8c3f6xfs:v0 to /scratch/downloaded_artifacts/logs_8c3f6xfs:v0\n"
     ]
    },
    {
     "name": "stderr",
     "output_type": "stream",
     "text": [
      "\u001b[34m\u001b[1mwandb\u001b[0m:   1 of 1 files downloaded.  \n",
      "\u001b[34m\u001b[1mwandb\u001b[0m:   1 of 1 files downloaded.  \n"
     ]
    },
    {
     "name": "stdout",
     "output_type": "stream",
     "text": [
      "2025-04-19 22:59:51,974 - INFO - Downloaded logs_wu5r1p9t:v0 to /scratch/downloaded_artifacts/logs_wu5r1p9t:v0\n"
     ]
    },
    {
     "name": "stderr",
     "output_type": "stream",
     "text": [
      "\u001b[34m\u001b[1mwandb\u001b[0m:   1 of 1 files downloaded.  \n"
     ]
    },
    {
     "name": "stdout",
     "output_type": "stream",
     "text": [
      "2025-04-19 22:59:51,974 - INFO - Downloaded logs_1n8ef02u:v0 to /scratch/downloaded_artifacts/logs_1n8ef02u:v0\n"
     ]
    },
    {
     "name": "stderr",
     "output_type": "stream",
     "text": [
      "\u001b[34m\u001b[1mwandb\u001b[0m:   1 of 1 files downloaded.  \n"
     ]
    },
    {
     "name": "stdout",
     "output_type": "stream",
     "text": [
      "2025-04-19 22:59:51,980 - INFO - Downloaded logs_at0z5tv7:v0 to /scratch/downloaded_artifacts/logs_at0z5tv7:v0\n"
     ]
    },
    {
     "name": "stderr",
     "output_type": "stream",
     "text": [
      "\u001b[34m\u001b[1mwandb\u001b[0m:   1 of 1 files downloaded.  \n"
     ]
    },
    {
     "name": "stdout",
     "output_type": "stream",
     "text": [
      "2025-04-19 22:59:51,982 - INFO - Downloaded logs_ztwztuup:v0 to /scratch/downloaded_artifacts/logs_ztwztuup:v0\n",
      "2025-04-19 22:59:51,983 - INFO - Downloaded logs_g5v1vgtq:v0 to /scratch/downloaded_artifacts/logs_g5v1vgtq:v0\n"
     ]
    },
    {
     "name": "stderr",
     "output_type": "stream",
     "text": [
      "\u001b[34m\u001b[1mwandb\u001b[0m:   1 of 1 files downloaded.  \n"
     ]
    },
    {
     "name": "stdout",
     "output_type": "stream",
     "text": [
      "2025-04-19 22:59:51,986 - INFO - Downloaded logs_cpac75ci:v0 to /scratch/downloaded_artifacts/logs_cpac75ci:v0\n"
     ]
    },
    {
     "name": "stderr",
     "output_type": "stream",
     "text": [
      "\u001b[34m\u001b[1mwandb\u001b[0m:   1 of 1 files downloaded.  \n"
     ]
    },
    {
     "name": "stdout",
     "output_type": "stream",
     "text": [
      "2025-04-19 22:59:51,988 - INFO - Downloaded logs_ne32gtyr:v0 to /scratch/downloaded_artifacts/logs_ne32gtyr:v0\n"
     ]
    },
    {
     "name": "stderr",
     "output_type": "stream",
     "text": [
      "\u001b[34m\u001b[1mwandb\u001b[0m:   1 of 1 files downloaded.  \n",
      "\u001b[34m\u001b[1mwandb\u001b[0m:   1 of 1 files downloaded.  \n"
     ]
    },
    {
     "name": "stdout",
     "output_type": "stream",
     "text": [
      "2025-04-19 22:59:51,993 - INFO - Downloaded logs_slppvbpl:v0 to /scratch/downloaded_artifacts/logs_slppvbpl:v0\n"
     ]
    },
    {
     "name": "stderr",
     "output_type": "stream",
     "text": [
      "\u001b[34m\u001b[1mwandb\u001b[0m:   1 of 1 files downloaded.  \n",
      "\u001b[34m\u001b[1mwandb\u001b[0m:   1 of 1 files downloaded.  \n"
     ]
    },
    {
     "name": "stdout",
     "output_type": "stream",
     "text": [
      "2025-04-19 22:59:51,997 - INFO - Downloaded logs_8spb1vc0:v0 to /scratch/downloaded_artifacts/logs_8spb1vc0:v0\n"
     ]
    },
    {
     "name": "stderr",
     "output_type": "stream",
     "text": [
      "\u001b[34m\u001b[1mwandb\u001b[0m:   1 of 1 files downloaded.  \n"
     ]
    },
    {
     "name": "stdout",
     "output_type": "stream",
     "text": [
      "2025-04-19 22:59:52,003 - INFO - Downloaded logs_12uqpyln:v0 to /scratch/downloaded_artifacts/logs_12uqpyln:v0\n",
      "2025-04-19 22:59:52,003 - INFO - Downloaded logs_h8c6jio8:v0 to /scratch/downloaded_artifacts/logs_h8c6jio8:v0\n",
      "2025-04-19 22:59:52,009 - INFO - Downloaded logs_uvdoql7k:v0 to /scratch/downloaded_artifacts/logs_uvdoql7k:v0\n",
      "2025-04-19 22:59:52,011 - INFO - Downloaded logs_n7gan2uv:v0 to /scratch/downloaded_artifacts/logs_n7gan2uv:v0\n",
      "2025-04-19 22:59:52,012 - INFO - Downloaded logs_njv5jg6a:v0 to /scratch/downloaded_artifacts/logs_njv5jg6a:v0\n",
      "2025-04-19 22:59:52,014 - INFO - Downloaded logs_nvrp9x3k:v0 to /scratch/downloaded_artifacts/logs_nvrp9x3k:v0\n",
      "2025-04-19 22:59:52,017 - INFO - Downloaded logs_4c3wfinz:v0 to /scratch/downloaded_artifacts/logs_4c3wfinz:v0\n"
     ]
    },
    {
     "name": "stderr",
     "output_type": "stream",
     "text": [
      "\u001b[34m\u001b[1mwandb\u001b[0m:   1 of 1 files downloaded.  \n"
     ]
    },
    {
     "name": "stdout",
     "output_type": "stream",
     "text": [
      "2025-04-19 22:59:53,684 - INFO - Downloaded logs_5kufaws7:v0 to /scratch/downloaded_artifacts/logs_5kufaws7:v0\n"
     ]
    },
    {
     "name": "stderr",
     "output_type": "stream",
     "text": [
      "\u001b[34m\u001b[1mwandb\u001b[0m:   1 of 1 files downloaded.  \n"
     ]
    },
    {
     "name": "stdout",
     "output_type": "stream",
     "text": [
      "2025-04-19 22:59:53,761 - INFO - Downloaded logs_acccs42y:v0 to /scratch/downloaded_artifacts/logs_acccs42y:v0\n"
     ]
    },
    {
     "name": "stderr",
     "output_type": "stream",
     "text": [
      "\u001b[34m\u001b[1mwandb\u001b[0m:   1 of 1 files downloaded.  \n",
      "\u001b[34m\u001b[1mwandb\u001b[0m:   1 of 1 files downloaded.  \n"
     ]
    },
    {
     "name": "stdout",
     "output_type": "stream",
     "text": [
      "2025-04-19 22:59:53,824 - INFO - Downloaded logs_6dlvi75d:v0 to /scratch/downloaded_artifacts/logs_6dlvi75d:v0\n",
      "2025-04-19 22:59:53,824 - INFO - Downloaded logs_qatz7nf7:v0 to /scratch/downloaded_artifacts/logs_qatz7nf7:v0\n"
     ]
    },
    {
     "name": "stderr",
     "output_type": "stream",
     "text": [
      "\u001b[34m\u001b[1mwandb\u001b[0m:   1 of 1 files downloaded.  \n"
     ]
    },
    {
     "name": "stdout",
     "output_type": "stream",
     "text": [
      "2025-04-19 22:59:54,000 - INFO - Downloaded logs_963e4lys:v0 to /scratch/downloaded_artifacts/logs_963e4lys:v0\n"
     ]
    },
    {
     "name": "stderr",
     "output_type": "stream",
     "text": [
      "\u001b[34m\u001b[1mwandb\u001b[0m:   1 of 1 files downloaded.  \n",
      "\u001b[34m\u001b[1mwandb\u001b[0m:   1 of 1 files downloaded.  \n"
     ]
    },
    {
     "name": "stdout",
     "output_type": "stream",
     "text": [
      "2025-04-19 22:59:54,039 - INFO - Downloaded logs_xa9f1ubh:v0 to /scratch/downloaded_artifacts/logs_xa9f1ubh:v0\n",
      "2025-04-19 22:59:54,043 - INFO - Downloaded logs_gte7tv84:v0 to /scratch/downloaded_artifacts/logs_gte7tv84:v0\n"
     ]
    },
    {
     "name": "stderr",
     "output_type": "stream",
     "text": [
      "\u001b[34m\u001b[1mwandb\u001b[0m:   1 of 1 files downloaded.  \n"
     ]
    },
    {
     "name": "stdout",
     "output_type": "stream",
     "text": [
      "2025-04-19 22:59:54,125 - INFO - Downloaded logs_r62ehbsx:v0 to /scratch/downloaded_artifacts/logs_r62ehbsx:v0\n"
     ]
    },
    {
     "name": "stderr",
     "output_type": "stream",
     "text": [
      "\u001b[34m\u001b[1mwandb\u001b[0m:   1 of 1 files downloaded.  \n"
     ]
    },
    {
     "name": "stdout",
     "output_type": "stream",
     "text": [
      "2025-04-19 22:59:54,146 - INFO - Downloaded logs_zu6jl8zc:v0 to /scratch/downloaded_artifacts/logs_zu6jl8zc:v0\n"
     ]
    },
    {
     "name": "stderr",
     "output_type": "stream",
     "text": [
      "\u001b[34m\u001b[1mwandb\u001b[0m:   1 of 1 files downloaded.  \n"
     ]
    },
    {
     "name": "stdout",
     "output_type": "stream",
     "text": [
      "2025-04-19 22:59:54,172 - INFO - Downloaded logs_et37a94u:v0 to /scratch/downloaded_artifacts/logs_et37a94u:v0\n"
     ]
    },
    {
     "name": "stderr",
     "output_type": "stream",
     "text": [
      "\u001b[34m\u001b[1mwandb\u001b[0m:   1 of 1 files downloaded.  \n",
      "\u001b[34m\u001b[1mwandb\u001b[0m:   1 of 1 files downloaded.  \n",
      "\u001b[34m\u001b[1mwandb\u001b[0m:   1 of 1 files downloaded.  \n"
     ]
    },
    {
     "name": "stdout",
     "output_type": "stream",
     "text": [
      "2025-04-19 22:59:54,229 - INFO - Downloaded logs_41ilcdmj:v0 to /scratch/downloaded_artifacts/logs_41ilcdmj:v0\n",
      "2025-04-19 22:59:54,230 - INFO - Downloaded logs_izj5xb7g:v0 to /scratch/downloaded_artifacts/logs_izj5xb7g:v0\n",
      "2025-04-19 22:59:54,232 - INFO - Downloaded logs_qqf5bq6c:v0 to /scratch/downloaded_artifacts/logs_qqf5bq6c:v0\n"
     ]
    },
    {
     "name": "stderr",
     "output_type": "stream",
     "text": [
      "\u001b[34m\u001b[1mwandb\u001b[0m:   1 of 1 files downloaded.  \n",
      "\u001b[34m\u001b[1mwandb\u001b[0m:   1 of 1 files downloaded.  \n"
     ]
    },
    {
     "name": "stdout",
     "output_type": "stream",
     "text": [
      "2025-04-19 22:59:54,303 - INFO - Downloaded logs_zbzwcv0r:v0 to /scratch/downloaded_artifacts/logs_zbzwcv0r:v0\n",
      "2025-04-19 22:59:54,306 - INFO - Downloaded logs_fe1iunva:v0 to /scratch/downloaded_artifacts/logs_fe1iunva:v0\n"
     ]
    },
    {
     "name": "stderr",
     "output_type": "stream",
     "text": [
      "\u001b[34m\u001b[1mwandb\u001b[0m:   1 of 1 files downloaded.  \n"
     ]
    },
    {
     "name": "stdout",
     "output_type": "stream",
     "text": [
      "2025-04-19 22:59:54,330 - INFO - Downloaded logs_vhtaa1bj:v0 to /scratch/downloaded_artifacts/logs_vhtaa1bj:v0\n"
     ]
    },
    {
     "name": "stderr",
     "output_type": "stream",
     "text": [
      "\u001b[34m\u001b[1mwandb\u001b[0m:   1 of 1 files downloaded.  \n"
     ]
    },
    {
     "name": "stdout",
     "output_type": "stream",
     "text": [
      "2025-04-19 22:59:54,411 - INFO - Downloaded logs_uz44ks27:v0 to /scratch/downloaded_artifacts/logs_uz44ks27:v0\n"
     ]
    },
    {
     "name": "stderr",
     "output_type": "stream",
     "text": [
      "\u001b[34m\u001b[1mwandb\u001b[0m:   1 of 1 files downloaded.  \n"
     ]
    },
    {
     "name": "stdout",
     "output_type": "stream",
     "text": [
      "2025-04-19 22:59:54,416 - INFO - Downloaded logs_9s1ny77r:v0 to /scratch/downloaded_artifacts/logs_9s1ny77r:v0\n"
     ]
    },
    {
     "name": "stderr",
     "output_type": "stream",
     "text": [
      "\u001b[34m\u001b[1mwandb\u001b[0m:   1 of 1 files downloaded.  \n"
     ]
    },
    {
     "name": "stdout",
     "output_type": "stream",
     "text": [
      "2025-04-19 22:59:54,428 - INFO - Downloaded logs_0l25l636:v0 to /scratch/downloaded_artifacts/logs_0l25l636:v0\n"
     ]
    },
    {
     "name": "stderr",
     "output_type": "stream",
     "text": [
      "\u001b[34m\u001b[1mwandb\u001b[0m:   1 of 1 files downloaded.  \n"
     ]
    },
    {
     "name": "stdout",
     "output_type": "stream",
     "text": [
      "2025-04-19 22:59:54,585 - INFO - Downloaded logs_vtq21m69:v0 to /scratch/downloaded_artifacts/logs_vtq21m69:v0\n"
     ]
    },
    {
     "name": "stderr",
     "output_type": "stream",
     "text": [
      "\u001b[34m\u001b[1mwandb\u001b[0m:   1 of 1 files downloaded.  \n"
     ]
    },
    {
     "name": "stdout",
     "output_type": "stream",
     "text": [
      "2025-04-19 22:59:55,089 - INFO - Downloaded logs_4nzbdeai:v0 to /scratch/downloaded_artifacts/logs_4nzbdeai:v0\n"
     ]
    },
    {
     "name": "stderr",
     "output_type": "stream",
     "text": [
      "\u001b[34m\u001b[1mwandb\u001b[0m:   1 of 1 files downloaded.  \n"
     ]
    },
    {
     "name": "stdout",
     "output_type": "stream",
     "text": [
      "2025-04-19 22:59:55,176 - INFO - Downloaded logs_txtxmem1:v0 to /scratch/downloaded_artifacts/logs_txtxmem1:v0\n"
     ]
    },
    {
     "name": "stderr",
     "output_type": "stream",
     "text": [
      "\u001b[34m\u001b[1mwandb\u001b[0m:   1 of 1 files downloaded.  \n"
     ]
    },
    {
     "name": "stdout",
     "output_type": "stream",
     "text": [
      "2025-04-19 22:59:55,184 - INFO - Downloaded logs_qopkbzrg:v0 to /scratch/downloaded_artifacts/logs_qopkbzrg:v0\n"
     ]
    },
    {
     "name": "stderr",
     "output_type": "stream",
     "text": [
      "\u001b[34m\u001b[1mwandb\u001b[0m:   1 of 1 files downloaded.  \n"
     ]
    },
    {
     "name": "stdout",
     "output_type": "stream",
     "text": [
      "2025-04-19 22:59:55,229 - INFO - Downloaded logs_7bu615h0:v0 to /scratch/downloaded_artifacts/logs_7bu615h0:v0\n"
     ]
    },
    {
     "name": "stderr",
     "output_type": "stream",
     "text": [
      "\u001b[34m\u001b[1mwandb\u001b[0m:   1 of 1 files downloaded.  \n"
     ]
    },
    {
     "name": "stdout",
     "output_type": "stream",
     "text": [
      "2025-04-19 22:59:55,753 - INFO - Downloaded logs_lvr45mnu:v0 to /scratch/downloaded_artifacts/logs_lvr45mnu:v0\n"
     ]
    },
    {
     "name": "stderr",
     "output_type": "stream",
     "text": [
      "\u001b[34m\u001b[1mwandb\u001b[0m:   1 of 1 files downloaded.  \n"
     ]
    },
    {
     "name": "stdout",
     "output_type": "stream",
     "text": [
      "2025-04-19 22:59:55,817 - INFO - Downloaded logs_ng9cmqzf:v0 to /scratch/downloaded_artifacts/logs_ng9cmqzf:v0\n"
     ]
    },
    {
     "name": "stderr",
     "output_type": "stream",
     "text": [
      "\u001b[34m\u001b[1mwandb\u001b[0m:   1 of 1 files downloaded.  \n"
     ]
    },
    {
     "name": "stdout",
     "output_type": "stream",
     "text": [
      "2025-04-19 22:59:55,970 - INFO - Downloaded logs_mx300j9t:v0 to /scratch/downloaded_artifacts/logs_mx300j9t:v0\n"
     ]
    },
    {
     "name": "stderr",
     "output_type": "stream",
     "text": [
      "\u001b[34m\u001b[1mwandb\u001b[0m:   1 of 1 files downloaded.  \n"
     ]
    },
    {
     "name": "stdout",
     "output_type": "stream",
     "text": [
      "2025-04-19 22:59:56,023 - INFO - Downloaded logs_cbs3bllg:v0 to /scratch/downloaded_artifacts/logs_cbs3bllg:v0\n"
     ]
    },
    {
     "name": "stderr",
     "output_type": "stream",
     "text": [
      "\u001b[34m\u001b[1mwandb\u001b[0m:   1 of 1 files downloaded.  \n"
     ]
    },
    {
     "name": "stdout",
     "output_type": "stream",
     "text": [
      "2025-04-19 22:59:56,030 - INFO - Downloaded logs_1i9t39xz:v0 to /scratch/downloaded_artifacts/logs_1i9t39xz:v0\n"
     ]
    },
    {
     "name": "stderr",
     "output_type": "stream",
     "text": [
      "\u001b[34m\u001b[1mwandb\u001b[0m:   1 of 1 files downloaded.  \n"
     ]
    },
    {
     "name": "stdout",
     "output_type": "stream",
     "text": [
      "2025-04-19 22:59:56,051 - INFO - Downloaded logs_vr1772tn:v0 to /scratch/downloaded_artifacts/logs_vr1772tn:v0\n"
     ]
    },
    {
     "name": "stderr",
     "output_type": "stream",
     "text": [
      "\u001b[34m\u001b[1mwandb\u001b[0m:   1 of 1 files downloaded.  \n"
     ]
    },
    {
     "name": "stdout",
     "output_type": "stream",
     "text": [
      "2025-04-19 22:59:56,129 - INFO - Downloaded logs_3jtscb23:v0 to /scratch/downloaded_artifacts/logs_3jtscb23:v0\n"
     ]
    },
    {
     "name": "stderr",
     "output_type": "stream",
     "text": [
      "\u001b[34m\u001b[1mwandb\u001b[0m:   1 of 1 files downloaded.  \n"
     ]
    },
    {
     "name": "stdout",
     "output_type": "stream",
     "text": [
      "2025-04-19 22:59:56,158 - INFO - Downloaded logs_wk2foni2:v0 to /scratch/downloaded_artifacts/logs_wk2foni2:v0\n"
     ]
    },
    {
     "name": "stderr",
     "output_type": "stream",
     "text": [
      "\u001b[34m\u001b[1mwandb\u001b[0m:   1 of 1 files downloaded.  \n"
     ]
    },
    {
     "name": "stdout",
     "output_type": "stream",
     "text": [
      "2025-04-19 22:59:56,222 - INFO - Downloaded logs_24kfe4ju:v0 to /scratch/downloaded_artifacts/logs_24kfe4ju:v0\n"
     ]
    },
    {
     "name": "stderr",
     "output_type": "stream",
     "text": [
      "\u001b[34m\u001b[1mwandb\u001b[0m:   1 of 1 files downloaded.  \n"
     ]
    },
    {
     "name": "stdout",
     "output_type": "stream",
     "text": [
      "2025-04-19 22:59:56,252 - INFO - Downloaded logs_a6etpmtx:v0 to /scratch/downloaded_artifacts/logs_a6etpmtx:v0\n"
     ]
    },
    {
     "name": "stderr",
     "output_type": "stream",
     "text": [
      "\u001b[34m\u001b[1mwandb\u001b[0m:   1 of 1 files downloaded.  \n"
     ]
    },
    {
     "name": "stdout",
     "output_type": "stream",
     "text": [
      "2025-04-19 22:59:56,341 - INFO - Downloaded logs_gro7zwmv:v0 to /scratch/downloaded_artifacts/logs_gro7zwmv:v0\n"
     ]
    },
    {
     "name": "stderr",
     "output_type": "stream",
     "text": [
      "\u001b[34m\u001b[1mwandb\u001b[0m:   1 of 1 files downloaded.  \n"
     ]
    },
    {
     "name": "stdout",
     "output_type": "stream",
     "text": [
      "2025-04-19 22:59:56,377 - INFO - Downloaded logs_qhepntfu:v0 to /scratch/downloaded_artifacts/logs_qhepntfu:v0\n"
     ]
    },
    {
     "name": "stderr",
     "output_type": "stream",
     "text": [
      "\u001b[34m\u001b[1mwandb\u001b[0m:   1 of 1 files downloaded.  \n"
     ]
    },
    {
     "name": "stdout",
     "output_type": "stream",
     "text": [
      "2025-04-19 22:59:56,388 - INFO - Downloaded logs_ukpu2k2l:v0 to /scratch/downloaded_artifacts/logs_ukpu2k2l:v0\n"
     ]
    },
    {
     "name": "stderr",
     "output_type": "stream",
     "text": [
      "\u001b[34m\u001b[1mwandb\u001b[0m:   1 of 1 files downloaded.  \n"
     ]
    },
    {
     "name": "stdout",
     "output_type": "stream",
     "text": [
      "2025-04-19 22:59:56,412 - INFO - Downloaded logs_4h8gbrmp:v0 to /scratch/downloaded_artifacts/logs_4h8gbrmp:v0\n"
     ]
    },
    {
     "name": "stderr",
     "output_type": "stream",
     "text": [
      "\u001b[34m\u001b[1mwandb\u001b[0m:   1 of 1 files downloaded.  \n"
     ]
    },
    {
     "name": "stdout",
     "output_type": "stream",
     "text": [
      "2025-04-19 22:59:56,456 - INFO - Downloaded logs_c6nx4ygn:v0 to /scratch/downloaded_artifacts/logs_c6nx4ygn:v0\n"
     ]
    },
    {
     "name": "stderr",
     "output_type": "stream",
     "text": [
      "\u001b[34m\u001b[1mwandb\u001b[0m:   1 of 1 files downloaded.  \n"
     ]
    },
    {
     "name": "stdout",
     "output_type": "stream",
     "text": [
      "2025-04-19 22:59:56,637 - INFO - Downloaded logs_viedyi7y:v0 to /scratch/downloaded_artifacts/logs_viedyi7y:v0\n"
     ]
    },
    {
     "name": "stderr",
     "output_type": "stream",
     "text": [
      "\u001b[34m\u001b[1mwandb\u001b[0m:   1 of 1 files downloaded.  \n"
     ]
    },
    {
     "name": "stdout",
     "output_type": "stream",
     "text": [
      "2025-04-19 22:59:56,817 - INFO - Downloaded logs_wdcx68sk:v0 to /scratch/downloaded_artifacts/logs_wdcx68sk:v0\n"
     ]
    },
    {
     "name": "stderr",
     "output_type": "stream",
     "text": [
      "\u001b[34m\u001b[1mwandb\u001b[0m:   1 of 1 files downloaded.  \n"
     ]
    },
    {
     "name": "stdout",
     "output_type": "stream",
     "text": [
      "2025-04-19 22:59:56,839 - INFO - Downloaded logs_0tuom2xi:v0 to /scratch/downloaded_artifacts/logs_0tuom2xi:v0\n"
     ]
    },
    {
     "name": "stderr",
     "output_type": "stream",
     "text": [
      "\u001b[34m\u001b[1mwandb\u001b[0m:   1 of 1 files downloaded.  \n"
     ]
    },
    {
     "name": "stdout",
     "output_type": "stream",
     "text": [
      "2025-04-19 22:59:56,847 - INFO - Downloaded logs_25t9jr6m:v0 to /scratch/downloaded_artifacts/logs_25t9jr6m:v0\n"
     ]
    },
    {
     "name": "stderr",
     "output_type": "stream",
     "text": [
      "\u001b[34m\u001b[1mwandb\u001b[0m:   1 of 1 files downloaded.  \n"
     ]
    },
    {
     "name": "stdout",
     "output_type": "stream",
     "text": [
      "2025-04-19 22:59:56,975 - INFO - Downloaded logs_2logi2zl:v0 to /scratch/downloaded_artifacts/logs_2logi2zl:v0\n"
     ]
    },
    {
     "name": "stderr",
     "output_type": "stream",
     "text": [
      "\u001b[34m\u001b[1mwandb\u001b[0m:   1 of 1 files downloaded.  \n"
     ]
    },
    {
     "name": "stdout",
     "output_type": "stream",
     "text": [
      "2025-04-19 22:59:57,176 - INFO - Downloaded logs_53ubc9bu:v0 to /scratch/downloaded_artifacts/logs_53ubc9bu:v0\n"
     ]
    },
    {
     "name": "stderr",
     "output_type": "stream",
     "text": [
      "\u001b[34m\u001b[1mwandb\u001b[0m:   1 of 1 files downloaded.  \n"
     ]
    },
    {
     "name": "stdout",
     "output_type": "stream",
     "text": [
      "2025-04-19 22:59:57,185 - INFO - Downloaded logs_u87nk9bn:v0 to /scratch/downloaded_artifacts/logs_u87nk9bn:v0\n"
     ]
    },
    {
     "name": "stderr",
     "output_type": "stream",
     "text": [
      "\u001b[34m\u001b[1mwandb\u001b[0m:   1 of 1 files downloaded.  \n"
     ]
    },
    {
     "name": "stdout",
     "output_type": "stream",
     "text": [
      "2025-04-19 22:59:57,661 - INFO - Downloaded logs_hnjbjpmm:v0 to /scratch/downloaded_artifacts/logs_hnjbjpmm:v0\n"
     ]
    },
    {
     "name": "stderr",
     "output_type": "stream",
     "text": [
      "\u001b[34m\u001b[1mwandb\u001b[0m:   1 of 1 files downloaded.  \n"
     ]
    },
    {
     "name": "stdout",
     "output_type": "stream",
     "text": [
      "2025-04-19 22:59:57,675 - INFO - Downloaded logs_ftul7sa2:v0 to /scratch/downloaded_artifacts/logs_ftul7sa2:v0\n"
     ]
    },
    {
     "name": "stderr",
     "output_type": "stream",
     "text": [
      "\u001b[34m\u001b[1mwandb\u001b[0m:   1 of 1 files downloaded.  \n"
     ]
    },
    {
     "name": "stdout",
     "output_type": "stream",
     "text": [
      "2025-04-19 22:59:57,792 - INFO - Downloaded logs_mdfu13z8:v0 to /scratch/downloaded_artifacts/logs_mdfu13z8:v0\n"
     ]
    },
    {
     "name": "stderr",
     "output_type": "stream",
     "text": [
      "\u001b[34m\u001b[1mwandb\u001b[0m:   1 of 1 files downloaded.  \n"
     ]
    },
    {
     "name": "stdout",
     "output_type": "stream",
     "text": [
      "2025-04-19 22:59:57,864 - INFO - Downloaded logs_kstidwrm:v0 to /scratch/downloaded_artifacts/logs_kstidwrm:v0\n"
     ]
    },
    {
     "name": "stderr",
     "output_type": "stream",
     "text": [
      "\u001b[34m\u001b[1mwandb\u001b[0m:   1 of 1 files downloaded.  \n"
     ]
    },
    {
     "name": "stdout",
     "output_type": "stream",
     "text": [
      "2025-04-19 22:59:57,992 - INFO - Downloaded logs_qq8c9d72:v0 to /scratch/downloaded_artifacts/logs_qq8c9d72:v0\n"
     ]
    },
    {
     "name": "stderr",
     "output_type": "stream",
     "text": [
      "\u001b[34m\u001b[1mwandb\u001b[0m:   1 of 1 files downloaded.  \n"
     ]
    },
    {
     "name": "stdout",
     "output_type": "stream",
     "text": [
      "2025-04-19 22:59:58,044 - INFO - Downloaded logs_fvfwqq7r:v0 to /scratch/downloaded_artifacts/logs_fvfwqq7r:v0\n"
     ]
    },
    {
     "name": "stderr",
     "output_type": "stream",
     "text": [
      "\u001b[34m\u001b[1mwandb\u001b[0m:   1 of 1 files downloaded.  \n"
     ]
    },
    {
     "name": "stdout",
     "output_type": "stream",
     "text": [
      "2025-04-19 22:59:58,096 - INFO - Downloaded logs_vacpj22f:v0 to /scratch/downloaded_artifacts/logs_vacpj22f:v0\n"
     ]
    },
    {
     "name": "stderr",
     "output_type": "stream",
     "text": [
      "\u001b[34m\u001b[1mwandb\u001b[0m:   1 of 1 files downloaded.  \n"
     ]
    },
    {
     "name": "stdout",
     "output_type": "stream",
     "text": [
      "2025-04-19 22:59:58,161 - INFO - Downloaded logs_zx7h17bb:v0 to /scratch/downloaded_artifacts/logs_zx7h17bb:v0\n"
     ]
    },
    {
     "name": "stderr",
     "output_type": "stream",
     "text": [
      "\u001b[34m\u001b[1mwandb\u001b[0m:   1 of 1 files downloaded.  \n"
     ]
    },
    {
     "name": "stdout",
     "output_type": "stream",
     "text": [
      "2025-04-19 22:59:58,268 - INFO - Downloaded logs_zzhiq212:v0 to /scratch/downloaded_artifacts/logs_zzhiq212:v0\n"
     ]
    },
    {
     "name": "stderr",
     "output_type": "stream",
     "text": [
      "\u001b[34m\u001b[1mwandb\u001b[0m:   1 of 1 files downloaded.  \n"
     ]
    },
    {
     "name": "stdout",
     "output_type": "stream",
     "text": [
      "2025-04-19 22:59:58,355 - INFO - Downloaded logs_2xwc03vf:v0 to /scratch/downloaded_artifacts/logs_2xwc03vf:v0\n"
     ]
    },
    {
     "name": "stderr",
     "output_type": "stream",
     "text": [
      "\u001b[34m\u001b[1mwandb\u001b[0m:   1 of 1 files downloaded.  \n"
     ]
    },
    {
     "name": "stdout",
     "output_type": "stream",
     "text": [
      "2025-04-19 22:59:58,412 - INFO - Downloaded logs_fmwm0d9e:v0 to /scratch/downloaded_artifacts/logs_fmwm0d9e:v0\n"
     ]
    },
    {
     "name": "stderr",
     "output_type": "stream",
     "text": [
      "\u001b[34m\u001b[1mwandb\u001b[0m:   1 of 1 files downloaded.  \n"
     ]
    },
    {
     "name": "stdout",
     "output_type": "stream",
     "text": [
      "2025-04-19 22:59:58,462 - INFO - Downloaded logs_3nu8ttzc:v0 to /scratch/downloaded_artifacts/logs_3nu8ttzc:v0\n"
     ]
    },
    {
     "name": "stderr",
     "output_type": "stream",
     "text": [
      "\u001b[34m\u001b[1mwandb\u001b[0m:   1 of 1 files downloaded.  \n"
     ]
    },
    {
     "name": "stdout",
     "output_type": "stream",
     "text": [
      "2025-04-19 22:59:58,570 - INFO - Downloaded logs_a6f0flmb:v0 to /scratch/downloaded_artifacts/logs_a6f0flmb:v0\n"
     ]
    },
    {
     "name": "stderr",
     "output_type": "stream",
     "text": [
      "\u001b[34m\u001b[1mwandb\u001b[0m:   1 of 1 files downloaded.  \n"
     ]
    },
    {
     "name": "stdout",
     "output_type": "stream",
     "text": [
      "2025-04-19 22:59:58,587 - INFO - Downloaded logs_1pnk84j4:v0 to /scratch/downloaded_artifacts/logs_1pnk84j4:v0\n"
     ]
    },
    {
     "name": "stderr",
     "output_type": "stream",
     "text": [
      "\u001b[34m\u001b[1mwandb\u001b[0m:   1 of 1 files downloaded.  \n"
     ]
    },
    {
     "name": "stdout",
     "output_type": "stream",
     "text": [
      "2025-04-19 22:59:58,657 - INFO - Downloaded logs_hyfwec5r:v0 to /scratch/downloaded_artifacts/logs_hyfwec5r:v0\n"
     ]
    },
    {
     "name": "stderr",
     "output_type": "stream",
     "text": [
      "\u001b[34m\u001b[1mwandb\u001b[0m:   1 of 1 files downloaded.  \n"
     ]
    },
    {
     "name": "stdout",
     "output_type": "stream",
     "text": [
      "2025-04-19 22:59:58,678 - INFO - Downloaded logs_j3x5qkuu:v0 to /scratch/downloaded_artifacts/logs_j3x5qkuu:v0\n"
     ]
    },
    {
     "name": "stderr",
     "output_type": "stream",
     "text": [
      "\u001b[34m\u001b[1mwandb\u001b[0m:   1 of 1 files downloaded.  \n"
     ]
    },
    {
     "name": "stdout",
     "output_type": "stream",
     "text": [
      "2025-04-19 22:59:58,789 - INFO - Downloaded logs_dww9wz3s:v0 to /scratch/downloaded_artifacts/logs_dww9wz3s:v0\n"
     ]
    },
    {
     "name": "stderr",
     "output_type": "stream",
     "text": [
      "\u001b[34m\u001b[1mwandb\u001b[0m:   1 of 1 files downloaded.  \n"
     ]
    },
    {
     "name": "stdout",
     "output_type": "stream",
     "text": [
      "2025-04-19 22:59:58,800 - INFO - Downloaded logs_e70rr4ei:v0 to /scratch/downloaded_artifacts/logs_e70rr4ei:v0\n"
     ]
    },
    {
     "name": "stderr",
     "output_type": "stream",
     "text": [
      "\u001b[34m\u001b[1mwandb\u001b[0m:   1 of 1 files downloaded.  \n"
     ]
    },
    {
     "name": "stdout",
     "output_type": "stream",
     "text": [
      "2025-04-19 22:59:58,929 - INFO - Downloaded logs_0mpvv826:v0 to /scratch/downloaded_artifacts/logs_0mpvv826:v0\n"
     ]
    },
    {
     "name": "stderr",
     "output_type": "stream",
     "text": [
      "\u001b[34m\u001b[1mwandb\u001b[0m:   1 of 1 files downloaded.  \n"
     ]
    },
    {
     "name": "stdout",
     "output_type": "stream",
     "text": [
      "2025-04-19 22:59:59,041 - INFO - Downloaded logs_of6fpv7a:v0 to /scratch/downloaded_artifacts/logs_of6fpv7a:v0\n"
     ]
    },
    {
     "name": "stderr",
     "output_type": "stream",
     "text": [
      "\u001b[34m\u001b[1mwandb\u001b[0m:   1 of 1 files downloaded.  \n"
     ]
    },
    {
     "name": "stdout",
     "output_type": "stream",
     "text": [
      "2025-04-19 22:59:59,266 - INFO - Downloaded logs_puqgmge8:v0 to /scratch/downloaded_artifacts/logs_puqgmge8:v0\n"
     ]
    },
    {
     "name": "stderr",
     "output_type": "stream",
     "text": [
      "\u001b[34m\u001b[1mwandb\u001b[0m:   1 of 1 files downloaded.  \n"
     ]
    },
    {
     "name": "stdout",
     "output_type": "stream",
     "text": [
      "2025-04-19 22:59:59,397 - INFO - Downloaded logs_4jvr7g75:v0 to /scratch/downloaded_artifacts/logs_4jvr7g75:v0\n"
     ]
    },
    {
     "name": "stderr",
     "output_type": "stream",
     "text": [
      "\u001b[34m\u001b[1mwandb\u001b[0m:   1 of 1 files downloaded.  \n"
     ]
    },
    {
     "name": "stdout",
     "output_type": "stream",
     "text": [
      "2025-04-19 22:59:59,486 - INFO - Downloaded logs_6kp0cxpw:v0 to /scratch/downloaded_artifacts/logs_6kp0cxpw:v0\n"
     ]
    },
    {
     "name": "stderr",
     "output_type": "stream",
     "text": [
      "\u001b[34m\u001b[1mwandb\u001b[0m:   1 of 1 files downloaded.  \n"
     ]
    },
    {
     "name": "stdout",
     "output_type": "stream",
     "text": [
      "2025-04-19 22:59:59,539 - INFO - Downloaded logs_1f8qh47g:v0 to /scratch/downloaded_artifacts/logs_1f8qh47g:v0\n"
     ]
    },
    {
     "name": "stderr",
     "output_type": "stream",
     "text": [
      "\u001b[34m\u001b[1mwandb\u001b[0m:   1 of 1 files downloaded.  \n"
     ]
    },
    {
     "name": "stdout",
     "output_type": "stream",
     "text": [
      "2025-04-19 22:59:59,708 - INFO - Downloaded logs_7n41jsms:v0 to /scratch/downloaded_artifacts/logs_7n41jsms:v0\n"
     ]
    },
    {
     "name": "stderr",
     "output_type": "stream",
     "text": [
      "\u001b[34m\u001b[1mwandb\u001b[0m:   1 of 1 files downloaded.  \n"
     ]
    },
    {
     "name": "stdout",
     "output_type": "stream",
     "text": [
      "2025-04-19 22:59:59,730 - INFO - Downloaded logs_7io7cyz2:v0 to /scratch/downloaded_artifacts/logs_7io7cyz2:v0\n"
     ]
    },
    {
     "name": "stderr",
     "output_type": "stream",
     "text": [
      "\u001b[34m\u001b[1mwandb\u001b[0m:   1 of 1 files downloaded.  \n"
     ]
    },
    {
     "name": "stdout",
     "output_type": "stream",
     "text": [
      "2025-04-19 22:59:59,869 - INFO - Downloaded logs_8j8v11do:v0 to /scratch/downloaded_artifacts/logs_8j8v11do:v0\n"
     ]
    },
    {
     "name": "stderr",
     "output_type": "stream",
     "text": [
      "\u001b[34m\u001b[1mwandb\u001b[0m:   1 of 1 files downloaded.  \n"
     ]
    },
    {
     "name": "stdout",
     "output_type": "stream",
     "text": [
      "2025-04-19 22:59:59,972 - INFO - Downloaded logs_akig6c7l:v0 to /scratch/downloaded_artifacts/logs_akig6c7l:v0\n"
     ]
    },
    {
     "name": "stderr",
     "output_type": "stream",
     "text": [
      "\u001b[34m\u001b[1mwandb\u001b[0m:   1 of 1 files downloaded.  \n"
     ]
    },
    {
     "name": "stdout",
     "output_type": "stream",
     "text": [
      "2025-04-19 23:00:00,075 - INFO - Downloaded logs_chohjqt8:v0 to /scratch/downloaded_artifacts/logs_chohjqt8:v0\n"
     ]
    },
    {
     "name": "stderr",
     "output_type": "stream",
     "text": [
      "\u001b[34m\u001b[1mwandb\u001b[0m:   1 of 1 files downloaded.  \n"
     ]
    },
    {
     "name": "stdout",
     "output_type": "stream",
     "text": [
      "2025-04-19 23:00:00,205 - INFO - Downloaded logs_dxdzooqb:v0 to /scratch/downloaded_artifacts/logs_dxdzooqb:v0\n"
     ]
    },
    {
     "name": "stderr",
     "output_type": "stream",
     "text": [
      "\u001b[34m\u001b[1mwandb\u001b[0m:   1 of 1 files downloaded.  \n"
     ]
    },
    {
     "name": "stdout",
     "output_type": "stream",
     "text": [
      "2025-04-19 23:00:00,238 - INFO - Downloaded logs_gr97zr0l:v0 to /scratch/downloaded_artifacts/logs_gr97zr0l:v0\n"
     ]
    },
    {
     "name": "stderr",
     "output_type": "stream",
     "text": [
      "\u001b[34m\u001b[1mwandb\u001b[0m:   1 of 1 files downloaded.  \n"
     ]
    },
    {
     "name": "stdout",
     "output_type": "stream",
     "text": [
      "2025-04-19 23:00:00,315 - INFO - Downloaded logs_k8k6479k:v0 to /scratch/downloaded_artifacts/logs_k8k6479k:v0\n"
     ]
    },
    {
     "name": "stderr",
     "output_type": "stream",
     "text": [
      "\u001b[34m\u001b[1mwandb\u001b[0m:   1 of 1 files downloaded.  \n"
     ]
    },
    {
     "name": "stdout",
     "output_type": "stream",
     "text": [
      "2025-04-19 23:00:00,642 - INFO - Downloaded logs_v70lv7k8:v0 to /scratch/downloaded_artifacts/logs_v70lv7k8:v0\n"
     ]
    },
    {
     "name": "stderr",
     "output_type": "stream",
     "text": [
      "\u001b[34m\u001b[1mwandb\u001b[0m:   1 of 1 files downloaded.  \n"
     ]
    },
    {
     "name": "stdout",
     "output_type": "stream",
     "text": [
      "2025-04-19 23:00:00,651 - INFO - Downloaded logs_tvfnxao4:v0 to /scratch/downloaded_artifacts/logs_tvfnxao4:v0\n"
     ]
    },
    {
     "name": "stderr",
     "output_type": "stream",
     "text": [
      "\u001b[34m\u001b[1mwandb\u001b[0m:   1 of 1 files downloaded.  \n",
      "\u001b[34m\u001b[1mwandb\u001b[0m:   1 of 1 files downloaded.  \n"
     ]
    },
    {
     "name": "stdout",
     "output_type": "stream",
     "text": [
      "2025-04-19 23:00:00,667 - INFO - Downloaded logs_nm4a3i38:v0 to /scratch/downloaded_artifacts/logs_nm4a3i38:v0\n",
      "2025-04-19 23:00:00,669 - INFO - Downloaded logs_n8vd95bz:v0 to /scratch/downloaded_artifacts/logs_n8vd95bz:v0\n"
     ]
    },
    {
     "name": "stderr",
     "output_type": "stream",
     "text": [
      "\u001b[34m\u001b[1mwandb\u001b[0m:   1 of 1 files downloaded.  \n"
     ]
    },
    {
     "name": "stdout",
     "output_type": "stream",
     "text": [
      "2025-04-19 23:00:00,697 - INFO - Downloaded logs_u0iicd8b:v0 to /scratch/downloaded_artifacts/logs_u0iicd8b:v0\n"
     ]
    },
    {
     "name": "stderr",
     "output_type": "stream",
     "text": [
      "\u001b[34m\u001b[1mwandb\u001b[0m:   1 of 1 files downloaded.  \n"
     ]
    },
    {
     "name": "stdout",
     "output_type": "stream",
     "text": [
      "2025-04-19 23:00:00,809 - INFO - Downloaded logs_ua98wn09:v0 to /scratch/downloaded_artifacts/logs_ua98wn09:v0\n"
     ]
    },
    {
     "name": "stderr",
     "output_type": "stream",
     "text": [
      "\u001b[34m\u001b[1mwandb\u001b[0m:   1 of 1 files downloaded.  \n"
     ]
    },
    {
     "name": "stdout",
     "output_type": "stream",
     "text": [
      "2025-04-19 23:00:00,849 - INFO - Downloaded logs_8vc4gsy1:v0 to /scratch/downloaded_artifacts/logs_8vc4gsy1:v0\n"
     ]
    },
    {
     "name": "stderr",
     "output_type": "stream",
     "text": [
      "\u001b[34m\u001b[1mwandb\u001b[0m:   1 of 1 files downloaded.  \n"
     ]
    },
    {
     "name": "stdout",
     "output_type": "stream",
     "text": [
      "2025-04-19 23:00:00,920 - INFO - Downloaded logs_14zab8fj:v0 to /scratch/downloaded_artifacts/logs_14zab8fj:v0\n"
     ]
    },
    {
     "name": "stderr",
     "output_type": "stream",
     "text": [
      "\u001b[34m\u001b[1mwandb\u001b[0m:   1 of 1 files downloaded.  \n"
     ]
    },
    {
     "name": "stdout",
     "output_type": "stream",
     "text": [
      "2025-04-19 23:00:01,117 - INFO - Downloaded logs_vjrbevfw:v0 to /scratch/downloaded_artifacts/logs_vjrbevfw:v0\n"
     ]
    },
    {
     "name": "stderr",
     "output_type": "stream",
     "text": [
      "\u001b[34m\u001b[1mwandb\u001b[0m:   1 of 1 files downloaded.  \n"
     ]
    },
    {
     "name": "stdout",
     "output_type": "stream",
     "text": [
      "2025-04-19 23:00:01,223 - INFO - Downloaded logs_vkt44z2m:v0 to /scratch/downloaded_artifacts/logs_vkt44z2m:v0\n"
     ]
    },
    {
     "name": "stderr",
     "output_type": "stream",
     "text": [
      "\u001b[34m\u001b[1mwandb\u001b[0m:   1 of 1 files downloaded.  \n",
      "\u001b[34m\u001b[1mwandb\u001b[0m:   1 of 1 files downloaded.  \n"
     ]
    },
    {
     "name": "stdout",
     "output_type": "stream",
     "text": [
      "2025-04-19 23:00:01,245 - INFO - Downloaded logs_8gbg9jop:v0 to /scratch/downloaded_artifacts/logs_8gbg9jop:v0\n",
      "2025-04-19 23:00:01,247 - INFO - Downloaded logs_c453yhv9:v0 to /scratch/downloaded_artifacts/logs_c453yhv9:v0\n"
     ]
    },
    {
     "name": "stderr",
     "output_type": "stream",
     "text": [
      "\u001b[34m\u001b[1mwandb\u001b[0m:   1 of 1 files downloaded.  \n"
     ]
    },
    {
     "name": "stdout",
     "output_type": "stream",
     "text": [
      "2025-04-19 23:00:01,465 - INFO - Downloaded logs_kwbvuzjx:v0 to /scratch/downloaded_artifacts/logs_kwbvuzjx:v0\n"
     ]
    },
    {
     "name": "stderr",
     "output_type": "stream",
     "text": [
      "\u001b[34m\u001b[1mwandb\u001b[0m:   1 of 1 files downloaded.  \n"
     ]
    },
    {
     "name": "stdout",
     "output_type": "stream",
     "text": [
      "2025-04-19 23:00:01,526 - INFO - Downloaded logs_iwclgau6:v0 to /scratch/downloaded_artifacts/logs_iwclgau6:v0\n"
     ]
    },
    {
     "name": "stderr",
     "output_type": "stream",
     "text": [
      "\u001b[34m\u001b[1mwandb\u001b[0m:   1 of 1 files downloaded.  \n"
     ]
    },
    {
     "name": "stdout",
     "output_type": "stream",
     "text": [
      "2025-04-19 23:00:01,596 - INFO - Downloaded logs_23zcngw1:v0 to /scratch/downloaded_artifacts/logs_23zcngw1:v0\n"
     ]
    },
    {
     "name": "stderr",
     "output_type": "stream",
     "text": [
      "\u001b[34m\u001b[1mwandb\u001b[0m:   1 of 1 files downloaded.  \n"
     ]
    },
    {
     "name": "stdout",
     "output_type": "stream",
     "text": [
      "2025-04-19 23:00:01,697 - INFO - Downloaded logs_4lh9mcyi:v0 to /scratch/downloaded_artifacts/logs_4lh9mcyi:v0\n"
     ]
    },
    {
     "name": "stderr",
     "output_type": "stream",
     "text": [
      "\u001b[34m\u001b[1mwandb\u001b[0m:   1 of 1 files downloaded.  \n"
     ]
    },
    {
     "name": "stdout",
     "output_type": "stream",
     "text": [
      "2025-04-19 23:00:01,795 - INFO - Downloaded logs_c5xeoc8h:v0 to /scratch/downloaded_artifacts/logs_c5xeoc8h:v0\n"
     ]
    },
    {
     "name": "stderr",
     "output_type": "stream",
     "text": [
      "\u001b[34m\u001b[1mwandb\u001b[0m:   1 of 1 files downloaded.  \n"
     ]
    },
    {
     "name": "stdout",
     "output_type": "stream",
     "text": [
      "2025-04-19 23:00:02,387 - INFO - Downloaded logs_nekjhghd:v0 to /scratch/downloaded_artifacts/logs_nekjhghd:v0\n"
     ]
    },
    {
     "name": "stderr",
     "output_type": "stream",
     "text": [
      "\u001b[34m\u001b[1mwandb\u001b[0m:   1 of 1 files downloaded.  \n"
     ]
    },
    {
     "name": "stdout",
     "output_type": "stream",
     "text": [
      "2025-04-19 23:00:02,499 - INFO - Downloaded logs_3su7g699:v0 to /scratch/downloaded_artifacts/logs_3su7g699:v0\n"
     ]
    },
    {
     "name": "stderr",
     "output_type": "stream",
     "text": [
      "\u001b[34m\u001b[1mwandb\u001b[0m:   1 of 1 files downloaded.  \n"
     ]
    },
    {
     "name": "stdout",
     "output_type": "stream",
     "text": [
      "2025-04-19 23:00:02,688 - INFO - Downloaded logs_ecfs6li2:v0 to /scratch/downloaded_artifacts/logs_ecfs6li2:v0\n"
     ]
    },
    {
     "name": "stderr",
     "output_type": "stream",
     "text": [
      "\u001b[34m\u001b[1mwandb\u001b[0m:   1 of 1 files downloaded.  \n"
     ]
    },
    {
     "name": "stdout",
     "output_type": "stream",
     "text": [
      "2025-04-19 23:00:02,904 - INFO - Downloaded logs_83gkg0r3:v0 to /scratch/downloaded_artifacts/logs_83gkg0r3:v0\n"
     ]
    },
    {
     "name": "stderr",
     "output_type": "stream",
     "text": [
      "\u001b[34m\u001b[1mwandb\u001b[0m:   1 of 1 files downloaded.  \n"
     ]
    },
    {
     "name": "stdout",
     "output_type": "stream",
     "text": [
      "2025-04-19 23:00:02,926 - INFO - Downloaded logs_o2haxjum:v0 to /scratch/downloaded_artifacts/logs_o2haxjum:v0\n"
     ]
    },
    {
     "name": "stderr",
     "output_type": "stream",
     "text": [
      "\u001b[34m\u001b[1mwandb\u001b[0m:   1 of 1 files downloaded.  \n"
     ]
    },
    {
     "name": "stdout",
     "output_type": "stream",
     "text": [
      "2025-04-19 23:00:03,159 - INFO - Downloaded logs_e0edb9xz:v0 to /scratch/downloaded_artifacts/logs_e0edb9xz:v0\n"
     ]
    },
    {
     "name": "stderr",
     "output_type": "stream",
     "text": [
      "\u001b[34m\u001b[1mwandb\u001b[0m:   1 of 1 files downloaded.  \n"
     ]
    },
    {
     "name": "stdout",
     "output_type": "stream",
     "text": [
      "2025-04-19 23:00:03,181 - INFO - Downloaded logs_ile5g4nh:v0 to /scratch/downloaded_artifacts/logs_ile5g4nh:v0\n"
     ]
    },
    {
     "name": "stderr",
     "output_type": "stream",
     "text": [
      "\u001b[34m\u001b[1mwandb\u001b[0m:   1 of 1 files downloaded.  \n"
     ]
    },
    {
     "name": "stdout",
     "output_type": "stream",
     "text": [
      "2025-04-19 23:00:03,252 - INFO - Downloaded logs_pzehh38w:v0 to /scratch/downloaded_artifacts/logs_pzehh38w:v0\n"
     ]
    },
    {
     "name": "stderr",
     "output_type": "stream",
     "text": [
      "\u001b[34m\u001b[1mwandb\u001b[0m:   1 of 1 files downloaded.  \n"
     ]
    },
    {
     "name": "stdout",
     "output_type": "stream",
     "text": [
      "2025-04-19 23:00:03,339 - INFO - Downloaded logs_p25z7zzi:v0 to /scratch/downloaded_artifacts/logs_p25z7zzi:v0\n"
     ]
    },
    {
     "name": "stderr",
     "output_type": "stream",
     "text": [
      "\u001b[34m\u001b[1mwandb\u001b[0m:   1 of 1 files downloaded.  \n"
     ]
    },
    {
     "name": "stdout",
     "output_type": "stream",
     "text": [
      "2025-04-19 23:00:03,375 - INFO - Downloaded logs_go5nzh53:v0 to /scratch/downloaded_artifacts/logs_go5nzh53:v0\n"
     ]
    },
    {
     "name": "stderr",
     "output_type": "stream",
     "text": [
      "\u001b[34m\u001b[1mwandb\u001b[0m:   1 of 1 files downloaded.  \n"
     ]
    },
    {
     "name": "stdout",
     "output_type": "stream",
     "text": [
      "2025-04-19 23:00:03,397 - INFO - Downloaded logs_j8iihlm6:v0 to /scratch/downloaded_artifacts/logs_j8iihlm6:v0\n"
     ]
    },
    {
     "name": "stderr",
     "output_type": "stream",
     "text": [
      "\u001b[34m\u001b[1mwandb\u001b[0m:   1 of 1 files downloaded.  \n"
     ]
    },
    {
     "name": "stdout",
     "output_type": "stream",
     "text": [
      "2025-04-19 23:00:03,484 - INFO - Downloaded logs_uxyseqqj:v0 to /scratch/downloaded_artifacts/logs_uxyseqqj:v0\n"
     ]
    },
    {
     "name": "stderr",
     "output_type": "stream",
     "text": [
      "\u001b[34m\u001b[1mwandb\u001b[0m:   1 of 1 files downloaded.  \n"
     ]
    },
    {
     "name": "stdout",
     "output_type": "stream",
     "text": [
      "2025-04-19 23:00:03,530 - INFO - Downloaded logs_v29zoljc:v0 to /scratch/downloaded_artifacts/logs_v29zoljc:v0\n"
     ]
    },
    {
     "name": "stderr",
     "output_type": "stream",
     "text": [
      "\u001b[34m\u001b[1mwandb\u001b[0m:   1 of 1 files downloaded.  \n"
     ]
    },
    {
     "name": "stdout",
     "output_type": "stream",
     "text": [
      "2025-04-19 23:00:03,544 - INFO - Downloaded logs_sl861p3e:v0 to /scratch/downloaded_artifacts/logs_sl861p3e:v0\n"
     ]
    },
    {
     "name": "stderr",
     "output_type": "stream",
     "text": [
      "\u001b[34m\u001b[1mwandb\u001b[0m:   1 of 1 files downloaded.  \n"
     ]
    },
    {
     "name": "stdout",
     "output_type": "stream",
     "text": [
      "2025-04-19 23:00:03,818 - INFO - Downloaded logs_77rp16yv:v0 to /scratch/downloaded_artifacts/logs_77rp16yv:v0\n"
     ]
    },
    {
     "name": "stderr",
     "output_type": "stream",
     "text": [
      "\u001b[34m\u001b[1mwandb\u001b[0m:   1 of 1 files downloaded.  \n"
     ]
    },
    {
     "name": "stdout",
     "output_type": "stream",
     "text": [
      "2025-04-19 23:00:03,881 - INFO - Downloaded logs_v8txxhkt:v0 to /scratch/downloaded_artifacts/logs_v8txxhkt:v0\n"
     ]
    },
    {
     "name": "stderr",
     "output_type": "stream",
     "text": [
      "\u001b[34m\u001b[1mwandb\u001b[0m:   1 of 1 files downloaded.  \n"
     ]
    },
    {
     "name": "stdout",
     "output_type": "stream",
     "text": [
      "2025-04-19 23:00:03,908 - INFO - Downloaded logs_wqesg4yy:v0 to /scratch/downloaded_artifacts/logs_wqesg4yy:v0\n"
     ]
    },
    {
     "name": "stderr",
     "output_type": "stream",
     "text": [
      "\u001b[34m\u001b[1mwandb\u001b[0m:   1 of 1 files downloaded.  \n"
     ]
    },
    {
     "name": "stdout",
     "output_type": "stream",
     "text": [
      "2025-04-19 23:00:03,917 - INFO - Downloaded logs_xn7sjogx:v0 to /scratch/downloaded_artifacts/logs_xn7sjogx:v0\n"
     ]
    },
    {
     "name": "stderr",
     "output_type": "stream",
     "text": [
      "\u001b[34m\u001b[1mwandb\u001b[0m:   1 of 1 files downloaded.  \n"
     ]
    },
    {
     "name": "stdout",
     "output_type": "stream",
     "text": [
      "2025-04-19 23:00:04,001 - INFO - Downloaded logs_kbbfxpyv:v0 to /scratch/downloaded_artifacts/logs_kbbfxpyv:v0\n"
     ]
    },
    {
     "name": "stderr",
     "output_type": "stream",
     "text": [
      "\u001b[34m\u001b[1mwandb\u001b[0m:   1 of 1 files downloaded.  \n"
     ]
    },
    {
     "name": "stdout",
     "output_type": "stream",
     "text": [
      "2025-04-19 23:00:04,081 - INFO - Downloaded logs_dpzvy76p:v0 to /scratch/downloaded_artifacts/logs_dpzvy76p:v0\n"
     ]
    },
    {
     "name": "stderr",
     "output_type": "stream",
     "text": [
      "\u001b[34m\u001b[1mwandb\u001b[0m:   1 of 1 files downloaded.  \n"
     ]
    },
    {
     "name": "stdout",
     "output_type": "stream",
     "text": [
      "2025-04-19 23:00:04,145 - INFO - Downloaded logs_keq2ef96:v0 to /scratch/downloaded_artifacts/logs_keq2ef96:v0\n"
     ]
    },
    {
     "name": "stderr",
     "output_type": "stream",
     "text": [
      "\u001b[34m\u001b[1mwandb\u001b[0m:   1 of 1 files downloaded.  \n"
     ]
    },
    {
     "name": "stdout",
     "output_type": "stream",
     "text": [
      "2025-04-19 23:00:04,366 - INFO - Downloaded logs_p6o7cl6d:v0 to /scratch/downloaded_artifacts/logs_p6o7cl6d:v0\n"
     ]
    },
    {
     "name": "stderr",
     "output_type": "stream",
     "text": [
      "\u001b[34m\u001b[1mwandb\u001b[0m:   1 of 1 files downloaded.  \n"
     ]
    },
    {
     "name": "stdout",
     "output_type": "stream",
     "text": [
      "2025-04-19 23:00:04,475 - INFO - Downloaded logs_yiwjsx0e:v0 to /scratch/downloaded_artifacts/logs_yiwjsx0e:v0\n"
     ]
    },
    {
     "name": "stderr",
     "output_type": "stream",
     "text": [
      "\u001b[34m\u001b[1mwandb\u001b[0m:   1 of 1 files downloaded.  \n"
     ]
    },
    {
     "name": "stdout",
     "output_type": "stream",
     "text": [
      "2025-04-19 23:00:04,653 - INFO - Downloaded logs_3z5b9in6:v0 to /scratch/downloaded_artifacts/logs_3z5b9in6:v0\n"
     ]
    },
    {
     "name": "stderr",
     "output_type": "stream",
     "text": [
      "\u001b[34m\u001b[1mwandb\u001b[0m:   1 of 1 files downloaded.  \n"
     ]
    },
    {
     "name": "stdout",
     "output_type": "stream",
     "text": [
      "2025-04-19 23:00:04,813 - INFO - Downloaded logs_51vzrp7v:v0 to /scratch/downloaded_artifacts/logs_51vzrp7v:v0\n"
     ]
    },
    {
     "name": "stderr",
     "output_type": "stream",
     "text": [
      "\u001b[34m\u001b[1mwandb\u001b[0m:   1 of 1 files downloaded.  \n"
     ]
    },
    {
     "name": "stdout",
     "output_type": "stream",
     "text": [
      "2025-04-19 23:00:04,937 - INFO - Downloaded logs_bksspsco:v0 to /scratch/downloaded_artifacts/logs_bksspsco:v0\n"
     ]
    },
    {
     "name": "stderr",
     "output_type": "stream",
     "text": [
      "\u001b[34m\u001b[1mwandb\u001b[0m:   1 of 1 files downloaded.  \n"
     ]
    },
    {
     "name": "stdout",
     "output_type": "stream",
     "text": [
      "2025-04-19 23:00:05,023 - INFO - Downloaded logs_8dyr4lsq:v0 to /scratch/downloaded_artifacts/logs_8dyr4lsq:v0\n"
     ]
    },
    {
     "name": "stderr",
     "output_type": "stream",
     "text": [
      "\u001b[34m\u001b[1mwandb\u001b[0m:   1 of 1 files downloaded.  \n"
     ]
    },
    {
     "name": "stdout",
     "output_type": "stream",
     "text": [
      "2025-04-19 23:00:05,050 - INFO - Downloaded logs_hqqle439:v0 to /scratch/downloaded_artifacts/logs_hqqle439:v0\n"
     ]
    },
    {
     "name": "stderr",
     "output_type": "stream",
     "text": [
      "\u001b[34m\u001b[1mwandb\u001b[0m:   1 of 1 files downloaded.  \n"
     ]
    },
    {
     "name": "stdout",
     "output_type": "stream",
     "text": [
      "2025-04-19 23:00:05,217 - INFO - Downloaded logs_2z7g5hcw:v0 to /scratch/downloaded_artifacts/logs_2z7g5hcw:v0\n"
     ]
    },
    {
     "name": "stderr",
     "output_type": "stream",
     "text": [
      "\u001b[34m\u001b[1mwandb\u001b[0m:   1 of 1 files downloaded.  \n",
      "\u001b[34m\u001b[1mwandb\u001b[0m:   1 of 1 files downloaded.  \n"
     ]
    },
    {
     "name": "stdout",
     "output_type": "stream",
     "text": [
      "2025-04-19 23:00:05,220 - INFO - Downloaded logs_0esxomkn:v0 to /scratch/downloaded_artifacts/logs_0esxomkn:v0\n",
      "2025-04-19 23:00:05,226 - INFO - Downloaded logs_lsmnmjgn:v0 to /scratch/downloaded_artifacts/logs_lsmnmjgn:v0\n"
     ]
    },
    {
     "name": "stderr",
     "output_type": "stream",
     "text": [
      "\u001b[34m\u001b[1mwandb\u001b[0m:   1 of 1 files downloaded.  \n"
     ]
    },
    {
     "name": "stdout",
     "output_type": "stream",
     "text": [
      "2025-04-19 23:00:05,345 - INFO - Downloaded logs_nzx1jbtt:v0 to /scratch/downloaded_artifacts/logs_nzx1jbtt:v0\n"
     ]
    },
    {
     "name": "stderr",
     "output_type": "stream",
     "text": [
      "\u001b[34m\u001b[1mwandb\u001b[0m:   1 of 1 files downloaded.  \n"
     ]
    },
    {
     "name": "stdout",
     "output_type": "stream",
     "text": [
      "2025-04-19 23:00:05,425 - INFO - Downloaded logs_aozqyuu3:v0 to /scratch/downloaded_artifacts/logs_aozqyuu3:v0\n"
     ]
    },
    {
     "name": "stderr",
     "output_type": "stream",
     "text": [
      "\u001b[34m\u001b[1mwandb\u001b[0m:   1 of 1 files downloaded.  \n"
     ]
    },
    {
     "name": "stdout",
     "output_type": "stream",
     "text": [
      "2025-04-19 23:00:05,468 - INFO - Downloaded logs_u9s60bm1:v0 to /scratch/downloaded_artifacts/logs_u9s60bm1:v0\n"
     ]
    },
    {
     "name": "stderr",
     "output_type": "stream",
     "text": [
      "\u001b[34m\u001b[1mwandb\u001b[0m:   1 of 1 files downloaded.  \n"
     ]
    },
    {
     "name": "stdout",
     "output_type": "stream",
     "text": [
      "2025-04-19 23:00:05,695 - INFO - Downloaded logs_b9zo68hf:v0 to /scratch/downloaded_artifacts/logs_b9zo68hf:v0\n"
     ]
    },
    {
     "name": "stderr",
     "output_type": "stream",
     "text": [
      "\u001b[34m\u001b[1mwandb\u001b[0m:   1 of 1 files downloaded.  \n"
     ]
    },
    {
     "name": "stdout",
     "output_type": "stream",
     "text": [
      "2025-04-19 23:00:05,858 - INFO - Downloaded logs_i6e3xhyf:v0 to /scratch/downloaded_artifacts/logs_i6e3xhyf:v0\n"
     ]
    },
    {
     "name": "stderr",
     "output_type": "stream",
     "text": [
      "\u001b[34m\u001b[1mwandb\u001b[0m:   1 of 1 files downloaded.  \n"
     ]
    },
    {
     "name": "stdout",
     "output_type": "stream",
     "text": [
      "2025-04-19 23:00:05,886 - INFO - Downloaded logs_q3od5v70:v0 to /scratch/downloaded_artifacts/logs_q3od5v70:v0\n"
     ]
    },
    {
     "name": "stderr",
     "output_type": "stream",
     "text": [
      "\u001b[34m\u001b[1mwandb\u001b[0m:   1 of 1 files downloaded.  \n"
     ]
    },
    {
     "name": "stdout",
     "output_type": "stream",
     "text": [
      "2025-04-19 23:00:05,990 - INFO - Downloaded logs_tabrxgrc:v0 to /scratch/downloaded_artifacts/logs_tabrxgrc:v0\n"
     ]
    },
    {
     "name": "stderr",
     "output_type": "stream",
     "text": [
      "\u001b[34m\u001b[1mwandb\u001b[0m:   1 of 1 files downloaded.  \n"
     ]
    },
    {
     "name": "stdout",
     "output_type": "stream",
     "text": [
      "2025-04-19 23:00:06,035 - INFO - Downloaded logs_y7njrw6h:v0 to /scratch/downloaded_artifacts/logs_y7njrw6h:v0\n"
     ]
    },
    {
     "name": "stderr",
     "output_type": "stream",
     "text": [
      "\u001b[34m\u001b[1mwandb\u001b[0m:   1 of 1 files downloaded.  \n"
     ]
    },
    {
     "name": "stdout",
     "output_type": "stream",
     "text": [
      "2025-04-19 23:00:06,041 - INFO - Downloaded logs_kaw6wfp8:v0 to /scratch/downloaded_artifacts/logs_kaw6wfp8:v0\n"
     ]
    },
    {
     "name": "stderr",
     "output_type": "stream",
     "text": [
      "\u001b[34m\u001b[1mwandb\u001b[0m:   1 of 1 files downloaded.  \n"
     ]
    },
    {
     "name": "stdout",
     "output_type": "stream",
     "text": [
      "2025-04-19 23:00:06,080 - INFO - Downloaded logs_ty0eoqaa:v0 to /scratch/downloaded_artifacts/logs_ty0eoqaa:v0\n"
     ]
    },
    {
     "name": "stderr",
     "output_type": "stream",
     "text": [
      "\u001b[34m\u001b[1mwandb\u001b[0m:   1 of 1 files downloaded.  \n"
     ]
    },
    {
     "name": "stdout",
     "output_type": "stream",
     "text": [
      "2025-04-19 23:00:06,177 - INFO - Downloaded logs_1m3egwbp:v0 to /scratch/downloaded_artifacts/logs_1m3egwbp:v0\n"
     ]
    },
    {
     "name": "stderr",
     "output_type": "stream",
     "text": [
      "\u001b[34m\u001b[1mwandb\u001b[0m:   1 of 1 files downloaded.  \n"
     ]
    },
    {
     "name": "stdout",
     "output_type": "stream",
     "text": [
      "2025-04-19 23:00:06,243 - INFO - Downloaded logs_z03cqhsl:v0 to /scratch/downloaded_artifacts/logs_z03cqhsl:v0\n"
     ]
    },
    {
     "name": "stderr",
     "output_type": "stream",
     "text": [
      "\u001b[34m\u001b[1mwandb\u001b[0m:   1 of 1 files downloaded.  \n"
     ]
    },
    {
     "name": "stdout",
     "output_type": "stream",
     "text": [
      "2025-04-19 23:00:06,400 - INFO - Downloaded logs_3khk20c1:v0 to /scratch/downloaded_artifacts/logs_3khk20c1:v0\n"
     ]
    },
    {
     "name": "stderr",
     "output_type": "stream",
     "text": [
      "\u001b[34m\u001b[1mwandb\u001b[0m:   1 of 1 files downloaded.  \n"
     ]
    },
    {
     "name": "stdout",
     "output_type": "stream",
     "text": [
      "2025-04-19 23:00:06,481 - INFO - Downloaded logs_c8fzvmu7:v0 to /scratch/downloaded_artifacts/logs_c8fzvmu7:v0\n"
     ]
    },
    {
     "name": "stderr",
     "output_type": "stream",
     "text": [
      "\u001b[34m\u001b[1mwandb\u001b[0m:   1 of 1 files downloaded.  \n"
     ]
    },
    {
     "name": "stdout",
     "output_type": "stream",
     "text": [
      "2025-04-19 23:00:06,628 - INFO - Downloaded logs_em6men4j:v0 to /scratch/downloaded_artifacts/logs_em6men4j:v0\n"
     ]
    },
    {
     "name": "stderr",
     "output_type": "stream",
     "text": [
      "\u001b[34m\u001b[1mwandb\u001b[0m:   1 of 1 files downloaded.  \n"
     ]
    },
    {
     "name": "stdout",
     "output_type": "stream",
     "text": [
      "2025-04-19 23:00:06,717 - INFO - Downloaded logs_hu3c7ycs:v0 to /scratch/downloaded_artifacts/logs_hu3c7ycs:v0\n"
     ]
    },
    {
     "name": "stderr",
     "output_type": "stream",
     "text": [
      "\u001b[34m\u001b[1mwandb\u001b[0m:   1 of 1 files downloaded.  \n"
     ]
    },
    {
     "name": "stdout",
     "output_type": "stream",
     "text": [
      "2025-04-19 23:00:06,845 - INFO - Downloaded logs_i0fusqyd:v0 to /scratch/downloaded_artifacts/logs_i0fusqyd:v0\n"
     ]
    },
    {
     "name": "stderr",
     "output_type": "stream",
     "text": [
      "\u001b[34m\u001b[1mwandb\u001b[0m:   1 of 1 files downloaded.  \n"
     ]
    },
    {
     "name": "stdout",
     "output_type": "stream",
     "text": [
      "2025-04-19 23:00:06,953 - INFO - Downloaded logs_olr37mis:v0 to /scratch/downloaded_artifacts/logs_olr37mis:v0\n"
     ]
    },
    {
     "name": "stderr",
     "output_type": "stream",
     "text": [
      "\u001b[34m\u001b[1mwandb\u001b[0m:   1 of 1 files downloaded.  \n"
     ]
    },
    {
     "name": "stdout",
     "output_type": "stream",
     "text": [
      "2025-04-19 23:00:07,020 - INFO - Downloaded logs_r5fnq0jy:v0 to /scratch/downloaded_artifacts/logs_r5fnq0jy:v0\n"
     ]
    },
    {
     "name": "stderr",
     "output_type": "stream",
     "text": [
      "\u001b[34m\u001b[1mwandb\u001b[0m:   1 of 1 files downloaded.  \n"
     ]
    },
    {
     "name": "stdout",
     "output_type": "stream",
     "text": [
      "2025-04-19 23:00:07,082 - INFO - Downloaded logs_j4wrgd9w:v0 to /scratch/downloaded_artifacts/logs_j4wrgd9w:v0\n"
     ]
    },
    {
     "name": "stderr",
     "output_type": "stream",
     "text": [
      "\u001b[34m\u001b[1mwandb\u001b[0m:   1 of 1 files downloaded.  \n"
     ]
    },
    {
     "name": "stdout",
     "output_type": "stream",
     "text": [
      "2025-04-19 23:00:07,188 - INFO - Downloaded logs_1bc5jalu:v0 to /scratch/downloaded_artifacts/logs_1bc5jalu:v0\n"
     ]
    },
    {
     "name": "stderr",
     "output_type": "stream",
     "text": [
      "\u001b[34m\u001b[1mwandb\u001b[0m:   1 of 1 files downloaded.  \n"
     ]
    },
    {
     "name": "stdout",
     "output_type": "stream",
     "text": [
      "2025-04-19 23:00:07,206 - INFO - Downloaded logs_vzvz3vzg:v0 to /scratch/downloaded_artifacts/logs_vzvz3vzg:v0\n"
     ]
    },
    {
     "name": "stderr",
     "output_type": "stream",
     "text": [
      "\u001b[34m\u001b[1mwandb\u001b[0m:   1 of 1 files downloaded.  \n"
     ]
    },
    {
     "name": "stdout",
     "output_type": "stream",
     "text": [
      "2025-04-19 23:00:07,229 - INFO - Downloaded logs_tx7st76p:v0 to /scratch/downloaded_artifacts/logs_tx7st76p:v0\n"
     ]
    },
    {
     "name": "stderr",
     "output_type": "stream",
     "text": [
      "\u001b[34m\u001b[1mwandb\u001b[0m:   1 of 1 files downloaded.  \n"
     ]
    },
    {
     "name": "stdout",
     "output_type": "stream",
     "text": [
      "2025-04-19 23:00:07,611 - INFO - Downloaded logs_2d6f2xlb:v0 to /scratch/downloaded_artifacts/logs_2d6f2xlb:v0\n"
     ]
    },
    {
     "name": "stderr",
     "output_type": "stream",
     "text": [
      "\u001b[34m\u001b[1mwandb\u001b[0m:   1 of 1 files downloaded.  \n"
     ]
    },
    {
     "name": "stdout",
     "output_type": "stream",
     "text": [
      "2025-04-19 23:00:07,684 - INFO - Downloaded logs_6pm3lymf:v0 to /scratch/downloaded_artifacts/logs_6pm3lymf:v0\n"
     ]
    },
    {
     "name": "stderr",
     "output_type": "stream",
     "text": [
      "\u001b[34m\u001b[1mwandb\u001b[0m:   1 of 1 files downloaded.  \n"
     ]
    },
    {
     "name": "stdout",
     "output_type": "stream",
     "text": [
      "2025-04-19 23:00:07,711 - INFO - Downloaded logs_8f8lgkw9:v0 to /scratch/downloaded_artifacts/logs_8f8lgkw9:v0\n"
     ]
    },
    {
     "name": "stderr",
     "output_type": "stream",
     "text": [
      "\u001b[34m\u001b[1mwandb\u001b[0m:   1 of 1 files downloaded.  \n"
     ]
    },
    {
     "name": "stdout",
     "output_type": "stream",
     "text": [
      "2025-04-19 23:00:07,875 - INFO - Downloaded logs_vp80243m:v0 to /scratch/downloaded_artifacts/logs_vp80243m:v0\n"
     ]
    },
    {
     "name": "stderr",
     "output_type": "stream",
     "text": [
      "\u001b[34m\u001b[1mwandb\u001b[0m:   1 of 1 files downloaded.  \n"
     ]
    },
    {
     "name": "stdout",
     "output_type": "stream",
     "text": [
      "2025-04-19 23:00:07,887 - INFO - Downloaded logs_mvkeapye:v0 to /scratch/downloaded_artifacts/logs_mvkeapye:v0\n"
     ]
    },
    {
     "name": "stderr",
     "output_type": "stream",
     "text": [
      "\u001b[34m\u001b[1mwandb\u001b[0m:   1 of 1 files downloaded.  \n",
      "\u001b[34m\u001b[1mwandb\u001b[0m:   1 of 1 files downloaded.  \n"
     ]
    },
    {
     "name": "stdout",
     "output_type": "stream",
     "text": [
      "2025-04-19 23:00:07,898 - INFO - Downloaded logs_lw55zler:v0 to /scratch/downloaded_artifacts/logs_lw55zler:v0\n",
      "2025-04-19 23:00:07,898 - INFO - Downloaded logs_ceb4xmgr:v0 to /scratch/downloaded_artifacts/logs_ceb4xmgr:v0\n"
     ]
    },
    {
     "name": "stderr",
     "output_type": "stream",
     "text": [
      "\u001b[34m\u001b[1mwandb\u001b[0m:   1 of 1 files downloaded.  \n"
     ]
    },
    {
     "name": "stdout",
     "output_type": "stream",
     "text": [
      "2025-04-19 23:00:08,079 - INFO - Downloaded logs_den0vzgn:v0 to /scratch/downloaded_artifacts/logs_den0vzgn:v0\n"
     ]
    },
    {
     "name": "stderr",
     "output_type": "stream",
     "text": [
      "\u001b[34m\u001b[1mwandb\u001b[0m:   1 of 1 files downloaded.  \n"
     ]
    },
    {
     "name": "stdout",
     "output_type": "stream",
     "text": [
      "2025-04-19 23:00:08,213 - INFO - Downloaded logs_ybvy78lm:v0 to /scratch/downloaded_artifacts/logs_ybvy78lm:v0\n"
     ]
    },
    {
     "name": "stderr",
     "output_type": "stream",
     "text": [
      "\u001b[34m\u001b[1mwandb\u001b[0m:   1 of 1 files downloaded.  \n"
     ]
    },
    {
     "name": "stdout",
     "output_type": "stream",
     "text": [
      "2025-04-19 23:00:08,320 - INFO - Downloaded logs_e35arpp6:v0 to /scratch/downloaded_artifacts/logs_e35arpp6:v0\n"
     ]
    },
    {
     "name": "stderr",
     "output_type": "stream",
     "text": [
      "\u001b[34m\u001b[1mwandb\u001b[0m:   1 of 1 files downloaded.  \n"
     ]
    },
    {
     "name": "stdout",
     "output_type": "stream",
     "text": [
      "2025-04-19 23:00:08,381 - INFO - Downloaded logs_hwkxt792:v0 to /scratch/downloaded_artifacts/logs_hwkxt792:v0\n"
     ]
    },
    {
     "name": "stderr",
     "output_type": "stream",
     "text": [
      "\u001b[34m\u001b[1mwandb\u001b[0m:   1 of 1 files downloaded.  \n"
     ]
    },
    {
     "name": "stdout",
     "output_type": "stream",
     "text": [
      "2025-04-19 23:00:08,574 - INFO - Downloaded logs_k616f5ce:v0 to /scratch/downloaded_artifacts/logs_k616f5ce:v0\n"
     ]
    },
    {
     "name": "stderr",
     "output_type": "stream",
     "text": [
      "\u001b[34m\u001b[1mwandb\u001b[0m:   1 of 1 files downloaded.  \n"
     ]
    },
    {
     "name": "stdout",
     "output_type": "stream",
     "text": [
      "2025-04-19 23:00:08,605 - INFO - Downloaded logs_lt746wbn:v0 to /scratch/downloaded_artifacts/logs_lt746wbn:v0\n"
     ]
    },
    {
     "name": "stderr",
     "output_type": "stream",
     "text": [
      "\u001b[34m\u001b[1mwandb\u001b[0m:   1 of 1 files downloaded.  \n"
     ]
    },
    {
     "name": "stdout",
     "output_type": "stream",
     "text": [
      "2025-04-19 23:00:08,834 - INFO - Downloaded logs_wekbn30o:v0 to /scratch/downloaded_artifacts/logs_wekbn30o:v0\n"
     ]
    },
    {
     "name": "stderr",
     "output_type": "stream",
     "text": [
      "\u001b[34m\u001b[1mwandb\u001b[0m:   1 of 1 files downloaded.  \n"
     ]
    },
    {
     "name": "stdout",
     "output_type": "stream",
     "text": [
      "2025-04-19 23:00:08,858 - INFO - Downloaded logs_tskvj8x8:v0 to /scratch/downloaded_artifacts/logs_tskvj8x8:v0\n"
     ]
    },
    {
     "name": "stderr",
     "output_type": "stream",
     "text": [
      "\u001b[34m\u001b[1mwandb\u001b[0m:   1 of 1 files downloaded.  \n"
     ]
    },
    {
     "name": "stdout",
     "output_type": "stream",
     "text": [
      "2025-04-19 23:00:08,876 - INFO - Downloaded logs_mmc8zoch:v0 to /scratch/downloaded_artifacts/logs_mmc8zoch:v0\n"
     ]
    },
    {
     "name": "stderr",
     "output_type": "stream",
     "text": [
      "\u001b[34m\u001b[1mwandb\u001b[0m:   1 of 1 files downloaded.  \n"
     ]
    },
    {
     "name": "stdout",
     "output_type": "stream",
     "text": [
      "2025-04-19 23:00:08,989 - INFO - Downloaded logs_2v69fuwr:v0 to /scratch/downloaded_artifacts/logs_2v69fuwr:v0\n"
     ]
    },
    {
     "name": "stderr",
     "output_type": "stream",
     "text": [
      "\u001b[34m\u001b[1mwandb\u001b[0m:   1 of 1 files downloaded.  \n"
     ]
    },
    {
     "name": "stdout",
     "output_type": "stream",
     "text": [
      "2025-04-19 23:00:09,026 - INFO - Downloaded logs_xwnfgjxe:v0 to /scratch/downloaded_artifacts/logs_xwnfgjxe:v0\n"
     ]
    },
    {
     "name": "stderr",
     "output_type": "stream",
     "text": [
      "\u001b[34m\u001b[1mwandb\u001b[0m:   1 of 1 files downloaded.  \n"
     ]
    },
    {
     "name": "stdout",
     "output_type": "stream",
     "text": [
      "2025-04-19 23:00:09,082 - INFO - Downloaded logs_2fejmwhp:v0 to /scratch/downloaded_artifacts/logs_2fejmwhp:v0\n"
     ]
    },
    {
     "name": "stderr",
     "output_type": "stream",
     "text": [
      "\u001b[34m\u001b[1mwandb\u001b[0m:   1 of 1 files downloaded.  \n"
     ]
    },
    {
     "name": "stdout",
     "output_type": "stream",
     "text": [
      "2025-04-19 23:00:09,282 - INFO - Downloaded logs_3qu0m1wn:v0 to /scratch/downloaded_artifacts/logs_3qu0m1wn:v0\n"
     ]
    },
    {
     "name": "stderr",
     "output_type": "stream",
     "text": [
      "\u001b[34m\u001b[1mwandb\u001b[0m:   1 of 1 files downloaded.  \n"
     ]
    },
    {
     "name": "stdout",
     "output_type": "stream",
     "text": [
      "2025-04-19 23:00:09,438 - INFO - Downloaded logs_d7ilr0k1:v0 to /scratch/downloaded_artifacts/logs_d7ilr0k1:v0\n"
     ]
    },
    {
     "name": "stderr",
     "output_type": "stream",
     "text": [
      "\u001b[34m\u001b[1mwandb\u001b[0m:   1 of 1 files downloaded.  \n"
     ]
    },
    {
     "name": "stdout",
     "output_type": "stream",
     "text": [
      "2025-04-19 23:00:09,506 - INFO - Downloaded logs_hqvfnw43:v0 to /scratch/downloaded_artifacts/logs_hqvfnw43:v0\n"
     ]
    },
    {
     "name": "stderr",
     "output_type": "stream",
     "text": [
      "\u001b[34m\u001b[1mwandb\u001b[0m:   1 of 1 files downloaded.  \n"
     ]
    },
    {
     "name": "stdout",
     "output_type": "stream",
     "text": [
      "2025-04-19 23:00:09,629 - INFO - Downloaded logs_k3ppqdp4:v0 to /scratch/downloaded_artifacts/logs_k3ppqdp4:v0\n"
     ]
    },
    {
     "name": "stderr",
     "output_type": "stream",
     "text": [
      "\u001b[34m\u001b[1mwandb\u001b[0m:   1 of 1 files downloaded.  \n"
     ]
    },
    {
     "name": "stdout",
     "output_type": "stream",
     "text": [
      "2025-04-19 23:00:09,896 - INFO - Downloaded logs_6p7j2qh2:v0 to /scratch/downloaded_artifacts/logs_6p7j2qh2:v0\n"
     ]
    },
    {
     "name": "stderr",
     "output_type": "stream",
     "text": [
      "\u001b[34m\u001b[1mwandb\u001b[0m:   1 of 1 files downloaded.  \n"
     ]
    },
    {
     "name": "stdout",
     "output_type": "stream",
     "text": [
      "2025-04-19 23:00:09,903 - INFO - Downloaded logs_s7jcycjm:v0 to /scratch/downloaded_artifacts/logs_s7jcycjm:v0\n"
     ]
    },
    {
     "name": "stderr",
     "output_type": "stream",
     "text": [
      "\u001b[34m\u001b[1mwandb\u001b[0m:   1 of 1 files downloaded.  \n"
     ]
    },
    {
     "name": "stdout",
     "output_type": "stream",
     "text": [
      "2025-04-19 23:00:09,923 - INFO - Downloaded logs_s3wb36mh:v0 to /scratch/downloaded_artifacts/logs_s3wb36mh:v0\n"
     ]
    },
    {
     "name": "stderr",
     "output_type": "stream",
     "text": [
      "\u001b[34m\u001b[1mwandb\u001b[0m:   1 of 1 files downloaded.  \n"
     ]
    },
    {
     "name": "stdout",
     "output_type": "stream",
     "text": [
      "2025-04-19 23:00:09,999 - INFO - Downloaded logs_z2r3lewr:v0 to /scratch/downloaded_artifacts/logs_z2r3lewr:v0\n"
     ]
    },
    {
     "name": "stderr",
     "output_type": "stream",
     "text": [
      "\u001b[34m\u001b[1mwandb\u001b[0m:   1 of 1 files downloaded.  \n"
     ]
    },
    {
     "name": "stdout",
     "output_type": "stream",
     "text": [
      "2025-04-19 23:00:10,103 - INFO - Downloaded logs_dnwfpeh0:v0 to /scratch/downloaded_artifacts/logs_dnwfpeh0:v0\n"
     ]
    },
    {
     "name": "stderr",
     "output_type": "stream",
     "text": [
      "\u001b[34m\u001b[1mwandb\u001b[0m:   1 of 1 files downloaded.  \n"
     ]
    },
    {
     "name": "stdout",
     "output_type": "stream",
     "text": [
      "2025-04-19 23:00:10,146 - INFO - Downloaded logs_3olzhvkd:v0 to /scratch/downloaded_artifacts/logs_3olzhvkd:v0\n"
     ]
    },
    {
     "name": "stderr",
     "output_type": "stream",
     "text": [
      "\u001b[34m\u001b[1mwandb\u001b[0m:   1 of 1 files downloaded.  \n"
     ]
    },
    {
     "name": "stdout",
     "output_type": "stream",
     "text": [
      "2025-04-19 23:00:10,269 - INFO - Downloaded logs_gktulhm6:v0 to /scratch/downloaded_artifacts/logs_gktulhm6:v0\n"
     ]
    },
    {
     "name": "stderr",
     "output_type": "stream",
     "text": [
      "\u001b[34m\u001b[1mwandb\u001b[0m:   1 of 1 files downloaded.  \n"
     ]
    },
    {
     "name": "stdout",
     "output_type": "stream",
     "text": [
      "2025-04-19 23:00:10,517 - INFO - Downloaded logs_r2qt482j:v0 to /scratch/downloaded_artifacts/logs_r2qt482j:v0\n"
     ]
    },
    {
     "name": "stderr",
     "output_type": "stream",
     "text": [
      "\u001b[34m\u001b[1mwandb\u001b[0m:   1 of 1 files downloaded.  \n"
     ]
    },
    {
     "name": "stdout",
     "output_type": "stream",
     "text": [
      "2025-04-19 23:00:10,548 - INFO - Downloaded logs_j0twg4uq:v0 to /scratch/downloaded_artifacts/logs_j0twg4uq:v0\n"
     ]
    },
    {
     "name": "stderr",
     "output_type": "stream",
     "text": [
      "\u001b[34m\u001b[1mwandb\u001b[0m:   1 of 1 files downloaded.  \n"
     ]
    },
    {
     "name": "stdout",
     "output_type": "stream",
     "text": [
      "2025-04-19 23:00:10,634 - INFO - Downloaded logs_n5emsaq4:v0 to /scratch/downloaded_artifacts/logs_n5emsaq4:v0\n"
     ]
    },
    {
     "name": "stderr",
     "output_type": "stream",
     "text": [
      "\u001b[34m\u001b[1mwandb\u001b[0m:   1 of 1 files downloaded.  \n"
     ]
    },
    {
     "name": "stdout",
     "output_type": "stream",
     "text": [
      "2025-04-19 23:00:10,647 - INFO - Downloaded logs_rvx8yleo:v0 to /scratch/downloaded_artifacts/logs_rvx8yleo:v0\n"
     ]
    },
    {
     "name": "stderr",
     "output_type": "stream",
     "text": [
      "\u001b[34m\u001b[1mwandb\u001b[0m:   1 of 1 files downloaded.  \n"
     ]
    },
    {
     "name": "stdout",
     "output_type": "stream",
     "text": [
      "2025-04-19 23:00:10,840 - INFO - Downloaded logs_g65mu08x:v0 to /scratch/downloaded_artifacts/logs_g65mu08x:v0\n"
     ]
    },
    {
     "name": "stderr",
     "output_type": "stream",
     "text": [
      "\u001b[34m\u001b[1mwandb\u001b[0m:   1 of 1 files downloaded.  \n"
     ]
    },
    {
     "name": "stdout",
     "output_type": "stream",
     "text": [
      "2025-04-19 23:00:10,868 - INFO - Downloaded logs_y57ci9qd:v0 to /scratch/downloaded_artifacts/logs_y57ci9qd:v0\n"
     ]
    },
    {
     "name": "stderr",
     "output_type": "stream",
     "text": [
      "\u001b[34m\u001b[1mwandb\u001b[0m:   1 of 1 files downloaded.  \n"
     ]
    },
    {
     "name": "stdout",
     "output_type": "stream",
     "text": [
      "2025-04-19 23:00:10,885 - INFO - Downloaded logs_1014yy5s:v0 to /scratch/downloaded_artifacts/logs_1014yy5s:v0\n"
     ]
    },
    {
     "name": "stderr",
     "output_type": "stream",
     "text": [
      "\u001b[34m\u001b[1mwandb\u001b[0m:   1 of 1 files downloaded.  \n"
     ]
    },
    {
     "name": "stdout",
     "output_type": "stream",
     "text": [
      "2025-04-19 23:00:10,936 - INFO - Downloaded logs_4jajpb3i:v0 to /scratch/downloaded_artifacts/logs_4jajpb3i:v0\n"
     ]
    },
    {
     "name": "stderr",
     "output_type": "stream",
     "text": [
      "\u001b[34m\u001b[1mwandb\u001b[0m:   1 of 1 files downloaded.  \n"
     ]
    },
    {
     "name": "stdout",
     "output_type": "stream",
     "text": [
      "2025-04-19 23:00:10,975 - INFO - Downloaded logs_mnsvotaj:v0 to /scratch/downloaded_artifacts/logs_mnsvotaj:v0\n"
     ]
    },
    {
     "name": "stderr",
     "output_type": "stream",
     "text": [
      "\u001b[34m\u001b[1mwandb\u001b[0m:   1 of 1 files downloaded.  \n"
     ]
    },
    {
     "name": "stdout",
     "output_type": "stream",
     "text": [
      "2025-04-19 23:00:11,026 - INFO - Downloaded logs_pzwy4m7r:v0 to /scratch/downloaded_artifacts/logs_pzwy4m7r:v0\n"
     ]
    },
    {
     "name": "stderr",
     "output_type": "stream",
     "text": [
      "\u001b[34m\u001b[1mwandb\u001b[0m:   1 of 1 files downloaded.  \n"
     ]
    },
    {
     "name": "stdout",
     "output_type": "stream",
     "text": [
      "2025-04-19 23:00:11,265 - INFO - Downloaded logs_v8avvuj5:v0 to /scratch/downloaded_artifacts/logs_v8avvuj5:v0\n"
     ]
    },
    {
     "name": "stderr",
     "output_type": "stream",
     "text": [
      "\u001b[34m\u001b[1mwandb\u001b[0m:   1 of 1 files downloaded.  \n"
     ]
    },
    {
     "name": "stdout",
     "output_type": "stream",
     "text": [
      "2025-04-19 23:00:11,393 - INFO - Downloaded logs_jcuzaksx:v0 to /scratch/downloaded_artifacts/logs_jcuzaksx:v0\n"
     ]
    },
    {
     "name": "stderr",
     "output_type": "stream",
     "text": [
      "\u001b[34m\u001b[1mwandb\u001b[0m:   1 of 1 files downloaded.  \n"
     ]
    },
    {
     "name": "stdout",
     "output_type": "stream",
     "text": [
      "2025-04-19 23:00:11,399 - INFO - Downloaded logs_q6ykq5q6:v0 to /scratch/downloaded_artifacts/logs_q6ykq5q6:v0\n"
     ]
    },
    {
     "name": "stderr",
     "output_type": "stream",
     "text": [
      "\u001b[34m\u001b[1mwandb\u001b[0m:   1 of 1 files downloaded.  \n"
     ]
    },
    {
     "name": "stdout",
     "output_type": "stream",
     "text": [
      "2025-04-19 23:00:11,608 - INFO - Downloaded logs_3wpxhsom:v0 to /scratch/downloaded_artifacts/logs_3wpxhsom:v0\n"
     ]
    },
    {
     "name": "stderr",
     "output_type": "stream",
     "text": [
      "\u001b[34m\u001b[1mwandb\u001b[0m:   1 of 1 files downloaded.  \n"
     ]
    },
    {
     "name": "stdout",
     "output_type": "stream",
     "text": [
      "2025-04-19 23:00:11,741 - INFO - Downloaded logs_8xgyw39k:v0 to /scratch/downloaded_artifacts/logs_8xgyw39k:v0\n"
     ]
    },
    {
     "name": "stderr",
     "output_type": "stream",
     "text": [
      "\u001b[34m\u001b[1mwandb\u001b[0m:   1 of 1 files downloaded.  \n"
     ]
    },
    {
     "name": "stdout",
     "output_type": "stream",
     "text": [
      "2025-04-19 23:00:11,764 - INFO - Downloaded logs_8gthh47g:v0 to /scratch/downloaded_artifacts/logs_8gthh47g:v0\n"
     ]
    },
    {
     "name": "stderr",
     "output_type": "stream",
     "text": [
      "\u001b[34m\u001b[1mwandb\u001b[0m:   1 of 1 files downloaded.  \n"
     ]
    },
    {
     "name": "stdout",
     "output_type": "stream",
     "text": [
      "2025-04-19 23:00:11,812 - INFO - Downloaded logs_9fn9rtz9:v0 to /scratch/downloaded_artifacts/logs_9fn9rtz9:v0\n"
     ]
    },
    {
     "name": "stderr",
     "output_type": "stream",
     "text": [
      "\u001b[34m\u001b[1mwandb\u001b[0m:   1 of 1 files downloaded.  \n"
     ]
    },
    {
     "name": "stdout",
     "output_type": "stream",
     "text": [
      "2025-04-19 23:00:11,848 - INFO - Downloaded logs_d0om42vq:v0 to /scratch/downloaded_artifacts/logs_d0om42vq:v0\n"
     ]
    },
    {
     "name": "stderr",
     "output_type": "stream",
     "text": [
      "\u001b[34m\u001b[1mwandb\u001b[0m:   1 of 1 files downloaded.  \n"
     ]
    },
    {
     "name": "stdout",
     "output_type": "stream",
     "text": [
      "2025-04-19 23:00:11,890 - INFO - Downloaded logs_bx9mh37l:v0 to /scratch/downloaded_artifacts/logs_bx9mh37l:v0\n"
     ]
    },
    {
     "name": "stderr",
     "output_type": "stream",
     "text": [
      "\u001b[34m\u001b[1mwandb\u001b[0m:   1 of 1 files downloaded.  \n"
     ]
    },
    {
     "name": "stdout",
     "output_type": "stream",
     "text": [
      "2025-04-19 23:00:12,193 - INFO - Downloaded logs_esismpem:v0 to /scratch/downloaded_artifacts/logs_esismpem:v0\n"
     ]
    },
    {
     "name": "stderr",
     "output_type": "stream",
     "text": [
      "\u001b[34m\u001b[1mwandb\u001b[0m: \u001b[32m\u001b[41mERROR\u001b[0m Error while calling W&B API: rate limit exceeded (<Response [429]>)\n",
      "\u001b[34m\u001b[1mwandb\u001b[0m: \u001b[32m\u001b[41mERROR\u001b[0m Error while calling W&B API: rate limit exceeded (<Response [429]>)\n",
      "\u001b[34m\u001b[1mwandb\u001b[0m: \u001b[32m\u001b[41mERROR\u001b[0m Error while calling W&B API: rate limit exceeded (<Response [429]>)\n",
      "\u001b[34m\u001b[1mwandb\u001b[0m: \u001b[32m\u001b[41mERROR\u001b[0m Error while calling W&B API: rate limit exceeded (<Response [429]>)\n",
      "\u001b[34m\u001b[1mwandb\u001b[0m:   1 of 1 files downloaded.  \n"
     ]
    },
    {
     "name": "stdout",
     "output_type": "stream",
     "text": [
      "2025-04-19 23:00:12,358 - INFO - Downloaded logs_whvmzxwu:v0 to /scratch/downloaded_artifacts/logs_whvmzxwu:v0\n"
     ]
    },
    {
     "name": "stderr",
     "output_type": "stream",
     "text": [
      "\u001b[34m\u001b[1mwandb\u001b[0m: \u001b[32m\u001b[41mERROR\u001b[0m Error while calling W&B API: rate limit exceeded (<Response [429]>)\n",
      "\u001b[34m\u001b[1mwandb\u001b[0m:   1 of 1 files downloaded.  \n"
     ]
    },
    {
     "name": "stdout",
     "output_type": "stream",
     "text": [
      "2025-04-19 23:00:12,433 - INFO - Downloaded logs_5mj5uf31:v0 to /scratch/downloaded_artifacts/logs_5mj5uf31:v0\n"
     ]
    },
    {
     "name": "stderr",
     "output_type": "stream",
     "text": [
      "\u001b[34m\u001b[1mwandb\u001b[0m:   1 of 1 files downloaded.  \n"
     ]
    },
    {
     "name": "stdout",
     "output_type": "stream",
     "text": [
      "2025-04-19 23:00:12,481 - INFO - Downloaded logs_0ehceftt:v0 to /scratch/downloaded_artifacts/logs_0ehceftt:v0\n"
     ]
    },
    {
     "name": "stderr",
     "output_type": "stream",
     "text": [
      "\u001b[34m\u001b[1mwandb\u001b[0m:   1 of 1 files downloaded.  \n"
     ]
    },
    {
     "name": "stdout",
     "output_type": "stream",
     "text": [
      "2025-04-19 23:00:12,530 - INFO - Downloaded logs_vozuxlwk:v0 to /scratch/downloaded_artifacts/logs_vozuxlwk:v0\n"
     ]
    },
    {
     "name": "stderr",
     "output_type": "stream",
     "text": [
      "\u001b[34m\u001b[1mwandb\u001b[0m:   1 of 1 files downloaded.  \n"
     ]
    },
    {
     "name": "stdout",
     "output_type": "stream",
     "text": [
      "2025-04-19 23:00:12,598 - INFO - Downloaded logs_fm54dy2j:v0 to /scratch/downloaded_artifacts/logs_fm54dy2j:v0\n"
     ]
    },
    {
     "name": "stderr",
     "output_type": "stream",
     "text": [
      "\u001b[34m\u001b[1mwandb\u001b[0m:   1 of 1 files downloaded.  \n"
     ]
    },
    {
     "name": "stdout",
     "output_type": "stream",
     "text": [
      "2025-04-19 23:00:12,605 - INFO - Downloaded logs_yh6zv9uh:v0 to /scratch/downloaded_artifacts/logs_yh6zv9uh:v0\n"
     ]
    },
    {
     "name": "stderr",
     "output_type": "stream",
     "text": [
      "\u001b[34m\u001b[1mwandb\u001b[0m:   1 of 1 files downloaded.  \n"
     ]
    },
    {
     "name": "stdout",
     "output_type": "stream",
     "text": [
      "2025-04-19 23:00:12,633 - INFO - Downloaded logs_j0mwmcb6:v0 to /scratch/downloaded_artifacts/logs_j0mwmcb6:v0\n"
     ]
    },
    {
     "name": "stderr",
     "output_type": "stream",
     "text": [
      "\u001b[34m\u001b[1mwandb\u001b[0m:   1 of 1 files downloaded.  \n"
     ]
    },
    {
     "name": "stdout",
     "output_type": "stream",
     "text": [
      "2025-04-19 23:00:12,650 - INFO - Downloaded logs_mo5jjfoy:v0 to /scratch/downloaded_artifacts/logs_mo5jjfoy:v0\n"
     ]
    },
    {
     "name": "stderr",
     "output_type": "stream",
     "text": [
      "\u001b[34m\u001b[1mwandb\u001b[0m:   1 of 1 files downloaded.  \n"
     ]
    },
    {
     "name": "stdout",
     "output_type": "stream",
     "text": [
      "2025-04-19 23:00:12,665 - INFO - Downloaded logs_h0lh8yta:v0 to /scratch/downloaded_artifacts/logs_h0lh8yta:v0\n"
     ]
    },
    {
     "name": "stderr",
     "output_type": "stream",
     "text": [
      "\u001b[34m\u001b[1mwandb\u001b[0m:   1 of 1 files downloaded.  \n"
     ]
    },
    {
     "name": "stdout",
     "output_type": "stream",
     "text": [
      "2025-04-19 23:00:12,692 - INFO - Downloaded logs_ejjhv4qt:v0 to /scratch/downloaded_artifacts/logs_ejjhv4qt:v0\n"
     ]
    },
    {
     "name": "stderr",
     "output_type": "stream",
     "text": [
      "\u001b[34m\u001b[1mwandb\u001b[0m:   1 of 1 files downloaded.  \n"
     ]
    },
    {
     "name": "stdout",
     "output_type": "stream",
     "text": [
      "2025-04-19 23:00:12,769 - INFO - Downloaded logs_f6vrpdj3:v0 to /scratch/downloaded_artifacts/logs_f6vrpdj3:v0\n"
     ]
    },
    {
     "name": "stderr",
     "output_type": "stream",
     "text": [
      "\u001b[34m\u001b[1mwandb\u001b[0m:   1 of 1 files downloaded.  \n"
     ]
    },
    {
     "name": "stdout",
     "output_type": "stream",
     "text": [
      "2025-04-19 23:00:12,790 - INFO - Downloaded logs_tw5siajw:v0 to /scratch/downloaded_artifacts/logs_tw5siajw:v0\n"
     ]
    },
    {
     "name": "stderr",
     "output_type": "stream",
     "text": [
      "\u001b[34m\u001b[1mwandb\u001b[0m:   1 of 1 files downloaded.  \n"
     ]
    },
    {
     "name": "stdout",
     "output_type": "stream",
     "text": [
      "2025-04-19 23:00:12,857 - INFO - Downloaded logs_p7tdj01r:v0 to /scratch/downloaded_artifacts/logs_p7tdj01r:v0\n"
     ]
    },
    {
     "name": "stderr",
     "output_type": "stream",
     "text": [
      "\u001b[34m\u001b[1mwandb\u001b[0m: Network error (HTTPError), entering retry loop.\n",
      "\u001b[34m\u001b[1mwandb\u001b[0m: \u001b[32m\u001b[41mERROR\u001b[0m Error while calling W&B API: rate limit exceeded (<Response [429]>)\n",
      "\u001b[34m\u001b[1mwandb\u001b[0m: \u001b[32m\u001b[41mERROR\u001b[0m Error while calling W&B API: rate limit exceeded (<Response [429]>)\n",
      "\u001b[34m\u001b[1mwandb\u001b[0m: \u001b[32m\u001b[41mERROR\u001b[0m Error while calling W&B API: rate limit exceeded (<Response [429]>)\n",
      "\u001b[34m\u001b[1mwandb\u001b[0m: \u001b[32m\u001b[41mERROR\u001b[0m Error while calling W&B API: rate limit exceeded (<Response [429]>)\n",
      "\u001b[34m\u001b[1mwandb\u001b[0m: \u001b[32m\u001b[41mERROR\u001b[0m Error while calling W&B API: rate limit exceeded (<Response [429]>)\n",
      "\u001b[34m\u001b[1mwandb\u001b[0m:   1 of 1 files downloaded.  \n"
     ]
    },
    {
     "name": "stdout",
     "output_type": "stream",
     "text": [
      "2025-04-19 23:00:16,342 - INFO - Downloaded logs_vbxzwc6v:v0 to /scratch/downloaded_artifacts/logs_vbxzwc6v:v0\n"
     ]
    },
    {
     "name": "stderr",
     "output_type": "stream",
     "text": [
      "\u001b[34m\u001b[1mwandb\u001b[0m:   1 of 1 files downloaded.  \n"
     ]
    },
    {
     "name": "stdout",
     "output_type": "stream",
     "text": [
      "2025-04-19 23:00:16,400 - INFO - Downloaded logs_i3kxc0la:v0 to /scratch/downloaded_artifacts/logs_i3kxc0la:v0\n"
     ]
    },
    {
     "name": "stderr",
     "output_type": "stream",
     "text": [
      "\u001b[34m\u001b[1mwandb\u001b[0m:   1 of 1 files downloaded.  \n"
     ]
    },
    {
     "name": "stdout",
     "output_type": "stream",
     "text": [
      "2025-04-19 23:00:16,437 - INFO - Downloaded logs_jk3omttv:v0 to /scratch/downloaded_artifacts/logs_jk3omttv:v0\n"
     ]
    },
    {
     "name": "stderr",
     "output_type": "stream",
     "text": [
      "\u001b[34m\u001b[1mwandb\u001b[0m:   1 of 1 files downloaded.  \n"
     ]
    },
    {
     "name": "stdout",
     "output_type": "stream",
     "text": [
      "2025-04-19 23:00:16,785 - INFO - Downloaded logs_7y8i9dzl:v0 to /scratch/downloaded_artifacts/logs_7y8i9dzl:v0\n"
     ]
    },
    {
     "name": "stderr",
     "output_type": "stream",
     "text": [
      "\u001b[34m\u001b[1mwandb\u001b[0m:   1 of 1 files downloaded.  \n"
     ]
    },
    {
     "name": "stdout",
     "output_type": "stream",
     "text": [
      "2025-04-19 23:00:16,852 - INFO - Downloaded logs_13n7d7sn:v0 to /scratch/downloaded_artifacts/logs_13n7d7sn:v0\n"
     ]
    },
    {
     "name": "stderr",
     "output_type": "stream",
     "text": [
      "\u001b[34m\u001b[1mwandb\u001b[0m:   1 of 1 files downloaded.  \n"
     ]
    },
    {
     "name": "stdout",
     "output_type": "stream",
     "text": [
      "2025-04-19 23:00:16,908 - INFO - Downloaded logs_3bhza0z2:v0 to /scratch/downloaded_artifacts/logs_3bhza0z2:v0\n"
     ]
    },
    {
     "name": "stderr",
     "output_type": "stream",
     "text": [
      "\u001b[34m\u001b[1mwandb\u001b[0m:   1 of 1 files downloaded.  \n"
     ]
    },
    {
     "name": "stdout",
     "output_type": "stream",
     "text": [
      "2025-04-19 23:00:16,917 - INFO - Downloaded logs_ks9jxafg:v0 to /scratch/downloaded_artifacts/logs_ks9jxafg:v0\n"
     ]
    },
    {
     "name": "stderr",
     "output_type": "stream",
     "text": [
      "\u001b[34m\u001b[1mwandb\u001b[0m:   1 of 1 files downloaded.  \n"
     ]
    },
    {
     "name": "stdout",
     "output_type": "stream",
     "text": [
      "2025-04-19 23:00:17,407 - INFO - Downloaded logs_tmakrqae:v0 to /scratch/downloaded_artifacts/logs_tmakrqae:v0\n"
     ]
    },
    {
     "name": "stderr",
     "output_type": "stream",
     "text": [
      "\u001b[34m\u001b[1mwandb\u001b[0m:   1 of 1 files downloaded.  \n"
     ]
    },
    {
     "name": "stdout",
     "output_type": "stream",
     "text": [
      "2025-04-19 23:00:17,441 - INFO - Downloaded logs_opwj2ax2:v0 to /scratch/downloaded_artifacts/logs_opwj2ax2:v0\n"
     ]
    },
    {
     "name": "stderr",
     "output_type": "stream",
     "text": [
      "\u001b[34m\u001b[1mwandb\u001b[0m:   1 of 1 files downloaded.  \n"
     ]
    },
    {
     "name": "stdout",
     "output_type": "stream",
     "text": [
      "2025-04-19 23:00:17,465 - INFO - Downloaded logs_ksmv258w:v0 to /scratch/downloaded_artifacts/logs_ksmv258w:v0\n"
     ]
    },
    {
     "name": "stderr",
     "output_type": "stream",
     "text": [
      "\u001b[34m\u001b[1mwandb\u001b[0m:   1 of 1 files downloaded.  \n"
     ]
    },
    {
     "name": "stdout",
     "output_type": "stream",
     "text": [
      "2025-04-19 23:00:17,529 - INFO - Downloaded logs_36x2co0t:v0 to /scratch/downloaded_artifacts/logs_36x2co0t:v0\n"
     ]
    },
    {
     "name": "stderr",
     "output_type": "stream",
     "text": [
      "\u001b[34m\u001b[1mwandb\u001b[0m:   1 of 1 files downloaded.  \n"
     ]
    },
    {
     "name": "stdout",
     "output_type": "stream",
     "text": [
      "2025-04-19 23:00:17,621 - INFO - Downloaded logs_4v9g3qm3:v0 to /scratch/downloaded_artifacts/logs_4v9g3qm3:v0\n"
     ]
    },
    {
     "name": "stderr",
     "output_type": "stream",
     "text": [
      "\u001b[34m\u001b[1mwandb\u001b[0m:   1 of 1 files downloaded.  \n"
     ]
    },
    {
     "name": "stdout",
     "output_type": "stream",
     "text": [
      "2025-04-19 23:00:17,783 - INFO - Downloaded logs_u1m9rqq4:v0 to /scratch/downloaded_artifacts/logs_u1m9rqq4:v0\n"
     ]
    },
    {
     "name": "stderr",
     "output_type": "stream",
     "text": [
      "\u001b[34m\u001b[1mwandb\u001b[0m:   1 of 1 files downloaded.  \n"
     ]
    },
    {
     "name": "stdout",
     "output_type": "stream",
     "text": [
      "2025-04-19 23:00:17,991 - INFO - Downloaded logs_7guwml1s:v0 to /scratch/downloaded_artifacts/logs_7guwml1s:v0\n"
     ]
    },
    {
     "name": "stderr",
     "output_type": "stream",
     "text": [
      "\u001b[34m\u001b[1mwandb\u001b[0m:   1 of 1 files downloaded.  \n"
     ]
    },
    {
     "name": "stdout",
     "output_type": "stream",
     "text": [
      "2025-04-19 23:00:18,106 - INFO - Downloaded logs_a8iimqec:v0 to /scratch/downloaded_artifacts/logs_a8iimqec:v0\n"
     ]
    },
    {
     "name": "stderr",
     "output_type": "stream",
     "text": [
      "\u001b[34m\u001b[1mwandb\u001b[0m:   1 of 1 files downloaded.  \n"
     ]
    },
    {
     "name": "stdout",
     "output_type": "stream",
     "text": [
      "2025-04-19 23:00:18,135 - INFO - Downloaded logs_zkb7mhbs:v0 to /scratch/downloaded_artifacts/logs_zkb7mhbs:v0\n"
     ]
    },
    {
     "name": "stderr",
     "output_type": "stream",
     "text": [
      "\u001b[34m\u001b[1mwandb\u001b[0m:   1 of 1 files downloaded.  \n"
     ]
    },
    {
     "name": "stdout",
     "output_type": "stream",
     "text": [
      "2025-04-19 23:00:18,175 - INFO - Downloaded logs_5ll1xlx9:v0 to /scratch/downloaded_artifacts/logs_5ll1xlx9:v0\n"
     ]
    },
    {
     "name": "stderr",
     "output_type": "stream",
     "text": [
      "\u001b[34m\u001b[1mwandb\u001b[0m:   1 of 1 files downloaded.  \n"
     ]
    },
    {
     "name": "stdout",
     "output_type": "stream",
     "text": [
      "2025-04-19 23:00:18,233 - INFO - Downloaded logs_mqbfpn12:v0 to /scratch/downloaded_artifacts/logs_mqbfpn12:v0\n"
     ]
    },
    {
     "name": "stderr",
     "output_type": "stream",
     "text": [
      "\u001b[34m\u001b[1mwandb\u001b[0m:   1 of 1 files downloaded.  \n"
     ]
    },
    {
     "name": "stdout",
     "output_type": "stream",
     "text": [
      "2025-04-19 23:00:18,296 - INFO - Downloaded logs_3zrcp5ys:v0 to /scratch/downloaded_artifacts/logs_3zrcp5ys:v0\n"
     ]
    },
    {
     "name": "stderr",
     "output_type": "stream",
     "text": [
      "\u001b[34m\u001b[1mwandb\u001b[0m:   1 of 1 files downloaded.  \n"
     ]
    },
    {
     "name": "stdout",
     "output_type": "stream",
     "text": [
      "2025-04-19 23:00:18,324 - INFO - Downloaded logs_fta2m0lh:v0 to /scratch/downloaded_artifacts/logs_fta2m0lh:v0\n"
     ]
    },
    {
     "name": "stderr",
     "output_type": "stream",
     "text": [
      "\u001b[34m\u001b[1mwandb\u001b[0m:   1 of 1 files downloaded.  \n"
     ]
    },
    {
     "name": "stdout",
     "output_type": "stream",
     "text": [
      "2025-04-19 23:00:18,340 - INFO - Downloaded logs_cn4z8qz7:v0 to /scratch/downloaded_artifacts/logs_cn4z8qz7:v0\n"
     ]
    },
    {
     "name": "stderr",
     "output_type": "stream",
     "text": [
      "\u001b[34m\u001b[1mwandb\u001b[0m:   1 of 1 files downloaded.  \n"
     ]
    },
    {
     "name": "stdout",
     "output_type": "stream",
     "text": [
      "2025-04-19 23:00:18,385 - INFO - Downloaded logs_3zpd2ibd:v0 to /scratch/downloaded_artifacts/logs_3zpd2ibd:v0\n"
     ]
    },
    {
     "name": "stderr",
     "output_type": "stream",
     "text": [
      "\u001b[34m\u001b[1mwandb\u001b[0m:   1 of 1 files downloaded.  \n"
     ]
    },
    {
     "name": "stdout",
     "output_type": "stream",
     "text": [
      "2025-04-19 23:00:18,397 - INFO - Downloaded logs_gq6sl7wp:v0 to /scratch/downloaded_artifacts/logs_gq6sl7wp:v0\n"
     ]
    },
    {
     "name": "stderr",
     "output_type": "stream",
     "text": [
      "\u001b[34m\u001b[1mwandb\u001b[0m:   1 of 1 files downloaded.  \n"
     ]
    },
    {
     "name": "stdout",
     "output_type": "stream",
     "text": [
      "2025-04-19 23:00:18,685 - INFO - Downloaded logs_kwl94rec:v0 to /scratch/downloaded_artifacts/logs_kwl94rec:v0\n"
     ]
    },
    {
     "name": "stderr",
     "output_type": "stream",
     "text": [
      "\u001b[34m\u001b[1mwandb\u001b[0m:   1 of 1 files downloaded.  \n"
     ]
    },
    {
     "name": "stdout",
     "output_type": "stream",
     "text": [
      "2025-04-19 23:00:18,727 - INFO - Downloaded logs_rnmlm431:v0 to /scratch/downloaded_artifacts/logs_rnmlm431:v0\n"
     ]
    },
    {
     "name": "stderr",
     "output_type": "stream",
     "text": [
      "\u001b[34m\u001b[1mwandb\u001b[0m:   1 of 1 files downloaded.  \n"
     ]
    },
    {
     "name": "stdout",
     "output_type": "stream",
     "text": [
      "2025-04-19 23:00:18,888 - INFO - Downloaded logs_rqnoak21:v0 to /scratch/downloaded_artifacts/logs_rqnoak21:v0\n"
     ]
    },
    {
     "name": "stderr",
     "output_type": "stream",
     "text": [
      "\u001b[34m\u001b[1mwandb\u001b[0m:   1 of 1 files downloaded.  \n"
     ]
    },
    {
     "name": "stdout",
     "output_type": "stream",
     "text": [
      "2025-04-19 23:00:18,937 - INFO - Downloaded logs_0xhr1hsy:v0 to /scratch/downloaded_artifacts/logs_0xhr1hsy:v0\n"
     ]
    },
    {
     "name": "stderr",
     "output_type": "stream",
     "text": [
      "\u001b[34m\u001b[1mwandb\u001b[0m:   1 of 1 files downloaded.  \n"
     ]
    },
    {
     "name": "stdout",
     "output_type": "stream",
     "text": [
      "2025-04-19 23:00:19,106 - INFO - Downloaded logs_52bkx28c:v0 to /scratch/downloaded_artifacts/logs_52bkx28c:v0\n"
     ]
    },
    {
     "name": "stderr",
     "output_type": "stream",
     "text": [
      "\u001b[34m\u001b[1mwandb\u001b[0m:   1 of 1 files downloaded.  \n"
     ]
    },
    {
     "name": "stdout",
     "output_type": "stream",
     "text": [
      "2025-04-19 23:00:19,128 - INFO - Downloaded logs_sxcwif75:v0 to /scratch/downloaded_artifacts/logs_sxcwif75:v0\n"
     ]
    },
    {
     "name": "stderr",
     "output_type": "stream",
     "text": [
      "\u001b[34m\u001b[1mwandb\u001b[0m:   1 of 1 files downloaded.  \n"
     ]
    },
    {
     "name": "stdout",
     "output_type": "stream",
     "text": [
      "2025-04-19 23:00:19,141 - INFO - Downloaded logs_3f06n7e6:v0 to /scratch/downloaded_artifacts/logs_3f06n7e6:v0\n"
     ]
    },
    {
     "name": "stderr",
     "output_type": "stream",
     "text": [
      "\u001b[34m\u001b[1mwandb\u001b[0m:   1 of 1 files downloaded.  \n",
      "\u001b[34m\u001b[1mwandb\u001b[0m:   1 of 1 files downloaded.  \n"
     ]
    },
    {
     "name": "stdout",
     "output_type": "stream",
     "text": [
      "2025-04-19 23:00:19,394 - INFO - Downloaded logs_8g6cicdb:v0 to /scratch/downloaded_artifacts/logs_8g6cicdb:v0\n",
      "2025-04-19 23:00:19,394 - INFO - Downloaded logs_cd7vs67g:v0 to /scratch/downloaded_artifacts/logs_cd7vs67g:v0\n"
     ]
    },
    {
     "name": "stderr",
     "output_type": "stream",
     "text": [
      "\u001b[34m\u001b[1mwandb\u001b[0m:   1 of 1 files downloaded.  \n"
     ]
    },
    {
     "name": "stdout",
     "output_type": "stream",
     "text": [
      "2025-04-19 23:00:19,538 - INFO - Downloaded logs_il9c86ep:v0 to /scratch/downloaded_artifacts/logs_il9c86ep:v0\n"
     ]
    },
    {
     "name": "stderr",
     "output_type": "stream",
     "text": [
      "\u001b[34m\u001b[1mwandb\u001b[0m:   1 of 1 files downloaded.  \n"
     ]
    },
    {
     "name": "stdout",
     "output_type": "stream",
     "text": [
      "2025-04-19 23:00:19,771 - INFO - Downloaded logs_jlv4egga:v0 to /scratch/downloaded_artifacts/logs_jlv4egga:v0\n"
     ]
    },
    {
     "name": "stderr",
     "output_type": "stream",
     "text": [
      "\u001b[34m\u001b[1mwandb\u001b[0m:   1 of 1 files downloaded.  \n"
     ]
    },
    {
     "name": "stdout",
     "output_type": "stream",
     "text": [
      "2025-04-19 23:00:20,038 - INFO - Downloaded logs_lbmfprox:v0 to /scratch/downloaded_artifacts/logs_lbmfprox:v0\n"
     ]
    },
    {
     "name": "stderr",
     "output_type": "stream",
     "text": [
      "\u001b[34m\u001b[1mwandb\u001b[0m:   1 of 1 files downloaded.  \n"
     ]
    },
    {
     "name": "stdout",
     "output_type": "stream",
     "text": [
      "2025-04-19 23:00:20,044 - INFO - Downloaded logs_mvehfka9:v0 to /scratch/downloaded_artifacts/logs_mvehfka9:v0\n"
     ]
    },
    {
     "name": "stderr",
     "output_type": "stream",
     "text": [
      "\u001b[34m\u001b[1mwandb\u001b[0m:   1 of 1 files downloaded.  \n"
     ]
    },
    {
     "name": "stdout",
     "output_type": "stream",
     "text": [
      "2025-04-19 23:00:20,069 - INFO - Downloaded logs_jpb6jbjs:v0 to /scratch/downloaded_artifacts/logs_jpb6jbjs:v0\n"
     ]
    },
    {
     "name": "stderr",
     "output_type": "stream",
     "text": [
      "\u001b[34m\u001b[1mwandb\u001b[0m:   1 of 1 files downloaded.  \n"
     ]
    },
    {
     "name": "stdout",
     "output_type": "stream",
     "text": [
      "2025-04-19 23:00:20,168 - INFO - Downloaded logs_ribzki2f:v0 to /scratch/downloaded_artifacts/logs_ribzki2f:v0\n"
     ]
    },
    {
     "name": "stderr",
     "output_type": "stream",
     "text": [
      "\u001b[34m\u001b[1mwandb\u001b[0m:   1 of 1 files downloaded.  \n"
     ]
    },
    {
     "name": "stdout",
     "output_type": "stream",
     "text": [
      "2025-04-19 23:00:20,191 - INFO - Downloaded logs_4nvuzx1b:v0 to /scratch/downloaded_artifacts/logs_4nvuzx1b:v0\n"
     ]
    },
    {
     "name": "stderr",
     "output_type": "stream",
     "text": [
      "\u001b[34m\u001b[1mwandb\u001b[0m:   1 of 1 files downloaded.  \n"
     ]
    },
    {
     "name": "stdout",
     "output_type": "stream",
     "text": [
      "2025-04-19 23:00:20,318 - INFO - Downloaded logs_n2cddc8n:v0 to /scratch/downloaded_artifacts/logs_n2cddc8n:v0\n"
     ]
    },
    {
     "name": "stderr",
     "output_type": "stream",
     "text": [
      "\u001b[34m\u001b[1mwandb\u001b[0m:   1 of 1 files downloaded.  \n"
     ]
    },
    {
     "name": "stdout",
     "output_type": "stream",
     "text": [
      "2025-04-19 23:00:20,324 - INFO - Downloaded logs_1k63uk7t:v0 to /scratch/downloaded_artifacts/logs_1k63uk7t:v0\n"
     ]
    },
    {
     "name": "stderr",
     "output_type": "stream",
     "text": [
      "\u001b[34m\u001b[1mwandb\u001b[0m:   1 of 1 files downloaded.  \n"
     ]
    },
    {
     "name": "stdout",
     "output_type": "stream",
     "text": [
      "2025-04-19 23:00:20,382 - INFO - Downloaded logs_9pffl0cd:v0 to /scratch/downloaded_artifacts/logs_9pffl0cd:v0\n"
     ]
    },
    {
     "name": "stderr",
     "output_type": "stream",
     "text": [
      "\u001b[34m\u001b[1mwandb\u001b[0m:   1 of 1 files downloaded.  \n"
     ]
    },
    {
     "name": "stdout",
     "output_type": "stream",
     "text": [
      "2025-04-19 23:00:20,476 - INFO - Downloaded logs_dgxc62r2:v0 to /scratch/downloaded_artifacts/logs_dgxc62r2:v0\n"
     ]
    },
    {
     "name": "stderr",
     "output_type": "stream",
     "text": [
      "\u001b[34m\u001b[1mwandb\u001b[0m:   1 of 1 files downloaded.  \n"
     ]
    },
    {
     "name": "stdout",
     "output_type": "stream",
     "text": [
      "2025-04-19 23:00:20,605 - INFO - Downloaded logs_ac09w2ad:v0 to /scratch/downloaded_artifacts/logs_ac09w2ad:v0\n"
     ]
    },
    {
     "name": "stderr",
     "output_type": "stream",
     "text": [
      "\u001b[34m\u001b[1mwandb\u001b[0m:   1 of 1 files downloaded.  \n"
     ]
    },
    {
     "name": "stdout",
     "output_type": "stream",
     "text": [
      "2025-04-19 23:00:20,687 - INFO - Downloaded logs_eg2h99zv:v0 to /scratch/downloaded_artifacts/logs_eg2h99zv:v0\n"
     ]
    },
    {
     "name": "stderr",
     "output_type": "stream",
     "text": [
      "\u001b[34m\u001b[1mwandb\u001b[0m:   1 of 1 files downloaded.  \n"
     ]
    },
    {
     "name": "stdout",
     "output_type": "stream",
     "text": [
      "2025-04-19 23:00:20,791 - INFO - Downloaded logs_nksbqjhg:v0 to /scratch/downloaded_artifacts/logs_nksbqjhg:v0\n"
     ]
    },
    {
     "name": "stderr",
     "output_type": "stream",
     "text": [
      "\u001b[34m\u001b[1mwandb\u001b[0m:   1 of 1 files downloaded.  \n"
     ]
    },
    {
     "name": "stdout",
     "output_type": "stream",
     "text": [
      "2025-04-19 23:00:20,878 - INFO - Downloaded logs_ur2nnnt0:v0 to /scratch/downloaded_artifacts/logs_ur2nnnt0:v0\n"
     ]
    },
    {
     "name": "stderr",
     "output_type": "stream",
     "text": [
      "\u001b[34m\u001b[1mwandb\u001b[0m:   1 of 1 files downloaded.  \n"
     ]
    },
    {
     "name": "stdout",
     "output_type": "stream",
     "text": [
      "2025-04-19 23:00:20,962 - INFO - Downloaded logs_1tzd2cb8:v0 to /scratch/downloaded_artifacts/logs_1tzd2cb8:v0\n"
     ]
    },
    {
     "name": "stderr",
     "output_type": "stream",
     "text": [
      "\u001b[34m\u001b[1mwandb\u001b[0m:   1 of 1 files downloaded.  \n"
     ]
    },
    {
     "name": "stdout",
     "output_type": "stream",
     "text": [
      "2025-04-19 23:00:21,118 - INFO - Downloaded logs_28bvdgms:v0 to /scratch/downloaded_artifacts/logs_28bvdgms:v0\n"
     ]
    },
    {
     "name": "stderr",
     "output_type": "stream",
     "text": [
      "\u001b[34m\u001b[1mwandb\u001b[0m:   1 of 1 files downloaded.  \n"
     ]
    },
    {
     "name": "stdout",
     "output_type": "stream",
     "text": [
      "2025-04-19 23:00:21,160 - INFO - Downloaded logs_1590wgg0:v0 to /scratch/downloaded_artifacts/logs_1590wgg0:v0\n"
     ]
    },
    {
     "name": "stderr",
     "output_type": "stream",
     "text": [
      "\u001b[34m\u001b[1mwandb\u001b[0m:   1 of 1 files downloaded.  \n"
     ]
    },
    {
     "name": "stdout",
     "output_type": "stream",
     "text": [
      "2025-04-19 23:00:21,174 - INFO - Downloaded logs_2c1amuek:v0 to /scratch/downloaded_artifacts/logs_2c1amuek:v0\n"
     ]
    },
    {
     "name": "stderr",
     "output_type": "stream",
     "text": [
      "\u001b[34m\u001b[1mwandb\u001b[0m:   1 of 1 files downloaded.  \n"
     ]
    },
    {
     "name": "stdout",
     "output_type": "stream",
     "text": [
      "2025-04-19 23:00:21,184 - INFO - Downloaded logs_ezkkycld:v0 to /scratch/downloaded_artifacts/logs_ezkkycld:v0\n"
     ]
    },
    {
     "name": "stderr",
     "output_type": "stream",
     "text": [
      "\u001b[34m\u001b[1mwandb\u001b[0m:   1 of 1 files downloaded.  \n"
     ]
    },
    {
     "name": "stdout",
     "output_type": "stream",
     "text": [
      "2025-04-19 23:00:21,243 - INFO - Downloaded logs_9b2rm9j6:v0 to /scratch/downloaded_artifacts/logs_9b2rm9j6:v0\n"
     ]
    },
    {
     "name": "stderr",
     "output_type": "stream",
     "text": [
      "\u001b[34m\u001b[1mwandb\u001b[0m:   1 of 1 files downloaded.  \n"
     ]
    },
    {
     "name": "stdout",
     "output_type": "stream",
     "text": [
      "2025-04-19 23:00:22,027 - INFO - Downloaded logs_f6hswope:v0 to /scratch/downloaded_artifacts/logs_f6hswope:v0\n"
     ]
    },
    {
     "name": "stderr",
     "output_type": "stream",
     "text": [
      "\u001b[34m\u001b[1mwandb\u001b[0m:   1 of 1 files downloaded.  \n"
     ]
    },
    {
     "name": "stdout",
     "output_type": "stream",
     "text": [
      "2025-04-19 23:00:22,189 - INFO - Downloaded logs_mnxediuh:v0 to /scratch/downloaded_artifacts/logs_mnxediuh:v0\n"
     ]
    },
    {
     "name": "stderr",
     "output_type": "stream",
     "text": [
      "\u001b[34m\u001b[1mwandb\u001b[0m:   1 of 1 files downloaded.  \n"
     ]
    },
    {
     "name": "stdout",
     "output_type": "stream",
     "text": [
      "2025-04-19 23:00:22,285 - INFO - Downloaded logs_n8926vq8:v0 to /scratch/downloaded_artifacts/logs_n8926vq8:v0\n"
     ]
    },
    {
     "name": "stderr",
     "output_type": "stream",
     "text": [
      "\u001b[34m\u001b[1mwandb\u001b[0m:   1 of 1 files downloaded.  \n"
     ]
    },
    {
     "name": "stdout",
     "output_type": "stream",
     "text": [
      "2025-04-19 23:00:22,362 - INFO - Downloaded logs_wekrwg7n:v0 to /scratch/downloaded_artifacts/logs_wekrwg7n:v0\n"
     ]
    },
    {
     "name": "stderr",
     "output_type": "stream",
     "text": [
      "\u001b[34m\u001b[1mwandb\u001b[0m:   1 of 1 files downloaded.  \n"
     ]
    },
    {
     "name": "stdout",
     "output_type": "stream",
     "text": [
      "2025-04-19 23:00:22,528 - INFO - Downloaded logs_s4em4h8p:v0 to /scratch/downloaded_artifacts/logs_s4em4h8p:v0\n"
     ]
    },
    {
     "name": "stderr",
     "output_type": "stream",
     "text": [
      "\u001b[34m\u001b[1mwandb\u001b[0m:   1 of 1 files downloaded.  \n"
     ]
    },
    {
     "name": "stdout",
     "output_type": "stream",
     "text": [
      "2025-04-19 23:00:22,582 - INFO - Downloaded logs_hejxouhs:v0 to /scratch/downloaded_artifacts/logs_hejxouhs:v0\n"
     ]
    },
    {
     "name": "stderr",
     "output_type": "stream",
     "text": [
      "\u001b[34m\u001b[1mwandb\u001b[0m:   1 of 1 files downloaded.  \n",
      "\u001b[34m\u001b[1mwandb\u001b[0m:   1 of 1 files downloaded.  \n"
     ]
    },
    {
     "name": "stdout",
     "output_type": "stream",
     "text": [
      "2025-04-19 23:00:22,804 - INFO - Downloaded logs_1t9p8mgy:v0 to /scratch/downloaded_artifacts/logs_1t9p8mgy:v0\n",
      "2025-04-19 23:00:22,806 - INFO - Downloaded logs_58bna7nq:v0 to /scratch/downloaded_artifacts/logs_58bna7nq:v0\n"
     ]
    },
    {
     "name": "stderr",
     "output_type": "stream",
     "text": [
      "\u001b[34m\u001b[1mwandb\u001b[0m:   1 of 1 files downloaded.  \n"
     ]
    },
    {
     "name": "stdout",
     "output_type": "stream",
     "text": [
      "2025-04-19 23:00:22,844 - INFO - Downloaded logs_7a2ze8kg:v0 to /scratch/downloaded_artifacts/logs_7a2ze8kg:v0\n"
     ]
    },
    {
     "name": "stderr",
     "output_type": "stream",
     "text": [
      "\u001b[34m\u001b[1mwandb\u001b[0m:   1 of 1 files downloaded.  \n"
     ]
    },
    {
     "name": "stdout",
     "output_type": "stream",
     "text": [
      "2025-04-19 23:00:22,928 - INFO - Downloaded logs_c3aroixz:v0 to /scratch/downloaded_artifacts/logs_c3aroixz:v0\n"
     ]
    },
    {
     "name": "stderr",
     "output_type": "stream",
     "text": [
      "\u001b[34m\u001b[1mwandb\u001b[0m:   1 of 1 files downloaded.  \n"
     ]
    },
    {
     "name": "stdout",
     "output_type": "stream",
     "text": [
      "2025-04-19 23:00:23,072 - INFO - Downloaded logs_ieqxtz5u:v0 to /scratch/downloaded_artifacts/logs_ieqxtz5u:v0\n"
     ]
    },
    {
     "name": "stderr",
     "output_type": "stream",
     "text": [
      "\u001b[34m\u001b[1mwandb\u001b[0m:   1 of 1 files downloaded.  \n"
     ]
    },
    {
     "name": "stdout",
     "output_type": "stream",
     "text": [
      "2025-04-19 23:00:23,090 - INFO - Downloaded logs_f8gulc0l:v0 to /scratch/downloaded_artifacts/logs_f8gulc0l:v0\n"
     ]
    },
    {
     "name": "stderr",
     "output_type": "stream",
     "text": [
      "\u001b[34m\u001b[1mwandb\u001b[0m:   1 of 1 files downloaded.  \n"
     ]
    },
    {
     "name": "stdout",
     "output_type": "stream",
     "text": [
      "2025-04-19 23:00:23,105 - INFO - Downloaded logs_b43x437z:v0 to /scratch/downloaded_artifacts/logs_b43x437z:v0\n"
     ]
    },
    {
     "name": "stderr",
     "output_type": "stream",
     "text": [
      "\u001b[34m\u001b[1mwandb\u001b[0m:   1 of 1 files downloaded.  \n"
     ]
    },
    {
     "name": "stdout",
     "output_type": "stream",
     "text": [
      "2025-04-19 23:00:23,119 - INFO - Downloaded logs_sx8aqepa:v0 to /scratch/downloaded_artifacts/logs_sx8aqepa:v0\n"
     ]
    },
    {
     "name": "stderr",
     "output_type": "stream",
     "text": [
      "\u001b[34m\u001b[1mwandb\u001b[0m:   1 of 1 files downloaded.  \n"
     ]
    },
    {
     "name": "stdout",
     "output_type": "stream",
     "text": [
      "2025-04-19 23:00:23,148 - INFO - Downloaded logs_na1deyvp:v0 to /scratch/downloaded_artifacts/logs_na1deyvp:v0\n"
     ]
    },
    {
     "name": "stderr",
     "output_type": "stream",
     "text": [
      "\u001b[34m\u001b[1mwandb\u001b[0m:   1 of 1 files downloaded.  \n"
     ]
    },
    {
     "name": "stdout",
     "output_type": "stream",
     "text": [
      "2025-04-19 23:00:23,349 - INFO - Downloaded logs_ufddbibr:v0 to /scratch/downloaded_artifacts/logs_ufddbibr:v0\n"
     ]
    },
    {
     "name": "stderr",
     "output_type": "stream",
     "text": [
      "\u001b[34m\u001b[1mwandb\u001b[0m:   1 of 1 files downloaded.  \n"
     ]
    },
    {
     "name": "stdout",
     "output_type": "stream",
     "text": [
      "2025-04-19 23:00:23,507 - INFO - Downloaded logs_5ihy9vlg:v0 to /scratch/downloaded_artifacts/logs_5ihy9vlg:v0\n"
     ]
    },
    {
     "name": "stderr",
     "output_type": "stream",
     "text": [
      "\u001b[34m\u001b[1mwandb\u001b[0m:   1 of 1 files downloaded.  \n"
     ]
    },
    {
     "name": "stdout",
     "output_type": "stream",
     "text": [
      "2025-04-19 23:00:23,531 - INFO - Downloaded logs_2uwuc49v:v0 to /scratch/downloaded_artifacts/logs_2uwuc49v:v0\n"
     ]
    },
    {
     "name": "stderr",
     "output_type": "stream",
     "text": [
      "\u001b[34m\u001b[1mwandb\u001b[0m:   1 of 1 files downloaded.  \n"
     ]
    },
    {
     "name": "stdout",
     "output_type": "stream",
     "text": [
      "2025-04-19 23:00:23,567 - INFO - Downloaded logs_ujhbks6p:v0 to /scratch/downloaded_artifacts/logs_ujhbks6p:v0\n"
     ]
    },
    {
     "name": "stderr",
     "output_type": "stream",
     "text": [
      "\u001b[34m\u001b[1mwandb\u001b[0m:   1 of 1 files downloaded.  \n"
     ]
    },
    {
     "name": "stdout",
     "output_type": "stream",
     "text": [
      "2025-04-19 23:00:23,716 - INFO - Downloaded logs_5hjmqf39:v0 to /scratch/downloaded_artifacts/logs_5hjmqf39:v0\n"
     ]
    },
    {
     "name": "stderr",
     "output_type": "stream",
     "text": [
      "\u001b[34m\u001b[1mwandb\u001b[0m:   1 of 1 files downloaded.  \n"
     ]
    },
    {
     "name": "stdout",
     "output_type": "stream",
     "text": [
      "2025-04-19 23:00:23,752 - INFO - Downloaded logs_6az1ruig:v0 to /scratch/downloaded_artifacts/logs_6az1ruig:v0\n"
     ]
    },
    {
     "name": "stderr",
     "output_type": "stream",
     "text": [
      "\u001b[34m\u001b[1mwandb\u001b[0m:   1 of 1 files downloaded.  \n"
     ]
    },
    {
     "name": "stdout",
     "output_type": "stream",
     "text": [
      "2025-04-19 23:00:23,967 - INFO - Downloaded logs_g0idzla7:v0 to /scratch/downloaded_artifacts/logs_g0idzla7:v0\n"
     ]
    },
    {
     "name": "stderr",
     "output_type": "stream",
     "text": [
      "\u001b[34m\u001b[1mwandb\u001b[0m:   1 of 1 files downloaded.  \n"
     ]
    },
    {
     "name": "stdout",
     "output_type": "stream",
     "text": [
      "2025-04-19 23:00:24,043 - INFO - Downloaded logs_yvgz8kmj:v0 to /scratch/downloaded_artifacts/logs_yvgz8kmj:v0\n"
     ]
    },
    {
     "name": "stderr",
     "output_type": "stream",
     "text": [
      "\u001b[34m\u001b[1mwandb\u001b[0m:   1 of 1 files downloaded.  \n"
     ]
    },
    {
     "name": "stdout",
     "output_type": "stream",
     "text": [
      "2025-04-19 23:00:24,109 - INFO - Downloaded logs_2scxsn4d:v0 to /scratch/downloaded_artifacts/logs_2scxsn4d:v0\n"
     ]
    },
    {
     "name": "stderr",
     "output_type": "stream",
     "text": [
      "\u001b[34m\u001b[1mwandb\u001b[0m:   1 of 1 files downloaded.  \n"
     ]
    },
    {
     "name": "stdout",
     "output_type": "stream",
     "text": [
      "2025-04-19 23:00:24,288 - INFO - Downloaded logs_z89ymdct:v0 to /scratch/downloaded_artifacts/logs_z89ymdct:v0\n"
     ]
    },
    {
     "name": "stderr",
     "output_type": "stream",
     "text": [
      "\u001b[34m\u001b[1mwandb\u001b[0m:   1 of 1 files downloaded.  \n"
     ]
    },
    {
     "name": "stdout",
     "output_type": "stream",
     "text": [
      "2025-04-19 23:00:24,359 - INFO - Downloaded logs_zq5po9xs:v0 to /scratch/downloaded_artifacts/logs_zq5po9xs:v0\n"
     ]
    },
    {
     "name": "stderr",
     "output_type": "stream",
     "text": [
      "\u001b[34m\u001b[1mwandb\u001b[0m:   1 of 1 files downloaded.  \n"
     ]
    },
    {
     "name": "stdout",
     "output_type": "stream",
     "text": [
      "2025-04-19 23:00:24,605 - INFO - Downloaded logs_46va93g5:v0 to /scratch/downloaded_artifacts/logs_46va93g5:v0\n"
     ]
    },
    {
     "name": "stderr",
     "output_type": "stream",
     "text": [
      "\u001b[34m\u001b[1mwandb\u001b[0m:   1 of 1 files downloaded.  \n"
     ]
    },
    {
     "name": "stdout",
     "output_type": "stream",
     "text": [
      "2025-04-19 23:00:24,628 - INFO - Downloaded logs_4l4jeedx:v0 to /scratch/downloaded_artifacts/logs_4l4jeedx:v0\n"
     ]
    },
    {
     "name": "stderr",
     "output_type": "stream",
     "text": [
      "\u001b[34m\u001b[1mwandb\u001b[0m:   1 of 1 files downloaded.  \n"
     ]
    },
    {
     "name": "stdout",
     "output_type": "stream",
     "text": [
      "2025-04-19 23:00:24,708 - INFO - Downloaded logs_6wu6b49j:v0 to /scratch/downloaded_artifacts/logs_6wu6b49j:v0\n"
     ]
    },
    {
     "name": "stderr",
     "output_type": "stream",
     "text": [
      "\u001b[34m\u001b[1mwandb\u001b[0m:   1 of 1 files downloaded.  \n"
     ]
    },
    {
     "name": "stdout",
     "output_type": "stream",
     "text": [
      "2025-04-19 23:00:24,799 - INFO - Downloaded logs_ayolzpoi:v0 to /scratch/downloaded_artifacts/logs_ayolzpoi:v0\n"
     ]
    },
    {
     "name": "stderr",
     "output_type": "stream",
     "text": [
      "\u001b[34m\u001b[1mwandb\u001b[0m:   1 of 1 files downloaded.  \n"
     ]
    },
    {
     "name": "stdout",
     "output_type": "stream",
     "text": [
      "2025-04-19 23:00:24,944 - INFO - Downloaded logs_em4gq5vo:v0 to /scratch/downloaded_artifacts/logs_em4gq5vo:v0\n"
     ]
    },
    {
     "name": "stderr",
     "output_type": "stream",
     "text": [
      "\u001b[34m\u001b[1mwandb\u001b[0m:   1 of 1 files downloaded.  \n"
     ]
    },
    {
     "name": "stdout",
     "output_type": "stream",
     "text": [
      "2025-04-19 23:00:25,119 - INFO - Downloaded logs_efcg4rr3:v0 to /scratch/downloaded_artifacts/logs_efcg4rr3:v0\n"
     ]
    },
    {
     "name": "stderr",
     "output_type": "stream",
     "text": [
      "\u001b[34m\u001b[1mwandb\u001b[0m:   1 of 1 files downloaded.  \n"
     ]
    },
    {
     "name": "stdout",
     "output_type": "stream",
     "text": [
      "2025-04-19 23:00:25,129 - INFO - Downloaded logs_bwdq5jkx:v0 to /scratch/downloaded_artifacts/logs_bwdq5jkx:v0\n"
     ]
    },
    {
     "name": "stderr",
     "output_type": "stream",
     "text": [
      "\u001b[34m\u001b[1mwandb\u001b[0m:   1 of 1 files downloaded.  \n"
     ]
    },
    {
     "name": "stdout",
     "output_type": "stream",
     "text": [
      "2025-04-19 23:00:25,162 - INFO - Downloaded logs_itj0e2jn:v0 to /scratch/downloaded_artifacts/logs_itj0e2jn:v0\n"
     ]
    },
    {
     "name": "stderr",
     "output_type": "stream",
     "text": [
      "\u001b[34m\u001b[1mwandb\u001b[0m:   1 of 1 files downloaded.  \n",
      "\u001b[34m\u001b[1mwandb\u001b[0m:   1 of 1 files downloaded.  \n"
     ]
    },
    {
     "name": "stdout",
     "output_type": "stream",
     "text": [
      "2025-04-19 23:00:25,208 - INFO - Downloaded logs_j54l5ls9:v0 to /scratch/downloaded_artifacts/logs_j54l5ls9:v0\n",
      "2025-04-19 23:00:25,214 - INFO - Downloaded logs_2rz3rb6u:v0 to /scratch/downloaded_artifacts/logs_2rz3rb6u:v0\n"
     ]
    },
    {
     "name": "stderr",
     "output_type": "stream",
     "text": [
      "\u001b[34m\u001b[1mwandb\u001b[0m:   1 of 1 files downloaded.  \n"
     ]
    },
    {
     "name": "stdout",
     "output_type": "stream",
     "text": [
      "2025-04-19 23:00:25,397 - INFO - Downloaded logs_6kreen84:v0 to /scratch/downloaded_artifacts/logs_6kreen84:v0\n"
     ]
    },
    {
     "name": "stderr",
     "output_type": "stream",
     "text": [
      "\u001b[34m\u001b[1mwandb\u001b[0m:   1 of 1 files downloaded.  \n"
     ]
    },
    {
     "name": "stdout",
     "output_type": "stream",
     "text": [
      "2025-04-19 23:00:25,445 - INFO - Downloaded logs_e8xjo1gv:v0 to /scratch/downloaded_artifacts/logs_e8xjo1gv:v0\n"
     ]
    },
    {
     "name": "stderr",
     "output_type": "stream",
     "text": [
      "\u001b[34m\u001b[1mwandb\u001b[0m:   1 of 1 files downloaded.  \n"
     ]
    },
    {
     "name": "stdout",
     "output_type": "stream",
     "text": [
      "2025-04-19 23:00:25,669 - INFO - Downloaded logs_m7rim940:v0 to /scratch/downloaded_artifacts/logs_m7rim940:v0\n"
     ]
    },
    {
     "name": "stderr",
     "output_type": "stream",
     "text": [
      "\u001b[34m\u001b[1mwandb\u001b[0m:   1 of 1 files downloaded.  \n"
     ]
    },
    {
     "name": "stdout",
     "output_type": "stream",
     "text": [
      "2025-04-19 23:00:25,798 - INFO - Downloaded logs_m301t7o7:v0 to /scratch/downloaded_artifacts/logs_m301t7o7:v0\n"
     ]
    },
    {
     "name": "stderr",
     "output_type": "stream",
     "text": [
      "\u001b[34m\u001b[1mwandb\u001b[0m:   1 of 1 files downloaded.  \n"
     ]
    },
    {
     "name": "stdout",
     "output_type": "stream",
     "text": [
      "2025-04-19 23:00:25,806 - INFO - Downloaded logs_p53ge71t:v0 to /scratch/downloaded_artifacts/logs_p53ge71t:v0\n"
     ]
    },
    {
     "name": "stderr",
     "output_type": "stream",
     "text": [
      "\u001b[34m\u001b[1mwandb\u001b[0m:   1 of 1 files downloaded.  \n"
     ]
    },
    {
     "name": "stdout",
     "output_type": "stream",
     "text": [
      "2025-04-19 23:00:25,856 - INFO - Downloaded logs_xxb4xfbl:v0 to /scratch/downloaded_artifacts/logs_xxb4xfbl:v0\n"
     ]
    },
    {
     "name": "stderr",
     "output_type": "stream",
     "text": [
      "\u001b[34m\u001b[1mwandb\u001b[0m:   1 of 1 files downloaded.  \n"
     ]
    },
    {
     "name": "stdout",
     "output_type": "stream",
     "text": [
      "2025-04-19 23:00:25,945 - INFO - Downloaded logs_rxqgqpls:v0 to /scratch/downloaded_artifacts/logs_rxqgqpls:v0\n"
     ]
    },
    {
     "name": "stderr",
     "output_type": "stream",
     "text": [
      "\u001b[34m\u001b[1mwandb\u001b[0m:   1 of 1 files downloaded.  \n"
     ]
    },
    {
     "name": "stdout",
     "output_type": "stream",
     "text": [
      "2025-04-19 23:00:25,967 - INFO - Downloaded logs_0ia0s196:v0 to /scratch/downloaded_artifacts/logs_0ia0s196:v0\n"
     ]
    },
    {
     "name": "stderr",
     "output_type": "stream",
     "text": [
      "\u001b[34m\u001b[1mwandb\u001b[0m:   1 of 1 files downloaded.  \n"
     ]
    },
    {
     "name": "stdout",
     "output_type": "stream",
     "text": [
      "2025-04-19 23:00:26,075 - INFO - Downloaded logs_trh2qpe6:v0 to /scratch/downloaded_artifacts/logs_trh2qpe6:v0\n"
     ]
    },
    {
     "name": "stderr",
     "output_type": "stream",
     "text": [
      "\u001b[34m\u001b[1mwandb\u001b[0m:   1 of 1 files downloaded.  \n"
     ]
    },
    {
     "name": "stdout",
     "output_type": "stream",
     "text": [
      "2025-04-19 23:00:26,124 - INFO - Downloaded logs_0klnapo2:v0 to /scratch/downloaded_artifacts/logs_0klnapo2:v0\n"
     ]
    },
    {
     "name": "stderr",
     "output_type": "stream",
     "text": [
      "\u001b[34m\u001b[1mwandb\u001b[0m:   1 of 1 files downloaded.  \n"
     ]
    },
    {
     "name": "stdout",
     "output_type": "stream",
     "text": [
      "2025-04-19 23:00:26,479 - INFO - Downloaded logs_97n9ld3g:v0 to /scratch/downloaded_artifacts/logs_97n9ld3g:v0\n"
     ]
    },
    {
     "name": "stderr",
     "output_type": "stream",
     "text": [
      "\u001b[34m\u001b[1mwandb\u001b[0m:   1 of 1 files downloaded.  \n"
     ]
    },
    {
     "name": "stdout",
     "output_type": "stream",
     "text": [
      "2025-04-19 23:00:26,516 - INFO - Downloaded logs_1v4vhi4w:v0 to /scratch/downloaded_artifacts/logs_1v4vhi4w:v0\n"
     ]
    },
    {
     "name": "stderr",
     "output_type": "stream",
     "text": [
      "\u001b[34m\u001b[1mwandb\u001b[0m:   1 of 1 files downloaded.  \n"
     ]
    },
    {
     "name": "stdout",
     "output_type": "stream",
     "text": [
      "2025-04-19 23:00:26,628 - INFO - Downloaded logs_gd016kiz:v0 to /scratch/downloaded_artifacts/logs_gd016kiz:v0\n"
     ]
    },
    {
     "name": "stderr",
     "output_type": "stream",
     "text": [
      "\u001b[34m\u001b[1mwandb\u001b[0m:   1 of 1 files downloaded.  \n",
      "\u001b[34m\u001b[1mwandb\u001b[0m:   1 of 1 files downloaded.  \n"
     ]
    },
    {
     "name": "stdout",
     "output_type": "stream",
     "text": [
      "2025-04-19 23:00:26,714 - INFO - Downloaded logs_jpa4io4o:v0 to /scratch/downloaded_artifacts/logs_jpa4io4o:v0\n",
      "2025-04-19 23:00:26,717 - INFO - Downloaded logs_oqsmd31c:v0 to /scratch/downloaded_artifacts/logs_oqsmd31c:v0\n"
     ]
    },
    {
     "name": "stderr",
     "output_type": "stream",
     "text": [
      "\u001b[34m\u001b[1mwandb\u001b[0m:   1 of 1 files downloaded.  \n"
     ]
    },
    {
     "name": "stdout",
     "output_type": "stream",
     "text": [
      "2025-04-19 23:00:26,893 - INFO - Downloaded logs_stqy5lp1:v0 to /scratch/downloaded_artifacts/logs_stqy5lp1:v0\n"
     ]
    },
    {
     "name": "stderr",
     "output_type": "stream",
     "text": [
      "\u001b[34m\u001b[1mwandb\u001b[0m:   1 of 1 files downloaded.  \n"
     ]
    },
    {
     "name": "stdout",
     "output_type": "stream",
     "text": [
      "2025-04-19 23:00:26,974 - INFO - Downloaded logs_vb2l2zu1:v0 to /scratch/downloaded_artifacts/logs_vb2l2zu1:v0\n"
     ]
    },
    {
     "name": "stderr",
     "output_type": "stream",
     "text": [
      "\u001b[34m\u001b[1mwandb\u001b[0m:   1 of 1 files downloaded.  \n"
     ]
    },
    {
     "name": "stdout",
     "output_type": "stream",
     "text": [
      "2025-04-19 23:00:26,978 - INFO - Downloaded logs_2lpe8hkx:v0 to /scratch/downloaded_artifacts/logs_2lpe8hkx:v0\n"
     ]
    },
    {
     "name": "stderr",
     "output_type": "stream",
     "text": [
      "\u001b[34m\u001b[1mwandb\u001b[0m:   1 of 1 files downloaded.  \n"
     ]
    },
    {
     "name": "stdout",
     "output_type": "stream",
     "text": [
      "2025-04-19 23:00:27,061 - INFO - Downloaded logs_vk7jcj76:v0 to /scratch/downloaded_artifacts/logs_vk7jcj76:v0\n"
     ]
    },
    {
     "name": "stderr",
     "output_type": "stream",
     "text": [
      "\u001b[34m\u001b[1mwandb\u001b[0m:   1 of 1 files downloaded.  \n"
     ]
    },
    {
     "name": "stdout",
     "output_type": "stream",
     "text": [
      "2025-04-19 23:00:27,252 - INFO - Downloaded logs_9n0el4hb:v0 to /scratch/downloaded_artifacts/logs_9n0el4hb:v0\n"
     ]
    },
    {
     "name": "stderr",
     "output_type": "stream",
     "text": [
      "\u001b[34m\u001b[1mwandb\u001b[0m:   1 of 1 files downloaded.  \n"
     ]
    },
    {
     "name": "stdout",
     "output_type": "stream",
     "text": [
      "2025-04-19 23:00:27,343 - INFO - Downloaded logs_w53cbb7g:v0 to /scratch/downloaded_artifacts/logs_w53cbb7g:v0\n"
     ]
    },
    {
     "name": "stderr",
     "output_type": "stream",
     "text": [
      "\u001b[34m\u001b[1mwandb\u001b[0m:   1 of 1 files downloaded.  \n"
     ]
    },
    {
     "name": "stdout",
     "output_type": "stream",
     "text": [
      "2025-04-19 23:00:27,388 - INFO - Downloaded logs_5ka2ywp0:v0 to /scratch/downloaded_artifacts/logs_5ka2ywp0:v0\n"
     ]
    },
    {
     "name": "stderr",
     "output_type": "stream",
     "text": [
      "\u001b[34m\u001b[1mwandb\u001b[0m: \u001b[32m\u001b[41mERROR\u001b[0m Error while calling W&B API: rate limit exceeded (<Response [429]>)\n",
      "\u001b[34m\u001b[1mwandb\u001b[0m: \u001b[32m\u001b[41mERROR\u001b[0m Error while calling W&B API: rate limit exceeded (<Response [429]>)\n",
      "\u001b[34m\u001b[1mwandb\u001b[0m:   1 of 1 files downloaded.  \n"
     ]
    },
    {
     "name": "stdout",
     "output_type": "stream",
     "text": [
      "2025-04-19 23:00:27,557 - INFO - Downloaded logs_b2e3hu3n:v0 to /scratch/downloaded_artifacts/logs_b2e3hu3n:v0\n"
     ]
    },
    {
     "name": "stderr",
     "output_type": "stream",
     "text": [
      "\u001b[34m\u001b[1mwandb\u001b[0m:   1 of 1 files downloaded.  \n"
     ]
    },
    {
     "name": "stdout",
     "output_type": "stream",
     "text": [
      "2025-04-19 23:00:27,602 - INFO - Downloaded logs_g3vz4in7:v0 to /scratch/downloaded_artifacts/logs_g3vz4in7:v0\n"
     ]
    },
    {
     "name": "stderr",
     "output_type": "stream",
     "text": [
      "\u001b[34m\u001b[1mwandb\u001b[0m:   1 of 1 files downloaded.  \n"
     ]
    },
    {
     "name": "stdout",
     "output_type": "stream",
     "text": [
      "2025-04-19 23:00:27,642 - INFO - Downloaded logs_dfvl0n4r:v0 to /scratch/downloaded_artifacts/logs_dfvl0n4r:v0\n"
     ]
    },
    {
     "name": "stderr",
     "output_type": "stream",
     "text": [
      "\u001b[34m\u001b[1mwandb\u001b[0m:   1 of 1 files downloaded.  \n"
     ]
    },
    {
     "name": "stdout",
     "output_type": "stream",
     "text": [
      "2025-04-19 23:00:27,672 - INFO - Downloaded logs_m2u5y9zl:v0 to /scratch/downloaded_artifacts/logs_m2u5y9zl:v0\n"
     ]
    },
    {
     "name": "stderr",
     "output_type": "stream",
     "text": [
      "\u001b[34m\u001b[1mwandb\u001b[0m: \u001b[32m\u001b[41mERROR\u001b[0m Error while calling W&B API: rate limit exceeded (<Response [429]>)\n",
      "\u001b[34m\u001b[1mwandb\u001b[0m:   1 of 1 files downloaded.  \n"
     ]
    },
    {
     "name": "stdout",
     "output_type": "stream",
     "text": [
      "2025-04-19 23:00:27,734 - INFO - Downloaded logs_02ckyko6:v0 to /scratch/downloaded_artifacts/logs_02ckyko6:v0\n"
     ]
    },
    {
     "name": "stderr",
     "output_type": "stream",
     "text": [
      "\u001b[34m\u001b[1mwandb\u001b[0m:   1 of 1 files downloaded.  \n"
     ]
    },
    {
     "name": "stdout",
     "output_type": "stream",
     "text": [
      "2025-04-19 23:00:27,797 - INFO - Downloaded logs_y1liid4c:v0 to /scratch/downloaded_artifacts/logs_y1liid4c:v0\n"
     ]
    },
    {
     "name": "stderr",
     "output_type": "stream",
     "text": [
      "\u001b[34m\u001b[1mwandb\u001b[0m:   1 of 1 files downloaded.  \n"
     ]
    },
    {
     "name": "stdout",
     "output_type": "stream",
     "text": [
      "2025-04-19 23:00:27,893 - INFO - Downloaded logs_5b9xwap4:v0 to /scratch/downloaded_artifacts/logs_5b9xwap4:v0\n"
     ]
    },
    {
     "name": "stderr",
     "output_type": "stream",
     "text": [
      "\u001b[34m\u001b[1mwandb\u001b[0m:   1 of 1 files downloaded.  \n"
     ]
    },
    {
     "name": "stdout",
     "output_type": "stream",
     "text": [
      "2025-04-19 23:00:28,034 - INFO - Downloaded logs_3tg8608x:v0 to /scratch/downloaded_artifacts/logs_3tg8608x:v0\n"
     ]
    },
    {
     "name": "stderr",
     "output_type": "stream",
     "text": [
      "\u001b[34m\u001b[1mwandb\u001b[0m:   1 of 1 files downloaded.  \n"
     ]
    },
    {
     "name": "stdout",
     "output_type": "stream",
     "text": [
      "2025-04-19 23:00:28,085 - INFO - Downloaded logs_ikgc8m3u:v0 to /scratch/downloaded_artifacts/logs_ikgc8m3u:v0\n"
     ]
    },
    {
     "name": "stderr",
     "output_type": "stream",
     "text": [
      "\u001b[34m\u001b[1mwandb\u001b[0m:   1 of 1 files downloaded.  \n"
     ]
    },
    {
     "name": "stdout",
     "output_type": "stream",
     "text": [
      "2025-04-19 23:00:28,155 - INFO - Downloaded logs_b14zp72q:v0 to /scratch/downloaded_artifacts/logs_b14zp72q:v0\n"
     ]
    },
    {
     "name": "stderr",
     "output_type": "stream",
     "text": [
      "\u001b[34m\u001b[1mwandb\u001b[0m:   1 of 1 files downloaded.  \n"
     ]
    },
    {
     "name": "stdout",
     "output_type": "stream",
     "text": [
      "2025-04-19 23:00:28,180 - INFO - Downloaded logs_pdbgeoh8:v0 to /scratch/downloaded_artifacts/logs_pdbgeoh8:v0\n"
     ]
    },
    {
     "name": "stderr",
     "output_type": "stream",
     "text": [
      "\u001b[34m\u001b[1mwandb\u001b[0m:   1 of 1 files downloaded.  \n"
     ]
    },
    {
     "name": "stdout",
     "output_type": "stream",
     "text": [
      "2025-04-19 23:00:28,186 - INFO - Downloaded logs_mr2e4ykg:v0 to /scratch/downloaded_artifacts/logs_mr2e4ykg:v0\n"
     ]
    },
    {
     "name": "stderr",
     "output_type": "stream",
     "text": [
      "\u001b[34m\u001b[1mwandb\u001b[0m:   1 of 1 files downloaded.  \n"
     ]
    },
    {
     "name": "stdout",
     "output_type": "stream",
     "text": [
      "2025-04-19 23:00:28,212 - INFO - Downloaded logs_lh6r1rfr:v0 to /scratch/downloaded_artifacts/logs_lh6r1rfr:v0\n"
     ]
    },
    {
     "name": "stderr",
     "output_type": "stream",
     "text": [
      "\u001b[34m\u001b[1mwandb\u001b[0m:   1 of 1 files downloaded.  \n"
     ]
    },
    {
     "name": "stdout",
     "output_type": "stream",
     "text": [
      "2025-04-19 23:00:28,284 - INFO - Downloaded logs_tsey92sv:v0 to /scratch/downloaded_artifacts/logs_tsey92sv:v0\n"
     ]
    },
    {
     "name": "stderr",
     "output_type": "stream",
     "text": [
      "\u001b[34m\u001b[1mwandb\u001b[0m:   1 of 1 files downloaded.  \n"
     ]
    },
    {
     "name": "stdout",
     "output_type": "stream",
     "text": [
      "2025-04-19 23:00:28,365 - INFO - Downloaded logs_zvmhwm8p:v0 to /scratch/downloaded_artifacts/logs_zvmhwm8p:v0\n"
     ]
    },
    {
     "name": "stderr",
     "output_type": "stream",
     "text": [
      "\u001b[34m\u001b[1mwandb\u001b[0m:   1 of 1 files downloaded.  \n"
     ]
    },
    {
     "name": "stdout",
     "output_type": "stream",
     "text": [
      "2025-04-19 23:00:28,432 - INFO - Downloaded logs_ypqdn5k8:v0 to /scratch/downloaded_artifacts/logs_ypqdn5k8:v0\n"
     ]
    },
    {
     "name": "stderr",
     "output_type": "stream",
     "text": [
      "\u001b[34m\u001b[1mwandb\u001b[0m: \u001b[32m\u001b[41mERROR\u001b[0m Error while calling W&B API: rate limit exceeded (<Response [429]>)\n",
      "\u001b[34m\u001b[1mwandb\u001b[0m: \u001b[32m\u001b[41mERROR\u001b[0m Error while calling W&B API: rate limit exceeded (<Response [429]>)\n",
      "\u001b[34m\u001b[1mwandb\u001b[0m: \u001b[32m\u001b[41mERROR\u001b[0m Error while calling W&B API: rate limit exceeded (<Response [429]>)\n",
      "\u001b[34m\u001b[1mwandb\u001b[0m:   1 of 1 files downloaded.  \n"
     ]
    },
    {
     "name": "stdout",
     "output_type": "stream",
     "text": [
      "2025-04-19 23:00:31,402 - INFO - Downloaded logs_74kxooyf:v0 to /scratch/downloaded_artifacts/logs_74kxooyf:v0\n"
     ]
    },
    {
     "name": "stderr",
     "output_type": "stream",
     "text": [
      "\u001b[34m\u001b[1mwandb\u001b[0m:   1 of 1 files downloaded.  \n"
     ]
    },
    {
     "name": "stdout",
     "output_type": "stream",
     "text": [
      "2025-04-19 23:00:31,743 - INFO - Downloaded logs_e1jdg331:v0 to /scratch/downloaded_artifacts/logs_e1jdg331:v0\n"
     ]
    },
    {
     "name": "stderr",
     "output_type": "stream",
     "text": [
      "\u001b[34m\u001b[1mwandb\u001b[0m:   1 of 1 files downloaded.  \n"
     ]
    },
    {
     "name": "stdout",
     "output_type": "stream",
     "text": [
      "2025-04-19 23:00:31,810 - INFO - Downloaded logs_fyzd63ps:v0 to /scratch/downloaded_artifacts/logs_fyzd63ps:v0\n"
     ]
    },
    {
     "name": "stderr",
     "output_type": "stream",
     "text": [
      "\u001b[34m\u001b[1mwandb\u001b[0m:   1 of 1 files downloaded.  \n"
     ]
    },
    {
     "name": "stdout",
     "output_type": "stream",
     "text": [
      "2025-04-19 23:00:32,237 - INFO - Downloaded logs_knt5k4pv:v0 to /scratch/downloaded_artifacts/logs_knt5k4pv:v0\n"
     ]
    },
    {
     "name": "stderr",
     "output_type": "stream",
     "text": [
      "\u001b[34m\u001b[1mwandb\u001b[0m:   1 of 1 files downloaded.  \n"
     ]
    },
    {
     "name": "stdout",
     "output_type": "stream",
     "text": [
      "2025-04-19 23:00:32,264 - INFO - Downloaded logs_t5h8bvtg:v0 to /scratch/downloaded_artifacts/logs_t5h8bvtg:v0\n"
     ]
    },
    {
     "name": "stderr",
     "output_type": "stream",
     "text": [
      "\u001b[34m\u001b[1mwandb\u001b[0m:   1 of 1 files downloaded.  \n"
     ]
    },
    {
     "name": "stdout",
     "output_type": "stream",
     "text": [
      "2025-04-19 23:00:32,477 - INFO - Downloaded logs_ojbc1qtd:v0 to /scratch/downloaded_artifacts/logs_ojbc1qtd:v0\n"
     ]
    },
    {
     "name": "stderr",
     "output_type": "stream",
     "text": [
      "\u001b[34m\u001b[1mwandb\u001b[0m:   1 of 1 files downloaded.  \n"
     ]
    },
    {
     "name": "stdout",
     "output_type": "stream",
     "text": [
      "2025-04-19 23:00:32,546 - INFO - Downloaded logs_whkvopcr:v0 to /scratch/downloaded_artifacts/logs_whkvopcr:v0\n"
     ]
    },
    {
     "name": "stderr",
     "output_type": "stream",
     "text": [
      "\u001b[34m\u001b[1mwandb\u001b[0m:   1 of 1 files downloaded.  \n"
     ]
    },
    {
     "name": "stdout",
     "output_type": "stream",
     "text": [
      "2025-04-19 23:00:32,722 - INFO - Downloaded logs_orrijezy:v0 to /scratch/downloaded_artifacts/logs_orrijezy:v0\n"
     ]
    },
    {
     "name": "stderr",
     "output_type": "stream",
     "text": [
      "\u001b[34m\u001b[1mwandb\u001b[0m:   1 of 1 files downloaded.  \n"
     ]
    },
    {
     "name": "stdout",
     "output_type": "stream",
     "text": [
      "2025-04-19 23:00:32,989 - INFO - Downloaded logs_e6k1qhgd:v0 to /scratch/downloaded_artifacts/logs_e6k1qhgd:v0\n"
     ]
    },
    {
     "name": "stderr",
     "output_type": "stream",
     "text": [
      "\u001b[34m\u001b[1mwandb\u001b[0m:   1 of 1 files downloaded.  \n"
     ]
    },
    {
     "name": "stdout",
     "output_type": "stream",
     "text": [
      "2025-04-19 23:00:32,997 - INFO - Downloaded logs_2kixu75n:v0 to /scratch/downloaded_artifacts/logs_2kixu75n:v0\n"
     ]
    },
    {
     "name": "stderr",
     "output_type": "stream",
     "text": [
      "\u001b[34m\u001b[1mwandb\u001b[0m:   1 of 1 files downloaded.  \n",
      "\u001b[34m\u001b[1mwandb\u001b[0m:   1 of 1 files downloaded.  \n"
     ]
    },
    {
     "name": "stdout",
     "output_type": "stream",
     "text": [
      "2025-04-19 23:00:33,077 - INFO - Downloaded logs_hnkz2tke:v0 to /scratch/downloaded_artifacts/logs_hnkz2tke:v0\n",
      "2025-04-19 23:00:33,078 - INFO - Downloaded logs_ziihwuwh:v0 to /scratch/downloaded_artifacts/logs_ziihwuwh:v0\n"
     ]
    },
    {
     "name": "stderr",
     "output_type": "stream",
     "text": [
      "\u001b[34m\u001b[1mwandb\u001b[0m:   1 of 1 files downloaded.  \n"
     ]
    },
    {
     "name": "stdout",
     "output_type": "stream",
     "text": [
      "2025-04-19 23:00:33,243 - INFO - Downloaded logs_838vh6z8:v0 to /scratch/downloaded_artifacts/logs_838vh6z8:v0\n"
     ]
    },
    {
     "name": "stderr",
     "output_type": "stream",
     "text": [
      "\u001b[34m\u001b[1mwandb\u001b[0m:   1 of 1 files downloaded.  \n"
     ]
    },
    {
     "name": "stdout",
     "output_type": "stream",
     "text": [
      "2025-04-19 23:00:33,399 - INFO - Downloaded logs_p8v6ymst:v0 to /scratch/downloaded_artifacts/logs_p8v6ymst:v0\n"
     ]
    },
    {
     "name": "stderr",
     "output_type": "stream",
     "text": [
      "\u001b[34m\u001b[1mwandb\u001b[0m:   1 of 1 files downloaded.  \n"
     ]
    },
    {
     "name": "stdout",
     "output_type": "stream",
     "text": [
      "2025-04-19 23:00:33,405 - INFO - Downloaded logs_1qo99d7g:v0 to /scratch/downloaded_artifacts/logs_1qo99d7g:v0\n"
     ]
    },
    {
     "name": "stderr",
     "output_type": "stream",
     "text": [
      "\u001b[34m\u001b[1mwandb\u001b[0m:   1 of 1 files downloaded.  \n",
      "\u001b[34m\u001b[1mwandb\u001b[0m:   1 of 1 files downloaded.  \n"
     ]
    },
    {
     "name": "stdout",
     "output_type": "stream",
     "text": [
      "2025-04-19 23:00:33,563 - INFO - Downloaded logs_3d4sjxql:v0 to /scratch/downloaded_artifacts/logs_3d4sjxql:v0\n",
      "2025-04-19 23:00:33,566 - INFO - Downloaded logs_bg1ys86a:v0 to /scratch/downloaded_artifacts/logs_bg1ys86a:v0\n"
     ]
    },
    {
     "name": "stderr",
     "output_type": "stream",
     "text": [
      "\u001b[34m\u001b[1mwandb\u001b[0m:   1 of 1 files downloaded.  \n"
     ]
    },
    {
     "name": "stdout",
     "output_type": "stream",
     "text": [
      "2025-04-19 23:00:33,600 - INFO - Downloaded logs_qmra8p7k:v0 to /scratch/downloaded_artifacts/logs_qmra8p7k:v0\n"
     ]
    },
    {
     "name": "stderr",
     "output_type": "stream",
     "text": [
      "\u001b[34m\u001b[1mwandb\u001b[0m:   1 of 1 files downloaded.  \n"
     ]
    },
    {
     "name": "stdout",
     "output_type": "stream",
     "text": [
      "2025-04-19 23:00:33,614 - INFO - Downloaded logs_9es801a5:v0 to /scratch/downloaded_artifacts/logs_9es801a5:v0\n"
     ]
    },
    {
     "name": "stderr",
     "output_type": "stream",
     "text": [
      "\u001b[34m\u001b[1mwandb\u001b[0m:   1 of 1 files downloaded.  \n"
     ]
    },
    {
     "name": "stdout",
     "output_type": "stream",
     "text": [
      "2025-04-19 23:00:33,692 - INFO - Downloaded logs_pdhoimus:v0 to /scratch/downloaded_artifacts/logs_pdhoimus:v0\n"
     ]
    },
    {
     "name": "stderr",
     "output_type": "stream",
     "text": [
      "\u001b[34m\u001b[1mwandb\u001b[0m:   1 of 1 files downloaded.  \n"
     ]
    },
    {
     "name": "stdout",
     "output_type": "stream",
     "text": [
      "2025-04-19 23:00:33,779 - INFO - Downloaded logs_9s4jy8wg:v0 to /scratch/downloaded_artifacts/logs_9s4jy8wg:v0\n"
     ]
    },
    {
     "name": "stderr",
     "output_type": "stream",
     "text": [
      "\u001b[34m\u001b[1mwandb\u001b[0m:   1 of 1 files downloaded.  \n"
     ]
    },
    {
     "name": "stdout",
     "output_type": "stream",
     "text": [
      "2025-04-19 23:00:33,850 - INFO - Downloaded logs_xufymyqu:v0 to /scratch/downloaded_artifacts/logs_xufymyqu:v0\n"
     ]
    },
    {
     "name": "stderr",
     "output_type": "stream",
     "text": [
      "\u001b[34m\u001b[1mwandb\u001b[0m:   1 of 1 files downloaded.  \n"
     ]
    },
    {
     "name": "stdout",
     "output_type": "stream",
     "text": [
      "2025-04-19 23:00:33,986 - INFO - Downloaded logs_5f282kxl:v0 to /scratch/downloaded_artifacts/logs_5f282kxl:v0\n"
     ]
    },
    {
     "name": "stderr",
     "output_type": "stream",
     "text": [
      "\u001b[34m\u001b[1mwandb\u001b[0m:   1 of 1 files downloaded.  \n",
      "\u001b[34m\u001b[1mwandb\u001b[0m:   1 of 1 files downloaded.  \n"
     ]
    },
    {
     "name": "stdout",
     "output_type": "stream",
     "text": [
      "2025-04-19 23:00:34,131 - INFO - Downloaded logs_iw3vhfq4:v0 to /scratch/downloaded_artifacts/logs_iw3vhfq4:v0\n",
      "2025-04-19 23:00:34,132 - INFO - Downloaded logs_ia6v4y1x:v0 to /scratch/downloaded_artifacts/logs_ia6v4y1x:v0\n"
     ]
    },
    {
     "name": "stderr",
     "output_type": "stream",
     "text": [
      "\u001b[34m\u001b[1mwandb\u001b[0m:   1 of 1 files downloaded.  \n"
     ]
    },
    {
     "name": "stdout",
     "output_type": "stream",
     "text": [
      "2025-04-19 23:00:34,308 - INFO - Downloaded logs_lqpd8ele:v0 to /scratch/downloaded_artifacts/logs_lqpd8ele:v0\n"
     ]
    },
    {
     "name": "stderr",
     "output_type": "stream",
     "text": [
      "\u001b[34m\u001b[1mwandb\u001b[0m:   1 of 1 files downloaded.  \n"
     ]
    },
    {
     "name": "stdout",
     "output_type": "stream",
     "text": [
      "2025-04-19 23:00:34,432 - INFO - Downloaded logs_0g0hnnkb:v0 to /scratch/downloaded_artifacts/logs_0g0hnnkb:v0\n"
     ]
    },
    {
     "name": "stderr",
     "output_type": "stream",
     "text": [
      "\u001b[34m\u001b[1mwandb\u001b[0m:   1 of 1 files downloaded.  \n"
     ]
    },
    {
     "name": "stdout",
     "output_type": "stream",
     "text": [
      "2025-04-19 23:00:34,485 - INFO - Downloaded logs_qic6t38b:v0 to /scratch/downloaded_artifacts/logs_qic6t38b:v0\n"
     ]
    },
    {
     "name": "stderr",
     "output_type": "stream",
     "text": [
      "\u001b[34m\u001b[1mwandb\u001b[0m:   1 of 1 files downloaded.  \n"
     ]
    },
    {
     "name": "stdout",
     "output_type": "stream",
     "text": [
      "2025-04-19 23:00:34,683 - INFO - Downloaded logs_qr8ey8u6:v0 to /scratch/downloaded_artifacts/logs_qr8ey8u6:v0\n"
     ]
    },
    {
     "name": "stderr",
     "output_type": "stream",
     "text": [
      "\u001b[34m\u001b[1mwandb\u001b[0m:   1 of 1 files downloaded.  \n"
     ]
    },
    {
     "name": "stdout",
     "output_type": "stream",
     "text": [
      "2025-04-19 23:00:34,717 - INFO - Downloaded logs_6k64ydfk:v0 to /scratch/downloaded_artifacts/logs_6k64ydfk:v0\n"
     ]
    },
    {
     "name": "stderr",
     "output_type": "stream",
     "text": [
      "\u001b[34m\u001b[1mwandb\u001b[0m:   1 of 1 files downloaded.  \n"
     ]
    },
    {
     "name": "stdout",
     "output_type": "stream",
     "text": [
      "2025-04-19 23:00:34,761 - INFO - Downloaded logs_abzpwc6n:v0 to /scratch/downloaded_artifacts/logs_abzpwc6n:v0\n"
     ]
    },
    {
     "name": "stderr",
     "output_type": "stream",
     "text": [
      "\u001b[34m\u001b[1mwandb\u001b[0m:   1 of 1 files downloaded.  \n"
     ]
    },
    {
     "name": "stdout",
     "output_type": "stream",
     "text": [
      "2025-04-19 23:00:34,935 - INFO - Downloaded logs_dw9aa07s:v0 to /scratch/downloaded_artifacts/logs_dw9aa07s:v0\n"
     ]
    },
    {
     "name": "stderr",
     "output_type": "stream",
     "text": [
      "\u001b[34m\u001b[1mwandb\u001b[0m:   1 of 1 files downloaded.  \n"
     ]
    },
    {
     "name": "stdout",
     "output_type": "stream",
     "text": [
      "2025-04-19 23:00:35,028 - INFO - Downloaded logs_ea6pjpzy:v0 to /scratch/downloaded_artifacts/logs_ea6pjpzy:v0\n"
     ]
    },
    {
     "name": "stderr",
     "output_type": "stream",
     "text": [
      "\u001b[34m\u001b[1mwandb\u001b[0m:   1 of 1 files downloaded.  \n"
     ]
    },
    {
     "name": "stdout",
     "output_type": "stream",
     "text": [
      "2025-04-19 23:00:35,172 - INFO - Downloaded logs_opk87329:v0 to /scratch/downloaded_artifacts/logs_opk87329:v0\n"
     ]
    },
    {
     "name": "stderr",
     "output_type": "stream",
     "text": [
      "\u001b[34m\u001b[1mwandb\u001b[0m:   1 of 1 files downloaded.  \n"
     ]
    },
    {
     "name": "stdout",
     "output_type": "stream",
     "text": [
      "2025-04-19 23:00:35,313 - INFO - Downloaded logs_l25son53:v0 to /scratch/downloaded_artifacts/logs_l25son53:v0\n"
     ]
    },
    {
     "name": "stderr",
     "output_type": "stream",
     "text": [
      "\u001b[34m\u001b[1mwandb\u001b[0m:   1 of 1 files downloaded.  \n"
     ]
    },
    {
     "name": "stdout",
     "output_type": "stream",
     "text": [
      "2025-04-19 23:00:35,338 - INFO - Downloaded logs_yi680vsg:v0 to /scratch/downloaded_artifacts/logs_yi680vsg:v0\n"
     ]
    },
    {
     "name": "stderr",
     "output_type": "stream",
     "text": [
      "\u001b[34m\u001b[1mwandb\u001b[0m:   1 of 1 files downloaded.  \n"
     ]
    },
    {
     "name": "stdout",
     "output_type": "stream",
     "text": [
      "2025-04-19 23:00:35,374 - INFO - Downloaded logs_u1bni7xs:v0 to /scratch/downloaded_artifacts/logs_u1bni7xs:v0\n"
     ]
    },
    {
     "name": "stderr",
     "output_type": "stream",
     "text": [
      "\u001b[34m\u001b[1mwandb\u001b[0m:   1 of 1 files downloaded.  \n"
     ]
    },
    {
     "name": "stdout",
     "output_type": "stream",
     "text": [
      "2025-04-19 23:00:35,391 - INFO - Downloaded logs_ynh4xohk:v0 to /scratch/downloaded_artifacts/logs_ynh4xohk:v0\n"
     ]
    },
    {
     "name": "stderr",
     "output_type": "stream",
     "text": [
      "\u001b[34m\u001b[1mwandb\u001b[0m:   1 of 1 files downloaded.  \n"
     ]
    },
    {
     "name": "stdout",
     "output_type": "stream",
     "text": [
      "2025-04-19 23:00:35,423 - INFO - Downloaded logs_rr0ufoz8:v0 to /scratch/downloaded_artifacts/logs_rr0ufoz8:v0\n"
     ]
    },
    {
     "name": "stderr",
     "output_type": "stream",
     "text": [
      "\u001b[34m\u001b[1mwandb\u001b[0m:   1 of 1 files downloaded.  \n"
     ]
    },
    {
     "name": "stdout",
     "output_type": "stream",
     "text": [
      "2025-04-19 23:00:35,546 - INFO - Downloaded logs_0y3kc12f:v0 to /scratch/downloaded_artifacts/logs_0y3kc12f:v0\n"
     ]
    },
    {
     "name": "stderr",
     "output_type": "stream",
     "text": [
      "\u001b[34m\u001b[1mwandb\u001b[0m:   1 of 1 files downloaded.  \n"
     ]
    },
    {
     "name": "stdout",
     "output_type": "stream",
     "text": [
      "2025-04-19 23:00:35,648 - INFO - Downloaded logs_5v1ovszm:v0 to /scratch/downloaded_artifacts/logs_5v1ovszm:v0\n"
     ]
    },
    {
     "name": "stderr",
     "output_type": "stream",
     "text": [
      "\u001b[34m\u001b[1mwandb\u001b[0m:   1 of 1 files downloaded.  \n"
     ]
    },
    {
     "name": "stdout",
     "output_type": "stream",
     "text": [
      "2025-04-19 23:00:35,662 - INFO - Downloaded logs_0uupndrt:v0 to /scratch/downloaded_artifacts/logs_0uupndrt:v0\n"
     ]
    },
    {
     "name": "stderr",
     "output_type": "stream",
     "text": [
      "\u001b[34m\u001b[1mwandb\u001b[0m:   1 of 1 files downloaded.  \n"
     ]
    },
    {
     "name": "stdout",
     "output_type": "stream",
     "text": [
      "2025-04-19 23:00:35,671 - INFO - Downloaded logs_2uqgv9so:v0 to /scratch/downloaded_artifacts/logs_2uqgv9so:v0\n"
     ]
    },
    {
     "name": "stderr",
     "output_type": "stream",
     "text": [
      "\u001b[34m\u001b[1mwandb\u001b[0m:   1 of 1 files downloaded.  \n"
     ]
    },
    {
     "name": "stdout",
     "output_type": "stream",
     "text": [
      "2025-04-19 23:00:35,726 - INFO - Downloaded logs_698062f5:v0 to /scratch/downloaded_artifacts/logs_698062f5:v0\n"
     ]
    },
    {
     "name": "stderr",
     "output_type": "stream",
     "text": [
      "\u001b[34m\u001b[1mwandb\u001b[0m:   1 of 1 files downloaded.  \n"
     ]
    },
    {
     "name": "stdout",
     "output_type": "stream",
     "text": [
      "2025-04-19 23:00:35,784 - INFO - Downloaded logs_ru96odho:v0 to /scratch/downloaded_artifacts/logs_ru96odho:v0\n"
     ]
    },
    {
     "name": "stderr",
     "output_type": "stream",
     "text": [
      "\u001b[34m\u001b[1mwandb\u001b[0m:   1 of 1 files downloaded.  \n"
     ]
    },
    {
     "name": "stdout",
     "output_type": "stream",
     "text": [
      "2025-04-19 23:00:35,805 - INFO - Downloaded logs_964j7dfa:v0 to /scratch/downloaded_artifacts/logs_964j7dfa:v0\n"
     ]
    },
    {
     "name": "stderr",
     "output_type": "stream",
     "text": [
      "\u001b[34m\u001b[1mwandb\u001b[0m:   1 of 1 files downloaded.  \n"
     ]
    },
    {
     "name": "stdout",
     "output_type": "stream",
     "text": [
      "2025-04-19 23:00:35,885 - INFO - Downloaded logs_vg8kgynn:v0 to /scratch/downloaded_artifacts/logs_vg8kgynn:v0\n"
     ]
    },
    {
     "name": "stderr",
     "output_type": "stream",
     "text": [
      "\u001b[34m\u001b[1mwandb\u001b[0m:   1 of 1 files downloaded.  \n"
     ]
    },
    {
     "name": "stdout",
     "output_type": "stream",
     "text": [
      "2025-04-19 23:00:35,891 - INFO - Downloaded logs_9b42b45m:v0 to /scratch/downloaded_artifacts/logs_9b42b45m:v0\n"
     ]
    },
    {
     "name": "stderr",
     "output_type": "stream",
     "text": [
      "\u001b[34m\u001b[1mwandb\u001b[0m:   1 of 1 files downloaded.  \n"
     ]
    },
    {
     "name": "stdout",
     "output_type": "stream",
     "text": [
      "2025-04-19 23:00:36,021 - INFO - Downloaded logs_vr8bdf61:v0 to /scratch/downloaded_artifacts/logs_vr8bdf61:v0\n"
     ]
    },
    {
     "name": "stderr",
     "output_type": "stream",
     "text": [
      "\u001b[34m\u001b[1mwandb\u001b[0m:   1 of 1 files downloaded.  \n"
     ]
    },
    {
     "name": "stdout",
     "output_type": "stream",
     "text": [
      "2025-04-19 23:00:36,046 - INFO - Downloaded logs_yh2jtntv:v0 to /scratch/downloaded_artifacts/logs_yh2jtntv:v0\n"
     ]
    },
    {
     "name": "stderr",
     "output_type": "stream",
     "text": [
      "\u001b[34m\u001b[1mwandb\u001b[0m:   1 of 1 files downloaded.  \n"
     ]
    },
    {
     "name": "stdout",
     "output_type": "stream",
     "text": [
      "2025-04-19 23:00:36,074 - INFO - Downloaded logs_yx36dgkv:v0 to /scratch/downloaded_artifacts/logs_yx36dgkv:v0\n"
     ]
    }
   ],
   "source": [
    "with ThreadPoolExecutor(max_workers=max_download_workers) as executor:\n",
    "    download_results = list(executor.map(download_artifact, run_data))"
   ]
  },
  {
   "cell_type": "code",
   "execution_count": 21,
   "metadata": {},
   "outputs": [
    {
     "name": "stdout",
     "output_type": "stream",
     "text": [
      "2025-04-19 23:00:36,198 - INFO - Saved download results to /scratch/downloaded_artifacts/download_results_fixed_search-1.pkl\n"
     ]
    }
   ],
   "source": [
    "# Save download results for the processing script, including group name\n",
    "import pickle\n",
    "results_file = os.path.join(download_dir, f'download_results_{group_name}.pkl')\n",
    "with open(results_file, 'wb') as f:\n",
    "    pickle.dump(download_results, f)\n",
    "logger.info(f\"Saved download results to {results_file}\")"
   ]
  }
 ],
 "metadata": {
  "kernelspec": {
   "display_name": "Python 3",
   "language": "python",
   "name": "python3"
  },
  "language_info": {
   "codemirror_mode": {
    "name": "ipython",
    "version": 3
   },
   "file_extension": ".py",
   "mimetype": "text/x-python",
   "name": "python",
   "nbconvert_exporter": "python",
   "pygments_lexer": "ipython3",
   "version": "3.13.1"
  }
 },
 "nbformat": 4,
 "nbformat_minor": 2
}

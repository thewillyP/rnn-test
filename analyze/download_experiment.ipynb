{
 "cells": [
  {
   "cell_type": "code",
   "execution_count": 1,
   "metadata": {},
   "outputs": [],
   "source": [
    "import os\n",
    "import sys\n",
    "sys.path.append(os.getcwd())\n",
    "sys.path.append(os.getcwd() + '/../src')\n"
   ]
  },
  {
   "cell_type": "code",
   "execution_count": 2,
   "metadata": {},
   "outputs": [],
   "source": [
    "import logging\n",
    "import wandb\n",
    "from concurrent.futures import ThreadPoolExecutor\n",
    "import multiprocessing\n"
   ]
  },
  {
   "cell_type": "code",
   "execution_count": 3,
   "metadata": {},
   "outputs": [],
   "source": [
    "# Configure logging\n",
    "logging.basicConfig(\n",
    "    level=logging.INFO,\n",
    "    format='%(asctime)s - %(levelname)s - %(message)s',\n",
    "    handlers=[\n",
    "        logging.StreamHandler(sys.stdout),\n",
    "        logging.FileHandler('download.log')\n",
    "    ]\n",
    ")\n",
    "logger = logging.getLogger(__name__)\n",
    "\n",
    "# Set multiprocessing start method to 'spawn'\n",
    "multiprocessing.set_start_method(\"spawn\", force=True)"
   ]
  },
  {
   "cell_type": "code",
   "execution_count": 4,
   "metadata": {},
   "outputs": [],
   "source": [
    "# Configuration\n",
    "download_dir = \"/scratch/downloaded_artifacts\"\n",
    "entity = \"wlp9800-new-york-university\"\n",
    "project_name = \"oho_exps\"\n",
    "group_name = \"fixed_search-4_adb1843f9f4a4902a417056636322a7a\"\n",
    "max_download_workers = 20"
   ]
  },
  {
   "cell_type": "code",
   "execution_count": 5,
   "metadata": {},
   "outputs": [],
   "source": [
    "# Ensure download directory exists\n",
    "os.makedirs(download_dir, exist_ok=True)"
   ]
  },
  {
   "cell_type": "code",
   "execution_count": 6,
   "metadata": {},
   "outputs": [],
   "source": [
    "# Function to download a single run's artifact\n",
    "def download_artifact(run_data):\n",
    "    run_id = run_data[\"id\"]\n",
    "    config = run_data[\"config\"]\n",
    "    try:\n",
    "        api = wandb.Api()\n",
    "        artifact = api.artifact(f'{entity}/{project_name}/logs_{run_id}:v0')\n",
    "        artifact_dir = os.path.join(download_dir, artifact.name)\n",
    "        artifact.download(root=artifact_dir)\n",
    "        logger.info(f\"Downloaded {artifact.name} to {artifact_dir}\")\n",
    "        return {\n",
    "            \"run_id\": run_id,\n",
    "            \"artifact_dir\": artifact_dir,\n",
    "            \"config\": config,\n",
    "            \"status\": \"success\"\n",
    "        }\n",
    "    except Exception as e:\n",
    "        logger.error(f\"Error downloading artifact for run {run_id}: {str(e)}\")\n",
    "        return {\n",
    "            \"run_id\": run_id,\n",
    "            \"artifact_dir\": None,\n",
    "            \"config\": config,\n",
    "            \"status\": f\"error: {str(e)}\"\n",
    "        }"
   ]
  },
  {
   "cell_type": "code",
   "execution_count": 7,
   "metadata": {},
   "outputs": [
    {
     "name": "stdout",
     "output_type": "stream",
     "text": [
      "2025-04-22 16:30:10,049 - INFO - Found 1999 runs to download\n"
     ]
    }
   ],
   "source": [
    "api = wandb.Api()\n",
    "runs = api.runs(\n",
    "    path=f\"{entity}/{project_name}\",\n",
    "    filters={\"group\": group_name}\n",
    ")\n",
    "\n",
    "# Prepare run data\n",
    "run_data = [{\"id\": run.id, \"config\": run.config} for run in runs]\n",
    "logger.info(f\"Found {len(run_data)} runs to download\")\n"
   ]
  },
  {
   "cell_type": "code",
   "execution_count": 8,
   "metadata": {},
   "outputs": [
    {
     "name": "stderr",
     "output_type": "stream",
     "text": [
      "\u001b[34m\u001b[1mwandb\u001b[0m: Using wandb-core as the SDK backend.  Please refer to https://wandb.me/wandb-core for more information.\n",
      "\u001b[34m\u001b[1mwandb\u001b[0m:   1 of 1 files downloaded.  \n"
     ]
    },
    {
     "name": "stdout",
     "output_type": "stream",
     "text": [
      "2025-04-22 16:30:12,708 - INFO - Downloaded logs_xoof117v:v0 to /scratch/downloaded_artifacts/logs_xoof117v:v0\n"
     ]
    },
    {
     "name": "stderr",
     "output_type": "stream",
     "text": [
      "\u001b[34m\u001b[1mwandb\u001b[0m:   1 of 1 files downloaded.  \n"
     ]
    },
    {
     "name": "stdout",
     "output_type": "stream",
     "text": [
      "2025-04-22 16:30:12,726 - INFO - Downloaded logs_lfy11lzb:v0 to /scratch/downloaded_artifacts/logs_lfy11lzb:v0\n"
     ]
    },
    {
     "name": "stderr",
     "output_type": "stream",
     "text": [
      "\u001b[34m\u001b[1mwandb\u001b[0m:   1 of 1 files downloaded.  \n",
      "\u001b[34m\u001b[1mwandb\u001b[0m:   1 of 1 files downloaded.  \n"
     ]
    },
    {
     "name": "stdout",
     "output_type": "stream",
     "text": [
      "2025-04-22 16:30:12,756 - INFO - Downloaded logs_qvzi4xdd:v0 to /scratch/downloaded_artifacts/logs_qvzi4xdd:v0\n",
      "2025-04-22 16:30:12,759 - INFO - Downloaded logs_6lgxswbq:v0 to /scratch/downloaded_artifacts/logs_6lgxswbq:v0\n"
     ]
    },
    {
     "name": "stderr",
     "output_type": "stream",
     "text": [
      "\u001b[34m\u001b[1mwandb\u001b[0m:   1 of 1 files downloaded.  \n"
     ]
    },
    {
     "name": "stdout",
     "output_type": "stream",
     "text": [
      "2025-04-22 16:30:12,765 - INFO - Downloaded logs_4hi3hq0v:v0 to /scratch/downloaded_artifacts/logs_4hi3hq0v:v0\n"
     ]
    },
    {
     "name": "stderr",
     "output_type": "stream",
     "text": [
      "\u001b[34m\u001b[1mwandb\u001b[0m:   1 of 1 files downloaded.  \n"
     ]
    },
    {
     "name": "stdout",
     "output_type": "stream",
     "text": [
      "2025-04-22 16:30:12,790 - INFO - Downloaded logs_iaa28jbb:v0 to /scratch/downloaded_artifacts/logs_iaa28jbb:v0\n"
     ]
    },
    {
     "name": "stderr",
     "output_type": "stream",
     "text": [
      "\u001b[34m\u001b[1mwandb\u001b[0m:   1 of 1 files downloaded.  \n",
      "\u001b[34m\u001b[1mwandb\u001b[0m:   1 of 1 files downloaded.  \n",
      "\u001b[34m\u001b[1mwandb\u001b[0m:   1 of 1 files downloaded.  \n",
      "\u001b[34m\u001b[1mwandb\u001b[0m:   1 of 1 files downloaded.  \n"
     ]
    },
    {
     "name": "stdout",
     "output_type": "stream",
     "text": [
      "2025-04-22 16:30:12,805 - INFO - Downloaded logs_5ns795bu:v0 to /scratch/downloaded_artifacts/logs_5ns795bu:v0\n",
      "2025-04-22 16:30:12,805 - INFO - Downloaded logs_qynpxz4c:v0 to /scratch/downloaded_artifacts/logs_qynpxz4c:v0\n"
     ]
    },
    {
     "name": "stderr",
     "output_type": "stream",
     "text": [
      "\u001b[34m\u001b[1mwandb\u001b[0m:   1 of 1 files downloaded.  \n"
     ]
    },
    {
     "name": "stdout",
     "output_type": "stream",
     "text": [
      "2025-04-22 16:30:12,808 - INFO - Downloaded logs_03sh0qbq:v0 to /scratch/downloaded_artifacts/logs_03sh0qbq:v0\n",
      "2025-04-22 16:30:12,823 - INFO - Downloaded logs_9am2iom0:v0 to /scratch/downloaded_artifacts/logs_9am2iom0:v0\n"
     ]
    },
    {
     "name": "stderr",
     "output_type": "stream",
     "text": [
      "\u001b[34m\u001b[1mwandb\u001b[0m:   1 of 1 files downloaded.  \n",
      "\u001b[34m\u001b[1mwandb\u001b[0m:   1 of 1 files downloaded.  \n"
     ]
    },
    {
     "name": "stdout",
     "output_type": "stream",
     "text": [
      "2025-04-22 16:30:12,831 - INFO - Downloaded logs_8lpsdhmc:v0 to /scratch/downloaded_artifacts/logs_8lpsdhmc:v0\n",
      "2025-04-22 16:30:12,833 - INFO - Downloaded logs_7fjnt7ma:v0 to /scratch/downloaded_artifacts/logs_7fjnt7ma:v0\n"
     ]
    },
    {
     "name": "stderr",
     "output_type": "stream",
     "text": [
      "\u001b[34m\u001b[1mwandb\u001b[0m:   1 of 1 files downloaded.  \n"
     ]
    },
    {
     "name": "stdout",
     "output_type": "stream",
     "text": [
      "2025-04-22 16:30:12,840 - INFO - Downloaded logs_cuuk6boj:v0 to /scratch/downloaded_artifacts/logs_cuuk6boj:v0\n"
     ]
    },
    {
     "name": "stderr",
     "output_type": "stream",
     "text": [
      "\u001b[34m\u001b[1mwandb\u001b[0m:   1 of 1 files downloaded.  \n"
     ]
    },
    {
     "name": "stdout",
     "output_type": "stream",
     "text": [
      "2025-04-22 16:30:12,844 - INFO - Downloaded logs_37kzpb2j:v0 to /scratch/downloaded_artifacts/logs_37kzpb2j:v0\n"
     ]
    },
    {
     "name": "stderr",
     "output_type": "stream",
     "text": [
      "\u001b[34m\u001b[1mwandb\u001b[0m:   1 of 1 files downloaded.  \n"
     ]
    },
    {
     "name": "stdout",
     "output_type": "stream",
     "text": [
      "2025-04-22 16:30:12,847 - INFO - Downloaded logs_abkx9flc:v0 to /scratch/downloaded_artifacts/logs_abkx9flc:v0\n",
      "2025-04-22 16:30:12,852 - INFO - Downloaded logs_2rqdhgcp:v0 to /scratch/downloaded_artifacts/logs_2rqdhgcp:v0\n"
     ]
    },
    {
     "name": "stderr",
     "output_type": "stream",
     "text": [
      "\u001b[34m\u001b[1mwandb\u001b[0m:   1 of 1 files downloaded.  \n",
      "\u001b[34m\u001b[1mwandb\u001b[0m:   1 of 1 files downloaded.  \n"
     ]
    },
    {
     "name": "stdout",
     "output_type": "stream",
     "text": [
      "2025-04-22 16:30:12,876 - INFO - Downloaded logs_2p73mhwd:v0 to /scratch/downloaded_artifacts/logs_2p73mhwd:v0\n"
     ]
    },
    {
     "name": "stderr",
     "output_type": "stream",
     "text": [
      "\u001b[34m\u001b[1mwandb\u001b[0m:   1 of 1 files downloaded.  \n"
     ]
    },
    {
     "name": "stdout",
     "output_type": "stream",
     "text": [
      "2025-04-22 16:30:12,878 - INFO - Downloaded logs_1zz8r4e9:v0 to /scratch/downloaded_artifacts/logs_1zz8r4e9:v0\n",
      "2025-04-22 16:30:12,880 - INFO - Downloaded logs_91n00kp5:v0 to /scratch/downloaded_artifacts/logs_91n00kp5:v0\n"
     ]
    },
    {
     "name": "stderr",
     "output_type": "stream",
     "text": [
      "\u001b[34m\u001b[1mwandb\u001b[0m:   1 of 1 files downloaded.  \n"
     ]
    },
    {
     "name": "stdout",
     "output_type": "stream",
     "text": [
      "2025-04-22 16:30:12,886 - INFO - Downloaded logs_arop2rkl:v0 to /scratch/downloaded_artifacts/logs_arop2rkl:v0\n"
     ]
    },
    {
     "name": "stderr",
     "output_type": "stream",
     "text": [
      "\u001b[34m\u001b[1mwandb\u001b[0m:   1 of 1 files downloaded.  \n"
     ]
    },
    {
     "name": "stdout",
     "output_type": "stream",
     "text": [
      "2025-04-22 16:30:14,656 - INFO - Downloaded logs_h0dio7o4:v0 to /scratch/downloaded_artifacts/logs_h0dio7o4:v0\n"
     ]
    },
    {
     "name": "stderr",
     "output_type": "stream",
     "text": [
      "\u001b[34m\u001b[1mwandb\u001b[0m:   1 of 1 files downloaded.  \n"
     ]
    },
    {
     "name": "stdout",
     "output_type": "stream",
     "text": [
      "2025-04-22 16:30:14,684 - INFO - Downloaded logs_it8txii0:v0 to /scratch/downloaded_artifacts/logs_it8txii0:v0\n"
     ]
    },
    {
     "name": "stderr",
     "output_type": "stream",
     "text": [
      "\u001b[34m\u001b[1mwandb\u001b[0m:   1 of 1 files downloaded.  \n"
     ]
    },
    {
     "name": "stdout",
     "output_type": "stream",
     "text": [
      "2025-04-22 16:30:14,689 - INFO - Downloaded logs_vyja190c:v0 to /scratch/downloaded_artifacts/logs_vyja190c:v0\n"
     ]
    },
    {
     "name": "stderr",
     "output_type": "stream",
     "text": [
      "\u001b[34m\u001b[1mwandb\u001b[0m:   1 of 1 files downloaded.  \n"
     ]
    },
    {
     "name": "stdout",
     "output_type": "stream",
     "text": [
      "2025-04-22 16:30:14,711 - INFO - Downloaded logs_wb6nkstz:v0 to /scratch/downloaded_artifacts/logs_wb6nkstz:v0\n"
     ]
    },
    {
     "name": "stderr",
     "output_type": "stream",
     "text": [
      "\u001b[34m\u001b[1mwandb\u001b[0m:   1 of 1 files downloaded.  \n"
     ]
    },
    {
     "name": "stdout",
     "output_type": "stream",
     "text": [
      "2025-04-22 16:30:14,738 - INFO - Downloaded logs_wqqe1fjp:v0 to /scratch/downloaded_artifacts/logs_wqqe1fjp:v0\n"
     ]
    },
    {
     "name": "stderr",
     "output_type": "stream",
     "text": [
      "\u001b[34m\u001b[1mwandb\u001b[0m:   1 of 1 files downloaded.  \n",
      "\u001b[34m\u001b[1mwandb\u001b[0m:   1 of 1 files downloaded.  \n"
     ]
    },
    {
     "name": "stdout",
     "output_type": "stream",
     "text": [
      "2025-04-22 16:30:14,759 - INFO - Downloaded logs_o9utdg2v:v0 to /scratch/downloaded_artifacts/logs_o9utdg2v:v0\n"
     ]
    },
    {
     "name": "stderr",
     "output_type": "stream",
     "text": [
      "\u001b[34m\u001b[1mwandb\u001b[0m:   1 of 1 files downloaded.  \n"
     ]
    },
    {
     "name": "stdout",
     "output_type": "stream",
     "text": [
      "2025-04-22 16:30:14,770 - INFO - Downloaded logs_duxqdu2d:v0 to /scratch/downloaded_artifacts/logs_duxqdu2d:v0\n",
      "2025-04-22 16:30:14,773 - INFO - Downloaded logs_dhicbqo4:v0 to /scratch/downloaded_artifacts/logs_dhicbqo4:v0\n"
     ]
    },
    {
     "name": "stderr",
     "output_type": "stream",
     "text": [
      "\u001b[34m\u001b[1mwandb\u001b[0m:   1 of 1 files downloaded.  \n",
      "\u001b[34m\u001b[1mwandb\u001b[0m:   1 of 1 files downloaded.  \n"
     ]
    },
    {
     "name": "stdout",
     "output_type": "stream",
     "text": [
      "2025-04-22 16:30:14,781 - INFO - Downloaded logs_b0kgz3hi:v0 to /scratch/downloaded_artifacts/logs_b0kgz3hi:v0\n"
     ]
    },
    {
     "name": "stderr",
     "output_type": "stream",
     "text": [
      "\u001b[34m\u001b[1mwandb\u001b[0m:   1 of 1 files downloaded.  \n"
     ]
    },
    {
     "name": "stdout",
     "output_type": "stream",
     "text": [
      "2025-04-22 16:30:14,782 - INFO - Downloaded logs_e94eoh2y:v0 to /scratch/downloaded_artifacts/logs_e94eoh2y:v0\n"
     ]
    },
    {
     "name": "stderr",
     "output_type": "stream",
     "text": [
      "\u001b[34m\u001b[1mwandb\u001b[0m:   1 of 1 files downloaded.  \n"
     ]
    },
    {
     "name": "stdout",
     "output_type": "stream",
     "text": [
      "2025-04-22 16:30:14,789 - INFO - Downloaded logs_jbyrz9jh:v0 to /scratch/downloaded_artifacts/logs_jbyrz9jh:v0\n"
     ]
    },
    {
     "name": "stderr",
     "output_type": "stream",
     "text": [
      "\u001b[34m\u001b[1mwandb\u001b[0m:   1 of 1 files downloaded.  \n",
      "\u001b[34m\u001b[1mwandb\u001b[0m:   1 of 1 files downloaded.  \n"
     ]
    },
    {
     "name": "stdout",
     "output_type": "stream",
     "text": [
      "2025-04-22 16:30:14,791 - INFO - Downloaded logs_ce22wzin:v0 to /scratch/downloaded_artifacts/logs_ce22wzin:v0\n"
     ]
    },
    {
     "name": "stderr",
     "output_type": "stream",
     "text": [
      "\u001b[34m\u001b[1mwandb\u001b[0m:   1 of 1 files downloaded.  \n"
     ]
    },
    {
     "name": "stdout",
     "output_type": "stream",
     "text": [
      "2025-04-22 16:30:14,795 - INFO - Downloaded logs_nhlsyq51:v0 to /scratch/downloaded_artifacts/logs_nhlsyq51:v0\n"
     ]
    },
    {
     "name": "stderr",
     "output_type": "stream",
     "text": [
      "\u001b[34m\u001b[1mwandb\u001b[0m:   1 of 1 files downloaded.  \n",
      "\u001b[34m\u001b[1mwandb\u001b[0m:   1 of 1 files downloaded.  \n"
     ]
    },
    {
     "name": "stdout",
     "output_type": "stream",
     "text": [
      "2025-04-22 16:30:14,796 - INFO - Downloaded logs_rimve9wn:v0 to /scratch/downloaded_artifacts/logs_rimve9wn:v0\n"
     ]
    },
    {
     "name": "stderr",
     "output_type": "stream",
     "text": [
      "\u001b[34m\u001b[1mwandb\u001b[0m:   1 of 1 files downloaded.  \n"
     ]
    },
    {
     "name": "stdout",
     "output_type": "stream",
     "text": [
      "2025-04-22 16:30:14,800 - INFO - Downloaded logs_kvj1cg5v:v0 to /scratch/downloaded_artifacts/logs_kvj1cg5v:v0\n"
     ]
    },
    {
     "name": "stderr",
     "output_type": "stream",
     "text": [
      "\u001b[34m\u001b[1mwandb\u001b[0m:   1 of 1 files downloaded.  \n"
     ]
    },
    {
     "name": "stdout",
     "output_type": "stream",
     "text": [
      "2025-04-22 16:30:14,806 - INFO - Downloaded logs_ubwyf1iz:v0 to /scratch/downloaded_artifacts/logs_ubwyf1iz:v0\n",
      "2025-04-22 16:30:14,809 - INFO - Downloaded logs_hfir2myv:v0 to /scratch/downloaded_artifacts/logs_hfir2myv:v0\n",
      "2025-04-22 16:30:14,813 - INFO - Downloaded logs_ondwi5tz:v0 to /scratch/downloaded_artifacts/logs_ondwi5tz:v0\n"
     ]
    },
    {
     "name": "stderr",
     "output_type": "stream",
     "text": [
      "\u001b[34m\u001b[1mwandb\u001b[0m:   1 of 1 files downloaded.  \n"
     ]
    },
    {
     "name": "stdout",
     "output_type": "stream",
     "text": [
      "2025-04-22 16:30:14,815 - INFO - Downloaded logs_oo92xv0b:v0 to /scratch/downloaded_artifacts/logs_oo92xv0b:v0\n",
      "2025-04-22 16:30:14,835 - INFO - Downloaded logs_umcolfte:v0 to /scratch/downloaded_artifacts/logs_umcolfte:v0\n"
     ]
    },
    {
     "name": "stderr",
     "output_type": "stream",
     "text": [
      "\u001b[34m\u001b[1mwandb\u001b[0m:   1 of 1 files downloaded.  \n"
     ]
    },
    {
     "name": "stdout",
     "output_type": "stream",
     "text": [
      "2025-04-22 16:30:16,076 - INFO - Downloaded logs_zc7iwbpx:v0 to /scratch/downloaded_artifacts/logs_zc7iwbpx:v0\n"
     ]
    },
    {
     "name": "stderr",
     "output_type": "stream",
     "text": [
      "\u001b[34m\u001b[1mwandb\u001b[0m:   1 of 1 files downloaded.  \n"
     ]
    },
    {
     "name": "stdout",
     "output_type": "stream",
     "text": [
      "2025-04-22 16:30:16,100 - INFO - Downloaded logs_z74ha7r2:v0 to /scratch/downloaded_artifacts/logs_z74ha7r2:v0\n"
     ]
    },
    {
     "name": "stderr",
     "output_type": "stream",
     "text": [
      "\u001b[34m\u001b[1mwandb\u001b[0m:   1 of 1 files downloaded.  \n"
     ]
    },
    {
     "name": "stdout",
     "output_type": "stream",
     "text": [
      "2025-04-22 16:30:16,117 - INFO - Downloaded logs_xp6gte2v:v0 to /scratch/downloaded_artifacts/logs_xp6gte2v:v0\n"
     ]
    },
    {
     "name": "stderr",
     "output_type": "stream",
     "text": [
      "\u001b[34m\u001b[1mwandb\u001b[0m:   1 of 1 files downloaded.  \n",
      "\u001b[34m\u001b[1mwandb\u001b[0m:   1 of 1 files downloaded.  \n"
     ]
    },
    {
     "name": "stdout",
     "output_type": "stream",
     "text": [
      "2025-04-22 16:30:16,240 - INFO - Downloaded logs_d10e8ka2:v0 to /scratch/downloaded_artifacts/logs_d10e8ka2:v0\n"
     ]
    },
    {
     "name": "stderr",
     "output_type": "stream",
     "text": [
      "\u001b[34m\u001b[1mwandb\u001b[0m:   1 of 1 files downloaded.  \n"
     ]
    },
    {
     "name": "stdout",
     "output_type": "stream",
     "text": [
      "2025-04-22 16:30:16,260 - INFO - Downloaded logs_127mn30g:v0 to /scratch/downloaded_artifacts/logs_127mn30g:v0\n"
     ]
    },
    {
     "name": "stderr",
     "output_type": "stream",
     "text": [
      "\u001b[34m\u001b[1mwandb\u001b[0m:   1 of 1 files downloaded.  \n",
      "\u001b[34m\u001b[1mwandb\u001b[0m:   1 of 1 files downloaded.  \n"
     ]
    },
    {
     "name": "stdout",
     "output_type": "stream",
     "text": [
      "2025-04-22 16:30:16,306 - INFO - Downloaded logs_474k5guw:v0 to /scratch/downloaded_artifacts/logs_474k5guw:v0\n"
     ]
    },
    {
     "name": "stderr",
     "output_type": "stream",
     "text": [
      "\u001b[34m\u001b[1mwandb\u001b[0m:   1 of 1 files downloaded.  \n"
     ]
    },
    {
     "name": "stdout",
     "output_type": "stream",
     "text": [
      "2025-04-22 16:30:16,310 - INFO - Downloaded logs_1f1vutqo:v0 to /scratch/downloaded_artifacts/logs_1f1vutqo:v0\n"
     ]
    },
    {
     "name": "stderr",
     "output_type": "stream",
     "text": [
      "\u001b[34m\u001b[1mwandb\u001b[0m:   1 of 1 files downloaded.  \n"
     ]
    },
    {
     "name": "stdout",
     "output_type": "stream",
     "text": [
      "2025-04-22 16:30:16,314 - INFO - Downloaded logs_fnwxl99m:v0 to /scratch/downloaded_artifacts/logs_fnwxl99m:v0\n"
     ]
    },
    {
     "name": "stderr",
     "output_type": "stream",
     "text": [
      "\u001b[34m\u001b[1mwandb\u001b[0m:   1 of 1 files downloaded.  \n",
      "\u001b[34m\u001b[1mwandb\u001b[0m:   1 of 1 files downloaded.  \n"
     ]
    },
    {
     "name": "stdout",
     "output_type": "stream",
     "text": [
      "2025-04-22 16:30:16,317 - INFO - Downloaded logs_5fing73w:v0 to /scratch/downloaded_artifacts/logs_5fing73w:v0\n",
      "2025-04-22 16:30:16,320 - INFO - Downloaded logs_isyi6gwx:v0 to /scratch/downloaded_artifacts/logs_isyi6gwx:v0\n",
      "2025-04-22 16:30:16,327 - INFO - Downloaded logs_zg3w86ct:v0 to /scratch/downloaded_artifacts/logs_zg3w86ct:v0\n",
      "2025-04-22 16:30:16,329 - INFO - Downloaded logs_qvyjw083:v0 to /scratch/downloaded_artifacts/logs_qvyjw083:v0\n"
     ]
    },
    {
     "name": "stderr",
     "output_type": "stream",
     "text": [
      "\u001b[34m\u001b[1mwandb\u001b[0m:   1 of 1 files downloaded.  \n",
      "\u001b[34m\u001b[1mwandb\u001b[0m:   1 of 1 files downloaded.  \n",
      "\u001b[34m\u001b[1mwandb\u001b[0m:   1 of 1 files downloaded.  \n"
     ]
    },
    {
     "name": "stdout",
     "output_type": "stream",
     "text": [
      "2025-04-22 16:30:16,363 - INFO - Downloaded logs_5fotddv9:v0 to /scratch/downloaded_artifacts/logs_5fotddv9:v0\n",
      "2025-04-22 16:30:16,365 - INFO - Downloaded logs_9q0s1a8x:v0 to /scratch/downloaded_artifacts/logs_9q0s1a8x:v0\n"
     ]
    },
    {
     "name": "stderr",
     "output_type": "stream",
     "text": [
      "\u001b[34m\u001b[1mwandb\u001b[0m:   1 of 1 files downloaded.  \n"
     ]
    },
    {
     "name": "stdout",
     "output_type": "stream",
     "text": [
      "2025-04-22 16:30:16,367 - INFO - Downloaded logs_cgmd24dx:v0 to /scratch/downloaded_artifacts/logs_cgmd24dx:v0\n",
      "2025-04-22 16:30:16,373 - INFO - Downloaded logs_9k8dg4m5:v0 to /scratch/downloaded_artifacts/logs_9k8dg4m5:v0\n"
     ]
    },
    {
     "name": "stderr",
     "output_type": "stream",
     "text": [
      "\u001b[34m\u001b[1mwandb\u001b[0m:   1 of 1 files downloaded.  \n"
     ]
    },
    {
     "name": "stdout",
     "output_type": "stream",
     "text": [
      "2025-04-22 16:30:16,415 - INFO - Downloaded logs_gj0fd2az:v0 to /scratch/downloaded_artifacts/logs_gj0fd2az:v0\n"
     ]
    },
    {
     "name": "stderr",
     "output_type": "stream",
     "text": [
      "\u001b[34m\u001b[1mwandb\u001b[0m:   1 of 1 files downloaded.  \n"
     ]
    },
    {
     "name": "stdout",
     "output_type": "stream",
     "text": [
      "2025-04-22 16:30:16,423 - INFO - Downloaded logs_b1fn3kjv:v0 to /scratch/downloaded_artifacts/logs_b1fn3kjv:v0\n"
     ]
    },
    {
     "name": "stderr",
     "output_type": "stream",
     "text": [
      "\u001b[34m\u001b[1mwandb\u001b[0m:   1 of 1 files downloaded.  \n"
     ]
    },
    {
     "name": "stdout",
     "output_type": "stream",
     "text": [
      "2025-04-22 16:30:17,549 - INFO - Downloaded logs_4g2g2idw:v0 to /scratch/downloaded_artifacts/logs_4g2g2idw:v0\n"
     ]
    },
    {
     "name": "stderr",
     "output_type": "stream",
     "text": [
      "\u001b[34m\u001b[1mwandb\u001b[0m:   1 of 1 files downloaded.  \n"
     ]
    },
    {
     "name": "stdout",
     "output_type": "stream",
     "text": [
      "2025-04-22 16:30:18,108 - INFO - Downloaded logs_8u29vh5o:v0 to /scratch/downloaded_artifacts/logs_8u29vh5o:v0\n"
     ]
    },
    {
     "name": "stderr",
     "output_type": "stream",
     "text": [
      "\u001b[34m\u001b[1mwandb\u001b[0m:   1 of 1 files downloaded.  \n"
     ]
    },
    {
     "name": "stdout",
     "output_type": "stream",
     "text": [
      "2025-04-22 16:30:18,135 - INFO - Downloaded logs_ot1t5cz7:v0 to /scratch/downloaded_artifacts/logs_ot1t5cz7:v0\n"
     ]
    },
    {
     "name": "stderr",
     "output_type": "stream",
     "text": [
      "\u001b[34m\u001b[1mwandb\u001b[0m:   1 of 1 files downloaded.  \n"
     ]
    },
    {
     "name": "stdout",
     "output_type": "stream",
     "text": [
      "2025-04-22 16:30:18,149 - INFO - Downloaded logs_hv60n3rq:v0 to /scratch/downloaded_artifacts/logs_hv60n3rq:v0\n"
     ]
    },
    {
     "name": "stderr",
     "output_type": "stream",
     "text": [
      "\u001b[34m\u001b[1mwandb\u001b[0m:   1 of 1 files downloaded.  \n"
     ]
    },
    {
     "name": "stdout",
     "output_type": "stream",
     "text": [
      "2025-04-22 16:30:18,159 - INFO - Downloaded logs_z93mcfgb:v0 to /scratch/downloaded_artifacts/logs_z93mcfgb:v0\n"
     ]
    },
    {
     "name": "stderr",
     "output_type": "stream",
     "text": [
      "\u001b[34m\u001b[1mwandb\u001b[0m:   1 of 1 files downloaded.  \n"
     ]
    },
    {
     "name": "stdout",
     "output_type": "stream",
     "text": [
      "2025-04-22 16:30:18,168 - INFO - Downloaded logs_jmo2k4tn:v0 to /scratch/downloaded_artifacts/logs_jmo2k4tn:v0\n"
     ]
    },
    {
     "name": "stderr",
     "output_type": "stream",
     "text": [
      "\u001b[34m\u001b[1mwandb\u001b[0m:   1 of 1 files downloaded.  \n"
     ]
    },
    {
     "name": "stdout",
     "output_type": "stream",
     "text": [
      "2025-04-22 16:30:18,174 - INFO - Downloaded logs_gsffhyyt:v0 to /scratch/downloaded_artifacts/logs_gsffhyyt:v0\n"
     ]
    },
    {
     "name": "stderr",
     "output_type": "stream",
     "text": [
      "\u001b[34m\u001b[1mwandb\u001b[0m:   1 of 1 files downloaded.  \n"
     ]
    },
    {
     "name": "stdout",
     "output_type": "stream",
     "text": [
      "2025-04-22 16:30:18,189 - INFO - Downloaded logs_tqd2q3v9:v0 to /scratch/downloaded_artifacts/logs_tqd2q3v9:v0\n"
     ]
    },
    {
     "name": "stderr",
     "output_type": "stream",
     "text": [
      "\u001b[34m\u001b[1mwandb\u001b[0m:   1 of 1 files downloaded.  \n"
     ]
    },
    {
     "name": "stdout",
     "output_type": "stream",
     "text": [
      "2025-04-22 16:30:18,202 - INFO - Downloaded logs_y1rb4m0r:v0 to /scratch/downloaded_artifacts/logs_y1rb4m0r:v0\n"
     ]
    },
    {
     "name": "stderr",
     "output_type": "stream",
     "text": [
      "\u001b[34m\u001b[1mwandb\u001b[0m:   1 of 1 files downloaded.  \n"
     ]
    },
    {
     "name": "stdout",
     "output_type": "stream",
     "text": [
      "2025-04-22 16:30:18,232 - INFO - Downloaded logs_wbfieqqy:v0 to /scratch/downloaded_artifacts/logs_wbfieqqy:v0\n"
     ]
    },
    {
     "name": "stderr",
     "output_type": "stream",
     "text": [
      "\u001b[34m\u001b[1mwandb\u001b[0m:   1 of 1 files downloaded.  \n",
      "\u001b[34m\u001b[1mwandb\u001b[0m:   1 of 1 files downloaded.  \n",
      "\u001b[34m\u001b[1mwandb\u001b[0m:   1 of 1 files downloaded.  \n"
     ]
    },
    {
     "name": "stdout",
     "output_type": "stream",
     "text": [
      "2025-04-22 16:30:18,245 - INFO - Downloaded logs_kdvco6eu:v0 to /scratch/downloaded_artifacts/logs_kdvco6eu:v0\n"
     ]
    },
    {
     "name": "stderr",
     "output_type": "stream",
     "text": [
      "\u001b[34m\u001b[1mwandb\u001b[0m:   1 of 1 files downloaded.  \n"
     ]
    },
    {
     "name": "stdout",
     "output_type": "stream",
     "text": [
      "2025-04-22 16:30:18,247 - INFO - Downloaded logs_5aov61d0:v0 to /scratch/downloaded_artifacts/logs_5aov61d0:v0\n"
     ]
    },
    {
     "name": "stderr",
     "output_type": "stream",
     "text": [
      "\u001b[34m\u001b[1mwandb\u001b[0m:   1 of 1 files downloaded.  \n",
      "\u001b[34m\u001b[1mwandb\u001b[0m:   1 of 1 files downloaded.  \n"
     ]
    },
    {
     "name": "stdout",
     "output_type": "stream",
     "text": [
      "2025-04-22 16:30:18,248 - INFO - Downloaded logs_s0ibwrct:v0 to /scratch/downloaded_artifacts/logs_s0ibwrct:v0\n",
      "2025-04-22 16:30:18,253 - INFO - Downloaded logs_g5etckld:v0 to /scratch/downloaded_artifacts/logs_g5etckld:v0\n"
     ]
    },
    {
     "name": "stderr",
     "output_type": "stream",
     "text": [
      "\u001b[34m\u001b[1mwandb\u001b[0m:   1 of 1 files downloaded.  \n"
     ]
    },
    {
     "name": "stdout",
     "output_type": "stream",
     "text": [
      "2025-04-22 16:30:18,254 - INFO - Downloaded logs_8t53o2kk:v0 to /scratch/downloaded_artifacts/logs_8t53o2kk:v0\n",
      "2025-04-22 16:30:18,255 - INFO - Downloaded logs_lk9mqbik:v0 to /scratch/downloaded_artifacts/logs_lk9mqbik:v0\n",
      "2025-04-22 16:30:18,269 - INFO - Downloaded logs_wapop9s6:v0 to /scratch/downloaded_artifacts/logs_wapop9s6:v0\n"
     ]
    },
    {
     "name": "stderr",
     "output_type": "stream",
     "text": [
      "\u001b[34m\u001b[1mwandb\u001b[0m:   1 of 1 files downloaded.  \n"
     ]
    },
    {
     "name": "stdout",
     "output_type": "stream",
     "text": [
      "2025-04-22 16:30:18,303 - INFO - Downloaded logs_3hzpqgqk:v0 to /scratch/downloaded_artifacts/logs_3hzpqgqk:v0\n"
     ]
    },
    {
     "name": "stderr",
     "output_type": "stream",
     "text": [
      "\u001b[34m\u001b[1mwandb\u001b[0m:   1 of 1 files downloaded.  \n"
     ]
    },
    {
     "name": "stdout",
     "output_type": "stream",
     "text": [
      "2025-04-22 16:30:19,742 - INFO - Downloaded logs_tv4jl75x:v0 to /scratch/downloaded_artifacts/logs_tv4jl75x:v0\n"
     ]
    },
    {
     "name": "stderr",
     "output_type": "stream",
     "text": [
      "\u001b[34m\u001b[1mwandb\u001b[0m:   1 of 1 files downloaded.  \n"
     ]
    },
    {
     "name": "stdout",
     "output_type": "stream",
     "text": [
      "2025-04-22 16:30:19,747 - INFO - Downloaded logs_7ravf8do:v0 to /scratch/downloaded_artifacts/logs_7ravf8do:v0\n"
     ]
    },
    {
     "name": "stderr",
     "output_type": "stream",
     "text": [
      "\u001b[34m\u001b[1mwandb\u001b[0m:   1 of 1 files downloaded.  \n"
     ]
    },
    {
     "name": "stdout",
     "output_type": "stream",
     "text": [
      "2025-04-22 16:30:19,759 - INFO - Downloaded logs_phwxbzrm:v0 to /scratch/downloaded_artifacts/logs_phwxbzrm:v0\n"
     ]
    },
    {
     "name": "stderr",
     "output_type": "stream",
     "text": [
      "\u001b[34m\u001b[1mwandb\u001b[0m:   1 of 1 files downloaded.  \n"
     ]
    },
    {
     "name": "stdout",
     "output_type": "stream",
     "text": [
      "2025-04-22 16:30:19,768 - INFO - Downloaded logs_rhem31fm:v0 to /scratch/downloaded_artifacts/logs_rhem31fm:v0\n"
     ]
    },
    {
     "name": "stderr",
     "output_type": "stream",
     "text": [
      "\u001b[34m\u001b[1mwandb\u001b[0m:   1 of 1 files downloaded.  \n"
     ]
    },
    {
     "name": "stdout",
     "output_type": "stream",
     "text": [
      "2025-04-22 16:30:19,783 - INFO - Downloaded logs_prf675gm:v0 to /scratch/downloaded_artifacts/logs_prf675gm:v0\n"
     ]
    },
    {
     "name": "stderr",
     "output_type": "stream",
     "text": [
      "\u001b[34m\u001b[1mwandb\u001b[0m:   1 of 1 files downloaded.  \n",
      "\u001b[34m\u001b[1mwandb\u001b[0m:   1 of 1 files downloaded.  \n"
     ]
    },
    {
     "name": "stdout",
     "output_type": "stream",
     "text": [
      "2025-04-22 16:30:19,801 - INFO - Downloaded logs_p91n7gb9:v0 to /scratch/downloaded_artifacts/logs_p91n7gb9:v0\n"
     ]
    },
    {
     "name": "stderr",
     "output_type": "stream",
     "text": [
      "\u001b[34m\u001b[1mwandb\u001b[0m:   1 of 1 files downloaded.  \n"
     ]
    },
    {
     "name": "stdout",
     "output_type": "stream",
     "text": [
      "2025-04-22 16:30:19,810 - INFO - Downloaded logs_wjvf24f9:v0 to /scratch/downloaded_artifacts/logs_wjvf24f9:v0\n",
      "2025-04-22 16:30:19,810 - INFO - Downloaded logs_sd2ic2eo:v0 to /scratch/downloaded_artifacts/logs_sd2ic2eo:v0\n"
     ]
    },
    {
     "name": "stderr",
     "output_type": "stream",
     "text": [
      "\u001b[34m\u001b[1mwandb\u001b[0m:   1 of 1 files downloaded.  \n"
     ]
    },
    {
     "name": "stdout",
     "output_type": "stream",
     "text": [
      "2025-04-22 16:30:19,822 - INFO - Downloaded logs_ijeubnhb:v0 to /scratch/downloaded_artifacts/logs_ijeubnhb:v0\n"
     ]
    },
    {
     "name": "stderr",
     "output_type": "stream",
     "text": [
      "\u001b[34m\u001b[1mwandb\u001b[0m:   1 of 1 files downloaded.  \n"
     ]
    },
    {
     "name": "stdout",
     "output_type": "stream",
     "text": [
      "2025-04-22 16:30:19,844 - INFO - Downloaded logs_zvky4bv5:v0 to /scratch/downloaded_artifacts/logs_zvky4bv5:v0\n"
     ]
    },
    {
     "name": "stderr",
     "output_type": "stream",
     "text": [
      "\u001b[34m\u001b[1mwandb\u001b[0m:   1 of 1 files downloaded.  \n"
     ]
    },
    {
     "name": "stdout",
     "output_type": "stream",
     "text": [
      "2025-04-22 16:30:19,848 - INFO - Downloaded logs_pytb3ye0:v0 to /scratch/downloaded_artifacts/logs_pytb3ye0:v0\n"
     ]
    },
    {
     "name": "stderr",
     "output_type": "stream",
     "text": [
      "\u001b[34m\u001b[1mwandb\u001b[0m:   1 of 1 files downloaded.  \n",
      "\u001b[34m\u001b[1mwandb\u001b[0m:   1 of 1 files downloaded.  \n",
      "\u001b[34m\u001b[1mwandb\u001b[0m:   1 of 1 files downloaded.  \n"
     ]
    },
    {
     "name": "stdout",
     "output_type": "stream",
     "text": [
      "2025-04-22 16:30:19,887 - INFO - Downloaded logs_1zc3a1t4:v0 to /scratch/downloaded_artifacts/logs_1zc3a1t4:v0\n"
     ]
    },
    {
     "name": "stderr",
     "output_type": "stream",
     "text": [
      "\u001b[34m\u001b[1mwandb\u001b[0m:   1 of 1 files downloaded.  \n",
      "\u001b[34m\u001b[1mwandb\u001b[0m:   1 of 1 files downloaded.  \n"
     ]
    },
    {
     "name": "stdout",
     "output_type": "stream",
     "text": [
      "2025-04-22 16:30:19,888 - INFO - Downloaded logs_t88fqpiu:v0 to /scratch/downloaded_artifacts/logs_t88fqpiu:v0\n"
     ]
    },
    {
     "name": "stderr",
     "output_type": "stream",
     "text": [
      "\u001b[34m\u001b[1mwandb\u001b[0m:   1 of 1 files downloaded.  \n"
     ]
    },
    {
     "name": "stdout",
     "output_type": "stream",
     "text": [
      "2025-04-22 16:30:19,892 - INFO - Downloaded logs_slef9i5i:v0 to /scratch/downloaded_artifacts/logs_slef9i5i:v0\n"
     ]
    },
    {
     "name": "stderr",
     "output_type": "stream",
     "text": [
      "\u001b[34m\u001b[1mwandb\u001b[0m:   1 of 1 files downloaded.  \n"
     ]
    },
    {
     "name": "stdout",
     "output_type": "stream",
     "text": [
      "2025-04-22 16:30:19,897 - INFO - Downloaded logs_wiqpemzk:v0 to /scratch/downloaded_artifacts/logs_wiqpemzk:v0\n",
      "2025-04-22 16:30:19,900 - INFO - Downloaded logs_41kper60:v0 to /scratch/downloaded_artifacts/logs_41kper60:v0\n",
      "2025-04-22 16:30:19,905 - INFO - Downloaded logs_z9lx3fea:v0 to /scratch/downloaded_artifacts/logs_z9lx3fea:v0\n",
      "2025-04-22 16:30:19,906 - INFO - Downloaded logs_u43u91x7:v0 to /scratch/downloaded_artifacts/logs_u43u91x7:v0\n"
     ]
    },
    {
     "name": "stderr",
     "output_type": "stream",
     "text": [
      "\u001b[34m\u001b[1mwandb\u001b[0m:   1 of 1 files downloaded.  \n"
     ]
    },
    {
     "name": "stdout",
     "output_type": "stream",
     "text": [
      "2025-04-22 16:30:21,409 - INFO - Downloaded logs_auxtdbcu:v0 to /scratch/downloaded_artifacts/logs_auxtdbcu:v0\n"
     ]
    },
    {
     "name": "stderr",
     "output_type": "stream",
     "text": [
      "\u001b[34m\u001b[1mwandb\u001b[0m:   1 of 1 files downloaded.  \n",
      "\u001b[34m\u001b[1mwandb\u001b[0m:   1 of 1 files downloaded.  \n"
     ]
    },
    {
     "name": "stdout",
     "output_type": "stream",
     "text": [
      "2025-04-22 16:30:21,515 - INFO - Downloaded logs_oo29wpon:v0 to /scratch/downloaded_artifacts/logs_oo29wpon:v0\n",
      "2025-04-22 16:30:21,516 - INFO - Downloaded logs_948hui6f:v0 to /scratch/downloaded_artifacts/logs_948hui6f:v0\n"
     ]
    },
    {
     "name": "stderr",
     "output_type": "stream",
     "text": [
      "\u001b[34m\u001b[1mwandb\u001b[0m:   1 of 1 files downloaded.  \n"
     ]
    },
    {
     "name": "stdout",
     "output_type": "stream",
     "text": [
      "2025-04-22 16:30:21,554 - INFO - Downloaded logs_pjck4slz:v0 to /scratch/downloaded_artifacts/logs_pjck4slz:v0\n"
     ]
    },
    {
     "name": "stderr",
     "output_type": "stream",
     "text": [
      "\u001b[34m\u001b[1mwandb\u001b[0m:   1 of 1 files downloaded.  \n"
     ]
    },
    {
     "name": "stdout",
     "output_type": "stream",
     "text": [
      "2025-04-22 16:30:21,558 - INFO - Downloaded logs_8bool6cb:v0 to /scratch/downloaded_artifacts/logs_8bool6cb:v0\n"
     ]
    },
    {
     "name": "stderr",
     "output_type": "stream",
     "text": [
      "\u001b[34m\u001b[1mwandb\u001b[0m:   1 of 1 files downloaded.  \n",
      "\u001b[34m\u001b[1mwandb\u001b[0m:   1 of 1 files downloaded.  \n",
      "\u001b[34m\u001b[1mwandb\u001b[0m:   1 of 1 files downloaded.  \n"
     ]
    },
    {
     "name": "stdout",
     "output_type": "stream",
     "text": [
      "2025-04-22 16:30:21,594 - INFO - Downloaded logs_8gthl0ud:v0 to /scratch/downloaded_artifacts/logs_8gthl0ud:v0\n"
     ]
    },
    {
     "name": "stderr",
     "output_type": "stream",
     "text": [
      "\u001b[34m\u001b[1mwandb\u001b[0m:   1 of 1 files downloaded.  \n",
      "\u001b[34m\u001b[1mwandb\u001b[0m:   1 of 1 files downloaded.  \n"
     ]
    },
    {
     "name": "stdout",
     "output_type": "stream",
     "text": [
      "2025-04-22 16:30:21,601 - INFO - Downloaded logs_bpcab7k4:v0 to /scratch/downloaded_artifacts/logs_bpcab7k4:v0\n",
      "2025-04-22 16:30:21,598 - INFO - Downloaded logs_1p6q6p9a:v0 to /scratch/downloaded_artifacts/logs_1p6q6p9a:v0\n",
      "2025-04-22 16:30:21,597 - INFO - Downloaded logs_offyf7vz:v0 to /scratch/downloaded_artifacts/logs_offyf7vz:v0\n",
      "2025-04-22 16:30:21,605 - INFO - Downloaded logs_l25gedvq:v0 to /scratch/downloaded_artifacts/logs_l25gedvq:v0\n"
     ]
    },
    {
     "name": "stderr",
     "output_type": "stream",
     "text": [
      "\u001b[34m\u001b[1mwandb\u001b[0m:   1 of 1 files downloaded.  \n",
      "\u001b[34m\u001b[1mwandb\u001b[0m:   1 of 1 files downloaded.  \n"
     ]
    },
    {
     "name": "stdout",
     "output_type": "stream",
     "text": [
      "2025-04-22 16:30:21,639 - INFO - Downloaded logs_31qg7vci:v0 to /scratch/downloaded_artifacts/logs_31qg7vci:v0\n"
     ]
    },
    {
     "name": "stderr",
     "output_type": "stream",
     "text": [
      "\u001b[34m\u001b[1mwandb\u001b[0m:   1 of 1 files downloaded.  \n",
      "\u001b[34m\u001b[1mwandb\u001b[0m:   1 of 1 files downloaded.  \n"
     ]
    },
    {
     "name": "stdout",
     "output_type": "stream",
     "text": [
      "2025-04-22 16:30:21,641 - INFO - Downloaded logs_g5zdp5d8:v0 to /scratch/downloaded_artifacts/logs_g5zdp5d8:v0\n"
     ]
    },
    {
     "name": "stderr",
     "output_type": "stream",
     "text": [
      "\u001b[34m\u001b[1mwandb\u001b[0m:   1 of 1 files downloaded.  \n"
     ]
    },
    {
     "name": "stdout",
     "output_type": "stream",
     "text": [
      "2025-04-22 16:30:21,646 - INFO - Downloaded logs_07ky9q48:v0 to /scratch/downloaded_artifacts/logs_07ky9q48:v0\n"
     ]
    },
    {
     "name": "stderr",
     "output_type": "stream",
     "text": [
      "\u001b[34m\u001b[1mwandb\u001b[0m:   1 of 1 files downloaded.  \n"
     ]
    },
    {
     "name": "stdout",
     "output_type": "stream",
     "text": [
      "2025-04-22 16:30:21,647 - INFO - Downloaded logs_0twzjiy3:v0 to /scratch/downloaded_artifacts/logs_0twzjiy3:v0\n"
     ]
    },
    {
     "name": "stderr",
     "output_type": "stream",
     "text": [
      "\u001b[34m\u001b[1mwandb\u001b[0m:   1 of 1 files downloaded.  \n",
      "\u001b[34m\u001b[1mwandb\u001b[0m:   1 of 1 files downloaded.  \n"
     ]
    },
    {
     "name": "stdout",
     "output_type": "stream",
     "text": [
      "2025-04-22 16:30:21,651 - INFO - Downloaded logs_3u1n6oxs:v0 to /scratch/downloaded_artifacts/logs_3u1n6oxs:v0\n",
      "2025-04-22 16:30:21,652 - INFO - Downloaded logs_6lfkqfky:v0 to /scratch/downloaded_artifacts/logs_6lfkqfky:v0\n",
      "2025-04-22 16:30:21,659 - INFO - Downloaded logs_vx9l492y:v0 to /scratch/downloaded_artifacts/logs_vx9l492y:v0\n",
      "2025-04-22 16:30:21,660 - INFO - Downloaded logs_qt2m4cts:v0 to /scratch/downloaded_artifacts/logs_qt2m4cts:v0\n"
     ]
    },
    {
     "name": "stderr",
     "output_type": "stream",
     "text": [
      "\u001b[34m\u001b[1mwandb\u001b[0m:   1 of 1 files downloaded.  \n",
      "\u001b[34m\u001b[1mwandb\u001b[0m:   1 of 1 files downloaded.  \n"
     ]
    },
    {
     "name": "stdout",
     "output_type": "stream",
     "text": [
      "2025-04-22 16:30:21,670 - INFO - Downloaded logs_2fw92s47:v0 to /scratch/downloaded_artifacts/logs_2fw92s47:v0\n",
      "2025-04-22 16:30:21,672 - INFO - Downloaded logs_qi86fbzr:v0 to /scratch/downloaded_artifacts/logs_qi86fbzr:v0\n"
     ]
    },
    {
     "name": "stderr",
     "output_type": "stream",
     "text": [
      "\u001b[34m\u001b[1mwandb\u001b[0m:   1 of 1 files downloaded.  \n"
     ]
    },
    {
     "name": "stdout",
     "output_type": "stream",
     "text": [
      "2025-04-22 16:30:22,418 - INFO - Downloaded logs_4gdth4mx:v0 to /scratch/downloaded_artifacts/logs_4gdth4mx:v0\n"
     ]
    },
    {
     "name": "stderr",
     "output_type": "stream",
     "text": [
      "\u001b[34m\u001b[1mwandb\u001b[0m:   1 of 1 files downloaded.  \n"
     ]
    },
    {
     "name": "stdout",
     "output_type": "stream",
     "text": [
      "2025-04-22 16:30:22,830 - INFO - Downloaded logs_wuih16fe:v0 to /scratch/downloaded_artifacts/logs_wuih16fe:v0\n"
     ]
    },
    {
     "name": "stderr",
     "output_type": "stream",
     "text": [
      "\u001b[34m\u001b[1mwandb\u001b[0m:   1 of 1 files downloaded.  \n",
      "\u001b[34m\u001b[1mwandb\u001b[0m:   1 of 1 files downloaded.  \n"
     ]
    },
    {
     "name": "stdout",
     "output_type": "stream",
     "text": [
      "2025-04-22 16:30:22,855 - INFO - Downloaded logs_cv0e5dsl:v0 to /scratch/downloaded_artifacts/logs_cv0e5dsl:v0\n",
      "2025-04-22 16:30:22,855 - INFO - Downloaded logs_h2dmxfyx:v0 to /scratch/downloaded_artifacts/logs_h2dmxfyx:v0\n"
     ]
    },
    {
     "name": "stderr",
     "output_type": "stream",
     "text": [
      "\u001b[34m\u001b[1mwandb\u001b[0m:   1 of 1 files downloaded.  \n"
     ]
    },
    {
     "name": "stdout",
     "output_type": "stream",
     "text": [
      "2025-04-22 16:30:22,881 - INFO - Downloaded logs_l9u7g4rj:v0 to /scratch/downloaded_artifacts/logs_l9u7g4rj:v0\n"
     ]
    },
    {
     "name": "stderr",
     "output_type": "stream",
     "text": [
      "\u001b[34m\u001b[1mwandb\u001b[0m:   1 of 1 files downloaded.  \n",
      "\u001b[34m\u001b[1mwandb\u001b[0m:   1 of 1 files downloaded.  \n"
     ]
    },
    {
     "name": "stdout",
     "output_type": "stream",
     "text": [
      "2025-04-22 16:30:22,892 - INFO - Downloaded logs_11k2em1q:v0 to /scratch/downloaded_artifacts/logs_11k2em1q:v0\n"
     ]
    },
    {
     "name": "stderr",
     "output_type": "stream",
     "text": [
      "\u001b[34m\u001b[1mwandb\u001b[0m:   1 of 1 files downloaded.  \n"
     ]
    },
    {
     "name": "stdout",
     "output_type": "stream",
     "text": [
      "2025-04-22 16:30:22,894 - INFO - Downloaded logs_y6q6syak:v0 to /scratch/downloaded_artifacts/logs_y6q6syak:v0\n"
     ]
    },
    {
     "name": "stderr",
     "output_type": "stream",
     "text": [
      "\u001b[34m\u001b[1mwandb\u001b[0m:   1 of 1 files downloaded.  \n",
      "\u001b[34m\u001b[1mwandb\u001b[0m:   1 of 1 files downloaded.  \n"
     ]
    },
    {
     "name": "stdout",
     "output_type": "stream",
     "text": [
      "2025-04-22 16:30:22,894 - INFO - Downloaded logs_ablkit0t:v0 to /scratch/downloaded_artifacts/logs_ablkit0t:v0\n",
      "2025-04-22 16:30:22,899 - INFO - Downloaded logs_5p411gz3:v0 to /scratch/downloaded_artifacts/logs_5p411gz3:v0\n",
      "2025-04-22 16:30:22,900 - INFO - Downloaded logs_by822dyd:v0 to /scratch/downloaded_artifacts/logs_by822dyd:v0\n"
     ]
    },
    {
     "name": "stderr",
     "output_type": "stream",
     "text": [
      "\u001b[34m\u001b[1mwandb\u001b[0m:   1 of 1 files downloaded.  \n"
     ]
    },
    {
     "name": "stdout",
     "output_type": "stream",
     "text": [
      "2025-04-22 16:30:22,930 - INFO - Downloaded logs_k84xs3bn:v0 to /scratch/downloaded_artifacts/logs_k84xs3bn:v0\n"
     ]
    },
    {
     "name": "stderr",
     "output_type": "stream",
     "text": [
      "\u001b[34m\u001b[1mwandb\u001b[0m:   1 of 1 files downloaded.  \n"
     ]
    },
    {
     "name": "stdout",
     "output_type": "stream",
     "text": [
      "2025-04-22 16:30:22,959 - INFO - Downloaded logs_ovc6gorl:v0 to /scratch/downloaded_artifacts/logs_ovc6gorl:v0\n"
     ]
    },
    {
     "name": "stderr",
     "output_type": "stream",
     "text": [
      "\u001b[34m\u001b[1mwandb\u001b[0m:   1 of 1 files downloaded.  \n",
      "\u001b[34m\u001b[1mwandb\u001b[0m:   1 of 1 files downloaded.  \n"
     ]
    },
    {
     "name": "stdout",
     "output_type": "stream",
     "text": [
      "2025-04-22 16:30:24,079 - INFO - Downloaded logs_a05lewcw:v0 to /scratch/downloaded_artifacts/logs_a05lewcw:v0\n"
     ]
    },
    {
     "name": "stderr",
     "output_type": "stream",
     "text": [
      "\u001b[34m\u001b[1mwandb\u001b[0m:   1 of 1 files downloaded.  \n",
      "\u001b[34m\u001b[1mwandb\u001b[0m:   1 of 1 files downloaded.  \n"
     ]
    },
    {
     "name": "stdout",
     "output_type": "stream",
     "text": [
      "2025-04-22 16:30:24,083 - INFO - Downloaded logs_enlkq5qz:v0 to /scratch/downloaded_artifacts/logs_enlkq5qz:v0\n"
     ]
    },
    {
     "name": "stderr",
     "output_type": "stream",
     "text": [
      "\u001b[34m\u001b[1mwandb\u001b[0m:   1 of 1 files downloaded.  \n"
     ]
    },
    {
     "name": "stdout",
     "output_type": "stream",
     "text": [
      "2025-04-22 16:30:24,083 - INFO - Downloaded logs_hnlv254o:v0 to /scratch/downloaded_artifacts/logs_hnlv254o:v0\n",
      "2025-04-22 16:30:24,087 - INFO - Downloaded logs_nz8ky8i5:v0 to /scratch/downloaded_artifacts/logs_nz8ky8i5:v0\n",
      "2025-04-22 16:30:24,087 - INFO - Downloaded logs_xfuiqzac:v0 to /scratch/downloaded_artifacts/logs_xfuiqzac:v0\n"
     ]
    },
    {
     "name": "stderr",
     "output_type": "stream",
     "text": [
      "\u001b[34m\u001b[1mwandb\u001b[0m:   1 of 1 files downloaded.  \n",
      "\u001b[34m\u001b[1mwandb\u001b[0m:   1 of 1 files downloaded.  \n",
      "\u001b[34m\u001b[1mwandb\u001b[0m:   1 of 1 files downloaded.  \n"
     ]
    },
    {
     "name": "stdout",
     "output_type": "stream",
     "text": [
      "2025-04-22 16:30:24,105 - INFO - Downloaded logs_bapsjgbg:v0 to /scratch/downloaded_artifacts/logs_bapsjgbg:v0\n",
      "2025-04-22 16:30:24,105 - INFO - Downloaded logs_pxm39wky:v0 to /scratch/downloaded_artifacts/logs_pxm39wky:v0\n",
      "2025-04-22 16:30:24,108 - INFO - Downloaded logs_t0l1xpms:v0 to /scratch/downloaded_artifacts/logs_t0l1xpms:v0\n"
     ]
    },
    {
     "name": "stderr",
     "output_type": "stream",
     "text": [
      "\u001b[34m\u001b[1mwandb\u001b[0m:   1 of 1 files downloaded.  \n"
     ]
    },
    {
     "name": "stdout",
     "output_type": "stream",
     "text": [
      "2025-04-22 16:30:24,183 - INFO - Downloaded logs_ak9c26ta:v0 to /scratch/downloaded_artifacts/logs_ak9c26ta:v0\n"
     ]
    },
    {
     "name": "stderr",
     "output_type": "stream",
     "text": [
      "\u001b[34m\u001b[1mwandb\u001b[0m:   1 of 1 files downloaded.  \n"
     ]
    },
    {
     "name": "stdout",
     "output_type": "stream",
     "text": [
      "2025-04-22 16:30:24,379 - INFO - Downloaded logs_ggzir1jp:v0 to /scratch/downloaded_artifacts/logs_ggzir1jp:v0\n"
     ]
    },
    {
     "name": "stderr",
     "output_type": "stream",
     "text": [
      "\u001b[34m\u001b[1mwandb\u001b[0m:   1 of 1 files downloaded.  \n"
     ]
    },
    {
     "name": "stdout",
     "output_type": "stream",
     "text": [
      "2025-04-22 16:30:24,513 - INFO - Downloaded logs_q4iluhh1:v0 to /scratch/downloaded_artifacts/logs_q4iluhh1:v0\n"
     ]
    },
    {
     "name": "stderr",
     "output_type": "stream",
     "text": [
      "\u001b[34m\u001b[1mwandb\u001b[0m:   1 of 1 files downloaded.  \n"
     ]
    },
    {
     "name": "stdout",
     "output_type": "stream",
     "text": [
      "2025-04-22 16:30:24,519 - INFO - Downloaded logs_zyd6npw2:v0 to /scratch/downloaded_artifacts/logs_zyd6npw2:v0\n"
     ]
    },
    {
     "name": "stderr",
     "output_type": "stream",
     "text": [
      "\u001b[34m\u001b[1mwandb\u001b[0m:   1 of 1 files downloaded.  \n",
      "\u001b[34m\u001b[1mwandb\u001b[0m:   1 of 1 files downloaded.  \n"
     ]
    },
    {
     "name": "stdout",
     "output_type": "stream",
     "text": [
      "2025-04-22 16:30:24,522 - INFO - Downloaded logs_ox0bu1t4:v0 to /scratch/downloaded_artifacts/logs_ox0bu1t4:v0\n",
      "2025-04-22 16:30:24,523 - INFO - Downloaded logs_h5v7x5li:v0 to /scratch/downloaded_artifacts/logs_h5v7x5li:v0\n"
     ]
    },
    {
     "name": "stderr",
     "output_type": "stream",
     "text": [
      "\u001b[34m\u001b[1mwandb\u001b[0m:   1 of 1 files downloaded.  \n"
     ]
    },
    {
     "name": "stdout",
     "output_type": "stream",
     "text": [
      "2025-04-22 16:30:24,604 - INFO - Downloaded logs_adnuoo8b:v0 to /scratch/downloaded_artifacts/logs_adnuoo8b:v0\n"
     ]
    },
    {
     "name": "stderr",
     "output_type": "stream",
     "text": [
      "\u001b[34m\u001b[1mwandb\u001b[0m:   1 of 1 files downloaded.  \n"
     ]
    },
    {
     "name": "stdout",
     "output_type": "stream",
     "text": [
      "2025-04-22 16:30:24,607 - INFO - Downloaded logs_cvmjngsk:v0 to /scratch/downloaded_artifacts/logs_cvmjngsk:v0\n"
     ]
    },
    {
     "name": "stderr",
     "output_type": "stream",
     "text": [
      "\u001b[34m\u001b[1mwandb\u001b[0m:   1 of 1 files downloaded.  \n",
      "\u001b[34m\u001b[1mwandb\u001b[0m:   1 of 1 files downloaded.  \n"
     ]
    },
    {
     "name": "stdout",
     "output_type": "stream",
     "text": [
      "2025-04-22 16:30:24,724 - INFO - Downloaded logs_lqhtg26w:v0 to /scratch/downloaded_artifacts/logs_lqhtg26w:v0\n",
      "2025-04-22 16:30:24,725 - INFO - Downloaded logs_04tt1ivs:v0 to /scratch/downloaded_artifacts/logs_04tt1ivs:v0\n"
     ]
    },
    {
     "name": "stderr",
     "output_type": "stream",
     "text": [
      "\u001b[34m\u001b[1mwandb\u001b[0m:   1 of 1 files downloaded.  \n"
     ]
    },
    {
     "name": "stdout",
     "output_type": "stream",
     "text": [
      "2025-04-22 16:30:25,314 - INFO - Downloaded logs_kfqrgnqj:v0 to /scratch/downloaded_artifacts/logs_kfqrgnqj:v0\n"
     ]
    },
    {
     "name": "stderr",
     "output_type": "stream",
     "text": [
      "\u001b[34m\u001b[1mwandb\u001b[0m:   1 of 1 files downloaded.  \n"
     ]
    },
    {
     "name": "stdout",
     "output_type": "stream",
     "text": [
      "2025-04-22 16:30:25,324 - INFO - Downloaded logs_knz9uj2p:v0 to /scratch/downloaded_artifacts/logs_knz9uj2p:v0\n"
     ]
    },
    {
     "name": "stderr",
     "output_type": "stream",
     "text": [
      "\u001b[34m\u001b[1mwandb\u001b[0m:   1 of 1 files downloaded.  \n",
      "\u001b[34m\u001b[1mwandb\u001b[0m:   1 of 1 files downloaded.  \n",
      "\u001b[34m\u001b[1mwandb\u001b[0m:   1 of 1 files downloaded.  \n"
     ]
    },
    {
     "name": "stdout",
     "output_type": "stream",
     "text": [
      "2025-04-22 16:30:25,354 - INFO - Downloaded logs_efank9zr:v0 to /scratch/downloaded_artifacts/logs_efank9zr:v0\n",
      "2025-04-22 16:30:25,356 - INFO - Downloaded logs_hgu7g1f8:v0 to /scratch/downloaded_artifacts/logs_hgu7g1f8:v0\n",
      "2025-04-22 16:30:25,358 - INFO - Downloaded logs_7kqvn93t:v0 to /scratch/downloaded_artifacts/logs_7kqvn93t:v0\n"
     ]
    },
    {
     "name": "stderr",
     "output_type": "stream",
     "text": [
      "\u001b[34m\u001b[1mwandb\u001b[0m:   1 of 1 files downloaded.  \n",
      "\u001b[34m\u001b[1mwandb\u001b[0m:   1 of 1 files downloaded.  \n"
     ]
    },
    {
     "name": "stdout",
     "output_type": "stream",
     "text": [
      "2025-04-22 16:30:25,363 - INFO - Downloaded logs_di6xnn41:v0 to /scratch/downloaded_artifacts/logs_di6xnn41:v0\n",
      "2025-04-22 16:30:25,364 - INFO - Downloaded logs_7ea7yish:v0 to /scratch/downloaded_artifacts/logs_7ea7yish:v0\n"
     ]
    },
    {
     "name": "stderr",
     "output_type": "stream",
     "text": [
      "\u001b[34m\u001b[1mwandb\u001b[0m:   1 of 1 files downloaded.  \n",
      "\u001b[34m\u001b[1mwandb\u001b[0m:   1 of 1 files downloaded.  \n"
     ]
    },
    {
     "name": "stdout",
     "output_type": "stream",
     "text": [
      "2025-04-22 16:30:25,388 - INFO - Downloaded logs_je3izke2:v0 to /scratch/downloaded_artifacts/logs_je3izke2:v0\n",
      "2025-04-22 16:30:25,389 - INFO - Downloaded logs_sq3wqn7i:v0 to /scratch/downloaded_artifacts/logs_sq3wqn7i:v0\n"
     ]
    },
    {
     "name": "stderr",
     "output_type": "stream",
     "text": [
      "\u001b[34m\u001b[1mwandb\u001b[0m:   1 of 1 files downloaded.  \n"
     ]
    },
    {
     "name": "stdout",
     "output_type": "stream",
     "text": [
      "2025-04-22 16:30:25,393 - INFO - Downloaded logs_9vz2069c:v0 to /scratch/downloaded_artifacts/logs_9vz2069c:v0\n"
     ]
    },
    {
     "name": "stderr",
     "output_type": "stream",
     "text": [
      "\u001b[34m\u001b[1mwandb\u001b[0m:   1 of 1 files downloaded.  \n"
     ]
    },
    {
     "name": "stdout",
     "output_type": "stream",
     "text": [
      "2025-04-22 16:30:25,399 - INFO - Downloaded logs_4p9jjj8k:v0 to /scratch/downloaded_artifacts/logs_4p9jjj8k:v0\n"
     ]
    },
    {
     "name": "stderr",
     "output_type": "stream",
     "text": [
      "\u001b[34m\u001b[1mwandb\u001b[0m:   1 of 1 files downloaded.  \n"
     ]
    },
    {
     "name": "stdout",
     "output_type": "stream",
     "text": [
      "2025-04-22 16:30:25,833 - INFO - Downloaded logs_djjvafhf:v0 to /scratch/downloaded_artifacts/logs_djjvafhf:v0\n"
     ]
    },
    {
     "name": "stderr",
     "output_type": "stream",
     "text": [
      "\u001b[34m\u001b[1mwandb\u001b[0m:   1 of 1 files downloaded.  \n"
     ]
    },
    {
     "name": "stdout",
     "output_type": "stream",
     "text": [
      "2025-04-22 16:30:25,845 - INFO - Downloaded logs_4u7ihgd5:v0 to /scratch/downloaded_artifacts/logs_4u7ihgd5:v0\n"
     ]
    },
    {
     "name": "stderr",
     "output_type": "stream",
     "text": [
      "\u001b[34m\u001b[1mwandb\u001b[0m:   1 of 1 files downloaded.  \n"
     ]
    },
    {
     "name": "stdout",
     "output_type": "stream",
     "text": [
      "2025-04-22 16:30:25,858 - INFO - Downloaded logs_e1jve9kp:v0 to /scratch/downloaded_artifacts/logs_e1jve9kp:v0\n"
     ]
    },
    {
     "name": "stderr",
     "output_type": "stream",
     "text": [
      "\u001b[34m\u001b[1mwandb\u001b[0m:   1 of 1 files downloaded.  \n"
     ]
    },
    {
     "name": "stdout",
     "output_type": "stream",
     "text": [
      "2025-04-22 16:30:25,868 - INFO - Downloaded logs_yyryko7z:v0 to /scratch/downloaded_artifacts/logs_yyryko7z:v0\n"
     ]
    },
    {
     "name": "stderr",
     "output_type": "stream",
     "text": [
      "\u001b[34m\u001b[1mwandb\u001b[0m:   1 of 1 files downloaded.  \n"
     ]
    },
    {
     "name": "stdout",
     "output_type": "stream",
     "text": [
      "2025-04-22 16:30:25,873 - INFO - Downloaded logs_0rcxqt5i:v0 to /scratch/downloaded_artifacts/logs_0rcxqt5i:v0\n"
     ]
    },
    {
     "name": "stderr",
     "output_type": "stream",
     "text": [
      "\u001b[34m\u001b[1mwandb\u001b[0m:   1 of 1 files downloaded.  \n"
     ]
    },
    {
     "name": "stdout",
     "output_type": "stream",
     "text": [
      "2025-04-22 16:30:25,877 - INFO - Downloaded logs_fpix1tn0:v0 to /scratch/downloaded_artifacts/logs_fpix1tn0:v0\n"
     ]
    },
    {
     "name": "stderr",
     "output_type": "stream",
     "text": [
      "\u001b[34m\u001b[1mwandb\u001b[0m:   1 of 1 files downloaded.  \n"
     ]
    },
    {
     "name": "stdout",
     "output_type": "stream",
     "text": [
      "2025-04-22 16:30:25,907 - INFO - Downloaded logs_vzv2f2xp:v0 to /scratch/downloaded_artifacts/logs_vzv2f2xp:v0\n"
     ]
    },
    {
     "name": "stderr",
     "output_type": "stream",
     "text": [
      "\u001b[34m\u001b[1mwandb\u001b[0m: \u001b[32m\u001b[41mERROR\u001b[0m Error while calling W&B API: rate limit exceeded (<Response [429]>)\n",
      "\u001b[34m\u001b[1mwandb\u001b[0m: \u001b[32m\u001b[41mERROR\u001b[0m Error while calling W&B API: rate limit exceeded (<Response [429]>)\n",
      "\u001b[34m\u001b[1mwandb\u001b[0m: \u001b[32m\u001b[41mERROR\u001b[0m Error while calling W&B API: rate limit exceeded (<Response [429]>)\n",
      "\u001b[34m\u001b[1mwandb\u001b[0m: \u001b[32m\u001b[41mERROR\u001b[0m Error while calling W&B API: rate limit exceeded (<Response [429]>)\n",
      "\u001b[34m\u001b[1mwandb\u001b[0m: \u001b[32m\u001b[41mERROR\u001b[0m Error while calling W&B API: rate limit exceeded (<Response [429]>)\n",
      "\u001b[34m\u001b[1mwandb\u001b[0m: \u001b[32m\u001b[41mERROR\u001b[0m Error while calling W&B API: rate limit exceeded (<Response [429]>)\n",
      "\u001b[34m\u001b[1mwandb\u001b[0m: \u001b[32m\u001b[41mERROR\u001b[0m Error while calling W&B API: rate limit exceeded (<Response [429]>)\n",
      "\u001b[34m\u001b[1mwandb\u001b[0m: \u001b[32m\u001b[41mERROR\u001b[0m Error while calling W&B API: rate limit exceeded (<Response [429]>)\n",
      "\u001b[34m\u001b[1mwandb\u001b[0m: \u001b[32m\u001b[41mERROR\u001b[0m Error while calling W&B API: rate limit exceeded (<Response [429]>)\n",
      "\u001b[34m\u001b[1mwandb\u001b[0m: \u001b[32m\u001b[41mERROR\u001b[0m Error while calling W&B API: rate limit exceeded (<Response [429]>)\n",
      "\u001b[34m\u001b[1mwandb\u001b[0m: \u001b[32m\u001b[41mERROR\u001b[0m Error while calling W&B API: rate limit exceeded (<Response [429]>)\n",
      "\u001b[34m\u001b[1mwandb\u001b[0m: \u001b[32m\u001b[41mERROR\u001b[0m Error while calling W&B API: rate limit exceeded (<Response [429]>)\n",
      "\u001b[34m\u001b[1mwandb\u001b[0m: \u001b[32m\u001b[41mERROR\u001b[0m Error while calling W&B API: rate limit exceeded (<Response [429]>)\n",
      "\u001b[34m\u001b[1mwandb\u001b[0m: \u001b[32m\u001b[41mERROR\u001b[0m Error while calling W&B API: rate limit exceeded (<Response [429]>)\n",
      "\u001b[34m\u001b[1mwandb\u001b[0m: \u001b[32m\u001b[41mERROR\u001b[0m Error while calling W&B API: rate limit exceeded (<Response [429]>)\n",
      "\u001b[34m\u001b[1mwandb\u001b[0m:   1 of 1 files downloaded.  \n"
     ]
    },
    {
     "name": "stdout",
     "output_type": "stream",
     "text": [
      "2025-04-22 16:30:26,198 - INFO - Downloaded logs_wmfkusmc:v0 to /scratch/downloaded_artifacts/logs_wmfkusmc:v0\n"
     ]
    },
    {
     "name": "stderr",
     "output_type": "stream",
     "text": [
      "\u001b[34m\u001b[1mwandb\u001b[0m:   1 of 1 files downloaded.  \n"
     ]
    },
    {
     "name": "stdout",
     "output_type": "stream",
     "text": [
      "2025-04-22 16:30:26,228 - INFO - Downloaded logs_lddxpjgv:v0 to /scratch/downloaded_artifacts/logs_lddxpjgv:v0\n"
     ]
    },
    {
     "name": "stderr",
     "output_type": "stream",
     "text": [
      "\u001b[34m\u001b[1mwandb\u001b[0m:   1 of 1 files downloaded.  \n"
     ]
    },
    {
     "name": "stdout",
     "output_type": "stream",
     "text": [
      "2025-04-22 16:30:26,418 - INFO - Downloaded logs_yzryij6u:v0 to /scratch/downloaded_artifacts/logs_yzryij6u:v0\n"
     ]
    },
    {
     "name": "stderr",
     "output_type": "stream",
     "text": [
      "\u001b[34m\u001b[1mwandb\u001b[0m: \u001b[32m\u001b[41mERROR\u001b[0m Error while calling W&B API: rate limit exceeded (<Response [429]>)\n",
      "\u001b[34m\u001b[1mwandb\u001b[0m: \u001b[32m\u001b[41mERROR\u001b[0m Error while calling W&B API: rate limit exceeded (<Response [429]>)\n",
      "\u001b[34m\u001b[1mwandb\u001b[0m: \u001b[32m\u001b[41mERROR\u001b[0m Error while calling W&B API: rate limit exceeded (<Response [429]>)\n",
      "\u001b[34m\u001b[1mwandb\u001b[0m: \u001b[32m\u001b[41mERROR\u001b[0m Error while calling W&B API: rate limit exceeded (<Response [429]>)\n",
      "\u001b[34m\u001b[1mwandb\u001b[0m: \u001b[32m\u001b[41mERROR\u001b[0m Error while calling W&B API: rate limit exceeded (<Response [429]>)\n",
      "\u001b[34m\u001b[1mwandb\u001b[0m: \u001b[32m\u001b[41mERROR\u001b[0m Error while calling W&B API: rate limit exceeded (<Response [429]>)\n",
      "\u001b[34m\u001b[1mwandb\u001b[0m: \u001b[32m\u001b[41mERROR\u001b[0m Error while calling W&B API: rate limit exceeded (<Response [429]>)\n",
      "\u001b[34m\u001b[1mwandb\u001b[0m: \u001b[32m\u001b[41mERROR\u001b[0m Error while calling W&B API: rate limit exceeded (<Response [429]>)\n",
      "\u001b[34m\u001b[1mwandb\u001b[0m: \u001b[32m\u001b[41mERROR\u001b[0m Error while calling W&B API: rate limit exceeded (<Response [429]>)\n",
      "\u001b[34m\u001b[1mwandb\u001b[0m: \u001b[32m\u001b[41mERROR\u001b[0m Error while calling W&B API: rate limit exceeded (<Response [429]>)\n",
      "\u001b[34m\u001b[1mwandb\u001b[0m: \u001b[32m\u001b[41mERROR\u001b[0m Error while calling W&B API: rate limit exceeded (<Response [429]>)\n",
      "\u001b[34m\u001b[1mwandb\u001b[0m: \u001b[32m\u001b[41mERROR\u001b[0m Error while calling W&B API: rate limit exceeded (<Response [429]>)\n",
      "\u001b[34m\u001b[1mwandb\u001b[0m: \u001b[32m\u001b[41mERROR\u001b[0m Error while calling W&B API: rate limit exceeded (<Response [429]>)\n",
      "\u001b[34m\u001b[1mwandb\u001b[0m: \u001b[32m\u001b[41mERROR\u001b[0m Error while calling W&B API: rate limit exceeded (<Response [429]>)\n",
      "\u001b[34m\u001b[1mwandb\u001b[0m: \u001b[32m\u001b[41mERROR\u001b[0m Error while calling W&B API: rate limit exceeded (<Response [429]>)\n",
      "\u001b[34m\u001b[1mwandb\u001b[0m: \u001b[32m\u001b[41mERROR\u001b[0m Error while calling W&B API: rate limit exceeded (<Response [429]>)\n",
      "\u001b[34m\u001b[1mwandb\u001b[0m: Network error (HTTPError), entering retry loop.\n",
      "\u001b[34m\u001b[1mwandb\u001b[0m: \u001b[32m\u001b[41mERROR\u001b[0m Error while calling W&B API: rate limit exceeded (<Response [429]>)\n",
      "\u001b[34m\u001b[1mwandb\u001b[0m: Network error (HTTPError), entering retry loop.\n",
      "\u001b[34m\u001b[1mwandb\u001b[0m: \u001b[32m\u001b[41mERROR\u001b[0m Error while calling W&B API: rate limit exceeded (<Response [429]>)\n",
      "\u001b[34m\u001b[1mwandb\u001b[0m: Network error (HTTPError), entering retry loop.\n",
      "\u001b[34m\u001b[1mwandb\u001b[0m: \u001b[32m\u001b[41mERROR\u001b[0m Error while calling W&B API: rate limit exceeded (<Response [429]>)\n",
      "\u001b[34m\u001b[1mwandb\u001b[0m: Network error (HTTPError), entering retry loop.\n",
      "\u001b[34m\u001b[1mwandb\u001b[0m: \u001b[32m\u001b[41mERROR\u001b[0m Error while calling W&B API: rate limit exceeded (<Response [429]>)\n",
      "\u001b[34m\u001b[1mwandb\u001b[0m: Network error (HTTPError), entering retry loop.\n",
      "\u001b[34m\u001b[1mwandb\u001b[0m: \u001b[32m\u001b[41mERROR\u001b[0m Error while calling W&B API: rate limit exceeded (<Response [429]>)\n",
      "\u001b[34m\u001b[1mwandb\u001b[0m: Network error (HTTPError), entering retry loop.\n",
      "\u001b[34m\u001b[1mwandb\u001b[0m: \u001b[32m\u001b[41mERROR\u001b[0m Error while calling W&B API: rate limit exceeded (<Response [429]>)\n",
      "\u001b[34m\u001b[1mwandb\u001b[0m: Network error (HTTPError), entering retry loop.\n",
      "\u001b[34m\u001b[1mwandb\u001b[0m: \u001b[32m\u001b[41mERROR\u001b[0m Error while calling W&B API: rate limit exceeded (<Response [429]>)\n",
      "\u001b[34m\u001b[1mwandb\u001b[0m: Network error (HTTPError), entering retry loop.\n",
      "\u001b[34m\u001b[1mwandb\u001b[0m: \u001b[32m\u001b[41mERROR\u001b[0m Error while calling W&B API: rate limit exceeded (<Response [429]>)\n",
      "\u001b[34m\u001b[1mwandb\u001b[0m: Network error (HTTPError), entering retry loop.\n",
      "\u001b[34m\u001b[1mwandb\u001b[0m: \u001b[32m\u001b[41mERROR\u001b[0m Error while calling W&B API: rate limit exceeded (<Response [429]>)\n",
      "\u001b[34m\u001b[1mwandb\u001b[0m: Network error (HTTPError), entering retry loop.\n",
      "\u001b[34m\u001b[1mwandb\u001b[0m: \u001b[32m\u001b[41mERROR\u001b[0m Error while calling W&B API: rate limit exceeded (<Response [429]>)\n",
      "\u001b[34m\u001b[1mwandb\u001b[0m: Network error (HTTPError), entering retry loop.\n",
      "\u001b[34m\u001b[1mwandb\u001b[0m: \u001b[32m\u001b[41mERROR\u001b[0m Error while calling W&B API: rate limit exceeded (<Response [429]>)\n",
      "\u001b[34m\u001b[1mwandb\u001b[0m: Network error (HTTPError), entering retry loop.\n",
      "\u001b[34m\u001b[1mwandb\u001b[0m: \u001b[32m\u001b[41mERROR\u001b[0m Error while calling W&B API: rate limit exceeded (<Response [429]>)\n",
      "\u001b[34m\u001b[1mwandb\u001b[0m: Network error (HTTPError), entering retry loop.\n",
      "\u001b[34m\u001b[1mwandb\u001b[0m: \u001b[32m\u001b[41mERROR\u001b[0m Error while calling W&B API: rate limit exceeded (<Response [429]>)\n",
      "\u001b[34m\u001b[1mwandb\u001b[0m: Network error (HTTPError), entering retry loop.\n",
      "\u001b[34m\u001b[1mwandb\u001b[0m: \u001b[32m\u001b[41mERROR\u001b[0m Error while calling W&B API: rate limit exceeded (<Response [429]>)\n",
      "\u001b[34m\u001b[1mwandb\u001b[0m: Network error (HTTPError), entering retry loop.\n",
      "\u001b[34m\u001b[1mwandb\u001b[0m:   1 of 1 files downloaded.  \n"
     ]
    },
    {
     "name": "stdout",
     "output_type": "stream",
     "text": [
      "2025-04-22 16:30:34,321 - INFO - Downloaded logs_4gdsjzj9:v0 to /scratch/downloaded_artifacts/logs_4gdsjzj9:v0\n"
     ]
    },
    {
     "name": "stderr",
     "output_type": "stream",
     "text": [
      "\u001b[34m\u001b[1mwandb\u001b[0m:   1 of 1 files downloaded.  \n"
     ]
    },
    {
     "name": "stdout",
     "output_type": "stream",
     "text": [
      "2025-04-22 16:30:34,452 - INFO - Downloaded logs_xubsv0ic:v0 to /scratch/downloaded_artifacts/logs_xubsv0ic:v0\n"
     ]
    },
    {
     "name": "stderr",
     "output_type": "stream",
     "text": [
      "\u001b[34m\u001b[1mwandb\u001b[0m:   1 of 1 files downloaded.  \n"
     ]
    },
    {
     "name": "stdout",
     "output_type": "stream",
     "text": [
      "2025-04-22 16:30:34,561 - INFO - Downloaded logs_z60fg9zy:v0 to /scratch/downloaded_artifacts/logs_z60fg9zy:v0\n"
     ]
    },
    {
     "name": "stderr",
     "output_type": "stream",
     "text": [
      "\u001b[34m\u001b[1mwandb\u001b[0m:   1 of 1 files downloaded.  \n",
      "\u001b[34m\u001b[1mwandb\u001b[0m:   1 of 1 files downloaded.  \n"
     ]
    },
    {
     "name": "stdout",
     "output_type": "stream",
     "text": [
      "2025-04-22 16:30:34,580 - INFO - Downloaded logs_ymldi09d:v0 to /scratch/downloaded_artifacts/logs_ymldi09d:v0\n",
      "2025-04-22 16:30:34,582 - INFO - Downloaded logs_w8ir4eqd:v0 to /scratch/downloaded_artifacts/logs_w8ir4eqd:v0\n"
     ]
    },
    {
     "name": "stderr",
     "output_type": "stream",
     "text": [
      "\u001b[34m\u001b[1mwandb\u001b[0m:   1 of 1 files downloaded.  \n"
     ]
    },
    {
     "name": "stdout",
     "output_type": "stream",
     "text": [
      "2025-04-22 16:30:34,597 - INFO - Downloaded logs_ee8eq2hf:v0 to /scratch/downloaded_artifacts/logs_ee8eq2hf:v0\n"
     ]
    },
    {
     "name": "stderr",
     "output_type": "stream",
     "text": [
      "\u001b[34m\u001b[1mwandb\u001b[0m:   1 of 1 files downloaded.  \n"
     ]
    },
    {
     "name": "stdout",
     "output_type": "stream",
     "text": [
      "2025-04-22 16:30:34,599 - INFO - Downloaded logs_ji907dq6:v0 to /scratch/downloaded_artifacts/logs_ji907dq6:v0\n"
     ]
    },
    {
     "name": "stderr",
     "output_type": "stream",
     "text": [
      "\u001b[34m\u001b[1mwandb\u001b[0m:   1 of 1 files downloaded.  \n"
     ]
    },
    {
     "name": "stdout",
     "output_type": "stream",
     "text": [
      "2025-04-22 16:30:34,904 - INFO - Downloaded logs_psnxm7f1:v0 to /scratch/downloaded_artifacts/logs_psnxm7f1:v0\n"
     ]
    },
    {
     "name": "stderr",
     "output_type": "stream",
     "text": [
      "\u001b[34m\u001b[1mwandb\u001b[0m:   1 of 1 files downloaded.  \n"
     ]
    },
    {
     "name": "stdout",
     "output_type": "stream",
     "text": [
      "2025-04-22 16:30:34,979 - INFO - Downloaded logs_i86bbsbq:v0 to /scratch/downloaded_artifacts/logs_i86bbsbq:v0\n"
     ]
    },
    {
     "name": "stderr",
     "output_type": "stream",
     "text": [
      "\u001b[34m\u001b[1mwandb\u001b[0m:   1 of 1 files downloaded.  \n"
     ]
    },
    {
     "name": "stdout",
     "output_type": "stream",
     "text": [
      "2025-04-22 16:30:34,986 - INFO - Downloaded logs_losz9wj9:v0 to /scratch/downloaded_artifacts/logs_losz9wj9:v0\n"
     ]
    },
    {
     "name": "stderr",
     "output_type": "stream",
     "text": [
      "\u001b[34m\u001b[1mwandb\u001b[0m:   1 of 1 files downloaded.  \n"
     ]
    },
    {
     "name": "stdout",
     "output_type": "stream",
     "text": [
      "2025-04-22 16:30:34,994 - INFO - Downloaded logs_v5zmi975:v0 to /scratch/downloaded_artifacts/logs_v5zmi975:v0\n"
     ]
    },
    {
     "name": "stderr",
     "output_type": "stream",
     "text": [
      "\u001b[34m\u001b[1mwandb\u001b[0m:   1 of 1 files downloaded.  \n"
     ]
    },
    {
     "name": "stdout",
     "output_type": "stream",
     "text": [
      "2025-04-22 16:30:35,014 - INFO - Downloaded logs_exm3hqlw:v0 to /scratch/downloaded_artifacts/logs_exm3hqlw:v0\n"
     ]
    },
    {
     "name": "stderr",
     "output_type": "stream",
     "text": [
      "\u001b[34m\u001b[1mwandb\u001b[0m:   1 of 1 files downloaded.  \n"
     ]
    },
    {
     "name": "stdout",
     "output_type": "stream",
     "text": [
      "2025-04-22 16:30:35,773 - INFO - Downloaded logs_7wz1qxon:v0 to /scratch/downloaded_artifacts/logs_7wz1qxon:v0\n"
     ]
    },
    {
     "name": "stderr",
     "output_type": "stream",
     "text": [
      "\u001b[34m\u001b[1mwandb\u001b[0m:   1 of 1 files downloaded.  \n"
     ]
    },
    {
     "name": "stdout",
     "output_type": "stream",
     "text": [
      "2025-04-22 16:30:35,918 - INFO - Downloaded logs_x0g0smxf:v0 to /scratch/downloaded_artifacts/logs_x0g0smxf:v0\n"
     ]
    },
    {
     "name": "stderr",
     "output_type": "stream",
     "text": [
      "\u001b[34m\u001b[1mwandb\u001b[0m:   1 of 1 files downloaded.  \n"
     ]
    },
    {
     "name": "stdout",
     "output_type": "stream",
     "text": [
      "2025-04-22 16:30:36,030 - INFO - Downloaded logs_mweypytv:v0 to /scratch/downloaded_artifacts/logs_mweypytv:v0\n"
     ]
    },
    {
     "name": "stderr",
     "output_type": "stream",
     "text": [
      "\u001b[34m\u001b[1mwandb\u001b[0m:   1 of 1 files downloaded.  \n"
     ]
    },
    {
     "name": "stdout",
     "output_type": "stream",
     "text": [
      "2025-04-22 16:30:36,261 - INFO - Downloaded logs_kzh9628m:v0 to /scratch/downloaded_artifacts/logs_kzh9628m:v0\n"
     ]
    },
    {
     "name": "stderr",
     "output_type": "stream",
     "text": [
      "\u001b[34m\u001b[1mwandb\u001b[0m:   1 of 1 files downloaded.  \n",
      "\u001b[34m\u001b[1mwandb\u001b[0m:   1 of 1 files downloaded.  \n"
     ]
    },
    {
     "name": "stdout",
     "output_type": "stream",
     "text": [
      "2025-04-22 16:30:36,278 - INFO - Downloaded logs_drf92863:v0 to /scratch/downloaded_artifacts/logs_drf92863:v0\n"
     ]
    },
    {
     "name": "stderr",
     "output_type": "stream",
     "text": [
      "\u001b[34m\u001b[1mwandb\u001b[0m:   1 of 1 files downloaded.  \n"
     ]
    },
    {
     "name": "stdout",
     "output_type": "stream",
     "text": [
      "2025-04-22 16:30:36,284 - INFO - Downloaded logs_gzv3ze40:v0 to /scratch/downloaded_artifacts/logs_gzv3ze40:v0\n",
      "2025-04-22 16:30:36,285 - INFO - Downloaded logs_elq6pnkn:v0 to /scratch/downloaded_artifacts/logs_elq6pnkn:v0\n"
     ]
    },
    {
     "name": "stderr",
     "output_type": "stream",
     "text": [
      "\u001b[34m\u001b[1mwandb\u001b[0m:   1 of 1 files downloaded.  \n",
      "\u001b[34m\u001b[1mwandb\u001b[0m:   1 of 1 files downloaded.  \n",
      "\u001b[34m\u001b[1mwandb\u001b[0m:   1 of 1 files downloaded.  \n"
     ]
    },
    {
     "name": "stdout",
     "output_type": "stream",
     "text": [
      "2025-04-22 16:30:36,411 - INFO - Downloaded logs_wb4fflnb:v0 to /scratch/downloaded_artifacts/logs_wb4fflnb:v0\n",
      "2025-04-22 16:30:36,411 - INFO - Downloaded logs_sf66g0st:v0 to /scratch/downloaded_artifacts/logs_sf66g0st:v0\n"
     ]
    },
    {
     "name": "stderr",
     "output_type": "stream",
     "text": [
      "\u001b[34m\u001b[1mwandb\u001b[0m:   1 of 1 files downloaded.  \n"
     ]
    },
    {
     "name": "stdout",
     "output_type": "stream",
     "text": [
      "2025-04-22 16:30:36,420 - INFO - Downloaded logs_vtvwckco:v0 to /scratch/downloaded_artifacts/logs_vtvwckco:v0\n"
     ]
    },
    {
     "name": "stderr",
     "output_type": "stream",
     "text": [
      "\u001b[34m\u001b[1mwandb\u001b[0m:   1 of 1 files downloaded.  \n"
     ]
    },
    {
     "name": "stdout",
     "output_type": "stream",
     "text": [
      "2025-04-22 16:30:36,421 - INFO - Downloaded logs_08e3ctrx:v0 to /scratch/downloaded_artifacts/logs_08e3ctrx:v0\n"
     ]
    },
    {
     "name": "stderr",
     "output_type": "stream",
     "text": [
      "\u001b[34m\u001b[1mwandb\u001b[0m:   1 of 1 files downloaded.  \n"
     ]
    },
    {
     "name": "stdout",
     "output_type": "stream",
     "text": [
      "2025-04-22 16:30:36,423 - INFO - Downloaded logs_002fadbj:v0 to /scratch/downloaded_artifacts/logs_002fadbj:v0\n",
      "2025-04-22 16:30:36,425 - INFO - Downloaded logs_6ekaiovn:v0 to /scratch/downloaded_artifacts/logs_6ekaiovn:v0\n"
     ]
    },
    {
     "name": "stderr",
     "output_type": "stream",
     "text": [
      "\u001b[34m\u001b[1mwandb\u001b[0m:   1 of 1 files downloaded.  \n"
     ]
    },
    {
     "name": "stdout",
     "output_type": "stream",
     "text": [
      "2025-04-22 16:30:36,440 - INFO - Downloaded logs_8cfff7l8:v0 to /scratch/downloaded_artifacts/logs_8cfff7l8:v0\n"
     ]
    },
    {
     "name": "stderr",
     "output_type": "stream",
     "text": [
      "\u001b[34m\u001b[1mwandb\u001b[0m:   1 of 1 files downloaded.  \n",
      "\u001b[34m\u001b[1mwandb\u001b[0m:   1 of 1 files downloaded.  \n"
     ]
    },
    {
     "name": "stdout",
     "output_type": "stream",
     "text": [
      "2025-04-22 16:30:36,450 - INFO - Downloaded logs_v4uqk4l0:v0 to /scratch/downloaded_artifacts/logs_v4uqk4l0:v0\n",
      "2025-04-22 16:30:36,451 - INFO - Downloaded logs_akkugzog:v0 to /scratch/downloaded_artifacts/logs_akkugzog:v0\n"
     ]
    },
    {
     "name": "stderr",
     "output_type": "stream",
     "text": [
      "\u001b[34m\u001b[1mwandb\u001b[0m:   1 of 1 files downloaded.  \n"
     ]
    },
    {
     "name": "stdout",
     "output_type": "stream",
     "text": [
      "2025-04-22 16:30:36,491 - INFO - Downloaded logs_93avlbrn:v0 to /scratch/downloaded_artifacts/logs_93avlbrn:v0\n"
     ]
    },
    {
     "name": "stderr",
     "output_type": "stream",
     "text": [
      "\u001b[34m\u001b[1mwandb\u001b[0m:   1 of 1 files downloaded.  \n"
     ]
    },
    {
     "name": "stdout",
     "output_type": "stream",
     "text": [
      "2025-04-22 16:30:36,501 - INFO - Downloaded logs_hzzfex3d:v0 to /scratch/downloaded_artifacts/logs_hzzfex3d:v0\n"
     ]
    },
    {
     "name": "stderr",
     "output_type": "stream",
     "text": [
      "\u001b[34m\u001b[1mwandb\u001b[0m:   1 of 1 files downloaded.  \n"
     ]
    },
    {
     "name": "stdout",
     "output_type": "stream",
     "text": [
      "2025-04-22 16:30:36,507 - INFO - Downloaded logs_9skqwpvi:v0 to /scratch/downloaded_artifacts/logs_9skqwpvi:v0\n"
     ]
    },
    {
     "name": "stderr",
     "output_type": "stream",
     "text": [
      "\u001b[34m\u001b[1mwandb\u001b[0m:   1 of 1 files downloaded.  \n"
     ]
    },
    {
     "name": "stdout",
     "output_type": "stream",
     "text": [
      "2025-04-22 16:30:36,953 - INFO - Downloaded logs_p8sg4001:v0 to /scratch/downloaded_artifacts/logs_p8sg4001:v0\n"
     ]
    },
    {
     "name": "stderr",
     "output_type": "stream",
     "text": [
      "\u001b[34m\u001b[1mwandb\u001b[0m:   1 of 1 files downloaded.  \n"
     ]
    },
    {
     "name": "stdout",
     "output_type": "stream",
     "text": [
      "2025-04-22 16:30:36,967 - INFO - Downloaded logs_q3bqliy1:v0 to /scratch/downloaded_artifacts/logs_q3bqliy1:v0\n"
     ]
    },
    {
     "name": "stderr",
     "output_type": "stream",
     "text": [
      "\u001b[34m\u001b[1mwandb\u001b[0m:   1 of 1 files downloaded.  \n"
     ]
    },
    {
     "name": "stdout",
     "output_type": "stream",
     "text": [
      "2025-04-22 16:30:37,021 - INFO - Downloaded logs_3mqxlg6h:v0 to /scratch/downloaded_artifacts/logs_3mqxlg6h:v0\n"
     ]
    },
    {
     "name": "stderr",
     "output_type": "stream",
     "text": [
      "\u001b[34m\u001b[1mwandb\u001b[0m:   1 of 1 files downloaded.  \n"
     ]
    },
    {
     "name": "stdout",
     "output_type": "stream",
     "text": [
      "2025-04-22 16:30:37,788 - INFO - Downloaded logs_td1k2l6q:v0 to /scratch/downloaded_artifacts/logs_td1k2l6q:v0\n"
     ]
    },
    {
     "name": "stderr",
     "output_type": "stream",
     "text": [
      "\u001b[34m\u001b[1mwandb\u001b[0m:   1 of 1 files downloaded.  \n",
      "\u001b[34m\u001b[1mwandb\u001b[0m:   1 of 1 files downloaded.  \n"
     ]
    },
    {
     "name": "stdout",
     "output_type": "stream",
     "text": [
      "2025-04-22 16:30:37,843 - INFO - Downloaded logs_agu2n2u0:v0 to /scratch/downloaded_artifacts/logs_agu2n2u0:v0\n",
      "2025-04-22 16:30:37,843 - INFO - Downloaded logs_19ax6k4j:v0 to /scratch/downloaded_artifacts/logs_19ax6k4j:v0\n"
     ]
    },
    {
     "name": "stderr",
     "output_type": "stream",
     "text": [
      "\u001b[34m\u001b[1mwandb\u001b[0m:   1 of 1 files downloaded.  \n",
      "\u001b[34m\u001b[1mwandb\u001b[0m:   1 of 1 files downloaded.  \n",
      "\u001b[34m\u001b[1mwandb\u001b[0m:   1 of 1 files downloaded.  \n"
     ]
    },
    {
     "name": "stdout",
     "output_type": "stream",
     "text": [
      "2025-04-22 16:30:37,875 - INFO - Downloaded logs_yc373vu5:v0 to /scratch/downloaded_artifacts/logs_yc373vu5:v0\n",
      "2025-04-22 16:30:37,876 - INFO - Downloaded logs_c8mhuuew:v0 to /scratch/downloaded_artifacts/logs_c8mhuuew:v0\n"
     ]
    },
    {
     "name": "stderr",
     "output_type": "stream",
     "text": [
      "\u001b[34m\u001b[1mwandb\u001b[0m:   1 of 1 files downloaded.  \n"
     ]
    },
    {
     "name": "stdout",
     "output_type": "stream",
     "text": [
      "2025-04-22 16:30:37,883 - INFO - Downloaded logs_25dbz9zm:v0 to /scratch/downloaded_artifacts/logs_25dbz9zm:v0\n"
     ]
    },
    {
     "name": "stderr",
     "output_type": "stream",
     "text": [
      "\u001b[34m\u001b[1mwandb\u001b[0m:   1 of 1 files downloaded.  \n"
     ]
    },
    {
     "name": "stdout",
     "output_type": "stream",
     "text": [
      "2025-04-22 16:30:37,888 - INFO - Downloaded logs_0999llyq:v0 to /scratch/downloaded_artifacts/logs_0999llyq:v0\n"
     ]
    },
    {
     "name": "stderr",
     "output_type": "stream",
     "text": [
      "\u001b[34m\u001b[1mwandb\u001b[0m:   1 of 1 files downloaded.  \n",
      "\u001b[34m\u001b[1mwandb\u001b[0m:   1 of 1 files downloaded.  \n"
     ]
    },
    {
     "name": "stdout",
     "output_type": "stream",
     "text": [
      "2025-04-22 16:30:37,892 - INFO - Downloaded logs_ay33vgrk:v0 to /scratch/downloaded_artifacts/logs_ay33vgrk:v0\n",
      "2025-04-22 16:30:37,892 - INFO - Downloaded logs_zneseygh:v0 to /scratch/downloaded_artifacts/logs_zneseygh:v0\n"
     ]
    },
    {
     "name": "stderr",
     "output_type": "stream",
     "text": [
      "\u001b[34m\u001b[1mwandb\u001b[0m:   1 of 1 files downloaded.  \n"
     ]
    },
    {
     "name": "stdout",
     "output_type": "stream",
     "text": [
      "2025-04-22 16:30:37,901 - INFO - Downloaded logs_zy2cbgt9:v0 to /scratch/downloaded_artifacts/logs_zy2cbgt9:v0\n"
     ]
    },
    {
     "name": "stderr",
     "output_type": "stream",
     "text": [
      "\u001b[34m\u001b[1mwandb\u001b[0m:   1 of 1 files downloaded.  \n"
     ]
    },
    {
     "name": "stdout",
     "output_type": "stream",
     "text": [
      "2025-04-22 16:30:37,912 - INFO - Downloaded logs_jz2xakhc:v0 to /scratch/downloaded_artifacts/logs_jz2xakhc:v0\n",
      "2025-04-22 16:30:37,914 - INFO - Downloaded logs_ubkxju1x:v0 to /scratch/downloaded_artifacts/logs_ubkxju1x:v0\n"
     ]
    },
    {
     "name": "stderr",
     "output_type": "stream",
     "text": [
      "\u001b[34m\u001b[1mwandb\u001b[0m:   1 of 1 files downloaded.  \n",
      "\u001b[34m\u001b[1mwandb\u001b[0m:   1 of 1 files downloaded.  \n"
     ]
    },
    {
     "name": "stdout",
     "output_type": "stream",
     "text": [
      "2025-04-22 16:30:37,929 - INFO - Downloaded logs_etrjcp68:v0 to /scratch/downloaded_artifacts/logs_etrjcp68:v0\n",
      "2025-04-22 16:30:37,932 - INFO - Downloaded logs_vr9dexp7:v0 to /scratch/downloaded_artifacts/logs_vr9dexp7:v0\n"
     ]
    },
    {
     "name": "stderr",
     "output_type": "stream",
     "text": [
      "\u001b[34m\u001b[1mwandb\u001b[0m:   1 of 1 files downloaded.  \n"
     ]
    },
    {
     "name": "stdout",
     "output_type": "stream",
     "text": [
      "2025-04-22 16:30:37,956 - INFO - Downloaded logs_x3ugfpv0:v0 to /scratch/downloaded_artifacts/logs_x3ugfpv0:v0\n"
     ]
    },
    {
     "name": "stderr",
     "output_type": "stream",
     "text": [
      "\u001b[34m\u001b[1mwandb\u001b[0m:   1 of 1 files downloaded.  \n"
     ]
    },
    {
     "name": "stdout",
     "output_type": "stream",
     "text": [
      "2025-04-22 16:30:37,966 - INFO - Downloaded logs_xrumm27t:v0 to /scratch/downloaded_artifacts/logs_xrumm27t:v0\n"
     ]
    },
    {
     "name": "stderr",
     "output_type": "stream",
     "text": [
      "\u001b[34m\u001b[1mwandb\u001b[0m:   1 of 1 files downloaded.  \n"
     ]
    },
    {
     "name": "stdout",
     "output_type": "stream",
     "text": [
      "2025-04-22 16:30:38,205 - INFO - Downloaded logs_cfsq6k9d:v0 to /scratch/downloaded_artifacts/logs_cfsq6k9d:v0\n"
     ]
    },
    {
     "name": "stderr",
     "output_type": "stream",
     "text": [
      "\u001b[34m\u001b[1mwandb\u001b[0m:   1 of 1 files downloaded.  \n"
     ]
    },
    {
     "name": "stdout",
     "output_type": "stream",
     "text": [
      "2025-04-22 16:30:38,309 - INFO - Downloaded logs_3h4dekbo:v0 to /scratch/downloaded_artifacts/logs_3h4dekbo:v0\n"
     ]
    },
    {
     "name": "stderr",
     "output_type": "stream",
     "text": [
      "\u001b[34m\u001b[1mwandb\u001b[0m:   1 of 1 files downloaded.  \n"
     ]
    },
    {
     "name": "stdout",
     "output_type": "stream",
     "text": [
      "2025-04-22 16:30:38,475 - INFO - Downloaded logs_612aqys9:v0 to /scratch/downloaded_artifacts/logs_612aqys9:v0\n"
     ]
    },
    {
     "name": "stderr",
     "output_type": "stream",
     "text": [
      "\u001b[34m\u001b[1mwandb\u001b[0m:   1 of 1 files downloaded.  \n",
      "\u001b[34m\u001b[1mwandb\u001b[0m:   1 of 1 files downloaded.  \n"
     ]
    },
    {
     "name": "stdout",
     "output_type": "stream",
     "text": [
      "2025-04-22 16:30:39,143 - INFO - Downloaded logs_ul21suas:v0 to /scratch/downloaded_artifacts/logs_ul21suas:v0\n",
      "2025-04-22 16:30:39,149 - INFO - Downloaded logs_5lp908ou:v0 to /scratch/downloaded_artifacts/logs_5lp908ou:v0\n"
     ]
    },
    {
     "name": "stderr",
     "output_type": "stream",
     "text": [
      "\u001b[34m\u001b[1mwandb\u001b[0m:   1 of 1 files downloaded.  \n"
     ]
    },
    {
     "name": "stdout",
     "output_type": "stream",
     "text": [
      "2025-04-22 16:30:39,154 - INFO - Downloaded logs_88y1bamc:v0 to /scratch/downloaded_artifacts/logs_88y1bamc:v0\n"
     ]
    },
    {
     "name": "stderr",
     "output_type": "stream",
     "text": [
      "\u001b[34m\u001b[1mwandb\u001b[0m:   1 of 1 files downloaded.  \n"
     ]
    },
    {
     "name": "stdout",
     "output_type": "stream",
     "text": [
      "2025-04-22 16:30:39,229 - INFO - Downloaded logs_e9pme0kb:v0 to /scratch/downloaded_artifacts/logs_e9pme0kb:v0\n"
     ]
    },
    {
     "name": "stderr",
     "output_type": "stream",
     "text": [
      "\u001b[34m\u001b[1mwandb\u001b[0m:   1 of 1 files downloaded.  \n"
     ]
    },
    {
     "name": "stdout",
     "output_type": "stream",
     "text": [
      "2025-04-22 16:30:39,246 - INFO - Downloaded logs_mp7i9mhd:v0 to /scratch/downloaded_artifacts/logs_mp7i9mhd:v0\n"
     ]
    },
    {
     "name": "stderr",
     "output_type": "stream",
     "text": [
      "\u001b[34m\u001b[1mwandb\u001b[0m:   1 of 1 files downloaded.  \n",
      "\u001b[34m\u001b[1mwandb\u001b[0m:   1 of 1 files downloaded.  \n"
     ]
    },
    {
     "name": "stdout",
     "output_type": "stream",
     "text": [
      "2025-04-22 16:30:39,270 - INFO - Downloaded logs_g96fx8pt:v0 to /scratch/downloaded_artifacts/logs_g96fx8pt:v0\n",
      "2025-04-22 16:30:39,331 - INFO - Downloaded logs_5rph9fov:v0 to /scratch/downloaded_artifacts/logs_5rph9fov:v0\n"
     ]
    },
    {
     "name": "stderr",
     "output_type": "stream",
     "text": [
      "\u001b[34m\u001b[1mwandb\u001b[0m:   1 of 1 files downloaded.  \n",
      "\u001b[34m\u001b[1mwandb\u001b[0m:   1 of 1 files downloaded.  \n"
     ]
    },
    {
     "name": "stdout",
     "output_type": "stream",
     "text": [
      "2025-04-22 16:30:39,351 - INFO - Downloaded logs_qdnjm40g:v0 to /scratch/downloaded_artifacts/logs_qdnjm40g:v0\n",
      "2025-04-22 16:30:39,352 - INFO - Downloaded logs_lwfwbafa:v0 to /scratch/downloaded_artifacts/logs_lwfwbafa:v0\n"
     ]
    },
    {
     "name": "stderr",
     "output_type": "stream",
     "text": [
      "\u001b[34m\u001b[1mwandb\u001b[0m:   1 of 1 files downloaded.  \n",
      "\u001b[34m\u001b[1mwandb\u001b[0m:   1 of 1 files downloaded.  \n",
      "\u001b[34m\u001b[1mwandb\u001b[0m:   1 of 1 files downloaded.  \n"
     ]
    },
    {
     "name": "stdout",
     "output_type": "stream",
     "text": [
      "2025-04-22 16:30:39,362 - INFO - Downloaded logs_msju4ojo:v0 to /scratch/downloaded_artifacts/logs_msju4ojo:v0\n"
     ]
    },
    {
     "name": "stderr",
     "output_type": "stream",
     "text": [
      "\u001b[34m\u001b[1mwandb\u001b[0m:   1 of 1 files downloaded.  \n"
     ]
    },
    {
     "name": "stdout",
     "output_type": "stream",
     "text": [
      "2025-04-22 16:30:39,363 - INFO - Downloaded logs_ixq9uavy:v0 to /scratch/downloaded_artifacts/logs_ixq9uavy:v0\n",
      "2025-04-22 16:30:39,365 - INFO - Downloaded logs_6jw5covo:v0 to /scratch/downloaded_artifacts/logs_6jw5covo:v0\n",
      "2025-04-22 16:30:39,367 - INFO - Downloaded logs_r4zi4w2a:v0 to /scratch/downloaded_artifacts/logs_r4zi4w2a:v0\n"
     ]
    },
    {
     "name": "stderr",
     "output_type": "stream",
     "text": [
      "\u001b[34m\u001b[1mwandb\u001b[0m:   1 of 1 files downloaded.  \n"
     ]
    },
    {
     "name": "stdout",
     "output_type": "stream",
     "text": [
      "2025-04-22 16:30:39,390 - INFO - Downloaded logs_fg0gwsn6:v0 to /scratch/downloaded_artifacts/logs_fg0gwsn6:v0\n"
     ]
    },
    {
     "name": "stderr",
     "output_type": "stream",
     "text": [
      "\u001b[34m\u001b[1mwandb\u001b[0m:   1 of 1 files downloaded.  \n"
     ]
    },
    {
     "name": "stdout",
     "output_type": "stream",
     "text": [
      "2025-04-22 16:30:39,398 - INFO - Downloaded logs_pm1o8i4x:v0 to /scratch/downloaded_artifacts/logs_pm1o8i4x:v0\n"
     ]
    },
    {
     "name": "stderr",
     "output_type": "stream",
     "text": [
      "\u001b[34m\u001b[1mwandb\u001b[0m:   1 of 1 files downloaded.  \n"
     ]
    },
    {
     "name": "stdout",
     "output_type": "stream",
     "text": [
      "2025-04-22 16:30:39,439 - INFO - Downloaded logs_t2x1bbk1:v0 to /scratch/downloaded_artifacts/logs_t2x1bbk1:v0\n"
     ]
    },
    {
     "name": "stderr",
     "output_type": "stream",
     "text": [
      "\u001b[34m\u001b[1mwandb\u001b[0m:   1 of 1 files downloaded.  \n"
     ]
    },
    {
     "name": "stdout",
     "output_type": "stream",
     "text": [
      "2025-04-22 16:30:39,925 - INFO - Downloaded logs_l3ejzziq:v0 to /scratch/downloaded_artifacts/logs_l3ejzziq:v0\n"
     ]
    },
    {
     "name": "stderr",
     "output_type": "stream",
     "text": [
      "\u001b[34m\u001b[1mwandb\u001b[0m:   1 of 1 files downloaded.  \n"
     ]
    },
    {
     "name": "stdout",
     "output_type": "stream",
     "text": [
      "2025-04-22 16:30:40,317 - INFO - Downloaded logs_0hkyx7ga:v0 to /scratch/downloaded_artifacts/logs_0hkyx7ga:v0\n"
     ]
    },
    {
     "name": "stderr",
     "output_type": "stream",
     "text": [
      "\u001b[34m\u001b[1mwandb\u001b[0m:   1 of 1 files downloaded.  \n"
     ]
    },
    {
     "name": "stdout",
     "output_type": "stream",
     "text": [
      "2025-04-22 16:30:40,506 - INFO - Downloaded logs_n11vxqun:v0 to /scratch/downloaded_artifacts/logs_n11vxqun:v0\n"
     ]
    },
    {
     "name": "stderr",
     "output_type": "stream",
     "text": [
      "\u001b[34m\u001b[1mwandb\u001b[0m:   1 of 1 files downloaded.  \n",
      "\u001b[34m\u001b[1mwandb\u001b[0m:   1 of 1 files downloaded.  \n"
     ]
    },
    {
     "name": "stdout",
     "output_type": "stream",
     "text": [
      "2025-04-22 16:30:40,680 - INFO - Downloaded logs_48964pry:v0 to /scratch/downloaded_artifacts/logs_48964pry:v0\n",
      "2025-04-22 16:30:40,681 - INFO - Downloaded logs_1fo0zl3f:v0 to /scratch/downloaded_artifacts/logs_1fo0zl3f:v0\n"
     ]
    },
    {
     "name": "stderr",
     "output_type": "stream",
     "text": [
      "\u001b[34m\u001b[1mwandb\u001b[0m:   1 of 1 files downloaded.  \n"
     ]
    },
    {
     "name": "stdout",
     "output_type": "stream",
     "text": [
      "2025-04-22 16:30:40,686 - INFO - Downloaded logs_05xu363g:v0 to /scratch/downloaded_artifacts/logs_05xu363g:v0\n"
     ]
    },
    {
     "name": "stderr",
     "output_type": "stream",
     "text": [
      "\u001b[34m\u001b[1mwandb\u001b[0m:   1 of 1 files downloaded.  \n"
     ]
    },
    {
     "name": "stdout",
     "output_type": "stream",
     "text": [
      "2025-04-22 16:30:40,772 - INFO - Downloaded logs_21jyjszw:v0 to /scratch/downloaded_artifacts/logs_21jyjszw:v0\n"
     ]
    },
    {
     "name": "stderr",
     "output_type": "stream",
     "text": [
      "\u001b[34m\u001b[1mwandb\u001b[0m:   1 of 1 files downloaded.  \n"
     ]
    },
    {
     "name": "stdout",
     "output_type": "stream",
     "text": [
      "2025-04-22 16:30:40,871 - INFO - Downloaded logs_5kw3d3my:v0 to /scratch/downloaded_artifacts/logs_5kw3d3my:v0\n"
     ]
    },
    {
     "name": "stderr",
     "output_type": "stream",
     "text": [
      "\u001b[34m\u001b[1mwandb\u001b[0m:   1 of 1 files downloaded.  \n"
     ]
    },
    {
     "name": "stdout",
     "output_type": "stream",
     "text": [
      "2025-04-22 16:30:41,464 - INFO - Downloaded logs_9ui5wjex:v0 to /scratch/downloaded_artifacts/logs_9ui5wjex:v0\n"
     ]
    },
    {
     "name": "stderr",
     "output_type": "stream",
     "text": [
      "\u001b[34m\u001b[1mwandb\u001b[0m:   1 of 1 files downloaded.  \n"
     ]
    },
    {
     "name": "stdout",
     "output_type": "stream",
     "text": [
      "2025-04-22 16:30:41,467 - INFO - Downloaded logs_co5uuobn:v0 to /scratch/downloaded_artifacts/logs_co5uuobn:v0\n"
     ]
    },
    {
     "name": "stderr",
     "output_type": "stream",
     "text": [
      "\u001b[34m\u001b[1mwandb\u001b[0m:   1 of 1 files downloaded.  \n"
     ]
    },
    {
     "name": "stdout",
     "output_type": "stream",
     "text": [
      "2025-04-22 16:30:41,470 - INFO - Downloaded logs_8257dy81:v0 to /scratch/downloaded_artifacts/logs_8257dy81:v0\n"
     ]
    },
    {
     "name": "stderr",
     "output_type": "stream",
     "text": [
      "\u001b[34m\u001b[1mwandb\u001b[0m:   1 of 1 files downloaded.  \n"
     ]
    },
    {
     "name": "stdout",
     "output_type": "stream",
     "text": [
      "2025-04-22 16:30:41,530 - INFO - Downloaded logs_4pc64nt3:v0 to /scratch/downloaded_artifacts/logs_4pc64nt3:v0\n"
     ]
    },
    {
     "name": "stderr",
     "output_type": "stream",
     "text": [
      "\u001b[34m\u001b[1mwandb\u001b[0m:   1 of 1 files downloaded.  \n"
     ]
    },
    {
     "name": "stdout",
     "output_type": "stream",
     "text": [
      "2025-04-22 16:30:41,928 - INFO - Downloaded logs_diiwtuok:v0 to /scratch/downloaded_artifacts/logs_diiwtuok:v0\n"
     ]
    },
    {
     "name": "stderr",
     "output_type": "stream",
     "text": [
      "\u001b[34m\u001b[1mwandb\u001b[0m:   1 of 1 files downloaded.  \n"
     ]
    },
    {
     "name": "stdout",
     "output_type": "stream",
     "text": [
      "2025-04-22 16:30:42,059 - INFO - Downloaded logs_9alrqggn:v0 to /scratch/downloaded_artifacts/logs_9alrqggn:v0\n"
     ]
    },
    {
     "name": "stderr",
     "output_type": "stream",
     "text": [
      "\u001b[34m\u001b[1mwandb\u001b[0m:   1 of 1 files downloaded.  \n"
     ]
    },
    {
     "name": "stdout",
     "output_type": "stream",
     "text": [
      "2025-04-22 16:30:42,123 - INFO - Downloaded logs_fm4tg8hb:v0 to /scratch/downloaded_artifacts/logs_fm4tg8hb:v0\n"
     ]
    },
    {
     "name": "stderr",
     "output_type": "stream",
     "text": [
      "\u001b[34m\u001b[1mwandb\u001b[0m:   1 of 1 files downloaded.  \n",
      "\u001b[34m\u001b[1mwandb\u001b[0m:   1 of 1 files downloaded.  \n"
     ]
    },
    {
     "name": "stdout",
     "output_type": "stream",
     "text": [
      "2025-04-22 16:30:42,185 - INFO - Downloaded logs_7ndbjw3r:v0 to /scratch/downloaded_artifacts/logs_7ndbjw3r:v0\n",
      "2025-04-22 16:30:42,185 - INFO - Downloaded logs_ft5mqmcv:v0 to /scratch/downloaded_artifacts/logs_ft5mqmcv:v0\n"
     ]
    },
    {
     "name": "stderr",
     "output_type": "stream",
     "text": [
      "\u001b[34m\u001b[1mwandb\u001b[0m:   1 of 1 files downloaded.  \n"
     ]
    },
    {
     "name": "stdout",
     "output_type": "stream",
     "text": [
      "2025-04-22 16:30:42,239 - INFO - Downloaded logs_mc4o2g84:v0 to /scratch/downloaded_artifacts/logs_mc4o2g84:v0\n"
     ]
    },
    {
     "name": "stderr",
     "output_type": "stream",
     "text": [
      "\u001b[34m\u001b[1mwandb\u001b[0m:   1 of 1 files downloaded.  \n"
     ]
    },
    {
     "name": "stdout",
     "output_type": "stream",
     "text": [
      "2025-04-22 16:30:42,283 - INFO - Downloaded logs_ljk4d9ps:v0 to /scratch/downloaded_artifacts/logs_ljk4d9ps:v0\n"
     ]
    },
    {
     "name": "stderr",
     "output_type": "stream",
     "text": [
      "\u001b[34m\u001b[1mwandb\u001b[0m:   1 of 1 files downloaded.  \n"
     ]
    },
    {
     "name": "stdout",
     "output_type": "stream",
     "text": [
      "2025-04-22 16:30:42,736 - INFO - Downloaded logs_m18oiogu:v0 to /scratch/downloaded_artifacts/logs_m18oiogu:v0\n"
     ]
    },
    {
     "name": "stderr",
     "output_type": "stream",
     "text": [
      "\u001b[34m\u001b[1mwandb\u001b[0m:   1 of 1 files downloaded.  \n"
     ]
    },
    {
     "name": "stdout",
     "output_type": "stream",
     "text": [
      "2025-04-22 16:30:42,883 - INFO - Downloaded logs_s4akpgiy:v0 to /scratch/downloaded_artifacts/logs_s4akpgiy:v0\n"
     ]
    },
    {
     "name": "stderr",
     "output_type": "stream",
     "text": [
      "\u001b[34m\u001b[1mwandb\u001b[0m:   1 of 1 files downloaded.  \n"
     ]
    },
    {
     "name": "stdout",
     "output_type": "stream",
     "text": [
      "2025-04-22 16:30:42,923 - INFO - Downloaded logs_tbdbsoct:v0 to /scratch/downloaded_artifacts/logs_tbdbsoct:v0\n"
     ]
    },
    {
     "name": "stderr",
     "output_type": "stream",
     "text": [
      "\u001b[34m\u001b[1mwandb\u001b[0m:   1 of 1 files downloaded.  \n"
     ]
    },
    {
     "name": "stdout",
     "output_type": "stream",
     "text": [
      "2025-04-22 16:30:43,017 - INFO - Downloaded logs_l5tiu98k:v0 to /scratch/downloaded_artifacts/logs_l5tiu98k:v0\n"
     ]
    },
    {
     "name": "stderr",
     "output_type": "stream",
     "text": [
      "\u001b[34m\u001b[1mwandb\u001b[0m:   1 of 1 files downloaded.  \n"
     ]
    },
    {
     "name": "stdout",
     "output_type": "stream",
     "text": [
      "2025-04-22 16:30:43,022 - INFO - Downloaded logs_ut99twcx:v0 to /scratch/downloaded_artifacts/logs_ut99twcx:v0\n"
     ]
    },
    {
     "name": "stderr",
     "output_type": "stream",
     "text": [
      "\u001b[34m\u001b[1mwandb\u001b[0m:   1 of 1 files downloaded.  \n"
     ]
    },
    {
     "name": "stdout",
     "output_type": "stream",
     "text": [
      "2025-04-22 16:30:43,117 - INFO - Downloaded logs_gfbt8and:v0 to /scratch/downloaded_artifacts/logs_gfbt8and:v0\n"
     ]
    },
    {
     "name": "stderr",
     "output_type": "stream",
     "text": [
      "\u001b[34m\u001b[1mwandb\u001b[0m:   1 of 1 files downloaded.  \n"
     ]
    },
    {
     "name": "stdout",
     "output_type": "stream",
     "text": [
      "2025-04-22 16:30:43,207 - INFO - Downloaded logs_vemoklsv:v0 to /scratch/downloaded_artifacts/logs_vemoklsv:v0\n"
     ]
    },
    {
     "name": "stderr",
     "output_type": "stream",
     "text": [
      "\u001b[34m\u001b[1mwandb\u001b[0m:   1 of 1 files downloaded.  \n"
     ]
    },
    {
     "name": "stdout",
     "output_type": "stream",
     "text": [
      "2025-04-22 16:30:43,676 - INFO - Downloaded logs_061lo4cv:v0 to /scratch/downloaded_artifacts/logs_061lo4cv:v0\n"
     ]
    },
    {
     "name": "stderr",
     "output_type": "stream",
     "text": [
      "\u001b[34m\u001b[1mwandb\u001b[0m:   1 of 1 files downloaded.  \n"
     ]
    },
    {
     "name": "stdout",
     "output_type": "stream",
     "text": [
      "2025-04-22 16:30:43,839 - INFO - Downloaded logs_6avc9plz:v0 to /scratch/downloaded_artifacts/logs_6avc9plz:v0\n"
     ]
    },
    {
     "name": "stderr",
     "output_type": "stream",
     "text": [
      "\u001b[34m\u001b[1mwandb\u001b[0m:   1 of 1 files downloaded.  \n"
     ]
    },
    {
     "name": "stdout",
     "output_type": "stream",
     "text": [
      "2025-04-22 16:30:43,887 - INFO - Downloaded logs_0e1hi3ly:v0 to /scratch/downloaded_artifacts/logs_0e1hi3ly:v0\n"
     ]
    },
    {
     "name": "stderr",
     "output_type": "stream",
     "text": [
      "\u001b[34m\u001b[1mwandb\u001b[0m:   1 of 1 files downloaded.  \n"
     ]
    },
    {
     "name": "stdout",
     "output_type": "stream",
     "text": [
      "2025-04-22 16:30:43,892 - INFO - Downloaded logs_2htq08nt:v0 to /scratch/downloaded_artifacts/logs_2htq08nt:v0\n"
     ]
    },
    {
     "name": "stderr",
     "output_type": "stream",
     "text": [
      "\u001b[34m\u001b[1mwandb\u001b[0m:   1 of 1 files downloaded.  \n"
     ]
    },
    {
     "name": "stdout",
     "output_type": "stream",
     "text": [
      "2025-04-22 16:30:43,909 - INFO - Downloaded logs_nafxm00q:v0 to /scratch/downloaded_artifacts/logs_nafxm00q:v0\n"
     ]
    },
    {
     "name": "stderr",
     "output_type": "stream",
     "text": [
      "\u001b[34m\u001b[1mwandb\u001b[0m:   1 of 1 files downloaded.  \n"
     ]
    },
    {
     "name": "stdout",
     "output_type": "stream",
     "text": [
      "2025-04-22 16:30:43,977 - INFO - Downloaded logs_d2x0lu1e:v0 to /scratch/downloaded_artifacts/logs_d2x0lu1e:v0\n"
     ]
    },
    {
     "name": "stderr",
     "output_type": "stream",
     "text": [
      "\u001b[34m\u001b[1mwandb\u001b[0m:   1 of 1 files downloaded.  \n"
     ]
    },
    {
     "name": "stdout",
     "output_type": "stream",
     "text": [
      "2025-04-22 16:30:44,076 - INFO - Downloaded logs_fc8kt49r:v0 to /scratch/downloaded_artifacts/logs_fc8kt49r:v0\n"
     ]
    },
    {
     "name": "stderr",
     "output_type": "stream",
     "text": [
      "\u001b[34m\u001b[1mwandb\u001b[0m:   1 of 1 files downloaded.  \n"
     ]
    },
    {
     "name": "stdout",
     "output_type": "stream",
     "text": [
      "2025-04-22 16:30:44,458 - INFO - Downloaded logs_kar4bh56:v0 to /scratch/downloaded_artifacts/logs_kar4bh56:v0\n"
     ]
    },
    {
     "name": "stderr",
     "output_type": "stream",
     "text": [
      "\u001b[34m\u001b[1mwandb\u001b[0m:   1 of 1 files downloaded.  \n"
     ]
    },
    {
     "name": "stdout",
     "output_type": "stream",
     "text": [
      "2025-04-22 16:30:44,626 - INFO - Downloaded logs_0rpeezmb:v0 to /scratch/downloaded_artifacts/logs_0rpeezmb:v0\n"
     ]
    },
    {
     "name": "stderr",
     "output_type": "stream",
     "text": [
      "\u001b[34m\u001b[1mwandb\u001b[0m:   1 of 1 files downloaded.  \n"
     ]
    },
    {
     "name": "stdout",
     "output_type": "stream",
     "text": [
      "2025-04-22 16:30:44,953 - INFO - Downloaded logs_gl2norc6:v0 to /scratch/downloaded_artifacts/logs_gl2norc6:v0\n"
     ]
    },
    {
     "name": "stderr",
     "output_type": "stream",
     "text": [
      "\u001b[34m\u001b[1mwandb\u001b[0m:   1 of 1 files downloaded.  \n"
     ]
    },
    {
     "name": "stdout",
     "output_type": "stream",
     "text": [
      "2025-04-22 16:30:44,968 - INFO - Downloaded logs_hxz3agqw:v0 to /scratch/downloaded_artifacts/logs_hxz3agqw:v0\n"
     ]
    },
    {
     "name": "stderr",
     "output_type": "stream",
     "text": [
      "\u001b[34m\u001b[1mwandb\u001b[0m:   1 of 1 files downloaded.  \n"
     ]
    },
    {
     "name": "stdout",
     "output_type": "stream",
     "text": [
      "2025-04-22 16:30:44,999 - INFO - Downloaded logs_j8ywwnuj:v0 to /scratch/downloaded_artifacts/logs_j8ywwnuj:v0\n"
     ]
    },
    {
     "name": "stderr",
     "output_type": "stream",
     "text": [
      "\u001b[34m\u001b[1mwandb\u001b[0m:   1 of 1 files downloaded.  \n"
     ]
    },
    {
     "name": "stdout",
     "output_type": "stream",
     "text": [
      "2025-04-22 16:30:45,017 - INFO - Downloaded logs_kswrb5wn:v0 to /scratch/downloaded_artifacts/logs_kswrb5wn:v0\n"
     ]
    },
    {
     "name": "stderr",
     "output_type": "stream",
     "text": [
      "\u001b[34m\u001b[1mwandb\u001b[0m:   1 of 1 files downloaded.  \n"
     ]
    },
    {
     "name": "stdout",
     "output_type": "stream",
     "text": [
      "2025-04-22 16:30:45,021 - INFO - Downloaded logs_uadnbuky:v0 to /scratch/downloaded_artifacts/logs_uadnbuky:v0\n"
     ]
    },
    {
     "name": "stderr",
     "output_type": "stream",
     "text": [
      "\u001b[34m\u001b[1mwandb\u001b[0m:   1 of 1 files downloaded.  \n"
     ]
    },
    {
     "name": "stdout",
     "output_type": "stream",
     "text": [
      "2025-04-22 16:30:45,028 - INFO - Downloaded logs_fgxz1olt:v0 to /scratch/downloaded_artifacts/logs_fgxz1olt:v0\n"
     ]
    },
    {
     "name": "stderr",
     "output_type": "stream",
     "text": [
      "\u001b[34m\u001b[1mwandb\u001b[0m:   1 of 1 files downloaded.  \n"
     ]
    },
    {
     "name": "stdout",
     "output_type": "stream",
     "text": [
      "2025-04-22 16:30:45,111 - INFO - Downloaded logs_n644z8tx:v0 to /scratch/downloaded_artifacts/logs_n644z8tx:v0\n"
     ]
    },
    {
     "name": "stderr",
     "output_type": "stream",
     "text": [
      "\u001b[34m\u001b[1mwandb\u001b[0m:   1 of 1 files downloaded.  \n"
     ]
    },
    {
     "name": "stdout",
     "output_type": "stream",
     "text": [
      "2025-04-22 16:30:45,356 - INFO - Downloaded logs_qyx0u00h:v0 to /scratch/downloaded_artifacts/logs_qyx0u00h:v0\n"
     ]
    },
    {
     "name": "stderr",
     "output_type": "stream",
     "text": [
      "\u001b[34m\u001b[1mwandb\u001b[0m:   1 of 1 files downloaded.  \n"
     ]
    },
    {
     "name": "stdout",
     "output_type": "stream",
     "text": [
      "2025-04-22 16:30:45,556 - INFO - Downloaded logs_1fo92fth:v0 to /scratch/downloaded_artifacts/logs_1fo92fth:v0\n"
     ]
    },
    {
     "name": "stderr",
     "output_type": "stream",
     "text": [
      "\u001b[34m\u001b[1mwandb\u001b[0m:   1 of 1 files downloaded.  \n"
     ]
    },
    {
     "name": "stdout",
     "output_type": "stream",
     "text": [
      "2025-04-22 16:30:45,561 - INFO - Downloaded logs_snetczly:v0 to /scratch/downloaded_artifacts/logs_snetczly:v0\n"
     ]
    },
    {
     "name": "stderr",
     "output_type": "stream",
     "text": [
      "\u001b[34m\u001b[1mwandb\u001b[0m:   1 of 1 files downloaded.  \n",
      "\u001b[34m\u001b[1mwandb\u001b[0m:   1 of 1 files downloaded.  \n"
     ]
    },
    {
     "name": "stdout",
     "output_type": "stream",
     "text": [
      "2025-04-22 16:30:45,563 - INFO - Downloaded logs_lkuobk3p:v0 to /scratch/downloaded_artifacts/logs_lkuobk3p:v0\n",
      "2025-04-22 16:30:45,564 - INFO - Downloaded logs_syo7ufth:v0 to /scratch/downloaded_artifacts/logs_syo7ufth:v0\n"
     ]
    },
    {
     "name": "stderr",
     "output_type": "stream",
     "text": [
      "\u001b[34m\u001b[1mwandb\u001b[0m:   1 of 1 files downloaded.  \n"
     ]
    },
    {
     "name": "stdout",
     "output_type": "stream",
     "text": [
      "2025-04-22 16:30:45,640 - INFO - Downloaded logs_uwulidvh:v0 to /scratch/downloaded_artifacts/logs_uwulidvh:v0\n"
     ]
    },
    {
     "name": "stderr",
     "output_type": "stream",
     "text": [
      "\u001b[34m\u001b[1mwandb\u001b[0m:   1 of 1 files downloaded.  \n"
     ]
    },
    {
     "name": "stdout",
     "output_type": "stream",
     "text": [
      "2025-04-22 16:30:45,772 - INFO - Downloaded logs_yd7mm1tw:v0 to /scratch/downloaded_artifacts/logs_yd7mm1tw:v0\n"
     ]
    },
    {
     "name": "stderr",
     "output_type": "stream",
     "text": [
      "\u001b[34m\u001b[1mwandb\u001b[0m:   1 of 1 files downloaded.  \n"
     ]
    },
    {
     "name": "stdout",
     "output_type": "stream",
     "text": [
      "2025-04-22 16:30:45,979 - INFO - Downloaded logs_2e7i5wb9:v0 to /scratch/downloaded_artifacts/logs_2e7i5wb9:v0\n"
     ]
    },
    {
     "name": "stderr",
     "output_type": "stream",
     "text": [
      "\u001b[34m\u001b[1mwandb\u001b[0m:   1 of 1 files downloaded.  \n"
     ]
    },
    {
     "name": "stdout",
     "output_type": "stream",
     "text": [
      "2025-04-22 16:30:46,078 - INFO - Downloaded logs_wedonor2:v0 to /scratch/downloaded_artifacts/logs_wedonor2:v0\n"
     ]
    },
    {
     "name": "stderr",
     "output_type": "stream",
     "text": [
      "\u001b[34m\u001b[1mwandb\u001b[0m:   1 of 1 files downloaded.  \n"
     ]
    },
    {
     "name": "stdout",
     "output_type": "stream",
     "text": [
      "2025-04-22 16:30:46,152 - INFO - Downloaded logs_ux6pob1w:v0 to /scratch/downloaded_artifacts/logs_ux6pob1w:v0\n"
     ]
    },
    {
     "name": "stderr",
     "output_type": "stream",
     "text": [
      "\u001b[34m\u001b[1mwandb\u001b[0m:   1 of 1 files downloaded.  \n",
      "\u001b[34m\u001b[1mwandb\u001b[0m:   1 of 1 files downloaded.  \n"
     ]
    },
    {
     "name": "stdout",
     "output_type": "stream",
     "text": [
      "2025-04-22 16:30:46,164 - INFO - Downloaded logs_ycrhe8to:v0 to /scratch/downloaded_artifacts/logs_ycrhe8to:v0\n",
      "2025-04-22 16:30:46,164 - INFO - Downloaded logs_1olfm0jv:v0 to /scratch/downloaded_artifacts/logs_1olfm0jv:v0\n"
     ]
    },
    {
     "name": "stderr",
     "output_type": "stream",
     "text": [
      "\u001b[34m\u001b[1mwandb\u001b[0m:   1 of 1 files downloaded.  \n"
     ]
    },
    {
     "name": "stdout",
     "output_type": "stream",
     "text": [
      "2025-04-22 16:30:46,175 - INFO - Downloaded logs_3kuknhy3:v0 to /scratch/downloaded_artifacts/logs_3kuknhy3:v0\n"
     ]
    },
    {
     "name": "stderr",
     "output_type": "stream",
     "text": [
      "\u001b[34m\u001b[1mwandb\u001b[0m:   1 of 1 files downloaded.  \n"
     ]
    },
    {
     "name": "stdout",
     "output_type": "stream",
     "text": [
      "2025-04-22 16:30:46,186 - INFO - Downloaded logs_1h9um5ew:v0 to /scratch/downloaded_artifacts/logs_1h9um5ew:v0\n"
     ]
    },
    {
     "name": "stderr",
     "output_type": "stream",
     "text": [
      "\u001b[34m\u001b[1mwandb\u001b[0m:   1 of 1 files downloaded.  \n"
     ]
    },
    {
     "name": "stdout",
     "output_type": "stream",
     "text": [
      "2025-04-22 16:30:46,466 - INFO - Downloaded logs_iykiwqps:v0 to /scratch/downloaded_artifacts/logs_iykiwqps:v0\n"
     ]
    },
    {
     "name": "stderr",
     "output_type": "stream",
     "text": [
      "\u001b[34m\u001b[1mwandb\u001b[0m:   1 of 1 files downloaded.  \n"
     ]
    },
    {
     "name": "stdout",
     "output_type": "stream",
     "text": [
      "2025-04-22 16:30:46,532 - INFO - Downloaded logs_48ytmso2:v0 to /scratch/downloaded_artifacts/logs_48ytmso2:v0\n"
     ]
    },
    {
     "name": "stderr",
     "output_type": "stream",
     "text": [
      "\u001b[34m\u001b[1mwandb\u001b[0m:   1 of 1 files downloaded.  \n"
     ]
    },
    {
     "name": "stdout",
     "output_type": "stream",
     "text": [
      "2025-04-22 16:30:46,671 - INFO - Downloaded logs_lpfe269c:v0 to /scratch/downloaded_artifacts/logs_lpfe269c:v0\n"
     ]
    },
    {
     "name": "stderr",
     "output_type": "stream",
     "text": [
      "\u001b[34m\u001b[1mwandb\u001b[0m:   1 of 1 files downloaded.  \n"
     ]
    },
    {
     "name": "stdout",
     "output_type": "stream",
     "text": [
      "2025-04-22 16:30:46,795 - INFO - Downloaded logs_kzmdcodp:v0 to /scratch/downloaded_artifacts/logs_kzmdcodp:v0\n"
     ]
    },
    {
     "name": "stderr",
     "output_type": "stream",
     "text": [
      "\u001b[34m\u001b[1mwandb\u001b[0m:   1 of 1 files downloaded.  \n"
     ]
    },
    {
     "name": "stdout",
     "output_type": "stream",
     "text": [
      "2025-04-22 16:30:46,814 - INFO - Downloaded logs_5m7qgp9q:v0 to /scratch/downloaded_artifacts/logs_5m7qgp9q:v0\n"
     ]
    },
    {
     "name": "stderr",
     "output_type": "stream",
     "text": [
      "\u001b[34m\u001b[1mwandb\u001b[0m:   1 of 1 files downloaded.  \n"
     ]
    },
    {
     "name": "stdout",
     "output_type": "stream",
     "text": [
      "2025-04-22 16:30:46,888 - INFO - Downloaded logs_oo0zxdpm:v0 to /scratch/downloaded_artifacts/logs_oo0zxdpm:v0\n"
     ]
    },
    {
     "name": "stderr",
     "output_type": "stream",
     "text": [
      "\u001b[34m\u001b[1mwandb\u001b[0m:   1 of 1 files downloaded.  \n",
      "\u001b[34m\u001b[1mwandb\u001b[0m:   1 of 1 files downloaded.  \n"
     ]
    },
    {
     "name": "stdout",
     "output_type": "stream",
     "text": [
      "2025-04-22 16:30:47,015 - INFO - Downloaded logs_ujla9h25:v0 to /scratch/downloaded_artifacts/logs_ujla9h25:v0\n"
     ]
    },
    {
     "name": "stderr",
     "output_type": "stream",
     "text": [
      "\u001b[34m\u001b[1mwandb\u001b[0m:   1 of 1 files downloaded.  \n"
     ]
    },
    {
     "name": "stdout",
     "output_type": "stream",
     "text": [
      "2025-04-22 16:30:47,018 - INFO - Downloaded logs_xlyemfdb:v0 to /scratch/downloaded_artifacts/logs_xlyemfdb:v0\n",
      "2025-04-22 16:30:47,064 - INFO - Downloaded logs_tyfmh06r:v0 to /scratch/downloaded_artifacts/logs_tyfmh06r:v0\n"
     ]
    },
    {
     "name": "stderr",
     "output_type": "stream",
     "text": [
      "\u001b[34m\u001b[1mwandb\u001b[0m:   1 of 1 files downloaded.  \n"
     ]
    },
    {
     "name": "stdout",
     "output_type": "stream",
     "text": [
      "2025-04-22 16:30:47,256 - INFO - Downloaded logs_3onl3jte:v0 to /scratch/downloaded_artifacts/logs_3onl3jte:v0\n"
     ]
    },
    {
     "name": "stderr",
     "output_type": "stream",
     "text": [
      "\u001b[34m\u001b[1mwandb\u001b[0m:   1 of 1 files downloaded.  \n",
      "\u001b[34m\u001b[1mwandb\u001b[0m:   1 of 1 files downloaded.  \n"
     ]
    },
    {
     "name": "stdout",
     "output_type": "stream",
     "text": [
      "2025-04-22 16:30:47,336 - INFO - Downloaded logs_wrdu8hoo:v0 to /scratch/downloaded_artifacts/logs_wrdu8hoo:v0\n"
     ]
    },
    {
     "name": "stderr",
     "output_type": "stream",
     "text": [
      "\u001b[34m\u001b[1mwandb\u001b[0m:   1 of 1 files downloaded.  \n"
     ]
    },
    {
     "name": "stdout",
     "output_type": "stream",
     "text": [
      "2025-04-22 16:30:47,337 - INFO - Downloaded logs_d8yiknbt:v0 to /scratch/downloaded_artifacts/logs_d8yiknbt:v0\n",
      "2025-04-22 16:30:47,338 - INFO - Downloaded logs_zshcxbbq:v0 to /scratch/downloaded_artifacts/logs_zshcxbbq:v0\n"
     ]
    },
    {
     "name": "stderr",
     "output_type": "stream",
     "text": [
      "\u001b[34m\u001b[1mwandb\u001b[0m:   1 of 1 files downloaded.  \n"
     ]
    },
    {
     "name": "stdout",
     "output_type": "stream",
     "text": [
      "2025-04-22 16:30:47,351 - INFO - Downloaded logs_lgwubwn4:v0 to /scratch/downloaded_artifacts/logs_lgwubwn4:v0\n"
     ]
    },
    {
     "name": "stderr",
     "output_type": "stream",
     "text": [
      "\u001b[34m\u001b[1mwandb\u001b[0m:   1 of 1 files downloaded.  \n"
     ]
    },
    {
     "name": "stdout",
     "output_type": "stream",
     "text": [
      "2025-04-22 16:30:47,366 - INFO - Downloaded logs_b0gyzh1u:v0 to /scratch/downloaded_artifacts/logs_b0gyzh1u:v0\n"
     ]
    },
    {
     "name": "stderr",
     "output_type": "stream",
     "text": [
      "\u001b[34m\u001b[1mwandb\u001b[0m:   1 of 1 files downloaded.  \n"
     ]
    },
    {
     "name": "stdout",
     "output_type": "stream",
     "text": [
      "2025-04-22 16:30:47,371 - INFO - Downloaded logs_526w448n:v0 to /scratch/downloaded_artifacts/logs_526w448n:v0\n"
     ]
    },
    {
     "name": "stderr",
     "output_type": "stream",
     "text": [
      "\u001b[34m\u001b[1mwandb\u001b[0m:   1 of 1 files downloaded.  \n"
     ]
    },
    {
     "name": "stdout",
     "output_type": "stream",
     "text": [
      "2025-04-22 16:30:47,961 - INFO - Downloaded logs_nd9ae99j:v0 to /scratch/downloaded_artifacts/logs_nd9ae99j:v0\n"
     ]
    },
    {
     "name": "stderr",
     "output_type": "stream",
     "text": [
      "\u001b[34m\u001b[1mwandb\u001b[0m:   1 of 1 files downloaded.  \n"
     ]
    },
    {
     "name": "stdout",
     "output_type": "stream",
     "text": [
      "2025-04-22 16:30:48,225 - INFO - Downloaded logs_29hidmvx:v0 to /scratch/downloaded_artifacts/logs_29hidmvx:v0\n"
     ]
    },
    {
     "name": "stderr",
     "output_type": "stream",
     "text": [
      "\u001b[34m\u001b[1mwandb\u001b[0m:   1 of 1 files downloaded.  \n"
     ]
    },
    {
     "name": "stdout",
     "output_type": "stream",
     "text": [
      "2025-04-22 16:30:48,296 - INFO - Downloaded logs_61na4ckz:v0 to /scratch/downloaded_artifacts/logs_61na4ckz:v0\n"
     ]
    },
    {
     "name": "stderr",
     "output_type": "stream",
     "text": [
      "\u001b[34m\u001b[1mwandb\u001b[0m:   1 of 1 files downloaded.  \n"
     ]
    },
    {
     "name": "stdout",
     "output_type": "stream",
     "text": [
      "2025-04-22 16:30:48,309 - INFO - Downloaded logs_tobv51a3:v0 to /scratch/downloaded_artifacts/logs_tobv51a3:v0\n"
     ]
    },
    {
     "name": "stderr",
     "output_type": "stream",
     "text": [
      "\u001b[34m\u001b[1mwandb\u001b[0m:   1 of 1 files downloaded.  \n"
     ]
    },
    {
     "name": "stdout",
     "output_type": "stream",
     "text": [
      "2025-04-22 16:30:48,339 - INFO - Downloaded logs_vc6hqbbx:v0 to /scratch/downloaded_artifacts/logs_vc6hqbbx:v0\n"
     ]
    },
    {
     "name": "stderr",
     "output_type": "stream",
     "text": [
      "\u001b[34m\u001b[1mwandb\u001b[0m:   1 of 1 files downloaded.  \n"
     ]
    },
    {
     "name": "stdout",
     "output_type": "stream",
     "text": [
      "2025-04-22 16:30:48,352 - INFO - Downloaded logs_lzkgu4my:v0 to /scratch/downloaded_artifacts/logs_lzkgu4my:v0\n"
     ]
    },
    {
     "name": "stderr",
     "output_type": "stream",
     "text": [
      "\u001b[34m\u001b[1mwandb\u001b[0m:   1 of 1 files downloaded.  \n"
     ]
    },
    {
     "name": "stdout",
     "output_type": "stream",
     "text": [
      "2025-04-22 16:30:48,382 - INFO - Downloaded logs_opq4hzpe:v0 to /scratch/downloaded_artifacts/logs_opq4hzpe:v0\n"
     ]
    },
    {
     "name": "stderr",
     "output_type": "stream",
     "text": [
      "\u001b[34m\u001b[1mwandb\u001b[0m:   1 of 1 files downloaded.  \n"
     ]
    },
    {
     "name": "stdout",
     "output_type": "stream",
     "text": [
      "2025-04-22 16:30:48,383 - INFO - Downloaded logs_0ucfcant:v0 to /scratch/downloaded_artifacts/logs_0ucfcant:v0\n"
     ]
    },
    {
     "name": "stderr",
     "output_type": "stream",
     "text": [
      "\u001b[34m\u001b[1mwandb\u001b[0m:   1 of 1 files downloaded.  \n"
     ]
    },
    {
     "name": "stdout",
     "output_type": "stream",
     "text": [
      "2025-04-22 16:30:48,396 - INFO - Downloaded logs_viazzhz7:v0 to /scratch/downloaded_artifacts/logs_viazzhz7:v0\n"
     ]
    },
    {
     "name": "stderr",
     "output_type": "stream",
     "text": [
      "\u001b[34m\u001b[1mwandb\u001b[0m:   1 of 1 files downloaded.  \n"
     ]
    },
    {
     "name": "stdout",
     "output_type": "stream",
     "text": [
      "2025-04-22 16:30:48,567 - INFO - Downloaded logs_unc7cd1w:v0 to /scratch/downloaded_artifacts/logs_unc7cd1w:v0\n"
     ]
    },
    {
     "name": "stderr",
     "output_type": "stream",
     "text": [
      "\u001b[34m\u001b[1mwandb\u001b[0m:   1 of 1 files downloaded.  \n"
     ]
    },
    {
     "name": "stdout",
     "output_type": "stream",
     "text": [
      "2025-04-22 16:30:48,714 - INFO - Downloaded logs_tn6m7car:v0 to /scratch/downloaded_artifacts/logs_tn6m7car:v0\n"
     ]
    },
    {
     "name": "stderr",
     "output_type": "stream",
     "text": [
      "\u001b[34m\u001b[1mwandb\u001b[0m:   1 of 1 files downloaded.  \n"
     ]
    },
    {
     "name": "stdout",
     "output_type": "stream",
     "text": [
      "2025-04-22 16:30:48,809 - INFO - Downloaded logs_5yajhkc9:v0 to /scratch/downloaded_artifacts/logs_5yajhkc9:v0\n"
     ]
    },
    {
     "name": "stderr",
     "output_type": "stream",
     "text": [
      "\u001b[34m\u001b[1mwandb\u001b[0m:   1 of 1 files downloaded.  \n"
     ]
    },
    {
     "name": "stdout",
     "output_type": "stream",
     "text": [
      "2025-04-22 16:30:48,817 - INFO - Downloaded logs_jcqsse5o:v0 to /scratch/downloaded_artifacts/logs_jcqsse5o:v0\n"
     ]
    },
    {
     "name": "stderr",
     "output_type": "stream",
     "text": [
      "\u001b[34m\u001b[1mwandb\u001b[0m:   1 of 1 files downloaded.  \n"
     ]
    },
    {
     "name": "stdout",
     "output_type": "stream",
     "text": [
      "2025-04-22 16:30:48,821 - INFO - Downloaded logs_2nbdj5cq:v0 to /scratch/downloaded_artifacts/logs_2nbdj5cq:v0\n"
     ]
    },
    {
     "name": "stderr",
     "output_type": "stream",
     "text": [
      "\u001b[34m\u001b[1mwandb\u001b[0m:   1 of 1 files downloaded.  \n"
     ]
    },
    {
     "name": "stdout",
     "output_type": "stream",
     "text": [
      "2025-04-22 16:30:48,823 - INFO - Downloaded logs_ihyfhu7w:v0 to /scratch/downloaded_artifacts/logs_ihyfhu7w:v0\n"
     ]
    },
    {
     "name": "stderr",
     "output_type": "stream",
     "text": [
      "\u001b[34m\u001b[1mwandb\u001b[0m:   1 of 1 files downloaded.  \n"
     ]
    },
    {
     "name": "stdout",
     "output_type": "stream",
     "text": [
      "2025-04-22 16:30:48,847 - INFO - Downloaded logs_ulwcp43w:v0 to /scratch/downloaded_artifacts/logs_ulwcp43w:v0\n"
     ]
    },
    {
     "name": "stderr",
     "output_type": "stream",
     "text": [
      "\u001b[34m\u001b[1mwandb\u001b[0m:   1 of 1 files downloaded.  \n"
     ]
    },
    {
     "name": "stdout",
     "output_type": "stream",
     "text": [
      "2025-04-22 16:30:49,447 - INFO - Downloaded logs_cr6f66cx:v0 to /scratch/downloaded_artifacts/logs_cr6f66cx:v0\n"
     ]
    },
    {
     "name": "stderr",
     "output_type": "stream",
     "text": [
      "\u001b[34m\u001b[1mwandb\u001b[0m:   1 of 1 files downloaded.  \n"
     ]
    },
    {
     "name": "stdout",
     "output_type": "stream",
     "text": [
      "2025-04-22 16:30:49,530 - INFO - Downloaded logs_3qv7icxl:v0 to /scratch/downloaded_artifacts/logs_3qv7icxl:v0\n"
     ]
    },
    {
     "name": "stderr",
     "output_type": "stream",
     "text": [
      "\u001b[34m\u001b[1mwandb\u001b[0m:   1 of 1 files downloaded.  \n"
     ]
    },
    {
     "name": "stdout",
     "output_type": "stream",
     "text": [
      "2025-04-22 16:30:49,567 - INFO - Downloaded logs_e24ty80b:v0 to /scratch/downloaded_artifacts/logs_e24ty80b:v0\n"
     ]
    },
    {
     "name": "stderr",
     "output_type": "stream",
     "text": [
      "\u001b[34m\u001b[1mwandb\u001b[0m:   1 of 1 files downloaded.  \n",
      "\u001b[34m\u001b[1mwandb\u001b[0m:   1 of 1 files downloaded.  \n"
     ]
    },
    {
     "name": "stdout",
     "output_type": "stream",
     "text": [
      "2025-04-22 16:30:49,591 - INFO - Downloaded logs_jdxyc35p:v0 to /scratch/downloaded_artifacts/logs_jdxyc35p:v0\n",
      "2025-04-22 16:30:49,597 - INFO - Downloaded logs_emqj8vhy:v0 to /scratch/downloaded_artifacts/logs_emqj8vhy:v0\n"
     ]
    },
    {
     "name": "stderr",
     "output_type": "stream",
     "text": [
      "\u001b[34m\u001b[1mwandb\u001b[0m:   1 of 1 files downloaded.  \n",
      "\u001b[34m\u001b[1mwandb\u001b[0m:   1 of 1 files downloaded.  \n"
     ]
    },
    {
     "name": "stdout",
     "output_type": "stream",
     "text": [
      "2025-04-22 16:30:49,772 - INFO - Downloaded logs_dldmbc80:v0 to /scratch/downloaded_artifacts/logs_dldmbc80:v0\n"
     ]
    },
    {
     "name": "stderr",
     "output_type": "stream",
     "text": [
      "\u001b[34m\u001b[1mwandb\u001b[0m:   1 of 1 files downloaded.  \n"
     ]
    },
    {
     "name": "stdout",
     "output_type": "stream",
     "text": [
      "2025-04-22 16:30:49,897 - INFO - Downloaded logs_k8fhto8t:v0 to /scratch/downloaded_artifacts/logs_k8fhto8t:v0\n",
      "2025-04-22 16:30:49,964 - INFO - Downloaded logs_ljin9ex9:v0 to /scratch/downloaded_artifacts/logs_ljin9ex9:v0\n"
     ]
    },
    {
     "name": "stderr",
     "output_type": "stream",
     "text": [
      "\u001b[34m\u001b[1mwandb\u001b[0m:   1 of 1 files downloaded.  \n"
     ]
    },
    {
     "name": "stdout",
     "output_type": "stream",
     "text": [
      "2025-04-22 16:30:50,173 - INFO - Downloaded logs_ix3gn53q:v0 to /scratch/downloaded_artifacts/logs_ix3gn53q:v0\n"
     ]
    },
    {
     "name": "stderr",
     "output_type": "stream",
     "text": [
      "\u001b[34m\u001b[1mwandb\u001b[0m:   1 of 1 files downloaded.  \n"
     ]
    },
    {
     "name": "stdout",
     "output_type": "stream",
     "text": [
      "2025-04-22 16:30:50,188 - INFO - Downloaded logs_ezju4u7u:v0 to /scratch/downloaded_artifacts/logs_ezju4u7u:v0\n"
     ]
    },
    {
     "name": "stderr",
     "output_type": "stream",
     "text": [
      "\u001b[34m\u001b[1mwandb\u001b[0m:   1 of 1 files downloaded.  \n"
     ]
    },
    {
     "name": "stdout",
     "output_type": "stream",
     "text": [
      "2025-04-22 16:30:50,271 - INFO - Downloaded logs_ljrxz1f5:v0 to /scratch/downloaded_artifacts/logs_ljrxz1f5:v0\n"
     ]
    },
    {
     "name": "stderr",
     "output_type": "stream",
     "text": [
      "\u001b[34m\u001b[1mwandb\u001b[0m:   1 of 1 files downloaded.  \n"
     ]
    },
    {
     "name": "stdout",
     "output_type": "stream",
     "text": [
      "2025-04-22 16:30:50,290 - INFO - Downloaded logs_omm9wfbq:v0 to /scratch/downloaded_artifacts/logs_omm9wfbq:v0\n"
     ]
    },
    {
     "name": "stderr",
     "output_type": "stream",
     "text": [
      "\u001b[34m\u001b[1mwandb\u001b[0m:   1 of 1 files downloaded.  \n"
     ]
    },
    {
     "name": "stdout",
     "output_type": "stream",
     "text": [
      "2025-04-22 16:30:50,300 - INFO - Downloaded logs_s969pqso:v0 to /scratch/downloaded_artifacts/logs_s969pqso:v0\n"
     ]
    },
    {
     "name": "stderr",
     "output_type": "stream",
     "text": [
      "\u001b[34m\u001b[1mwandb\u001b[0m:   1 of 1 files downloaded.  \n"
     ]
    },
    {
     "name": "stdout",
     "output_type": "stream",
     "text": [
      "2025-04-22 16:30:50,324 - INFO - Downloaded logs_wthx6xmp:v0 to /scratch/downloaded_artifacts/logs_wthx6xmp:v0\n"
     ]
    },
    {
     "name": "stderr",
     "output_type": "stream",
     "text": [
      "\u001b[34m\u001b[1mwandb\u001b[0m:   1 of 1 files downloaded.  \n"
     ]
    },
    {
     "name": "stdout",
     "output_type": "stream",
     "text": [
      "2025-04-22 16:30:50,353 - INFO - Downloaded logs_wbiwmt7p:v0 to /scratch/downloaded_artifacts/logs_wbiwmt7p:v0\n"
     ]
    },
    {
     "name": "stderr",
     "output_type": "stream",
     "text": [
      "\u001b[34m\u001b[1mwandb\u001b[0m:   1 of 1 files downloaded.  \n"
     ]
    },
    {
     "name": "stdout",
     "output_type": "stream",
     "text": [
      "2025-04-22 16:30:50,381 - INFO - Downloaded logs_uwr6dl84:v0 to /scratch/downloaded_artifacts/logs_uwr6dl84:v0\n"
     ]
    },
    {
     "name": "stderr",
     "output_type": "stream",
     "text": [
      "\u001b[34m\u001b[1mwandb\u001b[0m:   1 of 1 files downloaded.  \n"
     ]
    },
    {
     "name": "stdout",
     "output_type": "stream",
     "text": [
      "2025-04-22 16:30:50,597 - INFO - Downloaded logs_0dhsxme8:v0 to /scratch/downloaded_artifacts/logs_0dhsxme8:v0\n"
     ]
    },
    {
     "name": "stderr",
     "output_type": "stream",
     "text": [
      "\u001b[34m\u001b[1mwandb\u001b[0m:   1 of 1 files downloaded.  \n"
     ]
    },
    {
     "name": "stdout",
     "output_type": "stream",
     "text": [
      "2025-04-22 16:30:51,086 - INFO - Downloaded logs_4b7thfq0:v0 to /scratch/downloaded_artifacts/logs_4b7thfq0:v0\n"
     ]
    },
    {
     "name": "stderr",
     "output_type": "stream",
     "text": [
      "\u001b[34m\u001b[1mwandb\u001b[0m:   1 of 1 files downloaded.  \n"
     ]
    },
    {
     "name": "stdout",
     "output_type": "stream",
     "text": [
      "2025-04-22 16:30:51,090 - INFO - Downloaded logs_6ej6fljn:v0 to /scratch/downloaded_artifacts/logs_6ej6fljn:v0\n"
     ]
    },
    {
     "name": "stderr",
     "output_type": "stream",
     "text": [
      "\u001b[34m\u001b[1mwandb\u001b[0m:   1 of 1 files downloaded.  \n"
     ]
    },
    {
     "name": "stdout",
     "output_type": "stream",
     "text": [
      "2025-04-22 16:30:51,108 - INFO - Downloaded logs_a6u8mzt4:v0 to /scratch/downloaded_artifacts/logs_a6u8mzt4:v0\n"
     ]
    },
    {
     "name": "stderr",
     "output_type": "stream",
     "text": [
      "\u001b[34m\u001b[1mwandb\u001b[0m:   1 of 1 files downloaded.  \n"
     ]
    },
    {
     "name": "stdout",
     "output_type": "stream",
     "text": [
      "2025-04-22 16:30:51,125 - INFO - Downloaded logs_yh1a04ac:v0 to /scratch/downloaded_artifacts/logs_yh1a04ac:v0\n"
     ]
    },
    {
     "name": "stderr",
     "output_type": "stream",
     "text": [
      "\u001b[34m\u001b[1mwandb\u001b[0m:   1 of 1 files downloaded.  \n"
     ]
    },
    {
     "name": "stdout",
     "output_type": "stream",
     "text": [
      "2025-04-22 16:30:51,136 - INFO - Downloaded logs_02fqe2xe:v0 to /scratch/downloaded_artifacts/logs_02fqe2xe:v0\n"
     ]
    },
    {
     "name": "stderr",
     "output_type": "stream",
     "text": [
      "\u001b[34m\u001b[1mwandb\u001b[0m:   1 of 1 files downloaded.  \n",
      "\u001b[34m\u001b[1mwandb\u001b[0m:   1 of 1 files downloaded.  \n"
     ]
    },
    {
     "name": "stdout",
     "output_type": "stream",
     "text": [
      "2025-04-22 16:30:51,147 - INFO - Downloaded logs_a886xc8u:v0 to /scratch/downloaded_artifacts/logs_a886xc8u:v0\n",
      "2025-04-22 16:30:51,147 - INFO - Downloaded logs_ar6uve6x:v0 to /scratch/downloaded_artifacts/logs_ar6uve6x:v0\n"
     ]
    },
    {
     "name": "stderr",
     "output_type": "stream",
     "text": [
      "\u001b[34m\u001b[1mwandb\u001b[0m:   1 of 1 files downloaded.  \n"
     ]
    },
    {
     "name": "stdout",
     "output_type": "stream",
     "text": [
      "2025-04-22 16:30:51,609 - INFO - Downloaded logs_vadnzeyg:v0 to /scratch/downloaded_artifacts/logs_vadnzeyg:v0\n"
     ]
    },
    {
     "name": "stderr",
     "output_type": "stream",
     "text": [
      "\u001b[34m\u001b[1mwandb\u001b[0m:   1 of 1 files downloaded.  \n"
     ]
    },
    {
     "name": "stdout",
     "output_type": "stream",
     "text": [
      "2025-04-22 16:30:51,619 - INFO - Downloaded logs_xc37rlip:v0 to /scratch/downloaded_artifacts/logs_xc37rlip:v0\n"
     ]
    },
    {
     "name": "stderr",
     "output_type": "stream",
     "text": [
      "\u001b[34m\u001b[1mwandb\u001b[0m:   1 of 1 files downloaded.  \n"
     ]
    },
    {
     "name": "stdout",
     "output_type": "stream",
     "text": [
      "2025-04-22 16:30:51,636 - INFO - Downloaded logs_8cn2blz0:v0 to /scratch/downloaded_artifacts/logs_8cn2blz0:v0\n"
     ]
    },
    {
     "name": "stderr",
     "output_type": "stream",
     "text": [
      "\u001b[34m\u001b[1mwandb\u001b[0m:   1 of 1 files downloaded.  \n"
     ]
    },
    {
     "name": "stdout",
     "output_type": "stream",
     "text": [
      "2025-04-22 16:30:51,637 - INFO - Downloaded logs_e2zdwok5:v0 to /scratch/downloaded_artifacts/logs_e2zdwok5:v0\n"
     ]
    },
    {
     "name": "stderr",
     "output_type": "stream",
     "text": [
      "\u001b[34m\u001b[1mwandb\u001b[0m:   1 of 1 files downloaded.  \n"
     ]
    },
    {
     "name": "stdout",
     "output_type": "stream",
     "text": [
      "2025-04-22 16:30:51,643 - INFO - Downloaded logs_nn5jtycg:v0 to /scratch/downloaded_artifacts/logs_nn5jtycg:v0\n"
     ]
    },
    {
     "name": "stderr",
     "output_type": "stream",
     "text": [
      "\u001b[34m\u001b[1mwandb\u001b[0m:   1 of 1 files downloaded.  \n"
     ]
    },
    {
     "name": "stdout",
     "output_type": "stream",
     "text": [
      "2025-04-22 16:30:51,648 - INFO - Downloaded logs_p35ylk8y:v0 to /scratch/downloaded_artifacts/logs_p35ylk8y:v0\n"
     ]
    },
    {
     "name": "stderr",
     "output_type": "stream",
     "text": [
      "\u001b[34m\u001b[1mwandb\u001b[0m:   1 of 1 files downloaded.  \n"
     ]
    },
    {
     "name": "stdout",
     "output_type": "stream",
     "text": [
      "2025-04-22 16:30:51,705 - INFO - Downloaded logs_s3q263vg:v0 to /scratch/downloaded_artifacts/logs_s3q263vg:v0\n"
     ]
    },
    {
     "name": "stderr",
     "output_type": "stream",
     "text": [
      "\u001b[34m\u001b[1mwandb\u001b[0m:   1 of 1 files downloaded.  \n"
     ]
    },
    {
     "name": "stdout",
     "output_type": "stream",
     "text": [
      "2025-04-22 16:30:51,712 - INFO - Downloaded logs_j6uwc2u0:v0 to /scratch/downloaded_artifacts/logs_j6uwc2u0:v0\n"
     ]
    },
    {
     "name": "stderr",
     "output_type": "stream",
     "text": [
      "\u001b[34m\u001b[1mwandb\u001b[0m:   1 of 1 files downloaded.  \n"
     ]
    },
    {
     "name": "stdout",
     "output_type": "stream",
     "text": [
      "2025-04-22 16:30:51,868 - INFO - Downloaded logs_kltf37jo:v0 to /scratch/downloaded_artifacts/logs_kltf37jo:v0\n"
     ]
    },
    {
     "name": "stderr",
     "output_type": "stream",
     "text": [
      "\u001b[34m\u001b[1mwandb\u001b[0m:   1 of 1 files downloaded.  \n"
     ]
    },
    {
     "name": "stdout",
     "output_type": "stream",
     "text": [
      "2025-04-22 16:30:52,391 - INFO - Downloaded logs_uixocn2m:v0 to /scratch/downloaded_artifacts/logs_uixocn2m:v0\n"
     ]
    },
    {
     "name": "stderr",
     "output_type": "stream",
     "text": [
      "\u001b[34m\u001b[1mwandb\u001b[0m:   1 of 1 files downloaded.  \n"
     ]
    },
    {
     "name": "stdout",
     "output_type": "stream",
     "text": [
      "2025-04-22 16:30:52,454 - INFO - Downloaded logs_pr78cpqw:v0 to /scratch/downloaded_artifacts/logs_pr78cpqw:v0\n"
     ]
    },
    {
     "name": "stderr",
     "output_type": "stream",
     "text": [
      "\u001b[34m\u001b[1mwandb\u001b[0m:   1 of 1 files downloaded.  \n"
     ]
    },
    {
     "name": "stdout",
     "output_type": "stream",
     "text": [
      "2025-04-22 16:30:52,475 - INFO - Downloaded logs_h2nwtn70:v0 to /scratch/downloaded_artifacts/logs_h2nwtn70:v0\n"
     ]
    },
    {
     "name": "stderr",
     "output_type": "stream",
     "text": [
      "\u001b[34m\u001b[1mwandb\u001b[0m:   1 of 1 files downloaded.  \n"
     ]
    },
    {
     "name": "stdout",
     "output_type": "stream",
     "text": [
      "2025-04-22 16:30:52,479 - INFO - Downloaded logs_9raqgfl1:v0 to /scratch/downloaded_artifacts/logs_9raqgfl1:v0\n"
     ]
    },
    {
     "name": "stderr",
     "output_type": "stream",
     "text": [
      "\u001b[34m\u001b[1mwandb\u001b[0m:   1 of 1 files downloaded.  \n"
     ]
    },
    {
     "name": "stdout",
     "output_type": "stream",
     "text": [
      "2025-04-22 16:30:52,483 - INFO - Downloaded logs_okxg10gr:v0 to /scratch/downloaded_artifacts/logs_okxg10gr:v0\n"
     ]
    },
    {
     "name": "stderr",
     "output_type": "stream",
     "text": [
      "\u001b[34m\u001b[1mwandb\u001b[0m:   1 of 1 files downloaded.  \n"
     ]
    },
    {
     "name": "stdout",
     "output_type": "stream",
     "text": [
      "2025-04-22 16:30:52,486 - INFO - Downloaded logs_yeus3i2c:v0 to /scratch/downloaded_artifacts/logs_yeus3i2c:v0\n"
     ]
    },
    {
     "name": "stderr",
     "output_type": "stream",
     "text": [
      "\u001b[34m\u001b[1mwandb\u001b[0m:   1 of 1 files downloaded.  \n"
     ]
    },
    {
     "name": "stdout",
     "output_type": "stream",
     "text": [
      "2025-04-22 16:30:52,508 - INFO - Downloaded logs_t16fsorm:v0 to /scratch/downloaded_artifacts/logs_t16fsorm:v0\n"
     ]
    },
    {
     "name": "stderr",
     "output_type": "stream",
     "text": [
      "\u001b[34m\u001b[1mwandb\u001b[0m:   1 of 1 files downloaded.  \n"
     ]
    },
    {
     "name": "stdout",
     "output_type": "stream",
     "text": [
      "2025-04-22 16:30:53,000 - INFO - Downloaded logs_osbjkzxu:v0 to /scratch/downloaded_artifacts/logs_osbjkzxu:v0\n"
     ]
    },
    {
     "name": "stderr",
     "output_type": "stream",
     "text": [
      "\u001b[34m\u001b[1mwandb\u001b[0m:   1 of 1 files downloaded.  \n"
     ]
    },
    {
     "name": "stdout",
     "output_type": "stream",
     "text": [
      "2025-04-22 16:30:53,006 - INFO - Downloaded logs_0p8e1aow:v0 to /scratch/downloaded_artifacts/logs_0p8e1aow:v0\n"
     ]
    },
    {
     "name": "stderr",
     "output_type": "stream",
     "text": [
      "\u001b[34m\u001b[1mwandb\u001b[0m:   1 of 1 files downloaded.  \n",
      "\u001b[34m\u001b[1mwandb\u001b[0m:   1 of 1 files downloaded.  \n"
     ]
    },
    {
     "name": "stdout",
     "output_type": "stream",
     "text": [
      "2025-04-22 16:30:53,011 - INFO - Downloaded logs_36ph9u39:v0 to /scratch/downloaded_artifacts/logs_36ph9u39:v0\n",
      "2025-04-22 16:30:53,014 - INFO - Downloaded logs_u8pjiygj:v0 to /scratch/downloaded_artifacts/logs_u8pjiygj:v0\n"
     ]
    },
    {
     "name": "stderr",
     "output_type": "stream",
     "text": [
      "\u001b[34m\u001b[1mwandb\u001b[0m:   1 of 1 files downloaded.  \n",
      "\u001b[34m\u001b[1mwandb\u001b[0m:   1 of 1 files downloaded.  \n"
     ]
    },
    {
     "name": "stdout",
     "output_type": "stream",
     "text": [
      "2025-04-22 16:30:53,017 - INFO - Downloaded logs_p3yh0v5k:v0 to /scratch/downloaded_artifacts/logs_p3yh0v5k:v0\n",
      "2025-04-22 16:30:53,019 - INFO - Downloaded logs_ln9pv1mr:v0 to /scratch/downloaded_artifacts/logs_ln9pv1mr:v0\n"
     ]
    },
    {
     "name": "stderr",
     "output_type": "stream",
     "text": [
      "\u001b[34m\u001b[1mwandb\u001b[0m:   1 of 1 files downloaded.  \n"
     ]
    },
    {
     "name": "stdout",
     "output_type": "stream",
     "text": [
      "2025-04-22 16:30:53,031 - INFO - Downloaded logs_rpeohtki:v0 to /scratch/downloaded_artifacts/logs_rpeohtki:v0\n"
     ]
    },
    {
     "name": "stderr",
     "output_type": "stream",
     "text": [
      "\u001b[34m\u001b[1mwandb\u001b[0m:   1 of 1 files downloaded.  \n"
     ]
    },
    {
     "name": "stdout",
     "output_type": "stream",
     "text": [
      "2025-04-22 16:30:53,058 - INFO - Downloaded logs_ul2ox3dh:v0 to /scratch/downloaded_artifacts/logs_ul2ox3dh:v0\n"
     ]
    },
    {
     "name": "stderr",
     "output_type": "stream",
     "text": [
      "\u001b[34m\u001b[1mwandb\u001b[0m:   1 of 1 files downloaded.  \n"
     ]
    },
    {
     "name": "stdout",
     "output_type": "stream",
     "text": [
      "2025-04-22 16:30:53,262 - INFO - Downloaded logs_7iadcph2:v0 to /scratch/downloaded_artifacts/logs_7iadcph2:v0\n"
     ]
    },
    {
     "name": "stderr",
     "output_type": "stream",
     "text": [
      "\u001b[34m\u001b[1mwandb\u001b[0m:   1 of 1 files downloaded.  \n"
     ]
    },
    {
     "name": "stdout",
     "output_type": "stream",
     "text": [
      "2025-04-22 16:30:53,380 - INFO - Downloaded logs_bpqldcrp:v0 to /scratch/downloaded_artifacts/logs_bpqldcrp:v0\n"
     ]
    },
    {
     "name": "stderr",
     "output_type": "stream",
     "text": [
      "\u001b[34m\u001b[1mwandb\u001b[0m:   1 of 1 files downloaded.  \n"
     ]
    },
    {
     "name": "stdout",
     "output_type": "stream",
     "text": [
      "2025-04-22 16:30:54,058 - INFO - Downloaded logs_8jiz4drl:v0 to /scratch/downloaded_artifacts/logs_8jiz4drl:v0\n"
     ]
    },
    {
     "name": "stderr",
     "output_type": "stream",
     "text": [
      "\u001b[34m\u001b[1mwandb\u001b[0m:   1 of 1 files downloaded.  \n"
     ]
    },
    {
     "name": "stdout",
     "output_type": "stream",
     "text": [
      "2025-04-22 16:30:54,148 - INFO - Downloaded logs_9rwc9ltd:v0 to /scratch/downloaded_artifacts/logs_9rwc9ltd:v0\n"
     ]
    },
    {
     "name": "stderr",
     "output_type": "stream",
     "text": [
      "\u001b[34m\u001b[1mwandb\u001b[0m:   1 of 1 files downloaded.  \n"
     ]
    },
    {
     "name": "stdout",
     "output_type": "stream",
     "text": [
      "2025-04-22 16:30:54,215 - INFO - Downloaded logs_6a4wakmj:v0 to /scratch/downloaded_artifacts/logs_6a4wakmj:v0\n"
     ]
    },
    {
     "name": "stderr",
     "output_type": "stream",
     "text": [
      "\u001b[34m\u001b[1mwandb\u001b[0m:   1 of 1 files downloaded.  \n",
      "\u001b[34m\u001b[1mwandb\u001b[0m:   1 of 1 files downloaded.  \n"
     ]
    },
    {
     "name": "stdout",
     "output_type": "stream",
     "text": [
      "2025-04-22 16:30:54,225 - INFO - Downloaded logs_ogrz169m:v0 to /scratch/downloaded_artifacts/logs_ogrz169m:v0\n"
     ]
    },
    {
     "name": "stderr",
     "output_type": "stream",
     "text": [
      "\u001b[34m\u001b[1mwandb\u001b[0m:   1 of 1 files downloaded.  \n",
      "\u001b[34m\u001b[1mwandb\u001b[0m:   1 of 1 files downloaded.  \n"
     ]
    },
    {
     "name": "stdout",
     "output_type": "stream",
     "text": [
      "2025-04-22 16:30:54,228 - INFO - Downloaded logs_qkc2j3sy:v0 to /scratch/downloaded_artifacts/logs_qkc2j3sy:v0\n"
     ]
    },
    {
     "name": "stderr",
     "output_type": "stream",
     "text": [
      "\u001b[34m\u001b[1mwandb\u001b[0m:   1 of 1 files downloaded.  \n",
      "\u001b[34m\u001b[1mwandb\u001b[0m:   1 of 1 files downloaded.  \n",
      "\u001b[34m\u001b[1mwandb\u001b[0m:   1 of 1 files downloaded.  \n"
     ]
    },
    {
     "name": "stdout",
     "output_type": "stream",
     "text": [
      "2025-04-22 16:30:54,228 - INFO - Downloaded logs_nrdp7v6q:v0 to /scratch/downloaded_artifacts/logs_nrdp7v6q:v0\n"
     ]
    },
    {
     "name": "stderr",
     "output_type": "stream",
     "text": [
      "\u001b[34m\u001b[1mwandb\u001b[0m:   1 of 1 files downloaded.  \n",
      "\u001b[34m\u001b[1mwandb\u001b[0m:   1 of 1 files downloaded.  \n"
     ]
    },
    {
     "name": "stdout",
     "output_type": "stream",
     "text": [
      "2025-04-22 16:30:54,236 - INFO - Downloaded logs_3wcyyrai:v0 to /scratch/downloaded_artifacts/logs_3wcyyrai:v0\n"
     ]
    },
    {
     "name": "stderr",
     "output_type": "stream",
     "text": [
      "\u001b[34m\u001b[1mwandb\u001b[0m:   1 of 1 files downloaded.  \n"
     ]
    },
    {
     "name": "stdout",
     "output_type": "stream",
     "text": [
      "2025-04-22 16:30:54,239 - INFO - Downloaded logs_q4tn8ltt:v0 to /scratch/downloaded_artifacts/logs_q4tn8ltt:v0\n",
      "2025-04-22 16:30:54,240 - INFO - Downloaded logs_g0ounvlj:v0 to /scratch/downloaded_artifacts/logs_g0ounvlj:v0\n",
      "2025-04-22 16:30:54,242 - INFO - Downloaded logs_tlb4kmo4:v0 to /scratch/downloaded_artifacts/logs_tlb4kmo4:v0\n",
      "2025-04-22 16:30:54,244 - INFO - Downloaded logs_3o3e1lfp:v0 to /scratch/downloaded_artifacts/logs_3o3e1lfp:v0\n",
      "2025-04-22 16:30:54,246 - INFO - Downloaded logs_yy4h6olx:v0 to /scratch/downloaded_artifacts/logs_yy4h6olx:v0\n",
      "2025-04-22 16:30:54,250 - INFO - Downloaded logs_x2rvqy1g:v0 to /scratch/downloaded_artifacts/logs_x2rvqy1g:v0\n"
     ]
    },
    {
     "name": "stderr",
     "output_type": "stream",
     "text": [
      "\u001b[34m\u001b[1mwandb\u001b[0m:   1 of 1 files downloaded.  \n"
     ]
    },
    {
     "name": "stdout",
     "output_type": "stream",
     "text": [
      "2025-04-22 16:30:54,271 - INFO - Downloaded logs_unukii47:v0 to /scratch/downloaded_artifacts/logs_unukii47:v0\n"
     ]
    },
    {
     "name": "stderr",
     "output_type": "stream",
     "text": [
      "\u001b[34m\u001b[1mwandb\u001b[0m:   1 of 1 files downloaded.  \n"
     ]
    },
    {
     "name": "stdout",
     "output_type": "stream",
     "text": [
      "2025-04-22 16:30:54,299 - INFO - Downloaded logs_4mhwi3u3:v0 to /scratch/downloaded_artifacts/logs_4mhwi3u3:v0\n"
     ]
    },
    {
     "name": "stderr",
     "output_type": "stream",
     "text": [
      "\u001b[34m\u001b[1mwandb\u001b[0m:   1 of 1 files downloaded.  \n"
     ]
    },
    {
     "name": "stdout",
     "output_type": "stream",
     "text": [
      "2025-04-22 16:30:54,482 - INFO - Downloaded logs_6n1lqtfo:v0 to /scratch/downloaded_artifacts/logs_6n1lqtfo:v0\n"
     ]
    },
    {
     "name": "stderr",
     "output_type": "stream",
     "text": [
      "\u001b[34m\u001b[1mwandb\u001b[0m:   1 of 1 files downloaded.  \n"
     ]
    },
    {
     "name": "stdout",
     "output_type": "stream",
     "text": [
      "2025-04-22 16:30:55,056 - INFO - Downloaded logs_8ci11ee3:v0 to /scratch/downloaded_artifacts/logs_8ci11ee3:v0\n"
     ]
    },
    {
     "name": "stderr",
     "output_type": "stream",
     "text": [
      "\u001b[34m\u001b[1mwandb\u001b[0m:   1 of 1 files downloaded.  \n"
     ]
    },
    {
     "name": "stdout",
     "output_type": "stream",
     "text": [
      "2025-04-22 16:30:55,846 - INFO - Downloaded logs_cgssojw1:v0 to /scratch/downloaded_artifacts/logs_cgssojw1:v0\n"
     ]
    },
    {
     "name": "stderr",
     "output_type": "stream",
     "text": [
      "\u001b[34m\u001b[1mwandb\u001b[0m:   1 of 1 files downloaded.  \n"
     ]
    },
    {
     "name": "stdout",
     "output_type": "stream",
     "text": [
      "2025-04-22 16:30:55,866 - INFO - Downloaded logs_js3jooax:v0 to /scratch/downloaded_artifacts/logs_js3jooax:v0\n"
     ]
    },
    {
     "name": "stderr",
     "output_type": "stream",
     "text": [
      "\u001b[34m\u001b[1mwandb\u001b[0m:   1 of 1 files downloaded.  \n"
     ]
    },
    {
     "name": "stdout",
     "output_type": "stream",
     "text": [
      "2025-04-22 16:30:55,879 - INFO - Downloaded logs_vy9qca47:v0 to /scratch/downloaded_artifacts/logs_vy9qca47:v0\n"
     ]
    },
    {
     "name": "stderr",
     "output_type": "stream",
     "text": [
      "\u001b[34m\u001b[1mwandb\u001b[0m:   1 of 1 files downloaded.  \n"
     ]
    },
    {
     "name": "stdout",
     "output_type": "stream",
     "text": [
      "2025-04-22 16:30:55,911 - INFO - Downloaded logs_hjjkmry9:v0 to /scratch/downloaded_artifacts/logs_hjjkmry9:v0\n"
     ]
    },
    {
     "name": "stderr",
     "output_type": "stream",
     "text": [
      "\u001b[34m\u001b[1mwandb\u001b[0m:   1 of 1 files downloaded.  \n"
     ]
    },
    {
     "name": "stdout",
     "output_type": "stream",
     "text": [
      "2025-04-22 16:30:55,920 - INFO - Downloaded logs_kcqiynfm:v0 to /scratch/downloaded_artifacts/logs_kcqiynfm:v0\n"
     ]
    },
    {
     "name": "stderr",
     "output_type": "stream",
     "text": [
      "\u001b[34m\u001b[1mwandb\u001b[0m:   1 of 1 files downloaded.  \n"
     ]
    },
    {
     "name": "stdout",
     "output_type": "stream",
     "text": [
      "2025-04-22 16:30:55,929 - INFO - Downloaded logs_hmez2wps:v0 to /scratch/downloaded_artifacts/logs_hmez2wps:v0\n"
     ]
    },
    {
     "name": "stderr",
     "output_type": "stream",
     "text": [
      "\u001b[34m\u001b[1mwandb\u001b[0m:   1 of 1 files downloaded.  \n",
      "\u001b[34m\u001b[1mwandb\u001b[0m:   1 of 1 files downloaded.  \n"
     ]
    },
    {
     "name": "stdout",
     "output_type": "stream",
     "text": [
      "2025-04-22 16:30:55,936 - INFO - Downloaded logs_us43k987:v0 to /scratch/downloaded_artifacts/logs_us43k987:v0\n",
      "2025-04-22 16:30:55,938 - INFO - Downloaded logs_mik98g3n:v0 to /scratch/downloaded_artifacts/logs_mik98g3n:v0\n"
     ]
    },
    {
     "name": "stderr",
     "output_type": "stream",
     "text": [
      "\u001b[34m\u001b[1mwandb\u001b[0m:   1 of 1 files downloaded.  \n",
      "\u001b[34m\u001b[1mwandb\u001b[0m:   1 of 1 files downloaded.  \n"
     ]
    },
    {
     "name": "stdout",
     "output_type": "stream",
     "text": [
      "2025-04-22 16:30:55,946 - INFO - Downloaded logs_i1s8slpe:v0 to /scratch/downloaded_artifacts/logs_i1s8slpe:v0\n",
      "2025-04-22 16:30:55,946 - INFO - Downloaded logs_ui355pqo:v0 to /scratch/downloaded_artifacts/logs_ui355pqo:v0\n"
     ]
    },
    {
     "name": "stderr",
     "output_type": "stream",
     "text": [
      "\u001b[34m\u001b[1mwandb\u001b[0m:   1 of 1 files downloaded.  \n"
     ]
    },
    {
     "name": "stdout",
     "output_type": "stream",
     "text": [
      "2025-04-22 16:30:55,955 - INFO - Downloaded logs_ycy0pqjj:v0 to /scratch/downloaded_artifacts/logs_ycy0pqjj:v0\n"
     ]
    },
    {
     "name": "stderr",
     "output_type": "stream",
     "text": [
      "\u001b[34m\u001b[1mwandb\u001b[0m:   1 of 1 files downloaded.  \n",
      "\u001b[34m\u001b[1mwandb\u001b[0m:   1 of 1 files downloaded.  \n"
     ]
    },
    {
     "name": "stdout",
     "output_type": "stream",
     "text": [
      "2025-04-22 16:30:55,974 - INFO - Downloaded logs_iagdoycf:v0 to /scratch/downloaded_artifacts/logs_iagdoycf:v0\n",
      "2025-04-22 16:30:55,977 - INFO - Downloaded logs_wirhogaf:v0 to /scratch/downloaded_artifacts/logs_wirhogaf:v0\n"
     ]
    },
    {
     "name": "stderr",
     "output_type": "stream",
     "text": [
      "\u001b[34m\u001b[1mwandb\u001b[0m:   1 of 1 files downloaded.  \n"
     ]
    },
    {
     "name": "stdout",
     "output_type": "stream",
     "text": [
      "2025-04-22 16:30:55,979 - INFO - Downloaded logs_didnngsh:v0 to /scratch/downloaded_artifacts/logs_didnngsh:v0\n"
     ]
    },
    {
     "name": "stderr",
     "output_type": "stream",
     "text": [
      "\u001b[34m\u001b[1mwandb\u001b[0m:   1 of 1 files downloaded.  \n"
     ]
    },
    {
     "name": "stdout",
     "output_type": "stream",
     "text": [
      "2025-04-22 16:30:55,997 - INFO - Downloaded logs_zob9p8sl:v0 to /scratch/downloaded_artifacts/logs_zob9p8sl:v0\n"
     ]
    },
    {
     "name": "stderr",
     "output_type": "stream",
     "text": [
      "\u001b[34m\u001b[1mwandb\u001b[0m: \u001b[32m\u001b[41mERROR\u001b[0m Error while calling W&B API: rate limit exceeded (<Response [429]>)\n",
      "\u001b[34m\u001b[1mwandb\u001b[0m: \u001b[32m\u001b[41mERROR\u001b[0m Error while calling W&B API: rate limit exceeded (<Response [429]>)\n",
      "\u001b[34m\u001b[1mwandb\u001b[0m: \u001b[32m\u001b[41mERROR\u001b[0m Error while calling W&B API: rate limit exceeded (<Response [429]>)\n",
      "\u001b[34m\u001b[1mwandb\u001b[0m: \u001b[32m\u001b[41mERROR\u001b[0m Error while calling W&B API: rate limit exceeded (<Response [429]>)\n",
      "\u001b[34m\u001b[1mwandb\u001b[0m: \u001b[32m\u001b[41mERROR\u001b[0m Error while calling W&B API: rate limit exceeded (<Response [429]>)\n",
      "\u001b[34m\u001b[1mwandb\u001b[0m: \u001b[32m\u001b[41mERROR\u001b[0m Error while calling W&B API: rate limit exceeded (<Response [429]>)\n",
      "\u001b[34m\u001b[1mwandb\u001b[0m: \u001b[32m\u001b[41mERROR\u001b[0m Error while calling W&B API: rate limit exceeded (<Response [429]>)\n",
      "\u001b[34m\u001b[1mwandb\u001b[0m: \u001b[32m\u001b[41mERROR\u001b[0m Error while calling W&B API: rate limit exceeded (<Response [429]>)\n",
      "\u001b[34m\u001b[1mwandb\u001b[0m: \u001b[32m\u001b[41mERROR\u001b[0m Error while calling W&B API: rate limit exceeded (<Response [429]>)\n",
      "\u001b[34m\u001b[1mwandb\u001b[0m: \u001b[32m\u001b[41mERROR\u001b[0m Error while calling W&B API: rate limit exceeded (<Response [429]>)\n",
      "\u001b[34m\u001b[1mwandb\u001b[0m: \u001b[32m\u001b[41mERROR\u001b[0m Error while calling W&B API: rate limit exceeded (<Response [429]>)\n",
      "\u001b[34m\u001b[1mwandb\u001b[0m: \u001b[32m\u001b[41mERROR\u001b[0m Error while calling W&B API: rate limit exceeded (<Response [429]>)\n",
      "\u001b[34m\u001b[1mwandb\u001b[0m: \u001b[32m\u001b[41mERROR\u001b[0m Error while calling W&B API: rate limit exceeded (<Response [429]>)\n",
      "\u001b[34m\u001b[1mwandb\u001b[0m: \u001b[33mWARNING\u001b[0m A graphql request initiated by the public wandb API timed out (timeout=19 sec). Create a new API with an integer timeout larger than 19, e.g., `api = wandb.Api(timeout=29)` to increase the graphql timeout.\n",
      "\u001b[34m\u001b[1mwandb\u001b[0m: \u001b[32m\u001b[41mERROR\u001b[0m Error while calling W&B API: rate limit exceeded (<Response [429]>)\n",
      "\u001b[34m\u001b[1mwandb\u001b[0m: \u001b[32m\u001b[41mERROR\u001b[0m Error while calling W&B API: rate limit exceeded (<Response [429]>)\n",
      "\u001b[34m\u001b[1mwandb\u001b[0m: \u001b[32m\u001b[41mERROR\u001b[0m Error while calling W&B API: rate limit exceeded (<Response [429]>)\n",
      "\u001b[34m\u001b[1mwandb\u001b[0m: \u001b[32m\u001b[41mERROR\u001b[0m Error while calling W&B API: rate limit exceeded (<Response [429]>)\n",
      "\u001b[34m\u001b[1mwandb\u001b[0m: \u001b[32m\u001b[41mERROR\u001b[0m Error while calling W&B API: rate limit exceeded (<Response [429]>)\n",
      "\u001b[34m\u001b[1mwandb\u001b[0m: \u001b[32m\u001b[41mERROR\u001b[0m Error while calling W&B API: rate limit exceeded (<Response [429]>)\n",
      "\u001b[34m\u001b[1mwandb\u001b[0m: Network error (HTTPError), entering retry loop.\n",
      "\u001b[34m\u001b[1mwandb\u001b[0m: Network error (HTTPError), entering retry loop.\n",
      "\u001b[34m\u001b[1mwandb\u001b[0m: \u001b[32m\u001b[41mERROR\u001b[0m Error while calling W&B API: rate limit exceeded (<Response [429]>)\n",
      "\u001b[34m\u001b[1mwandb\u001b[0m: \u001b[32m\u001b[41mERROR\u001b[0m Error while calling W&B API: rate limit exceeded (<Response [429]>)\n",
      "\u001b[34m\u001b[1mwandb\u001b[0m: \u001b[32m\u001b[41mERROR\u001b[0m Error while calling W&B API: rate limit exceeded (<Response [429]>)\n",
      "\u001b[34m\u001b[1mwandb\u001b[0m: \u001b[32m\u001b[41mERROR\u001b[0m Error while calling W&B API: rate limit exceeded (<Response [429]>)\n",
      "\u001b[34m\u001b[1mwandb\u001b[0m: \u001b[32m\u001b[41mERROR\u001b[0m Error while calling W&B API: rate limit exceeded (<Response [429]>)\n",
      "\u001b[34m\u001b[1mwandb\u001b[0m: \u001b[32m\u001b[41mERROR\u001b[0m Error while calling W&B API: rate limit exceeded (<Response [429]>)\n",
      "\u001b[34m\u001b[1mwandb\u001b[0m: \u001b[32m\u001b[41mERROR\u001b[0m Error while calling W&B API: rate limit exceeded (<Response [429]>)\n"
     ]
    },
    {
     "name": "stdout",
     "output_type": "stream",
     "text": [
      "2025-04-22 16:30:58,020 - ERROR - Error downloading artifact for run q40akhlx: HTTP 429: rate limit exceeded\n"
     ]
    },
    {
     "name": "stderr",
     "output_type": "stream",
     "text": [
      "\u001b[34m\u001b[1mwandb\u001b[0m: \u001b[32m\u001b[41mERROR\u001b[0m Error while calling W&B API: rate limit exceeded (<Response [429]>)\n",
      "\u001b[34m\u001b[1mwandb\u001b[0m: Network error (HTTPError), entering retry loop.\n",
      "\u001b[34m\u001b[1mwandb\u001b[0m: \u001b[32m\u001b[41mERROR\u001b[0m Error while calling W&B API: rate limit exceeded (<Response [429]>)\n",
      "\u001b[34m\u001b[1mwandb\u001b[0m: Network error (HTTPError), entering retry loop.\n",
      "\u001b[34m\u001b[1mwandb\u001b[0m: \u001b[32m\u001b[41mERROR\u001b[0m Error while calling W&B API: rate limit exceeded (<Response [429]>)\n",
      "\u001b[34m\u001b[1mwandb\u001b[0m: Network error (HTTPError), entering retry loop.\n",
      "\u001b[34m\u001b[1mwandb\u001b[0m: \u001b[32m\u001b[41mERROR\u001b[0m Error while calling W&B API: rate limit exceeded (<Response [429]>)\n",
      "\u001b[34m\u001b[1mwandb\u001b[0m: Network error (HTTPError), entering retry loop.\n",
      "\u001b[34m\u001b[1mwandb\u001b[0m: \u001b[32m\u001b[41mERROR\u001b[0m Error while calling W&B API: rate limit exceeded (<Response [429]>)\n",
      "\u001b[34m\u001b[1mwandb\u001b[0m: Network error (HTTPError), entering retry loop.\n",
      "\u001b[34m\u001b[1mwandb\u001b[0m: \u001b[32m\u001b[41mERROR\u001b[0m Error while calling W&B API: rate limit exceeded (<Response [429]>)\n",
      "\u001b[34m\u001b[1mwandb\u001b[0m: Network error (HTTPError), entering retry loop.\n",
      "\u001b[34m\u001b[1mwandb\u001b[0m: \u001b[32m\u001b[41mERROR\u001b[0m Error while calling W&B API: rate limit exceeded (<Response [429]>)\n",
      "\u001b[34m\u001b[1mwandb\u001b[0m: Network error (HTTPError), entering retry loop.\n",
      "\u001b[34m\u001b[1mwandb\u001b[0m: \u001b[32m\u001b[41mERROR\u001b[0m Error while calling W&B API: rate limit exceeded (<Response [429]>)\n",
      "\u001b[34m\u001b[1mwandb\u001b[0m: Network error (HTTPError), entering retry loop.\n",
      "\u001b[34m\u001b[1mwandb\u001b[0m: \u001b[32m\u001b[41mERROR\u001b[0m Error while calling W&B API: rate limit exceeded (<Response [429]>)\n",
      "\u001b[34m\u001b[1mwandb\u001b[0m: Network error (HTTPError), entering retry loop.\n",
      "\u001b[34m\u001b[1mwandb\u001b[0m: \u001b[32m\u001b[41mERROR\u001b[0m Error while calling W&B API: rate limit exceeded (<Response [429]>)\n",
      "\u001b[34m\u001b[1mwandb\u001b[0m: Network error (HTTPError), entering retry loop.\n",
      "\u001b[34m\u001b[1mwandb\u001b[0m: \u001b[32m\u001b[41mERROR\u001b[0m Error while calling W&B API: rate limit exceeded (<Response [429]>)\n",
      "\u001b[34m\u001b[1mwandb\u001b[0m: Network error (HTTPError), entering retry loop.\n",
      "\u001b[34m\u001b[1mwandb\u001b[0m: \u001b[32m\u001b[41mERROR\u001b[0m Error while calling W&B API: rate limit exceeded (<Response [429]>)\n",
      "\u001b[34m\u001b[1mwandb\u001b[0m: Network error (HTTPError), entering retry loop.\n",
      "\u001b[34m\u001b[1mwandb\u001b[0m: \u001b[32m\u001b[41mERROR\u001b[0m Error while calling W&B API: rate limit exceeded (<Response [429]>)\n",
      "\u001b[34m\u001b[1mwandb\u001b[0m: Network error (HTTPError), entering retry loop.\n",
      "\u001b[34m\u001b[1mwandb\u001b[0m:   1 of 1 files downloaded.  \n"
     ]
    },
    {
     "name": "stdout",
     "output_type": "stream",
     "text": [
      "2025-04-22 16:31:01,203 - INFO - Downloaded logs_3dnmuqah:v0 to /scratch/downloaded_artifacts/logs_3dnmuqah:v0\n"
     ]
    },
    {
     "name": "stderr",
     "output_type": "stream",
     "text": [
      "\u001b[34m\u001b[1mwandb\u001b[0m:   1 of 1 files downloaded.  \n"
     ]
    },
    {
     "name": "stdout",
     "output_type": "stream",
     "text": [
      "2025-04-22 16:31:01,491 - INFO - Downloaded logs_12j6mr8e:v0 to /scratch/downloaded_artifacts/logs_12j6mr8e:v0\n"
     ]
    },
    {
     "name": "stderr",
     "output_type": "stream",
     "text": [
      "\u001b[34m\u001b[1mwandb\u001b[0m:   1 of 1 files downloaded.  \n"
     ]
    },
    {
     "name": "stdout",
     "output_type": "stream",
     "text": [
      "2025-04-22 16:31:02,280 - INFO - Downloaded logs_9bepv688:v0 to /scratch/downloaded_artifacts/logs_9bepv688:v0\n"
     ]
    },
    {
     "name": "stderr",
     "output_type": "stream",
     "text": [
      "\u001b[34m\u001b[1mwandb\u001b[0m:   1 of 1 files downloaded.  \n"
     ]
    },
    {
     "name": "stdout",
     "output_type": "stream",
     "text": [
      "2025-04-22 16:31:02,331 - INFO - Downloaded logs_frhhx6x5:v0 to /scratch/downloaded_artifacts/logs_frhhx6x5:v0\n"
     ]
    },
    {
     "name": "stderr",
     "output_type": "stream",
     "text": [
      "\u001b[34m\u001b[1mwandb\u001b[0m:   1 of 1 files downloaded.  \n"
     ]
    },
    {
     "name": "stdout",
     "output_type": "stream",
     "text": [
      "2025-04-22 16:31:02,383 - INFO - Downloaded logs_4dj4bli7:v0 to /scratch/downloaded_artifacts/logs_4dj4bli7:v0\n"
     ]
    },
    {
     "name": "stderr",
     "output_type": "stream",
     "text": [
      "\u001b[34m\u001b[1mwandb\u001b[0m:   1 of 1 files downloaded.  \n"
     ]
    },
    {
     "name": "stdout",
     "output_type": "stream",
     "text": [
      "2025-04-22 16:31:03,150 - INFO - Downloaded logs_givb3lga:v0 to /scratch/downloaded_artifacts/logs_givb3lga:v0\n"
     ]
    },
    {
     "name": "stderr",
     "output_type": "stream",
     "text": [
      "\u001b[34m\u001b[1mwandb\u001b[0m:   1 of 1 files downloaded.  \n"
     ]
    },
    {
     "name": "stdout",
     "output_type": "stream",
     "text": [
      "2025-04-22 16:31:03,195 - INFO - Downloaded logs_jrc7xl73:v0 to /scratch/downloaded_artifacts/logs_jrc7xl73:v0\n"
     ]
    },
    {
     "name": "stderr",
     "output_type": "stream",
     "text": [
      "\u001b[34m\u001b[1mwandb\u001b[0m:   1 of 1 files downloaded.  \n"
     ]
    },
    {
     "name": "stdout",
     "output_type": "stream",
     "text": [
      "2025-04-22 16:31:03,251 - INFO - Downloaded logs_kekdtxsk:v0 to /scratch/downloaded_artifacts/logs_kekdtxsk:v0\n"
     ]
    },
    {
     "name": "stderr",
     "output_type": "stream",
     "text": [
      "\u001b[34m\u001b[1mwandb\u001b[0m:   1 of 1 files downloaded.  \n"
     ]
    },
    {
     "name": "stdout",
     "output_type": "stream",
     "text": [
      "2025-04-22 16:31:04,834 - INFO - Downloaded logs_55u11tbm:v0 to /scratch/downloaded_artifacts/logs_55u11tbm:v0\n"
     ]
    },
    {
     "name": "stderr",
     "output_type": "stream",
     "text": [
      "\u001b[34m\u001b[1mwandb\u001b[0m:   1 of 1 files downloaded.  \n"
     ]
    },
    {
     "name": "stdout",
     "output_type": "stream",
     "text": [
      "2025-04-22 16:31:04,913 - INFO - Downloaded logs_usadn0z5:v0 to /scratch/downloaded_artifacts/logs_usadn0z5:v0\n"
     ]
    },
    {
     "name": "stderr",
     "output_type": "stream",
     "text": [
      "\u001b[34m\u001b[1mwandb\u001b[0m:   1 of 1 files downloaded.  \n"
     ]
    },
    {
     "name": "stdout",
     "output_type": "stream",
     "text": [
      "2025-04-22 16:31:04,919 - INFO - Downloaded logs_g7fzajz1:v0 to /scratch/downloaded_artifacts/logs_g7fzajz1:v0\n"
     ]
    },
    {
     "name": "stderr",
     "output_type": "stream",
     "text": [
      "\u001b[34m\u001b[1mwandb\u001b[0m:   1 of 1 files downloaded.  \n"
     ]
    },
    {
     "name": "stdout",
     "output_type": "stream",
     "text": [
      "2025-04-22 16:31:04,942 - INFO - Downloaded logs_m2ykpbkt:v0 to /scratch/downloaded_artifacts/logs_m2ykpbkt:v0\n"
     ]
    },
    {
     "name": "stderr",
     "output_type": "stream",
     "text": [
      "\u001b[34m\u001b[1mwandb\u001b[0m:   1 of 1 files downloaded.  \n",
      "\u001b[34m\u001b[1mwandb\u001b[0m:   1 of 1 files downloaded.  \n"
     ]
    },
    {
     "name": "stdout",
     "output_type": "stream",
     "text": [
      "2025-04-22 16:31:04,952 - INFO - Downloaded logs_28n8ow26:v0 to /scratch/downloaded_artifacts/logs_28n8ow26:v0\n",
      "2025-04-22 16:31:04,961 - INFO - Downloaded logs_7rrrel8n:v0 to /scratch/downloaded_artifacts/logs_7rrrel8n:v0\n"
     ]
    },
    {
     "name": "stderr",
     "output_type": "stream",
     "text": [
      "\u001b[34m\u001b[1mwandb\u001b[0m:   1 of 1 files downloaded.  \n"
     ]
    },
    {
     "name": "stdout",
     "output_type": "stream",
     "text": [
      "2025-04-22 16:31:04,968 - INFO - Downloaded logs_wijqoxq7:v0 to /scratch/downloaded_artifacts/logs_wijqoxq7:v0\n"
     ]
    },
    {
     "name": "stderr",
     "output_type": "stream",
     "text": [
      "\u001b[34m\u001b[1mwandb\u001b[0m:   1 of 1 files downloaded.  \n",
      "\u001b[34m\u001b[1mwandb\u001b[0m:   1 of 1 files downloaded.  \n"
     ]
    },
    {
     "name": "stdout",
     "output_type": "stream",
     "text": [
      "2025-04-22 16:31:04,975 - INFO - Downloaded logs_0c5yne3z:v0 to /scratch/downloaded_artifacts/logs_0c5yne3z:v0\n"
     ]
    },
    {
     "name": "stderr",
     "output_type": "stream",
     "text": [
      "\u001b[34m\u001b[1mwandb\u001b[0m:   1 of 1 files downloaded.  \n"
     ]
    },
    {
     "name": "stdout",
     "output_type": "stream",
     "text": [
      "2025-04-22 16:31:04,976 - INFO - Downloaded logs_w9wlqszh:v0 to /scratch/downloaded_artifacts/logs_w9wlqszh:v0\n",
      "2025-04-22 16:31:04,977 - INFO - Downloaded logs_3j2bdkvg:v0 to /scratch/downloaded_artifacts/logs_3j2bdkvg:v0\n"
     ]
    },
    {
     "name": "stderr",
     "output_type": "stream",
     "text": [
      "\u001b[34m\u001b[1mwandb\u001b[0m:   1 of 1 files downloaded.  \n"
     ]
    },
    {
     "name": "stdout",
     "output_type": "stream",
     "text": [
      "2025-04-22 16:31:04,986 - INFO - Downloaded logs_2c7ks01l:v0 to /scratch/downloaded_artifacts/logs_2c7ks01l:v0\n"
     ]
    },
    {
     "name": "stderr",
     "output_type": "stream",
     "text": [
      "\u001b[34m\u001b[1mwandb\u001b[0m:   1 of 1 files downloaded.  \n"
     ]
    },
    {
     "name": "stdout",
     "output_type": "stream",
     "text": [
      "2025-04-22 16:31:05,004 - INFO - Downloaded logs_feya0alt:v0 to /scratch/downloaded_artifacts/logs_feya0alt:v0\n"
     ]
    },
    {
     "name": "stderr",
     "output_type": "stream",
     "text": [
      "\u001b[34m\u001b[1mwandb\u001b[0m:   1 of 1 files downloaded.  \n"
     ]
    },
    {
     "name": "stdout",
     "output_type": "stream",
     "text": [
      "2025-04-22 16:31:05,369 - INFO - Downloaded logs_4bf7fmsf:v0 to /scratch/downloaded_artifacts/logs_4bf7fmsf:v0\n"
     ]
    },
    {
     "name": "stderr",
     "output_type": "stream",
     "text": [
      "\u001b[34m\u001b[1mwandb\u001b[0m:   1 of 1 files downloaded.  \n"
     ]
    },
    {
     "name": "stdout",
     "output_type": "stream",
     "text": [
      "2025-04-22 16:31:05,421 - INFO - Downloaded logs_ahhg3ice:v0 to /scratch/downloaded_artifacts/logs_ahhg3ice:v0\n"
     ]
    },
    {
     "name": "stderr",
     "output_type": "stream",
     "text": [
      "\u001b[34m\u001b[1mwandb\u001b[0m:   1 of 1 files downloaded.  \n"
     ]
    },
    {
     "name": "stdout",
     "output_type": "stream",
     "text": [
      "2025-04-22 16:31:05,423 - INFO - Downloaded logs_hvtyraew:v0 to /scratch/downloaded_artifacts/logs_hvtyraew:v0\n"
     ]
    },
    {
     "name": "stderr",
     "output_type": "stream",
     "text": [
      "\u001b[34m\u001b[1mwandb\u001b[0m:   1 of 1 files downloaded.  \n"
     ]
    },
    {
     "name": "stdout",
     "output_type": "stream",
     "text": [
      "2025-04-22 16:31:05,438 - INFO - Downloaded logs_rt1ufamm:v0 to /scratch/downloaded_artifacts/logs_rt1ufamm:v0\n"
     ]
    },
    {
     "name": "stderr",
     "output_type": "stream",
     "text": [
      "\u001b[34m\u001b[1mwandb\u001b[0m:   1 of 1 files downloaded.  \n"
     ]
    },
    {
     "name": "stdout",
     "output_type": "stream",
     "text": [
      "2025-04-22 16:31:05,447 - INFO - Downloaded logs_7ym3auua:v0 to /scratch/downloaded_artifacts/logs_7ym3auua:v0\n"
     ]
    },
    {
     "name": "stderr",
     "output_type": "stream",
     "text": [
      "\u001b[34m\u001b[1mwandb\u001b[0m:   1 of 1 files downloaded.  \n"
     ]
    },
    {
     "name": "stdout",
     "output_type": "stream",
     "text": [
      "2025-04-22 16:31:05,516 - INFO - Downloaded logs_rwgvljyl:v0 to /scratch/downloaded_artifacts/logs_rwgvljyl:v0\n"
     ]
    },
    {
     "name": "stderr",
     "output_type": "stream",
     "text": [
      "\u001b[34m\u001b[1mwandb\u001b[0m:   1 of 1 files downloaded.  \n"
     ]
    },
    {
     "name": "stdout",
     "output_type": "stream",
     "text": [
      "2025-04-22 16:31:05,626 - INFO - Downloaded logs_2trd1fvx:v0 to /scratch/downloaded_artifacts/logs_2trd1fvx:v0\n"
     ]
    },
    {
     "name": "stderr",
     "output_type": "stream",
     "text": [
      "\u001b[34m\u001b[1mwandb\u001b[0m:   1 of 1 files downloaded.  \n"
     ]
    },
    {
     "name": "stdout",
     "output_type": "stream",
     "text": [
      "2025-04-22 16:31:05,966 - INFO - Downloaded logs_ztrsgi04:v0 to /scratch/downloaded_artifacts/logs_ztrsgi04:v0\n"
     ]
    },
    {
     "name": "stderr",
     "output_type": "stream",
     "text": [
      "\u001b[34m\u001b[1mwandb\u001b[0m:   1 of 1 files downloaded.  \n"
     ]
    },
    {
     "name": "stdout",
     "output_type": "stream",
     "text": [
      "2025-04-22 16:31:06,146 - INFO - Downloaded logs_6ay1tdia:v0 to /scratch/downloaded_artifacts/logs_6ay1tdia:v0\n"
     ]
    },
    {
     "name": "stderr",
     "output_type": "stream",
     "text": [
      "\u001b[34m\u001b[1mwandb\u001b[0m:   1 of 1 files downloaded.  \n"
     ]
    },
    {
     "name": "stdout",
     "output_type": "stream",
     "text": [
      "2025-04-22 16:31:06,204 - INFO - Downloaded logs_0408g54v:v0 to /scratch/downloaded_artifacts/logs_0408g54v:v0\n"
     ]
    },
    {
     "name": "stderr",
     "output_type": "stream",
     "text": [
      "\u001b[34m\u001b[1mwandb\u001b[0m:   1 of 1 files downloaded.  \n"
     ]
    },
    {
     "name": "stdout",
     "output_type": "stream",
     "text": [
      "2025-04-22 16:31:06,294 - INFO - Downloaded logs_cmbfehfm:v0 to /scratch/downloaded_artifacts/logs_cmbfehfm:v0\n"
     ]
    },
    {
     "name": "stderr",
     "output_type": "stream",
     "text": [
      "\u001b[34m\u001b[1mwandb\u001b[0m:   1 of 1 files downloaded.  \n"
     ]
    },
    {
     "name": "stdout",
     "output_type": "stream",
     "text": [
      "2025-04-22 16:31:06,358 - INFO - Downloaded logs_ptvw5wtw:v0 to /scratch/downloaded_artifacts/logs_ptvw5wtw:v0\n"
     ]
    },
    {
     "name": "stderr",
     "output_type": "stream",
     "text": [
      "\u001b[34m\u001b[1mwandb\u001b[0m:   1 of 1 files downloaded.  \n"
     ]
    },
    {
     "name": "stdout",
     "output_type": "stream",
     "text": [
      "2025-04-22 16:31:06,375 - INFO - Downloaded logs_haposrhn:v0 to /scratch/downloaded_artifacts/logs_haposrhn:v0\n"
     ]
    },
    {
     "name": "stderr",
     "output_type": "stream",
     "text": [
      "\u001b[34m\u001b[1mwandb\u001b[0m:   1 of 1 files downloaded.  \n"
     ]
    },
    {
     "name": "stdout",
     "output_type": "stream",
     "text": [
      "2025-04-22 16:31:06,415 - INFO - Downloaded logs_r60gf6bq:v0 to /scratch/downloaded_artifacts/logs_r60gf6bq:v0\n"
     ]
    },
    {
     "name": "stderr",
     "output_type": "stream",
     "text": [
      "\u001b[34m\u001b[1mwandb\u001b[0m:   1 of 1 files downloaded.  \n"
     ]
    },
    {
     "name": "stdout",
     "output_type": "stream",
     "text": [
      "2025-04-22 16:31:06,431 - INFO - Downloaded logs_boon7ek5:v0 to /scratch/downloaded_artifacts/logs_boon7ek5:v0\n"
     ]
    },
    {
     "name": "stderr",
     "output_type": "stream",
     "text": [
      "\u001b[34m\u001b[1mwandb\u001b[0m:   1 of 1 files downloaded.  \n",
      "\u001b[34m\u001b[1mwandb\u001b[0m:   1 of 1 files downloaded.  \n"
     ]
    },
    {
     "name": "stdout",
     "output_type": "stream",
     "text": [
      "2025-04-22 16:31:06,607 - INFO - Downloaded logs_sw5ve0u6:v0 to /scratch/downloaded_artifacts/logs_sw5ve0u6:v0\n",
      "2025-04-22 16:31:06,666 - INFO - Downloaded logs_qsqci3ch:v0 to /scratch/downloaded_artifacts/logs_qsqci3ch:v0\n"
     ]
    },
    {
     "name": "stderr",
     "output_type": "stream",
     "text": [
      "\u001b[34m\u001b[1mwandb\u001b[0m:   1 of 1 files downloaded.  \n"
     ]
    },
    {
     "name": "stdout",
     "output_type": "stream",
     "text": [
      "2025-04-22 16:31:06,679 - INFO - Downloaded logs_f3socpli:v0 to /scratch/downloaded_artifacts/logs_f3socpli:v0\n"
     ]
    },
    {
     "name": "stderr",
     "output_type": "stream",
     "text": [
      "\u001b[34m\u001b[1mwandb\u001b[0m:   1 of 1 files downloaded.  \n"
     ]
    },
    {
     "name": "stdout",
     "output_type": "stream",
     "text": [
      "2025-04-22 16:31:06,737 - INFO - Downloaded logs_b0hwm745:v0 to /scratch/downloaded_artifacts/logs_b0hwm745:v0\n"
     ]
    },
    {
     "name": "stderr",
     "output_type": "stream",
     "text": [
      "\u001b[34m\u001b[1mwandb\u001b[0m:   1 of 1 files downloaded.  \n"
     ]
    },
    {
     "name": "stdout",
     "output_type": "stream",
     "text": [
      "2025-04-22 16:31:06,802 - INFO - Downloaded logs_8fj6y9ny:v0 to /scratch/downloaded_artifacts/logs_8fj6y9ny:v0\n"
     ]
    },
    {
     "name": "stderr",
     "output_type": "stream",
     "text": [
      "\u001b[34m\u001b[1mwandb\u001b[0m:   1 of 1 files downloaded.  \n",
      "\u001b[34m\u001b[1mwandb\u001b[0m:   1 of 1 files downloaded.  \n"
     ]
    },
    {
     "name": "stdout",
     "output_type": "stream",
     "text": [
      "2025-04-22 16:31:06,815 - INFO - Downloaded logs_7jutusi9:v0 to /scratch/downloaded_artifacts/logs_7jutusi9:v0\n",
      "2025-04-22 16:31:06,816 - INFO - Downloaded logs_gq0zpdrj:v0 to /scratch/downloaded_artifacts/logs_gq0zpdrj:v0\n"
     ]
    },
    {
     "name": "stderr",
     "output_type": "stream",
     "text": [
      "\u001b[34m\u001b[1mwandb\u001b[0m:   1 of 1 files downloaded.  \n"
     ]
    },
    {
     "name": "stdout",
     "output_type": "stream",
     "text": [
      "2025-04-22 16:31:06,822 - INFO - Downloaded logs_6l74ewxm:v0 to /scratch/downloaded_artifacts/logs_6l74ewxm:v0\n"
     ]
    },
    {
     "name": "stderr",
     "output_type": "stream",
     "text": [
      "\u001b[34m\u001b[1mwandb\u001b[0m:   1 of 1 files downloaded.  \n"
     ]
    },
    {
     "name": "stdout",
     "output_type": "stream",
     "text": [
      "2025-04-22 16:31:06,847 - INFO - Downloaded logs_ji40oec4:v0 to /scratch/downloaded_artifacts/logs_ji40oec4:v0\n"
     ]
    },
    {
     "name": "stderr",
     "output_type": "stream",
     "text": [
      "\u001b[34m\u001b[1mwandb\u001b[0m:   1 of 1 files downloaded.  \n"
     ]
    },
    {
     "name": "stdout",
     "output_type": "stream",
     "text": [
      "2025-04-22 16:31:07,505 - INFO - Downloaded logs_idsn0a6j:v0 to /scratch/downloaded_artifacts/logs_idsn0a6j:v0\n"
     ]
    },
    {
     "name": "stderr",
     "output_type": "stream",
     "text": [
      "\u001b[34m\u001b[1mwandb\u001b[0m:   1 of 1 files downloaded.  \n"
     ]
    },
    {
     "name": "stdout",
     "output_type": "stream",
     "text": [
      "2025-04-22 16:31:07,570 - INFO - Downloaded logs_1f9iqdos:v0 to /scratch/downloaded_artifacts/logs_1f9iqdos:v0\n"
     ]
    },
    {
     "name": "stderr",
     "output_type": "stream",
     "text": [
      "\u001b[34m\u001b[1mwandb\u001b[0m:   1 of 1 files downloaded.  \n"
     ]
    },
    {
     "name": "stdout",
     "output_type": "stream",
     "text": [
      "2025-04-22 16:31:07,611 - INFO - Downloaded logs_8cvn2o2p:v0 to /scratch/downloaded_artifacts/logs_8cvn2o2p:v0\n"
     ]
    },
    {
     "name": "stderr",
     "output_type": "stream",
     "text": [
      "\u001b[34m\u001b[1mwandb\u001b[0m:   1 of 1 files downloaded.  \n"
     ]
    },
    {
     "name": "stdout",
     "output_type": "stream",
     "text": [
      "2025-04-22 16:31:07,619 - INFO - Downloaded logs_594q5cq6:v0 to /scratch/downloaded_artifacts/logs_594q5cq6:v0\n"
     ]
    },
    {
     "name": "stderr",
     "output_type": "stream",
     "text": [
      "\u001b[34m\u001b[1mwandb\u001b[0m:   1 of 1 files downloaded.  \n"
     ]
    },
    {
     "name": "stdout",
     "output_type": "stream",
     "text": [
      "2025-04-22 16:31:07,626 - INFO - Downloaded logs_sq7c9yyw:v0 to /scratch/downloaded_artifacts/logs_sq7c9yyw:v0\n"
     ]
    },
    {
     "name": "stderr",
     "output_type": "stream",
     "text": [
      "\u001b[34m\u001b[1mwandb\u001b[0m:   1 of 1 files downloaded.  \n"
     ]
    },
    {
     "name": "stdout",
     "output_type": "stream",
     "text": [
      "2025-04-22 16:31:07,654 - INFO - Downloaded logs_m6zlqcgk:v0 to /scratch/downloaded_artifacts/logs_m6zlqcgk:v0\n"
     ]
    },
    {
     "name": "stderr",
     "output_type": "stream",
     "text": [
      "\u001b[34m\u001b[1mwandb\u001b[0m:   1 of 1 files downloaded.  \n"
     ]
    },
    {
     "name": "stdout",
     "output_type": "stream",
     "text": [
      "2025-04-22 16:31:07,656 - INFO - Downloaded logs_w6eoc1ae:v0 to /scratch/downloaded_artifacts/logs_w6eoc1ae:v0\n"
     ]
    },
    {
     "name": "stderr",
     "output_type": "stream",
     "text": [
      "\u001b[34m\u001b[1mwandb\u001b[0m:   1 of 1 files downloaded.  \n"
     ]
    },
    {
     "name": "stdout",
     "output_type": "stream",
     "text": [
      "2025-04-22 16:31:07,964 - INFO - Downloaded logs_yzl109i1:v0 to /scratch/downloaded_artifacts/logs_yzl109i1:v0\n"
     ]
    },
    {
     "name": "stderr",
     "output_type": "stream",
     "text": [
      "\u001b[34m\u001b[1mwandb\u001b[0m:   1 of 1 files downloaded.  \n"
     ]
    },
    {
     "name": "stdout",
     "output_type": "stream",
     "text": [
      "2025-04-22 16:31:08,053 - INFO - Downloaded logs_jslk8u29:v0 to /scratch/downloaded_artifacts/logs_jslk8u29:v0\n"
     ]
    },
    {
     "name": "stderr",
     "output_type": "stream",
     "text": [
      "\u001b[34m\u001b[1mwandb\u001b[0m:   1 of 1 files downloaded.  \n",
      "\u001b[34m\u001b[1mwandb\u001b[0m:   1 of 1 files downloaded.  \n"
     ]
    },
    {
     "name": "stdout",
     "output_type": "stream",
     "text": [
      "2025-04-22 16:31:08,062 - INFO - Downloaded logs_kqpap37w:v0 to /scratch/downloaded_artifacts/logs_kqpap37w:v0\n",
      "2025-04-22 16:31:08,063 - INFO - Downloaded logs_m77ubbja:v0 to /scratch/downloaded_artifacts/logs_m77ubbja:v0\n"
     ]
    },
    {
     "name": "stderr",
     "output_type": "stream",
     "text": [
      "\u001b[34m\u001b[1mwandb\u001b[0m:   1 of 1 files downloaded.  \n"
     ]
    },
    {
     "name": "stdout",
     "output_type": "stream",
     "text": [
      "2025-04-22 16:31:08,131 - INFO - Downloaded logs_1kw0cky9:v0 to /scratch/downloaded_artifacts/logs_1kw0cky9:v0\n"
     ]
    },
    {
     "name": "stderr",
     "output_type": "stream",
     "text": [
      "\u001b[34m\u001b[1mwandb\u001b[0m:   1 of 1 files downloaded.  \n"
     ]
    },
    {
     "name": "stdout",
     "output_type": "stream",
     "text": [
      "2025-04-22 16:31:08,141 - INFO - Downloaded logs_a93vfrz9:v0 to /scratch/downloaded_artifacts/logs_a93vfrz9:v0\n"
     ]
    },
    {
     "name": "stderr",
     "output_type": "stream",
     "text": [
      "\u001b[34m\u001b[1mwandb\u001b[0m:   1 of 1 files downloaded.  \n"
     ]
    },
    {
     "name": "stdout",
     "output_type": "stream",
     "text": [
      "2025-04-22 16:31:08,154 - INFO - Downloaded logs_kvl26gj8:v0 to /scratch/downloaded_artifacts/logs_kvl26gj8:v0\n"
     ]
    },
    {
     "name": "stderr",
     "output_type": "stream",
     "text": [
      "\u001b[34m\u001b[1mwandb\u001b[0m:   1 of 1 files downloaded.  \n"
     ]
    },
    {
     "name": "stdout",
     "output_type": "stream",
     "text": [
      "2025-04-22 16:31:08,158 - INFO - Downloaded logs_c5kzbf6y:v0 to /scratch/downloaded_artifacts/logs_c5kzbf6y:v0\n"
     ]
    },
    {
     "name": "stderr",
     "output_type": "stream",
     "text": [
      "\u001b[34m\u001b[1mwandb\u001b[0m:   1 of 1 files downloaded.  \n"
     ]
    },
    {
     "name": "stdout",
     "output_type": "stream",
     "text": [
      "2025-04-22 16:31:08,793 - INFO - Downloaded logs_vb2m0au2:v0 to /scratch/downloaded_artifacts/logs_vb2m0au2:v0\n"
     ]
    },
    {
     "name": "stderr",
     "output_type": "stream",
     "text": [
      "\u001b[34m\u001b[1mwandb\u001b[0m:   1 of 1 files downloaded.  \n"
     ]
    },
    {
     "name": "stdout",
     "output_type": "stream",
     "text": [
      "2025-04-22 16:31:09,212 - INFO - Downloaded logs_1wjp8qwe:v0 to /scratch/downloaded_artifacts/logs_1wjp8qwe:v0\n"
     ]
    },
    {
     "name": "stderr",
     "output_type": "stream",
     "text": [
      "\u001b[34m\u001b[1mwandb\u001b[0m:   1 of 1 files downloaded.  \n"
     ]
    },
    {
     "name": "stdout",
     "output_type": "stream",
     "text": [
      "2025-04-22 16:31:09,261 - INFO - Downloaded logs_6iwtcw0u:v0 to /scratch/downloaded_artifacts/logs_6iwtcw0u:v0\n"
     ]
    },
    {
     "name": "stderr",
     "output_type": "stream",
     "text": [
      "\u001b[34m\u001b[1mwandb\u001b[0m:   1 of 1 files downloaded.  \n"
     ]
    },
    {
     "name": "stdout",
     "output_type": "stream",
     "text": [
      "2025-04-22 16:31:09,290 - INFO - Downloaded logs_01twrdxg:v0 to /scratch/downloaded_artifacts/logs_01twrdxg:v0\n"
     ]
    },
    {
     "name": "stderr",
     "output_type": "stream",
     "text": [
      "\u001b[34m\u001b[1mwandb\u001b[0m:   1 of 1 files downloaded.  \n"
     ]
    },
    {
     "name": "stdout",
     "output_type": "stream",
     "text": [
      "2025-04-22 16:31:09,295 - INFO - Downloaded logs_f28ksnxe:v0 to /scratch/downloaded_artifacts/logs_f28ksnxe:v0\n"
     ]
    },
    {
     "name": "stderr",
     "output_type": "stream",
     "text": [
      "\u001b[34m\u001b[1mwandb\u001b[0m:   1 of 1 files downloaded.  \n",
      "\u001b[34m\u001b[1mwandb\u001b[0m:   1 of 1 files downloaded.  \n"
     ]
    },
    {
     "name": "stdout",
     "output_type": "stream",
     "text": [
      "2025-04-22 16:31:09,321 - INFO - Downloaded logs_6bl4uuc5:v0 to /scratch/downloaded_artifacts/logs_6bl4uuc5:v0\n"
     ]
    },
    {
     "name": "stderr",
     "output_type": "stream",
     "text": [
      "\u001b[34m\u001b[1mwandb\u001b[0m:   1 of 1 files downloaded.  \n"
     ]
    },
    {
     "name": "stdout",
     "output_type": "stream",
     "text": [
      "2025-04-22 16:31:09,323 - INFO - Downloaded logs_jsrj6g8k:v0 to /scratch/downloaded_artifacts/logs_jsrj6g8k:v0\n",
      "2025-04-22 16:31:09,331 - INFO - Downloaded logs_rfnx3uz2:v0 to /scratch/downloaded_artifacts/logs_rfnx3uz2:v0\n"
     ]
    },
    {
     "name": "stderr",
     "output_type": "stream",
     "text": [
      "\u001b[34m\u001b[1mwandb\u001b[0m:   1 of 1 files downloaded.  \n"
     ]
    },
    {
     "name": "stdout",
     "output_type": "stream",
     "text": [
      "2025-04-22 16:31:09,340 - INFO - Downloaded logs_3x8c6o8j:v0 to /scratch/downloaded_artifacts/logs_3x8c6o8j:v0\n"
     ]
    },
    {
     "name": "stderr",
     "output_type": "stream",
     "text": [
      "\u001b[34m\u001b[1mwandb\u001b[0m:   1 of 1 files downloaded.  \n"
     ]
    },
    {
     "name": "stdout",
     "output_type": "stream",
     "text": [
      "2025-04-22 16:31:09,342 - INFO - Downloaded logs_jyi8wrkg:v0 to /scratch/downloaded_artifacts/logs_jyi8wrkg:v0\n"
     ]
    },
    {
     "name": "stderr",
     "output_type": "stream",
     "text": [
      "\u001b[34m\u001b[1mwandb\u001b[0m:   1 of 1 files downloaded.  \n"
     ]
    },
    {
     "name": "stdout",
     "output_type": "stream",
     "text": [
      "2025-04-22 16:31:09,352 - INFO - Downloaded logs_31ylpy5o:v0 to /scratch/downloaded_artifacts/logs_31ylpy5o:v0\n"
     ]
    },
    {
     "name": "stderr",
     "output_type": "stream",
     "text": [
      "\u001b[34m\u001b[1mwandb\u001b[0m:   1 of 1 files downloaded.  \n"
     ]
    },
    {
     "name": "stdout",
     "output_type": "stream",
     "text": [
      "2025-04-22 16:31:09,364 - INFO - Downloaded logs_reibbuuq:v0 to /scratch/downloaded_artifacts/logs_reibbuuq:v0\n"
     ]
    },
    {
     "name": "stderr",
     "output_type": "stream",
     "text": [
      "\u001b[34m\u001b[1mwandb\u001b[0m:   1 of 1 files downloaded.  \n"
     ]
    },
    {
     "name": "stdout",
     "output_type": "stream",
     "text": [
      "2025-04-22 16:31:09,373 - INFO - Downloaded logs_2asoqoeg:v0 to /scratch/downloaded_artifacts/logs_2asoqoeg:v0\n"
     ]
    },
    {
     "name": "stderr",
     "output_type": "stream",
     "text": [
      "\u001b[34m\u001b[1mwandb\u001b[0m:   1 of 1 files downloaded.  \n"
     ]
    },
    {
     "name": "stdout",
     "output_type": "stream",
     "text": [
      "2025-04-22 16:31:09,388 - INFO - Downloaded logs_0bh4uqzp:v0 to /scratch/downloaded_artifacts/logs_0bh4uqzp:v0\n"
     ]
    },
    {
     "name": "stderr",
     "output_type": "stream",
     "text": [
      "\u001b[34m\u001b[1mwandb\u001b[0m:   1 of 1 files downloaded.  \n"
     ]
    },
    {
     "name": "stdout",
     "output_type": "stream",
     "text": [
      "2025-04-22 16:31:09,409 - INFO - Downloaded logs_jpvnlvyn:v0 to /scratch/downloaded_artifacts/logs_jpvnlvyn:v0\n"
     ]
    },
    {
     "name": "stderr",
     "output_type": "stream",
     "text": [
      "\u001b[34m\u001b[1mwandb\u001b[0m:   1 of 1 files downloaded.  \n"
     ]
    },
    {
     "name": "stdout",
     "output_type": "stream",
     "text": [
      "2025-04-22 16:31:09,747 - INFO - Downloaded logs_405f33x4:v0 to /scratch/downloaded_artifacts/logs_405f33x4:v0\n"
     ]
    },
    {
     "name": "stderr",
     "output_type": "stream",
     "text": [
      "\u001b[34m\u001b[1mwandb\u001b[0m:   1 of 1 files downloaded.  \n",
      "\u001b[34m\u001b[1mwandb\u001b[0m:   1 of 1 files downloaded.  \n"
     ]
    },
    {
     "name": "stdout",
     "output_type": "stream",
     "text": [
      "2025-04-22 16:31:10,653 - INFO - Downloaded logs_8j4ymzjk:v0 to /scratch/downloaded_artifacts/logs_8j4ymzjk:v0\n",
      "2025-04-22 16:31:10,657 - INFO - Downloaded logs_p6yaa9p6:v0 to /scratch/downloaded_artifacts/logs_p6yaa9p6:v0\n"
     ]
    },
    {
     "name": "stderr",
     "output_type": "stream",
     "text": [
      "\u001b[34m\u001b[1mwandb\u001b[0m:   1 of 1 files downloaded.  \n"
     ]
    },
    {
     "name": "stdout",
     "output_type": "stream",
     "text": [
      "2025-04-22 16:31:10,664 - INFO - Downloaded logs_pxex3awy:v0 to /scratch/downloaded_artifacts/logs_pxex3awy:v0\n"
     ]
    },
    {
     "name": "stderr",
     "output_type": "stream",
     "text": [
      "\u001b[34m\u001b[1mwandb\u001b[0m:   1 of 1 files downloaded.  \n"
     ]
    },
    {
     "name": "stdout",
     "output_type": "stream",
     "text": [
      "2025-04-22 16:31:10,674 - INFO - Downloaded logs_ooite217:v0 to /scratch/downloaded_artifacts/logs_ooite217:v0\n"
     ]
    },
    {
     "name": "stderr",
     "output_type": "stream",
     "text": [
      "\u001b[34m\u001b[1mwandb\u001b[0m:   1 of 1 files downloaded.  \n"
     ]
    },
    {
     "name": "stdout",
     "output_type": "stream",
     "text": [
      "2025-04-22 16:31:10,701 - INFO - Downloaded logs_9ls64iau:v0 to /scratch/downloaded_artifacts/logs_9ls64iau:v0\n"
     ]
    },
    {
     "name": "stderr",
     "output_type": "stream",
     "text": [
      "\u001b[34m\u001b[1mwandb\u001b[0m:   1 of 1 files downloaded.  \n",
      "\u001b[34m\u001b[1mwandb\u001b[0m:   1 of 1 files downloaded.  \n",
      "\u001b[34m\u001b[1mwandb\u001b[0m:   1 of 1 files downloaded.  \n"
     ]
    },
    {
     "name": "stdout",
     "output_type": "stream",
     "text": [
      "2025-04-22 16:31:10,725 - INFO - Downloaded logs_jxn70i8d:v0 to /scratch/downloaded_artifacts/logs_jxn70i8d:v0\n",
      "2025-04-22 16:31:10,725 - INFO - Downloaded logs_iu5dzs4q:v0 to /scratch/downloaded_artifacts/logs_iu5dzs4q:v0\n"
     ]
    },
    {
     "name": "stderr",
     "output_type": "stream",
     "text": [
      "\u001b[34m\u001b[1mwandb\u001b[0m:   1 of 1 files downloaded.  \n"
     ]
    },
    {
     "name": "stdout",
     "output_type": "stream",
     "text": [
      "2025-04-22 16:31:10,727 - INFO - Downloaded logs_bk1h7gu3:v0 to /scratch/downloaded_artifacts/logs_bk1h7gu3:v0\n"
     ]
    },
    {
     "name": "stderr",
     "output_type": "stream",
     "text": [
      "\u001b[34m\u001b[1mwandb\u001b[0m:   1 of 1 files downloaded.  \n"
     ]
    },
    {
     "name": "stdout",
     "output_type": "stream",
     "text": [
      "2025-04-22 16:31:10,733 - INFO - Downloaded logs_m2nqo8lm:v0 to /scratch/downloaded_artifacts/logs_m2nqo8lm:v0\n"
     ]
    },
    {
     "name": "stderr",
     "output_type": "stream",
     "text": [
      "\u001b[34m\u001b[1mwandb\u001b[0m:   1 of 1 files downloaded.  \n"
     ]
    },
    {
     "name": "stdout",
     "output_type": "stream",
     "text": [
      "2025-04-22 16:31:10,740 - INFO - Downloaded logs_95opokbd:v0 to /scratch/downloaded_artifacts/logs_95opokbd:v0\n",
      "2025-04-22 16:31:10,742 - INFO - Downloaded logs_fbrvv92j:v0 to /scratch/downloaded_artifacts/logs_fbrvv92j:v0\n"
     ]
    },
    {
     "name": "stderr",
     "output_type": "stream",
     "text": [
      "\u001b[34m\u001b[1mwandb\u001b[0m:   1 of 1 files downloaded.  \n"
     ]
    },
    {
     "name": "stdout",
     "output_type": "stream",
     "text": [
      "2025-04-22 16:31:10,750 - INFO - Downloaded logs_dn7pkbdn:v0 to /scratch/downloaded_artifacts/logs_dn7pkbdn:v0\n"
     ]
    },
    {
     "name": "stderr",
     "output_type": "stream",
     "text": [
      "\u001b[34m\u001b[1mwandb\u001b[0m:   1 of 1 files downloaded.  \n",
      "\u001b[34m\u001b[1mwandb\u001b[0m:   1 of 1 files downloaded.  \n"
     ]
    },
    {
     "name": "stdout",
     "output_type": "stream",
     "text": [
      "2025-04-22 16:31:10,755 - INFO - Downloaded logs_p8detgbf:v0 to /scratch/downloaded_artifacts/logs_p8detgbf:v0\n",
      "2025-04-22 16:31:10,756 - INFO - Downloaded logs_rat9akjq:v0 to /scratch/downloaded_artifacts/logs_rat9akjq:v0\n"
     ]
    },
    {
     "name": "stderr",
     "output_type": "stream",
     "text": [
      "\u001b[34m\u001b[1mwandb\u001b[0m:   1 of 1 files downloaded.  \n"
     ]
    },
    {
     "name": "stdout",
     "output_type": "stream",
     "text": [
      "2025-04-22 16:31:11,028 - INFO - Downloaded logs_vrpjw4g7:v0 to /scratch/downloaded_artifacts/logs_vrpjw4g7:v0\n"
     ]
    },
    {
     "name": "stderr",
     "output_type": "stream",
     "text": [
      "\u001b[34m\u001b[1mwandb\u001b[0m:   1 of 1 files downloaded.  \n"
     ]
    },
    {
     "name": "stdout",
     "output_type": "stream",
     "text": [
      "2025-04-22 16:31:11,840 - INFO - Downloaded logs_8deiev1r:v0 to /scratch/downloaded_artifacts/logs_8deiev1r:v0\n"
     ]
    },
    {
     "name": "stderr",
     "output_type": "stream",
     "text": [
      "\u001b[34m\u001b[1mwandb\u001b[0m:   1 of 1 files downloaded.  \n"
     ]
    },
    {
     "name": "stdout",
     "output_type": "stream",
     "text": [
      "2025-04-22 16:31:11,846 - INFO - Downloaded logs_bdnsavfg:v0 to /scratch/downloaded_artifacts/logs_bdnsavfg:v0\n"
     ]
    },
    {
     "name": "stderr",
     "output_type": "stream",
     "text": [
      "\u001b[34m\u001b[1mwandb\u001b[0m:   1 of 1 files downloaded.  \n",
      "\u001b[34m\u001b[1mwandb\u001b[0m:   1 of 1 files downloaded.  \n",
      "\u001b[34m\u001b[1mwandb\u001b[0m:   1 of 1 files downloaded.  \n"
     ]
    },
    {
     "name": "stdout",
     "output_type": "stream",
     "text": [
      "2025-04-22 16:31:11,855 - INFO - Downloaded logs_ojmyef7j:v0 to /scratch/downloaded_artifacts/logs_ojmyef7j:v0\n",
      "2025-04-22 16:31:11,857 - INFO - Downloaded logs_hsbrmql9:v0 to /scratch/downloaded_artifacts/logs_hsbrmql9:v0\n",
      "2025-04-22 16:31:11,858 - INFO - Downloaded logs_27npv7vn:v0 to /scratch/downloaded_artifacts/logs_27npv7vn:v0\n"
     ]
    },
    {
     "name": "stderr",
     "output_type": "stream",
     "text": [
      "\u001b[34m\u001b[1mwandb\u001b[0m:   1 of 1 files downloaded.  \n"
     ]
    },
    {
     "name": "stdout",
     "output_type": "stream",
     "text": [
      "2025-04-22 16:31:11,869 - INFO - Downloaded logs_g62o0whx:v0 to /scratch/downloaded_artifacts/logs_g62o0whx:v0\n"
     ]
    },
    {
     "name": "stderr",
     "output_type": "stream",
     "text": [
      "\u001b[34m\u001b[1mwandb\u001b[0m:   1 of 1 files downloaded.  \n"
     ]
    },
    {
     "name": "stdout",
     "output_type": "stream",
     "text": [
      "2025-04-22 16:31:11,924 - INFO - Downloaded logs_19f4m4ks:v0 to /scratch/downloaded_artifacts/logs_19f4m4ks:v0\n"
     ]
    },
    {
     "name": "stderr",
     "output_type": "stream",
     "text": [
      "\u001b[34m\u001b[1mwandb\u001b[0m:   1 of 1 files downloaded.  \n"
     ]
    },
    {
     "name": "stdout",
     "output_type": "stream",
     "text": [
      "2025-04-22 16:31:12,003 - INFO - Downloaded logs_lfklcpa4:v0 to /scratch/downloaded_artifacts/logs_lfklcpa4:v0\n"
     ]
    },
    {
     "name": "stderr",
     "output_type": "stream",
     "text": [
      "\u001b[34m\u001b[1mwandb\u001b[0m:   1 of 1 files downloaded.  \n"
     ]
    },
    {
     "name": "stdout",
     "output_type": "stream",
     "text": [
      "2025-04-22 16:31:12,005 - INFO - Downloaded logs_ebj3asp8:v0 to /scratch/downloaded_artifacts/logs_ebj3asp8:v0\n"
     ]
    },
    {
     "name": "stderr",
     "output_type": "stream",
     "text": [
      "\u001b[34m\u001b[1mwandb\u001b[0m:   1 of 1 files downloaded.  \n"
     ]
    },
    {
     "name": "stdout",
     "output_type": "stream",
     "text": [
      "2025-04-22 16:31:12,043 - INFO - Downloaded logs_jsm72fny:v0 to /scratch/downloaded_artifacts/logs_jsm72fny:v0\n"
     ]
    },
    {
     "name": "stderr",
     "output_type": "stream",
     "text": [
      "\u001b[34m\u001b[1mwandb\u001b[0m:   1 of 1 files downloaded.  \n"
     ]
    },
    {
     "name": "stdout",
     "output_type": "stream",
     "text": [
      "2025-04-22 16:31:12,093 - INFO - Downloaded logs_cwpzvh25:v0 to /scratch/downloaded_artifacts/logs_cwpzvh25:v0\n"
     ]
    },
    {
     "name": "stderr",
     "output_type": "stream",
     "text": [
      "\u001b[34m\u001b[1mwandb\u001b[0m:   1 of 1 files downloaded.  \n"
     ]
    },
    {
     "name": "stdout",
     "output_type": "stream",
     "text": [
      "2025-04-22 16:31:12,110 - INFO - Downloaded logs_a6g38boy:v0 to /scratch/downloaded_artifacts/logs_a6g38boy:v0\n"
     ]
    },
    {
     "name": "stderr",
     "output_type": "stream",
     "text": [
      "\u001b[34m\u001b[1mwandb\u001b[0m:   1 of 1 files downloaded.  \n"
     ]
    },
    {
     "name": "stdout",
     "output_type": "stream",
     "text": [
      "2025-04-22 16:31:13,118 - INFO - Downloaded logs_u6dr7elu:v0 to /scratch/downloaded_artifacts/logs_u6dr7elu:v0\n"
     ]
    },
    {
     "name": "stderr",
     "output_type": "stream",
     "text": [
      "\u001b[34m\u001b[1mwandb\u001b[0m:   1 of 1 files downloaded.  \n"
     ]
    },
    {
     "name": "stdout",
     "output_type": "stream",
     "text": [
      "2025-04-22 16:31:13,139 - INFO - Downloaded logs_nzqab3vc:v0 to /scratch/downloaded_artifacts/logs_nzqab3vc:v0\n"
     ]
    },
    {
     "name": "stderr",
     "output_type": "stream",
     "text": [
      "\u001b[34m\u001b[1mwandb\u001b[0m:   1 of 1 files downloaded.  \n"
     ]
    },
    {
     "name": "stdout",
     "output_type": "stream",
     "text": [
      "2025-04-22 16:31:13,224 - INFO - Downloaded logs_t4nrhlya:v0 to /scratch/downloaded_artifacts/logs_t4nrhlya:v0\n"
     ]
    },
    {
     "name": "stderr",
     "output_type": "stream",
     "text": [
      "\u001b[34m\u001b[1mwandb\u001b[0m:   1 of 1 files downloaded.  \n"
     ]
    },
    {
     "name": "stdout",
     "output_type": "stream",
     "text": [
      "2025-04-22 16:31:13,238 - INFO - Downloaded logs_wk4fzujc:v0 to /scratch/downloaded_artifacts/logs_wk4fzujc:v0\n"
     ]
    },
    {
     "name": "stderr",
     "output_type": "stream",
     "text": [
      "\u001b[34m\u001b[1mwandb\u001b[0m:   1 of 1 files downloaded.  \n",
      "\u001b[34m\u001b[1mwandb\u001b[0m:   1 of 1 files downloaded.  \n",
      "\u001b[34m\u001b[1mwandb\u001b[0m:   1 of 1 files downloaded.  \n"
     ]
    },
    {
     "name": "stdout",
     "output_type": "stream",
     "text": [
      "2025-04-22 16:31:13,250 - INFO - Downloaded logs_v82e3sop:v0 to /scratch/downloaded_artifacts/logs_v82e3sop:v0\n"
     ]
    },
    {
     "name": "stderr",
     "output_type": "stream",
     "text": [
      "\u001b[34m\u001b[1mwandb\u001b[0m:   1 of 1 files downloaded.  \n",
      "\u001b[34m\u001b[1mwandb\u001b[0m:   1 of 1 files downloaded.  \n"
     ]
    },
    {
     "name": "stdout",
     "output_type": "stream",
     "text": [
      "2025-04-22 16:31:13,251 - INFO - Downloaded logs_ls4e7p66:v0 to /scratch/downloaded_artifacts/logs_ls4e7p66:v0\n",
      "2025-04-22 16:31:13,251 - INFO - Downloaded logs_skgj4zkx:v0 to /scratch/downloaded_artifacts/logs_skgj4zkx:v0\n",
      "2025-04-22 16:31:13,252 - INFO - Downloaded logs_v47pyyek:v0 to /scratch/downloaded_artifacts/logs_v47pyyek:v0\n",
      "2025-04-22 16:31:13,253 - INFO - Downloaded logs_te3kve28:v0 to /scratch/downloaded_artifacts/logs_te3kve28:v0\n"
     ]
    },
    {
     "name": "stderr",
     "output_type": "stream",
     "text": [
      "\u001b[34m\u001b[1mwandb\u001b[0m:   1 of 1 files downloaded.  \n"
     ]
    },
    {
     "name": "stdout",
     "output_type": "stream",
     "text": [
      "2025-04-22 16:31:13,264 - INFO - Downloaded logs_sppx2oor:v0 to /scratch/downloaded_artifacts/logs_sppx2oor:v0\n"
     ]
    },
    {
     "name": "stderr",
     "output_type": "stream",
     "text": [
      "\u001b[34m\u001b[1mwandb\u001b[0m:   1 of 1 files downloaded.  \n"
     ]
    },
    {
     "name": "stdout",
     "output_type": "stream",
     "text": [
      "2025-04-22 16:31:13,274 - INFO - Downloaded logs_x1gnqhw6:v0 to /scratch/downloaded_artifacts/logs_x1gnqhw6:v0\n"
     ]
    },
    {
     "name": "stderr",
     "output_type": "stream",
     "text": [
      "\u001b[34m\u001b[1mwandb\u001b[0m:   1 of 1 files downloaded.  \n"
     ]
    },
    {
     "name": "stdout",
     "output_type": "stream",
     "text": [
      "2025-04-22 16:31:13,336 - INFO - Downloaded logs_wngwakio:v0 to /scratch/downloaded_artifacts/logs_wngwakio:v0\n"
     ]
    },
    {
     "name": "stderr",
     "output_type": "stream",
     "text": [
      "\u001b[34m\u001b[1mwandb\u001b[0m:   1 of 1 files downloaded.  \n"
     ]
    },
    {
     "name": "stdout",
     "output_type": "stream",
     "text": [
      "2025-04-22 16:31:14,358 - INFO - Downloaded logs_53wmhbv8:v0 to /scratch/downloaded_artifacts/logs_53wmhbv8:v0\n"
     ]
    },
    {
     "name": "stderr",
     "output_type": "stream",
     "text": [
      "\u001b[34m\u001b[1mwandb\u001b[0m:   1 of 1 files downloaded.  \n"
     ]
    },
    {
     "name": "stdout",
     "output_type": "stream",
     "text": [
      "2025-04-22 16:31:14,364 - INFO - Downloaded logs_d201t7qx:v0 to /scratch/downloaded_artifacts/logs_d201t7qx:v0\n"
     ]
    },
    {
     "name": "stderr",
     "output_type": "stream",
     "text": [
      "\u001b[34m\u001b[1mwandb\u001b[0m:   1 of 1 files downloaded.  \n"
     ]
    },
    {
     "name": "stdout",
     "output_type": "stream",
     "text": [
      "2025-04-22 16:31:14,373 - INFO - Downloaded logs_s79wxi8t:v0 to /scratch/downloaded_artifacts/logs_s79wxi8t:v0\n"
     ]
    },
    {
     "name": "stderr",
     "output_type": "stream",
     "text": [
      "\u001b[34m\u001b[1mwandb\u001b[0m:   1 of 1 files downloaded.  \n"
     ]
    },
    {
     "name": "stdout",
     "output_type": "stream",
     "text": [
      "2025-04-22 16:31:14,381 - INFO - Downloaded logs_7c3jhz8d:v0 to /scratch/downloaded_artifacts/logs_7c3jhz8d:v0\n"
     ]
    },
    {
     "name": "stderr",
     "output_type": "stream",
     "text": [
      "\u001b[34m\u001b[1mwandb\u001b[0m:   1 of 1 files downloaded.  \n"
     ]
    },
    {
     "name": "stdout",
     "output_type": "stream",
     "text": [
      "2025-04-22 16:31:14,389 - INFO - Downloaded logs_c2un2847:v0 to /scratch/downloaded_artifacts/logs_c2un2847:v0\n"
     ]
    },
    {
     "name": "stderr",
     "output_type": "stream",
     "text": [
      "\u001b[34m\u001b[1mwandb\u001b[0m:   1 of 1 files downloaded.  \n",
      "\u001b[34m\u001b[1mwandb\u001b[0m:   1 of 1 files downloaded.  \n"
     ]
    },
    {
     "name": "stdout",
     "output_type": "stream",
     "text": [
      "2025-04-22 16:31:14,395 - INFO - Downloaded logs_zhp2k95f:v0 to /scratch/downloaded_artifacts/logs_zhp2k95f:v0\n",
      "2025-04-22 16:31:14,397 - INFO - Downloaded logs_3itcg8l7:v0 to /scratch/downloaded_artifacts/logs_3itcg8l7:v0\n"
     ]
    },
    {
     "name": "stderr",
     "output_type": "stream",
     "text": [
      "\u001b[34m\u001b[1mwandb\u001b[0m:   1 of 1 files downloaded.  \n"
     ]
    },
    {
     "name": "stdout",
     "output_type": "stream",
     "text": [
      "2025-04-22 16:31:14,419 - INFO - Downloaded logs_q4wzok3k:v0 to /scratch/downloaded_artifacts/logs_q4wzok3k:v0\n"
     ]
    },
    {
     "name": "stderr",
     "output_type": "stream",
     "text": [
      "\u001b[34m\u001b[1mwandb\u001b[0m:   1 of 1 files downloaded.  \n"
     ]
    },
    {
     "name": "stdout",
     "output_type": "stream",
     "text": [
      "2025-04-22 16:31:14,426 - INFO - Downloaded logs_vqgpw05l:v0 to /scratch/downloaded_artifacts/logs_vqgpw05l:v0\n"
     ]
    },
    {
     "name": "stderr",
     "output_type": "stream",
     "text": [
      "\u001b[34m\u001b[1mwandb\u001b[0m:   1 of 1 files downloaded.  \n"
     ]
    },
    {
     "name": "stdout",
     "output_type": "stream",
     "text": [
      "2025-04-22 16:31:14,431 - INFO - Downloaded logs_3yl8dykq:v0 to /scratch/downloaded_artifacts/logs_3yl8dykq:v0\n"
     ]
    },
    {
     "name": "stderr",
     "output_type": "stream",
     "text": [
      "\u001b[34m\u001b[1mwandb\u001b[0m: \u001b[32m\u001b[41mERROR\u001b[0m Error while calling W&B API: rate limit exceeded (<Response [429]>)\n",
      "\u001b[34m\u001b[1mwandb\u001b[0m: \u001b[32m\u001b[41mERROR\u001b[0m Error while calling W&B API: rate limit exceeded (<Response [429]>)\n",
      "\u001b[34m\u001b[1mwandb\u001b[0m: \u001b[32m\u001b[41mERROR\u001b[0m Error while calling W&B API: rate limit exceeded (<Response [429]>)\n",
      "\u001b[34m\u001b[1mwandb\u001b[0m:   1 of 1 files downloaded.  \n"
     ]
    },
    {
     "name": "stdout",
     "output_type": "stream",
     "text": [
      "2025-04-22 16:31:14,634 - INFO - Downloaded logs_4gc6j6co:v0 to /scratch/downloaded_artifacts/logs_4gc6j6co:v0\n"
     ]
    },
    {
     "name": "stderr",
     "output_type": "stream",
     "text": [
      "\u001b[34m\u001b[1mwandb\u001b[0m:   1 of 1 files downloaded.  \n"
     ]
    },
    {
     "name": "stdout",
     "output_type": "stream",
     "text": [
      "2025-04-22 16:31:16,554 - INFO - Downloaded logs_tdla8h8m:v0 to /scratch/downloaded_artifacts/logs_tdla8h8m:v0\n"
     ]
    },
    {
     "name": "stderr",
     "output_type": "stream",
     "text": [
      "\u001b[34m\u001b[1mwandb\u001b[0m:   1 of 1 files downloaded.  \n"
     ]
    },
    {
     "name": "stdout",
     "output_type": "stream",
     "text": [
      "2025-04-22 16:31:16,624 - INFO - Downloaded logs_hhes8qs7:v0 to /scratch/downloaded_artifacts/logs_hhes8qs7:v0\n"
     ]
    },
    {
     "name": "stderr",
     "output_type": "stream",
     "text": [
      "\u001b[34m\u001b[1mwandb\u001b[0m:   1 of 1 files downloaded.  \n"
     ]
    },
    {
     "name": "stdout",
     "output_type": "stream",
     "text": [
      "2025-04-22 16:31:16,628 - INFO - Downloaded logs_cokpoflf:v0 to /scratch/downloaded_artifacts/logs_cokpoflf:v0\n"
     ]
    },
    {
     "name": "stderr",
     "output_type": "stream",
     "text": [
      "\u001b[34m\u001b[1mwandb\u001b[0m:   1 of 1 files downloaded.  \n"
     ]
    },
    {
     "name": "stdout",
     "output_type": "stream",
     "text": [
      "2025-04-22 16:31:16,641 - INFO - Downloaded logs_iod09108:v0 to /scratch/downloaded_artifacts/logs_iod09108:v0\n"
     ]
    },
    {
     "name": "stderr",
     "output_type": "stream",
     "text": [
      "\u001b[34m\u001b[1mwandb\u001b[0m:   1 of 1 files downloaded.  \n"
     ]
    },
    {
     "name": "stdout",
     "output_type": "stream",
     "text": [
      "2025-04-22 16:31:16,647 - INFO - Downloaded logs_recgh0ki:v0 to /scratch/downloaded_artifacts/logs_recgh0ki:v0\n"
     ]
    },
    {
     "name": "stderr",
     "output_type": "stream",
     "text": [
      "\u001b[34m\u001b[1mwandb\u001b[0m:   1 of 1 files downloaded.  \n"
     ]
    },
    {
     "name": "stdout",
     "output_type": "stream",
     "text": [
      "2025-04-22 16:31:16,651 - INFO - Downloaded logs_ntlrm27k:v0 to /scratch/downloaded_artifacts/logs_ntlrm27k:v0\n"
     ]
    },
    {
     "name": "stderr",
     "output_type": "stream",
     "text": [
      "\u001b[34m\u001b[1mwandb\u001b[0m:   1 of 1 files downloaded.  \n"
     ]
    },
    {
     "name": "stdout",
     "output_type": "stream",
     "text": [
      "2025-04-22 16:31:16,662 - INFO - Downloaded logs_mq4q66tl:v0 to /scratch/downloaded_artifacts/logs_mq4q66tl:v0\n"
     ]
    },
    {
     "name": "stderr",
     "output_type": "stream",
     "text": [
      "\u001b[34m\u001b[1mwandb\u001b[0m:   1 of 1 files downloaded.  \n"
     ]
    },
    {
     "name": "stdout",
     "output_type": "stream",
     "text": [
      "2025-04-22 16:31:16,713 - INFO - Downloaded logs_a72wp75p:v0 to /scratch/downloaded_artifacts/logs_a72wp75p:v0\n"
     ]
    },
    {
     "name": "stderr",
     "output_type": "stream",
     "text": [
      "\u001b[34m\u001b[1mwandb\u001b[0m:   1 of 1 files downloaded.  \n"
     ]
    },
    {
     "name": "stdout",
     "output_type": "stream",
     "text": [
      "2025-04-22 16:31:16,720 - INFO - Downloaded logs_olrz9i0k:v0 to /scratch/downloaded_artifacts/logs_olrz9i0k:v0\n"
     ]
    },
    {
     "name": "stderr",
     "output_type": "stream",
     "text": [
      "\u001b[34m\u001b[1mwandb\u001b[0m:   1 of 1 files downloaded.  \n"
     ]
    },
    {
     "name": "stdout",
     "output_type": "stream",
     "text": [
      "2025-04-22 16:31:16,812 - INFO - Downloaded logs_z6yqvdf5:v0 to /scratch/downloaded_artifacts/logs_z6yqvdf5:v0\n"
     ]
    },
    {
     "name": "stderr",
     "output_type": "stream",
     "text": [
      "\u001b[34m\u001b[1mwandb\u001b[0m:   1 of 1 files downloaded.  \n"
     ]
    },
    {
     "name": "stdout",
     "output_type": "stream",
     "text": [
      "2025-04-22 16:31:17,260 - INFO - Downloaded logs_lyc72cqq:v0 to /scratch/downloaded_artifacts/logs_lyc72cqq:v0\n"
     ]
    },
    {
     "name": "stderr",
     "output_type": "stream",
     "text": [
      "\u001b[34m\u001b[1mwandb\u001b[0m:   1 of 1 files downloaded.  \n"
     ]
    },
    {
     "name": "stdout",
     "output_type": "stream",
     "text": [
      "2025-04-22 16:31:17,373 - INFO - Downloaded logs_06hhjisz:v0 to /scratch/downloaded_artifacts/logs_06hhjisz:v0\n"
     ]
    },
    {
     "name": "stderr",
     "output_type": "stream",
     "text": [
      "\u001b[34m\u001b[1mwandb\u001b[0m:   1 of 1 files downloaded.  \n"
     ]
    },
    {
     "name": "stdout",
     "output_type": "stream",
     "text": [
      "2025-04-22 16:31:17,478 - INFO - Downloaded logs_3n1y4krw:v0 to /scratch/downloaded_artifacts/logs_3n1y4krw:v0\n"
     ]
    },
    {
     "name": "stderr",
     "output_type": "stream",
     "text": [
      "\u001b[34m\u001b[1mwandb\u001b[0m:   1 of 1 files downloaded.  \n"
     ]
    },
    {
     "name": "stdout",
     "output_type": "stream",
     "text": [
      "2025-04-22 16:31:17,696 - INFO - Downloaded logs_b4u7gopp:v0 to /scratch/downloaded_artifacts/logs_b4u7gopp:v0\n"
     ]
    },
    {
     "name": "stderr",
     "output_type": "stream",
     "text": [
      "\u001b[34m\u001b[1mwandb\u001b[0m:   1 of 1 files downloaded.  \n"
     ]
    },
    {
     "name": "stdout",
     "output_type": "stream",
     "text": [
      "2025-04-22 16:31:17,750 - INFO - Downloaded logs_e5hlax5k:v0 to /scratch/downloaded_artifacts/logs_e5hlax5k:v0\n"
     ]
    },
    {
     "name": "stderr",
     "output_type": "stream",
     "text": [
      "\u001b[34m\u001b[1mwandb\u001b[0m:   1 of 1 files downloaded.  \n"
     ]
    },
    {
     "name": "stdout",
     "output_type": "stream",
     "text": [
      "2025-04-22 16:31:17,756 - INFO - Downloaded logs_f0dq2loz:v0 to /scratch/downloaded_artifacts/logs_f0dq2loz:v0\n"
     ]
    },
    {
     "name": "stderr",
     "output_type": "stream",
     "text": [
      "\u001b[34m\u001b[1mwandb\u001b[0m:   1 of 1 files downloaded.  \n"
     ]
    },
    {
     "name": "stdout",
     "output_type": "stream",
     "text": [
      "2025-04-22 16:31:17,769 - INFO - Downloaded logs_2cqfm4cm:v0 to /scratch/downloaded_artifacts/logs_2cqfm4cm:v0\n"
     ]
    },
    {
     "name": "stderr",
     "output_type": "stream",
     "text": [
      "\u001b[34m\u001b[1mwandb\u001b[0m:   1 of 1 files downloaded.  \n"
     ]
    },
    {
     "name": "stdout",
     "output_type": "stream",
     "text": [
      "2025-04-22 16:31:17,782 - INFO - Downloaded logs_c3zearoq:v0 to /scratch/downloaded_artifacts/logs_c3zearoq:v0\n"
     ]
    },
    {
     "name": "stderr",
     "output_type": "stream",
     "text": [
      "\u001b[34m\u001b[1mwandb\u001b[0m:   1 of 1 files downloaded.  \n"
     ]
    },
    {
     "name": "stdout",
     "output_type": "stream",
     "text": [
      "2025-04-22 16:31:17,824 - INFO - Downloaded logs_e2e7c3fy:v0 to /scratch/downloaded_artifacts/logs_e2e7c3fy:v0\n"
     ]
    },
    {
     "name": "stderr",
     "output_type": "stream",
     "text": [
      "\u001b[34m\u001b[1mwandb\u001b[0m:   1 of 1 files downloaded.  \n"
     ]
    },
    {
     "name": "stdout",
     "output_type": "stream",
     "text": [
      "2025-04-22 16:31:17,827 - INFO - Downloaded logs_6qmlpqax:v0 to /scratch/downloaded_artifacts/logs_6qmlpqax:v0\n"
     ]
    },
    {
     "name": "stderr",
     "output_type": "stream",
     "text": [
      "\u001b[34m\u001b[1mwandb\u001b[0m:   1 of 1 files downloaded.  \n"
     ]
    },
    {
     "name": "stdout",
     "output_type": "stream",
     "text": [
      "2025-04-22 16:31:18,167 - INFO - Downloaded logs_f6jgfpsb:v0 to /scratch/downloaded_artifacts/logs_f6jgfpsb:v0\n"
     ]
    },
    {
     "name": "stderr",
     "output_type": "stream",
     "text": [
      "\u001b[34m\u001b[1mwandb\u001b[0m:   1 of 1 files downloaded.  \n",
      "\u001b[34m\u001b[1mwandb\u001b[0m:   1 of 1 files downloaded.  \n"
     ]
    },
    {
     "name": "stdout",
     "output_type": "stream",
     "text": [
      "2025-04-22 16:31:18,787 - INFO - Downloaded logs_iff26y9x:v0 to /scratch/downloaded_artifacts/logs_iff26y9x:v0\n",
      "2025-04-22 16:31:18,788 - INFO - Downloaded logs_qvkdxzwt:v0 to /scratch/downloaded_artifacts/logs_qvkdxzwt:v0\n"
     ]
    },
    {
     "name": "stderr",
     "output_type": "stream",
     "text": [
      "\u001b[34m\u001b[1mwandb\u001b[0m:   1 of 1 files downloaded.  \n"
     ]
    },
    {
     "name": "stdout",
     "output_type": "stream",
     "text": [
      "2025-04-22 16:31:18,797 - INFO - Downloaded logs_tilv2oj1:v0 to /scratch/downloaded_artifacts/logs_tilv2oj1:v0\n"
     ]
    },
    {
     "name": "stderr",
     "output_type": "stream",
     "text": [
      "\u001b[34m\u001b[1mwandb\u001b[0m:   1 of 1 files downloaded.  \n",
      "\u001b[34m\u001b[1mwandb\u001b[0m:   1 of 1 files downloaded.  \n"
     ]
    },
    {
     "name": "stdout",
     "output_type": "stream",
     "text": [
      "2025-04-22 16:31:18,803 - INFO - Downloaded logs_sgpb4mdl:v0 to /scratch/downloaded_artifacts/logs_sgpb4mdl:v0\n"
     ]
    },
    {
     "name": "stderr",
     "output_type": "stream",
     "text": [
      "\u001b[34m\u001b[1mwandb\u001b[0m:   1 of 1 files downloaded.  \n"
     ]
    },
    {
     "name": "stdout",
     "output_type": "stream",
     "text": [
      "2025-04-22 16:31:18,805 - INFO - Downloaded logs_tn2yja3h:v0 to /scratch/downloaded_artifacts/logs_tn2yja3h:v0\n",
      "2025-04-22 16:31:18,806 - INFO - Downloaded logs_s7sj54xa:v0 to /scratch/downloaded_artifacts/logs_s7sj54xa:v0\n"
     ]
    },
    {
     "name": "stderr",
     "output_type": "stream",
     "text": [
      "\u001b[34m\u001b[1mwandb\u001b[0m:   1 of 1 files downloaded.  \n"
     ]
    },
    {
     "name": "stdout",
     "output_type": "stream",
     "text": [
      "2025-04-22 16:31:18,845 - INFO - Downloaded logs_tni1avsf:v0 to /scratch/downloaded_artifacts/logs_tni1avsf:v0\n"
     ]
    },
    {
     "name": "stderr",
     "output_type": "stream",
     "text": [
      "\u001b[34m\u001b[1mwandb\u001b[0m:   1 of 1 files downloaded.  \n"
     ]
    },
    {
     "name": "stdout",
     "output_type": "stream",
     "text": [
      "2025-04-22 16:31:19,135 - INFO - Downloaded logs_w7ya2o45:v0 to /scratch/downloaded_artifacts/logs_w7ya2o45:v0\n"
     ]
    },
    {
     "name": "stderr",
     "output_type": "stream",
     "text": [
      "\u001b[34m\u001b[1mwandb\u001b[0m:   1 of 1 files downloaded.  \n"
     ]
    },
    {
     "name": "stdout",
     "output_type": "stream",
     "text": [
      "2025-04-22 16:31:19,174 - INFO - Downloaded logs_unnyo14q:v0 to /scratch/downloaded_artifacts/logs_unnyo14q:v0\n"
     ]
    },
    {
     "name": "stderr",
     "output_type": "stream",
     "text": [
      "\u001b[34m\u001b[1mwandb\u001b[0m:   1 of 1 files downloaded.  \n"
     ]
    },
    {
     "name": "stdout",
     "output_type": "stream",
     "text": [
      "2025-04-22 16:31:19,231 - INFO - Downloaded logs_3zcj189a:v0 to /scratch/downloaded_artifacts/logs_3zcj189a:v0\n"
     ]
    },
    {
     "name": "stderr",
     "output_type": "stream",
     "text": [
      "\u001b[34m\u001b[1mwandb\u001b[0m:   1 of 1 files downloaded.  \n"
     ]
    },
    {
     "name": "stdout",
     "output_type": "stream",
     "text": [
      "2025-04-22 16:31:19,239 - INFO - Downloaded logs_0ffmh7fn:v0 to /scratch/downloaded_artifacts/logs_0ffmh7fn:v0\n"
     ]
    },
    {
     "name": "stderr",
     "output_type": "stream",
     "text": [
      "\u001b[34m\u001b[1mwandb\u001b[0m:   1 of 1 files downloaded.  \n"
     ]
    },
    {
     "name": "stdout",
     "output_type": "stream",
     "text": [
      "2025-04-22 16:31:19,784 - INFO - Downloaded logs_oh5lgc3j:v0 to /scratch/downloaded_artifacts/logs_oh5lgc3j:v0\n"
     ]
    },
    {
     "name": "stderr",
     "output_type": "stream",
     "text": [
      "\u001b[34m\u001b[1mwandb\u001b[0m:   1 of 1 files downloaded.  \n",
      "\u001b[34m\u001b[1mwandb\u001b[0m:   1 of 1 files downloaded.  \n"
     ]
    },
    {
     "name": "stdout",
     "output_type": "stream",
     "text": [
      "2025-04-22 16:31:19,790 - INFO - Downloaded logs_z2qwdfs6:v0 to /scratch/downloaded_artifacts/logs_z2qwdfs6:v0\n",
      "2025-04-22 16:31:19,791 - INFO - Downloaded logs_5jd34sdp:v0 to /scratch/downloaded_artifacts/logs_5jd34sdp:v0\n"
     ]
    },
    {
     "name": "stderr",
     "output_type": "stream",
     "text": [
      "\u001b[34m\u001b[1mwandb\u001b[0m:   1 of 1 files downloaded.  \n",
      "\u001b[34m\u001b[1mwandb\u001b[0m:   1 of 1 files downloaded.  \n"
     ]
    },
    {
     "name": "stdout",
     "output_type": "stream",
     "text": [
      "2025-04-22 16:31:19,812 - INFO - Downloaded logs_yxlt8t3u:v0 to /scratch/downloaded_artifacts/logs_yxlt8t3u:v0\n",
      "2025-04-22 16:31:19,814 - INFO - Downloaded logs_c61lyy3t:v0 to /scratch/downloaded_artifacts/logs_c61lyy3t:v0\n"
     ]
    },
    {
     "name": "stderr",
     "output_type": "stream",
     "text": [
      "\u001b[34m\u001b[1mwandb\u001b[0m:   1 of 1 files downloaded.  \n"
     ]
    },
    {
     "name": "stdout",
     "output_type": "stream",
     "text": [
      "2025-04-22 16:31:19,861 - INFO - Downloaded logs_tnc908qg:v0 to /scratch/downloaded_artifacts/logs_tnc908qg:v0\n"
     ]
    },
    {
     "name": "stderr",
     "output_type": "stream",
     "text": [
      "\u001b[34m\u001b[1mwandb\u001b[0m:   1 of 1 files downloaded.  \n"
     ]
    },
    {
     "name": "stdout",
     "output_type": "stream",
     "text": [
      "2025-04-22 16:31:20,144 - INFO - Downloaded logs_zrks8fxd:v0 to /scratch/downloaded_artifacts/logs_zrks8fxd:v0\n"
     ]
    },
    {
     "name": "stderr",
     "output_type": "stream",
     "text": [
      "\u001b[34m\u001b[1mwandb\u001b[0m:   1 of 1 files downloaded.  \n"
     ]
    },
    {
     "name": "stdout",
     "output_type": "stream",
     "text": [
      "2025-04-22 16:31:20,225 - INFO - Downloaded logs_1xwlbk9w:v0 to /scratch/downloaded_artifacts/logs_1xwlbk9w:v0\n"
     ]
    },
    {
     "name": "stderr",
     "output_type": "stream",
     "text": [
      "\u001b[34m\u001b[1mwandb\u001b[0m:   1 of 1 files downloaded.  \n"
     ]
    },
    {
     "name": "stdout",
     "output_type": "stream",
     "text": [
      "2025-04-22 16:31:20,252 - INFO - Downloaded logs_xact4v4j:v0 to /scratch/downloaded_artifacts/logs_xact4v4j:v0\n"
     ]
    },
    {
     "name": "stderr",
     "output_type": "stream",
     "text": [
      "\u001b[34m\u001b[1mwandb\u001b[0m:   1 of 1 files downloaded.  \n"
     ]
    },
    {
     "name": "stdout",
     "output_type": "stream",
     "text": [
      "2025-04-22 16:31:20,305 - INFO - Downloaded logs_112aeb7g:v0 to /scratch/downloaded_artifacts/logs_112aeb7g:v0\n"
     ]
    },
    {
     "name": "stderr",
     "output_type": "stream",
     "text": [
      "\u001b[34m\u001b[1mwandb\u001b[0m:   1 of 1 files downloaded.  \n"
     ]
    },
    {
     "name": "stdout",
     "output_type": "stream",
     "text": [
      "2025-04-22 16:31:20,714 - INFO - Downloaded logs_4bvmm7zh:v0 to /scratch/downloaded_artifacts/logs_4bvmm7zh:v0\n"
     ]
    },
    {
     "name": "stderr",
     "output_type": "stream",
     "text": [
      "\u001b[34m\u001b[1mwandb\u001b[0m:   1 of 1 files downloaded.  \n",
      "\u001b[34m\u001b[1mwandb\u001b[0m:   1 of 1 files downloaded.  \n"
     ]
    },
    {
     "name": "stdout",
     "output_type": "stream",
     "text": [
      "2025-04-22 16:31:20,754 - INFO - Downloaded logs_5cvicv3q:v0 to /scratch/downloaded_artifacts/logs_5cvicv3q:v0\n"
     ]
    },
    {
     "name": "stderr",
     "output_type": "stream",
     "text": [
      "\u001b[34m\u001b[1mwandb\u001b[0m:   1 of 1 files downloaded.  \n"
     ]
    },
    {
     "name": "stdout",
     "output_type": "stream",
     "text": [
      "2025-04-22 16:31:20,756 - INFO - Downloaded logs_4sma6tzj:v0 to /scratch/downloaded_artifacts/logs_4sma6tzj:v0\n"
     ]
    },
    {
     "name": "stderr",
     "output_type": "stream",
     "text": [
      "\u001b[34m\u001b[1mwandb\u001b[0m:   1 of 1 files downloaded.  \n"
     ]
    },
    {
     "name": "stdout",
     "output_type": "stream",
     "text": [
      "2025-04-22 16:31:20,756 - INFO - Downloaded logs_7oezbunx:v0 to /scratch/downloaded_artifacts/logs_7oezbunx:v0\n",
      "2025-04-22 16:31:20,759 - INFO - Downloaded logs_8q61j87m:v0 to /scratch/downloaded_artifacts/logs_8q61j87m:v0\n"
     ]
    },
    {
     "name": "stderr",
     "output_type": "stream",
     "text": [
      "\u001b[34m\u001b[1mwandb\u001b[0m:   1 of 1 files downloaded.  \n"
     ]
    },
    {
     "name": "stdout",
     "output_type": "stream",
     "text": [
      "2025-04-22 16:31:20,816 - INFO - Downloaded logs_5t8eceih:v0 to /scratch/downloaded_artifacts/logs_5t8eceih:v0\n"
     ]
    },
    {
     "name": "stderr",
     "output_type": "stream",
     "text": [
      "\u001b[34m\u001b[1mwandb\u001b[0m:   1 of 1 files downloaded.  \n"
     ]
    },
    {
     "name": "stdout",
     "output_type": "stream",
     "text": [
      "2025-04-22 16:31:21,261 - INFO - Downloaded logs_anje8rfz:v0 to /scratch/downloaded_artifacts/logs_anje8rfz:v0\n"
     ]
    },
    {
     "name": "stderr",
     "output_type": "stream",
     "text": [
      "\u001b[34m\u001b[1mwandb\u001b[0m:   1 of 1 files downloaded.  \n"
     ]
    },
    {
     "name": "stdout",
     "output_type": "stream",
     "text": [
      "2025-04-22 16:31:21,474 - INFO - Downloaded logs_alma6vuy:v0 to /scratch/downloaded_artifacts/logs_alma6vuy:v0\n"
     ]
    },
    {
     "name": "stderr",
     "output_type": "stream",
     "text": [
      "\u001b[34m\u001b[1mwandb\u001b[0m:   1 of 1 files downloaded.  \n"
     ]
    },
    {
     "name": "stdout",
     "output_type": "stream",
     "text": [
      "2025-04-22 16:31:21,568 - INFO - Downloaded logs_bams6fo2:v0 to /scratch/downloaded_artifacts/logs_bams6fo2:v0\n"
     ]
    },
    {
     "name": "stderr",
     "output_type": "stream",
     "text": [
      "\u001b[34m\u001b[1mwandb\u001b[0m:   1 of 1 files downloaded.  \n"
     ]
    },
    {
     "name": "stdout",
     "output_type": "stream",
     "text": [
      "2025-04-22 16:31:21,792 - INFO - Downloaded logs_d4xgr2wr:v0 to /scratch/downloaded_artifacts/logs_d4xgr2wr:v0\n"
     ]
    },
    {
     "name": "stderr",
     "output_type": "stream",
     "text": [
      "\u001b[34m\u001b[1mwandb\u001b[0m:   1 of 1 files downloaded.  \n"
     ]
    },
    {
     "name": "stdout",
     "output_type": "stream",
     "text": [
      "2025-04-22 16:31:22,001 - INFO - Downloaded logs_g1cnxr3y:v0 to /scratch/downloaded_artifacts/logs_g1cnxr3y:v0\n"
     ]
    },
    {
     "name": "stderr",
     "output_type": "stream",
     "text": [
      "\u001b[34m\u001b[1mwandb\u001b[0m:   1 of 1 files downloaded.  \n"
     ]
    },
    {
     "name": "stdout",
     "output_type": "stream",
     "text": [
      "2025-04-22 16:31:22,160 - INFO - Downloaded logs_i0aag6bc:v0 to /scratch/downloaded_artifacts/logs_i0aag6bc:v0\n"
     ]
    },
    {
     "name": "stderr",
     "output_type": "stream",
     "text": [
      "\u001b[34m\u001b[1mwandb\u001b[0m:   1 of 1 files downloaded.  \n"
     ]
    },
    {
     "name": "stdout",
     "output_type": "stream",
     "text": [
      "2025-04-22 16:31:22,165 - INFO - Downloaded logs_dpo914xe:v0 to /scratch/downloaded_artifacts/logs_dpo914xe:v0\n"
     ]
    },
    {
     "name": "stderr",
     "output_type": "stream",
     "text": [
      "\u001b[34m\u001b[1mwandb\u001b[0m:   1 of 1 files downloaded.  \n"
     ]
    },
    {
     "name": "stdout",
     "output_type": "stream",
     "text": [
      "2025-04-22 16:31:22,189 - INFO - Downloaded logs_g0qis995:v0 to /scratch/downloaded_artifacts/logs_g0qis995:v0\n"
     ]
    },
    {
     "name": "stderr",
     "output_type": "stream",
     "text": [
      "\u001b[34m\u001b[1mwandb\u001b[0m:   1 of 1 files downloaded.  \n"
     ]
    },
    {
     "name": "stdout",
     "output_type": "stream",
     "text": [
      "2025-04-22 16:31:22,217 - INFO - Downloaded logs_jp6vvy9y:v0 to /scratch/downloaded_artifacts/logs_jp6vvy9y:v0\n"
     ]
    },
    {
     "name": "stderr",
     "output_type": "stream",
     "text": [
      "\u001b[34m\u001b[1mwandb\u001b[0m:   1 of 1 files downloaded.  \n"
     ]
    },
    {
     "name": "stdout",
     "output_type": "stream",
     "text": [
      "2025-04-22 16:31:22,260 - INFO - Downloaded logs_ereusglz:v0 to /scratch/downloaded_artifacts/logs_ereusglz:v0\n"
     ]
    },
    {
     "name": "stderr",
     "output_type": "stream",
     "text": [
      "\u001b[34m\u001b[1mwandb\u001b[0m:   1 of 1 files downloaded.  \n"
     ]
    },
    {
     "name": "stdout",
     "output_type": "stream",
     "text": [
      "2025-04-22 16:31:22,505 - INFO - Downloaded logs_mtu5quc3:v0 to /scratch/downloaded_artifacts/logs_mtu5quc3:v0\n"
     ]
    },
    {
     "name": "stderr",
     "output_type": "stream",
     "text": [
      "\u001b[34m\u001b[1mwandb\u001b[0m:   1 of 1 files downloaded.  \n"
     ]
    },
    {
     "name": "stdout",
     "output_type": "stream",
     "text": [
      "2025-04-22 16:31:22,733 - INFO - Downloaded logs_o7wdurem:v0 to /scratch/downloaded_artifacts/logs_o7wdurem:v0\n"
     ]
    },
    {
     "name": "stderr",
     "output_type": "stream",
     "text": [
      "\u001b[34m\u001b[1mwandb\u001b[0m:   1 of 1 files downloaded.  \n"
     ]
    },
    {
     "name": "stdout",
     "output_type": "stream",
     "text": [
      "2025-04-22 16:31:22,814 - INFO - Downloaded logs_owiestbj:v0 to /scratch/downloaded_artifacts/logs_owiestbj:v0\n"
     ]
    },
    {
     "name": "stderr",
     "output_type": "stream",
     "text": [
      "\u001b[34m\u001b[1mwandb\u001b[0m:   1 of 1 files downloaded.  \n"
     ]
    },
    {
     "name": "stdout",
     "output_type": "stream",
     "text": [
      "2025-04-22 16:31:23,063 - INFO - Downloaded logs_qxrxj0lv:v0 to /scratch/downloaded_artifacts/logs_qxrxj0lv:v0\n"
     ]
    },
    {
     "name": "stderr",
     "output_type": "stream",
     "text": [
      "\u001b[34m\u001b[1mwandb\u001b[0m:   1 of 1 files downloaded.  \n"
     ]
    },
    {
     "name": "stdout",
     "output_type": "stream",
     "text": [
      "2025-04-22 16:31:23,085 - INFO - Downloaded logs_s0f0zd3q:v0 to /scratch/downloaded_artifacts/logs_s0f0zd3q:v0\n"
     ]
    },
    {
     "name": "stderr",
     "output_type": "stream",
     "text": [
      "\u001b[34m\u001b[1mwandb\u001b[0m:   1 of 1 files downloaded.  \n"
     ]
    },
    {
     "name": "stdout",
     "output_type": "stream",
     "text": [
      "2025-04-22 16:31:23,088 - INFO - Downloaded logs_rlem6uhx:v0 to /scratch/downloaded_artifacts/logs_rlem6uhx:v0\n"
     ]
    },
    {
     "name": "stderr",
     "output_type": "stream",
     "text": [
      "\u001b[34m\u001b[1mwandb\u001b[0m:   1 of 1 files downloaded.  \n"
     ]
    },
    {
     "name": "stdout",
     "output_type": "stream",
     "text": [
      "2025-04-22 16:31:23,149 - INFO - Downloaded logs_uzbp9l3b:v0 to /scratch/downloaded_artifacts/logs_uzbp9l3b:v0\n"
     ]
    },
    {
     "name": "stderr",
     "output_type": "stream",
     "text": [
      "\u001b[34m\u001b[1mwandb\u001b[0m:   1 of 1 files downloaded.  \n"
     ]
    },
    {
     "name": "stdout",
     "output_type": "stream",
     "text": [
      "2025-04-22 16:31:23,162 - INFO - Downloaded logs_wmwi76ou:v0 to /scratch/downloaded_artifacts/logs_wmwi76ou:v0\n"
     ]
    },
    {
     "name": "stderr",
     "output_type": "stream",
     "text": [
      "\u001b[34m\u001b[1mwandb\u001b[0m:   1 of 1 files downloaded.  \n"
     ]
    },
    {
     "name": "stdout",
     "output_type": "stream",
     "text": [
      "2025-04-22 16:31:23,337 - INFO - Downloaded logs_x2k1fule:v0 to /scratch/downloaded_artifacts/logs_x2k1fule:v0\n"
     ]
    },
    {
     "name": "stderr",
     "output_type": "stream",
     "text": [
      "\u001b[34m\u001b[1mwandb\u001b[0m:   1 of 1 files downloaded.  \n"
     ]
    },
    {
     "name": "stdout",
     "output_type": "stream",
     "text": [
      "2025-04-22 16:31:23,538 - INFO - Downloaded logs_xvzdmi7o:v0 to /scratch/downloaded_artifacts/logs_xvzdmi7o:v0\n"
     ]
    },
    {
     "name": "stderr",
     "output_type": "stream",
     "text": [
      "\u001b[34m\u001b[1mwandb\u001b[0m:   1 of 1 files downloaded.  \n"
     ]
    },
    {
     "name": "stdout",
     "output_type": "stream",
     "text": [
      "2025-04-22 16:31:24,092 - INFO - Downloaded logs_zd8jmwrx:v0 to /scratch/downloaded_artifacts/logs_zd8jmwrx:v0\n"
     ]
    },
    {
     "name": "stderr",
     "output_type": "stream",
     "text": [
      "\u001b[34m\u001b[1mwandb\u001b[0m:   1 of 1 files downloaded.  \n",
      "\u001b[34m\u001b[1mwandb\u001b[0m:   1 of 1 files downloaded.  \n"
     ]
    },
    {
     "name": "stdout",
     "output_type": "stream",
     "text": [
      "2025-04-22 16:31:24,143 - INFO - Downloaded logs_zf8ok7tq:v0 to /scratch/downloaded_artifacts/logs_zf8ok7tq:v0\n",
      "2025-04-22 16:31:24,144 - INFO - Downloaded logs_40hzpvps:v0 to /scratch/downloaded_artifacts/logs_40hzpvps:v0\n"
     ]
    },
    {
     "name": "stderr",
     "output_type": "stream",
     "text": [
      "\u001b[34m\u001b[1mwandb\u001b[0m:   1 of 1 files downloaded.  \n"
     ]
    },
    {
     "name": "stdout",
     "output_type": "stream",
     "text": [
      "2025-04-22 16:31:24,151 - INFO - Downloaded logs_7in6fc7d:v0 to /scratch/downloaded_artifacts/logs_7in6fc7d:v0\n"
     ]
    },
    {
     "name": "stderr",
     "output_type": "stream",
     "text": [
      "\u001b[34m\u001b[1mwandb\u001b[0m:   1 of 1 files downloaded.  \n"
     ]
    },
    {
     "name": "stdout",
     "output_type": "stream",
     "text": [
      "2025-04-22 16:31:24,216 - INFO - Downloaded logs_zyrisati:v0 to /scratch/downloaded_artifacts/logs_zyrisati:v0\n"
     ]
    },
    {
     "name": "stderr",
     "output_type": "stream",
     "text": [
      "\u001b[34m\u001b[1mwandb\u001b[0m:   1 of 1 files downloaded.  \n"
     ]
    },
    {
     "name": "stdout",
     "output_type": "stream",
     "text": [
      "2025-04-22 16:31:24,374 - INFO - Downloaded logs_7zyafibl:v0 to /scratch/downloaded_artifacts/logs_7zyafibl:v0\n"
     ]
    },
    {
     "name": "stderr",
     "output_type": "stream",
     "text": [
      "\u001b[34m\u001b[1mwandb\u001b[0m:   1 of 1 files downloaded.  \n"
     ]
    },
    {
     "name": "stdout",
     "output_type": "stream",
     "text": [
      "2025-04-22 16:31:25,050 - INFO - Downloaded logs_9xfm02ow:v0 to /scratch/downloaded_artifacts/logs_9xfm02ow:v0\n"
     ]
    },
    {
     "name": "stderr",
     "output_type": "stream",
     "text": [
      "\u001b[34m\u001b[1mwandb\u001b[0m:   1 of 1 files downloaded.  \n",
      "\u001b[34m\u001b[1mwandb\u001b[0m:   1 of 1 files downloaded.  \n"
     ]
    },
    {
     "name": "stdout",
     "output_type": "stream",
     "text": [
      "2025-04-22 16:31:25,053 - INFO - Downloaded logs_bl3bahmm:v0 to /scratch/downloaded_artifacts/logs_bl3bahmm:v0\n"
     ]
    },
    {
     "name": "stderr",
     "output_type": "stream",
     "text": [
      "\u001b[34m\u001b[1mwandb\u001b[0m:   1 of 1 files downloaded.  \n"
     ]
    },
    {
     "name": "stdout",
     "output_type": "stream",
     "text": [
      "2025-04-22 16:31:25,056 - INFO - Downloaded logs_8e6nqhr6:v0 to /scratch/downloaded_artifacts/logs_8e6nqhr6:v0\n",
      "2025-04-22 16:31:25,058 - INFO - Downloaded logs_dpie85s4:v0 to /scratch/downloaded_artifacts/logs_dpie85s4:v0\n"
     ]
    },
    {
     "name": "stderr",
     "output_type": "stream",
     "text": [
      "\u001b[34m\u001b[1mwandb\u001b[0m:   1 of 1 files downloaded.  \n"
     ]
    },
    {
     "name": "stdout",
     "output_type": "stream",
     "text": [
      "2025-04-22 16:31:25,116 - INFO - Downloaded logs_ciad2bab:v0 to /scratch/downloaded_artifacts/logs_ciad2bab:v0\n"
     ]
    },
    {
     "name": "stderr",
     "output_type": "stream",
     "text": [
      "\u001b[34m\u001b[1mwandb\u001b[0m:   1 of 1 files downloaded.  \n"
     ]
    },
    {
     "name": "stdout",
     "output_type": "stream",
     "text": [
      "2025-04-22 16:31:25,584 - INFO - Downloaded logs_agssk57q:v0 to /scratch/downloaded_artifacts/logs_agssk57q:v0\n"
     ]
    },
    {
     "name": "stderr",
     "output_type": "stream",
     "text": [
      "\u001b[34m\u001b[1mwandb\u001b[0m:   1 of 1 files downloaded.  \n"
     ]
    },
    {
     "name": "stdout",
     "output_type": "stream",
     "text": [
      "2025-04-22 16:31:25,995 - INFO - Downloaded logs_o7cy8m2s:v0 to /scratch/downloaded_artifacts/logs_o7cy8m2s:v0\n"
     ]
    },
    {
     "name": "stderr",
     "output_type": "stream",
     "text": [
      "\u001b[34m\u001b[1mwandb\u001b[0m:   1 of 1 files downloaded.  \n",
      "\u001b[34m\u001b[1mwandb\u001b[0m:   1 of 1 files downloaded.  \n"
     ]
    },
    {
     "name": "stdout",
     "output_type": "stream",
     "text": [
      "2025-04-22 16:31:26,002 - INFO - Downloaded logs_ij3q0ynz:v0 to /scratch/downloaded_artifacts/logs_ij3q0ynz:v0\n",
      "2025-04-22 16:31:26,003 - INFO - Downloaded logs_njvkes16:v0 to /scratch/downloaded_artifacts/logs_njvkes16:v0\n"
     ]
    },
    {
     "name": "stderr",
     "output_type": "stream",
     "text": [
      "\u001b[34m\u001b[1mwandb\u001b[0m:   1 of 1 files downloaded.  \n"
     ]
    },
    {
     "name": "stdout",
     "output_type": "stream",
     "text": [
      "2025-04-22 16:31:26,061 - INFO - Downloaded logs_nn4zddaf:v0 to /scratch/downloaded_artifacts/logs_nn4zddaf:v0\n"
     ]
    },
    {
     "name": "stderr",
     "output_type": "stream",
     "text": [
      "\u001b[34m\u001b[1mwandb\u001b[0m:   1 of 1 files downloaded.  \n"
     ]
    },
    {
     "name": "stdout",
     "output_type": "stream",
     "text": [
      "2025-04-22 16:31:26,570 - INFO - Downloaded logs_p706lilh:v0 to /scratch/downloaded_artifacts/logs_p706lilh:v0\n"
     ]
    },
    {
     "name": "stderr",
     "output_type": "stream",
     "text": [
      "\u001b[34m\u001b[1mwandb\u001b[0m:   1 of 1 files downloaded.  \n",
      "\u001b[34m\u001b[1mwandb\u001b[0m:   1 of 1 files downloaded.  \n"
     ]
    },
    {
     "name": "stdout",
     "output_type": "stream",
     "text": [
      "2025-04-22 16:31:26,864 - INFO - Downloaded logs_vbati5s3:v0 to /scratch/downloaded_artifacts/logs_vbati5s3:v0\n",
      "2025-04-22 16:31:26,865 - INFO - Downloaded logs_slid3sae:v0 to /scratch/downloaded_artifacts/logs_slid3sae:v0\n"
     ]
    },
    {
     "name": "stderr",
     "output_type": "stream",
     "text": [
      "\u001b[34m\u001b[1mwandb\u001b[0m:   1 of 1 files downloaded.  \n"
     ]
    },
    {
     "name": "stdout",
     "output_type": "stream",
     "text": [
      "2025-04-22 16:31:26,931 - INFO - Downloaded logs_zdozk6st:v0 to /scratch/downloaded_artifacts/logs_zdozk6st:v0\n"
     ]
    },
    {
     "name": "stderr",
     "output_type": "stream",
     "text": [
      "\u001b[34m\u001b[1mwandb\u001b[0m:   1 of 1 files downloaded.  \n"
     ]
    },
    {
     "name": "stdout",
     "output_type": "stream",
     "text": [
      "2025-04-22 16:31:26,932 - INFO - Downloaded logs_kj035jls:v0 to /scratch/downloaded_artifacts/logs_kj035jls:v0\n"
     ]
    },
    {
     "name": "stderr",
     "output_type": "stream",
     "text": [
      "\u001b[34m\u001b[1mwandb\u001b[0m:   1 of 1 files downloaded.  \n"
     ]
    },
    {
     "name": "stdout",
     "output_type": "stream",
     "text": [
      "2025-04-22 16:31:27,413 - INFO - Downloaded logs_143ph8ar:v0 to /scratch/downloaded_artifacts/logs_143ph8ar:v0\n"
     ]
    },
    {
     "name": "stderr",
     "output_type": "stream",
     "text": [
      "\u001b[34m\u001b[1mwandb\u001b[0m:   1 of 1 files downloaded.  \n"
     ]
    },
    {
     "name": "stdout",
     "output_type": "stream",
     "text": [
      "2025-04-22 16:31:27,648 - INFO - Downloaded logs_1xe1a35x:v0 to /scratch/downloaded_artifacts/logs_1xe1a35x:v0\n"
     ]
    },
    {
     "name": "stderr",
     "output_type": "stream",
     "text": [
      "\u001b[34m\u001b[1mwandb\u001b[0m:   1 of 1 files downloaded.  \n"
     ]
    },
    {
     "name": "stdout",
     "output_type": "stream",
     "text": [
      "2025-04-22 16:31:27,848 - INFO - Downloaded logs_bciebfej:v0 to /scratch/downloaded_artifacts/logs_bciebfej:v0\n"
     ]
    },
    {
     "name": "stderr",
     "output_type": "stream",
     "text": [
      "\u001b[34m\u001b[1mwandb\u001b[0m:   1 of 1 files downloaded.  \n"
     ]
    },
    {
     "name": "stdout",
     "output_type": "stream",
     "text": [
      "2025-04-22 16:31:28,172 - INFO - Downloaded logs_gmd8mrrl:v0 to /scratch/downloaded_artifacts/logs_gmd8mrrl:v0\n"
     ]
    },
    {
     "name": "stderr",
     "output_type": "stream",
     "text": [
      "\u001b[34m\u001b[1mwandb\u001b[0m:   1 of 1 files downloaded.  \n"
     ]
    },
    {
     "name": "stdout",
     "output_type": "stream",
     "text": [
      "2025-04-22 16:31:28,409 - INFO - Downloaded logs_ioniifaf:v0 to /scratch/downloaded_artifacts/logs_ioniifaf:v0\n"
     ]
    },
    {
     "name": "stderr",
     "output_type": "stream",
     "text": [
      "\u001b[34m\u001b[1mwandb\u001b[0m:   1 of 1 files downloaded.  \n"
     ]
    },
    {
     "name": "stdout",
     "output_type": "stream",
     "text": [
      "2025-04-22 16:31:28,688 - INFO - Downloaded logs_pz62zmdn:v0 to /scratch/downloaded_artifacts/logs_pz62zmdn:v0\n"
     ]
    },
    {
     "name": "stderr",
     "output_type": "stream",
     "text": [
      "\u001b[34m\u001b[1mwandb\u001b[0m:   1 of 1 files downloaded.  \n"
     ]
    },
    {
     "name": "stdout",
     "output_type": "stream",
     "text": [
      "2025-04-22 16:31:28,797 - INFO - Downloaded logs_9hfp66xl:v0 to /scratch/downloaded_artifacts/logs_9hfp66xl:v0\n"
     ]
    },
    {
     "name": "stderr",
     "output_type": "stream",
     "text": [
      "\u001b[34m\u001b[1mwandb\u001b[0m:   1 of 1 files downloaded.  \n"
     ]
    },
    {
     "name": "stdout",
     "output_type": "stream",
     "text": [
      "2025-04-22 16:31:28,836 - INFO - Downloaded logs_8a001r0k:v0 to /scratch/downloaded_artifacts/logs_8a001r0k:v0\n"
     ]
    },
    {
     "name": "stderr",
     "output_type": "stream",
     "text": [
      "\u001b[34m\u001b[1mwandb\u001b[0m:   1 of 1 files downloaded.  \n"
     ]
    },
    {
     "name": "stdout",
     "output_type": "stream",
     "text": [
      "2025-04-22 16:31:29,303 - INFO - Downloaded logs_qi4u83fq:v0 to /scratch/downloaded_artifacts/logs_qi4u83fq:v0\n"
     ]
    },
    {
     "name": "stderr",
     "output_type": "stream",
     "text": [
      "\u001b[34m\u001b[1mwandb\u001b[0m:   1 of 1 files downloaded.  \n"
     ]
    },
    {
     "name": "stdout",
     "output_type": "stream",
     "text": [
      "2025-04-22 16:31:29,468 - INFO - Downloaded logs_segse7d3:v0 to /scratch/downloaded_artifacts/logs_segse7d3:v0\n"
     ]
    },
    {
     "name": "stderr",
     "output_type": "stream",
     "text": [
      "\u001b[34m\u001b[1mwandb\u001b[0m:   1 of 1 files downloaded.  \n"
     ]
    },
    {
     "name": "stdout",
     "output_type": "stream",
     "text": [
      "2025-04-22 16:31:29,617 - INFO - Downloaded logs_uvi29g73:v0 to /scratch/downloaded_artifacts/logs_uvi29g73:v0\n"
     ]
    },
    {
     "name": "stderr",
     "output_type": "stream",
     "text": [
      "\u001b[34m\u001b[1mwandb\u001b[0m:   1 of 1 files downloaded.  \n"
     ]
    },
    {
     "name": "stdout",
     "output_type": "stream",
     "text": [
      "2025-04-22 16:31:29,713 - INFO - Downloaded logs_1p1lc4za:v0 to /scratch/downloaded_artifacts/logs_1p1lc4za:v0\n"
     ]
    },
    {
     "name": "stderr",
     "output_type": "stream",
     "text": [
      "\u001b[34m\u001b[1mwandb\u001b[0m: \u001b[33mWARNING\u001b[0m A graphql request initiated by the public wandb API timed out (timeout=19 sec). Create a new API with an integer timeout larger than 19, e.g., `api = wandb.Api(timeout=29)` to increase the graphql timeout.\n",
      "\u001b[34m\u001b[1mwandb\u001b[0m:   1 of 1 files downloaded.  \n"
     ]
    },
    {
     "name": "stdout",
     "output_type": "stream",
     "text": [
      "2025-04-22 16:31:30,121 - INFO - Downloaded logs_lf41cfrf:v0 to /scratch/downloaded_artifacts/logs_lf41cfrf:v0\n"
     ]
    },
    {
     "name": "stderr",
     "output_type": "stream",
     "text": [
      "\u001b[34m\u001b[1mwandb\u001b[0m:   1 of 1 files downloaded.  \n"
     ]
    },
    {
     "name": "stdout",
     "output_type": "stream",
     "text": [
      "2025-04-22 16:31:30,260 - INFO - Downloaded logs_mbog5syf:v0 to /scratch/downloaded_artifacts/logs_mbog5syf:v0\n"
     ]
    },
    {
     "name": "stderr",
     "output_type": "stream",
     "text": [
      "\u001b[34m\u001b[1mwandb\u001b[0m:   1 of 1 files downloaded.  \n"
     ]
    },
    {
     "name": "stdout",
     "output_type": "stream",
     "text": [
      "2025-04-22 16:31:30,357 - INFO - Downloaded logs_lz0bixop:v0 to /scratch/downloaded_artifacts/logs_lz0bixop:v0\n"
     ]
    },
    {
     "name": "stderr",
     "output_type": "stream",
     "text": [
      "\u001b[34m\u001b[1mwandb\u001b[0m:   1 of 1 files downloaded.  \n"
     ]
    },
    {
     "name": "stdout",
     "output_type": "stream",
     "text": [
      "2025-04-22 16:31:30,554 - INFO - Downloaded logs_p6b1x50l:v0 to /scratch/downloaded_artifacts/logs_p6b1x50l:v0\n"
     ]
    },
    {
     "name": "stderr",
     "output_type": "stream",
     "text": [
      "\u001b[34m\u001b[1mwandb\u001b[0m:   1 of 1 files downloaded.  \n"
     ]
    },
    {
     "name": "stdout",
     "output_type": "stream",
     "text": [
      "2025-04-22 16:31:31,039 - INFO - Downloaded logs_98yvy3id:v0 to /scratch/downloaded_artifacts/logs_98yvy3id:v0\n"
     ]
    },
    {
     "name": "stderr",
     "output_type": "stream",
     "text": [
      "\u001b[34m\u001b[1mwandb\u001b[0m:   1 of 1 files downloaded.  \n"
     ]
    },
    {
     "name": "stdout",
     "output_type": "stream",
     "text": [
      "2025-04-22 16:31:31,415 - INFO - Downloaded logs_jp5nmaa4:v0 to /scratch/downloaded_artifacts/logs_jp5nmaa4:v0\n"
     ]
    },
    {
     "name": "stderr",
     "output_type": "stream",
     "text": [
      "\u001b[34m\u001b[1mwandb\u001b[0m:   1 of 1 files downloaded.  \n"
     ]
    },
    {
     "name": "stdout",
     "output_type": "stream",
     "text": [
      "2025-04-22 16:31:32,057 - INFO - Downloaded logs_luhcsocn:v0 to /scratch/downloaded_artifacts/logs_luhcsocn:v0\n"
     ]
    },
    {
     "name": "stderr",
     "output_type": "stream",
     "text": [
      "\u001b[34m\u001b[1mwandb\u001b[0m:   1 of 1 files downloaded.  \n"
     ]
    },
    {
     "name": "stdout",
     "output_type": "stream",
     "text": [
      "2025-04-22 16:31:32,123 - INFO - Downloaded logs_2e0l7fq1:v0 to /scratch/downloaded_artifacts/logs_2e0l7fq1:v0\n"
     ]
    },
    {
     "name": "stderr",
     "output_type": "stream",
     "text": [
      "\u001b[34m\u001b[1mwandb\u001b[0m:   1 of 1 files downloaded.  \n"
     ]
    },
    {
     "name": "stdout",
     "output_type": "stream",
     "text": [
      "2025-04-22 16:31:32,612 - INFO - Downloaded logs_7pys140r:v0 to /scratch/downloaded_artifacts/logs_7pys140r:v0\n"
     ]
    },
    {
     "name": "stderr",
     "output_type": "stream",
     "text": [
      "\u001b[34m\u001b[1mwandb\u001b[0m:   1 of 1 files downloaded.  \n"
     ]
    },
    {
     "name": "stdout",
     "output_type": "stream",
     "text": [
      "2025-04-22 16:31:32,855 - INFO - Downloaded logs_wi24t2bp:v0 to /scratch/downloaded_artifacts/logs_wi24t2bp:v0\n"
     ]
    },
    {
     "name": "stderr",
     "output_type": "stream",
     "text": [
      "\u001b[34m\u001b[1mwandb\u001b[0m:   1 of 1 files downloaded.  \n"
     ]
    },
    {
     "name": "stdout",
     "output_type": "stream",
     "text": [
      "2025-04-22 16:31:32,920 - INFO - Downloaded logs_3d35pss4:v0 to /scratch/downloaded_artifacts/logs_3d35pss4:v0\n"
     ]
    },
    {
     "name": "stderr",
     "output_type": "stream",
     "text": [
      "\u001b[34m\u001b[1mwandb\u001b[0m:   1 of 1 files downloaded.  \n"
     ]
    },
    {
     "name": "stdout",
     "output_type": "stream",
     "text": [
      "2025-04-22 16:31:33,712 - INFO - Downloaded logs_5ycdi6yp:v0 to /scratch/downloaded_artifacts/logs_5ycdi6yp:v0\n"
     ]
    },
    {
     "name": "stderr",
     "output_type": "stream",
     "text": [
      "\u001b[34m\u001b[1mwandb\u001b[0m:   1 of 1 files downloaded.  \n"
     ]
    },
    {
     "name": "stdout",
     "output_type": "stream",
     "text": [
      "2025-04-22 16:31:33,798 - INFO - Downloaded logs_x8hqi7lx:v0 to /scratch/downloaded_artifacts/logs_x8hqi7lx:v0\n"
     ]
    },
    {
     "name": "stderr",
     "output_type": "stream",
     "text": [
      "\u001b[34m\u001b[1mwandb\u001b[0m:   1 of 1 files downloaded.  \n",
      "\u001b[34m\u001b[1mwandb\u001b[0m:   1 of 1 files downloaded.  \n"
     ]
    },
    {
     "name": "stdout",
     "output_type": "stream",
     "text": [
      "2025-04-22 16:31:33,817 - INFO - Downloaded logs_7433jd01:v0 to /scratch/downloaded_artifacts/logs_7433jd01:v0\n",
      "2025-04-22 16:31:33,818 - INFO - Downloaded logs_q7yrywq4:v0 to /scratch/downloaded_artifacts/logs_q7yrywq4:v0\n"
     ]
    },
    {
     "name": "stderr",
     "output_type": "stream",
     "text": [
      "\u001b[34m\u001b[1mwandb\u001b[0m:   1 of 1 files downloaded.  \n"
     ]
    },
    {
     "name": "stdout",
     "output_type": "stream",
     "text": [
      "2025-04-22 16:31:34,652 - INFO - Downloaded logs_7bjxkyh1:v0 to /scratch/downloaded_artifacts/logs_7bjxkyh1:v0\n"
     ]
    },
    {
     "name": "stderr",
     "output_type": "stream",
     "text": [
      "\u001b[34m\u001b[1mwandb\u001b[0m:   1 of 1 files downloaded.  \n"
     ]
    },
    {
     "name": "stdout",
     "output_type": "stream",
     "text": [
      "2025-04-22 16:31:34,759 - INFO - Downloaded logs_e06zsq1c:v0 to /scratch/downloaded_artifacts/logs_e06zsq1c:v0\n"
     ]
    },
    {
     "name": "stderr",
     "output_type": "stream",
     "text": [
      "\u001b[34m\u001b[1mwandb\u001b[0m:   1 of 1 files downloaded.  \n"
     ]
    },
    {
     "name": "stdout",
     "output_type": "stream",
     "text": [
      "2025-04-22 16:31:34,764 - INFO - Downloaded logs_7puc579t:v0 to /scratch/downloaded_artifacts/logs_7puc579t:v0\n"
     ]
    },
    {
     "name": "stderr",
     "output_type": "stream",
     "text": [
      "\u001b[34m\u001b[1mwandb\u001b[0m:   1 of 1 files downloaded.  \n"
     ]
    },
    {
     "name": "stdout",
     "output_type": "stream",
     "text": [
      "2025-04-22 16:31:35,521 - INFO - Downloaded logs_ebx8wvqj:v0 to /scratch/downloaded_artifacts/logs_ebx8wvqj:v0\n"
     ]
    },
    {
     "name": "stderr",
     "output_type": "stream",
     "text": [
      "\u001b[34m\u001b[1mwandb\u001b[0m:   1 of 1 files downloaded.  \n"
     ]
    },
    {
     "name": "stdout",
     "output_type": "stream",
     "text": [
      "2025-04-22 16:31:35,621 - INFO - Downloaded logs_jlg6es4h:v0 to /scratch/downloaded_artifacts/logs_jlg6es4h:v0\n"
     ]
    },
    {
     "name": "stderr",
     "output_type": "stream",
     "text": [
      "\u001b[34m\u001b[1mwandb\u001b[0m:   1 of 1 files downloaded.  \n"
     ]
    },
    {
     "name": "stdout",
     "output_type": "stream",
     "text": [
      "2025-04-22 16:31:35,693 - INFO - Downloaded logs_ivc8m493:v0 to /scratch/downloaded_artifacts/logs_ivc8m493:v0\n"
     ]
    },
    {
     "name": "stderr",
     "output_type": "stream",
     "text": [
      "\u001b[34m\u001b[1mwandb\u001b[0m:   1 of 1 files downloaded.  \n"
     ]
    },
    {
     "name": "stdout",
     "output_type": "stream",
     "text": [
      "2025-04-22 16:31:36,518 - INFO - Downloaded logs_p8epi5s9:v0 to /scratch/downloaded_artifacts/logs_p8epi5s9:v0\n"
     ]
    },
    {
     "name": "stderr",
     "output_type": "stream",
     "text": [
      "\u001b[34m\u001b[1mwandb\u001b[0m:   1 of 1 files downloaded.  \n"
     ]
    },
    {
     "name": "stdout",
     "output_type": "stream",
     "text": [
      "2025-04-22 16:31:36,615 - INFO - Downloaded logs_s6f4hz0r:v0 to /scratch/downloaded_artifacts/logs_s6f4hz0r:v0\n"
     ]
    },
    {
     "name": "stderr",
     "output_type": "stream",
     "text": [
      "\u001b[34m\u001b[1mwandb\u001b[0m:   1 of 1 files downloaded.  \n"
     ]
    },
    {
     "name": "stdout",
     "output_type": "stream",
     "text": [
      "2025-04-22 16:31:37,266 - INFO - Downloaded logs_nkk25t3j:v0 to /scratch/downloaded_artifacts/logs_nkk25t3j:v0\n"
     ]
    },
    {
     "name": "stderr",
     "output_type": "stream",
     "text": [
      "\u001b[34m\u001b[1mwandb\u001b[0m:   1 of 1 files downloaded.  \n"
     ]
    },
    {
     "name": "stdout",
     "output_type": "stream",
     "text": [
      "2025-04-22 16:31:37,369 - INFO - Downloaded logs_we38zadi:v0 to /scratch/downloaded_artifacts/logs_we38zadi:v0\n"
     ]
    },
    {
     "name": "stderr",
     "output_type": "stream",
     "text": [
      "\u001b[34m\u001b[1mwandb\u001b[0m:   1 of 1 files downloaded.  \n"
     ]
    },
    {
     "name": "stdout",
     "output_type": "stream",
     "text": [
      "2025-04-22 16:31:37,373 - INFO - Downloaded logs_wqb0e858:v0 to /scratch/downloaded_artifacts/logs_wqb0e858:v0\n"
     ]
    },
    {
     "name": "stderr",
     "output_type": "stream",
     "text": [
      "\u001b[34m\u001b[1mwandb\u001b[0m:   1 of 1 files downloaded.  \n"
     ]
    },
    {
     "name": "stdout",
     "output_type": "stream",
     "text": [
      "2025-04-22 16:31:37,441 - INFO - Downloaded logs_z56rgmxf:v0 to /scratch/downloaded_artifacts/logs_z56rgmxf:v0\n"
     ]
    },
    {
     "name": "stderr",
     "output_type": "stream",
     "text": [
      "\u001b[34m\u001b[1mwandb\u001b[0m:   1 of 1 files downloaded.  \n"
     ]
    },
    {
     "name": "stdout",
     "output_type": "stream",
     "text": [
      "2025-04-22 16:31:38,167 - INFO - Downloaded logs_x9uymnxn:v0 to /scratch/downloaded_artifacts/logs_x9uymnxn:v0\n"
     ]
    },
    {
     "name": "stderr",
     "output_type": "stream",
     "text": [
      "\u001b[34m\u001b[1mwandb\u001b[0m:   1 of 1 files downloaded.  \n"
     ]
    },
    {
     "name": "stdout",
     "output_type": "stream",
     "text": [
      "2025-04-22 16:31:38,273 - INFO - Downloaded logs_0hz4wwaz:v0 to /scratch/downloaded_artifacts/logs_0hz4wwaz:v0\n"
     ]
    },
    {
     "name": "stderr",
     "output_type": "stream",
     "text": [
      "\u001b[34m\u001b[1mwandb\u001b[0m:   1 of 1 files downloaded.  \n"
     ]
    },
    {
     "name": "stdout",
     "output_type": "stream",
     "text": [
      "2025-04-22 16:31:38,277 - INFO - Downloaded logs_yx2ffgb8:v0 to /scratch/downloaded_artifacts/logs_yx2ffgb8:v0\n"
     ]
    },
    {
     "name": "stderr",
     "output_type": "stream",
     "text": [
      "\u001b[34m\u001b[1mwandb\u001b[0m:   1 of 1 files downloaded.  \n"
     ]
    },
    {
     "name": "stdout",
     "output_type": "stream",
     "text": [
      "2025-04-22 16:31:38,620 - INFO - Downloaded logs_24w0qwnd:v0 to /scratch/downloaded_artifacts/logs_24w0qwnd:v0\n"
     ]
    },
    {
     "name": "stderr",
     "output_type": "stream",
     "text": [
      "\u001b[34m\u001b[1mwandb\u001b[0m:   1 of 1 files downloaded.  \n"
     ]
    },
    {
     "name": "stdout",
     "output_type": "stream",
     "text": [
      "2025-04-22 16:31:38,984 - INFO - Downloaded logs_zxe0f77v:v0 to /scratch/downloaded_artifacts/logs_zxe0f77v:v0\n"
     ]
    },
    {
     "name": "stderr",
     "output_type": "stream",
     "text": [
      "\u001b[34m\u001b[1mwandb\u001b[0m:   1 of 1 files downloaded.  \n"
     ]
    },
    {
     "name": "stdout",
     "output_type": "stream",
     "text": [
      "2025-04-22 16:31:39,082 - INFO - Downloaded logs_a07cd3pl:v0 to /scratch/downloaded_artifacts/logs_a07cd3pl:v0\n"
     ]
    },
    {
     "name": "stderr",
     "output_type": "stream",
     "text": [
      "\u001b[34m\u001b[1mwandb\u001b[0m:   1 of 1 files downloaded.  \n"
     ]
    },
    {
     "name": "stdout",
     "output_type": "stream",
     "text": [
      "2025-04-22 16:31:39,485 - INFO - Downloaded logs_05bmm8f7:v0 to /scratch/downloaded_artifacts/logs_05bmm8f7:v0\n"
     ]
    },
    {
     "name": "stderr",
     "output_type": "stream",
     "text": [
      "\u001b[34m\u001b[1mwandb\u001b[0m:   1 of 1 files downloaded.  \n"
     ]
    },
    {
     "name": "stdout",
     "output_type": "stream",
     "text": [
      "2025-04-22 16:31:39,739 - INFO - Downloaded logs_f7rjo8nj:v0 to /scratch/downloaded_artifacts/logs_f7rjo8nj:v0\n"
     ]
    },
    {
     "name": "stderr",
     "output_type": "stream",
     "text": [
      "\u001b[34m\u001b[1mwandb\u001b[0m:   1 of 1 files downloaded.  \n"
     ]
    },
    {
     "name": "stdout",
     "output_type": "stream",
     "text": [
      "2025-04-22 16:31:39,840 - INFO - Downloaded logs_ufathbp8:v0 to /scratch/downloaded_artifacts/logs_ufathbp8:v0\n"
     ]
    },
    {
     "name": "stderr",
     "output_type": "stream",
     "text": [
      "\u001b[34m\u001b[1mwandb\u001b[0m:   1 of 1 files downloaded.  \n"
     ]
    },
    {
     "name": "stdout",
     "output_type": "stream",
     "text": [
      "2025-04-22 16:31:40,244 - INFO - Downloaded logs_0n5xsn0y:v0 to /scratch/downloaded_artifacts/logs_0n5xsn0y:v0\n"
     ]
    },
    {
     "name": "stderr",
     "output_type": "stream",
     "text": [
      "\u001b[34m\u001b[1mwandb\u001b[0m:   1 of 1 files downloaded.  \n"
     ]
    },
    {
     "name": "stdout",
     "output_type": "stream",
     "text": [
      "2025-04-22 16:31:40,755 - INFO - Downloaded logs_4lgqkpb0:v0 to /scratch/downloaded_artifacts/logs_4lgqkpb0:v0\n"
     ]
    },
    {
     "name": "stderr",
     "output_type": "stream",
     "text": [
      "\u001b[34m\u001b[1mwandb\u001b[0m:   1 of 1 files downloaded.  \n"
     ]
    },
    {
     "name": "stdout",
     "output_type": "stream",
     "text": [
      "2025-04-22 16:31:40,816 - INFO - Downloaded logs_16aw1i21:v0 to /scratch/downloaded_artifacts/logs_16aw1i21:v0\n"
     ]
    },
    {
     "name": "stderr",
     "output_type": "stream",
     "text": [
      "\u001b[34m\u001b[1mwandb\u001b[0m:   1 of 1 files downloaded.  \n"
     ]
    },
    {
     "name": "stdout",
     "output_type": "stream",
     "text": [
      "2025-04-22 16:31:40,857 - INFO - Downloaded logs_gv5u6j8o:v0 to /scratch/downloaded_artifacts/logs_gv5u6j8o:v0\n"
     ]
    },
    {
     "name": "stderr",
     "output_type": "stream",
     "text": [
      "\u001b[34m\u001b[1mwandb\u001b[0m:   1 of 1 files downloaded.  \n"
     ]
    },
    {
     "name": "stdout",
     "output_type": "stream",
     "text": [
      "2025-04-22 16:31:41,409 - INFO - Downloaded logs_vfnp4ylh:v0 to /scratch/downloaded_artifacts/logs_vfnp4ylh:v0\n"
     ]
    },
    {
     "name": "stderr",
     "output_type": "stream",
     "text": [
      "\u001b[34m\u001b[1mwandb\u001b[0m:   1 of 1 files downloaded.  \n",
      "\u001b[34m\u001b[1mwandb\u001b[0m:   1 of 1 files downloaded.  \n"
     ]
    },
    {
     "name": "stdout",
     "output_type": "stream",
     "text": [
      "2025-04-22 16:31:41,510 - INFO - Downloaded logs_5wv8c6up:v0 to /scratch/downloaded_artifacts/logs_5wv8c6up:v0\n",
      "2025-04-22 16:31:41,511 - INFO - Downloaded logs_8co9boaj:v0 to /scratch/downloaded_artifacts/logs_8co9boaj:v0\n"
     ]
    },
    {
     "name": "stderr",
     "output_type": "stream",
     "text": [
      "\u001b[34m\u001b[1mwandb\u001b[0m:   1 of 1 files downloaded.  \n"
     ]
    },
    {
     "name": "stdout",
     "output_type": "stream",
     "text": [
      "2025-04-22 16:31:41,600 - INFO - Downloaded logs_aixa8pgq:v0 to /scratch/downloaded_artifacts/logs_aixa8pgq:v0\n"
     ]
    },
    {
     "name": "stderr",
     "output_type": "stream",
     "text": [
      "\u001b[34m\u001b[1mwandb\u001b[0m:   1 of 1 files downloaded.  \n"
     ]
    },
    {
     "name": "stdout",
     "output_type": "stream",
     "text": [
      "2025-04-22 16:31:42,328 - INFO - Downloaded logs_c7aafkz8:v0 to /scratch/downloaded_artifacts/logs_c7aafkz8:v0\n"
     ]
    },
    {
     "name": "stderr",
     "output_type": "stream",
     "text": [
      "\u001b[34m\u001b[1mwandb\u001b[0m:   1 of 1 files downloaded.  \n"
     ]
    },
    {
     "name": "stdout",
     "output_type": "stream",
     "text": [
      "2025-04-22 16:31:42,409 - INFO - Downloaded logs_cs2x4eow:v0 to /scratch/downloaded_artifacts/logs_cs2x4eow:v0\n"
     ]
    },
    {
     "name": "stderr",
     "output_type": "stream",
     "text": [
      "\u001b[34m\u001b[1mwandb\u001b[0m:   1 of 1 files downloaded.  \n"
     ]
    },
    {
     "name": "stdout",
     "output_type": "stream",
     "text": [
      "2025-04-22 16:31:42,641 - INFO - Downloaded logs_zjflw5xe:v0 to /scratch/downloaded_artifacts/logs_zjflw5xe:v0\n"
     ]
    },
    {
     "name": "stderr",
     "output_type": "stream",
     "text": [
      "\u001b[34m\u001b[1mwandb\u001b[0m: \u001b[33mWARNING\u001b[0m A graphql request initiated by the public wandb API timed out (timeout=19 sec). Create a new API with an integer timeout larger than 19, e.g., `api = wandb.Api(timeout=29)` to increase the graphql timeout.\n",
      "\u001b[34m\u001b[1mwandb\u001b[0m:   1 of 1 files downloaded.  \n"
     ]
    },
    {
     "name": "stdout",
     "output_type": "stream",
     "text": [
      "2025-04-22 16:31:43,511 - INFO - Downloaded logs_zzmhd9rg:v0 to /scratch/downloaded_artifacts/logs_zzmhd9rg:v0\n"
     ]
    },
    {
     "name": "stderr",
     "output_type": "stream",
     "text": [
      "\u001b[34m\u001b[1mwandb\u001b[0m:   1 of 1 files downloaded.  \n"
     ]
    },
    {
     "name": "stdout",
     "output_type": "stream",
     "text": [
      "2025-04-22 16:31:44,317 - INFO - Downloaded logs_dqb86f6d:v0 to /scratch/downloaded_artifacts/logs_dqb86f6d:v0\n"
     ]
    },
    {
     "name": "stderr",
     "output_type": "stream",
     "text": [
      "\u001b[34m\u001b[1mwandb\u001b[0m:   1 of 1 files downloaded.  \n"
     ]
    },
    {
     "name": "stdout",
     "output_type": "stream",
     "text": [
      "2025-04-22 16:31:44,418 - INFO - Downloaded logs_gkeuk6qx:v0 to /scratch/downloaded_artifacts/logs_gkeuk6qx:v0\n"
     ]
    },
    {
     "name": "stderr",
     "output_type": "stream",
     "text": [
      "\u001b[34m\u001b[1mwandb\u001b[0m:   1 of 1 files downloaded.  \n"
     ]
    },
    {
     "name": "stdout",
     "output_type": "stream",
     "text": [
      "2025-04-22 16:31:45,140 - INFO - Downloaded logs_i5lj9ntp:v0 to /scratch/downloaded_artifacts/logs_i5lj9ntp:v0\n"
     ]
    },
    {
     "name": "stderr",
     "output_type": "stream",
     "text": [
      "\u001b[34m\u001b[1mwandb\u001b[0m:   1 of 1 files downloaded.  \n"
     ]
    },
    {
     "name": "stdout",
     "output_type": "stream",
     "text": [
      "2025-04-22 16:31:45,214 - INFO - Downloaded logs_iaodn5d3:v0 to /scratch/downloaded_artifacts/logs_iaodn5d3:v0\n"
     ]
    },
    {
     "name": "stderr",
     "output_type": "stream",
     "text": [
      "\u001b[34m\u001b[1mwandb\u001b[0m:   1 of 1 files downloaded.  \n"
     ]
    },
    {
     "name": "stdout",
     "output_type": "stream",
     "text": [
      "2025-04-22 16:31:45,596 - INFO - Downloaded logs_gacmvkxf:v0 to /scratch/downloaded_artifacts/logs_gacmvkxf:v0\n"
     ]
    },
    {
     "name": "stderr",
     "output_type": "stream",
     "text": [
      "\u001b[34m\u001b[1mwandb\u001b[0m:   1 of 1 files downloaded.  \n"
     ]
    },
    {
     "name": "stdout",
     "output_type": "stream",
     "text": [
      "2025-04-22 16:31:45,952 - INFO - Downloaded logs_iqz8nxa5:v0 to /scratch/downloaded_artifacts/logs_iqz8nxa5:v0\n"
     ]
    },
    {
     "name": "stderr",
     "output_type": "stream",
     "text": [
      "\u001b[34m\u001b[1mwandb\u001b[0m:   1 of 1 files downloaded.  \n"
     ]
    },
    {
     "name": "stdout",
     "output_type": "stream",
     "text": [
      "2025-04-22 16:31:46,115 - INFO - Downloaded logs_k49g8x8w:v0 to /scratch/downloaded_artifacts/logs_k49g8x8w:v0\n"
     ]
    },
    {
     "name": "stderr",
     "output_type": "stream",
     "text": [
      "\u001b[34m\u001b[1mwandb\u001b[0m:   1 of 1 files downloaded.  \n"
     ]
    },
    {
     "name": "stdout",
     "output_type": "stream",
     "text": [
      "2025-04-22 16:31:46,383 - INFO - Downloaded logs_no8nzcl5:v0 to /scratch/downloaded_artifacts/logs_no8nzcl5:v0\n"
     ]
    },
    {
     "name": "stderr",
     "output_type": "stream",
     "text": [
      "\u001b[34m\u001b[1mwandb\u001b[0m:   1 of 1 files downloaded.  \n"
     ]
    },
    {
     "name": "stdout",
     "output_type": "stream",
     "text": [
      "2025-04-22 16:31:46,741 - INFO - Downloaded logs_ok9v3vf0:v0 to /scratch/downloaded_artifacts/logs_ok9v3vf0:v0\n"
     ]
    },
    {
     "name": "stderr",
     "output_type": "stream",
     "text": [
      "\u001b[34m\u001b[1mwandb\u001b[0m:   1 of 1 files downloaded.  \n"
     ]
    },
    {
     "name": "stdout",
     "output_type": "stream",
     "text": [
      "2025-04-22 16:31:46,959 - INFO - Downloaded logs_ov3ttyjn:v0 to /scratch/downloaded_artifacts/logs_ov3ttyjn:v0\n"
     ]
    },
    {
     "name": "stderr",
     "output_type": "stream",
     "text": [
      "\u001b[34m\u001b[1mwandb\u001b[0m:   1 of 1 files downloaded.  \n"
     ]
    },
    {
     "name": "stdout",
     "output_type": "stream",
     "text": [
      "2025-04-22 16:31:47,304 - INFO - Downloaded logs_q6drkeqd:v0 to /scratch/downloaded_artifacts/logs_q6drkeqd:v0\n"
     ]
    },
    {
     "name": "stderr",
     "output_type": "stream",
     "text": [
      "\u001b[34m\u001b[1mwandb\u001b[0m:   1 of 1 files downloaded.  \n"
     ]
    },
    {
     "name": "stdout",
     "output_type": "stream",
     "text": [
      "2025-04-22 16:31:47,573 - INFO - Downloaded logs_qcwqbjgn:v0 to /scratch/downloaded_artifacts/logs_qcwqbjgn:v0\n"
     ]
    },
    {
     "name": "stderr",
     "output_type": "stream",
     "text": [
      "\u001b[34m\u001b[1mwandb\u001b[0m:   1 of 1 files downloaded.  \n"
     ]
    },
    {
     "name": "stdout",
     "output_type": "stream",
     "text": [
      "2025-04-22 16:31:47,789 - INFO - Downloaded logs_tjjhsvtu:v0 to /scratch/downloaded_artifacts/logs_tjjhsvtu:v0\n"
     ]
    },
    {
     "name": "stderr",
     "output_type": "stream",
     "text": [
      "\u001b[34m\u001b[1mwandb\u001b[0m:   1 of 1 files downloaded.  \n"
     ]
    },
    {
     "name": "stdout",
     "output_type": "stream",
     "text": [
      "2025-04-22 16:31:48,108 - INFO - Downloaded logs_fc29wfbo:v0 to /scratch/downloaded_artifacts/logs_fc29wfbo:v0\n"
     ]
    },
    {
     "name": "stderr",
     "output_type": "stream",
     "text": [
      "\u001b[34m\u001b[1mwandb\u001b[0m:   1 of 1 files downloaded.  \n"
     ]
    },
    {
     "name": "stdout",
     "output_type": "stream",
     "text": [
      "2025-04-22 16:31:48,185 - INFO - Downloaded logs_rpr9x6zz:v0 to /scratch/downloaded_artifacts/logs_rpr9x6zz:v0\n"
     ]
    },
    {
     "name": "stderr",
     "output_type": "stream",
     "text": [
      "\u001b[34m\u001b[1mwandb\u001b[0m:   1 of 1 files downloaded.  \n"
     ]
    },
    {
     "name": "stdout",
     "output_type": "stream",
     "text": [
      "2025-04-22 16:31:48,211 - INFO - Downloaded logs_upgxv066:v0 to /scratch/downloaded_artifacts/logs_upgxv066:v0\n"
     ]
    },
    {
     "name": "stderr",
     "output_type": "stream",
     "text": [
      "\u001b[34m\u001b[1mwandb\u001b[0m:   1 of 1 files downloaded.  \n"
     ]
    },
    {
     "name": "stdout",
     "output_type": "stream",
     "text": [
      "2025-04-22 16:31:48,373 - INFO - Downloaded logs_w8nn5y4v:v0 to /scratch/downloaded_artifacts/logs_w8nn5y4v:v0\n"
     ]
    },
    {
     "name": "stderr",
     "output_type": "stream",
     "text": [
      "\u001b[34m\u001b[1mwandb\u001b[0m:   1 of 1 files downloaded.  \n"
     ]
    },
    {
     "name": "stdout",
     "output_type": "stream",
     "text": [
      "2025-04-22 16:31:48,590 - INFO - Downloaded logs_xcbulukm:v0 to /scratch/downloaded_artifacts/logs_xcbulukm:v0\n"
     ]
    },
    {
     "name": "stderr",
     "output_type": "stream",
     "text": [
      "\u001b[34m\u001b[1mwandb\u001b[0m:   1 of 1 files downloaded.  \n"
     ]
    },
    {
     "name": "stdout",
     "output_type": "stream",
     "text": [
      "2025-04-22 16:31:48,911 - INFO - Downloaded logs_xma6fo0b:v0 to /scratch/downloaded_artifacts/logs_xma6fo0b:v0\n"
     ]
    },
    {
     "name": "stderr",
     "output_type": "stream",
     "text": [
      "\u001b[34m\u001b[1mwandb\u001b[0m:   1 of 1 files downloaded.  \n"
     ]
    },
    {
     "name": "stdout",
     "output_type": "stream",
     "text": [
      "2025-04-22 16:31:48,961 - INFO - Downloaded logs_9ex3sg8k:v0 to /scratch/downloaded_artifacts/logs_9ex3sg8k:v0\n"
     ]
    },
    {
     "name": "stderr",
     "output_type": "stream",
     "text": [
      "\u001b[34m\u001b[1mwandb\u001b[0m:   1 of 1 files downloaded.  \n"
     ]
    },
    {
     "name": "stdout",
     "output_type": "stream",
     "text": [
      "2025-04-22 16:31:49,371 - INFO - Downloaded logs_ylraw7b5:v0 to /scratch/downloaded_artifacts/logs_ylraw7b5:v0\n"
     ]
    },
    {
     "name": "stderr",
     "output_type": "stream",
     "text": [
      "\u001b[34m\u001b[1mwandb\u001b[0m:   1 of 1 files downloaded.  \n",
      "\u001b[34m\u001b[1mwandb\u001b[0m:   1 of 1 files downloaded.  \n"
     ]
    },
    {
     "name": "stdout",
     "output_type": "stream",
     "text": [
      "2025-04-22 16:31:49,376 - INFO - Downloaded logs_dxzvbx56:v0 to /scratch/downloaded_artifacts/logs_dxzvbx56:v0\n",
      "2025-04-22 16:31:49,377 - INFO - Downloaded logs_dwjkj76e:v0 to /scratch/downloaded_artifacts/logs_dwjkj76e:v0\n"
     ]
    },
    {
     "name": "stderr",
     "output_type": "stream",
     "text": [
      "\u001b[34m\u001b[1mwandb\u001b[0m:   1 of 1 files downloaded.  \n"
     ]
    },
    {
     "name": "stdout",
     "output_type": "stream",
     "text": [
      "2025-04-22 16:31:49,407 - INFO - Downloaded logs_ywfyk22r:v0 to /scratch/downloaded_artifacts/logs_ywfyk22r:v0\n"
     ]
    },
    {
     "name": "stderr",
     "output_type": "stream",
     "text": [
      "\u001b[34m\u001b[1mwandb\u001b[0m:   1 of 1 files downloaded.  \n"
     ]
    },
    {
     "name": "stdout",
     "output_type": "stream",
     "text": [
      "2025-04-22 16:31:49,463 - INFO - Downloaded logs_idfc1uf0:v0 to /scratch/downloaded_artifacts/logs_idfc1uf0:v0\n"
     ]
    },
    {
     "name": "stderr",
     "output_type": "stream",
     "text": [
      "\u001b[34m\u001b[1mwandb\u001b[0m:   1 of 1 files downloaded.  \n"
     ]
    },
    {
     "name": "stdout",
     "output_type": "stream",
     "text": [
      "2025-04-22 16:31:49,766 - INFO - Downloaded logs_iof0rjm3:v0 to /scratch/downloaded_artifacts/logs_iof0rjm3:v0\n"
     ]
    },
    {
     "name": "stderr",
     "output_type": "stream",
     "text": [
      "\u001b[34m\u001b[1mwandb\u001b[0m:   1 of 1 files downloaded.  \n"
     ]
    },
    {
     "name": "stdout",
     "output_type": "stream",
     "text": [
      "2025-04-22 16:31:49,957 - INFO - Downloaded logs_pexofl14:v0 to /scratch/downloaded_artifacts/logs_pexofl14:v0\n"
     ]
    },
    {
     "name": "stderr",
     "output_type": "stream",
     "text": [
      "\u001b[34m\u001b[1mwandb\u001b[0m: \u001b[33mWARNING\u001b[0m A graphql request initiated by the public wandb API timed out (timeout=19 sec). Create a new API with an integer timeout larger than 19, e.g., `api = wandb.Api(timeout=29)` to increase the graphql timeout.\n",
      "\u001b[34m\u001b[1mwandb\u001b[0m:   1 of 1 files downloaded.  \n"
     ]
    },
    {
     "name": "stdout",
     "output_type": "stream",
     "text": [
      "2025-04-22 16:31:50,331 - INFO - Downloaded logs_3sygn8i8:v0 to /scratch/downloaded_artifacts/logs_3sygn8i8:v0\n"
     ]
    },
    {
     "name": "stderr",
     "output_type": "stream",
     "text": [
      "\u001b[34m\u001b[1mwandb\u001b[0m:   1 of 1 files downloaded.  \n",
      "\u001b[34m\u001b[1mwandb\u001b[0m:   1 of 1 files downloaded.  \n"
     ]
    },
    {
     "name": "stdout",
     "output_type": "stream",
     "text": [
      "2025-04-22 16:31:50,335 - INFO - Downloaded logs_5t6x55e4:v0 to /scratch/downloaded_artifacts/logs_5t6x55e4:v0\n"
     ]
    },
    {
     "name": "stderr",
     "output_type": "stream",
     "text": [
      "\u001b[34m\u001b[1mwandb\u001b[0m:   1 of 1 files downloaded.  \n"
     ]
    },
    {
     "name": "stdout",
     "output_type": "stream",
     "text": [
      "2025-04-22 16:31:50,338 - INFO - Downloaded logs_0hzsx5jb:v0 to /scratch/downloaded_artifacts/logs_0hzsx5jb:v0\n",
      "2025-04-22 16:31:50,339 - INFO - Downloaded logs_pzxrxfjn:v0 to /scratch/downloaded_artifacts/logs_pzxrxfjn:v0\n"
     ]
    },
    {
     "name": "stderr",
     "output_type": "stream",
     "text": [
      "\u001b[34m\u001b[1mwandb\u001b[0m:   1 of 1 files downloaded.  \n"
     ]
    },
    {
     "name": "stdout",
     "output_type": "stream",
     "text": [
      "2025-04-22 16:31:50,407 - INFO - Downloaded logs_pj5ngw9b:v0 to /scratch/downloaded_artifacts/logs_pj5ngw9b:v0\n"
     ]
    },
    {
     "name": "stderr",
     "output_type": "stream",
     "text": [
      "\u001b[34m\u001b[1mwandb\u001b[0m:   1 of 1 files downloaded.  \n"
     ]
    },
    {
     "name": "stdout",
     "output_type": "stream",
     "text": [
      "2025-04-22 16:31:50,408 - INFO - Downloaded logs_7nwghxq1:v0 to /scratch/downloaded_artifacts/logs_7nwghxq1:v0\n"
     ]
    },
    {
     "name": "stderr",
     "output_type": "stream",
     "text": [
      "\u001b[34m\u001b[1mwandb\u001b[0m:   1 of 1 files downloaded.  \n"
     ]
    },
    {
     "name": "stdout",
     "output_type": "stream",
     "text": [
      "2025-04-22 16:31:50,643 - INFO - Downloaded logs_8eh9obmj:v0 to /scratch/downloaded_artifacts/logs_8eh9obmj:v0\n"
     ]
    },
    {
     "name": "stderr",
     "output_type": "stream",
     "text": [
      "\u001b[34m\u001b[1mwandb\u001b[0m:   1 of 1 files downloaded.  \n"
     ]
    },
    {
     "name": "stdout",
     "output_type": "stream",
     "text": [
      "2025-04-22 16:31:50,904 - INFO - Downloaded logs_8rm32ney:v0 to /scratch/downloaded_artifacts/logs_8rm32ney:v0\n"
     ]
    },
    {
     "name": "stderr",
     "output_type": "stream",
     "text": [
      "\u001b[34m\u001b[1mwandb\u001b[0m:   1 of 1 files downloaded.  \n"
     ]
    },
    {
     "name": "stdout",
     "output_type": "stream",
     "text": [
      "2025-04-22 16:31:51,204 - INFO - Downloaded logs_96yi37g1:v0 to /scratch/downloaded_artifacts/logs_96yi37g1:v0\n"
     ]
    },
    {
     "name": "stderr",
     "output_type": "stream",
     "text": [
      "\u001b[34m\u001b[1mwandb\u001b[0m:   1 of 1 files downloaded.  \n"
     ]
    },
    {
     "name": "stdout",
     "output_type": "stream",
     "text": [
      "2025-04-22 16:31:51,387 - INFO - Downloaded logs_9lll4ypj:v0 to /scratch/downloaded_artifacts/logs_9lll4ypj:v0\n"
     ]
    },
    {
     "name": "stderr",
     "output_type": "stream",
     "text": [
      "\u001b[34m\u001b[1mwandb\u001b[0m:   1 of 1 files downloaded.  \n"
     ]
    },
    {
     "name": "stdout",
     "output_type": "stream",
     "text": [
      "2025-04-22 16:31:51,394 - INFO - Downloaded logs_9pcwpryl:v0 to /scratch/downloaded_artifacts/logs_9pcwpryl:v0\n"
     ]
    },
    {
     "name": "stderr",
     "output_type": "stream",
     "text": [
      "\u001b[34m\u001b[1mwandb\u001b[0m:   1 of 1 files downloaded.  \n"
     ]
    },
    {
     "name": "stdout",
     "output_type": "stream",
     "text": [
      "2025-04-22 16:31:51,397 - INFO - Downloaded logs_drb3fxta:v0 to /scratch/downloaded_artifacts/logs_drb3fxta:v0\n"
     ]
    },
    {
     "name": "stderr",
     "output_type": "stream",
     "text": [
      "\u001b[34m\u001b[1mwandb\u001b[0m:   1 of 1 files downloaded.  \n"
     ]
    },
    {
     "name": "stdout",
     "output_type": "stream",
     "text": [
      "2025-04-22 16:31:51,566 - INFO - Downloaded logs_gxgbewgu:v0 to /scratch/downloaded_artifacts/logs_gxgbewgu:v0\n"
     ]
    },
    {
     "name": "stderr",
     "output_type": "stream",
     "text": [
      "\u001b[34m\u001b[1mwandb\u001b[0m:   1 of 1 files downloaded.  \n"
     ]
    },
    {
     "name": "stdout",
     "output_type": "stream",
     "text": [
      "2025-04-22 16:31:51,572 - INFO - Downloaded logs_dthg5iy9:v0 to /scratch/downloaded_artifacts/logs_dthg5iy9:v0\n"
     ]
    },
    {
     "name": "stderr",
     "output_type": "stream",
     "text": [
      "\u001b[34m\u001b[1mwandb\u001b[0m:   1 of 1 files downloaded.  \n"
     ]
    },
    {
     "name": "stdout",
     "output_type": "stream",
     "text": [
      "2025-04-22 16:31:51,663 - INFO - Downloaded logs_g7guhjt8:v0 to /scratch/downloaded_artifacts/logs_g7guhjt8:v0\n"
     ]
    },
    {
     "name": "stderr",
     "output_type": "stream",
     "text": [
      "\u001b[34m\u001b[1mwandb\u001b[0m:   1 of 1 files downloaded.  \n"
     ]
    },
    {
     "name": "stdout",
     "output_type": "stream",
     "text": [
      "2025-04-22 16:31:51,976 - INFO - Downloaded logs_jt8tngel:v0 to /scratch/downloaded_artifacts/logs_jt8tngel:v0\n"
     ]
    },
    {
     "name": "stderr",
     "output_type": "stream",
     "text": [
      "\u001b[34m\u001b[1mwandb\u001b[0m:   1 of 1 files downloaded.  \n"
     ]
    },
    {
     "name": "stdout",
     "output_type": "stream",
     "text": [
      "2025-04-22 16:31:51,987 - INFO - Downloaded logs_hpqtdrbk:v0 to /scratch/downloaded_artifacts/logs_hpqtdrbk:v0\n"
     ]
    },
    {
     "name": "stderr",
     "output_type": "stream",
     "text": [
      "\u001b[34m\u001b[1mwandb\u001b[0m:   1 of 1 files downloaded.  \n"
     ]
    },
    {
     "name": "stdout",
     "output_type": "stream",
     "text": [
      "2025-04-22 16:31:52,082 - INFO - Downloaded logs_i348o22o:v0 to /scratch/downloaded_artifacts/logs_i348o22o:v0\n"
     ]
    },
    {
     "name": "stderr",
     "output_type": "stream",
     "text": [
      "\u001b[34m\u001b[1mwandb\u001b[0m:   1 of 1 files downloaded.  \n"
     ]
    },
    {
     "name": "stdout",
     "output_type": "stream",
     "text": [
      "2025-04-22 16:31:52,491 - INFO - Downloaded logs_0f186bkj:v0 to /scratch/downloaded_artifacts/logs_0f186bkj:v0\n"
     ]
    },
    {
     "name": "stderr",
     "output_type": "stream",
     "text": [
      "\u001b[34m\u001b[1mwandb\u001b[0m:   1 of 1 files downloaded.  \n"
     ]
    },
    {
     "name": "stdout",
     "output_type": "stream",
     "text": [
      "2025-04-22 16:31:52,516 - INFO - Downloaded logs_jxjdmyv6:v0 to /scratch/downloaded_artifacts/logs_jxjdmyv6:v0\n"
     ]
    },
    {
     "name": "stderr",
     "output_type": "stream",
     "text": [
      "\u001b[34m\u001b[1mwandb\u001b[0m:   1 of 1 files downloaded.  \n"
     ]
    },
    {
     "name": "stdout",
     "output_type": "stream",
     "text": [
      "2025-04-22 16:31:52,521 - INFO - Downloaded logs_itby48sa:v0 to /scratch/downloaded_artifacts/logs_itby48sa:v0\n"
     ]
    },
    {
     "name": "stderr",
     "output_type": "stream",
     "text": [
      "\u001b[34m\u001b[1mwandb\u001b[0m:   1 of 1 files downloaded.  \n"
     ]
    },
    {
     "name": "stdout",
     "output_type": "stream",
     "text": [
      "2025-04-22 16:31:52,537 - INFO - Downloaded logs_jnbarsdl:v0 to /scratch/downloaded_artifacts/logs_jnbarsdl:v0\n"
     ]
    },
    {
     "name": "stderr",
     "output_type": "stream",
     "text": [
      "\u001b[34m\u001b[1mwandb\u001b[0m:   1 of 1 files downloaded.  \n"
     ]
    },
    {
     "name": "stdout",
     "output_type": "stream",
     "text": [
      "2025-04-22 16:31:52,541 - INFO - Downloaded logs_k685pps6:v0 to /scratch/downloaded_artifacts/logs_k685pps6:v0\n"
     ]
    },
    {
     "name": "stderr",
     "output_type": "stream",
     "text": [
      "\u001b[34m\u001b[1mwandb\u001b[0m:   1 of 1 files downloaded.  \n"
     ]
    },
    {
     "name": "stdout",
     "output_type": "stream",
     "text": [
      "2025-04-22 16:31:52,548 - INFO - Downloaded logs_i5rpooby:v0 to /scratch/downloaded_artifacts/logs_i5rpooby:v0\n"
     ]
    },
    {
     "name": "stderr",
     "output_type": "stream",
     "text": [
      "\u001b[34m\u001b[1mwandb\u001b[0m:   1 of 1 files downloaded.  \n"
     ]
    },
    {
     "name": "stdout",
     "output_type": "stream",
     "text": [
      "2025-04-22 16:31:52,579 - INFO - Downloaded logs_kkz8vjl7:v0 to /scratch/downloaded_artifacts/logs_kkz8vjl7:v0\n"
     ]
    },
    {
     "name": "stderr",
     "output_type": "stream",
     "text": [
      "\u001b[34m\u001b[1mwandb\u001b[0m:   1 of 1 files downloaded.  \n"
     ]
    },
    {
     "name": "stdout",
     "output_type": "stream",
     "text": [
      "2025-04-22 16:31:52,602 - INFO - Downloaded logs_mbc5mlhk:v0 to /scratch/downloaded_artifacts/logs_mbc5mlhk:v0\n"
     ]
    },
    {
     "name": "stderr",
     "output_type": "stream",
     "text": [
      "\u001b[34m\u001b[1mwandb\u001b[0m:   1 of 1 files downloaded.  \n"
     ]
    },
    {
     "name": "stdout",
     "output_type": "stream",
     "text": [
      "2025-04-22 16:31:52,949 - INFO - Downloaded logs_prcvujpw:v0 to /scratch/downloaded_artifacts/logs_prcvujpw:v0\n"
     ]
    },
    {
     "name": "stderr",
     "output_type": "stream",
     "text": [
      "\u001b[34m\u001b[1mwandb\u001b[0m:   1 of 1 files downloaded.  \n"
     ]
    },
    {
     "name": "stdout",
     "output_type": "stream",
     "text": [
      "2025-04-22 16:31:53,013 - INFO - Downloaded logs_pesu42v8:v0 to /scratch/downloaded_artifacts/logs_pesu42v8:v0\n"
     ]
    },
    {
     "name": "stderr",
     "output_type": "stream",
     "text": [
      "\u001b[34m\u001b[1mwandb\u001b[0m:   1 of 1 files downloaded.  \n"
     ]
    },
    {
     "name": "stdout",
     "output_type": "stream",
     "text": [
      "2025-04-22 16:31:53,052 - INFO - Downloaded logs_qolj2sfs:v0 to /scratch/downloaded_artifacts/logs_qolj2sfs:v0\n"
     ]
    },
    {
     "name": "stderr",
     "output_type": "stream",
     "text": [
      "\u001b[34m\u001b[1mwandb\u001b[0m:   1 of 1 files downloaded.  \n"
     ]
    },
    {
     "name": "stdout",
     "output_type": "stream",
     "text": [
      "2025-04-22 16:31:53,686 - INFO - Downloaded logs_r91iabcx:v0 to /scratch/downloaded_artifacts/logs_r91iabcx:v0\n"
     ]
    },
    {
     "name": "stderr",
     "output_type": "stream",
     "text": [
      "\u001b[34m\u001b[1mwandb\u001b[0m:   1 of 1 files downloaded.  \n"
     ]
    },
    {
     "name": "stdout",
     "output_type": "stream",
     "text": [
      "2025-04-22 16:31:53,715 - INFO - Downloaded logs_tscuidzb:v0 to /scratch/downloaded_artifacts/logs_tscuidzb:v0\n"
     ]
    },
    {
     "name": "stderr",
     "output_type": "stream",
     "text": [
      "\u001b[34m\u001b[1mwandb\u001b[0m:   1 of 1 files downloaded.  \n"
     ]
    },
    {
     "name": "stdout",
     "output_type": "stream",
     "text": [
      "2025-04-22 16:31:53,721 - INFO - Downloaded logs_z5uoew9z:v0 to /scratch/downloaded_artifacts/logs_z5uoew9z:v0\n"
     ]
    },
    {
     "name": "stderr",
     "output_type": "stream",
     "text": [
      "\u001b[34m\u001b[1mwandb\u001b[0m:   1 of 1 files downloaded.  \n"
     ]
    },
    {
     "name": "stdout",
     "output_type": "stream",
     "text": [
      "2025-04-22 16:31:53,724 - INFO - Downloaded logs_u8tpt25w:v0 to /scratch/downloaded_artifacts/logs_u8tpt25w:v0\n"
     ]
    },
    {
     "name": "stderr",
     "output_type": "stream",
     "text": [
      "\u001b[34m\u001b[1mwandb\u001b[0m:   1 of 1 files downloaded.  \n"
     ]
    },
    {
     "name": "stdout",
     "output_type": "stream",
     "text": [
      "2025-04-22 16:31:53,745 - INFO - Downloaded logs_s21oghhs:v0 to /scratch/downloaded_artifacts/logs_s21oghhs:v0\n"
     ]
    },
    {
     "name": "stderr",
     "output_type": "stream",
     "text": [
      "\u001b[34m\u001b[1mwandb\u001b[0m:   1 of 1 files downloaded.  \n"
     ]
    },
    {
     "name": "stdout",
     "output_type": "stream",
     "text": [
      "2025-04-22 16:31:53,755 - INFO - Downloaded logs_rpxilli7:v0 to /scratch/downloaded_artifacts/logs_rpxilli7:v0\n"
     ]
    },
    {
     "name": "stderr",
     "output_type": "stream",
     "text": [
      "\u001b[34m\u001b[1mwandb\u001b[0m:   1 of 1 files downloaded.  \n"
     ]
    },
    {
     "name": "stdout",
     "output_type": "stream",
     "text": [
      "2025-04-22 16:31:53,771 - INFO - Downloaded logs_v4zhyss6:v0 to /scratch/downloaded_artifacts/logs_v4zhyss6:v0\n"
     ]
    },
    {
     "name": "stderr",
     "output_type": "stream",
     "text": [
      "\u001b[34m\u001b[1mwandb\u001b[0m:   1 of 1 files downloaded.  \n"
     ]
    },
    {
     "name": "stdout",
     "output_type": "stream",
     "text": [
      "2025-04-22 16:31:53,796 - INFO - Downloaded logs_xe85zk4z:v0 to /scratch/downloaded_artifacts/logs_xe85zk4z:v0\n"
     ]
    },
    {
     "name": "stderr",
     "output_type": "stream",
     "text": [
      "\u001b[34m\u001b[1mwandb\u001b[0m:   1 of 1 files downloaded.  \n"
     ]
    },
    {
     "name": "stdout",
     "output_type": "stream",
     "text": [
      "2025-04-22 16:31:54,076 - INFO - Downloaded logs_f4yu0aou:v0 to /scratch/downloaded_artifacts/logs_f4yu0aou:v0\n"
     ]
    },
    {
     "name": "stderr",
     "output_type": "stream",
     "text": [
      "\u001b[34m\u001b[1mwandb\u001b[0m:   1 of 1 files downloaded.  \n"
     ]
    },
    {
     "name": "stdout",
     "output_type": "stream",
     "text": [
      "2025-04-22 16:31:54,084 - INFO - Downloaded logs_fbuqbtcx:v0 to /scratch/downloaded_artifacts/logs_fbuqbtcx:v0\n"
     ]
    },
    {
     "name": "stderr",
     "output_type": "stream",
     "text": [
      "\u001b[34m\u001b[1mwandb\u001b[0m:   1 of 1 files downloaded.  \n"
     ]
    },
    {
     "name": "stdout",
     "output_type": "stream",
     "text": [
      "2025-04-22 16:31:54,158 - INFO - Downloaded logs_ziplmfwt:v0 to /scratch/downloaded_artifacts/logs_ziplmfwt:v0\n"
     ]
    },
    {
     "name": "stderr",
     "output_type": "stream",
     "text": [
      "\u001b[34m\u001b[1mwandb\u001b[0m:   1 of 1 files downloaded.  \n"
     ]
    },
    {
     "name": "stdout",
     "output_type": "stream",
     "text": [
      "2025-04-22 16:31:54,321 - INFO - Downloaded logs_8xjpndhy:v0 to /scratch/downloaded_artifacts/logs_8xjpndhy:v0\n"
     ]
    },
    {
     "name": "stderr",
     "output_type": "stream",
     "text": [
      "\u001b[34m\u001b[1mwandb\u001b[0m:   1 of 1 files downloaded.  \n"
     ]
    },
    {
     "name": "stdout",
     "output_type": "stream",
     "text": [
      "2025-04-22 16:31:54,854 - INFO - Downloaded logs_mykzolx4:v0 to /scratch/downloaded_artifacts/logs_mykzolx4:v0\n"
     ]
    },
    {
     "name": "stderr",
     "output_type": "stream",
     "text": [
      "\u001b[34m\u001b[1mwandb\u001b[0m:   1 of 1 files downloaded.  \n",
      "\u001b[34m\u001b[1mwandb\u001b[0m:   1 of 1 files downloaded.  \n",
      "\u001b[34m\u001b[1mwandb\u001b[0m:   1 of 1 files downloaded.  \n"
     ]
    },
    {
     "name": "stdout",
     "output_type": "stream",
     "text": [
      "2025-04-22 16:31:55,116 - INFO - Downloaded logs_k0nwvr1v:v0 to /scratch/downloaded_artifacts/logs_k0nwvr1v:v0\n"
     ]
    },
    {
     "name": "stderr",
     "output_type": "stream",
     "text": [
      "\u001b[34m\u001b[1mwandb\u001b[0m:   1 of 1 files downloaded.  \n",
      "\u001b[34m\u001b[1mwandb\u001b[0m:   1 of 1 files downloaded.  \n"
     ]
    },
    {
     "name": "stdout",
     "output_type": "stream",
     "text": [
      "2025-04-22 16:31:55,117 - INFO - Downloaded logs_qd4squd2:v0 to /scratch/downloaded_artifacts/logs_qd4squd2:v0\n",
      "2025-04-22 16:31:55,119 - INFO - Downloaded logs_p6tt7pwx:v0 to /scratch/downloaded_artifacts/logs_p6tt7pwx:v0\n",
      "2025-04-22 16:31:55,119 - INFO - Downloaded logs_943n2gy7:v0 to /scratch/downloaded_artifacts/logs_943n2gy7:v0\n",
      "2025-04-22 16:31:55,122 - INFO - Downloaded logs_s4zupiey:v0 to /scratch/downloaded_artifacts/logs_s4zupiey:v0\n"
     ]
    },
    {
     "name": "stderr",
     "output_type": "stream",
     "text": [
      "\u001b[34m\u001b[1mwandb\u001b[0m:   1 of 1 files downloaded.  \n",
      "\u001b[34m\u001b[1mwandb\u001b[0m:   1 of 1 files downloaded.  \n"
     ]
    },
    {
     "name": "stdout",
     "output_type": "stream",
     "text": [
      "2025-04-22 16:31:55,206 - INFO - Downloaded logs_b8n9jkk6:v0 to /scratch/downloaded_artifacts/logs_b8n9jkk6:v0\n",
      "2025-04-22 16:31:55,207 - INFO - Downloaded logs_t5ccajv6:v0 to /scratch/downloaded_artifacts/logs_t5ccajv6:v0\n"
     ]
    },
    {
     "name": "stderr",
     "output_type": "stream",
     "text": [
      "\u001b[34m\u001b[1mwandb\u001b[0m:   1 of 1 files downloaded.  \n"
     ]
    },
    {
     "name": "stdout",
     "output_type": "stream",
     "text": [
      "2025-04-22 16:31:55,473 - INFO - Downloaded logs_13d83imm:v0 to /scratch/downloaded_artifacts/logs_13d83imm:v0\n"
     ]
    },
    {
     "name": "stderr",
     "output_type": "stream",
     "text": [
      "\u001b[34m\u001b[1mwandb\u001b[0m:   1 of 1 files downloaded.  \n"
     ]
    },
    {
     "name": "stdout",
     "output_type": "stream",
     "text": [
      "2025-04-22 16:31:55,505 - INFO - Downloaded logs_b8w2nnnr:v0 to /scratch/downloaded_artifacts/logs_b8w2nnnr:v0\n"
     ]
    },
    {
     "name": "stderr",
     "output_type": "stream",
     "text": [
      "\u001b[34m\u001b[1mwandb\u001b[0m:   1 of 1 files downloaded.  \n"
     ]
    },
    {
     "name": "stdout",
     "output_type": "stream",
     "text": [
      "2025-04-22 16:31:55,550 - INFO - Downloaded logs_ypb4iumo:v0 to /scratch/downloaded_artifacts/logs_ypb4iumo:v0\n"
     ]
    },
    {
     "name": "stderr",
     "output_type": "stream",
     "text": [
      "\u001b[34m\u001b[1mwandb\u001b[0m:   1 of 1 files downloaded.  \n"
     ]
    },
    {
     "name": "stdout",
     "output_type": "stream",
     "text": [
      "2025-04-22 16:31:55,768 - INFO - Downloaded logs_y05sjvd5:v0 to /scratch/downloaded_artifacts/logs_y05sjvd5:v0\n"
     ]
    },
    {
     "name": "stderr",
     "output_type": "stream",
     "text": [
      "\u001b[34m\u001b[1mwandb\u001b[0m:   1 of 1 files downloaded.  \n"
     ]
    },
    {
     "name": "stdout",
     "output_type": "stream",
     "text": [
      "2025-04-22 16:31:55,904 - INFO - Downloaded logs_c8e199q6:v0 to /scratch/downloaded_artifacts/logs_c8e199q6:v0\n"
     ]
    },
    {
     "name": "stderr",
     "output_type": "stream",
     "text": [
      "\u001b[34m\u001b[1mwandb\u001b[0m:   1 of 1 files downloaded.  \n"
     ]
    },
    {
     "name": "stdout",
     "output_type": "stream",
     "text": [
      "2025-04-22 16:31:56,475 - INFO - Downloaded logs_1g1i4rpo:v0 to /scratch/downloaded_artifacts/logs_1g1i4rpo:v0\n"
     ]
    },
    {
     "name": "stderr",
     "output_type": "stream",
     "text": [
      "\u001b[34m\u001b[1mwandb\u001b[0m:   1 of 1 files downloaded.  \n",
      "\u001b[34m\u001b[1mwandb\u001b[0m:   1 of 1 files downloaded.  \n"
     ]
    },
    {
     "name": "stdout",
     "output_type": "stream",
     "text": [
      "2025-04-22 16:31:56,487 - INFO - Downloaded logs_4hwejov4:v0 to /scratch/downloaded_artifacts/logs_4hwejov4:v0\n",
      "2025-04-22 16:31:56,491 - INFO - Downloaded logs_7zfv4bgo:v0 to /scratch/downloaded_artifacts/logs_7zfv4bgo:v0\n"
     ]
    },
    {
     "name": "stderr",
     "output_type": "stream",
     "text": [
      "\u001b[34m\u001b[1mwandb\u001b[0m:   1 of 1 files downloaded.  \n"
     ]
    },
    {
     "name": "stdout",
     "output_type": "stream",
     "text": [
      "2025-04-22 16:31:56,513 - INFO - Downloaded logs_e4e2nemj:v0 to /scratch/downloaded_artifacts/logs_e4e2nemj:v0\n"
     ]
    },
    {
     "name": "stderr",
     "output_type": "stream",
     "text": [
      "\u001b[34m\u001b[1mwandb\u001b[0m:   1 of 1 files downloaded.  \n"
     ]
    },
    {
     "name": "stdout",
     "output_type": "stream",
     "text": [
      "2025-04-22 16:31:56,523 - INFO - Downloaded logs_4521f3gl:v0 to /scratch/downloaded_artifacts/logs_4521f3gl:v0\n"
     ]
    },
    {
     "name": "stderr",
     "output_type": "stream",
     "text": [
      "\u001b[34m\u001b[1mwandb\u001b[0m:   1 of 1 files downloaded.  \n"
     ]
    },
    {
     "name": "stdout",
     "output_type": "stream",
     "text": [
      "2025-04-22 16:31:56,530 - INFO - Downloaded logs_5ob60xow:v0 to /scratch/downloaded_artifacts/logs_5ob60xow:v0\n"
     ]
    },
    {
     "name": "stderr",
     "output_type": "stream",
     "text": [
      "\u001b[34m\u001b[1mwandb\u001b[0m:   1 of 1 files downloaded.  \n",
      "\u001b[34m\u001b[1mwandb\u001b[0m:   1 of 1 files downloaded.  \n"
     ]
    },
    {
     "name": "stdout",
     "output_type": "stream",
     "text": [
      "2025-04-22 16:31:56,537 - INFO - Downloaded logs_53bvfd29:v0 to /scratch/downloaded_artifacts/logs_53bvfd29:v0\n",
      "2025-04-22 16:31:56,537 - INFO - Downloaded logs_d8cg892s:v0 to /scratch/downloaded_artifacts/logs_d8cg892s:v0\n"
     ]
    },
    {
     "name": "stderr",
     "output_type": "stream",
     "text": [
      "\u001b[34m\u001b[1mwandb\u001b[0m:   1 of 1 files downloaded.  \n"
     ]
    },
    {
     "name": "stdout",
     "output_type": "stream",
     "text": [
      "2025-04-22 16:31:56,555 - INFO - Downloaded logs_h9ob66ha:v0 to /scratch/downloaded_artifacts/logs_h9ob66ha:v0\n"
     ]
    },
    {
     "name": "stderr",
     "output_type": "stream",
     "text": [
      "\u001b[34m\u001b[1mwandb\u001b[0m:   1 of 1 files downloaded.  \n"
     ]
    },
    {
     "name": "stdout",
     "output_type": "stream",
     "text": [
      "2025-04-22 16:31:56,579 - INFO - Downloaded logs_h7gbd4dn:v0 to /scratch/downloaded_artifacts/logs_h7gbd4dn:v0\n"
     ]
    },
    {
     "name": "stderr",
     "output_type": "stream",
     "text": [
      "\u001b[34m\u001b[1mwandb\u001b[0m:   1 of 1 files downloaded.  \n"
     ]
    },
    {
     "name": "stdout",
     "output_type": "stream",
     "text": [
      "2025-04-22 16:31:56,598 - INFO - Downloaded logs_g5nmnjw2:v0 to /scratch/downloaded_artifacts/logs_g5nmnjw2:v0\n"
     ]
    },
    {
     "name": "stderr",
     "output_type": "stream",
     "text": [
      "\u001b[34m\u001b[1mwandb\u001b[0m:   1 of 1 files downloaded.  \n"
     ]
    },
    {
     "name": "stdout",
     "output_type": "stream",
     "text": [
      "2025-04-22 16:31:56,764 - INFO - Downloaded logs_hkhmucrn:v0 to /scratch/downloaded_artifacts/logs_hkhmucrn:v0\n"
     ]
    },
    {
     "name": "stderr",
     "output_type": "stream",
     "text": [
      "\u001b[34m\u001b[1mwandb\u001b[0m:   1 of 1 files downloaded.  \n"
     ]
    },
    {
     "name": "stdout",
     "output_type": "stream",
     "text": [
      "2025-04-22 16:31:56,965 - INFO - Downloaded logs_hwccbjul:v0 to /scratch/downloaded_artifacts/logs_hwccbjul:v0\n"
     ]
    },
    {
     "name": "stderr",
     "output_type": "stream",
     "text": [
      "\u001b[34m\u001b[1mwandb\u001b[0m:   1 of 1 files downloaded.  \n"
     ]
    },
    {
     "name": "stdout",
     "output_type": "stream",
     "text": [
      "2025-04-22 16:31:57,710 - INFO - Downloaded logs_jtw3kooh:v0 to /scratch/downloaded_artifacts/logs_jtw3kooh:v0\n"
     ]
    },
    {
     "name": "stderr",
     "output_type": "stream",
     "text": [
      "\u001b[34m\u001b[1mwandb\u001b[0m:   1 of 1 files downloaded.  \n"
     ]
    },
    {
     "name": "stdout",
     "output_type": "stream",
     "text": [
      "2025-04-22 16:31:57,717 - INFO - Downloaded logs_nazzcrz2:v0 to /scratch/downloaded_artifacts/logs_nazzcrz2:v0\n"
     ]
    },
    {
     "name": "stderr",
     "output_type": "stream",
     "text": [
      "\u001b[34m\u001b[1mwandb\u001b[0m:   1 of 1 files downloaded.  \n"
     ]
    },
    {
     "name": "stdout",
     "output_type": "stream",
     "text": [
      "2025-04-22 16:31:57,731 - INFO - Downloaded logs_k0adqsef:v0 to /scratch/downloaded_artifacts/logs_k0adqsef:v0\n"
     ]
    },
    {
     "name": "stderr",
     "output_type": "stream",
     "text": [
      "\u001b[34m\u001b[1mwandb\u001b[0m:   1 of 1 files downloaded.  \n"
     ]
    },
    {
     "name": "stdout",
     "output_type": "stream",
     "text": [
      "2025-04-22 16:31:57,738 - INFO - Downloaded logs_lu34llk4:v0 to /scratch/downloaded_artifacts/logs_lu34llk4:v0\n"
     ]
    },
    {
     "name": "stderr",
     "output_type": "stream",
     "text": [
      "\u001b[34m\u001b[1mwandb\u001b[0m:   1 of 1 files downloaded.  \n"
     ]
    },
    {
     "name": "stdout",
     "output_type": "stream",
     "text": [
      "2025-04-22 16:31:57,746 - INFO - Downloaded logs_nrrsykrj:v0 to /scratch/downloaded_artifacts/logs_nrrsykrj:v0\n"
     ]
    },
    {
     "name": "stderr",
     "output_type": "stream",
     "text": [
      "\u001b[34m\u001b[1mwandb\u001b[0m:   1 of 1 files downloaded.  \n",
      "\u001b[34m\u001b[1mwandb\u001b[0m:   1 of 1 files downloaded.  \n"
     ]
    },
    {
     "name": "stdout",
     "output_type": "stream",
     "text": [
      "2025-04-22 16:31:57,748 - INFO - Downloaded logs_jjhhl9wb:v0 to /scratch/downloaded_artifacts/logs_jjhhl9wb:v0\n",
      "2025-04-22 16:31:57,749 - INFO - Downloaded logs_mjdcupzb:v0 to /scratch/downloaded_artifacts/logs_mjdcupzb:v0\n"
     ]
    },
    {
     "name": "stderr",
     "output_type": "stream",
     "text": [
      "\u001b[34m\u001b[1mwandb\u001b[0m:   1 of 1 files downloaded.  \n"
     ]
    },
    {
     "name": "stdout",
     "output_type": "stream",
     "text": [
      "2025-04-22 16:31:57,761 - INFO - Downloaded logs_n2b4ryzq:v0 to /scratch/downloaded_artifacts/logs_n2b4ryzq:v0\n"
     ]
    },
    {
     "name": "stderr",
     "output_type": "stream",
     "text": [
      "\u001b[34m\u001b[1mwandb\u001b[0m:   1 of 1 files downloaded.  \n"
     ]
    },
    {
     "name": "stdout",
     "output_type": "stream",
     "text": [
      "2025-04-22 16:31:57,770 - INFO - Downloaded logs_ivaxhe2c:v0 to /scratch/downloaded_artifacts/logs_ivaxhe2c:v0\n"
     ]
    },
    {
     "name": "stderr",
     "output_type": "stream",
     "text": [
      "\u001b[34m\u001b[1mwandb\u001b[0m: \u001b[33mWARNING\u001b[0m A graphql request initiated by the public wandb API timed out (timeout=19 sec). Create a new API with an integer timeout larger than 19, e.g., `api = wandb.Api(timeout=29)` to increase the graphql timeout.\n",
      "\u001b[34m\u001b[1mwandb\u001b[0m:   1 of 1 files downloaded.  \n"
     ]
    },
    {
     "name": "stdout",
     "output_type": "stream",
     "text": [
      "2025-04-22 16:31:57,834 - INFO - Downloaded logs_mpj6m48g:v0 to /scratch/downloaded_artifacts/logs_mpj6m48g:v0\n"
     ]
    },
    {
     "name": "stderr",
     "output_type": "stream",
     "text": [
      "\u001b[34m\u001b[1mwandb\u001b[0m:   1 of 1 files downloaded.  \n"
     ]
    },
    {
     "name": "stdout",
     "output_type": "stream",
     "text": [
      "2025-04-22 16:31:57,846 - INFO - Downloaded logs_o01wi4ks:v0 to /scratch/downloaded_artifacts/logs_o01wi4ks:v0\n"
     ]
    },
    {
     "name": "stderr",
     "output_type": "stream",
     "text": [
      "\u001b[34m\u001b[1mwandb\u001b[0m:   1 of 1 files downloaded.  \n"
     ]
    },
    {
     "name": "stdout",
     "output_type": "stream",
     "text": [
      "2025-04-22 16:31:57,934 - INFO - Downloaded logs_ooulq8a7:v0 to /scratch/downloaded_artifacts/logs_ooulq8a7:v0\n"
     ]
    },
    {
     "name": "stderr",
     "output_type": "stream",
     "text": [
      "\u001b[34m\u001b[1mwandb\u001b[0m:   1 of 1 files downloaded.  \n"
     ]
    },
    {
     "name": "stdout",
     "output_type": "stream",
     "text": [
      "2025-04-22 16:31:58,094 - INFO - Downloaded logs_q975om2q:v0 to /scratch/downloaded_artifacts/logs_q975om2q:v0\n"
     ]
    },
    {
     "name": "stderr",
     "output_type": "stream",
     "text": [
      "\u001b[34m\u001b[1mwandb\u001b[0m:   1 of 1 files downloaded.  \n"
     ]
    },
    {
     "name": "stdout",
     "output_type": "stream",
     "text": [
      "2025-04-22 16:31:58,768 - INFO - Downloaded logs_ouyt86sr:v0 to /scratch/downloaded_artifacts/logs_ouyt86sr:v0\n"
     ]
    },
    {
     "name": "stderr",
     "output_type": "stream",
     "text": [
      "\u001b[34m\u001b[1mwandb\u001b[0m:   1 of 1 files downloaded.  \n"
     ]
    },
    {
     "name": "stdout",
     "output_type": "stream",
     "text": [
      "2025-04-22 16:31:58,781 - INFO - Downloaded logs_r2bjgta0:v0 to /scratch/downloaded_artifacts/logs_r2bjgta0:v0\n"
     ]
    },
    {
     "name": "stderr",
     "output_type": "stream",
     "text": [
      "\u001b[34m\u001b[1mwandb\u001b[0m:   1 of 1 files downloaded.  \n"
     ]
    },
    {
     "name": "stdout",
     "output_type": "stream",
     "text": [
      "2025-04-22 16:31:58,784 - INFO - Downloaded logs_6oinyroj:v0 to /scratch/downloaded_artifacts/logs_6oinyroj:v0\n"
     ]
    },
    {
     "name": "stderr",
     "output_type": "stream",
     "text": [
      "\u001b[34m\u001b[1mwandb\u001b[0m:   1 of 1 files downloaded.  \n",
      "\u001b[34m\u001b[1mwandb\u001b[0m:   1 of 1 files downloaded.  \n"
     ]
    },
    {
     "name": "stdout",
     "output_type": "stream",
     "text": [
      "2025-04-22 16:31:58,791 - INFO - Downloaded logs_fe8r2hvb:v0 to /scratch/downloaded_artifacts/logs_fe8r2hvb:v0\n",
      "2025-04-22 16:31:58,792 - INFO - Downloaded logs_zwxo7s1b:v0 to /scratch/downloaded_artifacts/logs_zwxo7s1b:v0\n"
     ]
    },
    {
     "name": "stderr",
     "output_type": "stream",
     "text": [
      "\u001b[34m\u001b[1mwandb\u001b[0m:   1 of 1 files downloaded.  \n"
     ]
    },
    {
     "name": "stdout",
     "output_type": "stream",
     "text": [
      "2025-04-22 16:31:58,906 - INFO - Downloaded logs_tndbs81q:v0 to /scratch/downloaded_artifacts/logs_tndbs81q:v0\n"
     ]
    },
    {
     "name": "stderr",
     "output_type": "stream",
     "text": [
      "\u001b[34m\u001b[1mwandb\u001b[0m:   1 of 1 files downloaded.  \n",
      "\u001b[34m\u001b[1mwandb\u001b[0m:   1 of 1 files downloaded.  \n"
     ]
    },
    {
     "name": "stdout",
     "output_type": "stream",
     "text": [
      "2025-04-22 16:31:58,961 - INFO - Downloaded logs_zmyfuz7h:v0 to /scratch/downloaded_artifacts/logs_zmyfuz7h:v0\n"
     ]
    },
    {
     "name": "stderr",
     "output_type": "stream",
     "text": [
      "\u001b[34m\u001b[1mwandb\u001b[0m:   1 of 1 files downloaded.  \n",
      "\u001b[34m\u001b[1mwandb\u001b[0m:   1 of 1 files downloaded.  \n"
     ]
    },
    {
     "name": "stdout",
     "output_type": "stream",
     "text": [
      "2025-04-22 16:31:58,970 - INFO - Downloaded logs_u8wexegy:v0 to /scratch/downloaded_artifacts/logs_u8wexegy:v0\n",
      "2025-04-22 16:31:58,971 - INFO - Downloaded logs_uyh9lvhf:v0 to /scratch/downloaded_artifacts/logs_uyh9lvhf:v0\n",
      "2025-04-22 16:31:58,973 - INFO - Downloaded logs_vy99g8kg:v0 to /scratch/downloaded_artifacts/logs_vy99g8kg:v0\n"
     ]
    },
    {
     "name": "stderr",
     "output_type": "stream",
     "text": [
      "\u001b[34m\u001b[1mwandb\u001b[0m:   1 of 1 files downloaded.  \n"
     ]
    },
    {
     "name": "stdout",
     "output_type": "stream",
     "text": [
      "2025-04-22 16:31:59,112 - INFO - Downloaded logs_1wy9jvd2:v0 to /scratch/downloaded_artifacts/logs_1wy9jvd2:v0\n"
     ]
    },
    {
     "name": "stderr",
     "output_type": "stream",
     "text": [
      "\u001b[34m\u001b[1mwandb\u001b[0m:   1 of 1 files downloaded.  \n"
     ]
    },
    {
     "name": "stdout",
     "output_type": "stream",
     "text": [
      "2025-04-22 16:31:59,116 - INFO - Downloaded logs_u6wjjhpt:v0 to /scratch/downloaded_artifacts/logs_u6wjjhpt:v0\n"
     ]
    },
    {
     "name": "stderr",
     "output_type": "stream",
     "text": [
      "\u001b[34m\u001b[1mwandb\u001b[0m:   1 of 1 files downloaded.  \n"
     ]
    },
    {
     "name": "stdout",
     "output_type": "stream",
     "text": [
      "2025-04-22 16:31:59,212 - INFO - Downloaded logs_7cxo3i5x:v0 to /scratch/downloaded_artifacts/logs_7cxo3i5x:v0\n"
     ]
    },
    {
     "name": "stderr",
     "output_type": "stream",
     "text": [
      "\u001b[34m\u001b[1mwandb\u001b[0m: \u001b[33mWARNING\u001b[0m A graphql request initiated by the public wandb API timed out (timeout=19 sec). Create a new API with an integer timeout larger than 19, e.g., `api = wandb.Api(timeout=29)` to increase the graphql timeout.\n",
      "\u001b[34m\u001b[1mwandb\u001b[0m:   1 of 1 files downloaded.  \n"
     ]
    },
    {
     "name": "stdout",
     "output_type": "stream",
     "text": [
      "2025-04-22 16:32:00,010 - INFO - Downloaded logs_yyykbz17:v0 to /scratch/downloaded_artifacts/logs_yyykbz17:v0\n"
     ]
    },
    {
     "name": "stderr",
     "output_type": "stream",
     "text": [
      "\u001b[34m\u001b[1mwandb\u001b[0m:   1 of 1 files downloaded.  \n"
     ]
    },
    {
     "name": "stdout",
     "output_type": "stream",
     "text": [
      "2025-04-22 16:32:00,017 - INFO - Downloaded logs_7ofh2gwb:v0 to /scratch/downloaded_artifacts/logs_7ofh2gwb:v0\n"
     ]
    },
    {
     "name": "stderr",
     "output_type": "stream",
     "text": [
      "\u001b[34m\u001b[1mwandb\u001b[0m:   1 of 1 files downloaded.  \n"
     ]
    },
    {
     "name": "stdout",
     "output_type": "stream",
     "text": [
      "2025-04-22 16:32:00,021 - INFO - Downloaded logs_lsl0c4py:v0 to /scratch/downloaded_artifacts/logs_lsl0c4py:v0\n"
     ]
    },
    {
     "name": "stderr",
     "output_type": "stream",
     "text": [
      "\u001b[34m\u001b[1mwandb\u001b[0m:   1 of 1 files downloaded.  \n",
      "\u001b[34m\u001b[1mwandb\u001b[0m:   1 of 1 files downloaded.  \n"
     ]
    },
    {
     "name": "stdout",
     "output_type": "stream",
     "text": [
      "2025-04-22 16:32:00,055 - INFO - Downloaded logs_e6rd3bgf:v0 to /scratch/downloaded_artifacts/logs_e6rd3bgf:v0\n",
      "2025-04-22 16:32:00,068 - INFO - Downloaded logs_cv11fk7w:v0 to /scratch/downloaded_artifacts/logs_cv11fk7w:v0\n"
     ]
    },
    {
     "name": "stderr",
     "output_type": "stream",
     "text": [
      "\u001b[34m\u001b[1mwandb\u001b[0m:   1 of 1 files downloaded.  \n",
      "\u001b[34m\u001b[1mwandb\u001b[0m:   1 of 1 files downloaded.  \n"
     ]
    },
    {
     "name": "stdout",
     "output_type": "stream",
     "text": [
      "2025-04-22 16:32:00,079 - INFO - Downloaded logs_fo6g5mjm:v0 to /scratch/downloaded_artifacts/logs_fo6g5mjm:v0\n"
     ]
    },
    {
     "name": "stderr",
     "output_type": "stream",
     "text": [
      "\u001b[34m\u001b[1mwandb\u001b[0m:   1 of 1 files downloaded.  \n"
     ]
    },
    {
     "name": "stdout",
     "output_type": "stream",
     "text": [
      "2025-04-22 16:32:00,082 - INFO - Downloaded logs_ayon5xzh:v0 to /scratch/downloaded_artifacts/logs_ayon5xzh:v0\n",
      "2025-04-22 16:32:00,084 - INFO - Downloaded logs_7upcr7mw:v0 to /scratch/downloaded_artifacts/logs_7upcr7mw:v0\n"
     ]
    },
    {
     "name": "stderr",
     "output_type": "stream",
     "text": [
      "\u001b[34m\u001b[1mwandb\u001b[0m:   1 of 1 files downloaded.  \n"
     ]
    },
    {
     "name": "stdout",
     "output_type": "stream",
     "text": [
      "2025-04-22 16:32:00,092 - INFO - Downloaded logs_lvaf4m9h:v0 to /scratch/downloaded_artifacts/logs_lvaf4m9h:v0\n"
     ]
    },
    {
     "name": "stderr",
     "output_type": "stream",
     "text": [
      "\u001b[34m\u001b[1mwandb\u001b[0m:   1 of 1 files downloaded.  \n"
     ]
    },
    {
     "name": "stdout",
     "output_type": "stream",
     "text": [
      "2025-04-22 16:32:00,330 - INFO - Downloaded logs_g08oc31d:v0 to /scratch/downloaded_artifacts/logs_g08oc31d:v0\n"
     ]
    },
    {
     "name": "stderr",
     "output_type": "stream",
     "text": [
      "\u001b[34m\u001b[1mwandb\u001b[0m:   1 of 1 files downloaded.  \n"
     ]
    },
    {
     "name": "stdout",
     "output_type": "stream",
     "text": [
      "2025-04-22 16:32:00,454 - INFO - Downloaded logs_ol7vgn9o:v0 to /scratch/downloaded_artifacts/logs_ol7vgn9o:v0\n"
     ]
    },
    {
     "name": "stderr",
     "output_type": "stream",
     "text": [
      "\u001b[34m\u001b[1mwandb\u001b[0m:   1 of 1 files downloaded.  \n"
     ]
    },
    {
     "name": "stdout",
     "output_type": "stream",
     "text": [
      "2025-04-22 16:32:00,470 - INFO - Downloaded logs_kpk5bhjn:v0 to /scratch/downloaded_artifacts/logs_kpk5bhjn:v0\n"
     ]
    },
    {
     "name": "stderr",
     "output_type": "stream",
     "text": [
      "\u001b[34m\u001b[1mwandb\u001b[0m:   1 of 1 files downloaded.  \n"
     ]
    },
    {
     "name": "stdout",
     "output_type": "stream",
     "text": [
      "2025-04-22 16:32:00,489 - INFO - Downloaded logs_pzqkhstn:v0 to /scratch/downloaded_artifacts/logs_pzqkhstn:v0\n"
     ]
    },
    {
     "name": "stderr",
     "output_type": "stream",
     "text": [
      "\u001b[34m\u001b[1mwandb\u001b[0m:   1 of 1 files downloaded.  \n"
     ]
    },
    {
     "name": "stdout",
     "output_type": "stream",
     "text": [
      "2025-04-22 16:32:00,556 - INFO - Downloaded logs_r7ma6lk0:v0 to /scratch/downloaded_artifacts/logs_r7ma6lk0:v0\n"
     ]
    },
    {
     "name": "stderr",
     "output_type": "stream",
     "text": [
      "\u001b[34m\u001b[1mwandb\u001b[0m: \u001b[33mWARNING\u001b[0m A graphql request initiated by the public wandb API timed out (timeout=19 sec). Create a new API with an integer timeout larger than 19, e.g., `api = wandb.Api(timeout=29)` to increase the graphql timeout.\n",
      "\u001b[34m\u001b[1mwandb\u001b[0m:   1 of 1 files downloaded.  \n"
     ]
    },
    {
     "name": "stdout",
     "output_type": "stream",
     "text": [
      "2025-04-22 16:32:01,468 - INFO - Downloaded logs_vad61rhe:v0 to /scratch/downloaded_artifacts/logs_vad61rhe:v0\n"
     ]
    },
    {
     "name": "stderr",
     "output_type": "stream",
     "text": [
      "\u001b[34m\u001b[1mwandb\u001b[0m:   1 of 1 files downloaded.  \n"
     ]
    },
    {
     "name": "stdout",
     "output_type": "stream",
     "text": [
      "2025-04-22 16:32:01,479 - INFO - Downloaded logs_rrsi73n5:v0 to /scratch/downloaded_artifacts/logs_rrsi73n5:v0\n"
     ]
    },
    {
     "name": "stderr",
     "output_type": "stream",
     "text": [
      "\u001b[34m\u001b[1mwandb\u001b[0m:   1 of 1 files downloaded.  \n"
     ]
    },
    {
     "name": "stdout",
     "output_type": "stream",
     "text": [
      "2025-04-22 16:32:01,567 - INFO - Downloaded logs_2xt3t915:v0 to /scratch/downloaded_artifacts/logs_2xt3t915:v0\n"
     ]
    },
    {
     "name": "stderr",
     "output_type": "stream",
     "text": [
      "\u001b[34m\u001b[1mwandb\u001b[0m: \u001b[33mWARNING\u001b[0m A graphql request initiated by the public wandb API timed out (timeout=19 sec). Create a new API with an integer timeout larger than 19, e.g., `api = wandb.Api(timeout=29)` to increase the graphql timeout.\n",
      "\u001b[34m\u001b[1mwandb\u001b[0m:   1 of 1 files downloaded.  \n",
      "\u001b[34m\u001b[1mwandb\u001b[0m:   1 of 1 files downloaded.  \n"
     ]
    },
    {
     "name": "stdout",
     "output_type": "stream",
     "text": [
      "2025-04-22 16:32:01,590 - INFO - Downloaded logs_2h9fwvzm:v0 to /scratch/downloaded_artifacts/logs_2h9fwvzm:v0\n",
      "2025-04-22 16:32:01,654 - INFO - Downloaded logs_9gw6c9eq:v0 to /scratch/downloaded_artifacts/logs_9gw6c9eq:v0\n"
     ]
    },
    {
     "name": "stderr",
     "output_type": "stream",
     "text": [
      "\u001b[34m\u001b[1mwandb\u001b[0m:   1 of 1 files downloaded.  \n"
     ]
    },
    {
     "name": "stdout",
     "output_type": "stream",
     "text": [
      "2025-04-22 16:32:01,680 - INFO - Downloaded logs_4d6ey67m:v0 to /scratch/downloaded_artifacts/logs_4d6ey67m:v0\n"
     ]
    },
    {
     "name": "stderr",
     "output_type": "stream",
     "text": [
      "\u001b[34m\u001b[1mwandb\u001b[0m:   1 of 1 files downloaded.  \n"
     ]
    },
    {
     "name": "stdout",
     "output_type": "stream",
     "text": [
      "2025-04-22 16:32:01,686 - INFO - Downloaded logs_723gk6bp:v0 to /scratch/downloaded_artifacts/logs_723gk6bp:v0\n"
     ]
    },
    {
     "name": "stderr",
     "output_type": "stream",
     "text": [
      "\u001b[34m\u001b[1mwandb\u001b[0m:   1 of 1 files downloaded.  \n"
     ]
    },
    {
     "name": "stdout",
     "output_type": "stream",
     "text": [
      "2025-04-22 16:32:01,691 - INFO - Downloaded logs_3hl107pf:v0 to /scratch/downloaded_artifacts/logs_3hl107pf:v0\n"
     ]
    },
    {
     "name": "stderr",
     "output_type": "stream",
     "text": [
      "\u001b[34m\u001b[1mwandb\u001b[0m:   1 of 1 files downloaded.  \n"
     ]
    },
    {
     "name": "stdout",
     "output_type": "stream",
     "text": [
      "2025-04-22 16:32:01,711 - INFO - Downloaded logs_u9iuhu4j:v0 to /scratch/downloaded_artifacts/logs_u9iuhu4j:v0\n"
     ]
    },
    {
     "name": "stderr",
     "output_type": "stream",
     "text": [
      "\u001b[34m\u001b[1mwandb\u001b[0m:   1 of 1 files downloaded.  \n"
     ]
    },
    {
     "name": "stdout",
     "output_type": "stream",
     "text": [
      "2025-04-22 16:32:01,788 - INFO - Downloaded logs_degww0ob:v0 to /scratch/downloaded_artifacts/logs_degww0ob:v0\n"
     ]
    },
    {
     "name": "stderr",
     "output_type": "stream",
     "text": [
      "\u001b[34m\u001b[1mwandb\u001b[0m:   1 of 1 files downloaded.  \n"
     ]
    },
    {
     "name": "stdout",
     "output_type": "stream",
     "text": [
      "2025-04-22 16:32:01,813 - INFO - Downloaded logs_h0om49t0:v0 to /scratch/downloaded_artifacts/logs_h0om49t0:v0\n"
     ]
    },
    {
     "name": "stderr",
     "output_type": "stream",
     "text": [
      "\u001b[34m\u001b[1mwandb\u001b[0m:   1 of 1 files downloaded.  \n"
     ]
    },
    {
     "name": "stdout",
     "output_type": "stream",
     "text": [
      "2025-04-22 16:32:01,830 - INFO - Downloaded logs_al6pus7p:v0 to /scratch/downloaded_artifacts/logs_al6pus7p:v0\n"
     ]
    },
    {
     "name": "stderr",
     "output_type": "stream",
     "text": [
      "\u001b[34m\u001b[1mwandb\u001b[0m:   1 of 1 files downloaded.  \n"
     ]
    },
    {
     "name": "stdout",
     "output_type": "stream",
     "text": [
      "2025-04-22 16:32:01,893 - INFO - Downloaded logs_mqokrd79:v0 to /scratch/downloaded_artifacts/logs_mqokrd79:v0\n"
     ]
    },
    {
     "name": "stderr",
     "output_type": "stream",
     "text": [
      "\u001b[34m\u001b[1mwandb\u001b[0m:   1 of 1 files downloaded.  \n"
     ]
    },
    {
     "name": "stdout",
     "output_type": "stream",
     "text": [
      "2025-04-22 16:32:02,236 - INFO - Downloaded logs_8rc7ucee:v0 to /scratch/downloaded_artifacts/logs_8rc7ucee:v0\n"
     ]
    },
    {
     "name": "stderr",
     "output_type": "stream",
     "text": [
      "\u001b[34m\u001b[1mwandb\u001b[0m:   1 of 1 files downloaded.  \n"
     ]
    },
    {
     "name": "stdout",
     "output_type": "stream",
     "text": [
      "2025-04-22 16:32:02,268 - INFO - Downloaded logs_8kirg0lc:v0 to /scratch/downloaded_artifacts/logs_8kirg0lc:v0\n"
     ]
    },
    {
     "name": "stderr",
     "output_type": "stream",
     "text": [
      "\u001b[34m\u001b[1mwandb\u001b[0m:   1 of 1 files downloaded.  \n"
     ]
    },
    {
     "name": "stdout",
     "output_type": "stream",
     "text": [
      "2025-04-22 16:32:03,030 - INFO - Downloaded logs_tiycxjtd:v0 to /scratch/downloaded_artifacts/logs_tiycxjtd:v0\n"
     ]
    },
    {
     "name": "stderr",
     "output_type": "stream",
     "text": [
      "\u001b[34m\u001b[1mwandb\u001b[0m:   1 of 1 files downloaded.  \n"
     ]
    },
    {
     "name": "stdout",
     "output_type": "stream",
     "text": [
      "2025-04-22 16:32:03,043 - INFO - Downloaded logs_u5ecllmz:v0 to /scratch/downloaded_artifacts/logs_u5ecllmz:v0\n"
     ]
    },
    {
     "name": "stderr",
     "output_type": "stream",
     "text": [
      "\u001b[34m\u001b[1mwandb\u001b[0m:   1 of 1 files downloaded.  \n"
     ]
    },
    {
     "name": "stdout",
     "output_type": "stream",
     "text": [
      "2025-04-22 16:32:03,053 - INFO - Downloaded logs_dgcxfwpo:v0 to /scratch/downloaded_artifacts/logs_dgcxfwpo:v0\n"
     ]
    },
    {
     "name": "stderr",
     "output_type": "stream",
     "text": [
      "\u001b[34m\u001b[1mwandb\u001b[0m:   1 of 1 files downloaded.  \n"
     ]
    },
    {
     "name": "stdout",
     "output_type": "stream",
     "text": [
      "2025-04-22 16:32:03,066 - INFO - Downloaded logs_veackpns:v0 to /scratch/downloaded_artifacts/logs_veackpns:v0\n"
     ]
    },
    {
     "name": "stderr",
     "output_type": "stream",
     "text": [
      "\u001b[34m\u001b[1mwandb\u001b[0m:   1 of 1 files downloaded.  \n"
     ]
    },
    {
     "name": "stdout",
     "output_type": "stream",
     "text": [
      "2025-04-22 16:32:03,120 - INFO - Downloaded logs_c1o7unfp:v0 to /scratch/downloaded_artifacts/logs_c1o7unfp:v0\n"
     ]
    },
    {
     "name": "stderr",
     "output_type": "stream",
     "text": [
      "\u001b[34m\u001b[1mwandb\u001b[0m:   1 of 1 files downloaded.  \n"
     ]
    },
    {
     "name": "stdout",
     "output_type": "stream",
     "text": [
      "2025-04-22 16:32:03,143 - INFO - Downloaded logs_tl0bibo9:v0 to /scratch/downloaded_artifacts/logs_tl0bibo9:v0\n"
     ]
    },
    {
     "name": "stderr",
     "output_type": "stream",
     "text": [
      "\u001b[34m\u001b[1mwandb\u001b[0m:   1 of 1 files downloaded.  \n",
      "\u001b[34m\u001b[1mwandb\u001b[0m:   1 of 1 files downloaded.  \n"
     ]
    },
    {
     "name": "stdout",
     "output_type": "stream",
     "text": [
      "2025-04-22 16:32:03,194 - INFO - Downloaded logs_ewpjsopz:v0 to /scratch/downloaded_artifacts/logs_ewpjsopz:v0\n"
     ]
    },
    {
     "name": "stderr",
     "output_type": "stream",
     "text": [
      "\u001b[34m\u001b[1mwandb\u001b[0m:   1 of 1 files downloaded.  \n"
     ]
    },
    {
     "name": "stdout",
     "output_type": "stream",
     "text": [
      "2025-04-22 16:32:03,204 - INFO - Downloaded logs_zui8vwgy:v0 to /scratch/downloaded_artifacts/logs_zui8vwgy:v0\n"
     ]
    },
    {
     "name": "stderr",
     "output_type": "stream",
     "text": [
      "\u001b[34m\u001b[1mwandb\u001b[0m:   1 of 1 files downloaded.  \n"
     ]
    },
    {
     "name": "stdout",
     "output_type": "stream",
     "text": [
      "2025-04-22 16:32:03,208 - INFO - Downloaded logs_t8q4i6wx:v0 to /scratch/downloaded_artifacts/logs_t8q4i6wx:v0\n",
      "2025-04-22 16:32:03,212 - INFO - Downloaded logs_ymh44bwq:v0 to /scratch/downloaded_artifacts/logs_ymh44bwq:v0\n"
     ]
    },
    {
     "name": "stderr",
     "output_type": "stream",
     "text": [
      "\u001b[34m\u001b[1mwandb\u001b[0m:   1 of 1 files downloaded.  \n"
     ]
    },
    {
     "name": "stdout",
     "output_type": "stream",
     "text": [
      "2025-04-22 16:32:03,239 - INFO - Downloaded logs_zfy2cg4t:v0 to /scratch/downloaded_artifacts/logs_zfy2cg4t:v0\n"
     ]
    },
    {
     "name": "stderr",
     "output_type": "stream",
     "text": [
      "\u001b[34m\u001b[1mwandb\u001b[0m:   1 of 1 files downloaded.  \n"
     ]
    },
    {
     "name": "stdout",
     "output_type": "stream",
     "text": [
      "2025-04-22 16:32:03,240 - INFO - Downloaded logs_icyrvu57:v0 to /scratch/downloaded_artifacts/logs_icyrvu57:v0\n"
     ]
    },
    {
     "name": "stderr",
     "output_type": "stream",
     "text": [
      "\u001b[34m\u001b[1mwandb\u001b[0m:   1 of 1 files downloaded.  \n"
     ]
    },
    {
     "name": "stdout",
     "output_type": "stream",
     "text": [
      "2025-04-22 16:32:03,285 - INFO - Downloaded logs_fb0pp1hs:v0 to /scratch/downloaded_artifacts/logs_fb0pp1hs:v0\n"
     ]
    },
    {
     "name": "stderr",
     "output_type": "stream",
     "text": [
      "\u001b[34m\u001b[1mwandb\u001b[0m:   1 of 1 files downloaded.  \n"
     ]
    },
    {
     "name": "stdout",
     "output_type": "stream",
     "text": [
      "2025-04-22 16:32:03,300 - INFO - Downloaded logs_j4z6gp62:v0 to /scratch/downloaded_artifacts/logs_j4z6gp62:v0\n"
     ]
    },
    {
     "name": "stderr",
     "output_type": "stream",
     "text": [
      "\u001b[34m\u001b[1mwandb\u001b[0m:   1 of 1 files downloaded.  \n"
     ]
    },
    {
     "name": "stdout",
     "output_type": "stream",
     "text": [
      "2025-04-22 16:32:03,499 - INFO - Downloaded logs_e9ur0bo2:v0 to /scratch/downloaded_artifacts/logs_e9ur0bo2:v0\n"
     ]
    },
    {
     "name": "stderr",
     "output_type": "stream",
     "text": [
      "\u001b[34m\u001b[1mwandb\u001b[0m:   1 of 1 files downloaded.  \n"
     ]
    },
    {
     "name": "stdout",
     "output_type": "stream",
     "text": [
      "2025-04-22 16:32:04,227 - INFO - Downloaded logs_j6xmbuzw:v0 to /scratch/downloaded_artifacts/logs_j6xmbuzw:v0\n"
     ]
    },
    {
     "name": "stderr",
     "output_type": "stream",
     "text": [
      "\u001b[34m\u001b[1mwandb\u001b[0m:   1 of 1 files downloaded.  \n"
     ]
    },
    {
     "name": "stdout",
     "output_type": "stream",
     "text": [
      "2025-04-22 16:32:04,335 - INFO - Downloaded logs_ny04r7zd:v0 to /scratch/downloaded_artifacts/logs_ny04r7zd:v0\n"
     ]
    },
    {
     "name": "stderr",
     "output_type": "stream",
     "text": [
      "\u001b[34m\u001b[1mwandb\u001b[0m:   1 of 1 files downloaded.  \n"
     ]
    },
    {
     "name": "stdout",
     "output_type": "stream",
     "text": [
      "2025-04-22 16:32:04,412 - INFO - Downloaded logs_m8ojwn9c:v0 to /scratch/downloaded_artifacts/logs_m8ojwn9c:v0\n"
     ]
    },
    {
     "name": "stderr",
     "output_type": "stream",
     "text": [
      "\u001b[34m\u001b[1mwandb\u001b[0m:   1 of 1 files downloaded.  \n"
     ]
    },
    {
     "name": "stdout",
     "output_type": "stream",
     "text": [
      "2025-04-22 16:32:04,489 - INFO - Downloaded logs_zzj5nm76:v0 to /scratch/downloaded_artifacts/logs_zzj5nm76:v0\n"
     ]
    },
    {
     "name": "stderr",
     "output_type": "stream",
     "text": [
      "\u001b[34m\u001b[1mwandb\u001b[0m:   1 of 1 files downloaded.  \n"
     ]
    },
    {
     "name": "stdout",
     "output_type": "stream",
     "text": [
      "2025-04-22 16:32:04,560 - INFO - Downloaded logs_vya6ssrh:v0 to /scratch/downloaded_artifacts/logs_vya6ssrh:v0\n"
     ]
    },
    {
     "name": "stderr",
     "output_type": "stream",
     "text": [
      "\u001b[34m\u001b[1mwandb\u001b[0m:   1 of 1 files downloaded.  \n"
     ]
    },
    {
     "name": "stdout",
     "output_type": "stream",
     "text": [
      "2025-04-22 16:32:04,611 - INFO - Downloaded logs_98keyjbw:v0 to /scratch/downloaded_artifacts/logs_98keyjbw:v0\n"
     ]
    },
    {
     "name": "stderr",
     "output_type": "stream",
     "text": [
      "\u001b[34m\u001b[1mwandb\u001b[0m:   1 of 1 files downloaded.  \n"
     ]
    },
    {
     "name": "stdout",
     "output_type": "stream",
     "text": [
      "2025-04-22 16:32:04,641 - INFO - Downloaded logs_zmfjxriy:v0 to /scratch/downloaded_artifacts/logs_zmfjxriy:v0\n"
     ]
    },
    {
     "name": "stderr",
     "output_type": "stream",
     "text": [
      "\u001b[34m\u001b[1mwandb\u001b[0m:   1 of 1 files downloaded.  \n",
      "\u001b[34m\u001b[1mwandb\u001b[0m:   1 of 1 files downloaded.  \n"
     ]
    },
    {
     "name": "stdout",
     "output_type": "stream",
     "text": [
      "2025-04-22 16:32:04,651 - INFO - Downloaded logs_6spovp1f:v0 to /scratch/downloaded_artifacts/logs_6spovp1f:v0\n",
      "2025-04-22 16:32:04,653 - INFO - Downloaded logs_djbudm4d:v0 to /scratch/downloaded_artifacts/logs_djbudm4d:v0\n"
     ]
    },
    {
     "name": "stderr",
     "output_type": "stream",
     "text": [
      "\u001b[34m\u001b[1mwandb\u001b[0m:   1 of 1 files downloaded.  \n",
      "\u001b[34m\u001b[1mwandb\u001b[0m:   1 of 1 files downloaded.  \n"
     ]
    },
    {
     "name": "stdout",
     "output_type": "stream",
     "text": [
      "2025-04-22 16:32:04,681 - INFO - Downloaded logs_9yv7ju37:v0 to /scratch/downloaded_artifacts/logs_9yv7ju37:v0\n"
     ]
    },
    {
     "name": "stderr",
     "output_type": "stream",
     "text": [
      "\u001b[34m\u001b[1mwandb\u001b[0m:   1 of 1 files downloaded.  \n"
     ]
    },
    {
     "name": "stdout",
     "output_type": "stream",
     "text": [
      "2025-04-22 16:32:04,683 - INFO - Downloaded logs_2spjnrd7:v0 to /scratch/downloaded_artifacts/logs_2spjnrd7:v0\n",
      "2025-04-22 16:32:04,684 - INFO - Downloaded logs_3qeb3jdu:v0 to /scratch/downloaded_artifacts/logs_3qeb3jdu:v0\n"
     ]
    },
    {
     "name": "stderr",
     "output_type": "stream",
     "text": [
      "\u001b[34m\u001b[1mwandb\u001b[0m:   1 of 1 files downloaded.  \n"
     ]
    },
    {
     "name": "stdout",
     "output_type": "stream",
     "text": [
      "2025-04-22 16:32:04,701 - INFO - Downloaded logs_h9wdlbvy:v0 to /scratch/downloaded_artifacts/logs_h9wdlbvy:v0\n"
     ]
    },
    {
     "name": "stderr",
     "output_type": "stream",
     "text": [
      "\u001b[34m\u001b[1mwandb\u001b[0m:   1 of 1 files downloaded.  \n"
     ]
    },
    {
     "name": "stdout",
     "output_type": "stream",
     "text": [
      "2025-04-22 16:32:04,708 - INFO - Downloaded logs_akr2a9jd:v0 to /scratch/downloaded_artifacts/logs_akr2a9jd:v0\n"
     ]
    },
    {
     "name": "stderr",
     "output_type": "stream",
     "text": [
      "\u001b[34m\u001b[1mwandb\u001b[0m:   1 of 1 files downloaded.  \n"
     ]
    },
    {
     "name": "stdout",
     "output_type": "stream",
     "text": [
      "2025-04-22 16:32:04,723 - INFO - Downloaded logs_4bkhi47s:v0 to /scratch/downloaded_artifacts/logs_4bkhi47s:v0\n"
     ]
    },
    {
     "name": "stderr",
     "output_type": "stream",
     "text": [
      "\u001b[34m\u001b[1mwandb\u001b[0m:   1 of 1 files downloaded.  \n",
      "\u001b[34m\u001b[1mwandb\u001b[0m:   1 of 1 files downloaded.  \n"
     ]
    },
    {
     "name": "stdout",
     "output_type": "stream",
     "text": [
      "2025-04-22 16:32:04,732 - INFO - Downloaded logs_f62tfl87:v0 to /scratch/downloaded_artifacts/logs_f62tfl87:v0\n",
      "2025-04-22 16:32:04,735 - INFO - Downloaded logs_gstuumhb:v0 to /scratch/downloaded_artifacts/logs_gstuumhb:v0\n"
     ]
    },
    {
     "name": "stderr",
     "output_type": "stream",
     "text": [
      "\u001b[34m\u001b[1mwandb\u001b[0m:   1 of 1 files downloaded.  \n"
     ]
    },
    {
     "name": "stdout",
     "output_type": "stream",
     "text": [
      "2025-04-22 16:32:05,236 - INFO - Downloaded logs_jf76og3y:v0 to /scratch/downloaded_artifacts/logs_jf76og3y:v0\n"
     ]
    },
    {
     "name": "stderr",
     "output_type": "stream",
     "text": [
      "\u001b[34m\u001b[1mwandb\u001b[0m:   1 of 1 files downloaded.  \n"
     ]
    },
    {
     "name": "stdout",
     "output_type": "stream",
     "text": [
      "2025-04-22 16:32:05,534 - INFO - Downloaded logs_tgt3pzad:v0 to /scratch/downloaded_artifacts/logs_tgt3pzad:v0\n"
     ]
    },
    {
     "name": "stderr",
     "output_type": "stream",
     "text": [
      "\u001b[34m\u001b[1mwandb\u001b[0m:   1 of 1 files downloaded.  \n",
      "\u001b[34m\u001b[1mwandb\u001b[0m:   1 of 1 files downloaded.  \n"
     ]
    },
    {
     "name": "stdout",
     "output_type": "stream",
     "text": [
      "2025-04-22 16:32:06,526 - INFO - Downloaded logs_ktsxxr8h:v0 to /scratch/downloaded_artifacts/logs_ktsxxr8h:v0\n",
      "2025-04-22 16:32:06,528 - INFO - Downloaded logs_nfy14a2a:v0 to /scratch/downloaded_artifacts/logs_nfy14a2a:v0\n"
     ]
    },
    {
     "name": "stderr",
     "output_type": "stream",
     "text": [
      "\u001b[34m\u001b[1mwandb\u001b[0m:   1 of 1 files downloaded.  \n",
      "\u001b[34m\u001b[1mwandb\u001b[0m:   1 of 1 files downloaded.  \n"
     ]
    },
    {
     "name": "stdout",
     "output_type": "stream",
     "text": [
      "2025-04-22 16:32:06,911 - INFO - Downloaded logs_y9bwvkij:v0 to /scratch/downloaded_artifacts/logs_y9bwvkij:v0\n"
     ]
    },
    {
     "name": "stderr",
     "output_type": "stream",
     "text": [
      "\u001b[34m\u001b[1mwandb\u001b[0m:   1 of 1 files downloaded.  \n"
     ]
    },
    {
     "name": "stdout",
     "output_type": "stream",
     "text": [
      "2025-04-22 16:32:06,913 - INFO - Downloaded logs_oy2j8tft:v0 to /scratch/downloaded_artifacts/logs_oy2j8tft:v0\n",
      "2025-04-22 16:32:06,914 - INFO - Downloaded logs_lnhfo51y:v0 to /scratch/downloaded_artifacts/logs_lnhfo51y:v0\n"
     ]
    },
    {
     "name": "stderr",
     "output_type": "stream",
     "text": [
      "\u001b[34m\u001b[1mwandb\u001b[0m:   1 of 1 files downloaded.  \n"
     ]
    },
    {
     "name": "stdout",
     "output_type": "stream",
     "text": [
      "2025-04-22 16:32:06,986 - INFO - Downloaded logs_1lakohae:v0 to /scratch/downloaded_artifacts/logs_1lakohae:v0\n"
     ]
    },
    {
     "name": "stderr",
     "output_type": "stream",
     "text": [
      "\u001b[34m\u001b[1mwandb\u001b[0m:   1 of 1 files downloaded.  \n"
     ]
    },
    {
     "name": "stdout",
     "output_type": "stream",
     "text": [
      "2025-04-22 16:32:06,999 - INFO - Downloaded logs_57b4tuxn:v0 to /scratch/downloaded_artifacts/logs_57b4tuxn:v0\n"
     ]
    },
    {
     "name": "stderr",
     "output_type": "stream",
     "text": [
      "\u001b[34m\u001b[1mwandb\u001b[0m:   1 of 1 files downloaded.  \n",
      "\u001b[34m\u001b[1mwandb\u001b[0m:   1 of 1 files downloaded.  \n",
      "\u001b[34m\u001b[1mwandb\u001b[0m:   1 of 1 files downloaded.  \n"
     ]
    },
    {
     "name": "stdout",
     "output_type": "stream",
     "text": [
      "2025-04-22 16:32:07,012 - INFO - Downloaded logs_s0ja2avh:v0 to /scratch/downloaded_artifacts/logs_s0ja2avh:v0\n",
      "2025-04-22 16:32:07,013 - INFO - Downloaded logs_z2hlbpax:v0 to /scratch/downloaded_artifacts/logs_z2hlbpax:v0\n"
     ]
    },
    {
     "name": "stderr",
     "output_type": "stream",
     "text": [
      "\u001b[34m\u001b[1mwandb\u001b[0m:   1 of 1 files downloaded.  \n"
     ]
    },
    {
     "name": "stdout",
     "output_type": "stream",
     "text": [
      "2025-04-22 16:32:07,013 - INFO - Downloaded logs_1obrqpnv:v0 to /scratch/downloaded_artifacts/logs_1obrqpnv:v0\n"
     ]
    },
    {
     "name": "stderr",
     "output_type": "stream",
     "text": [
      "\u001b[34m\u001b[1mwandb\u001b[0m:   1 of 1 files downloaded.  \n"
     ]
    },
    {
     "name": "stdout",
     "output_type": "stream",
     "text": [
      "2025-04-22 16:32:07,016 - INFO - Downloaded logs_wqkz3ps0:v0 to /scratch/downloaded_artifacts/logs_wqkz3ps0:v0\n",
      "2025-04-22 16:32:07,022 - INFO - Downloaded logs_qysf9hb4:v0 to /scratch/downloaded_artifacts/logs_qysf9hb4:v0\n"
     ]
    },
    {
     "name": "stderr",
     "output_type": "stream",
     "text": [
      "\u001b[34m\u001b[1mwandb\u001b[0m:   1 of 1 files downloaded.  \n",
      "\u001b[34m\u001b[1mwandb\u001b[0m:   1 of 1 files downloaded.  \n"
     ]
    },
    {
     "name": "stdout",
     "output_type": "stream",
     "text": [
      "2025-04-22 16:32:07,092 - INFO - Downloaded logs_r8m2zn2g:v0 to /scratch/downloaded_artifacts/logs_r8m2zn2g:v0\n",
      "2025-04-22 16:32:07,096 - INFO - Downloaded logs_zco7wluu:v0 to /scratch/downloaded_artifacts/logs_zco7wluu:v0\n"
     ]
    },
    {
     "name": "stderr",
     "output_type": "stream",
     "text": [
      "\u001b[34m\u001b[1mwandb\u001b[0m:   1 of 1 files downloaded.  \n"
     ]
    },
    {
     "name": "stdout",
     "output_type": "stream",
     "text": [
      "2025-04-22 16:32:07,107 - INFO - Downloaded logs_xe93ls7q:v0 to /scratch/downloaded_artifacts/logs_xe93ls7q:v0\n"
     ]
    },
    {
     "name": "stderr",
     "output_type": "stream",
     "text": [
      "\u001b[34m\u001b[1mwandb\u001b[0m:   1 of 1 files downloaded.  \n"
     ]
    },
    {
     "name": "stdout",
     "output_type": "stream",
     "text": [
      "2025-04-22 16:32:07,112 - INFO - Downloaded logs_2sz15441:v0 to /scratch/downloaded_artifacts/logs_2sz15441:v0\n"
     ]
    },
    {
     "name": "stderr",
     "output_type": "stream",
     "text": [
      "\u001b[34m\u001b[1mwandb\u001b[0m:   1 of 1 files downloaded.  \n"
     ]
    },
    {
     "name": "stdout",
     "output_type": "stream",
     "text": [
      "2025-04-22 16:32:07,196 - INFO - Downloaded logs_tofruuyo:v0 to /scratch/downloaded_artifacts/logs_tofruuyo:v0\n"
     ]
    },
    {
     "name": "stderr",
     "output_type": "stream",
     "text": [
      "\u001b[34m\u001b[1mwandb\u001b[0m:   1 of 1 files downloaded.  \n"
     ]
    },
    {
     "name": "stdout",
     "output_type": "stream",
     "text": [
      "2025-04-22 16:32:07,200 - INFO - Downloaded logs_2e4anqi8:v0 to /scratch/downloaded_artifacts/logs_2e4anqi8:v0\n"
     ]
    },
    {
     "name": "stderr",
     "output_type": "stream",
     "text": [
      "\u001b[34m\u001b[1mwandb\u001b[0m:   1 of 1 files downloaded.  \n"
     ]
    },
    {
     "name": "stdout",
     "output_type": "stream",
     "text": [
      "2025-04-22 16:32:07,492 - INFO - Downloaded logs_3mil0y1b:v0 to /scratch/downloaded_artifacts/logs_3mil0y1b:v0\n"
     ]
    },
    {
     "name": "stderr",
     "output_type": "stream",
     "text": [
      "\u001b[34m\u001b[1mwandb\u001b[0m:   1 of 1 files downloaded.  \n"
     ]
    },
    {
     "name": "stdout",
     "output_type": "stream",
     "text": [
      "2025-04-22 16:32:07,542 - INFO - Downloaded logs_6i54yy7e:v0 to /scratch/downloaded_artifacts/logs_6i54yy7e:v0\n"
     ]
    },
    {
     "name": "stderr",
     "output_type": "stream",
     "text": [
      "\u001b[34m\u001b[1mwandb\u001b[0m:   1 of 1 files downloaded.  \n"
     ]
    },
    {
     "name": "stdout",
     "output_type": "stream",
     "text": [
      "2025-04-22 16:32:07,778 - INFO - Downloaded logs_4x2dq1p4:v0 to /scratch/downloaded_artifacts/logs_4x2dq1p4:v0\n"
     ]
    },
    {
     "name": "stderr",
     "output_type": "stream",
     "text": [
      "\u001b[34m\u001b[1mwandb\u001b[0m:   1 of 1 files downloaded.  \n"
     ]
    },
    {
     "name": "stdout",
     "output_type": "stream",
     "text": [
      "2025-04-22 16:32:08,020 - INFO - Downloaded logs_8xnap958:v0 to /scratch/downloaded_artifacts/logs_8xnap958:v0\n"
     ]
    },
    {
     "name": "stderr",
     "output_type": "stream",
     "text": [
      "\u001b[34m\u001b[1mwandb\u001b[0m:   1 of 1 files downloaded.  \n",
      "\u001b[34m\u001b[1mwandb\u001b[0m:   1 of 1 files downloaded.  \n"
     ]
    },
    {
     "name": "stdout",
     "output_type": "stream",
     "text": [
      "2025-04-22 16:32:08,039 - INFO - Downloaded logs_fjol7wzb:v0 to /scratch/downloaded_artifacts/logs_fjol7wzb:v0\n",
      "2025-04-22 16:32:08,039 - INFO - Downloaded logs_jbhpllwr:v0 to /scratch/downloaded_artifacts/logs_jbhpllwr:v0\n"
     ]
    },
    {
     "name": "stderr",
     "output_type": "stream",
     "text": [
      "\u001b[34m\u001b[1mwandb\u001b[0m:   1 of 1 files downloaded.  \n"
     ]
    },
    {
     "name": "stdout",
     "output_type": "stream",
     "text": [
      "2025-04-22 16:32:08,055 - INFO - Downloaded logs_kbcqt66c:v0 to /scratch/downloaded_artifacts/logs_kbcqt66c:v0\n"
     ]
    },
    {
     "name": "stderr",
     "output_type": "stream",
     "text": [
      "\u001b[34m\u001b[1mwandb\u001b[0m:   1 of 1 files downloaded.  \n",
      "\u001b[34m\u001b[1mwandb\u001b[0m:   1 of 1 files downloaded.  \n"
     ]
    },
    {
     "name": "stdout",
     "output_type": "stream",
     "text": [
      "2025-04-22 16:32:08,077 - INFO - Downloaded logs_jlp5frth:v0 to /scratch/downloaded_artifacts/logs_jlp5frth:v0\n"
     ]
    },
    {
     "name": "stderr",
     "output_type": "stream",
     "text": [
      "\u001b[34m\u001b[1mwandb\u001b[0m:   1 of 1 files downloaded.  \n"
     ]
    },
    {
     "name": "stdout",
     "output_type": "stream",
     "text": [
      "2025-04-22 16:32:08,079 - INFO - Downloaded logs_mz10cr02:v0 to /scratch/downloaded_artifacts/logs_mz10cr02:v0\n",
      "2025-04-22 16:32:08,080 - INFO - Downloaded logs_nlqcwdji:v0 to /scratch/downloaded_artifacts/logs_nlqcwdji:v0\n"
     ]
    },
    {
     "name": "stderr",
     "output_type": "stream",
     "text": [
      "\u001b[34m\u001b[1mwandb\u001b[0m:   1 of 1 files downloaded.  \n"
     ]
    },
    {
     "name": "stdout",
     "output_type": "stream",
     "text": [
      "2025-04-22 16:32:08,427 - INFO - Downloaded logs_r6qnjbex:v0 to /scratch/downloaded_artifacts/logs_r6qnjbex:v0\n"
     ]
    },
    {
     "name": "stderr",
     "output_type": "stream",
     "text": [
      "\u001b[34m\u001b[1mwandb\u001b[0m:   1 of 1 files downloaded.  \n"
     ]
    },
    {
     "name": "stdout",
     "output_type": "stream",
     "text": [
      "2025-04-22 16:32:08,511 - INFO - Downloaded logs_r9ztx678:v0 to /scratch/downloaded_artifacts/logs_r9ztx678:v0\n"
     ]
    },
    {
     "name": "stderr",
     "output_type": "stream",
     "text": [
      "\u001b[34m\u001b[1mwandb\u001b[0m:   1 of 1 files downloaded.  \n"
     ]
    },
    {
     "name": "stdout",
     "output_type": "stream",
     "text": [
      "2025-04-22 16:32:08,516 - INFO - Downloaded logs_yrm0eftj:v0 to /scratch/downloaded_artifacts/logs_yrm0eftj:v0\n"
     ]
    },
    {
     "name": "stderr",
     "output_type": "stream",
     "text": [
      "\u001b[34m\u001b[1mwandb\u001b[0m:   1 of 1 files downloaded.  \n"
     ]
    },
    {
     "name": "stdout",
     "output_type": "stream",
     "text": [
      "2025-04-22 16:32:08,522 - INFO - Downloaded logs_s896qj1c:v0 to /scratch/downloaded_artifacts/logs_s896qj1c:v0\n"
     ]
    },
    {
     "name": "stderr",
     "output_type": "stream",
     "text": [
      "\u001b[34m\u001b[1mwandb\u001b[0m:   1 of 1 files downloaded.  \n"
     ]
    },
    {
     "name": "stdout",
     "output_type": "stream",
     "text": [
      "2025-04-22 16:32:08,525 - INFO - Downloaded logs_w55s58o2:v0 to /scratch/downloaded_artifacts/logs_w55s58o2:v0\n"
     ]
    },
    {
     "name": "stderr",
     "output_type": "stream",
     "text": [
      "\u001b[34m\u001b[1mwandb\u001b[0m:   1 of 1 files downloaded.  \n"
     ]
    },
    {
     "name": "stdout",
     "output_type": "stream",
     "text": [
      "2025-04-22 16:32:08,528 - INFO - Downloaded logs_22vfipcp:v0 to /scratch/downloaded_artifacts/logs_22vfipcp:v0\n"
     ]
    },
    {
     "name": "stderr",
     "output_type": "stream",
     "text": [
      "\u001b[34m\u001b[1mwandb\u001b[0m:   1 of 1 files downloaded.  \n"
     ]
    },
    {
     "name": "stdout",
     "output_type": "stream",
     "text": [
      "2025-04-22 16:32:08,550 - INFO - Downloaded logs_01og4ts8:v0 to /scratch/downloaded_artifacts/logs_01og4ts8:v0\n"
     ]
    },
    {
     "name": "stderr",
     "output_type": "stream",
     "text": [
      "\u001b[34m\u001b[1mwandb\u001b[0m:   1 of 1 files downloaded.  \n",
      "\u001b[34m\u001b[1mwandb\u001b[0m:   1 of 1 files downloaded.  \n"
     ]
    },
    {
     "name": "stdout",
     "output_type": "stream",
     "text": [
      "2025-04-22 16:32:08,560 - INFO - Downloaded logs_036qhm7t:v0 to /scratch/downloaded_artifacts/logs_036qhm7t:v0\n",
      "2025-04-22 16:32:08,561 - INFO - Downloaded logs_vbvfmxbc:v0 to /scratch/downloaded_artifacts/logs_vbvfmxbc:v0\n"
     ]
    },
    {
     "name": "stderr",
     "output_type": "stream",
     "text": [
      "\u001b[34m\u001b[1mwandb\u001b[0m:   1 of 1 files downloaded.  \n"
     ]
    },
    {
     "name": "stdout",
     "output_type": "stream",
     "text": [
      "2025-04-22 16:32:08,900 - INFO - Downloaded logs_2z2euwob:v0 to /scratch/downloaded_artifacts/logs_2z2euwob:v0\n"
     ]
    },
    {
     "name": "stderr",
     "output_type": "stream",
     "text": [
      "\u001b[34m\u001b[1mwandb\u001b[0m:   1 of 1 files downloaded.  \n"
     ]
    },
    {
     "name": "stdout",
     "output_type": "stream",
     "text": [
      "2025-04-22 16:32:08,924 - INFO - Downloaded logs_52ie45yb:v0 to /scratch/downloaded_artifacts/logs_52ie45yb:v0\n"
     ]
    },
    {
     "name": "stderr",
     "output_type": "stream",
     "text": [
      "\u001b[34m\u001b[1mwandb\u001b[0m:   1 of 1 files downloaded.  \n"
     ]
    },
    {
     "name": "stdout",
     "output_type": "stream",
     "text": [
      "2025-04-22 16:32:08,989 - INFO - Downloaded logs_6c9z2a95:v0 to /scratch/downloaded_artifacts/logs_6c9z2a95:v0\n"
     ]
    },
    {
     "name": "stderr",
     "output_type": "stream",
     "text": [
      "\u001b[34m\u001b[1mwandb\u001b[0m:   1 of 1 files downloaded.  \n"
     ]
    },
    {
     "name": "stdout",
     "output_type": "stream",
     "text": [
      "2025-04-22 16:32:09,662 - INFO - Downloaded logs_aj4ds0fr:v0 to /scratch/downloaded_artifacts/logs_aj4ds0fr:v0\n"
     ]
    },
    {
     "name": "stderr",
     "output_type": "stream",
     "text": [
      "\u001b[34m\u001b[1mwandb\u001b[0m:   1 of 1 files downloaded.  \n",
      "\u001b[34m\u001b[1mwandb\u001b[0m:   1 of 1 files downloaded.  \n"
     ]
    },
    {
     "name": "stdout",
     "output_type": "stream",
     "text": [
      "2025-04-22 16:32:09,740 - INFO - Downloaded logs_cmljgfcj:v0 to /scratch/downloaded_artifacts/logs_cmljgfcj:v0\n",
      "2025-04-22 16:32:09,756 - INFO - Downloaded logs_ast85v7f:v0 to /scratch/downloaded_artifacts/logs_ast85v7f:v0\n"
     ]
    },
    {
     "name": "stderr",
     "output_type": "stream",
     "text": [
      "\u001b[34m\u001b[1mwandb\u001b[0m:   1 of 1 files downloaded.  \n"
     ]
    },
    {
     "name": "stdout",
     "output_type": "stream",
     "text": [
      "2025-04-22 16:32:09,813 - INFO - Downloaded logs_96ydidq9:v0 to /scratch/downloaded_artifacts/logs_96ydidq9:v0\n"
     ]
    },
    {
     "name": "stderr",
     "output_type": "stream",
     "text": [
      "\u001b[34m\u001b[1mwandb\u001b[0m:   1 of 1 files downloaded.  \n"
     ]
    },
    {
     "name": "stdout",
     "output_type": "stream",
     "text": [
      "2025-04-22 16:32:09,888 - INFO - Downloaded logs_bda7pohl:v0 to /scratch/downloaded_artifacts/logs_bda7pohl:v0\n"
     ]
    },
    {
     "name": "stderr",
     "output_type": "stream",
     "text": [
      "\u001b[34m\u001b[1mwandb\u001b[0m:   1 of 1 files downloaded.  \n",
      "\u001b[34m\u001b[1mwandb\u001b[0m:   1 of 1 files downloaded.  \n"
     ]
    },
    {
     "name": "stdout",
     "output_type": "stream",
     "text": [
      "2025-04-22 16:32:09,905 - INFO - Downloaded logs_gie8o2up:v0 to /scratch/downloaded_artifacts/logs_gie8o2up:v0\n"
     ]
    },
    {
     "name": "stderr",
     "output_type": "stream",
     "text": [
      "\u001b[34m\u001b[1mwandb\u001b[0m:   1 of 1 files downloaded.  \n"
     ]
    },
    {
     "name": "stdout",
     "output_type": "stream",
     "text": [
      "2025-04-22 16:32:09,908 - INFO - Downloaded logs_rj51czvv:v0 to /scratch/downloaded_artifacts/logs_rj51czvv:v0\n",
      "2025-04-22 16:32:09,916 - INFO - Downloaded logs_pf5v3b5v:v0 to /scratch/downloaded_artifacts/logs_pf5v3b5v:v0\n"
     ]
    },
    {
     "name": "stderr",
     "output_type": "stream",
     "text": [
      "\u001b[34m\u001b[1mwandb\u001b[0m:   1 of 1 files downloaded.  \n",
      "\u001b[34m\u001b[1mwandb\u001b[0m:   1 of 1 files downloaded.  \n"
     ]
    },
    {
     "name": "stdout",
     "output_type": "stream",
     "text": [
      "2025-04-22 16:32:09,933 - INFO - Downloaded logs_ggm0b0cv:v0 to /scratch/downloaded_artifacts/logs_ggm0b0cv:v0\n",
      "2025-04-22 16:32:09,937 - INFO - Downloaded logs_tk2xl5xj:v0 to /scratch/downloaded_artifacts/logs_tk2xl5xj:v0\n"
     ]
    },
    {
     "name": "stderr",
     "output_type": "stream",
     "text": [
      "\u001b[34m\u001b[1mwandb\u001b[0m:   1 of 1 files downloaded.  \n"
     ]
    },
    {
     "name": "stdout",
     "output_type": "stream",
     "text": [
      "2025-04-22 16:32:09,953 - INFO - Downloaded logs_m82c0oj3:v0 to /scratch/downloaded_artifacts/logs_m82c0oj3:v0\n"
     ]
    },
    {
     "name": "stderr",
     "output_type": "stream",
     "text": [
      "\u001b[34m\u001b[1mwandb\u001b[0m:   1 of 1 files downloaded.  \n"
     ]
    },
    {
     "name": "stdout",
     "output_type": "stream",
     "text": [
      "2025-04-22 16:32:09,962 - INFO - Downloaded logs_suq1hr61:v0 to /scratch/downloaded_artifacts/logs_suq1hr61:v0\n"
     ]
    },
    {
     "name": "stderr",
     "output_type": "stream",
     "text": [
      "\u001b[34m\u001b[1mwandb\u001b[0m:   1 of 1 files downloaded.  \n"
     ]
    },
    {
     "name": "stdout",
     "output_type": "stream",
     "text": [
      "2025-04-22 16:32:09,967 - INFO - Downloaded logs_too9hbml:v0 to /scratch/downloaded_artifacts/logs_too9hbml:v0\n"
     ]
    },
    {
     "name": "stderr",
     "output_type": "stream",
     "text": [
      "\u001b[34m\u001b[1mwandb\u001b[0m:   1 of 1 files downloaded.  \n"
     ]
    },
    {
     "name": "stdout",
     "output_type": "stream",
     "text": [
      "2025-04-22 16:32:09,981 - INFO - Downloaded logs_rdzy7s7l:v0 to /scratch/downloaded_artifacts/logs_rdzy7s7l:v0\n"
     ]
    },
    {
     "name": "stderr",
     "output_type": "stream",
     "text": [
      "\u001b[34m\u001b[1mwandb\u001b[0m:   1 of 1 files downloaded.  \n"
     ]
    },
    {
     "name": "stdout",
     "output_type": "stream",
     "text": [
      "2025-04-22 16:32:10,004 - INFO - Downloaded logs_u7cyyx04:v0 to /scratch/downloaded_artifacts/logs_u7cyyx04:v0\n"
     ]
    },
    {
     "name": "stderr",
     "output_type": "stream",
     "text": [
      "\u001b[34m\u001b[1mwandb\u001b[0m:   1 of 1 files downloaded.  \n"
     ]
    },
    {
     "name": "stdout",
     "output_type": "stream",
     "text": [
      "2025-04-22 16:32:10,060 - INFO - Downloaded logs_sh2fekd4:v0 to /scratch/downloaded_artifacts/logs_sh2fekd4:v0\n"
     ]
    },
    {
     "name": "stderr",
     "output_type": "stream",
     "text": [
      "\u001b[34m\u001b[1mwandb\u001b[0m:   1 of 1 files downloaded.  \n"
     ]
    },
    {
     "name": "stdout",
     "output_type": "stream",
     "text": [
      "2025-04-22 16:32:10,169 - INFO - Downloaded logs_ypbqxgbb:v0 to /scratch/downloaded_artifacts/logs_ypbqxgbb:v0\n"
     ]
    },
    {
     "name": "stderr",
     "output_type": "stream",
     "text": [
      "\u001b[34m\u001b[1mwandb\u001b[0m:   1 of 1 files downloaded.  \n"
     ]
    },
    {
     "name": "stdout",
     "output_type": "stream",
     "text": [
      "2025-04-22 16:32:10,221 - INFO - Downloaded logs_2pfpf4f6:v0 to /scratch/downloaded_artifacts/logs_2pfpf4f6:v0\n"
     ]
    },
    {
     "name": "stderr",
     "output_type": "stream",
     "text": [
      "\u001b[34m\u001b[1mwandb\u001b[0m:   1 of 1 files downloaded.  \n"
     ]
    },
    {
     "name": "stdout",
     "output_type": "stream",
     "text": [
      "2025-04-22 16:32:10,555 - INFO - Downloaded logs_z6mdgiey:v0 to /scratch/downloaded_artifacts/logs_z6mdgiey:v0\n"
     ]
    },
    {
     "name": "stderr",
     "output_type": "stream",
     "text": [
      "\u001b[34m\u001b[1mwandb\u001b[0m:   1 of 1 files downloaded.  \n",
      "\u001b[34m\u001b[1mwandb\u001b[0m:   1 of 1 files downloaded.  \n"
     ]
    },
    {
     "name": "stdout",
     "output_type": "stream",
     "text": [
      "2025-04-22 16:32:10,933 - INFO - Downloaded logs_3ihx374e:v0 to /scratch/downloaded_artifacts/logs_3ihx374e:v0\n",
      "2025-04-22 16:32:11,094 - INFO - Downloaded logs_7mi6bx32:v0 to /scratch/downloaded_artifacts/logs_7mi6bx32:v0\n"
     ]
    },
    {
     "name": "stderr",
     "output_type": "stream",
     "text": [
      "\u001b[34m\u001b[1mwandb\u001b[0m:   1 of 1 files downloaded.  \n",
      "\u001b[34m\u001b[1mwandb\u001b[0m:   1 of 1 files downloaded.  \n",
      "\u001b[34m\u001b[1mwandb\u001b[0m:   1 of 1 files downloaded.  \n"
     ]
    },
    {
     "name": "stdout",
     "output_type": "stream",
     "text": [
      "2025-04-22 16:32:11,390 - INFO - Downloaded logs_l7mlqvmy:v0 to /scratch/downloaded_artifacts/logs_l7mlqvmy:v0\n",
      "2025-04-22 16:32:11,390 - INFO - Downloaded logs_1sxud2qr:v0 to /scratch/downloaded_artifacts/logs_1sxud2qr:v0\n"
     ]
    },
    {
     "name": "stderr",
     "output_type": "stream",
     "text": [
      "\u001b[34m\u001b[1mwandb\u001b[0m:   1 of 1 files downloaded.  \n"
     ]
    },
    {
     "name": "stdout",
     "output_type": "stream",
     "text": [
      "2025-04-22 16:32:11,557 - INFO - Downloaded logs_coms7twm:v0 to /scratch/downloaded_artifacts/logs_coms7twm:v0\n"
     ]
    },
    {
     "name": "stderr",
     "output_type": "stream",
     "text": [
      "\u001b[34m\u001b[1mwandb\u001b[0m:   1 of 1 files downloaded.  \n"
     ]
    },
    {
     "name": "stdout",
     "output_type": "stream",
     "text": [
      "2025-04-22 16:32:11,692 - INFO - Downloaded logs_vw7o1j0i:v0 to /scratch/downloaded_artifacts/logs_vw7o1j0i:v0\n",
      "2025-04-22 16:32:11,711 - INFO - Downloaded logs_4bguy7dn:v0 to /scratch/downloaded_artifacts/logs_4bguy7dn:v0\n"
     ]
    },
    {
     "name": "stderr",
     "output_type": "stream",
     "text": [
      "\u001b[34m\u001b[1mwandb\u001b[0m:   1 of 1 files downloaded.  \n"
     ]
    },
    {
     "name": "stdout",
     "output_type": "stream",
     "text": [
      "2025-04-22 16:32:11,793 - INFO - Downloaded logs_zv19ohjb:v0 to /scratch/downloaded_artifacts/logs_zv19ohjb:v0\n"
     ]
    },
    {
     "name": "stderr",
     "output_type": "stream",
     "text": [
      "\u001b[34m\u001b[1mwandb\u001b[0m:   1 of 1 files downloaded.  \n",
      "\u001b[34m\u001b[1mwandb\u001b[0m:   1 of 1 files downloaded.  \n",
      "\u001b[34m\u001b[1mwandb\u001b[0m:   1 of 1 files downloaded.  \n"
     ]
    },
    {
     "name": "stdout",
     "output_type": "stream",
     "text": [
      "2025-04-22 16:32:11,799 - INFO - Downloaded logs_basbeuxo:v0 to /scratch/downloaded_artifacts/logs_basbeuxo:v0\n",
      "2025-04-22 16:32:11,799 - INFO - Downloaded logs_4ear2oum:v0 to /scratch/downloaded_artifacts/logs_4ear2oum:v0\n"
     ]
    },
    {
     "name": "stderr",
     "output_type": "stream",
     "text": [
      "\u001b[34m\u001b[1mwandb\u001b[0m:   1 of 1 files downloaded.  \n"
     ]
    },
    {
     "name": "stdout",
     "output_type": "stream",
     "text": [
      "2025-04-22 16:32:11,802 - INFO - Downloaded logs_8jj4i5n5:v0 to /scratch/downloaded_artifacts/logs_8jj4i5n5:v0\n",
      "2025-04-22 16:32:11,805 - INFO - Downloaded logs_e22a68v9:v0 to /scratch/downloaded_artifacts/logs_e22a68v9:v0\n"
     ]
    },
    {
     "name": "stderr",
     "output_type": "stream",
     "text": [
      "\u001b[34m\u001b[1mwandb\u001b[0m: \u001b[32m\u001b[41mERROR\u001b[0m Error while calling W&B API: rate limit exceeded (<Response [429]>)\n",
      "\u001b[34m\u001b[1mwandb\u001b[0m:   1 of 1 files downloaded.  \n"
     ]
    },
    {
     "name": "stdout",
     "output_type": "stream",
     "text": [
      "2025-04-22 16:32:11,822 - INFO - Downloaded logs_b1jk8l4g:v0 to /scratch/downloaded_artifacts/logs_b1jk8l4g:v0\n"
     ]
    },
    {
     "name": "stderr",
     "output_type": "stream",
     "text": [
      "\u001b[34m\u001b[1mwandb\u001b[0m:   1 of 1 files downloaded.  \n"
     ]
    },
    {
     "name": "stdout",
     "output_type": "stream",
     "text": [
      "2025-04-22 16:32:12,037 - INFO - Downloaded logs_ay922pwc:v0 to /scratch/downloaded_artifacts/logs_ay922pwc:v0\n"
     ]
    },
    {
     "name": "stderr",
     "output_type": "stream",
     "text": [
      "\u001b[34m\u001b[1mwandb\u001b[0m: \u001b[32m\u001b[41mERROR\u001b[0m Error while calling W&B API: rate limit exceeded (<Response [429]>)\n",
      "\u001b[34m\u001b[1mwandb\u001b[0m:   1 of 1 files downloaded.  \n"
     ]
    },
    {
     "name": "stdout",
     "output_type": "stream",
     "text": [
      "2025-04-22 16:32:15,525 - INFO - Downloaded logs_czqg7129:v0 to /scratch/downloaded_artifacts/logs_czqg7129:v0\n"
     ]
    },
    {
     "name": "stderr",
     "output_type": "stream",
     "text": [
      "\u001b[34m\u001b[1mwandb\u001b[0m:   1 of 1 files downloaded.  \n"
     ]
    },
    {
     "name": "stdout",
     "output_type": "stream",
     "text": [
      "2025-04-22 16:32:15,660 - INFO - Downloaded logs_hcwyvkmu:v0 to /scratch/downloaded_artifacts/logs_hcwyvkmu:v0\n"
     ]
    },
    {
     "name": "stderr",
     "output_type": "stream",
     "text": [
      "\u001b[34m\u001b[1mwandb\u001b[0m:   1 of 1 files downloaded.  \n"
     ]
    },
    {
     "name": "stdout",
     "output_type": "stream",
     "text": [
      "2025-04-22 16:32:15,759 - INFO - Downloaded logs_e6cxinoq:v0 to /scratch/downloaded_artifacts/logs_e6cxinoq:v0\n"
     ]
    },
    {
     "name": "stderr",
     "output_type": "stream",
     "text": [
      "\u001b[34m\u001b[1mwandb\u001b[0m:   1 of 1 files downloaded.  \n"
     ]
    },
    {
     "name": "stdout",
     "output_type": "stream",
     "text": [
      "2025-04-22 16:32:15,764 - INFO - Downloaded logs_g7v2izvm:v0 to /scratch/downloaded_artifacts/logs_g7v2izvm:v0\n"
     ]
    },
    {
     "name": "stderr",
     "output_type": "stream",
     "text": [
      "\u001b[34m\u001b[1mwandb\u001b[0m:   1 of 1 files downloaded.  \n"
     ]
    },
    {
     "name": "stdout",
     "output_type": "stream",
     "text": [
      "2025-04-22 16:32:15,853 - INFO - Downloaded logs_sgif1dc6:v0 to /scratch/downloaded_artifacts/logs_sgif1dc6:v0\n"
     ]
    },
    {
     "name": "stderr",
     "output_type": "stream",
     "text": [
      "\u001b[34m\u001b[1mwandb\u001b[0m:   1 of 1 files downloaded.  \n",
      "\u001b[34m\u001b[1mwandb\u001b[0m:   1 of 1 files downloaded.  \n",
      "\u001b[34m\u001b[1mwandb\u001b[0m:   1 of 1 files downloaded.  \n"
     ]
    },
    {
     "name": "stdout",
     "output_type": "stream",
     "text": [
      "2025-04-22 16:32:16,410 - INFO - Downloaded logs_np2dxz7u:v0 to /scratch/downloaded_artifacts/logs_np2dxz7u:v0\n"
     ]
    },
    {
     "name": "stderr",
     "output_type": "stream",
     "text": [
      "\u001b[34m\u001b[1mwandb\u001b[0m:   1 of 1 files downloaded.  \n"
     ]
    },
    {
     "name": "stdout",
     "output_type": "stream",
     "text": [
      "2025-04-22 16:32:16,411 - INFO - Downloaded logs_hk1x3vue:v0 to /scratch/downloaded_artifacts/logs_hk1x3vue:v0\n",
      "2025-04-22 16:32:16,412 - INFO - Downloaded logs_qvrppz5g:v0 to /scratch/downloaded_artifacts/logs_qvrppz5g:v0\n",
      "2025-04-22 16:32:16,413 - INFO - Downloaded logs_xy5we8se:v0 to /scratch/downloaded_artifacts/logs_xy5we8se:v0\n"
     ]
    },
    {
     "name": "stderr",
     "output_type": "stream",
     "text": [
      "\u001b[34m\u001b[1mwandb\u001b[0m:   1 of 1 files downloaded.  \n",
      "\u001b[34m\u001b[1mwandb\u001b[0m:   1 of 1 files downloaded.  \n"
     ]
    },
    {
     "name": "stdout",
     "output_type": "stream",
     "text": [
      "2025-04-22 16:32:16,425 - INFO - Downloaded logs_sn2zwbbn:v0 to /scratch/downloaded_artifacts/logs_sn2zwbbn:v0\n",
      "2025-04-22 16:32:16,425 - INFO - Downloaded logs_wasrs9pn:v0 to /scratch/downloaded_artifacts/logs_wasrs9pn:v0\n"
     ]
    },
    {
     "name": "stderr",
     "output_type": "stream",
     "text": [
      "\u001b[34m\u001b[1mwandb\u001b[0m:   1 of 1 files downloaded.  \n"
     ]
    },
    {
     "name": "stdout",
     "output_type": "stream",
     "text": [
      "2025-04-22 16:32:16,448 - INFO - Downloaded logs_qmo4xrvu:v0 to /scratch/downloaded_artifacts/logs_qmo4xrvu:v0\n"
     ]
    },
    {
     "name": "stderr",
     "output_type": "stream",
     "text": [
      "\u001b[34m\u001b[1mwandb\u001b[0m:   1 of 1 files downloaded.  \n"
     ]
    },
    {
     "name": "stdout",
     "output_type": "stream",
     "text": [
      "2025-04-22 16:32:16,502 - INFO - Downloaded logs_vk91hw8t:v0 to /scratch/downloaded_artifacts/logs_vk91hw8t:v0\n"
     ]
    },
    {
     "name": "stderr",
     "output_type": "stream",
     "text": [
      "\u001b[34m\u001b[1mwandb\u001b[0m:   1 of 1 files downloaded.  \n"
     ]
    },
    {
     "name": "stdout",
     "output_type": "stream",
     "text": [
      "2025-04-22 16:32:17,029 - INFO - Downloaded logs_nxia5uuk:v0 to /scratch/downloaded_artifacts/logs_nxia5uuk:v0\n"
     ]
    },
    {
     "name": "stderr",
     "output_type": "stream",
     "text": [
      "\u001b[34m\u001b[1mwandb\u001b[0m:   1 of 1 files downloaded.  \n"
     ]
    },
    {
     "name": "stdout",
     "output_type": "stream",
     "text": [
      "2025-04-22 16:32:17,034 - INFO - Downloaded logs_owovom5e:v0 to /scratch/downloaded_artifacts/logs_owovom5e:v0\n"
     ]
    },
    {
     "name": "stderr",
     "output_type": "stream",
     "text": [
      "\u001b[34m\u001b[1mwandb\u001b[0m:   1 of 1 files downloaded.  \n"
     ]
    },
    {
     "name": "stdout",
     "output_type": "stream",
     "text": [
      "2025-04-22 16:32:17,049 - INFO - Downloaded logs_rfn5h5tk:v0 to /scratch/downloaded_artifacts/logs_rfn5h5tk:v0\n"
     ]
    },
    {
     "name": "stderr",
     "output_type": "stream",
     "text": [
      "\u001b[34m\u001b[1mwandb\u001b[0m:   1 of 1 files downloaded.  \n"
     ]
    },
    {
     "name": "stdout",
     "output_type": "stream",
     "text": [
      "2025-04-22 16:32:17,142 - INFO - Downloaded logs_jkhfbhfg:v0 to /scratch/downloaded_artifacts/logs_jkhfbhfg:v0\n"
     ]
    },
    {
     "name": "stderr",
     "output_type": "stream",
     "text": [
      "\u001b[34m\u001b[1mwandb\u001b[0m:   1 of 1 files downloaded.  \n",
      "\u001b[34m\u001b[1mwandb\u001b[0m:   1 of 1 files downloaded.  \n"
     ]
    },
    {
     "name": "stdout",
     "output_type": "stream",
     "text": [
      "2025-04-22 16:32:17,158 - INFO - Downloaded logs_lfzm0zh0:v0 to /scratch/downloaded_artifacts/logs_lfzm0zh0:v0\n"
     ]
    },
    {
     "name": "stderr",
     "output_type": "stream",
     "text": [
      "\u001b[34m\u001b[1mwandb\u001b[0m:   1 of 1 files downloaded.  \n"
     ]
    },
    {
     "name": "stdout",
     "output_type": "stream",
     "text": [
      "2025-04-22 16:32:17,163 - INFO - Downloaded logs_hqk14vsm:v0 to /scratch/downloaded_artifacts/logs_hqk14vsm:v0\n",
      "2025-04-22 16:32:17,168 - INFO - Downloaded logs_62ofbgbe:v0 to /scratch/downloaded_artifacts/logs_62ofbgbe:v0\n"
     ]
    },
    {
     "name": "stderr",
     "output_type": "stream",
     "text": [
      "\u001b[34m\u001b[1mwandb\u001b[0m:   1 of 1 files downloaded.  \n"
     ]
    },
    {
     "name": "stdout",
     "output_type": "stream",
     "text": [
      "2025-04-22 16:32:17,249 - INFO - Downloaded logs_6al5jwhl:v0 to /scratch/downloaded_artifacts/logs_6al5jwhl:v0\n"
     ]
    },
    {
     "name": "stderr",
     "output_type": "stream",
     "text": [
      "\u001b[34m\u001b[1mwandb\u001b[0m:   1 of 1 files downloaded.  \n"
     ]
    },
    {
     "name": "stdout",
     "output_type": "stream",
     "text": [
      "2025-04-22 16:32:17,462 - INFO - Downloaded logs_hsjxtu5r:v0 to /scratch/downloaded_artifacts/logs_hsjxtu5r:v0\n"
     ]
    },
    {
     "name": "stderr",
     "output_type": "stream",
     "text": [
      "\u001b[34m\u001b[1mwandb\u001b[0m:   1 of 1 files downloaded.  \n"
     ]
    },
    {
     "name": "stdout",
     "output_type": "stream",
     "text": [
      "2025-04-22 16:32:17,590 - INFO - Downloaded logs_lp0cnz3x:v0 to /scratch/downloaded_artifacts/logs_lp0cnz3x:v0\n"
     ]
    },
    {
     "name": "stderr",
     "output_type": "stream",
     "text": [
      "\u001b[34m\u001b[1mwandb\u001b[0m:   1 of 1 files downloaded.  \n"
     ]
    },
    {
     "name": "stdout",
     "output_type": "stream",
     "text": [
      "2025-04-22 16:32:17,625 - INFO - Downloaded logs_gx9p8g2p:v0 to /scratch/downloaded_artifacts/logs_gx9p8g2p:v0\n"
     ]
    },
    {
     "name": "stderr",
     "output_type": "stream",
     "text": [
      "\u001b[34m\u001b[1mwandb\u001b[0m:   1 of 1 files downloaded.  \n"
     ]
    },
    {
     "name": "stdout",
     "output_type": "stream",
     "text": [
      "2025-04-22 16:32:17,637 - INFO - Downloaded logs_a6rm8ab5:v0 to /scratch/downloaded_artifacts/logs_a6rm8ab5:v0\n"
     ]
    },
    {
     "name": "stderr",
     "output_type": "stream",
     "text": [
      "\u001b[34m\u001b[1mwandb\u001b[0m:   1 of 1 files downloaded.  \n"
     ]
    },
    {
     "name": "stdout",
     "output_type": "stream",
     "text": [
      "2025-04-22 16:32:17,693 - INFO - Downloaded logs_1yoweku4:v0 to /scratch/downloaded_artifacts/logs_1yoweku4:v0\n"
     ]
    },
    {
     "name": "stderr",
     "output_type": "stream",
     "text": [
      "\u001b[34m\u001b[1mwandb\u001b[0m:   1 of 1 files downloaded.  \n"
     ]
    },
    {
     "name": "stdout",
     "output_type": "stream",
     "text": [
      "2025-04-22 16:32:17,696 - INFO - Downloaded logs_4u2g8fgm:v0 to /scratch/downloaded_artifacts/logs_4u2g8fgm:v0\n"
     ]
    },
    {
     "name": "stderr",
     "output_type": "stream",
     "text": [
      "\u001b[34m\u001b[1mwandb\u001b[0m:   1 of 1 files downloaded.  \n"
     ]
    },
    {
     "name": "stdout",
     "output_type": "stream",
     "text": [
      "2025-04-22 16:32:18,111 - INFO - Downloaded logs_0fo6p6zn:v0 to /scratch/downloaded_artifacts/logs_0fo6p6zn:v0\n"
     ]
    },
    {
     "name": "stderr",
     "output_type": "stream",
     "text": [
      "\u001b[34m\u001b[1mwandb\u001b[0m:   1 of 1 files downloaded.  \n"
     ]
    },
    {
     "name": "stdout",
     "output_type": "stream",
     "text": [
      "2025-04-22 16:32:18,123 - INFO - Downloaded logs_ak6hbk33:v0 to /scratch/downloaded_artifacts/logs_ak6hbk33:v0\n"
     ]
    },
    {
     "name": "stderr",
     "output_type": "stream",
     "text": [
      "\u001b[34m\u001b[1mwandb\u001b[0m:   1 of 1 files downloaded.  \n",
      "\u001b[34m\u001b[1mwandb\u001b[0m:   1 of 1 files downloaded.  \n"
     ]
    },
    {
     "name": "stdout",
     "output_type": "stream",
     "text": [
      "2025-04-22 16:32:18,166 - INFO - Downloaded logs_31qajdar:v0 to /scratch/downloaded_artifacts/logs_31qajdar:v0\n"
     ]
    },
    {
     "name": "stderr",
     "output_type": "stream",
     "text": [
      "\u001b[34m\u001b[1mwandb\u001b[0m:   1 of 1 files downloaded.  \n"
     ]
    },
    {
     "name": "stdout",
     "output_type": "stream",
     "text": [
      "2025-04-22 16:32:18,167 - INFO - Downloaded logs_8o8noh98:v0 to /scratch/downloaded_artifacts/logs_8o8noh98:v0\n",
      "2025-04-22 16:32:18,167 - INFO - Downloaded logs_5dyrils1:v0 to /scratch/downloaded_artifacts/logs_5dyrils1:v0\n"
     ]
    },
    {
     "name": "stderr",
     "output_type": "stream",
     "text": [
      "\u001b[34m\u001b[1mwandb\u001b[0m:   1 of 1 files downloaded.  \n"
     ]
    },
    {
     "name": "stdout",
     "output_type": "stream",
     "text": [
      "2025-04-22 16:32:18,372 - INFO - Downloaded logs_8izndmtd:v0 to /scratch/downloaded_artifacts/logs_8izndmtd:v0\n"
     ]
    },
    {
     "name": "stderr",
     "output_type": "stream",
     "text": [
      "\u001b[34m\u001b[1mwandb\u001b[0m:   1 of 1 files downloaded.  \n",
      "\u001b[34m\u001b[1mwandb\u001b[0m:   1 of 1 files downloaded.  \n"
     ]
    },
    {
     "name": "stdout",
     "output_type": "stream",
     "text": [
      "2025-04-22 16:32:18,755 - INFO - Downloaded logs_cvlvsngr:v0 to /scratch/downloaded_artifacts/logs_cvlvsngr:v0\n",
      "2025-04-22 16:32:18,755 - INFO - Downloaded logs_cv6zvjo7:v0 to /scratch/downloaded_artifacts/logs_cv6zvjo7:v0\n"
     ]
    },
    {
     "name": "stderr",
     "output_type": "stream",
     "text": [
      "\u001b[34m\u001b[1mwandb\u001b[0m:   1 of 1 files downloaded.  \n",
      "\u001b[34m\u001b[1mwandb\u001b[0m:   1 of 1 files downloaded.  \n"
     ]
    },
    {
     "name": "stdout",
     "output_type": "stream",
     "text": [
      "2025-04-22 16:32:18,770 - INFO - Downloaded logs_dgwap6jm:v0 to /scratch/downloaded_artifacts/logs_dgwap6jm:v0\n",
      "2025-04-22 16:32:18,774 - INFO - Downloaded logs_jhr98fww:v0 to /scratch/downloaded_artifacts/logs_jhr98fww:v0\n"
     ]
    },
    {
     "name": "stderr",
     "output_type": "stream",
     "text": [
      "\u001b[34m\u001b[1mwandb\u001b[0m:   1 of 1 files downloaded.  \n"
     ]
    },
    {
     "name": "stdout",
     "output_type": "stream",
     "text": [
      "2025-04-22 16:32:18,785 - INFO - Downloaded logs_btdzxmog:v0 to /scratch/downloaded_artifacts/logs_btdzxmog:v0\n"
     ]
    },
    {
     "name": "stderr",
     "output_type": "stream",
     "text": [
      "\u001b[34m\u001b[1mwandb\u001b[0m:   1 of 1 files downloaded.  \n"
     ]
    },
    {
     "name": "stdout",
     "output_type": "stream",
     "text": [
      "2025-04-22 16:32:18,788 - INFO - Downloaded logs_lzkvlxj7:v0 to /scratch/downloaded_artifacts/logs_lzkvlxj7:v0\n"
     ]
    },
    {
     "name": "stderr",
     "output_type": "stream",
     "text": [
      "\u001b[34m\u001b[1mwandb\u001b[0m:   1 of 1 files downloaded.  \n"
     ]
    },
    {
     "name": "stdout",
     "output_type": "stream",
     "text": [
      "2025-04-22 16:32:18,809 - INFO - Downloaded logs_rfuoe7h7:v0 to /scratch/downloaded_artifacts/logs_rfuoe7h7:v0\n"
     ]
    },
    {
     "name": "stderr",
     "output_type": "stream",
     "text": [
      "\u001b[34m\u001b[1mwandb\u001b[0m:   1 of 1 files downloaded.  \n"
     ]
    },
    {
     "name": "stdout",
     "output_type": "stream",
     "text": [
      "2025-04-22 16:32:18,825 - INFO - Downloaded logs_s5337l94:v0 to /scratch/downloaded_artifacts/logs_s5337l94:v0\n"
     ]
    },
    {
     "name": "stderr",
     "output_type": "stream",
     "text": [
      "\u001b[34m\u001b[1mwandb\u001b[0m:   1 of 1 files downloaded.  \n"
     ]
    },
    {
     "name": "stdout",
     "output_type": "stream",
     "text": [
      "2025-04-22 16:32:19,146 - INFO - Downloaded logs_t53bup5u:v0 to /scratch/downloaded_artifacts/logs_t53bup5u:v0\n"
     ]
    },
    {
     "name": "stderr",
     "output_type": "stream",
     "text": [
      "\u001b[34m\u001b[1mwandb\u001b[0m:   1 of 1 files downloaded.  \n"
     ]
    },
    {
     "name": "stdout",
     "output_type": "stream",
     "text": [
      "2025-04-22 16:32:19,282 - INFO - Downloaded logs_sohxtx06:v0 to /scratch/downloaded_artifacts/logs_sohxtx06:v0\n"
     ]
    },
    {
     "name": "stderr",
     "output_type": "stream",
     "text": [
      "\u001b[34m\u001b[1mwandb\u001b[0m:   1 of 1 files downloaded.  \n"
     ]
    },
    {
     "name": "stdout",
     "output_type": "stream",
     "text": [
      "2025-04-22 16:32:19,400 - INFO - Downloaded logs_wd6eev2x:v0 to /scratch/downloaded_artifacts/logs_wd6eev2x:v0\n"
     ]
    },
    {
     "name": "stderr",
     "output_type": "stream",
     "text": [
      "\u001b[34m\u001b[1mwandb\u001b[0m:   1 of 1 files downloaded.  \n"
     ]
    },
    {
     "name": "stdout",
     "output_type": "stream",
     "text": [
      "2025-04-22 16:32:19,519 - INFO - Downloaded logs_vzsqr5oq:v0 to /scratch/downloaded_artifacts/logs_vzsqr5oq:v0\n"
     ]
    },
    {
     "name": "stderr",
     "output_type": "stream",
     "text": [
      "\u001b[34m\u001b[1mwandb\u001b[0m:   1 of 1 files downloaded.  \n",
      "\u001b[34m\u001b[1mwandb\u001b[0m:   1 of 1 files downloaded.  \n"
     ]
    },
    {
     "name": "stdout",
     "output_type": "stream",
     "text": [
      "2025-04-22 16:32:19,854 - INFO - Downloaded logs_vp75vu00:v0 to /scratch/downloaded_artifacts/logs_vp75vu00:v0\n"
     ]
    },
    {
     "name": "stderr",
     "output_type": "stream",
     "text": [
      "\u001b[34m\u001b[1mwandb\u001b[0m:   1 of 1 files downloaded.  \n"
     ]
    },
    {
     "name": "stdout",
     "output_type": "stream",
     "text": [
      "2025-04-22 16:32:19,952 - INFO - Downloaded logs_rp8j1g07:v0 to /scratch/downloaded_artifacts/logs_rp8j1g07:v0\n"
     ]
    },
    {
     "name": "stderr",
     "output_type": "stream",
     "text": [
      "\u001b[34m\u001b[1mwandb\u001b[0m:   1 of 1 files downloaded.  \n"
     ]
    },
    {
     "name": "stdout",
     "output_type": "stream",
     "text": [
      "2025-04-22 16:32:19,969 - INFO - Downloaded logs_ouy5p0bw:v0 to /scratch/downloaded_artifacts/logs_ouy5p0bw:v0\n"
     ]
    },
    {
     "name": "stderr",
     "output_type": "stream",
     "text": [
      "\u001b[34m\u001b[1mwandb\u001b[0m:   1 of 1 files downloaded.  \n"
     ]
    },
    {
     "name": "stdout",
     "output_type": "stream",
     "text": [
      "2025-04-22 16:32:19,974 - INFO - Downloaded logs_b8mtxchf:v0 to /scratch/downloaded_artifacts/logs_b8mtxchf:v0\n",
      "2025-04-22 16:32:20,035 - INFO - Downloaded logs_9o0s49mi:v0 to /scratch/downloaded_artifacts/logs_9o0s49mi:v0\n"
     ]
    },
    {
     "name": "stderr",
     "output_type": "stream",
     "text": [
      "\u001b[34m\u001b[1mwandb\u001b[0m:   1 of 1 files downloaded.  \n"
     ]
    },
    {
     "name": "stdout",
     "output_type": "stream",
     "text": [
      "2025-04-22 16:32:20,135 - INFO - Downloaded logs_dsb86awe:v0 to /scratch/downloaded_artifacts/logs_dsb86awe:v0\n"
     ]
    },
    {
     "name": "stderr",
     "output_type": "stream",
     "text": [
      "\u001b[34m\u001b[1mwandb\u001b[0m:   1 of 1 files downloaded.  \n"
     ]
    },
    {
     "name": "stdout",
     "output_type": "stream",
     "text": [
      "2025-04-22 16:32:20,143 - INFO - Downloaded logs_6rlquk2z:v0 to /scratch/downloaded_artifacts/logs_6rlquk2z:v0\n"
     ]
    },
    {
     "name": "stderr",
     "output_type": "stream",
     "text": [
      "\u001b[34m\u001b[1mwandb\u001b[0m:   1 of 1 files downloaded.  \n"
     ]
    },
    {
     "name": "stdout",
     "output_type": "stream",
     "text": [
      "2025-04-22 16:32:20,171 - INFO - Downloaded logs_ebxisjqj:v0 to /scratch/downloaded_artifacts/logs_ebxisjqj:v0\n"
     ]
    },
    {
     "name": "stderr",
     "output_type": "stream",
     "text": [
      "\u001b[34m\u001b[1mwandb\u001b[0m:   1 of 1 files downloaded.  \n",
      "\u001b[34m\u001b[1mwandb\u001b[0m:   1 of 1 files downloaded.  \n"
     ]
    },
    {
     "name": "stdout",
     "output_type": "stream",
     "text": [
      "2025-04-22 16:32:20,202 - INFO - Downloaded logs_9u31a37c:v0 to /scratch/downloaded_artifacts/logs_9u31a37c:v0\n",
      "2025-04-22 16:32:20,204 - INFO - Downloaded logs_goiepyc1:v0 to /scratch/downloaded_artifacts/logs_goiepyc1:v0\n"
     ]
    },
    {
     "name": "stderr",
     "output_type": "stream",
     "text": [
      "\u001b[34m\u001b[1mwandb\u001b[0m:   1 of 1 files downloaded.  \n"
     ]
    },
    {
     "name": "stdout",
     "output_type": "stream",
     "text": [
      "2025-04-22 16:32:20,211 - INFO - Downloaded logs_hrq8pfbb:v0 to /scratch/downloaded_artifacts/logs_hrq8pfbb:v0\n"
     ]
    },
    {
     "name": "stderr",
     "output_type": "stream",
     "text": [
      "\u001b[34m\u001b[1mwandb\u001b[0m:   1 of 1 files downloaded.  \n"
     ]
    },
    {
     "name": "stdout",
     "output_type": "stream",
     "text": [
      "2025-04-22 16:32:20,235 - INFO - Downloaded logs_9c74ec7t:v0 to /scratch/downloaded_artifacts/logs_9c74ec7t:v0\n"
     ]
    },
    {
     "name": "stderr",
     "output_type": "stream",
     "text": [
      "\u001b[34m\u001b[1mwandb\u001b[0m:   1 of 1 files downloaded.  \n"
     ]
    },
    {
     "name": "stdout",
     "output_type": "stream",
     "text": [
      "2025-04-22 16:32:20,238 - INFO - Downloaded logs_4vv95wdr:v0 to /scratch/downloaded_artifacts/logs_4vv95wdr:v0\n"
     ]
    },
    {
     "name": "stderr",
     "output_type": "stream",
     "text": [
      "\u001b[34m\u001b[1mwandb\u001b[0m:   1 of 1 files downloaded.  \n"
     ]
    },
    {
     "name": "stdout",
     "output_type": "stream",
     "text": [
      "2025-04-22 16:32:20,252 - INFO - Downloaded logs_sbvqvxfp:v0 to /scratch/downloaded_artifacts/logs_sbvqvxfp:v0\n"
     ]
    },
    {
     "name": "stderr",
     "output_type": "stream",
     "text": [
      "\u001b[34m\u001b[1mwandb\u001b[0m:   1 of 1 files downloaded.  \n"
     ]
    },
    {
     "name": "stdout",
     "output_type": "stream",
     "text": [
      "2025-04-22 16:32:20,704 - INFO - Downloaded logs_m0b52lmu:v0 to /scratch/downloaded_artifacts/logs_m0b52lmu:v0\n"
     ]
    },
    {
     "name": "stderr",
     "output_type": "stream",
     "text": [
      "\u001b[34m\u001b[1mwandb\u001b[0m:   1 of 1 files downloaded.  \n"
     ]
    },
    {
     "name": "stdout",
     "output_type": "stream",
     "text": [
      "2025-04-22 16:32:20,710 - INFO - Downloaded logs_ai0erp2e:v0 to /scratch/downloaded_artifacts/logs_ai0erp2e:v0\n"
     ]
    },
    {
     "name": "stderr",
     "output_type": "stream",
     "text": [
      "\u001b[34m\u001b[1mwandb\u001b[0m:   1 of 1 files downloaded.  \n"
     ]
    },
    {
     "name": "stdout",
     "output_type": "stream",
     "text": [
      "2025-04-22 16:32:20,770 - INFO - Downloaded logs_n4urfp5g:v0 to /scratch/downloaded_artifacts/logs_n4urfp5g:v0\n"
     ]
    },
    {
     "name": "stderr",
     "output_type": "stream",
     "text": [
      "\u001b[34m\u001b[1mwandb\u001b[0m:   1 of 1 files downloaded.  \n"
     ]
    },
    {
     "name": "stdout",
     "output_type": "stream",
     "text": [
      "2025-04-22 16:32:20,773 - INFO - Downloaded logs_kpnbmdo6:v0 to /scratch/downloaded_artifacts/logs_kpnbmdo6:v0\n"
     ]
    },
    {
     "name": "stderr",
     "output_type": "stream",
     "text": [
      "\u001b[34m\u001b[1mwandb\u001b[0m:   1 of 1 files downloaded.  \n"
     ]
    },
    {
     "name": "stdout",
     "output_type": "stream",
     "text": [
      "2025-04-22 16:32:21,250 - INFO - Downloaded logs_1xeq09op:v0 to /scratch/downloaded_artifacts/logs_1xeq09op:v0\n"
     ]
    },
    {
     "name": "stderr",
     "output_type": "stream",
     "text": [
      "\u001b[34m\u001b[1mwandb\u001b[0m:   1 of 1 files downloaded.  \n"
     ]
    },
    {
     "name": "stdout",
     "output_type": "stream",
     "text": [
      "2025-04-22 16:32:21,374 - INFO - Downloaded logs_omo8ovbi:v0 to /scratch/downloaded_artifacts/logs_omo8ovbi:v0\n"
     ]
    },
    {
     "name": "stderr",
     "output_type": "stream",
     "text": [
      "\u001b[34m\u001b[1mwandb\u001b[0m:   1 of 1 files downloaded.  \n",
      "\u001b[34m\u001b[1mwandb\u001b[0m:   1 of 1 files downloaded.  \n"
     ]
    },
    {
     "name": "stdout",
     "output_type": "stream",
     "text": [
      "2025-04-22 16:32:21,627 - INFO - Downloaded logs_19vd7y15:v0 to /scratch/downloaded_artifacts/logs_19vd7y15:v0\n",
      "2025-04-22 16:32:21,639 - INFO - Downloaded logs_p2mlnnd7:v0 to /scratch/downloaded_artifacts/logs_p2mlnnd7:v0\n"
     ]
    },
    {
     "name": "stderr",
     "output_type": "stream",
     "text": [
      "\u001b[34m\u001b[1mwandb\u001b[0m:   1 of 1 files downloaded.  \n",
      "\u001b[34m\u001b[1mwandb\u001b[0m:   1 of 1 files downloaded.  \n",
      "\u001b[34m\u001b[1mwandb\u001b[0m:   1 of 1 files downloaded.  \n"
     ]
    },
    {
     "name": "stdout",
     "output_type": "stream",
     "text": [
      "2025-04-22 16:32:21,655 - INFO - Downloaded logs_qj39zvt5:v0 to /scratch/downloaded_artifacts/logs_qj39zvt5:v0\n",
      "2025-04-22 16:32:21,659 - INFO - Downloaded logs_0e60mh05:v0 to /scratch/downloaded_artifacts/logs_0e60mh05:v0\n",
      "2025-04-22 16:32:21,660 - INFO - Downloaded logs_365rad8h:v0 to /scratch/downloaded_artifacts/logs_365rad8h:v0\n"
     ]
    },
    {
     "name": "stderr",
     "output_type": "stream",
     "text": [
      "\u001b[34m\u001b[1mwandb\u001b[0m:   1 of 1 files downloaded.  \n",
      "\u001b[34m\u001b[1mwandb\u001b[0m:   1 of 1 files downloaded.  \n"
     ]
    },
    {
     "name": "stdout",
     "output_type": "stream",
     "text": [
      "2025-04-22 16:32:21,735 - INFO - Downloaded logs_g7lmtb83:v0 to /scratch/downloaded_artifacts/logs_g7lmtb83:v0\n"
     ]
    },
    {
     "name": "stderr",
     "output_type": "stream",
     "text": [
      "\u001b[34m\u001b[1mwandb\u001b[0m:   1 of 1 files downloaded.  \n",
      "\u001b[34m\u001b[1mwandb\u001b[0m:   1 of 1 files downloaded.  \n"
     ]
    },
    {
     "name": "stdout",
     "output_type": "stream",
     "text": [
      "2025-04-22 16:32:21,735 - INFO - Downloaded logs_2rv52y12:v0 to /scratch/downloaded_artifacts/logs_2rv52y12:v0\n",
      "2025-04-22 16:32:21,743 - INFO - Downloaded logs_3s17hgn3:v0 to /scratch/downloaded_artifacts/logs_3s17hgn3:v0\n"
     ]
    },
    {
     "name": "stderr",
     "output_type": "stream",
     "text": [
      "\u001b[34m\u001b[1mwandb\u001b[0m:   1 of 1 files downloaded.  \n"
     ]
    },
    {
     "name": "stdout",
     "output_type": "stream",
     "text": [
      "2025-04-22 16:32:21,743 - INFO - Downloaded logs_ya7s9ny9:v0 to /scratch/downloaded_artifacts/logs_ya7s9ny9:v0\n",
      "2025-04-22 16:32:21,753 - INFO - Downloaded logs_62ayamq1:v0 to /scratch/downloaded_artifacts/logs_62ayamq1:v0\n"
     ]
    },
    {
     "name": "stderr",
     "output_type": "stream",
     "text": [
      "\u001b[34m\u001b[1mwandb\u001b[0m:   1 of 1 files downloaded.  \n",
      "\u001b[34m\u001b[1mwandb\u001b[0m:   1 of 1 files downloaded.  \n"
     ]
    },
    {
     "name": "stdout",
     "output_type": "stream",
     "text": [
      "2025-04-22 16:32:21,765 - INFO - Downloaded logs_sxln5b6s:v0 to /scratch/downloaded_artifacts/logs_sxln5b6s:v0\n",
      "2025-04-22 16:32:21,767 - INFO - Downloaded logs_acype60t:v0 to /scratch/downloaded_artifacts/logs_acype60t:v0\n"
     ]
    },
    {
     "name": "stderr",
     "output_type": "stream",
     "text": [
      "\u001b[34m\u001b[1mwandb\u001b[0m:   1 of 1 files downloaded.  \n"
     ]
    },
    {
     "name": "stdout",
     "output_type": "stream",
     "text": [
      "2025-04-22 16:32:21,779 - INFO - Downloaded logs_xute8qut:v0 to /scratch/downloaded_artifacts/logs_xute8qut:v0\n"
     ]
    },
    {
     "name": "stderr",
     "output_type": "stream",
     "text": [
      "\u001b[34m\u001b[1mwandb\u001b[0m:   1 of 1 files downloaded.  \n"
     ]
    },
    {
     "name": "stdout",
     "output_type": "stream",
     "text": [
      "2025-04-22 16:32:22,121 - INFO - Downloaded logs_c63ofvfm:v0 to /scratch/downloaded_artifacts/logs_c63ofvfm:v0\n"
     ]
    },
    {
     "name": "stderr",
     "output_type": "stream",
     "text": [
      "\u001b[34m\u001b[1mwandb\u001b[0m:   1 of 1 files downloaded.  \n"
     ]
    },
    {
     "name": "stdout",
     "output_type": "stream",
     "text": [
      "2025-04-22 16:32:22,134 - INFO - Downloaded logs_d4fhvsr5:v0 to /scratch/downloaded_artifacts/logs_d4fhvsr5:v0\n"
     ]
    },
    {
     "name": "stderr",
     "output_type": "stream",
     "text": [
      "\u001b[34m\u001b[1mwandb\u001b[0m:   1 of 1 files downloaded.  \n"
     ]
    },
    {
     "name": "stdout",
     "output_type": "stream",
     "text": [
      "2025-04-22 16:32:22,137 - INFO - Downloaded logs_d59tt28u:v0 to /scratch/downloaded_artifacts/logs_d59tt28u:v0\n"
     ]
    },
    {
     "name": "stderr",
     "output_type": "stream",
     "text": [
      "\u001b[34m\u001b[1mwandb\u001b[0m:   1 of 1 files downloaded.  \n"
     ]
    },
    {
     "name": "stdout",
     "output_type": "stream",
     "text": [
      "2025-04-22 16:32:22,209 - INFO - Downloaded logs_datxq9nq:v0 to /scratch/downloaded_artifacts/logs_datxq9nq:v0\n"
     ]
    },
    {
     "name": "stderr",
     "output_type": "stream",
     "text": [
      "\u001b[34m\u001b[1mwandb\u001b[0m:   1 of 1 files downloaded.  \n"
     ]
    },
    {
     "name": "stdout",
     "output_type": "stream",
     "text": [
      "2025-04-22 16:32:22,930 - INFO - Downloaded logs_dmo5tqp3:v0 to /scratch/downloaded_artifacts/logs_dmo5tqp3:v0\n"
     ]
    },
    {
     "name": "stderr",
     "output_type": "stream",
     "text": [
      "\u001b[34m\u001b[1mwandb\u001b[0m:   1 of 1 files downloaded.  \n"
     ]
    },
    {
     "name": "stdout",
     "output_type": "stream",
     "text": [
      "2025-04-22 16:32:23,206 - INFO - Downloaded logs_fv2jwild:v0 to /scratch/downloaded_artifacts/logs_fv2jwild:v0\n"
     ]
    },
    {
     "name": "stderr",
     "output_type": "stream",
     "text": [
      "\u001b[34m\u001b[1mwandb\u001b[0m:   1 of 1 files downloaded.  \n",
      "\u001b[34m\u001b[1mwandb\u001b[0m:   1 of 1 files downloaded.  \n"
     ]
    },
    {
     "name": "stdout",
     "output_type": "stream",
     "text": [
      "2025-04-22 16:32:23,213 - INFO - Downloaded logs_ejs6jq1f:v0 to /scratch/downloaded_artifacts/logs_ejs6jq1f:v0\n",
      "2025-04-22 16:32:23,219 - INFO - Downloaded logs_ds0dovqy:v0 to /scratch/downloaded_artifacts/logs_ds0dovqy:v0\n"
     ]
    },
    {
     "name": "stderr",
     "output_type": "stream",
     "text": [
      "\u001b[34m\u001b[1mwandb\u001b[0m:   1 of 1 files downloaded.  \n"
     ]
    },
    {
     "name": "stdout",
     "output_type": "stream",
     "text": [
      "2025-04-22 16:32:23,254 - INFO - Downloaded logs_i02p38jh:v0 to /scratch/downloaded_artifacts/logs_i02p38jh:v0\n"
     ]
    },
    {
     "name": "stderr",
     "output_type": "stream",
     "text": [
      "\u001b[34m\u001b[1mwandb\u001b[0m:   1 of 1 files downloaded.  \n"
     ]
    },
    {
     "name": "stdout",
     "output_type": "stream",
     "text": [
      "2025-04-22 16:32:23,277 - INFO - Downloaded logs_ezigf2yc:v0 to /scratch/downloaded_artifacts/logs_ezigf2yc:v0\n"
     ]
    },
    {
     "name": "stderr",
     "output_type": "stream",
     "text": [
      "\u001b[34m\u001b[1mwandb\u001b[0m:   1 of 1 files downloaded.  \n"
     ]
    },
    {
     "name": "stdout",
     "output_type": "stream",
     "text": [
      "2025-04-22 16:32:23,293 - INFO - Downloaded logs_n8f4twzp:v0 to /scratch/downloaded_artifacts/logs_n8f4twzp:v0\n"
     ]
    },
    {
     "name": "stderr",
     "output_type": "stream",
     "text": [
      "\u001b[34m\u001b[1mwandb\u001b[0m:   1 of 1 files downloaded.  \n",
      "\u001b[34m\u001b[1mwandb\u001b[0m:   1 of 1 files downloaded.  \n"
     ]
    },
    {
     "name": "stdout",
     "output_type": "stream",
     "text": [
      "2025-04-22 16:32:23,300 - INFO - Downloaded logs_ea8kfa9e:v0 to /scratch/downloaded_artifacts/logs_ea8kfa9e:v0\n",
      "2025-04-22 16:32:23,300 - INFO - Downloaded logs_z9wbtvd7:v0 to /scratch/downloaded_artifacts/logs_z9wbtvd7:v0\n"
     ]
    },
    {
     "name": "stderr",
     "output_type": "stream",
     "text": [
      "\u001b[34m\u001b[1mwandb\u001b[0m:   1 of 1 files downloaded.  \n"
     ]
    },
    {
     "name": "stdout",
     "output_type": "stream",
     "text": [
      "2025-04-22 16:32:23,309 - INFO - Downloaded logs_uanrxh97:v0 to /scratch/downloaded_artifacts/logs_uanrxh97:v0\n"
     ]
    },
    {
     "name": "stderr",
     "output_type": "stream",
     "text": [
      "\u001b[34m\u001b[1mwandb\u001b[0m:   1 of 1 files downloaded.  \n"
     ]
    },
    {
     "name": "stdout",
     "output_type": "stream",
     "text": [
      "2025-04-22 16:32:23,323 - INFO - Downloaded logs_roydkk2a:v0 to /scratch/downloaded_artifacts/logs_roydkk2a:v0\n"
     ]
    },
    {
     "name": "stderr",
     "output_type": "stream",
     "text": [
      "\u001b[34m\u001b[1mwandb\u001b[0m:   1 of 1 files downloaded.  \n"
     ]
    },
    {
     "name": "stdout",
     "output_type": "stream",
     "text": [
      "2025-04-22 16:32:23,331 - INFO - Downloaded logs_qa7ds6mb:v0 to /scratch/downloaded_artifacts/logs_qa7ds6mb:v0\n"
     ]
    },
    {
     "name": "stderr",
     "output_type": "stream",
     "text": [
      "\u001b[34m\u001b[1mwandb\u001b[0m:   1 of 1 files downloaded.  \n"
     ]
    },
    {
     "name": "stdout",
     "output_type": "stream",
     "text": [
      "2025-04-22 16:32:23,337 - INFO - Downloaded logs_muz9slju:v0 to /scratch/downloaded_artifacts/logs_muz9slju:v0\n"
     ]
    },
    {
     "name": "stderr",
     "output_type": "stream",
     "text": [
      "\u001b[34m\u001b[1mwandb\u001b[0m:   1 of 1 files downloaded.  \n"
     ]
    },
    {
     "name": "stdout",
     "output_type": "stream",
     "text": [
      "2025-04-22 16:32:23,344 - INFO - Downloaded logs_o53kzrfv:v0 to /scratch/downloaded_artifacts/logs_o53kzrfv:v0\n"
     ]
    },
    {
     "name": "stderr",
     "output_type": "stream",
     "text": [
      "\u001b[34m\u001b[1mwandb\u001b[0m:   1 of 1 files downloaded.  \n"
     ]
    },
    {
     "name": "stdout",
     "output_type": "stream",
     "text": [
      "2025-04-22 16:32:23,473 - INFO - Downloaded logs_y1ctn8nd:v0 to /scratch/downloaded_artifacts/logs_y1ctn8nd:v0\n"
     ]
    },
    {
     "name": "stderr",
     "output_type": "stream",
     "text": [
      "\u001b[34m\u001b[1mwandb\u001b[0m:   1 of 1 files downloaded.  \n"
     ]
    },
    {
     "name": "stdout",
     "output_type": "stream",
     "text": [
      "2025-04-22 16:32:23,610 - INFO - Downloaded logs_f4scpc3b:v0 to /scratch/downloaded_artifacts/logs_f4scpc3b:v0\n"
     ]
    },
    {
     "name": "stderr",
     "output_type": "stream",
     "text": [
      "\u001b[34m\u001b[1mwandb\u001b[0m:   1 of 1 files downloaded.  \n"
     ]
    },
    {
     "name": "stdout",
     "output_type": "stream",
     "text": [
      "2025-04-22 16:32:23,625 - INFO - Downloaded logs_4kprypcs:v0 to /scratch/downloaded_artifacts/logs_4kprypcs:v0\n"
     ]
    },
    {
     "name": "stderr",
     "output_type": "stream",
     "text": [
      "\u001b[34m\u001b[1mwandb\u001b[0m:   1 of 1 files downloaded.  \n"
     ]
    },
    {
     "name": "stdout",
     "output_type": "stream",
     "text": [
      "2025-04-22 16:32:23,648 - INFO - Downloaded logs_k3n7qg1j:v0 to /scratch/downloaded_artifacts/logs_k3n7qg1j:v0\n"
     ]
    },
    {
     "name": "stderr",
     "output_type": "stream",
     "text": [
      "\u001b[34m\u001b[1mwandb\u001b[0m:   1 of 1 files downloaded.  \n"
     ]
    },
    {
     "name": "stdout",
     "output_type": "stream",
     "text": [
      "2025-04-22 16:32:23,712 - INFO - Downloaded logs_d9ag1zsm:v0 to /scratch/downloaded_artifacts/logs_d9ag1zsm:v0\n"
     ]
    },
    {
     "name": "stderr",
     "output_type": "stream",
     "text": [
      "\u001b[34m\u001b[1mwandb\u001b[0m:   1 of 1 files downloaded.  \n"
     ]
    },
    {
     "name": "stdout",
     "output_type": "stream",
     "text": [
      "2025-04-22 16:32:24,119 - INFO - Downloaded logs_8x8hb4wy:v0 to /scratch/downloaded_artifacts/logs_8x8hb4wy:v0\n"
     ]
    },
    {
     "name": "stderr",
     "output_type": "stream",
     "text": [
      "\u001b[34m\u001b[1mwandb\u001b[0m:   1 of 1 files downloaded.  \n"
     ]
    },
    {
     "name": "stdout",
     "output_type": "stream",
     "text": [
      "2025-04-22 16:32:24,126 - INFO - Downloaded logs_6peubimc:v0 to /scratch/downloaded_artifacts/logs_6peubimc:v0\n"
     ]
    },
    {
     "name": "stderr",
     "output_type": "stream",
     "text": [
      "\u001b[34m\u001b[1mwandb\u001b[0m:   1 of 1 files downloaded.  \n"
     ]
    },
    {
     "name": "stdout",
     "output_type": "stream",
     "text": [
      "2025-04-22 16:32:24,159 - INFO - Downloaded logs_01heistr:v0 to /scratch/downloaded_artifacts/logs_01heistr:v0\n"
     ]
    },
    {
     "name": "stderr",
     "output_type": "stream",
     "text": [
      "\u001b[34m\u001b[1mwandb\u001b[0m:   1 of 1 files downloaded.  \n"
     ]
    },
    {
     "name": "stdout",
     "output_type": "stream",
     "text": [
      "2025-04-22 16:32:24,602 - INFO - Downloaded logs_jnafav5i:v0 to /scratch/downloaded_artifacts/logs_jnafav5i:v0\n"
     ]
    },
    {
     "name": "stderr",
     "output_type": "stream",
     "text": [
      "\u001b[34m\u001b[1mwandb\u001b[0m:   1 of 1 files downloaded.  \n"
     ]
    },
    {
     "name": "stdout",
     "output_type": "stream",
     "text": [
      "2025-04-22 16:32:25,100 - INFO - Downloaded logs_kms9djng:v0 to /scratch/downloaded_artifacts/logs_kms9djng:v0\n"
     ]
    },
    {
     "name": "stderr",
     "output_type": "stream",
     "text": [
      "\u001b[34m\u001b[1mwandb\u001b[0m:   1 of 1 files downloaded.  \n"
     ]
    },
    {
     "name": "stdout",
     "output_type": "stream",
     "text": [
      "2025-04-22 16:32:25,153 - INFO - Downloaded logs_8rmq9qt0:v0 to /scratch/downloaded_artifacts/logs_8rmq9qt0:v0\n"
     ]
    },
    {
     "name": "stderr",
     "output_type": "stream",
     "text": [
      "\u001b[34m\u001b[1mwandb\u001b[0m:   1 of 1 files downloaded.  \n"
     ]
    },
    {
     "name": "stdout",
     "output_type": "stream",
     "text": [
      "2025-04-22 16:32:25,163 - INFO - Downloaded logs_4e736rdx:v0 to /scratch/downloaded_artifacts/logs_4e736rdx:v0\n"
     ]
    },
    {
     "name": "stderr",
     "output_type": "stream",
     "text": [
      "\u001b[34m\u001b[1mwandb\u001b[0m:   1 of 1 files downloaded.  \n"
     ]
    },
    {
     "name": "stdout",
     "output_type": "stream",
     "text": [
      "2025-04-22 16:32:25,171 - INFO - Downloaded logs_dwqcsbej:v0 to /scratch/downloaded_artifacts/logs_dwqcsbej:v0\n"
     ]
    },
    {
     "name": "stderr",
     "output_type": "stream",
     "text": [
      "\u001b[34m\u001b[1mwandb\u001b[0m:   1 of 1 files downloaded.  \n"
     ]
    },
    {
     "name": "stdout",
     "output_type": "stream",
     "text": [
      "2025-04-22 16:32:25,177 - INFO - Downloaded logs_78vpkq0n:v0 to /scratch/downloaded_artifacts/logs_78vpkq0n:v0\n"
     ]
    },
    {
     "name": "stderr",
     "output_type": "stream",
     "text": [
      "\u001b[34m\u001b[1mwandb\u001b[0m:   1 of 1 files downloaded.  \n"
     ]
    },
    {
     "name": "stdout",
     "output_type": "stream",
     "text": [
      "2025-04-22 16:32:25,185 - INFO - Downloaded logs_7e16wq08:v0 to /scratch/downloaded_artifacts/logs_7e16wq08:v0\n"
     ]
    },
    {
     "name": "stderr",
     "output_type": "stream",
     "text": [
      "\u001b[34m\u001b[1mwandb\u001b[0m:   1 of 1 files downloaded.  \n"
     ]
    },
    {
     "name": "stdout",
     "output_type": "stream",
     "text": [
      "2025-04-22 16:32:25,204 - INFO - Downloaded logs_evr6cv11:v0 to /scratch/downloaded_artifacts/logs_evr6cv11:v0\n"
     ]
    },
    {
     "name": "stderr",
     "output_type": "stream",
     "text": [
      "\u001b[34m\u001b[1mwandb\u001b[0m:   1 of 1 files downloaded.  \n",
      "\u001b[34m\u001b[1mwandb\u001b[0m:   1 of 1 files downloaded.  \n"
     ]
    },
    {
     "name": "stdout",
     "output_type": "stream",
     "text": [
      "2025-04-22 16:32:25,214 - INFO - Downloaded logs_c3ragn83:v0 to /scratch/downloaded_artifacts/logs_c3ragn83:v0\n"
     ]
    },
    {
     "name": "stderr",
     "output_type": "stream",
     "text": [
      "\u001b[34m\u001b[1mwandb\u001b[0m:   1 of 1 files downloaded.  \n"
     ]
    },
    {
     "name": "stdout",
     "output_type": "stream",
     "text": [
      "2025-04-22 16:32:25,216 - INFO - Downloaded logs_wavovhwr:v0 to /scratch/downloaded_artifacts/logs_wavovhwr:v0\n",
      "2025-04-22 16:32:25,217 - INFO - Downloaded logs_kmgrbeld:v0 to /scratch/downloaded_artifacts/logs_kmgrbeld:v0\n"
     ]
    },
    {
     "name": "stderr",
     "output_type": "stream",
     "text": [
      "\u001b[34m\u001b[1mwandb\u001b[0m:   1 of 1 files downloaded.  \n",
      "\u001b[34m\u001b[1mwandb\u001b[0m:   1 of 1 files downloaded.  \n"
     ]
    },
    {
     "name": "stdout",
     "output_type": "stream",
     "text": [
      "2025-04-22 16:32:25,229 - INFO - Downloaded logs_g56a8ix0:v0 to /scratch/downloaded_artifacts/logs_g56a8ix0:v0\n"
     ]
    },
    {
     "name": "stderr",
     "output_type": "stream",
     "text": [
      "\u001b[34m\u001b[1mwandb\u001b[0m:   1 of 1 files downloaded.  \n"
     ]
    },
    {
     "name": "stdout",
     "output_type": "stream",
     "text": [
      "2025-04-22 16:32:25,237 - INFO - Downloaded logs_6ymcpbrw:v0 to /scratch/downloaded_artifacts/logs_6ymcpbrw:v0\n"
     ]
    },
    {
     "name": "stderr",
     "output_type": "stream",
     "text": [
      "\u001b[34m\u001b[1mwandb\u001b[0m:   1 of 1 files downloaded.  \n"
     ]
    },
    {
     "name": "stdout",
     "output_type": "stream",
     "text": [
      "2025-04-22 16:32:25,240 - INFO - Downloaded logs_iy1zcqw3:v0 to /scratch/downloaded_artifacts/logs_iy1zcqw3:v0\n",
      "2025-04-22 16:32:25,243 - INFO - Downloaded logs_s1z7qw28:v0 to /scratch/downloaded_artifacts/logs_s1z7qw28:v0\n"
     ]
    },
    {
     "name": "stderr",
     "output_type": "stream",
     "text": [
      "\u001b[34m\u001b[1mwandb\u001b[0m:   1 of 1 files downloaded.  \n"
     ]
    },
    {
     "name": "stdout",
     "output_type": "stream",
     "text": [
      "2025-04-22 16:32:25,268 - INFO - Downloaded logs_hc2a3qwm:v0 to /scratch/downloaded_artifacts/logs_hc2a3qwm:v0\n"
     ]
    },
    {
     "name": "stderr",
     "output_type": "stream",
     "text": [
      "\u001b[34m\u001b[1mwandb\u001b[0m: \u001b[32m\u001b[41mERROR\u001b[0m Error while calling W&B API: rate limit exceeded (<Response [429]>)\n",
      "\u001b[34m\u001b[1mwandb\u001b[0m: \u001b[32m\u001b[41mERROR\u001b[0m Error while calling W&B API: rate limit exceeded (<Response [429]>)\n",
      "\u001b[34m\u001b[1mwandb\u001b[0m: \u001b[32m\u001b[41mERROR\u001b[0m Error while calling W&B API: rate limit exceeded (<Response [429]>)\n",
      "\u001b[34m\u001b[1mwandb\u001b[0m: \u001b[32m\u001b[41mERROR\u001b[0m Error while calling W&B API: rate limit exceeded (<Response [429]>)\n",
      "\u001b[34m\u001b[1mwandb\u001b[0m: \u001b[32m\u001b[41mERROR\u001b[0m Error while calling W&B API: rate limit exceeded (<Response [429]>)\n",
      "\u001b[34m\u001b[1mwandb\u001b[0m: \u001b[32m\u001b[41mERROR\u001b[0m Error while calling W&B API: rate limit exceeded (<Response [429]>)\n",
      "\u001b[34m\u001b[1mwandb\u001b[0m: \u001b[32m\u001b[41mERROR\u001b[0m Error while calling W&B API: rate limit exceeded (<Response [429]>)\n",
      "\u001b[34m\u001b[1mwandb\u001b[0m: \u001b[32m\u001b[41mERROR\u001b[0m Error while calling W&B API: rate limit exceeded (<Response [429]>)\n",
      "\u001b[34m\u001b[1mwandb\u001b[0m: \u001b[32m\u001b[41mERROR\u001b[0m Error while calling W&B API: rate limit exceeded (<Response [429]>)\n",
      "\u001b[34m\u001b[1mwandb\u001b[0m: \u001b[32m\u001b[41mERROR\u001b[0m Error while calling W&B API: rate limit exceeded (<Response [429]>)\n",
      "\u001b[34m\u001b[1mwandb\u001b[0m: \u001b[32m\u001b[41mERROR\u001b[0m Error while calling W&B API: rate limit exceeded (<Response [429]>)\n",
      "\u001b[34m\u001b[1mwandb\u001b[0m:   1 of 1 files downloaded.  \n"
     ]
    },
    {
     "name": "stdout",
     "output_type": "stream",
     "text": [
      "2025-04-22 16:32:25,468 - INFO - Downloaded logs_ymcwvtnc:v0 to /scratch/downloaded_artifacts/logs_ymcwvtnc:v0\n"
     ]
    },
    {
     "name": "stderr",
     "output_type": "stream",
     "text": [
      "\u001b[34m\u001b[1mwandb\u001b[0m: \u001b[32m\u001b[41mERROR\u001b[0m Error while calling W&B API: rate limit exceeded (<Response [429]>)\n",
      "\u001b[34m\u001b[1mwandb\u001b[0m: \u001b[32m\u001b[41mERROR\u001b[0m Error while calling W&B API: rate limit exceeded (<Response [429]>)\n",
      "\u001b[34m\u001b[1mwandb\u001b[0m:   1 of 1 files downloaded.  \n"
     ]
    },
    {
     "name": "stdout",
     "output_type": "stream",
     "text": [
      "2025-04-22 16:32:25,639 - INFO - Downloaded logs_rg7mayw5:v0 to /scratch/downloaded_artifacts/logs_rg7mayw5:v0\n"
     ]
    },
    {
     "name": "stderr",
     "output_type": "stream",
     "text": [
      "\u001b[34m\u001b[1mwandb\u001b[0m:   1 of 1 files downloaded.  \n"
     ]
    },
    {
     "name": "stdout",
     "output_type": "stream",
     "text": [
      "2025-04-22 16:32:25,691 - INFO - Downloaded logs_u47fqbf8:v0 to /scratch/downloaded_artifacts/logs_u47fqbf8:v0\n"
     ]
    },
    {
     "name": "stderr",
     "output_type": "stream",
     "text": [
      "\u001b[34m\u001b[1mwandb\u001b[0m: \u001b[32m\u001b[41mERROR\u001b[0m Error while calling W&B API: rate limit exceeded (<Response [429]>)\n",
      "\u001b[34m\u001b[1mwandb\u001b[0m: \u001b[32m\u001b[41mERROR\u001b[0m Error while calling W&B API: rate limit exceeded (<Response [429]>)\n",
      "\u001b[34m\u001b[1mwandb\u001b[0m: \u001b[32m\u001b[41mERROR\u001b[0m Error while calling W&B API: rate limit exceeded (<Response [429]>)\n",
      "\u001b[34m\u001b[1mwandb\u001b[0m: \u001b[32m\u001b[41mERROR\u001b[0m Error while calling W&B API: rate limit exceeded (<Response [429]>)\n",
      "\u001b[34m\u001b[1mwandb\u001b[0m: \u001b[32m\u001b[41mERROR\u001b[0m Error while calling W&B API: rate limit exceeded (<Response [429]>)\n",
      "\u001b[34m\u001b[1mwandb\u001b[0m: \u001b[32m\u001b[41mERROR\u001b[0m Error while calling W&B API: rate limit exceeded (<Response [429]>)\n",
      "\u001b[34m\u001b[1mwandb\u001b[0m: \u001b[32m\u001b[41mERROR\u001b[0m Error while calling W&B API: rate limit exceeded (<Response [429]>)\n",
      "\u001b[34m\u001b[1mwandb\u001b[0m: \u001b[32m\u001b[41mERROR\u001b[0m Error while calling W&B API: rate limit exceeded (<Response [429]>)\n",
      "\u001b[34m\u001b[1mwandb\u001b[0m: \u001b[32m\u001b[41mERROR\u001b[0m Error while calling W&B API: rate limit exceeded (<Response [429]>)\n",
      "\u001b[34m\u001b[1mwandb\u001b[0m: \u001b[32m\u001b[41mERROR\u001b[0m Error while calling W&B API: rate limit exceeded (<Response [429]>)\n",
      "\u001b[34m\u001b[1mwandb\u001b[0m: \u001b[32m\u001b[41mERROR\u001b[0m Error while calling W&B API: rate limit exceeded (<Response [429]>)\n",
      "\u001b[34m\u001b[1mwandb\u001b[0m: \u001b[32m\u001b[41mERROR\u001b[0m Error while calling W&B API: rate limit exceeded (<Response [429]>)\n",
      "\u001b[34m\u001b[1mwandb\u001b[0m: \u001b[32m\u001b[41mERROR\u001b[0m Error while calling W&B API: rate limit exceeded (<Response [429]>)\n",
      "\u001b[34m\u001b[1mwandb\u001b[0m: \u001b[32m\u001b[41mERROR\u001b[0m Error while calling W&B API: rate limit exceeded (<Response [429]>)\n",
      "\u001b[34m\u001b[1mwandb\u001b[0m: \u001b[32m\u001b[41mERROR\u001b[0m Error while calling W&B API: rate limit exceeded (<Response [429]>)\n",
      "\u001b[34m\u001b[1mwandb\u001b[0m: \u001b[32m\u001b[41mERROR\u001b[0m Error while calling W&B API: rate limit exceeded (<Response [429]>)\n",
      "\u001b[34m\u001b[1mwandb\u001b[0m: Network error (HTTPError), entering retry loop.\n",
      "\u001b[34m\u001b[1mwandb\u001b[0m: \u001b[32m\u001b[41mERROR\u001b[0m Error while calling W&B API: rate limit exceeded (<Response [429]>)\n",
      "\u001b[34m\u001b[1mwandb\u001b[0m: Network error (HTTPError), entering retry loop.\n",
      "\u001b[34m\u001b[1mwandb\u001b[0m: \u001b[32m\u001b[41mERROR\u001b[0m Error while calling W&B API: rate limit exceeded (<Response [429]>)\n",
      "\u001b[34m\u001b[1mwandb\u001b[0m: Network error (HTTPError), entering retry loop.\n",
      "\u001b[34m\u001b[1mwandb\u001b[0m: \u001b[32m\u001b[41mERROR\u001b[0m Error while calling W&B API: rate limit exceeded (<Response [429]>)\n",
      "\u001b[34m\u001b[1mwandb\u001b[0m: Network error (HTTPError), entering retry loop.\n",
      "\u001b[34m\u001b[1mwandb\u001b[0m: \u001b[32m\u001b[41mERROR\u001b[0m Error while calling W&B API: rate limit exceeded (<Response [429]>)\n",
      "\u001b[34m\u001b[1mwandb\u001b[0m: Network error (HTTPError), entering retry loop.\n",
      "\u001b[34m\u001b[1mwandb\u001b[0m: \u001b[32m\u001b[41mERROR\u001b[0m Error while calling W&B API: rate limit exceeded (<Response [429]>)\n",
      "\u001b[34m\u001b[1mwandb\u001b[0m: Network error (HTTPError), entering retry loop.\n",
      "\u001b[34m\u001b[1mwandb\u001b[0m: \u001b[32m\u001b[41mERROR\u001b[0m Error while calling W&B API: rate limit exceeded (<Response [429]>)\n",
      "\u001b[34m\u001b[1mwandb\u001b[0m: Network error (HTTPError), entering retry loop.\n",
      "\u001b[34m\u001b[1mwandb\u001b[0m: \u001b[32m\u001b[41mERROR\u001b[0m Error while calling W&B API: rate limit exceeded (<Response [429]>)\n",
      "\u001b[34m\u001b[1mwandb\u001b[0m: Network error (HTTPError), entering retry loop.\n",
      "\u001b[34m\u001b[1mwandb\u001b[0m: \u001b[32m\u001b[41mERROR\u001b[0m Error while calling W&B API: rate limit exceeded (<Response [429]>)\n",
      "\u001b[34m\u001b[1mwandb\u001b[0m: Network error (HTTPError), entering retry loop.\n",
      "\u001b[34m\u001b[1mwandb\u001b[0m: \u001b[32m\u001b[41mERROR\u001b[0m Error while calling W&B API: rate limit exceeded (<Response [429]>)\n",
      "\u001b[34m\u001b[1mwandb\u001b[0m: Network error (HTTPError), entering retry loop.\n",
      "\u001b[34m\u001b[1mwandb\u001b[0m: \u001b[32m\u001b[41mERROR\u001b[0m Error while calling W&B API: rate limit exceeded (<Response [429]>)\n",
      "\u001b[34m\u001b[1mwandb\u001b[0m: Network error (HTTPError), entering retry loop.\n",
      "\u001b[34m\u001b[1mwandb\u001b[0m: \u001b[32m\u001b[41mERROR\u001b[0m Error while calling W&B API: rate limit exceeded (<Response [429]>)\n",
      "\u001b[34m\u001b[1mwandb\u001b[0m: Network error (HTTPError), entering retry loop.\n",
      "\u001b[34m\u001b[1mwandb\u001b[0m: \u001b[32m\u001b[41mERROR\u001b[0m Error while calling W&B API: rate limit exceeded (<Response [429]>)\n",
      "\u001b[34m\u001b[1mwandb\u001b[0m: Network error (HTTPError), entering retry loop.\n",
      "\u001b[34m\u001b[1mwandb\u001b[0m: \u001b[32m\u001b[41mERROR\u001b[0m Error while calling W&B API: rate limit exceeded (<Response [429]>)\n",
      "\u001b[34m\u001b[1mwandb\u001b[0m: Network error (HTTPError), entering retry loop.\n",
      "\u001b[34m\u001b[1mwandb\u001b[0m:   1 of 1 files downloaded.  \n"
     ]
    },
    {
     "name": "stdout",
     "output_type": "stream",
     "text": [
      "2025-04-22 16:32:33,417 - INFO - Downloaded logs_1r50x2fe:v0 to /scratch/downloaded_artifacts/logs_1r50x2fe:v0\n"
     ]
    },
    {
     "name": "stderr",
     "output_type": "stream",
     "text": [
      "\u001b[34m\u001b[1mwandb\u001b[0m:   1 of 1 files downloaded.  \n"
     ]
    },
    {
     "name": "stdout",
     "output_type": "stream",
     "text": [
      "2025-04-22 16:32:33,452 - INFO - Downloaded logs_blpnb3ya:v0 to /scratch/downloaded_artifacts/logs_blpnb3ya:v0\n"
     ]
    },
    {
     "name": "stderr",
     "output_type": "stream",
     "text": [
      "\u001b[34m\u001b[1mwandb\u001b[0m:   1 of 1 files downloaded.  \n"
     ]
    },
    {
     "name": "stdout",
     "output_type": "stream",
     "text": [
      "2025-04-22 16:32:33,494 - INFO - Downloaded logs_jwohlxdv:v0 to /scratch/downloaded_artifacts/logs_jwohlxdv:v0\n"
     ]
    },
    {
     "name": "stderr",
     "output_type": "stream",
     "text": [
      "\u001b[34m\u001b[1mwandb\u001b[0m:   1 of 1 files downloaded.  \n"
     ]
    },
    {
     "name": "stdout",
     "output_type": "stream",
     "text": [
      "2025-04-22 16:32:33,654 - INFO - Downloaded logs_dskj9lbt:v0 to /scratch/downloaded_artifacts/logs_dskj9lbt:v0\n"
     ]
    },
    {
     "name": "stderr",
     "output_type": "stream",
     "text": [
      "\u001b[34m\u001b[1mwandb\u001b[0m:   1 of 1 files downloaded.  \n"
     ]
    },
    {
     "name": "stdout",
     "output_type": "stream",
     "text": [
      "2025-04-22 16:32:34,059 - INFO - Downloaded logs_bv43phg1:v0 to /scratch/downloaded_artifacts/logs_bv43phg1:v0\n"
     ]
    },
    {
     "name": "stderr",
     "output_type": "stream",
     "text": [
      "\u001b[34m\u001b[1mwandb\u001b[0m:   1 of 1 files downloaded.  \n"
     ]
    },
    {
     "name": "stdout",
     "output_type": "stream",
     "text": [
      "2025-04-22 16:32:34,107 - INFO - Downloaded logs_vyoezt04:v0 to /scratch/downloaded_artifacts/logs_vyoezt04:v0\n"
     ]
    },
    {
     "name": "stderr",
     "output_type": "stream",
     "text": [
      "\u001b[34m\u001b[1mwandb\u001b[0m:   1 of 1 files downloaded.  \n"
     ]
    },
    {
     "name": "stdout",
     "output_type": "stream",
     "text": [
      "2025-04-22 16:32:34,120 - INFO - Downloaded logs_1hsfmamx:v0 to /scratch/downloaded_artifacts/logs_1hsfmamx:v0\n"
     ]
    },
    {
     "name": "stderr",
     "output_type": "stream",
     "text": [
      "\u001b[34m\u001b[1mwandb\u001b[0m:   1 of 1 files downloaded.  \n"
     ]
    },
    {
     "name": "stdout",
     "output_type": "stream",
     "text": [
      "2025-04-22 16:32:34,133 - INFO - Downloaded logs_11azpi60:v0 to /scratch/downloaded_artifacts/logs_11azpi60:v0\n"
     ]
    },
    {
     "name": "stderr",
     "output_type": "stream",
     "text": [
      "\u001b[34m\u001b[1mwandb\u001b[0m:   1 of 1 files downloaded.  \n"
     ]
    },
    {
     "name": "stdout",
     "output_type": "stream",
     "text": [
      "2025-04-22 16:32:34,148 - INFO - Downloaded logs_upuu1jb4:v0 to /scratch/downloaded_artifacts/logs_upuu1jb4:v0\n"
     ]
    },
    {
     "name": "stderr",
     "output_type": "stream",
     "text": [
      "\u001b[34m\u001b[1mwandb\u001b[0m:   1 of 1 files downloaded.  \n"
     ]
    },
    {
     "name": "stdout",
     "output_type": "stream",
     "text": [
      "2025-04-22 16:32:34,151 - INFO - Downloaded logs_33thx4ee:v0 to /scratch/downloaded_artifacts/logs_33thx4ee:v0\n"
     ]
    },
    {
     "name": "stderr",
     "output_type": "stream",
     "text": [
      "\u001b[34m\u001b[1mwandb\u001b[0m:   1 of 1 files downloaded.  \n",
      "\u001b[34m\u001b[1mwandb\u001b[0m:   1 of 1 files downloaded.  \n"
     ]
    },
    {
     "name": "stdout",
     "output_type": "stream",
     "text": [
      "2025-04-22 16:32:34,166 - INFO - Downloaded logs_m22mx36b:v0 to /scratch/downloaded_artifacts/logs_m22mx36b:v0\n",
      "2025-04-22 16:32:34,167 - INFO - Downloaded logs_f8bdckp3:v0 to /scratch/downloaded_artifacts/logs_f8bdckp3:v0\n"
     ]
    },
    {
     "name": "stderr",
     "output_type": "stream",
     "text": [
      "\u001b[34m\u001b[1mwandb\u001b[0m:   1 of 1 files downloaded.  \n"
     ]
    },
    {
     "name": "stdout",
     "output_type": "stream",
     "text": [
      "2025-04-22 16:32:34,557 - INFO - Downloaded logs_sz5dwes8:v0 to /scratch/downloaded_artifacts/logs_sz5dwes8:v0\n"
     ]
    },
    {
     "name": "stderr",
     "output_type": "stream",
     "text": [
      "\u001b[34m\u001b[1mwandb\u001b[0m:   1 of 1 files downloaded.  \n"
     ]
    },
    {
     "name": "stdout",
     "output_type": "stream",
     "text": [
      "2025-04-22 16:32:34,618 - INFO - Downloaded logs_ue9zi4tk:v0 to /scratch/downloaded_artifacts/logs_ue9zi4tk:v0\n"
     ]
    },
    {
     "name": "stderr",
     "output_type": "stream",
     "text": [
      "\u001b[34m\u001b[1mwandb\u001b[0m:   1 of 1 files downloaded.  \n"
     ]
    },
    {
     "name": "stdout",
     "output_type": "stream",
     "text": [
      "2025-04-22 16:32:34,633 - INFO - Downloaded logs_1wzqmrkf:v0 to /scratch/downloaded_artifacts/logs_1wzqmrkf:v0\n"
     ]
    },
    {
     "name": "stderr",
     "output_type": "stream",
     "text": [
      "\u001b[34m\u001b[1mwandb\u001b[0m:   1 of 1 files downloaded.  \n"
     ]
    },
    {
     "name": "stdout",
     "output_type": "stream",
     "text": [
      "2025-04-22 16:32:34,636 - INFO - Downloaded logs_yzs23744:v0 to /scratch/downloaded_artifacts/logs_yzs23744:v0\n"
     ]
    },
    {
     "name": "stderr",
     "output_type": "stream",
     "text": [
      "\u001b[34m\u001b[1mwandb\u001b[0m:   1 of 1 files downloaded.  \n"
     ]
    },
    {
     "name": "stdout",
     "output_type": "stream",
     "text": [
      "2025-04-22 16:32:34,664 - INFO - Downloaded logs_y6ximjgj:v0 to /scratch/downloaded_artifacts/logs_y6ximjgj:v0\n"
     ]
    },
    {
     "name": "stderr",
     "output_type": "stream",
     "text": [
      "\u001b[34m\u001b[1mwandb\u001b[0m:   1 of 1 files downloaded.  \n"
     ]
    },
    {
     "name": "stdout",
     "output_type": "stream",
     "text": [
      "2025-04-22 16:32:34,676 - INFO - Downloaded logs_ql27l5c5:v0 to /scratch/downloaded_artifacts/logs_ql27l5c5:v0\n"
     ]
    },
    {
     "name": "stderr",
     "output_type": "stream",
     "text": [
      "\u001b[34m\u001b[1mwandb\u001b[0m:   1 of 1 files downloaded.  \n"
     ]
    },
    {
     "name": "stdout",
     "output_type": "stream",
     "text": [
      "2025-04-22 16:32:34,972 - INFO - Downloaded logs_iial12r1:v0 to /scratch/downloaded_artifacts/logs_iial12r1:v0\n"
     ]
    },
    {
     "name": "stderr",
     "output_type": "stream",
     "text": [
      "\u001b[34m\u001b[1mwandb\u001b[0m:   1 of 1 files downloaded.  \n",
      "\u001b[34m\u001b[1mwandb\u001b[0m:   1 of 1 files downloaded.  \n"
     ]
    },
    {
     "name": "stdout",
     "output_type": "stream",
     "text": [
      "2025-04-22 16:32:35,148 - INFO - Downloaded logs_sctrgv0c:v0 to /scratch/downloaded_artifacts/logs_sctrgv0c:v0\n",
      "2025-04-22 16:32:35,152 - INFO - Downloaded logs_sxk7auok:v0 to /scratch/downloaded_artifacts/logs_sxk7auok:v0\n"
     ]
    },
    {
     "name": "stderr",
     "output_type": "stream",
     "text": [
      "\u001b[34m\u001b[1mwandb\u001b[0m:   1 of 1 files downloaded.  \n"
     ]
    },
    {
     "name": "stdout",
     "output_type": "stream",
     "text": [
      "2025-04-22 16:32:35,167 - INFO - Downloaded logs_zjvfwsx3:v0 to /scratch/downloaded_artifacts/logs_zjvfwsx3:v0\n"
     ]
    },
    {
     "name": "stderr",
     "output_type": "stream",
     "text": [
      "\u001b[34m\u001b[1mwandb\u001b[0m:   1 of 1 files downloaded.  \n"
     ]
    },
    {
     "name": "stdout",
     "output_type": "stream",
     "text": [
      "2025-04-22 16:32:35,172 - INFO - Downloaded logs_nual1t4l:v0 to /scratch/downloaded_artifacts/logs_nual1t4l:v0\n"
     ]
    },
    {
     "name": "stderr",
     "output_type": "stream",
     "text": [
      "\u001b[34m\u001b[1mwandb\u001b[0m:   1 of 1 files downloaded.  \n"
     ]
    },
    {
     "name": "stdout",
     "output_type": "stream",
     "text": [
      "2025-04-22 16:32:35,202 - INFO - Downloaded logs_j783qkt7:v0 to /scratch/downloaded_artifacts/logs_j783qkt7:v0\n"
     ]
    },
    {
     "name": "stderr",
     "output_type": "stream",
     "text": [
      "\u001b[34m\u001b[1mwandb\u001b[0m:   1 of 1 files downloaded.  \n"
     ]
    },
    {
     "name": "stdout",
     "output_type": "stream",
     "text": [
      "2025-04-22 16:32:35,411 - INFO - Downloaded logs_sv8yem85:v0 to /scratch/downloaded_artifacts/logs_sv8yem85:v0\n"
     ]
    },
    {
     "name": "stderr",
     "output_type": "stream",
     "text": [
      "\u001b[34m\u001b[1mwandb\u001b[0m:   1 of 1 files downloaded.  \n",
      "\u001b[34m\u001b[1mwandb\u001b[0m:   1 of 1 files downloaded.  \n"
     ]
    },
    {
     "name": "stdout",
     "output_type": "stream",
     "text": [
      "2025-04-22 16:32:35,537 - INFO - Downloaded logs_0u5ddlui:v0 to /scratch/downloaded_artifacts/logs_0u5ddlui:v0\n",
      "2025-04-22 16:32:35,543 - INFO - Downloaded logs_1hbavxga:v0 to /scratch/downloaded_artifacts/logs_1hbavxga:v0\n"
     ]
    },
    {
     "name": "stderr",
     "output_type": "stream",
     "text": [
      "\u001b[34m\u001b[1mwandb\u001b[0m:   1 of 1 files downloaded.  \n",
      "\u001b[34m\u001b[1mwandb\u001b[0m:   1 of 1 files downloaded.  \n"
     ]
    },
    {
     "name": "stdout",
     "output_type": "stream",
     "text": [
      "2025-04-22 16:32:35,632 - INFO - Downloaded logs_475s4sto:v0 to /scratch/downloaded_artifacts/logs_475s4sto:v0\n"
     ]
    },
    {
     "name": "stderr",
     "output_type": "stream",
     "text": [
      "\u001b[34m\u001b[1mwandb\u001b[0m:   1 of 1 files downloaded.  \n"
     ]
    },
    {
     "name": "stdout",
     "output_type": "stream",
     "text": [
      "2025-04-22 16:32:35,634 - INFO - Downloaded logs_y4li8p3n:v0 to /scratch/downloaded_artifacts/logs_y4li8p3n:v0\n",
      "2025-04-22 16:32:35,637 - INFO - Downloaded logs_4i2xh5vu:v0 to /scratch/downloaded_artifacts/logs_4i2xh5vu:v0\n"
     ]
    },
    {
     "name": "stderr",
     "output_type": "stream",
     "text": [
      "\u001b[34m\u001b[1mwandb\u001b[0m:   1 of 1 files downloaded.  \n",
      "\u001b[34m\u001b[1mwandb\u001b[0m:   1 of 1 files downloaded.  \n"
     ]
    },
    {
     "name": "stdout",
     "output_type": "stream",
     "text": [
      "2025-04-22 16:32:35,659 - INFO - Downloaded logs_6gpufr50:v0 to /scratch/downloaded_artifacts/logs_6gpufr50:v0\n",
      "2025-04-22 16:32:35,660 - INFO - Downloaded logs_0n8duxnw:v0 to /scratch/downloaded_artifacts/logs_0n8duxnw:v0\n"
     ]
    },
    {
     "name": "stderr",
     "output_type": "stream",
     "text": [
      "\u001b[34m\u001b[1mwandb\u001b[0m:   1 of 1 files downloaded.  \n"
     ]
    },
    {
     "name": "stdout",
     "output_type": "stream",
     "text": [
      "2025-04-22 16:32:35,869 - INFO - Downloaded logs_8i0364aw:v0 to /scratch/downloaded_artifacts/logs_8i0364aw:v0\n"
     ]
    },
    {
     "name": "stderr",
     "output_type": "stream",
     "text": [
      "\u001b[34m\u001b[1mwandb\u001b[0m:   1 of 1 files downloaded.  \n"
     ]
    },
    {
     "name": "stdout",
     "output_type": "stream",
     "text": [
      "2025-04-22 16:32:36,189 - INFO - Downloaded logs_9i3t9v9l:v0 to /scratch/downloaded_artifacts/logs_9i3t9v9l:v0\n"
     ]
    },
    {
     "name": "stderr",
     "output_type": "stream",
     "text": [
      "\u001b[34m\u001b[1mwandb\u001b[0m:   1 of 1 files downloaded.  \n"
     ]
    },
    {
     "name": "stdout",
     "output_type": "stream",
     "text": [
      "2025-04-22 16:32:36,320 - INFO - Downloaded logs_jqbuui90:v0 to /scratch/downloaded_artifacts/logs_jqbuui90:v0\n"
     ]
    },
    {
     "name": "stderr",
     "output_type": "stream",
     "text": [
      "\u001b[34m\u001b[1mwandb\u001b[0m:   1 of 1 files downloaded.  \n",
      "\u001b[34m\u001b[1mwandb\u001b[0m:   1 of 1 files downloaded.  \n"
     ]
    },
    {
     "name": "stdout",
     "output_type": "stream",
     "text": [
      "2025-04-22 16:32:36,327 - INFO - Downloaded logs_j195k74t:v0 to /scratch/downloaded_artifacts/logs_j195k74t:v0\n"
     ]
    },
    {
     "name": "stderr",
     "output_type": "stream",
     "text": [
      "\u001b[34m\u001b[1mwandb\u001b[0m:   1 of 1 files downloaded.  \n"
     ]
    },
    {
     "name": "stdout",
     "output_type": "stream",
     "text": [
      "2025-04-22 16:32:36,327 - INFO - Downloaded logs_gfmfoygz:v0 to /scratch/downloaded_artifacts/logs_gfmfoygz:v0\n",
      "2025-04-22 16:32:36,329 - INFO - Downloaded logs_cdcgdai4:v0 to /scratch/downloaded_artifacts/logs_cdcgdai4:v0\n"
     ]
    },
    {
     "name": "stderr",
     "output_type": "stream",
     "text": [
      "\u001b[34m\u001b[1mwandb\u001b[0m:   1 of 1 files downloaded.  \n"
     ]
    },
    {
     "name": "stdout",
     "output_type": "stream",
     "text": [
      "2025-04-22 16:32:36,342 - INFO - Downloaded logs_krg5sdqg:v0 to /scratch/downloaded_artifacts/logs_krg5sdqg:v0\n"
     ]
    },
    {
     "name": "stderr",
     "output_type": "stream",
     "text": [
      "\u001b[34m\u001b[1mwandb\u001b[0m:   1 of 1 files downloaded.  \n"
     ]
    },
    {
     "name": "stdout",
     "output_type": "stream",
     "text": [
      "2025-04-22 16:32:36,367 - INFO - Downloaded logs_nc3yktcc:v0 to /scratch/downloaded_artifacts/logs_nc3yktcc:v0\n"
     ]
    },
    {
     "name": "stderr",
     "output_type": "stream",
     "text": [
      "\u001b[34m\u001b[1mwandb\u001b[0m:   1 of 1 files downloaded.  \n"
     ]
    },
    {
     "name": "stdout",
     "output_type": "stream",
     "text": [
      "2025-04-22 16:32:36,403 - INFO - Downloaded logs_o676k6fl:v0 to /scratch/downloaded_artifacts/logs_o676k6fl:v0\n"
     ]
    },
    {
     "name": "stderr",
     "output_type": "stream",
     "text": [
      "\u001b[34m\u001b[1mwandb\u001b[0m:   1 of 1 files downloaded.  \n"
     ]
    },
    {
     "name": "stdout",
     "output_type": "stream",
     "text": [
      "2025-04-22 16:32:37,000 - INFO - Downloaded logs_ss17nv81:v0 to /scratch/downloaded_artifacts/logs_ss17nv81:v0\n"
     ]
    },
    {
     "name": "stderr",
     "output_type": "stream",
     "text": [
      "\u001b[34m\u001b[1mwandb\u001b[0m:   1 of 1 files downloaded.  \n"
     ]
    },
    {
     "name": "stdout",
     "output_type": "stream",
     "text": [
      "2025-04-22 16:32:37,040 - INFO - Downloaded logs_uxn3q6td:v0 to /scratch/downloaded_artifacts/logs_uxn3q6td:v0\n"
     ]
    },
    {
     "name": "stderr",
     "output_type": "stream",
     "text": [
      "\u001b[34m\u001b[1mwandb\u001b[0m:   1 of 1 files downloaded.  \n"
     ]
    },
    {
     "name": "stdout",
     "output_type": "stream",
     "text": [
      "2025-04-22 16:32:37,060 - INFO - Downloaded logs_w7ryh6b2:v0 to /scratch/downloaded_artifacts/logs_w7ryh6b2:v0\n"
     ]
    },
    {
     "name": "stderr",
     "output_type": "stream",
     "text": [
      "\u001b[34m\u001b[1mwandb\u001b[0m:   1 of 1 files downloaded.  \n"
     ]
    },
    {
     "name": "stdout",
     "output_type": "stream",
     "text": [
      "2025-04-22 16:32:37,153 - INFO - Downloaded logs_3pbgzbt2:v0 to /scratch/downloaded_artifacts/logs_3pbgzbt2:v0\n"
     ]
    },
    {
     "name": "stderr",
     "output_type": "stream",
     "text": [
      "\u001b[34m\u001b[1mwandb\u001b[0m:   1 of 1 files downloaded.  \n",
      "\u001b[34m\u001b[1mwandb\u001b[0m:   1 of 1 files downloaded.  \n"
     ]
    },
    {
     "name": "stdout",
     "output_type": "stream",
     "text": [
      "2025-04-22 16:32:37,162 - INFO - Downloaded logs_p32evn03:v0 to /scratch/downloaded_artifacts/logs_p32evn03:v0\n"
     ]
    },
    {
     "name": "stderr",
     "output_type": "stream",
     "text": [
      "\u001b[34m\u001b[1mwandb\u001b[0m:   1 of 1 files downloaded.  \n"
     ]
    },
    {
     "name": "stdout",
     "output_type": "stream",
     "text": [
      "2025-04-22 16:32:37,167 - INFO - Downloaded logs_veievuzu:v0 to /scratch/downloaded_artifacts/logs_veievuzu:v0\n"
     ]
    },
    {
     "name": "stderr",
     "output_type": "stream",
     "text": [
      "\u001b[34m\u001b[1mwandb\u001b[0m:   1 of 1 files downloaded.  \n"
     ]
    },
    {
     "name": "stdout",
     "output_type": "stream",
     "text": [
      "2025-04-22 16:32:37,169 - INFO - Downloaded logs_ai9xifdz:v0 to /scratch/downloaded_artifacts/logs_ai9xifdz:v0\n",
      "2025-04-22 16:32:37,171 - INFO - Downloaded logs_7s7om8lk:v0 to /scratch/downloaded_artifacts/logs_7s7om8lk:v0\n"
     ]
    },
    {
     "name": "stderr",
     "output_type": "stream",
     "text": [
      "\u001b[34m\u001b[1mwandb\u001b[0m:   1 of 1 files downloaded.  \n"
     ]
    },
    {
     "name": "stdout",
     "output_type": "stream",
     "text": [
      "2025-04-22 16:32:37,181 - INFO - Downloaded logs_1qqz90bc:v0 to /scratch/downloaded_artifacts/logs_1qqz90bc:v0\n"
     ]
    },
    {
     "name": "stderr",
     "output_type": "stream",
     "text": [
      "\u001b[34m\u001b[1mwandb\u001b[0m:   1 of 1 files downloaded.  \n"
     ]
    },
    {
     "name": "stdout",
     "output_type": "stream",
     "text": [
      "2025-04-22 16:32:37,461 - INFO - Downloaded logs_4c8of3bf:v0 to /scratch/downloaded_artifacts/logs_4c8of3bf:v0\n"
     ]
    },
    {
     "name": "stderr",
     "output_type": "stream",
     "text": [
      "\u001b[34m\u001b[1mwandb\u001b[0m:   1 of 1 files downloaded.  \n"
     ]
    },
    {
     "name": "stdout",
     "output_type": "stream",
     "text": [
      "2025-04-22 16:32:37,734 - INFO - Downloaded logs_yd963i4k:v0 to /scratch/downloaded_artifacts/logs_yd963i4k:v0\n"
     ]
    },
    {
     "name": "stderr",
     "output_type": "stream",
     "text": [
      "\u001b[34m\u001b[1mwandb\u001b[0m:   1 of 1 files downloaded.  \n"
     ]
    },
    {
     "name": "stdout",
     "output_type": "stream",
     "text": [
      "2025-04-22 16:32:37,850 - INFO - Downloaded logs_otyw1f5k:v0 to /scratch/downloaded_artifacts/logs_otyw1f5k:v0\n"
     ]
    },
    {
     "name": "stderr",
     "output_type": "stream",
     "text": [
      "\u001b[34m\u001b[1mwandb\u001b[0m:   1 of 1 files downloaded.  \n"
     ]
    },
    {
     "name": "stdout",
     "output_type": "stream",
     "text": [
      "2025-04-22 16:32:37,868 - INFO - Downloaded logs_bo1myq8y:v0 to /scratch/downloaded_artifacts/logs_bo1myq8y:v0\n"
     ]
    },
    {
     "name": "stderr",
     "output_type": "stream",
     "text": [
      "\u001b[34m\u001b[1mwandb\u001b[0m:   1 of 1 files downloaded.  \n"
     ]
    },
    {
     "name": "stdout",
     "output_type": "stream",
     "text": [
      "2025-04-22 16:32:37,906 - INFO - Downloaded logs_js32u2kf:v0 to /scratch/downloaded_artifacts/logs_js32u2kf:v0\n"
     ]
    },
    {
     "name": "stderr",
     "output_type": "stream",
     "text": [
      "\u001b[34m\u001b[1mwandb\u001b[0m:   1 of 1 files downloaded.  \n"
     ]
    },
    {
     "name": "stdout",
     "output_type": "stream",
     "text": [
      "2025-04-22 16:32:37,940 - INFO - Downloaded logs_po1mc0yd:v0 to /scratch/downloaded_artifacts/logs_po1mc0yd:v0\n"
     ]
    },
    {
     "name": "stderr",
     "output_type": "stream",
     "text": [
      "\u001b[34m\u001b[1mwandb\u001b[0m:   1 of 1 files downloaded.  \n"
     ]
    },
    {
     "name": "stdout",
     "output_type": "stream",
     "text": [
      "2025-04-22 16:32:38,131 - INFO - Downloaded logs_pok1jbn0:v0 to /scratch/downloaded_artifacts/logs_pok1jbn0:v0\n"
     ]
    },
    {
     "name": "stderr",
     "output_type": "stream",
     "text": [
      "\u001b[34m\u001b[1mwandb\u001b[0m:   1 of 1 files downloaded.  \n"
     ]
    },
    {
     "name": "stdout",
     "output_type": "stream",
     "text": [
      "2025-04-22 16:32:38,186 - INFO - Downloaded logs_czuuvv01:v0 to /scratch/downloaded_artifacts/logs_czuuvv01:v0\n"
     ]
    },
    {
     "name": "stderr",
     "output_type": "stream",
     "text": [
      "\u001b[34m\u001b[1mwandb\u001b[0m:   1 of 1 files downloaded.  \n"
     ]
    },
    {
     "name": "stdout",
     "output_type": "stream",
     "text": [
      "2025-04-22 16:32:38,584 - INFO - Downloaded logs_t4pdsomp:v0 to /scratch/downloaded_artifacts/logs_t4pdsomp:v0\n"
     ]
    },
    {
     "name": "stderr",
     "output_type": "stream",
     "text": [
      "\u001b[34m\u001b[1mwandb\u001b[0m:   1 of 1 files downloaded.  \n"
     ]
    },
    {
     "name": "stdout",
     "output_type": "stream",
     "text": [
      "2025-04-22 16:32:38,845 - INFO - Downloaded logs_40891wfb:v0 to /scratch/downloaded_artifacts/logs_40891wfb:v0\n"
     ]
    },
    {
     "name": "stderr",
     "output_type": "stream",
     "text": [
      "\u001b[34m\u001b[1mwandb\u001b[0m:   1 of 1 files downloaded.  \n"
     ]
    },
    {
     "name": "stdout",
     "output_type": "stream",
     "text": [
      "2025-04-22 16:32:38,848 - INFO - Downloaded logs_ea340t38:v0 to /scratch/downloaded_artifacts/logs_ea340t38:v0\n"
     ]
    },
    {
     "name": "stderr",
     "output_type": "stream",
     "text": [
      "\u001b[34m\u001b[1mwandb\u001b[0m:   1 of 1 files downloaded.  \n"
     ]
    },
    {
     "name": "stdout",
     "output_type": "stream",
     "text": [
      "2025-04-22 16:32:38,869 - INFO - Downloaded logs_o5kw47cs:v0 to /scratch/downloaded_artifacts/logs_o5kw47cs:v0\n"
     ]
    },
    {
     "name": "stderr",
     "output_type": "stream",
     "text": [
      "\u001b[34m\u001b[1mwandb\u001b[0m:   1 of 1 files downloaded.  \n"
     ]
    },
    {
     "name": "stdout",
     "output_type": "stream",
     "text": [
      "2025-04-22 16:32:38,878 - INFO - Downloaded logs_xtvxdc2e:v0 to /scratch/downloaded_artifacts/logs_xtvxdc2e:v0\n"
     ]
    },
    {
     "name": "stderr",
     "output_type": "stream",
     "text": [
      "\u001b[34m\u001b[1mwandb\u001b[0m:   1 of 1 files downloaded.  \n"
     ]
    },
    {
     "name": "stdout",
     "output_type": "stream",
     "text": [
      "2025-04-22 16:32:38,930 - INFO - Downloaded logs_t5lsulxe:v0 to /scratch/downloaded_artifacts/logs_t5lsulxe:v0\n"
     ]
    },
    {
     "name": "stderr",
     "output_type": "stream",
     "text": [
      "\u001b[34m\u001b[1mwandb\u001b[0m:   1 of 1 files downloaded.  \n",
      "\u001b[34m\u001b[1mwandb\u001b[0m:   1 of 1 files downloaded.  \n"
     ]
    },
    {
     "name": "stdout",
     "output_type": "stream",
     "text": [
      "2025-04-22 16:32:38,939 - INFO - Downloaded logs_wstw19up:v0 to /scratch/downloaded_artifacts/logs_wstw19up:v0\n",
      "2025-04-22 16:32:38,940 - INFO - Downloaded logs_koyc9gzr:v0 to /scratch/downloaded_artifacts/logs_koyc9gzr:v0\n"
     ]
    },
    {
     "name": "stderr",
     "output_type": "stream",
     "text": [
      "\u001b[34m\u001b[1mwandb\u001b[0m:   1 of 1 files downloaded.  \n"
     ]
    },
    {
     "name": "stdout",
     "output_type": "stream",
     "text": [
      "2025-04-22 16:32:38,957 - INFO - Downloaded logs_udz2ngim:v0 to /scratch/downloaded_artifacts/logs_udz2ngim:v0\n"
     ]
    },
    {
     "name": "stderr",
     "output_type": "stream",
     "text": [
      "\u001b[34m\u001b[1mwandb\u001b[0m:   1 of 1 files downloaded.  \n"
     ]
    },
    {
     "name": "stdout",
     "output_type": "stream",
     "text": [
      "2025-04-22 16:32:39,180 - INFO - Downloaded logs_zgwvrwvf:v0 to /scratch/downloaded_artifacts/logs_zgwvrwvf:v0\n"
     ]
    },
    {
     "name": "stderr",
     "output_type": "stream",
     "text": [
      "\u001b[34m\u001b[1mwandb\u001b[0m:   1 of 1 files downloaded.  \n"
     ]
    },
    {
     "name": "stdout",
     "output_type": "stream",
     "text": [
      "2025-04-22 16:32:39,371 - INFO - Downloaded logs_r77awago:v0 to /scratch/downloaded_artifacts/logs_r77awago:v0\n"
     ]
    },
    {
     "name": "stderr",
     "output_type": "stream",
     "text": [
      "\u001b[34m\u001b[1mwandb\u001b[0m:   1 of 1 files downloaded.  \n"
     ]
    },
    {
     "name": "stdout",
     "output_type": "stream",
     "text": [
      "2025-04-22 16:32:39,726 - INFO - Downloaded logs_oi6eayrq:v0 to /scratch/downloaded_artifacts/logs_oi6eayrq:v0\n"
     ]
    },
    {
     "name": "stderr",
     "output_type": "stream",
     "text": [
      "\u001b[34m\u001b[1mwandb\u001b[0m:   1 of 1 files downloaded.  \n"
     ]
    },
    {
     "name": "stdout",
     "output_type": "stream",
     "text": [
      "2025-04-22 16:32:39,785 - INFO - Downloaded logs_0tfzvxem:v0 to /scratch/downloaded_artifacts/logs_0tfzvxem:v0\n"
     ]
    },
    {
     "name": "stderr",
     "output_type": "stream",
     "text": [
      "\u001b[34m\u001b[1mwandb\u001b[0m:   1 of 1 files downloaded.  \n",
      "\u001b[34m\u001b[1mwandb\u001b[0m:   1 of 1 files downloaded.  \n"
     ]
    },
    {
     "name": "stdout",
     "output_type": "stream",
     "text": [
      "2025-04-22 16:32:39,851 - INFO - Downloaded logs_9veulyhz:v0 to /scratch/downloaded_artifacts/logs_9veulyhz:v0\n",
      "2025-04-22 16:32:39,852 - INFO - Downloaded logs_owpu9bbu:v0 to /scratch/downloaded_artifacts/logs_owpu9bbu:v0\n"
     ]
    },
    {
     "name": "stderr",
     "output_type": "stream",
     "text": [
      "\u001b[34m\u001b[1mwandb\u001b[0m:   1 of 1 files downloaded.  \n"
     ]
    },
    {
     "name": "stdout",
     "output_type": "stream",
     "text": [
      "2025-04-22 16:32:39,946 - INFO - Downloaded logs_35kflx2b:v0 to /scratch/downloaded_artifacts/logs_35kflx2b:v0\n"
     ]
    },
    {
     "name": "stderr",
     "output_type": "stream",
     "text": [
      "\u001b[34m\u001b[1mwandb\u001b[0m:   1 of 1 files downloaded.  \n"
     ]
    },
    {
     "name": "stdout",
     "output_type": "stream",
     "text": [
      "2025-04-22 16:32:40,050 - INFO - Downloaded logs_kzd07cc1:v0 to /scratch/downloaded_artifacts/logs_kzd07cc1:v0\n"
     ]
    },
    {
     "name": "stderr",
     "output_type": "stream",
     "text": [
      "\u001b[34m\u001b[1mwandb\u001b[0m:   1 of 1 files downloaded.  \n"
     ]
    },
    {
     "name": "stdout",
     "output_type": "stream",
     "text": [
      "2025-04-22 16:32:40,087 - INFO - Downloaded logs_tx46nbj2:v0 to /scratch/downloaded_artifacts/logs_tx46nbj2:v0\n"
     ]
    },
    {
     "name": "stderr",
     "output_type": "stream",
     "text": [
      "\u001b[34m\u001b[1mwandb\u001b[0m:   1 of 1 files downloaded.  \n"
     ]
    },
    {
     "name": "stdout",
     "output_type": "stream",
     "text": [
      "2025-04-22 16:32:40,306 - INFO - Downloaded logs_imqo91wq:v0 to /scratch/downloaded_artifacts/logs_imqo91wq:v0\n"
     ]
    },
    {
     "name": "stderr",
     "output_type": "stream",
     "text": [
      "\u001b[34m\u001b[1mwandb\u001b[0m:   1 of 1 files downloaded.  \n"
     ]
    },
    {
     "name": "stdout",
     "output_type": "stream",
     "text": [
      "2025-04-22 16:32:40,578 - INFO - Downloaded logs_2cxyxbjp:v0 to /scratch/downloaded_artifacts/logs_2cxyxbjp:v0\n"
     ]
    },
    {
     "name": "stderr",
     "output_type": "stream",
     "text": [
      "\u001b[34m\u001b[1mwandb\u001b[0m:   1 of 1 files downloaded.  \n"
     ]
    },
    {
     "name": "stdout",
     "output_type": "stream",
     "text": [
      "2025-04-22 16:32:40,621 - INFO - Downloaded logs_i9a21b8x:v0 to /scratch/downloaded_artifacts/logs_i9a21b8x:v0\n"
     ]
    },
    {
     "name": "stderr",
     "output_type": "stream",
     "text": [
      "\u001b[34m\u001b[1mwandb\u001b[0m:   1 of 1 files downloaded.  \n"
     ]
    },
    {
     "name": "stdout",
     "output_type": "stream",
     "text": [
      "2025-04-22 16:32:40,641 - INFO - Downloaded logs_1pbrgubb:v0 to /scratch/downloaded_artifacts/logs_1pbrgubb:v0\n"
     ]
    },
    {
     "name": "stderr",
     "output_type": "stream",
     "text": [
      "\u001b[34m\u001b[1mwandb\u001b[0m:   1 of 1 files downloaded.  \n"
     ]
    },
    {
     "name": "stdout",
     "output_type": "stream",
     "text": [
      "2025-04-22 16:32:40,653 - INFO - Downloaded logs_37wusc8p:v0 to /scratch/downloaded_artifacts/logs_37wusc8p:v0\n"
     ]
    },
    {
     "name": "stderr",
     "output_type": "stream",
     "text": [
      "\u001b[34m\u001b[1mwandb\u001b[0m:   1 of 1 files downloaded.  \n"
     ]
    },
    {
     "name": "stdout",
     "output_type": "stream",
     "text": [
      "2025-04-22 16:32:40,660 - INFO - Downloaded logs_4w8utt63:v0 to /scratch/downloaded_artifacts/logs_4w8utt63:v0\n"
     ]
    },
    {
     "name": "stderr",
     "output_type": "stream",
     "text": [
      "\u001b[34m\u001b[1mwandb\u001b[0m:   1 of 1 files downloaded.  \n"
     ]
    },
    {
     "name": "stdout",
     "output_type": "stream",
     "text": [
      "2025-04-22 16:32:40,672 - INFO - Downloaded logs_3theuwh6:v0 to /scratch/downloaded_artifacts/logs_3theuwh6:v0\n"
     ]
    },
    {
     "name": "stderr",
     "output_type": "stream",
     "text": [
      "\u001b[34m\u001b[1mwandb\u001b[0m:   1 of 1 files downloaded.  \n"
     ]
    },
    {
     "name": "stdout",
     "output_type": "stream",
     "text": [
      "2025-04-22 16:32:41,205 - INFO - Downloaded logs_4ejmwomm:v0 to /scratch/downloaded_artifacts/logs_4ejmwomm:v0\n"
     ]
    },
    {
     "name": "stderr",
     "output_type": "stream",
     "text": [
      "\u001b[34m\u001b[1mwandb\u001b[0m:   1 of 1 files downloaded.  \n"
     ]
    },
    {
     "name": "stdout",
     "output_type": "stream",
     "text": [
      "2025-04-22 16:32:41,217 - INFO - Downloaded logs_js0nr3h1:v0 to /scratch/downloaded_artifacts/logs_js0nr3h1:v0\n"
     ]
    },
    {
     "name": "stderr",
     "output_type": "stream",
     "text": [
      "\u001b[34m\u001b[1mwandb\u001b[0m:   1 of 1 files downloaded.  \n"
     ]
    },
    {
     "name": "stdout",
     "output_type": "stream",
     "text": [
      "2025-04-22 16:32:41,223 - INFO - Downloaded logs_54jfu4wi:v0 to /scratch/downloaded_artifacts/logs_54jfu4wi:v0\n"
     ]
    },
    {
     "name": "stderr",
     "output_type": "stream",
     "text": [
      "\u001b[34m\u001b[1mwandb\u001b[0m:   1 of 1 files downloaded.  \n"
     ]
    },
    {
     "name": "stdout",
     "output_type": "stream",
     "text": [
      "2025-04-22 16:32:41,252 - INFO - Downloaded logs_eozhex5f:v0 to /scratch/downloaded_artifacts/logs_eozhex5f:v0\n"
     ]
    },
    {
     "name": "stderr",
     "output_type": "stream",
     "text": [
      "\u001b[34m\u001b[1mwandb\u001b[0m:   1 of 1 files downloaded.  \n"
     ]
    },
    {
     "name": "stdout",
     "output_type": "stream",
     "text": [
      "2025-04-22 16:32:41,272 - INFO - Downloaded logs_6orzjdyf:v0 to /scratch/downloaded_artifacts/logs_6orzjdyf:v0\n"
     ]
    },
    {
     "name": "stderr",
     "output_type": "stream",
     "text": [
      "\u001b[34m\u001b[1mwandb\u001b[0m:   1 of 1 files downloaded.  \n"
     ]
    },
    {
     "name": "stdout",
     "output_type": "stream",
     "text": [
      "2025-04-22 16:32:41,274 - INFO - Downloaded logs_b9i0mgia:v0 to /scratch/downloaded_artifacts/logs_b9i0mgia:v0\n"
     ]
    },
    {
     "name": "stderr",
     "output_type": "stream",
     "text": [
      "\u001b[34m\u001b[1mwandb\u001b[0m:   1 of 1 files downloaded.  \n"
     ]
    },
    {
     "name": "stdout",
     "output_type": "stream",
     "text": [
      "2025-04-22 16:32:41,280 - INFO - Downloaded logs_5a9wxwsl:v0 to /scratch/downloaded_artifacts/logs_5a9wxwsl:v0\n"
     ]
    },
    {
     "name": "stderr",
     "output_type": "stream",
     "text": [
      "\u001b[34m\u001b[1mwandb\u001b[0m:   1 of 1 files downloaded.  \n"
     ]
    },
    {
     "name": "stdout",
     "output_type": "stream",
     "text": [
      "2025-04-22 16:32:41,306 - INFO - Downloaded logs_696mj0bq:v0 to /scratch/downloaded_artifacts/logs_696mj0bq:v0\n"
     ]
    },
    {
     "name": "stderr",
     "output_type": "stream",
     "text": [
      "\u001b[34m\u001b[1mwandb\u001b[0m:   1 of 1 files downloaded.  \n"
     ]
    },
    {
     "name": "stdout",
     "output_type": "stream",
     "text": [
      "2025-04-22 16:32:41,668 - INFO - Downloaded logs_inz8fubk:v0 to /scratch/downloaded_artifacts/logs_inz8fubk:v0\n"
     ]
    },
    {
     "name": "stderr",
     "output_type": "stream",
     "text": [
      "\u001b[34m\u001b[1mwandb\u001b[0m:   1 of 1 files downloaded.  \n"
     ]
    },
    {
     "name": "stdout",
     "output_type": "stream",
     "text": [
      "2025-04-22 16:32:41,681 - INFO - Downloaded logs_9zxzq706:v0 to /scratch/downloaded_artifacts/logs_9zxzq706:v0\n"
     ]
    },
    {
     "name": "stderr",
     "output_type": "stream",
     "text": [
      "\u001b[34m\u001b[1mwandb\u001b[0m:   1 of 1 files downloaded.  \n"
     ]
    },
    {
     "name": "stdout",
     "output_type": "stream",
     "text": [
      "2025-04-22 16:32:41,778 - INFO - Downloaded logs_cffdsvmn:v0 to /scratch/downloaded_artifacts/logs_cffdsvmn:v0\n"
     ]
    },
    {
     "name": "stderr",
     "output_type": "stream",
     "text": [
      "\u001b[34m\u001b[1mwandb\u001b[0m:   1 of 1 files downloaded.  \n",
      "\u001b[34m\u001b[1mwandb\u001b[0m:   1 of 1 files downloaded.  \n"
     ]
    },
    {
     "name": "stdout",
     "output_type": "stream",
     "text": [
      "2025-04-22 16:32:41,802 - INFO - Downloaded logs_dm8r8jui:v0 to /scratch/downloaded_artifacts/logs_dm8r8jui:v0\n",
      "2025-04-22 16:32:41,802 - INFO - Downloaded logs_g20yczjl:v0 to /scratch/downloaded_artifacts/logs_g20yczjl:v0\n"
     ]
    },
    {
     "name": "stderr",
     "output_type": "stream",
     "text": [
      "\u001b[34m\u001b[1mwandb\u001b[0m:   1 of 1 files downloaded.  \n"
     ]
    },
    {
     "name": "stdout",
     "output_type": "stream",
     "text": [
      "2025-04-22 16:32:41,808 - INFO - Downloaded logs_eq8rn3k2:v0 to /scratch/downloaded_artifacts/logs_eq8rn3k2:v0\n"
     ]
    },
    {
     "name": "stderr",
     "output_type": "stream",
     "text": [
      "\u001b[34m\u001b[1mwandb\u001b[0m:   1 of 1 files downloaded.  \n"
     ]
    },
    {
     "name": "stdout",
     "output_type": "stream",
     "text": [
      "2025-04-22 16:32:41,900 - INFO - Downloaded logs_hn08txeu:v0 to /scratch/downloaded_artifacts/logs_hn08txeu:v0\n"
     ]
    },
    {
     "name": "stderr",
     "output_type": "stream",
     "text": [
      "\u001b[34m\u001b[1mwandb\u001b[0m:   1 of 1 files downloaded.  \n"
     ]
    },
    {
     "name": "stdout",
     "output_type": "stream",
     "text": [
      "2025-04-22 16:32:42,000 - INFO - Downloaded logs_f8vbeltl:v0 to /scratch/downloaded_artifacts/logs_f8vbeltl:v0\n"
     ]
    },
    {
     "name": "stderr",
     "output_type": "stream",
     "text": [
      "\u001b[34m\u001b[1mwandb\u001b[0m:   1 of 1 files downloaded.  \n"
     ]
    },
    {
     "name": "stdout",
     "output_type": "stream",
     "text": [
      "2025-04-22 16:32:42,392 - INFO - Downloaded logs_dkjbggy7:v0 to /scratch/downloaded_artifacts/logs_dkjbggy7:v0\n"
     ]
    },
    {
     "name": "stderr",
     "output_type": "stream",
     "text": [
      "\u001b[34m\u001b[1mwandb\u001b[0m:   1 of 1 files downloaded.  \n"
     ]
    },
    {
     "name": "stdout",
     "output_type": "stream",
     "text": [
      "2025-04-22 16:32:42,528 - INFO - Downloaded logs_oltpa353:v0 to /scratch/downloaded_artifacts/logs_oltpa353:v0\n"
     ]
    },
    {
     "name": "stderr",
     "output_type": "stream",
     "text": [
      "\u001b[34m\u001b[1mwandb\u001b[0m:   1 of 1 files downloaded.  \n"
     ]
    },
    {
     "name": "stdout",
     "output_type": "stream",
     "text": [
      "2025-04-22 16:32:42,590 - INFO - Downloaded logs_me3s5itn:v0 to /scratch/downloaded_artifacts/logs_me3s5itn:v0\n"
     ]
    },
    {
     "name": "stderr",
     "output_type": "stream",
     "text": [
      "\u001b[34m\u001b[1mwandb\u001b[0m:   1 of 1 files downloaded.  \n",
      "\u001b[34m\u001b[1mwandb\u001b[0m:   1 of 1 files downloaded.  \n"
     ]
    },
    {
     "name": "stdout",
     "output_type": "stream",
     "text": [
      "2025-04-22 16:32:42,701 - INFO - Downloaded logs_oi841b4j:v0 to /scratch/downloaded_artifacts/logs_oi841b4j:v0\n"
     ]
    },
    {
     "name": "stderr",
     "output_type": "stream",
     "text": [
      "\u001b[34m\u001b[1mwandb\u001b[0m:   1 of 1 files downloaded.  \n"
     ]
    },
    {
     "name": "stdout",
     "output_type": "stream",
     "text": [
      "2025-04-22 16:32:42,824 - INFO - Downloaded logs_kyszpcmd:v0 to /scratch/downloaded_artifacts/logs_kyszpcmd:v0\n"
     ]
    },
    {
     "name": "stderr",
     "output_type": "stream",
     "text": [
      "\u001b[34m\u001b[1mwandb\u001b[0m:   1 of 1 files downloaded.  \n"
     ]
    },
    {
     "name": "stdout",
     "output_type": "stream",
     "text": [
      "2025-04-22 16:32:42,925 - INFO - Downloaded logs_kt9oz5ib:v0 to /scratch/downloaded_artifacts/logs_kt9oz5ib:v0\n"
     ]
    },
    {
     "name": "stderr",
     "output_type": "stream",
     "text": [
      "\u001b[34m\u001b[1mwandb\u001b[0m:   1 of 1 files downloaded.  \n"
     ]
    },
    {
     "name": "stdout",
     "output_type": "stream",
     "text": [
      "2025-04-22 16:32:42,934 - INFO - Downloaded logs_oa09h5gp:v0 to /scratch/downloaded_artifacts/logs_oa09h5gp:v0\n",
      "2025-04-22 16:32:43,004 - INFO - Downloaded logs_uigdvh81:v0 to /scratch/downloaded_artifacts/logs_uigdvh81:v0\n"
     ]
    },
    {
     "name": "stderr",
     "output_type": "stream",
     "text": [
      "\u001b[34m\u001b[1mwandb\u001b[0m:   1 of 1 files downloaded.  \n"
     ]
    },
    {
     "name": "stdout",
     "output_type": "stream",
     "text": [
      "2025-04-22 16:32:43,025 - INFO - Downloaded logs_ve689380:v0 to /scratch/downloaded_artifacts/logs_ve689380:v0\n"
     ]
    },
    {
     "name": "stderr",
     "output_type": "stream",
     "text": [
      "\u001b[34m\u001b[1mwandb\u001b[0m:   1 of 1 files downloaded.  \n"
     ]
    },
    {
     "name": "stdout",
     "output_type": "stream",
     "text": [
      "2025-04-22 16:32:43,037 - INFO - Downloaded logs_v44skjyd:v0 to /scratch/downloaded_artifacts/logs_v44skjyd:v0\n"
     ]
    },
    {
     "name": "stderr",
     "output_type": "stream",
     "text": [
      "\u001b[34m\u001b[1mwandb\u001b[0m:   1 of 1 files downloaded.  \n",
      "\u001b[34m\u001b[1mwandb\u001b[0m:   1 of 1 files downloaded.  \n"
     ]
    },
    {
     "name": "stdout",
     "output_type": "stream",
     "text": [
      "2025-04-22 16:32:43,054 - INFO - Downloaded logs_vrshw3we:v0 to /scratch/downloaded_artifacts/logs_vrshw3we:v0\n",
      "2025-04-22 16:32:43,057 - INFO - Downloaded logs_1811pn79:v0 to /scratch/downloaded_artifacts/logs_1811pn79:v0\n"
     ]
    },
    {
     "name": "stderr",
     "output_type": "stream",
     "text": [
      "\u001b[34m\u001b[1mwandb\u001b[0m:   1 of 1 files downloaded.  \n"
     ]
    },
    {
     "name": "stdout",
     "output_type": "stream",
     "text": [
      "2025-04-22 16:32:43,082 - INFO - Downloaded logs_xa8ehqec:v0 to /scratch/downloaded_artifacts/logs_xa8ehqec:v0\n"
     ]
    },
    {
     "name": "stderr",
     "output_type": "stream",
     "text": [
      "\u001b[34m\u001b[1mwandb\u001b[0m:   1 of 1 files downloaded.  \n"
     ]
    },
    {
     "name": "stdout",
     "output_type": "stream",
     "text": [
      "2025-04-22 16:32:43,088 - INFO - Downloaded logs_y9peqfkz:v0 to /scratch/downloaded_artifacts/logs_y9peqfkz:v0\n"
     ]
    },
    {
     "name": "stderr",
     "output_type": "stream",
     "text": [
      "\u001b[34m\u001b[1mwandb\u001b[0m:   1 of 1 files downloaded.  \n"
     ]
    },
    {
     "name": "stdout",
     "output_type": "stream",
     "text": [
      "2025-04-22 16:32:43,093 - INFO - Downloaded logs_jg8ihc1v:v0 to /scratch/downloaded_artifacts/logs_jg8ihc1v:v0\n"
     ]
    },
    {
     "name": "stderr",
     "output_type": "stream",
     "text": [
      "\u001b[34m\u001b[1mwandb\u001b[0m:   1 of 1 files downloaded.  \n"
     ]
    },
    {
     "name": "stdout",
     "output_type": "stream",
     "text": [
      "2025-04-22 16:32:43,104 - INFO - Downloaded logs_x5hl1f6k:v0 to /scratch/downloaded_artifacts/logs_x5hl1f6k:v0\n"
     ]
    },
    {
     "name": "stderr",
     "output_type": "stream",
     "text": [
      "\u001b[34m\u001b[1mwandb\u001b[0m:   1 of 1 files downloaded.  \n"
     ]
    },
    {
     "name": "stdout",
     "output_type": "stream",
     "text": [
      "2025-04-22 16:32:43,118 - INFO - Downloaded logs_wcrfkjep:v0 to /scratch/downloaded_artifacts/logs_wcrfkjep:v0\n"
     ]
    },
    {
     "name": "stderr",
     "output_type": "stream",
     "text": [
      "\u001b[34m\u001b[1mwandb\u001b[0m:   1 of 1 files downloaded.  \n"
     ]
    },
    {
     "name": "stdout",
     "output_type": "stream",
     "text": [
      "2025-04-22 16:32:43,364 - INFO - Downloaded logs_ka2cf21y:v0 to /scratch/downloaded_artifacts/logs_ka2cf21y:v0\n"
     ]
    },
    {
     "name": "stderr",
     "output_type": "stream",
     "text": [
      "\u001b[34m\u001b[1mwandb\u001b[0m:   1 of 1 files downloaded.  \n"
     ]
    },
    {
     "name": "stdout",
     "output_type": "stream",
     "text": [
      "2025-04-22 16:32:43,381 - INFO - Downloaded logs_yta8eaqx:v0 to /scratch/downloaded_artifacts/logs_yta8eaqx:v0\n"
     ]
    },
    {
     "name": "stderr",
     "output_type": "stream",
     "text": [
      "\u001b[34m\u001b[1mwandb\u001b[0m:   1 of 1 files downloaded.  \n"
     ]
    },
    {
     "name": "stdout",
     "output_type": "stream",
     "text": [
      "2025-04-22 16:32:43,432 - INFO - Downloaded logs_zmugi7zt:v0 to /scratch/downloaded_artifacts/logs_zmugi7zt:v0\n"
     ]
    },
    {
     "name": "stderr",
     "output_type": "stream",
     "text": [
      "\u001b[34m\u001b[1mwandb\u001b[0m: \u001b[32m\u001b[41mERROR\u001b[0m Error while calling W&B API: rate limit exceeded (<Response [429]>)\n",
      "\u001b[34m\u001b[1mwandb\u001b[0m: \u001b[32m\u001b[41mERROR\u001b[0m Error while calling W&B API: rate limit exceeded (<Response [429]>)\n",
      "\u001b[34m\u001b[1mwandb\u001b[0m: \u001b[32m\u001b[41mERROR\u001b[0m Error while calling W&B API: rate limit exceeded (<Response [429]>)\n",
      "\u001b[34m\u001b[1mwandb\u001b[0m: \u001b[32m\u001b[41mERROR\u001b[0m Error while calling W&B API: rate limit exceeded (<Response [429]>)\n",
      "\u001b[34m\u001b[1mwandb\u001b[0m: \u001b[32m\u001b[41mERROR\u001b[0m Error while calling W&B API: rate limit exceeded (<Response [429]>)\n",
      "\u001b[34m\u001b[1mwandb\u001b[0m:   1 of 1 files downloaded.  \n"
     ]
    },
    {
     "name": "stdout",
     "output_type": "stream",
     "text": [
      "2025-04-22 16:32:43,661 - INFO - Downloaded logs_3y69bge3:v0 to /scratch/downloaded_artifacts/logs_3y69bge3:v0\n"
     ]
    },
    {
     "name": "stderr",
     "output_type": "stream",
     "text": [
      "\u001b[34m\u001b[1mwandb\u001b[0m: \u001b[32m\u001b[41mERROR\u001b[0m Error while calling W&B API: rate limit exceeded (<Response [429]>)\n",
      "\u001b[34m\u001b[1mwandb\u001b[0m: \u001b[32m\u001b[41mERROR\u001b[0m Error while calling W&B API: rate limit exceeded (<Response [429]>)\n",
      "\u001b[34m\u001b[1mwandb\u001b[0m: \u001b[32m\u001b[41mERROR\u001b[0m Error while calling W&B API: rate limit exceeded (<Response [429]>)\n",
      "\u001b[34m\u001b[1mwandb\u001b[0m: \u001b[32m\u001b[41mERROR\u001b[0m Error while calling W&B API: rate limit exceeded (<Response [429]>)\n",
      "\u001b[34m\u001b[1mwandb\u001b[0m: \u001b[32m\u001b[41mERROR\u001b[0m Error while calling W&B API: rate limit exceeded (<Response [429]>)\n",
      "\u001b[34m\u001b[1mwandb\u001b[0m: \u001b[32m\u001b[41mERROR\u001b[0m Error while calling W&B API: rate limit exceeded (<Response [429]>)\n",
      "\u001b[34m\u001b[1mwandb\u001b[0m: \u001b[32m\u001b[41mERROR\u001b[0m Error while calling W&B API: rate limit exceeded (<Response [429]>)\n",
      "\u001b[34m\u001b[1mwandb\u001b[0m: \u001b[32m\u001b[41mERROR\u001b[0m Error while calling W&B API: rate limit exceeded (<Response [429]>)\n",
      "\u001b[34m\u001b[1mwandb\u001b[0m: \u001b[32m\u001b[41mERROR\u001b[0m Error while calling W&B API: rate limit exceeded (<Response [429]>)\n",
      "\u001b[34m\u001b[1mwandb\u001b[0m: \u001b[32m\u001b[41mERROR\u001b[0m Error while calling W&B API: rate limit exceeded (<Response [429]>)\n",
      "\u001b[34m\u001b[1mwandb\u001b[0m: \u001b[32m\u001b[41mERROR\u001b[0m Error while calling W&B API: rate limit exceeded (<Response [429]>)\n",
      "\u001b[34m\u001b[1mwandb\u001b[0m: \u001b[32m\u001b[41mERROR\u001b[0m Error while calling W&B API: rate limit exceeded (<Response [429]>)\n",
      "\u001b[34m\u001b[1mwandb\u001b[0m: \u001b[32m\u001b[41mERROR\u001b[0m Error while calling W&B API: rate limit exceeded (<Response [429]>)\n",
      "\u001b[34m\u001b[1mwandb\u001b[0m: Network error (HTTPError), entering retry loop.\n",
      "\u001b[34m\u001b[1mwandb\u001b[0m: \u001b[32m\u001b[41mERROR\u001b[0m Error while calling W&B API: rate limit exceeded (<Response [429]>)\n",
      "\u001b[34m\u001b[1mwandb\u001b[0m: \u001b[32m\u001b[41mERROR\u001b[0m Error while calling W&B API: rate limit exceeded (<Response [429]>)\n",
      "\u001b[34m\u001b[1mwandb\u001b[0m: \u001b[32m\u001b[41mERROR\u001b[0m Error while calling W&B API: rate limit exceeded (<Response [429]>)\n",
      "\u001b[34m\u001b[1mwandb\u001b[0m: \u001b[32m\u001b[41mERROR\u001b[0m Error while calling W&B API: rate limit exceeded (<Response [429]>)\n",
      "\u001b[34m\u001b[1mwandb\u001b[0m: \u001b[32m\u001b[41mERROR\u001b[0m Error while calling W&B API: rate limit exceeded (<Response [429]>)\n",
      "\u001b[34m\u001b[1mwandb\u001b[0m: \u001b[32m\u001b[41mERROR\u001b[0m Error while calling W&B API: rate limit exceeded (<Response [429]>)\n",
      "\u001b[34m\u001b[1mwandb\u001b[0m: \u001b[32m\u001b[41mERROR\u001b[0m Error while calling W&B API: rate limit exceeded (<Response [429]>)\n",
      "\u001b[34m\u001b[1mwandb\u001b[0m:   1 of 1 files downloaded.  \n"
     ]
    },
    {
     "name": "stdout",
     "output_type": "stream",
     "text": [
      "2025-04-22 16:32:45,561 - INFO - Downloaded logs_nu9du465:v0 to /scratch/downloaded_artifacts/logs_nu9du465:v0\n"
     ]
    },
    {
     "name": "stderr",
     "output_type": "stream",
     "text": [
      "\u001b[34m\u001b[1mwandb\u001b[0m:   1 of 1 files downloaded.  \n",
      "\u001b[34m\u001b[1mwandb\u001b[0m:   1 of 1 files downloaded.  \n"
     ]
    },
    {
     "name": "stdout",
     "output_type": "stream",
     "text": [
      "2025-04-22 16:32:45,567 - INFO - Downloaded logs_pubk0e3x:v0 to /scratch/downloaded_artifacts/logs_pubk0e3x:v0\n",
      "2025-04-22 16:32:45,569 - INFO - Downloaded logs_z8t5la5d:v0 to /scratch/downloaded_artifacts/logs_z8t5la5d:v0\n"
     ]
    },
    {
     "name": "stderr",
     "output_type": "stream",
     "text": [
      "\u001b[34m\u001b[1mwandb\u001b[0m:   1 of 1 files downloaded.  \n"
     ]
    },
    {
     "name": "stdout",
     "output_type": "stream",
     "text": [
      "2025-04-22 16:32:45,573 - INFO - Downloaded logs_qw07gt8i:v0 to /scratch/downloaded_artifacts/logs_qw07gt8i:v0\n"
     ]
    },
    {
     "name": "stderr",
     "output_type": "stream",
     "text": [
      "\u001b[34m\u001b[1mwandb\u001b[0m:   1 of 1 files downloaded.  \n"
     ]
    },
    {
     "name": "stdout",
     "output_type": "stream",
     "text": [
      "2025-04-22 16:32:45,614 - INFO - Downloaded logs_x4udfyy5:v0 to /scratch/downloaded_artifacts/logs_x4udfyy5:v0\n"
     ]
    },
    {
     "name": "stderr",
     "output_type": "stream",
     "text": [
      "\u001b[34m\u001b[1mwandb\u001b[0m:   1 of 1 files downloaded.  \n"
     ]
    },
    {
     "name": "stdout",
     "output_type": "stream",
     "text": [
      "2025-04-22 16:32:46,421 - INFO - Downloaded logs_3jzkjyc2:v0 to /scratch/downloaded_artifacts/logs_3jzkjyc2:v0\n"
     ]
    },
    {
     "name": "stderr",
     "output_type": "stream",
     "text": [
      "\u001b[34m\u001b[1mwandb\u001b[0m:   1 of 1 files downloaded.  \n"
     ]
    },
    {
     "name": "stdout",
     "output_type": "stream",
     "text": [
      "2025-04-22 16:32:46,488 - INFO - Downloaded logs_6azjmwaq:v0 to /scratch/downloaded_artifacts/logs_6azjmwaq:v0\n"
     ]
    },
    {
     "name": "stderr",
     "output_type": "stream",
     "text": [
      "\u001b[34m\u001b[1mwandb\u001b[0m:   1 of 1 files downloaded.  \n",
      "\u001b[34m\u001b[1mwandb\u001b[0m:   1 of 1 files downloaded.  \n"
     ]
    },
    {
     "name": "stdout",
     "output_type": "stream",
     "text": [
      "2025-04-22 16:32:46,490 - INFO - Downloaded logs_33n21g05:v0 to /scratch/downloaded_artifacts/logs_33n21g05:v0\n",
      "2025-04-22 16:32:46,491 - INFO - Downloaded logs_3bt7z345:v0 to /scratch/downloaded_artifacts/logs_3bt7z345:v0\n"
     ]
    },
    {
     "name": "stderr",
     "output_type": "stream",
     "text": [
      "\u001b[34m\u001b[1mwandb\u001b[0m:   1 of 1 files downloaded.  \n"
     ]
    },
    {
     "name": "stdout",
     "output_type": "stream",
     "text": [
      "2025-04-22 16:32:46,529 - INFO - Downloaded logs_3zyujryy:v0 to /scratch/downloaded_artifacts/logs_3zyujryy:v0\n"
     ]
    },
    {
     "name": "stderr",
     "output_type": "stream",
     "text": [
      "\u001b[34m\u001b[1mwandb\u001b[0m:   1 of 1 files downloaded.  \n"
     ]
    },
    {
     "name": "stdout",
     "output_type": "stream",
     "text": [
      "2025-04-22 16:32:47,022 - INFO - Downloaded logs_42f2oj1l:v0 to /scratch/downloaded_artifacts/logs_42f2oj1l:v0\n"
     ]
    },
    {
     "name": "stderr",
     "output_type": "stream",
     "text": [
      "\u001b[34m\u001b[1mwandb\u001b[0m:   1 of 1 files downloaded.  \n"
     ]
    },
    {
     "name": "stdout",
     "output_type": "stream",
     "text": [
      "2025-04-22 16:32:47,978 - INFO - Downloaded logs_g4v9xoz5:v0 to /scratch/downloaded_artifacts/logs_g4v9xoz5:v0\n"
     ]
    },
    {
     "name": "stderr",
     "output_type": "stream",
     "text": [
      "\u001b[34m\u001b[1mwandb\u001b[0m:   1 of 1 files downloaded.  \n"
     ]
    },
    {
     "name": "stdout",
     "output_type": "stream",
     "text": [
      "2025-04-22 16:32:48,025 - INFO - Downloaded logs_al5egtrl:v0 to /scratch/downloaded_artifacts/logs_al5egtrl:v0\n"
     ]
    },
    {
     "name": "stderr",
     "output_type": "stream",
     "text": [
      "\u001b[34m\u001b[1mwandb\u001b[0m:   1 of 1 files downloaded.  \n"
     ]
    },
    {
     "name": "stdout",
     "output_type": "stream",
     "text": [
      "2025-04-22 16:32:48,051 - INFO - Downloaded logs_64m4aaew:v0 to /scratch/downloaded_artifacts/logs_64m4aaew:v0\n"
     ]
    },
    {
     "name": "stderr",
     "output_type": "stream",
     "text": [
      "\u001b[34m\u001b[1mwandb\u001b[0m:   1 of 1 files downloaded.  \n"
     ]
    },
    {
     "name": "stdout",
     "output_type": "stream",
     "text": [
      "2025-04-22 16:32:48,111 - INFO - Downloaded logs_5nwqw9wj:v0 to /scratch/downloaded_artifacts/logs_5nwqw9wj:v0\n"
     ]
    },
    {
     "name": "stderr",
     "output_type": "stream",
     "text": [
      "\u001b[34m\u001b[1mwandb\u001b[0m:   1 of 1 files downloaded.  \n"
     ]
    },
    {
     "name": "stdout",
     "output_type": "stream",
     "text": [
      "2025-04-22 16:32:48,191 - INFO - Downloaded logs_bgh5wvng:v0 to /scratch/downloaded_artifacts/logs_bgh5wvng:v0\n"
     ]
    },
    {
     "name": "stderr",
     "output_type": "stream",
     "text": [
      "\u001b[34m\u001b[1mwandb\u001b[0m:   1 of 1 files downloaded.  \n"
     ]
    },
    {
     "name": "stdout",
     "output_type": "stream",
     "text": [
      "2025-04-22 16:32:48,201 - INFO - Downloaded logs_9510kbt2:v0 to /scratch/downloaded_artifacts/logs_9510kbt2:v0\n"
     ]
    },
    {
     "name": "stderr",
     "output_type": "stream",
     "text": [
      "\u001b[34m\u001b[1mwandb\u001b[0m:   1 of 1 files downloaded.  \n"
     ]
    },
    {
     "name": "stdout",
     "output_type": "stream",
     "text": [
      "2025-04-22 16:32:48,220 - INFO - Downloaded logs_grzgoibn:v0 to /scratch/downloaded_artifacts/logs_grzgoibn:v0\n"
     ]
    },
    {
     "name": "stderr",
     "output_type": "stream",
     "text": [
      "\u001b[34m\u001b[1mwandb\u001b[0m:   1 of 1 files downloaded.  \n"
     ]
    },
    {
     "name": "stdout",
     "output_type": "stream",
     "text": [
      "2025-04-22 16:32:48,229 - INFO - Downloaded logs_7rj9xw2l:v0 to /scratch/downloaded_artifacts/logs_7rj9xw2l:v0\n"
     ]
    },
    {
     "name": "stderr",
     "output_type": "stream",
     "text": [
      "\u001b[34m\u001b[1mwandb\u001b[0m:   1 of 1 files downloaded.  \n",
      "\u001b[34m\u001b[1mwandb\u001b[0m:   1 of 1 files downloaded.  \n",
      "\u001b[34m\u001b[1mwandb\u001b[0m:   1 of 1 files downloaded.  \n"
     ]
    },
    {
     "name": "stdout",
     "output_type": "stream",
     "text": [
      "2025-04-22 16:32:48,252 - INFO - Downloaded logs_kew3e2e1:v0 to /scratch/downloaded_artifacts/logs_kew3e2e1:v0\n",
      "2025-04-22 16:32:48,252 - INFO - Downloaded logs_pvpgzfso:v0 to /scratch/downloaded_artifacts/logs_pvpgzfso:v0\n",
      "2025-04-22 16:32:48,256 - INFO - Downloaded logs_5davpcmx:v0 to /scratch/downloaded_artifacts/logs_5davpcmx:v0\n"
     ]
    },
    {
     "name": "stderr",
     "output_type": "stream",
     "text": [
      "\u001b[34m\u001b[1mwandb\u001b[0m:   1 of 1 files downloaded.  \n",
      "\u001b[34m\u001b[1mwandb\u001b[0m:   1 of 1 files downloaded.  \n"
     ]
    },
    {
     "name": "stdout",
     "output_type": "stream",
     "text": [
      "2025-04-22 16:32:48,265 - INFO - Downloaded logs_ykn914kk:v0 to /scratch/downloaded_artifacts/logs_ykn914kk:v0\n"
     ]
    },
    {
     "name": "stderr",
     "output_type": "stream",
     "text": [
      "\u001b[34m\u001b[1mwandb\u001b[0m:   1 of 1 files downloaded.  \n",
      "\u001b[34m\u001b[1mwandb\u001b[0m:   1 of 1 files downloaded.  \n"
     ]
    },
    {
     "name": "stdout",
     "output_type": "stream",
     "text": [
      "2025-04-22 16:32:48,272 - INFO - Downloaded logs_q8xrbcsu:v0 to /scratch/downloaded_artifacts/logs_q8xrbcsu:v0\n"
     ]
    },
    {
     "name": "stderr",
     "output_type": "stream",
     "text": [
      "\u001b[34m\u001b[1mwandb\u001b[0m:   1 of 1 files downloaded.  \n"
     ]
    },
    {
     "name": "stdout",
     "output_type": "stream",
     "text": [
      "2025-04-22 16:32:48,273 - INFO - Downloaded logs_1rdqcofh:v0 to /scratch/downloaded_artifacts/logs_1rdqcofh:v0\n",
      "2025-04-22 16:32:48,274 - INFO - Downloaded logs_in9aqhmk:v0 to /scratch/downloaded_artifacts/logs_in9aqhmk:v0\n",
      "2025-04-22 16:32:48,274 - INFO - Downloaded logs_dhpua32d:v0 to /scratch/downloaded_artifacts/logs_dhpua32d:v0\n"
     ]
    },
    {
     "name": "stderr",
     "output_type": "stream",
     "text": [
      "\u001b[34m\u001b[1mwandb\u001b[0m:   1 of 1 files downloaded.  \n"
     ]
    },
    {
     "name": "stdout",
     "output_type": "stream",
     "text": [
      "2025-04-22 16:32:48,294 - INFO - Downloaded logs_75e53izt:v0 to /scratch/downloaded_artifacts/logs_75e53izt:v0\n"
     ]
    },
    {
     "name": "stderr",
     "output_type": "stream",
     "text": [
      "\u001b[34m\u001b[1mwandb\u001b[0m:   1 of 1 files downloaded.  \n"
     ]
    },
    {
     "name": "stdout",
     "output_type": "stream",
     "text": [
      "2025-04-22 16:32:48,318 - INFO - Downloaded logs_0rmh0l1q:v0 to /scratch/downloaded_artifacts/logs_0rmh0l1q:v0\n"
     ]
    },
    {
     "name": "stderr",
     "output_type": "stream",
     "text": [
      "\u001b[34m\u001b[1mwandb\u001b[0m:   1 of 1 files downloaded.  \n"
     ]
    },
    {
     "name": "stdout",
     "output_type": "stream",
     "text": [
      "2025-04-22 16:32:48,535 - INFO - Downloaded logs_1tfhwaql:v0 to /scratch/downloaded_artifacts/logs_1tfhwaql:v0\n"
     ]
    },
    {
     "name": "stderr",
     "output_type": "stream",
     "text": [
      "\u001b[34m\u001b[1mwandb\u001b[0m:   1 of 1 files downloaded.  \n"
     ]
    },
    {
     "name": "stdout",
     "output_type": "stream",
     "text": [
      "2025-04-22 16:32:48,618 - INFO - Downloaded logs_e33ptwt5:v0 to /scratch/downloaded_artifacts/logs_e33ptwt5:v0\n"
     ]
    },
    {
     "name": "stderr",
     "output_type": "stream",
     "text": [
      "\u001b[34m\u001b[1mwandb\u001b[0m:   1 of 1 files downloaded.  \n"
     ]
    },
    {
     "name": "stdout",
     "output_type": "stream",
     "text": [
      "2025-04-22 16:32:49,022 - INFO - Downloaded logs_hqlh04e9:v0 to /scratch/downloaded_artifacts/logs_hqlh04e9:v0\n"
     ]
    },
    {
     "name": "stderr",
     "output_type": "stream",
     "text": [
      "\u001b[34m\u001b[1mwandb\u001b[0m:   1 of 1 files downloaded.  \n"
     ]
    },
    {
     "name": "stdout",
     "output_type": "stream",
     "text": [
      "2025-04-22 16:32:49,038 - INFO - Downloaded logs_jynhw57e:v0 to /scratch/downloaded_artifacts/logs_jynhw57e:v0\n"
     ]
    },
    {
     "name": "stderr",
     "output_type": "stream",
     "text": [
      "\u001b[34m\u001b[1mwandb\u001b[0m:   1 of 1 files downloaded.  \n"
     ]
    },
    {
     "name": "stdout",
     "output_type": "stream",
     "text": [
      "2025-04-22 16:32:49,322 - INFO - Downloaded logs_ipvnaqgf:v0 to /scratch/downloaded_artifacts/logs_ipvnaqgf:v0\n"
     ]
    },
    {
     "name": "stderr",
     "output_type": "stream",
     "text": [
      "\u001b[34m\u001b[1mwandb\u001b[0m:   1 of 1 files downloaded.  \n"
     ]
    },
    {
     "name": "stdout",
     "output_type": "stream",
     "text": [
      "2025-04-22 16:32:49,710 - INFO - Downloaded logs_i1vs8fnb:v0 to /scratch/downloaded_artifacts/logs_i1vs8fnb:v0\n"
     ]
    },
    {
     "name": "stderr",
     "output_type": "stream",
     "text": [
      "\u001b[34m\u001b[1mwandb\u001b[0m:   1 of 1 files downloaded.  \n"
     ]
    },
    {
     "name": "stdout",
     "output_type": "stream",
     "text": [
      "2025-04-22 16:32:49,970 - INFO - Downloaded logs_w7ublju1:v0 to /scratch/downloaded_artifacts/logs_w7ublju1:v0\n"
     ]
    },
    {
     "name": "stderr",
     "output_type": "stream",
     "text": [
      "\u001b[34m\u001b[1mwandb\u001b[0m:   1 of 1 files downloaded.  \n"
     ]
    },
    {
     "name": "stdout",
     "output_type": "stream",
     "text": [
      "2025-04-22 16:32:49,975 - INFO - Downloaded logs_m4ae63tu:v0 to /scratch/downloaded_artifacts/logs_m4ae63tu:v0\n"
     ]
    },
    {
     "name": "stderr",
     "output_type": "stream",
     "text": [
      "\u001b[34m\u001b[1mwandb\u001b[0m:   1 of 1 files downloaded.  \n"
     ]
    },
    {
     "name": "stdout",
     "output_type": "stream",
     "text": [
      "2025-04-22 16:32:49,997 - INFO - Downloaded logs_vds8vtkg:v0 to /scratch/downloaded_artifacts/logs_vds8vtkg:v0\n"
     ]
    },
    {
     "name": "stderr",
     "output_type": "stream",
     "text": [
      "\u001b[34m\u001b[1mwandb\u001b[0m:   1 of 1 files downloaded.  \n"
     ]
    },
    {
     "name": "stdout",
     "output_type": "stream",
     "text": [
      "2025-04-22 16:32:50,005 - INFO - Downloaded logs_ss0lwwf8:v0 to /scratch/downloaded_artifacts/logs_ss0lwwf8:v0\n"
     ]
    },
    {
     "name": "stderr",
     "output_type": "stream",
     "text": [
      "\u001b[34m\u001b[1mwandb\u001b[0m:   1 of 1 files downloaded.  \n"
     ]
    },
    {
     "name": "stdout",
     "output_type": "stream",
     "text": [
      "2025-04-22 16:32:50,111 - INFO - Downloaded logs_lyv3efkm:v0 to /scratch/downloaded_artifacts/logs_lyv3efkm:v0\n"
     ]
    },
    {
     "name": "stderr",
     "output_type": "stream",
     "text": [
      "\u001b[34m\u001b[1mwandb\u001b[0m:   1 of 1 files downloaded.  \n",
      "\u001b[34m\u001b[1mwandb\u001b[0m:   1 of 1 files downloaded.  \n"
     ]
    },
    {
     "name": "stdout",
     "output_type": "stream",
     "text": [
      "2025-04-22 16:32:50,133 - INFO - Downloaded logs_ywmlrglc:v0 to /scratch/downloaded_artifacts/logs_ywmlrglc:v0\n"
     ]
    },
    {
     "name": "stderr",
     "output_type": "stream",
     "text": [
      "\u001b[34m\u001b[1mwandb\u001b[0m:   1 of 1 files downloaded.  \n"
     ]
    },
    {
     "name": "stdout",
     "output_type": "stream",
     "text": [
      "2025-04-22 16:32:50,136 - INFO - Downloaded logs_k8xeomki:v0 to /scratch/downloaded_artifacts/logs_k8xeomki:v0\n"
     ]
    },
    {
     "name": "stderr",
     "output_type": "stream",
     "text": [
      "\u001b[34m\u001b[1mwandb\u001b[0m:   1 of 1 files downloaded.  \n"
     ]
    },
    {
     "name": "stdout",
     "output_type": "stream",
     "text": [
      "2025-04-22 16:32:50,150 - INFO - Downloaded logs_xzoprdld:v0 to /scratch/downloaded_artifacts/logs_xzoprdld:v0\n"
     ]
    },
    {
     "name": "stderr",
     "output_type": "stream",
     "text": [
      "\u001b[34m\u001b[1mwandb\u001b[0m:   1 of 1 files downloaded.  \n"
     ]
    },
    {
     "name": "stdout",
     "output_type": "stream",
     "text": [
      "2025-04-22 16:32:50,154 - INFO - Downloaded logs_zzfzrjon:v0 to /scratch/downloaded_artifacts/logs_zzfzrjon:v0\n"
     ]
    },
    {
     "name": "stderr",
     "output_type": "stream",
     "text": [
      "\u001b[34m\u001b[1mwandb\u001b[0m:   1 of 1 files downloaded.  \n",
      "\u001b[34m\u001b[1mwandb\u001b[0m:   1 of 1 files downloaded.  \n"
     ]
    },
    {
     "name": "stdout",
     "output_type": "stream",
     "text": [
      "2025-04-22 16:32:50,161 - INFO - Downloaded logs_xg6dm131:v0 to /scratch/downloaded_artifacts/logs_xg6dm131:v0\n",
      "2025-04-22 16:32:50,166 - INFO - Downloaded logs_ma411z2o:v0 to /scratch/downloaded_artifacts/logs_ma411z2o:v0\n"
     ]
    },
    {
     "name": "stderr",
     "output_type": "stream",
     "text": [
      "\u001b[34m\u001b[1mwandb\u001b[0m:   1 of 1 files downloaded.  \n"
     ]
    },
    {
     "name": "stdout",
     "output_type": "stream",
     "text": [
      "2025-04-22 16:32:50,166 - INFO - Downloaded logs_t262lhk5:v0 to /scratch/downloaded_artifacts/logs_t262lhk5:v0\n"
     ]
    },
    {
     "name": "stderr",
     "output_type": "stream",
     "text": [
      "\u001b[34m\u001b[1mwandb\u001b[0m:   1 of 1 files downloaded.  \n"
     ]
    },
    {
     "name": "stdout",
     "output_type": "stream",
     "text": [
      "2025-04-22 16:32:50,170 - INFO - Downloaded logs_s93e6yp5:v0 to /scratch/downloaded_artifacts/logs_s93e6yp5:v0\n",
      "2025-04-22 16:32:50,179 - INFO - Downloaded logs_1j1swakr:v0 to /scratch/downloaded_artifacts/logs_1j1swakr:v0\n"
     ]
    },
    {
     "name": "stderr",
     "output_type": "stream",
     "text": [
      "\u001b[34m\u001b[1mwandb\u001b[0m:   1 of 1 files downloaded.  \n"
     ]
    },
    {
     "name": "stdout",
     "output_type": "stream",
     "text": [
      "2025-04-22 16:32:50,188 - INFO - Downloaded logs_vo2oi656:v0 to /scratch/downloaded_artifacts/logs_vo2oi656:v0\n"
     ]
    },
    {
     "name": "stderr",
     "output_type": "stream",
     "text": [
      "\u001b[34m\u001b[1mwandb\u001b[0m:   1 of 1 files downloaded.  \n"
     ]
    },
    {
     "name": "stdout",
     "output_type": "stream",
     "text": [
      "2025-04-22 16:32:50,217 - INFO - Downloaded logs_btfm2r6d:v0 to /scratch/downloaded_artifacts/logs_btfm2r6d:v0\n"
     ]
    },
    {
     "name": "stderr",
     "output_type": "stream",
     "text": [
      "\u001b[34m\u001b[1mwandb\u001b[0m:   1 of 1 files downloaded.  \n"
     ]
    },
    {
     "name": "stdout",
     "output_type": "stream",
     "text": [
      "2025-04-22 16:32:50,556 - INFO - Downloaded logs_40gnycxn:v0 to /scratch/downloaded_artifacts/logs_40gnycxn:v0\n"
     ]
    },
    {
     "name": "stderr",
     "output_type": "stream",
     "text": [
      "\u001b[34m\u001b[1mwandb\u001b[0m:   1 of 1 files downloaded.  \n"
     ]
    },
    {
     "name": "stdout",
     "output_type": "stream",
     "text": [
      "2025-04-22 16:32:50,642 - INFO - Downloaded logs_809lvs31:v0 to /scratch/downloaded_artifacts/logs_809lvs31:v0\n"
     ]
    },
    {
     "name": "stderr",
     "output_type": "stream",
     "text": [
      "\u001b[34m\u001b[1mwandb\u001b[0m:   1 of 1 files downloaded.  \n"
     ]
    },
    {
     "name": "stdout",
     "output_type": "stream",
     "text": [
      "2025-04-22 16:32:50,861 - INFO - Downloaded logs_aof9vft2:v0 to /scratch/downloaded_artifacts/logs_aof9vft2:v0\n"
     ]
    },
    {
     "name": "stderr",
     "output_type": "stream",
     "text": [
      "\u001b[34m\u001b[1mwandb\u001b[0m:   1 of 1 files downloaded.  \n"
     ]
    },
    {
     "name": "stdout",
     "output_type": "stream",
     "text": [
      "2025-04-22 16:32:51,631 - INFO - Downloaded logs_p5x9r0k1:v0 to /scratch/downloaded_artifacts/logs_p5x9r0k1:v0\n"
     ]
    },
    {
     "name": "stderr",
     "output_type": "stream",
     "text": [
      "\u001b[34m\u001b[1mwandb\u001b[0m:   1 of 1 files downloaded.  \n"
     ]
    },
    {
     "name": "stdout",
     "output_type": "stream",
     "text": [
      "2025-04-22 16:32:51,667 - INFO - Downloaded logs_h90wy6bq:v0 to /scratch/downloaded_artifacts/logs_h90wy6bq:v0\n"
     ]
    },
    {
     "name": "stderr",
     "output_type": "stream",
     "text": [
      "\u001b[34m\u001b[1mwandb\u001b[0m:   1 of 1 files downloaded.  \n"
     ]
    },
    {
     "name": "stdout",
     "output_type": "stream",
     "text": [
      "2025-04-22 16:32:51,688 - INFO - Downloaded logs_g1ugk8rx:v0 to /scratch/downloaded_artifacts/logs_g1ugk8rx:v0\n"
     ]
    },
    {
     "name": "stderr",
     "output_type": "stream",
     "text": [
      "\u001b[34m\u001b[1mwandb\u001b[0m:   1 of 1 files downloaded.  \n"
     ]
    },
    {
     "name": "stdout",
     "output_type": "stream",
     "text": [
      "2025-04-22 16:32:51,697 - INFO - Downloaded logs_q0idtsoz:v0 to /scratch/downloaded_artifacts/logs_q0idtsoz:v0\n"
     ]
    },
    {
     "name": "stderr",
     "output_type": "stream",
     "text": [
      "\u001b[34m\u001b[1mwandb\u001b[0m:   1 of 1 files downloaded.  \n",
      "\u001b[34m\u001b[1mwandb\u001b[0m:   1 of 1 files downloaded.  \n",
      "\u001b[34m\u001b[1mwandb\u001b[0m:   1 of 1 files downloaded.  \n"
     ]
    },
    {
     "name": "stdout",
     "output_type": "stream",
     "text": [
      "2025-04-22 16:32:51,764 - INFO - Downloaded logs_7yko8dg2:v0 to /scratch/downloaded_artifacts/logs_7yko8dg2:v0\n"
     ]
    },
    {
     "name": "stderr",
     "output_type": "stream",
     "text": [
      "\u001b[34m\u001b[1mwandb\u001b[0m:   1 of 1 files downloaded.  \n"
     ]
    },
    {
     "name": "stdout",
     "output_type": "stream",
     "text": [
      "2025-04-22 16:32:51,775 - INFO - Downloaded logs_8f7k1b1p:v0 to /scratch/downloaded_artifacts/logs_8f7k1b1p:v0\n"
     ]
    },
    {
     "name": "stderr",
     "output_type": "stream",
     "text": [
      "\u001b[34m\u001b[1mwandb\u001b[0m:   1 of 1 files downloaded.  \n"
     ]
    },
    {
     "name": "stdout",
     "output_type": "stream",
     "text": [
      "2025-04-22 16:32:51,783 - INFO - Downloaded logs_bglscl53:v0 to /scratch/downloaded_artifacts/logs_bglscl53:v0\n"
     ]
    },
    {
     "name": "stderr",
     "output_type": "stream",
     "text": [
      "\u001b[34m\u001b[1mwandb\u001b[0m:   1 of 1 files downloaded.  \n"
     ]
    },
    {
     "name": "stdout",
     "output_type": "stream",
     "text": [
      "2025-04-22 16:32:51,789 - INFO - Downloaded logs_z5kjidpg:v0 to /scratch/downloaded_artifacts/logs_z5kjidpg:v0\n",
      "2025-04-22 16:32:51,791 - INFO - Downloaded logs_u7haegwb:v0 to /scratch/downloaded_artifacts/logs_u7haegwb:v0\n",
      "2025-04-22 16:32:51,799 - INFO - Downloaded logs_6vxdf2ep:v0 to /scratch/downloaded_artifacts/logs_6vxdf2ep:v0\n"
     ]
    },
    {
     "name": "stderr",
     "output_type": "stream",
     "text": [
      "\u001b[34m\u001b[1mwandb\u001b[0m:   1 of 1 files downloaded.  \n",
      "\u001b[34m\u001b[1mwandb\u001b[0m:   1 of 1 files downloaded.  \n"
     ]
    },
    {
     "name": "stdout",
     "output_type": "stream",
     "text": [
      "2025-04-22 16:32:51,811 - INFO - Downloaded logs_0oojy1g0:v0 to /scratch/downloaded_artifacts/logs_0oojy1g0:v0\n"
     ]
    },
    {
     "name": "stderr",
     "output_type": "stream",
     "text": [
      "\u001b[34m\u001b[1mwandb\u001b[0m:   1 of 1 files downloaded.  \n"
     ]
    },
    {
     "name": "stdout",
     "output_type": "stream",
     "text": [
      "2025-04-22 16:32:51,818 - INFO - Downloaded logs_2lq5slfy:v0 to /scratch/downloaded_artifacts/logs_2lq5slfy:v0\n"
     ]
    },
    {
     "name": "stderr",
     "output_type": "stream",
     "text": [
      "\u001b[34m\u001b[1mwandb\u001b[0m:   1 of 1 files downloaded.  \n"
     ]
    },
    {
     "name": "stdout",
     "output_type": "stream",
     "text": [
      "2025-04-22 16:32:51,819 - INFO - Downloaded logs_7eqyzb6f:v0 to /scratch/downloaded_artifacts/logs_7eqyzb6f:v0\n"
     ]
    },
    {
     "name": "stderr",
     "output_type": "stream",
     "text": [
      "\u001b[34m\u001b[1mwandb\u001b[0m:   1 of 1 files downloaded.  \n"
     ]
    },
    {
     "name": "stdout",
     "output_type": "stream",
     "text": [
      "2025-04-22 16:32:51,822 - INFO - Downloaded logs_2uumuz3n:v0 to /scratch/downloaded_artifacts/logs_2uumuz3n:v0\n",
      "2025-04-22 16:32:51,825 - INFO - Downloaded logs_t1sn7cif:v0 to /scratch/downloaded_artifacts/logs_t1sn7cif:v0\n"
     ]
    },
    {
     "name": "stderr",
     "output_type": "stream",
     "text": [
      "\u001b[34m\u001b[1mwandb\u001b[0m:   1 of 1 files downloaded.  \n"
     ]
    },
    {
     "name": "stdout",
     "output_type": "stream",
     "text": [
      "2025-04-22 16:32:51,845 - INFO - Downloaded logs_q5uvkowy:v0 to /scratch/downloaded_artifacts/logs_q5uvkowy:v0\n"
     ]
    },
    {
     "name": "stderr",
     "output_type": "stream",
     "text": [
      "\u001b[34m\u001b[1mwandb\u001b[0m:   1 of 1 files downloaded.  \n"
     ]
    },
    {
     "name": "stdout",
     "output_type": "stream",
     "text": [
      "2025-04-22 16:32:51,859 - INFO - Downloaded logs_bsd6fdrn:v0 to /scratch/downloaded_artifacts/logs_bsd6fdrn:v0\n"
     ]
    },
    {
     "name": "stderr",
     "output_type": "stream",
     "text": [
      "\u001b[34m\u001b[1mwandb\u001b[0m:   1 of 1 files downloaded.  \n"
     ]
    },
    {
     "name": "stdout",
     "output_type": "stream",
     "text": [
      "2025-04-22 16:32:51,887 - INFO - Downloaded logs_a00vof6c:v0 to /scratch/downloaded_artifacts/logs_a00vof6c:v0\n"
     ]
    },
    {
     "name": "stderr",
     "output_type": "stream",
     "text": [
      "\u001b[34m\u001b[1mwandb\u001b[0m:   1 of 1 files downloaded.  \n"
     ]
    },
    {
     "name": "stdout",
     "output_type": "stream",
     "text": [
      "2025-04-22 16:32:52,431 - INFO - Downloaded logs_bjj511dy:v0 to /scratch/downloaded_artifacts/logs_bjj511dy:v0\n"
     ]
    },
    {
     "name": "stderr",
     "output_type": "stream",
     "text": [
      "\u001b[34m\u001b[1mwandb\u001b[0m:   1 of 1 files downloaded.  \n",
      "\u001b[34m\u001b[1mwandb\u001b[0m:   1 of 1 files downloaded.  \n",
      "\u001b[34m\u001b[1mwandb\u001b[0m:   1 of 1 files downloaded.  \n"
     ]
    },
    {
     "name": "stdout",
     "output_type": "stream",
     "text": [
      "2025-04-22 16:32:53,311 - INFO - Downloaded logs_izr2o45b:v0 to /scratch/downloaded_artifacts/logs_izr2o45b:v0\n",
      "2025-04-22 16:32:53,311 - INFO - Downloaded logs_3kjuoi2u:v0 to /scratch/downloaded_artifacts/logs_3kjuoi2u:v0\n",
      "2025-04-22 16:32:53,388 - INFO - Downloaded logs_pb7lh6z6:v0 to /scratch/downloaded_artifacts/logs_pb7lh6z6:v0\n"
     ]
    },
    {
     "name": "stderr",
     "output_type": "stream",
     "text": [
      "\u001b[34m\u001b[1mwandb\u001b[0m:   1 of 1 files downloaded.  \n",
      "\u001b[34m\u001b[1mwandb\u001b[0m:   1 of 1 files downloaded.  \n"
     ]
    },
    {
     "name": "stdout",
     "output_type": "stream",
     "text": [
      "2025-04-22 16:32:53,422 - INFO - Downloaded logs_1txrbm1a:v0 to /scratch/downloaded_artifacts/logs_1txrbm1a:v0\n"
     ]
    },
    {
     "name": "stderr",
     "output_type": "stream",
     "text": [
      "\u001b[34m\u001b[1mwandb\u001b[0m:   1 of 1 files downloaded.  \n"
     ]
    },
    {
     "name": "stdout",
     "output_type": "stream",
     "text": [
      "2025-04-22 16:32:53,430 - INFO - Downloaded logs_q52bcqvp:v0 to /scratch/downloaded_artifacts/logs_q52bcqvp:v0\n"
     ]
    },
    {
     "name": "stderr",
     "output_type": "stream",
     "text": [
      "\u001b[34m\u001b[1mwandb\u001b[0m:   1 of 1 files downloaded.  \n"
     ]
    },
    {
     "name": "stdout",
     "output_type": "stream",
     "text": [
      "2025-04-22 16:32:53,430 - INFO - Downloaded logs_e9hia9ts:v0 to /scratch/downloaded_artifacts/logs_e9hia9ts:v0\n"
     ]
    },
    {
     "name": "stderr",
     "output_type": "stream",
     "text": [
      "\u001b[34m\u001b[1mwandb\u001b[0m:   1 of 1 files downloaded.  \n",
      "\u001b[34m\u001b[1mwandb\u001b[0m:   1 of 1 files downloaded.  \n"
     ]
    },
    {
     "name": "stdout",
     "output_type": "stream",
     "text": [
      "2025-04-22 16:32:53,441 - INFO - Downloaded logs_rr50sbzy:v0 to /scratch/downloaded_artifacts/logs_rr50sbzy:v0\n"
     ]
    },
    {
     "name": "stderr",
     "output_type": "stream",
     "text": [
      "\u001b[34m\u001b[1mwandb\u001b[0m:   1 of 1 files downloaded.  \n"
     ]
    },
    {
     "name": "stdout",
     "output_type": "stream",
     "text": [
      "2025-04-22 16:32:53,445 - INFO - Downloaded logs_w96d1oyg:v0 to /scratch/downloaded_artifacts/logs_w96d1oyg:v0\n",
      "2025-04-22 16:32:53,449 - INFO - Downloaded logs_fo0avbpb:v0 to /scratch/downloaded_artifacts/logs_fo0avbpb:v0\n"
     ]
    },
    {
     "name": "stderr",
     "output_type": "stream",
     "text": [
      "\u001b[34m\u001b[1mwandb\u001b[0m:   1 of 1 files downloaded.  \n"
     ]
    },
    {
     "name": "stdout",
     "output_type": "stream",
     "text": [
      "2025-04-22 16:32:53,455 - INFO - Downloaded logs_h6j22r7p:v0 to /scratch/downloaded_artifacts/logs_h6j22r7p:v0\n"
     ]
    },
    {
     "name": "stderr",
     "output_type": "stream",
     "text": [
      "\u001b[34m\u001b[1mwandb\u001b[0m:   1 of 1 files downloaded.  \n"
     ]
    },
    {
     "name": "stdout",
     "output_type": "stream",
     "text": [
      "2025-04-22 16:32:53,458 - INFO - Downloaded logs_gs4cgs4q:v0 to /scratch/downloaded_artifacts/logs_gs4cgs4q:v0\n",
      "2025-04-22 16:32:53,475 - INFO - Downloaded logs_gw7jo9zz:v0 to /scratch/downloaded_artifacts/logs_gw7jo9zz:v0\n"
     ]
    },
    {
     "name": "stderr",
     "output_type": "stream",
     "text": [
      "\u001b[34m\u001b[1mwandb\u001b[0m:   1 of 1 files downloaded.  \n",
      "\u001b[34m\u001b[1mwandb\u001b[0m:   1 of 1 files downloaded.  \n"
     ]
    },
    {
     "name": "stdout",
     "output_type": "stream",
     "text": [
      "2025-04-22 16:32:53,487 - INFO - Downloaded logs_3t6w0tbn:v0 to /scratch/downloaded_artifacts/logs_3t6w0tbn:v0\n",
      "2025-04-22 16:32:53,493 - INFO - Downloaded logs_yr1iegnh:v0 to /scratch/downloaded_artifacts/logs_yr1iegnh:v0\n"
     ]
    },
    {
     "name": "stderr",
     "output_type": "stream",
     "text": [
      "\u001b[34m\u001b[1mwandb\u001b[0m:   1 of 1 files downloaded.  \n"
     ]
    },
    {
     "name": "stdout",
     "output_type": "stream",
     "text": [
      "2025-04-22 16:32:53,512 - INFO - Downloaded logs_qfocoqz8:v0 to /scratch/downloaded_artifacts/logs_qfocoqz8:v0\n"
     ]
    },
    {
     "name": "stderr",
     "output_type": "stream",
     "text": [
      "\u001b[34m\u001b[1mwandb\u001b[0m:   1 of 1 files downloaded.  \n"
     ]
    },
    {
     "name": "stdout",
     "output_type": "stream",
     "text": [
      "2025-04-22 16:32:53,518 - INFO - Downloaded logs_2qteb36s:v0 to /scratch/downloaded_artifacts/logs_2qteb36s:v0\n"
     ]
    },
    {
     "name": "stderr",
     "output_type": "stream",
     "text": [
      "\u001b[34m\u001b[1mwandb\u001b[0m:   1 of 1 files downloaded.  \n"
     ]
    },
    {
     "name": "stdout",
     "output_type": "stream",
     "text": [
      "2025-04-22 16:32:53,763 - INFO - Downloaded logs_qd8au9w4:v0 to /scratch/downloaded_artifacts/logs_qd8au9w4:v0\n"
     ]
    },
    {
     "name": "stderr",
     "output_type": "stream",
     "text": [
      "\u001b[34m\u001b[1mwandb\u001b[0m:   1 of 1 files downloaded.  \n"
     ]
    },
    {
     "name": "stdout",
     "output_type": "stream",
     "text": [
      "2025-04-22 16:32:53,773 - INFO - Downloaded logs_bxfgeqwf:v0 to /scratch/downloaded_artifacts/logs_bxfgeqwf:v0\n"
     ]
    },
    {
     "name": "stderr",
     "output_type": "stream",
     "text": [
      "\u001b[34m\u001b[1mwandb\u001b[0m:   1 of 1 files downloaded.  \n"
     ]
    },
    {
     "name": "stdout",
     "output_type": "stream",
     "text": [
      "2025-04-22 16:32:54,194 - INFO - Downloaded logs_8t96ee4i:v0 to /scratch/downloaded_artifacts/logs_8t96ee4i:v0\n"
     ]
    },
    {
     "name": "stderr",
     "output_type": "stream",
     "text": [
      "\u001b[34m\u001b[1mwandb\u001b[0m:   1 of 1 files downloaded.  \n"
     ]
    },
    {
     "name": "stdout",
     "output_type": "stream",
     "text": [
      "2025-04-22 16:32:54,340 - INFO - Downloaded logs_cef5ugqm:v0 to /scratch/downloaded_artifacts/logs_cef5ugqm:v0\n"
     ]
    },
    {
     "name": "stderr",
     "output_type": "stream",
     "text": [
      "\u001b[34m\u001b[1mwandb\u001b[0m:   1 of 1 files downloaded.  \n"
     ]
    },
    {
     "name": "stdout",
     "output_type": "stream",
     "text": [
      "2025-04-22 16:32:54,969 - INFO - Downloaded logs_emeya87h:v0 to /scratch/downloaded_artifacts/logs_emeya87h:v0\n"
     ]
    },
    {
     "name": "stderr",
     "output_type": "stream",
     "text": [
      "\u001b[34m\u001b[1mwandb\u001b[0m:   1 of 1 files downloaded.  \n"
     ]
    },
    {
     "name": "stdout",
     "output_type": "stream",
     "text": [
      "2025-04-22 16:32:55,106 - INFO - Downloaded logs_gf4d8y71:v0 to /scratch/downloaded_artifacts/logs_gf4d8y71:v0\n"
     ]
    },
    {
     "name": "stderr",
     "output_type": "stream",
     "text": [
      "\u001b[34m\u001b[1mwandb\u001b[0m:   1 of 1 files downloaded.  \n"
     ]
    },
    {
     "name": "stdout",
     "output_type": "stream",
     "text": [
      "2025-04-22 16:32:55,159 - INFO - Downloaded logs_hpwszkqh:v0 to /scratch/downloaded_artifacts/logs_hpwszkqh:v0\n"
     ]
    },
    {
     "name": "stderr",
     "output_type": "stream",
     "text": [
      "\u001b[34m\u001b[1mwandb\u001b[0m:   1 of 1 files downloaded.  \n"
     ]
    },
    {
     "name": "stdout",
     "output_type": "stream",
     "text": [
      "2025-04-22 16:32:55,171 - INFO - Downloaded logs_xswifl7a:v0 to /scratch/downloaded_artifacts/logs_xswifl7a:v0\n"
     ]
    },
    {
     "name": "stderr",
     "output_type": "stream",
     "text": [
      "\u001b[34m\u001b[1mwandb\u001b[0m:   1 of 1 files downloaded.  \n"
     ]
    },
    {
     "name": "stdout",
     "output_type": "stream",
     "text": [
      "2025-04-22 16:32:55,189 - INFO - Downloaded logs_0wlg6f8i:v0 to /scratch/downloaded_artifacts/logs_0wlg6f8i:v0\n"
     ]
    },
    {
     "name": "stderr",
     "output_type": "stream",
     "text": [
      "\u001b[34m\u001b[1mwandb\u001b[0m:   1 of 1 files downloaded.  \n"
     ]
    },
    {
     "name": "stdout",
     "output_type": "stream",
     "text": [
      "2025-04-22 16:32:55,204 - INFO - Downloaded logs_ymvla9a2:v0 to /scratch/downloaded_artifacts/logs_ymvla9a2:v0\n"
     ]
    },
    {
     "name": "stderr",
     "output_type": "stream",
     "text": [
      "\u001b[34m\u001b[1mwandb\u001b[0m:   1 of 1 files downloaded.  \n"
     ]
    },
    {
     "name": "stdout",
     "output_type": "stream",
     "text": [
      "2025-04-22 16:32:55,212 - INFO - Downloaded logs_3f8h2vjl:v0 to /scratch/downloaded_artifacts/logs_3f8h2vjl:v0\n"
     ]
    },
    {
     "name": "stderr",
     "output_type": "stream",
     "text": [
      "\u001b[34m\u001b[1mwandb\u001b[0m:   1 of 1 files downloaded.  \n",
      "\u001b[34m\u001b[1mwandb\u001b[0m:   1 of 1 files downloaded.  \n"
     ]
    },
    {
     "name": "stdout",
     "output_type": "stream",
     "text": [
      "2025-04-22 16:32:55,232 - INFO - Downloaded logs_kw3othfg:v0 to /scratch/downloaded_artifacts/logs_kw3othfg:v0\n"
     ]
    },
    {
     "name": "stderr",
     "output_type": "stream",
     "text": [
      "\u001b[34m\u001b[1mwandb\u001b[0m:   1 of 1 files downloaded.  \n"
     ]
    },
    {
     "name": "stdout",
     "output_type": "stream",
     "text": [
      "2025-04-22 16:32:55,240 - INFO - Downloaded logs_gzirbbec:v0 to /scratch/downloaded_artifacts/logs_gzirbbec:v0\n"
     ]
    },
    {
     "name": "stderr",
     "output_type": "stream",
     "text": [
      "\u001b[34m\u001b[1mwandb\u001b[0m:   1 of 1 files downloaded.  \n",
      "\u001b[34m\u001b[1mwandb\u001b[0m:   1 of 1 files downloaded.  \n"
     ]
    },
    {
     "name": "stdout",
     "output_type": "stream",
     "text": [
      "2025-04-22 16:32:55,242 - INFO - Downloaded logs_qxhd9iln:v0 to /scratch/downloaded_artifacts/logs_qxhd9iln:v0\n",
      "2025-04-22 16:32:55,246 - INFO - Downloaded logs_upx8whk7:v0 to /scratch/downloaded_artifacts/logs_upx8whk7:v0\n"
     ]
    },
    {
     "name": "stderr",
     "output_type": "stream",
     "text": [
      "\u001b[34m\u001b[1mwandb\u001b[0m:   1 of 1 files downloaded.  \n"
     ]
    },
    {
     "name": "stdout",
     "output_type": "stream",
     "text": [
      "2025-04-22 16:32:55,250 - INFO - Downloaded logs_xnk60z7v:v0 to /scratch/downloaded_artifacts/logs_xnk60z7v:v0\n"
     ]
    },
    {
     "name": "stderr",
     "output_type": "stream",
     "text": [
      "\u001b[34m\u001b[1mwandb\u001b[0m:   1 of 1 files downloaded.  \n"
     ]
    },
    {
     "name": "stdout",
     "output_type": "stream",
     "text": [
      "2025-04-22 16:32:55,252 - INFO - Downloaded logs_t1bckitk:v0 to /scratch/downloaded_artifacts/logs_t1bckitk:v0\n"
     ]
    },
    {
     "name": "stderr",
     "output_type": "stream",
     "text": [
      "\u001b[34m\u001b[1mwandb\u001b[0m:   1 of 1 files downloaded.  \n"
     ]
    },
    {
     "name": "stdout",
     "output_type": "stream",
     "text": [
      "2025-04-22 16:32:55,254 - INFO - Downloaded logs_cr4v671r:v0 to /scratch/downloaded_artifacts/logs_cr4v671r:v0\n",
      "2025-04-22 16:32:55,260 - INFO - Downloaded logs_e6rl2u6o:v0 to /scratch/downloaded_artifacts/logs_e6rl2u6o:v0\n"
     ]
    },
    {
     "name": "stderr",
     "output_type": "stream",
     "text": [
      "\u001b[34m\u001b[1mwandb\u001b[0m:   1 of 1 files downloaded.  \n",
      "\u001b[34m\u001b[1mwandb\u001b[0m:   1 of 1 files downloaded.  \n"
     ]
    },
    {
     "name": "stdout",
     "output_type": "stream",
     "text": [
      "2025-04-22 16:32:55,264 - INFO - Downloaded logs_lpfyi1c0:v0 to /scratch/downloaded_artifacts/logs_lpfyi1c0:v0\n",
      "2025-04-22 16:32:55,265 - INFO - Downloaded logs_2lqm1wc9:v0 to /scratch/downloaded_artifacts/logs_2lqm1wc9:v0\n"
     ]
    },
    {
     "name": "stderr",
     "output_type": "stream",
     "text": [
      "\u001b[34m\u001b[1mwandb\u001b[0m:   1 of 1 files downloaded.  \n"
     ]
    },
    {
     "name": "stdout",
     "output_type": "stream",
     "text": [
      "2025-04-22 16:32:55,998 - INFO - Downloaded logs_19075f9t:v0 to /scratch/downloaded_artifacts/logs_19075f9t:v0\n"
     ]
    },
    {
     "name": "stderr",
     "output_type": "stream",
     "text": [
      "\u001b[34m\u001b[1mwandb\u001b[0m:   1 of 1 files downloaded.  \n"
     ]
    },
    {
     "name": "stdout",
     "output_type": "stream",
     "text": [
      "2025-04-22 16:32:56,377 - INFO - Downloaded logs_5q72r97p:v0 to /scratch/downloaded_artifacts/logs_5q72r97p:v0\n"
     ]
    },
    {
     "name": "stderr",
     "output_type": "stream",
     "text": [
      "\u001b[34m\u001b[1mwandb\u001b[0m:   1 of 1 files downloaded.  \n"
     ]
    },
    {
     "name": "stdout",
     "output_type": "stream",
     "text": [
      "2025-04-22 16:32:56,389 - INFO - Downloaded logs_e2m5jupr:v0 to /scratch/downloaded_artifacts/logs_e2m5jupr:v0\n"
     ]
    },
    {
     "name": "stderr",
     "output_type": "stream",
     "text": [
      "\u001b[34m\u001b[1mwandb\u001b[0m:   1 of 1 files downloaded.  \n"
     ]
    },
    {
     "name": "stdout",
     "output_type": "stream",
     "text": [
      "2025-04-22 16:32:56,394 - INFO - Downloaded logs_od2ljqvb:v0 to /scratch/downloaded_artifacts/logs_od2ljqvb:v0\n"
     ]
    },
    {
     "name": "stderr",
     "output_type": "stream",
     "text": [
      "\u001b[34m\u001b[1mwandb\u001b[0m:   1 of 1 files downloaded.  \n"
     ]
    },
    {
     "name": "stdout",
     "output_type": "stream",
     "text": [
      "2025-04-22 16:32:56,519 - INFO - Downloaded logs_eo2nvipd:v0 to /scratch/downloaded_artifacts/logs_eo2nvipd:v0\n"
     ]
    },
    {
     "name": "stderr",
     "output_type": "stream",
     "text": [
      "\u001b[34m\u001b[1mwandb\u001b[0m:   1 of 1 files downloaded.  \n"
     ]
    },
    {
     "name": "stdout",
     "output_type": "stream",
     "text": [
      "2025-04-22 16:32:56,784 - INFO - Downloaded logs_77p9pe0o:v0 to /scratch/downloaded_artifacts/logs_77p9pe0o:v0\n"
     ]
    },
    {
     "name": "stderr",
     "output_type": "stream",
     "text": [
      "\u001b[34m\u001b[1mwandb\u001b[0m:   1 of 1 files downloaded.  \n"
     ]
    },
    {
     "name": "stdout",
     "output_type": "stream",
     "text": [
      "2025-04-22 16:32:57,004 - INFO - Downloaded logs_dcw0sr65:v0 to /scratch/downloaded_artifacts/logs_dcw0sr65:v0\n"
     ]
    },
    {
     "name": "stderr",
     "output_type": "stream",
     "text": [
      "\u001b[34m\u001b[1mwandb\u001b[0m:   1 of 1 files downloaded.  \n",
      "\u001b[34m\u001b[1mwandb\u001b[0m:   1 of 1 files downloaded.  \n"
     ]
    },
    {
     "name": "stdout",
     "output_type": "stream",
     "text": [
      "2025-04-22 16:32:57,091 - INFO - Downloaded logs_5icwigvc:v0 to /scratch/downloaded_artifacts/logs_5icwigvc:v0\n"
     ]
    },
    {
     "name": "stderr",
     "output_type": "stream",
     "text": [
      "\u001b[34m\u001b[1mwandb\u001b[0m:   1 of 1 files downloaded.  \n"
     ]
    },
    {
     "name": "stdout",
     "output_type": "stream",
     "text": [
      "2025-04-22 16:32:57,091 - INFO - Downloaded logs_6aklhhzm:v0 to /scratch/downloaded_artifacts/logs_6aklhhzm:v0\n"
     ]
    },
    {
     "name": "stderr",
     "output_type": "stream",
     "text": [
      "\u001b[34m\u001b[1mwandb\u001b[0m:   1 of 1 files downloaded.  \n"
     ]
    },
    {
     "name": "stdout",
     "output_type": "stream",
     "text": [
      "2025-04-22 16:32:57,110 - INFO - Downloaded logs_26j05ojj:v0 to /scratch/downloaded_artifacts/logs_26j05ojj:v0\n",
      "2025-04-22 16:32:57,115 - INFO - Downloaded logs_8f170r1g:v0 to /scratch/downloaded_artifacts/logs_8f170r1g:v0\n"
     ]
    },
    {
     "name": "stderr",
     "output_type": "stream",
     "text": [
      "\u001b[34m\u001b[1mwandb\u001b[0m:   1 of 1 files downloaded.  \n"
     ]
    },
    {
     "name": "stdout",
     "output_type": "stream",
     "text": [
      "2025-04-22 16:32:57,122 - INFO - Downloaded logs_q5mls77c:v0 to /scratch/downloaded_artifacts/logs_q5mls77c:v0\n"
     ]
    },
    {
     "name": "stderr",
     "output_type": "stream",
     "text": [
      "\u001b[34m\u001b[1mwandb\u001b[0m:   1 of 1 files downloaded.  \n",
      "\u001b[34m\u001b[1mwandb\u001b[0m:   1 of 1 files downloaded.  \n"
     ]
    },
    {
     "name": "stdout",
     "output_type": "stream",
     "text": [
      "2025-04-22 16:32:57,127 - INFO - Downloaded logs_2gdxd50f:v0 to /scratch/downloaded_artifacts/logs_2gdxd50f:v0\n"
     ]
    },
    {
     "name": "stderr",
     "output_type": "stream",
     "text": [
      "\u001b[34m\u001b[1mwandb\u001b[0m:   1 of 1 files downloaded.  \n",
      "\u001b[34m\u001b[1mwandb\u001b[0m:   1 of 1 files downloaded.  \n"
     ]
    },
    {
     "name": "stdout",
     "output_type": "stream",
     "text": [
      "2025-04-22 16:32:57,131 - INFO - Downloaded logs_k6ke3dec:v0 to /scratch/downloaded_artifacts/logs_k6ke3dec:v0\n",
      "2025-04-22 16:32:57,133 - INFO - Downloaded logs_ox5aao27:v0 to /scratch/downloaded_artifacts/logs_ox5aao27:v0\n"
     ]
    },
    {
     "name": "stderr",
     "output_type": "stream",
     "text": [
      "\u001b[34m\u001b[1mwandb\u001b[0m:   1 of 1 files downloaded.  \n"
     ]
    },
    {
     "name": "stdout",
     "output_type": "stream",
     "text": [
      "2025-04-22 16:32:57,135 - INFO - Downloaded logs_efvblfwa:v0 to /scratch/downloaded_artifacts/logs_efvblfwa:v0\n",
      "2025-04-22 16:32:57,139 - INFO - Downloaded logs_sv9b18va:v0 to /scratch/downloaded_artifacts/logs_sv9b18va:v0\n"
     ]
    },
    {
     "name": "stderr",
     "output_type": "stream",
     "text": [
      "\u001b[34m\u001b[1mwandb\u001b[0m:   1 of 1 files downloaded.  \n"
     ]
    },
    {
     "name": "stdout",
     "output_type": "stream",
     "text": [
      "2025-04-22 16:32:57,148 - INFO - Downloaded logs_60nhdagt:v0 to /scratch/downloaded_artifacts/logs_60nhdagt:v0\n"
     ]
    },
    {
     "name": "stderr",
     "output_type": "stream",
     "text": [
      "\u001b[34m\u001b[1mwandb\u001b[0m:   1 of 1 files downloaded.  \n"
     ]
    },
    {
     "name": "stdout",
     "output_type": "stream",
     "text": [
      "2025-04-22 16:32:57,164 - INFO - Downloaded logs_os6eqre5:v0 to /scratch/downloaded_artifacts/logs_os6eqre5:v0\n"
     ]
    },
    {
     "name": "stderr",
     "output_type": "stream",
     "text": [
      "\u001b[34m\u001b[1mwandb\u001b[0m: \u001b[32m\u001b[41mERROR\u001b[0m Error while calling W&B API: rate limit exceeded (<Response [429]>)\n",
      "\u001b[34m\u001b[1mwandb\u001b[0m: \u001b[32m\u001b[41mERROR\u001b[0m Error while calling W&B API: rate limit exceeded (<Response [429]>)\n",
      "\u001b[34m\u001b[1mwandb\u001b[0m: \u001b[32m\u001b[41mERROR\u001b[0m Error while calling W&B API: rate limit exceeded (<Response [429]>)\n",
      "\u001b[34m\u001b[1mwandb\u001b[0m: \u001b[32m\u001b[41mERROR\u001b[0m Error while calling W&B API: rate limit exceeded (<Response [429]>)\n",
      "\u001b[34m\u001b[1mwandb\u001b[0m: \u001b[32m\u001b[41mERROR\u001b[0m Error while calling W&B API: rate limit exceeded (<Response [429]>)\n",
      "\u001b[34m\u001b[1mwandb\u001b[0m: \u001b[32m\u001b[41mERROR\u001b[0m Error while calling W&B API: rate limit exceeded (<Response [429]>)\n",
      "\u001b[34m\u001b[1mwandb\u001b[0m: \u001b[32m\u001b[41mERROR\u001b[0m Error while calling W&B API: rate limit exceeded (<Response [429]>)\n",
      "\u001b[34m\u001b[1mwandb\u001b[0m: \u001b[32m\u001b[41mERROR\u001b[0m Error while calling W&B API: rate limit exceeded (<Response [429]>)\n",
      "\u001b[34m\u001b[1mwandb\u001b[0m: \u001b[32m\u001b[41mERROR\u001b[0m Error while calling W&B API: rate limit exceeded (<Response [429]>)\n",
      "\u001b[34m\u001b[1mwandb\u001b[0m: \u001b[32m\u001b[41mERROR\u001b[0m Error while calling W&B API: rate limit exceeded (<Response [429]>)\n",
      "\u001b[34m\u001b[1mwandb\u001b[0m: \u001b[32m\u001b[41mERROR\u001b[0m Error while calling W&B API: rate limit exceeded (<Response [429]>)\n",
      "\u001b[34m\u001b[1mwandb\u001b[0m: \u001b[32m\u001b[41mERROR\u001b[0m Error while calling W&B API: rate limit exceeded (<Response [429]>)\n",
      "\u001b[34m\u001b[1mwandb\u001b[0m: \u001b[32m\u001b[41mERROR\u001b[0m Error while calling W&B API: rate limit exceeded (<Response [429]>)\n",
      "\u001b[34m\u001b[1mwandb\u001b[0m: \u001b[32m\u001b[41mERROR\u001b[0m Error while calling W&B API: rate limit exceeded (<Response [429]>)\n",
      "\u001b[34m\u001b[1mwandb\u001b[0m: \u001b[32m\u001b[41mERROR\u001b[0m Error while calling W&B API: rate limit exceeded (<Response [429]>)\n",
      "\u001b[34m\u001b[1mwandb\u001b[0m: \u001b[32m\u001b[41mERROR\u001b[0m Error while calling W&B API: rate limit exceeded (<Response [429]>)\n",
      "\u001b[34m\u001b[1mwandb\u001b[0m: \u001b[32m\u001b[41mERROR\u001b[0m Error while calling W&B API: rate limit exceeded (<Response [429]>)\n",
      "\u001b[34m\u001b[1mwandb\u001b[0m:   1 of 1 files downloaded.  \n"
     ]
    },
    {
     "name": "stdout",
     "output_type": "stream",
     "text": [
      "2025-04-22 16:32:57,381 - INFO - Downloaded logs_6hgqnxnc:v0 to /scratch/downloaded_artifacts/logs_6hgqnxnc:v0\n"
     ]
    },
    {
     "name": "stderr",
     "output_type": "stream",
     "text": [
      "\u001b[34m\u001b[1mwandb\u001b[0m: \u001b[32m\u001b[41mERROR\u001b[0m Error while calling W&B API: rate limit exceeded (<Response [429]>)\n",
      "\u001b[34m\u001b[1mwandb\u001b[0m: \u001b[32m\u001b[41mERROR\u001b[0m Error while calling W&B API: rate limit exceeded (<Response [429]>)\n",
      "\u001b[34m\u001b[1mwandb\u001b[0m: \u001b[32m\u001b[41mERROR\u001b[0m Error while calling W&B API: rate limit exceeded (<Response [429]>)\n",
      "\u001b[34m\u001b[1mwandb\u001b[0m: \u001b[32m\u001b[41mERROR\u001b[0m Error while calling W&B API: rate limit exceeded (<Response [429]>)\n",
      "\u001b[34m\u001b[1mwandb\u001b[0m: \u001b[32m\u001b[41mERROR\u001b[0m Error while calling W&B API: rate limit exceeded (<Response [429]>)\n",
      "\u001b[34m\u001b[1mwandb\u001b[0m: \u001b[32m\u001b[41mERROR\u001b[0m Error while calling W&B API: rate limit exceeded (<Response [429]>)\n",
      "\u001b[34m\u001b[1mwandb\u001b[0m: \u001b[32m\u001b[41mERROR\u001b[0m Error while calling W&B API: rate limit exceeded (<Response [429]>)\n",
      "\u001b[34m\u001b[1mwandb\u001b[0m: \u001b[32m\u001b[41mERROR\u001b[0m Error while calling W&B API: rate limit exceeded (<Response [429]>)\n",
      "\u001b[34m\u001b[1mwandb\u001b[0m: \u001b[32m\u001b[41mERROR\u001b[0m Error while calling W&B API: rate limit exceeded (<Response [429]>)\n",
      "\u001b[34m\u001b[1mwandb\u001b[0m: \u001b[32m\u001b[41mERROR\u001b[0m Error while calling W&B API: rate limit exceeded (<Response [429]>)\n",
      "\u001b[34m\u001b[1mwandb\u001b[0m: \u001b[32m\u001b[41mERROR\u001b[0m Error while calling W&B API: rate limit exceeded (<Response [429]>)\n",
      "\u001b[34m\u001b[1mwandb\u001b[0m: \u001b[32m\u001b[41mERROR\u001b[0m Error while calling W&B API: rate limit exceeded (<Response [429]>)\n",
      "\u001b[34m\u001b[1mwandb\u001b[0m: \u001b[32m\u001b[41mERROR\u001b[0m Error while calling W&B API: rate limit exceeded (<Response [429]>)\n",
      "\u001b[34m\u001b[1mwandb\u001b[0m: \u001b[32m\u001b[41mERROR\u001b[0m Error while calling W&B API: rate limit exceeded (<Response [429]>)\n",
      "\u001b[34m\u001b[1mwandb\u001b[0m: \u001b[32m\u001b[41mERROR\u001b[0m Error while calling W&B API: rate limit exceeded (<Response [429]>)\n",
      "\u001b[34m\u001b[1mwandb\u001b[0m: \u001b[32m\u001b[41mERROR\u001b[0m Error while calling W&B API: rate limit exceeded (<Response [429]>)\n",
      "\u001b[34m\u001b[1mwandb\u001b[0m: \u001b[32m\u001b[41mERROR\u001b[0m Error while calling W&B API: rate limit exceeded (<Response [429]>)\n",
      "\u001b[34m\u001b[1mwandb\u001b[0m: \u001b[32m\u001b[41mERROR\u001b[0m Error while calling W&B API: rate limit exceeded (<Response [429]>)\n",
      "\u001b[34m\u001b[1mwandb\u001b[0m: \u001b[32m\u001b[41mERROR\u001b[0m Error while calling W&B API: rate limit exceeded (<Response [429]>)\n",
      "\u001b[34m\u001b[1mwandb\u001b[0m: \u001b[32m\u001b[41mERROR\u001b[0m Error while calling W&B API: rate limit exceeded (<Response [429]>)\n",
      "\u001b[34m\u001b[1mwandb\u001b[0m:   1 of 1 files downloaded.  \n"
     ]
    },
    {
     "name": "stdout",
     "output_type": "stream",
     "text": [
      "2025-04-22 16:33:00,470 - INFO - Downloaded logs_v8mrl3uv:v0 to /scratch/downloaded_artifacts/logs_v8mrl3uv:v0\n"
     ]
    },
    {
     "name": "stderr",
     "output_type": "stream",
     "text": [
      "\u001b[34m\u001b[1mwandb\u001b[0m:   1 of 1 files downloaded.  \n"
     ]
    },
    {
     "name": "stdout",
     "output_type": "stream",
     "text": [
      "2025-04-22 16:33:00,917 - INFO - Downloaded logs_bzppur17:v0 to /scratch/downloaded_artifacts/logs_bzppur17:v0\n"
     ]
    },
    {
     "name": "stderr",
     "output_type": "stream",
     "text": [
      "\u001b[34m\u001b[1mwandb\u001b[0m:   1 of 1 files downloaded.  \n"
     ]
    },
    {
     "name": "stdout",
     "output_type": "stream",
     "text": [
      "2025-04-22 16:33:01,531 - INFO - Downloaded logs_fekdzz4j:v0 to /scratch/downloaded_artifacts/logs_fekdzz4j:v0\n"
     ]
    },
    {
     "name": "stderr",
     "output_type": "stream",
     "text": [
      "\u001b[34m\u001b[1mwandb\u001b[0m:   1 of 1 files downloaded.  \n"
     ]
    },
    {
     "name": "stdout",
     "output_type": "stream",
     "text": [
      "2025-04-22 16:33:01,646 - INFO - Downloaded logs_e7ffj4vr:v0 to /scratch/downloaded_artifacts/logs_e7ffj4vr:v0\n"
     ]
    },
    {
     "name": "stderr",
     "output_type": "stream",
     "text": [
      "\u001b[34m\u001b[1mwandb\u001b[0m:   1 of 1 files downloaded.  \n"
     ]
    },
    {
     "name": "stdout",
     "output_type": "stream",
     "text": [
      "2025-04-22 16:33:01,738 - INFO - Downloaded logs_kmkvh6d2:v0 to /scratch/downloaded_artifacts/logs_kmkvh6d2:v0\n"
     ]
    },
    {
     "name": "stderr",
     "output_type": "stream",
     "text": [
      "\u001b[34m\u001b[1mwandb\u001b[0m:   1 of 1 files downloaded.  \n",
      "\u001b[34m\u001b[1mwandb\u001b[0m:   1 of 1 files downloaded.  \n"
     ]
    },
    {
     "name": "stdout",
     "output_type": "stream",
     "text": [
      "2025-04-22 16:33:01,864 - INFO - Downloaded logs_isc0uwbm:v0 to /scratch/downloaded_artifacts/logs_isc0uwbm:v0\n"
     ]
    },
    {
     "name": "stderr",
     "output_type": "stream",
     "text": [
      "\u001b[34m\u001b[1mwandb\u001b[0m:   1 of 1 files downloaded.  \n"
     ]
    },
    {
     "name": "stdout",
     "output_type": "stream",
     "text": [
      "2025-04-22 16:33:01,870 - INFO - Downloaded logs_vvn3inyn:v0 to /scratch/downloaded_artifacts/logs_vvn3inyn:v0\n"
     ]
    },
    {
     "name": "stderr",
     "output_type": "stream",
     "text": [
      "\u001b[34m\u001b[1mwandb\u001b[0m:   1 of 1 files downloaded.  \n"
     ]
    },
    {
     "name": "stdout",
     "output_type": "stream",
     "text": [
      "2025-04-22 16:33:01,882 - INFO - Downloaded logs_9juecj0w:v0 to /scratch/downloaded_artifacts/logs_9juecj0w:v0\n"
     ]
    },
    {
     "name": "stderr",
     "output_type": "stream",
     "text": [
      "\u001b[34m\u001b[1mwandb\u001b[0m:   1 of 1 files downloaded.  \n"
     ]
    },
    {
     "name": "stdout",
     "output_type": "stream",
     "text": [
      "2025-04-22 16:33:01,902 - INFO - Downloaded logs_jbddtnn5:v0 to /scratch/downloaded_artifacts/logs_jbddtnn5:v0\n",
      "2025-04-22 16:33:01,905 - INFO - Downloaded logs_x86lvbh7:v0 to /scratch/downloaded_artifacts/logs_x86lvbh7:v0\n"
     ]
    },
    {
     "name": "stderr",
     "output_type": "stream",
     "text": [
      "\u001b[34m\u001b[1mwandb\u001b[0m:   1 of 1 files downloaded.  \n"
     ]
    },
    {
     "name": "stdout",
     "output_type": "stream",
     "text": [
      "2025-04-22 16:33:01,999 - INFO - Downloaded logs_z8rkykcb:v0 to /scratch/downloaded_artifacts/logs_z8rkykcb:v0\n"
     ]
    },
    {
     "name": "stderr",
     "output_type": "stream",
     "text": [
      "\u001b[34m\u001b[1mwandb\u001b[0m:   1 of 1 files downloaded.  \n"
     ]
    },
    {
     "name": "stdout",
     "output_type": "stream",
     "text": [
      "2025-04-22 16:33:02,064 - INFO - Downloaded logs_6mkqpwqd:v0 to /scratch/downloaded_artifacts/logs_6mkqpwqd:v0\n"
     ]
    },
    {
     "name": "stderr",
     "output_type": "stream",
     "text": [
      "\u001b[34m\u001b[1mwandb\u001b[0m:   1 of 1 files downloaded.  \n",
      "\u001b[34m\u001b[1mwandb\u001b[0m:   1 of 1 files downloaded.  \n"
     ]
    },
    {
     "name": "stdout",
     "output_type": "stream",
     "text": [
      "2025-04-22 16:33:02,080 - INFO - Downloaded logs_w699isvf:v0 to /scratch/downloaded_artifacts/logs_w699isvf:v0\n"
     ]
    },
    {
     "name": "stderr",
     "output_type": "stream",
     "text": [
      "\u001b[34m\u001b[1mwandb\u001b[0m:   1 of 1 files downloaded.  \n"
     ]
    },
    {
     "name": "stdout",
     "output_type": "stream",
     "text": [
      "2025-04-22 16:33:02,083 - INFO - Downloaded logs_r25pcoqj:v0 to /scratch/downloaded_artifacts/logs_r25pcoqj:v0\n"
     ]
    },
    {
     "name": "stderr",
     "output_type": "stream",
     "text": [
      "\u001b[34m\u001b[1mwandb\u001b[0m:   1 of 1 files downloaded.  \n"
     ]
    },
    {
     "name": "stdout",
     "output_type": "stream",
     "text": [
      "2025-04-22 16:33:02,088 - INFO - Downloaded logs_viuly37w:v0 to /scratch/downloaded_artifacts/logs_viuly37w:v0\n"
     ]
    },
    {
     "name": "stderr",
     "output_type": "stream",
     "text": [
      "\u001b[34m\u001b[1mwandb\u001b[0m:   1 of 1 files downloaded.  \n"
     ]
    },
    {
     "name": "stdout",
     "output_type": "stream",
     "text": [
      "2025-04-22 16:33:02,091 - INFO - Downloaded logs_ioutwh12:v0 to /scratch/downloaded_artifacts/logs_ioutwh12:v0\n",
      "2025-04-22 16:33:02,094 - INFO - Downloaded logs_wg67mioe:v0 to /scratch/downloaded_artifacts/logs_wg67mioe:v0\n"
     ]
    },
    {
     "name": "stderr",
     "output_type": "stream",
     "text": [
      "\u001b[34m\u001b[1mwandb\u001b[0m:   1 of 1 files downloaded.  \n"
     ]
    },
    {
     "name": "stdout",
     "output_type": "stream",
     "text": [
      "2025-04-22 16:33:02,120 - INFO - Downloaded logs_qgcu5bja:v0 to /scratch/downloaded_artifacts/logs_qgcu5bja:v0\n"
     ]
    },
    {
     "name": "stderr",
     "output_type": "stream",
     "text": [
      "\u001b[34m\u001b[1mwandb\u001b[0m:   1 of 1 files downloaded.  \n"
     ]
    },
    {
     "name": "stdout",
     "output_type": "stream",
     "text": [
      "2025-04-22 16:33:02,174 - INFO - Downloaded logs_x7sfwkgt:v0 to /scratch/downloaded_artifacts/logs_x7sfwkgt:v0\n"
     ]
    },
    {
     "name": "stderr",
     "output_type": "stream",
     "text": [
      "\u001b[34m\u001b[1mwandb\u001b[0m:   1 of 1 files downloaded.  \n"
     ]
    },
    {
     "name": "stdout",
     "output_type": "stream",
     "text": [
      "2025-04-22 16:33:02,178 - INFO - Downloaded logs_0e3uve0d:v0 to /scratch/downloaded_artifacts/logs_0e3uve0d:v0\n"
     ]
    },
    {
     "name": "stderr",
     "output_type": "stream",
     "text": [
      "\u001b[34m\u001b[1mwandb\u001b[0m:   1 of 1 files downloaded.  \n"
     ]
    },
    {
     "name": "stdout",
     "output_type": "stream",
     "text": [
      "2025-04-22 16:33:02,413 - INFO - Downloaded logs_0yzw9q3b:v0 to /scratch/downloaded_artifacts/logs_0yzw9q3b:v0\n"
     ]
    },
    {
     "name": "stderr",
     "output_type": "stream",
     "text": [
      "\u001b[34m\u001b[1mwandb\u001b[0m:   1 of 1 files downloaded.  \n"
     ]
    },
    {
     "name": "stdout",
     "output_type": "stream",
     "text": [
      "2025-04-22 16:33:02,514 - INFO - Downloaded logs_64xkzz6a:v0 to /scratch/downloaded_artifacts/logs_64xkzz6a:v0\n"
     ]
    },
    {
     "name": "stderr",
     "output_type": "stream",
     "text": [
      "\u001b[34m\u001b[1mwandb\u001b[0m:   1 of 1 files downloaded.  \n"
     ]
    },
    {
     "name": "stdout",
     "output_type": "stream",
     "text": [
      "2025-04-22 16:33:03,579 - INFO - Downloaded logs_37apr2yg:v0 to /scratch/downloaded_artifacts/logs_37apr2yg:v0\n"
     ]
    },
    {
     "name": "stderr",
     "output_type": "stream",
     "text": [
      "\u001b[34m\u001b[1mwandb\u001b[0m:   1 of 1 files downloaded.  \n"
     ]
    },
    {
     "name": "stdout",
     "output_type": "stream",
     "text": [
      "2025-04-22 16:33:03,592 - INFO - Downloaded logs_2gyk2m1t:v0 to /scratch/downloaded_artifacts/logs_2gyk2m1t:v0\n"
     ]
    },
    {
     "name": "stderr",
     "output_type": "stream",
     "text": [
      "\u001b[34m\u001b[1mwandb\u001b[0m:   1 of 1 files downloaded.  \n",
      "\u001b[34m\u001b[1mwandb\u001b[0m:   1 of 1 files downloaded.  \n"
     ]
    },
    {
     "name": "stdout",
     "output_type": "stream",
     "text": [
      "2025-04-22 16:33:03,610 - INFO - Downloaded logs_wr5a6pkz:v0 to /scratch/downloaded_artifacts/logs_wr5a6pkz:v0\n",
      "2025-04-22 16:33:03,610 - INFO - Downloaded logs_1ipctwkl:v0 to /scratch/downloaded_artifacts/logs_1ipctwkl:v0\n"
     ]
    },
    {
     "name": "stderr",
     "output_type": "stream",
     "text": [
      "\u001b[34m\u001b[1mwandb\u001b[0m:   1 of 1 files downloaded.  \n"
     ]
    },
    {
     "name": "stdout",
     "output_type": "stream",
     "text": [
      "2025-04-22 16:33:03,627 - INFO - Downloaded logs_rfmuvip5:v0 to /scratch/downloaded_artifacts/logs_rfmuvip5:v0\n"
     ]
    },
    {
     "name": "stderr",
     "output_type": "stream",
     "text": [
      "\u001b[34m\u001b[1mwandb\u001b[0m:   1 of 1 files downloaded.  \n"
     ]
    },
    {
     "name": "stdout",
     "output_type": "stream",
     "text": [
      "2025-04-22 16:33:03,706 - INFO - Downloaded logs_9509g13c:v0 to /scratch/downloaded_artifacts/logs_9509g13c:v0\n"
     ]
    },
    {
     "name": "stderr",
     "output_type": "stream",
     "text": [
      "\u001b[34m\u001b[1mwandb\u001b[0m:   1 of 1 files downloaded.  \n"
     ]
    },
    {
     "name": "stdout",
     "output_type": "stream",
     "text": [
      "2025-04-22 16:33:03,717 - INFO - Downloaded logs_gkvz61xr:v0 to /scratch/downloaded_artifacts/logs_gkvz61xr:v0\n"
     ]
    },
    {
     "name": "stderr",
     "output_type": "stream",
     "text": [
      "\u001b[34m\u001b[1mwandb\u001b[0m:   1 of 1 files downloaded.  \n"
     ]
    },
    {
     "name": "stdout",
     "output_type": "stream",
     "text": [
      "2025-04-22 16:33:03,776 - INFO - Downloaded logs_eov9t2wr:v0 to /scratch/downloaded_artifacts/logs_eov9t2wr:v0\n"
     ]
    },
    {
     "name": "stderr",
     "output_type": "stream",
     "text": [
      "\u001b[34m\u001b[1mwandb\u001b[0m:   1 of 1 files downloaded.  \n"
     ]
    },
    {
     "name": "stdout",
     "output_type": "stream",
     "text": [
      "2025-04-22 16:33:03,789 - INFO - Downloaded logs_v8b9cfu0:v0 to /scratch/downloaded_artifacts/logs_v8b9cfu0:v0\n"
     ]
    },
    {
     "name": "stderr",
     "output_type": "stream",
     "text": [
      "\u001b[34m\u001b[1mwandb\u001b[0m:   1 of 1 files downloaded.  \n"
     ]
    },
    {
     "name": "stdout",
     "output_type": "stream",
     "text": [
      "2025-04-22 16:33:03,808 - INFO - Downloaded logs_7yeni1nn:v0 to /scratch/downloaded_artifacts/logs_7yeni1nn:v0\n"
     ]
    },
    {
     "name": "stderr",
     "output_type": "stream",
     "text": [
      "\u001b[34m\u001b[1mwandb\u001b[0m:   1 of 1 files downloaded.  \n",
      "\u001b[34m\u001b[1mwandb\u001b[0m:   1 of 1 files downloaded.  \n",
      "\u001b[34m\u001b[1mwandb\u001b[0m:   1 of 1 files downloaded.  \n"
     ]
    },
    {
     "name": "stdout",
     "output_type": "stream",
     "text": [
      "2025-04-22 16:33:03,814 - INFO - Downloaded logs_e8wwga0j:v0 to /scratch/downloaded_artifacts/logs_e8wwga0j:v0\n"
     ]
    },
    {
     "name": "stderr",
     "output_type": "stream",
     "text": [
      "\u001b[34m\u001b[1mwandb\u001b[0m:   1 of 1 files downloaded.  \n",
      "\u001b[34m\u001b[1mwandb\u001b[0m:   1 of 1 files downloaded.  \n",
      "\u001b[34m\u001b[1mwandb\u001b[0m:   1 of 1 files downloaded.  \n"
     ]
    },
    {
     "name": "stdout",
     "output_type": "stream",
     "text": [
      "2025-04-22 16:33:03,825 - INFO - Downloaded logs_azbaqde5:v0 to /scratch/downloaded_artifacts/logs_azbaqde5:v0\n",
      "2025-04-22 16:33:03,826 - INFO - Downloaded logs_400ag62l:v0 to /scratch/downloaded_artifacts/logs_400ag62l:v0\n"
     ]
    },
    {
     "name": "stderr",
     "output_type": "stream",
     "text": [
      "\u001b[34m\u001b[1mwandb\u001b[0m:   1 of 1 files downloaded.  \n"
     ]
    },
    {
     "name": "stdout",
     "output_type": "stream",
     "text": [
      "2025-04-22 16:33:03,828 - INFO - Downloaded logs_a0htqeql:v0 to /scratch/downloaded_artifacts/logs_a0htqeql:v0\n",
      "2025-04-22 16:33:03,829 - INFO - Downloaded logs_52feij3x:v0 to /scratch/downloaded_artifacts/logs_52feij3x:v0\n",
      "2025-04-22 16:33:03,829 - INFO - Downloaded logs_5fkro02w:v0 to /scratch/downloaded_artifacts/logs_5fkro02w:v0\n"
     ]
    },
    {
     "name": "stderr",
     "output_type": "stream",
     "text": [
      "\u001b[34m\u001b[1mwandb\u001b[0m:   1 of 1 files downloaded.  \n"
     ]
    },
    {
     "name": "stdout",
     "output_type": "stream",
     "text": [
      "2025-04-22 16:33:03,834 - INFO - Downloaded logs_y1h0w0gg:v0 to /scratch/downloaded_artifacts/logs_y1h0w0gg:v0\n",
      "2025-04-22 16:33:03,855 - INFO - Downloaded logs_enz9m8dv:v0 to /scratch/downloaded_artifacts/logs_enz9m8dv:v0\n"
     ]
    },
    {
     "name": "stderr",
     "output_type": "stream",
     "text": [
      "\u001b[34m\u001b[1mwandb\u001b[0m:   1 of 1 files downloaded.  \n"
     ]
    },
    {
     "name": "stdout",
     "output_type": "stream",
     "text": [
      "2025-04-22 16:33:03,862 - INFO - Downloaded logs_j10lx4ha:v0 to /scratch/downloaded_artifacts/logs_j10lx4ha:v0\n"
     ]
    },
    {
     "name": "stderr",
     "output_type": "stream",
     "text": [
      "\u001b[34m\u001b[1mwandb\u001b[0m:   1 of 1 files downloaded.  \n"
     ]
    },
    {
     "name": "stdout",
     "output_type": "stream",
     "text": [
      "2025-04-22 16:33:03,868 - INFO - Downloaded logs_i9b3aeqs:v0 to /scratch/downloaded_artifacts/logs_i9b3aeqs:v0\n"
     ]
    },
    {
     "name": "stderr",
     "output_type": "stream",
     "text": [
      "\u001b[34m\u001b[1mwandb\u001b[0m:   1 of 1 files downloaded.  \n"
     ]
    },
    {
     "name": "stdout",
     "output_type": "stream",
     "text": [
      "2025-04-22 16:33:05,369 - INFO - Downloaded logs_mftj9lqf:v0 to /scratch/downloaded_artifacts/logs_mftj9lqf:v0\n"
     ]
    },
    {
     "name": "stderr",
     "output_type": "stream",
     "text": [
      "\u001b[34m\u001b[1mwandb\u001b[0m:   1 of 1 files downloaded.  \n",
      "\u001b[34m\u001b[1mwandb\u001b[0m:   1 of 1 files downloaded.  \n"
     ]
    },
    {
     "name": "stdout",
     "output_type": "stream",
     "text": [
      "2025-04-22 16:33:05,518 - INFO - Downloaded logs_kdiaylhv:v0 to /scratch/downloaded_artifacts/logs_kdiaylhv:v0\n",
      "2025-04-22 16:33:05,525 - INFO - Downloaded logs_xjwa05hf:v0 to /scratch/downloaded_artifacts/logs_xjwa05hf:v0\n"
     ]
    },
    {
     "name": "stderr",
     "output_type": "stream",
     "text": [
      "\u001b[34m\u001b[1mwandb\u001b[0m:   1 of 1 files downloaded.  \n"
     ]
    },
    {
     "name": "stdout",
     "output_type": "stream",
     "text": [
      "2025-04-22 16:33:05,535 - INFO - Downloaded logs_dhsr5laq:v0 to /scratch/downloaded_artifacts/logs_dhsr5laq:v0\n"
     ]
    },
    {
     "name": "stderr",
     "output_type": "stream",
     "text": [
      "\u001b[34m\u001b[1mwandb\u001b[0m:   1 of 1 files downloaded.  \n"
     ]
    },
    {
     "name": "stdout",
     "output_type": "stream",
     "text": [
      "2025-04-22 16:33:05,542 - INFO - Downloaded logs_48rdqvir:v0 to /scratch/downloaded_artifacts/logs_48rdqvir:v0\n"
     ]
    },
    {
     "name": "stderr",
     "output_type": "stream",
     "text": [
      "\u001b[34m\u001b[1mwandb\u001b[0m:   1 of 1 files downloaded.  \n"
     ]
    },
    {
     "name": "stdout",
     "output_type": "stream",
     "text": [
      "2025-04-22 16:33:05,568 - INFO - Downloaded logs_n8jfk2bg:v0 to /scratch/downloaded_artifacts/logs_n8jfk2bg:v0\n"
     ]
    },
    {
     "name": "stderr",
     "output_type": "stream",
     "text": [
      "\u001b[34m\u001b[1mwandb\u001b[0m:   1 of 1 files downloaded.  \n"
     ]
    },
    {
     "name": "stdout",
     "output_type": "stream",
     "text": [
      "2025-04-22 16:33:05,584 - INFO - Downloaded logs_q36nj5sf:v0 to /scratch/downloaded_artifacts/logs_q36nj5sf:v0\n"
     ]
    },
    {
     "name": "stderr",
     "output_type": "stream",
     "text": [
      "\u001b[34m\u001b[1mwandb\u001b[0m:   1 of 1 files downloaded.  \n"
     ]
    },
    {
     "name": "stdout",
     "output_type": "stream",
     "text": [
      "2025-04-22 16:33:05,592 - INFO - Downloaded logs_v370cxv0:v0 to /scratch/downloaded_artifacts/logs_v370cxv0:v0\n"
     ]
    },
    {
     "name": "stderr",
     "output_type": "stream",
     "text": [
      "\u001b[34m\u001b[1mwandb\u001b[0m:   1 of 1 files downloaded.  \n"
     ]
    },
    {
     "name": "stdout",
     "output_type": "stream",
     "text": [
      "2025-04-22 16:33:05,618 - INFO - Downloaded logs_xtga9ljg:v0 to /scratch/downloaded_artifacts/logs_xtga9ljg:v0\n"
     ]
    },
    {
     "name": "stderr",
     "output_type": "stream",
     "text": [
      "\u001b[34m\u001b[1mwandb\u001b[0m:   1 of 1 files downloaded.  \n",
      "\u001b[34m\u001b[1mwandb\u001b[0m:   1 of 1 files downloaded.  \n"
     ]
    },
    {
     "name": "stdout",
     "output_type": "stream",
     "text": [
      "2025-04-22 16:33:05,628 - INFO - Downloaded logs_htwss18u:v0 to /scratch/downloaded_artifacts/logs_htwss18u:v0\n"
     ]
    },
    {
     "name": "stderr",
     "output_type": "stream",
     "text": [
      "\u001b[34m\u001b[1mwandb\u001b[0m:   1 of 1 files downloaded.  \n",
      "\u001b[34m\u001b[1mwandb\u001b[0m:   1 of 1 files downloaded.  \n"
     ]
    },
    {
     "name": "stdout",
     "output_type": "stream",
     "text": [
      "2025-04-22 16:33:05,639 - INFO - Downloaded logs_m9rq3oxc:v0 to /scratch/downloaded_artifacts/logs_m9rq3oxc:v0\n"
     ]
    },
    {
     "name": "stderr",
     "output_type": "stream",
     "text": [
      "\u001b[34m\u001b[1mwandb\u001b[0m:   1 of 1 files downloaded.  \n"
     ]
    },
    {
     "name": "stdout",
     "output_type": "stream",
     "text": [
      "2025-04-22 16:33:05,639 - INFO - Downloaded logs_gfnfmkxx:v0 to /scratch/downloaded_artifacts/logs_gfnfmkxx:v0\n"
     ]
    },
    {
     "name": "stderr",
     "output_type": "stream",
     "text": [
      "\u001b[34m\u001b[1mwandb\u001b[0m:   1 of 1 files downloaded.  \n",
      "\u001b[34m\u001b[1mwandb\u001b[0m:   1 of 1 files downloaded.  \n"
     ]
    },
    {
     "name": "stdout",
     "output_type": "stream",
     "text": [
      "2025-04-22 16:33:05,641 - INFO - Downloaded logs_n8pqrync:v0 to /scratch/downloaded_artifacts/logs_n8pqrync:v0\n",
      "2025-04-22 16:33:05,647 - INFO - Downloaded logs_l4hnmu9m:v0 to /scratch/downloaded_artifacts/logs_l4hnmu9m:v0\n",
      "2025-04-22 16:33:05,652 - INFO - Downloaded logs_c0mjxar3:v0 to /scratch/downloaded_artifacts/logs_c0mjxar3:v0\n",
      "2025-04-22 16:33:05,655 - INFO - Downloaded logs_ow6u0xld:v0 to /scratch/downloaded_artifacts/logs_ow6u0xld:v0\n"
     ]
    },
    {
     "name": "stderr",
     "output_type": "stream",
     "text": [
      "\u001b[34m\u001b[1mwandb\u001b[0m:   1 of 1 files downloaded.  \n",
      "\u001b[34m\u001b[1mwandb\u001b[0m:   1 of 1 files downloaded.  \n"
     ]
    },
    {
     "name": "stdout",
     "output_type": "stream",
     "text": [
      "2025-04-22 16:33:05,672 - INFO - Downloaded logs_owd3pqoe:v0 to /scratch/downloaded_artifacts/logs_owd3pqoe:v0\n"
     ]
    },
    {
     "name": "stderr",
     "output_type": "stream",
     "text": [
      "\u001b[34m\u001b[1mwandb\u001b[0m:   1 of 1 files downloaded.  \n",
      "\u001b[34m\u001b[1mwandb\u001b[0m:   1 of 1 files downloaded.  \n"
     ]
    },
    {
     "name": "stdout",
     "output_type": "stream",
     "text": [
      "2025-04-22 16:33:05,680 - INFO - Downloaded logs_rcvlc0po:v0 to /scratch/downloaded_artifacts/logs_rcvlc0po:v0\n",
      "2025-04-22 16:33:05,680 - INFO - Downloaded logs_q8nzvnk2:v0 to /scratch/downloaded_artifacts/logs_q8nzvnk2:v0\n",
      "2025-04-22 16:33:05,686 - INFO - Downloaded logs_qvdm9630:v0 to /scratch/downloaded_artifacts/logs_qvdm9630:v0\n"
     ]
    },
    {
     "name": "stderr",
     "output_type": "stream",
     "text": [
      "\u001b[34m\u001b[1mwandb\u001b[0m:   1 of 1 files downloaded.  \n"
     ]
    },
    {
     "name": "stdout",
     "output_type": "stream",
     "text": [
      "2025-04-22 16:33:06,740 - INFO - Downloaded logs_u88rjt0k:v0 to /scratch/downloaded_artifacts/logs_u88rjt0k:v0\n"
     ]
    },
    {
     "name": "stderr",
     "output_type": "stream",
     "text": [
      "\u001b[34m\u001b[1mwandb\u001b[0m:   1 of 1 files downloaded.  \n"
     ]
    },
    {
     "name": "stdout",
     "output_type": "stream",
     "text": [
      "2025-04-22 16:33:07,198 - INFO - Downloaded logs_03qqets6:v0 to /scratch/downloaded_artifacts/logs_03qqets6:v0\n"
     ]
    },
    {
     "name": "stderr",
     "output_type": "stream",
     "text": [
      "\u001b[34m\u001b[1mwandb\u001b[0m:   1 of 1 files downloaded.  \n"
     ]
    },
    {
     "name": "stdout",
     "output_type": "stream",
     "text": [
      "2025-04-22 16:33:07,206 - INFO - Downloaded logs_lvvn2q6d:v0 to /scratch/downloaded_artifacts/logs_lvvn2q6d:v0\n"
     ]
    },
    {
     "name": "stderr",
     "output_type": "stream",
     "text": [
      "\u001b[34m\u001b[1mwandb\u001b[0m:   1 of 1 files downloaded.  \n"
     ]
    },
    {
     "name": "stdout",
     "output_type": "stream",
     "text": [
      "2025-04-22 16:33:07,231 - INFO - Downloaded logs_exc7n7zr:v0 to /scratch/downloaded_artifacts/logs_exc7n7zr:v0\n"
     ]
    },
    {
     "name": "stderr",
     "output_type": "stream",
     "text": [
      "\u001b[34m\u001b[1mwandb\u001b[0m:   1 of 1 files downloaded.  \n"
     ]
    },
    {
     "name": "stdout",
     "output_type": "stream",
     "text": [
      "2025-04-22 16:33:07,239 - INFO - Downloaded logs_3uv4jkof:v0 to /scratch/downloaded_artifacts/logs_3uv4jkof:v0\n"
     ]
    },
    {
     "name": "stderr",
     "output_type": "stream",
     "text": [
      "\u001b[34m\u001b[1mwandb\u001b[0m:   1 of 1 files downloaded.  \n"
     ]
    },
    {
     "name": "stdout",
     "output_type": "stream",
     "text": [
      "2025-04-22 16:33:07,270 - INFO - Downloaded logs_nquqwdmk:v0 to /scratch/downloaded_artifacts/logs_nquqwdmk:v0\n"
     ]
    },
    {
     "name": "stderr",
     "output_type": "stream",
     "text": [
      "\u001b[34m\u001b[1mwandb\u001b[0m:   1 of 1 files downloaded.  \n",
      "\u001b[34m\u001b[1mwandb\u001b[0m:   1 of 1 files downloaded.  \n"
     ]
    },
    {
     "name": "stdout",
     "output_type": "stream",
     "text": [
      "2025-04-22 16:33:07,279 - INFO - Downloaded logs_cc8tl7il:v0 to /scratch/downloaded_artifacts/logs_cc8tl7il:v0\n"
     ]
    },
    {
     "name": "stderr",
     "output_type": "stream",
     "text": [
      "\u001b[34m\u001b[1mwandb\u001b[0m:   1 of 1 files downloaded.  \n"
     ]
    },
    {
     "name": "stdout",
     "output_type": "stream",
     "text": [
      "2025-04-22 16:33:07,289 - INFO - Downloaded logs_lxqe99fn:v0 to /scratch/downloaded_artifacts/logs_lxqe99fn:v0\n",
      "2025-04-22 16:33:07,296 - INFO - Downloaded logs_zzvxyvyg:v0 to /scratch/downloaded_artifacts/logs_zzvxyvyg:v0\n"
     ]
    },
    {
     "name": "stderr",
     "output_type": "stream",
     "text": [
      "\u001b[34m\u001b[1mwandb\u001b[0m:   1 of 1 files downloaded.  \n",
      "\u001b[34m\u001b[1mwandb\u001b[0m:   1 of 1 files downloaded.  \n"
     ]
    },
    {
     "name": "stdout",
     "output_type": "stream",
     "text": [
      "2025-04-22 16:33:07,306 - INFO - Downloaded logs_eabkk32g:v0 to /scratch/downloaded_artifacts/logs_eabkk32g:v0\n",
      "2025-04-22 16:33:07,318 - INFO - Downloaded logs_rol4bc3u:v0 to /scratch/downloaded_artifacts/logs_rol4bc3u:v0\n"
     ]
    },
    {
     "name": "stderr",
     "output_type": "stream",
     "text": [
      "\u001b[34m\u001b[1mwandb\u001b[0m:   1 of 1 files downloaded.  \n",
      "\u001b[34m\u001b[1mwandb\u001b[0m:   1 of 1 files downloaded.  \n"
     ]
    },
    {
     "name": "stdout",
     "output_type": "stream",
     "text": [
      "2025-04-22 16:33:07,329 - INFO - Downloaded logs_tc9yn1c3:v0 to /scratch/downloaded_artifacts/logs_tc9yn1c3:v0\n"
     ]
    },
    {
     "name": "stderr",
     "output_type": "stream",
     "text": [
      "\u001b[34m\u001b[1mwandb\u001b[0m:   1 of 1 files downloaded.  \n"
     ]
    },
    {
     "name": "stdout",
     "output_type": "stream",
     "text": [
      "2025-04-22 16:33:07,334 - INFO - Downloaded logs_5gfioklb:v0 to /scratch/downloaded_artifacts/logs_5gfioklb:v0\n",
      "2025-04-22 16:33:07,336 - INFO - Downloaded logs_qjivutft:v0 to /scratch/downloaded_artifacts/logs_qjivutft:v0\n"
     ]
    },
    {
     "name": "stderr",
     "output_type": "stream",
     "text": [
      "\u001b[34m\u001b[1mwandb\u001b[0m:   1 of 1 files downloaded.  \n"
     ]
    },
    {
     "name": "stdout",
     "output_type": "stream",
     "text": [
      "2025-04-22 16:33:07,348 - INFO - Downloaded logs_yblfmssq:v0 to /scratch/downloaded_artifacts/logs_yblfmssq:v0\n"
     ]
    },
    {
     "name": "stderr",
     "output_type": "stream",
     "text": [
      "\u001b[34m\u001b[1mwandb\u001b[0m:   1 of 1 files downloaded.  \n"
     ]
    },
    {
     "name": "stdout",
     "output_type": "stream",
     "text": [
      "2025-04-22 16:33:07,349 - INFO - Downloaded logs_qrbwq2z9:v0 to /scratch/downloaded_artifacts/logs_qrbwq2z9:v0\n"
     ]
    },
    {
     "name": "stderr",
     "output_type": "stream",
     "text": [
      "\u001b[34m\u001b[1mwandb\u001b[0m:   1 of 1 files downloaded.  \n",
      "\u001b[34m\u001b[1mwandb\u001b[0m:   1 of 1 files downloaded.  \n",
      "\u001b[34m\u001b[1mwandb\u001b[0m:   1 of 1 files downloaded.  \n"
     ]
    },
    {
     "name": "stdout",
     "output_type": "stream",
     "text": [
      "2025-04-22 16:33:07,371 - INFO - Downloaded logs_2m860kiz:v0 to /scratch/downloaded_artifacts/logs_2m860kiz:v0\n"
     ]
    },
    {
     "name": "stderr",
     "output_type": "stream",
     "text": [
      "\u001b[34m\u001b[1mwandb\u001b[0m:   1 of 1 files downloaded.  \n"
     ]
    },
    {
     "name": "stdout",
     "output_type": "stream",
     "text": [
      "2025-04-22 16:33:07,374 - INFO - Downloaded logs_sah5a7oj:v0 to /scratch/downloaded_artifacts/logs_sah5a7oj:v0\n",
      "2025-04-22 16:33:07,381 - INFO - Downloaded logs_a1pgcf0f:v0 to /scratch/downloaded_artifacts/logs_a1pgcf0f:v0\n",
      "2025-04-22 16:33:07,384 - INFO - Downloaded logs_ptznkvcg:v0 to /scratch/downloaded_artifacts/logs_ptznkvcg:v0\n"
     ]
    },
    {
     "name": "stderr",
     "output_type": "stream",
     "text": [
      "\u001b[34m\u001b[1mwandb\u001b[0m:   1 of 1 files downloaded.  \n"
     ]
    },
    {
     "name": "stdout",
     "output_type": "stream",
     "text": [
      "2025-04-22 16:33:07,929 - INFO - Downloaded logs_0j40lpf4:v0 to /scratch/downloaded_artifacts/logs_0j40lpf4:v0\n"
     ]
    },
    {
     "name": "stderr",
     "output_type": "stream",
     "text": [
      "\u001b[34m\u001b[1mwandb\u001b[0m:   1 of 1 files downloaded.  \n"
     ]
    },
    {
     "name": "stdout",
     "output_type": "stream",
     "text": [
      "2025-04-22 16:33:08,591 - INFO - Downloaded logs_zujxfo6i:v0 to /scratch/downloaded_artifacts/logs_zujxfo6i:v0\n"
     ]
    },
    {
     "name": "stderr",
     "output_type": "stream",
     "text": [
      "\u001b[34m\u001b[1mwandb\u001b[0m:   1 of 1 files downloaded.  \n"
     ]
    },
    {
     "name": "stdout",
     "output_type": "stream",
     "text": [
      "2025-04-22 16:33:08,742 - INFO - Downloaded logs_9q3asyi8:v0 to /scratch/downloaded_artifacts/logs_9q3asyi8:v0\n"
     ]
    },
    {
     "name": "stderr",
     "output_type": "stream",
     "text": [
      "\u001b[34m\u001b[1mwandb\u001b[0m:   1 of 1 files downloaded.  \n"
     ]
    },
    {
     "name": "stdout",
     "output_type": "stream",
     "text": [
      "2025-04-22 16:33:08,947 - INFO - Downloaded logs_wyox8ud1:v0 to /scratch/downloaded_artifacts/logs_wyox8ud1:v0\n"
     ]
    },
    {
     "name": "stderr",
     "output_type": "stream",
     "text": [
      "\u001b[34m\u001b[1mwandb\u001b[0m:   1 of 1 files downloaded.  \n"
     ]
    },
    {
     "name": "stdout",
     "output_type": "stream",
     "text": [
      "2025-04-22 16:33:08,990 - INFO - Downloaded logs_e4ijo838:v0 to /scratch/downloaded_artifacts/logs_e4ijo838:v0\n"
     ]
    },
    {
     "name": "stderr",
     "output_type": "stream",
     "text": [
      "\u001b[34m\u001b[1mwandb\u001b[0m:   1 of 1 files downloaded.  \n",
      "\u001b[34m\u001b[1mwandb\u001b[0m:   1 of 1 files downloaded.  \n"
     ]
    },
    {
     "name": "stdout",
     "output_type": "stream",
     "text": [
      "2025-04-22 16:33:09,009 - INFO - Downloaded logs_bci5ih9s:v0 to /scratch/downloaded_artifacts/logs_bci5ih9s:v0\n"
     ]
    },
    {
     "name": "stderr",
     "output_type": "stream",
     "text": [
      "\u001b[34m\u001b[1mwandb\u001b[0m:   1 of 1 files downloaded.  \n"
     ]
    },
    {
     "name": "stdout",
     "output_type": "stream",
     "text": [
      "2025-04-22 16:33:09,027 - INFO - Downloaded logs_7sd2lgpu:v0 to /scratch/downloaded_artifacts/logs_7sd2lgpu:v0\n"
     ]
    },
    {
     "name": "stderr",
     "output_type": "stream",
     "text": [
      "\u001b[34m\u001b[1mwandb\u001b[0m:   1 of 1 files downloaded.  \n"
     ]
    },
    {
     "name": "stdout",
     "output_type": "stream",
     "text": [
      "2025-04-22 16:33:09,028 - INFO - Downloaded logs_c3h01wu4:v0 to /scratch/downloaded_artifacts/logs_c3h01wu4:v0\n"
     ]
    },
    {
     "name": "stderr",
     "output_type": "stream",
     "text": [
      "\u001b[34m\u001b[1mwandb\u001b[0m:   1 of 1 files downloaded.  \n"
     ]
    },
    {
     "name": "stdout",
     "output_type": "stream",
     "text": [
      "2025-04-22 16:33:09,036 - INFO - Downloaded logs_isk10yx6:v0 to /scratch/downloaded_artifacts/logs_isk10yx6:v0\n",
      "2025-04-22 16:33:09,037 - INFO - Downloaded logs_aqutjtbp:v0 to /scratch/downloaded_artifacts/logs_aqutjtbp:v0\n"
     ]
    },
    {
     "name": "stderr",
     "output_type": "stream",
     "text": [
      "\u001b[34m\u001b[1mwandb\u001b[0m:   1 of 1 files downloaded.  \n",
      "\u001b[34m\u001b[1mwandb\u001b[0m:   1 of 1 files downloaded.  \n"
     ]
    },
    {
     "name": "stdout",
     "output_type": "stream",
     "text": [
      "2025-04-22 16:33:09,053 - INFO - Downloaded logs_q9cbo5tg:v0 to /scratch/downloaded_artifacts/logs_q9cbo5tg:v0\n"
     ]
    },
    {
     "name": "stderr",
     "output_type": "stream",
     "text": [
      "\u001b[34m\u001b[1mwandb\u001b[0m:   1 of 1 files downloaded.  \n"
     ]
    },
    {
     "name": "stdout",
     "output_type": "stream",
     "text": [
      "2025-04-22 16:33:09,055 - INFO - Downloaded logs_p00crlpt:v0 to /scratch/downloaded_artifacts/logs_p00crlpt:v0\n"
     ]
    },
    {
     "name": "stderr",
     "output_type": "stream",
     "text": [
      "\u001b[34m\u001b[1mwandb\u001b[0m:   1 of 1 files downloaded.  \n"
     ]
    },
    {
     "name": "stdout",
     "output_type": "stream",
     "text": [
      "2025-04-22 16:33:09,061 - INFO - Downloaded logs_bh1n97m0:v0 to /scratch/downloaded_artifacts/logs_bh1n97m0:v0\n",
      "2025-04-22 16:33:09,061 - INFO - Downloaded logs_bj77scmo:v0 to /scratch/downloaded_artifacts/logs_bj77scmo:v0\n"
     ]
    },
    {
     "name": "stderr",
     "output_type": "stream",
     "text": [
      "\u001b[34m\u001b[1mwandb\u001b[0m:   1 of 1 files downloaded.  \n"
     ]
    },
    {
     "name": "stdout",
     "output_type": "stream",
     "text": [
      "2025-04-22 16:33:09,073 - INFO - Downloaded logs_kp9hoz9l:v0 to /scratch/downloaded_artifacts/logs_kp9hoz9l:v0\n"
     ]
    },
    {
     "name": "stderr",
     "output_type": "stream",
     "text": [
      "\u001b[34m\u001b[1mwandb\u001b[0m:   1 of 1 files downloaded.  \n",
      "\u001b[34m\u001b[1mwandb\u001b[0m:   1 of 1 files downloaded.  \n"
     ]
    },
    {
     "name": "stdout",
     "output_type": "stream",
     "text": [
      "2025-04-22 16:33:09,081 - INFO - Downloaded logs_okcndc62:v0 to /scratch/downloaded_artifacts/logs_okcndc62:v0\n",
      "2025-04-22 16:33:09,083 - INFO - Downloaded logs_catbzxml:v0 to /scratch/downloaded_artifacts/logs_catbzxml:v0\n"
     ]
    },
    {
     "name": "stderr",
     "output_type": "stream",
     "text": [
      "\u001b[34m\u001b[1mwandb\u001b[0m:   1 of 1 files downloaded.  \n",
      "\u001b[34m\u001b[1mwandb\u001b[0m:   1 of 1 files downloaded.  \n",
      "\u001b[34m\u001b[1mwandb\u001b[0m:   1 of 1 files downloaded.  \n"
     ]
    },
    {
     "name": "stdout",
     "output_type": "stream",
     "text": [
      "2025-04-22 16:33:09,100 - INFO - Downloaded logs_7162x702:v0 to /scratch/downloaded_artifacts/logs_7162x702:v0\n",
      "2025-04-22 16:33:09,101 - INFO - Downloaded logs_cq4n9x3b:v0 to /scratch/downloaded_artifacts/logs_cq4n9x3b:v0\n",
      "2025-04-22 16:33:09,105 - INFO - Downloaded logs_prorutip:v0 to /scratch/downloaded_artifacts/logs_prorutip:v0\n"
     ]
    },
    {
     "name": "stderr",
     "output_type": "stream",
     "text": [
      "\u001b[34m\u001b[1mwandb\u001b[0m:   1 of 1 files downloaded.  \n"
     ]
    },
    {
     "name": "stdout",
     "output_type": "stream",
     "text": [
      "2025-04-22 16:33:09,354 - INFO - Downloaded logs_r8s2p4ro:v0 to /scratch/downloaded_artifacts/logs_r8s2p4ro:v0\n"
     ]
    },
    {
     "name": "stderr",
     "output_type": "stream",
     "text": [
      "\u001b[34m\u001b[1mwandb\u001b[0m:   1 of 1 files downloaded.  \n"
     ]
    },
    {
     "name": "stdout",
     "output_type": "stream",
     "text": [
      "2025-04-22 16:33:09,515 - INFO - Downloaded logs_re6ioaiq:v0 to /scratch/downloaded_artifacts/logs_re6ioaiq:v0\n"
     ]
    },
    {
     "name": "stderr",
     "output_type": "stream",
     "text": [
      "\u001b[34m\u001b[1mwandb\u001b[0m:   1 of 1 files downloaded.  \n"
     ]
    },
    {
     "name": "stdout",
     "output_type": "stream",
     "text": [
      "2025-04-22 16:33:09,662 - INFO - Downloaded logs_tghj1gs5:v0 to /scratch/downloaded_artifacts/logs_tghj1gs5:v0\n"
     ]
    },
    {
     "name": "stderr",
     "output_type": "stream",
     "text": [
      "\u001b[34m\u001b[1mwandb\u001b[0m:   1 of 1 files downloaded.  \n"
     ]
    },
    {
     "name": "stdout",
     "output_type": "stream",
     "text": [
      "2025-04-22 16:33:10,576 - INFO - Downloaded logs_915u98et:v0 to /scratch/downloaded_artifacts/logs_915u98et:v0\n"
     ]
    },
    {
     "name": "stderr",
     "output_type": "stream",
     "text": [
      "\u001b[34m\u001b[1mwandb\u001b[0m:   1 of 1 files downloaded.  \n"
     ]
    },
    {
     "name": "stdout",
     "output_type": "stream",
     "text": [
      "2025-04-22 16:33:10,657 - INFO - Downloaded logs_xmghi7ku:v0 to /scratch/downloaded_artifacts/logs_xmghi7ku:v0\n"
     ]
    },
    {
     "name": "stderr",
     "output_type": "stream",
     "text": [
      "\u001b[34m\u001b[1mwandb\u001b[0m:   1 of 1 files downloaded.  \n"
     ]
    },
    {
     "name": "stdout",
     "output_type": "stream",
     "text": [
      "2025-04-22 16:33:10,670 - INFO - Downloaded logs_4lhmvceq:v0 to /scratch/downloaded_artifacts/logs_4lhmvceq:v0\n"
     ]
    },
    {
     "name": "stderr",
     "output_type": "stream",
     "text": [
      "\u001b[34m\u001b[1mwandb\u001b[0m:   1 of 1 files downloaded.  \n",
      "\u001b[34m\u001b[1mwandb\u001b[0m:   1 of 1 files downloaded.  \n"
     ]
    },
    {
     "name": "stdout",
     "output_type": "stream",
     "text": [
      "2025-04-22 16:33:10,780 - INFO - Downloaded logs_75bp10em:v0 to /scratch/downloaded_artifacts/logs_75bp10em:v0\n",
      "2025-04-22 16:33:10,787 - INFO - Downloaded logs_wknxlp8b:v0 to /scratch/downloaded_artifacts/logs_wknxlp8b:v0\n"
     ]
    },
    {
     "name": "stderr",
     "output_type": "stream",
     "text": [
      "\u001b[34m\u001b[1mwandb\u001b[0m:   1 of 1 files downloaded.  \n",
      "\u001b[34m\u001b[1mwandb\u001b[0m:   1 of 1 files downloaded.  \n"
     ]
    },
    {
     "name": "stdout",
     "output_type": "stream",
     "text": [
      "2025-04-22 16:33:10,801 - INFO - Downloaded logs_69axpnx2:v0 to /scratch/downloaded_artifacts/logs_69axpnx2:v0\n"
     ]
    },
    {
     "name": "stderr",
     "output_type": "stream",
     "text": [
      "\u001b[34m\u001b[1mwandb\u001b[0m:   1 of 1 files downloaded.  \n"
     ]
    },
    {
     "name": "stdout",
     "output_type": "stream",
     "text": [
      "2025-04-22 16:33:10,807 - INFO - Downloaded logs_cltv1i6k:v0 to /scratch/downloaded_artifacts/logs_cltv1i6k:v0\n",
      "2025-04-22 16:33:10,807 - INFO - Downloaded logs_76122fjb:v0 to /scratch/downloaded_artifacts/logs_76122fjb:v0\n"
     ]
    },
    {
     "name": "stderr",
     "output_type": "stream",
     "text": [
      "\u001b[34m\u001b[1mwandb\u001b[0m:   1 of 1 files downloaded.  \n",
      "\u001b[34m\u001b[1mwandb\u001b[0m:   1 of 1 files downloaded.  \n"
     ]
    },
    {
     "name": "stdout",
     "output_type": "stream",
     "text": [
      "2025-04-22 16:33:10,820 - INFO - Downloaded logs_wrbgzycp:v0 to /scratch/downloaded_artifacts/logs_wrbgzycp:v0\n"
     ]
    },
    {
     "name": "stderr",
     "output_type": "stream",
     "text": [
      "\u001b[34m\u001b[1mwandb\u001b[0m:   1 of 1 files downloaded.  \n"
     ]
    },
    {
     "name": "stdout",
     "output_type": "stream",
     "text": [
      "2025-04-22 16:33:10,822 - INFO - Downloaded logs_lij8fglg:v0 to /scratch/downloaded_artifacts/logs_lij8fglg:v0\n"
     ]
    },
    {
     "name": "stderr",
     "output_type": "stream",
     "text": [
      "\u001b[34m\u001b[1mwandb\u001b[0m:   1 of 1 files downloaded.  \n"
     ]
    },
    {
     "name": "stdout",
     "output_type": "stream",
     "text": [
      "2025-04-22 16:33:10,827 - INFO - Downloaded logs_cu901ueo:v0 to /scratch/downloaded_artifacts/logs_cu901ueo:v0\n"
     ]
    },
    {
     "name": "stderr",
     "output_type": "stream",
     "text": [
      "\u001b[34m\u001b[1mwandb\u001b[0m:   1 of 1 files downloaded.  \n"
     ]
    },
    {
     "name": "stdout",
     "output_type": "stream",
     "text": [
      "2025-04-22 16:33:10,832 - INFO - Downloaded logs_bkz8egc9:v0 to /scratch/downloaded_artifacts/logs_bkz8egc9:v0\n"
     ]
    },
    {
     "name": "stderr",
     "output_type": "stream",
     "text": [
      "\u001b[34m\u001b[1mwandb\u001b[0m:   1 of 1 files downloaded.  \n"
     ]
    },
    {
     "name": "stdout",
     "output_type": "stream",
     "text": [
      "2025-04-22 16:33:10,856 - INFO - Downloaded logs_5azkrma8:v0 to /scratch/downloaded_artifacts/logs_5azkrma8:v0\n",
      "2025-04-22 16:33:10,867 - INFO - Downloaded logs_d8ecqyza:v0 to /scratch/downloaded_artifacts/logs_d8ecqyza:v0\n"
     ]
    },
    {
     "name": "stderr",
     "output_type": "stream",
     "text": [
      "\u001b[34m\u001b[1mwandb\u001b[0m:   1 of 1 files downloaded.  \n"
     ]
    },
    {
     "name": "stdout",
     "output_type": "stream",
     "text": [
      "2025-04-22 16:33:10,872 - INFO - Downloaded logs_i08k6fb7:v0 to /scratch/downloaded_artifacts/logs_i08k6fb7:v0\n"
     ]
    },
    {
     "name": "stderr",
     "output_type": "stream",
     "text": [
      "\u001b[34m\u001b[1mwandb\u001b[0m:   1 of 1 files downloaded.  \n",
      "\u001b[34m\u001b[1mwandb\u001b[0m:   1 of 1 files downloaded.  \n"
     ]
    },
    {
     "name": "stdout",
     "output_type": "stream",
     "text": [
      "2025-04-22 16:33:10,884 - INFO - Downloaded logs_3dbs5ko5:v0 to /scratch/downloaded_artifacts/logs_3dbs5ko5:v0\n",
      "2025-04-22 16:33:10,887 - INFO - Downloaded logs_5ww4f9dy:v0 to /scratch/downloaded_artifacts/logs_5ww4f9dy:v0\n"
     ]
    },
    {
     "name": "stderr",
     "output_type": "stream",
     "text": [
      "\u001b[34m\u001b[1mwandb\u001b[0m:   1 of 1 files downloaded.  \n"
     ]
    },
    {
     "name": "stdout",
     "output_type": "stream",
     "text": [
      "2025-04-22 16:33:10,894 - INFO - Downloaded logs_efzk9vn4:v0 to /scratch/downloaded_artifacts/logs_efzk9vn4:v0\n"
     ]
    },
    {
     "name": "stderr",
     "output_type": "stream",
     "text": [
      "\u001b[34m\u001b[1mwandb\u001b[0m:   1 of 1 files downloaded.  \n"
     ]
    },
    {
     "name": "stdout",
     "output_type": "stream",
     "text": [
      "2025-04-22 16:33:10,908 - INFO - Downloaded logs_h62ab95k:v0 to /scratch/downloaded_artifacts/logs_h62ab95k:v0\n"
     ]
    },
    {
     "name": "stderr",
     "output_type": "stream",
     "text": [
      "\u001b[34m\u001b[1mwandb\u001b[0m: \u001b[32m\u001b[41mERROR\u001b[0m Error while calling W&B API: rate limit exceeded (<Response [429]>)\n",
      "\u001b[34m\u001b[1mwandb\u001b[0m: \u001b[32m\u001b[41mERROR\u001b[0m Error while calling W&B API: rate limit exceeded (<Response [429]>)\n",
      "\u001b[34m\u001b[1mwandb\u001b[0m: \u001b[32m\u001b[41mERROR\u001b[0m Error while calling W&B API: rate limit exceeded (<Response [429]>)\n",
      "\u001b[34m\u001b[1mwandb\u001b[0m: \u001b[32m\u001b[41mERROR\u001b[0m Error while calling W&B API: rate limit exceeded (<Response [429]>)\n",
      "\u001b[34m\u001b[1mwandb\u001b[0m: \u001b[32m\u001b[41mERROR\u001b[0m Error while calling W&B API: rate limit exceeded (<Response [429]>)\n",
      "\u001b[34m\u001b[1mwandb\u001b[0m: \u001b[32m\u001b[41mERROR\u001b[0m Error while calling W&B API: rate limit exceeded (<Response [429]>)\n",
      "\u001b[34m\u001b[1mwandb\u001b[0m: \u001b[32m\u001b[41mERROR\u001b[0m Error while calling W&B API: rate limit exceeded (<Response [429]>)\n",
      "\u001b[34m\u001b[1mwandb\u001b[0m: \u001b[32m\u001b[41mERROR\u001b[0m Error while calling W&B API: rate limit exceeded (<Response [429]>)\n",
      "\u001b[34m\u001b[1mwandb\u001b[0m: \u001b[32m\u001b[41mERROR\u001b[0m Error while calling W&B API: rate limit exceeded (<Response [429]>)\n",
      "\u001b[34m\u001b[1mwandb\u001b[0m: \u001b[32m\u001b[41mERROR\u001b[0m Error while calling W&B API: rate limit exceeded (<Response [429]>)\n",
      "\u001b[34m\u001b[1mwandb\u001b[0m: \u001b[32m\u001b[41mERROR\u001b[0m Error while calling W&B API: rate limit exceeded (<Response [429]>)\n",
      "\u001b[34m\u001b[1mwandb\u001b[0m:   1 of 1 files downloaded.  \n"
     ]
    },
    {
     "name": "stdout",
     "output_type": "stream",
     "text": [
      "2025-04-22 16:33:11,142 - INFO - Downloaded logs_j9ei7z91:v0 to /scratch/downloaded_artifacts/logs_j9ei7z91:v0\n"
     ]
    },
    {
     "name": "stderr",
     "output_type": "stream",
     "text": [
      "\u001b[34m\u001b[1mwandb\u001b[0m: \u001b[32m\u001b[41mERROR\u001b[0m Error while calling W&B API: rate limit exceeded (<Response [429]>)\n",
      "\u001b[34m\u001b[1mwandb\u001b[0m: \u001b[32m\u001b[41mERROR\u001b[0m Error while calling W&B API: rate limit exceeded (<Response [429]>)\n",
      "\u001b[34m\u001b[1mwandb\u001b[0m: \u001b[32m\u001b[41mERROR\u001b[0m Error while calling W&B API: rate limit exceeded (<Response [429]>)\n",
      "\u001b[34m\u001b[1mwandb\u001b[0m: \u001b[32m\u001b[41mERROR\u001b[0m Error while calling W&B API: rate limit exceeded (<Response [429]>)\n",
      "\u001b[34m\u001b[1mwandb\u001b[0m: \u001b[32m\u001b[41mERROR\u001b[0m Error while calling W&B API: rate limit exceeded (<Response [429]>)\n",
      "\u001b[34m\u001b[1mwandb\u001b[0m: \u001b[32m\u001b[41mERROR\u001b[0m Error while calling W&B API: rate limit exceeded (<Response [429]>)\n",
      "\u001b[34m\u001b[1mwandb\u001b[0m: \u001b[32m\u001b[41mERROR\u001b[0m Error while calling W&B API: rate limit exceeded (<Response [429]>)\n",
      "\u001b[34m\u001b[1mwandb\u001b[0m: \u001b[32m\u001b[41mERROR\u001b[0m Error while calling W&B API: rate limit exceeded (<Response [429]>)\n",
      "\u001b[34m\u001b[1mwandb\u001b[0m: \u001b[32m\u001b[41mERROR\u001b[0m Error while calling W&B API: rate limit exceeded (<Response [429]>)\n",
      "\u001b[34m\u001b[1mwandb\u001b[0m: \u001b[32m\u001b[41mERROR\u001b[0m Error while calling W&B API: rate limit exceeded (<Response [429]>)\n",
      "\u001b[34m\u001b[1mwandb\u001b[0m: \u001b[32m\u001b[41mERROR\u001b[0m Error while calling W&B API: rate limit exceeded (<Response [429]>)\n",
      "\u001b[34m\u001b[1mwandb\u001b[0m: \u001b[32m\u001b[41mERROR\u001b[0m Error while calling W&B API: rate limit exceeded (<Response [429]>)\n",
      "\u001b[34m\u001b[1mwandb\u001b[0m: \u001b[32m\u001b[41mERROR\u001b[0m Error while calling W&B API: rate limit exceeded (<Response [429]>)\n",
      "\u001b[34m\u001b[1mwandb\u001b[0m: \u001b[32m\u001b[41mERROR\u001b[0m Error while calling W&B API: rate limit exceeded (<Response [429]>)\n",
      "\u001b[34m\u001b[1mwandb\u001b[0m: \u001b[32m\u001b[41mERROR\u001b[0m Error while calling W&B API: rate limit exceeded (<Response [429]>)\n",
      "\u001b[34m\u001b[1mwandb\u001b[0m: \u001b[32m\u001b[41mERROR\u001b[0m Error while calling W&B API: rate limit exceeded (<Response [429]>)\n",
      "\u001b[34m\u001b[1mwandb\u001b[0m: \u001b[32m\u001b[41mERROR\u001b[0m Error while calling W&B API: rate limit exceeded (<Response [429]>)\n",
      "\u001b[34m\u001b[1mwandb\u001b[0m: \u001b[32m\u001b[41mERROR\u001b[0m Error while calling W&B API: rate limit exceeded (<Response [429]>)\n",
      "\u001b[34m\u001b[1mwandb\u001b[0m: Network error (HTTPError), entering retry loop.\n",
      "\u001b[34m\u001b[1mwandb\u001b[0m: \u001b[32m\u001b[41mERROR\u001b[0m Error while calling W&B API: rate limit exceeded (<Response [429]>)\n",
      "\u001b[34m\u001b[1mwandb\u001b[0m: Network error (HTTPError), entering retry loop.\n",
      "\u001b[34m\u001b[1mwandb\u001b[0m: \u001b[32m\u001b[41mERROR\u001b[0m Error while calling W&B API: rate limit exceeded (<Response [429]>)\n",
      "\u001b[34m\u001b[1mwandb\u001b[0m: Network error (HTTPError), entering retry loop.\n",
      "\u001b[34m\u001b[1mwandb\u001b[0m: \u001b[32m\u001b[41mERROR\u001b[0m Error while calling W&B API: rate limit exceeded (<Response [429]>)\n",
      "\u001b[34m\u001b[1mwandb\u001b[0m: Network error (HTTPError), entering retry loop.\n",
      "\u001b[34m\u001b[1mwandb\u001b[0m: \u001b[32m\u001b[41mERROR\u001b[0m Error while calling W&B API: rate limit exceeded (<Response [429]>)\n",
      "\u001b[34m\u001b[1mwandb\u001b[0m: Network error (HTTPError), entering retry loop.\n",
      "\u001b[34m\u001b[1mwandb\u001b[0m: \u001b[32m\u001b[41mERROR\u001b[0m Error while calling W&B API: rate limit exceeded (<Response [429]>)\n",
      "\u001b[34m\u001b[1mwandb\u001b[0m: Network error (HTTPError), entering retry loop.\n",
      "\u001b[34m\u001b[1mwandb\u001b[0m: \u001b[32m\u001b[41mERROR\u001b[0m Error while calling W&B API: rate limit exceeded (<Response [429]>)\n",
      "\u001b[34m\u001b[1mwandb\u001b[0m: Network error (HTTPError), entering retry loop.\n",
      "\u001b[34m\u001b[1mwandb\u001b[0m: \u001b[32m\u001b[41mERROR\u001b[0m Error while calling W&B API: rate limit exceeded (<Response [429]>)\n",
      "\u001b[34m\u001b[1mwandb\u001b[0m: Network error (HTTPError), entering retry loop.\n",
      "\u001b[34m\u001b[1mwandb\u001b[0m: \u001b[32m\u001b[41mERROR\u001b[0m Error while calling W&B API: rate limit exceeded (<Response [429]>)\n",
      "\u001b[34m\u001b[1mwandb\u001b[0m: Network error (HTTPError), entering retry loop.\n",
      "\u001b[34m\u001b[1mwandb\u001b[0m: \u001b[32m\u001b[41mERROR\u001b[0m Error while calling W&B API: rate limit exceeded (<Response [429]>)\n",
      "\u001b[34m\u001b[1mwandb\u001b[0m: Network error (HTTPError), entering retry loop.\n",
      "\u001b[34m\u001b[1mwandb\u001b[0m: \u001b[32m\u001b[41mERROR\u001b[0m Error while calling W&B API: rate limit exceeded (<Response [429]>)\n",
      "\u001b[34m\u001b[1mwandb\u001b[0m: Network error (HTTPError), entering retry loop.\n",
      "\u001b[34m\u001b[1mwandb\u001b[0m: \u001b[32m\u001b[41mERROR\u001b[0m Error while calling W&B API: rate limit exceeded (<Response [429]>)\n",
      "\u001b[34m\u001b[1mwandb\u001b[0m: Network error (HTTPError), entering retry loop.\n",
      "\u001b[34m\u001b[1mwandb\u001b[0m: \u001b[32m\u001b[41mERROR\u001b[0m Error while calling W&B API: rate limit exceeded (<Response [429]>)\n",
      "\u001b[34m\u001b[1mwandb\u001b[0m: Network error (HTTPError), entering retry loop.\n",
      "\u001b[34m\u001b[1mwandb\u001b[0m: \u001b[32m\u001b[41mERROR\u001b[0m Error while calling W&B API: rate limit exceeded (<Response [429]>)\n",
      "\u001b[34m\u001b[1mwandb\u001b[0m: Network error (HTTPError), entering retry loop.\n",
      "\u001b[34m\u001b[1mwandb\u001b[0m:   1 of 1 files downloaded.  \n"
     ]
    },
    {
     "name": "stdout",
     "output_type": "stream",
     "text": [
      "2025-04-22 16:33:18,886 - INFO - Downloaded logs_jaf4r313:v0 to /scratch/downloaded_artifacts/logs_jaf4r313:v0\n"
     ]
    },
    {
     "name": "stderr",
     "output_type": "stream",
     "text": [
      "\u001b[34m\u001b[1mwandb\u001b[0m:   1 of 1 files downloaded.  \n"
     ]
    },
    {
     "name": "stdout",
     "output_type": "stream",
     "text": [
      "2025-04-22 16:33:19,066 - INFO - Downloaded logs_ocfcb7x1:v0 to /scratch/downloaded_artifacts/logs_ocfcb7x1:v0\n"
     ]
    },
    {
     "name": "stderr",
     "output_type": "stream",
     "text": [
      "\u001b[34m\u001b[1mwandb\u001b[0m:   1 of 1 files downloaded.  \n"
     ]
    },
    {
     "name": "stdout",
     "output_type": "stream",
     "text": [
      "2025-04-22 16:33:19,135 - INFO - Downloaded logs_vk8w8l6r:v0 to /scratch/downloaded_artifacts/logs_vk8w8l6r:v0\n"
     ]
    },
    {
     "name": "stderr",
     "output_type": "stream",
     "text": [
      "\u001b[34m\u001b[1mwandb\u001b[0m:   1 of 1 files downloaded.  \n"
     ]
    },
    {
     "name": "stdout",
     "output_type": "stream",
     "text": [
      "2025-04-22 16:33:19,369 - INFO - Downloaded logs_2qjisxb4:v0 to /scratch/downloaded_artifacts/logs_2qjisxb4:v0\n"
     ]
    },
    {
     "name": "stderr",
     "output_type": "stream",
     "text": [
      "\u001b[34m\u001b[1mwandb\u001b[0m:   1 of 1 files downloaded.  \n"
     ]
    },
    {
     "name": "stdout",
     "output_type": "stream",
     "text": [
      "2025-04-22 16:33:19,452 - INFO - Downloaded logs_4kisbh61:v0 to /scratch/downloaded_artifacts/logs_4kisbh61:v0\n"
     ]
    },
    {
     "name": "stderr",
     "output_type": "stream",
     "text": [
      "\u001b[34m\u001b[1mwandb\u001b[0m:   1 of 1 files downloaded.  \n"
     ]
    },
    {
     "name": "stdout",
     "output_type": "stream",
     "text": [
      "2025-04-22 16:33:19,461 - INFO - Downloaded logs_k5kjs5f8:v0 to /scratch/downloaded_artifacts/logs_k5kjs5f8:v0\n"
     ]
    },
    {
     "name": "stderr",
     "output_type": "stream",
     "text": [
      "\u001b[34m\u001b[1mwandb\u001b[0m:   1 of 1 files downloaded.  \n"
     ]
    },
    {
     "name": "stdout",
     "output_type": "stream",
     "text": [
      "2025-04-22 16:33:19,471 - INFO - Downloaded logs_8i9ibntd:v0 to /scratch/downloaded_artifacts/logs_8i9ibntd:v0\n"
     ]
    },
    {
     "name": "stderr",
     "output_type": "stream",
     "text": [
      "\u001b[34m\u001b[1mwandb\u001b[0m:   1 of 1 files downloaded.  \n"
     ]
    },
    {
     "name": "stdout",
     "output_type": "stream",
     "text": [
      "2025-04-22 16:33:19,546 - INFO - Downloaded logs_jwiq88ks:v0 to /scratch/downloaded_artifacts/logs_jwiq88ks:v0\n"
     ]
    },
    {
     "name": "stderr",
     "output_type": "stream",
     "text": [
      "\u001b[34m\u001b[1mwandb\u001b[0m:   1 of 1 files downloaded.  \n"
     ]
    },
    {
     "name": "stdout",
     "output_type": "stream",
     "text": [
      "2025-04-22 16:33:20,079 - INFO - Downloaded logs_95hef9mg:v0 to /scratch/downloaded_artifacts/logs_95hef9mg:v0\n"
     ]
    },
    {
     "name": "stderr",
     "output_type": "stream",
     "text": [
      "\u001b[34m\u001b[1mwandb\u001b[0m:   1 of 1 files downloaded.  \n",
      "\u001b[34m\u001b[1mwandb\u001b[0m:   1 of 1 files downloaded.  \n"
     ]
    },
    {
     "name": "stdout",
     "output_type": "stream",
     "text": [
      "2025-04-22 16:33:20,231 - INFO - Downloaded logs_voab84ae:v0 to /scratch/downloaded_artifacts/logs_voab84ae:v0\n"
     ]
    },
    {
     "name": "stderr",
     "output_type": "stream",
     "text": [
      "\u001b[34m\u001b[1mwandb\u001b[0m:   1 of 1 files downloaded.  \n"
     ]
    },
    {
     "name": "stdout",
     "output_type": "stream",
     "text": [
      "2025-04-22 16:33:20,338 - INFO - Downloaded logs_q6v4o3df:v0 to /scratch/downloaded_artifacts/logs_q6v4o3df:v0\n"
     ]
    },
    {
     "name": "stderr",
     "output_type": "stream",
     "text": [
      "\u001b[34m\u001b[1mwandb\u001b[0m:   1 of 1 files downloaded.  \n"
     ]
    },
    {
     "name": "stdout",
     "output_type": "stream",
     "text": [
      "2025-04-22 16:33:20,394 - INFO - Downloaded logs_ntl8vlkm:v0 to /scratch/downloaded_artifacts/logs_ntl8vlkm:v0\n",
      "2025-04-22 16:33:20,475 - INFO - Downloaded logs_qjk6nmdz:v0 to /scratch/downloaded_artifacts/logs_qjk6nmdz:v0\n"
     ]
    },
    {
     "name": "stderr",
     "output_type": "stream",
     "text": [
      "\u001b[34m\u001b[1mwandb\u001b[0m:   1 of 1 files downloaded.  \n"
     ]
    },
    {
     "name": "stdout",
     "output_type": "stream",
     "text": [
      "2025-04-22 16:33:20,488 - INFO - Downloaded logs_4wc0lmot:v0 to /scratch/downloaded_artifacts/logs_4wc0lmot:v0\n"
     ]
    },
    {
     "name": "stderr",
     "output_type": "stream",
     "text": [
      "\u001b[34m\u001b[1mwandb\u001b[0m:   1 of 1 files downloaded.  \n"
     ]
    },
    {
     "name": "stdout",
     "output_type": "stream",
     "text": [
      "2025-04-22 16:33:20,504 - INFO - Downloaded logs_tgte6vsk:v0 to /scratch/downloaded_artifacts/logs_tgte6vsk:v0\n"
     ]
    },
    {
     "name": "stderr",
     "output_type": "stream",
     "text": [
      "\u001b[34m\u001b[1mwandb\u001b[0m:   1 of 1 files downloaded.  \n"
     ]
    },
    {
     "name": "stdout",
     "output_type": "stream",
     "text": [
      "2025-04-22 16:33:20,545 - INFO - Downloaded logs_hvjhtwfl:v0 to /scratch/downloaded_artifacts/logs_hvjhtwfl:v0\n"
     ]
    },
    {
     "name": "stderr",
     "output_type": "stream",
     "text": [
      "\u001b[34m\u001b[1mwandb\u001b[0m:   1 of 1 files downloaded.  \n",
      "\u001b[34m\u001b[1mwandb\u001b[0m:   1 of 1 files downloaded.  \n"
     ]
    },
    {
     "name": "stdout",
     "output_type": "stream",
     "text": [
      "2025-04-22 16:33:20,560 - INFO - Downloaded logs_teueynpi:v0 to /scratch/downloaded_artifacts/logs_teueynpi:v0\n",
      "2025-04-22 16:33:20,560 - INFO - Downloaded logs_qkm8lso4:v0 to /scratch/downloaded_artifacts/logs_qkm8lso4:v0\n"
     ]
    },
    {
     "name": "stderr",
     "output_type": "stream",
     "text": [
      "\u001b[34m\u001b[1mwandb\u001b[0m:   1 of 1 files downloaded.  \n",
      "\u001b[34m\u001b[1mwandb\u001b[0m:   1 of 1 files downloaded.  \n"
     ]
    },
    {
     "name": "stdout",
     "output_type": "stream",
     "text": [
      "2025-04-22 16:33:20,567 - INFO - Downloaded logs_fvhnris9:v0 to /scratch/downloaded_artifacts/logs_fvhnris9:v0\n",
      "2025-04-22 16:33:20,568 - INFO - Downloaded logs_g4sgusbu:v0 to /scratch/downloaded_artifacts/logs_g4sgusbu:v0\n"
     ]
    },
    {
     "name": "stderr",
     "output_type": "stream",
     "text": [
      "\u001b[34m\u001b[1mwandb\u001b[0m:   1 of 1 files downloaded.  \n",
      "\u001b[34m\u001b[1mwandb\u001b[0m:   1 of 1 files downloaded.  \n"
     ]
    },
    {
     "name": "stdout",
     "output_type": "stream",
     "text": [
      "2025-04-22 16:33:20,584 - INFO - Downloaded logs_o8crbze3:v0 to /scratch/downloaded_artifacts/logs_o8crbze3:v0\n",
      "2025-04-22 16:33:20,586 - INFO - Downloaded logs_mn11nkvd:v0 to /scratch/downloaded_artifacts/logs_mn11nkvd:v0\n"
     ]
    },
    {
     "name": "stderr",
     "output_type": "stream",
     "text": [
      "\u001b[34m\u001b[1mwandb\u001b[0m:   1 of 1 files downloaded.  \n"
     ]
    },
    {
     "name": "stdout",
     "output_type": "stream",
     "text": [
      "2025-04-22 16:33:20,601 - INFO - Downloaded logs_xnfyccnu:v0 to /scratch/downloaded_artifacts/logs_xnfyccnu:v0\n"
     ]
    },
    {
     "name": "stderr",
     "output_type": "stream",
     "text": [
      "\u001b[34m\u001b[1mwandb\u001b[0m:   1 of 1 files downloaded.  \n",
      "\u001b[34m\u001b[1mwandb\u001b[0m:   1 of 1 files downloaded.  \n"
     ]
    },
    {
     "name": "stdout",
     "output_type": "stream",
     "text": [
      "2025-04-22 16:33:20,940 - INFO - Downloaded logs_tqm21ggb:v0 to /scratch/downloaded_artifacts/logs_tqm21ggb:v0\n",
      "2025-04-22 16:33:20,941 - INFO - Downloaded logs_w5dpq9ep:v0 to /scratch/downloaded_artifacts/logs_w5dpq9ep:v0\n"
     ]
    },
    {
     "name": "stderr",
     "output_type": "stream",
     "text": [
      "\u001b[34m\u001b[1mwandb\u001b[0m:   1 of 1 files downloaded.  \n"
     ]
    },
    {
     "name": "stdout",
     "output_type": "stream",
     "text": [
      "2025-04-22 16:33:20,996 - INFO - Downloaded logs_vmk7csuw:v0 to /scratch/downloaded_artifacts/logs_vmk7csuw:v0\n"
     ]
    },
    {
     "name": "stderr",
     "output_type": "stream",
     "text": [
      "\u001b[34m\u001b[1mwandb\u001b[0m:   1 of 1 files downloaded.  \n"
     ]
    },
    {
     "name": "stdout",
     "output_type": "stream",
     "text": [
      "2025-04-22 16:33:21,075 - INFO - Downloaded logs_ogki64jp:v0 to /scratch/downloaded_artifacts/logs_ogki64jp:v0\n"
     ]
    },
    {
     "name": "stderr",
     "output_type": "stream",
     "text": [
      "\u001b[34m\u001b[1mwandb\u001b[0m:   1 of 1 files downloaded.  \n",
      "\u001b[34m\u001b[1mwandb\u001b[0m:   1 of 1 files downloaded.  \n"
     ]
    },
    {
     "name": "stdout",
     "output_type": "stream",
     "text": [
      "2025-04-22 16:33:21,580 - INFO - Downloaded logs_z3dbg3wm:v0 to /scratch/downloaded_artifacts/logs_z3dbg3wm:v0\n"
     ]
    },
    {
     "name": "stderr",
     "output_type": "stream",
     "text": [
      "\u001b[34m\u001b[1mwandb\u001b[0m:   1 of 1 files downloaded.  \n"
     ]
    },
    {
     "name": "stdout",
     "output_type": "stream",
     "text": [
      "2025-04-22 16:33:21,586 - INFO - Downloaded logs_admdw5os:v0 to /scratch/downloaded_artifacts/logs_admdw5os:v0\n",
      "2025-04-22 16:33:21,868 - INFO - Downloaded logs_vk224orj:v0 to /scratch/downloaded_artifacts/logs_vk224orj:v0\n"
     ]
    },
    {
     "name": "stderr",
     "output_type": "stream",
     "text": [
      "\u001b[34m\u001b[1mwandb\u001b[0m:   1 of 1 files downloaded.  \n"
     ]
    },
    {
     "name": "stdout",
     "output_type": "stream",
     "text": [
      "2025-04-22 16:33:22,177 - INFO - Downloaded logs_danoo326:v0 to /scratch/downloaded_artifacts/logs_danoo326:v0\n"
     ]
    },
    {
     "name": "stderr",
     "output_type": "stream",
     "text": [
      "\u001b[34m\u001b[1mwandb\u001b[0m:   1 of 1 files downloaded.  \n"
     ]
    },
    {
     "name": "stdout",
     "output_type": "stream",
     "text": [
      "2025-04-22 16:33:22,189 - INFO - Downloaded logs_3df1df6u:v0 to /scratch/downloaded_artifacts/logs_3df1df6u:v0\n"
     ]
    },
    {
     "name": "stderr",
     "output_type": "stream",
     "text": [
      "\u001b[34m\u001b[1mwandb\u001b[0m:   1 of 1 files downloaded.  \n",
      "\u001b[34m\u001b[1mwandb\u001b[0m:   1 of 1 files downloaded.  \n"
     ]
    },
    {
     "name": "stdout",
     "output_type": "stream",
     "text": [
      "2025-04-22 16:33:22,197 - INFO - Downloaded logs_62nb6b3m:v0 to /scratch/downloaded_artifacts/logs_62nb6b3m:v0\n",
      "2025-04-22 16:33:22,201 - INFO - Downloaded logs_39f73sdz:v0 to /scratch/downloaded_artifacts/logs_39f73sdz:v0\n"
     ]
    },
    {
     "name": "stderr",
     "output_type": "stream",
     "text": [
      "\u001b[34m\u001b[1mwandb\u001b[0m:   1 of 1 files downloaded.  \n",
      "\u001b[34m\u001b[1mwandb\u001b[0m:   1 of 1 files downloaded.  \n"
     ]
    },
    {
     "name": "stdout",
     "output_type": "stream",
     "text": [
      "2025-04-22 16:33:22,214 - INFO - Downloaded logs_0os4yism:v0 to /scratch/downloaded_artifacts/logs_0os4yism:v0\n",
      "2025-04-22 16:33:22,214 - INFO - Downloaded logs_i56i3gps:v0 to /scratch/downloaded_artifacts/logs_i56i3gps:v0\n"
     ]
    },
    {
     "name": "stderr",
     "output_type": "stream",
     "text": [
      "\u001b[34m\u001b[1mwandb\u001b[0m:   1 of 1 files downloaded.  \n"
     ]
    },
    {
     "name": "stdout",
     "output_type": "stream",
     "text": [
      "2025-04-22 16:33:22,227 - INFO - Downloaded logs_l5yidjpe:v0 to /scratch/downloaded_artifacts/logs_l5yidjpe:v0\n"
     ]
    },
    {
     "name": "stderr",
     "output_type": "stream",
     "text": [
      "\u001b[34m\u001b[1mwandb\u001b[0m:   1 of 1 files downloaded.  \n"
     ]
    },
    {
     "name": "stdout",
     "output_type": "stream",
     "text": [
      "2025-04-22 16:33:22,233 - INFO - Downloaded logs_i02of9il:v0 to /scratch/downloaded_artifacts/logs_i02of9il:v0\n"
     ]
    },
    {
     "name": "stderr",
     "output_type": "stream",
     "text": [
      "\u001b[34m\u001b[1mwandb\u001b[0m:   1 of 1 files downloaded.  \n"
     ]
    },
    {
     "name": "stdout",
     "output_type": "stream",
     "text": [
      "2025-04-22 16:33:22,249 - INFO - Downloaded logs_u1e4lism:v0 to /scratch/downloaded_artifacts/logs_u1e4lism:v0\n"
     ]
    },
    {
     "name": "stderr",
     "output_type": "stream",
     "text": [
      "\u001b[34m\u001b[1mwandb\u001b[0m:   1 of 1 files downloaded.  \n"
     ]
    },
    {
     "name": "stdout",
     "output_type": "stream",
     "text": [
      "2025-04-22 16:33:22,366 - INFO - Downloaded logs_oboh06q7:v0 to /scratch/downloaded_artifacts/logs_oboh06q7:v0\n"
     ]
    },
    {
     "name": "stderr",
     "output_type": "stream",
     "text": [
      "\u001b[34m\u001b[1mwandb\u001b[0m:   1 of 1 files downloaded.  \n"
     ]
    },
    {
     "name": "stdout",
     "output_type": "stream",
     "text": [
      "2025-04-22 16:33:22,438 - INFO - Downloaded logs_iluic0xh:v0 to /scratch/downloaded_artifacts/logs_iluic0xh:v0\n"
     ]
    },
    {
     "name": "stderr",
     "output_type": "stream",
     "text": [
      "\u001b[34m\u001b[1mwandb\u001b[0m:   1 of 1 files downloaded.  \n"
     ]
    },
    {
     "name": "stdout",
     "output_type": "stream",
     "text": [
      "2025-04-22 16:33:22,449 - INFO - Downloaded logs_qpj28f1g:v0 to /scratch/downloaded_artifacts/logs_qpj28f1g:v0\n"
     ]
    },
    {
     "name": "stderr",
     "output_type": "stream",
     "text": [
      "\u001b[34m\u001b[1mwandb\u001b[0m:   1 of 1 files downloaded.  \n"
     ]
    },
    {
     "name": "stdout",
     "output_type": "stream",
     "text": [
      "2025-04-22 16:33:22,524 - INFO - Downloaded logs_wsyws9pi:v0 to /scratch/downloaded_artifacts/logs_wsyws9pi:v0\n"
     ]
    },
    {
     "name": "stderr",
     "output_type": "stream",
     "text": [
      "\u001b[34m\u001b[1mwandb\u001b[0m:   1 of 1 files downloaded.  \n"
     ]
    },
    {
     "name": "stdout",
     "output_type": "stream",
     "text": [
      "2025-04-22 16:33:22,533 - INFO - Downloaded logs_uyposjd5:v0 to /scratch/downloaded_artifacts/logs_uyposjd5:v0\n"
     ]
    },
    {
     "name": "stderr",
     "output_type": "stream",
     "text": [
      "\u001b[34m\u001b[1mwandb\u001b[0m:   1 of 1 files downloaded.  \n"
     ]
    },
    {
     "name": "stdout",
     "output_type": "stream",
     "text": [
      "2025-04-22 16:33:22,541 - INFO - Downloaded logs_vr9kft95:v0 to /scratch/downloaded_artifacts/logs_vr9kft95:v0\n"
     ]
    },
    {
     "name": "stderr",
     "output_type": "stream",
     "text": [
      "\u001b[34m\u001b[1mwandb\u001b[0m:   1 of 1 files downloaded.  \n"
     ]
    },
    {
     "name": "stdout",
     "output_type": "stream",
     "text": [
      "2025-04-22 16:33:22,818 - INFO - Downloaded logs_x9zskve0:v0 to /scratch/downloaded_artifacts/logs_x9zskve0:v0\n"
     ]
    },
    {
     "name": "stderr",
     "output_type": "stream",
     "text": [
      "\u001b[34m\u001b[1mwandb\u001b[0m:   1 of 1 files downloaded.  \n"
     ]
    },
    {
     "name": "stdout",
     "output_type": "stream",
     "text": [
      "2025-04-22 16:33:22,892 - INFO - Downloaded logs_y5w23hfx:v0 to /scratch/downloaded_artifacts/logs_y5w23hfx:v0\n"
     ]
    },
    {
     "name": "stderr",
     "output_type": "stream",
     "text": [
      "\u001b[34m\u001b[1mwandb\u001b[0m:   1 of 1 files downloaded.  \n"
     ]
    },
    {
     "name": "stdout",
     "output_type": "stream",
     "text": [
      "2025-04-22 16:33:22,952 - INFO - Downloaded logs_2zx5ir5v:v0 to /scratch/downloaded_artifacts/logs_2zx5ir5v:v0\n"
     ]
    },
    {
     "name": "stderr",
     "output_type": "stream",
     "text": [
      "\u001b[34m\u001b[1mwandb\u001b[0m:   1 of 1 files downloaded.  \n"
     ]
    },
    {
     "name": "stdout",
     "output_type": "stream",
     "text": [
      "2025-04-22 16:33:22,958 - INFO - Downloaded logs_01rbdip6:v0 to /scratch/downloaded_artifacts/logs_01rbdip6:v0\n"
     ]
    },
    {
     "name": "stderr",
     "output_type": "stream",
     "text": [
      "\u001b[34m\u001b[1mwandb\u001b[0m:   1 of 1 files downloaded.  \n"
     ]
    },
    {
     "name": "stdout",
     "output_type": "stream",
     "text": [
      "2025-04-22 16:33:23,006 - INFO - Downloaded logs_61jwjb7w:v0 to /scratch/downloaded_artifacts/logs_61jwjb7w:v0\n"
     ]
    },
    {
     "name": "stderr",
     "output_type": "stream",
     "text": [
      "\u001b[34m\u001b[1mwandb\u001b[0m:   1 of 1 files downloaded.  \n"
     ]
    },
    {
     "name": "stdout",
     "output_type": "stream",
     "text": [
      "2025-04-22 16:33:23,472 - INFO - Downloaded logs_9mjhj92v:v0 to /scratch/downloaded_artifacts/logs_9mjhj92v:v0\n"
     ]
    },
    {
     "name": "stderr",
     "output_type": "stream",
     "text": [
      "\u001b[34m\u001b[1mwandb\u001b[0m:   1 of 1 files downloaded.  \n"
     ]
    },
    {
     "name": "stdout",
     "output_type": "stream",
     "text": [
      "2025-04-22 16:33:23,680 - INFO - Downloaded logs_ezlis5b7:v0 to /scratch/downloaded_artifacts/logs_ezlis5b7:v0\n"
     ]
    },
    {
     "name": "stderr",
     "output_type": "stream",
     "text": [
      "\u001b[34m\u001b[1mwandb\u001b[0m:   1 of 1 files downloaded.  \n"
     ]
    },
    {
     "name": "stdout",
     "output_type": "stream",
     "text": [
      "2025-04-22 16:33:23,703 - INFO - Downloaded logs_gu489ref:v0 to /scratch/downloaded_artifacts/logs_gu489ref:v0\n"
     ]
    },
    {
     "name": "stderr",
     "output_type": "stream",
     "text": [
      "\u001b[34m\u001b[1mwandb\u001b[0m:   1 of 1 files downloaded.  \n"
     ]
    },
    {
     "name": "stdout",
     "output_type": "stream",
     "text": [
      "2025-04-22 16:33:23,708 - INFO - Downloaded logs_b58oskrl:v0 to /scratch/downloaded_artifacts/logs_b58oskrl:v0\n"
     ]
    },
    {
     "name": "stderr",
     "output_type": "stream",
     "text": [
      "\u001b[34m\u001b[1mwandb\u001b[0m:   1 of 1 files downloaded.  \n",
      "\u001b[34m\u001b[1mwandb\u001b[0m:   1 of 1 files downloaded.  \n"
     ]
    },
    {
     "name": "stdout",
     "output_type": "stream",
     "text": [
      "2025-04-22 16:33:23,714 - INFO - Downloaded logs_g3o4gztw:v0 to /scratch/downloaded_artifacts/logs_g3o4gztw:v0\n",
      "2025-04-22 16:33:23,717 - INFO - Downloaded logs_8f9t931p:v0 to /scratch/downloaded_artifacts/logs_8f9t931p:v0\n"
     ]
    },
    {
     "name": "stderr",
     "output_type": "stream",
     "text": [
      "\u001b[34m\u001b[1mwandb\u001b[0m:   1 of 1 files downloaded.  \n"
     ]
    },
    {
     "name": "stdout",
     "output_type": "stream",
     "text": [
      "2025-04-22 16:33:23,734 - INFO - Downloaded logs_m58okh7t:v0 to /scratch/downloaded_artifacts/logs_m58okh7t:v0\n"
     ]
    },
    {
     "name": "stderr",
     "output_type": "stream",
     "text": [
      "\u001b[34m\u001b[1mwandb\u001b[0m:   1 of 1 files downloaded.  \n"
     ]
    },
    {
     "name": "stdout",
     "output_type": "stream",
     "text": [
      "2025-04-22 16:33:23,744 - INFO - Downloaded logs_jkdh9r0b:v0 to /scratch/downloaded_artifacts/logs_jkdh9r0b:v0\n"
     ]
    },
    {
     "name": "stderr",
     "output_type": "stream",
     "text": [
      "\u001b[34m\u001b[1mwandb\u001b[0m:   1 of 1 files downloaded.  \n",
      "\u001b[34m\u001b[1mwandb\u001b[0m:   1 of 1 files downloaded.  \n"
     ]
    },
    {
     "name": "stdout",
     "output_type": "stream",
     "text": [
      "2025-04-22 16:33:23,756 - INFO - Downloaded logs_l0r03uu6:v0 to /scratch/downloaded_artifacts/logs_l0r03uu6:v0\n",
      "2025-04-22 16:33:23,757 - INFO - Downloaded logs_dft37rsh:v0 to /scratch/downloaded_artifacts/logs_dft37rsh:v0\n"
     ]
    },
    {
     "name": "stderr",
     "output_type": "stream",
     "text": [
      "\u001b[34m\u001b[1mwandb\u001b[0m:   1 of 1 files downloaded.  \n"
     ]
    },
    {
     "name": "stdout",
     "output_type": "stream",
     "text": [
      "2025-04-22 16:33:23,831 - INFO - Downloaded logs_mwuoyw75:v0 to /scratch/downloaded_artifacts/logs_mwuoyw75:v0\n"
     ]
    },
    {
     "name": "stderr",
     "output_type": "stream",
     "text": [
      "\u001b[34m\u001b[1mwandb\u001b[0m:   1 of 1 files downloaded.  \n"
     ]
    },
    {
     "name": "stdout",
     "output_type": "stream",
     "text": [
      "2025-04-22 16:33:23,840 - INFO - Downloaded logs_o4at2nzc:v0 to /scratch/downloaded_artifacts/logs_o4at2nzc:v0\n"
     ]
    },
    {
     "name": "stderr",
     "output_type": "stream",
     "text": [
      "\u001b[34m\u001b[1mwandb\u001b[0m:   1 of 1 files downloaded.  \n"
     ]
    },
    {
     "name": "stdout",
     "output_type": "stream",
     "text": [
      "2025-04-22 16:33:23,862 - INFO - Downloaded logs_mzjpxgqr:v0 to /scratch/downloaded_artifacts/logs_mzjpxgqr:v0\n"
     ]
    },
    {
     "name": "stderr",
     "output_type": "stream",
     "text": [
      "\u001b[34m\u001b[1mwandb\u001b[0m:   1 of 1 files downloaded.  \n"
     ]
    },
    {
     "name": "stdout",
     "output_type": "stream",
     "text": [
      "2025-04-22 16:33:23,940 - INFO - Downloaded logs_mikl1n7s:v0 to /scratch/downloaded_artifacts/logs_mikl1n7s:v0\n"
     ]
    },
    {
     "name": "stderr",
     "output_type": "stream",
     "text": [
      "\u001b[34m\u001b[1mwandb\u001b[0m:   1 of 1 files downloaded.  \n"
     ]
    },
    {
     "name": "stdout",
     "output_type": "stream",
     "text": [
      "2025-04-22 16:33:24,039 - INFO - Downloaded logs_oewrc359:v0 to /scratch/downloaded_artifacts/logs_oewrc359:v0\n"
     ]
    },
    {
     "name": "stderr",
     "output_type": "stream",
     "text": [
      "\u001b[34m\u001b[1mwandb\u001b[0m:   1 of 1 files downloaded.  \n",
      "\u001b[34m\u001b[1mwandb\u001b[0m:   1 of 1 files downloaded.  \n",
      "\u001b[34m\u001b[1mwandb\u001b[0m:   1 of 1 files downloaded.  \n"
     ]
    },
    {
     "name": "stdout",
     "output_type": "stream",
     "text": [
      "2025-04-22 16:33:24,663 - INFO - Downloaded logs_qdch5lr3:v0 to /scratch/downloaded_artifacts/logs_qdch5lr3:v0\n",
      "2025-04-22 16:33:24,665 - INFO - Downloaded logs_uuv20lsp:v0 to /scratch/downloaded_artifacts/logs_uuv20lsp:v0\n",
      "2025-04-22 16:33:24,666 - INFO - Downloaded logs_potgpjta:v0 to /scratch/downloaded_artifacts/logs_potgpjta:v0\n"
     ]
    },
    {
     "name": "stderr",
     "output_type": "stream",
     "text": [
      "\u001b[34m\u001b[1mwandb\u001b[0m:   1 of 1 files downloaded.  \n"
     ]
    },
    {
     "name": "stdout",
     "output_type": "stream",
     "text": [
      "2025-04-22 16:33:24,990 - INFO - Downloaded logs_uyva03di:v0 to /scratch/downloaded_artifacts/logs_uyva03di:v0\n"
     ]
    },
    {
     "name": "stderr",
     "output_type": "stream",
     "text": [
      "\u001b[34m\u001b[1mwandb\u001b[0m:   1 of 1 files downloaded.  \n"
     ]
    },
    {
     "name": "stdout",
     "output_type": "stream",
     "text": [
      "2025-04-22 16:33:25,004 - INFO - Downloaded logs_ziobj9ip:v0 to /scratch/downloaded_artifacts/logs_ziobj9ip:v0\n"
     ]
    },
    {
     "name": "stderr",
     "output_type": "stream",
     "text": [
      "\u001b[34m\u001b[1mwandb\u001b[0m:   1 of 1 files downloaded.  \n"
     ]
    },
    {
     "name": "stdout",
     "output_type": "stream",
     "text": [
      "2025-04-22 16:33:25,063 - INFO - Downloaded logs_z78wy33a:v0 to /scratch/downloaded_artifacts/logs_z78wy33a:v0\n"
     ]
    },
    {
     "name": "stderr",
     "output_type": "stream",
     "text": [
      "\u001b[34m\u001b[1mwandb\u001b[0m:   1 of 1 files downloaded.  \n"
     ]
    },
    {
     "name": "stdout",
     "output_type": "stream",
     "text": [
      "2025-04-22 16:33:25,205 - INFO - Downloaded logs_ajzg69t5:v0 to /scratch/downloaded_artifacts/logs_ajzg69t5:v0\n"
     ]
    },
    {
     "name": "stderr",
     "output_type": "stream",
     "text": [
      "\u001b[34m\u001b[1mwandb\u001b[0m:   1 of 1 files downloaded.  \n",
      "\u001b[34m\u001b[1mwandb\u001b[0m:   1 of 1 files downloaded.  \n"
     ]
    },
    {
     "name": "stdout",
     "output_type": "stream",
     "text": [
      "2025-04-22 16:33:25,276 - INFO - Downloaded logs_318tb4l7:v0 to /scratch/downloaded_artifacts/logs_318tb4l7:v0\n"
     ]
    },
    {
     "name": "stderr",
     "output_type": "stream",
     "text": [
      "\u001b[34m\u001b[1mwandb\u001b[0m:   1 of 1 files downloaded.  \n"
     ]
    },
    {
     "name": "stdout",
     "output_type": "stream",
     "text": [
      "2025-04-22 16:33:25,277 - INFO - Downloaded logs_zj3fn6vl:v0 to /scratch/downloaded_artifacts/logs_zj3fn6vl:v0\n"
     ]
    },
    {
     "name": "stderr",
     "output_type": "stream",
     "text": [
      "\u001b[34m\u001b[1mwandb\u001b[0m:   1 of 1 files downloaded.  \n"
     ]
    },
    {
     "name": "stdout",
     "output_type": "stream",
     "text": [
      "2025-04-22 16:33:25,280 - INFO - Downloaded logs_rzyxl09q:v0 to /scratch/downloaded_artifacts/logs_rzyxl09q:v0\n"
     ]
    },
    {
     "name": "stderr",
     "output_type": "stream",
     "text": [
      "\u001b[34m\u001b[1mwandb\u001b[0m:   1 of 1 files downloaded.  \n"
     ]
    },
    {
     "name": "stdout",
     "output_type": "stream",
     "text": [
      "2025-04-22 16:33:25,282 - INFO - Downloaded logs_owb994lv:v0 to /scratch/downloaded_artifacts/logs_owb994lv:v0\n",
      "2025-04-22 16:33:25,283 - INFO - Downloaded logs_9z34a1lr:v0 to /scratch/downloaded_artifacts/logs_9z34a1lr:v0\n"
     ]
    },
    {
     "name": "stderr",
     "output_type": "stream",
     "text": [
      "\u001b[34m\u001b[1mwandb\u001b[0m:   1 of 1 files downloaded.  \n"
     ]
    },
    {
     "name": "stdout",
     "output_type": "stream",
     "text": [
      "2025-04-22 16:33:25,298 - INFO - Downloaded logs_e81ku3at:v0 to /scratch/downloaded_artifacts/logs_e81ku3at:v0\n"
     ]
    },
    {
     "name": "stderr",
     "output_type": "stream",
     "text": [
      "\u001b[34m\u001b[1mwandb\u001b[0m:   1 of 1 files downloaded.  \n"
     ]
    },
    {
     "name": "stdout",
     "output_type": "stream",
     "text": [
      "2025-04-22 16:33:25,320 - INFO - Downloaded logs_gqd8p83w:v0 to /scratch/downloaded_artifacts/logs_gqd8p83w:v0\n"
     ]
    },
    {
     "name": "stderr",
     "output_type": "stream",
     "text": [
      "\u001b[34m\u001b[1mwandb\u001b[0m:   1 of 1 files downloaded.  \n"
     ]
    },
    {
     "name": "stdout",
     "output_type": "stream",
     "text": [
      "2025-04-22 16:33:25,339 - INFO - Downloaded logs_5xala12w:v0 to /scratch/downloaded_artifacts/logs_5xala12w:v0\n"
     ]
    },
    {
     "name": "stderr",
     "output_type": "stream",
     "text": [
      "\u001b[34m\u001b[1mwandb\u001b[0m:   1 of 1 files downloaded.  \n"
     ]
    },
    {
     "name": "stdout",
     "output_type": "stream",
     "text": [
      "2025-04-22 16:33:25,359 - INFO - Downloaded logs_cvavfmus:v0 to /scratch/downloaded_artifacts/logs_cvavfmus:v0\n"
     ]
    },
    {
     "name": "stderr",
     "output_type": "stream",
     "text": [
      "\u001b[34m\u001b[1mwandb\u001b[0m:   1 of 1 files downloaded.  \n",
      "\u001b[34m\u001b[1mwandb\u001b[0m:   1 of 1 files downloaded.  \n"
     ]
    },
    {
     "name": "stdout",
     "output_type": "stream",
     "text": [
      "2025-04-22 16:33:25,409 - INFO - Downloaded logs_j3gt9tbg:v0 to /scratch/downloaded_artifacts/logs_j3gt9tbg:v0\n",
      "2025-04-22 16:33:25,410 - INFO - Downloaded logs_syzgstdd:v0 to /scratch/downloaded_artifacts/logs_syzgstdd:v0\n"
     ]
    },
    {
     "name": "stderr",
     "output_type": "stream",
     "text": [
      "\u001b[34m\u001b[1mwandb\u001b[0m:   1 of 1 files downloaded.  \n"
     ]
    },
    {
     "name": "stdout",
     "output_type": "stream",
     "text": [
      "2025-04-22 16:33:25,508 - INFO - Downloaded logs_3ia0lxar:v0 to /scratch/downloaded_artifacts/logs_3ia0lxar:v0\n"
     ]
    },
    {
     "name": "stderr",
     "output_type": "stream",
     "text": [
      "\u001b[34m\u001b[1mwandb\u001b[0m:   1 of 1 files downloaded.  \n"
     ]
    },
    {
     "name": "stdout",
     "output_type": "stream",
     "text": [
      "2025-04-22 16:33:25,832 - INFO - Downloaded logs_ng0m4e1i:v0 to /scratch/downloaded_artifacts/logs_ng0m4e1i:v0\n"
     ]
    },
    {
     "name": "stderr",
     "output_type": "stream",
     "text": [
      "\u001b[34m\u001b[1mwandb\u001b[0m:   1 of 1 files downloaded.  \n"
     ]
    },
    {
     "name": "stdout",
     "output_type": "stream",
     "text": [
      "2025-04-22 16:33:25,836 - INFO - Downloaded logs_yg127uui:v0 to /scratch/downloaded_artifacts/logs_yg127uui:v0\n"
     ]
    },
    {
     "name": "stderr",
     "output_type": "stream",
     "text": [
      "\u001b[34m\u001b[1mwandb\u001b[0m:   1 of 1 files downloaded.  \n"
     ]
    },
    {
     "name": "stdout",
     "output_type": "stream",
     "text": [
      "2025-04-22 16:33:25,923 - INFO - Downloaded logs_vehyedri:v0 to /scratch/downloaded_artifacts/logs_vehyedri:v0\n"
     ]
    },
    {
     "name": "stderr",
     "output_type": "stream",
     "text": [
      "\u001b[34m\u001b[1mwandb\u001b[0m:   1 of 1 files downloaded.  \n"
     ]
    },
    {
     "name": "stdout",
     "output_type": "stream",
     "text": [
      "2025-04-22 16:33:26,071 - INFO - Downloaded logs_8me0ybb1:v0 to /scratch/downloaded_artifacts/logs_8me0ybb1:v0\n"
     ]
    },
    {
     "name": "stderr",
     "output_type": "stream",
     "text": [
      "\u001b[34m\u001b[1mwandb\u001b[0m:   1 of 1 files downloaded.  \n"
     ]
    },
    {
     "name": "stdout",
     "output_type": "stream",
     "text": [
      "2025-04-22 16:33:26,086 - INFO - Downloaded logs_adklismm:v0 to /scratch/downloaded_artifacts/logs_adklismm:v0\n"
     ]
    },
    {
     "name": "stderr",
     "output_type": "stream",
     "text": [
      "\u001b[34m\u001b[1mwandb\u001b[0m:   1 of 1 files downloaded.  \n"
     ]
    },
    {
     "name": "stdout",
     "output_type": "stream",
     "text": [
      "2025-04-22 16:33:26,146 - INFO - Downloaded logs_d96vgico:v0 to /scratch/downloaded_artifacts/logs_d96vgico:v0\n"
     ]
    },
    {
     "name": "stderr",
     "output_type": "stream",
     "text": [
      "\u001b[34m\u001b[1mwandb\u001b[0m:   1 of 1 files downloaded.  \n"
     ]
    },
    {
     "name": "stdout",
     "output_type": "stream",
     "text": [
      "2025-04-22 16:33:27,693 - INFO - Downloaded logs_gzathbqx:v0 to /scratch/downloaded_artifacts/logs_gzathbqx:v0\n"
     ]
    },
    {
     "name": "stderr",
     "output_type": "stream",
     "text": [
      "\u001b[34m\u001b[1mwandb\u001b[0m:   1 of 1 files downloaded.  \n",
      "\u001b[34m\u001b[1mwandb\u001b[0m:   1 of 1 files downloaded.  \n"
     ]
    },
    {
     "name": "stdout",
     "output_type": "stream",
     "text": [
      "2025-04-22 16:33:27,756 - INFO - Downloaded logs_euji5u9i:v0 to /scratch/downloaded_artifacts/logs_euji5u9i:v0\n"
     ]
    },
    {
     "name": "stderr",
     "output_type": "stream",
     "text": [
      "\u001b[34m\u001b[1mwandb\u001b[0m:   1 of 1 files downloaded.  \n"
     ]
    },
    {
     "name": "stdout",
     "output_type": "stream",
     "text": [
      "2025-04-22 16:33:27,773 - INFO - Downloaded logs_va9nhnm1:v0 to /scratch/downloaded_artifacts/logs_va9nhnm1:v0\n"
     ]
    },
    {
     "name": "stderr",
     "output_type": "stream",
     "text": [
      "\u001b[34m\u001b[1mwandb\u001b[0m:   1 of 1 files downloaded.  \n"
     ]
    },
    {
     "name": "stdout",
     "output_type": "stream",
     "text": [
      "2025-04-22 16:33:27,778 - INFO - Downloaded logs_l7pprhor:v0 to /scratch/downloaded_artifacts/logs_l7pprhor:v0\n"
     ]
    },
    {
     "name": "stderr",
     "output_type": "stream",
     "text": [
      "\u001b[34m\u001b[1mwandb\u001b[0m:   1 of 1 files downloaded.  \n",
      "\u001b[34m\u001b[1mwandb\u001b[0m:   1 of 1 files downloaded.  \n"
     ]
    },
    {
     "name": "stdout",
     "output_type": "stream",
     "text": [
      "2025-04-22 16:33:27,802 - INFO - Downloaded logs_j0xxpret:v0 to /scratch/downloaded_artifacts/logs_j0xxpret:v0\n"
     ]
    },
    {
     "name": "stderr",
     "output_type": "stream",
     "text": [
      "\u001b[34m\u001b[1mwandb\u001b[0m:   1 of 1 files downloaded.  \n"
     ]
    },
    {
     "name": "stdout",
     "output_type": "stream",
     "text": [
      "2025-04-22 16:33:27,806 - INFO - Downloaded logs_74twunu7:v0 to /scratch/downloaded_artifacts/logs_74twunu7:v0\n"
     ]
    },
    {
     "name": "stderr",
     "output_type": "stream",
     "text": [
      "\u001b[34m\u001b[1mwandb\u001b[0m:   1 of 1 files downloaded.  \n"
     ]
    },
    {
     "name": "stdout",
     "output_type": "stream",
     "text": [
      "2025-04-22 16:33:27,807 - INFO - Downloaded logs_q0whfo64:v0 to /scratch/downloaded_artifacts/logs_q0whfo64:v0\n",
      "2025-04-22 16:33:27,815 - INFO - Downloaded logs_dsx42cfj:v0 to /scratch/downloaded_artifacts/logs_dsx42cfj:v0\n"
     ]
    },
    {
     "name": "stderr",
     "output_type": "stream",
     "text": [
      "\u001b[34m\u001b[1mwandb\u001b[0m:   1 of 1 files downloaded.  \n"
     ]
    },
    {
     "name": "stdout",
     "output_type": "stream",
     "text": [
      "2025-04-22 16:33:27,825 - INFO - Downloaded logs_lw3ljcco:v0 to /scratch/downloaded_artifacts/logs_lw3ljcco:v0\n"
     ]
    },
    {
     "name": "stderr",
     "output_type": "stream",
     "text": [
      "\u001b[34m\u001b[1mwandb\u001b[0m:   1 of 1 files downloaded.  \n"
     ]
    },
    {
     "name": "stdout",
     "output_type": "stream",
     "text": [
      "2025-04-22 16:33:27,829 - INFO - Downloaded logs_u4hvqbb1:v0 to /scratch/downloaded_artifacts/logs_u4hvqbb1:v0\n"
     ]
    },
    {
     "name": "stderr",
     "output_type": "stream",
     "text": [
      "\u001b[34m\u001b[1mwandb\u001b[0m:   1 of 1 files downloaded.  \n"
     ]
    },
    {
     "name": "stdout",
     "output_type": "stream",
     "text": [
      "2025-04-22 16:33:27,830 - INFO - Downloaded logs_fnjv89dx:v0 to /scratch/downloaded_artifacts/logs_fnjv89dx:v0\n"
     ]
    },
    {
     "name": "stderr",
     "output_type": "stream",
     "text": [
      "\u001b[34m\u001b[1mwandb\u001b[0m:   1 of 1 files downloaded.  \n"
     ]
    },
    {
     "name": "stdout",
     "output_type": "stream",
     "text": [
      "2025-04-22 16:33:27,839 - INFO - Downloaded logs_kdpz8zwp:v0 to /scratch/downloaded_artifacts/logs_kdpz8zwp:v0\n"
     ]
    },
    {
     "name": "stderr",
     "output_type": "stream",
     "text": [
      "\u001b[34m\u001b[1mwandb\u001b[0m:   1 of 1 files downloaded.  \n"
     ]
    },
    {
     "name": "stdout",
     "output_type": "stream",
     "text": [
      "2025-04-22 16:33:27,840 - INFO - Downloaded logs_xj8w0wsu:v0 to /scratch/downloaded_artifacts/logs_xj8w0wsu:v0\n"
     ]
    },
    {
     "name": "stderr",
     "output_type": "stream",
     "text": [
      "\u001b[34m\u001b[1mwandb\u001b[0m:   1 of 1 files downloaded.  \n",
      "\u001b[34m\u001b[1mwandb\u001b[0m:   1 of 1 files downloaded.  \n"
     ]
    },
    {
     "name": "stdout",
     "output_type": "stream",
     "text": [
      "2025-04-22 16:33:27,846 - INFO - Downloaded logs_789cioy8:v0 to /scratch/downloaded_artifacts/logs_789cioy8:v0\n",
      "2025-04-22 16:33:27,846 - INFO - Downloaded logs_vkzpvvtu:v0 to /scratch/downloaded_artifacts/logs_vkzpvvtu:v0\n"
     ]
    },
    {
     "name": "stderr",
     "output_type": "stream",
     "text": [
      "\u001b[34m\u001b[1mwandb\u001b[0m:   1 of 1 files downloaded.  \n"
     ]
    },
    {
     "name": "stdout",
     "output_type": "stream",
     "text": [
      "2025-04-22 16:33:27,851 - INFO - Downloaded logs_p1clor78:v0 to /scratch/downloaded_artifacts/logs_p1clor78:v0\n",
      "2025-04-22 16:33:27,854 - INFO - Downloaded logs_13nk4xcv:v0 to /scratch/downloaded_artifacts/logs_13nk4xcv:v0\n"
     ]
    },
    {
     "name": "stderr",
     "output_type": "stream",
     "text": [
      "\u001b[34m\u001b[1mwandb\u001b[0m:   1 of 1 files downloaded.  \n",
      "\u001b[34m\u001b[1mwandb\u001b[0m:   1 of 1 files downloaded.  \n"
     ]
    },
    {
     "name": "stdout",
     "output_type": "stream",
     "text": [
      "2025-04-22 16:33:27,866 - INFO - Downloaded logs_rbc16n4u:v0 to /scratch/downloaded_artifacts/logs_rbc16n4u:v0\n",
      "2025-04-22 16:33:27,871 - INFO - Downloaded logs_je793rdb:v0 to /scratch/downloaded_artifacts/logs_je793rdb:v0\n"
     ]
    },
    {
     "name": "stderr",
     "output_type": "stream",
     "text": [
      "\u001b[34m\u001b[1mwandb\u001b[0m:   1 of 1 files downloaded.  \n"
     ]
    },
    {
     "name": "stdout",
     "output_type": "stream",
     "text": [
      "2025-04-22 16:33:28,373 - INFO - Downloaded logs_elwjghod:v0 to /scratch/downloaded_artifacts/logs_elwjghod:v0\n"
     ]
    },
    {
     "name": "stderr",
     "output_type": "stream",
     "text": [
      "\u001b[34m\u001b[1mwandb\u001b[0m:   1 of 1 files downloaded.  \n"
     ]
    },
    {
     "name": "stdout",
     "output_type": "stream",
     "text": [
      "2025-04-22 16:33:29,354 - INFO - Downloaded logs_xi539c1u:v0 to /scratch/downloaded_artifacts/logs_xi539c1u:v0\n"
     ]
    },
    {
     "name": "stderr",
     "output_type": "stream",
     "text": [
      "\u001b[34m\u001b[1mwandb\u001b[0m:   1 of 1 files downloaded.  \n"
     ]
    },
    {
     "name": "stdout",
     "output_type": "stream",
     "text": [
      "2025-04-22 16:33:29,377 - INFO - Downloaded logs_qomwqxms:v0 to /scratch/downloaded_artifacts/logs_qomwqxms:v0\n"
     ]
    },
    {
     "name": "stderr",
     "output_type": "stream",
     "text": [
      "\u001b[34m\u001b[1mwandb\u001b[0m:   1 of 1 files downloaded.  \n"
     ]
    },
    {
     "name": "stdout",
     "output_type": "stream",
     "text": [
      "2025-04-22 16:33:29,386 - INFO - Downloaded logs_g6xzrpxl:v0 to /scratch/downloaded_artifacts/logs_g6xzrpxl:v0\n"
     ]
    },
    {
     "name": "stderr",
     "output_type": "stream",
     "text": [
      "\u001b[34m\u001b[1mwandb\u001b[0m:   1 of 1 files downloaded.  \n"
     ]
    },
    {
     "name": "stdout",
     "output_type": "stream",
     "text": [
      "2025-04-22 16:33:29,414 - INFO - Downloaded logs_ltni2q0o:v0 to /scratch/downloaded_artifacts/logs_ltni2q0o:v0\n"
     ]
    },
    {
     "name": "stderr",
     "output_type": "stream",
     "text": [
      "\u001b[34m\u001b[1mwandb\u001b[0m:   1 of 1 files downloaded.  \n"
     ]
    },
    {
     "name": "stdout",
     "output_type": "stream",
     "text": [
      "2025-04-22 16:33:29,426 - INFO - Downloaded logs_3jkuetrm:v0 to /scratch/downloaded_artifacts/logs_3jkuetrm:v0\n"
     ]
    },
    {
     "name": "stderr",
     "output_type": "stream",
     "text": [
      "\u001b[34m\u001b[1mwandb\u001b[0m:   1 of 1 files downloaded.  \n"
     ]
    },
    {
     "name": "stdout",
     "output_type": "stream",
     "text": [
      "2025-04-22 16:33:29,442 - INFO - Downloaded logs_uwunmh3u:v0 to /scratch/downloaded_artifacts/logs_uwunmh3u:v0\n"
     ]
    },
    {
     "name": "stderr",
     "output_type": "stream",
     "text": [
      "\u001b[34m\u001b[1mwandb\u001b[0m:   1 of 1 files downloaded.  \n",
      "\u001b[34m\u001b[1mwandb\u001b[0m:   1 of 1 files downloaded.  \n",
      "\u001b[34m\u001b[1mwandb\u001b[0m:   1 of 1 files downloaded.  \n"
     ]
    },
    {
     "name": "stdout",
     "output_type": "stream",
     "text": [
      "2025-04-22 16:33:29,457 - INFO - Downloaded logs_rhe6b5or:v0 to /scratch/downloaded_artifacts/logs_rhe6b5or:v0\n"
     ]
    },
    {
     "name": "stderr",
     "output_type": "stream",
     "text": [
      "\u001b[34m\u001b[1mwandb\u001b[0m:   1 of 1 files downloaded.  \n"
     ]
    },
    {
     "name": "stdout",
     "output_type": "stream",
     "text": [
      "2025-04-22 16:33:29,462 - INFO - Downloaded logs_00lfue7t:v0 to /scratch/downloaded_artifacts/logs_00lfue7t:v0\n"
     ]
    },
    {
     "name": "stderr",
     "output_type": "stream",
     "text": [
      "\u001b[34m\u001b[1mwandb\u001b[0m:   1 of 1 files downloaded.  \n"
     ]
    },
    {
     "name": "stdout",
     "output_type": "stream",
     "text": [
      "2025-04-22 16:33:29,464 - INFO - Downloaded logs_l4e6ffkh:v0 to /scratch/downloaded_artifacts/logs_l4e6ffkh:v0\n"
     ]
    },
    {
     "name": "stderr",
     "output_type": "stream",
     "text": [
      "\u001b[34m\u001b[1mwandb\u001b[0m:   1 of 1 files downloaded.  \n"
     ]
    },
    {
     "name": "stdout",
     "output_type": "stream",
     "text": [
      "2025-04-22 16:33:29,466 - INFO - Downloaded logs_813li0z9:v0 to /scratch/downloaded_artifacts/logs_813li0z9:v0\n"
     ]
    },
    {
     "name": "stderr",
     "output_type": "stream",
     "text": [
      "\u001b[34m\u001b[1mwandb\u001b[0m:   1 of 1 files downloaded.  \n"
     ]
    },
    {
     "name": "stdout",
     "output_type": "stream",
     "text": [
      "2025-04-22 16:33:29,473 - INFO - Downloaded logs_08qvlamu:v0 to /scratch/downloaded_artifacts/logs_08qvlamu:v0\n"
     ]
    },
    {
     "name": "stderr",
     "output_type": "stream",
     "text": [
      "\u001b[34m\u001b[1mwandb\u001b[0m:   1 of 1 files downloaded.  \n"
     ]
    },
    {
     "name": "stdout",
     "output_type": "stream",
     "text": [
      "2025-04-22 16:33:29,474 - INFO - Downloaded logs_fvlcl9u2:v0 to /scratch/downloaded_artifacts/logs_fvlcl9u2:v0\n",
      "2025-04-22 16:33:29,480 - INFO - Downloaded logs_cfvy6qub:v0 to /scratch/downloaded_artifacts/logs_cfvy6qub:v0\n"
     ]
    },
    {
     "name": "stderr",
     "output_type": "stream",
     "text": [
      "\u001b[34m\u001b[1mwandb\u001b[0m:   1 of 1 files downloaded.  \n",
      "\u001b[34m\u001b[1mwandb\u001b[0m:   1 of 1 files downloaded.  \n"
     ]
    },
    {
     "name": "stdout",
     "output_type": "stream",
     "text": [
      "2025-04-22 16:33:29,495 - INFO - Downloaded logs_f68jqn3l:v0 to /scratch/downloaded_artifacts/logs_f68jqn3l:v0\n"
     ]
    },
    {
     "name": "stderr",
     "output_type": "stream",
     "text": [
      "\u001b[34m\u001b[1mwandb\u001b[0m:   1 of 1 files downloaded.  \n"
     ]
    },
    {
     "name": "stdout",
     "output_type": "stream",
     "text": [
      "2025-04-22 16:33:29,498 - INFO - Downloaded logs_1a5gg4js:v0 to /scratch/downloaded_artifacts/logs_1a5gg4js:v0\n",
      "2025-04-22 16:33:29,501 - INFO - Downloaded logs_ek9la51v:v0 to /scratch/downloaded_artifacts/logs_ek9la51v:v0\n"
     ]
    },
    {
     "name": "stderr",
     "output_type": "stream",
     "text": [
      "\u001b[34m\u001b[1mwandb\u001b[0m:   1 of 1 files downloaded.  \n"
     ]
    },
    {
     "name": "stdout",
     "output_type": "stream",
     "text": [
      "2025-04-22 16:33:29,502 - INFO - Downloaded logs_7m3h25l3:v0 to /scratch/downloaded_artifacts/logs_7m3h25l3:v0\n",
      "2025-04-22 16:33:29,508 - INFO - Downloaded logs_92x3nj4i:v0 to /scratch/downloaded_artifacts/logs_92x3nj4i:v0\n"
     ]
    },
    {
     "name": "stderr",
     "output_type": "stream",
     "text": [
      "\u001b[34m\u001b[1mwandb\u001b[0m:   1 of 1 files downloaded.  \n"
     ]
    },
    {
     "name": "stdout",
     "output_type": "stream",
     "text": [
      "2025-04-22 16:33:29,520 - INFO - Downloaded logs_046xltru:v0 to /scratch/downloaded_artifacts/logs_046xltru:v0\n"
     ]
    },
    {
     "name": "stderr",
     "output_type": "stream",
     "text": [
      "\u001b[34m\u001b[1mwandb\u001b[0m: \u001b[32m\u001b[41mERROR\u001b[0m Error while calling W&B API: rate limit exceeded (<Response [429]>)\n",
      "\u001b[34m\u001b[1mwandb\u001b[0m: \u001b[32m\u001b[41mERROR\u001b[0m Error while calling W&B API: rate limit exceeded (<Response [429]>)\n",
      "\u001b[34m\u001b[1mwandb\u001b[0m: \u001b[32m\u001b[41mERROR\u001b[0m Error while calling W&B API: rate limit exceeded (<Response [429]>)\n",
      "\u001b[34m\u001b[1mwandb\u001b[0m: \u001b[32m\u001b[41mERROR\u001b[0m Error while calling W&B API: rate limit exceeded (<Response [429]>)\n",
      "\u001b[34m\u001b[1mwandb\u001b[0m: \u001b[32m\u001b[41mERROR\u001b[0m Error while calling W&B API: rate limit exceeded (<Response [429]>)\n",
      "\u001b[34m\u001b[1mwandb\u001b[0m: \u001b[32m\u001b[41mERROR\u001b[0m Error while calling W&B API: rate limit exceeded (<Response [429]>)\n",
      "\u001b[34m\u001b[1mwandb\u001b[0m: \u001b[32m\u001b[41mERROR\u001b[0m Error while calling W&B API: rate limit exceeded (<Response [429]>)\n",
      "\u001b[34m\u001b[1mwandb\u001b[0m: \u001b[32m\u001b[41mERROR\u001b[0m Error while calling W&B API: rate limit exceeded (<Response [429]>)\n",
      "\u001b[34m\u001b[1mwandb\u001b[0m: \u001b[32m\u001b[41mERROR\u001b[0m Error while calling W&B API: rate limit exceeded (<Response [429]>)\n",
      "\u001b[34m\u001b[1mwandb\u001b[0m: \u001b[32m\u001b[41mERROR\u001b[0m Error while calling W&B API: rate limit exceeded (<Response [429]>)\n",
      "\u001b[34m\u001b[1mwandb\u001b[0m:   1 of 1 files downloaded.  \n"
     ]
    },
    {
     "name": "stdout",
     "output_type": "stream",
     "text": [
      "2025-04-22 16:33:29,706 - INFO - Downloaded logs_2dp6ah42:v0 to /scratch/downloaded_artifacts/logs_2dp6ah42:v0\n"
     ]
    },
    {
     "name": "stderr",
     "output_type": "stream",
     "text": [
      "\u001b[34m\u001b[1mwandb\u001b[0m:   1 of 1 files downloaded.  \n"
     ]
    },
    {
     "name": "stdout",
     "output_type": "stream",
     "text": [
      "2025-04-22 16:33:31,830 - INFO - Downloaded logs_6d281o71:v0 to /scratch/downloaded_artifacts/logs_6d281o71:v0\n"
     ]
    },
    {
     "name": "stderr",
     "output_type": "stream",
     "text": [
      "\u001b[34m\u001b[1mwandb\u001b[0m:   1 of 1 files downloaded.  \n"
     ]
    },
    {
     "name": "stdout",
     "output_type": "stream",
     "text": [
      "2025-04-22 16:33:31,900 - INFO - Downloaded logs_4k90cqpp:v0 to /scratch/downloaded_artifacts/logs_4k90cqpp:v0\n"
     ]
    },
    {
     "name": "stderr",
     "output_type": "stream",
     "text": [
      "\u001b[34m\u001b[1mwandb\u001b[0m:   1 of 1 files downloaded.  \n",
      "\u001b[34m\u001b[1mwandb\u001b[0m:   1 of 1 files downloaded.  \n",
      "\u001b[34m\u001b[1mwandb\u001b[0m:   1 of 1 files downloaded.  \n"
     ]
    },
    {
     "name": "stdout",
     "output_type": "stream",
     "text": [
      "2025-04-22 16:33:32,014 - INFO - Downloaded logs_exr8tkh1:v0 to /scratch/downloaded_artifacts/logs_exr8tkh1:v0\n"
     ]
    },
    {
     "name": "stderr",
     "output_type": "stream",
     "text": [
      "\u001b[34m\u001b[1mwandb\u001b[0m:   1 of 1 files downloaded.  \n",
      "\u001b[34m\u001b[1mwandb\u001b[0m:   1 of 1 files downloaded.  \n"
     ]
    },
    {
     "name": "stdout",
     "output_type": "stream",
     "text": [
      "2025-04-22 16:33:32,015 - INFO - Downloaded logs_37l0e7oy:v0 to /scratch/downloaded_artifacts/logs_37l0e7oy:v0\n"
     ]
    },
    {
     "name": "stderr",
     "output_type": "stream",
     "text": [
      "\u001b[34m\u001b[1mwandb\u001b[0m:   1 of 1 files downloaded.  \n"
     ]
    },
    {
     "name": "stdout",
     "output_type": "stream",
     "text": [
      "2025-04-22 16:33:32,087 - INFO - Downloaded logs_m0abknxt:v0 to /scratch/downloaded_artifacts/logs_m0abknxt:v0\n"
     ]
    },
    {
     "name": "stderr",
     "output_type": "stream",
     "text": [
      "\u001b[34m\u001b[1mwandb\u001b[0m:   1 of 1 files downloaded.  \n"
     ]
    },
    {
     "name": "stdout",
     "output_type": "stream",
     "text": [
      "2025-04-22 16:33:32,094 - INFO - Downloaded logs_7l9lb47n:v0 to /scratch/downloaded_artifacts/logs_7l9lb47n:v0\n",
      "2025-04-22 16:33:32,100 - INFO - Downloaded logs_64na5fs1:v0 to /scratch/downloaded_artifacts/logs_64na5fs1:v0\n",
      "2025-04-22 16:33:32,172 - INFO - Downloaded logs_44j1c7nc:v0 to /scratch/downloaded_artifacts/logs_44j1c7nc:v0\n",
      "2025-04-22 16:33:32,239 - INFO - Downloaded logs_9lve4pyw:v0 to /scratch/downloaded_artifacts/logs_9lve4pyw:v0\n"
     ]
    },
    {
     "name": "stderr",
     "output_type": "stream",
     "text": [
      "\u001b[34m\u001b[1mwandb\u001b[0m:   1 of 1 files downloaded.  \n",
      "\u001b[34m\u001b[1mwandb\u001b[0m:   1 of 1 files downloaded.  \n"
     ]
    },
    {
     "name": "stdout",
     "output_type": "stream",
     "text": [
      "2025-04-22 16:33:32,362 - INFO - Downloaded logs_bcq0v4ab:v0 to /scratch/downloaded_artifacts/logs_bcq0v4ab:v0\n",
      "2025-04-22 16:33:32,362 - INFO - Downloaded logs_8dw4w8y4:v0 to /scratch/downloaded_artifacts/logs_8dw4w8y4:v0\n"
     ]
    },
    {
     "name": "stderr",
     "output_type": "stream",
     "text": [
      "\u001b[34m\u001b[1mwandb\u001b[0m:   1 of 1 files downloaded.  \n",
      "\u001b[34m\u001b[1mwandb\u001b[0m:   1 of 1 files downloaded.  \n"
     ]
    },
    {
     "name": "stdout",
     "output_type": "stream",
     "text": [
      "2025-04-22 16:33:32,386 - INFO - Downloaded logs_c97d0cbk:v0 to /scratch/downloaded_artifacts/logs_c97d0cbk:v0\n"
     ]
    },
    {
     "name": "stderr",
     "output_type": "stream",
     "text": [
      "\u001b[34m\u001b[1mwandb\u001b[0m:   1 of 1 files downloaded.  \n"
     ]
    },
    {
     "name": "stdout",
     "output_type": "stream",
     "text": [
      "2025-04-22 16:33:32,393 - INFO - Downloaded logs_l4pa49fr:v0 to /scratch/downloaded_artifacts/logs_l4pa49fr:v0\n",
      "2025-04-22 16:33:32,397 - INFO - Downloaded logs_l1xtal44:v0 to /scratch/downloaded_artifacts/logs_l1xtal44:v0\n"
     ]
    },
    {
     "name": "stderr",
     "output_type": "stream",
     "text": [
      "\u001b[34m\u001b[1mwandb\u001b[0m:   1 of 1 files downloaded.  \n"
     ]
    },
    {
     "name": "stdout",
     "output_type": "stream",
     "text": [
      "2025-04-22 16:33:32,427 - INFO - Downloaded logs_h8s8rm1x:v0 to /scratch/downloaded_artifacts/logs_h8s8rm1x:v0\n"
     ]
    },
    {
     "name": "stderr",
     "output_type": "stream",
     "text": [
      "\u001b[34m\u001b[1mwandb\u001b[0m:   1 of 1 files downloaded.  \n"
     ]
    },
    {
     "name": "stdout",
     "output_type": "stream",
     "text": [
      "2025-04-22 16:33:32,438 - INFO - Downloaded logs_g9bt2px4:v0 to /scratch/downloaded_artifacts/logs_g9bt2px4:v0\n"
     ]
    },
    {
     "name": "stderr",
     "output_type": "stream",
     "text": [
      "\u001b[34m\u001b[1mwandb\u001b[0m:   1 of 1 files downloaded.  \n"
     ]
    },
    {
     "name": "stdout",
     "output_type": "stream",
     "text": [
      "2025-04-22 16:33:32,443 - INFO - Downloaded logs_jw0lw9mg:v0 to /scratch/downloaded_artifacts/logs_jw0lw9mg:v0\n"
     ]
    },
    {
     "name": "stderr",
     "output_type": "stream",
     "text": [
      "\u001b[34m\u001b[1mwandb\u001b[0m:   1 of 1 files downloaded.  \n"
     ]
    },
    {
     "name": "stdout",
     "output_type": "stream",
     "text": [
      "2025-04-22 16:33:32,453 - INFO - Downloaded logs_aegbyi3e:v0 to /scratch/downloaded_artifacts/logs_aegbyi3e:v0\n"
     ]
    },
    {
     "name": "stderr",
     "output_type": "stream",
     "text": [
      "\u001b[34m\u001b[1mwandb\u001b[0m:   1 of 1 files downloaded.  \n"
     ]
    },
    {
     "name": "stdout",
     "output_type": "stream",
     "text": [
      "2025-04-22 16:33:32,461 - INFO - Downloaded logs_64vy7m2j:v0 to /scratch/downloaded_artifacts/logs_64vy7m2j:v0\n"
     ]
    },
    {
     "name": "stderr",
     "output_type": "stream",
     "text": [
      "\u001b[34m\u001b[1mwandb\u001b[0m:   1 of 1 files downloaded.  \n"
     ]
    },
    {
     "name": "stdout",
     "output_type": "stream",
     "text": [
      "2025-04-22 16:33:32,484 - INFO - Downloaded logs_l5yffzbw:v0 to /scratch/downloaded_artifacts/logs_l5yffzbw:v0\n"
     ]
    },
    {
     "name": "stderr",
     "output_type": "stream",
     "text": [
      "\u001b[34m\u001b[1mwandb\u001b[0m:   1 of 1 files downloaded.  \n"
     ]
    },
    {
     "name": "stdout",
     "output_type": "stream",
     "text": [
      "2025-04-22 16:33:33,688 - INFO - Downloaded logs_msy207hk:v0 to /scratch/downloaded_artifacts/logs_msy207hk:v0\n"
     ]
    },
    {
     "name": "stderr",
     "output_type": "stream",
     "text": [
      "\u001b[34m\u001b[1mwandb\u001b[0m:   1 of 1 files downloaded.  \n",
      "\u001b[34m\u001b[1mwandb\u001b[0m:   1 of 1 files downloaded.  \n"
     ]
    },
    {
     "name": "stdout",
     "output_type": "stream",
     "text": [
      "2025-04-22 16:33:33,989 - INFO - Downloaded logs_uqwtogfc:v0 to /scratch/downloaded_artifacts/logs_uqwtogfc:v0\n"
     ]
    },
    {
     "name": "stderr",
     "output_type": "stream",
     "text": [
      "\u001b[34m\u001b[1mwandb\u001b[0m:   1 of 1 files downloaded.  \n",
      "\u001b[34m\u001b[1mwandb\u001b[0m:   1 of 1 files downloaded.  \n"
     ]
    },
    {
     "name": "stdout",
     "output_type": "stream",
     "text": [
      "2025-04-22 16:33:34,048 - INFO - Downloaded logs_0rrh4jf5:v0 to /scratch/downloaded_artifacts/logs_0rrh4jf5:v0\n",
      "2025-04-22 16:33:34,069 - INFO - Downloaded logs_tc6o57bw:v0 to /scratch/downloaded_artifacts/logs_tc6o57bw:v0\n"
     ]
    },
    {
     "name": "stderr",
     "output_type": "stream",
     "text": [
      "\u001b[34m\u001b[1mwandb\u001b[0m:   1 of 1 files downloaded.  \n"
     ]
    },
    {
     "name": "stdout",
     "output_type": "stream",
     "text": [
      "2025-04-22 16:33:34,144 - INFO - Downloaded logs_vtu4b92p:v0 to /scratch/downloaded_artifacts/logs_vtu4b92p:v0\n"
     ]
    },
    {
     "name": "stderr",
     "output_type": "stream",
     "text": [
      "\u001b[34m\u001b[1mwandb\u001b[0m:   1 of 1 files downloaded.  \n"
     ]
    },
    {
     "name": "stdout",
     "output_type": "stream",
     "text": [
      "2025-04-22 16:33:34,163 - INFO - Downloaded logs_b4ouswgz:v0 to /scratch/downloaded_artifacts/logs_b4ouswgz:v0\n",
      "2025-04-22 16:33:34,168 - INFO - Downloaded logs_pfcxcld0:v0 to /scratch/downloaded_artifacts/logs_pfcxcld0:v0\n"
     ]
    },
    {
     "name": "stderr",
     "output_type": "stream",
     "text": [
      "\u001b[34m\u001b[1mwandb\u001b[0m:   1 of 1 files downloaded.  \n"
     ]
    },
    {
     "name": "stdout",
     "output_type": "stream",
     "text": [
      "2025-04-22 16:33:34,200 - INFO - Downloaded logs_mwmqqcmr:v0 to /scratch/downloaded_artifacts/logs_mwmqqcmr:v0\n"
     ]
    },
    {
     "name": "stderr",
     "output_type": "stream",
     "text": [
      "\u001b[34m\u001b[1mwandb\u001b[0m:   1 of 1 files downloaded.  \n"
     ]
    },
    {
     "name": "stdout",
     "output_type": "stream",
     "text": [
      "2025-04-22 16:33:34,215 - INFO - Downloaded logs_xn19du0k:v0 to /scratch/downloaded_artifacts/logs_xn19du0k:v0\n"
     ]
    },
    {
     "name": "stderr",
     "output_type": "stream",
     "text": [
      "\u001b[34m\u001b[1mwandb\u001b[0m:   1 of 1 files downloaded.  \n",
      "\u001b[34m\u001b[1mwandb\u001b[0m:   1 of 1 files downloaded.  \n"
     ]
    },
    {
     "name": "stdout",
     "output_type": "stream",
     "text": [
      "2025-04-22 16:33:34,228 - INFO - Downloaded logs_ubmn0s9p:v0 to /scratch/downloaded_artifacts/logs_ubmn0s9p:v0\n"
     ]
    },
    {
     "name": "stderr",
     "output_type": "stream",
     "text": [
      "\u001b[34m\u001b[1mwandb\u001b[0m:   1 of 1 files downloaded.  \n"
     ]
    },
    {
     "name": "stdout",
     "output_type": "stream",
     "text": [
      "2025-04-22 16:33:34,233 - INFO - Downloaded logs_n0brnn3h:v0 to /scratch/downloaded_artifacts/logs_n0brnn3h:v0\n",
      "2025-04-22 16:33:34,241 - INFO - Downloaded logs_3h3qn4kv:v0 to /scratch/downloaded_artifacts/logs_3h3qn4kv:v0\n"
     ]
    },
    {
     "name": "stderr",
     "output_type": "stream",
     "text": [
      "\u001b[34m\u001b[1mwandb\u001b[0m:   1 of 1 files downloaded.  \n"
     ]
    },
    {
     "name": "stdout",
     "output_type": "stream",
     "text": [
      "2025-04-22 16:33:34,245 - INFO - Downloaded logs_86bziszj:v0 to /scratch/downloaded_artifacts/logs_86bziszj:v0\n"
     ]
    },
    {
     "name": "stderr",
     "output_type": "stream",
     "text": [
      "\u001b[34m\u001b[1mwandb\u001b[0m:   1 of 1 files downloaded.  \n",
      "\u001b[34m\u001b[1mwandb\u001b[0m:   1 of 1 files downloaded.  \n",
      "\u001b[34m\u001b[1mwandb\u001b[0m:   1 of 1 files downloaded.  \n"
     ]
    },
    {
     "name": "stdout",
     "output_type": "stream",
     "text": [
      "2025-04-22 16:33:34,263 - INFO - Downloaded logs_0sgxnqfd:v0 to /scratch/downloaded_artifacts/logs_0sgxnqfd:v0\n"
     ]
    },
    {
     "name": "stderr",
     "output_type": "stream",
     "text": [
      "\u001b[34m\u001b[1mwandb\u001b[0m:   1 of 1 files downloaded.  \n"
     ]
    },
    {
     "name": "stdout",
     "output_type": "stream",
     "text": [
      "2025-04-22 16:33:34,263 - INFO - Downloaded logs_bzh3fu6o:v0 to /scratch/downloaded_artifacts/logs_bzh3fu6o:v0\n"
     ]
    },
    {
     "name": "stderr",
     "output_type": "stream",
     "text": [
      "\u001b[34m\u001b[1mwandb\u001b[0m:   1 of 1 files downloaded.  \n"
     ]
    },
    {
     "name": "stdout",
     "output_type": "stream",
     "text": [
      "2025-04-22 16:33:34,267 - INFO - Downloaded logs_1c2a8py6:v0 to /scratch/downloaded_artifacts/logs_1c2a8py6:v0\n",
      "2025-04-22 16:33:34,270 - INFO - Downloaded logs_u4icl8f6:v0 to /scratch/downloaded_artifacts/logs_u4icl8f6:v0\n",
      "2025-04-22 16:33:34,271 - INFO - Downloaded logs_bs2qevib:v0 to /scratch/downloaded_artifacts/logs_bs2qevib:v0\n"
     ]
    },
    {
     "name": "stderr",
     "output_type": "stream",
     "text": [
      "\u001b[34m\u001b[1mwandb\u001b[0m:   1 of 1 files downloaded.  \n",
      "\u001b[34m\u001b[1mwandb\u001b[0m:   1 of 1 files downloaded.  \n"
     ]
    },
    {
     "name": "stdout",
     "output_type": "stream",
     "text": [
      "2025-04-22 16:33:34,281 - INFO - Downloaded logs_pe8qtwoz:v0 to /scratch/downloaded_artifacts/logs_pe8qtwoz:v0\n",
      "2025-04-22 16:33:34,283 - INFO - Downloaded logs_0xw3cqmo:v0 to /scratch/downloaded_artifacts/logs_0xw3cqmo:v0\n"
     ]
    },
    {
     "name": "stderr",
     "output_type": "stream",
     "text": [
      "\u001b[34m\u001b[1mwandb\u001b[0m:   1 of 1 files downloaded.  \n"
     ]
    },
    {
     "name": "stdout",
     "output_type": "stream",
     "text": [
      "2025-04-22 16:33:34,838 - INFO - Downloaded logs_1w4toqro:v0 to /scratch/downloaded_artifacts/logs_1w4toqro:v0\n"
     ]
    },
    {
     "name": "stderr",
     "output_type": "stream",
     "text": [
      "\u001b[34m\u001b[1mwandb\u001b[0m:   1 of 1 files downloaded.  \n"
     ]
    },
    {
     "name": "stdout",
     "output_type": "stream",
     "text": [
      "2025-04-22 16:33:35,750 - INFO - Downloaded logs_7qedaxf2:v0 to /scratch/downloaded_artifacts/logs_7qedaxf2:v0\n"
     ]
    },
    {
     "name": "stderr",
     "output_type": "stream",
     "text": [
      "\u001b[34m\u001b[1mwandb\u001b[0m:   1 of 1 files downloaded.  \n"
     ]
    },
    {
     "name": "stdout",
     "output_type": "stream",
     "text": [
      "2025-04-22 16:33:35,822 - INFO - Downloaded logs_jbno2ch9:v0 to /scratch/downloaded_artifacts/logs_jbno2ch9:v0\n"
     ]
    },
    {
     "name": "stderr",
     "output_type": "stream",
     "text": [
      "\u001b[34m\u001b[1mwandb\u001b[0m:   1 of 1 files downloaded.  \n"
     ]
    },
    {
     "name": "stdout",
     "output_type": "stream",
     "text": [
      "2025-04-22 16:33:35,828 - INFO - Downloaded logs_cygubqwh:v0 to /scratch/downloaded_artifacts/logs_cygubqwh:v0\n"
     ]
    },
    {
     "name": "stderr",
     "output_type": "stream",
     "text": [
      "\u001b[34m\u001b[1mwandb\u001b[0m:   1 of 1 files downloaded.  \n"
     ]
    },
    {
     "name": "stdout",
     "output_type": "stream",
     "text": [
      "2025-04-22 16:33:35,844 - INFO - Downloaded logs_khpc4q52:v0 to /scratch/downloaded_artifacts/logs_khpc4q52:v0\n"
     ]
    },
    {
     "name": "stderr",
     "output_type": "stream",
     "text": [
      "\u001b[34m\u001b[1mwandb\u001b[0m:   1 of 1 files downloaded.  \n"
     ]
    },
    {
     "name": "stdout",
     "output_type": "stream",
     "text": [
      "2025-04-22 16:33:35,853 - INFO - Downloaded logs_i66c8d5w:v0 to /scratch/downloaded_artifacts/logs_i66c8d5w:v0\n"
     ]
    },
    {
     "name": "stderr",
     "output_type": "stream",
     "text": [
      "\u001b[34m\u001b[1mwandb\u001b[0m:   1 of 1 files downloaded.  \n"
     ]
    },
    {
     "name": "stdout",
     "output_type": "stream",
     "text": [
      "2025-04-22 16:33:35,860 - INFO - Downloaded logs_5vcyh716:v0 to /scratch/downloaded_artifacts/logs_5vcyh716:v0\n"
     ]
    },
    {
     "name": "stderr",
     "output_type": "stream",
     "text": [
      "\u001b[34m\u001b[1mwandb\u001b[0m:   1 of 1 files downloaded.  \n"
     ]
    },
    {
     "name": "stdout",
     "output_type": "stream",
     "text": [
      "2025-04-22 16:33:35,898 - INFO - Downloaded logs_bvzg0isw:v0 to /scratch/downloaded_artifacts/logs_bvzg0isw:v0\n"
     ]
    },
    {
     "name": "stderr",
     "output_type": "stream",
     "text": [
      "\u001b[34m\u001b[1mwandb\u001b[0m:   1 of 1 files downloaded.  \n",
      "\u001b[34m\u001b[1mwandb\u001b[0m:   1 of 1 files downloaded.  \n"
     ]
    },
    {
     "name": "stdout",
     "output_type": "stream",
     "text": [
      "2025-04-22 16:33:35,914 - INFO - Downloaded logs_b8nvlu7e:v0 to /scratch/downloaded_artifacts/logs_b8nvlu7e:v0\n"
     ]
    },
    {
     "name": "stderr",
     "output_type": "stream",
     "text": [
      "\u001b[34m\u001b[1mwandb\u001b[0m:   1 of 1 files downloaded.  \n"
     ]
    },
    {
     "name": "stdout",
     "output_type": "stream",
     "text": [
      "2025-04-22 16:33:35,919 - INFO - Downloaded logs_pihle0ln:v0 to /scratch/downloaded_artifacts/logs_pihle0ln:v0\n"
     ]
    },
    {
     "name": "stderr",
     "output_type": "stream",
     "text": [
      "\u001b[34m\u001b[1mwandb\u001b[0m:   1 of 1 files downloaded.  \n"
     ]
    },
    {
     "name": "stdout",
     "output_type": "stream",
     "text": [
      "2025-04-22 16:33:35,928 - INFO - Downloaded logs_9wn2wp2y:v0 to /scratch/downloaded_artifacts/logs_9wn2wp2y:v0\n"
     ]
    },
    {
     "name": "stderr",
     "output_type": "stream",
     "text": [
      "\u001b[34m\u001b[1mwandb\u001b[0m:   1 of 1 files downloaded.  \n"
     ]
    },
    {
     "name": "stdout",
     "output_type": "stream",
     "text": [
      "2025-04-22 16:33:35,932 - INFO - Downloaded logs_qy02vu7y:v0 to /scratch/downloaded_artifacts/logs_qy02vu7y:v0\n"
     ]
    },
    {
     "name": "stderr",
     "output_type": "stream",
     "text": [
      "\u001b[34m\u001b[1mwandb\u001b[0m:   1 of 1 files downloaded.  \n"
     ]
    },
    {
     "name": "stdout",
     "output_type": "stream",
     "text": [
      "2025-04-22 16:33:35,939 - INFO - Downloaded logs_781og1ic:v0 to /scratch/downloaded_artifacts/logs_781og1ic:v0\n"
     ]
    },
    {
     "name": "stderr",
     "output_type": "stream",
     "text": [
      "\u001b[34m\u001b[1mwandb\u001b[0m:   1 of 1 files downloaded.  \n",
      "\u001b[34m\u001b[1mwandb\u001b[0m:   1 of 1 files downloaded.  \n"
     ]
    },
    {
     "name": "stdout",
     "output_type": "stream",
     "text": [
      "2025-04-22 16:33:35,943 - INFO - Downloaded logs_bsfwc6tz:v0 to /scratch/downloaded_artifacts/logs_bsfwc6tz:v0\n"
     ]
    },
    {
     "name": "stderr",
     "output_type": "stream",
     "text": [
      "\u001b[34m\u001b[1mwandb\u001b[0m:   1 of 1 files downloaded.  \n"
     ]
    },
    {
     "name": "stdout",
     "output_type": "stream",
     "text": [
      "2025-04-22 16:33:35,946 - INFO - Downloaded logs_li6n40yg:v0 to /scratch/downloaded_artifacts/logs_li6n40yg:v0\n"
     ]
    },
    {
     "name": "stderr",
     "output_type": "stream",
     "text": [
      "\u001b[34m\u001b[1mwandb\u001b[0m:   1 of 1 files downloaded.  \n"
     ]
    },
    {
     "name": "stdout",
     "output_type": "stream",
     "text": [
      "2025-04-22 16:33:35,948 - INFO - Downloaded logs_7pb56rv1:v0 to /scratch/downloaded_artifacts/logs_7pb56rv1:v0\n",
      "2025-04-22 16:33:36,001 - INFO - Downloaded logs_2exz41ul:v0 to /scratch/downloaded_artifacts/logs_2exz41ul:v0\n",
      "2025-04-22 16:33:36,002 - INFO - Downloaded logs_pluqzu72:v0 to /scratch/downloaded_artifacts/logs_pluqzu72:v0\n"
     ]
    },
    {
     "name": "stderr",
     "output_type": "stream",
     "text": [
      "\u001b[34m\u001b[1mwandb\u001b[0m:   1 of 1 files downloaded.  \n"
     ]
    },
    {
     "name": "stdout",
     "output_type": "stream",
     "text": [
      "2025-04-22 16:33:36,028 - INFO - Downloaded logs_k9fe46dd:v0 to /scratch/downloaded_artifacts/logs_k9fe46dd:v0\n"
     ]
    },
    {
     "name": "stderr",
     "output_type": "stream",
     "text": [
      "\u001b[34m\u001b[1mwandb\u001b[0m:   1 of 1 files downloaded.  \n"
     ]
    },
    {
     "name": "stdout",
     "output_type": "stream",
     "text": [
      "2025-04-22 16:33:36,102 - INFO - Downloaded logs_r3vwob04:v0 to /scratch/downloaded_artifacts/logs_r3vwob04:v0\n"
     ]
    },
    {
     "name": "stderr",
     "output_type": "stream",
     "text": [
      "\u001b[34m\u001b[1mwandb\u001b[0m:   1 of 1 files downloaded.  \n"
     ]
    },
    {
     "name": "stdout",
     "output_type": "stream",
     "text": [
      "2025-04-22 16:33:36,525 - INFO - Downloaded logs_s2mv33cl:v0 to /scratch/downloaded_artifacts/logs_s2mv33cl:v0\n"
     ]
    },
    {
     "name": "stderr",
     "output_type": "stream",
     "text": [
      "\u001b[34m\u001b[1mwandb\u001b[0m:   1 of 1 files downloaded.  \n"
     ]
    },
    {
     "name": "stdout",
     "output_type": "stream",
     "text": [
      "2025-04-22 16:33:37,426 - INFO - Downloaded logs_frnct2jj:v0 to /scratch/downloaded_artifacts/logs_frnct2jj:v0\n"
     ]
    },
    {
     "name": "stderr",
     "output_type": "stream",
     "text": [
      "\u001b[34m\u001b[1mwandb\u001b[0m:   1 of 1 files downloaded.  \n"
     ]
    },
    {
     "name": "stdout",
     "output_type": "stream",
     "text": [
      "2025-04-22 16:33:37,432 - INFO - Downloaded logs_tgnzadie:v0 to /scratch/downloaded_artifacts/logs_tgnzadie:v0\n"
     ]
    },
    {
     "name": "stderr",
     "output_type": "stream",
     "text": [
      "\u001b[34m\u001b[1mwandb\u001b[0m:   1 of 1 files downloaded.  \n",
      "\u001b[34m\u001b[1mwandb\u001b[0m:   1 of 1 files downloaded.  \n"
     ]
    },
    {
     "name": "stdout",
     "output_type": "stream",
     "text": [
      "2025-04-22 16:33:37,604 - INFO - Downloaded logs_tohxoqqd:v0 to /scratch/downloaded_artifacts/logs_tohxoqqd:v0\n"
     ]
    },
    {
     "name": "stderr",
     "output_type": "stream",
     "text": [
      "\u001b[34m\u001b[1mwandb\u001b[0m:   1 of 1 files downloaded.  \n"
     ]
    },
    {
     "name": "stdout",
     "output_type": "stream",
     "text": [
      "2025-04-22 16:33:37,610 - INFO - Downloaded logs_9f3zrwez:v0 to /scratch/downloaded_artifacts/logs_9f3zrwez:v0\n"
     ]
    },
    {
     "name": "stderr",
     "output_type": "stream",
     "text": [
      "\u001b[34m\u001b[1mwandb\u001b[0m:   1 of 1 files downloaded.  \n",
      "\u001b[34m\u001b[1mwandb\u001b[0m:   1 of 1 files downloaded.  \n"
     ]
    },
    {
     "name": "stdout",
     "output_type": "stream",
     "text": [
      "2025-04-22 16:33:37,619 - INFO - Downloaded logs_lekufcpr:v0 to /scratch/downloaded_artifacts/logs_lekufcpr:v0\n",
      "2025-04-22 16:33:37,622 - INFO - Downloaded logs_fmusozus:v0 to /scratch/downloaded_artifacts/logs_fmusozus:v0\n"
     ]
    },
    {
     "name": "stderr",
     "output_type": "stream",
     "text": [
      "\u001b[34m\u001b[1mwandb\u001b[0m:   1 of 1 files downloaded.  \n"
     ]
    },
    {
     "name": "stdout",
     "output_type": "stream",
     "text": [
      "2025-04-22 16:33:37,631 - INFO - Downloaded logs_z48x7imn:v0 to /scratch/downloaded_artifacts/logs_z48x7imn:v0\n",
      "2025-04-22 16:33:37,635 - INFO - Downloaded logs_j6kk4kae:v0 to /scratch/downloaded_artifacts/logs_j6kk4kae:v0\n"
     ]
    },
    {
     "name": "stderr",
     "output_type": "stream",
     "text": [
      "\u001b[34m\u001b[1mwandb\u001b[0m:   1 of 1 files downloaded.  \n"
     ]
    },
    {
     "name": "stdout",
     "output_type": "stream",
     "text": [
      "2025-04-22 16:33:37,643 - INFO - Downloaded logs_vt5vkrlp:v0 to /scratch/downloaded_artifacts/logs_vt5vkrlp:v0\n"
     ]
    },
    {
     "name": "stderr",
     "output_type": "stream",
     "text": [
      "\u001b[34m\u001b[1mwandb\u001b[0m:   1 of 1 files downloaded.  \n",
      "\u001b[34m\u001b[1mwandb\u001b[0m:   1 of 1 files downloaded.  \n"
     ]
    },
    {
     "name": "stdout",
     "output_type": "stream",
     "text": [
      "2025-04-22 16:33:37,655 - INFO - Downloaded logs_xa41txgi:v0 to /scratch/downloaded_artifacts/logs_xa41txgi:v0\n"
     ]
    },
    {
     "name": "stderr",
     "output_type": "stream",
     "text": [
      "\u001b[34m\u001b[1mwandb\u001b[0m:   1 of 1 files downloaded.  \n"
     ]
    },
    {
     "name": "stdout",
     "output_type": "stream",
     "text": [
      "2025-04-22 16:33:37,659 - INFO - Downloaded logs_0t73m99y:v0 to /scratch/downloaded_artifacts/logs_0t73m99y:v0\n"
     ]
    },
    {
     "name": "stderr",
     "output_type": "stream",
     "text": [
      "\u001b[34m\u001b[1mwandb\u001b[0m:   1 of 1 files downloaded.  \n"
     ]
    },
    {
     "name": "stdout",
     "output_type": "stream",
     "text": [
      "2025-04-22 16:33:37,662 - INFO - Downloaded logs_94la02h2:v0 to /scratch/downloaded_artifacts/logs_94la02h2:v0\n"
     ]
    },
    {
     "name": "stderr",
     "output_type": "stream",
     "text": [
      "\u001b[34m\u001b[1mwandb\u001b[0m:   1 of 1 files downloaded.  \n",
      "\u001b[34m\u001b[1mwandb\u001b[0m:   1 of 1 files downloaded.  \n"
     ]
    },
    {
     "name": "stdout",
     "output_type": "stream",
     "text": [
      "2025-04-22 16:33:37,663 - INFO - Downloaded logs_nisqa603:v0 to /scratch/downloaded_artifacts/logs_nisqa603:v0\n",
      "2025-04-22 16:33:37,667 - INFO - Downloaded logs_1r533at6:v0 to /scratch/downloaded_artifacts/logs_1r533at6:v0\n",
      "2025-04-22 16:33:37,670 - INFO - Downloaded logs_28j4oqwa:v0 to /scratch/downloaded_artifacts/logs_28j4oqwa:v0\n"
     ]
    },
    {
     "name": "stderr",
     "output_type": "stream",
     "text": [
      "\u001b[34m\u001b[1mwandb\u001b[0m:   1 of 1 files downloaded.  \n"
     ]
    },
    {
     "name": "stdout",
     "output_type": "stream",
     "text": [
      "2025-04-22 16:33:37,687 - INFO - Downloaded logs_nnxftrln:v0 to /scratch/downloaded_artifacts/logs_nnxftrln:v0\n"
     ]
    },
    {
     "name": "stderr",
     "output_type": "stream",
     "text": [
      "\u001b[34m\u001b[1mwandb\u001b[0m:   1 of 1 files downloaded.  \n"
     ]
    },
    {
     "name": "stdout",
     "output_type": "stream",
     "text": [
      "2025-04-22 16:33:37,720 - INFO - Downloaded logs_x5tr6xci:v0 to /scratch/downloaded_artifacts/logs_x5tr6xci:v0\n"
     ]
    },
    {
     "name": "stderr",
     "output_type": "stream",
     "text": [
      "\u001b[34m\u001b[1mwandb\u001b[0m:   1 of 1 files downloaded.  \n"
     ]
    },
    {
     "name": "stdout",
     "output_type": "stream",
     "text": [
      "2025-04-22 16:33:37,751 - INFO - Downloaded logs_8qmk8nnm:v0 to /scratch/downloaded_artifacts/logs_8qmk8nnm:v0\n"
     ]
    },
    {
     "name": "stderr",
     "output_type": "stream",
     "text": [
      "\u001b[34m\u001b[1mwandb\u001b[0m:   1 of 1 files downloaded.  \n"
     ]
    },
    {
     "name": "stdout",
     "output_type": "stream",
     "text": [
      "2025-04-22 16:33:38,161 - INFO - Downloaded logs_afx7oqrg:v0 to /scratch/downloaded_artifacts/logs_afx7oqrg:v0\n"
     ]
    },
    {
     "name": "stderr",
     "output_type": "stream",
     "text": [
      "\u001b[34m\u001b[1mwandb\u001b[0m:   1 of 1 files downloaded.  \n"
     ]
    },
    {
     "name": "stdout",
     "output_type": "stream",
     "text": [
      "2025-04-22 16:33:38,612 - INFO - Downloaded logs_cf80vnkc:v0 to /scratch/downloaded_artifacts/logs_cf80vnkc:v0\n"
     ]
    },
    {
     "name": "stderr",
     "output_type": "stream",
     "text": [
      "\u001b[34m\u001b[1mwandb\u001b[0m:   1 of 1 files downloaded.  \n"
     ]
    },
    {
     "name": "stdout",
     "output_type": "stream",
     "text": [
      "2025-04-22 16:33:38,630 - INFO - Downloaded logs_baxrogbx:v0 to /scratch/downloaded_artifacts/logs_baxrogbx:v0\n"
     ]
    },
    {
     "name": "stderr",
     "output_type": "stream",
     "text": [
      "\u001b[34m\u001b[1mwandb\u001b[0m:   1 of 1 files downloaded.  \n"
     ]
    },
    {
     "name": "stdout",
     "output_type": "stream",
     "text": [
      "2025-04-22 16:33:38,724 - INFO - Downloaded logs_g4beo63s:v0 to /scratch/downloaded_artifacts/logs_g4beo63s:v0\n"
     ]
    },
    {
     "name": "stderr",
     "output_type": "stream",
     "text": [
      "\u001b[34m\u001b[1mwandb\u001b[0m:   1 of 1 files downloaded.  \n"
     ]
    },
    {
     "name": "stdout",
     "output_type": "stream",
     "text": [
      "2025-04-22 16:33:38,945 - INFO - Downloaded logs_mk893nvk:v0 to /scratch/downloaded_artifacts/logs_mk893nvk:v0\n"
     ]
    },
    {
     "name": "stderr",
     "output_type": "stream",
     "text": [
      "\u001b[34m\u001b[1mwandb\u001b[0m:   1 of 1 files downloaded.  \n"
     ]
    },
    {
     "name": "stdout",
     "output_type": "stream",
     "text": [
      "2025-04-22 16:33:38,965 - INFO - Downloaded logs_fh0fnhfb:v0 to /scratch/downloaded_artifacts/logs_fh0fnhfb:v0\n"
     ]
    },
    {
     "name": "stderr",
     "output_type": "stream",
     "text": [
      "\u001b[34m\u001b[1mwandb\u001b[0m:   1 of 1 files downloaded.  \n"
     ]
    },
    {
     "name": "stdout",
     "output_type": "stream",
     "text": [
      "2025-04-22 16:33:38,966 - INFO - Downloaded logs_3cj8qj44:v0 to /scratch/downloaded_artifacts/logs_3cj8qj44:v0\n"
     ]
    },
    {
     "name": "stderr",
     "output_type": "stream",
     "text": [
      "\u001b[34m\u001b[1mwandb\u001b[0m:   1 of 1 files downloaded.  \n"
     ]
    },
    {
     "name": "stdout",
     "output_type": "stream",
     "text": [
      "2025-04-22 16:33:39,038 - INFO - Downloaded logs_g9qdrcgp:v0 to /scratch/downloaded_artifacts/logs_g9qdrcgp:v0\n"
     ]
    },
    {
     "name": "stderr",
     "output_type": "stream",
     "text": [
      "\u001b[34m\u001b[1mwandb\u001b[0m:   1 of 1 files downloaded.  \n"
     ]
    },
    {
     "name": "stdout",
     "output_type": "stream",
     "text": [
      "2025-04-22 16:33:39,303 - INFO - Downloaded logs_ijb3b1h1:v0 to /scratch/downloaded_artifacts/logs_ijb3b1h1:v0\n"
     ]
    },
    {
     "name": "stderr",
     "output_type": "stream",
     "text": [
      "\u001b[34m\u001b[1mwandb\u001b[0m:   1 of 1 files downloaded.  \n"
     ]
    },
    {
     "name": "stdout",
     "output_type": "stream",
     "text": [
      "2025-04-22 16:33:39,309 - INFO - Downloaded logs_kivlrpa1:v0 to /scratch/downloaded_artifacts/logs_kivlrpa1:v0\n"
     ]
    },
    {
     "name": "stderr",
     "output_type": "stream",
     "text": [
      "\u001b[34m\u001b[1mwandb\u001b[0m:   1 of 1 files downloaded.  \n"
     ]
    },
    {
     "name": "stdout",
     "output_type": "stream",
     "text": [
      "2025-04-22 16:33:39,311 - INFO - Downloaded logs_lntpwb42:v0 to /scratch/downloaded_artifacts/logs_lntpwb42:v0\n"
     ]
    },
    {
     "name": "stderr",
     "output_type": "stream",
     "text": [
      "\u001b[34m\u001b[1mwandb\u001b[0m:   1 of 1 files downloaded.  \n"
     ]
    },
    {
     "name": "stdout",
     "output_type": "stream",
     "text": [
      "2025-04-22 16:33:39,359 - INFO - Downloaded logs_i8c0cx8v:v0 to /scratch/downloaded_artifacts/logs_i8c0cx8v:v0\n"
     ]
    },
    {
     "name": "stderr",
     "output_type": "stream",
     "text": [
      "\u001b[34m\u001b[1mwandb\u001b[0m:   1 of 1 files downloaded.  \n"
     ]
    },
    {
     "name": "stdout",
     "output_type": "stream",
     "text": [
      "2025-04-22 16:33:39,592 - INFO - Downloaded logs_nhn6a919:v0 to /scratch/downloaded_artifacts/logs_nhn6a919:v0\n"
     ]
    },
    {
     "name": "stderr",
     "output_type": "stream",
     "text": [
      "\u001b[34m\u001b[1mwandb\u001b[0m:   1 of 1 files downloaded.  \n"
     ]
    },
    {
     "name": "stdout",
     "output_type": "stream",
     "text": [
      "2025-04-22 16:33:39,641 - INFO - Downloaded logs_jmii3ppx:v0 to /scratch/downloaded_artifacts/logs_jmii3ppx:v0\n"
     ]
    },
    {
     "name": "stderr",
     "output_type": "stream",
     "text": [
      "\u001b[34m\u001b[1mwandb\u001b[0m:   1 of 1 files downloaded.  \n"
     ]
    },
    {
     "name": "stdout",
     "output_type": "stream",
     "text": [
      "2025-04-22 16:33:39,695 - INFO - Downloaded logs_oqjlaq0m:v0 to /scratch/downloaded_artifacts/logs_oqjlaq0m:v0\n"
     ]
    },
    {
     "name": "stderr",
     "output_type": "stream",
     "text": [
      "\u001b[34m\u001b[1mwandb\u001b[0m:   1 of 1 files downloaded.  \n"
     ]
    },
    {
     "name": "stdout",
     "output_type": "stream",
     "text": [
      "2025-04-22 16:33:39,958 - INFO - Downloaded logs_t0kro1o7:v0 to /scratch/downloaded_artifacts/logs_t0kro1o7:v0\n"
     ]
    },
    {
     "name": "stderr",
     "output_type": "stream",
     "text": [
      "\u001b[34m\u001b[1mwandb\u001b[0m:   1 of 1 files downloaded.  \n",
      "\u001b[34m\u001b[1mwandb\u001b[0m:   1 of 1 files downloaded.  \n"
     ]
    },
    {
     "name": "stdout",
     "output_type": "stream",
     "text": [
      "2025-04-22 16:33:40,067 - INFO - Downloaded logs_tzc7wxi7:v0 to /scratch/downloaded_artifacts/logs_tzc7wxi7:v0\n",
      "2025-04-22 16:33:40,069 - INFO - Downloaded logs_o6yx496n:v0 to /scratch/downloaded_artifacts/logs_o6yx496n:v0\n"
     ]
    },
    {
     "name": "stderr",
     "output_type": "stream",
     "text": [
      "\u001b[34m\u001b[1mwandb\u001b[0m:   1 of 1 files downloaded.  \n"
     ]
    },
    {
     "name": "stdout",
     "output_type": "stream",
     "text": [
      "2025-04-22 16:33:40,083 - INFO - Downloaded logs_5mi6dri8:v0 to /scratch/downloaded_artifacts/logs_5mi6dri8:v0\n"
     ]
    },
    {
     "name": "stderr",
     "output_type": "stream",
     "text": [
      "\u001b[34m\u001b[1mwandb\u001b[0m:   1 of 1 files downloaded.  \n"
     ]
    },
    {
     "name": "stdout",
     "output_type": "stream",
     "text": [
      "2025-04-22 16:33:40,177 - INFO - Downloaded logs_vvq3nyq9:v0 to /scratch/downloaded_artifacts/logs_vvq3nyq9:v0\n"
     ]
    },
    {
     "name": "stderr",
     "output_type": "stream",
     "text": [
      "\u001b[34m\u001b[1mwandb\u001b[0m:   1 of 1 files downloaded.  \n"
     ]
    },
    {
     "name": "stdout",
     "output_type": "stream",
     "text": [
      "2025-04-22 16:33:40,406 - INFO - Downloaded logs_7wqffqgk:v0 to /scratch/downloaded_artifacts/logs_7wqffqgk:v0\n"
     ]
    },
    {
     "name": "stderr",
     "output_type": "stream",
     "text": [
      "\u001b[34m\u001b[1mwandb\u001b[0m:   1 of 1 files downloaded.  \n"
     ]
    },
    {
     "name": "stdout",
     "output_type": "stream",
     "text": [
      "2025-04-22 16:33:40,429 - INFO - Downloaded logs_9jvz6p5w:v0 to /scratch/downloaded_artifacts/logs_9jvz6p5w:v0\n"
     ]
    },
    {
     "name": "stderr",
     "output_type": "stream",
     "text": [
      "\u001b[34m\u001b[1mwandb\u001b[0m:   1 of 1 files downloaded.  \n"
     ]
    },
    {
     "name": "stdout",
     "output_type": "stream",
     "text": [
      "2025-04-22 16:33:40,485 - INFO - Downloaded logs_tziqtqk7:v0 to /scratch/downloaded_artifacts/logs_tziqtqk7:v0\n"
     ]
    },
    {
     "name": "stderr",
     "output_type": "stream",
     "text": [
      "\u001b[34m\u001b[1mwandb\u001b[0m:   1 of 1 files downloaded.  \n"
     ]
    },
    {
     "name": "stdout",
     "output_type": "stream",
     "text": [
      "2025-04-22 16:33:40,609 - INFO - Downloaded logs_m25noemh:v0 to /scratch/downloaded_artifacts/logs_m25noemh:v0\n"
     ]
    },
    {
     "name": "stderr",
     "output_type": "stream",
     "text": [
      "\u001b[34m\u001b[1mwandb\u001b[0m:   1 of 1 files downloaded.  \n"
     ]
    },
    {
     "name": "stdout",
     "output_type": "stream",
     "text": [
      "2025-04-22 16:33:40,857 - INFO - Downloaded logs_bnjoam9h:v0 to /scratch/downloaded_artifacts/logs_bnjoam9h:v0\n"
     ]
    },
    {
     "name": "stderr",
     "output_type": "stream",
     "text": [
      "\u001b[34m\u001b[1mwandb\u001b[0m:   1 of 1 files downloaded.  \n"
     ]
    },
    {
     "name": "stdout",
     "output_type": "stream",
     "text": [
      "2025-04-22 16:33:40,888 - INFO - Downloaded logs_aiw2y2ae:v0 to /scratch/downloaded_artifacts/logs_aiw2y2ae:v0\n"
     ]
    },
    {
     "name": "stderr",
     "output_type": "stream",
     "text": [
      "\u001b[34m\u001b[1mwandb\u001b[0m:   1 of 1 files downloaded.  \n"
     ]
    },
    {
     "name": "stdout",
     "output_type": "stream",
     "text": [
      "2025-04-22 16:33:40,934 - INFO - Downloaded logs_enqf5dta:v0 to /scratch/downloaded_artifacts/logs_enqf5dta:v0\n"
     ]
    },
    {
     "name": "stderr",
     "output_type": "stream",
     "text": [
      "\u001b[34m\u001b[1mwandb\u001b[0m:   1 of 1 files downloaded.  \n"
     ]
    },
    {
     "name": "stdout",
     "output_type": "stream",
     "text": [
      "2025-04-22 16:33:40,939 - INFO - Downloaded logs_fzqq45bv:v0 to /scratch/downloaded_artifacts/logs_fzqq45bv:v0\n"
     ]
    },
    {
     "name": "stderr",
     "output_type": "stream",
     "text": [
      "\u001b[34m\u001b[1mwandb\u001b[0m:   1 of 1 files downloaded.  \n"
     ]
    },
    {
     "name": "stdout",
     "output_type": "stream",
     "text": [
      "2025-04-22 16:33:41,010 - INFO - Downloaded logs_2vy2vy1v:v0 to /scratch/downloaded_artifacts/logs_2vy2vy1v:v0\n"
     ]
    },
    {
     "name": "stderr",
     "output_type": "stream",
     "text": [
      "\u001b[34m\u001b[1mwandb\u001b[0m:   1 of 1 files downloaded.  \n"
     ]
    },
    {
     "name": "stdout",
     "output_type": "stream",
     "text": [
      "2025-04-22 16:33:41,063 - INFO - Downloaded logs_ea6m2kqz:v0 to /scratch/downloaded_artifacts/logs_ea6m2kqz:v0\n"
     ]
    },
    {
     "name": "stderr",
     "output_type": "stream",
     "text": [
      "\u001b[34m\u001b[1mwandb\u001b[0m:   1 of 1 files downloaded.  \n",
      "\u001b[34m\u001b[1mwandb\u001b[0m:   1 of 1 files downloaded.  \n"
     ]
    },
    {
     "name": "stdout",
     "output_type": "stream",
     "text": [
      "2025-04-22 16:33:41,072 - INFO - Downloaded logs_4neek06d:v0 to /scratch/downloaded_artifacts/logs_4neek06d:v0\n",
      "2025-04-22 16:33:41,074 - INFO - Downloaded logs_q0hab8hb:v0 to /scratch/downloaded_artifacts/logs_q0hab8hb:v0\n"
     ]
    },
    {
     "name": "stderr",
     "output_type": "stream",
     "text": [
      "\u001b[34m\u001b[1mwandb\u001b[0m:   1 of 1 files downloaded.  \n"
     ]
    },
    {
     "name": "stdout",
     "output_type": "stream",
     "text": [
      "2025-04-22 16:33:41,287 - INFO - Downloaded logs_whonhe2o:v0 to /scratch/downloaded_artifacts/logs_whonhe2o:v0\n"
     ]
    },
    {
     "name": "stderr",
     "output_type": "stream",
     "text": [
      "\u001b[34m\u001b[1mwandb\u001b[0m:   1 of 1 files downloaded.  \n"
     ]
    },
    {
     "name": "stdout",
     "output_type": "stream",
     "text": [
      "2025-04-22 16:33:41,411 - INFO - Downloaded logs_7e1eil5y:v0 to /scratch/downloaded_artifacts/logs_7e1eil5y:v0\n"
     ]
    },
    {
     "name": "stderr",
     "output_type": "stream",
     "text": [
      "\u001b[34m\u001b[1mwandb\u001b[0m:   1 of 1 files downloaded.  \n"
     ]
    },
    {
     "name": "stdout",
     "output_type": "stream",
     "text": [
      "2025-04-22 16:33:41,443 - INFO - Downloaded logs_iphd54q9:v0 to /scratch/downloaded_artifacts/logs_iphd54q9:v0\n"
     ]
    },
    {
     "name": "stderr",
     "output_type": "stream",
     "text": [
      "\u001b[34m\u001b[1mwandb\u001b[0m:   1 of 1 files downloaded.  \n",
      "\u001b[34m\u001b[1mwandb\u001b[0m:   1 of 1 files downloaded.  \n"
     ]
    },
    {
     "name": "stdout",
     "output_type": "stream",
     "text": [
      "2025-04-22 16:33:41,458 - INFO - Downloaded logs_jf1d3htd:v0 to /scratch/downloaded_artifacts/logs_jf1d3htd:v0\n"
     ]
    },
    {
     "name": "stderr",
     "output_type": "stream",
     "text": [
      "\u001b[34m\u001b[1mwandb\u001b[0m:   1 of 1 files downloaded.  \n"
     ]
    },
    {
     "name": "stdout",
     "output_type": "stream",
     "text": [
      "2025-04-22 16:33:41,462 - INFO - Downloaded logs_garismcw:v0 to /scratch/downloaded_artifacts/logs_garismcw:v0\n",
      "2025-04-22 16:33:41,463 - INFO - Downloaded logs_kgfoy7ks:v0 to /scratch/downloaded_artifacts/logs_kgfoy7ks:v0\n"
     ]
    },
    {
     "name": "stderr",
     "output_type": "stream",
     "text": [
      "\u001b[34m\u001b[1mwandb\u001b[0m:   1 of 1 files downloaded.  \n"
     ]
    },
    {
     "name": "stdout",
     "output_type": "stream",
     "text": [
      "2025-04-22 16:33:41,469 - INFO - Downloaded logs_wq673ym5:v0 to /scratch/downloaded_artifacts/logs_wq673ym5:v0\n"
     ]
    },
    {
     "name": "stderr",
     "output_type": "stream",
     "text": [
      "\u001b[34m\u001b[1mwandb\u001b[0m: \u001b[32m\u001b[41mERROR\u001b[0m Error while calling W&B API: rate limit exceeded (<Response [429]>)\n",
      "\u001b[34m\u001b[1mwandb\u001b[0m: \u001b[32m\u001b[41mERROR\u001b[0m Error while calling W&B API: rate limit exceeded (<Response [429]>)\n",
      "\u001b[34m\u001b[1mwandb\u001b[0m: \u001b[32m\u001b[41mERROR\u001b[0m Error while calling W&B API: rate limit exceeded (<Response [429]>)\n",
      "\u001b[34m\u001b[1mwandb\u001b[0m:   1 of 1 files downloaded.  \n"
     ]
    },
    {
     "name": "stdout",
     "output_type": "stream",
     "text": [
      "2025-04-22 16:33:41,599 - INFO - Downloaded logs_hoehmzhf:v0 to /scratch/downloaded_artifacts/logs_hoehmzhf:v0\n"
     ]
    },
    {
     "name": "stderr",
     "output_type": "stream",
     "text": [
      "\u001b[34m\u001b[1mwandb\u001b[0m: \u001b[32m\u001b[41mERROR\u001b[0m Error while calling W&B API: rate limit exceeded (<Response [429]>)\n",
      "\u001b[34m\u001b[1mwandb\u001b[0m: \u001b[32m\u001b[41mERROR\u001b[0m Error while calling W&B API: rate limit exceeded (<Response [429]>)\n",
      "\u001b[34m\u001b[1mwandb\u001b[0m: \u001b[32m\u001b[41mERROR\u001b[0m Error while calling W&B API: rate limit exceeded (<Response [429]>)\n",
      "\u001b[34m\u001b[1mwandb\u001b[0m:   1 of 1 files downloaded.  \n"
     ]
    },
    {
     "name": "stdout",
     "output_type": "stream",
     "text": [
      "2025-04-22 16:33:41,702 - INFO - Downloaded logs_y9is1bf0:v0 to /scratch/downloaded_artifacts/logs_y9is1bf0:v0\n"
     ]
    },
    {
     "name": "stderr",
     "output_type": "stream",
     "text": [
      "\u001b[34m\u001b[1mwandb\u001b[0m:   1 of 1 files downloaded.  \n"
     ]
    },
    {
     "name": "stdout",
     "output_type": "stream",
     "text": [
      "2025-04-22 16:33:41,758 - INFO - Downloaded logs_72wjrc4w:v0 to /scratch/downloaded_artifacts/logs_72wjrc4w:v0\n"
     ]
    },
    {
     "name": "stderr",
     "output_type": "stream",
     "text": [
      "\u001b[34m\u001b[1mwandb\u001b[0m: \u001b[32m\u001b[41mERROR\u001b[0m Error while calling W&B API: rate limit exceeded (<Response [429]>)\n",
      "\u001b[34m\u001b[1mwandb\u001b[0m: \u001b[32m\u001b[41mERROR\u001b[0m Error while calling W&B API: rate limit exceeded (<Response [429]>)\n",
      "\u001b[34m\u001b[1mwandb\u001b[0m: \u001b[32m\u001b[41mERROR\u001b[0m Error while calling W&B API: rate limit exceeded (<Response [429]>)\n",
      "\u001b[34m\u001b[1mwandb\u001b[0m: \u001b[32m\u001b[41mERROR\u001b[0m Error while calling W&B API: rate limit exceeded (<Response [429]>)\n",
      "\u001b[34m\u001b[1mwandb\u001b[0m: \u001b[32m\u001b[41mERROR\u001b[0m Error while calling W&B API: rate limit exceeded (<Response [429]>)\n",
      "\u001b[34m\u001b[1mwandb\u001b[0m: \u001b[32m\u001b[41mERROR\u001b[0m Error while calling W&B API: rate limit exceeded (<Response [429]>)\n",
      "\u001b[34m\u001b[1mwandb\u001b[0m: \u001b[32m\u001b[41mERROR\u001b[0m Error while calling W&B API: rate limit exceeded (<Response [429]>)\n",
      "\u001b[34m\u001b[1mwandb\u001b[0m: \u001b[32m\u001b[41mERROR\u001b[0m Error while calling W&B API: rate limit exceeded (<Response [429]>)\n",
      "\u001b[34m\u001b[1mwandb\u001b[0m: \u001b[32m\u001b[41mERROR\u001b[0m Error while calling W&B API: rate limit exceeded (<Response [429]>)\n",
      "\u001b[34m\u001b[1mwandb\u001b[0m: \u001b[32m\u001b[41mERROR\u001b[0m Error while calling W&B API: rate limit exceeded (<Response [429]>)\n",
      "\u001b[34m\u001b[1mwandb\u001b[0m: \u001b[32m\u001b[41mERROR\u001b[0m Error while calling W&B API: rate limit exceeded (<Response [429]>)\n",
      "\u001b[34m\u001b[1mwandb\u001b[0m: \u001b[32m\u001b[41mERROR\u001b[0m Error while calling W&B API: rate limit exceeded (<Response [429]>)\n",
      "\u001b[34m\u001b[1mwandb\u001b[0m: \u001b[32m\u001b[41mERROR\u001b[0m Error while calling W&B API: rate limit exceeded (<Response [429]>)\n",
      "\u001b[34m\u001b[1mwandb\u001b[0m: \u001b[32m\u001b[41mERROR\u001b[0m Error while calling W&B API: rate limit exceeded (<Response [429]>)\n",
      "\u001b[34m\u001b[1mwandb\u001b[0m: \u001b[32m\u001b[41mERROR\u001b[0m Error while calling W&B API: rate limit exceeded (<Response [429]>)\n",
      "\u001b[34m\u001b[1mwandb\u001b[0m: Network error (HTTPError), entering retry loop.\n",
      "\u001b[34m\u001b[1mwandb\u001b[0m: \u001b[32m\u001b[41mERROR\u001b[0m Error while calling W&B API: rate limit exceeded (<Response [429]>)\n",
      "\u001b[34m\u001b[1mwandb\u001b[0m: Network error (HTTPError), entering retry loop.\n",
      "\u001b[34m\u001b[1mwandb\u001b[0m: \u001b[32m\u001b[41mERROR\u001b[0m Error while calling W&B API: rate limit exceeded (<Response [429]>)\n",
      "\u001b[34m\u001b[1mwandb\u001b[0m: Network error (HTTPError), entering retry loop.\n",
      "\u001b[34m\u001b[1mwandb\u001b[0m: \u001b[32m\u001b[41mERROR\u001b[0m Error while calling W&B API: rate limit exceeded (<Response [429]>)\n",
      "\u001b[34m\u001b[1mwandb\u001b[0m: Network error (HTTPError), entering retry loop.\n",
      "\u001b[34m\u001b[1mwandb\u001b[0m:   1 of 1 files downloaded.  \n"
     ]
    },
    {
     "name": "stdout",
     "output_type": "stream",
     "text": [
      "2025-04-22 16:33:45,463 - INFO - Downloaded logs_p0ks8m5o:v0 to /scratch/downloaded_artifacts/logs_p0ks8m5o:v0\n"
     ]
    },
    {
     "name": "stderr",
     "output_type": "stream",
     "text": [
      "\u001b[34m\u001b[1mwandb\u001b[0m:   1 of 1 files downloaded.  \n"
     ]
    },
    {
     "name": "stdout",
     "output_type": "stream",
     "text": [
      "2025-04-22 16:33:45,838 - INFO - Downloaded logs_tbd96tqv:v0 to /scratch/downloaded_artifacts/logs_tbd96tqv:v0\n"
     ]
    },
    {
     "name": "stderr",
     "output_type": "stream",
     "text": [
      "\u001b[34m\u001b[1mwandb\u001b[0m:   1 of 1 files downloaded.  \n",
      "\u001b[34m\u001b[1mwandb\u001b[0m:   1 of 1 files downloaded.  \n"
     ]
    },
    {
     "name": "stdout",
     "output_type": "stream",
     "text": [
      "2025-04-22 16:33:45,843 - INFO - Downloaded logs_rechtxma:v0 to /scratch/downloaded_artifacts/logs_rechtxma:v0\n",
      "2025-04-22 16:33:45,844 - INFO - Downloaded logs_3np9gsi6:v0 to /scratch/downloaded_artifacts/logs_3np9gsi6:v0\n"
     ]
    },
    {
     "name": "stderr",
     "output_type": "stream",
     "text": [
      "\u001b[34m\u001b[1mwandb\u001b[0m:   1 of 1 files downloaded.  \n"
     ]
    },
    {
     "name": "stdout",
     "output_type": "stream",
     "text": [
      "2025-04-22 16:33:45,849 - INFO - Downloaded logs_295uy4lf:v0 to /scratch/downloaded_artifacts/logs_295uy4lf:v0\n"
     ]
    },
    {
     "name": "stderr",
     "output_type": "stream",
     "text": [
      "\u001b[34m\u001b[1mwandb\u001b[0m:   1 of 1 files downloaded.  \n"
     ]
    },
    {
     "name": "stdout",
     "output_type": "stream",
     "text": [
      "2025-04-22 16:33:46,023 - INFO - Downloaded logs_77yo1x9d:v0 to /scratch/downloaded_artifacts/logs_77yo1x9d:v0\n"
     ]
    },
    {
     "name": "stderr",
     "output_type": "stream",
     "text": [
      "\u001b[34m\u001b[1mwandb\u001b[0m:   1 of 1 files downloaded.  \n"
     ]
    },
    {
     "name": "stdout",
     "output_type": "stream",
     "text": [
      "2025-04-22 16:33:46,085 - INFO - Downloaded logs_wuxudk5c:v0 to /scratch/downloaded_artifacts/logs_wuxudk5c:v0\n"
     ]
    },
    {
     "name": "stderr",
     "output_type": "stream",
     "text": [
      "\u001b[34m\u001b[1mwandb\u001b[0m:   1 of 1 files downloaded.  \n"
     ]
    },
    {
     "name": "stdout",
     "output_type": "stream",
     "text": [
      "2025-04-22 16:33:46,173 - INFO - Downloaded logs_6qph3nus:v0 to /scratch/downloaded_artifacts/logs_6qph3nus:v0\n"
     ]
    },
    {
     "name": "stderr",
     "output_type": "stream",
     "text": [
      "\u001b[34m\u001b[1mwandb\u001b[0m:   1 of 1 files downloaded.  \n"
     ]
    },
    {
     "name": "stdout",
     "output_type": "stream",
     "text": [
      "2025-04-22 16:33:46,178 - INFO - Downloaded logs_64ijgblw:v0 to /scratch/downloaded_artifacts/logs_64ijgblw:v0\n"
     ]
    },
    {
     "name": "stderr",
     "output_type": "stream",
     "text": [
      "\u001b[34m\u001b[1mwandb\u001b[0m:   1 of 1 files downloaded.  \n"
     ]
    },
    {
     "name": "stdout",
     "output_type": "stream",
     "text": [
      "2025-04-22 16:33:46,185 - INFO - Downloaded logs_vwc8o385:v0 to /scratch/downloaded_artifacts/logs_vwc8o385:v0\n"
     ]
    },
    {
     "name": "stderr",
     "output_type": "stream",
     "text": [
      "\u001b[34m\u001b[1mwandb\u001b[0m:   1 of 1 files downloaded.  \n"
     ]
    },
    {
     "name": "stdout",
     "output_type": "stream",
     "text": [
      "2025-04-22 16:33:46,429 - INFO - Downloaded logs_8lt95ydr:v0 to /scratch/downloaded_artifacts/logs_8lt95ydr:v0\n"
     ]
    },
    {
     "name": "stderr",
     "output_type": "stream",
     "text": [
      "\u001b[34m\u001b[1mwandb\u001b[0m:   1 of 1 files downloaded.  \n"
     ]
    },
    {
     "name": "stdout",
     "output_type": "stream",
     "text": [
      "2025-04-22 16:33:46,613 - INFO - Downloaded logs_b0ty4psm:v0 to /scratch/downloaded_artifacts/logs_b0ty4psm:v0\n"
     ]
    },
    {
     "name": "stderr",
     "output_type": "stream",
     "text": [
      "\u001b[34m\u001b[1mwandb\u001b[0m:   1 of 1 files downloaded.  \n"
     ]
    },
    {
     "name": "stdout",
     "output_type": "stream",
     "text": [
      "2025-04-22 16:33:47,112 - INFO - Downloaded logs_hqw3xwqd:v0 to /scratch/downloaded_artifacts/logs_hqw3xwqd:v0\n"
     ]
    },
    {
     "name": "stderr",
     "output_type": "stream",
     "text": [
      "\u001b[34m\u001b[1mwandb\u001b[0m:   1 of 1 files downloaded.  \n"
     ]
    },
    {
     "name": "stdout",
     "output_type": "stream",
     "text": [
      "2025-04-22 16:33:47,201 - INFO - Downloaded logs_c3npphcq:v0 to /scratch/downloaded_artifacts/logs_c3npphcq:v0\n"
     ]
    },
    {
     "name": "stderr",
     "output_type": "stream",
     "text": [
      "\u001b[34m\u001b[1mwandb\u001b[0m:   1 of 1 files downloaded.  \n"
     ]
    },
    {
     "name": "stdout",
     "output_type": "stream",
     "text": [
      "2025-04-22 16:33:47,209 - INFO - Downloaded logs_kae8aqpe:v0 to /scratch/downloaded_artifacts/logs_kae8aqpe:v0\n"
     ]
    },
    {
     "name": "stderr",
     "output_type": "stream",
     "text": [
      "\u001b[34m\u001b[1mwandb\u001b[0m:   1 of 1 files downloaded.  \n"
     ]
    },
    {
     "name": "stdout",
     "output_type": "stream",
     "text": [
      "2025-04-22 16:33:47,214 - INFO - Downloaded logs_nw04gueh:v0 to /scratch/downloaded_artifacts/logs_nw04gueh:v0\n"
     ]
    },
    {
     "name": "stderr",
     "output_type": "stream",
     "text": [
      "\u001b[34m\u001b[1mwandb\u001b[0m:   1 of 1 files downloaded.  \n"
     ]
    },
    {
     "name": "stdout",
     "output_type": "stream",
     "text": [
      "2025-04-22 16:33:47,224 - INFO - Downloaded logs_km8sf7j4:v0 to /scratch/downloaded_artifacts/logs_km8sf7j4:v0\n"
     ]
    },
    {
     "name": "stderr",
     "output_type": "stream",
     "text": [
      "\u001b[34m\u001b[1mwandb\u001b[0m:   1 of 1 files downloaded.  \n"
     ]
    },
    {
     "name": "stdout",
     "output_type": "stream",
     "text": [
      "2025-04-22 16:33:47,225 - INFO - Downloaded logs_nutaqrst:v0 to /scratch/downloaded_artifacts/logs_nutaqrst:v0\n"
     ]
    },
    {
     "name": "stderr",
     "output_type": "stream",
     "text": [
      "\u001b[34m\u001b[1mwandb\u001b[0m:   1 of 1 files downloaded.  \n",
      "\u001b[34m\u001b[1mwandb\u001b[0m:   1 of 1 files downloaded.  \n"
     ]
    },
    {
     "name": "stdout",
     "output_type": "stream",
     "text": [
      "2025-04-22 16:33:47,232 - INFO - Downloaded logs_l229urz1:v0 to /scratch/downloaded_artifacts/logs_l229urz1:v0\n",
      "2025-04-22 16:33:47,234 - INFO - Downloaded logs_f1o78bp9:v0 to /scratch/downloaded_artifacts/logs_f1o78bp9:v0\n"
     ]
    },
    {
     "name": "stderr",
     "output_type": "stream",
     "text": [
      "\u001b[34m\u001b[1mwandb\u001b[0m:   1 of 1 files downloaded.  \n"
     ]
    },
    {
     "name": "stdout",
     "output_type": "stream",
     "text": [
      "2025-04-22 16:33:47,243 - INFO - Downloaded logs_j5l1fscq:v0 to /scratch/downloaded_artifacts/logs_j5l1fscq:v0\n"
     ]
    },
    {
     "name": "stderr",
     "output_type": "stream",
     "text": [
      "\u001b[34m\u001b[1mwandb\u001b[0m:   1 of 1 files downloaded.  \n"
     ]
    },
    {
     "name": "stdout",
     "output_type": "stream",
     "text": [
      "2025-04-22 16:33:47,482 - INFO - Downloaded logs_lykjdi3q:v0 to /scratch/downloaded_artifacts/logs_lykjdi3q:v0\n"
     ]
    },
    {
     "name": "stderr",
     "output_type": "stream",
     "text": [
      "\u001b[34m\u001b[1mwandb\u001b[0m:   1 of 1 files downloaded.  \n"
     ]
    },
    {
     "name": "stdout",
     "output_type": "stream",
     "text": [
      "2025-04-22 16:33:47,640 - INFO - Downloaded logs_p7kmnx58:v0 to /scratch/downloaded_artifacts/logs_p7kmnx58:v0\n"
     ]
    },
    {
     "name": "stderr",
     "output_type": "stream",
     "text": [
      "\u001b[34m\u001b[1mwandb\u001b[0m:   1 of 1 files downloaded.  \n"
     ]
    },
    {
     "name": "stdout",
     "output_type": "stream",
     "text": [
      "2025-04-22 16:33:47,811 - INFO - Downloaded logs_pis84i4a:v0 to /scratch/downloaded_artifacts/logs_pis84i4a:v0\n"
     ]
    },
    {
     "name": "stderr",
     "output_type": "stream",
     "text": [
      "\u001b[34m\u001b[1mwandb\u001b[0m:   1 of 1 files downloaded.  \n"
     ]
    },
    {
     "name": "stdout",
     "output_type": "stream",
     "text": [
      "2025-04-22 16:33:48,227 - INFO - Downloaded logs_q1xlmww9:v0 to /scratch/downloaded_artifacts/logs_q1xlmww9:v0\n"
     ]
    },
    {
     "name": "stderr",
     "output_type": "stream",
     "text": [
      "\u001b[34m\u001b[1mwandb\u001b[0m:   1 of 1 files downloaded.  \n"
     ]
    },
    {
     "name": "stdout",
     "output_type": "stream",
     "text": [
      "2025-04-22 16:33:48,271 - INFO - Downloaded logs_rwve8vni:v0 to /scratch/downloaded_artifacts/logs_rwve8vni:v0\n"
     ]
    },
    {
     "name": "stderr",
     "output_type": "stream",
     "text": [
      "\u001b[34m\u001b[1mwandb\u001b[0m:   1 of 1 files downloaded.  \n"
     ]
    },
    {
     "name": "stdout",
     "output_type": "stream",
     "text": [
      "2025-04-22 16:33:48,293 - INFO - Downloaded logs_q5l2ln1i:v0 to /scratch/downloaded_artifacts/logs_q5l2ln1i:v0\n"
     ]
    },
    {
     "name": "stderr",
     "output_type": "stream",
     "text": [
      "\u001b[34m\u001b[1mwandb\u001b[0m:   1 of 1 files downloaded.  \n"
     ]
    },
    {
     "name": "stdout",
     "output_type": "stream",
     "text": [
      "2025-04-22 16:33:48,318 - INFO - Downloaded logs_7ixcjxo5:v0 to /scratch/downloaded_artifacts/logs_7ixcjxo5:v0\n"
     ]
    },
    {
     "name": "stderr",
     "output_type": "stream",
     "text": [
      "\u001b[34m\u001b[1mwandb\u001b[0m:   1 of 1 files downloaded.  \n"
     ]
    },
    {
     "name": "stdout",
     "output_type": "stream",
     "text": [
      "2025-04-22 16:33:48,322 - INFO - Downloaded logs_t30bnrh6:v0 to /scratch/downloaded_artifacts/logs_t30bnrh6:v0\n"
     ]
    },
    {
     "name": "stderr",
     "output_type": "stream",
     "text": [
      "\u001b[34m\u001b[1mwandb\u001b[0m:   1 of 1 files downloaded.  \n"
     ]
    },
    {
     "name": "stdout",
     "output_type": "stream",
     "text": [
      "2025-04-22 16:33:48,328 - INFO - Downloaded logs_sxy837im:v0 to /scratch/downloaded_artifacts/logs_sxy837im:v0\n"
     ]
    },
    {
     "name": "stderr",
     "output_type": "stream",
     "text": [
      "\u001b[34m\u001b[1mwandb\u001b[0m:   1 of 1 files downloaded.  \n"
     ]
    },
    {
     "name": "stdout",
     "output_type": "stream",
     "text": [
      "2025-04-22 16:33:48,333 - INFO - Downloaded logs_sejj6xwe:v0 to /scratch/downloaded_artifacts/logs_sejj6xwe:v0\n"
     ]
    },
    {
     "name": "stderr",
     "output_type": "stream",
     "text": [
      "\u001b[34m\u001b[1mwandb\u001b[0m:   1 of 1 files downloaded.  \n"
     ]
    },
    {
     "name": "stdout",
     "output_type": "stream",
     "text": [
      "2025-04-22 16:33:48,339 - INFO - Downloaded logs_wtosdz1o:v0 to /scratch/downloaded_artifacts/logs_wtosdz1o:v0\n"
     ]
    },
    {
     "name": "stderr",
     "output_type": "stream",
     "text": [
      "\u001b[34m\u001b[1mwandb\u001b[0m:   1 of 1 files downloaded.  \n"
     ]
    },
    {
     "name": "stdout",
     "output_type": "stream",
     "text": [
      "2025-04-22 16:33:48,363 - INFO - Downloaded logs_syjo7fsy:v0 to /scratch/downloaded_artifacts/logs_syjo7fsy:v0\n"
     ]
    },
    {
     "name": "stderr",
     "output_type": "stream",
     "text": [
      "\u001b[34m\u001b[1mwandb\u001b[0m:   1 of 1 files downloaded.  \n"
     ]
    },
    {
     "name": "stdout",
     "output_type": "stream",
     "text": [
      "2025-04-22 16:33:48,543 - INFO - Downloaded logs_ebse49th:v0 to /scratch/downloaded_artifacts/logs_ebse49th:v0\n"
     ]
    },
    {
     "name": "stderr",
     "output_type": "stream",
     "text": [
      "\u001b[34m\u001b[1mwandb\u001b[0m:   1 of 1 files downloaded.  \n"
     ]
    },
    {
     "name": "stdout",
     "output_type": "stream",
     "text": [
      "2025-04-22 16:33:48,748 - INFO - Downloaded logs_qgup1g8x:v0 to /scratch/downloaded_artifacts/logs_qgup1g8x:v0\n"
     ]
    },
    {
     "name": "stderr",
     "output_type": "stream",
     "text": [
      "\u001b[34m\u001b[1mwandb\u001b[0m:   1 of 1 files downloaded.  \n"
     ]
    },
    {
     "name": "stdout",
     "output_type": "stream",
     "text": [
      "2025-04-22 16:33:48,803 - INFO - Downloaded logs_v3rgjq9d:v0 to /scratch/downloaded_artifacts/logs_v3rgjq9d:v0\n"
     ]
    },
    {
     "name": "stderr",
     "output_type": "stream",
     "text": [
      "\u001b[34m\u001b[1mwandb\u001b[0m:   1 of 1 files downloaded.  \n"
     ]
    },
    {
     "name": "stdout",
     "output_type": "stream",
     "text": [
      "2025-04-22 16:33:49,326 - INFO - Downloaded logs_y8vtcl2v:v0 to /scratch/downloaded_artifacts/logs_y8vtcl2v:v0\n"
     ]
    },
    {
     "name": "stderr",
     "output_type": "stream",
     "text": [
      "\u001b[34m\u001b[1mwandb\u001b[0m:   1 of 1 files downloaded.  \n"
     ]
    },
    {
     "name": "stdout",
     "output_type": "stream",
     "text": [
      "2025-04-22 16:33:49,402 - INFO - Downloaded logs_0tgn3i2j:v0 to /scratch/downloaded_artifacts/logs_0tgn3i2j:v0\n"
     ]
    },
    {
     "name": "stderr",
     "output_type": "stream",
     "text": [
      "\u001b[34m\u001b[1mwandb\u001b[0m:   1 of 1 files downloaded.  \n"
     ]
    },
    {
     "name": "stdout",
     "output_type": "stream",
     "text": [
      "2025-04-22 16:33:49,406 - INFO - Downloaded logs_1sr0i690:v0 to /scratch/downloaded_artifacts/logs_1sr0i690:v0\n"
     ]
    },
    {
     "name": "stderr",
     "output_type": "stream",
     "text": [
      "\u001b[34m\u001b[1mwandb\u001b[0m:   1 of 1 files downloaded.  \n"
     ]
    },
    {
     "name": "stdout",
     "output_type": "stream",
     "text": [
      "2025-04-22 16:33:49,415 - INFO - Downloaded logs_38v41wrz:v0 to /scratch/downloaded_artifacts/logs_38v41wrz:v0\n"
     ]
    },
    {
     "name": "stderr",
     "output_type": "stream",
     "text": [
      "\u001b[34m\u001b[1mwandb\u001b[0m:   1 of 1 files downloaded.  \n"
     ]
    },
    {
     "name": "stdout",
     "output_type": "stream",
     "text": [
      "2025-04-22 16:33:49,421 - INFO - Downloaded logs_2vhuvucw:v0 to /scratch/downloaded_artifacts/logs_2vhuvucw:v0\n"
     ]
    },
    {
     "name": "stderr",
     "output_type": "stream",
     "text": [
      "\u001b[34m\u001b[1mwandb\u001b[0m:   1 of 1 files downloaded.  \n",
      "\u001b[34m\u001b[1mwandb\u001b[0m:   1 of 1 files downloaded.  \n"
     ]
    },
    {
     "name": "stdout",
     "output_type": "stream",
     "text": [
      "2025-04-22 16:33:49,624 - INFO - Downloaded logs_dgui9p92:v0 to /scratch/downloaded_artifacts/logs_dgui9p92:v0\n"
     ]
    },
    {
     "name": "stderr",
     "output_type": "stream",
     "text": [
      "\u001b[34m\u001b[1mwandb\u001b[0m:   1 of 1 files downloaded.  \n"
     ]
    },
    {
     "name": "stdout",
     "output_type": "stream",
     "text": [
      "2025-04-22 16:33:49,675 - INFO - Downloaded logs_14hcn643:v0 to /scratch/downloaded_artifacts/logs_14hcn643:v0\n",
      "2025-04-22 16:33:49,873 - INFO - Downloaded logs_3dczt780:v0 to /scratch/downloaded_artifacts/logs_3dczt780:v0\n"
     ]
    },
    {
     "name": "stderr",
     "output_type": "stream",
     "text": [
      "\u001b[34m\u001b[1mwandb\u001b[0m:   1 of 1 files downloaded.  \n"
     ]
    },
    {
     "name": "stdout",
     "output_type": "stream",
     "text": [
      "2025-04-22 16:33:49,971 - INFO - Downloaded logs_419e9m8a:v0 to /scratch/downloaded_artifacts/logs_419e9m8a:v0\n"
     ]
    },
    {
     "name": "stderr",
     "output_type": "stream",
     "text": [
      "\u001b[34m\u001b[1mwandb\u001b[0m:   1 of 1 files downloaded.  \n"
     ]
    },
    {
     "name": "stdout",
     "output_type": "stream",
     "text": [
      "2025-04-22 16:33:49,992 - INFO - Downloaded logs_36lzi8yz:v0 to /scratch/downloaded_artifacts/logs_36lzi8yz:v0\n"
     ]
    },
    {
     "name": "stderr",
     "output_type": "stream",
     "text": [
      "\u001b[34m\u001b[1mwandb\u001b[0m:   1 of 1 files downloaded.  \n",
      "\u001b[34m\u001b[1mwandb\u001b[0m:   1 of 1 files downloaded.  \n"
     ]
    },
    {
     "name": "stdout",
     "output_type": "stream",
     "text": [
      "2025-04-22 16:33:49,996 - INFO - Downloaded logs_h4dcawad:v0 to /scratch/downloaded_artifacts/logs_h4dcawad:v0\n",
      "2025-04-22 16:33:49,998 - INFO - Downloaded logs_4pxt83aa:v0 to /scratch/downloaded_artifacts/logs_4pxt83aa:v0\n"
     ]
    },
    {
     "name": "stderr",
     "output_type": "stream",
     "text": [
      "\u001b[34m\u001b[1mwandb\u001b[0m:   1 of 1 files downloaded.  \n"
     ]
    },
    {
     "name": "stdout",
     "output_type": "stream",
     "text": [
      "2025-04-22 16:33:50,010 - INFO - Downloaded logs_1f0yand2:v0 to /scratch/downloaded_artifacts/logs_1f0yand2:v0\n"
     ]
    },
    {
     "name": "stderr",
     "output_type": "stream",
     "text": [
      "\u001b[34m\u001b[1mwandb\u001b[0m:   1 of 1 files downloaded.  \n"
     ]
    },
    {
     "name": "stdout",
     "output_type": "stream",
     "text": [
      "2025-04-22 16:33:50,014 - INFO - Downloaded logs_ezds8l9w:v0 to /scratch/downloaded_artifacts/logs_ezds8l9w:v0\n"
     ]
    },
    {
     "name": "stderr",
     "output_type": "stream",
     "text": [
      "\u001b[34m\u001b[1mwandb\u001b[0m:   1 of 1 files downloaded.  \n"
     ]
    },
    {
     "name": "stdout",
     "output_type": "stream",
     "text": [
      "2025-04-22 16:33:50,079 - INFO - Downloaded logs_41vlt1t5:v0 to /scratch/downloaded_artifacts/logs_41vlt1t5:v0\n"
     ]
    },
    {
     "name": "stderr",
     "output_type": "stream",
     "text": [
      "\u001b[34m\u001b[1mwandb\u001b[0m:   1 of 1 files downloaded.  \n"
     ]
    },
    {
     "name": "stdout",
     "output_type": "stream",
     "text": [
      "2025-04-22 16:33:50,084 - INFO - Downloaded logs_031x3gjo:v0 to /scratch/downloaded_artifacts/logs_031x3gjo:v0\n"
     ]
    },
    {
     "name": "stderr",
     "output_type": "stream",
     "text": [
      "\u001b[34m\u001b[1mwandb\u001b[0m:   1 of 1 files downloaded.  \n"
     ]
    },
    {
     "name": "stdout",
     "output_type": "stream",
     "text": [
      "2025-04-22 16:33:51,078 - INFO - Downloaded logs_136ytyv5:v0 to /scratch/downloaded_artifacts/logs_136ytyv5:v0\n"
     ]
    },
    {
     "name": "stderr",
     "output_type": "stream",
     "text": [
      "\u001b[34m\u001b[1mwandb\u001b[0m:   1 of 1 files downloaded.  \n",
      "\u001b[34m\u001b[1mwandb\u001b[0m:   1 of 1 files downloaded.  \n"
     ]
    },
    {
     "name": "stdout",
     "output_type": "stream",
     "text": [
      "2025-04-22 16:33:51,549 - INFO - Downloaded logs_8pkk8ngb:v0 to /scratch/downloaded_artifacts/logs_8pkk8ngb:v0\n",
      "2025-04-22 16:33:51,553 - INFO - Downloaded logs_7f8j2ehd:v0 to /scratch/downloaded_artifacts/logs_7f8j2ehd:v0\n"
     ]
    },
    {
     "name": "stderr",
     "output_type": "stream",
     "text": [
      "\u001b[34m\u001b[1mwandb\u001b[0m:   1 of 1 files downloaded.  \n"
     ]
    },
    {
     "name": "stdout",
     "output_type": "stream",
     "text": [
      "2025-04-22 16:33:51,572 - INFO - Downloaded logs_74cu9zgy:v0 to /scratch/downloaded_artifacts/logs_74cu9zgy:v0\n"
     ]
    },
    {
     "name": "stderr",
     "output_type": "stream",
     "text": [
      "\u001b[34m\u001b[1mwandb\u001b[0m:   1 of 1 files downloaded.  \n",
      "\u001b[34m\u001b[1mwandb\u001b[0m:   1 of 1 files downloaded.  \n"
     ]
    },
    {
     "name": "stdout",
     "output_type": "stream",
     "text": [
      "2025-04-22 16:33:51,581 - INFO - Downloaded logs_buzpsc3a:v0 to /scratch/downloaded_artifacts/logs_buzpsc3a:v0\n"
     ]
    },
    {
     "name": "stderr",
     "output_type": "stream",
     "text": [
      "\u001b[34m\u001b[1mwandb\u001b[0m:   1 of 1 files downloaded.  \n"
     ]
    },
    {
     "name": "stdout",
     "output_type": "stream",
     "text": [
      "2025-04-22 16:33:51,601 - INFO - Downloaded logs_fyi69a7n:v0 to /scratch/downloaded_artifacts/logs_fyi69a7n:v0\n",
      "2025-04-22 16:33:51,609 - INFO - Downloaded logs_4dnf7c1s:v0 to /scratch/downloaded_artifacts/logs_4dnf7c1s:v0\n"
     ]
    },
    {
     "name": "stderr",
     "output_type": "stream",
     "text": [
      "\u001b[34m\u001b[1mwandb\u001b[0m:   1 of 1 files downloaded.  \n"
     ]
    },
    {
     "name": "stdout",
     "output_type": "stream",
     "text": [
      "2025-04-22 16:33:51,634 - INFO - Downloaded logs_8ablvblu:v0 to /scratch/downloaded_artifacts/logs_8ablvblu:v0\n"
     ]
    },
    {
     "name": "stderr",
     "output_type": "stream",
     "text": [
      "\u001b[34m\u001b[1mwandb\u001b[0m:   1 of 1 files downloaded.  \n"
     ]
    },
    {
     "name": "stdout",
     "output_type": "stream",
     "text": [
      "2025-04-22 16:33:51,643 - INFO - Downloaded logs_9dak09fo:v0 to /scratch/downloaded_artifacts/logs_9dak09fo:v0\n"
     ]
    },
    {
     "name": "stderr",
     "output_type": "stream",
     "text": [
      "\u001b[34m\u001b[1mwandb\u001b[0m:   1 of 1 files downloaded.  \n"
     ]
    },
    {
     "name": "stdout",
     "output_type": "stream",
     "text": [
      "2025-04-22 16:33:51,653 - INFO - Downloaded logs_aae03on2:v0 to /scratch/downloaded_artifacts/logs_aae03on2:v0\n"
     ]
    },
    {
     "name": "stderr",
     "output_type": "stream",
     "text": [
      "\u001b[34m\u001b[1mwandb\u001b[0m:   1 of 1 files downloaded.  \n"
     ]
    },
    {
     "name": "stdout",
     "output_type": "stream",
     "text": [
      "2025-04-22 16:33:51,662 - INFO - Downloaded logs_aqusd1f0:v0 to /scratch/downloaded_artifacts/logs_aqusd1f0:v0\n"
     ]
    },
    {
     "name": "stderr",
     "output_type": "stream",
     "text": [
      "\u001b[34m\u001b[1mwandb\u001b[0m:   1 of 1 files downloaded.  \n",
      "\u001b[34m\u001b[1mwandb\u001b[0m:   1 of 1 files downloaded.  \n"
     ]
    },
    {
     "name": "stdout",
     "output_type": "stream",
     "text": [
      "2025-04-22 16:33:51,665 - INFO - Downloaded logs_6rc8ugmt:v0 to /scratch/downloaded_artifacts/logs_6rc8ugmt:v0\n"
     ]
    },
    {
     "name": "stderr",
     "output_type": "stream",
     "text": [
      "\u001b[34m\u001b[1mwandb\u001b[0m:   1 of 1 files downloaded.  \n"
     ]
    },
    {
     "name": "stdout",
     "output_type": "stream",
     "text": [
      "2025-04-22 16:33:51,666 - INFO - Downloaded logs_g3nnd03e:v0 to /scratch/downloaded_artifacts/logs_g3nnd03e:v0\n",
      "2025-04-22 16:33:51,675 - INFO - Downloaded logs_kuo95qhx:v0 to /scratch/downloaded_artifacts/logs_kuo95qhx:v0\n"
     ]
    },
    {
     "name": "stderr",
     "output_type": "stream",
     "text": [
      "\u001b[34m\u001b[1mwandb\u001b[0m:   1 of 1 files downloaded.  \n",
      "\u001b[34m\u001b[1mwandb\u001b[0m:   1 of 1 files downloaded.  \n"
     ]
    },
    {
     "name": "stdout",
     "output_type": "stream",
     "text": [
      "2025-04-22 16:33:51,696 - INFO - Downloaded logs_9aj9w3l1:v0 to /scratch/downloaded_artifacts/logs_9aj9w3l1:v0\n"
     ]
    },
    {
     "name": "stderr",
     "output_type": "stream",
     "text": [
      "\u001b[34m\u001b[1mwandb\u001b[0m:   1 of 1 files downloaded.  \n"
     ]
    },
    {
     "name": "stdout",
     "output_type": "stream",
     "text": [
      "2025-04-22 16:33:51,706 - INFO - Downloaded logs_ishubiq6:v0 to /scratch/downloaded_artifacts/logs_ishubiq6:v0\n"
     ]
    },
    {
     "name": "stderr",
     "output_type": "stream",
     "text": [
      "\u001b[34m\u001b[1mwandb\u001b[0m:   1 of 1 files downloaded.  \n",
      "\u001b[34m\u001b[1mwandb\u001b[0m:   1 of 1 files downloaded.  \n"
     ]
    },
    {
     "name": "stdout",
     "output_type": "stream",
     "text": [
      "2025-04-22 16:33:51,708 - INFO - Downloaded logs_lu0y60hd:v0 to /scratch/downloaded_artifacts/logs_lu0y60hd:v0\n",
      "2025-04-22 16:33:51,710 - INFO - Downloaded logs_ig6c1mw4:v0 to /scratch/downloaded_artifacts/logs_ig6c1mw4:v0\n",
      "2025-04-22 16:33:51,712 - INFO - Downloaded logs_d78ggsqf:v0 to /scratch/downloaded_artifacts/logs_d78ggsqf:v0\n"
     ]
    },
    {
     "name": "stderr",
     "output_type": "stream",
     "text": [
      "\u001b[34m\u001b[1mwandb\u001b[0m:   1 of 1 files downloaded.  \n"
     ]
    },
    {
     "name": "stdout",
     "output_type": "stream",
     "text": [
      "2025-04-22 16:33:52,028 - INFO - Downloaded logs_ojar7gsx:v0 to /scratch/downloaded_artifacts/logs_ojar7gsx:v0\n"
     ]
    },
    {
     "name": "stderr",
     "output_type": "stream",
     "text": [
      "\u001b[34m\u001b[1mwandb\u001b[0m:   1 of 1 files downloaded.  \n"
     ]
    },
    {
     "name": "stdout",
     "output_type": "stream",
     "text": [
      "2025-04-22 16:33:52,902 - INFO - Downloaded logs_qp8a70jb:v0 to /scratch/downloaded_artifacts/logs_qp8a70jb:v0\n"
     ]
    },
    {
     "name": "stderr",
     "output_type": "stream",
     "text": [
      "\u001b[34m\u001b[1mwandb\u001b[0m:   1 of 1 files downloaded.  \n"
     ]
    },
    {
     "name": "stdout",
     "output_type": "stream",
     "text": [
      "2025-04-22 16:33:52,911 - INFO - Downloaded logs_rs5pwbqt:v0 to /scratch/downloaded_artifacts/logs_rs5pwbqt:v0\n"
     ]
    },
    {
     "name": "stderr",
     "output_type": "stream",
     "text": [
      "\u001b[34m\u001b[1mwandb\u001b[0m:   1 of 1 files downloaded.  \n"
     ]
    },
    {
     "name": "stdout",
     "output_type": "stream",
     "text": [
      "2025-04-22 16:33:52,922 - INFO - Downloaded logs_qyl0e3ew:v0 to /scratch/downloaded_artifacts/logs_qyl0e3ew:v0\n"
     ]
    },
    {
     "name": "stderr",
     "output_type": "stream",
     "text": [
      "\u001b[34m\u001b[1mwandb\u001b[0m:   1 of 1 files downloaded.  \n"
     ]
    },
    {
     "name": "stdout",
     "output_type": "stream",
     "text": [
      "2025-04-22 16:33:52,938 - INFO - Downloaded logs_qvpl5txv:v0 to /scratch/downloaded_artifacts/logs_qvpl5txv:v0\n"
     ]
    },
    {
     "name": "stderr",
     "output_type": "stream",
     "text": [
      "\u001b[34m\u001b[1mwandb\u001b[0m:   1 of 1 files downloaded.  \n"
     ]
    },
    {
     "name": "stdout",
     "output_type": "stream",
     "text": [
      "2025-04-22 16:33:53,015 - INFO - Downloaded logs_wku9qo24:v0 to /scratch/downloaded_artifacts/logs_wku9qo24:v0\n"
     ]
    },
    {
     "name": "stderr",
     "output_type": "stream",
     "text": [
      "\u001b[34m\u001b[1mwandb\u001b[0m:   1 of 1 files downloaded.  \n",
      "\u001b[34m\u001b[1mwandb\u001b[0m:   1 of 1 files downloaded.  \n",
      "\u001b[34m\u001b[1mwandb\u001b[0m:   1 of 1 files downloaded.  \n"
     ]
    },
    {
     "name": "stdout",
     "output_type": "stream",
     "text": [
      "2025-04-22 16:33:53,098 - INFO - Downloaded logs_x38iw7s2:v0 to /scratch/downloaded_artifacts/logs_x38iw7s2:v0\n"
     ]
    },
    {
     "name": "stderr",
     "output_type": "stream",
     "text": [
      "\u001b[34m\u001b[1mwandb\u001b[0m:   1 of 1 files downloaded.  \n"
     ]
    },
    {
     "name": "stdout",
     "output_type": "stream",
     "text": [
      "2025-04-22 16:33:53,101 - INFO - Downloaded logs_zluuknhu:v0 to /scratch/downloaded_artifacts/logs_zluuknhu:v0\n"
     ]
    },
    {
     "name": "stderr",
     "output_type": "stream",
     "text": [
      "\u001b[34m\u001b[1mwandb\u001b[0m:   1 of 1 files downloaded.  \n",
      "\u001b[34m\u001b[1mwandb\u001b[0m:   1 of 1 files downloaded.  \n"
     ]
    },
    {
     "name": "stdout",
     "output_type": "stream",
     "text": [
      "2025-04-22 16:33:53,187 - INFO - Downloaded logs_vy5lvknc:v0 to /scratch/downloaded_artifacts/logs_vy5lvknc:v0\n",
      "2025-04-22 16:33:53,187 - INFO - Downloaded logs_tvd7jbqv:v0 to /scratch/downloaded_artifacts/logs_tvd7jbqv:v0\n",
      "2025-04-22 16:33:53,282 - INFO - Downloaded logs_zz5wflp7:v0 to /scratch/downloaded_artifacts/logs_zz5wflp7:v0\n",
      "2025-04-22 16:33:53,283 - INFO - Downloaded logs_woitgc4e:v0 to /scratch/downloaded_artifacts/logs_woitgc4e:v0\n"
     ]
    },
    {
     "name": "stderr",
     "output_type": "stream",
     "text": [
      "\u001b[34m\u001b[1mwandb\u001b[0m:   1 of 1 files downloaded.  \n"
     ]
    },
    {
     "name": "stdout",
     "output_type": "stream",
     "text": [
      "2025-04-22 16:33:53,308 - INFO - Downloaded logs_49lti0ez:v0 to /scratch/downloaded_artifacts/logs_49lti0ez:v0\n"
     ]
    },
    {
     "name": "stderr",
     "output_type": "stream",
     "text": [
      "\u001b[34m\u001b[1mwandb\u001b[0m:   1 of 1 files downloaded.  \n"
     ]
    },
    {
     "name": "stdout",
     "output_type": "stream",
     "text": [
      "2025-04-22 16:33:53,325 - INFO - Downloaded logs_0yywxcnv:v0 to /scratch/downloaded_artifacts/logs_0yywxcnv:v0\n"
     ]
    },
    {
     "name": "stderr",
     "output_type": "stream",
     "text": [
      "\u001b[34m\u001b[1mwandb\u001b[0m:   1 of 1 files downloaded.  \n",
      "\u001b[34m\u001b[1mwandb\u001b[0m:   1 of 1 files downloaded.  \n"
     ]
    },
    {
     "name": "stdout",
     "output_type": "stream",
     "text": [
      "2025-04-22 16:33:53,376 - INFO - Downloaded logs_ye44ur0a:v0 to /scratch/downloaded_artifacts/logs_ye44ur0a:v0\n"
     ]
    },
    {
     "name": "stderr",
     "output_type": "stream",
     "text": [
      "\u001b[34m\u001b[1mwandb\u001b[0m:   1 of 1 files downloaded.  \n"
     ]
    },
    {
     "name": "stdout",
     "output_type": "stream",
     "text": [
      "2025-04-22 16:33:53,378 - INFO - Downloaded logs_uf32jgwy:v0 to /scratch/downloaded_artifacts/logs_uf32jgwy:v0\n",
      "2025-04-22 16:33:53,430 - INFO - Downloaded logs_yzllq3qc:v0 to /scratch/downloaded_artifacts/logs_yzllq3qc:v0\n"
     ]
    },
    {
     "name": "stderr",
     "output_type": "stream",
     "text": [
      "\u001b[34m\u001b[1mwandb\u001b[0m:   1 of 1 files downloaded.  \n",
      "\u001b[34m\u001b[1mwandb\u001b[0m:   1 of 1 files downloaded.  \n"
     ]
    },
    {
     "name": "stdout",
     "output_type": "stream",
     "text": [
      "2025-04-22 16:33:53,456 - INFO - Downloaded logs_yqk98x4p:v0 to /scratch/downloaded_artifacts/logs_yqk98x4p:v0\n",
      "2025-04-22 16:33:53,458 - INFO - Downloaded logs_2xhlx0sr:v0 to /scratch/downloaded_artifacts/logs_2xhlx0sr:v0\n"
     ]
    },
    {
     "name": "stderr",
     "output_type": "stream",
     "text": [
      "\u001b[34m\u001b[1mwandb\u001b[0m:   1 of 1 files downloaded.  \n"
     ]
    },
    {
     "name": "stdout",
     "output_type": "stream",
     "text": [
      "2025-04-22 16:33:53,535 - INFO - Downloaded logs_5r93hc7y:v0 to /scratch/downloaded_artifacts/logs_5r93hc7y:v0\n"
     ]
    },
    {
     "name": "stderr",
     "output_type": "stream",
     "text": [
      "\u001b[34m\u001b[1mwandb\u001b[0m:   1 of 1 files downloaded.  \n"
     ]
    },
    {
     "name": "stdout",
     "output_type": "stream",
     "text": [
      "2025-04-22 16:33:54,540 - INFO - Downloaded logs_6ud83yuz:v0 to /scratch/downloaded_artifacts/logs_6ud83yuz:v0\n"
     ]
    },
    {
     "name": "stderr",
     "output_type": "stream",
     "text": [
      "\u001b[34m\u001b[1mwandb\u001b[0m:   1 of 1 files downloaded.  \n"
     ]
    },
    {
     "name": "stdout",
     "output_type": "stream",
     "text": [
      "2025-04-22 16:33:54,858 - INFO - Downloaded logs_5snpvzo1:v0 to /scratch/downloaded_artifacts/logs_5snpvzo1:v0\n"
     ]
    },
    {
     "name": "stderr",
     "output_type": "stream",
     "text": [
      "\u001b[34m\u001b[1mwandb\u001b[0m:   1 of 1 files downloaded.  \n",
      "\u001b[34m\u001b[1mwandb\u001b[0m:   1 of 1 files downloaded.  \n"
     ]
    },
    {
     "name": "stdout",
     "output_type": "stream",
     "text": [
      "2025-04-22 16:33:55,029 - INFO - Downloaded logs_c4qzhivh:v0 to /scratch/downloaded_artifacts/logs_c4qzhivh:v0\n"
     ]
    },
    {
     "name": "stderr",
     "output_type": "stream",
     "text": [
      "\u001b[34m\u001b[1mwandb\u001b[0m:   1 of 1 files downloaded.  \n",
      "\u001b[34m\u001b[1mwandb\u001b[0m:   1 of 1 files downloaded.  \n"
     ]
    },
    {
     "name": "stdout",
     "output_type": "stream",
     "text": [
      "2025-04-22 16:33:55,040 - INFO - Downloaded logs_9dbnuqdj:v0 to /scratch/downloaded_artifacts/logs_9dbnuqdj:v0\n",
      "2025-04-22 16:33:55,087 - INFO - Downloaded logs_j6mcwb3g:v0 to /scratch/downloaded_artifacts/logs_j6mcwb3g:v0\n",
      "2025-04-22 16:33:55,089 - INFO - Downloaded logs_j2m6qijk:v0 to /scratch/downloaded_artifacts/logs_j2m6qijk:v0\n"
     ]
    },
    {
     "name": "stderr",
     "output_type": "stream",
     "text": [
      "\u001b[34m\u001b[1mwandb\u001b[0m:   1 of 1 files downloaded.  \n",
      "\u001b[34m\u001b[1mwandb\u001b[0m:   1 of 1 files downloaded.  \n"
     ]
    },
    {
     "name": "stdout",
     "output_type": "stream",
     "text": [
      "2025-04-22 16:33:55,106 - INFO - Downloaded logs_lnuz2ngl:v0 to /scratch/downloaded_artifacts/logs_lnuz2ngl:v0\n",
      "2025-04-22 16:33:55,106 - INFO - Downloaded logs_i5w4d3jg:v0 to /scratch/downloaded_artifacts/logs_i5w4d3jg:v0\n"
     ]
    },
    {
     "name": "stderr",
     "output_type": "stream",
     "text": [
      "\u001b[34m\u001b[1mwandb\u001b[0m:   1 of 1 files downloaded.  \n"
     ]
    },
    {
     "name": "stdout",
     "output_type": "stream",
     "text": [
      "2025-04-22 16:33:55,118 - INFO - Downloaded logs_luzxdk5d:v0 to /scratch/downloaded_artifacts/logs_luzxdk5d:v0\n"
     ]
    },
    {
     "name": "stderr",
     "output_type": "stream",
     "text": [
      "\u001b[34m\u001b[1mwandb\u001b[0m:   1 of 1 files downloaded.  \n"
     ]
    },
    {
     "name": "stdout",
     "output_type": "stream",
     "text": [
      "2025-04-22 16:33:55,133 - INFO - Downloaded logs_vu1capas:v0 to /scratch/downloaded_artifacts/logs_vu1capas:v0\n"
     ]
    },
    {
     "name": "stderr",
     "output_type": "stream",
     "text": [
      "\u001b[34m\u001b[1mwandb\u001b[0m:   1 of 1 files downloaded.  \n"
     ]
    },
    {
     "name": "stdout",
     "output_type": "stream",
     "text": [
      "2025-04-22 16:33:55,150 - INFO - Downloaded logs_6kbd5yl9:v0 to /scratch/downloaded_artifacts/logs_6kbd5yl9:v0\n"
     ]
    },
    {
     "name": "stderr",
     "output_type": "stream",
     "text": [
      "\u001b[34m\u001b[1mwandb\u001b[0m:   1 of 1 files downloaded.  \n",
      "\u001b[34m\u001b[1mwandb\u001b[0m:   1 of 1 files downloaded.  \n"
     ]
    },
    {
     "name": "stdout",
     "output_type": "stream",
     "text": [
      "2025-04-22 16:33:55,170 - INFO - Downloaded logs_j0zjt3tr:v0 to /scratch/downloaded_artifacts/logs_j0zjt3tr:v0\n",
      "2025-04-22 16:33:55,176 - INFO - Downloaded logs_q722bfyk:v0 to /scratch/downloaded_artifacts/logs_q722bfyk:v0\n"
     ]
    },
    {
     "name": "stderr",
     "output_type": "stream",
     "text": [
      "\u001b[34m\u001b[1mwandb\u001b[0m:   1 of 1 files downloaded.  \n",
      "\u001b[34m\u001b[1mwandb\u001b[0m:   1 of 1 files downloaded.  \n"
     ]
    },
    {
     "name": "stdout",
     "output_type": "stream",
     "text": [
      "2025-04-22 16:33:55,184 - INFO - Downloaded logs_mbpj8y24:v0 to /scratch/downloaded_artifacts/logs_mbpj8y24:v0\n",
      "2025-04-22 16:33:55,184 - INFO - Downloaded logs_bttjmtfo:v0 to /scratch/downloaded_artifacts/logs_bttjmtfo:v0\n"
     ]
    },
    {
     "name": "stderr",
     "output_type": "stream",
     "text": [
      "\u001b[34m\u001b[1mwandb\u001b[0m:   1 of 1 files downloaded.  \n"
     ]
    },
    {
     "name": "stdout",
     "output_type": "stream",
     "text": [
      "2025-04-22 16:33:55,194 - INFO - Downloaded logs_aaqgdskc:v0 to /scratch/downloaded_artifacts/logs_aaqgdskc:v0\n"
     ]
    },
    {
     "name": "stderr",
     "output_type": "stream",
     "text": [
      "\u001b[34m\u001b[1mwandb\u001b[0m:   1 of 1 files downloaded.  \n"
     ]
    },
    {
     "name": "stdout",
     "output_type": "stream",
     "text": [
      "2025-04-22 16:33:55,216 - INFO - Downloaded logs_f28i58j8:v0 to /scratch/downloaded_artifacts/logs_f28i58j8:v0\n"
     ]
    },
    {
     "name": "stderr",
     "output_type": "stream",
     "text": [
      "\u001b[34m\u001b[1mwandb\u001b[0m:   1 of 1 files downloaded.  \n",
      "\u001b[34m\u001b[1mwandb\u001b[0m:   1 of 1 files downloaded.  \n"
     ]
    },
    {
     "name": "stdout",
     "output_type": "stream",
     "text": [
      "2025-04-22 16:33:55,226 - INFO - Downloaded logs_reh0xmbk:v0 to /scratch/downloaded_artifacts/logs_reh0xmbk:v0\n",
      "2025-04-22 16:33:55,233 - INFO - Downloaded logs_x4kwsbes:v0 to /scratch/downloaded_artifacts/logs_x4kwsbes:v0\n"
     ]
    },
    {
     "name": "stderr",
     "output_type": "stream",
     "text": [
      "\u001b[34m\u001b[1mwandb\u001b[0m:   1 of 1 files downloaded.  \n"
     ]
    },
    {
     "name": "stdout",
     "output_type": "stream",
     "text": [
      "2025-04-22 16:33:55,432 - INFO - Downloaded logs_5zv055al:v0 to /scratch/downloaded_artifacts/logs_5zv055al:v0\n"
     ]
    },
    {
     "name": "stderr",
     "output_type": "stream",
     "text": [
      "\u001b[34m\u001b[1mwandb\u001b[0m:   1 of 1 files downloaded.  \n"
     ]
    },
    {
     "name": "stdout",
     "output_type": "stream",
     "text": [
      "2025-04-22 16:33:56,886 - INFO - Downloaded logs_0xgwb15a:v0 to /scratch/downloaded_artifacts/logs_0xgwb15a:v0\n"
     ]
    },
    {
     "name": "stderr",
     "output_type": "stream",
     "text": [
      "\u001b[34m\u001b[1mwandb\u001b[0m:   1 of 1 files downloaded.  \n"
     ]
    },
    {
     "name": "stdout",
     "output_type": "stream",
     "text": [
      "2025-04-22 16:33:56,926 - INFO - Downloaded logs_43kq7tlq:v0 to /scratch/downloaded_artifacts/logs_43kq7tlq:v0\n"
     ]
    },
    {
     "name": "stderr",
     "output_type": "stream",
     "text": [
      "\u001b[34m\u001b[1mwandb\u001b[0m:   1 of 1 files downloaded.  \n"
     ]
    },
    {
     "name": "stdout",
     "output_type": "stream",
     "text": [
      "2025-04-22 16:33:56,939 - INFO - Downloaded logs_kfz56atk:v0 to /scratch/downloaded_artifacts/logs_kfz56atk:v0\n"
     ]
    },
    {
     "name": "stderr",
     "output_type": "stream",
     "text": [
      "\u001b[34m\u001b[1mwandb\u001b[0m:   1 of 1 files downloaded.  \n",
      "\u001b[34m\u001b[1mwandb\u001b[0m:   1 of 1 files downloaded.  \n"
     ]
    },
    {
     "name": "stdout",
     "output_type": "stream",
     "text": [
      "2025-04-22 16:33:56,957 - INFO - Downloaded logs_yrjr13z0:v0 to /scratch/downloaded_artifacts/logs_yrjr13z0:v0\n",
      "2025-04-22 16:33:56,959 - INFO - Downloaded logs_1qceahkr:v0 to /scratch/downloaded_artifacts/logs_1qceahkr:v0\n"
     ]
    },
    {
     "name": "stderr",
     "output_type": "stream",
     "text": [
      "\u001b[34m\u001b[1mwandb\u001b[0m:   1 of 1 files downloaded.  \n"
     ]
    },
    {
     "name": "stdout",
     "output_type": "stream",
     "text": [
      "2025-04-22 16:33:56,978 - INFO - Downloaded logs_4sigvbh6:v0 to /scratch/downloaded_artifacts/logs_4sigvbh6:v0\n"
     ]
    },
    {
     "name": "stderr",
     "output_type": "stream",
     "text": [
      "\u001b[34m\u001b[1mwandb\u001b[0m:   1 of 1 files downloaded.  \n"
     ]
    },
    {
     "name": "stdout",
     "output_type": "stream",
     "text": [
      "2025-04-22 16:33:56,992 - INFO - Downloaded logs_bzgrychv:v0 to /scratch/downloaded_artifacts/logs_bzgrychv:v0\n"
     ]
    },
    {
     "name": "stderr",
     "output_type": "stream",
     "text": [
      "\u001b[34m\u001b[1mwandb\u001b[0m:   1 of 1 files downloaded.  \n",
      "\u001b[34m\u001b[1mwandb\u001b[0m:   1 of 1 files downloaded.  \n"
     ]
    },
    {
     "name": "stdout",
     "output_type": "stream",
     "text": [
      "2025-04-22 16:33:57,016 - INFO - Downloaded logs_3f6wsjp0:v0 to /scratch/downloaded_artifacts/logs_3f6wsjp0:v0\n"
     ]
    },
    {
     "name": "stderr",
     "output_type": "stream",
     "text": [
      "\u001b[34m\u001b[1mwandb\u001b[0m:   1 of 1 files downloaded.  \n"
     ]
    },
    {
     "name": "stdout",
     "output_type": "stream",
     "text": [
      "2025-04-22 16:33:57,024 - INFO - Downloaded logs_9m4no5v4:v0 to /scratch/downloaded_artifacts/logs_9m4no5v4:v0\n"
     ]
    },
    {
     "name": "stderr",
     "output_type": "stream",
     "text": [
      "\u001b[34m\u001b[1mwandb\u001b[0m: \u001b[32m\u001b[41mERROR\u001b[0m Error while calling W&B API: rate limit exceeded (<Response [429]>)\n"
     ]
    },
    {
     "name": "stdout",
     "output_type": "stream",
     "text": [
      "2025-04-22 16:33:57,027 - INFO - Downloaded logs_bzudmjbc:v0 to /scratch/downloaded_artifacts/logs_bzudmjbc:v0\n"
     ]
    },
    {
     "name": "stderr",
     "output_type": "stream",
     "text": [
      "\u001b[34m\u001b[1mwandb\u001b[0m:   1 of 1 files downloaded.  \n",
      "\u001b[34m\u001b[1mwandb\u001b[0m:   1 of 1 files downloaded.  \n",
      "\u001b[34m\u001b[1mwandb\u001b[0m:   1 of 1 files downloaded.  \n"
     ]
    },
    {
     "name": "stdout",
     "output_type": "stream",
     "text": [
      "2025-04-22 16:33:57,033 - INFO - Downloaded logs_k9fd4i43:v0 to /scratch/downloaded_artifacts/logs_k9fd4i43:v0\n"
     ]
    },
    {
     "name": "stderr",
     "output_type": "stream",
     "text": [
      "\u001b[34m\u001b[1mwandb\u001b[0m: \u001b[32m\u001b[41mERROR\u001b[0m Error while calling W&B API: rate limit exceeded (<Response [429]>)\n"
     ]
    },
    {
     "name": "stdout",
     "output_type": "stream",
     "text": [
      "2025-04-22 16:33:57,035 - INFO - Downloaded logs_8dn319y8:v0 to /scratch/downloaded_artifacts/logs_8dn319y8:v0\n"
     ]
    },
    {
     "name": "stderr",
     "output_type": "stream",
     "text": [
      "\u001b[34m\u001b[1mwandb\u001b[0m:   1 of 1 files downloaded.  \n",
      "\u001b[34m\u001b[1mwandb\u001b[0m:   1 of 1 files downloaded.  \n"
     ]
    },
    {
     "name": "stdout",
     "output_type": "stream",
     "text": [
      "2025-04-22 16:33:57,036 - INFO - Downloaded logs_zb35fl07:v0 to /scratch/downloaded_artifacts/logs_zb35fl07:v0\n"
     ]
    },
    {
     "name": "stderr",
     "output_type": "stream",
     "text": [
      "\u001b[34m\u001b[1mwandb\u001b[0m:   1 of 1 files downloaded.  \n"
     ]
    },
    {
     "name": "stdout",
     "output_type": "stream",
     "text": [
      "2025-04-22 16:33:57,041 - INFO - Downloaded logs_07u8lbde:v0 to /scratch/downloaded_artifacts/logs_07u8lbde:v0\n"
     ]
    },
    {
     "name": "stderr",
     "output_type": "stream",
     "text": [
      "\u001b[34m\u001b[1mwandb\u001b[0m:   1 of 1 files downloaded.  \n"
     ]
    },
    {
     "name": "stdout",
     "output_type": "stream",
     "text": [
      "2025-04-22 16:33:57,043 - INFO - Downloaded logs_bnbm61gl:v0 to /scratch/downloaded_artifacts/logs_bnbm61gl:v0\n"
     ]
    },
    {
     "name": "stderr",
     "output_type": "stream",
     "text": [
      "\u001b[34m\u001b[1mwandb\u001b[0m:   1 of 1 files downloaded.  \n"
     ]
    },
    {
     "name": "stdout",
     "output_type": "stream",
     "text": [
      "2025-04-22 16:33:57,048 - INFO - Downloaded logs_4hw2iw9p:v0 to /scratch/downloaded_artifacts/logs_4hw2iw9p:v0\n"
     ]
    },
    {
     "name": "stderr",
     "output_type": "stream",
     "text": [
      "\u001b[34m\u001b[1mwandb\u001b[0m: \u001b[32m\u001b[41mERROR\u001b[0m Error while calling W&B API: rate limit exceeded (<Response [429]>)\n"
     ]
    },
    {
     "name": "stdout",
     "output_type": "stream",
     "text": [
      "2025-04-22 16:33:57,054 - INFO - Downloaded logs_ulclhbkr:v0 to /scratch/downloaded_artifacts/logs_ulclhbkr:v0\n",
      "2025-04-22 16:33:57,054 - INFO - Downloaded logs_b8ews5rx:v0 to /scratch/downloaded_artifacts/logs_b8ews5rx:v0\n"
     ]
    },
    {
     "name": "stderr",
     "output_type": "stream",
     "text": [
      "\u001b[34m\u001b[1mwandb\u001b[0m: \u001b[32m\u001b[41mERROR\u001b[0m Error while calling W&B API: rate limit exceeded (<Response [429]>)\n",
      "\u001b[34m\u001b[1mwandb\u001b[0m:   1 of 1 files downloaded.  \n"
     ]
    },
    {
     "name": "stdout",
     "output_type": "stream",
     "text": [
      "2025-04-22 16:33:57,077 - INFO - Downloaded logs_rr4xhc85:v0 to /scratch/downloaded_artifacts/logs_rr4xhc85:v0\n"
     ]
    },
    {
     "name": "stderr",
     "output_type": "stream",
     "text": [
      "\u001b[34m\u001b[1mwandb\u001b[0m:   1 of 1 files downloaded.  \n"
     ]
    },
    {
     "name": "stdout",
     "output_type": "stream",
     "text": [
      "2025-04-22 16:33:57,090 - INFO - Downloaded logs_o3m8oz1k:v0 to /scratch/downloaded_artifacts/logs_o3m8oz1k:v0\n"
     ]
    },
    {
     "name": "stderr",
     "output_type": "stream",
     "text": [
      "\u001b[34m\u001b[1mwandb\u001b[0m: \u001b[32m\u001b[41mERROR\u001b[0m Error while calling W&B API: rate limit exceeded (<Response [429]>)\n",
      "\u001b[34m\u001b[1mwandb\u001b[0m: Network error (HTTPError), entering retry loop.\n",
      "\u001b[34m\u001b[1mwandb\u001b[0m: Network error (HTTPError), entering retry loop.\n",
      "\u001b[34m\u001b[1mwandb\u001b[0m: \u001b[32m\u001b[41mERROR\u001b[0m Error while calling W&B API: rate limit exceeded (<Response [429]>)\n",
      "\u001b[34m\u001b[1mwandb\u001b[0m: \u001b[32m\u001b[41mERROR\u001b[0m Error while calling W&B API: rate limit exceeded (<Response [429]>)\n",
      "\u001b[34m\u001b[1mwandb\u001b[0m: \u001b[32m\u001b[41mERROR\u001b[0m Error while calling W&B API: rate limit exceeded (<Response [429]>)\n",
      "\u001b[34m\u001b[1mwandb\u001b[0m:   1 of 1 files downloaded.  \n"
     ]
    },
    {
     "name": "stdout",
     "output_type": "stream",
     "text": [
      "2025-04-22 16:34:01,205 - INFO - Downloaded logs_uq86nixo:v0 to /scratch/downloaded_artifacts/logs_uq86nixo:v0\n"
     ]
    },
    {
     "name": "stderr",
     "output_type": "stream",
     "text": [
      "\u001b[34m\u001b[1mwandb\u001b[0m:   1 of 1 files downloaded.  \n",
      "\u001b[34m\u001b[1mwandb\u001b[0m:   1 of 1 files downloaded.  \n"
     ]
    },
    {
     "name": "stdout",
     "output_type": "stream",
     "text": [
      "2025-04-22 16:34:01,430 - INFO - Downloaded logs_s7j0fxgy:v0 to /scratch/downloaded_artifacts/logs_s7j0fxgy:v0\n"
     ]
    },
    {
     "name": "stderr",
     "output_type": "stream",
     "text": [
      "\u001b[34m\u001b[1mwandb\u001b[0m:   1 of 1 files downloaded.  \n"
     ]
    },
    {
     "name": "stdout",
     "output_type": "stream",
     "text": [
      "2025-04-22 16:34:01,433 - INFO - Downloaded logs_72lclvyt:v0 to /scratch/downloaded_artifacts/logs_72lclvyt:v0\n",
      "2025-04-22 16:34:01,438 - INFO - Downloaded logs_60g6nqnz:v0 to /scratch/downloaded_artifacts/logs_60g6nqnz:v0\n"
     ]
    },
    {
     "name": "stderr",
     "output_type": "stream",
     "text": [
      "\u001b[34m\u001b[1mwandb\u001b[0m:   1 of 1 files downloaded.  \n"
     ]
    },
    {
     "name": "stdout",
     "output_type": "stream",
     "text": [
      "2025-04-22 16:34:01,995 - INFO - Downloaded logs_d7cppzj6:v0 to /scratch/downloaded_artifacts/logs_d7cppzj6:v0\n"
     ]
    },
    {
     "name": "stderr",
     "output_type": "stream",
     "text": [
      "\u001b[34m\u001b[1mwandb\u001b[0m:   1 of 1 files downloaded.  \n"
     ]
    },
    {
     "name": "stdout",
     "output_type": "stream",
     "text": [
      "2025-04-22 16:34:02,231 - INFO - Downloaded logs_sknl2zt9:v0 to /scratch/downloaded_artifacts/logs_sknl2zt9:v0\n"
     ]
    },
    {
     "name": "stderr",
     "output_type": "stream",
     "text": [
      "\u001b[34m\u001b[1mwandb\u001b[0m:   1 of 1 files downloaded.  \n"
     ]
    },
    {
     "name": "stdout",
     "output_type": "stream",
     "text": [
      "2025-04-22 16:34:02,247 - INFO - Downloaded logs_89kis0ph:v0 to /scratch/downloaded_artifacts/logs_89kis0ph:v0\n"
     ]
    },
    {
     "name": "stderr",
     "output_type": "stream",
     "text": [
      "\u001b[34m\u001b[1mwandb\u001b[0m:   1 of 1 files downloaded.  \n"
     ]
    },
    {
     "name": "stdout",
     "output_type": "stream",
     "text": [
      "2025-04-22 16:34:02,255 - INFO - Downloaded logs_gkjw778s:v0 to /scratch/downloaded_artifacts/logs_gkjw778s:v0\n"
     ]
    },
    {
     "name": "stderr",
     "output_type": "stream",
     "text": [
      "\u001b[34m\u001b[1mwandb\u001b[0m:   1 of 1 files downloaded.  \n"
     ]
    },
    {
     "name": "stdout",
     "output_type": "stream",
     "text": [
      "2025-04-22 16:34:02,265 - INFO - Downloaded logs_vpoyxy5u:v0 to /scratch/downloaded_artifacts/logs_vpoyxy5u:v0\n"
     ]
    },
    {
     "name": "stderr",
     "output_type": "stream",
     "text": [
      "\u001b[34m\u001b[1mwandb\u001b[0m:   1 of 1 files downloaded.  \n"
     ]
    },
    {
     "name": "stdout",
     "output_type": "stream",
     "text": [
      "2025-04-22 16:34:02,274 - INFO - Downloaded logs_6wnflhue:v0 to /scratch/downloaded_artifacts/logs_6wnflhue:v0\n"
     ]
    },
    {
     "name": "stderr",
     "output_type": "stream",
     "text": [
      "\u001b[34m\u001b[1mwandb\u001b[0m:   1 of 1 files downloaded.  \n"
     ]
    },
    {
     "name": "stdout",
     "output_type": "stream",
     "text": [
      "2025-04-22 16:34:02,280 - INFO - Downloaded logs_5jz4yun2:v0 to /scratch/downloaded_artifacts/logs_5jz4yun2:v0\n"
     ]
    },
    {
     "name": "stderr",
     "output_type": "stream",
     "text": [
      "\u001b[34m\u001b[1mwandb\u001b[0m:   1 of 1 files downloaded.  \n"
     ]
    },
    {
     "name": "stdout",
     "output_type": "stream",
     "text": [
      "2025-04-22 16:34:02,284 - INFO - Downloaded logs_e1h3d721:v0 to /scratch/downloaded_artifacts/logs_e1h3d721:v0\n"
     ]
    },
    {
     "name": "stderr",
     "output_type": "stream",
     "text": [
      "\u001b[34m\u001b[1mwandb\u001b[0m:   1 of 1 files downloaded.  \n"
     ]
    },
    {
     "name": "stdout",
     "output_type": "stream",
     "text": [
      "2025-04-22 16:34:02,291 - INFO - Downloaded logs_u3b3myqq:v0 to /scratch/downloaded_artifacts/logs_u3b3myqq:v0\n"
     ]
    },
    {
     "name": "stderr",
     "output_type": "stream",
     "text": [
      "\u001b[34m\u001b[1mwandb\u001b[0m:   1 of 1 files downloaded.  \n"
     ]
    },
    {
     "name": "stdout",
     "output_type": "stream",
     "text": [
      "2025-04-22 16:34:02,299 - INFO - Downloaded logs_40cifh96:v0 to /scratch/downloaded_artifacts/logs_40cifh96:v0\n"
     ]
    },
    {
     "name": "stderr",
     "output_type": "stream",
     "text": [
      "\u001b[34m\u001b[1mwandb\u001b[0m:   1 of 1 files downloaded.  \n"
     ]
    },
    {
     "name": "stdout",
     "output_type": "stream",
     "text": [
      "2025-04-22 16:34:02,303 - INFO - Downloaded logs_24uv6z5w:v0 to /scratch/downloaded_artifacts/logs_24uv6z5w:v0\n"
     ]
    },
    {
     "name": "stderr",
     "output_type": "stream",
     "text": [
      "\u001b[34m\u001b[1mwandb\u001b[0m:   1 of 1 files downloaded.  \n"
     ]
    },
    {
     "name": "stdout",
     "output_type": "stream",
     "text": [
      "2025-04-22 16:34:02,325 - INFO - Downloaded logs_w0jhlupj:v0 to /scratch/downloaded_artifacts/logs_w0jhlupj:v0\n"
     ]
    },
    {
     "name": "stderr",
     "output_type": "stream",
     "text": [
      "\u001b[34m\u001b[1mwandb\u001b[0m:   1 of 1 files downloaded.  \n"
     ]
    },
    {
     "name": "stdout",
     "output_type": "stream",
     "text": [
      "2025-04-22 16:34:02,334 - INFO - Downloaded logs_ge36dn4g:v0 to /scratch/downloaded_artifacts/logs_ge36dn4g:v0\n"
     ]
    },
    {
     "name": "stderr",
     "output_type": "stream",
     "text": [
      "\u001b[34m\u001b[1mwandb\u001b[0m:   1 of 1 files downloaded.  \n"
     ]
    },
    {
     "name": "stdout",
     "output_type": "stream",
     "text": [
      "2025-04-22 16:34:02,397 - INFO - Downloaded logs_24m35qfh:v0 to /scratch/downloaded_artifacts/logs_24m35qfh:v0\n"
     ]
    },
    {
     "name": "stderr",
     "output_type": "stream",
     "text": [
      "\u001b[34m\u001b[1mwandb\u001b[0m:   1 of 1 files downloaded.  \n"
     ]
    },
    {
     "name": "stdout",
     "output_type": "stream",
     "text": [
      "2025-04-22 16:34:02,669 - INFO - Downloaded logs_h4am19h6:v0 to /scratch/downloaded_artifacts/logs_h4am19h6:v0\n"
     ]
    },
    {
     "name": "stderr",
     "output_type": "stream",
     "text": [
      "\u001b[34m\u001b[1mwandb\u001b[0m:   1 of 1 files downloaded.  \n"
     ]
    },
    {
     "name": "stdout",
     "output_type": "stream",
     "text": [
      "2025-04-22 16:34:02,684 - INFO - Downloaded logs_csgec1xt:v0 to /scratch/downloaded_artifacts/logs_csgec1xt:v0\n"
     ]
    },
    {
     "name": "stderr",
     "output_type": "stream",
     "text": [
      "\u001b[34m\u001b[1mwandb\u001b[0m:   1 of 1 files downloaded.  \n",
      "\u001b[34m\u001b[1mwandb\u001b[0m:   1 of 1 files downloaded.  \n"
     ]
    },
    {
     "name": "stdout",
     "output_type": "stream",
     "text": [
      "2025-04-22 16:34:02,690 - INFO - Downloaded logs_b5rtkyzl:v0 to /scratch/downloaded_artifacts/logs_b5rtkyzl:v0\n",
      "2025-04-22 16:34:02,691 - INFO - Downloaded logs_b3f72k1l:v0 to /scratch/downloaded_artifacts/logs_b3f72k1l:v0\n"
     ]
    },
    {
     "name": "stderr",
     "output_type": "stream",
     "text": [
      "\u001b[34m\u001b[1mwandb\u001b[0m:   1 of 1 files downloaded.  \n"
     ]
    },
    {
     "name": "stdout",
     "output_type": "stream",
     "text": [
      "2025-04-22 16:34:02,742 - INFO - Downloaded logs_alg5bwc4:v0 to /scratch/downloaded_artifacts/logs_alg5bwc4:v0\n"
     ]
    },
    {
     "name": "stderr",
     "output_type": "stream",
     "text": [
      "\u001b[34m\u001b[1mwandb\u001b[0m:   1 of 1 files downloaded.  \n"
     ]
    },
    {
     "name": "stdout",
     "output_type": "stream",
     "text": [
      "2025-04-22 16:34:03,032 - INFO - Downloaded logs_diubfz5t:v0 to /scratch/downloaded_artifacts/logs_diubfz5t:v0\n"
     ]
    },
    {
     "name": "stderr",
     "output_type": "stream",
     "text": [
      "\u001b[34m\u001b[1mwandb\u001b[0m:   1 of 1 files downloaded.  \n"
     ]
    },
    {
     "name": "stdout",
     "output_type": "stream",
     "text": [
      "2025-04-22 16:34:03,450 - INFO - Downloaded logs_dt26n81n:v0 to /scratch/downloaded_artifacts/logs_dt26n81n:v0\n"
     ]
    },
    {
     "name": "stderr",
     "output_type": "stream",
     "text": [
      "\u001b[34m\u001b[1mwandb\u001b[0m:   1 of 1 files downloaded.  \n"
     ]
    },
    {
     "name": "stdout",
     "output_type": "stream",
     "text": [
      "2025-04-22 16:34:03,542 - INFO - Downloaded logs_my8r7v22:v0 to /scratch/downloaded_artifacts/logs_my8r7v22:v0\n"
     ]
    },
    {
     "name": "stderr",
     "output_type": "stream",
     "text": [
      "\u001b[34m\u001b[1mwandb\u001b[0m:   1 of 1 files downloaded.  \n"
     ]
    },
    {
     "name": "stdout",
     "output_type": "stream",
     "text": [
      "2025-04-22 16:34:03,582 - INFO - Downloaded logs_n1m0ea4o:v0 to /scratch/downloaded_artifacts/logs_n1m0ea4o:v0\n"
     ]
    },
    {
     "name": "stderr",
     "output_type": "stream",
     "text": [
      "\u001b[34m\u001b[1mwandb\u001b[0m:   1 of 1 files downloaded.  \n"
     ]
    },
    {
     "name": "stdout",
     "output_type": "stream",
     "text": [
      "2025-04-22 16:34:03,602 - INFO - Downloaded logs_h4ff2cj4:v0 to /scratch/downloaded_artifacts/logs_h4ff2cj4:v0\n"
     ]
    },
    {
     "name": "stderr",
     "output_type": "stream",
     "text": [
      "\u001b[34m\u001b[1mwandb\u001b[0m:   1 of 1 files downloaded.  \n",
      "\u001b[34m\u001b[1mwandb\u001b[0m:   1 of 1 files downloaded.  \n"
     ]
    },
    {
     "name": "stdout",
     "output_type": "stream",
     "text": [
      "2025-04-22 16:34:03,803 - INFO - Downloaded logs_spk24qzu:v0 to /scratch/downloaded_artifacts/logs_spk24qzu:v0\n",
      "2025-04-22 16:34:03,808 - INFO - Downloaded logs_t0ey491v:v0 to /scratch/downloaded_artifacts/logs_t0ey491v:v0\n"
     ]
    },
    {
     "name": "stderr",
     "output_type": "stream",
     "text": [
      "\u001b[34m\u001b[1mwandb\u001b[0m:   1 of 1 files downloaded.  \n",
      "\u001b[34m\u001b[1mwandb\u001b[0m:   1 of 1 files downloaded.  \n"
     ]
    },
    {
     "name": "stdout",
     "output_type": "stream",
     "text": [
      "2025-04-22 16:34:03,872 - INFO - Downloaded logs_hp036tdd:v0 to /scratch/downloaded_artifacts/logs_hp036tdd:v0\n"
     ]
    },
    {
     "name": "stderr",
     "output_type": "stream",
     "text": [
      "\u001b[34m\u001b[1mwandb\u001b[0m:   1 of 1 files downloaded.  \n"
     ]
    },
    {
     "name": "stdout",
     "output_type": "stream",
     "text": [
      "2025-04-22 16:34:03,913 - INFO - Downloaded logs_tjxaxgg3:v0 to /scratch/downloaded_artifacts/logs_tjxaxgg3:v0\n"
     ]
    },
    {
     "name": "stderr",
     "output_type": "stream",
     "text": [
      "\u001b[34m\u001b[1mwandb\u001b[0m:   1 of 1 files downloaded.  \n"
     ]
    },
    {
     "name": "stdout",
     "output_type": "stream",
     "text": [
      "2025-04-22 16:34:03,939 - INFO - Downloaded logs_p9m3o12l:v0 to /scratch/downloaded_artifacts/logs_p9m3o12l:v0\n"
     ]
    },
    {
     "name": "stderr",
     "output_type": "stream",
     "text": [
      "\u001b[34m\u001b[1mwandb\u001b[0m:   1 of 1 files downloaded.  \n"
     ]
    },
    {
     "name": "stdout",
     "output_type": "stream",
     "text": [
      "2025-04-22 16:34:03,945 - INFO - Downloaded logs_n9qaxbtk:v0 to /scratch/downloaded_artifacts/logs_n9qaxbtk:v0\n"
     ]
    },
    {
     "name": "stderr",
     "output_type": "stream",
     "text": [
      "\u001b[34m\u001b[1mwandb\u001b[0m:   1 of 1 files downloaded.  \n"
     ]
    },
    {
     "name": "stdout",
     "output_type": "stream",
     "text": [
      "2025-04-22 16:34:03,947 - INFO - Downloaded logs_lnm3gr1l:v0 to /scratch/downloaded_artifacts/logs_lnm3gr1l:v0\n"
     ]
    },
    {
     "name": "stderr",
     "output_type": "stream",
     "text": [
      "\u001b[34m\u001b[1mwandb\u001b[0m:   1 of 1 files downloaded.  \n"
     ]
    },
    {
     "name": "stdout",
     "output_type": "stream",
     "text": [
      "2025-04-22 16:34:03,954 - INFO - Downloaded logs_7jdiuudt:v0 to /scratch/downloaded_artifacts/logs_7jdiuudt:v0\n",
      "2025-04-22 16:34:03,956 - INFO - Downloaded logs_sbw79wxa:v0 to /scratch/downloaded_artifacts/logs_sbw79wxa:v0\n"
     ]
    },
    {
     "name": "stderr",
     "output_type": "stream",
     "text": [
      "\u001b[34m\u001b[1mwandb\u001b[0m:   1 of 1 files downloaded.  \n"
     ]
    },
    {
     "name": "stdout",
     "output_type": "stream",
     "text": [
      "2025-04-22 16:34:03,969 - INFO - Downloaded logs_rv3p94ld:v0 to /scratch/downloaded_artifacts/logs_rv3p94ld:v0\n"
     ]
    },
    {
     "name": "stderr",
     "output_type": "stream",
     "text": [
      "\u001b[34m\u001b[1mwandb\u001b[0m:   1 of 1 files downloaded.  \n"
     ]
    },
    {
     "name": "stdout",
     "output_type": "stream",
     "text": [
      "2025-04-22 16:34:03,971 - INFO - Downloaded logs_t7decv89:v0 to /scratch/downloaded_artifacts/logs_t7decv89:v0\n"
     ]
    },
    {
     "name": "stderr",
     "output_type": "stream",
     "text": [
      "\u001b[34m\u001b[1mwandb\u001b[0m:   1 of 1 files downloaded.  \n"
     ]
    },
    {
     "name": "stdout",
     "output_type": "stream",
     "text": [
      "2025-04-22 16:34:03,988 - INFO - Downloaded logs_6m8ym1cf:v0 to /scratch/downloaded_artifacts/logs_6m8ym1cf:v0\n"
     ]
    },
    {
     "name": "stderr",
     "output_type": "stream",
     "text": [
      "\u001b[34m\u001b[1mwandb\u001b[0m:   1 of 1 files downloaded.  \n"
     ]
    },
    {
     "name": "stdout",
     "output_type": "stream",
     "text": [
      "2025-04-22 16:34:04,002 - INFO - Downloaded logs_inrcu91v:v0 to /scratch/downloaded_artifacts/logs_inrcu91v:v0\n"
     ]
    },
    {
     "name": "stderr",
     "output_type": "stream",
     "text": [
      "\u001b[34m\u001b[1mwandb\u001b[0m:   1 of 1 files downloaded.  \n"
     ]
    },
    {
     "name": "stdout",
     "output_type": "stream",
     "text": [
      "2025-04-22 16:34:04,019 - INFO - Downloaded logs_viqpzjnz:v0 to /scratch/downloaded_artifacts/logs_viqpzjnz:v0\n"
     ]
    },
    {
     "name": "stderr",
     "output_type": "stream",
     "text": [
      "\u001b[34m\u001b[1mwandb\u001b[0m:   1 of 1 files downloaded.  \n"
     ]
    },
    {
     "name": "stdout",
     "output_type": "stream",
     "text": [
      "2025-04-22 16:34:04,367 - INFO - Downloaded logs_8hde63og:v0 to /scratch/downloaded_artifacts/logs_8hde63og:v0\n"
     ]
    },
    {
     "name": "stderr",
     "output_type": "stream",
     "text": [
      "\u001b[34m\u001b[1mwandb\u001b[0m:   1 of 1 files downloaded.  \n"
     ]
    },
    {
     "name": "stdout",
     "output_type": "stream",
     "text": [
      "2025-04-22 16:34:05,184 - INFO - Downloaded logs_bx35bgfp:v0 to /scratch/downloaded_artifacts/logs_bx35bgfp:v0\n"
     ]
    },
    {
     "name": "stderr",
     "output_type": "stream",
     "text": [
      "\u001b[34m\u001b[1mwandb\u001b[0m:   1 of 1 files downloaded.  \n"
     ]
    },
    {
     "name": "stdout",
     "output_type": "stream",
     "text": [
      "2025-04-22 16:34:05,480 - INFO - Downloaded logs_g3c8iigg:v0 to /scratch/downloaded_artifacts/logs_g3c8iigg:v0\n"
     ]
    },
    {
     "name": "stderr",
     "output_type": "stream",
     "text": [
      "\u001b[34m\u001b[1mwandb\u001b[0m:   1 of 1 files downloaded.  \n"
     ]
    },
    {
     "name": "stdout",
     "output_type": "stream",
     "text": [
      "2025-04-22 16:34:05,500 - INFO - Downloaded logs_gplyc322:v0 to /scratch/downloaded_artifacts/logs_gplyc322:v0\n"
     ]
    },
    {
     "name": "stderr",
     "output_type": "stream",
     "text": [
      "\u001b[34m\u001b[1mwandb\u001b[0m:   1 of 1 files downloaded.  \n"
     ]
    },
    {
     "name": "stdout",
     "output_type": "stream",
     "text": [
      "2025-04-22 16:34:05,524 - INFO - Downloaded logs_khx124ko:v0 to /scratch/downloaded_artifacts/logs_khx124ko:v0\n"
     ]
    },
    {
     "name": "stderr",
     "output_type": "stream",
     "text": [
      "\u001b[34m\u001b[1mwandb\u001b[0m:   1 of 1 files downloaded.  \n"
     ]
    },
    {
     "name": "stdout",
     "output_type": "stream",
     "text": [
      "2025-04-22 16:34:05,528 - INFO - Downloaded logs_erkwwht5:v0 to /scratch/downloaded_artifacts/logs_erkwwht5:v0\n"
     ]
    },
    {
     "name": "stderr",
     "output_type": "stream",
     "text": [
      "\u001b[34m\u001b[1mwandb\u001b[0m:   1 of 1 files downloaded.  \n"
     ]
    },
    {
     "name": "stdout",
     "output_type": "stream",
     "text": [
      "2025-04-22 16:34:05,536 - INFO - Downloaded logs_jut5chkg:v0 to /scratch/downloaded_artifacts/logs_jut5chkg:v0\n"
     ]
    },
    {
     "name": "stderr",
     "output_type": "stream",
     "text": [
      "\u001b[34m\u001b[1mwandb\u001b[0m:   1 of 1 files downloaded.  \n"
     ]
    },
    {
     "name": "stdout",
     "output_type": "stream",
     "text": [
      "2025-04-22 16:34:05,575 - INFO - Downloaded logs_a4ut89p1:v0 to /scratch/downloaded_artifacts/logs_a4ut89p1:v0\n"
     ]
    },
    {
     "name": "stderr",
     "output_type": "stream",
     "text": [
      "\u001b[34m\u001b[1mwandb\u001b[0m:   1 of 1 files downloaded.  \n",
      "\u001b[34m\u001b[1mwandb\u001b[0m:   1 of 1 files downloaded.  \n"
     ]
    },
    {
     "name": "stdout",
     "output_type": "stream",
     "text": [
      "2025-04-22 16:34:05,586 - INFO - Downloaded logs_3zx8369x:v0 to /scratch/downloaded_artifacts/logs_3zx8369x:v0\n"
     ]
    },
    {
     "name": "stderr",
     "output_type": "stream",
     "text": [
      "\u001b[34m\u001b[1mwandb\u001b[0m:   1 of 1 files downloaded.  \n",
      "\u001b[34m\u001b[1mwandb\u001b[0m:   1 of 1 files downloaded.  \n"
     ]
    },
    {
     "name": "stdout",
     "output_type": "stream",
     "text": [
      "2025-04-22 16:34:05,641 - INFO - Downloaded logs_q2icgvu6:v0 to /scratch/downloaded_artifacts/logs_q2icgvu6:v0\n"
     ]
    },
    {
     "name": "stderr",
     "output_type": "stream",
     "text": [
      "\u001b[34m\u001b[1mwandb\u001b[0m:   1 of 1 files downloaded.  \n"
     ]
    },
    {
     "name": "stdout",
     "output_type": "stream",
     "text": [
      "2025-04-22 16:34:05,642 - INFO - Downloaded logs_68go7wxh:v0 to /scratch/downloaded_artifacts/logs_68go7wxh:v0\n"
     ]
    },
    {
     "name": "stderr",
     "output_type": "stream",
     "text": [
      "\u001b[34m\u001b[1mwandb\u001b[0m:   1 of 1 files downloaded.  \n"
     ]
    },
    {
     "name": "stdout",
     "output_type": "stream",
     "text": [
      "2025-04-22 16:34:05,652 - INFO - Downloaded logs_ntldbhls:v0 to /scratch/downloaded_artifacts/logs_ntldbhls:v0\n",
      "2025-04-22 16:34:05,657 - INFO - Downloaded logs_mohagdp2:v0 to /scratch/downloaded_artifacts/logs_mohagdp2:v0\n"
     ]
    },
    {
     "name": "stderr",
     "output_type": "stream",
     "text": [
      "\u001b[34m\u001b[1mwandb\u001b[0m:   1 of 1 files downloaded.  \n",
      "\u001b[34m\u001b[1mwandb\u001b[0m:   1 of 1 files downloaded.  \n",
      "\u001b[34m\u001b[1mwandb\u001b[0m:   1 of 1 files downloaded.  \n"
     ]
    },
    {
     "name": "stdout",
     "output_type": "stream",
     "text": [
      "2025-04-22 16:34:05,669 - INFO - Downloaded logs_796e76mw:v0 to /scratch/downloaded_artifacts/logs_796e76mw:v0\n"
     ]
    },
    {
     "name": "stderr",
     "output_type": "stream",
     "text": [
      "\u001b[34m\u001b[1mwandb\u001b[0m:   1 of 1 files downloaded.  \n"
     ]
    },
    {
     "name": "stdout",
     "output_type": "stream",
     "text": [
      "2025-04-22 16:34:05,671 - INFO - Downloaded logs_8lwy4lnc:v0 to /scratch/downloaded_artifacts/logs_8lwy4lnc:v0\n"
     ]
    },
    {
     "name": "stderr",
     "output_type": "stream",
     "text": [
      "\u001b[34m\u001b[1mwandb\u001b[0m:   1 of 1 files downloaded.  \n"
     ]
    },
    {
     "name": "stdout",
     "output_type": "stream",
     "text": [
      "2025-04-22 16:34:05,672 - INFO - Downloaded logs_4fv9epul:v0 to /scratch/downloaded_artifacts/logs_4fv9epul:v0\n",
      "2025-04-22 16:34:05,676 - INFO - Downloaded logs_45sj9fwl:v0 to /scratch/downloaded_artifacts/logs_45sj9fwl:v0\n",
      "2025-04-22 16:34:05,679 - INFO - Downloaded logs_i0utzhp4:v0 to /scratch/downloaded_artifacts/logs_i0utzhp4:v0\n",
      "2025-04-22 16:34:05,679 - INFO - Downloaded logs_26dvvgtz:v0 to /scratch/downloaded_artifacts/logs_26dvvgtz:v0\n"
     ]
    },
    {
     "name": "stderr",
     "output_type": "stream",
     "text": [
      "\u001b[34m\u001b[1mwandb\u001b[0m:   1 of 1 files downloaded.  \n"
     ]
    },
    {
     "name": "stdout",
     "output_type": "stream",
     "text": [
      "2025-04-22 16:34:05,756 - INFO - Downloaded logs_96wuiqlt:v0 to /scratch/downloaded_artifacts/logs_96wuiqlt:v0\n"
     ]
    },
    {
     "name": "stderr",
     "output_type": "stream",
     "text": [
      "\u001b[34m\u001b[1mwandb\u001b[0m:   1 of 1 files downloaded.  \n"
     ]
    },
    {
     "name": "stdout",
     "output_type": "stream",
     "text": [
      "2025-04-22 16:34:05,943 - INFO - Downloaded logs_4jgy8ri7:v0 to /scratch/downloaded_artifacts/logs_4jgy8ri7:v0\n"
     ]
    },
    {
     "name": "stderr",
     "output_type": "stream",
     "text": [
      "\u001b[34m\u001b[1mwandb\u001b[0m:   1 of 1 files downloaded.  \n"
     ]
    },
    {
     "name": "stdout",
     "output_type": "stream",
     "text": [
      "2025-04-22 16:34:06,210 - INFO - Downloaded logs_bdf0sgs4:v0 to /scratch/downloaded_artifacts/logs_bdf0sgs4:v0\n"
     ]
    },
    {
     "name": "stderr",
     "output_type": "stream",
     "text": [
      "\u001b[34m\u001b[1mwandb\u001b[0m:   1 of 1 files downloaded.  \n"
     ]
    },
    {
     "name": "stdout",
     "output_type": "stream",
     "text": [
      "2025-04-22 16:34:07,161 - INFO - Downloaded logs_citndgkl:v0 to /scratch/downloaded_artifacts/logs_citndgkl:v0\n"
     ]
    },
    {
     "name": "stderr",
     "output_type": "stream",
     "text": [
      "\u001b[34m\u001b[1mwandb\u001b[0m:   1 of 1 files downloaded.  \n"
     ]
    },
    {
     "name": "stdout",
     "output_type": "stream",
     "text": [
      "2025-04-22 16:34:07,179 - INFO - Downloaded logs_jxiv3e2d:v0 to /scratch/downloaded_artifacts/logs_jxiv3e2d:v0\n"
     ]
    },
    {
     "name": "stderr",
     "output_type": "stream",
     "text": [
      "\u001b[34m\u001b[1mwandb\u001b[0m:   1 of 1 files downloaded.  \n"
     ]
    },
    {
     "name": "stdout",
     "output_type": "stream",
     "text": [
      "2025-04-22 16:34:07,192 - INFO - Downloaded logs_tyw84wtt:v0 to /scratch/downloaded_artifacts/logs_tyw84wtt:v0\n"
     ]
    },
    {
     "name": "stderr",
     "output_type": "stream",
     "text": [
      "\u001b[34m\u001b[1mwandb\u001b[0m:   1 of 1 files downloaded.  \n"
     ]
    },
    {
     "name": "stdout",
     "output_type": "stream",
     "text": [
      "2025-04-22 16:34:07,198 - INFO - Downloaded logs_pgbtmg73:v0 to /scratch/downloaded_artifacts/logs_pgbtmg73:v0\n"
     ]
    },
    {
     "name": "stderr",
     "output_type": "stream",
     "text": [
      "\u001b[34m\u001b[1mwandb\u001b[0m:   1 of 1 files downloaded.  \n"
     ]
    },
    {
     "name": "stdout",
     "output_type": "stream",
     "text": [
      "2025-04-22 16:34:07,238 - INFO - Downloaded logs_er6exjl3:v0 to /scratch/downloaded_artifacts/logs_er6exjl3:v0\n"
     ]
    },
    {
     "name": "stderr",
     "output_type": "stream",
     "text": [
      "\u001b[34m\u001b[1mwandb\u001b[0m:   1 of 1 files downloaded.  \n"
     ]
    },
    {
     "name": "stdout",
     "output_type": "stream",
     "text": [
      "2025-04-22 16:34:07,247 - INFO - Downloaded logs_ofc8rbqi:v0 to /scratch/downloaded_artifacts/logs_ofc8rbqi:v0\n"
     ]
    },
    {
     "name": "stderr",
     "output_type": "stream",
     "text": [
      "\u001b[34m\u001b[1mwandb\u001b[0m:   1 of 1 files downloaded.  \n",
      "\u001b[34m\u001b[1mwandb\u001b[0m:   1 of 1 files downloaded.  \n"
     ]
    },
    {
     "name": "stdout",
     "output_type": "stream",
     "text": [
      "2025-04-22 16:34:07,257 - INFO - Downloaded logs_lnjd0jqw:v0 to /scratch/downloaded_artifacts/logs_lnjd0jqw:v0\n"
     ]
    },
    {
     "name": "stderr",
     "output_type": "stream",
     "text": [
      "\u001b[34m\u001b[1mwandb\u001b[0m:   1 of 1 files downloaded.  \n"
     ]
    },
    {
     "name": "stdout",
     "output_type": "stream",
     "text": [
      "2025-04-22 16:34:07,260 - INFO - Downloaded logs_oikiosbz:v0 to /scratch/downloaded_artifacts/logs_oikiosbz:v0\n"
     ]
    },
    {
     "name": "stderr",
     "output_type": "stream",
     "text": [
      "\u001b[34m\u001b[1mwandb\u001b[0m:   1 of 1 files downloaded.  \n"
     ]
    },
    {
     "name": "stdout",
     "output_type": "stream",
     "text": [
      "2025-04-22 16:34:07,268 - INFO - Downloaded logs_q4m1x46u:v0 to /scratch/downloaded_artifacts/logs_q4m1x46u:v0\n"
     ]
    },
    {
     "name": "stderr",
     "output_type": "stream",
     "text": [
      "\u001b[34m\u001b[1mwandb\u001b[0m:   1 of 1 files downloaded.  \n"
     ]
    },
    {
     "name": "stdout",
     "output_type": "stream",
     "text": [
      "2025-04-22 16:34:07,276 - INFO - Downloaded logs_fe1ow1ez:v0 to /scratch/downloaded_artifacts/logs_fe1ow1ez:v0\n"
     ]
    },
    {
     "name": "stderr",
     "output_type": "stream",
     "text": [
      "\u001b[34m\u001b[1mwandb\u001b[0m:   1 of 1 files downloaded.  \n"
     ]
    },
    {
     "name": "stdout",
     "output_type": "stream",
     "text": [
      "2025-04-22 16:34:07,293 - INFO - Downloaded logs_jr4w01yx:v0 to /scratch/downloaded_artifacts/logs_jr4w01yx:v0\n"
     ]
    },
    {
     "name": "stderr",
     "output_type": "stream",
     "text": [
      "\u001b[34m\u001b[1mwandb\u001b[0m:   1 of 1 files downloaded.  \n"
     ]
    },
    {
     "name": "stdout",
     "output_type": "stream",
     "text": [
      "2025-04-22 16:34:07,296 - INFO - Downloaded logs_j7wvvzra:v0 to /scratch/downloaded_artifacts/logs_j7wvvzra:v0\n"
     ]
    },
    {
     "name": "stderr",
     "output_type": "stream",
     "text": [
      "\u001b[34m\u001b[1mwandb\u001b[0m:   1 of 1 files downloaded.  \n"
     ]
    },
    {
     "name": "stdout",
     "output_type": "stream",
     "text": [
      "2025-04-22 16:34:07,303 - INFO - Downloaded logs_ot1b55a7:v0 to /scratch/downloaded_artifacts/logs_ot1b55a7:v0\n"
     ]
    },
    {
     "name": "stderr",
     "output_type": "stream",
     "text": [
      "\u001b[34m\u001b[1mwandb\u001b[0m:   1 of 1 files downloaded.  \n"
     ]
    },
    {
     "name": "stdout",
     "output_type": "stream",
     "text": [
      "2025-04-22 16:34:07,306 - INFO - Downloaded logs_naeh0b3k:v0 to /scratch/downloaded_artifacts/logs_naeh0b3k:v0\n"
     ]
    },
    {
     "name": "stderr",
     "output_type": "stream",
     "text": [
      "\u001b[34m\u001b[1mwandb\u001b[0m:   1 of 1 files downloaded.  \n"
     ]
    },
    {
     "name": "stdout",
     "output_type": "stream",
     "text": [
      "2025-04-22 16:34:07,318 - INFO - Downloaded logs_urs9du58:v0 to /scratch/downloaded_artifacts/logs_urs9du58:v0\n"
     ]
    },
    {
     "name": "stderr",
     "output_type": "stream",
     "text": [
      "\u001b[34m\u001b[1mwandb\u001b[0m:   1 of 1 files downloaded.  \n"
     ]
    },
    {
     "name": "stdout",
     "output_type": "stream",
     "text": [
      "2025-04-22 16:34:07,323 - INFO - Downloaded logs_myrinjzx:v0 to /scratch/downloaded_artifacts/logs_myrinjzx:v0\n",
      "2025-04-22 16:34:07,330 - INFO - Downloaded logs_www6fxko:v0 to /scratch/downloaded_artifacts/logs_www6fxko:v0\n"
     ]
    },
    {
     "name": "stderr",
     "output_type": "stream",
     "text": [
      "\u001b[34m\u001b[1mwandb\u001b[0m:   1 of 1 files downloaded.  \n"
     ]
    },
    {
     "name": "stdout",
     "output_type": "stream",
     "text": [
      "2025-04-22 16:34:07,340 - INFO - Downloaded logs_kfxx0pxr:v0 to /scratch/downloaded_artifacts/logs_kfxx0pxr:v0\n"
     ]
    },
    {
     "name": "stderr",
     "output_type": "stream",
     "text": [
      "\u001b[34m\u001b[1mwandb\u001b[0m:   1 of 1 files downloaded.  \n"
     ]
    },
    {
     "name": "stdout",
     "output_type": "stream",
     "text": [
      "2025-04-22 16:34:07,535 - INFO - Downloaded logs_wyvbbyhp:v0 to /scratch/downloaded_artifacts/logs_wyvbbyhp:v0\n"
     ]
    },
    {
     "name": "stderr",
     "output_type": "stream",
     "text": [
      "\u001b[34m\u001b[1mwandb\u001b[0m:   1 of 1 files downloaded.  \n"
     ]
    },
    {
     "name": "stdout",
     "output_type": "stream",
     "text": [
      "2025-04-22 16:34:07,601 - INFO - Downloaded logs_ixnmf1su:v0 to /scratch/downloaded_artifacts/logs_ixnmf1su:v0\n"
     ]
    },
    {
     "name": "stderr",
     "output_type": "stream",
     "text": [
      "\u001b[34m\u001b[1mwandb\u001b[0m:   1 of 1 files downloaded.  \n"
     ]
    },
    {
     "name": "stdout",
     "output_type": "stream",
     "text": [
      "2025-04-22 16:34:08,350 - INFO - Downloaded logs_01m9sip9:v0 to /scratch/downloaded_artifacts/logs_01m9sip9:v0\n"
     ]
    },
    {
     "name": "stderr",
     "output_type": "stream",
     "text": [
      "\u001b[34m\u001b[1mwandb\u001b[0m:   1 of 1 files downloaded.  \n"
     ]
    },
    {
     "name": "stdout",
     "output_type": "stream",
     "text": [
      "2025-04-22 16:34:08,780 - INFO - Downloaded logs_lxqcfyfn:v0 to /scratch/downloaded_artifacts/logs_lxqcfyfn:v0\n"
     ]
    },
    {
     "name": "stderr",
     "output_type": "stream",
     "text": [
      "\u001b[34m\u001b[1mwandb\u001b[0m:   1 of 1 files downloaded.  \n"
     ]
    },
    {
     "name": "stdout",
     "output_type": "stream",
     "text": [
      "2025-04-22 16:34:08,803 - INFO - Downloaded logs_518f2o9s:v0 to /scratch/downloaded_artifacts/logs_518f2o9s:v0\n"
     ]
    },
    {
     "name": "stderr",
     "output_type": "stream",
     "text": [
      "\u001b[34m\u001b[1mwandb\u001b[0m:   1 of 1 files downloaded.  \n"
     ]
    },
    {
     "name": "stdout",
     "output_type": "stream",
     "text": [
      "2025-04-22 16:34:08,819 - INFO - Downloaded logs_26xrwgg0:v0 to /scratch/downloaded_artifacts/logs_26xrwgg0:v0\n"
     ]
    },
    {
     "name": "stderr",
     "output_type": "stream",
     "text": [
      "\u001b[34m\u001b[1mwandb\u001b[0m:   1 of 1 files downloaded.  \n"
     ]
    },
    {
     "name": "stdout",
     "output_type": "stream",
     "text": [
      "2025-04-22 16:34:08,832 - INFO - Downloaded logs_o9mjb1co:v0 to /scratch/downloaded_artifacts/logs_o9mjb1co:v0\n"
     ]
    },
    {
     "name": "stderr",
     "output_type": "stream",
     "text": [
      "\u001b[34m\u001b[1mwandb\u001b[0m:   1 of 1 files downloaded.  \n"
     ]
    },
    {
     "name": "stdout",
     "output_type": "stream",
     "text": [
      "2025-04-22 16:34:08,907 - INFO - Downloaded logs_4u0b2mjg:v0 to /scratch/downloaded_artifacts/logs_4u0b2mjg:v0\n"
     ]
    },
    {
     "name": "stderr",
     "output_type": "stream",
     "text": [
      "\u001b[34m\u001b[1mwandb\u001b[0m:   1 of 1 files downloaded.  \n"
     ]
    },
    {
     "name": "stdout",
     "output_type": "stream",
     "text": [
      "2025-04-22 16:34:08,918 - INFO - Downloaded logs_gsu2n3ns:v0 to /scratch/downloaded_artifacts/logs_gsu2n3ns:v0\n"
     ]
    },
    {
     "name": "stderr",
     "output_type": "stream",
     "text": [
      "\u001b[34m\u001b[1mwandb\u001b[0m:   1 of 1 files downloaded.  \n",
      "\u001b[34m\u001b[1mwandb\u001b[0m:   1 of 1 files downloaded.  \n"
     ]
    },
    {
     "name": "stdout",
     "output_type": "stream",
     "text": [
      "2025-04-22 16:34:08,921 - INFO - Downloaded logs_gnuh7cnn:v0 to /scratch/downloaded_artifacts/logs_gnuh7cnn:v0\n",
      "2025-04-22 16:34:08,931 - INFO - Downloaded logs_t98u71mp:v0 to /scratch/downloaded_artifacts/logs_t98u71mp:v0\n"
     ]
    },
    {
     "name": "stderr",
     "output_type": "stream",
     "text": [
      "\u001b[34m\u001b[1mwandb\u001b[0m:   1 of 1 files downloaded.  \n",
      "\u001b[34m\u001b[1mwandb\u001b[0m:   1 of 1 files downloaded.  \n"
     ]
    },
    {
     "name": "stdout",
     "output_type": "stream",
     "text": [
      "2025-04-22 16:34:08,948 - INFO - Downloaded logs_4ltcpnfu:v0 to /scratch/downloaded_artifacts/logs_4ltcpnfu:v0\n"
     ]
    },
    {
     "name": "stderr",
     "output_type": "stream",
     "text": [
      "\u001b[34m\u001b[1mwandb\u001b[0m:   1 of 1 files downloaded.  \n",
      "\u001b[34m\u001b[1mwandb\u001b[0m:   1 of 1 files downloaded.  \n"
     ]
    },
    {
     "name": "stdout",
     "output_type": "stream",
     "text": [
      "2025-04-22 16:34:08,958 - INFO - Downloaded logs_woh3bkck:v0 to /scratch/downloaded_artifacts/logs_woh3bkck:v0\n"
     ]
    },
    {
     "name": "stderr",
     "output_type": "stream",
     "text": [
      "\u001b[34m\u001b[1mwandb\u001b[0m:   1 of 1 files downloaded.  \n"
     ]
    },
    {
     "name": "stdout",
     "output_type": "stream",
     "text": [
      "2025-04-22 16:34:08,962 - INFO - Downloaded logs_td63kykd:v0 to /scratch/downloaded_artifacts/logs_td63kykd:v0\n",
      "2025-04-22 16:34:08,964 - INFO - Downloaded logs_b2fjbj9x:v0 to /scratch/downloaded_artifacts/logs_b2fjbj9x:v0\n"
     ]
    },
    {
     "name": "stderr",
     "output_type": "stream",
     "text": [
      "\u001b[34m\u001b[1mwandb\u001b[0m:   1 of 1 files downloaded.  \n"
     ]
    },
    {
     "name": "stdout",
     "output_type": "stream",
     "text": [
      "2025-04-22 16:34:09,032 - INFO - Downloaded logs_rggzdw0s:v0 to /scratch/downloaded_artifacts/logs_rggzdw0s:v0\n"
     ]
    },
    {
     "name": "stderr",
     "output_type": "stream",
     "text": [
      "\u001b[34m\u001b[1mwandb\u001b[0m:   1 of 1 files downloaded.  \n"
     ]
    },
    {
     "name": "stdout",
     "output_type": "stream",
     "text": [
      "2025-04-22 16:34:09,055 - INFO - Downloaded logs_i6yif68v:v0 to /scratch/downloaded_artifacts/logs_i6yif68v:v0\n",
      "2025-04-22 16:34:09,059 - INFO - Downloaded logs_s5jq81z5:v0 to /scratch/downloaded_artifacts/logs_s5jq81z5:v0\n"
     ]
    },
    {
     "name": "stderr",
     "output_type": "stream",
     "text": [
      "\u001b[34m\u001b[1mwandb\u001b[0m:   1 of 1 files downloaded.  \n"
     ]
    },
    {
     "name": "stdout",
     "output_type": "stream",
     "text": [
      "2025-04-22 16:34:09,068 - INFO - Downloaded logs_fbuxfode:v0 to /scratch/downloaded_artifacts/logs_fbuxfode:v0\n"
     ]
    },
    {
     "name": "stderr",
     "output_type": "stream",
     "text": [
      "\u001b[34m\u001b[1mwandb\u001b[0m:   1 of 1 files downloaded.  \n"
     ]
    },
    {
     "name": "stdout",
     "output_type": "stream",
     "text": [
      "2025-04-22 16:34:09,088 - INFO - Downloaded logs_xvznp81n:v0 to /scratch/downloaded_artifacts/logs_xvznp81n:v0\n"
     ]
    },
    {
     "name": "stderr",
     "output_type": "stream",
     "text": [
      "\u001b[34m\u001b[1mwandb\u001b[0m:   1 of 1 files downloaded.  \n"
     ]
    },
    {
     "name": "stdout",
     "output_type": "stream",
     "text": [
      "2025-04-22 16:34:09,143 - INFO - Downloaded logs_0gwp7ew1:v0 to /scratch/downloaded_artifacts/logs_0gwp7ew1:v0\n"
     ]
    },
    {
     "name": "stderr",
     "output_type": "stream",
     "text": [
      "\u001b[34m\u001b[1mwandb\u001b[0m:   1 of 1 files downloaded.  \n"
     ]
    },
    {
     "name": "stdout",
     "output_type": "stream",
     "text": [
      "2025-04-22 16:34:09,626 - INFO - Downloaded logs_zwdmpnsl:v0 to /scratch/downloaded_artifacts/logs_zwdmpnsl:v0\n"
     ]
    },
    {
     "name": "stderr",
     "output_type": "stream",
     "text": [
      "\u001b[34m\u001b[1mwandb\u001b[0m:   1 of 1 files downloaded.  \n"
     ]
    },
    {
     "name": "stdout",
     "output_type": "stream",
     "text": [
      "2025-04-22 16:34:10,432 - INFO - Downloaded logs_1oe9go0u:v0 to /scratch/downloaded_artifacts/logs_1oe9go0u:v0\n"
     ]
    },
    {
     "name": "stderr",
     "output_type": "stream",
     "text": [
      "\u001b[34m\u001b[1mwandb\u001b[0m:   1 of 1 files downloaded.  \n"
     ]
    },
    {
     "name": "stdout",
     "output_type": "stream",
     "text": [
      "2025-04-22 16:34:10,460 - INFO - Downloaded logs_3w7ftuuj:v0 to /scratch/downloaded_artifacts/logs_3w7ftuuj:v0\n"
     ]
    },
    {
     "name": "stderr",
     "output_type": "stream",
     "text": [
      "\u001b[34m\u001b[1mwandb\u001b[0m:   1 of 1 files downloaded.  \n"
     ]
    },
    {
     "name": "stdout",
     "output_type": "stream",
     "text": [
      "2025-04-22 16:34:10,484 - INFO - Downloaded logs_3mt1umq4:v0 to /scratch/downloaded_artifacts/logs_3mt1umq4:v0\n"
     ]
    },
    {
     "name": "stderr",
     "output_type": "stream",
     "text": [
      "\u001b[34m\u001b[1mwandb\u001b[0m:   1 of 1 files downloaded.  \n"
     ]
    },
    {
     "name": "stdout",
     "output_type": "stream",
     "text": [
      "2025-04-22 16:34:10,522 - INFO - Downloaded logs_4j5zsroq:v0 to /scratch/downloaded_artifacts/logs_4j5zsroq:v0\n"
     ]
    },
    {
     "name": "stderr",
     "output_type": "stream",
     "text": [
      "\u001b[34m\u001b[1mwandb\u001b[0m:   1 of 1 files downloaded.  \n"
     ]
    },
    {
     "name": "stdout",
     "output_type": "stream",
     "text": [
      "2025-04-22 16:34:10,548 - INFO - Downloaded logs_5x5nvsy1:v0 to /scratch/downloaded_artifacts/logs_5x5nvsy1:v0\n"
     ]
    },
    {
     "name": "stderr",
     "output_type": "stream",
     "text": [
      "\u001b[34m\u001b[1mwandb\u001b[0m:   1 of 1 files downloaded.  \n",
      "\u001b[34m\u001b[1mwandb\u001b[0m:   1 of 1 files downloaded.  \n"
     ]
    },
    {
     "name": "stdout",
     "output_type": "stream",
     "text": [
      "2025-04-22 16:34:10,559 - INFO - Downloaded logs_izh01z9f:v0 to /scratch/downloaded_artifacts/logs_izh01z9f:v0\n",
      "2025-04-22 16:34:10,564 - INFO - Downloaded logs_htp2iuxx:v0 to /scratch/downloaded_artifacts/logs_htp2iuxx:v0\n"
     ]
    },
    {
     "name": "stderr",
     "output_type": "stream",
     "text": [
      "\u001b[34m\u001b[1mwandb\u001b[0m:   1 of 1 files downloaded.  \n"
     ]
    },
    {
     "name": "stdout",
     "output_type": "stream",
     "text": [
      "2025-04-22 16:34:10,595 - INFO - Downloaded logs_yqf1t51p:v0 to /scratch/downloaded_artifacts/logs_yqf1t51p:v0\n"
     ]
    },
    {
     "name": "stderr",
     "output_type": "stream",
     "text": [
      "\u001b[34m\u001b[1mwandb\u001b[0m:   1 of 1 files downloaded.  \n"
     ]
    },
    {
     "name": "stdout",
     "output_type": "stream",
     "text": [
      "2025-04-22 16:34:10,609 - INFO - Downloaded logs_vvjp1c7n:v0 to /scratch/downloaded_artifacts/logs_vvjp1c7n:v0\n"
     ]
    },
    {
     "name": "stderr",
     "output_type": "stream",
     "text": [
      "\u001b[34m\u001b[1mwandb\u001b[0m:   1 of 1 files downloaded.  \n",
      "\u001b[34m\u001b[1mwandb\u001b[0m:   1 of 1 files downloaded.  \n",
      "\u001b[34m\u001b[1mwandb\u001b[0m:   1 of 1 files downloaded.  \n"
     ]
    },
    {
     "name": "stdout",
     "output_type": "stream",
     "text": [
      "2025-04-22 16:34:10,619 - INFO - Downloaded logs_m6euacd7:v0 to /scratch/downloaded_artifacts/logs_m6euacd7:v0\n",
      "2025-04-22 16:34:10,621 - INFO - Downloaded logs_wbtp7c7t:v0 to /scratch/downloaded_artifacts/logs_wbtp7c7t:v0\n"
     ]
    },
    {
     "name": "stderr",
     "output_type": "stream",
     "text": [
      "\u001b[34m\u001b[1mwandb\u001b[0m:   1 of 1 files downloaded.  \n",
      "\u001b[34m\u001b[1mwandb\u001b[0m:   1 of 1 files downloaded.  \n"
     ]
    },
    {
     "name": "stdout",
     "output_type": "stream",
     "text": [
      "2025-04-22 16:34:10,621 - INFO - Downloaded logs_g6rfutwb:v0 to /scratch/downloaded_artifacts/logs_g6rfutwb:v0\n"
     ]
    },
    {
     "name": "stderr",
     "output_type": "stream",
     "text": [
      "\u001b[34m\u001b[1mwandb\u001b[0m:   1 of 1 files downloaded.  \n"
     ]
    },
    {
     "name": "stdout",
     "output_type": "stream",
     "text": [
      "2025-04-22 16:34:10,630 - INFO - Downloaded logs_4w4d776l:v0 to /scratch/downloaded_artifacts/logs_4w4d776l:v0\n"
     ]
    },
    {
     "name": "stderr",
     "output_type": "stream",
     "text": [
      "\u001b[34m\u001b[1mwandb\u001b[0m:   1 of 1 files downloaded.  \n"
     ]
    },
    {
     "name": "stdout",
     "output_type": "stream",
     "text": [
      "2025-04-22 16:34:10,630 - INFO - Downloaded logs_zfv8n3j7:v0 to /scratch/downloaded_artifacts/logs_zfv8n3j7:v0\n"
     ]
    },
    {
     "name": "stderr",
     "output_type": "stream",
     "text": [
      "\u001b[34m\u001b[1mwandb\u001b[0m:   1 of 1 files downloaded.  \n"
     ]
    },
    {
     "name": "stdout",
     "output_type": "stream",
     "text": [
      "2025-04-22 16:34:10,633 - INFO - Downloaded logs_sz71ey26:v0 to /scratch/downloaded_artifacts/logs_sz71ey26:v0\n",
      "2025-04-22 16:34:10,634 - INFO - Downloaded logs_jmt073jr:v0 to /scratch/downloaded_artifacts/logs_jmt073jr:v0\n"
     ]
    },
    {
     "name": "stderr",
     "output_type": "stream",
     "text": [
      "\u001b[34m\u001b[1mwandb\u001b[0m:   1 of 1 files downloaded.  \n"
     ]
    },
    {
     "name": "stdout",
     "output_type": "stream",
     "text": [
      "2025-04-22 16:34:10,634 - INFO - Downloaded logs_i0sfg1aw:v0 to /scratch/downloaded_artifacts/logs_i0sfg1aw:v0\n",
      "2025-04-22 16:34:10,658 - INFO - Downloaded logs_es9nqbvx:v0 to /scratch/downloaded_artifacts/logs_es9nqbvx:v0\n"
     ]
    },
    {
     "name": "stderr",
     "output_type": "stream",
     "text": [
      "\u001b[34m\u001b[1mwandb\u001b[0m: \u001b[32m\u001b[41mERROR\u001b[0m Error while calling W&B API: rate limit exceeded (<Response [429]>)\n",
      "\u001b[34m\u001b[1mwandb\u001b[0m: \u001b[32m\u001b[41mERROR\u001b[0m Error while calling W&B API: rate limit exceeded (<Response [429]>)\n",
      "\u001b[34m\u001b[1mwandb\u001b[0m: \u001b[32m\u001b[41mERROR\u001b[0m Error while calling W&B API: rate limit exceeded (<Response [429]>)\n",
      "\u001b[34m\u001b[1mwandb\u001b[0m: \u001b[32m\u001b[41mERROR\u001b[0m Error while calling W&B API: rate limit exceeded (<Response [429]>)\n",
      "\u001b[34m\u001b[1mwandb\u001b[0m: \u001b[32m\u001b[41mERROR\u001b[0m Error while calling W&B API: rate limit exceeded (<Response [429]>)\n",
      "\u001b[34m\u001b[1mwandb\u001b[0m: \u001b[32m\u001b[41mERROR\u001b[0m Error while calling W&B API: rate limit exceeded (<Response [429]>)\n",
      "\u001b[34m\u001b[1mwandb\u001b[0m: \u001b[32m\u001b[41mERROR\u001b[0m Error while calling W&B API: rate limit exceeded (<Response [429]>)\n",
      "\u001b[34m\u001b[1mwandb\u001b[0m: \u001b[32m\u001b[41mERROR\u001b[0m Error while calling W&B API: rate limit exceeded (<Response [429]>)\n",
      "\u001b[34m\u001b[1mwandb\u001b[0m: \u001b[32m\u001b[41mERROR\u001b[0m Error while calling W&B API: rate limit exceeded (<Response [429]>)\n",
      "\u001b[34m\u001b[1mwandb\u001b[0m: \u001b[32m\u001b[41mERROR\u001b[0m Error while calling W&B API: rate limit exceeded (<Response [429]>)\n",
      "\u001b[34m\u001b[1mwandb\u001b[0m: \u001b[32m\u001b[41mERROR\u001b[0m Error while calling W&B API: rate limit exceeded (<Response [429]>)\n",
      "\u001b[34m\u001b[1mwandb\u001b[0m: \u001b[32m\u001b[41mERROR\u001b[0m Error while calling W&B API: rate limit exceeded (<Response [429]>)\n",
      "\u001b[34m\u001b[1mwandb\u001b[0m: \u001b[32m\u001b[41mERROR\u001b[0m Error while calling W&B API: rate limit exceeded (<Response [429]>)\n",
      "\u001b[34m\u001b[1mwandb\u001b[0m: \u001b[32m\u001b[41mERROR\u001b[0m Error while calling W&B API: rate limit exceeded (<Response [429]>)\n",
      "\u001b[34m\u001b[1mwandb\u001b[0m: \u001b[32m\u001b[41mERROR\u001b[0m Error while calling W&B API: rate limit exceeded (<Response [429]>)\n",
      "\u001b[34m\u001b[1mwandb\u001b[0m: Network error (HTTPError), entering retry loop.\n",
      "\u001b[34m\u001b[1mwandb\u001b[0m: \u001b[32m\u001b[41mERROR\u001b[0m Error while calling W&B API: rate limit exceeded (<Response [429]>)\n",
      "\u001b[34m\u001b[1mwandb\u001b[0m: Network error (HTTPError), entering retry loop.\n",
      "\u001b[34m\u001b[1mwandb\u001b[0m: \u001b[32m\u001b[41mERROR\u001b[0m Error while calling W&B API: rate limit exceeded (<Response [429]>)\n",
      "\u001b[34m\u001b[1mwandb\u001b[0m: Network error (HTTPError), entering retry loop.\n",
      "\u001b[34m\u001b[1mwandb\u001b[0m: \u001b[32m\u001b[41mERROR\u001b[0m Error while calling W&B API: rate limit exceeded (<Response [429]>)\n",
      "\u001b[34m\u001b[1mwandb\u001b[0m: Network error (HTTPError), entering retry loop.\n",
      "\u001b[34m\u001b[1mwandb\u001b[0m: \u001b[32m\u001b[41mERROR\u001b[0m Error while calling W&B API: rate limit exceeded (<Response [429]>)\n",
      "\u001b[34m\u001b[1mwandb\u001b[0m: Network error (HTTPError), entering retry loop.\n",
      "\u001b[34m\u001b[1mwandb\u001b[0m: \u001b[32m\u001b[41mERROR\u001b[0m Error while calling W&B API: rate limit exceeded (<Response [429]>)\n",
      "\u001b[34m\u001b[1mwandb\u001b[0m: Network error (HTTPError), entering retry loop.\n",
      "\u001b[34m\u001b[1mwandb\u001b[0m: \u001b[32m\u001b[41mERROR\u001b[0m Error while calling W&B API: rate limit exceeded (<Response [429]>)\n",
      "\u001b[34m\u001b[1mwandb\u001b[0m: Network error (HTTPError), entering retry loop.\n",
      "\u001b[34m\u001b[1mwandb\u001b[0m:   1 of 1 files downloaded.  \n"
     ]
    },
    {
     "name": "stdout",
     "output_type": "stream",
     "text": [
      "2025-04-22 16:34:16,742 - INFO - Downloaded logs_kx8umaqi:v0 to /scratch/downloaded_artifacts/logs_kx8umaqi:v0\n"
     ]
    },
    {
     "name": "stderr",
     "output_type": "stream",
     "text": [
      "\u001b[34m\u001b[1mwandb\u001b[0m:   1 of 1 files downloaded.  \n"
     ]
    },
    {
     "name": "stdout",
     "output_type": "stream",
     "text": [
      "2025-04-22 16:34:17,636 - INFO - Downloaded logs_juko4qx2:v0 to /scratch/downloaded_artifacts/logs_juko4qx2:v0\n"
     ]
    },
    {
     "name": "stderr",
     "output_type": "stream",
     "text": [
      "\u001b[34m\u001b[1mwandb\u001b[0m:   1 of 1 files downloaded.  \n"
     ]
    },
    {
     "name": "stdout",
     "output_type": "stream",
     "text": [
      "2025-04-22 16:34:18,453 - INFO - Downloaded logs_oc02a8a2:v0 to /scratch/downloaded_artifacts/logs_oc02a8a2:v0\n"
     ]
    },
    {
     "name": "stderr",
     "output_type": "stream",
     "text": [
      "\u001b[34m\u001b[1mwandb\u001b[0m:   1 of 1 files downloaded.  \n"
     ]
    },
    {
     "name": "stdout",
     "output_type": "stream",
     "text": [
      "2025-04-22 16:34:18,765 - INFO - Downloaded logs_hgpsn4w8:v0 to /scratch/downloaded_artifacts/logs_hgpsn4w8:v0\n"
     ]
    },
    {
     "name": "stderr",
     "output_type": "stream",
     "text": [
      "\u001b[34m\u001b[1mwandb\u001b[0m:   1 of 1 files downloaded.  \n"
     ]
    },
    {
     "name": "stdout",
     "output_type": "stream",
     "text": [
      "2025-04-22 16:34:18,817 - INFO - Downloaded logs_3eetl0wi:v0 to /scratch/downloaded_artifacts/logs_3eetl0wi:v0\n"
     ]
    },
    {
     "name": "stderr",
     "output_type": "stream",
     "text": [
      "\u001b[34m\u001b[1mwandb\u001b[0m:   1 of 1 files downloaded.  \n"
     ]
    },
    {
     "name": "stdout",
     "output_type": "stream",
     "text": [
      "2025-04-22 16:34:18,993 - INFO - Downloaded logs_gmeg3oaw:v0 to /scratch/downloaded_artifacts/logs_gmeg3oaw:v0\n"
     ]
    },
    {
     "name": "stderr",
     "output_type": "stream",
     "text": [
      "\u001b[34m\u001b[1mwandb\u001b[0m:   1 of 1 files downloaded.  \n"
     ]
    },
    {
     "name": "stdout",
     "output_type": "stream",
     "text": [
      "2025-04-22 16:34:19,147 - INFO - Downloaded logs_5ygevhp2:v0 to /scratch/downloaded_artifacts/logs_5ygevhp2:v0\n"
     ]
    },
    {
     "name": "stderr",
     "output_type": "stream",
     "text": [
      "\u001b[34m\u001b[1mwandb\u001b[0m:   1 of 1 files downloaded.  \n"
     ]
    },
    {
     "name": "stdout",
     "output_type": "stream",
     "text": [
      "2025-04-22 16:34:19,218 - INFO - Downloaded logs_iw5gartv:v0 to /scratch/downloaded_artifacts/logs_iw5gartv:v0\n"
     ]
    },
    {
     "name": "stderr",
     "output_type": "stream",
     "text": [
      "\u001b[34m\u001b[1mwandb\u001b[0m:   1 of 1 files downloaded.  \n"
     ]
    },
    {
     "name": "stdout",
     "output_type": "stream",
     "text": [
      "2025-04-22 16:34:19,292 - INFO - Downloaded logs_v5be0b6u:v0 to /scratch/downloaded_artifacts/logs_v5be0b6u:v0\n"
     ]
    },
    {
     "name": "stderr",
     "output_type": "stream",
     "text": [
      "\u001b[34m\u001b[1mwandb\u001b[0m:   1 of 1 files downloaded.  \n"
     ]
    },
    {
     "name": "stdout",
     "output_type": "stream",
     "text": [
      "2025-04-22 16:34:19,313 - INFO - Downloaded logs_l5rke2sy:v0 to /scratch/downloaded_artifacts/logs_l5rke2sy:v0\n"
     ]
    },
    {
     "name": "stderr",
     "output_type": "stream",
     "text": [
      "\u001b[34m\u001b[1mwandb\u001b[0m:   1 of 1 files downloaded.  \n"
     ]
    },
    {
     "name": "stdout",
     "output_type": "stream",
     "text": [
      "2025-04-22 16:34:19,326 - INFO - Downloaded logs_2w57gwd2:v0 to /scratch/downloaded_artifacts/logs_2w57gwd2:v0\n"
     ]
    },
    {
     "name": "stderr",
     "output_type": "stream",
     "text": [
      "\u001b[34m\u001b[1mwandb\u001b[0m:   1 of 1 files downloaded.  \n"
     ]
    },
    {
     "name": "stdout",
     "output_type": "stream",
     "text": [
      "2025-04-22 16:34:19,543 - INFO - Downloaded logs_sfwe1xkh:v0 to /scratch/downloaded_artifacts/logs_sfwe1xkh:v0\n"
     ]
    },
    {
     "name": "stderr",
     "output_type": "stream",
     "text": [
      "\u001b[34m\u001b[1mwandb\u001b[0m:   1 of 1 files downloaded.  \n"
     ]
    },
    {
     "name": "stdout",
     "output_type": "stream",
     "text": [
      "2025-04-22 16:34:19,653 - INFO - Downloaded logs_adnogggf:v0 to /scratch/downloaded_artifacts/logs_adnogggf:v0\n"
     ]
    },
    {
     "name": "stderr",
     "output_type": "stream",
     "text": [
      "\u001b[34m\u001b[1mwandb\u001b[0m:   1 of 1 files downloaded.  \n"
     ]
    },
    {
     "name": "stdout",
     "output_type": "stream",
     "text": [
      "2025-04-22 16:34:20,411 - INFO - Downloaded logs_3mbfvbp4:v0 to /scratch/downloaded_artifacts/logs_3mbfvbp4:v0\n"
     ]
    },
    {
     "name": "stderr",
     "output_type": "stream",
     "text": [
      "\u001b[34m\u001b[1mwandb\u001b[0m:   1 of 1 files downloaded.  \n",
      "\u001b[34m\u001b[1mwandb\u001b[0m:   1 of 1 files downloaded.  \n"
     ]
    },
    {
     "name": "stdout",
     "output_type": "stream",
     "text": [
      "2025-04-22 16:34:20,510 - INFO - Downloaded logs_5fmz1k8s:v0 to /scratch/downloaded_artifacts/logs_5fmz1k8s:v0\n"
     ]
    },
    {
     "name": "stderr",
     "output_type": "stream",
     "text": [
      "\u001b[34m\u001b[1mwandb\u001b[0m:   1 of 1 files downloaded.  \n"
     ]
    },
    {
     "name": "stdout",
     "output_type": "stream",
     "text": [
      "2025-04-22 16:34:20,596 - INFO - Downloaded logs_vh2asfqt:v0 to /scratch/downloaded_artifacts/logs_vh2asfqt:v0\n",
      "2025-04-22 16:34:20,604 - INFO - Downloaded logs_3y7b34wl:v0 to /scratch/downloaded_artifacts/logs_3y7b34wl:v0\n"
     ]
    },
    {
     "name": "stderr",
     "output_type": "stream",
     "text": [
      "\u001b[34m\u001b[1mwandb\u001b[0m:   1 of 1 files downloaded.  \n",
      "\u001b[34m\u001b[1mwandb\u001b[0m:   1 of 1 files downloaded.  \n"
     ]
    },
    {
     "name": "stdout",
     "output_type": "stream",
     "text": [
      "2025-04-22 16:34:20,652 - INFO - Downloaded logs_etmyd14r:v0 to /scratch/downloaded_artifacts/logs_etmyd14r:v0\n"
     ]
    },
    {
     "name": "stderr",
     "output_type": "stream",
     "text": [
      "\u001b[34m\u001b[1mwandb\u001b[0m:   1 of 1 files downloaded.  \n"
     ]
    },
    {
     "name": "stdout",
     "output_type": "stream",
     "text": [
      "2025-04-22 16:34:20,708 - INFO - Downloaded logs_57c3gu6n:v0 to /scratch/downloaded_artifacts/logs_57c3gu6n:v0\n"
     ]
    },
    {
     "name": "stderr",
     "output_type": "stream",
     "text": [
      "\u001b[34m\u001b[1mwandb\u001b[0m:   1 of 1 files downloaded.  \n"
     ]
    },
    {
     "name": "stdout",
     "output_type": "stream",
     "text": [
      "2025-04-22 16:34:20,721 - INFO - Downloaded logs_fjwg09pi:v0 to /scratch/downloaded_artifacts/logs_fjwg09pi:v0\n"
     ]
    },
    {
     "name": "stderr",
     "output_type": "stream",
     "text": [
      "\u001b[34m\u001b[1mwandb\u001b[0m:   1 of 1 files downloaded.  \n",
      "\u001b[34m\u001b[1mwandb\u001b[0m:   1 of 1 files downloaded.  \n"
     ]
    },
    {
     "name": "stdout",
     "output_type": "stream",
     "text": [
      "2025-04-22 16:34:20,723 - INFO - Downloaded logs_2x9jggrg:v0 to /scratch/downloaded_artifacts/logs_2x9jggrg:v0\n",
      "2025-04-22 16:34:20,731 - INFO - Downloaded logs_ii4mxhvr:v0 to /scratch/downloaded_artifacts/logs_ii4mxhvr:v0\n",
      "2025-04-22 16:34:20,731 - INFO - Downloaded logs_5hhqlmsj:v0 to /scratch/downloaded_artifacts/logs_5hhqlmsj:v0\n"
     ]
    },
    {
     "name": "stderr",
     "output_type": "stream",
     "text": [
      "\u001b[34m\u001b[1mwandb\u001b[0m:   1 of 1 files downloaded.  \n"
     ]
    },
    {
     "name": "stdout",
     "output_type": "stream",
     "text": [
      "2025-04-22 16:34:20,783 - INFO - Downloaded logs_jtxuqhw4:v0 to /scratch/downloaded_artifacts/logs_jtxuqhw4:v0\n"
     ]
    },
    {
     "name": "stderr",
     "output_type": "stream",
     "text": [
      "\u001b[34m\u001b[1mwandb\u001b[0m:   1 of 1 files downloaded.  \n"
     ]
    },
    {
     "name": "stdout",
     "output_type": "stream",
     "text": [
      "2025-04-22 16:34:20,789 - INFO - Downloaded logs_4tcryl6n:v0 to /scratch/downloaded_artifacts/logs_4tcryl6n:v0\n"
     ]
    },
    {
     "name": "stderr",
     "output_type": "stream",
     "text": [
      "\u001b[34m\u001b[1mwandb\u001b[0m:   1 of 1 files downloaded.  \n",
      "\u001b[34m\u001b[1mwandb\u001b[0m:   1 of 1 files downloaded.  \n"
     ]
    },
    {
     "name": "stdout",
     "output_type": "stream",
     "text": [
      "2025-04-22 16:34:20,832 - INFO - Downloaded logs_t3g5pyim:v0 to /scratch/downloaded_artifacts/logs_t3g5pyim:v0\n",
      "2025-04-22 16:34:20,834 - INFO - Downloaded logs_e8e9bwj1:v0 to /scratch/downloaded_artifacts/logs_e8e9bwj1:v0\n"
     ]
    },
    {
     "name": "stderr",
     "output_type": "stream",
     "text": [
      "\u001b[34m\u001b[1mwandb\u001b[0m:   1 of 1 files downloaded.  \n",
      "\u001b[34m\u001b[1mwandb\u001b[0m:   1 of 1 files downloaded.  \n"
     ]
    },
    {
     "name": "stdout",
     "output_type": "stream",
     "text": [
      "2025-04-22 16:34:20,842 - INFO - Downloaded logs_8j8qrmws:v0 to /scratch/downloaded_artifacts/logs_8j8qrmws:v0\n",
      "2025-04-22 16:34:20,847 - INFO - Downloaded logs_6xezy8cb:v0 to /scratch/downloaded_artifacts/logs_6xezy8cb:v0\n"
     ]
    },
    {
     "name": "stderr",
     "output_type": "stream",
     "text": [
      "\u001b[34m\u001b[1mwandb\u001b[0m:   1 of 1 files downloaded.  \n"
     ]
    },
    {
     "name": "stdout",
     "output_type": "stream",
     "text": [
      "2025-04-22 16:34:20,854 - INFO - Downloaded logs_6l2v0xxl:v0 to /scratch/downloaded_artifacts/logs_6l2v0xxl:v0\n"
     ]
    },
    {
     "name": "stderr",
     "output_type": "stream",
     "text": [
      "\u001b[34m\u001b[1mwandb\u001b[0m:   1 of 1 files downloaded.  \n"
     ]
    },
    {
     "name": "stdout",
     "output_type": "stream",
     "text": [
      "2025-04-22 16:34:20,897 - INFO - Downloaded logs_8866snjo:v0 to /scratch/downloaded_artifacts/logs_8866snjo:v0\n"
     ]
    },
    {
     "name": "stderr",
     "output_type": "stream",
     "text": [
      "\u001b[34m\u001b[1mwandb\u001b[0m:   1 of 1 files downloaded.  \n"
     ]
    },
    {
     "name": "stdout",
     "output_type": "stream",
     "text": [
      "2025-04-22 16:34:21,127 - INFO - Downloaded logs_b38ukjoi:v0 to /scratch/downloaded_artifacts/logs_b38ukjoi:v0\n"
     ]
    },
    {
     "name": "stderr",
     "output_type": "stream",
     "text": [
      "\u001b[34m\u001b[1mwandb\u001b[0m:   1 of 1 files downloaded.  \n"
     ]
    },
    {
     "name": "stdout",
     "output_type": "stream",
     "text": [
      "2025-04-22 16:34:21,177 - INFO - Downloaded logs_cffx4t6l:v0 to /scratch/downloaded_artifacts/logs_cffx4t6l:v0\n"
     ]
    },
    {
     "name": "stderr",
     "output_type": "stream",
     "text": [
      "\u001b[34m\u001b[1mwandb\u001b[0m:   1 of 1 files downloaded.  \n"
     ]
    },
    {
     "name": "stdout",
     "output_type": "stream",
     "text": [
      "2025-04-22 16:34:21,821 - INFO - Downloaded logs_d03p4mne:v0 to /scratch/downloaded_artifacts/logs_d03p4mne:v0\n"
     ]
    },
    {
     "name": "stderr",
     "output_type": "stream",
     "text": [
      "\u001b[34m\u001b[1mwandb\u001b[0m:   1 of 1 files downloaded.  \n"
     ]
    },
    {
     "name": "stdout",
     "output_type": "stream",
     "text": [
      "2025-04-22 16:34:21,848 - INFO - Downloaded logs_nzxknfi1:v0 to /scratch/downloaded_artifacts/logs_nzxknfi1:v0\n"
     ]
    },
    {
     "name": "stderr",
     "output_type": "stream",
     "text": [
      "\u001b[34m\u001b[1mwandb\u001b[0m:   1 of 1 files downloaded.  \n"
     ]
    },
    {
     "name": "stdout",
     "output_type": "stream",
     "text": [
      "2025-04-22 16:34:21,857 - INFO - Downloaded logs_mq2nj5r9:v0 to /scratch/downloaded_artifacts/logs_mq2nj5r9:v0\n"
     ]
    },
    {
     "name": "stderr",
     "output_type": "stream",
     "text": [
      "\u001b[34m\u001b[1mwandb\u001b[0m:   1 of 1 files downloaded.  \n",
      "\u001b[34m\u001b[1mwandb\u001b[0m:   1 of 1 files downloaded.  \n"
     ]
    },
    {
     "name": "stdout",
     "output_type": "stream",
     "text": [
      "2025-04-22 16:34:21,877 - INFO - Downloaded logs_nth6z0xx:v0 to /scratch/downloaded_artifacts/logs_nth6z0xx:v0\n",
      "2025-04-22 16:34:21,879 - INFO - Downloaded logs_ossrvp5z:v0 to /scratch/downloaded_artifacts/logs_ossrvp5z:v0\n"
     ]
    },
    {
     "name": "stderr",
     "output_type": "stream",
     "text": [
      "\u001b[34m\u001b[1mwandb\u001b[0m:   1 of 1 files downloaded.  \n"
     ]
    },
    {
     "name": "stdout",
     "output_type": "stream",
     "text": [
      "2025-04-22 16:34:21,950 - INFO - Downloaded logs_l191rol9:v0 to /scratch/downloaded_artifacts/logs_l191rol9:v0\n"
     ]
    },
    {
     "name": "stderr",
     "output_type": "stream",
     "text": [
      "\u001b[34m\u001b[1mwandb\u001b[0m:   1 of 1 files downloaded.  \n"
     ]
    },
    {
     "name": "stdout",
     "output_type": "stream",
     "text": [
      "2025-04-22 16:34:21,997 - INFO - Downloaded logs_nwyjslbx:v0 to /scratch/downloaded_artifacts/logs_nwyjslbx:v0\n"
     ]
    },
    {
     "name": "stderr",
     "output_type": "stream",
     "text": [
      "\u001b[34m\u001b[1mwandb\u001b[0m:   1 of 1 files downloaded.  \n"
     ]
    },
    {
     "name": "stdout",
     "output_type": "stream",
     "text": [
      "2025-04-22 16:34:22,056 - INFO - Downloaded logs_pm4dyrqa:v0 to /scratch/downloaded_artifacts/logs_pm4dyrqa:v0\n"
     ]
    },
    {
     "name": "stderr",
     "output_type": "stream",
     "text": [
      "\u001b[34m\u001b[1mwandb\u001b[0m:   1 of 1 files downloaded.  \n"
     ]
    },
    {
     "name": "stdout",
     "output_type": "stream",
     "text": [
      "2025-04-22 16:34:22,143 - INFO - Downloaded logs_q34vpw4y:v0 to /scratch/downloaded_artifacts/logs_q34vpw4y:v0\n"
     ]
    },
    {
     "name": "stderr",
     "output_type": "stream",
     "text": [
      "\u001b[34m\u001b[1mwandb\u001b[0m:   1 of 1 files downloaded.  \n"
     ]
    },
    {
     "name": "stdout",
     "output_type": "stream",
     "text": [
      "2025-04-22 16:34:22,153 - INFO - Downloaded logs_lguo02ba:v0 to /scratch/downloaded_artifacts/logs_lguo02ba:v0\n"
     ]
    },
    {
     "name": "stderr",
     "output_type": "stream",
     "text": [
      "\u001b[34m\u001b[1mwandb\u001b[0m:   1 of 1 files downloaded.  \n"
     ]
    },
    {
     "name": "stdout",
     "output_type": "stream",
     "text": [
      "2025-04-22 16:34:22,163 - INFO - Downloaded logs_qq7ckhlr:v0 to /scratch/downloaded_artifacts/logs_qq7ckhlr:v0\n"
     ]
    },
    {
     "name": "stderr",
     "output_type": "stream",
     "text": [
      "\u001b[34m\u001b[1mwandb\u001b[0m:   1 of 1 files downloaded.  \n"
     ]
    },
    {
     "name": "stdout",
     "output_type": "stream",
     "text": [
      "2025-04-22 16:34:22,830 - INFO - Downloaded logs_szcj0fhl:v0 to /scratch/downloaded_artifacts/logs_szcj0fhl:v0\n"
     ]
    },
    {
     "name": "stderr",
     "output_type": "stream",
     "text": [
      "\u001b[34m\u001b[1mwandb\u001b[0m:   1 of 1 files downloaded.  \n"
     ]
    },
    {
     "name": "stdout",
     "output_type": "stream",
     "text": [
      "2025-04-22 16:34:23,131 - INFO - Downloaded logs_1k13v2a3:v0 to /scratch/downloaded_artifacts/logs_1k13v2a3:v0\n"
     ]
    },
    {
     "name": "stderr",
     "output_type": "stream",
     "text": [
      "\u001b[34m\u001b[1mwandb\u001b[0m:   1 of 1 files downloaded.  \n",
      "\u001b[34m\u001b[1mwandb\u001b[0m:   1 of 1 files downloaded.  \n"
     ]
    },
    {
     "name": "stdout",
     "output_type": "stream",
     "text": [
      "2025-04-22 16:34:23,143 - INFO - Downloaded logs_sten45u5:v0 to /scratch/downloaded_artifacts/logs_sten45u5:v0\n",
      "2025-04-22 16:34:23,144 - INFO - Downloaded logs_1205dl2b:v0 to /scratch/downloaded_artifacts/logs_1205dl2b:v0\n"
     ]
    },
    {
     "name": "stderr",
     "output_type": "stream",
     "text": [
      "\u001b[34m\u001b[1mwandb\u001b[0m:   1 of 1 files downloaded.  \n",
      "\u001b[34m\u001b[1mwandb\u001b[0m:   1 of 1 files downloaded.  \n"
     ]
    },
    {
     "name": "stdout",
     "output_type": "stream",
     "text": [
      "2025-04-22 16:34:23,167 - INFO - Downloaded logs_9bwe5l78:v0 to /scratch/downloaded_artifacts/logs_9bwe5l78:v0\n",
      "2025-04-22 16:34:23,169 - INFO - Downloaded logs_44ukcd3r:v0 to /scratch/downloaded_artifacts/logs_44ukcd3r:v0\n"
     ]
    },
    {
     "name": "stderr",
     "output_type": "stream",
     "text": [
      "\u001b[34m\u001b[1mwandb\u001b[0m:   1 of 1 files downloaded.  \n"
     ]
    },
    {
     "name": "stdout",
     "output_type": "stream",
     "text": [
      "2025-04-22 16:34:23,174 - INFO - Downloaded logs_qquxf26l:v0 to /scratch/downloaded_artifacts/logs_qquxf26l:v0\n"
     ]
    },
    {
     "name": "stderr",
     "output_type": "stream",
     "text": [
      "\u001b[34m\u001b[1mwandb\u001b[0m:   1 of 1 files downloaded.  \n",
      "\u001b[34m\u001b[1mwandb\u001b[0m:   1 of 1 files downloaded.  \n"
     ]
    },
    {
     "name": "stdout",
     "output_type": "stream",
     "text": [
      "2025-04-22 16:34:23,192 - INFO - Downloaded logs_tbq6wyvr:v0 to /scratch/downloaded_artifacts/logs_tbq6wyvr:v0\n",
      "2025-04-22 16:34:23,194 - INFO - Downloaded logs_bqiqeh7w:v0 to /scratch/downloaded_artifacts/logs_bqiqeh7w:v0\n"
     ]
    },
    {
     "name": "stderr",
     "output_type": "stream",
     "text": [
      "\u001b[34m\u001b[1mwandb\u001b[0m:   1 of 1 files downloaded.  \n"
     ]
    },
    {
     "name": "stdout",
     "output_type": "stream",
     "text": [
      "2025-04-22 16:34:23,697 - INFO - Downloaded logs_jx7b71k0:v0 to /scratch/downloaded_artifacts/logs_jx7b71k0:v0\n"
     ]
    },
    {
     "name": "stderr",
     "output_type": "stream",
     "text": [
      "\u001b[34m\u001b[1mwandb\u001b[0m:   1 of 1 files downloaded.  \n",
      "\u001b[34m\u001b[1mwandb\u001b[0m:   1 of 1 files downloaded.  \n"
     ]
    },
    {
     "name": "stdout",
     "output_type": "stream",
     "text": [
      "2025-04-22 16:34:23,827 - INFO - Downloaded logs_ljfwstvi:v0 to /scratch/downloaded_artifacts/logs_ljfwstvi:v0\n",
      "2025-04-22 16:34:23,827 - INFO - Downloaded logs_dm1r29xa:v0 to /scratch/downloaded_artifacts/logs_dm1r29xa:v0\n"
     ]
    },
    {
     "name": "stderr",
     "output_type": "stream",
     "text": [
      "\u001b[34m\u001b[1mwandb\u001b[0m:   1 of 1 files downloaded.  \n"
     ]
    },
    {
     "name": "stdout",
     "output_type": "stream",
     "text": [
      "2025-04-22 16:34:23,829 - INFO - Downloaded logs_kg3z5lsx:v0 to /scratch/downloaded_artifacts/logs_kg3z5lsx:v0\n"
     ]
    },
    {
     "name": "stderr",
     "output_type": "stream",
     "text": [
      "\u001b[34m\u001b[1mwandb\u001b[0m:   1 of 1 files downloaded.  \n"
     ]
    },
    {
     "name": "stdout",
     "output_type": "stream",
     "text": [
      "2025-04-22 16:34:23,948 - INFO - Downloaded logs_it9h90ny:v0 to /scratch/downloaded_artifacts/logs_it9h90ny:v0\n"
     ]
    },
    {
     "name": "stderr",
     "output_type": "stream",
     "text": [
      "\u001b[34m\u001b[1mwandb\u001b[0m:   1 of 1 files downloaded.  \n",
      "\u001b[34m\u001b[1mwandb\u001b[0m:   1 of 1 files downloaded.  \n"
     ]
    },
    {
     "name": "stdout",
     "output_type": "stream",
     "text": [
      "2025-04-22 16:34:23,950 - INFO - Downloaded logs_i10ljwup:v0 to /scratch/downloaded_artifacts/logs_i10ljwup:v0\n",
      "2025-04-22 16:34:23,951 - INFO - Downloaded logs_f654x1mp:v0 to /scratch/downloaded_artifacts/logs_f654x1mp:v0\n"
     ]
    },
    {
     "name": "stderr",
     "output_type": "stream",
     "text": [
      "\u001b[34m\u001b[1mwandb\u001b[0m:   1 of 1 files downloaded.  \n",
      "\u001b[34m\u001b[1mwandb\u001b[0m:   1 of 1 files downloaded.  \n"
     ]
    },
    {
     "name": "stdout",
     "output_type": "stream",
     "text": [
      "2025-04-22 16:34:23,953 - INFO - Downloaded logs_f9w5xuts:v0 to /scratch/downloaded_artifacts/logs_f9w5xuts:v0\n",
      "2025-04-22 16:34:23,953 - INFO - Downloaded logs_i4dr39wx:v0 to /scratch/downloaded_artifacts/logs_i4dr39wx:v0\n"
     ]
    }
   ],
   "source": [
    "with ThreadPoolExecutor(max_workers=max_download_workers) as executor:\n",
    "    download_results = list(executor.map(download_artifact, run_data))"
   ]
  },
  {
   "cell_type": "code",
   "execution_count": 9,
   "metadata": {},
   "outputs": [
    {
     "name": "stdout",
     "output_type": "stream",
     "text": [
      "2025-04-22 16:34:24,182 - INFO - Saved download results to /scratch/downloaded_artifacts/download_results_fixed_search-4_adb1843f9f4a4902a417056636322a7a.pkl\n"
     ]
    }
   ],
   "source": [
    "# Save download results for the processing script, including group name\n",
    "import pickle\n",
    "results_file = os.path.join(download_dir, f'download_results_{group_name}.pkl')\n",
    "with open(results_file, 'wb') as f:\n",
    "    pickle.dump(download_results, f)\n",
    "logger.info(f\"Saved download results to {results_file}\")"
   ]
  }
 ],
 "metadata": {
  "kernelspec": {
   "display_name": "Python 3",
   "language": "python",
   "name": "python3"
  },
  "language_info": {
   "codemirror_mode": {
    "name": "ipython",
    "version": 3
   },
   "file_extension": ".py",
   "mimetype": "text/x-python",
   "name": "python",
   "nbconvert_exporter": "python",
   "pygments_lexer": "ipython3",
   "version": "3.13.1"
  }
 },
 "nbformat": 4,
 "nbformat_minor": 2
}
